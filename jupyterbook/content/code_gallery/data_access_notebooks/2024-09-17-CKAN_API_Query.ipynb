{
 "cells": [
  {
   "cell_type": "code",
   "execution_count": 1,
   "metadata": {
    "colab": {
     "base_uri": "https://localhost:8080/"
    },
    "id": "AIX-_9o2P07V",
    "outputId": "09d2de4a-1f34-4518-c51f-487e14b55b66",
    "tags": [
     "remove-cell"
    ]
   },
   "outputs": [],
   "source": [
    "import subprocess\n",
    "import sys\n",
    "\n",
    "COLAB = \"google.colab\" in sys.modules\n",
    "\n",
    "\n",
    "def _install(package):\n",
    "    if COLAB:\n",
    "        ans = input(f\"Install { package }? [y/n]:\")\n",
    "        if ans.lower() in [\"y\", \"yes\"]:\n",
    "            subprocess.check_call(\n",
    "                [sys.executable, \"-m\", \"pip\", \"install\", \"--quiet\", package]\n",
    "            )\n",
    "            print(f\"{ package } installed!\")\n",
    "\n",
    "\n",
    "def _colab_install_missing_deps(deps):\n",
    "    import importlib\n",
    "\n",
    "    for dep in deps:\n",
    "        if importlib.util.find_spec(dep) is None:\n",
    "            if dep == \"iris\":\n",
    "                dep = \"scitools-iris\"\n",
    "            _install(dep)\n",
    "\n",
    "\n",
    "deps = [\"ckanapi\", \"geopandas\"]\n",
    "\n",
    "\n",
    "_colab_install_missing_deps(deps)"
   ]
  },
  {
   "cell_type": "markdown",
   "metadata": {},
   "source": [
    "# Programmatically query the IOOS Data Catalog for a specific observation type"
   ]
  },
  {
   "cell_type": "markdown",
   "metadata": {},
   "source": [
    "Created: 2024-09-17\n",
    "\n",
    "Updated: 2025-03-06\n",
    "\n",
    "Author: [Mathew Biddle](mailto:mathew.biddle@noaa.gov)"
   ]
  },
  {
   "cell_type": "markdown",
   "metadata": {
    "id": "Dl6UQcydrdtx"
   },
   "source": [
    "In this notebook we highlight the ability to search the [IOOS Data Catalog](https://data.ioos.us/) for a specific subset of observations using the [CKAN](https://ckan.org/) web accessible Application Programming Interface (API). \n",
    "\n",
    "For this example, we want to look for observations of oxygen in the water column across the IOOS Catalog. As part of the [IOOS Metadata Profile](https://ioos.github.io/ioos-metadata/), which the US IOOS community uses to publish datasets, we know that each Regional Association and DAC will be following the [Climate and Forecast (CF) Conventions](http://cfconventions.org/) and using CF `standard_names` to describe their datasets. So, with that assumption, we can search across the IOOS Data catalog for datasets with the CF standard names that contain `oxygen` and `sea_water`. Then, we can build a simple map to show the geographical distribution of those datasets."
   ]
  },
  {
   "cell_type": "markdown",
   "metadata": {
    "id": "Fz_XVNHerUus"
   },
   "source": [
    "## Build CKAN API query base.\n",
    "\n",
    "Uses https://github.com/ckan/ckanapi"
   ]
  },
  {
   "cell_type": "code",
   "execution_count": 2,
   "metadata": {
    "colab": {
     "base_uri": "https://localhost:8080/"
    },
    "id": "8ilaNW-tPtVy",
    "outputId": "9bf22340-1404-48e6-b3e8-fdc2cd6a3d23"
   },
   "outputs": [
    {
     "data": {
      "text/plain": [
       "<ckanapi.remoteckan.RemoteCKAN at 0x1e1a26f1450>"
      ]
     },
     "execution_count": 2,
     "metadata": {},
     "output_type": "execute_result"
    }
   ],
   "source": [
    "from ckanapi import RemoteCKAN\n",
    "\n",
    "ua = \"ckanapiioos/1.0 (+https://ioos.us/)\"\n",
    "\n",
    "# ioos_catalog = RemoteCKAN('https://data.ioos.us', user_agent=ua, get_only=True)\n",
    "ioos_catalog = RemoteCKAN(\"https://data.ioos.us\", user_agent=ua)\n",
    "ioos_catalog"
   ]
  },
  {
   "cell_type": "markdown",
   "metadata": {
    "id": "9DISgdWPrRd0"
   },
   "source": [
    "## What organizations are in the catalog?\n",
    "\n",
    "Tell me what organizations are there."
   ]
  },
  {
   "cell_type": "code",
   "execution_count": 3,
   "metadata": {
    "colab": {
     "base_uri": "https://localhost:8080/"
    },
    "id": "O4joF0z8Px-m",
    "outputId": "95a91429-b9aa-4350-b67c-6d0f07e4a12c"
   },
   "outputs": [
    {
     "name": "stdout",
     "output_type": "stream",
     "text": [
      "['aoos', 'caricoos', 'cdip', 'cencoos', 'comt', 'gcoos', 'glider-dac', 'glos', 'hf-radar-dac', 'ioos', 'maracoos', 'nanoos', 'neracoos', 'noaa-co-ops', 'noaa-ndbc', 'oceansites', 'pacioos', 'sccoos', 'secoora', 'unidata', 'usgs', 'us-navy']\n"
     ]
    }
   ],
   "source": [
    "orgs = ioos_catalog.action.organization_list()\n",
    "print(orgs)"
   ]
  },
  {
   "cell_type": "markdown",
   "metadata": {
    "id": "yN2ELDQZrNah"
   },
   "source": [
    "## How many datasets are we searching across?\n",
    "\n",
    "Grab all the datasets available and return the count."
   ]
  },
  {
   "cell_type": "code",
   "execution_count": 4,
   "metadata": {
    "colab": {
     "base_uri": "https://localhost:8080/"
    },
    "id": "_ov9sSwpP8VP",
    "outputId": "4d06f0ca-0ad6-4260-ecd5-52f8019652be"
   },
   "outputs": [
    {
     "data": {
      "text/plain": [
       "36168"
      ]
     },
     "execution_count": 4,
     "metadata": {},
     "output_type": "execute_result"
    }
   ],
   "source": [
    "# datasets = ioos_catalog.action.package_search(fq='+cf_standard_names:mass_concentration_of_oxygen_in_sea_water', rows=50)\n",
    "datasets = ioos_catalog.action.package_search()\n",
    "datasets[\"count\"]"
   ]
  },
  {
   "cell_type": "markdown",
   "metadata": {
    "id": "rkgC5oLfmGB1"
   },
   "source": [
    "## Grab the most recent applicable CF standard names\n",
    "\n",
    "Collect [CF standard names](https://cfconventions.org/Data/cf-standard-names/current/build/cf-standard-name-table.html) that contain `oxygen` and `sea_water` from the CF standard name list."
   ]
  },
  {
   "cell_type": "code",
   "execution_count": 5,
   "metadata": {
    "colab": {
     "base_uri": "https://localhost:8080/",
     "height": 394
    },
    "id": "enKjucgnXivM",
    "outputId": "9d2c266f-755a-42dc-9b5e-40607552c56f"
   },
   "outputs": [
    {
     "name": "stdout",
     "output_type": "stream",
     "text": [
      "CF Standard Name Table: 89\n"
     ]
    },
    {
     "data": {
      "text/html": [
       "<div>\n",
       "<style scoped>\n",
       "    .dataframe tbody tr th:only-of-type {\n",
       "        vertical-align: middle;\n",
       "    }\n",
       "\n",
       "    .dataframe tbody tr th {\n",
       "        vertical-align: top;\n",
       "    }\n",
       "\n",
       "    .dataframe thead th {\n",
       "        text-align: right;\n",
       "    }\n",
       "</style>\n",
       "<table border=\"1\" class=\"dataframe\">\n",
       "  <thead>\n",
       "    <tr style=\"text-align: right;\">\n",
       "      <th></th>\n",
       "      <th>id</th>\n",
       "      <th>description</th>\n",
       "    </tr>\n",
       "  </thead>\n",
       "  <tbody>\n",
       "    <tr>\n",
       "      <th>470</th>\n",
       "      <td>depth_at_shallowest_local_minimum_in_vertical_...</td>\n",
       "      <td>Depth is the vertical distance below the surfa...</td>\n",
       "    </tr>\n",
       "    <tr>\n",
       "      <th>626</th>\n",
       "      <td>fractional_saturation_of_oxygen_in_sea_water</td>\n",
       "      <td>Fractional saturation is the ratio of some mea...</td>\n",
       "    </tr>\n",
       "    <tr>\n",
       "      <th>1361</th>\n",
       "      <td>mass_concentration_of_oxygen_in_sea_water</td>\n",
       "      <td>Mass concentration means mass per unit volume ...</td>\n",
       "    </tr>\n",
       "    <tr>\n",
       "      <th>1729</th>\n",
       "      <td>mole_concentration_of_dissolved_molecular_oxyg...</td>\n",
       "      <td>Mole concentration means number of moles per u...</td>\n",
       "    </tr>\n",
       "    <tr>\n",
       "      <th>1730</th>\n",
       "      <td>mole_concentration_of_dissolved_molecular_oxyg...</td>\n",
       "      <td>\"Mole concentration at saturation\" means the m...</td>\n",
       "    </tr>\n",
       "    <tr>\n",
       "      <th>1731</th>\n",
       "      <td>mole_concentration_of_dissolved_molecular_oxyg...</td>\n",
       "      <td>Mole concentration means number of moles per u...</td>\n",
       "    </tr>\n",
       "    <tr>\n",
       "      <th>1829</th>\n",
       "      <td>mole_concentration_of_preformed_dissolved_mole...</td>\n",
       "      <td>\"Mole concentration\" means the number of moles...</td>\n",
       "    </tr>\n",
       "    <tr>\n",
       "      <th>2000</th>\n",
       "      <td>moles_of_oxygen_per_unit_mass_in_sea_water</td>\n",
       "      <td>moles_of_X_per_unit_mass_inY is also called \"m...</td>\n",
       "    </tr>\n",
       "    <tr>\n",
       "      <th>3217</th>\n",
       "      <td>surface_molecular_oxygen_partial_pressure_diff...</td>\n",
       "      <td>The surface called \"surface\" means the lower b...</td>\n",
       "    </tr>\n",
       "    <tr>\n",
       "      <th>3717</th>\n",
       "      <td>temperature_of_sensor_for_oxygen_in_sea_water</td>\n",
       "      <td>Temperature_of_sensor_for_oxygen_in_sea_water ...</td>\n",
       "    </tr>\n",
       "    <tr>\n",
       "      <th>4815</th>\n",
       "      <td>volume_fraction_of_oxygen_in_sea_water</td>\n",
       "      <td>\"Volume fraction\" is used in the construction ...</td>\n",
       "    </tr>\n",
       "    <tr>\n",
       "      <th>4820</th>\n",
       "      <td>volume_mixing_ratio_of_oxygen_at_stp_in_sea_water</td>\n",
       "      <td>\"ratio_of_X_to_Y\" means X/Y. \"stp\" means stand...</td>\n",
       "    </tr>\n",
       "  </tbody>\n",
       "</table>\n",
       "</div>"
      ],
      "text/plain": [
       "                                                     id  \\\n",
       "470   depth_at_shallowest_local_minimum_in_vertical_...   \n",
       "626        fractional_saturation_of_oxygen_in_sea_water   \n",
       "1361          mass_concentration_of_oxygen_in_sea_water   \n",
       "1729  mole_concentration_of_dissolved_molecular_oxyg...   \n",
       "1730  mole_concentration_of_dissolved_molecular_oxyg...   \n",
       "1731  mole_concentration_of_dissolved_molecular_oxyg...   \n",
       "1829  mole_concentration_of_preformed_dissolved_mole...   \n",
       "2000         moles_of_oxygen_per_unit_mass_in_sea_water   \n",
       "3217  surface_molecular_oxygen_partial_pressure_diff...   \n",
       "3717      temperature_of_sensor_for_oxygen_in_sea_water   \n",
       "4815             volume_fraction_of_oxygen_in_sea_water   \n",
       "4820  volume_mixing_ratio_of_oxygen_at_stp_in_sea_water   \n",
       "\n",
       "                                            description  \n",
       "470   Depth is the vertical distance below the surfa...  \n",
       "626   Fractional saturation is the ratio of some mea...  \n",
       "1361  Mass concentration means mass per unit volume ...  \n",
       "1729  Mole concentration means number of moles per u...  \n",
       "1730  \"Mole concentration at saturation\" means the m...  \n",
       "1731  Mole concentration means number of moles per u...  \n",
       "1829  \"Mole concentration\" means the number of moles...  \n",
       "2000  moles_of_X_per_unit_mass_inY is also called \"m...  \n",
       "3217  The surface called \"surface\" means the lower b...  \n",
       "3717  Temperature_of_sensor_for_oxygen_in_sea_water ...  \n",
       "4815  \"Volume fraction\" is used in the construction ...  \n",
       "4820  \"ratio_of_X_to_Y\" means X/Y. \"stp\" means stand...  "
      ]
     },
     "execution_count": 5,
     "metadata": {},
     "output_type": "execute_result"
    }
   ],
   "source": [
    "import pandas as pd\n",
    "\n",
    "url = \"https://cfconventions.org/Data/cf-standard-names/current/src/cf-standard-name-table.xml\"\n",
    "\n",
    "tbl_version = pd.read_xml(url, xpath=\"./*\")[\"version_number\"][0].astype(int)\n",
    "df = pd.read_xml(url, xpath=\"entry\")\n",
    "\n",
    "std_names = df.loc[\n",
    "    (df[\"id\"].str.contains(\"oxygen\") & df[\"id\"].str.contains(\"sea_water\"))\n",
    "]\n",
    "\n",
    "print(f\"CF Standard Name Table: {tbl_version}\")\n",
    "\n",
    "std_names[[\"id\", \"description\"]]"
   ]
  },
  {
   "cell_type": "markdown",
   "metadata": {
    "id": "G-KxN2RlpLOu"
   },
   "source": [
    "## Search across IOOS Data Catalog using CKAN API\n",
    "\n",
    "Search the IOOS Data Catalog for CF standard names that match those above."
   ]
  },
  {
   "cell_type": "code",
   "execution_count": 6,
   "metadata": {
    "colab": {
     "base_uri": "https://localhost:8080/",
     "height": 1000
    },
    "id": "xI6wTAPqXnt1",
    "outputId": "4101e59a-dd91-45d4-95d9-0b8821b0013d"
   },
   "outputs": [
    {
     "name": "stdout",
     "output_type": "stream",
     "text": [
      "depth_at_shallowest_local_minimum_in_vertical_profile_of_mole_concentration_of_dissolved_molecular_oxygen_in_sea_water\n",
      "num_results: 0, result_count: 0\n",
      "num_results: 0, result_count: 0\n",
      "fractional_saturation_of_oxygen_in_sea_water\n",
      "num_results: 5070, result_count: 0\n",
      "num_results: 5070, result_count: 500\n",
      "num_results: 5070, result_count: 1000\n",
      "num_results: 5070, result_count: 1500\n",
      "num_results: 5070, result_count: 2000\n",
      "num_results: 5070, result_count: 2500\n",
      "num_results: 5070, result_count: 3000\n",
      "num_results: 5070, result_count: 3500\n",
      "num_results: 5070, result_count: 4000\n",
      "num_results: 5070, result_count: 4500\n",
      "num_results: 5070, result_count: 5000\n",
      "num_results: 5070, result_count: 5070\n",
      "mass_concentration_of_oxygen_in_sea_water\n",
      "num_results: 4052, result_count: 0\n",
      "num_results: 4052, result_count: 500\n",
      "num_results: 4052, result_count: 1000\n",
      "num_results: 4052, result_count: 1500\n",
      "num_results: 4052, result_count: 2000\n",
      "num_results: 4052, result_count: 2500\n",
      "num_results: 4052, result_count: 3000\n",
      "num_results: 4052, result_count: 3500\n",
      "num_results: 4052, result_count: 4000\n",
      "num_results: 4052, result_count: 4052\n",
      "mole_concentration_of_dissolved_molecular_oxygen_in_sea_water\n",
      "num_results: 345, result_count: 0\n",
      "num_results: 345, result_count: 345\n",
      "mole_concentration_of_dissolved_molecular_oxygen_in_sea_water_at_saturation\n",
      "num_results: 0, result_count: 0\n",
      "num_results: 0, result_count: 0\n",
      "mole_concentration_of_dissolved_molecular_oxygen_in_sea_water_at_shallowest_local_minimum_in_vertical_profile\n",
      "num_results: 0, result_count: 0\n",
      "num_results: 0, result_count: 0\n",
      "mole_concentration_of_preformed_dissolved_molecular_oxygen_in_sea_water\n",
      "num_results: 0, result_count: 0\n",
      "num_results: 0, result_count: 0\n",
      "moles_of_oxygen_per_unit_mass_in_sea_water\n",
      "num_results: 786, result_count: 0\n",
      "num_results: 786, result_count: 500\n",
      "num_results: 786, result_count: 786\n",
      "surface_molecular_oxygen_partial_pressure_difference_between_sea_water_and_air\n",
      "num_results: 0, result_count: 0\n",
      "num_results: 0, result_count: 0\n",
      "temperature_of_sensor_for_oxygen_in_sea_water\n",
      "num_results: 208, result_count: 0\n",
      "num_results: 208, result_count: 208\n",
      "volume_fraction_of_oxygen_in_sea_water\n",
      "num_results: 2161, result_count: 0\n",
      "num_results: 2161, result_count: 500\n",
      "num_results: 2161, result_count: 1000\n",
      "num_results: 2161, result_count: 1500\n",
      "num_results: 2161, result_count: 2000\n",
      "num_results: 2161, result_count: 2161\n",
      "volume_mixing_ratio_of_oxygen_at_stp_in_sea_water\n",
      "num_results: 0, result_count: 0\n",
      "num_results: 0, result_count: 0\n"
     ]
    },
    {
     "data": {
      "text/plain": [
       "(12622, 4)"
      ]
     },
     "execution_count": 6,
     "metadata": {},
     "output_type": "execute_result"
    }
   ],
   "source": [
    "import time\n",
    "\n",
    "from ckanapi import RemoteCKAN\n",
    "from ckanapi.errors import CKANAPIError\n",
    "\n",
    "ua = \"ckanapiioos/1.0 (+https://ioos.us/)\"\n",
    "\n",
    "ioos_catalog = RemoteCKAN(\"https://data.ioos.us\", user_agent=ua)\n",
    "ioos_catalog\n",
    "\n",
    "df_out = pd.DataFrame()\n",
    "\n",
    "for std_name in std_names[\"id\"]:\n",
    "\n",
    "    print(std_name)\n",
    "\n",
    "    fq = f\"+cf_standard_names:{std_name}\"\n",
    "\n",
    "    result_count = 0\n",
    "\n",
    "    df_std_name = pd.DataFrame()\n",
    "    \n",
    "    while True:\n",
    "        try:\n",
    "            datasets = ioos_catalog.action.package_search(fq=fq, rows=500, start=result_count)\n",
    "        except CKANAPIError:\n",
    "            continue\n",
    "\n",
    "        num_results = datasets[\"count\"]\n",
    "\n",
    "        print(f\"num_results: {num_results}, result_count: {result_count}\")\n",
    "\n",
    "        for dataset in datasets[\"results\"]:\n",
    "            # print(dataset['title'])\n",
    "            df = pd.DataFrame(\n",
    "                {\n",
    "                    \"title\": [dataset[\"title\"]],\n",
    "                    \"url\": [dataset[\"resources\"][0][\"url\"]],\n",
    "                    \"org\": [dataset[\"organization\"][\"title\"]],\n",
    "                    \"std_name\": std_name,\n",
    "                }\n",
    "            )\n",
    "\n",
    "            df_std_name = pd.concat([df_std_name, df], ignore_index=True)\n",
    "            result_count = df_std_name.shape[0]\n",
    "\n",
    "        time.sleep(1)\n",
    "\n",
    "        if result_count >= num_results:\n",
    "            print(f\"num_results: {num_results}, result_count: {result_count}\")\n",
    "            break\n",
    "            \n",
    "    df_out = pd.concat([df_out, df_std_name], ignore_index=True)\n",
    "    \n",
    "    print(f\"num_results: {num_results}, result_count: {result_count}, total_result_count: {df_out.shape[0]}\")\n",
    "    \n",
    "df_out.shape"
   ]
  },
  {
   "cell_type": "markdown",
   "metadata": {
    "id": "A0atXi0kEnbr"
   },
   "source": [
    "## Do some summarizing of the responses\n",
    "\n",
    "The DataFrame of the matching datasets is quite large. I wonder what the distribution of those datasets across organizations looks like? Let's use [pandas.groupby()](https://pandas.pydata.org/docs/reference/api/pandas.DataFrame.groupby.html) to generate some statistics about how many datasets are provided, matching our criteria, by which organization."
   ]
  },
  {
   "cell_type": "code",
   "execution_count": 7,
   "metadata": {
    "colab": {
     "base_uri": "https://localhost:8080/",
     "height": 363
    },
    "id": "K3tcW2iyDpFd",
    "outputId": "aacb7d85-9c9c-4fe8-ba2e-74d805a7deb5"
   },
   "outputs": [
    {
     "data": {
      "text/html": [
       "<div>\n",
       "<style scoped>\n",
       "    .dataframe tbody tr th:only-of-type {\n",
       "        vertical-align: middle;\n",
       "    }\n",
       "\n",
       "    .dataframe tbody tr th {\n",
       "        vertical-align: top;\n",
       "    }\n",
       "\n",
       "    .dataframe thead th {\n",
       "        text-align: right;\n",
       "    }\n",
       "</style>\n",
       "<table border=\"1\" class=\"dataframe\">\n",
       "  <thead>\n",
       "    <tr style=\"text-align: right;\">\n",
       "      <th></th>\n",
       "      <th>title</th>\n",
       "      <th>url</th>\n",
       "      <th>std_name</th>\n",
       "    </tr>\n",
       "    <tr>\n",
       "      <th>org</th>\n",
       "      <th></th>\n",
       "      <th></th>\n",
       "      <th></th>\n",
       "    </tr>\n",
       "  </thead>\n",
       "  <tbody>\n",
       "    <tr>\n",
       "      <th>AOOS</th>\n",
       "      <td>28</td>\n",
       "      <td>28</td>\n",
       "      <td>28</td>\n",
       "    </tr>\n",
       "    <tr>\n",
       "      <th>CeNCOOS</th>\n",
       "      <td>414</td>\n",
       "      <td>414</td>\n",
       "      <td>414</td>\n",
       "    </tr>\n",
       "    <tr>\n",
       "      <th>GCOOS</th>\n",
       "      <td>9547</td>\n",
       "      <td>9547</td>\n",
       "      <td>9547</td>\n",
       "    </tr>\n",
       "    <tr>\n",
       "      <th>Glider DAC</th>\n",
       "      <td>2204</td>\n",
       "      <td>2204</td>\n",
       "      <td>2204</td>\n",
       "    </tr>\n",
       "    <tr>\n",
       "      <th>MARACOOS</th>\n",
       "      <td>183</td>\n",
       "      <td>183</td>\n",
       "      <td>183</td>\n",
       "    </tr>\n",
       "    <tr>\n",
       "      <th>NANOOS</th>\n",
       "      <td>4</td>\n",
       "      <td>4</td>\n",
       "      <td>4</td>\n",
       "    </tr>\n",
       "    <tr>\n",
       "      <th>NERACOOS</th>\n",
       "      <td>48</td>\n",
       "      <td>48</td>\n",
       "      <td>48</td>\n",
       "    </tr>\n",
       "    <tr>\n",
       "      <th>PacIOOS</th>\n",
       "      <td>16</td>\n",
       "      <td>16</td>\n",
       "      <td>16</td>\n",
       "    </tr>\n",
       "    <tr>\n",
       "      <th>SCCOOS</th>\n",
       "      <td>1</td>\n",
       "      <td>1</td>\n",
       "      <td>1</td>\n",
       "    </tr>\n",
       "    <tr>\n",
       "      <th>SECOORA</th>\n",
       "      <td>177</td>\n",
       "      <td>177</td>\n",
       "      <td>177</td>\n",
       "    </tr>\n",
       "  </tbody>\n",
       "</table>\n",
       "</div>"
      ],
      "text/plain": [
       "            title   url  std_name\n",
       "org                              \n",
       "AOOS           28    28        28\n",
       "CeNCOOS       414   414       414\n",
       "GCOOS        9547  9547      9547\n",
       "Glider DAC   2204  2204      2204\n",
       "MARACOOS      183   183       183\n",
       "NANOOS          4     4         4\n",
       "NERACOOS       48    48        48\n",
       "PacIOOS        16    16        16\n",
       "SCCOOS          1     1         1\n",
       "SECOORA       177   177       177"
      ]
     },
     "execution_count": 7,
     "metadata": {},
     "output_type": "execute_result"
    }
   ],
   "source": [
    "df_out.groupby(by=\"org\").count()"
   ]
  },
  {
   "cell_type": "markdown",
   "metadata": {
    "id": "t9PwQW_7Gj0a"
   },
   "source": [
    "## Drop the Glider DAC data\n",
    "\n",
    "Glider DAC data are already making it to NCEI, so we can drop those entries."
   ]
  },
  {
   "cell_type": "code",
   "execution_count": 8,
   "metadata": {
    "colab": {
     "base_uri": "https://localhost:8080/",
     "height": 423
    },
    "id": "u0y8KMRYGhl9",
    "outputId": "21f54f00-02e1-497b-a45e-83ee0004ca4b"
   },
   "outputs": [
    {
     "data": {
      "text/html": [
       "<div>\n",
       "<style scoped>\n",
       "    .dataframe tbody tr th:only-of-type {\n",
       "        vertical-align: middle;\n",
       "    }\n",
       "\n",
       "    .dataframe tbody tr th {\n",
       "        vertical-align: top;\n",
       "    }\n",
       "\n",
       "    .dataframe thead th {\n",
       "        text-align: right;\n",
       "    }\n",
       "</style>\n",
       "<table border=\"1\" class=\"dataframe\">\n",
       "  <thead>\n",
       "    <tr style=\"text-align: right;\">\n",
       "      <th></th>\n",
       "      <th>title</th>\n",
       "      <th>url</th>\n",
       "      <th>std_name</th>\n",
       "    </tr>\n",
       "    <tr>\n",
       "      <th>org</th>\n",
       "      <th></th>\n",
       "      <th></th>\n",
       "      <th></th>\n",
       "    </tr>\n",
       "  </thead>\n",
       "  <tbody>\n",
       "    <tr>\n",
       "      <th>AOOS</th>\n",
       "      <td>28</td>\n",
       "      <td>28</td>\n",
       "      <td>28</td>\n",
       "    </tr>\n",
       "    <tr>\n",
       "      <th>CeNCOOS</th>\n",
       "      <td>414</td>\n",
       "      <td>414</td>\n",
       "      <td>414</td>\n",
       "    </tr>\n",
       "    <tr>\n",
       "      <th>GCOOS</th>\n",
       "      <td>9547</td>\n",
       "      <td>9547</td>\n",
       "      <td>9547</td>\n",
       "    </tr>\n",
       "    <tr>\n",
       "      <th>MARACOOS</th>\n",
       "      <td>183</td>\n",
       "      <td>183</td>\n",
       "      <td>183</td>\n",
       "    </tr>\n",
       "    <tr>\n",
       "      <th>NANOOS</th>\n",
       "      <td>4</td>\n",
       "      <td>4</td>\n",
       "      <td>4</td>\n",
       "    </tr>\n",
       "    <tr>\n",
       "      <th>NERACOOS</th>\n",
       "      <td>48</td>\n",
       "      <td>48</td>\n",
       "      <td>48</td>\n",
       "    </tr>\n",
       "    <tr>\n",
       "      <th>PacIOOS</th>\n",
       "      <td>16</td>\n",
       "      <td>16</td>\n",
       "      <td>16</td>\n",
       "    </tr>\n",
       "    <tr>\n",
       "      <th>SCCOOS</th>\n",
       "      <td>1</td>\n",
       "      <td>1</td>\n",
       "      <td>1</td>\n",
       "    </tr>\n",
       "    <tr>\n",
       "      <th>SECOORA</th>\n",
       "      <td>177</td>\n",
       "      <td>177</td>\n",
       "      <td>177</td>\n",
       "    </tr>\n",
       "  </tbody>\n",
       "</table>\n",
       "</div>"
      ],
      "text/plain": [
       "          title   url  std_name\n",
       "org                            \n",
       "AOOS         28    28        28\n",
       "CeNCOOS     414   414       414\n",
       "GCOOS      9547  9547      9547\n",
       "MARACOOS    183   183       183\n",
       "NANOOS        4     4         4\n",
       "NERACOOS     48    48        48\n",
       "PacIOOS      16    16        16\n",
       "SCCOOS        1     1         1\n",
       "SECOORA     177   177       177"
      ]
     },
     "execution_count": 8,
     "metadata": {},
     "output_type": "execute_result"
    }
   ],
   "source": [
    "df_out_no_glider = df_out.loc[~df_out[\"org\"].str.contains(\"Glider DAC\")]\n",
    "df_out_no_glider.groupby(by=\"org\").count()"
   ]
  },
  {
   "cell_type": "markdown",
   "metadata": {
    "id": "yVz8vdNkEt6X"
   },
   "source": [
    "## Digging into some of the nuances\n",
    "\n",
    "There are still quite a lot of datasets from each organization. As our search above looked for each CF standard_name across all the datasets, there might be duplicate datasets which have multiple matching CF standard names. ie. one dataset might have both `mass_concentration_of_oxygen_in_sea_water` and `fractional_saturation_of_oxygen_in_sea_water`, but we only need to know that it's one dataset.\n",
    "\n",
    "As we only need to know about the unique datasets, let's count how many unique dataset urls we have."
   ]
  },
  {
   "cell_type": "code",
   "execution_count": 9,
   "metadata": {
    "colab": {
     "base_uri": "https://localhost:8080/",
     "height": 455
    },
    "id": "0wygCC8X5Tpc",
    "outputId": "48be015f-7e8d-45af-b2cd-e7a37fa6bf86"
   },
   "outputs": [
    {
     "data": {
      "text/html": [
       "<div>\n",
       "<style scoped>\n",
       "    .dataframe tbody tr th:only-of-type {\n",
       "        vertical-align: middle;\n",
       "    }\n",
       "\n",
       "    .dataframe tbody tr th {\n",
       "        vertical-align: top;\n",
       "    }\n",
       "\n",
       "    .dataframe thead th {\n",
       "        text-align: right;\n",
       "    }\n",
       "</style>\n",
       "<table border=\"1\" class=\"dataframe\">\n",
       "  <thead>\n",
       "    <tr style=\"text-align: right;\">\n",
       "      <th></th>\n",
       "      <th>title</th>\n",
       "      <th>org</th>\n",
       "      <th>std_name</th>\n",
       "    </tr>\n",
       "    <tr>\n",
       "      <th>url</th>\n",
       "      <th></th>\n",
       "      <th></th>\n",
       "      <th></th>\n",
       "    </tr>\n",
       "  </thead>\n",
       "  <tbody>\n",
       "    <tr>\n",
       "      <th>http://www.humboldt.edu</th>\n",
       "      <td>4</td>\n",
       "      <td>4</td>\n",
       "      <td>4</td>\n",
       "    </tr>\n",
       "    <tr>\n",
       "      <th>http://www.neracoos.org/erddap/tabledap/A01_aanderaa_o2_all</th>\n",
       "      <td>1</td>\n",
       "      <td>1</td>\n",
       "      <td>1</td>\n",
       "    </tr>\n",
       "    <tr>\n",
       "      <th>http://www.neracoos.org/erddap/tabledap/A01_optode_all</th>\n",
       "      <td>2</td>\n",
       "      <td>2</td>\n",
       "      <td>2</td>\n",
       "    </tr>\n",
       "    <tr>\n",
       "      <th>http://www.neracoos.org/erddap/tabledap/A01_sbe16_disox_all</th>\n",
       "      <td>2</td>\n",
       "      <td>2</td>\n",
       "      <td>2</td>\n",
       "    </tr>\n",
       "    <tr>\n",
       "      <th>http://www.neracoos.org/erddap/tabledap/C02_sbe16_disox_all</th>\n",
       "      <td>2</td>\n",
       "      <td>2</td>\n",
       "      <td>2</td>\n",
       "    </tr>\n",
       "    <tr>\n",
       "      <th>...</th>\n",
       "      <td>...</td>\n",
       "      <td>...</td>\n",
       "      <td>...</td>\n",
       "    </tr>\n",
       "    <tr>\n",
       "      <th>https://pae-paha.pacioos.hawaii.edu/erddap/tabledap/nss_012</th>\n",
       "      <td>2</td>\n",
       "      <td>2</td>\n",
       "      <td>2</td>\n",
       "    </tr>\n",
       "    <tr>\n",
       "      <th>https://pae-paha.pacioos.hawaii.edu/erddap/tabledap/nss_013</th>\n",
       "      <td>2</td>\n",
       "      <td>2</td>\n",
       "      <td>2</td>\n",
       "    </tr>\n",
       "    <tr>\n",
       "      <th>https://pae-paha.pacioos.hawaii.edu/erddap/tabledap/wqb_04</th>\n",
       "      <td>2</td>\n",
       "      <td>2</td>\n",
       "      <td>2</td>\n",
       "    </tr>\n",
       "    <tr>\n",
       "      <th>https://pae-paha.pacioos.hawaii.edu/erddap/tabledap/wqb_05</th>\n",
       "      <td>2</td>\n",
       "      <td>2</td>\n",
       "      <td>2</td>\n",
       "    </tr>\n",
       "    <tr>\n",
       "      <th>https://www.nodc.noaa.gov/ocads/oceans/time_series_moorings.html</th>\n",
       "      <td>4</td>\n",
       "      <td>4</td>\n",
       "      <td>4</td>\n",
       "    </tr>\n",
       "  </tbody>\n",
       "</table>\n",
       "<p>7654 rows × 3 columns</p>\n",
       "</div>"
      ],
      "text/plain": [
       "                                                    title  org  std_name\n",
       "url                                                                     \n",
       "http://www.humboldt.edu                                 4    4         4\n",
       "http://www.neracoos.org/erddap/tabledap/A01_aan...      1    1         1\n",
       "http://www.neracoos.org/erddap/tabledap/A01_opt...      2    2         2\n",
       "http://www.neracoos.org/erddap/tabledap/A01_sbe...      2    2         2\n",
       "http://www.neracoos.org/erddap/tabledap/C02_sbe...      2    2         2\n",
       "...                                                   ...  ...       ...\n",
       "https://pae-paha.pacioos.hawaii.edu/erddap/tabl...      2    2         2\n",
       "https://pae-paha.pacioos.hawaii.edu/erddap/tabl...      2    2         2\n",
       "https://pae-paha.pacioos.hawaii.edu/erddap/tabl...      2    2         2\n",
       "https://pae-paha.pacioos.hawaii.edu/erddap/tabl...      2    2         2\n",
       "https://www.nodc.noaa.gov/ocads/oceans/time_ser...      4    4         4\n",
       "\n",
       "[7654 rows x 3 columns]"
      ]
     },
     "execution_count": 9,
     "metadata": {},
     "output_type": "execute_result"
    }
   ],
   "source": [
    "df_out_no_glider.groupby(by=\"url\").count()"
   ]
  },
  {
   "cell_type": "markdown",
   "metadata": {},
   "source": [
    "## Drop duplicate records\n",
    "\n",
    "As you can see above, there are a lot of duplicate dataset urls which we can simplify down. We identify duplicates by looking at the URL, which should be unique for each dataset, and drop the duplicates."
   ]
  },
  {
   "cell_type": "code",
   "execution_count": 10,
   "metadata": {
    "colab": {
     "base_uri": "https://localhost:8080/",
     "height": 423
    },
    "id": "H6rQj51d7cAm",
    "outputId": "0942f042-834a-415c-e276-ad0e89e732ed"
   },
   "outputs": [
    {
     "data": {
      "text/html": [
       "<div>\n",
       "<style scoped>\n",
       "    .dataframe tbody tr th:only-of-type {\n",
       "        vertical-align: middle;\n",
       "    }\n",
       "\n",
       "    .dataframe tbody tr th {\n",
       "        vertical-align: top;\n",
       "    }\n",
       "\n",
       "    .dataframe thead th {\n",
       "        text-align: right;\n",
       "    }\n",
       "</style>\n",
       "<table border=\"1\" class=\"dataframe\">\n",
       "  <thead>\n",
       "    <tr style=\"text-align: right;\">\n",
       "      <th></th>\n",
       "      <th>title</th>\n",
       "      <th>url</th>\n",
       "      <th>org</th>\n",
       "      <th>std_name</th>\n",
       "    </tr>\n",
       "  </thead>\n",
       "  <tbody>\n",
       "    <tr>\n",
       "      <th>856</th>\n",
       "      <td>Great Bay,NH. Great Bay WQ station</td>\n",
       "      <td>http://www.neracoos.org/erddap/tabledap/GRBGBW...</td>\n",
       "      <td>NERACOOS</td>\n",
       "      <td>fractional_saturation_of_oxygen_in_sea_water</td>\n",
       "    </tr>\n",
       "    <tr>\n",
       "      <th>857</th>\n",
       "      <td>Great Bay,NH. Oyster River WQ station</td>\n",
       "      <td>http://www.neracoos.org/erddap/tabledap/GRBORW...</td>\n",
       "      <td>NERACOOS</td>\n",
       "      <td>fractional_saturation_of_oxygen_in_sea_water</td>\n",
       "    </tr>\n",
       "    <tr>\n",
       "      <th>863</th>\n",
       "      <td>Great Bay,NH. Squamscott River WQ station</td>\n",
       "      <td>http://www.neracoos.org/erddap/tabledap/GRBSQW...</td>\n",
       "      <td>NERACOOS</td>\n",
       "      <td>fractional_saturation_of_oxygen_in_sea_water</td>\n",
       "    </tr>\n",
       "    <tr>\n",
       "      <th>867</th>\n",
       "      <td>Great Bay,NH. Lamprey River WQ station</td>\n",
       "      <td>http://www.neracoos.org/erddap/tabledap/GRBLRW...</td>\n",
       "      <td>NERACOOS</td>\n",
       "      <td>fractional_saturation_of_oxygen_in_sea_water</td>\n",
       "    </tr>\n",
       "    <tr>\n",
       "      <th>989</th>\n",
       "      <td>Monterey Bay Aquarium Seawater Intake</td>\n",
       "      <td>https://erddap.cencoos.org/erddap/tabledap/mon...</td>\n",
       "      <td>CeNCOOS</td>\n",
       "      <td>fractional_saturation_of_oxygen_in_sea_water</td>\n",
       "    </tr>\n",
       "    <tr>\n",
       "      <th>...</th>\n",
       "      <td>...</td>\n",
       "      <td>...</td>\n",
       "      <td>...</td>\n",
       "      <td>...</td>\n",
       "    </tr>\n",
       "    <tr>\n",
       "      <th>12617</th>\n",
       "      <td>Walton-Smith CTD, WS1102, WS1102_028, 2011-02-...</td>\n",
       "      <td>https://gcoos5.geos.tamu.edu/erddap/tabledap/W...</td>\n",
       "      <td>GCOOS</td>\n",
       "      <td>volume_fraction_of_oxygen_in_sea_water</td>\n",
       "    </tr>\n",
       "    <tr>\n",
       "      <th>12618</th>\n",
       "      <td>Walton-Smith CTD, WS0718, WS0718_WS0718_056, 2...</td>\n",
       "      <td>https://gcoos5.geos.tamu.edu/erddap/tabledap/W...</td>\n",
       "      <td>GCOOS</td>\n",
       "      <td>volume_fraction_of_oxygen_in_sea_water</td>\n",
       "    </tr>\n",
       "    <tr>\n",
       "      <th>12619</th>\n",
       "      <td>Walton-Smith CTD, WS0802, WS0802_WS0802_Wet_40...</td>\n",
       "      <td>https://gcoos5.geos.tamu.edu/erddap/tabledap/W...</td>\n",
       "      <td>GCOOS</td>\n",
       "      <td>volume_fraction_of_oxygen_in_sea_water</td>\n",
       "    </tr>\n",
       "    <tr>\n",
       "      <th>12620</th>\n",
       "      <td>Walton-Smith CTD, WS20342, WS20342_WS20342_stn...</td>\n",
       "      <td>https://gcoos5.geos.tamu.edu/erddap/tabledap/W...</td>\n",
       "      <td>GCOOS</td>\n",
       "      <td>volume_fraction_of_oxygen_in_sea_water</td>\n",
       "    </tr>\n",
       "    <tr>\n",
       "      <th>12621</th>\n",
       "      <td>Walton-Smith CTD, WS22141, WS22141_WS22141_Stn...</td>\n",
       "      <td>https://gcoos5.geos.tamu.edu/erddap/tabledap/W...</td>\n",
       "      <td>GCOOS</td>\n",
       "      <td>volume_fraction_of_oxygen_in_sea_water</td>\n",
       "    </tr>\n",
       "  </tbody>\n",
       "</table>\n",
       "<p>7654 rows × 4 columns</p>\n",
       "</div>"
      ],
      "text/plain": [
       "                                                   title  \\\n",
       "856                   Great Bay,NH. Great Bay WQ station   \n",
       "857                Great Bay,NH. Oyster River WQ station   \n",
       "863            Great Bay,NH. Squamscott River WQ station   \n",
       "867               Great Bay,NH. Lamprey River WQ station   \n",
       "989                Monterey Bay Aquarium Seawater Intake   \n",
       "...                                                  ...   \n",
       "12617  Walton-Smith CTD, WS1102, WS1102_028, 2011-02-...   \n",
       "12618  Walton-Smith CTD, WS0718, WS0718_WS0718_056, 2...   \n",
       "12619  Walton-Smith CTD, WS0802, WS0802_WS0802_Wet_40...   \n",
       "12620  Walton-Smith CTD, WS20342, WS20342_WS20342_stn...   \n",
       "12621  Walton-Smith CTD, WS22141, WS22141_WS22141_Stn...   \n",
       "\n",
       "                                                     url       org  \\\n",
       "856    http://www.neracoos.org/erddap/tabledap/GRBGBW...  NERACOOS   \n",
       "857    http://www.neracoos.org/erddap/tabledap/GRBORW...  NERACOOS   \n",
       "863    http://www.neracoos.org/erddap/tabledap/GRBSQW...  NERACOOS   \n",
       "867    http://www.neracoos.org/erddap/tabledap/GRBLRW...  NERACOOS   \n",
       "989    https://erddap.cencoos.org/erddap/tabledap/mon...   CeNCOOS   \n",
       "...                                                  ...       ...   \n",
       "12617  https://gcoos5.geos.tamu.edu/erddap/tabledap/W...     GCOOS   \n",
       "12618  https://gcoos5.geos.tamu.edu/erddap/tabledap/W...     GCOOS   \n",
       "12619  https://gcoos5.geos.tamu.edu/erddap/tabledap/W...     GCOOS   \n",
       "12620  https://gcoos5.geos.tamu.edu/erddap/tabledap/W...     GCOOS   \n",
       "12621  https://gcoos5.geos.tamu.edu/erddap/tabledap/W...     GCOOS   \n",
       "\n",
       "                                           std_name  \n",
       "856    fractional_saturation_of_oxygen_in_sea_water  \n",
       "857    fractional_saturation_of_oxygen_in_sea_water  \n",
       "863    fractional_saturation_of_oxygen_in_sea_water  \n",
       "867    fractional_saturation_of_oxygen_in_sea_water  \n",
       "989    fractional_saturation_of_oxygen_in_sea_water  \n",
       "...                                             ...  \n",
       "12617        volume_fraction_of_oxygen_in_sea_water  \n",
       "12618        volume_fraction_of_oxygen_in_sea_water  \n",
       "12619        volume_fraction_of_oxygen_in_sea_water  \n",
       "12620        volume_fraction_of_oxygen_in_sea_water  \n",
       "12621        volume_fraction_of_oxygen_in_sea_water  \n",
       "\n",
       "[7654 rows x 4 columns]"
      ]
     },
     "execution_count": 10,
     "metadata": {},
     "output_type": "execute_result"
    }
   ],
   "source": [
    "df_out_nodups_no_glider = df_out_no_glider.drop_duplicates(subset=[\"url\"], keep=\"last\")\n",
    "\n",
    "df_out_nodups_no_glider"
   ]
  },
  {
   "cell_type": "markdown",
   "metadata": {
    "id": "UDsBe8k9E-47"
   },
   "source": [
    "## How many endpoints are not ERDDAP?\n",
    "\n",
    "Now we have a unique list of datasets which match our CF standard name criteria. Since we have some background in using [ERDDAP to query for data](https://ioos.github.io/ioos_code_lab/content/code_gallery/data_access_notebooks/2017-03-21-ERDDAP_IOOS_Sensor_Map.html), let's take a look at what other endpoints each of the datasets are using.\n",
    "\n",
    "_Hint: We know ERDDAP systems typically have `erddap` in their urls._"
   ]
  },
  {
   "cell_type": "code",
   "execution_count": 11,
   "metadata": {
    "colab": {
     "base_uri": "https://localhost:8080/",
     "height": 423
    },
    "id": "saDpOVP5778u",
    "outputId": "f0a8f4bb-e77a-4020-b295-f66cfd57fb64"
   },
   "outputs": [
    {
     "data": {
      "text/html": [
       "<div>\n",
       "<style scoped>\n",
       "    .dataframe tbody tr th:only-of-type {\n",
       "        vertical-align: middle;\n",
       "    }\n",
       "\n",
       "    .dataframe tbody tr th {\n",
       "        vertical-align: top;\n",
       "    }\n",
       "\n",
       "    .dataframe thead th {\n",
       "        text-align: right;\n",
       "    }\n",
       "</style>\n",
       "<table border=\"1\" class=\"dataframe\">\n",
       "  <thead>\n",
       "    <tr style=\"text-align: right;\">\n",
       "      <th></th>\n",
       "      <th>title</th>\n",
       "      <th>url</th>\n",
       "      <th>org</th>\n",
       "      <th>std_name</th>\n",
       "    </tr>\n",
       "  </thead>\n",
       "  <tbody>\n",
       "    <tr>\n",
       "      <th>9001</th>\n",
       "      <td>CeNCOOS in situ water monitoring data at Trini...</td>\n",
       "      <td>http://www.humboldt.edu</td>\n",
       "      <td>CeNCOOS</td>\n",
       "      <td>mass_concentration_of_oxygen_in_sea_water</td>\n",
       "    </tr>\n",
       "    <tr>\n",
       "      <th>9081</th>\n",
       "      <td>MAPCO2 Buoy: Maihi Bay, Hawaii Island, Hawaii</td>\n",
       "      <td>https://www.nodc.noaa.gov/ocads/oceans/time_se...</td>\n",
       "      <td>PacIOOS</td>\n",
       "      <td>mass_concentration_of_oxygen_in_sea_water</td>\n",
       "    </tr>\n",
       "  </tbody>\n",
       "</table>\n",
       "</div>"
      ],
      "text/plain": [
       "                                                  title  \\\n",
       "9001  CeNCOOS in situ water monitoring data at Trini...   \n",
       "9081      MAPCO2 Buoy: Maihi Bay, Hawaii Island, Hawaii   \n",
       "\n",
       "                                                    url      org  \\\n",
       "9001                            http://www.humboldt.edu  CeNCOOS   \n",
       "9081  https://www.nodc.noaa.gov/ocads/oceans/time_se...  PacIOOS   \n",
       "\n",
       "                                       std_name  \n",
       "9001  mass_concentration_of_oxygen_in_sea_water  \n",
       "9081  mass_concentration_of_oxygen_in_sea_water  "
      ]
     },
     "execution_count": 11,
     "metadata": {},
     "output_type": "execute_result"
    }
   ],
   "source": [
    "df_out_nodups_no_glider.loc[~df_out_nodups_no_glider[\"url\"].str.contains(\"erddap\")]"
   ]
  },
  {
   "cell_type": "markdown",
   "metadata": {
    "id": "f_PGG_wsHYwF"
   },
   "source": [
    "## What's the remaining distribution?\n",
    "\n",
    "This is the distribution of unique datasets found in the IOOS Data Catalog which have a CF Standard Name that contains the work `oxygen` and `sea_water`. We've dropped out the Glider DAC datasets as, theoretically, those are in NCEI already."
   ]
  },
  {
   "cell_type": "code",
   "execution_count": 12,
   "metadata": {
    "colab": {
     "base_uri": "https://localhost:8080/",
     "height": 331
    },
    "id": "fRHL-7lPGwOL",
    "outputId": "b72e8a38-1e63-44b1-9644-5eaa7df9abc6"
   },
   "outputs": [
    {
     "data": {
      "text/html": [
       "<div>\n",
       "<style scoped>\n",
       "    .dataframe tbody tr th:only-of-type {\n",
       "        vertical-align: middle;\n",
       "    }\n",
       "\n",
       "    .dataframe tbody tr th {\n",
       "        vertical-align: top;\n",
       "    }\n",
       "\n",
       "    .dataframe thead th {\n",
       "        text-align: right;\n",
       "    }\n",
       "</style>\n",
       "<table border=\"1\" class=\"dataframe\">\n",
       "  <thead>\n",
       "    <tr style=\"text-align: right;\">\n",
       "      <th></th>\n",
       "      <th>title</th>\n",
       "      <th>url</th>\n",
       "      <th>std_name</th>\n",
       "    </tr>\n",
       "    <tr>\n",
       "      <th>org</th>\n",
       "      <th></th>\n",
       "      <th></th>\n",
       "      <th></th>\n",
       "    </tr>\n",
       "  </thead>\n",
       "  <tbody>\n",
       "    <tr>\n",
       "      <th>AOOS</th>\n",
       "      <td>13</td>\n",
       "      <td>13</td>\n",
       "      <td>13</td>\n",
       "    </tr>\n",
       "    <tr>\n",
       "      <th>CeNCOOS</th>\n",
       "      <td>215</td>\n",
       "      <td>215</td>\n",
       "      <td>215</td>\n",
       "    </tr>\n",
       "    <tr>\n",
       "      <th>GCOOS</th>\n",
       "      <td>7152</td>\n",
       "      <td>7152</td>\n",
       "      <td>7152</td>\n",
       "    </tr>\n",
       "    <tr>\n",
       "      <th>MARACOOS</th>\n",
       "      <td>139</td>\n",
       "      <td>139</td>\n",
       "      <td>139</td>\n",
       "    </tr>\n",
       "    <tr>\n",
       "      <th>NANOOS</th>\n",
       "      <td>2</td>\n",
       "      <td>2</td>\n",
       "      <td>2</td>\n",
       "    </tr>\n",
       "    <tr>\n",
       "      <th>NERACOOS</th>\n",
       "      <td>32</td>\n",
       "      <td>32</td>\n",
       "      <td>32</td>\n",
       "    </tr>\n",
       "    <tr>\n",
       "      <th>PacIOOS</th>\n",
       "      <td>7</td>\n",
       "      <td>7</td>\n",
       "      <td>7</td>\n",
       "    </tr>\n",
       "    <tr>\n",
       "      <th>SCCOOS</th>\n",
       "      <td>1</td>\n",
       "      <td>1</td>\n",
       "      <td>1</td>\n",
       "    </tr>\n",
       "    <tr>\n",
       "      <th>SECOORA</th>\n",
       "      <td>93</td>\n",
       "      <td>93</td>\n",
       "      <td>93</td>\n",
       "    </tr>\n",
       "  </tbody>\n",
       "</table>\n",
       "</div>"
      ],
      "text/plain": [
       "          title   url  std_name\n",
       "org                            \n",
       "AOOS         13    13        13\n",
       "CeNCOOS     215   215       215\n",
       "GCOOS      7152  7152      7152\n",
       "MARACOOS    139   139       139\n",
       "NANOOS        2     2         2\n",
       "NERACOOS     32    32        32\n",
       "PacIOOS       7     7         7\n",
       "SCCOOS        1     1         1\n",
       "SECOORA      93    93        93"
      ]
     },
     "execution_count": 12,
     "metadata": {},
     "output_type": "execute_result"
    }
   ],
   "source": [
    "df_out_nodups_no_glider.groupby(by=\"org\").count()"
   ]
  },
  {
   "cell_type": "markdown",
   "metadata": {},
   "source": [
    "## Ingest data\n",
    "\n",
    "Let's rip through all of the datasets, grab the data as a table (including units) and make a monster dictionary. This takes a bit."
   ]
  },
  {
   "cell_type": "code",
   "execution_count": 13,
   "metadata": {
    "id": "Wk9myBdgBUxH"
   },
   "outputs": [
    {
     "ename": "HTTPError",
     "evalue": "HTTP Error 502: Bad Gateway",
     "output_type": "error",
     "traceback": [
      "\u001b[1;31m---------------------------------------------------------------------------\u001b[0m",
      "\u001b[1;31mHTTPError\u001b[0m                                 Traceback (most recent call last)",
      "Cell \u001b[1;32mIn[13], line 4\u001b[0m\n\u001b[0;32m      1\u001b[0m dict_out_final \u001b[38;5;241m=\u001b[39m {}\n\u001b[0;32m      3\u001b[0m \u001b[38;5;28;01mfor\u001b[39;00m index, row \u001b[38;5;129;01min\u001b[39;00m df_out_nodups_no_glider\u001b[38;5;241m.\u001b[39miterrows():\n\u001b[1;32m----> 4\u001b[0m     dict_out_final[\u001b[38;5;124m\"\u001b[39m\u001b[38;5;132;01m{}\u001b[39;00m\u001b[38;5;124m\"\u001b[39m\u001b[38;5;241m.\u001b[39mformat(row[\u001b[38;5;124m\"\u001b[39m\u001b[38;5;124mtitle\u001b[39m\u001b[38;5;124m\"\u001b[39m])] \u001b[38;5;241m=\u001b[39m \u001b[43mpd\u001b[49m\u001b[38;5;241;43m.\u001b[39;49m\u001b[43mread_csv\u001b[49m\u001b[43m(\u001b[49m\n\u001b[0;32m      5\u001b[0m \u001b[43m        \u001b[49m\u001b[38;5;124;43m\"\u001b[39;49m\u001b[38;5;132;43;01m{}\u001b[39;49;00m\u001b[38;5;124;43m.csvp\u001b[39;49m\u001b[38;5;124;43m\"\u001b[39;49m\u001b[38;5;241;43m.\u001b[39;49m\u001b[43mformat\u001b[49m\u001b[43m(\u001b[49m\u001b[43mrow\u001b[49m\u001b[43m[\u001b[49m\u001b[38;5;124;43m\"\u001b[39;49m\u001b[38;5;124;43murl\u001b[39;49m\u001b[38;5;124;43m\"\u001b[39;49m\u001b[43m]\u001b[49m\u001b[43m)\u001b[49m\u001b[43m,\u001b[49m\u001b[43m \u001b[49m\u001b[43mlow_memory\u001b[49m\u001b[38;5;241;43m=\u001b[39;49m\u001b[38;5;28;43;01mFalse\u001b[39;49;00m\n\u001b[0;32m      6\u001b[0m \u001b[43m    \u001b[49m\u001b[43m)\u001b[49m\n",
      "File \u001b[1;32m~\\programs\\Miniforge\\envs\\IOOS\\Lib\\site-packages\\pandas\\util\\_decorators.py:211\u001b[0m, in \u001b[0;36mdeprecate_kwarg.<locals>._deprecate_kwarg.<locals>.wrapper\u001b[1;34m(*args, **kwargs)\u001b[0m\n\u001b[0;32m    209\u001b[0m     \u001b[38;5;28;01melse\u001b[39;00m:\n\u001b[0;32m    210\u001b[0m         kwargs[new_arg_name] \u001b[38;5;241m=\u001b[39m new_arg_value\n\u001b[1;32m--> 211\u001b[0m \u001b[38;5;28;01mreturn\u001b[39;00m \u001b[43mfunc\u001b[49m\u001b[43m(\u001b[49m\u001b[38;5;241;43m*\u001b[39;49m\u001b[43margs\u001b[49m\u001b[43m,\u001b[49m\u001b[43m \u001b[49m\u001b[38;5;241;43m*\u001b[39;49m\u001b[38;5;241;43m*\u001b[39;49m\u001b[43mkwargs\u001b[49m\u001b[43m)\u001b[49m\n",
      "File \u001b[1;32m~\\programs\\Miniforge\\envs\\IOOS\\Lib\\site-packages\\pandas\\util\\_decorators.py:331\u001b[0m, in \u001b[0;36mdeprecate_nonkeyword_arguments.<locals>.decorate.<locals>.wrapper\u001b[1;34m(*args, **kwargs)\u001b[0m\n\u001b[0;32m    325\u001b[0m \u001b[38;5;28;01mif\u001b[39;00m \u001b[38;5;28mlen\u001b[39m(args) \u001b[38;5;241m>\u001b[39m num_allow_args:\n\u001b[0;32m    326\u001b[0m     warnings\u001b[38;5;241m.\u001b[39mwarn(\n\u001b[0;32m    327\u001b[0m         msg\u001b[38;5;241m.\u001b[39mformat(arguments\u001b[38;5;241m=\u001b[39m_format_argument_list(allow_args)),\n\u001b[0;32m    328\u001b[0m         \u001b[38;5;167;01mFutureWarning\u001b[39;00m,\n\u001b[0;32m    329\u001b[0m         stacklevel\u001b[38;5;241m=\u001b[39mfind_stack_level(),\n\u001b[0;32m    330\u001b[0m     )\n\u001b[1;32m--> 331\u001b[0m \u001b[38;5;28;01mreturn\u001b[39;00m \u001b[43mfunc\u001b[49m\u001b[43m(\u001b[49m\u001b[38;5;241;43m*\u001b[39;49m\u001b[43margs\u001b[49m\u001b[43m,\u001b[49m\u001b[43m \u001b[49m\u001b[38;5;241;43m*\u001b[39;49m\u001b[38;5;241;43m*\u001b[39;49m\u001b[43mkwargs\u001b[49m\u001b[43m)\u001b[49m\n",
      "File \u001b[1;32m~\\programs\\Miniforge\\envs\\IOOS\\Lib\\site-packages\\pandas\\io\\parsers\\readers.py:950\u001b[0m, in \u001b[0;36mread_csv\u001b[1;34m(filepath_or_buffer, sep, delimiter, header, names, index_col, usecols, squeeze, prefix, mangle_dupe_cols, dtype, engine, converters, true_values, false_values, skipinitialspace, skiprows, skipfooter, nrows, na_values, keep_default_na, na_filter, verbose, skip_blank_lines, parse_dates, infer_datetime_format, keep_date_col, date_parser, dayfirst, cache_dates, iterator, chunksize, compression, thousands, decimal, lineterminator, quotechar, quoting, doublequote, escapechar, comment, encoding, encoding_errors, dialect, error_bad_lines, warn_bad_lines, on_bad_lines, delim_whitespace, low_memory, memory_map, float_precision, storage_options)\u001b[0m\n\u001b[0;32m    935\u001b[0m kwds_defaults \u001b[38;5;241m=\u001b[39m _refine_defaults_read(\n\u001b[0;32m    936\u001b[0m     dialect,\n\u001b[0;32m    937\u001b[0m     delimiter,\n\u001b[1;32m   (...)\u001b[0m\n\u001b[0;32m    946\u001b[0m     defaults\u001b[38;5;241m=\u001b[39m{\u001b[38;5;124m\"\u001b[39m\u001b[38;5;124mdelimiter\u001b[39m\u001b[38;5;124m\"\u001b[39m: \u001b[38;5;124m\"\u001b[39m\u001b[38;5;124m,\u001b[39m\u001b[38;5;124m\"\u001b[39m},\n\u001b[0;32m    947\u001b[0m )\n\u001b[0;32m    948\u001b[0m kwds\u001b[38;5;241m.\u001b[39mupdate(kwds_defaults)\n\u001b[1;32m--> 950\u001b[0m \u001b[38;5;28;01mreturn\u001b[39;00m \u001b[43m_read\u001b[49m\u001b[43m(\u001b[49m\u001b[43mfilepath_or_buffer\u001b[49m\u001b[43m,\u001b[49m\u001b[43m \u001b[49m\u001b[43mkwds\u001b[49m\u001b[43m)\u001b[49m\n",
      "File \u001b[1;32m~\\programs\\Miniforge\\envs\\IOOS\\Lib\\site-packages\\pandas\\io\\parsers\\readers.py:605\u001b[0m, in \u001b[0;36m_read\u001b[1;34m(filepath_or_buffer, kwds)\u001b[0m\n\u001b[0;32m    602\u001b[0m _validate_names(kwds\u001b[38;5;241m.\u001b[39mget(\u001b[38;5;124m\"\u001b[39m\u001b[38;5;124mnames\u001b[39m\u001b[38;5;124m\"\u001b[39m, \u001b[38;5;28;01mNone\u001b[39;00m))\n\u001b[0;32m    604\u001b[0m \u001b[38;5;66;03m# Create the parser.\u001b[39;00m\n\u001b[1;32m--> 605\u001b[0m parser \u001b[38;5;241m=\u001b[39m \u001b[43mTextFileReader\u001b[49m\u001b[43m(\u001b[49m\u001b[43mfilepath_or_buffer\u001b[49m\u001b[43m,\u001b[49m\u001b[43m \u001b[49m\u001b[38;5;241;43m*\u001b[39;49m\u001b[38;5;241;43m*\u001b[39;49m\u001b[43mkwds\u001b[49m\u001b[43m)\u001b[49m\n\u001b[0;32m    607\u001b[0m \u001b[38;5;28;01mif\u001b[39;00m chunksize \u001b[38;5;129;01mor\u001b[39;00m iterator:\n\u001b[0;32m    608\u001b[0m     \u001b[38;5;28;01mreturn\u001b[39;00m parser\n",
      "File \u001b[1;32m~\\programs\\Miniforge\\envs\\IOOS\\Lib\\site-packages\\pandas\\io\\parsers\\readers.py:1442\u001b[0m, in \u001b[0;36mTextFileReader.__init__\u001b[1;34m(self, f, engine, **kwds)\u001b[0m\n\u001b[0;32m   1439\u001b[0m     \u001b[38;5;28mself\u001b[39m\u001b[38;5;241m.\u001b[39moptions[\u001b[38;5;124m\"\u001b[39m\u001b[38;5;124mhas_index_names\u001b[39m\u001b[38;5;124m\"\u001b[39m] \u001b[38;5;241m=\u001b[39m kwds[\u001b[38;5;124m\"\u001b[39m\u001b[38;5;124mhas_index_names\u001b[39m\u001b[38;5;124m\"\u001b[39m]\n\u001b[0;32m   1441\u001b[0m \u001b[38;5;28mself\u001b[39m\u001b[38;5;241m.\u001b[39mhandles: IOHandles \u001b[38;5;241m|\u001b[39m \u001b[38;5;28;01mNone\u001b[39;00m \u001b[38;5;241m=\u001b[39m \u001b[38;5;28;01mNone\u001b[39;00m\n\u001b[1;32m-> 1442\u001b[0m \u001b[38;5;28mself\u001b[39m\u001b[38;5;241m.\u001b[39m_engine \u001b[38;5;241m=\u001b[39m \u001b[38;5;28;43mself\u001b[39;49m\u001b[38;5;241;43m.\u001b[39;49m\u001b[43m_make_engine\u001b[49m\u001b[43m(\u001b[49m\u001b[43mf\u001b[49m\u001b[43m,\u001b[49m\u001b[43m \u001b[49m\u001b[38;5;28;43mself\u001b[39;49m\u001b[38;5;241;43m.\u001b[39;49m\u001b[43mengine\u001b[49m\u001b[43m)\u001b[49m\n",
      "File \u001b[1;32m~\\programs\\Miniforge\\envs\\IOOS\\Lib\\site-packages\\pandas\\io\\parsers\\readers.py:1735\u001b[0m, in \u001b[0;36mTextFileReader._make_engine\u001b[1;34m(self, f, engine)\u001b[0m\n\u001b[0;32m   1733\u001b[0m     \u001b[38;5;28;01mif\u001b[39;00m \u001b[38;5;124m\"\u001b[39m\u001b[38;5;124mb\u001b[39m\u001b[38;5;124m\"\u001b[39m \u001b[38;5;129;01mnot\u001b[39;00m \u001b[38;5;129;01min\u001b[39;00m mode:\n\u001b[0;32m   1734\u001b[0m         mode \u001b[38;5;241m+\u001b[39m\u001b[38;5;241m=\u001b[39m \u001b[38;5;124m\"\u001b[39m\u001b[38;5;124mb\u001b[39m\u001b[38;5;124m\"\u001b[39m\n\u001b[1;32m-> 1735\u001b[0m \u001b[38;5;28mself\u001b[39m\u001b[38;5;241m.\u001b[39mhandles \u001b[38;5;241m=\u001b[39m \u001b[43mget_handle\u001b[49m\u001b[43m(\u001b[49m\n\u001b[0;32m   1736\u001b[0m \u001b[43m    \u001b[49m\u001b[43mf\u001b[49m\u001b[43m,\u001b[49m\n\u001b[0;32m   1737\u001b[0m \u001b[43m    \u001b[49m\u001b[43mmode\u001b[49m\u001b[43m,\u001b[49m\n\u001b[0;32m   1738\u001b[0m \u001b[43m    \u001b[49m\u001b[43mencoding\u001b[49m\u001b[38;5;241;43m=\u001b[39;49m\u001b[38;5;28;43mself\u001b[39;49m\u001b[38;5;241;43m.\u001b[39;49m\u001b[43moptions\u001b[49m\u001b[38;5;241;43m.\u001b[39;49m\u001b[43mget\u001b[49m\u001b[43m(\u001b[49m\u001b[38;5;124;43m\"\u001b[39;49m\u001b[38;5;124;43mencoding\u001b[39;49m\u001b[38;5;124;43m\"\u001b[39;49m\u001b[43m,\u001b[49m\u001b[43m \u001b[49m\u001b[38;5;28;43;01mNone\u001b[39;49;00m\u001b[43m)\u001b[49m\u001b[43m,\u001b[49m\n\u001b[0;32m   1739\u001b[0m \u001b[43m    \u001b[49m\u001b[43mcompression\u001b[49m\u001b[38;5;241;43m=\u001b[39;49m\u001b[38;5;28;43mself\u001b[39;49m\u001b[38;5;241;43m.\u001b[39;49m\u001b[43moptions\u001b[49m\u001b[38;5;241;43m.\u001b[39;49m\u001b[43mget\u001b[49m\u001b[43m(\u001b[49m\u001b[38;5;124;43m\"\u001b[39;49m\u001b[38;5;124;43mcompression\u001b[39;49m\u001b[38;5;124;43m\"\u001b[39;49m\u001b[43m,\u001b[49m\u001b[43m \u001b[49m\u001b[38;5;28;43;01mNone\u001b[39;49;00m\u001b[43m)\u001b[49m\u001b[43m,\u001b[49m\n\u001b[0;32m   1740\u001b[0m \u001b[43m    \u001b[49m\u001b[43mmemory_map\u001b[49m\u001b[38;5;241;43m=\u001b[39;49m\u001b[38;5;28;43mself\u001b[39;49m\u001b[38;5;241;43m.\u001b[39;49m\u001b[43moptions\u001b[49m\u001b[38;5;241;43m.\u001b[39;49m\u001b[43mget\u001b[49m\u001b[43m(\u001b[49m\u001b[38;5;124;43m\"\u001b[39;49m\u001b[38;5;124;43mmemory_map\u001b[39;49m\u001b[38;5;124;43m\"\u001b[39;49m\u001b[43m,\u001b[49m\u001b[43m \u001b[49m\u001b[38;5;28;43;01mFalse\u001b[39;49;00m\u001b[43m)\u001b[49m\u001b[43m,\u001b[49m\n\u001b[0;32m   1741\u001b[0m \u001b[43m    \u001b[49m\u001b[43mis_text\u001b[49m\u001b[38;5;241;43m=\u001b[39;49m\u001b[43mis_text\u001b[49m\u001b[43m,\u001b[49m\n\u001b[0;32m   1742\u001b[0m \u001b[43m    \u001b[49m\u001b[43merrors\u001b[49m\u001b[38;5;241;43m=\u001b[39;49m\u001b[38;5;28;43mself\u001b[39;49m\u001b[38;5;241;43m.\u001b[39;49m\u001b[43moptions\u001b[49m\u001b[38;5;241;43m.\u001b[39;49m\u001b[43mget\u001b[49m\u001b[43m(\u001b[49m\u001b[38;5;124;43m\"\u001b[39;49m\u001b[38;5;124;43mencoding_errors\u001b[39;49m\u001b[38;5;124;43m\"\u001b[39;49m\u001b[43m,\u001b[49m\u001b[43m \u001b[49m\u001b[38;5;124;43m\"\u001b[39;49m\u001b[38;5;124;43mstrict\u001b[39;49m\u001b[38;5;124;43m\"\u001b[39;49m\u001b[43m)\u001b[49m\u001b[43m,\u001b[49m\n\u001b[0;32m   1743\u001b[0m \u001b[43m    \u001b[49m\u001b[43mstorage_options\u001b[49m\u001b[38;5;241;43m=\u001b[39;49m\u001b[38;5;28;43mself\u001b[39;49m\u001b[38;5;241;43m.\u001b[39;49m\u001b[43moptions\u001b[49m\u001b[38;5;241;43m.\u001b[39;49m\u001b[43mget\u001b[49m\u001b[43m(\u001b[49m\u001b[38;5;124;43m\"\u001b[39;49m\u001b[38;5;124;43mstorage_options\u001b[39;49m\u001b[38;5;124;43m\"\u001b[39;49m\u001b[43m,\u001b[49m\u001b[43m \u001b[49m\u001b[38;5;28;43;01mNone\u001b[39;49;00m\u001b[43m)\u001b[49m\u001b[43m,\u001b[49m\n\u001b[0;32m   1744\u001b[0m \u001b[43m\u001b[49m\u001b[43m)\u001b[49m\n\u001b[0;32m   1745\u001b[0m \u001b[38;5;28;01massert\u001b[39;00m \u001b[38;5;28mself\u001b[39m\u001b[38;5;241m.\u001b[39mhandles \u001b[38;5;129;01mis\u001b[39;00m \u001b[38;5;129;01mnot\u001b[39;00m \u001b[38;5;28;01mNone\u001b[39;00m\n\u001b[0;32m   1746\u001b[0m f \u001b[38;5;241m=\u001b[39m \u001b[38;5;28mself\u001b[39m\u001b[38;5;241m.\u001b[39mhandles\u001b[38;5;241m.\u001b[39mhandle\n",
      "File \u001b[1;32m~\\programs\\Miniforge\\envs\\IOOS\\Lib\\site-packages\\pandas\\io\\common.py:713\u001b[0m, in \u001b[0;36mget_handle\u001b[1;34m(path_or_buf, mode, encoding, compression, memory_map, is_text, errors, storage_options)\u001b[0m\n\u001b[0;32m    710\u001b[0m     codecs\u001b[38;5;241m.\u001b[39mlookup_error(errors)\n\u001b[0;32m    712\u001b[0m \u001b[38;5;66;03m# open URLs\u001b[39;00m\n\u001b[1;32m--> 713\u001b[0m ioargs \u001b[38;5;241m=\u001b[39m \u001b[43m_get_filepath_or_buffer\u001b[49m\u001b[43m(\u001b[49m\n\u001b[0;32m    714\u001b[0m \u001b[43m    \u001b[49m\u001b[43mpath_or_buf\u001b[49m\u001b[43m,\u001b[49m\n\u001b[0;32m    715\u001b[0m \u001b[43m    \u001b[49m\u001b[43mencoding\u001b[49m\u001b[38;5;241;43m=\u001b[39;49m\u001b[43mencoding\u001b[49m\u001b[43m,\u001b[49m\n\u001b[0;32m    716\u001b[0m \u001b[43m    \u001b[49m\u001b[43mcompression\u001b[49m\u001b[38;5;241;43m=\u001b[39;49m\u001b[43mcompression\u001b[49m\u001b[43m,\u001b[49m\n\u001b[0;32m    717\u001b[0m \u001b[43m    \u001b[49m\u001b[43mmode\u001b[49m\u001b[38;5;241;43m=\u001b[39;49m\u001b[43mmode\u001b[49m\u001b[43m,\u001b[49m\n\u001b[0;32m    718\u001b[0m \u001b[43m    \u001b[49m\u001b[43mstorage_options\u001b[49m\u001b[38;5;241;43m=\u001b[39;49m\u001b[43mstorage_options\u001b[49m\u001b[43m,\u001b[49m\n\u001b[0;32m    719\u001b[0m \u001b[43m\u001b[49m\u001b[43m)\u001b[49m\n\u001b[0;32m    721\u001b[0m handle \u001b[38;5;241m=\u001b[39m ioargs\u001b[38;5;241m.\u001b[39mfilepath_or_buffer\n\u001b[0;32m    722\u001b[0m handles: \u001b[38;5;28mlist\u001b[39m[BaseBuffer]\n",
      "File \u001b[1;32m~\\programs\\Miniforge\\envs\\IOOS\\Lib\\site-packages\\pandas\\io\\common.py:363\u001b[0m, in \u001b[0;36m_get_filepath_or_buffer\u001b[1;34m(filepath_or_buffer, encoding, compression, mode, storage_options)\u001b[0m\n\u001b[0;32m    361\u001b[0m \u001b[38;5;66;03m# assuming storage_options is to be interpreted as headers\u001b[39;00m\n\u001b[0;32m    362\u001b[0m req_info \u001b[38;5;241m=\u001b[39m urllib\u001b[38;5;241m.\u001b[39mrequest\u001b[38;5;241m.\u001b[39mRequest(filepath_or_buffer, headers\u001b[38;5;241m=\u001b[39mstorage_options)\n\u001b[1;32m--> 363\u001b[0m \u001b[38;5;28;01mwith\u001b[39;00m \u001b[43murlopen\u001b[49m\u001b[43m(\u001b[49m\u001b[43mreq_info\u001b[49m\u001b[43m)\u001b[49m \u001b[38;5;28;01mas\u001b[39;00m req:\n\u001b[0;32m    364\u001b[0m     content_encoding \u001b[38;5;241m=\u001b[39m req\u001b[38;5;241m.\u001b[39mheaders\u001b[38;5;241m.\u001b[39mget(\u001b[38;5;124m\"\u001b[39m\u001b[38;5;124mContent-Encoding\u001b[39m\u001b[38;5;124m\"\u001b[39m, \u001b[38;5;28;01mNone\u001b[39;00m)\n\u001b[0;32m    365\u001b[0m     \u001b[38;5;28;01mif\u001b[39;00m content_encoding \u001b[38;5;241m==\u001b[39m \u001b[38;5;124m\"\u001b[39m\u001b[38;5;124mgzip\u001b[39m\u001b[38;5;124m\"\u001b[39m:\n\u001b[0;32m    366\u001b[0m         \u001b[38;5;66;03m# Override compression based on Content-Encoding header\u001b[39;00m\n",
      "File \u001b[1;32m~\\programs\\Miniforge\\envs\\IOOS\\Lib\\site-packages\\pandas\\io\\common.py:265\u001b[0m, in \u001b[0;36murlopen\u001b[1;34m(*args, **kwargs)\u001b[0m\n\u001b[0;32m    259\u001b[0m \u001b[38;5;250m\u001b[39m\u001b[38;5;124;03m\"\"\"\u001b[39;00m\n\u001b[0;32m    260\u001b[0m \u001b[38;5;124;03mLazy-import wrapper for stdlib urlopen, as that imports a big chunk of\u001b[39;00m\n\u001b[0;32m    261\u001b[0m \u001b[38;5;124;03mthe stdlib.\u001b[39;00m\n\u001b[0;32m    262\u001b[0m \u001b[38;5;124;03m\"\"\"\u001b[39;00m\n\u001b[0;32m    263\u001b[0m \u001b[38;5;28;01mimport\u001b[39;00m \u001b[38;5;21;01murllib\u001b[39;00m\u001b[38;5;21;01m.\u001b[39;00m\u001b[38;5;21;01mrequest\u001b[39;00m\n\u001b[1;32m--> 265\u001b[0m \u001b[38;5;28;01mreturn\u001b[39;00m \u001b[43murllib\u001b[49m\u001b[38;5;241;43m.\u001b[39;49m\u001b[43mrequest\u001b[49m\u001b[38;5;241;43m.\u001b[39;49m\u001b[43murlopen\u001b[49m\u001b[43m(\u001b[49m\u001b[38;5;241;43m*\u001b[39;49m\u001b[43margs\u001b[49m\u001b[43m,\u001b[49m\u001b[43m \u001b[49m\u001b[38;5;241;43m*\u001b[39;49m\u001b[38;5;241;43m*\u001b[39;49m\u001b[43mkwargs\u001b[49m\u001b[43m)\u001b[49m\n",
      "File \u001b[1;32m~\\programs\\Miniforge\\envs\\IOOS\\Lib\\urllib\\request.py:216\u001b[0m, in \u001b[0;36murlopen\u001b[1;34m(url, data, timeout, cafile, capath, cadefault, context)\u001b[0m\n\u001b[0;32m    214\u001b[0m \u001b[38;5;28;01melse\u001b[39;00m:\n\u001b[0;32m    215\u001b[0m     opener \u001b[38;5;241m=\u001b[39m _opener\n\u001b[1;32m--> 216\u001b[0m \u001b[38;5;28;01mreturn\u001b[39;00m \u001b[43mopener\u001b[49m\u001b[38;5;241;43m.\u001b[39;49m\u001b[43mopen\u001b[49m\u001b[43m(\u001b[49m\u001b[43murl\u001b[49m\u001b[43m,\u001b[49m\u001b[43m \u001b[49m\u001b[43mdata\u001b[49m\u001b[43m,\u001b[49m\u001b[43m \u001b[49m\u001b[43mtimeout\u001b[49m\u001b[43m)\u001b[49m\n",
      "File \u001b[1;32m~\\programs\\Miniforge\\envs\\IOOS\\Lib\\urllib\\request.py:525\u001b[0m, in \u001b[0;36mOpenerDirector.open\u001b[1;34m(self, fullurl, data, timeout)\u001b[0m\n\u001b[0;32m    523\u001b[0m \u001b[38;5;28;01mfor\u001b[39;00m processor \u001b[38;5;129;01min\u001b[39;00m \u001b[38;5;28mself\u001b[39m\u001b[38;5;241m.\u001b[39mprocess_response\u001b[38;5;241m.\u001b[39mget(protocol, []):\n\u001b[0;32m    524\u001b[0m     meth \u001b[38;5;241m=\u001b[39m \u001b[38;5;28mgetattr\u001b[39m(processor, meth_name)\n\u001b[1;32m--> 525\u001b[0m     response \u001b[38;5;241m=\u001b[39m \u001b[43mmeth\u001b[49m\u001b[43m(\u001b[49m\u001b[43mreq\u001b[49m\u001b[43m,\u001b[49m\u001b[43m \u001b[49m\u001b[43mresponse\u001b[49m\u001b[43m)\u001b[49m\n\u001b[0;32m    527\u001b[0m \u001b[38;5;28;01mreturn\u001b[39;00m response\n",
      "File \u001b[1;32m~\\programs\\Miniforge\\envs\\IOOS\\Lib\\urllib\\request.py:634\u001b[0m, in \u001b[0;36mHTTPErrorProcessor.http_response\u001b[1;34m(self, request, response)\u001b[0m\n\u001b[0;32m    631\u001b[0m \u001b[38;5;66;03m# According to RFC 2616, \"2xx\" code indicates that the client's\u001b[39;00m\n\u001b[0;32m    632\u001b[0m \u001b[38;5;66;03m# request was successfully received, understood, and accepted.\u001b[39;00m\n\u001b[0;32m    633\u001b[0m \u001b[38;5;28;01mif\u001b[39;00m \u001b[38;5;129;01mnot\u001b[39;00m (\u001b[38;5;241m200\u001b[39m \u001b[38;5;241m<\u001b[39m\u001b[38;5;241m=\u001b[39m code \u001b[38;5;241m<\u001b[39m \u001b[38;5;241m300\u001b[39m):\n\u001b[1;32m--> 634\u001b[0m     response \u001b[38;5;241m=\u001b[39m \u001b[38;5;28;43mself\u001b[39;49m\u001b[38;5;241;43m.\u001b[39;49m\u001b[43mparent\u001b[49m\u001b[38;5;241;43m.\u001b[39;49m\u001b[43merror\u001b[49m\u001b[43m(\u001b[49m\n\u001b[0;32m    635\u001b[0m \u001b[43m        \u001b[49m\u001b[38;5;124;43m'\u001b[39;49m\u001b[38;5;124;43mhttp\u001b[39;49m\u001b[38;5;124;43m'\u001b[39;49m\u001b[43m,\u001b[49m\u001b[43m \u001b[49m\u001b[43mrequest\u001b[49m\u001b[43m,\u001b[49m\u001b[43m \u001b[49m\u001b[43mresponse\u001b[49m\u001b[43m,\u001b[49m\u001b[43m \u001b[49m\u001b[43mcode\u001b[49m\u001b[43m,\u001b[49m\u001b[43m \u001b[49m\u001b[43mmsg\u001b[49m\u001b[43m,\u001b[49m\u001b[43m \u001b[49m\u001b[43mhdrs\u001b[49m\u001b[43m)\u001b[49m\n\u001b[0;32m    637\u001b[0m \u001b[38;5;28;01mreturn\u001b[39;00m response\n",
      "File \u001b[1;32m~\\programs\\Miniforge\\envs\\IOOS\\Lib\\urllib\\request.py:563\u001b[0m, in \u001b[0;36mOpenerDirector.error\u001b[1;34m(self, proto, *args)\u001b[0m\n\u001b[0;32m    561\u001b[0m \u001b[38;5;28;01mif\u001b[39;00m http_err:\n\u001b[0;32m    562\u001b[0m     args \u001b[38;5;241m=\u001b[39m (\u001b[38;5;28mdict\u001b[39m, \u001b[38;5;124m'\u001b[39m\u001b[38;5;124mdefault\u001b[39m\u001b[38;5;124m'\u001b[39m, \u001b[38;5;124m'\u001b[39m\u001b[38;5;124mhttp_error_default\u001b[39m\u001b[38;5;124m'\u001b[39m) \u001b[38;5;241m+\u001b[39m orig_args\n\u001b[1;32m--> 563\u001b[0m     \u001b[38;5;28;01mreturn\u001b[39;00m \u001b[38;5;28;43mself\u001b[39;49m\u001b[38;5;241;43m.\u001b[39;49m\u001b[43m_call_chain\u001b[49m\u001b[43m(\u001b[49m\u001b[38;5;241;43m*\u001b[39;49m\u001b[43margs\u001b[49m\u001b[43m)\u001b[49m\n",
      "File \u001b[1;32m~\\programs\\Miniforge\\envs\\IOOS\\Lib\\urllib\\request.py:496\u001b[0m, in \u001b[0;36mOpenerDirector._call_chain\u001b[1;34m(self, chain, kind, meth_name, *args)\u001b[0m\n\u001b[0;32m    494\u001b[0m \u001b[38;5;28;01mfor\u001b[39;00m handler \u001b[38;5;129;01min\u001b[39;00m handlers:\n\u001b[0;32m    495\u001b[0m     func \u001b[38;5;241m=\u001b[39m \u001b[38;5;28mgetattr\u001b[39m(handler, meth_name)\n\u001b[1;32m--> 496\u001b[0m     result \u001b[38;5;241m=\u001b[39m \u001b[43mfunc\u001b[49m\u001b[43m(\u001b[49m\u001b[38;5;241;43m*\u001b[39;49m\u001b[43margs\u001b[49m\u001b[43m)\u001b[49m\n\u001b[0;32m    497\u001b[0m     \u001b[38;5;28;01mif\u001b[39;00m result \u001b[38;5;129;01mis\u001b[39;00m \u001b[38;5;129;01mnot\u001b[39;00m \u001b[38;5;28;01mNone\u001b[39;00m:\n\u001b[0;32m    498\u001b[0m         \u001b[38;5;28;01mreturn\u001b[39;00m result\n",
      "File \u001b[1;32m~\\programs\\Miniforge\\envs\\IOOS\\Lib\\urllib\\request.py:643\u001b[0m, in \u001b[0;36mHTTPDefaultErrorHandler.http_error_default\u001b[1;34m(self, req, fp, code, msg, hdrs)\u001b[0m\n\u001b[0;32m    642\u001b[0m \u001b[38;5;28;01mdef\u001b[39;00m \u001b[38;5;21mhttp_error_default\u001b[39m(\u001b[38;5;28mself\u001b[39m, req, fp, code, msg, hdrs):\n\u001b[1;32m--> 643\u001b[0m     \u001b[38;5;28;01mraise\u001b[39;00m HTTPError(req\u001b[38;5;241m.\u001b[39mfull_url, code, msg, hdrs, fp)\n",
      "\u001b[1;31mHTTPError\u001b[0m: HTTP Error 502: Bad Gateway"
     ]
    }
   ],
   "source": [
    "dict_out_final = {}\n",
    "\n",
    "for index, row in df_out_nodups_no_glider.iterrows():\n",
    "    dict_out_final[\"{}\".format(row[\"title\"])] = pd.read_csv(\n",
    "        \"{}.csvp\".format(row[\"url\"]), low_memory=False\n",
    "    )"
   ]
  },
  {
   "cell_type": "markdown",
   "metadata": {},
   "source": [
    "Let's take a quick look at one of the DataFrames.\n",
    "\n",
    "Transpose it when we print, so we can see all the columns."
   ]
  },
  {
   "cell_type": "code",
   "execution_count": null,
   "metadata": {},
   "outputs": [],
   "source": [
    "dict_out_final['\"Deepwater CTD - pe972218.ctd.nc - 29.25N, -87.89W - 1997-03-21\"'].head(\n",
    "    5\n",
    ").T"
   ]
  },
  {
   "cell_type": "markdown",
   "metadata": {},
   "source": [
    "## Let's make a nice map of the distribution of observations\n",
    "\n",
    "Below we create a mapping function to plot the unique dataset points on a map. Then, we use that function with our full response. We have to do a little reorganizing of the data to build one DataFrame for all the coordinates."
   ]
  },
  {
   "cell_type": "code",
   "execution_count": null,
   "metadata": {},
   "outputs": [],
   "source": [
    "import cartopy.io.shapereader as shpreader\n",
    "import geopandas as gpd\n",
    "import matplotlib.pyplot as plt\n",
    "\n",
    "\n",
    "def make_map(df):\n",
    "    # initialize an axis\n",
    "    fig, ax = plt.subplots(figsize=(8, 6))  # plot map on axis\n",
    "    shpfilename = shpreader.natural_earth(\n",
    "        resolution=\"110m\",\n",
    "        category=\"cultural\",\n",
    "        name=\"admin_0_countries\",\n",
    "    )\n",
    "    countries = gpd.read_file(shpfilename)\n",
    "\n",
    "    countries[countries[\"NAME\"] == \"United States of America\"].plot(\n",
    "        color=\"lightgrey\", ax=ax\n",
    "    )\n",
    "\n",
    "    # plot points\n",
    "    df.plot(\n",
    "        x=\"longitude (degrees_east)\",\n",
    "        y=\"latitude (degrees_north)\",\n",
    "        kind=\"scatter\",\n",
    "        ax=ax,\n",
    "    )  # add grid\n",
    "\n",
    "    ax.grid(visible=True, alpha=0.5)\n",
    "\n",
    "    return ax"
   ]
  },
  {
   "cell_type": "code",
   "execution_count": null,
   "metadata": {},
   "outputs": [],
   "source": [
    "df_coords = pd.DataFrame(\n",
    "    columns=[\"latitude (degrees_north)\", \"longitude (degrees_east)\"]\n",
    ")\n",
    "\n",
    "for key in dict_out_final.keys():\n",
    "    df_coords = pd.concat(\n",
    "        [\n",
    "            df_coords,\n",
    "            dict_out_final[key][\n",
    "                [\"latitude (degrees_north)\", \"longitude (degrees_east)\"]\n",
    "            ],\n",
    "        ]\n",
    "    )\n",
    "\n",
    "# drop all duplicates\n",
    "df_coords_clean = df_coords.drop_duplicates(ignore_index=True)\n",
    "\n",
    "# make the map\n",
    "make_map(df_coords_clean)"
   ]
  },
  {
   "cell_type": "markdown",
   "metadata": {},
   "source": [
    "## Lets explore those points on an interactive map\n",
    "\n",
    "Just for fun, we can us [`geopandas.explore()`](https://geopandas.org/en/stable/docs/reference/api/geopandas.GeoDataFrame.explore.html) to plot these points on an interactive map to browse around."
   ]
  },
  {
   "cell_type": "code",
   "execution_count": null,
   "metadata": {},
   "outputs": [],
   "source": [
    "gdf = gpd.GeoDataFrame(\n",
    "    df_coords_clean,\n",
    "    geometry=gpd.points_from_xy(\n",
    "        df_coords_clean[\"longitude (degrees_east)\"],\n",
    "        df_coords_clean[\"latitude (degrees_north)\"],\n",
    "    ),\n",
    "    crs=\"EPSG:4326\",\n",
    ")\n",
    "\n",
    "gdf.explore()"
   ]
  },
  {
   "cell_type": "markdown",
   "metadata": {},
   "source": [
    "We hope this example demonstrates the flexibility of direct requests to the IOOS Data Catalog CKAN server and all the possibilities it provides. In this notebook we:\n",
    "\n",
    "* Search the IOOS Data Catalog CKAN API with keywords.\n",
    "* Found datasets matching our specified criteria.\n",
    "* Collected all the data from each of the datasets matching our criteria.\n",
    "* Created a simple map of the distribution of datasets which match our criteria.\n",
    "\n",
    "To take this one step further, since we collected all the data from each of the datasets (in the dictionary `dict_out_final`) a user could integrate all of the oxygen observations together and start to build a comprehensive dataset. \n",
    "\n",
    "Additionally, a user could modify the CKAN query to search for terms outside of the CF standard names to potentially gather more datasets. "
   ]
  }
 ],
 "metadata": {
  "celltoolbar": "Tags",
  "colab": {
   "authorship_tag": "ABX9TyOq6Zm4CP25L4Z2jB+P61RB",
   "include_colab_link": true,
   "provenance": []
  },
  "kernelspec": {
   "display_name": "Python 3 (ipykernel)",
   "language": "python",
   "name": "python3"
  },
  "language_info": {
   "codemirror_mode": {
    "name": "ipython",
    "version": 3
   },
   "file_extension": ".py",
   "mimetype": "text/x-python",
   "name": "python",
   "nbconvert_exporter": "python",
   "pygments_lexer": "ipython3",
   "version": "3.11.0"
  }
 },
 "nbformat": 4,
 "nbformat_minor": 1
}
