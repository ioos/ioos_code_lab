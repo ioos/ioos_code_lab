{
 "cells": [
  {
   "cell_type": "markdown",
   "metadata": {},
   "source": [
    "# Searching multiple ERDDAP servers\n",
    "\n",
    "The latest erddapy module release (v1.2.0) added a multiple servers search similar to the web one implemented in\n",
    "[https://coastwatch.pfeg.noaa.gov/erddap/download/SearchMultipleERDDAPs.html](https://coastwatch.pfeg.noaa.gov/erddap/download/SearchMultipleERDDAPs.html).\n",
    "The Python interface allow the user to mix powerful variable handling and visualization with the query results.\n",
    "\n",
    "Let us explore an example\n",
    "[based on this](https://nbviewer.jupyter.org/gist/rsignell-usgs/f2be18f9db07a3c2970d88576cd62b57)\n",
    "Rich Signell's gist where we search for salinity time-series data in a specific region and time span."
   ]
  },
  {
   "cell_type": "code",
   "execution_count": 1,
   "metadata": {},
   "outputs": [],
   "source": [
    "min_time = \"2017-07-01T00:00:00Z\"\n",
    "max_time = \"2017-09-01T00:00:00Z\"\n",
    "min_lon, max_lon = -127, -123.75\n",
    "min_lat, max_lat = 43, 48\n",
    "standard_name = \"sea_water_practical_salinity\"\n",
    "\n",
    "\n",
    "kw = {\n",
    "    \"standard_name\": standard_name,\n",
    "    \"min_lon\": min_lon,\n",
    "    \"max_lon\": max_lon,\n",
    "    \"min_lat\": min_lat,\n",
    "    \"max_lat\": max_lat,\n",
    "    \"min_time\": min_time,\n",
    "    \"max_time\": max_time,\n",
    "    \"cdm_data_type\": \"timeseries\",\n",
    "}\n",
    "\n",
    "\n",
    "servers = {\n",
    "    \"ooi\": \"https://erddap.dataexplorer.oceanobservatories.org/erddap/\",\n",
    "    \"ioos\": \"https://erddap.sensors.ioos.us/erddap/\",\n",
    "}"
   ]
  },
  {
   "cell_type": "markdown",
   "metadata": {},
   "source": [
    "We will restrict the search to two servers, IOOS sensors and OOI Data Explorer. If one leaves the `server_list` empty the search will iterate all servers listed in the\n",
    "[Awesome ERDDAP list](https://github.com/IrishMarineInstitute/awesome-erddap)."
   ]
  },
  {
   "cell_type": "code",
   "execution_count": 2,
   "metadata": {},
   "outputs": [
    {
     "data": {
      "text/html": [
       "<div>\n",
       "<style scoped>\n",
       "    .dataframe tbody tr th:only-of-type {\n",
       "        vertical-align: middle;\n",
       "    }\n",
       "\n",
       "    .dataframe tbody tr th {\n",
       "        vertical-align: top;\n",
       "    }\n",
       "\n",
       "    .dataframe thead th {\n",
       "        text-align: right;\n",
       "    }\n",
       "</style>\n",
       "<table border=\"1\" class=\"dataframe\">\n",
       "  <thead>\n",
       "    <tr style=\"text-align: right;\">\n",
       "      <th></th>\n",
       "      <th>Title</th>\n",
       "      <th>Institution</th>\n",
       "      <th>Dataset ID</th>\n",
       "      <th>Server url</th>\n",
       "    </tr>\n",
       "  </thead>\n",
       "  <tbody>\n",
       "    <tr>\n",
       "      <th>0</th>\n",
       "      <td>Coastal Endurance: Oregon Inshore Surface Moor...</td>\n",
       "      <td>Ocean Observatories Initiative (OOI)</td>\n",
       "      <td>ooi-ce01issm-rid16-02-flortd000</td>\n",
       "      <td>https://erddap.dataexplorer.oceanobservatories...</td>\n",
       "    </tr>\n",
       "    <tr>\n",
       "      <th>1</th>\n",
       "      <td>Coastal Endurance: Oregon Inshore Surface Moor...</td>\n",
       "      <td>Ocean Observatories Initiative (OOI)</td>\n",
       "      <td>ooi-ce01issm-rid16-03-ctdbpc000</td>\n",
       "      <td>https://erddap.dataexplorer.oceanobservatories...</td>\n",
       "    </tr>\n",
       "    <tr>\n",
       "      <th>2</th>\n",
       "      <td>Coastal Endurance: Oregon Inshore Surface Moor...</td>\n",
       "      <td>Ocean Observatories Initiative (OOI)</td>\n",
       "      <td>ooi-ce01issm-rid16-03-dostad000</td>\n",
       "      <td>https://erddap.dataexplorer.oceanobservatories...</td>\n",
       "    </tr>\n",
       "    <tr>\n",
       "      <th>3</th>\n",
       "      <td>Coastal Endurance: Oregon Inshore Surface Moor...</td>\n",
       "      <td>Ocean Observatories Initiative (OOI)</td>\n",
       "      <td>ooi-ce01issm-rid16-07-nutnrb000</td>\n",
       "      <td>https://erddap.dataexplorer.oceanobservatories...</td>\n",
       "    </tr>\n",
       "    <tr>\n",
       "      <th>4</th>\n",
       "      <td>Coastal Endurance: Oregon Inshore Surface Moor...</td>\n",
       "      <td>Ocean Observatories Initiative (OOI)</td>\n",
       "      <td>ooi-ce01issm-rid16-06-phsend000</td>\n",
       "      <td>https://erddap.dataexplorer.oceanobservatories...</td>\n",
       "    </tr>\n",
       "  </tbody>\n",
       "</table>\n",
       "</div>"
      ],
      "text/plain": [
       "                                               Title  \\\n",
       "0  Coastal Endurance: Oregon Inshore Surface Moor...   \n",
       "1  Coastal Endurance: Oregon Inshore Surface Moor...   \n",
       "2  Coastal Endurance: Oregon Inshore Surface Moor...   \n",
       "3  Coastal Endurance: Oregon Inshore Surface Moor...   \n",
       "4  Coastal Endurance: Oregon Inshore Surface Moor...   \n",
       "\n",
       "                            Institution                       Dataset ID  \\\n",
       "0  Ocean Observatories Initiative (OOI)  ooi-ce01issm-rid16-02-flortd000   \n",
       "1  Ocean Observatories Initiative (OOI)  ooi-ce01issm-rid16-03-ctdbpc000   \n",
       "2  Ocean Observatories Initiative (OOI)  ooi-ce01issm-rid16-03-dostad000   \n",
       "3  Ocean Observatories Initiative (OOI)  ooi-ce01issm-rid16-07-nutnrb000   \n",
       "4  Ocean Observatories Initiative (OOI)  ooi-ce01issm-rid16-06-phsend000   \n",
       "\n",
       "                                          Server url  \n",
       "0  https://erddap.dataexplorer.oceanobservatories...  \n",
       "1  https://erddap.dataexplorer.oceanobservatories...  \n",
       "2  https://erddap.dataexplorer.oceanobservatories...  \n",
       "3  https://erddap.dataexplorer.oceanobservatories...  \n",
       "4  https://erddap.dataexplorer.oceanobservatories...  "
      ]
     },
     "execution_count": 2,
     "metadata": {},
     "output_type": "execute_result"
    }
   ],
   "source": [
    "from erddapy.multiple_server_search import advanced_search_servers\n",
    "\n",
    "\n",
    "df = advanced_search_servers(servers_list=servers.values(), **kw)\n",
    "\n",
    "df.head()"
   ]
  },
  {
   "cell_type": "markdown",
   "metadata": {},
   "source": [
    "Now that we have a list of dataset_ids we can iterate and get their positions to create a map."
   ]
  },
  {
   "cell_type": "code",
   "execution_count": 3,
   "metadata": {},
   "outputs": [],
   "source": [
    "from pathlib import Path\n",
    "import pickle\n",
    "\n",
    "import numpy as np\n",
    "from urllib.error import HTTPError\n",
    "from tqdm.notebook import tqdm\n",
    "import pandas as pd\n",
    "\n",
    "from erddapy import ERDDAP\n",
    "\n",
    "path = Path(\"positions.p\")\n",
    "\n",
    "kw = {\n",
    "    \"longitude>=\": min_lon,\n",
    "    \"longitude<=\": max_lon,\n",
    "    \"latitude>=\": min_lat,\n",
    "    \"latitude<=\": max_lat,\n",
    "    \"time>=\": min_time,\n",
    "    \"time<=\": max_time,\n",
    "}\n",
    "\n",
    "\n",
    "def download_url(server, dataset_id):\n",
    "    e = ERDDAP(server, protocol=\"tabledap\")\n",
    "    url = e.get_download_url(\n",
    "        dataset_id=dataset_id,\n",
    "        response=\"csvp\",\n",
    "        variables=[\"longitude\", \"latitude\"],\n",
    "        constraints=kw,\n",
    "        distinct=True,\n",
    "    )\n",
    "    return url\n",
    "\n",
    "def request_positions(download_url):\n",
    "    df = pd.read_csv(download_url)\n",
    "    return df.values.squeeze().tolist()\n",
    "\n",
    "\n",
    "if not path.exists():\n",
    "    # this step is slow b/c we are hitting two servers multiple times to request the lon, lat of the stations\n",
    "    positions = []\n",
    "    for idx, row in tqdm(df.iterrows()):\n",
    "        try:\n",
    "            url = download_url(row[\"Server url\"], row[\"Dataset ID\"])\n",
    "            pos = request_positions(url)\n",
    "        except HTTPError as e:\n",
    "            print(f\"Failed downloading {url}\")\n",
    "            pos = [np.NaN, np.NaN]\n",
    "        positions.append(pos)\n",
    "    with open(path, \"wb\") as f:\n",
    "        pickle.dump(positions, f)\n",
    "else:\n",
    "    with open(path, \"rb\") as f:\n",
    "        positions = pickle.load(f)"
   ]
  },
  {
   "cell_type": "code",
   "execution_count": 4,
   "metadata": {},
   "outputs": [],
   "source": [
    "df.loc[:, \"lon\"] = np.array(positions)[:, 0]\n",
    "df.loc[:, \"lat\"] = np.array(positions)[:, 1]\n",
    "\n",
    "df.dropna(inplace=True)\n",
    "\n",
    "df_ioos = df.loc[df[\"Server url\"] == servers[\"ioos\"]]\n",
    "df_ooi = df.loc[df[\"Server url\"] == servers[\"ooi\"]]"
   ]
  },
  {
   "cell_type": "code",
   "execution_count": 5,
   "metadata": {},
   "outputs": [],
   "source": [
    "from ipyleaflet import AwesomeIcon, Marker, Map, LegendControl, FullScreenControl, Popup, Polyline, Rectangle\n",
    "from ipywidgets import HTML\n",
    "\n",
    "\n",
    "colors = {\n",
    "    \"IOOS\": \"blue\",\n",
    "    \"OOI\": \"orange\",\n",
    "}\n",
    "\n",
    "\n",
    "legend = LegendControl(\n",
    "    colors,\n",
    "    name=\"Dataset locations\",\n",
    "    position=\"bottomright\",\n",
    ")\n",
    "\n",
    "def make_popup(row):\n",
    "    classes = \"table table-striped table-hover table-condensed table-responsive\"\n",
    "    return pd.DataFrame(row[[\"Institution\", \"Dataset ID\"]]).to_html(\n",
    "        classes=classes\n",
    "    )"
   ]
  },
  {
   "cell_type": "code",
   "execution_count": 6,
   "metadata": {},
   "outputs": [],
   "source": [
    "m = Map(center=((min_lat+max_lat) / 2, (min_lon+max_lon) / 2), zoom=6)\n",
    "m.add_control(FullScreenControl())\n",
    "m.add_control(legend)\n",
    "\n",
    "rectangle = Rectangle(\n",
    "    bounds=((min_lat, min_lon), (max_lat, max_lon)),\n",
    "    color=\"red\",\n",
    "    fill=False,\n",
    ")\n",
    "m.add_layer(rectangle)"
   ]
  },
  {
   "cell_type": "code",
   "execution_count": 7,
   "metadata": {},
   "outputs": [],
   "source": [
    "# IOOS\n",
    "for k, row in df_ioos.iterrows():\n",
    "    marker = Marker(\n",
    "        icon=AwesomeIcon(name=\"life-ring\", marker_color=colors[\"IOOS\"]),\n",
    "        location=(row[\"lat\"], row[\"lon\"]),\n",
    "    )\n",
    "    msg = HTML()\n",
    "    msg.value = make_popup(row)\n",
    "    marker.popup = msg\n",
    "    m.add_layer(marker)"
   ]
  },
  {
   "cell_type": "code",
   "execution_count": 8,
   "metadata": {},
   "outputs": [],
   "source": [
    "# OOI\n",
    "for k, row in df_ooi.iterrows():\n",
    "    marker = Marker(\n",
    "        icon=AwesomeIcon(name=\"life-ring\", marker_color=colors[\"OOI\"]),\n",
    "        location=(row[\"lat\"], row[\"lon\"]),\n",
    "    )\n",
    "    msg = HTML()\n",
    "    msg.value = make_popup(row)\n",
    "    marker.popup = msg\n",
    "    m.add_layer(marker)"
   ]
  },
  {
   "cell_type": "code",
   "execution_count": 9,
   "metadata": {},
   "outputs": [
    {
     "data": {
      "application/vnd.jupyter.widget-view+json": {
       "model_id": "7cc451b789f943899f5c823449c4330d",
       "version_major": 2,
       "version_minor": 0
      },
      "text/plain": [
       "Map(center=[45.5, -125.375], controls=(ZoomControl(options=['position', 'zoom_in_text', 'zoom_in_title', 'zoom…"
      ]
     },
     "metadata": {},
     "output_type": "display_data"
    }
   ],
   "source": [
    "m"
   ]
  },
  {
   "cell_type": "markdown",
   "metadata": {},
   "source": [
    "User may also look for data that are located near to ech other for sensor comparison or calibration."
   ]
  },
  {
   "cell_type": "code",
   "execution_count": 10,
   "metadata": {},
   "outputs": [],
   "source": [
    "import seawater as sw\n",
    "\n",
    "\n",
    "# brute force but OK for this small data set\n",
    "dist = 1e3\n",
    "for k_i, (lon_i, lat_i) in df_ioos[[\"lon\", \"lat\"]].iterrows():\n",
    "    for k_o, (lon_o, lat_o) in df_ooi[[\"lon\", \"lat\"]].iterrows():\n",
    "        lats = lat_i, lat_o\n",
    "        lons = lon_i, lon_o\n",
    "        new_dist, angle = sw.dist(lats, lons)\n",
    "        if new_dist < dist:\n",
    "            dist = new_dist\n",
    "            ki, ko = k_i, k_o"
   ]
  },
  {
   "cell_type": "code",
   "execution_count": 11,
   "metadata": {},
   "outputs": [
    {
     "name": "stdout",
     "output_type": "stream",
     "text": [
      "The stations closest (0.65 km) to each other are:\n"
     ]
    }
   ],
   "source": [
    "print(f\"The stations closest ({dist.squeeze():.2f} km) to each other are:\")"
   ]
  },
  {
   "cell_type": "code",
   "execution_count": 12,
   "metadata": {},
   "outputs": [
    {
     "data": {
      "text/plain": [
       "Title                                46098 - Moored Buoy\n",
       "Institution    Observing System Monitoring Center (OSMC)\n",
       "Dataset ID                                    osmc_46098\n",
       "Server url        https://erddap.sensors.ioos.us/erddap/\n",
       "lon                                              -124.95\n",
       "lat                                            44.383335\n",
       "Name: 65, dtype: object"
      ]
     },
     "execution_count": 12,
     "metadata": {},
     "output_type": "execute_result"
    }
   ],
   "source": [
    "df.loc[ki]"
   ]
  },
  {
   "cell_type": "code",
   "execution_count": 13,
   "metadata": {},
   "outputs": [
    {
     "data": {
      "text/plain": [
       "Title          Coastal Endurance: Oregon Offshore Surface Moo...\n",
       "Institution                 Ocean Observatories Initiative (OOI)\n",
       "Dataset ID                       ooi-ce04ossm-rid27-02-flortd000\n",
       "Server url     https://erddap.dataexplorer.oceanobservatories...\n",
       "lon                                                   -124.94508\n",
       "lat                                                     44.37868\n",
       "Name: 15, dtype: object"
      ]
     },
     "execution_count": 13,
     "metadata": {},
     "output_type": "execute_result"
    }
   ],
   "source": [
    "df.loc[ko]"
   ]
  },
  {
   "cell_type": "code",
   "execution_count": 14,
   "metadata": {},
   "outputs": [],
   "source": [
    "def download_salinity(server, dataset_id):\n",
    "    print(f\"Downloading {dataset_id=}.\")\n",
    "    e = ERDDAP(server, protocol=\"tabledap\")\n",
    "    e.dataset_id = dataset_id\n",
    "    e.constraints = {\"time>=\": min_time,\"time<=\": max_time}\n",
    "    e.response = \"csv\"\n",
    "    e.variables = [\n",
    "        \"time\",\n",
    "        e.get_var_by_attr(dataset_id=dataset_id, standard_name=standard_name)[0]\n",
    "    ]\n",
    "\n",
    "    col = \"time (UTC)\"\n",
    "    return e.to_pandas(parse_dates=[col], index_col=col)"
   ]
  },
  {
   "cell_type": "code",
   "execution_count": 15,
   "metadata": {},
   "outputs": [
    {
     "name": "stdout",
     "output_type": "stream",
     "text": [
      "Downloading dataset_id='osmc_46098'.\n"
     ]
    }
   ],
   "source": [
    "dataset_id = df.loc[ki][\"Dataset ID\"]\n",
    "\n",
    "sal_ioos = download_salinity(servers[\"ioos\"], dataset_id)"
   ]
  },
  {
   "cell_type": "code",
   "execution_count": 16,
   "metadata": {},
   "outputs": [
    {
     "name": "stdout",
     "output_type": "stream",
     "text": [
      "Downloading dataset_id='ooi-ce04ossm-rid27-02-flortd000'.\n"
     ]
    }
   ],
   "source": [
    "dataset_id = df.loc[ko][\"Dataset ID\"]\n",
    "\n",
    "sal_ooi = download_salinity(servers[\"ooi\"], dataset_id)"
   ]
  },
  {
   "cell_type": "code",
   "execution_count": 17,
   "metadata": {},
   "outputs": [
    {
     "data": {
      "application/javascript": [
       "/* Put everything inside the global mpl namespace */\n",
       "/* global mpl */\n",
       "window.mpl = {};\n",
       "\n",
       "mpl.get_websocket_type = function () {\n",
       "    if (typeof WebSocket !== 'undefined') {\n",
       "        return WebSocket;\n",
       "    } else if (typeof MozWebSocket !== 'undefined') {\n",
       "        return MozWebSocket;\n",
       "    } else {\n",
       "        alert(\n",
       "            'Your browser does not have WebSocket support. ' +\n",
       "                'Please try Chrome, Safari or Firefox ≥ 6. ' +\n",
       "                'Firefox 4 and 5 are also supported but you ' +\n",
       "                'have to enable WebSockets in about:config.'\n",
       "        );\n",
       "    }\n",
       "};\n",
       "\n",
       "mpl.figure = function (figure_id, websocket, ondownload, parent_element) {\n",
       "    this.id = figure_id;\n",
       "\n",
       "    this.ws = websocket;\n",
       "\n",
       "    this.supports_binary = this.ws.binaryType !== undefined;\n",
       "\n",
       "    if (!this.supports_binary) {\n",
       "        var warnings = document.getElementById('mpl-warnings');\n",
       "        if (warnings) {\n",
       "            warnings.style.display = 'block';\n",
       "            warnings.textContent =\n",
       "                'This browser does not support binary websocket messages. ' +\n",
       "                'Performance may be slow.';\n",
       "        }\n",
       "    }\n",
       "\n",
       "    this.imageObj = new Image();\n",
       "\n",
       "    this.context = undefined;\n",
       "    this.message = undefined;\n",
       "    this.canvas = undefined;\n",
       "    this.rubberband_canvas = undefined;\n",
       "    this.rubberband_context = undefined;\n",
       "    this.format_dropdown = undefined;\n",
       "\n",
       "    this.image_mode = 'full';\n",
       "\n",
       "    this.root = document.createElement('div');\n",
       "    this.root.setAttribute('style', 'display: inline-block');\n",
       "    this._root_extra_style(this.root);\n",
       "\n",
       "    parent_element.appendChild(this.root);\n",
       "\n",
       "    this._init_header(this);\n",
       "    this._init_canvas(this);\n",
       "    this._init_toolbar(this);\n",
       "\n",
       "    var fig = this;\n",
       "\n",
       "    this.waiting = false;\n",
       "\n",
       "    this.ws.onopen = function () {\n",
       "        fig.send_message('supports_binary', { value: fig.supports_binary });\n",
       "        fig.send_message('send_image_mode', {});\n",
       "        if (fig.ratio !== 1) {\n",
       "            fig.send_message('set_dpi_ratio', { dpi_ratio: fig.ratio });\n",
       "        }\n",
       "        fig.send_message('refresh', {});\n",
       "    };\n",
       "\n",
       "    this.imageObj.onload = function () {\n",
       "        if (fig.image_mode === 'full') {\n",
       "            // Full images could contain transparency (where diff images\n",
       "            // almost always do), so we need to clear the canvas so that\n",
       "            // there is no ghosting.\n",
       "            fig.context.clearRect(0, 0, fig.canvas.width, fig.canvas.height);\n",
       "        }\n",
       "        fig.context.drawImage(fig.imageObj, 0, 0);\n",
       "    };\n",
       "\n",
       "    this.imageObj.onunload = function () {\n",
       "        fig.ws.close();\n",
       "    };\n",
       "\n",
       "    this.ws.onmessage = this._make_on_message_function(this);\n",
       "\n",
       "    this.ondownload = ondownload;\n",
       "};\n",
       "\n",
       "mpl.figure.prototype._init_header = function () {\n",
       "    var titlebar = document.createElement('div');\n",
       "    titlebar.classList =\n",
       "        'ui-dialog-titlebar ui-widget-header ui-corner-all ui-helper-clearfix';\n",
       "    var titletext = document.createElement('div');\n",
       "    titletext.classList = 'ui-dialog-title';\n",
       "    titletext.setAttribute(\n",
       "        'style',\n",
       "        'width: 100%; text-align: center; padding: 3px;'\n",
       "    );\n",
       "    titlebar.appendChild(titletext);\n",
       "    this.root.appendChild(titlebar);\n",
       "    this.header = titletext;\n",
       "};\n",
       "\n",
       "mpl.figure.prototype._canvas_extra_style = function (_canvas_div) {};\n",
       "\n",
       "mpl.figure.prototype._root_extra_style = function (_canvas_div) {};\n",
       "\n",
       "mpl.figure.prototype._init_canvas = function () {\n",
       "    var fig = this;\n",
       "\n",
       "    var canvas_div = (this.canvas_div = document.createElement('div'));\n",
       "    canvas_div.setAttribute(\n",
       "        'style',\n",
       "        'border: 1px solid #ddd;' +\n",
       "            'box-sizing: content-box;' +\n",
       "            'clear: both;' +\n",
       "            'min-height: 1px;' +\n",
       "            'min-width: 1px;' +\n",
       "            'outline: 0;' +\n",
       "            'overflow: hidden;' +\n",
       "            'position: relative;' +\n",
       "            'resize: both;'\n",
       "    );\n",
       "\n",
       "    function on_keyboard_event_closure(name) {\n",
       "        return function (event) {\n",
       "            return fig.key_event(event, name);\n",
       "        };\n",
       "    }\n",
       "\n",
       "    canvas_div.addEventListener(\n",
       "        'keydown',\n",
       "        on_keyboard_event_closure('key_press')\n",
       "    );\n",
       "    canvas_div.addEventListener(\n",
       "        'keyup',\n",
       "        on_keyboard_event_closure('key_release')\n",
       "    );\n",
       "\n",
       "    this._canvas_extra_style(canvas_div);\n",
       "    this.root.appendChild(canvas_div);\n",
       "\n",
       "    var canvas = (this.canvas = document.createElement('canvas'));\n",
       "    canvas.classList.add('mpl-canvas');\n",
       "    canvas.setAttribute('style', 'box-sizing: content-box;');\n",
       "\n",
       "    this.context = canvas.getContext('2d');\n",
       "\n",
       "    var backingStore =\n",
       "        this.context.backingStorePixelRatio ||\n",
       "        this.context.webkitBackingStorePixelRatio ||\n",
       "        this.context.mozBackingStorePixelRatio ||\n",
       "        this.context.msBackingStorePixelRatio ||\n",
       "        this.context.oBackingStorePixelRatio ||\n",
       "        this.context.backingStorePixelRatio ||\n",
       "        1;\n",
       "\n",
       "    this.ratio = (window.devicePixelRatio || 1) / backingStore;\n",
       "\n",
       "    var rubberband_canvas = (this.rubberband_canvas = document.createElement(\n",
       "        'canvas'\n",
       "    ));\n",
       "    rubberband_canvas.setAttribute(\n",
       "        'style',\n",
       "        'box-sizing: content-box; position: absolute; left: 0; top: 0; z-index: 1;'\n",
       "    );\n",
       "\n",
       "    // Apply a ponyfill if ResizeObserver is not implemented by browser.\n",
       "    if (this.ResizeObserver === undefined) {\n",
       "        if (window.ResizeObserver !== undefined) {\n",
       "            this.ResizeObserver = window.ResizeObserver;\n",
       "        } else {\n",
       "            var obs = _JSXTOOLS_RESIZE_OBSERVER({});\n",
       "            this.ResizeObserver = obs.ResizeObserver;\n",
       "        }\n",
       "    }\n",
       "\n",
       "    this.resizeObserverInstance = new this.ResizeObserver(function (entries) {\n",
       "        var nentries = entries.length;\n",
       "        for (var i = 0; i < nentries; i++) {\n",
       "            var entry = entries[i];\n",
       "            var width, height;\n",
       "            if (entry.contentBoxSize) {\n",
       "                if (entry.contentBoxSize instanceof Array) {\n",
       "                    // Chrome 84 implements new version of spec.\n",
       "                    width = entry.contentBoxSize[0].inlineSize;\n",
       "                    height = entry.contentBoxSize[0].blockSize;\n",
       "                } else {\n",
       "                    // Firefox implements old version of spec.\n",
       "                    width = entry.contentBoxSize.inlineSize;\n",
       "                    height = entry.contentBoxSize.blockSize;\n",
       "                }\n",
       "            } else {\n",
       "                // Chrome <84 implements even older version of spec.\n",
       "                width = entry.contentRect.width;\n",
       "                height = entry.contentRect.height;\n",
       "            }\n",
       "\n",
       "            // Keep the size of the canvas and rubber band canvas in sync with\n",
       "            // the canvas container.\n",
       "            if (entry.devicePixelContentBoxSize) {\n",
       "                // Chrome 84 implements new version of spec.\n",
       "                canvas.setAttribute(\n",
       "                    'width',\n",
       "                    entry.devicePixelContentBoxSize[0].inlineSize\n",
       "                );\n",
       "                canvas.setAttribute(\n",
       "                    'height',\n",
       "                    entry.devicePixelContentBoxSize[0].blockSize\n",
       "                );\n",
       "            } else {\n",
       "                canvas.setAttribute('width', width * fig.ratio);\n",
       "                canvas.setAttribute('height', height * fig.ratio);\n",
       "            }\n",
       "            canvas.setAttribute(\n",
       "                'style',\n",
       "                'width: ' + width + 'px; height: ' + height + 'px;'\n",
       "            );\n",
       "\n",
       "            rubberband_canvas.setAttribute('width', width);\n",
       "            rubberband_canvas.setAttribute('height', height);\n",
       "\n",
       "            // And update the size in Python. We ignore the initial 0/0 size\n",
       "            // that occurs as the element is placed into the DOM, which should\n",
       "            // otherwise not happen due to the minimum size styling.\n",
       "            if (fig.ws.readyState == 1 && width != 0 && height != 0) {\n",
       "                fig.request_resize(width, height);\n",
       "            }\n",
       "        }\n",
       "    });\n",
       "    this.resizeObserverInstance.observe(canvas_div);\n",
       "\n",
       "    function on_mouse_event_closure(name) {\n",
       "        return function (event) {\n",
       "            return fig.mouse_event(event, name);\n",
       "        };\n",
       "    }\n",
       "\n",
       "    rubberband_canvas.addEventListener(\n",
       "        'mousedown',\n",
       "        on_mouse_event_closure('button_press')\n",
       "    );\n",
       "    rubberband_canvas.addEventListener(\n",
       "        'mouseup',\n",
       "        on_mouse_event_closure('button_release')\n",
       "    );\n",
       "    rubberband_canvas.addEventListener(\n",
       "        'dblclick',\n",
       "        on_mouse_event_closure('dblclick')\n",
       "    );\n",
       "    // Throttle sequential mouse events to 1 every 20ms.\n",
       "    rubberband_canvas.addEventListener(\n",
       "        'mousemove',\n",
       "        on_mouse_event_closure('motion_notify')\n",
       "    );\n",
       "\n",
       "    rubberband_canvas.addEventListener(\n",
       "        'mouseenter',\n",
       "        on_mouse_event_closure('figure_enter')\n",
       "    );\n",
       "    rubberband_canvas.addEventListener(\n",
       "        'mouseleave',\n",
       "        on_mouse_event_closure('figure_leave')\n",
       "    );\n",
       "\n",
       "    canvas_div.addEventListener('wheel', function (event) {\n",
       "        if (event.deltaY < 0) {\n",
       "            event.step = 1;\n",
       "        } else {\n",
       "            event.step = -1;\n",
       "        }\n",
       "        on_mouse_event_closure('scroll')(event);\n",
       "    });\n",
       "\n",
       "    canvas_div.appendChild(canvas);\n",
       "    canvas_div.appendChild(rubberband_canvas);\n",
       "\n",
       "    this.rubberband_context = rubberband_canvas.getContext('2d');\n",
       "    this.rubberband_context.strokeStyle = '#000000';\n",
       "\n",
       "    this._resize_canvas = function (width, height, forward) {\n",
       "        if (forward) {\n",
       "            canvas_div.style.width = width + 'px';\n",
       "            canvas_div.style.height = height + 'px';\n",
       "        }\n",
       "    };\n",
       "\n",
       "    // Disable right mouse context menu.\n",
       "    this.rubberband_canvas.addEventListener('contextmenu', function (_e) {\n",
       "        event.preventDefault();\n",
       "        return false;\n",
       "    });\n",
       "\n",
       "    function set_focus() {\n",
       "        canvas.focus();\n",
       "        canvas_div.focus();\n",
       "    }\n",
       "\n",
       "    window.setTimeout(set_focus, 100);\n",
       "};\n",
       "\n",
       "mpl.figure.prototype._init_toolbar = function () {\n",
       "    var fig = this;\n",
       "\n",
       "    var toolbar = document.createElement('div');\n",
       "    toolbar.classList = 'mpl-toolbar';\n",
       "    this.root.appendChild(toolbar);\n",
       "\n",
       "    function on_click_closure(name) {\n",
       "        return function (_event) {\n",
       "            return fig.toolbar_button_onclick(name);\n",
       "        };\n",
       "    }\n",
       "\n",
       "    function on_mouseover_closure(tooltip) {\n",
       "        return function (event) {\n",
       "            if (!event.currentTarget.disabled) {\n",
       "                return fig.toolbar_button_onmouseover(tooltip);\n",
       "            }\n",
       "        };\n",
       "    }\n",
       "\n",
       "    fig.buttons = {};\n",
       "    var buttonGroup = document.createElement('div');\n",
       "    buttonGroup.classList = 'mpl-button-group';\n",
       "    for (var toolbar_ind in mpl.toolbar_items) {\n",
       "        var name = mpl.toolbar_items[toolbar_ind][0];\n",
       "        var tooltip = mpl.toolbar_items[toolbar_ind][1];\n",
       "        var image = mpl.toolbar_items[toolbar_ind][2];\n",
       "        var method_name = mpl.toolbar_items[toolbar_ind][3];\n",
       "\n",
       "        if (!name) {\n",
       "            /* Instead of a spacer, we start a new button group. */\n",
       "            if (buttonGroup.hasChildNodes()) {\n",
       "                toolbar.appendChild(buttonGroup);\n",
       "            }\n",
       "            buttonGroup = document.createElement('div');\n",
       "            buttonGroup.classList = 'mpl-button-group';\n",
       "            continue;\n",
       "        }\n",
       "\n",
       "        var button = (fig.buttons[name] = document.createElement('button'));\n",
       "        button.classList = 'mpl-widget';\n",
       "        button.setAttribute('role', 'button');\n",
       "        button.setAttribute('aria-disabled', 'false');\n",
       "        button.addEventListener('click', on_click_closure(method_name));\n",
       "        button.addEventListener('mouseover', on_mouseover_closure(tooltip));\n",
       "\n",
       "        var icon_img = document.createElement('img');\n",
       "        icon_img.src = '_images/' + image + '.png';\n",
       "        icon_img.srcset = '_images/' + image + '_large.png 2x';\n",
       "        icon_img.alt = tooltip;\n",
       "        button.appendChild(icon_img);\n",
       "\n",
       "        buttonGroup.appendChild(button);\n",
       "    }\n",
       "\n",
       "    if (buttonGroup.hasChildNodes()) {\n",
       "        toolbar.appendChild(buttonGroup);\n",
       "    }\n",
       "\n",
       "    var fmt_picker = document.createElement('select');\n",
       "    fmt_picker.classList = 'mpl-widget';\n",
       "    toolbar.appendChild(fmt_picker);\n",
       "    this.format_dropdown = fmt_picker;\n",
       "\n",
       "    for (var ind in mpl.extensions) {\n",
       "        var fmt = mpl.extensions[ind];\n",
       "        var option = document.createElement('option');\n",
       "        option.selected = fmt === mpl.default_extension;\n",
       "        option.innerHTML = fmt;\n",
       "        fmt_picker.appendChild(option);\n",
       "    }\n",
       "\n",
       "    var status_bar = document.createElement('span');\n",
       "    status_bar.classList = 'mpl-message';\n",
       "    toolbar.appendChild(status_bar);\n",
       "    this.message = status_bar;\n",
       "};\n",
       "\n",
       "mpl.figure.prototype.request_resize = function (x_pixels, y_pixels) {\n",
       "    // Request matplotlib to resize the figure. Matplotlib will then trigger a resize in the client,\n",
       "    // which will in turn request a refresh of the image.\n",
       "    this.send_message('resize', { width: x_pixels, height: y_pixels });\n",
       "};\n",
       "\n",
       "mpl.figure.prototype.send_message = function (type, properties) {\n",
       "    properties['type'] = type;\n",
       "    properties['figure_id'] = this.id;\n",
       "    this.ws.send(JSON.stringify(properties));\n",
       "};\n",
       "\n",
       "mpl.figure.prototype.send_draw_message = function () {\n",
       "    if (!this.waiting) {\n",
       "        this.waiting = true;\n",
       "        this.ws.send(JSON.stringify({ type: 'draw', figure_id: this.id }));\n",
       "    }\n",
       "};\n",
       "\n",
       "mpl.figure.prototype.handle_save = function (fig, _msg) {\n",
       "    var format_dropdown = fig.format_dropdown;\n",
       "    var format = format_dropdown.options[format_dropdown.selectedIndex].value;\n",
       "    fig.ondownload(fig, format);\n",
       "};\n",
       "\n",
       "mpl.figure.prototype.handle_resize = function (fig, msg) {\n",
       "    var size = msg['size'];\n",
       "    if (size[0] !== fig.canvas.width || size[1] !== fig.canvas.height) {\n",
       "        fig._resize_canvas(size[0], size[1], msg['forward']);\n",
       "        fig.send_message('refresh', {});\n",
       "    }\n",
       "};\n",
       "\n",
       "mpl.figure.prototype.handle_rubberband = function (fig, msg) {\n",
       "    var x0 = msg['x0'] / fig.ratio;\n",
       "    var y0 = (fig.canvas.height - msg['y0']) / fig.ratio;\n",
       "    var x1 = msg['x1'] / fig.ratio;\n",
       "    var y1 = (fig.canvas.height - msg['y1']) / fig.ratio;\n",
       "    x0 = Math.floor(x0) + 0.5;\n",
       "    y0 = Math.floor(y0) + 0.5;\n",
       "    x1 = Math.floor(x1) + 0.5;\n",
       "    y1 = Math.floor(y1) + 0.5;\n",
       "    var min_x = Math.min(x0, x1);\n",
       "    var min_y = Math.min(y0, y1);\n",
       "    var width = Math.abs(x1 - x0);\n",
       "    var height = Math.abs(y1 - y0);\n",
       "\n",
       "    fig.rubberband_context.clearRect(\n",
       "        0,\n",
       "        0,\n",
       "        fig.canvas.width / fig.ratio,\n",
       "        fig.canvas.height / fig.ratio\n",
       "    );\n",
       "\n",
       "    fig.rubberband_context.strokeRect(min_x, min_y, width, height);\n",
       "};\n",
       "\n",
       "mpl.figure.prototype.handle_figure_label = function (fig, msg) {\n",
       "    // Updates the figure title.\n",
       "    fig.header.textContent = msg['label'];\n",
       "};\n",
       "\n",
       "mpl.figure.prototype.handle_cursor = function (fig, msg) {\n",
       "    var cursor = msg['cursor'];\n",
       "    switch (cursor) {\n",
       "        case 0:\n",
       "            cursor = 'pointer';\n",
       "            break;\n",
       "        case 1:\n",
       "            cursor = 'default';\n",
       "            break;\n",
       "        case 2:\n",
       "            cursor = 'crosshair';\n",
       "            break;\n",
       "        case 3:\n",
       "            cursor = 'move';\n",
       "            break;\n",
       "    }\n",
       "    fig.rubberband_canvas.style.cursor = cursor;\n",
       "};\n",
       "\n",
       "mpl.figure.prototype.handle_message = function (fig, msg) {\n",
       "    fig.message.textContent = msg['message'];\n",
       "};\n",
       "\n",
       "mpl.figure.prototype.handle_draw = function (fig, _msg) {\n",
       "    // Request the server to send over a new figure.\n",
       "    fig.send_draw_message();\n",
       "};\n",
       "\n",
       "mpl.figure.prototype.handle_image_mode = function (fig, msg) {\n",
       "    fig.image_mode = msg['mode'];\n",
       "};\n",
       "\n",
       "mpl.figure.prototype.handle_history_buttons = function (fig, msg) {\n",
       "    for (var key in msg) {\n",
       "        if (!(key in fig.buttons)) {\n",
       "            continue;\n",
       "        }\n",
       "        fig.buttons[key].disabled = !msg[key];\n",
       "        fig.buttons[key].setAttribute('aria-disabled', !msg[key]);\n",
       "    }\n",
       "};\n",
       "\n",
       "mpl.figure.prototype.handle_navigate_mode = function (fig, msg) {\n",
       "    if (msg['mode'] === 'PAN') {\n",
       "        fig.buttons['Pan'].classList.add('active');\n",
       "        fig.buttons['Zoom'].classList.remove('active');\n",
       "    } else if (msg['mode'] === 'ZOOM') {\n",
       "        fig.buttons['Pan'].classList.remove('active');\n",
       "        fig.buttons['Zoom'].classList.add('active');\n",
       "    } else {\n",
       "        fig.buttons['Pan'].classList.remove('active');\n",
       "        fig.buttons['Zoom'].classList.remove('active');\n",
       "    }\n",
       "};\n",
       "\n",
       "mpl.figure.prototype.updated_canvas_event = function () {\n",
       "    // Called whenever the canvas gets updated.\n",
       "    this.send_message('ack', {});\n",
       "};\n",
       "\n",
       "// A function to construct a web socket function for onmessage handling.\n",
       "// Called in the figure constructor.\n",
       "mpl.figure.prototype._make_on_message_function = function (fig) {\n",
       "    return function socket_on_message(evt) {\n",
       "        if (evt.data instanceof Blob) {\n",
       "            var img = evt.data;\n",
       "            if (img.type !== 'image/png') {\n",
       "                /* FIXME: We get \"Resource interpreted as Image but\n",
       "                 * transferred with MIME type text/plain:\" errors on\n",
       "                 * Chrome.  But how to set the MIME type?  It doesn't seem\n",
       "                 * to be part of the websocket stream */\n",
       "                img.type = 'image/png';\n",
       "            }\n",
       "\n",
       "            /* Free the memory for the previous frames */\n",
       "            if (fig.imageObj.src) {\n",
       "                (window.URL || window.webkitURL).revokeObjectURL(\n",
       "                    fig.imageObj.src\n",
       "                );\n",
       "            }\n",
       "\n",
       "            fig.imageObj.src = (window.URL || window.webkitURL).createObjectURL(\n",
       "                img\n",
       "            );\n",
       "            fig.updated_canvas_event();\n",
       "            fig.waiting = false;\n",
       "            return;\n",
       "        } else if (\n",
       "            typeof evt.data === 'string' &&\n",
       "            evt.data.slice(0, 21) === 'data:image/png;base64'\n",
       "        ) {\n",
       "            fig.imageObj.src = evt.data;\n",
       "            fig.updated_canvas_event();\n",
       "            fig.waiting = false;\n",
       "            return;\n",
       "        }\n",
       "\n",
       "        var msg = JSON.parse(evt.data);\n",
       "        var msg_type = msg['type'];\n",
       "\n",
       "        // Call the  \"handle_{type}\" callback, which takes\n",
       "        // the figure and JSON message as its only arguments.\n",
       "        try {\n",
       "            var callback = fig['handle_' + msg_type];\n",
       "        } catch (e) {\n",
       "            console.log(\n",
       "                \"No handler for the '\" + msg_type + \"' message type: \",\n",
       "                msg\n",
       "            );\n",
       "            return;\n",
       "        }\n",
       "\n",
       "        if (callback) {\n",
       "            try {\n",
       "                // console.log(\"Handling '\" + msg_type + \"' message: \", msg);\n",
       "                callback(fig, msg);\n",
       "            } catch (e) {\n",
       "                console.log(\n",
       "                    \"Exception inside the 'handler_\" + msg_type + \"' callback:\",\n",
       "                    e,\n",
       "                    e.stack,\n",
       "                    msg\n",
       "                );\n",
       "            }\n",
       "        }\n",
       "    };\n",
       "};\n",
       "\n",
       "// from http://stackoverflow.com/questions/1114465/getting-mouse-location-in-canvas\n",
       "mpl.findpos = function (e) {\n",
       "    //this section is from http://www.quirksmode.org/js/events_properties.html\n",
       "    var targ;\n",
       "    if (!e) {\n",
       "        e = window.event;\n",
       "    }\n",
       "    if (e.target) {\n",
       "        targ = e.target;\n",
       "    } else if (e.srcElement) {\n",
       "        targ = e.srcElement;\n",
       "    }\n",
       "    if (targ.nodeType === 3) {\n",
       "        // defeat Safari bug\n",
       "        targ = targ.parentNode;\n",
       "    }\n",
       "\n",
       "    // pageX,Y are the mouse positions relative to the document\n",
       "    var boundingRect = targ.getBoundingClientRect();\n",
       "    var x = e.pageX - (boundingRect.left + document.body.scrollLeft);\n",
       "    var y = e.pageY - (boundingRect.top + document.body.scrollTop);\n",
       "\n",
       "    return { x: x, y: y };\n",
       "};\n",
       "\n",
       "/*\n",
       " * return a copy of an object with only non-object keys\n",
       " * we need this to avoid circular references\n",
       " * http://stackoverflow.com/a/24161582/3208463\n",
       " */\n",
       "function simpleKeys(original) {\n",
       "    return Object.keys(original).reduce(function (obj, key) {\n",
       "        if (typeof original[key] !== 'object') {\n",
       "            obj[key] = original[key];\n",
       "        }\n",
       "        return obj;\n",
       "    }, {});\n",
       "}\n",
       "\n",
       "mpl.figure.prototype.mouse_event = function (event, name) {\n",
       "    var canvas_pos = mpl.findpos(event);\n",
       "\n",
       "    if (name === 'button_press') {\n",
       "        this.canvas.focus();\n",
       "        this.canvas_div.focus();\n",
       "    }\n",
       "\n",
       "    var x = canvas_pos.x * this.ratio;\n",
       "    var y = canvas_pos.y * this.ratio;\n",
       "\n",
       "    this.send_message(name, {\n",
       "        x: x,\n",
       "        y: y,\n",
       "        button: event.button,\n",
       "        step: event.step,\n",
       "        guiEvent: simpleKeys(event),\n",
       "    });\n",
       "\n",
       "    /* This prevents the web browser from automatically changing to\n",
       "     * the text insertion cursor when the button is pressed.  We want\n",
       "     * to control all of the cursor setting manually through the\n",
       "     * 'cursor' event from matplotlib */\n",
       "    event.preventDefault();\n",
       "    return false;\n",
       "};\n",
       "\n",
       "mpl.figure.prototype._key_event_extra = function (_event, _name) {\n",
       "    // Handle any extra behaviour associated with a key event\n",
       "};\n",
       "\n",
       "mpl.figure.prototype.key_event = function (event, name) {\n",
       "    // Prevent repeat events\n",
       "    if (name === 'key_press') {\n",
       "        if (event.key === this._key) {\n",
       "            return;\n",
       "        } else {\n",
       "            this._key = event.key;\n",
       "        }\n",
       "    }\n",
       "    if (name === 'key_release') {\n",
       "        this._key = null;\n",
       "    }\n",
       "\n",
       "    var value = '';\n",
       "    if (event.ctrlKey && event.key !== 'Control') {\n",
       "        value += 'ctrl+';\n",
       "    }\n",
       "    else if (event.altKey && event.key !== 'Alt') {\n",
       "        value += 'alt+';\n",
       "    }\n",
       "    else if (event.shiftKey && event.key !== 'Shift') {\n",
       "        value += 'shift+';\n",
       "    }\n",
       "\n",
       "    value += 'k' + event.key;\n",
       "\n",
       "    this._key_event_extra(event, name);\n",
       "\n",
       "    this.send_message(name, { key: value, guiEvent: simpleKeys(event) });\n",
       "    return false;\n",
       "};\n",
       "\n",
       "mpl.figure.prototype.toolbar_button_onclick = function (name) {\n",
       "    if (name === 'download') {\n",
       "        this.handle_save(this, null);\n",
       "    } else {\n",
       "        this.send_message('toolbar_button', { name: name });\n",
       "    }\n",
       "};\n",
       "\n",
       "mpl.figure.prototype.toolbar_button_onmouseover = function (tooltip) {\n",
       "    this.message.textContent = tooltip;\n",
       "};\n",
       "\n",
       "///////////////// REMAINING CONTENT GENERATED BY embed_js.py /////////////////\n",
       "// prettier-ignore\n",
       "var _JSXTOOLS_RESIZE_OBSERVER=function(A){var t,i=new WeakMap,n=new WeakMap,a=new WeakMap,r=new WeakMap,o=new Set;function s(e){if(!(this instanceof s))throw new TypeError(\"Constructor requires 'new' operator\");i.set(this,e)}function h(){throw new TypeError(\"Function is not a constructor\")}function c(e,t,i,n){e=0 in arguments?Number(arguments[0]):0,t=1 in arguments?Number(arguments[1]):0,i=2 in arguments?Number(arguments[2]):0,n=3 in arguments?Number(arguments[3]):0,this.right=(this.x=this.left=e)+(this.width=i),this.bottom=(this.y=this.top=t)+(this.height=n),Object.freeze(this)}function d(){t=requestAnimationFrame(d);var s=new WeakMap,p=new Set;o.forEach((function(t){r.get(t).forEach((function(i){var r=t instanceof window.SVGElement,o=a.get(t),d=r?0:parseFloat(o.paddingTop),f=r?0:parseFloat(o.paddingRight),l=r?0:parseFloat(o.paddingBottom),u=r?0:parseFloat(o.paddingLeft),g=r?0:parseFloat(o.borderTopWidth),m=r?0:parseFloat(o.borderRightWidth),w=r?0:parseFloat(o.borderBottomWidth),b=u+f,F=d+l,v=(r?0:parseFloat(o.borderLeftWidth))+m,W=g+w,y=r?0:t.offsetHeight-W-t.clientHeight,E=r?0:t.offsetWidth-v-t.clientWidth,R=b+v,z=F+W,M=r?t.width:parseFloat(o.width)-R-E,O=r?t.height:parseFloat(o.height)-z-y;if(n.has(t)){var k=n.get(t);if(k[0]===M&&k[1]===O)return}n.set(t,[M,O]);var S=Object.create(h.prototype);S.target=t,S.contentRect=new c(u,d,M,O),s.has(i)||(s.set(i,[]),p.add(i)),s.get(i).push(S)}))})),p.forEach((function(e){i.get(e).call(e,s.get(e),e)}))}return s.prototype.observe=function(i){if(i instanceof window.Element){r.has(i)||(r.set(i,new Set),o.add(i),a.set(i,window.getComputedStyle(i)));var n=r.get(i);n.has(this)||n.add(this),cancelAnimationFrame(t),t=requestAnimationFrame(d)}},s.prototype.unobserve=function(i){if(i instanceof window.Element&&r.has(i)){var n=r.get(i);n.has(this)&&(n.delete(this),n.size||(r.delete(i),o.delete(i))),n.size||r.delete(i),o.size||cancelAnimationFrame(t)}},A.DOMRectReadOnly=c,A.ResizeObserver=s,A.ResizeObserverEntry=h,A}; // eslint-disable-line\n",
       "mpl.toolbar_items = [[\"Home\", \"Reset original view\", \"fa fa-home icon-home\", \"home\"], [\"Back\", \"Back to previous view\", \"fa fa-arrow-left icon-arrow-left\", \"back\"], [\"Forward\", \"Forward to next view\", \"fa fa-arrow-right icon-arrow-right\", \"forward\"], [\"\", \"\", \"\", \"\"], [\"Pan\", \"Left button pans, Right button zooms\\nx/y fixes axis, CTRL fixes aspect\", \"fa fa-arrows icon-move\", \"pan\"], [\"Zoom\", \"Zoom to rectangle\\nx/y fixes axis, CTRL fixes aspect\", \"fa fa-square-o icon-check-empty\", \"zoom\"], [\"\", \"\", \"\", \"\"], [\"Download\", \"Download plot\", \"fa fa-floppy-o icon-save\", \"download\"]];\n",
       "\n",
       "mpl.extensions = [\"eps\", \"jpeg\", \"pgf\", \"pdf\", \"png\", \"ps\", \"raw\", \"svg\", \"tif\"];\n",
       "\n",
       "mpl.default_extension = \"png\";/* global mpl */\n",
       "\n",
       "var comm_websocket_adapter = function (comm) {\n",
       "    // Create a \"websocket\"-like object which calls the given IPython comm\n",
       "    // object with the appropriate methods. Currently this is a non binary\n",
       "    // socket, so there is still some room for performance tuning.\n",
       "    var ws = {};\n",
       "\n",
       "    ws.binaryType = comm.kernel.ws.binaryType;\n",
       "    ws.readyState = comm.kernel.ws.readyState;\n",
       "    function updateReadyState(_event) {\n",
       "        if (comm.kernel.ws) {\n",
       "            ws.readyState = comm.kernel.ws.readyState;\n",
       "        } else {\n",
       "            ws.readyState = 3; // Closed state.\n",
       "        }\n",
       "    }\n",
       "    comm.kernel.ws.addEventListener('open', updateReadyState);\n",
       "    comm.kernel.ws.addEventListener('close', updateReadyState);\n",
       "    comm.kernel.ws.addEventListener('error', updateReadyState);\n",
       "\n",
       "    ws.close = function () {\n",
       "        comm.close();\n",
       "    };\n",
       "    ws.send = function (m) {\n",
       "        //console.log('sending', m);\n",
       "        comm.send(m);\n",
       "    };\n",
       "    // Register the callback with on_msg.\n",
       "    comm.on_msg(function (msg) {\n",
       "        //console.log('receiving', msg['content']['data'], msg);\n",
       "        var data = msg['content']['data'];\n",
       "        if (data['blob'] !== undefined) {\n",
       "            data = {\n",
       "                data: new Blob(msg['buffers'], { type: data['blob'] }),\n",
       "            };\n",
       "        }\n",
       "        // Pass the mpl event to the overridden (by mpl) onmessage function.\n",
       "        ws.onmessage(data);\n",
       "    });\n",
       "    return ws;\n",
       "};\n",
       "\n",
       "mpl.mpl_figure_comm = function (comm, msg) {\n",
       "    // This is the function which gets called when the mpl process\n",
       "    // starts-up an IPython Comm through the \"matplotlib\" channel.\n",
       "\n",
       "    var id = msg.content.data.id;\n",
       "    // Get hold of the div created by the display call when the Comm\n",
       "    // socket was opened in Python.\n",
       "    var element = document.getElementById(id);\n",
       "    var ws_proxy = comm_websocket_adapter(comm);\n",
       "\n",
       "    function ondownload(figure, _format) {\n",
       "        window.open(figure.canvas.toDataURL());\n",
       "    }\n",
       "\n",
       "    var fig = new mpl.figure(id, ws_proxy, ondownload, element);\n",
       "\n",
       "    // Call onopen now - mpl needs it, as it is assuming we've passed it a real\n",
       "    // web socket which is closed, not our websocket->open comm proxy.\n",
       "    ws_proxy.onopen();\n",
       "\n",
       "    fig.parent_element = element;\n",
       "    fig.cell_info = mpl.find_output_cell(\"<div id='\" + id + \"'></div>\");\n",
       "    if (!fig.cell_info) {\n",
       "        console.error('Failed to find cell for figure', id, fig);\n",
       "        return;\n",
       "    }\n",
       "    fig.cell_info[0].output_area.element.on(\n",
       "        'cleared',\n",
       "        { fig: fig },\n",
       "        fig._remove_fig_handler\n",
       "    );\n",
       "};\n",
       "\n",
       "mpl.figure.prototype.handle_close = function (fig, msg) {\n",
       "    var width = fig.canvas.width / fig.ratio;\n",
       "    fig.cell_info[0].output_area.element.off(\n",
       "        'cleared',\n",
       "        fig._remove_fig_handler\n",
       "    );\n",
       "    fig.resizeObserverInstance.unobserve(fig.canvas_div);\n",
       "\n",
       "    // Update the output cell to use the data from the current canvas.\n",
       "    fig.push_to_output();\n",
       "    var dataURL = fig.canvas.toDataURL();\n",
       "    // Re-enable the keyboard manager in IPython - without this line, in FF,\n",
       "    // the notebook keyboard shortcuts fail.\n",
       "    IPython.keyboard_manager.enable();\n",
       "    fig.parent_element.innerHTML =\n",
       "        '<img src=\"' + dataURL + '\" width=\"' + width + '\">';\n",
       "    fig.close_ws(fig, msg);\n",
       "};\n",
       "\n",
       "mpl.figure.prototype.close_ws = function (fig, msg) {\n",
       "    fig.send_message('closing', msg);\n",
       "    // fig.ws.close()\n",
       "};\n",
       "\n",
       "mpl.figure.prototype.push_to_output = function (_remove_interactive) {\n",
       "    // Turn the data on the canvas into data in the output cell.\n",
       "    var width = this.canvas.width / this.ratio;\n",
       "    var dataURL = this.canvas.toDataURL();\n",
       "    this.cell_info[1]['text/html'] =\n",
       "        '<img src=\"' + dataURL + '\" width=\"' + width + '\">';\n",
       "};\n",
       "\n",
       "mpl.figure.prototype.updated_canvas_event = function () {\n",
       "    // Tell IPython that the notebook contents must change.\n",
       "    IPython.notebook.set_dirty(true);\n",
       "    this.send_message('ack', {});\n",
       "    var fig = this;\n",
       "    // Wait a second, then push the new image to the DOM so\n",
       "    // that it is saved nicely (might be nice to debounce this).\n",
       "    setTimeout(function () {\n",
       "        fig.push_to_output();\n",
       "    }, 1000);\n",
       "};\n",
       "\n",
       "mpl.figure.prototype._init_toolbar = function () {\n",
       "    var fig = this;\n",
       "\n",
       "    var toolbar = document.createElement('div');\n",
       "    toolbar.classList = 'btn-toolbar';\n",
       "    this.root.appendChild(toolbar);\n",
       "\n",
       "    function on_click_closure(name) {\n",
       "        return function (_event) {\n",
       "            return fig.toolbar_button_onclick(name);\n",
       "        };\n",
       "    }\n",
       "\n",
       "    function on_mouseover_closure(tooltip) {\n",
       "        return function (event) {\n",
       "            if (!event.currentTarget.disabled) {\n",
       "                return fig.toolbar_button_onmouseover(tooltip);\n",
       "            }\n",
       "        };\n",
       "    }\n",
       "\n",
       "    fig.buttons = {};\n",
       "    var buttonGroup = document.createElement('div');\n",
       "    buttonGroup.classList = 'btn-group';\n",
       "    var button;\n",
       "    for (var toolbar_ind in mpl.toolbar_items) {\n",
       "        var name = mpl.toolbar_items[toolbar_ind][0];\n",
       "        var tooltip = mpl.toolbar_items[toolbar_ind][1];\n",
       "        var image = mpl.toolbar_items[toolbar_ind][2];\n",
       "        var method_name = mpl.toolbar_items[toolbar_ind][3];\n",
       "\n",
       "        if (!name) {\n",
       "            /* Instead of a spacer, we start a new button group. */\n",
       "            if (buttonGroup.hasChildNodes()) {\n",
       "                toolbar.appendChild(buttonGroup);\n",
       "            }\n",
       "            buttonGroup = document.createElement('div');\n",
       "            buttonGroup.classList = 'btn-group';\n",
       "            continue;\n",
       "        }\n",
       "\n",
       "        button = fig.buttons[name] = document.createElement('button');\n",
       "        button.classList = 'btn btn-default';\n",
       "        button.href = '#';\n",
       "        button.title = name;\n",
       "        button.innerHTML = '<i class=\"fa ' + image + ' fa-lg\"></i>';\n",
       "        button.addEventListener('click', on_click_closure(method_name));\n",
       "        button.addEventListener('mouseover', on_mouseover_closure(tooltip));\n",
       "        buttonGroup.appendChild(button);\n",
       "    }\n",
       "\n",
       "    if (buttonGroup.hasChildNodes()) {\n",
       "        toolbar.appendChild(buttonGroup);\n",
       "    }\n",
       "\n",
       "    // Add the status bar.\n",
       "    var status_bar = document.createElement('span');\n",
       "    status_bar.classList = 'mpl-message pull-right';\n",
       "    toolbar.appendChild(status_bar);\n",
       "    this.message = status_bar;\n",
       "\n",
       "    // Add the close button to the window.\n",
       "    var buttongrp = document.createElement('div');\n",
       "    buttongrp.classList = 'btn-group inline pull-right';\n",
       "    button = document.createElement('button');\n",
       "    button.classList = 'btn btn-mini btn-primary';\n",
       "    button.href = '#';\n",
       "    button.title = 'Stop Interaction';\n",
       "    button.innerHTML = '<i class=\"fa fa-power-off icon-remove icon-large\"></i>';\n",
       "    button.addEventListener('click', function (_evt) {\n",
       "        fig.handle_close(fig, {});\n",
       "    });\n",
       "    button.addEventListener(\n",
       "        'mouseover',\n",
       "        on_mouseover_closure('Stop Interaction')\n",
       "    );\n",
       "    buttongrp.appendChild(button);\n",
       "    var titlebar = this.root.querySelector('.ui-dialog-titlebar');\n",
       "    titlebar.insertBefore(buttongrp, titlebar.firstChild);\n",
       "};\n",
       "\n",
       "mpl.figure.prototype._remove_fig_handler = function (event) {\n",
       "    var fig = event.data.fig;\n",
       "    if (event.target !== this) {\n",
       "        // Ignore bubbled events from children.\n",
       "        return;\n",
       "    }\n",
       "    fig.close_ws(fig, {});\n",
       "};\n",
       "\n",
       "mpl.figure.prototype._root_extra_style = function (el) {\n",
       "    el.style.boxSizing = 'content-box'; // override notebook setting of border-box.\n",
       "};\n",
       "\n",
       "mpl.figure.prototype._canvas_extra_style = function (el) {\n",
       "    // this is important to make the div 'focusable\n",
       "    el.setAttribute('tabindex', 0);\n",
       "    // reach out to IPython and tell the keyboard manager to turn it's self\n",
       "    // off when our div gets focus\n",
       "\n",
       "    // location in version 3\n",
       "    if (IPython.notebook.keyboard_manager) {\n",
       "        IPython.notebook.keyboard_manager.register_events(el);\n",
       "    } else {\n",
       "        // location in version 2\n",
       "        IPython.keyboard_manager.register_events(el);\n",
       "    }\n",
       "};\n",
       "\n",
       "mpl.figure.prototype._key_event_extra = function (event, _name) {\n",
       "    var manager = IPython.notebook.keyboard_manager;\n",
       "    if (!manager) {\n",
       "        manager = IPython.keyboard_manager;\n",
       "    }\n",
       "\n",
       "    // Check for shift+enter\n",
       "    if (event.shiftKey && event.which === 13) {\n",
       "        this.canvas_div.blur();\n",
       "        // select the cell after this one\n",
       "        var index = IPython.notebook.find_cell_index(this.cell_info[0]);\n",
       "        IPython.notebook.select(index + 1);\n",
       "    }\n",
       "};\n",
       "\n",
       "mpl.figure.prototype.handle_save = function (fig, _msg) {\n",
       "    fig.ondownload(fig, null);\n",
       "};\n",
       "\n",
       "mpl.find_output_cell = function (html_output) {\n",
       "    // Return the cell and output element which can be found *uniquely* in the notebook.\n",
       "    // Note - this is a bit hacky, but it is done because the \"notebook_saving.Notebook\"\n",
       "    // IPython event is triggered only after the cells have been serialised, which for\n",
       "    // our purposes (turning an active figure into a static one), is too late.\n",
       "    var cells = IPython.notebook.get_cells();\n",
       "    var ncells = cells.length;\n",
       "    for (var i = 0; i < ncells; i++) {\n",
       "        var cell = cells[i];\n",
       "        if (cell.cell_type === 'code') {\n",
       "            for (var j = 0; j < cell.output_area.outputs.length; j++) {\n",
       "                var data = cell.output_area.outputs[j];\n",
       "                if (data.data) {\n",
       "                    // IPython >= 3 moved mimebundle to data attribute of output\n",
       "                    data = data.data;\n",
       "                }\n",
       "                if (data['text/html'] === html_output) {\n",
       "                    return [cell, data, j];\n",
       "                }\n",
       "            }\n",
       "        }\n",
       "    }\n",
       "};\n",
       "\n",
       "// Register the function which deals with the matplotlib target/channel.\n",
       "// The kernel may be null if the page has been refreshed.\n",
       "if (IPython.notebook.kernel !== null) {\n",
       "    IPython.notebook.kernel.comm_manager.register_target(\n",
       "        'matplotlib',\n",
       "        mpl.mpl_figure_comm\n",
       "    );\n",
       "}\n"
      ],
      "text/plain": [
       "<IPython.core.display.Javascript object>"
      ]
     },
     "metadata": {},
     "output_type": "display_data"
    },
    {
     "data": {
      "text/html": [
       "<img src=\"data:image/png;base64,iVBORw0KGgoAAAANSUhEUgAABwgAAALuCAYAAAC6tkK+AAAAAXNSR0IArs4c6QAAIABJREFUeF7s3Qd4lFW+x/FfMumdhN6LAoIgVSm6VlBR7L0Arm1XRV1176697aqra3d1ZW0o2LCgIPYCqHRQiiC9txBKAklIJjP3Oe+QMpmZZCZMyJTveZ69VzOnfs4Lbzz/OefEOJ1Op0gIIIAAAggggAACCCCAAAIIIIAAAggggAACCCCAAAIIIBAVAjEECKNinhkkAggggAACCCCAAAIIIIAAAggggAACCCCAAAIIIIAAApYAAUIeBAQQQAABBBBAAAEEEEAAAQQQQAABBBBAAAEEEEAAAQSiSIAAYRRNNkNFAAEEEEAAAQQQQAABBBBAAAEEEEAAAQQQQAABBBBAgAAhzwACCCCAAAIIIIAAAggggAACCCCAAAIIIIAAAggggAACUSRAgDCKJpuhIoAAAggggAACCCCAAAIIIIAAAggggAACCCCAAAIIIECAkGcAAQQQQAABBBBAAAEEEEAAAQQQQAABBBBAAAEEEEAAgSgSIEAYRZPNUBFAAAEEEEAAAQQQQAABBBBAAAEEEEAAAQQQQAABBBAgQMgzgAACCCCAAAIIIIAAAggggAACCCCAAAIIIIAAAggggEAUCRAgjKLJZqgIIIAAAggggAACCCCAAAIIIIAAAggggAACCCCAAAIIECDkGUAAAQQQQAABBBBAAAEEEEAAAQQQQAABBBBAAAEEEEAgigQIEEbRZDNUBBBAAAEEEEAAAQQQQAABBBBAAAEEEEAAAQQQQAABBAgQ8gwggAACCCCAAAIIIIAAAggggAACCCCAAAIIIIAAAgggEEUCBAijaLIZKgIIIIAAAggggAACCCCAAAIIIIAAAggggAACCCCAAAIECHkGEEAAAQQQQAABBBBAAAEEEEAAAQQQQAABBBBAAAEEEIgiAQKEUTTZDBUBBBBAAAEEEEAAAQQQQAABBBBAAAEEEEAAAQQQQAABAoQ8AwgggAACCCCAAAIIIIAAAggggAACCCCAAAIIIIAAAghEkQABwiiabIaKAAIIIIAAAggggAACCCCAAAIIIIAAAggggAACCCCAAAFCngEEEEAAAQQQQAABBBBAAAEEEEAAAQQQQAABBBBAAAEEokiAAGEUTTZDRQABBBBAAAEEEEAAAQQQQAABBBBAAAEEEEAAAQQQQIAAIc8AAggggAACCCCAAAIIIIAAAggggAACCCCAAAIIIIAAAlEkQIAwiiaboSKAAAIIIIAAAggggAACCCCAAAIIIIAAAggggAACCCBAgJBnAAEEEEAAAQQQQAABBBBAAAEEEEAAAQQQQAABBBBAAIEoEiBAGEWTzVARQAABBBBAAAEEEEAAAQQQQAABBBBAAAEEEEAAAQQQIEDIM4AAAggggAACCCCAAAIIIIAAAggggAACCCCAAAIIIIBAFAkQIIyiyWaoCCCAAAIIIIAAAggggAACCCCAAAIIIIAAAggggAACCBAg5BlAAAEEEEAAAQQQQAABBBBAAAEEEEAAAQQQQAABBBBAIIoECBBG0WQzVAQQQAABBBBAAAEEEEAAAQQQQAABBBBAAAEEEEAAAQQIEPIMIIAAAggggAACCCCAAAIIIIAAAggggAACCCCAAAIIIBBFAgQIo2iyGSoCCCCAAAIIIIAAAggggAACCCCAAAIIIIAAAggggAACBAh5BhBAAAEEEEAAAQQQQAABBBBAAAEEEEAAAQQQQAABBBCIIgEChFE02QwVAQQQQAABBBBAAAEEEEAAAQQQQAABBBBAAAEEEEAAAQKEPAMIIIAAAggggAACCCCAAAIIIIAAAggggAACCCCAAAIIRJEAAcIommyGigACCCCAAAIIIIAAAggggAACCCCAAAIIIIAAAggggAABQp4BBBBAAAEEEEAAAQQQQAABBBBAAAEEEEAAAQQQQAABBKJIgABhFE02Q0UAAQQQQAABBBBAAAEEEEAAAQQQQAABBBBAAAEEEECAACHPAAIIIIAAAggggAACCCCAAAIIIIAAAggggAACCCCAAAJRJECAMIomm6EigAACCCCAAAIIIIAAAggggAACCCCAAAIIIIAAAgggQICQZwABBBBAAAEEEEAAAQQQQAABBBBAAAEEEEAAAQQQQACBKBIgQBhFk81QEUAAAQQQQAABBBBAAAEEEEAAAQQQQAABBBBAAAEEECBAyDOAAAIIIIAAAggggAACCCCAAAIIIIAAAggggAACCCCAQBQJECCMoslmqAgggAACCCCAAAIIIIAAAggggAACCCCAAAIIIIAAAggQIOQZQAABBBBAAAEEEEAAAQQQQAABBBBAAAEEEEAAAQQQQCCKBAgQRtFkM1QEEEAAAQQQQAABBBBAAAEEEEAAAQQQQAABBBBAAAEECBDyDCCAAAIIIIAAAggggAACCCCAAAIIIIAAAggggAACCCAQRQIECKNoshkqAggggAACCCCAAAIIIIAAAggggAACCCCAAAIIIIAAAgQIeQYQQAABBBBAAAEEEEAAAQQQQAABBBBAAAEEEEAAAQQQiCIBAoRRNNkMFQEEEEAAAQQQQAABBBBAAAEEEEAAAQQQQAABBBBAAAEChDwDCCCAAAIIIIAAAggggAACCCCAAAIIIIAAAggggAACCESRAAHCKJpshooAAggggAACCCCAAAIIIIAAAggggAACCCCAAAIIIIAAAUKeAQQQQAABBBBAAAEEEEAAAQQQQAABBBBAAAEEEEAAAQSiSIAAYRRNNkNFAAEEEEAAAQQQQAABBBBAAAEEEEAAAQQQQAABBBBAgAAhzwACCCCAAAIIIIAAAggggAACCCCAAAIIIIAAAggggAACUSRAgDCKJpuhIoAAAggggAACCCCAAAIIIIAAAggggAACCCCAAAIIIECAkGcAAQQQQAABBBBAAAEEEEAAAQQQQAABBBBAAAEEEEAAgSgSIEAYRZPNUBFAAAEEEEAAAQQQQAABBBBAAAEEEEAAAQQQQAABBBAgQMgzgAACCCCAAAIIIIAAAggggAACCCCAAAIIIIAAAggggEAUCRAgjKLJZqgIIIAAAggggAACCCCAAAIIIIAAAggggAACCCCAAAIIECDkGUAAAQQQQAABBBBAAAEEEEAAAQQQQAABBBBAAAEEEEAgigQIEEbRZDNUBBBAAAEEEEAAAQQQQAABBBBAAAEEEEAAAQQQQAABBAgQ8gwggAACCCCAAAIIIIAAAggggAACCCCAAAIIIIAAAgggEEUCBAijaLIZKgIIIIAAAggggAACCCCAAAIIIIAAAggggAACCCCAAAIECHkGEEAAAQQQQAABBBBAAAEEEEAAAQQQQAABBBBAAAEEEIgiAQKEUTTZDBUBBBBAAAEEEEAAAQQQQAABBBBAAAEEEEAAAQQQQAABAoQ8AwgggAACCCCAAAIIIIAAAggggAACCCCAAAIIIIAAAghEkQABwiiabIaKAAIIIIAAAggggAACCCCAAAIIIIAAAggggAACCCCAAAFCngEEEEAAAQQQQAABBBBAAAEEEEAAAQQQQAABBBBAAAEEokiAAGEUTTZDRQABBBBAAAEEEEAAAQQQQAABBBBAAAEEEEAAAQQQQIAAIc8AAggggAACCCCAAAIIIIAAAggggAACCCCAAAIIIIAAAlEkQIAwiiaboSKAAAIIIIAAAggggAACCCCAAAIIIIAAAggggAACCCBAgJBnAAEEEEAAAQQQQAABBBBAAAEEEEAAAQQQQAABBBBAAIEoEiBAGEWTzVARQAABBBBAAAEEEEAAAQQQQAABBBBAAAEEEEAAAQQQIEDIM4AAAggggAACCCCAAAIIIIAAAggggAACCCCAAAIIIIBAFAkQIIyiyWaoCCCAAAIIIIAAAggggAACCCCAAAIIIIAAAggggAACCBAg5BlAAAEEEEAAAQQQQAABBBBAAAEEEEAAAQQQQAABBBBAIIoECBBG0WQzVAQQQAABBBBAAAEEEEAAAQQQQAABBBBAAAEEEEAAAQQIEPIMIIAAAggggAACCCCAAAIIIIAAAggggAACCCCAAAIIIBBFAgQIo2iyGSoCCCCAAAIIIIAAAggggAACCCCAAAIIIIAAAggggAACBAh5BhBAAAEEEEAAAQQQQAABBBBAAAEEEEAAAQQQQAABBBCIIgEChFE02QwVAQQQQAABBBBAAAEEEEAAAQQQQAABBBBAAAEEEEAAAQKEPAMIIIAAAggggAACCCCAAAIIIIAAAggggAACCCCAAAIIRJEAAcIommyGigACCCCAAAIIIIAAAggggAACCCCAAAIIIIAAAggggAABQp4BBBBAAAEEEEAAAQQQQAABBBBAAAEEEEAAAQQQQAABBKJIgABhFE02Q0UAAQQQQAABBBBAAAEEEEAAAQQQQAABBBBAAAEEEECAACHPAAIIIIAAAggggAACCCCAAAIIIIAAAggggAACCCCAAAJRJECAMIomm6EigAACCCCAAAIIIIAAAggggAACCCCAAAIIIIAAAgggQICQZwABBBBAAAEEEEAAAQQQQAABBBBAAAEEEEAAAQQQQACBKBIgQBhFk81QEUAAAQQQQAABBBBAAAEEEEAAAQQQQAABBBBAAAEEECBAyDOAQAMJFBcXa9GiRVbrTZo0UVxcXAP1hGYRQAABBBBAAAEEEEAAAQQQQAABBBBAAAEEfAnY7Xbl5uZaH/fo0UNJSUlgIRD2AgQIw34KGUC4CsyZM0dHH310uHaffiOAAAIIIIAAAggggAACCCCAAAIIIIAAAlEnMHv2bPXv3z/qxs2AI0+AAGHkzSkjChMBAoRhMlF0EwEEEEAAAQQQQAABBBBAAAEEEEAAAQQQOCBAgJBHIVIECBBGykwyjrATWLt2rTp06GD127xUWrRoEXZjoMMIIIAAAggggAACCCCAAAIIIIAAAggggECkC2zZsqXiNLg1a9aoffv2kT5kxhcFAgQIo2CSGWJoCmzcuFFt2rSxOrdhwwa1bt06NDtKrxBAAAEEEEAAAQQQQAABBBBAAAEEEEAAgSgWYC03iic/godOgDCCJ5ehhbYAL5XQnh96hwACCCCAAAIIIIAAAggggAACCCCAAAIIGAHWcnkOIlGAAGEkzipjCgsBXiphMU10EgEEEEAAAQQQQAABBBBAAAEEEEAAAQSiXIC13Ch/ACJ0+AQII3RiGVboC/BSCf05oocIIIAAAggggAACCCCAAAIIIIAAAggggABruTwDkShAgDASZ5UxhYUAL5WwmCY6iQACCCCAAAIIIIAAAggggAACCCCAAAJRLsBabpQ/ABE6fAKEETqxDCv0BXiphP4c0UMEEEAAAQQQQAABBBBAAAEEEEAAAQQQQIC1XJ6BSBQgQBiJs8qYwkKAl0pYTBOdRAABBBBAAAEEEEAAAQQQQAABBBBAAIEoF2AtN8ofgAgdPgHCCJ1YhhX6ArxUQn+O6CECCCCAAAIIIIAAAggggAACCCCAAAIIIMBaLs9AJAoQIIzEWWVMYSHASyUspolOIoAAAggggAACCCCAAAIIIIAAAggggECUC7CWG+UPQIQOnwBhhE4swwp9AV4qoT9H9BABBBBAAAEEEEAAAQQQQAABBBBAAAEEEGAtl2cgEgUIEEbirDKmsBDgpRIW00QnEUAAAQQQQAABBBBAAAEEEEAAAQQQQCDKBVjLjfIHIEKHT4AwQieWYYW+AC+V0J8jeogAAggggAACCCCAAAIIIIAAAggggAACCLCWyzMQiQIECCNxVhtgTPn5+ZoyZYrmzJmjuXPnatOmTcrNzVVRUZGysrLUrVs3DRs2TFdffbVycnK89nDp0qX69ttvrToWLVqk7du3a8eOHbLZbGrWrJn69++vyy67TGeddZZiYmKCMsq8vDw999xzmjhxotauXSun06kOHTronHPO0c033+yzr8FonJdKMBSpAwEEEEAAAQQQQAABBBBAAAEEEEAAAQQQqF8B1nLr15faG0aAAGHDuEdcq998842GDBlS67gaN26scePG6dRTT/XIe8UVV2j8+PG11nH88cfro48+UnZ2dq15a8pgApFnn322tmzZ4jVby5Yt9cknn6hfv34H1Y6vwrxU6oWVShFAAAEEEEAAAQQQQAABBBBAAAEEEEAAgaAKsJYbVE4qCxEBAoQhMhHh3g0TIPzjH/+oE088UX379lWbNm3UokULORwOmb88P/jgAyuoV1ZWpoSEBGuXYM+ePd2GPWrUKC1btkyDBw9Wjx491Lx5czVp0kS7du2yfv7yyy9r8eLFVplBgwZp+vTpio2NrROd2eFo+rlt2zbFxcXptttu05lnnmnVNXnyZD311FOy2+3WzsV58+apVatWdWqnpkK8VIJOSoUIIIAAAggggAACCCCAAAIIIIAAAggggEDQBVjLDTopFYaAAAHCEJiESOiCCfyZo0BrSuYYz3PPPdfKct555+nDDz90y24CciZY5yuZNi666CIr0GjSp59+quHDh9eJzwQjx44da5V9//33deGFF7rVM2HCBKstk6666iq99tprdWqnpkK8VIJOSoUIIIAAAggggAACCCCAAAIIIIAAAggggEDQBVjLDTopFYaAAAHCEJiEaOrCEUccYe0GNEeNmjsKA02zZs3SgAEDrGJ33HGHnnjiiUCrsHYNmh2BJuBojjr94osvvNZx2mmn6csvv7QCn2bHodlNGMzESyWYmtSFAAIIIIAAAggggAACCCCAAAIIIIAAAgjUjwBrufXjSq0NK0CAsGH9o651c5+fObIzLS1NBQUFAY/fHDFqjh816aabbtLzzz8fcB3/+9//dN1111nl3n33XV188cVe6zCfXXrppdZnY8aM0bXXXhtwWzUV4KUSVE4qQwABBBBAAAEEEEAAAQQQQAABBBBAAAEE6kWAtdx6YaXSBhYgQNjAExBNzS9dutQK7pmdeyZQaO4hDDTdfffdeuSRR6xiL7zwgm688cZAq9CIESP01ltvWeW2bNli3XXoLZnPWrZsaX1kypQfSRpwgz4K8FIJliT1IIAAAggggAACCCCAAAIIIIAAAggggAAC9SfAWm792VJzwwkQIGw4+6houbCw0Dqec9KkSXr88cet4z1NMgG6K664wi+DHTt2aMWKFXrllVf0+uuvy+l0KicnRytXrlRWVpZfdVTN1L9/f82dO1eZmZnavXt3jeVNnvz8fJkys2fPDritmgrwUgkqJ5UhgAACCCCAAAIIhLuA0ykt/VRa+a2U1VY6+jopKSPcR0X/EUAAAQQQQAABBCJAgLXcCJhEhuAhQICQhyLoAm+88Yauuuoqn/WauwNNsDAmJsZnnhNOOEFTp071+nl2drY+/vhj/eEPf6hT382OQROo7N69u8yRpTWlI488UkuWLLF2GZodhYEk89KoKZn6jj76aCvLhg0b1Lp160CqJy8CCCCAAAIIIIAAApElkLtc+uy2yjF1O1s6OrjH/EcWGKNBAAEEEEAAAQQQOFQCBAgPlTTtHEoBAoSHUjtK2vIVIOzVq5f++9//6phjjqlVwleAcPTo0brnnnvUtGnTWuvwlSE1NVVmZ6Ppx8yZM2usx+QxOwfrcmdiTQHQ6o0SIKzzdFIQAQQQQAABBBBAIFIEfnpO+5d+rry9JUpOsKlRSoI0anKkjI5xIIAAAggggAACCISxAAHCMJ48uu5TgAAhD0fQBcyxneW754qKirRq1Sq9//771q6/Tp066ZlnntGZZ55ZY7tr1qzRvn37rONETX3mSNCXXnrJqmvYsGHWcaPNmjWrU99tNpscDoeOO+44TZs2rcY6zC7F6dOny5Sx2+0BtUeAMCAuMiOAAAIIIIAAAghEs8DeXNnfG6n5G3arrMxpSXRskqpmN38TzSqMHQEEEEAAAQQQQCBEBAgQhshE0I2gChAgDConldUkYO4dHDlypHW06KuvvqpRo0YFBFZcXKwLL7xQkydPVps2bfTzzz/X6VjOQ7WDkCNGA5peMiOAAAIIIIAAAghEq4CjTHrzbK3fuU+bdhVXKMTZYtT/nu+luMRolWHcCCCAAAIIIIAAAiEiQIAwRCaCbgRVgABhUDmprDaBiy++2NpNaIJ05ljNRo0a1VbE7fMdO3aoXbt21hGhl156qd5+++2AypvMh+oOwto6xkulNiE+RwABBBBAAAEEEAg7gfwt0oK3pIQ0qc+VUmJ67UOY/6a08H0tWL9LxaUOt/wD7/hAymxVex3kQAABBBBAAAEEEECgHgVYy61HXKpuMAEChA1GH50Nm4De5Zdfbg1+/PjxuuyyywKGGDp0qL7++mulpKRoz549iouLC6iOfv36ad68ecrMzLSOL60pmTz5+fnq37+/dRdhMBMvlWBqUhcCCCCAAAIIIIBAgws4ndLY4e7d8OcOwc/u0OYVC7Qur9BjCANvHSfldGrwodEBBBBAAAEEEEAAgegWYC03uuc/UkdPgDBSZzZEx2UCeybAZ9IjjzyiO++8M+CemgBj+c7BzZs3q0WLFgHVMWLECJnjTk3asmWLtaPQWzKftWzZ0vrIlBk7dmxA7dSWmZdKbUJ8jgACCCCAAAIIIBBWAqt/kKb9273LIz6RYm01DiP3hSFauW2v1zwDbx4rNekcVgx0FgEEEEAAAQQQQCDyBFjLjbw5ZUQSAUKegkMq8MYbb+iqq66y2nzuuec0evTogNs/4YQTNHXqVKuc2d2Xnu7HsUVVWhkzZoyuv/566yfvvvuuzLGn3pL5zBxjatLLL7+s6667LuC+1lSAl0pQOakMAQQQQAABBBBAoKEFTHDQBAmrpiEPSa36+O6Zw6EZ9w/2+fnAq5+Q2hwj7cuVUnK4j7Ch55j2EUAAAQQQQACBKBVgLTdKJz7Ch02AMMInONSGd8YZZ2jKlClWt77//nuZYF8gadOmTerYsaNKSkqsuwjXrl0bSHEr79atW9WqVSs5HA6deuqp+uKLL7zWcdppp+nLL79UbGysTLu+dhoG3IEDBXip1FWOcggggAACCCCAAAIhKbB6qjTtCfeu9bpc6uX60p3XlLdKM565wufHA49oJ6U1kXaukZIypS7DpCZdpFZ9pZiYkGSgUwgggAACCCCAAAKRJ8BabuTNKSNiByHPQJAEzM7ASy65RElJST5rfPrpp3XbbbdZn7dv314rVqyouD9w+fLlMn/JnnTSST7Lm/sGhw8frunTp1t57rnnHj388MMe+avuMFyzZo3VVvVU9ZjRCRMm6IILLnDLYn520UUXWT8bOXKkzPiCnXipBFuU+hBAAAEEEEAAAQQaVGDFN9JPz7h3YcCfpa5n+O7Wmmma8drffH4+sFOO9886nyoNCvw0kgb1oXEEEEAAAQQQQACBsBVgLTdsp46O1yDADkIej6AImCBcQUGBzj//fB177LHq1KmT0tLSrJ8tWrRI48eP108//WS1lZCQoM8++0ynnHJKRds//PCDTjzxRB111FE655xz1LdvX2vHXlxcnLXjz5R99dVXrX826cgjj9TMmTOVmprq0X9/AoQbNmyw2sjNzbXauP3223XmmWdadU2ePFlPPvmk7Ha7mjRpovnz56t169ZBcapaCS+VoJNSIQIIIIAAAggggEBDCvz2qTR7jHsPjr5W6na2916VlarotbP0y/rdPnvtM0BoSlw5UbLFNeSIaRsBBBBAAAEEEEAgSgRYy42SiY6yYRIgjLIJr6/hmgDhunXraq3eBNpee+01DRkyxC1veYCw1gokmWNKX3/9dSt45y35EyA05WbNmmUFI8uDjtXrMgHKiRMn6phjjvGnWwHn4aUSMBkFEEAAAQQQQAABBEJZ4Jd3pF/Gu/ew7yiph/tpHRUZvrhL21fM1qrt+3yOakCnbMWo8ijRMofTOlk01vyf/ldL3c8NZRH6hgACCCCAAALRLGCOSI+Nk7LaRLNCxIydtdyImUoGUkWAACGPQ1AEVq1apW+++ca6V3Dp0qXatm2b8vLyrCNHmzVrpl69elk79MyxnSkpKR5tlpaWasaMGfruu+/0448/av369VYdhYWFysjIUIcOHaxA3WWXXabBgwfX2Gd/A4Smkh07dujZZ5+1AoHl9xmats4++2zdeuutysnxcaRRENR4qQQBkSoQQAABBBBAAAEEQkNg5bfSj0979qXTidJxt3vv4xtnauueIq3ZUehzDMd0zHYFAyWt2bFPW/OLFRsjdWqSpsZpidKoyaExfnqBAAIIIIAAAghUFZj5krTsM9dP+oyQerquMiKFrwBrueE7d/TctwABQp4OBBpIgJdKA8HTLAIIIIAAAggggEBwBWb+V1pWQ6DORxDP+cYZWrB+t/aXOnz258jWGdqws1AFRXY5nO7ZBvTrq5izXwjuWKgNAQQQQAABBBDwR8DplHWsgbdUtEt670r3T0Z8IhXmSZvmS9kdpSad/WmFPCEkwFpuCE0GXQmaAAHCoFFSEQKBCfBSCcyL3AgggAACCCCAAAIhKGAWx8YOr7lj5g5CcxehSaXFksMuJaYp7+WztHxjbo1lu7VM12+bC7zmOeKwjsoaWe1I0xAkoksIIIAAAgggEGECZmeg2SFYnk5/XHKUSl/efWgH+oc7pI4nHNo2o7g11nKjePIjeOgECCN4chlaaAvwUgnt+aF3CCCAAAIIIIAAAn4IbF+qHe/frDhbjBJssUqMs8lmzgCtns59WdqzUZr+b6m0SDryfE3/5BXFyffuQVNF91YZWrIp32tHDmuWpiZ/+kyKS3B9vmut638teknJWX50niwIIIAAAggggECAAvmbpY+uC7BQPWdvfLh04j1Sav1dlVTPIwiL6lnLDYtpopMBChAgDBCM7AgES4CXSrAkqQcBBBBAAAEEEECgoQTKZo3RnM9el9lIWJ56tM5UWmKce5eOOEta96NUuLPi5zNW5dXa7R6tM7Roo/cAYbucFLXMSvZexyVvS0kZtdZPBgQQQAABBBCM8Co1AAAgAElEQVRAICCBj/8s7dkQUJFDlvmiN6WUbFdz5pezFV9J+ZukdsdK2R0kW/wh60okNsRabiTOKmMiQMgzgEADCfBSaSB4mkUAAQQQQAABBBAImsDuH1/R0i9fdauvb/tG1m5Ct9S8p7R1oduPvAUIXyk7XdfYPq/I17NNphZu2OO1v80zk9ShcarvsYyc5PtuoKAJUBECCCCAAAIIRI2Afb807vzQHm6nk6TBt0iLP5Tmv+ne16EPSy17h3b/Q7h3rOWG8OTQtToLECCsMx0FETg4AV4qB+dHaQQQQAABBBBAAIGGF1j05u3au+Lnio7ExEjHdMhWjPmHqikhTYV7dyt3737JKeWkJXjsDPyX/RKtczbVi/HPVZQ0uxEXbXQFCO2KdTuSNDs1QV2ap1uflTmc2ppfrBK7Q9mp8cpMTpB6XyEddUnDI9EDBBBAAAEEEIgMgbmvSYs/Cu+xjJoc3v1vwN6zltuA+DRdbwIECOuNlooRqFmAlwpPCAIIIIAAAggggEDYCpQUSpvna/PE+7Uur7BiGM+XnaOX231nBezK/9c4LdH657lrd9U43EtL75YUo3fi/1GRzxwjuqe4VLv3lerFsrN0g+1Ttzq6tcyQw+nUsi0Fbj+Pj4uxgofp138ZtsR0HAEEEEAAAQRCTOCNM3136MynpZzDXKcXmCPVze69ld/4zt//amlOlVMY+o6Sup8nxVY7haFqDfsLpN8+lX59p+4w5lSH0x6pe/koLslabhRPfgQPnQBhBE8uQwttAV4qoT0/9A4BBBBAAAEEEECgmkDJPunti91+uHRLvnYXllb87KbS0Xoh/nm3PP3aN7J2923cWVQj6W0p/9CeolIdZ5+hUbavKvL2aZelxZvy9dT+4brJ9onf09IsM1Ed7/jB7/xkRAABBBBAAAEEfAqU2aW3zvH+cfdzJRPwq57MF6q+vk/KXVb5iS1BOv8V112B5p7A/flSYkZgx6IvGCf9+m7dJ8u0n97cd3lzlKq5vzAmVjp8KHcXHpBiLbfujxwlQ1eAAGHozg09i3ABXioRPsEMDwEEEEAAAQQQiDQBL9+ar36P4Lgj/qMrlt7oNvLebbP025Z87S911CjS+74f1fXeL2TOIH0n/p8VeVs1SlarrGTdZL9VIzbc57eqOca085m3SklZUscTAlt487sVMiKAAAIIIIBAVAj8/Ly03MfJBBe/JSU38s7gcEiFedKO5VLBFqndYCmjxcGTFe12Be6qfXnLr4o7HC8d/1f3rCaYuXOVtH2p592FJvhpgqBRnljLjfIHIEKHT4AwQieWYYW+AC+V0J8jeogAAggggAACCCBwQMAclfX+COtfnHJq064ibai2I3C7svRRhwfVcfV4DY2ZXUFX9R5BX54bnY114T8m6a0Za3XvJ0vcjhltlpGojk3SlHv+h3rqsTt1VuwMj2ouL71Lg2MXux1BmpkSr24tMlx5jzxP6vfH0JpOs2C4+ANp41ypeQ/pqEslW1xo9ZHeIIAAAggggIBUvEd693LvEp1Oko67rValV6av1qw1O2vMd+fpXa3feQJKNRx7unxbgQpLylRUUqaEuFj1apMlW+yBe6IvfUdKdN3lrOJ86bPbXQFMX+nCsVJqTkBdi7TMrOVG2owyHiNAgJDnAIEGEuCl0kDwNIsAAggggAACCCAQuMDvX6js5+eVX1SqjbuKtLfY7lHHjaU365+Xn6BJ77yoK22Vd+60zErS5t3FNbb5lP0CTXj0du23l6nLPV9oaOwcXWVzfUs/NdGmnndPt3YAnnDnK3o0rsp9PZI2qbHuKP2TcrTH7XjTtCSberTKqmx31OTAx12fJdb+JP3waGULg2+VDj+lPlukbgQQQAABBBCoi4DZVTel2o678nr8/BLSre8u0MRfNtfY+sc3DFLvtj52Ivoqae4lfOdSr5/OXJ1nnWJaNXVqknrg96s4pf5xohSfJC2cIM0fW7NMRkvpvDF10YuYMqzlRsxUMpAqAgQIeRwQaCABXioNBE+zCCCAAAIIIIAAAgELOMddoCXrt6mgyDMwWF7ZpaX3aMmDp+q4+yfoP/HP+WxjjrOzPio7TuudzXRYzCbtcqYpV4209rEzrDLt//6Z9f87xmxWpvYpo9PRGnvNIOtnf3l3gQYvuU+ttKOi/vvtI7Xc2UapKtIr8U+6tTuwU5VvuodagNDsRDA7EqqmUOtjwE8KBRBAAAEEEIhAgY3zpG/u9z6wHhdKfUfWOuh6CxCalkuLpfEXePSh+lHwVTO0yU5W60Yp0mXv+X9Mac+LpDbHSE261DreSMzAWm4kzipjIkDIM4BAAwnwUmkgeJpFAAEEEEAAAQQQCFhg38unaeFG92DWw/YrdLHte/3q6KSPHMeZA2qsIJ8J8L0T/w+vbZjdfv9Xep0cinX7/LHzeuiSo9taP3tkylKNmbba+ueUBJum/vVENUlPtP790c+X6o2py9Q3drnSVagZju7KV6o+umGQZq3Yql4/uB8j6hYgHDnJdQ+h+Sr9ssnStiVS6/7SYScH7BGUAt6OBCNAGBRaKkEAAQQQQCCoAr99Is3+n/cqj7pE6n1Frc3Va4DQtL57gzTxz5X96HGB2k9oYh0O/8+419Qxxv340IoAYa0995Jh8C3S4UPqUjKsy7CWG9bTR+d9CBAg5NFAoIEEeKk0EDzNIoAAAggggAAC4Szw26fS7APHO2W2kc596ZCMZud/hur3rQVubZkdg1XTtL+eqLY5Kepyz+f6s97XMTHLPPpWvYy5C+e2IZ31h85mAcuVnE6nvlm63TrO9IyeLZQUb6v4bN66XTr/pZ896jWBye+XbVPS+HPcPhvQMVsxJiho0ol3Se0GSau+k6Y/VZmvzwjJfCP+UCb7fmnc+Z4tEiA8lLNAWwgggAACCPgnsOgDad4b3vOa4KAJEtaSvlqyVeZOwJrSBX3bqHlmUm1V+f58zyZp7XQpq53UbqAuGTNDM1ebew+deif+n27lEuNj1SfQ40yr1nD836QO5gti0ZNYy42euY6mkRIgjKbZZqwhJcBLJaSmg84ggAACCCCAAAKhL+Dtjpkuw6SBN9R73xc8PFjFJQ63dqoH+8qPCL3zo0VaPOcH3RX3tlv+e+xXaZWzlfWz4Ue11K2nHK5OTdIC6vueolId9eBXbmV6tMrUpNHHan1eoTY9474b8OgO2bLFHggQZrWVznlR8rZzb8QnUmxlIDKgTtUl88a50jcPeJYkQFgXTcoggAACCCBQvwK/vCP9Mt57Gw3xRSM/R1tid6jzPZ9buTvFbNI/4l53K9mtZYYyk+P9rM1LtovelFKy614+zEqylhtmE0Z3/RIgQOgXE5kQCL4AL5Xgm1IjAggggAACCCAQ0QJTH5fWTPMc4iEIKs24d6BHu+8f+ZI++WWTctIS9dLlfdSvvWuBaMW2Ag15eqpei39CySqxfrbe2VR/s19n/fNnNx+r7i0z6zxVb/y0Rg9M+q2i/Kc3DVbP1lnaXlCsVY+f6FZvv/aNFG87cJxpfLJ0+QTvAcIhD0mt+tS5T1bBdT9Lm3+RWvZy7VSsKW2aL319X4PM5cENktIIIIAAAghEgUDVL/KYINjSSdKiCd4H3qqvNOTBkEUxv6vd/fFima9Lxezfo+6xa3Wz7WOrvwe9i9BUcgh+Dw0VXNZyQ2Um6EcwBQgQBlOTuhAIQICXSgBYZEUAAQQQQAABBBDwHtg6RAsz3gKEAx+eoaKSMiXFx1Ye43lgnsw9hCY1kznWStomV/Bw5T9PV1x5wO4g5tR8I96khLjKuwzzi0u15J9/cKu1T7ssJcZV2RnY9Qxpmatvbulgj8mqHvAbeJPU5TTfI8z9Xfrsds/PzSJb7nJpX67kKJXmvOrKM+AG66gwEgIIIIAAAgjUs4C3Y8C7nyMtmei9YVu8dKUr4BbKyRzh3uHOKVYXY+XQ+PhHrH/2+F2pfBC9LpN+cT8Nwuv4CBCG8rTTNwRqFSBAWCsRGRCoHwEChPXjSq0IIIAAAggggEBECjid0tjh3od2CBZmqgcI3y47Sc8/4n6XTdXOnffiT5q/frdbf/91fg9d3L9tvU2PCRrOe3CwW/292mYqOT6u9jaP/Yt0mPvxpLUXqpLj/ZFSYZ57EbNYaBYNvaVPbpR2rfP8ZMCfpZle7pVMypQuHCvZ/BhLQB0nMwIIIIAAAgi4CfzwmLT2R3eUrmdKyyZ7hzInBwz9R1ggdr/vC+0rKTvQV6dOil2gW1O/VFKcTXv32617n1t27K6sC/8j7VojTbql9nEdgt9Da+/EocnBWu6hcaaVQytAgPDQetMaAhUCvFR4GBBAAAEEEEAAAQT8FtiyUPryLu/Zu50tOR1S025S+2OlmAN37vldee0Zp957nBJkr8j4bNKf9O7dI30W9HZXYPkdhbW3Vrcc5pvxs+4fJBNLLU89W2cqNdGPoNqg0VLnUysLVq2keI/LdM9GKaOltHO16zjRpkdInU52febtXsPBt0iHD/EczIbZ0rcPBT5Ic3+iuUeRhAACCCCAAAL1J/DelVLRLvf6m3WXti3x3mbPiyRzD2EYpE27izT4se9q7emoQe2VXbxRo/c953FKhFvh1MbShW/UWl+kZGAtN1JmknFUFSBAyPOAQAMJ8FJpIHiaRQABBBBAAAEEwlHAWwDK2ziOvlYyAcMgpxn3DVLVyFvR6U/ppEE1H3k56dfNeuzzZUpJsOnR83pU3FEY5K65VTf7/oEqc50+aqUjW2UoPcnHLr6qJc3OPXP8aNFu6YdHXYuALY6SHGXStsU1dzkhTSrZ65nnyPOkfn/0/Lm/c1m9pAk2mqAjCQEEEEAAAQTqTyDQ93TvK6WjLq6//gS55tOemaZlWwv8qNWpNb3eVUzxgRMhYm2u34vKU0ysZH7X6TvKj7oiIwtruZExj4zCXYAAIU8EAg0kwEulgeBpFgEEEEAAAQQQCDcB8y128212f1Owj3qyl2jmQ8e77czLvuJVdenSzd8eHbJ8cx8YpNKyyi2E3VqmKzM5ofb2zR1/XYdJiz6Q5gXxm/De5iLQhceqvQ/23NYuQw4EEEAAAQSiSyDQ9/SQh6RWfcLGyNspD746v/r2zopd8KbryPS+V0lpTaWSfVJyo3o5sSLUEVnLDfUZon91ESBAWBc1yiAQBAFeKkFApAoEEEAAAQQQQCAaBFZPlaY94XOk5riobfnFSo63qWOTVCV2O0MadFPQZBy7N2nWkxe41dfk+ok6rHWzoLURrIpef/gadS2pPAKsa4t0NUrxI0A48Eapy+nejwo9mM6d9byU3cG9hkAXHquWJkB4MLNBWQQQQAABBGoXCOQ9bd7xw58Lu2DZtW/O1de/bavVYvUjwxQbG/yj62ttOEQzsJYbohNDtw5KgADhQfFRGIG6C/BSqbsdJRFAAAEEEEAAgagS2DhX+uYB5e3br7y9JRVDT06wKTMpXks251f8rFFqvLo2z5CGPyvldAoK0/4tv2n+i1dX1FUqm9rf+pXa5qQEpf5gVvJ//3pG5+59r6LKzs3SlJOWWHsTR10i9b4i+AFC03L1oF4gC4/Ve27umZRT6n+t1KRz7eMiBwIIIIAAAggEJjD1CWnN1NrLmCPGzf178Um15w2xHMWlZTr/pZ/dfoes3sVLj26jf57TgwBhFRjWckPsQaY7QREgQBgURipBIHABXiqBm1ECAQQQQAABBBCISoEtv0pf3q0Nuwq1cWdRrQQDO+VIjQ+Xzny61rz+ZChYM1+LX7uxIuteJannXz9Xs4zQWxC75enXdcnOMRV97dQ0VU3T/einubfRHJ311jn+kASWZ+jDUpOu0u+fSyk5HrtB9+63a39pmRxyyuGQUhJtSk+s5d5Ec8TX+a/6v2Nhy0KptEhq3U8ydwiREEAAAQQQQMC7wI/PSCu/qV2nxwVhff9eaZlD//7qd039PVf922erzOnUtOW56tQkTY+c10OtspJrN4iyHKzlRtmER8lwCRBGyUQzzNAT4KUSenNCjxBAAAEEEEAAgZAUOLCD0N8AYb/2jRRvi5VGTvI/gFTDwLcv/VGr3v5rRY48peu4Oz9TZkotQawGwLzgxZ80cstDaizXrsoOTVLVPAQDmVVpVm4vUG5B5c7QlllJapeTWrveuf+VMlvXnm/+m9LC9135WvWVhjxYe5lDmcNeIhXmSamNXXcckRBAAAEEEGhIAX8DhCfeJbUb1JA9pe1DLMBa7iEGp7lDIkCA8JAw0wgCngK8VHgqEEAAAQQQQAABBPwSWPez9P0jfu8g7N02S0nxNunyD4Jy7NW2D/6q1b/+WNHV7THZOuvByYqJCb07aa54ZZaWrlylF+Kft/rbLidFLRvgG/BlDqdW5e7VrsISpSfF6/Cmaa6grZdk8m3P31/xSfPMJHVo7EeAsNNJ0rF/cQWBC7ZKu9e7diomZVS24nRKY4e7t3r2f6RG7fx69Oo908410qejXc3YEqQLXpWSG9V7szSAAAJRIFBWKv38nLTqe9dge10umeOkQ/DdFQWzEV5D9DdAOOJTKdb7uz28Bkxv/RVgLddfKfKFkwABwnCaLfoaUQK8VCJqOhkMAggggAACCCBQfwKrf5Cm/Vt7ikq0p8iuTbuKtM7ZVO1itntts2frTKUmxkmDbpY6Dz24fu3L0+6xl2rploKKeuLjYtTv/p8Prt56Kn3N2Ln6Zuk29YpZqb/Fvas22clq3SjwuxLtDqc27irUvv12xdli1SIjSRnJ/u1u228v04L1u2Vic+WpbU6yWmW5+mGCh6bu/XaHbLExbsHB8vxN0hN0WNP02pXMMbJlJdJX97r+vzk+NL2ltHer1HaQNOBP0juXutdz3G2SCS6GQqp+H6NZwO9Vrb+h0E/6gAAC4SVg/gL++Hopf7Nnv88bI2W0DK/x0NtDK+BvgLD6HcOHtpe01gACrOU2ADpN1rsAAcJ6J6YBBLwL8FLhyUAAAQQQiEqBHSuljbOlJl1cR92REECgdoEV30g/PVORr7DEridjRuiU9a5dctVT95YZlcGshFQpPlk6fKjUdqCU3aH29qrmWDBeeT+/oeVb91b8NCk+Vr3v+ymweg5R7pvenq/JC7fIpjKNi39UrRolq212YAFCp9Opuet2yV5WJcIn6fBmaWqclljrSH7duFuF+8s88pm7Idfs2Kete4prrSMxPlZ92vqxk65Zd6lkr7Rrnfc6+10lzX3d/bOjr5XMnYsNncrs3u98ZMG1oWeG9hGofwGz63nNNCmrndT2mOC3N/c1afFHvuv19ffM1sXSjuWu+1qz2ga/X9QYHgL+BAjbHC2dfF94jIdeBk2AtdygUVJRCAkQIAyhyaAr0SXASyW65pvRIoAAAghIMkfJTbpFcjpcHCfdWz+LQmAjEE4C9v3SF3+Xdqxw7fg7fIjn8WfLpkgzX3Qf1YhPVfr6mZq7dpfHaA9rlqYmvgJZfUdJPS5wL7O/QCraJWW28Wz7g6uVu2WdVm7fV1EmJdGmo+6pPHI0lLj/9sFCvTd3g9Wld+L/YZ0kN6BjTkBdXLG9QDuq3AlYXtjaOdkuu8a6ikrL9Mv63V7z9GmXpfnr3D8zIUhvB7UmJcSqdxtXgNDhdFq7Ec1uQ49kFtd3+wgO+uppQppkdtAs/kBWxUeeLyVnScV7pMKdUqP2h+YIvtIiafyFnr0kQBjQ80pmBMJOoGi39OE1kv3AlyWCsdu9OkL13cm+kM563vXFGfMOfO9K91znvixltgo7XjocBAF/AoS8q4IAHX5VsJYbfnNGj2sXIEBYuxE5EKgXAV4q9cJKpQgggAACoSzwxV3S1oWVPTQL0hePC+Ue0zcE6l+g+iLmGU9JTTq7t7tkojTnlcqftThKOvWf0sQbtHL5b8otqLy/rjxTq0ZJapvt4x67qoue62dJ3z3sKmYChGe/4Dqm8kByvH6GZq3e6dafUA4QPjplqV6ettrqrwkQmtSleZqyU2vf+eeUU6tz93k98tPUk5OWoM7NfB/7aXYe/rpxj4pKPHcP+nqQ9ilRqfKcv+QEm3q1ybKOlV2+ba+1m9HrnManSKWFgT+n5q7C3GW+y1V9DnebgKsz+Ltp9uVJE0Z69oFF18DnkxIIhJPArJelpZPcexzMP/eOMunNAHZJm3vk3jzLu+DISYfmCxPhNH/R0Ncfn5ZWfut7pANukLoOiwYJxlhNgLVcHolIFCBAGImzypjCQoCXSlhME51EAAEEEAimgLdvcwdzQSiYfaUuBA6FwN5c6YOrag+QLJwgzR9bma91f+mU+6X8LXJ+dI1mrnIP4JVnNDvWEuMqg31uDZlFT5PGDndvv8eFUt8DQZuNc7X707vc7h80ma8s/btWPhbA4uuhsDzQxuNfLNOLP6yy/u2l+KeVJdfOxwGdshXjda9eZedMMO63zZV3Le5Wqr4s66+LbT9YmZpnJqpD4zSfo8kvLtWSTfkVn3/t6KsUFWtw7BKfZYoVrySVenxeHiBctGmP9hbbKz7v3S5LSb7mNNjOl4yXlk6Wfn3HVbM5bs/stqkSQD6oJheMk359t/bn/6AaoTACCIScwEfXed4NGMzfB/NWuU6s8DcNvkX66Vnvuc2O68u8/D3lb93kC0+B2gKEwXxew1MoanvNWm7UTn1ED5wAYURPL4MLZQFeKqE8O/QNAQQQQKBeBAgQ1gsrlR6kgDni09w5lN780B8l9u1D0obZtQdIFoyvDNKY3O0GSyfe6SqXu1xffva+3loep0ts3ylHlQGu2FipXU6qmqQnymbO2qya/nCH60i1Oa96tn/Z+67PPr5eK7fvdduhOMkxUG+Xnay1j51xkPD1U3zW6jxdPGamVfkttg81IHap9c8dm6SqWUZSjY3OWJVX8fl1pbepQCk6Omap/p78sZLibcpOiVfzzGSfdcxfv0v7Sx16t+wEbVcjzXB0qzhAtHw3Y/XCL5edqettk73WubPjmcpe7f5Z6+xktWkU2J2KQZcO1o4aX0cAsvAa9CmjQgRCSmDCKGnfDvcuBevPvTk2ee6rktl5L2l7QXHFrm7zGkxPilejlITAOK74SIoLsExgLZA71ARqOmK06hepQq3f9KfeBVjLrXdiGmgAAQKEDYBOkwgYAV4qPAcIIIAAAlEnQIAw6qY85AdsgoOf3izlb3J1NbWxdO6Y4C4EmjbyN0vxyVJaM/ejyvwIkGzPL1bCr28qa9WnlZwdT5BMgO9Aytu7X6PfWaCi1TP1f3HvebBnpsSrbXaKdZddXGyMzO40s5vOHIlZsN+1Oy3eFmMFwarusisqteuX9Xvc6rvPPkpH9jpGT1/cKySnd13ePh3/hGvHXyvl6t/xL1f0c2CfXtLerVKZ5469YnuZFhy4H/Dm0puUqyyr3MThceq14nmPsRYUl2pXYakS42KVnhSnwpIyrdi218p3aek9Hvl9BQgvLb1b19im6OTYBW5lFjk76BH75RXHpJZ/2KpRsjWXDZpOvl9q0//gu+DH83/wjVADAgiEnMC7l7vuPK2aghEgdDikH5+UVk+tqHnp1nxNKuiqSY4Bejzuf9bPa/rCSIm9zByo7L773nyB6Pwqx3yHHCgdCrpATQFCb0fBB70DVBiqAqzlhurM0K+DESBAeDB6lEXgIAR4qRwEHkURQAABBMJTgABheM5bJPd6xde+jxU782mp8eGBj97s9tv+m3TMn6S926RvHnCvo+rCUi0BkrE/r9VDk3/T5TFf6NrGiyt3jh0+VBp8s0ffej7whV4ue7DWPjdKjVeXZulyOKXZayqPJzV37B3eLM0KEppgojnesnC/+316JqD1+S1/0BEtMmptp6EyXP/WXH25ZJvV/ImxC3Ry7HxtdjbWxTc+rHbpTunDa9y6VuZwVjj8r2yYvnP0sT6/54wjdM3A1tK489zym8DqzGr3MpZnmOwYoPFlp3gM/Qrb1zojdpbbz39ydNcLZedaP6seQFzo7KBHvQQIW2YlWbtCGzwFYzGfAGGDTyMdQKBBBMZfKJUWuTcdjL9TJt4o7V7nVq8JEL6Uf6w+dQzW1bYpOiV2vvV5/w6NFGe22VdJW/YUaW1eoXXlqsdu7XNekrLa+Obas0nKWyE1OUJKb9YgrDQaRIGajhi9cqJkiwtiY1QVTgKs5YbTbNFXfwUIEPorRT4EgizASyXIoFSHAAIIIBD6AgQIQ3+Ooq2Hn90u5f7u36i7niEddamU7NpZ5jX5CnhUz3zqP6UWR0k1BEhe/2mNHpz0m1XyGttnOsW2QP3aH1jQNH0Z8GePLpj79477ycudhl4627VFujKS4t0ChOXZjmiRrjhbrBZtdN/hcUXpnbqwf3s9dn5P/8waKJe9zKHD7v7co/WHz+6uKwe2l96+RCpx7fYzaVt+sVbnuu4qrLr7b/UjwxQbGyN9/Cdpz8aK/Es271F+kWvn5X7F6/Wy09Q5ZoO+cvTTOmdzr6O2qUzj4h91++xu+x+12tnS+ln1AKG5v/C1stM9fm7yHtUmUykJ9bM4mbdvvzbuKrJ2mnZonOq7neHPSjmdDm6GCRAenB+lEQhXgbFnSU6He+8PNkBYuFN6f4SHiAkQ3rfnbM1xdrU+6xCzRQ/HvaZ2jZLUpspu7M27i7TOBAerJPOFjLY5KZU76wfeJHU5zb0Nc6TpL+YY8AP3FJrTAswXgXwFE01+R5nrLtfqR3+H63xGYr+nPyWt+s5tZPvtZVqzY59uSnhYowa11xUD2kXiyBlTLQKs5fKIRKIAAcJInFXGFBYCvFTCYproJAIIIIBAMAUIEAZTk7qCIfD536RtSwKr6fTHpTVTJXuxlN1JsiVIHY6TY/tyrXnnL9qev9+qr0l6gtIS43zfWXfsXyTzDXUvafUZ7+qkJyuPSLvB9omOi12k7i0zlJEcL3U/V+p/tUfJMdNW6eUps/RCfOWRmI/bL1a7mG3arVRdbwmN+H0AACAASURBVPusoow5ZrRHq0yvAUKTKSXR5rZ78AtHf40tO1WTbjpWPVpnBmbWALknLtikW9/7xa3lB8/qrpGD2kvvXCrtr7yrcd66nSqxm0PlKgOE1x7XQXefYe4QlGQWdMcOt/5x7357ReD0HvtV2uRsrGIl+j3Ck2PnaXDsEo0vO1mrnK0qyl1k+17nxv7kak7S6NLRylOm1wChyTOwU47fbfqT0SmndURq3t6SiuzxcTHq1y7bd/GDXdAnQOjP1JAHgcgTqI/fB81x4TtXe1iZwN8/4kdryob4is+q7ug2X7gw6dcNlV+IyVWmmsj174c1Nff4Hri/1gT/Lp/gqse8Q0oKpTmvSOtneM6Rt78fi/Oldy+rzGuChCM+ibz5jYQRTX9SWvW9NRJzjLs5Ujy3wPX7XfkXiRqnJWj0SYe7fq8gRY0Aa7lRM9VRNVAChFE13Qw2lAR4qYTSbNAXBBBAAIF6FyizS2+d496MCaxc+VG9N00DESqweYHreNB9O6TBt0iHDwl4oCvG/UVZuxfLFiPZYmOs3VLxNvcjx/yqNL25ZuxMldbPdstujuzs3CzdryqqZvq09xjd/E7lnXS32D7UgNil6tYyXZnJCdJRl0i9r/Co94N5G3XHhF8P/NwV8JJiKvJV3aWWlhSnbi0yfAYIq1f+etmpyux9rh6/oKdiwmDXgzk2tNNdUzyM/jeinwbOGa0Uxz7FHhjHjFV5FfnKF/6WPXyadSdjRZr7urT4Q5Xn3aU03VB6a8Bz66tAnOw6x/aTWipP3zp6a4mzg5X12fgX1FS7PYoFK0BYWuZQUWmZ1u8sVMGBXZFVGzO7Vn3+mSBAGLT5pyIEokog2AHCvbnSBzXsnr/yY7W/+6sK4vNip+lC2zTr382737wvqibzHhge+7Mus7l2kB3dMVu28vee+XtvzTRp6uM1T1mTLtIZT7rymC+ZmDsXF02QfqsWEOxxodR3ZFRNf1gMdtoTFXdZmruNN+8u9vg9wfwgIylOCx84NSyGRCeDI8BabnAcqSW0BAgQhtZ80JsoEuClEkWTzVARQAABBKR9edKEagsgTbtJw2pZYMEOAW8CZrHNPE/mSLHyNOwJqekRAXn976FrdGRp5Q5Cc7RmVkpCQHWUZ64aZCr/mbnrr2vzwO/qG9f1P7pn4mKlqkg2OXR93CT1iVmpNtnJatUoWTF9Rko9L/Lop+nDpf+b6bP/VQOECXGx6tuukQqKS7V0S4E2Ohqphap4Vqvlm1bX694/jaqTTUMVumH8PE1ZtNWj+dG2jzS64xbFx8ao1OHUvLW7rDwrnK10n/0q3Taks24+udr9k0W7ZP/4Bs1ZulYOxegJ+8X6xXmYX0N777oBOqaj+46/rXuKddkrMyuONq1e0bAeza2+D4mdqz/avvBop0+7LCXGVQlg+tUT90yFJXYt2Zwve5n74njVXD7vPDRH5Jqjcuua7CUedztWVHWwgce69smfcjvXuO44a9VXSgw8+O9PE+RBIKIFNv8ifXWP5xDr+ufe4ZDePKtmslGTrS93lL8fT4udrZG2yoBh1cJ32a/WGmcLdY9Zo3vixlsfNctIVIcmqa6jRkdOqthRXus8mTGZwOC7l9ec1ZwocNjJlXnMl+r2bJBSG/P3TK3IQc5gdqGu/NYtkFtTgNC0vvaxM4LcCaoLZQHWckN5duhbXQUIENZVjnIIHKQAL5WDBKQ4AggggEB4CexeL028wb3PrfpIQx4Kr3HQW/8EzLFb5n6/wh3S2S9KaU38K+dvrqLd0nueO+hU2wKjCSiu+EpKyZEOO0UzHjjOdRfQgXRkqwylJ1UeQ+Zvd8zug9lrPINr2anx6hJogLDtAL0Ye4k2f/2Czoid5dGF3m2zlDToeql7tR25kkrsDp305A/WHXLl6fJj2ursXq20dsc+ffjRe7o17kPrI7MZ4ugO2Yod/qz2prdXn/sna2z8v3wO+cveL+qB83r7SxIS+f48bp4+X+wZIGymnZrZ5V1tK9ivNQfuHjQdftA+QsucbfXDHSeofeNUjzGs27hRd704ThucTbXe2cyvMS56YKjPZ6q4tExr8/bp0jEzrePLqqbZd52sk5+aqrTibXoq/iWPtlpnJ6tNoxTr50Wldv2yvvJ4vNqCh3aHQ3PWuIKiVdP1pX/Ry/Hux96mJtnUs5WXezc7nyYNuqlmA3O/57yxki1e6n+N+51cs16Wlk7yXr62P8d+yddDpg1zpO8ecu0GSsqUzv1v6C7eF+2SFn8kxcZJPS6QEjyf53oQokoEahZYMK7yrr7qOX39uV/2mTR7jBSXLP3hDql1P/eSNdVZnnPUZDmdTp3x3I/6bUu++sb8rjviDhwVWq0f5bvIs1Sgl+Kfrfi0b7ssJZgvZZg/+ybo50+67H1pxn9cx5LXlszJAF3PlL77h5S7rDL3sH9LTV33J5LqKGD+zvbn5ANvX2aURICwju4RWoy13Aid2CgfFgHCKH8AGH7DCfBSaTh7WkYAAQQQaACB9TNdix5VU5ujpZPva4DO0GS9C1Q/PuzyD6T4A3f4BKPxVd9J05/yrKmmwEJZqesIMhNctO55c2rm6p2uC98OpJ5tMpWaEBdwD/fuL9Wijfke5dzuLvK31rYD9XzB8eo3969eS1gBwuNGS12Hef18e36xPl6wyQo49WvXSKd0cwWydu0r0d8nzNOFxR+qS/GvKsnqpDbn/UMJGY2tz81uu/a/vWzddegtdbtzmjJTAg+e+jvs+si3cvtenfKU94XZzzP/pd3VgnLlC8NrHh3mcYyqCeZ1vddzJ5/ptzm29No353oM4cXL+2hYjxa1Ds3ca/Tpr5u1Onev2uekamj3ZmqXk6r/Tl2lxz5fprvjxunImLUe9ZQfMzp//S7tL3VUfJ6RHKfuLX3fE7l+5z5t2lV5XJopuMB5mB63X6I74t5T35gVFXWZuyp7ts6Uucdrv92hphmJSk+Mlzqe4Fqs95XMrp73r6xcSM85TBr+TGVuX/cPmhyhGiD8+j5p0/zKMZggvQl8hmL65EZp1zpXz1r2koZWe/+GYp/pU/0LmACICdgnBb6zPSidC/TPfWmR685Yh93VfEZL6bwx7l1582y3L/p49PO0x6TmR1o/3lNUqglzN+jfn/2i1+Of8Dqk8veA+eXgnfjKXdIVAcKgQARYyRUfSnH+33UbYO2RnX37UumLv7ueEXPyQp8Rvsc7+S/Sjsr3X3nGXYUlyi9yfYnn73mna4aju1sd7CCM7Eeo+uhYy42u+Y6W0RIgjJaZZpwhJ8BLJeSmhA4hgAACCNSnwOofpGn/dm+BAGF9ijdc3QXb5Pzgj9pdVKrYGCkjOV4xrftLpzwQvD75WmSsKbCw4mvXnYUHkrddf1bwreq9c372eNaaPJl4SNXUq22mkuMDDzaqzdH6celG2bZ5D9RZfTzxdmsHZDDTv7/8XS98v1IX2n7QebE/ulX9fes/6a7rw/OOpI/mb9Rt75ffy1g5rBzt0Qvxz7uN0ywMD+3WTGNGVNuhYnbplZTpiPs8A4RxsTFacN8Q9XjA87g6b4HGQOZsv71MXe75QjaVqW/Mcv0pbpKSVVJRxYBO2daRd96Ot63pjkJv+Wc7u+pp+wVKV6HGxFcG381RtI3TEtzuX7LuJcxsLl3wmu/hbF0kfXGn++dVF7kDDRQEAldfeYN1b9r+vdL7I6SyEqnb2dLR1wa3x+YY1E9Hu9dpdjIluHackqJUYPb/XMcmml2l5kjLjscHD8KcEvHru64gVu8rpZRsz7rNl3TeOtd3m97e32umS1Or7Ww3R3yW7wYzO8PGDnevs3lP1/HH+3KlxAyvX056ePJvSpvxb+tu3/KUlBCrH9NOVddTr1e7nBQNfXqaqh7L3aABwkGjpc7cc1enB7b639tnPCU16exZlbdnyUuD5gjat1dWHkX/1EVH6bw+revUNQqFpwBrueE5b/S6ZgEChDwhCDSQAC+VBoKnWQQQQACBhhGoFpyxOmEFje5vmP7Qav0JbFmo5W+OVt5eVyCjRVaStSsqaLuCzLfAzY4Bb8nbAmPBVumre6WCLW4lSsocFXfPlX/Qt30jJdhi3fLZyxyy2UwYJsZrk76OF60pQFMjfut+Wj7v+wq/6nmtAOEpd0kdjgvqHG7LL9Yxj3xr1XlYzEb9Ne59ZahQnzgG6e57H6vT0atB7eBBVLZxV6FGvDpbq3fsU05qgvaV2FVc6lCfmOXWOPOUodtL/6TszAxNvHGwmmV47nb1FSB86OzuunJAO3W4c4pHD4Oxq+A/36/UE1/+XlG3mZsH48YqVk5rZ19qYpzPAKHD6bSOnS1fS4+zxcoW4z2g+KPjSP2nzHVs7REx63S6bZb6xyz3qm52FfZqkyWd86KU1dZ15OaiCdL8N135L3hd+uERz50YVYNUvgKEjdpJZ//nIGY7yEWtsX0g2Yukhe97Vm76avrsb9qyUPryLvfcA2+Uupzubw215zM7ZqZU24F8/qtSun/H4tbeADlCTsC8FzfMksz7ru1AKaPazmXz8w+r7HY1x2xfNDY4w6h+J7AJ0J32iGfdvo4GL89ZlwDh3u3SB390b+v8V6T05jWO7ZXpq/WPz36r2CGYlRKvI1pkSCNMANV1t6vZvX38jKsqThmoHiA0f7+WlpkbaaX4uFifvyN464g57tSkGH+OvTQZGx8unel+/HNwJi/ItWz7TZr+pFSyT+o7SupyWpAbCKA6c8/t6u+ln92/CGTV4O1Zy98ifVT7lzU2DH1Fo95ZplW5+/SHzk005sq+dfpiWQAjIWuICbCWG2ITQneCIkCAMCiMVIJA4AK8VAI3owQCCCCAQBgLmDtkZla7R6tlb2now2E8KLruTWDz4ula997/uX10TMdsxV71WXDAzD2CZveNtzTsCSmrXeVOmRqCiebIyAXrXceNlidzJ5/NbHuUrIW/37cWqKDYrqT4WHVtke51R2Devv1avnWvWz2mDlOXlUwA5bRHpXcv92/8rfrqt7nfa0+V4y+bZyapeabreLHEOJtizdG8bY/xr74AchUUl+qPb8zRnLWV99PNv3eIslMrvy0fQHUhldUsyG7eU6zmGUnqdJdnMM90duEDQ5Xh4w5KXwHC8iBg+7+7P98m0Lz8n8EJ+uzbb9ez367QmGmrLVMTJLzE9r26x6xTq0bJ2lTlzskSxalAKeqcVuwRZO7SPF3Z7Y7U0zN2u+2cMXW+Xnaqvnb2t2J95anq7pnqk2kFwM0u1mNvlbztFvQ2++a5NTvHa9pJlN1BOsvLgm5DPE3blkif/632lv3dnefjfiurgYM5VjVvlZS3UmpxlCswsnuDNPHP7v32tWum9tGRI9QFvAXeqgfJlnwszXnVfSQH88xVrWnzAteXcKqm4c9Keza6jrc1d/aZtGeT9PH1vjW99Wfxh9Lc193LjPhU2v6bVLTTtQv3xypHFyekSZe+U+t9cxt2FmpdXqGsd2vifqXFlnoNKtpfHabSA8cDWO/eAwG9rfnFWrdjnxwH/r5MNL8jNE9Xih9HlJujKpdvL1BpmVOts5LVJtuPnb3hEiD89GZpp+s9ZaVL3m6Y42znvCItmVjzn9yLx7nukDXHj5ovVXQZJv3u/XcDt4pGTZb54lhhaZnSE+P8D/KG+t8j9M9vAdZy/aYiYxgJECAMo8miq5ElwEslsuaT0SCAAAII1CJg/kPd/Ad71eTrW+ZghrXAj19/LNu0x93GYB1JmJgiXfyWFJ98cOPbm+u6S9BXSm0sxcZ77Bgsz15YYtfGXUWuXWQlVc4FjZEGdHQd2WhS9XvamqQn6rCmaR6trsvb53b8oslgjidrmZVs7Qpa0fwMPT59h27e8BdlJcerdaPkWheU5q7daS0elqeOTVLdd7UNeUhq1efgHH2UNoG06St2aMueIp3Ytamapgfx7sh66XHglf553Dx9vnirR8FFDwz1uVPSBIzPf+lnLdy4p6Lc61f114ldmlr/Xj1A+NdTu+jGEw8LvHM+Spjn7Pgnfqj4tHvMWt0TN84j902lo9UqZof+HveOx57X2KEP6pjjhurnVTu0d9ZbSl/q2hFnT8xQ7qkv6ZQebdSzylGpl9u+0ZmxM732qE47ZLueKR1zvetOsRL3oHpFI6ESICw/jtGfGTR3Wpm7rWpLP78gLfd+j6UuHCul5tRWg+fnm3+Rvr7XtYvT/N1qgqvmvraP/+Se9+T7pTb9A6+fEqEv8Mvbkvlf1dTheOn4KrtIveUJVoDQ2zGgVftiAnYmEJO7XPrsNt+e3vrjbaex+d1x60Lv9ZgguTleNFjJS/vVTw14p+wk7VCGcpSvRc4OejLpdZmd/uXBxOpdqX7Ec+92WUqKc+1a9JnCJUBY3ct8QcrsND+UqbZA9MH2JVh/bg62H5RvMAHWchuMnobrUYAAYT3iRlPV+fn5mjJliubMmaO5c+dq06ZNys3NVVFRkbKystStWzcNGzZMV199tXJyvP+HT3Fxsb788kt98803mj17tlasWKGCggKlp6erS5cuOvXUU3X99derRYtqx2XUAbp9+/Zat+7Ape01lG/Xrp3Wrl1bhxZqL8JLpXYjciCAAAIIRJCAOaJt3hueAzpU/6Ft7mQyOyya96j16KkIUm+Qocz5+DnZ57/j1nbF3X5mJ8El4w+uX96O6POzRqecmrNml8wCn7dkgncmpSTaPHYFmp9XD4oUldr1y/rKgFF5nVag8bjb5Oh4kv7wxPdWQPL+uLHqGrNBHRqnqHlmzUHS6guInZulKSfNtYPQSvUYIPSTMqyzmd2jXe/1DNT89tCpNe4AcTicGj97vWauztMJnZvogr6tK4K91QOE/3daF91wQvAChAa8ahtJ2m/dFRivsoq5MHcolidzTOjhMRu1ytlKsXJoszNHj155koZ2P3D0ngkorZnmuqer00kVd4Y9+vlSvTzVtQMkQ/t0ddwUtY3ZriJngjrEbKuov04BQnOHVqt+0vc1LOCbINflE7w/X2YX1O+fSxktpUE3e7/nrGpJs7Nqzv9cP+l5iZTVxv/ntqY7EqvX0qy7dHq1e9K8tfT536Vti733ofNp0qCb/O9fec73R0qFeZXlzFGlR5zluYNw8C3S4UNc+cx9ceYeOuNICn8Bf+7k9bajKpDfvzbOlXKXuY4vNTuAzV2G5p7B3ldIG+dIU92/FOSGevhQafDNkredhlUzVu9PbXcWepu5/tdI3V1HJQclebFdv7OwYtf2U/YLNMfZ1a0ps/M6NdGmbi0yZI51rppK7GWat8795ALz+ZGtMmo+xtsECIf9W7IXS/Epte6QDMrYA62kzC695cW+6p2RgdZZl/wLxku/uv8OWpdqvJZJbSJdWG1Ha9Aqp6JwEWAtN1xmin4GIkCAMBAt8voUMEG9IUMO/AdHDU6NGzfWuHHjrGBf1bRw4UIde+yxVkCwpmSCha+88oouusiPb2jWUBEBQh5mBBBAAAEEDrGAt2+vmy4EskBV1y5vXSx9dbdkjpuMS5KGPyNltq5rbZSrSWB/gba+fK7W5O5zy9WjdYbSEuNdP6tpzs2dMWunSzmdpEbtvbcUyMJ9lRr228u0u7BUq6v1rWojEx2DdU7sTxU/WuZsYwX1ylPVoIjZifjrBs/gYFpOc/U47+/WEaCfL9qiP4+fbxW/2jZFp8TOV3Zagro0S/ep6O1OQ3O8aaOUKsd8lh/VyNNYZ4Gnvvpdz323sqL8gnuHqNFBHKVaPUBo7jK07ukLYpq2PFcjXptdUWPfmN91kW2qCpWo18pO+3/2rgI8qqOLnmR340aAYAkkuLs7FGnxosWt1IAKpS20UCilwA8VCgVKFXeX4i7B3SEkOEmIe9b+7763vm933242kIS539evsG/mzp0zb/c95sw9F4/U1mvM/TmkPtpXtd7GEnla3eU+vpHqs5QcIgiJiIw4aBsRod+IhChgqwGBRkQY1e6zZEJynoM2AlIDop36EolIUqL0m6OtWybPAFb2sR2ntkX9EUD1ntbbW6udqu3pyEa66e8hza/998AuY5lnrh5Yjd7A6cXAze38iA1GAtXeFj9P1tL5CFDdM6odSM87kuN0xMQQhFSH7c4eY+9i37+iTgCHZwpHRqQzycVbIwipJ40VdRw4PMvyDE3jsSYnLuSFSO++y5wraWmCrUKl4g4ZaU2IIJwu/RvlXJ6hVoi/2YGTa0+TcCG9GPd7HeISi1GSnbpDHpwEtD3PoHZTgeD6jtwxudPH0kHAwZsBieb9L3dGNva65SP+EERuGB0EoQMhzF5rBBhB+Fovf4GdPCMIC+zSvtyJEUE4YsQItGnTBvXq1UNISAiX6adSqUA/nhs2bMCmTZugVCrh5ubGZRrWrFlTF+Tx48fRokUL7u/NmjVDly5dUL9+fS7bkDIRqS8Rg9RfIpFg+/bteOstx2t6aAnC7t27Y/r06RbBolgrVqyYK2Cyh0quwMqcMgQYAgwBhkBuI0BZJy/uAu4+9mUfnF8KXBXIChG7QZWTeW3+EEjSkzzcCfi23+TEI+trCYHrm3F3x1y8SM02alGpuA8CvTUb85bW/PF5YP8Ufb8iFYEuPxuPlJXCyxPaaZEvUvE8Kctmr3fln+NL6RpUdHmCh+ogzFb0wyzZX/BBBtdXS4oQ2XjBJAtgguJdPFAXx4qRjdC8QhGuvSFpNEKyC+1dzxv5EQooU6HERRPfDUILGWcidP4JKFrJ5nxYA9sIECHmIbMh72bbDZaFR+Hbrde5lm0rB+GfYc6XcyT517CJImokCcQ7pWtVDGpcBjKTjBZLU6MaXS1mH9JdpozEb6XLdX+n2l1hRbxFIGPQpGwr4P4R231ajOOzGg1t/3d8ppKhVe7MZzCRfKGpnfsHuLbJ/HNDEo4IiB2fAvR/MpImJInCjARg7WDbcWpbiCHaxBxsaPgeULWb+HGppalfytJuOAo4+qOxn6rdgZr9gDUDjD8fshVwzfn9b1/QrDWHQNoLPtOTCGmyll8A9B2x14TuLVNJyiNzgEiT757Y9y+h755hjHTfnvnDctRaOfk7e4GT8yy3C20OlGkGlKrH35MretmHBP0eNDapvWmfB/PWBtloL1KzcDfaWBr5J0VvnDPJIOzkegqDJfvRICwQUk1NY61jUgeYo+iLC2p+j8kTmfhHpv+ucnLsIn+juQNvRIi6iahhmFMcbPW3dgBi4AZA9hKlyoW+D4QTPRPu62W6bU3J7Hqbr4EyTe3uxjoUPATYXm7BW1M2I4ARhOwucAoCWuLOmrMtW7bg7bf5E4o9e/bExo0bdc1PnjyJX3/9FVOmTOHkSIVs69atXH/6h3G5cuU4CVIXTZFoeyehJQiHDh2KJUsE5M7sdehAe/ZQcQA01oUhwBBgCDAEXi0CppumJONEck5izFI9J7EbVGLGsNRGaLPgZYybk5jzaV/1ks44FaHZbDeYQ7kgb30tO5IZDG7IZdjpjIjnpV3NZz1gnfHm17GfxWUgGXgiAujiQ3NJLyGISaLRBSp4IxMZcIcSEkigxArZTFBBN5IOpVBP3zeeYzakGCqfgCI+7jj7zRuCspODJPvQ2fU0N2xRXzeUK+oj+C6bmqXAVYM6d9S+cTl9bUTOgSOZRvn0nspPYd96noykdDkahAbC1WRj2FnzmLPnFhYcirDpbnqP6qC6hWvOPMLAxmUw4S1jGTxbDkzJyFKIxY+yxUbd6pUJgJut2lmGPSjbiLKItISItSC0ZJ22zX9fAjE3zHtQ9lKH780/t0TIGcrzklxp+ALjvvRsoKyuTaNsQaS/XncoUNNKxqGY7EGtt7aTjX8bbUVhOk+qwVqpE3BhmXFPyjQi4oUyCA2N6sJ6FrI1CrueGwhcWA5cWWt+/xl+EhcBJD3m1+7WDuDWTqBQGaD5OL3ErtC9HlgW6GZAxgmRfIbvQYmPgPgIgA7mmErP2iK3SUL07l7rCDUZA8jTeZImN4zqgBIJbpohnNOx0uIQt3UiIu9ew3V5Se7wkKHRIaKL6gpGn9E7xCrZDDNJcmpEBOF0xSBcV+sVErSEotZJmSJeKGlDhlw3YPk3gOaf5XSWOe//8DRwUOB3mDxrf8tjbgHHfway08BlNGslj3M+Ou/B0u+s6bNk90Tg+VVRoyakZ+NxQjqkrq7wGLXL/kMxokZhjfIbAmwvN7+tGItXDAKMIBSDEmvjNASqVKmCW7dugaRGKTPQXuvdu7eOWLxw4QLq1KljrwuuPSMIHYKNdWIIMAQYAgyB1x0BR4i26BtAQiTw6AzwhM+eMrKXkb3gSNyv+1o7Mn+1GsmL38T1J8lmvcsU9kLJAJO6e+2/4zc9yZ5eQtZ/ExGTnAW5UsWdoA/yc4d7k/eMJfBsbVQajJySKUdcWjaeJ2VypJ4t+14xCDcMNu0M2y+VzYIbFKhTJgBRL9KQkCY3cveDYgCuqcvi1MQ3QJlVWqs+ZQ+I8CMrigTMk+nJCKOsSgNviRnZuPlUL7svk7qgfplAfYtOc4CgKramw64XUARiU7LQ4If9Nme3dXQz1MqhxOnua8/wwQpeIhdQY7XMuHagzbpZplG2+QZ4eBKI0GcmWpxIYBjQbb7+8s7xfA00IRM68GHpt4IIxRafAyR7fVsgG3PINuDFbeC/L2xirGtQqz9QZ6Dl9qkxwIYR4v2JPcAidLCCsoqoTplY67EQCCgttjVr50wEtn0MxPP1PnXWYTpwcYXle13b0JAYWj+Mz0Y0tbCWvGwu1d/c9615/UvtfRa+0Pi7YJrJaMdz1yI8VFu0bBvh75yjmFI2F2V15bKdj4zF4MVHOSnnWdI/UcYlhhuR/v6efBwWDGqID1YYv9/OKHEUA/z5jHJDOx0Zh6+zh3O1YbWmO4Rk0FBIntTiNF8lyU/kdfJT4MA066tAWc1EblNbrQ1YC7jZmYVubRSD+5gOuMSkZCEtS4GVodORPquUcgAAIABJREFUIfXX9RzUqAyqFvcGlnW3GjPJyZ6PSoC2ZPXC0LlYPtLgYFsu33fMfd5FgBGEeXdtWGSOI8AIQsexYz0dQIBkQ8+fPw8fHx+b9QaF3C9YsABjxvC1J9avXw8iDB0xRhA6ghrrwxBgCDAEGAKvNQKWMrysbWTaqjdDgJpmiOUGyIwgzA1UzX2mxuLJX/3wME4jl2bQIriQJ0ICBWSwNPeP6t/OOBsZr9uIoa5SiQvqlSkE1+E7eU+KLNGSY0QOXhMgKg2DforCuKEqgyquD7FI0RWBZarjbJS+tpBh22ouUZgkXWE258XKLohSF0OUugR+fac2utfWb/pR43rf7+NISq31cD2OfhK9xJVQHbfY1Ezci9bXcPR0k+hr2RlmP72cVWWj5EEE1p19hC83XrEa2eaPmqJO6ZxlhtEm69z9d7Hy9EOQvF45lyeYLv1XN26JAA+EFrZjg/eNKcDjMwBl7okx7fOFMk5W9bPc4+3FgL/xd89MelPbmwhClcJyBgll3wkRh9bipfqDVIeQsr2O/I8na2r0AWpr5JAt1eay5NP0ufr0EnB+CZ8d1egDQJkNHJoBZMRD1OkHa7G/OQsoXl3MarA2zkZg72Tg6UVjrzIvPtNOjGnvk3VDgfQ4yz0qd+Gzb03JSOovVKuT6nF2/VXvzxkEoZj52Num55+AXwl7e9nd/vyDePRaFM71o99Aqifs7iLHUd+u+GjIQFDtQLI1Zx5i4eEIFPNzx8weVVF+9yCjsbTqAFo5csOL7V3PYYRkt1F70XVeSW6cZMdftt07ABz/xfFRKau00pt8f5KPp8xtynwleVk65ECHHSwphj0IB84s5n9rq3QDJFIjSenIF2nc4TAyUoYwNF0tXsqaJYlfrdF3L6wllI0+QsqKwXjy5CGSM/gDXlo/O8Y2R/VSerLR8cmznvkZAUYQ5ufVY7FbQoARhOzeeGkI3Lx5EzVq1ODqCBJRSHUI7bWff/4Zn3/+OdeNJEpJqtQRYwShI6ixPgwBhgBDgCHwWiNwfTNw9m9zCIQ2ZrWt6EQxZQ5as34rAM+A3IWWEYS5i6/W+7LuiIxJEqz1Z7FeGdUPq/UOHv3SFo/jzYnFisV8UHjMPn6ErFRg9Ts255IhV+DSwySb7Uw3jd5vVRbLwx8gPVsp0Nc8e4pqFH6leI9rW7aIN7aPbQ5vd6nguHWm7UVCOp91+J5kO9q4Xub+XLWkL/w93Yz6PEnMwMM4/QbxPyE/gDa0QJtXtAnGjCGgQeDTNRex5ZJBRgaAKiX8sOa9xvD3lDkVJ7ovm806iNUy4/rtojexKRqSz6RMcrEEHBEYlg6nGM5O4sYfNjH8flgiNYpVA6LNM3tyDBbJ/prKJGufj0u7AWqV+CEMJYSVCmDtICBbU/uMyBuZN/DcOkEsejDK6izTRHRz1tCJCFCdyJzURNMShCv72JbtJdlQw+wtmgb1f3YZ2CNQk1nrm+6/5T2cOGkHXVEGoqE0caFQoPtvDjqzr5shQajtObZteXzewUYdYJPfIJKqfBSfgSmKobijDkGbSkUxp08t1J++H61cL+MDyXajwOz6bX0VsuPrhwNp9quCiUbfzQd4+3fzfyPQfUD3vAUzrOP8nWIIbqmNM6R1BKGF/h+tPI9H107ia+kqXYslyo7Yo2qAZuULY+W7jUVPgTUsmAgwgrBgruvrPitGEL7ud0Auzz89PR1PnjzB9u3bMXv2bERHR3MjLl++HIMGGZ+oEhNK9+7dsW3bNq7p9evXLdYrtOVLSxCGhYVx2YwRERFcbcNixYqhYcOG6N+/P2gsR2sc2hqfrrOHihiUWBuGAEOAIcAQeGUI0KYQZVnINHKJljZbQxoCb3xrFObFhwn4cv1lzEj5GiX8PRBcSCBzTNuj9z+AT1DuTTPxIbDlI3P/YiXcci+yguVZqUDKn50tZu0V8XVDhSD+lL2ZdZmLi4uGIjPbfAO9mL87yo7XZNxlJPIb5Tbs5rNkJGrIOGpKMmCT5cPxFEWs9lz5biOMX38ZzzSnzk0bV3B5jGlSvnZ1LPzxsZxULVzwS79a6FyjJNykrhb903tmvz9O4UxkvJnUaM0Qf3i76Ym/U/fjdElBcxR9UaJGKywYUNfWtNn11xABuq8iYtPg6yGFh0yC6ORMkJyvuz11Ae3ALXTCTtRzuY3x0vW6XnZtYredxGcPCslNC8VBv9NE5u36ynaUlPlXrg0vv2tjA9m2MwdadJwB7BGQO6T6iJQpZo9RHcHe//LZM4/PA/un2NPbvrZNxwJUFzblOZ+BQ0RMzb7Olf6zL6LXp7Wl2sxiESBSiAj0Zd1s96CDWPQMNTT6fkUe47NeTU1LOFFW7PZPbPt3VguqI0iZaVpCXFe/7iZPZFL2LBnV3SOZ1ZdgSRlyXHmsx47eacOKiMic3vwBXz9SY/djUxGdnAUtadW/YWnM7FkDTxMzMH72PIyVbNG1lUhc0DDUQFrc1jzp98KnKN+K3nvpN7Zo5dyTI6fMPZK2zW0r3Rig54ahre7PZxxasLsxKXiRko3h8i+QCXezVtYIwlrf7QWtN0lqd3Q9iwaut3FHHYyNypZcTeoWFYowmdHcXvN84J/t5eaDRWIh2o0AIwjthox1sIXAkiVLMHz4cIvNxo8fz5GF9pJvly9fRr169bgMxGrVquHatWu2QrF4XUsQWnPQrFkzrF27FqVKmcjViByVHhrW7NmzZxwZSfbo0SMEBweL9MyaMQQYAgwBhgBDIJcRoM2Zk/MAlZKX+mn7rfUNSgOyjTaswybuxAzpXwhz4Q8G1Qz25zKr6Fp0ShbSsxQo7OPOZ7j0WAQEhOTehCydrGcEoXMxfxCO8L/GWfQZ4C1DleJ+eJ6UgcQMOfce6O8hRTF/D7jABRceJiBLLpxh06RjP4CyH6jeEG24CRnJBmqk2sIjeKm1zapmWKdsY9Z6WNNQlAzwwJ7r0dymX6OwwpC4uuD77tUxatk53I62vPFk6mxa92oY0iRUFJYk0UiZAmSVXR5iinSZrl9RXzekZSuRnmWcvUhZju80CMGsXjVFjcEaMQRyE4E35x6FNPoyvjHIrLCLIKR6YSSNKdbod9q0PpqtvrUHAq5S4MJSWy2de90/BEh65Dyf2hpzD07ah5m9EdQbBlTrCWwcoa9jJ3Dwx163rL0IBK6sAy7onwMiehg3afcdoMgADs+y3ZXkaUmm29Do+3VzB7JOLMDTxExkKfjnDx0y8Hx7PkCZubG3+ffBl2EaRQGLQ1EG5KPTAGUPlqhtWX7yZcQqZozzS4Gr+sMUN58nIzFNjkHyiRzZNK59RXz8RgXO0+lD26E6aPzb2LBsICSmEpv+wXwmqGlGslZuNeoEcHimPjqSJadDEy/uAtTXyw7S0docKfOVMmCFrMFIoFxbnpDeOloMUtbbUE1MyiYUeVCC3gGPq6pjgVKf+dq3fjC8NAex3mkYgsrF/QTHLDtxp5HUvWmj7rVL4td36uR8TsxDvkaAEYT5evlY8BYQYAQhuzWcjoAlgrB27dr4/fff0aiR/YV9s7Ky0Lx5c5w7d46Ld+vWrejWTcRJOQuzq1ixIqpUqYIOHTqgevXq8Pf3R2JiIsLDw7Fo0SKOsCOjNvQZXbfX7CFAGUFoL7qsPUOAIcAQYAjkGgIqle40ukKlQkqmAp4yCZedYtEMyLZl4VFYu22nUb02bw8JapYKwLOkDES90EgnugC1gv3h1WsBQJJpuWWWMh8dJQhTooF7+wCfYkD5dnl/gyq3cDXxm3n3MC4um2j06c+K3gh2iUVfyRFo74GI2FTEJOs3KYMDPREc4IlT9+MtRqojIEwlxqgH1fkqUhGgU+Y3tkB15i+cvh/PZQ2OlY9FOvgM2FIBnlwdPyL0iJy2ZH1/D8eZKMuxaPtVKuaLPvWDMbJ5mF2H3uYduIuf993h3HgjA29LjqOcy1NUdjEnFnaqGmGFsj2+6FgJo9uUf0kryYZhCFhG4PDtGIz89xRWyPgN6MI+bqhYzEJmsJCb1hONN69tgU2yoZTdJDbj0Ja//HadnlOmG/4OzCEtS4FspYo7lONqSjiENOJJF1N7FZKFDswtz3RRZAP39vOHqsq9IU4O2t7alM6e7LAdUF9ciSs7FxkdTqleyg++HnZIFBMhT1le+6c6HiGRfkRmOYvAcjwS5/U0IdGuPklCXKYLhsn5jGjKHqQsQrK0eydwZel4o7HrlA4wf/cOKAMEVQbu7DGOk+SM6b1USA6WvvOUaUqmzcjM6Swpe5CyCA2t1jtAnUFQqtQgJYQnCRnoeG4k/Dxkdr0n5SQ0+p07H5WAcfIP8QyFOVf0b42tY5qLcttjwQlcemSSaWvQkw6YTe1WTZQv1qjgIsAIwoK7tq/zzBhB+Dqvfi7NnYg2bfZcRkYGJ9+5bt06bN68GeXKlcPcuXPRpUsXu0YfNWoU/vrrL67P0KFDQSRkToxiDAgQrneUkpKC3r17Y+/evdwQn332Gaj2ob3GCEJ7EWPtGQIMAYYAQyBPIKCRcaST5BcfJnJ7Cq6u4LK//CzVtDIg29r9fARN4jahk6tx7UEiebSZXdp5cvKRgxcCxarm3tSdSRDKM3lJJa30lWYzJPeCzz+eY47+jYh9/Lua1vrL+bpGq2U/QCZ1Qf0ygbj9PBnxaXwtPq2VCPDAs8RMwcnSvUcZfhZt0EaAMiPI1Goc2rMJW46ew0lVdcSCf9c7+HkrlC3qIwrM0SsvYOfVZ0Zt5/SuiS826Ot9LRneAK0rOS6LO+zfMzh8W1+3xwUqrJIZZw7EwQ9j5GM5CdOz37RDUV/LpKaoibFGDAEnIKBQqrjsCrcXN4DdEwQ90sESqAGpxLLkruhQKAsl4qDo5gWuoRMIQpKdvf8ijVsTHw8pqpf0E7dZ33814G4H+VvgwLdzQnsnAU8v8Z1CmwOthb8fRl5NMszMRvQsBGQk2BmIHc2H7UDioXm4eXC1Uadqpfw4UkfQfIvzcrSG1mQ0ENYKWDsQUGqe78ENeBwyk4CyrYGESGCfgFQufccbvMtniNEDvyDZo7PAge90MyLi6VBmRfyq7MV9Nr9/HXStVZK//vg8zvw5liPXtFa1pJ95LdnAMKB4TeDGVmOkSI0jI164nqQppv3XAO7i3oksLofpu3WVbpDXfxfJGXJ8tfEq9t/kFURaul7GJP899h0kcfAeyJQr8eeDICxVdMQL6A/4b/igCeqLlGu1RhBentLB6bV9HZwq6/aKEWAE4SteADZ8riDACMJcgZU5FUKA6g4SuUfE2d9//41hw8Rpls+cORNff83XcyCJ0SNHjsDbW4Tmew6WISkpiSMz4+LiuLHi4+Ph5uZml0cmMWoXXKwxQ4AhwBBgCOQRBNR39uLBtplmddgKecssSvLgjSlASANuBmUnbMdKE7JDKnFBg9BAM4LQx0OCGsPnAyQP6Wx7EM5vSF1aJezZkQzCG9uAM38Y+3PEj7Pnmgf8JS3qgBtPjaU5SR6TdqWJIIQLEX2BOBsZb1W+SWgqtUL8ddJQZteHbOUzNjQ2ZtUF7LhiTPBFzeosGqEDN6Px7rJzusP2lHW4+aOmyFKo8CAuHcGFPDm53Jwa1XIzNCIJB0gOoo7rPVxRhWGNsi2yIcPYtuXxeYdKOR2O9WcIOB8BqlNrkK0iV6pwJzoFyRkKbiwvdwkqF/fNtXqIzp9QHvTY/jvg+C/mtePEhlqjDyZtvYbG6iuIUJeAF7LQp2QcArxE/LuWiKBOcwAiqZhZRyDpCbD5feM2Azfoazhb6h2+gK/JacmIZHt8NvfQH7YDT7ZMxcPzxtloVjMI6w4xlkWlrDXKXpNIgdg7wPXNfC08kvrVHt7RzuDZZWD/d3wdQVKO6DC9wJLQ9Hs4d+VmtLj3I7zcJBxBdv1pMg5kV8NCZXcOkX+HNUCbyprDRo/O4NKSccjI1suMly/mg6KmigeFywOl6gIkT2to3RcAMTeB8N9s3y81egMkLeyoZacDq/oiQ67EnecpSJcrcbn8R2jQqjN6LQo387paNh1+nlLu3xAk5y5o2lqopxcDN7eLj8zDH3hrNhB3D/WWpSEuU0+wap1cmNwegd4ifvMARL1IQ6ZCiU9WXzKTm7fnXVL8BFjL/IgAIwjz46qxmG0hwAhCWwix605FoF+/flw2IZFuJKtZqJD1f3AsXrwYH3zA15qpVKkSjh07hqJFNcWXnRqZubMxY8ZgwYIF3IUTJ06gadOmTh2RPVScCidzxhBgCDAEGAJOQiBmfjtExKQJerNYa8rNG+jwA/AwHAs37UUdl3tG/X09pahW0g+nIoylGznSccAcoLT98uNWp3t3H3DiV+uIOELsHZ/LS4gZmiN+nLRWecaNWo2Y39qb3Tc8QUgZhNO5/9cpE4DEdDkiY4XvL2qTBRmmKoZgpvRv3fTcpC6oV8ZC3RwTGbyOvxzN8aYOnfIneSzaUHqrenH7pNZELsr5B/GCG2mm3e/+8BZkzsjEEhkXa8YQsAcB1ZpBePD4MZ4n8bLBmZDBA8YZwvQ9oixhixlJ9gzoYFs11IhOzkJcahYn2Vc60OvVf68qdwFu7XBwRra70ZyXhs7G1N1RusYyKPC3bA5kUCLQW4aQQC/Lhy+0vQZvBiR2yE3aDq3gtXh8zlxeU0yW1uH/AVHHLONBKgWX1+QeXkO34/7KTxB925iErFsmwDKx3/VXnoi6vBrwDABaTbCvjjRlFKbH83UETeVuc2+mL93zwVvRmLJ0J2ZL/+TGpu9bUqYC++U18YeyK/fZuveboGGY5t0m8hhurPkGSen63086kETfUSMrWgkoVc/88Fu3+cDzq+aH2CzN3PDdlepMRl/j6zqKkfyneoY7PsO1p0lI0RwIGSKfADksH54qgiT8FHIcrcr6AlRT0LuILrLkTDlm776FG0+TKdEZI5oEo+tlkbULh27nCMrvd9zA6jPmUu0BXjJcnNxeXNa0AVZH78RiyD96JZThzUIxpSuTFn3pX6Q8OiDby82jC8PCyhECjCDMEXyss70IrFq1CgMHDuS6rVy5EgMGDLDoYvXq1Rg0aBBUKhXKlCmD48ePIzg42N4hHW6/cOFCjB7Nv5gQqdmnTx+HfQl1ZA8Vp8LJnDEEGAIMAYaAExCQP76Ec4s/tOjJIkGo6UHSSGcizeu3Bfm5I7SIN86Y1Jmjz8v1ngaEtXRC9FTEJQ54fAagU/m2zBFi7+RvwJ3dxp4d8WMrtvx2PTUGScsHcRvwVP8lW6HCvYBmmBzThsu80xKEWtkyqsNzNCMU25VNMUW6zGi2I+XjubqB2j7ai7SJZnby3MUVGLrNqL9pZt63XapiRPOwPIno9stPsfbsIxy/Z1LHRxPt6lGNYes7lycnxoJ6bRBYt3kTil34BW5Q4IK6POYo+uETySY0dr1phkGVkr4I8BSXxeFsABPSs3HrmT7DmaQ2KxbzQUJaNkdSEInp9jKJ+NoDAPovfCFw+z9nT5fzF5OSiYZPPjPzXdflDr6Q8tlH7jJX1AkJsL553uJzoFybXImxwDg1qTXHzWvAWoAOT1my6BvAri+tQ9DmG+DQD06BiQhjOqBDGWqUzeXjLgOaf4bbB5Yi/vFd3Rh0rVpJvTyj0eD0zCVZb0YY21yT1nMOITXuGebL5uvaEh96RFkTi5TduM92jG2O6qU0WD+7jHvLP0Fsir5GM7UxewcgAi+gNBBxyDiGVl8CR2bbjEvXgOq7unkBt3frsw5JjaHTTzzhu+srLisPRSrwnxnKv15eA/XF5UaH/rQHwmwF8O/wBsiSKxERm4arj5OgVKux7wYvR2poIYGe2BMw2+IBhiQXX6wrMxXZagnm7LltcdhD41sjrIhj6mOrzzzEjitPUamYH1cL2tPNSi12WxNn1wsUAmwvt0AtJ5uMBgFGELJb4aUisG/fPnTo0IEbc8aMGZg4caLg+Nu2bUOvXr2gUChQokQJLnOQJD9fplH2IGURkjGC8GUiz8ZiCDAEGAIMgVeFwN09v+PF8aWCw3u7S1AzWLh+L3VQqdW49TwZSem8vJzWGoQFQqqRFLodnYL41GzdteBAT4RUbwGQjFpOLe0FsG0skGUsc2nRrSPEnpD0kSN+cjrXvNaf5FxNNzEHrkfruacQFZeOvpJDeNv1BCoU80ERH3ekh7RE1X38SeymrtcwVrKF+/McRV9cUFdE60pFEXnnKmZJ9TUNyxb1RjE/D+OZS9yAwZt0n9H99+Zc42wM2oxqk4N6gS8L6kfx6WgxW7/hN6lzFbzbouzLGp6NwxBwCIGWsw8hMT4GvsjAE1BGiAvqudzGeOl6QX+lC3uhkJeMy957mZmxd2NS8CJF/+wxDY6IslrBAZbl7xxCx0onrZyeSslLTJ7+3dkjYPCdZjimqingVyP7rLlSu7Q/PGVWZJMrdwYaWz445PTA87pDyrZKjwP8Q/j3DSJsqE6m6cEkaxmEtO7LeJlJUyPChGp9ukslANWV2+Ic7OkZ8zghgx/OBZz8byEvN0TGZ+B5QroujCK+bqgQZKH2ZEAZoIeIA1h5fQ1fQnx0WMkLmfhb9qPRaCdU1fCb8m3uswOft0I5bX1klQrX5vVCSpxxfUczgrB4DSDxIV/bUWNqtZqT+yQC0kMq4Q5qKZRqjtBytZSlWbI20OwzYP1QYzTIP2X3GRKQfiWBngby+id/Q8qV7bj2JFnXVyxBaC/0xyttQLCLpmazhtQ8fDsGw/61Lb37Y59a6F3v5SUY2Ds31j7/IsAIwvy7dixyywgwgpDdHS8VgSVLlmD48OHcmPPmzcPYsWPNxj9w4AA6d+6MrKwsFC5cmKs5WK3ay0/np+xByiIko+zFZs2aORUr9lBxKpzMGUOAIcAQYAg4AYFz2xZBftY4o0vrlmRCq1s6VU7SkAolLjxINIqCEjIahhXWfUb1qeIMCUKtfJIzJMzO/s3XvhFrjhB7Z/8CrvNkls4c8SM2xvzS7uJKXm5Ma8VrAm/OwDt/hOOUJmu0mksUJtTKQIu2XYCgysiUK1F5skk2JoAPWpXDmLblUX3KHqMsQtrAr1taQJreAP+xqy+CsvIM7ea0N/PVqW/KviRzk7rml9Vncb7GCJhm7PJQqLnM4Mou5nJvWqgECf9cxPHK40SkZelrewkNVbkET5i8FGv0PlCFlxnkLPIYcOR/ThtaoVKh+Z138Bz656+h866uJ7map2RVS/rC31pmZ7UeQIN3nRZbvnYkVIeYJkSSj0/OG0+NSBWqIUg1+0xr8REpLKB0QJmu9J6kUgEkjVj+wzWQHZ0FxN/PMWxno+I50khrJHlZqbgfImJTEZOsz1or7u9hOeMqtAXQ+qscx/I6OKDfRqotvMqkJvcxVXUsVPbgIAif2BYl/D11cGw5eh5X9/wDNVzQ3pW/n+qHFjI/TGFQB5IIZVN1DkN8Sd7fz1NAIpiIbbo/xUrYGr7rXlmPW//NR0IaL4caBz+MkX/M/Xl8h4p4p2Fp7s/JGXK0/elIjpfbsPaf6WEqa85ZzcAcQ88cWECA7eWyW6MgIsAIwoK4qnl4TkT8/fcfL6Ny6NAhtG7d2ijakydPchmGaWlp8PPzw8GDB1GvXr2XPqOkpCQuYzEuLg5eXl6Ij4+Hu7u7U+NgDxWnwsmcMQQYAgwBhoATEDi+cQEkl1boPCnhAglXEQQgSbYaWikkgbGECEIiOeqV0ZM6plkcUokLt/nh0nYyULpxzmawtCug1m9+2XTmCLF3filw1SQzRkydIZvB5PMGB6YBj/S1WlC1O9BwFNafe4SYlCwu86+EvweXQRjkq88CfJ6UicYzDxhNPnJmJ07ujjbX3pXsxBuuF3XXG5cLhAulPhiawToKkRVsgyif31ss/DyLAGWthE0UlsekjfERkl1oZ/D9NZ1IaBEv7qBAcoaC28AuU9jLcrZLDlEIvx9HvKVVe6mkJdULCzSRPn58Htg/JYcz5bs/T85E96dDEQ3h2q1SKLBcNotrWy7I2+h32SyAGn2AeiZZRk6JMh85oXeLG1sAOojkqBXTHHiuPxLYOc7MC32ftAdqtBczuv+BlJRU4NQCSBVpkEKJIMShkKcbKBvXYnaYQIzhEXFGn0okLmgYGsjV7DVSdhCqe6ftSfUHxdSocxSjAtTv3aXnsP9mtJlc+hFVTfyukRi9PKUD/A3Iu5RMOWpM3WtELNYM9oe3u0GGr08xoO5g4CifmUjfdWt1namNIMloL9aG78zhCxH+33Kdh6MqXjZ1Vs8aqB8aiPJBPrprXeYfM8o0tHdYaj+yeRj+Ph5pV9dNHzUVPlRmlxfWmCEgjADby2V3RkFEgBGEBXFVX8GcKDPwnXfegYeHifSTQSy//PILxo3jX4ZDQ0Nx9+5dSKX6l51Lly6hTZs2SExMhLe3N/bs2eNQ1h6RjpR1SBYZGcmNZWi7d+9Gq1at4OmpP61leD0lJQW9e/fG3r17uY8py5GyHZ1t7KHibESZP4YAQyDPIqBUAGkxgEcAX++CWZ5F4OCqOfC8qZdsfKQuihCNtI+3hwQ1S5lLjJK0KJFAienZutPE2gnWKRPAyR1p7V5MCmJNZN5qBPvBp2zjnMuMLukiHlfamKUNWnuMsgP2CWzelmkKtPnaHk8Fr+36YQBJvGqt+WdA+TdEzfP8g3isOv0IPu4SvNeqHEoF8O9ns3ffworDl7laWeVd+KxAIpwrFfeFj2az7HFCOv4qx6+jXKnCytMPjcZsVr4wVr6bQ+JZ1CxYI4bA64cAZbvOP3gX8w/eszh501qiQg2Jt9PS/pS9RIcJPGTOq/UkRLwIxUGEi/b3J9dXs/9qwN1ExlGRBazo5ZSh6bexZ/QIxEAg61ozQn2XW5hTeAeK+LjB10Mgw0gbCSMIgXsHgOO/OGVtLDlJzMjGzafGEulj5GMRB309QENJbqtSoCaD0HvaaZMa0NSE5CuvP03iSHqH0MAjAAAgAElEQVStBQcVQoivQQY71aALLAtU7cHXpmMmCoEVpx5g0pZrZgThcmU7/Kfi30vu/vCWWXag9qCT9rfTLLO5fDsgtDmwfyrnw5T4FQrOnnvF4uSGbAWoRiHliC/pbFR/cL+qDh5UHIG/htY3656WpUC1KXtEYeaMRqSo+ufg+mhXtZgz3DEfDAFBBNheLrsxCiICjCAsiKv6CuZEJBwRa1Q3sHnz5lz2nY+PD/fZ1atXsXLlSpw4cYKLzM3NDTt37kS7du10kUZERKBp06aIiYnhPiMy0fC60JSCgoJA/5maLYKQrlNMPXv2NIqViMnw8HAsWrQIjx7xkjiVKlUCZTUGBgqfvswJ1OyhkhP0WF+GAEMg3yDw4CRwaIY+3M4/A0Ur5pvwX7dA9y35Hj4R+oyQY6oaaOF6lYPBy13C1WgyNVN5Ku11P08pqpEkabupuo2MezGpiE3RS1lRW107RzL6DIOxhyAs3QRo+4345aU6Q2sHAVQ3SMhyGrv4SPJey5TnwEYT+bnuvwGFjA9o2Rv4i9Qs1J++X9dNu1lGUre0ie8mccX1Z8nom2l5HZePbIgWFYraOzRrzxBgCNiJwIcrzmPXNb52FtU2WzSoHiZvuYbRDz616WmTqjl6uh7Xtateys+MsOJraqk4uWBK5qJNZ2IVvd2kNrOohLLbb6lDcFUVhj6So7pxSxXyQOlAb+F4u80DtvESepw1GJmzbLJBmwCpgJypPc8xK8g+iEtD79iRiDUgCKn+a41SfviuW3UkZ8qhen4VwaemcV4Cva1Iq9boDdQbZnMdC2wD0/fYXJropUcJyMjmJaa1ZkoQukGOpTK9FG2tEH94uVmpH6lxlJQhx42n+npxWv+UWXbzWbJOfveMuhKCu05GL+kxIPkpUPFNoFTdXJpxwXdL37Nfvv8MHTRyoanwwFj5WGSCV6YSUjjoOv84rj5J0hGLZpnNVBO0wShgeQ+kZytw+ZG+FqE1ROtxUqWkwWCiwiB2GQwONWT/3QnnoxJ0PYkgbDFkKlpbqPe8+9pzfLDCRIJX05ukdEe1KIvRbcrj8qNEdF/A7xnaYw1CC3H1roc2KYMxbSvY05W1ZQg4hADby3UINtYpjyPACMI8vkD5JTwiCB88eGAz3ODgYPzzzz9o3769UVvD2oQ2nWgaTJkyBVOn8ienDE0MQajNMLQ2VsuWLbFq1SqUKlVKbEh2tWMPFbvgYo0ZAgyB/IqA6WaXpjZZfp1OQY878sc2INlHre1WNcBlVTl8Jt2AADc1ag2ZbUT4qqE2OkVsiE+5ot4IqtYSeONbYNdXQPR1s1o31N7DzRV1QgoBOSXZ7NlYDWkEvDFZ/HJeXgtc1MspmXXMaeziI8l7LR+EA4d+0Mcl8wRIdlVz0jwnARtKhv4q+w1BMK5xSb77yydZHOL+jE5wdXVwMywngbO+DAGGAI/Aki4wPBhCxNwaZRuMl66DDzJBhMROZWN8J12qQ8yUIDSsy0YHBJQqNdI19QTp4AodRJFa+Z6bbqJHIwCfysdw4/WTHEIPV35Dupi/O8oW0UvjcR+WqAUQQVayDpD8DHhyDihcHgiqAuz+Gnh+xbGVHrodoFQXU7PnOWZl5Puxqegb9x5eaLLPBjUujek9anA9jtyJxdB/ziDYJRZzpIshk7qgfhkrh2Gr9wLqD3dsnvm9V2ossCH3524pw+99+adIhvE9uVw2A1LwRKK/lwxVS/hZRTnyRSqeJ+kPZs1U9MdEqb5mMNX3zZLz/v5Qdkb/ge+iQ7Xi+X3l8kz85SZsQxfXcBR2ScFeVX08VusPLQkRhIP/Po1jd1/gD9lP8EUGJ71cUqOswE2qek+g/ggo/umEs5F6ks7ahO+pS+J/qoG4WuFvTsLdIev9D+ATBMRFIHXDaFx9rCcm5yt7YNn3X0BKhcedbG8vPIGLD83f/bTDbBndDLVDzA8vOjkM5o4hYIQA28tlN0RBRIARhAVxVV/BnCgDcP/+/VxdwZs3byI6Opqr30eSo8WKFUPt2rXRpUsX9O3bl6vpZ/ZvoSVLMHy4fS/fjhKE586dw4EDB7hswdu3b+PFixecrCnFVbJkSTRq1Aj9+/fnaiE6/AIlYg3YQ0UESKwJQ4AhkL8RoGP+VBfO1F5nMiUvr2haHO4t6GWU4bdd1QSrlLxUZNki3jg4vjW34au1tGwFrlg4vczJtQ1cxGeMKrKBO7ux5lQEvr8Tgr9kP+l8vBKCMLgB0M6OWk+nfgdu7bC8eq/zPX17NxD+mx4b2jzvOtcpd/qFhwnoufAk50sCJVbIZpr5tUYQsvqDTlkG5oQh4DgCt3dDHT6fJ/Rk7pjtNR5LLyXDHdnwQQbi4IfKLo8wRbpMN4YhQUg1Cq1tDlOnQB83VCpmItdpEHFqlsJoM3uDujXGfjoJ7y8/z9VfM5RBpSwbyk7WmbXfdsosX93ffmxcpcCQLcL9nEQQUr3fd+Lf18lTftCqHCa8VZkb8/yDBPRadBL+SMXvsrlwdQUahRW2PA8NIWH/RAtAjzN/Aje25vpEniVlIOpFOu6rS6CsyzNuvIfqIHyleM9s7FKIxY+yxbrPSSbUkpkSjyTnO0A+CS1cr+AjyTajbpmQ4RP5aPz5Xjs0Kmvlfsh1NArWALW+2wvK4BQyoXeU0SsvYOfVZyiOOPwiW4RShTxROtBg/6zuUKBmH8TMb4eImDRRYA2Xf8FlLUZWXuh4BqG2bup/XyI+8hJuP9fL4X7q/h1OT+ogKhZ7GzWZeQDPDA4uBvm6c8oQlKnevXZJBPlZLnFk71isPUNALAJsL1csUqxdfkKAEYT5abVYrAUKAfZQKVDLySbDEGAICCFAtQeX9zC/MngzILFS74ah+WoQeHwed1aOQ1xqtm78Y6rqWKjk19DPQ4r/9aqJJyfXoGXiFq5uCsm8pWTqa9cYBs5t8n5gXHek/x+nEH4/zmhDliTjuNO/OSHZlHJg+dvicZN5AQPXiW9/cj5wx0oNlZzELj6KvNnSNLuyVL2c15M0mOmp+3HYc/05ImLTEByxBl1dw3VXFym74qiqliAuK0Y2QvMKRfImZiwqhsDrhABJNCY+BEJbAP6lsP9GNI7ejUVGthLrzz9GVZcoTJau4BAhsq9MoJeuBqFhfS1D8sQUvtqlA+BpoW5hcoYc1zXyirHwx0zJhwif2h2LDkfgf7tvoZXrZXwg2a5zaSTpZ+u33RFCz9rzxxF/AvcSSTQvC/4OsSof7hndsVpxdK1Vkmt5JzoFHX45anToonHZQMsHY6v1ABqYyEi/Lvfv4VlAlF7+1mzaVbuLJxC7/orUDR/haaJepUHrT/veNVr+MbpKwuEKFTYrmyMReuK7TukALtPvxrNkDJfs0slWWiPIsxVKnH+gz76arhiI6+ow3TS8kYH+koMIdEnhMnmvq0Oxf1xLlA+yTLi/LkvvrHnGp2Wj7vf7BN0JEYQTN13F6jN8PWU6vGCW2ayp8XxzZkskpgsTj4aDfSwfrZMavhI6D37W6o1am3ThckDXX4ED0xB9/Sjux+rJyRlBc7B9bHNnQWbkZ+XpB3iSkMGpmxBR+F33aqho5UBIrgTBnDIETBBge7nsliiICDCCsCCuKptTvkCAPVTyxTKxIBkCDIGcIEBZYyt6mnugDKPKXYBybZwiQ5iTEFlfAwTu7sPNDd8bbThQvZRR8vG6RmPalMdvh+6hrssdfCEVJth8PKQoFRKKwMHLzCTUNpx/jPHrLxsRhFxtwxbdgVZfOL4c6fHAuiHG/Zt+DJycZ9mnrY1fw55H5wD3jwj7KloZ6Pyj47Hn955HZgOR+jpeqNgRaDrW6bN6kpiBZrMOoq3rBbzlegabVc1Ro0U3DGsaiiYzDxqNRzVtLk5un6tKEE6fIHPIEHgNETgbFY9/t+7D+ynzEVzIE4W9+dpcZInp2bj5TJ+l8qViFKZL/4UbhA+lNC4XyBEomQolV8NQopHSI4nSGU9qIUJVEjfVpRHgH4DwiW9g19Vn+HDlBUihwHLZLN24QX7uKFdUI+to6zkRfQPY9aX9K2fJr5MIQi6gvssAL3Pp0KeJGWg6i//N1GZPNggrBCmlEgpZla5Ao/ftn2NB6HH4f0DUMcszaTgKoCxDW9byC6BsK5w+vAOqAwaS3Cb9rGXE3/r+TU6ut8v843CBCp9IN6GRyy3Og6Uswgy5EpcM5Bn7y6lmr3WJyctTOsDfkx3is7WkYq+TJHK5r/W1vQ37CRGEs3bdwu9HIrhmE6Ur0db3CSoYEmLNPgUqtMOi3/6H2tHCmchVSvpyBB79HhreUwsaJaBz0hqxoZu3o9+tzR/iyYM7eBiXzl2/og7D8bBPsHxkI8f9sp4MgXyGANvLzWcLxsIVhQAjCEXBxBoxBJyPAHuoOB9T5pEhwBDIYwjIM4CVfSwHVektoMnoPBb0axzOrgm4dvEEUjKMN18NNxferlMKmy8+4UAylGXToubrIUX1byxvpm27/BQfr76I+bJ5KIJkrhtHEHb7hJNMctjS4oD1Q427Ux28PV8D8feF3dra+DXsZUqCGV4rWgnorJdMdXgO+bXjltFQJ0ZByZcwgrrRB5BVE5AWzuH8tASh1k2pAE+sfb8xggt54eidWIxedYHLlKF79Oe+tRg5mEO8WXeGwEtDgOTIN74LpEYbDWmYPUgX6FkU4hKNdq4XEKMuhEGS/UbtQ4t4cTKNZJ5urqgRHMCRhESIvfX8PSRparlRhuDBz1uD5EsrT97NtfdAFv6VzeH+rCMI230HBNezDgNlRm75yH6ockAQkmxktkIFiasL95+rpZpi/ZYDnoXMYiO5Q5I9JNM+x+uWCYC7VCI8j1w69GE/aK+ghy2CsM03xjV4tSFS7cqU5/w9TbW3qeaxzBOHzl+Dx5ZRZhNRwgULld1xUlXd6JopgaRWqxE2UUs2qbFa9gPoUFaNUv76fjT2s8vc303lda0RkFoHETM6cfcVM+chYFhPWev14zcqYFz7imaDLDx8D7N33+Y+b+x6A59INhkTwH2WQOVZGGW//k/wPdzbXYKawQGIScnkJEhN1zyq4xXgAV931W6j360tH+FBxE1dJuxvyu4oXKMj5vWvY7c71oEhkF8RYHu5+XXlWNzWEGAEIbs/GAKvCAH2UHlFwLNhGQIMgZeHQHYasKqf9fHsIWleXuSv50gbRuDKrTtIo1pRGvtV2ROnVFUF8RAiCAPK1kWV4Qss4nfreTLenHsMn0vXob7LHa4dJzHabQxQ6x3HcU+NBTaY1DIesA7Y+w3w4q6wX3vuPWubhE6suec4AK+op1KBpD864V5MGrdhTXa/wbcY2O0tpweUpVDiliabiORtKxTz4WRutZacKeckb0v4ezp9bOaQIcAQyGUEkp4Al1YBEilw7wBMa6fR6KYb3R1cz2K4xLL0c/li3ijq44E7ManoGP851OB/L4hM0crhGZKEXVzDMVBygCcIy5YHev1le9IZicDaQbbbmbbIAUGYnq3AZYPav5T41zBUQCK03wrAM8AsNvotrTSJJ0a1z3FrEq2c2kOLz+2fY0HoYe1wEM2PJBe3f2I+0xq9gdoDgexUwCNAp6aw59pT+K3tZdQ+CzJ8KX8PMTAmc99tHoZJXczfv3Zfe44PVpznfPSWHMEw73BUL2lAENK7D6knRB1HVFwanmkkTTPghhFy69mu3m4SXJ/2ZkFYuTw1ByGC8N9hDdCmcpBZnMtPPcDkLde4z7XZzUYZosN24OS9Fxjw12lBgrCIrxsqBPmCyORrT5PRNWWC0RgXvmiEwO3DHMOHfreWdMG5B/GQK6iiJTBDMQB1GrfBtO7G5LZjA7BeDIH8gQDby80f68SitA8BRhDahxdrzRBwGgLsoeI0KJkjhgBDIK8ikJUCrO5vPbohW5nMaF5Zv+NzcfHQemRma1LBAAyWT4ACUsEItRuL7jJXFPVx506xF+o4kZeOtWDaLLBPJBvR2PUm18rDzRV1unwI1HFgk1U7TmoMsGGE8agD1wNPLwKHZphHQ1kVlF0h1qxJjLr7Af1XifVUsNrF3MSlxaO4WmJau9R8ET7sWLtgzZPNhiHAEHhpCETMaY2Y5Cyj8RYru6B15wGcdCiRHpR0SHLXQgdVtB257PTgAE6WsV28XsKasqMoS0prsSlZ2HHlKahWGBkRiB2qFRc/X0dkQXNAEKZkynHtCZ+BT0bnJOqFBuJJQjqyFCoU9/PgcMI7qwAPP7N5GGahafGrGeIPbzfhZz3ngNQeSPXhdTNbBGH/1cLvud3mAYFlzdC6F5MCtxXddZ9TNufRjFDMURgfkFo4sC7eql7cYib86ftxXD1nt6wE1Dn1Kfw8+bV7Ji2FvwJ4wjIs6w66xfyuG+tPZSccVNVF6UAvrr3hPaRt1KpiUSwd0fB1W+Vcn68QQXhhcnsEeruZjb3pwmOMW8dngJJ5IRM3hkgB7yCgTBPus6nbrmPJySh8JNmKFq5XjXzUCPaHjzt/PzyRlUGzq/rfOvpsRo/qGHDLQfWWQRuhXt4Tp+7H68acqBiJXu1aYewbFXIdRzYAQyCvIMD2cvPKSrA4nIkAIwidiSbzxRCwAwH2ULEDLNaUIcAQyJ8IiDlZ3/sfwMf8BG3+nHA+j9rkVPAJVTX8pnzb4qQMN2Z1p5sHbQKk5hseWickedTwhwMYI9mMZq7XuY89ZK6o034g0MQBmTatY5LyIok6Qxu0EXCRAAe/B57wp+115uEPvLNSeG4kV7pxBKBSAv4hQJuJwNX1QMQhywtsTzZiPr9NDMPPvrEL51dPM5rRznp/YHqPGgVolmwqDAGGwMtE4Px3zXQZydpxP5R/gvMz+hlJH3665iJ2X4rEQtmv8ARP7hkakSDVSvrjxrNkdEr6SnfJkrSfw3N8yQShaW1GN6kLAr3d8Twpk5sCKY7WK1MIskFrAXdfwWlVmrSLIxO1z/EawX7wcbdSd85VAvRdLkg4Ooxbfuh4ZA4QaaH+MMU/dDuwVEBS29o7gcn9ctajCd65UgdUq47s6BdtULqwl2h0Zsz4Fq0z9iEFXpin6Inr6lBd3/Iuj9HU9Toi1SVwTEXPZRecnNAWJAf/0947HMlEVqWEHyoV88HXnasgyNdD9NisoTgEfjt4Fz/u5VUzyFpUKGKxZl/kizS0+fGwkWOqC0n3x4UHCXiWnKnLMAx1eYZvpcu53z/63geVrYGyeKrrq+6+AGH/47MRDe1+nbVwzdCTfOJmAaDa24g7swZ3nqfqurwv/xTT+jVHjzqlRLthDRkC+R0Btpeb31eQxS+EACMI2X3BEHhFCLCHyisCng3LEGAIvDwE0uOBdUOsj0e126iGGzPHEVAqgMMzgejrQNMxQGhz+33FRwLbxuJ0ZBxUmgRCOST43GMqKLtCyMwIQtpApIxQK0Ybm7Wn7cP30n9Q3oXfxKAMxLqlCwE5IdkSHgBb+RPRlB0hV6kQ3WMDspRqZGYrUDn9HKQn5+ojs5T1d2sncGqR8QzCWgISN+Cecb0ro0Y5id3+1cozPe5unoEXF7br4nmgDsL9prPwdacqeSZGFghDgCGQvxAY/ONafJRk8HutkRc1rcfGZQb+fIST4Svn8hRp8MQc6WLdZP29ZKhawg+XHiWiR9pE3edz+9V27ma2MwnCA9OAR2esLtijhHQ8js/QtaF6ixkGmf90ITjQEyGjtwNu3oK+ak7dg+RMhY4grFbKD77uUmQrVXArUQ0usbfM+zUdC1A9wtfJrBGELq7A0G2c5KKZWXsnOPgD8DBc36XPEsC7iMOotp5zCA/iUkFVA1UaGV1LzraMbobaIeaysw4PzjqKQoCyk99bdg7nHiSgcdlALB5cH/6ewoS8YY1QrfN17zcBSQMP/tv8tyEAKQh2icXCj/uhdIkggA5nUu3tQqGAVyAqT96FTLleGYR89qhWCHOVAuoaImZz+XEi0g1KEZD08+3pb1quYSrCJ2vCEMhvCLC93Py2YixeMQgwglAMSqwNQyAXEGAPlVwAlblkCDAEnI9AzE3gP400F2X6dV8IyESeLk57Aay3UefirdlAMeEad4KTUVCWgBqQujt/rlqPpF12bSNPCAWU4TPbKOMsrxrJuJKcq9aoVpAVmU+zadB81w+DKu0FThvIBlE7xZBt+Hj1RSSky7luY9uWx/yD97g/GxKE9UMLQeYXBNBGlxVLzVKg+pQ9mCRdjmouD7iWblJXLtsBNrIPrTqmOoM7PuOaKJQqnIxKxhC5fkP43LvFUeT4FL0LyqogaTBTc2Sjl3y8pgRh5I+t8TxJTyCvULbDzG+/hR/J2zFjCDAEGAIOINBjwQlUeboR3Vx5EmW0/GN0a1oTU7tVM/P28747mHdAX2fWVHK0cglfHIr2wrisUbq+a95rjMZlCzsQmYUuu78Gnl+xz5+lZ8bZv4DrW6z6iohNNZJgpTq+hjLP1LmorxvKf7oLcBPORGv4w37EpGTpnuOUsfYsKYOrK7bbuxu+LnLUfMP/dZQZtUYQag8amb43NBkDVLJSxy/5GXDiVyAtFqjRx3pbEXcVEYRRcek2W5YK8MSJCW1ttmMNcgcBOrzGEfASV4vSsdqRTSVJ/x5aH2UKe6Hdz0ctBmd6gELbcOKmq1h95qFZP07i9Nyv1jNkBUa78iQRaZm8rDwdJKR3bUtj5w6SzCtD4NUjwPZyX/0asAicjwAjCJ2PKfPIEBCFAHuoiIKJNWIIMAReJQJEHC3vwUstaq1KV6DR++KiEqoLZ9rzzZlAcZFyhIYn661JRIqLznKr2DvAznH669XeBhqMzKnX3OtvidQi6SvSHLJlmvkSsXY2KsGoddj4Q3B1AY7dfYGyRb1Rp3QhnLj3AgP/Om1EEHI1TwKL2yQIM+VKVJ68G+9KduIN14vcWLoMQpL8dJSIfX4N2D2B86dUq3HofhreletrTp0cHoSS4d8ZIyHzBMo0A2gzT6KpveQoQVizH0AZFyENgSrdjHGPiwBib/P3eUCIrdXIu9fp94CIaG1Nq/CFuHZoNVIyFLqYpyqGYM/MD/PuHFhkDAGGQJ5HQJvdZhjo9jHNQc8ZU1tz5iEmbNLX4HrL9TSGSPbpmkklLrirCMLXCj1BeOSL1ihTWDizziFwbmwFzvxpX9ccEITXnyYh2eB3V2jgor7uKP/ZLoCecwLWYvZBPIrPMKvhSBv+S5Qd8W3hgwg1xajpx0DFDvbNM7+3tkYQ0kEsOpBlcEAJPsWAnn8Crq4vbeabLz5GSqb+OSxXqvH9jhtm4zcILYT1HzR9aXGxgRxHgDKjKUNaa7/0q4X2VYtzB+yErFn5wlj5bmPBa9ra36YXt41phpol/YCoY8DNbfx7qgi7+iQJqZr7bax8LOpWrYg/htQX0ZM1YQgUHATYXm7BWUs2Ez0CjCBkdwND4BUhwB4qrwh4NixDgCEgHgFFFrCil3l7sdlSdEp6k35TTnDgDtOBkrVtxyQUS/vvAO+iQEBp2/3lmcCVtUBmEldDw4ioIU1NqsXhEcATRZQxSZmThiZ2zrYjcX4LDaklV6o4OVAi9Ir4ekD61gygRC3b4xGBtf0TUP+ouDSuzon2v7JfHIaPu4Y8M/BEp5sNMzUqFfdBYNGSQN+lVsejE9RhE/+DD9Lxp+xnri2dii4Z4AnkpB7lkwvAvm85f2qosSsiGx/JP9XFcqyvFCFX5gvH1uorIKwFL8u0dpBtvGy1eGMKENKAb2VAXHJ/r9QpZ7UWbY2dW9dNN0nfXgzl5g9xJiJWN2IqPHCj+QJ80tGOjODcipf5ZQgwBPItAqbZMzSRiBmdjOoPaid37UkSusw/bjRX0yzChNBO2OnRmcuQozp9B8e3hodM4jx86P1iZW/7/DlIENIz9JRJpn+Qn7tRRiEFQp+V+2yPRbUFLQFhihX9ji9TdsDHbtvRIDTQeE7NPwXKt7Nvnvm99dE5wH0LNQgNpUGVciA7jT/kJOZgVi7jsv3yU4xdzR/C0tqwpqGCWbi5HApz7wACfReH40ykvkbg1K5VMaxZGGpM2YOULD0ZrHX9VvXiWDSonsWRTka8wIA/T1u+H+gA2K6vgJgbAEnntp2MS6iAwut7QkXXAJQI8ICbRIKLjxKQqZE0JnnRX9+pje61Wf1BB5aZdcnHCLC93Hy8eCx0iwgwgpDdHAyBV4QAe6i8IuDZsAwBhoB4BLJSgdXvmLcXS5YlPQE228g2bD8NKFXXdkwRh4BjP1luZysm6ks+yNx8gH7LAYmMz4ja8zVANfj8Q4AO3/N/T+br4+nMln/bM8i9Fku6cHX3qM6Sts6In6cU1Ur6i5O+NJSRNYzSSk3BngtP4Itn40FFb0guKbSwFwqXqQZ0Na4bJTTp8Ig4TNhwCT9nTuayOIr4aORiK3cGGtuZfUYbF7d2AKf1dadozO33lRibPUY3/P7ebih/7VfhNdDO8+RvwJ3dOV8nur8GrOH9rB/Oy4gZ2uAt+ozFnI+W+x4oM+bGVo5AzpDz2cRSVxdEvkgzymI5ra6MUj2moU/9fJwlmftoshEYAgwBGwj8dew+pu80PqRjScKOnn0/7b2Df09EcvJ9lD31o+x3lMIL3Sh1P98E94ASuYv7xRXAZc3vvq2RrNXrtSExmpatwJVHSUYj3C3UAhUSjhl9xhOEewGpm2A0necdw/WnyWYZhAnwwXJle3ws2Ywm5UxkWFuMA8q9ZhKVR2YDkQKyji3HA2Vb21rpV3r957238c+JKNA9Q2TvbwPqIMhXZImAVxo5G3zUsnPYdyNaB8Rn7Srik3YV0Panw7gfm2YGUM86pfBzP+uHLWtP24tETbkAcvBey7JcvehshQpXHiciLjUL3vIXSFe7IypVghn/UR1SNVbLfuDGqxXiDy83KegdnuxbxTDcVQdj8eB66FitOFs0hsBrhQDby32tlvu1mSwjCF+bpWYTzWsIsIdKXlsRFg9DgG3TxTYAACAASURBVCFghoCljCqxZFniQ2DLR9aBbTcVCBYhTaMhKSw66/QjEFTZ8lim0pHNPgUqtAMuLOczC7VWeyAQcRBIeWbsS+ycX8VttKQLXqRm4W60Xo6IwqhTOgAeo3bZjmjvJODpJfN2RNYRaSdgRA4VurMWfrc3wlV7Wr7THCCoiu3xtC2E5DwHbbSvvuSzKzyha2Jbo1zxSaaenN7wXn3UP2pFJpbW9+R84I6wfJP4SWlaau8XoTlqMxbtdvoKOhCBvro/d3+R3JXmIDl8PaVG0qIU2fvyT7FnYjeU8BeWtHsF0bMhGQIMgXyIAElRd51/HHdjUuEhc8U/QxugafkiVmdCWe9EFpb/ZhfqudzGWOkWuEGOrapmmPjNDAR4CRNlToVH6Pc+MIw/gGRodDhp8GbhoW0QhEkZ2bjx1KDmMICPpZMwTzHdyF8xP3eUHbff4mGUtxeewMWHiWYEYaS6GDYpW+Ar943mGYTNPgEqtHcqZHne2cEfgId8LUwj67FQnHrFK54gfS8oA0wmeXmSp694ygVi+M/XXcbGC491cxnZPAyTu1QF1Welw4Cm9k6DEMzqVdPq3E1rVfapF4yJnaqg7vd6SWYhB/Nk81EUSaDflOBAT5yP4sen7EGypSMaolXFogUCdzYJhoBYBNherlikWLv8hAAjCPPTarFYCxQC7KFSoJaTTYYhUDARsCQRKpYsS4gCtuqzuARBajsZKN3INn4PTgKHZlhuR/XdqJ6hJTPduCMisHZ/QGhDj2rIpOpP7nIuxc7Z9kyc32JJF9x+noz4NLmR75JFA1Hm453WxyPGZ2lX4TZDtgKU6WDJSE6LiNv4+/xJepJutUdaSwh7W0SvaSyb3jPP9gSw9YEMn2S8q2u9fEQDtDg5wvJccoMgtIZtl7lAkfLOvxec6VFzQOB+bCqik7OMPFPdyCy5SvfZY3URLCv2FbaPbe7MCJgvhgBD4DVFgEjCy48SERKokaAWicO6s4/w5cYrHDkogwJp8MSJCW1RimSsc9sEn2lzeNlyQ5N6AIM2CEdjgyCMTcnEvRh9BhEdzChRrASmxn9l5I8jCD8/YPEZ3m9xOE5HxmOA5AC6uuoJsMmKYfBGJiZI15hnEDb+CKjcKbdRzFv+900Bnpw3j6nXX4Avy5rKW4tVcKKZtv0G/jlhfLDgi46VuOy94/f02dHaGX/yRgV81r6iVQB+3X8Xv+y/YzdIRZGAebIFXL9AHzfEp2ZjuPwLZIJX/zg3qZ1eCcRu76wDQyB/IsD2cvPnurGorSPACEJ2hzAEXhEC7KHyioBnwzIEGALiEbi4Eri82ry9WLLsxT1gh74OnODArScCoc1sxxR5DDjyP8vt6g4Bava1fF2IIKRaOhuGm/fxCQJSY4w/77sMkLgB7j62Y32ZLTQk1J3oFMSlZhuN7OUuQa1JxrWZzEIj0pXIV1OzNxvQkTlb2kzNaRYigC2PPPFp2jBdVH8NqY92Z0cBaj2pZRQyRxA6SWKUHJM/azU4S9bh5WzzsmnW5250Cl6Y3FumYV9Rh6Hf10teTpZOXsaMxcYQYAi8UgQUShWXRWho+8e1RPkg39yPa3lPQGnwHC5SAejyi/lBJJkXMHCdcDxn/wauW8guBDgpwLQsXuqZjLJ4fulXC2c3/GxE9BXxdUOFLw5bPLQz+O/TOHb3BVcPeKRkF0q7RuOIsha2qZqimssDTJKuQIOwQE5OWmcNRwFVu+c+jnlphN1fA8+vmEfUZyngbSLBmpfiZrHkawQWHr6H2btvi57D4fGtEVrE22r7ZeFR+HbrddE+DRvWdrmHr6S8hPLn8g/wFPqMbkvyzw4NxDoxBPIJAmwvN58sFAvTLgQYQWgXXKwxQ8B5CLCHivOwZJ4YAgyBXEJgaTdhQkUsQXh+KXB1vfXgaLOJNp1s2b0DwPFfLLeyJdsoRBBSluC9/eY+vYsAaeYndDmCkOrOlGlqK9qXd11DEN54lowkg9oiFEAhbxkqf3HQer07DS5Ue4RqzLlJXZFVtiO8Wn8Cf09Z7s7j4HTg4SnzMVp8DpRrI25sIZIRwKVHCeiRppceXTCgLjpf+hBQKYT95gpB+BSgDEdLJvZ7JA4J57aKOgEc5jNy78WkIDbFmHw2HeyaZ32M+nq+c2Ng3hgCDAGGgAMIVJy0i6urpbVtY5qhZnCAA57s7HJ3H3BCU+uWsunf/gPwK2FOEHr4A++sFHZ+7h/g2iaLA597EA+5Qq27Pqv4j1g0sC6+nT2HI/q0xj3/vzpikSAcseQsDt4yOQil6VzB5TGmSZegQjEf48ygesOAGr3tBCWfN6fsT6rTbGq0frSOzBgCuYDAnuvP8f5ygcxVC2Odn9QOhbX1vC20WXfuEb7cIEB25yD+ZuULY+W7jXPggXVlCORPBNhebv5cNxa1dQQYQcjuEIbAK0KAPVReEfBsWIYAQ0A8AhbIF9Fym8fnChNwphGIIUoO/w+IOmY59lZfAmEtha9T/Z9tY8XP2ysQSI8Xbm9tY0/8COYtabyLK3hCluRPfUTW81ApgWXdcfVJElIzjckvP08pqvX4AqjazXJkmjW+/jQJyRl8/zXK1qj25rt4r2W5nMzIdt9jPwERh4TbtZ0ElBax6WDhHqUsi26pE3W+f+pTC72ufmA5Js8AgCQ1nWV0Tyc9ATbr6yCauRZz3zsrHnv9bBylq8MphiA8598eY8dPs3cU1p4hwBBgCDgdgTrT9iLB4MDMipGN0LyC9RqGTguC1A7i7gJhrYDCmmeo6XOK3jFIlUDIzi8BrlqQHwVwOjIOKoNEeI9R/8HPU4YffvkFoyT/6TxyBOGEoxan9cHy89h9/bng9VCXZ5gp/RsVi/kYkw5aaXangZUPHG3/FIi7Zx7ogHWAm1c+mAALMT8iQBLLlSfvFh36nelvcQf8rNnTxAw0nXVQlM/KxX2x9r0mqDVtr9X2x79qg+BC7HsgClTWqEAhwPZyC9RyssloEGAEIbsVGAKvCAH2UHlFwLNhGQIMAXEIEGG1bohwW7HExsPTwEERMoq2/Fmr5aaNkDL7qA6ekO36Coi2Q1bHsxCQkWAZJ1vxikPYuJXhJlRAaaDHQnFelApgeQ8z2THqzEmMdhhqPUNTs3FJdU20tlTZAZ36vY9utUqKi8HRVrZkYy3hTPcDZZRmJgK0mSpgRJh2TZmguzLj7RoYcPMjRyO1v19+JwgNNrQz5ArIlWr8/KgiOrqeE8QiPKgPxo0dZz9OrAdDgCHAEHAyAh1/OYrb0Sk6r9wBkXrBTh7FDnem0qOVuwCNLRxYsaK8oFKrcfq+8eGlomP3IiYlCzP/Wo2vpauMgqrw1WGLtcHGrr6I7ZefCk4i2CUWc6SLUbmELwp5uenbkIw7ybm/TrZ1NJDwwHzGg7dYV2d4nTBic80VBKKTM9FoxgEj32WLeuN+rL4GKV0s4uPO1QEUY4aZwz7uUiwaVBcl/D1w5M4L0EHB9lWKoXRhL1Qq5gupxBUrTj3ApC3XLLpm8qJiUGdtCiICbC+3IK4qmxMjCNk9wBB4RQiwh8orAp4NyxBgCIhD4MJy4Mpa87YurnyGm8wTqNTJ+gbJ43PA/qm2x7NFuEXfAHZ9ad2PNYLQUiakkEc62U9ZeZlJlscbut2ibJftyQq0IDJy7WDjCz0WAQEhtt1pCMJLjxKRka2vS0QdZVIX1B8xFwhpaNnPki5QqtQ4E6nfdPxL+RbeHzUGDcMCbY+fkxZKObD8bcsehO4LMWQxwG10dE7WE4TfdqmKEffsyCLNybyob34mCIUwbjEO7/99BMMk5qfJqdbV/Yoj0bHHa7ZxnNN7hPVnCDAEcgWBof+cwZE7sTrfX3SshNFtyufKWKKcGh6GofqDb/8O0LuGkFFWPWXXGxrVrH16EVRf8WyU8eGlsPGHQM//D1acw1zZAhQDnwl/QlUN709eBF8PYanwcesuYdOFJ4IhFEM85soWokpJXwR4GhCE1d4GGowUNeUC04hkwpMFiFRnvwcWGMDYRJyJwNz9dzB3/10U9XXH+y3LolZIAJIz5Bi5lD+s1bteMKb3qA4PmUTUsFkKJTaefwI11OhVN1hUv9AJOwV9rx7VGE3KsTqcooBnjQocAmwvt8AtKZsQAEYQstuAIfCKEGAPlVcEPBuWIcAQEIeAmPqBJJ/VVVNvR8gr1QykTC9bZosgFEM0thgHlGsrPJI9BKFfSSA7zTpBOGQr4GrjH+PPrwGnFvI17xqMAkIaWEYhNQbYMML4euefgaIVbSEHaEi2iw8TkCk30B2jlzwXoFH7PnAhbCzZki5Iy1bgyiM9Ifq7sit++vpzi5kHtoOyo8WROUDkEfMOrlJgyBbzz/dO5jZKbdnNZ8l4K+krXbOv3qyMD6M+sdXNedfpnk58BGz50LJPW/e986Kxz9OdvcDJecZ9ui9Ag/8dwzzZAjNfRXzcUGHsZssb3vaNzlozBBgCDIEcIfDVhitYe+6RzsegxqUxvUeNHPnMcefnV4GEKCCksXUJcTr0s3GEXua8Sleg0fvAw9PI3DsVFx8YS2HXmHQMu689x/j1l+GHVLwlOYsMtTt2qRrixg9dIZMIyw5O2HgFa87qMTKcXyCSsUA2D1VL+sLfkCDUxpJjMPKRg/XD8X/2rgM6iqoLf+khPYEklEASem+h915DkQ5SlfaroIJKEQGRpigiRWkqHQTpRZAuvbfQSSe997Kb7H/eTHZnZ3ZmS7JJSPLuOR5Pdu67977vze4M73v3XqRxZLMq8nf1+V2CoKWhlgwE3vv1Gh6EaJbgp9mDJWP9aJSFgwDdyy0cXKnV4kWAEoTFiz/1XoYRoA+VMrz4dOoUgZKAwP0dwOP9uiMd8xdgaaupR5rk7NDS+045ws4dGPa7dj/6lCrt8DlQs7u4HUMIQhdvIC0WyOLKk2kYHXsQMLeSjplkYJHec8pT51b2wMhd0qRiagzw9yS+vf4/Aa51dOMvzwJ2DcW94ARky/kEIRnc0tsZ5h9wfYk0DG7zRXKmDE/DklWX1uUMxp7lHLmmO4gCaByYyOItJuon9Amm5J58ckAvZy8jU9A7kcs6/axHLXz2tghLYJLNw2dHgdtbpON9VzcYr68HXgl634zeh2XnQtDtpnj2SJsl12FCGGkqFAGKAEWgmBH4+ewr/HL+tSqKHvXcsHWClkM6xRyvhntS4p38Bls7AbX7AKYsyZe2uQ/vMA/IIaDF17HzZjAWHdMso65tA3/hUT/suCFSOhOAA9KwyeJnzQzC2r2BdkWYiV8U60KwTokAXKqzlTGE8tdY8f7E7+rzuygwoz7KFAJvolNBsrLDEjOYeVdxKocdH7ZCDVe7MoUDnSxFQB0BupdL74fSiAAlCEvjqtI5lQgE6EOlRCwTDZIiUHYRkCoxKkSkz0qgYkNNnJLeAocleuyoa9fsAXT4TDvOunrVkdHEBrElJoYQhK51gaRQNotQSsbsByxtpK8nhbEEobpI4UR0xAjCfqsAt3q67788gvBuUDzTJ04ozTydYD35H2k723yRkJ6NFxEcIbrdajQ2Lpip27cxNAiBRog0MRm4DiCELZGAS8B/P+rt8XV0CnrGcwTh9M41MDfqC73HF1iRbB7unwCkc70dNWy+qxuMYocDJp7Avtsh8Dw+UmMa53KbYcbXa+Ck3quqwABSAxQBigBFIH8IkN+quYeeqAY3qOyAkzM75s/YOzRK8Wd/piS4XKFg/p+bq4D99DPYdNkfK/55oRGpNoLwq78fYf/dt6Kzs0YW/rRYhXqV7Pm/6zW6Ah1nGweRjLwewuQwVuOR+lVMMI5nzkrMK+DsN+z7HqkeQd67rB35XvaMArJTNT2/q89vY2NE7VEEAOa35m0CSxB6OJeDqSk9EEZvjLKNAN3LLdvrX1pnTwnC0rqydF7vPAL0ofLOLxENkCJQthF4sAt4tE83Bj2+BTx8NPXESDIxa7V6Au11lH7UhxwiNogtMckjCFOz5AhLSGf+YVvNxQZW5iJlQis2BuJeAzL2H8KiMmoPYO0gfo1sOJ0UyVTrswKoKFHiLCUSODiZb6/vD4B7fd34yzKB3cOYHoJkw1AojT0cYTtNkA2mrrTNF3FpWXgVyW2A7bEfj3VfaSmNqTsq/TXI6f39Er3rCOFLslOTwwBSZtYAeRJvigHRHEk7sZ0XFscXUVYkiZNsHuoipt/VDcZbm4Dnxzm0876j6dlyjFm0AXPM+b8Le3O64n8z5qJeJYnvhAHrRlUpAhQBikBBEfALS8L+u6Go6GiNSo7WzPPex7OQe+oWNGh9xos9UyaegLJPmdCENoKww/cXVBv+wnFmyMEuixWoW8kezuoHP7w6Al2M9Bw9/x0Qeot1TTL3Ru4GzNX6HeqDR0F1/pkDRKllXjYZBTQby7e6cwiQk63p6V19fhcUEzqeIkARoAhQBHQiQPdydUJEFUogApQgLIGLRkMuHQjQh0rpWEc6izKGQFYq20OGZJmZmZfuyetLEPb8FqgiQhAmRwCHpujGSB+CMM4fOK6DRKw3EGg9VdzfNl/kKhS4H5IAmZwl0RzKmaNBZcFJcXKhSnMg6hkgz5SOfdB6wNlL/PrJL4AYzZP80JZBKEam9v0ecG+gG7/sdGDPCNwMiAOpwimU+pUd4Pi/M9J2tvkiOiUT/tFcxuRfLlOw5nNBT0TdkeRfIzEEOPJR/seLjDyU0xGzXnOZrWNaV8PypHlG9aHV2PhjukvsvqsbjMLeofUHAa3Y77LX3JPYa7GUN/V58g+xbfZoeFUQKTVcdIhTTxQBigBFoHQjIEEQrvznBTZe9ufNvUPNCtg1ubUkHk2X/IvEdJnEdQX2WizTJAirtQG6LTAOxsK5aCsTbxyPmlaEMZhZAOMO8/W2D4Doy9W7+vwuLKyoXYoARYAiQBFQIUD3cunNUBoRoARhaVxVOqcSgQB9qJSIZaJBUgQ4BIKvAxeXc38P3w7Yli+9COlLEHZfCFRtpYlDShRwULxfGU+ZlJAkpSS1SXwgcEyPvjdSGzYiZTSJuzbVXTT7phGCMOy+7nWV6kMolTWmLSNQjCDruYQlK3VJdjoUe4bjpn+8qKaHSzlU/fyCtJVtvohMykBgbLpK55Dbx1g1Q3CKXlccBb1Oyo2RXj9GkiMm3fDZc66H4zAfD/yY9rWRrOswY2kHdPoSOLdIu+K7usF4ej4Q+ZiLven7QNPRzN+/nHuNXedu4SPzY3AzScCRnA5o2vN9fNy1ZtFgS71QBCgCFIGyioAEQbj42FNsux7EQ+XEjA5oWEXkEFSe1tYrAVh68jlvTAU7S8Smstly5CBInYr2cLFVy+ojh8HIoTBjiHAuraYC9fXoW20M30obEniqXJDKBecWi3t8V5/fxsSH2qIIUAQoAhQBUQToXi69MUojApQgLI2rSudUIhCgD5USsUw0SIoAh4CujYTShpW+BGHX+YBnO83Zi/XVk8JI10aLPhmExLbQTsRjIPwB8OSARpYcUW/l7QIzYR8N94ZAlJ9+qznhOGAi6MMhRRBq6ykoRoDW6gW016MPYHYacnePwK0AcYLQzcEKNWadk8543eaLsMQMhMRxBOHxKp9j+fQR+mFgTK2nh5F7eytzWF9jXQz0c8y8J2b6caTVwCaVsdZht3h2p4G29VInmRYhN7Wr6rrv9XJUCEoHJgJpsZzhLnMBrw7M36TMaP2F/IzUTeN80LtBxUIIhJqkCFAEKAIUARUCd/8E/A5ygJDDKGP2Yd6hx9h7O1T1OVNSe6D2CgQxKVkYvOEa8/y3MDPBgent8Om+BwjOexdgCUI7uNhacf5ICfY+agfldC1NYij7zCVVN5yq8rWF70qtpwP1fHVZNO51be/1foeAu39I+3tXn9/GRYhaowhQBCgCFAERBOheLr0tSiMClCAsjatK51QiEKAPlRKxTDRIigCLAGEsSJkhoZTmDYIHu4FHe3XfAZ3nAN4dNfXS4oADE3SPJxq6cMwPQUjKhP7zlcp/VHImAmK4MprkQgsvZ1iYmfJjtLIHslL0i1ssy0+SIPwRcKsrbldsfs3GAU1G6o4jKxXy3SNxJ1CcIKxgb4lan54AyLzEZJsvQuPTeb2ITnvPwbcfDNbt20gamy774+STCCQmJuD77OWo4kR6RtkiQ5aDwNg0ZMlyUN7OElWdbTQzPiViOG3RA9Of1FJd7dOgIjbWuQ88O2qkqI1gRtd9bwQX+TKxZySQrfZdEfTPnLbzLs48jWJMuztY4cpX3WBpLvge5csxHUQRoAhQBCgCkgiQTPtjnwDk/+RwUtcFQLXW+GzfAxx5GK4aNr1zDcztK/G+oWY8KV0Gv/Ak1HC1Y/o1dvvxEgJi2d9+QhDWrmiH8uoEISH6vNoD0S8Az7aAd2fNQ1JK++S95tSXbP8+Urqz349A+RrsVbF36rYfA3X6Fu3iayMIS2oP4aJFkHqjCFAEKAJlEgG6l1sml73UT5oShKV+iekE31UE6EPlXV0ZGleJRiBHDry9w5IhFbn+YwWeEyk5eXahphmpMpMFdvgOGHi4ByD/6ZKOs4EaXTW10uOB/eN1jWav6yJKYt8AJz7TbUvdDilJSjLz8kRYRpN87OPpBEtzM75dc2vt/QfVtR2rAu/9xh8vtanUfzXgWlt8DjGvgJOz+NekiFehhawUyHaNxN2gBFHbTK/FmYcAO1dx39t8ERSXhohErufi+TrfYMHYfrrxNpLGkuPP8Mc1dq3IpqSzrQXqVnTA0/AkJGfIVV5quduhgp1aNoMW/88yXdAviCNYu9V1wx/1H1KCUNeaiW3cDviF29gFkJGdg9+vBiAhXQaSqVLVxUaXVXqdIkARoAhQBIyBACEHIx4C5P0jj3CbvvMeTj+NVFn/rEctfNZD4n1DSwzdf7oE/7yDVKIEoXCssydgZgnYugIVGwF1fTnCUFiqmpCL/X9kLeTIgJ3v8a21/xQgPamLUihBWJRoU18UAYoARaDUIED3ckvNUtKJqCFACUJ6O1AEigkB+lApJuCp29KLANnYJhlj0Xk9VXwmAo2GGWe+r88C137RtDV6H2BlZxwf75qVh3uBh7t1R9X+M6BWD009oxKEr4ETn+uORZ0gFGz8RKdkwj+an0HYrJoTrC0EBKGpGZCbo9uXUkNIbkoRhL5rgAoSfdrIPUtO2qtL568A706648hMRtaukbgfnKiha2VhCjsrc9SetkuzvJdSe5svAmJSEZWcpRp/tdEyfDmim27fRtLY8l8Alp1iv7dkU5JIS28XjaxIV3tL1HSTyIQUxBKQbo1uIZNUn3aoWQG7Gj+mBKGuNZNlALuH87WGbgXsaQlRXdDR6xQBigBFoDgQmPjnbVx6GaNyTbIHSRahodJz9WW8jk5VPYsNOZTDDGrxAdBwCOtWG/km9pzp8DlQs7uhIRdMnxKEBcOPjqYIUAQoAmUUAbqXW0YXvpRPmxKEpXyB6fTeXQToQ+XdXRsaWQlFgPSbOzOfH7yuzDR9pxp4Bbj8vab2qD2AtYO+VkqWnr4EYdtPgDp9NOeWGg38/YF+c9a1TmIZdmKWtRCECihw059fhrNJVUfYWJrrF6OUlr4EoSALi2cu0g84PZfvodMXQPUuumPLTELmzlF4EMInCHn9FbWRk9t88ToqBbGp2Spf91r+iE8Gttft20gau24GY8ERtu+jkiAUM63MLNTHbXCGFToHc/cfwWN/Mz9KEOoCT6w0cGn+ndOFB71OEaAIUATecQRGbb6Bm2p9iBcPqI+J7b0Njrr3z//hZRRbYp08iw0mCMlA5TuRNvKNlHHfOzp/7zwGz0rLALEYyftS0BV+r0ehifqDgFZTjBkJtUURoAhQBCgCJQgBupdbghaLhqo3ApQg1BsqqkgRMC4C9KFiXDypNYoAHu8H7u/gA6GLeNIHNnk2sCvvRLRQf+ROoJyzPlZKno6+BGG9AUDraZrzSwoDDnOfy3Jy8TomAxlZ2Uw/uWouNjAlPXSITDgu3ceGXI95CZycrRtDLQQhGXwzII5pfaOURh4OsLOy0G1Xm4a+BOHAtYBLdXFLEY+AM1/zr3WcBThUAaKfAZWaSI/NSET6zlF4FJrEG9+mugvXr6/PSumSu9t88TwyGYlpMtX4px3XYXKvFgXDxYDRp/0iMX3XPWaENoLQxdYCdSrqR8i/zbBAh+DJvCiChkYAT48YEFkhqxrj98nYISaGAEc+4lsddwQwKyCRbuw4qT2KAEWAIkARYBB4E52C+DQZMmU5zH91KtrDs7ytwej0WfMfXkSyBOFws0v4qtJDuOpZ1lvlrNVUoIoP7/1PdU35zCNlUv8ay4/PwgZoPAKoP7jonjdiBKGpOZDLlTbXAJG8x3X7Rrpsu8Go0wEUAYoARYAiUNIQoHu5JW3FaLz6IEAJQn1QojoUgUJAgD5UCgFUarJsI/D4AHB/Ox8DY2zAvzkPXP1ZHNvh2wDbCqUTd30JQtLvcfReDoPcXODOVuD5MR4uIfHpCEiQwwosEVW3kj2cbSxZnXGHATMtRF30C+DUF7pxHn8MMDVl9UQ2fm4HxSMnh2MIG1RxgIN1AQlCIfkmVWJ04DrARXCin2CVEQ/EvQEusKU1VVKzB+B/HgyjScqekh6Gef2GeHoZCUjbMRqP33IEIeFd21Qvz6n1+Bbw8BHHb5sv/MKTkKLW6y+o1xaM7mjEHp46Vo70tKu38DSjNc98NxqbcL0j1Ycy/RQrO+q+DwCEppuhY8hUnm5Ql6tA5BO9xheJkjF+n4wdqPC7RvpLjTtkbC/UHkWAIkARoAi8Ywj0++UKnkUkM1GZIBenG11CHdlL40WpfOalxQIHJorbJSRhcz37Vxc0Mqn3NSm7pE8ieTdTHm4rqH86niJAEaAIUARKJAJ0L7dELhsNWgcClCCktwhFoJgQoA+VYgKeui29CBQWQahtA6E09+Z6tA94sEv3xMKulQAAIABJREFU/eLdGeis1j8v/CHw7wKNcTf845AJC1jnEYSkP17zannZl2P+Aiy1nHZ/8jdwb5vuWLp+DXi2BbLTgT0jNPTvBsdDJucIwnqV7eFULo+k1G1dXMPZExi0gbsmdb8QHaKrFNKD59xiIOqpfp7dGwB9RcrcpscjafsoPAtnT/0TMTMzQSsvF85uh8/YTS11ISW+YALsHYVHbxORnsX1XYwauBODW0r0S9QvWoO1vOaeZMZoIwjJ9cYejrC10p3N9iwqHf0S+Fmnr+tuhgUM6C9p8CwMHPAulu4Muw+cXchNpJwTMFKP3wEDp07VKQIUAYoAReDdQmDAuqt4EsYdNtrcywq9QtYYJ0i3+kC/H1hbKZHAQX6GP89Jfg7PkN7Rcf5sVQ87V/1i3jHIsJ7Tuqpd6OeValEEKAIUAYpACUeA7uWW8AWk4YsiQAlCemNQBIoJAfpQKSbgqdvSi4AYiZSfTQYhQtoIwvc2Ao4epRPTR38BD3bqnluTUUAztVJRh6cDSW81xikJwj053fGB2Wk+iaWrVKu+p7yVfWHe3gPOLdKI4X5IArJkuarPSRkuF9sCEoTEmo7SpozDwb8CTtW4mF79C1xfqxtfdQ2x+zk9HtG/j4B/dJpKM66cJ3wrp3Ijm40Dmoxk/06NAf6exPMrxCV1xAH0bFS09/XlVzGY8MdtLDDfiQYmwZK4VHe1hbuDtU7cIpIy0DZiFk9vr+VStFXPrNRppZAVWn4INHivkJ0YaF7Yb5WUuR2yyUAjVJ0iQBGgCFAEShoCgzdcw8NQrp/xr71t0S/4R+NMw60e0G8Va0tQgl7DgaHv7qTSAinTHvmYrbjQeQ7g2U533HtGAdlq70raRogdtNLtgWpQBCgCFAGKQClEgO7llsJFpVMCJQjpTUARKCYE6EOlmICnbksvAoVBED49DNz5XRozsbKRRY0wKVMpSwMs7Yxb9khfgrDhEKDFB9ys//4QSI3SQEFJEM6QzcAWi9V8gnDYH4CdmzRy+hKEjUcCzccB0c+BU2pZjXmWycYXKWeplNrudiivZ3+dmNRMBMakM5WlCElV3taKi1e5mUU2qbYPEJ+HkEzePRwgWYSGiNimWVocwrYMR0gcZyvSuTnec1Ej2er0A9p+BOTIgJ2ahNSdoHjI1UqvKiYcQ7uaep7ANyR+Hboki3Cy2Ul0N30gqalvmdH4NnPRfBu/LyPpb9i2hlrpVREvCoUCgXFpiErKYq6S9W5S1RHlLHRnLRoMRaPhgM8Eg4cV6gAhcV2hFuArUWK5UAOhxikCFAGKAEWgKBEY+tt13AtOULn8pZcjBoWsNE4IpET6gF9YWwnBwNGPpe0aShAK3/lIRQpSmUKXkDKnpNypPlKjK9BRj17Y+tiiOhQBigBFgCJQohGge7klevlo8BIIUIKQ3hoUgWJCgD5Uigl46rb0ImBsgjBHDuwcrB0vstkh1heuqFBOjmAz5ZLDgcpNge6LATMjERmP9wP3d/BmkpSRjcikTFhZmMHDuRzMSb+/egOA1tM4PR0E4YeyL7HbYjmfIBz8G+BUVRo1QwlCUmbq+Kca9h6/TUSaWinNGm62cLPXnY2Wq1DgbnCCqn+hpbkJUx7VRNmHRtmHUBtBKJzj7hGALN2wO0WUIIxFyKYRCEvgCMLQSj0wwkaNZKvWBui2gNmQSw5/g/CkDMhyFDAzBSrYWSEgJo1pdUgkGk6oPm0fGnno1+vPsAlo1yYEYXkkYb3FOq2Kukg+Mjht1CE0WHyWZ+dr812YXCOZWzcRLymZMviFsT2YlOJqb4WabnbGnCprq3YfoN0nxrdbEIvCQxGVmgC9lxXEIh1LEaAIUAQoAiUAgRGbbuB2YLwq0p96uWBoiJF+/0kFBVJJgYjEO5rKsaGlPG9tAp4f5yOsj43D/wOSQvVbmWptgW5f66dLtSgCFAGKAEWgVCNA93JL9fKW2clRgrDMLj2deHEjQB8qxb0C1H+pQ8DYBOGLk8DN37TD1O9HwK1u8UF5fgkQepvz3/5ToFZP48QjIAizc3JwPzhRRSS5O1qhegU7TZKD9JUh/WUEoswgnCSbA5LJxeuTp4to1ZcgbD0dqOcruflEeuukZspVkelbrjI5U4anAtLIx9MJluZm3CzJHJy9ANLTRkyEBKEhpa2U9sQIwtQYBG0agYjETJXX0Kq+GGF5g4uiig9TBlZ29FPcDeKyA8TCXCCfhK2z34d3BS09IY1zh2lYUW5ONjIJwHzzPbAwM2GITKG09HKGOWE3xcTEFGjzPyhq94H3vFM8jSYmb3C49r8wVRK7IuP9wpOQksHdI0qVhlUcYG9TDsjVvFYgOAzNlCiQMz0Gk76jpP+oUkiZtq7z9RhIVSgCFAGKAEWgJCMwZstNXPePU01hZS83jAr51jhTsq8IkL7dRGJeASf5JcB5TsYeBMzVqjToikDkQBtG7wWs7LWPPPE5EPtal3X2urKEvX7aVIsiQBGgCFAESjECdC+3FC9uGZ4aJQjL8OLTqRcvAvShUrz4U+9FiIByw9mmPLvR7FqncJyLEYS6ettpi0TMnlBfmTlWODPSbVWMODMW4fD4AHB/OxNDTq4CoQnpPBKKfM5kctXsDnT4nIv10FQ2o1EgQoLQ0twUPp7OrFbbj4E6faXnqy9B2PcHwL2+JEH4LCIZSekylZ9q5W1QxamcTpxJ5uSz8BSeno+XEyzN1AhCQg76rpHOOhUShHtHA1l8m+oOFFAgW54LE4AjIkUJwmgEbByhKolJbLz1Hobhphc5cxUbAZFPIOw1KDbxL+XTcHj+aJCsuaIWUtpsxp77iEnNwsUKP8LD2QaRSRkIjOVnWoZW7o0R5e7yw6vrCzQYDJhaALZsGdE1515hzTlu888UuXjZ5TYsIiVKmFo74ol/CI9EVjqp7GQNz0ELgKtGLrdprO+rsRbr+nrg1WnOGvleku8nFYoARYAiQBEo1QiM+/0WrrzmSm5+16sSxoUsNM6cyb8BRrDvlIh6BvzzlbRdQ9/dxXo6D1wLuFTXHvs/c4Cop/rNb/h21buFfgOoFkWAIkARoAiUVgToXm5pXdmyPS9KEJbt9aezL0YE6EOlGMGnrosOAZJJRjLKlFKY5erECD1CSJIMmPzIvW0AsalNun4NeLbNj3XjjCkCgpCQY6+iUnk96pTBt6nuApPqXYDOav3+Dk8Hkt5qzE9IEJa3s0Rt97zT3T4TgUbDpDHRlyBUErbkRDg5GS6QN9EpiEnJxhOFNxqZBKKSozW89MiUS8zIxnMBQdjc0wlW6hmExFeHz4Cra8TnQUprkRJbStn3PpDJ75GnvJSjUOBlZIqKzCRY1XKzg8mkk5q2U6Lw5reRiElhe+YRCaszDsPkatlzthWQHBehkQUpFugXsmk4/904WFuokZ/GuVsNs5K35gSL2wFcyTNi5FvnZTjtsppvr25/JnNQXcITM9Bu5QXeZ08W9YT9k+3As6Oa8bx/AAN/OoXHiVbYa8Evq+bhUg5VP78A6Hsv6jvbd40gvLAMCFHLPm0yisk+pUIRoAhQBCgCpRuBiX/exqWXMapJLuxRBR+8XWCcSVs5AKP3sLYiHgNntGSmD9kMOFTW368YQdh9IVC1lXYbpFc16V+oj7xrz2p9YqY6FAGKAEWAIlAoCNC93EKBlRotZgQoQVjMC0Ddl10E6EOl7K59mZq5WF+QwvpHNuk/QvypS+c5gHfH/EEuzKQhpYpsXICEYM4eISQIMWFsIQ3hSOlQe3e2bKWUiJEV444Ypw9hXgbhk7BEpGbmiEbAZNF5d+D3ZZHo6XIvOB4pcnNMzCsxyiMIu30DVGtt2DyltMmmklcHgJScEkhgbBrTQ3G1fBgqmcTjU+drqOGqu7dcQno2XkTws/2aVnNCOUNINCFBuHcMkMXvdacMNy4tC68iU3nRMyUup50G1Mtjknvx5q949fgm4lKzVfphjaZjWPoB3vibAXGq8rDabtevcj7Cf8vGau3TZ+zbXdSe2r19NzgeMrkCkXDGCtkYRMMZQXUF5X/r9APafsQzFZ2ciVbLz/M+e7iwJ5wCTwJ3ftd0O/EEas4/BXmugimDqy5Mtuln5/NHEDYaDjzhr4fKdmH9HuZ3kU5+AcS8KPzfuPzGR8dRBCgCFAGKQKEgMHn7HZx7Hq2y/XX3ypgS9o1xfJlbA2PzDt2F3QfOaslM1FV2XhjRi1PMuxBPdL2fk3dsUqY/T0iljKC4NKaCgJOtBao523DvQeQZ7jPBODhQKxQBigBFgCJQ4hGge7klfgnpBEQQoAQhvS0oAsWEAH2oFBPw1G3RIvDfKiDgMt9nYW2IvzmvWf6v3Qygdu/8zfnSSiDoKjeWbBBEPgZiXvI/M/amQY6cX6ayRjego0ivltxcYMdAzbkN+wOwc8vfnNVH5WVkksw/KWFIMu/WQI/FnMrRj/kkat6VtwnpeBMvZwjCNRbrUc82DXUqOrBXuy0AqrURd0PI0u0DCj4fAMFxaQhPzMT38lF4qKiJf11WobabboIwPi2byehTlyZVHWFjaa5/XEKCUEsmGinn+jY+g2e7prsdXKefBMwt2c9vb1Flwb2ITEZCGlc6NaL5LAxJyivlBSBXocAtQRaeVOCLzGfi30Wj9Z9XYWmq4aMkaJfJx8BPwZYMu+L2EyrYW3EkrQhBGJeaBZ+l53gR3l3QAxUCjwMkQ1goE0+gxvxTTEndMWbnMcCUy6SLrTMSA8Z+lj+CsMtcgPyeiElh/R7md10OTgFSIrjRJHZCuFOhCFAEKAIUgVKNwLSdd3HmaZRqjl91q4aPwucZZ86kP/CEY6yt+ztED3GpHPVeDlRqrL/fZ8eA25v5+k6ewOAN4jZIGXxSDl9NlO+H6p/VdrdDeTsrtsIFqXRBhSJAEaAIUAQoAqSdx9u3qFq1KoNFaGgoPDw8KC4UgRKPACUIS/wS0gmUVAToQ6WkrhyNW28EIp8Ap0U2FgprQzz4BnCRXxaQKTmY3wy/fxcA4Q+56baYBNz9U3P6RpxPpiwHSSe+gXXkPYbUIf+Vt7UCxHxkpwN7RmjGIySi9F4wgaIeBCFDknn6AL3VcD82A4gP1PAalpiO13EsQbja4lfUt01BXSVBqK0UrJAwze98yAt8HvG2RD4OzxWeGF8rC0vM/tBpMTY1C6+j+Bl9jT0cYWtVAIJw/3ggnV86UxlIYGwqIpO4kqHkcxdbS9SZ9Q9gacOO2z+euT/SsuTwC+NnIiY3n47eSVzG2uvoFMSmcBmG2ia80mYWjs4brhOTQldQIwjJHB+/TcJY2TzkgC19SjL86lW2h1O5PMJUpFce6TfZZMm/vFBvze8O9+ATkgSh11xlGVcFJpj9iz6md3A6tyUqdP0fPuxUCzl/9M/7boLJyCTrolN6LpHOljDi74fOOPRR2D0ckKmR08XdZ1WfmKkORYAiQBGgCBQYgY9238OpJ5EqOzO718Ks7E3cwTgXb9H3O9UA0vMvPkA6jvHHAFNT3QdtdFWVEHp4eliyKoBoMJdXAYH8w4u3AuNAzt0JpapLOXg06c6vlFFgpKkBigBFgCJAESjJCNC93JK8ejR2KQQoQUjvDYpAMSFAHyrFBDx1WzgIkKw6UuLTzh1oPJLNciI94EgvOKEU1oa4WE8T3zVAhZr5m7Mw/nYzgetrNW0pNzzy54U36nVUCmLX9+J9xvT5I5ipl5YkGnkkkYbbnt8CVXwKHo0eBGHjqo6w9WgM9PuB83f8UyDOX8M/6Qf3Kk7GEIQ/WmxEfZsk1K+Ul0GorRSsPAvYNbTg8yG9+RIzEBKXjgXySfBXVEHnWhWwveJ+flaoiCdSqtI/Jo13paGHA+ytLPSPS0jcXv4BCPxPdLxU1mbb+f8A5ZyA6+sgf3EapGyr2IZWdNdVGBTCZqxl5+TgXlAiz8+2nF6YZHUJCrkmafiTw5f4+8sh+s+rsDTv7wQe/8VYV0CBRa9rYEcOlw1MCEKm7Kp13hrU7gO0+4QXTWqWHA0XneF9dm1uN1QxiQcOTxP9beIIQv7lr/vVQ9sa5ZGysY/qAvlKtqleXjcCA9cCx2aK6xXW76HuqDQ1yP2wS7D2720EHOmp2PzAScdQBCgCFIGShMCMvQ9w/FG4KuSPu9bAl50qAk8PAbk5QP3BwN+TpKdUswfwhp+1z1MeexAwt9JNELb/DKjVQ3/oxHqQk9FSz9eTszXe+7RVy2g7cDLQ8kP946GaFAGKAEWAIlCqEaB7uaV6ecvs5ChBWGaXnk68uBGgD5XiXgHq32gIZCYD+8exmwdE6g0EWk+V3gAorA1xsYxFQ/uYqIOiUWpvHnBphSZsA9cB5FS1ESTuzgG8OraaZ6mltzPMSVkmM0G2WmIIcITfc40ZWLkZ0Ou7gkfz5G8o7v2Jm/7iWW7EQSMPR9hVqQf4/sz5kyCGI5Iy8Co2GxNkc/GD+SY0sElAg8qO7LhOXwLVO4vHnJ0G7BlZ8PkAiEzKQGBsOj6Vfcz0sWvl7YL9o6qJk0VqHknsQbHpvBgaVHGAg5Kc0ic6YZbkxRVA8DWNkfLcXNwJTNC0aAK0nXMcsCnPlFx9GJqIjGzx3pBpI/ajx73/MTbENr2+sl+Gqol3MMPsiIafdS5zsefzQfrMqHB1yO/KjQ1AvD9QvQu8/3KEAqYqn4Qg5JV5JaWESUlhNSEZuXW/Oc377PKXXeBZ3pbtPUR6ECml3gCg9TRIEYSLBtRHx1quiFnXk2evdXUXmArJeyEy5DdPqqRsYf0e5md1UmM0N39H7wVI/1UqFAGKAEWAIlCqEfj8r4c4/CBMNcfpnWtgbt+6/DlrKY+Our7AixPSGCmfJ9pskNGk9/ag9fpj/Wgf8GAXX79iY6DPcnEbp+ezLQPURP1d6bHCG41NuEoYbWftA5w99Y+HalIEKAIUAYpAqUaA7uWW6uUts5OjBGGZXXo68eJGgD5UinsFqH+jIUB6eZHTu+pSHBvixs4g3DsGyFIr3UjKaJ75WhM2IxKEst/74W4Qnxzy8XSC5cQj7KlrdQm7L162kGT7kKwfXZKVwvZsJCRJq6lAfUE/wyd/I/fun1p71zEZXJVqAoPU+rycmAXEvtLwHpmciZcxWQxBuNJ8MxqWi0fDKkqC8AuGBBIVQhTtG6NrNnpdj07JhH90GsbI5jNkEykTeuyTDjpPsyszD9Wd1K9sD0dleUt9vLs3APp+z2me/w4IvaUxMj1bjkehSRqfm5uZoOXgGcDD3ZDSUQ6yn/YPGp4by/wpJAi/lE/F4fljcOLCZdS9u0jDzya3+dg2wzg9H/WBRV+dxceeYtv1IJU6IQibezrBypwtOcr0GhUQhLm5ClSff4rn4t/PO6G2uz1bHzTiIRB0DXCtC9TszmTpShGE3w1qgK513RC6ujvPXktvF5ibmmifhrbfw4JkOesLnr56Ma+Ak4J+pxOOa2Yv62uP6lEEKAIUAYpAiUFg9v5HOHj/rSreKR298XX/+vz4Ay4B//0oPqeGQwC/Q9LzJf1s1Xt7a0PGkMMzhBwkJKG6VG0FdF8o7kF4QEjwrvRbzgBUNImHh0kMruQ0xoEVs0vMGtJAKQIUAYoARaDwEaB7uYWPMfVQ9AhQgrDoMaceKQIMAvShQm+EUoPAhWVAyA3+dEgG27/fiE/RkH/0GwKSGEHYfzXgWtsQK6wuIQ92DGT/rxSSjfjqNPDyH769IVsAh0qG+xAZkbmlLx6E8MtBNq3mhHITDrK959Tl1b/iJU+dPIHBaoSdVGRnFwFh97irpE9alebc334HIb/9B+4EchmE53Kbo4fpfZVOg8oOcHD3AoZs4sad/AKIeaHhlZBzz6NZgnC5+RY0KheLRlWcWL0On7MEjZgkvQUOTzcKvspegqNlCxh7tdzscHZWZ50EYWh8Ot4mqPVlA+DmYIUarnb6x0VIqP5qm2oiG1TEWEqWDH5v+T0FyeekbU9rb7acpbbswTXyodiy6FM47HuP0b0dGI+cXO4+XlftZ+yZ0gbbLjxGnYuaZTb/rPQNNn/UT/95FZHm96df4LdLXOlaQhDyyLlavYD2mmU8ay/4B9lyrrHQsU/ao7FH3n0nErsUQXh9bjdYmJnizQ98IruFlzPzuVbRRhCSgW0/AepwpUuLCFINN8lXNyPt3l8wMzVh/iPEp+P/+D0ciys26pciQBGgCFAECheBOX8/xl93Q1VOJrX3wqIBDTSdkjLy5xYDGYJqB01GA4/2GidI5b8VSL9tchAxIZA9SFann+ahFbGDih4tgR6ah6CY4AQ9CEk/51sB3Lvu2pz3cCOXnbfqPdE4s6JWKAIUAYoARaAUIED3ckvBItIpaCBACUJ6UxgFgeTkZJw6dQp37tzB3bt3ERYWhpiYGGRkZMDJyQn169dHv3798OGHH6J8efF+PZmZmThz5gzOnTuH27dv4/Xr10hJSYG9vT3q1KmD3r17Y9q0aahUyTgb8WTicXFxWLt2LY4cOYKgoCAoFAp4e3tj8ODBmDlzpmSsxgCNPlSMgSK18U4gIEZ0WDsCmZpZUEy8yh4kxg5elCD8CXCtY7gnsiGxZwR/3NCtgKUtsHc0//PBvwFOVQ33IRwhy0Ti1oF4Hp7Cu0Ky3Gwn7Aes8/r1Ka8+2C2+ESOWDSgWnViJJ3Xy1u8QZLe28jIav5FPRFNTfww1vcJYZLLoXD2AYX9wHk59BUQ/0/AYk5qJZ1EsQbjM/Hc0tI5GEyVRI9VvhmQ5CvEuANLxadl4GZkCJUHo4VwOV+d000kQBsWlISIxk++ZlPzUp/+ccpTwNLuQoM3TS8rIxjPBPcBcYvrduTCctfpGFrk0WkYyW7kstqCV/VVzUicIU8pVRqvP9sLJxhIvI5IR/yvX008Z5q5qi7FhiubnBYDdKENX//sSay+8UdkiBCHTn1NZ3rNWT6D9pxq+6iz4B1lqBOGW8S3Qs767aEyESK0hyDhUKhJMUzJl8FvWiTeWl8UoNVNdBCHzu3iI/T4nhwN1+gKVmxoFN0OMBB/5FuH3uJKsTNbq4uuGmKC6FAGKAEWAIlBCEZh/+An23ApRRT++rSeWDGooPpvbW5Dz9AjM1EtsNx8P3N9hnNkr30cf7gHIf0rpL/Jef2cr8FRQMt2jBdBjsXgsV9fweiXKcnJ577rqBOGL7/rA2iKvUoFxZkatUAQoAhQBikAJR4Du5ZbwBaThiyJACUJ6YxgFAULq9ezJ78sjZrhChQrYtWsXQ/apy+PHj9GhQweGENQmhCzcunUrRowQbNznYxaEzBw0aBAiIiJER1euXBlHjx5FixYt8mFd9xD6UNGNEdUoIQhIEB2S0Y/aDRAC0dgiRhD2WwW41TPck2gvrn0sQbhdUH7RWCVGg64h7MhChMTxe90xZTwn7APKOfPnIUHEoc1HQF09MsB0EYRPDyPrxmbcD+YyGhfIJ8EGWZhvzm7W1K1kD+fybsBItd4v/8wFovw0MCfZe0+jMhmC8DvzP9DIKgpNq+ZlcjUaBnh2AMrX4J8MlyJBDV9RZgQh3359Wx2bctg1rGBnibsLeuokCANiUxGVlKXhtU0NF5ioEXNaw2o3E6jdi1PZ+R6QI9MYEp+WhZeRqaKmSDbpQ0GGaaDCHfPlU1T6G8f6oE/DisCOQUxf0NQsOUmJZfrklbMwg8mkk4wu6c/375L+cAWfyN9f/Tv8PKlHPhEuvGF7b4dg3qEnKgeEIGxbQ+3AUc0eQIfPNAIQywhkCFQRIaVb6y88o3HFs7wNLn/ZFcwm4uL2vOtNqzminIWgPygAkpEQEJOKsFTg1yorsdN8CSzNtGwyNhwK+B3kbA/7E7BzLTxARSy/PLwC8fePqa5YWZii+ULNPplFGhR1RhGgCFAEKAJFgsDCo37YcSNY5ev91tWw7L1Gqr/JAasZe+/jVVQqRphdxHum7POhuqst3B2sAZ+JbLafMURJEArfVcnhmV5L+R5ubQKeH+d/RipikMoYYiIgCDNkcjwM4d6F1AnCgOX9YKqrjLgx5kttUAQoAhQBikCJQYDu5ZaYpaKBGoAAJQgNAIuqSiNACMIPPvgAXbt2hY+PD6pWrcpk+uXm5jKlNP/++28cOnQIOTk5sLS0ZDINGzdurDJ49epVdOzYkfm7ffv28PX1ZYg5km1IMhHJWEIMkvFmZmY4fvw4+vbtm+8lIRmOJM6oqCiYm5tj1qxZjE8iJ06cwOrVqyGXy+Hu7o579+6hSpUq+fYlNZA+VIwOKTVYXAjsHg7I+OUXtYYycqcm2WWM2MUIwr4/AO6C/in6+IoPBI7N4Gsqe3EJNyt6fAt4+OhjVbvO3tG48YzrsaZUrlfZHk7j9wC2Fbjxskxg9zBxe62mAPUH6Y5HD4Iw4/pmHiFFCEIL5GCROXtCvE5Fe7g4uwBj1Hq/nJ4PRD7W8B+XlgW/SJYg/Nb8TzS2ikCzqgLS06sj0GUON3bPKCBbnCzTPUFNDZIB9k1IcxzJ7cBctLU0w9MlfXQShG+iUxGTwhKEzxXVUM+EPWHfyMMRdlaa5JBobB1nATW6sZeSwoDDmuU9yaWY1Cy8iRKfc3k7S8SlZvPMfy8fhRnjR+FlVAp8qjmjtTKrUYzkJvcFuT/yZPe3Y1BdHsizd6T2cnw/rmt+4C3UMWlZcrRadg5p2TmMnzNO36NORbWsWiMQhHGpWfBZek5jHi+X9lH1Ory5sC2v8jCT4StyD0QlZyIgJg03cutjbc4Q/Of2I6q52OqPkUTJVP0NGK4Zs64H3kSnqQbaWJmhyYKrhhuiIygCFAGKAEWgxCEg7PU7qmVVrBzK/Xt9yo67OPssipnXe6ZXMMLssmqOzIGplpOBO78bZ95SBCGxLmxVcONX4CW/3zATBDm8Vk6kpLiAIBRWblAnCKUOFBlnktQKRYAiQBGgCJREBOhebklcNRqzLgQoQagLIXpdLwSUxJ02ZVLG87332J4JkmPdAAAgAElEQVRIQ4YMwcGD3En569ev45dffsGiRYuYcqRiQrL5yHhSBrRGjRpMCVJVaTG9ouSUJk6ciO3btzMf7N+/H8OHD+dZOHDggCpLcdKkSfjjD7XyeQb6klKnDxUjAUnNFD8CYkSTtqiGbwdsxUsNF2gyEY+AM6TUopr0WQlUlCiPpM1Z5BPg9DxOw9KOI8HE5qskDwswgZTDs+B3X9DLkSHh7OAyfidgX5GzHnwduLhc2ps+fR71IAjTr23Co1DuVDUhCIksNf+T+X/tinYo72APjDvExULWgKyFQBLSs/E4IoMhCBeZb0cTyzA0ryYgCMkYO3eArBvJnjL03tKBPyGZ5gb74HhuO0aT9Fl7s6wvTIRZoQI7r6JSGGJOBjPszumOiWZsXzbPCjao7FhO/1VX3vta5hWZnInAGI6k0WWclEuV3MD6Zw4Q9ZQzIbgvtq2cgTppd3kuTtb/AUtHswd23jW5GxSPXy/5w9nGEitS5sFSvfcfIV8JCSsQsQzCX0Y1RVUXG437LywxA+1XXuBZ2PVha3SoxZHztxa1RS7X0hBMhq+1hYbfG/5xzP3ylWwqIlEeGhmPusCt2Bjoo+U7rmt8Pq5H/tIdgbFcBrN9OXM0nM+WE6ZCEaAIUAQoAqUbgaUnnmHrVe7Q0DAfD/w4vAkz6eRMGRov5nrS9je9ibFm3IGaVtVdYNZ6GnB7s3FAkjqUR6wL33GvrQVei/TLJe/uQ7cAVvZsTAnBbHyCd9SYlEze4RhKEBpnCakVigBFgCJQWhGge7mldWXL9rwoQVi217/IZ1+vXj28ePECpNQoyQw0VIYNG6YiFu/fv49mzZoZaoLJGiQZgYTUJKVOT5/m+u2oG+vTpw/TE5FkLJKMQ5JNaEyhDxVjokltFSsChpI4hVU6L+w+cHYhH4o+K4CKXHkkvXEKuAT89yNfXdtp5i7zAC9+6UG9feUp7lj5P9RKe6gxrIarLdwGLAK81Ugb0muF9FyRku6LgKottYegkyA8gtSrG/HkLZ8glMMMK81Z37Xc7VDB3hogGzlK+XcBEK45j8SMbDwKZwnCheY70NgiFC08XcRj9GgJ9FhkdIKQlJGaHdgSp3LbqPy+WtoXlrsGasXqeUQyEtNl+FY+Hu4mCZhuxs7Xq4INKhlCEJJB444AOwdL+gtPzECwoMyslPJY2TwsHdIUo1tVk46fZMPKMwHXuvzyrQD2rJ0P75iLvLGnmm7Ad0ObG3r7Fr2+8P6t0RXoOFsjDu95J3kZf+oK3w9thJEtOez8Y1LR/ScuI4Lovl7WFxZqROSdxe0gz1GozDB9OMtZavglBOFX8ikIVbDvDiWBIHz7czeExnPZ4AqHymj3pVrZ06JfZeqRIkARoAhQBIoIgRX/PMemywEqb+81q4KfR7L9cEPj09HxB+59oZfpHUwy40pyt/R2hnm7j4Gbvxkn2jH7AUsb8fdAIUF4ZTXgzz/cowqi0XDAZwL754nPgdjXGvG9TUjnPfsoQWicJaRWKAIUAYpAaUWA7uWW1pUt2/OiBGHZXv8inz0pG0pKdtrZ2ensNygW3IYNG/DJJ58wl0iWHyEMDZUtW7Zg6tSpzLB9+/Zh5MiRoibItdGjRzPXNm/ejClTuLJshvoU06cPFWOgSG2AbP4rctnebcUlhhKEQ7fys+GMFffbe8C5RXxrvZcBldjTzwaJWBacNoLQ1AwYf9QgF0LlG9+0FR1f1aUcPBp3AbqrkZ8P9wDkPykhvRLH/KU9Hj0IwpQrv8EvLFll52v5B8hSWOBHi03MZzXdbeFqZw2MPwaYmrJ6h6YCyeEavpMyZHgYns4QhAvMd6KJeQhaekkQhGQ0IR11ZPYZCniWPAczA1rhTG4r1dBHi3rB8S82u11KnoYnITlDjoXyiahoEo+PzNg+bfkiCHUETTbh3iboLtn7SFEdK+VjNAgsQzDZ8+daeAfs5Q053/p3LPDNR1leQxwbQ1dPgnDCH7dx+ZX4gSRLc1MQglgpfmFJ8F3HldQkGab+y/n9PO992x7Zci6FkOnDacMnCEkvw7OhJvhUxr6vECkJBGHw6q4IT8hUxfy02mhMnjLTGKtFbVAEKAIUAYrAO47AqjMvsOGivypK38aVsH4Me2BISBB2MX2IaWYnVLo+Xs6w7DATuLHeOLMkhwlzssXLsQsJwsurgED+4R5VEKQqxbDfgcwkYN/7orEFxqYiUq3PNCUIjbOE1ApFgCJAESitCNC93NK6smV7XpQgLNvrX6Szf/78ORo1asRk7hGikPQhNFRIb8DZs9kMAVKilJQqNVTGjx+PnTt3MsMiIiJQsaJa2T41Y+Ra5cqVmU/IGGVJUkP9SenTh4qxkCzDdm5tBp6zRAXTc06tt1ihoqJQgEnJURJChhKE720CHI3f1xNv7wLnFvOn3mspUJk9/WyQaCPPpOarT1lPqSByc/FkRWekZso1NNwcrFCjfgugv1pG4+0twDMdhKS2eEiNxB0iWXPqY54dRdLlDXgWnqKKab78Q6QqrLHWYgPzGZPd6GANjD0ImFuxehL4kP5/D8LSMF42D/PMd6OZWRBaeWshCAm5KywZq4yk6ftA0lvpDSEJnGU5ufjIvzXO5rZQadya3x3uh7QfNnkSlojUzBzMkU+BHTLwjfkuZny18jao4iRdYjQ2NQuRSZmACRg9IZEkFmZQXBoiEjmSRuqWiYYTrEf9id4NxJ9h+tzvG888QL2rM2EJ9r57rPBGWqdFmNWrjj7Di1dHT4LwRWQy+qyRLpOpXp71XnA8hv7Glfkl/SX9vu3Nm+eD79ojM5sjCJkyu7Z5936eJsk4fZFuh89lH6vGfml1BB97R+iPWVGXGJVnIWBNb0SpbZJGeA7AkMnz9Y+ZalIEKAIUAYpAiUVgw8U3WHXmpSr+bnXd8MdEthqFkCBsZ+qHGWZHVLrNPZ1g1XkWcO0X48x/4Drg0T4g+JqmPeH77aWVQJBEv1zSg5D0Ijy/BAi9LRobqR4Qncz2mSbykWwmEsD2OKY9CI2znNQKRYAiQBEoTQjQvdzStJp0LkoEKEFI74VCRSA9PZ0pz3n8+HH88MMPTHlPIoSgGzt2rMG+Bw0ahGPHWELk6dOnkv0KtRlu2bIl7t69C0dHRyQmJmqNgegkJyeDjLl9W/wfFQZPIm8AfajkFzk6jkEgKUzzVO3ofYCVXeECFPsGuLgUSIsFGgwGWk42vAzk4F8BJy0lEfM7g5BbwIXv+KN7LgGq5KNc4snZQAy3ScIY1ZZBqH49P/FHPsHjrf9DWlaOxujydpaoXb8pMEBt0+XqGuAN1/tF1KVWgjAH2DFIc5h6xuWzY0i4tB4vIjiCcJ78QyQq7PCbBRuLo40F6ldyAEbv5Xq8SBCEqVky3H/LEYRNzQLR2ltLL0qS+SnSy1CvtZBYgxyFAlNet8GFXO6euPRFF3idEM8kV5p5GJqIjOwcfC77HyLhgtUWv6ES4lHJyRpe5W1FvWXKcvAghP+MaVbNCdYWZlrvEOFGlTblJt9cgY2leX7uOGbMgbuh2H9wP94zu4IU2OBPeR9M6NMe/+tSjBnJ+s5GeJ9V7wJ0+kJ09MWX0Tj+MByHHoRpXCebfyQj8IfTL3i9l4hiBTtL3F3Qkzfm0dIOSFf7ntZ0t4OrHZ8gJOVFw+GC2bKPVGOdzTJwv9afMCFssT5S1ARhejxer3sPsanZqujC6n2AYWOMWz1Bn6lTHYoARYAiQBEoegR23AjCwqNc3+JWXi7YP52tbhGdkolWy86rgmpp8gKzzP9W/d20mhPKdf0CuPqzcQInvahPzxW3RSp2kModSrmwFAi5Ka6rzCDUcpjxTXQKYlLYZ9/J3NbYlcM+93vVd8fm8dyBMuNMjFqhCFAEKAIUgZKOAN3LLekrSOMXQ4AShPS+MDoC27Ztw6RJkyTtfvHFFwxZaGKi5yZZnqVHjx7Bx8eHyUBs0KAB/Pz88hU7yRgkRKU+Nho2bMgQkWQMySg0RMhDQ5sQe61asWXuQkND4eHhYYh5qlvWEXh+HLjFlnlUSWH19lM6kGexGXqRTzifg9YDR7kyenotCzkV7OKtl6pBSsE3gIvL+EN6fAt4+BhkhlG+uRF4wZVOglcHoEveRoXUJgMpiWng75oqsNg3uP/rBGTJuMwk5TUnGwvUq+LMlTAVI4fFZpgfglDZ+4/Ye3YUcRfX41Vkqso6IQhjFY7YYrGa+czdwQrVXe2AETsAGxcgPR7YP14U77QsObaGVsLP8mFMuUUCVZvqRUsQKqDA+FcdcSWX60v5z6cdUe/MGMl7RKFQ4GZAPHNdearcEanYaLEGDHnrbi86lmym+UenaVxrW0PLnEnPu6gUHkmj7eZt+x2X7Wb4TQ789yoG4//gH36Z1bM2ZnavlR9zRTtGgyDsDHT6UjSG+LRskGzOXj//p3GdEITdfrqEgBjNtSJZn9fmduONebKsIy/Tt7qrLdxJFm2ekHvsTmA8QnIr4AvZdN5Y/9q/gpQt1UuKmiDcPRzPQqKQlC5ThefX7Q9M6VpPr3CpEkWAIkARoAiUbASOPAjDZ39xPaRrutnh3KzOqkmd9ovA9F33mb+bmrzBHPN9qmtNqjrCpsdczf7d+YWk2zeah/6UtoT/3iH/NiFVRMRE+f6uhSB8FZWCuNRsfCr7GNFwZqw0qOyAX0Y1RU038Xe8/E6LjqMIUAQoAhSBko8AJQhL/hrSGWgiQAlCelcYHQEpgrBp06bYuHEjWrdubbDPrKwsdOjQgcn8I3L06FEMHChSHk8Py7a2tiCZjSSOmzclThvm2SE6JHMwPz0TDSFAKUGox8JRFT4C19cBr87wPxv2B2DnVjhIBf4HkKw10g9EXap3BgIk+n5IRUIy4QqjZ2LQNeDSCr7XHosBDwNO/+bIgQc7AL9DfDv1BgCtp7GfSW0ykJ5/pPdfPkTx8h/c3rMEpPKnUOzLmaNhZUc2gzE7HdgzQj8P2ghCMs+dg8XtKMc9O4qYC+vxJoojCOfKJyNS4YJtFj8wY13trUA2kDD0d8DeHbi4HAi+LmqX9GXrHjAGESjPEIRE2lR3kT4sQgiS6KdAriCr0sQUmJBXWtfQ8rYAxgb0wNVsjgA79FE7NL8wTjTmXIUCLyJTVKTJZNlspIEtKUrmYG9tjoZVHEXHhiWmIyROs5egCjOJVSQlMRPSOJJGarH/zfXBomUF6/VDshzrfnOa5+LDDt74piT2IPTuDHQWJwgn/nkbl16K9yG8u6AHWiwVz8YlJXTPz+7Cw+fp8o5MP0qlCPtQ5uQqcDswHm8VFfClnE8Qvqq5Hpbm2jNIVYaLmiDc5ovHYYlIy+S+byED/8LIloWQ7a3fLxjVoghQBCgCFIEiROC6fyzGbLml8uhYzgKkT7NScnMVGLXlJvOMa2LyBnPVCMJGHo6w6/U1cPl740Tc4XPpbMS+3wPuDTg//y4AwjlikxeAtSPg2R54eUoyrpeRyYhPk2G0bAGjU2IOShkHaWqFIkARoAhQBAxEgBKEBgJG1UsEApQgLBHLVLKCJGU7ldlzGRkZ8Pf3x/79+3H48GHUqFEDa9asga+vr0GTmjJlCrZu3cqMmTBhAggJmV8xMzNDbm4uOnbsiP/+08wmULfbqVMnXLlyBWSMXK7ZG0xbDJQgzO8K0XF6IXBiFhD7iq86dCtgn/9+ZJJ+Sb/BvaOBbI4oUul6dwIIeWiI+P4MVCiEDKXAK5obE90XAlXZTF295OkR4A77W8OThkOBFnmZ0aTspVhvvAIQtBlXN+Lhme2iIdpamaGxhxNLEB6aCiSH6zUVjD/G9YkUjtCHIHx6BNEX1vOy4AhB+Fbhil0WLBHrYmuBOhUdgPc2Ao4eWsvNplq5oeGjocw4JUHYqroLzKSyLkmJ0ejnmqS0pR0wJu/Uej4IwvdDfHEtvaoKkT1TWqPdlYmimJLMs5eRXInVcbK5kIMt6UnmYGVhiubV2NPmQtFWKrSFlzMszExFxz2LSOZlcUkt9gL5JJxfMVW/e0GLltfck7yrn3avhc971i6w3cIy8DYhHR2+v6i6h3y8nGFJsCS/RZ2/EnX72b4HOPJQ/HtzamZH9Fsr3qOwYRUHnJjRkWfz+YpOSFTLshP2oSR9Lu8GJSBE4YY5cv76vKi5HtbvMEFISqOqS/KowwXqcVlY9wC1SxGgCFAEKALGR+BRaCIGbeB6/llbmOLFd315jkhJ7vshCVixZRePICTPS/u+i9iDYsaQVlOB25vFLXVfBFRleyMycno+EPk4316fRyYjUY0gnNOnbskotZ7vGdOBFAGKAEWAIlAQBChBWBD06Nh3FQFKEL6rK1MK4yJ9Bwm5R4iz33//HRMnim/ICqe+YsUKzJ8/n/mYlBi9fPkySBZgfqWoMghpidH8rhAdpxMBQtjtGqpJnBQWQSjPBnYNEQ+rcjMg/IHOkHkKFWoD/X/KfzlOoTeSdhfxkC0v9Dwvs0ypQ0oUVTMga1mKcGr6PtB0NGs1MxnYJ1KSsgCZkeGbhyM4VLwssbWlKZpVdQbePwAcmgJkaO+dqoJHvS+gEDNta6rMIHx6GJHnNyBQrfTiHPkUhvjYY7GM6aRmZ22ORiSDjvR/I6e9xfoa5vlOcW+BRpfZDR0lQdjS2xnmpuJEGQhBGOevSUw3nwA0Hs5azQdBODZ8GK4mu6oQ+WNiC3S7+aHoPewXloSUTO5wyGjZ1wBMUMfdHp84XUeL5LOo5MhmFApFSLaoX6/sbA1PF/HnmF94ElLUMtSkvlyfyT7CrZXimY+GfCE/3nMfJx9zJbSvzukKD2cbQ0wUqW71eSeRS84s5GWhqrI4tRCEi489xbbrQaJxrhrWGF/+Lb6xWK+SA0gJWnV5ubITk2mgFA+XcqiqhleWPAf3gxMRpHDHPDm/f9+LGut19qBUGS7iDMKMLX3xUNAz03LySfh4uhTp+lJnFAGKAEWAIlA8CDwLT+YdmCElsf2X9xMNZtySX/GRbKfqWv3KDnDsv0S6LKihUyLv3Q93i48SHv479RUQ/cxQDyp95bueMoNwQf96mNyxer7t0YEUAYoARYAiULoRoARh6V7fsjo7ShCW1ZUvpnmPHDmSySYkJB0pq+nsLJ55oQxv06ZNmD6dLdFVp04dJpvP1ZXb2M3PNIqqB6Gu2OhDRRdC9LokAplJwL73NS8P/g1w4jKjjIagIWUt9XVqzCzC898BoVxJJF4IXb8GPNvqG5U04dRuBlC7N2uH9GIkBK1Qei0FKjfV35eaprBsoboRS3MTdpN+9D7g3CIg5qV+PpR9AcW0s1LYrFAxUSMIw8+tR3BsukrrK/kUhCrcscNiBSyQA0tzU/h45v2OE3yEZW/V7GdUaol6F9lyrx+ZHUVH0yfw8XSSLrlICMKEIIDc7+rS9wfAvT77ST4IwsGx0/AwliMle9Rzw5KEuXB3tNbIZnwansQrJ6ncPLo1vzvc7a2A7QMk1+LR20SkZwnKo6ppa/QidKkOxAfgSVgiUtXKPEo5uNV6LT7zVTtBr99doaFFMvIWHPFDWEIGJnf0fqdLSsalZsEnrxyokiAkE2Kw9OoIdJkjisI3R/yw82aw6LUVQxph3iG1vqpqWqQH0cmZfILw9Q+dEZvClVoWkr0ZshyGaAtUuGO+gCB8Vn0dbCzZDFSdQu6HfqsAcyudqgVWyEhEzO/D8CaK68O4XD4G276eivJ2ReC/wBOgBigCFAGKAEWgoAi8iU5Bj9X8qiCEIBTrnTtp6UZMzeIqX9SrZA+ngcvZXuUCIc9FeW4u7CzNpcvKCwfVH8T0whYVIUEoVlXFADCUB7qU73hLBjXA+LZeBligqhQBigBFgCJQlhCge7llabXLzlwpQVh21vqdmOmePXvw/vsssbF7926MGSOShZMX6d69ezF27FimHKinpyeuXr0KDw+PAs+jRYsWuHfvHhwdHUHKoWoTopOcnIyWLVsyvQiNKfShYkw0y5ittFjggEgGbruZQG2uV4jRUJEiJAvioEpzoOeSglhgxxIC6egn0na6zgc82+nvR4pwEvYyFNNr8xFQV/ykta4AhFlJ6vpkY6aVNyEI9wI3fgWCxMshavh4bxPgWEXcdWoM8HdeyVShhpIg9DuEsHMbEBLHEYTfW32Mh6nO2GqxCrbIAqkOSmIzlSoTqmZb7lITNa/3ZD6pYxKCxeY70Kyak3RGFSEIMxKAxBB+hGMPcqRJPghC35Q58AtL5tmUKnkqRRA+X9IH5SzNtBKU2jIISdmuZsLSpM5ezP2si1hUBl7pk5Pwci9b2V0E09Fb2N7BQoIwtkJLmHSZCxdbS40NyC8OPMLf98QzdKd1qo5N/wWIfk/uLeihQZD5r+qC6OQsnr56JmxathyPQ5Pgr6iEBXJ+ZqpBBCHxQMrpdp0HJpu2MOXUV3j26CavtC05DHBlxQeF6ZXapghQBCgCFIF3CAHyvtdp1UVeRC++6yP6njZ1xWZMSv9TpVunoj1cBq8Ezi7kjY9OyURATBpI8RNnWwvUJWXp9ZGaPYA34v2B0XgkIEtnK3q4eAOP/wJkmj2fdblRQMHEdSsgHnFwwCeymcyQ0a2qgRweokIRoAhQBCgCFAExBOheLr0vSiMClCAsjav6Ds/p7Nmz6NWLJTCWL1+OefPmiUZ77NgxDB06lOn7V6lSJSZzkPQvNIaMHz8epNwpkYiICJCMQjEh1ypXrsxcImO2bxfvD5bfmOhDJb/I0XFIiQIOipdEZPrUGVvS44H9441rlfSrI33rCiqvzwHX1khb6TIX8Oqgn5ega8AltreehozcBZRz4j4WI02rtQW6kRKUBoosE09X9eRlqvEsmABtqrvAZNRe8dKmUu4cqgBDNolfvfYL8Pqs+DUVQXgQoWc34G08t+myy/1LnHxrhY0WP8MRbLZRc08nWOnRV41sxHi/+IgZ44JkbLBYiyZVHaUzqggpkhbD9FxMzZLDPzoVT3K9gN7LMLaNJxu7oQRhyw8x5LIb7gtKKSrJpvJ2lqjtbq/CRdgPUHm6PHBFP5aEkvCfKcvBA4EPIdgaGYTOnkBCMB6EJiAzO1fnTVR/3mU42ljq1CtNCv+9isH4P9jDOuoEIfl+rA9wx0+yoUw/woqO1vh9QgvUylvLn8++wi/nXxsMxf1vejKEo7oE/NgFUUl8gpBcV65napYMT94m42JuE2zO4WeYPvVeB1srPTMIlU4JcTxovcGxGzTgv1V4ePkoMrK5jNfDjX/DD8PzlxFtkG+qTBGgCFAEKALvBAIRSRlou+ICL5bHi3vBwdpCI76PV23F2OTfVZ/XdrdD+aE/avToFh6WauThADsrTXsaDsg7dciNQsMlKpklLpXyS84Q3Mxlq1P0aVARG8f5FJpvapgiQBGgCFAESjYCdC+3ZK8fjV4cAUoQ0jujSBHYtm0bJk1is1bWrl2LGTNmaPg/f/48+vfvj6ysLJQvX57pOdigQQOjxbl582ZMmzaNsbdv3z6QsqdiQq6NHs2W4COlTqdOnWq0GIgh+lAxKpxly1hSGHCYvYc1ZNQewFrP07n6opYSCRycrK+2/nrGIDPJ6eKrWgjCznMAb36JQMkAtZFNYrEK9V3rAv1/1H/+Ss3oF3i0eTKvHOVP8mGYbf63yhbJ0jMbs0e8tKw2j8O3A7bl+Rra7h+iOXwbYFsB8DuIkH/XIywhUzX+TM0F2PPKFKtN16A82Cy8hlUcYC+yeSQWVq3XH0GWowCgwF6LZWjk4Qg7KcKE9GCLfAyFQoGbAfGMuXU5g3ELjUBKfFYgpQ8NJQhbTYXXDjON0AaZXsUos0vM5+rE3ZvoVMSkcGSQkiAMWtmftSHhPzE9G7vCK8LHRJqUalrNEeUs1Mgip2pMtuT9kARkyXQThC0XX4O5mUT/RsPvwhIx4lZAHEZu1swgJCT1xqCK+Fk+TDWPm/O6M0QhkcikTLRbeZ7pXWiIPFvSW4PAFpYYVdprU8MFJjBBcqYMT8JSMEM2A/Hg/xb7ea/Vb2NUGKQxfiulJk7SJ7YPwMPQRB5BuLveBqwf09wQuKguRYAiQBGgCJRgBNTLeCuncXdBD/Z9SyCf/vQ7RiVuVX1a090WrsPWAKfn8jSFBGFVl3L69Tkmh8QiHhkdTXKAKzQhnVcqfFOOLy7lcgdiBjapjLWjmxndNzVIEaAIUAQoAqUDAbqXWzrWkc6CjwAlCOkdUaQIEOLv1KlTjM+LFy+iS5cuPP/Xr19nMgzT0tLg4OCACxcuwMfHuCf4IiMjUaVKFaZ0ae/evXH69GlRDPr06YMzZ87A1NQUYWFhkpmG+QWQPlTyixwdx5RcPMJmYkmKMXv8JYYCR/5nfOCNsen95jxw9WftsenrR4psavEB0HCIpg8xfX19qVvb5os7QfGQM8QZK9Nkn2OTBTevFl7OsCAE4V9jNeMwNQdsXIDUaM1rA34Byguyr/8ax5bulBInT6DXd0zWaFBcGiISOYLwYt2FOBlqhdlpP6ESWNKOKSslyLKSMl3P/xOQXjREGpgEYp/XcdhLnSR3bwBEPUVMahbeRKUyY47ltsXenO6Y368upnaqYThB2HoaFrz0wq6b/LKl1sjCOLOz6Gb6EAzWecRbcHwawtUIUn0JwujkTPQPn4SFFjtQAcmIhQPCFK5oYuKvgkYDN5JVm/QWd4PjIZPrZrLafld4J+uN/2U3jsVHoYlMBmFShoyXQVi3kj12hFfGz/LhjCNSlvfV0r68vklnnkZiy38BuBus5d5XC3NyB28s8M3rdan2+fMVnZCYLtOYUOvqbKndxIxsDAsZijcKzZLoT7zW6k2m8xzk53dFX8jDHwD/fgP1Tdx7ilpoPnE12tWsoK8VqkcRoAhQBCgCJRwBcsCl8eJ/ebO4Ma8bKjmW05jZ7DV/YljcZtXn1V1t4T5qHXDqS/54/zje39XKl0MVJxvdSJF31zjunbnbIKcAACAASURBVEn3AN0a6dlyPAoV9LUmJUVlpPqHicrAcB8PrBpeyKW9dYdLNSgCFAGKAEXgHUWA7uW+owtDwyoQApQgLBB8dLASAZIZOGrUKFhbs6f1xeTnn3/GrFmzmEteXl54/fo1zM257ImHDx+ia9euTF9AW1tbhpxr3769wSAT0pFkHRIJDAxkfAlFvczogQMHMGwYl3VAdMlnI0aMYIZNmDABZH7GFvpQMTaiZchefCBwTDP7loeATXk2E0yP3nA6kXt7Fzi3WKeawQpk05v0D7n8PZMphio+QKevAEs9Ng6UzvwvAFdWa3etb29GKYJQanP++KeamxeGbuSnxkBxYKIqQ045kamyWdhswc2L6dU3aptmadk6fYG2HwP/zGHINA3pvxpwrc3/WFfWnUt1tvdZ5GMExKbyyileb7gI5yNtMTFmFaqaxDB2a7jZws1e+rdf3XmjoBlIyZSrPnrstVa0dBWj4FYPiH6OmwFxTI8YIqvkI3BfURuze9bGjO618kEQTsdPobWw7sIb0XuGlK0kZJNzXunO4Lg0hKsRpPoShI/fJmJg6jwQ4rGiSTzq166DOy+DsdZig8qvsJwpHCoz5VRvB8YjJy/VLQaOcIXmZhYxUhYJQjJvcvq/7jeneQShVwUbLIrqiH9zWzL4ujtY4db8HqJr3GLpOcSmapYIFSovGlAfk9p7a9h4vKwD0jK5UpxKBSbL19QEL506ofdN8aoHWu93bb9ihv6uGPJjfPxTyKJf424QR5yey22OcZ//AK8KtoZYoroUAYoARYAiUIIRUD5f1adw+csu8Cyv+SyYu247BkVzrQK8K9ig4vsbgROf8xAQZhBWK2+DKk6ahKMGbPYVAVLBxEiSlJGNZ+EpotaU73bKi7++3xz9GlUykmdqhiJAEaAIUARKGwJ0L7e0rSidD0GAEoT0PjAKAoSES0lJYfoGdujQgekXaGdnx3z25MkT7N69G9euXWN8WVpa4uTJk+jRg9u88/f3R7t27RAdzWbAEDJR/bpYkG5ubiD/CUUfgjA0NJTJTIyJiWFIytmzZ8PX15cxdeLECfz0009M/0NXV1fcv38fHh6amQAFBY4+VAqKYBkeT07UEnJKl3SZB3gZTrJrmA2+Dlxcrsub4dfJprffQeDun9zYtp8Adfrob4v00SP99HSJPhvsYsTZkC2Ag8QmwaszwPV1fM/6+FEf8eRvRF3cyOuDQi5Pkn2JPy1WqTQbV3WEbYN+QNAVQMb1BETfHwD3+sDp+SzJKpR+PwJudblP5dnALpFsSAn8/GNSEZ3MkSl3my7BzQR7DAxagWom7O81KePorSeR0CxkJhLUsq8eea6FYzntvWjUN5cWyCfBX1EF0zpXx7y+9QwnCNv8Dxsi6mDVmZeiMyYEoYdzOVR1YUnqghKESicjWnggIyMdY16xh2SUwutDmLcZpk6IrpCPxjzzvaKxllWCkJScrb3gH3RS3MVks38YbBwrVMLgiP+zdxbgUVxbHP9HNu5BQhIIQYIHdy/uXtyp8KDF3SnW0lIoFFoKFHco7k7woMEDRHCHEIju7vvubHZnZnd2d2IQOff73veanXvPPfd3J5nl/uec0wPx0NxLrBbSgSG1Jbm1mB+EkMfSoqtwwK8dSqN9ecNn//3ZdUS/E9ox5fO7c/UPb7jURLPzJSXnvuo3D672Kagbmdy/K+b+HgqvB83F66u7cfeZJkqXtb2qihg7+XfYKQzT8SbHNPUlAkSACBCBzEOAvZxUcKwm04+2HRpaC4Vy8bWZtZ9PXLQKTZ4s1PXz83SAd/fFon+fsNrTZ+9rsk1oG9dPjkBo6wzYOKaZSHj3+Qe8jo7n3GDvnGnjBW+p82FqorjO+r3pTbJdCvfMc5eSp0SACBCBL0+AznK//B6QB2lPgATCtGeaLS0ygTAiIsLs2pnQtmzZMjRo0EDUV1ib0KyRpA6TJk3C5MmGUU1yBEJm4ty5c2jdujVYylGp5uXlhW3btqFy5cpyXUpWP3qoJAsXdRYSeHkX2C0WGowCSouDZbkiXHJ3ifmWkjSdLJzs7j5NbZLwIHmzmuNgrC6fqXGR54AjP/HzO+YEOgjETjmeXVmLSzv+FNWc262qjC2WjbAMU3UWjNb5azkf8PAHjKVabTgN8ObrquBZCLBvjBzPuD6hLz6I6rRcLT8NIZ/c0e3WAJ0NW4UlyuVzl2Wz4uPBopp+V/zmwc2MYCIUCEckfodH6pxgEZX//a96igTCvQnl0H/NJUl/mUDoYGuF0r5u3HX9FKvsLXMvFzucHVtPM95INCaLAvw6jqWs0rTGJbzw9lM8ykUuRy1LXsgVCYQ5AqB6eQfnkuotsnE9E0ZhheJnA1+3qarj5+kpqHcpa5cyfqeqMw/j6ftYlLAIR06Ld3jpXhY3XvNpWcvlc8NWdn9ItCUnH3Bpa/8+/sDoQlkk4JFhtSWjJj4tbiyZoqxgTkfkcrHDFaeaaB0sLRDKud8lnTL39ys1WxY0F0+CdyLi9SedFSbEH56ZtnWXU+MijSUCRIAIEIHPQ4AJhNosBmzGPT/WRHFvw9rmU/9ejQaP+KwIXOrQnsuA7QN1jqrUatF3GnbBL4cDvCVSlhqsjmVAcc7DZVZIiyZ8+WqVsj7aWAXhrdoZfypbIULtpZvCwcYKN6cm40XFtHCObBABIkAEiECmIkBnuZlqu8hZmQRIIJQJirqZJsAiAA8dOsTVFbx16xaeP3+O169fcylHc+fOjTJlynAReixtp4ODYfrALyEQshW9evUK8+bN44TA8PBwbpH+/v5o1aoVBg8eDE9Pz3TbenqopBvarG/4xS2DGh9GF91xNWCvETtS3K5vBYKXpXi45EArG6D71pQJhOGngGMzk+ePuQN2Y8KZqXEspSdL7altbE3dtiQvreudfbi04SeRQNgtYQzcnRwwP26CznQxb2dpIa3dUsA5N6BMBFa1NmTiXwuoPZL/nImq+3nhyhzEO88+4M1HzRvXrN2qPB1HnjliQMRg3WfO9tYo6e1qzhR3vdrTIXjynq9peDnfPF06T2MGhALhjwkD8BLu6FUtPya3LJF8gbDqACgLNzZ4Q147NxMIXeytUSJpPbeeReHdR77eHBMIB9UrjCENktK2SgiE2jfmhSmrFnUtB6VajYFrL6OoRSQmWa/kpqxUwANW7BBM4QCU7oiYM//gSiQf3dY9YTRWKWYZoOmVMBJ3ZrWRxTwrdmqz8BQuR74zurSahXNgVV/jL/dIpVFjxpoF5kF8ogpdKudD3SKGGQq4CZc3F9XF1DrBtrFKAU/c86yLn17WRFyi0iB1sJz7XXJR5v5+pWKTVYem4txxTSSmtv2a51dsMSKwpmIqGkoEiAARIAIZnECxCft0taKZq9sGVEeZvIb/jpi1ZDVqR/ACoa+HPfL2XiGqWc6+95wXvPTE7LGU4FI1DSWx2LoAcVGpJsYyD5xN8uOSuhBmJ3YyapNlkQga9VWq5yQDRIAIEAEikHUJ0Flu1t3b7LwyEgiz8+7T2r8oAXqofFH8mXvy5ESBlekKlOmcuvVeWgVc25A6G/qj7d2BtouBNR0M7X69EnDwMD7fylaAyrAGmEkHzR2w60cDMmNepYDGJoRIVhtlSz/xtF02aFIiyWzqW7twbt10XY09Nuxx602YfyQUs6LG6qwEeDnB09HW0GrndQBLw8SasdqClb8HimlSKHNRl8kQCPUFsvvVZsLCwx8FdvGHK3Y2liibV14EYc0XQ/HwDZ8i9VLeefBwNJ1yUSgQfp8wGO/hhO5V/PBT65IpEAg1KWwP3HiGMVtDEBWbgAQlH3m2QjELLgoVyuZzx6f4RFGk2A21H6YldsflCQ3grvVZgjkThi5FvINQIFzbrzJK+roicPIBbhtc8BGFLB7j35of4GqjBkq25dJovT04G7ef8jVyuiaMxRqFOL3vHlUlPCrUFf/2riTzLst63fqtCMahW8+NLqxpKS8s7Fpe8jrb187/nMPVh2KB0ZyoqDO2vDkn9uoferJ8ZVULeALFWgCVv+O61/rlKCLf8JF5cu53SafN/f1KxRardg3DuXOn+eUpG8KmVGvM71w2FVZpKBEgAkSACGRGAoGT9yNKUCt60/dVUTG/4XfyOctWo2oYLxD6uNshX781wFY++jxRpcKFML6+LePB1SqUE0GYGng5AoBXd3UW2He9G4+jkAhLTE/shtvqfEatF87lhINDpVOUp8YlGksEiAARIAJZhwCd5WadvaSV8ARIIKS7gQh8IQL0UPlC4LPCtE+uAAfGy1tJ9UFAYXFKX3kDBb1YnT1Wby8tG4tq9K0IsPSlUq3nTuOReMaEMFP+mTtgZzwZV2EzF30ZGwWs7yIeY07c1PPxQ/AGXN8+V/fpVXUBtB6xFL2XX8DEV3zkX6FcjsjpbGe4wu7bACtrzeemuGjXnxxxGcCNJ+8RFZOom/dhzV+QI18A7Nfw0YrJSTH61avhePDqo87evkpXUDTqjNGdS1SqcCGcP1z6JmEoouGADuV9MbtD6RQLhGxC9kZ5vFKF64/fo90ijQ8VLG5jhGIzKhfwxIOX0XieVH8xDgpMTOyF6hUrYGbbQN5fPeaJKjUuhL1BmNoLYxN58fj2T425em4lJ+1HdBzPc3jDAAz8qrDG3t0DeH1gNu4+52vBdU4Yh7aWJ9HB6gTXJR7W6JMwAqu/qQ5RetK0/N3MBLaO332JnsvOG/VUd39I9GD73Xy+YWri3zqURjuJmoMGJpY35+4dbTSC8Dq3JwKB8Ktfj4nu94t550oL/eaYm/v7ZW68ievKLd/i/JUQXY8/lG1Qq2E79K9TMBVWaSgRIAJEgAhkRgIVph3Eq6Rafcz/Nf0qo3qhHAZLWbB8Fcrf52sQ5nGzQ/5v1wNb+ur6JihVCBZ8h2MX/HM6cqna07WxlyOvrNFNce3xO6z5VAVnVMURqc5tcmpnW2uETGmUru6RcSJABIgAEcjcBOgsN3PvH3kvTYAEQroziMAXIkAPlS8EPitM++gicGgSvxIHT6D571wEEvYK0kmyHlU1EVOpaikR5MxNaOcKxPKpFA261xgMFKpvaCXsJHDcsCabuelg7oA9aC5w75DYTI/tgKWVcdNx0cA6vTRFHVYAjvJTEydeWovYCyvBDlHiElV4YF8Klfr8hk6Lz+JV5E3MtF7KzS95oKJN06r1UJZAeB3YN9osLm2HkMfvEB3LR2u+rv8rPHyK4OrywShjcZ/rprCyQAWJt8ulJmnwZgRCX/AC2OI2Pmh4fxYQz38mHPcxPhHXHvL3Sb+EYfgIey5S68yD12ApQVkrn98dNlaW5tdV5X9A0aaifmGvPqLur8eSPlOjkeUF/FlbjSHHlTirKo6Clk9wX+WNl3DjUk/OaFOKH6/H/EVULO6//Ij/VNWxUVlX1y98VjPuv+vPOY57gvWzzxqVyM1FKlZTXkCH+O0i32bmno1rj96hosUdeFhEIUhVCg3LFsLvHQV1Jc2vOsv1UKnUKDB2j9F16SJMJXoYEwjDZjaFBcsTaq4l7bkwslU7RCMQtgQqayIoGsw5Lrrfg33nIoeTRCSwuTnN/f0yN97E9ZDfmiH63Rtdj+mJXbB20vdwsVOkwioNJQJEgAgQgcxIoOzUA3j7iU+tPrlFcfSq7m+wlMWrVqHUXV4g9HK1hX//zcCmXrq+8YlKXIwQR+sXyOmI3OktEDadrcmWoYzHh9gEXHgci28ThiIRSS/UmdgYHzd7nBpNKUYz471LPhMBIkAEPhcBOsv9XKRpns9JgATCz0mb5iICAgL0UKHbIcUEHp4HDk/lhzvlAton1Qg8MAF4cpm/Vr4XUKp9iqfiBqaHQGjjZFQU4ub0rw3UHiH2OzwIOGZYj83s4vSFNKkBt3YC5/4WXzF3KB//CVj7tXgM2we2H3LbxeVAyGa+d4HaQK0R6LHsPM7cfYqVSfXn8nk6gB1aiBoTWTvxb0jLiiDUr5toxs8rD98iJl6l6xXTdB7cfArjl7+WYJDVVt3ncqPZmrwfhVtP+XoyczuWQeuyPkbvMW1aKO1EfRKGIwb8m+dagZBdr1zAA5bmBB4JgfDdp3iUmSqOZN03uCaa/REEpYpPP8rm6FYlH6a1FgiEN3cA5xfrOFx5+A4x8UpsUtbCVlUt7nNhukspgVA7uL7lRfS1EteC+9NvLn5pH4iOi89wqVmZQDm9dUl5QpbcezCT9ms67yRuCu4l4TIMhFzBRSmBcGHXcmhaKo88EskQCJvMOym63y/4zkXOjCQQqtW49XMdvBPUGd3jPwY/9WkpjwX1IgJEgAgQgSxFIP/o3Qbr0b7kJLywfM1KFLm9SPdRLhdbFBywFdjYQ/eZNuW6cFzBXI7IJZURg3ViL+Ult4SAFP02f2myglz4B2+j4zDyUVUcVFXQ9awVkBNFcjvh1tMPCLr3SmRBV+M6S+0qLYYIEAEiQATSkgCd5aYlTbKVUQiQQJhRdoL8yHYE6KGS7bY87RYccRo4KqhL5uKtqefHGhPQmJAmbOaELnOepYdAaG5Odl3f75T6IRTSEuM09RRj3gElWgNuSXVIbm4Hzv/De5WnNNBoumkvma3V7cR92i0BnL3krE7Th4mSTJzUtoBGQLUf0H/1RRy4/hirFZoaiL7u9sjr4SC265wHaCfwecs3wIen0nNrU7a+uAXs0RNeTXh7MeIt4hN5gRCt5sPVOwAj5q/EeGtenJQlzgFoGT0a1x7xEYGz2weiQ4W8QNDvwL3DBp68i4nHrSd8Tb7eCSMQCz4CSygQcodTOZ1Ms6/SHyiqiebTNiYCFtSLRnO0scLHeMM6l5KRaY8vAQcncua0UWUblbXxn6om99mlCQ10dRZP33+FLv+ck/SxgWUw+ljt465ZWgIqFbA8YD7+7s4fasm/sbJ+T2ORgGzl+TwccGIkH8EppKFJKaupuedsp0CXSnkxpEGAfNHViEDo6qBA8TwuQPFWQKVvOPst5gch5DF/v5/3+d34waipLctXBSjZDshVLG03Nu4Drv/WFB8EaYQjv1qAjnWl6zem7eRkjQgQASJABDIaASmB8MGMprC0FEfYr1u3Avlv/qVzP6ezDQr9uANY31X32dtP8aK6yuyCSYGQ1fCO59PQp5TN9aq/ITLeBY74hCuPovH78UciU8LvZeGvPmL4pqu4/ewDKvl7gKUb19WZTqkDNI4IEAEiQASyNAE6y83S25ttF0cCYbbdelr4lyZAD5UvvQOZeP4Hx4ETs/kFuPkBrf/U/CwloiU3qk0fTUqFudQiFtbzU6uBFS1SblErNgqFKIUDwOoMWttoovhYNJ+2+VYA6k82PZ8yAVjVRtynzd+Aq498P0/9AYQe4Psn1S8btvEqtl2K0AmEXG0XT0exXY8CQMs/+M9e3wd2DpKeu+tmQGEHGBMI81YCWGSqXguOeIOERD6KzqbtArj7FkHvORswy3qJrrfRGol69tp8GoPLkXy6qVltS6FTpXzAx9fApp4G87/5GI87z3iBUJtiVNtRKBBaW1mgorlUpxICIbMldSAmBbJnVT9MaVXS8NLy5ly04fkwTarG5cqG2K+qxEV96qeqMjYXS23ay2o/Svq4cMKVSq1GXNcdsLcxkeZW/p2WJXvW++0Yl9JVvznZWuN6etUQSvp7eO7BawgDTH3c7TlhUigQtl14CpcE9/tZ799TXnvJSgF0XAPY6L0okJqdff8YV/7oyEW9atur1mvRorxhOrnUTENjiQARIAJEIHMQkPqOwrIqFPVyES1g88YV8AnhBUJPJxsEDNkDrO3I9Xv09hOX+UC/FcrtiJxORmoQsu+1bx6kGtRk2+FYflVaaBxSPwCD6ifVfk71TGSACBABIkAEsiMBOsvNjrue9ddMAmHW32NaYQYlQA+VDLoxmcEt/Wg3xxxAhyRxy5iYl5oownQUCGMSErmabDEJKuR0soGfpyOfJlKYHpWlHFrZKuW7U30wULi+oYDKajTmKgpsH2ho2xwzFuK1Ui8VX+tFgFte+X4enw2EHef7s3Sw5Xvh6sN3ePb+Iyqf7A0rCwvYWFvC1lpPKPIqBTTWRBjqmrG9YqlIWSSlMYGwTFfgiiBdaZLB8+FvoFTyAqFD+4XIlb8oms/8DwsU83XTcgdDuZ3Nrvvr2HFgNrXtp9YlwaLyYEQAfhUdh9DnfH3CzgnjAPBvsS9X/Axb8LVy2NvfVnpvuYucqvw9UKy5gZ9yBUJjqacSDkxG8Mn9nN0EWOGbhGGIgw3+6lYejUuKI0r7LL+AI7dfGPjghdfY7r0SjKU1CyFkzdw9aJZ41u7Q6s9T3O+Kfivv544t/aulz+LZiwpqNe4+/4DX0fG6OXzc7ZDPw1EkEH63Khj7bzzX9TmR6zeNiJjSVqEPULJtSkcbjntxC8GL+upeAohn9Zm6b0XtgJxpNwdZIgJEgAgQgUxD4O/j9zFz720Df/XTjO7YtBw5r/Gp+d0dFSg67ACwpj33gtO5B/x3PaGxQrmd+FTbhRvyL8mxF+Sin0u+rJZceKOsR2DDdf67Y2lfVwxvVIR7/rJ/Z1AjAkSACBABIpAaAnSWmxp6NDajEiCBMKPuDPmV5QnQQyXLb3H6LXDbAOBdhNi+VkgQpDsUdTAnNDCxSxmviTLTb+koELJ6dO8+8QJPgJcTPB35FJJgUYSsbt7xn1PPs8sG3ZvNsoyZYyYlarX6E3D3k2We63RkGhB5lu/PhLoynTU/SwmQQsss6q+eJrWlrhnbq/b/Ak45jQuE9SYBh6cY+H0u7DXnhra5dFmCnL4FUWP6PqxQiPdETh3CLgnjcfr+a529SS2Ko3f1pGglCd9ffIjF/Rf8W+CdE8aLfKxocRtDrfkajsU7ToZr/HPg2kbpPaj8HcAOofTauP9CsOZcpNl961PdHxNbFDfo9++BYLw/8Sdc8AlblTVwXV2A63NnWmMDYZdFRDaae8LABiufeK/ZfVjdO6Cpw1PtR6BQPbM+ZecO3ZacM6gfxHhs+LYKKhfwTB80D44BQXMR+uwt7nywhSc0Ea7ebnaag0eWurhiP+6zyTtuYPnpcJ0fhzxmo1AuM2lwTXldog1QsW+arUsdeQ7nlgzm9HnWXsMF+b7bgEBftzSbgwwRASJABIhA5iGgVqvhP2aPgcP6AuHeLf/C7Qpfg9nNQYFiIw9zmTViE5W4HGH48g4zKoogZOnvn10DLKyA3CWAoDnA/aOphvUDRmDnbV4gHNogAD/Wo6jBVIMlA0SACBABIsARoLNcuhGyIgESCLPirtKaMgUBeqhkim3KmE5KiUBCMcvcdf1VPb4IHJyk+dSvGlB3rOa/4z4ALI3mxh7pxkFbs004gRyhKUUOsbpgwjqD5oyYEwjZeH3WLOUnS5Ektx2YADy5zPcWRgiZS6taoA5Qa7h4JmMCoTb16bPrwL7Rht7VnwIcSroHBFfPPnitEw/Yxy7f70XRPK5czb7x1qtQwkIjVDvbW6Okt6vZVXdXTsDJ0Fe6fuObFUO/mkm8JHx/FhWLsKQUkufVRfF7Ynu9OdRoankOgZYPcFOVH6NGjIXP00PG97nSt0BxvahPAO9jElB6iiDVq5GV9Kvhj/HNDQVCYxGI+gdqWrMm+79/DFjbAY7pJHCZ3aXM00E/Qk/redjMpvJrCqZkuTHvMPG/y7gVckknUPMCIS/i/XX8Pn7dfwe5Xezg5WqHebHj4eueighCQX3DlLitP+bj9X24toF/MSBcnRs1hq41rHeaFpORDSJABIgAEcgUBCZtv44VZ/gXEcvkdcO2AdVFvh/+bxkcLvF1sF3srVFi9HEus0ZUTAJuPImSXKuoBqH+92z9utwppNUvcSQO3ePT049tWhTf1iqYQms0jAgQASJABIiAmACd5dIdkRUJkECYFXeV1pQpCNBDJVNsU8Z00pwAKHW921ZNrT2ptqYDkCCoE1KgNsDqHKZzk0pBJKuOXEr9KlQfuHdI3mhWm9BeRhSNPusW8wDPZBxC7B2liZDUNv0aeaaiN4s0Bar+T7weY/21wuWzEGDfGEMGDaYCd/YCkWd019hb5Gf1UkTlGHgAhXM7o9DYPXBUfcBfirlcf2c7a5T0MS8Q9sEkUXrNUY2Lon+dJF7ruwKx70W+PXkXg4jXn7jPzqiK4w+l6fSKR4bVRoGXR4Dz/FvtIoNGBELWx3/MbpEYKnWjfFPTH+OaGQqEFaYdAkuHKmzzO5dFi9LekvfbkA1X8N/lx6JrjjZWuDG1sbz7k3pxBJrPP4nrj8WHkJ6ONrg4oUG6Exq+6SrCLx3CsKQIVl2dUJYClAn97B2LRCWXLlaX9ja10dhpLBA+DlqDyP0LdKyuq/3Rc/JqLqUxNSJABIgAEcieBN59ike3ped0z1cpgfDE9qVQBPO1qLnvgWNPcPXCn0fF4oFEfWBG06RAeHk1cHV9qqF3iR2J0+G8QDilZQn0rJY/1XbJABEgAkSACBABRoDOcuk+yIoESCDMirtKa8oUBOihkim2KWM6aU4g3DkIeH1f7Lup2lWpPbROIaXYBCUuR4pTENkqLFEun3sKLZoZZu8OxLyVZ1tO9CCzpM+ORfSxyD65TX+vtLUSteOP/QyEn5S2VroTULab+NrJ36TTMzWdDeQqBjy9Cuxndfz0WqPpmkjGED5dp5SAm2fQIeTP4Yhtlx9j8IYrYHXzflcsgoOtFUrLSEv4reVkHLjJ12Qb1iAAP2jTPknch4/efsLDNxrxOkhVEn8qW5sku3dQTRR7e8yEQPiNpkacRBux6So2XXxk0n6dIjmxvHclUZ8EpQoB4/eKxMU/OpdFSyPiILeW0Ffo+e95KFV8fcfVfSujRuEccu8c6gdgwJpL2B3yVMRiSP0ADKqf/qnERm2+hvsXD+oEQhYh6J/DUVMjMEkgNNik1P6tZelxWZpcUy3mHXD6D8DVFyjbA7CyNtr7QDwyZwAAIABJREFUzu75eHN2re76VUUpfD/RiLhOdxwRIAJEgAhkGwLsJbHIN58Qk6CEnbUV991P2M7sWAJcWKr7yNHWCoHjg4BdQ/H43lVEJr3cpQ+sQE5HLqqea/rftW/8J7KZUthtokfi8iNeIJzVthQ6VcqXUnM0jggQASJABIiAiACd5dINkRUJkECYFXeV1pQpCNBDJVNsU8Z00pxA+C4S2KYXWSb8h/iLW0D0CyBvZU3NwdQeWqeQUlRsAm4Ion+2qGqiq+0plE0vgTA5fqZUILR1BjqvMz4T4350BvA2TCMkPr8JfBAIHLVHAf41+fGm0i3pRxuyUbFRwPouhvM3ngV4ldSIgCytqX5j11l04ZU1uiuJKhUuhIkF1XzDjsDHzR6Hbj5Hv5XBANRYp5jOjZGTGvZ/iinYE/JMN8egeoUxpEGA5meJ+zDi9Uc8eRfLXT6hCsQipWF6UOFSWAqsMtFBwLm/pPeApZk1IhDO2HMLi088MHmXlPZ1xfaBNUR9WJRjtVlHRJ9dHF8fnk6CWpoSVkMevcfp+5p0q9UK5kApX/MRmMm5hbND333Xn+H71RdFSw2d3gQKq/SPgBuzNQShFw6IBML8ORzQ+fW3iLbx4A5U2QsPs9oG8ik7U/u3tmhzoMr3xreWpYRe1Ya/rrAHum7if06MA17f04iHdq4I2TQN0dd2665fcaqO/qN+zQ63Dq2RCBABIkAEUkEgeNc/SDi3TGfBwcYKpScEAe8fI3Jpdzx+q3m56wk84Q2+9rRJgTD0IHBqXiq80gxt/HYEbj/naxDO7VgGrcv6pNouGSACRIAIEAEiwAjQWS7dB1mRAAmEWXFXaU2ZggA9VDLFNmVMJ80JhMxrqT6WVkCpDuL0Pd5lxTXwPuOKWUrG0KR/wEeqc2FcYh+st/8ZFfw8Uu9F7pLA8+spt5NSgZDNaGrsucXArR3G/ao3EcgriFAz1d9YtKLU3rMIwTylgceXgIMTDednEYYs1enF5bprLDIuOFwsEBYaeQw5nW3BahN2WnyW67tOMY37/yoFPWABC5PMf7T9CTuuPtH1GVC3IEY0Kqr5WcLvBy+j8TxKk7rzqKo0FitbmLS/4dsqqBx/Fji7SLpfxX5ACekoxE3BDzFi8zWT9gvlcsKhobVFfa4/fo/m84N0n7F0kvemN0nfGngpv7Oz1EgW4fDrgTv486gmYnrdN1VkCdVpAWHcfyG4ff4ghltrBLjcrrbI7+mIgDvfIhF81B6X9jank9F7PFm+FG0GsBcDjLXgZcD1rfJMtlqAyzv+ROw9/t694tkY/Qcb1iKVZ5B6EQEiQASIQHYhcHXPYnw6869uuQprC1SYdJr7+bc5M1D87RG8ULthubIxZljzkYb+OR3hxSIIXbyBtnoR6xGnNS/RpbJ99Wo4Hrz6qLOyqGs5NCmVJ5VWaTgRIAJEgAgQAQ0BOsulOyErEiCBMCvuKq0pUxCgh0qm2KaM6eTBScBjQdRMQCOg2g9iX/XEFhYNxtIZstpS5kScz7VoYX25vaqKWKlshA0201C5gGfqXSjfSxOZd3d/8m0xloypnCZHrBXaMRdBxGoB+pTjR5iKIKw7FvCrZuil1Bxau4+CgUOTDcd0Xg9cWgnc2aO7Fp+oxMUIcQrY4mNOwNVBgTvPPqDR3BNcX61AWM7PDbbWViapDXWYhq2X+Np739UqgDFNi2nGrGwFqJSi8aEvPuDVh3jus0OqsliqbGbS/so+lVBLdd6EQNgXKCGIsBJYi4lXotjEfSbte7va4fSYeqI+J0NfovvS87rPcjjZIHh8+tfAk3N7Up/0IzBx+3XcOHuAFwhdbJHP0wHF7n6HBIFAeGr0V1zULdfM/f6bc1eq7mhy/r4I+3oUwKWnsYh7FKL79Kr31/i+/xBzXtB1IkAEiAARyOYEbu79C+9PrxBRqDj5FJf2e9D6K7rPHRCLpQo+Ml0nEDb8CWAvKQqbsTT4yWRd7ekQPHmvyT7B2r+9KqJu0VzJtELdiQARIAJEgAhIE6CzXLozsiIBEgiz4q7SmjIFAXqoZIptyphOHpkORJ7hfSvTFSjTWeyrIJLk2fsYhLFaIGrAzUGBIl7OsLQwHemVHgtXQw1Wcs0qae4bT94jKiaRm6p/wiC8gzP+UvyOhgVsU++fX3WgzmhghemIM8l1dv8PsFLIQyB14N99m/G6X+YEgsYzAa9S/NymBMJ6k4C8FQ39lJqj/mTAtwLw8AJweIp4TGBHoFx3A/FCqkZk6Qkn4WBjzYnNBcdqxEStQFg6ryt3zWjLVxUj3zTHxmC+zl/fGv6Y0Ly4ZsixWUA4H83EPrr9LApvPyZwlw+oyuNfZROReQ9HG7z5qBEQWfunRwU0sAw2LhCaqsXJgj//PY9jd14aXYKrvQJXJzUUXd959Ql+WHdZ91nBnI44PCwZdSjl3WnUK4MRmLzjBq6dOYAR1hs5z3K52HKpREuGfot48H8/ROlmzf3+m1uja16gyc+AnYt0z0NTgEcXzFnRXb8U5Yy4l+G6n28U+gb9evaRPZ46EgEiQASIQPYkcPPoBrw/Mle0+BftNmPNuUicD3uj+9wesVgmFAhzOMCrbBOAZcHQb6x+OqvNncpW/uEgvBZ8N1zbrzKqFaIaz6nESsOJABEgAkQgiQCd5dKtkBUJkECYFXeV1pQpCNBDJVNsU8Z0Uv8QuFxPILCD2Nf4j8DajlCp1VyaSCboaBsTCJmw8jnaiw+xCH/1EUqVZjZHWysE+rpx/33mvqYmyQu4YVDCQO6/XfARFwsvT5saYizVZ3IO5H3Ka0RFVrdLbpOy324p4Jxb2oI5f1iqz1xJEXXMgimBUD/aUDuj1BxfTQDyVQYizwFHfhL7pk2JurYjwO6bpBaTkIgrke9FfStMPqXbG/8xu6FW8wJhKV8XONmaEFa7bMDY3Q+w9lykzmbPqn6Y0qqk5uejM4GIU6L5rj95jw9JIrI2ylTYgaX8vPeCrzMzv3NZtHi1FHh4Tpp/hd5AyXZGd3fIhiv47zIf4ajfUSqC8O/j9zFz721d1wp+7tjcXyKyU+49Rf0yBYGpO2/i0umDGGW9nvOXCYQ+7vYIvPedSCC8PqURnGyThHNzv/9yV87SsrH0bPrt8mpxCmkz9oQCPOv6oOwodG0rnYJXrmvUjwgQASJABLI+gQv3nuLjio6wheYlrtOq4nhVfhDWnX8oWry+QMhq9eap2glgNaH124dnwJZ+0vCsbICq/wOCBKJkx9XAhm4G/UuG/YDoOM0LiKxt6V8V5dOifEHW31ZaIREgAkSACMggQGe5MiBRl0xHgATCTLdl5HBWIUAPlayyk19gHQcmiOsGGomKermgAV5Hx+kisLSeernawT+H42dx/NHbT3j4JkY0l7ZWnVYgPK8ugt8TeYFzXd9yqHpK4uBA32N7NyBGnAJT18W7DNBwGvDpDbCxh3gkO5Qo3or/LO4DYOMEpCSqMvwUcGym2H6zOUDOAGm+5gSC5nOBHIX4saf+AEIPSNvSjzbU9jI2R6VvNT3O69V80QqE1zYBl/h0UR/jE3HtoUAgtACqTDmtq61XduoBvP2UgOWKn7kDouLeznC1NyE899oFlpZx5ZkI3Xq6Vs6H6W2SIib1I2MBXH30Dp/iNGlHd6sqY7VSnLoz0NcV1x7xPv7SPhBfR04DooyIfCz1bKn2Ru99FhW2/DQfUaXfcXH38mhYwkv38R+HQzHn4F1Rt0YlcuPv7hU+y+8XTfLlCEzffRP/ngzFYsUc2COeq82ZK28hBF4Vp7Bl9SitrSw1jpr7/Ze7HJaGmL0goN+CfgfuHZa0wtJMv4qOR3yiSvM/pQqszqj294sNel33ZzT/qpZcL6gfESACRIAIZFMCVx6+w5CFm9HS8jTewxEblXVQrpAvgu69EhHRFwj9cjjAu3pXgP3bRb+x7+Pr9DKiaPuwl/e6amr+ipr+v4kAFLr7PyQKXozc9UMNlPRxzaY7RcsmAkSACBCBtCZAZ7lpTZTsZQQCJBBmhF0gH7IlAXqoZMttT5tF7x8HsDod2qYveCV9Pmv1btS+M01yzqoFPaFUqxGXoOTqElpbJh1gp42HOivhrz/i6Tu+Dgi7wFJR2iqscP6BJgXROXVRzE3kRZvfO5ZGm6vfm/bEPT/ABDJjBwlt/gZcfTQ2mIh4cCKgjAca/AQ45Uy7VbKaeax2nrBV/h4o1lx6DnMCQcv5gIc/P9ZU/6a/ArmKGs6jJ/SZXaxWINRLP8revg4RiG+XLIpgwNTlOnPVZx3B43cxyIH3mK+Yj6J5nOHuYFogZFFXy06F6Wx0rJAXP7cP1Px8ZBoQeVbk7qXIt4hL0ISf7lRVxVolX/+vXD437t49m3QfsT5TWpZAz1dzgDcPpJdtRiCcfzgUv+kJflpDPar6YXyz4tyc2lZn9lGEs/S9gtakpBcWdStvFjt1yNwEZu69hb+PP0BFi9voYX0AXh4ucK8/DPXXaCKjWbOytMD9GU3l/T4nF4f291Y4zsTfi7hEJS7p1RTVnzKx3VLULJOU8je5/lB/IkAEiAARyDYEbj6JQtM/Tppdrx3i8K9itq6fn6cDvGv2AMr3NBwr9Z1a28vWBei81nAM+97Ivj8mNZWtCwpc7Srqd2hoLRTK5WzWV+pABIgAESACREAOATrLlUOJ+mQ2AiQQZrYdI3+zDAF6qGSZrUzfhbyNAN6GAV6BgIOHZq69o4DnN/h5q/QHijYz8GPEpqu4duk0JluvNLjGIq9CX0QjJl4jELLoL3uFifpxKVzl649xuPuMTwHJzOR2tUVuZztd5NcZVXH8oWyrm4GLwFJONj1jjgCg+Rxg93DgJZ/ekRtUqD5QY3AKPU7BMKlDeanDe2banEDYehHglpd3wlT/FvMAz4KGDse+B9aLD0dMrkrr65PLAHsTO6l9iE3A9cdRup8XWXbEyik81/pzjuvSezaxPIeJfteRJ48P8IYXAEXz9tqFmXtu4e8TvHjXtpwP5nxdRtNNovbMhfA3SFRq0uMKBUJPRxus+aYyZu+7g8O3X+imGdm4CP738S/De0Lbw4xAyNKfjv0vxADXtckN4WJnmD61yozDeBYlFsDHNCmK72pL7EsKbi0aknEJ/LzvNhYdu69zsFUZb/Somh/tFp3WfeZoY4UbUxvL+31O7lKTKRCydNPnWF0oPtu0wYx2/XajLKVhS+5OUH8iQASIQLYjwNK7s++B5lq9gk7oFzla140TCGv10tS+lmrGvvfauwMdVxmOYLnu97B/C9zhrsUXbY2AbXlE/U6OrMvVCKZGBIgAESACRCAtCNBZblpQJBsZjQAJhBltR8ifbEOAHirZZqtTvlChYMNS67CoOCYS6otiVQcCRQSH0EkzMoFw08VH3E/rFOJIQg9HBd581NQNYY3VzyqY08mkryzikNUTfB+TAFd7BfLncISVmbSc3KG0IMJLOwE7IIhIirwKVgfgt8SvRXOHF11kmlvukkCTWQBLRxSyCVwxPCaSslShtqbXkfINMTJSrkAYshm4yEfgSVpr+w/gIjjYMCUQtvoTcPeTdmrHD8aFOv0RWqEhLhpY10l3le0ze0Nc2/627oLlk37Q/dxyQZA4vWe7QHxdMa9xEbTXLvyy7zYW6okq8zqV1dhke8hqLt7epZvj7IPX3MesMYGwdb/xnKDt5+EAd0cb/LDuMnZefaLrP7BuIQxXrwCeXZPmIlWvU9DzcuRbtFnICzzaS6I0kYL++UfvNphn24DqKJNXU2eTWtYl8Ov+O1hw9J5ugc0D86BL5Xzo8g9f/5IJ2RcnCNLimntBIDm4eu4Up0VOqjtrysTFiLdcelFjzWvQoc+Wfjo5S6W+RIAIEAEikLEIPHzzCTV/OWrWqcYBLugZNlLXL5+nA3zq9AXKdJEeayy1vjGBkFlJjAPCg7h/A7zxKINy0w6JbJ8fWw+5XOzM+kodiAARIAJEgAjIIUBnuXIoUZ/MRoAEwsy2Y+RvliFAD5Uss5XptxD9w+SK/YASrYFdQ4BXofy81QcBhcW12djFTcEPwVI0stby8ndm/WRpR1GgDvDgmGRfFikV9vKj7lqBnI7ILeMf3Npag0KjrA7is/eayKsY2KBPAn94wD4La/MYFrd2GPdZW2PQ7Ko+Qwcm+jHxT9j0o3uUCcAqcW0ySc/a/ytOgWpKUBCmUdU3tnMw8JoXL0xSEPoqmO/dp3jcevpBN3SJTTcsnTBA93PHv89oIpKS2uQWxdGrur9JgZDV62N1+7StWak8+LNrObF7ST7oi8tMIOw3eCoKCITs0VuuYf2Fh7rxvavnx/eq9fgUGgQHGytO+LaABW+/XA8gUCxGCydn4knA+L0GuMJnGUbosk7tF51GcITmd4w1FjEWPL4B7G2sPsONR1N8SQJS93L78r7ovfyCzi1vVzucHsOnxTUbQZycBekLhLd3A2dNvFjRehG+/WUpelvtl5xlXGIfbJ3QE26m0gQnxz/qSwSIABEgAlmWwPOoWFSeIV3zVrvoUY2LIiTsCbo/EAqE9vCp+y1Qmn8hTQQpaC5wTyzwcdfZC4nsuWemSQmXN6Y0gqNt2mdJMecLXScCRIAIEIGsSYDOcrPmvmb3VZFAmN3vAFr/FyNAD5Uvhj5zTBzzFtigl37HzhXotAbQjw6rORQo+JXJdV35qQaXTtRUq1zAA5adVgNx0VBv+x7RsYncv8edbDWpFfWFPlZfq5J/UtpTE4ZvPY3C+ugyaGzJH5wzu9rIMCmB8EbnBDheXmLcqm9FoP6kjLGX7yKBbf8T+/L1Sj4lLLsS/RLY3Nu8vyx9EntLWttMCYTtlwFOuaRtrm6neaPaXPMsBLSYKznf20/xuC0QCDfZt8ecscN0fb9ZGYyz919zYhgT4/5Xp5AmgnBla0CVaDhzr13Qr/HXsHhuLO5RQdw3ac0JShWCw3nxjQmEg0fPQC5n/i1w/ZqGNQvnQMGwdWhkoYni8svhAG9Xe96+GYGQdZSKCjQmEKrVaiw6fh+bgh/BydYawxoGoE4RI3tibi/oeqYiMPfQXcw9xIvdjUt4oXVZb3y/+pJuHQVyOOLI8Dr8utZ0ABJi0madPbYDlgIh+vIa4Oo647Z77cK/S/5A0QjDPp0TxrHTVzyY0RSWlgJBPW08JStEgAgQASKQxQi8/RiPsj8dNLmq0OlNMGjVGXS/P1zXL6+HPXzr9QcCO0iPPbMQuLNH+pqx9P2C3kdvvxC9qMP+vcGebRZmMp5kse2h5RABIkAEiEA6EqCz3HSES6a/GAESCL8Yepo4uxOgh0p2vwPMrH9VW0AZL+6kFXOYGMVEKW2rPRLwr2XSYMj0mpzgZ6oVy+MMt/77Ea9U49DCH+H+8iLX3cfdDvk8HA0EQnaNizo00z7GJaJ2WA/MV8yX7PkUHhiaIBbYglpEwzdUotaI1kLeSkC9ieam/jzXE+OB1XwNRW5SfdH23UNgW3/z/nReB9g68/1MCYT6IqTQutxUhrmKAU1n8yMF9S3160fuc2yJKaPHmF9DxGng6AzDfr12YeGxe/hln6ZODGv1iubC0l4VxX33jQGehSA2QYnLke9015hAOGHSbFF03m8H7mD+EXGkZDerg2hmyad5FN2jZbsDpTuaXEOzP07ihiC1avE8LtgzqKb5dVOPbEVAX+xuUDw3WETs4A1XdByKejlj32DB3+a0FAi7bwOsBBERYSeB4z9L70G1H4CARlh78gb8D/Qz6NM5YTz3mTEhPFttLC2WCBABIkAEzBJg3+1LTJKOSNcOZs+UgStOoes9PYGwwQCgZDvpOa6uBy6vlr4mQyD891QYpuy8qRtvY2WJu9ObmF0PdSACRIAIEAEiIJcAneXKJUX9MhMBEggz026Rr1mKAD1UstR2pu1ilInAqtaGNr3LAg1/ArZ+B0Q95q/XGQPkr27Sh8XzpqLUK8PUicJBK5UN0KpLf67u3B9HQrFOMV13maUTfSBIL8pdsACqFjAvELKuFW93xh+KBZI+PkYODE/4XnRtZ/23KPVovfE15asCfKU51M4QTV+Qqz8Z8BVExr2+D+wcZN7VLhsBGwe+nymhT19MFFqXKxDqp2p9cQvYM4Kz9Co6DqHPo3VWjzg1x7hRLNJIRjNSl/GfEw8wfc8tnQF3BwUuT2woNrh9APA2Auzw6dqj97prO9TVMeOn2aK3wBcdu4+f990WjTctEHYzntYqycqqsxGYsO26zubUViXQo2p+GYumLtmJwJ9H72H2fl7srl8sFxRWlth7/ZkOA6tFObdjGa5W5v2X0djuNg+F3C3TJpJBP9r4/hHg5BzpLei2BbC2xYEbz3Bm7TQ0tNS8/MHayMRv8FCdGwu6lEXzQO/stIW0ViJABIgAEUghAZblofA44/+uyOfhgBMj6+LHlafROZTPPuHrYY+8DX8AShhJux96EDg1T9orGQLhj+suY4egNjUzRC+/pHCTaRgRIAJEgAhIEqCzXLoxsiIBEgiz4q7SmjIFAXqoZIpt+jJO3toFnPvLcO5cxYGmvwCb+wLRz/nrX00A8lU26euPq86g892hRvtMS+yGG+r8WN67InZfe4pNFx9hnWKaSZtOdtYo5eMqi1Gjhz0xOV768FpKIFxZ9QVqvd1i3Ha+qsBXMsUqWR6mspO+IOaYA+iwnDf6/CawV1xn0WBGli6QRQUJ0yCZEvq6bgYUfLpNkT25AqFrXqCNXt2ypGjHFx9icf8FX3Nyn9vXmDJsiDxQRgRC/Te7JQ9u9owEXtxEVEyCKJJvt1VdTJssjkxceSYcE7ffEPlkUiAs0xUo09nsGo7deYGrD98jMK8r6lLKULO8smMHfXG6TpGcOHbnpQgFEwhZmtGtlzUvdCxVzEYlH1s422nSNqeqdVoL2LnwJnb8CLx5IDapcADaLgbs3bjPX0fHofy0Q3BHFIpaPkSoyhev4IpVfSuhZuGcqXKHBhMBIkAEiED2IiCVkl1LYNuA6mDPwEGrz6LTHf67o6+7PfI2HgwUbykNKzwIODZL+poMgbDI+L2IS1TpxnepnA8z2pTKXhtDqyUCRIAIEIF0JUBnuemKl4x/IQIkEH4h8DQtEaCHCt0DRgkcnAg85utY6fp5FABa/gFs6gV8fMUP149WkzA8ZmsIGlweCHvopS1N6tszYRTiocD+wbVwLuw1J7qYEwhdHRRg6RfltDU+41HghLS4dE3tjwVWPWFnY4U8rnbwcrHDQK+bCHyy0bjpjC4QMs+1BxlvwjR1I801Vk+Q1RUUNlNCn36KQbnj9P2QOnBZ3hzPo2JFUaNzvWZgw4C65lahuW5EIFwWFIapu/jUT6zrvelNYG1lydt9dh3YNxr6NRAP2DXEpHFTRPOvOx8Jdm8LWxerw2hheUb3kSjFaJkuAPsfNSKQSgKLT9zHjD189Co7CL3ykE+Jy8xbW1ogUaXWzbREMRt+zmoUziVII5xSP4QRhHEfgHUSwrfE73bPZedx/K5YyLwzrTFsrQX1DFPqE40jAkSACBCBbEOg65KzOHXvteR6tVF7Q9acxde3+e//Pu72yNd0GFC0mTQn9qILe+FFqpkRCF9ExaLSjMOikd2q5MO01iQQZpubkhZKBIgAEfgMBOgs9zNApik+OwESCD87cpqQCGgI0EOF7gSjBDZ0B2LeGl528QHa/g3oX28wFfApZxIoi3ZZtC8Yvyn+hhNiDPp2SxgDJawQNKoulp8Kx5KgMEmBMEydG/4WmuhFZ3trlPSWF0G4q9AUeO4fKOnjWVUx1PjmV1TM78Fff3oVqn1jwVIYscZS91kKI+vyVgbqTcg4N5ERQYxzUFDXz6TDbn5A6z/FXUwJhD13iqMNhSPlRhCyMVIHLpt64dmThwh79Ulnda7vHGz4rqo85kZ4PHzzCTV/OSqysefHmijuLRCa1WpgRQu8jI7DPWGKU+cWGDdyrGjso7efUONnsT19gbBKQQ9YsHy4rLWYB3gWlLcG6kUETBBYcvIBpu3m0+WW9HHB9cdRJpmlqUDIIpRZpDJrK1sBKqXh3BK/2+9jEvDdqmCcffAG5f3csbh7eXg62dJeEwEiQASIABFIFoGx/4Vg7TlBTfSk0b2q5cfkliW4n4auPYcOtwbr7HJ1zZuNBIqYqAso9R2yZFugQh+T/l2MeIt2i06L+qzsUwm1AihCPlkbS52JABEgAkTAJAE6y6UbJCsSIIEwK+4qrSlTEKCHSqbYpi/jpDFxR5u2cl0XIE5wEN1oBpAn0KSvTJhpuSAILjEPMct6iUHfzgksXWeSiJJ0VSqC8K7aBwEWmnR5TnZWKOWjSV1nrh0vMQ02O/pLdtuqqoGe/xuPkoJ0pWdCnyJ6ZRc4IVY3hh3A61Lz+VUH6o4xN+3nu25KIJQr1jHhiglYwmZsrKU10GOb8fXJnZNZkBIIN3THk6dPEPGaFwgX5p+LVX1Np7LVOWSCh35Kqo3fVUUlf4E4zIwsb45nUbEIE9S9POnRFiOHaOojaptSpUbA+L1g/69tna0Oo6UggrBSAQ9YMXE5f02gzqjPd0/QTFmagH5620K5nHDvBV+zU2rx/yh+RYAb4OfpmHo27ZYAzl4aO8Z+341EW6jVasQrVVBYWsLSUvx3P/WOkQUiQASIABHIDgQm77iB5afDDZY6tEEAfqxXmPt8+LrzaHeTr8Ht7WYHvxajgYBGxhHFfwTWdhRfN1V3O6nn+bA3+PpvPoME+/jU6K/g42afHbaD1kgEiAARIAKfiQCd5X4m0DTNZyVAAuFnxU2TEQGeAD1U6G6QJPDpDbCxhzQcGyegy3pgzddAAi/coMkvQO7iZoE+ex+LQfPXYXDcYoO+f/nPQ/VCnqKUeVICoTCC0MHWCqV95QmEF8vNRPymbyV97JcwDNuHNgZL2Xfr6QewCJfIN5/gjVdoYnUO9S0vc+NcHaxRPE9SxCJLtcpSrmahzeZdAAAgAElEQVSUlhYCYa5iQNPZ4hUZO/hX2ANdNxlfvX4aWmM985QGGk03vLqmAx69eI2Hb/ho02WF5+OfHhXkETfBo+L0Q3j5IU5khx3eHB5WG3aKpDSHYSfwePsURAoEyrNenTFkgGHaqQrTDuJVNJ86t6LFbQy13qyzXzafG+za/wW45TMecSlvVdSLCOgIsKgJFj2hbewefvzOMDqb6W9a/ZoJhCU8LeGdFoeVbf4CXH2BhFhgTXvpnZFRr4m2lAgQASJABIhASghM330T/5wMMxg6pWUJ9KyWn/t8zMYLaBnCf3fL42aH/C3HAYXrm56SPdsiTgEOHoB3WVnuXYp8i7YL+QjCwrmccGBILVgIM5DIskSdiAARIAJEgAgYJ0BnuXR3ZEUCJBBmxV2lNWUKAvRQyRTb9PmdjDwLHJkmPa82amx1OyBRILA0+w3IWUSWr8sOX0GxY4aRfPearYe9wgrDN13V2ZESCCPVuZDP4gXXx87GEmXzusua9261X/B6VV+DvtMSu+GGOj+X2vTHdZdxKVJcw4sNWK2YDitoIsR09eRMpdeU5VEad5ISxLQ+yo3m8woEGs8QO8ZqF7IahvrN1gXovNb4Irb9D3hnmPbJYEDVgUCRxoZ2ljdHxJuPePKWj+BcX2Ih5nWSd0hjrAYhm6jR7ydw5/kHgzk7lPfF7A6ldZ9HzvkKj9/ygssFvz74sd83BuPq/XYM9wWRhhZQYbZiMXygqdMZ6tMaPb6nyME0vuOzvblNwQ8xYvM1HQcPRxu8+WhY47VGoRwIuqe5FzmBMIclvF3TIJqh1QLAPT9w9wBw+g/p/SCBMNvfpwSACBABIpBeBH7ZdxsLj903ML/7xxookVSCYNLWi2h8mS8xkNvVFgXaTAQKfpXmbt178QFTdmrqXPu622NA3ULwdXdI83nIIBEgAkSACGRvAnSWm733P6uungTCrLqztK4MT4AeKhl+i76Mg5t6Ax9fGp+7xw5gdRtxvalk1FWbc+AOqp7sZWA/rPkG5HaxRd8VwbprUgLhOmVddLbS1HyzsbbkaljJaU/q/IaIpYbzdk4Yzw0PHl8fQzdexYm7hmtvaHkBva32c/10AmFGO/gO+h24d1iMovVCTdSaXIHQpzzQYIrYxrPrwL7Rhojt3YGOq4yj3z4QeGuY9slgQLUfpNM8LW+OsFcfwaJOtW1H2b8xs63pVLa6ziYiCNsuPCUpBLOx92c0hVVSysPzC3pD+fw2ZzIWChwuPQfT2htGMLZfdBrBEeKanXaIQxXLm4hSO+KSujDCZzWXc5tSHyIgm8D2K48xaP0Vk/3/V6cgrj+J0v1dS9MIQu3ffWN/X+xcgU5rZK+HOhIBIkAEiAARSA6B3w/exbzDoQZDLoyrj5zOmtq207dfwVfB/IuJuVxsUbDdZKBAneRMRX2JABEgAkSACGQYAnSWm2G2ghxJQwIkEKYhTDJFBJJDgB4qyaGVjfqaE5O6bATWfi0G0nI+4OEvC9KBG8/gvL6NQd+HLTeiYC5HtFvE1+4YYb0e5SzuifqOS+yD6dbLuM+srSxQMb9e7TgjXkQ1+gMLFvyCupZ8hOK0xK64odb4fWNKI4zcfA27Q54aWHDDByxSaGrzlfNzg221/kDxlrLW+9k6vY0Atg8QT1d/MuBbQb5AmK8q8BWrBSloajVwYDzwlOfGXdXWozS2wB0/Am8emF++CYHw/stovIjiI1UPVlqKiS3Mp7LlJjUhEHZbck4XUSXlILsXHG2tMX31XvjeXgp7xGO9si7K12iEcc0M5++3IhiHbj03udbwWc3Ms6AeRCAZBHZfe4oBay+ZHHFiRF1M2nEdR+9oXnz4R/EbintapE09JG3kuLFnRu1RgH/NZKyIuhIBIkAEiAARkE/gz6P3MHv/HYMBwu9cv+wOQc2zfImBHM42KNxhGj2f5GOmnkSACBABIpDBCNBZbgbbEHInTQiQQJgmGMkIEUg+AXqoJJ9ZthhhTiD8eqVhjUJtpJoMQIlKFdZO+hqFLR6Lej9uvQmsVlu9347rPve1eIkZ1kuggJJL8Dk9SdDTRhZaWQKV/D1lzAooWy5A9V9OYLhiE5f68bgqEIuVzaGCJRcxdm96E4zeEoINwQ8l7XnhNapb3sCA9g1QoJyZuiWyPEqHTvp7V28SkLeifIHQvxZQe6ShYx+eA1v00rNaWgE9thtfRMhm4OJy84us9iMQ0NCw39ZvcTf0Dl4n1faLggNCaizE8EbyUtmaEggbzDmO0BfRRn2b16kMWpXxwXergrH/Bi/8DakfgEH1CxuMY3XgWD04U40EQvO3AvVIHgH2ssW3qy6aHBQ2sym+WckEbE1a5sVMIPRgqc/SIOVZ41mAV0njf19a/Qm4+yVvUdSbCBABIkAEiIBMAqx2+Iw9mkwP2lY6rxu2D6iu+3nu/huoHNRP97Onkw0COs0E/KrJnIW6EQEiQASIABHIWAToLDdj7Qd5kzYESCBMG45khQgkmwA9VJKNLHsMMCcQtl4EbNOrIdh2MeDiLZvP4vFdUMpCXNfuedvNaBaYBxWmHcL7mASdLV+LF1zfULUP7ql9uc+1AqGFBVClgDyBEK0WoOTcO4iOY7YtRL66OyhweWJDrDoTjgnbb5hcx5gmRfFd7YKy1/pZO27uC0QLItnqjtUcgJjbU62TrB5LzaGGLn96YygKs16m0qwqE4BVhpGiBsarDwIKNzCc8/El3Fo1GO8+au6FmYmd0ahhU66ei6xmIoJwwZFQ/HrgrlEzLUp7Y37nsui65CxO3Xut6zeheXH0rWEYKTt1500sOyVRp1Eww62pjWFvYyXLdepEBOQQYOmQeyw7b7IrE6a/XRmMAzc1fxf+VsxBCQ912giEjaYDeUoDG7oDMeIUu9xk7f8FnHLKWQr1IQJEgAgQASKQbAInQ1+i+1Lxc5B9T2Pf17Rt0eGbKHOMf8nN3VGBol1mA/kqJ3s+GkAEiAARIAJEICMQoLPcjLAL5ENaEyCBMK2Jkj0iIJMAPVRkgspu3cyJSU1/BfYMF1NpvwxwyiWb1Kbp3eEbK04d+rL9FrQs7c3VyjJ36C2sTVi5gAcsmVJorrVeiKqLQvFUUNNOOyS/pwOOjaiL+EQVJu+8gYNJh+kNiueWjAy7ObURHGyszc34+a+zFKMs1ai21RquqbFibk+1/QMaA9UGGvrNDv+ZCKDfzNVhlDNvlf5AUen0m2PnLobty2u4rvLHBXVR/NSqBLpXzS+PqwmBMOTRe7RYEGTSDhNWWi0IwtVH73X9fmkXiK8r5jUYF/r8Axr8fsKkvUktiiOfhwNK+rgit4udvDVQLyJggsDFiLdot+i02fu4/+qL2Hv9GdePCYTF3dXI65EGEYT1pwC+5YE9I4AXt8R+5C4JNJlF+0cEiAARIAJEIN0IqNVqzD0Uis0XH+FDrOaFsisTG8IyqZY0+3nZ0VsodqSPzgdXBwWKd5+jScFPjQgQASJABIhAJiRAZ7mZcNPIZbMESCA0i4g6EIH0IUAPlfThmumtrm4PJMYaX0aDKcDBSeLrHVYAjjIj+QCs/akb/OPvi2y8/XormpbKI/qs+qwjePwuxsAXoUBYyd+DSxFqtvXcibq/HUfYq48GXUv7umL7wBqSJgqP24MEJUtwyreTI+umzQG7WaeT2WHXEOBVKD9IG50nR6hjo4q1ACp/Zzhp3AdgXWfDz9NCIMxfA6gzWnKhVWceFgm6//SoACbaymorWwEqJd/V3h3ouIr7md1T7N4y1liq2//+Vx1f/XYMD17y98vCruUM7lFm492neJSZelCWW392KcdFylIjAqklcPtZFBrPPWnUDLvP2P3G6hSyeoWsMYGwmLuaE6tT3b6aoInA2PotEPWEN8fq0Tb+GbBJgzlS7SQZIAJEgAgQgexMYMWpMDjvG4g8eMNhsHVwRLmRewErRXbGQmsnAkSACBCBTEyAznIz8eaR60YJkEBINwcR+EIE6KHyhcBn9GlZWkiWHtJYqz0KOP6z+GrH1YC9m+yV/T2+CwL1Uoy+7/gfGpf0EtnQF2i0F4UCYYX87lCwYoTmWq9d8B+zG2qx1seNqlk4B1b1lU41NGzjVWy59EhkPcMKhHtHAc8FKVJZdF6RpsCKFuboaK6XbAtU4N+y1g1KiAXWtDe0kY4CoVKlRsD4vWD/r227fqjBReDJamEnxfepVsxIGlzzlyN4+MZQfNba7lHVj0sn+iE2kftfdFwiAn2lo/9UKjUKjdsDgatGXfy7e3k0KiG+z2WthzoRAT0CD998Qs1fjhrlMrpJUXxfuyB+XHcZO65qBLy/FL+jmLsSfh6OqedZZwyQvzqwtiMQL3jxotEMIE9g6u2TBSJABIgAESACqSSw7nwk1vy3Hd9Z74INEnHKsy2mDh6QSqs0nAgQASJABIjAlyNAZ7lfjj3NnH4ESCBMP7ZkmQiYJEAPFbpBJAmsaAmoVcbhVB0InFkgvt55HWDrLBvo8T/7w+bZFVH/j523ob5edFjjuSdw+9kHA7tCgbCcnxtsrc3UdrNzBTqtwW8H7mD+EXFqU2a8eWAeLOhSTtL/yNefUGu2+BA+wwqEB8YDTwRcK/YFireWLxCW7gSU7WbIQZkIrGpt+HlaCIT+tYDaIw1sP4+KReUZh0WfB4+vjxxOtvLuM6YE394NPLsGeJcDAhoBglS0rM7lH4dDsTTIeO3AFX0qoXaAvBpqFacfwssPcWZ9+7dXRdQtKj8dr1mD1CHbEnjzMR7lfjIeuTqxeXH0qeEP4UsOTCAs6qZEfk+ZAqGNo1j8E9KuNQIoUBtY1RZQxvNXms0BcgZk232hhRMBIkAEiEDGIbDl4iMM23RV51AJbxfs/rFmxnGQPCECRIAIEAEikEwCdJabTGDUPVMQIIEwU2wTOZkVCdBDJSvuahqsyVw6ynI9gEsrxRN12ZisdHL7lkyEa4T4YDu263YD4aTVn6dw9eE7g0UJBcIy+dxgrzAjECbVuVt07D5+3nfbwF73Kn74qXVJo/B2Xn2Cf0+F4V2MJrJybb8q8HLNgHXkDk8FHp7n18H2qmQ7gKXblNPKdgdKdzTsycQ2qSjENBEIawO1RxjMeeXhO7T+85TucxsrS9z+qbGoroycJcnpc/r+K3T555xBVxc7a1yb3EiOCbRcEIRrgnqFxgat6lsJNQvLEx1lTUydsi2B2AQlik7YZ3T9QxsE4Md6hTFmawhYBAVrTCAs4poI/xxO8rgVbwXc2gHJ0OsaQ4BC9YCVrQFVIm+v+VwgRyF59qkXESACRIAIEIF0JMBSbLNU29pWMKcjDg+rk44zkmkiQASIABEgAulLgM5y05cvWf8yBEgg/DLcaVYiAHqo0E1gQEBKCGK122Le8l3zVgYe6okp3bYC1jaygc7dcQ6VLgyGtnLgLlUVNOo5FrX0orW+/usMzodraoYIm1AgLJ3XFQ421qbn7r4NsLLGitPhmLRDkIIzaVSf6v6Y2KK4bP8zbMdjs4DwIN49FhEY2Ek6+k9qESy9KEszKtWkhOO0EAhZBBKLRNJrR24/R78Vwbq0nb7u9gga9VW6oL/++D2azxdwE8wSPquZrDm/WRmMgzefm+27/tsqqFJAfr1OswapQ7YloFaz1LbiNLxCGBu+rYLKBTwxeccNLD8dzl1iAmFhl0QUzClTIKwxGHDyAiLPADe3i1mX7wWUaq95AUFY77PFPMCzYLbdF1o4ESACRIAIZBwCR++8QO9/L+gcyuNqhzNj6mUcB8kTIkAEiAARIALJJEBnuckERt0zBQESCDPFNpGTWZEAPVSy4q6mck1SqSQ9CgBvHpg23GM7YGkmik9gYe6huzh4+CDqW17EM3hgq7ImlverjuqFcojm6b70HE6GvjKYWygQlvJ1gZOtwrR/SULWxuCHGLn5mkHfqa1KoEfV/KmElwGGn/wNuC9Ih8rEPhYVyOpKymmVvwOKGalXmBKBcPsA4G2E6ZlZBBKLRJJoiUoVXkbH4en7WLBoqWoFxfeHnCXJ6WOqlptcgXDi9utYecbMWgFs6V8N5f3c5bhFfYiAWQKBk/cjKlYQvScYsX9wLRTxcsaMPbew+ITmb/giJhA6J6BQLpkpoWsOBQomCfP6fwOcvYB2SwD9z1vOBzz8zfpOHYgAESACRIAIpDeB82Fv8PXfZ3TTONtZI0Rmdoj09o3sEwEiQASIABFICQE6y00JNRqT0QmQQJjRd4j8y7IE6KGSZbc25QtLjANWtxOP960IPOLfvJU0bi6STG+QVKpPqciqvssv4PDtFwZTCgXCEj4ucLEzIRAWbgBUH8TZ2HXtCQauvWxg78yYr5DH1T7l3DLKyNPzgbv7eW+Y2Fe+N7DaSFSgvt/VfgQCGkqvRl8EUNgDXTeZXvmBCcATQ96iQaw2YLUfvijBqNgEBE4+YOCDfw5HHB0uLw3VwmP38Mu+O2bXsWNgdQT6upntRx2IgBwCVWce5gR0qaatlfrr/jtYcFRTe5UJhAWdEhCQOw0EQmaQ/Q1Y00E8fdvFgIu3HPepDxEgAkSACBCBdCVw48l7NPtDnCWiqJczl81hWMMAOJv6N0S6ekbGiQARIAJEgAikjACd5aaMG43K2ARIIMzY+0PeZWEC9FDJwpub0qXFfwLWfi0ezQS2UHG9QAPzyRQIlwWFYequmyIzm76vior5PUSf9V99EXuvPzOYTigQFvN2hpu9DaCfCpWN8i4DVB8MOGoiz1jayj7Lgw3syY0SSynWzzbu6Awg4rR4um5bDEVfYw7VGg4UMCKI/fc98P4RP5JFDrEIIlPNXD1LNpaJmCxy8Qs2lqqx2qwjBkJLqzLemNeprCzPVp0Jx4Tthulr9QfvHVQTxfK4yLJJnYiAOQK1fjmKyDefJLsFj6+PHE62+ONwKOYcvMv1YQJhAcd4FPGSeQ+aiiBkBpkYuPVb8fzJrElrbo10nQgQASJABIhASgmEv/qIOr8ekxzer4Y/xjfPAiUGUgqHxhEBIkAEiECmJEBnuZly28hpMwRIIKRbhAh8IQL0UPlC4DPytHEfgHWdxR6WaAPc+M+410x867A8Watacy4C4/67Lhrz3/+qoWw+cerFwesvY9uVJwa2hQJh0TzOcHcwIhDqCZf6aYaY4VI+rtj5Q41k+Z9hO0sJcmxvNvWS53LdcYBfVem+7N44vQB4cRNgQmKe0uZtyhEIWRpUVvvwCzcmHo/cHIL3MfFoVcYHM9uWgsLKUrZXj95+Qo2fBeldjYw8O6YevFztZNuljkTAFAH/MbvBSsdKtZtTG3H1Wf86fh+z9t7mujCBML9DvHyR2pxAyOoN7tREaHONpZpmKaepEQEiQASIABHIAARefIhFpemHjXqSZV4SzACsyQUiQASIABH4PAToLPfzcKZZPi8BEgg/L+8sO1tUVBT27NmDCxcuIDg4GI8fP8bLly8RExMDNzc3FC9eHE2bNkXfvn3h6ekpyUGlUuH27ds4f/489z9m69q1a4iPj+f6Hz16FHXqyEs3Zw50/vz5ERFhvl6Vn58fwsPDzZlL0XV6qKQIW9YeFPMO2NBNvMZmc4A9wwG1Snrtrr5Am7+SxWXDhUiM2hIiGnNoaC2DulgjN1/FxmBB1FrSCKFAGODlBE9HW+kIQj2BUKrWHIuwYZE2WaJJCXK1RgAnZstbXoMpgE95eX3l9JIjEJbuBJTVu+fk2E6HPiySMF6pgq21/HqaWjdYvcRC4/aa9YoOoswiog7JINDqz1O4+vCdwQgLC+D+9KawtLSAMGJ7oWIu/OxjUcLbVd4sQoFwdXsgUS+daeNZwL7RvC0bJ6DLenm2qRcRIAJEgAgQgXQm8Ck+EcUnCtLv681H38vSeQPIPBEgAkSACKQ5ATrLTXOkZDADECCBMANsQlZw4dChQ2jQoIHZpeTIkQOrV69Go0aNDPquWLECvXoZj7QhgdAsXuqQ2Ql8egNs7CFeRed1QNgJ4Owi6dV5FgRYFEky2p6Qp/jfmkuiEVJ1ACdsu45VZw2FdKFAWCi3I3I62ckSCJkA5D9mj2heD0cbXJpg/m9HMpb35bpKCXJV+hvfO31P2WG/V8m081+OQFi2O1C6Y9rN+QUt5R+92+zsdBBlFhF1SAaBpUFh+EkvXTMbntPZFhfGaV58WH02AuO3aSK2mUCYzy4WJX3kCoTDgIJ1NR5d3wIE/yv2rv5k4NBk/rMURJQnY7nUlQgQASJABIhAsgioVGoUGCv+7i80EDK5IdUhTBZR6kwEiAARIAJfmgAJhF96B2j+9CBAAmF6UM2GNplA2KdPH9StWxfly5dH3rx5kSdPHrCoQPbHc/Pmzdi6dSuUSiVsbGy46MDAwEARqeXLl6N3797cZwqFAiVLlkRiYiJCQjSRTukhELZq1QrTpk0zumPM14CAgHTZUXqopAvWzG00+iWwWfM7oGvaelIPjgEnfjVcX+4SQJOfk7XuV9FxqDzjMJQqTW48T0cbnB9XH1aWFiI7M/fcwt8nHhjYFgqEBXI6IreLHVB1IHBmAd+XRcKxiDi9pi/i5HCyQfD4LCIQfngGbOknXnGNIUDQ7/L2h0WL5kzDvzcXlwMhm03PXaE3ULKdPP8yeK/x20Kw+mykzsuahXPgZOgr3c+1AnJiZZ9KGXwV5F5mIiD10gPzP9DXFTsGalInbwx+iJGbr3H/zQRCX7sYBPq4yVtmTYFAGHEGODqdH8dqkJbrCRwX/P1PQUS5PEeoFxEgAkSACBCBlBEw9QLXtckN4WKnSJlhGkUEiAARIAJE4AsQoLPcLwCdpkx3AiQQpjvi7DEBE/6srEynhdu2bRvatGnDAWnbti22bNkigsPSip49exaVKlXC/9m7D+ioqn2P47+QEBKI0jsIiPQiSFVQ4AqIFBGkCgjoEyz4RGzXchUbtmvDqyI+vCiCCNKkiBSRJkUQFRWQDiI1kBAglJS3zkQyGTKTKZly5sz3rHXXkjn77P3fn/+R/d7+e85p1KiR4uLiNHr0aD33XFaRIRAFwsGDB8soTIbiYFEJhbrJx3RWYBo4Q4opJO1bJ337Qu4JVLxG6vC81xMzNq3fWbJd8bHRerZbXV1fo3SuPt5dul1vLP4j1+85C4RVSxVW+aLx0oAvpcXPZH0jL754VnGwxJW5rr10k6BofEH9/GxHr+M37QWXPrVnfN9vw8eehdv9P1Lxqp619aTV9sXSajdPl/7jX9IVLTzpzfRtks6c16Nf/qKNe0/IKA6O6dFA7y3bYXtNbpWShfXv3lerWqkipp8HAYaXwLNzftUnaxyftK5T/nJ9/eD1tonM+emAHpz6k+2fjQJhxUKpurqShwVC4+924+944zjwY9bfsRePuKJSk6HS6rftv/nwRHl4aRMtAggggEC4CbgqEBr/d9rtLa4It+kQLwIIIIBAhAuwlxvhN4BFp0+B0KKJNeu06tSpY/vOoPGqUeMbhe4OCoTuhDhvKYHkA9Ks4Y5TGjRbio6R/tokLfpX7ulWuU5q92RAGCau3q3Rc3/P1XfOAqFReKlwTSfJ+NZeRrp0+qhU6HIptrDTmK55YbGOn876rqhxDGpZRS/c6sfXagZEwotO5z8iHd3qxQU5mvb8SLq8vG/XOrtq/UfS73Py7u9iAdp/o9ITAhEl8MF3O/XqQsd/53s2rqg3+zayOXy9+aDu/fuVzkaBsHzsGTWuXNwzo8FzJeODhsZxZIu04FH7dTFxUrO7pDXv2X8rU0fq7OE3Tz2LgFYIIIAAAgjkS8BVgfDLe65V06ol8tU3FyOAAAIIIBBsAQqEwRZnvGAIUCAMhjJjZAs0bdpUGzduVEJCglJSUtzKUCB0S0QDKwkk7ZNm3+c4o4sbxJduDl9sZXyfyngNXQAOZ98qNIYZEL1EXQustY1YuUS8Kt39hZSQ+wlEZyHl3CyPjSmgb0beYK2nuowirlHM9eXo86lU2I8bJSf2SHNG5B3JxQK0L/FyDQIIaPamAxr5RdYTghePDwZco5sbZBX7l245rLs+2WD7Z6NAWK7gGV1zhQcFwpxPDxoXH98tffWAo3jzYdL68fbfyjWUOo0hKwgggAACCJhGwFmB0Pj/H759uK0KRhcwTZwEggACCCCAgCcCFAg9UaJNuAlQIAy3jIVxvFu2bFGDBg1s3yE0CoXGdwjdHRQI3Qlx3lICzjaAh8zLmmLiTmnug7mnW6uzdO0lRUU/oRxKPquWLy/N1VusLqh39HKVizqu4o26a2Cvnl6NuOKPo9p8IFn/qF1Gxqv4LHV894q0Z5VvU+o/VSqU4Nu1zq7KzJQ+6ZZ3f3fMkQrk/Xpo/wVETwhYT+CXP5N0y39WO0zMeL3oxb/bVm4/qkET1tvOGwXCMjGn1bSKB/8hwK3vS8VyvHrN2SuoGw2QfppsH7tCY6mjk1dRW4+dGSGAAAIIhInAU7M2a/I6+zeijfXxv0OaqVzRuDCZAWEigAACCCBgF6BAyN1gRQEKhFbMqonmdObMGR04cEBz587Va6+9psOHD9uimzRpkgYOHOg20kAXCKtVq2Z7mnHnzp3KzMxU2bJlbd9A7N+/v7p3766oi6/2chup9w1YVLw3s/wVlxYBjcKNUcAxDmevHzV+v+YOqWGfgNG4ei3QxQHvvr6anupSN2Djh13Hq96WdizxLexBs6Togr5d6+yqjAzp01vy7i/nKwz9NzI9IYDA3wLrdiWq7/isJ667FFirIbFL1cyTV6rd8q5UoprdMfWE9MWgvF0rN5duzPGdQrKAAAIIIIBAiAWSUy9o9Fe/6fe/TqpT/XJ68MYaKlDg79dnhzg2hkcAAQQQQMBbAfZyvRWjfTgIUCAMhyyFWYwTJ07U0KFDXUb9yCOP2IqFnhTfAl0gzIu2VatW+uKLL1SxYkWfMmAsGnkdBw8etBUjjWP//v2qVKmST+NwkYUEjv4hzR9ln1B0rDb97+0AACAASURBVDRoZtafTx+Tpg/JPVnj239XtgkYwoRVu/XCvNzfIbw4YP/mlfVyz4YBGz/sOv7+XemPb3wL29/FuvQ0adKtecfi7zF9mzlXIWBZgU37TqjH+9/b5henc3op9lPddmWa+/l2e0cqWd3eLv2CNKlH3tcF8Ju07gOmBQIIIIAAAggggAACCCBgbQEKhNbOb6TOjgJhpGY+gPN2VSBs1KiRxo0bpxYtWng8eqAKhDVr1lSdOnXUsWNH1a9fX0WLFlVSUpLWrFmjDz74wFawMw6jjfGbcd7bw5MC6MU+KRB6q2vR9ke2SgsesU+uYLw0YHrWn8+flqb0zT3xdk9KxqZwgI5lW49o6ETXrwO+sXYZTRjSLECjh2G3a96Xti3wPvCcxWDvr3Z+Rdo56bPb8u7t4its/TUm/SCAgIPAb38lq8tY+2uH4wqka2vNHN8NdOXV9W2p1FWOZyd2zVu3WhupzaNkAAEEEEAAAQQQQAABBBBAIAACFAgDgEqXIRegQBjyFFgvAKPQdvHpudTUVNvrO6dNm6ZZs2apevXqevvtt9W1q5tNrr9ZAlUgNGIsVqyYU/yUlBT16tVLixYtsp1/6KGH9Oabb3qdKAqEXpNxweHfpK8ftzvEJki3T836s6vvyQ2cKcXEBsxu2bYjGvpf1wXCplWK68t7A1egDNjEAtXx2nHS1r+/G+nNGIUuk/p/7s0V7tteOCtN7pV3OwqE7h1pgUA+BLYfTlGHt1Y49LC71vvu36LQ5U2pdE3Hkd0VCKv/Q7o+x1Po+YibSxFAAAEEEEAAAQQQQAABBBwFKBByR1hRgAKhFbNq0jkZ3x0cPHiwbVNswoQJGjLEyesSL4k9UAVCd0TJycm2YmZiYqKKFCmi48ePKzbWuyIMrxh1p8z5XAIHf5G+edL+c1xRqd9k+5+dbQ4HuMBz5nyamrywRKkX0p0mrFbZy/TNQzeQzIsC6z6Utsz13uPSXHvfg/Mr3BUUAnz/+Gsa9INAuArsTTytNq9/5xD+zprvK9rd95d6jJOKXvLqcXf/Pte8SbrugXClIm4EEEAAAQQQQAABBBBAwNQCFAhNnR6C81GAAqGPcFzmm0Dfvn1tTxMaRTfjtZrFixfPs6NQFQiNoEaMGKH33nvPFt/q1at13XX+fUqKRcW3e8jSV/21SVr0L/sU44tLfSfZ/3zp5nDOV5AGEOaLH/Zp9Fe/K65gAXVpWF6frd2XPVr5onFa88SNARw9zLpe/5H0+xzvgw5UgXDTZ9LPfz+F6iwqCoTe54orEPBC4GByqq59+VuHK3bUeE8x0QXy7sXZv5vuCoS1u0ot7/EiOpoigAACCCCAAAIIIIAAAgh4KsBerqdStAsnAQqE4ZQtC8Q6ZcoUDRgwwDaTyZMn6/bbb89zVqEsEL7//vu6//77bfEZRc3evXv7NQMsKn7ltEZnf26Uljxrn0uRUlLvifY/71snffuC/c99P5Pinb8qN1AgG/ce120frMnuPqFQjH597qZADRd+/f4wQfptlvdxG3k08hmIw1VRofEg6Won37UMRAz0iUCECiSeOqcmLy5xmP0fNf6j2OjovEV8KRDW7S41vztCpZk2AggggAACCCCAAAIIIBBYAfZyA+tL76ERoEAYGveIHXXx4sXq2LGjbf5jxozRE088kadFKAuExtODxlOExkGBMGJv2eBOfP96aenz9jETyki9PnaMIT1NOn9KMp44i4oKbnyS/jicoo6XfE9r55jO7l+XF/RIQzTgho+lX2d6P3ihy6X+U7y/zpMr5j0kHdueu2WdblKL4Z70QBsEEPBRIOXsBTUYnfVN44vH1qv+o7gYHwqEB3+WvnnKdSQNeklN3L++3cepcBkCCCCAAAIIIIAAAgggENECFAgjOv2WnTwFQsum1pwTmzhxooYOHWoLbuzYsXrggby/lRPKAqHx9KDxFKFxrFq1Sq1atfIrKouKXzmt0dneNdKyl+xzuay8dNtHpprboeSzavnyUoeYfn6mo4oWLmiqOEMWzMZPpM3TfRs+UK/7dPUEYde3pVJX+RYrVyGAgEcC59LSVevphQ5tt1T/j+IL+lAgzMyUJt0qZTj/Jqyu7ic1HuhRXDRCAAEEEEAAAQQQQAABBBDwToC9XO+8aB0eAhQIwyNPlomyS5cuWrBggW0+y5YtU9u2bfOcW6gKhMnJyapevboSExNVuHBhHT9+XIUKFfJrHlhU/Mppjc72rJK+e8U+l6KVpB7jTDW30+fSVO/ZbxxiWvlYO1UuUdhUcYYsmB8nSb984dvwwS4QBmo832bPVQhYUiAzM1PVnsj6v3suHr9f+a4Kx8bkPV9X/37uWi6teN35tbw22JL3EJNCAAEEEEAAAQQQQAABcwiwl2uOPBCFfwUoEPrXM2J7M54M7Nevn+Li4lwavPXWWxo1apTtfNWqVbV9+3bFxOS9QeZLgdAoOi5fvtw2zu7du21j5TwWLlyoNm3aKD4+3mmsKSkp6tWrlxYtynolmPGUo/G0o78PFhV/i1qgv90rpOWv2SdSrIp063ummpix2X3VU18rPSMzO655D7RW/YpFTRVnyILZNFn6+XPfhg9Uwc7ZE4SB/Oahb7PnKgQsK1Dzqa91Pj0je36/VntXxvdb8zxc/X1wOlGaPtj5pcbrRY3XjHIggAACCCCAAAIIIIAAAgj4XYC9XL+T0qEJBCgQmiAJVgjBKMIZhbXbbrtNrVu3tj19l5CQYPtt8+bNmjx5slavXm2bamxsrObPn6/27dvnmrpRaMx5zJ49W3PmzLH99Pjjj6t27drZp6+66irbWJce7gqExnkjpp49ezrEmpSUpDVr1uiDDz7Q/v37bd3WqlVL33//vUqUKOH3NLGo+J00/DvcuUxa+YZ9HiWqSbe8a7p5NXp+kZLOXMiO6/O7W+ra6iVNF2dIAvrpc+mnyb4NHagC4ZwR0ok9jjFFFZAGf+VbnFyFAAJeCdR/9hudOpeWfc3mqmN1WZyb1zK7+vvg7Elp6u3Ox28+TKp7i1ex0RgBBBBAAAEEEEAAAQQQQMAzAfZyPXOiVXgJUCAMr3yZNlqjQLh371638VWqVEkff/yxOnTo4LRtVFSU2z4uNhg8eLAuLSga5zwpEF58wjCvwW644QZNmTJFFStW9DgmbxqyqHijFSFtdyyRVr1tn2zJq6RuOf5sEoYbXlumfcfPZEfz4aAmuqleOZNEF+Iwfv5C2jTJ+yAC+T1AV98gDFRB0vvZcwUClha45oXFOn76fPYcf67yjorGx+Y9Z1f/fl5IlSb3dn5ty/uk2p0tbcnkEEAAAQQQQAABBBBAAIFQCbCXGyp5xg2kAAXCQOpGUN87d+7UkiVLbN8V3LJliw4fPmz7fp/xytGyZcuqUaNG6tq1q/r06WP7pp+rIxgFwg0bNmjp0qW2pwW3bdumY8eOyXh60IirQoUKatGihfr376+OHTvKm3i8TTeLirdiEdD+j0XS9zleZ1u6ltQlxxOFJiHoMnalfvvrZHY011UvqRHtrrJ9hzDiv0W45n1pm+P3xtymrUhpqfd/3TbzuYGzAmGNDlKrB33ukgsRQMBzgZZjlurQybPZF2y64h0VL+xjgTA9TZp0q/PBjX+njX+3ORBAAAEEEEAAAQQQQAABBPwuwF6u30np0AQCFAhNkARCiEwBFpXIzHues972tbQmxzcHy9SROr9uOqjbP1qr73cm5orrxtplNGFIM9PFG9SAXD2td2kQA2dIf26QYotI5a+WvHh62uv5rP9I+j3rVc3ZR7U2UptHve6KCxBAwHuBS5+6/rHy2ypRpFDeHbl6gjAzU/qkm/Nrrx8lVf+H9wFyBQIIIIAAAggggAACCCCAgFsB9nLdEtEgDAUoEIZh0gjZGgIsKtbIo19nsWWetG6cvcuy9aWbX/HrEP7obOTUTZr901+5urq9xRUa06OBP4YI3z48LRAG8/WeJw9KM+92NK3eTrr+4fB1JnIEwkig/ZvLtePIqeyIPy/4oppWLa6C0QVczyKvvyNc/T3T/G6pbvcwkiFUBBBAAAEEEEAAAQQQQCB8BNjLDZ9cEannAhQIPbeiJQJ+FWBR8SunNToznvIynva6eBhPlt30kunm9srXWzVu+c5ccT3coaYeuLGG6eINakBmLBCeTZamDnBkKFZFujXH06pBRWIwBCJLoPM7K/X7QftrmY0CYaUS8apc3PUr1+VLgbBBL6nJkMjCZbYIIIAAAggggAACCCCAQJAE2MsNEjTDBFWAAmFQuRkMAbsAiwp3Qy6BX2dKGz62/1yhsdTxBdNBvTDvd01YtTtXXP/qWld3ta5muniDGtCJvdKc+90PGcwnCJ19s4xCgvsc0QIBPwnc+t5q/bQ/Kbs3o0BoHNdWL+l6BF8KhI0GSI36+ylqukEAAQQQQAABBBBAAAEEEMgpwF4u94MVBSgQWjGrzCksBFhUwiJNwQ1y85fSxon2MSs1ldqPDm4MHoy2/I+jGvzx+lwtVz3eTpXyeiLGg74t0WTLXGndh1nfFez9iTTtjtzTCmaB0Bj9k1ukzAx7HC3vk2p3tgQ3k0DA7AJ9Plyj9buPZ4cZsAJh0zul+j3NzkF8CCCAAAIIIIAAAggggEBYCrCXG5ZpI2g3AhQIuUUQCJEAi0qI4M087C/TpB8/tUdYuYV0479MF/FvfyWry9hVueLa80oX08VqioCcvXY02AXCZWOkvd9ncRSMl3p+JMUXMwUPQSBgdYFBE9Zp5fZj2dPMd4Fw+evS7uW52VreK9Xm72Gr30/MDwEEEEAAAQQQQAABBEIjwF5uaNwZNbACFAgD60vvCLgUYFHh5sgl8NPn0k+T7T9XuU5q96TpoI6knFXzl5bmiosCoYtUmaFAeOa4tGmSdP60VK+nVKa26e4rAkLAqgJ3TfxBS7ce8V+B8NKnzS/23OpBqUYHqzIyLwQQQAABBBBAAAEEEEAgpALs5YaUn8EDJECBMECwdIuAOwEWFXdCEXh+02fSz1PtE696vdT2cdNBZGRk6sonFzjE1bdpZb3aq6HpYjVFQGYoEJoCgiAQiEyBez/bqK9/PZQ9+Xw/Qbh1vrT2g9yYNzwqXdkmMpGZNQIIIIAAAggggAACCCAQYAH2cgMMTPchEaBAGBJ2BkVAYlHhLsglsPETafN0+8/V2khtHjUlVLt/f6fdx05nxzbj3uvUpEpxU8Ya8qAoEIY8BQSAQCgFHpy6SXN++is7hFsKrFb/6GW6tnpJ12Hl9RriHUulVW/lvtZ44tx48pwDAQQQQAABBBBAAAEEEEDA7wLs5fqdlA5NIECB0ARJIITIFGBRicy85znrHyZIv82yN6n+D+n6UaaEmvnjn3r0y1+UnpGp1leV0qS7misqKsqUsYY8qF9nSBv+aw+j8UDp6n4hD4sAEEAgOAKPTv9Z0zf+mT1YEaXq/wq+4XuB0PieqPFd0UuPvpOkeP5DjeBklVEQQAABBBBAAAEEEEAg0gTYy420jEfGfCkQRkaemaUJBVhUTJiUUIe07kNpy1x7FDVvkq57INRRuRx/z7HTSjx9To0rF1eBAhQHXUJdSJVWvC7tXy+VrSe1fUKKL2bavBIYAgj4V6DPh2u0fvdxh06jla4dQ6IV5exVoUbLvJ4gPPCjtPiZ3EHmdY1/p0RvCCCAAAIIIIAAAggggEDECbCXG3Epj4gJUyCMiDQzSTMKsKiYMSshjun7d6U/vrEHUaeb1GJ4iINieAQQQACB/Ahc/9q32n881aGLO66tome71VP0p92cd51Xse/IFmmBk9dPUyDMT5q4FgEEEEAAAQQQQAABBBDIU4C9XG4QKwpQILRiVplTWAiwqIRFmoIb5Mo3pJ3L7GPW6yE1uyu4MTAaAggggIBfBeo9s1Cnz6c79LnnlS5Zf3b2jdLStaQub7iO4fhu6SsnT5dTIPRr3ugMAQQQQAABBBBAAAEEEMgpwF4u94MVBSgQWjGrzCksBFhUwiJNwQ3yu1elPSvtYzbsK10zKLgxMBoCCCCAgF8Fnp69WZ+t3ZfdZ6mEQtrwdPusPzsrEBqvIr75VdcxJP8pzbon93kKhH7NG50hgAACCCCAAAIIIIAAAjkF2MvlfrCiAAVCK2aVOYWFAItKWKQpuEF++6K0b619zMYDpav7BTcGRkMAAQQQ8KvAjiOn1GXsSp1Ly7D1O3FoM7WtVSZrDGcFwnINpU5jXMdwNlmaOiD3eQqEfs0bnSGAAAIIIIAAAggggAACOQXYy+V+sKIABUIrZpU5hYUAi0pYpCm4QS5+Vjqw0T5mkyFSg17BjYHREEAAAQT8LvDH4RSt+OOoGlUupqZVS9j7n9hVSWfO688TqSpQIEoFoqSkYvXV8p73847h0sJigWjpjjl+j5sOEUAAAQQQQAABBBBAAAEEsgTYy+VOsKIABUIrZpU5hYUAi0pYpCm4QS58Ujr0i33M5sOkurcENwZGQwABBBAInsDW+Tqy6C3tPHo6e8w/E+qr9+Mf5R3DvnXSty/Y2/T6WEr4+6nE4EXPSAgggAACCCCAAAIIIIBAxAiwlxsxqY6oiVIgjKh0M1kzCbComCkbJoll/iPS0a32YK4dIdXqZJLgCAMBBBBAwO8CR//QoSn3avexM9ldby/WSnc8/G/3Qx39Q0rcLlVsKl1W1n17WiCAAAIIIIAAAggggAACCPgswF6uz3RcaGIBCoQmTg6hWVuARcXa+fVpdnMflBJ32i9tPVK6qr1PXXERAggggEAYCBzZor+mjNDeRHuBcHrlJ/TmMJ4eD4PsESICCCCAAAIIIIAAAghEkAB7uRGU7AiaKgXCCEo2UzWXAIuKufJhimhm3y8l7bWHcsOj0pVtTBEaQSCAAAIIBEDg2A7tnzRMfx5Pze58WvUxemtIuwAMRpcIIIAAAggggAACCCCAAAK+CrCX66sc15lZgAKhmbNDbJYWYFGxdHp9m9yMu6WUg/Zr2z0pVbnOt764CgEEEEDA/AKZmdr67m06cTTr7/59mWX0ff3ReqdfY/PHToQIIIAAAggggAACCCCAQAQJsJcbQcmOoKlSIIygZDNVcwmwqJgrH6aIZvoQ6fQxeyjtR0uVmpoiNIJAAAEEEAiMwLvTv1bcz58qXdGalNZerZteo1d7NQzMYPSKAAIIIIAAAggggAACCCDgkwB7uT6xcZHJBSgQmjxBhGddARYV6+bW55lNHSCdTbZfftNLUvmrfe6OCxFAAAEEzC/wxMxf9Pn6/dmBDrmuqkbfUs/8gRMhAggggAACCCCAAAIIIBBBAuzlRlCyI2iqFAgjKNlM1VwCLCrmykfIokk7J80fJZ08KKWfdwzj5teksnVDFhoDI4AAAggEXmDQhHVaud3+9PjwNlfqiZvrBH5gRkAAAQQQQAABBBBAAAEEEPBYgL1cj6loGEYCFAjDKFmEai0BFhVr5dPn2Uzs6vrSrm9JpWr43DUXIoAAAgiYX6DqP+c7BPngjTX0UIea5g+cCBFAAAEEEEAAAQQQQACBCBJgLzeCkh1BU6VAGEHJZqrmEmBRMVc+QhZNXgXCW96VSlQLWWgMjAACCCAQeIHWr36rP0+kZg807IYr9WRnniAMvDwjIIAAAggggAACCCCAAAKeC7CX67kVLcNHgAJh+OSKSC0mwKJisYT6Mp30NGnSra6v7PGhVLSiLz1zDQIIIIBAmAg0GP2NUs6mZUf74aAmuqleuTCJnjARQAABBBBAAAEEEEAAgcgQYC83MvIcabOkQBhpGWe+phFgUTFNKkIXyLlT0uf9XI/f679SQunQxcfICCCAAAIBFUhLz9BVT33tMMaih25QzbKXBXRcOkcAAQQQQAABBBBAAAEEEPBOgL1c77xoHR4CFAjDI09EaUEBFhULJtXbKZ1OlKYPdn1V30lSfHFve6U9AggggECYCPz2V7K6jF3lEO36J29UmcvjwmQGhIkAAggggAACCCCAAAIIRIYAe7mRkedImyUFwkjLOPM1jQCLimlSEbpAkv+UZt3jevz+U6VCCaGLj5ERQAABBAIqsPDXQ7rns40OY+x46WbFRBcI6Lh0jgACCCCAAAIIIIAAAggg4J0Ae7needE6PAQoEIZHnojSggIsKhZMqrdTStwpzX3Q9VUDZ0oxsd72SnsEEEAAgTARmLR2r/41+1eHaPe80iVMoidMBBBAAAEEEEAAAQQQQCByBNjLjZxcR9JMKRBGUraZq6kEWFRMlY7QBHPoV2nhP12PPXiuFBUVmtgYFQEEEEAgoAKHks+q5ctLHcZoV6u0/ju0eUDHpXMEEEAAAQQQQAABBBBAAAHvBdjL9d6MK8wvQIHQ/DkiQosKsKhYNLHeTGvHUmnVW86viI6VBs30pjfaIoAAAgiEkcBzc3/Tf1fvcYi429UV9G7/xmE0C0JFAAEEEEAAAQQQQAABBCJDgL3cyMhzpM2SAmGkZZz5mkaARcU0qQhdINOHSKePOR8/vpjU97PQxcbICCCAAAIBE0g8dU5NXlySq/+R7WtoZPuaARuXjhFAAAEEEEAAAQQQQAABBHwTYC/XNzeuMrcABUJz54foLCzAomLh5Ho6takDpLPJzltfXkHqOd7TnmiHAAIIIBBGAut2Jarv+LW5It74dHuVTCgURjMhVAQQQAABBBBAAAEEEEAgMgTYy42MPEfaLCkQRlrGma9pBFhUTJOK0AXy4yTply+cj1/yKqnb26GLjZERQAABBAImsC/xjG54fZlD/2P7N9YtV1cI2Jh0jAACCCCAAAIIIIAAAggg4LsAe7m+23GleQUoEJo3N0RmcQEWFYsn2JPp/TJd+vET5y3LNZQ6jfGkF9oggAACCISZwNkL6ar9r4UOUb93+zXq0rB8mM2EcBFAAAEEEEAAAQQQQACByBBgLzcy8hxps6RAGGkZZ76mEWBRCUAqMjOlU4el2CJSocsCMICfu/xpimT8z9lRqZnU/lk/D0h3CCCAAAJmEej27iptPpD1munYmALa8HR7XR5X0CzhEQcCCCCAAAIIIIAAAggggEAOAfZyuR2sKECB0IpZZU5hIcCi4uc0nTslzXtISjkoFYyX2j0pVWjs50H83N3GT6TN0513WqqG1PUtPw9IdwgggAACZhH4eX+SHp/xi1LOpumRm2qqR+NKZgmNOBBAAAEEEEAAAQQQQAABBC4RYC+XW8KKAhQIrZhV5hQWAiwqfkxT0n5p9r2OHV5WXrrtIz8OEoCu1n8k/T7HecdxRaV+kwMwKF0igAACCCCAAAIIIIAAAggggAACCCCAgDcC7OV6o0XbcBGgQBgumSJOywmwqPgxpd+9Iu1ZlbvDIfP8OEgAulr7gbR1vvOOS9eWuvw7AIPSJQIIIIAAAggggAACCCCAAAIIIIAAAgh4I8BerjdatA0XAQqE4ZIp4rScAIuKH1M6savzzsxeIFw9Vtq+yHnsPT6Uilb0IxJdIYAAAggggAACCCCAAAIIIIAAAggggIAvAuzl+qLGNWYXoEBo9gwRn2UFWFT8mNpwLRCufEPauSw3RKHLpf5T/AhEVwgggAACCCCAAAIIIIAAAggggAACCCDgqwB7ub7KcZ2ZBSgQmjk7xGZpARYVD9J76qj0/TvSqSNSvR5SrZudXxSuBcLvXpX2rHScU+ESUrexUnwxD4BoggACCCCAAAIIIIAAAggggAACCCCAAAKBFmAvN9DC9B8KAQqEoVC34JgnT57UggUL9MMPP2jDhg06cOCAjh49qtTUVBUrVkx169ZV586dddddd6lkyZJOBTIyMrR161atX7/e9j+jr19++UXnz5+3tV+2bJnatm3rV73ExESNHTtWs2fP1p49e5SZmalq1arp1ltv1f/+7/+6jNUfQbCoeKC44nVp13J7w14fSwllcl8YrgXCb1+U9q21z6dUTanji1JsYQ9waIIAAggggAACCCCAAAIIIIAAAggggAACwRBgLzcYyowRbAEKhMEWt+h4S5YsUYcOHdzOrlSpUvrss89000035Wr7ySefaMiQIS778HeB0ChAdu/eXQcPHnQ6ZoUKFTRnzhw1bdrU7bx8acCi4oHapYW/AtHSHXNyXxiuBcLFz0oHNtrn02SI1KCXBzA0QQABBBBAAAEEEEAAAQQQQAABBBBAAIFgCbCXGyxpxgmmAAXCYGpbeCyjQHjnnXeqXbt2atKkiSpXrqzy5cvLeCrQ+Mvzyy+/1MyZM5Wenq7Y2Fjb04ENGzZ0EJk4caKGDh1q+61gwYKqX7++0tLStHnzZttv/iwQGk84GnEePnxYMTExGjVqlLp27WobZ968eXrzzTdtY5ctW1YbN25UxYoV/Z49FhUPSJ0V/obMy31huBYIFz4pHfrFPp/md0t1u3sAQxMEEEAAAQQQQAABBBBAAAEEEEAAAQQQCJYAe7nBkmacYApQIAymtoXHMgp/0dHRec7QeI1njx49bG169uypGTNmOLQ3Xiu6du1aNW/eXI0aNVJcXJxGjx6t5557ztbOnwVC40lF44lF45g2bZp69+7tEMv06dPVp08f229G0fLjjz/2e/ZYVDwgtXqBcMGj0pEtdoiW90q1u3gAQxMEEEAAAQQQQAABBBBAAAEEEEAAAQQQCJYAe7nBkmacYApQIAymNmOpTp06tu8MGq8aNb5R6O4IRIHQeGrQeCLQKGoarzpduHCh0zA6deqkb775xlb4NJ44NJ4m9OfBouKBptULhHNHSok77BCtHpRquH9VrwdyNEEAAQQQQAABBBBAAAEEEEAAAQQQQAABPwmwl+snSLoxlQAFQlOlw/rBGN/zM17ZmZCQoJSUFLcTDkSB8KOPPtKwYcNsY0+dOlV9+/Z1Godxrn///rZz48eP19133+02Xm8asKh4oGX1AuGc+6UTe+0Q1z8sVW/nAQxNEEAAAQQQQAABBBBAAAEEEEAAAQQQQCBYE0DtZwAAIABJREFUAuzlBkuacYIpQIEwmNoRPtaWLVvUoEED25N7RqHQ+A6huyMQBcI77rhDkyZNsg198OBBlStXzmkYxrkKFSrYzhnXXHwlqbuYPT3PouKBlNULhDOHSSf/skO0/adUtbUHMDRBAAEEEEAAAQQQQAABBBBAAAEEEEAAgWAJsJcbLGnGCaYABcJgakfgWGfOnLG9nnPu3Ll67bXXZLze0ziMAt3AgQPdigSiQNisWTNt2LBBRYsWVVJSUp4xGG1Onjwp4xrjG4n+PFhUPNC0eoFw+lDpdI5X7f7jX9IVLTyAoQkCCCCAAAIIIIAAAggggAACCCCAAAIIBEuAvdxgSTNOMAUoEAZTO0LGmjhxooYOHepyto888oitWBgVFeVWJBAFQuOJQaNQWa9ePf366695xlC/fn399ttvtqcMjScKvTmMRSOvw+ivefPmtib79+9XpUqVvOk+MtpavUD4xUApNUeRusPzUsVrIiO3zBIBBBBAAAEEEEAAAQQQQAABBBBAAIEwEaBAGCaJIkyvBCgQesVFY08EXBUIGzVqpHHjxqlFC8+fkApEgbBIkSIynmw04li7dm2eUzLaGE8OevrNxJydeVIAvdieAqGLNFi9QHjp/Dq9LJVr4Mm/ZrRBAAEEEEAAAQQQQAABBBBAAAEEEEAAgSAJUCAMEjTDBFWAAmFQuSNjMOO1nRefnktNTdXOnTs1bdo0zZo1S9WrV9fbb7+trl27eoQRiAJhdHS0MjIydP3112vFihV5xnHDDTdo5cqVMq5JS0vzKOaLjSgQesXlvHGkFQg7vy6VqeMHOLpAAAEEEEAAAQQQQAABBBBAAAEEEEAAAX8JUCD0lyT9mEmAAqGZsmHxWIzvDg4ePNj2atEJEyZoyJAhbmcciAJhsJ4g5BWjbtPrvoGVC4Tnz0hT+jgatLxPqt3ZvQstEEAAAQQQQAABBBBAAAEEEEAAAQQQQCBoAhQIg0bNQEEUoEAYRGyGkvr27Wt7mtAo0hmv1SxevHieLIEoEAbrG4Tu8s2i4k5IkpULhOdSpM/7OyK0fki66kYPYGiCAAIIIIAAAggggAACCCCAAAIIIIAAAsESYC83WNKME0wBCoTB1GYsTZkyRQMGDLBJTJ48WbfffnvQC4RNmzbVxo0bVbRoURmvQ83rMNqcPHlSzZo1s32L0J8Hi4oHmpFWIOw9USpSygMYmiCAAAIIIIAAAggggAACCCCAAAIIIIBAsATYyw2WNOMEU4ACYTC1GUuLFy9Wx44dbRJjxozRE088kadKIJ4gvOOOO2S87tQ4Dh48KOOJQmeHca5ChQq2U8Y1n3zyiV8zyKLiAaeVC4SpSdIXAx0R+k6S4vN+qtYDNZoggAACCCCAAAIIIIAAAggggAACCCCAgB8F2Mv1IyZdmUaAAqFpUhEZgUycOFFDhw61TXbs2LF64IEH8px4IAqE48eP1/Dhw23jTp061fbaU2eHca5//6xXQH744YcaNmyYX5PEouIBp5ULhGeOS9PucEToN0WKu9wDGJoggAACCCCAAAIIIIAAAggggAACCCCAQLAE2MsNljTjBFOAAmEwtRlLXbp00YIFC2wSy5YtU9u2bfNUCUSB8NChQ6pYsaIyMjJ00003aeHChU5j6NSpk7755hsVKFBABw4ccPmkoa9pZVHxQM7KBcLTx6TpQxwR+k+VCiV4AEMTBBBAAAEEEEAAAQQQQAABBBBAAAEEEAiWAHu5wZJmnGAKUCAMpraFxzKeDOzXr5/i4uJczvKtt97SqFGjbOerVq2q7du3KyYmJk8VXwqERtFx+fLltn53795tG+vSI+drRqdPn65evXo5NDF+69Onj+23wYMHy5ifvw8WFQ9ErVwgPHVE+vJOR4QB06WC8R7A0AQBBBBAAAEEEEAAAQQQQAABBBBAAAEEgiXAXm6wpBknmAIUCIOpbeGxjCJcSkqKbrvtNrVu3VrVq1dXQkKC7bfNmzdr8uTJWr16tU0gNjZW8+fPV/v27XOJXFqImz17tubMmWNr9/jjj6t27drZ11x11VW2sS49PCkQ7t+/X02aNNHRo0dtRcqHH35YXbt2tXU1b948vfHGG0pLS1Pp0qX1448/qlKlSn7PHouKB6RWLhCmHJJm/I8jwsAZUkwhD2BoggACCCCAAAIIIIAAAggggAACCCCAAALBEmAvN1jSjBNMAQqEwdS28FhGgXDv3r1uZ2gU2j7++GN16NDBaduoqCi3fVxs4OrJPk8KhEYf69at06233irjlaPOjnLlyskoULZo0cLjmLxpyKLigZaVC4TJB6RZWd/CzD4GzZai836q1gM1miCAAAIIIIAAAggggAACCCCAAAIIIICAHwXYy/UjJl2ZRoACoWlSEd6B7Ny5U0uWLLF9V3DLli06fPiwEhMTba8cLVu2rBo1amR7Qs94bWfhwoVdTjaYBUIjiGPHjumdd96xFQL37Nlji6tatWrq3r27Ro4cqZIlSwYsMSwqHtBauUCYtE+afZ8jwuC5khdFcg8EaYIAAggggAACCCCAAAIIIIAAAggggAAC+RRgLzefgFxuSgEKhKZMC0FFggCLigdZDucC4a7l0o+fSAULS9f9r1S6puOEj++WvnrA8bch8zxAoQkCCCCAAAIIIIAAAggggAACCCCAAAIIBFOAvdxgajNWsAQoEAZLmnEQuESARcWDWyJcC4TnUnRkQl8dOn5SsTEFVLnG1Spy27uOE07cKc190P5bVAFp8FceoNAEAQQQQAABBBBAAAEEEEAAAQQQQAABBIIpwF5uMLUZK1gCFAiDJc04CFAg9P4eCNMCYfIPU7Vl7jvKzMyacsmEWNV87DvH14ce2yHNG2k3iS4oDZrlvRFXIIAAAggggAACCCCAAAIIIIAAAggggEBABSgQBpSXzkMkQIEwRPAMiwCLigf3QH4LhD3HS5dX8GAg/zZZ/N/nlbDra4dOr312uRQTK6WdlzLTJeMbhPMftreJKSQNnOHfQOgNAQQQQAABBBBAAAEEEEAAAQQQQAABBPItwF5uvgnpwIQCFAhNmBRCigwBFhUP8pzfAmHV1lLbf3owkH+bfPnuY6p4ZKVjgfDpRdLuFdK6cVKBgtKVbaTti+1tCsZLA6b7NxB6QwABBBBAAAEEEEAAAQQQQAABBBBAAIF8C7CXm29COjChAAVCEyaFkCJDgEXFgzznt0AYHSsNmunBQP5t8sUbD+iKpA2OBcLHZktfjZAupDofLDZBun2qfwOhNwQQQAABBBBAAAEEEEAAAQQQQAABBBDItwB7ufkmpAMTClAgNGFSCCkyBFhU3OQ5NUn6YmDuRkPm5f7NWSHRaBWqAuFrw3VFyi8OcbYY/p4KLHnG9aQLXS71nxIZNz+zRAABBBBAAAEEEEAAAQQQQAABBBBAIIwE2MsNo2QRqscCFAg9pqIhAv4VYFHJwzMjXfruFWnfmtyNwqBA+OXLQ1XxzFaH2BsPfUNxK8a4nnRcUanfZP/eZPSGAAIIIIAAAggggAACCCCAAAIIIIAAAvkWYC8334R0YEIBCoQmTAohRYYAi4qLPKedk755SjrqWGDLbh0GBcK5L/VVqbP7HCZYr/+Lumz9m8rIkNIzMpSWkalCBaMVHRWV1S6+uNR3UmTc/MwSAQQQQAABBBBAAAEEEEAAAQQQQACBMBJgLzeMkkWoHgtQIPSYioYI+FeARcWF5/bF0up3XGOHQYFw0Qu36LLzRx3mULPHP7Vjziu2AuHFo0GlokooFJP1x8IlpT6f+PcmozcEEEAAAQQQQAABBBBAAAEEEEAAAQQQyLcAe7n5JqQDEwpQIDRhUggpMgRYVFzkeda9UvJ+1zdBGBQIVz53o2LSzjjM4cqbR2jfoveUlp6Z/XvdCpepaHxs1p+LlJZ6/zcybn5miQACCCCAAAIIIIAAAggggAACCCCAQBgJsJcbRskiVI8FKBB6TEVDBPwrwKLiwjPcC4QZGVr/fGul5ygEGjOtXbeBdm//Tecu2B8hrFUuQSWKFMqCSCgr9Zrg35uM3hBAAAEEEEAAAQQQQAABBBBAAAEEEEAg3wLs5eabkA5MKECB0IRJIaTIEGBRCUKBMKaQNHBGUG+ojNSTWvfyTZL9QUHb+PUrXq5dx07rzLn07HjKF41T1VJFsv58eQWp5/igxspgCCCAAAIIIIAAAggggAACCCCAAAIIIOBegL1c90a0CD8BCoThlzMitogAi4qLRPrzCcIQFAhPHd2nzWP75pqc8TrRvcfP6PRZe4Gw1GWxqlHmsqy2RStJPcZZ5O5mGggggAACCCCAAAIIIIAAAggggAACCFhHgL1c6+SSmdgFKBByNyAQIgEWFWsWCA/t/Fm7J96Ta3K1y1+mrQdTHH4vc3khVS+dkPVbsSukW98P0d3IsAgggAACCCCAAAIIIIAAAggggAACCCDgSoC9XO4NKwpQILRiVplTWAiwqLgqEN4jJf/pOodD5uU+N7Gr8/YheIJw24ZvdXzOU7niqVE2QafPpemvpLPZ5xyeICxeRer+XljcuwSJAAIIIIAAAggggAACCCCAAAIIIIBAJAmwlxtJ2Y6cuVIgjJxcM1OTCbCoWLNA+OOymTr37eu5Jndl6SI6n5ahP0+kZp8rkRCrWmX/fsVoiSulW8aa7C4lHAQQQAABBBBAAAEEEEAAAQQQQAABBBBgL5d7wIoCFAitmFXmFBYCLCrWLBCunfdfZa4bn2tyV5SMlxSlfYlnss8VK1xQdcpfnvXnktWlbu+Exb1LkAgggAACCCCAAAIIIIAAAggggAACCESSAHu5kZTtyJkrBcLIyTUzNZkAi4o1C4Qrp7+jmF+m5pqcUQw0/rfnmL1AeHl8jOpVKJrVtlQNqetbJrtLCQcBBBBAAAEEEEAAAQQQQAABBBBAAAEE2MvlHrCiAAVCK2aVOYWFAIuKNQuE3336ggptX+B0csZrRncdPZ19LiEuRg0q/l0gLF1b6vLvsLh3CRIBBBBAAAEEEEAAAQQQQAABBBBAAIFIEmAvN5KyHTlzpUAYOblmpiYTYFFxkZCZw6WTB1xna8i83OcmdnXePqaQNHBGUDO/7KPHFLdvZa4xC8ZEqUrJItpx+FT2ucKFonV1pWJZfy5TV+r8WlBjZTAEEEAAAQQQQAABBBBAAAEEEEAAAQQQcC/AXq57I1qEnwAFwvDLGRFbRIBFxUUi/VogjJMGfhnUO2bZf+5T3OFNTsesUTZB23MUCOMKFlDjK4pntS1bX7r5laDGymAIIIAAAggggAACCCCAAAIIIIAAAggg4F6AvVz3RrQIPwEKhOGXMyK2iACLiotEzhwmnfzLdZa9eoIw+AXC5W8OUuyJHU7jL3VZrI6lnM8+FxtTQE2q/F0gLNdQ6jTGInc300AAAQQQQAABBBBAAAEEEEAAAQQQQMA6AuzlWieXzMQuQIGQuwGBEAmwqFizQLjqtZ6KTjnovECYEKtjp+wFwpjoKDWrWiKrbYVGUscXQ3Q3MiwCCCCAAAIIIIAAAggggAACCCCAAAIIuBJgL5d7w4oCFAitmFXmFBYCLCrWLBCufamjMs+mOJ1cxeLxOnAiNftcgSipxZUls/5c8Rqpw/Nhce8SJAIIIIAAAggggAACCCCAAAIIIIAAApEkwF5uJGU7cuZKgTBycs1MTSbAouKnAmFmpvRJN+edxQT5FaOZmdr4Qmudv5DhNJ7KJeK1/7i9QGg0alm9hKIUJVVsInV4zmR3KeEggAACCCCAAAIIIIAAAggggAACCCCAAHu53ANWFKBAaMWsMqewEGBR8VOBcNtCac1/TFEgzDyXonXGE4SZ9nDqV7xcxrcGjSM9I1M/7092iLX5lSUUHRUlVW4u3fhMWNy7BIkAAggggAACCCCAAAIIIIAAAggggEAkCbCXG0nZjpy5UiCMnFwzU5MJsKj4qUA4savrzAb5CcJzyYf04797OMTT6Ipiii8YbfvtfFq6Nu5NcjhftVRhlS8aL13RUvrH0ya7SwkHAQQQQAABBBBAAAEEEEAAAQQQQAABBNjL5R6wogAFQitmlTmFhQCLivUKhEmH9mjLe/0dJlZ9xAyV+XqY7be0jAz9sPuEw/kKxeNUpUQRqcp1Ursnw+LeJUgEEEAAAQQQQAABBBBAAAEEEEAAAQQiSYC93EjKduTMlQJh5OSamZpMgEXFegXCQ3u2aPeEO7MnZrxptP6Ty3X5+nek3cuVkZmpH/YcV0aOTxRmP0FYtbXU9p8mu0sJBwEEEEAAAQQQQAABBBBAAAEEEEAAAQTYy+UesKIABUIrZpU5hYUAi4r1CoT7tm7QgckPOEys2ejVikk7I33ez/b7vuNndOBEanabaqUKq5zxitFqbaQ2j4bFvUuQCCCAAAIIIIAAAggggAACCCCAAAIIRJIAe7mRlO3ImSsFwsjJNTM1mQCLiouEzLhbSjnoOltD5jmeM9E3CPesmqqD37yTHV9UlNTy+TVZf147Tto6T5nK1Jlz6Tqblm77uXBsTNY3Cq9sK93wiMnuUsJBAAEEEEAAAQQQQAABBBBAAAEEEEAAAfZyuQesKECB0IpZZU5hIcCi4iJNM/5HSjnkOocmLhAemnKfdm/ZlB17THSUmo3+3j6X08ekVW9JB3/OPb/q/5CuHxUW9y5BIoAAAggggAACCCCAAAIIIIAAAgggEEkC7OVGUrYjZ64UCCMn18zUZAIsKi4S8uVd0qnDYVkg3Lx4kk6teD879tiYAmry7GrHuax6W9qxJPf8rmovtR5psruUcBBAAAEEEEAAAQQQQAABBBBAAAEEEECAvVzuASsKUCC0YlaZU1gIsKhYr0C4YdEUXVj5bvbEkguVU6enZzlOdM370rYFuSdfo6PU6n/D4t4lSAQQQAABBBBAAAEEEEAAAQQQQAABBCJJgL3cSMp25MyVAmHk5JqZmkyARSUIBcKC8dKA6UHL/Lr5/1XG2vHZ4x0sXEM9n/jUcfx146UtX+WOqWYn6boRQYuVgRBAAAEEEEAAAQQQQAABBBBAAAEEEEDAMwH2cj1zolV4CVAgDK98Ea2FBFhUrFcgXD1rnAr8+Im9QHhZPfV87P8cJ7rhY+nXmbknX6uzdO19FrrDmQoCCCCAAAIIIIAAAggggAACCCCAAALWEGAv1xp5ZBaOAhQIuSMQCJEAi4qrAuGd0qkjrrMyZJ7juYldXbcN8hOEK6a9o4Kbp2bH81exxrrtYfs3CW0nNn0m/Wxvk924TjepxfAQ3Y0MiwACCCCAAAIIIIAAAggggAACCCCAAAKuBNjL5d6wogAFQitmlTmFhQCLios0TR8qnT7qOocmLhB+N+U1Fdpi/+bgwZIt1HPk245zMYqDRpHw0qNud6n53WFx7xIkAggggAACCCCAAAIIIIAAAggggAACkSTAXm4kZTty5kqBMHJyzUxNJsCiYr0C4befvKD4HQuyJ3aw7A3qOeJVx4lu/lLaODH35OvdKjX7H5PdpYSDAAIIIIAAAggggAACCCCAAAIIIIAAAuzlcg9YUYACoRWzypzCQoBFxXoFwiUTnlaRPUvtBcKK7dXznhccJ/r7V9L68bknX7+n1PTOsLh3CRIBBBBAAAEEEEAAAQQQQAABBBBAAIFIEmAvN5KyHTlzpUAYOblmpiYTYFFxVSAcIp0+5jpb3rxi1Ojl0vYBvA+WjXtIcQfWZo9wuEpn3fo//3IccdvX0pr3ckfRoLfUZHAAo6NrBBBAAAEEEEAAAQQQQAABBBBAAAEEEPBFgL1cX9S4xuwCFAjNniHis6wAi4qL1E4P3wLhztfb6sjJc9kTO1/pWrUZ/qbjRLcvlla/k3vyDftI19xh2fudiSGAAAIIIIAAAggggAACCCCAAAIIIBCuAuzlhmvmiDsvAQqE3B8IhEiARcV6BcLtr7bRsVPnsydWsXicrhi1zHGiu76TVvw79+Sv7ic1Hhiiu5FhEUAAAQQQQAABBBBAAAEEEEAAAQQQQMCVAHu53BtWFKBAaMWshmBOJ0+e1IIFC/TDDz9ow4YNOnDggI4eParU1FQVK1ZMdevWVefOnXXXXXepZMmSbiNcuHChxo8fr/Xr19v6KV26tJo3b65hw4apU6dObq9316Bq1arau3evu2aqUqWK9uzZ47adLw1YVFyohfEThFtfuUEnTl/Inlix8leqzn2THSe693tp2Zjck280QGrU35dbiWsQQAABBBBAAAEEEEAAAQQQQAABBBBAIIAC7OUGEJeuQyZAgTBk9NYaeMmSJerQoYPbSZUqVUqfffaZbrrpJqdtMzMzdc8999iKg64Oo0g4btw4RUVFuR3PVQMKhD7TBf7CaYOlM4muxzHxNwg3v3S9Tp1Ny4496bp/6uabuzvO5c8N0pLRuefXeJB0dd/A+zICAggggAACCCCAAAIIIIAAAggggAACCHglQIHQKy4ah4kABcIwSZTZwzQKhHfeeafatWunJk2aqHLlyipfvrwyMjJk/OX55ZdfaubMmUpPT1dsbKztScOGDRvmmtZTTz2lMWOynq5q3LixHnvsMVWvXl07d+7Ua6+9pk2bNtnOGe1efPFFn1kuFgi7d++eZz9GrDVr1vR5nLwuZFFxoRPGBcJ1L7RVxnn7NwjTbv63rr+uleNED/4sffNU7slfM1hq2Dsg9xqdIoAAAggggAACCCCAAAIIIIAAAggggIDvAuzl+m7HleYVoEBo3tyEVWRG4S86OjrPmGfPnq0ePXrY2vTs2VMzZsxwaL9jxw7VqVNHaWlpatq0qVasWKH4+PjsNmfOnFGbNm1srzCNiYnR1q1bbcVDX46LBcLBgwdr4sSJvnSR72tYVFwQTrtDOnPcta9ZnyDMzNQPz7dWWlpGduwFe76npo2vcZzLkS3Sgkdzz6/JEKlBr3zfV3SAAAIIIIAAAggggAACCCCAAAIIIIAAAv4VYC/Xv570Zg4BCoTmyEPERGEUAI3CnvGqUePbgjmP+++/X++//77tpzVr1qhly5a5XNauXatrr73W9vuIESP07rvv+mRHgdAntuBc9MUgKfWE67HMViA8lyKtHScd3qx1v21Xhr0+qMsGfar6NWs4ziVxpzT3wdzza3aXVC+rgM6BAAIIIIAAAggggAACCCCAAAIIIIAAAuYRoEBonlwQif8EKBD6z5KePBAwngzcuHGjEhISlJKSkn2F8e1B47WkBw4cUO3atbVlyxaXvRnnt23bpkqVKmnfvn0+fYuQAqEHyQpVk3ArEP74qfTLNGVkZmrdLscnH8vcM0vVK5ZzlEzaJ82+L7du87ulupd8rzBUOWBcBBBAAAEEEEAAAQQQQAABBBBAAAEEEMgWoEDIzWBFAQqEVsyqSedkFP0aNGhg+w6hUSg0vkN48di1a1f260KHDx+ucePGuZyFcX78+PG288Z11apV83rGFAi9JgveBeFWIJzY1WaTlpGhH3Y7PvlY5aHFqlAiwdEu5ZA0439yezYfJtW9JXjOjIQAAggggAACCCCAAAIIIIAAAggggAACHglQIPSIiUZhJkCBMMwSFm7hGt8NNJ4KnDt3rl577TUdPnzYNoVJkyZp4MCB2dOZP3++unbNKrS89dZbGjlypMupGudHjRplO29c17lzZ69ZLhYIjeKi8TTjzp07ZTzFWLZsWTVv3lz9+/dX9+7dfXo60dNgWFRcSJm1QGi8O3TLHOn4LqlaW6lSE+ncKenzfraJnEtL1497kxwmVffJFSoaX9Bxosb3FY3vLF56tLxXqt3F09uHdggggAACCCCAAAIIIIAAAggggAACCCAQJAH2coMEzTBBFaBAGFTuyBhs4sSJGjp0qMvJPvLII7ZiYVRUVHYb44nBe++91/bn6dOnq1evXi6v//LLL9W7d2/beeM644lCb4+LBcK8rmvVqpW++OILVaxY0dvube2NRSOv4+DBg7ZipHHs37/f9spUDklmLRD+Pkda/5E9Rd3/Ix3bLq1+x/bbmfNp+nl/skMKm41erZjoAo5pNb5Z+Hn/3Km+9n6p1s3cAggggAACCCCAAAIIIIAAAggggAACCCBgMgEKhCZLCOH4RYACoV8Y6SSngKsCYaNGjWwFvRYtWuQCe/311/XYY4/Zfv/666/VqVMnl6jG+YtPDf773//Www8/7HUCatasqTp16qhjx46qX7++ihYtqqSkJK1Zs0YffPCBrWBnHEYb4zfjvLdHzgKou2spEOYQ+mKglOr4JJ6D35B5jpx/v+LTpfGl7d0lw9X5S8ep2ESq001aMtp2Rcq5C/r1z5PZVx+NKqFbnp+fu7e0c9Jnt+X+/boHpJo3+Rod1yGAAAIIIIAAAggggAACCCCAAAIIIIBAgAQoEAYIlm5DKkCBMKT81hzcKLRdfHouNTXV9vrOadOmadasWbbvDL799tvZrxO9KPDCCy/omWeesf1x6dKl+sc//uES59tvv9WNN95oO29c9/TTT3sNacRYrFgxp9elpKTYnmBctGiR7fxDDz2kN9980+sxKBB6TZZ1QbgUCAuXlDo8J80ZYQs7OfW8fv8rJXvSR2LKqfuzs3IjGK8q/dTJtwZbPSjV6OAjGpchgAACCCCAAAIIIIAAAggggAACCCCAQKAEKBAGSpZ+QylAgTCU+hE2tvHdwcGDB9teLTphwgQNGTIkWyDYTxC6o09OTrYVMxMTE1WkSBEdP35csbGx7i5zOM8rRr3isjcOlwJhkdLSjc9IXz1gi/346XPaduhU9jwOFaqiHk9PdY7waXcpI93xXOuHpKuyCt8cCCCAAAIIIIAAAggggAACCCCAAAIIIGAeAQqE5skFkfhPgAKh/yzpyQOBvn372p4mNIpuxms1ixcvbrsq2N8g9CBUjRgxQu+9956t6erVq3Xdddd5cpnHbVhUXFBNHSCddfyWn0NLs7xiNL641OH57ALh0ZRz4tjRAAAgAElEQVSz2nHkdHaohwrXUI8nPnU+ycm9pQupjueuf1iq3s7j+4eGCCCAAAIIIIAAAggggAACCCCAAAIIIBAcAfZyg+PMKMEVoEAYXO+IH23KlCkaMGCAzWHy5Mm6/fbbbf88b948devWzfbPb731lkaOHOnSyjg/atQo2/n58+dnf4/Q37jvv/++7r//flu3RlGzd+/efh2CRcUFZ7gUCI3wu7wpzc+6Fw8lp2r3sTPZkzpXpILa/nOG80k6m2PzYVJdJ68e9etdR2cIIIAAAggggAACCCCAAAIIIIAAAggg4K0Ae7neitE+HAQoEIZDliwU4+LFi9WxY0fbjMaMGaMnnnjC9s+7du2yvdLTOIYPH257otDVYZwfP3589nXVqlULiJDx9KDxFKFxUCAMCLHzTsOpQNj2Cem7l23zOJCUqn2J9gJhscIFVeeJFc7nOH2IdPqY47nLK0g9s+5rDgQQQAABBBBAAAEEEEAAAQQQQAABBBAwjwAFQvPkgkj8J0CB0H+W9OSBwMSJEzV06FBby7Fjx+qBB7K+35aZmalKlSrpr7/+Uu3atbVlyxaXvdWpU0dbt25VxYoVba8pNb5pGIjDeHrQeIrQOFatWqVWrVr5dRgWFRec4VQgNF4LuvINnUtL197EM0o8dT57UiUTYlXz8eXOJzmxa+7f44tJfT/z6z1GZwgggAACCCCAAAIIIIAAAggggAACCCCQfwH2cvNvSA/mE6BAaL6cWDqiLl26aMGCBbY5Llu2TG3bts2e73333acPPvjA9uc1a9aoZcuWuSzWrl2ra6+91va70f7iNwL9jZacnGx7ojExMVGFCxfW8ePHVahQIb8Ow6LigjOcCoTV2+nIpq+169hpZWY6zqfM5YVU/dHvnE/SWYEwrqjUb7Jf7zE6QwABBBBAAAEEEEAAAQQQQAABBBBAAIH8C7CXm39DejCfAAVC8+UkLCMyngzs16+f4uLiXMaf89uBVatW1fbt2xUTE5Pd/o8//lC9evWUlpampk2basWKFYqPj88+n5qaqhtuuEEbNmywXff777+rRo0aucYzio7Ll2c9ubV7924ZY+U8Fi5cqDZt2jj0nfN8SkqKevXqpUWLFtl+Np5yNJ529PfBouJCNJwKhEYxe2ei04kULVlWdUfOdj5JZwXChn2lawb5+zajPwQQQAABBBBAAAEEEEAAAQQQQAABBBDIpwB7ufkE5HJTClAgNGVawi8oowhnFNZuu+02tW7d2vb0XUJCgu23zZs3a/LkyVq9erVtYrGxsZo/f77at2+fa6LGNwlfeeUV2++NGzfW448/butr586devXVV7Vp0ybbOaOd8Q1DZ4e7AqFx3oipZ8+eDrEmJSXZnlw0nmI0Xl1qHLVq1dL333+vEiVK+D0pLCouSD+/XTp30rX3kHmO55wV23K2uLS9r5l0Ms7ZC+natC/JaY9/Nhyh3r0HOB/NWcyNB0pX9/M1Oq5DAAEEEEAAAQQQQAABBBBAAAEEEEAAgQAJsJcbIFi6DakABcKQ8ltncKNAuHfvXrcTMr4z+PHHH6tDhw5O22ZkZOjuu++2tXF13HXXXRo/frwKFCjgtIknBcKLTxjmFbDxtOKUKVNs3zoMxMGi4kLVmwLh9sXS6nfyTk8AC4RJZ85ry8EUp+P/1fxJ3datm/PYnBUIu7wpla4ZiFuNPhFAAAEEEEAAAQQQQAABBBBAAAEEEEAgHwLs5eYDj0tNK0CB0LSpCa/AjCf8lixZYvuu4JYtW3T48GHb9/uMV46WLVtWjRo1UteuXdWnTx/bN/3cHcZ3Co0i4A8//KBjx46pVKlSatasmYYPH66bb745z8vdFQiNV5QuXbrU9rTgtm3bbP0bTw8acVWoUEEtWrRQ//791bFjR0VFRbkL1efzLCou6LwpELp7etAYIoAFwsTT5/THoVNOJ5J4/bPq2rGT80k6i3vwXCmA95vPNyoXIoAAAggggAACCCCAAAIIIIAAAgggEOEC7OVG+A1g0elTILRoYpmW+QVYVFwVCPtL55w/lWe7ImfBL8QFwiMpZ7XzyGmnE0lvNVKtO/V1Psk9q6Tvsl6lazta3CPV6Wr+m5YIEUAAAQQQQAABBBBAAAEEEEAAAQQQiEAB9nIjMOkRMGUKhBGQZKZoTgEWFRd5mdJPOu/8qTzbFSYqEB5MTtWeY2ecTiT2hgfVpIOLbwpmpEs/TZH+/EEqW09qMlSKiTXnjUpUCCCAAAIIIIAAAggggAACCCCAAAIIRLgAe7kRfgNYdPoUCC2aWKZlfgEWlfAvEP554oz2H091OpEiHZ9Qw+tvMf+NSIQIIIAAAggggAACCCCAAAIIIIAAAgggkKcAe7ncIFYUoEBoxawyp7AQYFEJ/wLh3sTT+ivprNOJlOjyL9Vq2Tks7kWCRAABBBBAAAEEEEAAAQQQQAABBBBAAAHXAuzlcndYUYACoRWzypzCQoBFJfwLhLuOndLh5HNOJ1Jm4DhVr3V1WNyLBIkAAggggAACCCCAAAIIIIAAAggggAACFAi5ByJLgAJhZOWb2ZpIgAJh+BcIdxxJ0dGU804nUnHkUl1RsrCJ7jhCQQABBBBAAAEEEEAAAQQQQAABBBBAAAFfBNjL9UWNa8wuQIHQ7BkiPssKsKiEf4Fw26GTOn76Qq6JTEpvr+effFqlEgpZ9v5lYggggAACCCCAAAIIIIAAAggggAACCESKAHu5kZLpyJonBcLIyjezNZEAi4qLZEzuI1044zpTQ+bZz03s6j6jOdu7b+26hZOxfvsrWSdT07Kv+TC9i/ZkltOhmIr65dmbFBtTID8jci0CCCCAAAIIIIAAAggggAACCCCAAAIImECAvVwTJIEQ/C5AgdDvpHSIgGcCLCounMKoQLj5QJJOnU3PnsjdF0bplArr3rbV9Xin2p7dCLRCAAEEEEAAAQQQQAABBBBAAAEEEEAAAVMLsJdr6vQQnI8CFAh9hOMyBPIrwKIS/gXCn/afUOr5jOyJLL7mP7qtxVWqW/5yRUVF5fcW4XoEEEAAAQQQQAABBBBAAAEEEEAAAQQQMIEAe7kmSAIh+F2AAqHfSekQAc8EWFRcFQh7SxdSXSMOnitdLL6F+BWjG/ee0Pk0e4Hw3O0z1LZOBc9uAFohgAACCCCAAAIIIIAAAggggAACCCCAQFgIsJcbFmkiSC8FKBB6CUZzBPwlwKIS/gXC9buPKz0jM3siMXfOU7NqJf11i9APAggggAACCCCAAAIIIIAAAggggAACCJhAgL1cEySBEPwuQIHQ76R0iIBnAiwqPhYI7/hKKlAg6+JgPEF4/oz046fS1nkOAWcqU2t3HZfs9UEVvfcb1a1wuWc3AK0QQAABBBBAAAEEEEAAAQQQQAABBBBAICwE2MsNizQRpJcCFAi9BKM5Av4SYFFxITnZzStG75gjFYjOujgYBcLv/yP9sTBXsMaTg8YThDmPiiOX6oqShf11i9APAggggAACCCCAAAIIIIAAAggggAACCJhAgL1cEySBEPwuQIHQ76R0iIBnAiwqLpzcFQgHzZaiY7IuDkaB0MUY59PTtXFPksMkaj7+nUomFPLsBqAVAggggAACCCCAAAIIIIAAAggggAACCISFAHu5YZEmgvRSgAKhl2A0R8BfAiwqLiTdFf0GzZKiC2Zd7K6t0WaI46tBvc6fizFSL6Tpp33J2d0Zbxq95plViiv499ONXg/EBQgggAACCCCAAAIIIIAAAggggAACCCBgRgH2cs2YFWLKrwAFwvwKcj0CPgqwqLiAc1f0GzhTionNuthdW6NNgAqEp86lafOf9gLh6xn9NePFBxQVFeXjHcFlCCCAAAIIIIAAAggggAACCCCAAAIIIGBGAfZyzZgVYsqvAAXC/ApyPQI+CrCouIBzV/QbOEOK+fs1nu7a5rdAmJkpfdLNaaAnzpzX1oMp2eeeSrtT3758t493A5chgAACCCCAAAIIIIAAAggggAACCCCAgFkF2Ms1a2aIKz8CFAjzo8e1CORDgEXFxwJhv8lSXNGsiwNZIDSKg9++IO1f7zTQLYdOKun0hexzT6cN1dKXh+XjjuBSBBBAAAEEEEAgdAIZGRk6deqUTp48qfPnzys9PT10wTByRAtER0ercOHCKlasmOLi4iLagskjgAACCCCAgHkE2Ms1Ty6IxH8CFAj9Z0lPCHglwKLigstd0e/aEVKtTlkXu2trtPH1FaMHfpQWP+Myp2t2Jjqco0Do1e1PYwQQQAABBBAwkUBKSooOHDigTOM/kOJAwEQCRYsWVfny5XmNv4lyQigIIIAAAghEqgB7uZGaeWvPmwKhtfPL7EwswKLiIjnuin7Nh0l1b8m62F1bo42vBcLvXpX2rHR5B11aIBxw4UntesX560hNfBsSGgIIIIAAAghEuICz4qDxTWXjKS4OBEIhkJaW5jBs6dKlVapUqVCEwpgIIIAAAggggEC2AHu53AxWFKBAaMWsMqewEGBRcZEmd0W/ZndJ9XpkXeyurdEmQAXCzQeSdeqsffPi/apva9JdLcLi3iNIBBBAAAEEEEDAEDBeK/rHH39kPzmYkJCgEiVK2F7vaBQJORAIhYDxetukpCQdOXIke/jq1asrNjY2FOEwJgIIIIAAAgggYBNgL5cbwYoCFAitmFXmFBYCLCou0uSu6NdkiNSgV9bF7toabXwuEL4i7Vnl8l765c8knT5n/zbP/u7T1Kdp5bC49wgSAQQQQAABBBAwBIzvDRqvFjUOozhYqVIlCoPcGqYRMAqEiYlZr/UvW7asrXjNgQACCCCAAAIIhEqAvdxQyTNuIAUoEAZSl74RyEOARcUFjrui3zWDpYa9sy5219Zoc2mB8MRe6ZcvpILx0jV3SHFFnQfyXd4Fwk37T+js+Yzsa5P6zNTNDcpzzyOAAAIIIIAAAmEjYPzfo8YrRo3jiiuuUJEiRcImdgK1vsDZs2e1e/du20SNAnblyvzHeNbPOjNEAAEEEEDAvALs5Zo3N0TmuwAFQt/tuBKBfAmwqLjgc1f0azxIurpv1sXu2hptchYIM9KlaXdIZ5Ozrq/YROrwnPNAlr0s7V3tMsc5v0H4bvqtunfonbq+Rul83RNcjAACCCCAAAIIBFNg165dOnfunO2pwVq1avH0YDDxGcutQGZmprZt22Z7Ba7xelHjNaMcCCCAAAIIIIBAqATYyw2VPOMGUoACYSB16RuBPARYVFzguCv6NbpdMv5nHO7aGm1yFgj3fi8tG+M4sKtXkOZRIEw6c15bDmb91/bG8WjaML17761qfEVx7nkEEEAAAQQQQCBsBLZv3660tDTFxMSoRo0aYRM3gUaOAPdo5OSamSKAAAIIIGB2AfZyzZ4h4vNFgAKhL2pcg4AfBFhUXCC6K/pd3U9qPDDrYndtjTY5C4DbvpbWvOc4sMsC4RjJKCg6OS79/uDIC/dp1j97qUKxeD/cGXSBAAIIIIAAAggER4DiS3CcGcV3Ae5R3+24EgEEEEAAAQT8K8Bern896c0cAhQIzZEHoohAARYVF0l3V/Rr0FtqMjjrYndtjTY5C4Bb50trP3Ac2FWB8NuXpH1rnAaZ8/WiRoN7LzyoH17qo4LRBSLwTmbKCCCAAAIIIBCuAhRfwjVzkRM392jk5JqZIoAAAgggYHYB9nLNniHi80WAAqEvalyDgB8EWFScIP48Vdr0Wd669XtKTe/MauNtgfD3r6T14x37d1Yg/HOjtORZl3FcWiDsf+Ep7Xmlqx/uCrpAAAEEEEAAAQSCJ0DxJXjWjOSbAPeob25chQACCCCAAAL+F2Av1/+m9Bh6AQqEoc8BEUSoAIuKk8R7UvCr211qfreUniZNutX93ZOzAPjbLOmHCXkXCC+kSpN759lv7gLh09rzShf3sdACAQQQQAABBBAwkQDFFxMlg1CcCnCPcmMggAACCCCAgFkE2Ms1SyaIw58CFAj9qUlfCHghwKLiY4GwVmfp2vuk/T9IS59zL56zQLj5S2njxLwLhEYB0Sgk5nFcWiCce814jenRwH0stEAAAQQQQAABBEwkQPHFRMkgFKcC3KPcGAgggAACCCBgFgH2cs2SCeLwpwAFQn9q0hcCXgiwqDjB8uQJwtgE6fap0t7vpWVj3IvnLBA66//SV4y6iSEzM1Nrdx13GLfkiEWqWfYy97HQAgEEEEAAAQQQMJEAxRcTJYNQKBByDyCAAAIIIICAqQXYyzV1egjORwEKhD7CcRkC+RVgUblEMHGnNPdBz1iNot6+tdK3L7pvf7EAeHy39NUDudvf+oH0/bvS2STp6v7Syjfy7DM9I1PrdzsWCCs9tFSVSxR2HwstEEAAAQQQQAABEwlQIAx+Mr777ju1a9fONvCzzz6r0aNHuwwiPT1dM2fO1Jw5c7R+/XodPnxY58+fV9myZVWnTh116dJFAwcOVLFixbyaSHJysj777DPNnz9fv//+u44cOaKCBQva+m3WrJluueUW9erVS9HR0R71e+DAAf3f//2flixZoq1bt8roPyEhQWXKlFH58uXVokULtW3bVq1atdJll3n3H9Vxj3qUAhohgAACCCCAQBAE2MsNAjJDBF2AAmHQyRkQgSwBFpVL7oR5o6Rjf3h2e9gKhOukb19w3/5igfCXadKPn+ZuX6GR9NdPWb9HFZAyM/Ls83x6hjbuOZHd5rCKqfXjs1UqoZD7WGiBAAIIIIAAAgiYSIDiS/CT4WmBcNWqVRo+fPj/s3cf0FFUfR/Hf6mE3qV3pQhIr4KiL00BUQERFCyo2EFERdFHfVD0EQugCCoqCgICYgEUUMQCUgVpAkpHOgk9CaS9507MkiWbZDfZZCfMd87xmOzc+rk3zO78996xAngZHSVLltQrr7yie++916vOmEDesGHDFBkZmWH6yy+/XO+9957atGmTYbqPP/5YjzzyiM6cOZNp/b1799b06dMzTZc6AXPUJy4SI4AAAggggEAOCnAvNwdxKTpgAgQIA0ZPxU4X4KJywQzwZnvRlCwm6OfrMwjXz5TWfJLtaRcbl6C1e45b5cQrWKPje+jTFx5VwXyh2S6bAhBAAAEEEEAAgdwUIPiSm9rJdXkTIJw1a5a1MvDs2bNWHrPisG/fvqpdu7by5cun3bt3a86cOZo6dari4+OtNI8//rhef/31DDv0xBNPuNKEhobq1ltvtVYLVqlSxVqZuHXrVk2bNk2LFi2yyjF1mZWGZjWhp2PGjBlWGWYL/oiICN11113q1KmTKlasaL22f/9+rV692lqpuGbNGhEgzP35Ro0IIIAAAggg4D8B7uX6z5KS7CNAgNA+Y0FLHCbARcV9wBM/7qJ9x2N0PDpORfKHqlLxAgoOCvI8K0yA8J/V0g/pb8nkypiygnDDLOn3SdmeZbsiz+jA8Vi9Ft9bh5KKa79KacfI6xUcnE5bs10jBSCAAAIIIIAAAjkjQIAwZ1wzKjWzAOHatWvVsmVLK2AXHh6uTz75xArCeTrWr1+vrl27au/evdbpd999Vw888IDHtOPGjdPDDz9snatUqZIVYGzQoIHHtJ9//rn69+/vasOKFSvUsGFDt7Rm+1NTzoEDB6xtQ82KxyuuuCLdrm/evFkbNmzQLbfc4hM6c9QnLhIjgAACCCCAQA4KcC83B3EpOmACBAgDRk/FThfgouI+A46+00F/HzrterFG6YK6pEiE52liBQh/l354PvNp5McAYfS5eK3be8Kqs0/cs9b/84UGa+tL12XeDlIggAACCCCAAAI2EyD4kvsDklGAMDEx0Qqybdq0yWqYWc2XXnAwpeXbtm1To0aNdPr0aeXPn996BmDlypXdOmZWHJrVh7GxsdazAU0Q8tJLL82w82Yr0D59+lhp6tWrJxOMDEr15b1ly5apdevW1vmhQ4dq1KhROYLJHM0RVgpFAAEEEEAAgSwIcC83C2hksb0AAULbDxENvFgFuKikGtnYE1r2cme3oQ4NCVKzqiU8D78J+u1bI33/n8ynR0qAcONsafVHmafPIMXeqGj9cyzGSpESICxVKFyrn+2QrXLJjAACCCCAAAIIBEKA4Evuq2cUIPz666914403Wo3q0qWL5s6d61UDzdaiZvtQcwwZMkRvvPGGW77HHntMo0ePtl4zgTwT0PPmMKsTzfag5vjmm2/UrVs3V7bUAcQJEyZYz0vMiYM5mhOqlIkAAggggAACWRHgXm5W1MhjdwEChHYfIdp30QpwUUk1tL+9o2XffZZmrFvVKOl5/E3Qb/9aaeFzmc+PlADhpi+lVR9mnj6DFNuPnNbhk8nPgkkJEF5eroi+HdQ2W+WSGQEEEEAAAQQQCIQAwZfcV88oQHjzzTfryy+/tBq1cOFCdejg3ZfQTpw4oXLlyikmJkYlS5bUkSNHXKv9zLMAS5UqpaioKGuFodkStGjRol513LTBPFPQHDfddJNmz57tymd+7tGjh/X7oEGDXAFIrwr2IRFz1AcskiKAAAIIIIBAjgpwLzdHeSk8QAIECAMET7UIcFE5PweSJnXR8u1R7pMiSGpVPaMA4R/SwuRtPjM8XAHCr6RVEzNLneH5bYdP68gp9wBh28tKafKAFtkql8wIIIAAAggggEAgBAi+5L56RgHC0qVL6+jRoypQoIBOnjypkJAQrxvYuXNnLViwwEq/ceNG1a1b1/Vz/fr1rZ9NsG/+/Plel2meM1ikSBFFR0fLtO3w4cOuvDt37lT16tWt3yMiIqyVhtdee63XZXubkDnqrRTpEEAAAQQQQCCnBbiXm9PClB8IAQKEgVCnTgQkcVE5Pw0SPu6ilTvcA4RhIUFqmtEWowfWSQuGZz6XUgKEy8dLW5K3SMrqse3wKR05dc7KnrKC8IYG5TW2T6OsFkk+BBBAAAEEEEAgYALeBF8SE5N0LDr5/Y9TjuIFwhUcHJQj3U0vQLhv3z5VrFjRqrNVq1b67bfffKr/mWee0SuvvGLl+eyzz9S3b1/Xz7fffrv189NPP62RI0f6VK55zqB53qA5TBvLly/vym+2HE29DWrTpk1lApUtWrSw/jNBxewe3szR7NZBfgQQQAABBBBAwBsB7uV6o0SavCZAgDCvjRjtvWgEuKj8O5RJSYqdeL3W7jnuNrZFC4TJbN/p8TBBv4MbpPlPZz4fUgKEk7pmnjaTFJ5WELarVVqT7mqe7bIpAAEEEEAAAQQQyG0Bb4IvkafPqslLP+R20wJa3+/PtlfJQvlypA3pBQjXrVunhg0bWnVeuJ2nNw0ZM2aMBg8ebCUdO3asHnnkEevn1K+bnx999FFvinOlMW356quvrN/Xr1+vlNWI5nez2vG6667T6tWrPZZZs2ZNdezYUXfddZcaN27sU70pib2Zo1kqmEwIIIAAAggggICPAtzL9RGM5HlCgABhnhgmGnkxCnBR+XdUzxzVvg96a09ktNswlygYrlplC3seeitAuFGaPyzzqZHDAcLxtzXWdfXLZd4OUiCAAAIIIIAAAjYT8Cb4QoDQv4OWXoBwyZIlats2+bnWZsXf5MmTfap44sSJuvfee608L730koYPT95pw/z83HPJz+02aQYMGOBTuaYtZkWiOUwbr7zySrf8cXFx+vDDDzV+/HgrgJjeYcqZMGGCChYs6FP93sxRnwokMQIIIIAAAgggkEUB7uVmEY5sthYgQGjr4aFxF7MAF5V/R/fEPm177zbXs/1SxrxkoXDVLJNBgPDQn9J3T2Y+RUyAMC5W+qxn5mkzSbFse6QrRcoWoztGXp9jW1Blu8EUgAACCCCAAAIIZCDgTfCFAKF/p5A3KwhvvPFGffnllz5VPHr0aD322GNWnvRWEJo0gwYN8qlc05avv/7aynPhCsILC9qzZ48VRFyzZo1Wrlyp5cuXywQQUw7zjMKFCxf69GxFb+aoTx0iMQIIIIAAAgggkEUB7uVmEY5sthYgQGjr4ck7jTt58qS+/fZbrVq1ytpixjyf4siRI4qJiVGxYsV0+eWX6/rrr7e+sVqyZMlMOzZ//ny9//771gdLU455fkXz5s113333Wc+18NcRGRlpfYA22+bs2rVLSUlJqlatmswHYbP9jjdtzWpbuKj8K7f9R2374r+eA4RdB0urPkxLbIJ+hzdL3z6ROb9Je/qIYqb1175jMQoKkioVz6/w0JDM86ZKcS4+Qb/vTt4G9YBKaEjcgxp4dXU9fV0dn8ohMQIIIIAAAgggYBcBb4IvBAj9O1rpBQhTfzZo2bKl67l/3tZuni/46quvWslTP4NwypQp6tevn/X6sGHDXM8p9LZc8zxEE+gzx4XPIMysjKioKL3++uv63//+p8TERCu5WRmZ8kzEzPKb897MUW/KIQ0CCCCAAAIIIJBdAe7lZleQ/HYUIEBox1HJg2364Ycf1KFDh0xbXqpUKZkPqZ06dfKY1gTo7r//fis4mN5hgoRme5ogE+nJxmGCmd27d9eBAwc8llK+fHnr27JNmzbNRi3pZ+Wi8q/NN49qy59/6NiZ898uNmesFYQPTJdmJ2+V5HaYoN+RrdK8xzMfmzvnKnH/Oq378EHFnku+MVEoIlT1KxTNPG+qFFFnzmnrwVPWK3MSW2lqwv/priur6vludX0qh8QIIIAAAggggIBdBLwJviQmJulY9Dm7NDlX2lG8QHiO7RCRXoDQfA665JJLrOf6FShQQOYLmCEh3n+hzXy+MqvzzLFx40bVrZv8HnXDhg264oorrJ9NGvNFTG+PhIQEFSlSRNHR0dYXNg8fPuxtVrd0qYOXN9xwg2tFojeFeTNHvSmHNAgggAACCCCAQHYFuJebXUHy21GAAKEdRyUPtskECO+++25dc801atKkiSpVqqRy5cpZ3xQ1/3jOmjVLs2fPlvmQGR4ebq00TPmgmrq75lkZI0eOtF5q1KiRnnzySdWoUUPbt2/Xa6+9prVr11rnTDrzPI2sHtA3d1sAACAASURBVObbr6adhw4dUmhoqIYMGaKuXbtaxc2dO1dvvvmm4uPjVaZMGf3++++qUKFCVqtKNx8XlX9pfntby76bmsapRMEwlez3ocLnPKy4hESVLJjvfBorQPiXNG9I5uNy51z9tXKBIue84Ja2WbXiCg0Ozjz/vykOnYzVjiNnrN++SrxSnydco3F9G6vLFTx/0GtEEiKAAAIIIICArQQIvuT+cKQXIDQtuemmm6ydTcyxYMECdezY0asGnjhxwvrsZXZvKVGihBVkTPkypQk8mi9pmtV8+fPnt74cWbSod1+UM21I2b3FtM18nsvKsWPHDusznTnMzjKbNm3yuhjmqNdUJEQAAQQQQACBHBbgXm4OA1N8QAQIEAaE/eKr1AT+MvuGq/mwaz5YmuPmm2/WF1984Qaxbds21alTxwrMmVV7v/zyi/UhNuUw31y9+uqrrS1MTVBvy5Ytrg+avoreeeed+uSTT6xsM2bMUK9evdyKmDlzpm655RbrtbvuuksfffSRr1Vkmp6LSjJR4upJWvH1ex69Hot7QG+FjbfOVS5ZQBWK/TsfTIDw6N/S3OTnrGR43DlXy3+YraSfR7kla1KlmE/bjO6NitY/x2KsMr5IbKtZCVdr/QsdVSQiLLMWcB4BBBBAAAEEELClAMGX3B+WjAKEqT8vdenSxfriojfHqFGjrC9WmsM8h9B82TH1MXjwYI0ZM8Z6yaQdOnSoN8VaX6CcN2+eldbsrGJW/2XliI2NdX2uq1evnrWq0duDOeqtFOkQQAABBBBAIKcFuJeb08KUHwgBAoSBUHdwnSYAaAJ75lus5tmCqY+HHnpI7777rvXSsmXLZJ69ceFhnn9hnoNhjocfflhvv/22z5pm1aBZEWiCmhlts2O+LWu+NWsCn2bFoVlN6M+Di0qy5umfxmrDomlpaOMVrDvjntKUsFdc55pWLa6wkGDJBAgjt0tzBmU+JHfO1YoF05W4JPmmSMrRsHIx5Q/zftum7UdO6/DJs1b2mQlXKb7+rRrbp1Hm9ZMCAQQQQAABBBCwqQDBl9wfmIwChGb3FbM1qPm8ZI5p06bp1ltvzbCR5kuWZueV06dPKyIiwspbpUoVtzw7d+60voh59uxZFSpUyNqV5dJLL82w3OnTp6tPnz5WGrPqzwT1glPtvmFWJnr7yIclS5aobdu2VlndunXTN9984zU8c9RrKhIigAACCCCAQA4LcC83h4EpPiACBAgDwu7cSs3KQLNlp/lgeupU8vPczGE+YJptSU0grnbt2tq8eXO6SOb81q1bVbFiRe3Zs8frD6YpBX7wwQcyzzE0h/ng27t3b491pf5QbJ6JeO+9Hp6Fl42hdPxFJfak9MdURa//Suv2nnCTNMHBjxKu0+LERpoWdn4r2VplC6tEwXDfA4TffarE35JXIqYcV1QsqgL5QmSeLXguPlGlCuVLDj6mc/x16JQiTyc/f+fzhHaqfM1dGtKhZjZmAFkRQAABBBBAAIHAChB8yX3/jAKEpjVmt5TWrVsrLi7OejTDp59+mu7nlfXr11sBN/OZyBzmy5PmS5SejrFjx2rQoOQv11WuXNkK0jVo0MBjWrPDSr9+/XTu3DmrDebLm40bN3ZL++2332rSpEkyzxc0Acr0DrO1afv27V2Pipg4caIGDBjgNTxz1GsqEiKAAAIIIIBADgs4/l5uDvtSfGAECBAGxt2RtZqgX/369a2VeyZQaJ5DmHKkfi7FwIEDNWHChHSNzHkTsDOHyVetWjWfPPv376/JkydbecwzOMqWLesxvzlXvnx565zJk7IlqU+VZZDY8ReV7/8j7VujU7Fx2rjvpEtqWeLlei+hq84q3HotdYDwsjKFrECeTysI+36upfOnKniV+zax5YtFKCQ4SHujkrcNDQ0JUpMqxRUcFORx1LYcPKljZ+Ksc9MT2qlWxwF6sF3G37z211yhHAQQQAABBBBAICcECL7khGrGZWYWIDS5P//8c+vzhwnQmePaa69V3759rS9SmoCdCQiaAN/UqVOtxzOYwwT/Ro8enWHlqbcaNY9sMCsEzbahZsWhCUia1YemzEWLFlnlZBSgNNufmuCkOUyg0WyJ2qxZM+tZiCbf4cOHZVYOms9t5mdzmGfAmx1hTN3eHsxRb6VIhwACCCCAAAI5LeD4e7k5DUz5AREgQBgQdudUap4baFYFzpkzR6+99prM9p7mMAG622+/3QVhnm1hnnFhjrfeekvmw2t6hzk/ZMgQ67TJd/311/sEaj64mm/mFi1aVMePH88wr0lz8uRJ68PuypUrfaons8SOvqgkJUmfJN9QOBZ9TlsOnF9Nal7rE/esiy91gLBI/lDVLV/UtwBh4/5avX694rYm3+jI6KhUIr8qFi/gMcmfB07qRHRygHBawjVqcP29GtDGt+B0ZvVzHgEEEEAAAQQQyE0Bgi+5qZ1clzcBQpPOPI/9/vvvz3BnFZOuePHievnll/XAAw941RnzRczhw4fLrOzL6DDBSJPWPAPe07F06VLrcQ1nzpzxqt4OHTpYW6aWLFnSq/QpiZijPnGRGAEEEEAAAQRyUMDR93Jz0JWiAytAgDCw/hdl7Warmbvuuivdvg0dOtQKFqZ+ZoX58JnyoXbmzJnq2bNnuvlnzZqlXr16WedNPrOi0JfDrBg0gUrzfI+NGzdmmLVevXratGmTtcrQrCj05TAXjYwOU17z5s2tJHv37rW2THXMkRAvTb7R6u6R02e17dBpt66nFyA0i/taVi/pW4CwdldtX71Ahw8d9Iq3VQ3PNy027j+hUzHJ39CemnCtWtxwn25v6f58F68qIBECCCCAAAIIIGATAYIvuT8Q3gYITcvMzivms8/XX39t7b5iPsOYlX6lS5e2ngtovihptgI1QUJfDvMlySlTplhftjSfdcyz4c2qPvPMdfPFyO7du1ufxzJb6RcTE6MffvjBCnqax0iY+RQZGWm1u0iRIqpatapVnnmOYrt27XxpoistczRLbGRCAAEEEEAAgRwQIECYA6gUGXABAoQBH4KLrwHpBQgbNmxoBfRatGiRptOjRo3Sk08+ab3+3XffqXPnzunCmPMpqwZff/11Pf744z4hFixYUGZlo2mH2eImo8OkMSsHL3xmojcVpg6AZpbecQHCc9HS1FssloMnYrTzaLSL6KQKaGBc8gpRc6ReQWi2BG1erYRvAcI63bTh9191+sD2zIbBOp9egHD9vuM6E5tgpZmS0F7X9Bionk0cFNT1So9ECCCAAAIIIJCXBAi+5KXRcmZbmaPOHHd6jQACCCCAgB0FCBDacVRoU3YFCBBmV5D8aQTMN1JTVs+Zb5Vu375d5kH3X375pWrUqGE9GyNlO9GUzCNGjNB//vMf61fzzAvznI30jh9//FH/93//Z502+Z599vx2lN4MR0hIiBITE9W2bVtr656Mjquuukq//vqrTJ6U53t4U4dJQ4AwA6nNc6UVyc+Z/OdYtOs5gOb30fE9tCKpjitz6gChebFl9RIKumueFLldmjMo8+Go000/bNitgrsXZ542gwDhH3uPK+ZccoBwckJ7Xdf7AXVrkPyMSg4EEEAAAQQQQCAvChB8yYuj5qw2M0edNd70FgEEEEAAATsLECC08+jQtqwKECDMqhz5fBYwzx284447rMDZhx9+qDvvvNNVxsW4gpAtRjOYIsvGSVu/sxLsjjyj/cdjXYnviHtK5xTm+v3CAGGL6iUU7GOA8Pu1f6nQvt8ynbNFC4Tq8nJFPaZbu+eYYuMSrXOfJnTQTbc9qI51y2ZaJgkQQAABBBBAAAG7ChB8sevI0K4UAeYocwEBBBBAAAEE7CJAgNAuI0E7/ClAgNCfmpSVqUDv3r2t1YRmm0+zrWbK8zIuxmcQZobh6IvKkrekbYssotTP9jO/p37+oPn9wgCh2WI05G5fVhDeoO9XrlOhw2syGxKVLBSummUKe0z3++5jOhefHCCclNBRfe98WFfXLJ1pmSRAAAEEEEAAAQTsKkDwxa4jQ7tSBJijzAUEEEAAAQQQsIuAo+/l2mUQaIffBQgQ+p2UAjMSmDp1qm677TYryWeffaa+fftaP8+dO1fdunWzfn7rrbc0ePDgdIsx54cMSX5G3bx581zPI/RWvmnTpvr9999VtGhRme1QMzpMmpMnT6pZs2bWswj9eTj6ovLT/6Rdvyo2LkFr97iPQWYBwmbViiv07m+932L08u76YelyFYz6M9PhK1UoXJelEyBctStK8QlJVhkPxT2qd+/rqJbVS2ZaJgkQQAABBBBAAAG7ChB8sevI0K4UAeYocwEBBBBAAAEE7CLg6Hu5dhkE2uF3AQKEfielwIwEvv/+e3Xs2NFKMnLkSD399NPWzzt27LCeT2iOgQMHyqwoTO8w599//31XvmrVqvmE3r9/f5ntTs1x4MABlS3reZtIc658+eRnzJk8n3zyiU/1ZJbY0ReVRSOUtHe5lm+PSsOUOkB4Xb2y6r/1Ybc0TasWV9iAb6Wj26S56QeSXZku765Fv/ysAie2ZzYkGa4gXLEzUomJ0uzENpqZ0E5fPXSlGlYqlmmZJEAAAQQQQAABBOwqQPDFriNDu1IEmKPMBQQQQAABBBCwi4Cj7+XaZRBoh98FCBD6nZQCMxKYNGmS7rrrLivJ2LFj9cgjj1g/JyUlqWLFitq/f79q166tzZs3p1tMnTp1tGXLFlWoUMHaptQ809CXwwQXTZDRHNOnT5fZ9tTTYc716dPHOvXee+/pvvvu86WaTNM6+qKy8Dkd2rJMO46ccXN6Pv4O/ZVUyfXaizfUVc3vkscg5WhStbjCfQwQLl68UBGn/3EfkyCpYvH8+icqxvV6iULhquVhBWGSkrR8R5S2J5bTs/EDrPTfDWqrOuWKZDrOJEAAAQQQQAABBOwqQPDFriNDu1IEmKPMBQQQQAABBBCwi4Cj7+XaZRBoh98FCBD6nZQCMxLo0qWLvv32WyvJ4sWL1a5dO1fyBx98UOPHj7d+X7ZsmVq2bJmmqOXLl6tVq1bW6yb9uHHjfAY/ePCgFVxMTExUp06dNH/+fI9ldO7cWQsWLFBwcLD27duX7kpDnxvwbwZHX1S+fkjLVrs/E/CRuEd0VEXdOH8YcpUWjR2oK4J2ul5vUqWYwu/5zvsVhHVv1M/ff6PwmCNuZVcpWUCJSUnamypAWLxgmGqXTRv0M+lW7Ehe7ZiywvHHx69W9dKFsjr85EMAAQQQQAABBAIuQPAl4ENAAzIRYI4yRRBAAAEEEEDALgKOvpdrl0GgHX4XIEDod1JnFmhWBt56662KiIhIFyD1swOrVq0q82EvNDTUlf6vv/5S3bp1FR8fL/OcwF9++UX58+d3nY+JidFVV12l1atXW/n+/PNPXXbZZWnqM0HHn3/+2Xp9586dMnVdeKTeZnTmzJnq2bOnWxLz2i233GK9dscdd8j0z9+Hoy8qk7pq2fZIN1ITeLukcD4dPnXWev3SSwpZ23je+cIYPR46y5W2cZViyudTgPAmLVkwQyFnT7rKiChVWY2KntG+49HaE3l+BWGxgmGq4yFAGJ+YpFU73QOES4ddqwrFzs9Pf88PykMAAQQQQAABBHJagOBLTgtTfnYFmKPZFSQ/AggggAACCPhLwNH3cv2FSDm2EyBAaLshyZsNMkG4U6dOqUePHmrTpo31PMFChQpZr23YsEGfffaZli5danUuPDxc8+bNU/v27dN01jyT8NVXX7Veb9SokZ566imrrO3bt+t///uf1q5da50z6cwzDD0d3gQIzdakTZo00ZEjR6xg4+OPP66uXbtaxc2dO1dvvPGGFagsXbq01qxZY21/6u/DyReVhI+6aOW/AbcU173dZ6h51RJ6Z/E2hYcGa9D/Xaai+cPU8z/vanjoVBd/7eqVVfyuz6Wjf0tzH8t8WOrepGXfTZbikgOP5ih7xTWqdma99h2P0Z7IaNfrxQqEedw2NC4hUat3HbPSpawgXP1se5UqlC/z+kmBAAIIIIAAAgjYVIDgi00Hhma5BJijTAYEEEAAAQQQsIuAk+/l2mUMaIf/BQgQ+t/UkSWaAOHu3bsz7bsJtH300Ufq0KGDx7Rm2897773XSpPeMWDAAJnnCJqtPz0d3gQITb4VK1boxhtvlNly1NNRtmxZffXVV2rRokWm/cpKAidfVGI/uE5r9xx3Y7v8mV+sgGDqIzExSd2Gv6tnQ6e4Xq5WqbzK3veFTwHCVfM+UnxCoquMwtc9q3p/jdf+EzHaffR8gLBI/lDVLe++zanJdDY+QWt2J7c3JUC48cVOKpTv/ArYrMwB8iCAAAIIIIAAAoEUIPgSSH3q9kaAOeqNEmkQQAABBBBAIDcEnHwvNzd8qSMwAgQIA+N+0dVqVvj98MMP1nMFN2/erEOHDikyMtLacrRMmTJq2LChtULPbNtZoECBTPtvnlNogoCrVq3S0aNHVapUKTVr1kwDBw7Uddddl2F+bwOEphBT9pgxY6xA4K5du6xyq1Wrpu7du2vw4MEqWbJkpm3NagInX1Si3++sdXtPuNG1ePE3BQcHpeHs/PR4PR/6qev18mVKqcrDc7wPENbpphXfTlLi+figCt82SfWWP65DJ2O148gZV9mFIkJVv0LaAGFMXLz+2JPc3pQA4d8vX6ewEM9B6qzOCfIhgAACCCCAAAK5KUDwJTe1qSsrAszRrKiRBwEEEEAAAQRyQsDJ93JzwpMy7SFAgNAe40ArHCjg5IvKqQmdtHHf+WcCmsWgLV5c5nEWPPb2VN1y+G3XuQKFCqvBUwulI1uleY9nOnMSq16lFYu+dEtXasDnuqxKJa35eqyif/9cIUqyzhfIF6IGFYulKfPMuXit/zegaQKEJo65feT1CgpKG9DMtEEkQAABBBBAAAEEbCJA8MUmA0Ez0hVgjjI5EEAAAQQQQMAuAk6+l2uXMaAd/hcgQOh/U0pEwCsBJ19UVq79QwmzH3A5TQu7SWP/86RHt/ZPv6cRoZNc50oUK6Jajy+QDqyTFgzP1DohMSnN8w4rPTxHFcuU0ncbDmjqtEl6MOQbq5yI8GA1qlQ8TZmnzsZp4z/JAU0TIMwfFqLNIzpnWjcJEEAAAQQQQAABOwsQfLHz6NA2I8AcZR4ggAACCCCAgF0EnHwv1y5jQDv8L0CA0P+mlIiAVwJOvqjM33hQr342Vy2DN2tXUlkdLN5UPz1xjUe3UZ99ozZbXnGdK1U4XJc9+bO0d6W06L+ZWsclJGr1rmNu6S59YrFKF4nQ4q2H9cEnH+uRkK+s8+GhwWpSJW2A8ERMnP7cfz5AWKxAmP74T8dM6yYBAggggAACCCBgZwGCL3YeHdpmBJijzAMEEEAAAQQQsIuAk+/l2mUMaIf/BQgQ+t+UEhHwSsDJF5Uvfv9Hj89c53K6vFwRfTuorUe3SXO+V62V/3GdK1EwXLWG/Szt/EX6+bVMrVMH91ISX/HsryqYL1TLd0RqzMQP9WhI8hakoSFBala1RJoyj0ef0+YDp6zXzQrCskUitPyZ/8u0bhIggAACCCCAAAJ2FiD4YufRoW1GgDnKPEAAAQQQQAABuwg4+V6uXcaAdvhfgACh/00pEQGvBJx8UZm8bJee+3qTy6lZ1eKaeX9rj27fzv5UxdeOd50zq/fqDJkn7V0hLRmdqfWOo6d16MRZV7qQYKnZC79Zzw9ct/e4Rr47UYNDv7DOm2cLtqheMk2ZUWfOauvB09brJkBYpWQB/ZzOisdMG0QCBBBAAAEEEEDAJgIEX2wyEDQjXQHmKJMDAQQQQAABBOwi4OR7uXYZA9rhfwEChP43pUQEvBJw8kVlws/b9ep3W1xO7WqV1qS7mnt0++67b1Tst/NbjBbOH6p6g7+W9v0uLR2TqfXfh0/p6KlzrnRHVUTdRiywfv/r0CkNH/2+hoTOcp1vWb2EFTxMfRw9fVZ/HzofIKxZppAWPnZ1pnWTAAEEEEAAAQQQsLMAwRc7jw5tMwLMUeYBAggggAACCNhFwMn3cu0yBrTD/wIECP1vSokIeCXg5IvKGwu36u0ft7mcutQvp3G3Nfbo9sWKbSo/t5/rXMGIEF3x6Czp4IZMA4TxiYlatdP9+YN7Luun3v0ftMrbExmtx16foKGhM13lN69WQiFmKWGq4/CpWG0/fMZ6xawgrFu+iOY96nlLVK8Gn0QIIIAAAggggIANBAi+2GAQaEKGAsxRJggCCCCAAAII2EXAyfdy7TIGtMP/AgQI/W9KiQh4JeDki8p/5/ypj5budDn1alJRo3o18Og2d90+lZzV03Uuf3iIGj74ifTrm9Lx3elam+Dg+n9O6GxcoluamOtH69pWLazXTODv/pHj9UToDFeaplWLK8zsQ5rqOHQyVjuOnA8QNqhUTF8/dKVX40wiBBBAAAEEEEDArgIEX+w6MrQrRYA5ylxAAAEEEEAAAbsIOPlerl3GgHb4X4AAof9NKREBrwScfFF5atZ6fb56r8vpztZV9cINdT26Ldp8SKFTeypc8db5fGHBatysjXTo/DMMPWXcdzzGWiF44RFx2xQ1ql3DevlUbJz6vfiungqd7krWuEox5QsNcct28GSsdqYKEDatUlyzHvD8zESvBp9ECCCAAAIIIICADQQIvgR2EE6cOKEpU6Zo3rx5+vPPP3X48GGFhYWpTJkyatasmW644Qb17NlTISHu700zavX27dv12WefacGCBdq1a5eOHj2qwoULq3z58mrXrp169eqltm0z3wnDpP3555+tqpKSkgIGxRwNGD0VI4AAAggggMAFAk6+l8tkuHgFCBBevGNLz2wu4OSLysNT12ju+gOuEXromhp6olNtjyP227ajOvPJLSqkGOt8WEiQmlYtkenoLt8RKU/3MioNXqCKJYtY+eMSEnXzs+P0TOhUV3kNKhVVgfBQt/IPnIjRrqPJwUazxah5TuH0+1pl2gYSIIAAAggggAACdhYg+BK40Zk4caKGDRumyMjIDBtx+eWX67333lObNm0yTHf27FmrvHHjxikuLi7DtNdff71VZsWKFdNNR4AwcHODmhFAAAEEEEDAngJOvpdrzxGhVf4QIEDoD0XKQCALAk6+qNw9aZV+3HLYpfZEp1p66JpLPSqu3XNMsR9c7zoXHCy1qFYyU/F1/xxX9NmENOkaP7/EbYVg9+HjNCx4iitd/YpFVSife4Bw//EY7Y6M1j6V0tC4+9Xm0lKack/yNqUcCCCAAAIIIIBAXhUgQBiYkXviiSf0+uuvW5WHhobq1ltvtVYLVqlSRefOndPWrVs1bdo0LVq0yEqTL18+a6WhWU3o6Th16pS6d++uxYsXW6dLlCihO++8U//3f/9nrUY0KxVXr16tjz/+WFu2bLHSmODgwoULVadOHY9lEiAMzNygVgQQQAABBBCwr4CT7+Xad1RoWXYFCBBmV5D8CGRRwMkXld7vLdOKnVEuuRdvqKs7Wlf1KLnl4EkdG9fp/LkgWSv4ghSUofy6vccVfS5tgLDViGVu+Xo+/54eT5zkeq1uhSIqEhHmliZlu9JR8bdoTVJNtatVWpPuap7FkScbAggggAACCCBgDwEChLk/DmaF38MPP2xVXKlSJc2ZM0cNGnh+Fvfnn3+u/v37W0HD8PBwrVixQg0bNkzT6FtuuUUzZ860XjdBQRNcLF26dJp0ZmXhM8884wpO1qhRQ2vXrrW2IL3wIECY+3ODGhFAAAEEEEDA3gJOvpdr75GhddkRIECYHT3yIpANASdfVMxzTGLiEnTmrPkvXsUKhKlYgXCPmrsjz2j/6PZu55pXL6GQoIwDhNbKw7jENGVeGCDs89JEPXr2Q1e6OuULq1h+97b8cyxae6Ni9FjcAzqokmpfp4wm3tE0G6NPVgQQQAABBBBAIPACBAhzdwx2796t2rVrKzY2VoUKFbKCc5de6nkXjZSWTZ8+XX369LF+rVevntavX6+gVO+DZ8yYod69e1vnGzVqpKVLlyp//vwZduz++++3thg1x4MPPmhtS3rhQYAwd+cGtSGAAAIIIICA/QWcfC/X/qNDC7MqQIAwq3LkQyCbAlxUvAM8fDJW20dd45a4XoUiKnzBKr8LS/t99zGdi3cPEH6b2FwjXh7jlrT/q5/ogTMTXK/VKltIJQrmc0uz91i0/omK0aC4h3RYxdW5bllN6NfEuw6QCgEEEEAAAQQQsKkAAcLcHZjHHntMo0ePtiodNWqUhg4d6lUDunbtqnnz5llpv/nmG3Xr1s2Vr3Hjxlag0RyrVq1S06aZf4nNbElas2ZNHTx4UBERETKBy0suucStLQQIvRoaEiGAAAIIIICAgwS4l+ugwXZQVwkQOmiw6aq9BLioeDceJ2PjtOnlq9wSh4UGqWmVEhkWsHpXlOISktzSfFt3lEbc2sbttXte/0wDTrzjeu2yMoVUqpB7gHBPVLT2HYvRo3EP64iKqesV5fRO38bedYBUCCCAAAIIIICATQUIEObewJgdNEqVKqWoqChrhd+BAwdUtGhRrxpgnhXYqVPylvs33XSTZs+ebf1sVhOmbE/aunVra/Wgt4fZavSVV16xko8ZM0aPPvqoW1YChN5Kkg4BBBBAAAEEnCLAvVynjLSz+kmA0FnjTW9tJMBFxbvBSEhM0pPPDlPPkF/cMrSoXkLBGWwzunJnlEzelOP5hLv16VP9VLZohFs5D46ern6R51cV1ihdUJcUcU9jbXN6PFYPxz2iSBXVTY0q6K3eaZ//4l2PSIUAAggggAACCNhDgABh7o3Dxo0bVb9+fatCE+ybP3++15UnJCSoSJEiio6Otp4tePjwYSvvO++8o0ceecT62QT7hg0b5nWZy5cvV6tWraz0PXv2dD3DMKUAAoReU5IQAQQQQAABBBwiwL1chwy0w7pJgNBhA0537SPARcX7sRj+5QZ1XXOfW4Zm1YorNDg43UKW74hUu4S+ogAAIABJREFUUqoFhMVun6Q6tWqlST9o3CzdevAN1+tVSxVQuaLuz23ZFXlGB47H6va4p5WgEPVsUlGv92rgfQdIiQACCCCAAAII2FCAAGHuDcpnn32m22+/3arw6aef1siRI32q3KwQXLZsmZVn3759Kl++vO69915NnDjRem3BggXq2LGj12XGxMRYz0FMTEzUZZddpr/++sstLwFCrylJiAACCCCAAAIOEeBerkMG2mHdJEDosAGnu/YR4KLi/Vicio3Txgu2GW1UuZgiwkI8FpKkJC3fHuV2rvTd03Rptapp0j/x/te6ee+rrtcrlyygCsXOBwitLU73nbTO94l7Nvn/zSvplZuv8L4DpEQAAQQQQAABBGwo4FWA0HzjKvaEDVufg02KKCplsFNFVmo223gOHjzYyuppS8/MyjRbi3711VdWMrO1qFmNmPq1devW6YorfHt/Wrx4cR0/flwlSpRQZGSkWxMIEGY2IpxHAAEEEEAAAacJcC/XaSPujP4SIHTGONNLGwpwUfF+UMwzW1Y839ptRWC9CkVUOCLMYyEJSUlaucM9QFj+/tmqUqFcmvTDP56nrjtecr1esUR+VSpewPrdBBrX7jmus3GJ1u8pAcJ+LatoxI31vO8AKRFAAAEEEEAAARsKeBUgjDkufZ688s0xR+8pUv5ifu3uSy+9pOeee84q06z6GzBggE/lm9WHZhWiOZYsWaIrr7xS7du316JFi6zXtm3bpho1avhUZsWKFa3ViKGhoYqLi3PLS4DQJ0oSI4AAAggggIADBLiX64BBdmAXCRA6cNDpsj0EuKj4Ng5r/nulK1BncpYrFqFi+cNUJH9YmmcRxicmatXOY24VVBn0rcqXKp6m0v9OWaAOW19wvV6+WISqlCxo/X42PkFrdh93nUsJEN7ZuqpeuKGubx0gNQIIIIAAAgggYDMBAoTpDEgOBAhTryAcPXq0Bg0a5NNsuPHGG/X1119beTytIPzjjz/UoIFvW+AXK1ZMJ06cYAWhTyNBYgQQQAABBBBwqgD3cp068hd3vwkQXtzjS+9sLMBFxbfBmfzGEF16PPm5K6mPwvlDVbdcEQWl2gbqXEKift/lHiCs+eSPKlnY/dmCppxXpi9Su03JW4eao2zRfKpWqpD1c3oBwnvbVtPwLpf71gFSI4AAAggggAACNhMgQJjOgORAgHDKlCnq16+fVeGwYcP0yiuv+DQbWrVqpeXLl1t5Up5BeM899+jDDz+0Xps/f746derkdZk8g9BrKhIigAACCCCAAAKWAPdymQgXowABwotxVOlTnhDgouLbME0a+7xqHVnoMdOF241eGNiLV7AaDv/J45akb89coKbrz68gvKRIPtUonRwgjDxzVn8dPG39vD6pml6Jv836+YF2NfRU59q+dYDUCCCAAAIIIICAzQQIEKYzIDkQINywYYPrGYEmkGcCet4eCQkJKlKkiKKjo1W6dGkdPnzYyvr222/r0UcftX42AUcTePT2WLZsmVq3bm0l79mzp2bOnOmWlS1GvZUkHQIIIIAAAgg4RYB7uU4ZaWf1kwChs8ab3tpIgIuKb4PxyfhXVHP/Nx4zVSlVQOWLnl8dGBOXoD/2nN8aNEbhavP8YoWHBqfJ//7Xi1R/9fkVhKUKheuyMoWtdD/tjlW++DOKVj69GN9fe5LKWK8/cu2lerxjLd86QGoEEEAAAQQQQMBmAl4FCJOSpNgTNmt5DjcnoqiUancKf9RmnqldqlQpRUVFKX/+/Dpw4ICKFi3qVdELFixQ586drbQ33XSTZs+ebf28bt06NWzY0PrZrDD87bffvCrPJHr66af16quvWunN9qcpgcaUAggQek1JQgQQQAABBBBwiAD3ch0y0A7rJgFChw043bWPABcV38Zi8gdv6tI97t9sTikhIjxYjSqdf77gmXPxWr/3/I2skyqgjv/9wW0b0pS8n85brMuWP+NqTPGCYapdtoj1e8Mtt6t60AHtTiqjSJ2/gfNY+5oa1P4y3zpAagQQQAABBBBAwGYCXgUIbdbmvNycwYMHW8E4c4waNUpDhw71qjtdu3bVvHnzrLTmOYQ33HCDK58JEJpAoTlWrVqlpk2bZlrmqVOnVLNmTR08eFD58uXTnj17dMkll7jlI0CYKSMJEEAAAQQQQMBhAtzLddiAO6S7BAgdMtB0034CXFR8G5PPJo1T9e1TPGYqWiBMl5dLDuqZ4/TZOG3456Tr9+AgqcV/0z6/0CT4/PulqvzL+ZszRcwzDcsnBwOrbnnAY31PdKqlh6651LcOkBoBBBBAAAEEELCZAAHC3B2QnTt3qk6dOjp79qwKFSqktWvX6tJLM35POX36dPXp08dq6OWXXy6zVWlw8PldMaZNm6a+ffta5xs1aqSlS5daKxQzOu6//3699957VhLz8/jx49MkJ0CYu3OD2hBAAAEEEEDA/gLcy7X/GNFC3wUIEPpuRg4E/CLARcU3xi+mvKvyWyd7zFQgX4gaVCzmOncyNk6b9p0PEIaEBKn5C563XJrzxz4FfXG3Sio5ferViOkFCJ++rrYGXl3Dtw6QGgEEEEAAAQQQsJkAAcLcH5CxY8dq0KBBVsWVK1fWN998owYNGnhsyIwZM9SvXz+dO3dO4eHhMs8NbNy4cZq0PXr0cG072r59e02dOtV6VuGFR1xcnIYPH26tXjRHtWrV9Mcff1jPN7zwIECY+3ODGhFAAAEEEEDA3gLcy7X3+NC6rAkQIMyaG7kQyLYAFxXfCOdOfUclN3/mMVO+sGA1rnx+i9ETMef05/5TrrRhoUFq+rznAOGizYc06tPZej70Uyt9SllJ5qZJOisIn+t6uQa0qeZbB0iNAAIIIIAAAgjYTIAAYWAGJPVWo6GhodYKQbNtaJUqVWSCeFu2bLGCfIsWLbIaaIKDn376qXr37u2xwSdOnLDy//LLL9b5EiVK6O6779a1116rMmXK6OTJk1q9erU+/PBDq2xzlC9fXubZhvXq1fNYJgHCwMwNakUAAQQQQAAB+wpwL9e+Y0PLsi5AgDDrduREIFsCXFR841s4c4IKr/8k3Uzli0VY54KDgqQg6Z+oGFdaK+j3n6Ue8y7eelh3fbxK08JeSr4BExqsJlWKK6HpPaoxJcxjnhdvqKs7Wlf1rQOkRgABBBBAAAEEbCZAgDBwAzJhwgRrNV9UVFSGjahdu7ZM2quvvjrDdLGxsXryySet7ULj4+MzTNuxY0d98MEH1grG9A4ChIGbG9SMAAIIIIAAAvYU4F6uPceFVmVPgABh9vzIjUCWBbio+Eb30+z3lW/tx75l+jd1aEiQmqWzxeivfx9Rvw9X6srgDXoo5GuFm9WGdWsrtsvbqv3iTx7re/mmerqtRZUstYVMCCCAAAIIIICAXQQIEAZ2JI4fP64pU6Zo3rx52rRpk44cOSKzotCs+mvWrJm6d++unj17Wq95e2zbts0q06wO3LVrlyIjI1W4cGFrxaAJMvbq1SvTYKOpiwCht+KkQwABBBBAAAGnCHAv1ykj7ax+EiB01njTWxsJcFHxbTCWzP1EISsm+JYpVepWI5Z5zPvbtqPqO3GFda5G0D5dlv+UJjw1UCeT8umKFxZ6zPO/HvXVu1n637jOciPJiAACCCCAAAII5KIAAcJcxKaqLAkwR7PERiYEEEAAAQQQyAEB7uXmACpFBlyAAGHAh4AGOFWAi4pvI//d6r9U7Os7Msx0WMV0iY6nSfNhwnWaOPI/HvOu2BGp3u8vd50rmj9M657vqMjTZ9XkpR885nmjVwP1aFLRtw6QGgEEEEAAAQQQsJkAwRebDQjNSSPAHGVSIIAAAggggIBdBLiXa5eRoB3+FCBA6E9NykLABwEuKj5gSVry91GFfNotTaa/kiooTAlKUpAmJXTSiaSCGhM2zi3d7XFPa/urN3iscPWuKPWccH51YeF8odrwYicdOhmrFiMXecwz5taG6t6wgm8dIDUCCCCAAAIIIGAzAYIvNhsQmpNGgDnKpEAAAQQQQAABuwhwL9cuI0E7/ClAgNCfmpSFgA8CXFR8wJK07fBpHXm7Q5pMXyVeqe/COmhIh5p6Yc6f1vmrgtfp1pDFilaExsd3U/0GzTT61kYeK1y755huevc317n8YSHaPKKz9kZFq+1riz3mGde3sbpcUc63DpAaAQQQQAABBBCwmQDBF5sNCM1JI8AcZVIggAACCCCAgF0EuJdrl5GgHf4UIEDoT03KQsAHAS4qPmBJOhUbp6kv3aErgna6ZfyjeCc9MOQF67XbJ67Qkm1H0xT83aC2qlOuiMcK1/9zXDe8s9R1Ljw0WH+9dJ12Hj2ja17/yWOeCbc3Ued6ZX3rAKkRQAABBBBAAAGbCRB8sdmA0Jw0AsxRJgUCCCCAAAII2EWAe7l2GQna4U8BAoT+1KQsBHwQ4KLiA5akxMQkTfhPfzUK2uaWcX2pzho46HnrtXPxiar57HdpCt4x8noFBwd5rHDT/hPqMnaJ61xIcJC2j7xefx06pY5v/eIxz8T+TdX+8jK+dYDUCCCAAAIIIICAzQQIvthsQGhOGgHmKJMCAQQQQAABBOwiwL1cu4wE7fCnAAFCf2pSFgI+CHBR8QHr36Tj/nOnGidtdcsYVby+ugx53/Va1WHz0hS869Uu6Va25eBJdR79q9t5k/7CwGHqBJPuaqZ2tS7xvQPkQAABBBBAAAEEbCRA8MVGg0FTPAowR5kYCCCAAAIIIGAXAe7l2mUkaIc/BQgQ+lOTshDwQYCLig9Y/yZ994V71Chhk1vG4gXDVHvY+ZV+vgYItx85rf9742e3Mv9++Tpt2n9SN447v/Vo6gRTBrRQm8tK+d4BciCAAAIIIIAAAjYSIPhio8GgKR4FmKNMDAQQQAABBBCwiwD3cu0yErTDnwIECP2pSVkI+CDARcUHrH+TvjviATU694dbxpKFwlXzqfMBvtfmb9G7P213palUIr9+ffLadCv751i02vxvsdv5jS920uYDJ9VrwjKP+abd21KtapT0vQPkQAABBBBAAAEEbCRA8MVGg0FTPAowR5kYCCCAAAIIIGAXAe7l2mUkaIc/BQgQ+lOTshDwQYCLig9Y/yb9fkQ3FTp31C1jqcLhuuzJ8wHCM2fjrRWBB0/GWunG3NpQ3RtWSLeyI6fOqtnLP7idX/1se+sZhH0/WOEx38z7W6lZ1RK+d4AcCCCAAAIIIICAjQQIvthoMGiKRwHmKBMDAQQQQAABBOwiwL1cu4wE7fCnAAFCf2pSFgI+CHBR8QHr36TrXmqj6LMJbhlLF86nS5/8ye21E9Fx+nHrIVUrVUgNKxXLsKJTsXGq/8JCtzRLh12rbYdP646PVnrM++WDrdWocnHfO0AOBBBAAAEEEEDARgIEX2w0GDTFowBzlImBAAIIIIAAAnYR4F6uXUaCdvhTgAChPzUpCwEfBLio+ID1b9LfRl6noJjjbhmPVWin6+9/xffC/s1xLj5RNZ/9zi3/j49frZ1Hz2jAJ6s9ljvn4TaqX7FoluskIwIIIIAAAgggYAcBgi92GAXakJEAc5T5gQACCCCAAAJ2EeBerl1Ggnb4U4AAoT81KQsBHwS4qPiA9W/ScaNHqHHkt24Z/6z9sAbcdpvvhf2bIykpSTWe+VaJSeeL+PbRttoTdUb3T1njsVxz/vLyRbJcJxkRQAABBBBAAAE7CBB8scMo0IaMBJijzA8EEEAAAQQQsIsA93LtMhK0w58CBAj9qUlZCPggwEXFB6x/k44ZP07N909xy7ip3hO6p/fNvheWKked5+YrJu781qVmC9F/jsXokWlrPZa78LGrVLNM4WzVSWYEEEAAAQQQQCDQAjt27NDZs2cVFBSkWrVqWf/nQMAuAuaLfFu3bpX5f3h4uGrUqGGXptEOBBBAAAEEEHCgAPdyHTjoDugyAUIHDDJdtKcAFxXfx+Xtjz9R0x0T3DL+03ioet3Uw/fCUuVo9N+FOhYd53pl+n0ttf94jIbMWOexXLMFafXShbJVJ5kRQAABBBBAAIFAC5j3o6dOnbKaUblyZRUsWDDQTaJ+BFwCsbGx2rlzp/V7oUKFVKlSJXQQQAABBBBAAIGACXAvN2D0VJyDAgQIcxDXaUWvWbNG8+fP16+//qqNGzfq8OHDCgsLU/ny5dW6dWsNGDBAbdu29YrFfBAcO3asvv/+e+3evVuJiYmqUKGCOnTooAcffFB169b1qpyMElWtWtUqO7OjSpUq2rVrV2bJfD7PRcVnMj392U+6YcvTbhlPtHpCna/P3grCliMX6eDJWFe5k+5qpkMnY/XUFxs8NvKXJ65R5ZIFfO8AORBAAAEEEEAAARsJnDx5Uvv27bNaZAIwFStWZBWhjcbH6U0xnycjIyMthjJlyqhEiRJOJ6H/CCCAAAIIIBBAAe7lBhCfqnNMgABhjtE6q+Crr75av/zyS6ad7tevnyZOnGhtEZPe8f777+uRRx7RuXPnPCYxeUePHq0HHngg0/oySkCAMFt8Acm8/p/jOvPedW517+8+XT2aVslWe64etVi7I6NdZbzXr4mOnDqrZ7/a6LHcpcOuVYVi+bNVJ5kRQAABBBBAAIFAC5gv4f3111/WFo7mMEFCE4QpUKAAgcJAD46D609ISNDx48etL5ymHGZ70Yw+QzqYi64jgAACCCCAQC4JECDMJWiqyVUBAoS5yn3xVnbppZdq+/bt1mrBXr16WSsFzTZF5sPdsmXL9MYbb7i+ndynTx9NnTrVI8b06dNlzpujaNGievzxx3XttdcqX758Wrt2rV577TVt27bNumExY8YM9ezZM8uoKQHC7t2766WXXkq3HPNBtGbNmlmuJ72MXFR8Jz0VG6fGL3yru0O+Uz7F6bOE/9PoAR3U9rLSvheWKkent37R1kPJ22uZY8ytDRV15pxenPOnx3LXPtdBxQumH+TOVmPIjAACCCCAAAII5KKA2WLUrCJMCRKaqs177ZCQkFxsBVUhkCxg5qH5DJn6KF26tEqVKgURAggggAACCCAQUAHu5QaUn8pzSIAAYQ7BOq3Yrl27qn///urRo4fHmwlHjx7VlVdeaX1D2RxmteGF241GR0erWrVq1jdFzbeXTWCxXr16bpRmG6Q2bdpow4YNKlu2rBUszOqzUlIChHfccYcmTZqU60PGRSVr5AMmrdKiLcnfJi5bJEI/PdFOEWHZu4F1wztLtP6fE64GvdbzCp2IjtPL325O08iW1Uto+n2tstZ4ciGAAAIIIIAAAjYU8BQktGEzaZIDBcyXRsuVK8eKVgeOPV1GAAEEEEDAbgLcy7XbiNAefwgQIPSHImV4JTB37lx169bNSvvoo49qzJgxbvm++OIL14rA4cOHp7uq74cffrCeRWiOd955Rw899JBX9V+YiABhltgCnin6XLymr9wr8/+bG1dUeT9s9XnLhGVauSvK1bcRN9bTyZg4jVqw1a2/z3apo15NK6lo/rCAO9AABBBAAAEEEEDAnwJmu9HTp0/LfCHPbPV/4Souf9ZFWQhkJGBWr5ptbosVK6aIiAiwEEAAAQQQQAABWwgQILTFMNAIPwsQIPQzKMWlL2BuOBQuXNhK0KVLF5mAYepj2LBh+t///me9tGTJEmvFoacjPj7eKic2Nlbt2rXT4sWLs8ROgDBLbBdlpn4frtCvfx919e2Z62sr5lyi3vohecWrOTrXLasJ/ZpclP2nUwgggAACCCCAAAIIIIAAAggggAACCCCQvgABQmbHxShAgPBiHFWb9ikqKkolS5a0WmdWEn7zzTduLb3vvvv0wQcfWK/9/fffMs81TO+oUKGC9u/fbz2o/syZMwoNDfW51wQIfSa7aDMMnLxaCzYdcvVvcPvLFJ+QpHcWb3O91vWKcnqnb+OL1oCOIYAAAggggAACCCCAAAIIIIAAAggggIBnAQKEzIyLUYAA4cU4qjbt05dffqmbb77Zat0TTzyh1157za2ljz32mEaPHm29tnr1ajVp4nm1lnlwfZEiRawtkMyxefNm1a5d2+depwQIzXMPzTMPt2/fLlN2mTJl1Lx5c/Xp00fdu3fPseddcFHxechyLMNjn/+hL9fuc5U/8Krq1s/v/bLD9drNjSrozd4Nc6wNFIwAAggggAACCCCAAAIIIIAAAggggAAC9hTgXq49x4VWZU+AAGH2/MjtpYB5pkmrVq20cuVKK8eqVavUtGlTt9zvv/++Bg4caL32xhtvaMiQIR5LX7NmjVvwcMGCBerYsaOXLTmfLCVAmFFGs83p559/LrNi0dfDXDQyOg4cOGAFIs2xd+9eVaxY0dcqSO8ngWe+3KCpK/a4SuvXsorCQoL10dKdrtduaVpRr/Vs4KcaKQYBBBBAAAEEEEAAAQQQQAABBBBAAAEE8ooAAcK8MlK00xcBAoS+aJE2ywIm4Dd06FAr/0033aTZs2enKcv8I1u9enXFxcVZAbk//vhDpUqVcktnAo3m+YXz5893vT5r1iz16NHD57bVrFlTderUsYKL9erVU9GiRXX8+HEtW7ZM48ePt4J25jBpzGvmvC9HUFCQ18kJEHpNlSMJX5r7pyYuOR8M7NG4ogqEh2jy8t2u+m5rUVkv31Q/R+qnUAQQQAABBBBAAAEEEEAAAQQQQAABBBCwrwABQvuODS3LugABwqzbkdNLgZ9//lnt27dXfHy8LrnkEq1fv97axtPTMWjQII0dO9Y6ZQJ4ZhvSa665xnrWoAkYvvDCCzIrBs3v586ds9JNnjxZt99+u5etOZ/MBAOLFSvmMd+pU6fUs2dPLVy40Dpvtj998803faqDAKFPXAFN/ObCrRr74/nnDV5Xr6yKFQjTtJXJQWJz3Nm6ql64oW5A20nlCCCAAAIIIIAAAggggAACCCCAAAIIIJD7AgQIc9+cGnNegABhzhs7uoZNmzapbdu2OnbsmPLly2cF966++up0TUzQzwTm5syZk24as8rQPMvw9ddft9J89dVX1rMC/X2cOHFCNWrUUGRkpAoWLKioqCgrMOntwRaj3koFPt2En7fr1e+2uDWk7WWl9OvfR12v3du2moZ3uTzwjaUFCCCAAAIIIIAAAggggAACCCCAAAIIIJCrAgQIc5WbynJJgABhLkE7sZqdO3eqTZs22r9/v0JCQjRz5kxre9HMjqSkJH3yySd65513tHbtWpltRc1hVvv169dPI0aMsP4z25aaw6xQvOqqqzIrNkvnH374YY0bN87Ku3TpUrVu3TpL5XjKxEXFb5TZLmjW7/9o6Mx1GZbz9HW1NfDqGtmuiwIQQAABBBBAAAEEEEAAAQQQQAABBBBAIG8JcC83b40XrfVOgAChd06k8lHABAXNysEdO3bIbLU5adIk9e/f38dSpNOnT+vQoUPWyr3y5ctbgUZzmOcGfv/999bPR44cSfOsQp8rSifDu+++q4ceesg6O2PGDPXq1ctfRYuLit8os13Q0m1HddvEFRmWM+bWhuresEK266IABBBAAAEEEEAAAQQQQAABBBBAAAEEEMhbAtzLzVvjRWu9EyBA6J0TqXwQOHr0qLWN6J9//mnlMisBU4JsPhSTblKzDal5lqHZAtRsN7p9+3Z/FOuxDLN60KwiNAcBwhxjDnjB+4/HqPWrP6ZpR8mC4Yo8k/ysyxkDW6l5tRIBbysNQAABBBBAAAEEEEAAAQQQQAABBBBAAIHcFSBAmLve1JY7AgQIc8fZMbWYoN21116rNWvWWH1+9dVX9dRTT/m1/+aZgylblQ4bNkyvvPKKX8tPXZgJbJpVhOZYsmSJrrzySr/VxUXFb5R+KajqsHlu5bS5tJSm3NNCsXEJOnzyrC4pkk8RYckrWDkQQAABBBBAAAEEEEAAAQQQQAABBBBAwDkC3Mt1zlg7qacECJ002jnc1+joaGvrT/OsPnMMHz5cL730kl9rjY+PV5MmTbR+/XqFhYVpy5Yt1irCnDhMsLNGjRqKjIxUgQIFFBUVpXz58vmtKi4qfqP0S0EzV+/VE7PWu8qqWaaQFj52tV/KphAEEEAAAQQQQAABBBBAAAEEEEAAAQQQyLsC3MvNu2NHy9MXIEDI7PCLgNn2s1u3blq4cKFV3qBBgzR69Gifyzbbk5pgnPnvwsPUcc8992jy5MnWqWeffVYjRozwWEe7du30888/W+d27typqlWruqWbP3++tQ1q/vz5PeY/deqUevbs6erPI488orFjx/rcn4wycFHxK2e2C/tt21H1TfUcwiIRoVr/Qqdsl0sBCCCAAAIIIIAAAggggAACCCCAAAIIIJC3BbiXm7fHj9Z7FiBAyMzwi0CPHj00e/ZsqyyzxagJDgYFBaVbdnh4uGrWrJnm/KxZs3TvvffqtttuU/v27VW5cmWZlYlr167VhAkTXM81NCsV58yZI1OOpyOzAKE5v2HDBt18881q06aNtVKwUKFCOn78uJYtW6bx48dr7969VtG1atXSb7/9phIl/Pv8OS4qfpl6fitkx5HTuvaNn1U4X6jKFo2w/vvozmYKCwn2Wx0UhAACCCCAAAIIIIAAAggggAACCCCAAAJ5T4B7uXlvzGhx5gIECDM3IoUXAhkFAz1lr1Klinbt2pXmlAkQ9urVK8Ma77zzTiuAFxERkW46bwKEKSsMM6rsqquu0tSpU1WhQgUvFHxLwkXFN6+cTp2QmKSYuAQVyhea01VRPgIIIIAAAggggAACCCCAAAIIIIAAAgjkIQHu5eahwaKpXgsQIPSaioQZCfgrQHjo0CFrC9Eff/zRer6g+T04OFjly5fXNddcIxMcbNmyZaaDkVmAcPXq1Vq0aJG1WnDr1q0yW5ua1YNma1NTV4sWLdSnTx/rmYq+9i3Txv2bgIuKt1KkQwABBBBAAAEEEEAAAQQQQAABBBBAAAEEAifAvdzA2VNzzgkQIMw5W0pGIEMBLipMEAQQQAABBBBAAAE+WmtBAAAgAElEQVQEEEAAAQQQQAABBBBAwP4C3Mu1/xjRQt8FCBD6bkYOBPwiwEXFL4wUggACCCCAAAIIIIAAAggggAACCCCAAAII5KgA93JzlJfCAyRAgDBA8FSLABcV5gACCCCAAAIIIIAAAggggAACCCCAAAIIIGB/Ae7l2n+MaKHvAgQIfTcjBwJ+EeCi4hdGCkEAAQQQQAABBBBAAAEEEEAAAQQQQAABBHJUgHu5OcpL4QESIEAYIHiqRYCLCnMAAQQQQAABBBBAAAEEEEAAAQQQQAABBBCwvwD3cu0/RrTQdwEChL6bkQMBvwhwUfELI4UggAACCCCAAAIIIIAAAggggAACCCCAAAI5KsC93BzlpfAACRAgDBA81SLARYU5gAACCCCAAAIIIIAAAggggAACCCCAAAII2F+Ae7n2HyNa6LsAAULfzciBgF8EuKj4hZFCEEAAAQQQQAABBBBAAAEEEEAAAQQQQACBHBXgXm6O8lJ4gAQIEAYInmoR4KLCHEAAAQQQQAABBBBAAAEEEEAAAQQQQAABBOwvwL1c+48RLfRdgACh72bkQMAvAlxU/MJIIQgggAACCCCAAAIIIIAAAggggAACCCCAQI4KcC83R3kpPEACBAgDBE+1CHBRYQ4ggAACCCCAAAIIIIAAAggggAACCCCAAAL2F+Berv3HiBb6LkCA0HczciDgFwEuKn5hpBAEEEAAAQQQQAABBBBAAAEEEEAAAQQQQCBHBbiXm6O8FB4gAQKEAYKnWgS4qDAHEEAAAQQQQAABBBBAAAEEEEAAAQQQQAAB+wtwL9f+Y0QLfRcgQOi7GTkQ8IsAFxW/MFIIAggggAACCCCAAAIIIIAAAggggAACCCCQowLcy81RXgoPkAABwgDBUy0CXFSYAwgggAACCCCAAAIIIIAAAggggAACCCCAgP0FuJdr/zGihb4LECD03YwcCPhFgIuKXxgpBAEEEEAAAQQQQAABBBBAAAEEEEAAAQQQyFEB7uXmKC+FB0iAAGGA4KkWAS4qzAEEEEAAAQQQQAABBBBAAAEEEEAAAQQQQMD+AtzLtf8Y0ULfBQgQ+m5GDgT8IrBr1y5Vq1bNKmvlypUqV66cX8qlEAQQQAABBBBAAAEEEEAAAQQQQAABBBBAAAH/CRw4cEDNmze3Cty5c6eqVq3qv8IpCYEACRAgDBA81SKwatUq10UFDQQQQAABBBBAAAEEEEAAAQQQQAABBBBAAAH7C5jFHs2aNbN/Q2khApkIECBkiiAQIAEChAGCp1oEEEAAAQQQQAABBBBAAAEEEEAAAQQQQCCLAgQIswhHNtsJECC03ZDQIKcIxMbGasOGDVZ3S5curdDQUKd0XamX5LO9qmOG3W8dZf74jdJxBTF3HDfkfuswc8dvlBTkEAH+Zhwy0DnQTeZODqA6pEjmjkMGOge6ydzJAVSKvKgFnPw3Ex8fryNHjljjW79+fUVERFzUY03nnCFAgNAZ40wvEbCVAA/1tdVw5LnGMH/y3JDZpsHMHdsMRZ5rCHMnzw0ZDQ6wAH8zAR6APFw9cycPD16Am87cCfAA5OHqmTt5ePBoekAE+JsJCDuVIpBjAgQIc4yWghFAID0B3kwwN7IjwPzJjp6z8zJ3nD3+2ek9cyc7euR1ogB/M04cdf/0mbnjH0cnlsLcceKo+6fPzB3/OFKKcwT4m3HOWNNTZwgQIHTGONNLBGwlwJsJWw1HnmsM8yfPDZltGszcsc1Q5LmGMHfy3JDR4AAL8DcT4AHIw9Uzd/Lw4AW46cydAA9AHq6euZOHB4+mB0SAv5mAsFMpAjkmQIAwx2gpGAEE0hPgzQRzIzsCzJ/s6Dk7L3PH2eOfnd4zd7KjR14nCvA348RR90+fmTv+cXRiKcwdJ466f/rM3PGPI6U4R4C/GeeMNT11hgABQmeMM71EwFYCvJmw1XDkucYwf/LckNmmwcwd2wxFnmsIcyfPDRkNDrAAfzMBHoA8XD1zJw8PXoCbztwJ8ADk4eqZO3l48Gh6QAT4mwkIO5UikGMCBAhzjJaCEUAgPQHeTDA3siPA/MmOnrPzMnecPf7Z6T1zJzt65HWiAH8zThx1//SZueMfRyeWwtxx4qj7p8/MHf84UopzBPibcc5Y01NnCBAgdMY400sEbCXAmwlbDUeeawzzJ88NmW0azNyxzVDkuYYwd/LckNHgAAvwNxPgAcjD1TN38vDgBbjpzJ0AD0Aerp65k4cHj6YHRIC/mYCwUykCOSZAgDDHaCkYAQTSE+DNBHMjOwLMn+zoOTsvc8fZ45+d3jN3sqNHXicK8DfjxFH3T5+ZO/5xdGIpzB0njrp/+szc8Y8jpThHgL8Z54w1PXWGAAFCZ4wzvUQAAQQQQAABBBBAAAEEEEAAAQQQQAABBBBAAAEEEEDAEiBAyERAAAEEEEAAAQQQQAABBBBAAAEEEEAAAQQQQAABBBBAwEECBAgdNNh0FQEEEEAAAQQQQAABBBBAAAEEEEAAAQQQQAABBBBAAAEChMwBBBBAAAEEEEAAAQQQQAABBBBAAAEEEEAAAQQQQAABBBwkQIDQQYNNVxFAAAEEEEAAAQQQQAABBBBAAAEEEEAAAQQQQAABBBAgQMgcQAABBBBAAAEEEEAAAQQQQAABBBBAAAEEEEAAAQQQQMBBAgQIHTTYdBUBBBBAAAEEEEAAAQQQQAABBBBAAAEEEEAAAQQQQAABAoTMAQQQQAABBBBAAAEEEEAAAQQQQAABBBBAAAEEEEAAAQQcJECA0EGDTVcRQAABBBBAAAEEEEAAAQQQQAABBBBAAAEEEEAAAQQQIEDIHEAAAQQQQAABBBBAAAEEEEAAAQQQQAABBBBAAAEEEEDAQQIECB002HQVAQQQQAABBBBAAAEEEEAAAQQQQAABBBBAAAEEEEAAAQKEzAEEEEAAAQQQQAABBBBAAAEEEEAAAQQQQAABBBBAAAEEHCRAgNBBg01XEUAAAQQQQAABBBBAAAEEEEAAAQQQQAABBBBAAAEEECBAyBxAAAEEEAiIQGJiooKDgwNSN5XmPYG///5b+/btU7t27fJe42lxQAWSkpIUFBSklP8HtDFUjgACCDhEgPd5DhloP3WT93l+gnRgMbzPc+Cg02UEEEAAAb8KECD0KyeFIXBxC6R80I+Pj1doaOjF3Vl651eBuLg4LV682LpJHxUVpauvvlply5b1ax0UdnEKnDt3Ti+++KJeeeUVq4NHjhxRyZIlL87O0iu/C5jrlvn3Jzw83Pr3hwMBBNIX4H0esyOrArzPy6oc+XifxxzIjgDv87KjR16nCfA+z2kjTn8R8F6AAKH3VqREwNEC48eP11tvvaXNmzcrJCREfCvY0dPBp85PnjxZr7/+ug4dOqQTJ07o7NmzKlq0qG655RY99dRTql69uk/lkdg5Ah9//LGeeOIJK6hsjs6dO+uDDz5QhQoVnINAT7MsMHv2bH3zzTc6deqU1q9fr6ZNm+qaa67RjTfeqEsuuYTrWJZlyXgxCvA+72Ic1dzpE+/zcsf5YqyF93kX46jmXp94n5d71tSU9wV4n5f3x5AeIJCTAgQIc1KXshG4CATWrFmjgQMH6vfff7d68+yzz+q///2vEhISrEAhBwLpCaxdu1aPPfaYfvnlFytJ8eLFdezYMWv1qVmFao7+/fvrueeeU40aNdj+j6nkEli6dKkGDx7s+nenZcuWGjp0qDp16qSCBQsihUCGAsuXL7f+7VmxYkWadGZbYzOfpkyZoqpVqyKJgOMFeJ/n+CmQZQDe52WZzvEZeZ/n+CmQLQDe52WLj8wOE+B9nsMGnO4ikEUBAoRZhCMbAhe7gNkqyKy8MFv7bdy4UREREYqNjbW6vWvXLlWuXJkg4cU+CbLQv5RnQPz44496+OGHtWXLFmsr0QcffFDNmzdX6dKlNW/ePJlvfP7xxx8qV66chgwZoscffzwLtZHlYhP4559/9OSTT2r69OlW18xKQTM3+vTpozJlylxs3aU/fhY4ffq03n77beuLLObfovLly6tLly7WzydPnrQChrt377Zq7dChgxYsWODnFlAcAnlHgPd5eWes7NRS3ufZaTTyXlt4n5f3xsxOLeZ9np1Gg7bYXYD3eXYfIdqHgL0ECBDaazxoDQK2EZg/f771zK9ff/3VWrFTsWJF7d+/39qq7eabb9asWbNY8WWb0bJXQ0wg+bbbbtOXX36p+vXra+TIkWrfvr3CwsJkVu+Y1YPmRn3Hjh0VExNjrSJ87733eEaYvYYx11tjAjuDBg2y6jXz5NFHH9WAAQNUt27dXG8LFeY9AbPttdnKeNSoUdaWtObfFbOK0KxOTll1arbI7tu3rzZt2mT9OzR16lTdeuutbDWa94abFvtBgPd5fkB0aBG8z3PowGez27zPyyagw7PzPs/hE4Du+yzA+zyfyciAgKMFCBA6evjpPAKeBVatWqVevXppz549VgKzBaR5ZtN9990ns0WB+fawWSHWrl076yar2TKSA4EUAbP6y9yET5k7Zv6kzJGUb56bb7SZAJAJDJob+H///TeADhYwWxabYOC0adOsf1NMYMcEe1I/6zT1tsYp88jBZHT9AoFJkyZZ/6aYb5eba5VZiZr6+abnzp2zvoTw+eefa/jw4dqxY4eaNGkic73jQMBpArzPc9qI+7e/vM/zr6cTSuN9nhNGOWf7yPu8nPWl9ItLgPd5F9d40hsEckOAAGFuKFMHAnlMYMmSJbr33nutLUVffvllV7DnzTfftFYVRkZGWivD1q1bZ/WMm/V5bIBzqLkpwZwRI0bo+eeft1aBmZU6tWrV8rgd7T333KOPPvpIXbt21YwZM6xtbDmcJ5Ayb8wHGRMY/O2336zAzsqVK1WiRAmZwI6ZSylBZhMAKlSokM6ePat8+fI5D4wepxHYu3ev7rjjDv3000/WauUPPvhAVapUcUuX+ssJJjBots6uXbu2vvrqK9WsWRNVBBwlwPs8Rw233zrL+zy/UTqqIN7nOWq4c6SzvM/LEVYKvYgFeJ93EQ8uXUMghwQIEOYQLMUikNcFJk+ebK226Natm3UTPiQkxLW9qNl21Ny0Hz9+vAYOHMgqwrw+2H5uv1kJ9vHHH1tBHLOdkLlx7ymIbLYYNTf0TVqzJWnKQcDZzwOSh4p79dVX9dZbb+nIkSMaOnSoXnvtNVfrjx07ZgV+TND5wIEDOnPmjBo2bKh+/fpZz7c0QUQOZwqYfzPGjh1rBfveeeeddLelTVnxbgLRY8aMUcmSJa1n6qZsQepMPXrtVAHe5zl15LPfb97nZd/QqSXwPs+pI5+9fvM+L3t+5HamAO/znDnu9BqBrAoQIMyqHPkQuAgEzJttcwQFBaUJzpjVg6lXdKV8+/OLL77Q4MGDtW/fPv1/e+cBbUWVtO1STIBIEAmKCogJw5hJIgKOYTBhQjAhRgTFjAomRJQoihhRMCEDIhgAE0gUdVTMwhgxjIkgIiLirO9f7/6+5r/iDeeee87pvbufvRZLvLe7d+2n3j5n09VVVb16ddeXsHLlyvRwSoAeyrOE4rQTlYB88skn7YQTTnC6OvPMM00ZhfXr1193eWlLpSR79uxp7dq1cz3AlMlTpUoV23XXXctjBscmhED0+aJgjXQxdepU22KLLVyWsjLBhg4d6nT0888/O11FQWT9V8Gdk046yfW6rFu3bkKIsIxMCURaWLhwofteat++falZ7dKaXkhQqdFGjRq5lxS23XbbTKfjOAgERYB9XlDu8spY9nleuSN4Y9jnBe/C2BbAPi829EwcAAH2eQE4CRMhEAgBAoSBOAozIZArAnrgvmzZMpdto95vCtwoO7CkrK3ifn766aebgkC//vqrCxaq9GjRXmG5spXr+EUgU+0ou+vUU0+1l19+2bbeems7+uijXT+5JUuWuPK0L7zwgsvy0cN86VAaq1atmitDqvO6detm+++/P5ryy/0Vsub777/POHinHiP9+vVzmV3KMq1Tp449+uijbn7pQllfeilB11QZUmWFaXTv3t2VKG3SpEmFbOVk/wioH65eSNF3l76zopdXyvu9E73EoJcSVNZ47733dj0IyT71z+dYlD2BTL+roxnY52XPOmlnZqod9nlJ83zF18M+r+IM03wF9nlp9j5rLy+BTL+r2eeVlyzHQyDdBAgQptv/rD5FBBYtWuT6wk2fPt0FZPSgVZk5e+65p+srqB5M6vFV2gPX6OHqa6+95spG/vvf/3YElbmh86PfpwhrKpZaknbUh1KlgiLtFPX/G2+8YW3atHF9LKW3rbbaymrXru3+Lr1oqDehAj76R6GChZ9++qn7uQI8CvzUqFEjFXyTvMgPP/zQ9TOV//UigXoLljSih9TKErzooots3LhxrpSxRsOGDa13794uYFizZk2njbVr17rytA8//LDrW6jswfPPP999zjGSQUDfMdKN/iGsFwx++uknVz70H//4h1144YUuUJzN0GfMZ5995rKXx44dS5nsbCByjncE2Od555JgDGKfF4yrvDOUfZ53LgnKIPZ5QbkLY2MmwD4vZgcwPQQSToAAYcIdzPIgoKDNyJEj7YorrnAP1PVAVdkXevCuHl4aCvSoJOS1116bMbBrrrnG9SBcsWKFHX744a4kICNZBLLVThRkfvHFF23atGn2zDPPuEC0AssqSatMIAWlFTjSsRtvvLEtXrzYZQ8uWLDAZaZG/efKmyGULA+Eu5o1a9a44PGNN97oFiGfDx8+3Lp06eL8XdKIgoTPP/+8XXXVVS4wdNhhh1mfPn2sVatW68ohR73k9F9lgHXo0MEFj3TM4MGDrXnz5uHCw3JbvXq1C/Qq81hDL6/I18p21+eSxoknnuiOadq0abmI6WGUdKJsZp1PQLlc+DjYQwLZfleXtRT2eWURCv/32WqHfV74vq/oCtjnVZRgus9nn5du/7P68hHI9ru6rFnY55VFiN9DIF0ECBCmy9+sNoUEZs+ebWeddZbLztID1fPOO889rFdwUGVC77jjjnU9vUaNGuUe4CuAWFLJ0eihwFdffeWCim+99ZZ7YPvss8+6rI7owX0KUSduydlqZ/1MUgWmlbnatWtX22STTVzvrxYtWjhe0pn+qMTf/Pnz7corr7R58+a5gIAyC+vVq5c4rklfkPymz5X77rvPfvnlF9t8883df5X9N2jQIBcszmRccMEFJg0q0KgAYNFeqeufr/6ECvSoVK0Ckep9yQiTwKuvvmr6B6t6A2roeysKDiuL8MEHH3QZxxoqca3PDH1OlPSdFVGIvrumTJlixx13nHs5QWWQDzzwwDBBYTUE/o9Att/V7POQULbaYZ+Xbu2wz0u3/yu6evZ5FSXI+WkjkO13Nfu8tCmF9UKgYgQIEFaMH2dDwFsC2hDoobwehCo4s99++7lSauv359LDdD3IV9nHbbbZxgYOHGidOnXKqC+hMghvuOEG+/HHH23HHXc0lT3QIOvLW1lkZFg+tKNygHfddZede+65LvO0pHK0euCv4JLG0KFDXU85RjgEVFJWwboHHnjAfvjhB2vUqJH7zFE2qYYyRxX4UyCvpBF9fujzRFrcZZddygSghw3HH3+8qS+StHb77bfzOVQmNf8O+OSTT1zmqF5ekd+vvvpqO/bYY61q1arr+gTq+2zAgAEuuCdt6XPiqKOOKnMxka6UKX/zzTe7Hrx6waXotcu8CAdAwCMC+fiujpYXPVRin+eRw3NoSj60wz4vhw7y+FLs8zx2TgCmsc8LwEmY6A2BfHxXs8/zxr0YAgHvCBAg9M4lGASB3BHQA/ZmzZq5ko3KDjz99NPXXTwK0Ci7SxkZKgX43Xff2UEHHeTK+f39738vMSMjenCkfyTqofyMGTNMpWaigE70e5UxVdk/9Qwrraxg7lbMlXJFIJfaUa8v6UrlRe+//36X0br+iDJPVVryiCOOcL8u6dhcrZHr5J6AHib36NHDXVi9KfXZorLGCgqqxOzee+/tesqpP2WmQ58nGqVlEH700UfWrl07+/77711JUpU8Lu34TOfmuMIRULnqjh07usxB9ZjU94l6BEZ9BqPvLH1WTJo0yU477TRXKrt///4u4zDTHrjShwLWbdu2dS/PFHdeWdmIhaPCTBAonUAuv6uLzsQ+L/nKy6V22OclXy/RCtnnpcfXuV4p+7xcE+V6aSCQy+9q9nlpUAxrhED2BAgQZs+OMyHgPQH1f1P2hR6ojh8/3gXzij74jP6+bNkyu+eee6xv376utOMpp5ziMgnr1KlTZqlRlRbt2bOnKwep0qQqAVelShVTn6eXXnrJ3n//ffeQVwEiRjgEMtXO8uXLXUZgcdqJHry/+eabtv/++7uAzRNPPOGCACVlmSooqP6DK1eutEceecRpkREOAZWJVeBGfU2VMVq/fn2XyazPF2WGye/KEu3du7fVrVu3wguLNKbPGQUdpccog7DCF+cCBSWg75CGDRu6OZXVfvbZZ5c4v3qV6kWDt99+25UfnTNnTka2qjSpdKKH2erLq++59f+xrM8rvfSi0qbKgGVAwGcCmX5Xs8/z2Yvx2JapdtjnxeMfX2dln+erZ/y3i32e/z7CQv8IZPpdzT7PP99hEQRCI0CAMDSPYS8EykFAJdjat2/vyoXqgWfr1q1LDMyoTKgeiKrG+fbbb+8e4J9//vkZzXbOOee4vnIKBCigowe7ylh86qmn3M+6d+/u+oiVVlYwo4k4qGAEcqmdd955x2lLZWWOPvpomzx5slvH+lk6engv/UiDCjLrPJUBZIRDQJnE8p8ywBQUjgJ4H3zwgSsXqRcKGjRo4PoEqvxxrsaQIUPWZZFpjigLNVfX5zr5JRB9Fqh06KxZs0yZxMV9RkRWSGcqa/3111+7Fw4ef/xx93KLepkWN6LrKztR34n6f82j78RoqK/umDFjnDb1QFy26GUFXZcBAV8J5PK7urQ1ss/zVQHZ25VL7bDPy94PoZ3JPi80j/lhL/s8P/yAFeERyOV3Nfu88PyPxRAoJAEChIWkzVwQKDCBuXPnumyexYsXuwedgwYNKtUCZfwdeuih7hhlHg4ePNgFaEoqtxaVhdTD/xNOOGFdD0L1MlSwR6N58+YuWNi0adMCr57pKkIgV9qRDXqI36VLF3vllVdcgFr9xdQzTIHraCxdutRlnCmjRyUF+/Xr5wLLjPAIFM0OjT479FmhII56SuoNx86dOzsfVzQArLlUJrJbt27uM+eAAw5w5UVr1aoVHjgsdi+UKDi37bbblkhDWtIDSmUCqoegvrOee+65jOjp80WBal3/jTfesNq1a9vPP//sXmZRkFmZqBoqzT169OiM+l9mNDEHQSBPBHL1Xc0+L08O8viyudIO+zyPnZwn09jn5QlsCi7LPi8FTmaJOSWQq+9q9nk5dQsXg0AiCRAgTKRbWRQE/peAynyql6ACNCrx+eijj5qCdyVtEJTtowftKu2o426++eY/9S0sjqt6QOnBvLINtYFZvXq1O2y77bZzPaRU1pQRHoFca2fkyJEu+CctSlvHHHOM60un/1dwUJqLHvKfeeaZriemMs0YySGgDK2bbrrJvTCgDFF9PnTt2tU23XTTjBa5flla9VZVFtgtt9ziPnuy6W+Y0cQcVHACZfUA1GfGbrvtZj/88IPLdpcGSipbXNR4ZSgrUK3sVmUTzps3z2UMKqgcfW+pR2Yus1sLDo8JU0Ug19/V7PPSI59ca4d9Xnq0U9JK2eehgUwJsM/LlBTHpZ1Arr+r2eelXVGsHwIlEyBAiDogkHACJ510kuv71rhxY1cyTf9f2tADU5Xn0xt+PXr0cKVBq1atWuwpn3/+uXtAr5KRTz/9tDtGfeZuuOEGu/baaxNONvnLy4V2lA2osn+rVq2y6667zgWH1F9QQ4Ehle/T7zQ22WQTpzf1qGMkk4CCwPKv/rHTrl07l9W8zz77ZLxYvcSgUmbqITdlyhR76KGH3LkKJiuwo0xmRvIJ6HvqyCOPtBUrVtgDDzxgeqmgrPHTTz+5DFOVOtZnm/odRln1+t7q37+/yy5kQCA0Arn4rmafF5rXc2NvLrTDPi83vkjKVdjnJcWT8a6DfV68/JndLwK5+K5mn+eXT7EGAj4SIEDoo1ewCQI5IBBlU0R1y3VJZWz16dPH6tevX2IW4ffff2+XXXaZjR071urVq2cfffSRVa9e/S/H6y1RBQEVGNSDVw2VkVSZNp3HCJdArrUTlaJdsmSJTZgwwZWW1N8V7JEWFUBURqH0VLdu3XDBYXmJBKI3hVVe9LbbbnPZyRrKFL3wwgtdz8LS3ibW55I+a6KAjv5fLzFoKDikDLI6derggYQTiDQyceJE19dUQwHjPfbYo8yVq8Sxeg7qxQR99qxdu9adozLc0hWfPWUi5ADPCOT6u3r9z2D2eZ45PIfm5Fo77PNy6JxAL8U+L1DHeWY2+zzPHII5sRLI9Xc1+7xY3cnkEPCeAAFC712EgWkmoP5Kb775pnsQqgfo2YzvvvvOZQJOmjTJZUzo4byCMSUNbRzUe1DZhurNNGbMmGLLjOoBvfoUvvbaa9aiRQtXLlD9Bhl+EPBJO+tvRlUW8PXXX3eglEHYpEkT94fhB4FcaKe0legzQz1R9XawykSqxGP79u3LXPyIESNcD0MFeBTM0eeOrqPSogx/CORTP9FnSa9evUx62GWXXVzfQL1kUNZ49tlnXUlbBak1VGb09ttv53urLHD8Pm8EMimLm8nk7PMyoZSsY3zTDvu8cPSVK+2wzwvH57m0NN/6YZ+XS29xraQQYJ+XFE+yDgj4TYAAod/+wbqUEli+fLldeeWVrnSasvH+9a9/ub5t2QxlSihrSz0CFfBTDyZlau20005/ydiJNuUvvviiHXbYYe5BvDICFWBcf+gfCNOnT7cff/zRZQ4y/CDgs3akLw2V82P4RyCX2iltdepTqhNJXK8AACAASURBVM82BffUw7R79+4us3nrrbcuto+cPsMqVark+lXOnj3bHdO0adNylSb1j3byLCqkftRbVxmByh6Vlkob0feaAomdOnUy/SM76n+ZPC+wolAIRJ9rubCXfV4uKIZzDZ+1wz7Pbx3lUjvs8/z2dT6sK6R+2Oflw4NcMy4CFb132OfF5TnmhUC6CBAgTJe/WW0ABJRNc9VVV7kH5wqk6B/bM2bMsIMPPrjUEnylLW3x4sWurOPo0aOtWrVqLkCocqNVqlQp9poq3afMjP/85z+uFKD6MpXVTDwAtIk3MTTtoCl/JJkP7ZS2ukWLFlnfvn1NpSKVDajMZvVXiDLB9NmjFxr0OVRUJ2jGH80UtaSQ+vn2229d9p80onkvuuiiYqHoe2zzzTf/k36Uvbrffvu5gDMDAnERePzxx131BWlUfTRV1UEZ0TvssEPWey32eXF5s7DzhqYdvrMLq4/SZsuHdtjn+ePffFtSSP2wz8u3N7l+vgno2Z2e5f3666+uUknt2rVtk002cdNm+73IPi/fXuP6EIAAAUI0AAFPCEybNs2Vz/v3v//tLFI50C+++MIF8W666Sb3u4qMmTNn2nnnnWcff/yx7bXXXu566r1U3CZFmRZt2rRxvQXvvPNOl+GT7WamIjZzbmYE0E5mnDjqrwTyrZ2SmCsLUJnNF198salc8QknnOD6CKon5Zw5c1y/QfU/1eePsgX5/PFTvXHoR5nrerNcQ9n1++6775/gKKv9n//8p+tNeM0111ijRo1cz0GCgn5qKE1WPf/889a7d2979913XXlt9W3T0Mtgu+66q6kMrvZ+2Q72edmS8/88tOO/j3y1MN/aYZ/nq+dzY1cc+mGflxvfcZXCE9D9oud2+jeIxqpVq6xOnTruxUY9e2vXrl2FjGKfVyF8nAwBCJRBgAAhEoFAzASUSXPZZZfZ1KlTnSU77rijy9jbeeed7ZBDDjGV49ODcz1UKu9DTj180oN4vbGkDcrYsWNdkFBDmTkPP/ywy6YoOjSHehDqwarG3LlzrWXLljFTYvriCKAddJEtgXxrR3bpAXhpgT2VDB04cKCNHDnSfUZdeOGFrqyxgoN6SUHj1ltvdeWWGX4RiFM/V1xxhSsRqu8wZWEpK15D35UvvPCCDRs2zAWZNZQ1f8YZZ/gFD2tSR0B9d6+//nq799573dq32247FxBUMFsvbekNc+29Tj75ZPdgSZmEmQ72eZmSCvM4tBOm33ywOt/aYZ/ng5fzZ0Oc+mGflz+/cuX8ENDLrqrQNWrUKDeBXnjVv0/0sr3uJY0tttjCHXPppZeWq90K+7z8+IyrQgACfyVAgBBVQCAmAnogdN1117mHmRoqhaZSaWeddZbLeHj77bft1FNPtQ8//NBat25ts2bNythSBQVff/11e+KJJ6xt27bWoUOHded269bNxowZ4/5fD6hUevT44493/68gojIy9IaT3nw655xz1j3QynhyDsw7AbSTd8SJnaBQ2tEbkv/4xz+K5Vg0aKh+pz179nQPybfccktbunTpun9EKTio3qkMfwjEqR/pRt9tRxxxhL300kuuJK1KXunnb775pt1xxx322GOPoR9/5IIl/0dAD4S015NWzz33XDv99NOtQYMG7q1yaVnaVfagXqpQ9mvHjh3LzJpmn5cOeaGddPg5H6vMt3bY5+XDa/5cMw79sM/zx/9YkjkB6VbtgfTyol501Quv+jdKrVq1XPWSSZMmuT3gl19+aRtvvLFr36Me6vp3r/ZyUXuN9Wdkn5e5DzgSAhDIDQEChLnhyFUgUC4CypA55ZRTXEBOo0uXLi44qGy+aJOguuW77767ffLJJ9aqVSt75JFHMio9pbKkDz74oHvgpB5emmfEiBHurSVdW28y6YH8lClTXO8bbVT0jzy95aQgpYKK6oujue+55x6XPUh5v3K5N68Ho5284k30xePQTo0aNUpkqmCgHoqrj9x7773n/pGkoc9C/eOpatWqifZHaIvzQT/6zlR2vfoPKvtUL9GoDK2+4/S9pdGrVy/r378/+glNYAm1V9UhOnXq5PZ7Kus+aNAg13e16NB+TJnSKqvctWtXt4crbbDPS6hY1lsW2kmHn/OxykJqh31ePjwY7zXj1A/7vHh9z+zlJ/DUU0+55216ibJPnz5uPxdVN4mupqpd+neL9nlKBNALsMqULWmwzyu/HzgDAhCoOAEChBVnyBUgUG4C2jgMGTLEDjjgAFdO9NBDD7XKlSuvu05USlSBvLvuuss9TFLJPb1pVNJYvny5TZw40b29pPJvGgr83X333a5sqUb0lpLKIOjYG264wZYsWfKXSx577LHOvsaNG5d7bZyQXwJoJ798k3z1uLSzPlO9uKCMLwWc9DmkUqMaKql8++23u8xmhn8EfNCPem/oe01v6OrFmvnz59vChQsdLGUWRqVH/aOHRWkjEL1YpVJSegliq622cnotuq+K9mTffvut0/Ps2bPdW+fKhC3ujXL2eelQEdpJh5/zscq4tMM+Lx/eLPw1fdAP+7zC+50ZsyMQ3S+quPXAAw+41gdqzaPMwWhEz/S0f9PL+zfeeKP7lYKEKkeqSl9FWwixz8vOF5wFAQjkhgABwtxw5CoQyIhA9DBID8RVQrRZs2buoVFxQ8eqD6AeLCmbcPz48XbCCScUe6yyDFW2SptqDQUEb7vttnUl/krKAFT50hkzZti8efNchqHKW2kObVYYfhFAO375IyRrfNPOM8884z7bPvjgA4exSZMmrvTKkUceGRLW1Njqk3769u1rAwYMcD0r9b1Y3PddahzDQr0nsHbtWmvRooW99dZbbq+nB0fanxW3Jzv44INdgFAPj1Tabf3BPs97d+fUQLSTU5ypupgP2mGfF67k4tYP+7xwtZNGy9X/XIHBr776yo477jhXiUv3kCp0rT/UJ71Hjx726aeful/phUeVmY8G+7w0Kog1Q8AvAgQI/fIH1iSIQPQAKJvynNE5jz76qOtVU6VKFVeW6oILLiiWkDJyVOJFb5wPHjzY9RCMRtG3khKEN9FLQTuJdm9eFxeCdpThrCxB/ePplltucc3aGX4Q8FU/kV3KEIxK8kR9PC6//HI/4GFF6giUdr9EgfWo77N6DqpUfJs2bf7C6eWXX3YvSBx22GGu6kPREqTRddjnJUteaCdZ/izkakLQDvu8QiqifHP5qh/2eeXzI0cXhkBp94t+p9Y9Rx11lL3yyivWunVrmzVr1l8Mi66hql1qJ6RehOpNqGd02vOdd9557hz2eYXxKbNAAAIlEyBAiDog4DEBZdio7J5Kgqq826233vqnMgQy/Y8//nCZf9qY6A2mqKxB9POylhc9fMomkFnWtfl9fATQTnzsQ585n9qJPm9UXvTAAw/8UxmW0Llh//8SyKd+FixY4LLcVZ575MiR6AfReU1An3f33nuvy5hWz2e95KUeqzvttJOzW/s0VXJQSXeVFVVVCfV/rlOnjm233XbubfTatWuvWyP7PK/dnVPj0E5OcabqYnFrh31e2HKLWz/s88LWT9qsX7lypbVv397eeOMNa9iwoenl/pYtW65r61OUx5o1a2zvvfd2rRH0Ur/utf3339+ee+45q1mzpjuUfV7aFMR6IeAXAQKEfvkDaxJA4N1337UJEya4L31tGpo3b+4ehOthT3mH+g4ef/zx9vHHH7s3jubMmeN6L5U29MBJbyVtsMEG5Z2O42MmgHZidkDA04eiHV5E8FNkoehHb9vqbd3S+vH6SRirkkQgk/sl+qzTsSqLqzLxqgbxt7/9zWVN//rrr64H9IMPPriu3LL2d3qAFA1lG6p8fOfOnf+Ej31euGpCO+H6Lm7LQ9EO+7y4lVL8/KHoh32en/pJm1WZ3C9RlS6Vhtef6tWr2xlnnOH6oUcZglEgUP//+OOP2ymnnOKqg+nlMAUV69Wr5xIA9LOig31e2hTHeiHgBwEChH74ASsSQGDp0qXuLfH777//L6tp3Lix2ziohJQ2D9HblZkse5999nH9Cg866CAbN26c20gwkkUA7STLn4VcDdopJO3kzYV+kudTVpQ/AuW5X4qWd1dGhPrOvPbaa67/4GabbeayB/VHY5tttnGlc7U/XL58uetJM3XqVPeGuUqTTp482fbaa6+/VJDI30q5cq4JoJ1cE03P9dBOenydj5Win3xQ5ZpJJVCe+yWq1vXjjz+6l7++++47t2e76qqr/tIWSC/7q5TozJkzbdq0aW4f2LZtW4dR+z89J9TPGBCAAATiJECAME76zB08gegtSQXwVDrq1VdfdWs6+uij7ZdffjE1Lp4/f777mTIelA2ot4qqVq1aZpAwerik0qIqP6V+S2pevO2227oHTGQIhi0ftBO2/+K0Hu3EST/8udFP+D5kBYUjUJH7pWipdz10UoBQwcJNNtnEBg4caMuWLTP10Lz55pvdHq/oOPvss112oUaXLl1c2SpGWATQTlj+8slatOOTN8KzBf2E5zMsjo9ALu4X7de0b9PQy109e/Z0L3app7T2fv3793fP/lR+9IknnnB/V8sEPTts166dezGM53vxaYCZIQCB/yVAgBAlQCAHBPTmz/Dhw22HHXawwYMHu5KiW2yxhdsgjBkzxj38+eyzz9xMCiTeeeedGc/ap08f9yBJ17rvvvusa9euGZ/Lgf4TQDv++8hXC9GOr54Jwy70E4afsNIPArm8X/r27evKjp500kmu6kS1atXWZQeuXbvWBQsVUNxtt93shx9+cD0L1aNw33339QMGVpSLANopFy4OLkIA7SCHihBAPxWhx7lpI1DR++Wcc86xKVOmuEzCqMTo5ptv7pIGNI455hgbMWKEyzJUu4Tzzz/ftSXSHlDlRps0aZI25KwXAhDwjAABQs8cgjnhEdAXeqtWrUwPdVRi9Nprr/1Ln8DZs2e7wN4XX3zhFvjII4/YiSee6N4iL2lEZUhfeOEFO/zww22jjTaykSNHmjYfvGEUnk6KsxjtJMOPcawC7cRBPTlzop/k+JKV5J9ALu+Xb775xg499FD76KOP3IMhVZZYf0QVJPSC2C233GJbbbWVe+O8devW+V8sM+SUANrJKc5UXQztpMrdOV8s+sk5Ui6YYAK5uF9UIn7evHl2ww03uN7Sqhj2+++/u5e91Hv6qKOOWldiXs/1LrroIpc0oMCgztNejwEBCEAgTgIECOOkz9xBE4iCdA899JCdddZZpjeEVFdc5QSKG3pL/Pbbb3dNibVRUDZgixYtymSg44899lhXXrRbt242atQoAoRlUvP7ALTjt398tg7t+Owd/21DP/77CAv9IZCP+2XSpEkuKKiyUypB37Bhw7+UnI8ChOpJowoUKlWqt9KPOOIIf+BgSakE0A4CyZYA2smWHOeJAPpBBxDInEAu75foWmoxtHjxYmfEihUrrFmzZn8yKEoCGDRokF199dXuGeKiRYusXr16mRvOkRCAAATyQIAAYR6gcsl0Ebj11ltd5uA222xj77//vistWrQ/YLRZUHkBlRXQw55ff/3VlRXQeSozUNpQaVLVJv/qq69c6dInn3zS9TNkhE8A7YTvw7hWgHbiIp+MedFPMvzIKgpDIBf3S/RASGXnzzvvPFd14p///KerJhH9bv3VnHrqqTZ27FgXTHzrrbesfv36hVkws+SMANrJGcrUXQjtpM7lOV0w+skpTi6WcAK5uF9Kq/AVvfhV9Bjt/yZOnOgSBpRksH4v6oQjZ3kQgICHBAgQeugUTAqLgDIDL7zwQldCYPr06da2bdsSM/xUUkpvhI8fP95q1apl9957r3Xs2NH1Fyxt6K3x559/3r2B9Oyzz7pziwYhwyKGtREBtIMWsiWAdrIlx3kigH7QAQQyJ5DL+0UveZ1wwgmubPzf//53Vzq0cuXKLktQP9PQ33Xc6aef7vaWOv7xxx93+76y9ouZr4ojC0EA7RSCcjLnQDvJ9GuhVoV+CkWaeZJAIJf3SyY8FixYYEceeaR9++23puDklVdemclpHAMBCEAgrwQIEOYVLxdPA4HRo0e7EqPKHFS/GDU4Lm3oTaFLLrnEvv76a+vUqZMrO1qnTp0ST9Gb5eprqD40GspSbNq0KWVGEyAutJMAJ8a0BLQTE/iETIt+EuJIllEQArm+X7SHW7hwoetDrT3jTTfd5NahYKAqTOhlswEDBpgeIB100EF2991326677lqQtTJJbgmgndzyTNPV0E6avJ37taKf3DPlisklkOv7pSip9atEqPzoddddZ4888ohtv/32NnXqVPZ4yZUWK4NAUAQIEAblLoz1iUBUIkC1xdVceOnSpe5tb9UTLy7gFx3/zTffuIdB6kGoN8FnzJjhHgCVVGJKa+7Xr59reFy9enUbOnSo60XICJcA2gnXd3Fbjnbi9kDY86OfsP2H9YUlkOv7Zc2aNbbpppvac889Z0cddZSp5JRGmzZtXP9q7QNVTn7y5Mnu57vssosNGzbMDj/88MIunNkqTADtVBhhai+AdlLr+pwsHP3kBCMXSQmBXN8vpT3P07NCvRx25513uhLzNWvWtIEDB9rZZ5+dEtosEwIQ8J0AAULfPYR93hNYtWqVXXbZZS7gpy96vQW0fjPi9RehUlHKNvziiy+sc+fO9thjjxWbERhtMtR7Zr/99nOXGTlypHXv3t17LhhYNgG0UzYjjiieANpBGRUhgH4qQo9z00YgV/dL0QdHeulLe8GPP/7YvSym3xUdF198sXuZrGrVqmnDnaj1op1EubOgi0E7BcWduMnQT+JcyoLySCBX98v6fQh//vln10v6zTffNP192rRp9ssvv7iS8qoOpjZFqibBgAAEIOADAQKEPngBG2InEL3Vna0hY8aMcQE/1RHXW0DqLVhcj8Bo06DSAmeccYbNmTPH6tevb7NmzbIddtihxOnnzp1rxx57rDVq1MjGjRtX6rHZroHzsiOAdrLjxllmaAcVVIQA+qkIPc5NGwFf7peo1+Bvv/1m6kutIOB7773n+hA2aNDAVaTo2bOn7bTTTmlzkbfrRTveusZ7w9CO9y7y2kD047V7MM4zAr7cL0WxyCZVg9Czv2h07NjRbr75ZvdzBgQgAAGfCBAg9Mkb2FJwAirlpP6BehCjdP/SygIUZ1wU8Fu0aJFdfvnlNmXKFHfYzJkzXdnQ0ob6EKr/oGqPq+75wQcfXOLhP/30k33wwQfWqlWrgjNiwuIJoB2UkS0BtJMtOc4TAfSDDiCQOQFf75eib5kvX77c9bFesmSJ1a1bN/PFcWReCaCdvOJN9MXRTqLdm/fFoZ+8I2aCBBHw9X5RGflKlSrZs88+654Rbrnllq5k/IEHHpgg+iwFAhBIEgEChEnyJmvJmIACgSrv1L9/f3fOVltt5co86QFNtmPEiBE2ePBg+/rrr+2QQw5ZV1t8/etFmwVlBUZBxOnTp1vbtm2LLTOarT2clx8CaCc/XNNwVbSTBi/nb43oJ39suXLyCHC/JM+nhVoR2ikU6eTNg3aS59NCrgj9FJI2c4VOIKT7ZeXKlVatWrXQkWM/BCCQcAIECBPuYJb3VwLq+aJsP5UD1dCbPQ0bNrRHHnnEmjdvXm5kUdbhN998Y1deeaULDOpnQ4YMceVGFXRcvx65Jpk8ebJ16tTJFDCcMGGCqdwAw28CaMdv//hsHdrx2Tv+24Z+/PcRFvpDgPvFH1+EZgnaCc1j/tiLdvzxRYiWoJ8QvYbNcRHgfomLPPNCAAJJJkCAMMneZW1/IqDmwCrrqcw9jb/97W+utKiCcxtuuKHrB9iiRYtylxktOonKB6im+Kuvvmrbbrut6y1zyimnuCBklDkYHT9x4kTr3Lmzbbzxxvbaa6/Z7rvvjsc8JYB2PHVMAGahnQCc5LGJ6Mdj52CadwS4X7xzSTAGoZ1gXOWdoWjHO5cEZRD6CcpdGBszAe6XmB3A9BCAQKIJECBMtHtZnAiop0vv3r1dnz8NlRO99NJL7YwzzrAXXnjBevXqZStWrLDrr7/e/SnPWLt2resH1bhxY3fa77//7jIRr7nmGvvxxx9dELJHjx4uk7Do0DldunSxefPmuaxF1SavWbOmbbDBBuWZnmPzTADt5Blwgi+PdhLs3AIsDf0UADJTJIYA90tiXFnwhaCdgiNPzIRoJzGujGUh6CcW7EwaKAHul0Adh9kQgEBQBAgQBuUujC0vAfUE7NOnj/3xxx/u1PPOO88uuOACa9q0qcvqe+ONN+yAAw5wf1cgb9CgQbbJJptkNM3ChQtt5MiRdt9997lAY5s2bdx5v/zyiwtGKvCozESVG1XgUSVEN9tsM/v5559t1KhR7s8222zjzj/ssMMympODCkcA7RSOddJmQjtJ82hh14N+Csub2cImwP0Stv/itB7txEk/7LnRTtj+i9t69BO3B5g/JALcLyF5C1shAIGQCRAgDNl72F4iAWX2tW/ffl050cMPP9yVF1UQr2gAUA2DDz74YFuwYIF16NDBnnnmmWL7BRad6PvvvzfVPR86dKip76CG+g0qK7HouOKKK1yfwU8//dQFIKtXr+4ChGvWrLGlS5e6QxU4VN/CypUr401PCKAdTxwRoBloJ0CneWQy+vHIGZjiPQHuF+9d5K2BaMdb13hvGNrx3kVeG4h+vHYPxnlGgPvFM4dgDgQgkHgCBAgT7+L0LVAZe8rcGzBggD388MOuvKiy92rUqPEXGD/88IOdfPLJNnPmTKtXr57rHbjddtsVC2316tX29NNPu6zBqI/hvvvua8OGDbPWrVuvOyea/7fffrO3337bBQAXLVrkSo5WrVrV9SJs1qyZ61XYsmXL9DnI4xWjHY+d47lpaMdzB3luHvrx3EGY5xUB7hev3BGUMWgnKHd5ZSza8codwRmDfoJzGQbHSID7JUb4TA0BCKSWAAHC1Lo+uQv/n//5n3W9/JTtV7du3VIXe9ppp9ljjz1mTZo0sUcffdSVHC1uvPzyyy4rUaNWrVquHGm3bt3c/2tO/VFgMhqRHatWrbLFixfbRx995DIJ1WswKkeaXC+EuTK0E6bffLAa7fjghXBtQD/h+g7LC0+A+6XwzJMyI9pJiicLvw60U3jmSZoR/STJm6wl3wS4X/JNmOtDAAIQ+CsBAoSoIrUEojeTxowZsy7Q99JLL1m7du1c38CiwT5BUgahfqesQZUX3XTTTR079TfcaKONSuRYdIOTWtgJWzjaSZhDC7gctFNA2AmcCv0k0KksKW8EuF/yhjbxF0Y7iXdx3haIdvKGNhUXRj+pcDOLzBEB7pccgeQyEIAABMyMACEySD2B0aNHW48ePUwlQVUO9NZbby2RiYKEUb/AsgKDqQebAgBoJwVOztMS0U6ewKbksugnJY5mmTkhwP2SE4ypvAjaSaXbc7JotJMTjKm9CPpJretZeBYEuF+ygMYpEIAABNYjQIAQSQRH4JNPPrFLLrnEjj/+eOvatavr6afSneUdUWafyn+qvKiuc+mll9rAgQNd9uAGG2xQ7CWLKyda3rk5Ph4CaCce7kmYFe0kwYvxrQH9xMeemcMjwP0Sns98sRjt+OKJ8OxAO+H5zCeL0Y9P3sAW3wlwv/juIeyDAATSSIAAYRq9HuialbHXr18/69+/v1vBHnvsYa+99pptttlmxZYEzXSZP/74o5144ok2e/Zsa968ub3yyiuZnspxgRBAO4E4ykMz0Y6HTgnIJPQTkLMwNXYC3C+xuyBYA9BOsK6L3XC0E7sLgjYA/QTtPowvMAHulwIDZzoIQAAC5SBAgLAcsDg0PgKLFi1ypT8feughZ4T6/61Zs8Zuuukm69OnT4UChCtXrrQjjjjCBQa32WYbe+6552y33XaLb7HMnFMCaCenOFN1MbSTKnfnfLHoJ+dIuWCCCXC/JNi5eV4a2skz4ARfHu0k2LkFWBr6KQBkpkgMAe6XxLiShUAAAgklQIAwoY5N0rK+/fZbu+WWW2zs2LG2bNky23HHHU1lQX///XerW7euC+w1atQoq1KjUWNjlRYdPny4NWjQwKZNm0aAMCECQjsJcWQMy0A7MUBP0JToJ0HOZCl5J8D9knfEiZ0A7STWtXlfGNrJO+JET4B+Eu1eFpdjAtwvOQbK5SAAAQjkgQABwjxA5ZK5I7Bq1So7//zz7bHHHnMXVVlR/V3BvAcffND9TH0Io7+Xd+aoD+GoUaOsV69etnr1ahs3bpyddNJJFcpKLK8dHJ97Amgn90zTckW0kxZP52ed6Cc/XLlqMglwvyTTr4VYFdopBOVkzoF2kunXQq0K/RSKNPMkgQD3SxK8yBogAIE0ECBAmAYvB77G9u3b27x58+zUU0+1oUOHWvXq1e3TTz+1li1bmvoHqgfh1KlT7eCDD84qi1B4JkyYYCeffLJVqlTJBQoHDx4cODXMFwG0gw6yJYB2siXHeXz2oAEIlI8An7fl48XR/58A2kEN2RJAO9mS4zz2eWgAAuUjwOdt+XhxNAQgAIE4CBAgjIM6c2ZE4L///a8L2L3++uuuL+App5xiO+ywg+s9qB6E6j94/fXXu2spODhjxgz39ygrMJNJomOXL19ujRs3thUrVrgA4W233ZZ1sDGTeTkmvwTQTn75JvnqaCfJ3s3/2tBP/hkzQ3IIcL8kx5eFXgnaKTTx5MyHdpLjyzhWgn7ioM6coRLgfgnVc9gNAQikkQABwjR63eM1Rz0B1zdx5cqVVq1aNffj6BiVAz3ggAPsgw8+cD9XmdBu3bplFdhTXXRlKL788su2884724cffmgbbLCBx6QwbX0CaAdNZEsA7WRLjvOKfifxvYUeIFA2AT5vy2bEEcUTQDsoI1sCaCdbcpzHPg8NQKB8BPi8LR8vjoYABCDgCwEChL54IoV2KOin4F6VKlXc6vfcc8+MKURvI40dO9ZOO+00lzW44447umxDlSAtaWNS2gRt27a1H8aFRwAAFxpJREFUWbNm2a677ur6HO61114Z28OBhSWAdgrLO0mzoZ0kebPwa0E/hWfOjOES4H4J13dxW4524vZAuPOjnXB954Pl6McHL2BDKAS4X0LxFHZCAAIQKJsAAcKyGXFEHgiMGDHC7rnnHlPT4q+++spq1qxpBx54oHXu3Nk6depUrhmPOOIIe/75590511xzjfXv379cZUajYOOtt97qzq9Ro4bNnTvXmjZtWi47OLgwBNBOYTgncRa0k0SvFm5N6KdwrJkpfALcL+H7MK4VoJ24yIc/L9oJ34dxrgD9xEmfuUMjwP0SmsewFwIQgEDpBAgQopCCEnjrrbfs0ksvtdmzZ7t5a9euber/pyBdNC655BLTnwYNGpSaCRgF9ubPn2+HHnqoCzbWqlXL5syZ47IAo99nusDRo0fbWWed5Q5/8skn7dhjj830VI4rAAG0UwDICZ0C7STUsQVaFvopEGimSQQB7pdEuDGWRaCdWLAnYlK0kwg3xrYI9BMbeiYOkAD3S4BOw2QIQAACGRAgQJgBJA7JDYEVK1bYueeeaxMmTLBGjRq5QOHuu+/ueguqVOhzzz3nev9VqlTJOnTo4IJ0G264YUaTX3DBBS4jUUMZiI8//nhG5+kglSdVv0HN17dvX7vzzjutXbt2GZ/PgfkngHbyzzipM6CdpHq2MOtCP4XhzCzJIMD9kgw/xrEKtBMH9WTMiXaS4ce4VoF+4iLPvCES4H4J0WvYDAEIQCAzAgQIM+PEURUgEPUDvOuuu6xnz54uADhmzBgXyNPfFZzTUHCwY8eO9vnnn9sff/xhN9xwg/Xo0cO23HLLEmePsgS/+eYba9asmf3nP/+xjTfe2CZPnmwqParrFJ2jAsvg1BgIoJ0YoCdkSrSTEEfGtAz0ExN4pg2SAPdLkG7zwmi044UbgjQC7QTpNm+MRj/euAJDAiDA/RKAkzARAhCAQAUJECCsIEBOz5zAiSeeaBMnTnTlQJUtWHREm46pU6fakCFDbObMmS4wqL6Ap59+ugv6lTSic3XelVde6Q5r0aKFzZs370+nqJRplSpVbNNNN83caI70ggDa8cINQRqBdoJ0mzdGox9vXIEhARDgfgnASZ6aiHY8dUwAZqGdAJzksYnox2PnYJp3BLhfvHMJBkEAAhDIGQEChDlDyYVKI/Ddd9/ZIYcc4rIETz31VHv44Yf/1F8wKvOp/44fP9569+5tX375pbVt29ZlErZu3brEy0fnKluwefPmprroGiNHjrTu3bvbsmXLbMGCBS6rsE2bNq634EYbbYTDAiGAdgJxlIdmoh0PnRKQSegnIGdhauwEuF9id0GwBqCdYF0Xu+FoJ3YXBG0A+gnafRhfYALcLwUGznQQgAAECkyAAGGBgad5uqZNm9rChQtd0E7BuyjzL2ISBfp++ukn1wfwuuuuc+VHL774YuvTp4/VqlVrXb/A9TlGpUaVoXjyySeb/n/77be3UaNGueDguHHjXOCwfv369sorr7jfMcIhgHbC8ZVvlqId3zwSlj3oJyx/YW28BLhf4uUf8uxoJ2TvxWs72omXf+izo5/QPYj9hSTA/VJI2swFAQhAoLAECBAWlnfiZ1s/6BcteOnSpda5c2d76aWXbJdddrH58+db9erVSwz4ffzxx3bOOefY7NmzbY899rCBAwfa4YcfXiK/ovOqj+FTTz3ljm3cuLF99tln7u+bbbaZXX/99S47keEfAbTjn09CsQjthOIpP+1EP376Bav8JMD94qdfQrAK7YTgJT9tRDt++iUUq9BPKJ7CTh8IcL/44AVsgAAEIFB4AgQIC888UTOqZKj6Ay5ZssT0RtHmm29ulSpVKjbw16lTJ5swYYI1adLEhg0bZkceeWSJLFQu9LHHHrMzzzzTHaPegsoirFatWqn8fv/9d5d9eO2115r+rkxCjXPPPdf1M6xRo0ai+Ie8GLQTsvfitR3txMs/9NnRT+gexP5CEuB+KSTtZM2FdpLlz0KuBu0Uknby5kI/yfMpK8ofAe6X/LHlyhCAAARCIkCAMCRveWTrv/71L5fV98EHH7gefwoQ7rTTTrbXXnvZgAEDrGHDhq48qMqG6i0kBQ2nTZtmHTp0cKtQX8HLLrvMqlatWuKqlPnXq1cvmzJliu288842ffp023rrrYs9fuXKlfb222/b008/bZMmTVqXNajehbfffruzi+EHAbTjhx9CtALthOg1f2xGP/74Akv8J8D94r+PfLUQ7fjqGf/tQjv++8hnC9GPz97BNt8IcL/45hHsgQAEIBAvAQKE8fIPbnaVCr3mmmvs/vvvd7ZXrlzZVq9e7bII165d637Wrl07u/DCC+2YY475UybhN998Y126dLE5c+bYAQcc4PoD7r777iUy0PWGDx9u/fr1s1WrVtno0aPtjDPOcFmBCjhG49dff7Xx48fb0KFDXcBSo0GDBjZkyBA76aSTgmOcVIPRTlI9m/91oZ38M07yDOgnyd5lbbkmwP2Sa6LpuR7aSY+vc71StJNroum6HvpJl79ZbcUIcL9UjB9nQwACEEgqAQKESfVsHtalwJ6Cg/PmzXPZgWeddZa1b9/e9fZT8E9BOvUMVLCwVatW9vDDD7tAXRTQUyBP2Xwq/6mswltuucUuuugiF2RcfyjzUHPMmDHDunXrZl9++aULOD755JPu50WHrnvbbbe562r079/f2cnwhwDa8ccXoVmCdkLzmF/2oh+//IE1fhPgfvHbPz5bh3Z89o7ftqEdv/3ju3Xox3cPYZ9PBLhffPIGtkAAAhDwiwABQr/84a01X3zxhV1++eU2efJkl/WnANxRRx3lgoNRwO6nn34y9Rl88cUXrXbt2q5voM4pOubPn29XX321CyQ2btzYBRFbtmxZ6rr33HNPe//99+3444+3cePG2YYbbviXIKFKJLz00kvWtWtXq1+/vrcc02gY2kmj13OzZrSTG45pvQr6SavnWXc2BLhfsqHGOSKAdtBBtgTQTrbkOI/PHjQAgfIR4PO2fLw4GgIQgEDaCBAgTJvHs1iv+vt17NjRZfNVqVLF7rrrLle6U8FBDWX76Y8Cd++8847tvffe7ufnnnuuy+xThmCUEfj777/bsGHDbNCgQaaAorIQ+/Tp43oWrj/++OMP22ijjdx1VI50l112sXfffdf9jBEGAbQThp98tBLt+OiVcGxCP+H4CkvjJ8D9Er8PQrUA7YTqufjtRjvx+yBkC9BPyN7D9kIT4H4pNHHmgwAEIBAeAQKE4fms4BarRKiy/VSvfMSIEXbmmWcWa4OCgCr3qVKgCiY2a9bMlDEYjShIuHDhQlcGdOzYsS7gqGzEHj16WPXq1V3pUQUai462bdvarFmz7Mgjj7SJEye6/oPrH1NwKEyYEQG0kxEmDiqGANpBFhUhgH4qQo9z00aA+yVtHs/detFO7lim7UpoJ20ez+160U9ueXK1ZBPgfkm2f1kdBCAAgVwQIECYC4opuIZKgg4fPtwF9ZQ5GAX71l/6b7/9ZgceeKAtWLDA9tprL5s+fbrVqFHjL4RUhvSyyy5zpUN33HFH12ewd+/efwoQao733nvPOnTo4Hoc9urVy2UkMsIigHbC8pdP1qIdn7wRni3oJzyfYXF8BLhf4mMf+sxoJ3QPxmc/2omPfRJmRj9J8CJrKBQB7pdCkWYeCEAAAmESIEAYpt9isXrZsmVWq1atEufWm0nK7jv00ENdP0D1Fpw7d+6fjo8Ci2vXrrUpU6bYcccd536vPoZ33323HX300VavXj1ToHHJkiU2ePBgu/POO22HHXawSZMm2W677RbL2pm0YgTQTsX4pflstJNm71d87ein4gy5QnoIcL+kx9e5XinayTXR9FwP7aTH1/lYKfrJB1WumVQC3C9J9SzrggAEIFBxAgQIK84wVVcorgRoUQAK6u2zzz729ddf2/nnn+/6FZaUbajzVGr0vvvuc8dvvvnm1qBBA2vVqpVVq1bNXn31VfdH5UQHDBhgl156qQtAKpjICI8A2gnPZ75YjHZ88USYdqCfMP2G1fEQ4H6Jh3sSZkU7SfBiPGtAO/FwT8qs6CcpnmQdhSDA/VIIyswBAQhAIDwCBAjD85nXFn/xxRcuc/C7775z5UBVFrS4EW1MlEmobMPLL7/c1JtQwUQNBQH19y233NKGDRtmp512mtfrxriKE0A7FWeY1iugnbR6PjfrRj+54chV0kGA+yUdfs7HKtFOPqim45poJx1+ztcq0U++yHLdJBLgfkmiV1kTBCAAgbIJECAsmxFHlIPAzJkzrV27du4MlRdVsLC0DMLo0p9//rk7fvLkyaZSpVWrVnU9DHv06GFVqlQphwUcGioBtBOq5+K3G+3E74OQLUA/IXsP2wtNgPul0MSTMx/aSY4vC70StFNo4smaD/0ky5+sJr8EuF/yy5erQwACEPCVAAFCXz0TqF29e/d2fQObNGli8+bNs6222qpcK4kyC1evXm2VK1cu17kcHDYBtBO2/+K0Hu3EST/8udFP+D5kBYUjwP1SONZJmwntJM2jhVsP2ikc6yTOhH6S6FXWlC8C3C/5Ist1IQABCPhNgACh3/4JxjoF9lQW9LDDDnMlQ4855hibOHGi6x9Y3pFJxmF5r8nx/hJAO/76xnfL0I7vHvLbPvTjt3+wzi8C3C9++SMka9BOSN7yy1a045c/QrMG/YTmMeyNkwD3S5z0mRsCEIBA/AQIEMbvg0RYoKDeb7/9ZrvvvrupXOiNN95o1157rRXXBHnJkiVWu3btYn+XCBgsolwE0E65cHFwEQJoBzlUhAD6qQg9zk0bAe6XtHk8d+tFO7ljmbYroZ20eTy360U/ueXJ1ZJNgPsl2f5ldRCAAATKIkCAsCxC/D5jAiop2rp1a3f8tGnTXDZh0WzAr7/+2h566CEbP368Pfvss7bttttm1J8wYwM4MFgCaCdY18VuONqJ3QVBG4B+gnYfxheYAPdLgYEnaDq0kyBnFngpaKfAwBM2HfpJmENZTl4JcL/kFS8XhwAEIOA1AQKEXrsnLOOuu+4669+/v2233Xb28ssvW6NGjdwCfv75Z3vmmWdsyJAh9s4777if3XbbbdarV6+wFoi1eSOAdvKGNvEXRjuJd3FeF4h+8oqXiyeMAPdLwhxawOWgnQLCTthUaCdhDi3wctBPgYEzXdAEuF+Cdh/GQwACEKgQAQKEFcLHySLwxx9/2EYbbWTHHXecTZ482dq1a+f6EOrnc+fOdcFABQg1GjRoYEOHDrUTTzwReBBAO2ggawJ87mSNjhP53kIDECgXAT5vy4WLg4sQQDvIIVsCaCdbcpzH8wk0AIHyEeDztny8OBoCEIBAEgkQIEyiV2NY03//+1/beeed7bPPPrOrr77aunfvbgMGDLD77rvP9RrU6Nevn/Xt2zcG65jSZwJox2fv+G0b2vHbP75bh3589xD2+USA+8Unb4RlC9oJy18+WYt2fPJGeLagn/B8hsXxEeB+iY89M0MAAhDwgQABQh+8kAAbXnnlFWvTpo1tuOGG1qxZM1u8eLF99dVXbmWdO3e2wYMH29Zbb52AlbKEXBNAO7kmmp7roZ30+DofK0U/+aDKNZNKgPslqZ7N/7rQTv4ZJ3UGtJNUzxZmXeinMJyZJRkEuF+S4UdWAQEIQCBbAgQIsyXHeX8icMcdd9gll1xim2yyia1Zs8b9br/99rPhw4dby5YtoQWBEgmgHcSRLQG0ky05zhMB9IMOIJA5Ae6XzFlx5J8JoB0UkS0BtJMtOc5jn4cGIFA+Anzelo8XR0MAAhBIGgEChEnzaEzref/9923PPfd0s9esWdNlDHbr1i0ma5g2JAJoJyRv+WUr2vHLH6FZg35C8xj2xkmA+yVO+mHPjXbC9l+c1qOdOOmHPzf6Cd+HrKBwBLhfCseamSAAAQj4SIAAoY9eCdSmdu3a2a677mrDhg2zTTfdNNBVYHYcBNBOHNSTMSfaSYYf41oF+omLPPOGSID7JUSv+WEz2vHDDyFagXZC9Jo/NqMff3yBJf4T4H7x30dYCAEIQCBfBAgQ5otsCq+rxsaVKlVK4cpZckUJoJ2KEkzv+Wgnvb7PxcrRTy4oco20EOB+SYunc79OtJN7pmm5ItpJi6fzs070kx+uXDWZBLhfkulXVgUBCEAgEwIECDOhxDEQgAAEIAABCEAAAhCAAAQgAAEIQAACEIAABCAAAQhAAAIQSAgBAoQJcSTLgAAEIAABCEAAAhCAAAQgAAEIQAACEIAABCAAAQhAAAIQgEAmBAgQZkKJYyAAAQhAAAIQgAAEIAABCEAAAhCAAAQgAAEIQAACEIAABCCQEAIECBPiSJYBAQhAAAIQgAAEIAABCEAAAhCAAAQgAAEIQAACEIAABCAAgUwIECDMhBLHQAACEIAABCAAAQhAAAIQgAAEIAABCEAAAhCAAAQgAAEIQCAhBAgQJsSRLAMCEIAABCAAAQhAAAIQgAAEIAABCEAAAhCAAAQgAAEIQAACmRAgQJgJJY6BAAQgAAEIQAACEIAABCAAAQhAAAIQgAAEIAABCEAAAhCAQEIIECBMiCNZBgQgAAEIQAACEIAABCAAAQhAAAIQgAAEIAABCEAAAhCAAAQyIUCAMBNKHAMBCEAAAhCAAAQgAAEIQAACEIAABCAAAQhAAAIQgAAEIACBhBAgQJgQR7IMCEAAAhCAAAQgAAEIQAACEIAABCAAAQhAAAIQgAAEIAABCGRCgABhJpQ4BgIQgAAEIAABCEAAAhCAAAQgAAEIQAACEIAABCAAAQhAAAIJIUCAMCGOZBkQgAAEIAABCEAAAhCAAAQgAAEIQAACEIAABCAAAQhAAAIQyIQAAcJMKHEMBCAAAQhAAAIQgAAEIAABCEAAAhCAAAQgAAEIQAACEIAABBJCgABhQhzJMiAAAQhAAAIQgAAEIAABCEAAAhCAAAQgAAEIQAACEIAABCCQCQEChJlQ4hgIQAACEIAABCAAAQhAAAIQgAAEIAABCEAAAhCAAAQgAAEIJIQAAcKEOJJlQAACEIAABCAAAQhAAAIQgAAEIAABCEAAAhCAAAQgAAEIQCATAgQIM6HEMRCAAAQgAAEIQAACEIAABCAAAQhAAAIQgAAEIAABCEAAAhBICAEChAlxJMuAAAQgAAEIQAACEIAABCAAAQhAAAIQgAAEIAABCEAAAhCAQCYECBBmQoljIAABCEAAAhCAAAQgAAEIQAACEIAABCAAAQhAAAIQgAAEIJAQAgQIE+JIlgEBCEAAAhCAAAQgAAEIQAACEIAABCAAAQhAAAIQgAAEIACBTAgQIMyEEsdAAAIQgAAEIAABCEAAAhCAAAQgAAEIQAACEIAABCAAAQhAICEECBAmxJEsAwIQgAAEIAABCEAAAhCAAAQgAAEIQAACEIAABCAAAQhAAAKZECBAmAkljoEABCAAAQhAAAIQgAAEIAABCEAAAhCAAAQgAAEIQAACEIBAQggQIEyII1kGBCAAAQhAAAIQgAAEIAABCEAAAhCAAAQgAAEIQAACEIAABDIhQIAwE0ocAwEIQAACEIAABCAAAQhAAAIQgAAEIAABCEAAAhCAAAQgAIGEECBAmBBHsgwIQAACEIAABCAAAQhAAAIQgAAEIAABCEAAAhCAAAQgAAEIZEKAAGEmlDgGAhCAAAQgAAEIQAACEIAABCAAAQhAAAIQgAAEIAABCEAAAgkhQIAwIY5kGRCAAAQgAAEIQAACEIAABCAAAQhAAAIQgAAEIAABCEAAAhDIhAABwkwocQwEIAABCEAAAhCAAAQgAAEIQAACEIAABCAAAQhAAAIQgAAEEkKAAGFCHMkyIAABCEAAAhCAAAQgAAEIQAACEIAABCAAAQhAAAIQgAAEIJAJgf8Hzl1LNdqGKkQAAAAASUVORK5CYII=\" width=\"900\">"
      ],
      "text/plain": [
       "<IPython.core.display.HTML object>"
      ]
     },
     "metadata": {},
     "output_type": "display_data"
    }
   ],
   "source": [
    "%matplotlib notebook\n",
    "import matplotlib.pyplot as plt\n",
    "from pandas.plotting import register_matplotlib_converters\n",
    "register_matplotlib_converters()\n",
    "\n",
    "\n",
    "fig, ax = plt.subplots(figsize=(9, 3.75))\n",
    "ax.plot(sal_ioos.index, sal_ioos, label=\"IOOS\")\n",
    "ax.plot(sal_ooi.index, sal_ooi, label=\"OOI\", alpha=0.75)\n",
    "fig.autofmt_xdate()\n",
    "fig.legend(loc=[0.5, 0.25]);"
   ]
  },
  {
   "cell_type": "markdown",
   "metadata": {},
   "source": [
    "Hopefully this new feature is useful and be sure to also check the simple search functionality (`search_servers`) in case one wants to browse data without extra constraints."
   ]
  }
 ],
 "metadata": {
  "kernelspec": {
   "display_name": "Python 3 (ipykernel)",
   "language": "python",
   "name": "python3"
  },
  "language_info": {
   "codemirror_mode": {
    "name": "ipython",
    "version": 3
   },
   "file_extension": ".py",
   "mimetype": "text/x-python",
   "name": "python",
   "nbconvert_exporter": "python",
   "pygments_lexer": "ipython3",
   "version": "3.9.7"
  },
  "widgets": {
   "application/vnd.jupyter.widget-state+json": {
    "state": {
     "001289016d6241d7a9efc72bf768cc70": {
      "model_module": "jupyter-leaflet",
      "model_module_version": "^0.14.0",
      "model_name": "LeafletAwesomeIconModel",
      "state": {
       "_model_module_version": "^0.14.0",
       "_view_module_version": "^0.14.0",
       "icon_color": "white",
       "marker_color": "orange",
       "name": "life-ring"
      }
     },
     "00609d0dfca54c4b995b43423f0c8128": {
      "model_module": "jupyter-leaflet",
      "model_module_version": "^0.14.0",
      "model_name": "LeafletMarkerModel",
      "state": {
       "_model_module_version": "^0.14.0",
       "_view_module_version": "^0.14.0",
       "icon": "IPY_MODEL_d113f4dec824480a815d9bd0fa0113a1",
       "location": [
        43.3447,
        -124.3231
       ],
       "options": [
        "alt",
        "draggable",
        "keyboard",
        "rise_offset",
        "rise_on_hover",
        "rotation_angle",
        "rotation_origin",
        "title",
        "z_index_offset"
       ],
       "popup": "IPY_MODEL_5e4e9364767645908753169b4a7ccb65"
      }
     },
     "00a0bacce06547b082fa7299cd0f8221": {
      "model_module": "@jupyter-widgets/base",
      "model_module_version": "1.2.0",
      "model_name": "LayoutModel",
      "state": {}
     },
     "00bdec2380d345eea9146e472c0f1c89": {
      "model_module": "@jupyter-widgets/controls",
      "model_module_version": "1.5.0",
      "model_name": "HTMLModel",
      "state": {
       "layout": "IPY_MODEL_70950566fd174fb1897a4708b356bca5",
       "style": "IPY_MODEL_078cb08b3d484973b8b4626d4363e4a3",
       "value": "<table border=\"1\" class=\"dataframe table table-striped table-hover table-condensed table-responsive\">\n  <thead>\n    <tr style=\"text-align: right;\">\n      <th></th>\n      <th>53</th>\n    </tr>\n  </thead>\n  <tbody>\n    <tr>\n      <th>Institution</th>\n      <td>Ocean Observatories Initiative (OOI)</td>\n    </tr>\n    <tr>\n      <th>Dataset ID</th>\n      <td>ooi-ce07shsm-rid26-07-nutnrb000</td>\n    </tr>\n  </tbody>\n</table>"
      }
     },
     "00f8835715b94449bb71b3b6a1189fe7": {
      "model_module": "@jupyter-widgets/base",
      "model_module_version": "1.2.0",
      "model_name": "LayoutModel",
      "state": {}
     },
     "0132a57af6df455abfe20d703fc43ae7": {
      "model_module": "jupyter-leaflet",
      "model_module_version": "^0.14.0",
      "model_name": "LeafletMarkerModel",
      "state": {
       "_model_module_version": "^0.14.0",
       "_view_module_version": "^0.14.0",
       "icon": "IPY_MODEL_84cee63031454c0f920fae09b259fe18",
       "location": [
        44.63708,
        -124.30595
       ],
       "options": [
        "alt",
        "draggable",
        "keyboard",
        "rise_offset",
        "rise_on_hover",
        "rotation_angle",
        "rotation_origin",
        "title",
        "z_index_offset"
       ],
       "popup": "IPY_MODEL_3b0f6437d3294fffb42050a76fe841f0"
      }
     },
     "01461ad4bff64cb08999f57d6fd6e367": {
      "model_module": "jupyter-leaflet",
      "model_module_version": "^0.14.0",
      "model_name": "LeafletMarkerModel",
      "state": {
       "_model_module_version": "^0.14.0",
       "_view_module_version": "^0.14.0",
       "icon": "IPY_MODEL_e15228ea30a04a66b4bff6b9017e4315",
       "location": [
        46.98408,
        -124.56631
       ],
       "options": [
        "alt",
        "draggable",
        "keyboard",
        "rise_offset",
        "rise_on_hover",
        "rotation_angle",
        "rotation_origin",
        "title",
        "z_index_offset"
       ],
       "popup": "IPY_MODEL_45f931aac7ff49fdbb9daff0b7adda34"
      }
     },
     "022607fca4174368b0b43d21c61d8c9f": {
      "model_module": "jupyter-leaflet",
      "model_module_version": "^0.14.0",
      "model_name": "LeafletAwesomeIconModel",
      "state": {
       "_model_module_version": "^0.14.0",
       "_view_module_version": "^0.14.0",
       "icon_color": "white",
       "marker_color": "orange",
       "name": "life-ring"
      }
     },
     "02c1935716794e939f6face561d73209": {
      "model_module": "jupyter-leaflet",
      "model_module_version": "^0.14.0",
      "model_name": "LeafletZoomControlModel",
      "state": {
       "_model_module_version": "^0.14.0",
       "_view_module_version": "^0.14.0",
       "options": [
        "position",
        "zoom_in_text",
        "zoom_in_title",
        "zoom_out_text",
        "zoom_out_title"
       ]
      }
     },
     "02cee169040d4926a776ea4b79f1d380": {
      "model_module": "jupyter-leaflet",
      "model_module_version": "^0.14.0",
      "model_name": "LeafletAwesomeIconModel",
      "state": {
       "_model_module_version": "^0.14.0",
       "_view_module_version": "^0.14.0",
       "icon_color": "white",
       "name": "life-ring"
      }
     },
     "03033c8aae4742be909c315f76789bf8": {
      "model_module": "@jupyter-widgets/base",
      "model_module_version": "1.2.0",
      "model_name": "LayoutModel",
      "state": {}
     },
     "0355f1efea444136a8eff7dce142d523": {
      "model_module": "@jupyter-widgets/controls",
      "model_module_version": "1.5.0",
      "model_name": "DescriptionStyleModel",
      "state": {
       "description_width": ""
      }
     },
     "0380af0c690f4e2c8ab38c1052eeb6cb": {
      "model_module": "@jupyter-widgets/base",
      "model_module_version": "1.2.0",
      "model_name": "LayoutModel",
      "state": {}
     },
     "0398ad435cd64f0e9b038d233971d40e": {
      "model_module": "jupyter-leaflet",
      "model_module_version": "^0.14.0",
      "model_name": "LeafletAwesomeIconModel",
      "state": {
       "_model_module_version": "^0.14.0",
       "_view_module_version": "^0.14.0",
       "icon_color": "white",
       "marker_color": "orange",
       "name": "life-ring"
      }
     },
     "04e037a9c7f043cebb377fec6d7e4a32": {
      "model_module": "@jupyter-widgets/controls",
      "model_module_version": "1.5.0",
      "model_name": "HTMLModel",
      "state": {
       "layout": "IPY_MODEL_78d95510305140bca5d5a1b0847a1e48",
       "style": "IPY_MODEL_067651debd554911bbad34fdb102987c",
       "value": "<table border=\"1\" class=\"dataframe table table-striped table-hover table-condensed table-responsive\">\n  <thead>\n    <tr style=\"text-align: right;\">\n      <th></th>\n      <th>31</th>\n    </tr>\n  </thead>\n  <tbody>\n    <tr>\n      <th>Institution</th>\n      <td>Ocean Observatories Initiative (OOI)</td>\n    </tr>\n    <tr>\n      <th>Dataset ID</th>\n      <td>ooi-ce06issm-rid16-02-flortd000</td>\n    </tr>\n  </tbody>\n</table>"
      }
     },
     "06367a2e2baf4c949e442057f4660ca1": {
      "model_module": "jupyter-leaflet",
      "model_module_version": "^0.14.0",
      "model_name": "LeafletMarkerModel",
      "state": {
       "_model_module_version": "^0.14.0",
       "_view_module_version": "^0.14.0",
       "icon": "IPY_MODEL_70d1ee14d87045659af1b3122c09dd33",
       "location": [
        44.6,
        -124.3
       ],
       "options": [
        "alt",
        "draggable",
        "keyboard",
        "rise_offset",
        "rise_on_hover",
        "rotation_angle",
        "rotation_origin",
        "title",
        "z_index_offset"
       ],
       "popup": "IPY_MODEL_9a8715a7630a4064b7b66d3e900438b3"
      }
     },
     "065bb53fb09c4689981a6e577b23b613": {
      "model_module": "@jupyter-widgets/controls",
      "model_module_version": "1.5.0",
      "model_name": "DescriptionStyleModel",
      "state": {
       "description_width": ""
      }
     },
     "067651debd554911bbad34fdb102987c": {
      "model_module": "@jupyter-widgets/controls",
      "model_module_version": "1.5.0",
      "model_name": "DescriptionStyleModel",
      "state": {
       "description_width": ""
      }
     },
     "0694e07cbee6497b96947a559aa20d9c": {
      "model_module": "@jupyter-widgets/base",
      "model_module_version": "1.2.0",
      "model_name": "LayoutModel",
      "state": {}
     },
     "06b4b599cf1a49138ed4d2de53f5d219": {
      "model_module": "@jupyter-widgets/controls",
      "model_module_version": "1.5.0",
      "model_name": "HTMLModel",
      "state": {
       "layout": "IPY_MODEL_41689ae56527440aa96c84eeb7400946",
       "style": "IPY_MODEL_37047ae22f6e49cd907bb101d66ac62d",
       "value": "<table border=\"1\" class=\"dataframe table table-striped table-hover table-condensed table-responsive\">\n  <thead>\n    <tr style=\"text-align: right;\">\n      <th></th>\n      <th>38</th>\n    </tr>\n  </thead>\n  <tbody>\n    <tr>\n      <th>Institution</th>\n      <td>Ocean Observatories Initiative (OOI)</td>\n    </tr>\n    <tr>\n      <th>Dataset ID</th>\n      <td>ooi-ce06issm-mfd35-06-phsend000</td>\n    </tr>\n  </tbody>\n</table>"
      }
     },
     "06d6f7ebf5164ccfa6d941f6cd99f80d": {
      "model_module": "@jupyter-widgets/base",
      "model_module_version": "1.2.0",
      "model_name": "LayoutModel",
      "state": {}
     },
     "06eba3ae82c945c09b70ad788145614b": {
      "model_module": "@jupyter-widgets/base",
      "model_module_version": "1.2.0",
      "model_name": "LayoutModel",
      "state": {}
     },
     "078cb08b3d484973b8b4626d4363e4a3": {
      "model_module": "@jupyter-widgets/controls",
      "model_module_version": "1.5.0",
      "model_name": "DescriptionStyleModel",
      "state": {
       "description_width": ""
      }
     },
     "0793338956ad45df90e8c71d9ea42124": {
      "model_module": "@jupyter-widgets/controls",
      "model_module_version": "1.5.0",
      "model_name": "HTMLModel",
      "state": {
       "layout": "IPY_MODEL_ae544723b36b4db29f54d805fba60afb",
       "style": "IPY_MODEL_3850a61ce8de43dfa8e46a547c1c58d4",
       "value": "<table border=\"1\" class=\"dataframe table table-striped table-hover table-condensed table-responsive\">\n  <thead>\n    <tr style=\"text-align: right;\">\n      <th></th>\n      <th>74</th>\n    </tr>\n  </thead>\n  <tbody>\n    <tr>\n      <th>Institution</th>\n      <td>NOAA Center for Operational Oceanographic Products and Services (CO-OPS)</td>\n    </tr>\n    <tr>\n      <th>Dataset ID</th>\n      <td>noaa_nos_co_ops_9437540</td>\n    </tr>\n  </tbody>\n</table>"
      }
     },
     "0862e16dfe0d4197949d716b20665c6e": {
      "model_module": "jupyter-leaflet",
      "model_module_version": "^0.14.0",
      "model_name": "LeafletMarkerModel",
      "state": {
       "_model_module_version": "^0.14.0",
       "_view_module_version": "^0.14.0",
       "icon": "IPY_MODEL_87544b25b1bc448ab88a35d471461ff2",
       "location": [
        47.1345,
        -124.27087
       ],
       "options": [
        "alt",
        "draggable",
        "keyboard",
        "rise_offset",
        "rise_on_hover",
        "rotation_angle",
        "rotation_origin",
        "title",
        "z_index_offset"
       ],
       "popup": "IPY_MODEL_725033bac50d4f1ba0dbfb784b042974"
      }
     },
     "0899d75e645444169dbb1e9ab0186cbc": {
      "model_module": "@jupyter-widgets/controls",
      "model_module_version": "1.5.0",
      "model_name": "HTMLModel",
      "state": {
       "layout": "IPY_MODEL_8ca227214eb7454f96a38d5f8ed3412d",
       "style": "IPY_MODEL_f8c37ffde7814f7098d43fd391781c02",
       "value": "<table border=\"1\" class=\"dataframe table table-striped table-hover table-condensed table-responsive\">\n  <thead>\n    <tr style=\"text-align: right;\">\n      <th></th>\n      <th>21</th>\n    </tr>\n  </thead>\n  <tbody>\n    <tr>\n      <th>Institution</th>\n      <td>Ocean Observatories Initiative (OOI)</td>\n    </tr>\n    <tr>\n      <th>Dataset ID</th>\n      <td>ooi-ce04ossm-sbd12-04-pco2aa000</td>\n    </tr>\n  </tbody>\n</table>"
      }
     },
     "0995db21ad52474fbdfe36c95d3422a0": {
      "model_module": "@jupyter-widgets/controls",
      "model_module_version": "1.5.0",
      "model_name": "HTMLModel",
      "state": {
       "layout": "IPY_MODEL_d8c201fb51ed4dea9b03e40bd746ad43",
       "style": "IPY_MODEL_fc715c23cedd411e9beb5549b3d292b3",
       "value": "<table border=\"1\" class=\"dataframe table table-striped table-hover table-condensed table-responsive\">\n  <thead>\n    <tr style=\"text-align: right;\">\n      <th></th>\n      <th>29</th>\n    </tr>\n  </thead>\n  <tbody>\n    <tr>\n      <th>Institution</th>\n      <td>Ocean Observatories Initiative (OOI)</td>\n    </tr>\n    <tr>\n      <th>Dataset ID</th>\n      <td>ooi-ce02shsm-sbd11-06-metbka000</td>\n    </tr>\n  </tbody>\n</table>"
      }
     },
     "09dc333c0f2943988d74586cfe9e05f8": {
      "model_module": "@jupyter-widgets/base",
      "model_module_version": "1.2.0",
      "model_name": "LayoutModel",
      "state": {}
     },
     "0a13445913c64e3fb3dade4d1b45ec53": {
      "model_module": "jupyter-leaflet",
      "model_module_version": "^0.14.0",
      "model_name": "LeafletMarkerModel",
      "state": {
       "_model_module_version": "^0.14.0",
       "_view_module_version": "^0.14.0",
       "icon": "IPY_MODEL_751a09ccd6cd4108ad6661c68f34175e",
       "location": [
        46.85367,
        -124.95935
       ],
       "options": [
        "alt",
        "draggable",
        "keyboard",
        "rise_offset",
        "rise_on_hover",
        "rotation_angle",
        "rotation_origin",
        "title",
        "z_index_offset"
       ],
       "popup": "IPY_MODEL_d573c2d04c8045a6a4f598feea3b9913"
      }
     },
     "0a638f1c4168424ca7b632807cf590bd": {
      "model_module": "@jupyter-widgets/base",
      "model_module_version": "1.2.0",
      "model_name": "LayoutModel",
      "state": {}
     },
     "0bad518039fa473ab742da7d304b1f9a": {
      "model_module": "@jupyter-widgets/controls",
      "model_module_version": "1.5.0",
      "model_name": "DescriptionStyleModel",
      "state": {
       "description_width": ""
      }
     },
     "0be727739dba49079ab7a21aab343b21": {
      "model_module": "jupyter-leaflet",
      "model_module_version": "^0.14.0",
      "model_name": "LeafletAwesomeIconModel",
      "state": {
       "_model_module_version": "^0.14.0",
       "_view_module_version": "^0.14.0",
       "icon_color": "white",
       "marker_color": "orange",
       "name": "life-ring"
      }
     },
     "0c14b03fec56429ea4d7d48d03136a88": {
      "model_module": "@jupyter-widgets/base",
      "model_module_version": "1.2.0",
      "model_name": "LayoutModel",
      "state": {}
     },
     "0c5b39b821b047fdaa2e4598ee7a2e36": {
      "model_module": "@jupyter-widgets/controls",
      "model_module_version": "1.5.0",
      "model_name": "HTMLModel",
      "state": {
       "layout": "IPY_MODEL_3a8445e8a3744c90b0f2de58e652809c",
       "style": "IPY_MODEL_d044f59ff5b14a108ddf2fd246f590a4",
       "value": "<table border=\"1\" class=\"dataframe table table-striped table-hover table-condensed table-responsive\">\n  <thead>\n    <tr style=\"text-align: right;\">\n      <th></th>\n      <th>11</th>\n    </tr>\n  </thead>\n  <tbody>\n    <tr>\n      <th>Institution</th>\n      <td>Ocean Observatories Initiative (OOI)</td>\n    </tr>\n    <tr>\n      <th>Dataset ID</th>\n      <td>ooi-ce04osbp-lj01c-10-phsend107</td>\n    </tr>\n  </tbody>\n</table>"
      }
     },
     "0c7643329bd54fcb87ee8fb712b7a732": {
      "model_module": "jupyter-leaflet",
      "model_module_version": "^0.14.0",
      "model_name": "LeafletMarkerModel",
      "state": {
       "_model_module_version": "^0.14.0",
       "_view_module_version": "^0.14.0",
       "icon": "IPY_MODEL_bb6fab6f91224265b70ee8d33672ae80",
       "location": [
        44.65678,
        -124.09707
       ],
       "options": [
        "alt",
        "draggable",
        "keyboard",
        "rise_offset",
        "rise_on_hover",
        "rotation_angle",
        "rotation_origin",
        "title",
        "z_index_offset"
       ],
       "popup": "IPY_MODEL_5eef00876c794003bb6bc15f2d9049d6"
      }
     },
     "0cc15c8b3ade4a6ca03edaa6bd00f079": {
      "model_module": "@jupyter-widgets/base",
      "model_module_version": "1.2.0",
      "model_name": "LayoutModel",
      "state": {}
     },
     "0dad78ea21f64b08b1972883c8d31ba6": {
      "model_module": "jupyter-leaflet",
      "model_module_version": "^0.14.0",
      "model_name": "LeafletAwesomeIconModel",
      "state": {
       "_model_module_version": "^0.14.0",
       "_view_module_version": "^0.14.0",
       "icon_color": "white",
       "name": "life-ring"
      }
     },
     "0db595946e3c4ade909fa19ca6dbc917": {
      "model_module": "@jupyter-widgets/controls",
      "model_module_version": "1.5.0",
      "model_name": "DescriptionStyleModel",
      "state": {
       "description_width": ""
      }
     },
     "0e1ba6a13357428fafd0a67cb5dad4e3": {
      "model_module": "jupyter-leaflet",
      "model_module_version": "^0.14.0",
      "model_name": "LeafletAwesomeIconModel",
      "state": {
       "_model_module_version": "^0.14.0",
       "_view_module_version": "^0.14.0",
       "icon_color": "white",
       "name": "life-ring"
      }
     },
     "0e29128dbe0d4e8b8b41b6a424089e57": {
      "model_module": "@jupyter-widgets/base",
      "model_module_version": "1.2.0",
      "model_name": "LayoutModel",
      "state": {}
     },
     "0e6f853556ae485598bcca048902c5df": {
      "model_module": "jupyter-leaflet",
      "model_module_version": "^0.14.0",
      "model_name": "LeafletMarkerModel",
      "state": {
       "_model_module_version": "^0.14.0",
       "_view_module_version": "^0.14.0",
       "icon": "IPY_MODEL_b78dcf10b96b43d193b810f90052082f",
       "location": [
        44.65678,
        -124.09707
       ],
       "options": [
        "alt",
        "draggable",
        "keyboard",
        "rise_offset",
        "rise_on_hover",
        "rotation_angle",
        "rotation_origin",
        "title",
        "z_index_offset"
       ],
       "popup": "IPY_MODEL_561cf554296b46828361ef7ca4b2814a"
      }
     },
     "0e9a66af367e453cb012f568d3e21123": {
      "model_module": "jupyter-leaflet",
      "model_module_version": "^0.14.0",
      "model_name": "LeafletAwesomeIconModel",
      "state": {
       "_model_module_version": "^0.14.0",
       "_view_module_version": "^0.14.0",
       "icon_color": "white",
       "marker_color": "orange",
       "name": "life-ring"
      }
     },
     "0ea3eac917fd41619def0dabd955bde5": {
      "model_module": "@jupyter-widgets/controls",
      "model_module_version": "1.5.0",
      "model_name": "DescriptionStyleModel",
      "state": {
       "description_width": ""
      }
     },
     "0ea95ad08f2b421dafc61b9db036c742": {
      "model_module": "jupyter-leaflet",
      "model_module_version": "^0.14.0",
      "model_name": "LeafletMarkerModel",
      "state": {
       "_model_module_version": "^0.14.0",
       "_view_module_version": "^0.14.0",
       "icon": "IPY_MODEL_d9db90d3b9a64ac08867d2c4af8552c5",
       "location": [
        46.98648,
        -124.56923
       ],
       "options": [
        "alt",
        "draggable",
        "keyboard",
        "rise_offset",
        "rise_on_hover",
        "rotation_angle",
        "rotation_origin",
        "title",
        "z_index_offset"
       ],
       "popup": "IPY_MODEL_15ce187af4cf470e8d7efd65e4a258be"
      }
     },
     "0edd154c36374ac8b7ac0311e53bdb9f": {
      "model_module": "jupyter-leaflet",
      "model_module_version": "^0.14.0",
      "model_name": "LeafletAwesomeIconModel",
      "state": {
       "_model_module_version": "^0.14.0",
       "_view_module_version": "^0.14.0",
       "icon_color": "white",
       "marker_color": "orange",
       "name": "life-ring"
      }
     },
     "0f230c4b6ce846359d4d6f409b6495bc": {
      "model_module": "jupyter-leaflet",
      "model_module_version": "^0.14.0",
      "model_name": "LeafletAwesomeIconModel",
      "state": {
       "_model_module_version": "^0.14.0",
       "_view_module_version": "^0.14.0",
       "icon_color": "white",
       "marker_color": "orange",
       "name": "life-ring"
      }
     },
     "0f73b6a0eb9c4ebab84dde07601b526c": {
      "model_module": "@jupyter-widgets/base",
      "model_module_version": "1.2.0",
      "model_name": "LayoutModel",
      "state": {}
     },
     "1016746262324ed4920644a5e247b045": {
      "model_module": "@jupyter-widgets/controls",
      "model_module_version": "1.5.0",
      "model_name": "HTMLModel",
      "state": {
       "layout": "IPY_MODEL_8c236b0874284473b7f14ec4bec2a09b",
       "style": "IPY_MODEL_bd484707e21646cbaec7e7ce3b3c3064",
       "value": "<table border=\"1\" class=\"dataframe table table-striped table-hover table-condensed table-responsive\">\n  <thead>\n    <tr style=\"text-align: right;\">\n      <th></th>\n      <th>62</th>\n    </tr>\n  </thead>\n  <tbody>\n    <tr>\n      <th>Institution</th>\n      <td>Ocean Observatories Initiative (OOI)</td>\n    </tr>\n    <tr>\n      <th>Dataset ID</th>\n      <td>ooi-rs01sbps-pc01a-4b-phsena102</td>\n    </tr>\n  </tbody>\n</table>"
      }
     },
     "102c108691c64d14a05d2b238a621c49": {
      "model_module": "jupyter-leaflet",
      "model_module_version": "^0.14.0",
      "model_name": "LeafletMarkerModel",
      "state": {
       "_model_module_version": "^0.14.0",
       "_view_module_version": "^0.14.0",
       "icon": "IPY_MODEL_6d14fd9402c34e4f912a31485f49e00a",
       "location": [
        47.1345,
        -124.27087
       ],
       "options": [
        "alt",
        "draggable",
        "keyboard",
        "rise_offset",
        "rise_on_hover",
        "rotation_angle",
        "rotation_origin",
        "title",
        "z_index_offset"
       ],
       "popup": "IPY_MODEL_3be2937ea703415d90eacdc94e8c42fe"
      }
     },
     "1043606736a74e06afab119b8e11fb83": {
      "model_module": "@jupyter-widgets/controls",
      "model_module_version": "1.5.0",
      "model_name": "DescriptionStyleModel",
      "state": {
       "description_width": ""
      }
     },
     "112e162e817a4cc8a2dd770a8302a8d6": {
      "model_module": "@jupyter-widgets/controls",
      "model_module_version": "1.5.0",
      "model_name": "DescriptionStyleModel",
      "state": {
       "description_width": ""
      }
     },
     "11fe658f22b441499792a07b385fee25": {
      "model_module": "@jupyter-widgets/controls",
      "model_module_version": "1.5.0",
      "model_name": "DescriptionStyleModel",
      "state": {
       "description_width": ""
      }
     },
     "1219bea113664c8d843a6a547b9d3736": {
      "model_module": "jupyter-leaflet",
      "model_module_version": "^0.14.0",
      "model_name": "LeafletMarkerModel",
      "state": {
       "_model_module_version": "^0.14.0",
       "_view_module_version": "^0.14.0",
       "icon": "IPY_MODEL_02cee169040d4926a776ea4b79f1d380",
       "location": [
        46.6290016174316,
        -123.951599121094
       ],
       "options": [
        "alt",
        "draggable",
        "keyboard",
        "rise_offset",
        "rise_on_hover",
        "rotation_angle",
        "rotation_origin",
        "title",
        "z_index_offset"
       ],
       "popup": "IPY_MODEL_b869382f73a94d51a1e4200821248a40"
      }
     },
     "1253f3f785a84714894e638cd7fea7aa": {
      "model_module": "jupyter-leaflet",
      "model_module_version": "^0.14.0",
      "model_name": "LeafletMarkerModel",
      "state": {
       "_model_module_version": "^0.14.0",
       "_view_module_version": "^0.14.0",
       "icon": "IPY_MODEL_e4b6a648ff4042b5ae956bd0493ecd5d",
       "location": [
        44.52897,
        -125.38966
       ],
       "options": [
        "alt",
        "draggable",
        "keyboard",
        "rise_offset",
        "rise_on_hover",
        "rotation_angle",
        "rotation_origin",
        "title",
        "z_index_offset"
       ],
       "popup": "IPY_MODEL_3b93662578fb4e9cb9099eb8356f13d2"
      }
     },
     "12afaa192e6d4632b254f540ddfb106a": {
      "model_module": "@jupyter-widgets/base",
      "model_module_version": "1.2.0",
      "model_name": "LayoutModel",
      "state": {}
     },
     "12caeb919f0a4db8847393ff1b3a3889": {
      "model_module": "jupyter-leaflet",
      "model_module_version": "^0.14.0",
      "model_name": "LeafletMarkerModel",
      "state": {
       "_model_module_version": "^0.14.0",
       "_view_module_version": "^0.14.0",
       "icon": "IPY_MODEL_548a3ad07269421681f7110f25cb5aa3",
       "location": [
        44.65678,
        -124.09707
       ],
       "options": [
        "alt",
        "draggable",
        "keyboard",
        "rise_offset",
        "rise_on_hover",
        "rotation_angle",
        "rotation_origin",
        "title",
        "z_index_offset"
       ],
       "popup": "IPY_MODEL_9997964c386a4da38e2e37f991b87daa"
      }
     },
     "12f4903caa394adca0e6ed04b49c89d3": {
      "model_module": "jupyter-leaflet",
      "model_module_version": "^0.14.0",
      "model_name": "LeafletAwesomeIconModel",
      "state": {
       "_model_module_version": "^0.14.0",
       "_view_module_version": "^0.14.0",
       "icon_color": "white",
       "name": "life-ring"
      }
     },
     "13010a9d94444bc9a6826039213e3d55": {
      "model_module": "@jupyter-widgets/controls",
      "model_module_version": "1.5.0",
      "model_name": "DescriptionStyleModel",
      "state": {
       "description_width": ""
      }
     },
     "1315b6979800475aaaaaffbbcbe517f7": {
      "model_module": "@jupyter-widgets/controls",
      "model_module_version": "1.5.0",
      "model_name": "DescriptionStyleModel",
      "state": {
       "description_width": ""
      }
     },
     "1389c37f83154960bda96a3e5d161153": {
      "model_module": "@jupyter-widgets/base",
      "model_module_version": "1.2.0",
      "model_name": "LayoutModel",
      "state": {}
     },
     "14176da2877149d9819295fb1f3f7aaf": {
      "model_module": "@jupyter-widgets/controls",
      "model_module_version": "1.5.0",
      "model_name": "HTMLModel",
      "state": {
       "layout": "IPY_MODEL_97e48348a37f473d962a6f7b0fbd18fc",
       "style": "IPY_MODEL_c94fb32d97f74d8fa64d728766c92e46",
       "value": "<table border=\"1\" class=\"dataframe table table-striped table-hover table-condensed table-responsive\">\n  <thead>\n    <tr style=\"text-align: right;\">\n      <th></th>\n      <th>47</th>\n    </tr>\n  </thead>\n  <tbody>\n    <tr>\n      <th>Institution</th>\n      <td>Ocean Observatories Initiative (OOI)</td>\n    </tr>\n    <tr>\n      <th>Dataset ID</th>\n      <td>ooi-ce09ossm-mfd37-03-dostad000</td>\n    </tr>\n  </tbody>\n</table>"
      }
     },
     "143cf617dbcd41d983825e3ad57c7798": {
      "model_module": "jupyter-leaflet",
      "model_module_version": "^0.14.0",
      "model_name": "LeafletMarkerModel",
      "state": {
       "_model_module_version": "^0.14.0",
       "_view_module_version": "^0.14.0",
       "icon": "IPY_MODEL_fc0f29153d8744ca9231eea9c0626a60",
       "location": [
        44.65678,
        -124.09707
       ],
       "options": [
        "alt",
        "draggable",
        "keyboard",
        "rise_offset",
        "rise_on_hover",
        "rotation_angle",
        "rotation_origin",
        "title",
        "z_index_offset"
       ],
       "popup": "IPY_MODEL_46b0b24f232b4c5ba6cb1c78d36ae75a"
      }
     },
     "1457649d4e634916bc6be0e8c4253231": {
      "model_module": "@jupyter-widgets/base",
      "model_module_version": "1.2.0",
      "model_name": "LayoutModel",
      "state": {}
     },
     "14915dad1df542c986ef74df6fe84801": {
      "model_module": "@jupyter-widgets/base",
      "model_module_version": "1.2.0",
      "model_name": "LayoutModel",
      "state": {}
     },
     "14c4b654c4f94b1fb59f2519d085b9b2": {
      "model_module": "@jupyter-widgets/controls",
      "model_module_version": "1.5.0",
      "model_name": "DescriptionStyleModel",
      "state": {
       "description_width": ""
      }
     },
     "151670f7e44c4c77b722598fbd072e6e": {
      "model_module": "jupyter-leaflet",
      "model_module_version": "^0.14.0",
      "model_name": "LeafletAwesomeIconModel",
      "state": {
       "_model_module_version": "^0.14.0",
       "_view_module_version": "^0.14.0",
       "icon_color": "white",
       "marker_color": "orange",
       "name": "life-ring"
      }
     },
     "15826698bb9e4ab6842f6ad46b8e8669": {
      "model_module": "jupyter-leaflet",
      "model_module_version": "^0.14.0",
      "model_name": "LeafletMarkerModel",
      "state": {
       "_model_module_version": "^0.14.0",
       "_view_module_version": "^0.14.0",
       "icon": "IPY_MODEL_c869d6311ac14795a9dfe4a43dcb6e74",
       "location": [
        46.85367,
        -124.95935
       ],
       "options": [
        "alt",
        "draggable",
        "keyboard",
        "rise_offset",
        "rise_on_hover",
        "rotation_angle",
        "rotation_origin",
        "title",
        "z_index_offset"
       ],
       "popup": "IPY_MODEL_c72c697c90514fa3b1f7f65b61d77b03"
      }
     },
     "15a3310eb53d4d469ffd560082d1ad5a": {
      "model_module": "@jupyter-widgets/controls",
      "model_module_version": "1.5.0",
      "model_name": "DescriptionStyleModel",
      "state": {
       "description_width": ""
      }
     },
     "15ce187af4cf470e8d7efd65e4a258be": {
      "model_module": "@jupyter-widgets/controls",
      "model_module_version": "1.5.0",
      "model_name": "HTMLModel",
      "state": {
       "layout": "IPY_MODEL_6a863680a6ce4d98bb4e1d15de08db28",
       "style": "IPY_MODEL_4105742901c54b9dbb20542360bdc903",
       "value": "<table border=\"1\" class=\"dataframe table table-striped table-hover table-condensed table-responsive\">\n  <thead>\n    <tr style=\"text-align: right;\">\n      <th></th>\n      <th>54</th>\n    </tr>\n  </thead>\n  <tbody>\n    <tr>\n      <th>Institution</th>\n      <td>Ocean Observatories Initiative (OOI)</td>\n    </tr>\n    <tr>\n      <th>Dataset ID</th>\n      <td>ooi-ce07shsm-rid26-06-phsend000</td>\n    </tr>\n  </tbody>\n</table>"
      }
     },
     "165432891a5c49f0a0849c7e84c84c98": {
      "model_module": "@jupyter-widgets/controls",
      "model_module_version": "1.5.0",
      "model_name": "DescriptionStyleModel",
      "state": {
       "description_width": ""
      }
     },
     "17d5c68bff7f4263bd9c64a45df268ca": {
      "model_module": "@jupyter-widgets/base",
      "model_module_version": "1.2.0",
      "model_name": "LayoutModel",
      "state": {}
     },
     "185b0bee201c4265a08eba0cad08b42e": {
      "model_module": "jupyter-leaflet",
      "model_module_version": "^0.14.0",
      "model_name": "LeafletMarkerModel",
      "state": {
       "_model_module_version": "^0.14.0",
       "_view_module_version": "^0.14.0",
       "icon": "IPY_MODEL_e22350480e1f497799cbb9c05c257a63",
       "location": [
        46.85367,
        -124.95935
       ],
       "options": [
        "alt",
        "draggable",
        "keyboard",
        "rise_offset",
        "rise_on_hover",
        "rotation_angle",
        "rotation_origin",
        "title",
        "z_index_offset"
       ],
       "popup": "IPY_MODEL_e290d8ef141f47e4a7e91d97c2d8a566"
      }
     },
     "189910d09fe44b1d9ebe9ee0880658ae": {
      "model_module": "@jupyter-widgets/controls",
      "model_module_version": "1.5.0",
      "model_name": "DescriptionStyleModel",
      "state": {
       "description_width": ""
      }
     },
     "18e6bad2c1094ba489ee904a42073cd8": {
      "model_module": "jupyter-leaflet",
      "model_module_version": "^0.14.0",
      "model_name": "LeafletAwesomeIconModel",
      "state": {
       "_model_module_version": "^0.14.0",
       "_view_module_version": "^0.14.0",
       "icon_color": "white",
       "marker_color": "orange",
       "name": "life-ring"
      }
     },
     "1a3fa0cbb79b4d4087fbdb20de5494e3": {
      "model_module": "jupyter-leaflet",
      "model_module_version": "^0.14.0",
      "model_name": "LeafletMarkerModel",
      "state": {
       "_model_module_version": "^0.14.0",
       "_view_module_version": "^0.14.0",
       "icon": "IPY_MODEL_4fee25c0bfd84085a47b4ae49b8c13f9",
       "location": [
        46.98648,
        -124.56923
       ],
       "options": [
        "alt",
        "draggable",
        "keyboard",
        "rise_offset",
        "rise_on_hover",
        "rotation_angle",
        "rotation_origin",
        "title",
        "z_index_offset"
       ],
       "popup": "IPY_MODEL_7f82e46191ef45aaad2f4a3cb26dfb70"
      }
     },
     "1aa8b594736b41c1ba29a96aa1a029aa": {
      "model_module": "@jupyter-widgets/controls",
      "model_module_version": "1.5.0",
      "model_name": "DescriptionStyleModel",
      "state": {
       "description_width": ""
      }
     },
     "1b5f63d48e8b458d84cbd07332424e8e": {
      "model_module": "jupyter-leaflet",
      "model_module_version": "^0.14.0",
      "model_name": "LeafletMarkerModel",
      "state": {
       "_model_module_version": "^0.14.0",
       "_view_module_version": "^0.14.0",
       "icon": "IPY_MODEL_dcda954c33e24f0aaf906314ba248204",
       "location": [
        46.98408,
        -124.56631
       ],
       "options": [
        "alt",
        "draggable",
        "keyboard",
        "rise_offset",
        "rise_on_hover",
        "rotation_angle",
        "rotation_origin",
        "title",
        "z_index_offset"
       ],
       "popup": "IPY_MODEL_789e3fe69a3c45f7bd0dfab6cda20df9"
      }
     },
     "1b6d1fa2ac3b4b63841ca26d6fefeeff": {
      "model_module": "jupyter-leaflet",
      "model_module_version": "^0.14.0",
      "model_name": "LeafletAwesomeIconModel",
      "state": {
       "_model_module_version": "^0.14.0",
       "_view_module_version": "^0.14.0",
       "icon_color": "white",
       "marker_color": "orange",
       "name": "life-ring"
      }
     },
     "1b7658cffa8741479f6d896125655611": {
      "model_module": "@jupyter-widgets/controls",
      "model_module_version": "1.5.0",
      "model_name": "DescriptionStyleModel",
      "state": {
       "description_width": ""
      }
     },
     "1bd112226cf34387819ce2bffdaba2a3": {
      "model_module": "jupyter-leaflet",
      "model_module_version": "^0.14.0",
      "model_name": "LeafletMarkerModel",
      "state": {
       "_model_module_version": "^0.14.0",
       "_view_module_version": "^0.14.0",
       "icon": "IPY_MODEL_ab55e38f1d994cdfbc2bbfc6ac9c6118",
       "location": [
        44.63577,
        -124.3035
       ],
       "options": [
        "alt",
        "draggable",
        "keyboard",
        "rise_offset",
        "rise_on_hover",
        "rotation_angle",
        "rotation_origin",
        "title",
        "z_index_offset"
       ],
       "popup": "IPY_MODEL_acd74c43d92349cb9986afa748c1f655"
      }
     },
     "1c0175df5a8a416fab5844e9c3cf0822": {
      "model_module": "jupyter-leaflet",
      "model_module_version": "^0.14.0",
      "model_name": "LeafletMarkerModel",
      "state": {
       "_model_module_version": "^0.14.0",
       "_view_module_version": "^0.14.0",
       "icon": "IPY_MODEL_308d01f1c6874ef3807976ead658ef0b",
       "location": [
        47.1345,
        -124.27087
       ],
       "options": [
        "alt",
        "draggable",
        "keyboard",
        "rise_offset",
        "rise_on_hover",
        "rotation_angle",
        "rotation_origin",
        "title",
        "z_index_offset"
       ],
       "popup": "IPY_MODEL_b32bd38a764f46cb9ee3fe7f2fb0160a"
      }
     },
     "1c33c76f6d2e406182ff667a46822ba9": {
      "model_module": "@jupyter-widgets/controls",
      "model_module_version": "1.5.0",
      "model_name": "HTMLModel",
      "state": {
       "layout": "IPY_MODEL_67b30534bde143bdbeaf2a7ec715dd56",
       "style": "IPY_MODEL_d3f10d5749524bd9a7632b1e8dc8a38f",
       "value": "<table border=\"1\" class=\"dataframe table table-striped table-hover table-condensed table-responsive\">\n  <thead>\n    <tr style=\"text-align: right;\">\n      <th></th>\n      <th>0</th>\n    </tr>\n  </thead>\n  <tbody>\n    <tr>\n      <th>Institution</th>\n      <td>Ocean Observatories Initiative (OOI)</td>\n    </tr>\n    <tr>\n      <th>Dataset ID</th>\n      <td>ooi-ce01issm-rid16-02-flortd000</td>\n    </tr>\n  </tbody>\n</table>"
      }
     },
     "1cb8fea6461a4ecb9e41aac5ad6f10f9": {
      "model_module": "@jupyter-widgets/controls",
      "model_module_version": "1.5.0",
      "model_name": "HTMLModel",
      "state": {
       "layout": "IPY_MODEL_c64426fd746f47519d3e25edae5cdc5c",
       "style": "IPY_MODEL_e333ca75cd7643d098371f65c506b718",
       "value": "<table border=\"1\" class=\"dataframe table table-striped table-hover table-condensed table-responsive\">\n  <thead>\n    <tr style=\"text-align: right;\">\n      <th></th>\n      <th>76</th>\n    </tr>\n  </thead>\n  <tbody>\n    <tr>\n      <th>Institution</th>\n      <td>Northwest Association of Networked Ocean Observing Systems (NANOOS)</td>\n    </tr>\n    <tr>\n      <th>Dataset ID</th>\n      <td>nanoos_psi_baycenter</td>\n    </tr>\n  </tbody>\n</table>"
      }
     },
     "1ce814fe3374466c8b6494d59a2ca21b": {
      "model_module": "jupyter-leaflet",
      "model_module_version": "^0.14.0",
      "model_name": "LeafletAwesomeIconModel",
      "state": {
       "_model_module_version": "^0.14.0",
       "_view_module_version": "^0.14.0",
       "icon_color": "white",
       "marker_color": "orange",
       "name": "life-ring"
      }
     },
     "1cf7b5d9b214436ca06004eec0c927ad": {
      "model_module": "@jupyter-widgets/controls",
      "model_module_version": "1.5.0",
      "model_name": "DescriptionStyleModel",
      "state": {
       "description_width": ""
      }
     },
     "1d585445e1104777ade67d5820a76d6c": {
      "model_module": "@jupyter-widgets/controls",
      "model_module_version": "1.5.0",
      "model_name": "HTMLModel",
      "state": {
       "layout": "IPY_MODEL_bc46857359354a279fa3985547b43a2b",
       "style": "IPY_MODEL_953818ecbad44818b5abec3ddf9e9098",
       "value": "<table border=\"1\" class=\"dataframe table table-striped table-hover table-condensed table-responsive\">\n  <thead>\n    <tr style=\"text-align: right;\">\n      <th></th>\n      <th>25</th>\n    </tr>\n  </thead>\n  <tbody>\n    <tr>\n      <th>Institution</th>\n      <td>Ocean Observatories Initiative (OOI)</td>\n    </tr>\n    <tr>\n      <th>Dataset ID</th>\n      <td>ooi-ce02shsm-rid27-03-ctdbpc000</td>\n    </tr>\n  </tbody>\n</table>"
      }
     },
     "1d6091757586458395ddec09090de91f": {
      "model_module": "jupyter-leaflet",
      "model_module_version": "^0.14.0",
      "model_name": "LeafletMarkerModel",
      "state": {
       "_model_module_version": "^0.14.0",
       "_view_module_version": "^0.14.0",
       "icon": "IPY_MODEL_3636b32e602d4e8bb5f0d79410690b05",
       "location": [
        46.98648,
        -124.56923
       ],
       "options": [
        "alt",
        "draggable",
        "keyboard",
        "rise_offset",
        "rise_on_hover",
        "rotation_angle",
        "rotation_origin",
        "title",
        "z_index_offset"
       ],
       "popup": "IPY_MODEL_ebf89407974249e1948e449c7f8948a1"
      }
     },
     "1e9a7ee8c4d14c829ec0d4933a3c9b6b": {
      "model_module": "jupyter-leaflet",
      "model_module_version": "^0.14.0",
      "model_name": "LeafletAwesomeIconModel",
      "state": {
       "_model_module_version": "^0.14.0",
       "_view_module_version": "^0.14.0",
       "icon_color": "white",
       "marker_color": "orange",
       "name": "life-ring"
      }
     },
     "1f971eb83b774ed4957b2358a4745879": {
      "model_module": "@jupyter-widgets/controls",
      "model_module_version": "1.5.0",
      "model_name": "HTMLModel",
      "state": {
       "layout": "IPY_MODEL_3b545950a6e2407c9c4af13bdc245709",
       "style": "IPY_MODEL_cefe307eb8a44572b927594be899f092",
       "value": "<table border=\"1\" class=\"dataframe table table-striped table-hover table-condensed table-responsive\">\n  <thead>\n    <tr style=\"text-align: right;\">\n      <th></th>\n      <th>59</th>\n    </tr>\n  </thead>\n  <tbody>\n    <tr>\n      <th>Institution</th>\n      <td>Ocean Observatories Initiative (OOI)</td>\n    </tr>\n    <tr>\n      <th>Dataset ID</th>\n      <td>ooi-rs01slbs-lj01a-12-ctdpfb101</td>\n    </tr>\n  </tbody>\n</table>"
      }
     },
     "1fd206a68aa74291a1fac62428fa105f": {
      "model_module": "jupyter-leaflet",
      "model_module_version": "^0.14.0",
      "model_name": "LeafletMarkerModel",
      "state": {
       "_model_module_version": "^0.14.0",
       "_view_module_version": "^0.14.0",
       "icon": "IPY_MODEL_e02e6a67f3944d36ab0b7b7a39efe14a",
       "location": [
        46.204,
        -123.759
       ],
       "options": [
        "alt",
        "draggable",
        "keyboard",
        "rise_offset",
        "rise_on_hover",
        "rotation_angle",
        "rotation_origin",
        "title",
        "z_index_offset"
       ],
       "popup": "IPY_MODEL_fb1857a1b2e8440097ad5ec53361a233"
      }
     },
     "1fd36c95c87a4f278bbac7e92abbb909": {
      "model_module": "@jupyter-widgets/controls",
      "model_module_version": "1.5.0",
      "model_name": "DescriptionStyleModel",
      "state": {
       "description_width": ""
      }
     },
     "204efb400fba4c11ab7f87cdf06c2db1": {
      "model_module": "@jupyter-widgets/controls",
      "model_module_version": "1.5.0",
      "model_name": "HTMLModel",
      "state": {
       "layout": "IPY_MODEL_fcf766c7f20f44dcaf5ea1f8da12f3bf",
       "style": "IPY_MODEL_3c64fb00b368440b95909b3f888f6a24",
       "value": "<table border=\"1\" class=\"dataframe table table-striped table-hover table-condensed table-responsive\">\n  <thead>\n    <tr style=\"text-align: right;\">\n      <th></th>\n      <th>63</th>\n    </tr>\n  </thead>\n  <tbody>\n    <tr>\n      <th>Institution</th>\n      <td>Center for Coastal Margin Observation &amp; Prediction</td>\n    </tr>\n    <tr>\n      <th>Dataset ID</th>\n      <td>org_cmop_46096</td>\n    </tr>\n  </tbody>\n</table>"
      }
     },
     "206654aea1b84217afe78d37c0a4ca94": {
      "model_module": "@jupyter-widgets/controls",
      "model_module_version": "1.5.0",
      "model_name": "HTMLModel",
      "state": {
       "layout": "IPY_MODEL_7b974f6ebd864847abfee4218a7128a7",
       "style": "IPY_MODEL_4951d3f9c87142bcb21e7329ce67f157",
       "value": "<table border=\"1\" class=\"dataframe table table-striped table-hover table-condensed table-responsive\">\n  <thead>\n    <tr style=\"text-align: right;\">\n      <th></th>\n      <th>39</th>\n    </tr>\n  </thead>\n  <tbody>\n    <tr>\n      <th>Institution</th>\n      <td>Ocean Observatories Initiative (OOI)</td>\n    </tr>\n    <tr>\n      <th>Dataset ID</th>\n      <td>ooi-ce06issm-sbd17-06-flortd000</td>\n    </tr>\n  </tbody>\n</table>"
      }
     },
     "212009cea390457899b1ab5f4b1c019d": {
      "model_module": "@jupyter-widgets/controls",
      "model_module_version": "1.5.0",
      "model_name": "HTMLModel",
      "state": {
       "layout": "IPY_MODEL_389b100b581d4f1eb3d103616bc9a511",
       "style": "IPY_MODEL_e2364e080bb94761b3d63431f7e3d89a",
       "value": "<table border=\"1\" class=\"dataframe table table-striped table-hover table-condensed table-responsive\">\n  <thead>\n    <tr style=\"text-align: right;\">\n      <th></th>\n      <th>60</th>\n    </tr>\n  </thead>\n  <tbody>\n    <tr>\n      <th>Institution</th>\n      <td>Ocean Observatories Initiative (OOI)</td>\n    </tr>\n    <tr>\n      <th>Dataset ID</th>\n      <td>ooi-rs01sbps-pc01a-4c-flordd103</td>\n    </tr>\n  </tbody>\n</table>"
      }
     },
     "212b8ca9bf3b432aa7efc8a18ec0998d": {
      "model_module": "@jupyter-widgets/controls",
      "model_module_version": "1.5.0",
      "model_name": "DescriptionStyleModel",
      "state": {
       "description_width": ""
      }
     },
     "212c4348f31f4f74a4e9879d4e9cf8ca": {
      "model_module": "@jupyter-widgets/controls",
      "model_module_version": "1.5.0",
      "model_name": "HTMLModel",
      "state": {
       "layout": "IPY_MODEL_66747b4a755244a4b9c079849df17678",
       "style": "IPY_MODEL_bad40f5061ec410183626a0fb169a740",
       "value": "<table border=\"1\" class=\"dataframe table table-striped table-hover table-condensed table-responsive\">\n  <thead>\n    <tr style=\"text-align: right;\">\n      <th></th>\n      <th>66</th>\n    </tr>\n  </thead>\n  <tbody>\n    <tr>\n      <th>Institution</th>\n      <td>Observing System Monitoring Center (OSMC)</td>\n    </tr>\n    <tr>\n      <th>Dataset ID</th>\n      <td>osmc_46099</td>\n    </tr>\n  </tbody>\n</table>"
      }
     },
     "213e5875ca504af487ff52452cd56d8f": {
      "model_module": "jupyter-leaflet",
      "model_module_version": "^0.14.0",
      "model_name": "LeafletMarkerModel",
      "state": {
       "_model_module_version": "^0.14.0",
       "_view_module_version": "^0.14.0",
       "icon": "IPY_MODEL_0dad78ea21f64b08b1972883c8d31ba6",
       "location": [
        46.851,
        -124.972
       ],
       "options": [
        "alt",
        "draggable",
        "keyboard",
        "rise_offset",
        "rise_on_hover",
        "rotation_angle",
        "rotation_origin",
        "title",
        "z_index_offset"
       ],
       "popup": "IPY_MODEL_b17e3c1772324b62b1bfbab0e864697d"
      }
     },
     "215f5629ef5e42f795a11985de7754ba": {
      "model_module": "jupyter-leaflet",
      "model_module_version": "^0.14.0",
      "model_name": "LeafletAwesomeIconModel",
      "state": {
       "_model_module_version": "^0.14.0",
       "_view_module_version": "^0.14.0",
       "icon_color": "white",
       "marker_color": "orange",
       "name": "life-ring"
      }
     },
     "21ec46891b984f9b9f71d56501a3ae25": {
      "model_module": "@jupyter-widgets/controls",
      "model_module_version": "1.5.0",
      "model_name": "DescriptionStyleModel",
      "state": {
       "description_width": ""
      }
     },
     "224d6b93c8bc42d3baebb73c30a808fc": {
      "model_module": "@jupyter-widgets/controls",
      "model_module_version": "1.5.0",
      "model_name": "DescriptionStyleModel",
      "state": {
       "description_width": ""
      }
     },
     "2336cf2854c145df9c6c02e2aee4ae68": {
      "model_module": "@jupyter-widgets/controls",
      "model_module_version": "1.5.0",
      "model_name": "HTMLModel",
      "state": {
       "layout": "IPY_MODEL_76b50e1b0b8641eabb17478307be5d79",
       "style": "IPY_MODEL_327454ea0a5c44fda416765a296fdc08",
       "value": "<table border=\"1\" class=\"dataframe table table-striped table-hover table-condensed table-responsive\">\n  <thead>\n    <tr style=\"text-align: right;\">\n      <th></th>\n      <th>10</th>\n    </tr>\n  </thead>\n  <tbody>\n    <tr>\n      <th>Institution</th>\n      <td>Ocean Observatories Initiative (OOI)</td>\n    </tr>\n    <tr>\n      <th>Dataset ID</th>\n      <td>ooi-ce04osbp-lj01c-06-ctdbpo108</td>\n    </tr>\n  </tbody>\n</table>"
      }
     },
     "23403a43cbea40b7be8500a15a94e79e": {
      "model_module": "jupyter-leaflet",
      "model_module_version": "^0.14.0",
      "model_name": "LeafletMarkerModel",
      "state": {
       "_model_module_version": "^0.14.0",
       "_view_module_version": "^0.14.0",
       "icon": "IPY_MODEL_a66c7cd7f43f4df8a00448232c829d3b",
       "location": [
        44.37868,
        -124.94508
       ],
       "options": [
        "alt",
        "draggable",
        "keyboard",
        "rise_offset",
        "rise_on_hover",
        "rotation_angle",
        "rotation_origin",
        "title",
        "z_index_offset"
       ],
       "popup": "IPY_MODEL_2dbf4d369a854f7ba74d0678803ede0d"
      }
     },
     "23e45ea2f8a74b6e913c499be7348b8d": {
      "model_module": "@jupyter-widgets/controls",
      "model_module_version": "1.5.0",
      "model_name": "DescriptionStyleModel",
      "state": {
       "description_width": ""
      }
     },
     "246a8c6a7c674ac4aa7ea3f0622e2f1e": {
      "model_module": "@jupyter-widgets/controls",
      "model_module_version": "1.5.0",
      "model_name": "DescriptionStyleModel",
      "state": {
       "description_width": ""
      }
     },
     "24a55782ca6a4763889aa9b1d1514af8": {
      "model_module": "jupyter-leaflet",
      "model_module_version": "^0.14.0",
      "model_name": "LeafletAwesomeIconModel",
      "state": {
       "_model_module_version": "^0.14.0",
       "_view_module_version": "^0.14.0",
       "icon_color": "white",
       "name": "life-ring"
      }
     },
     "24cb366c2a4f44ba866f539eded29a01": {
      "model_module": "jupyter-leaflet",
      "model_module_version": "^0.14.0",
      "model_name": "LeafletMarkerModel",
      "state": {
       "_model_module_version": "^0.14.0",
       "_view_module_version": "^0.14.0",
       "icon": "IPY_MODEL_ab7fc71de91d43929ad7a47377c1d475",
       "location": [
        47.1345,
        -124.27087
       ],
       "options": [
        "alt",
        "draggable",
        "keyboard",
        "rise_offset",
        "rise_on_hover",
        "rotation_angle",
        "rotation_origin",
        "title",
        "z_index_offset"
       ],
       "popup": "IPY_MODEL_7e9b548b672d4dcf9b01a2841a0d500e"
      }
     },
     "24f6b2f96f654830b362222c38387794": {
      "model_module": "@jupyter-widgets/controls",
      "model_module_version": "1.5.0",
      "model_name": "DescriptionStyleModel",
      "state": {
       "description_width": ""
      }
     },
     "259cffab36474ba7ac545dfe1bbb954e": {
      "model_module": "@jupyter-widgets/controls",
      "model_module_version": "1.5.0",
      "model_name": "HTMLModel",
      "state": {
       "layout": "IPY_MODEL_a8a1e4edf93340a9af07d7dd41168090",
       "style": "IPY_MODEL_44764f26476f41769f50d3244a947381",
       "value": "<table border=\"1\" class=\"dataframe table table-striped table-hover table-condensed table-responsive\">\n  <thead>\n    <tr style=\"text-align: right;\">\n      <th></th>\n      <th>57</th>\n    </tr>\n  </thead>\n  <tbody>\n    <tr>\n      <th>Institution</th>\n      <td>Ocean Observatories Initiative (OOI)</td>\n    </tr>\n    <tr>\n      <th>Dataset ID</th>\n      <td>ooi-ce07shsm-mfd35-06-phsend000</td>\n    </tr>\n  </tbody>\n</table>"
      }
     },
     "25a9c93f50f44e858653c41bd2559a92": {
      "model_module": "@jupyter-widgets/controls",
      "model_module_version": "1.5.0",
      "model_name": "DescriptionStyleModel",
      "state": {
       "description_width": ""
      }
     },
     "263f15aa3c5a49069b41388d1746e318": {
      "model_module": "jupyter-leaflet",
      "model_module_version": "^0.14.0",
      "model_name": "LeafletMarkerModel",
      "state": {
       "_model_module_version": "^0.14.0",
       "_view_module_version": "^0.14.0",
       "icon": "IPY_MODEL_901140238f884719973289f762a7ed1f",
       "location": [
        44.37868,
        -124.94508
       ],
       "options": [
        "alt",
        "draggable",
        "keyboard",
        "rise_offset",
        "rise_on_hover",
        "rotation_angle",
        "rotation_origin",
        "title",
        "z_index_offset"
       ],
       "popup": "IPY_MODEL_78e4bcd662fc43789d6477c0395022ca"
      }
     },
     "266c44e6d99d43fb92c5f5b9b6b326c0": {
      "model_module": "@jupyter-widgets/controls",
      "model_module_version": "1.5.0",
      "model_name": "HTMLModel",
      "state": {
       "layout": "IPY_MODEL_a60562b818224597b312c18cab0e0379",
       "style": "IPY_MODEL_86b37c70d7504eb18486deec86b24728",
       "value": "<table border=\"1\" class=\"dataframe table table-striped table-hover table-condensed table-responsive\">\n  <thead>\n    <tr style=\"text-align: right;\">\n      <th></th>\n      <th>11</th>\n    </tr>\n  </thead>\n  <tbody>\n    <tr>\n      <th>Institution</th>\n      <td>Ocean Observatories Initiative (OOI)</td>\n    </tr>\n    <tr>\n      <th>Dataset ID</th>\n      <td>ooi-ce04osbp-lj01c-10-phsend107</td>\n    </tr>\n  </tbody>\n</table>"
      }
     },
     "26d97024010f4efca23a9d5ac0738eb5": {
      "model_module": "@jupyter-widgets/base",
      "model_module_version": "1.2.0",
      "model_name": "LayoutModel",
      "state": {}
     },
     "2722bcd271ba42d08d03f887f6073734": {
      "model_module": "@jupyter-widgets/controls",
      "model_module_version": "1.5.0",
      "model_name": "DescriptionStyleModel",
      "state": {
       "description_width": ""
      }
     },
     "273143f70e6641f294a0b7b80483e455": {
      "model_module": "jupyter-leaflet",
      "model_module_version": "^0.14.0",
      "model_name": "LeafletMarkerModel",
      "state": {
       "_model_module_version": "^0.14.0",
       "_view_module_version": "^0.14.0",
       "icon": "IPY_MODEL_a44c1acf2b4b4272bce6158e67453f11",
       "location": [
        47.1345,
        -124.27087
       ],
       "options": [
        "alt",
        "draggable",
        "keyboard",
        "rise_offset",
        "rise_on_hover",
        "rotation_angle",
        "rotation_origin",
        "title",
        "z_index_offset"
       ],
       "popup": "IPY_MODEL_206654aea1b84217afe78d37c0a4ca94"
      }
     },
     "2740f1bca8e44f62a8f1d7671f3987b0": {
      "model_module": "jupyter-leaflet",
      "model_module_version": "^0.14.0",
      "model_name": "LeafletAwesomeIconModel",
      "state": {
       "_model_module_version": "^0.14.0",
       "_view_module_version": "^0.14.0",
       "icon_color": "white",
       "name": "life-ring"
      }
     },
     "2790c1d24cab449099f41e034d85561e": {
      "model_module": "@jupyter-widgets/controls",
      "model_module_version": "1.5.0",
      "model_name": "HTMLModel",
      "state": {
       "layout": "IPY_MODEL_5a748d145eb44d099bcb49834a9ce8a8",
       "style": "IPY_MODEL_ef0696ffa44045ab8335da5f51bb7271",
       "value": "<table border=\"1\" class=\"dataframe table table-striped table-hover table-condensed table-responsive\">\n  <thead>\n    <tr style=\"text-align: right;\">\n      <th></th>\n      <th>72</th>\n    </tr>\n  </thead>\n  <tbody>\n    <tr>\n      <th>Institution</th>\n      <td>NOAA Center for Operational Oceanographic Products and Services (CO-OPS)</td>\n    </tr>\n    <tr>\n      <th>Dataset ID</th>\n      <td>noaa_nos_co_ops_9432780</td>\n    </tr>\n  </tbody>\n</table>"
      }
     },
     "2841d24687214e14a5ede09a7037bf66": {
      "model_module": "@jupyter-widgets/controls",
      "model_module_version": "1.5.0",
      "model_name": "HTMLModel",
      "state": {
       "layout": "IPY_MODEL_a3044dc08bd64cd4b47686b445469e86",
       "style": "IPY_MODEL_829d6e58f34b4df99ff9f09b2396f2a4",
       "value": "<table border=\"1\" class=\"dataframe table table-striped table-hover table-condensed table-responsive\">\n  <thead>\n    <tr style=\"text-align: right;\">\n      <th></th>\n      <th>37</th>\n    </tr>\n  </thead>\n  <tbody>\n    <tr>\n      <th>Institution</th>\n      <td>Ocean Observatories Initiative (OOI)</td>\n    </tr>\n    <tr>\n      <th>Dataset ID</th>\n      <td>ooi-ce06issm-mfd37-03-dostad000</td>\n    </tr>\n  </tbody>\n</table>"
      }
     },
     "2855f169fd0b4a0990d5cccd791be575": {
      "model_module": "jupyter-leaflet",
      "model_module_version": "^0.14.0",
      "model_name": "LeafletMarkerModel",
      "state": {
       "_model_module_version": "^0.14.0",
       "_view_module_version": "^0.14.0",
       "icon": "IPY_MODEL_bb6a3ad82b8245fa8ba4808fba65fe12",
       "location": [
        44.37868,
        -124.94508
       ],
       "options": [
        "alt",
        "draggable",
        "keyboard",
        "rise_offset",
        "rise_on_hover",
        "rotation_angle",
        "rotation_origin",
        "title",
        "z_index_offset"
       ],
       "popup": "IPY_MODEL_31c776b64205452a8f50e2c5790de46e"
      }
     },
     "2887745f7f494bd1bcf4f11b0e1e9401": {
      "model_module": "@jupyter-widgets/base",
      "model_module_version": "1.2.0",
      "model_name": "LayoutModel",
      "state": {}
     },
     "299d74596d70418eb61e57e5e1325fcb": {
      "model_module": "@jupyter-widgets/controls",
      "model_module_version": "1.5.0",
      "model_name": "HTMLModel",
      "state": {
       "layout": "IPY_MODEL_c1e88ae1d72542e1bcfff1d814413bf4",
       "style": "IPY_MODEL_65709315555244d69846c859b08dd98d",
       "value": "<table border=\"1\" class=\"dataframe table table-striped table-hover table-condensed table-responsive\">\n  <thead>\n    <tr style=\"text-align: right;\">\n      <th></th>\n      <th>33</th>\n    </tr>\n  </thead>\n  <tbody>\n    <tr>\n      <th>Institution</th>\n      <td>Ocean Observatories Initiative (OOI)</td>\n    </tr>\n    <tr>\n      <th>Dataset ID</th>\n      <td>ooi-ce06issm-rid16-03-dostad000</td>\n    </tr>\n  </tbody>\n</table>"
      }
     },
     "2a482a1f75ee40bfa2b05c9559550292": {
      "model_module": "@jupyter-widgets/controls",
      "model_module_version": "1.5.0",
      "model_name": "HTMLModel",
      "state": {
       "layout": "IPY_MODEL_26d97024010f4efca23a9d5ac0738eb5",
       "style": "IPY_MODEL_f3f099d3c487432a8a5d0775f3ab794c",
       "value": "<table border=\"1\" class=\"dataframe table table-striped table-hover table-condensed table-responsive\">\n  <thead>\n    <tr style=\"text-align: right;\">\n      <th></th>\n      <th>20</th>\n    </tr>\n  </thead>\n  <tbody>\n    <tr>\n      <th>Institution</th>\n      <td>Ocean Observatories Initiative (OOI)</td>\n    </tr>\n    <tr>\n      <th>Dataset ID</th>\n      <td>ooi-ce04ossm-sbd11-06-metbka000</td>\n    </tr>\n  </tbody>\n</table>"
      }
     },
     "2a6ef40f09574366adb4cd93192feb75": {
      "model_module": "@jupyter-widgets/controls",
      "model_module_version": "1.5.0",
      "model_name": "DescriptionStyleModel",
      "state": {
       "description_width": ""
      }
     },
     "2aaeff64713b439a8bd162bdaa960780": {
      "model_module": "jupyter-leaflet",
      "model_module_version": "^0.14.0",
      "model_name": "LeafletAwesomeIconModel",
      "state": {
       "_model_module_version": "^0.14.0",
       "_view_module_version": "^0.14.0",
       "icon_color": "white",
       "marker_color": "orange",
       "name": "life-ring"
      }
     },
     "2aebe4be3110424fb6466ad2c9774e17": {
      "model_module": "jupyter-leaflet",
      "model_module_version": "^0.14.0",
      "model_name": "LeafletAwesomeIconModel",
      "state": {
       "_model_module_version": "^0.14.0",
       "_view_module_version": "^0.14.0",
       "icon_color": "white",
       "marker_color": "orange",
       "name": "life-ring"
      }
     },
     "2b08856fcbde45649d2063d2808089e1": {
      "model_module": "@jupyter-widgets/controls",
      "model_module_version": "1.5.0",
      "model_name": "HTMLModel",
      "state": {
       "layout": "IPY_MODEL_7223332681f745d18709dbcdde6f6d41",
       "style": "IPY_MODEL_dd1c98dbd27d4d3a892b2f437633853b",
       "value": "<table border=\"1\" class=\"dataframe table table-striped table-hover table-condensed table-responsive\">\n  <thead>\n    <tr style=\"text-align: right;\">\n      <th></th>\n      <th>27</th>\n    </tr>\n  </thead>\n  <tbody>\n    <tr>\n      <th>Institution</th>\n      <td>Ocean Observatories Initiative (OOI)</td>\n    </tr>\n    <tr>\n      <th>Dataset ID</th>\n      <td>ooi-ce02shsm-rid26-07-nutnrb000</td>\n    </tr>\n  </tbody>\n</table>"
      }
     },
     "2b0c0dad11cf416d897a6c46a8213c94": {
      "model_module": "@jupyter-widgets/controls",
      "model_module_version": "1.5.0",
      "model_name": "DescriptionStyleModel",
      "state": {
       "description_width": ""
      }
     },
     "2cac26ce05e24b7097009a3573360706": {
      "model_module": "@jupyter-widgets/base",
      "model_module_version": "1.2.0",
      "model_name": "LayoutModel",
      "state": {}
     },
     "2cf895327b2b4c99a5e07d7dbfe43174": {
      "model_module": "@jupyter-widgets/controls",
      "model_module_version": "1.5.0",
      "model_name": "DescriptionStyleModel",
      "state": {
       "description_width": ""
      }
     },
     "2d09ce1832b54c3b802bad04f957cc90": {
      "model_module": "jupyter-leaflet",
      "model_module_version": "^0.14.0",
      "model_name": "LeafletMarkerModel",
      "state": {
       "_model_module_version": "^0.14.0",
       "_view_module_version": "^0.14.0",
       "icon": "IPY_MODEL_f9d1e15b352c47088a25216831a82b6d",
       "location": [
        44.63577,
        -124.3035
       ],
       "options": [
        "alt",
        "draggable",
        "keyboard",
        "rise_offset",
        "rise_on_hover",
        "rotation_angle",
        "rotation_origin",
        "title",
        "z_index_offset"
       ],
       "popup": "IPY_MODEL_6652f0377365459aab023ca57376518d"
      }
     },
     "2d66c00b6fe74b53a9c1ce3c352aa6df": {
      "model_module": "@jupyter-widgets/base",
      "model_module_version": "1.2.0",
      "model_name": "LayoutModel",
      "state": {}
     },
     "2d80f1c402944f7aad980a3f4552a20f": {
      "model_module": "jupyter-leaflet",
      "model_module_version": "^0.14.0",
      "model_name": "LeafletAwesomeIconModel",
      "state": {
       "_model_module_version": "^0.14.0",
       "_view_module_version": "^0.14.0",
       "icon_color": "white",
       "marker_color": "orange",
       "name": "life-ring"
      }
     },
     "2d85e09360d443dfb7cfb6245c5bd1dd": {
      "model_module": "@jupyter-widgets/controls",
      "model_module_version": "1.5.0",
      "model_name": "HTMLModel",
      "state": {
       "layout": "IPY_MODEL_8720a78c188b4828a689dd952d96656a",
       "style": "IPY_MODEL_7de5c7d2b9aa4b4aaf4fb06f6e7646bd",
       "value": "<table border=\"1\" class=\"dataframe table table-striped table-hover table-condensed table-responsive\">\n  <thead>\n    <tr style=\"text-align: right;\">\n      <th></th>\n      <th>19</th>\n    </tr>\n  </thead>\n  <tbody>\n    <tr>\n      <th>Institution</th>\n      <td>Ocean Observatories Initiative (OOI)</td>\n    </tr>\n    <tr>\n      <th>Dataset ID</th>\n      <td>ooi-ce04ossm-rid26-06-phsend000</td>\n    </tr>\n  </tbody>\n</table>"
      }
     },
     "2d908e4401594a248e5a8738e226887a": {
      "model_module": "jupyter-leaflet",
      "model_module_version": "^0.14.0",
      "model_name": "LeafletMarkerModel",
      "state": {
       "_model_module_version": "^0.14.0",
       "_view_module_version": "^0.14.0",
       "icon": "IPY_MODEL_5b3771a21def4fb9b7dd04317d25b5a5",
       "location": [
        46.85367,
        -124.95935
       ],
       "options": [
        "alt",
        "draggable",
        "keyboard",
        "rise_offset",
        "rise_on_hover",
        "rotation_angle",
        "rotation_origin",
        "title",
        "z_index_offset"
       ],
       "popup": "IPY_MODEL_14176da2877149d9819295fb1f3f7aaf"
      }
     },
     "2dbf4d369a854f7ba74d0678803ede0d": {
      "model_module": "@jupyter-widgets/controls",
      "model_module_version": "1.5.0",
      "model_name": "HTMLModel",
      "state": {
       "layout": "IPY_MODEL_d64d8738680b461ab57f8cae2af56762",
       "style": "IPY_MODEL_60dc03b9da37487a9bd8a969acb5a66b",
       "value": "<table border=\"1\" class=\"dataframe table table-striped table-hover table-condensed table-responsive\">\n  <thead>\n    <tr style=\"text-align: right;\">\n      <th></th>\n      <th>15</th>\n    </tr>\n  </thead>\n  <tbody>\n    <tr>\n      <th>Institution</th>\n      <td>Ocean Observatories Initiative (OOI)</td>\n    </tr>\n    <tr>\n      <th>Dataset ID</th>\n      <td>ooi-ce04ossm-rid27-02-flortd000</td>\n    </tr>\n  </tbody>\n</table>"
      }
     },
     "2df21d2ca83347d197cc9932cf4fc962": {
      "model_module": "@jupyter-widgets/controls",
      "model_module_version": "1.5.0",
      "model_name": "HTMLModel",
      "state": {
       "layout": "IPY_MODEL_583b98e96dc146fd91610e7f34c60fdc",
       "style": "IPY_MODEL_0ea3eac917fd41619def0dabd955bde5",
       "value": "<table border=\"1\" class=\"dataframe table table-striped table-hover table-condensed table-responsive\">\n  <thead>\n    <tr style=\"text-align: right;\">\n      <th></th>\n      <th>79</th>\n    </tr>\n  </thead>\n  <tbody>\n    <tr>\n      <th>Institution</th>\n      <td>Center for Coastal Margin Observation &amp; Prediction</td>\n    </tr>\n    <tr>\n      <th>Dataset ID</th>\n      <td>org_cmop_seto3</td>\n    </tr>\n  </tbody>\n</table>"
      }
     },
     "2e7cfdaeeab84292829709e278612f7a": {
      "model_module": "@jupyter-widgets/base",
      "model_module_version": "1.2.0",
      "model_name": "LayoutModel",
      "state": {}
     },
     "2ee7a6676118461daa1109bf6ea9416f": {
      "model_module": "@jupyter-widgets/base",
      "model_module_version": "1.2.0",
      "model_name": "LayoutModel",
      "state": {}
     },
     "2f4c73dcd86641588c0e28cd6cbc4f8f": {
      "model_module": "jupyter-leaflet",
      "model_module_version": "^0.14.0",
      "model_name": "LeafletAwesomeIconModel",
      "state": {
       "_model_module_version": "^0.14.0",
       "_view_module_version": "^0.14.0",
       "icon_color": "white",
       "name": "life-ring"
      }
     },
     "2f65e794a2e54517a8f6253f60eeceac": {
      "model_module": "jupyter-leaflet",
      "model_module_version": "^0.14.0",
      "model_name": "LeafletAwesomeIconModel",
      "state": {
       "_model_module_version": "^0.14.0",
       "_view_module_version": "^0.14.0",
       "icon_color": "white",
       "marker_color": "orange",
       "name": "life-ring"
      }
     },
     "2f8c9ac033b04600b2ae9d782dae6a18": {
      "model_module": "jupyter-leaflet",
      "model_module_version": "^0.14.0",
      "model_name": "LeafletMarkerModel",
      "state": {
       "_model_module_version": "^0.14.0",
       "_view_module_version": "^0.14.0",
       "icon": "IPY_MODEL_88f47cd799bb4264ac3445fc6793e7d9",
       "location": [
        46.85367,
        -124.95935
       ],
       "options": [
        "alt",
        "draggable",
        "keyboard",
        "rise_offset",
        "rise_on_hover",
        "rotation_angle",
        "rotation_origin",
        "title",
        "z_index_offset"
       ],
       "popup": "IPY_MODEL_365223a7ad45489e9290533571c17d4d"
      }
     },
     "2fc9f8ce51c1453da640270a8ace111d": {
      "model_module": "jupyter-leaflet",
      "model_module_version": "^0.14.0",
      "model_name": "LeafletMarkerModel",
      "state": {
       "_model_module_version": "^0.14.0",
       "_view_module_version": "^0.14.0",
       "icon": "IPY_MODEL_73a859167b92493995dab8bdb0e37b2c",
       "location": [
        44.65678,
        -124.09707
       ],
       "options": [
        "alt",
        "draggable",
        "keyboard",
        "rise_offset",
        "rise_on_hover",
        "rotation_angle",
        "rotation_origin",
        "title",
        "z_index_offset"
       ],
       "popup": "IPY_MODEL_ca260d675dc447928567a37bdecc496d"
      }
     },
     "301db70343b84e999ca2d6c600689511": {
      "model_module": "jupyter-leaflet",
      "model_module_version": "^0.14.0",
      "model_name": "LeafletMarkerModel",
      "state": {
       "_model_module_version": "^0.14.0",
       "_view_module_version": "^0.14.0",
       "icon": "IPY_MODEL_f411d98eab494d69a24c3aa3fdf7f3b4",
       "location": [
        46.85367,
        -124.95935
       ],
       "options": [
        "alt",
        "draggable",
        "keyboard",
        "rise_offset",
        "rise_on_hover",
        "rotation_angle",
        "rotation_origin",
        "title",
        "z_index_offset"
       ],
       "popup": "IPY_MODEL_f9f666e3660a4d0ba39833e41f19946e"
      }
     },
     "308d01f1c6874ef3807976ead658ef0b": {
      "model_module": "jupyter-leaflet",
      "model_module_version": "^0.14.0",
      "model_name": "LeafletAwesomeIconModel",
      "state": {
       "_model_module_version": "^0.14.0",
       "_view_module_version": "^0.14.0",
       "icon_color": "white",
       "marker_color": "orange",
       "name": "life-ring"
      }
     },
     "30ada9090ca442a597b20972c471a419": {
      "model_module": "@jupyter-widgets/controls",
      "model_module_version": "1.5.0",
      "model_name": "HTMLModel",
      "state": {
       "layout": "IPY_MODEL_fb4ca257100940da9861e08801431be4",
       "style": "IPY_MODEL_adcfa6bd84704153937bfb7b1ca9315e",
       "value": "<table border=\"1\" class=\"dataframe table table-striped table-hover table-condensed table-responsive\">\n  <thead>\n    <tr style=\"text-align: right;\">\n      <th></th>\n      <th>3</th>\n    </tr>\n  </thead>\n  <tbody>\n    <tr>\n      <th>Institution</th>\n      <td>Ocean Observatories Initiative (OOI)</td>\n    </tr>\n    <tr>\n      <th>Dataset ID</th>\n      <td>ooi-ce01issm-rid16-07-nutnrb000</td>\n    </tr>\n  </tbody>\n</table>"
      }
     },
     "310c7e4fc6fb48828a68c12705e96a07": {
      "model_module": "jupyter-leaflet",
      "model_module_version": "^0.14.0",
      "model_name": "LeafletAwesomeIconModel",
      "state": {
       "_model_module_version": "^0.14.0",
       "_view_module_version": "^0.14.0",
       "icon_color": "white",
       "name": "life-ring"
      }
     },
     "3135fe3929a74bc18548d33f6b76e215": {
      "model_module": "@jupyter-widgets/controls",
      "model_module_version": "1.5.0",
      "model_name": "HTMLModel",
      "state": {
       "layout": "IPY_MODEL_12afaa192e6d4632b254f540ddfb106a",
       "style": "IPY_MODEL_13010a9d94444bc9a6826039213e3d55",
       "value": "<table border=\"1\" class=\"dataframe table table-striped table-hover table-condensed table-responsive\">\n  <thead>\n    <tr style=\"text-align: right;\">\n      <th></th>\n      <th>22</th>\n    </tr>\n  </thead>\n  <tbody>\n    <tr>\n      <th>Institution</th>\n      <td>Ocean Observatories Initiative (OOI)</td>\n    </tr>\n    <tr>\n      <th>Dataset ID</th>\n      <td>ooi-ce02shbp-lj01d-06-ctdbpn106</td>\n    </tr>\n  </tbody>\n</table>"
      }
     },
     "31c776b64205452a8f50e2c5790de46e": {
      "model_module": "@jupyter-widgets/controls",
      "model_module_version": "1.5.0",
      "model_name": "HTMLModel",
      "state": {
       "layout": "IPY_MODEL_99fe8beb1a1a4400a3d75785fd910ac9",
       "style": "IPY_MODEL_f1abb884b026415e8ecd4cc068a10d20",
       "value": "<table border=\"1\" class=\"dataframe table table-striped table-hover table-condensed table-responsive\">\n  <thead>\n    <tr style=\"text-align: right;\">\n      <th></th>\n      <th>16</th>\n    </tr>\n  </thead>\n  <tbody>\n    <tr>\n      <th>Institution</th>\n      <td>Ocean Observatories Initiative (OOI)</td>\n    </tr>\n    <tr>\n      <th>Dataset ID</th>\n      <td>ooi-ce04ossm-rid27-03-ctdbpc000</td>\n    </tr>\n  </tbody>\n</table>"
      }
     },
     "3249185ca3b246d8abe99bf9b609783f": {
      "model_module": "@jupyter-widgets/base",
      "model_module_version": "1.2.0",
      "model_name": "LayoutModel",
      "state": {}
     },
     "32515d2cc89e41c6b4ef865096e6541a": {
      "model_module": "@jupyter-widgets/controls",
      "model_module_version": "1.5.0",
      "model_name": "HTMLModel",
      "state": {
       "layout": "IPY_MODEL_6467693e688b4e26ab990a159c3b9441",
       "style": "IPY_MODEL_f58db1e2db8b4ec79942d24da429e0ed",
       "value": "<table border=\"1\" class=\"dataframe table table-striped table-hover table-condensed table-responsive\">\n  <thead>\n    <tr style=\"text-align: right;\">\n      <th></th>\n      <th>52</th>\n    </tr>\n  </thead>\n  <tbody>\n    <tr>\n      <th>Institution</th>\n      <td>Ocean Observatories Initiative (OOI)</td>\n    </tr>\n    <tr>\n      <th>Dataset ID</th>\n      <td>ooi-ce07shsm-rid27-04-dostad000</td>\n    </tr>\n  </tbody>\n</table>"
      }
     },
     "327454ea0a5c44fda416765a296fdc08": {
      "model_module": "@jupyter-widgets/controls",
      "model_module_version": "1.5.0",
      "model_name": "DescriptionStyleModel",
      "state": {
       "description_width": ""
      }
     },
     "32d5cfcca256487280f98c640adfcf6f": {
      "model_module": "jupyter-leaflet",
      "model_module_version": "^0.14.0",
      "model_name": "LeafletAwesomeIconModel",
      "state": {
       "_model_module_version": "^0.14.0",
       "_view_module_version": "^0.14.0",
       "icon_color": "white",
       "marker_color": "orange",
       "name": "life-ring"
      }
     },
     "338b38a5e98a4893baee958ce27ce000": {
      "model_module": "@jupyter-widgets/controls",
      "model_module_version": "1.5.0",
      "model_name": "DescriptionStyleModel",
      "state": {
       "description_width": ""
      }
     },
     "33a682999d974b06bca886c011b67bd5": {
      "model_module": "@jupyter-widgets/controls",
      "model_module_version": "1.5.0",
      "model_name": "HTMLModel",
      "state": {
       "layout": "IPY_MODEL_0e29128dbe0d4e8b8b41b6a424089e57",
       "style": "IPY_MODEL_2cf895327b2b4c99a5e07d7dbfe43174",
       "value": "<table border=\"1\" class=\"dataframe table table-striped table-hover table-condensed table-responsive\">\n  <thead>\n    <tr style=\"text-align: right;\">\n      <th></th>\n      <th>18</th>\n    </tr>\n  </thead>\n  <tbody>\n    <tr>\n      <th>Institution</th>\n      <td>Ocean Observatories Initiative (OOI)</td>\n    </tr>\n    <tr>\n      <th>Dataset ID</th>\n      <td>ooi-ce04ossm-rid26-07-nutnrb000</td>\n    </tr>\n  </tbody>\n</table>"
      }
     },
     "33e2ad9f77b0437b96a6e44ba4c12103": {
      "model_module": "@jupyter-widgets/base",
      "model_module_version": "1.2.0",
      "model_name": "LayoutModel",
      "state": {}
     },
     "346cb7af1d5646a7a86db8121ef523ff": {
      "model_module": "jupyter-leaflet",
      "model_module_version": "^0.14.0",
      "model_name": "LeafletAwesomeIconModel",
      "state": {
       "_model_module_version": "^0.14.0",
       "_view_module_version": "^0.14.0",
       "icon_color": "white",
       "name": "life-ring"
      }
     },
     "34c94a48f1ae497d8861dc9bab6319fb": {
      "model_module": "jupyter-leaflet",
      "model_module_version": "^0.14.0",
      "model_name": "LeafletMarkerModel",
      "state": {
       "_model_module_version": "^0.14.0",
       "_view_module_version": "^0.14.0",
       "icon": "IPY_MODEL_0398ad435cd64f0e9b038d233971d40e",
       "location": [
        44.37868,
        -124.94508
       ],
       "options": [
        "alt",
        "draggable",
        "keyboard",
        "rise_offset",
        "rise_on_hover",
        "rotation_angle",
        "rotation_origin",
        "title",
        "z_index_offset"
       ],
       "popup": "IPY_MODEL_33a682999d974b06bca886c011b67bd5"
      }
     },
     "350e6412d8f8480c8ad653b26ce88d35": {
      "model_module": "jupyter-leaflet",
      "model_module_version": "^0.14.0",
      "model_name": "LeafletMarkerModel",
      "state": {
       "_model_module_version": "^0.14.0",
       "_view_module_version": "^0.14.0",
       "icon": "IPY_MODEL_d59fded7cd784d3a823d75d5c3b5c8ef",
       "location": [
        43.3447,
        -124.3231
       ],
       "options": [
        "alt",
        "draggable",
        "keyboard",
        "rise_offset",
        "rise_on_hover",
        "rotation_angle",
        "rotation_origin",
        "title",
        "z_index_offset"
       ],
       "popup": "IPY_MODEL_2790c1d24cab449099f41e034d85561e"
      }
     },
     "351631259423424d992e08a93f1f5f2c": {
      "model_module": "jupyter-leaflet",
      "model_module_version": "^0.14.0",
      "model_name": "LeafletAwesomeIconModel",
      "state": {
       "_model_module_version": "^0.14.0",
       "_view_module_version": "^0.14.0",
       "icon_color": "white",
       "marker_color": "orange",
       "name": "life-ring"
      }
     },
     "3629ec6848ed4199bad7ba58c943a156": {
      "model_module": "@jupyter-widgets/controls",
      "model_module_version": "1.5.0",
      "model_name": "DescriptionStyleModel",
      "state": {
       "description_width": ""
      }
     },
     "3636b32e602d4e8bb5f0d79410690b05": {
      "model_module": "jupyter-leaflet",
      "model_module_version": "^0.14.0",
      "model_name": "LeafletAwesomeIconModel",
      "state": {
       "_model_module_version": "^0.14.0",
       "_view_module_version": "^0.14.0",
       "icon_color": "white",
       "marker_color": "orange",
       "name": "life-ring"
      }
     },
     "365223a7ad45489e9290533571c17d4d": {
      "model_module": "@jupyter-widgets/controls",
      "model_module_version": "1.5.0",
      "model_name": "HTMLModel",
      "state": {
       "layout": "IPY_MODEL_9c032bddab8f4bb9a8ef5b2e83c97e43",
       "style": "IPY_MODEL_7be111d805c2475daa10c7512dd535e5",
       "value": "<table border=\"1\" class=\"dataframe table table-striped table-hover table-condensed table-responsive\">\n  <thead>\n    <tr style=\"text-align: right;\">\n      <th></th>\n      <th>49</th>\n    </tr>\n  </thead>\n  <tbody>\n    <tr>\n      <th>Institution</th>\n      <td>Ocean Observatories Initiative (OOI)</td>\n    </tr>\n    <tr>\n      <th>Dataset ID</th>\n      <td>ooi-ce09ossm-sbd12-04-pco2aa000</td>\n    </tr>\n  </tbody>\n</table>"
      }
     },
     "37047ae22f6e49cd907bb101d66ac62d": {
      "model_module": "@jupyter-widgets/controls",
      "model_module_version": "1.5.0",
      "model_name": "DescriptionStyleModel",
      "state": {
       "description_width": ""
      }
     },
     "37bd666c60e5429a9fc469f2d6695604": {
      "model_module": "@jupyter-widgets/controls",
      "model_module_version": "1.5.0",
      "model_name": "HTMLModel",
      "state": {
       "layout": "IPY_MODEL_4a64c592449644a588f4ab53df35311b",
       "style": "IPY_MODEL_a3bcbcf692de479484902bc863f685b6",
       "value": "<table border=\"1\" class=\"dataframe table table-striped table-hover table-condensed table-responsive\">\n  <thead>\n    <tr style=\"text-align: right;\">\n      <th></th>\n      <th>43</th>\n    </tr>\n  </thead>\n  <tbody>\n    <tr>\n      <th>Institution</th>\n      <td>Ocean Observatories Initiative (OOI)</td>\n    </tr>\n    <tr>\n      <th>Dataset ID</th>\n      <td>ooi-ce09ossm-rid27-04-dostad000</td>\n    </tr>\n  </tbody>\n</table>"
      }
     },
     "3850a61ce8de43dfa8e46a547c1c58d4": {
      "model_module": "@jupyter-widgets/controls",
      "model_module_version": "1.5.0",
      "model_name": "DescriptionStyleModel",
      "state": {
       "description_width": ""
      }
     },
     "385a11f4447a4f02bd09da92ec495775": {
      "model_module": "@jupyter-widgets/base",
      "model_module_version": "1.2.0",
      "model_name": "LayoutModel",
      "state": {}
     },
     "3884a85cadac4708a4bf041307844f94": {
      "model_module": "@jupyter-widgets/controls",
      "model_module_version": "1.5.0",
      "model_name": "DescriptionStyleModel",
      "state": {
       "description_width": ""
      }
     },
     "389b100b581d4f1eb3d103616bc9a511": {
      "model_module": "@jupyter-widgets/base",
      "model_module_version": "1.2.0",
      "model_name": "LayoutModel",
      "state": {}
     },
     "396296fbc8b34765a7c1982a9df8a75d": {
      "model_module": "@jupyter-widgets/controls",
      "model_module_version": "1.5.0",
      "model_name": "DescriptionStyleModel",
      "state": {
       "description_width": ""
      }
     },
     "39a2dc814a204fac8c9f1ee04e6b8375": {
      "model_module": "@jupyter-widgets/controls",
      "model_module_version": "1.5.0",
      "model_name": "DescriptionStyleModel",
      "state": {
       "description_width": ""
      }
     },
     "3a8207b6f5bb450c92c1a99b1e767684": {
      "model_module": "@jupyter-widgets/controls",
      "model_module_version": "1.5.0",
      "model_name": "DescriptionStyleModel",
      "state": {
       "description_width": ""
      }
     },
     "3a8445e8a3744c90b0f2de58e652809c": {
      "model_module": "@jupyter-widgets/base",
      "model_module_version": "1.2.0",
      "model_name": "LayoutModel",
      "state": {}
     },
     "3aa37be5d0a242198ed3a639da241b4d": {
      "model_module": "jupyter-leaflet",
      "model_module_version": "^0.14.0",
      "model_name": "LeafletMarkerModel",
      "state": {
       "_model_module_version": "^0.14.0",
       "_view_module_version": "^0.14.0",
       "icon": "IPY_MODEL_12f4903caa394adca0e6ed04b49c89d3",
       "location": [
        45.4213981628418,
        -123.93620300293
       ],
       "options": [
        "alt",
        "draggable",
        "keyboard",
        "rise_offset",
        "rise_on_hover",
        "rotation_angle",
        "rotation_origin",
        "title",
        "z_index_offset"
       ],
       "popup": "IPY_MODEL_ee8c9c1972da42cab4428e0fce24c5de"
      }
     },
     "3ad236c9cd004798920b334550a868b5": {
      "model_module": "jupyter-leaflet",
      "model_module_version": "^0.14.0",
      "model_name": "LeafletAwesomeIconModel",
      "state": {
       "_model_module_version": "^0.14.0",
       "_view_module_version": "^0.14.0",
       "icon_color": "white",
       "marker_color": "orange",
       "name": "life-ring"
      }
     },
     "3add10dcd54b4da4ad31f22cc7535dd1": {
      "model_module": "@jupyter-widgets/controls",
      "model_module_version": "1.5.0",
      "model_name": "DescriptionStyleModel",
      "state": {
       "description_width": ""
      }
     },
     "3af66daec66b42dfbd5900da1f4c7c6a": {
      "model_module": "@jupyter-widgets/controls",
      "model_module_version": "1.5.0",
      "model_name": "HTMLModel",
      "state": {
       "layout": "IPY_MODEL_cc212b8bd1634c2fbe5d0acb0a7091f0",
       "style": "IPY_MODEL_5fd9ac27839948d2be3398b91dded88d",
       "value": "<table border=\"1\" class=\"dataframe table table-striped table-hover table-condensed table-responsive\">\n  <thead>\n    <tr style=\"text-align: right;\">\n      <th></th>\n      <th>13</th>\n    </tr>\n  </thead>\n  <tbody>\n    <tr>\n      <th>Institution</th>\n      <td>Ocean Observatories Initiative (OOI)</td>\n    </tr>\n    <tr>\n      <th>Dataset ID</th>\n      <td>ooi-ce04osps-pc01b-4a-ctdpfa109</td>\n    </tr>\n  </tbody>\n</table>"
      }
     },
     "3b0f6437d3294fffb42050a76fe841f0": {
      "model_module": "@jupyter-widgets/controls",
      "model_module_version": "1.5.0",
      "model_name": "HTMLModel",
      "state": {
       "layout": "IPY_MODEL_1389c37f83154960bda96a3e5d161153",
       "style": "IPY_MODEL_e4d4da225e8e47b2bca6fb7e59666b7a",
       "value": "<table border=\"1\" class=\"dataframe table table-striped table-hover table-condensed table-responsive\">\n  <thead>\n    <tr style=\"text-align: right;\">\n      <th></th>\n      <th>23</th>\n    </tr>\n  </thead>\n  <tbody>\n    <tr>\n      <th>Institution</th>\n      <td>Ocean Observatories Initiative (OOI)</td>\n    </tr>\n    <tr>\n      <th>Dataset ID</th>\n      <td>ooi-ce02shbp-lj01d-10-phsend103</td>\n    </tr>\n  </tbody>\n</table>"
      }
     },
     "3b3f133719c1491c9e695b3ee63a86c8": {
      "model_module": "jupyter-leaflet",
      "model_module_version": "^0.14.0",
      "model_name": "LeafletMarkerModel",
      "state": {
       "_model_module_version": "^0.14.0",
       "_view_module_version": "^0.14.0",
       "icon": "IPY_MODEL_c3c0b0efe8ae4ebe978b5b22460d7c4f",
       "location": [
        44.52897,
        -125.38966
       ],
       "options": [
        "alt",
        "draggable",
        "keyboard",
        "rise_offset",
        "rise_on_hover",
        "rotation_angle",
        "rotation_origin",
        "title",
        "z_index_offset"
       ],
       "popup": "IPY_MODEL_1016746262324ed4920644a5e247b045"
      }
     },
     "3b545950a6e2407c9c4af13bdc245709": {
      "model_module": "@jupyter-widgets/base",
      "model_module_version": "1.2.0",
      "model_name": "LayoutModel",
      "state": {}
     },
     "3b93662578fb4e9cb9099eb8356f13d2": {
      "model_module": "@jupyter-widgets/controls",
      "model_module_version": "1.5.0",
      "model_name": "HTMLModel",
      "state": {
       "layout": "IPY_MODEL_64da42e3bda549189aa7b01a22d74c47",
       "style": "IPY_MODEL_065bb53fb09c4689981a6e577b23b613",
       "value": "<table border=\"1\" class=\"dataframe table table-striped table-hover table-condensed table-responsive\">\n  <thead>\n    <tr style=\"text-align: right;\">\n      <th></th>\n      <th>60</th>\n    </tr>\n  </thead>\n  <tbody>\n    <tr>\n      <th>Institution</th>\n      <td>Ocean Observatories Initiative (OOI)</td>\n    </tr>\n    <tr>\n      <th>Dataset ID</th>\n      <td>ooi-rs01sbps-pc01a-4c-flordd103</td>\n    </tr>\n  </tbody>\n</table>"
      }
     },
     "3be2937ea703415d90eacdc94e8c42fe": {
      "model_module": "@jupyter-widgets/controls",
      "model_module_version": "1.5.0",
      "model_name": "HTMLModel",
      "state": {
       "layout": "IPY_MODEL_5ecdd2e48dca496c8f9d2ea85d5e728f",
       "style": "IPY_MODEL_e53a6d58860a4cfc9c03028ad19307d8",
       "value": "<table border=\"1\" class=\"dataframe table table-striped table-hover table-condensed table-responsive\">\n  <thead>\n    <tr style=\"text-align: right;\">\n      <th></th>\n      <th>40</th>\n    </tr>\n  </thead>\n  <tbody>\n    <tr>\n      <th>Institution</th>\n      <td>Ocean Observatories Initiative (OOI)</td>\n    </tr>\n    <tr>\n      <th>Dataset ID</th>\n      <td>ooi-ce06issm-sbd17-06-ctdbpc000</td>\n    </tr>\n  </tbody>\n</table>"
      }
     },
     "3c320d345bc34a0ea9037322dfbda3c4": {
      "model_module": "@jupyter-widgets/controls",
      "model_module_version": "1.5.0",
      "model_name": "HTMLModel",
      "state": {
       "layout": "IPY_MODEL_ef394cbfe731479596be966d09041484",
       "style": "IPY_MODEL_c0204c2f36d2423aa4e1405fc8628057",
       "value": "<table border=\"1\" class=\"dataframe table table-striped table-hover table-condensed table-responsive\">\n  <thead>\n    <tr style=\"text-align: right;\">\n      <th></th>\n      <th>5</th>\n    </tr>\n  </thead>\n  <tbody>\n    <tr>\n      <th>Institution</th>\n      <td>Ocean Observatories Initiative (OOI)</td>\n    </tr>\n    <tr>\n      <th>Dataset ID</th>\n      <td>ooi-ce01issm-mfd37-03-ctdbpc000</td>\n    </tr>\n  </tbody>\n</table>"
      }
     },
     "3c64fb00b368440b95909b3f888f6a24": {
      "model_module": "@jupyter-widgets/controls",
      "model_module_version": "1.5.0",
      "model_name": "DescriptionStyleModel",
      "state": {
       "description_width": ""
      }
     },
     "3cb12115b65f40acbaa1406d9d4a7f6f": {
      "model_module": "jupyter-leaflet",
      "model_module_version": "^0.14.0",
      "model_name": "LeafletAwesomeIconModel",
      "state": {
       "_model_module_version": "^0.14.0",
       "_view_module_version": "^0.14.0",
       "icon_color": "white",
       "marker_color": "orange",
       "name": "life-ring"
      }
     },
     "3d0ee6bb659a4a1f9312d080e0a99a06": {
      "model_module": "@jupyter-widgets/base",
      "model_module_version": "1.2.0",
      "model_name": "LayoutModel",
      "state": {}
     },
     "3d1418c2eb73452ca6dba9b7588f3edd": {
      "model_module": "jupyter-leaflet",
      "model_module_version": "^0.14.0",
      "model_name": "LeafletMarkerModel",
      "state": {
       "_model_module_version": "^0.14.0",
       "_view_module_version": "^0.14.0",
       "icon": "IPY_MODEL_151670f7e44c4c77b722598fbd072e6e",
       "location": [
        46.98648,
        -124.56923
       ],
       "options": [
        "alt",
        "draggable",
        "keyboard",
        "rise_offset",
        "rise_on_hover",
        "rotation_angle",
        "rotation_origin",
        "title",
        "z_index_offset"
       ],
       "popup": "IPY_MODEL_5043e9fbbb9045d4bdba1c591a7f61d2"
      }
     },
     "3d3dbf0031034d8db384dd69ddca9875": {
      "model_module": "jupyter-leaflet",
      "model_module_version": "^0.14.0",
      "model_name": "LeafletRectangleModel",
      "state": {
       "_model_module_version": "^0.14.0",
       "_view_module_version": "^0.14.0",
       "bounds": [
        [
         43,
         -127
        ],
        [
         48,
         -123.75
        ]
       ],
       "color": "red",
       "draggable": false,
       "fill": false,
       "options": [
        "color",
        "dash_array",
        "draggable",
        "fill",
        "fill_color",
        "fill_opacity",
        "line_cap",
        "line_join",
        "no_clip",
        "opacity",
        "pointer_events",
        "smooth_factor",
        "stroke",
        "transform",
        "weight"
       ],
       "rotation": true,
       "scaling": true,
       "transform": false,
       "uniform_scaling": false
      }
     },
     "3de4b17fc669477097afaa56d99bf65b": {
      "model_module": "@jupyter-widgets/controls",
      "model_module_version": "1.5.0",
      "model_name": "HTMLModel",
      "state": {
       "layout": "IPY_MODEL_e139c2016f984d669093dd7679e9ea00",
       "style": "IPY_MODEL_1aa8b594736b41c1ba29a96aa1a029aa",
       "value": "<table border=\"1\" class=\"dataframe table table-striped table-hover table-condensed table-responsive\">\n  <thead>\n    <tr style=\"text-align: right;\">\n      <th></th>\n      <th>31</th>\n    </tr>\n  </thead>\n  <tbody>\n    <tr>\n      <th>Institution</th>\n      <td>Ocean Observatories Initiative (OOI)</td>\n    </tr>\n    <tr>\n      <th>Dataset ID</th>\n      <td>ooi-ce06issm-rid16-02-flortd000</td>\n    </tr>\n  </tbody>\n</table>"
      }
     },
     "3e0ca1075ffb4663a38120c9da5962c4": {
      "model_module": "jupyter-leaflet",
      "model_module_version": "^0.14.0",
      "model_name": "LeafletMarkerModel",
      "state": {
       "_model_module_version": "^0.14.0",
       "_view_module_version": "^0.14.0",
       "icon": "IPY_MODEL_41f7dc5dafcc484eb3e509a16e767719",
       "location": [
        47.9646517535081,
        -124.953552246094
       ],
       "options": [
        "alt",
        "draggable",
        "keyboard",
        "rise_offset",
        "rise_on_hover",
        "rotation_angle",
        "rotation_origin",
        "title",
        "z_index_offset"
       ],
       "popup": "IPY_MODEL_4f2c77d64248445ba728eddf087d630f"
      }
     },
     "3f274ce2900f4a36be5e7a55e718ec3e": {
      "model_module": "@jupyter-widgets/base",
      "model_module_version": "1.2.0",
      "model_name": "LayoutModel",
      "state": {}
     },
     "3f2cc1a8dcd14b368f87c4641bf3a556": {
      "model_module": "@jupyter-widgets/controls",
      "model_module_version": "1.5.0",
      "model_name": "DescriptionStyleModel",
      "state": {
       "description_width": ""
      }
     },
     "3fd6b8ed41034455a223ecfb793316aa": {
      "model_module": "jupyter-leaflet",
      "model_module_version": "^0.14.0",
      "model_name": "LeafletMarkerModel",
      "state": {
       "_model_module_version": "^0.14.0",
       "_view_module_version": "^0.14.0",
       "icon": "IPY_MODEL_001289016d6241d7a9efc72bf768cc70",
       "location": [
        46.86503,
        -124.94828
       ],
       "options": [
        "alt",
        "draggable",
        "keyboard",
        "rise_offset",
        "rise_on_hover",
        "rotation_angle",
        "rotation_origin",
        "title",
        "z_index_offset"
       ],
       "popup": "IPY_MODEL_e17f875765b54ce7a9cd715cb55b9f8b"
      }
     },
     "3fdc53b403e84d76b7ebc5337a667a81": {
      "model_module": "@jupyter-widgets/controls",
      "model_module_version": "1.5.0",
      "model_name": "HTMLModel",
      "state": {
       "layout": "IPY_MODEL_b39c97bc62284deeb6722678549f7b25",
       "style": "IPY_MODEL_39a2dc814a204fac8c9f1ee04e6b8375",
       "value": "<table border=\"1\" class=\"dataframe table table-striped table-hover table-condensed table-responsive\">\n  <thead>\n    <tr style=\"text-align: right;\">\n      <th></th>\n      <th>62</th>\n    </tr>\n  </thead>\n  <tbody>\n    <tr>\n      <th>Institution</th>\n      <td>Ocean Observatories Initiative (OOI)</td>\n    </tr>\n    <tr>\n      <th>Dataset ID</th>\n      <td>ooi-rs01sbps-pc01a-4b-phsena102</td>\n    </tr>\n  </tbody>\n</table>"
      }
     },
     "40a5f409985c470a81566b83aedd582d": {
      "model_module": "@jupyter-widgets/controls",
      "model_module_version": "1.5.0",
      "model_name": "HTMLModel",
      "state": {
       "layout": "IPY_MODEL_a8544e0d00cf4f5ea37ffbf5740d31d5",
       "style": "IPY_MODEL_b72697836e954c808e5370cb2a64a229",
       "value": "<table border=\"1\" class=\"dataframe table table-striped table-hover table-condensed table-responsive\">\n  <thead>\n    <tr style=\"text-align: right;\">\n      <th></th>\n      <th>19</th>\n    </tr>\n  </thead>\n  <tbody>\n    <tr>\n      <th>Institution</th>\n      <td>Ocean Observatories Initiative (OOI)</td>\n    </tr>\n    <tr>\n      <th>Dataset ID</th>\n      <td>ooi-ce04ossm-rid26-06-phsend000</td>\n    </tr>\n  </tbody>\n</table>"
      }
     },
     "40f1ed53b3394e56a5dedbf7fcfb0b2e": {
      "model_module": "@jupyter-widgets/controls",
      "model_module_version": "1.5.0",
      "model_name": "HTMLModel",
      "state": {
       "layout": "IPY_MODEL_33e2ad9f77b0437b96a6e44ba4c12103",
       "style": "IPY_MODEL_a56ee654c50f4df3a10865dea4240aee",
       "value": "<table border=\"1\" class=\"dataframe table table-striped table-hover table-condensed table-responsive\">\n  <thead>\n    <tr style=\"text-align: right;\">\n      <th></th>\n      <th>64</th>\n    </tr>\n  </thead>\n  <tbody>\n    <tr>\n      <th>Institution</th>\n      <td>Observing System Monitoring Center (OSMC)</td>\n    </tr>\n    <tr>\n      <th>Dataset ID</th>\n      <td>osmc_46097</td>\n    </tr>\n  </tbody>\n</table>"
      }
     },
     "4105742901c54b9dbb20542360bdc903": {
      "model_module": "@jupyter-widgets/controls",
      "model_module_version": "1.5.0",
      "model_name": "DescriptionStyleModel",
      "state": {
       "description_width": ""
      }
     },
     "41689ae56527440aa96c84eeb7400946": {
      "model_module": "@jupyter-widgets/base",
      "model_module_version": "1.2.0",
      "model_name": "LayoutModel",
      "state": {}
     },
     "41f7dc5dafcc484eb3e509a16e767719": {
      "model_module": "jupyter-leaflet",
      "model_module_version": "^0.14.0",
      "model_name": "LeafletAwesomeIconModel",
      "state": {
       "_model_module_version": "^0.14.0",
       "_view_module_version": "^0.14.0",
       "icon_color": "white",
       "name": "life-ring"
      }
     },
     "424da176a47d4abfb95bcb78bbaecbb7": {
      "model_module": "jupyter-leaflet",
      "model_module_version": "^0.14.0",
      "model_name": "LeafletAwesomeIconModel",
      "state": {
       "_model_module_version": "^0.14.0",
       "_view_module_version": "^0.14.0",
       "icon_color": "white",
       "marker_color": "orange",
       "name": "life-ring"
      }
     },
     "42c171052dba47379cfb83a256c45ae9": {
      "model_module": "jupyter-leaflet",
      "model_module_version": "^0.14.0",
      "model_name": "LeafletAwesomeIconModel",
      "state": {
       "_model_module_version": "^0.14.0",
       "_view_module_version": "^0.14.0",
       "icon_color": "white",
       "name": "life-ring"
      }
     },
     "437a0d2d1ab04e2b8b5124fd4c7cb427": {
      "model_module": "jupyter-leaflet",
      "model_module_version": "^0.14.0",
      "model_name": "LeafletMarkerModel",
      "state": {
       "_model_module_version": "^0.14.0",
       "_view_module_version": "^0.14.0",
       "icon": "IPY_MODEL_c9991b3850de4f809106db77293b6be2",
       "location": [
        44.65678,
        -124.09707
       ],
       "options": [
        "alt",
        "draggable",
        "keyboard",
        "rise_offset",
        "rise_on_hover",
        "rotation_angle",
        "rotation_origin",
        "title",
        "z_index_offset"
       ],
       "popup": "IPY_MODEL_b102d70d0e7b4265bcc44a4ca45e6be4"
      }
     },
     "43c737675c584b92a5caa60232cb8e86": {
      "model_module": "jupyter-leaflet",
      "model_module_version": "^0.14.0",
      "model_name": "LeafletAwesomeIconModel",
      "state": {
       "_model_module_version": "^0.14.0",
       "_view_module_version": "^0.14.0",
       "icon_color": "white",
       "name": "life-ring"
      }
     },
     "446e109e01514dbb87623f7638f3df6e": {
      "model_module": "jupyter-leaflet",
      "model_module_version": "^0.14.0",
      "model_name": "LeafletAwesomeIconModel",
      "state": {
       "_model_module_version": "^0.14.0",
       "_view_module_version": "^0.14.0",
       "icon_color": "white",
       "marker_color": "orange",
       "name": "life-ring"
      }
     },
     "44764f26476f41769f50d3244a947381": {
      "model_module": "@jupyter-widgets/controls",
      "model_module_version": "1.5.0",
      "model_name": "DescriptionStyleModel",
      "state": {
       "description_width": ""
      }
     },
     "4508b01845574de3936c1525860ae35f": {
      "model_module": "jupyter-leaflet",
      "model_module_version": "^0.14.0",
      "model_name": "LeafletMarkerModel",
      "state": {
       "_model_module_version": "^0.14.0",
       "_view_module_version": "^0.14.0",
       "icon": "IPY_MODEL_85771390d1a6457a9fec8adc224052ca",
       "location": [
        44.65678,
        -124.09707
       ],
       "options": [
        "alt",
        "draggable",
        "keyboard",
        "rise_offset",
        "rise_on_hover",
        "rotation_angle",
        "rotation_origin",
        "title",
        "z_index_offset"
       ],
       "popup": "IPY_MODEL_67fa0be4765c4fa2b8e9eedb0134591f"
      }
     },
     "4522eb088f314feaa42720abeb900a0d": {
      "model_module": "@jupyter-widgets/controls",
      "model_module_version": "1.5.0",
      "model_name": "DescriptionStyleModel",
      "state": {
       "description_width": ""
      }
     },
     "45f931aac7ff49fdbb9daff0b7adda34": {
      "model_module": "@jupyter-widgets/controls",
      "model_module_version": "1.5.0",
      "model_name": "HTMLModel",
      "state": {
       "layout": "IPY_MODEL_8343f2ac058c41d2978cd1f808089b3f",
       "style": "IPY_MODEL_898b9f55ad074829b3f7fee4d67da81a",
       "value": "<table border=\"1\" class=\"dataframe table table-striped table-hover table-condensed table-responsive\">\n  <thead>\n    <tr style=\"text-align: right;\">\n      <th></th>\n      <th>58</th>\n    </tr>\n  </thead>\n  <tbody>\n    <tr>\n      <th>Institution</th>\n      <td>Ocean Observatories Initiative (OOI)</td>\n    </tr>\n    <tr>\n      <th>Dataset ID</th>\n      <td>ooi-ce07shsm-sbd11-06-metbka000</td>\n    </tr>\n  </tbody>\n</table>"
      }
     },
     "463d510eb102494bb0ad02697f14c414": {
      "model_module": "@jupyter-widgets/controls",
      "model_module_version": "1.5.0",
      "model_name": "HTMLModel",
      "state": {
       "layout": "IPY_MODEL_aa5f2cd1bfe94995970d957ddb4d18e2",
       "style": "IPY_MODEL_80459d08898a4d01baa6014d364f7810",
       "value": "<table border=\"1\" class=\"dataframe table table-striped table-hover table-condensed table-responsive\">\n  <thead>\n    <tr style=\"text-align: right;\">\n      <th></th>\n      <th>32</th>\n    </tr>\n  </thead>\n  <tbody>\n    <tr>\n      <th>Institution</th>\n      <td>Ocean Observatories Initiative (OOI)</td>\n    </tr>\n    <tr>\n      <th>Dataset ID</th>\n      <td>ooi-ce06issm-rid16-03-ctdbpc000</td>\n    </tr>\n  </tbody>\n</table>"
      }
     },
     "46b0b24f232b4c5ba6cb1c78d36ae75a": {
      "model_module": "@jupyter-widgets/controls",
      "model_module_version": "1.5.0",
      "model_name": "HTMLModel",
      "state": {
       "layout": "IPY_MODEL_888a007d2984436d96374163434439c8",
       "style": "IPY_MODEL_3a8207b6f5bb450c92c1a99b1e767684",
       "value": "<table border=\"1\" class=\"dataframe table table-striped table-hover table-condensed table-responsive\">\n  <thead>\n    <tr style=\"text-align: right;\">\n      <th></th>\n      <th>3</th>\n    </tr>\n  </thead>\n  <tbody>\n    <tr>\n      <th>Institution</th>\n      <td>Ocean Observatories Initiative (OOI)</td>\n    </tr>\n    <tr>\n      <th>Dataset ID</th>\n      <td>ooi-ce01issm-rid16-07-nutnrb000</td>\n    </tr>\n  </tbody>\n</table>"
      }
     },
     "4708c768ec54437cad9e4e13613a52a8": {
      "model_module": "jupyter-leaflet",
      "model_module_version": "^0.14.0",
      "model_name": "LeafletAwesomeIconModel",
      "state": {
       "_model_module_version": "^0.14.0",
       "_view_module_version": "^0.14.0",
       "icon_color": "white",
       "name": "life-ring"
      }
     },
     "47432a07087b4472be403f2abee73744": {
      "model_module": "@jupyter-widgets/controls",
      "model_module_version": "1.5.0",
      "model_name": "DescriptionStyleModel",
      "state": {
       "description_width": ""
      }
     },
     "4787b5d0b8774c19aab9aaf429e59f5e": {
      "model_module": "jupyter-leaflet",
      "model_module_version": "^0.14.0",
      "model_name": "LeafletMarkerModel",
      "state": {
       "_model_module_version": "^0.14.0",
       "_view_module_version": "^0.14.0",
       "icon": "IPY_MODEL_97576398babb4c4f929c1a226195e145",
       "location": [
        44.3695,
        -124.95369
       ],
       "options": [
        "alt",
        "draggable",
        "keyboard",
        "rise_offset",
        "rise_on_hover",
        "rotation_angle",
        "rotation_origin",
        "title",
        "z_index_offset"
       ],
       "popup": "IPY_MODEL_0c5b39b821b047fdaa2e4598ee7a2e36"
      }
     },
     "47e389d8c25540439543dd971d758013": {
      "model_module": "@jupyter-widgets/controls",
      "model_module_version": "1.5.0",
      "model_name": "HTMLModel",
      "state": {
       "layout": "IPY_MODEL_8ce98a776fb045149a9e25b94f6073f1",
       "style": "IPY_MODEL_2722bcd271ba42d08d03f887f6073734",
       "value": "<table border=\"1\" class=\"dataframe table table-striped table-hover table-condensed table-responsive\">\n  <thead>\n    <tr style=\"text-align: right;\">\n      <th></th>\n      <th>7</th>\n    </tr>\n  </thead>\n  <tbody>\n    <tr>\n      <th>Institution</th>\n      <td>Ocean Observatories Initiative (OOI)</td>\n    </tr>\n    <tr>\n      <th>Dataset ID</th>\n      <td>ooi-ce01issm-mfd35-06-phsend000</td>\n    </tr>\n  </tbody>\n</table>"
      }
     },
     "47e8ac1a861a41e4aa519944afdbe069": {
      "model_module": "jupyter-leaflet",
      "model_module_version": "^0.14.0",
      "model_name": "LeafletAwesomeIconModel",
      "state": {
       "_model_module_version": "^0.14.0",
       "_view_module_version": "^0.14.0",
       "icon_color": "white",
       "marker_color": "orange",
       "name": "life-ring"
      }
     },
     "4839d2f1834045b78fe5c5c2f5f81cd8": {
      "model_module": "jupyter-leaflet",
      "model_module_version": "^0.14.0",
      "model_name": "LeafletTileLayerModel",
      "state": {
       "_model_module_version": "^0.14.0",
       "_view_module_version": "^0.14.0",
       "base": true,
       "max_native_zoom": 18,
       "max_zoom": 19,
       "min_native_zoom": 0,
       "min_zoom": 1,
       "options": [
        "attribution",
        "detect_retina",
        "max_native_zoom",
        "max_zoom",
        "min_native_zoom",
        "min_zoom",
        "no_wrap",
        "tile_size",
        "tms"
       ]
      }
     },
     "4859fa8bfeeb427f87cccd632d6114d5": {
      "model_module": "jupyter-leaflet",
      "model_module_version": "^0.14.0",
      "model_name": "LeafletMarkerModel",
      "state": {
       "_model_module_version": "^0.14.0",
       "_view_module_version": "^0.14.0",
       "icon": "IPY_MODEL_73c85be61ee34a2aaae3b546dc743673",
       "location": [
        47.35,
        -124.73
       ],
       "options": [
        "alt",
        "draggable",
        "keyboard",
        "rise_offset",
        "rise_on_hover",
        "rotation_angle",
        "rotation_origin",
        "title",
        "z_index_offset"
       ],
       "popup": "IPY_MODEL_fc2a8476d257479e8123270d20970cf8"
      }
     },
     "48e29dc77f51491fb01fe374820040d9": {
      "model_module": "@jupyter-widgets/controls",
      "model_module_version": "1.5.0",
      "model_name": "HTMLModel",
      "state": {
       "layout": "IPY_MODEL_f9b0d951fd0b4886b8147d960982550a",
       "style": "IPY_MODEL_9cd2e3c2f8ee4f01b4be1270801166a2",
       "value": "<table border=\"1\" class=\"dataframe table table-striped table-hover table-condensed table-responsive\">\n  <thead>\n    <tr style=\"text-align: right;\">\n      <th></th>\n      <th>74</th>\n    </tr>\n  </thead>\n  <tbody>\n    <tr>\n      <th>Institution</th>\n      <td>NOAA Center for Operational Oceanographic Products and Services (CO-OPS)</td>\n    </tr>\n    <tr>\n      <th>Dataset ID</th>\n      <td>noaa_nos_co_ops_9437540</td>\n    </tr>\n  </tbody>\n</table>"
      }
     },
     "4916a824d24b4ad3a382aa402fdcd993": {
      "model_module": "@jupyter-widgets/base",
      "model_module_version": "1.2.0",
      "model_name": "LayoutModel",
      "state": {}
     },
     "494fcc5a8d8542a2bea483f416678fbf": {
      "model_module": "jupyter-leaflet",
      "model_module_version": "^0.14.0",
      "model_name": "LeafletMarkerModel",
      "state": {
       "_model_module_version": "^0.14.0",
       "_view_module_version": "^0.14.0",
       "icon": "IPY_MODEL_fb1a2d2e4c9442beb8e7a86d93ec221c",
       "location": [
        44.383335,
        -124.95
       ],
       "options": [
        "alt",
        "draggable",
        "keyboard",
        "rise_offset",
        "rise_on_hover",
        "rotation_angle",
        "rotation_origin",
        "title",
        "z_index_offset"
       ],
       "popup": "IPY_MODEL_74dea4953409403dbfad91f4764070a7"
      }
     },
     "4951d3f9c87142bcb21e7329ce67f157": {
      "model_module": "@jupyter-widgets/controls",
      "model_module_version": "1.5.0",
      "model_name": "DescriptionStyleModel",
      "state": {
       "description_width": ""
      }
     },
     "495b0805619a4b64a8a594356352f3fa": {
      "model_module": "jupyter-leaflet",
      "model_module_version": "^0.14.0",
      "model_name": "LeafletAwesomeIconModel",
      "state": {
       "_model_module_version": "^0.14.0",
       "_view_module_version": "^0.14.0",
       "icon_color": "white",
       "marker_color": "orange",
       "name": "life-ring"
      }
     },
     "49bffdf4ba5d4f16b3468f5405e70508": {
      "model_module": "@jupyter-widgets/base",
      "model_module_version": "1.2.0",
      "model_name": "LayoutModel",
      "state": {}
     },
     "49f1e67ba4f24b1eaab8bb163a399af6": {
      "model_module": "jupyter-leaflet",
      "model_module_version": "^0.14.0",
      "model_name": "LeafletAwesomeIconModel",
      "state": {
       "_model_module_version": "^0.14.0",
       "_view_module_version": "^0.14.0",
       "icon_color": "white",
       "marker_color": "orange",
       "name": "life-ring"
      }
     },
     "4a64c592449644a588f4ab53df35311b": {
      "model_module": "@jupyter-widgets/base",
      "model_module_version": "1.2.0",
      "model_name": "LayoutModel",
      "state": {}
     },
     "4ac76f209ade4589baad5c9626ee4ad0": {
      "model_module": "jupyter-leaflet",
      "model_module_version": "^0.14.0",
      "model_name": "LeafletMarkerModel",
      "state": {
       "_model_module_version": "^0.14.0",
       "_view_module_version": "^0.14.0",
       "icon": "IPY_MODEL_d971e92dddf546afaedf925f1fd4aaa1",
       "location": [
        44.37868,
        -124.94508
       ],
       "options": [
        "alt",
        "draggable",
        "keyboard",
        "rise_offset",
        "rise_on_hover",
        "rotation_angle",
        "rotation_origin",
        "title",
        "z_index_offset"
       ],
       "popup": "IPY_MODEL_50a8c3f69a7349528029a98eb5adbf38"
      }
     },
     "4b06e1f39038419e95f2a8d1e3b1f284": {
      "model_module": "@jupyter-widgets/controls",
      "model_module_version": "1.5.0",
      "model_name": "DescriptionStyleModel",
      "state": {
       "description_width": ""
      }
     },
     "4bae186c0c8a469ca8d0723facc8e7be": {
      "model_module": "@jupyter-widgets/controls",
      "model_module_version": "1.5.0",
      "model_name": "DescriptionStyleModel",
      "state": {
       "description_width": ""
      }
     },
     "4c2e89a623fc4f79b5be0c6fbf07087c": {
      "model_module": "jupyter-leaflet",
      "model_module_version": "^0.14.0",
      "model_name": "LeafletMarkerModel",
      "state": {
       "_model_module_version": "^0.14.0",
       "_view_module_version": "^0.14.0",
       "icon": "IPY_MODEL_4fb1d047161844efa10cc6755b3a4f31",
       "location": [
        44.37868,
        -124.94508
       ],
       "options": [
        "alt",
        "draggable",
        "keyboard",
        "rise_offset",
        "rise_on_hover",
        "rotation_angle",
        "rotation_origin",
        "title",
        "z_index_offset"
       ],
       "popup": "IPY_MODEL_0899d75e645444169dbb1e9ab0186cbc"
      }
     },
     "4cf0a695f7934bf5afdeaaeda2fac5d7": {
      "model_module": "jupyter-leaflet",
      "model_module_version": "^0.14.0",
      "model_name": "LeafletMarkerModel",
      "state": {
       "_model_module_version": "^0.14.0",
       "_view_module_version": "^0.14.0",
       "icon": "IPY_MODEL_1b6d1fa2ac3b4b63841ca26d6fefeeff",
       "location": [
        46.98648,
        -124.56923
       ],
       "options": [
        "alt",
        "draggable",
        "keyboard",
        "rise_offset",
        "rise_on_hover",
        "rotation_angle",
        "rotation_origin",
        "title",
        "z_index_offset"
       ],
       "popup": "IPY_MODEL_a0941d2af8c7426ca34f798a16242dc5"
      }
     },
     "4d72529df2b74612bc34c2768bd0dc0b": {
      "model_module": "jupyter-leaflet",
      "model_module_version": "^0.14.0",
      "model_name": "LeafletAwesomeIconModel",
      "state": {
       "_model_module_version": "^0.14.0",
       "_view_module_version": "^0.14.0",
       "icon_color": "white",
       "marker_color": "orange",
       "name": "life-ring"
      }
     },
     "4d9f5066f7f54a32bf10f1ed9a2082ad": {
      "model_module": "jupyter-leaflet",
      "model_module_version": "^0.14.0",
      "model_name": "LeafletMarkerModel",
      "state": {
       "_model_module_version": "^0.14.0",
       "_view_module_version": "^0.14.0",
       "icon": "IPY_MODEL_a53e355db12c48548dbad57f47ed1377",
       "location": [
        44.51524,
        -125.38981
       ],
       "options": [
        "alt",
        "draggable",
        "keyboard",
        "rise_offset",
        "rise_on_hover",
        "rotation_angle",
        "rotation_origin",
        "title",
        "z_index_offset"
       ],
       "popup": "IPY_MODEL_1f971eb83b774ed4957b2358a4745879"
      }
     },
     "4e6985cc39834643a1bed646bf8ade32": {
      "model_module": "@jupyter-widgets/base",
      "model_module_version": "1.2.0",
      "model_name": "LayoutModel",
      "state": {}
     },
     "4ea3edfc6ee144e5bba11112ab0225e7": {
      "model_module": "@jupyter-widgets/controls",
      "model_module_version": "1.5.0",
      "model_name": "HTMLModel",
      "state": {
       "layout": "IPY_MODEL_d8605685768b4966801794f1fcc23ab5",
       "style": "IPY_MODEL_61521a8c556045f0a034cc32ba6ff037",
       "value": "<table border=\"1\" class=\"dataframe table table-striped table-hover table-condensed table-responsive\">\n  <thead>\n    <tr style=\"text-align: right;\">\n      <th></th>\n      <th>51</th>\n    </tr>\n  </thead>\n  <tbody>\n    <tr>\n      <th>Institution</th>\n      <td>Ocean Observatories Initiative (OOI)</td>\n    </tr>\n    <tr>\n      <th>Dataset ID</th>\n      <td>ooi-ce07shsm-rid27-03-ctdbpc000</td>\n    </tr>\n  </tbody>\n</table>"
      }
     },
     "4f2c77d64248445ba728eddf087d630f": {
      "model_module": "@jupyter-widgets/controls",
      "model_module_version": "1.5.0",
      "model_name": "HTMLModel",
      "state": {
       "layout": "IPY_MODEL_06eba3ae82c945c09b70ad788145614b",
       "style": "IPY_MODEL_90024615fcdf4c91bfc9ad160f96a803",
       "value": "<table border=\"1\" class=\"dataframe table table-striped table-hover table-condensed table-responsive\">\n  <thead>\n    <tr style=\"text-align: right;\">\n      <th></th>\n      <th>69</th>\n    </tr>\n  </thead>\n  <tbody>\n    <tr>\n      <th>Institution</th>\n      <td>Northwest Association of Networked Ocean Observing Systems (NANOOS)</td>\n    </tr>\n    <tr>\n      <th>Dataset ID</th>\n      <td>nanoos_apl_chaba</td>\n    </tr>\n  </tbody>\n</table>"
      }
     },
     "4fac66f994b943d0aa18540126b7c56e": {
      "model_module": "jupyter-leaflet",
      "model_module_version": "^0.14.0",
      "model_name": "LeafletMarkerModel",
      "state": {
       "_model_module_version": "^0.14.0",
       "_view_module_version": "^0.14.0",
       "icon": "IPY_MODEL_32d5cfcca256487280f98c640adfcf6f",
       "location": [
        44.63577,
        -124.3035
       ],
       "options": [
        "alt",
        "draggable",
        "keyboard",
        "rise_offset",
        "rise_on_hover",
        "rotation_angle",
        "rotation_origin",
        "title",
        "z_index_offset"
       ],
       "popup": "IPY_MODEL_663b1f4b17834ed283357b0fb84691a8"
      }
     },
     "4fb1d047161844efa10cc6755b3a4f31": {
      "model_module": "jupyter-leaflet",
      "model_module_version": "^0.14.0",
      "model_name": "LeafletAwesomeIconModel",
      "state": {
       "_model_module_version": "^0.14.0",
       "_view_module_version": "^0.14.0",
       "icon_color": "white",
       "marker_color": "orange",
       "name": "life-ring"
      }
     },
     "4fd06cac938e45c98ff5e52a37d40288": {
      "model_module": "@jupyter-widgets/controls",
      "model_module_version": "1.5.0",
      "model_name": "DescriptionStyleModel",
      "state": {
       "description_width": ""
      }
     },
     "4fd07458e7dc4636b38e1d47a3de980c": {
      "model_module": "jupyter-leaflet",
      "model_module_version": "^0.14.0",
      "model_name": "LeafletMarkerModel",
      "state": {
       "_model_module_version": "^0.14.0",
       "_view_module_version": "^0.14.0",
       "icon": "IPY_MODEL_0be727739dba49079ab7a21aab343b21",
       "location": [
        44.63577,
        -124.3035
       ],
       "options": [
        "alt",
        "draggable",
        "keyboard",
        "rise_offset",
        "rise_on_hover",
        "rotation_angle",
        "rotation_origin",
        "title",
        "z_index_offset"
       ],
       "popup": "IPY_MODEL_a176a0a455e74315af8bb7b7e5a62e4e"
      }
     },
     "4fee25c0bfd84085a47b4ae49b8c13f9": {
      "model_module": "jupyter-leaflet",
      "model_module_version": "^0.14.0",
      "model_name": "LeafletAwesomeIconModel",
      "state": {
       "_model_module_version": "^0.14.0",
       "_view_module_version": "^0.14.0",
       "icon_color": "white",
       "marker_color": "orange",
       "name": "life-ring"
      }
     },
     "5043e9fbbb9045d4bdba1c591a7f61d2": {
      "model_module": "@jupyter-widgets/controls",
      "model_module_version": "1.5.0",
      "model_name": "HTMLModel",
      "state": {
       "layout": "IPY_MODEL_14915dad1df542c986ef74df6fe84801",
       "style": "IPY_MODEL_6c2bd09b4de4488f9f555fecd4cf86c7",
       "value": "<table border=\"1\" class=\"dataframe table table-striped table-hover table-condensed table-responsive\">\n  <thead>\n    <tr style=\"text-align: right;\">\n      <th></th>\n      <th>56</th>\n    </tr>\n  </thead>\n  <tbody>\n    <tr>\n      <th>Institution</th>\n      <td>Ocean Observatories Initiative (OOI)</td>\n    </tr>\n    <tr>\n      <th>Dataset ID</th>\n      <td>ooi-ce07shsm-mfd37-03-dostad000</td>\n    </tr>\n  </tbody>\n</table>"
      }
     },
     "509f087a98764da89c687786087da4e0": {
      "model_module": "@jupyter-widgets/controls",
      "model_module_version": "1.5.0",
      "model_name": "DescriptionStyleModel",
      "state": {
       "description_width": ""
      }
     },
     "50a8c3f69a7349528029a98eb5adbf38": {
      "model_module": "@jupyter-widgets/controls",
      "model_module_version": "1.5.0",
      "model_name": "HTMLModel",
      "state": {
       "layout": "IPY_MODEL_b48434e5fb514bd1914f30269cd9e254",
       "style": "IPY_MODEL_71bbeb87d8a64b47903168ef6121474b",
       "value": "<table border=\"1\" class=\"dataframe table table-striped table-hover table-condensed table-responsive\">\n  <thead>\n    <tr style=\"text-align: right;\">\n      <th></th>\n      <th>17</th>\n    </tr>\n  </thead>\n  <tbody>\n    <tr>\n      <th>Institution</th>\n      <td>Ocean Observatories Initiative (OOI)</td>\n    </tr>\n    <tr>\n      <th>Dataset ID</th>\n      <td>ooi-ce04ossm-rid27-04-dostad000</td>\n    </tr>\n  </tbody>\n</table>"
      }
     },
     "5129848115ca46039c84fc4d10cfd628": {
      "model_module": "@jupyter-widgets/base",
      "model_module_version": "1.2.0",
      "model_name": "LayoutModel",
      "state": {}
     },
     "514c39291dbf4967a05fcae5a2944f73": {
      "model_module": "jupyter-leaflet",
      "model_module_version": "^0.14.0",
      "model_name": "LeafletMarkerModel",
      "state": {
       "_model_module_version": "^0.14.0",
       "_view_module_version": "^0.14.0",
       "icon": "IPY_MODEL_7c4051ab0af243f1ad62bd43694e8741",
       "location": [
        47.1345,
        -124.27087
       ],
       "options": [
        "alt",
        "draggable",
        "keyboard",
        "rise_offset",
        "rise_on_hover",
        "rotation_angle",
        "rotation_origin",
        "title",
        "z_index_offset"
       ],
       "popup": "IPY_MODEL_04e037a9c7f043cebb377fec6d7e4a32"
      }
     },
     "52218a83a29e4a2eb3de2b8183af629f": {
      "model_module": "jupyter-leaflet",
      "model_module_version": "^0.14.0",
      "model_name": "LeafletMarkerModel",
      "state": {
       "_model_module_version": "^0.14.0",
       "_view_module_version": "^0.14.0",
       "icon": "IPY_MODEL_0edd154c36374ac8b7ac0311e53bdb9f",
       "location": [
        44.63577,
        -124.3035
       ],
       "options": [
        "alt",
        "draggable",
        "keyboard",
        "rise_offset",
        "rise_on_hover",
        "rotation_angle",
        "rotation_origin",
        "title",
        "z_index_offset"
       ],
       "popup": "IPY_MODEL_62224bc423724f69884507ec3f343aa6"
      }
     },
     "53880c03429d44f7b8c8912dcd2f664c": {
      "model_module": "jupyter-leaflet",
      "model_module_version": "^0.14.0",
      "model_name": "LeafletMarkerModel",
      "state": {
       "_model_module_version": "^0.14.0",
       "_view_module_version": "^0.14.0",
       "icon": "IPY_MODEL_dd5d3ead7f1d49ee97bc13668f17c07b",
       "location": [
        44.37868,
        -124.94508
       ],
       "options": [
        "alt",
        "draggable",
        "keyboard",
        "rise_offset",
        "rise_on_hover",
        "rotation_angle",
        "rotation_origin",
        "title",
        "z_index_offset"
       ],
       "popup": "IPY_MODEL_64d712bf4b20474f8374d9846f924787"
      }
     },
     "53907e6f38434745883f1aef85e77540": {
      "model_module": "@jupyter-widgets/base",
      "model_module_version": "1.2.0",
      "model_name": "LayoutModel",
      "state": {}
     },
     "53cb1a2a36b849e1861f9842faf59806": {
      "model_module": "@jupyter-widgets/controls",
      "model_module_version": "1.5.0",
      "model_name": "HTMLModel",
      "state": {
       "layout": "IPY_MODEL_0380af0c690f4e2c8ab38c1052eeb6cb",
       "style": "IPY_MODEL_dc5ef83a7e984cf69339e718365a003b",
       "value": "<table border=\"1\" class=\"dataframe table table-striped table-hover table-condensed table-responsive\">\n  <thead>\n    <tr style=\"text-align: right;\">\n      <th></th>\n      <th>6</th>\n    </tr>\n  </thead>\n  <tbody>\n    <tr>\n      <th>Institution</th>\n      <td>Ocean Observatories Initiative (OOI)</td>\n    </tr>\n    <tr>\n      <th>Dataset ID</th>\n      <td>ooi-ce01issm-mfd37-03-dostad000</td>\n    </tr>\n  </tbody>\n</table>"
      }
     },
     "53da6754ee0d44df9ed47dec59d978f5": {
      "model_module": "@jupyter-widgets/base",
      "model_module_version": "1.2.0",
      "model_name": "LayoutModel",
      "state": {}
     },
     "540ac4d2f0754c2c95cc6a8e5098a19e": {
      "model_module": "@jupyter-widgets/controls",
      "model_module_version": "1.5.0",
      "model_name": "DescriptionStyleModel",
      "state": {
       "description_width": ""
      }
     },
     "5445f490165d438bb3fc93e3b6ccc08d": {
      "model_module": "@jupyter-widgets/controls",
      "model_module_version": "1.5.0",
      "model_name": "DescriptionStyleModel",
      "state": {
       "description_width": ""
      }
     },
     "547daa0240f3445195e1aa10ee553ec7": {
      "model_module": "@jupyter-widgets/controls",
      "model_module_version": "1.5.0",
      "model_name": "HTMLModel",
      "state": {
       "layout": "IPY_MODEL_b36172a8f554469286bb611d11a426f2",
       "style": "IPY_MODEL_bede1ec699354ba28d557bca8275c318",
       "value": "<table border=\"1\" class=\"dataframe table table-striped table-hover table-condensed table-responsive\">\n  <thead>\n    <tr style=\"text-align: right;\">\n      <th></th>\n      <th>57</th>\n    </tr>\n  </thead>\n  <tbody>\n    <tr>\n      <th>Institution</th>\n      <td>Ocean Observatories Initiative (OOI)</td>\n    </tr>\n    <tr>\n      <th>Dataset ID</th>\n      <td>ooi-ce07shsm-mfd35-06-phsend000</td>\n    </tr>\n  </tbody>\n</table>"
      }
     },
     "548a3ad07269421681f7110f25cb5aa3": {
      "model_module": "jupyter-leaflet",
      "model_module_version": "^0.14.0",
      "model_name": "LeafletAwesomeIconModel",
      "state": {
       "_model_module_version": "^0.14.0",
       "_view_module_version": "^0.14.0",
       "icon_color": "white",
       "marker_color": "orange",
       "name": "life-ring"
      }
     },
     "55ec21f96d7148d0af341ec94b516cb6": {
      "model_module": "@jupyter-widgets/base",
      "model_module_version": "1.2.0",
      "model_name": "LayoutModel",
      "state": {}
     },
     "561cf554296b46828361ef7ca4b2814a": {
      "model_module": "@jupyter-widgets/controls",
      "model_module_version": "1.5.0",
      "model_name": "HTMLModel",
      "state": {
       "layout": "IPY_MODEL_3f274ce2900f4a36be5e7a55e718ec3e",
       "style": "IPY_MODEL_1b7658cffa8741479f6d896125655611",
       "value": "<table border=\"1\" class=\"dataframe table table-striped table-hover table-condensed table-responsive\">\n  <thead>\n    <tr style=\"text-align: right;\">\n      <th></th>\n      <th>4</th>\n    </tr>\n  </thead>\n  <tbody>\n    <tr>\n      <th>Institution</th>\n      <td>Ocean Observatories Initiative (OOI)</td>\n    </tr>\n    <tr>\n      <th>Dataset ID</th>\n      <td>ooi-ce01issm-rid16-06-phsend000</td>\n    </tr>\n  </tbody>\n</table>"
      }
     },
     "56b77906caf34e9d92a28a1062aa8888": {
      "model_module": "jupyter-leaflet",
      "model_module_version": "^0.14.0",
      "model_name": "LeafletAwesomeIconModel",
      "state": {
       "_model_module_version": "^0.14.0",
       "_view_module_version": "^0.14.0",
       "icon_color": "white",
       "marker_color": "orange",
       "name": "life-ring"
      }
     },
     "56d4d6e5d5aa471ca2810cc4ba3a2a44": {
      "model_module": "@jupyter-widgets/controls",
      "model_module_version": "1.5.0",
      "model_name": "DescriptionStyleModel",
      "state": {
       "description_width": ""
      }
     },
     "575c9b3c7d704ec1b4fbc95f91d50960": {
      "model_module": "@jupyter-widgets/controls",
      "model_module_version": "1.5.0",
      "model_name": "DescriptionStyleModel",
      "state": {
       "description_width": ""
      }
     },
     "57746ffce26b438f9ceda29b87b8f250": {
      "model_module": "jupyter-leaflet",
      "model_module_version": "^0.14.0",
      "model_name": "LeafletAwesomeIconModel",
      "state": {
       "_model_module_version": "^0.14.0",
       "_view_module_version": "^0.14.0",
       "icon_color": "white",
       "name": "life-ring"
      }
     },
     "583b98e96dc146fd91610e7f34c60fdc": {
      "model_module": "@jupyter-widgets/base",
      "model_module_version": "1.2.0",
      "model_name": "LayoutModel",
      "state": {}
     },
     "58c7f352530141909d9263f2b73f3179": {
      "model_module": "@jupyter-widgets/controls",
      "model_module_version": "1.5.0",
      "model_name": "DescriptionStyleModel",
      "state": {
       "description_width": ""
      }
     },
     "5a48434223c4489cb1bf766b36167b94": {
      "model_module": "@jupyter-widgets/controls",
      "model_module_version": "1.5.0",
      "model_name": "HTMLModel",
      "state": {
       "layout": "IPY_MODEL_00f8835715b94449bb71b3b6a1189fe7",
       "style": "IPY_MODEL_189910d09fe44b1d9ebe9ee0880658ae",
       "value": "<table border=\"1\" class=\"dataframe table table-striped table-hover table-condensed table-responsive\">\n  <thead>\n    <tr style=\"text-align: right;\">\n      <th></th>\n      <th>73</th>\n    </tr>\n  </thead>\n  <tbody>\n    <tr>\n      <th>Institution</th>\n      <td>NOAA Pacific Marine Environmental Lab (PMEL)</td>\n    </tr>\n    <tr>\n      <th>Dataset ID</th>\n      <td>coos-bay-historic-co2</td>\n    </tr>\n  </tbody>\n</table>"
      }
     },
     "5a748d145eb44d099bcb49834a9ce8a8": {
      "model_module": "@jupyter-widgets/base",
      "model_module_version": "1.2.0",
      "model_name": "LayoutModel",
      "state": {}
     },
     "5b3771a21def4fb9b7dd04317d25b5a5": {
      "model_module": "jupyter-leaflet",
      "model_module_version": "^0.14.0",
      "model_name": "LeafletAwesomeIconModel",
      "state": {
       "_model_module_version": "^0.14.0",
       "_view_module_version": "^0.14.0",
       "icon_color": "white",
       "marker_color": "orange",
       "name": "life-ring"
      }
     },
     "5bb360cded3941399474036ff0e3e90a": {
      "model_module": "@jupyter-widgets/controls",
      "model_module_version": "1.5.0",
      "model_name": "HTMLModel",
      "state": {
       "layout": "IPY_MODEL_bf97989834df4071a0d5e283593fc06d",
       "style": "IPY_MODEL_95cf9181045042b59e20f5707f16ce46",
       "value": "<table border=\"1\" class=\"dataframe table table-striped table-hover table-condensed table-responsive\">\n  <thead>\n    <tr style=\"text-align: right;\">\n      <th></th>\n      <th>59</th>\n    </tr>\n  </thead>\n  <tbody>\n    <tr>\n      <th>Institution</th>\n      <td>Ocean Observatories Initiative (OOI)</td>\n    </tr>\n    <tr>\n      <th>Dataset ID</th>\n      <td>ooi-rs01slbs-lj01a-12-ctdpfb101</td>\n    </tr>\n  </tbody>\n</table>"
      }
     },
     "5c649f38ced747e7a8b7117e89c0d699": {
      "model_module": "@jupyter-widgets/controls",
      "model_module_version": "1.5.0",
      "model_name": "HTMLModel",
      "state": {
       "layout": "IPY_MODEL_3d0ee6bb659a4a1f9312d080e0a99a06",
       "style": "IPY_MODEL_efd2cc4990f646e8a3639f2a643bcbb5",
       "value": "<table border=\"1\" class=\"dataframe table table-striped table-hover table-condensed table-responsive\">\n  <thead>\n    <tr style=\"text-align: right;\">\n      <th></th>\n      <th>21</th>\n    </tr>\n  </thead>\n  <tbody>\n    <tr>\n      <th>Institution</th>\n      <td>Ocean Observatories Initiative (OOI)</td>\n    </tr>\n    <tr>\n      <th>Dataset ID</th>\n      <td>ooi-ce04ossm-sbd12-04-pco2aa000</td>\n    </tr>\n  </tbody>\n</table>"
      }
     },
     "5cdac32a28fe48a49d3b401d92f6e4d0": {
      "model_module": "@jupyter-widgets/controls",
      "model_module_version": "1.5.0",
      "model_name": "HTMLModel",
      "state": {
       "layout": "IPY_MODEL_b069d36ba6dd42279f2a1dcc7e1bed70",
       "style": "IPY_MODEL_3f2cc1a8dcd14b368f87c4641bf3a556",
       "value": "<table border=\"1\" class=\"dataframe table table-striped table-hover table-condensed table-responsive\">\n  <thead>\n    <tr style=\"text-align: right;\">\n      <th></th>\n      <th>33</th>\n    </tr>\n  </thead>\n  <tbody>\n    <tr>\n      <th>Institution</th>\n      <td>Ocean Observatories Initiative (OOI)</td>\n    </tr>\n    <tr>\n      <th>Dataset ID</th>\n      <td>ooi-ce06issm-rid16-03-dostad000</td>\n    </tr>\n  </tbody>\n</table>"
      }
     },
     "5d7aabee730f4d92859c4998e0288b78": {
      "model_module": "@jupyter-widgets/controls",
      "model_module_version": "1.5.0",
      "model_name": "DescriptionStyleModel",
      "state": {
       "description_width": ""
      }
     },
     "5d7d51fe5754400aae1df831831590cd": {
      "model_module": "@jupyter-widgets/base",
      "model_module_version": "1.2.0",
      "model_name": "LayoutModel",
      "state": {}
     },
     "5df4d886f50c421da1f286bceb90f809": {
      "model_module": "@jupyter-widgets/controls",
      "model_module_version": "1.5.0",
      "model_name": "HTMLModel",
      "state": {
       "layout": "IPY_MODEL_6535b04219b74cb8937b3acfb251a04e",
       "style": "IPY_MODEL_902eacf0697644a29e75c7be77fdf77e",
       "value": "<table border=\"1\" class=\"dataframe table table-striped table-hover table-condensed table-responsive\">\n  <thead>\n    <tr style=\"text-align: right;\">\n      <th></th>\n      <th>16</th>\n    </tr>\n  </thead>\n  <tbody>\n    <tr>\n      <th>Institution</th>\n      <td>Ocean Observatories Initiative (OOI)</td>\n    </tr>\n    <tr>\n      <th>Dataset ID</th>\n      <td>ooi-ce04ossm-rid27-03-ctdbpc000</td>\n    </tr>\n  </tbody>\n</table>"
      }
     },
     "5e4a9193096049a699a19b6168196947": {
      "model_module": "jupyter-leaflet",
      "model_module_version": "^0.14.0",
      "model_name": "LeafletMarkerModel",
      "state": {
       "_model_module_version": "^0.14.0",
       "_view_module_version": "^0.14.0",
       "icon": "IPY_MODEL_e58c3378f970473dbc014420602b2306",
       "location": [
        44.63577,
        -124.3035
       ],
       "options": [
        "alt",
        "draggable",
        "keyboard",
        "rise_offset",
        "rise_on_hover",
        "rotation_angle",
        "rotation_origin",
        "title",
        "z_index_offset"
       ],
       "popup": "IPY_MODEL_6e209911fa014b119aa42f813c492887"
      }
     },
     "5e4e9364767645908753169b4a7ccb65": {
      "model_module": "@jupyter-widgets/controls",
      "model_module_version": "1.5.0",
      "model_name": "HTMLModel",
      "state": {
       "layout": "IPY_MODEL_06d6f7ebf5164ccfa6d941f6cd99f80d",
       "style": "IPY_MODEL_93dcf8b8bcf941cba0968cc30405c84d",
       "value": "<table border=\"1\" class=\"dataframe table table-striped table-hover table-condensed table-responsive\">\n  <thead>\n    <tr style=\"text-align: right;\">\n      <th></th>\n      <th>72</th>\n    </tr>\n  </thead>\n  <tbody>\n    <tr>\n      <th>Institution</th>\n      <td>NOAA Center for Operational Oceanographic Products and Services (CO-OPS)</td>\n    </tr>\n    <tr>\n      <th>Dataset ID</th>\n      <td>noaa_nos_co_ops_9432780</td>\n    </tr>\n  </tbody>\n</table>"
      }
     },
     "5e904f3ea3a944a6af7c389df8503509": {
      "model_module": "@jupyter-widgets/controls",
      "model_module_version": "1.5.0",
      "model_name": "HTMLModel",
      "state": {
       "layout": "IPY_MODEL_09dc333c0f2943988d74586cfe9e05f8",
       "style": "IPY_MODEL_3629ec6848ed4199bad7ba58c943a156",
       "value": "<table border=\"1\" class=\"dataframe table table-striped table-hover table-condensed table-responsive\">\n  <thead>\n    <tr style=\"text-align: right;\">\n      <th></th>\n      <th>13</th>\n    </tr>\n  </thead>\n  <tbody>\n    <tr>\n      <th>Institution</th>\n      <td>Ocean Observatories Initiative (OOI)</td>\n    </tr>\n    <tr>\n      <th>Dataset ID</th>\n      <td>ooi-ce04osps-pc01b-4a-ctdpfa109</td>\n    </tr>\n  </tbody>\n</table>"
      }
     },
     "5eaa89780fb04865867078a70f769b7f": {
      "model_module": "jupyter-leaflet",
      "model_module_version": "^0.14.0",
      "model_name": "LeafletMarkerModel",
      "state": {
       "_model_module_version": "^0.14.0",
       "_view_module_version": "^0.14.0",
       "icon": "IPY_MODEL_dce874a742c84876bbd4e7fc1ece82ca",
       "location": [
        44.65678,
        -124.09707
       ],
       "options": [
        "alt",
        "draggable",
        "keyboard",
        "rise_offset",
        "rise_on_hover",
        "rotation_angle",
        "rotation_origin",
        "title",
        "z_index_offset"
       ],
       "popup": "IPY_MODEL_3c320d345bc34a0ea9037322dfbda3c4"
      }
     },
     "5ecdd2e48dca496c8f9d2ea85d5e728f": {
      "model_module": "@jupyter-widgets/base",
      "model_module_version": "1.2.0",
      "model_name": "LayoutModel",
      "state": {}
     },
     "5eef00876c794003bb6bc15f2d9049d6": {
      "model_module": "@jupyter-widgets/controls",
      "model_module_version": "1.5.0",
      "model_name": "HTMLModel",
      "state": {
       "layout": "IPY_MODEL_a854dc8ff0ec47298ad907caca2f24fc",
       "style": "IPY_MODEL_62a8b50e08664b4db7cd8f5756b3fc9f",
       "value": "<table border=\"1\" class=\"dataframe table table-striped table-hover table-condensed table-responsive\">\n  <thead>\n    <tr style=\"text-align: right;\">\n      <th></th>\n      <th>9</th>\n    </tr>\n  </thead>\n  <tbody>\n    <tr>\n      <th>Institution</th>\n      <td>Ocean Observatories Initiative (OOI)</td>\n    </tr>\n    <tr>\n      <th>Dataset ID</th>\n      <td>ooi-ce01issm-sbd17-06-ctdbpc000</td>\n    </tr>\n  </tbody>\n</table>"
      }
     },
     "5f417c0f97ca418088c14601d52bab7b": {
      "model_module": "jupyter-leaflet",
      "model_module_version": "^0.14.0",
      "model_name": "LeafletFullScreenControlModel",
      "state": {
       "_model_module_version": "^0.14.0",
       "_view_module_version": "^0.14.0",
       "options": [
        "position"
       ]
      }
     },
     "5f6d2e22e7fe46df8f877c2da62cc022": {
      "model_module": "jupyter-leaflet",
      "model_module_version": "^0.14.0",
      "model_name": "LeafletMarkerModel",
      "state": {
       "_model_module_version": "^0.14.0",
       "_view_module_version": "^0.14.0",
       "icon": "IPY_MODEL_88538f044a184d2eb77b7b7f75ffe36d",
       "location": [
        46.2,
        -123.941
       ],
       "options": [
        "alt",
        "draggable",
        "keyboard",
        "rise_offset",
        "rise_on_hover",
        "rotation_angle",
        "rotation_origin",
        "title",
        "z_index_offset"
       ],
       "popup": "IPY_MODEL_8c5181a4a3624d2d8bdeff953aad7152"
      }
     },
     "5f77465957a74eeba8f3163759d54948": {
      "model_module": "jupyter-leaflet",
      "model_module_version": "^0.14.0",
      "model_name": "LeafletMapStyleModel",
      "state": {
       "_model_module_version": "^0.14.0"
      }
     },
     "5fd74a467afb4f32a51535b12ef54709": {
      "model_module": "jupyter-leaflet",
      "model_module_version": "^0.14.0",
      "model_name": "LeafletMarkerModel",
      "state": {
       "_model_module_version": "^0.14.0",
       "_view_module_version": "^0.14.0",
       "icon": "IPY_MODEL_c2817155860e4b159ae14f60024aa268",
       "location": [
        47.97,
        -124.95
       ],
       "options": [
        "alt",
        "draggable",
        "keyboard",
        "rise_offset",
        "rise_on_hover",
        "rotation_angle",
        "rotation_origin",
        "title",
        "z_index_offset"
       ],
       "popup": "IPY_MODEL_a40e3243f7854aee8506adcc9847ec9a"
      }
     },
     "5fd9ac27839948d2be3398b91dded88d": {
      "model_module": "@jupyter-widgets/controls",
      "model_module_version": "1.5.0",
      "model_name": "DescriptionStyleModel",
      "state": {
       "description_width": ""
      }
     },
     "60a75a3e475e40f4acea5e02e171c5b3": {
      "model_module": "jupyter-leaflet",
      "model_module_version": "^0.14.0",
      "model_name": "LeafletMarkerModel",
      "state": {
       "_model_module_version": "^0.14.0",
       "_view_module_version": "^0.14.0",
       "icon": "IPY_MODEL_d50113891884472390fe5315ad1f7ed1",
       "location": [
        47.1345,
        -124.27087
       ],
       "options": [
        "alt",
        "draggable",
        "keyboard",
        "rise_offset",
        "rise_on_hover",
        "rotation_angle",
        "rotation_origin",
        "title",
        "z_index_offset"
       ],
       "popup": "IPY_MODEL_463d510eb102494bb0ad02697f14c414"
      }
     },
     "60ac9993a6534513a437d98fc6228616": {
      "model_module": "@jupyter-widgets/controls",
      "model_module_version": "1.5.0",
      "model_name": "HTMLModel",
      "state": {
       "layout": "IPY_MODEL_2cac26ce05e24b7097009a3573360706",
       "style": "IPY_MODEL_540ac4d2f0754c2c95cc6a8e5098a19e",
       "value": "<table border=\"1\" class=\"dataframe table table-striped table-hover table-condensed table-responsive\">\n  <thead>\n    <tr style=\"text-align: right;\">\n      <th></th>\n      <th>23</th>\n    </tr>\n  </thead>\n  <tbody>\n    <tr>\n      <th>Institution</th>\n      <td>Ocean Observatories Initiative (OOI)</td>\n    </tr>\n    <tr>\n      <th>Dataset ID</th>\n      <td>ooi-ce02shbp-lj01d-10-phsend103</td>\n    </tr>\n  </tbody>\n</table>"
      }
     },
     "60dc03b9da37487a9bd8a969acb5a66b": {
      "model_module": "@jupyter-widgets/controls",
      "model_module_version": "1.5.0",
      "model_name": "DescriptionStyleModel",
      "state": {
       "description_width": ""
      }
     },
     "60e54c9214f74333b11b93659288fb87": {
      "model_module": "@jupyter-widgets/controls",
      "model_module_version": "1.5.0",
      "model_name": "DescriptionStyleModel",
      "state": {
       "description_width": ""
      }
     },
     "60ff2a2b97ab4ed3bf6a63eb6e698ef0": {
      "model_module": "jupyter-leaflet",
      "model_module_version": "^0.14.0",
      "model_name": "LeafletAwesomeIconModel",
      "state": {
       "_model_module_version": "^0.14.0",
       "_view_module_version": "^0.14.0",
       "icon_color": "white",
       "marker_color": "orange",
       "name": "life-ring"
      }
     },
     "610f5cac7ae24e3388f756bbae5149e0": {
      "model_module": "jupyter-leaflet",
      "model_module_version": "^0.14.0",
      "model_name": "LeafletMarkerModel",
      "state": {
       "_model_module_version": "^0.14.0",
       "_view_module_version": "^0.14.0",
       "icon": "IPY_MODEL_a7453f3d3c5b428ab155ff4159e21a25",
       "location": [
        44.378,
        -124.946
       ],
       "options": [
        "alt",
        "draggable",
        "keyboard",
        "rise_offset",
        "rise_on_hover",
        "rotation_angle",
        "rotation_origin",
        "title",
        "z_index_offset"
       ],
       "popup": "IPY_MODEL_2a482a1f75ee40bfa2b05c9559550292"
      }
     },
     "61521a8c556045f0a034cc32ba6ff037": {
      "model_module": "@jupyter-widgets/controls",
      "model_module_version": "1.5.0",
      "model_name": "DescriptionStyleModel",
      "state": {
       "description_width": ""
      }
     },
     "61f73178635b4f0ba482e1a2b9c5e0a9": {
      "model_module": "@jupyter-widgets/base",
      "model_module_version": "1.2.0",
      "model_name": "LayoutModel",
      "state": {}
     },
     "61ffd26280504c789aa3afde1fa37a25": {
      "model_module": "jupyter-leaflet",
      "model_module_version": "^0.14.0",
      "model_name": "LeafletMarkerModel",
      "state": {
       "_model_module_version": "^0.14.0",
       "_view_module_version": "^0.14.0",
       "icon": "IPY_MODEL_424da176a47d4abfb95bcb78bbaecbb7",
       "location": [
        47.1345,
        -124.27087
       ],
       "options": [
        "alt",
        "draggable",
        "keyboard",
        "rise_offset",
        "rise_on_hover",
        "rotation_angle",
        "rotation_origin",
        "title",
        "z_index_offset"
       ],
       "popup": "IPY_MODEL_fcbd1219b9aa4394bfd1476be667eaf0"
      }
     },
     "62224bc423724f69884507ec3f343aa6": {
      "model_module": "@jupyter-widgets/controls",
      "model_module_version": "1.5.0",
      "model_name": "HTMLModel",
      "state": {
       "layout": "IPY_MODEL_0a638f1c4168424ca7b632807cf590bd",
       "style": "IPY_MODEL_950b01cf5ceb41bb984e1ed9a0f03829",
       "value": "<table border=\"1\" class=\"dataframe table table-striped table-hover table-condensed table-responsive\">\n  <thead>\n    <tr style=\"text-align: right;\">\n      <th></th>\n      <th>28</th>\n    </tr>\n  </thead>\n  <tbody>\n    <tr>\n      <th>Institution</th>\n      <td>Ocean Observatories Initiative (OOI)</td>\n    </tr>\n    <tr>\n      <th>Dataset ID</th>\n      <td>ooi-ce02shsm-rid26-06-phsend000</td>\n    </tr>\n  </tbody>\n</table>"
      }
     },
     "62986826ae6541c4979c08e2f07f8bdc": {
      "model_module": "jupyter-leaflet",
      "model_module_version": "^0.14.0",
      "model_name": "LeafletMarkerModel",
      "state": {
       "_model_module_version": "^0.14.0",
       "_view_module_version": "^0.14.0",
       "icon": "IPY_MODEL_18e6bad2c1094ba489ee904a42073cd8",
       "location": [
        44.37415,
        -124.95648
       ],
       "options": [
        "alt",
        "draggable",
        "keyboard",
        "rise_offset",
        "rise_on_hover",
        "rotation_angle",
        "rotation_origin",
        "title",
        "z_index_offset"
       ],
       "popup": "IPY_MODEL_3af66daec66b42dfbd5900da1f4c7c6a"
      }
     },
     "62a8b50e08664b4db7cd8f5756b3fc9f": {
      "model_module": "@jupyter-widgets/controls",
      "model_module_version": "1.5.0",
      "model_name": "DescriptionStyleModel",
      "state": {
       "description_width": ""
      }
     },
     "62d45f5e1c6d42609d500015a195014e": {
      "model_module": "jupyter-leaflet",
      "model_module_version": "^0.14.0",
      "model_name": "LeafletMarkerModel",
      "state": {
       "_model_module_version": "^0.14.0",
       "_view_module_version": "^0.14.0",
       "icon": "IPY_MODEL_2f65e794a2e54517a8f6253f60eeceac",
       "location": [
        47.1345,
        -124.27087
       ],
       "options": [
        "alt",
        "draggable",
        "keyboard",
        "rise_offset",
        "rise_on_hover",
        "rotation_angle",
        "rotation_origin",
        "title",
        "z_index_offset"
       ],
       "popup": "IPY_MODEL_06b4b599cf1a49138ed4d2de53f5d219"
      }
     },
     "6341156e16f04186bce4d4db7473b1f9": {
      "model_module": "jupyter-leaflet",
      "model_module_version": "^0.14.0",
      "model_name": "LeafletMarkerModel",
      "state": {
       "_model_module_version": "^0.14.0",
       "_view_module_version": "^0.14.0",
       "icon": "IPY_MODEL_71e83c0f8d21418683f7ebbf8915b9a2",
       "location": [
        44.63958,
        -124.303
       ],
       "options": [
        "alt",
        "draggable",
        "keyboard",
        "rise_offset",
        "rise_on_hover",
        "rotation_angle",
        "rotation_origin",
        "title",
        "z_index_offset"
       ],
       "popup": "IPY_MODEL_0995db21ad52474fbdfe36c95d3422a0"
      }
     },
     "63496470928e44a6bf1de419328bdb38": {
      "model_module": "jupyter-leaflet",
      "model_module_version": "^0.14.0",
      "model_name": "LeafletMarkerModel",
      "state": {
       "_model_module_version": "^0.14.0",
       "_view_module_version": "^0.14.0",
       "icon": "IPY_MODEL_abed7ff5d89e48eca3eb4807b66f0664",
       "location": [
        44.65678,
        -124.09707
       ],
       "options": [
        "alt",
        "draggable",
        "keyboard",
        "rise_offset",
        "rise_on_hover",
        "rotation_angle",
        "rotation_origin",
        "title",
        "z_index_offset"
       ],
       "popup": "IPY_MODEL_1c33c76f6d2e406182ff667a46822ba9"
      }
     },
     "63f367f807524636b93539f032f82afb": {
      "model_module": "@jupyter-widgets/controls",
      "model_module_version": "1.5.0",
      "model_name": "DescriptionStyleModel",
      "state": {
       "description_width": ""
      }
     },
     "641148d2b60245be92c534ca3fae54ae": {
      "model_module": "@jupyter-widgets/base",
      "model_module_version": "1.2.0",
      "model_name": "LayoutModel",
      "state": {}
     },
     "645c3d40b0d74a0a8f4d770b7827de95": {
      "model_module": "jupyter-leaflet",
      "model_module_version": "^0.14.0",
      "model_name": "LeafletAwesomeIconModel",
      "state": {
       "_model_module_version": "^0.14.0",
       "_view_module_version": "^0.14.0",
       "icon_color": "white",
       "marker_color": "orange",
       "name": "life-ring"
      }
     },
     "6467693e688b4e26ab990a159c3b9441": {
      "model_module": "@jupyter-widgets/base",
      "model_module_version": "1.2.0",
      "model_name": "LayoutModel",
      "state": {}
     },
     "64d712bf4b20474f8374d9846f924787": {
      "model_module": "@jupyter-widgets/controls",
      "model_module_version": "1.5.0",
      "model_name": "HTMLModel",
      "state": {
       "layout": "IPY_MODEL_feb1556d8b2c4d6e8fc59c77cca3937c",
       "style": "IPY_MODEL_0db595946e3c4ade909fa19ca6dbc917",
       "value": "<table border=\"1\" class=\"dataframe table table-striped table-hover table-condensed table-responsive\">\n  <thead>\n    <tr style=\"text-align: right;\">\n      <th></th>\n      <th>18</th>\n    </tr>\n  </thead>\n  <tbody>\n    <tr>\n      <th>Institution</th>\n      <td>Ocean Observatories Initiative (OOI)</td>\n    </tr>\n    <tr>\n      <th>Dataset ID</th>\n      <td>ooi-ce04ossm-rid26-07-nutnrb000</td>\n    </tr>\n  </tbody>\n</table>"
      }
     },
     "64da42e3bda549189aa7b01a22d74c47": {
      "model_module": "@jupyter-widgets/base",
      "model_module_version": "1.2.0",
      "model_name": "LayoutModel",
      "state": {}
     },
     "651d681866ae43e7995b48de8c9a760b": {
      "model_module": "jupyter-leaflet",
      "model_module_version": "^0.14.0",
      "model_name": "LeafletAwesomeIconModel",
      "state": {
       "_model_module_version": "^0.14.0",
       "_view_module_version": "^0.14.0",
       "icon_color": "white",
       "marker_color": "orange",
       "name": "life-ring"
      }
     },
     "6535b04219b74cb8937b3acfb251a04e": {
      "model_module": "@jupyter-widgets/base",
      "model_module_version": "1.2.0",
      "model_name": "LayoutModel",
      "state": {}
     },
     "65709315555244d69846c859b08dd98d": {
      "model_module": "@jupyter-widgets/controls",
      "model_module_version": "1.5.0",
      "model_name": "DescriptionStyleModel",
      "state": {
       "description_width": ""
      }
     },
     "660c2558627f45e2a76770e0a5a3ee77": {
      "model_module": "@jupyter-widgets/base",
      "model_module_version": "1.2.0",
      "model_name": "LayoutModel",
      "state": {}
     },
     "66108b623b714473986660eacc2359ea": {
      "model_module": "jupyter-leaflet",
      "model_module_version": "^0.14.0",
      "model_name": "LeafletAwesomeIconModel",
      "state": {
       "_model_module_version": "^0.14.0",
       "_view_module_version": "^0.14.0",
       "icon_color": "white",
       "marker_color": "orange",
       "name": "life-ring"
      }
     },
     "663b1f4b17834ed283357b0fb84691a8": {
      "model_module": "@jupyter-widgets/controls",
      "model_module_version": "1.5.0",
      "model_name": "HTMLModel",
      "state": {
       "layout": "IPY_MODEL_99a2e774820947e08a3c0f7d39eaaa80",
       "style": "IPY_MODEL_246a8c6a7c674ac4aa7ea3f0622e2f1e",
       "value": "<table border=\"1\" class=\"dataframe table table-striped table-hover table-condensed table-responsive\">\n  <thead>\n    <tr style=\"text-align: right;\">\n      <th></th>\n      <th>30</th>\n    </tr>\n  </thead>\n  <tbody>\n    <tr>\n      <th>Institution</th>\n      <td>Ocean Observatories Initiative (OOI)</td>\n    </tr>\n    <tr>\n      <th>Dataset ID</th>\n      <td>ooi-ce02shsm-sbd12-04-pco2aa000</td>\n    </tr>\n  </tbody>\n</table>"
      }
     },
     "6652f0377365459aab023ca57376518d": {
      "model_module": "@jupyter-widgets/controls",
      "model_module_version": "1.5.0",
      "model_name": "HTMLModel",
      "state": {
       "layout": "IPY_MODEL_f6c05e080bdd433f99b7407654abaf11",
       "style": "IPY_MODEL_1315b6979800475aaaaaffbbcbe517f7",
       "value": "<table border=\"1\" class=\"dataframe table table-striped table-hover table-condensed table-responsive\">\n  <thead>\n    <tr style=\"text-align: right;\">\n      <th></th>\n      <th>25</th>\n    </tr>\n  </thead>\n  <tbody>\n    <tr>\n      <th>Institution</th>\n      <td>Ocean Observatories Initiative (OOI)</td>\n    </tr>\n    <tr>\n      <th>Dataset ID</th>\n      <td>ooi-ce02shsm-rid27-03-ctdbpc000</td>\n    </tr>\n  </tbody>\n</table>"
      }
     },
     "66747b4a755244a4b9c079849df17678": {
      "model_module": "@jupyter-widgets/base",
      "model_module_version": "1.2.0",
      "model_name": "LayoutModel",
      "state": {}
     },
     "66f91077c4894868a01db390a6fd1f94": {
      "model_module": "@jupyter-widgets/controls",
      "model_module_version": "1.5.0",
      "model_name": "HTMLModel",
      "state": {
       "layout": "IPY_MODEL_f77204e141b54a80b8bfd5fa7bea8706",
       "style": "IPY_MODEL_ff2d135e724641f0a3f1730e5d6fa819",
       "value": "<table border=\"1\" class=\"dataframe table table-striped table-hover table-condensed table-responsive\">\n  <thead>\n    <tr style=\"text-align: right;\">\n      <th></th>\n      <th>61</th>\n    </tr>\n  </thead>\n  <tbody>\n    <tr>\n      <th>Institution</th>\n      <td>Ocean Observatories Initiative (OOI)</td>\n    </tr>\n    <tr>\n      <th>Dataset ID</th>\n      <td>ooi-rs01sbps-pc01a-4a-ctdpfa103</td>\n    </tr>\n  </tbody>\n</table>"
      }
     },
     "66fdc0d5caa040cd879b40903bba5d84": {
      "model_module": "@jupyter-widgets/controls",
      "model_module_version": "1.5.0",
      "model_name": "DescriptionStyleModel",
      "state": {
       "description_width": ""
      }
     },
     "674cb973cb0c47128a23288312c161bc": {
      "model_module": "jupyter-leaflet",
      "model_module_version": "^0.14.0",
      "model_name": "LeafletAwesomeIconModel",
      "state": {
       "_model_module_version": "^0.14.0",
       "_view_module_version": "^0.14.0",
       "icon_color": "white",
       "marker_color": "orange",
       "name": "life-ring"
      }
     },
     "67605950662847ef8147bfd0ac4e6964": {
      "model_module": "@jupyter-widgets/controls",
      "model_module_version": "1.5.0",
      "model_name": "HTMLModel",
      "state": {
       "layout": "IPY_MODEL_979cdafdeb814d21b0740c4c886d109d",
       "style": "IPY_MODEL_0bad518039fa473ab742da7d304b1f9a",
       "value": "<table border=\"1\" class=\"dataframe table table-striped table-hover table-condensed table-responsive\">\n  <thead>\n    <tr style=\"text-align: right;\">\n      <th></th>\n      <th>53</th>\n    </tr>\n  </thead>\n  <tbody>\n    <tr>\n      <th>Institution</th>\n      <td>Ocean Observatories Initiative (OOI)</td>\n    </tr>\n    <tr>\n      <th>Dataset ID</th>\n      <td>ooi-ce07shsm-rid26-07-nutnrb000</td>\n    </tr>\n  </tbody>\n</table>"
      }
     },
     "6798715d8ca1409cb06ae794c84553bc": {
      "model_module": "@jupyter-widgets/base",
      "model_module_version": "1.2.0",
      "model_name": "LayoutModel",
      "state": {}
     },
     "679e976f43d14152a245ff513ec0fd80": {
      "model_module": "jupyter-leaflet",
      "model_module_version": "^0.14.0",
      "model_name": "LeafletAwesomeIconModel",
      "state": {
       "_model_module_version": "^0.14.0",
       "_view_module_version": "^0.14.0",
       "icon_color": "white",
       "marker_color": "orange",
       "name": "life-ring"
      }
     },
     "67b30534bde143bdbeaf2a7ec715dd56": {
      "model_module": "@jupyter-widgets/base",
      "model_module_version": "1.2.0",
      "model_name": "LayoutModel",
      "state": {}
     },
     "67bcc5ae045341e1989f3e501c6ff149": {
      "model_module": "jupyter-leaflet",
      "model_module_version": "^0.14.0",
      "model_name": "LeafletFullScreenControlModel",
      "state": {
       "_model_module_version": "^0.14.0",
       "_view_module_version": "^0.14.0",
       "options": [
        "position"
       ]
      }
     },
     "67f0d41c67d44edfa717e1448de5459f": {
      "model_module": "@jupyter-widgets/controls",
      "model_module_version": "1.5.0",
      "model_name": "HTMLModel",
      "state": {
       "layout": "IPY_MODEL_b8aaca97fe0c41bd813704a34cfc3323",
       "style": "IPY_MODEL_e68bc21bcff84789950f8a67bb6ad16d",
       "value": "<table border=\"1\" class=\"dataframe table table-striped table-hover table-condensed table-responsive\">\n  <thead>\n    <tr style=\"text-align: right;\">\n      <th></th>\n      <th>55</th>\n    </tr>\n  </thead>\n  <tbody>\n    <tr>\n      <th>Institution</th>\n      <td>Ocean Observatories Initiative (OOI)</td>\n    </tr>\n    <tr>\n      <th>Dataset ID</th>\n      <td>ooi-ce07shsm-mfd37-03-ctdbpc000</td>\n    </tr>\n  </tbody>\n</table>"
      }
     },
     "67fa0be4765c4fa2b8e9eedb0134591f": {
      "model_module": "@jupyter-widgets/controls",
      "model_module_version": "1.5.0",
      "model_name": "HTMLModel",
      "state": {
       "layout": "IPY_MODEL_5129848115ca46039c84fc4d10cfd628",
       "style": "IPY_MODEL_c9a9f0d8d283452db12efb91fba239f1",
       "value": "<table border=\"1\" class=\"dataframe table table-striped table-hover table-condensed table-responsive\">\n  <thead>\n    <tr style=\"text-align: right;\">\n      <th></th>\n      <th>4</th>\n    </tr>\n  </thead>\n  <tbody>\n    <tr>\n      <th>Institution</th>\n      <td>Ocean Observatories Initiative (OOI)</td>\n    </tr>\n    <tr>\n      <th>Dataset ID</th>\n      <td>ooi-ce01issm-rid16-06-phsend000</td>\n    </tr>\n  </tbody>\n</table>"
      }
     },
     "69294dbdf8cd41be80cb3c5bac6aec25": {
      "model_module": "@jupyter-widgets/base",
      "model_module_version": "1.2.0",
      "model_name": "LayoutModel",
      "state": {}
     },
     "6a863680a6ce4d98bb4e1d15de08db28": {
      "model_module": "@jupyter-widgets/base",
      "model_module_version": "1.2.0",
      "model_name": "LayoutModel",
      "state": {}
     },
     "6bc7df848c83453fa33a4c161958352d": {
      "model_module": "@jupyter-widgets/controls",
      "model_module_version": "1.5.0",
      "model_name": "DescriptionStyleModel",
      "state": {
       "description_width": ""
      }
     },
     "6c2bd09b4de4488f9f555fecd4cf86c7": {
      "model_module": "@jupyter-widgets/controls",
      "model_module_version": "1.5.0",
      "model_name": "DescriptionStyleModel",
      "state": {
       "description_width": ""
      }
     },
     "6d14fd9402c34e4f912a31485f49e00a": {
      "model_module": "jupyter-leaflet",
      "model_module_version": "^0.14.0",
      "model_name": "LeafletAwesomeIconModel",
      "state": {
       "_model_module_version": "^0.14.0",
       "_view_module_version": "^0.14.0",
       "icon_color": "white",
       "marker_color": "orange",
       "name": "life-ring"
      }
     },
     "6d67fc39ef574f78a1480be3d6ae7c78": {
      "model_module": "jupyter-leaflet",
      "model_module_version": "^0.14.0",
      "model_name": "LeafletAwesomeIconModel",
      "state": {
       "_model_module_version": "^0.14.0",
       "_view_module_version": "^0.14.0",
       "icon_color": "white",
       "marker_color": "orange",
       "name": "life-ring"
      }
     },
     "6d82ff5862be4a18b1e813a42f780bf4": {
      "model_module": "jupyter-leaflet",
      "model_module_version": "^0.14.0",
      "model_name": "LeafletAwesomeIconModel",
      "state": {
       "_model_module_version": "^0.14.0",
       "_view_module_version": "^0.14.0",
       "icon_color": "white",
       "marker_color": "orange",
       "name": "life-ring"
      }
     },
     "6db0258223a04abd940cc64a05c97a57": {
      "model_module": "jupyter-leaflet",
      "model_module_version": "^0.14.0",
      "model_name": "LeafletTileLayerModel",
      "state": {
       "_model_module_version": "^0.14.0",
       "_view_module_version": "^0.14.0",
       "base": true,
       "max_native_zoom": 18,
       "max_zoom": 19,
       "min_native_zoom": 0,
       "min_zoom": 1,
       "options": [
        "attribution",
        "detect_retina",
        "max_native_zoom",
        "max_zoom",
        "min_native_zoom",
        "min_zoom",
        "no_wrap",
        "tile_size",
        "tms"
       ]
      }
     },
     "6e017b364ed94c928126790d145b4b9e": {
      "model_module": "@jupyter-widgets/base",
      "model_module_version": "1.2.0",
      "model_name": "LayoutModel",
      "state": {}
     },
     "6e09ed089c1b466983edadca106211d3": {
      "model_module": "jupyter-leaflet",
      "model_module_version": "^0.14.0",
      "model_name": "LeafletMarkerModel",
      "state": {
       "_model_module_version": "^0.14.0",
       "_view_module_version": "^0.14.0",
       "icon": "IPY_MODEL_679e976f43d14152a245ff513ec0fd80",
       "location": [
        44.51524,
        -125.38981
       ],
       "options": [
        "alt",
        "draggable",
        "keyboard",
        "rise_offset",
        "rise_on_hover",
        "rotation_angle",
        "rotation_origin",
        "title",
        "z_index_offset"
       ],
       "popup": "IPY_MODEL_5bb360cded3941399474036ff0e3e90a"
      }
     },
     "6e209911fa014b119aa42f813c492887": {
      "model_module": "@jupyter-widgets/controls",
      "model_module_version": "1.5.0",
      "model_name": "HTMLModel",
      "state": {
       "layout": "IPY_MODEL_00a0bacce06547b082fa7299cd0f8221",
       "style": "IPY_MODEL_bee1f71c9e714842bc4ff2939ee37819",
       "value": "<table border=\"1\" class=\"dataframe table table-striped table-hover table-condensed table-responsive\">\n  <thead>\n    <tr style=\"text-align: right;\">\n      <th></th>\n      <th>28</th>\n    </tr>\n  </thead>\n  <tbody>\n    <tr>\n      <th>Institution</th>\n      <td>Ocean Observatories Initiative (OOI)</td>\n    </tr>\n    <tr>\n      <th>Dataset ID</th>\n      <td>ooi-ce02shsm-rid26-06-phsend000</td>\n    </tr>\n  </tbody>\n</table>"
      }
     },
     "6f10fa38b5d44e59872b49e8c86275f3": {
      "model_module": "@jupyter-widgets/base",
      "model_module_version": "1.2.0",
      "model_name": "LayoutModel",
      "state": {}
     },
     "7031e08a68534b97a8fb7860c2a5ee45": {
      "model_module": "jupyter-leaflet",
      "model_module_version": "^0.14.0",
      "model_name": "LeafletMarkerModel",
      "state": {
       "_model_module_version": "^0.14.0",
       "_view_module_version": "^0.14.0",
       "icon": "IPY_MODEL_b76d312610bb4aef8871fbabf3592aec",
       "location": [
        47.9739990234375,
        -124.955001831055
       ],
       "options": [
        "alt",
        "draggable",
        "keyboard",
        "rise_offset",
        "rise_on_hover",
        "rotation_angle",
        "rotation_origin",
        "title",
        "z_index_offset"
       ],
       "popup": "IPY_MODEL_ef7ab8d946a84c2aa6c2dd823cb4e7f7"
      }
     },
     "70950566fd174fb1897a4708b356bca5": {
      "model_module": "@jupyter-widgets/base",
      "model_module_version": "1.2.0",
      "model_name": "LayoutModel",
      "state": {}
     },
     "70d1ee14d87045659af1b3122c09dd33": {
      "model_module": "jupyter-leaflet",
      "model_module_version": "^0.14.0",
      "model_name": "LeafletAwesomeIconModel",
      "state": {
       "_model_module_version": "^0.14.0",
       "_view_module_version": "^0.14.0",
       "icon_color": "white",
       "name": "life-ring"
      }
     },
     "70e42c89e70e4406bb6430ff6e89cfba": {
      "model_module": "jupyter-leaflet",
      "model_module_version": "^0.14.0",
      "model_name": "LeafletAwesomeIconModel",
      "state": {
       "_model_module_version": "^0.14.0",
       "_view_module_version": "^0.14.0",
       "icon_color": "white",
       "marker_color": "orange",
       "name": "life-ring"
      }
     },
     "71393efcf7a84c18b0be815cd19eb3a5": {
      "model_module": "jupyter-leaflet",
      "model_module_version": "^0.14.0",
      "model_name": "LeafletMarkerModel",
      "state": {
       "_model_module_version": "^0.14.0",
       "_view_module_version": "^0.14.0",
       "icon": "IPY_MODEL_6d82ff5862be4a18b1e813a42f780bf4",
       "location": [
        47.1345,
        -124.27087
       ],
       "options": [
        "alt",
        "draggable",
        "keyboard",
        "rise_offset",
        "rise_on_hover",
        "rotation_angle",
        "rotation_origin",
        "title",
        "z_index_offset"
       ],
       "popup": "IPY_MODEL_93bcb5ae90894b8a9825a3c1382ee319"
      }
     },
     "716d537a61a84ae08d9d21af46e0dcd2": {
      "model_module": "jupyter-leaflet",
      "model_module_version": "^0.14.0",
      "model_name": "LeafletMarkerModel",
      "state": {
       "_model_module_version": "^0.14.0",
       "_view_module_version": "^0.14.0",
       "icon": "IPY_MODEL_f19fdf630ddf45deb783d9ff107c6a5c",
       "location": [
        44.65678,
        -124.09707
       ],
       "options": [
        "alt",
        "draggable",
        "keyboard",
        "rise_offset",
        "rise_on_hover",
        "rotation_angle",
        "rotation_origin",
        "title",
        "z_index_offset"
       ],
       "popup": "IPY_MODEL_98b68eea50114bdc9581fe5f971240f8"
      }
     },
     "7189d8fc11024f26bb6a9151e235d317": {
      "model_module": "jupyter-leaflet",
      "model_module_version": "^0.14.0",
      "model_name": "LeafletMarkerModel",
      "state": {
       "_model_module_version": "^0.14.0",
       "_view_module_version": "^0.14.0",
       "icon": "IPY_MODEL_6d67fc39ef574f78a1480be3d6ae7c78",
       "location": [
        44.63577,
        -124.3035
       ],
       "options": [
        "alt",
        "draggable",
        "keyboard",
        "rise_offset",
        "rise_on_hover",
        "rotation_angle",
        "rotation_origin",
        "title",
        "z_index_offset"
       ],
       "popup": "IPY_MODEL_2b08856fcbde45649d2063d2808089e1"
      }
     },
     "71bbeb87d8a64b47903168ef6121474b": {
      "model_module": "@jupyter-widgets/controls",
      "model_module_version": "1.5.0",
      "model_name": "DescriptionStyleModel",
      "state": {
       "description_width": ""
      }
     },
     "71d0878c367542aebbcb9ead76cd2976": {
      "model_module": "@jupyter-widgets/base",
      "model_module_version": "1.2.0",
      "model_name": "LayoutModel",
      "state": {}
     },
     "71e83c0f8d21418683f7ebbf8915b9a2": {
      "model_module": "jupyter-leaflet",
      "model_module_version": "^0.14.0",
      "model_name": "LeafletAwesomeIconModel",
      "state": {
       "_model_module_version": "^0.14.0",
       "_view_module_version": "^0.14.0",
       "icon_color": "white",
       "marker_color": "orange",
       "name": "life-ring"
      }
     },
     "71fcb309a2334e27b11fc557253eb486": {
      "model_module": "@jupyter-widgets/controls",
      "model_module_version": "1.5.0",
      "model_name": "DescriptionStyleModel",
      "state": {
       "description_width": ""
      }
     },
     "7223332681f745d18709dbcdde6f6d41": {
      "model_module": "@jupyter-widgets/base",
      "model_module_version": "1.2.0",
      "model_name": "LayoutModel",
      "state": {}
     },
     "725033bac50d4f1ba0dbfb784b042974": {
      "model_module": "@jupyter-widgets/controls",
      "model_module_version": "1.5.0",
      "model_name": "HTMLModel",
      "state": {
       "layout": "IPY_MODEL_77f10ecc95c047c7be979bc7cd5fa7bd",
       "style": "IPY_MODEL_c46bc3cc4e3b4d6f8821ba41b8cd6b19",
       "value": "<table border=\"1\" class=\"dataframe table table-striped table-hover table-condensed table-responsive\">\n  <thead>\n    <tr style=\"text-align: right;\">\n      <th></th>\n      <th>35</th>\n    </tr>\n  </thead>\n  <tbody>\n    <tr>\n      <th>Institution</th>\n      <td>Ocean Observatories Initiative (OOI)</td>\n    </tr>\n    <tr>\n      <th>Dataset ID</th>\n      <td>ooi-ce06issm-rid16-06-phsend000</td>\n    </tr>\n  </tbody>\n</table>"
      }
     },
     "738c0a646dda4b48b7345777dfb8a601": {
      "model_module": "@jupyter-widgets/controls",
      "model_module_version": "1.5.0",
      "model_name": "DescriptionStyleModel",
      "state": {
       "description_width": ""
      }
     },
     "73a859167b92493995dab8bdb0e37b2c": {
      "model_module": "jupyter-leaflet",
      "model_module_version": "^0.14.0",
      "model_name": "LeafletAwesomeIconModel",
      "state": {
       "_model_module_version": "^0.14.0",
       "_view_module_version": "^0.14.0",
       "icon_color": "white",
       "marker_color": "orange",
       "name": "life-ring"
      }
     },
     "73c85be61ee34a2aaae3b546dc743673": {
      "model_module": "jupyter-leaflet",
      "model_module_version": "^0.14.0",
      "model_name": "LeafletAwesomeIconModel",
      "state": {
       "_model_module_version": "^0.14.0",
       "_view_module_version": "^0.14.0",
       "icon_color": "white",
       "name": "life-ring"
      }
     },
     "74b096c74bb04e4da7ce31c5014f7aeb": {
      "model_module": "jupyter-leaflet",
      "model_module_version": "^0.14.0",
      "model_name": "LeafletAwesomeIconModel",
      "state": {
       "_model_module_version": "^0.14.0",
       "_view_module_version": "^0.14.0",
       "icon_color": "white",
       "marker_color": "orange",
       "name": "life-ring"
      }
     },
     "74dea4953409403dbfad91f4764070a7": {
      "model_module": "@jupyter-widgets/controls",
      "model_module_version": "1.5.0",
      "model_name": "HTMLModel",
      "state": {
       "layout": "IPY_MODEL_cbefa7f6fdd141c9879e53902a0d00fe",
       "style": "IPY_MODEL_6bc7df848c83453fa33a4c161958352d",
       "value": "<table border=\"1\" class=\"dataframe table table-striped table-hover table-condensed table-responsive\">\n  <thead>\n    <tr style=\"text-align: right;\">\n      <th></th>\n      <th>65</th>\n    </tr>\n  </thead>\n  <tbody>\n    <tr>\n      <th>Institution</th>\n      <td>Observing System Monitoring Center (OSMC)</td>\n    </tr>\n    <tr>\n      <th>Dataset ID</th>\n      <td>osmc_46098</td>\n    </tr>\n  </tbody>\n</table>"
      }
     },
     "74e40a553e09452e932031a71968c56f": {
      "model_module": "jupyter-leaflet",
      "model_module_version": "^0.14.0",
      "model_name": "LeafletMarkerModel",
      "state": {
       "_model_module_version": "^0.14.0",
       "_view_module_version": "^0.14.0",
       "icon": "IPY_MODEL_56b77906caf34e9d92a28a1062aa8888",
       "location": [
        46.98648,
        -124.56923
       ],
       "options": [
        "alt",
        "draggable",
        "keyboard",
        "rise_offset",
        "rise_on_hover",
        "rotation_angle",
        "rotation_origin",
        "title",
        "z_index_offset"
       ],
       "popup": "IPY_MODEL_32515d2cc89e41c6b4ef865096e6541a"
      }
     },
     "751a09ccd6cd4108ad6661c68f34175e": {
      "model_module": "jupyter-leaflet",
      "model_module_version": "^0.14.0",
      "model_name": "LeafletAwesomeIconModel",
      "state": {
       "_model_module_version": "^0.14.0",
       "_view_module_version": "^0.14.0",
       "icon_color": "white",
       "marker_color": "orange",
       "name": "life-ring"
      }
     },
     "76045c41001e43f8b18b4cab857cf0bd": {
      "model_module": "jupyter-leaflet",
      "model_module_version": "^0.14.0",
      "model_name": "LeafletMarkerModel",
      "state": {
       "_model_module_version": "^0.14.0",
       "_view_module_version": "^0.14.0",
       "icon": "IPY_MODEL_651d681866ae43e7995b48de8c9a760b",
       "location": [
        44.3695,
        -124.95369
       ],
       "options": [
        "alt",
        "draggable",
        "keyboard",
        "rise_offset",
        "rise_on_hover",
        "rotation_angle",
        "rotation_origin",
        "title",
        "z_index_offset"
       ],
       "popup": "IPY_MODEL_2336cf2854c145df9c6c02e2aee4ae68"
      }
     },
     "7689028f4ad844c48a676f8c347803d6": {
      "model_module": "@jupyter-widgets/controls",
      "model_module_version": "1.5.0",
      "model_name": "HTMLModel",
      "state": {
       "layout": "IPY_MODEL_da5c7bd873de4fd9a13208048e5cf20c",
       "style": "IPY_MODEL_d4e3a576fe3b43ebbedab278b2e9d6a9",
       "value": "<table border=\"1\" class=\"dataframe table table-striped table-hover table-condensed table-responsive\">\n  <thead>\n    <tr style=\"text-align: right;\">\n      <th></th>\n      <th>75</th>\n    </tr>\n  </thead>\n  <tbody>\n    <tr>\n      <th>Institution</th>\n      <td>NOAA Pacific Marine Environmental Lab (PMEL)</td>\n    </tr>\n    <tr>\n      <th>Dataset ID</th>\n      <td>gov_ornl_cdiac_lapush_125w_48n</td>\n    </tr>\n  </tbody>\n</table>"
      }
     },
     "76a1b273a899404e807d006d25009508": {
      "model_module": "jupyter-leaflet",
      "model_module_version": "^0.14.0",
      "model_name": "LeafletMarkerModel",
      "state": {
       "_model_module_version": "^0.14.0",
       "_view_module_version": "^0.14.0",
       "icon": "IPY_MODEL_e6eb66eba7474b40b6888d71fde871e8",
       "location": [
        46.98648,
        -124.56923
       ],
       "options": [
        "alt",
        "draggable",
        "keyboard",
        "rise_offset",
        "rise_on_hover",
        "rotation_angle",
        "rotation_origin",
        "title",
        "z_index_offset"
       ],
       "popup": "IPY_MODEL_df72b93cdbdd4b3a97ed77444991a083"
      }
     },
     "76b50e1b0b8641eabb17478307be5d79": {
      "model_module": "@jupyter-widgets/base",
      "model_module_version": "1.2.0",
      "model_name": "LayoutModel",
      "state": {}
     },
     "76cb07da6b6947a58aeaf5a6cbceb332": {
      "model_module": "@jupyter-widgets/controls",
      "model_module_version": "1.5.0",
      "model_name": "HTMLModel",
      "state": {
       "layout": "IPY_MODEL_e8dcce4d5362461c9b68d8305b274207",
       "style": "IPY_MODEL_ddcfbb756dff46b9bcfdc1e44f55b2ab",
       "value": "<table border=\"1\" class=\"dataframe table table-striped table-hover table-condensed table-responsive\">\n  <thead>\n    <tr style=\"text-align: right;\">\n      <th></th>\n      <th>77</th>\n    </tr>\n  </thead>\n  <tbody>\n    <tr>\n      <th>Institution</th>\n      <td>Northwest Association of Networked Ocean Observing Systems (NANOOS)</td>\n    </tr>\n    <tr>\n      <th>Dataset ID</th>\n      <td>nanoos_psi_nahcotta</td>\n    </tr>\n  </tbody>\n</table>"
      }
     },
     "7768ce666e3c4d79b66c93e47beb6f09": {
      "model_module": "@jupyter-widgets/base",
      "model_module_version": "1.2.0",
      "model_name": "LayoutModel",
      "state": {}
     },
     "77f10ecc95c047c7be979bc7cd5fa7bd": {
      "model_module": "@jupyter-widgets/base",
      "model_module_version": "1.2.0",
      "model_name": "LayoutModel",
      "state": {}
     },
     "780df40d629d49b2816fa494648ae23a": {
      "model_module": "jupyter-leaflet",
      "model_module_version": "^0.14.0",
      "model_name": "LeafletMarkerModel",
      "state": {
       "_model_module_version": "^0.14.0",
       "_view_module_version": "^0.14.0",
       "icon": "IPY_MODEL_310c7e4fc6fb48828a68c12705e96a07",
       "location": [
        47.9739990234375,
        -124.955001831055
       ],
       "options": [
        "alt",
        "draggable",
        "keyboard",
        "rise_offset",
        "rise_on_hover",
        "rotation_angle",
        "rotation_origin",
        "title",
        "z_index_offset"
       ],
       "popup": "IPY_MODEL_a276bd348e0940fa8db692557590fe4e"
      }
     },
     "789e3fe69a3c45f7bd0dfab6cda20df9": {
      "model_module": "@jupyter-widgets/controls",
      "model_module_version": "1.5.0",
      "model_name": "HTMLModel",
      "state": {
       "layout": "IPY_MODEL_f0560707c3be4b6ea92cb127fbc6068f",
       "style": "IPY_MODEL_738c0a646dda4b48b7345777dfb8a601",
       "value": "<table border=\"1\" class=\"dataframe table table-striped table-hover table-condensed table-responsive\">\n  <thead>\n    <tr style=\"text-align: right;\">\n      <th></th>\n      <th>58</th>\n    </tr>\n  </thead>\n  <tbody>\n    <tr>\n      <th>Institution</th>\n      <td>Ocean Observatories Initiative (OOI)</td>\n    </tr>\n    <tr>\n      <th>Dataset ID</th>\n      <td>ooi-ce07shsm-sbd11-06-metbka000</td>\n    </tr>\n  </tbody>\n</table>"
      }
     },
     "78ad84aa22424f6cb932a22b495de03b": {
      "model_module": "jupyter-leaflet",
      "model_module_version": "^0.14.0",
      "model_name": "LeafletAwesomeIconModel",
      "state": {
       "_model_module_version": "^0.14.0",
       "_view_module_version": "^0.14.0",
       "icon_color": "white",
       "marker_color": "orange",
       "name": "life-ring"
      }
     },
     "78d95510305140bca5d5a1b0847a1e48": {
      "model_module": "@jupyter-widgets/base",
      "model_module_version": "1.2.0",
      "model_name": "LayoutModel",
      "state": {}
     },
     "78e4bcd662fc43789d6477c0395022ca": {
      "model_module": "@jupyter-widgets/controls",
      "model_module_version": "1.5.0",
      "model_name": "HTMLModel",
      "state": {
       "layout": "IPY_MODEL_f72c8cc40b7e466c83d27820936841e5",
       "style": "IPY_MODEL_839b55975afb4778a1eaae55bbd75008",
       "value": "<table border=\"1\" class=\"dataframe table table-striped table-hover table-condensed table-responsive\">\n  <thead>\n    <tr style=\"text-align: right;\">\n      <th></th>\n      <th>15</th>\n    </tr>\n  </thead>\n  <tbody>\n    <tr>\n      <th>Institution</th>\n      <td>Ocean Observatories Initiative (OOI)</td>\n    </tr>\n    <tr>\n      <th>Dataset ID</th>\n      <td>ooi-ce04ossm-rid27-02-flortd000</td>\n    </tr>\n  </tbody>\n</table>"
      }
     },
     "78ed3e394fe847c8854d5f6664573b5d": {
      "model_module": "jupyter-leaflet",
      "model_module_version": "^0.14.0",
      "model_name": "LeafletMarkerModel",
      "state": {
       "_model_module_version": "^0.14.0",
       "_view_module_version": "^0.14.0",
       "icon": "IPY_MODEL_c3f7aa96f67e4e19b369b6db4ceed932",
       "location": [
        44.52897,
        -125.38966
       ],
       "options": [
        "alt",
        "draggable",
        "keyboard",
        "rise_offset",
        "rise_on_hover",
        "rotation_angle",
        "rotation_origin",
        "title",
        "z_index_offset"
       ],
       "popup": "IPY_MODEL_c49a3d426d0046f9beceff1fed73c635"
      }
     },
     "791a7f2c676047f1840baf8730485edb": {
      "model_module": "jupyter-leaflet",
      "model_module_version": "^0.14.0",
      "model_name": "LeafletMarkerModel",
      "state": {
       "_model_module_version": "^0.14.0",
       "_view_module_version": "^0.14.0",
       "icon": "IPY_MODEL_0e9a66af367e453cb012f568d3e21123",
       "location": [
        46.85367,
        -124.95935
       ],
       "options": [
        "alt",
        "draggable",
        "keyboard",
        "rise_offset",
        "rise_on_hover",
        "rotation_angle",
        "rotation_origin",
        "title",
        "z_index_offset"
       ],
       "popup": "IPY_MODEL_c22a5ca50e79463682888f3a2a36da4d"
      }
     },
     "79ac80d10a9e4a94b0262cb77b088d82": {
      "model_module": "jupyter-leaflet",
      "model_module_version": "^0.14.0",
      "model_name": "LeafletAwesomeIconModel",
      "state": {
       "_model_module_version": "^0.14.0",
       "_view_module_version": "^0.14.0",
       "icon_color": "white",
       "marker_color": "orange",
       "name": "life-ring"
      }
     },
     "79db8c90898a497a96f48d13e4382152": {
      "model_module": "@jupyter-widgets/base",
      "model_module_version": "1.2.0",
      "model_name": "LayoutModel",
      "state": {}
     },
     "7a333b8004b14d89b9f14ce0752d127a": {
      "model_module": "jupyter-leaflet",
      "model_module_version": "^0.14.0",
      "model_name": "LeafletAttributionControlModel",
      "state": {
       "_model_module_version": "^0.14.0",
       "_view_module_version": "^0.14.0",
       "options": [
        "position",
        "prefix"
       ],
       "position": "bottomright",
       "prefix": "ipyleaflet"
      }
     },
     "7a36a0ca395e4264b3e7a47ecb8b8c78": {
      "model_module": "jupyter-leaflet",
      "model_module_version": "^0.14.0",
      "model_name": "LeafletAwesomeIconModel",
      "state": {
       "_model_module_version": "^0.14.0",
       "_view_module_version": "^0.14.0",
       "icon_color": "white",
       "marker_color": "orange",
       "name": "life-ring"
      }
     },
     "7b974f6ebd864847abfee4218a7128a7": {
      "model_module": "@jupyter-widgets/base",
      "model_module_version": "1.2.0",
      "model_name": "LayoutModel",
      "state": {}
     },
     "7be111d805c2475daa10c7512dd535e5": {
      "model_module": "@jupyter-widgets/controls",
      "model_module_version": "1.5.0",
      "model_name": "DescriptionStyleModel",
      "state": {
       "description_width": ""
      }
     },
     "7c3911c878fc4fbea9041fcb278fc563": {
      "model_module": "@jupyter-widgets/controls",
      "model_module_version": "1.5.0",
      "model_name": "DescriptionStyleModel",
      "state": {
       "description_width": ""
      }
     },
     "7c4051ab0af243f1ad62bd43694e8741": {
      "model_module": "jupyter-leaflet",
      "model_module_version": "^0.14.0",
      "model_name": "LeafletAwesomeIconModel",
      "state": {
       "_model_module_version": "^0.14.0",
       "_view_module_version": "^0.14.0",
       "icon_color": "white",
       "marker_color": "orange",
       "name": "life-ring"
      }
     },
     "7c962f0fc6b74df1a543a5758c85a3d7": {
      "model_module": "jupyter-leaflet",
      "model_module_version": "^0.14.0",
      "model_name": "LeafletAwesomeIconModel",
      "state": {
       "_model_module_version": "^0.14.0",
       "_view_module_version": "^0.14.0",
       "icon_color": "white",
       "name": "life-ring"
      }
     },
     "7cc451b789f943899f5c823449c4330d": {
      "model_module": "jupyter-leaflet",
      "model_module_version": "^0.14.0",
      "model_name": "LeafletMapModel",
      "state": {
       "_model_module_version": "^0.14.0",
       "_view_module_version": "^0.14.0",
       "bottom": 6061,
       "center": [
        45.5,
        -125.375
       ],
       "controls": [
        "IPY_MODEL_02c1935716794e939f6face561d73209",
        "IPY_MODEL_bd21ce721e364848a94058d3a5384bb3",
        "IPY_MODEL_67bcc5ae045341e1989f3e501c6ff149",
        "IPY_MODEL_87ce710a10b64eb6be41e13123122b0f"
       ],
       "default_style": "IPY_MODEL_80b60db65e2145aa993e371978a40122",
       "dragging_style": "IPY_MODEL_9ab6025f6b144befacf1261d1012b2aa",
       "east": -115.04882812500001,
       "fullscreen": false,
       "interpolation": "bilinear",
       "layers": [
        "IPY_MODEL_6db0258223a04abd940cc64a05c97a57",
        "IPY_MODEL_3d3dbf0031034d8db384dd69ddca9875",
        "IPY_MODEL_b244870723ee41029fcaeaead37ec0f2",
        "IPY_MODEL_06367a2e2baf4c949e442057f4660ca1",
        "IPY_MODEL_fc915bc1c11d478d89cabcb56049b4ff",
        "IPY_MODEL_f9dabeed76b54553b3c288f1a5fecec4",
        "IPY_MODEL_dd24b09fc4f14472b8c0b9258d4f0306",
        "IPY_MODEL_ae8527d9f8a84db88f9accdf76923d18",
        "IPY_MODEL_780df40d629d49b2816fa494648ae23a",
        "IPY_MODEL_d41034cf0a8644b8afbd18760ad8d659",
        "IPY_MODEL_350e6412d8f8480c8ad653b26ce88d35",
        "IPY_MODEL_80fe2357c53d427992e6711e87942cf1",
        "IPY_MODEL_d42465db9a1346d2a0761d1d9d3479a2",
        "IPY_MODEL_a0e3d2dabcbd484fae44d64dcc885b95",
        "IPY_MODEL_915df511e8a3498ba9d7b10e0978e579",
        "IPY_MODEL_cd711a8957904fa9afe267b21ea68081",
        "IPY_MODEL_1fd206a68aa74291a1fac62428fa105f",
        "IPY_MODEL_9dbaaaae305b402e9043b4abd7d1a4ef",
        "IPY_MODEL_3aa37be5d0a242198ed3a639da241b4d",
        "IPY_MODEL_ba86d20e39e1499a82c9ef02757881e4",
        "IPY_MODEL_e34c3c4b747a492187713e2df1bdd0e0",
        "IPY_MODEL_4508b01845574de3936c1525860ae35f",
        "IPY_MODEL_5eaa89780fb04865867078a70f769b7f",
        "IPY_MODEL_f77a942184c441b8ac9623e699022199",
        "IPY_MODEL_e9716236274742d484d68bfa957ac9f6",
        "IPY_MODEL_2fc9f8ce51c1453da640270a8ace111d",
        "IPY_MODEL_12caeb919f0a4db8847393ff1b3a3889",
        "IPY_MODEL_809d95734658426ba47c421a06a48a59",
        "IPY_MODEL_f943f3a8922d46aabefe0d14de872e18",
        "IPY_MODEL_8eea9f9f814643038b3814ab8671a16e",
        "IPY_MODEL_8a63541863554e72b39bfdd39252054c",
        "IPY_MODEL_23403a43cbea40b7be8500a15a94e79e",
        "IPY_MODEL_2855f169fd0b4a0990d5cccd791be575",
        "IPY_MODEL_e2bc74ab2a174de9b8c51c5b9a3acdad",
        "IPY_MODEL_34c94a48f1ae497d8861dc9bab6319fb",
        "IPY_MODEL_ee25211eb1b747279b2b95be90e8da83",
        "IPY_MODEL_f072d315ab0c4d528156d68979571f06",
        "IPY_MODEL_9c33a0feb8174388b69365e618bf77be",
        "IPY_MODEL_f21c4f8e86344a3993b8ede0abd30f0b",
        "IPY_MODEL_aa4f2e50a9f142d485d68ec9b487a0cf",
        "IPY_MODEL_e38d8a833be940558cf4cc90b0b769d2",
        "IPY_MODEL_1bd112226cf34387819ce2bffdaba2a3",
        "IPY_MODEL_7189d8fc11024f26bb6a9151e235d317",
        "IPY_MODEL_52218a83a29e4a2eb3de2b8183af629f",
        "IPY_MODEL_6341156e16f04186bce4d4db7473b1f9",
        "IPY_MODEL_4fac66f994b943d0aa18540126b7c56e",
        "IPY_MODEL_a5e84c909fa14e0fb2d9525b550c9b89",
        "IPY_MODEL_60a75a3e475e40f4acea5e02e171c5b3",
        "IPY_MODEL_f4aa1c0d2f664d79a13fb3564c3a5376",
        "IPY_MODEL_cabf06d759e24e5cba53bb6b8670d536",
        "IPY_MODEL_98ba8dd16d50429a977a4a6ed75b4be1",
        "IPY_MODEL_1c0175df5a8a416fab5844e9c3cf0822",
        "IPY_MODEL_d93ca16131cb444391317dff04f001e4",
        "IPY_MODEL_71393efcf7a84c18b0be815cd19eb3a5",
        "IPY_MODEL_24cb366c2a4f44ba866f539eded29a01",
        "IPY_MODEL_102c108691c64d14a05d2b238a621c49",
        "IPY_MODEL_d9cfc2adbcb34251a43f19415d63e2d2",
        "IPY_MODEL_0a13445913c64e3fb3dade4d1b45ec53",
        "IPY_MODEL_15826698bb9e4ab6842f6ad46b8e8669",
        "IPY_MODEL_a5d35e481fed479b9fbf3879c12d9b4d",
        "IPY_MODEL_185b0bee201c4265a08eba0cad08b42e",
        "IPY_MODEL_f369f35f7d384cfeb53def828479948e",
        "IPY_MODEL_2d908e4401594a248e5a8738e226887a",
        "IPY_MODEL_3fd6b8ed41034455a223ecfb793316aa",
        "IPY_MODEL_2f8c9ac033b04600b2ae9d782dae6a18",
        "IPY_MODEL_1a3fa0cbb79b4d4087fbdb20de5494e3",
        "IPY_MODEL_1d6091757586458395ddec09090de91f",
        "IPY_MODEL_76a1b273a899404e807d006d25009508",
        "IPY_MODEL_dd6c36cf6ea142de99f5f7da48aad95e",
        "IPY_MODEL_0ea95ad08f2b421dafc61b9db036c742",
        "IPY_MODEL_aba297a4ba8e461d8d40d3c42a5e7e20",
        "IPY_MODEL_3d1418c2eb73452ca6dba9b7588f3edd",
        "IPY_MODEL_f291fe3a5db848ddb5e5a57ee4d0ddd8",
        "IPY_MODEL_1b5f63d48e8b458d84cbd07332424e8e",
        "IPY_MODEL_6e09ed089c1b466983edadca106211d3",
        "IPY_MODEL_1253f3f785a84714894e638cd7fea7aa",
        "IPY_MODEL_78ed3e394fe847c8854d5f6664573b5d",
        "IPY_MODEL_8d79568154bb4ab38f093af1d5c849bb"
       ],
       "layout": "IPY_MODEL_ed23be8138f841acb09fe1d1e20c97a7",
       "left": 2017,
       "modisdate": "yesterday",
       "north": 48.50204750525715,
       "options": [
        "bounce_at_zoom_limits",
        "box_zoom",
        "center",
        "close_popup_on_click",
        "double_click_zoom",
        "dragging",
        "fullscreen",
        "inertia",
        "inertia_deceleration",
        "inertia_max_speed",
        "interpolation",
        "keyboard",
        "keyboard_pan_offset",
        "keyboard_zoom_offset",
        "max_zoom",
        "min_zoom",
        "scroll_wheel_zoom",
        "tap",
        "tap_tolerance",
        "touch_zoom",
        "world_copy_jump",
        "zoom",
        "zoom_animation_threshold",
        "zoom_delta",
        "zoom_snap",
        "zoom_start"
       ],
       "right": 2956,
       "south": 42.342305278572816,
       "style": "IPY_MODEL_f56a1a5cb3a441d6b58d9917df6be9e0",
       "top": 5661,
       "west": -135.68115234375003,
       "window_url": "http://127.0.0.1:8888/notebooks/2021-08-31-multiple-erddap-search.ipynb",
       "zoom": 6
      }
     },
     "7cdf85120acf4dd3a7e23e580681467a": {
      "model_module": "@jupyter-widgets/controls",
      "model_module_version": "1.5.0",
      "model_name": "HTMLModel",
      "state": {
       "layout": "IPY_MODEL_7fc10beeccef459bbc018919fdb1f25a",
       "style": "IPY_MODEL_a746e944480b4c08b3f1656ce8142375",
       "value": "<table border=\"1\" class=\"dataframe table table-striped table-hover table-condensed table-responsive\">\n  <thead>\n    <tr style=\"text-align: right;\">\n      <th></th>\n      <th>55</th>\n    </tr>\n  </thead>\n  <tbody>\n    <tr>\n      <th>Institution</th>\n      <td>Ocean Observatories Initiative (OOI)</td>\n    </tr>\n    <tr>\n      <th>Dataset ID</th>\n      <td>ooi-ce07shsm-mfd37-03-ctdbpc000</td>\n    </tr>\n  </tbody>\n</table>"
      }
     },
     "7d4580ab835c4cbdb3945e6292277793": {
      "model_module": "@jupyter-widgets/base",
      "model_module_version": "1.2.0",
      "model_name": "LayoutModel",
      "state": {}
     },
     "7dd1a7ae090d4f828282ecb16fd60985": {
      "model_module": "@jupyter-widgets/controls",
      "model_module_version": "1.5.0",
      "model_name": "DescriptionStyleModel",
      "state": {
       "description_width": ""
      }
     },
     "7de5c7d2b9aa4b4aaf4fb06f6e7646bd": {
      "model_module": "@jupyter-widgets/controls",
      "model_module_version": "1.5.0",
      "model_name": "DescriptionStyleModel",
      "state": {
       "description_width": ""
      }
     },
     "7e9b548b672d4dcf9b01a2841a0d500e": {
      "model_module": "@jupyter-widgets/controls",
      "model_module_version": "1.5.0",
      "model_name": "HTMLModel",
      "state": {
       "layout": "IPY_MODEL_c1ed8d6365184a80ba44415b1cdd9b89",
       "style": "IPY_MODEL_7dd1a7ae090d4f828282ecb16fd60985",
       "value": "<table border=\"1\" class=\"dataframe table table-striped table-hover table-condensed table-responsive\">\n  <thead>\n    <tr style=\"text-align: right;\">\n      <th></th>\n      <th>39</th>\n    </tr>\n  </thead>\n  <tbody>\n    <tr>\n      <th>Institution</th>\n      <td>Ocean Observatories Initiative (OOI)</td>\n    </tr>\n    <tr>\n      <th>Dataset ID</th>\n      <td>ooi-ce06issm-sbd17-06-flortd000</td>\n    </tr>\n  </tbody>\n</table>"
      }
     },
     "7f45618d5dc64eb59e9121fbb79e6aa8": {
      "model_module": "@jupyter-widgets/controls",
      "model_module_version": "1.5.0",
      "model_name": "DescriptionStyleModel",
      "state": {
       "description_width": ""
      }
     },
     "7f59196a7bac4b1ea91a9760eec939ac": {
      "model_module": "@jupyter-widgets/controls",
      "model_module_version": "1.5.0",
      "model_name": "DescriptionStyleModel",
      "state": {
       "description_width": ""
      }
     },
     "7f82e46191ef45aaad2f4a3cb26dfb70": {
      "model_module": "@jupyter-widgets/controls",
      "model_module_version": "1.5.0",
      "model_name": "HTMLModel",
      "state": {
       "layout": "IPY_MODEL_1457649d4e634916bc6be0e8c4253231",
       "style": "IPY_MODEL_d39b29ff0adf4773aa02dbf8735d068d",
       "value": "<table border=\"1\" class=\"dataframe table table-striped table-hover table-condensed table-responsive\">\n  <thead>\n    <tr style=\"text-align: right;\">\n      <th></th>\n      <th>50</th>\n    </tr>\n  </thead>\n  <tbody>\n    <tr>\n      <th>Institution</th>\n      <td>Ocean Observatories Initiative (OOI)</td>\n    </tr>\n    <tr>\n      <th>Dataset ID</th>\n      <td>ooi-ce07shsm-rid27-02-flortd000</td>\n    </tr>\n  </tbody>\n</table>"
      }
     },
     "7fc10beeccef459bbc018919fdb1f25a": {
      "model_module": "@jupyter-widgets/base",
      "model_module_version": "1.2.0",
      "model_name": "LayoutModel",
      "state": {}
     },
     "801d3add2f544f148f84c6ce036f6470": {
      "model_module": "jupyter-leaflet",
      "model_module_version": "^0.14.0",
      "model_name": "LeafletAwesomeIconModel",
      "state": {
       "_model_module_version": "^0.14.0",
       "_view_module_version": "^0.14.0",
       "icon_color": "white",
       "marker_color": "orange",
       "name": "life-ring"
      }
     },
     "80459d08898a4d01baa6014d364f7810": {
      "model_module": "@jupyter-widgets/controls",
      "model_module_version": "1.5.0",
      "model_name": "DescriptionStyleModel",
      "state": {
       "description_width": ""
      }
     },
     "808ee94f407a47d392fdfae8dfdea1ec": {
      "model_module": "@jupyter-widgets/controls",
      "model_module_version": "1.5.0",
      "model_name": "HTMLModel",
      "state": {
       "layout": "IPY_MODEL_e8349f8adc7548e2adf951f3aceeba8d",
       "style": "IPY_MODEL_5445f490165d438bb3fc93e3b6ccc08d",
       "value": "<table border=\"1\" class=\"dataframe table table-striped table-hover table-condensed table-responsive\">\n  <thead>\n    <tr style=\"text-align: right;\">\n      <th></th>\n      <th>46</th>\n    </tr>\n  </thead>\n  <tbody>\n    <tr>\n      <th>Institution</th>\n      <td>Ocean Observatories Initiative (OOI)</td>\n    </tr>\n    <tr>\n      <th>Dataset ID</th>\n      <td>ooi-ce09ossm-mfd37-03-ctdbpe000</td>\n    </tr>\n  </tbody>\n</table>"
      }
     },
     "809d95734658426ba47c421a06a48a59": {
      "model_module": "jupyter-leaflet",
      "model_module_version": "^0.14.0",
      "model_name": "LeafletMarkerModel",
      "state": {
       "_model_module_version": "^0.14.0",
       "_view_module_version": "^0.14.0",
       "icon": "IPY_MODEL_c609ebe4b19041deb8ec0b11a00af6af",
       "location": [
        44.3695,
        -124.95369
       ],
       "options": [
        "alt",
        "draggable",
        "keyboard",
        "rise_offset",
        "rise_on_hover",
        "rotation_angle",
        "rotation_origin",
        "title",
        "z_index_offset"
       ],
       "popup": "IPY_MODEL_d98dd62bf5514ab1990596527a0fd553"
      }
     },
     "80b60db65e2145aa993e371978a40122": {
      "model_module": "jupyter-leaflet",
      "model_module_version": "^0.14.0",
      "model_name": "LeafletMapStyleModel",
      "state": {
       "_model_module_version": "^0.14.0"
      }
     },
     "80f47157902847ca8b6a0b048c84805b": {
      "model_module": "jupyter-leaflet",
      "model_module_version": "^0.14.0",
      "model_name": "LeafletLegendControlModel",
      "state": {
       "_model_module_version": "^0.14.0",
       "_view_module_version": "^0.14.0",
       "legend": {
        "IOOS": "blue",
        "OOI": "orange"
       },
       "options": [
        "position"
       ],
       "title": "Dataset locations"
      }
     },
     "80fe2357c53d427992e6711e87942cf1": {
      "model_module": "jupyter-leaflet",
      "model_module_version": "^0.14.0",
      "model_name": "LeafletMarkerModel",
      "state": {
       "_model_module_version": "^0.14.0",
       "_view_module_version": "^0.14.0",
       "icon": "IPY_MODEL_42c171052dba47379cfb83a256c45ae9",
       "location": [
        43.3,
        -124.5
       ],
       "options": [
        "alt",
        "draggable",
        "keyboard",
        "rise_offset",
        "rise_on_hover",
        "rotation_angle",
        "rotation_origin",
        "title",
        "z_index_offset"
       ],
       "popup": "IPY_MODEL_5a48434223c4489cb1bf766b36167b94"
      }
     },
     "829d6e58f34b4df99ff9f09b2396f2a4": {
      "model_module": "@jupyter-widgets/controls",
      "model_module_version": "1.5.0",
      "model_name": "DescriptionStyleModel",
      "state": {
       "description_width": ""
      }
     },
     "8343f2ac058c41d2978cd1f808089b3f": {
      "model_module": "@jupyter-widgets/base",
      "model_module_version": "1.2.0",
      "model_name": "LayoutModel",
      "state": {}
     },
     "8369f4231ee24196aef237377b4743cd": {
      "model_module": "@jupyter-widgets/controls",
      "model_module_version": "1.5.0",
      "model_name": "DescriptionStyleModel",
      "state": {
       "description_width": ""
      }
     },
     "839b55975afb4778a1eaae55bbd75008": {
      "model_module": "@jupyter-widgets/controls",
      "model_module_version": "1.5.0",
      "model_name": "DescriptionStyleModel",
      "state": {
       "description_width": ""
      }
     },
     "83f30f62bb5b4b7985ffd25582b27188": {
      "model_module": "@jupyter-widgets/controls",
      "model_module_version": "1.5.0",
      "model_name": "DescriptionStyleModel",
      "state": {
       "description_width": ""
      }
     },
     "84cee63031454c0f920fae09b259fe18": {
      "model_module": "jupyter-leaflet",
      "model_module_version": "^0.14.0",
      "model_name": "LeafletAwesomeIconModel",
      "state": {
       "_model_module_version": "^0.14.0",
       "_view_module_version": "^0.14.0",
       "icon_color": "white",
       "marker_color": "orange",
       "name": "life-ring"
      }
     },
     "85771390d1a6457a9fec8adc224052ca": {
      "model_module": "jupyter-leaflet",
      "model_module_version": "^0.14.0",
      "model_name": "LeafletAwesomeIconModel",
      "state": {
       "_model_module_version": "^0.14.0",
       "_view_module_version": "^0.14.0",
       "icon_color": "white",
       "marker_color": "orange",
       "name": "life-ring"
      }
     },
     "86046bc8b63e4454b75549b2059c1989": {
      "model_module": "@jupyter-widgets/base",
      "model_module_version": "1.2.0",
      "model_name": "LayoutModel",
      "state": {}
     },
     "863d886cb7684dff8c7fb485b6cf99e2": {
      "model_module": "@jupyter-widgets/controls",
      "model_module_version": "1.5.0",
      "model_name": "HTMLModel",
      "state": {
       "layout": "IPY_MODEL_ec4860e4847c41fea4b9acde6b481c8a",
       "style": "IPY_MODEL_47432a07087b4472be403f2abee73744",
       "value": "<table border=\"1\" class=\"dataframe table table-striped table-hover table-condensed table-responsive\">\n  <thead>\n    <tr style=\"text-align: right;\">\n      <th></th>\n      <th>29</th>\n    </tr>\n  </thead>\n  <tbody>\n    <tr>\n      <th>Institution</th>\n      <td>Ocean Observatories Initiative (OOI)</td>\n    </tr>\n    <tr>\n      <th>Dataset ID</th>\n      <td>ooi-ce02shsm-sbd11-06-metbka000</td>\n    </tr>\n  </tbody>\n</table>"
      }
     },
     "86ac57ca7b3d48e89e5f4fea66ad42e8": {
      "model_module": "jupyter-leaflet",
      "model_module_version": "^0.14.0",
      "model_name": "LeafletAwesomeIconModel",
      "state": {
       "_model_module_version": "^0.14.0",
       "_view_module_version": "^0.14.0",
       "icon_color": "white",
       "name": "life-ring"
      }
     },
     "86b37c70d7504eb18486deec86b24728": {
      "model_module": "@jupyter-widgets/controls",
      "model_module_version": "1.5.0",
      "model_name": "DescriptionStyleModel",
      "state": {
       "description_width": ""
      }
     },
     "8720a78c188b4828a689dd952d96656a": {
      "model_module": "@jupyter-widgets/base",
      "model_module_version": "1.2.0",
      "model_name": "LayoutModel",
      "state": {}
     },
     "87544b25b1bc448ab88a35d471461ff2": {
      "model_module": "jupyter-leaflet",
      "model_module_version": "^0.14.0",
      "model_name": "LeafletAwesomeIconModel",
      "state": {
       "_model_module_version": "^0.14.0",
       "_view_module_version": "^0.14.0",
       "icon_color": "white",
       "marker_color": "orange",
       "name": "life-ring"
      }
     },
     "87c33d4063634d1b9ca6e90835b7413a": {
      "model_module": "jupyter-leaflet",
      "model_module_version": "^0.14.0",
      "model_name": "LeafletAwesomeIconModel",
      "state": {
       "_model_module_version": "^0.14.0",
       "_view_module_version": "^0.14.0",
       "icon_color": "white",
       "name": "life-ring"
      }
     },
     "87ce710a10b64eb6be41e13123122b0f": {
      "model_module": "jupyter-leaflet",
      "model_module_version": "^0.14.0",
      "model_name": "LeafletLegendControlModel",
      "state": {
       "_model_module_version": "^0.14.0",
       "_view_module_version": "^0.14.0",
       "legend": {
        "IOOS": "blue",
        "OOI": "orange"
       },
       "options": [
        "position"
       ],
       "title": "Dataset locations"
      }
     },
     "88538f044a184d2eb77b7b7f75ffe36d": {
      "model_module": "jupyter-leaflet",
      "model_module_version": "^0.14.0",
      "model_name": "LeafletAwesomeIconModel",
      "state": {
       "_model_module_version": "^0.14.0",
       "_view_module_version": "^0.14.0",
       "icon_color": "white",
       "name": "life-ring"
      }
     },
     "888a007d2984436d96374163434439c8": {
      "model_module": "@jupyter-widgets/base",
      "model_module_version": "1.2.0",
      "model_name": "LayoutModel",
      "state": {}
     },
     "88f47cd799bb4264ac3445fc6793e7d9": {
      "model_module": "jupyter-leaflet",
      "model_module_version": "^0.14.0",
      "model_name": "LeafletAwesomeIconModel",
      "state": {
       "_model_module_version": "^0.14.0",
       "_view_module_version": "^0.14.0",
       "icon_color": "white",
       "marker_color": "orange",
       "name": "life-ring"
      }
     },
     "898b9f55ad074829b3f7fee4d67da81a": {
      "model_module": "@jupyter-widgets/controls",
      "model_module_version": "1.5.0",
      "model_name": "DescriptionStyleModel",
      "state": {
       "description_width": ""
      }
     },
     "89cc5bffc3624b5f913d6d6c7a0d1ee8": {
      "model_module": "@jupyter-widgets/controls",
      "model_module_version": "1.5.0",
      "model_name": "HTMLModel",
      "state": {
       "layout": "IPY_MODEL_e638dcfba0754a1b96a7ebee7655aa2c",
       "style": "IPY_MODEL_83f30f62bb5b4b7985ffd25582b27188",
       "value": "<table border=\"1\" class=\"dataframe table table-striped table-hover table-condensed table-responsive\">\n  <thead>\n    <tr style=\"text-align: right;\">\n      <th></th>\n      <th>41</th>\n    </tr>\n  </thead>\n  <tbody>\n    <tr>\n      <th>Institution</th>\n      <td>Ocean Observatories Initiative (OOI)</td>\n    </tr>\n    <tr>\n      <th>Dataset ID</th>\n      <td>ooi-ce09ossm-rid27-02-flortd000</td>\n    </tr>\n  </tbody>\n</table>"
      }
     },
     "89f69f24f0ad4d84947cb0f1490b1ab5": {
      "model_module": "jupyter-leaflet",
      "model_module_version": "^0.14.0",
      "model_name": "LeafletAwesomeIconModel",
      "state": {
       "_model_module_version": "^0.14.0",
       "_view_module_version": "^0.14.0",
       "icon_color": "white",
       "marker_color": "orange",
       "name": "life-ring"
      }
     },
     "8a63541863554e72b39bfdd39252054c": {
      "model_module": "jupyter-leaflet",
      "model_module_version": "^0.14.0",
      "model_name": "LeafletMarkerModel",
      "state": {
       "_model_module_version": "^0.14.0",
       "_view_module_version": "^0.14.0",
       "icon": "IPY_MODEL_ddc7094b71ea42f396f462a7931339b4",
       "location": [
        44.37415,
        -124.95648
       ],
       "options": [
        "alt",
        "draggable",
        "keyboard",
        "rise_offset",
        "rise_on_hover",
        "rotation_angle",
        "rotation_origin",
        "title",
        "z_index_offset"
       ],
       "popup": "IPY_MODEL_f2ba185c87e74b8aa0c5dbb00286ca1c"
      }
     },
     "8b23a00535f4424abe3f30a4e69ebf8d": {
      "model_module": "@jupyter-widgets/base",
      "model_module_version": "1.2.0",
      "model_name": "LayoutModel",
      "state": {}
     },
     "8b38a20974e040b4bff6325ad947f78e": {
      "model_module": "jupyter-leaflet",
      "model_module_version": "^0.14.0",
      "model_name": "LeafletAwesomeIconModel",
      "state": {
       "_model_module_version": "^0.14.0",
       "_view_module_version": "^0.14.0",
       "icon_color": "white",
       "marker_color": "orange",
       "name": "life-ring"
      }
     },
     "8b7a4acc12d442eb9fc9fb20866d42aa": {
      "model_module": "@jupyter-widgets/base",
      "model_module_version": "1.2.0",
      "model_name": "LayoutModel",
      "state": {}
     },
     "8bb5a5093a8c419bbbaf2b2ab7881459": {
      "model_module": "jupyter-leaflet",
      "model_module_version": "^0.14.0",
      "model_name": "LeafletAwesomeIconModel",
      "state": {
       "_model_module_version": "^0.14.0",
       "_view_module_version": "^0.14.0",
       "icon_color": "white",
       "marker_color": "orange",
       "name": "life-ring"
      }
     },
     "8c236b0874284473b7f14ec4bec2a09b": {
      "model_module": "@jupyter-widgets/base",
      "model_module_version": "1.2.0",
      "model_name": "LayoutModel",
      "state": {}
     },
     "8c2a441c46714164b532793331644032": {
      "model_module": "@jupyter-widgets/controls",
      "model_module_version": "1.5.0",
      "model_name": "HTMLModel",
      "state": {
       "layout": "IPY_MODEL_3249185ca3b246d8abe99bf9b609783f",
       "style": "IPY_MODEL_e630170b796e437391a0fe3c826b7320",
       "value": "<table border=\"1\" class=\"dataframe table table-striped table-hover table-condensed table-responsive\">\n  <thead>\n    <tr style=\"text-align: right;\">\n      <th></th>\n      <th>73</th>\n    </tr>\n  </thead>\n  <tbody>\n    <tr>\n      <th>Institution</th>\n      <td>NOAA Pacific Marine Environmental Lab (PMEL)</td>\n    </tr>\n    <tr>\n      <th>Dataset ID</th>\n      <td>coos-bay-historic-co2</td>\n    </tr>\n  </tbody>\n</table>"
      }
     },
     "8c47882169cb433184eb6948a6139953": {
      "model_module": "@jupyter-widgets/controls",
      "model_module_version": "1.5.0",
      "model_name": "HTMLModel",
      "state": {
       "layout": "IPY_MODEL_61f73178635b4f0ba482e1a2b9c5e0a9",
       "style": "IPY_MODEL_e9c0fa7e443646ca8915c55bbe110704",
       "value": "<table border=\"1\" class=\"dataframe table table-striped table-hover table-condensed table-responsive\">\n  <thead>\n    <tr style=\"text-align: right;\">\n      <th></th>\n      <th>65</th>\n    </tr>\n  </thead>\n  <tbody>\n    <tr>\n      <th>Institution</th>\n      <td>Observing System Monitoring Center (OSMC)</td>\n    </tr>\n    <tr>\n      <th>Dataset ID</th>\n      <td>osmc_46098</td>\n    </tr>\n  </tbody>\n</table>"
      }
     },
     "8c5181a4a3624d2d8bdeff953aad7152": {
      "model_module": "@jupyter-widgets/controls",
      "model_module_version": "1.5.0",
      "model_name": "HTMLModel",
      "state": {
       "layout": "IPY_MODEL_fe5f3fbfa110468da8531ad99e194c16",
       "style": "IPY_MODEL_b80dfb7b6d3d45fdbbca1b38ec8273b7",
       "value": "<table border=\"1\" class=\"dataframe table table-striped table-hover table-condensed table-responsive\">\n  <thead>\n    <tr style=\"text-align: right;\">\n      <th></th>\n      <th>79</th>\n    </tr>\n  </thead>\n  <tbody>\n    <tr>\n      <th>Institution</th>\n      <td>Center for Coastal Margin Observation &amp; Prediction</td>\n    </tr>\n    <tr>\n      <th>Dataset ID</th>\n      <td>org_cmop_seto3</td>\n    </tr>\n  </tbody>\n</table>"
      }
     },
     "8ca227214eb7454f96a38d5f8ed3412d": {
      "model_module": "@jupyter-widgets/base",
      "model_module_version": "1.2.0",
      "model_name": "LayoutModel",
      "state": {}
     },
     "8ce98a776fb045149a9e25b94f6073f1": {
      "model_module": "@jupyter-widgets/base",
      "model_module_version": "1.2.0",
      "model_name": "LayoutModel",
      "state": {}
     },
     "8d23746b742b4d3aa633a57473ef5d85": {
      "model_module": "jupyter-leaflet",
      "model_module_version": "^0.14.0",
      "model_name": "LeafletAwesomeIconModel",
      "state": {
       "_model_module_version": "^0.14.0",
       "_view_module_version": "^0.14.0",
       "icon_color": "white",
       "marker_color": "orange",
       "name": "life-ring"
      }
     },
     "8d79568154bb4ab38f093af1d5c849bb": {
      "model_module": "jupyter-leaflet",
      "model_module_version": "^0.14.0",
      "model_name": "LeafletMarkerModel",
      "state": {
       "_model_module_version": "^0.14.0",
       "_view_module_version": "^0.14.0",
       "icon": "IPY_MODEL_b03f107814e744aba79a611edffdd2e5",
       "location": [
        44.52897,
        -125.38966
       ],
       "options": [
        "alt",
        "draggable",
        "keyboard",
        "rise_offset",
        "rise_on_hover",
        "rotation_angle",
        "rotation_origin",
        "title",
        "z_index_offset"
       ],
       "popup": "IPY_MODEL_3fdc53b403e84d76b7ebc5337a667a81"
      }
     },
     "8dc712f8e26b4743b13a150a7c39c77b": {
      "model_module": "@jupyter-widgets/base",
      "model_module_version": "1.2.0",
      "model_name": "LayoutModel",
      "state": {}
     },
     "8e2222f65f224c1fba0997406b1dead5": {
      "model_module": "@jupyter-widgets/controls",
      "model_module_version": "1.5.0",
      "model_name": "HTMLModel",
      "state": {
       "layout": "IPY_MODEL_cd72b22a7e674ae3819e7a6de0239be4",
       "style": "IPY_MODEL_224d6b93c8bc42d3baebb73c30a808fc",
       "value": "<table border=\"1\" class=\"dataframe table table-striped table-hover table-condensed table-responsive\">\n  <thead>\n    <tr style=\"text-align: right;\">\n      <th></th>\n      <th>80</th>\n    </tr>\n  </thead>\n  <tbody>\n    <tr>\n      <th>Institution</th>\n      <td>Northwest Association of Networked Ocean Observing Systems (NANOOS)</td>\n    </tr>\n    <tr>\n      <th>Dataset ID</th>\n      <td>nanoos_wcsh_whiskey1</td>\n    </tr>\n  </tbody>\n</table>"
      }
     },
     "8ec062ba1a304b81b14ae4c495d7af85": {
      "model_module": "@jupyter-widgets/controls",
      "model_module_version": "1.5.0",
      "model_name": "DescriptionStyleModel",
      "state": {
       "description_width": ""
      }
     },
     "8ec537e5ac45484e9c82d331531aa751": {
      "model_module": "jupyter-leaflet",
      "model_module_version": "^0.14.0",
      "model_name": "LeafletAwesomeIconModel",
      "state": {
       "_model_module_version": "^0.14.0",
       "_view_module_version": "^0.14.0",
       "icon_color": "white",
       "marker_color": "orange",
       "name": "life-ring"
      }
     },
     "8eea9f9f814643038b3814ab8671a16e": {
      "model_module": "jupyter-leaflet",
      "model_module_version": "^0.14.0",
      "model_name": "LeafletMarkerModel",
      "state": {
       "_model_module_version": "^0.14.0",
       "_view_module_version": "^0.14.0",
       "icon": "IPY_MODEL_1e9a7ee8c4d14c829ec0d4933a3c9b6b",
       "location": [
        44.37415,
        -124.95648
       ],
       "options": [
        "alt",
        "draggable",
        "keyboard",
        "rise_offset",
        "rise_on_hover",
        "rotation_angle",
        "rotation_origin",
        "title",
        "z_index_offset"
       ],
       "popup": "IPY_MODEL_5e904f3ea3a944a6af7c389df8503509"
      }
     },
     "8f0d8909d3cf40e4b1fee7b1cfbf399e": {
      "model_module": "@jupyter-widgets/controls",
      "model_module_version": "1.5.0",
      "model_name": "DescriptionStyleModel",
      "state": {
       "description_width": ""
      }
     },
     "8f80fdd19dd146c0bd02540052e1931d": {
      "model_module": "@jupyter-widgets/controls",
      "model_module_version": "1.5.0",
      "model_name": "DescriptionStyleModel",
      "state": {
       "description_width": ""
      }
     },
     "90024615fcdf4c91bfc9ad160f96a803": {
      "model_module": "@jupyter-widgets/controls",
      "model_module_version": "1.5.0",
      "model_name": "DescriptionStyleModel",
      "state": {
       "description_width": ""
      }
     },
     "901140238f884719973289f762a7ed1f": {
      "model_module": "jupyter-leaflet",
      "model_module_version": "^0.14.0",
      "model_name": "LeafletAwesomeIconModel",
      "state": {
       "_model_module_version": "^0.14.0",
       "_view_module_version": "^0.14.0",
       "icon_color": "white",
       "marker_color": "orange",
       "name": "life-ring"
      }
     },
     "902d820edf424c95a1ed4a4dc0c21adf": {
      "model_module": "jupyter-leaflet",
      "model_module_version": "^0.14.0",
      "model_name": "LeafletMarkerModel",
      "state": {
       "_model_module_version": "^0.14.0",
       "_view_module_version": "^0.14.0",
       "icon": "IPY_MODEL_49f1e67ba4f24b1eaab8bb163a399af6",
       "location": [
        44.65678,
        -124.09707
       ],
       "options": [
        "alt",
        "draggable",
        "keyboard",
        "rise_offset",
        "rise_on_hover",
        "rotation_angle",
        "rotation_origin",
        "title",
        "z_index_offset"
       ],
       "popup": "IPY_MODEL_53cb1a2a36b849e1861f9842faf59806"
      }
     },
     "902eacf0697644a29e75c7be77fdf77e": {
      "model_module": "@jupyter-widgets/controls",
      "model_module_version": "1.5.0",
      "model_name": "DescriptionStyleModel",
      "state": {
       "description_width": ""
      }
     },
     "90a718b2abc84d6e905c3f600dac8412": {
      "model_module": "@jupyter-widgets/base",
      "model_module_version": "1.2.0",
      "model_name": "LayoutModel",
      "state": {}
     },
     "911a75cb1001444f9a5f741e4047f9af": {
      "model_module": "@jupyter-widgets/base",
      "model_module_version": "1.2.0",
      "model_name": "LayoutModel",
      "state": {}
     },
     "915df511e8a3498ba9d7b10e0978e579": {
      "model_module": "jupyter-leaflet",
      "model_module_version": "^0.14.0",
      "model_name": "LeafletMarkerModel",
      "state": {
       "_model_module_version": "^0.14.0",
       "_view_module_version": "^0.14.0",
       "icon": "IPY_MODEL_2f4c73dcd86641588c0e28cd6cbc4f8f",
       "location": [
        46.6290016174316,
        -123.951599121094
       ],
       "options": [
        "alt",
        "draggable",
        "keyboard",
        "rise_offset",
        "rise_on_hover",
        "rotation_angle",
        "rotation_origin",
        "title",
        "z_index_offset"
       ],
       "popup": "IPY_MODEL_1cb8fea6461a4ecb9e41aac5ad6f10f9"
      }
     },
     "91ab87f5d1bf4cbd97d633886cb5d47a": {
      "model_module": "@jupyter-widgets/controls",
      "model_module_version": "1.5.0",
      "model_name": "HTMLModel",
      "state": {
       "layout": "IPY_MODEL_9f4e76b467bf41469231543a4a4acb09",
       "style": "IPY_MODEL_cbc1ae8c4df74ec9a36eccc55ae98dde",
       "value": "<table border=\"1\" class=\"dataframe table table-striped table-hover table-condensed table-responsive\">\n  <thead>\n    <tr style=\"text-align: right;\">\n      <th></th>\n      <th>54</th>\n    </tr>\n  </thead>\n  <tbody>\n    <tr>\n      <th>Institution</th>\n      <td>Ocean Observatories Initiative (OOI)</td>\n    </tr>\n    <tr>\n      <th>Dataset ID</th>\n      <td>ooi-ce07shsm-rid26-06-phsend000</td>\n    </tr>\n  </tbody>\n</table>"
      }
     },
     "91e1dc5a9c414da085f7c7a6ad3e6d22": {
      "model_module": "@jupyter-widgets/controls",
      "model_module_version": "1.5.0",
      "model_name": "HTMLModel",
      "state": {
       "layout": "IPY_MODEL_e7cce1a56e54407a959b5f99643cb981",
       "style": "IPY_MODEL_66fdc0d5caa040cd879b40903bba5d84",
       "value": "<table border=\"1\" class=\"dataframe table table-striped table-hover table-condensed table-responsive\">\n  <thead>\n    <tr style=\"text-align: right;\">\n      <th></th>\n      <th>67</th>\n    </tr>\n  </thead>\n  <tbody>\n    <tr>\n      <th>Institution</th>\n      <td>Observing System Monitoring Center (OSMC)</td>\n    </tr>\n    <tr>\n      <th>Dataset ID</th>\n      <td>osmc_46100</td>\n    </tr>\n  </tbody>\n</table>"
      }
     },
     "926a75beba404f8b9d5e3aa83a5241b2": {
      "model_module": "jupyter-leaflet",
      "model_module_version": "^0.14.0",
      "model_name": "LeafletAwesomeIconModel",
      "state": {
       "_model_module_version": "^0.14.0",
       "_view_module_version": "^0.14.0",
       "icon_color": "white",
       "name": "life-ring"
      }
     },
     "932fd53089e04a30a6e9ab9167371a64": {
      "model_module": "jupyter-leaflet",
      "model_module_version": "^0.14.0",
      "model_name": "LeafletMarkerModel",
      "state": {
       "_model_module_version": "^0.14.0",
       "_view_module_version": "^0.14.0",
       "icon": "IPY_MODEL_ec83e34ca5064535a9358af1d24038dd",
       "location": [
        45.4213981628418,
        -123.93620300293
       ],
       "options": [
        "alt",
        "draggable",
        "keyboard",
        "rise_offset",
        "rise_on_hover",
        "rotation_angle",
        "rotation_origin",
        "title",
        "z_index_offset"
       ],
       "popup": "IPY_MODEL_8e2222f65f224c1fba0997406b1dead5"
      }
     },
     "93bcb5ae90894b8a9825a3c1382ee319": {
      "model_module": "@jupyter-widgets/controls",
      "model_module_version": "1.5.0",
      "model_name": "HTMLModel",
      "state": {
       "layout": "IPY_MODEL_8b7a4acc12d442eb9fc9fb20866d42aa",
       "style": "IPY_MODEL_affdf025f1f048c58e76fc51bb55176d",
       "value": "<table border=\"1\" class=\"dataframe table table-striped table-hover table-condensed table-responsive\">\n  <thead>\n    <tr style=\"text-align: right;\">\n      <th></th>\n      <th>38</th>\n    </tr>\n  </thead>\n  <tbody>\n    <tr>\n      <th>Institution</th>\n      <td>Ocean Observatories Initiative (OOI)</td>\n    </tr>\n    <tr>\n      <th>Dataset ID</th>\n      <td>ooi-ce06issm-mfd35-06-phsend000</td>\n    </tr>\n  </tbody>\n</table>"
      }
     },
     "93dcf8b8bcf941cba0968cc30405c84d": {
      "model_module": "@jupyter-widgets/controls",
      "model_module_version": "1.5.0",
      "model_name": "DescriptionStyleModel",
      "state": {
       "description_width": ""
      }
     },
     "940bf2c794994bf9aa70146853e38e2e": {
      "model_module": "@jupyter-widgets/controls",
      "model_module_version": "1.5.0",
      "model_name": "DescriptionStyleModel",
      "state": {
       "description_width": ""
      }
     },
     "9455dd22955645b682c30d69c2e1761a": {
      "model_module": "jupyter-leaflet",
      "model_module_version": "^0.14.0",
      "model_name": "LeafletMarkerModel",
      "state": {
       "_model_module_version": "^0.14.0",
       "_view_module_version": "^0.14.0",
       "icon": "IPY_MODEL_8bb5a5093a8c419bbbaf2b2ab7881459",
       "location": [
        46.98648,
        -124.56923
       ],
       "options": [
        "alt",
        "draggable",
        "keyboard",
        "rise_offset",
        "rise_on_hover",
        "rotation_angle",
        "rotation_origin",
        "title",
        "z_index_offset"
       ],
       "popup": "IPY_MODEL_e7eaece9b9b24aa6acbc09f170f1d07c"
      }
     },
     "9480d76e076847f2b8903b6f24514a35": {
      "model_module": "jupyter-leaflet",
      "model_module_version": "^0.14.0",
      "model_name": "LeafletMapStyleModel",
      "state": {
       "_model_module_version": "^0.14.0"
      }
     },
     "950b01cf5ceb41bb984e1ed9a0f03829": {
      "model_module": "@jupyter-widgets/controls",
      "model_module_version": "1.5.0",
      "model_name": "DescriptionStyleModel",
      "state": {
       "description_width": ""
      }
     },
     "953818ecbad44818b5abec3ddf9e9098": {
      "model_module": "@jupyter-widgets/controls",
      "model_module_version": "1.5.0",
      "model_name": "DescriptionStyleModel",
      "state": {
       "description_width": ""
      }
     },
     "95cf9181045042b59e20f5707f16ce46": {
      "model_module": "@jupyter-widgets/controls",
      "model_module_version": "1.5.0",
      "model_name": "DescriptionStyleModel",
      "state": {
       "description_width": ""
      }
     },
     "97576398babb4c4f929c1a226195e145": {
      "model_module": "jupyter-leaflet",
      "model_module_version": "^0.14.0",
      "model_name": "LeafletAwesomeIconModel",
      "state": {
       "_model_module_version": "^0.14.0",
       "_view_module_version": "^0.14.0",
       "icon_color": "white",
       "marker_color": "orange",
       "name": "life-ring"
      }
     },
     "97812b649e004dd9a6f2c4ac02590f22": {
      "model_module": "jupyter-leaflet",
      "model_module_version": "^0.14.0",
      "model_name": "LeafletAwesomeIconModel",
      "state": {
       "_model_module_version": "^0.14.0",
       "_view_module_version": "^0.14.0",
       "icon_color": "white",
       "name": "life-ring"
      }
     },
     "979cdafdeb814d21b0740c4c886d109d": {
      "model_module": "@jupyter-widgets/base",
      "model_module_version": "1.2.0",
      "model_name": "LayoutModel",
      "state": {}
     },
     "979d6abf076f4eed8d7dfde659b1abb5": {
      "model_module": "jupyter-leaflet",
      "model_module_version": "^0.14.0",
      "model_name": "LeafletAwesomeIconModel",
      "state": {
       "_model_module_version": "^0.14.0",
       "_view_module_version": "^0.14.0",
       "icon_color": "white",
       "marker_color": "orange",
       "name": "life-ring"
      }
     },
     "979f62ac97014357aa68366c12a31c0b": {
      "model_module": "@jupyter-widgets/base",
      "model_module_version": "1.2.0",
      "model_name": "LayoutModel",
      "state": {}
     },
     "97e48348a37f473d962a6f7b0fbd18fc": {
      "model_module": "@jupyter-widgets/base",
      "model_module_version": "1.2.0",
      "model_name": "LayoutModel",
      "state": {}
     },
     "9801edd05d394c2385988c835d0eed2a": {
      "model_module": "jupyter-leaflet",
      "model_module_version": "^0.14.0",
      "model_name": "LeafletAwesomeIconModel",
      "state": {
       "_model_module_version": "^0.14.0",
       "_view_module_version": "^0.14.0",
       "icon_color": "white",
       "marker_color": "orange",
       "name": "life-ring"
      }
     },
     "98b68eea50114bdc9581fe5f971240f8": {
      "model_module": "@jupyter-widgets/controls",
      "model_module_version": "1.5.0",
      "model_name": "HTMLModel",
      "state": {
       "layout": "IPY_MODEL_03033c8aae4742be909c315f76789bf8",
       "style": "IPY_MODEL_15a3310eb53d4d469ffd560082d1ad5a",
       "value": "<table border=\"1\" class=\"dataframe table table-striped table-hover table-condensed table-responsive\">\n  <thead>\n    <tr style=\"text-align: right;\">\n      <th></th>\n      <th>8</th>\n    </tr>\n  </thead>\n  <tbody>\n    <tr>\n      <th>Institution</th>\n      <td>Ocean Observatories Initiative (OOI)</td>\n    </tr>\n    <tr>\n      <th>Dataset ID</th>\n      <td>ooi-ce01issm-sbd17-06-flortd000</td>\n    </tr>\n  </tbody>\n</table>"
      }
     },
     "98ba8dd16d50429a977a4a6ed75b4be1": {
      "model_module": "jupyter-leaflet",
      "model_module_version": "^0.14.0",
      "model_name": "LeafletMarkerModel",
      "state": {
       "_model_module_version": "^0.14.0",
       "_view_module_version": "^0.14.0",
       "icon": "IPY_MODEL_c86e2fb4e765400e8dce963518421041",
       "location": [
        47.1345,
        -124.27087
       ],
       "options": [
        "alt",
        "draggable",
        "keyboard",
        "rise_offset",
        "rise_on_hover",
        "rotation_angle",
        "rotation_origin",
        "title",
        "z_index_offset"
       ],
       "popup": "IPY_MODEL_a2e99eacf8824c219faa3c471d35c99e"
      }
     },
     "992d87b4e36f4c3abfe7ecff4c38a461": {
      "model_module": "jupyter-leaflet",
      "model_module_version": "^0.14.0",
      "model_name": "LeafletMarkerModel",
      "state": {
       "_model_module_version": "^0.14.0",
       "_view_module_version": "^0.14.0",
       "icon": "IPY_MODEL_9cfae4a03dd943b68e59a4bdba27b21e",
       "location": [
        46.85367,
        -124.95935
       ],
       "options": [
        "alt",
        "draggable",
        "keyboard",
        "rise_offset",
        "rise_on_hover",
        "rotation_angle",
        "rotation_origin",
        "title",
        "z_index_offset"
       ],
       "popup": "IPY_MODEL_faf0ffcf5b944ebdb8eb9b68459c2cb1"
      }
     },
     "99938366c7b14768992514366c42412a": {
      "model_module": "jupyter-leaflet",
      "model_module_version": "^0.14.0",
      "model_name": "LeafletMarkerModel",
      "state": {
       "_model_module_version": "^0.14.0",
       "_view_module_version": "^0.14.0",
       "icon": "IPY_MODEL_7a36a0ca395e4264b3e7a47ecb8b8c78",
       "location": [
        46.98648,
        -124.56923
       ],
       "options": [
        "alt",
        "draggable",
        "keyboard",
        "rise_offset",
        "rise_on_hover",
        "rotation_angle",
        "rotation_origin",
        "title",
        "z_index_offset"
       ],
       "popup": "IPY_MODEL_547daa0240f3445195e1aa10ee553ec7"
      }
     },
     "9997964c386a4da38e2e37f991b87daa": {
      "model_module": "@jupyter-widgets/controls",
      "model_module_version": "1.5.0",
      "model_name": "HTMLModel",
      "state": {
       "layout": "IPY_MODEL_0694e07cbee6497b96947a559aa20d9c",
       "style": "IPY_MODEL_cee856d9327246f1bbd5bbdf84e879d5",
       "value": "<table border=\"1\" class=\"dataframe table table-striped table-hover table-condensed table-responsive\">\n  <thead>\n    <tr style=\"text-align: right;\">\n      <th></th>\n      <th>9</th>\n    </tr>\n  </thead>\n  <tbody>\n    <tr>\n      <th>Institution</th>\n      <td>Ocean Observatories Initiative (OOI)</td>\n    </tr>\n    <tr>\n      <th>Dataset ID</th>\n      <td>ooi-ce01issm-sbd17-06-ctdbpc000</td>\n    </tr>\n  </tbody>\n</table>"
      }
     },
     "99a2e774820947e08a3c0f7d39eaaa80": {
      "model_module": "@jupyter-widgets/base",
      "model_module_version": "1.2.0",
      "model_name": "LayoutModel",
      "state": {}
     },
     "99eabbc34ca846debb5374663f09c4ac": {
      "model_module": "jupyter-leaflet",
      "model_module_version": "^0.14.0",
      "model_name": "LeafletAwesomeIconModel",
      "state": {
       "_model_module_version": "^0.14.0",
       "_view_module_version": "^0.14.0",
       "icon_color": "white",
       "marker_color": "orange",
       "name": "life-ring"
      }
     },
     "99fe8beb1a1a4400a3d75785fd910ac9": {
      "model_module": "@jupyter-widgets/base",
      "model_module_version": "1.2.0",
      "model_name": "LayoutModel",
      "state": {}
     },
     "9a8715a7630a4064b7b66d3e900438b3": {
      "model_module": "@jupyter-widgets/controls",
      "model_module_version": "1.5.0",
      "model_name": "HTMLModel",
      "state": {
       "layout": "IPY_MODEL_86046bc8b63e4454b75549b2059c1989",
       "style": "IPY_MODEL_bd08aabf9b47460aacc76410362a854d",
       "value": "<table border=\"1\" class=\"dataframe table table-striped table-hover table-condensed table-responsive\">\n  <thead>\n    <tr style=\"text-align: right;\">\n      <th></th>\n      <th>64</th>\n    </tr>\n  </thead>\n  <tbody>\n    <tr>\n      <th>Institution</th>\n      <td>Observing System Monitoring Center (OSMC)</td>\n    </tr>\n    <tr>\n      <th>Dataset ID</th>\n      <td>osmc_46097</td>\n    </tr>\n  </tbody>\n</table>"
      }
     },
     "9ab6025f6b144befacf1261d1012b2aa": {
      "model_module": "jupyter-leaflet",
      "model_module_version": "^0.14.0",
      "model_name": "LeafletMapStyleModel",
      "state": {
       "_model_module_version": "^0.14.0",
       "cursor": "move"
      }
     },
     "9b353ef82f834738810f38103cc3c74c": {
      "model_module": "@jupyter-widgets/controls",
      "model_module_version": "1.5.0",
      "model_name": "DescriptionStyleModel",
      "state": {
       "description_width": ""
      }
     },
     "9c032bddab8f4bb9a8ef5b2e83c97e43": {
      "model_module": "@jupyter-widgets/base",
      "model_module_version": "1.2.0",
      "model_name": "LayoutModel",
      "state": {}
     },
     "9c33a0feb8174388b69365e618bf77be": {
      "model_module": "jupyter-leaflet",
      "model_module_version": "^0.14.0",
      "model_name": "LeafletMarkerModel",
      "state": {
       "_model_module_version": "^0.14.0",
       "_view_module_version": "^0.14.0",
       "icon": "IPY_MODEL_c6c7054363674edd8390785f5c349a31",
       "location": [
        44.37868,
        -124.94508
       ],
       "options": [
        "alt",
        "draggable",
        "keyboard",
        "rise_offset",
        "rise_on_hover",
        "rotation_angle",
        "rotation_origin",
        "title",
        "z_index_offset"
       ],
       "popup": "IPY_MODEL_5c649f38ced747e7a8b7117e89c0d699"
      }
     },
     "9c345610220b4e1a8c5f39d78eb68708": {
      "model_module": "@jupyter-widgets/base",
      "model_module_version": "1.2.0",
      "model_name": "LayoutModel",
      "state": {}
     },
     "9cb6cd87bf84467aa909bcf8f405403c": {
      "model_module": "jupyter-leaflet",
      "model_module_version": "^0.14.0",
      "model_name": "LeafletAwesomeIconModel",
      "state": {
       "_model_module_version": "^0.14.0",
       "_view_module_version": "^0.14.0",
       "icon_color": "white",
       "marker_color": "orange",
       "name": "life-ring"
      }
     },
     "9ccb11591ac8426d9274ffcb89367255": {
      "model_module": "@jupyter-widgets/base",
      "model_module_version": "1.2.0",
      "model_name": "LayoutModel",
      "state": {}
     },
     "9ccbdd752aab4934acc757841f595857": {
      "model_module": "@jupyter-widgets/controls",
      "model_module_version": "1.5.0",
      "model_name": "HTMLModel",
      "state": {
       "layout": "IPY_MODEL_2d66c00b6fe74b53a9c1ce3c352aa6df",
       "style": "IPY_MODEL_3884a85cadac4708a4bf041307844f94",
       "value": "<table border=\"1\" class=\"dataframe table table-striped table-hover table-condensed table-responsive\">\n  <thead>\n    <tr style=\"text-align: right;\">\n      <th></th>\n      <th>34</th>\n    </tr>\n  </thead>\n  <tbody>\n    <tr>\n      <th>Institution</th>\n      <td>Ocean Observatories Initiative (OOI)</td>\n    </tr>\n    <tr>\n      <th>Dataset ID</th>\n      <td>ooi-ce06issm-rid16-07-nutnrb000</td>\n    </tr>\n  </tbody>\n</table>"
      }
     },
     "9cd2e3c2f8ee4f01b4be1270801166a2": {
      "model_module": "@jupyter-widgets/controls",
      "model_module_version": "1.5.0",
      "model_name": "DescriptionStyleModel",
      "state": {
       "description_width": ""
      }
     },
     "9cfae4a03dd943b68e59a4bdba27b21e": {
      "model_module": "jupyter-leaflet",
      "model_module_version": "^0.14.0",
      "model_name": "LeafletAwesomeIconModel",
      "state": {
       "_model_module_version": "^0.14.0",
       "_view_module_version": "^0.14.0",
       "icon_color": "white",
       "marker_color": "orange",
       "name": "life-ring"
      }
     },
     "9d5f777b34464cc1b3a46930c90e7efc": {
      "model_module": "jupyter-leaflet",
      "model_module_version": "^0.14.0",
      "model_name": "LeafletMarkerModel",
      "state": {
       "_model_module_version": "^0.14.0",
       "_view_module_version": "^0.14.0",
       "icon": "IPY_MODEL_24a55782ca6a4763889aa9b1d1514af8",
       "location": [
        46.204,
        -123.759
       ],
       "options": [
        "alt",
        "draggable",
        "keyboard",
        "rise_offset",
        "rise_on_hover",
        "rotation_angle",
        "rotation_origin",
        "title",
        "z_index_offset"
       ],
       "popup": "IPY_MODEL_b87a02982e8343f38df08821907d0cf6"
      }
     },
     "9d6ff3d90c3043b484a554918a41840b": {
      "model_module": "jupyter-leaflet",
      "model_module_version": "^0.14.0",
      "model_name": "LeafletMarkerModel",
      "state": {
       "_model_module_version": "^0.14.0",
       "_view_module_version": "^0.14.0",
       "icon": "IPY_MODEL_2740f1bca8e44f62a8f1d7671f3987b0",
       "location": [
        46.173,
        -124.127
       ],
       "options": [
        "alt",
        "draggable",
        "keyboard",
        "rise_offset",
        "rise_on_hover",
        "rotation_angle",
        "rotation_origin",
        "title",
        "z_index_offset"
       ],
       "popup": "IPY_MODEL_204efb400fba4c11ab7f87cdf06c2db1"
      }
     },
     "9dbaaaae305b402e9043b4abd7d1a4ef": {
      "model_module": "jupyter-leaflet",
      "model_module_version": "^0.14.0",
      "model_name": "LeafletMarkerModel",
      "state": {
       "_model_module_version": "^0.14.0",
       "_view_module_version": "^0.14.0",
       "icon": "IPY_MODEL_86ac57ca7b3d48e89e5f4fea66ad42e8",
       "location": [
        46.2,
        -123.941
       ],
       "options": [
        "alt",
        "draggable",
        "keyboard",
        "rise_offset",
        "rise_on_hover",
        "rotation_angle",
        "rotation_origin",
        "title",
        "z_index_offset"
       ],
       "popup": "IPY_MODEL_2df21d2ca83347d197cc9932cf4fc962"
      }
     },
     "9eadecc6b1d149e7a9adb97705187aea": {
      "model_module": "jupyter-leaflet",
      "model_module_version": "^0.14.0",
      "model_name": "LeafletMarkerModel",
      "state": {
       "_model_module_version": "^0.14.0",
       "_view_module_version": "^0.14.0",
       "icon": "IPY_MODEL_8d23746b742b4d3aa633a57473ef5d85",
       "location": [
        46.98648,
        -124.56923
       ],
       "options": [
        "alt",
        "draggable",
        "keyboard",
        "rise_offset",
        "rise_on_hover",
        "rotation_angle",
        "rotation_origin",
        "title",
        "z_index_offset"
       ],
       "popup": "IPY_MODEL_00bdec2380d345eea9146e472c0f1c89"
      }
     },
     "9f4e76b467bf41469231543a4a4acb09": {
      "model_module": "@jupyter-widgets/base",
      "model_module_version": "1.2.0",
      "model_name": "LayoutModel",
      "state": {}
     },
     "a0941d2af8c7426ca34f798a16242dc5": {
      "model_module": "@jupyter-widgets/controls",
      "model_module_version": "1.5.0",
      "model_name": "HTMLModel",
      "state": {
       "layout": "IPY_MODEL_53907e6f38434745883f1aef85e77540",
       "style": "IPY_MODEL_8369f4231ee24196aef237377b4743cd",
       "value": "<table border=\"1\" class=\"dataframe table table-striped table-hover table-condensed table-responsive\">\n  <thead>\n    <tr style=\"text-align: right;\">\n      <th></th>\n      <th>50</th>\n    </tr>\n  </thead>\n  <tbody>\n    <tr>\n      <th>Institution</th>\n      <td>Ocean Observatories Initiative (OOI)</td>\n    </tr>\n    <tr>\n      <th>Dataset ID</th>\n      <td>ooi-ce07shsm-rid27-02-flortd000</td>\n    </tr>\n  </tbody>\n</table>"
      }
     },
     "a0e3d2dabcbd484fae44d64dcc885b95": {
      "model_module": "jupyter-leaflet",
      "model_module_version": "^0.14.0",
      "model_name": "LeafletMarkerModel",
      "state": {
       "_model_module_version": "^0.14.0",
       "_view_module_version": "^0.14.0",
       "icon": "IPY_MODEL_df67126acef44fc4892dec643f25964d",
       "location": [
        47.97,
        -124.95
       ],
       "options": [
        "alt",
        "draggable",
        "keyboard",
        "rise_offset",
        "rise_on_hover",
        "rotation_angle",
        "rotation_origin",
        "title",
        "z_index_offset"
       ],
       "popup": "IPY_MODEL_7689028f4ad844c48a676f8c347803d6"
      }
     },
     "a176a0a455e74315af8bb7b7e5a62e4e": {
      "model_module": "@jupyter-widgets/controls",
      "model_module_version": "1.5.0",
      "model_name": "HTMLModel",
      "state": {
       "layout": "IPY_MODEL_b3a4bdeb6a4a4e9288e3d299c4d6f98d",
       "style": "IPY_MODEL_21ec46891b984f9b9f71d56501a3ae25",
       "value": "<table border=\"1\" class=\"dataframe table table-striped table-hover table-condensed table-responsive\">\n  <thead>\n    <tr style=\"text-align: right;\">\n      <th></th>\n      <th>27</th>\n    </tr>\n  </thead>\n  <tbody>\n    <tr>\n      <th>Institution</th>\n      <td>Ocean Observatories Initiative (OOI)</td>\n    </tr>\n    <tr>\n      <th>Dataset ID</th>\n      <td>ooi-ce02shsm-rid26-07-nutnrb000</td>\n    </tr>\n  </tbody>\n</table>"
      }
     },
     "a19f8d4fa0f947eda92c11d57b80d84b": {
      "model_module": "jupyter-leaflet",
      "model_module_version": "^0.14.0",
      "model_name": "LeafletAwesomeIconModel",
      "state": {
       "_model_module_version": "^0.14.0",
       "_view_module_version": "^0.14.0",
       "icon_color": "white",
       "marker_color": "orange",
       "name": "life-ring"
      }
     },
     "a1aeec1585034fb29cf8e3eeca8b801a": {
      "model_module": "@jupyter-widgets/controls",
      "model_module_version": "1.5.0",
      "model_name": "DescriptionStyleModel",
      "state": {
       "description_width": ""
      }
     },
     "a21dbd62a75f499e8e274b448ad005e0": {
      "model_module": "jupyter-leaflet",
      "model_module_version": "^0.14.0",
      "model_name": "LeafletMapStyleModel",
      "state": {
       "_model_module_version": "^0.14.0",
       "cursor": "move"
      }
     },
     "a276bd348e0940fa8db692557590fe4e": {
      "model_module": "@jupyter-widgets/controls",
      "model_module_version": "1.5.0",
      "model_name": "HTMLModel",
      "state": {
       "layout": "IPY_MODEL_e43e54a5cc9349c7a0047c1197988c5c",
       "style": "IPY_MODEL_71fcb309a2334e27b11fc557253eb486",
       "value": "<table border=\"1\" class=\"dataframe table table-striped table-hover table-condensed table-responsive\">\n  <thead>\n    <tr style=\"text-align: right;\">\n      <th></th>\n      <th>70</th>\n    </tr>\n  </thead>\n  <tbody>\n    <tr>\n      <th>Institution</th>\n      <td>Northwest Association of Networked Ocean Observing Systems (NANOOS)</td>\n    </tr>\n    <tr>\n      <th>Dataset ID</th>\n      <td>nanoos_apl_nemo</td>\n    </tr>\n  </tbody>\n</table>"
      }
     },
     "a2d6b4b795434fd790780ea630795516": {
      "model_module": "jupyter-leaflet",
      "model_module_version": "^0.14.0",
      "model_name": "LeafletMarkerModel",
      "state": {
       "_model_module_version": "^0.14.0",
       "_view_module_version": "^0.14.0",
       "icon": "IPY_MODEL_495b0805619a4b64a8a594356352f3fa",
       "location": [
        47.1345,
        -124.27087
       ],
       "options": [
        "alt",
        "draggable",
        "keyboard",
        "rise_offset",
        "rise_on_hover",
        "rotation_angle",
        "rotation_origin",
        "title",
        "z_index_offset"
       ],
       "popup": "IPY_MODEL_b687b5d695c940e1a9688a74ad7c7d0b"
      }
     },
     "a2e99eacf8824c219faa3c471d35c99e": {
      "model_module": "@jupyter-widgets/controls",
      "model_module_version": "1.5.0",
      "model_name": "HTMLModel",
      "state": {
       "layout": "IPY_MODEL_4916a824d24b4ad3a382aa402fdcd993",
       "style": "IPY_MODEL_5d7aabee730f4d92859c4998e0288b78",
       "value": "<table border=\"1\" class=\"dataframe table table-striped table-hover table-condensed table-responsive\">\n  <thead>\n    <tr style=\"text-align: right;\">\n      <th></th>\n      <th>35</th>\n    </tr>\n  </thead>\n  <tbody>\n    <tr>\n      <th>Institution</th>\n      <td>Ocean Observatories Initiative (OOI)</td>\n    </tr>\n    <tr>\n      <th>Dataset ID</th>\n      <td>ooi-ce06issm-rid16-06-phsend000</td>\n    </tr>\n  </tbody>\n</table>"
      }
     },
     "a3044dc08bd64cd4b47686b445469e86": {
      "model_module": "@jupyter-widgets/base",
      "model_module_version": "1.2.0",
      "model_name": "LayoutModel",
      "state": {}
     },
     "a39681a9b6d44ba6b54e05d18324a795": {
      "model_module": "@jupyter-widgets/base",
      "model_module_version": "1.2.0",
      "model_name": "LayoutModel",
      "state": {}
     },
     "a3bcbcf692de479484902bc863f685b6": {
      "model_module": "@jupyter-widgets/controls",
      "model_module_version": "1.5.0",
      "model_name": "DescriptionStyleModel",
      "state": {
       "description_width": ""
      }
     },
     "a3d9f7814ab24b1e9086e734d8f73843": {
      "model_module": "jupyter-leaflet",
      "model_module_version": "^0.14.0",
      "model_name": "LeafletAwesomeIconModel",
      "state": {
       "_model_module_version": "^0.14.0",
       "_view_module_version": "^0.14.0",
       "icon_color": "white",
       "marker_color": "orange",
       "name": "life-ring"
      }
     },
     "a40e3243f7854aee8506adcc9847ec9a": {
      "model_module": "@jupyter-widgets/controls",
      "model_module_version": "1.5.0",
      "model_name": "HTMLModel",
      "state": {
       "layout": "IPY_MODEL_e5274820d4404e1bb6a40314457ab80e",
       "style": "IPY_MODEL_24f6b2f96f654830b362222c38387794",
       "value": "<table border=\"1\" class=\"dataframe table table-striped table-hover table-condensed table-responsive\">\n  <thead>\n    <tr style=\"text-align: right;\">\n      <th></th>\n      <th>75</th>\n    </tr>\n  </thead>\n  <tbody>\n    <tr>\n      <th>Institution</th>\n      <td>NOAA Pacific Marine Environmental Lab (PMEL)</td>\n    </tr>\n    <tr>\n      <th>Dataset ID</th>\n      <td>gov_ornl_cdiac_lapush_125w_48n</td>\n    </tr>\n  </tbody>\n</table>"
      }
     },
     "a44c1acf2b4b4272bce6158e67453f11": {
      "model_module": "jupyter-leaflet",
      "model_module_version": "^0.14.0",
      "model_name": "LeafletAwesomeIconModel",
      "state": {
       "_model_module_version": "^0.14.0",
       "_view_module_version": "^0.14.0",
       "icon_color": "white",
       "marker_color": "orange",
       "name": "life-ring"
      }
     },
     "a53e355db12c48548dbad57f47ed1377": {
      "model_module": "jupyter-leaflet",
      "model_module_version": "^0.14.0",
      "model_name": "LeafletAwesomeIconModel",
      "state": {
       "_model_module_version": "^0.14.0",
       "_view_module_version": "^0.14.0",
       "icon_color": "white",
       "marker_color": "orange",
       "name": "life-ring"
      }
     },
     "a56ee654c50f4df3a10865dea4240aee": {
      "model_module": "@jupyter-widgets/controls",
      "model_module_version": "1.5.0",
      "model_name": "DescriptionStyleModel",
      "state": {
       "description_width": ""
      }
     },
     "a5cdf6502bda403aba83b1a2b920b6ed": {
      "model_module": "@jupyter-widgets/base",
      "model_module_version": "1.2.0",
      "model_name": "LayoutModel",
      "state": {}
     },
     "a5d35e481fed479b9fbf3879c12d9b4d": {
      "model_module": "jupyter-leaflet",
      "model_module_version": "^0.14.0",
      "model_name": "LeafletMarkerModel",
      "state": {
       "_model_module_version": "^0.14.0",
       "_view_module_version": "^0.14.0",
       "icon": "IPY_MODEL_979d6abf076f4eed8d7dfde659b1abb5",
       "location": [
        46.85367,
        -124.95935
       ],
       "options": [
        "alt",
        "draggable",
        "keyboard",
        "rise_offset",
        "rise_on_hover",
        "rotation_angle",
        "rotation_origin",
        "title",
        "z_index_offset"
       ],
       "popup": "IPY_MODEL_f65a29f135b24c9396ed815a7426619f"
      }
     },
     "a5e84c909fa14e0fb2d9525b550c9b89": {
      "model_module": "jupyter-leaflet",
      "model_module_version": "^0.14.0",
      "model_name": "LeafletMarkerModel",
      "state": {
       "_model_module_version": "^0.14.0",
       "_view_module_version": "^0.14.0",
       "icon": "IPY_MODEL_801d3add2f544f148f84c6ce036f6470",
       "location": [
        47.1345,
        -124.27087
       ],
       "options": [
        "alt",
        "draggable",
        "keyboard",
        "rise_offset",
        "rise_on_hover",
        "rotation_angle",
        "rotation_origin",
        "title",
        "z_index_offset"
       ],
       "popup": "IPY_MODEL_3de4b17fc669477097afaa56d99bf65b"
      }
     },
     "a60562b818224597b312c18cab0e0379": {
      "model_module": "@jupyter-widgets/base",
      "model_module_version": "1.2.0",
      "model_name": "LayoutModel",
      "state": {}
     },
     "a66c7cd7f43f4df8a00448232c829d3b": {
      "model_module": "jupyter-leaflet",
      "model_module_version": "^0.14.0",
      "model_name": "LeafletAwesomeIconModel",
      "state": {
       "_model_module_version": "^0.14.0",
       "_view_module_version": "^0.14.0",
       "icon_color": "white",
       "marker_color": "orange",
       "name": "life-ring"
      }
     },
     "a7453f3d3c5b428ab155ff4159e21a25": {
      "model_module": "jupyter-leaflet",
      "model_module_version": "^0.14.0",
      "model_name": "LeafletAwesomeIconModel",
      "state": {
       "_model_module_version": "^0.14.0",
       "_view_module_version": "^0.14.0",
       "icon_color": "white",
       "marker_color": "orange",
       "name": "life-ring"
      }
     },
     "a746e944480b4c08b3f1656ce8142375": {
      "model_module": "@jupyter-widgets/controls",
      "model_module_version": "1.5.0",
      "model_name": "DescriptionStyleModel",
      "state": {
       "description_width": ""
      }
     },
     "a7adb70924bd4b50a54265ed927a4785": {
      "model_module": "jupyter-leaflet",
      "model_module_version": "^0.14.0",
      "model_name": "LeafletMarkerModel",
      "state": {
       "_model_module_version": "^0.14.0",
       "_view_module_version": "^0.14.0",
       "icon": "IPY_MODEL_ec60dbdba2b047b19a0b7066f6ad05bc",
       "location": [
        46.98648,
        -124.56923
       ],
       "options": [
        "alt",
        "draggable",
        "keyboard",
        "rise_offset",
        "rise_on_hover",
        "rotation_angle",
        "rotation_origin",
        "title",
        "z_index_offset"
       ],
       "popup": "IPY_MODEL_91ab87f5d1bf4cbd97d633886cb5d47a"
      }
     },
     "a847ba6adea54972abaf63237c19489c": {
      "model_module": "@jupyter-widgets/base",
      "model_module_version": "1.2.0",
      "model_name": "LayoutModel",
      "state": {}
     },
     "a8544e0d00cf4f5ea37ffbf5740d31d5": {
      "model_module": "@jupyter-widgets/base",
      "model_module_version": "1.2.0",
      "model_name": "LayoutModel",
      "state": {}
     },
     "a854dc8ff0ec47298ad907caca2f24fc": {
      "model_module": "@jupyter-widgets/base",
      "model_module_version": "1.2.0",
      "model_name": "LayoutModel",
      "state": {}
     },
     "a8a1e4edf93340a9af07d7dd41168090": {
      "model_module": "@jupyter-widgets/base",
      "model_module_version": "1.2.0",
      "model_name": "LayoutModel",
      "state": {}
     },
     "a8d142e106d34992a9a6a45965127d78": {
      "model_module": "@jupyter-widgets/controls",
      "model_module_version": "1.5.0",
      "model_name": "HTMLModel",
      "state": {
       "layout": "IPY_MODEL_49bffdf4ba5d4f16b3468f5405e70508",
       "style": "IPY_MODEL_b35b1286c21d4f258b0633f4c9ad26dc",
       "value": "<table border=\"1\" class=\"dataframe table table-striped table-hover table-condensed table-responsive\">\n  <thead>\n    <tr style=\"text-align: right;\">\n      <th></th>\n      <th>66</th>\n    </tr>\n  </thead>\n  <tbody>\n    <tr>\n      <th>Institution</th>\n      <td>Observing System Monitoring Center (OSMC)</td>\n    </tr>\n    <tr>\n      <th>Dataset ID</th>\n      <td>osmc_46099</td>\n    </tr>\n  </tbody>\n</table>"
      }
     },
     "a9265983447d425e9d04a284f5b118a8": {
      "model_module": "@jupyter-widgets/base",
      "model_module_version": "1.2.0",
      "model_name": "LayoutModel",
      "state": {}
     },
     "a94c619bb8704d07a6bd57c891f4533a": {
      "model_module": "jupyter-leaflet",
      "model_module_version": "^0.14.0",
      "model_name": "LeafletAwesomeIconModel",
      "state": {
       "_model_module_version": "^0.14.0",
       "_view_module_version": "^0.14.0",
       "icon_color": "white",
       "name": "life-ring"
      }
     },
     "a98a61641b42459abdc6fdcbbc5be65e": {
      "model_module": "@jupyter-widgets/controls",
      "model_module_version": "1.5.0",
      "model_name": "DescriptionStyleModel",
      "state": {
       "description_width": ""
      }
     },
     "a998dbf77d684b15be33a155f48d0545": {
      "model_module": "jupyter-leaflet",
      "model_module_version": "^0.14.0",
      "model_name": "LeafletMarkerModel",
      "state": {
       "_model_module_version": "^0.14.0",
       "_view_module_version": "^0.14.0",
       "icon": "IPY_MODEL_78ad84aa22424f6cb932a22b495de03b",
       "location": [
        44.63958,
        -124.303
       ],
       "options": [
        "alt",
        "draggable",
        "keyboard",
        "rise_offset",
        "rise_on_hover",
        "rotation_angle",
        "rotation_origin",
        "title",
        "z_index_offset"
       ],
       "popup": "IPY_MODEL_863d886cb7684dff8c7fb485b6cf99e2"
      }
     },
     "aa4f2e50a9f142d485d68ec9b487a0cf": {
      "model_module": "jupyter-leaflet",
      "model_module_version": "^0.14.0",
      "model_name": "LeafletMarkerModel",
      "state": {
       "_model_module_version": "^0.14.0",
       "_view_module_version": "^0.14.0",
       "icon": "IPY_MODEL_674cb973cb0c47128a23288312c161bc",
       "location": [
        44.63708,
        -124.30595
       ],
       "options": [
        "alt",
        "draggable",
        "keyboard",
        "rise_offset",
        "rise_on_hover",
        "rotation_angle",
        "rotation_origin",
        "title",
        "z_index_offset"
       ],
       "popup": "IPY_MODEL_60ac9993a6534513a437d98fc6228616"
      }
     },
     "aa5f2cd1bfe94995970d957ddb4d18e2": {
      "model_module": "@jupyter-widgets/base",
      "model_module_version": "1.2.0",
      "model_name": "LayoutModel",
      "state": {}
     },
     "aad1fd0e954748d990f4612fc055e1a3": {
      "model_module": "@jupyter-widgets/controls",
      "model_module_version": "1.5.0",
      "model_name": "HTMLModel",
      "state": {
       "layout": "IPY_MODEL_69294dbdf8cd41be80cb3c5bac6aec25",
       "style": "IPY_MODEL_25a9c93f50f44e858653c41bd2559a92",
       "value": "<table border=\"1\" class=\"dataframe table table-striped table-hover table-condensed table-responsive\">\n  <thead>\n    <tr style=\"text-align: right;\">\n      <th></th>\n      <th>6</th>\n    </tr>\n  </thead>\n  <tbody>\n    <tr>\n      <th>Institution</th>\n      <td>Ocean Observatories Initiative (OOI)</td>\n    </tr>\n    <tr>\n      <th>Dataset ID</th>\n      <td>ooi-ce01issm-mfd37-03-dostad000</td>\n    </tr>\n  </tbody>\n</table>"
      }
     },
     "aafb4e6331f54eb68e4916ac2925e4a9": {
      "model_module": "@jupyter-widgets/base",
      "model_module_version": "1.2.0",
      "model_name": "LayoutModel",
      "state": {}
     },
     "ab137d090dcf4659959399bae9ba859a": {
      "model_module": "jupyter-leaflet",
      "model_module_version": "^0.14.0",
      "model_name": "LeafletMarkerModel",
      "state": {
       "_model_module_version": "^0.14.0",
       "_view_module_version": "^0.14.0",
       "icon": "IPY_MODEL_4708c768ec54437cad9e4e13613a52a8",
       "location": [
        46.5007019042969,
        -124.030403137207
       ],
       "options": [
        "alt",
        "draggable",
        "keyboard",
        "rise_offset",
        "rise_on_hover",
        "rotation_angle",
        "rotation_origin",
        "title",
        "z_index_offset"
       ],
       "popup": "IPY_MODEL_e2b561c5acbf4b36a4b797dc0a3c733e"
      }
     },
     "ab55e38f1d994cdfbc2bbfc6ac9c6118": {
      "model_module": "jupyter-leaflet",
      "model_module_version": "^0.14.0",
      "model_name": "LeafletAwesomeIconModel",
      "state": {
       "_model_module_version": "^0.14.0",
       "_view_module_version": "^0.14.0",
       "icon_color": "white",
       "marker_color": "orange",
       "name": "life-ring"
      }
     },
     "ab7fc71de91d43929ad7a47377c1d475": {
      "model_module": "jupyter-leaflet",
      "model_module_version": "^0.14.0",
      "model_name": "LeafletAwesomeIconModel",
      "state": {
       "_model_module_version": "^0.14.0",
       "_view_module_version": "^0.14.0",
       "icon_color": "white",
       "marker_color": "orange",
       "name": "life-ring"
      }
     },
     "ab858354242545ca884dcc40a49b48e6": {
      "model_module": "@jupyter-widgets/base",
      "model_module_version": "1.2.0",
      "model_name": "LayoutModel",
      "state": {}
     },
     "ab88d6fb19c34c8986da9b1223b0dfa7": {
      "model_module": "@jupyter-widgets/controls",
      "model_module_version": "1.5.0",
      "model_name": "HTMLModel",
      "state": {
       "layout": "IPY_MODEL_55ec21f96d7148d0af341ec94b516cb6",
       "style": "IPY_MODEL_ae6f0061de644211a5162bada00fe26f",
       "value": "<table border=\"1\" class=\"dataframe table table-striped table-hover table-condensed table-responsive\">\n  <thead>\n    <tr style=\"text-align: right;\">\n      <th></th>\n      <th>32</th>\n    </tr>\n  </thead>\n  <tbody>\n    <tr>\n      <th>Institution</th>\n      <td>Ocean Observatories Initiative (OOI)</td>\n    </tr>\n    <tr>\n      <th>Dataset ID</th>\n      <td>ooi-ce06issm-rid16-03-ctdbpc000</td>\n    </tr>\n  </tbody>\n</table>"
      }
     },
     "aba297a4ba8e461d8d40d3c42a5e7e20": {
      "model_module": "jupyter-leaflet",
      "model_module_version": "^0.14.0",
      "model_name": "LeafletMarkerModel",
      "state": {
       "_model_module_version": "^0.14.0",
       "_view_module_version": "^0.14.0",
       "icon": "IPY_MODEL_446e109e01514dbb87623f7638f3df6e",
       "location": [
        46.98648,
        -124.56923
       ],
       "options": [
        "alt",
        "draggable",
        "keyboard",
        "rise_offset",
        "rise_on_hover",
        "rotation_angle",
        "rotation_origin",
        "title",
        "z_index_offset"
       ],
       "popup": "IPY_MODEL_7cdf85120acf4dd3a7e23e580681467a"
      }
     },
     "abed7ff5d89e48eca3eb4807b66f0664": {
      "model_module": "jupyter-leaflet",
      "model_module_version": "^0.14.0",
      "model_name": "LeafletAwesomeIconModel",
      "state": {
       "_model_module_version": "^0.14.0",
       "_view_module_version": "^0.14.0",
       "icon_color": "white",
       "marker_color": "orange",
       "name": "life-ring"
      }
     },
     "ac2347c0b606419e84644461e9d8c832": {
      "model_module": "@jupyter-widgets/controls",
      "model_module_version": "1.5.0",
      "model_name": "HTMLModel",
      "state": {
       "layout": "IPY_MODEL_641148d2b60245be92c534ca3fae54ae",
       "style": "IPY_MODEL_112e162e817a4cc8a2dd770a8302a8d6",
       "value": "<table border=\"1\" class=\"dataframe table table-striped table-hover table-condensed table-responsive\">\n  <thead>\n    <tr style=\"text-align: right;\">\n      <th></th>\n      <th>14</th>\n    </tr>\n  </thead>\n  <tbody>\n    <tr>\n      <th>Institution</th>\n      <td>Ocean Observatories Initiative (OOI)</td>\n    </tr>\n    <tr>\n      <th>Dataset ID</th>\n      <td>ooi-ce04osps-pc01b-4b-phsena106</td>\n    </tr>\n  </tbody>\n</table>"
      }
     },
     "ac918485cb29424da4c7a6ee92d32969": {
      "model_module": "@jupyter-widgets/base",
      "model_module_version": "1.2.0",
      "model_name": "LayoutModel",
      "state": {}
     },
     "acd74c43d92349cb9986afa748c1f655": {
      "model_module": "@jupyter-widgets/controls",
      "model_module_version": "1.5.0",
      "model_name": "HTMLModel",
      "state": {
       "layout": "IPY_MODEL_911a75cb1001444f9a5f741e4047f9af",
       "style": "IPY_MODEL_d322222a5d1f4db7863efb99aaa4cf3a",
       "value": "<table border=\"1\" class=\"dataframe table table-striped table-hover table-condensed table-responsive\">\n  <thead>\n    <tr style=\"text-align: right;\">\n      <th></th>\n      <th>26</th>\n    </tr>\n  </thead>\n  <tbody>\n    <tr>\n      <th>Institution</th>\n      <td>Ocean Observatories Initiative (OOI)</td>\n    </tr>\n    <tr>\n      <th>Dataset ID</th>\n      <td>ooi-ce02shsm-rid27-04-dostad000</td>\n    </tr>\n  </tbody>\n</table>"
      }
     },
     "adcfa6bd84704153937bfb7b1ca9315e": {
      "model_module": "@jupyter-widgets/controls",
      "model_module_version": "1.5.0",
      "model_name": "DescriptionStyleModel",
      "state": {
       "description_width": ""
      }
     },
     "ae544723b36b4db29f54d805fba60afb": {
      "model_module": "@jupyter-widgets/base",
      "model_module_version": "1.2.0",
      "model_name": "LayoutModel",
      "state": {}
     },
     "ae6f0061de644211a5162bada00fe26f": {
      "model_module": "@jupyter-widgets/controls",
      "model_module_version": "1.5.0",
      "model_name": "DescriptionStyleModel",
      "state": {
       "description_width": ""
      }
     },
     "ae7a4591638d42a8b7f9610421bf68c3": {
      "model_module": "jupyter-leaflet",
      "model_module_version": "^0.14.0",
      "model_name": "LeafletMarkerModel",
      "state": {
       "_model_module_version": "^0.14.0",
       "_view_module_version": "^0.14.0",
       "icon": "IPY_MODEL_a19f8d4fa0f947eda92c11d57b80d84b",
       "location": [
        44.52897,
        -125.38966
       ],
       "options": [
        "alt",
        "draggable",
        "keyboard",
        "rise_offset",
        "rise_on_hover",
        "rotation_angle",
        "rotation_origin",
        "title",
        "z_index_offset"
       ],
       "popup": "IPY_MODEL_66f91077c4894868a01db390a6fd1f94"
      }
     },
     "ae8527d9f8a84db88f9accdf76923d18": {
      "model_module": "jupyter-leaflet",
      "model_module_version": "^0.14.0",
      "model_name": "LeafletMarkerModel",
      "state": {
       "_model_module_version": "^0.14.0",
       "_view_module_version": "^0.14.0",
       "icon": "IPY_MODEL_cdf8b42fa7484c6383d8da8e3ddaf547",
       "location": [
        47.9646517535081,
        -124.953552246094
       ],
       "options": [
        "alt",
        "draggable",
        "keyboard",
        "rise_offset",
        "rise_on_hover",
        "rotation_angle",
        "rotation_origin",
        "title",
        "z_index_offset"
       ],
       "popup": "IPY_MODEL_f59971231aaf4f25804a0d0c6fe32a58"
      }
     },
     "aedeb714be044e67ac5912e5b51fc3f6": {
      "model_module": "@jupyter-widgets/base",
      "model_module_version": "1.2.0",
      "model_name": "LayoutModel",
      "state": {}
     },
     "afdb9e3356e7467eb0df348cee96b4ca": {
      "model_module": "jupyter-leaflet",
      "model_module_version": "^0.14.0",
      "model_name": "LeafletMarkerModel",
      "state": {
       "_model_module_version": "^0.14.0",
       "_view_module_version": "^0.14.0",
       "icon": "IPY_MODEL_57746ffce26b438f9ceda29b87b8f250",
       "location": [
        45.5544,
        -123.9189
       ],
       "options": [
        "alt",
        "draggable",
        "keyboard",
        "rise_offset",
        "rise_on_hover",
        "rotation_angle",
        "rotation_origin",
        "title",
        "z_index_offset"
       ],
       "popup": "IPY_MODEL_48e29dc77f51491fb01fe374820040d9"
      }
     },
     "afe919690c6440f8b932cc2e353738f9": {
      "model_module": "@jupyter-widgets/base",
      "model_module_version": "1.2.0",
      "model_name": "LayoutModel",
      "state": {}
     },
     "affdf025f1f048c58e76fc51bb55176d": {
      "model_module": "@jupyter-widgets/controls",
      "model_module_version": "1.5.0",
      "model_name": "DescriptionStyleModel",
      "state": {
       "description_width": ""
      }
     },
     "b03f107814e744aba79a611edffdd2e5": {
      "model_module": "jupyter-leaflet",
      "model_module_version": "^0.14.0",
      "model_name": "LeafletAwesomeIconModel",
      "state": {
       "_model_module_version": "^0.14.0",
       "_view_module_version": "^0.14.0",
       "icon_color": "white",
       "marker_color": "orange",
       "name": "life-ring"
      }
     },
     "b069d36ba6dd42279f2a1dcc7e1bed70": {
      "model_module": "@jupyter-widgets/base",
      "model_module_version": "1.2.0",
      "model_name": "LayoutModel",
      "state": {}
     },
     "b096ac6208654732805fc2e0cff2f54f": {
      "model_module": "@jupyter-widgets/controls",
      "model_module_version": "1.5.0",
      "model_name": "HTMLModel",
      "state": {
       "layout": "IPY_MODEL_385a11f4447a4f02bd09da92ec495775",
       "style": "IPY_MODEL_7c3911c878fc4fbea9041fcb278fc563",
       "value": "<table border=\"1\" class=\"dataframe table table-striped table-hover table-condensed table-responsive\">\n  <thead>\n    <tr style=\"text-align: right;\">\n      <th></th>\n      <th>26</th>\n    </tr>\n  </thead>\n  <tbody>\n    <tr>\n      <th>Institution</th>\n      <td>Ocean Observatories Initiative (OOI)</td>\n    </tr>\n    <tr>\n      <th>Dataset ID</th>\n      <td>ooi-ce02shsm-rid27-04-dostad000</td>\n    </tr>\n  </tbody>\n</table>"
      }
     },
     "b102d70d0e7b4265bcc44a4ca45e6be4": {
      "model_module": "@jupyter-widgets/controls",
      "model_module_version": "1.5.0",
      "model_name": "HTMLModel",
      "state": {
       "layout": "IPY_MODEL_2ee7a6676118461daa1109bf6ea9416f",
       "style": "IPY_MODEL_b88891fee090482fbf28974af6686ecf",
       "value": "<table border=\"1\" class=\"dataframe table table-striped table-hover table-condensed table-responsive\">\n  <thead>\n    <tr style=\"text-align: right;\">\n      <th></th>\n      <th>7</th>\n    </tr>\n  </thead>\n  <tbody>\n    <tr>\n      <th>Institution</th>\n      <td>Ocean Observatories Initiative (OOI)</td>\n    </tr>\n    <tr>\n      <th>Dataset ID</th>\n      <td>ooi-ce01issm-mfd35-06-phsend000</td>\n    </tr>\n  </tbody>\n</table>"
      }
     },
     "b17e3c1772324b62b1bfbab0e864697d": {
      "model_module": "@jupyter-widgets/controls",
      "model_module_version": "1.5.0",
      "model_name": "HTMLModel",
      "state": {
       "layout": "IPY_MODEL_a5cdf6502bda403aba83b1a2b920b6ed",
       "style": "IPY_MODEL_c21e72472cfe46e18c8b5e105ff8e3f0",
       "value": "<table border=\"1\" class=\"dataframe table table-striped table-hover table-condensed table-responsive\">\n  <thead>\n    <tr style=\"text-align: right;\">\n      <th></th>\n      <th>67</th>\n    </tr>\n  </thead>\n  <tbody>\n    <tr>\n      <th>Institution</th>\n      <td>Observing System Monitoring Center (OSMC)</td>\n    </tr>\n    <tr>\n      <th>Dataset ID</th>\n      <td>osmc_46100</td>\n    </tr>\n  </tbody>\n</table>"
      }
     },
     "b226ff9d49524e939ed9cdb2e038624b": {
      "model_module": "@jupyter-widgets/controls",
      "model_module_version": "1.5.0",
      "model_name": "DescriptionStyleModel",
      "state": {
       "description_width": ""
      }
     },
     "b244870723ee41029fcaeaead37ec0f2": {
      "model_module": "jupyter-leaflet",
      "model_module_version": "^0.14.0",
      "model_name": "LeafletMarkerModel",
      "state": {
       "_model_module_version": "^0.14.0",
       "_view_module_version": "^0.14.0",
       "icon": "IPY_MODEL_43c737675c584b92a5caa60232cb8e86",
       "location": [
        46.173,
        -124.127
       ],
       "options": [
        "alt",
        "draggable",
        "keyboard",
        "rise_offset",
        "rise_on_hover",
        "rotation_angle",
        "rotation_origin",
        "title",
        "z_index_offset"
       ],
       "popup": "IPY_MODEL_db0f479fc490459a83b28d1e2771a486"
      }
     },
     "b32bd38a764f46cb9ee3fe7f2fb0160a": {
      "model_module": "@jupyter-widgets/controls",
      "model_module_version": "1.5.0",
      "model_name": "HTMLModel",
      "state": {
       "layout": "IPY_MODEL_bee4f50a35b44f49ae1f599b8bcb25f2",
       "style": "IPY_MODEL_b226ff9d49524e939ed9cdb2e038624b",
       "value": "<table border=\"1\" class=\"dataframe table table-striped table-hover table-condensed table-responsive\">\n  <thead>\n    <tr style=\"text-align: right;\">\n      <th></th>\n      <th>36</th>\n    </tr>\n  </thead>\n  <tbody>\n    <tr>\n      <th>Institution</th>\n      <td>Ocean Observatories Initiative (OOI)</td>\n    </tr>\n    <tr>\n      <th>Dataset ID</th>\n      <td>ooi-ce06issm-mfd37-03-ctdbpc000</td>\n    </tr>\n  </tbody>\n</table>"
      }
     },
     "b35b1286c21d4f258b0633f4c9ad26dc": {
      "model_module": "@jupyter-widgets/controls",
      "model_module_version": "1.5.0",
      "model_name": "DescriptionStyleModel",
      "state": {
       "description_width": ""
      }
     },
     "b36172a8f554469286bb611d11a426f2": {
      "model_module": "@jupyter-widgets/base",
      "model_module_version": "1.2.0",
      "model_name": "LayoutModel",
      "state": {}
     },
     "b39c97bc62284deeb6722678549f7b25": {
      "model_module": "@jupyter-widgets/base",
      "model_module_version": "1.2.0",
      "model_name": "LayoutModel",
      "state": {}
     },
     "b3a4bdeb6a4a4e9288e3d299c4d6f98d": {
      "model_module": "@jupyter-widgets/base",
      "model_module_version": "1.2.0",
      "model_name": "LayoutModel",
      "state": {}
     },
     "b40578c280d24d5babe680a8ce530a65": {
      "model_module": "jupyter-leaflet",
      "model_module_version": "^0.14.0",
      "model_name": "LeafletMarkerModel",
      "state": {
       "_model_module_version": "^0.14.0",
       "_view_module_version": "^0.14.0",
       "icon": "IPY_MODEL_1ce814fe3374466c8b6494d59a2ca21b",
       "location": [
        47.1345,
        -124.27087
       ],
       "options": [
        "alt",
        "draggable",
        "keyboard",
        "rise_offset",
        "rise_on_hover",
        "rotation_angle",
        "rotation_origin",
        "title",
        "z_index_offset"
       ],
       "popup": "IPY_MODEL_e0774351ae7b4b50a63152befe58b23e"
      }
     },
     "b48434e5fb514bd1914f30269cd9e254": {
      "model_module": "@jupyter-widgets/base",
      "model_module_version": "1.2.0",
      "model_name": "LayoutModel",
      "state": {}
     },
     "b687b5d695c940e1a9688a74ad7c7d0b": {
      "model_module": "@jupyter-widgets/controls",
      "model_module_version": "1.5.0",
      "model_name": "HTMLModel",
      "state": {
       "layout": "IPY_MODEL_71d0878c367542aebbcb9ead76cd2976",
       "style": "IPY_MODEL_8ec062ba1a304b81b14ae4c495d7af85",
       "value": "<table border=\"1\" class=\"dataframe table table-striped table-hover table-condensed table-responsive\">\n  <thead>\n    <tr style=\"text-align: right;\">\n      <th></th>\n      <th>34</th>\n    </tr>\n  </thead>\n  <tbody>\n    <tr>\n      <th>Institution</th>\n      <td>Ocean Observatories Initiative (OOI)</td>\n    </tr>\n    <tr>\n      <th>Dataset ID</th>\n      <td>ooi-ce06issm-rid16-07-nutnrb000</td>\n    </tr>\n  </tbody>\n</table>"
      }
     },
     "b72697836e954c808e5370cb2a64a229": {
      "model_module": "@jupyter-widgets/controls",
      "model_module_version": "1.5.0",
      "model_name": "DescriptionStyleModel",
      "state": {
       "description_width": ""
      }
     },
     "b76d312610bb4aef8871fbabf3592aec": {
      "model_module": "jupyter-leaflet",
      "model_module_version": "^0.14.0",
      "model_name": "LeafletAwesomeIconModel",
      "state": {
       "_model_module_version": "^0.14.0",
       "_view_module_version": "^0.14.0",
       "icon_color": "white",
       "name": "life-ring"
      }
     },
     "b78dcf10b96b43d193b810f90052082f": {
      "model_module": "jupyter-leaflet",
      "model_module_version": "^0.14.0",
      "model_name": "LeafletAwesomeIconModel",
      "state": {
       "_model_module_version": "^0.14.0",
       "_view_module_version": "^0.14.0",
       "icon_color": "white",
       "marker_color": "orange",
       "name": "life-ring"
      }
     },
     "b80dfb7b6d3d45fdbbca1b38ec8273b7": {
      "model_module": "@jupyter-widgets/controls",
      "model_module_version": "1.5.0",
      "model_name": "DescriptionStyleModel",
      "state": {
       "description_width": ""
      }
     },
     "b869382f73a94d51a1e4200821248a40": {
      "model_module": "@jupyter-widgets/controls",
      "model_module_version": "1.5.0",
      "model_name": "HTMLModel",
      "state": {
       "layout": "IPY_MODEL_a9265983447d425e9d04a284f5b118a8",
       "style": "IPY_MODEL_11fe658f22b441499792a07b385fee25",
       "value": "<table border=\"1\" class=\"dataframe table table-striped table-hover table-condensed table-responsive\">\n  <thead>\n    <tr style=\"text-align: right;\">\n      <th></th>\n      <th>76</th>\n    </tr>\n  </thead>\n  <tbody>\n    <tr>\n      <th>Institution</th>\n      <td>Northwest Association of Networked Ocean Observing Systems (NANOOS)</td>\n    </tr>\n    <tr>\n      <th>Dataset ID</th>\n      <td>nanoos_psi_baycenter</td>\n    </tr>\n  </tbody>\n</table>"
      }
     },
     "b87a02982e8343f38df08821907d0cf6": {
      "model_module": "@jupyter-widgets/controls",
      "model_module_version": "1.5.0",
      "model_name": "HTMLModel",
      "state": {
       "layout": "IPY_MODEL_a39681a9b6d44ba6b54e05d18324a795",
       "style": "IPY_MODEL_fa1b7fc98986490cbf8654d9eb4ff133",
       "value": "<table border=\"1\" class=\"dataframe table table-striped table-hover table-condensed table-responsive\">\n  <thead>\n    <tr style=\"text-align: right;\">\n      <th></th>\n      <th>78</th>\n    </tr>\n  </thead>\n  <tbody>\n    <tr>\n      <th>Institution</th>\n      <td>Center for Coastal Margin Observation &amp; Prediction</td>\n    </tr>\n    <tr>\n      <th>Dataset ID</th>\n      <td>org_cmop_sefo3</td>\n    </tr>\n  </tbody>\n</table>"
      }
     },
     "b88891fee090482fbf28974af6686ecf": {
      "model_module": "@jupyter-widgets/controls",
      "model_module_version": "1.5.0",
      "model_name": "DescriptionStyleModel",
      "state": {
       "description_width": ""
      }
     },
     "b88c7892b886443b925f2ef98b357171": {
      "model_module": "@jupyter-widgets/controls",
      "model_module_version": "1.5.0",
      "model_name": "HTMLModel",
      "state": {
       "layout": "IPY_MODEL_ab858354242545ca884dcc40a49b48e6",
       "style": "IPY_MODEL_56d4d6e5d5aa471ca2810cc4ba3a2a44",
       "value": "<table border=\"1\" class=\"dataframe table table-striped table-hover table-condensed table-responsive\">\n  <thead>\n    <tr style=\"text-align: right;\">\n      <th></th>\n      <th>49</th>\n    </tr>\n  </thead>\n  <tbody>\n    <tr>\n      <th>Institution</th>\n      <td>Ocean Observatories Initiative (OOI)</td>\n    </tr>\n    <tr>\n      <th>Dataset ID</th>\n      <td>ooi-ce09ossm-sbd12-04-pco2aa000</td>\n    </tr>\n  </tbody>\n</table>"
      }
     },
     "b8aaca97fe0c41bd813704a34cfc3323": {
      "model_module": "@jupyter-widgets/base",
      "model_module_version": "1.2.0",
      "model_name": "LayoutModel",
      "state": {}
     },
     "b9961b34d677497195af361c5717371e": {
      "model_module": "@jupyter-widgets/controls",
      "model_module_version": "1.5.0",
      "model_name": "HTMLModel",
      "state": {
       "layout": "IPY_MODEL_9ccb11591ac8426d9274ffcb89367255",
       "style": "IPY_MODEL_60e54c9214f74333b11b93659288fb87",
       "value": "<table border=\"1\" class=\"dataframe table table-striped table-hover table-condensed table-responsive\">\n  <thead>\n    <tr style=\"text-align: right;\">\n      <th></th>\n      <th>20</th>\n    </tr>\n  </thead>\n  <tbody>\n    <tr>\n      <th>Institution</th>\n      <td>Ocean Observatories Initiative (OOI)</td>\n    </tr>\n    <tr>\n      <th>Dataset ID</th>\n      <td>ooi-ce04ossm-sbd11-06-metbka000</td>\n    </tr>\n  </tbody>\n</table>"
      }
     },
     "b9f948119e1243fb8fd187d0346a858d": {
      "model_module": "@jupyter-widgets/controls",
      "model_module_version": "1.5.0",
      "model_name": "HTMLModel",
      "state": {
       "layout": "IPY_MODEL_8b23a00535f4424abe3f30a4e69ebf8d",
       "style": "IPY_MODEL_940bf2c794994bf9aa70146853e38e2e",
       "value": "<table border=\"1\" class=\"dataframe table table-striped table-hover table-condensed table-responsive\">\n  <thead>\n    <tr style=\"text-align: right;\">\n      <th></th>\n      <th>17</th>\n    </tr>\n  </thead>\n  <tbody>\n    <tr>\n      <th>Institution</th>\n      <td>Ocean Observatories Initiative (OOI)</td>\n    </tr>\n    <tr>\n      <th>Dataset ID</th>\n      <td>ooi-ce04ossm-rid27-04-dostad000</td>\n    </tr>\n  </tbody>\n</table>"
      }
     },
     "b9fbf185f6a842cb833e931ea6bddae4": {
      "model_module": "jupyter-leaflet",
      "model_module_version": "^0.14.0",
      "model_name": "LeafletMarkerModel",
      "state": {
       "_model_module_version": "^0.14.0",
       "_view_module_version": "^0.14.0",
       "icon": "IPY_MODEL_e97d1a518ee84d2db9085fcedaae76a5",
       "location": [
        47.1345,
        -124.27087
       ],
       "options": [
        "alt",
        "draggable",
        "keyboard",
        "rise_offset",
        "rise_on_hover",
        "rotation_angle",
        "rotation_origin",
        "title",
        "z_index_offset"
       ],
       "popup": "IPY_MODEL_5cdac32a28fe48a49d3b401d92f6e4d0"
      }
     },
     "ba86d20e39e1499a82c9ef02757881e4": {
      "model_module": "jupyter-leaflet",
      "model_module_version": "^0.14.0",
      "model_name": "LeafletMarkerModel",
      "state": {
       "_model_module_version": "^0.14.0",
       "_view_module_version": "^0.14.0",
       "icon": "IPY_MODEL_2aebe4be3110424fb6466ad2c9774e17",
       "location": [
        44.65678,
        -124.09707
       ],
       "options": [
        "alt",
        "draggable",
        "keyboard",
        "rise_offset",
        "rise_on_hover",
        "rotation_angle",
        "rotation_origin",
        "title",
        "z_index_offset"
       ],
       "popup": "IPY_MODEL_de96ccce1eb74966819e7461ea06e857"
      }
     },
     "bad40f5061ec410183626a0fb169a740": {
      "model_module": "@jupyter-widgets/controls",
      "model_module_version": "1.5.0",
      "model_name": "DescriptionStyleModel",
      "state": {
       "description_width": ""
      }
     },
     "bb6a3ad82b8245fa8ba4808fba65fe12": {
      "model_module": "jupyter-leaflet",
      "model_module_version": "^0.14.0",
      "model_name": "LeafletAwesomeIconModel",
      "state": {
       "_model_module_version": "^0.14.0",
       "_view_module_version": "^0.14.0",
       "icon_color": "white",
       "marker_color": "orange",
       "name": "life-ring"
      }
     },
     "bb6fab6f91224265b70ee8d33672ae80": {
      "model_module": "jupyter-leaflet",
      "model_module_version": "^0.14.0",
      "model_name": "LeafletAwesomeIconModel",
      "state": {
       "_model_module_version": "^0.14.0",
       "_view_module_version": "^0.14.0",
       "icon_color": "white",
       "marker_color": "orange",
       "name": "life-ring"
      }
     },
     "bbc10ae0abc44226a345368ddf825a65": {
      "model_module": "@jupyter-widgets/base",
      "model_module_version": "1.2.0",
      "model_name": "LayoutModel",
      "state": {}
     },
     "bc46857359354a279fa3985547b43a2b": {
      "model_module": "@jupyter-widgets/base",
      "model_module_version": "1.2.0",
      "model_name": "LayoutModel",
      "state": {}
     },
     "bd08aabf9b47460aacc76410362a854d": {
      "model_module": "@jupyter-widgets/controls",
      "model_module_version": "1.5.0",
      "model_name": "DescriptionStyleModel",
      "state": {
       "description_width": ""
      }
     },
     "bd21ce721e364848a94058d3a5384bb3": {
      "model_module": "jupyter-leaflet",
      "model_module_version": "^0.14.0",
      "model_name": "LeafletAttributionControlModel",
      "state": {
       "_model_module_version": "^0.14.0",
       "_view_module_version": "^0.14.0",
       "options": [
        "position",
        "prefix"
       ],
       "position": "bottomright",
       "prefix": "ipyleaflet"
      }
     },
     "bd33863c4b8542ae8e6e3d14894a4122": {
      "model_module": "@jupyter-widgets/base",
      "model_module_version": "1.2.0",
      "model_name": "LayoutModel",
      "state": {}
     },
     "bd453e0618304e37aa5f60b40b5fe2a8": {
      "model_module": "jupyter-leaflet",
      "model_module_version": "^0.14.0",
      "model_name": "LeafletMarkerModel",
      "state": {
       "_model_module_version": "^0.14.0",
       "_view_module_version": "^0.14.0",
       "icon": "IPY_MODEL_e6dbb260690344b9ae20bf39754151d9",
       "location": [
        46.85367,
        -124.95935
       ],
       "options": [
        "alt",
        "draggable",
        "keyboard",
        "rise_offset",
        "rise_on_hover",
        "rotation_angle",
        "rotation_origin",
        "title",
        "z_index_offset"
       ],
       "popup": "IPY_MODEL_c74da5704c2942af8d49357e8cbabed9"
      }
     },
     "bd484707e21646cbaec7e7ce3b3c3064": {
      "model_module": "@jupyter-widgets/controls",
      "model_module_version": "1.5.0",
      "model_name": "DescriptionStyleModel",
      "state": {
       "description_width": ""
      }
     },
     "bede1ec699354ba28d557bca8275c318": {
      "model_module": "@jupyter-widgets/controls",
      "model_module_version": "1.5.0",
      "model_name": "DescriptionStyleModel",
      "state": {
       "description_width": ""
      }
     },
     "bee1f71c9e714842bc4ff2939ee37819": {
      "model_module": "@jupyter-widgets/controls",
      "model_module_version": "1.5.0",
      "model_name": "DescriptionStyleModel",
      "state": {
       "description_width": ""
      }
     },
     "bee4f50a35b44f49ae1f599b8bcb25f2": {
      "model_module": "@jupyter-widgets/base",
      "model_module_version": "1.2.0",
      "model_name": "LayoutModel",
      "state": {}
     },
     "bf476ddb6bd145ebafe335b3f9d5edcd": {
      "model_module": "jupyter-leaflet",
      "model_module_version": "^0.14.0",
      "model_name": "LeafletMarkerModel",
      "state": {
       "_model_module_version": "^0.14.0",
       "_view_module_version": "^0.14.0",
       "icon": "IPY_MODEL_8ec537e5ac45484e9c82d331531aa751",
       "location": [
        44.63577,
        -124.3035
       ],
       "options": [
        "alt",
        "draggable",
        "keyboard",
        "rise_offset",
        "rise_on_hover",
        "rotation_angle",
        "rotation_origin",
        "title",
        "z_index_offset"
       ],
       "popup": "IPY_MODEL_d8be70c0a47e4500a072634304e30156"
      }
     },
     "bf86d8cfa1cd4b93a3612e1b441a62f1": {
      "model_module": "jupyter-leaflet",
      "model_module_version": "^0.14.0",
      "model_name": "LeafletAwesomeIconModel",
      "state": {
       "_model_module_version": "^0.14.0",
       "_view_module_version": "^0.14.0",
       "icon_color": "white",
       "marker_color": "orange",
       "name": "life-ring"
      }
     },
     "bf97989834df4071a0d5e283593fc06d": {
      "model_module": "@jupyter-widgets/base",
      "model_module_version": "1.2.0",
      "model_name": "LayoutModel",
      "state": {}
     },
     "c0204c2f36d2423aa4e1405fc8628057": {
      "model_module": "@jupyter-widgets/controls",
      "model_module_version": "1.5.0",
      "model_name": "DescriptionStyleModel",
      "state": {
       "description_width": ""
      }
     },
     "c0fc5c770bb449da812c671c3208576e": {
      "model_module": "jupyter-leaflet",
      "model_module_version": "^0.14.0",
      "model_name": "LeafletAwesomeIconModel",
      "state": {
       "_model_module_version": "^0.14.0",
       "_view_module_version": "^0.14.0",
       "icon_color": "white",
       "marker_color": "orange",
       "name": "life-ring"
      }
     },
     "c1e88ae1d72542e1bcfff1d814413bf4": {
      "model_module": "@jupyter-widgets/base",
      "model_module_version": "1.2.0",
      "model_name": "LayoutModel",
      "state": {}
     },
     "c1ed8d6365184a80ba44415b1cdd9b89": {
      "model_module": "@jupyter-widgets/base",
      "model_module_version": "1.2.0",
      "model_name": "LayoutModel",
      "state": {}
     },
     "c21e72472cfe46e18c8b5e105ff8e3f0": {
      "model_module": "@jupyter-widgets/controls",
      "model_module_version": "1.5.0",
      "model_name": "DescriptionStyleModel",
      "state": {
       "description_width": ""
      }
     },
     "c22a5ca50e79463682888f3a2a36da4d": {
      "model_module": "@jupyter-widgets/controls",
      "model_module_version": "1.5.0",
      "model_name": "HTMLModel",
      "state": {
       "layout": "IPY_MODEL_d324a022377a4e6ba40c2fcdf6619510",
       "style": "IPY_MODEL_8f0d8909d3cf40e4b1fee7b1cfbf399e",
       "value": "<table border=\"1\" class=\"dataframe table table-striped table-hover table-condensed table-responsive\">\n  <thead>\n    <tr style=\"text-align: right;\">\n      <th></th>\n      <th>46</th>\n    </tr>\n  </thead>\n  <tbody>\n    <tr>\n      <th>Institution</th>\n      <td>Ocean Observatories Initiative (OOI)</td>\n    </tr>\n    <tr>\n      <th>Dataset ID</th>\n      <td>ooi-ce09ossm-mfd37-03-ctdbpe000</td>\n    </tr>\n  </tbody>\n</table>"
      }
     },
     "c2817155860e4b159ae14f60024aa268": {
      "model_module": "jupyter-leaflet",
      "model_module_version": "^0.14.0",
      "model_name": "LeafletAwesomeIconModel",
      "state": {
       "_model_module_version": "^0.14.0",
       "_view_module_version": "^0.14.0",
       "icon_color": "white",
       "name": "life-ring"
      }
     },
     "c3c0b0efe8ae4ebe978b5b22460d7c4f": {
      "model_module": "jupyter-leaflet",
      "model_module_version": "^0.14.0",
      "model_name": "LeafletAwesomeIconModel",
      "state": {
       "_model_module_version": "^0.14.0",
       "_view_module_version": "^0.14.0",
       "icon_color": "white",
       "marker_color": "orange",
       "name": "life-ring"
      }
     },
     "c3f7aa96f67e4e19b369b6db4ceed932": {
      "model_module": "jupyter-leaflet",
      "model_module_version": "^0.14.0",
      "model_name": "LeafletAwesomeIconModel",
      "state": {
       "_model_module_version": "^0.14.0",
       "_view_module_version": "^0.14.0",
       "icon_color": "white",
       "marker_color": "orange",
       "name": "life-ring"
      }
     },
     "c46bc3cc4e3b4d6f8821ba41b8cd6b19": {
      "model_module": "@jupyter-widgets/controls",
      "model_module_version": "1.5.0",
      "model_name": "DescriptionStyleModel",
      "state": {
       "description_width": ""
      }
     },
     "c49a3d426d0046f9beceff1fed73c635": {
      "model_module": "@jupyter-widgets/controls",
      "model_module_version": "1.5.0",
      "model_name": "HTMLModel",
      "state": {
       "layout": "IPY_MODEL_f6115e22883d4a4dbb14341ef839f1e0",
       "style": "IPY_MODEL_fb2aac8401b24b42a70ff28d68a66a16",
       "value": "<table border=\"1\" class=\"dataframe table table-striped table-hover table-condensed table-responsive\">\n  <thead>\n    <tr style=\"text-align: right;\">\n      <th></th>\n      <th>61</th>\n    </tr>\n  </thead>\n  <tbody>\n    <tr>\n      <th>Institution</th>\n      <td>Ocean Observatories Initiative (OOI)</td>\n    </tr>\n    <tr>\n      <th>Dataset ID</th>\n      <td>ooi-rs01sbps-pc01a-4a-ctdpfa103</td>\n    </tr>\n  </tbody>\n</table>"
      }
     },
     "c4ea2cda5cfb46f3a1415cef7f622c63": {
      "model_module": "jupyter-leaflet",
      "model_module_version": "^0.14.0",
      "model_name": "LeafletMarkerModel",
      "state": {
       "_model_module_version": "^0.14.0",
       "_view_module_version": "^0.14.0",
       "icon": "IPY_MODEL_74b096c74bb04e4da7ce31c5014f7aeb",
       "location": [
        44.37868,
        -124.94508
       ],
       "options": [
        "alt",
        "draggable",
        "keyboard",
        "rise_offset",
        "rise_on_hover",
        "rotation_angle",
        "rotation_origin",
        "title",
        "z_index_offset"
       ],
       "popup": "IPY_MODEL_5df4d886f50c421da1f286bceb90f809"
      }
     },
     "c4f2cd1075ec4710adea0505ada84bcc": {
      "model_module": "@jupyter-widgets/controls",
      "model_module_version": "1.5.0",
      "model_name": "DescriptionStyleModel",
      "state": {
       "description_width": ""
      }
     },
     "c55a8389a57848dc9734d903bc8ce72b": {
      "model_module": "jupyter-leaflet",
      "model_module_version": "^0.14.0",
      "model_name": "LeafletMarkerModel",
      "state": {
       "_model_module_version": "^0.14.0",
       "_view_module_version": "^0.14.0",
       "icon": "IPY_MODEL_9801edd05d394c2385988c835d0eed2a",
       "location": [
        44.63577,
        -124.3035
       ],
       "options": [
        "alt",
        "draggable",
        "keyboard",
        "rise_offset",
        "rise_on_hover",
        "rotation_angle",
        "rotation_origin",
        "title",
        "z_index_offset"
       ],
       "popup": "IPY_MODEL_b096ac6208654732805fc2e0cff2f54f"
      }
     },
     "c609ebe4b19041deb8ec0b11a00af6af": {
      "model_module": "jupyter-leaflet",
      "model_module_version": "^0.14.0",
      "model_name": "LeafletAwesomeIconModel",
      "state": {
       "_model_module_version": "^0.14.0",
       "_view_module_version": "^0.14.0",
       "icon_color": "white",
       "marker_color": "orange",
       "name": "life-ring"
      }
     },
     "c64426fd746f47519d3e25edae5cdc5c": {
      "model_module": "@jupyter-widgets/base",
      "model_module_version": "1.2.0",
      "model_name": "LayoutModel",
      "state": {}
     },
     "c664a71ac3874b3a9adc6688df5d1f25": {
      "model_module": "@jupyter-widgets/base",
      "model_module_version": "1.2.0",
      "model_name": "LayoutModel",
      "state": {}
     },
     "c69b045f75174aa1ab5ece916f834057": {
      "model_module": "jupyter-leaflet",
      "model_module_version": "^0.14.0",
      "model_name": "LeafletAwesomeIconModel",
      "state": {
       "_model_module_version": "^0.14.0",
       "_view_module_version": "^0.14.0",
       "icon_color": "white",
       "marker_color": "orange",
       "name": "life-ring"
      }
     },
     "c6c7054363674edd8390785f5c349a31": {
      "model_module": "jupyter-leaflet",
      "model_module_version": "^0.14.0",
      "model_name": "LeafletAwesomeIconModel",
      "state": {
       "_model_module_version": "^0.14.0",
       "_view_module_version": "^0.14.0",
       "icon_color": "white",
       "marker_color": "orange",
       "name": "life-ring"
      }
     },
     "c72c697c90514fa3b1f7f65b61d77b03": {
      "model_module": "@jupyter-widgets/controls",
      "model_module_version": "1.5.0",
      "model_name": "HTMLModel",
      "state": {
       "layout": "IPY_MODEL_0c14b03fec56429ea4d7d48d03136a88",
       "style": "IPY_MODEL_1cf7b5d9b214436ca06004eec0c927ad",
       "value": "<table border=\"1\" class=\"dataframe table table-striped table-hover table-condensed table-responsive\">\n  <thead>\n    <tr style=\"text-align: right;\">\n      <th></th>\n      <th>43</th>\n    </tr>\n  </thead>\n  <tbody>\n    <tr>\n      <th>Institution</th>\n      <td>Ocean Observatories Initiative (OOI)</td>\n    </tr>\n    <tr>\n      <th>Dataset ID</th>\n      <td>ooi-ce09ossm-rid27-04-dostad000</td>\n    </tr>\n  </tbody>\n</table>"
      }
     },
     "c74da5704c2942af8d49357e8cbabed9": {
      "model_module": "@jupyter-widgets/controls",
      "model_module_version": "1.5.0",
      "model_name": "HTMLModel",
      "state": {
       "layout": "IPY_MODEL_8dc712f8e26b4743b13a150a7c39c77b",
       "style": "IPY_MODEL_7f59196a7bac4b1ea91a9760eec939ac",
       "value": "<table border=\"1\" class=\"dataframe table table-striped table-hover table-condensed table-responsive\">\n  <thead>\n    <tr style=\"text-align: right;\">\n      <th></th>\n      <th>44</th>\n    </tr>\n  </thead>\n  <tbody>\n    <tr>\n      <th>Institution</th>\n      <td>Ocean Observatories Initiative (OOI)</td>\n    </tr>\n    <tr>\n      <th>Dataset ID</th>\n      <td>ooi-ce09ossm-rid26-07-nutnrb000</td>\n    </tr>\n  </tbody>\n</table>"
      }
     },
     "c869d6311ac14795a9dfe4a43dcb6e74": {
      "model_module": "jupyter-leaflet",
      "model_module_version": "^0.14.0",
      "model_name": "LeafletAwesomeIconModel",
      "state": {
       "_model_module_version": "^0.14.0",
       "_view_module_version": "^0.14.0",
       "icon_color": "white",
       "marker_color": "orange",
       "name": "life-ring"
      }
     },
     "c86e2fb4e765400e8dce963518421041": {
      "model_module": "jupyter-leaflet",
      "model_module_version": "^0.14.0",
      "model_name": "LeafletAwesomeIconModel",
      "state": {
       "_model_module_version": "^0.14.0",
       "_view_module_version": "^0.14.0",
       "icon_color": "white",
       "marker_color": "orange",
       "name": "life-ring"
      }
     },
     "c94fb32d97f74d8fa64d728766c92e46": {
      "model_module": "@jupyter-widgets/controls",
      "model_module_version": "1.5.0",
      "model_name": "DescriptionStyleModel",
      "state": {
       "description_width": ""
      }
     },
     "c95ea904f36c4f98824aa75f38a6c047": {
      "model_module": "jupyter-leaflet",
      "model_module_version": "^0.14.0",
      "model_name": "LeafletMarkerModel",
      "state": {
       "_model_module_version": "^0.14.0",
       "_view_module_version": "^0.14.0",
       "icon": "IPY_MODEL_79ac80d10a9e4a94b0262cb77b088d82",
       "location": [
        44.37868,
        -124.94508
       ],
       "options": [
        "alt",
        "draggable",
        "keyboard",
        "rise_offset",
        "rise_on_hover",
        "rotation_angle",
        "rotation_origin",
        "title",
        "z_index_offset"
       ],
       "popup": "IPY_MODEL_2d85e09360d443dfb7cfb6245c5bd1dd"
      }
     },
     "c9866e1d370149ac91e3f4a343a9abd5": {
      "model_module": "@jupyter-widgets/controls",
      "model_module_version": "1.5.0",
      "model_name": "DescriptionStyleModel",
      "state": {
       "description_width": ""
      }
     },
     "c9991b3850de4f809106db77293b6be2": {
      "model_module": "jupyter-leaflet",
      "model_module_version": "^0.14.0",
      "model_name": "LeafletAwesomeIconModel",
      "state": {
       "_model_module_version": "^0.14.0",
       "_view_module_version": "^0.14.0",
       "icon_color": "white",
       "marker_color": "orange",
       "name": "life-ring"
      }
     },
     "c9a9f0d8d283452db12efb91fba239f1": {
      "model_module": "@jupyter-widgets/controls",
      "model_module_version": "1.5.0",
      "model_name": "DescriptionStyleModel",
      "state": {
       "description_width": ""
      }
     },
     "c9f2004cf7fd4f6eac91f65695b145a4": {
      "model_module": "@jupyter-widgets/base",
      "model_module_version": "1.2.0",
      "model_name": "LayoutModel",
      "state": {}
     },
     "ca260d675dc447928567a37bdecc496d": {
      "model_module": "@jupyter-widgets/controls",
      "model_module_version": "1.5.0",
      "model_name": "HTMLModel",
      "state": {
       "layout": "IPY_MODEL_c9f2004cf7fd4f6eac91f65695b145a4",
       "style": "IPY_MODEL_4522eb088f314feaa42720abeb900a0d",
       "value": "<table border=\"1\" class=\"dataframe table table-striped table-hover table-condensed table-responsive\">\n  <thead>\n    <tr style=\"text-align: right;\">\n      <th></th>\n      <th>8</th>\n    </tr>\n  </thead>\n  <tbody>\n    <tr>\n      <th>Institution</th>\n      <td>Ocean Observatories Initiative (OOI)</td>\n    </tr>\n    <tr>\n      <th>Dataset ID</th>\n      <td>ooi-ce01issm-sbd17-06-flortd000</td>\n    </tr>\n  </tbody>\n</table>"
      }
     },
     "cabf06d759e24e5cba53bb6b8670d536": {
      "model_module": "jupyter-leaflet",
      "model_module_version": "^0.14.0",
      "model_name": "LeafletMarkerModel",
      "state": {
       "_model_module_version": "^0.14.0",
       "_view_module_version": "^0.14.0",
       "icon": "IPY_MODEL_d299d118fe324d018ca0b0620287059c",
       "location": [
        47.1345,
        -124.27087
       ],
       "options": [
        "alt",
        "draggable",
        "keyboard",
        "rise_offset",
        "rise_on_hover",
        "rotation_angle",
        "rotation_origin",
        "title",
        "z_index_offset"
       ],
       "popup": "IPY_MODEL_9ccbdd752aab4934acc757841f595857"
      }
     },
     "caf1a892ab4e41f68a06fb49c4af08f8": {
      "model_module": "jupyter-leaflet",
      "model_module_version": "^0.14.0",
      "model_name": "LeafletMarkerModel",
      "state": {
       "_model_module_version": "^0.14.0",
       "_view_module_version": "^0.14.0",
       "icon": "IPY_MODEL_a3d9f7814ab24b1e9086e734d8f73843",
       "location": [
        46.86503,
        -124.94828
       ],
       "options": [
        "alt",
        "draggable",
        "keyboard",
        "rise_offset",
        "rise_on_hover",
        "rotation_angle",
        "rotation_origin",
        "title",
        "z_index_offset"
       ],
       "popup": "IPY_MODEL_ebe499337cae4db986be39d8aa9051ac"
      }
     },
     "cb68ab5c4897422f810220a13638fbfe": {
      "model_module": "jupyter-leaflet",
      "model_module_version": "^0.14.0",
      "model_name": "LeafletAwesomeIconModel",
      "state": {
       "_model_module_version": "^0.14.0",
       "_view_module_version": "^0.14.0",
       "icon_color": "white",
       "marker_color": "orange",
       "name": "life-ring"
      }
     },
     "cbc1ae8c4df74ec9a36eccc55ae98dde": {
      "model_module": "@jupyter-widgets/controls",
      "model_module_version": "1.5.0",
      "model_name": "DescriptionStyleModel",
      "state": {
       "description_width": ""
      }
     },
     "cbefa7f6fdd141c9879e53902a0d00fe": {
      "model_module": "@jupyter-widgets/base",
      "model_module_version": "1.2.0",
      "model_name": "LayoutModel",
      "state": {}
     },
     "cc212b8bd1634c2fbe5d0acb0a7091f0": {
      "model_module": "@jupyter-widgets/base",
      "model_module_version": "1.2.0",
      "model_name": "LayoutModel",
      "state": {}
     },
     "cc9aedf51e3640f2aa65e83ca569b3a8": {
      "model_module": "jupyter-leaflet",
      "model_module_version": "^0.14.0",
      "model_name": "LeafletAwesomeIconModel",
      "state": {
       "_model_module_version": "^0.14.0",
       "_view_module_version": "^0.14.0",
       "icon_color": "white",
       "marker_color": "orange",
       "name": "life-ring"
      }
     },
     "cd711a8957904fa9afe267b21ea68081": {
      "model_module": "jupyter-leaflet",
      "model_module_version": "^0.14.0",
      "model_name": "LeafletMarkerModel",
      "state": {
       "_model_module_version": "^0.14.0",
       "_view_module_version": "^0.14.0",
       "icon": "IPY_MODEL_f2bf2bcc8f8d43aabfe2f1adb4713ac5",
       "location": [
        46.5007019042969,
        -124.030403137207
       ],
       "options": [
        "alt",
        "draggable",
        "keyboard",
        "rise_offset",
        "rise_on_hover",
        "rotation_angle",
        "rotation_origin",
        "title",
        "z_index_offset"
       ],
       "popup": "IPY_MODEL_76cb07da6b6947a58aeaf5a6cbceb332"
      }
     },
     "cd72b22a7e674ae3819e7a6de0239be4": {
      "model_module": "@jupyter-widgets/base",
      "model_module_version": "1.2.0",
      "model_name": "LayoutModel",
      "state": {}
     },
     "cdf8b42fa7484c6383d8da8e3ddaf547": {
      "model_module": "jupyter-leaflet",
      "model_module_version": "^0.14.0",
      "model_name": "LeafletAwesomeIconModel",
      "state": {
       "_model_module_version": "^0.14.0",
       "_view_module_version": "^0.14.0",
       "icon_color": "white",
       "name": "life-ring"
      }
     },
     "cee856d9327246f1bbd5bbdf84e879d5": {
      "model_module": "@jupyter-widgets/controls",
      "model_module_version": "1.5.0",
      "model_name": "DescriptionStyleModel",
      "state": {
       "description_width": ""
      }
     },
     "cefe307eb8a44572b927594be899f092": {
      "model_module": "@jupyter-widgets/controls",
      "model_module_version": "1.5.0",
      "model_name": "DescriptionStyleModel",
      "state": {
       "description_width": ""
      }
     },
     "cf6fe94529134085b9570c7fb4793879": {
      "model_module": "jupyter-leaflet",
      "model_module_version": "^0.14.0",
      "model_name": "LeafletMarkerModel",
      "state": {
       "_model_module_version": "^0.14.0",
       "_view_module_version": "^0.14.0",
       "icon": "IPY_MODEL_2d80f1c402944f7aad980a3f4552a20f",
       "location": [
        44.52897,
        -125.38966
       ],
       "options": [
        "alt",
        "draggable",
        "keyboard",
        "rise_offset",
        "rise_on_hover",
        "rotation_angle",
        "rotation_origin",
        "title",
        "z_index_offset"
       ],
       "popup": "IPY_MODEL_212009cea390457899b1ab5f4b1c019d"
      }
     },
     "d044f59ff5b14a108ddf2fd246f590a4": {
      "model_module": "@jupyter-widgets/controls",
      "model_module_version": "1.5.0",
      "model_name": "DescriptionStyleModel",
      "state": {
       "description_width": ""
      }
     },
     "d0cec5ab52304ae9b773bd4b534edc1e": {
      "model_module": "@jupyter-widgets/controls",
      "model_module_version": "1.5.0",
      "model_name": "HTMLModel",
      "state": {
       "layout": "IPY_MODEL_aafb4e6331f54eb68e4916ac2925e4a9",
       "style": "IPY_MODEL_338b38a5e98a4893baee958ce27ce000",
       "value": "<table border=\"1\" class=\"dataframe table table-striped table-hover table-condensed table-responsive\">\n  <thead>\n    <tr style=\"text-align: right;\">\n      <th></th>\n      <th>5</th>\n    </tr>\n  </thead>\n  <tbody>\n    <tr>\n      <th>Institution</th>\n      <td>Ocean Observatories Initiative (OOI)</td>\n    </tr>\n    <tr>\n      <th>Dataset ID</th>\n      <td>ooi-ce01issm-mfd37-03-ctdbpc000</td>\n    </tr>\n  </tbody>\n</table>"
      }
     },
     "d113f4dec824480a815d9bd0fa0113a1": {
      "model_module": "jupyter-leaflet",
      "model_module_version": "^0.14.0",
      "model_name": "LeafletAwesomeIconModel",
      "state": {
       "_model_module_version": "^0.14.0",
       "_view_module_version": "^0.14.0",
       "icon_color": "white",
       "name": "life-ring"
      }
     },
     "d1cff6656cc74062b0acbb85736d8f22": {
      "model_module": "jupyter-leaflet",
      "model_module_version": "^0.14.0",
      "model_name": "LeafletMarkerModel",
      "state": {
       "_model_module_version": "^0.14.0",
       "_view_module_version": "^0.14.0",
       "icon": "IPY_MODEL_99eabbc34ca846debb5374663f09c4ac",
       "location": [
        46.98648,
        -124.56923
       ],
       "options": [
        "alt",
        "draggable",
        "keyboard",
        "rise_offset",
        "rise_on_hover",
        "rotation_angle",
        "rotation_origin",
        "title",
        "z_index_offset"
       ],
       "popup": "IPY_MODEL_4ea3edfc6ee144e5bba11112ab0225e7"
      }
     },
     "d24bb16c80ba45b88a7889bf9e03428f": {
      "model_module": "@jupyter-widgets/base",
      "model_module_version": "1.2.0",
      "model_name": "LayoutModel",
      "state": {}
     },
     "d299d118fe324d018ca0b0620287059c": {
      "model_module": "jupyter-leaflet",
      "model_module_version": "^0.14.0",
      "model_name": "LeafletAwesomeIconModel",
      "state": {
       "_model_module_version": "^0.14.0",
       "_view_module_version": "^0.14.0",
       "icon_color": "white",
       "marker_color": "orange",
       "name": "life-ring"
      }
     },
     "d322222a5d1f4db7863efb99aaa4cf3a": {
      "model_module": "@jupyter-widgets/controls",
      "model_module_version": "1.5.0",
      "model_name": "DescriptionStyleModel",
      "state": {
       "description_width": ""
      }
     },
     "d324a022377a4e6ba40c2fcdf6619510": {
      "model_module": "@jupyter-widgets/base",
      "model_module_version": "1.2.0",
      "model_name": "LayoutModel",
      "state": {}
     },
     "d39b29ff0adf4773aa02dbf8735d068d": {
      "model_module": "@jupyter-widgets/controls",
      "model_module_version": "1.5.0",
      "model_name": "DescriptionStyleModel",
      "state": {
       "description_width": ""
      }
     },
     "d3f10d5749524bd9a7632b1e8dc8a38f": {
      "model_module": "@jupyter-widgets/controls",
      "model_module_version": "1.5.0",
      "model_name": "DescriptionStyleModel",
      "state": {
       "description_width": ""
      }
     },
     "d41034cf0a8644b8afbd18760ad8d659": {
      "model_module": "jupyter-leaflet",
      "model_module_version": "^0.14.0",
      "model_name": "LeafletMarkerModel",
      "state": {
       "_model_module_version": "^0.14.0",
       "_view_module_version": "^0.14.0",
       "icon": "IPY_MODEL_a94c619bb8704d07a6bd57c891f4533a",
       "location": [
        47.35,
        -124.73
       ],
       "options": [
        "alt",
        "draggable",
        "keyboard",
        "rise_offset",
        "rise_on_hover",
        "rotation_angle",
        "rotation_origin",
        "title",
        "z_index_offset"
       ],
       "popup": "IPY_MODEL_d70b2f6f4a0d44d7af1e56905ee802b1"
      }
     },
     "d42465db9a1346d2a0761d1d9d3479a2": {
      "model_module": "jupyter-leaflet",
      "model_module_version": "^0.14.0",
      "model_name": "LeafletMarkerModel",
      "state": {
       "_model_module_version": "^0.14.0",
       "_view_module_version": "^0.14.0",
       "icon": "IPY_MODEL_926a75beba404f8b9d5e3aa83a5241b2",
       "location": [
        45.5544,
        -123.9189
       ],
       "options": [
        "alt",
        "draggable",
        "keyboard",
        "rise_offset",
        "rise_on_hover",
        "rotation_angle",
        "rotation_origin",
        "title",
        "z_index_offset"
       ],
       "popup": "IPY_MODEL_0793338956ad45df90e8c71d9ea42124"
      }
     },
     "d48fc5c8cb82421c9467be1bae9b3ff9": {
      "model_module": "@jupyter-widgets/base",
      "model_module_version": "1.2.0",
      "model_name": "LayoutModel",
      "state": {}
     },
     "d4e3a576fe3b43ebbedab278b2e9d6a9": {
      "model_module": "@jupyter-widgets/controls",
      "model_module_version": "1.5.0",
      "model_name": "DescriptionStyleModel",
      "state": {
       "description_width": ""
      }
     },
     "d50113891884472390fe5315ad1f7ed1": {
      "model_module": "jupyter-leaflet",
      "model_module_version": "^0.14.0",
      "model_name": "LeafletAwesomeIconModel",
      "state": {
       "_model_module_version": "^0.14.0",
       "_view_module_version": "^0.14.0",
       "icon_color": "white",
       "marker_color": "orange",
       "name": "life-ring"
      }
     },
     "d573c2d04c8045a6a4f598feea3b9913": {
      "model_module": "@jupyter-widgets/controls",
      "model_module_version": "1.5.0",
      "model_name": "HTMLModel",
      "state": {
       "layout": "IPY_MODEL_6e017b364ed94c928126790d145b4b9e",
       "style": "IPY_MODEL_58c7f352530141909d9263f2b73f3179",
       "value": "<table border=\"1\" class=\"dataframe table table-striped table-hover table-condensed table-responsive\">\n  <thead>\n    <tr style=\"text-align: right;\">\n      <th></th>\n      <th>42</th>\n    </tr>\n  </thead>\n  <tbody>\n    <tr>\n      <th>Institution</th>\n      <td>Ocean Observatories Initiative (OOI)</td>\n    </tr>\n    <tr>\n      <th>Dataset ID</th>\n      <td>ooi-ce09ossm-rid27-03-ctdbpc000</td>\n    </tr>\n  </tbody>\n</table>"
      }
     },
     "d5885da622ad4f67aa72572aacfa8f71": {
      "model_module": "jupyter-leaflet",
      "model_module_version": "^0.14.0",
      "model_name": "LeafletAwesomeIconModel",
      "state": {
       "_model_module_version": "^0.14.0",
       "_view_module_version": "^0.14.0",
       "icon_color": "white",
       "marker_color": "orange",
       "name": "life-ring"
      }
     },
     "d59fded7cd784d3a823d75d5c3b5c8ef": {
      "model_module": "jupyter-leaflet",
      "model_module_version": "^0.14.0",
      "model_name": "LeafletAwesomeIconModel",
      "state": {
       "_model_module_version": "^0.14.0",
       "_view_module_version": "^0.14.0",
       "icon_color": "white",
       "name": "life-ring"
      }
     },
     "d5c6c961c4bf420b9447be87d7c255c0": {
      "model_module": "jupyter-leaflet",
      "model_module_version": "^0.14.0",
      "model_name": "LeafletMarkerModel",
      "state": {
       "_model_module_version": "^0.14.0",
       "_view_module_version": "^0.14.0",
       "icon": "IPY_MODEL_346cb7af1d5646a7a86db8121ef523ff",
       "location": [
        44.6,
        -124.3
       ],
       "options": [
        "alt",
        "draggable",
        "keyboard",
        "rise_offset",
        "rise_on_hover",
        "rotation_angle",
        "rotation_origin",
        "title",
        "z_index_offset"
       ],
       "popup": "IPY_MODEL_40f1ed53b3394e56a5dedbf7fcfb0b2e"
      }
     },
     "d5f4dcd3bb55453f9c8e7e5e458cd6c9": {
      "model_module": "jupyter-leaflet",
      "model_module_version": "^0.14.0",
      "model_name": "LeafletMarkerModel",
      "state": {
       "_model_module_version": "^0.14.0",
       "_view_module_version": "^0.14.0",
       "icon": "IPY_MODEL_f250779a27fe4ba18f5fce5a7f99015a",
       "location": [
        46.85367,
        -124.95935
       ],
       "options": [
        "alt",
        "draggable",
        "keyboard",
        "rise_offset",
        "rise_on_hover",
        "rotation_angle",
        "rotation_origin",
        "title",
        "z_index_offset"
       ],
       "popup": "IPY_MODEL_d6debe02c92742149714733b1cb8bac9"
      }
     },
     "d64d8738680b461ab57f8cae2af56762": {
      "model_module": "@jupyter-widgets/base",
      "model_module_version": "1.2.0",
      "model_name": "LayoutModel",
      "state": {}
     },
     "d6debe02c92742149714733b1cb8bac9": {
      "model_module": "@jupyter-widgets/controls",
      "model_module_version": "1.5.0",
      "model_name": "HTMLModel",
      "state": {
       "layout": "IPY_MODEL_d48fc5c8cb82421c9467be1bae9b3ff9",
       "style": "IPY_MODEL_2b0c0dad11cf416d897a6c46a8213c94",
       "value": "<table border=\"1\" class=\"dataframe table table-striped table-hover table-condensed table-responsive\">\n  <thead>\n    <tr style=\"text-align: right;\">\n      <th></th>\n      <th>42</th>\n    </tr>\n  </thead>\n  <tbody>\n    <tr>\n      <th>Institution</th>\n      <td>Ocean Observatories Initiative (OOI)</td>\n    </tr>\n    <tr>\n      <th>Dataset ID</th>\n      <td>ooi-ce09ossm-rid27-03-ctdbpc000</td>\n    </tr>\n  </tbody>\n</table>"
      }
     },
     "d70b2f6f4a0d44d7af1e56905ee802b1": {
      "model_module": "@jupyter-widgets/controls",
      "model_module_version": "1.5.0",
      "model_name": "HTMLModel",
      "state": {
       "layout": "IPY_MODEL_2887745f7f494bd1bcf4f11b0e1e9401",
       "style": "IPY_MODEL_3add10dcd54b4da4ad31f22cc7535dd1",
       "value": "<table border=\"1\" class=\"dataframe table table-striped table-hover table-condensed table-responsive\">\n  <thead>\n    <tr style=\"text-align: right;\">\n      <th></th>\n      <th>71</th>\n    </tr>\n  </thead>\n  <tbody>\n    <tr>\n      <th>Institution</th>\n      <td>NOAA Pacific Marine Environmental Lab (PMEL)</td>\n    </tr>\n    <tr>\n      <th>Dataset ID</th>\n      <td>gov_ornl_cdiac_wa_125w_47n</td>\n    </tr>\n  </tbody>\n</table>"
      }
     },
     "d7cf5a0a642f4398ab004459aa09b608": {
      "model_module": "@jupyter-widgets/controls",
      "model_module_version": "1.5.0",
      "model_name": "DescriptionStyleModel",
      "state": {
       "description_width": ""
      }
     },
     "d83ed97341664545874455454ec554ed": {
      "model_module": "jupyter-leaflet",
      "model_module_version": "^0.14.0",
      "model_name": "LeafletMarkerModel",
      "state": {
       "_model_module_version": "^0.14.0",
       "_view_module_version": "^0.14.0",
       "icon": "IPY_MODEL_3cb12115b65f40acbaa1406d9d4a7f6f",
       "location": [
        47.1345,
        -124.27087
       ],
       "options": [
        "alt",
        "draggable",
        "keyboard",
        "rise_offset",
        "rise_on_hover",
        "rotation_angle",
        "rotation_origin",
        "title",
        "z_index_offset"
       ],
       "popup": "IPY_MODEL_2841d24687214e14a5ede09a7037bf66"
      }
     },
     "d8605685768b4966801794f1fcc23ab5": {
      "model_module": "@jupyter-widgets/base",
      "model_module_version": "1.2.0",
      "model_name": "LayoutModel",
      "state": {}
     },
     "d8be70c0a47e4500a072634304e30156": {
      "model_module": "@jupyter-widgets/controls",
      "model_module_version": "1.5.0",
      "model_name": "HTMLModel",
      "state": {
       "layout": "IPY_MODEL_6f10fa38b5d44e59872b49e8c86275f3",
       "style": "IPY_MODEL_63f367f807524636b93539f032f82afb",
       "value": "<table border=\"1\" class=\"dataframe table table-striped table-hover table-condensed table-responsive\">\n  <thead>\n    <tr style=\"text-align: right;\">\n      <th></th>\n      <th>30</th>\n    </tr>\n  </thead>\n  <tbody>\n    <tr>\n      <th>Institution</th>\n      <td>Ocean Observatories Initiative (OOI)</td>\n    </tr>\n    <tr>\n      <th>Dataset ID</th>\n      <td>ooi-ce02shsm-sbd12-04-pco2aa000</td>\n    </tr>\n  </tbody>\n</table>"
      }
     },
     "d8c201fb51ed4dea9b03e40bd746ad43": {
      "model_module": "@jupyter-widgets/base",
      "model_module_version": "1.2.0",
      "model_name": "LayoutModel",
      "state": {}
     },
     "d93ca16131cb444391317dff04f001e4": {
      "model_module": "jupyter-leaflet",
      "model_module_version": "^0.14.0",
      "model_name": "LeafletMarkerModel",
      "state": {
       "_model_module_version": "^0.14.0",
       "_view_module_version": "^0.14.0",
       "icon": "IPY_MODEL_f32e09a887f1468db5d337b8cfd045c9",
       "location": [
        47.1345,
        -124.27087
       ],
       "options": [
        "alt",
        "draggable",
        "keyboard",
        "rise_offset",
        "rise_on_hover",
        "rotation_angle",
        "rotation_origin",
        "title",
        "z_index_offset"
       ],
       "popup": "IPY_MODEL_d96cd57395e24a12923aec2350afdd8c"
      }
     },
     "d96cd57395e24a12923aec2350afdd8c": {
      "model_module": "@jupyter-widgets/controls",
      "model_module_version": "1.5.0",
      "model_name": "HTMLModel",
      "state": {
       "layout": "IPY_MODEL_ec6df6cdc7f442ddad296f5b2d7fab44",
       "style": "IPY_MODEL_0355f1efea444136a8eff7dce142d523",
       "value": "<table border=\"1\" class=\"dataframe table table-striped table-hover table-condensed table-responsive\">\n  <thead>\n    <tr style=\"text-align: right;\">\n      <th></th>\n      <th>37</th>\n    </tr>\n  </thead>\n  <tbody>\n    <tr>\n      <th>Institution</th>\n      <td>Ocean Observatories Initiative (OOI)</td>\n    </tr>\n    <tr>\n      <th>Dataset ID</th>\n      <td>ooi-ce06issm-mfd37-03-dostad000</td>\n    </tr>\n  </tbody>\n</table>"
      }
     },
     "d971e92dddf546afaedf925f1fd4aaa1": {
      "model_module": "jupyter-leaflet",
      "model_module_version": "^0.14.0",
      "model_name": "LeafletAwesomeIconModel",
      "state": {
       "_model_module_version": "^0.14.0",
       "_view_module_version": "^0.14.0",
       "icon_color": "white",
       "marker_color": "orange",
       "name": "life-ring"
      }
     },
     "d98dd62bf5514ab1990596527a0fd553": {
      "model_module": "@jupyter-widgets/controls",
      "model_module_version": "1.5.0",
      "model_name": "HTMLModel",
      "state": {
       "layout": "IPY_MODEL_6798715d8ca1409cb06ae794c84553bc",
       "style": "IPY_MODEL_d7cf5a0a642f4398ab004459aa09b608",
       "value": "<table border=\"1\" class=\"dataframe table table-striped table-hover table-condensed table-responsive\">\n  <thead>\n    <tr style=\"text-align: right;\">\n      <th></th>\n      <th>10</th>\n    </tr>\n  </thead>\n  <tbody>\n    <tr>\n      <th>Institution</th>\n      <td>Ocean Observatories Initiative (OOI)</td>\n    </tr>\n    <tr>\n      <th>Dataset ID</th>\n      <td>ooi-ce04osbp-lj01c-06-ctdbpo108</td>\n    </tr>\n  </tbody>\n</table>"
      }
     },
     "d9cfc2adbcb34251a43f19415d63e2d2": {
      "model_module": "jupyter-leaflet",
      "model_module_version": "^0.14.0",
      "model_name": "LeafletMarkerModel",
      "state": {
       "_model_module_version": "^0.14.0",
       "_view_module_version": "^0.14.0",
       "icon": "IPY_MODEL_cc9aedf51e3640f2aa65e83ca569b3a8",
       "location": [
        46.85367,
        -124.95935
       ],
       "options": [
        "alt",
        "draggable",
        "keyboard",
        "rise_offset",
        "rise_on_hover",
        "rotation_angle",
        "rotation_origin",
        "title",
        "z_index_offset"
       ],
       "popup": "IPY_MODEL_89cc5bffc3624b5f913d6d6c7a0d1ee8"
      }
     },
     "d9db90d3b9a64ac08867d2c4af8552c5": {
      "model_module": "jupyter-leaflet",
      "model_module_version": "^0.14.0",
      "model_name": "LeafletAwesomeIconModel",
      "state": {
       "_model_module_version": "^0.14.0",
       "_view_module_version": "^0.14.0",
       "icon_color": "white",
       "marker_color": "orange",
       "name": "life-ring"
      }
     },
     "da029342e08a4366bb4bc9dc933a9a49": {
      "model_module": "@jupyter-widgets/controls",
      "model_module_version": "1.5.0",
      "model_name": "DescriptionStyleModel",
      "state": {
       "description_width": ""
      }
     },
     "da4e4fe6a1954232aedb4d2d528f45fc": {
      "model_module": "jupyter-leaflet",
      "model_module_version": "^0.14.0",
      "model_name": "LeafletMarkerModel",
      "state": {
       "_model_module_version": "^0.14.0",
       "_view_module_version": "^0.14.0",
       "icon": "IPY_MODEL_022607fca4174368b0b43d21c61d8c9f",
       "location": [
        44.37415,
        -124.95648
       ],
       "options": [
        "alt",
        "draggable",
        "keyboard",
        "rise_offset",
        "rise_on_hover",
        "rotation_angle",
        "rotation_origin",
        "title",
        "z_index_offset"
       ],
       "popup": "IPY_MODEL_ac2347c0b606419e84644461e9d8c832"
      }
     },
     "da5c7bd873de4fd9a13208048e5cf20c": {
      "model_module": "@jupyter-widgets/base",
      "model_module_version": "1.2.0",
      "model_name": "LayoutModel",
      "state": {}
     },
     "db0f479fc490459a83b28d1e2771a486": {
      "model_module": "@jupyter-widgets/controls",
      "model_module_version": "1.5.0",
      "model_name": "HTMLModel",
      "state": {
       "layout": "IPY_MODEL_979f62ac97014357aa68366c12a31c0b",
       "style": "IPY_MODEL_c4f2cd1075ec4710adea0505ada84bcc",
       "value": "<table border=\"1\" class=\"dataframe table table-striped table-hover table-condensed table-responsive\">\n  <thead>\n    <tr style=\"text-align: right;\">\n      <th></th>\n      <th>63</th>\n    </tr>\n  </thead>\n  <tbody>\n    <tr>\n      <th>Institution</th>\n      <td>Center for Coastal Margin Observation &amp; Prediction</td>\n    </tr>\n    <tr>\n      <th>Dataset ID</th>\n      <td>org_cmop_46096</td>\n    </tr>\n  </tbody>\n</table>"
      }
     },
     "dc5ef83a7e984cf69339e718365a003b": {
      "model_module": "@jupyter-widgets/controls",
      "model_module_version": "1.5.0",
      "model_name": "DescriptionStyleModel",
      "state": {
       "description_width": ""
      }
     },
     "dcda954c33e24f0aaf906314ba248204": {
      "model_module": "jupyter-leaflet",
      "model_module_version": "^0.14.0",
      "model_name": "LeafletAwesomeIconModel",
      "state": {
       "_model_module_version": "^0.14.0",
       "_view_module_version": "^0.14.0",
       "icon_color": "white",
       "marker_color": "orange",
       "name": "life-ring"
      }
     },
     "dce874a742c84876bbd4e7fc1ece82ca": {
      "model_module": "jupyter-leaflet",
      "model_module_version": "^0.14.0",
      "model_name": "LeafletAwesomeIconModel",
      "state": {
       "_model_module_version": "^0.14.0",
       "_view_module_version": "^0.14.0",
       "icon_color": "white",
       "marker_color": "orange",
       "name": "life-ring"
      }
     },
     "dd1c98dbd27d4d3a892b2f437633853b": {
      "model_module": "@jupyter-widgets/controls",
      "model_module_version": "1.5.0",
      "model_name": "DescriptionStyleModel",
      "state": {
       "description_width": ""
      }
     },
     "dd24b09fc4f14472b8c0b9258d4f0306": {
      "model_module": "jupyter-leaflet",
      "model_module_version": "^0.14.0",
      "model_name": "LeafletMarkerModel",
      "state": {
       "_model_module_version": "^0.14.0",
       "_view_module_version": "^0.14.0",
       "icon": "IPY_MODEL_0e1ba6a13357428fafd0a67cb5dad4e3",
       "location": [
        46.851,
        -124.972
       ],
       "options": [
        "alt",
        "draggable",
        "keyboard",
        "rise_offset",
        "rise_on_hover",
        "rotation_angle",
        "rotation_origin",
        "title",
        "z_index_offset"
       ],
       "popup": "IPY_MODEL_91e1dc5a9c414da085f7c7a6ad3e6d22"
      }
     },
     "dd5d3ead7f1d49ee97bc13668f17c07b": {
      "model_module": "jupyter-leaflet",
      "model_module_version": "^0.14.0",
      "model_name": "LeafletAwesomeIconModel",
      "state": {
       "_model_module_version": "^0.14.0",
       "_view_module_version": "^0.14.0",
       "icon_color": "white",
       "marker_color": "orange",
       "name": "life-ring"
      }
     },
     "dd6c36cf6ea142de99f5f7da48aad95e": {
      "model_module": "jupyter-leaflet",
      "model_module_version": "^0.14.0",
      "model_name": "LeafletMarkerModel",
      "state": {
       "_model_module_version": "^0.14.0",
       "_view_module_version": "^0.14.0",
       "icon": "IPY_MODEL_0f230c4b6ce846359d4d6f409b6495bc",
       "location": [
        46.98648,
        -124.56923
       ],
       "options": [
        "alt",
        "draggable",
        "keyboard",
        "rise_offset",
        "rise_on_hover",
        "rotation_angle",
        "rotation_origin",
        "title",
        "z_index_offset"
       ],
       "popup": "IPY_MODEL_67605950662847ef8147bfd0ac4e6964"
      }
     },
     "ddc7094b71ea42f396f462a7931339b4": {
      "model_module": "jupyter-leaflet",
      "model_module_version": "^0.14.0",
      "model_name": "LeafletAwesomeIconModel",
      "state": {
       "_model_module_version": "^0.14.0",
       "_view_module_version": "^0.14.0",
       "icon_color": "white",
       "marker_color": "orange",
       "name": "life-ring"
      }
     },
     "ddcfbb756dff46b9bcfdc1e44f55b2ab": {
      "model_module": "@jupyter-widgets/controls",
      "model_module_version": "1.5.0",
      "model_name": "DescriptionStyleModel",
      "state": {
       "description_width": ""
      }
     },
     "de913d32546c478491753b1f560b3846": {
      "model_module": "jupyter-leaflet",
      "model_module_version": "^0.14.0",
      "model_name": "LeafletMarkerModel",
      "state": {
       "_model_module_version": "^0.14.0",
       "_view_module_version": "^0.14.0",
       "icon": "IPY_MODEL_97812b649e004dd9a6f2c4ac02590f22",
       "location": [
        47,
        -124.6
       ],
       "options": [
        "alt",
        "draggable",
        "keyboard",
        "rise_offset",
        "rise_on_hover",
        "rotation_angle",
        "rotation_origin",
        "title",
        "z_index_offset"
       ],
       "popup": "IPY_MODEL_a8d142e106d34992a9a6a45965127d78"
      }
     },
     "de96ccce1eb74966819e7461ea06e857": {
      "model_module": "@jupyter-widgets/controls",
      "model_module_version": "1.5.0",
      "model_name": "HTMLModel",
      "state": {
       "layout": "IPY_MODEL_c664a71ac3874b3a9adc6688df5d1f25",
       "style": "IPY_MODEL_a1aeec1585034fb29cf8e3eeca8b801a",
       "value": "<table border=\"1\" class=\"dataframe table table-striped table-hover table-condensed table-responsive\">\n  <thead>\n    <tr style=\"text-align: right;\">\n      <th></th>\n      <th>0</th>\n    </tr>\n  </thead>\n  <tbody>\n    <tr>\n      <th>Institution</th>\n      <td>Ocean Observatories Initiative (OOI)</td>\n    </tr>\n    <tr>\n      <th>Dataset ID</th>\n      <td>ooi-ce01issm-rid16-02-flortd000</td>\n    </tr>\n  </tbody>\n</table>"
      }
     },
     "df67126acef44fc4892dec643f25964d": {
      "model_module": "jupyter-leaflet",
      "model_module_version": "^0.14.0",
      "model_name": "LeafletAwesomeIconModel",
      "state": {
       "_model_module_version": "^0.14.0",
       "_view_module_version": "^0.14.0",
       "icon_color": "white",
       "name": "life-ring"
      }
     },
     "df72b93cdbdd4b3a97ed77444991a083": {
      "model_module": "@jupyter-widgets/controls",
      "model_module_version": "1.5.0",
      "model_name": "HTMLModel",
      "state": {
       "layout": "IPY_MODEL_a847ba6adea54972abaf63237c19489c",
       "style": "IPY_MODEL_165432891a5c49f0a0849c7e84c84c98",
       "value": "<table border=\"1\" class=\"dataframe table table-striped table-hover table-condensed table-responsive\">\n  <thead>\n    <tr style=\"text-align: right;\">\n      <th></th>\n      <th>52</th>\n    </tr>\n  </thead>\n  <tbody>\n    <tr>\n      <th>Institution</th>\n      <td>Ocean Observatories Initiative (OOI)</td>\n    </tr>\n    <tr>\n      <th>Dataset ID</th>\n      <td>ooi-ce07shsm-rid27-04-dostad000</td>\n    </tr>\n  </tbody>\n</table>"
      }
     },
     "e02e6a67f3944d36ab0b7b7a39efe14a": {
      "model_module": "jupyter-leaflet",
      "model_module_version": "^0.14.0",
      "model_name": "LeafletAwesomeIconModel",
      "state": {
       "_model_module_version": "^0.14.0",
       "_view_module_version": "^0.14.0",
       "icon_color": "white",
       "name": "life-ring"
      }
     },
     "e0774351ae7b4b50a63152befe58b23e": {
      "model_module": "@jupyter-widgets/controls",
      "model_module_version": "1.5.0",
      "model_name": "HTMLModel",
      "state": {
       "layout": "IPY_MODEL_53da6754ee0d44df9ed47dec59d978f5",
       "style": "IPY_MODEL_a98a61641b42459abdc6fdcbbc5be65e",
       "value": "<table border=\"1\" class=\"dataframe table table-striped table-hover table-condensed table-responsive\">\n  <thead>\n    <tr style=\"text-align: right;\">\n      <th></th>\n      <th>40</th>\n    </tr>\n  </thead>\n  <tbody>\n    <tr>\n      <th>Institution</th>\n      <td>Ocean Observatories Initiative (OOI)</td>\n    </tr>\n    <tr>\n      <th>Dataset ID</th>\n      <td>ooi-ce06issm-sbd17-06-ctdbpc000</td>\n    </tr>\n  </tbody>\n</table>"
      }
     },
     "e139c2016f984d669093dd7679e9ea00": {
      "model_module": "@jupyter-widgets/base",
      "model_module_version": "1.2.0",
      "model_name": "LayoutModel",
      "state": {}
     },
     "e15228ea30a04a66b4bff6b9017e4315": {
      "model_module": "jupyter-leaflet",
      "model_module_version": "^0.14.0",
      "model_name": "LeafletAwesomeIconModel",
      "state": {
       "_model_module_version": "^0.14.0",
       "_view_module_version": "^0.14.0",
       "icon_color": "white",
       "marker_color": "orange",
       "name": "life-ring"
      }
     },
     "e17f875765b54ce7a9cd715cb55b9f8b": {
      "model_module": "@jupyter-widgets/controls",
      "model_module_version": "1.5.0",
      "model_name": "HTMLModel",
      "state": {
       "layout": "IPY_MODEL_d24bb16c80ba45b88a7889bf9e03428f",
       "style": "IPY_MODEL_396296fbc8b34765a7c1982a9df8a75d",
       "value": "<table border=\"1\" class=\"dataframe table table-striped table-hover table-condensed table-responsive\">\n  <thead>\n    <tr style=\"text-align: right;\">\n      <th></th>\n      <th>48</th>\n    </tr>\n  </thead>\n  <tbody>\n    <tr>\n      <th>Institution</th>\n      <td>Ocean Observatories Initiative (OOI)</td>\n    </tr>\n    <tr>\n      <th>Dataset ID</th>\n      <td>ooi-ce09ossm-sbd11-06-metbka000</td>\n    </tr>\n  </tbody>\n</table>"
      }
     },
     "e22350480e1f497799cbb9c05c257a63": {
      "model_module": "jupyter-leaflet",
      "model_module_version": "^0.14.0",
      "model_name": "LeafletAwesomeIconModel",
      "state": {
       "_model_module_version": "^0.14.0",
       "_view_module_version": "^0.14.0",
       "icon_color": "white",
       "marker_color": "orange",
       "name": "life-ring"
      }
     },
     "e2364e080bb94761b3d63431f7e3d89a": {
      "model_module": "@jupyter-widgets/controls",
      "model_module_version": "1.5.0",
      "model_name": "DescriptionStyleModel",
      "state": {
       "description_width": ""
      }
     },
     "e290d8ef141f47e4a7e91d97c2d8a566": {
      "model_module": "@jupyter-widgets/controls",
      "model_module_version": "1.5.0",
      "model_name": "HTMLModel",
      "state": {
       "layout": "IPY_MODEL_9c345610220b4e1a8c5f39d78eb68708",
       "style": "IPY_MODEL_4fd06cac938e45c98ff5e52a37d40288",
       "value": "<table border=\"1\" class=\"dataframe table table-striped table-hover table-condensed table-responsive\">\n  <thead>\n    <tr style=\"text-align: right;\">\n      <th></th>\n      <th>45</th>\n    </tr>\n  </thead>\n  <tbody>\n    <tr>\n      <th>Institution</th>\n      <td>Ocean Observatories Initiative (OOI)</td>\n    </tr>\n    <tr>\n      <th>Dataset ID</th>\n      <td>ooi-ce09ossm-rid26-06-phsend000</td>\n    </tr>\n  </tbody>\n</table>"
      }
     },
     "e2a44da908064c2395c4bb0d017b4a52": {
      "model_module": "@jupyter-widgets/base",
      "model_module_version": "1.2.0",
      "model_name": "LayoutModel",
      "state": {}
     },
     "e2b561c5acbf4b36a4b797dc0a3c733e": {
      "model_module": "@jupyter-widgets/controls",
      "model_module_version": "1.5.0",
      "model_name": "HTMLModel",
      "state": {
       "layout": "IPY_MODEL_4e6985cc39834643a1bed646bf8ade32",
       "style": "IPY_MODEL_8f80fdd19dd146c0bd02540052e1931d",
       "value": "<table border=\"1\" class=\"dataframe table table-striped table-hover table-condensed table-responsive\">\n  <thead>\n    <tr style=\"text-align: right;\">\n      <th></th>\n      <th>77</th>\n    </tr>\n  </thead>\n  <tbody>\n    <tr>\n      <th>Institution</th>\n      <td>Northwest Association of Networked Ocean Observing Systems (NANOOS)</td>\n    </tr>\n    <tr>\n      <th>Dataset ID</th>\n      <td>nanoos_psi_nahcotta</td>\n    </tr>\n  </tbody>\n</table>"
      }
     },
     "e2bc74ab2a174de9b8c51c5b9a3acdad": {
      "model_module": "jupyter-leaflet",
      "model_module_version": "^0.14.0",
      "model_name": "LeafletMarkerModel",
      "state": {
       "_model_module_version": "^0.14.0",
       "_view_module_version": "^0.14.0",
       "icon": "IPY_MODEL_bf86d8cfa1cd4b93a3612e1b441a62f1",
       "location": [
        44.37868,
        -124.94508
       ],
       "options": [
        "alt",
        "draggable",
        "keyboard",
        "rise_offset",
        "rise_on_hover",
        "rotation_angle",
        "rotation_origin",
        "title",
        "z_index_offset"
       ],
       "popup": "IPY_MODEL_b9f948119e1243fb8fd187d0346a858d"
      }
     },
     "e32aa61c8de444fe88a44232daf9bc48": {
      "model_module": "@jupyter-widgets/controls",
      "model_module_version": "1.5.0",
      "model_name": "HTMLModel",
      "state": {
       "layout": "IPY_MODEL_2e7cfdaeeab84292829709e278612f7a",
       "style": "IPY_MODEL_2a6ef40f09574366adb4cd93192feb75",
       "value": "<table border=\"1\" class=\"dataframe table table-striped table-hover table-condensed table-responsive\">\n  <thead>\n    <tr style=\"text-align: right;\">\n      <th></th>\n      <th>22</th>\n    </tr>\n  </thead>\n  <tbody>\n    <tr>\n      <th>Institution</th>\n      <td>Ocean Observatories Initiative (OOI)</td>\n    </tr>\n    <tr>\n      <th>Dataset ID</th>\n      <td>ooi-ce02shbp-lj01d-06-ctdbpn106</td>\n    </tr>\n  </tbody>\n</table>"
      }
     },
     "e333ca75cd7643d098371f65c506b718": {
      "model_module": "@jupyter-widgets/controls",
      "model_module_version": "1.5.0",
      "model_name": "DescriptionStyleModel",
      "state": {
       "description_width": ""
      }
     },
     "e34c3c4b747a492187713e2df1bdd0e0": {
      "model_module": "jupyter-leaflet",
      "model_module_version": "^0.14.0",
      "model_name": "LeafletMarkerModel",
      "state": {
       "_model_module_version": "^0.14.0",
       "_view_module_version": "^0.14.0",
       "icon": "IPY_MODEL_9cb6cd87bf84467aa909bcf8f405403c",
       "location": [
        44.65678,
        -124.09707
       ],
       "options": [
        "alt",
        "draggable",
        "keyboard",
        "rise_offset",
        "rise_on_hover",
        "rotation_angle",
        "rotation_origin",
        "title",
        "z_index_offset"
       ],
       "popup": "IPY_MODEL_30ada9090ca442a597b20972c471a419"
      }
     },
     "e35003e5568e4f789610621f94c3a80d": {
      "model_module": "jupyter-leaflet",
      "model_module_version": "^0.14.0",
      "model_name": "LeafletMarkerModel",
      "state": {
       "_model_module_version": "^0.14.0",
       "_view_module_version": "^0.14.0",
       "icon": "IPY_MODEL_66108b623b714473986660eacc2359ea",
       "location": [
        44.65678,
        -124.09707
       ],
       "options": [
        "alt",
        "draggable",
        "keyboard",
        "rise_offset",
        "rise_on_hover",
        "rotation_angle",
        "rotation_origin",
        "title",
        "z_index_offset"
       ],
       "popup": "IPY_MODEL_d0cec5ab52304ae9b773bd4b534edc1e"
      }
     },
     "e38d8a833be940558cf4cc90b0b769d2": {
      "model_module": "jupyter-leaflet",
      "model_module_version": "^0.14.0",
      "model_name": "LeafletMarkerModel",
      "state": {
       "_model_module_version": "^0.14.0",
       "_view_module_version": "^0.14.0",
       "icon": "IPY_MODEL_d5885da622ad4f67aa72572aacfa8f71",
       "location": [
        44.63577,
        -124.3035
       ],
       "options": [
        "alt",
        "draggable",
        "keyboard",
        "rise_offset",
        "rise_on_hover",
        "rotation_angle",
        "rotation_origin",
        "title",
        "z_index_offset"
       ],
       "popup": "IPY_MODEL_1d585445e1104777ade67d5820a76d6c"
      }
     },
     "e3a40dcb220b49828b08d32a97b3ec53": {
      "model_module": "jupyter-leaflet",
      "model_module_version": "^0.14.0",
      "model_name": "LeafletAwesomeIconModel",
      "state": {
       "_model_module_version": "^0.14.0",
       "_view_module_version": "^0.14.0",
       "icon_color": "white",
       "marker_color": "orange",
       "name": "life-ring"
      }
     },
     "e43e54a5cc9349c7a0047c1197988c5c": {
      "model_module": "@jupyter-widgets/base",
      "model_module_version": "1.2.0",
      "model_name": "LayoutModel",
      "state": {}
     },
     "e4b6a648ff4042b5ae956bd0493ecd5d": {
      "model_module": "jupyter-leaflet",
      "model_module_version": "^0.14.0",
      "model_name": "LeafletAwesomeIconModel",
      "state": {
       "_model_module_version": "^0.14.0",
       "_view_module_version": "^0.14.0",
       "icon_color": "white",
       "marker_color": "orange",
       "name": "life-ring"
      }
     },
     "e4d4da225e8e47b2bca6fb7e59666b7a": {
      "model_module": "@jupyter-widgets/controls",
      "model_module_version": "1.5.0",
      "model_name": "DescriptionStyleModel",
      "state": {
       "description_width": ""
      }
     },
     "e5274820d4404e1bb6a40314457ab80e": {
      "model_module": "@jupyter-widgets/base",
      "model_module_version": "1.2.0",
      "model_name": "LayoutModel",
      "state": {}
     },
     "e53a6d58860a4cfc9c03028ad19307d8": {
      "model_module": "@jupyter-widgets/controls",
      "model_module_version": "1.5.0",
      "model_name": "DescriptionStyleModel",
      "state": {
       "description_width": ""
      }
     },
     "e58c3378f970473dbc014420602b2306": {
      "model_module": "jupyter-leaflet",
      "model_module_version": "^0.14.0",
      "model_name": "LeafletAwesomeIconModel",
      "state": {
       "_model_module_version": "^0.14.0",
       "_view_module_version": "^0.14.0",
       "icon_color": "white",
       "marker_color": "orange",
       "name": "life-ring"
      }
     },
     "e630170b796e437391a0fe3c826b7320": {
      "model_module": "@jupyter-widgets/controls",
      "model_module_version": "1.5.0",
      "model_name": "DescriptionStyleModel",
      "state": {
       "description_width": ""
      }
     },
     "e638dcfba0754a1b96a7ebee7655aa2c": {
      "model_module": "@jupyter-widgets/base",
      "model_module_version": "1.2.0",
      "model_name": "LayoutModel",
      "state": {}
     },
     "e68bc21bcff84789950f8a67bb6ad16d": {
      "model_module": "@jupyter-widgets/controls",
      "model_module_version": "1.5.0",
      "model_name": "DescriptionStyleModel",
      "state": {
       "description_width": ""
      }
     },
     "e6dbb260690344b9ae20bf39754151d9": {
      "model_module": "jupyter-leaflet",
      "model_module_version": "^0.14.0",
      "model_name": "LeafletAwesomeIconModel",
      "state": {
       "_model_module_version": "^0.14.0",
       "_view_module_version": "^0.14.0",
       "icon_color": "white",
       "marker_color": "orange",
       "name": "life-ring"
      }
     },
     "e6eb66eba7474b40b6888d71fde871e8": {
      "model_module": "jupyter-leaflet",
      "model_module_version": "^0.14.0",
      "model_name": "LeafletAwesomeIconModel",
      "state": {
       "_model_module_version": "^0.14.0",
       "_view_module_version": "^0.14.0",
       "icon_color": "white",
       "marker_color": "orange",
       "name": "life-ring"
      }
     },
     "e7cce1a56e54407a959b5f99643cb981": {
      "model_module": "@jupyter-widgets/base",
      "model_module_version": "1.2.0",
      "model_name": "LayoutModel",
      "state": {}
     },
     "e7eaece9b9b24aa6acbc09f170f1d07c": {
      "model_module": "@jupyter-widgets/controls",
      "model_module_version": "1.5.0",
      "model_name": "HTMLModel",
      "state": {
       "layout": "IPY_MODEL_bd33863c4b8542ae8e6e3d14894a4122",
       "style": "IPY_MODEL_4b06e1f39038419e95f2a8d1e3b1f284",
       "value": "<table border=\"1\" class=\"dataframe table table-striped table-hover table-condensed table-responsive\">\n  <thead>\n    <tr style=\"text-align: right;\">\n      <th></th>\n      <th>56</th>\n    </tr>\n  </thead>\n  <tbody>\n    <tr>\n      <th>Institution</th>\n      <td>Ocean Observatories Initiative (OOI)</td>\n    </tr>\n    <tr>\n      <th>Dataset ID</th>\n      <td>ooi-ce07shsm-mfd37-03-dostad000</td>\n    </tr>\n  </tbody>\n</table>"
      }
     },
     "e8349f8adc7548e2adf951f3aceeba8d": {
      "model_module": "@jupyter-widgets/base",
      "model_module_version": "1.2.0",
      "model_name": "LayoutModel",
      "state": {}
     },
     "e8dcce4d5362461c9b68d8305b274207": {
      "model_module": "@jupyter-widgets/base",
      "model_module_version": "1.2.0",
      "model_name": "LayoutModel",
      "state": {}
     },
     "e9716236274742d484d68bfa957ac9f6": {
      "model_module": "jupyter-leaflet",
      "model_module_version": "^0.14.0",
      "model_name": "LeafletMarkerModel",
      "state": {
       "_model_module_version": "^0.14.0",
       "_view_module_version": "^0.14.0",
       "icon": "IPY_MODEL_89f69f24f0ad4d84947cb0f1490b1ab5",
       "location": [
        44.65678,
        -124.09707
       ],
       "options": [
        "alt",
        "draggable",
        "keyboard",
        "rise_offset",
        "rise_on_hover",
        "rotation_angle",
        "rotation_origin",
        "title",
        "z_index_offset"
       ],
       "popup": "IPY_MODEL_47e389d8c25540439543dd971d758013"
      }
     },
     "e97d1a518ee84d2db9085fcedaae76a5": {
      "model_module": "jupyter-leaflet",
      "model_module_version": "^0.14.0",
      "model_name": "LeafletAwesomeIconModel",
      "state": {
       "_model_module_version": "^0.14.0",
       "_view_module_version": "^0.14.0",
       "icon_color": "white",
       "marker_color": "orange",
       "name": "life-ring"
      }
     },
     "e9c0fa7e443646ca8915c55bbe110704": {
      "model_module": "@jupyter-widgets/controls",
      "model_module_version": "1.5.0",
      "model_name": "DescriptionStyleModel",
      "state": {
       "description_width": ""
      }
     },
     "eb7bb0e67cd14844ac2ccebccdc9ac23": {
      "model_module": "jupyter-leaflet",
      "model_module_version": "^0.14.0",
      "model_name": "LeafletMarkerModel",
      "state": {
       "_model_module_version": "^0.14.0",
       "_view_module_version": "^0.14.0",
       "icon": "IPY_MODEL_2aaeff64713b439a8bd162bdaa960780",
       "location": [
        47.1345,
        -124.27087
       ],
       "options": [
        "alt",
        "draggable",
        "keyboard",
        "rise_offset",
        "rise_on_hover",
        "rotation_angle",
        "rotation_origin",
        "title",
        "z_index_offset"
       ],
       "popup": "IPY_MODEL_ab88d6fb19c34c8986da9b1223b0dfa7"
      }
     },
     "ebc891354dd046cd89e9bd2fc22d90c1": {
      "model_module": "jupyter-leaflet",
      "model_module_version": "^0.14.0",
      "model_name": "LeafletZoomControlModel",
      "state": {
       "_model_module_version": "^0.14.0",
       "_view_module_version": "^0.14.0",
       "options": [
        "position",
        "zoom_in_text",
        "zoom_in_title",
        "zoom_out_text",
        "zoom_out_title"
       ]
      }
     },
     "ebe499337cae4db986be39d8aa9051ac": {
      "model_module": "@jupyter-widgets/controls",
      "model_module_version": "1.5.0",
      "model_name": "HTMLModel",
      "state": {
       "layout": "IPY_MODEL_79db8c90898a497a96f48d13e4382152",
       "style": "IPY_MODEL_1043606736a74e06afab119b8e11fb83",
       "value": "<table border=\"1\" class=\"dataframe table table-striped table-hover table-condensed table-responsive\">\n  <thead>\n    <tr style=\"text-align: right;\">\n      <th></th>\n      <th>48</th>\n    </tr>\n  </thead>\n  <tbody>\n    <tr>\n      <th>Institution</th>\n      <td>Ocean Observatories Initiative (OOI)</td>\n    </tr>\n    <tr>\n      <th>Dataset ID</th>\n      <td>ooi-ce09ossm-sbd11-06-metbka000</td>\n    </tr>\n  </tbody>\n</table>"
      }
     },
     "ebf89407974249e1948e449c7f8948a1": {
      "model_module": "@jupyter-widgets/controls",
      "model_module_version": "1.5.0",
      "model_name": "HTMLModel",
      "state": {
       "layout": "IPY_MODEL_aedeb714be044e67ac5912e5b51fc3f6",
       "style": "IPY_MODEL_7f45618d5dc64eb59e9121fbb79e6aa8",
       "value": "<table border=\"1\" class=\"dataframe table table-striped table-hover table-condensed table-responsive\">\n  <thead>\n    <tr style=\"text-align: right;\">\n      <th></th>\n      <th>51</th>\n    </tr>\n  </thead>\n  <tbody>\n    <tr>\n      <th>Institution</th>\n      <td>Ocean Observatories Initiative (OOI)</td>\n    </tr>\n    <tr>\n      <th>Dataset ID</th>\n      <td>ooi-ce07shsm-rid27-03-ctdbpc000</td>\n    </tr>\n  </tbody>\n</table>"
      }
     },
     "ec4860e4847c41fea4b9acde6b481c8a": {
      "model_module": "@jupyter-widgets/base",
      "model_module_version": "1.2.0",
      "model_name": "LayoutModel",
      "state": {}
     },
     "ec60dbdba2b047b19a0b7066f6ad05bc": {
      "model_module": "jupyter-leaflet",
      "model_module_version": "^0.14.0",
      "model_name": "LeafletAwesomeIconModel",
      "state": {
       "_model_module_version": "^0.14.0",
       "_view_module_version": "^0.14.0",
       "icon_color": "white",
       "marker_color": "orange",
       "name": "life-ring"
      }
     },
     "ec6df6cdc7f442ddad296f5b2d7fab44": {
      "model_module": "@jupyter-widgets/base",
      "model_module_version": "1.2.0",
      "model_name": "LayoutModel",
      "state": {}
     },
     "ec83e34ca5064535a9358af1d24038dd": {
      "model_module": "jupyter-leaflet",
      "model_module_version": "^0.14.0",
      "model_name": "LeafletAwesomeIconModel",
      "state": {
       "_model_module_version": "^0.14.0",
       "_view_module_version": "^0.14.0",
       "icon_color": "white",
       "name": "life-ring"
      }
     },
     "ed23be8138f841acb09fe1d1e20c97a7": {
      "model_module": "@jupyter-widgets/base",
      "model_module_version": "1.2.0",
      "model_name": "LayoutModel",
      "state": {}
     },
     "ed6255d4dd9f4c9fb5655cb29f5b2f90": {
      "model_module": "@jupyter-widgets/controls",
      "model_module_version": "1.5.0",
      "model_name": "DescriptionStyleModel",
      "state": {
       "description_width": ""
      }
     },
     "ee25211eb1b747279b2b95be90e8da83": {
      "model_module": "jupyter-leaflet",
      "model_module_version": "^0.14.0",
      "model_name": "LeafletMarkerModel",
      "state": {
       "_model_module_version": "^0.14.0",
       "_view_module_version": "^0.14.0",
       "icon": "IPY_MODEL_70e42c89e70e4406bb6430ff6e89cfba",
       "location": [
        44.37868,
        -124.94508
       ],
       "options": [
        "alt",
        "draggable",
        "keyboard",
        "rise_offset",
        "rise_on_hover",
        "rotation_angle",
        "rotation_origin",
        "title",
        "z_index_offset"
       ],
       "popup": "IPY_MODEL_40a5f409985c470a81566b83aedd582d"
      }
     },
     "ee8c9c1972da42cab4428e0fce24c5de": {
      "model_module": "@jupyter-widgets/controls",
      "model_module_version": "1.5.0",
      "model_name": "HTMLModel",
      "state": {
       "layout": "IPY_MODEL_ac918485cb29424da4c7a6ee92d32969",
       "style": "IPY_MODEL_c9866e1d370149ac91e3f4a343a9abd5",
       "value": "<table border=\"1\" class=\"dataframe table table-striped table-hover table-condensed table-responsive\">\n  <thead>\n    <tr style=\"text-align: right;\">\n      <th></th>\n      <th>80</th>\n    </tr>\n  </thead>\n  <tbody>\n    <tr>\n      <th>Institution</th>\n      <td>Northwest Association of Networked Ocean Observing Systems (NANOOS)</td>\n    </tr>\n    <tr>\n      <th>Dataset ID</th>\n      <td>nanoos_wcsh_whiskey1</td>\n    </tr>\n  </tbody>\n</table>"
      }
     },
     "ef0696ffa44045ab8335da5f51bb7271": {
      "model_module": "@jupyter-widgets/controls",
      "model_module_version": "1.5.0",
      "model_name": "DescriptionStyleModel",
      "state": {
       "description_width": ""
      }
     },
     "ef10f7214afb46dca3987d45c725a83e": {
      "model_module": "jupyter-leaflet",
      "model_module_version": "^0.14.0",
      "model_name": "LeafletMarkerModel",
      "state": {
       "_model_module_version": "^0.14.0",
       "_view_module_version": "^0.14.0",
       "icon": "IPY_MODEL_4d72529df2b74612bc34c2768bd0dc0b",
       "location": [
        46.85367,
        -124.95935
       ],
       "options": [
        "alt",
        "draggable",
        "keyboard",
        "rise_offset",
        "rise_on_hover",
        "rotation_angle",
        "rotation_origin",
        "title",
        "z_index_offset"
       ],
       "popup": "IPY_MODEL_37bd666c60e5429a9fc469f2d6695604"
      }
     },
     "ef394cbfe731479596be966d09041484": {
      "model_module": "@jupyter-widgets/base",
      "model_module_version": "1.2.0",
      "model_name": "LayoutModel",
      "state": {}
     },
     "ef7ab8d946a84c2aa6c2dd823cb4e7f7": {
      "model_module": "@jupyter-widgets/controls",
      "model_module_version": "1.5.0",
      "model_name": "HTMLModel",
      "state": {
       "layout": "IPY_MODEL_bbc10ae0abc44226a345368ddf825a65",
       "style": "IPY_MODEL_ed6255d4dd9f4c9fb5655cb29f5b2f90",
       "value": "<table border=\"1\" class=\"dataframe table table-striped table-hover table-condensed table-responsive\">\n  <thead>\n    <tr style=\"text-align: right;\">\n      <th></th>\n      <th>70</th>\n    </tr>\n  </thead>\n  <tbody>\n    <tr>\n      <th>Institution</th>\n      <td>Northwest Association of Networked Ocean Observing Systems (NANOOS)</td>\n    </tr>\n    <tr>\n      <th>Dataset ID</th>\n      <td>nanoos_apl_nemo</td>\n    </tr>\n  </tbody>\n</table>"
      }
     },
     "efd2cc4990f646e8a3639f2a643bcbb5": {
      "model_module": "@jupyter-widgets/controls",
      "model_module_version": "1.5.0",
      "model_name": "DescriptionStyleModel",
      "state": {
       "description_width": ""
      }
     },
     "f0560707c3be4b6ea92cb127fbc6068f": {
      "model_module": "@jupyter-widgets/base",
      "model_module_version": "1.2.0",
      "model_name": "LayoutModel",
      "state": {}
     },
     "f072d315ab0c4d528156d68979571f06": {
      "model_module": "jupyter-leaflet",
      "model_module_version": "^0.14.0",
      "model_name": "LeafletMarkerModel",
      "state": {
       "_model_module_version": "^0.14.0",
       "_view_module_version": "^0.14.0",
       "icon": "IPY_MODEL_c69b045f75174aa1ab5ece916f834057",
       "location": [
        44.378,
        -124.946
       ],
       "options": [
        "alt",
        "draggable",
        "keyboard",
        "rise_offset",
        "rise_on_hover",
        "rotation_angle",
        "rotation_origin",
        "title",
        "z_index_offset"
       ],
       "popup": "IPY_MODEL_b9961b34d677497195af361c5717371e"
      }
     },
     "f0a3e1065cb54d3286ce5432c42acd64": {
      "model_module": "jupyter-leaflet",
      "model_module_version": "^0.14.0",
      "model_name": "LeafletMarkerModel",
      "state": {
       "_model_module_version": "^0.14.0",
       "_view_module_version": "^0.14.0",
       "icon": "IPY_MODEL_3ad236c9cd004798920b334550a868b5",
       "location": [
        46.98648,
        -124.56923
       ],
       "options": [
        "alt",
        "draggable",
        "keyboard",
        "rise_offset",
        "rise_on_hover",
        "rotation_angle",
        "rotation_origin",
        "title",
        "z_index_offset"
       ],
       "popup": "IPY_MODEL_67f0d41c67d44edfa717e1448de5459f"
      }
     },
     "f19fdf630ddf45deb783d9ff107c6a5c": {
      "model_module": "jupyter-leaflet",
      "model_module_version": "^0.14.0",
      "model_name": "LeafletAwesomeIconModel",
      "state": {
       "_model_module_version": "^0.14.0",
       "_view_module_version": "^0.14.0",
       "icon_color": "white",
       "marker_color": "orange",
       "name": "life-ring"
      }
     },
     "f1abb884b026415e8ecd4cc068a10d20": {
      "model_module": "@jupyter-widgets/controls",
      "model_module_version": "1.5.0",
      "model_name": "DescriptionStyleModel",
      "state": {
       "description_width": ""
      }
     },
     "f1e5f6d10dac44199e7c6b5d863fe62c": {
      "model_module": "jupyter-leaflet",
      "model_module_version": "^0.14.0",
      "model_name": "LeafletMarkerModel",
      "state": {
       "_model_module_version": "^0.14.0",
       "_view_module_version": "^0.14.0",
       "icon": "IPY_MODEL_e3a40dcb220b49828b08d32a97b3ec53",
       "location": [
        46.85367,
        -124.95935
       ],
       "options": [
        "alt",
        "draggable",
        "keyboard",
        "rise_offset",
        "rise_on_hover",
        "rotation_angle",
        "rotation_origin",
        "title",
        "z_index_offset"
       ],
       "popup": "IPY_MODEL_fee490a857f044bdbf7437d4a51555db"
      }
     },
     "f21c4f8e86344a3993b8ede0abd30f0b": {
      "model_module": "jupyter-leaflet",
      "model_module_version": "^0.14.0",
      "model_name": "LeafletMarkerModel",
      "state": {
       "_model_module_version": "^0.14.0",
       "_view_module_version": "^0.14.0",
       "icon": "IPY_MODEL_c0fc5c770bb449da812c671c3208576e",
       "location": [
        44.63708,
        -124.30595
       ],
       "options": [
        "alt",
        "draggable",
        "keyboard",
        "rise_offset",
        "rise_on_hover",
        "rotation_angle",
        "rotation_origin",
        "title",
        "z_index_offset"
       ],
       "popup": "IPY_MODEL_3135fe3929a74bc18548d33f6b76e215"
      }
     },
     "f250779a27fe4ba18f5fce5a7f99015a": {
      "model_module": "jupyter-leaflet",
      "model_module_version": "^0.14.0",
      "model_name": "LeafletAwesomeIconModel",
      "state": {
       "_model_module_version": "^0.14.0",
       "_view_module_version": "^0.14.0",
       "icon_color": "white",
       "marker_color": "orange",
       "name": "life-ring"
      }
     },
     "f291fe3a5db848ddb5e5a57ee4d0ddd8": {
      "model_module": "jupyter-leaflet",
      "model_module_version": "^0.14.0",
      "model_name": "LeafletMarkerModel",
      "state": {
       "_model_module_version": "^0.14.0",
       "_view_module_version": "^0.14.0",
       "icon": "IPY_MODEL_cb68ab5c4897422f810220a13638fbfe",
       "location": [
        46.98648,
        -124.56923
       ],
       "options": [
        "alt",
        "draggable",
        "keyboard",
        "rise_offset",
        "rise_on_hover",
        "rotation_angle",
        "rotation_origin",
        "title",
        "z_index_offset"
       ],
       "popup": "IPY_MODEL_259cffab36474ba7ac545dfe1bbb954e"
      }
     },
     "f2ba185c87e74b8aa0c5dbb00286ca1c": {
      "model_module": "@jupyter-widgets/controls",
      "model_module_version": "1.5.0",
      "model_name": "HTMLModel",
      "state": {
       "layout": "IPY_MODEL_7d4580ab835c4cbdb3945e6292277793",
       "style": "IPY_MODEL_212b8ca9bf3b432aa7efc8a18ec0998d",
       "value": "<table border=\"1\" class=\"dataframe table table-striped table-hover table-condensed table-responsive\">\n  <thead>\n    <tr style=\"text-align: right;\">\n      <th></th>\n      <th>14</th>\n    </tr>\n  </thead>\n  <tbody>\n    <tr>\n      <th>Institution</th>\n      <td>Ocean Observatories Initiative (OOI)</td>\n    </tr>\n    <tr>\n      <th>Dataset ID</th>\n      <td>ooi-ce04osps-pc01b-4b-phsena106</td>\n    </tr>\n  </tbody>\n</table>"
      }
     },
     "f2bf2bcc8f8d43aabfe2f1adb4713ac5": {
      "model_module": "jupyter-leaflet",
      "model_module_version": "^0.14.0",
      "model_name": "LeafletAwesomeIconModel",
      "state": {
       "_model_module_version": "^0.14.0",
       "_view_module_version": "^0.14.0",
       "icon_color": "white",
       "name": "life-ring"
      }
     },
     "f32ce08edd4544ad86582aa32bd78aba": {
      "model_module": "jupyter-leaflet",
      "model_module_version": "^0.14.0",
      "model_name": "LeafletMapModel",
      "state": {
       "_model_module_version": "^0.14.0",
       "_view_module_version": "^0.14.0",
       "bottom": 6061,
       "center": [
        45.506346901083425,
        -125.36499023437501
       ],
       "controls": [
        "IPY_MODEL_ebc891354dd046cd89e9bd2fc22d90c1",
        "IPY_MODEL_7a333b8004b14d89b9f14ce0752d127a",
        "IPY_MODEL_5f417c0f97ca418088c14601d52bab7b",
        "IPY_MODEL_80f47157902847ca8b6a0b048c84805b"
       ],
       "default_style": "IPY_MODEL_5f77465957a74eeba8f3163759d54948",
       "dragging_style": "IPY_MODEL_a21dbd62a75f499e8e274b448ad005e0",
       "east": -115.04882812500001,
       "fullscreen": false,
       "interpolation": "bilinear",
       "layers": [
        "IPY_MODEL_4839d2f1834045b78fe5c5c2f5f81cd8",
        "IPY_MODEL_faaa183d641142bda7363eaf2adf84cc",
        "IPY_MODEL_9d6ff3d90c3043b484a554918a41840b",
        "IPY_MODEL_d5c6c961c4bf420b9447be87d7c255c0",
        "IPY_MODEL_494fcc5a8d8542a2bea483f416678fbf",
        "IPY_MODEL_de913d32546c478491753b1f560b3846",
        "IPY_MODEL_213e5875ca504af487ff52452cd56d8f",
        "IPY_MODEL_3e0ca1075ffb4663a38120c9da5962c4",
        "IPY_MODEL_7031e08a68534b97a8fb7860c2a5ee45",
        "IPY_MODEL_4859fa8bfeeb427f87cccd632d6114d5",
        "IPY_MODEL_00609d0dfca54c4b995b43423f0c8128",
        "IPY_MODEL_f96c9554bcb34670a449ae4b841e1567",
        "IPY_MODEL_afdb9e3356e7467eb0df348cee96b4ca",
        "IPY_MODEL_5fd74a467afb4f32a51535b12ef54709",
        "IPY_MODEL_1219bea113664c8d843a6a547b9d3736",
        "IPY_MODEL_ab137d090dcf4659959399bae9ba859a",
        "IPY_MODEL_9d5f777b34464cc1b3a46930c90e7efc",
        "IPY_MODEL_5f6d2e22e7fe46df8f877c2da62cc022",
        "IPY_MODEL_932fd53089e04a30a6e9ab9167371a64",
        "IPY_MODEL_63496470928e44a6bf1de419328bdb38",
        "IPY_MODEL_143cf617dbcd41d983825e3ad57c7798",
        "IPY_MODEL_0e6f853556ae485598bcca048902c5df",
        "IPY_MODEL_e35003e5568e4f789610621f94c3a80d",
        "IPY_MODEL_902d820edf424c95a1ed4a4dc0c21adf",
        "IPY_MODEL_437a0d2d1ab04e2b8b5124fd4c7cb427",
        "IPY_MODEL_716d537a61a84ae08d9d21af46e0dcd2",
        "IPY_MODEL_0c7643329bd54fcb87ee8fb712b7a732",
        "IPY_MODEL_76045c41001e43f8b18b4cab857cf0bd",
        "IPY_MODEL_4787b5d0b8774c19aab9aaf429e59f5e",
        "IPY_MODEL_62986826ae6541c4979c08e2f07f8bdc",
        "IPY_MODEL_da4e4fe6a1954232aedb4d2d528f45fc",
        "IPY_MODEL_263f15aa3c5a49069b41388d1746e318",
        "IPY_MODEL_c4ea2cda5cfb46f3a1415cef7f622c63",
        "IPY_MODEL_4ac76f209ade4589baad5c9626ee4ad0",
        "IPY_MODEL_53880c03429d44f7b8c8912dcd2f664c",
        "IPY_MODEL_c95ea904f36c4f98824aa75f38a6c047",
        "IPY_MODEL_610f5cac7ae24e3388f756bbae5149e0",
        "IPY_MODEL_4c2e89a623fc4f79b5be0c6fbf07087c",
        "IPY_MODEL_f74ca910b6594624a5e710f664aab553",
        "IPY_MODEL_0132a57af6df455abfe20d703fc43ae7",
        "IPY_MODEL_2d09ce1832b54c3b802bad04f957cc90",
        "IPY_MODEL_c55a8389a57848dc9734d903bc8ce72b",
        "IPY_MODEL_4fd07458e7dc4636b38e1d47a3de980c",
        "IPY_MODEL_5e4a9193096049a699a19b6168196947",
        "IPY_MODEL_a998dbf77d684b15be33a155f48d0545",
        "IPY_MODEL_bf476ddb6bd145ebafe335b3f9d5edcd",
        "IPY_MODEL_514c39291dbf4967a05fcae5a2944f73",
        "IPY_MODEL_eb7bb0e67cd14844ac2ccebccdc9ac23",
        "IPY_MODEL_b9fbf185f6a842cb833e931ea6bddae4",
        "IPY_MODEL_a2d6b4b795434fd790780ea630795516",
        "IPY_MODEL_0862e16dfe0d4197949d716b20665c6e",
        "IPY_MODEL_61ffd26280504c789aa3afde1fa37a25",
        "IPY_MODEL_d83ed97341664545874455454ec554ed",
        "IPY_MODEL_62d45f5e1c6d42609d500015a195014e",
        "IPY_MODEL_273143f70e6641f294a0b7b80483e455",
        "IPY_MODEL_b40578c280d24d5babe680a8ce530a65",
        "IPY_MODEL_f1e5f6d10dac44199e7c6b5d863fe62c",
        "IPY_MODEL_d5f4dcd3bb55453f9c8e7e5e458cd6c9",
        "IPY_MODEL_ef10f7214afb46dca3987d45c725a83e",
        "IPY_MODEL_bd453e0618304e37aa5f60b40b5fe2a8",
        "IPY_MODEL_992d87b4e36f4c3abfe7ecff4c38a461",
        "IPY_MODEL_791a7f2c676047f1840baf8730485edb",
        "IPY_MODEL_301db70343b84e999ca2d6c600689511",
        "IPY_MODEL_caf1a892ab4e41f68a06fb49c4af08f8",
        "IPY_MODEL_fda3d7d6bd6d4012aa03856c97ca78a4",
        "IPY_MODEL_4cf0a695f7934bf5afdeaaeda2fac5d7",
        "IPY_MODEL_d1cff6656cc74062b0acbb85736d8f22",
        "IPY_MODEL_74e40a553e09452e932031a71968c56f",
        "IPY_MODEL_9eadecc6b1d149e7a9adb97705187aea",
        "IPY_MODEL_a7adb70924bd4b50a54265ed927a4785",
        "IPY_MODEL_f0a3e1065cb54d3286ce5432c42acd64",
        "IPY_MODEL_9455dd22955645b682c30d69c2e1761a",
        "IPY_MODEL_99938366c7b14768992514366c42412a",
        "IPY_MODEL_01461ad4bff64cb08999f57d6fd6e367",
        "IPY_MODEL_4d9f5066f7f54a32bf10f1ed9a2082ad",
        "IPY_MODEL_cf6fe94529134085b9570c7fb4793879",
        "IPY_MODEL_ae7a4591638d42a8b7f9610421bf68c3",
        "IPY_MODEL_3b3f133719c1491c9e695b3ee63a86c8"
       ],
       "layout": "IPY_MODEL_afe919690c6440f8b932cc2e353738f9",
       "left": 2017,
       "modisdate": "yesterday",
       "north": 48.50204750525715,
       "options": [
        "bounce_at_zoom_limits",
        "box_zoom",
        "center",
        "close_popup_on_click",
        "double_click_zoom",
        "dragging",
        "fullscreen",
        "inertia",
        "inertia_deceleration",
        "inertia_max_speed",
        "interpolation",
        "keyboard",
        "keyboard_pan_offset",
        "keyboard_zoom_offset",
        "max_zoom",
        "min_zoom",
        "scroll_wheel_zoom",
        "tap",
        "tap_tolerance",
        "touch_zoom",
        "world_copy_jump",
        "zoom",
        "zoom_animation_threshold",
        "zoom_delta",
        "zoom_snap",
        "zoom_start"
       ],
       "right": 2956,
       "south": 42.342305278572816,
       "style": "IPY_MODEL_5f77465957a74eeba8f3163759d54948",
       "top": 5661,
       "west": -135.68115234375003,
       "window_url": "http://127.0.0.1:8888/notebooks/2021-08-31-multiple-erddap-search.ipynb",
       "zoom": 6
      }
     },
     "f32e09a887f1468db5d337b8cfd045c9": {
      "model_module": "jupyter-leaflet",
      "model_module_version": "^0.14.0",
      "model_name": "LeafletAwesomeIconModel",
      "state": {
       "_model_module_version": "^0.14.0",
       "_view_module_version": "^0.14.0",
       "icon_color": "white",
       "marker_color": "orange",
       "name": "life-ring"
      }
     },
     "f369f35f7d384cfeb53def828479948e": {
      "model_module": "jupyter-leaflet",
      "model_module_version": "^0.14.0",
      "model_name": "LeafletMarkerModel",
      "state": {
       "_model_module_version": "^0.14.0",
       "_view_module_version": "^0.14.0",
       "icon": "IPY_MODEL_60ff2a2b97ab4ed3bf6a63eb6e698ef0",
       "location": [
        46.85367,
        -124.95935
       ],
       "options": [
        "alt",
        "draggable",
        "keyboard",
        "rise_offset",
        "rise_on_hover",
        "rotation_angle",
        "rotation_origin",
        "title",
        "z_index_offset"
       ],
       "popup": "IPY_MODEL_808ee94f407a47d392fdfae8dfdea1ec"
      }
     },
     "f3f099d3c487432a8a5d0775f3ab794c": {
      "model_module": "@jupyter-widgets/controls",
      "model_module_version": "1.5.0",
      "model_name": "DescriptionStyleModel",
      "state": {
       "description_width": ""
      }
     },
     "f411d98eab494d69a24c3aa3fdf7f3b4": {
      "model_module": "jupyter-leaflet",
      "model_module_version": "^0.14.0",
      "model_name": "LeafletAwesomeIconModel",
      "state": {
       "_model_module_version": "^0.14.0",
       "_view_module_version": "^0.14.0",
       "icon_color": "white",
       "marker_color": "orange",
       "name": "life-ring"
      }
     },
     "f4aa1c0d2f664d79a13fb3564c3a5376": {
      "model_module": "jupyter-leaflet",
      "model_module_version": "^0.14.0",
      "model_name": "LeafletMarkerModel",
      "state": {
       "_model_module_version": "^0.14.0",
       "_view_module_version": "^0.14.0",
       "icon": "IPY_MODEL_215f5629ef5e42f795a11985de7754ba",
       "location": [
        47.1345,
        -124.27087
       ],
       "options": [
        "alt",
        "draggable",
        "keyboard",
        "rise_offset",
        "rise_on_hover",
        "rotation_angle",
        "rotation_origin",
        "title",
        "z_index_offset"
       ],
       "popup": "IPY_MODEL_299d74596d70418eb61e57e5e1325fcb"
      }
     },
     "f56a1a5cb3a441d6b58d9917df6be9e0": {
      "model_module": "jupyter-leaflet",
      "model_module_version": "^0.14.0",
      "model_name": "LeafletMapStyleModel",
      "state": {
       "_model_module_version": "^0.14.0"
      }
     },
     "f58db1e2db8b4ec79942d24da429e0ed": {
      "model_module": "@jupyter-widgets/controls",
      "model_module_version": "1.5.0",
      "model_name": "DescriptionStyleModel",
      "state": {
       "description_width": ""
      }
     },
     "f59971231aaf4f25804a0d0c6fe32a58": {
      "model_module": "@jupyter-widgets/controls",
      "model_module_version": "1.5.0",
      "model_name": "HTMLModel",
      "state": {
       "layout": "IPY_MODEL_7768ce666e3c4d79b66c93e47beb6f09",
       "style": "IPY_MODEL_509f087a98764da89c687786087da4e0",
       "value": "<table border=\"1\" class=\"dataframe table table-striped table-hover table-condensed table-responsive\">\n  <thead>\n    <tr style=\"text-align: right;\">\n      <th></th>\n      <th>69</th>\n    </tr>\n  </thead>\n  <tbody>\n    <tr>\n      <th>Institution</th>\n      <td>Northwest Association of Networked Ocean Observing Systems (NANOOS)</td>\n    </tr>\n    <tr>\n      <th>Dataset ID</th>\n      <td>nanoos_apl_chaba</td>\n    </tr>\n  </tbody>\n</table>"
      }
     },
     "f6115e22883d4a4dbb14341ef839f1e0": {
      "model_module": "@jupyter-widgets/base",
      "model_module_version": "1.2.0",
      "model_name": "LayoutModel",
      "state": {}
     },
     "f65a29f135b24c9396ed815a7426619f": {
      "model_module": "@jupyter-widgets/controls",
      "model_module_version": "1.5.0",
      "model_name": "HTMLModel",
      "state": {
       "layout": "IPY_MODEL_660c2558627f45e2a76770e0a5a3ee77",
       "style": "IPY_MODEL_da029342e08a4366bb4bc9dc933a9a49",
       "value": "<table border=\"1\" class=\"dataframe table table-striped table-hover table-condensed table-responsive\">\n  <thead>\n    <tr style=\"text-align: right;\">\n      <th></th>\n      <th>44</th>\n    </tr>\n  </thead>\n  <tbody>\n    <tr>\n      <th>Institution</th>\n      <td>Ocean Observatories Initiative (OOI)</td>\n    </tr>\n    <tr>\n      <th>Dataset ID</th>\n      <td>ooi-ce09ossm-rid26-07-nutnrb000</td>\n    </tr>\n  </tbody>\n</table>"
      }
     },
     "f662c26201674a7d88e8aaa3f316aadd": {
      "model_module": "jupyter-leaflet",
      "model_module_version": "^0.14.0",
      "model_name": "LeafletAwesomeIconModel",
      "state": {
       "_model_module_version": "^0.14.0",
       "_view_module_version": "^0.14.0",
       "icon_color": "white",
       "name": "life-ring"
      }
     },
     "f6c05e080bdd433f99b7407654abaf11": {
      "model_module": "@jupyter-widgets/base",
      "model_module_version": "1.2.0",
      "model_name": "LayoutModel",
      "state": {}
     },
     "f72c8cc40b7e466c83d27820936841e5": {
      "model_module": "@jupyter-widgets/base",
      "model_module_version": "1.2.0",
      "model_name": "LayoutModel",
      "state": {}
     },
     "f74ca910b6594624a5e710f664aab553": {
      "model_module": "jupyter-leaflet",
      "model_module_version": "^0.14.0",
      "model_name": "LeafletMarkerModel",
      "state": {
       "_model_module_version": "^0.14.0",
       "_view_module_version": "^0.14.0",
       "icon": "IPY_MODEL_351631259423424d992e08a93f1f5f2c",
       "location": [
        44.63708,
        -124.30595
       ],
       "options": [
        "alt",
        "draggable",
        "keyboard",
        "rise_offset",
        "rise_on_hover",
        "rotation_angle",
        "rotation_origin",
        "title",
        "z_index_offset"
       ],
       "popup": "IPY_MODEL_e32aa61c8de444fe88a44232daf9bc48"
      }
     },
     "f77204e141b54a80b8bfd5fa7bea8706": {
      "model_module": "@jupyter-widgets/base",
      "model_module_version": "1.2.0",
      "model_name": "LayoutModel",
      "state": {}
     },
     "f77a942184c441b8ac9623e699022199": {
      "model_module": "jupyter-leaflet",
      "model_module_version": "^0.14.0",
      "model_name": "LeafletMarkerModel",
      "state": {
       "_model_module_version": "^0.14.0",
       "_view_module_version": "^0.14.0",
       "icon": "IPY_MODEL_645c3d40b0d74a0a8f4d770b7827de95",
       "location": [
        44.65678,
        -124.09707
       ],
       "options": [
        "alt",
        "draggable",
        "keyboard",
        "rise_offset",
        "rise_on_hover",
        "rotation_angle",
        "rotation_origin",
        "title",
        "z_index_offset"
       ],
       "popup": "IPY_MODEL_aad1fd0e954748d990f4612fc055e1a3"
      }
     },
     "f8c37ffde7814f7098d43fd391781c02": {
      "model_module": "@jupyter-widgets/controls",
      "model_module_version": "1.5.0",
      "model_name": "DescriptionStyleModel",
      "state": {
       "description_width": ""
      }
     },
     "f943f3a8922d46aabefe0d14de872e18": {
      "model_module": "jupyter-leaflet",
      "model_module_version": "^0.14.0",
      "model_name": "LeafletMarkerModel",
      "state": {
       "_model_module_version": "^0.14.0",
       "_view_module_version": "^0.14.0",
       "icon": "IPY_MODEL_8b38a20974e040b4bff6325ad947f78e",
       "location": [
        44.3695,
        -124.95369
       ],
       "options": [
        "alt",
        "draggable",
        "keyboard",
        "rise_offset",
        "rise_on_hover",
        "rotation_angle",
        "rotation_origin",
        "title",
        "z_index_offset"
       ],
       "popup": "IPY_MODEL_266c44e6d99d43fb92c5f5b9b6b326c0"
      }
     },
     "f96c9554bcb34670a449ae4b841e1567": {
      "model_module": "jupyter-leaflet",
      "model_module_version": "^0.14.0",
      "model_name": "LeafletMarkerModel",
      "state": {
       "_model_module_version": "^0.14.0",
       "_view_module_version": "^0.14.0",
       "icon": "IPY_MODEL_87c33d4063634d1b9ca6e90835b7413a",
       "location": [
        43.3,
        -124.5
       ],
       "options": [
        "alt",
        "draggable",
        "keyboard",
        "rise_offset",
        "rise_on_hover",
        "rotation_angle",
        "rotation_origin",
        "title",
        "z_index_offset"
       ],
       "popup": "IPY_MODEL_8c2a441c46714164b532793331644032"
      }
     },
     "f9b0d951fd0b4886b8147d960982550a": {
      "model_module": "@jupyter-widgets/base",
      "model_module_version": "1.2.0",
      "model_name": "LayoutModel",
      "state": {}
     },
     "f9d1e15b352c47088a25216831a82b6d": {
      "model_module": "jupyter-leaflet",
      "model_module_version": "^0.14.0",
      "model_name": "LeafletAwesomeIconModel",
      "state": {
       "_model_module_version": "^0.14.0",
       "_view_module_version": "^0.14.0",
       "icon_color": "white",
       "marker_color": "orange",
       "name": "life-ring"
      }
     },
     "f9dabeed76b54553b3c288f1a5fecec4": {
      "model_module": "jupyter-leaflet",
      "model_module_version": "^0.14.0",
      "model_name": "LeafletMarkerModel",
      "state": {
       "_model_module_version": "^0.14.0",
       "_view_module_version": "^0.14.0",
       "icon": "IPY_MODEL_f662c26201674a7d88e8aaa3f316aadd",
       "location": [
        47,
        -124.6
       ],
       "options": [
        "alt",
        "draggable",
        "keyboard",
        "rise_offset",
        "rise_on_hover",
        "rotation_angle",
        "rotation_origin",
        "title",
        "z_index_offset"
       ],
       "popup": "IPY_MODEL_212c4348f31f4f74a4e9879d4e9cf8ca"
      }
     },
     "f9f666e3660a4d0ba39833e41f19946e": {
      "model_module": "@jupyter-widgets/controls",
      "model_module_version": "1.5.0",
      "model_name": "HTMLModel",
      "state": {
       "layout": "IPY_MODEL_0cc15c8b3ade4a6ca03edaa6bd00f079",
       "style": "IPY_MODEL_23e45ea2f8a74b6e913c499be7348b8d",
       "value": "<table border=\"1\" class=\"dataframe table table-striped table-hover table-condensed table-responsive\">\n  <thead>\n    <tr style=\"text-align: right;\">\n      <th></th>\n      <th>47</th>\n    </tr>\n  </thead>\n  <tbody>\n    <tr>\n      <th>Institution</th>\n      <td>Ocean Observatories Initiative (OOI)</td>\n    </tr>\n    <tr>\n      <th>Dataset ID</th>\n      <td>ooi-ce09ossm-mfd37-03-dostad000</td>\n    </tr>\n  </tbody>\n</table>"
      }
     },
     "fa1b7fc98986490cbf8654d9eb4ff133": {
      "model_module": "@jupyter-widgets/controls",
      "model_module_version": "1.5.0",
      "model_name": "DescriptionStyleModel",
      "state": {
       "description_width": ""
      }
     },
     "faaa183d641142bda7363eaf2adf84cc": {
      "model_module": "jupyter-leaflet",
      "model_module_version": "^0.14.0",
      "model_name": "LeafletRectangleModel",
      "state": {
       "_model_module_version": "^0.14.0",
       "_view_module_version": "^0.14.0",
       "bounds": [
        [
         43,
         -127
        ],
        [
         48,
         -123.75
        ]
       ],
       "color": "red",
       "draggable": false,
       "fill": false,
       "options": [
        "color",
        "dash_array",
        "draggable",
        "fill",
        "fill_color",
        "fill_opacity",
        "line_cap",
        "line_join",
        "no_clip",
        "opacity",
        "pointer_events",
        "smooth_factor",
        "stroke",
        "transform",
        "weight"
       ],
       "rotation": true,
       "scaling": true,
       "transform": false,
       "uniform_scaling": false
      }
     },
     "faf0ffcf5b944ebdb8eb9b68459c2cb1": {
      "model_module": "@jupyter-widgets/controls",
      "model_module_version": "1.5.0",
      "model_name": "HTMLModel",
      "state": {
       "layout": "IPY_MODEL_0f73b6a0eb9c4ebab84dde07601b526c",
       "style": "IPY_MODEL_4bae186c0c8a469ca8d0723facc8e7be",
       "value": "<table border=\"1\" class=\"dataframe table table-striped table-hover table-condensed table-responsive\">\n  <thead>\n    <tr style=\"text-align: right;\">\n      <th></th>\n      <th>45</th>\n    </tr>\n  </thead>\n  <tbody>\n    <tr>\n      <th>Institution</th>\n      <td>Ocean Observatories Initiative (OOI)</td>\n    </tr>\n    <tr>\n      <th>Dataset ID</th>\n      <td>ooi-ce09ossm-rid26-06-phsend000</td>\n    </tr>\n  </tbody>\n</table>"
      }
     },
     "fb1857a1b2e8440097ad5ec53361a233": {
      "model_module": "@jupyter-widgets/controls",
      "model_module_version": "1.5.0",
      "model_name": "HTMLModel",
      "state": {
       "layout": "IPY_MODEL_5d7d51fe5754400aae1df831831590cd",
       "style": "IPY_MODEL_14c4b654c4f94b1fb59f2519d085b9b2",
       "value": "<table border=\"1\" class=\"dataframe table table-striped table-hover table-condensed table-responsive\">\n  <thead>\n    <tr style=\"text-align: right;\">\n      <th></th>\n      <th>78</th>\n    </tr>\n  </thead>\n  <tbody>\n    <tr>\n      <th>Institution</th>\n      <td>Center for Coastal Margin Observation &amp; Prediction</td>\n    </tr>\n    <tr>\n      <th>Dataset ID</th>\n      <td>org_cmop_sefo3</td>\n    </tr>\n  </tbody>\n</table>"
      }
     },
     "fb1a2d2e4c9442beb8e7a86d93ec221c": {
      "model_module": "jupyter-leaflet",
      "model_module_version": "^0.14.0",
      "model_name": "LeafletAwesomeIconModel",
      "state": {
       "_model_module_version": "^0.14.0",
       "_view_module_version": "^0.14.0",
       "icon_color": "white",
       "name": "life-ring"
      }
     },
     "fb2aac8401b24b42a70ff28d68a66a16": {
      "model_module": "@jupyter-widgets/controls",
      "model_module_version": "1.5.0",
      "model_name": "DescriptionStyleModel",
      "state": {
       "description_width": ""
      }
     },
     "fb4ca257100940da9861e08801431be4": {
      "model_module": "@jupyter-widgets/base",
      "model_module_version": "1.2.0",
      "model_name": "LayoutModel",
      "state": {}
     },
     "fc0f29153d8744ca9231eea9c0626a60": {
      "model_module": "jupyter-leaflet",
      "model_module_version": "^0.14.0",
      "model_name": "LeafletAwesomeIconModel",
      "state": {
       "_model_module_version": "^0.14.0",
       "_view_module_version": "^0.14.0",
       "icon_color": "white",
       "marker_color": "orange",
       "name": "life-ring"
      }
     },
     "fc2a8476d257479e8123270d20970cf8": {
      "model_module": "@jupyter-widgets/controls",
      "model_module_version": "1.5.0",
      "model_name": "HTMLModel",
      "state": {
       "layout": "IPY_MODEL_17d5c68bff7f4263bd9c64a45df268ca",
       "style": "IPY_MODEL_1fd36c95c87a4f278bbac7e92abbb909",
       "value": "<table border=\"1\" class=\"dataframe table table-striped table-hover table-condensed table-responsive\">\n  <thead>\n    <tr style=\"text-align: right;\">\n      <th></th>\n      <th>71</th>\n    </tr>\n  </thead>\n  <tbody>\n    <tr>\n      <th>Institution</th>\n      <td>NOAA Pacific Marine Environmental Lab (PMEL)</td>\n    </tr>\n    <tr>\n      <th>Dataset ID</th>\n      <td>gov_ornl_cdiac_wa_125w_47n</td>\n    </tr>\n  </tbody>\n</table>"
      }
     },
     "fc715c23cedd411e9beb5549b3d292b3": {
      "model_module": "@jupyter-widgets/controls",
      "model_module_version": "1.5.0",
      "model_name": "DescriptionStyleModel",
      "state": {
       "description_width": ""
      }
     },
     "fc915bc1c11d478d89cabcb56049b4ff": {
      "model_module": "jupyter-leaflet",
      "model_module_version": "^0.14.0",
      "model_name": "LeafletMarkerModel",
      "state": {
       "_model_module_version": "^0.14.0",
       "_view_module_version": "^0.14.0",
       "icon": "IPY_MODEL_7c962f0fc6b74df1a543a5758c85a3d7",
       "location": [
        44.383335,
        -124.95
       ],
       "options": [
        "alt",
        "draggable",
        "keyboard",
        "rise_offset",
        "rise_on_hover",
        "rotation_angle",
        "rotation_origin",
        "title",
        "z_index_offset"
       ],
       "popup": "IPY_MODEL_8c47882169cb433184eb6948a6139953"
      }
     },
     "fcbd1219b9aa4394bfd1476be667eaf0": {
      "model_module": "@jupyter-widgets/controls",
      "model_module_version": "1.5.0",
      "model_name": "HTMLModel",
      "state": {
       "layout": "IPY_MODEL_e2a44da908064c2395c4bb0d017b4a52",
       "style": "IPY_MODEL_9b353ef82f834738810f38103cc3c74c",
       "value": "<table border=\"1\" class=\"dataframe table table-striped table-hover table-condensed table-responsive\">\n  <thead>\n    <tr style=\"text-align: right;\">\n      <th></th>\n      <th>36</th>\n    </tr>\n  </thead>\n  <tbody>\n    <tr>\n      <th>Institution</th>\n      <td>Ocean Observatories Initiative (OOI)</td>\n    </tr>\n    <tr>\n      <th>Dataset ID</th>\n      <td>ooi-ce06issm-mfd37-03-ctdbpc000</td>\n    </tr>\n  </tbody>\n</table>"
      }
     },
     "fcf766c7f20f44dcaf5ea1f8da12f3bf": {
      "model_module": "@jupyter-widgets/base",
      "model_module_version": "1.2.0",
      "model_name": "LayoutModel",
      "state": {}
     },
     "fda3d7d6bd6d4012aa03856c97ca78a4": {
      "model_module": "jupyter-leaflet",
      "model_module_version": "^0.14.0",
      "model_name": "LeafletMarkerModel",
      "state": {
       "_model_module_version": "^0.14.0",
       "_view_module_version": "^0.14.0",
       "icon": "IPY_MODEL_47e8ac1a861a41e4aa519944afdbe069",
       "location": [
        46.85367,
        -124.95935
       ],
       "options": [
        "alt",
        "draggable",
        "keyboard",
        "rise_offset",
        "rise_on_hover",
        "rotation_angle",
        "rotation_origin",
        "title",
        "z_index_offset"
       ],
       "popup": "IPY_MODEL_b88c7892b886443b925f2ef98b357171"
      }
     },
     "fe5f3fbfa110468da8531ad99e194c16": {
      "model_module": "@jupyter-widgets/base",
      "model_module_version": "1.2.0",
      "model_name": "LayoutModel",
      "state": {}
     },
     "feb1556d8b2c4d6e8fc59c77cca3937c": {
      "model_module": "@jupyter-widgets/base",
      "model_module_version": "1.2.0",
      "model_name": "LayoutModel",
      "state": {}
     },
     "fee490a857f044bdbf7437d4a51555db": {
      "model_module": "@jupyter-widgets/controls",
      "model_module_version": "1.5.0",
      "model_name": "HTMLModel",
      "state": {
       "layout": "IPY_MODEL_90a718b2abc84d6e905c3f600dac8412",
       "style": "IPY_MODEL_575c9b3c7d704ec1b4fbc95f91d50960",
       "value": "<table border=\"1\" class=\"dataframe table table-striped table-hover table-condensed table-responsive\">\n  <thead>\n    <tr style=\"text-align: right;\">\n      <th></th>\n      <th>41</th>\n    </tr>\n  </thead>\n  <tbody>\n    <tr>\n      <th>Institution</th>\n      <td>Ocean Observatories Initiative (OOI)</td>\n    </tr>\n    <tr>\n      <th>Dataset ID</th>\n      <td>ooi-ce09ossm-rid27-02-flortd000</td>\n    </tr>\n  </tbody>\n</table>"
      }
     },
     "ff2d135e724641f0a3f1730e5d6fa819": {
      "model_module": "@jupyter-widgets/controls",
      "model_module_version": "1.5.0",
      "model_name": "DescriptionStyleModel",
      "state": {
       "description_width": ""
      }
     }
    },
    "version_major": 2,
    "version_minor": 0
   }
  }
 },
 "nbformat": 4,
 "nbformat_minor": 4
}
