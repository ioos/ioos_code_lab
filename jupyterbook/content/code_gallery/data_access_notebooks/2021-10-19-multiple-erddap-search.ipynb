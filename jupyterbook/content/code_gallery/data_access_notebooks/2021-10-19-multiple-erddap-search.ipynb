{
 "cells": [
  {
   "cell_type": "markdown",
   "metadata": {},
   "source": [
    "# Searching multiple ERDDAP servers\n",
    "\n",
    "Created: 2021-10-19\n",
    "\n",
    "The latest erddapy module release (v1.2.0) added a multiple servers search similar to the web one implemented in\n",
    "[https://coastwatch.pfeg.noaa.gov/erddap/download/SearchMultipleERDDAPs.html](https://coastwatch.pfeg.noaa.gov/erddap/download/SearchMultipleERDDAPs.html).\n",
    "The Python interface allow the user to mix powerful variable handling and visualization with the query results.\n",
    "\n",
    "Let us explore an example\n",
    "[based on this](https://nbviewer.jupyter.org/gist/rsignell-usgs/f2be18f9db07a3c2970d88576cd62b57)\n",
    "Rich Signell's gist where we search for salinity time-series data in a specific region and time span."
   ]
  },
  {
   "cell_type": "code",
   "execution_count": 1,
   "metadata": {},
   "outputs": [],
   "source": [
    "min_time = \"2017-07-01T00:00:00Z\"\n",
    "max_time = \"2017-09-01T00:00:00Z\"\n",
    "min_lon, max_lon = -127, -123.75\n",
    "min_lat, max_lat = 43, 48\n",
    "standard_name = \"sea_water_practical_salinity\"\n",
    "\n",
    "\n",
    "kw = {\n",
    "    \"standard_name\": standard_name,\n",
    "    \"min_lon\": min_lon,\n",
    "    \"max_lon\": max_lon,\n",
    "    \"min_lat\": min_lat,\n",
    "    \"max_lat\": max_lat,\n",
    "    \"min_time\": min_time,\n",
    "    \"max_time\": max_time,\n",
    "    \"cdm_data_type\": \"timeseries\",\n",
    "}\n",
    "\n",
    "\n",
    "servers = {\n",
    "    \"ooi\": \"https://erddap.dataexplorer.oceanobservatories.org/erddap/\",\n",
    "    \"ioos\": \"https://erddap.sensors.ioos.us/erddap/\",\n",
    "}"
   ]
  },
  {
   "cell_type": "markdown",
   "metadata": {},
   "source": [
    "We will restrict the search to two servers, IOOS sensors and OOI Data Explorer. If one leaves the `server_list` empty the search will iterate all servers listed in the\n",
    "[Awesome ERDDAP list](https://github.com/IrishMarineInstitute/awesome-erddap)."
   ]
  },
  {
   "cell_type": "code",
   "execution_count": 2,
   "metadata": {},
   "outputs": [
    {
     "data": {
      "text/html": [
       "<div>\n",
       "<style scoped>\n",
       "    .dataframe tbody tr th:only-of-type {\n",
       "        vertical-align: middle;\n",
       "    }\n",
       "\n",
       "    .dataframe tbody tr th {\n",
       "        vertical-align: top;\n",
       "    }\n",
       "\n",
       "    .dataframe thead th {\n",
       "        text-align: right;\n",
       "    }\n",
       "</style>\n",
       "<table border=\"1\" class=\"dataframe\">\n",
       "  <thead>\n",
       "    <tr style=\"text-align: right;\">\n",
       "      <th></th>\n",
       "      <th>Title</th>\n",
       "      <th>Institution</th>\n",
       "      <th>Dataset ID</th>\n",
       "      <th>Server url</th>\n",
       "    </tr>\n",
       "  </thead>\n",
       "  <tbody>\n",
       "    <tr>\n",
       "      <th>0</th>\n",
       "      <td>Coastal Endurance: Oregon Inshore Surface Moor...</td>\n",
       "      <td>Ocean Observatories Initiative (OOI)</td>\n",
       "      <td>ooi-ce01issm-rid16-02-flortd000</td>\n",
       "      <td>https://erddap.dataexplorer.oceanobservatories...</td>\n",
       "    </tr>\n",
       "    <tr>\n",
       "      <th>1</th>\n",
       "      <td>Coastal Endurance: Oregon Inshore Surface Moor...</td>\n",
       "      <td>Ocean Observatories Initiative (OOI)</td>\n",
       "      <td>ooi-ce01issm-rid16-03-ctdbpc000</td>\n",
       "      <td>https://erddap.dataexplorer.oceanobservatories...</td>\n",
       "    </tr>\n",
       "    <tr>\n",
       "      <th>2</th>\n",
       "      <td>Coastal Endurance: Oregon Inshore Surface Moor...</td>\n",
       "      <td>Ocean Observatories Initiative (OOI)</td>\n",
       "      <td>ooi-ce01issm-rid16-03-dostad000</td>\n",
       "      <td>https://erddap.dataexplorer.oceanobservatories...</td>\n",
       "    </tr>\n",
       "    <tr>\n",
       "      <th>3</th>\n",
       "      <td>Coastal Endurance: Oregon Inshore Surface Moor...</td>\n",
       "      <td>Ocean Observatories Initiative (OOI)</td>\n",
       "      <td>ooi-ce01issm-rid16-07-nutnrb000</td>\n",
       "      <td>https://erddap.dataexplorer.oceanobservatories...</td>\n",
       "    </tr>\n",
       "    <tr>\n",
       "      <th>4</th>\n",
       "      <td>Coastal Endurance: Oregon Inshore Surface Moor...</td>\n",
       "      <td>Ocean Observatories Initiative (OOI)</td>\n",
       "      <td>ooi-ce01issm-rid16-06-phsend000</td>\n",
       "      <td>https://erddap.dataexplorer.oceanobservatories...</td>\n",
       "    </tr>\n",
       "  </tbody>\n",
       "</table>\n",
       "</div>"
      ],
      "text/plain": [
       "                                               Title  \\\n",
       "0  Coastal Endurance: Oregon Inshore Surface Moor...   \n",
       "1  Coastal Endurance: Oregon Inshore Surface Moor...   \n",
       "2  Coastal Endurance: Oregon Inshore Surface Moor...   \n",
       "3  Coastal Endurance: Oregon Inshore Surface Moor...   \n",
       "4  Coastal Endurance: Oregon Inshore Surface Moor...   \n",
       "\n",
       "                            Institution                       Dataset ID  \\\n",
       "0  Ocean Observatories Initiative (OOI)  ooi-ce01issm-rid16-02-flortd000   \n",
       "1  Ocean Observatories Initiative (OOI)  ooi-ce01issm-rid16-03-ctdbpc000   \n",
       "2  Ocean Observatories Initiative (OOI)  ooi-ce01issm-rid16-03-dostad000   \n",
       "3  Ocean Observatories Initiative (OOI)  ooi-ce01issm-rid16-07-nutnrb000   \n",
       "4  Ocean Observatories Initiative (OOI)  ooi-ce01issm-rid16-06-phsend000   \n",
       "\n",
       "                                          Server url  \n",
       "0  https://erddap.dataexplorer.oceanobservatories...  \n",
       "1  https://erddap.dataexplorer.oceanobservatories...  \n",
       "2  https://erddap.dataexplorer.oceanobservatories...  \n",
       "3  https://erddap.dataexplorer.oceanobservatories...  \n",
       "4  https://erddap.dataexplorer.oceanobservatories...  "
      ]
     },
     "execution_count": 2,
     "metadata": {},
     "output_type": "execute_result"
    }
   ],
   "source": [
    "from erddapy.multiple_server_search import advanced_search_servers\n",
    "\n",
    "df = advanced_search_servers(servers_list=servers.values(), **kw)\n",
    "\n",
    "df.head()"
   ]
  },
  {
   "cell_type": "markdown",
   "metadata": {},
   "source": [
    "Now that we have a list of dataset_ids we can iterate and get their positions to create a map.\n",
    "The functions below will create a download URL for the longitude and latitude and request the data as a pandas dataframe."
   ]
  },
  {
   "cell_type": "code",
   "execution_count": 3,
   "metadata": {},
   "outputs": [],
   "source": [
    "import pandas as pd\n",
    "from erddapy import ERDDAP\n",
    "\n",
    "kw = {\n",
    "    \"longitude>=\": min_lon,\n",
    "    \"longitude<=\": max_lon,\n",
    "    \"latitude>=\": min_lat,\n",
    "    \"latitude<=\": max_lat,\n",
    "    \"time>=\": min_time,\n",
    "    \"time<=\": max_time,\n",
    "}\n",
    "\n",
    "\n",
    "def download_url(server, dataset_id):\n",
    "    e = ERDDAP(server, protocol=\"tabledap\")\n",
    "    url = e.get_download_url(\n",
    "        dataset_id=dataset_id,\n",
    "        response=\"csvp\",\n",
    "        variables=[\"longitude\", \"latitude\"],\n",
    "        constraints=kw,\n",
    "        distinct=True,\n",
    "    )\n",
    "    return url\n",
    "\n",
    "\n",
    "def request_positions(download_url):\n",
    "    df = pd.read_csv(download_url)\n",
    "    return df.values.squeeze().tolist()"
   ]
  },
  {
   "cell_type": "markdown",
   "metadata": {},
   "source": [
    "Now we can iterate all the dataset ids we found. That is a slow operation depending on the number of datasets and it is good practice to save/cache the results to re-use them later. That will not only save us some time but it is also appreciated by the data providers maintaining the servers."
   ]
  },
  {
   "cell_type": "code",
   "execution_count": 4,
   "metadata": {},
   "outputs": [],
   "source": [
    "import pickle\n",
    "from pathlib import Path\n",
    "from urllib.error import HTTPError\n",
    "\n",
    "import numpy as np\n",
    "from tqdm.notebook import tqdm\n",
    "\n",
    "path = Path(\"positions.p\")\n",
    "\n",
    "if not path.exists():\n",
    "    positions = []\n",
    "    for idx, row in tqdm(df.iterrows()):\n",
    "        try:\n",
    "            url = download_url(row[\"Server url\"], row[\"Dataset ID\"])\n",
    "            pos = request_positions(url)\n",
    "        except HTTPError:\n",
    "            pos = [np.NaN, np.NaN]\n",
    "        positions.append(pos)\n",
    "    with open(path, \"wb\") as f:\n",
    "        pickle.dump(positions, f)\n",
    "else:\n",
    "    with open(path, \"rb\") as f:\n",
    "        positions = pickle.load(f)"
   ]
  },
  {
   "cell_type": "code",
   "execution_count": 5,
   "metadata": {},
   "outputs": [],
   "source": [
    "df.loc[:, \"lon\"] = np.array(positions)[:, 0]\n",
    "df.loc[:, \"lat\"] = np.array(positions)[:, 1]\n",
    "\n",
    "df.dropna(inplace=True)\n",
    "\n",
    "df_ioos = df.loc[df[\"Server url\"] == servers[\"ioos\"]]\n",
    "df_ooi = df.loc[df[\"Server url\"] == servers[\"ooi\"]]"
   ]
  },
  {
   "cell_type": "code",
   "execution_count": 6,
   "metadata": {},
   "outputs": [],
   "source": [
    "from ipyleaflet import (\n",
    "    AwesomeIcon,\n",
    "    FullScreenControl,\n",
    "    LegendControl,\n",
    "    Map,\n",
    "    Marker,\n",
    "    Rectangle,\n",
    ")\n",
    "from ipywidgets import HTML\n",
    "\n",
    "colors = {\n",
    "    \"IOOS\": \"blue\",\n",
    "    \"OOI\": \"orange\",\n",
    "}\n",
    "\n",
    "\n",
    "legend = LegendControl(\n",
    "    colors,\n",
    "    name=\"Dataset locations\",\n",
    "    position=\"bottomright\",\n",
    ")\n",
    "\n",
    "\n",
    "def make_popup(row):\n",
    "    classes = \"table table-striped table-hover table-condensed table-responsive\"\n",
    "    return pd.DataFrame(row[[\"Institution\", \"Dataset ID\"]]).to_html(classes=classes)"
   ]
  },
  {
   "cell_type": "code",
   "execution_count": 7,
   "metadata": {},
   "outputs": [],
   "source": [
    "m = Map(center=((min_lat + max_lat) / 2, (min_lon + max_lon) / 2), zoom=6)\n",
    "m.add_control(FullScreenControl())\n",
    "m.add_control(legend)\n",
    "\n",
    "rectangle = Rectangle(\n",
    "    bounds=((min_lat, min_lon), (max_lat, max_lon)),\n",
    "    color=\"red\",\n",
    "    fill=False,\n",
    ")\n",
    "m.add_layer(rectangle)"
   ]
  },
  {
   "cell_type": "code",
   "execution_count": 8,
   "metadata": {},
   "outputs": [],
   "source": [
    "# IOOS\n",
    "for k, row in df_ioos.iterrows():\n",
    "    marker = Marker(\n",
    "        icon=AwesomeIcon(name=\"life-ring\", marker_color=colors[\"IOOS\"]),\n",
    "        location=(row[\"lat\"], row[\"lon\"]),\n",
    "    )\n",
    "    msg = HTML()\n",
    "    msg.value = make_popup(row)\n",
    "    marker.popup = msg\n",
    "    m.add_layer(marker)"
   ]
  },
  {
   "cell_type": "code",
   "execution_count": 9,
   "metadata": {},
   "outputs": [],
   "source": [
    "# OOI\n",
    "for k, row in df_ooi.iterrows():\n",
    "    marker = Marker(\n",
    "        icon=AwesomeIcon(name=\"life-ring\", marker_color=colors[\"OOI\"]),\n",
    "        location=(row[\"lat\"], row[\"lon\"]),\n",
    "    )\n",
    "    msg = HTML()\n",
    "    msg.value = make_popup(row)\n",
    "    marker.popup = msg\n",
    "    m.add_layer(marker)"
   ]
  },
  {
   "cell_type": "code",
   "execution_count": 10,
   "metadata": {},
   "outputs": [
    {
     "data": {
      "application/vnd.jupyter.widget-view+json": {
       "model_id": "e92be4a4357e467086589813c3eb079e",
       "version_major": 2,
       "version_minor": 0
      },
      "text/plain": [
       "Map(center=[45.5, -125.375], controls=(ZoomControl(options=['position', 'zoom_in_text', 'zoom_in_title', 'zoom…"
      ]
     },
     "metadata": {},
     "output_type": "display_data"
    }
   ],
   "source": [
    "m"
   ]
  },
  {
   "cell_type": "markdown",
   "metadata": {},
   "source": [
    "User may also look for data that are located near to each other for sensor comparison or calibration.\n",
    "The nested loop below is a simple way to find the stations that are nearest to each other starting from a 1 km distance."
   ]
  },
  {
   "cell_type": "code",
   "execution_count": 11,
   "metadata": {},
   "outputs": [],
   "source": [
    "import seawater as sw\n",
    "\n",
    "dist = 1e3\n",
    "for k_i, (lon_i, lat_i) in df_ioos[[\"lon\", \"lat\"]].iterrows():\n",
    "    for k_o, (lon_o, lat_o) in df_ooi[[\"lon\", \"lat\"]].iterrows():\n",
    "        lats = lat_i, lat_o\n",
    "        lons = lon_i, lon_o\n",
    "        new_dist, angle = sw.dist(lats, lons)\n",
    "        if new_dist < dist:\n",
    "            dist = new_dist\n",
    "            ki, ko = k_i, k_o"
   ]
  },
  {
   "cell_type": "code",
   "execution_count": 12,
   "metadata": {},
   "outputs": [
    {
     "name": "stdout",
     "output_type": "stream",
     "text": [
      "The stations closest (0.65 km) to each other are:\n"
     ]
    }
   ],
   "source": [
    "print(f\"The stations closest ({dist.squeeze():.2f} km) to each other are:\")"
   ]
  },
  {
   "cell_type": "code",
   "execution_count": 13,
   "metadata": {},
   "outputs": [
    {
     "data": {
      "text/plain": [
       "Title                                46098 - Moored Buoy\n",
       "Institution    Observing System Monitoring Center (OSMC)\n",
       "Dataset ID                                    osmc_46098\n",
       "Server url        https://erddap.sensors.ioos.us/erddap/\n",
       "lon                                              -124.95\n",
       "lat                                            44.383335\n",
       "Name: 65, dtype: object"
      ]
     },
     "execution_count": 13,
     "metadata": {},
     "output_type": "execute_result"
    }
   ],
   "source": [
    "df.loc[ki]"
   ]
  },
  {
   "cell_type": "code",
   "execution_count": 14,
   "metadata": {},
   "outputs": [
    {
     "data": {
      "text/plain": [
       "Title          Coastal Endurance: Oregon Offshore Surface Moo...\n",
       "Institution                 Ocean Observatories Initiative (OOI)\n",
       "Dataset ID                       ooi-ce04ossm-rid27-02-flortd000\n",
       "Server url     https://erddap.dataexplorer.oceanobservatories...\n",
       "lon                                                   -124.94508\n",
       "lat                                                     44.37868\n",
       "Name: 15, dtype: object"
      ]
     },
     "execution_count": 14,
     "metadata": {},
     "output_type": "execute_result"
    }
   ],
   "source": [
    "df.loc[ko]"
   ]
  },
  {
   "cell_type": "code",
   "execution_count": 15,
   "metadata": {},
   "outputs": [],
   "source": [
    "def download_salinity(server, dataset_id):\n",
    "    print(f\"Downloading {dataset_id=}.\")\n",
    "    e = ERDDAP(server, protocol=\"tabledap\")\n",
    "    e.dataset_id = dataset_id\n",
    "    e.constraints = {\"time>=\": min_time, \"time<=\": max_time}\n",
    "    e.response = \"csv\"\n",
    "    e.variables = [\n",
    "        \"time\",\n",
    "        e.get_var_by_attr(dataset_id=dataset_id, standard_name=standard_name)[0],\n",
    "    ]\n",
    "\n",
    "    col = \"time (UTC)\"\n",
    "    return e.to_pandas(parse_dates=[col], index_col=col)"
   ]
  },
  {
   "cell_type": "code",
   "execution_count": 16,
   "metadata": {},
   "outputs": [
    {
     "name": "stdout",
     "output_type": "stream",
     "text": [
      "Downloading dataset_id='osmc_46098'.\n"
     ]
    }
   ],
   "source": [
    "dataset_id = df.loc[ki][\"Dataset ID\"]\n",
    "\n",
    "sal_ioos = download_salinity(servers[\"ioos\"], dataset_id)"
   ]
  },
  {
   "cell_type": "code",
   "execution_count": 17,
   "metadata": {},
   "outputs": [
    {
     "name": "stdout",
     "output_type": "stream",
     "text": [
      "Downloading dataset_id='ooi-ce04ossm-rid27-02-flortd000'.\n"
     ]
    }
   ],
   "source": [
    "dataset_id = df.loc[ko][\"Dataset ID\"]\n",
    "\n",
    "sal_ooi = download_salinity(servers[\"ooi\"], dataset_id)"
   ]
  },
  {
   "cell_type": "code",
   "execution_count": 18,
   "metadata": {},
   "outputs": [
    {
     "data": {
      "application/javascript": [
       "/* Put everything inside the global mpl namespace */\n",
       "/* global mpl */\n",
       "window.mpl = {};\n",
       "\n",
       "mpl.get_websocket_type = function () {\n",
       "    if (typeof WebSocket !== 'undefined') {\n",
       "        return WebSocket;\n",
       "    } else if (typeof MozWebSocket !== 'undefined') {\n",
       "        return MozWebSocket;\n",
       "    } else {\n",
       "        alert(\n",
       "            'Your browser does not have WebSocket support. ' +\n",
       "                'Please try Chrome, Safari or Firefox ≥ 6. ' +\n",
       "                'Firefox 4 and 5 are also supported but you ' +\n",
       "                'have to enable WebSockets in about:config.'\n",
       "        );\n",
       "    }\n",
       "};\n",
       "\n",
       "mpl.figure = function (figure_id, websocket, ondownload, parent_element) {\n",
       "    this.id = figure_id;\n",
       "\n",
       "    this.ws = websocket;\n",
       "\n",
       "    this.supports_binary = this.ws.binaryType !== undefined;\n",
       "\n",
       "    if (!this.supports_binary) {\n",
       "        var warnings = document.getElementById('mpl-warnings');\n",
       "        if (warnings) {\n",
       "            warnings.style.display = 'block';\n",
       "            warnings.textContent =\n",
       "                'This browser does not support binary websocket messages. ' +\n",
       "                'Performance may be slow.';\n",
       "        }\n",
       "    }\n",
       "\n",
       "    this.imageObj = new Image();\n",
       "\n",
       "    this.context = undefined;\n",
       "    this.message = undefined;\n",
       "    this.canvas = undefined;\n",
       "    this.rubberband_canvas = undefined;\n",
       "    this.rubberband_context = undefined;\n",
       "    this.format_dropdown = undefined;\n",
       "\n",
       "    this.image_mode = 'full';\n",
       "\n",
       "    this.root = document.createElement('div');\n",
       "    this.root.setAttribute('style', 'display: inline-block');\n",
       "    this._root_extra_style(this.root);\n",
       "\n",
       "    parent_element.appendChild(this.root);\n",
       "\n",
       "    this._init_header(this);\n",
       "    this._init_canvas(this);\n",
       "    this._init_toolbar(this);\n",
       "\n",
       "    var fig = this;\n",
       "\n",
       "    this.waiting = false;\n",
       "\n",
       "    this.ws.onopen = function () {\n",
       "        fig.send_message('supports_binary', { value: fig.supports_binary });\n",
       "        fig.send_message('send_image_mode', {});\n",
       "        if (fig.ratio !== 1) {\n",
       "            fig.send_message('set_dpi_ratio', { dpi_ratio: fig.ratio });\n",
       "        }\n",
       "        fig.send_message('refresh', {});\n",
       "    };\n",
       "\n",
       "    this.imageObj.onload = function () {\n",
       "        if (fig.image_mode === 'full') {\n",
       "            // Full images could contain transparency (where diff images\n",
       "            // almost always do), so we need to clear the canvas so that\n",
       "            // there is no ghosting.\n",
       "            fig.context.clearRect(0, 0, fig.canvas.width, fig.canvas.height);\n",
       "        }\n",
       "        fig.context.drawImage(fig.imageObj, 0, 0);\n",
       "    };\n",
       "\n",
       "    this.imageObj.onunload = function () {\n",
       "        fig.ws.close();\n",
       "    };\n",
       "\n",
       "    this.ws.onmessage = this._make_on_message_function(this);\n",
       "\n",
       "    this.ondownload = ondownload;\n",
       "};\n",
       "\n",
       "mpl.figure.prototype._init_header = function () {\n",
       "    var titlebar = document.createElement('div');\n",
       "    titlebar.classList =\n",
       "        'ui-dialog-titlebar ui-widget-header ui-corner-all ui-helper-clearfix';\n",
       "    var titletext = document.createElement('div');\n",
       "    titletext.classList = 'ui-dialog-title';\n",
       "    titletext.setAttribute(\n",
       "        'style',\n",
       "        'width: 100%; text-align: center; padding: 3px;'\n",
       "    );\n",
       "    titlebar.appendChild(titletext);\n",
       "    this.root.appendChild(titlebar);\n",
       "    this.header = titletext;\n",
       "};\n",
       "\n",
       "mpl.figure.prototype._canvas_extra_style = function (_canvas_div) {};\n",
       "\n",
       "mpl.figure.prototype._root_extra_style = function (_canvas_div) {};\n",
       "\n",
       "mpl.figure.prototype._init_canvas = function () {\n",
       "    var fig = this;\n",
       "\n",
       "    var canvas_div = (this.canvas_div = document.createElement('div'));\n",
       "    canvas_div.setAttribute(\n",
       "        'style',\n",
       "        'border: 1px solid #ddd;' +\n",
       "            'box-sizing: content-box;' +\n",
       "            'clear: both;' +\n",
       "            'min-height: 1px;' +\n",
       "            'min-width: 1px;' +\n",
       "            'outline: 0;' +\n",
       "            'overflow: hidden;' +\n",
       "            'position: relative;' +\n",
       "            'resize: both;'\n",
       "    );\n",
       "\n",
       "    function on_keyboard_event_closure(name) {\n",
       "        return function (event) {\n",
       "            return fig.key_event(event, name);\n",
       "        };\n",
       "    }\n",
       "\n",
       "    canvas_div.addEventListener(\n",
       "        'keydown',\n",
       "        on_keyboard_event_closure('key_press')\n",
       "    );\n",
       "    canvas_div.addEventListener(\n",
       "        'keyup',\n",
       "        on_keyboard_event_closure('key_release')\n",
       "    );\n",
       "\n",
       "    this._canvas_extra_style(canvas_div);\n",
       "    this.root.appendChild(canvas_div);\n",
       "\n",
       "    var canvas = (this.canvas = document.createElement('canvas'));\n",
       "    canvas.classList.add('mpl-canvas');\n",
       "    canvas.setAttribute('style', 'box-sizing: content-box;');\n",
       "\n",
       "    this.context = canvas.getContext('2d');\n",
       "\n",
       "    var backingStore =\n",
       "        this.context.backingStorePixelRatio ||\n",
       "        this.context.webkitBackingStorePixelRatio ||\n",
       "        this.context.mozBackingStorePixelRatio ||\n",
       "        this.context.msBackingStorePixelRatio ||\n",
       "        this.context.oBackingStorePixelRatio ||\n",
       "        this.context.backingStorePixelRatio ||\n",
       "        1;\n",
       "\n",
       "    this.ratio = (window.devicePixelRatio || 1) / backingStore;\n",
       "\n",
       "    var rubberband_canvas = (this.rubberband_canvas = document.createElement(\n",
       "        'canvas'\n",
       "    ));\n",
       "    rubberband_canvas.setAttribute(\n",
       "        'style',\n",
       "        'box-sizing: content-box; position: absolute; left: 0; top: 0; z-index: 1;'\n",
       "    );\n",
       "\n",
       "    // Apply a ponyfill if ResizeObserver is not implemented by browser.\n",
       "    if (this.ResizeObserver === undefined) {\n",
       "        if (window.ResizeObserver !== undefined) {\n",
       "            this.ResizeObserver = window.ResizeObserver;\n",
       "        } else {\n",
       "            var obs = _JSXTOOLS_RESIZE_OBSERVER({});\n",
       "            this.ResizeObserver = obs.ResizeObserver;\n",
       "        }\n",
       "    }\n",
       "\n",
       "    this.resizeObserverInstance = new this.ResizeObserver(function (entries) {\n",
       "        var nentries = entries.length;\n",
       "        for (var i = 0; i < nentries; i++) {\n",
       "            var entry = entries[i];\n",
       "            var width, height;\n",
       "            if (entry.contentBoxSize) {\n",
       "                if (entry.contentBoxSize instanceof Array) {\n",
       "                    // Chrome 84 implements new version of spec.\n",
       "                    width = entry.contentBoxSize[0].inlineSize;\n",
       "                    height = entry.contentBoxSize[0].blockSize;\n",
       "                } else {\n",
       "                    // Firefox implements old version of spec.\n",
       "                    width = entry.contentBoxSize.inlineSize;\n",
       "                    height = entry.contentBoxSize.blockSize;\n",
       "                }\n",
       "            } else {\n",
       "                // Chrome <84 implements even older version of spec.\n",
       "                width = entry.contentRect.width;\n",
       "                height = entry.contentRect.height;\n",
       "            }\n",
       "\n",
       "            // Keep the size of the canvas and rubber band canvas in sync with\n",
       "            // the canvas container.\n",
       "            if (entry.devicePixelContentBoxSize) {\n",
       "                // Chrome 84 implements new version of spec.\n",
       "                canvas.setAttribute(\n",
       "                    'width',\n",
       "                    entry.devicePixelContentBoxSize[0].inlineSize\n",
       "                );\n",
       "                canvas.setAttribute(\n",
       "                    'height',\n",
       "                    entry.devicePixelContentBoxSize[0].blockSize\n",
       "                );\n",
       "            } else {\n",
       "                canvas.setAttribute('width', width * fig.ratio);\n",
       "                canvas.setAttribute('height', height * fig.ratio);\n",
       "            }\n",
       "            canvas.setAttribute(\n",
       "                'style',\n",
       "                'width: ' + width + 'px; height: ' + height + 'px;'\n",
       "            );\n",
       "\n",
       "            rubberband_canvas.setAttribute('width', width);\n",
       "            rubberband_canvas.setAttribute('height', height);\n",
       "\n",
       "            // And update the size in Python. We ignore the initial 0/0 size\n",
       "            // that occurs as the element is placed into the DOM, which should\n",
       "            // otherwise not happen due to the minimum size styling.\n",
       "            if (fig.ws.readyState == 1 && width != 0 && height != 0) {\n",
       "                fig.request_resize(width, height);\n",
       "            }\n",
       "        }\n",
       "    });\n",
       "    this.resizeObserverInstance.observe(canvas_div);\n",
       "\n",
       "    function on_mouse_event_closure(name) {\n",
       "        return function (event) {\n",
       "            return fig.mouse_event(event, name);\n",
       "        };\n",
       "    }\n",
       "\n",
       "    rubberband_canvas.addEventListener(\n",
       "        'mousedown',\n",
       "        on_mouse_event_closure('button_press')\n",
       "    );\n",
       "    rubberband_canvas.addEventListener(\n",
       "        'mouseup',\n",
       "        on_mouse_event_closure('button_release')\n",
       "    );\n",
       "    rubberband_canvas.addEventListener(\n",
       "        'dblclick',\n",
       "        on_mouse_event_closure('dblclick')\n",
       "    );\n",
       "    // Throttle sequential mouse events to 1 every 20ms.\n",
       "    rubberband_canvas.addEventListener(\n",
       "        'mousemove',\n",
       "        on_mouse_event_closure('motion_notify')\n",
       "    );\n",
       "\n",
       "    rubberband_canvas.addEventListener(\n",
       "        'mouseenter',\n",
       "        on_mouse_event_closure('figure_enter')\n",
       "    );\n",
       "    rubberband_canvas.addEventListener(\n",
       "        'mouseleave',\n",
       "        on_mouse_event_closure('figure_leave')\n",
       "    );\n",
       "\n",
       "    canvas_div.addEventListener('wheel', function (event) {\n",
       "        if (event.deltaY < 0) {\n",
       "            event.step = 1;\n",
       "        } else {\n",
       "            event.step = -1;\n",
       "        }\n",
       "        on_mouse_event_closure('scroll')(event);\n",
       "    });\n",
       "\n",
       "    canvas_div.appendChild(canvas);\n",
       "    canvas_div.appendChild(rubberband_canvas);\n",
       "\n",
       "    this.rubberband_context = rubberband_canvas.getContext('2d');\n",
       "    this.rubberband_context.strokeStyle = '#000000';\n",
       "\n",
       "    this._resize_canvas = function (width, height, forward) {\n",
       "        if (forward) {\n",
       "            canvas_div.style.width = width + 'px';\n",
       "            canvas_div.style.height = height + 'px';\n",
       "        }\n",
       "    };\n",
       "\n",
       "    // Disable right mouse context menu.\n",
       "    this.rubberband_canvas.addEventListener('contextmenu', function (_e) {\n",
       "        event.preventDefault();\n",
       "        return false;\n",
       "    });\n",
       "\n",
       "    function set_focus() {\n",
       "        canvas.focus();\n",
       "        canvas_div.focus();\n",
       "    }\n",
       "\n",
       "    window.setTimeout(set_focus, 100);\n",
       "};\n",
       "\n",
       "mpl.figure.prototype._init_toolbar = function () {\n",
       "    var fig = this;\n",
       "\n",
       "    var toolbar = document.createElement('div');\n",
       "    toolbar.classList = 'mpl-toolbar';\n",
       "    this.root.appendChild(toolbar);\n",
       "\n",
       "    function on_click_closure(name) {\n",
       "        return function (_event) {\n",
       "            return fig.toolbar_button_onclick(name);\n",
       "        };\n",
       "    }\n",
       "\n",
       "    function on_mouseover_closure(tooltip) {\n",
       "        return function (event) {\n",
       "            if (!event.currentTarget.disabled) {\n",
       "                return fig.toolbar_button_onmouseover(tooltip);\n",
       "            }\n",
       "        };\n",
       "    }\n",
       "\n",
       "    fig.buttons = {};\n",
       "    var buttonGroup = document.createElement('div');\n",
       "    buttonGroup.classList = 'mpl-button-group';\n",
       "    for (var toolbar_ind in mpl.toolbar_items) {\n",
       "        var name = mpl.toolbar_items[toolbar_ind][0];\n",
       "        var tooltip = mpl.toolbar_items[toolbar_ind][1];\n",
       "        var image = mpl.toolbar_items[toolbar_ind][2];\n",
       "        var method_name = mpl.toolbar_items[toolbar_ind][3];\n",
       "\n",
       "        if (!name) {\n",
       "            /* Instead of a spacer, we start a new button group. */\n",
       "            if (buttonGroup.hasChildNodes()) {\n",
       "                toolbar.appendChild(buttonGroup);\n",
       "            }\n",
       "            buttonGroup = document.createElement('div');\n",
       "            buttonGroup.classList = 'mpl-button-group';\n",
       "            continue;\n",
       "        }\n",
       "\n",
       "        var button = (fig.buttons[name] = document.createElement('button'));\n",
       "        button.classList = 'mpl-widget';\n",
       "        button.setAttribute('role', 'button');\n",
       "        button.setAttribute('aria-disabled', 'false');\n",
       "        button.addEventListener('click', on_click_closure(method_name));\n",
       "        button.addEventListener('mouseover', on_mouseover_closure(tooltip));\n",
       "\n",
       "        var icon_img = document.createElement('img');\n",
       "        icon_img.src = '_images/' + image + '.png';\n",
       "        icon_img.srcset = '_images/' + image + '_large.png 2x';\n",
       "        icon_img.alt = tooltip;\n",
       "        button.appendChild(icon_img);\n",
       "\n",
       "        buttonGroup.appendChild(button);\n",
       "    }\n",
       "\n",
       "    if (buttonGroup.hasChildNodes()) {\n",
       "        toolbar.appendChild(buttonGroup);\n",
       "    }\n",
       "\n",
       "    var fmt_picker = document.createElement('select');\n",
       "    fmt_picker.classList = 'mpl-widget';\n",
       "    toolbar.appendChild(fmt_picker);\n",
       "    this.format_dropdown = fmt_picker;\n",
       "\n",
       "    for (var ind in mpl.extensions) {\n",
       "        var fmt = mpl.extensions[ind];\n",
       "        var option = document.createElement('option');\n",
       "        option.selected = fmt === mpl.default_extension;\n",
       "        option.innerHTML = fmt;\n",
       "        fmt_picker.appendChild(option);\n",
       "    }\n",
       "\n",
       "    var status_bar = document.createElement('span');\n",
       "    status_bar.classList = 'mpl-message';\n",
       "    toolbar.appendChild(status_bar);\n",
       "    this.message = status_bar;\n",
       "};\n",
       "\n",
       "mpl.figure.prototype.request_resize = function (x_pixels, y_pixels) {\n",
       "    // Request matplotlib to resize the figure. Matplotlib will then trigger a resize in the client,\n",
       "    // which will in turn request a refresh of the image.\n",
       "    this.send_message('resize', { width: x_pixels, height: y_pixels });\n",
       "};\n",
       "\n",
       "mpl.figure.prototype.send_message = function (type, properties) {\n",
       "    properties['type'] = type;\n",
       "    properties['figure_id'] = this.id;\n",
       "    this.ws.send(JSON.stringify(properties));\n",
       "};\n",
       "\n",
       "mpl.figure.prototype.send_draw_message = function () {\n",
       "    if (!this.waiting) {\n",
       "        this.waiting = true;\n",
       "        this.ws.send(JSON.stringify({ type: 'draw', figure_id: this.id }));\n",
       "    }\n",
       "};\n",
       "\n",
       "mpl.figure.prototype.handle_save = function (fig, _msg) {\n",
       "    var format_dropdown = fig.format_dropdown;\n",
       "    var format = format_dropdown.options[format_dropdown.selectedIndex].value;\n",
       "    fig.ondownload(fig, format);\n",
       "};\n",
       "\n",
       "mpl.figure.prototype.handle_resize = function (fig, msg) {\n",
       "    var size = msg['size'];\n",
       "    if (size[0] !== fig.canvas.width || size[1] !== fig.canvas.height) {\n",
       "        fig._resize_canvas(size[0], size[1], msg['forward']);\n",
       "        fig.send_message('refresh', {});\n",
       "    }\n",
       "};\n",
       "\n",
       "mpl.figure.prototype.handle_rubberband = function (fig, msg) {\n",
       "    var x0 = msg['x0'] / fig.ratio;\n",
       "    var y0 = (fig.canvas.height - msg['y0']) / fig.ratio;\n",
       "    var x1 = msg['x1'] / fig.ratio;\n",
       "    var y1 = (fig.canvas.height - msg['y1']) / fig.ratio;\n",
       "    x0 = Math.floor(x0) + 0.5;\n",
       "    y0 = Math.floor(y0) + 0.5;\n",
       "    x1 = Math.floor(x1) + 0.5;\n",
       "    y1 = Math.floor(y1) + 0.5;\n",
       "    var min_x = Math.min(x0, x1);\n",
       "    var min_y = Math.min(y0, y1);\n",
       "    var width = Math.abs(x1 - x0);\n",
       "    var height = Math.abs(y1 - y0);\n",
       "\n",
       "    fig.rubberband_context.clearRect(\n",
       "        0,\n",
       "        0,\n",
       "        fig.canvas.width / fig.ratio,\n",
       "        fig.canvas.height / fig.ratio\n",
       "    );\n",
       "\n",
       "    fig.rubberband_context.strokeRect(min_x, min_y, width, height);\n",
       "};\n",
       "\n",
       "mpl.figure.prototype.handle_figure_label = function (fig, msg) {\n",
       "    // Updates the figure title.\n",
       "    fig.header.textContent = msg['label'];\n",
       "};\n",
       "\n",
       "mpl.figure.prototype.handle_cursor = function (fig, msg) {\n",
       "    var cursor = msg['cursor'];\n",
       "    switch (cursor) {\n",
       "        case 0:\n",
       "            cursor = 'pointer';\n",
       "            break;\n",
       "        case 1:\n",
       "            cursor = 'default';\n",
       "            break;\n",
       "        case 2:\n",
       "            cursor = 'crosshair';\n",
       "            break;\n",
       "        case 3:\n",
       "            cursor = 'move';\n",
       "            break;\n",
       "    }\n",
       "    fig.rubberband_canvas.style.cursor = cursor;\n",
       "};\n",
       "\n",
       "mpl.figure.prototype.handle_message = function (fig, msg) {\n",
       "    fig.message.textContent = msg['message'];\n",
       "};\n",
       "\n",
       "mpl.figure.prototype.handle_draw = function (fig, _msg) {\n",
       "    // Request the server to send over a new figure.\n",
       "    fig.send_draw_message();\n",
       "};\n",
       "\n",
       "mpl.figure.prototype.handle_image_mode = function (fig, msg) {\n",
       "    fig.image_mode = msg['mode'];\n",
       "};\n",
       "\n",
       "mpl.figure.prototype.handle_history_buttons = function (fig, msg) {\n",
       "    for (var key in msg) {\n",
       "        if (!(key in fig.buttons)) {\n",
       "            continue;\n",
       "        }\n",
       "        fig.buttons[key].disabled = !msg[key];\n",
       "        fig.buttons[key].setAttribute('aria-disabled', !msg[key]);\n",
       "    }\n",
       "};\n",
       "\n",
       "mpl.figure.prototype.handle_navigate_mode = function (fig, msg) {\n",
       "    if (msg['mode'] === 'PAN') {\n",
       "        fig.buttons['Pan'].classList.add('active');\n",
       "        fig.buttons['Zoom'].classList.remove('active');\n",
       "    } else if (msg['mode'] === 'ZOOM') {\n",
       "        fig.buttons['Pan'].classList.remove('active');\n",
       "        fig.buttons['Zoom'].classList.add('active');\n",
       "    } else {\n",
       "        fig.buttons['Pan'].classList.remove('active');\n",
       "        fig.buttons['Zoom'].classList.remove('active');\n",
       "    }\n",
       "};\n",
       "\n",
       "mpl.figure.prototype.updated_canvas_event = function () {\n",
       "    // Called whenever the canvas gets updated.\n",
       "    this.send_message('ack', {});\n",
       "};\n",
       "\n",
       "// A function to construct a web socket function for onmessage handling.\n",
       "// Called in the figure constructor.\n",
       "mpl.figure.prototype._make_on_message_function = function (fig) {\n",
       "    return function socket_on_message(evt) {\n",
       "        if (evt.data instanceof Blob) {\n",
       "            var img = evt.data;\n",
       "            if (img.type !== 'image/png') {\n",
       "                /* FIXME: We get \"Resource interpreted as Image but\n",
       "                 * transferred with MIME type text/plain:\" errors on\n",
       "                 * Chrome.  But how to set the MIME type?  It doesn't seem\n",
       "                 * to be part of the websocket stream */\n",
       "                img.type = 'image/png';\n",
       "            }\n",
       "\n",
       "            /* Free the memory for the previous frames */\n",
       "            if (fig.imageObj.src) {\n",
       "                (window.URL || window.webkitURL).revokeObjectURL(\n",
       "                    fig.imageObj.src\n",
       "                );\n",
       "            }\n",
       "\n",
       "            fig.imageObj.src = (window.URL || window.webkitURL).createObjectURL(\n",
       "                img\n",
       "            );\n",
       "            fig.updated_canvas_event();\n",
       "            fig.waiting = false;\n",
       "            return;\n",
       "        } else if (\n",
       "            typeof evt.data === 'string' &&\n",
       "            evt.data.slice(0, 21) === 'data:image/png;base64'\n",
       "        ) {\n",
       "            fig.imageObj.src = evt.data;\n",
       "            fig.updated_canvas_event();\n",
       "            fig.waiting = false;\n",
       "            return;\n",
       "        }\n",
       "\n",
       "        var msg = JSON.parse(evt.data);\n",
       "        var msg_type = msg['type'];\n",
       "\n",
       "        // Call the  \"handle_{type}\" callback, which takes\n",
       "        // the figure and JSON message as its only arguments.\n",
       "        try {\n",
       "            var callback = fig['handle_' + msg_type];\n",
       "        } catch (e) {\n",
       "            console.log(\n",
       "                \"No handler for the '\" + msg_type + \"' message type: \",\n",
       "                msg\n",
       "            );\n",
       "            return;\n",
       "        }\n",
       "\n",
       "        if (callback) {\n",
       "            try {\n",
       "                // console.log(\"Handling '\" + msg_type + \"' message: \", msg);\n",
       "                callback(fig, msg);\n",
       "            } catch (e) {\n",
       "                console.log(\n",
       "                    \"Exception inside the 'handler_\" + msg_type + \"' callback:\",\n",
       "                    e,\n",
       "                    e.stack,\n",
       "                    msg\n",
       "                );\n",
       "            }\n",
       "        }\n",
       "    };\n",
       "};\n",
       "\n",
       "// from http://stackoverflow.com/questions/1114465/getting-mouse-location-in-canvas\n",
       "mpl.findpos = function (e) {\n",
       "    //this section is from http://www.quirksmode.org/js/events_properties.html\n",
       "    var targ;\n",
       "    if (!e) {\n",
       "        e = window.event;\n",
       "    }\n",
       "    if (e.target) {\n",
       "        targ = e.target;\n",
       "    } else if (e.srcElement) {\n",
       "        targ = e.srcElement;\n",
       "    }\n",
       "    if (targ.nodeType === 3) {\n",
       "        // defeat Safari bug\n",
       "        targ = targ.parentNode;\n",
       "    }\n",
       "\n",
       "    // pageX,Y are the mouse positions relative to the document\n",
       "    var boundingRect = targ.getBoundingClientRect();\n",
       "    var x = e.pageX - (boundingRect.left + document.body.scrollLeft);\n",
       "    var y = e.pageY - (boundingRect.top + document.body.scrollTop);\n",
       "\n",
       "    return { x: x, y: y };\n",
       "};\n",
       "\n",
       "/*\n",
       " * return a copy of an object with only non-object keys\n",
       " * we need this to avoid circular references\n",
       " * http://stackoverflow.com/a/24161582/3208463\n",
       " */\n",
       "function simpleKeys(original) {\n",
       "    return Object.keys(original).reduce(function (obj, key) {\n",
       "        if (typeof original[key] !== 'object') {\n",
       "            obj[key] = original[key];\n",
       "        }\n",
       "        return obj;\n",
       "    }, {});\n",
       "}\n",
       "\n",
       "mpl.figure.prototype.mouse_event = function (event, name) {\n",
       "    var canvas_pos = mpl.findpos(event);\n",
       "\n",
       "    if (name === 'button_press') {\n",
       "        this.canvas.focus();\n",
       "        this.canvas_div.focus();\n",
       "    }\n",
       "\n",
       "    var x = canvas_pos.x * this.ratio;\n",
       "    var y = canvas_pos.y * this.ratio;\n",
       "\n",
       "    this.send_message(name, {\n",
       "        x: x,\n",
       "        y: y,\n",
       "        button: event.button,\n",
       "        step: event.step,\n",
       "        guiEvent: simpleKeys(event),\n",
       "    });\n",
       "\n",
       "    /* This prevents the web browser from automatically changing to\n",
       "     * the text insertion cursor when the button is pressed.  We want\n",
       "     * to control all of the cursor setting manually through the\n",
       "     * 'cursor' event from matplotlib */\n",
       "    event.preventDefault();\n",
       "    return false;\n",
       "};\n",
       "\n",
       "mpl.figure.prototype._key_event_extra = function (_event, _name) {\n",
       "    // Handle any extra behaviour associated with a key event\n",
       "};\n",
       "\n",
       "mpl.figure.prototype.key_event = function (event, name) {\n",
       "    // Prevent repeat events\n",
       "    if (name === 'key_press') {\n",
       "        if (event.key === this._key) {\n",
       "            return;\n",
       "        } else {\n",
       "            this._key = event.key;\n",
       "        }\n",
       "    }\n",
       "    if (name === 'key_release') {\n",
       "        this._key = null;\n",
       "    }\n",
       "\n",
       "    var value = '';\n",
       "    if (event.ctrlKey && event.key !== 'Control') {\n",
       "        value += 'ctrl+';\n",
       "    }\n",
       "    else if (event.altKey && event.key !== 'Alt') {\n",
       "        value += 'alt+';\n",
       "    }\n",
       "    else if (event.shiftKey && event.key !== 'Shift') {\n",
       "        value += 'shift+';\n",
       "    }\n",
       "\n",
       "    value += 'k' + event.key;\n",
       "\n",
       "    this._key_event_extra(event, name);\n",
       "\n",
       "    this.send_message(name, { key: value, guiEvent: simpleKeys(event) });\n",
       "    return false;\n",
       "};\n",
       "\n",
       "mpl.figure.prototype.toolbar_button_onclick = function (name) {\n",
       "    if (name === 'download') {\n",
       "        this.handle_save(this, null);\n",
       "    } else {\n",
       "        this.send_message('toolbar_button', { name: name });\n",
       "    }\n",
       "};\n",
       "\n",
       "mpl.figure.prototype.toolbar_button_onmouseover = function (tooltip) {\n",
       "    this.message.textContent = tooltip;\n",
       "};\n",
       "\n",
       "///////////////// REMAINING CONTENT GENERATED BY embed_js.py /////////////////\n",
       "// prettier-ignore\n",
       "var _JSXTOOLS_RESIZE_OBSERVER=function(A){var t,i=new WeakMap,n=new WeakMap,a=new WeakMap,r=new WeakMap,o=new Set;function s(e){if(!(this instanceof s))throw new TypeError(\"Constructor requires 'new' operator\");i.set(this,e)}function h(){throw new TypeError(\"Function is not a constructor\")}function c(e,t,i,n){e=0 in arguments?Number(arguments[0]):0,t=1 in arguments?Number(arguments[1]):0,i=2 in arguments?Number(arguments[2]):0,n=3 in arguments?Number(arguments[3]):0,this.right=(this.x=this.left=e)+(this.width=i),this.bottom=(this.y=this.top=t)+(this.height=n),Object.freeze(this)}function d(){t=requestAnimationFrame(d);var s=new WeakMap,p=new Set;o.forEach((function(t){r.get(t).forEach((function(i){var r=t instanceof window.SVGElement,o=a.get(t),d=r?0:parseFloat(o.paddingTop),f=r?0:parseFloat(o.paddingRight),l=r?0:parseFloat(o.paddingBottom),u=r?0:parseFloat(o.paddingLeft),g=r?0:parseFloat(o.borderTopWidth),m=r?0:parseFloat(o.borderRightWidth),w=r?0:parseFloat(o.borderBottomWidth),b=u+f,F=d+l,v=(r?0:parseFloat(o.borderLeftWidth))+m,W=g+w,y=r?0:t.offsetHeight-W-t.clientHeight,E=r?0:t.offsetWidth-v-t.clientWidth,R=b+v,z=F+W,M=r?t.width:parseFloat(o.width)-R-E,O=r?t.height:parseFloat(o.height)-z-y;if(n.has(t)){var k=n.get(t);if(k[0]===M&&k[1]===O)return}n.set(t,[M,O]);var S=Object.create(h.prototype);S.target=t,S.contentRect=new c(u,d,M,O),s.has(i)||(s.set(i,[]),p.add(i)),s.get(i).push(S)}))})),p.forEach((function(e){i.get(e).call(e,s.get(e),e)}))}return s.prototype.observe=function(i){if(i instanceof window.Element){r.has(i)||(r.set(i,new Set),o.add(i),a.set(i,window.getComputedStyle(i)));var n=r.get(i);n.has(this)||n.add(this),cancelAnimationFrame(t),t=requestAnimationFrame(d)}},s.prototype.unobserve=function(i){if(i instanceof window.Element&&r.has(i)){var n=r.get(i);n.has(this)&&(n.delete(this),n.size||(r.delete(i),o.delete(i))),n.size||r.delete(i),o.size||cancelAnimationFrame(t)}},A.DOMRectReadOnly=c,A.ResizeObserver=s,A.ResizeObserverEntry=h,A}; // eslint-disable-line\n",
       "mpl.toolbar_items = [[\"Home\", \"Reset original view\", \"fa fa-home icon-home\", \"home\"], [\"Back\", \"Back to previous view\", \"fa fa-arrow-left icon-arrow-left\", \"back\"], [\"Forward\", \"Forward to next view\", \"fa fa-arrow-right icon-arrow-right\", \"forward\"], [\"\", \"\", \"\", \"\"], [\"Pan\", \"Left button pans, Right button zooms\\nx/y fixes axis, CTRL fixes aspect\", \"fa fa-arrows icon-move\", \"pan\"], [\"Zoom\", \"Zoom to rectangle\\nx/y fixes axis, CTRL fixes aspect\", \"fa fa-square-o icon-check-empty\", \"zoom\"], [\"\", \"\", \"\", \"\"], [\"Download\", \"Download plot\", \"fa fa-floppy-o icon-save\", \"download\"]];\n",
       "\n",
       "mpl.extensions = [\"eps\", \"jpeg\", \"pgf\", \"pdf\", \"png\", \"ps\", \"raw\", \"svg\", \"tif\"];\n",
       "\n",
       "mpl.default_extension = \"png\";/* global mpl */\n",
       "\n",
       "var comm_websocket_adapter = function (comm) {\n",
       "    // Create a \"websocket\"-like object which calls the given IPython comm\n",
       "    // object with the appropriate methods. Currently this is a non binary\n",
       "    // socket, so there is still some room for performance tuning.\n",
       "    var ws = {};\n",
       "\n",
       "    ws.binaryType = comm.kernel.ws.binaryType;\n",
       "    ws.readyState = comm.kernel.ws.readyState;\n",
       "    function updateReadyState(_event) {\n",
       "        if (comm.kernel.ws) {\n",
       "            ws.readyState = comm.kernel.ws.readyState;\n",
       "        } else {\n",
       "            ws.readyState = 3; // Closed state.\n",
       "        }\n",
       "    }\n",
       "    comm.kernel.ws.addEventListener('open', updateReadyState);\n",
       "    comm.kernel.ws.addEventListener('close', updateReadyState);\n",
       "    comm.kernel.ws.addEventListener('error', updateReadyState);\n",
       "\n",
       "    ws.close = function () {\n",
       "        comm.close();\n",
       "    };\n",
       "    ws.send = function (m) {\n",
       "        //console.log('sending', m);\n",
       "        comm.send(m);\n",
       "    };\n",
       "    // Register the callback with on_msg.\n",
       "    comm.on_msg(function (msg) {\n",
       "        //console.log('receiving', msg['content']['data'], msg);\n",
       "        var data = msg['content']['data'];\n",
       "        if (data['blob'] !== undefined) {\n",
       "            data = {\n",
       "                data: new Blob(msg['buffers'], { type: data['blob'] }),\n",
       "            };\n",
       "        }\n",
       "        // Pass the mpl event to the overridden (by mpl) onmessage function.\n",
       "        ws.onmessage(data);\n",
       "    });\n",
       "    return ws;\n",
       "};\n",
       "\n",
       "mpl.mpl_figure_comm = function (comm, msg) {\n",
       "    // This is the function which gets called when the mpl process\n",
       "    // starts-up an IPython Comm through the \"matplotlib\" channel.\n",
       "\n",
       "    var id = msg.content.data.id;\n",
       "    // Get hold of the div created by the display call when the Comm\n",
       "    // socket was opened in Python.\n",
       "    var element = document.getElementById(id);\n",
       "    var ws_proxy = comm_websocket_adapter(comm);\n",
       "\n",
       "    function ondownload(figure, _format) {\n",
       "        window.open(figure.canvas.toDataURL());\n",
       "    }\n",
       "\n",
       "    var fig = new mpl.figure(id, ws_proxy, ondownload, element);\n",
       "\n",
       "    // Call onopen now - mpl needs it, as it is assuming we've passed it a real\n",
       "    // web socket which is closed, not our websocket->open comm proxy.\n",
       "    ws_proxy.onopen();\n",
       "\n",
       "    fig.parent_element = element;\n",
       "    fig.cell_info = mpl.find_output_cell(\"<div id='\" + id + \"'></div>\");\n",
       "    if (!fig.cell_info) {\n",
       "        console.error('Failed to find cell for figure', id, fig);\n",
       "        return;\n",
       "    }\n",
       "    fig.cell_info[0].output_area.element.on(\n",
       "        'cleared',\n",
       "        { fig: fig },\n",
       "        fig._remove_fig_handler\n",
       "    );\n",
       "};\n",
       "\n",
       "mpl.figure.prototype.handle_close = function (fig, msg) {\n",
       "    var width = fig.canvas.width / fig.ratio;\n",
       "    fig.cell_info[0].output_area.element.off(\n",
       "        'cleared',\n",
       "        fig._remove_fig_handler\n",
       "    );\n",
       "    fig.resizeObserverInstance.unobserve(fig.canvas_div);\n",
       "\n",
       "    // Update the output cell to use the data from the current canvas.\n",
       "    fig.push_to_output();\n",
       "    var dataURL = fig.canvas.toDataURL();\n",
       "    // Re-enable the keyboard manager in IPython - without this line, in FF,\n",
       "    // the notebook keyboard shortcuts fail.\n",
       "    IPython.keyboard_manager.enable();\n",
       "    fig.parent_element.innerHTML =\n",
       "        '<img src=\"' + dataURL + '\" width=\"' + width + '\">';\n",
       "    fig.close_ws(fig, msg);\n",
       "};\n",
       "\n",
       "mpl.figure.prototype.close_ws = function (fig, msg) {\n",
       "    fig.send_message('closing', msg);\n",
       "    // fig.ws.close()\n",
       "};\n",
       "\n",
       "mpl.figure.prototype.push_to_output = function (_remove_interactive) {\n",
       "    // Turn the data on the canvas into data in the output cell.\n",
       "    var width = this.canvas.width / this.ratio;\n",
       "    var dataURL = this.canvas.toDataURL();\n",
       "    this.cell_info[1]['text/html'] =\n",
       "        '<img src=\"' + dataURL + '\" width=\"' + width + '\">';\n",
       "};\n",
       "\n",
       "mpl.figure.prototype.updated_canvas_event = function () {\n",
       "    // Tell IPython that the notebook contents must change.\n",
       "    IPython.notebook.set_dirty(true);\n",
       "    this.send_message('ack', {});\n",
       "    var fig = this;\n",
       "    // Wait a second, then push the new image to the DOM so\n",
       "    // that it is saved nicely (might be nice to debounce this).\n",
       "    setTimeout(function () {\n",
       "        fig.push_to_output();\n",
       "    }, 1000);\n",
       "};\n",
       "\n",
       "mpl.figure.prototype._init_toolbar = function () {\n",
       "    var fig = this;\n",
       "\n",
       "    var toolbar = document.createElement('div');\n",
       "    toolbar.classList = 'btn-toolbar';\n",
       "    this.root.appendChild(toolbar);\n",
       "\n",
       "    function on_click_closure(name) {\n",
       "        return function (_event) {\n",
       "            return fig.toolbar_button_onclick(name);\n",
       "        };\n",
       "    }\n",
       "\n",
       "    function on_mouseover_closure(tooltip) {\n",
       "        return function (event) {\n",
       "            if (!event.currentTarget.disabled) {\n",
       "                return fig.toolbar_button_onmouseover(tooltip);\n",
       "            }\n",
       "        };\n",
       "    }\n",
       "\n",
       "    fig.buttons = {};\n",
       "    var buttonGroup = document.createElement('div');\n",
       "    buttonGroup.classList = 'btn-group';\n",
       "    var button;\n",
       "    for (var toolbar_ind in mpl.toolbar_items) {\n",
       "        var name = mpl.toolbar_items[toolbar_ind][0];\n",
       "        var tooltip = mpl.toolbar_items[toolbar_ind][1];\n",
       "        var image = mpl.toolbar_items[toolbar_ind][2];\n",
       "        var method_name = mpl.toolbar_items[toolbar_ind][3];\n",
       "\n",
       "        if (!name) {\n",
       "            /* Instead of a spacer, we start a new button group. */\n",
       "            if (buttonGroup.hasChildNodes()) {\n",
       "                toolbar.appendChild(buttonGroup);\n",
       "            }\n",
       "            buttonGroup = document.createElement('div');\n",
       "            buttonGroup.classList = 'btn-group';\n",
       "            continue;\n",
       "        }\n",
       "\n",
       "        button = fig.buttons[name] = document.createElement('button');\n",
       "        button.classList = 'btn btn-default';\n",
       "        button.href = '#';\n",
       "        button.title = name;\n",
       "        button.innerHTML = '<i class=\"fa ' + image + ' fa-lg\"></i>';\n",
       "        button.addEventListener('click', on_click_closure(method_name));\n",
       "        button.addEventListener('mouseover', on_mouseover_closure(tooltip));\n",
       "        buttonGroup.appendChild(button);\n",
       "    }\n",
       "\n",
       "    if (buttonGroup.hasChildNodes()) {\n",
       "        toolbar.appendChild(buttonGroup);\n",
       "    }\n",
       "\n",
       "    // Add the status bar.\n",
       "    var status_bar = document.createElement('span');\n",
       "    status_bar.classList = 'mpl-message pull-right';\n",
       "    toolbar.appendChild(status_bar);\n",
       "    this.message = status_bar;\n",
       "\n",
       "    // Add the close button to the window.\n",
       "    var buttongrp = document.createElement('div');\n",
       "    buttongrp.classList = 'btn-group inline pull-right';\n",
       "    button = document.createElement('button');\n",
       "    button.classList = 'btn btn-mini btn-primary';\n",
       "    button.href = '#';\n",
       "    button.title = 'Stop Interaction';\n",
       "    button.innerHTML = '<i class=\"fa fa-power-off icon-remove icon-large\"></i>';\n",
       "    button.addEventListener('click', function (_evt) {\n",
       "        fig.handle_close(fig, {});\n",
       "    });\n",
       "    button.addEventListener(\n",
       "        'mouseover',\n",
       "        on_mouseover_closure('Stop Interaction')\n",
       "    );\n",
       "    buttongrp.appendChild(button);\n",
       "    var titlebar = this.root.querySelector('.ui-dialog-titlebar');\n",
       "    titlebar.insertBefore(buttongrp, titlebar.firstChild);\n",
       "};\n",
       "\n",
       "mpl.figure.prototype._remove_fig_handler = function (event) {\n",
       "    var fig = event.data.fig;\n",
       "    if (event.target !== this) {\n",
       "        // Ignore bubbled events from children.\n",
       "        return;\n",
       "    }\n",
       "    fig.close_ws(fig, {});\n",
       "};\n",
       "\n",
       "mpl.figure.prototype._root_extra_style = function (el) {\n",
       "    el.style.boxSizing = 'content-box'; // override notebook setting of border-box.\n",
       "};\n",
       "\n",
       "mpl.figure.prototype._canvas_extra_style = function (el) {\n",
       "    // this is important to make the div 'focusable\n",
       "    el.setAttribute('tabindex', 0);\n",
       "    // reach out to IPython and tell the keyboard manager to turn it's self\n",
       "    // off when our div gets focus\n",
       "\n",
       "    // location in version 3\n",
       "    if (IPython.notebook.keyboard_manager) {\n",
       "        IPython.notebook.keyboard_manager.register_events(el);\n",
       "    } else {\n",
       "        // location in version 2\n",
       "        IPython.keyboard_manager.register_events(el);\n",
       "    }\n",
       "};\n",
       "\n",
       "mpl.figure.prototype._key_event_extra = function (event, _name) {\n",
       "    var manager = IPython.notebook.keyboard_manager;\n",
       "    if (!manager) {\n",
       "        manager = IPython.keyboard_manager;\n",
       "    }\n",
       "\n",
       "    // Check for shift+enter\n",
       "    if (event.shiftKey && event.which === 13) {\n",
       "        this.canvas_div.blur();\n",
       "        // select the cell after this one\n",
       "        var index = IPython.notebook.find_cell_index(this.cell_info[0]);\n",
       "        IPython.notebook.select(index + 1);\n",
       "    }\n",
       "};\n",
       "\n",
       "mpl.figure.prototype.handle_save = function (fig, _msg) {\n",
       "    fig.ondownload(fig, null);\n",
       "};\n",
       "\n",
       "mpl.find_output_cell = function (html_output) {\n",
       "    // Return the cell and output element which can be found *uniquely* in the notebook.\n",
       "    // Note - this is a bit hacky, but it is done because the \"notebook_saving.Notebook\"\n",
       "    // IPython event is triggered only after the cells have been serialised, which for\n",
       "    // our purposes (turning an active figure into a static one), is too late.\n",
       "    var cells = IPython.notebook.get_cells();\n",
       "    var ncells = cells.length;\n",
       "    for (var i = 0; i < ncells; i++) {\n",
       "        var cell = cells[i];\n",
       "        if (cell.cell_type === 'code') {\n",
       "            for (var j = 0; j < cell.output_area.outputs.length; j++) {\n",
       "                var data = cell.output_area.outputs[j];\n",
       "                if (data.data) {\n",
       "                    // IPython >= 3 moved mimebundle to data attribute of output\n",
       "                    data = data.data;\n",
       "                }\n",
       "                if (data['text/html'] === html_output) {\n",
       "                    return [cell, data, j];\n",
       "                }\n",
       "            }\n",
       "        }\n",
       "    }\n",
       "};\n",
       "\n",
       "// Register the function which deals with the matplotlib target/channel.\n",
       "// The kernel may be null if the page has been refreshed.\n",
       "if (IPython.notebook.kernel !== null) {\n",
       "    IPython.notebook.kernel.comm_manager.register_target(\n",
       "        'matplotlib',\n",
       "        mpl.mpl_figure_comm\n",
       "    );\n",
       "}\n"
      ],
      "text/plain": [
       "<IPython.core.display.Javascript object>"
      ]
     },
     "metadata": {},
     "output_type": "display_data"
    },
    {
     "data": {
      "text/html": [
       "<img src=\"data:image/png;base64,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\" width=\"900\">"
      ],
      "text/plain": [
       "<IPython.core.display.HTML object>"
      ]
     },
     "metadata": {},
     "output_type": "display_data"
    }
   ],
   "source": [
    "%matplotlib notebook\n",
    "import matplotlib.pyplot as plt\n",
    "from pandas.plotting import register_matplotlib_converters\n",
    "\n",
    "register_matplotlib_converters()\n",
    "\n",
    "\n",
    "fig, ax = plt.subplots(figsize=(9, 3.75))\n",
    "pd.merge(\n",
    "    sal_ioos, sal_ooi, on=\"time (UTC)\", suffixes=(\"_ioos\", \"_ooi\"), how=\"outer\"\n",
    ").plot(ax=ax)\n",
    "fig.autofmt_xdate();"
   ]
  },
  {
   "cell_type": "markdown",
   "metadata": {},
   "source": [
    "Hopefully this new feature is useful and be sure to also check the simple search functionality (`search_servers`) in case one wants to browse data without extra constraints."
   ]
  }
 ],
 "metadata": {
  "kernelspec": {
   "display_name": "Python 3 (ipykernel)",
   "language": "python",
   "name": "python3"
  },
  "language_info": {
   "codemirror_mode": {
    "name": "ipython",
    "version": 3
   },
   "file_extension": ".py",
   "mimetype": "text/x-python",
   "name": "python",
   "nbconvert_exporter": "python",
   "pygments_lexer": "ipython3",
   "version": "3.9.7"
  },
  "widgets": {
   "application/vnd.jupyter.widget-state+json": {
    "state": {
     "000c566733974efcbbca18a4f829d5c3": {
      "model_module": "jupyter-leaflet",
      "model_module_version": "^0.14.0",
      "model_name": "LeafletAwesomeIconModel",
      "state": {
       "_model_module_version": "^0.14.0",
       "_view_module_version": "^0.14.0",
       "icon_color": "white",
       "marker_color": "orange",
       "name": "life-ring"
      }
     },
     "001289016d6241d7a9efc72bf768cc70": {
      "model_module": "jupyter-leaflet",
      "model_module_version": "^0.14.0",
      "model_name": "LeafletAwesomeIconModel",
      "state": {
       "_model_module_version": "^0.14.0",
       "_view_module_version": "^0.14.0",
       "icon_color": "white",
       "marker_color": "orange",
       "name": "life-ring"
      }
     },
     "00609d0dfca54c4b995b43423f0c8128": {
      "model_module": "jupyter-leaflet",
      "model_module_version": "^0.14.0",
      "model_name": "LeafletMarkerModel",
      "state": {
       "_model_module_version": "^0.14.0",
       "_view_module_version": "^0.14.0",
       "icon": "IPY_MODEL_d113f4dec824480a815d9bd0fa0113a1",
       "location": [
        43.3447,
        -124.3231
       ],
       "options": [
        "alt",
        "draggable",
        "keyboard",
        "rise_offset",
        "rise_on_hover",
        "rotation_angle",
        "rotation_origin",
        "title",
        "z_index_offset"
       ],
       "popup": "IPY_MODEL_5e4e9364767645908753169b4a7ccb65"
      }
     },
     "008064f8267f400bbb986047cd68ecbe": {
      "model_module": "jupyter-leaflet",
      "model_module_version": "^0.14.0",
      "model_name": "LeafletMarkerModel",
      "state": {
       "_model_module_version": "^0.14.0",
       "_view_module_version": "^0.14.0",
       "icon": "IPY_MODEL_a046e0509bf347699e3abad3454634cb",
       "location": [
        44.52897,
        -125.38966
       ],
       "options": [
        "alt",
        "draggable",
        "keyboard",
        "rise_offset",
        "rise_on_hover",
        "rotation_angle",
        "rotation_origin",
        "title",
        "z_index_offset"
       ],
       "popup": "IPY_MODEL_72d66f570cc9430c8e9630e16d694878"
      }
     },
     "009f1600d4d943f2bbedfa3200a8e67d": {
      "model_module": "@jupyter-widgets/controls",
      "model_module_version": "1.5.0",
      "model_name": "HTMLModel",
      "state": {
       "layout": "IPY_MODEL_bf6573ef98eb4184a472f91deec94208",
       "style": "IPY_MODEL_7c6f09092d3d448d95a92edab82c731c",
       "value": "<table border=\"1\" class=\"dataframe table table-striped table-hover table-condensed table-responsive\">\n  <thead>\n    <tr style=\"text-align: right;\">\n      <th></th>\n      <th>37</th>\n    </tr>\n  </thead>\n  <tbody>\n    <tr>\n      <th>Institution</th>\n      <td>Ocean Observatories Initiative (OOI)</td>\n    </tr>\n    <tr>\n      <th>Dataset ID</th>\n      <td>ooi-ce06issm-mfd37-03-dostad000</td>\n    </tr>\n  </tbody>\n</table>"
      }
     },
     "00a0bacce06547b082fa7299cd0f8221": {
      "model_module": "@jupyter-widgets/base",
      "model_module_version": "1.2.0",
      "model_name": "LayoutModel",
      "state": {}
     },
     "00bdec2380d345eea9146e472c0f1c89": {
      "model_module": "@jupyter-widgets/controls",
      "model_module_version": "1.5.0",
      "model_name": "HTMLModel",
      "state": {
       "layout": "IPY_MODEL_70950566fd174fb1897a4708b356bca5",
       "style": "IPY_MODEL_078cb08b3d484973b8b4626d4363e4a3",
       "value": "<table border=\"1\" class=\"dataframe table table-striped table-hover table-condensed table-responsive\">\n  <thead>\n    <tr style=\"text-align: right;\">\n      <th></th>\n      <th>53</th>\n    </tr>\n  </thead>\n  <tbody>\n    <tr>\n      <th>Institution</th>\n      <td>Ocean Observatories Initiative (OOI)</td>\n    </tr>\n    <tr>\n      <th>Dataset ID</th>\n      <td>ooi-ce07shsm-rid26-07-nutnrb000</td>\n    </tr>\n  </tbody>\n</table>"
      }
     },
     "00d88b6e3b4b4a3dbb0f9f3f0a79d191": {
      "model_module": "jupyter-leaflet",
      "model_module_version": "^0.14.0",
      "model_name": "LeafletMarkerModel",
      "state": {
       "_model_module_version": "^0.14.0",
       "_view_module_version": "^0.14.0",
       "icon": "IPY_MODEL_67bbf18e177e4622ad9e706c201e4c4f",
       "location": [
        44.63577,
        -124.3035
       ],
       "options": [
        "alt",
        "draggable",
        "keyboard",
        "rise_offset",
        "rise_on_hover",
        "rotation_angle",
        "rotation_origin",
        "title",
        "z_index_offset"
       ],
       "popup": "IPY_MODEL_18d131ff57484b4a934a8aa625d3be04"
      }
     },
     "00f8835715b94449bb71b3b6a1189fe7": {
      "model_module": "@jupyter-widgets/base",
      "model_module_version": "1.2.0",
      "model_name": "LayoutModel",
      "state": {}
     },
     "0132a57af6df455abfe20d703fc43ae7": {
      "model_module": "jupyter-leaflet",
      "model_module_version": "^0.14.0",
      "model_name": "LeafletMarkerModel",
      "state": {
       "_model_module_version": "^0.14.0",
       "_view_module_version": "^0.14.0",
       "icon": "IPY_MODEL_84cee63031454c0f920fae09b259fe18",
       "location": [
        44.63708,
        -124.30595
       ],
       "options": [
        "alt",
        "draggable",
        "keyboard",
        "rise_offset",
        "rise_on_hover",
        "rotation_angle",
        "rotation_origin",
        "title",
        "z_index_offset"
       ],
       "popup": "IPY_MODEL_3b0f6437d3294fffb42050a76fe841f0"
      }
     },
     "01461ad4bff64cb08999f57d6fd6e367": {
      "model_module": "jupyter-leaflet",
      "model_module_version": "^0.14.0",
      "model_name": "LeafletMarkerModel",
      "state": {
       "_model_module_version": "^0.14.0",
       "_view_module_version": "^0.14.0",
       "icon": "IPY_MODEL_e15228ea30a04a66b4bff6b9017e4315",
       "location": [
        46.98408,
        -124.56631
       ],
       "options": [
        "alt",
        "draggable",
        "keyboard",
        "rise_offset",
        "rise_on_hover",
        "rotation_angle",
        "rotation_origin",
        "title",
        "z_index_offset"
       ],
       "popup": "IPY_MODEL_45f931aac7ff49fdbb9daff0b7adda34"
      }
     },
     "022607fca4174368b0b43d21c61d8c9f": {
      "model_module": "jupyter-leaflet",
      "model_module_version": "^0.14.0",
      "model_name": "LeafletAwesomeIconModel",
      "state": {
       "_model_module_version": "^0.14.0",
       "_view_module_version": "^0.14.0",
       "icon_color": "white",
       "marker_color": "orange",
       "name": "life-ring"
      }
     },
     "02c1935716794e939f6face561d73209": {
      "model_module": "jupyter-leaflet",
      "model_module_version": "^0.14.0",
      "model_name": "LeafletZoomControlModel",
      "state": {
       "_model_module_version": "^0.14.0",
       "_view_module_version": "^0.14.0",
       "options": [
        "position",
        "zoom_in_text",
        "zoom_in_title",
        "zoom_out_text",
        "zoom_out_title"
       ]
      }
     },
     "02cee169040d4926a776ea4b79f1d380": {
      "model_module": "jupyter-leaflet",
      "model_module_version": "^0.14.0",
      "model_name": "LeafletAwesomeIconModel",
      "state": {
       "_model_module_version": "^0.14.0",
       "_view_module_version": "^0.14.0",
       "icon_color": "white",
       "name": "life-ring"
      }
     },
     "03033c8aae4742be909c315f76789bf8": {
      "model_module": "@jupyter-widgets/base",
      "model_module_version": "1.2.0",
      "model_name": "LayoutModel",
      "state": {}
     },
     "0303d5d408ad47c9a1567aa8d3b9d050": {
      "model_module": "jupyter-leaflet",
      "model_module_version": "^0.14.0",
      "model_name": "LeafletAwesomeIconModel",
      "state": {
       "_model_module_version": "^0.14.0",
       "_view_module_version": "^0.14.0",
       "icon_color": "white",
       "marker_color": "orange",
       "name": "life-ring"
      }
     },
     "0355f1efea444136a8eff7dce142d523": {
      "model_module": "@jupyter-widgets/controls",
      "model_module_version": "1.5.0",
      "model_name": "DescriptionStyleModel",
      "state": {
       "description_width": ""
      }
     },
     "0380af0c690f4e2c8ab38c1052eeb6cb": {
      "model_module": "@jupyter-widgets/base",
      "model_module_version": "1.2.0",
      "model_name": "LayoutModel",
      "state": {}
     },
     "0398ad435cd64f0e9b038d233971d40e": {
      "model_module": "jupyter-leaflet",
      "model_module_version": "^0.14.0",
      "model_name": "LeafletAwesomeIconModel",
      "state": {
       "_model_module_version": "^0.14.0",
       "_view_module_version": "^0.14.0",
       "icon_color": "white",
       "marker_color": "orange",
       "name": "life-ring"
      }
     },
     "04e037a9c7f043cebb377fec6d7e4a32": {
      "model_module": "@jupyter-widgets/controls",
      "model_module_version": "1.5.0",
      "model_name": "HTMLModel",
      "state": {
       "layout": "IPY_MODEL_78d95510305140bca5d5a1b0847a1e48",
       "style": "IPY_MODEL_067651debd554911bbad34fdb102987c",
       "value": "<table border=\"1\" class=\"dataframe table table-striped table-hover table-condensed table-responsive\">\n  <thead>\n    <tr style=\"text-align: right;\">\n      <th></th>\n      <th>31</th>\n    </tr>\n  </thead>\n  <tbody>\n    <tr>\n      <th>Institution</th>\n      <td>Ocean Observatories Initiative (OOI)</td>\n    </tr>\n    <tr>\n      <th>Dataset ID</th>\n      <td>ooi-ce06issm-rid16-02-flortd000</td>\n    </tr>\n  </tbody>\n</table>"
      }
     },
     "0533e3a3eeb2493db09363337a4a5ab6": {
      "model_module": "@jupyter-widgets/controls",
      "model_module_version": "1.5.0",
      "model_name": "DescriptionStyleModel",
      "state": {
       "description_width": ""
      }
     },
     "0541cce5c15046d0af33033f490e0bd6": {
      "model_module": "@jupyter-widgets/base",
      "model_module_version": "1.2.0",
      "model_name": "LayoutModel",
      "state": {}
     },
     "05aa0fbc14e2489eb246a41cf48097f0": {
      "model_module": "@jupyter-widgets/base",
      "model_module_version": "1.2.0",
      "model_name": "LayoutModel",
      "state": {}
     },
     "06367a2e2baf4c949e442057f4660ca1": {
      "model_module": "jupyter-leaflet",
      "model_module_version": "^0.14.0",
      "model_name": "LeafletMarkerModel",
      "state": {
       "_model_module_version": "^0.14.0",
       "_view_module_version": "^0.14.0",
       "icon": "IPY_MODEL_70d1ee14d87045659af1b3122c09dd33",
       "location": [
        44.6,
        -124.3
       ],
       "options": [
        "alt",
        "draggable",
        "keyboard",
        "rise_offset",
        "rise_on_hover",
        "rotation_angle",
        "rotation_origin",
        "title",
        "z_index_offset"
       ],
       "popup": "IPY_MODEL_9a8715a7630a4064b7b66d3e900438b3"
      }
     },
     "065bb53fb09c4689981a6e577b23b613": {
      "model_module": "@jupyter-widgets/controls",
      "model_module_version": "1.5.0",
      "model_name": "DescriptionStyleModel",
      "state": {
       "description_width": ""
      }
     },
     "0662c6a6d45c457ca646d1e8d322bf7a": {
      "model_module": "@jupyter-widgets/controls",
      "model_module_version": "1.5.0",
      "model_name": "DescriptionStyleModel",
      "state": {
       "description_width": ""
      }
     },
     "067651debd554911bbad34fdb102987c": {
      "model_module": "@jupyter-widgets/controls",
      "model_module_version": "1.5.0",
      "model_name": "DescriptionStyleModel",
      "state": {
       "description_width": ""
      }
     },
     "0694e07cbee6497b96947a559aa20d9c": {
      "model_module": "@jupyter-widgets/base",
      "model_module_version": "1.2.0",
      "model_name": "LayoutModel",
      "state": {}
     },
     "06b4b599cf1a49138ed4d2de53f5d219": {
      "model_module": "@jupyter-widgets/controls",
      "model_module_version": "1.5.0",
      "model_name": "HTMLModel",
      "state": {
       "layout": "IPY_MODEL_41689ae56527440aa96c84eeb7400946",
       "style": "IPY_MODEL_37047ae22f6e49cd907bb101d66ac62d",
       "value": "<table border=\"1\" class=\"dataframe table table-striped table-hover table-condensed table-responsive\">\n  <thead>\n    <tr style=\"text-align: right;\">\n      <th></th>\n      <th>38</th>\n    </tr>\n  </thead>\n  <tbody>\n    <tr>\n      <th>Institution</th>\n      <td>Ocean Observatories Initiative (OOI)</td>\n    </tr>\n    <tr>\n      <th>Dataset ID</th>\n      <td>ooi-ce06issm-mfd35-06-phsend000</td>\n    </tr>\n  </tbody>\n</table>"
      }
     },
     "06d6f7ebf5164ccfa6d941f6cd99f80d": {
      "model_module": "@jupyter-widgets/base",
      "model_module_version": "1.2.0",
      "model_name": "LayoutModel",
      "state": {}
     },
     "06df2ed24e8144dfaccdc89ba58874c2": {
      "model_module": "@jupyter-widgets/controls",
      "model_module_version": "1.5.0",
      "model_name": "DescriptionStyleModel",
      "state": {
       "description_width": ""
      }
     },
     "06eba3ae82c945c09b70ad788145614b": {
      "model_module": "@jupyter-widgets/base",
      "model_module_version": "1.2.0",
      "model_name": "LayoutModel",
      "state": {}
     },
     "078cb08b3d484973b8b4626d4363e4a3": {
      "model_module": "@jupyter-widgets/controls",
      "model_module_version": "1.5.0",
      "model_name": "DescriptionStyleModel",
      "state": {
       "description_width": ""
      }
     },
     "078e25c3395146d79666628d8f4da034": {
      "model_module": "jupyter-leaflet",
      "model_module_version": "^0.14.0",
      "model_name": "LeafletAwesomeIconModel",
      "state": {
       "_model_module_version": "^0.14.0",
       "_view_module_version": "^0.14.0",
       "icon_color": "white",
       "marker_color": "orange",
       "name": "life-ring"
      }
     },
     "0793338956ad45df90e8c71d9ea42124": {
      "model_module": "@jupyter-widgets/controls",
      "model_module_version": "1.5.0",
      "model_name": "HTMLModel",
      "state": {
       "layout": "IPY_MODEL_ae544723b36b4db29f54d805fba60afb",
       "style": "IPY_MODEL_3850a61ce8de43dfa8e46a547c1c58d4",
       "value": "<table border=\"1\" class=\"dataframe table table-striped table-hover table-condensed table-responsive\">\n  <thead>\n    <tr style=\"text-align: right;\">\n      <th></th>\n      <th>74</th>\n    </tr>\n  </thead>\n  <tbody>\n    <tr>\n      <th>Institution</th>\n      <td>NOAA Center for Operational Oceanographic Products and Services (CO-OPS)</td>\n    </tr>\n    <tr>\n      <th>Dataset ID</th>\n      <td>noaa_nos_co_ops_9437540</td>\n    </tr>\n  </tbody>\n</table>"
      }
     },
     "0797c143c9ae4ac29a56c3c27057bd94": {
      "model_module": "jupyter-leaflet",
      "model_module_version": "^0.14.0",
      "model_name": "LeafletAwesomeIconModel",
      "state": {
       "_model_module_version": "^0.14.0",
       "_view_module_version": "^0.14.0",
       "icon_color": "white",
       "marker_color": "orange",
       "name": "life-ring"
      }
     },
     "0862e16dfe0d4197949d716b20665c6e": {
      "model_module": "jupyter-leaflet",
      "model_module_version": "^0.14.0",
      "model_name": "LeafletMarkerModel",
      "state": {
       "_model_module_version": "^0.14.0",
       "_view_module_version": "^0.14.0",
       "icon": "IPY_MODEL_87544b25b1bc448ab88a35d471461ff2",
       "location": [
        47.1345,
        -124.27087
       ],
       "options": [
        "alt",
        "draggable",
        "keyboard",
        "rise_offset",
        "rise_on_hover",
        "rotation_angle",
        "rotation_origin",
        "title",
        "z_index_offset"
       ],
       "popup": "IPY_MODEL_725033bac50d4f1ba0dbfb784b042974"
      }
     },
     "0899d75e645444169dbb1e9ab0186cbc": {
      "model_module": "@jupyter-widgets/controls",
      "model_module_version": "1.5.0",
      "model_name": "HTMLModel",
      "state": {
       "layout": "IPY_MODEL_8ca227214eb7454f96a38d5f8ed3412d",
       "style": "IPY_MODEL_f8c37ffde7814f7098d43fd391781c02",
       "value": "<table border=\"1\" class=\"dataframe table table-striped table-hover table-condensed table-responsive\">\n  <thead>\n    <tr style=\"text-align: right;\">\n      <th></th>\n      <th>21</th>\n    </tr>\n  </thead>\n  <tbody>\n    <tr>\n      <th>Institution</th>\n      <td>Ocean Observatories Initiative (OOI)</td>\n    </tr>\n    <tr>\n      <th>Dataset ID</th>\n      <td>ooi-ce04ossm-sbd12-04-pco2aa000</td>\n    </tr>\n  </tbody>\n</table>"
      }
     },
     "09687a4ed88544779d9d48006aa78142": {
      "model_module": "jupyter-leaflet",
      "model_module_version": "^0.14.0",
      "model_name": "LeafletAwesomeIconModel",
      "state": {
       "_model_module_version": "^0.14.0",
       "_view_module_version": "^0.14.0",
       "icon_color": "white",
       "name": "life-ring"
      }
     },
     "0995db21ad52474fbdfe36c95d3422a0": {
      "model_module": "@jupyter-widgets/controls",
      "model_module_version": "1.5.0",
      "model_name": "HTMLModel",
      "state": {
       "layout": "IPY_MODEL_d8c201fb51ed4dea9b03e40bd746ad43",
       "style": "IPY_MODEL_fc715c23cedd411e9beb5549b3d292b3",
       "value": "<table border=\"1\" class=\"dataframe table table-striped table-hover table-condensed table-responsive\">\n  <thead>\n    <tr style=\"text-align: right;\">\n      <th></th>\n      <th>29</th>\n    </tr>\n  </thead>\n  <tbody>\n    <tr>\n      <th>Institution</th>\n      <td>Ocean Observatories Initiative (OOI)</td>\n    </tr>\n    <tr>\n      <th>Dataset ID</th>\n      <td>ooi-ce02shsm-sbd11-06-metbka000</td>\n    </tr>\n  </tbody>\n</table>"
      }
     },
     "09dc333c0f2943988d74586cfe9e05f8": {
      "model_module": "@jupyter-widgets/base",
      "model_module_version": "1.2.0",
      "model_name": "LayoutModel",
      "state": {}
     },
     "0a13445913c64e3fb3dade4d1b45ec53": {
      "model_module": "jupyter-leaflet",
      "model_module_version": "^0.14.0",
      "model_name": "LeafletMarkerModel",
      "state": {
       "_model_module_version": "^0.14.0",
       "_view_module_version": "^0.14.0",
       "icon": "IPY_MODEL_751a09ccd6cd4108ad6661c68f34175e",
       "location": [
        46.85367,
        -124.95935
       ],
       "options": [
        "alt",
        "draggable",
        "keyboard",
        "rise_offset",
        "rise_on_hover",
        "rotation_angle",
        "rotation_origin",
        "title",
        "z_index_offset"
       ],
       "popup": "IPY_MODEL_d573c2d04c8045a6a4f598feea3b9913"
      }
     },
     "0a143eefea614f298ab4a6ac05eb396d": {
      "model_module": "@jupyter-widgets/controls",
      "model_module_version": "1.5.0",
      "model_name": "DescriptionStyleModel",
      "state": {
       "description_width": ""
      }
     },
     "0a638f1c4168424ca7b632807cf590bd": {
      "model_module": "@jupyter-widgets/base",
      "model_module_version": "1.2.0",
      "model_name": "LayoutModel",
      "state": {}
     },
     "0b0dd053b469474594ce0d75bebe889b": {
      "model_module": "jupyter-leaflet",
      "model_module_version": "^0.14.0",
      "model_name": "LeafletAwesomeIconModel",
      "state": {
       "_model_module_version": "^0.14.0",
       "_view_module_version": "^0.14.0",
       "icon_color": "white",
       "marker_color": "orange",
       "name": "life-ring"
      }
     },
     "0b4fc55f198a45dea5a5f3aa308b1db6": {
      "model_module": "@jupyter-widgets/controls",
      "model_module_version": "1.5.0",
      "model_name": "DescriptionStyleModel",
      "state": {
       "description_width": ""
      }
     },
     "0bad518039fa473ab742da7d304b1f9a": {
      "model_module": "@jupyter-widgets/controls",
      "model_module_version": "1.5.0",
      "model_name": "DescriptionStyleModel",
      "state": {
       "description_width": ""
      }
     },
     "0be727739dba49079ab7a21aab343b21": {
      "model_module": "jupyter-leaflet",
      "model_module_version": "^0.14.0",
      "model_name": "LeafletAwesomeIconModel",
      "state": {
       "_model_module_version": "^0.14.0",
       "_view_module_version": "^0.14.0",
       "icon_color": "white",
       "marker_color": "orange",
       "name": "life-ring"
      }
     },
     "0bfad5ffb75d4b348db1f3ea3e8a9b23": {
      "model_module": "@jupyter-widgets/controls",
      "model_module_version": "1.5.0",
      "model_name": "HTMLModel",
      "state": {
       "layout": "IPY_MODEL_6aafbe919f6747718037465a862e8b5b",
       "style": "IPY_MODEL_2f970490e4de4f058c5491eb90c30ad1",
       "value": "<table border=\"1\" class=\"dataframe table table-striped table-hover table-condensed table-responsive\">\n  <thead>\n    <tr style=\"text-align: right;\">\n      <th></th>\n      <th>17</th>\n    </tr>\n  </thead>\n  <tbody>\n    <tr>\n      <th>Institution</th>\n      <td>Ocean Observatories Initiative (OOI)</td>\n    </tr>\n    <tr>\n      <th>Dataset ID</th>\n      <td>ooi-ce04ossm-rid27-04-dostad000</td>\n    </tr>\n  </tbody>\n</table>"
      }
     },
     "0c14b03fec56429ea4d7d48d03136a88": {
      "model_module": "@jupyter-widgets/base",
      "model_module_version": "1.2.0",
      "model_name": "LayoutModel",
      "state": {}
     },
     "0c45d13d92b7457198728b1b567ae935": {
      "model_module": "jupyter-leaflet",
      "model_module_version": "^0.14.0",
      "model_name": "LeafletMarkerModel",
      "state": {
       "_model_module_version": "^0.14.0",
       "_view_module_version": "^0.14.0",
       "icon": "IPY_MODEL_6f5e887e5e2d4acfabbca83c2340a34b",
       "location": [
        44.6,
        -124.3
       ],
       "options": [
        "alt",
        "draggable",
        "keyboard",
        "rise_offset",
        "rise_on_hover",
        "rotation_angle",
        "rotation_origin",
        "title",
        "z_index_offset"
       ],
       "popup": "IPY_MODEL_9883f3fbae234bfa8e3351030097e233"
      }
     },
     "0c5b39b821b047fdaa2e4598ee7a2e36": {
      "model_module": "@jupyter-widgets/controls",
      "model_module_version": "1.5.0",
      "model_name": "HTMLModel",
      "state": {
       "layout": "IPY_MODEL_3a8445e8a3744c90b0f2de58e652809c",
       "style": "IPY_MODEL_d044f59ff5b14a108ddf2fd246f590a4",
       "value": "<table border=\"1\" class=\"dataframe table table-striped table-hover table-condensed table-responsive\">\n  <thead>\n    <tr style=\"text-align: right;\">\n      <th></th>\n      <th>11</th>\n    </tr>\n  </thead>\n  <tbody>\n    <tr>\n      <th>Institution</th>\n      <td>Ocean Observatories Initiative (OOI)</td>\n    </tr>\n    <tr>\n      <th>Dataset ID</th>\n      <td>ooi-ce04osbp-lj01c-10-phsend107</td>\n    </tr>\n  </tbody>\n</table>"
      }
     },
     "0c7643329bd54fcb87ee8fb712b7a732": {
      "model_module": "jupyter-leaflet",
      "model_module_version": "^0.14.0",
      "model_name": "LeafletMarkerModel",
      "state": {
       "_model_module_version": "^0.14.0",
       "_view_module_version": "^0.14.0",
       "icon": "IPY_MODEL_bb6fab6f91224265b70ee8d33672ae80",
       "location": [
        44.65678,
        -124.09707
       ],
       "options": [
        "alt",
        "draggable",
        "keyboard",
        "rise_offset",
        "rise_on_hover",
        "rotation_angle",
        "rotation_origin",
        "title",
        "z_index_offset"
       ],
       "popup": "IPY_MODEL_5eef00876c794003bb6bc15f2d9049d6"
      }
     },
     "0cc15c8b3ade4a6ca03edaa6bd00f079": {
      "model_module": "@jupyter-widgets/base",
      "model_module_version": "1.2.0",
      "model_name": "LayoutModel",
      "state": {}
     },
     "0dad78ea21f64b08b1972883c8d31ba6": {
      "model_module": "jupyter-leaflet",
      "model_module_version": "^0.14.0",
      "model_name": "LeafletAwesomeIconModel",
      "state": {
       "_model_module_version": "^0.14.0",
       "_view_module_version": "^0.14.0",
       "icon_color": "white",
       "name": "life-ring"
      }
     },
     "0db595946e3c4ade909fa19ca6dbc917": {
      "model_module": "@jupyter-widgets/controls",
      "model_module_version": "1.5.0",
      "model_name": "DescriptionStyleModel",
      "state": {
       "description_width": ""
      }
     },
     "0e1ba6a13357428fafd0a67cb5dad4e3": {
      "model_module": "jupyter-leaflet",
      "model_module_version": "^0.14.0",
      "model_name": "LeafletAwesomeIconModel",
      "state": {
       "_model_module_version": "^0.14.0",
       "_view_module_version": "^0.14.0",
       "icon_color": "white",
       "name": "life-ring"
      }
     },
     "0e1bad5b60ee45cdac19708016adfcd0": {
      "model_module": "@jupyter-widgets/controls",
      "model_module_version": "1.5.0",
      "model_name": "HTMLModel",
      "state": {
       "layout": "IPY_MODEL_c8563b6e220942ef82fd7fa8d07900eb",
       "style": "IPY_MODEL_74d3ed55900f411798f9cd8873490ef2",
       "value": "<table border=\"1\" class=\"dataframe table table-striped table-hover table-condensed table-responsive\">\n  <thead>\n    <tr style=\"text-align: right;\">\n      <th></th>\n      <th>65</th>\n    </tr>\n  </thead>\n  <tbody>\n    <tr>\n      <th>Institution</th>\n      <td>Observing System Monitoring Center (OSMC)</td>\n    </tr>\n    <tr>\n      <th>Dataset ID</th>\n      <td>osmc_46098</td>\n    </tr>\n  </tbody>\n</table>"
      }
     },
     "0e29128dbe0d4e8b8b41b6a424089e57": {
      "model_module": "@jupyter-widgets/base",
      "model_module_version": "1.2.0",
      "model_name": "LayoutModel",
      "state": {}
     },
     "0e67f04279714daeb0cc1574c0984fe1": {
      "model_module": "@jupyter-widgets/controls",
      "model_module_version": "1.5.0",
      "model_name": "DescriptionStyleModel",
      "state": {
       "description_width": ""
      }
     },
     "0e6f853556ae485598bcca048902c5df": {
      "model_module": "jupyter-leaflet",
      "model_module_version": "^0.14.0",
      "model_name": "LeafletMarkerModel",
      "state": {
       "_model_module_version": "^0.14.0",
       "_view_module_version": "^0.14.0",
       "icon": "IPY_MODEL_b78dcf10b96b43d193b810f90052082f",
       "location": [
        44.65678,
        -124.09707
       ],
       "options": [
        "alt",
        "draggable",
        "keyboard",
        "rise_offset",
        "rise_on_hover",
        "rotation_angle",
        "rotation_origin",
        "title",
        "z_index_offset"
       ],
       "popup": "IPY_MODEL_561cf554296b46828361ef7ca4b2814a"
      }
     },
     "0e9a66af367e453cb012f568d3e21123": {
      "model_module": "jupyter-leaflet",
      "model_module_version": "^0.14.0",
      "model_name": "LeafletAwesomeIconModel",
      "state": {
       "_model_module_version": "^0.14.0",
       "_view_module_version": "^0.14.0",
       "icon_color": "white",
       "marker_color": "orange",
       "name": "life-ring"
      }
     },
     "0ea3eac917fd41619def0dabd955bde5": {
      "model_module": "@jupyter-widgets/controls",
      "model_module_version": "1.5.0",
      "model_name": "DescriptionStyleModel",
      "state": {
       "description_width": ""
      }
     },
     "0ea95ad08f2b421dafc61b9db036c742": {
      "model_module": "jupyter-leaflet",
      "model_module_version": "^0.14.0",
      "model_name": "LeafletMarkerModel",
      "state": {
       "_model_module_version": "^0.14.0",
       "_view_module_version": "^0.14.0",
       "icon": "IPY_MODEL_d9db90d3b9a64ac08867d2c4af8552c5",
       "location": [
        46.98648,
        -124.56923
       ],
       "options": [
        "alt",
        "draggable",
        "keyboard",
        "rise_offset",
        "rise_on_hover",
        "rotation_angle",
        "rotation_origin",
        "title",
        "z_index_offset"
       ],
       "popup": "IPY_MODEL_15ce187af4cf470e8d7efd65e4a258be"
      }
     },
     "0eba3b088c854b43bfb6d5aee87d5876": {
      "model_module": "jupyter-leaflet",
      "model_module_version": "^0.14.0",
      "model_name": "LeafletMarkerModel",
      "state": {
       "_model_module_version": "^0.14.0",
       "_view_module_version": "^0.14.0",
       "icon": "IPY_MODEL_91f3f9b8a0ab417b9872ff849a26e75c",
       "location": [
        47.1345,
        -124.27087
       ],
       "options": [
        "alt",
        "draggable",
        "keyboard",
        "rise_offset",
        "rise_on_hover",
        "rotation_angle",
        "rotation_origin",
        "title",
        "z_index_offset"
       ],
       "popup": "IPY_MODEL_15467982e49d445492bee2077e9d4f05"
      }
     },
     "0edd154c36374ac8b7ac0311e53bdb9f": {
      "model_module": "jupyter-leaflet",
      "model_module_version": "^0.14.0",
      "model_name": "LeafletAwesomeIconModel",
      "state": {
       "_model_module_version": "^0.14.0",
       "_view_module_version": "^0.14.0",
       "icon_color": "white",
       "marker_color": "orange",
       "name": "life-ring"
      }
     },
     "0f230c4b6ce846359d4d6f409b6495bc": {
      "model_module": "jupyter-leaflet",
      "model_module_version": "^0.14.0",
      "model_name": "LeafletAwesomeIconModel",
      "state": {
       "_model_module_version": "^0.14.0",
       "_view_module_version": "^0.14.0",
       "icon_color": "white",
       "marker_color": "orange",
       "name": "life-ring"
      }
     },
     "0f73b6a0eb9c4ebab84dde07601b526c": {
      "model_module": "@jupyter-widgets/base",
      "model_module_version": "1.2.0",
      "model_name": "LayoutModel",
      "state": {}
     },
     "0f9a3c3c23604f06bcecbafc4b42bff5": {
      "model_module": "jupyter-leaflet",
      "model_module_version": "^0.14.0",
      "model_name": "LeafletAwesomeIconModel",
      "state": {
       "_model_module_version": "^0.14.0",
       "_view_module_version": "^0.14.0",
       "icon_color": "white",
       "name": "life-ring"
      }
     },
     "1016746262324ed4920644a5e247b045": {
      "model_module": "@jupyter-widgets/controls",
      "model_module_version": "1.5.0",
      "model_name": "HTMLModel",
      "state": {
       "layout": "IPY_MODEL_8c236b0874284473b7f14ec4bec2a09b",
       "style": "IPY_MODEL_bd484707e21646cbaec7e7ce3b3c3064",
       "value": "<table border=\"1\" class=\"dataframe table table-striped table-hover table-condensed table-responsive\">\n  <thead>\n    <tr style=\"text-align: right;\">\n      <th></th>\n      <th>62</th>\n    </tr>\n  </thead>\n  <tbody>\n    <tr>\n      <th>Institution</th>\n      <td>Ocean Observatories Initiative (OOI)</td>\n    </tr>\n    <tr>\n      <th>Dataset ID</th>\n      <td>ooi-rs01sbps-pc01a-4b-phsena102</td>\n    </tr>\n  </tbody>\n</table>"
      }
     },
     "102c108691c64d14a05d2b238a621c49": {
      "model_module": "jupyter-leaflet",
      "model_module_version": "^0.14.0",
      "model_name": "LeafletMarkerModel",
      "state": {
       "_model_module_version": "^0.14.0",
       "_view_module_version": "^0.14.0",
       "icon": "IPY_MODEL_6d14fd9402c34e4f912a31485f49e00a",
       "location": [
        47.1345,
        -124.27087
       ],
       "options": [
        "alt",
        "draggable",
        "keyboard",
        "rise_offset",
        "rise_on_hover",
        "rotation_angle",
        "rotation_origin",
        "title",
        "z_index_offset"
       ],
       "popup": "IPY_MODEL_3be2937ea703415d90eacdc94e8c42fe"
      }
     },
     "10328c99bc25485685e23036254d4f9b": {
      "model_module": "@jupyter-widgets/base",
      "model_module_version": "1.2.0",
      "model_name": "LayoutModel",
      "state": {}
     },
     "1043606736a74e06afab119b8e11fb83": {
      "model_module": "@jupyter-widgets/controls",
      "model_module_version": "1.5.0",
      "model_name": "DescriptionStyleModel",
      "state": {
       "description_width": ""
      }
     },
     "10abbaf8aa1c40cc840deaeef44a8fa7": {
      "model_module": "@jupyter-widgets/controls",
      "model_module_version": "1.5.0",
      "model_name": "HTMLModel",
      "state": {
       "layout": "IPY_MODEL_d8bbfc180ea34a7faade3963d914db4f",
       "style": "IPY_MODEL_c55a38762e164f5f8530afbdd5613c62",
       "value": "<table border=\"1\" class=\"dataframe table table-striped table-hover table-condensed table-responsive\">\n  <thead>\n    <tr style=\"text-align: right;\">\n      <th></th>\n      <th>39</th>\n    </tr>\n  </thead>\n  <tbody>\n    <tr>\n      <th>Institution</th>\n      <td>Ocean Observatories Initiative (OOI)</td>\n    </tr>\n    <tr>\n      <th>Dataset ID</th>\n      <td>ooi-ce06issm-sbd17-06-flortd000</td>\n    </tr>\n  </tbody>\n</table>"
      }
     },
     "1104c4584af34b2ca66421355226c700": {
      "model_module": "jupyter-leaflet",
      "model_module_version": "^0.14.0",
      "model_name": "LeafletMarkerModel",
      "state": {
       "_model_module_version": "^0.14.0",
       "_view_module_version": "^0.14.0",
       "icon": "IPY_MODEL_4d3449d5e6284ac9a4a7d315a37246f2",
       "location": [
        44.3695,
        -124.95369
       ],
       "options": [
        "alt",
        "draggable",
        "keyboard",
        "rise_offset",
        "rise_on_hover",
        "rotation_angle",
        "rotation_origin",
        "title",
        "z_index_offset"
       ],
       "popup": "IPY_MODEL_151e6d2f127246e7b983b00150076e9e"
      }
     },
     "1104e1875021431fbe7b9dba55301622": {
      "model_module": "jupyter-leaflet",
      "model_module_version": "^0.14.0",
      "model_name": "LeafletAwesomeIconModel",
      "state": {
       "_model_module_version": "^0.14.0",
       "_view_module_version": "^0.14.0",
       "icon_color": "white",
       "marker_color": "orange",
       "name": "life-ring"
      }
     },
     "112e162e817a4cc8a2dd770a8302a8d6": {
      "model_module": "@jupyter-widgets/controls",
      "model_module_version": "1.5.0",
      "model_name": "DescriptionStyleModel",
      "state": {
       "description_width": ""
      }
     },
     "11bd60b9cf6743bfb404c831db78d422": {
      "model_module": "jupyter-leaflet",
      "model_module_version": "^0.14.0",
      "model_name": "LeafletMarkerModel",
      "state": {
       "_model_module_version": "^0.14.0",
       "_view_module_version": "^0.14.0",
       "icon": "IPY_MODEL_c4ac9fe3bd874e8d853d740404c2fe47",
       "location": [
        46.85367,
        -124.95935
       ],
       "options": [
        "alt",
        "draggable",
        "keyboard",
        "rise_offset",
        "rise_on_hover",
        "rotation_angle",
        "rotation_origin",
        "title",
        "z_index_offset"
       ],
       "popup": "IPY_MODEL_ecfcf2a1be5c485e95e3fc0c93346d3a"
      }
     },
     "11fe658f22b441499792a07b385fee25": {
      "model_module": "@jupyter-widgets/controls",
      "model_module_version": "1.5.0",
      "model_name": "DescriptionStyleModel",
      "state": {
       "description_width": ""
      }
     },
     "1219bea113664c8d843a6a547b9d3736": {
      "model_module": "jupyter-leaflet",
      "model_module_version": "^0.14.0",
      "model_name": "LeafletMarkerModel",
      "state": {
       "_model_module_version": "^0.14.0",
       "_view_module_version": "^0.14.0",
       "icon": "IPY_MODEL_02cee169040d4926a776ea4b79f1d380",
       "location": [
        46.6290016174316,
        -123.951599121094
       ],
       "options": [
        "alt",
        "draggable",
        "keyboard",
        "rise_offset",
        "rise_on_hover",
        "rotation_angle",
        "rotation_origin",
        "title",
        "z_index_offset"
       ],
       "popup": "IPY_MODEL_b869382f73a94d51a1e4200821248a40"
      }
     },
     "123e0a6356024816856dcd6b99c7e4ea": {
      "model_module": "@jupyter-widgets/controls",
      "model_module_version": "1.5.0",
      "model_name": "HTMLModel",
      "state": {
       "layout": "IPY_MODEL_62d7a8caabef4c30a389a6132ccca439",
       "style": "IPY_MODEL_f8f553638cdf438da4381c30fb811271",
       "value": "<table border=\"1\" class=\"dataframe table table-striped table-hover table-condensed table-responsive\">\n  <thead>\n    <tr style=\"text-align: right;\">\n      <th></th>\n      <th>55</th>\n    </tr>\n  </thead>\n  <tbody>\n    <tr>\n      <th>Institution</th>\n      <td>Ocean Observatories Initiative (OOI)</td>\n    </tr>\n    <tr>\n      <th>Dataset ID</th>\n      <td>ooi-ce07shsm-mfd37-03-ctdbpc000</td>\n    </tr>\n  </tbody>\n</table>"
      }
     },
     "1253f3f785a84714894e638cd7fea7aa": {
      "model_module": "jupyter-leaflet",
      "model_module_version": "^0.14.0",
      "model_name": "LeafletMarkerModel",
      "state": {
       "_model_module_version": "^0.14.0",
       "_view_module_version": "^0.14.0",
       "icon": "IPY_MODEL_e4b6a648ff4042b5ae956bd0493ecd5d",
       "location": [
        44.52897,
        -125.38966
       ],
       "options": [
        "alt",
        "draggable",
        "keyboard",
        "rise_offset",
        "rise_on_hover",
        "rotation_angle",
        "rotation_origin",
        "title",
        "z_index_offset"
       ],
       "popup": "IPY_MODEL_3b93662578fb4e9cb9099eb8356f13d2"
      }
     },
     "127a3ddb40974c88829f163bc52abb87": {
      "model_module": "jupyter-leaflet",
      "model_module_version": "^0.14.0",
      "model_name": "LeafletMarkerModel",
      "state": {
       "_model_module_version": "^0.14.0",
       "_view_module_version": "^0.14.0",
       "icon": "IPY_MODEL_53062898678540ffaad140abfb0482f0",
       "location": [
        47.1345,
        -124.27087
       ],
       "options": [
        "alt",
        "draggable",
        "keyboard",
        "rise_offset",
        "rise_on_hover",
        "rotation_angle",
        "rotation_origin",
        "title",
        "z_index_offset"
       ],
       "popup": "IPY_MODEL_10abbaf8aa1c40cc840deaeef44a8fa7"
      }
     },
     "12afaa192e6d4632b254f540ddfb106a": {
      "model_module": "@jupyter-widgets/base",
      "model_module_version": "1.2.0",
      "model_name": "LayoutModel",
      "state": {}
     },
     "12caeb919f0a4db8847393ff1b3a3889": {
      "model_module": "jupyter-leaflet",
      "model_module_version": "^0.14.0",
      "model_name": "LeafletMarkerModel",
      "state": {
       "_model_module_version": "^0.14.0",
       "_view_module_version": "^0.14.0",
       "icon": "IPY_MODEL_548a3ad07269421681f7110f25cb5aa3",
       "location": [
        44.65678,
        -124.09707
       ],
       "options": [
        "alt",
        "draggable",
        "keyboard",
        "rise_offset",
        "rise_on_hover",
        "rotation_angle",
        "rotation_origin",
        "title",
        "z_index_offset"
       ],
       "popup": "IPY_MODEL_9997964c386a4da38e2e37f991b87daa"
      }
     },
     "12f4903caa394adca0e6ed04b49c89d3": {
      "model_module": "jupyter-leaflet",
      "model_module_version": "^0.14.0",
      "model_name": "LeafletAwesomeIconModel",
      "state": {
       "_model_module_version": "^0.14.0",
       "_view_module_version": "^0.14.0",
       "icon_color": "white",
       "name": "life-ring"
      }
     },
     "13010a9d94444bc9a6826039213e3d55": {
      "model_module": "@jupyter-widgets/controls",
      "model_module_version": "1.5.0",
      "model_name": "DescriptionStyleModel",
      "state": {
       "description_width": ""
      }
     },
     "1315b6979800475aaaaaffbbcbe517f7": {
      "model_module": "@jupyter-widgets/controls",
      "model_module_version": "1.5.0",
      "model_name": "DescriptionStyleModel",
      "state": {
       "description_width": ""
      }
     },
     "136244e338cb46dc8e08399f181b3747": {
      "model_module": "@jupyter-widgets/base",
      "model_module_version": "1.2.0",
      "model_name": "LayoutModel",
      "state": {}
     },
     "1389c37f83154960bda96a3e5d161153": {
      "model_module": "@jupyter-widgets/base",
      "model_module_version": "1.2.0",
      "model_name": "LayoutModel",
      "state": {}
     },
     "13e503a2fac146ed8961ce43deec2b0b": {
      "model_module": "@jupyter-widgets/base",
      "model_module_version": "1.2.0",
      "model_name": "LayoutModel",
      "state": {}
     },
     "1410619d1c17434197fb34ea3dcef4c2": {
      "model_module": "jupyter-leaflet",
      "model_module_version": "^0.14.0",
      "model_name": "LeafletAwesomeIconModel",
      "state": {
       "_model_module_version": "^0.14.0",
       "_view_module_version": "^0.14.0",
       "icon_color": "white",
       "name": "life-ring"
      }
     },
     "14176da2877149d9819295fb1f3f7aaf": {
      "model_module": "@jupyter-widgets/controls",
      "model_module_version": "1.5.0",
      "model_name": "HTMLModel",
      "state": {
       "layout": "IPY_MODEL_97e48348a37f473d962a6f7b0fbd18fc",
       "style": "IPY_MODEL_c94fb32d97f74d8fa64d728766c92e46",
       "value": "<table border=\"1\" class=\"dataframe table table-striped table-hover table-condensed table-responsive\">\n  <thead>\n    <tr style=\"text-align: right;\">\n      <th></th>\n      <th>47</th>\n    </tr>\n  </thead>\n  <tbody>\n    <tr>\n      <th>Institution</th>\n      <td>Ocean Observatories Initiative (OOI)</td>\n    </tr>\n    <tr>\n      <th>Dataset ID</th>\n      <td>ooi-ce09ossm-mfd37-03-dostad000</td>\n    </tr>\n  </tbody>\n</table>"
      }
     },
     "143cf617dbcd41d983825e3ad57c7798": {
      "model_module": "jupyter-leaflet",
      "model_module_version": "^0.14.0",
      "model_name": "LeafletMarkerModel",
      "state": {
       "_model_module_version": "^0.14.0",
       "_view_module_version": "^0.14.0",
       "icon": "IPY_MODEL_fc0f29153d8744ca9231eea9c0626a60",
       "location": [
        44.65678,
        -124.09707
       ],
       "options": [
        "alt",
        "draggable",
        "keyboard",
        "rise_offset",
        "rise_on_hover",
        "rotation_angle",
        "rotation_origin",
        "title",
        "z_index_offset"
       ],
       "popup": "IPY_MODEL_46b0b24f232b4c5ba6cb1c78d36ae75a"
      }
     },
     "1457649d4e634916bc6be0e8c4253231": {
      "model_module": "@jupyter-widgets/base",
      "model_module_version": "1.2.0",
      "model_name": "LayoutModel",
      "state": {}
     },
     "14915dad1df542c986ef74df6fe84801": {
      "model_module": "@jupyter-widgets/base",
      "model_module_version": "1.2.0",
      "model_name": "LayoutModel",
      "state": {}
     },
     "14c4b654c4f94b1fb59f2519d085b9b2": {
      "model_module": "@jupyter-widgets/controls",
      "model_module_version": "1.5.0",
      "model_name": "DescriptionStyleModel",
      "state": {
       "description_width": ""
      }
     },
     "151670f7e44c4c77b722598fbd072e6e": {
      "model_module": "jupyter-leaflet",
      "model_module_version": "^0.14.0",
      "model_name": "LeafletAwesomeIconModel",
      "state": {
       "_model_module_version": "^0.14.0",
       "_view_module_version": "^0.14.0",
       "icon_color": "white",
       "marker_color": "orange",
       "name": "life-ring"
      }
     },
     "151e6d2f127246e7b983b00150076e9e": {
      "model_module": "@jupyter-widgets/controls",
      "model_module_version": "1.5.0",
      "model_name": "HTMLModel",
      "state": {
       "layout": "IPY_MODEL_18231d4de74e40d98883742d6c868840",
       "style": "IPY_MODEL_a6caf9029abd4660b8e459f5779b9b14",
       "value": "<table border=\"1\" class=\"dataframe table table-striped table-hover table-condensed table-responsive\">\n  <thead>\n    <tr style=\"text-align: right;\">\n      <th></th>\n      <th>10</th>\n    </tr>\n  </thead>\n  <tbody>\n    <tr>\n      <th>Institution</th>\n      <td>Ocean Observatories Initiative (OOI)</td>\n    </tr>\n    <tr>\n      <th>Dataset ID</th>\n      <td>ooi-ce04osbp-lj01c-06-ctdbpo108</td>\n    </tr>\n  </tbody>\n</table>"
      }
     },
     "15467982e49d445492bee2077e9d4f05": {
      "model_module": "@jupyter-widgets/controls",
      "model_module_version": "1.5.0",
      "model_name": "HTMLModel",
      "state": {
       "layout": "IPY_MODEL_d801730b2e73439c89ee79374cb03cc7",
       "style": "IPY_MODEL_68297f74cbbe49ad95606f55cb54c805",
       "value": "<table border=\"1\" class=\"dataframe table table-striped table-hover table-condensed table-responsive\">\n  <thead>\n    <tr style=\"text-align: right;\">\n      <th></th>\n      <th>34</th>\n    </tr>\n  </thead>\n  <tbody>\n    <tr>\n      <th>Institution</th>\n      <td>Ocean Observatories Initiative (OOI)</td>\n    </tr>\n    <tr>\n      <th>Dataset ID</th>\n      <td>ooi-ce06issm-rid16-07-nutnrb000</td>\n    </tr>\n  </tbody>\n</table>"
      }
     },
     "15826698bb9e4ab6842f6ad46b8e8669": {
      "model_module": "jupyter-leaflet",
      "model_module_version": "^0.14.0",
      "model_name": "LeafletMarkerModel",
      "state": {
       "_model_module_version": "^0.14.0",
       "_view_module_version": "^0.14.0",
       "icon": "IPY_MODEL_c869d6311ac14795a9dfe4a43dcb6e74",
       "location": [
        46.85367,
        -124.95935
       ],
       "options": [
        "alt",
        "draggable",
        "keyboard",
        "rise_offset",
        "rise_on_hover",
        "rotation_angle",
        "rotation_origin",
        "title",
        "z_index_offset"
       ],
       "popup": "IPY_MODEL_c72c697c90514fa3b1f7f65b61d77b03"
      }
     },
     "15a3310eb53d4d469ffd560082d1ad5a": {
      "model_module": "@jupyter-widgets/controls",
      "model_module_version": "1.5.0",
      "model_name": "DescriptionStyleModel",
      "state": {
       "description_width": ""
      }
     },
     "15ce187af4cf470e8d7efd65e4a258be": {
      "model_module": "@jupyter-widgets/controls",
      "model_module_version": "1.5.0",
      "model_name": "HTMLModel",
      "state": {
       "layout": "IPY_MODEL_6a863680a6ce4d98bb4e1d15de08db28",
       "style": "IPY_MODEL_4105742901c54b9dbb20542360bdc903",
       "value": "<table border=\"1\" class=\"dataframe table table-striped table-hover table-condensed table-responsive\">\n  <thead>\n    <tr style=\"text-align: right;\">\n      <th></th>\n      <th>54</th>\n    </tr>\n  </thead>\n  <tbody>\n    <tr>\n      <th>Institution</th>\n      <td>Ocean Observatories Initiative (OOI)</td>\n    </tr>\n    <tr>\n      <th>Dataset ID</th>\n      <td>ooi-ce07shsm-rid26-06-phsend000</td>\n    </tr>\n  </tbody>\n</table>"
      }
     },
     "1618252b0b264742b40e7da25b34af2a": {
      "model_module": "@jupyter-widgets/controls",
      "model_module_version": "1.5.0",
      "model_name": "DescriptionStyleModel",
      "state": {
       "description_width": ""
      }
     },
     "165432891a5c49f0a0849c7e84c84c98": {
      "model_module": "@jupyter-widgets/controls",
      "model_module_version": "1.5.0",
      "model_name": "DescriptionStyleModel",
      "state": {
       "description_width": ""
      }
     },
     "16e8d95070084fe7bf028fa3791188ea": {
      "model_module": "jupyter-leaflet",
      "model_module_version": "^0.14.0",
      "model_name": "LeafletMarkerModel",
      "state": {
       "_model_module_version": "^0.14.0",
       "_view_module_version": "^0.14.0",
       "icon": "IPY_MODEL_9dacc49cb8a44da6a3bbfa13f16f8380",
       "location": [
        46.85367,
        -124.95935
       ],
       "options": [
        "alt",
        "draggable",
        "keyboard",
        "rise_offset",
        "rise_on_hover",
        "rotation_angle",
        "rotation_origin",
        "title",
        "z_index_offset"
       ],
       "popup": "IPY_MODEL_ae78589884b1413fb88faaf278c95e07"
      }
     },
     "173028c1c6b342e69bda3aeff2d185f7": {
      "model_module": "@jupyter-widgets/controls",
      "model_module_version": "1.5.0",
      "model_name": "DescriptionStyleModel",
      "state": {
       "description_width": ""
      }
     },
     "17d5c68bff7f4263bd9c64a45df268ca": {
      "model_module": "@jupyter-widgets/base",
      "model_module_version": "1.2.0",
      "model_name": "LayoutModel",
      "state": {}
     },
     "180f8ea6f6904b6aaa42c5887ab110d2": {
      "model_module": "@jupyter-widgets/base",
      "model_module_version": "1.2.0",
      "model_name": "LayoutModel",
      "state": {}
     },
     "18231d4de74e40d98883742d6c868840": {
      "model_module": "@jupyter-widgets/base",
      "model_module_version": "1.2.0",
      "model_name": "LayoutModel",
      "state": {}
     },
     "185b0bee201c4265a08eba0cad08b42e": {
      "model_module": "jupyter-leaflet",
      "model_module_version": "^0.14.0",
      "model_name": "LeafletMarkerModel",
      "state": {
       "_model_module_version": "^0.14.0",
       "_view_module_version": "^0.14.0",
       "icon": "IPY_MODEL_e22350480e1f497799cbb9c05c257a63",
       "location": [
        46.85367,
        -124.95935
       ],
       "options": [
        "alt",
        "draggable",
        "keyboard",
        "rise_offset",
        "rise_on_hover",
        "rotation_angle",
        "rotation_origin",
        "title",
        "z_index_offset"
       ],
       "popup": "IPY_MODEL_e290d8ef141f47e4a7e91d97c2d8a566"
      }
     },
     "189910d09fe44b1d9ebe9ee0880658ae": {
      "model_module": "@jupyter-widgets/controls",
      "model_module_version": "1.5.0",
      "model_name": "DescriptionStyleModel",
      "state": {
       "description_width": ""
      }
     },
     "18d131ff57484b4a934a8aa625d3be04": {
      "model_module": "@jupyter-widgets/controls",
      "model_module_version": "1.5.0",
      "model_name": "HTMLModel",
      "state": {
       "layout": "IPY_MODEL_b08e85e7cd0a4364b58c65a6ab5c633a",
       "style": "IPY_MODEL_f23e936755fb4e3185fe9019978b06e0",
       "value": "<table border=\"1\" class=\"dataframe table table-striped table-hover table-condensed table-responsive\">\n  <thead>\n    <tr style=\"text-align: right;\">\n      <th></th>\n      <th>28</th>\n    </tr>\n  </thead>\n  <tbody>\n    <tr>\n      <th>Institution</th>\n      <td>Ocean Observatories Initiative (OOI)</td>\n    </tr>\n    <tr>\n      <th>Dataset ID</th>\n      <td>ooi-ce02shsm-rid26-06-phsend000</td>\n    </tr>\n  </tbody>\n</table>"
      }
     },
     "18e6bad2c1094ba489ee904a42073cd8": {
      "model_module": "jupyter-leaflet",
      "model_module_version": "^0.14.0",
      "model_name": "LeafletAwesomeIconModel",
      "state": {
       "_model_module_version": "^0.14.0",
       "_view_module_version": "^0.14.0",
       "icon_color": "white",
       "marker_color": "orange",
       "name": "life-ring"
      }
     },
     "19599f81e9e04f08a26a09fcefa2675a": {
      "model_module": "@jupyter-widgets/controls",
      "model_module_version": "1.5.0",
      "model_name": "DescriptionStyleModel",
      "state": {
       "description_width": ""
      }
     },
     "19680e6401494c72835c736762679c28": {
      "model_module": "jupyter-leaflet",
      "model_module_version": "^0.14.0",
      "model_name": "LeafletMarkerModel",
      "state": {
       "_model_module_version": "^0.14.0",
       "_view_module_version": "^0.14.0",
       "icon": "IPY_MODEL_1ce6b5806a6f4ba788626d3d51144c72",
       "location": [
        44.63708,
        -124.30595
       ],
       "options": [
        "alt",
        "draggable",
        "keyboard",
        "rise_offset",
        "rise_on_hover",
        "rotation_angle",
        "rotation_origin",
        "title",
        "z_index_offset"
       ],
       "popup": "IPY_MODEL_345999cd2c414159afbbf5485dcf81ee"
      }
     },
     "19dc626ed13d4264920616b2ada5714c": {
      "model_module": "@jupyter-widgets/controls",
      "model_module_version": "1.5.0",
      "model_name": "HTMLModel",
      "state": {
       "layout": "IPY_MODEL_5f08811feb9543a0aa5528f173ec1771",
       "style": "IPY_MODEL_06df2ed24e8144dfaccdc89ba58874c2",
       "value": "<table border=\"1\" class=\"dataframe table table-striped table-hover table-condensed table-responsive\">\n  <thead>\n    <tr style=\"text-align: right;\">\n      <th></th>\n      <th>19</th>\n    </tr>\n  </thead>\n  <tbody>\n    <tr>\n      <th>Institution</th>\n      <td>Ocean Observatories Initiative (OOI)</td>\n    </tr>\n    <tr>\n      <th>Dataset ID</th>\n      <td>ooi-ce04ossm-rid26-06-phsend000</td>\n    </tr>\n  </tbody>\n</table>"
      }
     },
     "1a3fa0cbb79b4d4087fbdb20de5494e3": {
      "model_module": "jupyter-leaflet",
      "model_module_version": "^0.14.0",
      "model_name": "LeafletMarkerModel",
      "state": {
       "_model_module_version": "^0.14.0",
       "_view_module_version": "^0.14.0",
       "icon": "IPY_MODEL_4fee25c0bfd84085a47b4ae49b8c13f9",
       "location": [
        46.98648,
        -124.56923
       ],
       "options": [
        "alt",
        "draggable",
        "keyboard",
        "rise_offset",
        "rise_on_hover",
        "rotation_angle",
        "rotation_origin",
        "title",
        "z_index_offset"
       ],
       "popup": "IPY_MODEL_7f82e46191ef45aaad2f4a3cb26dfb70"
      }
     },
     "1aa8b594736b41c1ba29a96aa1a029aa": {
      "model_module": "@jupyter-widgets/controls",
      "model_module_version": "1.5.0",
      "model_name": "DescriptionStyleModel",
      "state": {
       "description_width": ""
      }
     },
     "1ab66a388df34b7f82d0bcda4fb75e77": {
      "model_module": "@jupyter-widgets/controls",
      "model_module_version": "1.5.0",
      "model_name": "HTMLModel",
      "state": {
       "layout": "IPY_MODEL_800a67ea27664bda83cfdefe0d1ef348",
       "style": "IPY_MODEL_940f7246c72d4158bb220ee55a73d48a",
       "value": "<table border=\"1\" class=\"dataframe table table-striped table-hover table-condensed table-responsive\">\n  <thead>\n    <tr style=\"text-align: right;\">\n      <th></th>\n      <th>79</th>\n    </tr>\n  </thead>\n  <tbody>\n    <tr>\n      <th>Institution</th>\n      <td>Center for Coastal Margin Observation &amp; Prediction</td>\n    </tr>\n    <tr>\n      <th>Dataset ID</th>\n      <td>org_cmop_seto3</td>\n    </tr>\n  </tbody>\n</table>"
      }
     },
     "1b194dd5b0434ca1be76a573f64ff25c": {
      "model_module": "jupyter-leaflet",
      "model_module_version": "^0.14.0",
      "model_name": "LeafletMarkerModel",
      "state": {
       "_model_module_version": "^0.14.0",
       "_view_module_version": "^0.14.0",
       "icon": "IPY_MODEL_0797c143c9ae4ac29a56c3c27057bd94",
       "location": [
        44.63577,
        -124.3035
       ],
       "options": [
        "alt",
        "draggable",
        "keyboard",
        "rise_offset",
        "rise_on_hover",
        "rotation_angle",
        "rotation_origin",
        "title",
        "z_index_offset"
       ],
       "popup": "IPY_MODEL_8c16a064bba14cbcac59eb1f0550ace3"
      }
     },
     "1b5f63d48e8b458d84cbd07332424e8e": {
      "model_module": "jupyter-leaflet",
      "model_module_version": "^0.14.0",
      "model_name": "LeafletMarkerModel",
      "state": {
       "_model_module_version": "^0.14.0",
       "_view_module_version": "^0.14.0",
       "icon": "IPY_MODEL_dcda954c33e24f0aaf906314ba248204",
       "location": [
        46.98408,
        -124.56631
       ],
       "options": [
        "alt",
        "draggable",
        "keyboard",
        "rise_offset",
        "rise_on_hover",
        "rotation_angle",
        "rotation_origin",
        "title",
        "z_index_offset"
       ],
       "popup": "IPY_MODEL_789e3fe69a3c45f7bd0dfab6cda20df9"
      }
     },
     "1b6d1fa2ac3b4b63841ca26d6fefeeff": {
      "model_module": "jupyter-leaflet",
      "model_module_version": "^0.14.0",
      "model_name": "LeafletAwesomeIconModel",
      "state": {
       "_model_module_version": "^0.14.0",
       "_view_module_version": "^0.14.0",
       "icon_color": "white",
       "marker_color": "orange",
       "name": "life-ring"
      }
     },
     "1b7658cffa8741479f6d896125655611": {
      "model_module": "@jupyter-widgets/controls",
      "model_module_version": "1.5.0",
      "model_name": "DescriptionStyleModel",
      "state": {
       "description_width": ""
      }
     },
     "1bce22da206844098b292d623fa3e7a4": {
      "model_module": "@jupyter-widgets/controls",
      "model_module_version": "1.5.0",
      "model_name": "HTMLModel",
      "state": {
       "layout": "IPY_MODEL_6abd1449556e40d286aef71cae3a2e5c",
       "style": "IPY_MODEL_67b86cb80a954db19c7d25988a1b8aa7",
       "value": "<table border=\"1\" class=\"dataframe table table-striped table-hover table-condensed table-responsive\">\n  <thead>\n    <tr style=\"text-align: right;\">\n      <th></th>\n      <th>49</th>\n    </tr>\n  </thead>\n  <tbody>\n    <tr>\n      <th>Institution</th>\n      <td>Ocean Observatories Initiative (OOI)</td>\n    </tr>\n    <tr>\n      <th>Dataset ID</th>\n      <td>ooi-ce09ossm-sbd12-04-pco2aa000</td>\n    </tr>\n  </tbody>\n</table>"
      }
     },
     "1bd112226cf34387819ce2bffdaba2a3": {
      "model_module": "jupyter-leaflet",
      "model_module_version": "^0.14.0",
      "model_name": "LeafletMarkerModel",
      "state": {
       "_model_module_version": "^0.14.0",
       "_view_module_version": "^0.14.0",
       "icon": "IPY_MODEL_ab55e38f1d994cdfbc2bbfc6ac9c6118",
       "location": [
        44.63577,
        -124.3035
       ],
       "options": [
        "alt",
        "draggable",
        "keyboard",
        "rise_offset",
        "rise_on_hover",
        "rotation_angle",
        "rotation_origin",
        "title",
        "z_index_offset"
       ],
       "popup": "IPY_MODEL_acd74c43d92349cb9986afa748c1f655"
      }
     },
     "1c0175df5a8a416fab5844e9c3cf0822": {
      "model_module": "jupyter-leaflet",
      "model_module_version": "^0.14.0",
      "model_name": "LeafletMarkerModel",
      "state": {
       "_model_module_version": "^0.14.0",
       "_view_module_version": "^0.14.0",
       "icon": "IPY_MODEL_308d01f1c6874ef3807976ead658ef0b",
       "location": [
        47.1345,
        -124.27087
       ],
       "options": [
        "alt",
        "draggable",
        "keyboard",
        "rise_offset",
        "rise_on_hover",
        "rotation_angle",
        "rotation_origin",
        "title",
        "z_index_offset"
       ],
       "popup": "IPY_MODEL_b32bd38a764f46cb9ee3fe7f2fb0160a"
      }
     },
     "1c33c76f6d2e406182ff667a46822ba9": {
      "model_module": "@jupyter-widgets/controls",
      "model_module_version": "1.5.0",
      "model_name": "HTMLModel",
      "state": {
       "layout": "IPY_MODEL_67b30534bde143bdbeaf2a7ec715dd56",
       "style": "IPY_MODEL_d3f10d5749524bd9a7632b1e8dc8a38f",
       "value": "<table border=\"1\" class=\"dataframe table table-striped table-hover table-condensed table-responsive\">\n  <thead>\n    <tr style=\"text-align: right;\">\n      <th></th>\n      <th>0</th>\n    </tr>\n  </thead>\n  <tbody>\n    <tr>\n      <th>Institution</th>\n      <td>Ocean Observatories Initiative (OOI)</td>\n    </tr>\n    <tr>\n      <th>Dataset ID</th>\n      <td>ooi-ce01issm-rid16-02-flortd000</td>\n    </tr>\n  </tbody>\n</table>"
      }
     },
     "1c35677d5da74f4c9cc4f2953ea11e4f": {
      "model_module": "@jupyter-widgets/controls",
      "model_module_version": "1.5.0",
      "model_name": "HTMLModel",
      "state": {
       "layout": "IPY_MODEL_bf1ad1b6ad334607886d182f67495823",
       "style": "IPY_MODEL_21e396f131b24e3684981237ee0958c9",
       "value": "<table border=\"1\" class=\"dataframe table table-striped table-hover table-condensed table-responsive\">\n  <thead>\n    <tr style=\"text-align: right;\">\n      <th></th>\n      <th>9</th>\n    </tr>\n  </thead>\n  <tbody>\n    <tr>\n      <th>Institution</th>\n      <td>Ocean Observatories Initiative (OOI)</td>\n    </tr>\n    <tr>\n      <th>Dataset ID</th>\n      <td>ooi-ce01issm-sbd17-06-ctdbpc000</td>\n    </tr>\n  </tbody>\n</table>"
      }
     },
     "1cb8fea6461a4ecb9e41aac5ad6f10f9": {
      "model_module": "@jupyter-widgets/controls",
      "model_module_version": "1.5.0",
      "model_name": "HTMLModel",
      "state": {
       "layout": "IPY_MODEL_c64426fd746f47519d3e25edae5cdc5c",
       "style": "IPY_MODEL_e333ca75cd7643d098371f65c506b718",
       "value": "<table border=\"1\" class=\"dataframe table table-striped table-hover table-condensed table-responsive\">\n  <thead>\n    <tr style=\"text-align: right;\">\n      <th></th>\n      <th>76</th>\n    </tr>\n  </thead>\n  <tbody>\n    <tr>\n      <th>Institution</th>\n      <td>Northwest Association of Networked Ocean Observing Systems (NANOOS)</td>\n    </tr>\n    <tr>\n      <th>Dataset ID</th>\n      <td>nanoos_psi_baycenter</td>\n    </tr>\n  </tbody>\n</table>"
      }
     },
     "1cba6ba148064795a5874c68d20d71ec": {
      "model_module": "jupyter-leaflet",
      "model_module_version": "^0.14.0",
      "model_name": "LeafletZoomControlModel",
      "state": {
       "_model_module_version": "^0.14.0",
       "_view_module_version": "^0.14.0",
       "options": [
        "position",
        "zoom_in_text",
        "zoom_in_title",
        "zoom_out_text",
        "zoom_out_title"
       ]
      }
     },
     "1ce6b5806a6f4ba788626d3d51144c72": {
      "model_module": "jupyter-leaflet",
      "model_module_version": "^0.14.0",
      "model_name": "LeafletAwesomeIconModel",
      "state": {
       "_model_module_version": "^0.14.0",
       "_view_module_version": "^0.14.0",
       "icon_color": "white",
       "marker_color": "orange",
       "name": "life-ring"
      }
     },
     "1ce814fe3374466c8b6494d59a2ca21b": {
      "model_module": "jupyter-leaflet",
      "model_module_version": "^0.14.0",
      "model_name": "LeafletAwesomeIconModel",
      "state": {
       "_model_module_version": "^0.14.0",
       "_view_module_version": "^0.14.0",
       "icon_color": "white",
       "marker_color": "orange",
       "name": "life-ring"
      }
     },
     "1cf7b5d9b214436ca06004eec0c927ad": {
      "model_module": "@jupyter-widgets/controls",
      "model_module_version": "1.5.0",
      "model_name": "DescriptionStyleModel",
      "state": {
       "description_width": ""
      }
     },
     "1d585445e1104777ade67d5820a76d6c": {
      "model_module": "@jupyter-widgets/controls",
      "model_module_version": "1.5.0",
      "model_name": "HTMLModel",
      "state": {
       "layout": "IPY_MODEL_bc46857359354a279fa3985547b43a2b",
       "style": "IPY_MODEL_953818ecbad44818b5abec3ddf9e9098",
       "value": "<table border=\"1\" class=\"dataframe table table-striped table-hover table-condensed table-responsive\">\n  <thead>\n    <tr style=\"text-align: right;\">\n      <th></th>\n      <th>25</th>\n    </tr>\n  </thead>\n  <tbody>\n    <tr>\n      <th>Institution</th>\n      <td>Ocean Observatories Initiative (OOI)</td>\n    </tr>\n    <tr>\n      <th>Dataset ID</th>\n      <td>ooi-ce02shsm-rid27-03-ctdbpc000</td>\n    </tr>\n  </tbody>\n</table>"
      }
     },
     "1d6091757586458395ddec09090de91f": {
      "model_module": "jupyter-leaflet",
      "model_module_version": "^0.14.0",
      "model_name": "LeafletMarkerModel",
      "state": {
       "_model_module_version": "^0.14.0",
       "_view_module_version": "^0.14.0",
       "icon": "IPY_MODEL_3636b32e602d4e8bb5f0d79410690b05",
       "location": [
        46.98648,
        -124.56923
       ],
       "options": [
        "alt",
        "draggable",
        "keyboard",
        "rise_offset",
        "rise_on_hover",
        "rotation_angle",
        "rotation_origin",
        "title",
        "z_index_offset"
       ],
       "popup": "IPY_MODEL_ebf89407974249e1948e449c7f8948a1"
      }
     },
     "1e6bcae72dbe47858e9d81c0fcb7718b": {
      "model_module": "@jupyter-widgets/base",
      "model_module_version": "1.2.0",
      "model_name": "LayoutModel",
      "state": {}
     },
     "1e9a7ee8c4d14c829ec0d4933a3c9b6b": {
      "model_module": "jupyter-leaflet",
      "model_module_version": "^0.14.0",
      "model_name": "LeafletAwesomeIconModel",
      "state": {
       "_model_module_version": "^0.14.0",
       "_view_module_version": "^0.14.0",
       "icon_color": "white",
       "marker_color": "orange",
       "name": "life-ring"
      }
     },
     "1f4761df5ed849c99b3b4ea91f5dc1c5": {
      "model_module": "@jupyter-widgets/controls",
      "model_module_version": "1.5.0",
      "model_name": "DescriptionStyleModel",
      "state": {
       "description_width": ""
      }
     },
     "1f971eb83b774ed4957b2358a4745879": {
      "model_module": "@jupyter-widgets/controls",
      "model_module_version": "1.5.0",
      "model_name": "HTMLModel",
      "state": {
       "layout": "IPY_MODEL_3b545950a6e2407c9c4af13bdc245709",
       "style": "IPY_MODEL_cefe307eb8a44572b927594be899f092",
       "value": "<table border=\"1\" class=\"dataframe table table-striped table-hover table-condensed table-responsive\">\n  <thead>\n    <tr style=\"text-align: right;\">\n      <th></th>\n      <th>59</th>\n    </tr>\n  </thead>\n  <tbody>\n    <tr>\n      <th>Institution</th>\n      <td>Ocean Observatories Initiative (OOI)</td>\n    </tr>\n    <tr>\n      <th>Dataset ID</th>\n      <td>ooi-rs01slbs-lj01a-12-ctdpfb101</td>\n    </tr>\n  </tbody>\n</table>"
      }
     },
     "1fd206a68aa74291a1fac62428fa105f": {
      "model_module": "jupyter-leaflet",
      "model_module_version": "^0.14.0",
      "model_name": "LeafletMarkerModel",
      "state": {
       "_model_module_version": "^0.14.0",
       "_view_module_version": "^0.14.0",
       "icon": "IPY_MODEL_e02e6a67f3944d36ab0b7b7a39efe14a",
       "location": [
        46.204,
        -123.759
       ],
       "options": [
        "alt",
        "draggable",
        "keyboard",
        "rise_offset",
        "rise_on_hover",
        "rotation_angle",
        "rotation_origin",
        "title",
        "z_index_offset"
       ],
       "popup": "IPY_MODEL_fb1857a1b2e8440097ad5ec53361a233"
      }
     },
     "1fd36c95c87a4f278bbac7e92abbb909": {
      "model_module": "@jupyter-widgets/controls",
      "model_module_version": "1.5.0",
      "model_name": "DescriptionStyleModel",
      "state": {
       "description_width": ""
      }
     },
     "204efb400fba4c11ab7f87cdf06c2db1": {
      "model_module": "@jupyter-widgets/controls",
      "model_module_version": "1.5.0",
      "model_name": "HTMLModel",
      "state": {
       "layout": "IPY_MODEL_fcf766c7f20f44dcaf5ea1f8da12f3bf",
       "style": "IPY_MODEL_3c64fb00b368440b95909b3f888f6a24",
       "value": "<table border=\"1\" class=\"dataframe table table-striped table-hover table-condensed table-responsive\">\n  <thead>\n    <tr style=\"text-align: right;\">\n      <th></th>\n      <th>63</th>\n    </tr>\n  </thead>\n  <tbody>\n    <tr>\n      <th>Institution</th>\n      <td>Center for Coastal Margin Observation &amp; Prediction</td>\n    </tr>\n    <tr>\n      <th>Dataset ID</th>\n      <td>org_cmop_46096</td>\n    </tr>\n  </tbody>\n</table>"
      }
     },
     "206654aea1b84217afe78d37c0a4ca94": {
      "model_module": "@jupyter-widgets/controls",
      "model_module_version": "1.5.0",
      "model_name": "HTMLModel",
      "state": {
       "layout": "IPY_MODEL_7b974f6ebd864847abfee4218a7128a7",
       "style": "IPY_MODEL_4951d3f9c87142bcb21e7329ce67f157",
       "value": "<table border=\"1\" class=\"dataframe table table-striped table-hover table-condensed table-responsive\">\n  <thead>\n    <tr style=\"text-align: right;\">\n      <th></th>\n      <th>39</th>\n    </tr>\n  </thead>\n  <tbody>\n    <tr>\n      <th>Institution</th>\n      <td>Ocean Observatories Initiative (OOI)</td>\n    </tr>\n    <tr>\n      <th>Dataset ID</th>\n      <td>ooi-ce06issm-sbd17-06-flortd000</td>\n    </tr>\n  </tbody>\n</table>"
      }
     },
     "20b0cf410e0b44ed8cdb13b7732492cb": {
      "model_module": "@jupyter-widgets/base",
      "model_module_version": "1.2.0",
      "model_name": "LayoutModel",
      "state": {}
     },
     "212009cea390457899b1ab5f4b1c019d": {
      "model_module": "@jupyter-widgets/controls",
      "model_module_version": "1.5.0",
      "model_name": "HTMLModel",
      "state": {
       "layout": "IPY_MODEL_389b100b581d4f1eb3d103616bc9a511",
       "style": "IPY_MODEL_e2364e080bb94761b3d63431f7e3d89a",
       "value": "<table border=\"1\" class=\"dataframe table table-striped table-hover table-condensed table-responsive\">\n  <thead>\n    <tr style=\"text-align: right;\">\n      <th></th>\n      <th>60</th>\n    </tr>\n  </thead>\n  <tbody>\n    <tr>\n      <th>Institution</th>\n      <td>Ocean Observatories Initiative (OOI)</td>\n    </tr>\n    <tr>\n      <th>Dataset ID</th>\n      <td>ooi-rs01sbps-pc01a-4c-flordd103</td>\n    </tr>\n  </tbody>\n</table>"
      }
     },
     "212b8ca9bf3b432aa7efc8a18ec0998d": {
      "model_module": "@jupyter-widgets/controls",
      "model_module_version": "1.5.0",
      "model_name": "DescriptionStyleModel",
      "state": {
       "description_width": ""
      }
     },
     "212c4348f31f4f74a4e9879d4e9cf8ca": {
      "model_module": "@jupyter-widgets/controls",
      "model_module_version": "1.5.0",
      "model_name": "HTMLModel",
      "state": {
       "layout": "IPY_MODEL_66747b4a755244a4b9c079849df17678",
       "style": "IPY_MODEL_bad40f5061ec410183626a0fb169a740",
       "value": "<table border=\"1\" class=\"dataframe table table-striped table-hover table-condensed table-responsive\">\n  <thead>\n    <tr style=\"text-align: right;\">\n      <th></th>\n      <th>66</th>\n    </tr>\n  </thead>\n  <tbody>\n    <tr>\n      <th>Institution</th>\n      <td>Observing System Monitoring Center (OSMC)</td>\n    </tr>\n    <tr>\n      <th>Dataset ID</th>\n      <td>osmc_46099</td>\n    </tr>\n  </tbody>\n</table>"
      }
     },
     "213e5875ca504af487ff52452cd56d8f": {
      "model_module": "jupyter-leaflet",
      "model_module_version": "^0.14.0",
      "model_name": "LeafletMarkerModel",
      "state": {
       "_model_module_version": "^0.14.0",
       "_view_module_version": "^0.14.0",
       "icon": "IPY_MODEL_0dad78ea21f64b08b1972883c8d31ba6",
       "location": [
        46.851,
        -124.972
       ],
       "options": [
        "alt",
        "draggable",
        "keyboard",
        "rise_offset",
        "rise_on_hover",
        "rotation_angle",
        "rotation_origin",
        "title",
        "z_index_offset"
       ],
       "popup": "IPY_MODEL_b17e3c1772324b62b1bfbab0e864697d"
      }
     },
     "215bf20e76bb432384887629e0ef7812": {
      "model_module": "jupyter-leaflet",
      "model_module_version": "^0.14.0",
      "model_name": "LeafletMarkerModel",
      "state": {
       "_model_module_version": "^0.14.0",
       "_view_module_version": "^0.14.0",
       "icon": "IPY_MODEL_bb93e96015854cceb8c05ae3c2682cba",
       "location": [
        44.63577,
        -124.3035
       ],
       "options": [
        "alt",
        "draggable",
        "keyboard",
        "rise_offset",
        "rise_on_hover",
        "rotation_angle",
        "rotation_origin",
        "title",
        "z_index_offset"
       ],
       "popup": "IPY_MODEL_f26e56d38cea46418227712fd898df2a"
      }
     },
     "215f5629ef5e42f795a11985de7754ba": {
      "model_module": "jupyter-leaflet",
      "model_module_version": "^0.14.0",
      "model_name": "LeafletAwesomeIconModel",
      "state": {
       "_model_module_version": "^0.14.0",
       "_view_module_version": "^0.14.0",
       "icon_color": "white",
       "marker_color": "orange",
       "name": "life-ring"
      }
     },
     "21d42fae23d94ca98079330d8035f7cc": {
      "model_module": "@jupyter-widgets/controls",
      "model_module_version": "1.5.0",
      "model_name": "HTMLModel",
      "state": {
       "layout": "IPY_MODEL_a6d17cda980a4c8f8663fe7c21e75159",
       "style": "IPY_MODEL_82145410ee8c4b529fcf05bc8826c516",
       "value": "<table border=\"1\" class=\"dataframe table table-striped table-hover table-condensed table-responsive\">\n  <thead>\n    <tr style=\"text-align: right;\">\n      <th></th>\n      <th>66</th>\n    </tr>\n  </thead>\n  <tbody>\n    <tr>\n      <th>Institution</th>\n      <td>Observing System Monitoring Center (OSMC)</td>\n    </tr>\n    <tr>\n      <th>Dataset ID</th>\n      <td>osmc_46099</td>\n    </tr>\n  </tbody>\n</table>"
      }
     },
     "21e396f131b24e3684981237ee0958c9": {
      "model_module": "@jupyter-widgets/controls",
      "model_module_version": "1.5.0",
      "model_name": "DescriptionStyleModel",
      "state": {
       "description_width": ""
      }
     },
     "21ec46891b984f9b9f71d56501a3ae25": {
      "model_module": "@jupyter-widgets/controls",
      "model_module_version": "1.5.0",
      "model_name": "DescriptionStyleModel",
      "state": {
       "description_width": ""
      }
     },
     "22241d92cb8d4037887ae2f4ac066cdf": {
      "model_module": "jupyter-leaflet",
      "model_module_version": "^0.14.0",
      "model_name": "LeafletAwesomeIconModel",
      "state": {
       "_model_module_version": "^0.14.0",
       "_view_module_version": "^0.14.0",
       "icon_color": "white",
       "name": "life-ring"
      }
     },
     "224d6b93c8bc42d3baebb73c30a808fc": {
      "model_module": "@jupyter-widgets/controls",
      "model_module_version": "1.5.0",
      "model_name": "DescriptionStyleModel",
      "state": {
       "description_width": ""
      }
     },
     "227f377a8ce945e3a5cc00983b6d3ca9": {
      "model_module": "@jupyter-widgets/base",
      "model_module_version": "1.2.0",
      "model_name": "LayoutModel",
      "state": {}
     },
     "23027bb1dda34e35a4c5061e128a2edf": {
      "model_module": "@jupyter-widgets/controls",
      "model_module_version": "1.5.0",
      "model_name": "HTMLModel",
      "state": {
       "layout": "IPY_MODEL_8ed1de1d3824445ebd074eeaf0d7279c",
       "style": "IPY_MODEL_1f4761df5ed849c99b3b4ea91f5dc1c5",
       "value": "<table border=\"1\" class=\"dataframe table table-striped table-hover table-condensed table-responsive\">\n  <thead>\n    <tr style=\"text-align: right;\">\n      <th></th>\n      <th>7</th>\n    </tr>\n  </thead>\n  <tbody>\n    <tr>\n      <th>Institution</th>\n      <td>Ocean Observatories Initiative (OOI)</td>\n    </tr>\n    <tr>\n      <th>Dataset ID</th>\n      <td>ooi-ce01issm-mfd35-06-phsend000</td>\n    </tr>\n  </tbody>\n</table>"
      }
     },
     "2336cf2854c145df9c6c02e2aee4ae68": {
      "model_module": "@jupyter-widgets/controls",
      "model_module_version": "1.5.0",
      "model_name": "HTMLModel",
      "state": {
       "layout": "IPY_MODEL_76b50e1b0b8641eabb17478307be5d79",
       "style": "IPY_MODEL_327454ea0a5c44fda416765a296fdc08",
       "value": "<table border=\"1\" class=\"dataframe table table-striped table-hover table-condensed table-responsive\">\n  <thead>\n    <tr style=\"text-align: right;\">\n      <th></th>\n      <th>10</th>\n    </tr>\n  </thead>\n  <tbody>\n    <tr>\n      <th>Institution</th>\n      <td>Ocean Observatories Initiative (OOI)</td>\n    </tr>\n    <tr>\n      <th>Dataset ID</th>\n      <td>ooi-ce04osbp-lj01c-06-ctdbpo108</td>\n    </tr>\n  </tbody>\n</table>"
      }
     },
     "23403a43cbea40b7be8500a15a94e79e": {
      "model_module": "jupyter-leaflet",
      "model_module_version": "^0.14.0",
      "model_name": "LeafletMarkerModel",
      "state": {
       "_model_module_version": "^0.14.0",
       "_view_module_version": "^0.14.0",
       "icon": "IPY_MODEL_a66c7cd7f43f4df8a00448232c829d3b",
       "location": [
        44.37868,
        -124.94508
       ],
       "options": [
        "alt",
        "draggable",
        "keyboard",
        "rise_offset",
        "rise_on_hover",
        "rotation_angle",
        "rotation_origin",
        "title",
        "z_index_offset"
       ],
       "popup": "IPY_MODEL_2dbf4d369a854f7ba74d0678803ede0d"
      }
     },
     "2341b589ed654918b14257b1d0b6d56d": {
      "model_module": "@jupyter-widgets/controls",
      "model_module_version": "1.5.0",
      "model_name": "DescriptionStyleModel",
      "state": {
       "description_width": ""
      }
     },
     "23852de1a4df4aa69657b6cd02900d07": {
      "model_module": "@jupyter-widgets/controls",
      "model_module_version": "1.5.0",
      "model_name": "HTMLModel",
      "state": {
       "layout": "IPY_MODEL_ad2c325493e1456d9e7ad1b78b09962e",
       "style": "IPY_MODEL_d44d9751db1a45969b17339b7b0deed3",
       "value": "<table border=\"1\" class=\"dataframe table table-striped table-hover table-condensed table-responsive\">\n  <thead>\n    <tr style=\"text-align: right;\">\n      <th></th>\n      <th>20</th>\n    </tr>\n  </thead>\n  <tbody>\n    <tr>\n      <th>Institution</th>\n      <td>Ocean Observatories Initiative (OOI)</td>\n    </tr>\n    <tr>\n      <th>Dataset ID</th>\n      <td>ooi-ce04ossm-sbd11-06-metbka000</td>\n    </tr>\n  </tbody>\n</table>"
      }
     },
     "23e45ea2f8a74b6e913c499be7348b8d": {
      "model_module": "@jupyter-widgets/controls",
      "model_module_version": "1.5.0",
      "model_name": "DescriptionStyleModel",
      "state": {
       "description_width": ""
      }
     },
     "246a8c6a7c674ac4aa7ea3f0622e2f1e": {
      "model_module": "@jupyter-widgets/controls",
      "model_module_version": "1.5.0",
      "model_name": "DescriptionStyleModel",
      "state": {
       "description_width": ""
      }
     },
     "2479132ef3204440bf47bebec1c6ba71": {
      "model_module": "jupyter-leaflet",
      "model_module_version": "^0.14.0",
      "model_name": "LeafletMarkerModel",
      "state": {
       "_model_module_version": "^0.14.0",
       "_view_module_version": "^0.14.0",
       "icon": "IPY_MODEL_8304ea4b20bd4be2bd98709b1c27ad01",
       "location": [
        44.37415,
        -124.95648
       ],
       "options": [
        "alt",
        "draggable",
        "keyboard",
        "rise_offset",
        "rise_on_hover",
        "rotation_angle",
        "rotation_origin",
        "title",
        "z_index_offset"
       ],
       "popup": "IPY_MODEL_52b32b23f65247fda8238bde6144f656"
      }
     },
     "24a55782ca6a4763889aa9b1d1514af8": {
      "model_module": "jupyter-leaflet",
      "model_module_version": "^0.14.0",
      "model_name": "LeafletAwesomeIconModel",
      "state": {
       "_model_module_version": "^0.14.0",
       "_view_module_version": "^0.14.0",
       "icon_color": "white",
       "name": "life-ring"
      }
     },
     "24cb366c2a4f44ba866f539eded29a01": {
      "model_module": "jupyter-leaflet",
      "model_module_version": "^0.14.0",
      "model_name": "LeafletMarkerModel",
      "state": {
       "_model_module_version": "^0.14.0",
       "_view_module_version": "^0.14.0",
       "icon": "IPY_MODEL_ab7fc71de91d43929ad7a47377c1d475",
       "location": [
        47.1345,
        -124.27087
       ],
       "options": [
        "alt",
        "draggable",
        "keyboard",
        "rise_offset",
        "rise_on_hover",
        "rotation_angle",
        "rotation_origin",
        "title",
        "z_index_offset"
       ],
       "popup": "IPY_MODEL_7e9b548b672d4dcf9b01a2841a0d500e"
      }
     },
     "24f6b2f96f654830b362222c38387794": {
      "model_module": "@jupyter-widgets/controls",
      "model_module_version": "1.5.0",
      "model_name": "DescriptionStyleModel",
      "state": {
       "description_width": ""
      }
     },
     "2503a3f850b04ef38952783598c42020": {
      "model_module": "jupyter-leaflet",
      "model_module_version": "^0.14.0",
      "model_name": "LeafletAwesomeIconModel",
      "state": {
       "_model_module_version": "^0.14.0",
       "_view_module_version": "^0.14.0",
       "icon_color": "white",
       "marker_color": "orange",
       "name": "life-ring"
      }
     },
     "258374706cc94684bd0e45ea9b763ed3": {
      "model_module": "jupyter-leaflet",
      "model_module_version": "^0.14.0",
      "model_name": "LeafletAwesomeIconModel",
      "state": {
       "_model_module_version": "^0.14.0",
       "_view_module_version": "^0.14.0",
       "icon_color": "white",
       "marker_color": "orange",
       "name": "life-ring"
      }
     },
     "259cffab36474ba7ac545dfe1bbb954e": {
      "model_module": "@jupyter-widgets/controls",
      "model_module_version": "1.5.0",
      "model_name": "HTMLModel",
      "state": {
       "layout": "IPY_MODEL_a8a1e4edf93340a9af07d7dd41168090",
       "style": "IPY_MODEL_44764f26476f41769f50d3244a947381",
       "value": "<table border=\"1\" class=\"dataframe table table-striped table-hover table-condensed table-responsive\">\n  <thead>\n    <tr style=\"text-align: right;\">\n      <th></th>\n      <th>57</th>\n    </tr>\n  </thead>\n  <tbody>\n    <tr>\n      <th>Institution</th>\n      <td>Ocean Observatories Initiative (OOI)</td>\n    </tr>\n    <tr>\n      <th>Dataset ID</th>\n      <td>ooi-ce07shsm-mfd35-06-phsend000</td>\n    </tr>\n  </tbody>\n</table>"
      }
     },
     "25a110392bd744e5ad4b59ea7f551130": {
      "model_module": "@jupyter-widgets/controls",
      "model_module_version": "1.5.0",
      "model_name": "DescriptionStyleModel",
      "state": {
       "description_width": ""
      }
     },
     "25a9c93f50f44e858653c41bd2559a92": {
      "model_module": "@jupyter-widgets/controls",
      "model_module_version": "1.5.0",
      "model_name": "DescriptionStyleModel",
      "state": {
       "description_width": ""
      }
     },
     "263f15aa3c5a49069b41388d1746e318": {
      "model_module": "jupyter-leaflet",
      "model_module_version": "^0.14.0",
      "model_name": "LeafletMarkerModel",
      "state": {
       "_model_module_version": "^0.14.0",
       "_view_module_version": "^0.14.0",
       "icon": "IPY_MODEL_901140238f884719973289f762a7ed1f",
       "location": [
        44.37868,
        -124.94508
       ],
       "options": [
        "alt",
        "draggable",
        "keyboard",
        "rise_offset",
        "rise_on_hover",
        "rotation_angle",
        "rotation_origin",
        "title",
        "z_index_offset"
       ],
       "popup": "IPY_MODEL_78e4bcd662fc43789d6477c0395022ca"
      }
     },
     "266c44e6d99d43fb92c5f5b9b6b326c0": {
      "model_module": "@jupyter-widgets/controls",
      "model_module_version": "1.5.0",
      "model_name": "HTMLModel",
      "state": {
       "layout": "IPY_MODEL_a60562b818224597b312c18cab0e0379",
       "style": "IPY_MODEL_86b37c70d7504eb18486deec86b24728",
       "value": "<table border=\"1\" class=\"dataframe table table-striped table-hover table-condensed table-responsive\">\n  <thead>\n    <tr style=\"text-align: right;\">\n      <th></th>\n      <th>11</th>\n    </tr>\n  </thead>\n  <tbody>\n    <tr>\n      <th>Institution</th>\n      <td>Ocean Observatories Initiative (OOI)</td>\n    </tr>\n    <tr>\n      <th>Dataset ID</th>\n      <td>ooi-ce04osbp-lj01c-10-phsend107</td>\n    </tr>\n  </tbody>\n</table>"
      }
     },
     "26d97024010f4efca23a9d5ac0738eb5": {
      "model_module": "@jupyter-widgets/base",
      "model_module_version": "1.2.0",
      "model_name": "LayoutModel",
      "state": {}
     },
     "2722bcd271ba42d08d03f887f6073734": {
      "model_module": "@jupyter-widgets/controls",
      "model_module_version": "1.5.0",
      "model_name": "DescriptionStyleModel",
      "state": {
       "description_width": ""
      }
     },
     "273143f70e6641f294a0b7b80483e455": {
      "model_module": "jupyter-leaflet",
      "model_module_version": "^0.14.0",
      "model_name": "LeafletMarkerModel",
      "state": {
       "_model_module_version": "^0.14.0",
       "_view_module_version": "^0.14.0",
       "icon": "IPY_MODEL_a44c1acf2b4b4272bce6158e67453f11",
       "location": [
        47.1345,
        -124.27087
       ],
       "options": [
        "alt",
        "draggable",
        "keyboard",
        "rise_offset",
        "rise_on_hover",
        "rotation_angle",
        "rotation_origin",
        "title",
        "z_index_offset"
       ],
       "popup": "IPY_MODEL_206654aea1b84217afe78d37c0a4ca94"
      }
     },
     "27338e2ed9d24bbebc917a3de874f56b": {
      "model_module": "@jupyter-widgets/base",
      "model_module_version": "1.2.0",
      "model_name": "LayoutModel",
      "state": {}
     },
     "2740f1bca8e44f62a8f1d7671f3987b0": {
      "model_module": "jupyter-leaflet",
      "model_module_version": "^0.14.0",
      "model_name": "LeafletAwesomeIconModel",
      "state": {
       "_model_module_version": "^0.14.0",
       "_view_module_version": "^0.14.0",
       "icon_color": "white",
       "name": "life-ring"
      }
     },
     "2790c1d24cab449099f41e034d85561e": {
      "model_module": "@jupyter-widgets/controls",
      "model_module_version": "1.5.0",
      "model_name": "HTMLModel",
      "state": {
       "layout": "IPY_MODEL_5a748d145eb44d099bcb49834a9ce8a8",
       "style": "IPY_MODEL_ef0696ffa44045ab8335da5f51bb7271",
       "value": "<table border=\"1\" class=\"dataframe table table-striped table-hover table-condensed table-responsive\">\n  <thead>\n    <tr style=\"text-align: right;\">\n      <th></th>\n      <th>72</th>\n    </tr>\n  </thead>\n  <tbody>\n    <tr>\n      <th>Institution</th>\n      <td>NOAA Center for Operational Oceanographic Products and Services (CO-OPS)</td>\n    </tr>\n    <tr>\n      <th>Dataset ID</th>\n      <td>noaa_nos_co_ops_9432780</td>\n    </tr>\n  </tbody>\n</table>"
      }
     },
     "2796f68eba8b432d97b873456d7b4198": {
      "model_module": "jupyter-leaflet",
      "model_module_version": "^0.14.0",
      "model_name": "LeafletAwesomeIconModel",
      "state": {
       "_model_module_version": "^0.14.0",
       "_view_module_version": "^0.14.0",
       "icon_color": "white",
       "marker_color": "orange",
       "name": "life-ring"
      }
     },
     "2841d24687214e14a5ede09a7037bf66": {
      "model_module": "@jupyter-widgets/controls",
      "model_module_version": "1.5.0",
      "model_name": "HTMLModel",
      "state": {
       "layout": "IPY_MODEL_a3044dc08bd64cd4b47686b445469e86",
       "style": "IPY_MODEL_829d6e58f34b4df99ff9f09b2396f2a4",
       "value": "<table border=\"1\" class=\"dataframe table table-striped table-hover table-condensed table-responsive\">\n  <thead>\n    <tr style=\"text-align: right;\">\n      <th></th>\n      <th>37</th>\n    </tr>\n  </thead>\n  <tbody>\n    <tr>\n      <th>Institution</th>\n      <td>Ocean Observatories Initiative (OOI)</td>\n    </tr>\n    <tr>\n      <th>Dataset ID</th>\n      <td>ooi-ce06issm-mfd37-03-dostad000</td>\n    </tr>\n  </tbody>\n</table>"
      }
     },
     "2855f169fd0b4a0990d5cccd791be575": {
      "model_module": "jupyter-leaflet",
      "model_module_version": "^0.14.0",
      "model_name": "LeafletMarkerModel",
      "state": {
       "_model_module_version": "^0.14.0",
       "_view_module_version": "^0.14.0",
       "icon": "IPY_MODEL_bb6a3ad82b8245fa8ba4808fba65fe12",
       "location": [
        44.37868,
        -124.94508
       ],
       "options": [
        "alt",
        "draggable",
        "keyboard",
        "rise_offset",
        "rise_on_hover",
        "rotation_angle",
        "rotation_origin",
        "title",
        "z_index_offset"
       ],
       "popup": "IPY_MODEL_31c776b64205452a8f50e2c5790de46e"
      }
     },
     "2872ae67b3e94c10a94a64343bb0cadf": {
      "model_module": "jupyter-leaflet",
      "model_module_version": "^0.14.0",
      "model_name": "LeafletAwesomeIconModel",
      "state": {
       "_model_module_version": "^0.14.0",
       "_view_module_version": "^0.14.0",
       "icon_color": "white",
       "name": "life-ring"
      }
     },
     "2887745f7f494bd1bcf4f11b0e1e9401": {
      "model_module": "@jupyter-widgets/base",
      "model_module_version": "1.2.0",
      "model_name": "LayoutModel",
      "state": {}
     },
     "2956f395582e440e9c88a569de3dcaca": {
      "model_module": "jupyter-leaflet",
      "model_module_version": "^0.14.0",
      "model_name": "LeafletMarkerModel",
      "state": {
       "_model_module_version": "^0.14.0",
       "_view_module_version": "^0.14.0",
       "icon": "IPY_MODEL_37ba0d9389ab4e55a9e60f0240676be4",
       "location": [
        46.98408,
        -124.56631
       ],
       "options": [
        "alt",
        "draggable",
        "keyboard",
        "rise_offset",
        "rise_on_hover",
        "rotation_angle",
        "rotation_origin",
        "title",
        "z_index_offset"
       ],
       "popup": "IPY_MODEL_738534c117c9411786333e917d24799a"
      }
     },
     "299d74596d70418eb61e57e5e1325fcb": {
      "model_module": "@jupyter-widgets/controls",
      "model_module_version": "1.5.0",
      "model_name": "HTMLModel",
      "state": {
       "layout": "IPY_MODEL_c1e88ae1d72542e1bcfff1d814413bf4",
       "style": "IPY_MODEL_65709315555244d69846c859b08dd98d",
       "value": "<table border=\"1\" class=\"dataframe table table-striped table-hover table-condensed table-responsive\">\n  <thead>\n    <tr style=\"text-align: right;\">\n      <th></th>\n      <th>33</th>\n    </tr>\n  </thead>\n  <tbody>\n    <tr>\n      <th>Institution</th>\n      <td>Ocean Observatories Initiative (OOI)</td>\n    </tr>\n    <tr>\n      <th>Dataset ID</th>\n      <td>ooi-ce06issm-rid16-03-dostad000</td>\n    </tr>\n  </tbody>\n</table>"
      }
     },
     "29b9683e64b841398b066ce765424dc7": {
      "model_module": "@jupyter-widgets/controls",
      "model_module_version": "1.5.0",
      "model_name": "HTMLModel",
      "state": {
       "layout": "IPY_MODEL_7568a09a860b45bb97bd4cd554b57e80",
       "style": "IPY_MODEL_cb3640f7857545ae82921e9a3ec83f16",
       "value": "<table border=\"1\" class=\"dataframe table table-striped table-hover table-condensed table-responsive\">\n  <thead>\n    <tr style=\"text-align: right;\">\n      <th></th>\n      <th>40</th>\n    </tr>\n  </thead>\n  <tbody>\n    <tr>\n      <th>Institution</th>\n      <td>Ocean Observatories Initiative (OOI)</td>\n    </tr>\n    <tr>\n      <th>Dataset ID</th>\n      <td>ooi-ce06issm-sbd17-06-ctdbpc000</td>\n    </tr>\n  </tbody>\n</table>"
      }
     },
     "29fbc800e53f4a4b80993b67d31bfb69": {
      "model_module": "@jupyter-widgets/controls",
      "model_module_version": "1.5.0",
      "model_name": "DescriptionStyleModel",
      "state": {
       "description_width": ""
      }
     },
     "2a482a1f75ee40bfa2b05c9559550292": {
      "model_module": "@jupyter-widgets/controls",
      "model_module_version": "1.5.0",
      "model_name": "HTMLModel",
      "state": {
       "layout": "IPY_MODEL_26d97024010f4efca23a9d5ac0738eb5",
       "style": "IPY_MODEL_f3f099d3c487432a8a5d0775f3ab794c",
       "value": "<table border=\"1\" class=\"dataframe table table-striped table-hover table-condensed table-responsive\">\n  <thead>\n    <tr style=\"text-align: right;\">\n      <th></th>\n      <th>20</th>\n    </tr>\n  </thead>\n  <tbody>\n    <tr>\n      <th>Institution</th>\n      <td>Ocean Observatories Initiative (OOI)</td>\n    </tr>\n    <tr>\n      <th>Dataset ID</th>\n      <td>ooi-ce04ossm-sbd11-06-metbka000</td>\n    </tr>\n  </tbody>\n</table>"
      }
     },
     "2a6ef40f09574366adb4cd93192feb75": {
      "model_module": "@jupyter-widgets/controls",
      "model_module_version": "1.5.0",
      "model_name": "DescriptionStyleModel",
      "state": {
       "description_width": ""
      }
     },
     "2a7de14b88334497a6e464e541899201": {
      "model_module": "jupyter-leaflet",
      "model_module_version": "^0.14.0",
      "model_name": "LeafletAwesomeIconModel",
      "state": {
       "_model_module_version": "^0.14.0",
       "_view_module_version": "^0.14.0",
       "icon_color": "white",
       "marker_color": "orange",
       "name": "life-ring"
      }
     },
     "2aaeff64713b439a8bd162bdaa960780": {
      "model_module": "jupyter-leaflet",
      "model_module_version": "^0.14.0",
      "model_name": "LeafletAwesomeIconModel",
      "state": {
       "_model_module_version": "^0.14.0",
       "_view_module_version": "^0.14.0",
       "icon_color": "white",
       "marker_color": "orange",
       "name": "life-ring"
      }
     },
     "2aebe4be3110424fb6466ad2c9774e17": {
      "model_module": "jupyter-leaflet",
      "model_module_version": "^0.14.0",
      "model_name": "LeafletAwesomeIconModel",
      "state": {
       "_model_module_version": "^0.14.0",
       "_view_module_version": "^0.14.0",
       "icon_color": "white",
       "marker_color": "orange",
       "name": "life-ring"
      }
     },
     "2b08856fcbde45649d2063d2808089e1": {
      "model_module": "@jupyter-widgets/controls",
      "model_module_version": "1.5.0",
      "model_name": "HTMLModel",
      "state": {
       "layout": "IPY_MODEL_7223332681f745d18709dbcdde6f6d41",
       "style": "IPY_MODEL_dd1c98dbd27d4d3a892b2f437633853b",
       "value": "<table border=\"1\" class=\"dataframe table table-striped table-hover table-condensed table-responsive\">\n  <thead>\n    <tr style=\"text-align: right;\">\n      <th></th>\n      <th>27</th>\n    </tr>\n  </thead>\n  <tbody>\n    <tr>\n      <th>Institution</th>\n      <td>Ocean Observatories Initiative (OOI)</td>\n    </tr>\n    <tr>\n      <th>Dataset ID</th>\n      <td>ooi-ce02shsm-rid26-07-nutnrb000</td>\n    </tr>\n  </tbody>\n</table>"
      }
     },
     "2b0c0dad11cf416d897a6c46a8213c94": {
      "model_module": "@jupyter-widgets/controls",
      "model_module_version": "1.5.0",
      "model_name": "DescriptionStyleModel",
      "state": {
       "description_width": ""
      }
     },
     "2b395b824f974c1f91039a8d93077021": {
      "model_module": "@jupyter-widgets/controls",
      "model_module_version": "1.5.0",
      "model_name": "DescriptionStyleModel",
      "state": {
       "description_width": ""
      }
     },
     "2b5736552169433f92737c11fec11cf2": {
      "model_module": "@jupyter-widgets/base",
      "model_module_version": "1.2.0",
      "model_name": "LayoutModel",
      "state": {}
     },
     "2be1db1b3baf43a997d822ad650e28f7": {
      "model_module": "jupyter-leaflet",
      "model_module_version": "^0.14.0",
      "model_name": "LeafletMarkerModel",
      "state": {
       "_model_module_version": "^0.14.0",
       "_view_module_version": "^0.14.0",
       "icon": "IPY_MODEL_bf6b3c0aaa1e47f69d2ef004b34fd930",
       "location": [
        47.1345,
        -124.27087
       ],
       "options": [
        "alt",
        "draggable",
        "keyboard",
        "rise_offset",
        "rise_on_hover",
        "rotation_angle",
        "rotation_origin",
        "title",
        "z_index_offset"
       ],
       "popup": "IPY_MODEL_af3dbf905e3048da9806f8b6c8f328c8"
      }
     },
     "2c48f3136b8d4ab586145cd15a6cbe03": {
      "model_module": "jupyter-leaflet",
      "model_module_version": "^0.14.0",
      "model_name": "LeafletMarkerModel",
      "state": {
       "_model_module_version": "^0.14.0",
       "_view_module_version": "^0.14.0",
       "icon": "IPY_MODEL_887b93ae2e6b4e93aaaac5bc665c4664",
       "location": [
        43.3,
        -124.5
       ],
       "options": [
        "alt",
        "draggable",
        "keyboard",
        "rise_offset",
        "rise_on_hover",
        "rotation_angle",
        "rotation_origin",
        "title",
        "z_index_offset"
       ],
       "popup": "IPY_MODEL_3d978b54342d493dab18db2d5452317a"
      }
     },
     "2cac26ce05e24b7097009a3573360706": {
      "model_module": "@jupyter-widgets/base",
      "model_module_version": "1.2.0",
      "model_name": "LayoutModel",
      "state": {}
     },
     "2cf895327b2b4c99a5e07d7dbfe43174": {
      "model_module": "@jupyter-widgets/controls",
      "model_module_version": "1.5.0",
      "model_name": "DescriptionStyleModel",
      "state": {
       "description_width": ""
      }
     },
     "2d09ce1832b54c3b802bad04f957cc90": {
      "model_module": "jupyter-leaflet",
      "model_module_version": "^0.14.0",
      "model_name": "LeafletMarkerModel",
      "state": {
       "_model_module_version": "^0.14.0",
       "_view_module_version": "^0.14.0",
       "icon": "IPY_MODEL_f9d1e15b352c47088a25216831a82b6d",
       "location": [
        44.63577,
        -124.3035
       ],
       "options": [
        "alt",
        "draggable",
        "keyboard",
        "rise_offset",
        "rise_on_hover",
        "rotation_angle",
        "rotation_origin",
        "title",
        "z_index_offset"
       ],
       "popup": "IPY_MODEL_6652f0377365459aab023ca57376518d"
      }
     },
     "2d66c00b6fe74b53a9c1ce3c352aa6df": {
      "model_module": "@jupyter-widgets/base",
      "model_module_version": "1.2.0",
      "model_name": "LayoutModel",
      "state": {}
     },
     "2d80f1c402944f7aad980a3f4552a20f": {
      "model_module": "jupyter-leaflet",
      "model_module_version": "^0.14.0",
      "model_name": "LeafletAwesomeIconModel",
      "state": {
       "_model_module_version": "^0.14.0",
       "_view_module_version": "^0.14.0",
       "icon_color": "white",
       "marker_color": "orange",
       "name": "life-ring"
      }
     },
     "2d85e09360d443dfb7cfb6245c5bd1dd": {
      "model_module": "@jupyter-widgets/controls",
      "model_module_version": "1.5.0",
      "model_name": "HTMLModel",
      "state": {
       "layout": "IPY_MODEL_8720a78c188b4828a689dd952d96656a",
       "style": "IPY_MODEL_7de5c7d2b9aa4b4aaf4fb06f6e7646bd",
       "value": "<table border=\"1\" class=\"dataframe table table-striped table-hover table-condensed table-responsive\">\n  <thead>\n    <tr style=\"text-align: right;\">\n      <th></th>\n      <th>19</th>\n    </tr>\n  </thead>\n  <tbody>\n    <tr>\n      <th>Institution</th>\n      <td>Ocean Observatories Initiative (OOI)</td>\n    </tr>\n    <tr>\n      <th>Dataset ID</th>\n      <td>ooi-ce04ossm-rid26-06-phsend000</td>\n    </tr>\n  </tbody>\n</table>"
      }
     },
     "2d908e4401594a248e5a8738e226887a": {
      "model_module": "jupyter-leaflet",
      "model_module_version": "^0.14.0",
      "model_name": "LeafletMarkerModel",
      "state": {
       "_model_module_version": "^0.14.0",
       "_view_module_version": "^0.14.0",
       "icon": "IPY_MODEL_5b3771a21def4fb9b7dd04317d25b5a5",
       "location": [
        46.85367,
        -124.95935
       ],
       "options": [
        "alt",
        "draggable",
        "keyboard",
        "rise_offset",
        "rise_on_hover",
        "rotation_angle",
        "rotation_origin",
        "title",
        "z_index_offset"
       ],
       "popup": "IPY_MODEL_14176da2877149d9819295fb1f3f7aaf"
      }
     },
     "2dbf4d369a854f7ba74d0678803ede0d": {
      "model_module": "@jupyter-widgets/controls",
      "model_module_version": "1.5.0",
      "model_name": "HTMLModel",
      "state": {
       "layout": "IPY_MODEL_d64d8738680b461ab57f8cae2af56762",
       "style": "IPY_MODEL_60dc03b9da37487a9bd8a969acb5a66b",
       "value": "<table border=\"1\" class=\"dataframe table table-striped table-hover table-condensed table-responsive\">\n  <thead>\n    <tr style=\"text-align: right;\">\n      <th></th>\n      <th>15</th>\n    </tr>\n  </thead>\n  <tbody>\n    <tr>\n      <th>Institution</th>\n      <td>Ocean Observatories Initiative (OOI)</td>\n    </tr>\n    <tr>\n      <th>Dataset ID</th>\n      <td>ooi-ce04ossm-rid27-02-flortd000</td>\n    </tr>\n  </tbody>\n</table>"
      }
     },
     "2df21d2ca83347d197cc9932cf4fc962": {
      "model_module": "@jupyter-widgets/controls",
      "model_module_version": "1.5.0",
      "model_name": "HTMLModel",
      "state": {
       "layout": "IPY_MODEL_583b98e96dc146fd91610e7f34c60fdc",
       "style": "IPY_MODEL_0ea3eac917fd41619def0dabd955bde5",
       "value": "<table border=\"1\" class=\"dataframe table table-striped table-hover table-condensed table-responsive\">\n  <thead>\n    <tr style=\"text-align: right;\">\n      <th></th>\n      <th>79</th>\n    </tr>\n  </thead>\n  <tbody>\n    <tr>\n      <th>Institution</th>\n      <td>Center for Coastal Margin Observation &amp; Prediction</td>\n    </tr>\n    <tr>\n      <th>Dataset ID</th>\n      <td>org_cmop_seto3</td>\n    </tr>\n  </tbody>\n</table>"
      }
     },
     "2e11cf2bd3cf4e71a7924b0c7c7bb3f0": {
      "model_module": "@jupyter-widgets/base",
      "model_module_version": "1.2.0",
      "model_name": "LayoutModel",
      "state": {}
     },
     "2e7cfdaeeab84292829709e278612f7a": {
      "model_module": "@jupyter-widgets/base",
      "model_module_version": "1.2.0",
      "model_name": "LayoutModel",
      "state": {}
     },
     "2ee7a6676118461daa1109bf6ea9416f": {
      "model_module": "@jupyter-widgets/base",
      "model_module_version": "1.2.0",
      "model_name": "LayoutModel",
      "state": {}
     },
     "2ef1c215cdea48fbbe0d38fa2f66778a": {
      "model_module": "jupyter-leaflet",
      "model_module_version": "^0.14.0",
      "model_name": "LeafletAwesomeIconModel",
      "state": {
       "_model_module_version": "^0.14.0",
       "_view_module_version": "^0.14.0",
       "icon_color": "white",
       "marker_color": "orange",
       "name": "life-ring"
      }
     },
     "2f4c73dcd86641588c0e28cd6cbc4f8f": {
      "model_module": "jupyter-leaflet",
      "model_module_version": "^0.14.0",
      "model_name": "LeafletAwesomeIconModel",
      "state": {
       "_model_module_version": "^0.14.0",
       "_view_module_version": "^0.14.0",
       "icon_color": "white",
       "name": "life-ring"
      }
     },
     "2f65e794a2e54517a8f6253f60eeceac": {
      "model_module": "jupyter-leaflet",
      "model_module_version": "^0.14.0",
      "model_name": "LeafletAwesomeIconModel",
      "state": {
       "_model_module_version": "^0.14.0",
       "_view_module_version": "^0.14.0",
       "icon_color": "white",
       "marker_color": "orange",
       "name": "life-ring"
      }
     },
     "2f8c9ac033b04600b2ae9d782dae6a18": {
      "model_module": "jupyter-leaflet",
      "model_module_version": "^0.14.0",
      "model_name": "LeafletMarkerModel",
      "state": {
       "_model_module_version": "^0.14.0",
       "_view_module_version": "^0.14.0",
       "icon": "IPY_MODEL_88f47cd799bb4264ac3445fc6793e7d9",
       "location": [
        46.85367,
        -124.95935
       ],
       "options": [
        "alt",
        "draggable",
        "keyboard",
        "rise_offset",
        "rise_on_hover",
        "rotation_angle",
        "rotation_origin",
        "title",
        "z_index_offset"
       ],
       "popup": "IPY_MODEL_365223a7ad45489e9290533571c17d4d"
      }
     },
     "2f8dce15ec0a4db19da35c49f853d6a9": {
      "model_module": "@jupyter-widgets/controls",
      "model_module_version": "1.5.0",
      "model_name": "HTMLModel",
      "state": {
       "layout": "IPY_MODEL_c7a639dcc81b473cad594d29115d58e2",
       "style": "IPY_MODEL_d791cd95f9384b688376aea6286fd557",
       "value": "<table border=\"1\" class=\"dataframe table table-striped table-hover table-condensed table-responsive\">\n  <thead>\n    <tr style=\"text-align: right;\">\n      <th></th>\n      <th>38</th>\n    </tr>\n  </thead>\n  <tbody>\n    <tr>\n      <th>Institution</th>\n      <td>Ocean Observatories Initiative (OOI)</td>\n    </tr>\n    <tr>\n      <th>Dataset ID</th>\n      <td>ooi-ce06issm-mfd35-06-phsend000</td>\n    </tr>\n  </tbody>\n</table>"
      }
     },
     "2f970490e4de4f058c5491eb90c30ad1": {
      "model_module": "@jupyter-widgets/controls",
      "model_module_version": "1.5.0",
      "model_name": "DescriptionStyleModel",
      "state": {
       "description_width": ""
      }
     },
     "2fc9f8ce51c1453da640270a8ace111d": {
      "model_module": "jupyter-leaflet",
      "model_module_version": "^0.14.0",
      "model_name": "LeafletMarkerModel",
      "state": {
       "_model_module_version": "^0.14.0",
       "_view_module_version": "^0.14.0",
       "icon": "IPY_MODEL_73a859167b92493995dab8bdb0e37b2c",
       "location": [
        44.65678,
        -124.09707
       ],
       "options": [
        "alt",
        "draggable",
        "keyboard",
        "rise_offset",
        "rise_on_hover",
        "rotation_angle",
        "rotation_origin",
        "title",
        "z_index_offset"
       ],
       "popup": "IPY_MODEL_ca260d675dc447928567a37bdecc496d"
      }
     },
     "300049c4f8704f3a945502cfdd850648": {
      "model_module": "@jupyter-widgets/controls",
      "model_module_version": "1.5.0",
      "model_name": "HTMLModel",
      "state": {
       "layout": "IPY_MODEL_823918740a264972921c308e04548bf5",
       "style": "IPY_MODEL_f06ea759f1e6494aa170fae8578e7825",
       "value": "<table border=\"1\" class=\"dataframe table table-striped table-hover table-condensed table-responsive\">\n  <thead>\n    <tr style=\"text-align: right;\">\n      <th></th>\n      <th>44</th>\n    </tr>\n  </thead>\n  <tbody>\n    <tr>\n      <th>Institution</th>\n      <td>Ocean Observatories Initiative (OOI)</td>\n    </tr>\n    <tr>\n      <th>Dataset ID</th>\n      <td>ooi-ce09ossm-rid26-07-nutnrb000</td>\n    </tr>\n  </tbody>\n</table>"
      }
     },
     "301db70343b84e999ca2d6c600689511": {
      "model_module": "jupyter-leaflet",
      "model_module_version": "^0.14.0",
      "model_name": "LeafletMarkerModel",
      "state": {
       "_model_module_version": "^0.14.0",
       "_view_module_version": "^0.14.0",
       "icon": "IPY_MODEL_f411d98eab494d69a24c3aa3fdf7f3b4",
       "location": [
        46.85367,
        -124.95935
       ],
       "options": [
        "alt",
        "draggable",
        "keyboard",
        "rise_offset",
        "rise_on_hover",
        "rotation_angle",
        "rotation_origin",
        "title",
        "z_index_offset"
       ],
       "popup": "IPY_MODEL_f9f666e3660a4d0ba39833e41f19946e"
      }
     },
     "308d01f1c6874ef3807976ead658ef0b": {
      "model_module": "jupyter-leaflet",
      "model_module_version": "^0.14.0",
      "model_name": "LeafletAwesomeIconModel",
      "state": {
       "_model_module_version": "^0.14.0",
       "_view_module_version": "^0.14.0",
       "icon_color": "white",
       "marker_color": "orange",
       "name": "life-ring"
      }
     },
     "30ada9090ca442a597b20972c471a419": {
      "model_module": "@jupyter-widgets/controls",
      "model_module_version": "1.5.0",
      "model_name": "HTMLModel",
      "state": {
       "layout": "IPY_MODEL_fb4ca257100940da9861e08801431be4",
       "style": "IPY_MODEL_adcfa6bd84704153937bfb7b1ca9315e",
       "value": "<table border=\"1\" class=\"dataframe table table-striped table-hover table-condensed table-responsive\">\n  <thead>\n    <tr style=\"text-align: right;\">\n      <th></th>\n      <th>3</th>\n    </tr>\n  </thead>\n  <tbody>\n    <tr>\n      <th>Institution</th>\n      <td>Ocean Observatories Initiative (OOI)</td>\n    </tr>\n    <tr>\n      <th>Dataset ID</th>\n      <td>ooi-ce01issm-rid16-07-nutnrb000</td>\n    </tr>\n  </tbody>\n</table>"
      }
     },
     "310c7e4fc6fb48828a68c12705e96a07": {
      "model_module": "jupyter-leaflet",
      "model_module_version": "^0.14.0",
      "model_name": "LeafletAwesomeIconModel",
      "state": {
       "_model_module_version": "^0.14.0",
       "_view_module_version": "^0.14.0",
       "icon_color": "white",
       "name": "life-ring"
      }
     },
     "3135fe3929a74bc18548d33f6b76e215": {
      "model_module": "@jupyter-widgets/controls",
      "model_module_version": "1.5.0",
      "model_name": "HTMLModel",
      "state": {
       "layout": "IPY_MODEL_12afaa192e6d4632b254f540ddfb106a",
       "style": "IPY_MODEL_13010a9d94444bc9a6826039213e3d55",
       "value": "<table border=\"1\" class=\"dataframe table table-striped table-hover table-condensed table-responsive\">\n  <thead>\n    <tr style=\"text-align: right;\">\n      <th></th>\n      <th>22</th>\n    </tr>\n  </thead>\n  <tbody>\n    <tr>\n      <th>Institution</th>\n      <td>Ocean Observatories Initiative (OOI)</td>\n    </tr>\n    <tr>\n      <th>Dataset ID</th>\n      <td>ooi-ce02shbp-lj01d-06-ctdbpn106</td>\n    </tr>\n  </tbody>\n</table>"
      }
     },
     "31c776b64205452a8f50e2c5790de46e": {
      "model_module": "@jupyter-widgets/controls",
      "model_module_version": "1.5.0",
      "model_name": "HTMLModel",
      "state": {
       "layout": "IPY_MODEL_99fe8beb1a1a4400a3d75785fd910ac9",
       "style": "IPY_MODEL_f1abb884b026415e8ecd4cc068a10d20",
       "value": "<table border=\"1\" class=\"dataframe table table-striped table-hover table-condensed table-responsive\">\n  <thead>\n    <tr style=\"text-align: right;\">\n      <th></th>\n      <th>16</th>\n    </tr>\n  </thead>\n  <tbody>\n    <tr>\n      <th>Institution</th>\n      <td>Ocean Observatories Initiative (OOI)</td>\n    </tr>\n    <tr>\n      <th>Dataset ID</th>\n      <td>ooi-ce04ossm-rid27-03-ctdbpc000</td>\n    </tr>\n  </tbody>\n</table>"
      }
     },
     "3249185ca3b246d8abe99bf9b609783f": {
      "model_module": "@jupyter-widgets/base",
      "model_module_version": "1.2.0",
      "model_name": "LayoutModel",
      "state": {}
     },
     "32515d2cc89e41c6b4ef865096e6541a": {
      "model_module": "@jupyter-widgets/controls",
      "model_module_version": "1.5.0",
      "model_name": "HTMLModel",
      "state": {
       "layout": "IPY_MODEL_6467693e688b4e26ab990a159c3b9441",
       "style": "IPY_MODEL_f58db1e2db8b4ec79942d24da429e0ed",
       "value": "<table border=\"1\" class=\"dataframe table table-striped table-hover table-condensed table-responsive\">\n  <thead>\n    <tr style=\"text-align: right;\">\n      <th></th>\n      <th>52</th>\n    </tr>\n  </thead>\n  <tbody>\n    <tr>\n      <th>Institution</th>\n      <td>Ocean Observatories Initiative (OOI)</td>\n    </tr>\n    <tr>\n      <th>Dataset ID</th>\n      <td>ooi-ce07shsm-rid27-04-dostad000</td>\n    </tr>\n  </tbody>\n</table>"
      }
     },
     "327454ea0a5c44fda416765a296fdc08": {
      "model_module": "@jupyter-widgets/controls",
      "model_module_version": "1.5.0",
      "model_name": "DescriptionStyleModel",
      "state": {
       "description_width": ""
      }
     },
     "32d1da9723b147d2875c06e410519fa5": {
      "model_module": "@jupyter-widgets/base",
      "model_module_version": "1.2.0",
      "model_name": "LayoutModel",
      "state": {}
     },
     "32d5cfcca256487280f98c640adfcf6f": {
      "model_module": "jupyter-leaflet",
      "model_module_version": "^0.14.0",
      "model_name": "LeafletAwesomeIconModel",
      "state": {
       "_model_module_version": "^0.14.0",
       "_view_module_version": "^0.14.0",
       "icon_color": "white",
       "marker_color": "orange",
       "name": "life-ring"
      }
     },
     "335944ecb869430e9df30bc3c8e9a5cf": {
      "model_module": "@jupyter-widgets/controls",
      "model_module_version": "1.5.0",
      "model_name": "DescriptionStyleModel",
      "state": {
       "description_width": ""
      }
     },
     "338b38a5e98a4893baee958ce27ce000": {
      "model_module": "@jupyter-widgets/controls",
      "model_module_version": "1.5.0",
      "model_name": "DescriptionStyleModel",
      "state": {
       "description_width": ""
      }
     },
     "33a682999d974b06bca886c011b67bd5": {
      "model_module": "@jupyter-widgets/controls",
      "model_module_version": "1.5.0",
      "model_name": "HTMLModel",
      "state": {
       "layout": "IPY_MODEL_0e29128dbe0d4e8b8b41b6a424089e57",
       "style": "IPY_MODEL_2cf895327b2b4c99a5e07d7dbfe43174",
       "value": "<table border=\"1\" class=\"dataframe table table-striped table-hover table-condensed table-responsive\">\n  <thead>\n    <tr style=\"text-align: right;\">\n      <th></th>\n      <th>18</th>\n    </tr>\n  </thead>\n  <tbody>\n    <tr>\n      <th>Institution</th>\n      <td>Ocean Observatories Initiative (OOI)</td>\n    </tr>\n    <tr>\n      <th>Dataset ID</th>\n      <td>ooi-ce04ossm-rid26-07-nutnrb000</td>\n    </tr>\n  </tbody>\n</table>"
      }
     },
     "33a6c2e3c84c43ce9c146c60d237e1d1": {
      "model_module": "jupyter-leaflet",
      "model_module_version": "^0.14.0",
      "model_name": "LeafletMarkerModel",
      "state": {
       "_model_module_version": "^0.14.0",
       "_view_module_version": "^0.14.0",
       "icon": "IPY_MODEL_ab9aded4aacf4f19b016dd174b711dcf",
       "location": [
        47.1345,
        -124.27087
       ],
       "options": [
        "alt",
        "draggable",
        "keyboard",
        "rise_offset",
        "rise_on_hover",
        "rotation_angle",
        "rotation_origin",
        "title",
        "z_index_offset"
       ],
       "popup": "IPY_MODEL_449ec08c3e1d4492a01d6b669ea910fc"
      }
     },
     "33e2ad9f77b0437b96a6e44ba4c12103": {
      "model_module": "@jupyter-widgets/base",
      "model_module_version": "1.2.0",
      "model_name": "LayoutModel",
      "state": {}
     },
     "345999cd2c414159afbbf5485dcf81ee": {
      "model_module": "@jupyter-widgets/controls",
      "model_module_version": "1.5.0",
      "model_name": "HTMLModel",
      "state": {
       "layout": "IPY_MODEL_a6ca279c4507464199f6de8def874406",
       "style": "IPY_MODEL_0b4fc55f198a45dea5a5f3aa308b1db6",
       "value": "<table border=\"1\" class=\"dataframe table table-striped table-hover table-condensed table-responsive\">\n  <thead>\n    <tr style=\"text-align: right;\">\n      <th></th>\n      <th>22</th>\n    </tr>\n  </thead>\n  <tbody>\n    <tr>\n      <th>Institution</th>\n      <td>Ocean Observatories Initiative (OOI)</td>\n    </tr>\n    <tr>\n      <th>Dataset ID</th>\n      <td>ooi-ce02shbp-lj01d-06-ctdbpn106</td>\n    </tr>\n  </tbody>\n</table>"
      }
     },
     "346cb7af1d5646a7a86db8121ef523ff": {
      "model_module": "jupyter-leaflet",
      "model_module_version": "^0.14.0",
      "model_name": "LeafletAwesomeIconModel",
      "state": {
       "_model_module_version": "^0.14.0",
       "_view_module_version": "^0.14.0",
       "icon_color": "white",
       "name": "life-ring"
      }
     },
     "34c94a48f1ae497d8861dc9bab6319fb": {
      "model_module": "jupyter-leaflet",
      "model_module_version": "^0.14.0",
      "model_name": "LeafletMarkerModel",
      "state": {
       "_model_module_version": "^0.14.0",
       "_view_module_version": "^0.14.0",
       "icon": "IPY_MODEL_0398ad435cd64f0e9b038d233971d40e",
       "location": [
        44.37868,
        -124.94508
       ],
       "options": [
        "alt",
        "draggable",
        "keyboard",
        "rise_offset",
        "rise_on_hover",
        "rotation_angle",
        "rotation_origin",
        "title",
        "z_index_offset"
       ],
       "popup": "IPY_MODEL_33a682999d974b06bca886c011b67bd5"
      }
     },
     "350e6412d8f8480c8ad653b26ce88d35": {
      "model_module": "jupyter-leaflet",
      "model_module_version": "^0.14.0",
      "model_name": "LeafletMarkerModel",
      "state": {
       "_model_module_version": "^0.14.0",
       "_view_module_version": "^0.14.0",
       "icon": "IPY_MODEL_d59fded7cd784d3a823d75d5c3b5c8ef",
       "location": [
        43.3447,
        -124.3231
       ],
       "options": [
        "alt",
        "draggable",
        "keyboard",
        "rise_offset",
        "rise_on_hover",
        "rotation_angle",
        "rotation_origin",
        "title",
        "z_index_offset"
       ],
       "popup": "IPY_MODEL_2790c1d24cab449099f41e034d85561e"
      }
     },
     "351631259423424d992e08a93f1f5f2c": {
      "model_module": "jupyter-leaflet",
      "model_module_version": "^0.14.0",
      "model_name": "LeafletAwesomeIconModel",
      "state": {
       "_model_module_version": "^0.14.0",
       "_view_module_version": "^0.14.0",
       "icon_color": "white",
       "marker_color": "orange",
       "name": "life-ring"
      }
     },
     "3568c84b370347f0bf86adf71d747b73": {
      "model_module": "@jupyter-widgets/controls",
      "model_module_version": "1.5.0",
      "model_name": "DescriptionStyleModel",
      "state": {
       "description_width": ""
      }
     },
     "357e937e0cdf47efb2632b6a49ef7077": {
      "model_module": "jupyter-leaflet",
      "model_module_version": "^0.14.0",
      "model_name": "LeafletMarkerModel",
      "state": {
       "_model_module_version": "^0.14.0",
       "_view_module_version": "^0.14.0",
       "icon": "IPY_MODEL_1104e1875021431fbe7b9dba55301622",
       "location": [
        44.63958,
        -124.303
       ],
       "options": [
        "alt",
        "draggable",
        "keyboard",
        "rise_offset",
        "rise_on_hover",
        "rotation_angle",
        "rotation_origin",
        "title",
        "z_index_offset"
       ],
       "popup": "IPY_MODEL_e5235d1720d64852a9b813c4659dce9d"
      }
     },
     "35e3760054604860896c905843f77b6e": {
      "model_module": "jupyter-leaflet",
      "model_module_version": "^0.14.0",
      "model_name": "LeafletMarkerModel",
      "state": {
       "_model_module_version": "^0.14.0",
       "_view_module_version": "^0.14.0",
       "icon": "IPY_MODEL_f893655349a0419b83ede247cfa622ee",
       "location": [
        47.1345,
        -124.27087
       ],
       "options": [
        "alt",
        "draggable",
        "keyboard",
        "rise_offset",
        "rise_on_hover",
        "rotation_angle",
        "rotation_origin",
        "title",
        "z_index_offset"
       ],
       "popup": "IPY_MODEL_29b9683e64b841398b066ce765424dc7"
      }
     },
     "360597908d3a4d5088ad6ee08e5d9ca6": {
      "model_module": "jupyter-leaflet",
      "model_module_version": "^0.14.0",
      "model_name": "LeafletMarkerModel",
      "state": {
       "_model_module_version": "^0.14.0",
       "_view_module_version": "^0.14.0",
       "icon": "IPY_MODEL_d8902c7c75b84276880390a7d601f292",
       "location": [
        46.98648,
        -124.56923
       ],
       "options": [
        "alt",
        "draggable",
        "keyboard",
        "rise_offset",
        "rise_on_hover",
        "rotation_angle",
        "rotation_origin",
        "title",
        "z_index_offset"
       ],
       "popup": "IPY_MODEL_c436533bb6b244baaa7cc1b980081687"
      }
     },
     "3629ec6848ed4199bad7ba58c943a156": {
      "model_module": "@jupyter-widgets/controls",
      "model_module_version": "1.5.0",
      "model_name": "DescriptionStyleModel",
      "state": {
       "description_width": ""
      }
     },
     "3636b32e602d4e8bb5f0d79410690b05": {
      "model_module": "jupyter-leaflet",
      "model_module_version": "^0.14.0",
      "model_name": "LeafletAwesomeIconModel",
      "state": {
       "_model_module_version": "^0.14.0",
       "_view_module_version": "^0.14.0",
       "icon_color": "white",
       "marker_color": "orange",
       "name": "life-ring"
      }
     },
     "365223a7ad45489e9290533571c17d4d": {
      "model_module": "@jupyter-widgets/controls",
      "model_module_version": "1.5.0",
      "model_name": "HTMLModel",
      "state": {
       "layout": "IPY_MODEL_9c032bddab8f4bb9a8ef5b2e83c97e43",
       "style": "IPY_MODEL_7be111d805c2475daa10c7512dd535e5",
       "value": "<table border=\"1\" class=\"dataframe table table-striped table-hover table-condensed table-responsive\">\n  <thead>\n    <tr style=\"text-align: right;\">\n      <th></th>\n      <th>49</th>\n    </tr>\n  </thead>\n  <tbody>\n    <tr>\n      <th>Institution</th>\n      <td>Ocean Observatories Initiative (OOI)</td>\n    </tr>\n    <tr>\n      <th>Dataset ID</th>\n      <td>ooi-ce09ossm-sbd12-04-pco2aa000</td>\n    </tr>\n  </tbody>\n</table>"
      }
     },
     "36a5ac518d5d4bf2b51278b563a941a6": {
      "model_module": "@jupyter-widgets/base",
      "model_module_version": "1.2.0",
      "model_name": "LayoutModel",
      "state": {}
     },
     "37047ae22f6e49cd907bb101d66ac62d": {
      "model_module": "@jupyter-widgets/controls",
      "model_module_version": "1.5.0",
      "model_name": "DescriptionStyleModel",
      "state": {
       "description_width": ""
      }
     },
     "3782aa6bafab474eb8a7ba81deb0fa6b": {
      "model_module": "@jupyter-widgets/controls",
      "model_module_version": "1.5.0",
      "model_name": "HTMLModel",
      "state": {
       "layout": "IPY_MODEL_32d1da9723b147d2875c06e410519fa5",
       "style": "IPY_MODEL_a3a63060905542e6838e0b0fabee5bd5",
       "value": "<table border=\"1\" class=\"dataframe table table-striped table-hover table-condensed table-responsive\">\n  <thead>\n    <tr style=\"text-align: right;\">\n      <th></th>\n      <th>0</th>\n    </tr>\n  </thead>\n  <tbody>\n    <tr>\n      <th>Institution</th>\n      <td>Ocean Observatories Initiative (OOI)</td>\n    </tr>\n    <tr>\n      <th>Dataset ID</th>\n      <td>ooi-ce01issm-rid16-02-flortd000</td>\n    </tr>\n  </tbody>\n</table>"
      }
     },
     "37ba0d9389ab4e55a9e60f0240676be4": {
      "model_module": "jupyter-leaflet",
      "model_module_version": "^0.14.0",
      "model_name": "LeafletAwesomeIconModel",
      "state": {
       "_model_module_version": "^0.14.0",
       "_view_module_version": "^0.14.0",
       "icon_color": "white",
       "marker_color": "orange",
       "name": "life-ring"
      }
     },
     "37bd666c60e5429a9fc469f2d6695604": {
      "model_module": "@jupyter-widgets/controls",
      "model_module_version": "1.5.0",
      "model_name": "HTMLModel",
      "state": {
       "layout": "IPY_MODEL_4a64c592449644a588f4ab53df35311b",
       "style": "IPY_MODEL_a3bcbcf692de479484902bc863f685b6",
       "value": "<table border=\"1\" class=\"dataframe table table-striped table-hover table-condensed table-responsive\">\n  <thead>\n    <tr style=\"text-align: right;\">\n      <th></th>\n      <th>43</th>\n    </tr>\n  </thead>\n  <tbody>\n    <tr>\n      <th>Institution</th>\n      <td>Ocean Observatories Initiative (OOI)</td>\n    </tr>\n    <tr>\n      <th>Dataset ID</th>\n      <td>ooi-ce09ossm-rid27-04-dostad000</td>\n    </tr>\n  </tbody>\n</table>"
      }
     },
     "3850a61ce8de43dfa8e46a547c1c58d4": {
      "model_module": "@jupyter-widgets/controls",
      "model_module_version": "1.5.0",
      "model_name": "DescriptionStyleModel",
      "state": {
       "description_width": ""
      }
     },
     "385a11f4447a4f02bd09da92ec495775": {
      "model_module": "@jupyter-widgets/base",
      "model_module_version": "1.2.0",
      "model_name": "LayoutModel",
      "state": {}
     },
     "3884a85cadac4708a4bf041307844f94": {
      "model_module": "@jupyter-widgets/controls",
      "model_module_version": "1.5.0",
      "model_name": "DescriptionStyleModel",
      "state": {
       "description_width": ""
      }
     },
     "389b100b581d4f1eb3d103616bc9a511": {
      "model_module": "@jupyter-widgets/base",
      "model_module_version": "1.2.0",
      "model_name": "LayoutModel",
      "state": {}
     },
     "396296fbc8b34765a7c1982a9df8a75d": {
      "model_module": "@jupyter-widgets/controls",
      "model_module_version": "1.5.0",
      "model_name": "DescriptionStyleModel",
      "state": {
       "description_width": ""
      }
     },
     "39a2dc814a204fac8c9f1ee04e6b8375": {
      "model_module": "@jupyter-widgets/controls",
      "model_module_version": "1.5.0",
      "model_name": "DescriptionStyleModel",
      "state": {
       "description_width": ""
      }
     },
     "3a8207b6f5bb450c92c1a99b1e767684": {
      "model_module": "@jupyter-widgets/controls",
      "model_module_version": "1.5.0",
      "model_name": "DescriptionStyleModel",
      "state": {
       "description_width": ""
      }
     },
     "3a8445e8a3744c90b0f2de58e652809c": {
      "model_module": "@jupyter-widgets/base",
      "model_module_version": "1.2.0",
      "model_name": "LayoutModel",
      "state": {}
     },
     "3aa37be5d0a242198ed3a639da241b4d": {
      "model_module": "jupyter-leaflet",
      "model_module_version": "^0.14.0",
      "model_name": "LeafletMarkerModel",
      "state": {
       "_model_module_version": "^0.14.0",
       "_view_module_version": "^0.14.0",
       "icon": "IPY_MODEL_12f4903caa394adca0e6ed04b49c89d3",
       "location": [
        45.4213981628418,
        -123.93620300293
       ],
       "options": [
        "alt",
        "draggable",
        "keyboard",
        "rise_offset",
        "rise_on_hover",
        "rotation_angle",
        "rotation_origin",
        "title",
        "z_index_offset"
       ],
       "popup": "IPY_MODEL_ee8c9c1972da42cab4428e0fce24c5de"
      }
     },
     "3ad236c9cd004798920b334550a868b5": {
      "model_module": "jupyter-leaflet",
      "model_module_version": "^0.14.0",
      "model_name": "LeafletAwesomeIconModel",
      "state": {
       "_model_module_version": "^0.14.0",
       "_view_module_version": "^0.14.0",
       "icon_color": "white",
       "marker_color": "orange",
       "name": "life-ring"
      }
     },
     "3add10dcd54b4da4ad31f22cc7535dd1": {
      "model_module": "@jupyter-widgets/controls",
      "model_module_version": "1.5.0",
      "model_name": "DescriptionStyleModel",
      "state": {
       "description_width": ""
      }
     },
     "3af66daec66b42dfbd5900da1f4c7c6a": {
      "model_module": "@jupyter-widgets/controls",
      "model_module_version": "1.5.0",
      "model_name": "HTMLModel",
      "state": {
       "layout": "IPY_MODEL_cc212b8bd1634c2fbe5d0acb0a7091f0",
       "style": "IPY_MODEL_5fd9ac27839948d2be3398b91dded88d",
       "value": "<table border=\"1\" class=\"dataframe table table-striped table-hover table-condensed table-responsive\">\n  <thead>\n    <tr style=\"text-align: right;\">\n      <th></th>\n      <th>13</th>\n    </tr>\n  </thead>\n  <tbody>\n    <tr>\n      <th>Institution</th>\n      <td>Ocean Observatories Initiative (OOI)</td>\n    </tr>\n    <tr>\n      <th>Dataset ID</th>\n      <td>ooi-ce04osps-pc01b-4a-ctdpfa109</td>\n    </tr>\n  </tbody>\n</table>"
      }
     },
     "3b0f6437d3294fffb42050a76fe841f0": {
      "model_module": "@jupyter-widgets/controls",
      "model_module_version": "1.5.0",
      "model_name": "HTMLModel",
      "state": {
       "layout": "IPY_MODEL_1389c37f83154960bda96a3e5d161153",
       "style": "IPY_MODEL_e4d4da225e8e47b2bca6fb7e59666b7a",
       "value": "<table border=\"1\" class=\"dataframe table table-striped table-hover table-condensed table-responsive\">\n  <thead>\n    <tr style=\"text-align: right;\">\n      <th></th>\n      <th>23</th>\n    </tr>\n  </thead>\n  <tbody>\n    <tr>\n      <th>Institution</th>\n      <td>Ocean Observatories Initiative (OOI)</td>\n    </tr>\n    <tr>\n      <th>Dataset ID</th>\n      <td>ooi-ce02shbp-lj01d-10-phsend103</td>\n    </tr>\n  </tbody>\n</table>"
      }
     },
     "3b2ffabac5384e148605395a49058507": {
      "model_module": "@jupyter-widgets/base",
      "model_module_version": "1.2.0",
      "model_name": "LayoutModel",
      "state": {}
     },
     "3b3f133719c1491c9e695b3ee63a86c8": {
      "model_module": "jupyter-leaflet",
      "model_module_version": "^0.14.0",
      "model_name": "LeafletMarkerModel",
      "state": {
       "_model_module_version": "^0.14.0",
       "_view_module_version": "^0.14.0",
       "icon": "IPY_MODEL_c3c0b0efe8ae4ebe978b5b22460d7c4f",
       "location": [
        44.52897,
        -125.38966
       ],
       "options": [
        "alt",
        "draggable",
        "keyboard",
        "rise_offset",
        "rise_on_hover",
        "rotation_angle",
        "rotation_origin",
        "title",
        "z_index_offset"
       ],
       "popup": "IPY_MODEL_1016746262324ed4920644a5e247b045"
      }
     },
     "3b545950a6e2407c9c4af13bdc245709": {
      "model_module": "@jupyter-widgets/base",
      "model_module_version": "1.2.0",
      "model_name": "LayoutModel",
      "state": {}
     },
     "3b93662578fb4e9cb9099eb8356f13d2": {
      "model_module": "@jupyter-widgets/controls",
      "model_module_version": "1.5.0",
      "model_name": "HTMLModel",
      "state": {
       "layout": "IPY_MODEL_64da42e3bda549189aa7b01a22d74c47",
       "style": "IPY_MODEL_065bb53fb09c4689981a6e577b23b613",
       "value": "<table border=\"1\" class=\"dataframe table table-striped table-hover table-condensed table-responsive\">\n  <thead>\n    <tr style=\"text-align: right;\">\n      <th></th>\n      <th>60</th>\n    </tr>\n  </thead>\n  <tbody>\n    <tr>\n      <th>Institution</th>\n      <td>Ocean Observatories Initiative (OOI)</td>\n    </tr>\n    <tr>\n      <th>Dataset ID</th>\n      <td>ooi-rs01sbps-pc01a-4c-flordd103</td>\n    </tr>\n  </tbody>\n</table>"
      }
     },
     "3baaa1564b834957941ffddbef6f6c46": {
      "model_module": "jupyter-leaflet",
      "model_module_version": "^0.14.0",
      "model_name": "LeafletAwesomeIconModel",
      "state": {
       "_model_module_version": "^0.14.0",
       "_view_module_version": "^0.14.0",
       "icon_color": "white",
       "marker_color": "orange",
       "name": "life-ring"
      }
     },
     "3be2937ea703415d90eacdc94e8c42fe": {
      "model_module": "@jupyter-widgets/controls",
      "model_module_version": "1.5.0",
      "model_name": "HTMLModel",
      "state": {
       "layout": "IPY_MODEL_5ecdd2e48dca496c8f9d2ea85d5e728f",
       "style": "IPY_MODEL_e53a6d58860a4cfc9c03028ad19307d8",
       "value": "<table border=\"1\" class=\"dataframe table table-striped table-hover table-condensed table-responsive\">\n  <thead>\n    <tr style=\"text-align: right;\">\n      <th></th>\n      <th>40</th>\n    </tr>\n  </thead>\n  <tbody>\n    <tr>\n      <th>Institution</th>\n      <td>Ocean Observatories Initiative (OOI)</td>\n    </tr>\n    <tr>\n      <th>Dataset ID</th>\n      <td>ooi-ce06issm-sbd17-06-ctdbpc000</td>\n    </tr>\n  </tbody>\n</table>"
      }
     },
     "3c320d345bc34a0ea9037322dfbda3c4": {
      "model_module": "@jupyter-widgets/controls",
      "model_module_version": "1.5.0",
      "model_name": "HTMLModel",
      "state": {
       "layout": "IPY_MODEL_ef394cbfe731479596be966d09041484",
       "style": "IPY_MODEL_c0204c2f36d2423aa4e1405fc8628057",
       "value": "<table border=\"1\" class=\"dataframe table table-striped table-hover table-condensed table-responsive\">\n  <thead>\n    <tr style=\"text-align: right;\">\n      <th></th>\n      <th>5</th>\n    </tr>\n  </thead>\n  <tbody>\n    <tr>\n      <th>Institution</th>\n      <td>Ocean Observatories Initiative (OOI)</td>\n    </tr>\n    <tr>\n      <th>Dataset ID</th>\n      <td>ooi-ce01issm-mfd37-03-ctdbpc000</td>\n    </tr>\n  </tbody>\n</table>"
      }
     },
     "3c57c1e1422149e995af85fd85237b44": {
      "model_module": "@jupyter-widgets/controls",
      "model_module_version": "1.5.0",
      "model_name": "HTMLModel",
      "state": {
       "layout": "IPY_MODEL_b1fdab086ce44192ae12160d155987eb",
       "style": "IPY_MODEL_9751b8a6d848425f866101c59d9f2797",
       "value": "<table border=\"1\" class=\"dataframe table table-striped table-hover table-condensed table-responsive\">\n  <thead>\n    <tr style=\"text-align: right;\">\n      <th></th>\n      <th>43</th>\n    </tr>\n  </thead>\n  <tbody>\n    <tr>\n      <th>Institution</th>\n      <td>Ocean Observatories Initiative (OOI)</td>\n    </tr>\n    <tr>\n      <th>Dataset ID</th>\n      <td>ooi-ce09ossm-rid27-04-dostad000</td>\n    </tr>\n  </tbody>\n</table>"
      }
     },
     "3c64fb00b368440b95909b3f888f6a24": {
      "model_module": "@jupyter-widgets/controls",
      "model_module_version": "1.5.0",
      "model_name": "DescriptionStyleModel",
      "state": {
       "description_width": ""
      }
     },
     "3c90c941de504169bd569d132a63b1e9": {
      "model_module": "@jupyter-widgets/base",
      "model_module_version": "1.2.0",
      "model_name": "LayoutModel",
      "state": {}
     },
     "3cb12115b65f40acbaa1406d9d4a7f6f": {
      "model_module": "jupyter-leaflet",
      "model_module_version": "^0.14.0",
      "model_name": "LeafletAwesomeIconModel",
      "state": {
       "_model_module_version": "^0.14.0",
       "_view_module_version": "^0.14.0",
       "icon_color": "white",
       "marker_color": "orange",
       "name": "life-ring"
      }
     },
     "3d0bb074b5ca46c4a3c76a027f527841": {
      "model_module": "@jupyter-widgets/base",
      "model_module_version": "1.2.0",
      "model_name": "LayoutModel",
      "state": {}
     },
     "3d0ee6bb659a4a1f9312d080e0a99a06": {
      "model_module": "@jupyter-widgets/base",
      "model_module_version": "1.2.0",
      "model_name": "LayoutModel",
      "state": {}
     },
     "3d1418c2eb73452ca6dba9b7588f3edd": {
      "model_module": "jupyter-leaflet",
      "model_module_version": "^0.14.0",
      "model_name": "LeafletMarkerModel",
      "state": {
       "_model_module_version": "^0.14.0",
       "_view_module_version": "^0.14.0",
       "icon": "IPY_MODEL_151670f7e44c4c77b722598fbd072e6e",
       "location": [
        46.98648,
        -124.56923
       ],
       "options": [
        "alt",
        "draggable",
        "keyboard",
        "rise_offset",
        "rise_on_hover",
        "rotation_angle",
        "rotation_origin",
        "title",
        "z_index_offset"
       ],
       "popup": "IPY_MODEL_5043e9fbbb9045d4bdba1c591a7f61d2"
      }
     },
     "3d3dbf0031034d8db384dd69ddca9875": {
      "model_module": "jupyter-leaflet",
      "model_module_version": "^0.14.0",
      "model_name": "LeafletRectangleModel",
      "state": {
       "_model_module_version": "^0.14.0",
       "_view_module_version": "^0.14.0",
       "bounds": [
        [
         43,
         -127
        ],
        [
         48,
         -123.75
        ]
       ],
       "color": "red",
       "draggable": false,
       "fill": false,
       "options": [
        "color",
        "dash_array",
        "draggable",
        "fill",
        "fill_color",
        "fill_opacity",
        "line_cap",
        "line_join",
        "no_clip",
        "opacity",
        "pointer_events",
        "smooth_factor",
        "stroke",
        "transform",
        "weight"
       ],
       "rotation": true,
       "scaling": true,
       "transform": false,
       "uniform_scaling": false
      }
     },
     "3d978b54342d493dab18db2d5452317a": {
      "model_module": "@jupyter-widgets/controls",
      "model_module_version": "1.5.0",
      "model_name": "HTMLModel",
      "state": {
       "layout": "IPY_MODEL_cd2613824efa49bbb180f96c1786a698",
       "style": "IPY_MODEL_a85b6ecc4c5245648e562ec5290ea80e",
       "value": "<table border=\"1\" class=\"dataframe table table-striped table-hover table-condensed table-responsive\">\n  <thead>\n    <tr style=\"text-align: right;\">\n      <th></th>\n      <th>73</th>\n    </tr>\n  </thead>\n  <tbody>\n    <tr>\n      <th>Institution</th>\n      <td>NOAA Pacific Marine Environmental Lab (PMEL)</td>\n    </tr>\n    <tr>\n      <th>Dataset ID</th>\n      <td>coos-bay-historic-co2</td>\n    </tr>\n  </tbody>\n</table>"
      }
     },
     "3de4b17fc669477097afaa56d99bf65b": {
      "model_module": "@jupyter-widgets/controls",
      "model_module_version": "1.5.0",
      "model_name": "HTMLModel",
      "state": {
       "layout": "IPY_MODEL_e139c2016f984d669093dd7679e9ea00",
       "style": "IPY_MODEL_1aa8b594736b41c1ba29a96aa1a029aa",
       "value": "<table border=\"1\" class=\"dataframe table table-striped table-hover table-condensed table-responsive\">\n  <thead>\n    <tr style=\"text-align: right;\">\n      <th></th>\n      <th>31</th>\n    </tr>\n  </thead>\n  <tbody>\n    <tr>\n      <th>Institution</th>\n      <td>Ocean Observatories Initiative (OOI)</td>\n    </tr>\n    <tr>\n      <th>Dataset ID</th>\n      <td>ooi-ce06issm-rid16-02-flortd000</td>\n    </tr>\n  </tbody>\n</table>"
      }
     },
     "3e0ca1075ffb4663a38120c9da5962c4": {
      "model_module": "jupyter-leaflet",
      "model_module_version": "^0.14.0",
      "model_name": "LeafletMarkerModel",
      "state": {
       "_model_module_version": "^0.14.0",
       "_view_module_version": "^0.14.0",
       "icon": "IPY_MODEL_41f7dc5dafcc484eb3e509a16e767719",
       "location": [
        47.9646517535081,
        -124.953552246094
       ],
       "options": [
        "alt",
        "draggable",
        "keyboard",
        "rise_offset",
        "rise_on_hover",
        "rotation_angle",
        "rotation_origin",
        "title",
        "z_index_offset"
       ],
       "popup": "IPY_MODEL_4f2c77d64248445ba728eddf087d630f"
      }
     },
     "3e2752b024c44b2dbd91b35e39fb2ec6": {
      "model_module": "jupyter-leaflet",
      "model_module_version": "^0.14.0",
      "model_name": "LeafletAwesomeIconModel",
      "state": {
       "_model_module_version": "^0.14.0",
       "_view_module_version": "^0.14.0",
       "icon_color": "white",
       "name": "life-ring"
      }
     },
     "3e380d02376c4326902628d679699ac5": {
      "model_module": "jupyter-leaflet",
      "model_module_version": "^0.14.0",
      "model_name": "LeafletMarkerModel",
      "state": {
       "_model_module_version": "^0.14.0",
       "_view_module_version": "^0.14.0",
       "icon": "IPY_MODEL_47d54e2bf44445ad8473ddc1f40f02f9",
       "location": [
        46.85367,
        -124.95935
       ],
       "options": [
        "alt",
        "draggable",
        "keyboard",
        "rise_offset",
        "rise_on_hover",
        "rotation_angle",
        "rotation_origin",
        "title",
        "z_index_offset"
       ],
       "popup": "IPY_MODEL_ffd22d2aa36d476fa9fbd008fceece43"
      }
     },
     "3e3d1ec43f4b4c9eb0e4a96edabe75ce": {
      "model_module": "@jupyter-widgets/base",
      "model_module_version": "1.2.0",
      "model_name": "LayoutModel",
      "state": {}
     },
     "3e538c47e67e447db95b09bb3b70c468": {
      "model_module": "@jupyter-widgets/base",
      "model_module_version": "1.2.0",
      "model_name": "LayoutModel",
      "state": {}
     },
     "3ef64326d24a4a38b67682019d2937b0": {
      "model_module": "jupyter-leaflet",
      "model_module_version": "^0.14.0",
      "model_name": "LeafletAwesomeIconModel",
      "state": {
       "_model_module_version": "^0.14.0",
       "_view_module_version": "^0.14.0",
       "icon_color": "white",
       "marker_color": "orange",
       "name": "life-ring"
      }
     },
     "3f274ce2900f4a36be5e7a55e718ec3e": {
      "model_module": "@jupyter-widgets/base",
      "model_module_version": "1.2.0",
      "model_name": "LayoutModel",
      "state": {}
     },
     "3f2cc1a8dcd14b368f87c4641bf3a556": {
      "model_module": "@jupyter-widgets/controls",
      "model_module_version": "1.5.0",
      "model_name": "DescriptionStyleModel",
      "state": {
       "description_width": ""
      }
     },
     "3fd6b8ed41034455a223ecfb793316aa": {
      "model_module": "jupyter-leaflet",
      "model_module_version": "^0.14.0",
      "model_name": "LeafletMarkerModel",
      "state": {
       "_model_module_version": "^0.14.0",
       "_view_module_version": "^0.14.0",
       "icon": "IPY_MODEL_001289016d6241d7a9efc72bf768cc70",
       "location": [
        46.86503,
        -124.94828
       ],
       "options": [
        "alt",
        "draggable",
        "keyboard",
        "rise_offset",
        "rise_on_hover",
        "rotation_angle",
        "rotation_origin",
        "title",
        "z_index_offset"
       ],
       "popup": "IPY_MODEL_e17f875765b54ce7a9cd715cb55b9f8b"
      }
     },
     "3fdc53b403e84d76b7ebc5337a667a81": {
      "model_module": "@jupyter-widgets/controls",
      "model_module_version": "1.5.0",
      "model_name": "HTMLModel",
      "state": {
       "layout": "IPY_MODEL_b39c97bc62284deeb6722678549f7b25",
       "style": "IPY_MODEL_39a2dc814a204fac8c9f1ee04e6b8375",
       "value": "<table border=\"1\" class=\"dataframe table table-striped table-hover table-condensed table-responsive\">\n  <thead>\n    <tr style=\"text-align: right;\">\n      <th></th>\n      <th>62</th>\n    </tr>\n  </thead>\n  <tbody>\n    <tr>\n      <th>Institution</th>\n      <td>Ocean Observatories Initiative (OOI)</td>\n    </tr>\n    <tr>\n      <th>Dataset ID</th>\n      <td>ooi-rs01sbps-pc01a-4b-phsena102</td>\n    </tr>\n  </tbody>\n</table>"
      }
     },
     "400a3687e7c444919b415274d49ca7fd": {
      "model_module": "@jupyter-widgets/base",
      "model_module_version": "1.2.0",
      "model_name": "LayoutModel",
      "state": {}
     },
     "4039499a3f40404b868024dd5857caf6": {
      "model_module": "jupyter-leaflet",
      "model_module_version": "^0.14.0",
      "model_name": "LeafletMarkerModel",
      "state": {
       "_model_module_version": "^0.14.0",
       "_view_module_version": "^0.14.0",
       "icon": "IPY_MODEL_91808b5319c84b1aa04db380ff6ea2c7",
       "location": [
        46.204,
        -123.759
       ],
       "options": [
        "alt",
        "draggable",
        "keyboard",
        "rise_offset",
        "rise_on_hover",
        "rotation_angle",
        "rotation_origin",
        "title",
        "z_index_offset"
       ],
       "popup": "IPY_MODEL_b6932a49f5574e04b6b9b9c3359c9a5e"
      }
     },
     "40a5f409985c470a81566b83aedd582d": {
      "model_module": "@jupyter-widgets/controls",
      "model_module_version": "1.5.0",
      "model_name": "HTMLModel",
      "state": {
       "layout": "IPY_MODEL_a8544e0d00cf4f5ea37ffbf5740d31d5",
       "style": "IPY_MODEL_b72697836e954c808e5370cb2a64a229",
       "value": "<table border=\"1\" class=\"dataframe table table-striped table-hover table-condensed table-responsive\">\n  <thead>\n    <tr style=\"text-align: right;\">\n      <th></th>\n      <th>19</th>\n    </tr>\n  </thead>\n  <tbody>\n    <tr>\n      <th>Institution</th>\n      <td>Ocean Observatories Initiative (OOI)</td>\n    </tr>\n    <tr>\n      <th>Dataset ID</th>\n      <td>ooi-ce04ossm-rid26-06-phsend000</td>\n    </tr>\n  </tbody>\n</table>"
      }
     },
     "40f1ed53b3394e56a5dedbf7fcfb0b2e": {
      "model_module": "@jupyter-widgets/controls",
      "model_module_version": "1.5.0",
      "model_name": "HTMLModel",
      "state": {
       "layout": "IPY_MODEL_33e2ad9f77b0437b96a6e44ba4c12103",
       "style": "IPY_MODEL_a56ee654c50f4df3a10865dea4240aee",
       "value": "<table border=\"1\" class=\"dataframe table table-striped table-hover table-condensed table-responsive\">\n  <thead>\n    <tr style=\"text-align: right;\">\n      <th></th>\n      <th>64</th>\n    </tr>\n  </thead>\n  <tbody>\n    <tr>\n      <th>Institution</th>\n      <td>Observing System Monitoring Center (OSMC)</td>\n    </tr>\n    <tr>\n      <th>Dataset ID</th>\n      <td>osmc_46097</td>\n    </tr>\n  </tbody>\n</table>"
      }
     },
     "41055f714f844755ad9fe699896dc030": {
      "model_module": "jupyter-leaflet",
      "model_module_version": "^0.14.0",
      "model_name": "LeafletMarkerModel",
      "state": {
       "_model_module_version": "^0.14.0",
       "_view_module_version": "^0.14.0",
       "icon": "IPY_MODEL_a6957a7a582a4caf98960cc19ec073a8",
       "location": [
        45.5544,
        -123.9189
       ],
       "options": [
        "alt",
        "draggable",
        "keyboard",
        "rise_offset",
        "rise_on_hover",
        "rotation_angle",
        "rotation_origin",
        "title",
        "z_index_offset"
       ],
       "popup": "IPY_MODEL_4d44bcf2831449b4ab14498a9d3aa5dc"
      }
     },
     "4105742901c54b9dbb20542360bdc903": {
      "model_module": "@jupyter-widgets/controls",
      "model_module_version": "1.5.0",
      "model_name": "DescriptionStyleModel",
      "state": {
       "description_width": ""
      }
     },
     "411945d2d59549909a5a5685686ad511": {
      "model_module": "jupyter-leaflet",
      "model_module_version": "^0.14.0",
      "model_name": "LeafletMarkerModel",
      "state": {
       "_model_module_version": "^0.14.0",
       "_view_module_version": "^0.14.0",
       "icon": "IPY_MODEL_e91a100b90e44f2cb217f9f1bef03cfb",
       "location": [
        47.1345,
        -124.27087
       ],
       "options": [
        "alt",
        "draggable",
        "keyboard",
        "rise_offset",
        "rise_on_hover",
        "rotation_angle",
        "rotation_origin",
        "title",
        "z_index_offset"
       ],
       "popup": "IPY_MODEL_2f8dce15ec0a4db19da35c49f853d6a9"
      }
     },
     "41689ae56527440aa96c84eeb7400946": {
      "model_module": "@jupyter-widgets/base",
      "model_module_version": "1.2.0",
      "model_name": "LayoutModel",
      "state": {}
     },
     "41f7dc5dafcc484eb3e509a16e767719": {
      "model_module": "jupyter-leaflet",
      "model_module_version": "^0.14.0",
      "model_name": "LeafletAwesomeIconModel",
      "state": {
       "_model_module_version": "^0.14.0",
       "_view_module_version": "^0.14.0",
       "icon_color": "white",
       "name": "life-ring"
      }
     },
     "424da176a47d4abfb95bcb78bbaecbb7": {
      "model_module": "jupyter-leaflet",
      "model_module_version": "^0.14.0",
      "model_name": "LeafletAwesomeIconModel",
      "state": {
       "_model_module_version": "^0.14.0",
       "_view_module_version": "^0.14.0",
       "icon_color": "white",
       "marker_color": "orange",
       "name": "life-ring"
      }
     },
     "42c171052dba47379cfb83a256c45ae9": {
      "model_module": "jupyter-leaflet",
      "model_module_version": "^0.14.0",
      "model_name": "LeafletAwesomeIconModel",
      "state": {
       "_model_module_version": "^0.14.0",
       "_view_module_version": "^0.14.0",
       "icon_color": "white",
       "name": "life-ring"
      }
     },
     "4301573475e1468785afe241c6af4306": {
      "model_module": "@jupyter-widgets/base",
      "model_module_version": "1.2.0",
      "model_name": "LayoutModel",
      "state": {}
     },
     "434210d8d9df4d8c9f821c1f5c88f219": {
      "model_module": "@jupyter-widgets/controls",
      "model_module_version": "1.5.0",
      "model_name": "DescriptionStyleModel",
      "state": {
       "description_width": ""
      }
     },
     "437a0d2d1ab04e2b8b5124fd4c7cb427": {
      "model_module": "jupyter-leaflet",
      "model_module_version": "^0.14.0",
      "model_name": "LeafletMarkerModel",
      "state": {
       "_model_module_version": "^0.14.0",
       "_view_module_version": "^0.14.0",
       "icon": "IPY_MODEL_c9991b3850de4f809106db77293b6be2",
       "location": [
        44.65678,
        -124.09707
       ],
       "options": [
        "alt",
        "draggable",
        "keyboard",
        "rise_offset",
        "rise_on_hover",
        "rotation_angle",
        "rotation_origin",
        "title",
        "z_index_offset"
       ],
       "popup": "IPY_MODEL_b102d70d0e7b4265bcc44a4ca45e6be4"
      }
     },
     "43c737675c584b92a5caa60232cb8e86": {
      "model_module": "jupyter-leaflet",
      "model_module_version": "^0.14.0",
      "model_name": "LeafletAwesomeIconModel",
      "state": {
       "_model_module_version": "^0.14.0",
       "_view_module_version": "^0.14.0",
       "icon_color": "white",
       "name": "life-ring"
      }
     },
     "446e109e01514dbb87623f7638f3df6e": {
      "model_module": "jupyter-leaflet",
      "model_module_version": "^0.14.0",
      "model_name": "LeafletAwesomeIconModel",
      "state": {
       "_model_module_version": "^0.14.0",
       "_view_module_version": "^0.14.0",
       "icon_color": "white",
       "marker_color": "orange",
       "name": "life-ring"
      }
     },
     "44764f26476f41769f50d3244a947381": {
      "model_module": "@jupyter-widgets/controls",
      "model_module_version": "1.5.0",
      "model_name": "DescriptionStyleModel",
      "state": {
       "description_width": ""
      }
     },
     "449ec08c3e1d4492a01d6b669ea910fc": {
      "model_module": "@jupyter-widgets/controls",
      "model_module_version": "1.5.0",
      "model_name": "HTMLModel",
      "state": {
       "layout": "IPY_MODEL_27338e2ed9d24bbebc917a3de874f56b",
       "style": "IPY_MODEL_dcfa7173384741ff9c245198444a1603",
       "value": "<table border=\"1\" class=\"dataframe table table-striped table-hover table-condensed table-responsive\">\n  <thead>\n    <tr style=\"text-align: right;\">\n      <th></th>\n      <th>32</th>\n    </tr>\n  </thead>\n  <tbody>\n    <tr>\n      <th>Institution</th>\n      <td>Ocean Observatories Initiative (OOI)</td>\n    </tr>\n    <tr>\n      <th>Dataset ID</th>\n      <td>ooi-ce06issm-rid16-03-ctdbpc000</td>\n    </tr>\n  </tbody>\n</table>"
      }
     },
     "4508b01845574de3936c1525860ae35f": {
      "model_module": "jupyter-leaflet",
      "model_module_version": "^0.14.0",
      "model_name": "LeafletMarkerModel",
      "state": {
       "_model_module_version": "^0.14.0",
       "_view_module_version": "^0.14.0",
       "icon": "IPY_MODEL_85771390d1a6457a9fec8adc224052ca",
       "location": [
        44.65678,
        -124.09707
       ],
       "options": [
        "alt",
        "draggable",
        "keyboard",
        "rise_offset",
        "rise_on_hover",
        "rotation_angle",
        "rotation_origin",
        "title",
        "z_index_offset"
       ],
       "popup": "IPY_MODEL_67fa0be4765c4fa2b8e9eedb0134591f"
      }
     },
     "4522eb088f314feaa42720abeb900a0d": {
      "model_module": "@jupyter-widgets/controls",
      "model_module_version": "1.5.0",
      "model_name": "DescriptionStyleModel",
      "state": {
       "description_width": ""
      }
     },
     "45471fec74f9412186372f300bbde4a0": {
      "model_module": "@jupyter-widgets/controls",
      "model_module_version": "1.5.0",
      "model_name": "DescriptionStyleModel",
      "state": {
       "description_width": ""
      }
     },
     "45f931aac7ff49fdbb9daff0b7adda34": {
      "model_module": "@jupyter-widgets/controls",
      "model_module_version": "1.5.0",
      "model_name": "HTMLModel",
      "state": {
       "layout": "IPY_MODEL_8343f2ac058c41d2978cd1f808089b3f",
       "style": "IPY_MODEL_898b9f55ad074829b3f7fee4d67da81a",
       "value": "<table border=\"1\" class=\"dataframe table table-striped table-hover table-condensed table-responsive\">\n  <thead>\n    <tr style=\"text-align: right;\">\n      <th></th>\n      <th>58</th>\n    </tr>\n  </thead>\n  <tbody>\n    <tr>\n      <th>Institution</th>\n      <td>Ocean Observatories Initiative (OOI)</td>\n    </tr>\n    <tr>\n      <th>Dataset ID</th>\n      <td>ooi-ce07shsm-sbd11-06-metbka000</td>\n    </tr>\n  </tbody>\n</table>"
      }
     },
     "463d510eb102494bb0ad02697f14c414": {
      "model_module": "@jupyter-widgets/controls",
      "model_module_version": "1.5.0",
      "model_name": "HTMLModel",
      "state": {
       "layout": "IPY_MODEL_aa5f2cd1bfe94995970d957ddb4d18e2",
       "style": "IPY_MODEL_80459d08898a4d01baa6014d364f7810",
       "value": "<table border=\"1\" class=\"dataframe table table-striped table-hover table-condensed table-responsive\">\n  <thead>\n    <tr style=\"text-align: right;\">\n      <th></th>\n      <th>32</th>\n    </tr>\n  </thead>\n  <tbody>\n    <tr>\n      <th>Institution</th>\n      <td>Ocean Observatories Initiative (OOI)</td>\n    </tr>\n    <tr>\n      <th>Dataset ID</th>\n      <td>ooi-ce06issm-rid16-03-ctdbpc000</td>\n    </tr>\n  </tbody>\n</table>"
      }
     },
     "46b0b24f232b4c5ba6cb1c78d36ae75a": {
      "model_module": "@jupyter-widgets/controls",
      "model_module_version": "1.5.0",
      "model_name": "HTMLModel",
      "state": {
       "layout": "IPY_MODEL_888a007d2984436d96374163434439c8",
       "style": "IPY_MODEL_3a8207b6f5bb450c92c1a99b1e767684",
       "value": "<table border=\"1\" class=\"dataframe table table-striped table-hover table-condensed table-responsive\">\n  <thead>\n    <tr style=\"text-align: right;\">\n      <th></th>\n      <th>3</th>\n    </tr>\n  </thead>\n  <tbody>\n    <tr>\n      <th>Institution</th>\n      <td>Ocean Observatories Initiative (OOI)</td>\n    </tr>\n    <tr>\n      <th>Dataset ID</th>\n      <td>ooi-ce01issm-rid16-07-nutnrb000</td>\n    </tr>\n  </tbody>\n</table>"
      }
     },
     "4708c768ec54437cad9e4e13613a52a8": {
      "model_module": "jupyter-leaflet",
      "model_module_version": "^0.14.0",
      "model_name": "LeafletAwesomeIconModel",
      "state": {
       "_model_module_version": "^0.14.0",
       "_view_module_version": "^0.14.0",
       "icon_color": "white",
       "name": "life-ring"
      }
     },
     "4713f15855f449f284f184cb36eed50b": {
      "model_module": "jupyter-leaflet",
      "model_module_version": "^0.14.0",
      "model_name": "LeafletAwesomeIconModel",
      "state": {
       "_model_module_version": "^0.14.0",
       "_view_module_version": "^0.14.0",
       "icon_color": "white",
       "marker_color": "orange",
       "name": "life-ring"
      }
     },
     "47432a07087b4472be403f2abee73744": {
      "model_module": "@jupyter-widgets/controls",
      "model_module_version": "1.5.0",
      "model_name": "DescriptionStyleModel",
      "state": {
       "description_width": ""
      }
     },
     "4787b5d0b8774c19aab9aaf429e59f5e": {
      "model_module": "jupyter-leaflet",
      "model_module_version": "^0.14.0",
      "model_name": "LeafletMarkerModel",
      "state": {
       "_model_module_version": "^0.14.0",
       "_view_module_version": "^0.14.0",
       "icon": "IPY_MODEL_97576398babb4c4f929c1a226195e145",
       "location": [
        44.3695,
        -124.95369
       ],
       "options": [
        "alt",
        "draggable",
        "keyboard",
        "rise_offset",
        "rise_on_hover",
        "rotation_angle",
        "rotation_origin",
        "title",
        "z_index_offset"
       ],
       "popup": "IPY_MODEL_0c5b39b821b047fdaa2e4598ee7a2e36"
      }
     },
     "47d54e2bf44445ad8473ddc1f40f02f9": {
      "model_module": "jupyter-leaflet",
      "model_module_version": "^0.14.0",
      "model_name": "LeafletAwesomeIconModel",
      "state": {
       "_model_module_version": "^0.14.0",
       "_view_module_version": "^0.14.0",
       "icon_color": "white",
       "marker_color": "orange",
       "name": "life-ring"
      }
     },
     "47e389d8c25540439543dd971d758013": {
      "model_module": "@jupyter-widgets/controls",
      "model_module_version": "1.5.0",
      "model_name": "HTMLModel",
      "state": {
       "layout": "IPY_MODEL_8ce98a776fb045149a9e25b94f6073f1",
       "style": "IPY_MODEL_2722bcd271ba42d08d03f887f6073734",
       "value": "<table border=\"1\" class=\"dataframe table table-striped table-hover table-condensed table-responsive\">\n  <thead>\n    <tr style=\"text-align: right;\">\n      <th></th>\n      <th>7</th>\n    </tr>\n  </thead>\n  <tbody>\n    <tr>\n      <th>Institution</th>\n      <td>Ocean Observatories Initiative (OOI)</td>\n    </tr>\n    <tr>\n      <th>Dataset ID</th>\n      <td>ooi-ce01issm-mfd35-06-phsend000</td>\n    </tr>\n  </tbody>\n</table>"
      }
     },
     "47e8ac1a861a41e4aa519944afdbe069": {
      "model_module": "jupyter-leaflet",
      "model_module_version": "^0.14.0",
      "model_name": "LeafletAwesomeIconModel",
      "state": {
       "_model_module_version": "^0.14.0",
       "_view_module_version": "^0.14.0",
       "icon_color": "white",
       "marker_color": "orange",
       "name": "life-ring"
      }
     },
     "48076a922847433797f01cea89ab1a07": {
      "model_module": "jupyter-leaflet",
      "model_module_version": "^0.14.0",
      "model_name": "LeafletMarkerModel",
      "state": {
       "_model_module_version": "^0.14.0",
       "_view_module_version": "^0.14.0",
       "icon": "IPY_MODEL_68fdebaf5f684600ac8bb87dcd63d6af",
       "location": [
        47.1345,
        -124.27087
       ],
       "options": [
        "alt",
        "draggable",
        "keyboard",
        "rise_offset",
        "rise_on_hover",
        "rotation_angle",
        "rotation_origin",
        "title",
        "z_index_offset"
       ],
       "popup": "IPY_MODEL_9beab02526094f99b2f084cefddd0555"
      }
     },
     "4839d2f1834045b78fe5c5c2f5f81cd8": {
      "model_module": "jupyter-leaflet",
      "model_module_version": "^0.14.0",
      "model_name": "LeafletTileLayerModel",
      "state": {
       "_model_module_version": "^0.14.0",
       "_view_module_version": "^0.14.0",
       "base": true,
       "max_native_zoom": 18,
       "max_zoom": 19,
       "min_native_zoom": 0,
       "min_zoom": 1,
       "options": [
        "attribution",
        "detect_retina",
        "max_native_zoom",
        "max_zoom",
        "min_native_zoom",
        "min_zoom",
        "no_wrap",
        "tile_size",
        "tms"
       ]
      }
     },
     "4859fa8bfeeb427f87cccd632d6114d5": {
      "model_module": "jupyter-leaflet",
      "model_module_version": "^0.14.0",
      "model_name": "LeafletMarkerModel",
      "state": {
       "_model_module_version": "^0.14.0",
       "_view_module_version": "^0.14.0",
       "icon": "IPY_MODEL_73c85be61ee34a2aaae3b546dc743673",
       "location": [
        47.35,
        -124.73
       ],
       "options": [
        "alt",
        "draggable",
        "keyboard",
        "rise_offset",
        "rise_on_hover",
        "rotation_angle",
        "rotation_origin",
        "title",
        "z_index_offset"
       ],
       "popup": "IPY_MODEL_fc2a8476d257479e8123270d20970cf8"
      }
     },
     "48e29dc77f51491fb01fe374820040d9": {
      "model_module": "@jupyter-widgets/controls",
      "model_module_version": "1.5.0",
      "model_name": "HTMLModel",
      "state": {
       "layout": "IPY_MODEL_f9b0d951fd0b4886b8147d960982550a",
       "style": "IPY_MODEL_9cd2e3c2f8ee4f01b4be1270801166a2",
       "value": "<table border=\"1\" class=\"dataframe table table-striped table-hover table-condensed table-responsive\">\n  <thead>\n    <tr style=\"text-align: right;\">\n      <th></th>\n      <th>74</th>\n    </tr>\n  </thead>\n  <tbody>\n    <tr>\n      <th>Institution</th>\n      <td>NOAA Center for Operational Oceanographic Products and Services (CO-OPS)</td>\n    </tr>\n    <tr>\n      <th>Dataset ID</th>\n      <td>noaa_nos_co_ops_9437540</td>\n    </tr>\n  </tbody>\n</table>"
      }
     },
     "4916a824d24b4ad3a382aa402fdcd993": {
      "model_module": "@jupyter-widgets/base",
      "model_module_version": "1.2.0",
      "model_name": "LayoutModel",
      "state": {}
     },
     "494fcc5a8d8542a2bea483f416678fbf": {
      "model_module": "jupyter-leaflet",
      "model_module_version": "^0.14.0",
      "model_name": "LeafletMarkerModel",
      "state": {
       "_model_module_version": "^0.14.0",
       "_view_module_version": "^0.14.0",
       "icon": "IPY_MODEL_fb1a2d2e4c9442beb8e7a86d93ec221c",
       "location": [
        44.383335,
        -124.95
       ],
       "options": [
        "alt",
        "draggable",
        "keyboard",
        "rise_offset",
        "rise_on_hover",
        "rotation_angle",
        "rotation_origin",
        "title",
        "z_index_offset"
       ],
       "popup": "IPY_MODEL_74dea4953409403dbfad91f4764070a7"
      }
     },
     "4951d3f9c87142bcb21e7329ce67f157": {
      "model_module": "@jupyter-widgets/controls",
      "model_module_version": "1.5.0",
      "model_name": "DescriptionStyleModel",
      "state": {
       "description_width": ""
      }
     },
     "495b0805619a4b64a8a594356352f3fa": {
      "model_module": "jupyter-leaflet",
      "model_module_version": "^0.14.0",
      "model_name": "LeafletAwesomeIconModel",
      "state": {
       "_model_module_version": "^0.14.0",
       "_view_module_version": "^0.14.0",
       "icon_color": "white",
       "marker_color": "orange",
       "name": "life-ring"
      }
     },
     "49bffdf4ba5d4f16b3468f5405e70508": {
      "model_module": "@jupyter-widgets/base",
      "model_module_version": "1.2.0",
      "model_name": "LayoutModel",
      "state": {}
     },
     "49cdc158a2434ce687c602126a62be8f": {
      "model_module": "jupyter-leaflet",
      "model_module_version": "^0.14.0",
      "model_name": "LeafletMarkerModel",
      "state": {
       "_model_module_version": "^0.14.0",
       "_view_module_version": "^0.14.0",
       "icon": "IPY_MODEL_52d60a7bc1324e32a5b264c69108d76d",
       "location": [
        46.173,
        -124.127
       ],
       "options": [
        "alt",
        "draggable",
        "keyboard",
        "rise_offset",
        "rise_on_hover",
        "rotation_angle",
        "rotation_origin",
        "title",
        "z_index_offset"
       ],
       "popup": "IPY_MODEL_60e0b449c9734f51bcaaf9f7fd462818"
      }
     },
     "49f1e67ba4f24b1eaab8bb163a399af6": {
      "model_module": "jupyter-leaflet",
      "model_module_version": "^0.14.0",
      "model_name": "LeafletAwesomeIconModel",
      "state": {
       "_model_module_version": "^0.14.0",
       "_view_module_version": "^0.14.0",
       "icon_color": "white",
       "marker_color": "orange",
       "name": "life-ring"
      }
     },
     "4a64c592449644a588f4ab53df35311b": {
      "model_module": "@jupyter-widgets/base",
      "model_module_version": "1.2.0",
      "model_name": "LayoutModel",
      "state": {}
     },
     "4ab088daef9649d4884c39489d694caf": {
      "model_module": "jupyter-leaflet",
      "model_module_version": "^0.14.0",
      "model_name": "LeafletAwesomeIconModel",
      "state": {
       "_model_module_version": "^0.14.0",
       "_view_module_version": "^0.14.0",
       "icon_color": "white",
       "marker_color": "orange",
       "name": "life-ring"
      }
     },
     "4ac76f209ade4589baad5c9626ee4ad0": {
      "model_module": "jupyter-leaflet",
      "model_module_version": "^0.14.0",
      "model_name": "LeafletMarkerModel",
      "state": {
       "_model_module_version": "^0.14.0",
       "_view_module_version": "^0.14.0",
       "icon": "IPY_MODEL_d971e92dddf546afaedf925f1fd4aaa1",
       "location": [
        44.37868,
        -124.94508
       ],
       "options": [
        "alt",
        "draggable",
        "keyboard",
        "rise_offset",
        "rise_on_hover",
        "rotation_angle",
        "rotation_origin",
        "title",
        "z_index_offset"
       ],
       "popup": "IPY_MODEL_50a8c3f69a7349528029a98eb5adbf38"
      }
     },
     "4b06e1f39038419e95f2a8d1e3b1f284": {
      "model_module": "@jupyter-widgets/controls",
      "model_module_version": "1.5.0",
      "model_name": "DescriptionStyleModel",
      "state": {
       "description_width": ""
      }
     },
     "4b26c8aa9cea4913a5ef97aa689919c0": {
      "model_module": "jupyter-leaflet",
      "model_module_version": "^0.14.0",
      "model_name": "LeafletAwesomeIconModel",
      "state": {
       "_model_module_version": "^0.14.0",
       "_view_module_version": "^0.14.0",
       "icon_color": "white",
       "marker_color": "orange",
       "name": "life-ring"
      }
     },
     "4bae186c0c8a469ca8d0723facc8e7be": {
      "model_module": "@jupyter-widgets/controls",
      "model_module_version": "1.5.0",
      "model_name": "DescriptionStyleModel",
      "state": {
       "description_width": ""
      }
     },
     "4bed049a98734b3c83d1fcc28efa4b30": {
      "model_module": "@jupyter-widgets/controls",
      "model_module_version": "1.5.0",
      "model_name": "HTMLModel",
      "state": {
       "layout": "IPY_MODEL_ae6d0d4273964b5e898b0363683302f8",
       "style": "IPY_MODEL_3568c84b370347f0bf86adf71d747b73",
       "value": "<table border=\"1\" class=\"dataframe table table-striped table-hover table-condensed table-responsive\">\n  <thead>\n    <tr style=\"text-align: right;\">\n      <th></th>\n      <th>51</th>\n    </tr>\n  </thead>\n  <tbody>\n    <tr>\n      <th>Institution</th>\n      <td>Ocean Observatories Initiative (OOI)</td>\n    </tr>\n    <tr>\n      <th>Dataset ID</th>\n      <td>ooi-ce07shsm-rid27-03-ctdbpc000</td>\n    </tr>\n  </tbody>\n</table>"
      }
     },
     "4c2e89a623fc4f79b5be0c6fbf07087c": {
      "model_module": "jupyter-leaflet",
      "model_module_version": "^0.14.0",
      "model_name": "LeafletMarkerModel",
      "state": {
       "_model_module_version": "^0.14.0",
       "_view_module_version": "^0.14.0",
       "icon": "IPY_MODEL_4fb1d047161844efa10cc6755b3a4f31",
       "location": [
        44.37868,
        -124.94508
       ],
       "options": [
        "alt",
        "draggable",
        "keyboard",
        "rise_offset",
        "rise_on_hover",
        "rotation_angle",
        "rotation_origin",
        "title",
        "z_index_offset"
       ],
       "popup": "IPY_MODEL_0899d75e645444169dbb1e9ab0186cbc"
      }
     },
     "4cc4ff1540dd444bae123ca0102b7d9f": {
      "model_module": "jupyter-leaflet",
      "model_module_version": "^0.14.0",
      "model_name": "LeafletMarkerModel",
      "state": {
       "_model_module_version": "^0.14.0",
       "_view_module_version": "^0.14.0",
       "icon": "IPY_MODEL_ef1b44641d5b4f799d884df771ac65a2",
       "location": [
        44.37415,
        -124.95648
       ],
       "options": [
        "alt",
        "draggable",
        "keyboard",
        "rise_offset",
        "rise_on_hover",
        "rotation_angle",
        "rotation_origin",
        "title",
        "z_index_offset"
       ],
       "popup": "IPY_MODEL_a19be71e83e141799225ba30acad9bb2"
      }
     },
     "4cf0a695f7934bf5afdeaaeda2fac5d7": {
      "model_module": "jupyter-leaflet",
      "model_module_version": "^0.14.0",
      "model_name": "LeafletMarkerModel",
      "state": {
       "_model_module_version": "^0.14.0",
       "_view_module_version": "^0.14.0",
       "icon": "IPY_MODEL_1b6d1fa2ac3b4b63841ca26d6fefeeff",
       "location": [
        46.98648,
        -124.56923
       ],
       "options": [
        "alt",
        "draggable",
        "keyboard",
        "rise_offset",
        "rise_on_hover",
        "rotation_angle",
        "rotation_origin",
        "title",
        "z_index_offset"
       ],
       "popup": "IPY_MODEL_a0941d2af8c7426ca34f798a16242dc5"
      }
     },
     "4d3449d5e6284ac9a4a7d315a37246f2": {
      "model_module": "jupyter-leaflet",
      "model_module_version": "^0.14.0",
      "model_name": "LeafletAwesomeIconModel",
      "state": {
       "_model_module_version": "^0.14.0",
       "_view_module_version": "^0.14.0",
       "icon_color": "white",
       "marker_color": "orange",
       "name": "life-ring"
      }
     },
     "4d44bcf2831449b4ab14498a9d3aa5dc": {
      "model_module": "@jupyter-widgets/controls",
      "model_module_version": "1.5.0",
      "model_name": "HTMLModel",
      "state": {
       "layout": "IPY_MODEL_6d1e98f8e19441d8bb1d5ca7dc5e6566",
       "style": "IPY_MODEL_75a2db0044cf455885366f7f07ec4cbf",
       "value": "<table border=\"1\" class=\"dataframe table table-striped table-hover table-condensed table-responsive\">\n  <thead>\n    <tr style=\"text-align: right;\">\n      <th></th>\n      <th>74</th>\n    </tr>\n  </thead>\n  <tbody>\n    <tr>\n      <th>Institution</th>\n      <td>NOAA Center for Operational Oceanographic Products and Services (CO-OPS)</td>\n    </tr>\n    <tr>\n      <th>Dataset ID</th>\n      <td>noaa_nos_co_ops_9437540</td>\n    </tr>\n  </tbody>\n</table>"
      }
     },
     "4d72529df2b74612bc34c2768bd0dc0b": {
      "model_module": "jupyter-leaflet",
      "model_module_version": "^0.14.0",
      "model_name": "LeafletAwesomeIconModel",
      "state": {
       "_model_module_version": "^0.14.0",
       "_view_module_version": "^0.14.0",
       "icon_color": "white",
       "marker_color": "orange",
       "name": "life-ring"
      }
     },
     "4d9f5066f7f54a32bf10f1ed9a2082ad": {
      "model_module": "jupyter-leaflet",
      "model_module_version": "^0.14.0",
      "model_name": "LeafletMarkerModel",
      "state": {
       "_model_module_version": "^0.14.0",
       "_view_module_version": "^0.14.0",
       "icon": "IPY_MODEL_a53e355db12c48548dbad57f47ed1377",
       "location": [
        44.51524,
        -125.38981
       ],
       "options": [
        "alt",
        "draggable",
        "keyboard",
        "rise_offset",
        "rise_on_hover",
        "rotation_angle",
        "rotation_origin",
        "title",
        "z_index_offset"
       ],
       "popup": "IPY_MODEL_1f971eb83b774ed4957b2358a4745879"
      }
     },
     "4e6985cc39834643a1bed646bf8ade32": {
      "model_module": "@jupyter-widgets/base",
      "model_module_version": "1.2.0",
      "model_name": "LayoutModel",
      "state": {}
     },
     "4ea3edfc6ee144e5bba11112ab0225e7": {
      "model_module": "@jupyter-widgets/controls",
      "model_module_version": "1.5.0",
      "model_name": "HTMLModel",
      "state": {
       "layout": "IPY_MODEL_d8605685768b4966801794f1fcc23ab5",
       "style": "IPY_MODEL_61521a8c556045f0a034cc32ba6ff037",
       "value": "<table border=\"1\" class=\"dataframe table table-striped table-hover table-condensed table-responsive\">\n  <thead>\n    <tr style=\"text-align: right;\">\n      <th></th>\n      <th>51</th>\n    </tr>\n  </thead>\n  <tbody>\n    <tr>\n      <th>Institution</th>\n      <td>Ocean Observatories Initiative (OOI)</td>\n    </tr>\n    <tr>\n      <th>Dataset ID</th>\n      <td>ooi-ce07shsm-rid27-03-ctdbpc000</td>\n    </tr>\n  </tbody>\n</table>"
      }
     },
     "4f2c77d64248445ba728eddf087d630f": {
      "model_module": "@jupyter-widgets/controls",
      "model_module_version": "1.5.0",
      "model_name": "HTMLModel",
      "state": {
       "layout": "IPY_MODEL_06eba3ae82c945c09b70ad788145614b",
       "style": "IPY_MODEL_90024615fcdf4c91bfc9ad160f96a803",
       "value": "<table border=\"1\" class=\"dataframe table table-striped table-hover table-condensed table-responsive\">\n  <thead>\n    <tr style=\"text-align: right;\">\n      <th></th>\n      <th>69</th>\n    </tr>\n  </thead>\n  <tbody>\n    <tr>\n      <th>Institution</th>\n      <td>Northwest Association of Networked Ocean Observing Systems (NANOOS)</td>\n    </tr>\n    <tr>\n      <th>Dataset ID</th>\n      <td>nanoos_apl_chaba</td>\n    </tr>\n  </tbody>\n</table>"
      }
     },
     "4fac66f994b943d0aa18540126b7c56e": {
      "model_module": "jupyter-leaflet",
      "model_module_version": "^0.14.0",
      "model_name": "LeafletMarkerModel",
      "state": {
       "_model_module_version": "^0.14.0",
       "_view_module_version": "^0.14.0",
       "icon": "IPY_MODEL_32d5cfcca256487280f98c640adfcf6f",
       "location": [
        44.63577,
        -124.3035
       ],
       "options": [
        "alt",
        "draggable",
        "keyboard",
        "rise_offset",
        "rise_on_hover",
        "rotation_angle",
        "rotation_origin",
        "title",
        "z_index_offset"
       ],
       "popup": "IPY_MODEL_663b1f4b17834ed283357b0fb84691a8"
      }
     },
     "4fb1d047161844efa10cc6755b3a4f31": {
      "model_module": "jupyter-leaflet",
      "model_module_version": "^0.14.0",
      "model_name": "LeafletAwesomeIconModel",
      "state": {
       "_model_module_version": "^0.14.0",
       "_view_module_version": "^0.14.0",
       "icon_color": "white",
       "marker_color": "orange",
       "name": "life-ring"
      }
     },
     "4fd06cac938e45c98ff5e52a37d40288": {
      "model_module": "@jupyter-widgets/controls",
      "model_module_version": "1.5.0",
      "model_name": "DescriptionStyleModel",
      "state": {
       "description_width": ""
      }
     },
     "4fd07458e7dc4636b38e1d47a3de980c": {
      "model_module": "jupyter-leaflet",
      "model_module_version": "^0.14.0",
      "model_name": "LeafletMarkerModel",
      "state": {
       "_model_module_version": "^0.14.0",
       "_view_module_version": "^0.14.0",
       "icon": "IPY_MODEL_0be727739dba49079ab7a21aab343b21",
       "location": [
        44.63577,
        -124.3035
       ],
       "options": [
        "alt",
        "draggable",
        "keyboard",
        "rise_offset",
        "rise_on_hover",
        "rotation_angle",
        "rotation_origin",
        "title",
        "z_index_offset"
       ],
       "popup": "IPY_MODEL_a176a0a455e74315af8bb7b7e5a62e4e"
      }
     },
     "4fee25c0bfd84085a47b4ae49b8c13f9": {
      "model_module": "jupyter-leaflet",
      "model_module_version": "^0.14.0",
      "model_name": "LeafletAwesomeIconModel",
      "state": {
       "_model_module_version": "^0.14.0",
       "_view_module_version": "^0.14.0",
       "icon_color": "white",
       "marker_color": "orange",
       "name": "life-ring"
      }
     },
     "5043e9fbbb9045d4bdba1c591a7f61d2": {
      "model_module": "@jupyter-widgets/controls",
      "model_module_version": "1.5.0",
      "model_name": "HTMLModel",
      "state": {
       "layout": "IPY_MODEL_14915dad1df542c986ef74df6fe84801",
       "style": "IPY_MODEL_6c2bd09b4de4488f9f555fecd4cf86c7",
       "value": "<table border=\"1\" class=\"dataframe table table-striped table-hover table-condensed table-responsive\">\n  <thead>\n    <tr style=\"text-align: right;\">\n      <th></th>\n      <th>56</th>\n    </tr>\n  </thead>\n  <tbody>\n    <tr>\n      <th>Institution</th>\n      <td>Ocean Observatories Initiative (OOI)</td>\n    </tr>\n    <tr>\n      <th>Dataset ID</th>\n      <td>ooi-ce07shsm-mfd37-03-dostad000</td>\n    </tr>\n  </tbody>\n</table>"
      }
     },
     "509f087a98764da89c687786087da4e0": {
      "model_module": "@jupyter-widgets/controls",
      "model_module_version": "1.5.0",
      "model_name": "DescriptionStyleModel",
      "state": {
       "description_width": ""
      }
     },
     "50a8c3f69a7349528029a98eb5adbf38": {
      "model_module": "@jupyter-widgets/controls",
      "model_module_version": "1.5.0",
      "model_name": "HTMLModel",
      "state": {
       "layout": "IPY_MODEL_b48434e5fb514bd1914f30269cd9e254",
       "style": "IPY_MODEL_71bbeb87d8a64b47903168ef6121474b",
       "value": "<table border=\"1\" class=\"dataframe table table-striped table-hover table-condensed table-responsive\">\n  <thead>\n    <tr style=\"text-align: right;\">\n      <th></th>\n      <th>17</th>\n    </tr>\n  </thead>\n  <tbody>\n    <tr>\n      <th>Institution</th>\n      <td>Ocean Observatories Initiative (OOI)</td>\n    </tr>\n    <tr>\n      <th>Dataset ID</th>\n      <td>ooi-ce04ossm-rid27-04-dostad000</td>\n    </tr>\n  </tbody>\n</table>"
      }
     },
     "50bf5ca7a23a4e9581996d325fefd1cc": {
      "model_module": "@jupyter-widgets/base",
      "model_module_version": "1.2.0",
      "model_name": "LayoutModel",
      "state": {}
     },
     "5129848115ca46039c84fc4d10cfd628": {
      "model_module": "@jupyter-widgets/base",
      "model_module_version": "1.2.0",
      "model_name": "LayoutModel",
      "state": {}
     },
     "514c39291dbf4967a05fcae5a2944f73": {
      "model_module": "jupyter-leaflet",
      "model_module_version": "^0.14.0",
      "model_name": "LeafletMarkerModel",
      "state": {
       "_model_module_version": "^0.14.0",
       "_view_module_version": "^0.14.0",
       "icon": "IPY_MODEL_7c4051ab0af243f1ad62bd43694e8741",
       "location": [
        47.1345,
        -124.27087
       ],
       "options": [
        "alt",
        "draggable",
        "keyboard",
        "rise_offset",
        "rise_on_hover",
        "rotation_angle",
        "rotation_origin",
        "title",
        "z_index_offset"
       ],
       "popup": "IPY_MODEL_04e037a9c7f043cebb377fec6d7e4a32"
      }
     },
     "52218a83a29e4a2eb3de2b8183af629f": {
      "model_module": "jupyter-leaflet",
      "model_module_version": "^0.14.0",
      "model_name": "LeafletMarkerModel",
      "state": {
       "_model_module_version": "^0.14.0",
       "_view_module_version": "^0.14.0",
       "icon": "IPY_MODEL_0edd154c36374ac8b7ac0311e53bdb9f",
       "location": [
        44.63577,
        -124.3035
       ],
       "options": [
        "alt",
        "draggable",
        "keyboard",
        "rise_offset",
        "rise_on_hover",
        "rotation_angle",
        "rotation_origin",
        "title",
        "z_index_offset"
       ],
       "popup": "IPY_MODEL_62224bc423724f69884507ec3f343aa6"
      }
     },
     "52b32b23f65247fda8238bde6144f656": {
      "model_module": "@jupyter-widgets/controls",
      "model_module_version": "1.5.0",
      "model_name": "HTMLModel",
      "state": {
       "layout": "IPY_MODEL_3c90c941de504169bd569d132a63b1e9",
       "style": "IPY_MODEL_c9897a5c3aef46dd84bbac014a01182a",
       "value": "<table border=\"1\" class=\"dataframe table table-striped table-hover table-condensed table-responsive\">\n  <thead>\n    <tr style=\"text-align: right;\">\n      <th></th>\n      <th>14</th>\n    </tr>\n  </thead>\n  <tbody>\n    <tr>\n      <th>Institution</th>\n      <td>Ocean Observatories Initiative (OOI)</td>\n    </tr>\n    <tr>\n      <th>Dataset ID</th>\n      <td>ooi-ce04osps-pc01b-4b-phsena106</td>\n    </tr>\n  </tbody>\n</table>"
      }
     },
     "52d60a7bc1324e32a5b264c69108d76d": {
      "model_module": "jupyter-leaflet",
      "model_module_version": "^0.14.0",
      "model_name": "LeafletAwesomeIconModel",
      "state": {
       "_model_module_version": "^0.14.0",
       "_view_module_version": "^0.14.0",
       "icon_color": "white",
       "name": "life-ring"
      }
     },
     "53062898678540ffaad140abfb0482f0": {
      "model_module": "jupyter-leaflet",
      "model_module_version": "^0.14.0",
      "model_name": "LeafletAwesomeIconModel",
      "state": {
       "_model_module_version": "^0.14.0",
       "_view_module_version": "^0.14.0",
       "icon_color": "white",
       "marker_color": "orange",
       "name": "life-ring"
      }
     },
     "53880c03429d44f7b8c8912dcd2f664c": {
      "model_module": "jupyter-leaflet",
      "model_module_version": "^0.14.0",
      "model_name": "LeafletMarkerModel",
      "state": {
       "_model_module_version": "^0.14.0",
       "_view_module_version": "^0.14.0",
       "icon": "IPY_MODEL_dd5d3ead7f1d49ee97bc13668f17c07b",
       "location": [
        44.37868,
        -124.94508
       ],
       "options": [
        "alt",
        "draggable",
        "keyboard",
        "rise_offset",
        "rise_on_hover",
        "rotation_angle",
        "rotation_origin",
        "title",
        "z_index_offset"
       ],
       "popup": "IPY_MODEL_64d712bf4b20474f8374d9846f924787"
      }
     },
     "53907e6f38434745883f1aef85e77540": {
      "model_module": "@jupyter-widgets/base",
      "model_module_version": "1.2.0",
      "model_name": "LayoutModel",
      "state": {}
     },
     "53bdc239629c4db8a038f544eed2e418": {
      "model_module": "jupyter-leaflet",
      "model_module_version": "^0.14.0",
      "model_name": "LeafletMarkerModel",
      "state": {
       "_model_module_version": "^0.14.0",
       "_view_module_version": "^0.14.0",
       "icon": "IPY_MODEL_fb4225fafd764da680efd8b81a0c1c91",
       "location": [
        46.85367,
        -124.95935
       ],
       "options": [
        "alt",
        "draggable",
        "keyboard",
        "rise_offset",
        "rise_on_hover",
        "rotation_angle",
        "rotation_origin",
        "title",
        "z_index_offset"
       ],
       "popup": "IPY_MODEL_c84c3b92794f4621a61b442b9ad2d859"
      }
     },
     "53cb1a2a36b849e1861f9842faf59806": {
      "model_module": "@jupyter-widgets/controls",
      "model_module_version": "1.5.0",
      "model_name": "HTMLModel",
      "state": {
       "layout": "IPY_MODEL_0380af0c690f4e2c8ab38c1052eeb6cb",
       "style": "IPY_MODEL_dc5ef83a7e984cf69339e718365a003b",
       "value": "<table border=\"1\" class=\"dataframe table table-striped table-hover table-condensed table-responsive\">\n  <thead>\n    <tr style=\"text-align: right;\">\n      <th></th>\n      <th>6</th>\n    </tr>\n  </thead>\n  <tbody>\n    <tr>\n      <th>Institution</th>\n      <td>Ocean Observatories Initiative (OOI)</td>\n    </tr>\n    <tr>\n      <th>Dataset ID</th>\n      <td>ooi-ce01issm-mfd37-03-dostad000</td>\n    </tr>\n  </tbody>\n</table>"
      }
     },
     "53da6754ee0d44df9ed47dec59d978f5": {
      "model_module": "@jupyter-widgets/base",
      "model_module_version": "1.2.0",
      "model_name": "LayoutModel",
      "state": {}
     },
     "540ac4d2f0754c2c95cc6a8e5098a19e": {
      "model_module": "@jupyter-widgets/controls",
      "model_module_version": "1.5.0",
      "model_name": "DescriptionStyleModel",
      "state": {
       "description_width": ""
      }
     },
     "5445f490165d438bb3fc93e3b6ccc08d": {
      "model_module": "@jupyter-widgets/controls",
      "model_module_version": "1.5.0",
      "model_name": "DescriptionStyleModel",
      "state": {
       "description_width": ""
      }
     },
     "547daa0240f3445195e1aa10ee553ec7": {
      "model_module": "@jupyter-widgets/controls",
      "model_module_version": "1.5.0",
      "model_name": "HTMLModel",
      "state": {
       "layout": "IPY_MODEL_b36172a8f554469286bb611d11a426f2",
       "style": "IPY_MODEL_bede1ec699354ba28d557bca8275c318",
       "value": "<table border=\"1\" class=\"dataframe table table-striped table-hover table-condensed table-responsive\">\n  <thead>\n    <tr style=\"text-align: right;\">\n      <th></th>\n      <th>57</th>\n    </tr>\n  </thead>\n  <tbody>\n    <tr>\n      <th>Institution</th>\n      <td>Ocean Observatories Initiative (OOI)</td>\n    </tr>\n    <tr>\n      <th>Dataset ID</th>\n      <td>ooi-ce07shsm-mfd35-06-phsend000</td>\n    </tr>\n  </tbody>\n</table>"
      }
     },
     "548a3ad07269421681f7110f25cb5aa3": {
      "model_module": "jupyter-leaflet",
      "model_module_version": "^0.14.0",
      "model_name": "LeafletAwesomeIconModel",
      "state": {
       "_model_module_version": "^0.14.0",
       "_view_module_version": "^0.14.0",
       "icon_color": "white",
       "marker_color": "orange",
       "name": "life-ring"
      }
     },
     "5542e5eb87464c68bdc90f4a426dc4bd": {
      "model_module": "@jupyter-widgets/controls",
      "model_module_version": "1.5.0",
      "model_name": "DescriptionStyleModel",
      "state": {
       "description_width": ""
      }
     },
     "558066e83b5641a28559bd2fd088f47b": {
      "model_module": "@jupyter-widgets/base",
      "model_module_version": "1.2.0",
      "model_name": "LayoutModel",
      "state": {}
     },
     "55dd7c8b10224305b86b58f010a08851": {
      "model_module": "jupyter-leaflet",
      "model_module_version": "^0.14.0",
      "model_name": "LeafletMarkerModel",
      "state": {
       "_model_module_version": "^0.14.0",
       "_view_module_version": "^0.14.0",
       "icon": "IPY_MODEL_7a14e1c1c714460fb16063b3d635b0fc",
       "location": [
        44.65678,
        -124.09707
       ],
       "options": [
        "alt",
        "draggable",
        "keyboard",
        "rise_offset",
        "rise_on_hover",
        "rotation_angle",
        "rotation_origin",
        "title",
        "z_index_offset"
       ],
       "popup": "IPY_MODEL_c445271f7921499488208fa1e428ee88"
      }
     },
     "55ec21f96d7148d0af341ec94b516cb6": {
      "model_module": "@jupyter-widgets/base",
      "model_module_version": "1.2.0",
      "model_name": "LayoutModel",
      "state": {}
     },
     "561cf554296b46828361ef7ca4b2814a": {
      "model_module": "@jupyter-widgets/controls",
      "model_module_version": "1.5.0",
      "model_name": "HTMLModel",
      "state": {
       "layout": "IPY_MODEL_3f274ce2900f4a36be5e7a55e718ec3e",
       "style": "IPY_MODEL_1b7658cffa8741479f6d896125655611",
       "value": "<table border=\"1\" class=\"dataframe table table-striped table-hover table-condensed table-responsive\">\n  <thead>\n    <tr style=\"text-align: right;\">\n      <th></th>\n      <th>4</th>\n    </tr>\n  </thead>\n  <tbody>\n    <tr>\n      <th>Institution</th>\n      <td>Ocean Observatories Initiative (OOI)</td>\n    </tr>\n    <tr>\n      <th>Dataset ID</th>\n      <td>ooi-ce01issm-rid16-06-phsend000</td>\n    </tr>\n  </tbody>\n</table>"
      }
     },
     "56b77906caf34e9d92a28a1062aa8888": {
      "model_module": "jupyter-leaflet",
      "model_module_version": "^0.14.0",
      "model_name": "LeafletAwesomeIconModel",
      "state": {
       "_model_module_version": "^0.14.0",
       "_view_module_version": "^0.14.0",
       "icon_color": "white",
       "marker_color": "orange",
       "name": "life-ring"
      }
     },
     "56cde663155449f4bf6be550c8594847": {
      "model_module": "@jupyter-widgets/controls",
      "model_module_version": "1.5.0",
      "model_name": "HTMLModel",
      "state": {
       "layout": "IPY_MODEL_9f3a6d0112584985a3efbc295c833232",
       "style": "IPY_MODEL_6a2e9327543a4dd9b7ffce56ba63ec19",
       "value": "<table border=\"1\" class=\"dataframe table table-striped table-hover table-condensed table-responsive\">\n  <thead>\n    <tr style=\"text-align: right;\">\n      <th></th>\n      <th>72</th>\n    </tr>\n  </thead>\n  <tbody>\n    <tr>\n      <th>Institution</th>\n      <td>NOAA Center for Operational Oceanographic Products and Services (CO-OPS)</td>\n    </tr>\n    <tr>\n      <th>Dataset ID</th>\n      <td>noaa_nos_co_ops_9432780</td>\n    </tr>\n  </tbody>\n</table>"
      }
     },
     "56d4d6e5d5aa471ca2810cc4ba3a2a44": {
      "model_module": "@jupyter-widgets/controls",
      "model_module_version": "1.5.0",
      "model_name": "DescriptionStyleModel",
      "state": {
       "description_width": ""
      }
     },
     "575c9b3c7d704ec1b4fbc95f91d50960": {
      "model_module": "@jupyter-widgets/controls",
      "model_module_version": "1.5.0",
      "model_name": "DescriptionStyleModel",
      "state": {
       "description_width": ""
      }
     },
     "57746ffce26b438f9ceda29b87b8f250": {
      "model_module": "jupyter-leaflet",
      "model_module_version": "^0.14.0",
      "model_name": "LeafletAwesomeIconModel",
      "state": {
       "_model_module_version": "^0.14.0",
       "_view_module_version": "^0.14.0",
       "icon_color": "white",
       "name": "life-ring"
      }
     },
     "577fb8307b984bd6a33fcdb56b95a5de": {
      "model_module": "@jupyter-widgets/base",
      "model_module_version": "1.2.0",
      "model_name": "LayoutModel",
      "state": {}
     },
     "583b98e96dc146fd91610e7f34c60fdc": {
      "model_module": "@jupyter-widgets/base",
      "model_module_version": "1.2.0",
      "model_name": "LayoutModel",
      "state": {}
     },
     "58856f54f2604328bdfe402e5d27d230": {
      "model_module": "@jupyter-widgets/base",
      "model_module_version": "1.2.0",
      "model_name": "LayoutModel",
      "state": {}
     },
     "589a75d870e54e68a34a8e0df9742e0f": {
      "model_module": "@jupyter-widgets/controls",
      "model_module_version": "1.5.0",
      "model_name": "HTMLModel",
      "state": {
       "layout": "IPY_MODEL_d4a9dedcfbf24e6eb03bb746cbf996d5",
       "style": "IPY_MODEL_77bbeb10140246cc94ea08170ab566bd",
       "value": "<table border=\"1\" class=\"dataframe table table-striped table-hover table-condensed table-responsive\">\n  <thead>\n    <tr style=\"text-align: right;\">\n      <th></th>\n      <th>23</th>\n    </tr>\n  </thead>\n  <tbody>\n    <tr>\n      <th>Institution</th>\n      <td>Ocean Observatories Initiative (OOI)</td>\n    </tr>\n    <tr>\n      <th>Dataset ID</th>\n      <td>ooi-ce02shbp-lj01d-10-phsend103</td>\n    </tr>\n  </tbody>\n</table>"
      }
     },
     "58c7f352530141909d9263f2b73f3179": {
      "model_module": "@jupyter-widgets/controls",
      "model_module_version": "1.5.0",
      "model_name": "DescriptionStyleModel",
      "state": {
       "description_width": ""
      }
     },
     "5a354da6908b40048124ad48fffed013": {
      "model_module": "jupyter-leaflet",
      "model_module_version": "^0.14.0",
      "model_name": "LeafletMapStyleModel",
      "state": {
       "_model_module_version": "^0.14.0"
      }
     },
     "5a48434223c4489cb1bf766b36167b94": {
      "model_module": "@jupyter-widgets/controls",
      "model_module_version": "1.5.0",
      "model_name": "HTMLModel",
      "state": {
       "layout": "IPY_MODEL_00f8835715b94449bb71b3b6a1189fe7",
       "style": "IPY_MODEL_189910d09fe44b1d9ebe9ee0880658ae",
       "value": "<table border=\"1\" class=\"dataframe table table-striped table-hover table-condensed table-responsive\">\n  <thead>\n    <tr style=\"text-align: right;\">\n      <th></th>\n      <th>73</th>\n    </tr>\n  </thead>\n  <tbody>\n    <tr>\n      <th>Institution</th>\n      <td>NOAA Pacific Marine Environmental Lab (PMEL)</td>\n    </tr>\n    <tr>\n      <th>Dataset ID</th>\n      <td>coos-bay-historic-co2</td>\n    </tr>\n  </tbody>\n</table>"
      }
     },
     "5a748d145eb44d099bcb49834a9ce8a8": {
      "model_module": "@jupyter-widgets/base",
      "model_module_version": "1.2.0",
      "model_name": "LayoutModel",
      "state": {}
     },
     "5b1aa16226fe4fcfb451ce79e36c9618": {
      "model_module": "@jupyter-widgets/controls",
      "model_module_version": "1.5.0",
      "model_name": "HTMLModel",
      "state": {
       "layout": "IPY_MODEL_36a5ac518d5d4bf2b51278b563a941a6",
       "style": "IPY_MODEL_ad9d0dcac615473fb5ea0731b56c6a4b",
       "value": "<table border=\"1\" class=\"dataframe table table-striped table-hover table-condensed table-responsive\">\n  <thead>\n    <tr style=\"text-align: right;\">\n      <th></th>\n      <th>75</th>\n    </tr>\n  </thead>\n  <tbody>\n    <tr>\n      <th>Institution</th>\n      <td>NOAA Pacific Marine Environmental Lab (PMEL)</td>\n    </tr>\n    <tr>\n      <th>Dataset ID</th>\n      <td>gov_ornl_cdiac_lapush_125w_48n</td>\n    </tr>\n  </tbody>\n</table>"
      }
     },
     "5b33f264c7cf4c4eaca9a4ac10609c2c": {
      "model_module": "@jupyter-widgets/controls",
      "model_module_version": "1.5.0",
      "model_name": "HTMLModel",
      "state": {
       "layout": "IPY_MODEL_e37eb850ced246b3aa160ed551d19d9e",
       "style": "IPY_MODEL_e42eceaaf7de4d838d80822957370edd",
       "value": "<table border=\"1\" class=\"dataframe table table-striped table-hover table-condensed table-responsive\">\n  <thead>\n    <tr style=\"text-align: right;\">\n      <th></th>\n      <th>30</th>\n    </tr>\n  </thead>\n  <tbody>\n    <tr>\n      <th>Institution</th>\n      <td>Ocean Observatories Initiative (OOI)</td>\n    </tr>\n    <tr>\n      <th>Dataset ID</th>\n      <td>ooi-ce02shsm-sbd12-04-pco2aa000</td>\n    </tr>\n  </tbody>\n</table>"
      }
     },
     "5b3771a21def4fb9b7dd04317d25b5a5": {
      "model_module": "jupyter-leaflet",
      "model_module_version": "^0.14.0",
      "model_name": "LeafletAwesomeIconModel",
      "state": {
       "_model_module_version": "^0.14.0",
       "_view_module_version": "^0.14.0",
       "icon_color": "white",
       "marker_color": "orange",
       "name": "life-ring"
      }
     },
     "5bb360cded3941399474036ff0e3e90a": {
      "model_module": "@jupyter-widgets/controls",
      "model_module_version": "1.5.0",
      "model_name": "HTMLModel",
      "state": {
       "layout": "IPY_MODEL_bf97989834df4071a0d5e283593fc06d",
       "style": "IPY_MODEL_95cf9181045042b59e20f5707f16ce46",
       "value": "<table border=\"1\" class=\"dataframe table table-striped table-hover table-condensed table-responsive\">\n  <thead>\n    <tr style=\"text-align: right;\">\n      <th></th>\n      <th>59</th>\n    </tr>\n  </thead>\n  <tbody>\n    <tr>\n      <th>Institution</th>\n      <td>Ocean Observatories Initiative (OOI)</td>\n    </tr>\n    <tr>\n      <th>Dataset ID</th>\n      <td>ooi-rs01slbs-lj01a-12-ctdpfb101</td>\n    </tr>\n  </tbody>\n</table>"
      }
     },
     "5c649f38ced747e7a8b7117e89c0d699": {
      "model_module": "@jupyter-widgets/controls",
      "model_module_version": "1.5.0",
      "model_name": "HTMLModel",
      "state": {
       "layout": "IPY_MODEL_3d0ee6bb659a4a1f9312d080e0a99a06",
       "style": "IPY_MODEL_efd2cc4990f646e8a3639f2a643bcbb5",
       "value": "<table border=\"1\" class=\"dataframe table table-striped table-hover table-condensed table-responsive\">\n  <thead>\n    <tr style=\"text-align: right;\">\n      <th></th>\n      <th>21</th>\n    </tr>\n  </thead>\n  <tbody>\n    <tr>\n      <th>Institution</th>\n      <td>Ocean Observatories Initiative (OOI)</td>\n    </tr>\n    <tr>\n      <th>Dataset ID</th>\n      <td>ooi-ce04ossm-sbd12-04-pco2aa000</td>\n    </tr>\n  </tbody>\n</table>"
      }
     },
     "5cdac32a28fe48a49d3b401d92f6e4d0": {
      "model_module": "@jupyter-widgets/controls",
      "model_module_version": "1.5.0",
      "model_name": "HTMLModel",
      "state": {
       "layout": "IPY_MODEL_b069d36ba6dd42279f2a1dcc7e1bed70",
       "style": "IPY_MODEL_3f2cc1a8dcd14b368f87c4641bf3a556",
       "value": "<table border=\"1\" class=\"dataframe table table-striped table-hover table-condensed table-responsive\">\n  <thead>\n    <tr style=\"text-align: right;\">\n      <th></th>\n      <th>33</th>\n    </tr>\n  </thead>\n  <tbody>\n    <tr>\n      <th>Institution</th>\n      <td>Ocean Observatories Initiative (OOI)</td>\n    </tr>\n    <tr>\n      <th>Dataset ID</th>\n      <td>ooi-ce06issm-rid16-03-dostad000</td>\n    </tr>\n  </tbody>\n</table>"
      }
     },
     "5d7aabee730f4d92859c4998e0288b78": {
      "model_module": "@jupyter-widgets/controls",
      "model_module_version": "1.5.0",
      "model_name": "DescriptionStyleModel",
      "state": {
       "description_width": ""
      }
     },
     "5d7d51fe5754400aae1df831831590cd": {
      "model_module": "@jupyter-widgets/base",
      "model_module_version": "1.2.0",
      "model_name": "LayoutModel",
      "state": {}
     },
     "5d98fe9e931043d1af2636e8c7172146": {
      "model_module": "jupyter-leaflet",
      "model_module_version": "^0.14.0",
      "model_name": "LeafletAwesomeIconModel",
      "state": {
       "_model_module_version": "^0.14.0",
       "_view_module_version": "^0.14.0",
       "icon_color": "white",
       "name": "life-ring"
      }
     },
     "5dbfcb32d39a4f35b16e112ef2ca2df3": {
      "model_module": "jupyter-leaflet",
      "model_module_version": "^0.14.0",
      "model_name": "LeafletMarkerModel",
      "state": {
       "_model_module_version": "^0.14.0",
       "_view_module_version": "^0.14.0",
       "icon": "IPY_MODEL_4ab088daef9649d4884c39489d694caf",
       "location": [
        44.65678,
        -124.09707
       ],
       "options": [
        "alt",
        "draggable",
        "keyboard",
        "rise_offset",
        "rise_on_hover",
        "rotation_angle",
        "rotation_origin",
        "title",
        "z_index_offset"
       ],
       "popup": "IPY_MODEL_79c7c70335704169b87229dd96e084ef"
      }
     },
     "5df4d886f50c421da1f286bceb90f809": {
      "model_module": "@jupyter-widgets/controls",
      "model_module_version": "1.5.0",
      "model_name": "HTMLModel",
      "state": {
       "layout": "IPY_MODEL_6535b04219b74cb8937b3acfb251a04e",
       "style": "IPY_MODEL_902eacf0697644a29e75c7be77fdf77e",
       "value": "<table border=\"1\" class=\"dataframe table table-striped table-hover table-condensed table-responsive\">\n  <thead>\n    <tr style=\"text-align: right;\">\n      <th></th>\n      <th>16</th>\n    </tr>\n  </thead>\n  <tbody>\n    <tr>\n      <th>Institution</th>\n      <td>Ocean Observatories Initiative (OOI)</td>\n    </tr>\n    <tr>\n      <th>Dataset ID</th>\n      <td>ooi-ce04ossm-rid27-03-ctdbpc000</td>\n    </tr>\n  </tbody>\n</table>"
      }
     },
     "5e242b76bdd04dcbbe1b0aa630b1d863": {
      "model_module": "@jupyter-widgets/controls",
      "model_module_version": "1.5.0",
      "model_name": "DescriptionStyleModel",
      "state": {
       "description_width": ""
      }
     },
     "5e4a9193096049a699a19b6168196947": {
      "model_module": "jupyter-leaflet",
      "model_module_version": "^0.14.0",
      "model_name": "LeafletMarkerModel",
      "state": {
       "_model_module_version": "^0.14.0",
       "_view_module_version": "^0.14.0",
       "icon": "IPY_MODEL_e58c3378f970473dbc014420602b2306",
       "location": [
        44.63577,
        -124.3035
       ],
       "options": [
        "alt",
        "draggable",
        "keyboard",
        "rise_offset",
        "rise_on_hover",
        "rotation_angle",
        "rotation_origin",
        "title",
        "z_index_offset"
       ],
       "popup": "IPY_MODEL_6e209911fa014b119aa42f813c492887"
      }
     },
     "5e4e9364767645908753169b4a7ccb65": {
      "model_module": "@jupyter-widgets/controls",
      "model_module_version": "1.5.0",
      "model_name": "HTMLModel",
      "state": {
       "layout": "IPY_MODEL_06d6f7ebf5164ccfa6d941f6cd99f80d",
       "style": "IPY_MODEL_93dcf8b8bcf941cba0968cc30405c84d",
       "value": "<table border=\"1\" class=\"dataframe table table-striped table-hover table-condensed table-responsive\">\n  <thead>\n    <tr style=\"text-align: right;\">\n      <th></th>\n      <th>72</th>\n    </tr>\n  </thead>\n  <tbody>\n    <tr>\n      <th>Institution</th>\n      <td>NOAA Center for Operational Oceanographic Products and Services (CO-OPS)</td>\n    </tr>\n    <tr>\n      <th>Dataset ID</th>\n      <td>noaa_nos_co_ops_9432780</td>\n    </tr>\n  </tbody>\n</table>"
      }
     },
     "5e904f3ea3a944a6af7c389df8503509": {
      "model_module": "@jupyter-widgets/controls",
      "model_module_version": "1.5.0",
      "model_name": "HTMLModel",
      "state": {
       "layout": "IPY_MODEL_09dc333c0f2943988d74586cfe9e05f8",
       "style": "IPY_MODEL_3629ec6848ed4199bad7ba58c943a156",
       "value": "<table border=\"1\" class=\"dataframe table table-striped table-hover table-condensed table-responsive\">\n  <thead>\n    <tr style=\"text-align: right;\">\n      <th></th>\n      <th>13</th>\n    </tr>\n  </thead>\n  <tbody>\n    <tr>\n      <th>Institution</th>\n      <td>Ocean Observatories Initiative (OOI)</td>\n    </tr>\n    <tr>\n      <th>Dataset ID</th>\n      <td>ooi-ce04osps-pc01b-4a-ctdpfa109</td>\n    </tr>\n  </tbody>\n</table>"
      }
     },
     "5eaa89780fb04865867078a70f769b7f": {
      "model_module": "jupyter-leaflet",
      "model_module_version": "^0.14.0",
      "model_name": "LeafletMarkerModel",
      "state": {
       "_model_module_version": "^0.14.0",
       "_view_module_version": "^0.14.0",
       "icon": "IPY_MODEL_dce874a742c84876bbd4e7fc1ece82ca",
       "location": [
        44.65678,
        -124.09707
       ],
       "options": [
        "alt",
        "draggable",
        "keyboard",
        "rise_offset",
        "rise_on_hover",
        "rotation_angle",
        "rotation_origin",
        "title",
        "z_index_offset"
       ],
       "popup": "IPY_MODEL_3c320d345bc34a0ea9037322dfbda3c4"
      }
     },
     "5ecdd2e48dca496c8f9d2ea85d5e728f": {
      "model_module": "@jupyter-widgets/base",
      "model_module_version": "1.2.0",
      "model_name": "LayoutModel",
      "state": {}
     },
     "5eef00876c794003bb6bc15f2d9049d6": {
      "model_module": "@jupyter-widgets/controls",
      "model_module_version": "1.5.0",
      "model_name": "HTMLModel",
      "state": {
       "layout": "IPY_MODEL_a854dc8ff0ec47298ad907caca2f24fc",
       "style": "IPY_MODEL_62a8b50e08664b4db7cd8f5756b3fc9f",
       "value": "<table border=\"1\" class=\"dataframe table table-striped table-hover table-condensed table-responsive\">\n  <thead>\n    <tr style=\"text-align: right;\">\n      <th></th>\n      <th>9</th>\n    </tr>\n  </thead>\n  <tbody>\n    <tr>\n      <th>Institution</th>\n      <td>Ocean Observatories Initiative (OOI)</td>\n    </tr>\n    <tr>\n      <th>Dataset ID</th>\n      <td>ooi-ce01issm-sbd17-06-ctdbpc000</td>\n    </tr>\n  </tbody>\n</table>"
      }
     },
     "5f08811feb9543a0aa5528f173ec1771": {
      "model_module": "@jupyter-widgets/base",
      "model_module_version": "1.2.0",
      "model_name": "LayoutModel",
      "state": {}
     },
     "5f417c0f97ca418088c14601d52bab7b": {
      "model_module": "jupyter-leaflet",
      "model_module_version": "^0.14.0",
      "model_name": "LeafletFullScreenControlModel",
      "state": {
       "_model_module_version": "^0.14.0",
       "_view_module_version": "^0.14.0",
       "options": [
        "position"
       ]
      }
     },
     "5f6d2e22e7fe46df8f877c2da62cc022": {
      "model_module": "jupyter-leaflet",
      "model_module_version": "^0.14.0",
      "model_name": "LeafletMarkerModel",
      "state": {
       "_model_module_version": "^0.14.0",
       "_view_module_version": "^0.14.0",
       "icon": "IPY_MODEL_88538f044a184d2eb77b7b7f75ffe36d",
       "location": [
        46.2,
        -123.941
       ],
       "options": [
        "alt",
        "draggable",
        "keyboard",
        "rise_offset",
        "rise_on_hover",
        "rotation_angle",
        "rotation_origin",
        "title",
        "z_index_offset"
       ],
       "popup": "IPY_MODEL_8c5181a4a3624d2d8bdeff953aad7152"
      }
     },
     "5f77465957a74eeba8f3163759d54948": {
      "model_module": "jupyter-leaflet",
      "model_module_version": "^0.14.0",
      "model_name": "LeafletMapStyleModel",
      "state": {
       "_model_module_version": "^0.14.0"
      }
     },
     "5fc176a6a0704515978c714b277f9180": {
      "model_module": "jupyter-leaflet",
      "model_module_version": "^0.14.0",
      "model_name": "LeafletMarkerModel",
      "state": {
       "_model_module_version": "^0.14.0",
       "_view_module_version": "^0.14.0",
       "icon": "IPY_MODEL_6e6057f4924b4c3bab4de25134ef5f2e",
       "location": [
        46.2,
        -123.941
       ],
       "options": [
        "alt",
        "draggable",
        "keyboard",
        "rise_offset",
        "rise_on_hover",
        "rotation_angle",
        "rotation_origin",
        "title",
        "z_index_offset"
       ],
       "popup": "IPY_MODEL_1ab66a388df34b7f82d0bcda4fb75e77"
      }
     },
     "5fd74a467afb4f32a51535b12ef54709": {
      "model_module": "jupyter-leaflet",
      "model_module_version": "^0.14.0",
      "model_name": "LeafletMarkerModel",
      "state": {
       "_model_module_version": "^0.14.0",
       "_view_module_version": "^0.14.0",
       "icon": "IPY_MODEL_c2817155860e4b159ae14f60024aa268",
       "location": [
        47.97,
        -124.95
       ],
       "options": [
        "alt",
        "draggable",
        "keyboard",
        "rise_offset",
        "rise_on_hover",
        "rotation_angle",
        "rotation_origin",
        "title",
        "z_index_offset"
       ],
       "popup": "IPY_MODEL_a40e3243f7854aee8506adcc9847ec9a"
      }
     },
     "5fd9ac27839948d2be3398b91dded88d": {
      "model_module": "@jupyter-widgets/controls",
      "model_module_version": "1.5.0",
      "model_name": "DescriptionStyleModel",
      "state": {
       "description_width": ""
      }
     },
     "607450c17c774ddca93507e0f2663632": {
      "model_module": "jupyter-leaflet",
      "model_module_version": "^0.14.0",
      "model_name": "LeafletMarkerModel",
      "state": {
       "_model_module_version": "^0.14.0",
       "_view_module_version": "^0.14.0",
       "icon": "IPY_MODEL_690434f1fa794e96afa5826f4f73badb",
       "location": [
        44.63708,
        -124.30595
       ],
       "options": [
        "alt",
        "draggable",
        "keyboard",
        "rise_offset",
        "rise_on_hover",
        "rotation_angle",
        "rotation_origin",
        "title",
        "z_index_offset"
       ],
       "popup": "IPY_MODEL_589a75d870e54e68a34a8e0df9742e0f"
      }
     },
     "60a75a3e475e40f4acea5e02e171c5b3": {
      "model_module": "jupyter-leaflet",
      "model_module_version": "^0.14.0",
      "model_name": "LeafletMarkerModel",
      "state": {
       "_model_module_version": "^0.14.0",
       "_view_module_version": "^0.14.0",
       "icon": "IPY_MODEL_d50113891884472390fe5315ad1f7ed1",
       "location": [
        47.1345,
        -124.27087
       ],
       "options": [
        "alt",
        "draggable",
        "keyboard",
        "rise_offset",
        "rise_on_hover",
        "rotation_angle",
        "rotation_origin",
        "title",
        "z_index_offset"
       ],
       "popup": "IPY_MODEL_463d510eb102494bb0ad02697f14c414"
      }
     },
     "60ac9993a6534513a437d98fc6228616": {
      "model_module": "@jupyter-widgets/controls",
      "model_module_version": "1.5.0",
      "model_name": "HTMLModel",
      "state": {
       "layout": "IPY_MODEL_2cac26ce05e24b7097009a3573360706",
       "style": "IPY_MODEL_540ac4d2f0754c2c95cc6a8e5098a19e",
       "value": "<table border=\"1\" class=\"dataframe table table-striped table-hover table-condensed table-responsive\">\n  <thead>\n    <tr style=\"text-align: right;\">\n      <th></th>\n      <th>23</th>\n    </tr>\n  </thead>\n  <tbody>\n    <tr>\n      <th>Institution</th>\n      <td>Ocean Observatories Initiative (OOI)</td>\n    </tr>\n    <tr>\n      <th>Dataset ID</th>\n      <td>ooi-ce02shbp-lj01d-10-phsend103</td>\n    </tr>\n  </tbody>\n</table>"
      }
     },
     "60dc03b9da37487a9bd8a969acb5a66b": {
      "model_module": "@jupyter-widgets/controls",
      "model_module_version": "1.5.0",
      "model_name": "DescriptionStyleModel",
      "state": {
       "description_width": ""
      }
     },
     "60e0b449c9734f51bcaaf9f7fd462818": {
      "model_module": "@jupyter-widgets/controls",
      "model_module_version": "1.5.0",
      "model_name": "HTMLModel",
      "state": {
       "layout": "IPY_MODEL_2e11cf2bd3cf4e71a7924b0c7c7bb3f0",
       "style": "IPY_MODEL_825982649e4e4a1c843902d6e59fb37d",
       "value": "<table border=\"1\" class=\"dataframe table table-striped table-hover table-condensed table-responsive\">\n  <thead>\n    <tr style=\"text-align: right;\">\n      <th></th>\n      <th>63</th>\n    </tr>\n  </thead>\n  <tbody>\n    <tr>\n      <th>Institution</th>\n      <td>Center for Coastal Margin Observation &amp; Prediction</td>\n    </tr>\n    <tr>\n      <th>Dataset ID</th>\n      <td>org_cmop_46096</td>\n    </tr>\n  </tbody>\n</table>"
      }
     },
     "60e54c9214f74333b11b93659288fb87": {
      "model_module": "@jupyter-widgets/controls",
      "model_module_version": "1.5.0",
      "model_name": "DescriptionStyleModel",
      "state": {
       "description_width": ""
      }
     },
     "60e5b946d96248b3aeaad7c72bebbd0c": {
      "model_module": "jupyter-leaflet",
      "model_module_version": "^0.14.0",
      "model_name": "LeafletMarkerModel",
      "state": {
       "_model_module_version": "^0.14.0",
       "_view_module_version": "^0.14.0",
       "icon": "IPY_MODEL_4b26c8aa9cea4913a5ef97aa689919c0",
       "location": [
        46.86503,
        -124.94828
       ],
       "options": [
        "alt",
        "draggable",
        "keyboard",
        "rise_offset",
        "rise_on_hover",
        "rotation_angle",
        "rotation_origin",
        "title",
        "z_index_offset"
       ],
       "popup": "IPY_MODEL_78822c8668de43a4939b545b791e483f"
      }
     },
     "60ff2a2b97ab4ed3bf6a63eb6e698ef0": {
      "model_module": "jupyter-leaflet",
      "model_module_version": "^0.14.0",
      "model_name": "LeafletAwesomeIconModel",
      "state": {
       "_model_module_version": "^0.14.0",
       "_view_module_version": "^0.14.0",
       "icon_color": "white",
       "marker_color": "orange",
       "name": "life-ring"
      }
     },
     "610f5cac7ae24e3388f756bbae5149e0": {
      "model_module": "jupyter-leaflet",
      "model_module_version": "^0.14.0",
      "model_name": "LeafletMarkerModel",
      "state": {
       "_model_module_version": "^0.14.0",
       "_view_module_version": "^0.14.0",
       "icon": "IPY_MODEL_a7453f3d3c5b428ab155ff4159e21a25",
       "location": [
        44.378,
        -124.946
       ],
       "options": [
        "alt",
        "draggable",
        "keyboard",
        "rise_offset",
        "rise_on_hover",
        "rotation_angle",
        "rotation_origin",
        "title",
        "z_index_offset"
       ],
       "popup": "IPY_MODEL_2a482a1f75ee40bfa2b05c9559550292"
      }
     },
     "61521a8c556045f0a034cc32ba6ff037": {
      "model_module": "@jupyter-widgets/controls",
      "model_module_version": "1.5.0",
      "model_name": "DescriptionStyleModel",
      "state": {
       "description_width": ""
      }
     },
     "61f73178635b4f0ba482e1a2b9c5e0a9": {
      "model_module": "@jupyter-widgets/base",
      "model_module_version": "1.2.0",
      "model_name": "LayoutModel",
      "state": {}
     },
     "61ffd26280504c789aa3afde1fa37a25": {
      "model_module": "jupyter-leaflet",
      "model_module_version": "^0.14.0",
      "model_name": "LeafletMarkerModel",
      "state": {
       "_model_module_version": "^0.14.0",
       "_view_module_version": "^0.14.0",
       "icon": "IPY_MODEL_424da176a47d4abfb95bcb78bbaecbb7",
       "location": [
        47.1345,
        -124.27087
       ],
       "options": [
        "alt",
        "draggable",
        "keyboard",
        "rise_offset",
        "rise_on_hover",
        "rotation_angle",
        "rotation_origin",
        "title",
        "z_index_offset"
       ],
       "popup": "IPY_MODEL_fcbd1219b9aa4394bfd1476be667eaf0"
      }
     },
     "62224bc423724f69884507ec3f343aa6": {
      "model_module": "@jupyter-widgets/controls",
      "model_module_version": "1.5.0",
      "model_name": "HTMLModel",
      "state": {
       "layout": "IPY_MODEL_0a638f1c4168424ca7b632807cf590bd",
       "style": "IPY_MODEL_950b01cf5ceb41bb984e1ed9a0f03829",
       "value": "<table border=\"1\" class=\"dataframe table table-striped table-hover table-condensed table-responsive\">\n  <thead>\n    <tr style=\"text-align: right;\">\n      <th></th>\n      <th>28</th>\n    </tr>\n  </thead>\n  <tbody>\n    <tr>\n      <th>Institution</th>\n      <td>Ocean Observatories Initiative (OOI)</td>\n    </tr>\n    <tr>\n      <th>Dataset ID</th>\n      <td>ooi-ce02shsm-rid26-06-phsend000</td>\n    </tr>\n  </tbody>\n</table>"
      }
     },
     "62986826ae6541c4979c08e2f07f8bdc": {
      "model_module": "jupyter-leaflet",
      "model_module_version": "^0.14.0",
      "model_name": "LeafletMarkerModel",
      "state": {
       "_model_module_version": "^0.14.0",
       "_view_module_version": "^0.14.0",
       "icon": "IPY_MODEL_18e6bad2c1094ba489ee904a42073cd8",
       "location": [
        44.37415,
        -124.95648
       ],
       "options": [
        "alt",
        "draggable",
        "keyboard",
        "rise_offset",
        "rise_on_hover",
        "rotation_angle",
        "rotation_origin",
        "title",
        "z_index_offset"
       ],
       "popup": "IPY_MODEL_3af66daec66b42dfbd5900da1f4c7c6a"
      }
     },
     "62a8b50e08664b4db7cd8f5756b3fc9f": {
      "model_module": "@jupyter-widgets/controls",
      "model_module_version": "1.5.0",
      "model_name": "DescriptionStyleModel",
      "state": {
       "description_width": ""
      }
     },
     "62c6251acc89458ba08d7b56824e95fd": {
      "model_module": "jupyter-leaflet",
      "model_module_version": "^0.14.0",
      "model_name": "LeafletLegendControlModel",
      "state": {
       "_model_module_version": "^0.14.0",
       "_view_module_version": "^0.14.0",
       "legend": {
        "IOOS": "blue",
        "OOI": "orange"
       },
       "options": [
        "position"
       ],
       "title": "Dataset locations"
      }
     },
     "62d45f5e1c6d42609d500015a195014e": {
      "model_module": "jupyter-leaflet",
      "model_module_version": "^0.14.0",
      "model_name": "LeafletMarkerModel",
      "state": {
       "_model_module_version": "^0.14.0",
       "_view_module_version": "^0.14.0",
       "icon": "IPY_MODEL_2f65e794a2e54517a8f6253f60eeceac",
       "location": [
        47.1345,
        -124.27087
       ],
       "options": [
        "alt",
        "draggable",
        "keyboard",
        "rise_offset",
        "rise_on_hover",
        "rotation_angle",
        "rotation_origin",
        "title",
        "z_index_offset"
       ],
       "popup": "IPY_MODEL_06b4b599cf1a49138ed4d2de53f5d219"
      }
     },
     "62d7a8caabef4c30a389a6132ccca439": {
      "model_module": "@jupyter-widgets/base",
      "model_module_version": "1.2.0",
      "model_name": "LayoutModel",
      "state": {}
     },
     "6341156e16f04186bce4d4db7473b1f9": {
      "model_module": "jupyter-leaflet",
      "model_module_version": "^0.14.0",
      "model_name": "LeafletMarkerModel",
      "state": {
       "_model_module_version": "^0.14.0",
       "_view_module_version": "^0.14.0",
       "icon": "IPY_MODEL_71e83c0f8d21418683f7ebbf8915b9a2",
       "location": [
        44.63958,
        -124.303
       ],
       "options": [
        "alt",
        "draggable",
        "keyboard",
        "rise_offset",
        "rise_on_hover",
        "rotation_angle",
        "rotation_origin",
        "title",
        "z_index_offset"
       ],
       "popup": "IPY_MODEL_0995db21ad52474fbdfe36c95d3422a0"
      }
     },
     "63496470928e44a6bf1de419328bdb38": {
      "model_module": "jupyter-leaflet",
      "model_module_version": "^0.14.0",
      "model_name": "LeafletMarkerModel",
      "state": {
       "_model_module_version": "^0.14.0",
       "_view_module_version": "^0.14.0",
       "icon": "IPY_MODEL_abed7ff5d89e48eca3eb4807b66f0664",
       "location": [
        44.65678,
        -124.09707
       ],
       "options": [
        "alt",
        "draggable",
        "keyboard",
        "rise_offset",
        "rise_on_hover",
        "rotation_angle",
        "rotation_origin",
        "title",
        "z_index_offset"
       ],
       "popup": "IPY_MODEL_1c33c76f6d2e406182ff667a46822ba9"
      }
     },
     "63f367f807524636b93539f032f82afb": {
      "model_module": "@jupyter-widgets/controls",
      "model_module_version": "1.5.0",
      "model_name": "DescriptionStyleModel",
      "state": {
       "description_width": ""
      }
     },
     "641148d2b60245be92c534ca3fae54ae": {
      "model_module": "@jupyter-widgets/base",
      "model_module_version": "1.2.0",
      "model_name": "LayoutModel",
      "state": {}
     },
     "645412fae5834cecb8a9f249474d86a3": {
      "model_module": "@jupyter-widgets/base",
      "model_module_version": "1.2.0",
      "model_name": "LayoutModel",
      "state": {}
     },
     "645c3d40b0d74a0a8f4d770b7827de95": {
      "model_module": "jupyter-leaflet",
      "model_module_version": "^0.14.0",
      "model_name": "LeafletAwesomeIconModel",
      "state": {
       "_model_module_version": "^0.14.0",
       "_view_module_version": "^0.14.0",
       "icon_color": "white",
       "marker_color": "orange",
       "name": "life-ring"
      }
     },
     "6467693e688b4e26ab990a159c3b9441": {
      "model_module": "@jupyter-widgets/base",
      "model_module_version": "1.2.0",
      "model_name": "LayoutModel",
      "state": {}
     },
     "64d712bf4b20474f8374d9846f924787": {
      "model_module": "@jupyter-widgets/controls",
      "model_module_version": "1.5.0",
      "model_name": "HTMLModel",
      "state": {
       "layout": "IPY_MODEL_feb1556d8b2c4d6e8fc59c77cca3937c",
       "style": "IPY_MODEL_0db595946e3c4ade909fa19ca6dbc917",
       "value": "<table border=\"1\" class=\"dataframe table table-striped table-hover table-condensed table-responsive\">\n  <thead>\n    <tr style=\"text-align: right;\">\n      <th></th>\n      <th>18</th>\n    </tr>\n  </thead>\n  <tbody>\n    <tr>\n      <th>Institution</th>\n      <td>Ocean Observatories Initiative (OOI)</td>\n    </tr>\n    <tr>\n      <th>Dataset ID</th>\n      <td>ooi-ce04ossm-rid26-07-nutnrb000</td>\n    </tr>\n  </tbody>\n</table>"
      }
     },
     "64da42e3bda549189aa7b01a22d74c47": {
      "model_module": "@jupyter-widgets/base",
      "model_module_version": "1.2.0",
      "model_name": "LayoutModel",
      "state": {}
     },
     "651d681866ae43e7995b48de8c9a760b": {
      "model_module": "jupyter-leaflet",
      "model_module_version": "^0.14.0",
      "model_name": "LeafletAwesomeIconModel",
      "state": {
       "_model_module_version": "^0.14.0",
       "_view_module_version": "^0.14.0",
       "icon_color": "white",
       "marker_color": "orange",
       "name": "life-ring"
      }
     },
     "6535b04219b74cb8937b3acfb251a04e": {
      "model_module": "@jupyter-widgets/base",
      "model_module_version": "1.2.0",
      "model_name": "LayoutModel",
      "state": {}
     },
     "65709315555244d69846c859b08dd98d": {
      "model_module": "@jupyter-widgets/controls",
      "model_module_version": "1.5.0",
      "model_name": "DescriptionStyleModel",
      "state": {
       "description_width": ""
      }
     },
     "660c2558627f45e2a76770e0a5a3ee77": {
      "model_module": "@jupyter-widgets/base",
      "model_module_version": "1.2.0",
      "model_name": "LayoutModel",
      "state": {}
     },
     "66108b623b714473986660eacc2359ea": {
      "model_module": "jupyter-leaflet",
      "model_module_version": "^0.14.0",
      "model_name": "LeafletAwesomeIconModel",
      "state": {
       "_model_module_version": "^0.14.0",
       "_view_module_version": "^0.14.0",
       "icon_color": "white",
       "marker_color": "orange",
       "name": "life-ring"
      }
     },
     "663b1f4b17834ed283357b0fb84691a8": {
      "model_module": "@jupyter-widgets/controls",
      "model_module_version": "1.5.0",
      "model_name": "HTMLModel",
      "state": {
       "layout": "IPY_MODEL_99a2e774820947e08a3c0f7d39eaaa80",
       "style": "IPY_MODEL_246a8c6a7c674ac4aa7ea3f0622e2f1e",
       "value": "<table border=\"1\" class=\"dataframe table table-striped table-hover table-condensed table-responsive\">\n  <thead>\n    <tr style=\"text-align: right;\">\n      <th></th>\n      <th>30</th>\n    </tr>\n  </thead>\n  <tbody>\n    <tr>\n      <th>Institution</th>\n      <td>Ocean Observatories Initiative (OOI)</td>\n    </tr>\n    <tr>\n      <th>Dataset ID</th>\n      <td>ooi-ce02shsm-sbd12-04-pco2aa000</td>\n    </tr>\n  </tbody>\n</table>"
      }
     },
     "6652f0377365459aab023ca57376518d": {
      "model_module": "@jupyter-widgets/controls",
      "model_module_version": "1.5.0",
      "model_name": "HTMLModel",
      "state": {
       "layout": "IPY_MODEL_f6c05e080bdd433f99b7407654abaf11",
       "style": "IPY_MODEL_1315b6979800475aaaaaffbbcbe517f7",
       "value": "<table border=\"1\" class=\"dataframe table table-striped table-hover table-condensed table-responsive\">\n  <thead>\n    <tr style=\"text-align: right;\">\n      <th></th>\n      <th>25</th>\n    </tr>\n  </thead>\n  <tbody>\n    <tr>\n      <th>Institution</th>\n      <td>Ocean Observatories Initiative (OOI)</td>\n    </tr>\n    <tr>\n      <th>Dataset ID</th>\n      <td>ooi-ce02shsm-rid27-03-ctdbpc000</td>\n    </tr>\n  </tbody>\n</table>"
      }
     },
     "66747b4a755244a4b9c079849df17678": {
      "model_module": "@jupyter-widgets/base",
      "model_module_version": "1.2.0",
      "model_name": "LayoutModel",
      "state": {}
     },
     "66f91077c4894868a01db390a6fd1f94": {
      "model_module": "@jupyter-widgets/controls",
      "model_module_version": "1.5.0",
      "model_name": "HTMLModel",
      "state": {
       "layout": "IPY_MODEL_f77204e141b54a80b8bfd5fa7bea8706",
       "style": "IPY_MODEL_ff2d135e724641f0a3f1730e5d6fa819",
       "value": "<table border=\"1\" class=\"dataframe table table-striped table-hover table-condensed table-responsive\">\n  <thead>\n    <tr style=\"text-align: right;\">\n      <th></th>\n      <th>61</th>\n    </tr>\n  </thead>\n  <tbody>\n    <tr>\n      <th>Institution</th>\n      <td>Ocean Observatories Initiative (OOI)</td>\n    </tr>\n    <tr>\n      <th>Dataset ID</th>\n      <td>ooi-rs01sbps-pc01a-4a-ctdpfa103</td>\n    </tr>\n  </tbody>\n</table>"
      }
     },
     "66fdc0d5caa040cd879b40903bba5d84": {
      "model_module": "@jupyter-widgets/controls",
      "model_module_version": "1.5.0",
      "model_name": "DescriptionStyleModel",
      "state": {
       "description_width": ""
      }
     },
     "672cc270cc174f88bc31fa9eecf86a4b": {
      "model_module": "jupyter-leaflet",
      "model_module_version": "^0.14.0",
      "model_name": "LeafletMarkerModel",
      "state": {
       "_model_module_version": "^0.14.0",
       "_view_module_version": "^0.14.0",
       "icon": "IPY_MODEL_e778e133648e4c8698cce64e40419bd1",
       "location": [
        46.98648,
        -124.56923
       ],
       "options": [
        "alt",
        "draggable",
        "keyboard",
        "rise_offset",
        "rise_on_hover",
        "rotation_angle",
        "rotation_origin",
        "title",
        "z_index_offset"
       ],
       "popup": "IPY_MODEL_b162e33c03f445e9a225fc7729719277"
      }
     },
     "674cb973cb0c47128a23288312c161bc": {
      "model_module": "jupyter-leaflet",
      "model_module_version": "^0.14.0",
      "model_name": "LeafletAwesomeIconModel",
      "state": {
       "_model_module_version": "^0.14.0",
       "_view_module_version": "^0.14.0",
       "icon_color": "white",
       "marker_color": "orange",
       "name": "life-ring"
      }
     },
     "67605950662847ef8147bfd0ac4e6964": {
      "model_module": "@jupyter-widgets/controls",
      "model_module_version": "1.5.0",
      "model_name": "HTMLModel",
      "state": {
       "layout": "IPY_MODEL_979cdafdeb814d21b0740c4c886d109d",
       "style": "IPY_MODEL_0bad518039fa473ab742da7d304b1f9a",
       "value": "<table border=\"1\" class=\"dataframe table table-striped table-hover table-condensed table-responsive\">\n  <thead>\n    <tr style=\"text-align: right;\">\n      <th></th>\n      <th>53</th>\n    </tr>\n  </thead>\n  <tbody>\n    <tr>\n      <th>Institution</th>\n      <td>Ocean Observatories Initiative (OOI)</td>\n    </tr>\n    <tr>\n      <th>Dataset ID</th>\n      <td>ooi-ce07shsm-rid26-07-nutnrb000</td>\n    </tr>\n  </tbody>\n</table>"
      }
     },
     "6798715d8ca1409cb06ae794c84553bc": {
      "model_module": "@jupyter-widgets/base",
      "model_module_version": "1.2.0",
      "model_name": "LayoutModel",
      "state": {}
     },
     "679e976f43d14152a245ff513ec0fd80": {
      "model_module": "jupyter-leaflet",
      "model_module_version": "^0.14.0",
      "model_name": "LeafletAwesomeIconModel",
      "state": {
       "_model_module_version": "^0.14.0",
       "_view_module_version": "^0.14.0",
       "icon_color": "white",
       "marker_color": "orange",
       "name": "life-ring"
      }
     },
     "67b30534bde143bdbeaf2a7ec715dd56": {
      "model_module": "@jupyter-widgets/base",
      "model_module_version": "1.2.0",
      "model_name": "LayoutModel",
      "state": {}
     },
     "67b86cb80a954db19c7d25988a1b8aa7": {
      "model_module": "@jupyter-widgets/controls",
      "model_module_version": "1.5.0",
      "model_name": "DescriptionStyleModel",
      "state": {
       "description_width": ""
      }
     },
     "67bbf18e177e4622ad9e706c201e4c4f": {
      "model_module": "jupyter-leaflet",
      "model_module_version": "^0.14.0",
      "model_name": "LeafletAwesomeIconModel",
      "state": {
       "_model_module_version": "^0.14.0",
       "_view_module_version": "^0.14.0",
       "icon_color": "white",
       "marker_color": "orange",
       "name": "life-ring"
      }
     },
     "67bcc5ae045341e1989f3e501c6ff149": {
      "model_module": "jupyter-leaflet",
      "model_module_version": "^0.14.0",
      "model_name": "LeafletFullScreenControlModel",
      "state": {
       "_model_module_version": "^0.14.0",
       "_view_module_version": "^0.14.0",
       "options": [
        "position"
       ]
      }
     },
     "67f0d41c67d44edfa717e1448de5459f": {
      "model_module": "@jupyter-widgets/controls",
      "model_module_version": "1.5.0",
      "model_name": "HTMLModel",
      "state": {
       "layout": "IPY_MODEL_b8aaca97fe0c41bd813704a34cfc3323",
       "style": "IPY_MODEL_e68bc21bcff84789950f8a67bb6ad16d",
       "value": "<table border=\"1\" class=\"dataframe table table-striped table-hover table-condensed table-responsive\">\n  <thead>\n    <tr style=\"text-align: right;\">\n      <th></th>\n      <th>55</th>\n    </tr>\n  </thead>\n  <tbody>\n    <tr>\n      <th>Institution</th>\n      <td>Ocean Observatories Initiative (OOI)</td>\n    </tr>\n    <tr>\n      <th>Dataset ID</th>\n      <td>ooi-ce07shsm-mfd37-03-ctdbpc000</td>\n    </tr>\n  </tbody>\n</table>"
      }
     },
     "67fa0be4765c4fa2b8e9eedb0134591f": {
      "model_module": "@jupyter-widgets/controls",
      "model_module_version": "1.5.0",
      "model_name": "HTMLModel",
      "state": {
       "layout": "IPY_MODEL_5129848115ca46039c84fc4d10cfd628",
       "style": "IPY_MODEL_c9a9f0d8d283452db12efb91fba239f1",
       "value": "<table border=\"1\" class=\"dataframe table table-striped table-hover table-condensed table-responsive\">\n  <thead>\n    <tr style=\"text-align: right;\">\n      <th></th>\n      <th>4</th>\n    </tr>\n  </thead>\n  <tbody>\n    <tr>\n      <th>Institution</th>\n      <td>Ocean Observatories Initiative (OOI)</td>\n    </tr>\n    <tr>\n      <th>Dataset ID</th>\n      <td>ooi-ce01issm-rid16-06-phsend000</td>\n    </tr>\n  </tbody>\n</table>"
      }
     },
     "68297f74cbbe49ad95606f55cb54c805": {
      "model_module": "@jupyter-widgets/controls",
      "model_module_version": "1.5.0",
      "model_name": "DescriptionStyleModel",
      "state": {
       "description_width": ""
      }
     },
     "68c99f32e8104f3f9c7c0e05176b575b": {
      "model_module": "@jupyter-widgets/controls",
      "model_module_version": "1.5.0",
      "model_name": "HTMLModel",
      "state": {
       "layout": "IPY_MODEL_180f8ea6f6904b6aaa42c5887ab110d2",
       "style": "IPY_MODEL_ef273081b2414615aea3b7e84f6b41c3",
       "value": "<table border=\"1\" class=\"dataframe table table-striped table-hover table-condensed table-responsive\">\n  <thead>\n    <tr style=\"text-align: right;\">\n      <th></th>\n      <th>21</th>\n    </tr>\n  </thead>\n  <tbody>\n    <tr>\n      <th>Institution</th>\n      <td>Ocean Observatories Initiative (OOI)</td>\n    </tr>\n    <tr>\n      <th>Dataset ID</th>\n      <td>ooi-ce04ossm-sbd12-04-pco2aa000</td>\n    </tr>\n  </tbody>\n</table>"
      }
     },
     "68fdebaf5f684600ac8bb87dcd63d6af": {
      "model_module": "jupyter-leaflet",
      "model_module_version": "^0.14.0",
      "model_name": "LeafletAwesomeIconModel",
      "state": {
       "_model_module_version": "^0.14.0",
       "_view_module_version": "^0.14.0",
       "icon_color": "white",
       "marker_color": "orange",
       "name": "life-ring"
      }
     },
     "690434f1fa794e96afa5826f4f73badb": {
      "model_module": "jupyter-leaflet",
      "model_module_version": "^0.14.0",
      "model_name": "LeafletAwesomeIconModel",
      "state": {
       "_model_module_version": "^0.14.0",
       "_view_module_version": "^0.14.0",
       "icon_color": "white",
       "marker_color": "orange",
       "name": "life-ring"
      }
     },
     "69294dbdf8cd41be80cb3c5bac6aec25": {
      "model_module": "@jupyter-widgets/base",
      "model_module_version": "1.2.0",
      "model_name": "LayoutModel",
      "state": {}
     },
     "69c7d4a69a594d6ca1db2cb2141fbc40": {
      "model_module": "@jupyter-widgets/base",
      "model_module_version": "1.2.0",
      "model_name": "LayoutModel",
      "state": {}
     },
     "6a1303f739d2498e8912119d37762cb7": {
      "model_module": "@jupyter-widgets/controls",
      "model_module_version": "1.5.0",
      "model_name": "DescriptionStyleModel",
      "state": {
       "description_width": ""
      }
     },
     "6a2c38ac755747e2b914333e962dc2fb": {
      "model_module": "jupyter-leaflet",
      "model_module_version": "^0.14.0",
      "model_name": "LeafletMarkerModel",
      "state": {
       "_model_module_version": "^0.14.0",
       "_view_module_version": "^0.14.0",
       "icon": "IPY_MODEL_3ef64326d24a4a38b67682019d2937b0",
       "location": [
        44.52897,
        -125.38966
       ],
       "options": [
        "alt",
        "draggable",
        "keyboard",
        "rise_offset",
        "rise_on_hover",
        "rotation_angle",
        "rotation_origin",
        "title",
        "z_index_offset"
       ],
       "popup": "IPY_MODEL_80254dc72fa34f8abbe2fc760c661b78"
      }
     },
     "6a2e9327543a4dd9b7ffce56ba63ec19": {
      "model_module": "@jupyter-widgets/controls",
      "model_module_version": "1.5.0",
      "model_name": "DescriptionStyleModel",
      "state": {
       "description_width": ""
      }
     },
     "6a863680a6ce4d98bb4e1d15de08db28": {
      "model_module": "@jupyter-widgets/base",
      "model_module_version": "1.2.0",
      "model_name": "LayoutModel",
      "state": {}
     },
     "6aafbe919f6747718037465a862e8b5b": {
      "model_module": "@jupyter-widgets/base",
      "model_module_version": "1.2.0",
      "model_name": "LayoutModel",
      "state": {}
     },
     "6abd1449556e40d286aef71cae3a2e5c": {
      "model_module": "@jupyter-widgets/base",
      "model_module_version": "1.2.0",
      "model_name": "LayoutModel",
      "state": {}
     },
     "6bc7df848c83453fa33a4c161958352d": {
      "model_module": "@jupyter-widgets/controls",
      "model_module_version": "1.5.0",
      "model_name": "DescriptionStyleModel",
      "state": {
       "description_width": ""
      }
     },
     "6bd79e4c42eb44bb8235b22d327d3628": {
      "model_module": "@jupyter-widgets/controls",
      "model_module_version": "1.5.0",
      "model_name": "DescriptionStyleModel",
      "state": {
       "description_width": ""
      }
     },
     "6c2bd09b4de4488f9f555fecd4cf86c7": {
      "model_module": "@jupyter-widgets/controls",
      "model_module_version": "1.5.0",
      "model_name": "DescriptionStyleModel",
      "state": {
       "description_width": ""
      }
     },
     "6c8dfecfd9ff4fac99f1bc2c42a4946b": {
      "model_module": "@jupyter-widgets/controls",
      "model_module_version": "1.5.0",
      "model_name": "HTMLModel",
      "state": {
       "layout": "IPY_MODEL_f830547866dc402e9afa0e9d77f62dc3",
       "style": "IPY_MODEL_cda38f35c634412fbb6a905c8fc77f3a",
       "value": "<table border=\"1\" class=\"dataframe table table-striped table-hover table-condensed table-responsive\">\n  <thead>\n    <tr style=\"text-align: right;\">\n      <th></th>\n      <th>77</th>\n    </tr>\n  </thead>\n  <tbody>\n    <tr>\n      <th>Institution</th>\n      <td>Northwest Association of Networked Ocean Observing Systems (NANOOS)</td>\n    </tr>\n    <tr>\n      <th>Dataset ID</th>\n      <td>nanoos_psi_nahcotta</td>\n    </tr>\n  </tbody>\n</table>"
      }
     },
     "6d14fd9402c34e4f912a31485f49e00a": {
      "model_module": "jupyter-leaflet",
      "model_module_version": "^0.14.0",
      "model_name": "LeafletAwesomeIconModel",
      "state": {
       "_model_module_version": "^0.14.0",
       "_view_module_version": "^0.14.0",
       "icon_color": "white",
       "marker_color": "orange",
       "name": "life-ring"
      }
     },
     "6d1e98f8e19441d8bb1d5ca7dc5e6566": {
      "model_module": "@jupyter-widgets/base",
      "model_module_version": "1.2.0",
      "model_name": "LayoutModel",
      "state": {}
     },
     "6d67fc39ef574f78a1480be3d6ae7c78": {
      "model_module": "jupyter-leaflet",
      "model_module_version": "^0.14.0",
      "model_name": "LeafletAwesomeIconModel",
      "state": {
       "_model_module_version": "^0.14.0",
       "_view_module_version": "^0.14.0",
       "icon_color": "white",
       "marker_color": "orange",
       "name": "life-ring"
      }
     },
     "6d82ff5862be4a18b1e813a42f780bf4": {
      "model_module": "jupyter-leaflet",
      "model_module_version": "^0.14.0",
      "model_name": "LeafletAwesomeIconModel",
      "state": {
       "_model_module_version": "^0.14.0",
       "_view_module_version": "^0.14.0",
       "icon_color": "white",
       "marker_color": "orange",
       "name": "life-ring"
      }
     },
     "6db0258223a04abd940cc64a05c97a57": {
      "model_module": "jupyter-leaflet",
      "model_module_version": "^0.14.0",
      "model_name": "LeafletTileLayerModel",
      "state": {
       "_model_module_version": "^0.14.0",
       "_view_module_version": "^0.14.0",
       "base": true,
       "max_native_zoom": 18,
       "max_zoom": 19,
       "min_native_zoom": 0,
       "min_zoom": 1,
       "options": [
        "attribution",
        "detect_retina",
        "max_native_zoom",
        "max_zoom",
        "min_native_zoom",
        "min_zoom",
        "no_wrap",
        "tile_size",
        "tms"
       ]
      }
     },
     "6e017b364ed94c928126790d145b4b9e": {
      "model_module": "@jupyter-widgets/base",
      "model_module_version": "1.2.0",
      "model_name": "LayoutModel",
      "state": {}
     },
     "6e09ed089c1b466983edadca106211d3": {
      "model_module": "jupyter-leaflet",
      "model_module_version": "^0.14.0",
      "model_name": "LeafletMarkerModel",
      "state": {
       "_model_module_version": "^0.14.0",
       "_view_module_version": "^0.14.0",
       "icon": "IPY_MODEL_679e976f43d14152a245ff513ec0fd80",
       "location": [
        44.51524,
        -125.38981
       ],
       "options": [
        "alt",
        "draggable",
        "keyboard",
        "rise_offset",
        "rise_on_hover",
        "rotation_angle",
        "rotation_origin",
        "title",
        "z_index_offset"
       ],
       "popup": "IPY_MODEL_5bb360cded3941399474036ff0e3e90a"
      }
     },
     "6e209911fa014b119aa42f813c492887": {
      "model_module": "@jupyter-widgets/controls",
      "model_module_version": "1.5.0",
      "model_name": "HTMLModel",
      "state": {
       "layout": "IPY_MODEL_00a0bacce06547b082fa7299cd0f8221",
       "style": "IPY_MODEL_bee1f71c9e714842bc4ff2939ee37819",
       "value": "<table border=\"1\" class=\"dataframe table table-striped table-hover table-condensed table-responsive\">\n  <thead>\n    <tr style=\"text-align: right;\">\n      <th></th>\n      <th>28</th>\n    </tr>\n  </thead>\n  <tbody>\n    <tr>\n      <th>Institution</th>\n      <td>Ocean Observatories Initiative (OOI)</td>\n    </tr>\n    <tr>\n      <th>Dataset ID</th>\n      <td>ooi-ce02shsm-rid26-06-phsend000</td>\n    </tr>\n  </tbody>\n</table>"
      }
     },
     "6e6057f4924b4c3bab4de25134ef5f2e": {
      "model_module": "jupyter-leaflet",
      "model_module_version": "^0.14.0",
      "model_name": "LeafletAwesomeIconModel",
      "state": {
       "_model_module_version": "^0.14.0",
       "_view_module_version": "^0.14.0",
       "icon_color": "white",
       "name": "life-ring"
      }
     },
     "6f10fa38b5d44e59872b49e8c86275f3": {
      "model_module": "@jupyter-widgets/base",
      "model_module_version": "1.2.0",
      "model_name": "LayoutModel",
      "state": {}
     },
     "6f1b684f5c4b444c81883dead42ad60a": {
      "model_module": "@jupyter-widgets/controls",
      "model_module_version": "1.5.0",
      "model_name": "DescriptionStyleModel",
      "state": {
       "description_width": ""
      }
     },
     "6f5e887e5e2d4acfabbca83c2340a34b": {
      "model_module": "jupyter-leaflet",
      "model_module_version": "^0.14.0",
      "model_name": "LeafletAwesomeIconModel",
      "state": {
       "_model_module_version": "^0.14.0",
       "_view_module_version": "^0.14.0",
       "icon_color": "white",
       "name": "life-ring"
      }
     },
     "6f638434d7c4412ab60ab344515c0e74": {
      "model_module": "jupyter-leaflet",
      "model_module_version": "^0.14.0",
      "model_name": "LeafletMarkerModel",
      "state": {
       "_model_module_version": "^0.14.0",
       "_view_module_version": "^0.14.0",
       "icon": "IPY_MODEL_7485cf5ad903455b89d5a497d3b19f07",
       "location": [
        47.1345,
        -124.27087
       ],
       "options": [
        "alt",
        "draggable",
        "keyboard",
        "rise_offset",
        "rise_on_hover",
        "rotation_angle",
        "rotation_origin",
        "title",
        "z_index_offset"
       ],
       "popup": "IPY_MODEL_d64cdbd9f7de40dbb25db11b0f5a7454"
      }
     },
     "70227ff895a14a2099f61936ee1e21bc": {
      "model_module": "jupyter-leaflet",
      "model_module_version": "^0.14.0",
      "model_name": "LeafletAwesomeIconModel",
      "state": {
       "_model_module_version": "^0.14.0",
       "_view_module_version": "^0.14.0",
       "icon_color": "white",
       "marker_color": "orange",
       "name": "life-ring"
      }
     },
     "7031e08a68534b97a8fb7860c2a5ee45": {
      "model_module": "jupyter-leaflet",
      "model_module_version": "^0.14.0",
      "model_name": "LeafletMarkerModel",
      "state": {
       "_model_module_version": "^0.14.0",
       "_view_module_version": "^0.14.0",
       "icon": "IPY_MODEL_b76d312610bb4aef8871fbabf3592aec",
       "location": [
        47.9739990234375,
        -124.955001831055
       ],
       "options": [
        "alt",
        "draggable",
        "keyboard",
        "rise_offset",
        "rise_on_hover",
        "rotation_angle",
        "rotation_origin",
        "title",
        "z_index_offset"
       ],
       "popup": "IPY_MODEL_ef7ab8d946a84c2aa6c2dd823cb4e7f7"
      }
     },
     "70950566fd174fb1897a4708b356bca5": {
      "model_module": "@jupyter-widgets/base",
      "model_module_version": "1.2.0",
      "model_name": "LayoutModel",
      "state": {}
     },
     "70d1ee14d87045659af1b3122c09dd33": {
      "model_module": "jupyter-leaflet",
      "model_module_version": "^0.14.0",
      "model_name": "LeafletAwesomeIconModel",
      "state": {
       "_model_module_version": "^0.14.0",
       "_view_module_version": "^0.14.0",
       "icon_color": "white",
       "name": "life-ring"
      }
     },
     "70e42c89e70e4406bb6430ff6e89cfba": {
      "model_module": "jupyter-leaflet",
      "model_module_version": "^0.14.0",
      "model_name": "LeafletAwesomeIconModel",
      "state": {
       "_model_module_version": "^0.14.0",
       "_view_module_version": "^0.14.0",
       "icon_color": "white",
       "marker_color": "orange",
       "name": "life-ring"
      }
     },
     "71393efcf7a84c18b0be815cd19eb3a5": {
      "model_module": "jupyter-leaflet",
      "model_module_version": "^0.14.0",
      "model_name": "LeafletMarkerModel",
      "state": {
       "_model_module_version": "^0.14.0",
       "_view_module_version": "^0.14.0",
       "icon": "IPY_MODEL_6d82ff5862be4a18b1e813a42f780bf4",
       "location": [
        47.1345,
        -124.27087
       ],
       "options": [
        "alt",
        "draggable",
        "keyboard",
        "rise_offset",
        "rise_on_hover",
        "rotation_angle",
        "rotation_origin",
        "title",
        "z_index_offset"
       ],
       "popup": "IPY_MODEL_93bcb5ae90894b8a9825a3c1382ee319"
      }
     },
     "716d537a61a84ae08d9d21af46e0dcd2": {
      "model_module": "jupyter-leaflet",
      "model_module_version": "^0.14.0",
      "model_name": "LeafletMarkerModel",
      "state": {
       "_model_module_version": "^0.14.0",
       "_view_module_version": "^0.14.0",
       "icon": "IPY_MODEL_f19fdf630ddf45deb783d9ff107c6a5c",
       "location": [
        44.65678,
        -124.09707
       ],
       "options": [
        "alt",
        "draggable",
        "keyboard",
        "rise_offset",
        "rise_on_hover",
        "rotation_angle",
        "rotation_origin",
        "title",
        "z_index_offset"
       ],
       "popup": "IPY_MODEL_98b68eea50114bdc9581fe5f971240f8"
      }
     },
     "7189d8fc11024f26bb6a9151e235d317": {
      "model_module": "jupyter-leaflet",
      "model_module_version": "^0.14.0",
      "model_name": "LeafletMarkerModel",
      "state": {
       "_model_module_version": "^0.14.0",
       "_view_module_version": "^0.14.0",
       "icon": "IPY_MODEL_6d67fc39ef574f78a1480be3d6ae7c78",
       "location": [
        44.63577,
        -124.3035
       ],
       "options": [
        "alt",
        "draggable",
        "keyboard",
        "rise_offset",
        "rise_on_hover",
        "rotation_angle",
        "rotation_origin",
        "title",
        "z_index_offset"
       ],
       "popup": "IPY_MODEL_2b08856fcbde45649d2063d2808089e1"
      }
     },
     "718cddba72a2495185f6382079260456": {
      "model_module": "jupyter-leaflet",
      "model_module_version": "^0.14.0",
      "model_name": "LeafletAwesomeIconModel",
      "state": {
       "_model_module_version": "^0.14.0",
       "_view_module_version": "^0.14.0",
       "icon_color": "white",
       "marker_color": "orange",
       "name": "life-ring"
      }
     },
     "71bbeb87d8a64b47903168ef6121474b": {
      "model_module": "@jupyter-widgets/controls",
      "model_module_version": "1.5.0",
      "model_name": "DescriptionStyleModel",
      "state": {
       "description_width": ""
      }
     },
     "71d0878c367542aebbcb9ead76cd2976": {
      "model_module": "@jupyter-widgets/base",
      "model_module_version": "1.2.0",
      "model_name": "LayoutModel",
      "state": {}
     },
     "71e83c0f8d21418683f7ebbf8915b9a2": {
      "model_module": "jupyter-leaflet",
      "model_module_version": "^0.14.0",
      "model_name": "LeafletAwesomeIconModel",
      "state": {
       "_model_module_version": "^0.14.0",
       "_view_module_version": "^0.14.0",
       "icon_color": "white",
       "marker_color": "orange",
       "name": "life-ring"
      }
     },
     "71fcb309a2334e27b11fc557253eb486": {
      "model_module": "@jupyter-widgets/controls",
      "model_module_version": "1.5.0",
      "model_name": "DescriptionStyleModel",
      "state": {
       "description_width": ""
      }
     },
     "7223332681f745d18709dbcdde6f6d41": {
      "model_module": "@jupyter-widgets/base",
      "model_module_version": "1.2.0",
      "model_name": "LayoutModel",
      "state": {}
     },
     "722418cd08b94e40a030fa2fb25e384d": {
      "model_module": "jupyter-leaflet",
      "model_module_version": "^0.14.0",
      "model_name": "LeafletMarkerModel",
      "state": {
       "_model_module_version": "^0.14.0",
       "_view_module_version": "^0.14.0",
       "icon": "IPY_MODEL_0f9a3c3c23604f06bcecbafc4b42bff5",
       "location": [
        46.6290016174316,
        -123.951599121094
       ],
       "options": [
        "alt",
        "draggable",
        "keyboard",
        "rise_offset",
        "rise_on_hover",
        "rotation_angle",
        "rotation_origin",
        "title",
        "z_index_offset"
       ],
       "popup": "IPY_MODEL_806a5492ae3e40a997971f7621069168"
      }
     },
     "725033bac50d4f1ba0dbfb784b042974": {
      "model_module": "@jupyter-widgets/controls",
      "model_module_version": "1.5.0",
      "model_name": "HTMLModel",
      "state": {
       "layout": "IPY_MODEL_77f10ecc95c047c7be979bc7cd5fa7bd",
       "style": "IPY_MODEL_c46bc3cc4e3b4d6f8821ba41b8cd6b19",
       "value": "<table border=\"1\" class=\"dataframe table table-striped table-hover table-condensed table-responsive\">\n  <thead>\n    <tr style=\"text-align: right;\">\n      <th></th>\n      <th>35</th>\n    </tr>\n  </thead>\n  <tbody>\n    <tr>\n      <th>Institution</th>\n      <td>Ocean Observatories Initiative (OOI)</td>\n    </tr>\n    <tr>\n      <th>Dataset ID</th>\n      <td>ooi-ce06issm-rid16-06-phsend000</td>\n    </tr>\n  </tbody>\n</table>"
      }
     },
     "7272c877527a4baea9b8b42631073b10": {
      "model_module": "jupyter-leaflet",
      "model_module_version": "^0.14.0",
      "model_name": "LeafletMarkerModel",
      "state": {
       "_model_module_version": "^0.14.0",
       "_view_module_version": "^0.14.0",
       "icon": "IPY_MODEL_98d0ce373f0040e89c6e02d79b3cffc5",
       "location": [
        46.98648,
        -124.56923
       ],
       "options": [
        "alt",
        "draggable",
        "keyboard",
        "rise_offset",
        "rise_on_hover",
        "rotation_angle",
        "rotation_origin",
        "title",
        "z_index_offset"
       ],
       "popup": "IPY_MODEL_a96fd716b090402899d48244c635d19c"
      }
     },
     "72d66f570cc9430c8e9630e16d694878": {
      "model_module": "@jupyter-widgets/controls",
      "model_module_version": "1.5.0",
      "model_name": "HTMLModel",
      "state": {
       "layout": "IPY_MODEL_3e538c47e67e447db95b09bb3b70c468",
       "style": "IPY_MODEL_b2eefe3427244f9eb00b26703473659a",
       "value": "<table border=\"1\" class=\"dataframe table table-striped table-hover table-condensed table-responsive\">\n  <thead>\n    <tr style=\"text-align: right;\">\n      <th></th>\n      <th>62</th>\n    </tr>\n  </thead>\n  <tbody>\n    <tr>\n      <th>Institution</th>\n      <td>Ocean Observatories Initiative (OOI)</td>\n    </tr>\n    <tr>\n      <th>Dataset ID</th>\n      <td>ooi-rs01sbps-pc01a-4b-phsena102</td>\n    </tr>\n  </tbody>\n</table>"
      }
     },
     "738534c117c9411786333e917d24799a": {
      "model_module": "@jupyter-widgets/controls",
      "model_module_version": "1.5.0",
      "model_name": "HTMLModel",
      "state": {
       "layout": "IPY_MODEL_4301573475e1468785afe241c6af4306",
       "style": "IPY_MODEL_7e69b6e536344c488a3d9a4203c89a93",
       "value": "<table border=\"1\" class=\"dataframe table table-striped table-hover table-condensed table-responsive\">\n  <thead>\n    <tr style=\"text-align: right;\">\n      <th></th>\n      <th>58</th>\n    </tr>\n  </thead>\n  <tbody>\n    <tr>\n      <th>Institution</th>\n      <td>Ocean Observatories Initiative (OOI)</td>\n    </tr>\n    <tr>\n      <th>Dataset ID</th>\n      <td>ooi-ce07shsm-sbd11-06-metbka000</td>\n    </tr>\n  </tbody>\n</table>"
      }
     },
     "738c0a646dda4b48b7345777dfb8a601": {
      "model_module": "@jupyter-widgets/controls",
      "model_module_version": "1.5.0",
      "model_name": "DescriptionStyleModel",
      "state": {
       "description_width": ""
      }
     },
     "73984a17f70e421ca70f29d19f888682": {
      "model_module": "jupyter-leaflet",
      "model_module_version": "^0.14.0",
      "model_name": "LeafletAwesomeIconModel",
      "state": {
       "_model_module_version": "^0.14.0",
       "_view_module_version": "^0.14.0",
       "icon_color": "white",
       "marker_color": "orange",
       "name": "life-ring"
      }
     },
     "73a859167b92493995dab8bdb0e37b2c": {
      "model_module": "jupyter-leaflet",
      "model_module_version": "^0.14.0",
      "model_name": "LeafletAwesomeIconModel",
      "state": {
       "_model_module_version": "^0.14.0",
       "_view_module_version": "^0.14.0",
       "icon_color": "white",
       "marker_color": "orange",
       "name": "life-ring"
      }
     },
     "73c85be61ee34a2aaae3b546dc743673": {
      "model_module": "jupyter-leaflet",
      "model_module_version": "^0.14.0",
      "model_name": "LeafletAwesomeIconModel",
      "state": {
       "_model_module_version": "^0.14.0",
       "_view_module_version": "^0.14.0",
       "icon_color": "white",
       "name": "life-ring"
      }
     },
     "7485cf5ad903455b89d5a497d3b19f07": {
      "model_module": "jupyter-leaflet",
      "model_module_version": "^0.14.0",
      "model_name": "LeafletAwesomeIconModel",
      "state": {
       "_model_module_version": "^0.14.0",
       "_view_module_version": "^0.14.0",
       "icon_color": "white",
       "marker_color": "orange",
       "name": "life-ring"
      }
     },
     "74b096c74bb04e4da7ce31c5014f7aeb": {
      "model_module": "jupyter-leaflet",
      "model_module_version": "^0.14.0",
      "model_name": "LeafletAwesomeIconModel",
      "state": {
       "_model_module_version": "^0.14.0",
       "_view_module_version": "^0.14.0",
       "icon_color": "white",
       "marker_color": "orange",
       "name": "life-ring"
      }
     },
     "74d3ed55900f411798f9cd8873490ef2": {
      "model_module": "@jupyter-widgets/controls",
      "model_module_version": "1.5.0",
      "model_name": "DescriptionStyleModel",
      "state": {
       "description_width": ""
      }
     },
     "74dea4953409403dbfad91f4764070a7": {
      "model_module": "@jupyter-widgets/controls",
      "model_module_version": "1.5.0",
      "model_name": "HTMLModel",
      "state": {
       "layout": "IPY_MODEL_cbefa7f6fdd141c9879e53902a0d00fe",
       "style": "IPY_MODEL_6bc7df848c83453fa33a4c161958352d",
       "value": "<table border=\"1\" class=\"dataframe table table-striped table-hover table-condensed table-responsive\">\n  <thead>\n    <tr style=\"text-align: right;\">\n      <th></th>\n      <th>65</th>\n    </tr>\n  </thead>\n  <tbody>\n    <tr>\n      <th>Institution</th>\n      <td>Observing System Monitoring Center (OSMC)</td>\n    </tr>\n    <tr>\n      <th>Dataset ID</th>\n      <td>osmc_46098</td>\n    </tr>\n  </tbody>\n</table>"
      }
     },
     "74e40a553e09452e932031a71968c56f": {
      "model_module": "jupyter-leaflet",
      "model_module_version": "^0.14.0",
      "model_name": "LeafletMarkerModel",
      "state": {
       "_model_module_version": "^0.14.0",
       "_view_module_version": "^0.14.0",
       "icon": "IPY_MODEL_56b77906caf34e9d92a28a1062aa8888",
       "location": [
        46.98648,
        -124.56923
       ],
       "options": [
        "alt",
        "draggable",
        "keyboard",
        "rise_offset",
        "rise_on_hover",
        "rotation_angle",
        "rotation_origin",
        "title",
        "z_index_offset"
       ],
       "popup": "IPY_MODEL_32515d2cc89e41c6b4ef865096e6541a"
      }
     },
     "751a09ccd6cd4108ad6661c68f34175e": {
      "model_module": "jupyter-leaflet",
      "model_module_version": "^0.14.0",
      "model_name": "LeafletAwesomeIconModel",
      "state": {
       "_model_module_version": "^0.14.0",
       "_view_module_version": "^0.14.0",
       "icon_color": "white",
       "marker_color": "orange",
       "name": "life-ring"
      }
     },
     "7568a09a860b45bb97bd4cd554b57e80": {
      "model_module": "@jupyter-widgets/base",
      "model_module_version": "1.2.0",
      "model_name": "LayoutModel",
      "state": {}
     },
     "75a2db0044cf455885366f7f07ec4cbf": {
      "model_module": "@jupyter-widgets/controls",
      "model_module_version": "1.5.0",
      "model_name": "DescriptionStyleModel",
      "state": {
       "description_width": ""
      }
     },
     "76045c41001e43f8b18b4cab857cf0bd": {
      "model_module": "jupyter-leaflet",
      "model_module_version": "^0.14.0",
      "model_name": "LeafletMarkerModel",
      "state": {
       "_model_module_version": "^0.14.0",
       "_view_module_version": "^0.14.0",
       "icon": "IPY_MODEL_651d681866ae43e7995b48de8c9a760b",
       "location": [
        44.3695,
        -124.95369
       ],
       "options": [
        "alt",
        "draggable",
        "keyboard",
        "rise_offset",
        "rise_on_hover",
        "rotation_angle",
        "rotation_origin",
        "title",
        "z_index_offset"
       ],
       "popup": "IPY_MODEL_2336cf2854c145df9c6c02e2aee4ae68"
      }
     },
     "7689028f4ad844c48a676f8c347803d6": {
      "model_module": "@jupyter-widgets/controls",
      "model_module_version": "1.5.0",
      "model_name": "HTMLModel",
      "state": {
       "layout": "IPY_MODEL_da5c7bd873de4fd9a13208048e5cf20c",
       "style": "IPY_MODEL_d4e3a576fe3b43ebbedab278b2e9d6a9",
       "value": "<table border=\"1\" class=\"dataframe table table-striped table-hover table-condensed table-responsive\">\n  <thead>\n    <tr style=\"text-align: right;\">\n      <th></th>\n      <th>75</th>\n    </tr>\n  </thead>\n  <tbody>\n    <tr>\n      <th>Institution</th>\n      <td>NOAA Pacific Marine Environmental Lab (PMEL)</td>\n    </tr>\n    <tr>\n      <th>Dataset ID</th>\n      <td>gov_ornl_cdiac_lapush_125w_48n</td>\n    </tr>\n  </tbody>\n</table>"
      }
     },
     "76a1b273a899404e807d006d25009508": {
      "model_module": "jupyter-leaflet",
      "model_module_version": "^0.14.0",
      "model_name": "LeafletMarkerModel",
      "state": {
       "_model_module_version": "^0.14.0",
       "_view_module_version": "^0.14.0",
       "icon": "IPY_MODEL_e6eb66eba7474b40b6888d71fde871e8",
       "location": [
        46.98648,
        -124.56923
       ],
       "options": [
        "alt",
        "draggable",
        "keyboard",
        "rise_offset",
        "rise_on_hover",
        "rotation_angle",
        "rotation_origin",
        "title",
        "z_index_offset"
       ],
       "popup": "IPY_MODEL_df72b93cdbdd4b3a97ed77444991a083"
      }
     },
     "76b50e1b0b8641eabb17478307be5d79": {
      "model_module": "@jupyter-widgets/base",
      "model_module_version": "1.2.0",
      "model_name": "LayoutModel",
      "state": {}
     },
     "76cb07da6b6947a58aeaf5a6cbceb332": {
      "model_module": "@jupyter-widgets/controls",
      "model_module_version": "1.5.0",
      "model_name": "HTMLModel",
      "state": {
       "layout": "IPY_MODEL_e8dcce4d5362461c9b68d8305b274207",
       "style": "IPY_MODEL_ddcfbb756dff46b9bcfdc1e44f55b2ab",
       "value": "<table border=\"1\" class=\"dataframe table table-striped table-hover table-condensed table-responsive\">\n  <thead>\n    <tr style=\"text-align: right;\">\n      <th></th>\n      <th>77</th>\n    </tr>\n  </thead>\n  <tbody>\n    <tr>\n      <th>Institution</th>\n      <td>Northwest Association of Networked Ocean Observing Systems (NANOOS)</td>\n    </tr>\n    <tr>\n      <th>Dataset ID</th>\n      <td>nanoos_psi_nahcotta</td>\n    </tr>\n  </tbody>\n</table>"
      }
     },
     "7768ce666e3c4d79b66c93e47beb6f09": {
      "model_module": "@jupyter-widgets/base",
      "model_module_version": "1.2.0",
      "model_name": "LayoutModel",
      "state": {}
     },
     "779babd8f0a3441f909b3a84cccace6c": {
      "model_module": "jupyter-leaflet",
      "model_module_version": "^0.14.0",
      "model_name": "LeafletAwesomeIconModel",
      "state": {
       "_model_module_version": "^0.14.0",
       "_view_module_version": "^0.14.0",
       "icon_color": "white",
       "marker_color": "orange",
       "name": "life-ring"
      }
     },
     "77bbeb10140246cc94ea08170ab566bd": {
      "model_module": "@jupyter-widgets/controls",
      "model_module_version": "1.5.0",
      "model_name": "DescriptionStyleModel",
      "state": {
       "description_width": ""
      }
     },
     "77f10ecc95c047c7be979bc7cd5fa7bd": {
      "model_module": "@jupyter-widgets/base",
      "model_module_version": "1.2.0",
      "model_name": "LayoutModel",
      "state": {}
     },
     "780df40d629d49b2816fa494648ae23a": {
      "model_module": "jupyter-leaflet",
      "model_module_version": "^0.14.0",
      "model_name": "LeafletMarkerModel",
      "state": {
       "_model_module_version": "^0.14.0",
       "_view_module_version": "^0.14.0",
       "icon": "IPY_MODEL_310c7e4fc6fb48828a68c12705e96a07",
       "location": [
        47.9739990234375,
        -124.955001831055
       ],
       "options": [
        "alt",
        "draggable",
        "keyboard",
        "rise_offset",
        "rise_on_hover",
        "rotation_angle",
        "rotation_origin",
        "title",
        "z_index_offset"
       ],
       "popup": "IPY_MODEL_a276bd348e0940fa8db692557590fe4e"
      }
     },
     "78822c8668de43a4939b545b791e483f": {
      "model_module": "@jupyter-widgets/controls",
      "model_module_version": "1.5.0",
      "model_name": "HTMLModel",
      "state": {
       "layout": "IPY_MODEL_d4c701ae7f8448d8b23c25148fed5adb",
       "style": "IPY_MODEL_c65ea4c583ad40a7944d12823b2815aa",
       "value": "<table border=\"1\" class=\"dataframe table table-striped table-hover table-condensed table-responsive\">\n  <thead>\n    <tr style=\"text-align: right;\">\n      <th></th>\n      <th>48</th>\n    </tr>\n  </thead>\n  <tbody>\n    <tr>\n      <th>Institution</th>\n      <td>Ocean Observatories Initiative (OOI)</td>\n    </tr>\n    <tr>\n      <th>Dataset ID</th>\n      <td>ooi-ce09ossm-sbd11-06-metbka000</td>\n    </tr>\n  </tbody>\n</table>"
      }
     },
     "789e3fe69a3c45f7bd0dfab6cda20df9": {
      "model_module": "@jupyter-widgets/controls",
      "model_module_version": "1.5.0",
      "model_name": "HTMLModel",
      "state": {
       "layout": "IPY_MODEL_f0560707c3be4b6ea92cb127fbc6068f",
       "style": "IPY_MODEL_738c0a646dda4b48b7345777dfb8a601",
       "value": "<table border=\"1\" class=\"dataframe table table-striped table-hover table-condensed table-responsive\">\n  <thead>\n    <tr style=\"text-align: right;\">\n      <th></th>\n      <th>58</th>\n    </tr>\n  </thead>\n  <tbody>\n    <tr>\n      <th>Institution</th>\n      <td>Ocean Observatories Initiative (OOI)</td>\n    </tr>\n    <tr>\n      <th>Dataset ID</th>\n      <td>ooi-ce07shsm-sbd11-06-metbka000</td>\n    </tr>\n  </tbody>\n</table>"
      }
     },
     "78ad84aa22424f6cb932a22b495de03b": {
      "model_module": "jupyter-leaflet",
      "model_module_version": "^0.14.0",
      "model_name": "LeafletAwesomeIconModel",
      "state": {
       "_model_module_version": "^0.14.0",
       "_view_module_version": "^0.14.0",
       "icon_color": "white",
       "marker_color": "orange",
       "name": "life-ring"
      }
     },
     "78d95510305140bca5d5a1b0847a1e48": {
      "model_module": "@jupyter-widgets/base",
      "model_module_version": "1.2.0",
      "model_name": "LayoutModel",
      "state": {}
     },
     "78e4bcd662fc43789d6477c0395022ca": {
      "model_module": "@jupyter-widgets/controls",
      "model_module_version": "1.5.0",
      "model_name": "HTMLModel",
      "state": {
       "layout": "IPY_MODEL_f72c8cc40b7e466c83d27820936841e5",
       "style": "IPY_MODEL_839b55975afb4778a1eaae55bbd75008",
       "value": "<table border=\"1\" class=\"dataframe table table-striped table-hover table-condensed table-responsive\">\n  <thead>\n    <tr style=\"text-align: right;\">\n      <th></th>\n      <th>15</th>\n    </tr>\n  </thead>\n  <tbody>\n    <tr>\n      <th>Institution</th>\n      <td>Ocean Observatories Initiative (OOI)</td>\n    </tr>\n    <tr>\n      <th>Dataset ID</th>\n      <td>ooi-ce04ossm-rid27-02-flortd000</td>\n    </tr>\n  </tbody>\n</table>"
      }
     },
     "78ed3e394fe847c8854d5f6664573b5d": {
      "model_module": "jupyter-leaflet",
      "model_module_version": "^0.14.0",
      "model_name": "LeafletMarkerModel",
      "state": {
       "_model_module_version": "^0.14.0",
       "_view_module_version": "^0.14.0",
       "icon": "IPY_MODEL_c3f7aa96f67e4e19b369b6db4ceed932",
       "location": [
        44.52897,
        -125.38966
       ],
       "options": [
        "alt",
        "draggable",
        "keyboard",
        "rise_offset",
        "rise_on_hover",
        "rotation_angle",
        "rotation_origin",
        "title",
        "z_index_offset"
       ],
       "popup": "IPY_MODEL_c49a3d426d0046f9beceff1fed73c635"
      }
     },
     "791a7f2c676047f1840baf8730485edb": {
      "model_module": "jupyter-leaflet",
      "model_module_version": "^0.14.0",
      "model_name": "LeafletMarkerModel",
      "state": {
       "_model_module_version": "^0.14.0",
       "_view_module_version": "^0.14.0",
       "icon": "IPY_MODEL_0e9a66af367e453cb012f568d3e21123",
       "location": [
        46.85367,
        -124.95935
       ],
       "options": [
        "alt",
        "draggable",
        "keyboard",
        "rise_offset",
        "rise_on_hover",
        "rotation_angle",
        "rotation_origin",
        "title",
        "z_index_offset"
       ],
       "popup": "IPY_MODEL_c22a5ca50e79463682888f3a2a36da4d"
      }
     },
     "79709e1126db4a48af1a848aa54c8ed6": {
      "model_module": "@jupyter-widgets/controls",
      "model_module_version": "1.5.0",
      "model_name": "HTMLModel",
      "state": {
       "layout": "IPY_MODEL_558066e83b5641a28559bd2fd088f47b",
       "style": "IPY_MODEL_81b78669472245cc862fd72caecb99a8",
       "value": "<table border=\"1\" class=\"dataframe table table-striped table-hover table-condensed table-responsive\">\n  <thead>\n    <tr style=\"text-align: right;\">\n      <th></th>\n      <th>69</th>\n    </tr>\n  </thead>\n  <tbody>\n    <tr>\n      <th>Institution</th>\n      <td>Northwest Association of Networked Ocean Observing Systems (NANOOS)</td>\n    </tr>\n    <tr>\n      <th>Dataset ID</th>\n      <td>nanoos_apl_chaba</td>\n    </tr>\n  </tbody>\n</table>"
      }
     },
     "79ac80d10a9e4a94b0262cb77b088d82": {
      "model_module": "jupyter-leaflet",
      "model_module_version": "^0.14.0",
      "model_name": "LeafletAwesomeIconModel",
      "state": {
       "_model_module_version": "^0.14.0",
       "_view_module_version": "^0.14.0",
       "icon_color": "white",
       "marker_color": "orange",
       "name": "life-ring"
      }
     },
     "79c7c70335704169b87229dd96e084ef": {
      "model_module": "@jupyter-widgets/controls",
      "model_module_version": "1.5.0",
      "model_name": "HTMLModel",
      "state": {
       "layout": "IPY_MODEL_d2c0991ec1774b3e9b21555fb88443fe",
       "style": "IPY_MODEL_6a1303f739d2498e8912119d37762cb7",
       "value": "<table border=\"1\" class=\"dataframe table table-striped table-hover table-condensed table-responsive\">\n  <thead>\n    <tr style=\"text-align: right;\">\n      <th></th>\n      <th>4</th>\n    </tr>\n  </thead>\n  <tbody>\n    <tr>\n      <th>Institution</th>\n      <td>Ocean Observatories Initiative (OOI)</td>\n    </tr>\n    <tr>\n      <th>Dataset ID</th>\n      <td>ooi-ce01issm-rid16-06-phsend000</td>\n    </tr>\n  </tbody>\n</table>"
      }
     },
     "79db8c90898a497a96f48d13e4382152": {
      "model_module": "@jupyter-widgets/base",
      "model_module_version": "1.2.0",
      "model_name": "LayoutModel",
      "state": {}
     },
     "7a14e1c1c714460fb16063b3d635b0fc": {
      "model_module": "jupyter-leaflet",
      "model_module_version": "^0.14.0",
      "model_name": "LeafletAwesomeIconModel",
      "state": {
       "_model_module_version": "^0.14.0",
       "_view_module_version": "^0.14.0",
       "icon_color": "white",
       "marker_color": "orange",
       "name": "life-ring"
      }
     },
     "7a333b8004b14d89b9f14ce0752d127a": {
      "model_module": "jupyter-leaflet",
      "model_module_version": "^0.14.0",
      "model_name": "LeafletAttributionControlModel",
      "state": {
       "_model_module_version": "^0.14.0",
       "_view_module_version": "^0.14.0",
       "options": [
        "position",
        "prefix"
       ],
       "position": "bottomright",
       "prefix": "ipyleaflet"
      }
     },
     "7a36a0ca395e4264b3e7a47ecb8b8c78": {
      "model_module": "jupyter-leaflet",
      "model_module_version": "^0.14.0",
      "model_name": "LeafletAwesomeIconModel",
      "state": {
       "_model_module_version": "^0.14.0",
       "_view_module_version": "^0.14.0",
       "icon_color": "white",
       "marker_color": "orange",
       "name": "life-ring"
      }
     },
     "7ae96e9b3b7244d380321b6f87ad923c": {
      "model_module": "jupyter-leaflet",
      "model_module_version": "^0.14.0",
      "model_name": "LeafletMarkerModel",
      "state": {
       "_model_module_version": "^0.14.0",
       "_view_module_version": "^0.14.0",
       "icon": "IPY_MODEL_0303d5d408ad47c9a1567aa8d3b9d050",
       "location": [
        44.65678,
        -124.09707
       ],
       "options": [
        "alt",
        "draggable",
        "keyboard",
        "rise_offset",
        "rise_on_hover",
        "rotation_angle",
        "rotation_origin",
        "title",
        "z_index_offset"
       ],
       "popup": "IPY_MODEL_23027bb1dda34e35a4c5061e128a2edf"
      }
     },
     "7b974f6ebd864847abfee4218a7128a7": {
      "model_module": "@jupyter-widgets/base",
      "model_module_version": "1.2.0",
      "model_name": "LayoutModel",
      "state": {}
     },
     "7be111d805c2475daa10c7512dd535e5": {
      "model_module": "@jupyter-widgets/controls",
      "model_module_version": "1.5.0",
      "model_name": "DescriptionStyleModel",
      "state": {
       "description_width": ""
      }
     },
     "7c3911c878fc4fbea9041fcb278fc563": {
      "model_module": "@jupyter-widgets/controls",
      "model_module_version": "1.5.0",
      "model_name": "DescriptionStyleModel",
      "state": {
       "description_width": ""
      }
     },
     "7c4051ab0af243f1ad62bd43694e8741": {
      "model_module": "jupyter-leaflet",
      "model_module_version": "^0.14.0",
      "model_name": "LeafletAwesomeIconModel",
      "state": {
       "_model_module_version": "^0.14.0",
       "_view_module_version": "^0.14.0",
       "icon_color": "white",
       "marker_color": "orange",
       "name": "life-ring"
      }
     },
     "7c6f09092d3d448d95a92edab82c731c": {
      "model_module": "@jupyter-widgets/controls",
      "model_module_version": "1.5.0",
      "model_name": "DescriptionStyleModel",
      "state": {
       "description_width": ""
      }
     },
     "7c962f0fc6b74df1a543a5758c85a3d7": {
      "model_module": "jupyter-leaflet",
      "model_module_version": "^0.14.0",
      "model_name": "LeafletAwesomeIconModel",
      "state": {
       "_model_module_version": "^0.14.0",
       "_view_module_version": "^0.14.0",
       "icon_color": "white",
       "name": "life-ring"
      }
     },
     "7cbc68b1930f4ae89b8194594e9d7fab": {
      "model_module": "jupyter-leaflet",
      "model_module_version": "^0.14.0",
      "model_name": "LeafletMapStyleModel",
      "state": {
       "_model_module_version": "^0.14.0"
      }
     },
     "7cc451b789f943899f5c823449c4330d": {
      "model_module": "jupyter-leaflet",
      "model_module_version": "^0.14.0",
      "model_name": "LeafletMapModel",
      "state": {
       "_model_module_version": "^0.14.0",
       "_view_module_version": "^0.14.0",
       "bottom": 6061,
       "center": [
        45.5,
        -125.375
       ],
       "controls": [
        "IPY_MODEL_02c1935716794e939f6face561d73209",
        "IPY_MODEL_bd21ce721e364848a94058d3a5384bb3",
        "IPY_MODEL_67bcc5ae045341e1989f3e501c6ff149",
        "IPY_MODEL_87ce710a10b64eb6be41e13123122b0f"
       ],
       "default_style": "IPY_MODEL_80b60db65e2145aa993e371978a40122",
       "dragging_style": "IPY_MODEL_9ab6025f6b144befacf1261d1012b2aa",
       "east": -115.04882812500001,
       "fullscreen": false,
       "interpolation": "bilinear",
       "layers": [
        "IPY_MODEL_6db0258223a04abd940cc64a05c97a57",
        "IPY_MODEL_3d3dbf0031034d8db384dd69ddca9875",
        "IPY_MODEL_b244870723ee41029fcaeaead37ec0f2",
        "IPY_MODEL_06367a2e2baf4c949e442057f4660ca1",
        "IPY_MODEL_fc915bc1c11d478d89cabcb56049b4ff",
        "IPY_MODEL_f9dabeed76b54553b3c288f1a5fecec4",
        "IPY_MODEL_dd24b09fc4f14472b8c0b9258d4f0306",
        "IPY_MODEL_ae8527d9f8a84db88f9accdf76923d18",
        "IPY_MODEL_780df40d629d49b2816fa494648ae23a",
        "IPY_MODEL_d41034cf0a8644b8afbd18760ad8d659",
        "IPY_MODEL_350e6412d8f8480c8ad653b26ce88d35",
        "IPY_MODEL_80fe2357c53d427992e6711e87942cf1",
        "IPY_MODEL_d42465db9a1346d2a0761d1d9d3479a2",
        "IPY_MODEL_a0e3d2dabcbd484fae44d64dcc885b95",
        "IPY_MODEL_915df511e8a3498ba9d7b10e0978e579",
        "IPY_MODEL_cd711a8957904fa9afe267b21ea68081",
        "IPY_MODEL_1fd206a68aa74291a1fac62428fa105f",
        "IPY_MODEL_9dbaaaae305b402e9043b4abd7d1a4ef",
        "IPY_MODEL_3aa37be5d0a242198ed3a639da241b4d",
        "IPY_MODEL_ba86d20e39e1499a82c9ef02757881e4",
        "IPY_MODEL_e34c3c4b747a492187713e2df1bdd0e0",
        "IPY_MODEL_4508b01845574de3936c1525860ae35f",
        "IPY_MODEL_5eaa89780fb04865867078a70f769b7f",
        "IPY_MODEL_f77a942184c441b8ac9623e699022199",
        "IPY_MODEL_e9716236274742d484d68bfa957ac9f6",
        "IPY_MODEL_2fc9f8ce51c1453da640270a8ace111d",
        "IPY_MODEL_12caeb919f0a4db8847393ff1b3a3889",
        "IPY_MODEL_809d95734658426ba47c421a06a48a59",
        "IPY_MODEL_f943f3a8922d46aabefe0d14de872e18",
        "IPY_MODEL_8eea9f9f814643038b3814ab8671a16e",
        "IPY_MODEL_8a63541863554e72b39bfdd39252054c",
        "IPY_MODEL_23403a43cbea40b7be8500a15a94e79e",
        "IPY_MODEL_2855f169fd0b4a0990d5cccd791be575",
        "IPY_MODEL_e2bc74ab2a174de9b8c51c5b9a3acdad",
        "IPY_MODEL_34c94a48f1ae497d8861dc9bab6319fb",
        "IPY_MODEL_ee25211eb1b747279b2b95be90e8da83",
        "IPY_MODEL_f072d315ab0c4d528156d68979571f06",
        "IPY_MODEL_9c33a0feb8174388b69365e618bf77be",
        "IPY_MODEL_f21c4f8e86344a3993b8ede0abd30f0b",
        "IPY_MODEL_aa4f2e50a9f142d485d68ec9b487a0cf",
        "IPY_MODEL_e38d8a833be940558cf4cc90b0b769d2",
        "IPY_MODEL_1bd112226cf34387819ce2bffdaba2a3",
        "IPY_MODEL_7189d8fc11024f26bb6a9151e235d317",
        "IPY_MODEL_52218a83a29e4a2eb3de2b8183af629f",
        "IPY_MODEL_6341156e16f04186bce4d4db7473b1f9",
        "IPY_MODEL_4fac66f994b943d0aa18540126b7c56e",
        "IPY_MODEL_a5e84c909fa14e0fb2d9525b550c9b89",
        "IPY_MODEL_60a75a3e475e40f4acea5e02e171c5b3",
        "IPY_MODEL_f4aa1c0d2f664d79a13fb3564c3a5376",
        "IPY_MODEL_cabf06d759e24e5cba53bb6b8670d536",
        "IPY_MODEL_98ba8dd16d50429a977a4a6ed75b4be1",
        "IPY_MODEL_1c0175df5a8a416fab5844e9c3cf0822",
        "IPY_MODEL_d93ca16131cb444391317dff04f001e4",
        "IPY_MODEL_71393efcf7a84c18b0be815cd19eb3a5",
        "IPY_MODEL_24cb366c2a4f44ba866f539eded29a01",
        "IPY_MODEL_102c108691c64d14a05d2b238a621c49",
        "IPY_MODEL_d9cfc2adbcb34251a43f19415d63e2d2",
        "IPY_MODEL_0a13445913c64e3fb3dade4d1b45ec53",
        "IPY_MODEL_15826698bb9e4ab6842f6ad46b8e8669",
        "IPY_MODEL_a5d35e481fed479b9fbf3879c12d9b4d",
        "IPY_MODEL_185b0bee201c4265a08eba0cad08b42e",
        "IPY_MODEL_f369f35f7d384cfeb53def828479948e",
        "IPY_MODEL_2d908e4401594a248e5a8738e226887a",
        "IPY_MODEL_3fd6b8ed41034455a223ecfb793316aa",
        "IPY_MODEL_2f8c9ac033b04600b2ae9d782dae6a18",
        "IPY_MODEL_1a3fa0cbb79b4d4087fbdb20de5494e3",
        "IPY_MODEL_1d6091757586458395ddec09090de91f",
        "IPY_MODEL_76a1b273a899404e807d006d25009508",
        "IPY_MODEL_dd6c36cf6ea142de99f5f7da48aad95e",
        "IPY_MODEL_0ea95ad08f2b421dafc61b9db036c742",
        "IPY_MODEL_aba297a4ba8e461d8d40d3c42a5e7e20",
        "IPY_MODEL_3d1418c2eb73452ca6dba9b7588f3edd",
        "IPY_MODEL_f291fe3a5db848ddb5e5a57ee4d0ddd8",
        "IPY_MODEL_1b5f63d48e8b458d84cbd07332424e8e",
        "IPY_MODEL_6e09ed089c1b466983edadca106211d3",
        "IPY_MODEL_1253f3f785a84714894e638cd7fea7aa",
        "IPY_MODEL_78ed3e394fe847c8854d5f6664573b5d",
        "IPY_MODEL_8d79568154bb4ab38f093af1d5c849bb"
       ],
       "layout": "IPY_MODEL_ed23be8138f841acb09fe1d1e20c97a7",
       "left": 2017,
       "modisdate": "yesterday",
       "north": 48.50204750525715,
       "options": [
        "bounce_at_zoom_limits",
        "box_zoom",
        "center",
        "close_popup_on_click",
        "double_click_zoom",
        "dragging",
        "fullscreen",
        "inertia",
        "inertia_deceleration",
        "inertia_max_speed",
        "interpolation",
        "keyboard",
        "keyboard_pan_offset",
        "keyboard_zoom_offset",
        "max_zoom",
        "min_zoom",
        "scroll_wheel_zoom",
        "tap",
        "tap_tolerance",
        "touch_zoom",
        "world_copy_jump",
        "zoom",
        "zoom_animation_threshold",
        "zoom_delta",
        "zoom_snap",
        "zoom_start"
       ],
       "right": 2956,
       "south": 42.342305278572816,
       "style": "IPY_MODEL_f56a1a5cb3a441d6b58d9917df6be9e0",
       "top": 5661,
       "west": -135.68115234375003,
       "window_url": "http://localhost:8888/notebooks/data_access_notebooks/2021-10-19-multiple-erddap-search.ipynb",
       "zoom": 6
      }
     },
     "7cdf85120acf4dd3a7e23e580681467a": {
      "model_module": "@jupyter-widgets/controls",
      "model_module_version": "1.5.0",
      "model_name": "HTMLModel",
      "state": {
       "layout": "IPY_MODEL_7fc10beeccef459bbc018919fdb1f25a",
       "style": "IPY_MODEL_a746e944480b4c08b3f1656ce8142375",
       "value": "<table border=\"1\" class=\"dataframe table table-striped table-hover table-condensed table-responsive\">\n  <thead>\n    <tr style=\"text-align: right;\">\n      <th></th>\n      <th>55</th>\n    </tr>\n  </thead>\n  <tbody>\n    <tr>\n      <th>Institution</th>\n      <td>Ocean Observatories Initiative (OOI)</td>\n    </tr>\n    <tr>\n      <th>Dataset ID</th>\n      <td>ooi-ce07shsm-mfd37-03-ctdbpc000</td>\n    </tr>\n  </tbody>\n</table>"
      }
     },
     "7d4580ab835c4cbdb3945e6292277793": {
      "model_module": "@jupyter-widgets/base",
      "model_module_version": "1.2.0",
      "model_name": "LayoutModel",
      "state": {}
     },
     "7dd1a7ae090d4f828282ecb16fd60985": {
      "model_module": "@jupyter-widgets/controls",
      "model_module_version": "1.5.0",
      "model_name": "DescriptionStyleModel",
      "state": {
       "description_width": ""
      }
     },
     "7de5c7d2b9aa4b4aaf4fb06f6e7646bd": {
      "model_module": "@jupyter-widgets/controls",
      "model_module_version": "1.5.0",
      "model_name": "DescriptionStyleModel",
      "state": {
       "description_width": ""
      }
     },
     "7e69b6e536344c488a3d9a4203c89a93": {
      "model_module": "@jupyter-widgets/controls",
      "model_module_version": "1.5.0",
      "model_name": "DescriptionStyleModel",
      "state": {
       "description_width": ""
      }
     },
     "7e9b548b672d4dcf9b01a2841a0d500e": {
      "model_module": "@jupyter-widgets/controls",
      "model_module_version": "1.5.0",
      "model_name": "HTMLModel",
      "state": {
       "layout": "IPY_MODEL_c1ed8d6365184a80ba44415b1cdd9b89",
       "style": "IPY_MODEL_7dd1a7ae090d4f828282ecb16fd60985",
       "value": "<table border=\"1\" class=\"dataframe table table-striped table-hover table-condensed table-responsive\">\n  <thead>\n    <tr style=\"text-align: right;\">\n      <th></th>\n      <th>39</th>\n    </tr>\n  </thead>\n  <tbody>\n    <tr>\n      <th>Institution</th>\n      <td>Ocean Observatories Initiative (OOI)</td>\n    </tr>\n    <tr>\n      <th>Dataset ID</th>\n      <td>ooi-ce06issm-sbd17-06-flortd000</td>\n    </tr>\n  </tbody>\n</table>"
      }
     },
     "7f45618d5dc64eb59e9121fbb79e6aa8": {
      "model_module": "@jupyter-widgets/controls",
      "model_module_version": "1.5.0",
      "model_name": "DescriptionStyleModel",
      "state": {
       "description_width": ""
      }
     },
     "7f59196a7bac4b1ea91a9760eec939ac": {
      "model_module": "@jupyter-widgets/controls",
      "model_module_version": "1.5.0",
      "model_name": "DescriptionStyleModel",
      "state": {
       "description_width": ""
      }
     },
     "7f82e46191ef45aaad2f4a3cb26dfb70": {
      "model_module": "@jupyter-widgets/controls",
      "model_module_version": "1.5.0",
      "model_name": "HTMLModel",
      "state": {
       "layout": "IPY_MODEL_1457649d4e634916bc6be0e8c4253231",
       "style": "IPY_MODEL_d39b29ff0adf4773aa02dbf8735d068d",
       "value": "<table border=\"1\" class=\"dataframe table table-striped table-hover table-condensed table-responsive\">\n  <thead>\n    <tr style=\"text-align: right;\">\n      <th></th>\n      <th>50</th>\n    </tr>\n  </thead>\n  <tbody>\n    <tr>\n      <th>Institution</th>\n      <td>Ocean Observatories Initiative (OOI)</td>\n    </tr>\n    <tr>\n      <th>Dataset ID</th>\n      <td>ooi-ce07shsm-rid27-02-flortd000</td>\n    </tr>\n  </tbody>\n</table>"
      }
     },
     "7fc10beeccef459bbc018919fdb1f25a": {
      "model_module": "@jupyter-widgets/base",
      "model_module_version": "1.2.0",
      "model_name": "LayoutModel",
      "state": {}
     },
     "800a67ea27664bda83cfdefe0d1ef348": {
      "model_module": "@jupyter-widgets/base",
      "model_module_version": "1.2.0",
      "model_name": "LayoutModel",
      "state": {}
     },
     "801d3add2f544f148f84c6ce036f6470": {
      "model_module": "jupyter-leaflet",
      "model_module_version": "^0.14.0",
      "model_name": "LeafletAwesomeIconModel",
      "state": {
       "_model_module_version": "^0.14.0",
       "_view_module_version": "^0.14.0",
       "icon_color": "white",
       "marker_color": "orange",
       "name": "life-ring"
      }
     },
     "80254dc72fa34f8abbe2fc760c661b78": {
      "model_module": "@jupyter-widgets/controls",
      "model_module_version": "1.5.0",
      "model_name": "HTMLModel",
      "state": {
       "layout": "IPY_MODEL_0541cce5c15046d0af33033f490e0bd6",
       "style": "IPY_MODEL_0e67f04279714daeb0cc1574c0984fe1",
       "value": "<table border=\"1\" class=\"dataframe table table-striped table-hover table-condensed table-responsive\">\n  <thead>\n    <tr style=\"text-align: right;\">\n      <th></th>\n      <th>60</th>\n    </tr>\n  </thead>\n  <tbody>\n    <tr>\n      <th>Institution</th>\n      <td>Ocean Observatories Initiative (OOI)</td>\n    </tr>\n    <tr>\n      <th>Dataset ID</th>\n      <td>ooi-rs01sbps-pc01a-4c-flordd103</td>\n    </tr>\n  </tbody>\n</table>"
      }
     },
     "80459d08898a4d01baa6014d364f7810": {
      "model_module": "@jupyter-widgets/controls",
      "model_module_version": "1.5.0",
      "model_name": "DescriptionStyleModel",
      "state": {
       "description_width": ""
      }
     },
     "806a5492ae3e40a997971f7621069168": {
      "model_module": "@jupyter-widgets/controls",
      "model_module_version": "1.5.0",
      "model_name": "HTMLModel",
      "state": {
       "layout": "IPY_MODEL_05aa0fbc14e2489eb246a41cf48097f0",
       "style": "IPY_MODEL_c360ba98a8004574a498ac59cb32b8e5",
       "value": "<table border=\"1\" class=\"dataframe table table-striped table-hover table-condensed table-responsive\">\n  <thead>\n    <tr style=\"text-align: right;\">\n      <th></th>\n      <th>76</th>\n    </tr>\n  </thead>\n  <tbody>\n    <tr>\n      <th>Institution</th>\n      <td>Northwest Association of Networked Ocean Observing Systems (NANOOS)</td>\n    </tr>\n    <tr>\n      <th>Dataset ID</th>\n      <td>nanoos_psi_baycenter</td>\n    </tr>\n  </tbody>\n</table>"
      }
     },
     "808ee94f407a47d392fdfae8dfdea1ec": {
      "model_module": "@jupyter-widgets/controls",
      "model_module_version": "1.5.0",
      "model_name": "HTMLModel",
      "state": {
       "layout": "IPY_MODEL_e8349f8adc7548e2adf951f3aceeba8d",
       "style": "IPY_MODEL_5445f490165d438bb3fc93e3b6ccc08d",
       "value": "<table border=\"1\" class=\"dataframe table table-striped table-hover table-condensed table-responsive\">\n  <thead>\n    <tr style=\"text-align: right;\">\n      <th></th>\n      <th>46</th>\n    </tr>\n  </thead>\n  <tbody>\n    <tr>\n      <th>Institution</th>\n      <td>Ocean Observatories Initiative (OOI)</td>\n    </tr>\n    <tr>\n      <th>Dataset ID</th>\n      <td>ooi-ce09ossm-mfd37-03-ctdbpe000</td>\n    </tr>\n  </tbody>\n</table>"
      }
     },
     "809d95734658426ba47c421a06a48a59": {
      "model_module": "jupyter-leaflet",
      "model_module_version": "^0.14.0",
      "model_name": "LeafletMarkerModel",
      "state": {
       "_model_module_version": "^0.14.0",
       "_view_module_version": "^0.14.0",
       "icon": "IPY_MODEL_c609ebe4b19041deb8ec0b11a00af6af",
       "location": [
        44.3695,
        -124.95369
       ],
       "options": [
        "alt",
        "draggable",
        "keyboard",
        "rise_offset",
        "rise_on_hover",
        "rotation_angle",
        "rotation_origin",
        "title",
        "z_index_offset"
       ],
       "popup": "IPY_MODEL_d98dd62bf5514ab1990596527a0fd553"
      }
     },
     "80b60db65e2145aa993e371978a40122": {
      "model_module": "jupyter-leaflet",
      "model_module_version": "^0.14.0",
      "model_name": "LeafletMapStyleModel",
      "state": {
       "_model_module_version": "^0.14.0"
      }
     },
     "80f47157902847ca8b6a0b048c84805b": {
      "model_module": "jupyter-leaflet",
      "model_module_version": "^0.14.0",
      "model_name": "LeafletLegendControlModel",
      "state": {
       "_model_module_version": "^0.14.0",
       "_view_module_version": "^0.14.0",
       "legend": {
        "IOOS": "blue",
        "OOI": "orange"
       },
       "options": [
        "position"
       ],
       "title": "Dataset locations"
      }
     },
     "80fe2357c53d427992e6711e87942cf1": {
      "model_module": "jupyter-leaflet",
      "model_module_version": "^0.14.0",
      "model_name": "LeafletMarkerModel",
      "state": {
       "_model_module_version": "^0.14.0",
       "_view_module_version": "^0.14.0",
       "icon": "IPY_MODEL_42c171052dba47379cfb83a256c45ae9",
       "location": [
        43.3,
        -124.5
       ],
       "options": [
        "alt",
        "draggable",
        "keyboard",
        "rise_offset",
        "rise_on_hover",
        "rotation_angle",
        "rotation_origin",
        "title",
        "z_index_offset"
       ],
       "popup": "IPY_MODEL_5a48434223c4489cb1bf766b36167b94"
      }
     },
     "813f8478dd594bd9856b452d20737369": {
      "model_module": "jupyter-leaflet",
      "model_module_version": "^0.14.0",
      "model_name": "LeafletMarkerModel",
      "state": {
       "_model_module_version": "^0.14.0",
       "_view_module_version": "^0.14.0",
       "icon": "IPY_MODEL_97a0ef5b2758473a9b581fe0d8d140d7",
       "location": [
        44.37868,
        -124.94508
       ],
       "options": [
        "alt",
        "draggable",
        "keyboard",
        "rise_offset",
        "rise_on_hover",
        "rotation_angle",
        "rotation_origin",
        "title",
        "z_index_offset"
       ],
       "popup": "IPY_MODEL_19dc626ed13d4264920616b2ada5714c"
      }
     },
     "814ba44715004949b0525400ea18c69c": {
      "model_module": "jupyter-leaflet",
      "model_module_version": "^0.14.0",
      "model_name": "LeafletMarkerModel",
      "state": {
       "_model_module_version": "^0.14.0",
       "_view_module_version": "^0.14.0",
       "icon": "IPY_MODEL_feff185a530d4b0d8fe72026a85e4dee",
       "location": [
        46.98648,
        -124.56923
       ],
       "options": [
        "alt",
        "draggable",
        "keyboard",
        "rise_offset",
        "rise_on_hover",
        "rotation_angle",
        "rotation_origin",
        "title",
        "z_index_offset"
       ],
       "popup": "IPY_MODEL_ed584080d0bd4ee1a6ef802b35a194d6"
      }
     },
     "81b78669472245cc862fd72caecb99a8": {
      "model_module": "@jupyter-widgets/controls",
      "model_module_version": "1.5.0",
      "model_name": "DescriptionStyleModel",
      "state": {
       "description_width": ""
      }
     },
     "82145410ee8c4b529fcf05bc8826c516": {
      "model_module": "@jupyter-widgets/controls",
      "model_module_version": "1.5.0",
      "model_name": "DescriptionStyleModel",
      "state": {
       "description_width": ""
      }
     },
     "82278555a4a44389b84b2e9fa73cc584": {
      "model_module": "@jupyter-widgets/controls",
      "model_module_version": "1.5.0",
      "model_name": "DescriptionStyleModel",
      "state": {
       "description_width": ""
      }
     },
     "823918740a264972921c308e04548bf5": {
      "model_module": "@jupyter-widgets/base",
      "model_module_version": "1.2.0",
      "model_name": "LayoutModel",
      "state": {}
     },
     "825982649e4e4a1c843902d6e59fb37d": {
      "model_module": "@jupyter-widgets/controls",
      "model_module_version": "1.5.0",
      "model_name": "DescriptionStyleModel",
      "state": {
       "description_width": ""
      }
     },
     "826240ef379d46c382797ef7100075b0": {
      "model_module": "@jupyter-widgets/base",
      "model_module_version": "1.2.0",
      "model_name": "LayoutModel",
      "state": {}
     },
     "829d6e58f34b4df99ff9f09b2396f2a4": {
      "model_module": "@jupyter-widgets/controls",
      "model_module_version": "1.5.0",
      "model_name": "DescriptionStyleModel",
      "state": {
       "description_width": ""
      }
     },
     "8304ea4b20bd4be2bd98709b1c27ad01": {
      "model_module": "jupyter-leaflet",
      "model_module_version": "^0.14.0",
      "model_name": "LeafletAwesomeIconModel",
      "state": {
       "_model_module_version": "^0.14.0",
       "_view_module_version": "^0.14.0",
       "icon_color": "white",
       "marker_color": "orange",
       "name": "life-ring"
      }
     },
     "8343f2ac058c41d2978cd1f808089b3f": {
      "model_module": "@jupyter-widgets/base",
      "model_module_version": "1.2.0",
      "model_name": "LayoutModel",
      "state": {}
     },
     "8369f4231ee24196aef237377b4743cd": {
      "model_module": "@jupyter-widgets/controls",
      "model_module_version": "1.5.0",
      "model_name": "DescriptionStyleModel",
      "state": {
       "description_width": ""
      }
     },
     "839b55975afb4778a1eaae55bbd75008": {
      "model_module": "@jupyter-widgets/controls",
      "model_module_version": "1.5.0",
      "model_name": "DescriptionStyleModel",
      "state": {
       "description_width": ""
      }
     },
     "83f30f62bb5b4b7985ffd25582b27188": {
      "model_module": "@jupyter-widgets/controls",
      "model_module_version": "1.5.0",
      "model_name": "DescriptionStyleModel",
      "state": {
       "description_width": ""
      }
     },
     "84cee63031454c0f920fae09b259fe18": {
      "model_module": "jupyter-leaflet",
      "model_module_version": "^0.14.0",
      "model_name": "LeafletAwesomeIconModel",
      "state": {
       "_model_module_version": "^0.14.0",
       "_view_module_version": "^0.14.0",
       "icon_color": "white",
       "marker_color": "orange",
       "name": "life-ring"
      }
     },
     "852fcde03ae74dd7abe2c102d606c754": {
      "model_module": "@jupyter-widgets/controls",
      "model_module_version": "1.5.0",
      "model_name": "DescriptionStyleModel",
      "state": {
       "description_width": ""
      }
     },
     "85771390d1a6457a9fec8adc224052ca": {
      "model_module": "jupyter-leaflet",
      "model_module_version": "^0.14.0",
      "model_name": "LeafletAwesomeIconModel",
      "state": {
       "_model_module_version": "^0.14.0",
       "_view_module_version": "^0.14.0",
       "icon_color": "white",
       "marker_color": "orange",
       "name": "life-ring"
      }
     },
     "86046bc8b63e4454b75549b2059c1989": {
      "model_module": "@jupyter-widgets/base",
      "model_module_version": "1.2.0",
      "model_name": "LayoutModel",
      "state": {}
     },
     "863d886cb7684dff8c7fb485b6cf99e2": {
      "model_module": "@jupyter-widgets/controls",
      "model_module_version": "1.5.0",
      "model_name": "HTMLModel",
      "state": {
       "layout": "IPY_MODEL_ec4860e4847c41fea4b9acde6b481c8a",
       "style": "IPY_MODEL_47432a07087b4472be403f2abee73744",
       "value": "<table border=\"1\" class=\"dataframe table table-striped table-hover table-condensed table-responsive\">\n  <thead>\n    <tr style=\"text-align: right;\">\n      <th></th>\n      <th>29</th>\n    </tr>\n  </thead>\n  <tbody>\n    <tr>\n      <th>Institution</th>\n      <td>Ocean Observatories Initiative (OOI)</td>\n    </tr>\n    <tr>\n      <th>Dataset ID</th>\n      <td>ooi-ce02shsm-sbd11-06-metbka000</td>\n    </tr>\n  </tbody>\n</table>"
      }
     },
     "86ac57ca7b3d48e89e5f4fea66ad42e8": {
      "model_module": "jupyter-leaflet",
      "model_module_version": "^0.14.0",
      "model_name": "LeafletAwesomeIconModel",
      "state": {
       "_model_module_version": "^0.14.0",
       "_view_module_version": "^0.14.0",
       "icon_color": "white",
       "name": "life-ring"
      }
     },
     "86b37c70d7504eb18486deec86b24728": {
      "model_module": "@jupyter-widgets/controls",
      "model_module_version": "1.5.0",
      "model_name": "DescriptionStyleModel",
      "state": {
       "description_width": ""
      }
     },
     "8720a78c188b4828a689dd952d96656a": {
      "model_module": "@jupyter-widgets/base",
      "model_module_version": "1.2.0",
      "model_name": "LayoutModel",
      "state": {}
     },
     "87544b25b1bc448ab88a35d471461ff2": {
      "model_module": "jupyter-leaflet",
      "model_module_version": "^0.14.0",
      "model_name": "LeafletAwesomeIconModel",
      "state": {
       "_model_module_version": "^0.14.0",
       "_view_module_version": "^0.14.0",
       "icon_color": "white",
       "marker_color": "orange",
       "name": "life-ring"
      }
     },
     "8788f467b9d34702abcbc5af55fccfdd": {
      "model_module": "jupyter-leaflet",
      "model_module_version": "^0.14.0",
      "model_name": "LeafletAwesomeIconModel",
      "state": {
       "_model_module_version": "^0.14.0",
       "_view_module_version": "^0.14.0",
       "icon_color": "white",
       "marker_color": "orange",
       "name": "life-ring"
      }
     },
     "878df87b68e34b2a910a69093914e00e": {
      "model_module": "@jupyter-widgets/controls",
      "model_module_version": "1.5.0",
      "model_name": "HTMLModel",
      "state": {
       "layout": "IPY_MODEL_10328c99bc25485685e23036254d4f9b",
       "style": "IPY_MODEL_5e242b76bdd04dcbbe1b0aa630b1d863",
       "value": "<table border=\"1\" class=\"dataframe table table-striped table-hover table-condensed table-responsive\">\n  <thead>\n    <tr style=\"text-align: right;\">\n      <th></th>\n      <th>5</th>\n    </tr>\n  </thead>\n  <tbody>\n    <tr>\n      <th>Institution</th>\n      <td>Ocean Observatories Initiative (OOI)</td>\n    </tr>\n    <tr>\n      <th>Dataset ID</th>\n      <td>ooi-ce01issm-mfd37-03-ctdbpc000</td>\n    </tr>\n  </tbody>\n</table>"
      }
     },
     "87c33d4063634d1b9ca6e90835b7413a": {
      "model_module": "jupyter-leaflet",
      "model_module_version": "^0.14.0",
      "model_name": "LeafletAwesomeIconModel",
      "state": {
       "_model_module_version": "^0.14.0",
       "_view_module_version": "^0.14.0",
       "icon_color": "white",
       "name": "life-ring"
      }
     },
     "87ce710a10b64eb6be41e13123122b0f": {
      "model_module": "jupyter-leaflet",
      "model_module_version": "^0.14.0",
      "model_name": "LeafletLegendControlModel",
      "state": {
       "_model_module_version": "^0.14.0",
       "_view_module_version": "^0.14.0",
       "legend": {
        "IOOS": "blue",
        "OOI": "orange"
       },
       "options": [
        "position"
       ],
       "title": "Dataset locations"
      }
     },
     "88538f044a184d2eb77b7b7f75ffe36d": {
      "model_module": "jupyter-leaflet",
      "model_module_version": "^0.14.0",
      "model_name": "LeafletAwesomeIconModel",
      "state": {
       "_model_module_version": "^0.14.0",
       "_view_module_version": "^0.14.0",
       "icon_color": "white",
       "name": "life-ring"
      }
     },
     "887b93ae2e6b4e93aaaac5bc665c4664": {
      "model_module": "jupyter-leaflet",
      "model_module_version": "^0.14.0",
      "model_name": "LeafletAwesomeIconModel",
      "state": {
       "_model_module_version": "^0.14.0",
       "_view_module_version": "^0.14.0",
       "icon_color": "white",
       "name": "life-ring"
      }
     },
     "888a007d2984436d96374163434439c8": {
      "model_module": "@jupyter-widgets/base",
      "model_module_version": "1.2.0",
      "model_name": "LayoutModel",
      "state": {}
     },
     "88f47cd799bb4264ac3445fc6793e7d9": {
      "model_module": "jupyter-leaflet",
      "model_module_version": "^0.14.0",
      "model_name": "LeafletAwesomeIconModel",
      "state": {
       "_model_module_version": "^0.14.0",
       "_view_module_version": "^0.14.0",
       "icon_color": "white",
       "marker_color": "orange",
       "name": "life-ring"
      }
     },
     "8900d851f33946489e25f27dd210e59c": {
      "model_module": "@jupyter-widgets/base",
      "model_module_version": "1.2.0",
      "model_name": "LayoutModel",
      "state": {}
     },
     "898b9f55ad074829b3f7fee4d67da81a": {
      "model_module": "@jupyter-widgets/controls",
      "model_module_version": "1.5.0",
      "model_name": "DescriptionStyleModel",
      "state": {
       "description_width": ""
      }
     },
     "89cc5bffc3624b5f913d6d6c7a0d1ee8": {
      "model_module": "@jupyter-widgets/controls",
      "model_module_version": "1.5.0",
      "model_name": "HTMLModel",
      "state": {
       "layout": "IPY_MODEL_e638dcfba0754a1b96a7ebee7655aa2c",
       "style": "IPY_MODEL_83f30f62bb5b4b7985ffd25582b27188",
       "value": "<table border=\"1\" class=\"dataframe table table-striped table-hover table-condensed table-responsive\">\n  <thead>\n    <tr style=\"text-align: right;\">\n      <th></th>\n      <th>41</th>\n    </tr>\n  </thead>\n  <tbody>\n    <tr>\n      <th>Institution</th>\n      <td>Ocean Observatories Initiative (OOI)</td>\n    </tr>\n    <tr>\n      <th>Dataset ID</th>\n      <td>ooi-ce09ossm-rid27-02-flortd000</td>\n    </tr>\n  </tbody>\n</table>"
      }
     },
     "89f69f24f0ad4d84947cb0f1490b1ab5": {
      "model_module": "jupyter-leaflet",
      "model_module_version": "^0.14.0",
      "model_name": "LeafletAwesomeIconModel",
      "state": {
       "_model_module_version": "^0.14.0",
       "_view_module_version": "^0.14.0",
       "icon_color": "white",
       "marker_color": "orange",
       "name": "life-ring"
      }
     },
     "8a63541863554e72b39bfdd39252054c": {
      "model_module": "jupyter-leaflet",
      "model_module_version": "^0.14.0",
      "model_name": "LeafletMarkerModel",
      "state": {
       "_model_module_version": "^0.14.0",
       "_view_module_version": "^0.14.0",
       "icon": "IPY_MODEL_ddc7094b71ea42f396f462a7931339b4",
       "location": [
        44.37415,
        -124.95648
       ],
       "options": [
        "alt",
        "draggable",
        "keyboard",
        "rise_offset",
        "rise_on_hover",
        "rotation_angle",
        "rotation_origin",
        "title",
        "z_index_offset"
       ],
       "popup": "IPY_MODEL_f2ba185c87e74b8aa0c5dbb00286ca1c"
      }
     },
     "8b23a00535f4424abe3f30a4e69ebf8d": {
      "model_module": "@jupyter-widgets/base",
      "model_module_version": "1.2.0",
      "model_name": "LayoutModel",
      "state": {}
     },
     "8b38a20974e040b4bff6325ad947f78e": {
      "model_module": "jupyter-leaflet",
      "model_module_version": "^0.14.0",
      "model_name": "LeafletAwesomeIconModel",
      "state": {
       "_model_module_version": "^0.14.0",
       "_view_module_version": "^0.14.0",
       "icon_color": "white",
       "marker_color": "orange",
       "name": "life-ring"
      }
     },
     "8b7a4acc12d442eb9fc9fb20866d42aa": {
      "model_module": "@jupyter-widgets/base",
      "model_module_version": "1.2.0",
      "model_name": "LayoutModel",
      "state": {}
     },
     "8bb5a5093a8c419bbbaf2b2ab7881459": {
      "model_module": "jupyter-leaflet",
      "model_module_version": "^0.14.0",
      "model_name": "LeafletAwesomeIconModel",
      "state": {
       "_model_module_version": "^0.14.0",
       "_view_module_version": "^0.14.0",
       "icon_color": "white",
       "marker_color": "orange",
       "name": "life-ring"
      }
     },
     "8c16a064bba14cbcac59eb1f0550ace3": {
      "model_module": "@jupyter-widgets/controls",
      "model_module_version": "1.5.0",
      "model_name": "HTMLModel",
      "state": {
       "layout": "IPY_MODEL_3b2ffabac5384e148605395a49058507",
       "style": "IPY_MODEL_b5727cb9df5f4543bb74a6516ed63a57",
       "value": "<table border=\"1\" class=\"dataframe table table-striped table-hover table-condensed table-responsive\">\n  <thead>\n    <tr style=\"text-align: right;\">\n      <th></th>\n      <th>26</th>\n    </tr>\n  </thead>\n  <tbody>\n    <tr>\n      <th>Institution</th>\n      <td>Ocean Observatories Initiative (OOI)</td>\n    </tr>\n    <tr>\n      <th>Dataset ID</th>\n      <td>ooi-ce02shsm-rid27-04-dostad000</td>\n    </tr>\n  </tbody>\n</table>"
      }
     },
     "8c236b0874284473b7f14ec4bec2a09b": {
      "model_module": "@jupyter-widgets/base",
      "model_module_version": "1.2.0",
      "model_name": "LayoutModel",
      "state": {}
     },
     "8c2a441c46714164b532793331644032": {
      "model_module": "@jupyter-widgets/controls",
      "model_module_version": "1.5.0",
      "model_name": "HTMLModel",
      "state": {
       "layout": "IPY_MODEL_3249185ca3b246d8abe99bf9b609783f",
       "style": "IPY_MODEL_e630170b796e437391a0fe3c826b7320",
       "value": "<table border=\"1\" class=\"dataframe table table-striped table-hover table-condensed table-responsive\">\n  <thead>\n    <tr style=\"text-align: right;\">\n      <th></th>\n      <th>73</th>\n    </tr>\n  </thead>\n  <tbody>\n    <tr>\n      <th>Institution</th>\n      <td>NOAA Pacific Marine Environmental Lab (PMEL)</td>\n    </tr>\n    <tr>\n      <th>Dataset ID</th>\n      <td>coos-bay-historic-co2</td>\n    </tr>\n  </tbody>\n</table>"
      }
     },
     "8c47882169cb433184eb6948a6139953": {
      "model_module": "@jupyter-widgets/controls",
      "model_module_version": "1.5.0",
      "model_name": "HTMLModel",
      "state": {
       "layout": "IPY_MODEL_61f73178635b4f0ba482e1a2b9c5e0a9",
       "style": "IPY_MODEL_e9c0fa7e443646ca8915c55bbe110704",
       "value": "<table border=\"1\" class=\"dataframe table table-striped table-hover table-condensed table-responsive\">\n  <thead>\n    <tr style=\"text-align: right;\">\n      <th></th>\n      <th>65</th>\n    </tr>\n  </thead>\n  <tbody>\n    <tr>\n      <th>Institution</th>\n      <td>Observing System Monitoring Center (OSMC)</td>\n    </tr>\n    <tr>\n      <th>Dataset ID</th>\n      <td>osmc_46098</td>\n    </tr>\n  </tbody>\n</table>"
      }
     },
     "8c5181a4a3624d2d8bdeff953aad7152": {
      "model_module": "@jupyter-widgets/controls",
      "model_module_version": "1.5.0",
      "model_name": "HTMLModel",
      "state": {
       "layout": "IPY_MODEL_fe5f3fbfa110468da8531ad99e194c16",
       "style": "IPY_MODEL_b80dfb7b6d3d45fdbbca1b38ec8273b7",
       "value": "<table border=\"1\" class=\"dataframe table table-striped table-hover table-condensed table-responsive\">\n  <thead>\n    <tr style=\"text-align: right;\">\n      <th></th>\n      <th>79</th>\n    </tr>\n  </thead>\n  <tbody>\n    <tr>\n      <th>Institution</th>\n      <td>Center for Coastal Margin Observation &amp; Prediction</td>\n    </tr>\n    <tr>\n      <th>Dataset ID</th>\n      <td>org_cmop_seto3</td>\n    </tr>\n  </tbody>\n</table>"
      }
     },
     "8ca227214eb7454f96a38d5f8ed3412d": {
      "model_module": "@jupyter-widgets/base",
      "model_module_version": "1.2.0",
      "model_name": "LayoutModel",
      "state": {}
     },
     "8cbacb9c308843e480a38e5d8eb7a4c6": {
      "model_module": "@jupyter-widgets/controls",
      "model_module_version": "1.5.0",
      "model_name": "HTMLModel",
      "state": {
       "layout": "IPY_MODEL_d846024cc6bf4529910ea35f45fada30",
       "style": "IPY_MODEL_c79af96477f342509b5fb05c6eacdf8a",
       "value": "<table border=\"1\" class=\"dataframe table table-striped table-hover table-condensed table-responsive\">\n  <thead>\n    <tr style=\"text-align: right;\">\n      <th></th>\n      <th>61</th>\n    </tr>\n  </thead>\n  <tbody>\n    <tr>\n      <th>Institution</th>\n      <td>Ocean Observatories Initiative (OOI)</td>\n    </tr>\n    <tr>\n      <th>Dataset ID</th>\n      <td>ooi-rs01sbps-pc01a-4a-ctdpfa103</td>\n    </tr>\n  </tbody>\n</table>"
      }
     },
     "8ce98a776fb045149a9e25b94f6073f1": {
      "model_module": "@jupyter-widgets/base",
      "model_module_version": "1.2.0",
      "model_name": "LayoutModel",
      "state": {}
     },
     "8d23746b742b4d3aa633a57473ef5d85": {
      "model_module": "jupyter-leaflet",
      "model_module_version": "^0.14.0",
      "model_name": "LeafletAwesomeIconModel",
      "state": {
       "_model_module_version": "^0.14.0",
       "_view_module_version": "^0.14.0",
       "icon_color": "white",
       "marker_color": "orange",
       "name": "life-ring"
      }
     },
     "8d52e478ee004bbaa6ea38582cf79955": {
      "model_module": "@jupyter-widgets/base",
      "model_module_version": "1.2.0",
      "model_name": "LayoutModel",
      "state": {}
     },
     "8d79568154bb4ab38f093af1d5c849bb": {
      "model_module": "jupyter-leaflet",
      "model_module_version": "^0.14.0",
      "model_name": "LeafletMarkerModel",
      "state": {
       "_model_module_version": "^0.14.0",
       "_view_module_version": "^0.14.0",
       "icon": "IPY_MODEL_b03f107814e744aba79a611edffdd2e5",
       "location": [
        44.52897,
        -125.38966
       ],
       "options": [
        "alt",
        "draggable",
        "keyboard",
        "rise_offset",
        "rise_on_hover",
        "rotation_angle",
        "rotation_origin",
        "title",
        "z_index_offset"
       ],
       "popup": "IPY_MODEL_3fdc53b403e84d76b7ebc5337a667a81"
      }
     },
     "8dbb1d500af242e3a8ad69f4bbbf7055": {
      "model_module": "jupyter-leaflet",
      "model_module_version": "^0.14.0",
      "model_name": "LeafletMarkerModel",
      "state": {
       "_model_module_version": "^0.14.0",
       "_view_module_version": "^0.14.0",
       "icon": "IPY_MODEL_73984a17f70e421ca70f29d19f888682",
       "location": [
        46.98648,
        -124.56923
       ],
       "options": [
        "alt",
        "draggable",
        "keyboard",
        "rise_offset",
        "rise_on_hover",
        "rotation_angle",
        "rotation_origin",
        "title",
        "z_index_offset"
       ],
       "popup": "IPY_MODEL_123e0a6356024816856dcd6b99c7e4ea"
      }
     },
     "8dc712f8e26b4743b13a150a7c39c77b": {
      "model_module": "@jupyter-widgets/base",
      "model_module_version": "1.2.0",
      "model_name": "LayoutModel",
      "state": {}
     },
     "8dd12761647a465783339cee08532a79": {
      "model_module": "jupyter-leaflet",
      "model_module_version": "^0.14.0",
      "model_name": "LeafletAwesomeIconModel",
      "state": {
       "_model_module_version": "^0.14.0",
       "_view_module_version": "^0.14.0",
       "icon_color": "white",
       "name": "life-ring"
      }
     },
     "8e2222f65f224c1fba0997406b1dead5": {
      "model_module": "@jupyter-widgets/controls",
      "model_module_version": "1.5.0",
      "model_name": "HTMLModel",
      "state": {
       "layout": "IPY_MODEL_cd72b22a7e674ae3819e7a6de0239be4",
       "style": "IPY_MODEL_224d6b93c8bc42d3baebb73c30a808fc",
       "value": "<table border=\"1\" class=\"dataframe table table-striped table-hover table-condensed table-responsive\">\n  <thead>\n    <tr style=\"text-align: right;\">\n      <th></th>\n      <th>80</th>\n    </tr>\n  </thead>\n  <tbody>\n    <tr>\n      <th>Institution</th>\n      <td>Northwest Association of Networked Ocean Observing Systems (NANOOS)</td>\n    </tr>\n    <tr>\n      <th>Dataset ID</th>\n      <td>nanoos_wcsh_whiskey1</td>\n    </tr>\n  </tbody>\n</table>"
      }
     },
     "8e38c8a44aeb49e78293a756d4b3c521": {
      "model_module": "jupyter-leaflet",
      "model_module_version": "^0.14.0",
      "model_name": "LeafletAwesomeIconModel",
      "state": {
       "_model_module_version": "^0.14.0",
       "_view_module_version": "^0.14.0",
       "icon_color": "white",
       "name": "life-ring"
      }
     },
     "8ec062ba1a304b81b14ae4c495d7af85": {
      "model_module": "@jupyter-widgets/controls",
      "model_module_version": "1.5.0",
      "model_name": "DescriptionStyleModel",
      "state": {
       "description_width": ""
      }
     },
     "8ec537e5ac45484e9c82d331531aa751": {
      "model_module": "jupyter-leaflet",
      "model_module_version": "^0.14.0",
      "model_name": "LeafletAwesomeIconModel",
      "state": {
       "_model_module_version": "^0.14.0",
       "_view_module_version": "^0.14.0",
       "icon_color": "white",
       "marker_color": "orange",
       "name": "life-ring"
      }
     },
     "8ed1de1d3824445ebd074eeaf0d7279c": {
      "model_module": "@jupyter-widgets/base",
      "model_module_version": "1.2.0",
      "model_name": "LayoutModel",
      "state": {}
     },
     "8eea9f9f814643038b3814ab8671a16e": {
      "model_module": "jupyter-leaflet",
      "model_module_version": "^0.14.0",
      "model_name": "LeafletMarkerModel",
      "state": {
       "_model_module_version": "^0.14.0",
       "_view_module_version": "^0.14.0",
       "icon": "IPY_MODEL_1e9a7ee8c4d14c829ec0d4933a3c9b6b",
       "location": [
        44.37415,
        -124.95648
       ],
       "options": [
        "alt",
        "draggable",
        "keyboard",
        "rise_offset",
        "rise_on_hover",
        "rotation_angle",
        "rotation_origin",
        "title",
        "z_index_offset"
       ],
       "popup": "IPY_MODEL_5e904f3ea3a944a6af7c389df8503509"
      }
     },
     "8f0d8909d3cf40e4b1fee7b1cfbf399e": {
      "model_module": "@jupyter-widgets/controls",
      "model_module_version": "1.5.0",
      "model_name": "DescriptionStyleModel",
      "state": {
       "description_width": ""
      }
     },
     "8f101794af994536b467a2bea3e56233": {
      "model_module": "jupyter-leaflet",
      "model_module_version": "^0.14.0",
      "model_name": "LeafletAwesomeIconModel",
      "state": {
       "_model_module_version": "^0.14.0",
       "_view_module_version": "^0.14.0",
       "icon_color": "white",
       "marker_color": "orange",
       "name": "life-ring"
      }
     },
     "8f3e245cd2e7460682785e398bdac883": {
      "model_module": "jupyter-leaflet",
      "model_module_version": "^0.14.0",
      "model_name": "LeafletMarkerModel",
      "state": {
       "_model_module_version": "^0.14.0",
       "_view_module_version": "^0.14.0",
       "icon": "IPY_MODEL_e98dbb22729a4bafb2b6c7a18f386778",
       "location": [
        44.52897,
        -125.38966
       ],
       "options": [
        "alt",
        "draggable",
        "keyboard",
        "rise_offset",
        "rise_on_hover",
        "rotation_angle",
        "rotation_origin",
        "title",
        "z_index_offset"
       ],
       "popup": "IPY_MODEL_8cbacb9c308843e480a38e5d8eb7a4c6"
      }
     },
     "8f80fdd19dd146c0bd02540052e1931d": {
      "model_module": "@jupyter-widgets/controls",
      "model_module_version": "1.5.0",
      "model_name": "DescriptionStyleModel",
      "state": {
       "description_width": ""
      }
     },
     "90024615fcdf4c91bfc9ad160f96a803": {
      "model_module": "@jupyter-widgets/controls",
      "model_module_version": "1.5.0",
      "model_name": "DescriptionStyleModel",
      "state": {
       "description_width": ""
      }
     },
     "901140238f884719973289f762a7ed1f": {
      "model_module": "jupyter-leaflet",
      "model_module_version": "^0.14.0",
      "model_name": "LeafletAwesomeIconModel",
      "state": {
       "_model_module_version": "^0.14.0",
       "_view_module_version": "^0.14.0",
       "icon_color": "white",
       "marker_color": "orange",
       "name": "life-ring"
      }
     },
     "901ebcb74fe940be8d825a330b2488c3": {
      "model_module": "jupyter-leaflet",
      "model_module_version": "^0.14.0",
      "model_name": "LeafletMapStyleModel",
      "state": {
       "_model_module_version": "^0.14.0",
       "cursor": "move"
      }
     },
     "902d820edf424c95a1ed4a4dc0c21adf": {
      "model_module": "jupyter-leaflet",
      "model_module_version": "^0.14.0",
      "model_name": "LeafletMarkerModel",
      "state": {
       "_model_module_version": "^0.14.0",
       "_view_module_version": "^0.14.0",
       "icon": "IPY_MODEL_49f1e67ba4f24b1eaab8bb163a399af6",
       "location": [
        44.65678,
        -124.09707
       ],
       "options": [
        "alt",
        "draggable",
        "keyboard",
        "rise_offset",
        "rise_on_hover",
        "rotation_angle",
        "rotation_origin",
        "title",
        "z_index_offset"
       ],
       "popup": "IPY_MODEL_53cb1a2a36b849e1861f9842faf59806"
      }
     },
     "902eacf0697644a29e75c7be77fdf77e": {
      "model_module": "@jupyter-widgets/controls",
      "model_module_version": "1.5.0",
      "model_name": "DescriptionStyleModel",
      "state": {
       "description_width": ""
      }
     },
     "90a718b2abc84d6e905c3f600dac8412": {
      "model_module": "@jupyter-widgets/base",
      "model_module_version": "1.2.0",
      "model_name": "LayoutModel",
      "state": {}
     },
     "90f0cc9c7ca049d19371ff06c36906e5": {
      "model_module": "@jupyter-widgets/base",
      "model_module_version": "1.2.0",
      "model_name": "LayoutModel",
      "state": {}
     },
     "911a75cb1001444f9a5f741e4047f9af": {
      "model_module": "@jupyter-widgets/base",
      "model_module_version": "1.2.0",
      "model_name": "LayoutModel",
      "state": {}
     },
     "915df511e8a3498ba9d7b10e0978e579": {
      "model_module": "jupyter-leaflet",
      "model_module_version": "^0.14.0",
      "model_name": "LeafletMarkerModel",
      "state": {
       "_model_module_version": "^0.14.0",
       "_view_module_version": "^0.14.0",
       "icon": "IPY_MODEL_2f4c73dcd86641588c0e28cd6cbc4f8f",
       "location": [
        46.6290016174316,
        -123.951599121094
       ],
       "options": [
        "alt",
        "draggable",
        "keyboard",
        "rise_offset",
        "rise_on_hover",
        "rotation_angle",
        "rotation_origin",
        "title",
        "z_index_offset"
       ],
       "popup": "IPY_MODEL_1cb8fea6461a4ecb9e41aac5ad6f10f9"
      }
     },
     "91808b5319c84b1aa04db380ff6ea2c7": {
      "model_module": "jupyter-leaflet",
      "model_module_version": "^0.14.0",
      "model_name": "LeafletAwesomeIconModel",
      "state": {
       "_model_module_version": "^0.14.0",
       "_view_module_version": "^0.14.0",
       "icon_color": "white",
       "name": "life-ring"
      }
     },
     "91ab87f5d1bf4cbd97d633886cb5d47a": {
      "model_module": "@jupyter-widgets/controls",
      "model_module_version": "1.5.0",
      "model_name": "HTMLModel",
      "state": {
       "layout": "IPY_MODEL_9f4e76b467bf41469231543a4a4acb09",
       "style": "IPY_MODEL_cbc1ae8c4df74ec9a36eccc55ae98dde",
       "value": "<table border=\"1\" class=\"dataframe table table-striped table-hover table-condensed table-responsive\">\n  <thead>\n    <tr style=\"text-align: right;\">\n      <th></th>\n      <th>54</th>\n    </tr>\n  </thead>\n  <tbody>\n    <tr>\n      <th>Institution</th>\n      <td>Ocean Observatories Initiative (OOI)</td>\n    </tr>\n    <tr>\n      <th>Dataset ID</th>\n      <td>ooi-ce07shsm-rid26-06-phsend000</td>\n    </tr>\n  </tbody>\n</table>"
      }
     },
     "91e1dc5a9c414da085f7c7a6ad3e6d22": {
      "model_module": "@jupyter-widgets/controls",
      "model_module_version": "1.5.0",
      "model_name": "HTMLModel",
      "state": {
       "layout": "IPY_MODEL_e7cce1a56e54407a959b5f99643cb981",
       "style": "IPY_MODEL_66fdc0d5caa040cd879b40903bba5d84",
       "value": "<table border=\"1\" class=\"dataframe table table-striped table-hover table-condensed table-responsive\">\n  <thead>\n    <tr style=\"text-align: right;\">\n      <th></th>\n      <th>67</th>\n    </tr>\n  </thead>\n  <tbody>\n    <tr>\n      <th>Institution</th>\n      <td>Observing System Monitoring Center (OSMC)</td>\n    </tr>\n    <tr>\n      <th>Dataset ID</th>\n      <td>osmc_46100</td>\n    </tr>\n  </tbody>\n</table>"
      }
     },
     "91f3f9b8a0ab417b9872ff849a26e75c": {
      "model_module": "jupyter-leaflet",
      "model_module_version": "^0.14.0",
      "model_name": "LeafletAwesomeIconModel",
      "state": {
       "_model_module_version": "^0.14.0",
       "_view_module_version": "^0.14.0",
       "icon_color": "white",
       "marker_color": "orange",
       "name": "life-ring"
      }
     },
     "926a75beba404f8b9d5e3aa83a5241b2": {
      "model_module": "jupyter-leaflet",
      "model_module_version": "^0.14.0",
      "model_name": "LeafletAwesomeIconModel",
      "state": {
       "_model_module_version": "^0.14.0",
       "_view_module_version": "^0.14.0",
       "icon_color": "white",
       "name": "life-ring"
      }
     },
     "932fd53089e04a30a6e9ab9167371a64": {
      "model_module": "jupyter-leaflet",
      "model_module_version": "^0.14.0",
      "model_name": "LeafletMarkerModel",
      "state": {
       "_model_module_version": "^0.14.0",
       "_view_module_version": "^0.14.0",
       "icon": "IPY_MODEL_ec83e34ca5064535a9358af1d24038dd",
       "location": [
        45.4213981628418,
        -123.93620300293
       ],
       "options": [
        "alt",
        "draggable",
        "keyboard",
        "rise_offset",
        "rise_on_hover",
        "rotation_angle",
        "rotation_origin",
        "title",
        "z_index_offset"
       ],
       "popup": "IPY_MODEL_8e2222f65f224c1fba0997406b1dead5"
      }
     },
     "93bcb5ae90894b8a9825a3c1382ee319": {
      "model_module": "@jupyter-widgets/controls",
      "model_module_version": "1.5.0",
      "model_name": "HTMLModel",
      "state": {
       "layout": "IPY_MODEL_8b7a4acc12d442eb9fc9fb20866d42aa",
       "style": "IPY_MODEL_affdf025f1f048c58e76fc51bb55176d",
       "value": "<table border=\"1\" class=\"dataframe table table-striped table-hover table-condensed table-responsive\">\n  <thead>\n    <tr style=\"text-align: right;\">\n      <th></th>\n      <th>38</th>\n    </tr>\n  </thead>\n  <tbody>\n    <tr>\n      <th>Institution</th>\n      <td>Ocean Observatories Initiative (OOI)</td>\n    </tr>\n    <tr>\n      <th>Dataset ID</th>\n      <td>ooi-ce06issm-mfd35-06-phsend000</td>\n    </tr>\n  </tbody>\n</table>"
      }
     },
     "93dcf8b8bcf941cba0968cc30405c84d": {
      "model_module": "@jupyter-widgets/controls",
      "model_module_version": "1.5.0",
      "model_name": "DescriptionStyleModel",
      "state": {
       "description_width": ""
      }
     },
     "940bf2c794994bf9aa70146853e38e2e": {
      "model_module": "@jupyter-widgets/controls",
      "model_module_version": "1.5.0",
      "model_name": "DescriptionStyleModel",
      "state": {
       "description_width": ""
      }
     },
     "940f7246c72d4158bb220ee55a73d48a": {
      "model_module": "@jupyter-widgets/controls",
      "model_module_version": "1.5.0",
      "model_name": "DescriptionStyleModel",
      "state": {
       "description_width": ""
      }
     },
     "943b851d85df444f884cef3082da0b6f": {
      "model_module": "jupyter-leaflet",
      "model_module_version": "^0.14.0",
      "model_name": "LeafletMarkerModel",
      "state": {
       "_model_module_version": "^0.14.0",
       "_view_module_version": "^0.14.0",
       "icon": "IPY_MODEL_1410619d1c17434197fb34ea3dcef4c2",
       "location": [
        47.97,
        -124.95
       ],
       "options": [
        "alt",
        "draggable",
        "keyboard",
        "rise_offset",
        "rise_on_hover",
        "rotation_angle",
        "rotation_origin",
        "title",
        "z_index_offset"
       ],
       "popup": "IPY_MODEL_5b1aa16226fe4fcfb451ce79e36c9618"
      }
     },
     "9455dd22955645b682c30d69c2e1761a": {
      "model_module": "jupyter-leaflet",
      "model_module_version": "^0.14.0",
      "model_name": "LeafletMarkerModel",
      "state": {
       "_model_module_version": "^0.14.0",
       "_view_module_version": "^0.14.0",
       "icon": "IPY_MODEL_8bb5a5093a8c419bbbaf2b2ab7881459",
       "location": [
        46.98648,
        -124.56923
       ],
       "options": [
        "alt",
        "draggable",
        "keyboard",
        "rise_offset",
        "rise_on_hover",
        "rotation_angle",
        "rotation_origin",
        "title",
        "z_index_offset"
       ],
       "popup": "IPY_MODEL_e7eaece9b9b24aa6acbc09f170f1d07c"
      }
     },
     "9480d76e076847f2b8903b6f24514a35": {
      "model_module": "jupyter-leaflet",
      "model_module_version": "^0.14.0",
      "model_name": "LeafletMapStyleModel",
      "state": {
       "_model_module_version": "^0.14.0"
      }
     },
     "94f9b5845c244c0380dd14e46491cab1": {
      "model_module": "jupyter-leaflet",
      "model_module_version": "^0.14.0",
      "model_name": "LeafletMarkerModel",
      "state": {
       "_model_module_version": "^0.14.0",
       "_view_module_version": "^0.14.0",
       "icon": "IPY_MODEL_c12aef9853af4ca5a4fe767ce69b2a33",
       "location": [
        46.85367,
        -124.95935
       ],
       "options": [
        "alt",
        "draggable",
        "keyboard",
        "rise_offset",
        "rise_on_hover",
        "rotation_angle",
        "rotation_origin",
        "title",
        "z_index_offset"
       ],
       "popup": "IPY_MODEL_1bce22da206844098b292d623fa3e7a4"
      }
     },
     "950b01cf5ceb41bb984e1ed9a0f03829": {
      "model_module": "@jupyter-widgets/controls",
      "model_module_version": "1.5.0",
      "model_name": "DescriptionStyleModel",
      "state": {
       "description_width": ""
      }
     },
     "953818ecbad44818b5abec3ddf9e9098": {
      "model_module": "@jupyter-widgets/controls",
      "model_module_version": "1.5.0",
      "model_name": "DescriptionStyleModel",
      "state": {
       "description_width": ""
      }
     },
     "95cf9181045042b59e20f5707f16ce46": {
      "model_module": "@jupyter-widgets/controls",
      "model_module_version": "1.5.0",
      "model_name": "DescriptionStyleModel",
      "state": {
       "description_width": ""
      }
     },
     "96e58286ff724a0db9eef00ac8763f3b": {
      "model_module": "jupyter-leaflet",
      "model_module_version": "^0.14.0",
      "model_name": "LeafletMarkerModel",
      "state": {
       "_model_module_version": "^0.14.0",
       "_view_module_version": "^0.14.0",
       "icon": "IPY_MODEL_bf5e64e8faab46b8acb0005a31f0f0ee",
       "location": [
        44.63577,
        -124.3035
       ],
       "options": [
        "alt",
        "draggable",
        "keyboard",
        "rise_offset",
        "rise_on_hover",
        "rotation_angle",
        "rotation_origin",
        "title",
        "z_index_offset"
       ],
       "popup": "IPY_MODEL_5b33f264c7cf4c4eaca9a4ac10609c2c"
      }
     },
     "9751b8a6d848425f866101c59d9f2797": {
      "model_module": "@jupyter-widgets/controls",
      "model_module_version": "1.5.0",
      "model_name": "DescriptionStyleModel",
      "state": {
       "description_width": ""
      }
     },
     "97576398babb4c4f929c1a226195e145": {
      "model_module": "jupyter-leaflet",
      "model_module_version": "^0.14.0",
      "model_name": "LeafletAwesomeIconModel",
      "state": {
       "_model_module_version": "^0.14.0",
       "_view_module_version": "^0.14.0",
       "icon_color": "white",
       "marker_color": "orange",
       "name": "life-ring"
      }
     },
     "97812b649e004dd9a6f2c4ac02590f22": {
      "model_module": "jupyter-leaflet",
      "model_module_version": "^0.14.0",
      "model_name": "LeafletAwesomeIconModel",
      "state": {
       "_model_module_version": "^0.14.0",
       "_view_module_version": "^0.14.0",
       "icon_color": "white",
       "name": "life-ring"
      }
     },
     "979cdafdeb814d21b0740c4c886d109d": {
      "model_module": "@jupyter-widgets/base",
      "model_module_version": "1.2.0",
      "model_name": "LayoutModel",
      "state": {}
     },
     "979d6abf076f4eed8d7dfde659b1abb5": {
      "model_module": "jupyter-leaflet",
      "model_module_version": "^0.14.0",
      "model_name": "LeafletAwesomeIconModel",
      "state": {
       "_model_module_version": "^0.14.0",
       "_view_module_version": "^0.14.0",
       "icon_color": "white",
       "marker_color": "orange",
       "name": "life-ring"
      }
     },
     "979f62ac97014357aa68366c12a31c0b": {
      "model_module": "@jupyter-widgets/base",
      "model_module_version": "1.2.0",
      "model_name": "LayoutModel",
      "state": {}
     },
     "97a0ef5b2758473a9b581fe0d8d140d7": {
      "model_module": "jupyter-leaflet",
      "model_module_version": "^0.14.0",
      "model_name": "LeafletAwesomeIconModel",
      "state": {
       "_model_module_version": "^0.14.0",
       "_view_module_version": "^0.14.0",
       "icon_color": "white",
       "marker_color": "orange",
       "name": "life-ring"
      }
     },
     "97bf2530603b4c91b68393cb675794e4": {
      "model_module": "@jupyter-widgets/controls",
      "model_module_version": "1.5.0",
      "model_name": "DescriptionStyleModel",
      "state": {
       "description_width": ""
      }
     },
     "97e48348a37f473d962a6f7b0fbd18fc": {
      "model_module": "@jupyter-widgets/base",
      "model_module_version": "1.2.0",
      "model_name": "LayoutModel",
      "state": {}
     },
     "9801edd05d394c2385988c835d0eed2a": {
      "model_module": "jupyter-leaflet",
      "model_module_version": "^0.14.0",
      "model_name": "LeafletAwesomeIconModel",
      "state": {
       "_model_module_version": "^0.14.0",
       "_view_module_version": "^0.14.0",
       "icon_color": "white",
       "marker_color": "orange",
       "name": "life-ring"
      }
     },
     "9883f3fbae234bfa8e3351030097e233": {
      "model_module": "@jupyter-widgets/controls",
      "model_module_version": "1.5.0",
      "model_name": "HTMLModel",
      "state": {
       "layout": "IPY_MODEL_dafa041288964e4e8162f9afc30efd32",
       "style": "IPY_MODEL_aaf865648efb4a48ac390bc65ef72cc2",
       "value": "<table border=\"1\" class=\"dataframe table table-striped table-hover table-condensed table-responsive\">\n  <thead>\n    <tr style=\"text-align: right;\">\n      <th></th>\n      <th>64</th>\n    </tr>\n  </thead>\n  <tbody>\n    <tr>\n      <th>Institution</th>\n      <td>Observing System Monitoring Center (OSMC)</td>\n    </tr>\n    <tr>\n      <th>Dataset ID</th>\n      <td>osmc_46097</td>\n    </tr>\n  </tbody>\n</table>"
      }
     },
     "98b68eea50114bdc9581fe5f971240f8": {
      "model_module": "@jupyter-widgets/controls",
      "model_module_version": "1.5.0",
      "model_name": "HTMLModel",
      "state": {
       "layout": "IPY_MODEL_03033c8aae4742be909c315f76789bf8",
       "style": "IPY_MODEL_15a3310eb53d4d469ffd560082d1ad5a",
       "value": "<table border=\"1\" class=\"dataframe table table-striped table-hover table-condensed table-responsive\">\n  <thead>\n    <tr style=\"text-align: right;\">\n      <th></th>\n      <th>8</th>\n    </tr>\n  </thead>\n  <tbody>\n    <tr>\n      <th>Institution</th>\n      <td>Ocean Observatories Initiative (OOI)</td>\n    </tr>\n    <tr>\n      <th>Dataset ID</th>\n      <td>ooi-ce01issm-sbd17-06-flortd000</td>\n    </tr>\n  </tbody>\n</table>"
      }
     },
     "98ba8dd16d50429a977a4a6ed75b4be1": {
      "model_module": "jupyter-leaflet",
      "model_module_version": "^0.14.0",
      "model_name": "LeafletMarkerModel",
      "state": {
       "_model_module_version": "^0.14.0",
       "_view_module_version": "^0.14.0",
       "icon": "IPY_MODEL_c86e2fb4e765400e8dce963518421041",
       "location": [
        47.1345,
        -124.27087
       ],
       "options": [
        "alt",
        "draggable",
        "keyboard",
        "rise_offset",
        "rise_on_hover",
        "rotation_angle",
        "rotation_origin",
        "title",
        "z_index_offset"
       ],
       "popup": "IPY_MODEL_a2e99eacf8824c219faa3c471d35c99e"
      }
     },
     "98d0ce373f0040e89c6e02d79b3cffc5": {
      "model_module": "jupyter-leaflet",
      "model_module_version": "^0.14.0",
      "model_name": "LeafletAwesomeIconModel",
      "state": {
       "_model_module_version": "^0.14.0",
       "_view_module_version": "^0.14.0",
       "icon_color": "white",
       "marker_color": "orange",
       "name": "life-ring"
      }
     },
     "992d87b4e36f4c3abfe7ecff4c38a461": {
      "model_module": "jupyter-leaflet",
      "model_module_version": "^0.14.0",
      "model_name": "LeafletMarkerModel",
      "state": {
       "_model_module_version": "^0.14.0",
       "_view_module_version": "^0.14.0",
       "icon": "IPY_MODEL_9cfae4a03dd943b68e59a4bdba27b21e",
       "location": [
        46.85367,
        -124.95935
       ],
       "options": [
        "alt",
        "draggable",
        "keyboard",
        "rise_offset",
        "rise_on_hover",
        "rotation_angle",
        "rotation_origin",
        "title",
        "z_index_offset"
       ],
       "popup": "IPY_MODEL_faf0ffcf5b944ebdb8eb9b68459c2cb1"
      }
     },
     "996380df00fc4c35ba53a55741bb4b91": {
      "model_module": "@jupyter-widgets/controls",
      "model_module_version": "1.5.0",
      "model_name": "HTMLModel",
      "state": {
       "layout": "IPY_MODEL_3e3d1ec43f4b4c9eb0e4a96edabe75ce",
       "style": "IPY_MODEL_434210d8d9df4d8c9f821c1f5c88f219",
       "value": "<table border=\"1\" class=\"dataframe table table-striped table-hover table-condensed table-responsive\">\n  <thead>\n    <tr style=\"text-align: right;\">\n      <th></th>\n      <th>6</th>\n    </tr>\n  </thead>\n  <tbody>\n    <tr>\n      <th>Institution</th>\n      <td>Ocean Observatories Initiative (OOI)</td>\n    </tr>\n    <tr>\n      <th>Dataset ID</th>\n      <td>ooi-ce01issm-mfd37-03-dostad000</td>\n    </tr>\n  </tbody>\n</table>"
      }
     },
     "99938366c7b14768992514366c42412a": {
      "model_module": "jupyter-leaflet",
      "model_module_version": "^0.14.0",
      "model_name": "LeafletMarkerModel",
      "state": {
       "_model_module_version": "^0.14.0",
       "_view_module_version": "^0.14.0",
       "icon": "IPY_MODEL_7a36a0ca395e4264b3e7a47ecb8b8c78",
       "location": [
        46.98648,
        -124.56923
       ],
       "options": [
        "alt",
        "draggable",
        "keyboard",
        "rise_offset",
        "rise_on_hover",
        "rotation_angle",
        "rotation_origin",
        "title",
        "z_index_offset"
       ],
       "popup": "IPY_MODEL_547daa0240f3445195e1aa10ee553ec7"
      }
     },
     "9997964c386a4da38e2e37f991b87daa": {
      "model_module": "@jupyter-widgets/controls",
      "model_module_version": "1.5.0",
      "model_name": "HTMLModel",
      "state": {
       "layout": "IPY_MODEL_0694e07cbee6497b96947a559aa20d9c",
       "style": "IPY_MODEL_cee856d9327246f1bbd5bbdf84e879d5",
       "value": "<table border=\"1\" class=\"dataframe table table-striped table-hover table-condensed table-responsive\">\n  <thead>\n    <tr style=\"text-align: right;\">\n      <th></th>\n      <th>9</th>\n    </tr>\n  </thead>\n  <tbody>\n    <tr>\n      <th>Institution</th>\n      <td>Ocean Observatories Initiative (OOI)</td>\n    </tr>\n    <tr>\n      <th>Dataset ID</th>\n      <td>ooi-ce01issm-sbd17-06-ctdbpc000</td>\n    </tr>\n  </tbody>\n</table>"
      }
     },
     "99a2e774820947e08a3c0f7d39eaaa80": {
      "model_module": "@jupyter-widgets/base",
      "model_module_version": "1.2.0",
      "model_name": "LayoutModel",
      "state": {}
     },
     "99eabbc34ca846debb5374663f09c4ac": {
      "model_module": "jupyter-leaflet",
      "model_module_version": "^0.14.0",
      "model_name": "LeafletAwesomeIconModel",
      "state": {
       "_model_module_version": "^0.14.0",
       "_view_module_version": "^0.14.0",
       "icon_color": "white",
       "marker_color": "orange",
       "name": "life-ring"
      }
     },
     "99fe8beb1a1a4400a3d75785fd910ac9": {
      "model_module": "@jupyter-widgets/base",
      "model_module_version": "1.2.0",
      "model_name": "LayoutModel",
      "state": {}
     },
     "9a8715a7630a4064b7b66d3e900438b3": {
      "model_module": "@jupyter-widgets/controls",
      "model_module_version": "1.5.0",
      "model_name": "HTMLModel",
      "state": {
       "layout": "IPY_MODEL_86046bc8b63e4454b75549b2059c1989",
       "style": "IPY_MODEL_bd08aabf9b47460aacc76410362a854d",
       "value": "<table border=\"1\" class=\"dataframe table table-striped table-hover table-condensed table-responsive\">\n  <thead>\n    <tr style=\"text-align: right;\">\n      <th></th>\n      <th>64</th>\n    </tr>\n  </thead>\n  <tbody>\n    <tr>\n      <th>Institution</th>\n      <td>Observing System Monitoring Center (OSMC)</td>\n    </tr>\n    <tr>\n      <th>Dataset ID</th>\n      <td>osmc_46097</td>\n    </tr>\n  </tbody>\n</table>"
      }
     },
     "9ab6025f6b144befacf1261d1012b2aa": {
      "model_module": "jupyter-leaflet",
      "model_module_version": "^0.14.0",
      "model_name": "LeafletMapStyleModel",
      "state": {
       "_model_module_version": "^0.14.0",
       "cursor": "move"
      }
     },
     "9b353ef82f834738810f38103cc3c74c": {
      "model_module": "@jupyter-widgets/controls",
      "model_module_version": "1.5.0",
      "model_name": "DescriptionStyleModel",
      "state": {
       "description_width": ""
      }
     },
     "9beab02526094f99b2f084cefddd0555": {
      "model_module": "@jupyter-widgets/controls",
      "model_module_version": "1.5.0",
      "model_name": "HTMLModel",
      "state": {
       "layout": "IPY_MODEL_645412fae5834cecb8a9f249474d86a3",
       "style": "IPY_MODEL_f2db8c82d4fa46468221501b25d75b90",
       "value": "<table border=\"1\" class=\"dataframe table table-striped table-hover table-condensed table-responsive\">\n  <thead>\n    <tr style=\"text-align: right;\">\n      <th></th>\n      <th>31</th>\n    </tr>\n  </thead>\n  <tbody>\n    <tr>\n      <th>Institution</th>\n      <td>Ocean Observatories Initiative (OOI)</td>\n    </tr>\n    <tr>\n      <th>Dataset ID</th>\n      <td>ooi-ce06issm-rid16-02-flortd000</td>\n    </tr>\n  </tbody>\n</table>"
      }
     },
     "9c032bddab8f4bb9a8ef5b2e83c97e43": {
      "model_module": "@jupyter-widgets/base",
      "model_module_version": "1.2.0",
      "model_name": "LayoutModel",
      "state": {}
     },
     "9c33a0feb8174388b69365e618bf77be": {
      "model_module": "jupyter-leaflet",
      "model_module_version": "^0.14.0",
      "model_name": "LeafletMarkerModel",
      "state": {
       "_model_module_version": "^0.14.0",
       "_view_module_version": "^0.14.0",
       "icon": "IPY_MODEL_c6c7054363674edd8390785f5c349a31",
       "location": [
        44.37868,
        -124.94508
       ],
       "options": [
        "alt",
        "draggable",
        "keyboard",
        "rise_offset",
        "rise_on_hover",
        "rotation_angle",
        "rotation_origin",
        "title",
        "z_index_offset"
       ],
       "popup": "IPY_MODEL_5c649f38ced747e7a8b7117e89c0d699"
      }
     },
     "9c345610220b4e1a8c5f39d78eb68708": {
      "model_module": "@jupyter-widgets/base",
      "model_module_version": "1.2.0",
      "model_name": "LayoutModel",
      "state": {}
     },
     "9c437a32ac294242b5a03625557ebf33": {
      "model_module": "@jupyter-widgets/controls",
      "model_module_version": "1.5.0",
      "model_name": "HTMLModel",
      "state": {
       "layout": "IPY_MODEL_8900d851f33946489e25f27dd210e59c",
       "style": "IPY_MODEL_0a143eefea614f298ab4a6ac05eb396d",
       "value": "<table border=\"1\" class=\"dataframe table table-striped table-hover table-condensed table-responsive\">\n  <thead>\n    <tr style=\"text-align: right;\">\n      <th></th>\n      <th>27</th>\n    </tr>\n  </thead>\n  <tbody>\n    <tr>\n      <th>Institution</th>\n      <td>Ocean Observatories Initiative (OOI)</td>\n    </tr>\n    <tr>\n      <th>Dataset ID</th>\n      <td>ooi-ce02shsm-rid26-07-nutnrb000</td>\n    </tr>\n  </tbody>\n</table>"
      }
     },
     "9cb6cd87bf84467aa909bcf8f405403c": {
      "model_module": "jupyter-leaflet",
      "model_module_version": "^0.14.0",
      "model_name": "LeafletAwesomeIconModel",
      "state": {
       "_model_module_version": "^0.14.0",
       "_view_module_version": "^0.14.0",
       "icon_color": "white",
       "marker_color": "orange",
       "name": "life-ring"
      }
     },
     "9ccb11591ac8426d9274ffcb89367255": {
      "model_module": "@jupyter-widgets/base",
      "model_module_version": "1.2.0",
      "model_name": "LayoutModel",
      "state": {}
     },
     "9ccbdd752aab4934acc757841f595857": {
      "model_module": "@jupyter-widgets/controls",
      "model_module_version": "1.5.0",
      "model_name": "HTMLModel",
      "state": {
       "layout": "IPY_MODEL_2d66c00b6fe74b53a9c1ce3c352aa6df",
       "style": "IPY_MODEL_3884a85cadac4708a4bf041307844f94",
       "value": "<table border=\"1\" class=\"dataframe table table-striped table-hover table-condensed table-responsive\">\n  <thead>\n    <tr style=\"text-align: right;\">\n      <th></th>\n      <th>34</th>\n    </tr>\n  </thead>\n  <tbody>\n    <tr>\n      <th>Institution</th>\n      <td>Ocean Observatories Initiative (OOI)</td>\n    </tr>\n    <tr>\n      <th>Dataset ID</th>\n      <td>ooi-ce06issm-rid16-07-nutnrb000</td>\n    </tr>\n  </tbody>\n</table>"
      }
     },
     "9cd2e3c2f8ee4f01b4be1270801166a2": {
      "model_module": "@jupyter-widgets/controls",
      "model_module_version": "1.5.0",
      "model_name": "DescriptionStyleModel",
      "state": {
       "description_width": ""
      }
     },
     "9cfae4a03dd943b68e59a4bdba27b21e": {
      "model_module": "jupyter-leaflet",
      "model_module_version": "^0.14.0",
      "model_name": "LeafletAwesomeIconModel",
      "state": {
       "_model_module_version": "^0.14.0",
       "_view_module_version": "^0.14.0",
       "icon_color": "white",
       "marker_color": "orange",
       "name": "life-ring"
      }
     },
     "9d3e10fe07004019af2d251473dffdb0": {
      "model_module": "jupyter-leaflet",
      "model_module_version": "^0.14.0",
      "model_name": "LeafletAwesomeIconModel",
      "state": {
       "_model_module_version": "^0.14.0",
       "_view_module_version": "^0.14.0",
       "icon_color": "white",
       "marker_color": "orange",
       "name": "life-ring"
      }
     },
     "9d5f777b34464cc1b3a46930c90e7efc": {
      "model_module": "jupyter-leaflet",
      "model_module_version": "^0.14.0",
      "model_name": "LeafletMarkerModel",
      "state": {
       "_model_module_version": "^0.14.0",
       "_view_module_version": "^0.14.0",
       "icon": "IPY_MODEL_24a55782ca6a4763889aa9b1d1514af8",
       "location": [
        46.204,
        -123.759
       ],
       "options": [
        "alt",
        "draggable",
        "keyboard",
        "rise_offset",
        "rise_on_hover",
        "rotation_angle",
        "rotation_origin",
        "title",
        "z_index_offset"
       ],
       "popup": "IPY_MODEL_b87a02982e8343f38df08821907d0cf6"
      }
     },
     "9d620710b304491284aa708161982962": {
      "model_module": "@jupyter-widgets/controls",
      "model_module_version": "1.5.0",
      "model_name": "DescriptionStyleModel",
      "state": {
       "description_width": ""
      }
     },
     "9d6ff3d90c3043b484a554918a41840b": {
      "model_module": "jupyter-leaflet",
      "model_module_version": "^0.14.0",
      "model_name": "LeafletMarkerModel",
      "state": {
       "_model_module_version": "^0.14.0",
       "_view_module_version": "^0.14.0",
       "icon": "IPY_MODEL_2740f1bca8e44f62a8f1d7671f3987b0",
       "location": [
        46.173,
        -124.127
       ],
       "options": [
        "alt",
        "draggable",
        "keyboard",
        "rise_offset",
        "rise_on_hover",
        "rotation_angle",
        "rotation_origin",
        "title",
        "z_index_offset"
       ],
       "popup": "IPY_MODEL_204efb400fba4c11ab7f87cdf06c2db1"
      }
     },
     "9dacc49cb8a44da6a3bbfa13f16f8380": {
      "model_module": "jupyter-leaflet",
      "model_module_version": "^0.14.0",
      "model_name": "LeafletAwesomeIconModel",
      "state": {
       "_model_module_version": "^0.14.0",
       "_view_module_version": "^0.14.0",
       "icon_color": "white",
       "marker_color": "orange",
       "name": "life-ring"
      }
     },
     "9dbaaaae305b402e9043b4abd7d1a4ef": {
      "model_module": "jupyter-leaflet",
      "model_module_version": "^0.14.0",
      "model_name": "LeafletMarkerModel",
      "state": {
       "_model_module_version": "^0.14.0",
       "_view_module_version": "^0.14.0",
       "icon": "IPY_MODEL_86ac57ca7b3d48e89e5f4fea66ad42e8",
       "location": [
        46.2,
        -123.941
       ],
       "options": [
        "alt",
        "draggable",
        "keyboard",
        "rise_offset",
        "rise_on_hover",
        "rotation_angle",
        "rotation_origin",
        "title",
        "z_index_offset"
       ],
       "popup": "IPY_MODEL_2df21d2ca83347d197cc9932cf4fc962"
      }
     },
     "9e09ef4667e94611b52fa4bd9e567927": {
      "model_module": "jupyter-leaflet",
      "model_module_version": "^0.14.0",
      "model_name": "LeafletMarkerModel",
      "state": {
       "_model_module_version": "^0.14.0",
       "_view_module_version": "^0.14.0",
       "icon": "IPY_MODEL_718cddba72a2495185f6382079260456",
       "location": [
        44.65678,
        -124.09707
       ],
       "options": [
        "alt",
        "draggable",
        "keyboard",
        "rise_offset",
        "rise_on_hover",
        "rotation_angle",
        "rotation_origin",
        "title",
        "z_index_offset"
       ],
       "popup": "IPY_MODEL_3782aa6bafab474eb8a7ba81deb0fa6b"
      }
     },
     "9e126f0061c24e3491de1bdf8060408d": {
      "model_module": "jupyter-leaflet",
      "model_module_version": "^0.14.0",
      "model_name": "LeafletRectangleModel",
      "state": {
       "_model_module_version": "^0.14.0",
       "_view_module_version": "^0.14.0",
       "bounds": [
        [
         43,
         -127
        ],
        [
         48,
         -123.75
        ]
       ],
       "color": "red",
       "draggable": false,
       "fill": false,
       "options": [
        "color",
        "dash_array",
        "draggable",
        "fill",
        "fill_color",
        "fill_opacity",
        "line_cap",
        "line_join",
        "no_clip",
        "opacity",
        "pointer_events",
        "smooth_factor",
        "stroke",
        "transform",
        "weight"
       ],
       "rotation": true,
       "scaling": true,
       "transform": false,
       "uniform_scaling": false
      }
     },
     "9eadecc6b1d149e7a9adb97705187aea": {
      "model_module": "jupyter-leaflet",
      "model_module_version": "^0.14.0",
      "model_name": "LeafletMarkerModel",
      "state": {
       "_model_module_version": "^0.14.0",
       "_view_module_version": "^0.14.0",
       "icon": "IPY_MODEL_8d23746b742b4d3aa633a57473ef5d85",
       "location": [
        46.98648,
        -124.56923
       ],
       "options": [
        "alt",
        "draggable",
        "keyboard",
        "rise_offset",
        "rise_on_hover",
        "rotation_angle",
        "rotation_origin",
        "title",
        "z_index_offset"
       ],
       "popup": "IPY_MODEL_00bdec2380d345eea9146e472c0f1c89"
      }
     },
     "9f3a6d0112584985a3efbc295c833232": {
      "model_module": "@jupyter-widgets/base",
      "model_module_version": "1.2.0",
      "model_name": "LayoutModel",
      "state": {}
     },
     "9f4e76b467bf41469231543a4a4acb09": {
      "model_module": "@jupyter-widgets/base",
      "model_module_version": "1.2.0",
      "model_name": "LayoutModel",
      "state": {}
     },
     "9fb7dbf18a1847648f008022f6f4a10a": {
      "model_module": "jupyter-leaflet",
      "model_module_version": "^0.14.0",
      "model_name": "LeafletMarkerModel",
      "state": {
       "_model_module_version": "^0.14.0",
       "_view_module_version": "^0.14.0",
       "icon": "IPY_MODEL_ca2c0f6b9cf04f598514d0d041e80267",
       "location": [
        44.65678,
        -124.09707
       ],
       "options": [
        "alt",
        "draggable",
        "keyboard",
        "rise_offset",
        "rise_on_hover",
        "rotation_angle",
        "rotation_origin",
        "title",
        "z_index_offset"
       ],
       "popup": "IPY_MODEL_d06a5100a7ac4e10993d9ebab9d3156b"
      }
     },
     "a046e0509bf347699e3abad3454634cb": {
      "model_module": "jupyter-leaflet",
      "model_module_version": "^0.14.0",
      "model_name": "LeafletAwesomeIconModel",
      "state": {
       "_model_module_version": "^0.14.0",
       "_view_module_version": "^0.14.0",
       "icon_color": "white",
       "marker_color": "orange",
       "name": "life-ring"
      }
     },
     "a0941d2af8c7426ca34f798a16242dc5": {
      "model_module": "@jupyter-widgets/controls",
      "model_module_version": "1.5.0",
      "model_name": "HTMLModel",
      "state": {
       "layout": "IPY_MODEL_53907e6f38434745883f1aef85e77540",
       "style": "IPY_MODEL_8369f4231ee24196aef237377b4743cd",
       "value": "<table border=\"1\" class=\"dataframe table table-striped table-hover table-condensed table-responsive\">\n  <thead>\n    <tr style=\"text-align: right;\">\n      <th></th>\n      <th>50</th>\n    </tr>\n  </thead>\n  <tbody>\n    <tr>\n      <th>Institution</th>\n      <td>Ocean Observatories Initiative (OOI)</td>\n    </tr>\n    <tr>\n      <th>Dataset ID</th>\n      <td>ooi-ce07shsm-rid27-02-flortd000</td>\n    </tr>\n  </tbody>\n</table>"
      }
     },
     "a0e3d2dabcbd484fae44d64dcc885b95": {
      "model_module": "jupyter-leaflet",
      "model_module_version": "^0.14.0",
      "model_name": "LeafletMarkerModel",
      "state": {
       "_model_module_version": "^0.14.0",
       "_view_module_version": "^0.14.0",
       "icon": "IPY_MODEL_df67126acef44fc4892dec643f25964d",
       "location": [
        47.97,
        -124.95
       ],
       "options": [
        "alt",
        "draggable",
        "keyboard",
        "rise_offset",
        "rise_on_hover",
        "rotation_angle",
        "rotation_origin",
        "title",
        "z_index_offset"
       ],
       "popup": "IPY_MODEL_7689028f4ad844c48a676f8c347803d6"
      }
     },
     "a1048b680f34439bac6daafd70de1593": {
      "model_module": "@jupyter-widgets/base",
      "model_module_version": "1.2.0",
      "model_name": "LayoutModel",
      "state": {}
     },
     "a176a0a455e74315af8bb7b7e5a62e4e": {
      "model_module": "@jupyter-widgets/controls",
      "model_module_version": "1.5.0",
      "model_name": "HTMLModel",
      "state": {
       "layout": "IPY_MODEL_b3a4bdeb6a4a4e9288e3d299c4d6f98d",
       "style": "IPY_MODEL_21ec46891b984f9b9f71d56501a3ae25",
       "value": "<table border=\"1\" class=\"dataframe table table-striped table-hover table-condensed table-responsive\">\n  <thead>\n    <tr style=\"text-align: right;\">\n      <th></th>\n      <th>27</th>\n    </tr>\n  </thead>\n  <tbody>\n    <tr>\n      <th>Institution</th>\n      <td>Ocean Observatories Initiative (OOI)</td>\n    </tr>\n    <tr>\n      <th>Dataset ID</th>\n      <td>ooi-ce02shsm-rid26-07-nutnrb000</td>\n    </tr>\n  </tbody>\n</table>"
      }
     },
     "a19be71e83e141799225ba30acad9bb2": {
      "model_module": "@jupyter-widgets/controls",
      "model_module_version": "1.5.0",
      "model_name": "HTMLModel",
      "state": {
       "layout": "IPY_MODEL_577fb8307b984bd6a33fcdb56b95a5de",
       "style": "IPY_MODEL_edc7cf86a1194dab9b6a11b1b58c5b1e",
       "value": "<table border=\"1\" class=\"dataframe table table-striped table-hover table-condensed table-responsive\">\n  <thead>\n    <tr style=\"text-align: right;\">\n      <th></th>\n      <th>13</th>\n    </tr>\n  </thead>\n  <tbody>\n    <tr>\n      <th>Institution</th>\n      <td>Ocean Observatories Initiative (OOI)</td>\n    </tr>\n    <tr>\n      <th>Dataset ID</th>\n      <td>ooi-ce04osps-pc01b-4a-ctdpfa109</td>\n    </tr>\n  </tbody>\n</table>"
      }
     },
     "a19f8d4fa0f947eda92c11d57b80d84b": {
      "model_module": "jupyter-leaflet",
      "model_module_version": "^0.14.0",
      "model_name": "LeafletAwesomeIconModel",
      "state": {
       "_model_module_version": "^0.14.0",
       "_view_module_version": "^0.14.0",
       "icon_color": "white",
       "marker_color": "orange",
       "name": "life-ring"
      }
     },
     "a1aeec1585034fb29cf8e3eeca8b801a": {
      "model_module": "@jupyter-widgets/controls",
      "model_module_version": "1.5.0",
      "model_name": "DescriptionStyleModel",
      "state": {
       "description_width": ""
      }
     },
     "a21dbd62a75f499e8e274b448ad005e0": {
      "model_module": "jupyter-leaflet",
      "model_module_version": "^0.14.0",
      "model_name": "LeafletMapStyleModel",
      "state": {
       "_model_module_version": "^0.14.0",
       "cursor": "move"
      }
     },
     "a25ddcfcac184f7daebc33a8ddb23975": {
      "model_module": "jupyter-leaflet",
      "model_module_version": "^0.14.0",
      "model_name": "LeafletAwesomeIconModel",
      "state": {
       "_model_module_version": "^0.14.0",
       "_view_module_version": "^0.14.0",
       "icon_color": "white",
       "name": "life-ring"
      }
     },
     "a276bd348e0940fa8db692557590fe4e": {
      "model_module": "@jupyter-widgets/controls",
      "model_module_version": "1.5.0",
      "model_name": "HTMLModel",
      "state": {
       "layout": "IPY_MODEL_e43e54a5cc9349c7a0047c1197988c5c",
       "style": "IPY_MODEL_71fcb309a2334e27b11fc557253eb486",
       "value": "<table border=\"1\" class=\"dataframe table table-striped table-hover table-condensed table-responsive\">\n  <thead>\n    <tr style=\"text-align: right;\">\n      <th></th>\n      <th>70</th>\n    </tr>\n  </thead>\n  <tbody>\n    <tr>\n      <th>Institution</th>\n      <td>Northwest Association of Networked Ocean Observing Systems (NANOOS)</td>\n    </tr>\n    <tr>\n      <th>Dataset ID</th>\n      <td>nanoos_apl_nemo</td>\n    </tr>\n  </tbody>\n</table>"
      }
     },
     "a2d6b4b795434fd790780ea630795516": {
      "model_module": "jupyter-leaflet",
      "model_module_version": "^0.14.0",
      "model_name": "LeafletMarkerModel",
      "state": {
       "_model_module_version": "^0.14.0",
       "_view_module_version": "^0.14.0",
       "icon": "IPY_MODEL_495b0805619a4b64a8a594356352f3fa",
       "location": [
        47.1345,
        -124.27087
       ],
       "options": [
        "alt",
        "draggable",
        "keyboard",
        "rise_offset",
        "rise_on_hover",
        "rotation_angle",
        "rotation_origin",
        "title",
        "z_index_offset"
       ],
       "popup": "IPY_MODEL_b687b5d695c940e1a9688a74ad7c7d0b"
      }
     },
     "a2e99eacf8824c219faa3c471d35c99e": {
      "model_module": "@jupyter-widgets/controls",
      "model_module_version": "1.5.0",
      "model_name": "HTMLModel",
      "state": {
       "layout": "IPY_MODEL_4916a824d24b4ad3a382aa402fdcd993",
       "style": "IPY_MODEL_5d7aabee730f4d92859c4998e0288b78",
       "value": "<table border=\"1\" class=\"dataframe table table-striped table-hover table-condensed table-responsive\">\n  <thead>\n    <tr style=\"text-align: right;\">\n      <th></th>\n      <th>35</th>\n    </tr>\n  </thead>\n  <tbody>\n    <tr>\n      <th>Institution</th>\n      <td>Ocean Observatories Initiative (OOI)</td>\n    </tr>\n    <tr>\n      <th>Dataset ID</th>\n      <td>ooi-ce06issm-rid16-06-phsend000</td>\n    </tr>\n  </tbody>\n</table>"
      }
     },
     "a3044dc08bd64cd4b47686b445469e86": {
      "model_module": "@jupyter-widgets/base",
      "model_module_version": "1.2.0",
      "model_name": "LayoutModel",
      "state": {}
     },
     "a39681a9b6d44ba6b54e05d18324a795": {
      "model_module": "@jupyter-widgets/base",
      "model_module_version": "1.2.0",
      "model_name": "LayoutModel",
      "state": {}
     },
     "a3a63060905542e6838e0b0fabee5bd5": {
      "model_module": "@jupyter-widgets/controls",
      "model_module_version": "1.5.0",
      "model_name": "DescriptionStyleModel",
      "state": {
       "description_width": ""
      }
     },
     "a3bcbcf692de479484902bc863f685b6": {
      "model_module": "@jupyter-widgets/controls",
      "model_module_version": "1.5.0",
      "model_name": "DescriptionStyleModel",
      "state": {
       "description_width": ""
      }
     },
     "a3d9f7814ab24b1e9086e734d8f73843": {
      "model_module": "jupyter-leaflet",
      "model_module_version": "^0.14.0",
      "model_name": "LeafletAwesomeIconModel",
      "state": {
       "_model_module_version": "^0.14.0",
       "_view_module_version": "^0.14.0",
       "icon_color": "white",
       "marker_color": "orange",
       "name": "life-ring"
      }
     },
     "a40e3243f7854aee8506adcc9847ec9a": {
      "model_module": "@jupyter-widgets/controls",
      "model_module_version": "1.5.0",
      "model_name": "HTMLModel",
      "state": {
       "layout": "IPY_MODEL_e5274820d4404e1bb6a40314457ab80e",
       "style": "IPY_MODEL_24f6b2f96f654830b362222c38387794",
       "value": "<table border=\"1\" class=\"dataframe table table-striped table-hover table-condensed table-responsive\">\n  <thead>\n    <tr style=\"text-align: right;\">\n      <th></th>\n      <th>75</th>\n    </tr>\n  </thead>\n  <tbody>\n    <tr>\n      <th>Institution</th>\n      <td>NOAA Pacific Marine Environmental Lab (PMEL)</td>\n    </tr>\n    <tr>\n      <th>Dataset ID</th>\n      <td>gov_ornl_cdiac_lapush_125w_48n</td>\n    </tr>\n  </tbody>\n</table>"
      }
     },
     "a44c1acf2b4b4272bce6158e67453f11": {
      "model_module": "jupyter-leaflet",
      "model_module_version": "^0.14.0",
      "model_name": "LeafletAwesomeIconModel",
      "state": {
       "_model_module_version": "^0.14.0",
       "_view_module_version": "^0.14.0",
       "icon_color": "white",
       "marker_color": "orange",
       "name": "life-ring"
      }
     },
     "a53e355db12c48548dbad57f47ed1377": {
      "model_module": "jupyter-leaflet",
      "model_module_version": "^0.14.0",
      "model_name": "LeafletAwesomeIconModel",
      "state": {
       "_model_module_version": "^0.14.0",
       "_view_module_version": "^0.14.0",
       "icon_color": "white",
       "marker_color": "orange",
       "name": "life-ring"
      }
     },
     "a56aea5adfcb4082ac6055572e6e778a": {
      "model_module": "jupyter-leaflet",
      "model_module_version": "^0.14.0",
      "model_name": "LeafletMarkerModel",
      "state": {
       "_model_module_version": "^0.14.0",
       "_view_module_version": "^0.14.0",
       "icon": "IPY_MODEL_078e25c3395146d79666628d8f4da034",
       "location": [
        44.3695,
        -124.95369
       ],
       "options": [
        "alt",
        "draggable",
        "keyboard",
        "rise_offset",
        "rise_on_hover",
        "rotation_angle",
        "rotation_origin",
        "title",
        "z_index_offset"
       ],
       "popup": "IPY_MODEL_be77c6d99a5c4acc8ad80038133ade8e"
      }
     },
     "a56cd0e652ec402f854864e9480d87ba": {
      "model_module": "@jupyter-widgets/controls",
      "model_module_version": "1.5.0",
      "model_name": "HTMLModel",
      "state": {
       "layout": "IPY_MODEL_90f0cc9c7ca049d19371ff06c36906e5",
       "style": "IPY_MODEL_c03f1b1ad0cb426387bac0308d5feda7",
       "value": "<table border=\"1\" class=\"dataframe table table-striped table-hover table-condensed table-responsive\">\n  <thead>\n    <tr style=\"text-align: right;\">\n      <th></th>\n      <th>54</th>\n    </tr>\n  </thead>\n  <tbody>\n    <tr>\n      <th>Institution</th>\n      <td>Ocean Observatories Initiative (OOI)</td>\n    </tr>\n    <tr>\n      <th>Dataset ID</th>\n      <td>ooi-ce07shsm-rid26-06-phsend000</td>\n    </tr>\n  </tbody>\n</table>"
      }
     },
     "a56ee654c50f4df3a10865dea4240aee": {
      "model_module": "@jupyter-widgets/controls",
      "model_module_version": "1.5.0",
      "model_name": "DescriptionStyleModel",
      "state": {
       "description_width": ""
      }
     },
     "a5cdf6502bda403aba83b1a2b920b6ed": {
      "model_module": "@jupyter-widgets/base",
      "model_module_version": "1.2.0",
      "model_name": "LayoutModel",
      "state": {}
     },
     "a5d35e481fed479b9fbf3879c12d9b4d": {
      "model_module": "jupyter-leaflet",
      "model_module_version": "^0.14.0",
      "model_name": "LeafletMarkerModel",
      "state": {
       "_model_module_version": "^0.14.0",
       "_view_module_version": "^0.14.0",
       "icon": "IPY_MODEL_979d6abf076f4eed8d7dfde659b1abb5",
       "location": [
        46.85367,
        -124.95935
       ],
       "options": [
        "alt",
        "draggable",
        "keyboard",
        "rise_offset",
        "rise_on_hover",
        "rotation_angle",
        "rotation_origin",
        "title",
        "z_index_offset"
       ],
       "popup": "IPY_MODEL_f65a29f135b24c9396ed815a7426619f"
      }
     },
     "a5e84c909fa14e0fb2d9525b550c9b89": {
      "model_module": "jupyter-leaflet",
      "model_module_version": "^0.14.0",
      "model_name": "LeafletMarkerModel",
      "state": {
       "_model_module_version": "^0.14.0",
       "_view_module_version": "^0.14.0",
       "icon": "IPY_MODEL_801d3add2f544f148f84c6ce036f6470",
       "location": [
        47.1345,
        -124.27087
       ],
       "options": [
        "alt",
        "draggable",
        "keyboard",
        "rise_offset",
        "rise_on_hover",
        "rotation_angle",
        "rotation_origin",
        "title",
        "z_index_offset"
       ],
       "popup": "IPY_MODEL_3de4b17fc669477097afaa56d99bf65b"
      }
     },
     "a60562b818224597b312c18cab0e0379": {
      "model_module": "@jupyter-widgets/base",
      "model_module_version": "1.2.0",
      "model_name": "LayoutModel",
      "state": {}
     },
     "a66c7cd7f43f4df8a00448232c829d3b": {
      "model_module": "jupyter-leaflet",
      "model_module_version": "^0.14.0",
      "model_name": "LeafletAwesomeIconModel",
      "state": {
       "_model_module_version": "^0.14.0",
       "_view_module_version": "^0.14.0",
       "icon_color": "white",
       "marker_color": "orange",
       "name": "life-ring"
      }
     },
     "a6957a7a582a4caf98960cc19ec073a8": {
      "model_module": "jupyter-leaflet",
      "model_module_version": "^0.14.0",
      "model_name": "LeafletAwesomeIconModel",
      "state": {
       "_model_module_version": "^0.14.0",
       "_view_module_version": "^0.14.0",
       "icon_color": "white",
       "name": "life-ring"
      }
     },
     "a6ca279c4507464199f6de8def874406": {
      "model_module": "@jupyter-widgets/base",
      "model_module_version": "1.2.0",
      "model_name": "LayoutModel",
      "state": {}
     },
     "a6caf9029abd4660b8e459f5779b9b14": {
      "model_module": "@jupyter-widgets/controls",
      "model_module_version": "1.5.0",
      "model_name": "DescriptionStyleModel",
      "state": {
       "description_width": ""
      }
     },
     "a6d17cda980a4c8f8663fe7c21e75159": {
      "model_module": "@jupyter-widgets/base",
      "model_module_version": "1.2.0",
      "model_name": "LayoutModel",
      "state": {}
     },
     "a6d4c5d15a6c4a3a9ffb255981325c09": {
      "model_module": "jupyter-leaflet",
      "model_module_version": "^0.14.0",
      "model_name": "LeafletAwesomeIconModel",
      "state": {
       "_model_module_version": "^0.14.0",
       "_view_module_version": "^0.14.0",
       "icon_color": "white",
       "marker_color": "orange",
       "name": "life-ring"
      }
     },
     "a7453f3d3c5b428ab155ff4159e21a25": {
      "model_module": "jupyter-leaflet",
      "model_module_version": "^0.14.0",
      "model_name": "LeafletAwesomeIconModel",
      "state": {
       "_model_module_version": "^0.14.0",
       "_view_module_version": "^0.14.0",
       "icon_color": "white",
       "marker_color": "orange",
       "name": "life-ring"
      }
     },
     "a746e944480b4c08b3f1656ce8142375": {
      "model_module": "@jupyter-widgets/controls",
      "model_module_version": "1.5.0",
      "model_name": "DescriptionStyleModel",
      "state": {
       "description_width": ""
      }
     },
     "a7908fc2a9584df483e197bfb046e1f7": {
      "model_module": "jupyter-leaflet",
      "model_module_version": "^0.14.0",
      "model_name": "LeafletMarkerModel",
      "state": {
       "_model_module_version": "^0.14.0",
       "_view_module_version": "^0.14.0",
       "icon": "IPY_MODEL_bb4d3519f91b448aa232909b2a6c4f07",
       "location": [
        46.98648,
        -124.56923
       ],
       "options": [
        "alt",
        "draggable",
        "keyboard",
        "rise_offset",
        "rise_on_hover",
        "rotation_angle",
        "rotation_origin",
        "title",
        "z_index_offset"
       ],
       "popup": "IPY_MODEL_a56cd0e652ec402f854864e9480d87ba"
      }
     },
     "a7adb70924bd4b50a54265ed927a4785": {
      "model_module": "jupyter-leaflet",
      "model_module_version": "^0.14.0",
      "model_name": "LeafletMarkerModel",
      "state": {
       "_model_module_version": "^0.14.0",
       "_view_module_version": "^0.14.0",
       "icon": "IPY_MODEL_ec60dbdba2b047b19a0b7066f6ad05bc",
       "location": [
        46.98648,
        -124.56923
       ],
       "options": [
        "alt",
        "draggable",
        "keyboard",
        "rise_offset",
        "rise_on_hover",
        "rotation_angle",
        "rotation_origin",
        "title",
        "z_index_offset"
       ],
       "popup": "IPY_MODEL_91ab87f5d1bf4cbd97d633886cb5d47a"
      }
     },
     "a847ba6adea54972abaf63237c19489c": {
      "model_module": "@jupyter-widgets/base",
      "model_module_version": "1.2.0",
      "model_name": "LayoutModel",
      "state": {}
     },
     "a8544e0d00cf4f5ea37ffbf5740d31d5": {
      "model_module": "@jupyter-widgets/base",
      "model_module_version": "1.2.0",
      "model_name": "LayoutModel",
      "state": {}
     },
     "a854dc8ff0ec47298ad907caca2f24fc": {
      "model_module": "@jupyter-widgets/base",
      "model_module_version": "1.2.0",
      "model_name": "LayoutModel",
      "state": {}
     },
     "a85b6ecc4c5245648e562ec5290ea80e": {
      "model_module": "@jupyter-widgets/controls",
      "model_module_version": "1.5.0",
      "model_name": "DescriptionStyleModel",
      "state": {
       "description_width": ""
      }
     },
     "a8a1e4edf93340a9af07d7dd41168090": {
      "model_module": "@jupyter-widgets/base",
      "model_module_version": "1.2.0",
      "model_name": "LayoutModel",
      "state": {}
     },
     "a8d142e106d34992a9a6a45965127d78": {
      "model_module": "@jupyter-widgets/controls",
      "model_module_version": "1.5.0",
      "model_name": "HTMLModel",
      "state": {
       "layout": "IPY_MODEL_49bffdf4ba5d4f16b3468f5405e70508",
       "style": "IPY_MODEL_b35b1286c21d4f258b0633f4c9ad26dc",
       "value": "<table border=\"1\" class=\"dataframe table table-striped table-hover table-condensed table-responsive\">\n  <thead>\n    <tr style=\"text-align: right;\">\n      <th></th>\n      <th>66</th>\n    </tr>\n  </thead>\n  <tbody>\n    <tr>\n      <th>Institution</th>\n      <td>Observing System Monitoring Center (OSMC)</td>\n    </tr>\n    <tr>\n      <th>Dataset ID</th>\n      <td>osmc_46099</td>\n    </tr>\n  </tbody>\n</table>"
      }
     },
     "a9265983447d425e9d04a284f5b118a8": {
      "model_module": "@jupyter-widgets/base",
      "model_module_version": "1.2.0",
      "model_name": "LayoutModel",
      "state": {}
     },
     "a94c619bb8704d07a6bd57c891f4533a": {
      "model_module": "jupyter-leaflet",
      "model_module_version": "^0.14.0",
      "model_name": "LeafletAwesomeIconModel",
      "state": {
       "_model_module_version": "^0.14.0",
       "_view_module_version": "^0.14.0",
       "icon_color": "white",
       "name": "life-ring"
      }
     },
     "a96fd716b090402899d48244c635d19c": {
      "model_module": "@jupyter-widgets/controls",
      "model_module_version": "1.5.0",
      "model_name": "HTMLModel",
      "state": {
       "layout": "IPY_MODEL_2b5736552169433f92737c11fec11cf2",
       "style": "IPY_MODEL_25a110392bd744e5ad4b59ea7f551130",
       "value": "<table border=\"1\" class=\"dataframe table table-striped table-hover table-condensed table-responsive\">\n  <thead>\n    <tr style=\"text-align: right;\">\n      <th></th>\n      <th>53</th>\n    </tr>\n  </thead>\n  <tbody>\n    <tr>\n      <th>Institution</th>\n      <td>Ocean Observatories Initiative (OOI)</td>\n    </tr>\n    <tr>\n      <th>Dataset ID</th>\n      <td>ooi-ce07shsm-rid26-07-nutnrb000</td>\n    </tr>\n  </tbody>\n</table>"
      }
     },
     "a98a61641b42459abdc6fdcbbc5be65e": {
      "model_module": "@jupyter-widgets/controls",
      "model_module_version": "1.5.0",
      "model_name": "DescriptionStyleModel",
      "state": {
       "description_width": ""
      }
     },
     "a998dbf77d684b15be33a155f48d0545": {
      "model_module": "jupyter-leaflet",
      "model_module_version": "^0.14.0",
      "model_name": "LeafletMarkerModel",
      "state": {
       "_model_module_version": "^0.14.0",
       "_view_module_version": "^0.14.0",
       "icon": "IPY_MODEL_78ad84aa22424f6cb932a22b495de03b",
       "location": [
        44.63958,
        -124.303
       ],
       "options": [
        "alt",
        "draggable",
        "keyboard",
        "rise_offset",
        "rise_on_hover",
        "rotation_angle",
        "rotation_origin",
        "title",
        "z_index_offset"
       ],
       "popup": "IPY_MODEL_863d886cb7684dff8c7fb485b6cf99e2"
      }
     },
     "aa4f2e50a9f142d485d68ec9b487a0cf": {
      "model_module": "jupyter-leaflet",
      "model_module_version": "^0.14.0",
      "model_name": "LeafletMarkerModel",
      "state": {
       "_model_module_version": "^0.14.0",
       "_view_module_version": "^0.14.0",
       "icon": "IPY_MODEL_674cb973cb0c47128a23288312c161bc",
       "location": [
        44.63708,
        -124.30595
       ],
       "options": [
        "alt",
        "draggable",
        "keyboard",
        "rise_offset",
        "rise_on_hover",
        "rotation_angle",
        "rotation_origin",
        "title",
        "z_index_offset"
       ],
       "popup": "IPY_MODEL_60ac9993a6534513a437d98fc6228616"
      }
     },
     "aa5f2cd1bfe94995970d957ddb4d18e2": {
      "model_module": "@jupyter-widgets/base",
      "model_module_version": "1.2.0",
      "model_name": "LayoutModel",
      "state": {}
     },
     "aab56ea1038240a9b8a1b101d7c3c272": {
      "model_module": "jupyter-leaflet",
      "model_module_version": "^0.14.0",
      "model_name": "LeafletMarkerModel",
      "state": {
       "_model_module_version": "^0.14.0",
       "_view_module_version": "^0.14.0",
       "icon": "IPY_MODEL_779babd8f0a3441f909b3a84cccace6c",
       "location": [
        44.378,
        -124.946
       ],
       "options": [
        "alt",
        "draggable",
        "keyboard",
        "rise_offset",
        "rise_on_hover",
        "rotation_angle",
        "rotation_origin",
        "title",
        "z_index_offset"
       ],
       "popup": "IPY_MODEL_23852de1a4df4aa69657b6cd02900d07"
      }
     },
     "aad1fd0e954748d990f4612fc055e1a3": {
      "model_module": "@jupyter-widgets/controls",
      "model_module_version": "1.5.0",
      "model_name": "HTMLModel",
      "state": {
       "layout": "IPY_MODEL_69294dbdf8cd41be80cb3c5bac6aec25",
       "style": "IPY_MODEL_25a9c93f50f44e858653c41bd2559a92",
       "value": "<table border=\"1\" class=\"dataframe table table-striped table-hover table-condensed table-responsive\">\n  <thead>\n    <tr style=\"text-align: right;\">\n      <th></th>\n      <th>6</th>\n    </tr>\n  </thead>\n  <tbody>\n    <tr>\n      <th>Institution</th>\n      <td>Ocean Observatories Initiative (OOI)</td>\n    </tr>\n    <tr>\n      <th>Dataset ID</th>\n      <td>ooi-ce01issm-mfd37-03-dostad000</td>\n    </tr>\n  </tbody>\n</table>"
      }
     },
     "aaf865648efb4a48ac390bc65ef72cc2": {
      "model_module": "@jupyter-widgets/controls",
      "model_module_version": "1.5.0",
      "model_name": "DescriptionStyleModel",
      "state": {
       "description_width": ""
      }
     },
     "aafb4e6331f54eb68e4916ac2925e4a9": {
      "model_module": "@jupyter-widgets/base",
      "model_module_version": "1.2.0",
      "model_name": "LayoutModel",
      "state": {}
     },
     "ab137d090dcf4659959399bae9ba859a": {
      "model_module": "jupyter-leaflet",
      "model_module_version": "^0.14.0",
      "model_name": "LeafletMarkerModel",
      "state": {
       "_model_module_version": "^0.14.0",
       "_view_module_version": "^0.14.0",
       "icon": "IPY_MODEL_4708c768ec54437cad9e4e13613a52a8",
       "location": [
        46.5007019042969,
        -124.030403137207
       ],
       "options": [
        "alt",
        "draggable",
        "keyboard",
        "rise_offset",
        "rise_on_hover",
        "rotation_angle",
        "rotation_origin",
        "title",
        "z_index_offset"
       ],
       "popup": "IPY_MODEL_e2b561c5acbf4b36a4b797dc0a3c733e"
      }
     },
     "ab55e38f1d994cdfbc2bbfc6ac9c6118": {
      "model_module": "jupyter-leaflet",
      "model_module_version": "^0.14.0",
      "model_name": "LeafletAwesomeIconModel",
      "state": {
       "_model_module_version": "^0.14.0",
       "_view_module_version": "^0.14.0",
       "icon_color": "white",
       "marker_color": "orange",
       "name": "life-ring"
      }
     },
     "ab7fc71de91d43929ad7a47377c1d475": {
      "model_module": "jupyter-leaflet",
      "model_module_version": "^0.14.0",
      "model_name": "LeafletAwesomeIconModel",
      "state": {
       "_model_module_version": "^0.14.0",
       "_view_module_version": "^0.14.0",
       "icon_color": "white",
       "marker_color": "orange",
       "name": "life-ring"
      }
     },
     "ab858354242545ca884dcc40a49b48e6": {
      "model_module": "@jupyter-widgets/base",
      "model_module_version": "1.2.0",
      "model_name": "LayoutModel",
      "state": {}
     },
     "ab88d6fb19c34c8986da9b1223b0dfa7": {
      "model_module": "@jupyter-widgets/controls",
      "model_module_version": "1.5.0",
      "model_name": "HTMLModel",
      "state": {
       "layout": "IPY_MODEL_55ec21f96d7148d0af341ec94b516cb6",
       "style": "IPY_MODEL_ae6f0061de644211a5162bada00fe26f",
       "value": "<table border=\"1\" class=\"dataframe table table-striped table-hover table-condensed table-responsive\">\n  <thead>\n    <tr style=\"text-align: right;\">\n      <th></th>\n      <th>32</th>\n    </tr>\n  </thead>\n  <tbody>\n    <tr>\n      <th>Institution</th>\n      <td>Ocean Observatories Initiative (OOI)</td>\n    </tr>\n    <tr>\n      <th>Dataset ID</th>\n      <td>ooi-ce06issm-rid16-03-ctdbpc000</td>\n    </tr>\n  </tbody>\n</table>"
      }
     },
     "ab9aded4aacf4f19b016dd174b711dcf": {
      "model_module": "jupyter-leaflet",
      "model_module_version": "^0.14.0",
      "model_name": "LeafletAwesomeIconModel",
      "state": {
       "_model_module_version": "^0.14.0",
       "_view_module_version": "^0.14.0",
       "icon_color": "white",
       "marker_color": "orange",
       "name": "life-ring"
      }
     },
     "aba297a4ba8e461d8d40d3c42a5e7e20": {
      "model_module": "jupyter-leaflet",
      "model_module_version": "^0.14.0",
      "model_name": "LeafletMarkerModel",
      "state": {
       "_model_module_version": "^0.14.0",
       "_view_module_version": "^0.14.0",
       "icon": "IPY_MODEL_446e109e01514dbb87623f7638f3df6e",
       "location": [
        46.98648,
        -124.56923
       ],
       "options": [
        "alt",
        "draggable",
        "keyboard",
        "rise_offset",
        "rise_on_hover",
        "rotation_angle",
        "rotation_origin",
        "title",
        "z_index_offset"
       ],
       "popup": "IPY_MODEL_7cdf85120acf4dd3a7e23e580681467a"
      }
     },
     "abed7ff5d89e48eca3eb4807b66f0664": {
      "model_module": "jupyter-leaflet",
      "model_module_version": "^0.14.0",
      "model_name": "LeafletAwesomeIconModel",
      "state": {
       "_model_module_version": "^0.14.0",
       "_view_module_version": "^0.14.0",
       "icon_color": "white",
       "marker_color": "orange",
       "name": "life-ring"
      }
     },
     "ac2347c0b606419e84644461e9d8c832": {
      "model_module": "@jupyter-widgets/controls",
      "model_module_version": "1.5.0",
      "model_name": "HTMLModel",
      "state": {
       "layout": "IPY_MODEL_641148d2b60245be92c534ca3fae54ae",
       "style": "IPY_MODEL_112e162e817a4cc8a2dd770a8302a8d6",
       "value": "<table border=\"1\" class=\"dataframe table table-striped table-hover table-condensed table-responsive\">\n  <thead>\n    <tr style=\"text-align: right;\">\n      <th></th>\n      <th>14</th>\n    </tr>\n  </thead>\n  <tbody>\n    <tr>\n      <th>Institution</th>\n      <td>Ocean Observatories Initiative (OOI)</td>\n    </tr>\n    <tr>\n      <th>Dataset ID</th>\n      <td>ooi-ce04osps-pc01b-4b-phsena106</td>\n    </tr>\n  </tbody>\n</table>"
      }
     },
     "ac918485cb29424da4c7a6ee92d32969": {
      "model_module": "@jupyter-widgets/base",
      "model_module_version": "1.2.0",
      "model_name": "LayoutModel",
      "state": {}
     },
     "ac9b4c388c8943efb950863fadd88762": {
      "model_module": "jupyter-leaflet",
      "model_module_version": "^0.14.0",
      "model_name": "LeafletMarkerModel",
      "state": {
       "_model_module_version": "^0.14.0",
       "_view_module_version": "^0.14.0",
       "icon": "IPY_MODEL_2872ae67b3e94c10a94a64343bb0cadf",
       "location": [
        45.4213981628418,
        -123.93620300293
       ],
       "options": [
        "alt",
        "draggable",
        "keyboard",
        "rise_offset",
        "rise_on_hover",
        "rotation_angle",
        "rotation_origin",
        "title",
        "z_index_offset"
       ],
       "popup": "IPY_MODEL_fae389f620a0403d8def684b2d6b7dad"
      }
     },
     "acd74c43d92349cb9986afa748c1f655": {
      "model_module": "@jupyter-widgets/controls",
      "model_module_version": "1.5.0",
      "model_name": "HTMLModel",
      "state": {
       "layout": "IPY_MODEL_911a75cb1001444f9a5f741e4047f9af",
       "style": "IPY_MODEL_d322222a5d1f4db7863efb99aaa4cf3a",
       "value": "<table border=\"1\" class=\"dataframe table table-striped table-hover table-condensed table-responsive\">\n  <thead>\n    <tr style=\"text-align: right;\">\n      <th></th>\n      <th>26</th>\n    </tr>\n  </thead>\n  <tbody>\n    <tr>\n      <th>Institution</th>\n      <td>Ocean Observatories Initiative (OOI)</td>\n    </tr>\n    <tr>\n      <th>Dataset ID</th>\n      <td>ooi-ce02shsm-rid27-04-dostad000</td>\n    </tr>\n  </tbody>\n</table>"
      }
     },
     "ad2c325493e1456d9e7ad1b78b09962e": {
      "model_module": "@jupyter-widgets/base",
      "model_module_version": "1.2.0",
      "model_name": "LayoutModel",
      "state": {}
     },
     "ad9d0dcac615473fb5ea0731b56c6a4b": {
      "model_module": "@jupyter-widgets/controls",
      "model_module_version": "1.5.0",
      "model_name": "DescriptionStyleModel",
      "state": {
       "description_width": ""
      }
     },
     "adcfa6bd84704153937bfb7b1ca9315e": {
      "model_module": "@jupyter-widgets/controls",
      "model_module_version": "1.5.0",
      "model_name": "DescriptionStyleModel",
      "state": {
       "description_width": ""
      }
     },
     "ae4c5a2abfba48199e91dd3da0e21af2": {
      "model_module": "jupyter-leaflet",
      "model_module_version": "^0.14.0",
      "model_name": "LeafletTileLayerModel",
      "state": {
       "_model_module_version": "^0.14.0",
       "_view_module_version": "^0.14.0",
       "base": true,
       "max_native_zoom": 18,
       "max_zoom": 19,
       "min_native_zoom": 0,
       "min_zoom": 1,
       "options": [
        "attribution",
        "detect_retina",
        "max_native_zoom",
        "max_zoom",
        "min_native_zoom",
        "min_zoom",
        "no_wrap",
        "tile_size",
        "tms"
       ]
      }
     },
     "ae544723b36b4db29f54d805fba60afb": {
      "model_module": "@jupyter-widgets/base",
      "model_module_version": "1.2.0",
      "model_name": "LayoutModel",
      "state": {}
     },
     "ae6d0d4273964b5e898b0363683302f8": {
      "model_module": "@jupyter-widgets/base",
      "model_module_version": "1.2.0",
      "model_name": "LayoutModel",
      "state": {}
     },
     "ae6f0061de644211a5162bada00fe26f": {
      "model_module": "@jupyter-widgets/controls",
      "model_module_version": "1.5.0",
      "model_name": "DescriptionStyleModel",
      "state": {
       "description_width": ""
      }
     },
     "ae78589884b1413fb88faaf278c95e07": {
      "model_module": "@jupyter-widgets/controls",
      "model_module_version": "1.5.0",
      "model_name": "HTMLModel",
      "state": {
       "layout": "IPY_MODEL_bde40b276dfe44ba96904d7d954e429c",
       "style": "IPY_MODEL_29fbc800e53f4a4b80993b67d31bfb69",
       "value": "<table border=\"1\" class=\"dataframe table table-striped table-hover table-condensed table-responsive\">\n  <thead>\n    <tr style=\"text-align: right;\">\n      <th></th>\n      <th>45</th>\n    </tr>\n  </thead>\n  <tbody>\n    <tr>\n      <th>Institution</th>\n      <td>Ocean Observatories Initiative (OOI)</td>\n    </tr>\n    <tr>\n      <th>Dataset ID</th>\n      <td>ooi-ce09ossm-rid26-06-phsend000</td>\n    </tr>\n  </tbody>\n</table>"
      }
     },
     "ae7a4591638d42a8b7f9610421bf68c3": {
      "model_module": "jupyter-leaflet",
      "model_module_version": "^0.14.0",
      "model_name": "LeafletMarkerModel",
      "state": {
       "_model_module_version": "^0.14.0",
       "_view_module_version": "^0.14.0",
       "icon": "IPY_MODEL_a19f8d4fa0f947eda92c11d57b80d84b",
       "location": [
        44.52897,
        -125.38966
       ],
       "options": [
        "alt",
        "draggable",
        "keyboard",
        "rise_offset",
        "rise_on_hover",
        "rotation_angle",
        "rotation_origin",
        "title",
        "z_index_offset"
       ],
       "popup": "IPY_MODEL_66f91077c4894868a01db390a6fd1f94"
      }
     },
     "ae8527d9f8a84db88f9accdf76923d18": {
      "model_module": "jupyter-leaflet",
      "model_module_version": "^0.14.0",
      "model_name": "LeafletMarkerModel",
      "state": {
       "_model_module_version": "^0.14.0",
       "_view_module_version": "^0.14.0",
       "icon": "IPY_MODEL_cdf8b42fa7484c6383d8da8e3ddaf547",
       "location": [
        47.9646517535081,
        -124.953552246094
       ],
       "options": [
        "alt",
        "draggable",
        "keyboard",
        "rise_offset",
        "rise_on_hover",
        "rotation_angle",
        "rotation_origin",
        "title",
        "z_index_offset"
       ],
       "popup": "IPY_MODEL_f59971231aaf4f25804a0d0c6fe32a58"
      }
     },
     "aedeb714be044e67ac5912e5b51fc3f6": {
      "model_module": "@jupyter-widgets/base",
      "model_module_version": "1.2.0",
      "model_name": "LayoutModel",
      "state": {}
     },
     "af3dbf905e3048da9806f8b6c8f328c8": {
      "model_module": "@jupyter-widgets/controls",
      "model_module_version": "1.5.0",
      "model_name": "HTMLModel",
      "state": {
       "layout": "IPY_MODEL_13e503a2fac146ed8961ce43deec2b0b",
       "style": "IPY_MODEL_d12dd6ac86574a8bbeca5d4a85e44dd3",
       "value": "<table border=\"1\" class=\"dataframe table table-striped table-hover table-condensed table-responsive\">\n  <thead>\n    <tr style=\"text-align: right;\">\n      <th></th>\n      <th>33</th>\n    </tr>\n  </thead>\n  <tbody>\n    <tr>\n      <th>Institution</th>\n      <td>Ocean Observatories Initiative (OOI)</td>\n    </tr>\n    <tr>\n      <th>Dataset ID</th>\n      <td>ooi-ce06issm-rid16-03-dostad000</td>\n    </tr>\n  </tbody>\n</table>"
      }
     },
     "af4db57052f64b868c7f6fd70e1f1296": {
      "model_module": "jupyter-leaflet",
      "model_module_version": "^0.14.0",
      "model_name": "LeafletMarkerModel",
      "state": {
       "_model_module_version": "^0.14.0",
       "_view_module_version": "^0.14.0",
       "icon": "IPY_MODEL_2503a3f850b04ef38952783598c42020",
       "location": [
        44.63577,
        -124.3035
       ],
       "options": [
        "alt",
        "draggable",
        "keyboard",
        "rise_offset",
        "rise_on_hover",
        "rotation_angle",
        "rotation_origin",
        "title",
        "z_index_offset"
       ],
       "popup": "IPY_MODEL_9c437a32ac294242b5a03625557ebf33"
      }
     },
     "afdb9e3356e7467eb0df348cee96b4ca": {
      "model_module": "jupyter-leaflet",
      "model_module_version": "^0.14.0",
      "model_name": "LeafletMarkerModel",
      "state": {
       "_model_module_version": "^0.14.0",
       "_view_module_version": "^0.14.0",
       "icon": "IPY_MODEL_57746ffce26b438f9ceda29b87b8f250",
       "location": [
        45.5544,
        -123.9189
       ],
       "options": [
        "alt",
        "draggable",
        "keyboard",
        "rise_offset",
        "rise_on_hover",
        "rotation_angle",
        "rotation_origin",
        "title",
        "z_index_offset"
       ],
       "popup": "IPY_MODEL_48e29dc77f51491fb01fe374820040d9"
      }
     },
     "afe919690c6440f8b932cc2e353738f9": {
      "model_module": "@jupyter-widgets/base",
      "model_module_version": "1.2.0",
      "model_name": "LayoutModel",
      "state": {}
     },
     "affdf025f1f048c58e76fc51bb55176d": {
      "model_module": "@jupyter-widgets/controls",
      "model_module_version": "1.5.0",
      "model_name": "DescriptionStyleModel",
      "state": {
       "description_width": ""
      }
     },
     "b03f107814e744aba79a611edffdd2e5": {
      "model_module": "jupyter-leaflet",
      "model_module_version": "^0.14.0",
      "model_name": "LeafletAwesomeIconModel",
      "state": {
       "_model_module_version": "^0.14.0",
       "_view_module_version": "^0.14.0",
       "icon_color": "white",
       "marker_color": "orange",
       "name": "life-ring"
      }
     },
     "b044216bca7d46b38f66c5c24284e09c": {
      "model_module": "@jupyter-widgets/controls",
      "model_module_version": "1.5.0",
      "model_name": "DescriptionStyleModel",
      "state": {
       "description_width": ""
      }
     },
     "b069d36ba6dd42279f2a1dcc7e1bed70": {
      "model_module": "@jupyter-widgets/base",
      "model_module_version": "1.2.0",
      "model_name": "LayoutModel",
      "state": {}
     },
     "b08e85e7cd0a4364b58c65a6ab5c633a": {
      "model_module": "@jupyter-widgets/base",
      "model_module_version": "1.2.0",
      "model_name": "LayoutModel",
      "state": {}
     },
     "b096ac6208654732805fc2e0cff2f54f": {
      "model_module": "@jupyter-widgets/controls",
      "model_module_version": "1.5.0",
      "model_name": "HTMLModel",
      "state": {
       "layout": "IPY_MODEL_385a11f4447a4f02bd09da92ec495775",
       "style": "IPY_MODEL_7c3911c878fc4fbea9041fcb278fc563",
       "value": "<table border=\"1\" class=\"dataframe table table-striped table-hover table-condensed table-responsive\">\n  <thead>\n    <tr style=\"text-align: right;\">\n      <th></th>\n      <th>26</th>\n    </tr>\n  </thead>\n  <tbody>\n    <tr>\n      <th>Institution</th>\n      <td>Ocean Observatories Initiative (OOI)</td>\n    </tr>\n    <tr>\n      <th>Dataset ID</th>\n      <td>ooi-ce02shsm-rid27-04-dostad000</td>\n    </tr>\n  </tbody>\n</table>"
      }
     },
     "b0b0d9ca61a449b8a4fd8ba3bf1d3336": {
      "model_module": "@jupyter-widgets/base",
      "model_module_version": "1.2.0",
      "model_name": "LayoutModel",
      "state": {}
     },
     "b102d70d0e7b4265bcc44a4ca45e6be4": {
      "model_module": "@jupyter-widgets/controls",
      "model_module_version": "1.5.0",
      "model_name": "HTMLModel",
      "state": {
       "layout": "IPY_MODEL_2ee7a6676118461daa1109bf6ea9416f",
       "style": "IPY_MODEL_b88891fee090482fbf28974af6686ecf",
       "value": "<table border=\"1\" class=\"dataframe table table-striped table-hover table-condensed table-responsive\">\n  <thead>\n    <tr style=\"text-align: right;\">\n      <th></th>\n      <th>7</th>\n    </tr>\n  </thead>\n  <tbody>\n    <tr>\n      <th>Institution</th>\n      <td>Ocean Observatories Initiative (OOI)</td>\n    </tr>\n    <tr>\n      <th>Dataset ID</th>\n      <td>ooi-ce01issm-mfd35-06-phsend000</td>\n    </tr>\n  </tbody>\n</table>"
      }
     },
     "b162e33c03f445e9a225fc7729719277": {
      "model_module": "@jupyter-widgets/controls",
      "model_module_version": "1.5.0",
      "model_name": "HTMLModel",
      "state": {
       "layout": "IPY_MODEL_227f377a8ce945e3a5cc00983b6d3ca9",
       "style": "IPY_MODEL_6f1b684f5c4b444c81883dead42ad60a",
       "value": "<table border=\"1\" class=\"dataframe table table-striped table-hover table-condensed table-responsive\">\n  <thead>\n    <tr style=\"text-align: right;\">\n      <th></th>\n      <th>50</th>\n    </tr>\n  </thead>\n  <tbody>\n    <tr>\n      <th>Institution</th>\n      <td>Ocean Observatories Initiative (OOI)</td>\n    </tr>\n    <tr>\n      <th>Dataset ID</th>\n      <td>ooi-ce07shsm-rid27-02-flortd000</td>\n    </tr>\n  </tbody>\n</table>"
      }
     },
     "b17e3c1772324b62b1bfbab0e864697d": {
      "model_module": "@jupyter-widgets/controls",
      "model_module_version": "1.5.0",
      "model_name": "HTMLModel",
      "state": {
       "layout": "IPY_MODEL_a5cdf6502bda403aba83b1a2b920b6ed",
       "style": "IPY_MODEL_c21e72472cfe46e18c8b5e105ff8e3f0",
       "value": "<table border=\"1\" class=\"dataframe table table-striped table-hover table-condensed table-responsive\">\n  <thead>\n    <tr style=\"text-align: right;\">\n      <th></th>\n      <th>67</th>\n    </tr>\n  </thead>\n  <tbody>\n    <tr>\n      <th>Institution</th>\n      <td>Observing System Monitoring Center (OSMC)</td>\n    </tr>\n    <tr>\n      <th>Dataset ID</th>\n      <td>osmc_46100</td>\n    </tr>\n  </tbody>\n</table>"
      }
     },
     "b1fdab086ce44192ae12160d155987eb": {
      "model_module": "@jupyter-widgets/base",
      "model_module_version": "1.2.0",
      "model_name": "LayoutModel",
      "state": {}
     },
     "b226ff9d49524e939ed9cdb2e038624b": {
      "model_module": "@jupyter-widgets/controls",
      "model_module_version": "1.5.0",
      "model_name": "DescriptionStyleModel",
      "state": {
       "description_width": ""
      }
     },
     "b244870723ee41029fcaeaead37ec0f2": {
      "model_module": "jupyter-leaflet",
      "model_module_version": "^0.14.0",
      "model_name": "LeafletMarkerModel",
      "state": {
       "_model_module_version": "^0.14.0",
       "_view_module_version": "^0.14.0",
       "icon": "IPY_MODEL_43c737675c584b92a5caa60232cb8e86",
       "location": [
        46.173,
        -124.127
       ],
       "options": [
        "alt",
        "draggable",
        "keyboard",
        "rise_offset",
        "rise_on_hover",
        "rotation_angle",
        "rotation_origin",
        "title",
        "z_index_offset"
       ],
       "popup": "IPY_MODEL_db0f479fc490459a83b28d1e2771a486"
      }
     },
     "b2eefe3427244f9eb00b26703473659a": {
      "model_module": "@jupyter-widgets/controls",
      "model_module_version": "1.5.0",
      "model_name": "DescriptionStyleModel",
      "state": {
       "description_width": ""
      }
     },
     "b32bd38a764f46cb9ee3fe7f2fb0160a": {
      "model_module": "@jupyter-widgets/controls",
      "model_module_version": "1.5.0",
      "model_name": "HTMLModel",
      "state": {
       "layout": "IPY_MODEL_bee4f50a35b44f49ae1f599b8bcb25f2",
       "style": "IPY_MODEL_b226ff9d49524e939ed9cdb2e038624b",
       "value": "<table border=\"1\" class=\"dataframe table table-striped table-hover table-condensed table-responsive\">\n  <thead>\n    <tr style=\"text-align: right;\">\n      <th></th>\n      <th>36</th>\n    </tr>\n  </thead>\n  <tbody>\n    <tr>\n      <th>Institution</th>\n      <td>Ocean Observatories Initiative (OOI)</td>\n    </tr>\n    <tr>\n      <th>Dataset ID</th>\n      <td>ooi-ce06issm-mfd37-03-ctdbpc000</td>\n    </tr>\n  </tbody>\n</table>"
      }
     },
     "b33ac0de0ca842b3bcb8e647839efff2": {
      "model_module": "jupyter-leaflet",
      "model_module_version": "^0.14.0",
      "model_name": "LeafletMarkerModel",
      "state": {
       "_model_module_version": "^0.14.0",
       "_view_module_version": "^0.14.0",
       "icon": "IPY_MODEL_258374706cc94684bd0e45ea9b763ed3",
       "location": [
        44.37868,
        -124.94508
       ],
       "options": [
        "alt",
        "draggable",
        "keyboard",
        "rise_offset",
        "rise_on_hover",
        "rotation_angle",
        "rotation_origin",
        "title",
        "z_index_offset"
       ],
       "popup": "IPY_MODEL_e5808ad66df34d4fb5d1424114097efb"
      }
     },
     "b35b1286c21d4f258b0633f4c9ad26dc": {
      "model_module": "@jupyter-widgets/controls",
      "model_module_version": "1.5.0",
      "model_name": "DescriptionStyleModel",
      "state": {
       "description_width": ""
      }
     },
     "b36172a8f554469286bb611d11a426f2": {
      "model_module": "@jupyter-widgets/base",
      "model_module_version": "1.2.0",
      "model_name": "LayoutModel",
      "state": {}
     },
     "b39c97bc62284deeb6722678549f7b25": {
      "model_module": "@jupyter-widgets/base",
      "model_module_version": "1.2.0",
      "model_name": "LayoutModel",
      "state": {}
     },
     "b3a4bdeb6a4a4e9288e3d299c4d6f98d": {
      "model_module": "@jupyter-widgets/base",
      "model_module_version": "1.2.0",
      "model_name": "LayoutModel",
      "state": {}
     },
     "b3f1e94f23d84ba3a40fc4240ea5523f": {
      "model_module": "jupyter-leaflet",
      "model_module_version": "^0.14.0",
      "model_name": "LeafletMarkerModel",
      "state": {
       "_model_module_version": "^0.14.0",
       "_view_module_version": "^0.14.0",
       "icon": "IPY_MODEL_2ef1c215cdea48fbbe0d38fa2f66778a",
       "location": [
        44.65678,
        -124.09707
       ],
       "options": [
        "alt",
        "draggable",
        "keyboard",
        "rise_offset",
        "rise_on_hover",
        "rotation_angle",
        "rotation_origin",
        "title",
        "z_index_offset"
       ],
       "popup": "IPY_MODEL_1c35677d5da74f4c9cc4f2953ea11e4f"
      }
     },
     "b40578c280d24d5babe680a8ce530a65": {
      "model_module": "jupyter-leaflet",
      "model_module_version": "^0.14.0",
      "model_name": "LeafletMarkerModel",
      "state": {
       "_model_module_version": "^0.14.0",
       "_view_module_version": "^0.14.0",
       "icon": "IPY_MODEL_1ce814fe3374466c8b6494d59a2ca21b",
       "location": [
        47.1345,
        -124.27087
       ],
       "options": [
        "alt",
        "draggable",
        "keyboard",
        "rise_offset",
        "rise_on_hover",
        "rotation_angle",
        "rotation_origin",
        "title",
        "z_index_offset"
       ],
       "popup": "IPY_MODEL_e0774351ae7b4b50a63152befe58b23e"
      }
     },
     "b48434e5fb514bd1914f30269cd9e254": {
      "model_module": "@jupyter-widgets/base",
      "model_module_version": "1.2.0",
      "model_name": "LayoutModel",
      "state": {}
     },
     "b5727cb9df5f4543bb74a6516ed63a57": {
      "model_module": "@jupyter-widgets/controls",
      "model_module_version": "1.5.0",
      "model_name": "DescriptionStyleModel",
      "state": {
       "description_width": ""
      }
     },
     "b67e13198006429084fafe17333a6377": {
      "model_module": "jupyter-leaflet",
      "model_module_version": "^0.14.0",
      "model_name": "LeafletAwesomeIconModel",
      "state": {
       "_model_module_version": "^0.14.0",
       "_view_module_version": "^0.14.0",
       "icon_color": "white",
       "name": "life-ring"
      }
     },
     "b687b5d695c940e1a9688a74ad7c7d0b": {
      "model_module": "@jupyter-widgets/controls",
      "model_module_version": "1.5.0",
      "model_name": "HTMLModel",
      "state": {
       "layout": "IPY_MODEL_71d0878c367542aebbcb9ead76cd2976",
       "style": "IPY_MODEL_8ec062ba1a304b81b14ae4c495d7af85",
       "value": "<table border=\"1\" class=\"dataframe table table-striped table-hover table-condensed table-responsive\">\n  <thead>\n    <tr style=\"text-align: right;\">\n      <th></th>\n      <th>34</th>\n    </tr>\n  </thead>\n  <tbody>\n    <tr>\n      <th>Institution</th>\n      <td>Ocean Observatories Initiative (OOI)</td>\n    </tr>\n    <tr>\n      <th>Dataset ID</th>\n      <td>ooi-ce06issm-rid16-07-nutnrb000</td>\n    </tr>\n  </tbody>\n</table>"
      }
     },
     "b6932a49f5574e04b6b9b9c3359c9a5e": {
      "model_module": "@jupyter-widgets/controls",
      "model_module_version": "1.5.0",
      "model_name": "HTMLModel",
      "state": {
       "layout": "IPY_MODEL_fac4a4db27a443d49f361faeb31da22e",
       "style": "IPY_MODEL_6bd79e4c42eb44bb8235b22d327d3628",
       "value": "<table border=\"1\" class=\"dataframe table table-striped table-hover table-condensed table-responsive\">\n  <thead>\n    <tr style=\"text-align: right;\">\n      <th></th>\n      <th>78</th>\n    </tr>\n  </thead>\n  <tbody>\n    <tr>\n      <th>Institution</th>\n      <td>Center for Coastal Margin Observation &amp; Prediction</td>\n    </tr>\n    <tr>\n      <th>Dataset ID</th>\n      <td>org_cmop_sefo3</td>\n    </tr>\n  </tbody>\n</table>"
      }
     },
     "b72697836e954c808e5370cb2a64a229": {
      "model_module": "@jupyter-widgets/controls",
      "model_module_version": "1.5.0",
      "model_name": "DescriptionStyleModel",
      "state": {
       "description_width": ""
      }
     },
     "b76d312610bb4aef8871fbabf3592aec": {
      "model_module": "jupyter-leaflet",
      "model_module_version": "^0.14.0",
      "model_name": "LeafletAwesomeIconModel",
      "state": {
       "_model_module_version": "^0.14.0",
       "_view_module_version": "^0.14.0",
       "icon_color": "white",
       "name": "life-ring"
      }
     },
     "b78dcf10b96b43d193b810f90052082f": {
      "model_module": "jupyter-leaflet",
      "model_module_version": "^0.14.0",
      "model_name": "LeafletAwesomeIconModel",
      "state": {
       "_model_module_version": "^0.14.0",
       "_view_module_version": "^0.14.0",
       "icon_color": "white",
       "marker_color": "orange",
       "name": "life-ring"
      }
     },
     "b80dfb7b6d3d45fdbbca1b38ec8273b7": {
      "model_module": "@jupyter-widgets/controls",
      "model_module_version": "1.5.0",
      "model_name": "DescriptionStyleModel",
      "state": {
       "description_width": ""
      }
     },
     "b869382f73a94d51a1e4200821248a40": {
      "model_module": "@jupyter-widgets/controls",
      "model_module_version": "1.5.0",
      "model_name": "HTMLModel",
      "state": {
       "layout": "IPY_MODEL_a9265983447d425e9d04a284f5b118a8",
       "style": "IPY_MODEL_11fe658f22b441499792a07b385fee25",
       "value": "<table border=\"1\" class=\"dataframe table table-striped table-hover table-condensed table-responsive\">\n  <thead>\n    <tr style=\"text-align: right;\">\n      <th></th>\n      <th>76</th>\n    </tr>\n  </thead>\n  <tbody>\n    <tr>\n      <th>Institution</th>\n      <td>Northwest Association of Networked Ocean Observing Systems (NANOOS)</td>\n    </tr>\n    <tr>\n      <th>Dataset ID</th>\n      <td>nanoos_psi_baycenter</td>\n    </tr>\n  </tbody>\n</table>"
      }
     },
     "b87893eeb2794a59b3bfd80491c3287f": {
      "model_module": "jupyter-leaflet",
      "model_module_version": "^0.14.0",
      "model_name": "LeafletMarkerModel",
      "state": {
       "_model_module_version": "^0.14.0",
       "_view_module_version": "^0.14.0",
       "icon": "IPY_MODEL_3e2752b024c44b2dbd91b35e39fb2ec6",
       "location": [
        47,
        -124.6
       ],
       "options": [
        "alt",
        "draggable",
        "keyboard",
        "rise_offset",
        "rise_on_hover",
        "rotation_angle",
        "rotation_origin",
        "title",
        "z_index_offset"
       ],
       "popup": "IPY_MODEL_21d42fae23d94ca98079330d8035f7cc"
      }
     },
     "b87a02982e8343f38df08821907d0cf6": {
      "model_module": "@jupyter-widgets/controls",
      "model_module_version": "1.5.0",
      "model_name": "HTMLModel",
      "state": {
       "layout": "IPY_MODEL_a39681a9b6d44ba6b54e05d18324a795",
       "style": "IPY_MODEL_fa1b7fc98986490cbf8654d9eb4ff133",
       "value": "<table border=\"1\" class=\"dataframe table table-striped table-hover table-condensed table-responsive\">\n  <thead>\n    <tr style=\"text-align: right;\">\n      <th></th>\n      <th>78</th>\n    </tr>\n  </thead>\n  <tbody>\n    <tr>\n      <th>Institution</th>\n      <td>Center for Coastal Margin Observation &amp; Prediction</td>\n    </tr>\n    <tr>\n      <th>Dataset ID</th>\n      <td>org_cmop_sefo3</td>\n    </tr>\n  </tbody>\n</table>"
      }
     },
     "b88891fee090482fbf28974af6686ecf": {
      "model_module": "@jupyter-widgets/controls",
      "model_module_version": "1.5.0",
      "model_name": "DescriptionStyleModel",
      "state": {
       "description_width": ""
      }
     },
     "b88c7892b886443b925f2ef98b357171": {
      "model_module": "@jupyter-widgets/controls",
      "model_module_version": "1.5.0",
      "model_name": "HTMLModel",
      "state": {
       "layout": "IPY_MODEL_ab858354242545ca884dcc40a49b48e6",
       "style": "IPY_MODEL_56d4d6e5d5aa471ca2810cc4ba3a2a44",
       "value": "<table border=\"1\" class=\"dataframe table table-striped table-hover table-condensed table-responsive\">\n  <thead>\n    <tr style=\"text-align: right;\">\n      <th></th>\n      <th>49</th>\n    </tr>\n  </thead>\n  <tbody>\n    <tr>\n      <th>Institution</th>\n      <td>Ocean Observatories Initiative (OOI)</td>\n    </tr>\n    <tr>\n      <th>Dataset ID</th>\n      <td>ooi-ce09ossm-sbd12-04-pco2aa000</td>\n    </tr>\n  </tbody>\n</table>"
      }
     },
     "b8aaca97fe0c41bd813704a34cfc3323": {
      "model_module": "@jupyter-widgets/base",
      "model_module_version": "1.2.0",
      "model_name": "LayoutModel",
      "state": {}
     },
     "b8d9b90458074896a477798eb9e80a4a": {
      "model_module": "jupyter-leaflet",
      "model_module_version": "^0.14.0",
      "model_name": "LeafletMarkerModel",
      "state": {
       "_model_module_version": "^0.14.0",
       "_view_module_version": "^0.14.0",
       "icon": "IPY_MODEL_2a7de14b88334497a6e464e541899201",
       "location": [
        46.85367,
        -124.95935
       ],
       "options": [
        "alt",
        "draggable",
        "keyboard",
        "rise_offset",
        "rise_on_hover",
        "rotation_angle",
        "rotation_origin",
        "title",
        "z_index_offset"
       ],
       "popup": "IPY_MODEL_3c57c1e1422149e995af85fd85237b44"
      }
     },
     "b9961b34d677497195af361c5717371e": {
      "model_module": "@jupyter-widgets/controls",
      "model_module_version": "1.5.0",
      "model_name": "HTMLModel",
      "state": {
       "layout": "IPY_MODEL_9ccb11591ac8426d9274ffcb89367255",
       "style": "IPY_MODEL_60e54c9214f74333b11b93659288fb87",
       "value": "<table border=\"1\" class=\"dataframe table table-striped table-hover table-condensed table-responsive\">\n  <thead>\n    <tr style=\"text-align: right;\">\n      <th></th>\n      <th>20</th>\n    </tr>\n  </thead>\n  <tbody>\n    <tr>\n      <th>Institution</th>\n      <td>Ocean Observatories Initiative (OOI)</td>\n    </tr>\n    <tr>\n      <th>Dataset ID</th>\n      <td>ooi-ce04ossm-sbd11-06-metbka000</td>\n    </tr>\n  </tbody>\n</table>"
      }
     },
     "b9c800379c8344df9b769ed1fff1c683": {
      "model_module": "@jupyter-widgets/base",
      "model_module_version": "1.2.0",
      "model_name": "LayoutModel",
      "state": {}
     },
     "b9f948119e1243fb8fd187d0346a858d": {
      "model_module": "@jupyter-widgets/controls",
      "model_module_version": "1.5.0",
      "model_name": "HTMLModel",
      "state": {
       "layout": "IPY_MODEL_8b23a00535f4424abe3f30a4e69ebf8d",
       "style": "IPY_MODEL_940bf2c794994bf9aa70146853e38e2e",
       "value": "<table border=\"1\" class=\"dataframe table table-striped table-hover table-condensed table-responsive\">\n  <thead>\n    <tr style=\"text-align: right;\">\n      <th></th>\n      <th>17</th>\n    </tr>\n  </thead>\n  <tbody>\n    <tr>\n      <th>Institution</th>\n      <td>Ocean Observatories Initiative (OOI)</td>\n    </tr>\n    <tr>\n      <th>Dataset ID</th>\n      <td>ooi-ce04ossm-rid27-04-dostad000</td>\n    </tr>\n  </tbody>\n</table>"
      }
     },
     "b9fbf185f6a842cb833e931ea6bddae4": {
      "model_module": "jupyter-leaflet",
      "model_module_version": "^0.14.0",
      "model_name": "LeafletMarkerModel",
      "state": {
       "_model_module_version": "^0.14.0",
       "_view_module_version": "^0.14.0",
       "icon": "IPY_MODEL_e97d1a518ee84d2db9085fcedaae76a5",
       "location": [
        47.1345,
        -124.27087
       ],
       "options": [
        "alt",
        "draggable",
        "keyboard",
        "rise_offset",
        "rise_on_hover",
        "rotation_angle",
        "rotation_origin",
        "title",
        "z_index_offset"
       ],
       "popup": "IPY_MODEL_5cdac32a28fe48a49d3b401d92f6e4d0"
      }
     },
     "ba86d20e39e1499a82c9ef02757881e4": {
      "model_module": "jupyter-leaflet",
      "model_module_version": "^0.14.0",
      "model_name": "LeafletMarkerModel",
      "state": {
       "_model_module_version": "^0.14.0",
       "_view_module_version": "^0.14.0",
       "icon": "IPY_MODEL_2aebe4be3110424fb6466ad2c9774e17",
       "location": [
        44.65678,
        -124.09707
       ],
       "options": [
        "alt",
        "draggable",
        "keyboard",
        "rise_offset",
        "rise_on_hover",
        "rotation_angle",
        "rotation_origin",
        "title",
        "z_index_offset"
       ],
       "popup": "IPY_MODEL_de96ccce1eb74966819e7461ea06e857"
      }
     },
     "ba9898ebdd724f8ca5575c4a4289148d": {
      "model_module": "@jupyter-widgets/base",
      "model_module_version": "1.2.0",
      "model_name": "LayoutModel",
      "state": {}
     },
     "baa65a5a7e284ee8af8e99e5f722608c": {
      "model_module": "jupyter-leaflet",
      "model_module_version": "^0.14.0",
      "model_name": "LeafletMarkerModel",
      "state": {
       "_model_module_version": "^0.14.0",
       "_view_module_version": "^0.14.0",
       "icon": "IPY_MODEL_3baaa1564b834957941ffddbef6f6c46",
       "location": [
        44.65678,
        -124.09707
       ],
       "options": [
        "alt",
        "draggable",
        "keyboard",
        "rise_offset",
        "rise_on_hover",
        "rotation_angle",
        "rotation_origin",
        "title",
        "z_index_offset"
       ],
       "popup": "IPY_MODEL_996380df00fc4c35ba53a55741bb4b91"
      }
     },
     "bad40f5061ec410183626a0fb169a740": {
      "model_module": "@jupyter-widgets/controls",
      "model_module_version": "1.5.0",
      "model_name": "DescriptionStyleModel",
      "state": {
       "description_width": ""
      }
     },
     "bb4d3519f91b448aa232909b2a6c4f07": {
      "model_module": "jupyter-leaflet",
      "model_module_version": "^0.14.0",
      "model_name": "LeafletAwesomeIconModel",
      "state": {
       "_model_module_version": "^0.14.0",
       "_view_module_version": "^0.14.0",
       "icon_color": "white",
       "marker_color": "orange",
       "name": "life-ring"
      }
     },
     "bb6a3ad82b8245fa8ba4808fba65fe12": {
      "model_module": "jupyter-leaflet",
      "model_module_version": "^0.14.0",
      "model_name": "LeafletAwesomeIconModel",
      "state": {
       "_model_module_version": "^0.14.0",
       "_view_module_version": "^0.14.0",
       "icon_color": "white",
       "marker_color": "orange",
       "name": "life-ring"
      }
     },
     "bb6fab6f91224265b70ee8d33672ae80": {
      "model_module": "jupyter-leaflet",
      "model_module_version": "^0.14.0",
      "model_name": "LeafletAwesomeIconModel",
      "state": {
       "_model_module_version": "^0.14.0",
       "_view_module_version": "^0.14.0",
       "icon_color": "white",
       "marker_color": "orange",
       "name": "life-ring"
      }
     },
     "bb93e96015854cceb8c05ae3c2682cba": {
      "model_module": "jupyter-leaflet",
      "model_module_version": "^0.14.0",
      "model_name": "LeafletAwesomeIconModel",
      "state": {
       "_model_module_version": "^0.14.0",
       "_view_module_version": "^0.14.0",
       "icon_color": "white",
       "marker_color": "orange",
       "name": "life-ring"
      }
     },
     "bbc10ae0abc44226a345368ddf825a65": {
      "model_module": "@jupyter-widgets/base",
      "model_module_version": "1.2.0",
      "model_name": "LayoutModel",
      "state": {}
     },
     "bc46857359354a279fa3985547b43a2b": {
      "model_module": "@jupyter-widgets/base",
      "model_module_version": "1.2.0",
      "model_name": "LayoutModel",
      "state": {}
     },
     "bd08aabf9b47460aacc76410362a854d": {
      "model_module": "@jupyter-widgets/controls",
      "model_module_version": "1.5.0",
      "model_name": "DescriptionStyleModel",
      "state": {
       "description_width": ""
      }
     },
     "bd21ce721e364848a94058d3a5384bb3": {
      "model_module": "jupyter-leaflet",
      "model_module_version": "^0.14.0",
      "model_name": "LeafletAttributionControlModel",
      "state": {
       "_model_module_version": "^0.14.0",
       "_view_module_version": "^0.14.0",
       "options": [
        "position",
        "prefix"
       ],
       "position": "bottomright",
       "prefix": "ipyleaflet"
      }
     },
     "bd33863c4b8542ae8e6e3d14894a4122": {
      "model_module": "@jupyter-widgets/base",
      "model_module_version": "1.2.0",
      "model_name": "LayoutModel",
      "state": {}
     },
     "bd453e0618304e37aa5f60b40b5fe2a8": {
      "model_module": "jupyter-leaflet",
      "model_module_version": "^0.14.0",
      "model_name": "LeafletMarkerModel",
      "state": {
       "_model_module_version": "^0.14.0",
       "_view_module_version": "^0.14.0",
       "icon": "IPY_MODEL_e6dbb260690344b9ae20bf39754151d9",
       "location": [
        46.85367,
        -124.95935
       ],
       "options": [
        "alt",
        "draggable",
        "keyboard",
        "rise_offset",
        "rise_on_hover",
        "rotation_angle",
        "rotation_origin",
        "title",
        "z_index_offset"
       ],
       "popup": "IPY_MODEL_c74da5704c2942af8d49357e8cbabed9"
      }
     },
     "bd484707e21646cbaec7e7ce3b3c3064": {
      "model_module": "@jupyter-widgets/controls",
      "model_module_version": "1.5.0",
      "model_name": "DescriptionStyleModel",
      "state": {
       "description_width": ""
      }
     },
     "bda83f21ccc94af982f2bb93d09e5911": {
      "model_module": "jupyter-leaflet",
      "model_module_version": "^0.14.0",
      "model_name": "LeafletFullScreenControlModel",
      "state": {
       "_model_module_version": "^0.14.0",
       "_view_module_version": "^0.14.0",
       "options": [
        "position"
       ]
      }
     },
     "bde40b276dfe44ba96904d7d954e429c": {
      "model_module": "@jupyter-widgets/base",
      "model_module_version": "1.2.0",
      "model_name": "LayoutModel",
      "state": {}
     },
     "bde922853c24420a88d5bbc66585be03": {
      "model_module": "@jupyter-widgets/controls",
      "model_module_version": "1.5.0",
      "model_name": "DescriptionStyleModel",
      "state": {
       "description_width": ""
      }
     },
     "be77c6d99a5c4acc8ad80038133ade8e": {
      "model_module": "@jupyter-widgets/controls",
      "model_module_version": "1.5.0",
      "model_name": "HTMLModel",
      "state": {
       "layout": "IPY_MODEL_ca893056d2034bc0ab7af66e5adcecba",
       "style": "IPY_MODEL_2341b589ed654918b14257b1d0b6d56d",
       "value": "<table border=\"1\" class=\"dataframe table table-striped table-hover table-condensed table-responsive\">\n  <thead>\n    <tr style=\"text-align: right;\">\n      <th></th>\n      <th>11</th>\n    </tr>\n  </thead>\n  <tbody>\n    <tr>\n      <th>Institution</th>\n      <td>Ocean Observatories Initiative (OOI)</td>\n    </tr>\n    <tr>\n      <th>Dataset ID</th>\n      <td>ooi-ce04osbp-lj01c-10-phsend107</td>\n    </tr>\n  </tbody>\n</table>"
      }
     },
     "bede1ec699354ba28d557bca8275c318": {
      "model_module": "@jupyter-widgets/controls",
      "model_module_version": "1.5.0",
      "model_name": "DescriptionStyleModel",
      "state": {
       "description_width": ""
      }
     },
     "bee1f71c9e714842bc4ff2939ee37819": {
      "model_module": "@jupyter-widgets/controls",
      "model_module_version": "1.5.0",
      "model_name": "DescriptionStyleModel",
      "state": {
       "description_width": ""
      }
     },
     "bee4f50a35b44f49ae1f599b8bcb25f2": {
      "model_module": "@jupyter-widgets/base",
      "model_module_version": "1.2.0",
      "model_name": "LayoutModel",
      "state": {}
     },
     "bf1ad1b6ad334607886d182f67495823": {
      "model_module": "@jupyter-widgets/base",
      "model_module_version": "1.2.0",
      "model_name": "LayoutModel",
      "state": {}
     },
     "bf476ddb6bd145ebafe335b3f9d5edcd": {
      "model_module": "jupyter-leaflet",
      "model_module_version": "^0.14.0",
      "model_name": "LeafletMarkerModel",
      "state": {
       "_model_module_version": "^0.14.0",
       "_view_module_version": "^0.14.0",
       "icon": "IPY_MODEL_8ec537e5ac45484e9c82d331531aa751",
       "location": [
        44.63577,
        -124.3035
       ],
       "options": [
        "alt",
        "draggable",
        "keyboard",
        "rise_offset",
        "rise_on_hover",
        "rotation_angle",
        "rotation_origin",
        "title",
        "z_index_offset"
       ],
       "popup": "IPY_MODEL_d8be70c0a47e4500a072634304e30156"
      }
     },
     "bf5e64e8faab46b8acb0005a31f0f0ee": {
      "model_module": "jupyter-leaflet",
      "model_module_version": "^0.14.0",
      "model_name": "LeafletAwesomeIconModel",
      "state": {
       "_model_module_version": "^0.14.0",
       "_view_module_version": "^0.14.0",
       "icon_color": "white",
       "marker_color": "orange",
       "name": "life-ring"
      }
     },
     "bf6573ef98eb4184a472f91deec94208": {
      "model_module": "@jupyter-widgets/base",
      "model_module_version": "1.2.0",
      "model_name": "LayoutModel",
      "state": {}
     },
     "bf6b3c0aaa1e47f69d2ef004b34fd930": {
      "model_module": "jupyter-leaflet",
      "model_module_version": "^0.14.0",
      "model_name": "LeafletAwesomeIconModel",
      "state": {
       "_model_module_version": "^0.14.0",
       "_view_module_version": "^0.14.0",
       "icon_color": "white",
       "marker_color": "orange",
       "name": "life-ring"
      }
     },
     "bf86d8cfa1cd4b93a3612e1b441a62f1": {
      "model_module": "jupyter-leaflet",
      "model_module_version": "^0.14.0",
      "model_name": "LeafletAwesomeIconModel",
      "state": {
       "_model_module_version": "^0.14.0",
       "_view_module_version": "^0.14.0",
       "icon_color": "white",
       "marker_color": "orange",
       "name": "life-ring"
      }
     },
     "bf97989834df4071a0d5e283593fc06d": {
      "model_module": "@jupyter-widgets/base",
      "model_module_version": "1.2.0",
      "model_name": "LayoutModel",
      "state": {}
     },
     "c0204c2f36d2423aa4e1405fc8628057": {
      "model_module": "@jupyter-widgets/controls",
      "model_module_version": "1.5.0",
      "model_name": "DescriptionStyleModel",
      "state": {
       "description_width": ""
      }
     },
     "c03f1b1ad0cb426387bac0308d5feda7": {
      "model_module": "@jupyter-widgets/controls",
      "model_module_version": "1.5.0",
      "model_name": "DescriptionStyleModel",
      "state": {
       "description_width": ""
      }
     },
     "c0fc5c770bb449da812c671c3208576e": {
      "model_module": "jupyter-leaflet",
      "model_module_version": "^0.14.0",
      "model_name": "LeafletAwesomeIconModel",
      "state": {
       "_model_module_version": "^0.14.0",
       "_view_module_version": "^0.14.0",
       "icon_color": "white",
       "marker_color": "orange",
       "name": "life-ring"
      }
     },
     "c12aef9853af4ca5a4fe767ce69b2a33": {
      "model_module": "jupyter-leaflet",
      "model_module_version": "^0.14.0",
      "model_name": "LeafletAwesomeIconModel",
      "state": {
       "_model_module_version": "^0.14.0",
       "_view_module_version": "^0.14.0",
       "icon_color": "white",
       "marker_color": "orange",
       "name": "life-ring"
      }
     },
     "c159fe8cb33749098f0ec8b4cbb91bb9": {
      "model_module": "jupyter-leaflet",
      "model_module_version": "^0.14.0",
      "model_name": "LeafletMarkerModel",
      "state": {
       "_model_module_version": "^0.14.0",
       "_view_module_version": "^0.14.0",
       "icon": "IPY_MODEL_22241d92cb8d4037887ae2f4ac066cdf",
       "location": [
        43.3447,
        -124.3231
       ],
       "options": [
        "alt",
        "draggable",
        "keyboard",
        "rise_offset",
        "rise_on_hover",
        "rotation_angle",
        "rotation_origin",
        "title",
        "z_index_offset"
       ],
       "popup": "IPY_MODEL_56cde663155449f4bf6be550c8594847"
      }
     },
     "c1e88ae1d72542e1bcfff1d814413bf4": {
      "model_module": "@jupyter-widgets/base",
      "model_module_version": "1.2.0",
      "model_name": "LayoutModel",
      "state": {}
     },
     "c1ed8d6365184a80ba44415b1cdd9b89": {
      "model_module": "@jupyter-widgets/base",
      "model_module_version": "1.2.0",
      "model_name": "LayoutModel",
      "state": {}
     },
     "c21e72472cfe46e18c8b5e105ff8e3f0": {
      "model_module": "@jupyter-widgets/controls",
      "model_module_version": "1.5.0",
      "model_name": "DescriptionStyleModel",
      "state": {
       "description_width": ""
      }
     },
     "c22a5ca50e79463682888f3a2a36da4d": {
      "model_module": "@jupyter-widgets/controls",
      "model_module_version": "1.5.0",
      "model_name": "HTMLModel",
      "state": {
       "layout": "IPY_MODEL_d324a022377a4e6ba40c2fcdf6619510",
       "style": "IPY_MODEL_8f0d8909d3cf40e4b1fee7b1cfbf399e",
       "value": "<table border=\"1\" class=\"dataframe table table-striped table-hover table-condensed table-responsive\">\n  <thead>\n    <tr style=\"text-align: right;\">\n      <th></th>\n      <th>46</th>\n    </tr>\n  </thead>\n  <tbody>\n    <tr>\n      <th>Institution</th>\n      <td>Ocean Observatories Initiative (OOI)</td>\n    </tr>\n    <tr>\n      <th>Dataset ID</th>\n      <td>ooi-ce09ossm-mfd37-03-ctdbpe000</td>\n    </tr>\n  </tbody>\n</table>"
      }
     },
     "c2817155860e4b159ae14f60024aa268": {
      "model_module": "jupyter-leaflet",
      "model_module_version": "^0.14.0",
      "model_name": "LeafletAwesomeIconModel",
      "state": {
       "_model_module_version": "^0.14.0",
       "_view_module_version": "^0.14.0",
       "icon_color": "white",
       "name": "life-ring"
      }
     },
     "c360ba98a8004574a498ac59cb32b8e5": {
      "model_module": "@jupyter-widgets/controls",
      "model_module_version": "1.5.0",
      "model_name": "DescriptionStyleModel",
      "state": {
       "description_width": ""
      }
     },
     "c3c0b0efe8ae4ebe978b5b22460d7c4f": {
      "model_module": "jupyter-leaflet",
      "model_module_version": "^0.14.0",
      "model_name": "LeafletAwesomeIconModel",
      "state": {
       "_model_module_version": "^0.14.0",
       "_view_module_version": "^0.14.0",
       "icon_color": "white",
       "marker_color": "orange",
       "name": "life-ring"
      }
     },
     "c3f7aa96f67e4e19b369b6db4ceed932": {
      "model_module": "jupyter-leaflet",
      "model_module_version": "^0.14.0",
      "model_name": "LeafletAwesomeIconModel",
      "state": {
       "_model_module_version": "^0.14.0",
       "_view_module_version": "^0.14.0",
       "icon_color": "white",
       "marker_color": "orange",
       "name": "life-ring"
      }
     },
     "c436533bb6b244baaa7cc1b980081687": {
      "model_module": "@jupyter-widgets/controls",
      "model_module_version": "1.5.0",
      "model_name": "HTMLModel",
      "state": {
       "layout": "IPY_MODEL_a1048b680f34439bac6daafd70de1593",
       "style": "IPY_MODEL_1618252b0b264742b40e7da25b34af2a",
       "value": "<table border=\"1\" class=\"dataframe table table-striped table-hover table-condensed table-responsive\">\n  <thead>\n    <tr style=\"text-align: right;\">\n      <th></th>\n      <th>56</th>\n    </tr>\n  </thead>\n  <tbody>\n    <tr>\n      <th>Institution</th>\n      <td>Ocean Observatories Initiative (OOI)</td>\n    </tr>\n    <tr>\n      <th>Dataset ID</th>\n      <td>ooi-ce07shsm-mfd37-03-dostad000</td>\n    </tr>\n  </tbody>\n</table>"
      }
     },
     "c445271f7921499488208fa1e428ee88": {
      "model_module": "@jupyter-widgets/controls",
      "model_module_version": "1.5.0",
      "model_name": "HTMLModel",
      "state": {
       "layout": "IPY_MODEL_df246e3f653d4a50ac1a32a13133e6e3",
       "style": "IPY_MODEL_0662c6a6d45c457ca646d1e8d322bf7a",
       "value": "<table border=\"1\" class=\"dataframe table table-striped table-hover table-condensed table-responsive\">\n  <thead>\n    <tr style=\"text-align: right;\">\n      <th></th>\n      <th>8</th>\n    </tr>\n  </thead>\n  <tbody>\n    <tr>\n      <th>Institution</th>\n      <td>Ocean Observatories Initiative (OOI)</td>\n    </tr>\n    <tr>\n      <th>Dataset ID</th>\n      <td>ooi-ce01issm-sbd17-06-flortd000</td>\n    </tr>\n  </tbody>\n</table>"
      }
     },
     "c46bc3cc4e3b4d6f8821ba41b8cd6b19": {
      "model_module": "@jupyter-widgets/controls",
      "model_module_version": "1.5.0",
      "model_name": "DescriptionStyleModel",
      "state": {
       "description_width": ""
      }
     },
     "c49a3d426d0046f9beceff1fed73c635": {
      "model_module": "@jupyter-widgets/controls",
      "model_module_version": "1.5.0",
      "model_name": "HTMLModel",
      "state": {
       "layout": "IPY_MODEL_f6115e22883d4a4dbb14341ef839f1e0",
       "style": "IPY_MODEL_fb2aac8401b24b42a70ff28d68a66a16",
       "value": "<table border=\"1\" class=\"dataframe table table-striped table-hover table-condensed table-responsive\">\n  <thead>\n    <tr style=\"text-align: right;\">\n      <th></th>\n      <th>61</th>\n    </tr>\n  </thead>\n  <tbody>\n    <tr>\n      <th>Institution</th>\n      <td>Ocean Observatories Initiative (OOI)</td>\n    </tr>\n    <tr>\n      <th>Dataset ID</th>\n      <td>ooi-rs01sbps-pc01a-4a-ctdpfa103</td>\n    </tr>\n  </tbody>\n</table>"
      }
     },
     "c4ac9fe3bd874e8d853d740404c2fe47": {
      "model_module": "jupyter-leaflet",
      "model_module_version": "^0.14.0",
      "model_name": "LeafletAwesomeIconModel",
      "state": {
       "_model_module_version": "^0.14.0",
       "_view_module_version": "^0.14.0",
       "icon_color": "white",
       "marker_color": "orange",
       "name": "life-ring"
      }
     },
     "c4d26b29cb7a43a78b0067793586c8fc": {
      "model_module": "@jupyter-widgets/controls",
      "model_module_version": "1.5.0",
      "model_name": "DescriptionStyleModel",
      "state": {
       "description_width": ""
      }
     },
     "c4ea2cda5cfb46f3a1415cef7f622c63": {
      "model_module": "jupyter-leaflet",
      "model_module_version": "^0.14.0",
      "model_name": "LeafletMarkerModel",
      "state": {
       "_model_module_version": "^0.14.0",
       "_view_module_version": "^0.14.0",
       "icon": "IPY_MODEL_74b096c74bb04e4da7ce31c5014f7aeb",
       "location": [
        44.37868,
        -124.94508
       ],
       "options": [
        "alt",
        "draggable",
        "keyboard",
        "rise_offset",
        "rise_on_hover",
        "rotation_angle",
        "rotation_origin",
        "title",
        "z_index_offset"
       ],
       "popup": "IPY_MODEL_5df4d886f50c421da1f286bceb90f809"
      }
     },
     "c4f2cd1075ec4710adea0505ada84bcc": {
      "model_module": "@jupyter-widgets/controls",
      "model_module_version": "1.5.0",
      "model_name": "DescriptionStyleModel",
      "state": {
       "description_width": ""
      }
     },
     "c53c59a50cde4a8185c44ce5b961158a": {
      "model_module": "@jupyter-widgets/base",
      "model_module_version": "1.2.0",
      "model_name": "LayoutModel",
      "state": {}
     },
     "c55a38762e164f5f8530afbdd5613c62": {
      "model_module": "@jupyter-widgets/controls",
      "model_module_version": "1.5.0",
      "model_name": "DescriptionStyleModel",
      "state": {
       "description_width": ""
      }
     },
     "c55a8389a57848dc9734d903bc8ce72b": {
      "model_module": "jupyter-leaflet",
      "model_module_version": "^0.14.0",
      "model_name": "LeafletMarkerModel",
      "state": {
       "_model_module_version": "^0.14.0",
       "_view_module_version": "^0.14.0",
       "icon": "IPY_MODEL_9801edd05d394c2385988c835d0eed2a",
       "location": [
        44.63577,
        -124.3035
       ],
       "options": [
        "alt",
        "draggable",
        "keyboard",
        "rise_offset",
        "rise_on_hover",
        "rotation_angle",
        "rotation_origin",
        "title",
        "z_index_offset"
       ],
       "popup": "IPY_MODEL_b096ac6208654732805fc2e0cff2f54f"
      }
     },
     "c5e2fb4449b749e494cf66b5c164522d": {
      "model_module": "jupyter-leaflet",
      "model_module_version": "^0.14.0",
      "model_name": "LeafletMarkerModel",
      "state": {
       "_model_module_version": "^0.14.0",
       "_view_module_version": "^0.14.0",
       "icon": "IPY_MODEL_0b0dd053b469474594ce0d75bebe889b",
       "location": [
        44.37868,
        -124.94508
       ],
       "options": [
        "alt",
        "draggable",
        "keyboard",
        "rise_offset",
        "rise_on_hover",
        "rotation_angle",
        "rotation_origin",
        "title",
        "z_index_offset"
       ],
       "popup": "IPY_MODEL_cad77508f35a469c81cce5d550c0b5ab"
      }
     },
     "c609ebe4b19041deb8ec0b11a00af6af": {
      "model_module": "jupyter-leaflet",
      "model_module_version": "^0.14.0",
      "model_name": "LeafletAwesomeIconModel",
      "state": {
       "_model_module_version": "^0.14.0",
       "_view_module_version": "^0.14.0",
       "icon_color": "white",
       "marker_color": "orange",
       "name": "life-ring"
      }
     },
     "c64426fd746f47519d3e25edae5cdc5c": {
      "model_module": "@jupyter-widgets/base",
      "model_module_version": "1.2.0",
      "model_name": "LayoutModel",
      "state": {}
     },
     "c646a06be3664584a8b9218dd5c36ed7": {
      "model_module": "jupyter-leaflet",
      "model_module_version": "^0.14.0",
      "model_name": "LeafletAwesomeIconModel",
      "state": {
       "_model_module_version": "^0.14.0",
       "_view_module_version": "^0.14.0",
       "icon_color": "white",
       "marker_color": "orange",
       "name": "life-ring"
      }
     },
     "c65ea4c583ad40a7944d12823b2815aa": {
      "model_module": "@jupyter-widgets/controls",
      "model_module_version": "1.5.0",
      "model_name": "DescriptionStyleModel",
      "state": {
       "description_width": ""
      }
     },
     "c664a71ac3874b3a9adc6688df5d1f25": {
      "model_module": "@jupyter-widgets/base",
      "model_module_version": "1.2.0",
      "model_name": "LayoutModel",
      "state": {}
     },
     "c69b045f75174aa1ab5ece916f834057": {
      "model_module": "jupyter-leaflet",
      "model_module_version": "^0.14.0",
      "model_name": "LeafletAwesomeIconModel",
      "state": {
       "_model_module_version": "^0.14.0",
       "_view_module_version": "^0.14.0",
       "icon_color": "white",
       "marker_color": "orange",
       "name": "life-ring"
      }
     },
     "c6c7054363674edd8390785f5c349a31": {
      "model_module": "jupyter-leaflet",
      "model_module_version": "^0.14.0",
      "model_name": "LeafletAwesomeIconModel",
      "state": {
       "_model_module_version": "^0.14.0",
       "_view_module_version": "^0.14.0",
       "icon_color": "white",
       "marker_color": "orange",
       "name": "life-ring"
      }
     },
     "c6f7f0135e47442b9865f28070b6f626": {
      "model_module": "@jupyter-widgets/controls",
      "model_module_version": "1.5.0",
      "model_name": "DescriptionStyleModel",
      "state": {
       "description_width": ""
      }
     },
     "c72c697c90514fa3b1f7f65b61d77b03": {
      "model_module": "@jupyter-widgets/controls",
      "model_module_version": "1.5.0",
      "model_name": "HTMLModel",
      "state": {
       "layout": "IPY_MODEL_0c14b03fec56429ea4d7d48d03136a88",
       "style": "IPY_MODEL_1cf7b5d9b214436ca06004eec0c927ad",
       "value": "<table border=\"1\" class=\"dataframe table table-striped table-hover table-condensed table-responsive\">\n  <thead>\n    <tr style=\"text-align: right;\">\n      <th></th>\n      <th>43</th>\n    </tr>\n  </thead>\n  <tbody>\n    <tr>\n      <th>Institution</th>\n      <td>Ocean Observatories Initiative (OOI)</td>\n    </tr>\n    <tr>\n      <th>Dataset ID</th>\n      <td>ooi-ce09ossm-rid27-04-dostad000</td>\n    </tr>\n  </tbody>\n</table>"
      }
     },
     "c74da5704c2942af8d49357e8cbabed9": {
      "model_module": "@jupyter-widgets/controls",
      "model_module_version": "1.5.0",
      "model_name": "HTMLModel",
      "state": {
       "layout": "IPY_MODEL_8dc712f8e26b4743b13a150a7c39c77b",
       "style": "IPY_MODEL_7f59196a7bac4b1ea91a9760eec939ac",
       "value": "<table border=\"1\" class=\"dataframe table table-striped table-hover table-condensed table-responsive\">\n  <thead>\n    <tr style=\"text-align: right;\">\n      <th></th>\n      <th>44</th>\n    </tr>\n  </thead>\n  <tbody>\n    <tr>\n      <th>Institution</th>\n      <td>Ocean Observatories Initiative (OOI)</td>\n    </tr>\n    <tr>\n      <th>Dataset ID</th>\n      <td>ooi-ce09ossm-rid26-07-nutnrb000</td>\n    </tr>\n  </tbody>\n</table>"
      }
     },
     "c79af96477f342509b5fb05c6eacdf8a": {
      "model_module": "@jupyter-widgets/controls",
      "model_module_version": "1.5.0",
      "model_name": "DescriptionStyleModel",
      "state": {
       "description_width": ""
      }
     },
     "c7a639dcc81b473cad594d29115d58e2": {
      "model_module": "@jupyter-widgets/base",
      "model_module_version": "1.2.0",
      "model_name": "LayoutModel",
      "state": {}
     },
     "c7acd5a10d75464c9919d8d87d1f03c5": {
      "model_module": "jupyter-leaflet",
      "model_module_version": "^0.14.0",
      "model_name": "LeafletMarkerModel",
      "state": {
       "_model_module_version": "^0.14.0",
       "_view_module_version": "^0.14.0",
       "icon": "IPY_MODEL_4713f15855f449f284f184cb36eed50b",
       "location": [
        47.1345,
        -124.27087
       ],
       "options": [
        "alt",
        "draggable",
        "keyboard",
        "rise_offset",
        "rise_on_hover",
        "rotation_angle",
        "rotation_origin",
        "title",
        "z_index_offset"
       ],
       "popup": "IPY_MODEL_009f1600d4d943f2bbedfa3200a8e67d"
      }
     },
     "c84c3b92794f4621a61b442b9ad2d859": {
      "model_module": "@jupyter-widgets/controls",
      "model_module_version": "1.5.0",
      "model_name": "HTMLModel",
      "state": {
       "layout": "IPY_MODEL_826240ef379d46c382797ef7100075b0",
       "style": "IPY_MODEL_97bf2530603b4c91b68393cb675794e4",
       "value": "<table border=\"1\" class=\"dataframe table table-striped table-hover table-condensed table-responsive\">\n  <thead>\n    <tr style=\"text-align: right;\">\n      <th></th>\n      <th>42</th>\n    </tr>\n  </thead>\n  <tbody>\n    <tr>\n      <th>Institution</th>\n      <td>Ocean Observatories Initiative (OOI)</td>\n    </tr>\n    <tr>\n      <th>Dataset ID</th>\n      <td>ooi-ce09ossm-rid27-03-ctdbpc000</td>\n    </tr>\n  </tbody>\n</table>"
      }
     },
     "c8563b6e220942ef82fd7fa8d07900eb": {
      "model_module": "@jupyter-widgets/base",
      "model_module_version": "1.2.0",
      "model_name": "LayoutModel",
      "state": {}
     },
     "c869d6311ac14795a9dfe4a43dcb6e74": {
      "model_module": "jupyter-leaflet",
      "model_module_version": "^0.14.0",
      "model_name": "LeafletAwesomeIconModel",
      "state": {
       "_model_module_version": "^0.14.0",
       "_view_module_version": "^0.14.0",
       "icon_color": "white",
       "marker_color": "orange",
       "name": "life-ring"
      }
     },
     "c86e2fb4e765400e8dce963518421041": {
      "model_module": "jupyter-leaflet",
      "model_module_version": "^0.14.0",
      "model_name": "LeafletAwesomeIconModel",
      "state": {
       "_model_module_version": "^0.14.0",
       "_view_module_version": "^0.14.0",
       "icon_color": "white",
       "marker_color": "orange",
       "name": "life-ring"
      }
     },
     "c94fb32d97f74d8fa64d728766c92e46": {
      "model_module": "@jupyter-widgets/controls",
      "model_module_version": "1.5.0",
      "model_name": "DescriptionStyleModel",
      "state": {
       "description_width": ""
      }
     },
     "c95ea904f36c4f98824aa75f38a6c047": {
      "model_module": "jupyter-leaflet",
      "model_module_version": "^0.14.0",
      "model_name": "LeafletMarkerModel",
      "state": {
       "_model_module_version": "^0.14.0",
       "_view_module_version": "^0.14.0",
       "icon": "IPY_MODEL_79ac80d10a9e4a94b0262cb77b088d82",
       "location": [
        44.37868,
        -124.94508
       ],
       "options": [
        "alt",
        "draggable",
        "keyboard",
        "rise_offset",
        "rise_on_hover",
        "rotation_angle",
        "rotation_origin",
        "title",
        "z_index_offset"
       ],
       "popup": "IPY_MODEL_2d85e09360d443dfb7cfb6245c5bd1dd"
      }
     },
     "c9866e1d370149ac91e3f4a343a9abd5": {
      "model_module": "@jupyter-widgets/controls",
      "model_module_version": "1.5.0",
      "model_name": "DescriptionStyleModel",
      "state": {
       "description_width": ""
      }
     },
     "c9897a5c3aef46dd84bbac014a01182a": {
      "model_module": "@jupyter-widgets/controls",
      "model_module_version": "1.5.0",
      "model_name": "DescriptionStyleModel",
      "state": {
       "description_width": ""
      }
     },
     "c9991b3850de4f809106db77293b6be2": {
      "model_module": "jupyter-leaflet",
      "model_module_version": "^0.14.0",
      "model_name": "LeafletAwesomeIconModel",
      "state": {
       "_model_module_version": "^0.14.0",
       "_view_module_version": "^0.14.0",
       "icon_color": "white",
       "marker_color": "orange",
       "name": "life-ring"
      }
     },
     "c9a9f0d8d283452db12efb91fba239f1": {
      "model_module": "@jupyter-widgets/controls",
      "model_module_version": "1.5.0",
      "model_name": "DescriptionStyleModel",
      "state": {
       "description_width": ""
      }
     },
     "c9f2004cf7fd4f6eac91f65695b145a4": {
      "model_module": "@jupyter-widgets/base",
      "model_module_version": "1.2.0",
      "model_name": "LayoutModel",
      "state": {}
     },
     "ca260d675dc447928567a37bdecc496d": {
      "model_module": "@jupyter-widgets/controls",
      "model_module_version": "1.5.0",
      "model_name": "HTMLModel",
      "state": {
       "layout": "IPY_MODEL_c9f2004cf7fd4f6eac91f65695b145a4",
       "style": "IPY_MODEL_4522eb088f314feaa42720abeb900a0d",
       "value": "<table border=\"1\" class=\"dataframe table table-striped table-hover table-condensed table-responsive\">\n  <thead>\n    <tr style=\"text-align: right;\">\n      <th></th>\n      <th>8</th>\n    </tr>\n  </thead>\n  <tbody>\n    <tr>\n      <th>Institution</th>\n      <td>Ocean Observatories Initiative (OOI)</td>\n    </tr>\n    <tr>\n      <th>Dataset ID</th>\n      <td>ooi-ce01issm-sbd17-06-flortd000</td>\n    </tr>\n  </tbody>\n</table>"
      }
     },
     "ca2c0f6b9cf04f598514d0d041e80267": {
      "model_module": "jupyter-leaflet",
      "model_module_version": "^0.14.0",
      "model_name": "LeafletAwesomeIconModel",
      "state": {
       "_model_module_version": "^0.14.0",
       "_view_module_version": "^0.14.0",
       "icon_color": "white",
       "marker_color": "orange",
       "name": "life-ring"
      }
     },
     "ca893056d2034bc0ab7af66e5adcecba": {
      "model_module": "@jupyter-widgets/base",
      "model_module_version": "1.2.0",
      "model_name": "LayoutModel",
      "state": {}
     },
     "cabf06d759e24e5cba53bb6b8670d536": {
      "model_module": "jupyter-leaflet",
      "model_module_version": "^0.14.0",
      "model_name": "LeafletMarkerModel",
      "state": {
       "_model_module_version": "^0.14.0",
       "_view_module_version": "^0.14.0",
       "icon": "IPY_MODEL_d299d118fe324d018ca0b0620287059c",
       "location": [
        47.1345,
        -124.27087
       ],
       "options": [
        "alt",
        "draggable",
        "keyboard",
        "rise_offset",
        "rise_on_hover",
        "rotation_angle",
        "rotation_origin",
        "title",
        "z_index_offset"
       ],
       "popup": "IPY_MODEL_9ccbdd752aab4934acc757841f595857"
      }
     },
     "cad77508f35a469c81cce5d550c0b5ab": {
      "model_module": "@jupyter-widgets/controls",
      "model_module_version": "1.5.0",
      "model_name": "HTMLModel",
      "state": {
       "layout": "IPY_MODEL_20b0cf410e0b44ed8cdb13b7732492cb",
       "style": "IPY_MODEL_9d620710b304491284aa708161982962",
       "value": "<table border=\"1\" class=\"dataframe table table-striped table-hover table-condensed table-responsive\">\n  <thead>\n    <tr style=\"text-align: right;\">\n      <th></th>\n      <th>18</th>\n    </tr>\n  </thead>\n  <tbody>\n    <tr>\n      <th>Institution</th>\n      <td>Ocean Observatories Initiative (OOI)</td>\n    </tr>\n    <tr>\n      <th>Dataset ID</th>\n      <td>ooi-ce04ossm-rid26-07-nutnrb000</td>\n    </tr>\n  </tbody>\n</table>"
      }
     },
     "caf1a892ab4e41f68a06fb49c4af08f8": {
      "model_module": "jupyter-leaflet",
      "model_module_version": "^0.14.0",
      "model_name": "LeafletMarkerModel",
      "state": {
       "_model_module_version": "^0.14.0",
       "_view_module_version": "^0.14.0",
       "icon": "IPY_MODEL_a3d9f7814ab24b1e9086e734d8f73843",
       "location": [
        46.86503,
        -124.94828
       ],
       "options": [
        "alt",
        "draggable",
        "keyboard",
        "rise_offset",
        "rise_on_hover",
        "rotation_angle",
        "rotation_origin",
        "title",
        "z_index_offset"
       ],
       "popup": "IPY_MODEL_ebe499337cae4db986be39d8aa9051ac"
      }
     },
     "cb3640f7857545ae82921e9a3ec83f16": {
      "model_module": "@jupyter-widgets/controls",
      "model_module_version": "1.5.0",
      "model_name": "DescriptionStyleModel",
      "state": {
       "description_width": ""
      }
     },
     "cb68ab5c4897422f810220a13638fbfe": {
      "model_module": "jupyter-leaflet",
      "model_module_version": "^0.14.0",
      "model_name": "LeafletAwesomeIconModel",
      "state": {
       "_model_module_version": "^0.14.0",
       "_view_module_version": "^0.14.0",
       "icon_color": "white",
       "marker_color": "orange",
       "name": "life-ring"
      }
     },
     "cbb4aa9101a04c4ca0eb3ed310b1db3e": {
      "model_module": "jupyter-leaflet",
      "model_module_version": "^0.14.0",
      "model_name": "LeafletMarkerModel",
      "state": {
       "_model_module_version": "^0.14.0",
       "_view_module_version": "^0.14.0",
       "icon": "IPY_MODEL_70227ff895a14a2099f61936ee1e21bc",
       "location": [
        46.85367,
        -124.95935
       ],
       "options": [
        "alt",
        "draggable",
        "keyboard",
        "rise_offset",
        "rise_on_hover",
        "rotation_angle",
        "rotation_origin",
        "title",
        "z_index_offset"
       ],
       "popup": "IPY_MODEL_d4c40119862b4ca58cf9b8135a213ba4"
      }
     },
     "cbc1ae8c4df74ec9a36eccc55ae98dde": {
      "model_module": "@jupyter-widgets/controls",
      "model_module_version": "1.5.0",
      "model_name": "DescriptionStyleModel",
      "state": {
       "description_width": ""
      }
     },
     "cbefa7f6fdd141c9879e53902a0d00fe": {
      "model_module": "@jupyter-widgets/base",
      "model_module_version": "1.2.0",
      "model_name": "LayoutModel",
      "state": {}
     },
     "cc212b8bd1634c2fbe5d0acb0a7091f0": {
      "model_module": "@jupyter-widgets/base",
      "model_module_version": "1.2.0",
      "model_name": "LayoutModel",
      "state": {}
     },
     "cc9aedf51e3640f2aa65e83ca569b3a8": {
      "model_module": "jupyter-leaflet",
      "model_module_version": "^0.14.0",
      "model_name": "LeafletAwesomeIconModel",
      "state": {
       "_model_module_version": "^0.14.0",
       "_view_module_version": "^0.14.0",
       "icon_color": "white",
       "marker_color": "orange",
       "name": "life-ring"
      }
     },
     "cd2613824efa49bbb180f96c1786a698": {
      "model_module": "@jupyter-widgets/base",
      "model_module_version": "1.2.0",
      "model_name": "LayoutModel",
      "state": {}
     },
     "cd711a8957904fa9afe267b21ea68081": {
      "model_module": "jupyter-leaflet",
      "model_module_version": "^0.14.0",
      "model_name": "LeafletMarkerModel",
      "state": {
       "_model_module_version": "^0.14.0",
       "_view_module_version": "^0.14.0",
       "icon": "IPY_MODEL_f2bf2bcc8f8d43aabfe2f1adb4713ac5",
       "location": [
        46.5007019042969,
        -124.030403137207
       ],
       "options": [
        "alt",
        "draggable",
        "keyboard",
        "rise_offset",
        "rise_on_hover",
        "rotation_angle",
        "rotation_origin",
        "title",
        "z_index_offset"
       ],
       "popup": "IPY_MODEL_76cb07da6b6947a58aeaf5a6cbceb332"
      }
     },
     "cd72b22a7e674ae3819e7a6de0239be4": {
      "model_module": "@jupyter-widgets/base",
      "model_module_version": "1.2.0",
      "model_name": "LayoutModel",
      "state": {}
     },
     "cda38f35c634412fbb6a905c8fc77f3a": {
      "model_module": "@jupyter-widgets/controls",
      "model_module_version": "1.5.0",
      "model_name": "DescriptionStyleModel",
      "state": {
       "description_width": ""
      }
     },
     "cdf8b42fa7484c6383d8da8e3ddaf547": {
      "model_module": "jupyter-leaflet",
      "model_module_version": "^0.14.0",
      "model_name": "LeafletAwesomeIconModel",
      "state": {
       "_model_module_version": "^0.14.0",
       "_view_module_version": "^0.14.0",
       "icon_color": "white",
       "name": "life-ring"
      }
     },
     "cee856d9327246f1bbd5bbdf84e879d5": {
      "model_module": "@jupyter-widgets/controls",
      "model_module_version": "1.5.0",
      "model_name": "DescriptionStyleModel",
      "state": {
       "description_width": ""
      }
     },
     "cefe307eb8a44572b927594be899f092": {
      "model_module": "@jupyter-widgets/controls",
      "model_module_version": "1.5.0",
      "model_name": "DescriptionStyleModel",
      "state": {
       "description_width": ""
      }
     },
     "cf6fe94529134085b9570c7fb4793879": {
      "model_module": "jupyter-leaflet",
      "model_module_version": "^0.14.0",
      "model_name": "LeafletMarkerModel",
      "state": {
       "_model_module_version": "^0.14.0",
       "_view_module_version": "^0.14.0",
       "icon": "IPY_MODEL_2d80f1c402944f7aad980a3f4552a20f",
       "location": [
        44.52897,
        -125.38966
       ],
       "options": [
        "alt",
        "draggable",
        "keyboard",
        "rise_offset",
        "rise_on_hover",
        "rotation_angle",
        "rotation_origin",
        "title",
        "z_index_offset"
       ],
       "popup": "IPY_MODEL_212009cea390457899b1ab5f4b1c019d"
      }
     },
     "d044f59ff5b14a108ddf2fd246f590a4": {
      "model_module": "@jupyter-widgets/controls",
      "model_module_version": "1.5.0",
      "model_name": "DescriptionStyleModel",
      "state": {
       "description_width": ""
      }
     },
     "d06a5100a7ac4e10993d9ebab9d3156b": {
      "model_module": "@jupyter-widgets/controls",
      "model_module_version": "1.5.0",
      "model_name": "HTMLModel",
      "state": {
       "layout": "IPY_MODEL_ec4fcc29cc324dc9bda9ddc330f841b9",
       "style": "IPY_MODEL_c4d26b29cb7a43a78b0067793586c8fc",
       "value": "<table border=\"1\" class=\"dataframe table table-striped table-hover table-condensed table-responsive\">\n  <thead>\n    <tr style=\"text-align: right;\">\n      <th></th>\n      <th>3</th>\n    </tr>\n  </thead>\n  <tbody>\n    <tr>\n      <th>Institution</th>\n      <td>Ocean Observatories Initiative (OOI)</td>\n    </tr>\n    <tr>\n      <th>Dataset ID</th>\n      <td>ooi-ce01issm-rid16-07-nutnrb000</td>\n    </tr>\n  </tbody>\n</table>"
      }
     },
     "d0cec5ab52304ae9b773bd4b534edc1e": {
      "model_module": "@jupyter-widgets/controls",
      "model_module_version": "1.5.0",
      "model_name": "HTMLModel",
      "state": {
       "layout": "IPY_MODEL_aafb4e6331f54eb68e4916ac2925e4a9",
       "style": "IPY_MODEL_338b38a5e98a4893baee958ce27ce000",
       "value": "<table border=\"1\" class=\"dataframe table table-striped table-hover table-condensed table-responsive\">\n  <thead>\n    <tr style=\"text-align: right;\">\n      <th></th>\n      <th>5</th>\n    </tr>\n  </thead>\n  <tbody>\n    <tr>\n      <th>Institution</th>\n      <td>Ocean Observatories Initiative (OOI)</td>\n    </tr>\n    <tr>\n      <th>Dataset ID</th>\n      <td>ooi-ce01issm-mfd37-03-ctdbpc000</td>\n    </tr>\n  </tbody>\n</table>"
      }
     },
     "d113f4dec824480a815d9bd0fa0113a1": {
      "model_module": "jupyter-leaflet",
      "model_module_version": "^0.14.0",
      "model_name": "LeafletAwesomeIconModel",
      "state": {
       "_model_module_version": "^0.14.0",
       "_view_module_version": "^0.14.0",
       "icon_color": "white",
       "name": "life-ring"
      }
     },
     "d12dd6ac86574a8bbeca5d4a85e44dd3": {
      "model_module": "@jupyter-widgets/controls",
      "model_module_version": "1.5.0",
      "model_name": "DescriptionStyleModel",
      "state": {
       "description_width": ""
      }
     },
     "d13a34ad46334c68860b7681ff0630e2": {
      "model_module": "jupyter-leaflet",
      "model_module_version": "^0.14.0",
      "model_name": "LeafletMarkerModel",
      "state": {
       "_model_module_version": "^0.14.0",
       "_view_module_version": "^0.14.0",
       "icon": "IPY_MODEL_8788f467b9d34702abcbc5af55fccfdd",
       "location": [
        44.37868,
        -124.94508
       ],
       "options": [
        "alt",
        "draggable",
        "keyboard",
        "rise_offset",
        "rise_on_hover",
        "rotation_angle",
        "rotation_origin",
        "title",
        "z_index_offset"
       ],
       "popup": "IPY_MODEL_68c99f32e8104f3f9c7c0e05176b575b"
      }
     },
     "d1b42f5f7e7d41c7aab2ea94d4b2ff32": {
      "model_module": "jupyter-leaflet",
      "model_module_version": "^0.14.0",
      "model_name": "LeafletMarkerModel",
      "state": {
       "_model_module_version": "^0.14.0",
       "_view_module_version": "^0.14.0",
       "icon": "IPY_MODEL_8dd12761647a465783339cee08532a79",
       "location": [
        47.9739990234375,
        -124.955001831055
       ],
       "options": [
        "alt",
        "draggable",
        "keyboard",
        "rise_offset",
        "rise_on_hover",
        "rotation_angle",
        "rotation_origin",
        "title",
        "z_index_offset"
       ],
       "popup": "IPY_MODEL_db8166393adf4a35bb72cc49c6a44e6f"
      }
     },
     "d1cff6656cc74062b0acbb85736d8f22": {
      "model_module": "jupyter-leaflet",
      "model_module_version": "^0.14.0",
      "model_name": "LeafletMarkerModel",
      "state": {
       "_model_module_version": "^0.14.0",
       "_view_module_version": "^0.14.0",
       "icon": "IPY_MODEL_99eabbc34ca846debb5374663f09c4ac",
       "location": [
        46.98648,
        -124.56923
       ],
       "options": [
        "alt",
        "draggable",
        "keyboard",
        "rise_offset",
        "rise_on_hover",
        "rotation_angle",
        "rotation_origin",
        "title",
        "z_index_offset"
       ],
       "popup": "IPY_MODEL_4ea3edfc6ee144e5bba11112ab0225e7"
      }
     },
     "d24bb16c80ba45b88a7889bf9e03428f": {
      "model_module": "@jupyter-widgets/base",
      "model_module_version": "1.2.0",
      "model_name": "LayoutModel",
      "state": {}
     },
     "d299d118fe324d018ca0b0620287059c": {
      "model_module": "jupyter-leaflet",
      "model_module_version": "^0.14.0",
      "model_name": "LeafletAwesomeIconModel",
      "state": {
       "_model_module_version": "^0.14.0",
       "_view_module_version": "^0.14.0",
       "icon_color": "white",
       "marker_color": "orange",
       "name": "life-ring"
      }
     },
     "d2b7701090b94399af2e9cd8a37f8601": {
      "model_module": "@jupyter-widgets/controls",
      "model_module_version": "1.5.0",
      "model_name": "HTMLModel",
      "state": {
       "layout": "IPY_MODEL_f283cd16cd2640188bc2faf47e54f72f",
       "style": "IPY_MODEL_5542e5eb87464c68bdc90f4a426dc4bd",
       "value": "<table border=\"1\" class=\"dataframe table table-striped table-hover table-condensed table-responsive\">\n  <thead>\n    <tr style=\"text-align: right;\">\n      <th></th>\n      <th>57</th>\n    </tr>\n  </thead>\n  <tbody>\n    <tr>\n      <th>Institution</th>\n      <td>Ocean Observatories Initiative (OOI)</td>\n    </tr>\n    <tr>\n      <th>Dataset ID</th>\n      <td>ooi-ce07shsm-mfd35-06-phsend000</td>\n    </tr>\n  </tbody>\n</table>"
      }
     },
     "d2c0991ec1774b3e9b21555fb88443fe": {
      "model_module": "@jupyter-widgets/base",
      "model_module_version": "1.2.0",
      "model_name": "LayoutModel",
      "state": {}
     },
     "d2c9511f951647cd9bf6259b5c171e5a": {
      "model_module": "jupyter-leaflet",
      "model_module_version": "^0.14.0",
      "model_name": "LeafletMarkerModel",
      "state": {
       "_model_module_version": "^0.14.0",
       "_view_module_version": "^0.14.0",
       "icon": "IPY_MODEL_e9189fc217b34d18addfe6fdd3a6e1bc",
       "location": [
        46.85367,
        -124.95935
       ],
       "options": [
        "alt",
        "draggable",
        "keyboard",
        "rise_offset",
        "rise_on_hover",
        "rotation_angle",
        "rotation_origin",
        "title",
        "z_index_offset"
       ],
       "popup": "IPY_MODEL_300049c4f8704f3a945502cfdd850648"
      }
     },
     "d322222a5d1f4db7863efb99aaa4cf3a": {
      "model_module": "@jupyter-widgets/controls",
      "model_module_version": "1.5.0",
      "model_name": "DescriptionStyleModel",
      "state": {
       "description_width": ""
      }
     },
     "d324a022377a4e6ba40c2fcdf6619510": {
      "model_module": "@jupyter-widgets/base",
      "model_module_version": "1.2.0",
      "model_name": "LayoutModel",
      "state": {}
     },
     "d39b29ff0adf4773aa02dbf8735d068d": {
      "model_module": "@jupyter-widgets/controls",
      "model_module_version": "1.5.0",
      "model_name": "DescriptionStyleModel",
      "state": {
       "description_width": ""
      }
     },
     "d3f10d5749524bd9a7632b1e8dc8a38f": {
      "model_module": "@jupyter-widgets/controls",
      "model_module_version": "1.5.0",
      "model_name": "DescriptionStyleModel",
      "state": {
       "description_width": ""
      }
     },
     "d41034cf0a8644b8afbd18760ad8d659": {
      "model_module": "jupyter-leaflet",
      "model_module_version": "^0.14.0",
      "model_name": "LeafletMarkerModel",
      "state": {
       "_model_module_version": "^0.14.0",
       "_view_module_version": "^0.14.0",
       "icon": "IPY_MODEL_a94c619bb8704d07a6bd57c891f4533a",
       "location": [
        47.35,
        -124.73
       ],
       "options": [
        "alt",
        "draggable",
        "keyboard",
        "rise_offset",
        "rise_on_hover",
        "rotation_angle",
        "rotation_origin",
        "title",
        "z_index_offset"
       ],
       "popup": "IPY_MODEL_d70b2f6f4a0d44d7af1e56905ee802b1"
      }
     },
     "d42465db9a1346d2a0761d1d9d3479a2": {
      "model_module": "jupyter-leaflet",
      "model_module_version": "^0.14.0",
      "model_name": "LeafletMarkerModel",
      "state": {
       "_model_module_version": "^0.14.0",
       "_view_module_version": "^0.14.0",
       "icon": "IPY_MODEL_926a75beba404f8b9d5e3aa83a5241b2",
       "location": [
        45.5544,
        -123.9189
       ],
       "options": [
        "alt",
        "draggable",
        "keyboard",
        "rise_offset",
        "rise_on_hover",
        "rotation_angle",
        "rotation_origin",
        "title",
        "z_index_offset"
       ],
       "popup": "IPY_MODEL_0793338956ad45df90e8c71d9ea42124"
      }
     },
     "d44d9751db1a45969b17339b7b0deed3": {
      "model_module": "@jupyter-widgets/controls",
      "model_module_version": "1.5.0",
      "model_name": "DescriptionStyleModel",
      "state": {
       "description_width": ""
      }
     },
     "d48fc5c8cb82421c9467be1bae9b3ff9": {
      "model_module": "@jupyter-widgets/base",
      "model_module_version": "1.2.0",
      "model_name": "LayoutModel",
      "state": {}
     },
     "d4a9dedcfbf24e6eb03bb746cbf996d5": {
      "model_module": "@jupyter-widgets/base",
      "model_module_version": "1.2.0",
      "model_name": "LayoutModel",
      "state": {}
     },
     "d4c40119862b4ca58cf9b8135a213ba4": {
      "model_module": "@jupyter-widgets/controls",
      "model_module_version": "1.5.0",
      "model_name": "HTMLModel",
      "state": {
       "layout": "IPY_MODEL_8d52e478ee004bbaa6ea38582cf79955",
       "style": "IPY_MODEL_f39d69553ce14d2da829e8844ceb6b01",
       "value": "<table border=\"1\" class=\"dataframe table table-striped table-hover table-condensed table-responsive\">\n  <thead>\n    <tr style=\"text-align: right;\">\n      <th></th>\n      <th>46</th>\n    </tr>\n  </thead>\n  <tbody>\n    <tr>\n      <th>Institution</th>\n      <td>Ocean Observatories Initiative (OOI)</td>\n    </tr>\n    <tr>\n      <th>Dataset ID</th>\n      <td>ooi-ce09ossm-mfd37-03-ctdbpe000</td>\n    </tr>\n  </tbody>\n</table>"
      }
     },
     "d4c701ae7f8448d8b23c25148fed5adb": {
      "model_module": "@jupyter-widgets/base",
      "model_module_version": "1.2.0",
      "model_name": "LayoutModel",
      "state": {}
     },
     "d4e3a576fe3b43ebbedab278b2e9d6a9": {
      "model_module": "@jupyter-widgets/controls",
      "model_module_version": "1.5.0",
      "model_name": "DescriptionStyleModel",
      "state": {
       "description_width": ""
      }
     },
     "d50113891884472390fe5315ad1f7ed1": {
      "model_module": "jupyter-leaflet",
      "model_module_version": "^0.14.0",
      "model_name": "LeafletAwesomeIconModel",
      "state": {
       "_model_module_version": "^0.14.0",
       "_view_module_version": "^0.14.0",
       "icon_color": "white",
       "marker_color": "orange",
       "name": "life-ring"
      }
     },
     "d573c2d04c8045a6a4f598feea3b9913": {
      "model_module": "@jupyter-widgets/controls",
      "model_module_version": "1.5.0",
      "model_name": "HTMLModel",
      "state": {
       "layout": "IPY_MODEL_6e017b364ed94c928126790d145b4b9e",
       "style": "IPY_MODEL_58c7f352530141909d9263f2b73f3179",
       "value": "<table border=\"1\" class=\"dataframe table table-striped table-hover table-condensed table-responsive\">\n  <thead>\n    <tr style=\"text-align: right;\">\n      <th></th>\n      <th>42</th>\n    </tr>\n  </thead>\n  <tbody>\n    <tr>\n      <th>Institution</th>\n      <td>Ocean Observatories Initiative (OOI)</td>\n    </tr>\n    <tr>\n      <th>Dataset ID</th>\n      <td>ooi-ce09ossm-rid27-03-ctdbpc000</td>\n    </tr>\n  </tbody>\n</table>"
      }
     },
     "d5885da622ad4f67aa72572aacfa8f71": {
      "model_module": "jupyter-leaflet",
      "model_module_version": "^0.14.0",
      "model_name": "LeafletAwesomeIconModel",
      "state": {
       "_model_module_version": "^0.14.0",
       "_view_module_version": "^0.14.0",
       "icon_color": "white",
       "marker_color": "orange",
       "name": "life-ring"
      }
     },
     "d59a787c654f47edb3c1da04697d54b9": {
      "model_module": "@jupyter-widgets/controls",
      "model_module_version": "1.5.0",
      "model_name": "HTMLModel",
      "state": {
       "layout": "IPY_MODEL_b9c800379c8344df9b769ed1fff1c683",
       "style": "IPY_MODEL_f196543251ce42609ae08d33e742179e",
       "value": "<table border=\"1\" class=\"dataframe table table-striped table-hover table-condensed table-responsive\">\n  <thead>\n    <tr style=\"text-align: right;\">\n      <th></th>\n      <th>35</th>\n    </tr>\n  </thead>\n  <tbody>\n    <tr>\n      <th>Institution</th>\n      <td>Ocean Observatories Initiative (OOI)</td>\n    </tr>\n    <tr>\n      <th>Dataset ID</th>\n      <td>ooi-ce06issm-rid16-06-phsend000</td>\n    </tr>\n  </tbody>\n</table>"
      }
     },
     "d59fded7cd784d3a823d75d5c3b5c8ef": {
      "model_module": "jupyter-leaflet",
      "model_module_version": "^0.14.0",
      "model_name": "LeafletAwesomeIconModel",
      "state": {
       "_model_module_version": "^0.14.0",
       "_view_module_version": "^0.14.0",
       "icon_color": "white",
       "name": "life-ring"
      }
     },
     "d5c6c961c4bf420b9447be87d7c255c0": {
      "model_module": "jupyter-leaflet",
      "model_module_version": "^0.14.0",
      "model_name": "LeafletMarkerModel",
      "state": {
       "_model_module_version": "^0.14.0",
       "_view_module_version": "^0.14.0",
       "icon": "IPY_MODEL_346cb7af1d5646a7a86db8121ef523ff",
       "location": [
        44.6,
        -124.3
       ],
       "options": [
        "alt",
        "draggable",
        "keyboard",
        "rise_offset",
        "rise_on_hover",
        "rotation_angle",
        "rotation_origin",
        "title",
        "z_index_offset"
       ],
       "popup": "IPY_MODEL_40f1ed53b3394e56a5dedbf7fcfb0b2e"
      }
     },
     "d5f4dcd3bb55453f9c8e7e5e458cd6c9": {
      "model_module": "jupyter-leaflet",
      "model_module_version": "^0.14.0",
      "model_name": "LeafletMarkerModel",
      "state": {
       "_model_module_version": "^0.14.0",
       "_view_module_version": "^0.14.0",
       "icon": "IPY_MODEL_f250779a27fe4ba18f5fce5a7f99015a",
       "location": [
        46.85367,
        -124.95935
       ],
       "options": [
        "alt",
        "draggable",
        "keyboard",
        "rise_offset",
        "rise_on_hover",
        "rotation_angle",
        "rotation_origin",
        "title",
        "z_index_offset"
       ],
       "popup": "IPY_MODEL_d6debe02c92742149714733b1cb8bac9"
      }
     },
     "d619d2a4d6e94583996db945f3c20a6c": {
      "model_module": "@jupyter-widgets/controls",
      "model_module_version": "1.5.0",
      "model_name": "HTMLModel",
      "state": {
       "layout": "IPY_MODEL_df39f9d558c84a6ebe385bb8b7cd11c1",
       "style": "IPY_MODEL_19599f81e9e04f08a26a09fcefa2675a",
       "value": "<table border=\"1\" class=\"dataframe table table-striped table-hover table-condensed table-responsive\">\n  <thead>\n    <tr style=\"text-align: right;\">\n      <th></th>\n      <th>71</th>\n    </tr>\n  </thead>\n  <tbody>\n    <tr>\n      <th>Institution</th>\n      <td>NOAA Pacific Marine Environmental Lab (PMEL)</td>\n    </tr>\n    <tr>\n      <th>Dataset ID</th>\n      <td>gov_ornl_cdiac_wa_125w_47n</td>\n    </tr>\n  </tbody>\n</table>"
      }
     },
     "d6382f5d865a4de9b9482f51983a61f8": {
      "model_module": "jupyter-leaflet",
      "model_module_version": "^0.14.0",
      "model_name": "LeafletMarkerModel",
      "state": {
       "_model_module_version": "^0.14.0",
       "_view_module_version": "^0.14.0",
       "icon": "IPY_MODEL_8e38c8a44aeb49e78293a756d4b3c521",
       "location": [
        47.9646517535081,
        -124.953552246094
       ],
       "options": [
        "alt",
        "draggable",
        "keyboard",
        "rise_offset",
        "rise_on_hover",
        "rotation_angle",
        "rotation_origin",
        "title",
        "z_index_offset"
       ],
       "popup": "IPY_MODEL_79709e1126db4a48af1a848aa54c8ed6"
      }
     },
     "d64cdbd9f7de40dbb25db11b0f5a7454": {
      "model_module": "@jupyter-widgets/controls",
      "model_module_version": "1.5.0",
      "model_name": "HTMLModel",
      "state": {
       "layout": "IPY_MODEL_1e6bcae72dbe47858e9d81c0fcb7718b",
       "style": "IPY_MODEL_f7a519180ec8483e9d0c778a802da817",
       "value": "<table border=\"1\" class=\"dataframe table table-striped table-hover table-condensed table-responsive\">\n  <thead>\n    <tr style=\"text-align: right;\">\n      <th></th>\n      <th>36</th>\n    </tr>\n  </thead>\n  <tbody>\n    <tr>\n      <th>Institution</th>\n      <td>Ocean Observatories Initiative (OOI)</td>\n    </tr>\n    <tr>\n      <th>Dataset ID</th>\n      <td>ooi-ce06issm-mfd37-03-ctdbpc000</td>\n    </tr>\n  </tbody>\n</table>"
      }
     },
     "d64d8738680b461ab57f8cae2af56762": {
      "model_module": "@jupyter-widgets/base",
      "model_module_version": "1.2.0",
      "model_name": "LayoutModel",
      "state": {}
     },
     "d6debe02c92742149714733b1cb8bac9": {
      "model_module": "@jupyter-widgets/controls",
      "model_module_version": "1.5.0",
      "model_name": "HTMLModel",
      "state": {
       "layout": "IPY_MODEL_d48fc5c8cb82421c9467be1bae9b3ff9",
       "style": "IPY_MODEL_2b0c0dad11cf416d897a6c46a8213c94",
       "value": "<table border=\"1\" class=\"dataframe table table-striped table-hover table-condensed table-responsive\">\n  <thead>\n    <tr style=\"text-align: right;\">\n      <th></th>\n      <th>42</th>\n    </tr>\n  </thead>\n  <tbody>\n    <tr>\n      <th>Institution</th>\n      <td>Ocean Observatories Initiative (OOI)</td>\n    </tr>\n    <tr>\n      <th>Dataset ID</th>\n      <td>ooi-ce09ossm-rid27-03-ctdbpc000</td>\n    </tr>\n  </tbody>\n</table>"
      }
     },
     "d70aaaeb81e344b9af3384ce65e8e44e": {
      "model_module": "jupyter-leaflet",
      "model_module_version": "^0.14.0",
      "model_name": "LeafletMarkerModel",
      "state": {
       "_model_module_version": "^0.14.0",
       "_view_module_version": "^0.14.0",
       "icon": "IPY_MODEL_a25ddcfcac184f7daebc33a8ddb23975",
       "location": [
        47.35,
        -124.73
       ],
       "options": [
        "alt",
        "draggable",
        "keyboard",
        "rise_offset",
        "rise_on_hover",
        "rotation_angle",
        "rotation_origin",
        "title",
        "z_index_offset"
       ],
       "popup": "IPY_MODEL_d619d2a4d6e94583996db945f3c20a6c"
      }
     },
     "d70b2f6f4a0d44d7af1e56905ee802b1": {
      "model_module": "@jupyter-widgets/controls",
      "model_module_version": "1.5.0",
      "model_name": "HTMLModel",
      "state": {
       "layout": "IPY_MODEL_2887745f7f494bd1bcf4f11b0e1e9401",
       "style": "IPY_MODEL_3add10dcd54b4da4ad31f22cc7535dd1",
       "value": "<table border=\"1\" class=\"dataframe table table-striped table-hover table-condensed table-responsive\">\n  <thead>\n    <tr style=\"text-align: right;\">\n      <th></th>\n      <th>71</th>\n    </tr>\n  </thead>\n  <tbody>\n    <tr>\n      <th>Institution</th>\n      <td>NOAA Pacific Marine Environmental Lab (PMEL)</td>\n    </tr>\n    <tr>\n      <th>Dataset ID</th>\n      <td>gov_ornl_cdiac_wa_125w_47n</td>\n    </tr>\n  </tbody>\n</table>"
      }
     },
     "d791cd95f9384b688376aea6286fd557": {
      "model_module": "@jupyter-widgets/controls",
      "model_module_version": "1.5.0",
      "model_name": "DescriptionStyleModel",
      "state": {
       "description_width": ""
      }
     },
     "d7cf5a0a642f4398ab004459aa09b608": {
      "model_module": "@jupyter-widgets/controls",
      "model_module_version": "1.5.0",
      "model_name": "DescriptionStyleModel",
      "state": {
       "description_width": ""
      }
     },
     "d801730b2e73439c89ee79374cb03cc7": {
      "model_module": "@jupyter-widgets/base",
      "model_module_version": "1.2.0",
      "model_name": "LayoutModel",
      "state": {}
     },
     "d83ed97341664545874455454ec554ed": {
      "model_module": "jupyter-leaflet",
      "model_module_version": "^0.14.0",
      "model_name": "LeafletMarkerModel",
      "state": {
       "_model_module_version": "^0.14.0",
       "_view_module_version": "^0.14.0",
       "icon": "IPY_MODEL_3cb12115b65f40acbaa1406d9d4a7f6f",
       "location": [
        47.1345,
        -124.27087
       ],
       "options": [
        "alt",
        "draggable",
        "keyboard",
        "rise_offset",
        "rise_on_hover",
        "rotation_angle",
        "rotation_origin",
        "title",
        "z_index_offset"
       ],
       "popup": "IPY_MODEL_2841d24687214e14a5ede09a7037bf66"
      }
     },
     "d846024cc6bf4529910ea35f45fada30": {
      "model_module": "@jupyter-widgets/base",
      "model_module_version": "1.2.0",
      "model_name": "LayoutModel",
      "state": {}
     },
     "d8605685768b4966801794f1fcc23ab5": {
      "model_module": "@jupyter-widgets/base",
      "model_module_version": "1.2.0",
      "model_name": "LayoutModel",
      "state": {}
     },
     "d8902c7c75b84276880390a7d601f292": {
      "model_module": "jupyter-leaflet",
      "model_module_version": "^0.14.0",
      "model_name": "LeafletAwesomeIconModel",
      "state": {
       "_model_module_version": "^0.14.0",
       "_view_module_version": "^0.14.0",
       "icon_color": "white",
       "marker_color": "orange",
       "name": "life-ring"
      }
     },
     "d8bbfc180ea34a7faade3963d914db4f": {
      "model_module": "@jupyter-widgets/base",
      "model_module_version": "1.2.0",
      "model_name": "LayoutModel",
      "state": {}
     },
     "d8be70c0a47e4500a072634304e30156": {
      "model_module": "@jupyter-widgets/controls",
      "model_module_version": "1.5.0",
      "model_name": "HTMLModel",
      "state": {
       "layout": "IPY_MODEL_6f10fa38b5d44e59872b49e8c86275f3",
       "style": "IPY_MODEL_63f367f807524636b93539f032f82afb",
       "value": "<table border=\"1\" class=\"dataframe table table-striped table-hover table-condensed table-responsive\">\n  <thead>\n    <tr style=\"text-align: right;\">\n      <th></th>\n      <th>30</th>\n    </tr>\n  </thead>\n  <tbody>\n    <tr>\n      <th>Institution</th>\n      <td>Ocean Observatories Initiative (OOI)</td>\n    </tr>\n    <tr>\n      <th>Dataset ID</th>\n      <td>ooi-ce02shsm-sbd12-04-pco2aa000</td>\n    </tr>\n  </tbody>\n</table>"
      }
     },
     "d8c201fb51ed4dea9b03e40bd746ad43": {
      "model_module": "@jupyter-widgets/base",
      "model_module_version": "1.2.0",
      "model_name": "LayoutModel",
      "state": {}
     },
     "d93ca16131cb444391317dff04f001e4": {
      "model_module": "jupyter-leaflet",
      "model_module_version": "^0.14.0",
      "model_name": "LeafletMarkerModel",
      "state": {
       "_model_module_version": "^0.14.0",
       "_view_module_version": "^0.14.0",
       "icon": "IPY_MODEL_f32e09a887f1468db5d337b8cfd045c9",
       "location": [
        47.1345,
        -124.27087
       ],
       "options": [
        "alt",
        "draggable",
        "keyboard",
        "rise_offset",
        "rise_on_hover",
        "rotation_angle",
        "rotation_origin",
        "title",
        "z_index_offset"
       ],
       "popup": "IPY_MODEL_d96cd57395e24a12923aec2350afdd8c"
      }
     },
     "d96cd57395e24a12923aec2350afdd8c": {
      "model_module": "@jupyter-widgets/controls",
      "model_module_version": "1.5.0",
      "model_name": "HTMLModel",
      "state": {
       "layout": "IPY_MODEL_ec6df6cdc7f442ddad296f5b2d7fab44",
       "style": "IPY_MODEL_0355f1efea444136a8eff7dce142d523",
       "value": "<table border=\"1\" class=\"dataframe table table-striped table-hover table-condensed table-responsive\">\n  <thead>\n    <tr style=\"text-align: right;\">\n      <th></th>\n      <th>37</th>\n    </tr>\n  </thead>\n  <tbody>\n    <tr>\n      <th>Institution</th>\n      <td>Ocean Observatories Initiative (OOI)</td>\n    </tr>\n    <tr>\n      <th>Dataset ID</th>\n      <td>ooi-ce06issm-mfd37-03-dostad000</td>\n    </tr>\n  </tbody>\n</table>"
      }
     },
     "d971e92dddf546afaedf925f1fd4aaa1": {
      "model_module": "jupyter-leaflet",
      "model_module_version": "^0.14.0",
      "model_name": "LeafletAwesomeIconModel",
      "state": {
       "_model_module_version": "^0.14.0",
       "_view_module_version": "^0.14.0",
       "icon_color": "white",
       "marker_color": "orange",
       "name": "life-ring"
      }
     },
     "d98dd62bf5514ab1990596527a0fd553": {
      "model_module": "@jupyter-widgets/controls",
      "model_module_version": "1.5.0",
      "model_name": "HTMLModel",
      "state": {
       "layout": "IPY_MODEL_6798715d8ca1409cb06ae794c84553bc",
       "style": "IPY_MODEL_d7cf5a0a642f4398ab004459aa09b608",
       "value": "<table border=\"1\" class=\"dataframe table table-striped table-hover table-condensed table-responsive\">\n  <thead>\n    <tr style=\"text-align: right;\">\n      <th></th>\n      <th>10</th>\n    </tr>\n  </thead>\n  <tbody>\n    <tr>\n      <th>Institution</th>\n      <td>Ocean Observatories Initiative (OOI)</td>\n    </tr>\n    <tr>\n      <th>Dataset ID</th>\n      <td>ooi-ce04osbp-lj01c-06-ctdbpo108</td>\n    </tr>\n  </tbody>\n</table>"
      }
     },
     "d9cfc2adbcb34251a43f19415d63e2d2": {
      "model_module": "jupyter-leaflet",
      "model_module_version": "^0.14.0",
      "model_name": "LeafletMarkerModel",
      "state": {
       "_model_module_version": "^0.14.0",
       "_view_module_version": "^0.14.0",
       "icon": "IPY_MODEL_cc9aedf51e3640f2aa65e83ca569b3a8",
       "location": [
        46.85367,
        -124.95935
       ],
       "options": [
        "alt",
        "draggable",
        "keyboard",
        "rise_offset",
        "rise_on_hover",
        "rotation_angle",
        "rotation_origin",
        "title",
        "z_index_offset"
       ],
       "popup": "IPY_MODEL_89cc5bffc3624b5f913d6d6c7a0d1ee8"
      }
     },
     "d9db90d3b9a64ac08867d2c4af8552c5": {
      "model_module": "jupyter-leaflet",
      "model_module_version": "^0.14.0",
      "model_name": "LeafletAwesomeIconModel",
      "state": {
       "_model_module_version": "^0.14.0",
       "_view_module_version": "^0.14.0",
       "icon_color": "white",
       "marker_color": "orange",
       "name": "life-ring"
      }
     },
     "da029342e08a4366bb4bc9dc933a9a49": {
      "model_module": "@jupyter-widgets/controls",
      "model_module_version": "1.5.0",
      "model_name": "DescriptionStyleModel",
      "state": {
       "description_width": ""
      }
     },
     "da29dbe01146458bb0a8153e15380ded": {
      "model_module": "jupyter-leaflet",
      "model_module_version": "^0.14.0",
      "model_name": "LeafletMarkerModel",
      "state": {
       "_model_module_version": "^0.14.0",
       "_view_module_version": "^0.14.0",
       "icon": "IPY_MODEL_2796f68eba8b432d97b873456d7b4198",
       "location": [
        46.98648,
        -124.56923
       ],
       "options": [
        "alt",
        "draggable",
        "keyboard",
        "rise_offset",
        "rise_on_hover",
        "rotation_angle",
        "rotation_origin",
        "title",
        "z_index_offset"
       ],
       "popup": "IPY_MODEL_d2b7701090b94399af2e9cd8a37f8601"
      }
     },
     "da4e4fe6a1954232aedb4d2d528f45fc": {
      "model_module": "jupyter-leaflet",
      "model_module_version": "^0.14.0",
      "model_name": "LeafletMarkerModel",
      "state": {
       "_model_module_version": "^0.14.0",
       "_view_module_version": "^0.14.0",
       "icon": "IPY_MODEL_022607fca4174368b0b43d21c61d8c9f",
       "location": [
        44.37415,
        -124.95648
       ],
       "options": [
        "alt",
        "draggable",
        "keyboard",
        "rise_offset",
        "rise_on_hover",
        "rotation_angle",
        "rotation_origin",
        "title",
        "z_index_offset"
       ],
       "popup": "IPY_MODEL_ac2347c0b606419e84644461e9d8c832"
      }
     },
     "da5c7bd873de4fd9a13208048e5cf20c": {
      "model_module": "@jupyter-widgets/base",
      "model_module_version": "1.2.0",
      "model_name": "LayoutModel",
      "state": {}
     },
     "da837a7b5efe4b1fb96ff30fa8b4fdbe": {
      "model_module": "@jupyter-widgets/controls",
      "model_module_version": "1.5.0",
      "model_name": "HTMLModel",
      "state": {
       "layout": "IPY_MODEL_de1f0260f24649f6b8e0adea9a8cc856",
       "style": "IPY_MODEL_45471fec74f9412186372f300bbde4a0",
       "value": "<table border=\"1\" class=\"dataframe table table-striped table-hover table-condensed table-responsive\">\n  <thead>\n    <tr style=\"text-align: right;\">\n      <th></th>\n      <th>67</th>\n    </tr>\n  </thead>\n  <tbody>\n    <tr>\n      <th>Institution</th>\n      <td>Observing System Monitoring Center (OSMC)</td>\n    </tr>\n    <tr>\n      <th>Dataset ID</th>\n      <td>osmc_46100</td>\n    </tr>\n  </tbody>\n</table>"
      }
     },
     "dafa041288964e4e8162f9afc30efd32": {
      "model_module": "@jupyter-widgets/base",
      "model_module_version": "1.2.0",
      "model_name": "LayoutModel",
      "state": {}
     },
     "db0f479fc490459a83b28d1e2771a486": {
      "model_module": "@jupyter-widgets/controls",
      "model_module_version": "1.5.0",
      "model_name": "HTMLModel",
      "state": {
       "layout": "IPY_MODEL_979f62ac97014357aa68366c12a31c0b",
       "style": "IPY_MODEL_c4f2cd1075ec4710adea0505ada84bcc",
       "value": "<table border=\"1\" class=\"dataframe table table-striped table-hover table-condensed table-responsive\">\n  <thead>\n    <tr style=\"text-align: right;\">\n      <th></th>\n      <th>63</th>\n    </tr>\n  </thead>\n  <tbody>\n    <tr>\n      <th>Institution</th>\n      <td>Center for Coastal Margin Observation &amp; Prediction</td>\n    </tr>\n    <tr>\n      <th>Dataset ID</th>\n      <td>org_cmop_46096</td>\n    </tr>\n  </tbody>\n</table>"
      }
     },
     "db8166393adf4a35bb72cc49c6a44e6f": {
      "model_module": "@jupyter-widgets/controls",
      "model_module_version": "1.5.0",
      "model_name": "HTMLModel",
      "state": {
       "layout": "IPY_MODEL_c53c59a50cde4a8185c44ce5b961158a",
       "style": "IPY_MODEL_c6f7f0135e47442b9865f28070b6f626",
       "value": "<table border=\"1\" class=\"dataframe table table-striped table-hover table-condensed table-responsive\">\n  <thead>\n    <tr style=\"text-align: right;\">\n      <th></th>\n      <th>70</th>\n    </tr>\n  </thead>\n  <tbody>\n    <tr>\n      <th>Institution</th>\n      <td>Northwest Association of Networked Ocean Observing Systems (NANOOS)</td>\n    </tr>\n    <tr>\n      <th>Dataset ID</th>\n      <td>nanoos_apl_nemo</td>\n    </tr>\n  </tbody>\n</table>"
      }
     },
     "dc5ef83a7e984cf69339e718365a003b": {
      "model_module": "@jupyter-widgets/controls",
      "model_module_version": "1.5.0",
      "model_name": "DescriptionStyleModel",
      "state": {
       "description_width": ""
      }
     },
     "dca36b3a177942008bbcd0400f66df44": {
      "model_module": "jupyter-leaflet",
      "model_module_version": "^0.14.0",
      "model_name": "LeafletMarkerModel",
      "state": {
       "_model_module_version": "^0.14.0",
       "_view_module_version": "^0.14.0",
       "icon": "IPY_MODEL_000c566733974efcbbca18a4f829d5c3",
       "location": [
        46.98648,
        -124.56923
       ],
       "options": [
        "alt",
        "draggable",
        "keyboard",
        "rise_offset",
        "rise_on_hover",
        "rotation_angle",
        "rotation_origin",
        "title",
        "z_index_offset"
       ],
       "popup": "IPY_MODEL_4bed049a98734b3c83d1fcc28efa4b30"
      }
     },
     "dcda954c33e24f0aaf906314ba248204": {
      "model_module": "jupyter-leaflet",
      "model_module_version": "^0.14.0",
      "model_name": "LeafletAwesomeIconModel",
      "state": {
       "_model_module_version": "^0.14.0",
       "_view_module_version": "^0.14.0",
       "icon_color": "white",
       "marker_color": "orange",
       "name": "life-ring"
      }
     },
     "dce874a742c84876bbd4e7fc1ece82ca": {
      "model_module": "jupyter-leaflet",
      "model_module_version": "^0.14.0",
      "model_name": "LeafletAwesomeIconModel",
      "state": {
       "_model_module_version": "^0.14.0",
       "_view_module_version": "^0.14.0",
       "icon_color": "white",
       "marker_color": "orange",
       "name": "life-ring"
      }
     },
     "dcfa7173384741ff9c245198444a1603": {
      "model_module": "@jupyter-widgets/controls",
      "model_module_version": "1.5.0",
      "model_name": "DescriptionStyleModel",
      "state": {
       "description_width": ""
      }
     },
     "dd1c98dbd27d4d3a892b2f437633853b": {
      "model_module": "@jupyter-widgets/controls",
      "model_module_version": "1.5.0",
      "model_name": "DescriptionStyleModel",
      "state": {
       "description_width": ""
      }
     },
     "dd24b09fc4f14472b8c0b9258d4f0306": {
      "model_module": "jupyter-leaflet",
      "model_module_version": "^0.14.0",
      "model_name": "LeafletMarkerModel",
      "state": {
       "_model_module_version": "^0.14.0",
       "_view_module_version": "^0.14.0",
       "icon": "IPY_MODEL_0e1ba6a13357428fafd0a67cb5dad4e3",
       "location": [
        46.851,
        -124.972
       ],
       "options": [
        "alt",
        "draggable",
        "keyboard",
        "rise_offset",
        "rise_on_hover",
        "rotation_angle",
        "rotation_origin",
        "title",
        "z_index_offset"
       ],
       "popup": "IPY_MODEL_91e1dc5a9c414da085f7c7a6ad3e6d22"
      }
     },
     "dd5d3ead7f1d49ee97bc13668f17c07b": {
      "model_module": "jupyter-leaflet",
      "model_module_version": "^0.14.0",
      "model_name": "LeafletAwesomeIconModel",
      "state": {
       "_model_module_version": "^0.14.0",
       "_view_module_version": "^0.14.0",
       "icon_color": "white",
       "marker_color": "orange",
       "name": "life-ring"
      }
     },
     "dd6c36cf6ea142de99f5f7da48aad95e": {
      "model_module": "jupyter-leaflet",
      "model_module_version": "^0.14.0",
      "model_name": "LeafletMarkerModel",
      "state": {
       "_model_module_version": "^0.14.0",
       "_view_module_version": "^0.14.0",
       "icon": "IPY_MODEL_0f230c4b6ce846359d4d6f409b6495bc",
       "location": [
        46.98648,
        -124.56923
       ],
       "options": [
        "alt",
        "draggable",
        "keyboard",
        "rise_offset",
        "rise_on_hover",
        "rotation_angle",
        "rotation_origin",
        "title",
        "z_index_offset"
       ],
       "popup": "IPY_MODEL_67605950662847ef8147bfd0ac4e6964"
      }
     },
     "ddc7094b71ea42f396f462a7931339b4": {
      "model_module": "jupyter-leaflet",
      "model_module_version": "^0.14.0",
      "model_name": "LeafletAwesomeIconModel",
      "state": {
       "_model_module_version": "^0.14.0",
       "_view_module_version": "^0.14.0",
       "icon_color": "white",
       "marker_color": "orange",
       "name": "life-ring"
      }
     },
     "ddcfbb756dff46b9bcfdc1e44f55b2ab": {
      "model_module": "@jupyter-widgets/controls",
      "model_module_version": "1.5.0",
      "model_name": "DescriptionStyleModel",
      "state": {
       "description_width": ""
      }
     },
     "de1f0260f24649f6b8e0adea9a8cc856": {
      "model_module": "@jupyter-widgets/base",
      "model_module_version": "1.2.0",
      "model_name": "LayoutModel",
      "state": {}
     },
     "de913d32546c478491753b1f560b3846": {
      "model_module": "jupyter-leaflet",
      "model_module_version": "^0.14.0",
      "model_name": "LeafletMarkerModel",
      "state": {
       "_model_module_version": "^0.14.0",
       "_view_module_version": "^0.14.0",
       "icon": "IPY_MODEL_97812b649e004dd9a6f2c4ac02590f22",
       "location": [
        47,
        -124.6
       ],
       "options": [
        "alt",
        "draggable",
        "keyboard",
        "rise_offset",
        "rise_on_hover",
        "rotation_angle",
        "rotation_origin",
        "title",
        "z_index_offset"
       ],
       "popup": "IPY_MODEL_a8d142e106d34992a9a6a45965127d78"
      }
     },
     "de96ccce1eb74966819e7461ea06e857": {
      "model_module": "@jupyter-widgets/controls",
      "model_module_version": "1.5.0",
      "model_name": "HTMLModel",
      "state": {
       "layout": "IPY_MODEL_c664a71ac3874b3a9adc6688df5d1f25",
       "style": "IPY_MODEL_a1aeec1585034fb29cf8e3eeca8b801a",
       "value": "<table border=\"1\" class=\"dataframe table table-striped table-hover table-condensed table-responsive\">\n  <thead>\n    <tr style=\"text-align: right;\">\n      <th></th>\n      <th>0</th>\n    </tr>\n  </thead>\n  <tbody>\n    <tr>\n      <th>Institution</th>\n      <td>Ocean Observatories Initiative (OOI)</td>\n    </tr>\n    <tr>\n      <th>Dataset ID</th>\n      <td>ooi-ce01issm-rid16-02-flortd000</td>\n    </tr>\n  </tbody>\n</table>"
      }
     },
     "df246e3f653d4a50ac1a32a13133e6e3": {
      "model_module": "@jupyter-widgets/base",
      "model_module_version": "1.2.0",
      "model_name": "LayoutModel",
      "state": {}
     },
     "df39f9d558c84a6ebe385bb8b7cd11c1": {
      "model_module": "@jupyter-widgets/base",
      "model_module_version": "1.2.0",
      "model_name": "LayoutModel",
      "state": {}
     },
     "df67126acef44fc4892dec643f25964d": {
      "model_module": "jupyter-leaflet",
      "model_module_version": "^0.14.0",
      "model_name": "LeafletAwesomeIconModel",
      "state": {
       "_model_module_version": "^0.14.0",
       "_view_module_version": "^0.14.0",
       "icon_color": "white",
       "name": "life-ring"
      }
     },
     "df72b93cdbdd4b3a97ed77444991a083": {
      "model_module": "@jupyter-widgets/controls",
      "model_module_version": "1.5.0",
      "model_name": "HTMLModel",
      "state": {
       "layout": "IPY_MODEL_a847ba6adea54972abaf63237c19489c",
       "style": "IPY_MODEL_165432891a5c49f0a0849c7e84c84c98",
       "value": "<table border=\"1\" class=\"dataframe table table-striped table-hover table-condensed table-responsive\">\n  <thead>\n    <tr style=\"text-align: right;\">\n      <th></th>\n      <th>52</th>\n    </tr>\n  </thead>\n  <tbody>\n    <tr>\n      <th>Institution</th>\n      <td>Ocean Observatories Initiative (OOI)</td>\n    </tr>\n    <tr>\n      <th>Dataset ID</th>\n      <td>ooi-ce07shsm-rid27-04-dostad000</td>\n    </tr>\n  </tbody>\n</table>"
      }
     },
     "df7a5578155a4f95ad495e3b96676d21": {
      "model_module": "jupyter-leaflet",
      "model_module_version": "^0.14.0",
      "model_name": "LeafletMarkerModel",
      "state": {
       "_model_module_version": "^0.14.0",
       "_view_module_version": "^0.14.0",
       "icon": "IPY_MODEL_9d3e10fe07004019af2d251473dffdb0",
       "location": [
        47.1345,
        -124.27087
       ],
       "options": [
        "alt",
        "draggable",
        "keyboard",
        "rise_offset",
        "rise_on_hover",
        "rotation_angle",
        "rotation_origin",
        "title",
        "z_index_offset"
       ],
       "popup": "IPY_MODEL_d59a787c654f47edb3c1da04697d54b9"
      }
     },
     "e02e6a67f3944d36ab0b7b7a39efe14a": {
      "model_module": "jupyter-leaflet",
      "model_module_version": "^0.14.0",
      "model_name": "LeafletAwesomeIconModel",
      "state": {
       "_model_module_version": "^0.14.0",
       "_view_module_version": "^0.14.0",
       "icon_color": "white",
       "name": "life-ring"
      }
     },
     "e0774351ae7b4b50a63152befe58b23e": {
      "model_module": "@jupyter-widgets/controls",
      "model_module_version": "1.5.0",
      "model_name": "HTMLModel",
      "state": {
       "layout": "IPY_MODEL_53da6754ee0d44df9ed47dec59d978f5",
       "style": "IPY_MODEL_a98a61641b42459abdc6fdcbbc5be65e",
       "value": "<table border=\"1\" class=\"dataframe table table-striped table-hover table-condensed table-responsive\">\n  <thead>\n    <tr style=\"text-align: right;\">\n      <th></th>\n      <th>40</th>\n    </tr>\n  </thead>\n  <tbody>\n    <tr>\n      <th>Institution</th>\n      <td>Ocean Observatories Initiative (OOI)</td>\n    </tr>\n    <tr>\n      <th>Dataset ID</th>\n      <td>ooi-ce06issm-sbd17-06-ctdbpc000</td>\n    </tr>\n  </tbody>\n</table>"
      }
     },
     "e139c2016f984d669093dd7679e9ea00": {
      "model_module": "@jupyter-widgets/base",
      "model_module_version": "1.2.0",
      "model_name": "LayoutModel",
      "state": {}
     },
     "e15228ea30a04a66b4bff6b9017e4315": {
      "model_module": "jupyter-leaflet",
      "model_module_version": "^0.14.0",
      "model_name": "LeafletAwesomeIconModel",
      "state": {
       "_model_module_version": "^0.14.0",
       "_view_module_version": "^0.14.0",
       "icon_color": "white",
       "marker_color": "orange",
       "name": "life-ring"
      }
     },
     "e17f875765b54ce7a9cd715cb55b9f8b": {
      "model_module": "@jupyter-widgets/controls",
      "model_module_version": "1.5.0",
      "model_name": "HTMLModel",
      "state": {
       "layout": "IPY_MODEL_d24bb16c80ba45b88a7889bf9e03428f",
       "style": "IPY_MODEL_396296fbc8b34765a7c1982a9df8a75d",
       "value": "<table border=\"1\" class=\"dataframe table table-striped table-hover table-condensed table-responsive\">\n  <thead>\n    <tr style=\"text-align: right;\">\n      <th></th>\n      <th>48</th>\n    </tr>\n  </thead>\n  <tbody>\n    <tr>\n      <th>Institution</th>\n      <td>Ocean Observatories Initiative (OOI)</td>\n    </tr>\n    <tr>\n      <th>Dataset ID</th>\n      <td>ooi-ce09ossm-sbd11-06-metbka000</td>\n    </tr>\n  </tbody>\n</table>"
      }
     },
     "e22350480e1f497799cbb9c05c257a63": {
      "model_module": "jupyter-leaflet",
      "model_module_version": "^0.14.0",
      "model_name": "LeafletAwesomeIconModel",
      "state": {
       "_model_module_version": "^0.14.0",
       "_view_module_version": "^0.14.0",
       "icon_color": "white",
       "marker_color": "orange",
       "name": "life-ring"
      }
     },
     "e2364e080bb94761b3d63431f7e3d89a": {
      "model_module": "@jupyter-widgets/controls",
      "model_module_version": "1.5.0",
      "model_name": "DescriptionStyleModel",
      "state": {
       "description_width": ""
      }
     },
     "e290d8ef141f47e4a7e91d97c2d8a566": {
      "model_module": "@jupyter-widgets/controls",
      "model_module_version": "1.5.0",
      "model_name": "HTMLModel",
      "state": {
       "layout": "IPY_MODEL_9c345610220b4e1a8c5f39d78eb68708",
       "style": "IPY_MODEL_4fd06cac938e45c98ff5e52a37d40288",
       "value": "<table border=\"1\" class=\"dataframe table table-striped table-hover table-condensed table-responsive\">\n  <thead>\n    <tr style=\"text-align: right;\">\n      <th></th>\n      <th>45</th>\n    </tr>\n  </thead>\n  <tbody>\n    <tr>\n      <th>Institution</th>\n      <td>Ocean Observatories Initiative (OOI)</td>\n    </tr>\n    <tr>\n      <th>Dataset ID</th>\n      <td>ooi-ce09ossm-rid26-06-phsend000</td>\n    </tr>\n  </tbody>\n</table>"
      }
     },
     "e2a44da908064c2395c4bb0d017b4a52": {
      "model_module": "@jupyter-widgets/base",
      "model_module_version": "1.2.0",
      "model_name": "LayoutModel",
      "state": {}
     },
     "e2b561c5acbf4b36a4b797dc0a3c733e": {
      "model_module": "@jupyter-widgets/controls",
      "model_module_version": "1.5.0",
      "model_name": "HTMLModel",
      "state": {
       "layout": "IPY_MODEL_4e6985cc39834643a1bed646bf8ade32",
       "style": "IPY_MODEL_8f80fdd19dd146c0bd02540052e1931d",
       "value": "<table border=\"1\" class=\"dataframe table table-striped table-hover table-condensed table-responsive\">\n  <thead>\n    <tr style=\"text-align: right;\">\n      <th></th>\n      <th>77</th>\n    </tr>\n  </thead>\n  <tbody>\n    <tr>\n      <th>Institution</th>\n      <td>Northwest Association of Networked Ocean Observing Systems (NANOOS)</td>\n    </tr>\n    <tr>\n      <th>Dataset ID</th>\n      <td>nanoos_psi_nahcotta</td>\n    </tr>\n  </tbody>\n</table>"
      }
     },
     "e2bc74ab2a174de9b8c51c5b9a3acdad": {
      "model_module": "jupyter-leaflet",
      "model_module_version": "^0.14.0",
      "model_name": "LeafletMarkerModel",
      "state": {
       "_model_module_version": "^0.14.0",
       "_view_module_version": "^0.14.0",
       "icon": "IPY_MODEL_bf86d8cfa1cd4b93a3612e1b441a62f1",
       "location": [
        44.37868,
        -124.94508
       ],
       "options": [
        "alt",
        "draggable",
        "keyboard",
        "rise_offset",
        "rise_on_hover",
        "rotation_angle",
        "rotation_origin",
        "title",
        "z_index_offset"
       ],
       "popup": "IPY_MODEL_b9f948119e1243fb8fd187d0346a858d"
      }
     },
     "e32aa61c8de444fe88a44232daf9bc48": {
      "model_module": "@jupyter-widgets/controls",
      "model_module_version": "1.5.0",
      "model_name": "HTMLModel",
      "state": {
       "layout": "IPY_MODEL_2e7cfdaeeab84292829709e278612f7a",
       "style": "IPY_MODEL_2a6ef40f09574366adb4cd93192feb75",
       "value": "<table border=\"1\" class=\"dataframe table table-striped table-hover table-condensed table-responsive\">\n  <thead>\n    <tr style=\"text-align: right;\">\n      <th></th>\n      <th>22</th>\n    </tr>\n  </thead>\n  <tbody>\n    <tr>\n      <th>Institution</th>\n      <td>Ocean Observatories Initiative (OOI)</td>\n    </tr>\n    <tr>\n      <th>Dataset ID</th>\n      <td>ooi-ce02shbp-lj01d-06-ctdbpn106</td>\n    </tr>\n  </tbody>\n</table>"
      }
     },
     "e32c3c5593834da191485f630958a74a": {
      "model_module": "@jupyter-widgets/controls",
      "model_module_version": "1.5.0",
      "model_name": "HTMLModel",
      "state": {
       "layout": "IPY_MODEL_50bf5ca7a23a4e9581996d325fefd1cc",
       "style": "IPY_MODEL_335944ecb869430e9df30bc3c8e9a5cf",
       "value": "<table border=\"1\" class=\"dataframe table table-striped table-hover table-condensed table-responsive\">\n  <thead>\n    <tr style=\"text-align: right;\">\n      <th></th>\n      <th>59</th>\n    </tr>\n  </thead>\n  <tbody>\n    <tr>\n      <th>Institution</th>\n      <td>Ocean Observatories Initiative (OOI)</td>\n    </tr>\n    <tr>\n      <th>Dataset ID</th>\n      <td>ooi-rs01slbs-lj01a-12-ctdpfb101</td>\n    </tr>\n  </tbody>\n</table>"
      }
     },
     "e333ca75cd7643d098371f65c506b718": {
      "model_module": "@jupyter-widgets/controls",
      "model_module_version": "1.5.0",
      "model_name": "DescriptionStyleModel",
      "state": {
       "description_width": ""
      }
     },
     "e34c3c4b747a492187713e2df1bdd0e0": {
      "model_module": "jupyter-leaflet",
      "model_module_version": "^0.14.0",
      "model_name": "LeafletMarkerModel",
      "state": {
       "_model_module_version": "^0.14.0",
       "_view_module_version": "^0.14.0",
       "icon": "IPY_MODEL_9cb6cd87bf84467aa909bcf8f405403c",
       "location": [
        44.65678,
        -124.09707
       ],
       "options": [
        "alt",
        "draggable",
        "keyboard",
        "rise_offset",
        "rise_on_hover",
        "rotation_angle",
        "rotation_origin",
        "title",
        "z_index_offset"
       ],
       "popup": "IPY_MODEL_30ada9090ca442a597b20972c471a419"
      }
     },
     "e35003e5568e4f789610621f94c3a80d": {
      "model_module": "jupyter-leaflet",
      "model_module_version": "^0.14.0",
      "model_name": "LeafletMarkerModel",
      "state": {
       "_model_module_version": "^0.14.0",
       "_view_module_version": "^0.14.0",
       "icon": "IPY_MODEL_66108b623b714473986660eacc2359ea",
       "location": [
        44.65678,
        -124.09707
       ],
       "options": [
        "alt",
        "draggable",
        "keyboard",
        "rise_offset",
        "rise_on_hover",
        "rotation_angle",
        "rotation_origin",
        "title",
        "z_index_offset"
       ],
       "popup": "IPY_MODEL_d0cec5ab52304ae9b773bd4b534edc1e"
      }
     },
     "e35b0f62b2cb42c282d127e9fd2ecd9c": {
      "model_module": "jupyter-leaflet",
      "model_module_version": "^0.14.0",
      "model_name": "LeafletMarkerModel",
      "state": {
       "_model_module_version": "^0.14.0",
       "_view_module_version": "^0.14.0",
       "icon": "IPY_MODEL_09687a4ed88544779d9d48006aa78142",
       "location": [
        44.383335,
        -124.95
       ],
       "options": [
        "alt",
        "draggable",
        "keyboard",
        "rise_offset",
        "rise_on_hover",
        "rotation_angle",
        "rotation_origin",
        "title",
        "z_index_offset"
       ],
       "popup": "IPY_MODEL_0e1bad5b60ee45cdac19708016adfcd0"
      }
     },
     "e37eb850ced246b3aa160ed551d19d9e": {
      "model_module": "@jupyter-widgets/base",
      "model_module_version": "1.2.0",
      "model_name": "LayoutModel",
      "state": {}
     },
     "e38d8a833be940558cf4cc90b0b769d2": {
      "model_module": "jupyter-leaflet",
      "model_module_version": "^0.14.0",
      "model_name": "LeafletMarkerModel",
      "state": {
       "_model_module_version": "^0.14.0",
       "_view_module_version": "^0.14.0",
       "icon": "IPY_MODEL_d5885da622ad4f67aa72572aacfa8f71",
       "location": [
        44.63577,
        -124.3035
       ],
       "options": [
        "alt",
        "draggable",
        "keyboard",
        "rise_offset",
        "rise_on_hover",
        "rotation_angle",
        "rotation_origin",
        "title",
        "z_index_offset"
       ],
       "popup": "IPY_MODEL_1d585445e1104777ade67d5820a76d6c"
      }
     },
     "e3a40dcb220b49828b08d32a97b3ec53": {
      "model_module": "jupyter-leaflet",
      "model_module_version": "^0.14.0",
      "model_name": "LeafletAwesomeIconModel",
      "state": {
       "_model_module_version": "^0.14.0",
       "_view_module_version": "^0.14.0",
       "icon_color": "white",
       "marker_color": "orange",
       "name": "life-ring"
      }
     },
     "e42eceaaf7de4d838d80822957370edd": {
      "model_module": "@jupyter-widgets/controls",
      "model_module_version": "1.5.0",
      "model_name": "DescriptionStyleModel",
      "state": {
       "description_width": ""
      }
     },
     "e43e54a5cc9349c7a0047c1197988c5c": {
      "model_module": "@jupyter-widgets/base",
      "model_module_version": "1.2.0",
      "model_name": "LayoutModel",
      "state": {}
     },
     "e455647ee4e542b09978080987d9984a": {
      "model_module": "jupyter-leaflet",
      "model_module_version": "^0.14.0",
      "model_name": "LeafletMarkerModel",
      "state": {
       "_model_module_version": "^0.14.0",
       "_view_module_version": "^0.14.0",
       "icon": "IPY_MODEL_e67d08ed0f474752bdc6183d8ef715ae",
       "location": [
        44.65678,
        -124.09707
       ],
       "options": [
        "alt",
        "draggable",
        "keyboard",
        "rise_offset",
        "rise_on_hover",
        "rotation_angle",
        "rotation_origin",
        "title",
        "z_index_offset"
       ],
       "popup": "IPY_MODEL_878df87b68e34b2a910a69093914e00e"
      }
     },
     "e4b6a648ff4042b5ae956bd0493ecd5d": {
      "model_module": "jupyter-leaflet",
      "model_module_version": "^0.14.0",
      "model_name": "LeafletAwesomeIconModel",
      "state": {
       "_model_module_version": "^0.14.0",
       "_view_module_version": "^0.14.0",
       "icon_color": "white",
       "marker_color": "orange",
       "name": "life-ring"
      }
     },
     "e4d4da225e8e47b2bca6fb7e59666b7a": {
      "model_module": "@jupyter-widgets/controls",
      "model_module_version": "1.5.0",
      "model_name": "DescriptionStyleModel",
      "state": {
       "description_width": ""
      }
     },
     "e5235d1720d64852a9b813c4659dce9d": {
      "model_module": "@jupyter-widgets/controls",
      "model_module_version": "1.5.0",
      "model_name": "HTMLModel",
      "state": {
       "layout": "IPY_MODEL_ba9898ebdd724f8ca5575c4a4289148d",
       "style": "IPY_MODEL_852fcde03ae74dd7abe2c102d606c754",
       "value": "<table border=\"1\" class=\"dataframe table table-striped table-hover table-condensed table-responsive\">\n  <thead>\n    <tr style=\"text-align: right;\">\n      <th></th>\n      <th>29</th>\n    </tr>\n  </thead>\n  <tbody>\n    <tr>\n      <th>Institution</th>\n      <td>Ocean Observatories Initiative (OOI)</td>\n    </tr>\n    <tr>\n      <th>Dataset ID</th>\n      <td>ooi-ce02shsm-sbd11-06-metbka000</td>\n    </tr>\n  </tbody>\n</table>"
      }
     },
     "e5274820d4404e1bb6a40314457ab80e": {
      "model_module": "@jupyter-widgets/base",
      "model_module_version": "1.2.0",
      "model_name": "LayoutModel",
      "state": {}
     },
     "e53a6d58860a4cfc9c03028ad19307d8": {
      "model_module": "@jupyter-widgets/controls",
      "model_module_version": "1.5.0",
      "model_name": "DescriptionStyleModel",
      "state": {
       "description_width": ""
      }
     },
     "e5808ad66df34d4fb5d1424114097efb": {
      "model_module": "@jupyter-widgets/controls",
      "model_module_version": "1.5.0",
      "model_name": "HTMLModel",
      "state": {
       "layout": "IPY_MODEL_58856f54f2604328bdfe402e5d27d230",
       "style": "IPY_MODEL_b044216bca7d46b38f66c5c24284e09c",
       "value": "<table border=\"1\" class=\"dataframe table table-striped table-hover table-condensed table-responsive\">\n  <thead>\n    <tr style=\"text-align: right;\">\n      <th></th>\n      <th>15</th>\n    </tr>\n  </thead>\n  <tbody>\n    <tr>\n      <th>Institution</th>\n      <td>Ocean Observatories Initiative (OOI)</td>\n    </tr>\n    <tr>\n      <th>Dataset ID</th>\n      <td>ooi-ce04ossm-rid27-02-flortd000</td>\n    </tr>\n  </tbody>\n</table>"
      }
     },
     "e58c3378f970473dbc014420602b2306": {
      "model_module": "jupyter-leaflet",
      "model_module_version": "^0.14.0",
      "model_name": "LeafletAwesomeIconModel",
      "state": {
       "_model_module_version": "^0.14.0",
       "_view_module_version": "^0.14.0",
       "icon_color": "white",
       "marker_color": "orange",
       "name": "life-ring"
      }
     },
     "e630170b796e437391a0fe3c826b7320": {
      "model_module": "@jupyter-widgets/controls",
      "model_module_version": "1.5.0",
      "model_name": "DescriptionStyleModel",
      "state": {
       "description_width": ""
      }
     },
     "e638dcfba0754a1b96a7ebee7655aa2c": {
      "model_module": "@jupyter-widgets/base",
      "model_module_version": "1.2.0",
      "model_name": "LayoutModel",
      "state": {}
     },
     "e67d08ed0f474752bdc6183d8ef715ae": {
      "model_module": "jupyter-leaflet",
      "model_module_version": "^0.14.0",
      "model_name": "LeafletAwesomeIconModel",
      "state": {
       "_model_module_version": "^0.14.0",
       "_view_module_version": "^0.14.0",
       "icon_color": "white",
       "marker_color": "orange",
       "name": "life-ring"
      }
     },
     "e68bc21bcff84789950f8a67bb6ad16d": {
      "model_module": "@jupyter-widgets/controls",
      "model_module_version": "1.5.0",
      "model_name": "DescriptionStyleModel",
      "state": {
       "description_width": ""
      }
     },
     "e6dbb260690344b9ae20bf39754151d9": {
      "model_module": "jupyter-leaflet",
      "model_module_version": "^0.14.0",
      "model_name": "LeafletAwesomeIconModel",
      "state": {
       "_model_module_version": "^0.14.0",
       "_view_module_version": "^0.14.0",
       "icon_color": "white",
       "marker_color": "orange",
       "name": "life-ring"
      }
     },
     "e6eb66eba7474b40b6888d71fde871e8": {
      "model_module": "jupyter-leaflet",
      "model_module_version": "^0.14.0",
      "model_name": "LeafletAwesomeIconModel",
      "state": {
       "_model_module_version": "^0.14.0",
       "_view_module_version": "^0.14.0",
       "icon_color": "white",
       "marker_color": "orange",
       "name": "life-ring"
      }
     },
     "e6f4e02ad7b34a0b83aeab34305fad47": {
      "model_module": "jupyter-leaflet",
      "model_module_version": "^0.14.0",
      "model_name": "LeafletAttributionControlModel",
      "state": {
       "_model_module_version": "^0.14.0",
       "_view_module_version": "^0.14.0",
       "options": [
        "position",
        "prefix"
       ],
       "position": "bottomright",
       "prefix": "ipyleaflet"
      }
     },
     "e778e133648e4c8698cce64e40419bd1": {
      "model_module": "jupyter-leaflet",
      "model_module_version": "^0.14.0",
      "model_name": "LeafletAwesomeIconModel",
      "state": {
       "_model_module_version": "^0.14.0",
       "_view_module_version": "^0.14.0",
       "icon_color": "white",
       "marker_color": "orange",
       "name": "life-ring"
      }
     },
     "e7cce1a56e54407a959b5f99643cb981": {
      "model_module": "@jupyter-widgets/base",
      "model_module_version": "1.2.0",
      "model_name": "LayoutModel",
      "state": {}
     },
     "e7eaece9b9b24aa6acbc09f170f1d07c": {
      "model_module": "@jupyter-widgets/controls",
      "model_module_version": "1.5.0",
      "model_name": "HTMLModel",
      "state": {
       "layout": "IPY_MODEL_bd33863c4b8542ae8e6e3d14894a4122",
       "style": "IPY_MODEL_4b06e1f39038419e95f2a8d1e3b1f284",
       "value": "<table border=\"1\" class=\"dataframe table table-striped table-hover table-condensed table-responsive\">\n  <thead>\n    <tr style=\"text-align: right;\">\n      <th></th>\n      <th>56</th>\n    </tr>\n  </thead>\n  <tbody>\n    <tr>\n      <th>Institution</th>\n      <td>Ocean Observatories Initiative (OOI)</td>\n    </tr>\n    <tr>\n      <th>Dataset ID</th>\n      <td>ooi-ce07shsm-mfd37-03-dostad000</td>\n    </tr>\n  </tbody>\n</table>"
      }
     },
     "e8349f8adc7548e2adf951f3aceeba8d": {
      "model_module": "@jupyter-widgets/base",
      "model_module_version": "1.2.0",
      "model_name": "LayoutModel",
      "state": {}
     },
     "e8dcce4d5362461c9b68d8305b274207": {
      "model_module": "@jupyter-widgets/base",
      "model_module_version": "1.2.0",
      "model_name": "LayoutModel",
      "state": {}
     },
     "e9189fc217b34d18addfe6fdd3a6e1bc": {
      "model_module": "jupyter-leaflet",
      "model_module_version": "^0.14.0",
      "model_name": "LeafletAwesomeIconModel",
      "state": {
       "_model_module_version": "^0.14.0",
       "_view_module_version": "^0.14.0",
       "icon_color": "white",
       "marker_color": "orange",
       "name": "life-ring"
      }
     },
     "e91a100b90e44f2cb217f9f1bef03cfb": {
      "model_module": "jupyter-leaflet",
      "model_module_version": "^0.14.0",
      "model_name": "LeafletAwesomeIconModel",
      "state": {
       "_model_module_version": "^0.14.0",
       "_view_module_version": "^0.14.0",
       "icon_color": "white",
       "marker_color": "orange",
       "name": "life-ring"
      }
     },
     "e9240bd2ac7e4d8ea47310c197081101": {
      "model_module": "jupyter-leaflet",
      "model_module_version": "^0.14.0",
      "model_name": "LeafletMarkerModel",
      "state": {
       "_model_module_version": "^0.14.0",
       "_view_module_version": "^0.14.0",
       "icon": "IPY_MODEL_b67e13198006429084fafe17333a6377",
       "location": [
        46.851,
        -124.972
       ],
       "options": [
        "alt",
        "draggable",
        "keyboard",
        "rise_offset",
        "rise_on_hover",
        "rotation_angle",
        "rotation_origin",
        "title",
        "z_index_offset"
       ],
       "popup": "IPY_MODEL_da837a7b5efe4b1fb96ff30fa8b4fdbe"
      }
     },
     "e92be4a4357e467086589813c3eb079e": {
      "model_module": "jupyter-leaflet",
      "model_module_version": "^0.14.0",
      "model_name": "LeafletMapModel",
      "state": {
       "_model_module_version": "^0.14.0",
       "_view_module_version": "^0.14.0",
       "bottom": 6061,
       "center": [
        45.5,
        -125.375
       ],
       "controls": [
        "IPY_MODEL_1cba6ba148064795a5874c68d20d71ec",
        "IPY_MODEL_e6f4e02ad7b34a0b83aeab34305fad47",
        "IPY_MODEL_bda83f21ccc94af982f2bb93d09e5911",
        "IPY_MODEL_62c6251acc89458ba08d7b56824e95fd"
       ],
       "default_style": "IPY_MODEL_7cbc68b1930f4ae89b8194594e9d7fab",
       "dragging_style": "IPY_MODEL_901ebcb74fe940be8d825a330b2488c3",
       "east": -115.04882812500001,
       "fullscreen": false,
       "interpolation": "bilinear",
       "layers": [
        "IPY_MODEL_ae4c5a2abfba48199e91dd3da0e21af2",
        "IPY_MODEL_9e126f0061c24e3491de1bdf8060408d",
        "IPY_MODEL_49cdc158a2434ce687c602126a62be8f",
        "IPY_MODEL_0c45d13d92b7457198728b1b567ae935",
        "IPY_MODEL_e35b0f62b2cb42c282d127e9fd2ecd9c",
        "IPY_MODEL_b87893eeb2794a59b3bfd80491c3287f",
        "IPY_MODEL_e9240bd2ac7e4d8ea47310c197081101",
        "IPY_MODEL_d6382f5d865a4de9b9482f51983a61f8",
        "IPY_MODEL_d1b42f5f7e7d41c7aab2ea94d4b2ff32",
        "IPY_MODEL_d70aaaeb81e344b9af3384ce65e8e44e",
        "IPY_MODEL_c159fe8cb33749098f0ec8b4cbb91bb9",
        "IPY_MODEL_2c48f3136b8d4ab586145cd15a6cbe03",
        "IPY_MODEL_41055f714f844755ad9fe699896dc030",
        "IPY_MODEL_943b851d85df444f884cef3082da0b6f",
        "IPY_MODEL_722418cd08b94e40a030fa2fb25e384d",
        "IPY_MODEL_ece89d306ba54253bdbaa6475360ff38",
        "IPY_MODEL_4039499a3f40404b868024dd5857caf6",
        "IPY_MODEL_5fc176a6a0704515978c714b277f9180",
        "IPY_MODEL_ac9b4c388c8943efb950863fadd88762",
        "IPY_MODEL_9e09ef4667e94611b52fa4bd9e567927",
        "IPY_MODEL_9fb7dbf18a1847648f008022f6f4a10a",
        "IPY_MODEL_5dbfcb32d39a4f35b16e112ef2ca2df3",
        "IPY_MODEL_e455647ee4e542b09978080987d9984a",
        "IPY_MODEL_baa65a5a7e284ee8af8e99e5f722608c",
        "IPY_MODEL_7ae96e9b3b7244d380321b6f87ad923c",
        "IPY_MODEL_55dd7c8b10224305b86b58f010a08851",
        "IPY_MODEL_b3f1e94f23d84ba3a40fc4240ea5523f",
        "IPY_MODEL_1104c4584af34b2ca66421355226c700",
        "IPY_MODEL_a56aea5adfcb4082ac6055572e6e778a",
        "IPY_MODEL_4cc4ff1540dd444bae123ca0102b7d9f",
        "IPY_MODEL_2479132ef3204440bf47bebec1c6ba71",
        "IPY_MODEL_b33ac0de0ca842b3bcb8e647839efff2",
        "IPY_MODEL_fd1358b1400343e79f3e3f3d477d0953",
        "IPY_MODEL_ec8065aec9834e25a682e6d1e7410aa5",
        "IPY_MODEL_c5e2fb4449b749e494cf66b5c164522d",
        "IPY_MODEL_813f8478dd594bd9856b452d20737369",
        "IPY_MODEL_aab56ea1038240a9b8a1b101d7c3c272",
        "IPY_MODEL_d13a34ad46334c68860b7681ff0630e2",
        "IPY_MODEL_19680e6401494c72835c736762679c28",
        "IPY_MODEL_607450c17c774ddca93507e0f2663632",
        "IPY_MODEL_215bf20e76bb432384887629e0ef7812",
        "IPY_MODEL_1b194dd5b0434ca1be76a573f64ff25c",
        "IPY_MODEL_af4db57052f64b868c7f6fd70e1f1296",
        "IPY_MODEL_00d88b6e3b4b4a3dbb0f9f3f0a79d191",
        "IPY_MODEL_357e937e0cdf47efb2632b6a49ef7077",
        "IPY_MODEL_96e58286ff724a0db9eef00ac8763f3b",
        "IPY_MODEL_48076a922847433797f01cea89ab1a07",
        "IPY_MODEL_33a6c2e3c84c43ce9c146c60d237e1d1",
        "IPY_MODEL_2be1db1b3baf43a997d822ad650e28f7",
        "IPY_MODEL_0eba3b088c854b43bfb6d5aee87d5876",
        "IPY_MODEL_df7a5578155a4f95ad495e3b96676d21",
        "IPY_MODEL_6f638434d7c4412ab60ab344515c0e74",
        "IPY_MODEL_c7acd5a10d75464c9919d8d87d1f03c5",
        "IPY_MODEL_411945d2d59549909a5a5685686ad511",
        "IPY_MODEL_127a3ddb40974c88829f163bc52abb87",
        "IPY_MODEL_35e3760054604860896c905843f77b6e",
        "IPY_MODEL_11bd60b9cf6743bfb404c831db78d422",
        "IPY_MODEL_53bdc239629c4db8a038f544eed2e418",
        "IPY_MODEL_b8d9b90458074896a477798eb9e80a4a",
        "IPY_MODEL_d2c9511f951647cd9bf6259b5c171e5a",
        "IPY_MODEL_16e8d95070084fe7bf028fa3791188ea",
        "IPY_MODEL_cbb4aa9101a04c4ca0eb3ed310b1db3e",
        "IPY_MODEL_3e380d02376c4326902628d679699ac5",
        "IPY_MODEL_60e5b946d96248b3aeaad7c72bebbd0c",
        "IPY_MODEL_94f9b5845c244c0380dd14e46491cab1",
        "IPY_MODEL_672cc270cc174f88bc31fa9eecf86a4b",
        "IPY_MODEL_dca36b3a177942008bbcd0400f66df44",
        "IPY_MODEL_814ba44715004949b0525400ea18c69c",
        "IPY_MODEL_7272c877527a4baea9b8b42631073b10",
        "IPY_MODEL_a7908fc2a9584df483e197bfb046e1f7",
        "IPY_MODEL_8dbb1d500af242e3a8ad69f4bbbf7055",
        "IPY_MODEL_360597908d3a4d5088ad6ee08e5d9ca6",
        "IPY_MODEL_da29dbe01146458bb0a8153e15380ded",
        "IPY_MODEL_2956f395582e440e9c88a569de3dcaca",
        "IPY_MODEL_ef0f741936874b13b76674ef79d9c6da",
        "IPY_MODEL_6a2c38ac755747e2b914333e962dc2fb",
        "IPY_MODEL_8f3e245cd2e7460682785e398bdac883",
        "IPY_MODEL_008064f8267f400bbb986047cd68ecbe"
       ],
       "layout": "IPY_MODEL_69c7d4a69a594d6ca1db2cb2141fbc40",
       "left": 2017,
       "modisdate": "yesterday",
       "north": 48.50204750525715,
       "options": [
        "bounce_at_zoom_limits",
        "box_zoom",
        "center",
        "close_popup_on_click",
        "double_click_zoom",
        "dragging",
        "fullscreen",
        "inertia",
        "inertia_deceleration",
        "inertia_max_speed",
        "interpolation",
        "keyboard",
        "keyboard_pan_offset",
        "keyboard_zoom_offset",
        "max_zoom",
        "min_zoom",
        "scroll_wheel_zoom",
        "tap",
        "tap_tolerance",
        "touch_zoom",
        "world_copy_jump",
        "zoom",
        "zoom_animation_threshold",
        "zoom_delta",
        "zoom_snap",
        "zoom_start"
       ],
       "right": 2956,
       "south": 42.342305278572816,
       "style": "IPY_MODEL_5a354da6908b40048124ad48fffed013",
       "top": 5661,
       "west": -135.68115234375003,
       "window_url": "http://localhost:8888/notebooks/data_access_notebooks/2021-10-19-multiple-erddap-search.ipynb",
       "zoom": 6
      }
     },
     "e9716236274742d484d68bfa957ac9f6": {
      "model_module": "jupyter-leaflet",
      "model_module_version": "^0.14.0",
      "model_name": "LeafletMarkerModel",
      "state": {
       "_model_module_version": "^0.14.0",
       "_view_module_version": "^0.14.0",
       "icon": "IPY_MODEL_89f69f24f0ad4d84947cb0f1490b1ab5",
       "location": [
        44.65678,
        -124.09707
       ],
       "options": [
        "alt",
        "draggable",
        "keyboard",
        "rise_offset",
        "rise_on_hover",
        "rotation_angle",
        "rotation_origin",
        "title",
        "z_index_offset"
       ],
       "popup": "IPY_MODEL_47e389d8c25540439543dd971d758013"
      }
     },
     "e97d1a518ee84d2db9085fcedaae76a5": {
      "model_module": "jupyter-leaflet",
      "model_module_version": "^0.14.0",
      "model_name": "LeafletAwesomeIconModel",
      "state": {
       "_model_module_version": "^0.14.0",
       "_view_module_version": "^0.14.0",
       "icon_color": "white",
       "marker_color": "orange",
       "name": "life-ring"
      }
     },
     "e98dbb22729a4bafb2b6c7a18f386778": {
      "model_module": "jupyter-leaflet",
      "model_module_version": "^0.14.0",
      "model_name": "LeafletAwesomeIconModel",
      "state": {
       "_model_module_version": "^0.14.0",
       "_view_module_version": "^0.14.0",
       "icon_color": "white",
       "marker_color": "orange",
       "name": "life-ring"
      }
     },
     "e9c0fa7e443646ca8915c55bbe110704": {
      "model_module": "@jupyter-widgets/controls",
      "model_module_version": "1.5.0",
      "model_name": "DescriptionStyleModel",
      "state": {
       "description_width": ""
      }
     },
     "eb7bb0e67cd14844ac2ccebccdc9ac23": {
      "model_module": "jupyter-leaflet",
      "model_module_version": "^0.14.0",
      "model_name": "LeafletMarkerModel",
      "state": {
       "_model_module_version": "^0.14.0",
       "_view_module_version": "^0.14.0",
       "icon": "IPY_MODEL_2aaeff64713b439a8bd162bdaa960780",
       "location": [
        47.1345,
        -124.27087
       ],
       "options": [
        "alt",
        "draggable",
        "keyboard",
        "rise_offset",
        "rise_on_hover",
        "rotation_angle",
        "rotation_origin",
        "title",
        "z_index_offset"
       ],
       "popup": "IPY_MODEL_ab88d6fb19c34c8986da9b1223b0dfa7"
      }
     },
     "ebc891354dd046cd89e9bd2fc22d90c1": {
      "model_module": "jupyter-leaflet",
      "model_module_version": "^0.14.0",
      "model_name": "LeafletZoomControlModel",
      "state": {
       "_model_module_version": "^0.14.0",
       "_view_module_version": "^0.14.0",
       "options": [
        "position",
        "zoom_in_text",
        "zoom_in_title",
        "zoom_out_text",
        "zoom_out_title"
       ]
      }
     },
     "ebe499337cae4db986be39d8aa9051ac": {
      "model_module": "@jupyter-widgets/controls",
      "model_module_version": "1.5.0",
      "model_name": "HTMLModel",
      "state": {
       "layout": "IPY_MODEL_79db8c90898a497a96f48d13e4382152",
       "style": "IPY_MODEL_1043606736a74e06afab119b8e11fb83",
       "value": "<table border=\"1\" class=\"dataframe table table-striped table-hover table-condensed table-responsive\">\n  <thead>\n    <tr style=\"text-align: right;\">\n      <th></th>\n      <th>48</th>\n    </tr>\n  </thead>\n  <tbody>\n    <tr>\n      <th>Institution</th>\n      <td>Ocean Observatories Initiative (OOI)</td>\n    </tr>\n    <tr>\n      <th>Dataset ID</th>\n      <td>ooi-ce09ossm-sbd11-06-metbka000</td>\n    </tr>\n  </tbody>\n</table>"
      }
     },
     "ebf89407974249e1948e449c7f8948a1": {
      "model_module": "@jupyter-widgets/controls",
      "model_module_version": "1.5.0",
      "model_name": "HTMLModel",
      "state": {
       "layout": "IPY_MODEL_aedeb714be044e67ac5912e5b51fc3f6",
       "style": "IPY_MODEL_7f45618d5dc64eb59e9121fbb79e6aa8",
       "value": "<table border=\"1\" class=\"dataframe table table-striped table-hover table-condensed table-responsive\">\n  <thead>\n    <tr style=\"text-align: right;\">\n      <th></th>\n      <th>51</th>\n    </tr>\n  </thead>\n  <tbody>\n    <tr>\n      <th>Institution</th>\n      <td>Ocean Observatories Initiative (OOI)</td>\n    </tr>\n    <tr>\n      <th>Dataset ID</th>\n      <td>ooi-ce07shsm-rid27-03-ctdbpc000</td>\n    </tr>\n  </tbody>\n</table>"
      }
     },
     "ec4860e4847c41fea4b9acde6b481c8a": {
      "model_module": "@jupyter-widgets/base",
      "model_module_version": "1.2.0",
      "model_name": "LayoutModel",
      "state": {}
     },
     "ec4fcc29cc324dc9bda9ddc330f841b9": {
      "model_module": "@jupyter-widgets/base",
      "model_module_version": "1.2.0",
      "model_name": "LayoutModel",
      "state": {}
     },
     "ec60dbdba2b047b19a0b7066f6ad05bc": {
      "model_module": "jupyter-leaflet",
      "model_module_version": "^0.14.0",
      "model_name": "LeafletAwesomeIconModel",
      "state": {
       "_model_module_version": "^0.14.0",
       "_view_module_version": "^0.14.0",
       "icon_color": "white",
       "marker_color": "orange",
       "name": "life-ring"
      }
     },
     "ec6df6cdc7f442ddad296f5b2d7fab44": {
      "model_module": "@jupyter-widgets/base",
      "model_module_version": "1.2.0",
      "model_name": "LayoutModel",
      "state": {}
     },
     "ec8065aec9834e25a682e6d1e7410aa5": {
      "model_module": "jupyter-leaflet",
      "model_module_version": "^0.14.0",
      "model_name": "LeafletMarkerModel",
      "state": {
       "_model_module_version": "^0.14.0",
       "_view_module_version": "^0.14.0",
       "icon": "IPY_MODEL_a6d4c5d15a6c4a3a9ffb255981325c09",
       "location": [
        44.37868,
        -124.94508
       ],
       "options": [
        "alt",
        "draggable",
        "keyboard",
        "rise_offset",
        "rise_on_hover",
        "rotation_angle",
        "rotation_origin",
        "title",
        "z_index_offset"
       ],
       "popup": "IPY_MODEL_0bfad5ffb75d4b348db1f3ea3e8a9b23"
      }
     },
     "ec83e34ca5064535a9358af1d24038dd": {
      "model_module": "jupyter-leaflet",
      "model_module_version": "^0.14.0",
      "model_name": "LeafletAwesomeIconModel",
      "state": {
       "_model_module_version": "^0.14.0",
       "_view_module_version": "^0.14.0",
       "icon_color": "white",
       "name": "life-ring"
      }
     },
     "ece89d306ba54253bdbaa6475360ff38": {
      "model_module": "jupyter-leaflet",
      "model_module_version": "^0.14.0",
      "model_name": "LeafletMarkerModel",
      "state": {
       "_model_module_version": "^0.14.0",
       "_view_module_version": "^0.14.0",
       "icon": "IPY_MODEL_5d98fe9e931043d1af2636e8c7172146",
       "location": [
        46.5007019042969,
        -124.030403137207
       ],
       "options": [
        "alt",
        "draggable",
        "keyboard",
        "rise_offset",
        "rise_on_hover",
        "rotation_angle",
        "rotation_origin",
        "title",
        "z_index_offset"
       ],
       "popup": "IPY_MODEL_6c8dfecfd9ff4fac99f1bc2c42a4946b"
      }
     },
     "ecfcf2a1be5c485e95e3fc0c93346d3a": {
      "model_module": "@jupyter-widgets/controls",
      "model_module_version": "1.5.0",
      "model_name": "HTMLModel",
      "state": {
       "layout": "IPY_MODEL_fef356b07ab34d1b8c051cbbfabbcb2a",
       "style": "IPY_MODEL_2b395b824f974c1f91039a8d93077021",
       "value": "<table border=\"1\" class=\"dataframe table table-striped table-hover table-condensed table-responsive\">\n  <thead>\n    <tr style=\"text-align: right;\">\n      <th></th>\n      <th>41</th>\n    </tr>\n  </thead>\n  <tbody>\n    <tr>\n      <th>Institution</th>\n      <td>Ocean Observatories Initiative (OOI)</td>\n    </tr>\n    <tr>\n      <th>Dataset ID</th>\n      <td>ooi-ce09ossm-rid27-02-flortd000</td>\n    </tr>\n  </tbody>\n</table>"
      }
     },
     "ed23be8138f841acb09fe1d1e20c97a7": {
      "model_module": "@jupyter-widgets/base",
      "model_module_version": "1.2.0",
      "model_name": "LayoutModel",
      "state": {}
     },
     "ed584080d0bd4ee1a6ef802b35a194d6": {
      "model_module": "@jupyter-widgets/controls",
      "model_module_version": "1.5.0",
      "model_name": "HTMLModel",
      "state": {
       "layout": "IPY_MODEL_f4b7eb20f1f04cb2be9304a156063849",
       "style": "IPY_MODEL_0533e3a3eeb2493db09363337a4a5ab6",
       "value": "<table border=\"1\" class=\"dataframe table table-striped table-hover table-condensed table-responsive\">\n  <thead>\n    <tr style=\"text-align: right;\">\n      <th></th>\n      <th>52</th>\n    </tr>\n  </thead>\n  <tbody>\n    <tr>\n      <th>Institution</th>\n      <td>Ocean Observatories Initiative (OOI)</td>\n    </tr>\n    <tr>\n      <th>Dataset ID</th>\n      <td>ooi-ce07shsm-rid27-04-dostad000</td>\n    </tr>\n  </tbody>\n</table>"
      }
     },
     "ed6255d4dd9f4c9fb5655cb29f5b2f90": {
      "model_module": "@jupyter-widgets/controls",
      "model_module_version": "1.5.0",
      "model_name": "DescriptionStyleModel",
      "state": {
       "description_width": ""
      }
     },
     "edc7cf86a1194dab9b6a11b1b58c5b1e": {
      "model_module": "@jupyter-widgets/controls",
      "model_module_version": "1.5.0",
      "model_name": "DescriptionStyleModel",
      "state": {
       "description_width": ""
      }
     },
     "ee25211eb1b747279b2b95be90e8da83": {
      "model_module": "jupyter-leaflet",
      "model_module_version": "^0.14.0",
      "model_name": "LeafletMarkerModel",
      "state": {
       "_model_module_version": "^0.14.0",
       "_view_module_version": "^0.14.0",
       "icon": "IPY_MODEL_70e42c89e70e4406bb6430ff6e89cfba",
       "location": [
        44.37868,
        -124.94508
       ],
       "options": [
        "alt",
        "draggable",
        "keyboard",
        "rise_offset",
        "rise_on_hover",
        "rotation_angle",
        "rotation_origin",
        "title",
        "z_index_offset"
       ],
       "popup": "IPY_MODEL_40a5f409985c470a81566b83aedd582d"
      }
     },
     "ee8c9c1972da42cab4428e0fce24c5de": {
      "model_module": "@jupyter-widgets/controls",
      "model_module_version": "1.5.0",
      "model_name": "HTMLModel",
      "state": {
       "layout": "IPY_MODEL_ac918485cb29424da4c7a6ee92d32969",
       "style": "IPY_MODEL_c9866e1d370149ac91e3f4a343a9abd5",
       "value": "<table border=\"1\" class=\"dataframe table table-striped table-hover table-condensed table-responsive\">\n  <thead>\n    <tr style=\"text-align: right;\">\n      <th></th>\n      <th>80</th>\n    </tr>\n  </thead>\n  <tbody>\n    <tr>\n      <th>Institution</th>\n      <td>Northwest Association of Networked Ocean Observing Systems (NANOOS)</td>\n    </tr>\n    <tr>\n      <th>Dataset ID</th>\n      <td>nanoos_wcsh_whiskey1</td>\n    </tr>\n  </tbody>\n</table>"
      }
     },
     "ef0696ffa44045ab8335da5f51bb7271": {
      "model_module": "@jupyter-widgets/controls",
      "model_module_version": "1.5.0",
      "model_name": "DescriptionStyleModel",
      "state": {
       "description_width": ""
      }
     },
     "ef0f741936874b13b76674ef79d9c6da": {
      "model_module": "jupyter-leaflet",
      "model_module_version": "^0.14.0",
      "model_name": "LeafletMarkerModel",
      "state": {
       "_model_module_version": "^0.14.0",
       "_view_module_version": "^0.14.0",
       "icon": "IPY_MODEL_8f101794af994536b467a2bea3e56233",
       "location": [
        44.51524,
        -125.38981
       ],
       "options": [
        "alt",
        "draggable",
        "keyboard",
        "rise_offset",
        "rise_on_hover",
        "rotation_angle",
        "rotation_origin",
        "title",
        "z_index_offset"
       ],
       "popup": "IPY_MODEL_e32c3c5593834da191485f630958a74a"
      }
     },
     "ef10f7214afb46dca3987d45c725a83e": {
      "model_module": "jupyter-leaflet",
      "model_module_version": "^0.14.0",
      "model_name": "LeafletMarkerModel",
      "state": {
       "_model_module_version": "^0.14.0",
       "_view_module_version": "^0.14.0",
       "icon": "IPY_MODEL_4d72529df2b74612bc34c2768bd0dc0b",
       "location": [
        46.85367,
        -124.95935
       ],
       "options": [
        "alt",
        "draggable",
        "keyboard",
        "rise_offset",
        "rise_on_hover",
        "rotation_angle",
        "rotation_origin",
        "title",
        "z_index_offset"
       ],
       "popup": "IPY_MODEL_37bd666c60e5429a9fc469f2d6695604"
      }
     },
     "ef1b44641d5b4f799d884df771ac65a2": {
      "model_module": "jupyter-leaflet",
      "model_module_version": "^0.14.0",
      "model_name": "LeafletAwesomeIconModel",
      "state": {
       "_model_module_version": "^0.14.0",
       "_view_module_version": "^0.14.0",
       "icon_color": "white",
       "marker_color": "orange",
       "name": "life-ring"
      }
     },
     "ef273081b2414615aea3b7e84f6b41c3": {
      "model_module": "@jupyter-widgets/controls",
      "model_module_version": "1.5.0",
      "model_name": "DescriptionStyleModel",
      "state": {
       "description_width": ""
      }
     },
     "ef394cbfe731479596be966d09041484": {
      "model_module": "@jupyter-widgets/base",
      "model_module_version": "1.2.0",
      "model_name": "LayoutModel",
      "state": {}
     },
     "ef7ab8d946a84c2aa6c2dd823cb4e7f7": {
      "model_module": "@jupyter-widgets/controls",
      "model_module_version": "1.5.0",
      "model_name": "HTMLModel",
      "state": {
       "layout": "IPY_MODEL_bbc10ae0abc44226a345368ddf825a65",
       "style": "IPY_MODEL_ed6255d4dd9f4c9fb5655cb29f5b2f90",
       "value": "<table border=\"1\" class=\"dataframe table table-striped table-hover table-condensed table-responsive\">\n  <thead>\n    <tr style=\"text-align: right;\">\n      <th></th>\n      <th>70</th>\n    </tr>\n  </thead>\n  <tbody>\n    <tr>\n      <th>Institution</th>\n      <td>Northwest Association of Networked Ocean Observing Systems (NANOOS)</td>\n    </tr>\n    <tr>\n      <th>Dataset ID</th>\n      <td>nanoos_apl_nemo</td>\n    </tr>\n  </tbody>\n</table>"
      }
     },
     "efd2cc4990f646e8a3639f2a643bcbb5": {
      "model_module": "@jupyter-widgets/controls",
      "model_module_version": "1.5.0",
      "model_name": "DescriptionStyleModel",
      "state": {
       "description_width": ""
      }
     },
     "f0560707c3be4b6ea92cb127fbc6068f": {
      "model_module": "@jupyter-widgets/base",
      "model_module_version": "1.2.0",
      "model_name": "LayoutModel",
      "state": {}
     },
     "f06ea759f1e6494aa170fae8578e7825": {
      "model_module": "@jupyter-widgets/controls",
      "model_module_version": "1.5.0",
      "model_name": "DescriptionStyleModel",
      "state": {
       "description_width": ""
      }
     },
     "f072d315ab0c4d528156d68979571f06": {
      "model_module": "jupyter-leaflet",
      "model_module_version": "^0.14.0",
      "model_name": "LeafletMarkerModel",
      "state": {
       "_model_module_version": "^0.14.0",
       "_view_module_version": "^0.14.0",
       "icon": "IPY_MODEL_c69b045f75174aa1ab5ece916f834057",
       "location": [
        44.378,
        -124.946
       ],
       "options": [
        "alt",
        "draggable",
        "keyboard",
        "rise_offset",
        "rise_on_hover",
        "rotation_angle",
        "rotation_origin",
        "title",
        "z_index_offset"
       ],
       "popup": "IPY_MODEL_b9961b34d677497195af361c5717371e"
      }
     },
     "f0a3e1065cb54d3286ce5432c42acd64": {
      "model_module": "jupyter-leaflet",
      "model_module_version": "^0.14.0",
      "model_name": "LeafletMarkerModel",
      "state": {
       "_model_module_version": "^0.14.0",
       "_view_module_version": "^0.14.0",
       "icon": "IPY_MODEL_3ad236c9cd004798920b334550a868b5",
       "location": [
        46.98648,
        -124.56923
       ],
       "options": [
        "alt",
        "draggable",
        "keyboard",
        "rise_offset",
        "rise_on_hover",
        "rotation_angle",
        "rotation_origin",
        "title",
        "z_index_offset"
       ],
       "popup": "IPY_MODEL_67f0d41c67d44edfa717e1448de5459f"
      }
     },
     "f196543251ce42609ae08d33e742179e": {
      "model_module": "@jupyter-widgets/controls",
      "model_module_version": "1.5.0",
      "model_name": "DescriptionStyleModel",
      "state": {
       "description_width": ""
      }
     },
     "f19fdf630ddf45deb783d9ff107c6a5c": {
      "model_module": "jupyter-leaflet",
      "model_module_version": "^0.14.0",
      "model_name": "LeafletAwesomeIconModel",
      "state": {
       "_model_module_version": "^0.14.0",
       "_view_module_version": "^0.14.0",
       "icon_color": "white",
       "marker_color": "orange",
       "name": "life-ring"
      }
     },
     "f1abb884b026415e8ecd4cc068a10d20": {
      "model_module": "@jupyter-widgets/controls",
      "model_module_version": "1.5.0",
      "model_name": "DescriptionStyleModel",
      "state": {
       "description_width": ""
      }
     },
     "f1e5ebdc38984a28ba8c9d00e95cba47": {
      "model_module": "@jupyter-widgets/controls",
      "model_module_version": "1.5.0",
      "model_name": "HTMLModel",
      "state": {
       "layout": "IPY_MODEL_136244e338cb46dc8e08399f181b3747",
       "style": "IPY_MODEL_bde922853c24420a88d5bbc66585be03",
       "value": "<table border=\"1\" class=\"dataframe table table-striped table-hover table-condensed table-responsive\">\n  <thead>\n    <tr style=\"text-align: right;\">\n      <th></th>\n      <th>16</th>\n    </tr>\n  </thead>\n  <tbody>\n    <tr>\n      <th>Institution</th>\n      <td>Ocean Observatories Initiative (OOI)</td>\n    </tr>\n    <tr>\n      <th>Dataset ID</th>\n      <td>ooi-ce04ossm-rid27-03-ctdbpc000</td>\n    </tr>\n  </tbody>\n</table>"
      }
     },
     "f1e5f6d10dac44199e7c6b5d863fe62c": {
      "model_module": "jupyter-leaflet",
      "model_module_version": "^0.14.0",
      "model_name": "LeafletMarkerModel",
      "state": {
       "_model_module_version": "^0.14.0",
       "_view_module_version": "^0.14.0",
       "icon": "IPY_MODEL_e3a40dcb220b49828b08d32a97b3ec53",
       "location": [
        46.85367,
        -124.95935
       ],
       "options": [
        "alt",
        "draggable",
        "keyboard",
        "rise_offset",
        "rise_on_hover",
        "rotation_angle",
        "rotation_origin",
        "title",
        "z_index_offset"
       ],
       "popup": "IPY_MODEL_fee490a857f044bdbf7437d4a51555db"
      }
     },
     "f21c4f8e86344a3993b8ede0abd30f0b": {
      "model_module": "jupyter-leaflet",
      "model_module_version": "^0.14.0",
      "model_name": "LeafletMarkerModel",
      "state": {
       "_model_module_version": "^0.14.0",
       "_view_module_version": "^0.14.0",
       "icon": "IPY_MODEL_c0fc5c770bb449da812c671c3208576e",
       "location": [
        44.63708,
        -124.30595
       ],
       "options": [
        "alt",
        "draggable",
        "keyboard",
        "rise_offset",
        "rise_on_hover",
        "rotation_angle",
        "rotation_origin",
        "title",
        "z_index_offset"
       ],
       "popup": "IPY_MODEL_3135fe3929a74bc18548d33f6b76e215"
      }
     },
     "f23e936755fb4e3185fe9019978b06e0": {
      "model_module": "@jupyter-widgets/controls",
      "model_module_version": "1.5.0",
      "model_name": "DescriptionStyleModel",
      "state": {
       "description_width": ""
      }
     },
     "f250779a27fe4ba18f5fce5a7f99015a": {
      "model_module": "jupyter-leaflet",
      "model_module_version": "^0.14.0",
      "model_name": "LeafletAwesomeIconModel",
      "state": {
       "_model_module_version": "^0.14.0",
       "_view_module_version": "^0.14.0",
       "icon_color": "white",
       "marker_color": "orange",
       "name": "life-ring"
      }
     },
     "f26e56d38cea46418227712fd898df2a": {
      "model_module": "@jupyter-widgets/controls",
      "model_module_version": "1.5.0",
      "model_name": "HTMLModel",
      "state": {
       "layout": "IPY_MODEL_3d0bb074b5ca46c4a3c76a027f527841",
       "style": "IPY_MODEL_82278555a4a44389b84b2e9fa73cc584",
       "value": "<table border=\"1\" class=\"dataframe table table-striped table-hover table-condensed table-responsive\">\n  <thead>\n    <tr style=\"text-align: right;\">\n      <th></th>\n      <th>25</th>\n    </tr>\n  </thead>\n  <tbody>\n    <tr>\n      <th>Institution</th>\n      <td>Ocean Observatories Initiative (OOI)</td>\n    </tr>\n    <tr>\n      <th>Dataset ID</th>\n      <td>ooi-ce02shsm-rid27-03-ctdbpc000</td>\n    </tr>\n  </tbody>\n</table>"
      }
     },
     "f283cd16cd2640188bc2faf47e54f72f": {
      "model_module": "@jupyter-widgets/base",
      "model_module_version": "1.2.0",
      "model_name": "LayoutModel",
      "state": {}
     },
     "f291fe3a5db848ddb5e5a57ee4d0ddd8": {
      "model_module": "jupyter-leaflet",
      "model_module_version": "^0.14.0",
      "model_name": "LeafletMarkerModel",
      "state": {
       "_model_module_version": "^0.14.0",
       "_view_module_version": "^0.14.0",
       "icon": "IPY_MODEL_cb68ab5c4897422f810220a13638fbfe",
       "location": [
        46.98648,
        -124.56923
       ],
       "options": [
        "alt",
        "draggable",
        "keyboard",
        "rise_offset",
        "rise_on_hover",
        "rotation_angle",
        "rotation_origin",
        "title",
        "z_index_offset"
       ],
       "popup": "IPY_MODEL_259cffab36474ba7ac545dfe1bbb954e"
      }
     },
     "f2ba185c87e74b8aa0c5dbb00286ca1c": {
      "model_module": "@jupyter-widgets/controls",
      "model_module_version": "1.5.0",
      "model_name": "HTMLModel",
      "state": {
       "layout": "IPY_MODEL_7d4580ab835c4cbdb3945e6292277793",
       "style": "IPY_MODEL_212b8ca9bf3b432aa7efc8a18ec0998d",
       "value": "<table border=\"1\" class=\"dataframe table table-striped table-hover table-condensed table-responsive\">\n  <thead>\n    <tr style=\"text-align: right;\">\n      <th></th>\n      <th>14</th>\n    </tr>\n  </thead>\n  <tbody>\n    <tr>\n      <th>Institution</th>\n      <td>Ocean Observatories Initiative (OOI)</td>\n    </tr>\n    <tr>\n      <th>Dataset ID</th>\n      <td>ooi-ce04osps-pc01b-4b-phsena106</td>\n    </tr>\n  </tbody>\n</table>"
      }
     },
     "f2bf2bcc8f8d43aabfe2f1adb4713ac5": {
      "model_module": "jupyter-leaflet",
      "model_module_version": "^0.14.0",
      "model_name": "LeafletAwesomeIconModel",
      "state": {
       "_model_module_version": "^0.14.0",
       "_view_module_version": "^0.14.0",
       "icon_color": "white",
       "name": "life-ring"
      }
     },
     "f2db8c82d4fa46468221501b25d75b90": {
      "model_module": "@jupyter-widgets/controls",
      "model_module_version": "1.5.0",
      "model_name": "DescriptionStyleModel",
      "state": {
       "description_width": ""
      }
     },
     "f32ce08edd4544ad86582aa32bd78aba": {
      "model_module": "jupyter-leaflet",
      "model_module_version": "^0.14.0",
      "model_name": "LeafletMapModel",
      "state": {
       "_model_module_version": "^0.14.0",
       "_view_module_version": "^0.14.0",
       "bottom": 6061,
       "center": [
        45.506346901083425,
        -125.36499023437501
       ],
       "controls": [
        "IPY_MODEL_ebc891354dd046cd89e9bd2fc22d90c1",
        "IPY_MODEL_7a333b8004b14d89b9f14ce0752d127a",
        "IPY_MODEL_5f417c0f97ca418088c14601d52bab7b",
        "IPY_MODEL_80f47157902847ca8b6a0b048c84805b"
       ],
       "default_style": "IPY_MODEL_5f77465957a74eeba8f3163759d54948",
       "dragging_style": "IPY_MODEL_a21dbd62a75f499e8e274b448ad005e0",
       "east": -115.04882812500001,
       "fullscreen": false,
       "interpolation": "bilinear",
       "layers": [
        "IPY_MODEL_4839d2f1834045b78fe5c5c2f5f81cd8",
        "IPY_MODEL_faaa183d641142bda7363eaf2adf84cc",
        "IPY_MODEL_9d6ff3d90c3043b484a554918a41840b",
        "IPY_MODEL_d5c6c961c4bf420b9447be87d7c255c0",
        "IPY_MODEL_494fcc5a8d8542a2bea483f416678fbf",
        "IPY_MODEL_de913d32546c478491753b1f560b3846",
        "IPY_MODEL_213e5875ca504af487ff52452cd56d8f",
        "IPY_MODEL_3e0ca1075ffb4663a38120c9da5962c4",
        "IPY_MODEL_7031e08a68534b97a8fb7860c2a5ee45",
        "IPY_MODEL_4859fa8bfeeb427f87cccd632d6114d5",
        "IPY_MODEL_00609d0dfca54c4b995b43423f0c8128",
        "IPY_MODEL_f96c9554bcb34670a449ae4b841e1567",
        "IPY_MODEL_afdb9e3356e7467eb0df348cee96b4ca",
        "IPY_MODEL_5fd74a467afb4f32a51535b12ef54709",
        "IPY_MODEL_1219bea113664c8d843a6a547b9d3736",
        "IPY_MODEL_ab137d090dcf4659959399bae9ba859a",
        "IPY_MODEL_9d5f777b34464cc1b3a46930c90e7efc",
        "IPY_MODEL_5f6d2e22e7fe46df8f877c2da62cc022",
        "IPY_MODEL_932fd53089e04a30a6e9ab9167371a64",
        "IPY_MODEL_63496470928e44a6bf1de419328bdb38",
        "IPY_MODEL_143cf617dbcd41d983825e3ad57c7798",
        "IPY_MODEL_0e6f853556ae485598bcca048902c5df",
        "IPY_MODEL_e35003e5568e4f789610621f94c3a80d",
        "IPY_MODEL_902d820edf424c95a1ed4a4dc0c21adf",
        "IPY_MODEL_437a0d2d1ab04e2b8b5124fd4c7cb427",
        "IPY_MODEL_716d537a61a84ae08d9d21af46e0dcd2",
        "IPY_MODEL_0c7643329bd54fcb87ee8fb712b7a732",
        "IPY_MODEL_76045c41001e43f8b18b4cab857cf0bd",
        "IPY_MODEL_4787b5d0b8774c19aab9aaf429e59f5e",
        "IPY_MODEL_62986826ae6541c4979c08e2f07f8bdc",
        "IPY_MODEL_da4e4fe6a1954232aedb4d2d528f45fc",
        "IPY_MODEL_263f15aa3c5a49069b41388d1746e318",
        "IPY_MODEL_c4ea2cda5cfb46f3a1415cef7f622c63",
        "IPY_MODEL_4ac76f209ade4589baad5c9626ee4ad0",
        "IPY_MODEL_53880c03429d44f7b8c8912dcd2f664c",
        "IPY_MODEL_c95ea904f36c4f98824aa75f38a6c047",
        "IPY_MODEL_610f5cac7ae24e3388f756bbae5149e0",
        "IPY_MODEL_4c2e89a623fc4f79b5be0c6fbf07087c",
        "IPY_MODEL_f74ca910b6594624a5e710f664aab553",
        "IPY_MODEL_0132a57af6df455abfe20d703fc43ae7",
        "IPY_MODEL_2d09ce1832b54c3b802bad04f957cc90",
        "IPY_MODEL_c55a8389a57848dc9734d903bc8ce72b",
        "IPY_MODEL_4fd07458e7dc4636b38e1d47a3de980c",
        "IPY_MODEL_5e4a9193096049a699a19b6168196947",
        "IPY_MODEL_a998dbf77d684b15be33a155f48d0545",
        "IPY_MODEL_bf476ddb6bd145ebafe335b3f9d5edcd",
        "IPY_MODEL_514c39291dbf4967a05fcae5a2944f73",
        "IPY_MODEL_eb7bb0e67cd14844ac2ccebccdc9ac23",
        "IPY_MODEL_b9fbf185f6a842cb833e931ea6bddae4",
        "IPY_MODEL_a2d6b4b795434fd790780ea630795516",
        "IPY_MODEL_0862e16dfe0d4197949d716b20665c6e",
        "IPY_MODEL_61ffd26280504c789aa3afde1fa37a25",
        "IPY_MODEL_d83ed97341664545874455454ec554ed",
        "IPY_MODEL_62d45f5e1c6d42609d500015a195014e",
        "IPY_MODEL_273143f70e6641f294a0b7b80483e455",
        "IPY_MODEL_b40578c280d24d5babe680a8ce530a65",
        "IPY_MODEL_f1e5f6d10dac44199e7c6b5d863fe62c",
        "IPY_MODEL_d5f4dcd3bb55453f9c8e7e5e458cd6c9",
        "IPY_MODEL_ef10f7214afb46dca3987d45c725a83e",
        "IPY_MODEL_bd453e0618304e37aa5f60b40b5fe2a8",
        "IPY_MODEL_992d87b4e36f4c3abfe7ecff4c38a461",
        "IPY_MODEL_791a7f2c676047f1840baf8730485edb",
        "IPY_MODEL_301db70343b84e999ca2d6c600689511",
        "IPY_MODEL_caf1a892ab4e41f68a06fb49c4af08f8",
        "IPY_MODEL_fda3d7d6bd6d4012aa03856c97ca78a4",
        "IPY_MODEL_4cf0a695f7934bf5afdeaaeda2fac5d7",
        "IPY_MODEL_d1cff6656cc74062b0acbb85736d8f22",
        "IPY_MODEL_74e40a553e09452e932031a71968c56f",
        "IPY_MODEL_9eadecc6b1d149e7a9adb97705187aea",
        "IPY_MODEL_a7adb70924bd4b50a54265ed927a4785",
        "IPY_MODEL_f0a3e1065cb54d3286ce5432c42acd64",
        "IPY_MODEL_9455dd22955645b682c30d69c2e1761a",
        "IPY_MODEL_99938366c7b14768992514366c42412a",
        "IPY_MODEL_01461ad4bff64cb08999f57d6fd6e367",
        "IPY_MODEL_4d9f5066f7f54a32bf10f1ed9a2082ad",
        "IPY_MODEL_cf6fe94529134085b9570c7fb4793879",
        "IPY_MODEL_ae7a4591638d42a8b7f9610421bf68c3",
        "IPY_MODEL_3b3f133719c1491c9e695b3ee63a86c8"
       ],
       "layout": "IPY_MODEL_afe919690c6440f8b932cc2e353738f9",
       "left": 2017,
       "modisdate": "yesterday",
       "north": 48.50204750525715,
       "options": [
        "bounce_at_zoom_limits",
        "box_zoom",
        "center",
        "close_popup_on_click",
        "double_click_zoom",
        "dragging",
        "fullscreen",
        "inertia",
        "inertia_deceleration",
        "inertia_max_speed",
        "interpolation",
        "keyboard",
        "keyboard_pan_offset",
        "keyboard_zoom_offset",
        "max_zoom",
        "min_zoom",
        "scroll_wheel_zoom",
        "tap",
        "tap_tolerance",
        "touch_zoom",
        "world_copy_jump",
        "zoom",
        "zoom_animation_threshold",
        "zoom_delta",
        "zoom_snap",
        "zoom_start"
       ],
       "right": 2956,
       "south": 42.342305278572816,
       "style": "IPY_MODEL_5f77465957a74eeba8f3163759d54948",
       "top": 5661,
       "west": -135.68115234375003,
       "window_url": "http://localhost:8888/notebooks/data_access_notebooks/2021-10-19-multiple-erddap-search.ipynb",
       "zoom": 6
      }
     },
     "f32e09a887f1468db5d337b8cfd045c9": {
      "model_module": "jupyter-leaflet",
      "model_module_version": "^0.14.0",
      "model_name": "LeafletAwesomeIconModel",
      "state": {
       "_model_module_version": "^0.14.0",
       "_view_module_version": "^0.14.0",
       "icon_color": "white",
       "marker_color": "orange",
       "name": "life-ring"
      }
     },
     "f369f35f7d384cfeb53def828479948e": {
      "model_module": "jupyter-leaflet",
      "model_module_version": "^0.14.0",
      "model_name": "LeafletMarkerModel",
      "state": {
       "_model_module_version": "^0.14.0",
       "_view_module_version": "^0.14.0",
       "icon": "IPY_MODEL_60ff2a2b97ab4ed3bf6a63eb6e698ef0",
       "location": [
        46.85367,
        -124.95935
       ],
       "options": [
        "alt",
        "draggable",
        "keyboard",
        "rise_offset",
        "rise_on_hover",
        "rotation_angle",
        "rotation_origin",
        "title",
        "z_index_offset"
       ],
       "popup": "IPY_MODEL_808ee94f407a47d392fdfae8dfdea1ec"
      }
     },
     "f39d69553ce14d2da829e8844ceb6b01": {
      "model_module": "@jupyter-widgets/controls",
      "model_module_version": "1.5.0",
      "model_name": "DescriptionStyleModel",
      "state": {
       "description_width": ""
      }
     },
     "f3f099d3c487432a8a5d0775f3ab794c": {
      "model_module": "@jupyter-widgets/controls",
      "model_module_version": "1.5.0",
      "model_name": "DescriptionStyleModel",
      "state": {
       "description_width": ""
      }
     },
     "f411d98eab494d69a24c3aa3fdf7f3b4": {
      "model_module": "jupyter-leaflet",
      "model_module_version": "^0.14.0",
      "model_name": "LeafletAwesomeIconModel",
      "state": {
       "_model_module_version": "^0.14.0",
       "_view_module_version": "^0.14.0",
       "icon_color": "white",
       "marker_color": "orange",
       "name": "life-ring"
      }
     },
     "f4aa1c0d2f664d79a13fb3564c3a5376": {
      "model_module": "jupyter-leaflet",
      "model_module_version": "^0.14.0",
      "model_name": "LeafletMarkerModel",
      "state": {
       "_model_module_version": "^0.14.0",
       "_view_module_version": "^0.14.0",
       "icon": "IPY_MODEL_215f5629ef5e42f795a11985de7754ba",
       "location": [
        47.1345,
        -124.27087
       ],
       "options": [
        "alt",
        "draggable",
        "keyboard",
        "rise_offset",
        "rise_on_hover",
        "rotation_angle",
        "rotation_origin",
        "title",
        "z_index_offset"
       ],
       "popup": "IPY_MODEL_299d74596d70418eb61e57e5e1325fcb"
      }
     },
     "f4b7eb20f1f04cb2be9304a156063849": {
      "model_module": "@jupyter-widgets/base",
      "model_module_version": "1.2.0",
      "model_name": "LayoutModel",
      "state": {}
     },
     "f56a1a5cb3a441d6b58d9917df6be9e0": {
      "model_module": "jupyter-leaflet",
      "model_module_version": "^0.14.0",
      "model_name": "LeafletMapStyleModel",
      "state": {
       "_model_module_version": "^0.14.0"
      }
     },
     "f58db1e2db8b4ec79942d24da429e0ed": {
      "model_module": "@jupyter-widgets/controls",
      "model_module_version": "1.5.0",
      "model_name": "DescriptionStyleModel",
      "state": {
       "description_width": ""
      }
     },
     "f59971231aaf4f25804a0d0c6fe32a58": {
      "model_module": "@jupyter-widgets/controls",
      "model_module_version": "1.5.0",
      "model_name": "HTMLModel",
      "state": {
       "layout": "IPY_MODEL_7768ce666e3c4d79b66c93e47beb6f09",
       "style": "IPY_MODEL_509f087a98764da89c687786087da4e0",
       "value": "<table border=\"1\" class=\"dataframe table table-striped table-hover table-condensed table-responsive\">\n  <thead>\n    <tr style=\"text-align: right;\">\n      <th></th>\n      <th>69</th>\n    </tr>\n  </thead>\n  <tbody>\n    <tr>\n      <th>Institution</th>\n      <td>Northwest Association of Networked Ocean Observing Systems (NANOOS)</td>\n    </tr>\n    <tr>\n      <th>Dataset ID</th>\n      <td>nanoos_apl_chaba</td>\n    </tr>\n  </tbody>\n</table>"
      }
     },
     "f6115e22883d4a4dbb14341ef839f1e0": {
      "model_module": "@jupyter-widgets/base",
      "model_module_version": "1.2.0",
      "model_name": "LayoutModel",
      "state": {}
     },
     "f65a29f135b24c9396ed815a7426619f": {
      "model_module": "@jupyter-widgets/controls",
      "model_module_version": "1.5.0",
      "model_name": "HTMLModel",
      "state": {
       "layout": "IPY_MODEL_660c2558627f45e2a76770e0a5a3ee77",
       "style": "IPY_MODEL_da029342e08a4366bb4bc9dc933a9a49",
       "value": "<table border=\"1\" class=\"dataframe table table-striped table-hover table-condensed table-responsive\">\n  <thead>\n    <tr style=\"text-align: right;\">\n      <th></th>\n      <th>44</th>\n    </tr>\n  </thead>\n  <tbody>\n    <tr>\n      <th>Institution</th>\n      <td>Ocean Observatories Initiative (OOI)</td>\n    </tr>\n    <tr>\n      <th>Dataset ID</th>\n      <td>ooi-ce09ossm-rid26-07-nutnrb000</td>\n    </tr>\n  </tbody>\n</table>"
      }
     },
     "f662c26201674a7d88e8aaa3f316aadd": {
      "model_module": "jupyter-leaflet",
      "model_module_version": "^0.14.0",
      "model_name": "LeafletAwesomeIconModel",
      "state": {
       "_model_module_version": "^0.14.0",
       "_view_module_version": "^0.14.0",
       "icon_color": "white",
       "name": "life-ring"
      }
     },
     "f6c05e080bdd433f99b7407654abaf11": {
      "model_module": "@jupyter-widgets/base",
      "model_module_version": "1.2.0",
      "model_name": "LayoutModel",
      "state": {}
     },
     "f72c8cc40b7e466c83d27820936841e5": {
      "model_module": "@jupyter-widgets/base",
      "model_module_version": "1.2.0",
      "model_name": "LayoutModel",
      "state": {}
     },
     "f74ca910b6594624a5e710f664aab553": {
      "model_module": "jupyter-leaflet",
      "model_module_version": "^0.14.0",
      "model_name": "LeafletMarkerModel",
      "state": {
       "_model_module_version": "^0.14.0",
       "_view_module_version": "^0.14.0",
       "icon": "IPY_MODEL_351631259423424d992e08a93f1f5f2c",
       "location": [
        44.63708,
        -124.30595
       ],
       "options": [
        "alt",
        "draggable",
        "keyboard",
        "rise_offset",
        "rise_on_hover",
        "rotation_angle",
        "rotation_origin",
        "title",
        "z_index_offset"
       ],
       "popup": "IPY_MODEL_e32aa61c8de444fe88a44232daf9bc48"
      }
     },
     "f77204e141b54a80b8bfd5fa7bea8706": {
      "model_module": "@jupyter-widgets/base",
      "model_module_version": "1.2.0",
      "model_name": "LayoutModel",
      "state": {}
     },
     "f77a942184c441b8ac9623e699022199": {
      "model_module": "jupyter-leaflet",
      "model_module_version": "^0.14.0",
      "model_name": "LeafletMarkerModel",
      "state": {
       "_model_module_version": "^0.14.0",
       "_view_module_version": "^0.14.0",
       "icon": "IPY_MODEL_645c3d40b0d74a0a8f4d770b7827de95",
       "location": [
        44.65678,
        -124.09707
       ],
       "options": [
        "alt",
        "draggable",
        "keyboard",
        "rise_offset",
        "rise_on_hover",
        "rotation_angle",
        "rotation_origin",
        "title",
        "z_index_offset"
       ],
       "popup": "IPY_MODEL_aad1fd0e954748d990f4612fc055e1a3"
      }
     },
     "f7a519180ec8483e9d0c778a802da817": {
      "model_module": "@jupyter-widgets/controls",
      "model_module_version": "1.5.0",
      "model_name": "DescriptionStyleModel",
      "state": {
       "description_width": ""
      }
     },
     "f830547866dc402e9afa0e9d77f62dc3": {
      "model_module": "@jupyter-widgets/base",
      "model_module_version": "1.2.0",
      "model_name": "LayoutModel",
      "state": {}
     },
     "f893655349a0419b83ede247cfa622ee": {
      "model_module": "jupyter-leaflet",
      "model_module_version": "^0.14.0",
      "model_name": "LeafletAwesomeIconModel",
      "state": {
       "_model_module_version": "^0.14.0",
       "_view_module_version": "^0.14.0",
       "icon_color": "white",
       "marker_color": "orange",
       "name": "life-ring"
      }
     },
     "f8c37ffde7814f7098d43fd391781c02": {
      "model_module": "@jupyter-widgets/controls",
      "model_module_version": "1.5.0",
      "model_name": "DescriptionStyleModel",
      "state": {
       "description_width": ""
      }
     },
     "f8f553638cdf438da4381c30fb811271": {
      "model_module": "@jupyter-widgets/controls",
      "model_module_version": "1.5.0",
      "model_name": "DescriptionStyleModel",
      "state": {
       "description_width": ""
      }
     },
     "f943f3a8922d46aabefe0d14de872e18": {
      "model_module": "jupyter-leaflet",
      "model_module_version": "^0.14.0",
      "model_name": "LeafletMarkerModel",
      "state": {
       "_model_module_version": "^0.14.0",
       "_view_module_version": "^0.14.0",
       "icon": "IPY_MODEL_8b38a20974e040b4bff6325ad947f78e",
       "location": [
        44.3695,
        -124.95369
       ],
       "options": [
        "alt",
        "draggable",
        "keyboard",
        "rise_offset",
        "rise_on_hover",
        "rotation_angle",
        "rotation_origin",
        "title",
        "z_index_offset"
       ],
       "popup": "IPY_MODEL_266c44e6d99d43fb92c5f5b9b6b326c0"
      }
     },
     "f96c9554bcb34670a449ae4b841e1567": {
      "model_module": "jupyter-leaflet",
      "model_module_version": "^0.14.0",
      "model_name": "LeafletMarkerModel",
      "state": {
       "_model_module_version": "^0.14.0",
       "_view_module_version": "^0.14.0",
       "icon": "IPY_MODEL_87c33d4063634d1b9ca6e90835b7413a",
       "location": [
        43.3,
        -124.5
       ],
       "options": [
        "alt",
        "draggable",
        "keyboard",
        "rise_offset",
        "rise_on_hover",
        "rotation_angle",
        "rotation_origin",
        "title",
        "z_index_offset"
       ],
       "popup": "IPY_MODEL_8c2a441c46714164b532793331644032"
      }
     },
     "f9b0d951fd0b4886b8147d960982550a": {
      "model_module": "@jupyter-widgets/base",
      "model_module_version": "1.2.0",
      "model_name": "LayoutModel",
      "state": {}
     },
     "f9d1e15b352c47088a25216831a82b6d": {
      "model_module": "jupyter-leaflet",
      "model_module_version": "^0.14.0",
      "model_name": "LeafletAwesomeIconModel",
      "state": {
       "_model_module_version": "^0.14.0",
       "_view_module_version": "^0.14.0",
       "icon_color": "white",
       "marker_color": "orange",
       "name": "life-ring"
      }
     },
     "f9dabeed76b54553b3c288f1a5fecec4": {
      "model_module": "jupyter-leaflet",
      "model_module_version": "^0.14.0",
      "model_name": "LeafletMarkerModel",
      "state": {
       "_model_module_version": "^0.14.0",
       "_view_module_version": "^0.14.0",
       "icon": "IPY_MODEL_f662c26201674a7d88e8aaa3f316aadd",
       "location": [
        47,
        -124.6
       ],
       "options": [
        "alt",
        "draggable",
        "keyboard",
        "rise_offset",
        "rise_on_hover",
        "rotation_angle",
        "rotation_origin",
        "title",
        "z_index_offset"
       ],
       "popup": "IPY_MODEL_212c4348f31f4f74a4e9879d4e9cf8ca"
      }
     },
     "f9f666e3660a4d0ba39833e41f19946e": {
      "model_module": "@jupyter-widgets/controls",
      "model_module_version": "1.5.0",
      "model_name": "HTMLModel",
      "state": {
       "layout": "IPY_MODEL_0cc15c8b3ade4a6ca03edaa6bd00f079",
       "style": "IPY_MODEL_23e45ea2f8a74b6e913c499be7348b8d",
       "value": "<table border=\"1\" class=\"dataframe table table-striped table-hover table-condensed table-responsive\">\n  <thead>\n    <tr style=\"text-align: right;\">\n      <th></th>\n      <th>47</th>\n    </tr>\n  </thead>\n  <tbody>\n    <tr>\n      <th>Institution</th>\n      <td>Ocean Observatories Initiative (OOI)</td>\n    </tr>\n    <tr>\n      <th>Dataset ID</th>\n      <td>ooi-ce09ossm-mfd37-03-dostad000</td>\n    </tr>\n  </tbody>\n</table>"
      }
     },
     "fa1b7fc98986490cbf8654d9eb4ff133": {
      "model_module": "@jupyter-widgets/controls",
      "model_module_version": "1.5.0",
      "model_name": "DescriptionStyleModel",
      "state": {
       "description_width": ""
      }
     },
     "faaa183d641142bda7363eaf2adf84cc": {
      "model_module": "jupyter-leaflet",
      "model_module_version": "^0.14.0",
      "model_name": "LeafletRectangleModel",
      "state": {
       "_model_module_version": "^0.14.0",
       "_view_module_version": "^0.14.0",
       "bounds": [
        [
         43,
         -127
        ],
        [
         48,
         -123.75
        ]
       ],
       "color": "red",
       "draggable": false,
       "fill": false,
       "options": [
        "color",
        "dash_array",
        "draggable",
        "fill",
        "fill_color",
        "fill_opacity",
        "line_cap",
        "line_join",
        "no_clip",
        "opacity",
        "pointer_events",
        "smooth_factor",
        "stroke",
        "transform",
        "weight"
       ],
       "rotation": true,
       "scaling": true,
       "transform": false,
       "uniform_scaling": false
      }
     },
     "fac4a4db27a443d49f361faeb31da22e": {
      "model_module": "@jupyter-widgets/base",
      "model_module_version": "1.2.0",
      "model_name": "LayoutModel",
      "state": {}
     },
     "fae389f620a0403d8def684b2d6b7dad": {
      "model_module": "@jupyter-widgets/controls",
      "model_module_version": "1.5.0",
      "model_name": "HTMLModel",
      "state": {
       "layout": "IPY_MODEL_400a3687e7c444919b415274d49ca7fd",
       "style": "IPY_MODEL_faead9bf39a24e708552de442b5c5ba4",
       "value": "<table border=\"1\" class=\"dataframe table table-striped table-hover table-condensed table-responsive\">\n  <thead>\n    <tr style=\"text-align: right;\">\n      <th></th>\n      <th>80</th>\n    </tr>\n  </thead>\n  <tbody>\n    <tr>\n      <th>Institution</th>\n      <td>Northwest Association of Networked Ocean Observing Systems (NANOOS)</td>\n    </tr>\n    <tr>\n      <th>Dataset ID</th>\n      <td>nanoos_wcsh_whiskey1</td>\n    </tr>\n  </tbody>\n</table>"
      }
     },
     "faead9bf39a24e708552de442b5c5ba4": {
      "model_module": "@jupyter-widgets/controls",
      "model_module_version": "1.5.0",
      "model_name": "DescriptionStyleModel",
      "state": {
       "description_width": ""
      }
     },
     "faf0ffcf5b944ebdb8eb9b68459c2cb1": {
      "model_module": "@jupyter-widgets/controls",
      "model_module_version": "1.5.0",
      "model_name": "HTMLModel",
      "state": {
       "layout": "IPY_MODEL_0f73b6a0eb9c4ebab84dde07601b526c",
       "style": "IPY_MODEL_4bae186c0c8a469ca8d0723facc8e7be",
       "value": "<table border=\"1\" class=\"dataframe table table-striped table-hover table-condensed table-responsive\">\n  <thead>\n    <tr style=\"text-align: right;\">\n      <th></th>\n      <th>45</th>\n    </tr>\n  </thead>\n  <tbody>\n    <tr>\n      <th>Institution</th>\n      <td>Ocean Observatories Initiative (OOI)</td>\n    </tr>\n    <tr>\n      <th>Dataset ID</th>\n      <td>ooi-ce09ossm-rid26-06-phsend000</td>\n    </tr>\n  </tbody>\n</table>"
      }
     },
     "fb1857a1b2e8440097ad5ec53361a233": {
      "model_module": "@jupyter-widgets/controls",
      "model_module_version": "1.5.0",
      "model_name": "HTMLModel",
      "state": {
       "layout": "IPY_MODEL_5d7d51fe5754400aae1df831831590cd",
       "style": "IPY_MODEL_14c4b654c4f94b1fb59f2519d085b9b2",
       "value": "<table border=\"1\" class=\"dataframe table table-striped table-hover table-condensed table-responsive\">\n  <thead>\n    <tr style=\"text-align: right;\">\n      <th></th>\n      <th>78</th>\n    </tr>\n  </thead>\n  <tbody>\n    <tr>\n      <th>Institution</th>\n      <td>Center for Coastal Margin Observation &amp; Prediction</td>\n    </tr>\n    <tr>\n      <th>Dataset ID</th>\n      <td>org_cmop_sefo3</td>\n    </tr>\n  </tbody>\n</table>"
      }
     },
     "fb1a2d2e4c9442beb8e7a86d93ec221c": {
      "model_module": "jupyter-leaflet",
      "model_module_version": "^0.14.0",
      "model_name": "LeafletAwesomeIconModel",
      "state": {
       "_model_module_version": "^0.14.0",
       "_view_module_version": "^0.14.0",
       "icon_color": "white",
       "name": "life-ring"
      }
     },
     "fb2aac8401b24b42a70ff28d68a66a16": {
      "model_module": "@jupyter-widgets/controls",
      "model_module_version": "1.5.0",
      "model_name": "DescriptionStyleModel",
      "state": {
       "description_width": ""
      }
     },
     "fb4225fafd764da680efd8b81a0c1c91": {
      "model_module": "jupyter-leaflet",
      "model_module_version": "^0.14.0",
      "model_name": "LeafletAwesomeIconModel",
      "state": {
       "_model_module_version": "^0.14.0",
       "_view_module_version": "^0.14.0",
       "icon_color": "white",
       "marker_color": "orange",
       "name": "life-ring"
      }
     },
     "fb4ca257100940da9861e08801431be4": {
      "model_module": "@jupyter-widgets/base",
      "model_module_version": "1.2.0",
      "model_name": "LayoutModel",
      "state": {}
     },
     "fc0f29153d8744ca9231eea9c0626a60": {
      "model_module": "jupyter-leaflet",
      "model_module_version": "^0.14.0",
      "model_name": "LeafletAwesomeIconModel",
      "state": {
       "_model_module_version": "^0.14.0",
       "_view_module_version": "^0.14.0",
       "icon_color": "white",
       "marker_color": "orange",
       "name": "life-ring"
      }
     },
     "fc2a8476d257479e8123270d20970cf8": {
      "model_module": "@jupyter-widgets/controls",
      "model_module_version": "1.5.0",
      "model_name": "HTMLModel",
      "state": {
       "layout": "IPY_MODEL_17d5c68bff7f4263bd9c64a45df268ca",
       "style": "IPY_MODEL_1fd36c95c87a4f278bbac7e92abbb909",
       "value": "<table border=\"1\" class=\"dataframe table table-striped table-hover table-condensed table-responsive\">\n  <thead>\n    <tr style=\"text-align: right;\">\n      <th></th>\n      <th>71</th>\n    </tr>\n  </thead>\n  <tbody>\n    <tr>\n      <th>Institution</th>\n      <td>NOAA Pacific Marine Environmental Lab (PMEL)</td>\n    </tr>\n    <tr>\n      <th>Dataset ID</th>\n      <td>gov_ornl_cdiac_wa_125w_47n</td>\n    </tr>\n  </tbody>\n</table>"
      }
     },
     "fc715c23cedd411e9beb5549b3d292b3": {
      "model_module": "@jupyter-widgets/controls",
      "model_module_version": "1.5.0",
      "model_name": "DescriptionStyleModel",
      "state": {
       "description_width": ""
      }
     },
     "fc915bc1c11d478d89cabcb56049b4ff": {
      "model_module": "jupyter-leaflet",
      "model_module_version": "^0.14.0",
      "model_name": "LeafletMarkerModel",
      "state": {
       "_model_module_version": "^0.14.0",
       "_view_module_version": "^0.14.0",
       "icon": "IPY_MODEL_7c962f0fc6b74df1a543a5758c85a3d7",
       "location": [
        44.383335,
        -124.95
       ],
       "options": [
        "alt",
        "draggable",
        "keyboard",
        "rise_offset",
        "rise_on_hover",
        "rotation_angle",
        "rotation_origin",
        "title",
        "z_index_offset"
       ],
       "popup": "IPY_MODEL_8c47882169cb433184eb6948a6139953"
      }
     },
     "fcbd1219b9aa4394bfd1476be667eaf0": {
      "model_module": "@jupyter-widgets/controls",
      "model_module_version": "1.5.0",
      "model_name": "HTMLModel",
      "state": {
       "layout": "IPY_MODEL_e2a44da908064c2395c4bb0d017b4a52",
       "style": "IPY_MODEL_9b353ef82f834738810f38103cc3c74c",
       "value": "<table border=\"1\" class=\"dataframe table table-striped table-hover table-condensed table-responsive\">\n  <thead>\n    <tr style=\"text-align: right;\">\n      <th></th>\n      <th>36</th>\n    </tr>\n  </thead>\n  <tbody>\n    <tr>\n      <th>Institution</th>\n      <td>Ocean Observatories Initiative (OOI)</td>\n    </tr>\n    <tr>\n      <th>Dataset ID</th>\n      <td>ooi-ce06issm-mfd37-03-ctdbpc000</td>\n    </tr>\n  </tbody>\n</table>"
      }
     },
     "fcf766c7f20f44dcaf5ea1f8da12f3bf": {
      "model_module": "@jupyter-widgets/base",
      "model_module_version": "1.2.0",
      "model_name": "LayoutModel",
      "state": {}
     },
     "fd1358b1400343e79f3e3f3d477d0953": {
      "model_module": "jupyter-leaflet",
      "model_module_version": "^0.14.0",
      "model_name": "LeafletMarkerModel",
      "state": {
       "_model_module_version": "^0.14.0",
       "_view_module_version": "^0.14.0",
       "icon": "IPY_MODEL_c646a06be3664584a8b9218dd5c36ed7",
       "location": [
        44.37868,
        -124.94508
       ],
       "options": [
        "alt",
        "draggable",
        "keyboard",
        "rise_offset",
        "rise_on_hover",
        "rotation_angle",
        "rotation_origin",
        "title",
        "z_index_offset"
       ],
       "popup": "IPY_MODEL_f1e5ebdc38984a28ba8c9d00e95cba47"
      }
     },
     "fda3d7d6bd6d4012aa03856c97ca78a4": {
      "model_module": "jupyter-leaflet",
      "model_module_version": "^0.14.0",
      "model_name": "LeafletMarkerModel",
      "state": {
       "_model_module_version": "^0.14.0",
       "_view_module_version": "^0.14.0",
       "icon": "IPY_MODEL_47e8ac1a861a41e4aa519944afdbe069",
       "location": [
        46.85367,
        -124.95935
       ],
       "options": [
        "alt",
        "draggable",
        "keyboard",
        "rise_offset",
        "rise_on_hover",
        "rotation_angle",
        "rotation_origin",
        "title",
        "z_index_offset"
       ],
       "popup": "IPY_MODEL_b88c7892b886443b925f2ef98b357171"
      }
     },
     "fe5f3fbfa110468da8531ad99e194c16": {
      "model_module": "@jupyter-widgets/base",
      "model_module_version": "1.2.0",
      "model_name": "LayoutModel",
      "state": {}
     },
     "feb1556d8b2c4d6e8fc59c77cca3937c": {
      "model_module": "@jupyter-widgets/base",
      "model_module_version": "1.2.0",
      "model_name": "LayoutModel",
      "state": {}
     },
     "fee490a857f044bdbf7437d4a51555db": {
      "model_module": "@jupyter-widgets/controls",
      "model_module_version": "1.5.0",
      "model_name": "HTMLModel",
      "state": {
       "layout": "IPY_MODEL_90a718b2abc84d6e905c3f600dac8412",
       "style": "IPY_MODEL_575c9b3c7d704ec1b4fbc95f91d50960",
       "value": "<table border=\"1\" class=\"dataframe table table-striped table-hover table-condensed table-responsive\">\n  <thead>\n    <tr style=\"text-align: right;\">\n      <th></th>\n      <th>41</th>\n    </tr>\n  </thead>\n  <tbody>\n    <tr>\n      <th>Institution</th>\n      <td>Ocean Observatories Initiative (OOI)</td>\n    </tr>\n    <tr>\n      <th>Dataset ID</th>\n      <td>ooi-ce09ossm-rid27-02-flortd000</td>\n    </tr>\n  </tbody>\n</table>"
      }
     },
     "fef356b07ab34d1b8c051cbbfabbcb2a": {
      "model_module": "@jupyter-widgets/base",
      "model_module_version": "1.2.0",
      "model_name": "LayoutModel",
      "state": {}
     },
     "feff185a530d4b0d8fe72026a85e4dee": {
      "model_module": "jupyter-leaflet",
      "model_module_version": "^0.14.0",
      "model_name": "LeafletAwesomeIconModel",
      "state": {
       "_model_module_version": "^0.14.0",
       "_view_module_version": "^0.14.0",
       "icon_color": "white",
       "marker_color": "orange",
       "name": "life-ring"
      }
     },
     "ff2d135e724641f0a3f1730e5d6fa819": {
      "model_module": "@jupyter-widgets/controls",
      "model_module_version": "1.5.0",
      "model_name": "DescriptionStyleModel",
      "state": {
       "description_width": ""
      }
     },
     "ffd22d2aa36d476fa9fbd008fceece43": {
      "model_module": "@jupyter-widgets/controls",
      "model_module_version": "1.5.0",
      "model_name": "HTMLModel",
      "state": {
       "layout": "IPY_MODEL_b0b0d9ca61a449b8a4fd8ba3bf1d3336",
       "style": "IPY_MODEL_173028c1c6b342e69bda3aeff2d185f7",
       "value": "<table border=\"1\" class=\"dataframe table table-striped table-hover table-condensed table-responsive\">\n  <thead>\n    <tr style=\"text-align: right;\">\n      <th></th>\n      <th>47</th>\n    </tr>\n  </thead>\n  <tbody>\n    <tr>\n      <th>Institution</th>\n      <td>Ocean Observatories Initiative (OOI)</td>\n    </tr>\n    <tr>\n      <th>Dataset ID</th>\n      <td>ooi-ce09ossm-mfd37-03-dostad000</td>\n    </tr>\n  </tbody>\n</table>"
      }
     }
    },
    "version_major": 2,
    "version_minor": 0
   }
  }
 },
 "nbformat": 4,
 "nbformat_minor": 4
}
