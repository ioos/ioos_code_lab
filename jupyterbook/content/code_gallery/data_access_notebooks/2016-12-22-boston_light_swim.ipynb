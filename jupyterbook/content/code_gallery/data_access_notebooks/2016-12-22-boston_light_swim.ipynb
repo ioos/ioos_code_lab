{
 "cells": [
  {
   "cell_type": "markdown",
   "metadata": {},
   "source": [
    "# The Boston Light Swim temperature analysis with Python\n",
    "\n",
    "Created: 2016-12-22\n",
    "\n",
    "In the past we demonstrated how to perform a CSW catalog search with [`OWSLib`](https://ioos.github.io/notebooks_demos//notebooks/2016-12-19-exploring_csw),\n",
    "and how to obtain near real-time data with [`pyoos`](https://ioos.github.io/notebooks_demos//notebooks/2016-10-12-fetching_data).\n",
    "In this notebook we will use both to find all observations and model data around the Boston Harbor to access the sea water temperature.\n",
    "\n",
    "This workflow is part of an example to advise swimmers of the annual [Boston lighthouse swim](http://bostonlightswim.org/) of the Boston Harbor water temperature conditions prior to the race. For more information regarding the workflow presented here see [Signell, Richard P.; Fernandes, Filipe; Wilcox, Kyle.   2016. \"Dynamic Reusable Workflows for Ocean Science.\" *J. Mar. Sci. Eng.* 4, no. 4: 68](http://dx.doi.org/10.3390/jmse4040068)."
   ]
  },
  {
   "cell_type": "markdown",
   "metadata": {},
   "source": [
    "<div class=\"alert alert-danger\">\n",
    "  <strong>This notebook is stale and won't run due to missing data upstream and changes in the libraries used.</strong>\n",
    "</div>"
   ]
  },
  {
   "cell_type": "code",
   "execution_count": 1,
   "metadata": {},
   "outputs": [],
   "source": [
    "import warnings\n",
    "\n",
    "# Suppresing warnings for a \"pretty output.\"\n",
    "warnings.simplefilter(\"ignore\")"
   ]
  },
  {
   "cell_type": "markdown",
   "metadata": {},
   "source": [
    "This notebook is quite big and complex,\n",
    "so to help us keep things organized we'll define a cell with the most important options and switches.\n",
    "\n",
    "Below we can define the date,\n",
    "bounding box, phenomena `SOS` and `CF` names and units,\n",
    "and the catalogs we will search."
   ]
  },
  {
   "cell_type": "code",
   "execution_count": 2,
   "metadata": {},
   "outputs": [
    {
     "name": "stdout",
     "output_type": "stream",
     "text": [
      "Overwriting config.yaml\n"
     ]
    }
   ],
   "source": [
    "%%writefile config.yaml\n",
    "\n",
    "# Specify a YYYY-MM-DD hh:mm:ss date or integer day offset.\n",
    "# If both start and stop are offsets they will be computed relative to datetime.today() at midnight.\n",
    "# Use the dates commented below to reproduce the last Boston Light Swim event forecast.\n",
    "date:\n",
    "    start: -5 # 2016-8-16 00:00:00\n",
    "    stop: +4 # 2016-8-29 00:00:00\n",
    "\n",
    "run_name: 'latest'\n",
    "\n",
    "# Boston harbor.\n",
    "region:\n",
    "    bbox: [-71.3, 42.03, -70.57, 42.63]\n",
    "    # Try the bounding box below to see how the notebook will behave for a different region.\n",
    "    #bbox: [-74.5, 40, -72., 41.5]\n",
    "    crs: 'urn:ogc:def:crs:OGC:1.3:CRS84'\n",
    "\n",
    "sos_name: 'sea_water_temperature'\n",
    "\n",
    "cf_names:\n",
    "    - sea_water_temperature\n",
    "    - sea_surface_temperature\n",
    "    - sea_water_potential_temperature\n",
    "    - equivalent_potential_temperature\n",
    "    - sea_water_conservative_temperature\n",
    "    - pseudo_equivalent_potential_temperature\n",
    "\n",
    "units: 'celsius'\n",
    "\n",
    "catalogs:\n",
    "    - https://data.ioos.us/csw"
   ]
  },
  {
   "cell_type": "markdown",
   "metadata": {},
   "source": [
    "We'll print some of the search configuration options along the way to keep track of them."
   ]
  },
  {
   "cell_type": "code",
   "execution_count": 3,
   "metadata": {},
   "outputs": [
    {
     "name": "stdout",
     "output_type": "stream",
     "text": [
      "Saving data inside directory /home/filipe/IOOS/notebooks_demos/notebooks/latest\n",
      "*********************** Run information ************************\n",
      "Run date: 2019-07-03 16:59:01\n",
      "Start: 2019-06-28 00:00:00\n",
      "Stop: 2019-07-07 00:00:00\n",
      "Bounding box: -71.30, 42.03,-70.57, 42.63\n"
     ]
    }
   ],
   "source": [
    "import os\n",
    "import shutil\n",
    "from datetime import datetime\n",
    "\n",
    "from ioos_tools.ioos import parse_config\n",
    "\n",
    "config = parse_config(\"config.yaml\")\n",
    "\n",
    "# Saves downloaded data into a temporary directory.\n",
    "save_dir = os.path.abspath(config[\"run_name\"])\n",
    "if os.path.exists(save_dir):\n",
    "    shutil.rmtree(save_dir)\n",
    "os.makedirs(save_dir)\n",
    "\n",
    "fmt = \"{:*^64}\".format\n",
    "print(fmt(f\"Saving data inside directory {save_dir}\"))\n",
    "print(fmt(\" Run information \"))\n",
    "print(f\"Run date: {datetime.utcnow()}\")\n",
    "print(f\"Start: {config['date']['start']}\")\n",
    "print(f\"Stop: {config['date']['stop']}\")\n",
    "print(\n",
    "    f\"Bounding box: {config['region']['bbox'][0]:3.2f}, {config['region']['bbox'][1]:3.2f}, {config['region']['bbox'][2]:3.2f}, {config['region']['bbox'][3]:3.2f}\"\n",
    ")"
   ]
  },
  {
   "cell_type": "markdown",
   "metadata": {},
   "source": [
    "We already created an `OWSLib.fes` filter [before](https://ioos.github.io/notebooks_demos//notebooks/2016-12-19-exploring_csw).\n",
    "The main difference here is that we do not want the atmosphere model data,\n",
    "so we are filtering out all the `GRIB-2` data format."
   ]
  },
  {
   "cell_type": "code",
   "execution_count": 4,
   "metadata": {},
   "outputs": [],
   "source": [
    "def make_filter(config):\n",
    "    from ioos_tools.ioos import fes_date_filter\n",
    "    from owslib import fes\n",
    "\n",
    "    kw = dict(\n",
    "        wildCard=\"*\", escapeChar=\"\\\\\", singleChar=\"?\", propertyname=\"apiso:AnyText\"\n",
    "    )\n",
    "\n",
    "    or_filt = fes.Or(\n",
    "        [fes.PropertyIsLike(literal=(\"*%s*\" % val), **kw) for val in config[\"cf_names\"]]\n",
    "    )\n",
    "\n",
    "    not_filt = fes.Not([fes.PropertyIsLike(literal=\"GRIB-2\", **kw)])\n",
    "\n",
    "    begin, end = fes_date_filter(config[\"date\"][\"start\"], config[\"date\"][\"stop\"])\n",
    "    bbox_crs = fes.BBox(config[\"region\"][\"bbox\"], crs=config[\"region\"][\"crs\"])\n",
    "    filter_list = [fes.And([bbox_crs, begin, end, or_filt, not_filt])]\n",
    "    return filter_list\n",
    "\n",
    "\n",
    "filter_list = make_filter(config)"
   ]
  },
  {
   "cell_type": "markdown",
   "metadata": {},
   "source": [
    "In the cell below we ask the catalog for all the returns that match the filter and have an OPeNDAP endpoint."
   ]
  },
  {
   "cell_type": "code",
   "execution_count": 5,
   "metadata": {
    "code_folding": [],
    "scrolled": false
   },
   "outputs": [
    {
     "name": "stdout",
     "output_type": "stream",
     "text": [
      "********************* Catalog information **********************\n",
      "URL: https://data.ioos.us/csw\n",
      "Number of datasets available: 30\n",
      "NECOFS Massachusetts (FVCOM) - Massachusetts Coastal - Latest Forecast\n",
      "NERACOOS Gulf of Maine Ocean Array: Realtime Buoy Observations: A01 Massachusetts Bay: A01 ACCELEROMETER Massachusetts Bay\n",
      "NERACOOS Gulf of Maine Ocean Array: Realtime Buoy Observations: A01 Massachusetts Bay: A01 CTD1m Massachusetts Bay\n",
      "NERACOOS Gulf of Maine Ocean Array: Realtime Buoy Observations: A01 Massachusetts Bay: A01 CTD20m Massachusetts Bay\n",
      "NERACOOS Gulf of Maine Ocean Array: Realtime Buoy Observations: A01 Massachusetts Bay: A01 MET Massachusetts Bay\n",
      "NERACOOS Gulf of Maine Ocean Array: Realtime Buoy Observations: A01 Massachusetts Bay: A01 OPTICS3m Massachusetts Bay\n",
      "NERACOOS Gulf of Maine Ocean Array: Realtime Buoy Observations: A01 Massachusetts Bay: A01 OPTODE51m Massachusetts Bay\n",
      "NOAA Coral Reef Watch Operational Daily Near-Real-Time Global 5-km Satellite Coral Bleaching Monitoring Products\n",
      "ROMS doppio Real-Time Operational PSAS Forecast System Version 1 FMRC Averages\n",
      "ROMS doppio Real-Time Operational PSAS Forecast System Version 1 FMRC History\n",
      "A01 Accelerometer - Waves\n",
      "A01 Directional Waves\n",
      "A01 Met - Meteorology\n",
      "A01 Optics - Chlorophyll / Turbidity\n",
      "A01 Optode - Oxygen\n",
      "A01 SBE16 Oxygen\n",
      "A01 Sbe37 - CTD\n",
      "BOSTON 16 NM East of Boston, MA\n",
      "Buoy A01 - Massachusetts Bay\n",
      "Department of Physical Oceanography, School of Marine Sciences, University of Maine A01 Accelerometer Buoy Sensor\n",
      "Department of Physical Oceanography, School of Marine Sciences, University of Maine A01 Met Buoy Sensor\n",
      "Department of Physical Oceanography, School of Marine Sciences, University of Maine A01 Optode 51m Buoy Sensor\n",
      "Department of Physical Oceanography, School of Marine Sciences, University of Maine A01 Sbe37 1m Buoy Sensor\n",
      "Department of Physical Oceanography, School of Marine Sciences, University of Maine A01 Sbe37 20m Buoy Sensor\n",
      "Directional wave and sea surface temperature measurements collected in situ by Datawell DWR-M3 directional buoy located near CLATSOP SPIT, OR from 2018/02/07 22:03:45 to 2019/07/02 18:00:25.\n",
      "Directional wave and sea surface temperature measurements collected in situ by Datawell DWR-M3 directional buoy located near GRAYS HARBOR, WA from 2018/06/28 19:03:45 to 2019/07/02 18:00:25.\n",
      "Directional wave and sea surface temperature measurements collected in situ by Datawell DWR-M3 directional buoy located near KAUMALAPAU SOUTHWEST, LANAI, HI from 2018/10/02 16:03:45 to 2019/07/02 17:30:25.\n",
      "Latest CDIP real-time buoy observations, 3-day aggregate\n",
      "NDBC Standard Meteorological Buoy Data, 1970-present\n",
      "NECOFS (FVCOM) - Scituate - Latest Forecast\n",
      "***************************** DAP ******************************\n",
      "http://oos.soest.hawaii.edu/thredds/dodsC/hioos/satellite/dhw_5km.html\n",
      "http://tds.marine.rutgers.edu/thredds/dodsC/roms/doppio/2017_da/avg/Averages_Best.html\n",
      "http://tds.marine.rutgers.edu/thredds/dodsC/roms/doppio/2017_da/his/History_Best.html\n",
      "http://thredds.cdip.ucsd.edu/thredds/dodsC/cdip/realtime/036p1_rt.nc.html\n",
      "http://thredds.cdip.ucsd.edu/thredds/dodsC/cdip/realtime/162p1_rt.nc.html\n",
      "http://thredds.cdip.ucsd.edu/thredds/dodsC/cdip/realtime/239p1_rt.nc.html\n",
      "http://thredds.cdip.ucsd.edu/thredds/dodsC/cdip/realtime/latest_gudb_3day.nc.html\n",
      "http://www.neracoos.org/thredds/dodsC/UMO/DSG/SOS/A01/Accelerometer/HistoricRealtime.html\n",
      "http://www.neracoos.org/thredds/dodsC/UMO/DSG/SOS/A01/CTD1m/HistoricRealtime.html\n",
      "http://www.neracoos.org/thredds/dodsC/UMO/DSG/SOS/A01/CTD20m/HistoricRealtime.html\n",
      "http://www.neracoos.org/thredds/dodsC/UMO/DSG/SOS/A01/Met/HistoricRealtime.html\n",
      "http://www.neracoos.org/thredds/dodsC/UMO/DSG/SOS/A01/OPTICS_S3m/HistoricRealtime.html\n",
      "http://www.neracoos.org/thredds/dodsC/UMO/DSG/SOS/A01/OPTODE51m/HistoricRealtime.html\n",
      "http://www.neracoos.org/thredds/dodsC/UMO/Realtime/SOS/A01/DSG_A0141.accelerometer.realtime.nc.html\n",
      "http://www.neracoos.org/thredds/dodsC/UMO/Realtime/SOS/A01/DSG_A0141.met.realtime.nc.html\n",
      "http://www.neracoos.org/thredds/dodsC/UMO/Realtime/SOS/A01/DSG_A0141.optode.realtime.51m.nc.html\n",
      "http://www.neracoos.org/thredds/dodsC/UMO/Realtime/SOS/A01/DSG_A0141.sbe37.realtime.1m.nc.html\n",
      "http://www.neracoos.org/thredds/dodsC/UMO/Realtime/SOS/A01/DSG_A0141.sbe37.realtime.20m.nc.html\n",
      "http://www.smast.umassd.edu:8080/thredds/dodsC/FVCOM/NECOFS/Forecasts/NECOFS_FVCOM_OCEAN_MASSBAY_FORECAST.nc.html\n",
      "http://www.smast.umassd.edu:8080/thredds/dodsC/FVCOM/NECOFS/Forecasts/NECOFS_FVCOM_OCEAN_SCITUATE_FORECAST.nc.html\n",
      "\n",
      "\n"
     ]
    }
   ],
   "source": [
    "from ioos_tools.ioos import get_csw_records, service_urls\n",
    "from owslib.csw import CatalogueServiceWeb\n",
    "\n",
    "dap_urls = []\n",
    "print(fmt(\" Catalog information \"))\n",
    "for endpoint in config[\"catalogs\"]:\n",
    "    print(f\"URL: {endpoint}\")\n",
    "    try:\n",
    "        csw = CatalogueServiceWeb(endpoint, timeout=120)\n",
    "    except Exception as e:\n",
    "        print(f\"{e}\")\n",
    "        continue\n",
    "    csw = get_csw_records(csw, filter_list, esn=\"full\")\n",
    "    OPeNDAP = service_urls(csw.records, identifier=\"OPeNDAP:OPeNDAP\")\n",
    "    odp = service_urls(\n",
    "        csw.records, identifier=\"urn:x-esri:specification:ServiceType:odp:url\"\n",
    "    )\n",
    "    dap = OPeNDAP + odp\n",
    "    dap_urls.extend(dap)\n",
    "\n",
    "    print(f\"Number of datasets available: {len(csw.records.keys())}\")\n",
    "\n",
    "    for rec, item in csw.records.items():\n",
    "        print(f\"{item.title}\")\n",
    "    if dap:\n",
    "        print(fmt(\" DAP \"))\n",
    "        for url in dap:\n",
    "            print(f\"{url}.html\")\n",
    "    print(\"\\n\")\n",
    "\n",
    "# Get only unique endpoints.\n",
    "dap_urls = list(set(dap_urls))"
   ]
  },
  {
   "cell_type": "markdown",
   "metadata": {},
   "source": [
    "We found some models, and observations from NERACOOS there.\n",
    "However, we do know that there are some buoys from NDBC and CO-OPS available too.\n",
    "Also, those NERACOOS observations seem to be from a [CTD](http://www.neracoos.org/thredds/dodsC/UMO/DSG/SOS/A01/CTD1m/HistoricRealtime/Agg.ncml.html) mounted at 65 meters below the sea surface. Rendering them useless from our purpose.\n",
    "\n",
    "So let's use the catalog only for the models by filtering the observations with `is_station` below.\n",
    "And we'll rely `CO-OPS` and `NDBC` services for the observations."
   ]
  },
  {
   "cell_type": "code",
   "execution_count": 6,
   "metadata": {},
   "outputs": [
    {
     "name": "stdout",
     "output_type": "stream",
     "text": [
      "************************* Filtered DAP *************************\n",
      "http://tds.marine.rutgers.edu/thredds/dodsC/roms/doppio/2017_da/his/History_Best#fillmismatch.html\n",
      "http://oos.soest.hawaii.edu/thredds/dodsC/hioos/satellite/dhw_5km#fillmismatch.html\n",
      "http://www.neracoos.org/thredds/dodsC/UMO/Realtime/SOS/A01/DSG_A0141.sbe37.realtime.1m.nc#fillmismatch.html\n",
      "http://www.neracoos.org/thredds/dodsC/UMO/Realtime/SOS/A01/DSG_A0141.met.realtime.nc#fillmismatch.html\n",
      "http://www.neracoos.org/thredds/dodsC/UMO/Realtime/SOS/A01/DSG_A0141.accelerometer.realtime.nc#fillmismatch.html\n",
      "http://tds.marine.rutgers.edu/thredds/dodsC/roms/doppio/2017_da/avg/Averages_Best#fillmismatch.html\n",
      "http://www.neracoos.org/thredds/dodsC/UMO/Realtime/SOS/A01/DSG_A0141.sbe37.realtime.20m.nc#fillmismatch.html\n",
      "http://www.neracoos.org/thredds/dodsC/UMO/Realtime/SOS/A01/DSG_A0141.optode.realtime.51m.nc#fillmismatch.html\n",
      "http://www.smast.umassd.edu:8080/thredds/dodsC/FVCOM/NECOFS/Forecasts/NECOFS_FVCOM_OCEAN_SCITUATE_FORECAST.nc#fillmismatch.html\n",
      "http://www.smast.umassd.edu:8080/thredds/dodsC/FVCOM/NECOFS/Forecasts/NECOFS_FVCOM_OCEAN_MASSBAY_FORECAST.nc#fillmismatch.html\n"
     ]
    }
   ],
   "source": [
    "from ioos_tools.ioos import is_station\n",
    "from timeout_decorator import TimeoutError\n",
    "\n",
    "# Filter out some station endpoints.\n",
    "non_stations = []\n",
    "for url in dap_urls:\n",
    "    url = f\"{url}#fillmismatch\"\n",
    "    try:\n",
    "        if not is_station(url):\n",
    "            non_stations.append(url)\n",
    "    except (OSError, RuntimeError, TimeoutError) as e:\n",
    "        print(f\"Could not access URL {url}.html\\n{e!r}\")\n",
    "\n",
    "dap_urls = non_stations\n",
    "\n",
    "print(fmt(\" Filtered DAP \"))\n",
    "for url in dap_urls:\n",
    "    print(f\"{url}.html\")"
   ]
  },
  {
   "cell_type": "markdown",
   "metadata": {},
   "source": [
    "Now we can use `pyoos` collectors for `NdbcSos`,"
   ]
  },
  {
   "cell_type": "code",
   "execution_count": 7,
   "metadata": {},
   "outputs": [
    {
     "name": "stdout",
     "output_type": "stream",
     "text": [
      "******************* NDBC Collector offerings *******************\n",
      "National Data Buoy Center SOS: 1062 offerings\n"
     ]
    }
   ],
   "source": [
    "from pyoos.collectors.ndbc.ndbc_sos import NdbcSos\n",
    "\n",
    "collector_ndbc = NdbcSos()\n",
    "\n",
    "collector_ndbc.set_bbox(config[\"region\"][\"bbox\"])\n",
    "collector_ndbc.end_time = config[\"date\"][\"stop\"]\n",
    "collector_ndbc.start_time = config[\"date\"][\"start\"]\n",
    "collector_ndbc.variables = [config[\"sos_name\"]]\n",
    "\n",
    "ofrs = collector_ndbc.server.offerings\n",
    "title = collector_ndbc.server.identification.title\n",
    "print(fmt(\" NDBC Collector offerings \"))\n",
    "print(f\"{title}: {len(ofrs)} offerings\")"
   ]
  },
  {
   "cell_type": "code",
   "execution_count": 8,
   "metadata": {},
   "outputs": [
    {
     "data": {
      "text/html": [
       "<div>\n",
       "<style scoped>\n",
       "    .dataframe tbody tr th:only-of-type {\n",
       "        vertical-align: middle;\n",
       "    }\n",
       "\n",
       "    .dataframe tbody tr th {\n",
       "        vertical-align: top;\n",
       "    }\n",
       "\n",
       "    .dataframe thead th {\n",
       "        text-align: right;\n",
       "    }\n",
       "</style>\n",
       "<table border=\"1\" class=\"dataframe\">\n",
       "  <thead>\n",
       "    <tr style=\"text-align: right;\">\n",
       "      <th></th>\n",
       "      <th>station_name</th>\n",
       "      <th>sensor</th>\n",
       "      <th>lon</th>\n",
       "      <th>lat</th>\n",
       "      <th>depth</th>\n",
       "    </tr>\n",
       "    <tr>\n",
       "      <th>station_code</th>\n",
       "      <th></th>\n",
       "      <th></th>\n",
       "      <th></th>\n",
       "      <th></th>\n",
       "      <th></th>\n",
       "    </tr>\n",
       "  </thead>\n",
       "  <tbody>\n",
       "    <tr>\n",
       "      <th>44013</th>\n",
       "      <td>BOSTON 16 NM East of Boston, MA</td>\n",
       "      <td>urn:ioos:sensor:wmo:44013::watertemp1</td>\n",
       "      <td>-70.651</td>\n",
       "      <td>42.346</td>\n",
       "      <td>0.6</td>\n",
       "    </tr>\n",
       "  </tbody>\n",
       "</table>\n",
       "</div>"
      ],
      "text/plain": [
       "                                 station_name  \\\n",
       "station_code                                    \n",
       "44013         BOSTON 16 NM East of Boston, MA   \n",
       "\n",
       "                                             sensor     lon     lat  depth  \n",
       "station_code                                                                \n",
       "44013         urn:ioos:sensor:wmo:44013::watertemp1 -70.651  42.346    0.6  "
      ]
     },
     "execution_count": 8,
     "metadata": {},
     "output_type": "execute_result"
    }
   ],
   "source": [
    "import pandas as pd\n",
    "from ioos_tools.ioos import collector2table\n",
    "\n",
    "ndbc = collector2table(\n",
    "    collector=collector_ndbc, config=config, col=\"sea_water_temperature (C)\"\n",
    ")\n",
    "\n",
    "if ndbc:\n",
    "    data = dict(\n",
    "        station_name=[s._metadata.get(\"station_name\") for s in ndbc],\n",
    "        station_code=[s._metadata.get(\"station_code\") for s in ndbc],\n",
    "        sensor=[s._metadata.get(\"sensor\") for s in ndbc],\n",
    "        lon=[s._metadata.get(\"lon\") for s in ndbc],\n",
    "        lat=[s._metadata.get(\"lat\") for s in ndbc],\n",
    "        depth=[s._metadata.get(\"depth\") for s in ndbc],\n",
    "    )\n",
    "\n",
    "table = pd.DataFrame(data).set_index(\"station_code\")\n",
    "table"
   ]
  },
  {
   "cell_type": "markdown",
   "metadata": {},
   "source": [
    "and `CoopsSos`."
   ]
  },
  {
   "cell_type": "code",
   "execution_count": 9,
   "metadata": {},
   "outputs": [
    {
     "name": "stdout",
     "output_type": "stream",
     "text": [
      "********************* Collector offerings **********************\n",
      "NOAA.NOS.CO-OPS SOS: 1227 offerings\n"
     ]
    }
   ],
   "source": [
    "from pyoos.collectors.coops.coops_sos import CoopsSos\n",
    "\n",
    "collector_coops = CoopsSos()\n",
    "\n",
    "collector_coops.set_bbox(config[\"region\"][\"bbox\"])\n",
    "collector_coops.end_time = config[\"date\"][\"stop\"]\n",
    "collector_coops.start_time = config[\"date\"][\"start\"]\n",
    "collector_coops.variables = [config[\"sos_name\"]]\n",
    "\n",
    "ofrs = collector_coops.server.offerings\n",
    "title = collector_coops.server.identification.title\n",
    "print(fmt(\" Collector offerings \"))\n",
    "print(f\"{title}: {len(ofrs)} offerings\")"
   ]
  },
  {
   "cell_type": "code",
   "execution_count": 10,
   "metadata": {
    "scrolled": true
   },
   "outputs": [
    {
     "data": {
      "text/html": [
       "<div>\n",
       "<style scoped>\n",
       "    .dataframe tbody tr th:only-of-type {\n",
       "        vertical-align: middle;\n",
       "    }\n",
       "\n",
       "    .dataframe tbody tr th {\n",
       "        vertical-align: top;\n",
       "    }\n",
       "\n",
       "    .dataframe thead th {\n",
       "        text-align: right;\n",
       "    }\n",
       "</style>\n",
       "<table border=\"1\" class=\"dataframe\">\n",
       "  <thead>\n",
       "    <tr style=\"text-align: right;\">\n",
       "      <th></th>\n",
       "      <th>station_name</th>\n",
       "      <th>sensor</th>\n",
       "      <th>lon</th>\n",
       "      <th>lat</th>\n",
       "      <th>depth</th>\n",
       "    </tr>\n",
       "    <tr>\n",
       "      <th>station_code</th>\n",
       "      <th></th>\n",
       "      <th></th>\n",
       "      <th></th>\n",
       "      <th></th>\n",
       "      <th></th>\n",
       "    </tr>\n",
       "  </thead>\n",
       "  <tbody>\n",
       "    <tr>\n",
       "      <th>44013</th>\n",
       "      <td>BOSTON 16 NM East of Boston, MA</td>\n",
       "      <td>urn:ioos:sensor:wmo:44013::watertemp1</td>\n",
       "      <td>-70.651</td>\n",
       "      <td>42.346</td>\n",
       "      <td>0.6</td>\n",
       "    </tr>\n",
       "  </tbody>\n",
       "</table>\n",
       "</div>"
      ],
      "text/plain": [
       "                                 station_name  \\\n",
       "station_code                                    \n",
       "44013         BOSTON 16 NM East of Boston, MA   \n",
       "\n",
       "                                             sensor     lon     lat  depth  \n",
       "station_code                                                                \n",
       "44013         urn:ioos:sensor:wmo:44013::watertemp1 -70.651  42.346    0.6  "
      ]
     },
     "execution_count": 10,
     "metadata": {},
     "output_type": "execute_result"
    }
   ],
   "source": [
    "coops = collector2table(\n",
    "    collector=collector_coops, config=config, col=\"sea_water_temperature (C)\"\n",
    ")\n",
    "\n",
    "if coops:\n",
    "    data = dict(\n",
    "        station_name=[s._metadata.get(\"station_name\") for s in coops],\n",
    "        station_code=[s._metadata.get(\"station_code\") for s in coops],\n",
    "        sensor=[s._metadata.get(\"sensor\") for s in coops],\n",
    "        lon=[s._metadata.get(\"lon\") for s in coops],\n",
    "        lat=[s._metadata.get(\"lat\") for s in coops],\n",
    "        depth=[s._metadata.get(\"depth\") for s in coops],\n",
    "    )\n",
    "\n",
    "table = pd.DataFrame(data).set_index(\"station_code\")\n",
    "table"
   ]
  },
  {
   "cell_type": "markdown",
   "metadata": {},
   "source": [
    "We will join all the observations into an uniform series, interpolated to 1-hour interval, for the model-data comparison.\n",
    "\n",
    "This step is necessary because the observations can be 7 or 10 minutes resolution,\n",
    "while the models can be 30 to 60 minutes."
   ]
  },
  {
   "cell_type": "code",
   "execution_count": 11,
   "metadata": {
    "scrolled": true
   },
   "outputs": [],
   "source": [
    "data = ndbc + coops\n",
    "\n",
    "index = pd.date_range(\n",
    "    start=config[\"date\"][\"start\"].replace(tzinfo=None),\n",
    "    end=config[\"date\"][\"stop\"].replace(tzinfo=None),\n",
    "    freq=\"1H\",\n",
    ")\n",
    "\n",
    "# Preserve metadata with `reindex`.\n",
    "observations = []\n",
    "for series in data:\n",
    "    _metadata = series._metadata\n",
    "    series.index = series.index.tz_localize(None)\n",
    "    series.index = series.index.tz_localize(None)\n",
    "    obs = series.reindex(index=index, limit=1, method=\"nearest\")\n",
    "    obs._metadata = _metadata\n",
    "    observations.append(obs)"
   ]
  },
  {
   "cell_type": "markdown",
   "metadata": {},
   "source": [
    "In this next cell we will save the data for quicker access later."
   ]
  },
  {
   "cell_type": "code",
   "execution_count": 12,
   "metadata": {
    "scrolled": false
   },
   "outputs": [],
   "source": [
    "import iris\n",
    "from ioos_tools.tardis import series2cube\n",
    "\n",
    "attr = dict(\n",
    "    featureType=\"timeSeries\",\n",
    "    Conventions=\"CF-1.6\",\n",
    "    standard_name_vocabulary=\"CF-1.6\",\n",
    "    cdm_data_type=\"Station\",\n",
    "    comment=\"Data from http://opendap.co-ops.nos.noaa.gov\",\n",
    ")\n",
    "\n",
    "\n",
    "cubes = iris.cube.CubeList([series2cube(obs, attr=attr) for obs in observations])\n",
    "\n",
    "outfile = os.path.join(save_dir, \"OBS_DATA.nc\")\n",
    "iris.save(cubes, outfile)"
   ]
  },
  {
   "cell_type": "markdown",
   "metadata": {},
   "source": [
    "Taking a quick look at the observations:"
   ]
  },
  {
   "cell_type": "code",
   "execution_count": 13,
   "metadata": {},
   "outputs": [
    {
     "data": {
      "image/png": "[encoded data removed]",
      "text/plain": [
       "<Figure size 792x162 with 1 Axes>"
      ]
     },
     "metadata": {
      "needs_background": "light"
     },
     "output_type": "display_data"
    }
   ],
   "source": [
    "%matplotlib inline\n",
    "\n",
    "ax = pd.concat(data).plot(figsize=(11, 2.25))"
   ]
  },
  {
   "cell_type": "markdown",
   "metadata": {},
   "source": [
    "Now it is time to loop the models we found above,"
   ]
  },
  {
   "cell_type": "code",
   "execution_count": 14,
   "metadata": {},
   "outputs": [
    {
     "name": "stdout",
     "output_type": "stream",
     "text": [
      "**************************** Models ****************************\n",
      "\n",
      "[Reading url 1/10]: http://tds.marine.rutgers.edu/thredds/dodsC/roms/doppio/2017_da/his/History_Best#fillmismatch\n",
      "\n",
      "[Reading url 2/10]: http://oos.soest.hawaii.edu/thredds/dodsC/hioos/satellite/dhw_5km#fillmismatch\n",
      "\n",
      "[Reading url 3/10]: http://www.neracoos.org/thredds/dodsC/UMO/Realtime/SOS/A01/DSG_A0141.sbe37.realtime.1m.nc#fillmismatch\n",
      "[Not model data]: http://www.neracoos.org/thredds/dodsC/UMO/Realtime/SOS/A01/DSG_A0141.sbe37.realtime.1m.nc#fillmismatch\n",
      "\n",
      "[Reading url 4/10]: http://www.neracoos.org/thredds/dodsC/UMO/Realtime/SOS/A01/DSG_A0141.met.realtime.nc#fillmismatch\n",
      "Cannot get cube for: http://www.neracoos.org/thredds/dodsC/UMO/Realtime/SOS/A01/DSG_A0141.met.realtime.nc#fillmismatch\n",
      "Cannot find ['sea_water_temperature', 'sea_surface_temperature', 'sea_water_potential_temperature', 'equivalent_potential_temperature', 'sea_water_conservative_temperature', 'pseudo_equivalent_potential_temperature'] in http://www.neracoos.org/thredds/dodsC/UMO/Realtime/SOS/A01/DSG_A0141.met.realtime.nc#fillmismatch.\n",
      "\n",
      "[Reading url 5/10]: http://www.neracoos.org/thredds/dodsC/UMO/Realtime/SOS/A01/DSG_A0141.accelerometer.realtime.nc#fillmismatch\n",
      "Cannot get cube for: http://www.neracoos.org/thredds/dodsC/UMO/Realtime/SOS/A01/DSG_A0141.accelerometer.realtime.nc#fillmismatch\n",
      "Cannot find ['sea_water_temperature', 'sea_surface_temperature', 'sea_water_potential_temperature', 'equivalent_potential_temperature', 'sea_water_conservative_temperature', 'pseudo_equivalent_potential_temperature'] in http://www.neracoos.org/thredds/dodsC/UMO/Realtime/SOS/A01/DSG_A0141.accelerometer.realtime.nc#fillmismatch.\n",
      "\n",
      "[Reading url 6/10]: http://tds.marine.rutgers.edu/thredds/dodsC/roms/doppio/2017_da/avg/Averages_Best#fillmismatch\n",
      "\n",
      "[Reading url 7/10]: http://www.neracoos.org/thredds/dodsC/UMO/Realtime/SOS/A01/DSG_A0141.sbe37.realtime.20m.nc#fillmismatch\n",
      "[Not model data]: http://www.neracoos.org/thredds/dodsC/UMO/Realtime/SOS/A01/DSG_A0141.sbe37.realtime.20m.nc#fillmismatch\n",
      "\n",
      "[Reading url 8/10]: http://www.neracoos.org/thredds/dodsC/UMO/Realtime/SOS/A01/DSG_A0141.optode.realtime.51m.nc#fillmismatch\n",
      "[Not model data]: http://www.neracoos.org/thredds/dodsC/UMO/Realtime/SOS/A01/DSG_A0141.optode.realtime.51m.nc#fillmismatch\n",
      "\n",
      "[Reading url 9/10]: http://www.smast.umassd.edu:8080/thredds/dodsC/FVCOM/NECOFS/Forecasts/NECOFS_FVCOM_OCEAN_SCITUATE_FORECAST.nc#fillmismatch\n",
      "\n",
      "[Reading url 10/10]: http://www.smast.umassd.edu:8080/thredds/dodsC/FVCOM/NECOFS/Forecasts/NECOFS_FVCOM_OCEAN_MASSBAY_FORECAST.nc#fillmismatch\n"
     ]
    }
   ],
   "source": [
    "from ioos_tools.ioos import get_model_name\n",
    "from ioos_tools.tardis import get_surface, is_model, proc_cube, quick_load_cubes\n",
    "from iris.exceptions import ConstraintMismatchError, CoordinateNotFoundError, MergeError\n",
    "\n",
    "print(fmt(\" Models \"))\n",
    "cubes = dict()\n",
    "for k, url in enumerate(dap_urls):\n",
    "    print(f\"\\n[Reading url {k + 1}/{len(dap_urls)}]: {url}\")\n",
    "    try:\n",
    "        cube = quick_load_cubes(url, config[\"cf_names\"], callback=None, strict=True)\n",
    "        if is_model(cube):\n",
    "            cube = proc_cube(\n",
    "                cube,\n",
    "                bbox=config[\"region\"][\"bbox\"],\n",
    "                time=(config[\"date\"][\"start\"], config[\"date\"][\"stop\"]),\n",
    "                units=config[\"units\"],\n",
    "            )\n",
    "        else:\n",
    "            print(f\"[Not model data]: {url}\")\n",
    "            continue\n",
    "        cube = get_surface(cube)\n",
    "        mod_name = get_model_name(url)\n",
    "        cubes.update({mod_name: cube})\n",
    "    except (\n",
    "        RuntimeError,\n",
    "        ValueError,\n",
    "        ConstraintMismatchError,\n",
    "        CoordinateNotFoundError,\n",
    "        IndexError,\n",
    "    ) as e:\n",
    "        print(f\"Cannot get cube for: {url}\\n{e}\")"
   ]
  },
  {
   "cell_type": "markdown",
   "metadata": {},
   "source": [
    "Next, we will match them with the nearest observed time-series. The `max_dist=0.08` is in degrees, that is roughly 8 kilometers."
   ]
  },
  {
   "cell_type": "code",
   "execution_count": 15,
   "metadata": {},
   "outputs": [
    {
     "name": "stdout",
     "output_type": "stream",
     "text": [
      " Downloading to file /home/filipe/IOOS/notebooks_demos/notebooks/latest/roms_doppio_2017_da-History_Best#fillmismatch.nc \n",
      "[Water  ] BOSTON 16 NM East of Boston, MA\n",
      "Finished processing [roms_doppio_2017_da-History_Best#fillmismatch]\n",
      " Downloading to file /home/filipe/IOOS/notebooks_demos/notebooks/latest/hioos_satellite-dhw_5km#fillmismatch.nc \n",
      "[Water  ] BOSTON 16 NM East of Boston, MA\n",
      "Finished processing [hioos_satellite-dhw_5km#fillmismatch]\n",
      " Downloading to file /home/filipe/IOOS/notebooks_demos/notebooks/latest/roms_doppio_2017_da_avg-Averages_Best#fillmismatch.nc \n",
      "[Water  ] BOSTON 16 NM East of Boston, MA\n",
      "Finished processing [roms_doppio_2017_da_avg-Averages_Best#fillmismatch]\n",
      " Downloading to file /home/filipe/IOOS/notebooks_demos/notebooks/latest/Forecasts-NECOFS_FVCOM_OCEAN_SCITUATE_FORECAST.nc#fillmismatch.nc \n",
      "[No Data] BOSTON 16 NM East of Boston, MA\n",
      "Finished processing [Forecasts-NECOFS_FVCOM_OCEAN_SCITUATE_FORECAST.nc#fillmismatch]\n",
      " Downloading to file /home/filipe/IOOS/notebooks_demos/notebooks/latest/Forecasts-NECOFS_FVCOM_OCEAN_MASSBAY_FORECAST.nc#fillmismatch.nc \n",
      "Cannot download <iris 'Cube' of sea_water_potential_temperature / (degrees_C) (time: 144; -- : 31358)>.\n",
      "NetCDF: file not found\n",
      "[Land   ] BOSTON 16 NM East of Boston, MA\n",
      "Finished processing [Forecasts-NECOFS_FVCOM_OCEAN_MASSBAY_FORECAST.nc#fillmismatch]\n"
     ]
    }
   ],
   "source": [
    "import iris\n",
    "from ioos_tools.tardis import (\n",
    "    add_station,\n",
    "    ensure_timeseries,\n",
    "    get_nearest_water,\n",
    "    make_tree,\n",
    "    remove_ssh,\n",
    ")\n",
    "from iris.pandas import as_series\n",
    "\n",
    "for mod_name, cube in cubes.items():\n",
    "    fname = f\"{mod_name}.nc\"\n",
    "    fname = os.path.join(save_dir, fname)\n",
    "    print(fmt(f\" Downloading to file {fname} \"))\n",
    "    try:\n",
    "        tree, lon, lat = make_tree(cube)\n",
    "    except CoordinateNotFoundError:\n",
    "        print(f\"Cannot make KDTree for: {mod_name}\")\n",
    "        continue\n",
    "    # Get model series at observed locations.\n",
    "    raw_series = dict()\n",
    "    for obs in observations:\n",
    "        obs = obs._metadata\n",
    "        station = obs[\"station_code\"]\n",
    "        try:\n",
    "            kw = dict(k=10, max_dist=0.08, min_var=0.01)\n",
    "            args = cube, tree, obs[\"lon\"], obs[\"lat\"]\n",
    "            try:\n",
    "                series, dist, idx = get_nearest_water(*args, **kw)\n",
    "            except RuntimeError as e:\n",
    "                print(f\"Cannot download {cube!r}.\\n{e}\")\n",
    "                series = None\n",
    "        except ValueError:\n",
    "            status = \"No Data\"\n",
    "            print(\"[{}] {}\".format(status, obs[\"station_name\"]))\n",
    "            continue\n",
    "        if not series:\n",
    "            status = \"Land   \"\n",
    "        else:\n",
    "            raw_series.update({station: series})\n",
    "            series = as_series(series)\n",
    "            status = \"Water  \"\n",
    "        print(\"[{}] {}\".format(status, obs[\"station_name\"]))\n",
    "    if raw_series:  # Save cube.\n",
    "        for station, cube in raw_series.items():\n",
    "            cube = add_station(cube, station)\n",
    "            cube = remove_ssh(cube)\n",
    "        try:\n",
    "            cube = iris.cube.CubeList(raw_series.values()).merge_cube()\n",
    "        except MergeError as e:\n",
    "            print(e)\n",
    "        ensure_timeseries(cube)\n",
    "        try:\n",
    "            iris.save(cube, fname)\n",
    "        except AttributeError:\n",
    "            # FIXME: we should patch the bad attribute instead of removing everything.\n",
    "            cube.attributes = {}\n",
    "            iris.save(cube, fname)\n",
    "        del cube\n",
    "    print(f\"Finished processing [{mod_name}]\")"
   ]
  },
  {
   "cell_type": "markdown",
   "metadata": {},
   "source": [
    "Now it is possible to compute some simple comparison metrics. First we'll calculate the model mean bias:\n",
    "\n",
    "$$ \\\\text{MB} = \\\\mathbf{\\\\overline{m}} - \\\\mathbf{\\\\overline{o}}$$"
   ]
  },
  {
   "cell_type": "code",
   "execution_count": 16,
   "metadata": {},
   "outputs": [],
   "source": [
    "from ioos_tools.ioos import stations_keys\n",
    "\n",
    "\n",
    "def rename_cols(df, config):\n",
    "    cols = stations_keys(config, key=\"station_name\")\n",
    "    return df.rename(columns=cols)"
   ]
  },
  {
   "cell_type": "code",
   "execution_count": 17,
   "metadata": {
    "scrolled": false
   },
   "outputs": [],
   "source": [
    "from ioos_tools.ioos import load_ncs\n",
    "from ioos_tools.skill_score import apply_skill, mean_bias\n",
    "\n",
    "dfs = load_ncs(config)\n",
    "\n",
    "df = apply_skill(dfs, mean_bias, remove_mean=False, filter_tides=False)\n",
    "skill_score = dict(mean_bias=df.to_dict())\n",
    "\n",
    "# Filter out stations with no valid comparison.\n",
    "df.dropna(how=\"all\", axis=1, inplace=True)\n",
    "df = df.applymap(\"{:.2f}\".format).replace(\"nan\", \"--\")"
   ]
  },
  {
   "cell_type": "markdown",
   "metadata": {},
   "source": [
    "And the root mean squared error of the deviations from the mean:\n",
    "$$ \\\\text{CRMS} = \\\\sqrt{\\\\left(\\\\mathbf{m'} - \\\\mathbf{o'}\\\\right)^2}$$\n",
    "\n",
    "where: $\\\\mathbf{m'} = \\\\mathbf{m} - \\\\mathbf{\\\\overline{m}}$ and $\\\\mathbf{o'} = \\\\mathbf{o} - \\\\mathbf{\\\\overline{o}}$"
   ]
  },
  {
   "cell_type": "code",
   "execution_count": 18,
   "metadata": {},
   "outputs": [],
   "source": [
    "from ioos_tools.skill_score import rmse\n",
    "\n",
    "dfs = load_ncs(config)\n",
    "\n",
    "df = apply_skill(dfs, rmse, remove_mean=True, filter_tides=False)\n",
    "skill_score[\"rmse\"] = df.to_dict()\n",
    "\n",
    "# Filter out stations with no valid comparison.\n",
    "df.dropna(how=\"all\", axis=1, inplace=True)\n",
    "df = df.applymap(\"{:.2f}\".format).replace(\"nan\", \"--\")"
   ]
  },
  {
   "cell_type": "markdown",
   "metadata": {},
   "source": [
    "The next 2 cells make the scores \"pretty\" for plotting."
   ]
  },
  {
   "cell_type": "code",
   "execution_count": 19,
   "metadata": {},
   "outputs": [],
   "source": [
    "import pandas as pd\n",
    "\n",
    "# Stringfy keys.\n",
    "for key in skill_score.keys():\n",
    "    skill_score[key] = {str(k): v for k, v in skill_score[key].items()}\n",
    "\n",
    "mean_bias = pd.DataFrame.from_dict(skill_score[\"mean_bias\"])\n",
    "mean_bias = mean_bias.applymap(\"{:.2f}\".format).replace(\"nan\", \"--\")\n",
    "\n",
    "skill_score = pd.DataFrame.from_dict(skill_score[\"rmse\"])\n",
    "skill_score = skill_score.applymap(\"{:.2f}\".format).replace(\"nan\", \"--\")"
   ]
  },
  {
   "cell_type": "code",
   "execution_count": 20,
   "metadata": {},
   "outputs": [],
   "source": [
    "import folium\n",
    "from ioos_tools.ioos import get_coordinates\n",
    "\n",
    "\n",
    "def make_map(bbox, **kw):\n",
    "    line = kw.pop(\"line\", True)\n",
    "    layers = kw.pop(\"layers\", True)\n",
    "    zoom_start = kw.pop(\"zoom_start\", 5)\n",
    "\n",
    "    lon = (bbox[0] + bbox[2]) / 2\n",
    "    lat = (bbox[1] + bbox[3]) / 2\n",
    "    m = folium.Map(\n",
    "        width=\"100%\", height=\"100%\", location=[lat, lon], zoom_start=zoom_start\n",
    "    )\n",
    "\n",
    "    if layers:\n",
    "        url = \"http://oos.soest.hawaii.edu/thredds/wms/hioos/satellite/dhw_5km\"\n",
    "        w = folium.WmsTileLayer(\n",
    "            url,\n",
    "            name=\"Sea Surface Temperature\",\n",
    "            fmt=\"image/png\",\n",
    "            layers=\"CRW_SST\",\n",
    "            attr=\"PacIOOS TDS\",\n",
    "            overlay=True,\n",
    "            transparent=True,\n",
    "        )\n",
    "        w.add_to(m)\n",
    "\n",
    "    if line:\n",
    "        p = folium.PolyLine(\n",
    "            get_coordinates(bbox),\n",
    "            color=\"#FF0000\",\n",
    "            weight=2,\n",
    "            opacity=0.9,\n",
    "        )\n",
    "        p.add_to(m)\n",
    "    return m"
   ]
  },
  {
   "cell_type": "code",
   "execution_count": 21,
   "metadata": {},
   "outputs": [],
   "source": [
    "bbox = config[\"region\"][\"bbox\"]\n",
    "\n",
    "m = make_map(bbox, zoom_start=11, line=True, layers=True)"
   ]
  },
  {
   "cell_type": "markdown",
   "metadata": {},
   "source": [
    "The cells from `[20]` to `[25]` create a [`folium`](https://github.com/python-visualization/folium) map with [`bokeh`](http://bokeh.pydata.org/en/latest/) for the time-series at the observed points.\n",
    "\n",
    "Note that we did mark the nearest model cell location used in the comparison."
   ]
  },
  {
   "cell_type": "code",
   "execution_count": 22,
   "metadata": {},
   "outputs": [],
   "source": [
    "all_obs = stations_keys(config)\n",
    "\n",
    "from glob import glob\n",
    "from operator import itemgetter\n",
    "\n",
    "import iris\n",
    "from folium.plugins import MarkerCluster\n",
    "\n",
    "iris.FUTURE.netcdf_promote = True\n",
    "\n",
    "big_list = []\n",
    "for fname in glob(os.path.join(save_dir, \"*.nc\")):\n",
    "    if \"OBS_DATA\" in fname:\n",
    "        continue\n",
    "    cube = iris.load_cube(fname)\n",
    "    model = os.path.split(fname)[1].split(\"-\")[-1].split(\".\")[0]\n",
    "    lons = cube.coord(axis=\"X\").points\n",
    "    lats = cube.coord(axis=\"Y\").points\n",
    "    stations = cube.coord(\"station_code\").points\n",
    "    models = [model] * lons.size\n",
    "    lista = zip(models, lons.tolist(), lats.tolist(), stations.tolist())\n",
    "    big_list.extend(lista)\n",
    "\n",
    "big_list.sort(key=itemgetter(3))\n",
    "df = pd.DataFrame(big_list, columns=[\"name\", \"lon\", \"lat\", \"station\"])\n",
    "df.set_index(\"station\", drop=True, inplace=True)\n",
    "groups = df.groupby(df.index)\n",
    "\n",
    "\n",
    "locations, popups = [], []\n",
    "for station, info in groups:\n",
    "    sta_name = all_obs[station]\n",
    "    for lat, lon, name in zip(info.lat, info.lon, info.name):\n",
    "        locations.append([lat, lon])\n",
    "        popups.append(\n",
    "            \"[{}]: {}\".format(name.rstrip(\"fillmismatch\").rstrip(\"#\"), sta_name)\n",
    "        )\n",
    "\n",
    "MarkerCluster(locations=locations, popups=popups, name=\"Cluster\").add_to(m)"
   ]
  },
  {
   "cell_type": "markdown",
   "metadata": {},
   "source": [
    "Here we use a dictionary with some models we expect to find so we can create a better legend for the plots. If any new models are found, we will use its filename in the legend as a default until we can go back and add a short name to our library."
   ]
  },
  {
   "cell_type": "code",
   "execution_count": 23,
   "metadata": {},
   "outputs": [],
   "source": [
    "titles = {\n",
    "    \"coawst_4_use_best\": \"COAWST_4\",\n",
    "    \"global\": \"HYCOM\",\n",
    "    \"NECOFS_GOM3_FORECAST\": \"NECOFS_GOM3\",\n",
    "    \"NECOFS_FVCOM_OCEAN_MASSBAY_FORECAST\": \"NECOFS_MassBay\",\n",
    "    \"OBS_DATA\": \"Observations\",\n",
    "}"
   ]
  },
  {
   "cell_type": "code",
   "execution_count": 24,
   "metadata": {},
   "outputs": [],
   "source": [
    "from itertools import cycle\n",
    "\n",
    "from bokeh.embed import file_html\n",
    "from bokeh.models import HoverTool\n",
    "from bokeh.palettes import Category20\n",
    "from bokeh.plotting import figure\n",
    "from bokeh.resources import CDN\n",
    "from folium import IFrame\n",
    "\n",
    "# Plot defaults.\n",
    "colors = Category20[20]\n",
    "colorcycler = cycle(colors)\n",
    "tools = \"pan,box_zoom,reset\"\n",
    "width, height = 750, 250\n",
    "\n",
    "\n",
    "def make_plot(df, station):\n",
    "    p = figure(\n",
    "        toolbar_location=\"above\",\n",
    "        x_axis_type=\"datetime\",\n",
    "        width=width,\n",
    "        height=height,\n",
    "        tools=tools,\n",
    "        title=str(station),\n",
    "    )\n",
    "    for column, series in df.iteritems():\n",
    "        series.dropna(inplace=True)\n",
    "        if not series.empty:\n",
    "            if \"OBS_DATA\" not in column:\n",
    "                bias = mean_bias[str(station)][column]\n",
    "                skill = skill_score[str(station)][column]\n",
    "                line_color = next(colorcycler)\n",
    "                kw = dict(alpha=0.65, line_color=line_color)\n",
    "            else:\n",
    "                skill = bias = \"NA\"\n",
    "                kw = dict(alpha=1, color=\"crimson\")\n",
    "            legend = f\"{titles.get(column, column)}\"\n",
    "            legend = legend.rstrip(\"fillmismatch\").rstrip(\"#\")\n",
    "            line = p.line(\n",
    "                x=series.index,\n",
    "                y=series.values,\n",
    "                legend=legend,\n",
    "                line_width=5,\n",
    "                line_cap=\"round\",\n",
    "                line_join=\"round\",\n",
    "                **kw,\n",
    "            )\n",
    "            p.add_tools(\n",
    "                HoverTool(\n",
    "                    tooltips=[\n",
    "                        (\"Name\", f\"{titles.get(column, column)}\"),\n",
    "                        (\"Bias\", bias),\n",
    "                        (\"Skill\", skill),\n",
    "                    ],\n",
    "                    renderers=[line],\n",
    "                )\n",
    "            )\n",
    "    return p\n",
    "\n",
    "\n",
    "def make_marker(p, station):\n",
    "    lons = stations_keys(config, key=\"lon\")\n",
    "    lats = stations_keys(config, key=\"lat\")\n",
    "\n",
    "    lon, lat = lons[station], lats[station]\n",
    "    html = file_html(p, CDN, station)\n",
    "    iframe = IFrame(html, width=width + 40, height=height + 80)\n",
    "\n",
    "    popup = folium.Popup(iframe, max_width=2650)\n",
    "    icon = folium.Icon(color=\"green\", icon=\"stats\")\n",
    "    marker = folium.Marker(location=[lat, lon], popup=popup, icon=icon)\n",
    "    return marker"
   ]
  },
  {
   "cell_type": "code",
   "execution_count": 25,
   "metadata": {},
   "outputs": [
    {
     "data": {
      "text/html": [
       "<div style=\"width:100%;\"><div style=\"position:relative;width:100%;height:0;padding-bottom:60%;\"><iframe src=\"data:text/html;charset=utf-8;base64,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\" style=\"position:absolute;width:100%;height:100%;left:0;top:0;border:none !important;\" allowfullscreen webkitallowfullscreen mozallowfullscreen></iframe></div></div>"
      ],
      "text/plain": [
       "<folium.folium.Map at 0x7fc729a3abe0>"
      ]
     },
     "execution_count": 25,
     "metadata": {},
     "output_type": "execute_result"
    }
   ],
   "source": [
    "dfs = load_ncs(config)\n",
    "\n",
    "for station in dfs:\n",
    "    sta_name = all_obs[station]\n",
    "    df = dfs[station]\n",
    "    if df.empty:\n",
    "        continue\n",
    "    p = make_plot(df, station)\n",
    "    marker = make_marker(p, station)\n",
    "    marker.add_to(m)\n",
    "\n",
    "folium.LayerControl().add_to(m)\n",
    "\n",
    "m"
   ]
  },
  {
   "cell_type": "markdown",
   "metadata": {},
   "source": [
    "Now we can navigate the map and click on the markers to explorer our findings.\n",
    "\n",
    "The green markers locate the observations locations. They pop-up an interactive plot with the time-series and scores for the models (hover over the lines to se the scores). The blue markers indicate the nearest model grid point found for the comparison."
   ]
  }
 ],
 "metadata": {
  "_draft": {
   "nbviewer_url": "https://gist.github.com/80d9e3244c1fb3f25136a42168ce2a6c"
  },
  "anaconda-cloud": {},
  "gist": {
   "data": {
    "description": "2016-12-22-boston_light_swim.ipynb",
    "public": true
   },
   "id": "80d9e3244c1fb3f25136a42168ce2a6c"
  },
  "kernelspec": {
   "display_name": "Python 3 (ipykernel)",
   "language": "python",
   "name": "python3"
  },
  "language_info": {
   "codemirror_mode": {
    "name": "ipython",
    "version": 3
   },
   "file_extension": ".py",
   "mimetype": "text/x-python",
   "name": "python",
   "nbconvert_exporter": "python",
   "pygments_lexer": "ipython3",
   "version": "3.11.0"
  }
 },
 "nbformat": 4,
 "nbformat_minor": 1
}
