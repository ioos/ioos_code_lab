{
 "cells": [
  {
   "cell_type": "markdown",
   "metadata": {},
   "source": [
    "# Shore Station Compliance Checker Script\n",
    "\n",
    "Created: 2017-05-14\n",
    "\n",
    "The IOOS Compliance Checker is a Python-based tool that helps users check the meta data compliance of a netCDF file. This software can be run in a web interface here: https://data.ioos.us/compliance/index.html The checker can also be run as a Python tool either on the command line or in a Python script.  This notebook demonstrates the python usage of the Compliance Checker.\n",
    "\n",
    "## Purpose:\n",
    "\n",
    "Run the compliance checker python tool on a Scipps Pier shore station dataset to check for the metadata compliance.\n",
    "\n",
    "The Scripps Pier automated shore station operated by Southern California Coastal Ocean Observing System (SCCOOS) at Scripps Institution of Oceanography (SIO) is mounted at a nominal depth of 5 meters MLLW. The instrument package includes a Seabird SBE 16plus SEACAT Conductivity, Temperature, and Pressure recorder, and a Seapoint Chlorophyll Fluorometer with a 0-50 ug/L gain setting.\n",
    "\n",
    "## Dependencies:\n",
    "\n",
    "This script must be run in the \"IOOS\" environment for the compliance checker to work properly.\n",
    "\n",
    "Written by: J.Bosch Feb. 10, 2017"
   ]
  },
  {
   "cell_type": "code",
   "execution_count": 1,
   "metadata": {},
   "outputs": [
    {
     "name": "stdout",
     "output_type": "stream",
     "text": [
      "4.2.0+11.gd85b593\n"
     ]
    }
   ],
   "source": [
    "import compliance_checker\n",
    "\n",
    "print(compliance_checker.__version__)"
   ]
  },
  {
   "cell_type": "code",
   "execution_count": 2,
   "metadata": {},
   "outputs": [],
   "source": [
    "# First import the compliance checker and test that it is installed properly.\n",
    "from compliance_checker.runner import CheckSuite, ComplianceChecker\n",
    "\n",
    "# Load all available checker classes.\n",
    "check_suite = CheckSuite()\n",
    "check_suite.load_all_available_checkers()"
   ]
  },
  {
   "cell_type": "code",
   "execution_count": 3,
   "metadata": {},
   "outputs": [],
   "source": [
    "# Path to the Scripps Pier Data.\n",
    "\n",
    "\n",
    "# See https://github.com/Unidata/netcdf-c/issues/1299\n",
    "# for the reason we need to append `#fillmismatch` to the URL.\n",
    "url = \"http://data.ioos.us/thredds/dodsC/deployments/rutgers/ru29-20150623T1046/ru29-20150623T1046.nc3.nc#fillmismatch\""
   ]
  },
  {
   "cell_type": "markdown",
   "metadata": {},
   "source": [
    "### Running Compliance Checker on the Scripps Pier shore station data\n",
    "\n",
    "This code is written with all the arguments spelled out, following the usage instructions on the README section of compliance checker github page: https://github.com/ioos/compliance-checker"
   ]
  },
  {
   "cell_type": "code",
   "execution_count": 4,
   "metadata": {
    "scrolled": false
   },
   "outputs": [],
   "source": [
    "output_file = \"buoy_testCC.txt\"\n",
    "\n",
    "return_value, errors = ComplianceChecker.run_checker(\n",
    "    ds_loc=url,\n",
    "    checker_names=[\"cf\", \"acdd\"],\n",
    "    verbose=True,\n",
    "    criteria=\"normal\",\n",
    "    skip_checks=None,\n",
    "    output_filename=output_file,\n",
    "    output_format=\"text\",\n",
    ")"
   ]
  },
  {
   "cell_type": "code",
   "execution_count": 5,
   "metadata": {
    "scrolled": false
   },
   "outputs": [
    {
     "name": "stdout",
     "output_type": "stream",
     "text": [
      "\n",
      "\n",
      "--------------------------------------------------------------------------------\n",
      "                         IOOS Compliance Checker Report                         \n",
      "                                    acdd:1.3                                    \n",
      "http://wiki.esipfed.org/index.php?title=Category:Attribute_Conventions_Dataset_Discovery\n",
      "--------------------------------------------------------------------------------\n",
      "                               Corrective Actions                               \n",
      "ru29-20150623T1046.nc3.nc#fillmismatch has 11 potential issues\n",
      "\n",
      "\n",
      "                               Highly Recommended                               \n",
      "--------------------------------------------------------------------------------\n",
      "Global Attributes\n",
      "* Conventions does not contain 'ACDD-1.3'\n",
      "\n",
      "variable \"conductivity\" missing the following attributes:\n",
      "* coverage_content\n",
      "\n",
      "variable \"density\" missing the following attributes:\n",
      "* coverage_content\n",
      "\n",
      "variable \"platform_meta\" missing the following attributes:\n",
      "* coverage_content\n",
      "* standard_name\n",
      "\n",
      "variable \"pressure\" missing the following attributes:\n",
      "* coverage_content\n",
      "\n",
      "variable \"salinity\" missing the following attributes:\n",
      "* coverage_content\n",
      "\n",
      "variable \"temperature\" missing the following attributes:\n",
      "* coverage_content\n",
      "\n",
      "variable \"u\" missing the following attributes:\n",
      "* coverage_content\n",
      "\n",
      "variable \"v\" missing the following attributes:\n",
      "* coverage_content\n",
      "\n",
      "\n",
      "                                  Recommended                                   \n",
      "--------------------------------------------------------------------------------\n",
      "Global Attributes\n",
      "* geospatial_bounds not present\n",
      "* geospatial_bounds_crs not present\n",
      "* geospatial_bounds_vertical_crs not present\n",
      "* time_coverage_duration not present\n",
      "* time_coverage_resolution not present\n",
      "\n",
      "time_coverage_extents_match\n",
      "* Failed to retrieve and convert times for variables time.\n",
      "\n",
      "\n",
      "--------------------------------------------------------------------------------\n",
      "                         IOOS Compliance Checker Report                         \n",
      "                                     cf:1.6                                     \n",
      "                            http://cfconventions.org                            \n",
      "--------------------------------------------------------------------------------\n",
      "                               Corrective Actions                               \n",
      "ru29-20150623T1046.nc3.nc#fillmismatch has 5 potential issues\n",
      "\n",
      "\n",
      "                                     Errors                                     \n",
      "--------------------------------------------------------------------------------\n",
      "§3.4 Ancillary Data\n",
      "* lat_qc is not a variable in this dataset\n",
      "* lon_qc is not a variable in this dataset\n",
      "\n",
      "§3.5 Flags\n",
      "* precise_lat_qc's flag_meanings and flag_values should have the same number of elements.\n",
      "* precise_lon_qc's flag_meanings and flag_values should have the same number of elements.\n",
      "\n",
      "§5.6 Horizontal Coorindate Reference Systems, Grid Mappings, Projections\n",
      "* longitude is not associated with a coordinate defining true latitude and sharing a subset of dimensions\n",
      "* longitude is not associated with a coordinate defining true longitude and sharing a subset of dimensions\n",
      "* latitude is not associated with a coordinate defining true latitude and sharing a subset of dimensions\n",
      "* latitude is not associated with a coordinate defining true longitude and sharing a subset of dimensions\n",
      "* time is not associated with a coordinate defining true latitude and sharing a subset of dimensions\n",
      "* time is not associated with a coordinate defining true longitude and sharing a subset of dimensions\n",
      "\n",
      "§9.1 Features and feature types\n",
      "* Different feature types discovered in this dataset: mapped-grid (u, v, time, longitude, latitude), trajectory-profile-incomplete (pressure, temperature, conductivity, salinity, density, platform_meta, depth)\n",
      "\n",
      "\n",
      "                                    Warnings                                    \n",
      "--------------------------------------------------------------------------------\n",
      "§2.3 Naming Conventions\n",
      "* attribute trajectory:_Encoding should begin with a letter and be composed of letters, digits, and underscores\n",
      "* attribute wmo_id:_Encoding should begin with a letter and be composed of letters, digits, and underscores\n",
      "\n"
     ]
    }
   ],
   "source": [
    "with open(output_file) as f:\n",
    "    print(f.read())"
   ]
  },
  {
   "cell_type": "markdown",
   "metadata": {
    "collapsed": true
   },
   "source": [
    "This Compliance Checker Report can be used to identify where file meta data can be improved.  A strong meta data record allows for greater utility of the data for a broader audience of data analysts."
   ]
  }
 ],
 "metadata": {
  "anaconda-cloud": {},
  "kernelspec": {
   "display_name": "Python 3 (ipykernel)",
   "language": "python",
   "name": "python3"
  },
  "language_info": {
   "codemirror_mode": {
    "name": "ipython",
    "version": 3
   },
   "file_extension": ".py",
   "mimetype": "text/x-python",
   "name": "python",
   "nbconvert_exporter": "python",
   "pygments_lexer": "ipython3",
   "version": "3.9.7"
  }
 },
 "nbformat": 4,
 "nbformat_minor": 1
}
