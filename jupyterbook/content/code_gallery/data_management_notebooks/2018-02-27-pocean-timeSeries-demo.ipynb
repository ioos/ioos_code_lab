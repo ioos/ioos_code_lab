{
 "cells": [
  {
   "cell_type": "markdown",
   "metadata": {},
   "source": [
    "# Creating a CF-1.6 timeSeries using pocean\n",
    "\n",
    "Created: 2018-02-27\n",
    "\n",
    "IOOS recommends to data providers that their netCDF files follow the CF-1.6 standard. In this notebook we will create a [CF-1.6 compliant](http://cfconventions.org/latest.html) file that follows file that follows the [Discrete Sampling Geometries](http://cfconventions.org/Data/cf-conventions/cf-conventions-1.7/build/ch09.html) (DSG) of a `timeSeries` from a pandas DataFrame.\n",
    "\n",
    "The `pocean` module can handle all the DSGs described in the CF-1.6 document: `point`, `timeSeries`, `trajectory`, `profile`, `timeSeriesProfile`, and `trajectoryProfile`. These DSGs array may be represented in the netCDF file as:\n",
    "\n",
    "- **orthogonal multidimensional**: when the coordinates along the element axis of the features are identical;\n",
    "- **incomplete multidimensional**: when the features within a collection do not all have the same number but space is not an issue and using longest feature to all features is convenient;\n",
    "- **contiguous ragged**: can be used if the size of each feature is known;\n",
    "- **indexed ragged**: stores the features interleaved along the sample dimension in the data variable.\n",
    "\n",
    "Here we will use the orthogonal multidimensional array to represent time-series data from am hypothetical current meter. We'll use fake data for this example for convenience.\n",
    "\n",
    "Our fake data represents a current meter located at 10 meters depth collected last week."
   ]
  },
  {
   "cell_type": "code",
   "execution_count": 1,
   "metadata": {},
   "outputs": [
    {
     "data": {
      "text/html": [
       "<div>\n",
       "<style scoped>\n",
       "    .dataframe tbody tr th:only-of-type {\n",
       "        vertical-align: middle;\n",
       "    }\n",
       "\n",
       "    .dataframe tbody tr th {\n",
       "        vertical-align: top;\n",
       "    }\n",
       "\n",
       "    .dataframe thead th {\n",
       "        text-align: right;\n",
       "    }\n",
       "</style>\n",
       "<table border=\"1\" class=\"dataframe\">\n",
       "  <thead>\n",
       "    <tr style=\"text-align: right;\">\n",
       "      <th></th>\n",
       "      <th>time</th>\n",
       "      <th>longitude</th>\n",
       "      <th>latitude</th>\n",
       "      <th>depth</th>\n",
       "      <th>u</th>\n",
       "      <th>v</th>\n",
       "      <th>station</th>\n",
       "    </tr>\n",
       "  </thead>\n",
       "  <tbody>\n",
       "    <tr>\n",
       "      <th>95</th>\n",
       "      <td>2022-05-10 15:18:50.687502</td>\n",
       "      <td>-48.6256</td>\n",
       "      <td>-27.5717</td>\n",
       "      <td>10</td>\n",
       "      <td>0.440129</td>\n",
       "      <td>-0.897934</td>\n",
       "      <td>fake buoy</td>\n",
       "    </tr>\n",
       "    <tr>\n",
       "      <th>96</th>\n",
       "      <td>2022-05-11 15:18:50.687502</td>\n",
       "      <td>-48.6256</td>\n",
       "      <td>-27.5717</td>\n",
       "      <td>10</td>\n",
       "      <td>0.348287</td>\n",
       "      <td>-0.937388</td>\n",
       "      <td>fake buoy</td>\n",
       "    </tr>\n",
       "    <tr>\n",
       "      <th>97</th>\n",
       "      <td>2022-05-12 15:18:50.687502</td>\n",
       "      <td>-48.6256</td>\n",
       "      <td>-27.5717</td>\n",
       "      <td>10</td>\n",
       "      <td>0.252964</td>\n",
       "      <td>-0.967476</td>\n",
       "      <td>fake buoy</td>\n",
       "    </tr>\n",
       "    <tr>\n",
       "      <th>98</th>\n",
       "      <td>2022-05-13 15:18:50.687502</td>\n",
       "      <td>-48.6256</td>\n",
       "      <td>-27.5717</td>\n",
       "      <td>10</td>\n",
       "      <td>0.155114</td>\n",
       "      <td>-0.987897</td>\n",
       "      <td>fake buoy</td>\n",
       "    </tr>\n",
       "    <tr>\n",
       "      <th>99</th>\n",
       "      <td>2022-05-14 15:18:50.687502</td>\n",
       "      <td>-48.6256</td>\n",
       "      <td>-27.5717</td>\n",
       "      <td>10</td>\n",
       "      <td>0.055714</td>\n",
       "      <td>-0.998447</td>\n",
       "      <td>fake buoy</td>\n",
       "    </tr>\n",
       "  </tbody>\n",
       "</table>\n",
       "</div>"
      ],
      "text/plain": [
       "                         time  longitude  latitude  depth         u         v  \\\n",
       "95 2022-05-10 15:18:50.687502   -48.6256  -27.5717     10  0.440129 -0.897934   \n",
       "96 2022-05-11 15:18:50.687502   -48.6256  -27.5717     10  0.348287 -0.937388   \n",
       "97 2022-05-12 15:18:50.687502   -48.6256  -27.5717     10  0.252964 -0.967476   \n",
       "98 2022-05-13 15:18:50.687502   -48.6256  -27.5717     10  0.155114 -0.987897   \n",
       "99 2022-05-14 15:18:50.687502   -48.6256  -27.5717     10  0.055714 -0.998447   \n",
       "\n",
       "      station  \n",
       "95  fake buoy  \n",
       "96  fake buoy  \n",
       "97  fake buoy  \n",
       "98  fake buoy  \n",
       "99  fake buoy  "
      ]
     },
     "execution_count": 1,
     "metadata": {},
     "output_type": "execute_result"
    }
   ],
   "source": [
    "from datetime import datetime, timedelta\n",
    "\n",
    "import numpy as np\n",
    "import pandas as pd\n",
    "\n",
    "x = np.arange(100, 110, 0.1)\n",
    "start = datetime.now() - timedelta(days=7)\n",
    "\n",
    "df = pd.DataFrame(\n",
    "    {\n",
    "        \"time\": [start + timedelta(days=n) for n in range(len(x))],\n",
    "        \"longitude\": -48.6256,\n",
    "        \"latitude\": -27.5717,\n",
    "        \"depth\": 10,\n",
    "        \"u\": np.sin(x),\n",
    "        \"v\": np.cos(x),\n",
    "        \"station\": \"fake buoy\",\n",
    "    }\n",
    ")\n",
    "\n",
    "\n",
    "df.tail()"
   ]
  },
  {
   "cell_type": "markdown",
   "metadata": {},
   "source": [
    "Let's take a look at our fake data."
   ]
  },
  {
   "cell_type": "code",
   "execution_count": 2,
   "metadata": {
    "scrolled": false
   },
   "outputs": [
    {
     "data": {
      "text/plain": [
       "(array([19024., 19038., 19052., 19066., 19083., 19097., 19113., 19127.]),\n",
       " [Text(0, 0, ''),\n",
       "  Text(0, 0, ''),\n",
       "  Text(0, 0, ''),\n",
       "  Text(0, 0, ''),\n",
       "  Text(0, 0, ''),\n",
       "  Text(0, 0, ''),\n",
       "  Text(0, 0, ''),\n",
       "  Text(0, 0, '')])"
      ]
     },
     "execution_count": 2,
     "metadata": {},
     "output_type": "execute_result"
    },
    {
     "data": {
      "image/png": "[encoded data removed]",
      "text/plain": [
       "<Figure size 432x288 with 1 Axes>"
      ]
     },
     "metadata": {
      "needs_background": "light"
     },
     "output_type": "display_data"
    }
   ],
   "source": [
    "%matplotlib inline\n",
    "\n",
    "\n",
    "import matplotlib.pyplot as plt\n",
    "from oceans.plotting import stick_plot\n",
    "\n",
    "q = stick_plot([t.to_pydatetime() for t in df[\"time\"]], df[\"u\"], df[\"v\"])\n",
    "\n",
    "ref = 1\n",
    "qk = plt.quiverkey(\n",
    "    q, 0.1, 0.85, ref, f\"{ref} m s$^{-1}$\", labelpos=\"N\", coordinates=\"axes\"\n",
    ")\n",
    "\n",
    "plt.xticks(rotation=70)"
   ]
  },
  {
   "cell_type": "markdown",
   "metadata": {},
   "source": [
    "`pocean.dsg` is relatively simple to use. The user must provide a DataFrame, like the one above, and a dictionary of attributes that maps to the data and adhere to the DSG conventions desired.\n",
    "\n",
    "Because we want the file to work seamlessly with ERDDAP we also added some ERDDAP specific attributes like `cdm_timeseries_variables`, and `subsetVariables`."
   ]
  },
  {
   "cell_type": "code",
   "execution_count": 3,
   "metadata": {},
   "outputs": [],
   "source": [
    "attributes = {\n",
    "    \"global\": {\n",
    "        \"title\": \"Fake mooring\",\n",
    "        \"summary\": \"Vector current meter ADCP @ 10 m\",\n",
    "        \"institution\": \"Restaurant at the end of the universe\",\n",
    "        \"cdm_timeseries_variables\": \"station\",\n",
    "        \"subsetVariables\": \"depth\",\n",
    "        # These are only the required attributions from\n",
    "        # https://ioos.github.io/ioos-metadata/ioos-metadata-profile-v1-2.html#attribution\n",
    "        \"creator_country\": \"USA\",\n",
    "        \"creator_email\": \"fake_email@somedomain.org\",\n",
    "        \"creator_institution\": \"IOOS\",\n",
    "        \"creator_sector\": \"academic\",\n",
    "        \"creator_url\": \"https://ioos.github.io/ioos_code_lab/content/intro.html\",\n",
    "        \"publisher_country\": \"USA\",\n",
    "        \"publisher_email\": \"fake_email@somedomain.org\",\n",
    "        \"publisher_institution\": \"IOOS\",\n",
    "        \"publisher_url\": \"https://ioos.github.io/ioos_code_lab/content/intro.html\",\n",
    "    },\n",
    "    \"longitude\": {\n",
    "        \"units\": \"degrees_east\",\n",
    "        \"standard_name\": \"longitude\",\n",
    "    },\n",
    "    \"latitude\": {\n",
    "        \"units\": \"degrees_north\",\n",
    "        \"standard_name\": \"latitude\",\n",
    "    },\n",
    "    \"z\": {\n",
    "        \"units\": \"m\",\n",
    "        \"standard_name\": \"depth\",\n",
    "        \"positive\": \"down\",\n",
    "    },\n",
    "    \"u\": {\n",
    "        \"units\": \"m/s\",\n",
    "        \"standard_name\": \"eastward_sea_water_velocity\",\n",
    "    },\n",
    "    \"v\": {\n",
    "        \"units\": \"m/s\",\n",
    "        \"standard_name\": \"northward_sea_water_velocity\",\n",
    "    },\n",
    "    \"station\": {\"cf_role\": \"timeseries_id\"},\n",
    "}"
   ]
  },
  {
   "cell_type": "markdown",
   "metadata": {},
   "source": [
    "We also need to map the our data axes to [`pocean`'s defaults](https://github.com/pyoceans/pocean-core/blob/master/pocean/utils.py#L50-L59). This step is not needed if the data axes are already named like the default ones."
   ]
  },
  {
   "cell_type": "code",
   "execution_count": 4,
   "metadata": {},
   "outputs": [],
   "source": [
    "axes = {\"t\": \"time\", \"x\": \"longitude\", \"y\": \"latitude\", \"z\": \"depth\"}"
   ]
  },
  {
   "cell_type": "code",
   "execution_count": 5,
   "metadata": {
    "scrolled": false
   },
   "outputs": [],
   "source": [
    "from pocean.dsg.timeseries.om import OrthogonalMultidimensionalTimeseries\n",
    "from pocean.utils import downcast_dataframe\n",
    "\n",
    "df = downcast_dataframe(df)  # safely cast depth np.int64 to np.int32\n",
    "dsg = OrthogonalMultidimensionalTimeseries.from_dataframe(\n",
    "    df,\n",
    "    output=\"fake_buoy.nc\",\n",
    "    attributes=attributes,\n",
    "    axes=axes,\n",
    ")"
   ]
  },
  {
   "cell_type": "markdown",
   "metadata": {},
   "source": [
    "The `OrthogonalMultidimensionalTimeseries` saves the DataFrame into a CF-1.6 TimeSeries DSG."
   ]
  },
  {
   "cell_type": "code",
   "execution_count": 6,
   "metadata": {},
   "outputs": [
    {
     "name": "stdout",
     "output_type": "stream",
     "text": [
      "netcdf fake_buoy {\r\n",
      "dimensions:\r\n",
      "\tstation = 1 ;\r\n",
      "\ttime = 100 ;\r\n",
      "variables:\r\n",
      "\tint crs ;\r\n",
      "\tdouble time(time) ;\r\n",
      "\t\ttime:units = \"seconds since 1990-01-01 00:00:00Z\" ;\r\n",
      "\t\ttime:standard_name = \"time\" ;\r\n",
      "\t\ttime:axis = \"T\" ;\r\n",
      "\tstring station(station) ;\r\n",
      "\t\tstation:cf_role = \"timeseries_id\" ;\r\n",
      "\t\tstation:long_name = \"station identifier\" ;\r\n",
      "\tdouble latitude(station) ;\r\n",
      "\t\tlatitude:axis = \"Y\" ;\r\n",
      "\t\tlatitude:units = \"degrees_north\" ;\r\n",
      "\t\tlatitude:standard_name = \"latitude\" ;\r\n",
      "\tdouble longitude(station) ;\r\n",
      "\t\tlongitude:axis = \"X\" ;\r\n",
      "\t\tlongitude:units = \"degrees_east\" ;\r\n",
      "\t\tlongitude:standard_name = \"longitude\" ;\r\n",
      "\tint depth(station) ;\r\n",
      "\t\tdepth:_FillValue = -9999 ;\r\n",
      "\t\tdepth:axis = \"Z\" ;\r\n",
      "\tdouble u(station, time) ;\r\n",
      "\t\tu:_FillValue = -9999.9 ;\r\n",
      "\t\tu:units = \"m/s\" ;\r\n",
      "\t\tu:standard_name = \"eastward_sea_water_velocity\" ;\r\n",
      "\t\tu:coordinates = \"time depth longitude latitude\" ;\r\n",
      "\tdouble v(station, time) ;\r\n",
      "\t\tv:_FillValue = -9999.9 ;\r\n",
      "\t\tv:units = \"m/s\" ;\r\n",
      "\t\tv:standard_name = \"northward_sea_water_velocity\" ;\r\n",
      "\t\tv:coordinates = \"time depth longitude latitude\" ;\r\n",
      "\r\n",
      "// global attributes:\r\n",
      "\t\t:Conventions = \"CF-1.6\" ;\r\n",
      "\t\t:date_created = \"2022-02-11T18:18:00Z\" ;\r\n",
      "\t\t:featureType = \"timeseries\" ;\r\n",
      "\t\t:cdm_data_type = \"Timeseries\" ;\r\n",
      "\t\t:title = \"Fake mooring\" ;\r\n",
      "\t\t:summary = \"Vector current meter ADCP @ 10 m\" ;\r\n",
      "\t\t:institution = \"Restaurant at the end of the universe\" ;\r\n",
      "\t\t:cdm_timeseries_variables = \"station\" ;\r\n",
      "\t\t:subsetVariables = \"depth\" ;\r\n",
      "\t\t:creator_country = \"USA\" ;\r\n",
      "\t\t:creator_email = \"fake_email@somedomain.org\" ;\r\n",
      "\t\t:creator_institution = \"IOOS\" ;\r\n",
      "\t\t:creator_sector = \"academic\" ;\r\n",
      "\t\t:creator_url = \"https://ioos.github.io/ioos_code_lab/content/intro.html\" ;\r\n",
      "\t\t:publisher_country = \"USA\" ;\r\n",
      "\t\t:publisher_email = \"fake_email@somedomain.org\" ;\r\n",
      "\t\t:publisher_institution = \"IOOS\" ;\r\n",
      "\t\t:publisher_url = \"https://ioos.github.io/ioos_code_lab/content/intro.html\" ;\r\n",
      "}\r\n"
     ]
    }
   ],
   "source": [
    "!ncdump -h fake_buoy.nc"
   ]
  },
  {
   "cell_type": "markdown",
   "metadata": {},
   "source": [
    "It also outputs the dsg object for inspection. Let us check a few things to see if our objects was created as expected. (Note that some of the metadata was \"free\" due t the built-in defaults in `pocean`."
   ]
  },
  {
   "cell_type": "code",
   "execution_count": 7,
   "metadata": {},
   "outputs": [
    {
     "data": {
      "text/plain": [
       "'timeseries'"
      ]
     },
     "execution_count": 7,
     "metadata": {},
     "output_type": "execute_result"
    }
   ],
   "source": [
    "dsg.getncattr(\"featureType\")"
   ]
  },
  {
   "cell_type": "code",
   "execution_count": 8,
   "metadata": {},
   "outputs": [
    {
     "data": {
      "text/plain": [
       "pocean.dsg.timeseries.om.OrthogonalMultidimensionalTimeseries"
      ]
     },
     "execution_count": 8,
     "metadata": {},
     "output_type": "execute_result"
    }
   ],
   "source": [
    "type(dsg)"
   ]
  },
  {
   "cell_type": "markdown",
   "metadata": {},
   "source": [
    "In addition to standard `netCDF4-python` object `.variables` method `pocean`'s DSGs provides an \"categorized\" version of the variables in the `data_vars`, `ancillary_vars`, and the DSG axes methods."
   ]
  },
  {
   "cell_type": "code",
   "execution_count": 9,
   "metadata": {},
   "outputs": [
    {
     "data": {
      "text/plain": [
       "['eastward_sea_water_velocity', 'northward_sea_water_velocity']"
      ]
     },
     "execution_count": 9,
     "metadata": {},
     "output_type": "execute_result"
    }
   ],
   "source": [
    "[(v.standard_name) for v in dsg.data_vars()]"
   ]
  },
  {
   "cell_type": "code",
   "execution_count": 10,
   "metadata": {},
   "outputs": [
    {
     "data": {
      "text/plain": [
       "[<class 'netCDF4._netCDF4.Variable'>\n",
       " float64 time(time)\n",
       "     units: seconds since 1990-01-01 00:00:00Z\n",
       "     standard_name: time\n",
       "     axis: T\n",
       " unlimited dimensions: \n",
       " current shape = (100,)\n",
       " filling on, default _FillValue of 9.969209968386869e+36 used]"
      ]
     },
     "execution_count": 10,
     "metadata": {},
     "output_type": "execute_result"
    }
   ],
   "source": [
    "dsg.axes(\"T\")"
   ]
  },
  {
   "cell_type": "code",
   "execution_count": 11,
   "metadata": {},
   "outputs": [
    {
     "data": {
      "text/plain": [
       "[<class 'netCDF4._netCDF4.Variable'>\n",
       " int32 depth(station)\n",
       "     _FillValue: -9999\n",
       "     axis: Z\n",
       " unlimited dimensions: \n",
       " current shape = (1,)\n",
       " filling on]"
      ]
     },
     "execution_count": 11,
     "metadata": {},
     "output_type": "execute_result"
    }
   ],
   "source": [
    "dsg.axes(\"Z\")"
   ]
  },
  {
   "cell_type": "code",
   "execution_count": 12,
   "metadata": {},
   "outputs": [
    {
     "data": {
      "text/plain": [
       "{'cf_role': 'timeseries_id', 'long_name': 'station identifier'}"
      ]
     },
     "execution_count": 12,
     "metadata": {},
     "output_type": "execute_result"
    }
   ],
   "source": [
    "dsg.vatts(\"station\")"
   ]
  },
  {
   "cell_type": "code",
   "execution_count": 13,
   "metadata": {},
   "outputs": [
    {
     "data": {
      "text/plain": [
       "array(['fake buoy'], dtype=object)"
      ]
     },
     "execution_count": 13,
     "metadata": {},
     "output_type": "execute_result"
    }
   ],
   "source": [
    "dsg[\"station\"][:]"
   ]
  },
  {
   "cell_type": "code",
   "execution_count": 14,
   "metadata": {},
   "outputs": [
    {
     "data": {
      "text/plain": [
       "{'_FillValue': -9999.9,\n",
       " 'units': 'm/s',\n",
       " 'standard_name': 'eastward_sea_water_velocity',\n",
       " 'coordinates': 'time depth longitude latitude'}"
      ]
     },
     "execution_count": 14,
     "metadata": {},
     "output_type": "execute_result"
    }
   ],
   "source": [
    "dsg.vatts(\"u\")"
   ]
  },
  {
   "cell_type": "markdown",
   "metadata": {},
   "source": [
    "We can easily round-trip back to the pandas DataFrame object."
   ]
  },
  {
   "cell_type": "code",
   "execution_count": 15,
   "metadata": {},
   "outputs": [
    {
     "data": {
      "text/html": [
       "<div>\n",
       "<style scoped>\n",
       "    .dataframe tbody tr th:only-of-type {\n",
       "        vertical-align: middle;\n",
       "    }\n",
       "\n",
       "    .dataframe tbody tr th {\n",
       "        vertical-align: top;\n",
       "    }\n",
       "\n",
       "    .dataframe thead th {\n",
       "        text-align: right;\n",
       "    }\n",
       "</style>\n",
       "<table border=\"1\" class=\"dataframe\">\n",
       "  <thead>\n",
       "    <tr style=\"text-align: right;\">\n",
       "      <th></th>\n",
       "      <th>t</th>\n",
       "      <th>x</th>\n",
       "      <th>y</th>\n",
       "      <th>z</th>\n",
       "      <th>station</th>\n",
       "      <th>u</th>\n",
       "      <th>v</th>\n",
       "    </tr>\n",
       "  </thead>\n",
       "  <tbody>\n",
       "    <tr>\n",
       "      <th>0</th>\n",
       "      <td>2022-02-04 15:18:50.687502</td>\n",
       "      <td>-48.6256</td>\n",
       "      <td>-27.5717</td>\n",
       "      <td>10</td>\n",
       "      <td>fake buoy</td>\n",
       "      <td>-0.506366</td>\n",
       "      <td>0.862319</td>\n",
       "    </tr>\n",
       "    <tr>\n",
       "      <th>1</th>\n",
       "      <td>2022-02-05 15:18:50.687502</td>\n",
       "      <td>-48.6256</td>\n",
       "      <td>-27.5717</td>\n",
       "      <td>10</td>\n",
       "      <td>fake buoy</td>\n",
       "      <td>-0.417748</td>\n",
       "      <td>0.908563</td>\n",
       "    </tr>\n",
       "    <tr>\n",
       "      <th>2</th>\n",
       "      <td>2022-02-06 15:18:50.687502</td>\n",
       "      <td>-48.6256</td>\n",
       "      <td>-27.5717</td>\n",
       "      <td>10</td>\n",
       "      <td>fake buoy</td>\n",
       "      <td>-0.324956</td>\n",
       "      <td>0.945729</td>\n",
       "    </tr>\n",
       "    <tr>\n",
       "      <th>3</th>\n",
       "      <td>2022-02-07 15:18:50.687502</td>\n",
       "      <td>-48.6256</td>\n",
       "      <td>-27.5717</td>\n",
       "      <td>10</td>\n",
       "      <td>fake buoy</td>\n",
       "      <td>-0.228917</td>\n",
       "      <td>0.973446</td>\n",
       "    </tr>\n",
       "    <tr>\n",
       "      <th>4</th>\n",
       "      <td>2022-02-08 15:18:50.687502</td>\n",
       "      <td>-48.6256</td>\n",
       "      <td>-27.5717</td>\n",
       "      <td>10</td>\n",
       "      <td>fake buoy</td>\n",
       "      <td>-0.130591</td>\n",
       "      <td>0.991436</td>\n",
       "    </tr>\n",
       "  </tbody>\n",
       "</table>\n",
       "</div>"
      ],
      "text/plain": [
       "                            t        x        y   z    station         u  \\\n",
       "0  2022-02-04 15:18:50.687502 -48.6256 -27.5717  10  fake buoy -0.506366   \n",
       "1  2022-02-05 15:18:50.687502 -48.6256 -27.5717  10  fake buoy -0.417748   \n",
       "2  2022-02-06 15:18:50.687502 -48.6256 -27.5717  10  fake buoy -0.324956   \n",
       "3  2022-02-07 15:18:50.687502 -48.6256 -27.5717  10  fake buoy -0.228917   \n",
       "4  2022-02-08 15:18:50.687502 -48.6256 -27.5717  10  fake buoy -0.130591   \n",
       "\n",
       "          v  \n",
       "0  0.862319  \n",
       "1  0.908563  \n",
       "2  0.945729  \n",
       "3  0.973446  \n",
       "4  0.991436  "
      ]
     },
     "execution_count": 15,
     "metadata": {},
     "output_type": "execute_result"
    }
   ],
   "source": [
    "dsg.to_dataframe().head()"
   ]
  },
  {
   "cell_type": "markdown",
   "metadata": {},
   "source": [
    "For more information on `pocean` please check the [API docs](https://pyoceans.github.io/pocean-core/docs/api/pocean.html)."
   ]
  }
 ],
 "metadata": {
  "_draft": {
   "nbviewer_url": "https://gist.github.com/b2f37b7724981e80e48bd59311ac9a58"
  },
  "gist": {
   "data": {
    "description": "erddap/adcp.ipynb",
    "public": true
   },
   "id": "b2f37b7724981e80e48bd59311ac9a58"
  },
  "kernelspec": {
   "display_name": "Python 3 (ipykernel)",
   "language": "python",
   "name": "python3"
  },
  "language_info": {
   "codemirror_mode": {
    "name": "ipython",
    "version": 3
   },
   "file_extension": ".py",
   "mimetype": "text/x-python",
   "name": "python",
   "nbconvert_exporter": "python",
   "pygments_lexer": "ipython3",
   "version": "3.9.10"
  }
 },
 "nbformat": 4,
 "nbformat_minor": 2
}
