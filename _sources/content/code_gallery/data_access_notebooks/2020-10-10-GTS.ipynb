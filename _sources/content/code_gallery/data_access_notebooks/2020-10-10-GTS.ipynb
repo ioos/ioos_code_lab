{
 "cells": [
  {
   "cell_type": "code",
   "execution_count": null,
   "metadata": {
    "tags": [
     "remove-cell"
    ]
   },
   "outputs": [],
   "source": [
    "import subprocess\n",
    "import sys\n",
    "\n",
    "COLAB = \"google.colab\" in sys.modules\n",
    "\n",
    "\n",
    "def _install(package):\n",
    "    if COLAB:\n",
    "        ans = input(f\"Install { package }? [y/n]:\")\n",
    "        if ans.lower() in [\"y\", \"yes\"]:\n",
    "            subprocess.check_call(\n",
    "                [sys.executable, \"-m\", \"pip\", \"install\", \"--quiet\", package]\n",
    "            )\n",
    "            print(f\"{ package } installed!\")\n",
    "\n",
    "\n",
    "def _colab_install_missing_deps(deps):\n",
    "    import importlib\n",
    "\n",
    "    for dep in deps:\n",
    "        if importlib.util.find_spec(dep) is None:\n",
    "            if dep == \"iris\":\n",
    "                dep = \"scitools-iris\"\n",
    "            _install(dep)\n",
    "\n",
    "\n",
    "deps = [\"ipyleaflet\"]\n",
    "_colab_install_missing_deps(deps)"
   ]
  },
  {
   "cell_type": "markdown",
   "metadata": {
    "id": "Po0C-dJCrtWM"
   },
   "source": [
    "# IOOS GTS Statistics\n",
    "\n",
    "Created: 2020-10-10\n",
    "\n",
    "Updated: 2023-06-26\n",
    "\n",
    "The Global Telecommunication System (GTS) is a coordinated effort for rapid distribution of observations.\n",
    "The GTS monthly reports show the number of messages released to GTS for each station.\n",
    "The reports contain the following fields:\n",
    "\n",
    "- location ID: Identifier that station messages are released under to the GTS;\n",
    "- region: Designated IOOS Regional Association (only for IOOS regional report);\n",
    "- sponsor: Organization that owns and maintains the station;\n",
    "- Met: Total number of met messages released to the GTS\n",
    "- Wave: Total number of wave messages released to the GTS\n",
    "\n",
    "In this notebook we will explore the statistics of the messages IOOS is releasing to GTS.\n",
    "\n",
    "## Using this notebook\n",
    "\n",
    "1. Pick the appropriate date range of interest.\n",
    "1. Edit the variables `start_date` and `end_date` in the cell below to reflect your time period of interest (use `YYYY-MM-DD` format).\n",
    "1. Run all the cells in the notebook.\n",
    "\n",
    "The first step is to pick the appropriate date range of interest."
   ]
  },
  {
   "cell_type": "code",
   "execution_count": 1,
   "metadata": {
    "id": "em-Mxt5MrtWS"
   },
   "outputs": [],
   "source": [
    "start_date = \"2021-07-01\"\n",
    "end_date = \"2021-10-30\""
   ]
  },
  {
   "cell_type": "markdown",
   "metadata": {
    "id": "wgtBvHNmrtWU"
   },
   "source": [
    "Now we download the data. We will use the NDBC ioosstats server that [hosts the CSV files](https://www.ndbc.noaa.gov/ioosstats/) with the ingest data."
   ]
  },
  {
   "cell_type": "code",
   "execution_count": 2,
   "metadata": {
    "id": "kJjt1UkZrtWV"
   },
   "outputs": [
    {
     "data": {
      "text/html": [
       "<div>\n",
       "<style scoped>\n",
       "    .dataframe tbody tr th:only-of-type {\n",
       "        vertical-align: middle;\n",
       "    }\n",
       "\n",
       "    .dataframe tbody tr th {\n",
       "        vertical-align: top;\n",
       "    }\n",
       "\n",
       "    .dataframe thead th {\n",
       "        text-align: right;\n",
       "    }\n",
       "</style>\n",
       "<table border=\"1\" class=\"dataframe\">\n",
       "  <thead>\n",
       "    <tr style=\"text-align: right;\">\n",
       "      <th></th>\n",
       "      <th>met</th>\n",
       "      <th>wave</th>\n",
       "      <th>time (UTC)</th>\n",
       "    </tr>\n",
       "  </thead>\n",
       "  <tbody>\n",
       "    <tr>\n",
       "      <th>count</th>\n",
       "      <td>695.000000</td>\n",
       "      <td>695.000000</td>\n",
       "      <td>695</td>\n",
       "    </tr>\n",
       "    <tr>\n",
       "      <th>mean</th>\n",
       "      <td>5492.500719</td>\n",
       "      <td>1207.418705</td>\n",
       "      <td>2021-08-16 07:35:49.640287744</td>\n",
       "    </tr>\n",
       "    <tr>\n",
       "      <th>min</th>\n",
       "      <td>0.000000</td>\n",
       "      <td>0.000000</td>\n",
       "      <td>2021-07-01 00:00:00</td>\n",
       "    </tr>\n",
       "    <tr>\n",
       "      <th>25%</th>\n",
       "      <td>0.000000</td>\n",
       "      <td>0.000000</td>\n",
       "      <td>2021-08-01 00:00:00</td>\n",
       "    </tr>\n",
       "    <tr>\n",
       "      <th>50%</th>\n",
       "      <td>2576.000000</td>\n",
       "      <td>0.000000</td>\n",
       "      <td>2021-09-01 00:00:00</td>\n",
       "    </tr>\n",
       "    <tr>\n",
       "      <th>75%</th>\n",
       "      <td>8789.000000</td>\n",
       "      <td>1409.000000</td>\n",
       "      <td>2021-09-16 00:00:00</td>\n",
       "    </tr>\n",
       "    <tr>\n",
       "      <th>max</th>\n",
       "      <td>17814.000000</td>\n",
       "      <td>17814.000000</td>\n",
       "      <td>2021-10-01 00:00:00</td>\n",
       "    </tr>\n",
       "    <tr>\n",
       "      <th>std</th>\n",
       "      <td>5841.635417</td>\n",
       "      <td>2841.529514</td>\n",
       "      <td>NaN</td>\n",
       "    </tr>\n",
       "  </tbody>\n",
       "</table>\n",
       "</div>"
      ],
      "text/plain": [
       "                met          wave                     time (UTC)\n",
       "count    695.000000    695.000000                            695\n",
       "mean    5492.500719   1207.418705  2021-08-16 07:35:49.640287744\n",
       "min        0.000000      0.000000            2021-07-01 00:00:00\n",
       "25%        0.000000      0.000000            2021-08-01 00:00:00\n",
       "50%     2576.000000      0.000000            2021-09-01 00:00:00\n",
       "75%     8789.000000   1409.000000            2021-09-16 00:00:00\n",
       "max    17814.000000  17814.000000            2021-10-01 00:00:00\n",
       "std     5841.635417   2841.529514                            NaN"
      ]
     },
     "execution_count": 2,
     "metadata": {},
     "output_type": "execute_result"
    }
   ],
   "source": [
    "import datetime as dt\n",
    "\n",
    "import pandas as pd\n",
    "\n",
    "# example https://www.ndbc.noaa.gov/ioosstats/rpts/2021_03_ioos_regional.csv\n",
    "\n",
    "start = dt.datetime.strptime(start_date, \"%Y-%m-%d\")\n",
    "end = dt.datetime.strptime(end_date, \"%Y-%m-%d\")\n",
    "\n",
    "# build an array for days between dates\n",
    "date_array = (start + dt.timedelta(days=x) for x in range(0, (end - start).days))\n",
    "\n",
    "# get a unique list of year-months for url build\n",
    "months = []\n",
    "for date_object in date_array:\n",
    "    months.append(date_object.strftime(\"%Y-%m\"))\n",
    "months = sorted(set(months))\n",
    "\n",
    "df = pd.DataFrame(columns=[\"locationID\", \"region\", \"sponsor\", \"met\", \"wave\"])\n",
    "for month in months:\n",
    "    url = f\"https://www.ndbc.noaa.gov/ioosstats/rpts/{month.replace(\"-\", \"_\")}_ioos_regional.csv\"\n",
    "    df1 = pd.read_csv(url, dtype={\"met\": float, \"wave\": float})\n",
    "    df1[\"time (UTC)\"] = pd.to_datetime(month)\n",
    "    df = pd.concat([df, df1])\n",
    "\n",
    "df.describe()"
   ]
  },
  {
   "cell_type": "code",
   "execution_count": 3,
   "metadata": {
    "id": "N3jFAjCvrtWV"
   },
   "outputs": [
    {
     "data": {
      "text/plain": [
       "<DatetimeArray>\n",
       "['2021-07-01 00:00:00', '2021-08-01 00:00:00', '2021-09-01 00:00:00',\n",
       " '2021-10-01 00:00:00']\n",
       "Length: 4, dtype: datetime64[ns]"
      ]
     },
     "execution_count": 3,
     "metadata": {},
     "output_type": "execute_result"
    }
   ],
   "source": [
    "df[\"locationID\"] = df[\"locationID\"].str.lower()\n",
    "\n",
    "df[\"time (UTC)\"].unique()"
   ]
  },
  {
   "cell_type": "markdown",
   "metadata": {
    "id": "WnuNU5eHrtWW"
   },
   "source": [
    "The table has all the ingest data. We can now explore it grouping the data by IOOS Regional Association (RA)."
   ]
  },
  {
   "cell_type": "code",
   "execution_count": 4,
   "metadata": {
    "id": "ZdGeaMPfrtWW",
    "scrolled": false
   },
   "outputs": [
    {
     "data": {
      "text/plain": [
       "Text(0, 0.5, '# observations')"
      ]
     },
     "execution_count": 4,
     "metadata": {},
     "output_type": "execute_result"
    },
    {
     "data": {
      "image/png": "[encoded data removed]",
      "text/plain": [
       "<Figure size 1100x375 with 1 Axes>"
      ]
     },
     "metadata": {},
     "output_type": "display_data"
    }
   ],
   "source": [
    "groups = df[[\"met\", \"wave\", \"region\"]].groupby(\"region\")\n",
    "\n",
    "ax = groups.sum().plot(kind=\"bar\", figsize=(11, 3.75))\n",
    "ax.yaxis.get_major_formatter().set_scientific(False)\n",
    "ax.set_ylabel(\"# observations\")"
   ]
  },
  {
   "cell_type": "markdown",
   "metadata": {
    "id": "5oP7aFrErtWX"
   },
   "source": [
    "Let us check the monthly sum of data released both for individual met and wave and the totals."
   ]
  },
  {
   "cell_type": "code",
   "execution_count": 5,
   "metadata": {
    "id": "keIBv28trtWX"
   },
   "outputs": [],
   "source": [
    "import pandas as pd\n",
    "\n",
    "df[\"time (UTC)\"] = pd.to_datetime(df[\"time (UTC)\"])\n",
    "\n",
    "# Remove time-zone info for easier plotting, it is all UTC.\n",
    "df[\"time (UTC)\"] = df[\"time (UTC)\"].dt.tz_localize(None)\n",
    "\n",
    "groups = df.groupby(pd.Grouper(key=\"time (UTC)\", freq=\"M\"))"
   ]
  },
  {
   "cell_type": "markdown",
   "metadata": {
    "id": "9_iEHmiTrtWY"
   },
   "source": [
    "We can create a table of observations per month,"
   ]
  },
  {
   "cell_type": "code",
   "execution_count": 6,
   "metadata": {
    "id": "JxcIjc05rtWY"
   },
   "outputs": [
    {
     "name": "stdout",
     "output_type": "stream",
     "text": [
      "Monthly totals:\n",
      "                  met      wave      total\n",
      "time (UTC)                                \n",
      "2021-07     1000690.0  227112.0  1227802.0\n",
      "2021-08      967746.0  226282.0  1194028.0\n",
      "2021-09      923172.0  205020.0  1128192.0\n",
      "2021-10      925680.0  180742.0  1106422.0\n",
      "\n",
      "Sum for time period 2021-07 to 2021-10: 4656444.0\n"
     ]
    }
   ],
   "source": [
    "s = groups[[\"met\", \"wave\"]].sum()  # reducing the columns so the summary is digestable\n",
    "totals = s.assign(total=s[\"met\"] + s[\"wave\"])\n",
    "totals.index = totals.index.to_period(\"M\")\n",
    "\n",
    "print(f\"Monthly totals:\\n{totals}\\n\")\n",
    "\n",
    "print(\n",
    "    f\"Sum for time period {totals.index.min()} to {totals.index.max()}: {totals['total'].sum()}\"\n",
    ")"
   ]
  },
  {
   "cell_type": "markdown",
   "metadata": {
    "id": "mkEpqlRLrtWZ"
   },
   "source": [
    "and visualize it in a bar plot."
   ]
  },
  {
   "cell_type": "code",
   "execution_count": 7,
   "metadata": {
    "id": "WEz1GN6zrtWZ"
   },
   "outputs": [
    {
     "data": {
      "text/plain": [
       "Text(0, 0.5, '# observations')"
      ]
     },
     "execution_count": 7,
     "metadata": {},
     "output_type": "execute_result"
    },
    {
     "data": {
      "image/png": "[encoded data removed]",
      "text/plain": [
       "<Figure size 1100x375 with 1 Axes>"
      ]
     },
     "metadata": {},
     "output_type": "display_data"
    }
   ],
   "source": [
    "import matplotlib.pyplot as plt\n",
    "\n",
    "fig, ax = plt.subplots(figsize=(11, 3.75))\n",
    "\n",
    "s.plot(ax=ax, kind=\"bar\")\n",
    "ax.set_xticklabels(\n",
    "    labels=s.index.to_series().dt.strftime(\"%Y-%b\"),\n",
    "    rotation=70,\n",
    "    rotation_mode=\"anchor\",\n",
    "    ha=\"right\",\n",
    ")\n",
    "ax.yaxis.get_major_formatter().set_scientific(False)\n",
    "ax.set_ylabel(\"# observations\")"
   ]
  },
  {
   "cell_type": "markdown",
   "metadata": {
    "id": "Pt3yasWfrtWa"
   },
   "source": [
    "Those plots are interesting to understand the RAs role in the GTS ingest and how much data is being released over time. It would be nice to see those per buoy on a map.\n",
    "\n",
    "For that we need to get the position of the NDBC buoys. Let's get a table of all the buoys and match with what we have in the GTS data."
   ]
  },
  {
   "cell_type": "code",
   "execution_count": 8,
   "metadata": {
    "id": "lTcddYcJrtWa",
    "scrolled": false
   },
   "outputs": [
    {
     "data": {
      "text/html": [
       "<div>\n",
       "<style scoped>\n",
       "    .dataframe tbody tr th:only-of-type {\n",
       "        vertical-align: middle;\n",
       "    }\n",
       "\n",
       "    .dataframe tbody tr th {\n",
       "        vertical-align: top;\n",
       "    }\n",
       "\n",
       "    .dataframe thead th {\n",
       "        text-align: right;\n",
       "    }\n",
       "</style>\n",
       "<table border=\"1\" class=\"dataframe\">\n",
       "  <thead>\n",
       "    <tr style=\"text-align: right;\">\n",
       "      <th></th>\n",
       "      <th>lat</th>\n",
       "      <th>lon</th>\n",
       "      <th>elev</th>\n",
       "      <th>name</th>\n",
       "      <th>owner</th>\n",
       "      <th>pgm</th>\n",
       "      <th>type</th>\n",
       "      <th>met</th>\n",
       "      <th>currents</th>\n",
       "      <th>waterquality</th>\n",
       "      <th>dart</th>\n",
       "      <th>seq</th>\n",
       "    </tr>\n",
       "    <tr>\n",
       "      <th>id</th>\n",
       "      <th></th>\n",
       "      <th></th>\n",
       "      <th></th>\n",
       "      <th></th>\n",
       "      <th></th>\n",
       "      <th></th>\n",
       "      <th></th>\n",
       "      <th></th>\n",
       "      <th></th>\n",
       "      <th></th>\n",
       "      <th></th>\n",
       "      <th></th>\n",
       "    </tr>\n",
       "  </thead>\n",
       "  <tbody>\n",
       "    <tr>\n",
       "      <th>0y2w3</th>\n",
       "      <td>44.794</td>\n",
       "      <td>-87.313</td>\n",
       "      <td>179</td>\n",
       "      <td>Sturgeon Bay CG Station, WI</td>\n",
       "      <td>U.S.C.G. Marine Reporting Stations</td>\n",
       "      <td>IOOS Partners</td>\n",
       "      <td>fixed</td>\n",
       "      <td>n</td>\n",
       "      <td>n</td>\n",
       "      <td>n</td>\n",
       "      <td>n</td>\n",
       "      <td>NaN</td>\n",
       "    </tr>\n",
       "    <tr>\n",
       "      <th>13001</th>\n",
       "      <td>12.000</td>\n",
       "      <td>-23.000</td>\n",
       "      <td>0</td>\n",
       "      <td>NE Extension</td>\n",
       "      <td>Prediction and Research Moored Array in the At...</td>\n",
       "      <td>International Partners</td>\n",
       "      <td>buoy</td>\n",
       "      <td>y</td>\n",
       "      <td>n</td>\n",
       "      <td>n</td>\n",
       "      <td>n</td>\n",
       "      <td>NaN</td>\n",
       "    </tr>\n",
       "    <tr>\n",
       "      <th>13002</th>\n",
       "      <td>21.000</td>\n",
       "      <td>-23.000</td>\n",
       "      <td>0</td>\n",
       "      <td>NE Extension</td>\n",
       "      <td>Prediction and Research Moored Array in the At...</td>\n",
       "      <td>International Partners</td>\n",
       "      <td>buoy</td>\n",
       "      <td>y</td>\n",
       "      <td>n</td>\n",
       "      <td>n</td>\n",
       "      <td>n</td>\n",
       "      <td>NaN</td>\n",
       "    </tr>\n",
       "    <tr>\n",
       "      <th>13008</th>\n",
       "      <td>15.000</td>\n",
       "      <td>-38.000</td>\n",
       "      <td>0</td>\n",
       "      <td>Reggae</td>\n",
       "      <td>Prediction and Research Moored Array in the At...</td>\n",
       "      <td>International Partners</td>\n",
       "      <td>buoy</td>\n",
       "      <td>y</td>\n",
       "      <td>n</td>\n",
       "      <td>n</td>\n",
       "      <td>n</td>\n",
       "      <td>NaN</td>\n",
       "    </tr>\n",
       "    <tr>\n",
       "      <th>13009</th>\n",
       "      <td>8.000</td>\n",
       "      <td>-38.000</td>\n",
       "      <td>0</td>\n",
       "      <td>Lambada</td>\n",
       "      <td>Prediction and Research Moored Array in the At...</td>\n",
       "      <td>International Partners</td>\n",
       "      <td>buoy</td>\n",
       "      <td>n</td>\n",
       "      <td>n</td>\n",
       "      <td>n</td>\n",
       "      <td>n</td>\n",
       "      <td>NaN</td>\n",
       "    </tr>\n",
       "  </tbody>\n",
       "</table>\n",
       "</div>"
      ],
      "text/plain": [
       "          lat     lon elev                         name  \\\n",
       "id                                                        \n",
       "0y2w3  44.794 -87.313  179  Sturgeon Bay CG Station, WI   \n",
       "13001  12.000 -23.000    0                 NE Extension   \n",
       "13002  21.000 -23.000    0                 NE Extension   \n",
       "13008  15.000 -38.000    0                       Reggae   \n",
       "13009   8.000 -38.000    0                      Lambada   \n",
       "\n",
       "                                                   owner  \\\n",
       "id                                                         \n",
       "0y2w3                 U.S.C.G. Marine Reporting Stations   \n",
       "13001  Prediction and Research Moored Array in the At...   \n",
       "13002  Prediction and Research Moored Array in the At...   \n",
       "13008  Prediction and Research Moored Array in the At...   \n",
       "13009  Prediction and Research Moored Array in the At...   \n",
       "\n",
       "                          pgm   type met currents waterquality dart  seq  \n",
       "id                                                                        \n",
       "0y2w3           IOOS Partners  fixed   n        n            n    n  NaN  \n",
       "13001  International Partners   buoy   y        n            n    n  NaN  \n",
       "13002  International Partners   buoy   y        n            n    n  NaN  \n",
       "13008  International Partners   buoy   y        n            n    n  NaN  \n",
       "13009  International Partners   buoy   n        n            n    n  NaN  "
      ]
     },
     "execution_count": 8,
     "metadata": {},
     "output_type": "execute_result"
    }
   ],
   "source": [
    "import xml.etree.ElementTree as et\n",
    "\n",
    "import pandas as pd\n",
    "import requests\n",
    "\n",
    "\n",
    "def make_ndbc_table():\n",
    "    url = \"https://www.ndbc.noaa.gov/activestations.xml\"\n",
    "    with requests.get(url) as r:\n",
    "        elems = et.fromstring(r.content)\n",
    "    df = pd.DataFrame([elem.attrib for elem in list(elems)])\n",
    "    df[\"id\"] = df[\"id\"].str.lower()\n",
    "    return df.set_index(\"id\")\n",
    "\n",
    "\n",
    "buoys = make_ndbc_table()\n",
    "buoys[\"lon\"] = buoys[\"lon\"].astype(float)\n",
    "buoys[\"lat\"] = buoys[\"lat\"].astype(float)\n",
    "\n",
    "buoys.head()"
   ]
  },
  {
   "cell_type": "markdown",
   "metadata": {
    "id": "WxMZlZVdrtWa"
   },
   "source": [
    "For simplificty we will plot the total of observations per buoys."
   ]
  },
  {
   "cell_type": "code",
   "execution_count": 9,
   "metadata": {},
   "outputs": [
    {
     "data": {
      "text/html": [
       "<div>\n",
       "<style scoped>\n",
       "    .dataframe tbody tr th:only-of-type {\n",
       "        vertical-align: middle;\n",
       "    }\n",
       "\n",
       "    .dataframe tbody tr th {\n",
       "        vertical-align: top;\n",
       "    }\n",
       "\n",
       "    .dataframe thead th {\n",
       "        text-align: right;\n",
       "    }\n",
       "</style>\n",
       "<table border=\"1\" class=\"dataframe\">\n",
       "  <thead>\n",
       "    <tr style=\"text-align: right;\">\n",
       "      <th></th>\n",
       "      <th>locationID</th>\n",
       "      <th>region</th>\n",
       "      <th>sponsor</th>\n",
       "      <th>met</th>\n",
       "      <th>wave</th>\n",
       "      <th>time (UTC)</th>\n",
       "    </tr>\n",
       "  </thead>\n",
       "  <tbody>\n",
       "    <tr>\n",
       "      <th>0</th>\n",
       "      <td>46108</td>\n",
       "      <td>AOOS</td>\n",
       "      <td>ALASKA OCEAN OBSERVING SYSTEM</td>\n",
       "      <td>0.0</td>\n",
       "      <td>0.0</td>\n",
       "      <td>2021-07-01</td>\n",
       "    </tr>\n",
       "    <tr>\n",
       "      <th>1</th>\n",
       "      <td>haxa2</td>\n",
       "      <td>AOOS</td>\n",
       "      <td>MARINE EXCHANGE OF ALASKA</td>\n",
       "      <td>8760.0</td>\n",
       "      <td>0.0</td>\n",
       "      <td>2021-07-01</td>\n",
       "    </tr>\n",
       "    <tr>\n",
       "      <th>2</th>\n",
       "      <td>jmla2</td>\n",
       "      <td>AOOS</td>\n",
       "      <td>MARINE EXCHANGE OF ALASKA</td>\n",
       "      <td>8600.0</td>\n",
       "      <td>0.0</td>\n",
       "      <td>2021-07-01</td>\n",
       "    </tr>\n",
       "    <tr>\n",
       "      <th>3</th>\n",
       "      <td>nkla2</td>\n",
       "      <td>AOOS</td>\n",
       "      <td>MARINE EXCHANGE OF ALASKA</td>\n",
       "      <td>8774.0</td>\n",
       "      <td>0.0</td>\n",
       "      <td>2021-07-01</td>\n",
       "    </tr>\n",
       "    <tr>\n",
       "      <th>4</th>\n",
       "      <td>gixa2</td>\n",
       "      <td>AOOS</td>\n",
       "      <td>MARINE EXCHANGE OF ALASKA</td>\n",
       "      <td>8534.0</td>\n",
       "      <td>0.0</td>\n",
       "      <td>2021-07-01</td>\n",
       "    </tr>\n",
       "    <tr>\n",
       "      <th>...</th>\n",
       "      <td>...</td>\n",
       "      <td>...</td>\n",
       "      <td>...</td>\n",
       "      <td>...</td>\n",
       "      <td>...</td>\n",
       "      <td>...</td>\n",
       "    </tr>\n",
       "    <tr>\n",
       "      <th>169</th>\n",
       "      <td>ssbn7</td>\n",
       "      <td>SECOORA</td>\n",
       "      <td>COASTAL OCEAN RESEARCH AND MONITORING PROGRAM</td>\n",
       "      <td>0.0</td>\n",
       "      <td>2940.0</td>\n",
       "      <td>2021-10-01</td>\n",
       "    </tr>\n",
       "    <tr>\n",
       "      <th>170</th>\n",
       "      <td>41159</td>\n",
       "      <td>SECOORA</td>\n",
       "      <td>COASTAL OCEAN RESEARCH AND MONITORING PROGRAM</td>\n",
       "      <td>0.0</td>\n",
       "      <td>2716.0</td>\n",
       "      <td>2021-10-01</td>\n",
       "    </tr>\n",
       "    <tr>\n",
       "      <th>171</th>\n",
       "      <td>sipf1</td>\n",
       "      <td>SECOORA</td>\n",
       "      <td>FLORIDA INSTITUTE OF TECHNOLOGY</td>\n",
       "      <td>0.0</td>\n",
       "      <td>0.0</td>\n",
       "      <td>2021-10-01</td>\n",
       "    </tr>\n",
       "    <tr>\n",
       "      <th>172</th>\n",
       "      <td>42098</td>\n",
       "      <td>SECOORA</td>\n",
       "      <td>GREATER TAMPA BAY MARINE ADVISORY COUNCIL PORTS</td>\n",
       "      <td>0.0</td>\n",
       "      <td>2872.0</td>\n",
       "      <td>2021-10-01</td>\n",
       "    </tr>\n",
       "    <tr>\n",
       "      <th>173</th>\n",
       "      <td>44095</td>\n",
       "      <td>SECOORA</td>\n",
       "      <td>UNIVERSITY OF NORTH CAROLINA COASTAL STUDIES</td>\n",
       "      <td>0.0</td>\n",
       "      <td>2916.0</td>\n",
       "      <td>2021-10-01</td>\n",
       "    </tr>\n",
       "  </tbody>\n",
       "</table>\n",
       "<p>695 rows × 6 columns</p>\n",
       "</div>"
      ],
      "text/plain": [
       "    locationID   region                                          sponsor  \\\n",
       "0        46108     AOOS                    ALASKA OCEAN OBSERVING SYSTEM   \n",
       "1        haxa2     AOOS                        MARINE EXCHANGE OF ALASKA   \n",
       "2        jmla2     AOOS                        MARINE EXCHANGE OF ALASKA   \n",
       "3        nkla2     AOOS                        MARINE EXCHANGE OF ALASKA   \n",
       "4        gixa2     AOOS                        MARINE EXCHANGE OF ALASKA   \n",
       "..         ...      ...                                              ...   \n",
       "169      ssbn7  SECOORA    COASTAL OCEAN RESEARCH AND MONITORING PROGRAM   \n",
       "170      41159  SECOORA    COASTAL OCEAN RESEARCH AND MONITORING PROGRAM   \n",
       "171      sipf1  SECOORA                  FLORIDA INSTITUTE OF TECHNOLOGY   \n",
       "172      42098  SECOORA  GREATER TAMPA BAY MARINE ADVISORY COUNCIL PORTS   \n",
       "173      44095  SECOORA     UNIVERSITY OF NORTH CAROLINA COASTAL STUDIES   \n",
       "\n",
       "        met    wave time (UTC)  \n",
       "0       0.0     0.0 2021-07-01  \n",
       "1    8760.0     0.0 2021-07-01  \n",
       "2    8600.0     0.0 2021-07-01  \n",
       "3    8774.0     0.0 2021-07-01  \n",
       "4    8534.0     0.0 2021-07-01  \n",
       "..      ...     ...        ...  \n",
       "169     0.0  2940.0 2021-10-01  \n",
       "170     0.0  2716.0 2021-10-01  \n",
       "171     0.0     0.0 2021-10-01  \n",
       "172     0.0  2872.0 2021-10-01  \n",
       "173     0.0  2916.0 2021-10-01  \n",
       "\n",
       "[695 rows x 6 columns]"
      ]
     },
     "execution_count": 9,
     "metadata": {},
     "output_type": "execute_result"
    }
   ],
   "source": [
    "df"
   ]
  },
  {
   "cell_type": "code",
   "execution_count": 10,
   "metadata": {
    "id": "cDqw1MNzrtWa",
    "scrolled": false
   },
   "outputs": [],
   "source": [
    "groups = df[[\"locationID\", \"met\", \"wave\"]].groupby(\"locationID\")\n",
    "location_sum = groups.sum()"
   ]
  },
  {
   "cell_type": "code",
   "execution_count": 11,
   "metadata": {
    "id": "iZHCo1MartWa"
   },
   "outputs": [],
   "source": [
    "buoys = buoys.T\n",
    "\n",
    "extra_cols = pd.DataFrame({k: buoys.get(k) for k, row in location_sum.iterrows()}).T\n",
    "extra_cols = extra_cols[[\"lat\", \"lon\", \"type\", \"pgm\", \"name\"]]\n",
    "\n",
    "map_df = pd.concat([location_sum, extra_cols], axis=1)\n",
    "map_df = map_df.loc[map_df[\"met\"] + map_df[\"wave\"] > 0]"
   ]
  },
  {
   "cell_type": "markdown",
   "metadata": {
    "id": "hEMYsV5LrtWb"
   },
   "source": [
    "And now we can overlay an HTML table with the buoy information and ingest data totals."
   ]
  },
  {
   "cell_type": "code",
   "execution_count": 12,
   "metadata": {
    "id": "IMXl4O1ErtWb"
   },
   "outputs": [
    {
     "data": {
      "application/vnd.jupyter.widget-view+json": {
       "model_id": "094e65422fe54788b9879ae297563fd8",
       "version_major": 2,
       "version_minor": 0
      },
      "text/plain": [
       "Map(center=[35, -95], controls=(ZoomControl(options=['position', 'zoom_in_text', 'zoom_in_title', 'zoom_out_te…"
      ]
     },
     "execution_count": 12,
     "metadata": {},
     "output_type": "execute_result"
    }
   ],
   "source": [
    "from ipyleaflet import AwesomeIcon, FullScreenControl, LegendControl, Map, Marker\n",
    "from ipywidgets import HTML\n",
    "\n",
    "m = Map(center=(35, -95), zoom=4)\n",
    "m.add_control(FullScreenControl())\n",
    "\n",
    "legend = LegendControl(\n",
    "    {\"wave\": \"#FF0000\", \"met\": \"#FFA500\", \"both\": \"#008000\"},\n",
    "    name=\"GTS\",\n",
    "    position=\"bottomright\",\n",
    ")\n",
    "m.add_control(legend)\n",
    "\n",
    "\n",
    "def make_popup(row):\n",
    "    classes = \"table table-striped table-hover table-condensed table-responsive\"\n",
    "    return pd.DataFrame(row[[\"met\", \"wave\", \"type\", \"name\", \"pgm\"]]).to_html(\n",
    "        classes=classes\n",
    "    )\n",
    "\n",
    "\n",
    "for k, row in map_df.iterrows():\n",
    "    if (row[\"met\"] + row[\"wave\"]) > 0:\n",
    "        location = row[\"lat\"], row[\"lon\"]\n",
    "        if row[\"met\"] == 0:\n",
    "            color = \"red\"\n",
    "        elif row[\"wave\"] == 0:\n",
    "            color = \"orange\"\n",
    "        else:\n",
    "            color = \"green\"\n",
    "        marker = Marker(\n",
    "            draggable=False,\n",
    "            icon=AwesomeIcon(name=\"life-ring\", marker_color=color),\n",
    "            location=location,\n",
    "        )\n",
    "        msg = HTML()\n",
    "        msg.value = make_popup(row)\n",
    "        marker.popup = msg\n",
    "        m.add_layer(marker)\n",
    "m"
   ]
  }
 ],
 "metadata": {
  "colab": {
   "include_colab_link": true,
   "name": "2020-10-10-GTS.ipynb",
   "provenance": []
  },
  "kernelspec": {
   "display_name": "Python 3 (ipykernel)",
   "language": "python",
   "name": "python3"
  },
  "language_info": {
   "codemirror_mode": {
    "name": "ipython",
    "version": 3
   },
   "file_extension": ".py",
   "mimetype": "text/x-python",
   "name": "python",
   "nbconvert_exporter": "python",
   "pygments_lexer": "ipython3",
   "version": "3.12.2"
  },
  "widgets": {
   "application/vnd.jupyter.widget-state+json": {
    "state": {
     "0003a619928d4b5285193da5828ccc98": {
      "model_module": "jupyter-leaflet",
      "model_module_version": "^0.17.0",
      "model_name": "LeafletMarkerModel",
      "state": {
       "_model_module_version": "^0.17.0",
       "_view_module_version": "^0.17.0",
       "draggable": false,
       "icon": "IPY_MODEL_477378053de843d3a8dc7e544bcde673",
       "location": [
        42.491,
        -87.779
       ],
       "options": [
        "alt",
        "draggable",
        "keyboard",
        "rise_offset",
        "rise_on_hover",
        "rotation_angle",
        "rotation_origin",
        "title",
        "z_index_offset"
       ],
       "popup": "IPY_MODEL_8adedf96fc984281bfe48a3dc9e169fe"
      }
     },
     "001e3005ada94508ac17b45358a1822f": {
      "model_module": "@jupyter-widgets/controls",
      "model_module_version": "1.5.0",
      "model_name": "DescriptionStyleModel",
      "state": {
       "description_width": ""
      }
     },
     "0048b5c40dc54049b0147f0a37ea248f": {
      "model_module": "@jupyter-widgets/base",
      "model_module_version": "1.2.0",
      "model_name": "LayoutModel",
      "state": {}
     },
     "00c75d83c7274e16829492fe7f5d668e": {
      "model_module": "jupyter-leaflet",
      "model_module_version": "^0.15.0",
      "model_name": "LeafletAwesomeIconModel",
      "state": {
       "_model_module_version": "^0.15.0",
       "_view_module_version": "^0.15.0",
       "icon_color": "white",
       "marker_color": "orange",
       "name": "life-ring"
      }
     },
     "00c775c8504a479ab0e21f50c2c85d73": {
      "model_module": "jupyter-leaflet",
      "model_module_version": "^0.15.0",
      "model_name": "LeafletMarkerModel",
      "state": {
       "_model_module_version": "^0.15.0",
       "_view_module_version": "^0.15.0",
       "draggable": false,
       "icon": "IPY_MODEL_a9b7cfb36611493e81a36776ff4dcb76",
       "location": [
        43.179,
        -70.426
       ],
       "options": [
        "alt",
        "draggable",
        "keyboard",
        "rise_offset",
        "rise_on_hover",
        "rotation_angle",
        "rotation_origin",
        "title",
        "z_index_offset"
       ],
       "popup": "IPY_MODEL_2d4ca3482930491d941ae16894276a1a"
      }
     },
     "011bbc5a7dce4c4f8ee27a58e176e844": {
      "model_module": "jupyter-leaflet",
      "model_module_version": "^0.17.0",
      "model_name": "LeafletMarkerModel",
      "state": {
       "_model_module_version": "^0.17.0",
       "_view_module_version": "^0.17.0",
       "draggable": false,
       "icon": "IPY_MODEL_e55750f0eeed4af4b8226faec34b1da9",
       "location": [
        26.262,
        -97.285
       ],
       "options": [
        "alt",
        "draggable",
        "keyboard",
        "rise_offset",
        "rise_on_hover",
        "rotation_angle",
        "rotation_origin",
        "title",
        "z_index_offset"
       ],
       "popup": "IPY_MODEL_402d28615648422296d6fceed8a7057b"
      }
     },
     "0120d43abbd647e88940a6a6e4ce4bb3": {
      "model_module": "jupyter-leaflet",
      "model_module_version": "^0.15.0",
      "model_name": "LeafletMarkerModel",
      "state": {
       "_model_module_version": "^0.15.0",
       "_view_module_version": "^0.15.0",
       "draggable": false,
       "icon": "IPY_MODEL_2679d5f417c94ff995db2046c8af193c",
       "location": [
        42.491,
        -87.779
       ],
       "options": [
        "alt",
        "draggable",
        "keyboard",
        "rise_offset",
        "rise_on_hover",
        "rotation_angle",
        "rotation_origin",
        "title",
        "z_index_offset"
       ],
       "popup": "IPY_MODEL_e9c70087ca154a1d97e1ec79e9acb886"
      }
     },
     "0130133617f241be8915268a397e94fb": {
      "model_module": "jupyter-leaflet",
      "model_module_version": "^0.17.0",
      "model_name": "LeafletMarkerModel",
      "state": {
       "_model_module_version": "^0.17.0",
       "_view_module_version": "^0.17.0",
       "draggable": false,
       "icon": "IPY_MODEL_d1957306f71c46ab96ecd95971132ef0",
       "location": [
        59.596,
        -151.829
       ],
       "options": [
        "alt",
        "draggable",
        "keyboard",
        "rise_offset",
        "rise_on_hover",
        "rotation_angle",
        "rotation_origin",
        "title",
        "z_index_offset"
       ],
       "popup": "IPY_MODEL_1eb1fa16042a4ab7ae7b5f7380d4a1cd"
      }
     },
     "01420990afdf47e2817a2db6826687b3": {
      "model_module": "jupyter-leaflet",
      "model_module_version": "^0.15.0",
      "model_name": "LeafletFullScreenControlModel",
      "state": {
       "_model_module_version": "^0.15.0",
       "_view_module_version": "^0.15.0",
       "options": [
        "position"
       ]
      }
     },
     "017840cc327442179fb8ef8df6a399c3": {
      "model_module": "@jupyter-widgets/base",
      "model_module_version": "1.2.0",
      "model_name": "LayoutModel",
      "state": {}
     },
     "01bfcc394f0b45bda0907fbcca17c532": {
      "model_module": "@jupyter-widgets/controls",
      "model_module_version": "1.5.0",
      "model_name": "HTMLModel",
      "state": {
       "layout": "IPY_MODEL_867198fbe3c54f228cdde5eb6d364629",
       "style": "IPY_MODEL_0b98c1274e0d41ef9ed8bf39da73b4b2",
       "value": "<table border=\"1\" class=\"dataframe table table-striped table-hover table-condensed table-responsive\">\n  <thead>\n    <tr style=\"text-align: right;\">\n      <th></th>\n      <th>42085</th>\n    </tr>\n  </thead>\n  <tbody>\n    <tr>\n      <th>met</th>\n      <td>34254.0</td>\n    </tr>\n    <tr>\n      <th>wave</th>\n      <td>5832.0</td>\n    </tr>\n    <tr>\n      <th>type</th>\n      <td>buoy</td>\n    </tr>\n    <tr>\n      <th>name</th>\n      <td>Southeast of Ponce, PR</td>\n    </tr>\n    <tr>\n      <th>pgm</th>\n      <td>IOOS Partners</td>\n    </tr>\n  </tbody>\n</table>"
      }
     },
     "02205e4470404fb387af1534c474f7fd": {
      "model_module": "@jupyter-widgets/controls",
      "model_module_version": "1.5.0",
      "model_name": "DescriptionStyleModel",
      "state": {
       "description_width": ""
      }
     },
     "02232709f72245d39500ea8514a42c03": {
      "model_module": "jupyter-leaflet",
      "model_module_version": "^0.17.0",
      "model_name": "LeafletAwesomeIconModel",
      "state": {
       "_model_module_version": "^0.17.0",
       "_view_module_version": "^0.17.0",
       "icon_color": "white",
       "marker_color": "green",
       "name": "life-ring"
      }
     },
     "022ab300cef84e94bc24d2a0dac91f82": {
      "model_module": "jupyter-leaflet",
      "model_module_version": "^0.17.0",
      "model_name": "LeafletMarkerModel",
      "state": {
       "_model_module_version": "^0.17.0",
       "_view_module_version": "^0.17.0",
       "draggable": false,
       "icon": "IPY_MODEL_fc23c621f1fc42a795ed8a979fbdd950",
       "location": [
        58.177,
        -135.052
       ],
       "options": [
        "alt",
        "draggable",
        "keyboard",
        "rise_offset",
        "rise_on_hover",
        "rotation_angle",
        "rotation_origin",
        "title",
        "z_index_offset"
       ],
       "popup": "IPY_MODEL_b262d427d9af4a1b85ddd019664a61c4"
      }
     },
     "025029d7f8894d979698b9d9cbc5782c": {
      "model_module": "@jupyter-widgets/controls",
      "model_module_version": "1.5.0",
      "model_name": "HTMLModel",
      "state": {
       "layout": "IPY_MODEL_38cc7efed2344b9997b6c15f2542507b",
       "style": "IPY_MODEL_2b7f4d1b72014dc8ab86fa1239252264",
       "value": "<table border=\"1\" class=\"dataframe table table-striped table-hover table-condensed table-responsive\">\n  <thead>\n    <tr style=\"text-align: right;\">\n      <th></th>\n      <th>nkxa2</th>\n    </tr>\n  </thead>\n  <tbody>\n    <tr>\n      <th>met</th>\n      <td>34244.0</td>\n    </tr>\n    <tr>\n      <th>wave</th>\n      <td>0.0</td>\n    </tr>\n    <tr>\n      <th>type</th>\n      <td>fixed</td>\n    </tr>\n    <tr>\n      <th>name</th>\n      <td>Naked Island, AK</td>\n    </tr>\n    <tr>\n      <th>pgm</th>\n      <td>IOOS Partners</td>\n    </tr>\n  </tbody>\n</table>"
      }
     },
     "026310d64b43405ea1c65c869495153e": {
      "model_module": "@jupyter-widgets/controls",
      "model_module_version": "1.5.0",
      "model_name": "HTMLModel",
      "state": {
       "layout": "IPY_MODEL_017840cc327442179fb8ef8df6a399c3",
       "style": "IPY_MODEL_149e792b3fbd4706ab236ee74c883e73",
       "value": "<table border=\"1\" class=\"dataframe table table-striped table-hover table-condensed table-responsive\">\n  <thead>\n    <tr style=\"text-align: right;\">\n      <th></th>\n      <th>mrya2</th>\n    </tr>\n  </thead>\n  <tbody>\n    <tr>\n      <th>met</th>\n      <td>34300.0</td>\n    </tr>\n    <tr>\n      <th>wave</th>\n      <td>0.0</td>\n    </tr>\n    <tr>\n      <th>type</th>\n      <td>fixed</td>\n    </tr>\n    <tr>\n      <th>name</th>\n      <td>Mary Island, AK</td>\n    </tr>\n    <tr>\n      <th>pgm</th>\n      <td>IOOS Partners</td>\n    </tr>\n  </tbody>\n</table>"
      }
     },
     "028794103f21497281242d2c4c38977c": {
      "model_module": "@jupyter-widgets/controls",
      "model_module_version": "1.5.0",
      "model_name": "HTMLModel",
      "state": {
       "layout": "IPY_MODEL_da4b82981815465fbae83aed04bac331",
       "style": "IPY_MODEL_97a076e3714f49f985923767a3da0b73",
       "value": "<table border=\"1\" class=\"dataframe table table-striped table-hover table-condensed table-responsive\">\n  <thead>\n    <tr style=\"text-align: right;\">\n      <th></th>\n      <th>45170</th>\n    </tr>\n  </thead>\n  <tbody>\n    <tr>\n      <th>met</th>\n      <td>27838.0</td>\n    </tr>\n    <tr>\n      <th>wave</th>\n      <td>26778.0</td>\n    </tr>\n    <tr>\n      <th>type</th>\n      <td>buoy</td>\n    </tr>\n    <tr>\n      <th>name</th>\n      <td>Michigan City Buoy, IN</td>\n    </tr>\n    <tr>\n      <th>pgm</th>\n      <td>IOOS Partners</td>\n    </tr>\n  </tbody>\n</table>"
      }
     },
     "0296f7b0a13f401ebe48a29b1cc4ddb1": {
      "model_module": "jupyter-leaflet",
      "model_module_version": "^0.15.0",
      "model_name": "LeafletMarkerModel",
      "state": {
       "_model_module_version": "^0.15.0",
       "_view_module_version": "^0.15.0",
       "draggable": false,
       "icon": "IPY_MODEL_cf9647dfcffd4728a50a153850ec3860",
       "location": [
        29.515,
        -94.513
       ],
       "options": [
        "alt",
        "draggable",
        "keyboard",
        "rise_offset",
        "rise_on_hover",
        "rotation_angle",
        "rotation_origin",
        "title",
        "z_index_offset"
       ],
       "popup": "IPY_MODEL_87f40df2d9e64235bba395a14440031f"
      }
     },
     "02bcba914f024df7836dcd1834fe805f": {
      "model_module": "jupyter-leaflet",
      "model_module_version": "^0.17.0",
      "model_name": "LeafletAwesomeIconModel",
      "state": {
       "_model_module_version": "^0.17.0",
       "_view_module_version": "^0.17.0",
       "icon_color": "white",
       "marker_color": "orange",
       "name": "life-ring"
      }
     },
     "0307aa68198c4a72b48b4a7e6f0c59e7": {
      "model_module": "jupyter-leaflet",
      "model_module_version": "^0.17.0",
      "model_name": "LeafletAwesomeIconModel",
      "state": {
       "_model_module_version": "^0.17.0",
       "_view_module_version": "^0.17.0",
       "icon_color": "white",
       "marker_color": "orange",
       "name": "life-ring"
      }
     },
     "031d0ad78d0b4dd487c47ec529239239": {
      "model_module": "@jupyter-widgets/controls",
      "model_module_version": "1.5.0",
      "model_name": "HTMLModel",
      "state": {
       "layout": "IPY_MODEL_27eb60bd25e042cea3da85783372b88e",
       "style": "IPY_MODEL_140e142d030a423fa23b9ee406c980e9",
       "value": "<table border=\"1\" class=\"dataframe table table-striped table-hover table-condensed table-responsive\">\n  <thead>\n    <tr style=\"text-align: right;\">\n      <th></th>\n      <th>51212</th>\n    </tr>\n  </thead>\n  <tbody>\n    <tr>\n      <th>met</th>\n      <td>0.0</td>\n    </tr>\n    <tr>\n      <th>wave</th>\n      <td>11530.0</td>\n    </tr>\n    <tr>\n      <th>type</th>\n      <td>buoy</td>\n    </tr>\n    <tr>\n      <th>name</th>\n      <td>Barbers Point, Kalaeloa, HI (238)</td>\n    </tr>\n    <tr>\n      <th>pgm</th>\n      <td>IOOS Partners</td>\n    </tr>\n  </tbody>\n</table>"
      }
     },
     "03471ea6e847438e971677ecc2892ff0": {
      "model_module": "jupyter-leaflet",
      "model_module_version": "^0.15.0",
      "model_name": "LeafletMapStyleModel",
      "state": {
       "_model_module_version": "^0.15.0",
       "cursor": "move"
      }
     },
     "037cab3f9297485ebe6c7a265b8efaf4": {
      "model_module": "@jupyter-widgets/controls",
      "model_module_version": "1.5.0",
      "model_name": "DescriptionStyleModel",
      "state": {
       "description_width": ""
      }
     },
     "0381c25b93654f16914080c9f7a1a197": {
      "model_module": "@jupyter-widgets/controls",
      "model_module_version": "1.5.0",
      "model_name": "HTMLModel",
      "state": {
       "layout": "IPY_MODEL_3e43dc12af144c2cb6bd247c7b8ff9e2",
       "style": "IPY_MODEL_d39c5e1db3fe43d8ab506c2eb7d10254",
       "value": "<table border=\"1\" class=\"dataframe table table-striped table-hover table-condensed table-responsive\">\n  <thead>\n    <tr style=\"text-align: right;\">\n      <th></th>\n      <th>ssbn7</th>\n    </tr>\n  </thead>\n  <tbody>\n    <tr>\n      <th>met</th>\n      <td>0.0</td>\n    </tr>\n    <tr>\n      <th>wave</th>\n      <td>11772.0</td>\n    </tr>\n    <tr>\n      <th>type</th>\n      <td>buoy</td>\n    </tr>\n    <tr>\n      <th>name</th>\n      <td>Sunset Beach Nearshore Waves (SUN2WAVE)</td>\n    </tr>\n    <tr>\n      <th>pgm</th>\n      <td>IOOS Partners</td>\n    </tr>\n  </tbody>\n</table>"
      }
     },
     "03d6e69f7d8c421ba9f837be8f8564a6": {
      "model_module": "@jupyter-widgets/base",
      "model_module_version": "1.2.0",
      "model_name": "LayoutModel",
      "state": {}
     },
     "04372f5f31fe485faa188fd4986f7d85": {
      "model_module": "@jupyter-widgets/controls",
      "model_module_version": "1.5.0",
      "model_name": "HTMLModel",
      "state": {
       "layout": "IPY_MODEL_ddbc3a0af00242929e2e09fc19a1b1e3",
       "style": "IPY_MODEL_99364861832b486aa959131265696636",
       "value": "<table border=\"1\" class=\"dataframe table table-striped table-hover table-condensed table-responsive\">\n  <thead>\n    <tr style=\"text-align: right;\">\n      <th></th>\n      <th>45026</th>\n    </tr>\n  </thead>\n  <tbody>\n    <tr>\n      <th>met</th>\n      <td>31230.0</td>\n    </tr>\n    <tr>\n      <th>wave</th>\n      <td>31246.0</td>\n    </tr>\n    <tr>\n      <th>type</th>\n      <td>buoy</td>\n    </tr>\n    <tr>\n      <th>name</th>\n      <td>Cook Nuclear Plant Buoy, Stevensville, MI</td>\n    </tr>\n    <tr>\n      <th>pgm</th>\n      <td>IOOS Partners</td>\n    </tr>\n  </tbody>\n</table>"
      }
     },
     "043993a9dae84d9183f34d2d7cf2998e": {
      "model_module": "@jupyter-widgets/base",
      "model_module_version": "1.2.0",
      "model_name": "LayoutModel",
      "state": {}
     },
     "0441f03d041d4f8f86a96d29346dfbd7": {
      "model_module": "@jupyter-widgets/controls",
      "model_module_version": "1.5.0",
      "model_name": "DescriptionStyleModel",
      "state": {
       "description_width": ""
      }
     },
     "04422edef8ad49b59ff9c7ea6549d1fa": {
      "model_module": "@jupyter-widgets/base",
      "model_module_version": "1.2.0",
      "model_name": "LayoutModel",
      "state": {}
     },
     "045eb1d426cd442ca44bf0c5d79439fd": {
      "model_module": "@jupyter-widgets/controls",
      "model_module_version": "1.5.0",
      "model_name": "DescriptionStyleModel",
      "state": {
       "description_width": ""
      }
     },
     "04aacac8793b4305921e36b0c9f839d6": {
      "model_module": "@jupyter-widgets/controls",
      "model_module_version": "1.5.0",
      "model_name": "DescriptionStyleModel",
      "state": {
       "description_width": ""
      }
     },
     "05188ed68cfc450c900226a0ad582d6f": {
      "model_module": "@jupyter-widgets/controls",
      "model_module_version": "1.5.0",
      "model_name": "DescriptionStyleModel",
      "state": {
       "description_width": ""
      }
     },
     "0524169367a2496a8dd4ee2d17345e46": {
      "model_module": "@jupyter-widgets/controls",
      "model_module_version": "1.5.0",
      "model_name": "DescriptionStyleModel",
      "state": {
       "description_width": ""
      }
     },
     "05a9b7f17c044004adaa26f6aa264084": {
      "model_module": "@jupyter-widgets/controls",
      "model_module_version": "1.5.0",
      "model_name": "HTMLModel",
      "state": {
       "layout": "IPY_MODEL_8d54b9bb2ff049ba8b70c9fc0d6a29e5",
       "style": "IPY_MODEL_eb657f7e18af49b496a4ae23d5471c31",
       "value": "<table border=\"1\" class=\"dataframe table table-striped table-hover table-condensed table-responsive\">\n  <thead>\n    <tr style=\"text-align: right;\">\n      <th></th>\n      <th>cdxa2</th>\n    </tr>\n  </thead>\n  <tbody>\n    <tr>\n      <th>met</th>\n      <td>12960.0</td>\n    </tr>\n    <tr>\n      <th>wave</th>\n      <td>0.0</td>\n    </tr>\n    <tr>\n      <th>type</th>\n      <td>fixed</td>\n    </tr>\n    <tr>\n      <th>name</th>\n      <td>Cape Decision MXAK, AK</td>\n    </tr>\n    <tr>\n      <th>pgm</th>\n      <td>IOOS Partners</td>\n    </tr>\n  </tbody>\n</table>"
      }
     },
     "06028840c6ec4df3b9a847f7a659d6c3": {
      "model_module": "@jupyter-widgets/controls",
      "model_module_version": "1.5.0",
      "model_name": "HTMLModel",
      "state": {
       "layout": "IPY_MODEL_e43d80a4c53640a2b6bad5824e3270d0",
       "style": "IPY_MODEL_93446fed63014143ba26a8bdef9a281d",
       "value": "<table border=\"1\" class=\"dataframe table table-striped table-hover table-condensed table-responsive\">\n  <thead>\n    <tr style=\"text-align: right;\">\n      <th></th>\n      <th>44032</th>\n    </tr>\n  </thead>\n  <tbody>\n    <tr>\n      <th>met</th>\n      <td>5880.0</td>\n    </tr>\n    <tr>\n      <th>wave</th>\n      <td>5732.0</td>\n    </tr>\n    <tr>\n      <th>type</th>\n      <td>buoy</td>\n    </tr>\n    <tr>\n      <th>name</th>\n      <td>Buoy E01 - Central Maine Shelf</td>\n    </tr>\n    <tr>\n      <th>pgm</th>\n      <td>IOOS Partners</td>\n    </tr>\n  </tbody>\n</table>"
      }
     },
     "0646fc78573f4d2483a961a8d2534abe": {
      "model_module": "@jupyter-widgets/controls",
      "model_module_version": "1.5.0",
      "model_name": "DescriptionStyleModel",
      "state": {
       "description_width": ""
      }
     },
     "068995c3b5db432286e2b1ced9dfccba": {
      "model_module": "jupyter-leaflet",
      "model_module_version": "^0.15.0",
      "model_name": "LeafletAwesomeIconModel",
      "state": {
       "_model_module_version": "^0.15.0",
       "_view_module_version": "^0.15.0",
       "icon_color": "white",
       "marker_color": "green",
       "name": "life-ring"
      }
     },
     "06c0633847154d509889111ef1d868e7": {
      "model_module": "@jupyter-widgets/controls",
      "model_module_version": "1.5.0",
      "model_name": "DescriptionStyleModel",
      "state": {
       "description_width": ""
      }
     },
     "06cf282d8882429583b2c971f70e82d3": {
      "model_module": "jupyter-leaflet",
      "model_module_version": "^0.15.0",
      "model_name": "LeafletMarkerModel",
      "state": {
       "_model_module_version": "^0.15.0",
       "_view_module_version": "^0.15.0",
       "draggable": false,
       "icon": "IPY_MODEL_b1f4c07e92bf4d5b9ecdb0c1b3121341",
       "location": [
        29.595,
        -94.39
       ],
       "options": [
        "alt",
        "draggable",
        "keyboard",
        "rise_offset",
        "rise_on_hover",
        "rotation_angle",
        "rotation_origin",
        "title",
        "z_index_offset"
       ],
       "popup": "IPY_MODEL_c90ab2d8cfcf4088b1c62d7043a82a69"
      }
     },
     "07261a4e52734a21a04e945bc6494d19": {
      "model_module": "jupyter-leaflet",
      "model_module_version": "^0.15.0",
      "model_name": "LeafletMarkerModel",
      "state": {
       "_model_module_version": "^0.15.0",
       "_view_module_version": "^0.15.0",
       "draggable": false,
       "icon": "IPY_MODEL_8922397ad9bb4eb8a1a0a4dcb9297d05",
       "location": [
        58.286,
        -134.39
       ],
       "options": [
        "alt",
        "draggable",
        "keyboard",
        "rise_offset",
        "rise_on_hover",
        "rotation_angle",
        "rotation_origin",
        "title",
        "z_index_offset"
       ],
       "popup": "IPY_MODEL_8ee72dedb89c4702a017f0ab3e6dd5b6"
      }
     },
     "0794f33266bc4dd1ae4d7366a21483d1": {
      "model_module": "@jupyter-widgets/controls",
      "model_module_version": "1.5.0",
      "model_name": "DescriptionStyleModel",
      "state": {
       "description_width": ""
      }
     },
     "07ad853df6a14493a2d72fa52f686631": {
      "model_module": "@jupyter-widgets/controls",
      "model_module_version": "1.5.0",
      "model_name": "HTMLModel",
      "state": {
       "layout": "IPY_MODEL_58f4642aaaf043eeb007169043805303",
       "style": "IPY_MODEL_88e1abd8a6474d329b4c7efa0d20c457",
       "value": "<table border=\"1\" class=\"dataframe table table-striped table-hover table-condensed table-responsive\">\n  <thead>\n    <tr style=\"text-align: right;\">\n      <th></th>\n      <th>41053</th>\n    </tr>\n  </thead>\n  <tbody>\n    <tr>\n      <th>met</th>\n      <td>35188.0</td>\n    </tr>\n    <tr>\n      <th>wave</th>\n      <td>5886.0</td>\n    </tr>\n    <tr>\n      <th>type</th>\n      <td>buoy</td>\n    </tr>\n    <tr>\n      <th>name</th>\n      <td>San Juan, PR</td>\n    </tr>\n    <tr>\n      <th>pgm</th>\n      <td>IOOS Partners</td>\n    </tr>\n  </tbody>\n</table>"
      }
     },
     "07b59b9a79ce488296686a47105047a4": {
      "model_module": "@jupyter-widgets/controls",
      "model_module_version": "1.5.0",
      "model_name": "HTMLModel",
      "state": {
       "layout": "IPY_MODEL_4744d137d2ba4914ae7f0bba92c2ee32",
       "style": "IPY_MODEL_975305a7ffeb4e6e9ee36d4dbd4bdbdc",
       "value": "<table border=\"1\" class=\"dataframe table table-striped table-hover table-condensed table-responsive\">\n  <thead>\n    <tr style=\"text-align: right;\">\n      <th></th>\n      <th>rixa2</th>\n    </tr>\n  </thead>\n  <tbody>\n    <tr>\n      <th>met</th>\n      <td>30658.0</td>\n    </tr>\n    <tr>\n      <th>wave</th>\n      <td>0.0</td>\n    </tr>\n    <tr>\n      <th>type</th>\n      <td>fixed</td>\n    </tr>\n    <tr>\n      <th>name</th>\n      <td>Rocky Island, AK</td>\n    </tr>\n    <tr>\n      <th>pgm</th>\n      <td>IOOS Partners</td>\n    </tr>\n  </tbody>\n</table>"
      }
     },
     "07b5d04ee36d4e25a84aca7dcc172755": {
      "model_module": "@jupyter-widgets/base",
      "model_module_version": "1.2.0",
      "model_name": "LayoutModel",
      "state": {}
     },
     "07cabf72eeaa4d84b58e2028d8e44a6b": {
      "model_module": "jupyter-leaflet",
      "model_module_version": "^0.17.0",
      "model_name": "LeafletMarkerModel",
      "state": {
       "_model_module_version": "^0.17.0",
       "_view_module_version": "^0.17.0",
       "draggable": false,
       "icon": "IPY_MODEL_df0d01009b424da4a8ed01d2a841903e",
       "location": [
        28.227,
        -96.796
       ],
       "options": [
        "alt",
        "draggable",
        "keyboard",
        "rise_offset",
        "rise_on_hover",
        "rotation_angle",
        "rotation_origin",
        "title",
        "z_index_offset"
       ],
       "popup": "IPY_MODEL_900c082065b44624bcb50fd279dbc859"
      }
     },
     "07cb49013bc745ff8fc46c3db87b3df2": {
      "model_module": "@jupyter-widgets/controls",
      "model_module_version": "1.5.0",
      "model_name": "HTMLModel",
      "state": {
       "layout": "IPY_MODEL_ac574eca2bcc47858c477977e4e6ceda",
       "style": "IPY_MODEL_481ef98dbb5c454fbed73d2da014b391",
       "value": "<table border=\"1\" class=\"dataframe table table-striped table-hover table-condensed table-responsive\">\n  <thead>\n    <tr style=\"text-align: right;\">\n      <th></th>\n      <th>cpxc1</th>\n    </tr>\n  </thead>\n  <tbody>\n    <tr>\n      <th>met</th>\n      <td>17460.0</td>\n    </tr>\n    <tr>\n      <th>wave</th>\n      <td>0.0</td>\n    </tr>\n    <tr>\n      <th>type</th>\n      <td>fixed</td>\n    </tr>\n    <tr>\n      <th>name</th>\n      <td>Cal Poly Pier, CA</td>\n    </tr>\n    <tr>\n      <th>pgm</th>\n      <td>IOOS Partners</td>\n    </tr>\n  </tbody>\n</table>"
      }
     },
     "07d8ccb348ae4864b90d53752ed3b5af": {
      "model_module": "@jupyter-widgets/base",
      "model_module_version": "1.2.0",
      "model_name": "LayoutModel",
      "state": {}
     },
     "07df90768b6c4635976c94ffb7df45f5": {
      "model_module": "@jupyter-widgets/controls",
      "model_module_version": "1.5.0",
      "model_name": "HTMLModel",
      "state": {
       "layout": "IPY_MODEL_b7b09232a4194e9b8738f820dd1aeb6f",
       "style": "IPY_MODEL_c4584fb77d8544f6ad2eab7a0beecac1",
       "value": "<table border=\"1\" class=\"dataframe table table-striped table-hover table-condensed table-responsive\">\n  <thead>\n    <tr style=\"text-align: right;\">\n      <th></th>\n      <th>ldlc3</th>\n    </tr>\n  </thead>\n  <tbody>\n    <tr>\n      <th>met</th>\n      <td>6344.0</td>\n    </tr>\n    <tr>\n      <th>wave</th>\n      <td>0.0</td>\n    </tr>\n    <tr>\n      <th>type</th>\n      <td>fixed</td>\n    </tr>\n    <tr>\n      <th>name</th>\n      <td>New London Ledge Light, New London Harbor, CT</td>\n    </tr>\n    <tr>\n      <th>pgm</th>\n      <td>IOOS Partners</td>\n    </tr>\n  </tbody>\n</table>"
      }
     },
     "080fe234d1eb471688de68bc4e3d8dd7": {
      "model_module": "jupyter-leaflet",
      "model_module_version": "^0.17.0",
      "model_name": "LeafletMarkerModel",
      "state": {
       "_model_module_version": "^0.17.0",
       "_view_module_version": "^0.17.0",
       "draggable": false,
       "icon": "IPY_MODEL_567fd2293a6c4997a0a19f561279be1e",
       "location": [
        28.936,
        -95.294
       ],
       "options": [
        "alt",
        "draggable",
        "keyboard",
        "rise_offset",
        "rise_on_hover",
        "rotation_angle",
        "rotation_origin",
        "title",
        "z_index_offset"
       ],
       "popup": "IPY_MODEL_bf012cf5984d4101907aa6d494b82e4c"
      }
     },
     "0815ecf20b104019b882816dcea22b10": {
      "model_module": "@jupyter-widgets/controls",
      "model_module_version": "1.5.0",
      "model_name": "HTMLModel",
      "state": {
       "layout": "IPY_MODEL_edbaa799fc434aa59a3bc62eef3dda6f",
       "style": "IPY_MODEL_8d3dd68b71054e8097b563183599a600",
       "value": "<table border=\"1\" class=\"dataframe table table-striped table-hover table-condensed table-responsive\">\n  <thead>\n    <tr style=\"text-align: right;\">\n      <th></th>\n      <th>paxa2</th>\n    </tr>\n  </thead>\n  <tbody>\n    <tr>\n      <th>met</th>\n      <td>34094.0</td>\n    </tr>\n    <tr>\n      <th>wave</th>\n      <td>0.0</td>\n    </tr>\n    <tr>\n      <th>type</th>\n      <td>fixed</td>\n    </tr>\n    <tr>\n      <th>name</th>\n      <td>Point Arden, AK</td>\n    </tr>\n    <tr>\n      <th>pgm</th>\n      <td>IOOS Partners</td>\n    </tr>\n  </tbody>\n</table>"
      }
     },
     "0899a60d478547bcbfadcf9c0cf451ae": {
      "model_module": "@jupyter-widgets/controls",
      "model_module_version": "1.5.0",
      "model_name": "DescriptionStyleModel",
      "state": {
       "description_width": ""
      }
     },
     "08c1bbf722c54193bb35b9967871970e": {
      "model_module": "jupyter-leaflet",
      "model_module_version": "^0.17.0",
      "model_name": "LeafletMarkerModel",
      "state": {
       "_model_module_version": "^0.17.0",
       "_view_module_version": "^0.17.0",
       "draggable": false,
       "icon": "IPY_MODEL_59710d6165734c749c7825a663121b2e",
       "location": [
        21.417,
        -157.68
       ],
       "options": [
        "alt",
        "draggable",
        "keyboard",
        "rise_offset",
        "rise_on_hover",
        "rotation_angle",
        "rotation_origin",
        "title",
        "z_index_offset"
       ],
       "popup": "IPY_MODEL_ee98d861c5c64672bfb65a4d5a01675b"
      }
     },
     "08c1e57fc4424bf890da18c264c64ce2": {
      "model_module": "jupyter-leaflet",
      "model_module_version": "^0.17.0",
      "model_name": "LeafletAwesomeIconModel",
      "state": {
       "_model_module_version": "^0.17.0",
       "_view_module_version": "^0.17.0",
       "icon_color": "white",
       "marker_color": "orange",
       "name": "life-ring"
      }
     },
     "08c5c5e72bcb440297bce79a9feb8439": {
      "model_module": "@jupyter-widgets/base",
      "model_module_version": "1.2.0",
      "model_name": "LayoutModel",
      "state": {}
     },
     "0936cffe9de94c708bba9f065b5dce80": {
      "model_module": "@jupyter-widgets/controls",
      "model_module_version": "1.5.0",
      "model_name": "HTMLModel",
      "state": {
       "layout": "IPY_MODEL_b8f5bf3f35b64f67917f04fb6a130eb9",
       "style": "IPY_MODEL_435fd8cf559241e0977134d548625119",
       "value": "<table border=\"1\" class=\"dataframe table table-striped table-hover table-condensed table-responsive\">\n  <thead>\n    <tr style=\"text-align: right;\">\n      <th></th>\n      <th>41052</th>\n    </tr>\n  </thead>\n  <tbody>\n    <tr>\n      <th>met</th>\n      <td>35056.0</td>\n    </tr>\n    <tr>\n      <th>wave</th>\n      <td>5864.0</td>\n    </tr>\n    <tr>\n      <th>type</th>\n      <td>buoy</td>\n    </tr>\n    <tr>\n      <th>name</th>\n      <td>South of St. John, VI</td>\n    </tr>\n    <tr>\n      <th>pgm</th>\n      <td>IOOS Partners</td>\n    </tr>\n  </tbody>\n</table>"
      }
     },
     "09988a27bcfb49fe8f7c1fbd5aa2e8c3": {
      "model_module": "@jupyter-widgets/controls",
      "model_module_version": "1.5.0",
      "model_name": "DescriptionStyleModel",
      "state": {
       "description_width": ""
      }
     },
     "09bdd690e9f043a3bd607a49ce86be46": {
      "model_module": "jupyter-leaflet",
      "model_module_version": "^0.15.0",
      "model_name": "LeafletMarkerModel",
      "state": {
       "_model_module_version": "^0.15.0",
       "_view_module_version": "^0.15.0",
       "draggable": false,
       "icon": "IPY_MODEL_d76d3d0b9f934877b13d08e4c64ec9af",
       "location": [
        27.832,
        -97.486
       ],
       "options": [
        "alt",
        "draggable",
        "keyboard",
        "rise_offset",
        "rise_on_hover",
        "rotation_angle",
        "rotation_origin",
        "title",
        "z_index_offset"
       ],
       "popup": "IPY_MODEL_29a6d0b90dae41ba8ba4855912838149"
      }
     },
     "09c6e589426e4ae49e77d964794cb266": {
      "model_module": "jupyter-leaflet",
      "model_module_version": "^0.17.0",
      "model_name": "LeafletMarkerModel",
      "state": {
       "_model_module_version": "^0.17.0",
       "_view_module_version": "^0.17.0",
       "draggable": false,
       "icon": "IPY_MODEL_69375cbefa514917afa3ab1f7e8bb3b7",
       "location": [
        41.702,
        -83.261
       ],
       "options": [
        "alt",
        "draggable",
        "keyboard",
        "rise_offset",
        "rise_on_hover",
        "rotation_angle",
        "rotation_origin",
        "title",
        "z_index_offset"
       ],
       "popup": "IPY_MODEL_0f2a5e5628d94304a7475cb216639b6f"
      }
     },
     "09d38d6a5efd4ffeb563454369005776": {
      "model_module": "@jupyter-widgets/base",
      "model_module_version": "1.2.0",
      "model_name": "LayoutModel",
      "state": {}
     },
     "0a035f9254a34ed0b00cfab3ea4ec7a2": {
      "model_module": "jupyter-leaflet",
      "model_module_version": "^0.17.0",
      "model_name": "LeafletMarkerModel",
      "state": {
       "_model_module_version": "^0.17.0",
       "_view_module_version": "^0.17.0",
       "draggable": false,
       "icon": "IPY_MODEL_4b87feaf0ee44fa5b018447f91320d32",
       "location": [
        41.781,
        -87.573
       ],
       "options": [
        "alt",
        "draggable",
        "keyboard",
        "rise_offset",
        "rise_on_hover",
        "rotation_angle",
        "rotation_origin",
        "title",
        "z_index_offset"
       ],
       "popup": "IPY_MODEL_28b3c18b5c644866a7492dc9db199d34"
      }
     },
     "0a30d19d950748bdb2d87a678f0e151f": {
      "model_module": "jupyter-leaflet",
      "model_module_version": "^0.15.0",
      "model_name": "LeafletAwesomeIconModel",
      "state": {
       "_model_module_version": "^0.15.0",
       "_view_module_version": "^0.15.0",
       "icon_color": "white",
       "marker_color": "orange",
       "name": "life-ring"
      }
     },
     "0a3a23ec508e40c9b0476c1bb2bad790": {
      "model_module": "@jupyter-widgets/controls",
      "model_module_version": "1.5.0",
      "model_name": "DescriptionStyleModel",
      "state": {
       "description_width": ""
      }
     },
     "0a61ffb3bb834b25a24da723ab51a6b3": {
      "model_module": "jupyter-leaflet",
      "model_module_version": "^0.17.0",
      "model_name": "LeafletMarkerModel",
      "state": {
       "_model_module_version": "^0.17.0",
       "_view_module_version": "^0.17.0",
       "draggable": false,
       "icon": "IPY_MODEL_30e868a633b149c991130ae545f4c1f1",
       "location": [
        34.213,
        -76.949
       ],
       "options": [
        "alt",
        "draggable",
        "keyboard",
        "rise_offset",
        "rise_on_hover",
        "rotation_angle",
        "rotation_origin",
        "title",
        "z_index_offset"
       ],
       "popup": "IPY_MODEL_2c1e864806ea4fbc9a132e8f682e5aa3"
      }
     },
     "0ae721d38b6d4db5920137662a574c37": {
      "model_module": "jupyter-leaflet",
      "model_module_version": "^0.15.0",
      "model_name": "LeafletAwesomeIconModel",
      "state": {
       "_model_module_version": "^0.15.0",
       "_view_module_version": "^0.15.0",
       "icon_color": "white",
       "marker_color": "orange",
       "name": "life-ring"
      }
     },
     "0b35ea44bd214078b740214542772d44": {
      "model_module": "@jupyter-widgets/controls",
      "model_module_version": "1.5.0",
      "model_name": "DescriptionStyleModel",
      "state": {
       "description_width": ""
      }
     },
     "0b3b9431e1db4eae9d9e5d7298f40a5b": {
      "model_module": "@jupyter-widgets/controls",
      "model_module_version": "1.5.0",
      "model_name": "HTMLModel",
      "state": {
       "layout": "IPY_MODEL_3bcb9e4071d1418bb3bf27a5d98e9bd1",
       "style": "IPY_MODEL_1f16d4cc327f4596a21a4d9ad5b36abf",
       "value": "<table border=\"1\" class=\"dataframe table table-striped table-hover table-condensed table-responsive\">\n  <thead>\n    <tr style=\"text-align: right;\">\n      <th></th>\n      <th>ncht2</th>\n    </tr>\n  </thead>\n  <tbody>\n    <tr>\n      <th>met</th>\n      <td>58544.0</td>\n    </tr>\n    <tr>\n      <th>wave</th>\n      <td>0.0</td>\n    </tr>\n    <tr>\n      <th>type</th>\n      <td>fixed</td>\n    </tr>\n    <tr>\n      <th>name</th>\n      <td>8770777 - Manchester, TX</td>\n    </tr>\n    <tr>\n      <th>pgm</th>\n      <td>IOOS Partners</td>\n    </tr>\n  </tbody>\n</table>"
      }
     },
     "0b5a5b7b13454894b38f609f1db95e66": {
      "model_module": "jupyter-leaflet",
      "model_module_version": "^0.17.0",
      "model_name": "LeafletMarkerModel",
      "state": {
       "_model_module_version": "^0.17.0",
       "_view_module_version": "^0.17.0",
       "draggable": false,
       "icon": "IPY_MODEL_7aa5ab4409d9494a8f597f548a03a98b",
       "location": [
        18.474,
        -66.099
       ],
       "options": [
        "alt",
        "draggable",
        "keyboard",
        "rise_offset",
        "rise_on_hover",
        "rotation_angle",
        "rotation_origin",
        "title",
        "z_index_offset"
       ],
       "popup": "IPY_MODEL_07ad853df6a14493a2d72fa52f686631"
      }
     },
     "0b830f20f48442aab36d46d1b14e3cb3": {
      "model_module": "@jupyter-widgets/base",
      "model_module_version": "1.2.0",
      "model_name": "LayoutModel",
      "state": {}
     },
     "0b98c1274e0d41ef9ed8bf39da73b4b2": {
      "model_module": "@jupyter-widgets/controls",
      "model_module_version": "1.5.0",
      "model_name": "DescriptionStyleModel",
      "state": {
       "description_width": ""
      }
     },
     "0b98f67ab983459499d7db1450923e5d": {
      "model_module": "jupyter-leaflet",
      "model_module_version": "^0.15.0",
      "model_name": "LeafletMarkerModel",
      "state": {
       "_model_module_version": "^0.15.0",
       "_view_module_version": "^0.15.0",
       "draggable": false,
       "icon": "IPY_MODEL_3c423e2901924a40b08883b8f279b5b8",
       "location": [
        30.437,
        -88.011
       ],
       "options": [
        "alt",
        "draggable",
        "keyboard",
        "rise_offset",
        "rise_on_hover",
        "rotation_angle",
        "rotation_origin",
        "title",
        "z_index_offset"
       ],
       "popup": "IPY_MODEL_dbae4867c8a540edb2d156993e5efec9"
      }
     },
     "0baaca963e004904a41828fb8b66e2c9": {
      "model_module": "@jupyter-widgets/base",
      "model_module_version": "1.2.0",
      "model_name": "LayoutModel",
      "state": {}
     },
     "0bb5696c03ee4cb69d2f674927abe231": {
      "model_module": "@jupyter-widgets/controls",
      "model_module_version": "1.5.0",
      "model_name": "DescriptionStyleModel",
      "state": {
       "description_width": ""
      }
     },
     "0bbd1880cb3540249a1f672c11d54de4": {
      "model_module": "jupyter-leaflet",
      "model_module_version": "^0.17.0",
      "model_name": "LeafletAwesomeIconModel",
      "state": {
       "_model_module_version": "^0.17.0",
       "_view_module_version": "^0.17.0",
       "icon_color": "white",
       "marker_color": "green",
       "name": "life-ring"
      }
     },
     "0c131c9a43394629a2666f26204dedc4": {
      "model_module": "@jupyter-widgets/base",
      "model_module_version": "1.2.0",
      "model_name": "LayoutModel",
      "state": {}
     },
     "0c2c034c2e3849fb885d9725041284ed": {
      "model_module": "@jupyter-widgets/controls",
      "model_module_version": "1.5.0",
      "model_name": "DescriptionStyleModel",
      "state": {
       "description_width": ""
      }
     },
     "0c72fdc8c410420da08ccb641e3d4031": {
      "model_module": "@jupyter-widgets/base",
      "model_module_version": "1.2.0",
      "model_name": "LayoutModel",
      "state": {}
     },
     "0cad2478491f4232b4bf203c258debae": {
      "model_module": "@jupyter-widgets/base",
      "model_module_version": "1.2.0",
      "model_name": "LayoutModel",
      "state": {}
     },
     "0cadf3f7520e47f79d05a66cde709a80": {
      "model_module": "jupyter-leaflet",
      "model_module_version": "^0.15.0",
      "model_name": "LeafletMarkerModel",
      "state": {
       "_model_module_version": "^0.15.0",
       "_view_module_version": "^0.15.0",
       "draggable": false,
       "icon": "IPY_MODEL_7bdf4c86620e4cfeb3cc9ba3f7422a1d",
       "location": [
        41.732,
        -81.694
       ],
       "options": [
        "alt",
        "draggable",
        "keyboard",
        "rise_offset",
        "rise_on_hover",
        "rotation_angle",
        "rotation_origin",
        "title",
        "z_index_offset"
       ],
       "popup": "IPY_MODEL_0feeda8a426d46308b1f267848e9f71b"
      }
     },
     "0cbaf6c52acf4aec9d77a98ce96a91da": {
      "model_module": "jupyter-leaflet",
      "model_module_version": "^0.17.0",
      "model_name": "LeafletMarkerModel",
      "state": {
       "_model_module_version": "^0.17.0",
       "_view_module_version": "^0.17.0",
       "draggable": false,
       "icon": "IPY_MODEL_2d7b2180c5e840b997a9e029068a7be1",
       "location": [
        57.116,
        -135.391
       ],
       "options": [
        "alt",
        "draggable",
        "keyboard",
        "rise_offset",
        "rise_on_hover",
        "rotation_angle",
        "rotation_origin",
        "title",
        "z_index_offset"
       ],
       "popup": "IPY_MODEL_dd95461f4d884ff9bcc4820e6353f5e9"
      }
     },
     "0ce06550042b44b2bd36c9f71217b3e8": {
      "model_module": "jupyter-leaflet",
      "model_module_version": "^0.17.0",
      "model_name": "LeafletAwesomeIconModel",
      "state": {
       "_model_module_version": "^0.17.0",
       "_view_module_version": "^0.17.0",
       "icon_color": "white",
       "marker_color": "orange",
       "name": "life-ring"
      }
     },
     "0d0998ed9d2d4aed9c326d7cc54d22cf": {
      "model_module": "@jupyter-widgets/controls",
      "model_module_version": "1.5.0",
      "model_name": "HTMLModel",
      "state": {
       "layout": "IPY_MODEL_96d9393d67bb4d878f3b045e8a948e34",
       "style": "IPY_MODEL_9f06b0003f744b17bf5facdada636e1b",
       "value": "<table border=\"1\" class=\"dataframe table table-striped table-hover table-condensed table-responsive\">\n  <thead>\n    <tr style=\"text-align: right;\">\n      <th></th>\n      <th>bgcf1</th>\n    </tr>\n  </thead>\n  <tbody>\n    <tr>\n      <th>met</th>\n      <td>58000.0</td>\n    </tr>\n    <tr>\n      <th>wave</th>\n      <td>0.0</td>\n    </tr>\n    <tr>\n      <th>type</th>\n      <td>fixed</td>\n    </tr>\n    <tr>\n      <th>name</th>\n      <td>BCP - Big Carlos Pass, FL</td>\n    </tr>\n    <tr>\n      <th>pgm</th>\n      <td>IOOS Partners</td>\n    </tr>\n  </tbody>\n</table>"
      }
     },
     "0d1dfab619d24115b91080235da50318": {
      "model_module": "@jupyter-widgets/controls",
      "model_module_version": "1.5.0",
      "model_name": "HTMLModel",
      "state": {
       "layout": "IPY_MODEL_985c55e5bd664422849342768a57f2b8",
       "style": "IPY_MODEL_20f7e17248e34213baf4f9f47e8fa864",
       "value": "<table border=\"1\" class=\"dataframe table table-striped table-hover table-condensed table-responsive\">\n  <thead>\n    <tr style=\"text-align: right;\">\n      <th></th>\n      <th>51212</th>\n    </tr>\n  </thead>\n  <tbody>\n    <tr>\n      <th>met</th>\n      <td>0.0</td>\n    </tr>\n    <tr>\n      <th>wave</th>\n      <td>11530.0</td>\n    </tr>\n    <tr>\n      <th>type</th>\n      <td>buoy</td>\n    </tr>\n    <tr>\n      <th>name</th>\n      <td>Barbers Point, Kalaeloa, HI (238)</td>\n    </tr>\n    <tr>\n      <th>pgm</th>\n      <td>IOOS Partners</td>\n    </tr>\n  </tbody>\n</table>"
      }
     },
     "0d8643f9fd8b4580970a75aa4eca29db": {
      "model_module": "@jupyter-widgets/controls",
      "model_module_version": "1.5.0",
      "model_name": "HTMLModel",
      "state": {
       "layout": "IPY_MODEL_208a95d84575496eb56b3e716d79d7a1",
       "style": "IPY_MODEL_534a3dccb18a439aac59e694ba1f3c6f",
       "value": "<table border=\"1\" class=\"dataframe table table-striped table-hover table-condensed table-responsive\">\n  <thead>\n    <tr style=\"text-align: right;\">\n      <th></th>\n      <th>45168</th>\n    </tr>\n  </thead>\n  <tbody>\n    <tr>\n      <th>met</th>\n      <td>27662.0</td>\n    </tr>\n    <tr>\n      <th>wave</th>\n      <td>26818.0</td>\n    </tr>\n    <tr>\n      <th>type</th>\n      <td>buoy</td>\n    </tr>\n    <tr>\n      <th>name</th>\n      <td>South Haven Buoy, MI</td>\n    </tr>\n    <tr>\n      <th>pgm</th>\n      <td>IOOS Partners</td>\n    </tr>\n  </tbody>\n</table>"
      }
     },
     "0da0375798264023adab7ea61613b6a8": {
      "model_module": "@jupyter-widgets/base",
      "model_module_version": "1.2.0",
      "model_name": "LayoutModel",
      "state": {}
     },
     "0e28b8071a6f4eecb05d440004eb45a1": {
      "model_module": "@jupyter-widgets/controls",
      "model_module_version": "1.5.0",
      "model_name": "DescriptionStyleModel",
      "state": {
       "description_width": ""
      }
     },
     "0e2a126dc49c4b7480e8e3836303df5d": {
      "model_module": "@jupyter-widgets/base",
      "model_module_version": "1.2.0",
      "model_name": "LayoutModel",
      "state": {}
     },
     "0e68f187099a41c788f804ece580f4c4": {
      "model_module": "jupyter-leaflet",
      "model_module_version": "^0.15.0",
      "model_name": "LeafletMarkerModel",
      "state": {
       "_model_module_version": "^0.15.0",
       "_view_module_version": "^0.15.0",
       "draggable": false,
       "icon": "IPY_MODEL_deb060b622cb4f068a1ff9740b219d47",
       "location": [
        36.802,
        -121.791
       ],
       "options": [
        "alt",
        "draggable",
        "keyboard",
        "rise_offset",
        "rise_on_hover",
        "rotation_angle",
        "rotation_origin",
        "title",
        "z_index_offset"
       ],
       "popup": "IPY_MODEL_6d94efa38a5b41c9bba79220ab4238c4"
      }
     },
     "0f1145d398014aba90e2b9e22a272a64": {
      "model_module": "@jupyter-widgets/controls",
      "model_module_version": "1.5.0",
      "model_name": "HTMLModel",
      "state": {
       "layout": "IPY_MODEL_de8a7ad38b314b418b2bfa7b3009750c",
       "style": "IPY_MODEL_560be83c5d0a449c944ea5c13cf3a823",
       "value": "<table border=\"1\" class=\"dataframe table table-striped table-hover table-condensed table-responsive\">\n  <thead>\n    <tr style=\"text-align: right;\">\n      <th></th>\n      <th>41029</th>\n    </tr>\n  </thead>\n  <tbody>\n    <tr>\n      <th>met</th>\n      <td>6268.0</td>\n    </tr>\n    <tr>\n      <th>wave</th>\n      <td>0.0</td>\n    </tr>\n    <tr>\n      <th>type</th>\n      <td>buoy</td>\n    </tr>\n    <tr>\n      <th>name</th>\n      <td>Capers Nearshore, SC (CAP2)</td>\n    </tr>\n    <tr>\n      <th>pgm</th>\n      <td>IOOS Partners</td>\n    </tr>\n  </tbody>\n</table>"
      }
     },
     "0f15e5de4242466899f425d47da9f284": {
      "model_module": "@jupyter-widgets/controls",
      "model_module_version": "1.5.0",
      "model_name": "HTMLModel",
      "state": {
       "layout": "IPY_MODEL_36ea6c7581094c7a91248fb10a371056",
       "style": "IPY_MODEL_7757558ab5ab46e09f8c3b850924a769",
       "value": "<table border=\"1\" class=\"dataframe table table-striped table-hover table-condensed table-responsive\">\n  <thead>\n    <tr style=\"text-align: right;\">\n      <th></th>\n      <th>nkla2</th>\n    </tr>\n  </thead>\n  <tbody>\n    <tr>\n      <th>met</th>\n      <td>34522.0</td>\n    </tr>\n    <tr>\n      <th>wave</th>\n      <td>0.0</td>\n    </tr>\n    <tr>\n      <th>type</th>\n      <td>fixed</td>\n    </tr>\n    <tr>\n      <th>name</th>\n      <td>Nikolski White Alice</td>\n    </tr>\n    <tr>\n      <th>pgm</th>\n      <td>IOOS Partners</td>\n    </tr>\n  </tbody>\n</table>"
      }
     },
     "0f2a5e5628d94304a7475cb216639b6f": {
      "model_module": "@jupyter-widgets/controls",
      "model_module_version": "1.5.0",
      "model_name": "HTMLModel",
      "state": {
       "layout": "IPY_MODEL_6afb3a229d2d4ee0ba3bc7e556f4b20b",
       "style": "IPY_MODEL_0bb5696c03ee4cb69d2f674927abe231",
       "value": "<table border=\"1\" class=\"dataframe table table-striped table-hover table-condensed table-responsive\">\n  <thead>\n    <tr style=\"text-align: right;\">\n      <th></th>\n      <th>45165</th>\n    </tr>\n  </thead>\n  <tbody>\n    <tr>\n      <th>met</th>\n      <td>31844.0</td>\n    </tr>\n    <tr>\n      <th>wave</th>\n      <td>31844.0</td>\n    </tr>\n    <tr>\n      <th>type</th>\n      <td>buoy</td>\n    </tr>\n    <tr>\n      <th>name</th>\n      <td>Toledo Water Intake Buoy, Oregon, OH</td>\n    </tr>\n    <tr>\n      <th>pgm</th>\n      <td>IOOS Partners</td>\n    </tr>\n  </tbody>\n</table>"
      }
     },
     "0f370e08eea24be9a2bcca2a573831b6": {
      "model_module": "jupyter-leaflet",
      "model_module_version": "^0.15.0",
      "model_name": "LeafletMarkerModel",
      "state": {
       "_model_module_version": "^0.15.0",
       "_view_module_version": "^0.15.0",
       "draggable": false,
       "icon": "IPY_MODEL_91b02862e59d4aacac7ff9e094106e7c",
       "location": [
        18.376,
        -67.28
       ],
       "options": [
        "alt",
        "draggable",
        "keyboard",
        "rise_offset",
        "rise_on_hover",
        "rotation_angle",
        "rotation_origin",
        "title",
        "z_index_offset"
       ],
       "popup": "IPY_MODEL_16a213ee3e1e48ceb79c376965f12b56"
      }
     },
     "0f57353af2f64e57a7579262bb152e37": {
      "model_module": "@jupyter-widgets/controls",
      "model_module_version": "1.5.0",
      "model_name": "HTMLModel",
      "state": {
       "layout": "IPY_MODEL_c09d145589ec49d396eeb0b7680624f8",
       "style": "IPY_MODEL_c04fb178181a4c57aa2a31b7f0edf881",
       "value": "<table border=\"1\" class=\"dataframe table table-striped table-hover table-condensed table-responsive\">\n  <thead>\n    <tr style=\"text-align: right;\">\n      <th></th>\n      <th>pcnt2</th>\n    </tr>\n  </thead>\n  <tbody>\n    <tr>\n      <th>met</th>\n      <td>58272.0</td>\n    </tr>\n    <tr>\n      <th>wave</th>\n      <td>0.0</td>\n    </tr>\n    <tr>\n      <th>type</th>\n      <td>fixed</td>\n    </tr>\n    <tr>\n      <th>name</th>\n      <td>8773701 - Port O'Connor, Matagorda Bay, TX</td>\n    </tr>\n    <tr>\n      <th>pgm</th>\n      <td>IOOS Partners</td>\n    </tr>\n  </tbody>\n</table>"
      }
     },
     "0fdca838a2854effb24b92e0c32c5f5a": {
      "model_module": "jupyter-leaflet",
      "model_module_version": "^0.17.0",
      "model_name": "LeafletMarkerModel",
      "state": {
       "_model_module_version": "^0.17.0",
       "_view_module_version": "^0.17.0",
       "draggable": false,
       "icon": "IPY_MODEL_b8f23d9d45154032b46974bdbbf75d57",
       "location": [
        58.286,
        -134.39
       ],
       "options": [
        "alt",
        "draggable",
        "keyboard",
        "rise_offset",
        "rise_on_hover",
        "rotation_angle",
        "rotation_origin",
        "title",
        "z_index_offset"
       ],
       "popup": "IPY_MODEL_f76aacbe76214c0fba0dc8a3d06fb79c"
      }
     },
     "0feeda8a426d46308b1f267848e9f71b": {
      "model_module": "@jupyter-widgets/controls",
      "model_module_version": "1.5.0",
      "model_name": "HTMLModel",
      "state": {
       "layout": "IPY_MODEL_aef9ddbe3f494aa2a2bd1ac88fb48909",
       "style": "IPY_MODEL_da4045e1d84a40fe817c4cf2176fc004",
       "value": "<table border=\"1\" class=\"dataframe table table-striped table-hover table-condensed table-responsive\">\n  <thead>\n    <tr style=\"text-align: right;\">\n      <th></th>\n      <th>45164</th>\n    </tr>\n  </thead>\n  <tbody>\n    <tr>\n      <th>met</th>\n      <td>5644.0</td>\n    </tr>\n    <tr>\n      <th>wave</th>\n      <td>5864.0</td>\n    </tr>\n    <tr>\n      <th>type</th>\n      <td>buoy</td>\n    </tr>\n    <tr>\n      <th>name</th>\n      <td>Cleveland Buoy, OH</td>\n    </tr>\n    <tr>\n      <th>pgm</th>\n      <td>IOOS Partners</td>\n    </tr>\n  </tbody>\n</table>"
      }
     },
     "0ff00f4e965b42799c182cbac440b3b5": {
      "model_module": "jupyter-leaflet",
      "model_module_version": "^0.15.0",
      "model_name": "LeafletAwesomeIconModel",
      "state": {
       "_model_module_version": "^0.15.0",
       "_view_module_version": "^0.15.0",
       "icon_color": "white",
       "marker_color": "orange",
       "name": "life-ring"
      }
     },
     "0ffb061142ff4ce688b54d618e559453": {
      "model_module": "@jupyter-widgets/controls",
      "model_module_version": "1.5.0",
      "model_name": "HTMLModel",
      "state": {
       "layout": "IPY_MODEL_32243d000ede45369c48da1631c23782",
       "style": "IPY_MODEL_939680cf60ac41debccfe193e951ea76",
       "value": "<table border=\"1\" class=\"dataframe table table-striped table-hover table-condensed table-responsive\">\n  <thead>\n    <tr style=\"text-align: right;\">\n      <th></th>\n      <th>pcgt2</th>\n    </tr>\n  </thead>\n  <tbody>\n    <tr>\n      <th>met</th>\n      <td>58634.0</td>\n    </tr>\n    <tr>\n      <th>wave</th>\n      <td>0.0</td>\n    </tr>\n    <tr>\n      <th>type</th>\n      <td>fixed</td>\n    </tr>\n    <tr>\n      <th>name</th>\n      <td>8779748 - South Padre Island CGS, TX</td>\n    </tr>\n    <tr>\n      <th>pgm</th>\n      <td>IOOS Partners</td>\n    </tr>\n  </tbody>\n</table>"
      }
     },
     "1042076f36044acc93c9b564a3b0cfe2": {
      "model_module": "@jupyter-widgets/controls",
      "model_module_version": "1.5.0",
      "model_name": "HTMLModel",
      "state": {
       "layout": "IPY_MODEL_f881796acd694279bebd2e7815f8a94d",
       "style": "IPY_MODEL_63db72e27e884f4e800dbf7a6918bc5d",
       "value": "<table border=\"1\" class=\"dataframe table table-striped table-hover table-condensed table-responsive\">\n  <thead>\n    <tr style=\"text-align: right;\">\n      <th></th>\n      <th>ssbn7</th>\n    </tr>\n  </thead>\n  <tbody>\n    <tr>\n      <th>met</th>\n      <td>0.0</td>\n    </tr>\n    <tr>\n      <th>wave</th>\n      <td>11772.0</td>\n    </tr>\n    <tr>\n      <th>type</th>\n      <td>buoy</td>\n    </tr>\n    <tr>\n      <th>name</th>\n      <td>Sunset Beach Nearshore Waves (SUN2WAVE)</td>\n    </tr>\n    <tr>\n      <th>pgm</th>\n      <td>IOOS Partners</td>\n    </tr>\n  </tbody>\n</table>"
      }
     },
     "10b0774d54b64f7a9c99d7ddf3c72f76": {
      "model_module": "@jupyter-widgets/base",
      "model_module_version": "1.2.0",
      "model_name": "LayoutModel",
      "state": {}
     },
     "10bd47d695a24c768cd9427e48c8a48f": {
      "model_module": "@jupyter-widgets/base",
      "model_module_version": "1.2.0",
      "model_name": "LayoutModel",
      "state": {}
     },
     "10e057e2926a4b4d9695bdcae06c4381": {
      "model_module": "jupyter-leaflet",
      "model_module_version": "^0.17.0",
      "model_name": "LeafletAwesomeIconModel",
      "state": {
       "_model_module_version": "^0.17.0",
       "_view_module_version": "^0.17.0",
       "icon_color": "white",
       "marker_color": "green",
       "name": "life-ring"
      }
     },
     "10e6828171304c4fb906e00c09c95605": {
      "model_module": "@jupyter-widgets/controls",
      "model_module_version": "1.5.0",
      "model_name": "HTMLModel",
      "state": {
       "layout": "IPY_MODEL_a0e7031bc0904bfb8872d565c169effd",
       "style": "IPY_MODEL_f3c1d960985f44cab2daf6add8d67124",
       "value": "<table border=\"1\" class=\"dataframe table table-striped table-hover table-condensed table-responsive\">\n  <thead>\n    <tr style=\"text-align: right;\">\n      <th></th>\n      <th>42013</th>\n    </tr>\n  </thead>\n  <tbody>\n    <tr>\n      <th>met</th>\n      <td>11660.0</td>\n    </tr>\n    <tr>\n      <th>wave</th>\n      <td>0.0</td>\n    </tr>\n    <tr>\n      <th>type</th>\n      <td>buoy</td>\n    </tr>\n    <tr>\n      <th>name</th>\n      <td>C10 - WFS Central Buoy, 25m Isobath</td>\n    </tr>\n    <tr>\n      <th>pgm</th>\n      <td>IOOS Partners</td>\n    </tr>\n  </tbody>\n</table>"
      }
     },
     "10e829b1f97045a9890b44ef3cac0193": {
      "model_module": "@jupyter-widgets/base",
      "model_module_version": "1.2.0",
      "model_name": "LayoutModel",
      "state": {}
     },
     "114b1c96f8d24e02a541aac81a95a778": {
      "model_module": "jupyter-leaflet",
      "model_module_version": "^0.17.0",
      "model_name": "LeafletAwesomeIconModel",
      "state": {
       "_model_module_version": "^0.17.0",
       "_view_module_version": "^0.17.0",
       "icon_color": "white",
       "marker_color": "orange",
       "name": "life-ring"
      }
     },
     "115e0b8315a64e7f9254c07b60802847": {
      "model_module": "jupyter-leaflet",
      "model_module_version": "^0.15.0",
      "model_name": "LeafletAwesomeIconModel",
      "state": {
       "_model_module_version": "^0.15.0",
       "_view_module_version": "^0.15.0",
       "icon_color": "white",
       "marker_color": "orange",
       "name": "life-ring"
      }
     },
     "11df289334f9491f921ca2fa086c682a": {
      "model_module": "@jupyter-widgets/controls",
      "model_module_version": "1.5.0",
      "model_name": "HTMLModel",
      "state": {
       "layout": "IPY_MODEL_df9236c0dc1c4a7c80bdedd4af9553d3",
       "style": "IPY_MODEL_587a792395414df4a5fc044640414e19",
       "value": "<table border=\"1\" class=\"dataframe table table-striped table-hover table-condensed table-responsive\">\n  <thead>\n    <tr style=\"text-align: right;\">\n      <th></th>\n      <th>bzst2</th>\n    </tr>\n  </thead>\n  <tbody>\n    <tr>\n      <th>met</th>\n      <td>58680.0</td>\n    </tr>\n    <tr>\n      <th>wave</th>\n      <td>0.0</td>\n    </tr>\n    <tr>\n      <th>type</th>\n      <td>fixed</td>\n    </tr>\n    <tr>\n      <th>name</th>\n      <td>8779749 - SPI Brazos Santiago, TX</td>\n    </tr>\n    <tr>\n      <th>pgm</th>\n      <td>IOOS Partners</td>\n    </tr>\n  </tbody>\n</table>"
      }
     },
     "11ebd0a02a314dfb81c549acfe7f3d7b": {
      "model_module": "jupyter-leaflet",
      "model_module_version": "^0.17.0",
      "model_name": "LeafletAwesomeIconModel",
      "state": {
       "_model_module_version": "^0.17.0",
       "_view_module_version": "^0.17.0",
       "icon_color": "white",
       "marker_color": "red",
       "name": "life-ring"
      }
     },
     "1266881ff8964263a9b64c677498250e": {
      "model_module": "@jupyter-widgets/base",
      "model_module_version": "1.2.0",
      "model_name": "LayoutModel",
      "state": {}
     },
     "1291fe07d3af4370b059ca8ec42f3be4": {
      "model_module": "@jupyter-widgets/controls",
      "model_module_version": "1.5.0",
      "model_name": "HTMLModel",
      "state": {
       "layout": "IPY_MODEL_c2236cde9f754df5a384db168c3462ce",
       "style": "IPY_MODEL_d16a9fc03bb349388ea825ecc7c8c871",
       "value": "<table border=\"1\" class=\"dataframe table table-striped table-hover table-condensed table-responsive\">\n  <thead>\n    <tr style=\"text-align: right;\">\n      <th></th>\n      <th>46108</th>\n    </tr>\n  </thead>\n  <tbody>\n    <tr>\n      <th>met</th>\n      <td>0.0</td>\n    </tr>\n    <tr>\n      <th>wave</th>\n      <td>8184.0</td>\n    </tr>\n    <tr>\n      <th>type</th>\n      <td>buoy</td>\n    </tr>\n    <tr>\n      <th>name</th>\n      <td>Lower Cook Inlet (204)</td>\n    </tr>\n    <tr>\n      <th>pgm</th>\n      <td>IOOS Partners</td>\n    </tr>\n  </tbody>\n</table>"
      }
     },
     "13cdb8f7ed1a4928b6809a72371411ab": {
      "model_module": "jupyter-leaflet",
      "model_module_version": "^0.17.0",
      "model_name": "LeafletMarkerModel",
      "state": {
       "_model_module_version": "^0.17.0",
       "_view_module_version": "^0.17.0",
       "draggable": false,
       "icon": "IPY_MODEL_9e9b274b555f484992315132edf5b69d",
       "location": [
        42.523,
        -70.566
       ],
       "options": [
        "alt",
        "draggable",
        "keyboard",
        "rise_offset",
        "rise_on_hover",
        "rotation_angle",
        "rotation_origin",
        "title",
        "z_index_offset"
       ],
       "popup": "IPY_MODEL_986d5626bac246d08113bd713609e74b"
      }
     },
     "13f84f6d60ac426dbf639f48ad7f4ee0": {
      "model_module": "jupyter-leaflet",
      "model_module_version": "^0.17.0",
      "model_name": "LeafletAwesomeIconModel",
      "state": {
       "_model_module_version": "^0.17.0",
       "_view_module_version": "^0.17.0",
       "icon_color": "white",
       "marker_color": "orange",
       "name": "life-ring"
      }
     },
     "140e142d030a423fa23b9ee406c980e9": {
      "model_module": "@jupyter-widgets/controls",
      "model_module_version": "1.5.0",
      "model_name": "DescriptionStyleModel",
      "state": {
       "description_width": ""
      }
     },
     "145ef4b394dc48488eba15801bc55998": {
      "model_module": "@jupyter-widgets/base",
      "model_module_version": "1.2.0",
      "model_name": "LayoutModel",
      "state": {}
     },
     "1478d1de59784ad68230ea8b98bf17d0": {
      "model_module": "@jupyter-widgets/controls",
      "model_module_version": "1.5.0",
      "model_name": "DescriptionStyleModel",
      "state": {
       "description_width": ""
      }
     },
     "149e792b3fbd4706ab236ee74c883e73": {
      "model_module": "@jupyter-widgets/controls",
      "model_module_version": "1.5.0",
      "model_name": "DescriptionStyleModel",
      "state": {
       "description_width": ""
      }
     },
     "14be5f9adf1b4b8b998043ec359b68b5": {
      "model_module": "jupyter-leaflet",
      "model_module_version": "^0.15.0",
      "model_name": "LeafletAwesomeIconModel",
      "state": {
       "_model_module_version": "^0.15.0",
       "_view_module_version": "^0.15.0",
       "icon_color": "white",
       "marker_color": "orange",
       "name": "life-ring"
      }
     },
     "14eb6e51fff24c37833cbb1b5c7450ef": {
      "model_module": "@jupyter-widgets/base",
      "model_module_version": "1.2.0",
      "model_name": "LayoutModel",
      "state": {}
     },
     "15412136a7e34cdba059f4894df4393c": {
      "model_module": "jupyter-leaflet",
      "model_module_version": "^0.17.0",
      "model_name": "LeafletAwesomeIconModel",
      "state": {
       "_model_module_version": "^0.17.0",
       "_view_module_version": "^0.17.0",
       "icon_color": "white",
       "marker_color": "orange",
       "name": "life-ring"
      }
     },
     "1546cb05fc634f2e8f4c64adb41fd125": {
      "model_module": "jupyter-leaflet",
      "model_module_version": "^0.15.0",
      "model_name": "LeafletMarkerModel",
      "state": {
       "_model_module_version": "^0.15.0",
       "_view_module_version": "^0.15.0",
       "draggable": false,
       "icon": "IPY_MODEL_38e805371c444924ba3e577923be6af0",
       "location": [
        58.301,
        -134.425
       ],
       "options": [
        "alt",
        "draggable",
        "keyboard",
        "rise_offset",
        "rise_on_hover",
        "rotation_angle",
        "rotation_origin",
        "title",
        "z_index_offset"
       ],
       "popup": "IPY_MODEL_b1c134c06ee041d9b6da02be56875080"
      }
     },
     "155a04baa2ac48cc9563e9b583161939": {
      "model_module": "jupyter-leaflet",
      "model_module_version": "^0.17.0",
      "model_name": "LeafletMarkerModel",
      "state": {
       "_model_module_version": "^0.17.0",
       "_view_module_version": "^0.17.0",
       "draggable": false,
       "icon": "IPY_MODEL_e0148074c7da472c8e049d0107475c37",
       "location": [
        41.755,
        -86.968
       ],
       "options": [
        "alt",
        "draggable",
        "keyboard",
        "rise_offset",
        "rise_on_hover",
        "rotation_angle",
        "rotation_origin",
        "title",
        "z_index_offset"
       ],
       "popup": "IPY_MODEL_3fe93f80e7de41e68b5e55029f8c827c"
      }
     },
     "15700266102c4ea78c80a317c6a96766": {
      "model_module": "@jupyter-widgets/controls",
      "model_module_version": "1.5.0",
      "model_name": "DescriptionStyleModel",
      "state": {
       "description_width": ""
      }
     },
     "1597ed5f08644f13906967162fb68c8a": {
      "model_module": "jupyter-leaflet",
      "model_module_version": "^0.17.0",
      "model_name": "LeafletMarkerModel",
      "state": {
       "_model_module_version": "^0.17.0",
       "_view_module_version": "^0.17.0",
       "draggable": false,
       "icon": "IPY_MODEL_44105993477049cd805497f70c2f67ca",
       "location": [
        28.71,
        -95.914
       ],
       "options": [
        "alt",
        "draggable",
        "keyboard",
        "rise_offset",
        "rise_on_hover",
        "rotation_angle",
        "rotation_origin",
        "title",
        "z_index_offset"
       ],
       "popup": "IPY_MODEL_9b38271ce39044e685dc23115679ae08"
      }
     },
     "15b6c0012ed44994b8eac9ad506e1be3": {
      "model_module": "@jupyter-widgets/base",
      "model_module_version": "1.2.0",
      "model_name": "LayoutModel",
      "state": {}
     },
     "15f02c11d0e54c908ca7e6687308e951": {
      "model_module": "@jupyter-widgets/base",
      "model_module_version": "1.2.0",
      "model_name": "LayoutModel",
      "state": {}
     },
     "163718de7d32467da92951f0ae1af568": {
      "model_module": "@jupyter-widgets/controls",
      "model_module_version": "1.5.0",
      "model_name": "HTMLModel",
      "state": {
       "layout": "IPY_MODEL_908882f2e9314a51a11635589375a574",
       "style": "IPY_MODEL_3f800a8a131d40bba4719ef2ebf78bab",
       "value": "<table border=\"1\" class=\"dataframe table table-striped table-hover table-condensed table-responsive\">\n  <thead>\n    <tr style=\"text-align: right;\">\n      <th></th>\n      <th>44040</th>\n    </tr>\n  </thead>\n  <tbody>\n    <tr>\n      <th>met</th>\n      <td>7652.0</td>\n    </tr>\n    <tr>\n      <th>wave</th>\n      <td>0.0</td>\n    </tr>\n    <tr>\n      <th>type</th>\n      <td>buoy</td>\n    </tr>\n    <tr>\n      <th>name</th>\n      <td>Western Long Island Sound</td>\n    </tr>\n    <tr>\n      <th>pgm</th>\n      <td>IOOS Partners</td>\n    </tr>\n  </tbody>\n</table>"
      }
     },
     "167b77912bae442182f59e48389cb1be": {
      "model_module": "@jupyter-widgets/base",
      "model_module_version": "1.2.0",
      "model_name": "LayoutModel",
      "state": {}
     },
     "16a213ee3e1e48ceb79c376965f12b56": {
      "model_module": "@jupyter-widgets/controls",
      "model_module_version": "1.5.0",
      "model_name": "HTMLModel",
      "state": {
       "layout": "IPY_MODEL_e0ab3ba870ce4d5eb79f371cb25a2f0c",
       "style": "IPY_MODEL_ba038c8f747248b7a468f3ca76f0661a",
       "value": "<table border=\"1\" class=\"dataframe table table-striped table-hover table-condensed table-responsive\">\n  <thead>\n    <tr style=\"text-align: right;\">\n      <th></th>\n      <th>41115</th>\n    </tr>\n  </thead>\n  <tbody>\n    <tr>\n      <th>met</th>\n      <td>0.0</td>\n    </tr>\n    <tr>\n      <th>wave</th>\n      <td>10856.0</td>\n    </tr>\n    <tr>\n      <th>type</th>\n      <td>buoy</td>\n    </tr>\n    <tr>\n      <th>name</th>\n      <td>Rincon, Puerto Rico (181)</td>\n    </tr>\n    <tr>\n      <th>pgm</th>\n      <td>IOOS Partners</td>\n    </tr>\n  </tbody>\n</table>"
      }
     },
     "16c113f9015646278a0b60e257fd00a2": {
      "model_module": "@jupyter-widgets/controls",
      "model_module_version": "1.5.0",
      "model_name": "DescriptionStyleModel",
      "state": {
       "description_width": ""
      }
     },
     "174589a1502e409ebbd15815f0ed71ea": {
      "model_module": "@jupyter-widgets/base",
      "model_module_version": "1.2.0",
      "model_name": "LayoutModel",
      "state": {}
     },
     "17511eb7058b4f1a9c86553ea13c23a5": {
      "model_module": "jupyter-leaflet",
      "model_module_version": "^0.17.0",
      "model_name": "LeafletAwesomeIconModel",
      "state": {
       "_model_module_version": "^0.17.0",
       "_view_module_version": "^0.17.0",
       "icon_color": "white",
       "marker_color": "orange",
       "name": "life-ring"
      }
     },
     "17a162b2641248ffb73b716833812fcd": {
      "model_module": "@jupyter-widgets/controls",
      "model_module_version": "1.5.0",
      "model_name": "HTMLModel",
      "state": {
       "layout": "IPY_MODEL_7887615f330c48c5a7e3a964a607f40b",
       "style": "IPY_MODEL_b09b1f3a912a44cc9a92e81e4fb593fd",
       "value": "<table border=\"1\" class=\"dataframe table table-striped table-hover table-condensed table-responsive\">\n  <thead>\n    <tr style=\"text-align: right;\">\n      <th></th>\n      <th>45167</th>\n    </tr>\n  </thead>\n  <tbody>\n    <tr>\n      <th>met</th>\n      <td>8612.0</td>\n    </tr>\n    <tr>\n      <th>wave</th>\n      <td>8578.0</td>\n    </tr>\n    <tr>\n      <th>type</th>\n      <td>buoy</td>\n    </tr>\n    <tr>\n      <th>name</th>\n      <td>Erie Nearshore Buoy, Erie, PA</td>\n    </tr>\n    <tr>\n      <th>pgm</th>\n      <td>IOOS Partners</td>\n    </tr>\n  </tbody>\n</table>"
      }
     },
     "17a7881be85646c7a834945ffb3591a6": {
      "model_module": "jupyter-leaflet",
      "model_module_version": "^0.17.0",
      "model_name": "LeafletAwesomeIconModel",
      "state": {
       "_model_module_version": "^0.17.0",
       "_view_module_version": "^0.17.0",
       "icon_color": "white",
       "marker_color": "orange",
       "name": "life-ring"
      }
     },
     "17b474f12eed48479539877850788049": {
      "model_module": "@jupyter-widgets/controls",
      "model_module_version": "1.5.0",
      "model_name": "DescriptionStyleModel",
      "state": {
       "description_width": ""
      }
     },
     "181008ec53e54aceb84ca3550df547ba": {
      "model_module": "@jupyter-widgets/controls",
      "model_module_version": "1.5.0",
      "model_name": "HTMLModel",
      "state": {
       "layout": "IPY_MODEL_6788f9f1645e4fd5a5c95d697b1c22da",
       "style": "IPY_MODEL_df4db7e03d924ddba512c555f90f3b5f",
       "value": "<table border=\"1\" class=\"dataframe table table-striped table-hover table-condensed table-responsive\">\n  <thead>\n    <tr style=\"text-align: right;\">\n      <th></th>\n      <th>45026</th>\n    </tr>\n  </thead>\n  <tbody>\n    <tr>\n      <th>met</th>\n      <td>31230.0</td>\n    </tr>\n    <tr>\n      <th>wave</th>\n      <td>31246.0</td>\n    </tr>\n    <tr>\n      <th>type</th>\n      <td>buoy</td>\n    </tr>\n    <tr>\n      <th>name</th>\n      <td>Cook Nuclear Plant Buoy, Stevensville, MI</td>\n    </tr>\n    <tr>\n      <th>pgm</th>\n      <td>IOOS Partners</td>\n    </tr>\n  </tbody>\n</table>"
      }
     },
     "1870adefa4274b78ad4e6be3b22854e9": {
      "model_module": "jupyter-leaflet",
      "model_module_version": "^0.17.0",
      "model_name": "LeafletMarkerModel",
      "state": {
       "_model_module_version": "^0.17.0",
       "_view_module_version": "^0.17.0",
       "draggable": false,
       "icon": "IPY_MODEL_08c1e57fc4424bf890da18c264c64ce2",
       "location": [
        27.832,
        -97.486
       ],
       "options": [
        "alt",
        "draggable",
        "keyboard",
        "rise_offset",
        "rise_on_hover",
        "rotation_angle",
        "rotation_origin",
        "title",
        "z_index_offset"
       ],
       "popup": "IPY_MODEL_6c4307190b9a42a7848074b9268a66b1"
      }
     },
     "18a094c4dd164337b6fdd0d52ba96c7d": {
      "model_module": "jupyter-leaflet",
      "model_module_version": "^0.15.0",
      "model_name": "LeafletAwesomeIconModel",
      "state": {
       "_model_module_version": "^0.15.0",
       "_view_module_version": "^0.15.0",
       "icon_color": "white",
       "marker_color": "orange",
       "name": "life-ring"
      }
     },
     "18a166b0232e4f1c8f3a0f58618db2bd": {
      "model_module": "jupyter-leaflet",
      "model_module_version": "^0.15.0",
      "model_name": "LeafletMarkerModel",
      "state": {
       "_model_module_version": "^0.15.0",
       "_view_module_version": "^0.15.0",
       "draggable": false,
       "icon": "IPY_MODEL_390c148b806748cfa5baccbc24d9e37e",
       "location": [
        28.64,
        -96.609
       ],
       "options": [
        "alt",
        "draggable",
        "keyboard",
        "rise_offset",
        "rise_on_hover",
        "rotation_angle",
        "rotation_origin",
        "title",
        "z_index_offset"
       ],
       "popup": "IPY_MODEL_b256d26039494940a24d57ead93e572d"
      }
     },
     "190d0d111f76484c99505e32415a7196": {
      "model_module": "jupyter-leaflet",
      "model_module_version": "^0.15.0",
      "model_name": "LeafletMarkerModel",
      "state": {
       "_model_module_version": "^0.15.0",
       "_view_module_version": "^0.15.0",
       "draggable": false,
       "icon": "IPY_MODEL_88f448ac318e467e94623ade583f0354",
       "location": [
        33.837,
        -78.477
       ],
       "options": [
        "alt",
        "draggable",
        "keyboard",
        "rise_offset",
        "rise_on_hover",
        "rotation_angle",
        "rotation_origin",
        "title",
        "z_index_offset"
       ],
       "popup": "IPY_MODEL_37ef18a8a2cd4a29971ec4c246b04bca"
      }
     },
     "19308df0ea69458887fa14260eb67871": {
      "model_module": "@jupyter-widgets/controls",
      "model_module_version": "1.5.0",
      "model_name": "HTMLModel",
      "state": {
       "layout": "IPY_MODEL_bca21345143e4a3dbf9bf78f670c5ba6",
       "style": "IPY_MODEL_21b00d5ed0134f48b1187c89377021cf",
       "value": "<table border=\"1\" class=\"dataframe table table-striped table-hover table-condensed table-responsive\">\n  <thead>\n    <tr style=\"text-align: right;\">\n      <th></th>\n      <th>scxa2</th>\n    </tr>\n  </thead>\n  <tbody>\n    <tr>\n      <th>met</th>\n      <td>34156.0</td>\n    </tr>\n    <tr>\n      <th>wave</th>\n      <td>0.0</td>\n    </tr>\n    <tr>\n      <th>type</th>\n      <td>fixed</td>\n    </tr>\n    <tr>\n      <th>name</th>\n      <td>Scull Island, AK</td>\n    </tr>\n    <tr>\n      <th>pgm</th>\n      <td>IOOS Partners</td>\n    </tr>\n  </tbody>\n</table>"
      }
     },
     "193860e5a9aa4d6cb348ab8973dc8613": {
      "model_module": "@jupyter-widgets/controls",
      "model_module_version": "1.5.0",
      "model_name": "DescriptionStyleModel",
      "state": {
       "description_width": ""
      }
     },
     "195b71ebc6514c56ba694ad56a3df12a": {
      "model_module": "@jupyter-widgets/base",
      "model_module_version": "1.2.0",
      "model_name": "LayoutModel",
      "state": {}
     },
     "199d3fd3fd124f07a750cdb831a6ada5": {
      "model_module": "@jupyter-widgets/base",
      "model_module_version": "1.2.0",
      "model_name": "LayoutModel",
      "state": {}
     },
     "19bfb4b0d63c407d9ed3350a74c4fab6": {
      "model_module": "@jupyter-widgets/base",
      "model_module_version": "1.2.0",
      "model_name": "LayoutModel",
      "state": {}
     },
     "19ee32289b884c60974c904d6b4fa18c": {
      "model_module": "jupyter-leaflet",
      "model_module_version": "^0.15.0",
      "model_name": "LeafletAwesomeIconModel",
      "state": {
       "_model_module_version": "^0.15.0",
       "_view_module_version": "^0.15.0",
       "icon_color": "white",
       "marker_color": "orange",
       "name": "life-ring"
      }
     },
     "1a7c391320c4456b8438bfc6255d9eae": {
      "model_module": "@jupyter-widgets/controls",
      "model_module_version": "1.5.0",
      "model_name": "DescriptionStyleModel",
      "state": {
       "description_width": ""
      }
     },
     "1a9642ae4a6446009816934d4964cb7c": {
      "model_module": "jupyter-leaflet",
      "model_module_version": "^0.15.0",
      "model_name": "LeafletAwesomeIconModel",
      "state": {
       "_model_module_version": "^0.15.0",
       "_view_module_version": "^0.15.0",
       "icon_color": "white",
       "marker_color": "green",
       "name": "life-ring"
      }
     },
     "1ac26e1272124f24aca32955fadcbbcc": {
      "model_module": "@jupyter-widgets/controls",
      "model_module_version": "1.5.0",
      "model_name": "DescriptionStyleModel",
      "state": {
       "description_width": ""
      }
     },
     "1b61fdd506a948e19ba8a444d116dc1d": {
      "model_module": "@jupyter-widgets/controls",
      "model_module_version": "1.5.0",
      "model_name": "DescriptionStyleModel",
      "state": {
       "description_width": ""
      }
     },
     "1bb6b4c14ef04a819c507b253ff6b134": {
      "model_module": "@jupyter-widgets/controls",
      "model_module_version": "1.5.0",
      "model_name": "HTMLModel",
      "state": {
       "layout": "IPY_MODEL_14eb6e51fff24c37833cbb1b5c7450ef",
       "style": "IPY_MODEL_3bb27c8604e44d92a4a94ea0a20f554d",
       "value": "<table border=\"1\" class=\"dataframe table table-striped table-hover table-condensed table-responsive\">\n  <thead>\n    <tr style=\"text-align: right;\">\n      <th></th>\n      <th>ptla2</th>\n    </tr>\n  </thead>\n  <tbody>\n    <tr>\n      <th>met</th>\n      <td>34360.0</td>\n    </tr>\n    <tr>\n      <th>wave</th>\n      <td>0.0</td>\n    </tr>\n    <tr>\n      <th>type</th>\n      <td>fixed</td>\n    </tr>\n    <tr>\n      <th>name</th>\n      <td>Portland Island, AK</td>\n    </tr>\n    <tr>\n      <th>pgm</th>\n      <td>IOOS Partners</td>\n    </tr>\n  </tbody>\n</table>"
      }
     },
     "1be9c0d168f94065b3b9e80a9e1a7ff8": {
      "model_module": "@jupyter-widgets/controls",
      "model_module_version": "1.5.0",
      "model_name": "DescriptionStyleModel",
      "state": {
       "description_width": ""
      }
     },
     "1c1699b6107c45ff8a34bcc2631e24c9": {
      "model_module": "@jupyter-widgets/base",
      "model_module_version": "1.2.0",
      "model_name": "LayoutModel",
      "state": {}
     },
     "1c69c14bfdc54be9bc3487e8c221f20e": {
      "model_module": "jupyter-leaflet",
      "model_module_version": "^0.17.0",
      "model_name": "LeafletAwesomeIconModel",
      "state": {
       "_model_module_version": "^0.17.0",
       "_view_module_version": "^0.17.0",
       "icon_color": "white",
       "marker_color": "orange",
       "name": "life-ring"
      }
     },
     "1c6efd0836f041fea074a2dd1d1bfe10": {
      "model_module": "jupyter-leaflet",
      "model_module_version": "^0.17.0",
      "model_name": "LeafletMarkerModel",
      "state": {
       "_model_module_version": "^0.17.0",
       "_view_module_version": "^0.17.0",
       "draggable": false,
       "icon": "IPY_MODEL_c9fb155dd8f9453da0efd3ecb20ef127",
       "location": [
        58.298,
        -134.405
       ],
       "options": [
        "alt",
        "draggable",
        "keyboard",
        "rise_offset",
        "rise_on_hover",
        "rotation_angle",
        "rotation_origin",
        "title",
        "z_index_offset"
       ],
       "popup": "IPY_MODEL_65bed975322d4fd281e059fba2abf473"
      }
     },
     "1c8053a08aa34cf4ae87b1f14f177e82": {
      "model_module": "@jupyter-widgets/controls",
      "model_module_version": "1.5.0",
      "model_name": "HTMLModel",
      "state": {
       "layout": "IPY_MODEL_266f532d22064867853d4926b50f0aab",
       "style": "IPY_MODEL_766db18fd838482e9516081b7d6f58ff",
       "value": "<table border=\"1\" class=\"dataframe table table-striped table-hover table-condensed table-responsive\">\n  <thead>\n    <tr style=\"text-align: right;\">\n      <th></th>\n      <th>44037</th>\n    </tr>\n  </thead>\n  <tbody>\n    <tr>\n      <th>met</th>\n      <td>4548.0</td>\n    </tr>\n    <tr>\n      <th>wave</th>\n      <td>4476.0</td>\n    </tr>\n    <tr>\n      <th>type</th>\n      <td>buoy</td>\n    </tr>\n    <tr>\n      <th>name</th>\n      <td>Buoy M01 - Jordan Basin</td>\n    </tr>\n    <tr>\n      <th>pgm</th>\n      <td>IOOS Partners</td>\n    </tr>\n  </tbody>\n</table>"
      }
     },
     "1ca6ffcf8a0c4e42912e75b435b2270f": {
      "model_module": "@jupyter-widgets/base",
      "model_module_version": "1.2.0",
      "model_name": "LayoutModel",
      "state": {}
     },
     "1cdebaf868e145c19f83938954985199": {
      "model_module": "jupyter-leaflet",
      "model_module_version": "^0.15.0",
      "model_name": "LeafletAwesomeIconModel",
      "state": {
       "_model_module_version": "^0.15.0",
       "_view_module_version": "^0.15.0",
       "icon_color": "white",
       "marker_color": "orange",
       "name": "life-ring"
      }
     },
     "1d2dcba93f17452384212ae8289f41e1": {
      "model_module": "@jupyter-widgets/controls",
      "model_module_version": "1.5.0",
      "model_name": "HTMLModel",
      "state": {
       "layout": "IPY_MODEL_8f2cf9299c944367984b7c0f1a167b41",
       "style": "IPY_MODEL_ab383e752a9d4dafb7633eb1c460725d",
       "value": "<table border=\"1\" class=\"dataframe table table-striped table-hover table-condensed table-responsive\">\n  <thead>\n    <tr style=\"text-align: right;\">\n      <th></th>\n      <th>grim4</th>\n    </tr>\n  </thead>\n  <tbody>\n    <tr>\n      <th>met</th>\n      <td>30830.0</td>\n    </tr>\n    <tr>\n      <th>wave</th>\n      <td>0.0</td>\n    </tr>\n    <tr>\n      <th>type</th>\n      <td>fixed</td>\n    </tr>\n    <tr>\n      <th>name</th>\n      <td>Granite Island, MI</td>\n    </tr>\n    <tr>\n      <th>pgm</th>\n      <td>IOOS Partners</td>\n    </tr>\n  </tbody>\n</table>"
      }
     },
     "1d72bd9f7a044f0084e17404c9cdbedb": {
      "model_module": "@jupyter-widgets/controls",
      "model_module_version": "1.5.0",
      "model_name": "HTMLModel",
      "state": {
       "layout": "IPY_MODEL_8c0851b9c7c049638fd35ae666680a31",
       "style": "IPY_MODEL_7efa94c907b4458c8799e7d18172e2fd",
       "value": "<table border=\"1\" class=\"dataframe table table-striped table-hover table-condensed table-responsive\">\n  <thead>\n    <tr style=\"text-align: right;\">\n      <th></th>\n      <th>51205</th>\n    </tr>\n  </thead>\n  <tbody>\n    <tr>\n      <th>met</th>\n      <td>0.0</td>\n    </tr>\n    <tr>\n      <th>wave</th>\n      <td>7240.0</td>\n    </tr>\n    <tr>\n      <th>type</th>\n      <td>buoy</td>\n    </tr>\n    <tr>\n      <th>name</th>\n      <td>Pauwela, Maui, HI (187)</td>\n    </tr>\n    <tr>\n      <th>pgm</th>\n      <td>IOOS Partners</td>\n    </tr>\n  </tbody>\n</table>"
      }
     },
     "1d72d5457f094c1aba84bde8a191066b": {
      "model_module": "@jupyter-widgets/controls",
      "model_module_version": "1.5.0",
      "model_name": "DescriptionStyleModel",
      "state": {
       "description_width": ""
      }
     },
     "1dcb5986ceb64778a8ce65462af49a28": {
      "model_module": "@jupyter-widgets/controls",
      "model_module_version": "1.5.0",
      "model_name": "HTMLModel",
      "state": {
       "layout": "IPY_MODEL_9a1f560c350c4e8dbd6083ae1a916c5e",
       "style": "IPY_MODEL_1a7c391320c4456b8438bfc6255d9eae",
       "value": "<table border=\"1\" class=\"dataframe table table-striped table-hover table-condensed table-responsive\">\n  <thead>\n    <tr style=\"text-align: right;\">\n      <th></th>\n      <th>ptla2</th>\n    </tr>\n  </thead>\n  <tbody>\n    <tr>\n      <th>met</th>\n      <td>34360.0</td>\n    </tr>\n    <tr>\n      <th>wave</th>\n      <td>0.0</td>\n    </tr>\n    <tr>\n      <th>type</th>\n      <td>fixed</td>\n    </tr>\n    <tr>\n      <th>name</th>\n      <td>Portland Island, AK</td>\n    </tr>\n    <tr>\n      <th>pgm</th>\n      <td>IOOS Partners</td>\n    </tr>\n  </tbody>\n</table>"
      }
     },
     "1e0175f5b10b4c5d994e2d2e4738b501": {
      "model_module": "jupyter-leaflet",
      "model_module_version": "^0.15.0",
      "model_name": "LeafletAwesomeIconModel",
      "state": {
       "_model_module_version": "^0.15.0",
       "_view_module_version": "^0.15.0",
       "icon_color": "white",
       "marker_color": "orange",
       "name": "life-ring"
      }
     },
     "1e2335b3d9e44a31abe2d96f4a766db0": {
      "model_module": "jupyter-leaflet",
      "model_module_version": "^0.15.0",
      "model_name": "LeafletMarkerModel",
      "state": {
       "_model_module_version": "^0.15.0",
       "_view_module_version": "^0.15.0",
       "draggable": false,
       "icon": "IPY_MODEL_64b64cb3a6c54a809f3d29b12b6496df",
       "location": [
        28.936,
        -95.294
       ],
       "options": [
        "alt",
        "draggable",
        "keyboard",
        "rise_offset",
        "rise_on_hover",
        "rotation_angle",
        "rotation_origin",
        "title",
        "z_index_offset"
       ],
       "popup": "IPY_MODEL_4629d5d700fc490ea0ac833abe52198a"
      }
     },
     "1e347c07a81a4081b2a26075d2f7c1c6": {
      "model_module": "@jupyter-widgets/controls",
      "model_module_version": "1.5.0",
      "model_name": "HTMLModel",
      "state": {
       "layout": "IPY_MODEL_26c7ba00043e47af811337ab561c968c",
       "style": "IPY_MODEL_efef5d45e6284d03a2a23c06b7fd45d7",
       "value": "<table border=\"1\" class=\"dataframe table table-striped table-hover table-condensed table-responsive\">\n  <thead>\n    <tr style=\"text-align: right;\">\n      <th></th>\n      <th>41037</th>\n    </tr>\n  </thead>\n  <tbody>\n    <tr>\n      <th>met</th>\n      <td>5874.0</td>\n    </tr>\n    <tr>\n      <th>wave</th>\n      <td>0.0</td>\n    </tr>\n    <tr>\n      <th>type</th>\n      <td>buoy</td>\n    </tr>\n    <tr>\n      <th>name</th>\n      <td>Wrightsville Beach Offshore, NC (ILM3)</td>\n    </tr>\n    <tr>\n      <th>pgm</th>\n      <td>IOOS Partners</td>\n    </tr>\n  </tbody>\n</table>"
      }
     },
     "1e63ee75b24d444e98c9e5ec83a8d381": {
      "model_module": "@jupyter-widgets/controls",
      "model_module_version": "1.5.0",
      "model_name": "DescriptionStyleModel",
      "state": {
       "description_width": ""
      }
     },
     "1ea95a9a21424f9589abd04ddef104d8": {
      "model_module": "jupyter-leaflet",
      "model_module_version": "^0.17.0",
      "model_name": "LeafletMarkerModel",
      "state": {
       "_model_module_version": "^0.17.0",
       "_view_module_version": "^0.17.0",
       "draggable": false,
       "icon": "IPY_MODEL_5b8e875529ba463da872a3b20b4c2797",
       "location": [
        43.497,
        -67.876
       ],
       "options": [
        "alt",
        "draggable",
        "keyboard",
        "rise_offset",
        "rise_on_hover",
        "rotation_angle",
        "rotation_origin",
        "title",
        "z_index_offset"
       ],
       "popup": "IPY_MODEL_1c8053a08aa34cf4ae87b1f14f177e82"
      }
     },
     "1eb1fa16042a4ab7ae7b5f7380d4a1cd": {
      "model_module": "@jupyter-widgets/controls",
      "model_module_version": "1.5.0",
      "model_name": "HTMLModel",
      "state": {
       "layout": "IPY_MODEL_eca55cb6162840adb804cd4fa194be3e",
       "style": "IPY_MODEL_befa3ec1692748489faaef41f632f6fa",
       "value": "<table border=\"1\" class=\"dataframe table table-striped table-hover table-condensed table-responsive\">\n  <thead>\n    <tr style=\"text-align: right;\">\n      <th></th>\n      <th>46108</th>\n    </tr>\n  </thead>\n  <tbody>\n    <tr>\n      <th>met</th>\n      <td>0.0</td>\n    </tr>\n    <tr>\n      <th>wave</th>\n      <td>8184.0</td>\n    </tr>\n    <tr>\n      <th>type</th>\n      <td>buoy</td>\n    </tr>\n    <tr>\n      <th>name</th>\n      <td>Lower Cook Inlet (204)</td>\n    </tr>\n    <tr>\n      <th>pgm</th>\n      <td>IOOS Partners</td>\n    </tr>\n  </tbody>\n</table>"
      }
     },
     "1eda53355a0f41aca807c43f89c89358": {
      "model_module": "@jupyter-widgets/base",
      "model_module_version": "1.2.0",
      "model_name": "LayoutModel",
      "state": {}
     },
     "1eec2597541743de945520eeda026eea": {
      "model_module": "jupyter-leaflet",
      "model_module_version": "^0.15.0",
      "model_name": "LeafletAwesomeIconModel",
      "state": {
       "_model_module_version": "^0.15.0",
       "_view_module_version": "^0.15.0",
       "icon_color": "white",
       "marker_color": "orange",
       "name": "life-ring"
      }
     },
     "1f16d4cc327f4596a21a4d9ad5b36abf": {
      "model_module": "@jupyter-widgets/controls",
      "model_module_version": "1.5.0",
      "model_name": "DescriptionStyleModel",
      "state": {
       "description_width": ""
      }
     },
     "1f8519be4dbe4b66b2cca0187a81c542": {
      "model_module": "@jupyter-widgets/controls",
      "model_module_version": "1.5.0",
      "model_name": "HTMLModel",
      "state": {
       "layout": "IPY_MODEL_043993a9dae84d9183f34d2d7cf2998e",
       "style": "IPY_MODEL_1ac26e1272124f24aca32955fadcbbcc",
       "value": "<table border=\"1\" class=\"dataframe table table-striped table-hover table-condensed table-responsive\">\n  <thead>\n    <tr style=\"text-align: right;\">\n      <th></th>\n      <th>45025</th>\n    </tr>\n  </thead>\n  <tbody>\n    <tr>\n      <th>met</th>\n      <td>70528.0</td>\n    </tr>\n    <tr>\n      <th>wave</th>\n      <td>70528.0</td>\n    </tr>\n    <tr>\n      <th>type</th>\n      <td>buoy</td>\n    </tr>\n    <tr>\n      <th>name</th>\n      <td>South Entry Buoy, South Keweenaw Peninsula, MI</td>\n    </tr>\n    <tr>\n      <th>pgm</th>\n      <td>IOOS Partners</td>\n    </tr>\n  </tbody>\n</table>"
      }
     },
     "1f8a0ff38f1340bf8a16582b58166a74": {
      "model_module": "jupyter-leaflet",
      "model_module_version": "^0.15.0",
      "model_name": "LeafletAwesomeIconModel",
      "state": {
       "_model_module_version": "^0.15.0",
       "_view_module_version": "^0.15.0",
       "icon_color": "white",
       "marker_color": "red",
       "name": "life-ring"
      }
     },
     "203542ef25a64ace88bdaee7bf9787c0": {
      "model_module": "@jupyter-widgets/controls",
      "model_module_version": "1.5.0",
      "model_name": "HTMLModel",
      "state": {
       "layout": "IPY_MODEL_b1f3a66002fd41158e46864b856172d6",
       "style": "IPY_MODEL_5f6b94a0e06045d999a9364ef5f90d13",
       "value": "<table border=\"1\" class=\"dataframe table table-striped table-hover table-condensed table-responsive\">\n  <thead>\n    <tr style=\"text-align: right;\">\n      <th></th>\n      <th>51207</th>\n    </tr>\n  </thead>\n  <tbody>\n    <tr>\n      <th>met</th>\n      <td>0.0</td>\n    </tr>\n    <tr>\n      <th>wave</th>\n      <td>11086.0</td>\n    </tr>\n    <tr>\n      <th>type</th>\n      <td>buoy</td>\n    </tr>\n    <tr>\n      <th>name</th>\n      <td>Kaneohe Bay, HI (198)</td>\n    </tr>\n    <tr>\n      <th>pgm</th>\n      <td>IOOS Partners</td>\n    </tr>\n  </tbody>\n</table>"
      }
     },
     "208a95d84575496eb56b3e716d79d7a1": {
      "model_module": "@jupyter-widgets/base",
      "model_module_version": "1.2.0",
      "model_name": "LayoutModel",
      "state": {}
     },
     "20f0d23d9bbb4a47ac0d09a47f562ef8": {
      "model_module": "jupyter-leaflet",
      "model_module_version": "^0.15.0",
      "model_name": "LeafletMarkerModel",
      "state": {
       "_model_module_version": "^0.15.0",
       "_view_module_version": "^0.15.0",
       "draggable": false,
       "icon": "IPY_MODEL_28434ba43a7f43c8a7b97c1cb1682693",
       "location": [
        26.801,
        -97.471
       ],
       "options": [
        "alt",
        "draggable",
        "keyboard",
        "rise_offset",
        "rise_on_hover",
        "rotation_angle",
        "rotation_origin",
        "title",
        "z_index_offset"
       ],
       "popup": "IPY_MODEL_30d2291fe706423ea8aa821ff3db8e5d"
      }
     },
     "20f7e17248e34213baf4f9f47e8fa864": {
      "model_module": "@jupyter-widgets/controls",
      "model_module_version": "1.5.0",
      "model_name": "DescriptionStyleModel",
      "state": {
       "description_width": ""
      }
     },
     "211af34f21a04254b83efe376a7ba2ce": {
      "model_module": "@jupyter-widgets/controls",
      "model_module_version": "1.5.0",
      "model_name": "HTMLModel",
      "state": {
       "layout": "IPY_MODEL_234a557d39684d6393c661ba88157ca0",
       "style": "IPY_MODEL_193860e5a9aa4d6cb348ab8973dc8613",
       "value": "<table border=\"1\" class=\"dataframe table table-striped table-hover table-condensed table-responsive\">\n  <thead>\n    <tr style=\"text-align: right;\">\n      <th></th>\n      <th>45023</th>\n    </tr>\n  </thead>\n  <tbody>\n    <tr>\n      <th>met</th>\n      <td>61032.0</td>\n    </tr>\n    <tr>\n      <th>wave</th>\n      <td>61032.0</td>\n    </tr>\n    <tr>\n      <th>type</th>\n      <td>buoy</td>\n    </tr>\n    <tr>\n      <th>name</th>\n      <td>North Entry Buoy, North Keweenaw Peninsula, MI</td>\n    </tr>\n    <tr>\n      <th>pgm</th>\n      <td>IOOS Partners</td>\n    </tr>\n  </tbody>\n</table>"
      }
     },
     "214adf88c07b4e009c02ec91243a5634": {
      "model_module": "@jupyter-widgets/controls",
      "model_module_version": "1.5.0",
      "model_name": "HTMLModel",
      "state": {
       "layout": "IPY_MODEL_2bc97db141504e36b9923fc4598f7edc",
       "style": "IPY_MODEL_fd407e7b75904f28b2f2be9c3d3fd9bc",
       "value": "<table border=\"1\" class=\"dataframe table table-striped table-hover table-condensed table-responsive\">\n  <thead>\n    <tr style=\"text-align: right;\">\n      <th></th>\n      <th>mvxa2</th>\n    </tr>\n  </thead>\n  <tbody>\n    <tr>\n      <th>met</th>\n      <td>34442.0</td>\n    </tr>\n    <tr>\n      <th>wave</th>\n      <td>0.0</td>\n    </tr>\n    <tr>\n      <th>type</th>\n      <td>fixed</td>\n    </tr>\n    <tr>\n      <th>name</th>\n      <td>Mendenhall Valley, AK</td>\n    </tr>\n    <tr>\n      <th>pgm</th>\n      <td>IOOS Partners</td>\n    </tr>\n  </tbody>\n</table>"
      }
     },
     "2186c6587ac14fc1bedbac9577cd701d": {
      "model_module": "@jupyter-widgets/controls",
      "model_module_version": "1.5.0",
      "model_name": "DescriptionStyleModel",
      "state": {
       "description_width": ""
      }
     },
     "21b00d5ed0134f48b1187c89377021cf": {
      "model_module": "@jupyter-widgets/controls",
      "model_module_version": "1.5.0",
      "model_name": "DescriptionStyleModel",
      "state": {
       "description_width": ""
      }
     },
     "21cd40843bde45d18c70e904f756e328": {
      "model_module": "@jupyter-widgets/controls",
      "model_module_version": "1.5.0",
      "model_name": "HTMLModel",
      "state": {
       "layout": "IPY_MODEL_fa8c9b77599846e3a772045b2732fe50",
       "style": "IPY_MODEL_7f64fb6c8ed14a1e877ccc3275cce16b",
       "value": "<table border=\"1\" class=\"dataframe table table-striped table-hover table-condensed table-responsive\">\n  <thead>\n    <tr style=\"text-align: right;\">\n      <th></th>\n      <th>gixa2</th>\n    </tr>\n  </thead>\n  <tbody>\n    <tr>\n      <th>met</th>\n      <td>34236.0</td>\n    </tr>\n    <tr>\n      <th>wave</th>\n      <td>0.0</td>\n    </tr>\n    <tr>\n      <th>type</th>\n      <td>fixed</td>\n    </tr>\n    <tr>\n      <th>name</th>\n      <td>Guard Island, AK</td>\n    </tr>\n    <tr>\n      <th>pgm</th>\n      <td>IOOS Partners</td>\n    </tr>\n  </tbody>\n</table>"
      }
     },
     "21dfbccf804a4b20baee54296445f37d": {
      "model_module": "jupyter-leaflet",
      "model_module_version": "^0.15.0",
      "model_name": "LeafletMarkerModel",
      "state": {
       "_model_module_version": "^0.15.0",
       "_view_module_version": "^0.15.0",
       "draggable": false,
       "icon": "IPY_MODEL_b01e0bd75b1840a8ac2244aeb502afe5",
       "location": [
        28.446,
        -96.396
       ],
       "options": [
        "alt",
        "draggable",
        "keyboard",
        "rise_offset",
        "rise_on_hover",
        "rotation_angle",
        "rotation_origin",
        "title",
        "z_index_offset"
       ],
       "popup": "IPY_MODEL_0f57353af2f64e57a7579262bb152e37"
      }
     },
     "2220190f62154d4d9b122a4198337e56": {
      "model_module": "@jupyter-widgets/controls",
      "model_module_version": "1.5.0",
      "model_name": "DescriptionStyleModel",
      "state": {
       "description_width": ""
      }
     },
     "2247b6da18454700877b0d407ddf185a": {
      "model_module": "@jupyter-widgets/base",
      "model_module_version": "1.2.0",
      "model_name": "LayoutModel",
      "state": {}
     },
     "226b0f9365cc4c4b86380560d0511dc0": {
      "model_module": "@jupyter-widgets/base",
      "model_module_version": "1.2.0",
      "model_name": "LayoutModel",
      "state": {}
     },
     "22f48ff35031406783ba36d433107bde": {
      "model_module": "jupyter-leaflet",
      "model_module_version": "^0.15.0",
      "model_name": "LeafletMarkerModel",
      "state": {
       "_model_module_version": "^0.15.0",
       "_view_module_version": "^0.15.0",
       "draggable": false,
       "icon": "IPY_MODEL_7217ca177a9d411abe157a4432bb21e6",
       "location": [
        58.346,
        -134.752
       ],
       "options": [
        "alt",
        "draggable",
        "keyboard",
        "rise_offset",
        "rise_on_hover",
        "rotation_angle",
        "rotation_origin",
        "title",
        "z_index_offset"
       ],
       "popup": "IPY_MODEL_1bb6b4c14ef04a819c507b253ff6b134"
      }
     },
     "233f6df610ca4d4a9f0dbe3130c482e6": {
      "model_module": "@jupyter-widgets/controls",
      "model_module_version": "1.5.0",
      "model_name": "DescriptionStyleModel",
      "state": {
       "description_width": ""
      }
     },
     "234a557d39684d6393c661ba88157ca0": {
      "model_module": "@jupyter-widgets/base",
      "model_module_version": "1.2.0",
      "model_name": "LayoutModel",
      "state": {}
     },
     "235a9b2cc186487da9a6c0c9954d5c65": {
      "model_module": "jupyter-leaflet",
      "model_module_version": "^0.17.0",
      "model_name": "LeafletAwesomeIconModel",
      "state": {
       "_model_module_version": "^0.17.0",
       "_view_module_version": "^0.17.0",
       "icon_color": "white",
       "marker_color": "green",
       "name": "life-ring"
      }
     },
     "236adb77e3d64b76b69c43d1cf1876f9": {
      "model_module": "jupyter-leaflet",
      "model_module_version": "^0.15.0",
      "model_name": "LeafletAwesomeIconModel",
      "state": {
       "_model_module_version": "^0.15.0",
       "_view_module_version": "^0.15.0",
       "icon_color": "white",
       "marker_color": "orange",
       "name": "life-ring"
      }
     },
     "23d5299464af427ab984f4ea8a7117d2": {
      "model_module": "@jupyter-widgets/controls",
      "model_module_version": "1.5.0",
      "model_name": "HTMLModel",
      "state": {
       "layout": "IPY_MODEL_4f8d1c359ada433f92dd5fac50f2ba02",
       "style": "IPY_MODEL_f3e29f300a60486e87d66ec83c6598bd",
       "value": "<table border=\"1\" class=\"dataframe table table-striped table-hover table-condensed table-responsive\">\n  <thead>\n    <tr style=\"text-align: right;\">\n      <th></th>\n      <th>clbf1</th>\n    </tr>\n  </thead>\n  <tbody>\n    <tr>\n      <th>met</th>\n      <td>58620.0</td>\n    </tr>\n    <tr>\n      <th>wave</th>\n      <td>0.0</td>\n    </tr>\n    <tr>\n      <th>type</th>\n      <td>fixed</td>\n    </tr>\n    <tr>\n      <th>name</th>\n      <td>Clam Bayou, FL</td>\n    </tr>\n    <tr>\n      <th>pgm</th>\n      <td>IOOS Partners</td>\n    </tr>\n  </tbody>\n</table>"
      }
     },
     "23d57395776c4425bc6a3e017e18dedd": {
      "model_module": "jupyter-leaflet",
      "model_module_version": "^0.17.0",
      "model_name": "LeafletMarkerModel",
      "state": {
       "_model_module_version": "^0.17.0",
       "_view_module_version": "^0.17.0",
       "draggable": false,
       "icon": "IPY_MODEL_6cf2ae141ee84fc18c660e87dd659887",
       "location": [
        41.912,
        -87.624
       ],
       "options": [
        "alt",
        "draggable",
        "keyboard",
        "rise_offset",
        "rise_on_hover",
        "rotation_angle",
        "rotation_origin",
        "title",
        "z_index_offset"
       ],
       "popup": "IPY_MODEL_c41a016c6cde4c4684644758d78208b3"
      }
     },
     "23ef0fc8ec814b758ebadbfde57af81b": {
      "model_module": "@jupyter-widgets/controls",
      "model_module_version": "1.5.0",
      "model_name": "DescriptionStyleModel",
      "state": {
       "description_width": ""
      }
     },
     "2400c400e2664e219660a2f9b86764a0": {
      "model_module": "@jupyter-widgets/controls",
      "model_module_version": "1.5.0",
      "model_name": "HTMLModel",
      "state": {
       "layout": "IPY_MODEL_be5f74a338d04b18b9351eac7eca5c76",
       "style": "IPY_MODEL_4577e4b30dc94f08a1a0c212b7bb8149",
       "value": "<table border=\"1\" class=\"dataframe table table-striped table-hover table-condensed table-responsive\">\n  <thead>\n    <tr style=\"text-align: right;\">\n      <th></th>\n      <th>lixa2</th>\n    </tr>\n  </thead>\n  <tbody>\n    <tr>\n      <th>met</th>\n      <td>34322.0</td>\n    </tr>\n    <tr>\n      <th>wave</th>\n      <td>0.0</td>\n    </tr>\n    <tr>\n      <th>type</th>\n      <td>fixed</td>\n    </tr>\n    <tr>\n      <th>name</th>\n      <td>Little Island, AK</td>\n    </tr>\n    <tr>\n      <th>pgm</th>\n      <td>IOOS Partners</td>\n    </tr>\n  </tbody>\n</table>"
      }
     },
     "241d74e9a9584512ab8f8c379eafebfd": {
      "model_module": "@jupyter-widgets/controls",
      "model_module_version": "1.5.0",
      "model_name": "HTMLModel",
      "state": {
       "layout": "IPY_MODEL_e269ff1dec5648cbad91e9ee23491a07",
       "style": "IPY_MODEL_430ab269f42d4685a40faddb65e24cca",
       "value": "<table border=\"1\" class=\"dataframe table table-striped table-hover table-condensed table-responsive\">\n  <thead>\n    <tr style=\"text-align: right;\">\n      <th></th>\n      <th>haxa2</th>\n    </tr>\n  </thead>\n  <tbody>\n    <tr>\n      <th>met</th>\n      <td>34436.0</td>\n    </tr>\n    <tr>\n      <th>wave</th>\n      <td>0.0</td>\n    </tr>\n    <tr>\n      <th>type</th>\n      <td>fixed</td>\n    </tr>\n    <tr>\n      <th>name</th>\n      <td>Haines Harbor, AK</td>\n    </tr>\n    <tr>\n      <th>pgm</th>\n      <td>IOOS Partners</td>\n    </tr>\n  </tbody>\n</table>"
      }
     },
     "24961e287b78443b83d110816341af03": {
      "model_module": "@jupyter-widgets/controls",
      "model_module_version": "1.5.0",
      "model_name": "HTMLModel",
      "state": {
       "layout": "IPY_MODEL_10e829b1f97045a9890b44ef3cac0193",
       "style": "IPY_MODEL_4e7ded05b73543c291337c279b472c7b",
       "value": "<table border=\"1\" class=\"dataframe table table-striped table-hover table-condensed table-responsive\">\n  <thead>\n    <tr style=\"text-align: right;\">\n      <th></th>\n      <th>kexa2</th>\n    </tr>\n  </thead>\n  <tbody>\n    <tr>\n      <th>met</th>\n      <td>34314.0</td>\n    </tr>\n    <tr>\n      <th>wave</th>\n      <td>0.0</td>\n    </tr>\n    <tr>\n      <th>type</th>\n      <td>fixed</td>\n    </tr>\n    <tr>\n      <th>name</th>\n      <td>Ketchikan Harbor, AK</td>\n    </tr>\n    <tr>\n      <th>pgm</th>\n      <td>IOOS Partners</td>\n    </tr>\n  </tbody>\n</table>"
      }
     },
     "24c2510bbb244d759efca62c7f467936": {
      "model_module": "@jupyter-widgets/base",
      "model_module_version": "1.2.0",
      "model_name": "LayoutModel",
      "state": {}
     },
     "24ffa3e894974774b44a17270e24f500": {
      "model_module": "jupyter-leaflet",
      "model_module_version": "^0.17.0",
      "model_name": "LeafletMapStyleModel",
      "state": {
       "_model_module_version": "^0.17.0"
      }
     },
     "254efb9212a8416c8b2c7af910a418be": {
      "model_module": "@jupyter-widgets/controls",
      "model_module_version": "1.5.0",
      "model_name": "DescriptionStyleModel",
      "state": {
       "description_width": ""
      }
     },
     "256e606810dd47a6afd8c42f079ac695": {
      "model_module": "@jupyter-widgets/controls",
      "model_module_version": "1.5.0",
      "model_name": "DescriptionStyleModel",
      "state": {
       "description_width": ""
      }
     },
     "258922540d66497590abfcb7ce571158": {
      "model_module": "@jupyter-widgets/controls",
      "model_module_version": "1.5.0",
      "model_name": "HTMLModel",
      "state": {
       "layout": "IPY_MODEL_1266881ff8964263a9b64c677498250e",
       "style": "IPY_MODEL_d9a5656ea1b34ea3b8126fd0b78e76f9",
       "value": "<table border=\"1\" class=\"dataframe table table-striped table-hover table-condensed table-responsive\">\n  <thead>\n    <tr style=\"text-align: right;\">\n      <th></th>\n      <th>44022</th>\n    </tr>\n  </thead>\n  <tbody>\n    <tr>\n      <th>met</th>\n      <td>7790.0</td>\n    </tr>\n    <tr>\n      <th>wave</th>\n      <td>0.0</td>\n    </tr>\n    <tr>\n      <th>type</th>\n      <td>buoy</td>\n    </tr>\n    <tr>\n      <th>name</th>\n      <td>Execution Rocks</td>\n    </tr>\n    <tr>\n      <th>pgm</th>\n      <td>IOOS Partners</td>\n    </tr>\n  </tbody>\n</table>"
      }
     },
     "259c449b3ff84222bb9af223875fd28e": {
      "model_module": "@jupyter-widgets/controls",
      "model_module_version": "1.5.0",
      "model_name": "DescriptionStyleModel",
      "state": {
       "description_width": ""
      }
     },
     "25c6d73800904d0f98bba3b8cabb280e": {
      "model_module": "jupyter-leaflet",
      "model_module_version": "^0.15.0",
      "model_name": "LeafletMarkerModel",
      "state": {
       "_model_module_version": "^0.15.0",
       "_view_module_version": "^0.15.0",
       "draggable": false,
       "icon": "IPY_MODEL_ec5970105b1d4345ba471ea06bdd6c18",
       "location": [
        29.076,
        -95.122
       ],
       "options": [
        "alt",
        "draggable",
        "keyboard",
        "rise_offset",
        "rise_on_hover",
        "rotation_angle",
        "rotation_origin",
        "title",
        "z_index_offset"
       ],
       "popup": "IPY_MODEL_8f40b9548ea24229905efbe29715efb8"
      }
     },
     "25d6b6ab9a564fd7b51396ecb1e50acf": {
      "model_module": "@jupyter-widgets/base",
      "model_module_version": "1.2.0",
      "model_name": "LayoutModel",
      "state": {}
     },
     "25d880228a214c8589bdce088018d3cf": {
      "model_module": "jupyter-leaflet",
      "model_module_version": "^0.15.0",
      "model_name": "LeafletMarkerModel",
      "state": {
       "_model_module_version": "^0.15.0",
       "_view_module_version": "^0.15.0",
       "draggable": false,
       "icon": "IPY_MODEL_00c75d83c7274e16829492fe7f5d668e",
       "location": [
        29.867,
        -93.931
       ],
       "options": [
        "alt",
        "draggable",
        "keyboard",
        "rise_offset",
        "rise_on_hover",
        "rotation_angle",
        "rotation_origin",
        "title",
        "z_index_offset"
       ],
       "popup": "IPY_MODEL_e7179906557d46faadd3337e8ebaad24"
      }
     },
     "26020c6b49e24bd5b06fc3215cef3f08": {
      "model_module": "jupyter-leaflet",
      "model_module_version": "^0.17.0",
      "model_name": "LeafletMarkerModel",
      "state": {
       "_model_module_version": "^0.17.0",
       "_view_module_version": "^0.17.0",
       "draggable": false,
       "icon": "IPY_MODEL_f192b3fb6abb40958858f88b93fd1cf6",
       "location": [
        28.446,
        -96.396
       ],
       "options": [
        "alt",
        "draggable",
        "keyboard",
        "rise_offset",
        "rise_on_hover",
        "rotation_angle",
        "rotation_origin",
        "title",
        "z_index_offset"
       ],
       "popup": "IPY_MODEL_6b3f1084badc470cb3d6a01b6a5caea8"
      }
     },
     "262fb6f5a98d4ab2be1c2cd0123e1f77": {
      "model_module": "jupyter-leaflet",
      "model_module_version": "^0.17.0",
      "model_name": "LeafletMarkerModel",
      "state": {
       "_model_module_version": "^0.17.0",
       "_view_module_version": "^0.17.0",
       "draggable": false,
       "icon": "IPY_MODEL_52ef5634154f4019804c30be546bd59e",
       "location": [
        -14.273,
        -170.5
       ],
       "options": [
        "alt",
        "draggable",
        "keyboard",
        "rise_offset",
        "rise_on_hover",
        "rotation_angle",
        "rotation_origin",
        "title",
        "z_index_offset"
       ],
       "popup": "IPY_MODEL_2d21c4dfc1494414802c6cd249966ff1"
      }
     },
     "266f532d22064867853d4926b50f0aab": {
      "model_module": "@jupyter-widgets/base",
      "model_module_version": "1.2.0",
      "model_name": "LayoutModel",
      "state": {}
     },
     "2679d5f417c94ff995db2046c8af193c": {
      "model_module": "jupyter-leaflet",
      "model_module_version": "^0.15.0",
      "model_name": "LeafletAwesomeIconModel",
      "state": {
       "_model_module_version": "^0.15.0",
       "_view_module_version": "^0.15.0",
       "icon_color": "white",
       "marker_color": "green",
       "name": "life-ring"
      }
     },
     "26a02227e35c4cc9bb5a5f5770e8985f": {
      "model_module": "@jupyter-widgets/controls",
      "model_module_version": "1.5.0",
      "model_name": "DescriptionStyleModel",
      "state": {
       "description_width": ""
      }
     },
     "26c7ba00043e47af811337ab561c968c": {
      "model_module": "@jupyter-widgets/base",
      "model_module_version": "1.2.0",
      "model_name": "LayoutModel",
      "state": {}
     },
     "27104db39e0e49529f59c0ada86247bd": {
      "model_module": "@jupyter-widgets/controls",
      "model_module_version": "1.5.0",
      "model_name": "DescriptionStyleModel",
      "state": {
       "description_width": ""
      }
     },
     "27255270a5974b02be007188d5ac09f0": {
      "model_module": "@jupyter-widgets/controls",
      "model_module_version": "1.5.0",
      "model_name": "HTMLModel",
      "state": {
       "layout": "IPY_MODEL_d04723cb65ed4c229c0d7a20d405b3a3",
       "style": "IPY_MODEL_06c0633847154d509889111ef1d868e7",
       "value": "<table border=\"1\" class=\"dataframe table table-striped table-hover table-condensed table-responsive\">\n  <thead>\n    <tr style=\"text-align: right;\">\n      <th></th>\n      <th>42098</th>\n    </tr>\n  </thead>\n  <tbody>\n    <tr>\n      <th>met</th>\n      <td>0.0</td>\n    </tr>\n    <tr>\n      <th>wave</th>\n      <td>11480.0</td>\n    </tr>\n    <tr>\n      <th>type</th>\n      <td>buoy</td>\n    </tr>\n    <tr>\n      <th>name</th>\n      <td>Egmont Channel Entrance, FL (214)</td>\n    </tr>\n    <tr>\n      <th>pgm</th>\n      <td>IOOS Partners</td>\n    </tr>\n  </tbody>\n</table>"
      }
     },
     "2787d49e00134856b7f3c3d378573795": {
      "model_module": "jupyter-leaflet",
      "model_module_version": "^0.17.0",
      "model_name": "LeafletAwesomeIconModel",
      "state": {
       "_model_module_version": "^0.17.0",
       "_view_module_version": "^0.17.0",
       "icon_color": "white",
       "marker_color": "orange",
       "name": "life-ring"
      }
     },
     "27c18ad2237a49e3a7c080fc4a79f161": {
      "model_module": "jupyter-leaflet",
      "model_module_version": "^0.17.0",
      "model_name": "LeafletAwesomeIconModel",
      "state": {
       "_model_module_version": "^0.17.0",
       "_view_module_version": "^0.17.0",
       "icon_color": "white",
       "marker_color": "orange",
       "name": "life-ring"
      }
     },
     "27c78a5f33cf4f7698dffb4caac8ca89": {
      "model_module": "jupyter-leaflet",
      "model_module_version": "^0.15.0",
      "model_name": "LeafletMarkerModel",
      "state": {
       "_model_module_version": "^0.15.0",
       "_view_module_version": "^0.15.0",
       "draggable": false,
       "icon": "IPY_MODEL_cb806c1f74a24f2885dd99db20594f36",
       "location": [
        33.576,
        -118.181
       ],
       "options": [
        "alt",
        "draggable",
        "keyboard",
        "rise_offset",
        "rise_on_hover",
        "rotation_angle",
        "rotation_origin",
        "title",
        "z_index_offset"
       ],
       "popup": "IPY_MODEL_d333793397b14e28b1d8870ffbe8ba65"
      }
     },
     "27ddff12d4e9447ba4821d7b62be8607": {
      "model_module": "@jupyter-widgets/base",
      "model_module_version": "1.2.0",
      "model_name": "LayoutModel",
      "state": {}
     },
     "27eb60bd25e042cea3da85783372b88e": {
      "model_module": "@jupyter-widgets/base",
      "model_module_version": "1.2.0",
      "model_name": "LayoutModel",
      "state": {}
     },
     "282eaeeac3c74cf3a7e777f1f1855504": {
      "model_module": "@jupyter-widgets/controls",
      "model_module_version": "1.5.0",
      "model_name": "HTMLModel",
      "state": {
       "layout": "IPY_MODEL_7fa72ec340e642689a4dcf8f04f0d997",
       "style": "IPY_MODEL_9dd4eacd7027485788f0efb803c4f370",
       "value": "<table border=\"1\" class=\"dataframe table table-striped table-hover table-condensed table-responsive\">\n  <thead>\n    <tr style=\"text-align: right;\">\n      <th></th>\n      <th>irdt2</th>\n    </tr>\n  </thead>\n  <tbody>\n    <tr>\n      <th>met</th>\n      <td>58286.0</td>\n    </tr>\n    <tr>\n      <th>wave</th>\n      <td>0.0</td>\n    </tr>\n    <tr>\n      <th>type</th>\n      <td>fixed</td>\n    </tr>\n    <tr>\n      <th>name</th>\n      <td>8776139 - South Bird Island, TX</td>\n    </tr>\n    <tr>\n      <th>pgm</th>\n      <td>IOOS Partners</td>\n    </tr>\n  </tbody>\n</table>"
      }
     },
     "28434ba43a7f43c8a7b97c1cb1682693": {
      "model_module": "jupyter-leaflet",
      "model_module_version": "^0.15.0",
      "model_name": "LeafletAwesomeIconModel",
      "state": {
       "_model_module_version": "^0.15.0",
       "_view_module_version": "^0.15.0",
       "icon_color": "white",
       "marker_color": "orange",
       "name": "life-ring"
      }
     },
     "28813b1b942b49d887a25362701d58fc": {
      "model_module": "jupyter-leaflet",
      "model_module_version": "^0.17.0",
      "model_name": "LeafletMarkerModel",
      "state": {
       "_model_module_version": "^0.17.0",
       "_view_module_version": "^0.17.0",
       "draggable": false,
       "icon": "IPY_MODEL_bf9e240f90a044e49410e4f6a923089d",
       "location": [
        22.285,
        -159.574
       ],
       "options": [
        "alt",
        "draggable",
        "keyboard",
        "rise_offset",
        "rise_on_hover",
        "rotation_angle",
        "rotation_origin",
        "title",
        "z_index_offset"
       ],
       "popup": "IPY_MODEL_cc4a93e1a18c4d8a83f63d7e7c30905b"
      }
     },
     "289e7178449b4a9a8ae01bd4dda867c2": {
      "model_module": "@jupyter-widgets/base",
      "model_module_version": "1.2.0",
      "model_name": "LayoutModel",
      "state": {}
     },
     "28b3c18b5c644866a7492dc9db199d34": {
      "model_module": "@jupyter-widgets/controls",
      "model_module_version": "1.5.0",
      "model_name": "HTMLModel",
      "state": {
       "layout": "IPY_MODEL_425d9d579ca24af59d12c5a5b52aec82",
       "style": "IPY_MODEL_7b40453df73045528391e21242a83b0a",
       "value": "<table border=\"1\" class=\"dataframe table table-striped table-hover table-condensed table-responsive\">\n  <thead>\n    <tr style=\"text-align: right;\">\n      <th></th>\n      <th>jaki2</th>\n    </tr>\n  </thead>\n  <tbody>\n    <tr>\n      <th>met</th>\n      <td>5564.0</td>\n    </tr>\n    <tr>\n      <th>wave</th>\n      <td>0.0</td>\n    </tr>\n    <tr>\n      <th>type</th>\n      <td>fixed</td>\n    </tr>\n    <tr>\n      <th>name</th>\n      <td>63rd St., Chicago, IL</td>\n    </tr>\n    <tr>\n      <th>pgm</th>\n      <td>IOOS Partners</td>\n    </tr>\n  </tbody>\n</table>"
      }
     },
     "294bc3902207422ea5479a762d95065a": {
      "model_module": "@jupyter-widgets/controls",
      "model_module_version": "1.5.0",
      "model_name": "DescriptionStyleModel",
      "state": {
       "description_width": ""
      }
     },
     "2959ffe7b1ef4d4584cc96d7e2ab8844": {
      "model_module": "jupyter-leaflet",
      "model_module_version": "^0.17.0",
      "model_name": "LeafletMarkerModel",
      "state": {
       "_model_module_version": "^0.17.0",
       "_view_module_version": "^0.17.0",
       "draggable": false,
       "icon": "IPY_MODEL_6887818564024c5d817ef724e7e8049a",
       "location": [
        57.016,
        -134.618
       ],
       "options": [
        "alt",
        "draggable",
        "keyboard",
        "rise_offset",
        "rise_on_hover",
        "rotation_angle",
        "rotation_origin",
        "title",
        "z_index_offset"
       ],
       "popup": "IPY_MODEL_afc41e72d13a46ddb57434de8517dd05"
      }
     },
     "29630629afb34ce4a56b0959866ea753": {
      "model_module": "@jupyter-widgets/base",
      "model_module_version": "1.2.0",
      "model_name": "LayoutModel",
      "state": {}
     },
     "297bdfa2224c4425ad5ddfbdfe07130f": {
      "model_module": "@jupyter-widgets/base",
      "model_module_version": "1.2.0",
      "model_name": "LayoutModel",
      "state": {}
     },
     "29a6d0b90dae41ba8ba4855912838149": {
      "model_module": "@jupyter-widgets/controls",
      "model_module_version": "1.5.0",
      "model_name": "HTMLModel",
      "state": {
       "layout": "IPY_MODEL_68b5880d285c479fa6e8fce26bf130f5",
       "style": "IPY_MODEL_3b52e6f8c9624ca38ce0095872c7dfc0",
       "value": "<table border=\"1\" class=\"dataframe table table-striped table-hover table-condensed table-responsive\">\n  <thead>\n    <tr style=\"text-align: right;\">\n      <th></th>\n      <th>nuet2</th>\n    </tr>\n  </thead>\n  <tbody>\n    <tr>\n      <th>met</th>\n      <td>58432.0</td>\n    </tr>\n    <tr>\n      <th>wave</th>\n      <td>0.0</td>\n    </tr>\n    <tr>\n      <th>type</th>\n      <td>fixed</td>\n    </tr>\n    <tr>\n      <th>name</th>\n      <td>8775244 - Nueces Bay, TX</td>\n    </tr>\n    <tr>\n      <th>pgm</th>\n      <td>IOOS Partners</td>\n    </tr>\n  </tbody>\n</table>"
      }
     },
     "29ef32c237cd4f638400a340ab74e466": {
      "model_module": "jupyter-leaflet",
      "model_module_version": "^0.15.0",
      "model_name": "LeafletAwesomeIconModel",
      "state": {
       "_model_module_version": "^0.15.0",
       "_view_module_version": "^0.15.0",
       "icon_color": "white",
       "marker_color": "green",
       "name": "life-ring"
      }
     },
     "2a2192f9d0884cceaef88eda30bf7bb3": {
      "model_module": "@jupyter-widgets/controls",
      "model_module_version": "1.5.0",
      "model_name": "DescriptionStyleModel",
      "state": {
       "description_width": ""
      }
     },
     "2a2213043e744004b09fb7774f92567f": {
      "model_module": "@jupyter-widgets/controls",
      "model_module_version": "1.5.0",
      "model_name": "DescriptionStyleModel",
      "state": {
       "description_width": ""
      }
     },
     "2a39ed8a03f64257b77fc188b90fd053": {
      "model_module": "jupyter-leaflet",
      "model_module_version": "^0.17.0",
      "model_name": "LeafletAwesomeIconModel",
      "state": {
       "_model_module_version": "^0.17.0",
       "_view_module_version": "^0.17.0",
       "icon_color": "white",
       "marker_color": "orange",
       "name": "life-ring"
      }
     },
     "2a8cb17990a3471aa72184d2f5c7b11e": {
      "model_module": "@jupyter-widgets/controls",
      "model_module_version": "1.5.0",
      "model_name": "HTMLModel",
      "state": {
       "layout": "IPY_MODEL_6e4339b53d0041748a1ff1df85ee39a8",
       "style": "IPY_MODEL_82172298cfa74100849e48d46265c2bd",
       "value": "<table border=\"1\" class=\"dataframe table table-striped table-hover table-condensed table-responsive\">\n  <thead>\n    <tr style=\"text-align: right;\">\n      <th></th>\n      <th>tibc1</th>\n    </tr>\n  </thead>\n  <tbody>\n    <tr>\n      <th>met</th>\n      <td>38546.0</td>\n    </tr>\n    <tr>\n      <th>wave</th>\n      <td>0.0</td>\n    </tr>\n    <tr>\n      <th>type</th>\n      <td>fixed</td>\n    </tr>\n    <tr>\n      <th>name</th>\n      <td>Tiburon Pier, San Francisco Bay, CA</td>\n    </tr>\n    <tr>\n      <th>pgm</th>\n      <td>IOOS Partners</td>\n    </tr>\n  </tbody>\n</table>"
      }
     },
     "2aab177a9e8c43868f92b097e627f140": {
      "model_module": "jupyter-leaflet",
      "model_module_version": "^0.17.0",
      "model_name": "LeafletMarkerModel",
      "state": {
       "_model_module_version": "^0.17.0",
       "_view_module_version": "^0.17.0",
       "draggable": false,
       "icon": "IPY_MODEL_e1b1fa0c14134cbab5704bb33f7520b1",
       "location": [
        29.302,
        -94.896
       ],
       "options": [
        "alt",
        "draggable",
        "keyboard",
        "rise_offset",
        "rise_on_hover",
        "rotation_angle",
        "rotation_origin",
        "title",
        "z_index_offset"
       ],
       "popup": "IPY_MODEL_a425df17c2004f81a1dfb9d471709b9d"
      }
     },
     "2b194adb24124dd49ed530e1f5c05238": {
      "model_module": "@jupyter-widgets/controls",
      "model_module_version": "1.5.0",
      "model_name": "HTMLModel",
      "state": {
       "layout": "IPY_MODEL_aa41e745d2f84017aaa9c9d0fdf24d82",
       "style": "IPY_MODEL_0a3a23ec508e40c9b0476c1bb2bad790",
       "value": "<table border=\"1\" class=\"dataframe table table-striped table-hover table-condensed table-responsive\">\n  <thead>\n    <tr style=\"text-align: right;\">\n      <th></th>\n      <th>51211</th>\n    </tr>\n  </thead>\n  <tbody>\n    <tr>\n      <th>met</th>\n      <td>0.0</td>\n    </tr>\n    <tr>\n      <th>wave</th>\n      <td>11686.0</td>\n    </tr>\n    <tr>\n      <th>type</th>\n      <td>buoy</td>\n    </tr>\n    <tr>\n      <th>name</th>\n      <td>Pearl Harbor Entrance, HI (233)</td>\n    </tr>\n    <tr>\n      <th>pgm</th>\n      <td>IOOS Partners</td>\n    </tr>\n  </tbody>\n</table>"
      }
     },
     "2b21847cef704192b399b5b9cd1ba11d": {
      "model_module": "jupyter-leaflet",
      "model_module_version": "^0.15.0",
      "model_name": "LeafletMarkerModel",
      "state": {
       "_model_module_version": "^0.15.0",
       "_view_module_version": "^0.15.0",
       "draggable": false,
       "icon": "IPY_MODEL_42bd06ff19a043eba30584398eba840b",
       "location": [
        44.103,
        -68.112
       ],
       "options": [
        "alt",
        "draggable",
        "keyboard",
        "rise_offset",
        "rise_on_hover",
        "rotation_angle",
        "rotation_origin",
        "title",
        "z_index_offset"
       ],
       "popup": "IPY_MODEL_5dae40798a364b8d9e59560fedc8aee5"
      }
     },
     "2b23c6eadcf043bd831a66117d56454a": {
      "model_module": "jupyter-leaflet",
      "model_module_version": "^0.17.0",
      "model_name": "LeafletMarkerModel",
      "state": {
       "_model_module_version": "^0.17.0",
       "_view_module_version": "^0.17.0",
       "draggable": false,
       "icon": "IPY_MODEL_898b7ea27e224dc78c9d5ad160b4933e",
       "location": [
        45.825,
        -84.772
       ],
       "options": [
        "alt",
        "draggable",
        "keyboard",
        "rise_offset",
        "rise_on_hover",
        "rotation_angle",
        "rotation_origin",
        "title",
        "z_index_offset"
       ],
       "popup": "IPY_MODEL_f34f65ca00d54132a4ecc0d7aa33d421"
      }
     },
     "2b287e3ebef341728c0adcb9a97499e8": {
      "model_module": "jupyter-leaflet",
      "model_module_version": "^0.15.0",
      "model_name": "LeafletMarkerModel",
      "state": {
       "_model_module_version": "^0.15.0",
       "_view_module_version": "^0.15.0",
       "draggable": false,
       "icon": "IPY_MODEL_068995c3b5db432286e2b1ced9dfccba",
       "location": [
        43.1,
        -87.85
       ],
       "options": [
        "alt",
        "draggable",
        "keyboard",
        "rise_offset",
        "rise_on_hover",
        "rotation_angle",
        "rotation_origin",
        "title",
        "z_index_offset"
       ],
       "popup": "IPY_MODEL_c45518cc78df47d3bef33ea50420184f"
      }
     },
     "2b472625007e422489f29609073a92fd": {
      "model_module": "@jupyter-widgets/controls",
      "model_module_version": "1.5.0",
      "model_name": "HTMLModel",
      "state": {
       "layout": "IPY_MODEL_f24ca8f2a3b741b3bd556c3baf3c2086",
       "style": "IPY_MODEL_0441f03d041d4f8f86a96d29346dfbd7",
       "value": "<table border=\"1\" class=\"dataframe table table-striped table-hover table-condensed table-responsive\">\n  <thead>\n    <tr style=\"text-align: right;\">\n      <th></th>\n      <th>41052</th>\n    </tr>\n  </thead>\n  <tbody>\n    <tr>\n      <th>met</th>\n      <td>35056.0</td>\n    </tr>\n    <tr>\n      <th>wave</th>\n      <td>5864.0</td>\n    </tr>\n    <tr>\n      <th>type</th>\n      <td>buoy</td>\n    </tr>\n    <tr>\n      <th>name</th>\n      <td>South of St. John, VI</td>\n    </tr>\n    <tr>\n      <th>pgm</th>\n      <td>IOOS Partners</td>\n    </tr>\n  </tbody>\n</table>"
      }
     },
     "2b6f64bc496b4eebbb24e08f30e4b535": {
      "model_module": "@jupyter-widgets/base",
      "model_module_version": "1.2.0",
      "model_name": "LayoutModel",
      "state": {}
     },
     "2b7f4d1b72014dc8ab86fa1239252264": {
      "model_module": "@jupyter-widgets/controls",
      "model_module_version": "1.5.0",
      "model_name": "DescriptionStyleModel",
      "state": {
       "description_width": ""
      }
     },
     "2bc97db141504e36b9923fc4598f7edc": {
      "model_module": "@jupyter-widgets/base",
      "model_module_version": "1.2.0",
      "model_name": "LayoutModel",
      "state": {}
     },
     "2c1e864806ea4fbc9a132e8f682e5aa3": {
      "model_module": "@jupyter-widgets/controls",
      "model_module_version": "1.5.0",
      "model_name": "HTMLModel",
      "state": {
       "layout": "IPY_MODEL_aa156744229d4c478a383d63a8a0eb40",
       "style": "IPY_MODEL_83a44b59ea4a4b51983b4a69f9c4e268",
       "value": "<table border=\"1\" class=\"dataframe table table-striped table-hover table-condensed table-responsive\">\n  <thead>\n    <tr style=\"text-align: right;\">\n      <th></th>\n      <th>41159</th>\n    </tr>\n  </thead>\n  <tbody>\n    <tr>\n      <th>met</th>\n      <td>0.0</td>\n    </tr>\n    <tr>\n      <th>wave</th>\n      <td>10616.0</td>\n    </tr>\n    <tr>\n      <th>type</th>\n      <td>buoy</td>\n    </tr>\n    <tr>\n      <th>name</th>\n      <td>Onslow Bay Outer, NC (217)</td>\n    </tr>\n    <tr>\n      <th>pgm</th>\n      <td>IOOS Partners</td>\n    </tr>\n  </tbody>\n</table>"
      }
     },
     "2cb06b36cec049c984e3782c1a7b4d87": {
      "model_module": "jupyter-leaflet",
      "model_module_version": "^0.17.0",
      "model_name": "LeafletAwesomeIconModel",
      "state": {
       "_model_module_version": "^0.17.0",
       "_view_module_version": "^0.17.0",
       "icon_color": "white",
       "marker_color": "orange",
       "name": "life-ring"
      }
     },
     "2ced7bf5106046a4907cdfd8496638cc": {
      "model_module": "jupyter-leaflet",
      "model_module_version": "^0.15.0",
      "model_name": "LeafletMarkerModel",
      "state": {
       "_model_module_version": "^0.15.0",
       "_view_module_version": "^0.15.0",
       "draggable": false,
       "icon": "IPY_MODEL_19ee32289b884c60974c904d6b4fa18c",
       "location": [
        34.207,
        -76.949
       ],
       "options": [
        "alt",
        "draggable",
        "keyboard",
        "rise_offset",
        "rise_on_hover",
        "rotation_angle",
        "rotation_origin",
        "title",
        "z_index_offset"
       ],
       "popup": "IPY_MODEL_fdedce85aab6406ab6da4c67dabb38ef"
      }
     },
     "2d21c4dfc1494414802c6cd249966ff1": {
      "model_module": "@jupyter-widgets/controls",
      "model_module_version": "1.5.0",
      "model_name": "HTMLModel",
      "state": {
       "layout": "IPY_MODEL_4d955bd3432949349e60601422c0ae47",
       "style": "IPY_MODEL_83c889e8d8384cfca868572591b91f29",
       "value": "<table border=\"1\" class=\"dataframe table table-striped table-hover table-condensed table-responsive\">\n  <thead>\n    <tr style=\"text-align: right;\">\n      <th></th>\n      <th>51209</th>\n    </tr>\n  </thead>\n  <tbody>\n    <tr>\n      <th>met</th>\n      <td>0.0</td>\n    </tr>\n    <tr>\n      <th>wave</th>\n      <td>11578.0</td>\n    </tr>\n    <tr>\n      <th>type</th>\n      <td>buoy</td>\n    </tr>\n    <tr>\n      <th>name</th>\n      <td>Aunuu, American Samoa (189)</td>\n    </tr>\n    <tr>\n      <th>pgm</th>\n      <td>IOOS Partners</td>\n    </tr>\n  </tbody>\n</table>"
      }
     },
     "2d36d25cf1dd44ff8115ca44fa8150ac": {
      "model_module": "@jupyter-widgets/controls",
      "model_module_version": "1.5.0",
      "model_name": "HTMLModel",
      "state": {
       "layout": "IPY_MODEL_5ef222e41de945e19c7bf69a73bd95c3",
       "style": "IPY_MODEL_9e9586d529f1467ab3dd36cddc2b8cbc",
       "value": "<table border=\"1\" class=\"dataframe table table-striped table-hover table-condensed table-responsive\">\n  <thead>\n    <tr style=\"text-align: right;\">\n      <th></th>\n      <th>sdrt2</th>\n    </tr>\n  </thead>\n  <tbody>\n    <tr>\n      <th>met</th>\n      <td>58480.0</td>\n    </tr>\n    <tr>\n      <th>wave</th>\n      <td>0.0</td>\n    </tr>\n    <tr>\n      <th>type</th>\n      <td>fixed</td>\n    </tr>\n    <tr>\n      <th>name</th>\n      <td>8773037 - Seadrift, TX</td>\n    </tr>\n    <tr>\n      <th>pgm</th>\n      <td>IOOS Partners</td>\n    </tr>\n  </tbody>\n</table>"
      }
     },
     "2d4023fd411e40219f678317908effab": {
      "model_module": "jupyter-leaflet",
      "model_module_version": "^0.17.0",
      "model_name": "LeafletAwesomeIconModel",
      "state": {
       "_model_module_version": "^0.17.0",
       "_view_module_version": "^0.17.0",
       "icon_color": "white",
       "marker_color": "green",
       "name": "life-ring"
      }
     },
     "2d4ca3482930491d941ae16894276a1a": {
      "model_module": "@jupyter-widgets/controls",
      "model_module_version": "1.5.0",
      "model_name": "HTMLModel",
      "state": {
       "layout": "IPY_MODEL_226b0f9365cc4c4b86380560d0511dc0",
       "style": "IPY_MODEL_dc1bfddca46543949e516ff6645667a0",
       "value": "<table border=\"1\" class=\"dataframe table table-striped table-hover table-condensed table-responsive\">\n  <thead>\n    <tr style=\"text-align: right;\">\n      <th></th>\n      <th>44030</th>\n    </tr>\n  </thead>\n  <tbody>\n    <tr>\n      <th>met</th>\n      <td>5836.0</td>\n    </tr>\n    <tr>\n      <th>wave</th>\n      <td>5698.0</td>\n    </tr>\n    <tr>\n      <th>type</th>\n      <td>buoy</td>\n    </tr>\n    <tr>\n      <th>name</th>\n      <td>Buoy B01 - Western Maine Shelf</td>\n    </tr>\n    <tr>\n      <th>pgm</th>\n      <td>IOOS Partners</td>\n    </tr>\n  </tbody>\n</table>"
      }
     },
     "2d7b2180c5e840b997a9e029068a7be1": {
      "model_module": "jupyter-leaflet",
      "model_module_version": "^0.17.0",
      "model_name": "LeafletAwesomeIconModel",
      "state": {
       "_model_module_version": "^0.17.0",
       "_view_module_version": "^0.17.0",
       "icon_color": "white",
       "marker_color": "orange",
       "name": "life-ring"
      }
     },
     "2deb4ef8fe264eb799e76b852756ac5d": {
      "model_module": "@jupyter-widgets/base",
      "model_module_version": "1.2.0",
      "model_name": "LayoutModel",
      "state": {}
     },
     "2def80d54cef42a9a8edddc600e2e663": {
      "model_module": "jupyter-leaflet",
      "model_module_version": "^0.17.0",
      "model_name": "LeafletMarkerModel",
      "state": {
       "_model_module_version": "^0.17.0",
       "_view_module_version": "^0.17.0",
       "draggable": false,
       "icon": "IPY_MODEL_39532471ef90432f8d72661ac8c6d57e",
       "location": [
        58.971,
        -135.221
       ],
       "options": [
        "alt",
        "draggable",
        "keyboard",
        "rise_offset",
        "rise_on_hover",
        "rotation_angle",
        "rotation_origin",
        "title",
        "z_index_offset"
       ],
       "popup": "IPY_MODEL_f23534add4ac43598dfb1b3e807e902d"
      }
     },
     "2e79e65d32ba4f14a3766f2570e2262a": {
      "model_module": "@jupyter-widgets/base",
      "model_module_version": "1.2.0",
      "model_name": "LayoutModel",
      "state": {}
     },
     "2f4feea262cc449b804a9c6c159e1be0": {
      "model_module": "jupyter-leaflet",
      "model_module_version": "^0.17.0",
      "model_name": "LeafletMarkerModel",
      "state": {
       "_model_module_version": "^0.17.0",
       "_view_module_version": "^0.17.0",
       "draggable": false,
       "icon": "IPY_MODEL_49faf967f14f412a90af79a030e17b40",
       "location": [
        59.234,
        -135.442
       ],
       "options": [
        "alt",
        "draggable",
        "keyboard",
        "rise_offset",
        "rise_on_hover",
        "rotation_angle",
        "rotation_origin",
        "title",
        "z_index_offset"
       ],
       "popup": "IPY_MODEL_241d74e9a9584512ab8f8c379eafebfd"
      }
     },
     "2f6149c7d7ab42ebba67c68a7c4abb1a": {
      "model_module": "@jupyter-widgets/controls",
      "model_module_version": "1.5.0",
      "model_name": "HTMLModel",
      "state": {
       "layout": "IPY_MODEL_e722996c816948ed957ff25f873bbff3",
       "style": "IPY_MODEL_037cab3f9297485ebe6c7a265b8efaf4",
       "value": "<table border=\"1\" class=\"dataframe table table-striped table-hover table-condensed table-responsive\">\n  <thead>\n    <tr style=\"text-align: right;\">\n      <th></th>\n      <th>44032</th>\n    </tr>\n  </thead>\n  <tbody>\n    <tr>\n      <th>met</th>\n      <td>5880.0</td>\n    </tr>\n    <tr>\n      <th>wave</th>\n      <td>5732.0</td>\n    </tr>\n    <tr>\n      <th>type</th>\n      <td>buoy</td>\n    </tr>\n    <tr>\n      <th>name</th>\n      <td>Buoy E01 - Central Maine Shelf</td>\n    </tr>\n    <tr>\n      <th>pgm</th>\n      <td>IOOS Partners</td>\n    </tr>\n  </tbody>\n</table>"
      }
     },
     "2fc39a839d50497f981ccb9ffeb28073": {
      "model_module": "@jupyter-widgets/controls",
      "model_module_version": "1.5.0",
      "model_name": "HTMLModel",
      "state": {
       "layout": "IPY_MODEL_d7e70ec2c2de451e81ebc3636d9536c0",
       "style": "IPY_MODEL_34406a70ccfa4f8f97116aa4209be284",
       "value": "<table border=\"1\" class=\"dataframe table table-striped table-hover table-condensed table-responsive\">\n  <thead>\n    <tr style=\"text-align: right;\">\n      <th></th>\n      <th>jlxa2</th>\n    </tr>\n  </thead>\n  <tbody>\n    <tr>\n      <th>met</th>\n      <td>34196.0</td>\n    </tr>\n    <tr>\n      <th>wave</th>\n      <td>0.0</td>\n    </tr>\n    <tr>\n      <th>type</th>\n      <td>fixed</td>\n    </tr>\n    <tr>\n      <th>name</th>\n      <td>Juneau Library, AK</td>\n    </tr>\n    <tr>\n      <th>pgm</th>\n      <td>IOOS Partners</td>\n    </tr>\n  </tbody>\n</table>"
      }
     },
     "2fc9f15e41d748d0b27b872320de5b7a": {
      "model_module": "jupyter-leaflet",
      "model_module_version": "^0.15.0",
      "model_name": "LeafletMarkerModel",
      "state": {
       "_model_module_version": "^0.15.0",
       "_view_module_version": "^0.15.0",
       "draggable": false,
       "icon": "IPY_MODEL_c0645492789542adaf422976662c6dcf",
       "location": [
        57.055,
        -135.349
       ],
       "options": [
        "alt",
        "draggable",
        "keyboard",
        "rise_offset",
        "rise_on_hover",
        "rotation_angle",
        "rotation_origin",
        "title",
        "z_index_offset"
       ],
       "popup": "IPY_MODEL_cc684fdca1724b3e84fce1f676d48f20"
      }
     },
     "2fcad1a24293466e855cbe80b8eebd43": {
      "model_module": "jupyter-leaflet",
      "model_module_version": "^0.17.0",
      "model_name": "LeafletAwesomeIconModel",
      "state": {
       "_model_module_version": "^0.17.0",
       "_view_module_version": "^0.17.0",
       "icon_color": "white",
       "marker_color": "orange",
       "name": "life-ring"
      }
     },
     "30b9b6e04b944abf9a81f70307ceb553": {
      "model_module": "jupyter-leaflet",
      "model_module_version": "^0.17.0",
      "model_name": "LeafletMarkerModel",
      "state": {
       "_model_module_version": "^0.17.0",
       "_view_module_version": "^0.17.0",
       "draggable": false,
       "icon": "IPY_MODEL_9ad10b6798564053a83bb029e7717370",
       "location": [
        42.325,
        -65.909
       ],
       "options": [
        "alt",
        "draggable",
        "keyboard",
        "rise_offset",
        "rise_on_hover",
        "rotation_angle",
        "rotation_origin",
        "title",
        "z_index_offset"
       ],
       "popup": "IPY_MODEL_c841f5bc9839429aad7ca74301dd2f1e"
      }
     },
     "30badc62c8e349d58101e58f620f0d0a": {
      "model_module": "@jupyter-widgets/base",
      "model_module_version": "1.2.0",
      "model_name": "LayoutModel",
      "state": {}
     },
     "30c6c55f6bac479c90b1dec93240740f": {
      "model_module": "jupyter-leaflet",
      "model_module_version": "^0.15.0",
      "model_name": "LeafletAwesomeIconModel",
      "state": {
       "_model_module_version": "^0.15.0",
       "_view_module_version": "^0.15.0",
       "icon_color": "white",
       "marker_color": "green",
       "name": "life-ring"
      }
     },
     "30d2291fe706423ea8aa821ff3db8e5d": {
      "model_module": "@jupyter-widgets/controls",
      "model_module_version": "1.5.0",
      "model_name": "HTMLModel",
      "state": {
       "layout": "IPY_MODEL_adcebad521a84c3fa0264527b7147971",
       "style": "IPY_MODEL_3d92930b60b54b7e9b44b48e8a01ff47",
       "value": "<table border=\"1\" class=\"dataframe table table-striped table-hover table-condensed table-responsive\">\n  <thead>\n    <tr style=\"text-align: right;\">\n      <th></th>\n      <th>rsjt2</th>\n    </tr>\n  </thead>\n  <tbody>\n    <tr>\n      <th>met</th>\n      <td>58666.0</td>\n    </tr>\n    <tr>\n      <th>wave</th>\n      <td>0.0</td>\n    </tr>\n    <tr>\n      <th>type</th>\n      <td>fixed</td>\n    </tr>\n    <tr>\n      <th>name</th>\n      <td>8777812 - Rincon del San Jose, TX</td>\n    </tr>\n    <tr>\n      <th>pgm</th>\n      <td>IOOS Partners</td>\n    </tr>\n  </tbody>\n</table>"
      }
     },
     "30e868a633b149c991130ae545f4c1f1": {
      "model_module": "jupyter-leaflet",
      "model_module_version": "^0.17.0",
      "model_name": "LeafletAwesomeIconModel",
      "state": {
       "_model_module_version": "^0.17.0",
       "_view_module_version": "^0.17.0",
       "icon_color": "white",
       "marker_color": "red",
       "name": "life-ring"
      }
     },
     "30f689301a9346ae987b11c41e56c03a": {
      "model_module": "jupyter-leaflet",
      "model_module_version": "^0.15.0",
      "model_name": "LeafletAwesomeIconModel",
      "state": {
       "_model_module_version": "^0.15.0",
       "_view_module_version": "^0.15.0",
       "icon_color": "white",
       "marker_color": "orange",
       "name": "life-ring"
      }
     },
     "30fb182ef8984025ae5504403784a235": {
      "model_module": "@jupyter-widgets/base",
      "model_module_version": "1.2.0",
      "model_name": "LayoutModel",
      "state": {}
     },
     "3105715a84954069ac5825c0cf0f6304": {
      "model_module": "@jupyter-widgets/controls",
      "model_module_version": "1.5.0",
      "model_name": "HTMLModel",
      "state": {
       "layout": "IPY_MODEL_9e48f7b138f64ad6a18f47ae064f629d",
       "style": "IPY_MODEL_001e3005ada94508ac17b45358a1822f",
       "value": "<table border=\"1\" class=\"dataframe table table-striped table-hover table-condensed table-responsive\">\n  <thead>\n    <tr style=\"text-align: right;\">\n      <th></th>\n      <th>42013</th>\n    </tr>\n  </thead>\n  <tbody>\n    <tr>\n      <th>met</th>\n      <td>11660.0</td>\n    </tr>\n    <tr>\n      <th>wave</th>\n      <td>0.0</td>\n    </tr>\n    <tr>\n      <th>type</th>\n      <td>buoy</td>\n    </tr>\n    <tr>\n      <th>name</th>\n      <td>C10 - WFS Central Buoy, 25m Isobath</td>\n    </tr>\n    <tr>\n      <th>pgm</th>\n      <td>IOOS Partners</td>\n    </tr>\n  </tbody>\n</table>"
      }
     },
     "31130fe876964dac8ff6f31db591c0d0": {
      "model_module": "jupyter-leaflet",
      "model_module_version": "^0.17.0",
      "model_name": "LeafletAwesomeIconModel",
      "state": {
       "_model_module_version": "^0.17.0",
       "_view_module_version": "^0.17.0",
       "icon_color": "white",
       "marker_color": "orange",
       "name": "life-ring"
      }
     },
     "314c845f6d6d407e9ae5b784c788c7e1": {
      "model_module": "jupyter-leaflet",
      "model_module_version": "^0.17.0",
      "model_name": "LeafletMarkerModel",
      "state": {
       "_model_module_version": "^0.17.0",
       "_view_module_version": "^0.17.0",
       "draggable": false,
       "icon": "IPY_MODEL_31130fe876964dac8ff6f31db591c0d0",
       "location": [
        57.055,
        -135.349
       ],
       "options": [
        "alt",
        "draggable",
        "keyboard",
        "rise_offset",
        "rise_on_hover",
        "rotation_angle",
        "rotation_origin",
        "title",
        "z_index_offset"
       ],
       "popup": "IPY_MODEL_3ab5bca1ac8d491c8c5251796c51166b"
      }
     },
     "316700411c134269a00a1cac0f00107a": {
      "model_module": "@jupyter-widgets/controls",
      "model_module_version": "1.5.0",
      "model_name": "HTMLModel",
      "state": {
       "layout": "IPY_MODEL_174589a1502e409ebbd15815f0ed71ea",
       "style": "IPY_MODEL_e8502699fad644f2bc53b8ff77841c06",
       "value": "<table border=\"1\" class=\"dataframe table table-striped table-hover table-condensed table-responsive\">\n  <thead>\n    <tr style=\"text-align: right;\">\n      <th></th>\n      <th>mrya2</th>\n    </tr>\n  </thead>\n  <tbody>\n    <tr>\n      <th>met</th>\n      <td>34300.0</td>\n    </tr>\n    <tr>\n      <th>wave</th>\n      <td>0.0</td>\n    </tr>\n    <tr>\n      <th>type</th>\n      <td>fixed</td>\n    </tr>\n    <tr>\n      <th>name</th>\n      <td>Mary Island, AK</td>\n    </tr>\n    <tr>\n      <th>pgm</th>\n      <td>IOOS Partners</td>\n    </tr>\n  </tbody>\n</table>"
      }
     },
     "318ae17f22f240e2998dca98effddff3": {
      "model_module": "jupyter-leaflet",
      "model_module_version": "^0.15.0",
      "model_name": "LeafletMarkerModel",
      "state": {
       "_model_module_version": "^0.15.0",
       "_view_module_version": "^0.15.0",
       "draggable": false,
       "icon": "IPY_MODEL_8d0f5d5278974bbeaf350e077a5c2f4d",
       "location": [
        42.9,
        -86.272
       ],
       "options": [
        "alt",
        "draggable",
        "keyboard",
        "rise_offset",
        "rise_on_hover",
        "rotation_angle",
        "rotation_origin",
        "title",
        "z_index_offset"
       ],
       "popup": "IPY_MODEL_a326a4965e2545cbb1d72ba1fd08f2d8"
      }
     },
     "31f504c86a88475882d45722bc3a1781": {
      "model_module": "@jupyter-widgets/base",
      "model_module_version": "1.2.0",
      "model_name": "LayoutModel",
      "state": {}
     },
     "320030029cc0473a8dfa0179cc06dbb9": {
      "model_module": "jupyter-leaflet",
      "model_module_version": "^0.15.0",
      "model_name": "LeafletMarkerModel",
      "state": {
       "_model_module_version": "^0.15.0",
       "_view_module_version": "^0.15.0",
       "draggable": false,
       "icon": "IPY_MODEL_895ecf368a4f4ac59d63b10ee6f2ae78",
       "location": [
        46.814,
        -91.829
       ],
       "options": [
        "alt",
        "draggable",
        "keyboard",
        "rise_offset",
        "rise_on_hover",
        "rotation_angle",
        "rotation_origin",
        "title",
        "z_index_offset"
       ],
       "popup": "IPY_MODEL_41b47c2edc4a4ce888b364ad4652134c"
      }
     },
     "3216d579b6294f43b56878eee6096d87": {
      "model_module": "@jupyter-widgets/controls",
      "model_module_version": "1.5.0",
      "model_name": "HTMLModel",
      "state": {
       "layout": "IPY_MODEL_81fbe45bfbdf4b669f06f3c29b8ab88c",
       "style": "IPY_MODEL_d517040d382341339034f1bc62db76c0",
       "value": "<table border=\"1\" class=\"dataframe table table-striped table-hover table-condensed table-responsive\">\n  <thead>\n    <tr style=\"text-align: right;\">\n      <th></th>\n      <th>ptrp4</th>\n    </tr>\n  </thead>\n  <tbody>\n    <tr>\n      <th>met</th>\n      <td>70014.0</td>\n    </tr>\n    <tr>\n      <th>wave</th>\n      <td>0.0</td>\n    </tr>\n    <tr>\n      <th>type</th>\n      <td>fixed</td>\n    </tr>\n    <tr>\n      <th>name</th>\n      <td>Puntas Rincon, PR</td>\n    </tr>\n    <tr>\n      <th>pgm</th>\n      <td>IOOS Partners</td>\n    </tr>\n  </tbody>\n</table>"
      }
     },
     "32243d000ede45369c48da1631c23782": {
      "model_module": "@jupyter-widgets/base",
      "model_module_version": "1.2.0",
      "model_name": "LayoutModel",
      "state": {}
     },
     "3228fb1cf9a7478c92e40ff871302689": {
      "model_module": "jupyter-leaflet",
      "model_module_version": "^0.15.0",
      "model_name": "LeafletMarkerModel",
      "state": {
       "_model_module_version": "^0.15.0",
       "_view_module_version": "^0.15.0",
       "draggable": false,
       "icon": "IPY_MODEL_6307599ec7c4497cbcfd5b07f5e7f315",
       "location": [
        58.159,
        -134.178
       ],
       "options": [
        "alt",
        "draggable",
        "keyboard",
        "rise_offset",
        "rise_on_hover",
        "rotation_angle",
        "rotation_origin",
        "title",
        "z_index_offset"
       ],
       "popup": "IPY_MODEL_0815ecf20b104019b882816dcea22b10"
      }
     },
     "329e41aac98d407d94af39395c9f9c00": {
      "model_module": "jupyter-leaflet",
      "model_module_version": "^0.15.0",
      "model_name": "LeafletMarkerModel",
      "state": {
       "_model_module_version": "^0.15.0",
       "_view_module_version": "^0.15.0",
       "draggable": false,
       "icon": "IPY_MODEL_705d22fa359e4dc9be1c658f7d9521db",
       "location": [
        21.671,
        -158.117
       ],
       "options": [
        "alt",
        "draggable",
        "keyboard",
        "rise_offset",
        "rise_on_hover",
        "rotation_angle",
        "rotation_origin",
        "title",
        "z_index_offset"
       ],
       "popup": "IPY_MODEL_a7cbb337ebb2482bb421bff0af3290b2"
      }
     },
     "32b323a7dce04bdbaf2a8b4085008c9a": {
      "model_module": "jupyter-leaflet",
      "model_module_version": "^0.17.0",
      "model_name": "LeafletMarkerModel",
      "state": {
       "_model_module_version": "^0.17.0",
       "_view_module_version": "^0.17.0",
       "draggable": false,
       "icon": "IPY_MODEL_bb38d4f51dd549a5acc75b9efef2cfb1",
       "location": [
        55.34,
        -131.644
       ],
       "options": [
        "alt",
        "draggable",
        "keyboard",
        "rise_offset",
        "rise_on_hover",
        "rotation_angle",
        "rotation_origin",
        "title",
        "z_index_offset"
       ],
       "popup": "IPY_MODEL_4e6cd7b97e1d4df58d8181efd5dcdd0f"
      }
     },
     "32c5d288854740f8a0fd5313e3027c3b": {
      "model_module": "@jupyter-widgets/controls",
      "model_module_version": "1.5.0",
      "model_name": "HTMLModel",
      "state": {
       "layout": "IPY_MODEL_e247f88b3f694c10840f1af909e2554d",
       "style": "IPY_MODEL_8b7983da08c242e9b5c883867609f473",
       "value": "<table border=\"1\" class=\"dataframe table table-striped table-hover table-condensed table-responsive\">\n  <thead>\n    <tr style=\"text-align: right;\">\n      <th></th>\n      <th>pact2</th>\n    </tr>\n  </thead>\n  <tbody>\n    <tr>\n      <th>met</th>\n      <td>57974.0</td>\n    </tr>\n    <tr>\n      <th>wave</th>\n      <td>0.0</td>\n    </tr>\n    <tr>\n      <th>type</th>\n      <td>fixed</td>\n    </tr>\n    <tr>\n      <th>name</th>\n      <td>8775792 - Packery Channel, TX</td>\n    </tr>\n    <tr>\n      <th>pgm</th>\n      <td>IOOS Partners</td>\n    </tr>\n  </tbody>\n</table>"
      }
     },
     "32c72114a0464a2b817fcd685762694f": {
      "model_module": "jupyter-leaflet",
      "model_module_version": "^0.15.0",
      "model_name": "LeafletAwesomeIconModel",
      "state": {
       "_model_module_version": "^0.15.0",
       "_view_module_version": "^0.15.0",
       "icon_color": "white",
       "marker_color": "orange",
       "name": "life-ring"
      }
     },
     "32c95650788b4abe87e927bbb26a63c2": {
      "model_module": "jupyter-leaflet",
      "model_module_version": "^0.15.0",
      "model_name": "LeafletMarkerModel",
      "state": {
       "_model_module_version": "^0.15.0",
       "_view_module_version": "^0.15.0",
       "draggable": false,
       "icon": "IPY_MODEL_eb51417b98de447da92029cee34e5f00",
       "location": [
        21.417,
        -157.68
       ],
       "options": [
        "alt",
        "draggable",
        "keyboard",
        "rise_offset",
        "rise_on_hover",
        "rotation_angle",
        "rotation_origin",
        "title",
        "z_index_offset"
       ],
       "popup": "IPY_MODEL_8318524434b243459d4d26dc1e02b3e2"
      }
     },
     "330ad92a66b74b7b81b8351aa9aa6f9b": {
      "model_module": "@jupyter-widgets/base",
      "model_module_version": "1.2.0",
      "model_name": "LayoutModel",
      "state": {}
     },
     "330b475aef80495cbb200a7270827b74": {
      "model_module": "@jupyter-widgets/base",
      "model_module_version": "1.2.0",
      "model_name": "LayoutModel",
      "state": {}
     },
     "332d2126d24a4237921a32ea0ae64e35": {
      "model_module": "jupyter-leaflet",
      "model_module_version": "^0.15.0",
      "model_name": "LeafletMarkerModel",
      "state": {
       "_model_module_version": "^0.15.0",
       "_view_module_version": "^0.15.0",
       "draggable": false,
       "icon": "IPY_MODEL_fb034728605f43209492d2334b923794",
       "location": [
        41.755,
        -86.968
       ],
       "options": [
        "alt",
        "draggable",
        "keyboard",
        "rise_offset",
        "rise_on_hover",
        "rotation_angle",
        "rotation_origin",
        "title",
        "z_index_offset"
       ],
       "popup": "IPY_MODEL_028794103f21497281242d2c4c38977c"
      }
     },
     "33420eed0d4c475eb52b0a9dc89bd214": {
      "model_module": "@jupyter-widgets/base",
      "model_module_version": "1.2.0",
      "model_name": "LayoutModel",
      "state": {}
     },
     "3370ae4389d94764b66e97ea57a05ea0": {
      "model_module": "jupyter-leaflet",
      "model_module_version": "^0.15.0",
      "model_name": "LeafletMarkerModel",
      "state": {
       "_model_module_version": "^0.15.0",
       "_view_module_version": "^0.15.0",
       "draggable": false,
       "icon": "IPY_MODEL_b8ea350f33cf4090accac7f5c0bb364b",
       "location": [
        44.055,
        -68.996
       ],
       "options": [
        "alt",
        "draggable",
        "keyboard",
        "rise_offset",
        "rise_on_hover",
        "rotation_angle",
        "rotation_origin",
        "title",
        "z_index_offset"
       ],
       "popup": "IPY_MODEL_47d01f81dd2d40248673f5f82cdca9c8"
      }
     },
     "339650bf0ff243a1915c53a1905d80a7": {
      "model_module": "jupyter-leaflet",
      "model_module_version": "^0.15.0",
      "model_name": "LeafletAwesomeIconModel",
      "state": {
       "_model_module_version": "^0.15.0",
       "_view_module_version": "^0.15.0",
       "icon_color": "white",
       "marker_color": "red",
       "name": "life-ring"
      }
     },
     "33a3cd9a3e724cfa98d2aeabcffc26b9": {
      "model_module": "jupyter-leaflet",
      "model_module_version": "^0.15.0",
      "model_name": "LeafletMarkerModel",
      "state": {
       "_model_module_version": "^0.15.0",
       "_view_module_version": "^0.15.0",
       "draggable": false,
       "icon": "IPY_MODEL_32c72114a0464a2b817fcd685762694f",
       "location": [
        52.972,
        -168.855
       ],
       "options": [
        "alt",
        "draggable",
        "keyboard",
        "rise_offset",
        "rise_on_hover",
        "rotation_angle",
        "rotation_origin",
        "title",
        "z_index_offset"
       ],
       "popup": "IPY_MODEL_340f66d4117c43cc815de0b3bfd0b052"
      }
     },
     "33bd0f1c18af49d8a734133741b81e62": {
      "model_module": "jupyter-leaflet",
      "model_module_version": "^0.15.0",
      "model_name": "LeafletAwesomeIconModel",
      "state": {
       "_model_module_version": "^0.15.0",
       "_view_module_version": "^0.15.0",
       "icon_color": "white",
       "marker_color": "red",
       "name": "life-ring"
      }
     },
     "33d156c3bb324912b54bae676645bbaa": {
      "model_module": "jupyter-leaflet",
      "model_module_version": "^0.15.0",
      "model_name": "LeafletAwesomeIconModel",
      "state": {
       "_model_module_version": "^0.15.0",
       "_view_module_version": "^0.15.0",
       "icon_color": "white",
       "marker_color": "orange",
       "name": "life-ring"
      }
     },
     "33db669fe2c841a4ba7fd434a904c7dc": {
      "model_module": "jupyter-leaflet",
      "model_module_version": "^0.15.0",
      "model_name": "LeafletMarkerModel",
      "state": {
       "_model_module_version": "^0.15.0",
       "_view_module_version": "^0.15.0",
       "draggable": false,
       "icon": "IPY_MODEL_6ceee183db22463eb50a43d24a87b92f",
       "location": [
        42.397,
        -86.331
       ],
       "options": [
        "alt",
        "draggable",
        "keyboard",
        "rise_offset",
        "rise_on_hover",
        "rotation_angle",
        "rotation_origin",
        "title",
        "z_index_offset"
       ],
       "popup": "IPY_MODEL_0d8643f9fd8b4580970a75aa4eca29db"
      }
     },
     "340f66d4117c43cc815de0b3bfd0b052": {
      "model_module": "@jupyter-widgets/controls",
      "model_module_version": "1.5.0",
      "model_name": "HTMLModel",
      "state": {
       "layout": "IPY_MODEL_6c5d16002a1f49cb9ccf1dfa1d8663bc",
       "style": "IPY_MODEL_5d84af8da7874ea8b492ab86beca6152",
       "value": "<table border=\"1\" class=\"dataframe table table-striped table-hover table-condensed table-responsive\">\n  <thead>\n    <tr style=\"text-align: right;\">\n      <th></th>\n      <th>nkla2</th>\n    </tr>\n  </thead>\n  <tbody>\n    <tr>\n      <th>met</th>\n      <td>34522.0</td>\n    </tr>\n    <tr>\n      <th>wave</th>\n      <td>0.0</td>\n    </tr>\n    <tr>\n      <th>type</th>\n      <td>fixed</td>\n    </tr>\n    <tr>\n      <th>name</th>\n      <td>Nikolski White Alice</td>\n    </tr>\n    <tr>\n      <th>pgm</th>\n      <td>IOOS Partners</td>\n    </tr>\n  </tbody>\n</table>"
      }
     },
     "341eda087e2045c586155ebc72c8f0f4": {
      "model_module": "@jupyter-widgets/controls",
      "model_module_version": "1.5.0",
      "model_name": "DescriptionStyleModel",
      "state": {
       "description_width": ""
      }
     },
     "34406a70ccfa4f8f97116aa4209be284": {
      "model_module": "@jupyter-widgets/controls",
      "model_module_version": "1.5.0",
      "model_name": "DescriptionStyleModel",
      "state": {
       "description_width": ""
      }
     },
     "345c3cfcc0f44ef4bd50ce12c5b9e708": {
      "model_module": "@jupyter-widgets/controls",
      "model_module_version": "1.5.0",
      "model_name": "HTMLModel",
      "state": {
       "layout": "IPY_MODEL_30fb182ef8984025ae5504403784a235",
       "style": "IPY_MODEL_294bc3902207422ea5479a762d95065a",
       "value": "<table border=\"1\" class=\"dataframe table table-striped table-hover table-condensed table-responsive\">\n  <thead>\n    <tr style=\"text-align: right;\">\n      <th></th>\n      <th>arop4</th>\n    </tr>\n  </thead>\n  <tbody>\n    <tr>\n      <th>met</th>\n      <td>58490.0</td>\n    </tr>\n    <tr>\n      <th>wave</th>\n      <td>0.0</td>\n    </tr>\n    <tr>\n      <th>type</th>\n      <td>fixed</td>\n    </tr>\n    <tr>\n      <th>name</th>\n      <td>9757809 - Arecibo, PR</td>\n    </tr>\n    <tr>\n      <th>pgm</th>\n      <td>IOOS Partners</td>\n    </tr>\n  </tbody>\n</table>"
      }
     },
     "3469a1de3e8741ab943b4dac42121690": {
      "model_module": "@jupyter-widgets/controls",
      "model_module_version": "1.5.0",
      "model_name": "HTMLModel",
      "state": {
       "layout": "IPY_MODEL_e954e98172884daabe311d208b6e58f7",
       "style": "IPY_MODEL_9cd4dfcebad2491a9618dce8c08e08f3",
       "value": "<table border=\"1\" class=\"dataframe table table-striped table-hover table-condensed table-responsive\">\n  <thead>\n    <tr style=\"text-align: right;\">\n      <th></th>\n      <th>45027</th>\n    </tr>\n  </thead>\n  <tbody>\n    <tr>\n      <th>met</th>\n      <td>31472.0</td>\n    </tr>\n    <tr>\n      <th>wave</th>\n      <td>31494.0</td>\n    </tr>\n    <tr>\n      <th>type</th>\n      <td>buoy</td>\n    </tr>\n    <tr>\n      <th>name</th>\n      <td>McQuade Harbor Nearshore, MN</td>\n    </tr>\n    <tr>\n      <th>pgm</th>\n      <td>IOOS Partners</td>\n    </tr>\n  </tbody>\n</table>"
      }
     },
     "3478c2d73fd0436591399ad048130371": {
      "model_module": "@jupyter-widgets/base",
      "model_module_version": "1.2.0",
      "model_name": "LayoutModel",
      "state": {}
     },
     "35070f8eaf884a9c95fee935f3c28e8f": {
      "model_module": "jupyter-leaflet",
      "model_module_version": "^0.15.0",
      "model_name": "LeafletAwesomeIconModel",
      "state": {
       "_model_module_version": "^0.15.0",
       "_view_module_version": "^0.15.0",
       "icon_color": "white",
       "marker_color": "orange",
       "name": "life-ring"
      }
     },
     "35386a24216c434bb24f1138ec9f7ac1": {
      "model_module": "@jupyter-widgets/controls",
      "model_module_version": "1.5.0",
      "model_name": "DescriptionStyleModel",
      "state": {
       "description_width": ""
      }
     },
     "355c8015558b4068a521db76a4a4ffd9": {
      "model_module": "@jupyter-widgets/controls",
      "model_module_version": "1.5.0",
      "model_name": "HTMLModel",
      "state": {
       "layout": "IPY_MODEL_e094ee91435a4fef8a9e1e1eeb0602b1",
       "style": "IPY_MODEL_1b61fdd506a948e19ba8a444d116dc1d",
       "value": "<table border=\"1\" class=\"dataframe table table-striped table-hover table-condensed table-responsive\">\n  <thead>\n    <tr style=\"text-align: right;\">\n      <th></th>\n      <th>icya2</th>\n    </tr>\n  </thead>\n  <tbody>\n    <tr>\n      <th>met</th>\n      <td>19418.0</td>\n    </tr>\n    <tr>\n      <th>wave</th>\n      <td>0.0</td>\n    </tr>\n    <tr>\n      <th>type</th>\n      <td>fixed</td>\n    </tr>\n    <tr>\n      <th>name</th>\n      <td>Icy Bay, AK</td>\n    </tr>\n    <tr>\n      <th>pgm</th>\n      <td>IOOS Partners</td>\n    </tr>\n  </tbody>\n</table>"
      }
     },
     "3570951b76f24132b1796317e3b9aa10": {
      "model_module": "@jupyter-widgets/controls",
      "model_module_version": "1.5.0",
      "model_name": "DescriptionStyleModel",
      "state": {
       "description_width": ""
      }
     },
     "357702ddd0354841b52d3a9bbf792f16": {
      "model_module": "jupyter-leaflet",
      "model_module_version": "^0.17.0",
      "model_name": "LeafletMarkerModel",
      "state": {
       "_model_module_version": "^0.17.0",
       "_view_module_version": "^0.17.0",
       "draggable": false,
       "icon": "IPY_MODEL_15412136a7e34cdba059f4894df4393c",
       "location": [
        27.173,
        -82.924
       ],
       "options": [
        "alt",
        "draggable",
        "keyboard",
        "rise_offset",
        "rise_on_hover",
        "rotation_angle",
        "rotation_origin",
        "title",
        "z_index_offset"
       ],
       "popup": "IPY_MODEL_10e6828171304c4fb906e00c09c95605"
      }
     },
     "35c4f9b4a360453e9c9c45f642fc3e40": {
      "model_module": "@jupyter-widgets/controls",
      "model_module_version": "1.5.0",
      "model_name": "DescriptionStyleModel",
      "state": {
       "description_width": ""
      }
     },
     "35eec03d6fcb46b89519c930b74ae2c1": {
      "model_module": "jupyter-leaflet",
      "model_module_version": "^0.17.0",
      "model_name": "LeafletAwesomeIconModel",
      "state": {
       "_model_module_version": "^0.17.0",
       "_view_module_version": "^0.17.0",
       "icon_color": "white",
       "marker_color": "red",
       "name": "life-ring"
      }
     },
     "361c6cdef0e349159e3083b7cb093fed": {
      "model_module": "jupyter-leaflet",
      "model_module_version": "^0.17.0",
      "model_name": "LeafletMarkerModel",
      "state": {
       "_model_module_version": "^0.17.0",
       "_view_module_version": "^0.17.0",
       "draggable": false,
       "icon": "IPY_MODEL_4cc512d3d41a4e33a01b1399c0611a20",
       "location": [
        20.75,
        -157.003
       ],
       "options": [
        "alt",
        "draggable",
        "keyboard",
        "rise_offset",
        "rise_on_hover",
        "rotation_angle",
        "rotation_origin",
        "title",
        "z_index_offset"
       ],
       "popup": "IPY_MODEL_b4007000becc40db94fe622f052c9919"
      }
     },
     "365d5639084b43b19e6c21c11df0ac54": {
      "model_module": "@jupyter-widgets/controls",
      "model_module_version": "1.5.0",
      "model_name": "DescriptionStyleModel",
      "state": {
       "description_width": ""
      }
     },
     "36622c57d0494098ace4293723143e34": {
      "model_module": "@jupyter-widgets/base",
      "model_module_version": "1.2.0",
      "model_name": "LayoutModel",
      "state": {}
     },
     "36735a51dd3a471ab078cfa18ee0e777": {
      "model_module": "jupyter-leaflet",
      "model_module_version": "^0.17.0",
      "model_name": "LeafletAwesomeIconModel",
      "state": {
       "_model_module_version": "^0.17.0",
       "_view_module_version": "^0.17.0",
       "icon_color": "white",
       "marker_color": "orange",
       "name": "life-ring"
      }
     },
     "36c413bface6421c9cb2f6e307bd50e4": {
      "model_module": "jupyter-leaflet",
      "model_module_version": "^0.15.0",
      "model_name": "LeafletMarkerModel",
      "state": {
       "_model_module_version": "^0.15.0",
       "_view_module_version": "^0.15.0",
       "draggable": false,
       "icon": "IPY_MODEL_33bd0f1c18af49d8a734133741b81e62",
       "location": [
        21.019,
        -156.422
       ],
       "options": [
        "alt",
        "draggable",
        "keyboard",
        "rise_offset",
        "rise_on_hover",
        "rotation_angle",
        "rotation_origin",
        "title",
        "z_index_offset"
       ],
       "popup": "IPY_MODEL_dc64fffb92024a79a9d7b798309315ef"
      }
     },
     "36d77b29ef2244f18eac9e9d2f6aa546": {
      "model_module": "@jupyter-widgets/base",
      "model_module_version": "1.2.0",
      "model_name": "LayoutModel",
      "state": {}
     },
     "36ea6c7581094c7a91248fb10a371056": {
      "model_module": "@jupyter-widgets/base",
      "model_module_version": "1.2.0",
      "model_name": "LayoutModel",
      "state": {}
     },
     "37363b3d281d464b893fa1f0a35ef143": {
      "model_module": "jupyter-leaflet",
      "model_module_version": "^0.17.0",
      "model_name": "LeafletMarkerModel",
      "state": {
       "_model_module_version": "^0.17.0",
       "_view_module_version": "^0.17.0",
       "draggable": false,
       "icon": "IPY_MODEL_c9143229f44e4caf83bc0ae4c9734761",
       "location": [
        27.84,
        -97.072
       ],
       "options": [
        "alt",
        "draggable",
        "keyboard",
        "rise_offset",
        "rise_on_hover",
        "rotation_angle",
        "rotation_origin",
        "title",
        "z_index_offset"
       ],
       "popup": "IPY_MODEL_e095aa62082b403ab30bbe1bd252f845"
      }
     },
     "37ef18a8a2cd4a29971ec4c246b04bca": {
      "model_module": "@jupyter-widgets/controls",
      "model_module_version": "1.5.0",
      "model_name": "HTMLModel",
      "state": {
       "layout": "IPY_MODEL_c2042220391b4dc5b3bd5e4f98f134b5",
       "style": "IPY_MODEL_9e10a523aa8b40ae8cdb6bba62ab7d94",
       "value": "<table border=\"1\" class=\"dataframe table table-striped table-hover table-condensed table-responsive\">\n  <thead>\n    <tr style=\"text-align: right;\">\n      <th></th>\n      <th>41024</th>\n    </tr>\n  </thead>\n  <tbody>\n    <tr>\n      <th>met</th>\n      <td>6220.0</td>\n    </tr>\n    <tr>\n      <th>wave</th>\n      <td>0.0</td>\n    </tr>\n    <tr>\n      <th>type</th>\n      <td>buoy</td>\n    </tr>\n    <tr>\n      <th>name</th>\n      <td>Sunset Nearshore, NC (SUN2)</td>\n    </tr>\n    <tr>\n      <th>pgm</th>\n      <td>IOOS Partners</td>\n    </tr>\n  </tbody>\n</table>"
      }
     },
     "38038ad543f848d9be2e24d01a221b0a": {
      "model_module": "jupyter-leaflet",
      "model_module_version": "^0.17.0",
      "model_name": "LeafletAwesomeIconModel",
      "state": {
       "_model_module_version": "^0.17.0",
       "_view_module_version": "^0.17.0",
       "icon_color": "white",
       "marker_color": "green",
       "name": "life-ring"
      }
     },
     "383cf48e9f7548f0a21dcdf132515cd1": {
      "model_module": "@jupyter-widgets/base",
      "model_module_version": "1.2.0",
      "model_name": "LayoutModel",
      "state": {}
     },
     "38cc7efed2344b9997b6c15f2542507b": {
      "model_module": "@jupyter-widgets/base",
      "model_module_version": "1.2.0",
      "model_name": "LayoutModel",
      "state": {}
     },
     "38e76a524f7f4ec88283f20a3d87ffad": {
      "model_module": "@jupyter-widgets/base",
      "model_module_version": "1.2.0",
      "model_name": "LayoutModel",
      "state": {}
     },
     "38e805371c444924ba3e577923be6af0": {
      "model_module": "jupyter-leaflet",
      "model_module_version": "^0.15.0",
      "model_name": "LeafletAwesomeIconModel",
      "state": {
       "_model_module_version": "^0.15.0",
       "_view_module_version": "^0.15.0",
       "icon_color": "white",
       "marker_color": "orange",
       "name": "life-ring"
      }
     },
     "390c148b806748cfa5baccbc24d9e37e": {
      "model_module": "jupyter-leaflet",
      "model_module_version": "^0.15.0",
      "model_name": "LeafletAwesomeIconModel",
      "state": {
       "_model_module_version": "^0.15.0",
       "_view_module_version": "^0.15.0",
       "icon_color": "white",
       "marker_color": "orange",
       "name": "life-ring"
      }
     },
     "390fab1d4dbf42c6a84931f411d99a63": {
      "model_module": "jupyter-leaflet",
      "model_module_version": "^0.17.0",
      "model_name": "LeafletMarkerModel",
      "state": {
       "_model_module_version": "^0.17.0",
       "_view_module_version": "^0.17.0",
       "draggable": false,
       "icon": "IPY_MODEL_2fcad1a24293466e855cbe80b8eebd43",
       "location": [
        58.159,
        -134.178
       ],
       "options": [
        "alt",
        "draggable",
        "keyboard",
        "rise_offset",
        "rise_on_hover",
        "rotation_angle",
        "rotation_origin",
        "title",
        "z_index_offset"
       ],
       "popup": "IPY_MODEL_b60c6b4cae9f4071a88361583b3acd32"
      }
     },
     "39532471ef90432f8d72661ac8c6d57e": {
      "model_module": "jupyter-leaflet",
      "model_module_version": "^0.17.0",
      "model_name": "LeafletAwesomeIconModel",
      "state": {
       "_model_module_version": "^0.17.0",
       "_view_module_version": "^0.17.0",
       "icon_color": "white",
       "marker_color": "orange",
       "name": "life-ring"
      }
     },
     "395418415c5d48908ee1a02e77ce663c": {
      "model_module": "@jupyter-widgets/base",
      "model_module_version": "1.2.0",
      "model_name": "LayoutModel",
      "state": {}
     },
     "397d0783da414124ac32b85bac911ceb": {
      "model_module": "jupyter-leaflet",
      "model_module_version": "^0.15.0",
      "model_name": "LeafletAwesomeIconModel",
      "state": {
       "_model_module_version": "^0.15.0",
       "_view_module_version": "^0.15.0",
       "icon_color": "white",
       "marker_color": "orange",
       "name": "life-ring"
      }
     },
     "39a33947b1a14a209efab7439f1b00bc": {
      "model_module": "jupyter-leaflet",
      "model_module_version": "^0.17.0",
      "model_name": "LeafletAwesomeIconModel",
      "state": {
       "_model_module_version": "^0.17.0",
       "_view_module_version": "^0.17.0",
       "icon_color": "white",
       "marker_color": "orange",
       "name": "life-ring"
      }
     },
     "39c017649dec479ba904146f0794c5a5": {
      "model_module": "@jupyter-widgets/controls",
      "model_module_version": "1.5.0",
      "model_name": "DescriptionStyleModel",
      "state": {
       "description_width": ""
      }
     },
     "39c85711410f4860b6a226ce9827db0f": {
      "model_module": "jupyter-leaflet",
      "model_module_version": "^0.15.0",
      "model_name": "LeafletMarkerModel",
      "state": {
       "_model_module_version": "^0.15.0",
       "_view_module_version": "^0.15.0",
       "draggable": false,
       "icon": "IPY_MODEL_8cf2d3e425b54bf2ad92e51386681a28",
       "location": [
        58.54,
        -135.047
       ],
       "options": [
        "alt",
        "draggable",
        "keyboard",
        "rise_offset",
        "rise_on_hover",
        "rotation_angle",
        "rotation_origin",
        "title",
        "z_index_offset"
       ],
       "popup": "IPY_MODEL_c04f7d72a51d48d1a5e01fd71c2c6a1a"
      }
     },
     "39d65090570947659cb807159d3e8440": {
      "model_module": "jupyter-leaflet",
      "model_module_version": "^0.17.0",
      "model_name": "LeafletAwesomeIconModel",
      "state": {
       "_model_module_version": "^0.17.0",
       "_view_module_version": "^0.17.0",
       "icon_color": "white",
       "marker_color": "orange",
       "name": "life-ring"
      }
     },
     "39ff557949c747fc88f656cd458c55c8": {
      "model_module": "@jupyter-widgets/base",
      "model_module_version": "1.2.0",
      "model_name": "LayoutModel",
      "state": {}
     },
     "3a25253d48e24b329e47e78d6c1ec18b": {
      "model_module": "@jupyter-widgets/controls",
      "model_module_version": "1.5.0",
      "model_name": "HTMLModel",
      "state": {
       "layout": "IPY_MODEL_edb153bd7f684acb991dda4b52a4d826",
       "style": "IPY_MODEL_02205e4470404fb387af1534c474f7fd",
       "value": "<table border=\"1\" class=\"dataframe table table-striped table-hover table-condensed table-responsive\">\n  <thead>\n    <tr style=\"text-align: right;\">\n      <th></th>\n      <th>45029</th>\n    </tr>\n  </thead>\n  <tbody>\n    <tr>\n      <th>met</th>\n      <td>28266.0</td>\n    </tr>\n    <tr>\n      <th>wave</th>\n      <td>28304.0</td>\n    </tr>\n    <tr>\n      <th>type</th>\n      <td>buoy</td>\n    </tr>\n    <tr>\n      <th>name</th>\n      <td>Holland Buoy, MI</td>\n    </tr>\n    <tr>\n      <th>pgm</th>\n      <td>IOOS Partners</td>\n    </tr>\n  </tbody>\n</table>"
      }
     },
     "3a41dcd44680434bb23466229db91d41": {
      "model_module": "@jupyter-widgets/base",
      "model_module_version": "1.2.0",
      "model_name": "LayoutModel",
      "state": {}
     },
     "3a66650aad314494be2bf930a9d04fbb": {
      "model_module": "@jupyter-widgets/controls",
      "model_module_version": "1.5.0",
      "model_name": "DescriptionStyleModel",
      "state": {
       "description_width": ""
      }
     },
     "3a954e6128514f3eab3f0293134642c2": {
      "model_module": "jupyter-leaflet",
      "model_module_version": "^0.15.0",
      "model_name": "LeafletMarkerModel",
      "state": {
       "_model_module_version": "^0.15.0",
       "_view_module_version": "^0.15.0",
       "draggable": false,
       "icon": "IPY_MODEL_1e0175f5b10b4c5d994e2d2e4738b501",
       "location": [
        18.367,
        -67.251
       ],
       "options": [
        "alt",
        "draggable",
        "keyboard",
        "rise_offset",
        "rise_on_hover",
        "rotation_angle",
        "rotation_origin",
        "title",
        "z_index_offset"
       ],
       "popup": "IPY_MODEL_3216d579b6294f43b56878eee6096d87"
      }
     },
     "3ab5bca1ac8d491c8c5251796c51166b": {
      "model_module": "@jupyter-widgets/controls",
      "model_module_version": "1.5.0",
      "model_name": "HTMLModel",
      "state": {
       "layout": "IPY_MODEL_15b6c0012ed44994b8eac9ad506e1be3",
       "style": "IPY_MODEL_9c196b350b1c4d62b85f15cb51918887",
       "value": "<table border=\"1\" class=\"dataframe table table-striped table-hover table-condensed table-responsive\">\n  <thead>\n    <tr style=\"text-align: right;\">\n      <th></th>\n      <th>shxa2</th>\n    </tr>\n  </thead>\n  <tbody>\n    <tr>\n      <th>met</th>\n      <td>34262.0</td>\n    </tr>\n    <tr>\n      <th>wave</th>\n      <td>0.0</td>\n    </tr>\n    <tr>\n      <th>type</th>\n      <td>fixed</td>\n    </tr>\n    <tr>\n      <th>name</th>\n      <td>Sitka Harbor, AK</td>\n    </tr>\n    <tr>\n      <th>pgm</th>\n      <td>IOOS Partners</td>\n    </tr>\n  </tbody>\n</table>"
      }
     },
     "3ac29caa7aec43108cb59a77f0364873": {
      "model_module": "@jupyter-widgets/controls",
      "model_module_version": "1.5.0",
      "model_name": "HTMLModel",
      "state": {
       "layout": "IPY_MODEL_825263e72318408d8cf6ab957ab1126b",
       "style": "IPY_MODEL_75e901e112a74c89acf2a6e6676498e1",
       "value": "<table border=\"1\" class=\"dataframe table table-striped table-hover table-condensed table-responsive\">\n  <thead>\n    <tr style=\"text-align: right;\">\n      <th></th>\n      <th>44039</th>\n    </tr>\n  </thead>\n  <tbody>\n    <tr>\n      <th>met</th>\n      <td>2794.0</td>\n    </tr>\n    <tr>\n      <th>wave</th>\n      <td>2794.0</td>\n    </tr>\n    <tr>\n      <th>type</th>\n      <td>buoy</td>\n    </tr>\n    <tr>\n      <th>name</th>\n      <td>Central Long Island Sound</td>\n    </tr>\n    <tr>\n      <th>pgm</th>\n      <td>IOOS Partners</td>\n    </tr>\n  </tbody>\n</table>"
      }
     },
     "3af34bac37684ca2b2d74fb9aa657fff": {
      "model_module": "jupyter-leaflet",
      "model_module_version": "^0.15.0",
      "model_name": "LeafletMarkerModel",
      "state": {
       "_model_module_version": "^0.15.0",
       "_view_module_version": "^0.15.0",
       "draggable": false,
       "icon": "IPY_MODEL_aec82da7956440cf9cc7ccc18cb189ba",
       "location": [
        27.59,
        -82.931
       ],
       "options": [
        "alt",
        "draggable",
        "keyboard",
        "rise_offset",
        "rise_on_hover",
        "rotation_angle",
        "rotation_origin",
        "title",
        "z_index_offset"
       ],
       "popup": "IPY_MODEL_5ce6ef114a4f49e6ae6debcc4dfaba85"
      }
     },
     "3b0b9a0917cb4da5ab5cf14ba3a717f2": {
      "model_module": "jupyter-leaflet",
      "model_module_version": "^0.15.0",
      "model_name": "LeafletMarkerModel",
      "state": {
       "_model_module_version": "^0.15.0",
       "_view_module_version": "^0.15.0",
       "draggable": false,
       "icon": "IPY_MODEL_236adb77e3d64b76b69c43d1cf1876f9",
       "location": [
        58.971,
        -135.221
       ],
       "options": [
        "alt",
        "draggable",
        "keyboard",
        "rise_offset",
        "rise_on_hover",
        "rotation_angle",
        "rotation_origin",
        "title",
        "z_index_offset"
       ],
       "popup": "IPY_MODEL_7cf03c0140f34c60898ec21056dd5d8e"
      }
     },
     "3b1a2ad3512149769b1f1637866a583f": {
      "model_module": "jupyter-leaflet",
      "model_module_version": "^0.15.0",
      "model_name": "LeafletAwesomeIconModel",
      "state": {
       "_model_module_version": "^0.15.0",
       "_view_module_version": "^0.15.0",
       "icon_color": "white",
       "marker_color": "orange",
       "name": "life-ring"
      }
     },
     "3b52e6f8c9624ca38ce0095872c7dfc0": {
      "model_module": "@jupyter-widgets/controls",
      "model_module_version": "1.5.0",
      "model_name": "DescriptionStyleModel",
      "state": {
       "description_width": ""
      }
     },
     "3b5779948d20416398109b54d89dbec5": {
      "model_module": "@jupyter-widgets/controls",
      "model_module_version": "1.5.0",
      "model_name": "DescriptionStyleModel",
      "state": {
       "description_width": ""
      }
     },
     "3bb27c8604e44d92a4a94ea0a20f554d": {
      "model_module": "@jupyter-widgets/controls",
      "model_module_version": "1.5.0",
      "model_name": "DescriptionStyleModel",
      "state": {
       "description_width": ""
      }
     },
     "3bcb9e4071d1418bb3bf27a5d98e9bd1": {
      "model_module": "@jupyter-widgets/base",
      "model_module_version": "1.2.0",
      "model_name": "LayoutModel",
      "state": {}
     },
     "3bebb8ae61b546468eb67f1fc8a700dd": {
      "model_module": "@jupyter-widgets/controls",
      "model_module_version": "1.5.0",
      "model_name": "DescriptionStyleModel",
      "state": {
       "description_width": ""
      }
     },
     "3c14cb2bbcef4d73acc6676eb7dc7138": {
      "model_module": "jupyter-leaflet",
      "model_module_version": "^0.15.0",
      "model_name": "LeafletAwesomeIconModel",
      "state": {
       "_model_module_version": "^0.15.0",
       "_view_module_version": "^0.15.0",
       "icon_color": "white",
       "marker_color": "orange",
       "name": "life-ring"
      }
     },
     "3c423e2901924a40b08883b8f279b5b8": {
      "model_module": "jupyter-leaflet",
      "model_module_version": "^0.15.0",
      "model_name": "LeafletAwesomeIconModel",
      "state": {
       "_model_module_version": "^0.15.0",
       "_view_module_version": "^0.15.0",
       "icon_color": "white",
       "marker_color": "orange",
       "name": "life-ring"
      }
     },
     "3c63e296c54a42cd90aad614d6755668": {
      "model_module": "@jupyter-widgets/controls",
      "model_module_version": "1.5.0",
      "model_name": "HTMLModel",
      "state": {
       "layout": "IPY_MODEL_af39f317db9d446fb410790d526231ec",
       "style": "IPY_MODEL_745b6e429ba549b1ac581be29d655ac6",
       "value": "<table border=\"1\" class=\"dataframe table table-striped table-hover table-condensed table-responsive\">\n  <thead>\n    <tr style=\"text-align: right;\">\n      <th></th>\n      <th>scxa2</th>\n    </tr>\n  </thead>\n  <tbody>\n    <tr>\n      <th>met</th>\n      <td>34156.0</td>\n    </tr>\n    <tr>\n      <th>wave</th>\n      <td>0.0</td>\n    </tr>\n    <tr>\n      <th>type</th>\n      <td>fixed</td>\n    </tr>\n    <tr>\n      <th>name</th>\n      <td>Scull Island, AK</td>\n    </tr>\n    <tr>\n      <th>pgm</th>\n      <td>IOOS Partners</td>\n    </tr>\n  </tbody>\n</table>"
      }
     },
     "3c8661968eac48a49d8f7676151e20c2": {
      "model_module": "jupyter-leaflet",
      "model_module_version": "^0.17.0",
      "model_name": "LeafletAwesomeIconModel",
      "state": {
       "_model_module_version": "^0.17.0",
       "_view_module_version": "^0.17.0",
       "icon_color": "white",
       "marker_color": "red",
       "name": "life-ring"
      }
     },
     "3ca1e3d1c83b43d2a3fd4e0bd9f27457": {
      "model_module": "@jupyter-widgets/controls",
      "model_module_version": "1.5.0",
      "model_name": "DescriptionStyleModel",
      "state": {
       "description_width": ""
      }
     },
     "3d447a8b60a54090aaa9b53bab680124": {
      "model_module": "jupyter-leaflet",
      "model_module_version": "^0.15.0",
      "model_name": "LeafletAwesomeIconModel",
      "state": {
       "_model_module_version": "^0.15.0",
       "_view_module_version": "^0.15.0",
       "icon_color": "white",
       "marker_color": "orange",
       "name": "life-ring"
      }
     },
     "3d5704868119473f93d6ef460bbe2b76": {
      "model_module": "jupyter-leaflet",
      "model_module_version": "^0.15.0",
      "model_name": "LeafletMarkerModel",
      "state": {
       "_model_module_version": "^0.15.0",
       "_view_module_version": "^0.15.0",
       "draggable": false,
       "icon": "IPY_MODEL_ab5e7a5d702d4877b9aca98e5c320bfb",
       "location": [
        27.48,
        -97.322
       ],
       "options": [
        "alt",
        "draggable",
        "keyboard",
        "rise_offset",
        "rise_on_hover",
        "rotation_angle",
        "rotation_origin",
        "title",
        "z_index_offset"
       ],
       "popup": "IPY_MODEL_282eaeeac3c74cf3a7e777f1f1855504"
      }
     },
     "3d67213bea4149168e4e51fcb44d62e0": {
      "model_module": "@jupyter-widgets/base",
      "model_module_version": "1.2.0",
      "model_name": "LayoutModel",
      "state": {}
     },
     "3d6bd1d76d074e60b63296ebfd00dc10": {
      "model_module": "@jupyter-widgets/controls",
      "model_module_version": "1.5.0",
      "model_name": "DescriptionStyleModel",
      "state": {
       "description_width": ""
      }
     },
     "3d7c85f1a4a042a9b65e99c4c39e5a8e": {
      "model_module": "@jupyter-widgets/base",
      "model_module_version": "1.2.0",
      "model_name": "LayoutModel",
      "state": {}
     },
     "3d90fedc905f4bed96116ef9c625af90": {
      "model_module": "@jupyter-widgets/base",
      "model_module_version": "1.2.0",
      "model_name": "LayoutModel",
      "state": {}
     },
     "3d92930b60b54b7e9b44b48e8a01ff47": {
      "model_module": "@jupyter-widgets/controls",
      "model_module_version": "1.5.0",
      "model_name": "DescriptionStyleModel",
      "state": {
       "description_width": ""
      }
     },
     "3db302372222478f91c591e18c9ad40e": {
      "model_module": "@jupyter-widgets/controls",
      "model_module_version": "1.5.0",
      "model_name": "HTMLModel",
      "state": {
       "layout": "IPY_MODEL_6328b5f572764b579d2acf1aca6065d6",
       "style": "IPY_MODEL_ff7718898e0a4da2847583e5b8b0974d",
       "value": "<table border=\"1\" class=\"dataframe table table-striped table-hover table-condensed table-responsive\">\n  <thead>\n    <tr style=\"text-align: right;\">\n      <th></th>\n      <th>haxa2</th>\n    </tr>\n  </thead>\n  <tbody>\n    <tr>\n      <th>met</th>\n      <td>34436.0</td>\n    </tr>\n    <tr>\n      <th>wave</th>\n      <td>0.0</td>\n    </tr>\n    <tr>\n      <th>type</th>\n      <td>fixed</td>\n    </tr>\n    <tr>\n      <th>name</th>\n      <td>Haines Harbor, AK</td>\n    </tr>\n    <tr>\n      <th>pgm</th>\n      <td>IOOS Partners</td>\n    </tr>\n  </tbody>\n</table>"
      }
     },
     "3dd43823c72e40cba15b4c34fb5983cf": {
      "model_module": "@jupyter-widgets/base",
      "model_module_version": "1.2.0",
      "model_name": "LayoutModel",
      "state": {}
     },
     "3deef7f0c2f54483bdc3cd139c16cf81": {
      "model_module": "@jupyter-widgets/base",
      "model_module_version": "1.2.0",
      "model_name": "LayoutModel",
      "state": {}
     },
     "3e1867d1f87e472c97a393dbb6aa45fb": {
      "model_module": "jupyter-leaflet",
      "model_module_version": "^0.15.0",
      "model_name": "LeafletMarkerModel",
      "state": {
       "_model_module_version": "^0.15.0",
       "_view_module_version": "^0.15.0",
       "draggable": false,
       "icon": "IPY_MODEL_7434769eb3984a82a52d20ff5c471c4f",
       "location": [
        27.297,
        -97.405
       ],
       "options": [
        "alt",
        "draggable",
        "keyboard",
        "rise_offset",
        "rise_on_hover",
        "rotation_angle",
        "rotation_origin",
        "title",
        "z_index_offset"
       ],
       "popup": "IPY_MODEL_9b373e0ae7b54f28b6d81e47b1478368"
      }
     },
     "3e43dc12af144c2cb6bd247c7b8ff9e2": {
      "model_module": "@jupyter-widgets/base",
      "model_module_version": "1.2.0",
      "model_name": "LayoutModel",
      "state": {}
     },
     "3e555f86051d4fd39de89b7a7ae8a458": {
      "model_module": "@jupyter-widgets/controls",
      "model_module_version": "1.5.0",
      "model_name": "DescriptionStyleModel",
      "state": {
       "description_width": ""
      }
     },
     "3e5eeac9a00b4128b3359723b05f7524": {
      "model_module": "@jupyter-widgets/controls",
      "model_module_version": "1.5.0",
      "model_name": "DescriptionStyleModel",
      "state": {
       "description_width": ""
      }
     },
     "3eb744cff4c3431e9356e642435bbd87": {
      "model_module": "@jupyter-widgets/controls",
      "model_module_version": "1.5.0",
      "model_name": "DescriptionStyleModel",
      "state": {
       "description_width": ""
      }
     },
     "3f2856b87a5145cab303c834a7d15cfb": {
      "model_module": "@jupyter-widgets/controls",
      "model_module_version": "1.5.0",
      "model_name": "HTMLModel",
      "state": {
       "layout": "IPY_MODEL_c94f7dd57d2446b58bc2013664c050ab",
       "style": "IPY_MODEL_3b5779948d20416398109b54d89dbec5",
       "value": "<table border=\"1\" class=\"dataframe table table-striped table-hover table-condensed table-responsive\">\n  <thead>\n    <tr style=\"text-align: right;\">\n      <th></th>\n      <th>emat2</th>\n    </tr>\n  </thead>\n  <tbody>\n    <tr>\n      <th>met</th>\n      <td>58326.0</td>\n    </tr>\n    <tr>\n      <th>wave</th>\n      <td>0.0</td>\n    </tr>\n    <tr>\n      <th>type</th>\n      <td>fixed</td>\n    </tr>\n    <tr>\n      <th>name</th>\n      <td>8773146 - Matagorda City, TX</td>\n    </tr>\n    <tr>\n      <th>pgm</th>\n      <td>IOOS Partners</td>\n    </tr>\n  </tbody>\n</table>"
      }
     },
     "3f75f43ea1cf4e84994a1eb5811a314a": {
      "model_module": "@jupyter-widgets/controls",
      "model_module_version": "1.5.0",
      "model_name": "DescriptionStyleModel",
      "state": {
       "description_width": ""
      }
     },
     "3f800a8a131d40bba4719ef2ebf78bab": {
      "model_module": "@jupyter-widgets/controls",
      "model_module_version": "1.5.0",
      "model_name": "DescriptionStyleModel",
      "state": {
       "description_width": ""
      }
     },
     "3f929086b97e4597977a8bb7ce11eac1": {
      "model_module": "@jupyter-widgets/controls",
      "model_module_version": "1.5.0",
      "model_name": "HTMLModel",
      "state": {
       "layout": "IPY_MODEL_199d3fd3fd124f07a750cdb831a6ada5",
       "style": "IPY_MODEL_35c4f9b4a360453e9c9c45f642fc3e40",
       "value": "<table border=\"1\" class=\"dataframe table table-striped table-hover table-condensed table-responsive\">\n  <thead>\n    <tr style=\"text-align: right;\">\n      <th></th>\n      <th>mlsc1</th>\n    </tr>\n  </thead>\n  <tbody>\n    <tr>\n      <th>met</th>\n      <td>43720.0</td>\n    </tr>\n    <tr>\n      <th>wave</th>\n      <td>0.0</td>\n    </tr>\n    <tr>\n      <th>type</th>\n      <td>fixed</td>\n    </tr>\n    <tr>\n      <th>name</th>\n      <td>Moss Landing, South Harbor, CA</td>\n    </tr>\n    <tr>\n      <th>pgm</th>\n      <td>IOOS Partners</td>\n    </tr>\n  </tbody>\n</table>"
      }
     },
     "3fa6eecfd112457d942dc7b4e12b3ff1": {
      "model_module": "@jupyter-widgets/controls",
      "model_module_version": "1.5.0",
      "model_name": "HTMLModel",
      "state": {
       "layout": "IPY_MODEL_145ef4b394dc48488eba15801bc55998",
       "style": "IPY_MODEL_3e5eeac9a00b4128b3359723b05f7524",
       "value": "<table border=\"1\" class=\"dataframe table table-striped table-hover table-condensed table-responsive\">\n  <thead>\n    <tr style=\"text-align: right;\">\n      <th></th>\n      <th>jaki2</th>\n    </tr>\n  </thead>\n  <tbody>\n    <tr>\n      <th>met</th>\n      <td>5564.0</td>\n    </tr>\n    <tr>\n      <th>wave</th>\n      <td>0.0</td>\n    </tr>\n    <tr>\n      <th>type</th>\n      <td>fixed</td>\n    </tr>\n    <tr>\n      <th>name</th>\n      <td>63rd St., Chicago, IL</td>\n    </tr>\n    <tr>\n      <th>pgm</th>\n      <td>IOOS Partners</td>\n    </tr>\n  </tbody>\n</table>"
      }
     },
     "3fb8419f99ff43b5b198522acc7028c0": {
      "model_module": "@jupyter-widgets/base",
      "model_module_version": "1.2.0",
      "model_name": "LayoutModel",
      "state": {}
     },
     "3fc5a671fd054d299ea4119ca4123c1b": {
      "model_module": "@jupyter-widgets/base",
      "model_module_version": "1.2.0",
      "model_name": "LayoutModel",
      "state": {}
     },
     "3fe93f80e7de41e68b5e55029f8c827c": {
      "model_module": "@jupyter-widgets/controls",
      "model_module_version": "1.5.0",
      "model_name": "HTMLModel",
      "state": {
       "layout": "IPY_MODEL_07d8ccb348ae4864b90d53752ed3b5af",
       "style": "IPY_MODEL_3570951b76f24132b1796317e3b9aa10",
       "value": "<table border=\"1\" class=\"dataframe table table-striped table-hover table-condensed table-responsive\">\n  <thead>\n    <tr style=\"text-align: right;\">\n      <th></th>\n      <th>45170</th>\n    </tr>\n  </thead>\n  <tbody>\n    <tr>\n      <th>met</th>\n      <td>27838.0</td>\n    </tr>\n    <tr>\n      <th>wave</th>\n      <td>26778.0</td>\n    </tr>\n    <tr>\n      <th>type</th>\n      <td>buoy</td>\n    </tr>\n    <tr>\n      <th>name</th>\n      <td>Michigan City Buoy, IN</td>\n    </tr>\n    <tr>\n      <th>pgm</th>\n      <td>IOOS Partners</td>\n    </tr>\n  </tbody>\n</table>"
      }
     },
     "401f15095564431abed258634e6cf010": {
      "model_module": "jupyter-leaflet",
      "model_module_version": "^0.15.0",
      "model_name": "LeafletMarkerModel",
      "state": {
       "_model_module_version": "^0.15.0",
       "_view_module_version": "^0.15.0",
       "draggable": false,
       "icon": "IPY_MODEL_bc50f7751f57413aad0d43fa55955237",
       "location": [
        30.058,
        -84.291
       ],
       "options": [
        "alt",
        "draggable",
        "keyboard",
        "rise_offset",
        "rise_on_hover",
        "rotation_angle",
        "rotation_origin",
        "title",
        "z_index_offset"
       ],
       "popup": "IPY_MODEL_f1b332647010410ab26acfca303cdd7d"
      }
     },
     "402d28615648422296d6fceed8a7057b": {
      "model_module": "@jupyter-widgets/controls",
      "model_module_version": "1.5.0",
      "model_name": "HTMLModel",
      "state": {
       "layout": "IPY_MODEL_b2dbbae0d717456cae89bf23cd99b826",
       "style": "IPY_MODEL_a1f25af3b6084922892709db67e9aeb8",
       "value": "<table border=\"1\" class=\"dataframe table table-striped table-hover table-condensed table-responsive\">\n  <thead>\n    <tr style=\"text-align: right;\">\n      <th></th>\n      <th>rlit2</th>\n    </tr>\n  </thead>\n  <tbody>\n    <tr>\n      <th>met</th>\n      <td>58590.0</td>\n    </tr>\n    <tr>\n      <th>wave</th>\n      <td>0.0</td>\n    </tr>\n    <tr>\n      <th>type</th>\n      <td>fixed</td>\n    </tr>\n    <tr>\n      <th>name</th>\n      <td>8779280 - Realitos Peninsula, TX</td>\n    </tr>\n    <tr>\n      <th>pgm</th>\n      <td>IOOS Partners</td>\n    </tr>\n  </tbody>\n</table>"
      }
     },
     "4093822f092d496a9cb8b18410ad2108": {
      "model_module": "@jupyter-widgets/controls",
      "model_module_version": "1.5.0",
      "model_name": "HTMLModel",
      "state": {
       "layout": "IPY_MODEL_fec6499df22d41ff996115d2e7aaa011",
       "style": "IPY_MODEL_c41a922bd6024a259aec4cb829c1f7ab",
       "value": "<table border=\"1\" class=\"dataframe table table-striped table-hover table-condensed table-responsive\">\n  <thead>\n    <tr style=\"text-align: right;\">\n      <th></th>\n      <th>41056</th>\n    </tr>\n  </thead>\n  <tbody>\n    <tr>\n      <th>met</th>\n      <td>35212.0</td>\n    </tr>\n    <tr>\n      <th>wave</th>\n      <td>5820.0</td>\n    </tr>\n    <tr>\n      <th>type</th>\n      <td>buoy</td>\n    </tr>\n    <tr>\n      <th>name</th>\n      <td>Vieques Island, PR</td>\n    </tr>\n    <tr>\n      <th>pgm</th>\n      <td>IOOS Partners</td>\n    </tr>\n  </tbody>\n</table>"
      }
     },
     "41061f5d0821433ca87d410c54482b15": {
      "model_module": "jupyter-leaflet",
      "model_module_version": "^0.17.0",
      "model_name": "LeafletMarkerModel",
      "state": {
       "_model_module_version": "^0.17.0",
       "_view_module_version": "^0.17.0",
       "draggable": false,
       "icon": "IPY_MODEL_0307aa68198c4a72b48b4a7e6f0c59e7",
       "location": [
        55.352,
        -131.684
       ],
       "options": [
        "alt",
        "draggable",
        "keyboard",
        "rise_offset",
        "rise_on_hover",
        "rotation_angle",
        "rotation_origin",
        "title",
        "z_index_offset"
       ],
       "popup": "IPY_MODEL_d6a15b21e029442caa8c16b87b8a8645"
      }
     },
     "411c4d7400f14b67b1ade1e0cf6ed633": {
      "model_module": "@jupyter-widgets/controls",
      "model_module_version": "1.5.0",
      "model_name": "DescriptionStyleModel",
      "state": {
       "description_width": ""
      }
     },
     "41a3887137e34e9dba0e711ba40705bd": {
      "model_module": "jupyter-leaflet",
      "model_module_version": "^0.17.0",
      "model_name": "LeafletMarkerModel",
      "state": {
       "_model_module_version": "^0.17.0",
       "_view_module_version": "^0.17.0",
       "draggable": false,
       "icon": "IPY_MODEL_02bcba914f024df7836dcd1834fe805f",
       "location": [
        40.956,
        -73.58
       ],
       "options": [
        "alt",
        "draggable",
        "keyboard",
        "rise_offset",
        "rise_on_hover",
        "rotation_angle",
        "rotation_origin",
        "title",
        "z_index_offset"
       ],
       "popup": "IPY_MODEL_dd85dc3537fd4fd791ca947c091b0f8d"
      }
     },
     "41b47c2edc4a4ce888b364ad4652134c": {
      "model_module": "@jupyter-widgets/controls",
      "model_module_version": "1.5.0",
      "model_name": "HTMLModel",
      "state": {
       "layout": "IPY_MODEL_6673e3df6734458ea9e80b7259636f56",
       "style": "IPY_MODEL_484a9251b97c44f5871ab13906f89431",
       "value": "<table border=\"1\" class=\"dataframe table table-striped table-hover table-condensed table-responsive\">\n  <thead>\n    <tr style=\"text-align: right;\">\n      <th></th>\n      <th>45028</th>\n    </tr>\n  </thead>\n  <tbody>\n    <tr>\n      <th>met</th>\n      <td>25870.0</td>\n    </tr>\n    <tr>\n      <th>wave</th>\n      <td>25870.0</td>\n    </tr>\n    <tr>\n      <th>type</th>\n      <td>buoy</td>\n    </tr>\n    <tr>\n      <th>name</th>\n      <td>Western Lake Superior</td>\n    </tr>\n    <tr>\n      <th>pgm</th>\n      <td>IOOS Partners</td>\n    </tr>\n  </tbody>\n</table>"
      }
     },
     "42536ce2ac94404eb033322f617889c8": {
      "model_module": "@jupyter-widgets/base",
      "model_module_version": "1.2.0",
      "model_name": "LayoutModel",
      "state": {}
     },
     "425d9d579ca24af59d12c5a5b52aec82": {
      "model_module": "@jupyter-widgets/base",
      "model_module_version": "1.2.0",
      "model_name": "LayoutModel",
      "state": {}
     },
     "42bd06ff19a043eba30584398eba840b": {
      "model_module": "jupyter-leaflet",
      "model_module_version": "^0.15.0",
      "model_name": "LeafletAwesomeIconModel",
      "state": {
       "_model_module_version": "^0.15.0",
       "_view_module_version": "^0.15.0",
       "icon_color": "white",
       "marker_color": "green",
       "name": "life-ring"
      }
     },
     "430ab269f42d4685a40faddb65e24cca": {
      "model_module": "@jupyter-widgets/controls",
      "model_module_version": "1.5.0",
      "model_name": "DescriptionStyleModel",
      "state": {
       "description_width": ""
      }
     },
     "431fe72cba0c46ccae8bfcfbb2b26ff1": {
      "model_module": "jupyter-leaflet",
      "model_module_version": "^0.15.0",
      "model_name": "LeafletAwesomeIconModel",
      "state": {
       "_model_module_version": "^0.15.0",
       "_view_module_version": "^0.15.0",
       "icon_color": "white",
       "marker_color": "orange",
       "name": "life-ring"
      }
     },
     "435fd8cf559241e0977134d548625119": {
      "model_module": "@jupyter-widgets/controls",
      "model_module_version": "1.5.0",
      "model_name": "DescriptionStyleModel",
      "state": {
       "description_width": ""
      }
     },
     "4381d80f4de640c0b45d11b676f693df": {
      "model_module": "@jupyter-widgets/controls",
      "model_module_version": "1.5.0",
      "model_name": "DescriptionStyleModel",
      "state": {
       "description_width": ""
      }
     },
     "43d2d52c5dc946379d8c3da2ec82517d": {
      "model_module": "@jupyter-widgets/controls",
      "model_module_version": "1.5.0",
      "model_name": "DescriptionStyleModel",
      "state": {
       "description_width": ""
      }
     },
     "44105993477049cd805497f70c2f67ca": {
      "model_module": "jupyter-leaflet",
      "model_module_version": "^0.17.0",
      "model_name": "LeafletAwesomeIconModel",
      "state": {
       "_model_module_version": "^0.17.0",
       "_view_module_version": "^0.17.0",
       "icon_color": "white",
       "marker_color": "orange",
       "name": "life-ring"
      }
     },
     "444a579606eb4247ab31eae2da3b977d": {
      "model_module": "jupyter-leaflet",
      "model_module_version": "^0.17.0",
      "model_name": "LeafletMarkerModel",
      "state": {
       "_model_module_version": "^0.17.0",
       "_view_module_version": "^0.17.0",
       "draggable": false,
       "icon": "IPY_MODEL_67ce9f088cbd446fad8cfb3e75a955d7",
       "location": [
        41.748,
        -81.698
       ],
       "options": [
        "alt",
        "draggable",
        "keyboard",
        "rise_offset",
        "rise_on_hover",
        "rotation_angle",
        "rotation_origin",
        "title",
        "z_index_offset"
       ],
       "popup": "IPY_MODEL_743e426045604592ba5f2871c314c5db"
      }
     },
     "444addc69b8245229494b57a9c811681": {
      "model_module": "@jupyter-widgets/controls",
      "model_module_version": "1.5.0",
      "model_name": "HTMLModel",
      "state": {
       "layout": "IPY_MODEL_a24c52fd6c8442488a0c7f64a3bbcb09",
       "style": "IPY_MODEL_5ed695b4fe814f088edecd70685331bf",
       "value": "<table border=\"1\" class=\"dataframe table table-striped table-hover table-condensed table-responsive\">\n  <thead>\n    <tr style=\"text-align: right;\">\n      <th></th>\n      <th>anpt2</th>\n    </tr>\n  </thead>\n  <tbody>\n    <tr>\n      <th>met</th>\n      <td>58680.0</td>\n    </tr>\n    <tr>\n      <th>wave</th>\n      <td>0.0</td>\n    </tr>\n    <tr>\n      <th>type</th>\n      <td>fixed</td>\n    </tr>\n    <tr>\n      <th>name</th>\n      <td>8775241 - Aransas, Aransas Pass, TX</td>\n    </tr>\n    <tr>\n      <th>pgm</th>\n      <td>IOOS Partners</td>\n    </tr>\n  </tbody>\n</table>"
      }
     },
     "446c24b33e814558bc00de6bdc95c237": {
      "model_module": "@jupyter-widgets/controls",
      "model_module_version": "1.5.0",
      "model_name": "DescriptionStyleModel",
      "state": {
       "description_width": ""
      }
     },
     "44980d82ca9a4d92b7f255172eed92d1": {
      "model_module": "jupyter-leaflet",
      "model_module_version": "^0.17.0",
      "model_name": "LeafletMarkerModel",
      "state": {
       "_model_module_version": "^0.17.0",
       "_view_module_version": "^0.17.0",
       "draggable": false,
       "icon": "IPY_MODEL_72104d76e57b4fb2b51bd307cd1995da",
       "location": [
        46.969,
        -88.398
       ],
       "options": [
        "alt",
        "draggable",
        "keyboard",
        "rise_offset",
        "rise_on_hover",
        "rotation_angle",
        "rotation_origin",
        "title",
        "z_index_offset"
       ],
       "popup": "IPY_MODEL_e8e646fa029f40faa92c52baf4727128"
      }
     },
     "451910810a704fec92b61b5ce9955e40": {
      "model_module": "@jupyter-widgets/controls",
      "model_module_version": "1.5.0",
      "model_name": "HTMLModel",
      "state": {
       "layout": "IPY_MODEL_0cad2478491f4232b4bf203c258debae",
       "style": "IPY_MODEL_eb80b5d41516426d81ae41316eb4c8ac",
       "value": "<table border=\"1\" class=\"dataframe table table-striped table-hover table-condensed table-responsive\">\n  <thead>\n    <tr style=\"text-align: right;\">\n      <th></th>\n      <th>bzst2</th>\n    </tr>\n  </thead>\n  <tbody>\n    <tr>\n      <th>met</th>\n      <td>58680.0</td>\n    </tr>\n    <tr>\n      <th>wave</th>\n      <td>0.0</td>\n    </tr>\n    <tr>\n      <th>type</th>\n      <td>fixed</td>\n    </tr>\n    <tr>\n      <th>name</th>\n      <td>8779749 - SPI Brazos Santiago, TX</td>\n    </tr>\n    <tr>\n      <th>pgm</th>\n      <td>IOOS Partners</td>\n    </tr>\n  </tbody>\n</table>"
      }
     },
     "4568cc31554f47f88a03373b4e98ad73": {
      "model_module": "jupyter-leaflet",
      "model_module_version": "^0.15.0",
      "model_name": "LeafletAwesomeIconModel",
      "state": {
       "_model_module_version": "^0.15.0",
       "_view_module_version": "^0.15.0",
       "icon_color": "white",
       "marker_color": "green",
       "name": "life-ring"
      }
     },
     "4577e4b30dc94f08a1a0c212b7bb8149": {
      "model_module": "@jupyter-widgets/controls",
      "model_module_version": "1.5.0",
      "model_name": "DescriptionStyleModel",
      "state": {
       "description_width": ""
      }
     },
     "45ed3b9cc2e2476796656a84c81c52a5": {
      "model_module": "jupyter-leaflet",
      "model_module_version": "^0.15.0",
      "model_name": "LeafletAwesomeIconModel",
      "state": {
       "_model_module_version": "^0.15.0",
       "_view_module_version": "^0.15.0",
       "icon_color": "white",
       "marker_color": "orange",
       "name": "life-ring"
      }
     },
     "45ef7a0282984b088986349e736463c3": {
      "model_module": "jupyter-leaflet",
      "model_module_version": "^0.15.0",
      "model_name": "LeafletMarkerModel",
      "state": {
       "_model_module_version": "^0.15.0",
       "_view_module_version": "^0.15.0",
       "draggable": false,
       "icon": "IPY_MODEL_da89c7a8b0d04421851baf33f54f3b8b",
       "location": [
        37.892,
        -122.447
       ],
       "options": [
        "alt",
        "draggable",
        "keyboard",
        "rise_offset",
        "rise_on_hover",
        "rotation_angle",
        "rotation_origin",
        "title",
        "z_index_offset"
       ],
       "popup": "IPY_MODEL_e683b3d802224701a03fee56f50cce68"
      }
     },
     "460ac29f702f44efabc14c7983f53139": {
      "model_module": "jupyter-leaflet",
      "model_module_version": "^0.17.0",
      "model_name": "LeafletAwesomeIconModel",
      "state": {
       "_model_module_version": "^0.17.0",
       "_view_module_version": "^0.17.0",
       "icon_color": "white",
       "marker_color": "green",
       "name": "life-ring"
      }
     },
     "4629d5d700fc490ea0ac833abe52198a": {
      "model_module": "@jupyter-widgets/controls",
      "model_module_version": "1.5.0",
      "model_name": "HTMLModel",
      "state": {
       "layout": "IPY_MODEL_69a8e97216434a7da94462bf2d817a14",
       "style": "IPY_MODEL_db751c8089324cd5af2ec5d15f821e44",
       "value": "<table border=\"1\" class=\"dataframe table table-striped table-hover table-condensed table-responsive\">\n  <thead>\n    <tr style=\"text-align: right;\">\n      <th></th>\n      <th>fpst2</th>\n    </tr>\n  </thead>\n  <tbody>\n    <tr>\n      <th>met</th>\n      <td>58672.0</td>\n    </tr>\n    <tr>\n      <th>wave</th>\n      <td>0.0</td>\n    </tr>\n    <tr>\n      <th>type</th>\n      <td>fixed</td>\n    </tr>\n    <tr>\n      <th>name</th>\n      <td>8772471 - Freeport SPIP, TX</td>\n    </tr>\n    <tr>\n      <th>pgm</th>\n      <td>IOOS Partners</td>\n    </tr>\n  </tbody>\n</table>"
      }
     },
     "464ec9f95c934359bb7e741f95360edd": {
      "model_module": "@jupyter-widgets/controls",
      "model_module_version": "1.5.0",
      "model_name": "HTMLModel",
      "state": {
       "layout": "IPY_MODEL_afd8fb2be8684fa786a31915198d77a6",
       "style": "IPY_MODEL_e1aa99dc606e47c3814aba5a23d60066",
       "value": "<table border=\"1\" class=\"dataframe table table-striped table-hover table-condensed table-responsive\">\n  <thead>\n    <tr style=\"text-align: right;\">\n      <th></th>\n      <th>fhpf1</th>\n    </tr>\n  </thead>\n  <tbody>\n    <tr>\n      <th>met</th>\n      <td>58172.0</td>\n    </tr>\n    <tr>\n      <th>wave</th>\n      <td>0.0</td>\n    </tr>\n    <tr>\n      <th>type</th>\n      <td>fixed</td>\n    </tr>\n    <tr>\n      <th>name</th>\n      <td>FHP - Fred Howard Park, FL</td>\n    </tr>\n    <tr>\n      <th>pgm</th>\n      <td>IOOS Partners</td>\n    </tr>\n  </tbody>\n</table>"
      }
     },
     "46833bdaee6a404394508a36c872e88a": {
      "model_module": "@jupyter-widgets/base",
      "model_module_version": "1.2.0",
      "model_name": "LayoutModel",
      "state": {}
     },
     "4744d137d2ba4914ae7f0bba92c2ee32": {
      "model_module": "@jupyter-widgets/base",
      "model_module_version": "1.2.0",
      "model_name": "LayoutModel",
      "state": {}
     },
     "477378053de843d3a8dc7e544bcde673": {
      "model_module": "jupyter-leaflet",
      "model_module_version": "^0.17.0",
      "model_name": "LeafletAwesomeIconModel",
      "state": {
       "_model_module_version": "^0.17.0",
       "_view_module_version": "^0.17.0",
       "icon_color": "white",
       "marker_color": "green",
       "name": "life-ring"
      }
     },
     "47a4a2ce245348818262d1eda4f9364d": {
      "model_module": "@jupyter-widgets/base",
      "model_module_version": "1.2.0",
      "model_name": "LayoutModel",
      "state": {}
     },
     "47c720e80a9a4bcdba452ef4d978f0e1": {
      "model_module": "@jupyter-widgets/base",
      "model_module_version": "1.2.0",
      "model_name": "LayoutModel",
      "state": {}
     },
     "47cf76cc3d5b411b8b6ac65d3090541e": {
      "model_module": "jupyter-leaflet",
      "model_module_version": "^0.17.0",
      "model_name": "LeafletMarkerModel",
      "state": {
       "_model_module_version": "^0.17.0",
       "_view_module_version": "^0.17.0",
       "draggable": false,
       "icon": "IPY_MODEL_649f75c344cc4ec68afdc3348a870c34",
       "location": [
        13.354,
        144.788
       ],
       "options": [
        "alt",
        "draggable",
        "keyboard",
        "rise_offset",
        "rise_on_hover",
        "rotation_angle",
        "rotation_origin",
        "title",
        "z_index_offset"
       ],
       "popup": "IPY_MODEL_eb31aff0fcd2449095c99d6b55ed8b38"
      }
     },
     "47d01f81dd2d40248673f5f82cdca9c8": {
      "model_module": "@jupyter-widgets/controls",
      "model_module_version": "1.5.0",
      "model_name": "HTMLModel",
      "state": {
       "layout": "IPY_MODEL_e66f6a009c854797b8c530a30ac2ccf1",
       "style": "IPY_MODEL_eec4f33b83904675abdab49acfcfc06d",
       "value": "<table border=\"1\" class=\"dataframe table table-striped table-hover table-condensed table-responsive\">\n  <thead>\n    <tr style=\"text-align: right;\">\n      <th></th>\n      <th>44033</th>\n    </tr>\n  </thead>\n  <tbody>\n    <tr>\n      <th>met</th>\n      <td>5834.0</td>\n    </tr>\n    <tr>\n      <th>wave</th>\n      <td>5792.0</td>\n    </tr>\n    <tr>\n      <th>type</th>\n      <td>buoy</td>\n    </tr>\n    <tr>\n      <th>name</th>\n      <td>Buoy F01 - Penobscot Bay</td>\n    </tr>\n    <tr>\n      <th>pgm</th>\n      <td>IOOS Partners</td>\n    </tr>\n  </tbody>\n</table>"
      }
     },
     "47d55be7bf7f4f7d97c1c81f35b408c2": {
      "model_module": "jupyter-leaflet",
      "model_module_version": "^0.17.0",
      "model_name": "LeafletMarkerModel",
      "state": {
       "_model_module_version": "^0.17.0",
       "_view_module_version": "^0.17.0",
       "draggable": false,
       "icon": "IPY_MODEL_80104706e43c4c4eb304f8b948e34aba",
       "location": [
        29.726,
        -95.266
       ],
       "options": [
        "alt",
        "draggable",
        "keyboard",
        "rise_offset",
        "rise_on_hover",
        "rotation_angle",
        "rotation_origin",
        "title",
        "z_index_offset"
       ],
       "popup": "IPY_MODEL_0b3b9431e1db4eae9d9e5d7298f40a5b"
      }
     },
     "481ccb2dbe16400fbadc053008c87ca1": {
      "model_module": "@jupyter-widgets/controls",
      "model_module_version": "1.5.0",
      "model_name": "DescriptionStyleModel",
      "state": {
       "description_width": ""
      }
     },
     "481ef98dbb5c454fbed73d2da014b391": {
      "model_module": "@jupyter-widgets/controls",
      "model_module_version": "1.5.0",
      "model_name": "DescriptionStyleModel",
      "state": {
       "description_width": ""
      }
     },
     "484a9251b97c44f5871ab13906f89431": {
      "model_module": "@jupyter-widgets/controls",
      "model_module_version": "1.5.0",
      "model_name": "DescriptionStyleModel",
      "state": {
       "description_width": ""
      }
     },
     "4853a70bb4b742aeba0909413078975b": {
      "model_module": "@jupyter-widgets/controls",
      "model_module_version": "1.5.0",
      "model_name": "DescriptionStyleModel",
      "state": {
       "description_width": ""
      }
     },
     "486b7ec5368f488284043e436d574bda": {
      "model_module": "jupyter-leaflet",
      "model_module_version": "^0.17.0",
      "model_name": "LeafletMarkerModel",
      "state": {
       "_model_module_version": "^0.17.0",
       "_view_module_version": "^0.17.0",
       "draggable": false,
       "icon": "IPY_MODEL_61c753eb49494cf08496fbae967614e8",
       "location": [
        59.927,
        -141.359
       ],
       "options": [
        "alt",
        "draggable",
        "keyboard",
        "rise_offset",
        "rise_on_hover",
        "rotation_angle",
        "rotation_origin",
        "title",
        "z_index_offset"
       ],
       "popup": "IPY_MODEL_355c8015558b4068a521db76a4a4ffd9"
      }
     },
     "494b89fdc915462b9b9084af45c89fc0": {
      "model_module": "@jupyter-widgets/base",
      "model_module_version": "1.2.0",
      "model_name": "LayoutModel",
      "state": {}
     },
     "494c6e6e884e47c39c6f393977c9640f": {
      "model_module": "@jupyter-widgets/base",
      "model_module_version": "1.2.0",
      "model_name": "LayoutModel",
      "state": {}
     },
     "49a70140eca348cca7c005a9d7116d70": {
      "model_module": "@jupyter-widgets/controls",
      "model_module_version": "1.5.0",
      "model_name": "HTMLModel",
      "state": {
       "layout": "IPY_MODEL_6c0beadc6bdc48c3897b639e34f5d1b9",
       "style": "IPY_MODEL_665ed2a8adae4a3ebd80afb4458403be",
       "value": "<table border=\"1\" class=\"dataframe table table-striped table-hover table-condensed table-responsive\">\n  <thead>\n    <tr style=\"text-align: right;\">\n      <th></th>\n      <th>45014</th>\n    </tr>\n  </thead>\n  <tbody>\n    <tr>\n      <th>met</th>\n      <td>9748.0</td>\n    </tr>\n    <tr>\n      <th>wave</th>\n      <td>9770.0</td>\n    </tr>\n    <tr>\n      <th>type</th>\n      <td>buoy</td>\n    </tr>\n    <tr>\n      <th>name</th>\n      <td>GB17 - South Green Bay, WI</td>\n    </tr>\n    <tr>\n      <th>pgm</th>\n      <td>IOOS Partners</td>\n    </tr>\n  </tbody>\n</table>"
      }
     },
     "49e1752eb8b0483d9683baba7f7d9819": {
      "model_module": "jupyter-leaflet",
      "model_module_version": "^0.15.0",
      "model_name": "LeafletMarkerModel",
      "state": {
       "_model_module_version": "^0.15.0",
       "_view_module_version": "^0.15.0",
       "draggable": false,
       "icon": "IPY_MODEL_fe6b33e84b124b3dbcdb347ae954e2ee",
       "location": [
        22.285,
        -159.574
       ],
       "options": [
        "alt",
        "draggable",
        "keyboard",
        "rise_offset",
        "rise_on_hover",
        "rotation_angle",
        "rotation_origin",
        "title",
        "z_index_offset"
       ],
       "popup": "IPY_MODEL_9ca86740febc49e395875c9a3e310819"
      }
     },
     "49faf967f14f412a90af79a030e17b40": {
      "model_module": "jupyter-leaflet",
      "model_module_version": "^0.17.0",
      "model_name": "LeafletAwesomeIconModel",
      "state": {
       "_model_module_version": "^0.17.0",
       "_view_module_version": "^0.17.0",
       "icon_color": "white",
       "marker_color": "orange",
       "name": "life-ring"
      }
     },
     "4a6bd5534720409c879c83033d7a0292": {
      "model_module": "jupyter-leaflet",
      "model_module_version": "^0.17.0",
      "model_name": "LeafletMarkerModel",
      "state": {
       "_model_module_version": "^0.17.0",
       "_view_module_version": "^0.17.0",
       "draggable": false,
       "icon": "IPY_MODEL_88cd362fdb394280a79a75adcba54680",
       "location": [
        55.099,
        -131.182
       ],
       "options": [
        "alt",
        "draggable",
        "keyboard",
        "rise_offset",
        "rise_on_hover",
        "rotation_angle",
        "rotation_origin",
        "title",
        "z_index_offset"
       ],
       "popup": "IPY_MODEL_026310d64b43405ea1c65c869495153e"
      }
     },
     "4af5663ccd994487a49b9e0041f7b09e": {
      "model_module": "jupyter-leaflet",
      "model_module_version": "^0.17.0",
      "model_name": "LeafletMarkerModel",
      "state": {
       "_model_module_version": "^0.17.0",
       "_view_module_version": "^0.17.0",
       "draggable": false,
       "icon": "IPY_MODEL_c3cb03eab7784f788cffa17a2904f5e5",
       "location": [
        42.368,
        -87.795
       ],
       "options": [
        "alt",
        "draggable",
        "keyboard",
        "rise_offset",
        "rise_on_hover",
        "rotation_angle",
        "rotation_origin",
        "title",
        "z_index_offset"
       ],
       "popup": "IPY_MODEL_9b5b85e97e104adb8ede31580182d3bc"
      }
     },
     "4b87feaf0ee44fa5b018447f91320d32": {
      "model_module": "jupyter-leaflet",
      "model_module_version": "^0.17.0",
      "model_name": "LeafletAwesomeIconModel",
      "state": {
       "_model_module_version": "^0.17.0",
       "_view_module_version": "^0.17.0",
       "icon_color": "white",
       "marker_color": "orange",
       "name": "life-ring"
      }
     },
     "4bb3182e01fc4a12a36bdbdd202a95e9": {
      "model_module": "jupyter-leaflet",
      "model_module_version": "^0.17.0",
      "model_name": "LeafletMarkerModel",
      "state": {
       "_model_module_version": "^0.17.0",
       "_view_module_version": "^0.17.0",
       "draggable": false,
       "icon": "IPY_MODEL_b4e6c5f1bfce48a382638d47716b220f",
       "location": [
        27.505,
        -83.741
       ],
       "options": [
        "alt",
        "draggable",
        "keyboard",
        "rise_offset",
        "rise_on_hover",
        "rotation_angle",
        "rotation_origin",
        "title",
        "z_index_offset"
       ],
       "popup": "IPY_MODEL_869af6bbbf2440d393ed1017b6bd05dd"
      }
     },
     "4bf48fd6077343bc9f5bff8396fb772e": {
      "model_module": "@jupyter-widgets/controls",
      "model_module_version": "1.5.0",
      "model_name": "DescriptionStyleModel",
      "state": {
       "description_width": ""
      }
     },
     "4bf4c05c939a4ce68902dd3121f24ae0": {
      "model_module": "jupyter-leaflet",
      "model_module_version": "^0.17.0",
      "model_name": "LeafletZoomControlModel",
      "state": {
       "_model_module_version": "^0.17.0",
       "_view_module_version": "^0.17.0",
       "options": [
        "position",
        "zoom_in_text",
        "zoom_in_title",
        "zoom_out_text",
        "zoom_out_title"
       ]
      }
     },
     "4c1043bfb1c248a59f3799e08d0bcbe6": {
      "model_module": "@jupyter-widgets/controls",
      "model_module_version": "1.5.0",
      "model_name": "DescriptionStyleModel",
      "state": {
       "description_width": ""
      }
     },
     "4c2f6452a5604dce9f7b6a1f8b9992ae": {
      "model_module": "@jupyter-widgets/base",
      "model_module_version": "1.2.0",
      "model_name": "LayoutModel",
      "state": {}
     },
     "4c7a7bdd727c459b86fa5ccc52fa6710": {
      "model_module": "@jupyter-widgets/controls",
      "model_module_version": "1.5.0",
      "model_name": "HTMLModel",
      "state": {
       "layout": "IPY_MODEL_25d6b6ab9a564fd7b51396ecb1e50acf",
       "style": "IPY_MODEL_d96ab99c572e41e292ba4b10c7769e89",
       "value": "<table border=\"1\" class=\"dataframe table table-striped table-hover table-condensed table-responsive\">\n  <thead>\n    <tr style=\"text-align: right;\">\n      <th></th>\n      <th>41038</th>\n    </tr>\n  </thead>\n  <tbody>\n    <tr>\n      <th>met</th>\n      <td>5858.0</td>\n    </tr>\n    <tr>\n      <th>wave</th>\n      <td>0.0</td>\n    </tr>\n    <tr>\n      <th>type</th>\n      <td>buoy</td>\n    </tr>\n    <tr>\n      <th>name</th>\n      <td>Wrightsville Beach Nearshore, NC (ILM2)</td>\n    </tr>\n    <tr>\n      <th>pgm</th>\n      <td>IOOS Partners</td>\n    </tr>\n  </tbody>\n</table>"
      }
     },
     "4c97807a870e4cab8f657867d11624ec": {
      "model_module": "@jupyter-widgets/controls",
      "model_module_version": "1.5.0",
      "model_name": "DescriptionStyleModel",
      "state": {
       "description_width": ""
      }
     },
     "4cc512d3d41a4e33a01b1399c0611a20": {
      "model_module": "jupyter-leaflet",
      "model_module_version": "^0.17.0",
      "model_name": "LeafletAwesomeIconModel",
      "state": {
       "_model_module_version": "^0.17.0",
       "_view_module_version": "^0.17.0",
       "icon_color": "white",
       "marker_color": "red",
       "name": "life-ring"
      }
     },
     "4d6469bec3ab44ed8c70ae6cdf57ea60": {
      "model_module": "@jupyter-widgets/controls",
      "model_module_version": "1.5.0",
      "model_name": "DescriptionStyleModel",
      "state": {
       "description_width": ""
      }
     },
     "4d7ba79ffb6545328d5f0bcc937e2f23": {
      "model_module": "jupyter-leaflet",
      "model_module_version": "^0.15.0",
      "model_name": "LeafletAwesomeIconModel",
      "state": {
       "_model_module_version": "^0.15.0",
       "_view_module_version": "^0.15.0",
       "icon_color": "white",
       "marker_color": "orange",
       "name": "life-ring"
      }
     },
     "4d8fc5198b244c36b7ff5d3db7e425af": {
      "model_module": "jupyter-leaflet",
      "model_module_version": "^0.17.0",
      "model_name": "LeafletMarkerModel",
      "state": {
       "_model_module_version": "^0.17.0",
       "_view_module_version": "^0.17.0",
       "draggable": false,
       "icon": "IPY_MODEL_c9fd915bc256467fa0a4c14333e4d464",
       "location": [
        58.198,
        -134.257
       ],
       "options": [
        "alt",
        "draggable",
        "keyboard",
        "rise_offset",
        "rise_on_hover",
        "rotation_angle",
        "rotation_origin",
        "title",
        "z_index_offset"
       ],
       "popup": "IPY_MODEL_f8ff3c1f7edf4c4eb7d15b9dbbbafc4d"
      }
     },
     "4d955bd3432949349e60601422c0ae47": {
      "model_module": "@jupyter-widgets/base",
      "model_module_version": "1.2.0",
      "model_name": "LayoutModel",
      "state": {}
     },
     "4db0d56bad37417cbd2155970583c41b": {
      "model_module": "jupyter-leaflet",
      "model_module_version": "^0.17.0",
      "model_name": "LeafletMarkerModel",
      "state": {
       "_model_module_version": "^0.17.0",
       "_view_module_version": "^0.17.0",
       "draggable": false,
       "icon": "IPY_MODEL_92b9f137fb154d8296180cd0720e4b32",
       "location": [
        34.207,
        -76.949
       ],
       "options": [
        "alt",
        "draggable",
        "keyboard",
        "rise_offset",
        "rise_on_hover",
        "rotation_angle",
        "rotation_origin",
        "title",
        "z_index_offset"
       ],
       "popup": "IPY_MODEL_82e5c723b34c45658c0b304ebedfe54a"
      }
     },
     "4db961fd28c445248cb85834ed11270e": {
      "model_module": "@jupyter-widgets/controls",
      "model_module_version": "1.5.0",
      "model_name": "HTMLModel",
      "state": {
       "layout": "IPY_MODEL_47c720e80a9a4bcdba452ef4d978f0e1",
       "style": "IPY_MODEL_739d1f97cdc9421a9ae1a37ef5b719c4",
       "value": "<table border=\"1\" class=\"dataframe table table-striped table-hover table-condensed table-responsive\">\n  <thead>\n    <tr style=\"text-align: right;\">\n      <th></th>\n      <th>mbla1</th>\n    </tr>\n  </thead>\n  <tbody>\n    <tr>\n      <th>met</th>\n      <td>8342.0</td>\n    </tr>\n    <tr>\n      <th>wave</th>\n      <td>0.0</td>\n    </tr>\n    <tr>\n      <th>type</th>\n      <td>fixed</td>\n    </tr>\n    <tr>\n      <th>name</th>\n      <td>Middle Bay Lighthouse, AL</td>\n    </tr>\n    <tr>\n      <th>pgm</th>\n      <td>IOOS Partners</td>\n    </tr>\n  </tbody>\n</table>"
      }
     },
     "4e6946f7025d4b22ae6e90ff8cf098d3": {
      "model_module": "jupyter-leaflet",
      "model_module_version": "^0.17.0",
      "model_name": "LeafletAwesomeIconModel",
      "state": {
       "_model_module_version": "^0.17.0",
       "_view_module_version": "^0.17.0",
       "icon_color": "white",
       "marker_color": "red",
       "name": "life-ring"
      }
     },
     "4e6cd7b97e1d4df58d8181efd5dcdd0f": {
      "model_module": "@jupyter-widgets/controls",
      "model_module_version": "1.5.0",
      "model_name": "HTMLModel",
      "state": {
       "layout": "IPY_MODEL_90c14448583341e491892d99ee94f036",
       "style": "IPY_MODEL_a4262c63dafb49a4845094403b01671e",
       "value": "<table border=\"1\" class=\"dataframe table table-striped table-hover table-condensed table-responsive\">\n  <thead>\n    <tr style=\"text-align: right;\">\n      <th></th>\n      <th>slxa2</th>\n    </tr>\n  </thead>\n  <tbody>\n    <tr>\n      <th>met</th>\n      <td>34238.0</td>\n    </tr>\n    <tr>\n      <th>wave</th>\n      <td>0.0</td>\n    </tr>\n    <tr>\n      <th>type</th>\n      <td>fixed</td>\n    </tr>\n    <tr>\n      <th>name</th>\n      <td>Salmon Landing, AK</td>\n    </tr>\n    <tr>\n      <th>pgm</th>\n      <td>IOOS Partners</td>\n    </tr>\n  </tbody>\n</table>"
      }
     },
     "4e7ded05b73543c291337c279b472c7b": {
      "model_module": "@jupyter-widgets/controls",
      "model_module_version": "1.5.0",
      "model_name": "DescriptionStyleModel",
      "state": {
       "description_width": ""
      }
     },
     "4e8bd8004b654bc1a3ff476e01932de5": {
      "model_module": "jupyter-leaflet",
      "model_module_version": "^0.17.0",
      "model_name": "LeafletMarkerModel",
      "state": {
       "_model_module_version": "^0.17.0",
       "_view_module_version": "^0.17.0",
       "draggable": false,
       "icon": "IPY_MODEL_be5f27e0081a4da1a526d9a49e76f356",
       "location": [
        59.602,
        -151.417
       ],
       "options": [
        "alt",
        "draggable",
        "keyboard",
        "rise_offset",
        "rise_on_hover",
        "rotation_angle",
        "rotation_origin",
        "title",
        "z_index_offset"
       ],
       "popup": "IPY_MODEL_65c78d7587a24874b50a18716519c226"
      }
     },
     "4ea9aef1d4c34c55acdec62a98e13e27": {
      "model_module": "jupyter-leaflet",
      "model_module_version": "^0.17.0",
      "model_name": "LeafletMarkerModel",
      "state": {
       "_model_module_version": "^0.17.0",
       "_view_module_version": "^0.17.0",
       "draggable": false,
       "icon": "IPY_MODEL_13f84f6d60ac426dbf639f48ad7f4ee0",
       "location": [
        28.64,
        -96.609
       ],
       "options": [
        "alt",
        "draggable",
        "keyboard",
        "rise_offset",
        "rise_on_hover",
        "rotation_angle",
        "rotation_origin",
        "title",
        "z_index_offset"
       ],
       "popup": "IPY_MODEL_612b6f58e92a4d9ca3f72fa0ec935f05"
      }
     },
     "4eb6a8f5ecd340d691fd6791bfae6a5d": {
      "model_module": "@jupyter-widgets/controls",
      "model_module_version": "1.5.0",
      "model_name": "DescriptionStyleModel",
      "state": {
       "description_width": ""
      }
     },
     "4ed422343af54c86ba9669c36536fa0c": {
      "model_module": "@jupyter-widgets/controls",
      "model_module_version": "1.5.0",
      "model_name": "HTMLModel",
      "state": {
       "layout": "IPY_MODEL_e91c38e0f48f4b6fb9c9ce2049eb8ed6",
       "style": "IPY_MODEL_8e3323d121474ec8819576476347990f",
       "value": "<table border=\"1\" class=\"dataframe table table-striped table-hover table-condensed table-responsive\">\n  <thead>\n    <tr style=\"text-align: right;\">\n      <th></th>\n      <th>tkea2</th>\n    </tr>\n  </thead>\n  <tbody>\n    <tr>\n      <th>met</th>\n      <td>34168.0</td>\n    </tr>\n    <tr>\n      <th>wave</th>\n      <td>0.0</td>\n    </tr>\n    <tr>\n      <th>type</th>\n      <td>fixed</td>\n    </tr>\n    <tr>\n      <th>name</th>\n      <td>Tenakee Springs, AK</td>\n    </tr>\n    <tr>\n      <th>pgm</th>\n      <td>IOOS Partners</td>\n    </tr>\n  </tbody>\n</table>"
      }
     },
     "4ed97c12055a4e3c9de8323946362be0": {
      "model_module": "jupyter-leaflet",
      "model_module_version": "^0.17.0",
      "model_name": "LeafletAwesomeIconModel",
      "state": {
       "_model_module_version": "^0.17.0",
       "_view_module_version": "^0.17.0",
       "icon_color": "white",
       "marker_color": "red",
       "name": "life-ring"
      }
     },
     "4f1ab381ddb54b94b196a94a8d5f7d48": {
      "model_module": "jupyter-leaflet",
      "model_module_version": "^0.17.0",
      "model_name": "LeafletMarkerModel",
      "state": {
       "_model_module_version": "^0.17.0",
       "_view_module_version": "^0.17.0",
       "draggable": false,
       "icon": "IPY_MODEL_e6fa0597448c46928feefbe7ef0da988",
       "location": [
        32.803,
        -79.624
       ],
       "options": [
        "alt",
        "draggable",
        "keyboard",
        "rise_offset",
        "rise_on_hover",
        "rotation_angle",
        "rotation_origin",
        "title",
        "z_index_offset"
       ],
       "popup": "IPY_MODEL_0f1145d398014aba90e2b9e22a272a64"
      }
     },
     "4f4e729680a446e8bd04034aea2a5ff3": {
      "model_module": "jupyter-leaflet",
      "model_module_version": "^0.17.0",
      "model_name": "LeafletAwesomeIconModel",
      "state": {
       "_model_module_version": "^0.17.0",
       "_view_module_version": "^0.17.0",
       "icon_color": "white",
       "marker_color": "red",
       "name": "life-ring"
      }
     },
     "4f8a7ee200ab42e68b8993b7c3fecce6": {
      "model_module": "@jupyter-widgets/base",
      "model_module_version": "1.2.0",
      "model_name": "LayoutModel",
      "state": {}
     },
     "4f8d1c359ada433f92dd5fac50f2ba02": {
      "model_module": "@jupyter-widgets/base",
      "model_module_version": "1.2.0",
      "model_name": "LayoutModel",
      "state": {}
     },
     "4f8f3462f3f649c4b7183a31276796d3": {
      "model_module": "jupyter-leaflet",
      "model_module_version": "^0.15.0",
      "model_name": "LeafletAwesomeIconModel",
      "state": {
       "_model_module_version": "^0.15.0",
       "_view_module_version": "^0.15.0",
       "icon_color": "white",
       "marker_color": "green",
       "name": "life-ring"
      }
     },
     "4f9893eab77a48338eb351b90f74c344": {
      "model_module": "jupyter-leaflet",
      "model_module_version": "^0.15.0",
      "model_name": "LeafletAwesomeIconModel",
      "state": {
       "_model_module_version": "^0.15.0",
       "_view_module_version": "^0.15.0",
       "icon_color": "white",
       "marker_color": "green",
       "name": "life-ring"
      }
     },
     "4fcce4d9aaac41d6b2a915115d906ea0": {
      "model_module": "@jupyter-widgets/controls",
      "model_module_version": "1.5.0",
      "model_name": "HTMLModel",
      "state": {
       "layout": "IPY_MODEL_93291b53efef494882a74ef8d694fe64",
       "style": "IPY_MODEL_a1ce22f484eb4605a4a4284079b31ec4",
       "value": "<table border=\"1\" class=\"dataframe table table-striped table-hover table-condensed table-responsive\">\n  <thead>\n    <tr style=\"text-align: right;\">\n      <th></th>\n      <th>44022</th>\n    </tr>\n  </thead>\n  <tbody>\n    <tr>\n      <th>met</th>\n      <td>7790.0</td>\n    </tr>\n    <tr>\n      <th>wave</th>\n      <td>0.0</td>\n    </tr>\n    <tr>\n      <th>type</th>\n      <td>buoy</td>\n    </tr>\n    <tr>\n      <th>name</th>\n      <td>Execution Rocks</td>\n    </tr>\n    <tr>\n      <th>pgm</th>\n      <td>IOOS Partners</td>\n    </tr>\n  </tbody>\n</table>"
      }
     },
     "50694670fc5e4024a7b74e4d33adffd4": {
      "model_module": "jupyter-leaflet",
      "model_module_version": "^0.15.0",
      "model_name": "LeafletAwesomeIconModel",
      "state": {
       "_model_module_version": "^0.15.0",
       "_view_module_version": "^0.15.0",
       "icon_color": "white",
       "marker_color": "orange",
       "name": "life-ring"
      }
     },
     "50ed8f06b58546cdbac5a3612474a962": {
      "model_module": "jupyter-leaflet",
      "model_module_version": "^0.17.0",
      "model_name": "LeafletMarkerModel",
      "state": {
       "_model_module_version": "^0.17.0",
       "_view_module_version": "^0.17.0",
       "draggable": false,
       "icon": "IPY_MODEL_f05dcae3979840d0873685abbfc63ee6",
       "location": [
        36.751,
        -122.029
       ],
       "options": [
        "alt",
        "draggable",
        "keyboard",
        "rise_offset",
        "rise_on_hover",
        "rotation_angle",
        "rotation_origin",
        "title",
        "z_index_offset"
       ],
       "popup": "IPY_MODEL_aa3327ff4d364a1a91056c3d99b4b8b9"
      }
     },
     "510df4eed3eb474bbef90aaf9bf904af": {
      "model_module": "jupyter-leaflet",
      "model_module_version": "^0.17.0",
      "model_name": "LeafletAwesomeIconModel",
      "state": {
       "_model_module_version": "^0.17.0",
       "_view_module_version": "^0.17.0",
       "icon_color": "white",
       "marker_color": "green",
       "name": "life-ring"
      }
     },
     "513aa7bad789414ca86c5290ac20b38b": {
      "model_module": "@jupyter-widgets/controls",
      "model_module_version": "1.5.0",
      "model_name": "DescriptionStyleModel",
      "state": {
       "description_width": ""
      }
     },
     "51aaa5821223436c9cb816dfac60c093": {
      "model_module": "@jupyter-widgets/controls",
      "model_module_version": "1.5.0",
      "model_name": "DescriptionStyleModel",
      "state": {
       "description_width": ""
      }
     },
     "51afe6552d5d4e0abe218a86a309f5f2": {
      "model_module": "@jupyter-widgets/controls",
      "model_module_version": "1.5.0",
      "model_name": "DescriptionStyleModel",
      "state": {
       "description_width": ""
      }
     },
     "51d25f23ba4244bf979e87fe75b92c96": {
      "model_module": "jupyter-leaflet",
      "model_module_version": "^0.15.0",
      "model_name": "LeafletTileLayerModel",
      "state": {
       "_model_module_version": "^0.15.0",
       "_view_module_version": "^0.15.0",
       "attribution": "&copy; <a href=\"https://www.openstreetmap.org/copyright\">OpenStreetMap</a> contributors",
       "base": true,
       "max_native_zoom": 18,
       "max_zoom": 19,
       "min_native_zoom": 0,
       "min_zoom": 1,
       "name": "OpenStreetMap.Mapnik",
       "options": [
        "attribution",
        "detect_retina",
        "max_native_zoom",
        "max_zoom",
        "min_native_zoom",
        "min_zoom",
        "no_wrap",
        "tile_size",
        "tms"
       ],
       "url": "https://a.tile.openstreetmap.org/{z}/{x}/{y}.png"
      }
     },
     "520d47145fc3452ca81dd1cc9d360cf3": {
      "model_module": "jupyter-leaflet",
      "model_module_version": "^0.17.0",
      "model_name": "LeafletAwesomeIconModel",
      "state": {
       "_model_module_version": "^0.17.0",
       "_view_module_version": "^0.17.0",
       "icon_color": "white",
       "marker_color": "red",
       "name": "life-ring"
      }
     },
     "5218b575f16e444a8f9d9408fd3602e0": {
      "model_module": "@jupyter-widgets/base",
      "model_module_version": "1.2.0",
      "model_name": "LayoutModel",
      "state": {}
     },
     "52e7065177af4f2aa3791807ad23e8f2": {
      "model_module": "jupyter-leaflet",
      "model_module_version": "^0.17.0",
      "model_name": "LeafletAwesomeIconModel",
      "state": {
       "_model_module_version": "^0.17.0",
       "_view_module_version": "^0.17.0",
       "icon_color": "white",
       "marker_color": "green",
       "name": "life-ring"
      }
     },
     "52ef5634154f4019804c30be546bd59e": {
      "model_module": "jupyter-leaflet",
      "model_module_version": "^0.17.0",
      "model_name": "LeafletAwesomeIconModel",
      "state": {
       "_model_module_version": "^0.17.0",
       "_view_module_version": "^0.17.0",
       "icon_color": "white",
       "marker_color": "red",
       "name": "life-ring"
      }
     },
     "53034c506f2f47faa7d52a4a2c208a66": {
      "model_module": "@jupyter-widgets/controls",
      "model_module_version": "1.5.0",
      "model_name": "HTMLModel",
      "state": {
       "layout": "IPY_MODEL_d42466cd4f2d4e919269e3d80613f40b",
       "style": "IPY_MODEL_259c449b3ff84222bb9af223875fd28e",
       "value": "<table border=\"1\" class=\"dataframe table table-striped table-hover table-condensed table-responsive\">\n  <thead>\n    <tr style=\"text-align: right;\">\n      <th></th>\n      <th>twco1</th>\n    </tr>\n  </thead>\n  <tbody>\n    <tr>\n      <th>met</th>\n      <td>32848.0</td>\n    </tr>\n    <tr>\n      <th>wave</th>\n      <td>0.0</td>\n    </tr>\n    <tr>\n      <th>type</th>\n      <td>fixed</td>\n    </tr>\n    <tr>\n      <th>name</th>\n      <td>Toledo Crib, OH</td>\n    </tr>\n    <tr>\n      <th>pgm</th>\n      <td>IOOS Partners</td>\n    </tr>\n  </tbody>\n</table>"
      }
     },
     "534a3dccb18a439aac59e694ba1f3c6f": {
      "model_module": "@jupyter-widgets/controls",
      "model_module_version": "1.5.0",
      "model_name": "DescriptionStyleModel",
      "state": {
       "description_width": ""
      }
     },
     "5381b50cb0224b4c9f63b6bc5d37aa51": {
      "model_module": "@jupyter-widgets/controls",
      "model_module_version": "1.5.0",
      "model_name": "DescriptionStyleModel",
      "state": {
       "description_width": ""
      }
     },
     "53b24d9148a94c3681989947c3406183": {
      "model_module": "jupyter-leaflet",
      "model_module_version": "^0.15.0",
      "model_name": "LeafletMarkerModel",
      "state": {
       "_model_module_version": "^0.15.0",
       "_view_module_version": "^0.15.0",
       "draggable": false,
       "icon": "IPY_MODEL_929ccbbe087d4d9e9486ea068ff04263",
       "location": [
        35.17,
        -120.741
       ],
       "options": [
        "alt",
        "draggable",
        "keyboard",
        "rise_offset",
        "rise_on_hover",
        "rotation_angle",
        "rotation_origin",
        "title",
        "z_index_offset"
       ],
       "popup": "IPY_MODEL_07cb49013bc745ff8fc46c3db87b3df2"
      }
     },
     "53d876cb76f6486284f3edc50ed23690": {
      "model_module": "jupyter-leaflet",
      "model_module_version": "^0.17.0",
      "model_name": "LeafletMarkerModel",
      "state": {
       "_model_module_version": "^0.17.0",
       "_view_module_version": "^0.17.0",
       "draggable": false,
       "icon": "IPY_MODEL_c88be952f793495f8b1eb76bb5693f4e",
       "location": [
        35.17,
        -120.741
       ],
       "options": [
        "alt",
        "draggable",
        "keyboard",
        "rise_offset",
        "rise_on_hover",
        "rotation_angle",
        "rotation_origin",
        "title",
        "z_index_offset"
       ],
       "popup": "IPY_MODEL_9b1f1c9b49fc42479e4472eccf68b854"
      }
     },
     "53ea4f03c10d4748b43148d48145a878": {
      "model_module": "jupyter-leaflet",
      "model_module_version": "^0.15.0",
      "model_name": "LeafletMarkerModel",
      "state": {
       "_model_module_version": "^0.15.0",
       "_view_module_version": "^0.15.0",
       "draggable": false,
       "icon": "IPY_MODEL_aaadd420eec24079ab9550794e68685b",
       "location": [
        26.01,
        -83.086
       ],
       "options": [
        "alt",
        "draggable",
        "keyboard",
        "rise_offset",
        "rise_on_hover",
        "rotation_angle",
        "rotation_origin",
        "title",
        "z_index_offset"
       ],
       "popup": "IPY_MODEL_556cf6d9910b45c1b15215521c4ad7a5"
      }
     },
     "545c9f65161447a6b52b9a60ff49c635": {
      "model_module": "@jupyter-widgets/base",
      "model_module_version": "1.2.0",
      "model_name": "LayoutModel",
      "state": {}
     },
     "54762ce43bee4c7c9d2c3d5eeb93b349": {
      "model_module": "@jupyter-widgets/controls",
      "model_module_version": "1.5.0",
      "model_name": "DescriptionStyleModel",
      "state": {
       "description_width": ""
      }
     },
     "54a4e338efd54028b1dfcfdf055aff08": {
      "model_module": "@jupyter-widgets/base",
      "model_module_version": "1.2.0",
      "model_name": "LayoutModel",
      "state": {}
     },
     "553bca8113964b9faa4b80e53c7c1cc7": {
      "model_module": "@jupyter-widgets/controls",
      "model_module_version": "1.5.0",
      "model_name": "HTMLModel",
      "state": {
       "layout": "IPY_MODEL_04422edef8ad49b59ff9c7ea6549d1fa",
       "style": "IPY_MODEL_54762ce43bee4c7c9d2c3d5eeb93b349",
       "value": "<table border=\"1\" class=\"dataframe table table-striped table-hover table-condensed table-responsive\">\n  <thead>\n    <tr style=\"text-align: right;\">\n      <th></th>\n      <th>41033</th>\n    </tr>\n  </thead>\n  <tbody>\n    <tr>\n      <th>met</th>\n      <td>6216.0</td>\n    </tr>\n    <tr>\n      <th>wave</th>\n      <td>0.0</td>\n    </tr>\n    <tr>\n      <th>type</th>\n      <td>buoy</td>\n    </tr>\n    <tr>\n      <th>name</th>\n      <td>Fripp Nearshore, SC (FRP2)</td>\n    </tr>\n    <tr>\n      <th>pgm</th>\n      <td>IOOS Partners</td>\n    </tr>\n  </tbody>\n</table>"
      }
     },
     "556cf6d9910b45c1b15215521c4ad7a5": {
      "model_module": "@jupyter-widgets/controls",
      "model_module_version": "1.5.0",
      "model_name": "HTMLModel",
      "state": {
       "layout": "IPY_MODEL_0c72fdc8c410420da08ccb641e3d4031",
       "style": "IPY_MODEL_15700266102c4ea78c80a317c6a96766",
       "value": "<table border=\"1\" class=\"dataframe table table-striped table-hover table-condensed table-responsive\">\n  <thead>\n    <tr style=\"text-align: right;\">\n      <th></th>\n      <th>42023</th>\n    </tr>\n  </thead>\n  <tbody>\n    <tr>\n      <th>met</th>\n      <td>11744.0</td>\n    </tr>\n    <tr>\n      <th>wave</th>\n      <td>0.0</td>\n    </tr>\n    <tr>\n      <th>type</th>\n      <td>buoy</td>\n    </tr>\n    <tr>\n      <th>name</th>\n      <td>C13 - WFS South Buoy, 50m Isobath</td>\n    </tr>\n    <tr>\n      <th>pgm</th>\n      <td>IOOS Partners</td>\n    </tr>\n  </tbody>\n</table>"
      }
     },
     "560be83c5d0a449c944ea5c13cf3a823": {
      "model_module": "@jupyter-widgets/controls",
      "model_module_version": "1.5.0",
      "model_name": "DescriptionStyleModel",
      "state": {
       "description_width": ""
      }
     },
     "564204ce304944be82d1f71c0ebcca8b": {
      "model_module": "@jupyter-widgets/controls",
      "model_module_version": "1.5.0",
      "model_name": "HTMLModel",
      "state": {
       "layout": "IPY_MODEL_b3b9e3ec5c564cff8006fde3b655ea43",
       "style": "IPY_MODEL_51aaa5821223436c9cb816dfac60c093",
       "value": "<table border=\"1\" class=\"dataframe table table-striped table-hover table-condensed table-responsive\">\n  <thead>\n    <tr style=\"text-align: right;\">\n      <th></th>\n      <th>41110</th>\n    </tr>\n  </thead>\n  <tbody>\n    <tr>\n      <th>met</th>\n      <td>0.0</td>\n    </tr>\n    <tr>\n      <th>wave</th>\n      <td>11730.0</td>\n    </tr>\n    <tr>\n      <th>type</th>\n      <td>buoy</td>\n    </tr>\n    <tr>\n      <th>name</th>\n      <td>Masonboro Inlet, ILM2, NC (150)</td>\n    </tr>\n    <tr>\n      <th>pgm</th>\n      <td>IOOS Partners</td>\n    </tr>\n  </tbody>\n</table>"
      }
     },
     "5644343070b14fcb9df0e56e2fb117d7": {
      "model_module": "@jupyter-widgets/base",
      "model_module_version": "1.2.0",
      "model_name": "LayoutModel",
      "state": {}
     },
     "56649fd7a66e4d0b8b0addc04f9147a5": {
      "model_module": "jupyter-leaflet",
      "model_module_version": "^0.15.0",
      "model_name": "LeafletAwesomeIconModel",
      "state": {
       "_model_module_version": "^0.15.0",
       "_view_module_version": "^0.15.0",
       "icon_color": "white",
       "marker_color": "red",
       "name": "life-ring"
      }
     },
     "567fd2293a6c4997a0a19f561279be1e": {
      "model_module": "jupyter-leaflet",
      "model_module_version": "^0.17.0",
      "model_name": "LeafletAwesomeIconModel",
      "state": {
       "_model_module_version": "^0.17.0",
       "_view_module_version": "^0.17.0",
       "icon_color": "white",
       "marker_color": "orange",
       "name": "life-ring"
      }
     },
     "570c70071dca4acd808513d1d82471c0": {
      "model_module": "@jupyter-widgets/base",
      "model_module_version": "1.2.0",
      "model_name": "LayoutModel",
      "state": {}
     },
     "572736b3be1d4ab0bde2c263f662db82": {
      "model_module": "@jupyter-widgets/base",
      "model_module_version": "1.2.0",
      "model_name": "LayoutModel",
      "state": {}
     },
     "57784a413b4e424ea3a6f5bc67d7a918": {
      "model_module": "@jupyter-widgets/controls",
      "model_module_version": "1.5.0",
      "model_name": "HTMLModel",
      "state": {
       "layout": "IPY_MODEL_09d38d6a5efd4ffeb563454369005776",
       "style": "IPY_MODEL_914e739784074eb9865bb6b88fb70754",
       "value": "<table border=\"1\" class=\"dataframe table table-striped table-hover table-condensed table-responsive\">\n  <thead>\n    <tr style=\"text-align: right;\">\n      <th></th>\n      <th>52200</th>\n    </tr>\n  </thead>\n  <tbody>\n    <tr>\n      <th>met</th>\n      <td>0.0</td>\n    </tr>\n    <tr>\n      <th>wave</th>\n      <td>11534.0</td>\n    </tr>\n    <tr>\n      <th>type</th>\n      <td>buoy</td>\n    </tr>\n    <tr>\n      <th>name</th>\n      <td>Ipan, Guam (121)</td>\n    </tr>\n    <tr>\n      <th>pgm</th>\n      <td>IOOS Partners</td>\n    </tr>\n  </tbody>\n</table>"
      }
     },
     "577b99cd000f4870b8293ed75cafca4b": {
      "model_module": "@jupyter-widgets/controls",
      "model_module_version": "1.5.0",
      "model_name": "HTMLModel",
      "state": {
       "layout": "IPY_MODEL_27ddff12d4e9447ba4821d7b62be8607",
       "style": "IPY_MODEL_75cdc730608f407ead5e6c8a38141e9b",
       "value": "<table border=\"1\" class=\"dataframe table table-striped table-hover table-condensed table-responsive\">\n  <thead>\n    <tr style=\"text-align: right;\">\n      <th></th>\n      <th>guxa2</th>\n    </tr>\n  </thead>\n  <tbody>\n    <tr>\n      <th>met</th>\n      <td>34278.0</td>\n    </tr>\n    <tr>\n      <th>wave</th>\n      <td>0.0</td>\n    </tr>\n    <tr>\n      <th>type</th>\n      <td>fixed</td>\n    </tr>\n    <tr>\n      <th>name</th>\n      <td>Gustavus Dock, AK</td>\n    </tr>\n    <tr>\n      <th>pgm</th>\n      <td>IOOS Partners</td>\n    </tr>\n  </tbody>\n</table>"
      }
     },
     "57cce49dd8f44e5b858319069b226acc": {
      "model_module": "jupyter-leaflet",
      "model_module_version": "^0.17.0",
      "model_name": "LeafletAwesomeIconModel",
      "state": {
       "_model_module_version": "^0.17.0",
       "_view_module_version": "^0.17.0",
       "icon_color": "white",
       "marker_color": "green",
       "name": "life-ring"
      }
     },
     "58521686ab7f40128976a3cbea111407": {
      "model_module": "jupyter-leaflet",
      "model_module_version": "^0.17.0",
      "model_name": "LeafletAwesomeIconModel",
      "state": {
       "_model_module_version": "^0.17.0",
       "_view_module_version": "^0.17.0",
       "icon_color": "white",
       "marker_color": "orange",
       "name": "life-ring"
      }
     },
     "587a792395414df4a5fc044640414e19": {
      "model_module": "@jupyter-widgets/controls",
      "model_module_version": "1.5.0",
      "model_name": "DescriptionStyleModel",
      "state": {
       "description_width": ""
      }
     },
     "58f4642aaaf043eeb007169043805303": {
      "model_module": "@jupyter-widgets/base",
      "model_module_version": "1.2.0",
      "model_name": "LayoutModel",
      "state": {}
     },
     "59126a2e4da247408cc0756472147727": {
      "model_module": "@jupyter-widgets/controls",
      "model_module_version": "1.5.0",
      "model_name": "HTMLModel",
      "state": {
       "layout": "IPY_MODEL_825a365995784096a6d439e605149551",
       "style": "IPY_MODEL_0b35ea44bd214078b740214542772d44",
       "value": "<table border=\"1\" class=\"dataframe table table-striped table-hover table-condensed table-responsive\">\n  <thead>\n    <tr style=\"text-align: right;\">\n      <th></th>\n      <th>fhpf1</th>\n    </tr>\n  </thead>\n  <tbody>\n    <tr>\n      <th>met</th>\n      <td>58172.0</td>\n    </tr>\n    <tr>\n      <th>wave</th>\n      <td>0.0</td>\n    </tr>\n    <tr>\n      <th>type</th>\n      <td>fixed</td>\n    </tr>\n    <tr>\n      <th>name</th>\n      <td>FHP - Fred Howard Park, FL</td>\n    </tr>\n    <tr>\n      <th>pgm</th>\n      <td>IOOS Partners</td>\n    </tr>\n  </tbody>\n</table>"
      }
     },
     "591c03647af648f8b4e8fd2c6a40bc20": {
      "model_module": "@jupyter-widgets/controls",
      "model_module_version": "1.5.0",
      "model_name": "DescriptionStyleModel",
      "state": {
       "description_width": ""
      }
     },
     "59710d6165734c749c7825a663121b2e": {
      "model_module": "jupyter-leaflet",
      "model_module_version": "^0.17.0",
      "model_name": "LeafletAwesomeIconModel",
      "state": {
       "_model_module_version": "^0.17.0",
       "_view_module_version": "^0.17.0",
       "icon_color": "white",
       "marker_color": "red",
       "name": "life-ring"
      }
     },
     "59aa773246dc45f785aaab47f0727679": {
      "model_module": "@jupyter-widgets/controls",
      "model_module_version": "1.5.0",
      "model_name": "DescriptionStyleModel",
      "state": {
       "description_width": ""
      }
     },
     "59d49a6a58674ce4a72e6782d157f637": {
      "model_module": "jupyter-leaflet",
      "model_module_version": "^0.17.0",
      "model_name": "LeafletMarkerModel",
      "state": {
       "_model_module_version": "^0.17.0",
       "_view_module_version": "^0.17.0",
       "draggable": false,
       "icon": "IPY_MODEL_6434745a6377405a9b1b1b82f500fcce",
       "location": [
        42.8,
        -70.171
       ],
       "options": [
        "alt",
        "draggable",
        "keyboard",
        "rise_offset",
        "rise_on_hover",
        "rotation_angle",
        "rotation_origin",
        "title",
        "z_index_offset"
       ],
       "popup": "IPY_MODEL_f8c4153c822e4673a6e557ca52ecabf2"
      }
     },
     "59d7d20a30714053a563f3da54e5636a": {
      "model_module": "@jupyter-widgets/controls",
      "model_module_version": "1.5.0",
      "model_name": "DescriptionStyleModel",
      "state": {
       "description_width": ""
      }
     },
     "5a7bdec12dd34693b11ef46accb8205f": {
      "model_module": "@jupyter-widgets/controls",
      "model_module_version": "1.5.0",
      "model_name": "DescriptionStyleModel",
      "state": {
       "description_width": ""
      }
     },
     "5a8a6397a9ff4109925d48f03c208739": {
      "model_module": "@jupyter-widgets/controls",
      "model_module_version": "1.5.0",
      "model_name": "HTMLModel",
      "state": {
       "layout": "IPY_MODEL_2b6f64bc496b4eebbb24e08f30e4b535",
       "style": "IPY_MODEL_3f75f43ea1cf4e84994a1eb5811a314a",
       "value": "<table border=\"1\" class=\"dataframe table table-striped table-hover table-condensed table-responsive\">\n  <thead>\n    <tr style=\"text-align: right;\">\n      <th></th>\n      <th>41029</th>\n    </tr>\n  </thead>\n  <tbody>\n    <tr>\n      <th>met</th>\n      <td>6268.0</td>\n    </tr>\n    <tr>\n      <th>wave</th>\n      <td>0.0</td>\n    </tr>\n    <tr>\n      <th>type</th>\n      <td>buoy</td>\n    </tr>\n    <tr>\n      <th>name</th>\n      <td>Capers Nearshore, SC (CAP2)</td>\n    </tr>\n    <tr>\n      <th>pgm</th>\n      <td>IOOS Partners</td>\n    </tr>\n  </tbody>\n</table>"
      }
     },
     "5ad8ad6e6e7e40dab228dc919796bf3c": {
      "model_module": "@jupyter-widgets/controls",
      "model_module_version": "1.5.0",
      "model_name": "HTMLModel",
      "state": {
       "layout": "IPY_MODEL_46833bdaee6a404394508a36c872e88a",
       "style": "IPY_MODEL_af01eb76531e42fab5633f87ecd7adc4",
       "value": "<table border=\"1\" class=\"dataframe table table-striped table-hover table-condensed table-responsive\">\n  <thead>\n    <tr style=\"text-align: right;\">\n      <th></th>\n      <th>guxa2</th>\n    </tr>\n  </thead>\n  <tbody>\n    <tr>\n      <th>met</th>\n      <td>34278.0</td>\n    </tr>\n    <tr>\n      <th>wave</th>\n      <td>0.0</td>\n    </tr>\n    <tr>\n      <th>type</th>\n      <td>fixed</td>\n    </tr>\n    <tr>\n      <th>name</th>\n      <td>Gustavus Dock, AK</td>\n    </tr>\n    <tr>\n      <th>pgm</th>\n      <td>IOOS Partners</td>\n    </tr>\n  </tbody>\n</table>"
      }
     },
     "5afe93e0b51e4c66ab5377f5739052b2": {
      "model_module": "@jupyter-widgets/controls",
      "model_module_version": "1.5.0",
      "model_name": "HTMLModel",
      "state": {
       "layout": "IPY_MODEL_67da0f05c79740b092f97ad0c68babac",
       "style": "IPY_MODEL_4853a70bb4b742aeba0909413078975b",
       "value": "<table border=\"1\" class=\"dataframe table table-striped table-hover table-condensed table-responsive\">\n  <thead>\n    <tr style=\"text-align: right;\">\n      <th></th>\n      <th>44039</th>\n    </tr>\n  </thead>\n  <tbody>\n    <tr>\n      <th>met</th>\n      <td>2794.0</td>\n    </tr>\n    <tr>\n      <th>wave</th>\n      <td>2794.0</td>\n    </tr>\n    <tr>\n      <th>type</th>\n      <td>buoy</td>\n    </tr>\n    <tr>\n      <th>name</th>\n      <td>Central Long Island Sound</td>\n    </tr>\n    <tr>\n      <th>pgm</th>\n      <td>IOOS Partners</td>\n    </tr>\n  </tbody>\n</table>"
      }
     },
     "5b73be21baa74d4a8e6cd5f62b183c29": {
      "model_module": "@jupyter-widgets/base",
      "model_module_version": "1.2.0",
      "model_name": "LayoutModel",
      "state": {}
     },
     "5b8e875529ba463da872a3b20b4c2797": {
      "model_module": "jupyter-leaflet",
      "model_module_version": "^0.17.0",
      "model_name": "LeafletAwesomeIconModel",
      "state": {
       "_model_module_version": "^0.17.0",
       "_view_module_version": "^0.17.0",
       "icon_color": "white",
       "marker_color": "green",
       "name": "life-ring"
      }
     },
     "5b96f604f0c5428c8168c31105ae641d": {
      "model_module": "@jupyter-widgets/base",
      "model_module_version": "1.2.0",
      "model_name": "LayoutModel",
      "state": {}
     },
     "5bb587e229d04946a6aaf55b0fc90411": {
      "model_module": "jupyter-leaflet",
      "model_module_version": "^0.17.0",
      "model_name": "LeafletAwesomeIconModel",
      "state": {
       "_model_module_version": "^0.17.0",
       "_view_module_version": "^0.17.0",
       "icon_color": "white",
       "marker_color": "orange",
       "name": "life-ring"
      }
     },
     "5bd176a90ee142b7aaa3c40b8ccec3bd": {
      "model_module": "jupyter-leaflet",
      "model_module_version": "^0.17.0",
      "model_name": "LeafletMarkerModel",
      "state": {
       "_model_module_version": "^0.17.0",
       "_view_module_version": "^0.17.0",
       "draggable": false,
       "icon": "IPY_MODEL_bbb672a81f05463aa409a66706bb13f2",
       "location": [
        41.306,
        -72.077
       ],
       "options": [
        "alt",
        "draggable",
        "keyboard",
        "rise_offset",
        "rise_on_hover",
        "rotation_angle",
        "rotation_origin",
        "title",
        "z_index_offset"
       ],
       "popup": "IPY_MODEL_07df90768b6c4635976c94ffb7df45f5"
      }
     },
     "5c040f8d4d5f4f6390e64576040926ad": {
      "model_module": "@jupyter-widgets/controls",
      "model_module_version": "1.5.0",
      "model_name": "HTMLModel",
      "state": {
       "layout": "IPY_MODEL_0baaca963e004904a41828fb8b66e2c9",
       "style": "IPY_MODEL_bc4dd3cce0ee4b2189fdd517a9724d7e",
       "value": "<table border=\"1\" class=\"dataframe table table-striped table-hover table-condensed table-responsive\">\n  <thead>\n    <tr style=\"text-align: right;\">\n      <th></th>\n      <th>42085</th>\n    </tr>\n  </thead>\n  <tbody>\n    <tr>\n      <th>met</th>\n      <td>34254.0</td>\n    </tr>\n    <tr>\n      <th>wave</th>\n      <td>5832.0</td>\n    </tr>\n    <tr>\n      <th>type</th>\n      <td>buoy</td>\n    </tr>\n    <tr>\n      <th>name</th>\n      <td>Southeast of Ponce, PR</td>\n    </tr>\n    <tr>\n      <th>pgm</th>\n      <td>IOOS Partners</td>\n    </tr>\n  </tbody>\n</table>"
      }
     },
     "5c50fba97fba4c008f6a28b36becb8e5": {
      "model_module": "@jupyter-widgets/controls",
      "model_module_version": "1.5.0",
      "model_name": "DescriptionStyleModel",
      "state": {
       "description_width": ""
      }
     },
     "5c89ae71aebe4a34bd375e70792c82fa": {
      "model_module": "jupyter-leaflet",
      "model_module_version": "^0.15.0",
      "model_name": "LeafletMarkerModel",
      "state": {
       "_model_module_version": "^0.15.0",
       "_view_module_version": "^0.15.0",
       "draggable": false,
       "icon": "IPY_MODEL_115e0b8315a64e7f9254c07b60802847",
       "location": [
        28.433,
        -82.667
       ],
       "options": [
        "alt",
        "draggable",
        "keyboard",
        "rise_offset",
        "rise_on_hover",
        "rotation_angle",
        "rotation_origin",
        "title",
        "z_index_offset"
       ],
       "popup": "IPY_MODEL_b7e9f0ce537542f188fdac9812d2a039"
      }
     },
     "5cb1a0ea4d8d493f974ad925140e49bc": {
      "model_module": "jupyter-leaflet",
      "model_module_version": "^0.17.0",
      "model_name": "LeafletTileLayerModel",
      "state": {
       "_model_module_version": "^0.17.0",
       "_view_module_version": "^0.17.0",
       "attribution": "&copy; <a href=\"https://www.openstreetmap.org/copyright\">OpenStreetMap</a> contributors",
       "base": true,
       "max_zoom": 19,
       "min_zoom": 1,
       "name": "OpenStreetMap.Mapnik",
       "options": [
        "attribution",
        "bounds",
        "detect_retina",
        "max_native_zoom",
        "max_zoom",
        "min_native_zoom",
        "min_zoom",
        "no_wrap",
        "tile_size",
        "tms"
       ],
       "url": "https://a.tile.openstreetmap.org/{z}/{x}/{y}.png"
      }
     },
     "5ce40c1d26b1444a95a92f4446bfd3b1": {
      "model_module": "@jupyter-widgets/base",
      "model_module_version": "1.2.0",
      "model_name": "LayoutModel",
      "state": {}
     },
     "5ce6ef114a4f49e6ae6debcc4dfaba85": {
      "model_module": "@jupyter-widgets/controls",
      "model_module_version": "1.5.0",
      "model_name": "HTMLModel",
      "state": {
       "layout": "IPY_MODEL_39ff557949c747fc88f656cd458c55c8",
       "style": "IPY_MODEL_c6690f4fa65f4dfa9f851ecc5e757ba5",
       "value": "<table border=\"1\" class=\"dataframe table table-striped table-hover table-condensed table-responsive\">\n  <thead>\n    <tr style=\"text-align: right;\">\n      <th></th>\n      <th>42098</th>\n    </tr>\n  </thead>\n  <tbody>\n    <tr>\n      <th>met</th>\n      <td>0.0</td>\n    </tr>\n    <tr>\n      <th>wave</th>\n      <td>11480.0</td>\n    </tr>\n    <tr>\n      <th>type</th>\n      <td>buoy</td>\n    </tr>\n    <tr>\n      <th>name</th>\n      <td>Egmont Channel Entrance, FL (214)</td>\n    </tr>\n    <tr>\n      <th>pgm</th>\n      <td>IOOS Partners</td>\n    </tr>\n  </tbody>\n</table>"
      }
     },
     "5d347fd92e3749f1a0e1e53d0d094b8e": {
      "model_module": "jupyter-leaflet",
      "model_module_version": "^0.15.0",
      "model_name": "LeafletAwesomeIconModel",
      "state": {
       "_model_module_version": "^0.15.0",
       "_view_module_version": "^0.15.0",
       "icon_color": "white",
       "marker_color": "red",
       "name": "life-ring"
      }
     },
     "5d84af8da7874ea8b492ab86beca6152": {
      "model_module": "@jupyter-widgets/controls",
      "model_module_version": "1.5.0",
      "model_name": "DescriptionStyleModel",
      "state": {
       "description_width": ""
      }
     },
     "5da490b4b5e04774abf3c42a61736dab": {
      "model_module": "jupyter-leaflet",
      "model_module_version": "^0.17.0",
      "model_name": "LeafletAwesomeIconModel",
      "state": {
       "_model_module_version": "^0.17.0",
       "_view_module_version": "^0.17.0",
       "icon_color": "white",
       "marker_color": "orange",
       "name": "life-ring"
      }
     },
     "5dae40798a364b8d9e59560fedc8aee5": {
      "model_module": "@jupyter-widgets/controls",
      "model_module_version": "1.5.0",
      "model_name": "HTMLModel",
      "state": {
       "layout": "IPY_MODEL_edc74826f64f4e89918b46f70762abdd",
       "style": "IPY_MODEL_5dfcebf7a01543dfa30e27b0f1d6837c",
       "value": "<table border=\"1\" class=\"dataframe table table-striped table-hover table-condensed table-responsive\">\n  <thead>\n    <tr style=\"text-align: right;\">\n      <th></th>\n      <th>44034</th>\n    </tr>\n  </thead>\n  <tbody>\n    <tr>\n      <th>met</th>\n      <td>5794.0</td>\n    </tr>\n    <tr>\n      <th>wave</th>\n      <td>5702.0</td>\n    </tr>\n    <tr>\n      <th>type</th>\n      <td>buoy</td>\n    </tr>\n    <tr>\n      <th>name</th>\n      <td>Buoy I01 - Eastern Maine Shelf</td>\n    </tr>\n    <tr>\n      <th>pgm</th>\n      <td>IOOS Partners</td>\n    </tr>\n  </tbody>\n</table>"
      }
     },
     "5dfcebf7a01543dfa30e27b0f1d6837c": {
      "model_module": "@jupyter-widgets/controls",
      "model_module_version": "1.5.0",
      "model_name": "DescriptionStyleModel",
      "state": {
       "description_width": ""
      }
     },
     "5ed695b4fe814f088edecd70685331bf": {
      "model_module": "@jupyter-widgets/controls",
      "model_module_version": "1.5.0",
      "model_name": "DescriptionStyleModel",
      "state": {
       "description_width": ""
      }
     },
     "5ef222e41de945e19c7bf69a73bd95c3": {
      "model_module": "@jupyter-widgets/base",
      "model_module_version": "1.2.0",
      "model_name": "LayoutModel",
      "state": {}
     },
     "5f6410155bc14e258b2e10eb19accd4a": {
      "model_module": "@jupyter-widgets/controls",
      "model_module_version": "1.5.0",
      "model_name": "HTMLModel",
      "state": {
       "layout": "IPY_MODEL_fcf06edc960a44b0aa5a1ac5f40522fb",
       "style": "IPY_MODEL_6d0bad2514d64a15857c1a585b5c8c2b",
       "value": "<table border=\"1\" class=\"dataframe table table-striped table-hover table-condensed table-responsive\">\n  <thead>\n    <tr style=\"text-align: right;\">\n      <th></th>\n      <th>46246</th>\n    </tr>\n  </thead>\n  <tbody>\n    <tr>\n      <th>met</th>\n      <td>0.0</td>\n    </tr>\n    <tr>\n      <th>wave</th>\n      <td>11732.0</td>\n    </tr>\n    <tr>\n      <th>type</th>\n      <td>buoy</td>\n    </tr>\n    <tr>\n      <th>name</th>\n      <td>Ocean Station PAPA  (166)</td>\n    </tr>\n    <tr>\n      <th>pgm</th>\n      <td>IOOS Partners</td>\n    </tr>\n  </tbody>\n</table>"
      }
     },
     "5f6b94a0e06045d999a9364ef5f90d13": {
      "model_module": "@jupyter-widgets/controls",
      "model_module_version": "1.5.0",
      "model_name": "DescriptionStyleModel",
      "state": {
       "description_width": ""
      }
     },
     "5f9b9f7eaf144448bedd7e601be79e45": {
      "model_module": "jupyter-leaflet",
      "model_module_version": "^0.17.0",
      "model_name": "LeafletAwesomeIconModel",
      "state": {
       "_model_module_version": "^0.17.0",
       "_view_module_version": "^0.17.0",
       "icon_color": "white",
       "marker_color": "green",
       "name": "life-ring"
      }
     },
     "5fc3599f71784d3da63d2e35c62d9e2f": {
      "model_module": "@jupyter-widgets/base",
      "model_module_version": "1.2.0",
      "model_name": "LayoutModel",
      "state": {}
     },
     "5ffac3e717f54700b79902bcda03524c": {
      "model_module": "@jupyter-widgets/controls",
      "model_module_version": "1.5.0",
      "model_name": "DescriptionStyleModel",
      "state": {
       "description_width": ""
      }
     },
     "600bfeb8673740a3b27d8a46cb8fbfe4": {
      "model_module": "jupyter-leaflet",
      "model_module_version": "^0.17.0",
      "model_name": "LeafletAwesomeIconModel",
      "state": {
       "_model_module_version": "^0.17.0",
       "_view_module_version": "^0.17.0",
       "icon_color": "white",
       "marker_color": "orange",
       "name": "life-ring"
      }
     },
     "6044827fede14ba68b5b49ab5dbb2c9d": {
      "model_module": "jupyter-leaflet",
      "model_module_version": "^0.17.0",
      "model_name": "LeafletAwesomeIconModel",
      "state": {
       "_model_module_version": "^0.17.0",
       "_view_module_version": "^0.17.0",
       "icon_color": "white",
       "marker_color": "orange",
       "name": "life-ring"
      }
     },
     "60461bf10d054e2b9c7f44fabf6b1ba1": {
      "model_module": "jupyter-leaflet",
      "model_module_version": "^0.17.0",
      "model_name": "LeafletAwesomeIconModel",
      "state": {
       "_model_module_version": "^0.17.0",
       "_view_module_version": "^0.17.0",
       "icon_color": "white",
       "marker_color": "orange",
       "name": "life-ring"
      }
     },
     "6052deeb19374874976dbf512ec3eaa1": {
      "model_module": "jupyter-leaflet",
      "model_module_version": "^0.17.0",
      "model_name": "LeafletMarkerModel",
      "state": {
       "_model_module_version": "^0.17.0",
       "_view_module_version": "^0.17.0",
       "draggable": false,
       "icon": "IPY_MODEL_27c18ad2237a49e3a7c080fc4a79f161",
       "location": [
        46.721,
        -87.412
       ],
       "options": [
        "alt",
        "draggable",
        "keyboard",
        "rise_offset",
        "rise_on_hover",
        "rotation_angle",
        "rotation_origin",
        "title",
        "z_index_offset"
       ],
       "popup": "IPY_MODEL_f39ba5c2c19143bebeaf50679de31bce"
      }
     },
     "60734dabefbb4d788d734fce51d06409": {
      "model_module": "jupyter-leaflet",
      "model_module_version": "^0.17.0",
      "model_name": "LeafletMarkerModel",
      "state": {
       "_model_module_version": "^0.17.0",
       "_view_module_version": "^0.17.0",
       "draggable": false,
       "icon": "IPY_MODEL_fb8199a049cb47aab35b056698059c29",
       "location": [
        29.076,
        -95.122
       ],
       "options": [
        "alt",
        "draggable",
        "keyboard",
        "rise_offset",
        "rise_on_hover",
        "rotation_angle",
        "rotation_origin",
        "title",
        "z_index_offset"
       ],
       "popup": "IPY_MODEL_9f61c8135524412f89ea0a55c78bc724"
      }
     },
     "60a7d41b3bb74c6bae491c5ba3e410c2": {
      "model_module": "jupyter-leaflet",
      "model_module_version": "^0.15.0",
      "model_name": "LeafletMarkerModel",
      "state": {
       "_model_module_version": "^0.15.0",
       "_view_module_version": "^0.15.0",
       "draggable": false,
       "icon": "IPY_MODEL_0a30d19d950748bdb2d87a678f0e151f",
       "location": [
        29.689,
        -93.842
       ],
       "options": [
        "alt",
        "draggable",
        "keyboard",
        "rise_offset",
        "rise_on_hover",
        "rotation_angle",
        "rotation_origin",
        "title",
        "z_index_offset"
       ],
       "popup": "IPY_MODEL_f9ee2ec228f64c1b9dec9f851816bd76"
      }
     },
     "60d9738a4164460a86ec936457dcf29f": {
      "model_module": "jupyter-leaflet",
      "model_module_version": "^0.15.0",
      "model_name": "LeafletAwesomeIconModel",
      "state": {
       "_model_module_version": "^0.15.0",
       "_view_module_version": "^0.15.0",
       "icon_color": "white",
       "marker_color": "orange",
       "name": "life-ring"
      }
     },
     "611469ed758c4a23ba9437a6a0a428d8": {
      "model_module": "jupyter-leaflet",
      "model_module_version": "^0.17.0",
      "model_name": "LeafletMarkerModel",
      "state": {
       "_model_module_version": "^0.17.0",
       "_view_module_version": "^0.17.0",
       "draggable": false,
       "icon": "IPY_MODEL_10e057e2926a4b4d9695bdcae06c4381",
       "location": [
        18.249,
        -64.763
       ],
       "options": [
        "alt",
        "draggable",
        "keyboard",
        "rise_offset",
        "rise_on_hover",
        "rotation_angle",
        "rotation_origin",
        "title",
        "z_index_offset"
       ],
       "popup": "IPY_MODEL_0936cffe9de94c708bba9f065b5dce80"
      }
     },
     "61239cea002b48fe9f26a7a582aa4b04": {
      "model_module": "@jupyter-widgets/base",
      "model_module_version": "1.2.0",
      "model_name": "LayoutModel",
      "state": {}
     },
     "612b6f58e92a4d9ca3f72fa0ec935f05": {
      "model_module": "@jupyter-widgets/controls",
      "model_module_version": "1.5.0",
      "model_name": "HTMLModel",
      "state": {
       "layout": "IPY_MODEL_07b5d04ee36d4e25a84aca7dcc172755",
       "style": "IPY_MODEL_6e06083d850c4cb2a96340970355adee",
       "value": "<table border=\"1\" class=\"dataframe table table-striped table-hover table-condensed table-responsive\">\n  <thead>\n    <tr style=\"text-align: right;\">\n      <th></th>\n      <th>vcat2</th>\n    </tr>\n  </thead>\n  <tbody>\n    <tr>\n      <th>met</th>\n      <td>58474.0</td>\n    </tr>\n    <tr>\n      <th>wave</th>\n      <td>0.0</td>\n    </tr>\n    <tr>\n      <th>type</th>\n      <td>fixed</td>\n    </tr>\n    <tr>\n      <th>name</th>\n      <td>8773259 - Port Lavaca, TX</td>\n    </tr>\n    <tr>\n      <th>pgm</th>\n      <td>IOOS Partners</td>\n    </tr>\n  </tbody>\n</table>"
      }
     },
     "61c753eb49494cf08496fbae967614e8": {
      "model_module": "jupyter-leaflet",
      "model_module_version": "^0.17.0",
      "model_name": "LeafletAwesomeIconModel",
      "state": {
       "_model_module_version": "^0.17.0",
       "_view_module_version": "^0.17.0",
       "icon_color": "white",
       "marker_color": "orange",
       "name": "life-ring"
      }
     },
     "623e6ee17c514458b78859b301118fe2": {
      "model_module": "jupyter-leaflet",
      "model_module_version": "^0.17.0",
      "model_name": "LeafletAwesomeIconModel",
      "state": {
       "_model_module_version": "^0.17.0",
       "_view_module_version": "^0.17.0",
       "icon_color": "white",
       "marker_color": "orange",
       "name": "life-ring"
      }
     },
     "62637452e38a4ca781b3e94c48b35345": {
      "model_module": "@jupyter-widgets/controls",
      "model_module_version": "1.5.0",
      "model_name": "DescriptionStyleModel",
      "state": {
       "description_width": ""
      }
     },
     "626f556a88d74d79a84248cd9daf5114": {
      "model_module": "jupyter-leaflet",
      "model_module_version": "^0.15.0",
      "model_name": "LeafletAwesomeIconModel",
      "state": {
       "_model_module_version": "^0.15.0",
       "_view_module_version": "^0.15.0",
       "icon_color": "white",
       "marker_color": "orange",
       "name": "life-ring"
      }
     },
     "62733696360b4216a88b57bc63fcf1da": {
      "model_module": "jupyter-leaflet",
      "model_module_version": "^0.17.0",
      "model_name": "LeafletMarkerModel",
      "state": {
       "_model_module_version": "^0.17.0",
       "_view_module_version": "^0.17.0",
       "draggable": false,
       "icon": "IPY_MODEL_36735a51dd3a471ab078cfa18ee0e777",
       "location": [
        30.437,
        -88.011
       ],
       "options": [
        "alt",
        "draggable",
        "keyboard",
        "rise_offset",
        "rise_on_hover",
        "rotation_angle",
        "rotation_origin",
        "title",
        "z_index_offset"
       ],
       "popup": "IPY_MODEL_4db961fd28c445248cb85834ed11270e"
      }
     },
     "62c402d9a45a4e3eb74c7a55de1637b1": {
      "model_module": "jupyter-leaflet",
      "model_module_version": "^0.15.0",
      "model_name": "LeafletMarkerModel",
      "state": {
       "_model_module_version": "^0.15.0",
       "_view_module_version": "^0.15.0",
       "draggable": false,
       "icon": "IPY_MODEL_35070f8eaf884a9c95fee935f3c28e8f",
       "location": [
        28.153,
        -82.801
       ],
       "options": [
        "alt",
        "draggable",
        "keyboard",
        "rise_offset",
        "rise_on_hover",
        "rotation_angle",
        "rotation_origin",
        "title",
        "z_index_offset"
       ],
       "popup": "IPY_MODEL_59126a2e4da247408cc0756472147727"
      }
     },
     "630434e60b32427e8f74c7120a34a4d5": {
      "model_module": "jupyter-leaflet",
      "model_module_version": "^0.15.0",
      "model_name": "LeafletMarkerModel",
      "state": {
       "_model_module_version": "^0.15.0",
       "_view_module_version": "^0.15.0",
       "draggable": false,
       "icon": "IPY_MODEL_95bd6a7900be4b28a780c283a010a903",
       "location": [
        55.352,
        -131.684
       ],
       "options": [
        "alt",
        "draggable",
        "keyboard",
        "rise_offset",
        "rise_on_hover",
        "rotation_angle",
        "rotation_origin",
        "title",
        "z_index_offset"
       ],
       "popup": "IPY_MODEL_24961e287b78443b83d110816341af03"
      }
     },
     "6307599ec7c4497cbcfd5b07f5e7f315": {
      "model_module": "jupyter-leaflet",
      "model_module_version": "^0.15.0",
      "model_name": "LeafletAwesomeIconModel",
      "state": {
       "_model_module_version": "^0.15.0",
       "_view_module_version": "^0.15.0",
       "icon_color": "white",
       "marker_color": "orange",
       "name": "life-ring"
      }
     },
     "63131f0286d848ada410cad716cbbf25": {
      "model_module": "jupyter-leaflet",
      "model_module_version": "^0.17.0",
      "model_name": "LeafletMarkerModel",
      "state": {
       "_model_module_version": "^0.17.0",
       "_view_module_version": "^0.17.0",
       "draggable": false,
       "icon": "IPY_MODEL_d485564e5164404ba9abdf7977ba5251",
       "location": [
        21.477,
        -157.752
       ],
       "options": [
        "alt",
        "draggable",
        "keyboard",
        "rise_offset",
        "rise_on_hover",
        "rotation_angle",
        "rotation_origin",
        "title",
        "z_index_offset"
       ],
       "popup": "IPY_MODEL_6b7b4a2917974931a4b13a2600710782"
      }
     },
     "63202ff41c61412ba92d17c2dafb6ffb": {
      "model_module": "jupyter-leaflet",
      "model_module_version": "^0.15.0",
      "model_name": "LeafletMarkerModel",
      "state": {
       "_model_module_version": "^0.15.0",
       "_view_module_version": "^0.15.0",
       "draggable": false,
       "icon": "IPY_MODEL_90966f0bc5744c8285c9a9620e708552",
       "location": [
        28.71,
        -95.914
       ],
       "options": [
        "alt",
        "draggable",
        "keyboard",
        "rise_offset",
        "rise_on_hover",
        "rotation_angle",
        "rotation_origin",
        "title",
        "z_index_offset"
       ],
       "popup": "IPY_MODEL_3f2856b87a5145cab303c834a7d15cfb"
      }
     },
     "6328b5f572764b579d2acf1aca6065d6": {
      "model_module": "@jupyter-widgets/base",
      "model_module_version": "1.2.0",
      "model_name": "LayoutModel",
      "state": {}
     },
     "632d62ed608f48fc8467fe8abc07629c": {
      "model_module": "@jupyter-widgets/base",
      "model_module_version": "1.2.0",
      "model_name": "LayoutModel",
      "state": {}
     },
     "63a82eade9ce402aaf4660ad395486c9": {
      "model_module": "jupyter-leaflet",
      "model_module_version": "^0.17.0",
      "model_name": "LeafletMarkerModel",
      "state": {
       "_model_module_version": "^0.17.0",
       "_view_module_version": "^0.17.0",
       "draggable": false,
       "icon": "IPY_MODEL_520d47145fc3452ca81dd1cc9d360cf3",
       "location": [
        33.838,
        -78.484
       ],
       "options": [
        "alt",
        "draggable",
        "keyboard",
        "rise_offset",
        "rise_on_hover",
        "rotation_angle",
        "rotation_origin",
        "title",
        "z_index_offset"
       ],
       "popup": "IPY_MODEL_1042076f36044acc93c9b564a3b0cfe2"
      }
     },
     "63db72e27e884f4e800dbf7a6918bc5d": {
      "model_module": "@jupyter-widgets/controls",
      "model_module_version": "1.5.0",
      "model_name": "DescriptionStyleModel",
      "state": {
       "description_width": ""
      }
     },
     "63e56c7d80644108a9679d5241e78fbf": {
      "model_module": "jupyter-leaflet",
      "model_module_version": "^0.15.0",
      "model_name": "LeafletAwesomeIconModel",
      "state": {
       "_model_module_version": "^0.15.0",
       "_view_module_version": "^0.15.0",
       "icon_color": "white",
       "marker_color": "orange",
       "name": "life-ring"
      }
     },
     "6406c1449e1a4f82b29cc3227f6fa125": {
      "model_module": "@jupyter-widgets/controls",
      "model_module_version": "1.5.0",
      "model_name": "DescriptionStyleModel",
      "state": {
       "description_width": ""
      }
     },
     "64268298c0d943b68919971801686c54": {
      "model_module": "jupyter-leaflet",
      "model_module_version": "^0.15.0",
      "model_name": "LeafletMarkerModel",
      "state": {
       "_model_module_version": "^0.15.0",
       "_view_module_version": "^0.15.0",
       "draggable": false,
       "icon": "IPY_MODEL_e6aa52ab50be4ea7b5e9cce63d40a2e7",
       "location": [
        32.279,
        -80.406
       ],
       "options": [
        "alt",
        "draggable",
        "keyboard",
        "rise_offset",
        "rise_on_hover",
        "rotation_angle",
        "rotation_origin",
        "title",
        "z_index_offset"
       ],
       "popup": "IPY_MODEL_b9a700ca6cc8407e8cfc9543a506e8a8"
      }
     },
     "6434745a6377405a9b1b1b82f500fcce": {
      "model_module": "jupyter-leaflet",
      "model_module_version": "^0.17.0",
      "model_name": "LeafletAwesomeIconModel",
      "state": {
       "_model_module_version": "^0.17.0",
       "_view_module_version": "^0.17.0",
       "icon_color": "white",
       "marker_color": "red",
       "name": "life-ring"
      }
     },
     "64752bc1d5db4fa190039d1c4358405c": {
      "model_module": "jupyter-leaflet",
      "model_module_version": "^0.15.0",
      "model_name": "LeafletMarkerModel",
      "state": {
       "_model_module_version": "^0.15.0",
       "_view_module_version": "^0.15.0",
       "draggable": false,
       "icon": "IPY_MODEL_82b2a07ca08a456b834b4ace29067ae5",
       "location": [
        21.323,
        -158.149
       ],
       "options": [
        "alt",
        "draggable",
        "keyboard",
        "rise_offset",
        "rise_on_hover",
        "rotation_angle",
        "rotation_origin",
        "title",
        "z_index_offset"
       ],
       "popup": "IPY_MODEL_031d0ad78d0b4dd487c47ec529239239"
      }
     },
     "6475b8ea5129416f8102a8b9281e41ff": {
      "model_module": "@jupyter-widgets/controls",
      "model_module_version": "1.5.0",
      "model_name": "HTMLModel",
      "state": {
       "layout": "IPY_MODEL_b1d6a1546b724f159be84b49e5c97894",
       "style": "IPY_MODEL_b75d04efaaf2427dae7eb2b8b27fef3b",
       "value": "<table border=\"1\" class=\"dataframe table table-striped table-hover table-condensed table-responsive\">\n  <thead>\n    <tr style=\"text-align: right;\">\n      <th></th>\n      <th>clbf1</th>\n    </tr>\n  </thead>\n  <tbody>\n    <tr>\n      <th>met</th>\n      <td>58620.0</td>\n    </tr>\n    <tr>\n      <th>wave</th>\n      <td>0.0</td>\n    </tr>\n    <tr>\n      <th>type</th>\n      <td>fixed</td>\n    </tr>\n    <tr>\n      <th>name</th>\n      <td>Clam Bayou, FL</td>\n    </tr>\n    <tr>\n      <th>pgm</th>\n      <td>IOOS Partners</td>\n    </tr>\n  </tbody>\n</table>"
      }
     },
     "649f75c344cc4ec68afdc3348a870c34": {
      "model_module": "jupyter-leaflet",
      "model_module_version": "^0.17.0",
      "model_name": "LeafletAwesomeIconModel",
      "state": {
       "_model_module_version": "^0.17.0",
       "_view_module_version": "^0.17.0",
       "icon_color": "white",
       "marker_color": "red",
       "name": "life-ring"
      }
     },
     "64a5c3f4fd404917bb63ceb1af47e104": {
      "model_module": "@jupyter-widgets/base",
      "model_module_version": "1.2.0",
      "model_name": "LayoutModel",
      "state": {}
     },
     "64b64cb3a6c54a809f3d29b12b6496df": {
      "model_module": "jupyter-leaflet",
      "model_module_version": "^0.15.0",
      "model_name": "LeafletAwesomeIconModel",
      "state": {
       "_model_module_version": "^0.15.0",
       "_view_module_version": "^0.15.0",
       "icon_color": "white",
       "marker_color": "orange",
       "name": "life-ring"
      }
     },
     "64c44bbfaf09425faa1b03cff350c5c5": {
      "model_module": "jupyter-leaflet",
      "model_module_version": "^0.17.0",
      "model_name": "LeafletAwesomeIconModel",
      "state": {
       "_model_module_version": "^0.17.0",
       "_view_module_version": "^0.17.0",
       "icon_color": "white",
       "marker_color": "orange",
       "name": "life-ring"
      }
     },
     "650de32ed0db4f6ca17efa2366b0e2f6": {
      "model_module": "jupyter-leaflet",
      "model_module_version": "^0.15.0",
      "model_name": "LeafletMarkerModel",
      "state": {
       "_model_module_version": "^0.15.0",
       "_view_module_version": "^0.15.0",
       "draggable": false,
       "icon": "IPY_MODEL_cb9cc36620244c499628cd6b555b1222",
       "location": [
        46.969,
        -88.398
       ],
       "options": [
        "alt",
        "draggable",
        "keyboard",
        "rise_offset",
        "rise_on_hover",
        "rotation_angle",
        "rotation_origin",
        "title",
        "z_index_offset"
       ],
       "popup": "IPY_MODEL_1f8519be4dbe4b66b2cca0187a81c542"
      }
     },
     "65555d9bc75448ad9aeac85497dd3f56": {
      "model_module": "jupyter-leaflet",
      "model_module_version": "^0.15.0",
      "model_name": "LeafletMarkerModel",
      "state": {
       "_model_module_version": "^0.15.0",
       "_view_module_version": "^0.15.0",
       "draggable": false,
       "icon": "IPY_MODEL_626f556a88d74d79a84248cd9daf5114",
       "location": [
        58.198,
        -134.257
       ],
       "options": [
        "alt",
        "draggable",
        "keyboard",
        "rise_offset",
        "rise_on_hover",
        "rotation_angle",
        "rotation_origin",
        "title",
        "z_index_offset"
       ],
       "popup": "IPY_MODEL_8e3581163dbd401886da8c869c5fd67a"
      }
     },
     "65576089237f481daca40c2eb069c97f": {
      "model_module": "@jupyter-widgets/controls",
      "model_module_version": "1.5.0",
      "model_name": "HTMLModel",
      "state": {
       "layout": "IPY_MODEL_b2c5c7e5f8824b82a0ea83c309b93530",
       "style": "IPY_MODEL_a6cfb3b27c6e4156a43938203cecbfdc",
       "value": "<table border=\"1\" class=\"dataframe table table-striped table-hover table-condensed table-responsive\">\n  <thead>\n    <tr style=\"text-align: right;\">\n      <th></th>\n      <th>cdxa2</th>\n    </tr>\n  </thead>\n  <tbody>\n    <tr>\n      <th>met</th>\n      <td>12960.0</td>\n    </tr>\n    <tr>\n      <th>wave</th>\n      <td>0.0</td>\n    </tr>\n    <tr>\n      <th>type</th>\n      <td>fixed</td>\n    </tr>\n    <tr>\n      <th>name</th>\n      <td>Cape Decision MXAK, AK</td>\n    </tr>\n    <tr>\n      <th>pgm</th>\n      <td>IOOS Partners</td>\n    </tr>\n  </tbody>\n</table>"
      }
     },
     "65bed975322d4fd281e059fba2abf473": {
      "model_module": "@jupyter-widgets/controls",
      "model_module_version": "1.5.0",
      "model_name": "HTMLModel",
      "state": {
       "layout": "IPY_MODEL_30badc62c8e349d58101e58f620f0d0a",
       "style": "IPY_MODEL_95badd275d5943a694f959a73d592ed8",
       "value": "<table border=\"1\" class=\"dataframe table table-striped table-hover table-condensed table-responsive\">\n  <thead>\n    <tr style=\"text-align: right;\">\n      <th></th>\n      <th>jlxa2</th>\n    </tr>\n  </thead>\n  <tbody>\n    <tr>\n      <th>met</th>\n      <td>34196.0</td>\n    </tr>\n    <tr>\n      <th>wave</th>\n      <td>0.0</td>\n    </tr>\n    <tr>\n      <th>type</th>\n      <td>fixed</td>\n    </tr>\n    <tr>\n      <th>name</th>\n      <td>Juneau Library, AK</td>\n    </tr>\n    <tr>\n      <th>pgm</th>\n      <td>IOOS Partners</td>\n    </tr>\n  </tbody>\n</table>"
      }
     },
     "65c78d7587a24874b50a18716519c226": {
      "model_module": "@jupyter-widgets/controls",
      "model_module_version": "1.5.0",
      "model_name": "HTMLModel",
      "state": {
       "layout": "IPY_MODEL_3d67213bea4149168e4e51fcb44d62e0",
       "style": "IPY_MODEL_ff2c3b20f2294ebcba9f3a3fe9be83f3",
       "value": "<table border=\"1\" class=\"dataframe table table-striped table-hover table-condensed table-responsive\">\n  <thead>\n    <tr style=\"text-align: right;\">\n      <th></th>\n      <th>hmsa2</th>\n    </tr>\n  </thead>\n  <tbody>\n    <tr>\n      <th>met</th>\n      <td>34298.0</td>\n    </tr>\n    <tr>\n      <th>wave</th>\n      <td>0.0</td>\n    </tr>\n    <tr>\n      <th>type</th>\n      <td>fixed</td>\n    </tr>\n    <tr>\n      <th>name</th>\n      <td>Homer Spit, AK</td>\n    </tr>\n    <tr>\n      <th>pgm</th>\n      <td>IOOS Partners</td>\n    </tr>\n  </tbody>\n</table>"
      }
     },
     "65ccdc9d66674db382775778d21c908c": {
      "model_module": "@jupyter-widgets/controls",
      "model_module_version": "1.5.0",
      "model_name": "DescriptionStyleModel",
      "state": {
       "description_width": ""
      }
     },
     "66209fa008f147aca4dc244a7f68d9db": {
      "model_module": "@jupyter-widgets/base",
      "model_module_version": "1.2.0",
      "model_name": "LayoutModel",
      "state": {}
     },
     "665ed2a8adae4a3ebd80afb4458403be": {
      "model_module": "@jupyter-widgets/controls",
      "model_module_version": "1.5.0",
      "model_name": "DescriptionStyleModel",
      "state": {
       "description_width": ""
      }
     },
     "666ce25e63da42aaaa2baf57aa575662": {
      "model_module": "jupyter-leaflet",
      "model_module_version": "^0.17.0",
      "model_name": "LeafletAwesomeIconModel",
      "state": {
       "_model_module_version": "^0.17.0",
       "_view_module_version": "^0.17.0",
       "icon_color": "white",
       "marker_color": "red",
       "name": "life-ring"
      }
     },
     "6673e3df6734458ea9e80b7259636f56": {
      "model_module": "@jupyter-widgets/base",
      "model_module_version": "1.2.0",
      "model_name": "LayoutModel",
      "state": {}
     },
     "669c6622e7a34f908ead65d0798e2636": {
      "model_module": "jupyter-leaflet",
      "model_module_version": "^0.17.0",
      "model_name": "LeafletFullScreenControlModel",
      "state": {
       "_model_module_version": "^0.17.0",
       "_view_module_version": "^0.17.0",
       "options": [
        "position"
       ]
      }
     },
     "66c64e477a194877b71e5c16c80fbc3c": {
      "model_module": "jupyter-leaflet",
      "model_module_version": "^0.17.0",
      "model_name": "LeafletMarkerModel",
      "state": {
       "_model_module_version": "^0.17.0",
       "_view_module_version": "^0.17.0",
       "draggable": false,
       "icon": "IPY_MODEL_9d751c933c5d4a0cbf84c22c53acd06c",
       "location": [
        26.559,
        -97.424
       ],
       "options": [
        "alt",
        "draggable",
        "keyboard",
        "rise_offset",
        "rise_on_hover",
        "rotation_angle",
        "rotation_origin",
        "title",
        "z_index_offset"
       ],
       "popup": "IPY_MODEL_92fb1951c50a499dad61d941ac1faa8e"
      }
     },
     "6788f9f1645e4fd5a5c95d697b1c22da": {
      "model_module": "@jupyter-widgets/base",
      "model_module_version": "1.2.0",
      "model_name": "LayoutModel",
      "state": {}
     },
     "67aec45ff33d43d68f2f3f2893e40dd7": {
      "model_module": "jupyter-leaflet",
      "model_module_version": "^0.17.0",
      "model_name": "LeafletAwesomeIconModel",
      "state": {
       "_model_module_version": "^0.17.0",
       "_view_module_version": "^0.17.0",
       "icon_color": "white",
       "marker_color": "green",
       "name": "life-ring"
      }
     },
     "67c033604a2049ec8dddccabcd566332": {
      "model_module": "jupyter-leaflet",
      "model_module_version": "^0.17.0",
      "model_name": "LeafletMarkerModel",
      "state": {
       "_model_module_version": "^0.17.0",
       "_view_module_version": "^0.17.0",
       "draggable": false,
       "icon": "IPY_MODEL_1c69c14bfdc54be9bc3487e8c221f20e",
       "location": [
        40.883,
        -73.728
       ],
       "options": [
        "alt",
        "draggable",
        "keyboard",
        "rise_offset",
        "rise_on_hover",
        "rotation_angle",
        "rotation_origin",
        "title",
        "z_index_offset"
       ],
       "popup": "IPY_MODEL_4fcce4d9aaac41d6b2a915115d906ea0"
      }
     },
     "67ce9f088cbd446fad8cfb3e75a955d7": {
      "model_module": "jupyter-leaflet",
      "model_module_version": "^0.17.0",
      "model_name": "LeafletAwesomeIconModel",
      "state": {
       "_model_module_version": "^0.17.0",
       "_view_module_version": "^0.17.0",
       "icon_color": "white",
       "marker_color": "green",
       "name": "life-ring"
      }
     },
     "67da0f05c79740b092f97ad0c68babac": {
      "model_module": "@jupyter-widgets/base",
      "model_module_version": "1.2.0",
      "model_name": "LayoutModel",
      "state": {}
     },
     "6827281d4f054df59ab28389c9c8ea36": {
      "model_module": "jupyter-leaflet",
      "model_module_version": "^0.17.0",
      "model_name": "LeafletMarkerModel",
      "state": {
       "_model_module_version": "^0.17.0",
       "_view_module_version": "^0.17.0",
       "draggable": false,
       "icon": "IPY_MODEL_4e6946f7025d4b22ae6e90ff8cf098d3",
       "location": [
        21.671,
        -158.117
       ],
       "options": [
        "alt",
        "draggable",
        "keyboard",
        "rise_offset",
        "rise_on_hover",
        "rotation_angle",
        "rotation_origin",
        "title",
        "z_index_offset"
       ],
       "popup": "IPY_MODEL_cf836ae398594bb19f18261420fba23d"
      }
     },
     "687c584528db43b1b89d1b610a477f5f": {
      "model_module": "jupyter-leaflet",
      "model_module_version": "^0.17.0",
      "model_name": "LeafletMarkerModel",
      "state": {
       "_model_module_version": "^0.17.0",
       "_view_module_version": "^0.17.0",
       "draggable": false,
       "icon": "IPY_MODEL_58521686ab7f40128976a3cbea111407",
       "location": [
        29.689,
        -93.842
       ],
       "options": [
        "alt",
        "draggable",
        "keyboard",
        "rise_offset",
        "rise_on_hover",
        "rotation_angle",
        "rotation_origin",
        "title",
        "z_index_offset"
       ],
       "popup": "IPY_MODEL_ca6d604023934459960cc3ee48b9685e"
      }
     },
     "6887818564024c5d817ef724e7e8049a": {
      "model_module": "jupyter-leaflet",
      "model_module_version": "^0.17.0",
      "model_name": "LeafletAwesomeIconModel",
      "state": {
       "_model_module_version": "^0.17.0",
       "_view_module_version": "^0.17.0",
       "icon_color": "white",
       "marker_color": "orange",
       "name": "life-ring"
      }
     },
     "68b5880d285c479fa6e8fce26bf130f5": {
      "model_module": "@jupyter-widgets/base",
      "model_module_version": "1.2.0",
      "model_name": "LayoutModel",
      "state": {}
     },
     "69375cbefa514917afa3ab1f7e8bb3b7": {
      "model_module": "jupyter-leaflet",
      "model_module_version": "^0.17.0",
      "model_name": "LeafletAwesomeIconModel",
      "state": {
       "_model_module_version": "^0.17.0",
       "_view_module_version": "^0.17.0",
       "icon_color": "white",
       "marker_color": "green",
       "name": "life-ring"
      }
     },
     "6956dc5de40e4240a723b045e332881a": {
      "model_module": "jupyter-leaflet",
      "model_module_version": "^0.15.0",
      "model_name": "LeafletMarkerModel",
      "state": {
       "_model_module_version": "^0.15.0",
       "_view_module_version": "^0.15.0",
       "draggable": false,
       "icon": "IPY_MODEL_a25ef65fb67f470187a715783bf7f750",
       "location": [
        33.988,
        -77.362
       ],
       "options": [
        "alt",
        "draggable",
        "keyboard",
        "rise_offset",
        "rise_on_hover",
        "rotation_angle",
        "rotation_origin",
        "title",
        "z_index_offset"
       ],
       "popup": "IPY_MODEL_1e347c07a81a4081b2a26075d2f7c1c6"
      }
     },
     "69657385e73b438fb52290966ad6ff66": {
      "model_module": "@jupyter-widgets/base",
      "model_module_version": "1.2.0",
      "model_name": "LayoutModel",
      "state": {}
     },
     "696eb947d7e14287bcdc8977fd41b13e": {
      "model_module": "jupyter-leaflet",
      "model_module_version": "^0.15.0",
      "model_name": "LeafletMarkerModel",
      "state": {
       "_model_module_version": "^0.15.0",
       "_view_module_version": "^0.15.0",
       "draggable": false,
       "icon": "IPY_MODEL_8df910d0241a4916a9ff108d90247e2e",
       "location": [
        36.751,
        -122.029
       ],
       "options": [
        "alt",
        "draggable",
        "keyboard",
        "rise_offset",
        "rise_on_hover",
        "rotation_angle",
        "rotation_origin",
        "title",
        "z_index_offset"
       ],
       "popup": "IPY_MODEL_8d7cb15286e94e0eb7ab78bc8ca198cf"
      }
     },
     "6985de22813b4961b1f369174c112b1f": {
      "model_module": "@jupyter-widgets/base",
      "model_module_version": "1.2.0",
      "model_name": "LayoutModel",
      "state": {}
     },
     "699053bc6bf24fdf9b8dca45e3763a09": {
      "model_module": "@jupyter-widgets/controls",
      "model_module_version": "1.5.0",
      "model_name": "HTMLModel",
      "state": {
       "layout": "IPY_MODEL_afc70d205a8e48cdb9bf49de1abd30f4",
       "style": "IPY_MODEL_1be9c0d168f94065b3b9e80a9e1a7ff8",
       "value": "<table border=\"1\" class=\"dataframe table table-striped table-hover table-condensed table-responsive\">\n  <thead>\n    <tr style=\"text-align: right;\">\n      <th></th>\n      <th>42023</th>\n    </tr>\n  </thead>\n  <tbody>\n    <tr>\n      <th>met</th>\n      <td>11744.0</td>\n    </tr>\n    <tr>\n      <th>wave</th>\n      <td>0.0</td>\n    </tr>\n    <tr>\n      <th>type</th>\n      <td>buoy</td>\n    </tr>\n    <tr>\n      <th>name</th>\n      <td>C13 - WFS South Buoy, 50m Isobath</td>\n    </tr>\n    <tr>\n      <th>pgm</th>\n      <td>IOOS Partners</td>\n    </tr>\n  </tbody>\n</table>"
      }
     },
     "699fee6fa5d24e4bb215ba481dbcc82b": {
      "model_module": "@jupyter-widgets/controls",
      "model_module_version": "1.5.0",
      "model_name": "DescriptionStyleModel",
      "state": {
       "description_width": ""
      }
     },
     "69a8e97216434a7da94462bf2d817a14": {
      "model_module": "@jupyter-widgets/base",
      "model_module_version": "1.2.0",
      "model_name": "LayoutModel",
      "state": {}
     },
     "69d053d33cd048598873ad17218be521": {
      "model_module": "@jupyter-widgets/base",
      "model_module_version": "1.2.0",
      "model_name": "LayoutModel",
      "state": {}
     },
     "69e2c293af3c48039c04898131925f56": {
      "model_module": "@jupyter-widgets/controls",
      "model_module_version": "1.5.0",
      "model_name": "DescriptionStyleModel",
      "state": {
       "description_width": ""
      }
     },
     "69f654ee902f4b1c827e0a86fdcd4c47": {
      "model_module": "@jupyter-widgets/base",
      "model_module_version": "1.2.0",
      "model_name": "LayoutModel",
      "state": {}
     },
     "6ab91ebe492d40a8b0a9bd667e152827": {
      "model_module": "jupyter-leaflet",
      "model_module_version": "^0.15.0",
      "model_name": "LeafletAwesomeIconModel",
      "state": {
       "_model_module_version": "^0.15.0",
       "_view_module_version": "^0.15.0",
       "icon_color": "white",
       "marker_color": "orange",
       "name": "life-ring"
      }
     },
     "6abac5052d404183be28f2ed561bd956": {
      "model_module": "@jupyter-widgets/controls",
      "model_module_version": "1.5.0",
      "model_name": "DescriptionStyleModel",
      "state": {
       "description_width": ""
      }
     },
     "6afb3a229d2d4ee0ba3bc7e556f4b20b": {
      "model_module": "@jupyter-widgets/base",
      "model_module_version": "1.2.0",
      "model_name": "LayoutModel",
      "state": {}
     },
     "6b3f1084badc470cb3d6a01b6a5caea8": {
      "model_module": "@jupyter-widgets/controls",
      "model_module_version": "1.5.0",
      "model_name": "HTMLModel",
      "state": {
       "layout": "IPY_MODEL_395418415c5d48908ee1a02e77ce663c",
       "style": "IPY_MODEL_8fabb9a3e557484d96d3276d442bac37",
       "value": "<table border=\"1\" class=\"dataframe table table-striped table-hover table-condensed table-responsive\">\n  <thead>\n    <tr style=\"text-align: right;\">\n      <th></th>\n      <th>pcnt2</th>\n    </tr>\n  </thead>\n  <tbody>\n    <tr>\n      <th>met</th>\n      <td>58272.0</td>\n    </tr>\n    <tr>\n      <th>wave</th>\n      <td>0.0</td>\n    </tr>\n    <tr>\n      <th>type</th>\n      <td>fixed</td>\n    </tr>\n    <tr>\n      <th>name</th>\n      <td>8773701 - Port O'Connor, Matagorda Bay, TX</td>\n    </tr>\n    <tr>\n      <th>pgm</th>\n      <td>IOOS Partners</td>\n    </tr>\n  </tbody>\n</table>"
      }
     },
     "6b47db7904ef487c8cde81050efd24e6": {
      "model_module": "jupyter-leaflet",
      "model_module_version": "^0.15.0",
      "model_name": "LeafletMarkerModel",
      "state": {
       "_model_module_version": "^0.15.0",
       "_view_module_version": "^0.15.0",
       "draggable": false,
       "icon": "IPY_MODEL_a4a79cd3a9fc43498843ce27d7fd93a1",
       "location": [
        41.702,
        -83.261
       ],
       "options": [
        "alt",
        "draggable",
        "keyboard",
        "rise_offset",
        "rise_on_hover",
        "rotation_angle",
        "rotation_origin",
        "title",
        "z_index_offset"
       ],
       "popup": "IPY_MODEL_d2d9384a20b046acb5daa9f45bff2700"
      }
     },
     "6b602e3b61be45d3805eb80a1b0cc519": {
      "model_module": "jupyter-leaflet",
      "model_module_version": "^0.17.0",
      "model_name": "LeafletAwesomeIconModel",
      "state": {
       "_model_module_version": "^0.17.0",
       "_view_module_version": "^0.17.0",
       "icon_color": "white",
       "marker_color": "orange",
       "name": "life-ring"
      }
     },
     "6b7b4a2917974931a4b13a2600710782": {
      "model_module": "@jupyter-widgets/controls",
      "model_module_version": "1.5.0",
      "model_name": "HTMLModel",
      "state": {
       "layout": "IPY_MODEL_10bd47d695a24c768cd9427e48c8a48f",
       "style": "IPY_MODEL_17b474f12eed48479539877850788049",
       "value": "<table border=\"1\" class=\"dataframe table table-striped table-hover table-condensed table-responsive\">\n  <thead>\n    <tr style=\"text-align: right;\">\n      <th></th>\n      <th>51207</th>\n    </tr>\n  </thead>\n  <tbody>\n    <tr>\n      <th>met</th>\n      <td>0.0</td>\n    </tr>\n    <tr>\n      <th>wave</th>\n      <td>11086.0</td>\n    </tr>\n    <tr>\n      <th>type</th>\n      <td>buoy</td>\n    </tr>\n    <tr>\n      <th>name</th>\n      <td>Kaneohe Bay, HI (198)</td>\n    </tr>\n    <tr>\n      <th>pgm</th>\n      <td>IOOS Partners</td>\n    </tr>\n  </tbody>\n</table>"
      }
     },
     "6c0beadc6bdc48c3897b639e34f5d1b9": {
      "model_module": "@jupyter-widgets/base",
      "model_module_version": "1.2.0",
      "model_name": "LayoutModel",
      "state": {}
     },
     "6c4307190b9a42a7848074b9268a66b1": {
      "model_module": "@jupyter-widgets/controls",
      "model_module_version": "1.5.0",
      "model_name": "HTMLModel",
      "state": {
       "layout": "IPY_MODEL_e7c38dea3aa846189aef677ba374a2f2",
       "style": "IPY_MODEL_254efb9212a8416c8b2c7af910a418be",
       "value": "<table border=\"1\" class=\"dataframe table table-striped table-hover table-condensed table-responsive\">\n  <thead>\n    <tr style=\"text-align: right;\">\n      <th></th>\n      <th>nuet2</th>\n    </tr>\n  </thead>\n  <tbody>\n    <tr>\n      <th>met</th>\n      <td>58432.0</td>\n    </tr>\n    <tr>\n      <th>wave</th>\n      <td>0.0</td>\n    </tr>\n    <tr>\n      <th>type</th>\n      <td>fixed</td>\n    </tr>\n    <tr>\n      <th>name</th>\n      <td>8775244 - Nueces Bay, TX</td>\n    </tr>\n    <tr>\n      <th>pgm</th>\n      <td>IOOS Partners</td>\n    </tr>\n  </tbody>\n</table>"
      }
     },
     "6c5d16002a1f49cb9ccf1dfa1d8663bc": {
      "model_module": "@jupyter-widgets/base",
      "model_module_version": "1.2.0",
      "model_name": "LayoutModel",
      "state": {}
     },
     "6caadd6b788c4786adfb5e3c90823af3": {
      "model_module": "@jupyter-widgets/controls",
      "model_module_version": "1.5.0",
      "model_name": "DescriptionStyleModel",
      "state": {
       "description_width": ""
      }
     },
     "6ceee183db22463eb50a43d24a87b92f": {
      "model_module": "jupyter-leaflet",
      "model_module_version": "^0.15.0",
      "model_name": "LeafletAwesomeIconModel",
      "state": {
       "_model_module_version": "^0.15.0",
       "_view_module_version": "^0.15.0",
       "icon_color": "white",
       "marker_color": "green",
       "name": "life-ring"
      }
     },
     "6cf2ae141ee84fc18c660e87dd659887": {
      "model_module": "jupyter-leaflet",
      "model_module_version": "^0.17.0",
      "model_name": "LeafletAwesomeIconModel",
      "state": {
       "_model_module_version": "^0.17.0",
       "_view_module_version": "^0.17.0",
       "icon_color": "white",
       "marker_color": "orange",
       "name": "life-ring"
      }
     },
     "6d0bad2514d64a15857c1a585b5c8c2b": {
      "model_module": "@jupyter-widgets/controls",
      "model_module_version": "1.5.0",
      "model_name": "DescriptionStyleModel",
      "state": {
       "description_width": ""
      }
     },
     "6d8067cdb43049a880304e19756fbbbd": {
      "model_module": "jupyter-leaflet",
      "model_module_version": "^0.17.0",
      "model_name": "LeafletMarkerModel",
      "state": {
       "_model_module_version": "^0.17.0",
       "_view_module_version": "^0.17.0",
       "draggable": false,
       "icon": "IPY_MODEL_97dc7fbcf1f34e9d8fa180bedd9f72f4",
       "location": [
        28.433,
        -82.667
       ],
       "options": [
        "alt",
        "draggable",
        "keyboard",
        "rise_offset",
        "rise_on_hover",
        "rotation_angle",
        "rotation_origin",
        "title",
        "z_index_offset"
       ],
       "popup": "IPY_MODEL_eed45abd080347f6adbdc2935f0311a3"
      }
     },
     "6d94efa38a5b41c9bba79220ab4238c4": {
      "model_module": "@jupyter-widgets/controls",
      "model_module_version": "1.5.0",
      "model_name": "HTMLModel",
      "state": {
       "layout": "IPY_MODEL_69d053d33cd048598873ad17218be521",
       "style": "IPY_MODEL_b0c1d031096848de83bcc535fe12baf3",
       "value": "<table border=\"1\" class=\"dataframe table table-striped table-hover table-condensed table-responsive\">\n  <thead>\n    <tr style=\"text-align: right;\">\n      <th></th>\n      <th>mlsc1</th>\n    </tr>\n  </thead>\n  <tbody>\n    <tr>\n      <th>met</th>\n      <td>43720.0</td>\n    </tr>\n    <tr>\n      <th>wave</th>\n      <td>0.0</td>\n    </tr>\n    <tr>\n      <th>type</th>\n      <td>fixed</td>\n    </tr>\n    <tr>\n      <th>name</th>\n      <td>Moss Landing, South Harbor, CA</td>\n    </tr>\n    <tr>\n      <th>pgm</th>\n      <td>IOOS Partners</td>\n    </tr>\n  </tbody>\n</table>"
      }
     },
     "6da33069fc594efbbc8a94d4864d856d": {
      "model_module": "@jupyter-widgets/controls",
      "model_module_version": "1.5.0",
      "model_name": "DescriptionStyleModel",
      "state": {
       "description_width": ""
      }
     },
     "6de089486adb48e399d1106780aeaade": {
      "model_module": "@jupyter-widgets/base",
      "model_module_version": "1.2.0",
      "model_name": "LayoutModel",
      "state": {}
     },
     "6e06083d850c4cb2a96340970355adee": {
      "model_module": "@jupyter-widgets/controls",
      "model_module_version": "1.5.0",
      "model_name": "DescriptionStyleModel",
      "state": {
       "description_width": ""
      }
     },
     "6e4339b53d0041748a1ff1df85ee39a8": {
      "model_module": "@jupyter-widgets/base",
      "model_module_version": "1.2.0",
      "model_name": "LayoutModel",
      "state": {}
     },
     "6e46ca9763e44a7c96a796c81228d594": {
      "model_module": "jupyter-leaflet",
      "model_module_version": "^0.15.0",
      "model_name": "LeafletMapStyleModel",
      "state": {
       "_model_module_version": "^0.15.0"
      }
     },
     "6e8a4309398a4d37b1375f059b9eebcb": {
      "model_module": "@jupyter-widgets/controls",
      "model_module_version": "1.5.0",
      "model_name": "DescriptionStyleModel",
      "state": {
       "description_width": ""
      }
     },
     "6e97b110cccc4d56b9a5107d1beedab4": {
      "model_module": "@jupyter-widgets/base",
      "model_module_version": "1.2.0",
      "model_name": "LayoutModel",
      "state": {}
     },
     "6eb3f7a880a44a10bfacddd12d85a181": {
      "model_module": "jupyter-leaflet",
      "model_module_version": "^0.17.0",
      "model_name": "LeafletAwesomeIconModel",
      "state": {
       "_model_module_version": "^0.17.0",
       "_view_module_version": "^0.17.0",
       "icon_color": "white",
       "marker_color": "orange",
       "name": "life-ring"
      }
     },
     "6ee691c149eb4e029991eda107c9b027": {
      "model_module": "jupyter-leaflet",
      "model_module_version": "^0.17.0",
      "model_name": "LeafletAwesomeIconModel",
      "state": {
       "_model_module_version": "^0.17.0",
       "_view_module_version": "^0.17.0",
       "icon_color": "white",
       "marker_color": "orange",
       "name": "life-ring"
      }
     },
     "6f47d32eca8f48cfbf03626d6acf0d11": {
      "model_module": "@jupyter-widgets/controls",
      "model_module_version": "1.5.0",
      "model_name": "DescriptionStyleModel",
      "state": {
       "description_width": ""
      }
     },
     "6f72c23150344004bfc143cb1b2d7c3e": {
      "model_module": "@jupyter-widgets/base",
      "model_module_version": "1.2.0",
      "model_name": "LayoutModel",
      "state": {}
     },
     "6fc65f28102247449d75641cf3f234b0": {
      "model_module": "jupyter-leaflet",
      "model_module_version": "^0.15.0",
      "model_name": "LeafletMarkerModel",
      "state": {
       "_model_module_version": "^0.15.0",
       "_view_module_version": "^0.15.0",
       "draggable": false,
       "icon": "IPY_MODEL_c6c2bb26490b447b82bac69ef1a0de64",
       "location": [
        26.067,
        -97.155
       ],
       "options": [
        "alt",
        "draggable",
        "keyboard",
        "rise_offset",
        "rise_on_hover",
        "rotation_angle",
        "rotation_origin",
        "title",
        "z_index_offset"
       ],
       "popup": "IPY_MODEL_11df289334f9491f921ca2fa086c682a"
      }
     },
     "6fd7b4149b0a4f66a4028a8d180c355c": {
      "model_module": "@jupyter-widgets/controls",
      "model_module_version": "1.5.0",
      "model_name": "DescriptionStyleModel",
      "state": {
       "description_width": ""
      }
     },
     "7009991f9c534a308e53f6b5d7814c14": {
      "model_module": "jupyter-leaflet",
      "model_module_version": "^0.15.0",
      "model_name": "LeafletMarkerModel",
      "state": {
       "_model_module_version": "^0.15.0",
       "_view_module_version": "^0.15.0",
       "draggable": false,
       "icon": "IPY_MODEL_d391f6a2dc2342adbbd9184621a54154",
       "location": [
        59.448,
        -135.326
       ],
       "options": [
        "alt",
        "draggable",
        "keyboard",
        "rise_offset",
        "rise_on_hover",
        "rotation_angle",
        "rotation_origin",
        "title",
        "z_index_offset"
       ],
       "popup": "IPY_MODEL_c87100130ccd4c5192d6700ce3757c4f"
      }
     },
     "705d22fa359e4dc9be1c658f7d9521db": {
      "model_module": "jupyter-leaflet",
      "model_module_version": "^0.15.0",
      "model_name": "LeafletAwesomeIconModel",
      "state": {
       "_model_module_version": "^0.15.0",
       "_view_module_version": "^0.15.0",
       "icon_color": "white",
       "marker_color": "red",
       "name": "life-ring"
      }
     },
     "706836e89230452391863281c39328c7": {
      "model_module": "@jupyter-widgets/controls",
      "model_module_version": "1.5.0",
      "model_name": "DescriptionStyleModel",
      "state": {
       "description_width": ""
      }
     },
     "706a09f07f4a4097bf9f2da70cd8bbc4": {
      "model_module": "jupyter-leaflet",
      "model_module_version": "^0.15.0",
      "model_name": "LeafletAwesomeIconModel",
      "state": {
       "_model_module_version": "^0.15.0",
       "_view_module_version": "^0.15.0",
       "icon_color": "white",
       "marker_color": "green",
       "name": "life-ring"
      }
     },
     "70d3d04d806647deab35874152164f7b": {
      "model_module": "@jupyter-widgets/controls",
      "model_module_version": "1.5.0",
      "model_name": "HTMLModel",
      "state": {
       "layout": "IPY_MODEL_dfc4bcdee5b745109f10281c56745183",
       "style": "IPY_MODEL_ed418a3a26f8426096aecfcdc5daf77c",
       "value": "<table border=\"1\" class=\"dataframe table table-striped table-hover table-condensed table-responsive\">\n  <thead>\n    <tr style=\"text-align: right;\">\n      <th></th>\n      <th>hmsa2</th>\n    </tr>\n  </thead>\n  <tbody>\n    <tr>\n      <th>met</th>\n      <td>34298.0</td>\n    </tr>\n    <tr>\n      <th>wave</th>\n      <td>0.0</td>\n    </tr>\n    <tr>\n      <th>type</th>\n      <td>fixed</td>\n    </tr>\n    <tr>\n      <th>name</th>\n      <td>Homer Spit, AK</td>\n    </tr>\n    <tr>\n      <th>pgm</th>\n      <td>IOOS Partners</td>\n    </tr>\n  </tbody>\n</table>"
      }
     },
     "70ddaac2915b42bca59d5f7cf90d3eed": {
      "model_module": "jupyter-leaflet",
      "model_module_version": "^0.15.0",
      "model_name": "LeafletAwesomeIconModel",
      "state": {
       "_model_module_version": "^0.15.0",
       "_view_module_version": "^0.15.0",
       "icon_color": "white",
       "marker_color": "orange",
       "name": "life-ring"
      }
     },
     "70e074d51d09485aa3372ebb897bc3aa": {
      "model_module": "@jupyter-widgets/base",
      "model_module_version": "1.2.0",
      "model_name": "LayoutModel",
      "state": {}
     },
     "70ecb3eb317b4f9199310b3be2ba9246": {
      "model_module": "@jupyter-widgets/controls",
      "model_module_version": "1.5.0",
      "model_name": "DescriptionStyleModel",
      "state": {
       "description_width": ""
      }
     },
     "7107609c6aea4304836fc05686f73387": {
      "model_module": "@jupyter-widgets/controls",
      "model_module_version": "1.5.0",
      "model_name": "DescriptionStyleModel",
      "state": {
       "description_width": ""
      }
     },
     "710fbcbc32f64c61be00ec5d1a605677": {
      "model_module": "@jupyter-widgets/controls",
      "model_module_version": "1.5.0",
      "model_name": "HTMLModel",
      "state": {
       "layout": "IPY_MODEL_bfdc2179b1d24309a17729324e00d437",
       "style": "IPY_MODEL_b069c757dc144aa38ecc3c5d75699848",
       "value": "<table border=\"1\" class=\"dataframe table table-striped table-hover table-condensed table-responsive\">\n  <thead>\n    <tr style=\"text-align: right;\">\n      <th></th>\n      <th>arop4</th>\n    </tr>\n  </thead>\n  <tbody>\n    <tr>\n      <th>met</th>\n      <td>58490.0</td>\n    </tr>\n    <tr>\n      <th>wave</th>\n      <td>0.0</td>\n    </tr>\n    <tr>\n      <th>type</th>\n      <td>fixed</td>\n    </tr>\n    <tr>\n      <th>name</th>\n      <td>9757809 - Arecibo, PR</td>\n    </tr>\n    <tr>\n      <th>pgm</th>\n      <td>IOOS Partners</td>\n    </tr>\n  </tbody>\n</table>"
      }
     },
     "7120c516947e47969938bf60ae94cae1": {
      "model_module": "jupyter-leaflet",
      "model_module_version": "^0.15.0",
      "model_name": "LeafletMarkerModel",
      "state": {
       "_model_module_version": "^0.15.0",
       "_view_module_version": "^0.15.0",
       "draggable": false,
       "icon": "IPY_MODEL_33d156c3bb324912b54bae676645bbaa",
       "location": [
        28.407,
        -96.712
       ],
       "options": [
        "alt",
        "draggable",
        "keyboard",
        "rise_offset",
        "rise_on_hover",
        "rotation_angle",
        "rotation_origin",
        "title",
        "z_index_offset"
       ],
       "popup": "IPY_MODEL_96edd6b97a02463898bde8e77fc1d28f"
      }
     },
     "71b019435ba64d6989d14aaefa090d84": {
      "model_module": "jupyter-leaflet",
      "model_module_version": "^0.17.0",
      "model_name": "LeafletMarkerModel",
      "state": {
       "_model_module_version": "^0.17.0",
       "_view_module_version": "^0.17.0",
       "draggable": false,
       "icon": "IPY_MODEL_35eec03d6fcb46b89519c930b74ae2c1",
       "location": [
        18.376,
        -67.28
       ],
       "options": [
        "alt",
        "draggable",
        "keyboard",
        "rise_offset",
        "rise_on_hover",
        "rotation_angle",
        "rotation_origin",
        "title",
        "z_index_offset"
       ],
       "popup": "IPY_MODEL_8f36fe66aea443a2b988db4ab3e7f138"
      }
     },
     "71c35a70782e44678ac7ec475af32987": {
      "model_module": "jupyter-leaflet",
      "model_module_version": "^0.17.0",
      "model_name": "LeafletMarkerModel",
      "state": {
       "_model_module_version": "^0.17.0",
       "_view_module_version": "^0.17.0",
       "draggable": false,
       "icon": "IPY_MODEL_4ed97c12055a4e3c9de8323946362be0",
       "location": [
        21.323,
        -158.149
       ],
       "options": [
        "alt",
        "draggable",
        "keyboard",
        "rise_offset",
        "rise_on_hover",
        "rotation_angle",
        "rotation_origin",
        "title",
        "z_index_offset"
       ],
       "popup": "IPY_MODEL_0d1dfab619d24115b91080235da50318"
      }
     },
     "71efef1399a14e56aff1ab2a18c471c1": {
      "model_module": "@jupyter-widgets/controls",
      "model_module_version": "1.5.0",
      "model_name": "HTMLModel",
      "state": {
       "layout": "IPY_MODEL_b38f711ce1b54a21a74d2fbac4a76fd5",
       "style": "IPY_MODEL_59aa773246dc45f785aaab47f0727679",
       "value": "<table border=\"1\" class=\"dataframe table table-striped table-hover table-condensed table-responsive\">\n  <thead>\n    <tr style=\"text-align: right;\">\n      <th></th>\n      <th>45028</th>\n    </tr>\n  </thead>\n  <tbody>\n    <tr>\n      <th>met</th>\n      <td>25870.0</td>\n    </tr>\n    <tr>\n      <th>wave</th>\n      <td>25870.0</td>\n    </tr>\n    <tr>\n      <th>type</th>\n      <td>buoy</td>\n    </tr>\n    <tr>\n      <th>name</th>\n      <td>Western Lake Superior</td>\n    </tr>\n    <tr>\n      <th>pgm</th>\n      <td>IOOS Partners</td>\n    </tr>\n  </tbody>\n</table>"
      }
     },
     "72104d76e57b4fb2b51bd307cd1995da": {
      "model_module": "jupyter-leaflet",
      "model_module_version": "^0.17.0",
      "model_name": "LeafletAwesomeIconModel",
      "state": {
       "_model_module_version": "^0.17.0",
       "_view_module_version": "^0.17.0",
       "icon_color": "white",
       "marker_color": "green",
       "name": "life-ring"
      }
     },
     "7217ca177a9d411abe157a4432bb21e6": {
      "model_module": "jupyter-leaflet",
      "model_module_version": "^0.15.0",
      "model_name": "LeafletAwesomeIconModel",
      "state": {
       "_model_module_version": "^0.15.0",
       "_view_module_version": "^0.15.0",
       "icon_color": "white",
       "marker_color": "orange",
       "name": "life-ring"
      }
     },
     "72668759af784685a33f2591f67a53c2": {
      "model_module": "jupyter-leaflet",
      "model_module_version": "^0.17.0",
      "model_name": "LeafletMarkerModel",
      "state": {
       "_model_module_version": "^0.17.0",
       "_view_module_version": "^0.17.0",
       "draggable": false,
       "icon": "IPY_MODEL_39a33947b1a14a209efab7439f1b00bc",
       "location": [
        58.408,
        -135.726
       ],
       "options": [
        "alt",
        "draggable",
        "keyboard",
        "rise_offset",
        "rise_on_hover",
        "rotation_angle",
        "rotation_origin",
        "title",
        "z_index_offset"
       ],
       "popup": "IPY_MODEL_577b99cd000f4870b8293ed75cafca4b"
      }
     },
     "728fdfb45d6d46829d2672a58e1acd53": {
      "model_module": "jupyter-leaflet",
      "model_module_version": "^0.17.0",
      "model_name": "LeafletMarkerModel",
      "state": {
       "_model_module_version": "^0.17.0",
       "_view_module_version": "^0.17.0",
       "draggable": false,
       "icon": "IPY_MODEL_75811eb8d7e74d9e948210712d55f941",
       "location": [
        33.988,
        -77.362
       ],
       "options": [
        "alt",
        "draggable",
        "keyboard",
        "rise_offset",
        "rise_on_hover",
        "rotation_angle",
        "rotation_origin",
        "title",
        "z_index_offset"
       ],
       "popup": "IPY_MODEL_7f0208fa48d74e149dbe7709d43e5ac8"
      }
     },
     "72c865b21d664772a0c22a70559a5e7c": {
      "model_module": "@jupyter-widgets/controls",
      "model_module_version": "1.5.0",
      "model_name": "HTMLModel",
      "state": {
       "layout": "IPY_MODEL_f721eaa9e492440290afdd7badca0a4c",
       "style": "IPY_MODEL_c32a5591495442beab48d9ec82cadc15",
       "value": "<table border=\"1\" class=\"dataframe table table-striped table-hover table-condensed table-responsive\">\n  <thead>\n    <tr style=\"text-align: right;\">\n      <th></th>\n      <th>45174</th>\n    </tr>\n  </thead>\n  <tbody>\n    <tr>\n      <th>met</th>\n      <td>33104.0</td>\n    </tr>\n    <tr>\n      <th>wave</th>\n      <td>33102.0</td>\n    </tr>\n    <tr>\n      <th>type</th>\n      <td>buoy</td>\n    </tr>\n    <tr>\n      <th>name</th>\n      <td>Wilmette Buoy, IL</td>\n    </tr>\n    <tr>\n      <th>pgm</th>\n      <td>IOOS Partners</td>\n    </tr>\n  </tbody>\n</table>"
      }
     },
     "72d69373202c4be2988d1959076f812e": {
      "model_module": "jupyter-leaflet",
      "model_module_version": "^0.15.0",
      "model_name": "LeafletAwesomeIconModel",
      "state": {
       "_model_module_version": "^0.15.0",
       "_view_module_version": "^0.15.0",
       "icon_color": "white",
       "marker_color": "orange",
       "name": "life-ring"
      }
     },
     "72d8cd78ae264a1dbef8940f26946d14": {
      "model_module": "jupyter-leaflet",
      "model_module_version": "^0.15.0",
      "model_name": "LeafletAwesomeIconModel",
      "state": {
       "_model_module_version": "^0.15.0",
       "_view_module_version": "^0.15.0",
       "icon_color": "white",
       "marker_color": "orange",
       "name": "life-ring"
      }
     },
     "730dbe5245dc4ac1a1a335c8de550d6f": {
      "model_module": "@jupyter-widgets/controls",
      "model_module_version": "1.5.0",
      "model_name": "DescriptionStyleModel",
      "state": {
       "description_width": ""
      }
     },
     "731cd434727c410d99236e50064bcedc": {
      "model_module": "jupyter-leaflet",
      "model_module_version": "^0.15.0",
      "model_name": "LeafletZoomControlModel",
      "state": {
       "_model_module_version": "^0.15.0",
       "_view_module_version": "^0.15.0",
       "options": [
        "position",
        "zoom_in_text",
        "zoom_in_title",
        "zoom_out_text",
        "zoom_out_title"
       ]
      }
     },
     "732fa9416a4c475d82a2de3904754ed4": {
      "model_module": "@jupyter-widgets/controls",
      "model_module_version": "1.5.0",
      "model_name": "DescriptionStyleModel",
      "state": {
       "description_width": ""
      }
     },
     "7353f65e3ec74a608ab7deecfaf5aa1c": {
      "model_module": "@jupyter-widgets/base",
      "model_module_version": "1.2.0",
      "model_name": "LayoutModel",
      "state": {}
     },
     "739d1f97cdc9421a9ae1a37ef5b719c4": {
      "model_module": "@jupyter-widgets/controls",
      "model_module_version": "1.5.0",
      "model_name": "DescriptionStyleModel",
      "state": {
       "description_width": ""
      }
     },
     "7434769eb3984a82a52d20ff5c471c4f": {
      "model_module": "jupyter-leaflet",
      "model_module_version": "^0.15.0",
      "model_name": "LeafletAwesomeIconModel",
      "state": {
       "_model_module_version": "^0.15.0",
       "_view_module_version": "^0.15.0",
       "icon_color": "white",
       "marker_color": "orange",
       "name": "life-ring"
      }
     },
     "743e426045604592ba5f2871c314c5db": {
      "model_module": "@jupyter-widgets/controls",
      "model_module_version": "1.5.0",
      "model_name": "HTMLModel",
      "state": {
       "layout": "IPY_MODEL_ebb2390b622d4013b7c8e070e7d57939",
       "style": "IPY_MODEL_f13e211c72b04d97bace37affa5370d1",
       "value": "<table border=\"1\" class=\"dataframe table table-striped table-hover table-condensed table-responsive\">\n  <thead>\n    <tr style=\"text-align: right;\">\n      <th></th>\n      <th>45164</th>\n    </tr>\n  </thead>\n  <tbody>\n    <tr>\n      <th>met</th>\n      <td>5644.0</td>\n    </tr>\n    <tr>\n      <th>wave</th>\n      <td>5864.0</td>\n    </tr>\n    <tr>\n      <th>type</th>\n      <td>buoy</td>\n    </tr>\n    <tr>\n      <th>name</th>\n      <td>Cleveland Buoy, OH</td>\n    </tr>\n    <tr>\n      <th>pgm</th>\n      <td>IOOS Partners</td>\n    </tr>\n  </tbody>\n</table>"
      }
     },
     "745b6e429ba549b1ac581be29d655ac6": {
      "model_module": "@jupyter-widgets/controls",
      "model_module_version": "1.5.0",
      "model_name": "DescriptionStyleModel",
      "state": {
       "description_width": ""
      }
     },
     "746f23c3cc104468affa4f5ef8adc738": {
      "model_module": "@jupyter-widgets/base",
      "model_module_version": "1.2.0",
      "model_name": "LayoutModel",
      "state": {}
     },
     "747cf120725d4e27a8cae2b51f3e42e6": {
      "model_module": "jupyter-leaflet",
      "model_module_version": "^0.17.0",
      "model_name": "LeafletMarkerModel",
      "state": {
       "_model_module_version": "^0.17.0",
       "_view_module_version": "^0.17.0",
       "draggable": false,
       "icon": "IPY_MODEL_efb8353674274fd4810d80d52b8131c7",
       "location": [
        42.135,
        -87.655
       ],
       "options": [
        "alt",
        "draggable",
        "keyboard",
        "rise_offset",
        "rise_on_hover",
        "rotation_angle",
        "rotation_origin",
        "title",
        "z_index_offset"
       ],
       "popup": "IPY_MODEL_72c865b21d664772a0c22a70559a5e7c"
      }
     },
     "74977ac038e7486e91269f2fdbdec3f7": {
      "model_module": "jupyter-leaflet",
      "model_module_version": "^0.15.0",
      "model_name": "LeafletMarkerModel",
      "state": {
       "_model_module_version": "^0.15.0",
       "_view_module_version": "^0.15.0",
       "draggable": false,
       "icon": "IPY_MODEL_29ef32c237cd4f638400a340ab74e466",
       "location": [
        42.523,
        -70.566
       ],
       "options": [
        "alt",
        "draggable",
        "keyboard",
        "rise_offset",
        "rise_on_hover",
        "rotation_angle",
        "rotation_origin",
        "title",
        "z_index_offset"
       ],
       "popup": "IPY_MODEL_aec40fb0432b48a79b46344b7264bc49"
      }
     },
     "75811eb8d7e74d9e948210712d55f941": {
      "model_module": "jupyter-leaflet",
      "model_module_version": "^0.17.0",
      "model_name": "LeafletAwesomeIconModel",
      "state": {
       "_model_module_version": "^0.17.0",
       "_view_module_version": "^0.17.0",
       "icon_color": "white",
       "marker_color": "orange",
       "name": "life-ring"
      }
     },
     "75cdc730608f407ead5e6c8a38141e9b": {
      "model_module": "@jupyter-widgets/controls",
      "model_module_version": "1.5.0",
      "model_name": "DescriptionStyleModel",
      "state": {
       "description_width": ""
      }
     },
     "75d9da13cdd645b99638391d9fd43b76": {
      "model_module": "@jupyter-widgets/base",
      "model_module_version": "1.2.0",
      "model_name": "LayoutModel",
      "state": {}
     },
     "75e901e112a74c89acf2a6e6676498e1": {
      "model_module": "@jupyter-widgets/controls",
      "model_module_version": "1.5.0",
      "model_name": "DescriptionStyleModel",
      "state": {
       "description_width": ""
      }
     },
     "766db18fd838482e9516081b7d6f58ff": {
      "model_module": "@jupyter-widgets/controls",
      "model_module_version": "1.5.0",
      "model_name": "DescriptionStyleModel",
      "state": {
       "description_width": ""
      }
     },
     "767908092d454293a69bb7093550db71": {
      "model_module": "@jupyter-widgets/controls",
      "model_module_version": "1.5.0",
      "model_name": "DescriptionStyleModel",
      "state": {
       "description_width": ""
      }
     },
     "76b22888a8594ee5afa7b9915da07910": {
      "model_module": "jupyter-leaflet",
      "model_module_version": "^0.17.0",
      "model_name": "LeafletMarkerModel",
      "state": {
       "_model_module_version": "^0.17.0",
       "_view_module_version": "^0.17.0",
       "draggable": false,
       "icon": "IPY_MODEL_db7f02689123456380d2bb714fb8b35f",
       "location": [
        27.634,
        -97.237
       ],
       "options": [
        "alt",
        "draggable",
        "keyboard",
        "rise_offset",
        "rise_on_hover",
        "rotation_angle",
        "rotation_origin",
        "title",
        "z_index_offset"
       ],
       "popup": "IPY_MODEL_32c5d288854740f8a0fd5313e3027c3b"
      }
     },
     "77190c3d11b643b18b6052e1827a4380": {
      "model_module": "jupyter-leaflet",
      "model_module_version": "^0.17.0",
      "model_name": "LeafletMarkerModel",
      "state": {
       "_model_module_version": "^0.17.0",
       "_view_module_version": "^0.17.0",
       "draggable": false,
       "icon": "IPY_MODEL_52e7065177af4f2aa3791807ad23e8f2",
       "location": [
        17.869,
        -66.532
       ],
       "options": [
        "alt",
        "draggable",
        "keyboard",
        "rise_offset",
        "rise_on_hover",
        "rotation_angle",
        "rotation_origin",
        "title",
        "z_index_offset"
       ],
       "popup": "IPY_MODEL_5c040f8d4d5f4f6390e64576040926ad"
      }
     },
     "7757558ab5ab46e09f8c3b850924a769": {
      "model_module": "@jupyter-widgets/controls",
      "model_module_version": "1.5.0",
      "model_name": "DescriptionStyleModel",
      "state": {
       "description_width": ""
      }
     },
     "7827823e4ee6486097eb36df32d13630": {
      "model_module": "@jupyter-widgets/controls",
      "model_module_version": "1.5.0",
      "model_name": "DescriptionStyleModel",
      "state": {
       "description_width": ""
      }
     },
     "7887615f330c48c5a7e3a964a607f40b": {
      "model_module": "@jupyter-widgets/base",
      "model_module_version": "1.2.0",
      "model_name": "LayoutModel",
      "state": {}
     },
     "78bcdf4db82b4b17a2f56eab6e5a307e": {
      "model_module": "jupyter-leaflet",
      "model_module_version": "^0.17.0",
      "model_name": "LeafletMarkerModel",
      "state": {
       "_model_module_version": "^0.17.0",
       "_view_module_version": "^0.17.0",
       "draggable": false,
       "icon": "IPY_MODEL_facc550176f34678aeca55af05a671bb",
       "location": [
        59.448,
        -135.326
       ],
       "options": [
        "alt",
        "draggable",
        "keyboard",
        "rise_offset",
        "rise_on_hover",
        "rotation_angle",
        "rotation_origin",
        "title",
        "z_index_offset"
       ],
       "popup": "IPY_MODEL_ae64fde06baa4f94a859297f515f5963"
      }
     },
     "78bce01de9c548cdb5f55d926625d084": {
      "model_module": "@jupyter-widgets/controls",
      "model_module_version": "1.5.0",
      "model_name": "HTMLModel",
      "state": {
       "layout": "IPY_MODEL_7b1a60415faf4ede80ae5a81ea8cc4c6",
       "style": "IPY_MODEL_7cb905f2cae24cbf853d0cce799a43fb",
       "value": "<table border=\"1\" class=\"dataframe table table-striped table-hover table-condensed table-responsive\">\n  <thead>\n    <tr style=\"text-align: right;\">\n      <th></th>\n      <th>rtat2</th>\n    </tr>\n  </thead>\n  <tbody>\n    <tr>\n      <th>met</th>\n      <td>58756.0</td>\n    </tr>\n    <tr>\n      <th>wave</th>\n      <td>0.0</td>\n    </tr>\n    <tr>\n      <th>type</th>\n      <td>fixed</td>\n    </tr>\n    <tr>\n      <th>name</th>\n      <td>8775237 - Port Aransas, TX</td>\n    </tr>\n    <tr>\n      <th>pgm</th>\n      <td>IOOS Partners</td>\n    </tr>\n  </tbody>\n</table>"
      }
     },
     "78c71e67b134445e8446927b0b0a7697": {
      "model_module": "@jupyter-widgets/base",
      "model_module_version": "1.2.0",
      "model_name": "LayoutModel",
      "state": {}
     },
     "7920e81f638a4785b2cb9718117e365b": {
      "model_module": "jupyter-leaflet",
      "model_module_version": "^0.15.0",
      "model_name": "LeafletMarkerModel",
      "state": {
       "_model_module_version": "^0.15.0",
       "_view_module_version": "^0.15.0",
       "draggable": false,
       "icon": "IPY_MODEL_bd4497dcd8fe4d89934a49696b69b974",
       "location": [
        42.325,
        -65.909
       ],
       "options": [
        "alt",
        "draggable",
        "keyboard",
        "rise_offset",
        "rise_on_hover",
        "rotation_angle",
        "rotation_origin",
        "title",
        "z_index_offset"
       ],
       "popup": "IPY_MODEL_9ffd90e105ee4ea8a287e683b6d0fe02"
      }
     },
     "797b56b85811448b800422d280126e81": {
      "model_module": "@jupyter-widgets/controls",
      "model_module_version": "1.5.0",
      "model_name": "HTMLModel",
      "state": {
       "layout": "IPY_MODEL_2deb4ef8fe264eb799e76b852756ac5d",
       "style": "IPY_MODEL_4381d80f4de640c0b45d11b676f693df",
       "value": "<table border=\"1\" class=\"dataframe table table-striped table-hover table-condensed table-responsive\">\n  <thead>\n    <tr style=\"text-align: right;\">\n      <th></th>\n      <th>pgxa2</th>\n    </tr>\n  </thead>\n  <tbody>\n    <tr>\n      <th>met</th>\n      <td>34194.0</td>\n    </tr>\n    <tr>\n      <th>wave</th>\n      <td>0.0</td>\n    </tr>\n    <tr>\n      <th>type</th>\n      <td>fixed</td>\n    </tr>\n    <tr>\n      <th>name</th>\n      <td>Point Gardner</td>\n    </tr>\n    <tr>\n      <th>pgm</th>\n      <td>IOOS Partners</td>\n    </tr>\n  </tbody>\n</table>"
      }
     },
     "798b7c30cf9d4c879f482ee2a74bb7e8": {
      "model_module": "@jupyter-widgets/controls",
      "model_module_version": "1.5.0",
      "model_name": "HTMLModel",
      "state": {
       "layout": "IPY_MODEL_66209fa008f147aca4dc244a7f68d9db",
       "style": "IPY_MODEL_59d7d20a30714053a563f3da54e5636a",
       "value": "<table border=\"1\" class=\"dataframe table table-striped table-hover table-condensed table-responsive\">\n  <thead>\n    <tr style=\"text-align: right;\">\n      <th></th>\n      <th>45186</th>\n    </tr>\n  </thead>\n  <tbody>\n    <tr>\n      <th>met</th>\n      <td>25606.0</td>\n    </tr>\n    <tr>\n      <th>wave</th>\n      <td>27616.0</td>\n    </tr>\n    <tr>\n      <th>type</th>\n      <td>buoy</td>\n    </tr>\n    <tr>\n      <th>name</th>\n      <td>Waukegan Buoy, IL</td>\n    </tr>\n    <tr>\n      <th>pgm</th>\n      <td>IOOS Partners</td>\n    </tr>\n  </tbody>\n</table>"
      }
     },
     "79993e423d764a7a8f771428d0e1e5c6": {
      "model_module": "@jupyter-widgets/base",
      "model_module_version": "1.2.0",
      "model_name": "LayoutModel",
      "state": {}
     },
     "79ff2f7e795c4eb39f6a8ec47b91422e": {
      "model_module": "@jupyter-widgets/controls",
      "model_module_version": "1.5.0",
      "model_name": "DescriptionStyleModel",
      "state": {
       "description_width": ""
      }
     },
     "7a2b3b07724d434d84d40cd5a5690cc8": {
      "model_module": "jupyter-leaflet",
      "model_module_version": "^0.17.0",
      "model_name": "LeafletMarkerModel",
      "state": {
       "_model_module_version": "^0.17.0",
       "_view_module_version": "^0.17.0",
       "draggable": false,
       "icon": "IPY_MODEL_7a33a5b937c14c9db27dee1f6abd4242",
       "location": [
        47.27,
        -88.607
       ],
       "options": [
        "alt",
        "draggable",
        "keyboard",
        "rise_offset",
        "rise_on_hover",
        "rotation_angle",
        "rotation_origin",
        "title",
        "z_index_offset"
       ],
       "popup": "IPY_MODEL_211af34f21a04254b83efe376a7ba2ce"
      }
     },
     "7a33a5b937c14c9db27dee1f6abd4242": {
      "model_module": "jupyter-leaflet",
      "model_module_version": "^0.17.0",
      "model_name": "LeafletAwesomeIconModel",
      "state": {
       "_model_module_version": "^0.17.0",
       "_view_module_version": "^0.17.0",
       "icon_color": "white",
       "marker_color": "green",
       "name": "life-ring"
      }
     },
     "7a54741f79404c369d6867eb9a9b04c8": {
      "model_module": "jupyter-leaflet",
      "model_module_version": "^0.17.0",
      "model_name": "LeafletMarkerModel",
      "state": {
       "_model_module_version": "^0.17.0",
       "_view_module_version": "^0.17.0",
       "draggable": false,
       "icon": "IPY_MODEL_2787d49e00134856b7f3c3d378573795",
       "location": [
        27.837,
        -97.039
       ],
       "options": [
        "alt",
        "draggable",
        "keyboard",
        "rise_offset",
        "rise_on_hover",
        "rotation_angle",
        "rotation_origin",
        "title",
        "z_index_offset"
       ],
       "popup": "IPY_MODEL_9f7288b1619445ea869dd02ad7bc6b05"
      }
     },
     "7a70e448d6df4f638b6972294495ad04": {
      "model_module": "@jupyter-widgets/base",
      "model_module_version": "1.2.0",
      "model_name": "LayoutModel",
      "state": {}
     },
     "7a9a7f251ae448299e55ac0c42eb8dc8": {
      "model_module": "jupyter-leaflet",
      "model_module_version": "^0.15.0",
      "model_name": "LeafletMarkerModel",
      "state": {
       "_model_module_version": "^0.15.0",
       "_view_module_version": "^0.15.0",
       "draggable": false,
       "icon": "IPY_MODEL_eb153a511a3f496a869f30f2b1f8b3d8",
       "location": [
        44.795,
        -87.759
       ],
       "options": [
        "alt",
        "draggable",
        "keyboard",
        "rise_offset",
        "rise_on_hover",
        "rotation_angle",
        "rotation_origin",
        "title",
        "z_index_offset"
       ],
       "popup": "IPY_MODEL_e01409f263774dfa837afb99215e25fe"
      }
     },
     "7aa5ab4409d9494a8f597f548a03a98b": {
      "model_module": "jupyter-leaflet",
      "model_module_version": "^0.17.0",
      "model_name": "LeafletAwesomeIconModel",
      "state": {
       "_model_module_version": "^0.17.0",
       "_view_module_version": "^0.17.0",
       "icon_color": "white",
       "marker_color": "green",
       "name": "life-ring"
      }
     },
     "7acfa5b7c37549a7a18801f53ee13baa": {
      "model_module": "jupyter-leaflet",
      "model_module_version": "^0.17.0",
      "model_name": "LeafletMarkerModel",
      "state": {
       "_model_module_version": "^0.17.0",
       "_view_module_version": "^0.17.0",
       "draggable": false,
       "icon": "IPY_MODEL_88a436a6e59a4fe5b6d9a8cb6731d7ca",
       "location": [
        35.75,
        -75.33
       ],
       "options": [
        "alt",
        "draggable",
        "keyboard",
        "rise_offset",
        "rise_on_hover",
        "rotation_angle",
        "rotation_origin",
        "title",
        "z_index_offset"
       ],
       "popup": "IPY_MODEL_ca870c58f2b04d09b19b3c9ed3094dbc"
      }
     },
     "7ad68f38c337430cbed45fdc581ecfd4": {
      "model_module": "@jupyter-widgets/base",
      "model_module_version": "1.2.0",
      "model_name": "LayoutModel",
      "state": {}
     },
     "7b06d3a8231141bfb02536ceb90cb347": {
      "model_module": "@jupyter-widgets/base",
      "model_module_version": "1.2.0",
      "model_name": "LayoutModel",
      "state": {}
     },
     "7b1a60415faf4ede80ae5a81ea8cc4c6": {
      "model_module": "@jupyter-widgets/base",
      "model_module_version": "1.2.0",
      "model_name": "LayoutModel",
      "state": {}
     },
     "7b351c77e3bc4f76a8074d9f651b2abd": {
      "model_module": "jupyter-leaflet",
      "model_module_version": "^0.15.0",
      "model_name": "LeafletAwesomeIconModel",
      "state": {
       "_model_module_version": "^0.15.0",
       "_view_module_version": "^0.15.0",
       "icon_color": "white",
       "marker_color": "green",
       "name": "life-ring"
      }
     },
     "7b40453df73045528391e21242a83b0a": {
      "model_module": "@jupyter-widgets/controls",
      "model_module_version": "1.5.0",
      "model_name": "DescriptionStyleModel",
      "state": {
       "description_width": ""
      }
     },
     "7b63448885d94e9db3258b04c16a6539": {
      "model_module": "jupyter-leaflet",
      "model_module_version": "^0.17.0",
      "model_name": "LeafletMarkerModel",
      "state": {
       "_model_module_version": "^0.17.0",
       "_view_module_version": "^0.17.0",
       "draggable": false,
       "icon": "IPY_MODEL_7cf2f0313f3c45cd9b72ccc14850be64",
       "location": [
        58.255,
        -134.945
       ],
       "options": [
        "alt",
        "draggable",
        "keyboard",
        "rise_offset",
        "rise_on_hover",
        "rotation_angle",
        "rotation_origin",
        "title",
        "z_index_offset"
       ],
       "popup": "IPY_MODEL_9aeaf3142a1d4aa99e16cf977bd9be84"
      }
     },
     "7bdf4c86620e4cfeb3cc9ba3f7422a1d": {
      "model_module": "jupyter-leaflet",
      "model_module_version": "^0.15.0",
      "model_name": "LeafletAwesomeIconModel",
      "state": {
       "_model_module_version": "^0.15.0",
       "_view_module_version": "^0.15.0",
       "icon_color": "white",
       "marker_color": "green",
       "name": "life-ring"
      }
     },
     "7cb905f2cae24cbf853d0cce799a43fb": {
      "model_module": "@jupyter-widgets/controls",
      "model_module_version": "1.5.0",
      "model_name": "DescriptionStyleModel",
      "state": {
       "description_width": ""
      }
     },
     "7ccca394b307498c8ae932e60e0fcb69": {
      "model_module": "@jupyter-widgets/controls",
      "model_module_version": "1.5.0",
      "model_name": "HTMLModel",
      "state": {
       "layout": "IPY_MODEL_f7f5774d98a848db8930a8409378b0d0",
       "style": "IPY_MODEL_6fd7b4149b0a4f66a4028a8d180c355c",
       "value": "<table border=\"1\" class=\"dataframe table table-striped table-hover table-condensed table-responsive\">\n  <thead>\n    <tr style=\"text-align: right;\">\n      <th></th>\n      <th>45024</th>\n    </tr>\n  </thead>\n  <tbody>\n    <tr>\n      <th>met</th>\n      <td>30874.0</td>\n    </tr>\n    <tr>\n      <th>wave</th>\n      <td>30874.0</td>\n    </tr>\n    <tr>\n      <th>type</th>\n      <td>buoy</td>\n    </tr>\n    <tr>\n      <th>name</th>\n      <td>Ludington Buoy, MI</td>\n    </tr>\n    <tr>\n      <th>pgm</th>\n      <td>IOOS Partners</td>\n    </tr>\n  </tbody>\n</table>"
      }
     },
     "7cedd20a7b774b0e983f15db7823d012": {
      "model_module": "jupyter-leaflet",
      "model_module_version": "^0.15.0",
      "model_name": "LeafletMarkerModel",
      "state": {
       "_model_module_version": "^0.15.0",
       "_view_module_version": "^0.15.0",
       "draggable": false,
       "icon": "IPY_MODEL_18a094c4dd164337b6fdd0d52ba96c7d",
       "location": [
        58.298,
        -134.405
       ],
       "options": [
        "alt",
        "draggable",
        "keyboard",
        "rise_offset",
        "rise_on_hover",
        "rotation_angle",
        "rotation_origin",
        "title",
        "z_index_offset"
       ],
       "popup": "IPY_MODEL_2fc39a839d50497f981ccb9ffeb28073"
      }
     },
     "7cf03c0140f34c60898ec21056dd5d8e": {
      "model_module": "@jupyter-widgets/controls",
      "model_module_version": "1.5.0",
      "model_name": "HTMLModel",
      "state": {
       "layout": "IPY_MODEL_5644343070b14fcb9df0e56e2fb117d7",
       "style": "IPY_MODEL_4d6469bec3ab44ed8c70ae6cdf57ea60",
       "value": "<table border=\"1\" class=\"dataframe table table-striped table-hover table-condensed table-responsive\">\n  <thead>\n    <tr style=\"text-align: right;\">\n      <th></th>\n      <th>erxa2</th>\n    </tr>\n  </thead>\n  <tbody>\n    <tr>\n      <th>met</th>\n      <td>34312.0</td>\n    </tr>\n    <tr>\n      <th>wave</th>\n      <td>0.0</td>\n    </tr>\n    <tr>\n      <th>type</th>\n      <td>fixed</td>\n    </tr>\n    <tr>\n      <th>name</th>\n      <td>Eldred Rock MXAK, AK</td>\n    </tr>\n    <tr>\n      <th>pgm</th>\n      <td>IOOS Partners</td>\n    </tr>\n  </tbody>\n</table>"
      }
     },
     "7cf2f0313f3c45cd9b72ccc14850be64": {
      "model_module": "jupyter-leaflet",
      "model_module_version": "^0.17.0",
      "model_name": "LeafletAwesomeIconModel",
      "state": {
       "_model_module_version": "^0.17.0",
       "_view_module_version": "^0.17.0",
       "icon_color": "white",
       "marker_color": "orange",
       "name": "life-ring"
      }
     },
     "7cfb23b49b5d444b9aa28d9d742b6b71": {
      "model_module": "jupyter-leaflet",
      "model_module_version": "^0.17.0",
      "model_name": "LeafletMarkerModel",
      "state": {
       "_model_module_version": "^0.17.0",
       "_view_module_version": "^0.17.0",
       "draggable": false,
       "icon": "IPY_MODEL_970d13977c4f4eef84cdf039268ce749",
       "location": [
        33.576,
        -118.181
       ],
       "options": [
        "alt",
        "draggable",
        "keyboard",
        "rise_offset",
        "rise_on_hover",
        "rotation_angle",
        "rotation_origin",
        "title",
        "z_index_offset"
       ],
       "popup": "IPY_MODEL_86301efc5e0d44abb77dbc0a3449fd19"
      }
     },
     "7d3b7a5f367c4e50a3ab971c3f63d59f": {
      "model_module": "jupyter-leaflet",
      "model_module_version": "^0.15.0",
      "model_name": "LeafletAwesomeIconModel",
      "state": {
       "_model_module_version": "^0.15.0",
       "_view_module_version": "^0.15.0",
       "icon_color": "white",
       "marker_color": "orange",
       "name": "life-ring"
      }
     },
     "7d5e14f80af24638bfeb52b7df6c3644": {
      "model_module": "@jupyter-widgets/controls",
      "model_module_version": "1.5.0",
      "model_name": "HTMLModel",
      "state": {
       "layout": "IPY_MODEL_e0c3598838434cf5ad28f275812f457e",
       "style": "IPY_MODEL_b38bb284ca2e414191db949fbf6e818c",
       "value": "<table border=\"1\" class=\"dataframe table table-striped table-hover table-condensed table-responsive\">\n  <thead>\n    <tr style=\"text-align: right;\">\n      <th></th>\n      <th>44095</th>\n    </tr>\n  </thead>\n  <tbody>\n    <tr>\n      <th>met</th>\n      <td>0.0</td>\n    </tr>\n    <tr>\n      <th>wave</th>\n      <td>11662.0</td>\n    </tr>\n    <tr>\n      <th>type</th>\n      <td>buoy</td>\n    </tr>\n    <tr>\n      <th>name</th>\n      <td>Oregon Inlet, NC (192)</td>\n    </tr>\n    <tr>\n      <th>pgm</th>\n      <td>IOOS Partners</td>\n    </tr>\n  </tbody>\n</table>"
      }
     },
     "7d9ed9eacfcb444f8fd491b5334cdace": {
      "model_module": "@jupyter-widgets/controls",
      "model_module_version": "1.5.0",
      "model_name": "DescriptionStyleModel",
      "state": {
       "description_width": ""
      }
     },
     "7de82df144cf4d3897512e88d5008a08": {
      "model_module": "@jupyter-widgets/controls",
      "model_module_version": "1.5.0",
      "model_name": "DescriptionStyleModel",
      "state": {
       "description_width": ""
      }
     },
     "7e385e7b708643f6a0c5933cea4834d1": {
      "model_module": "jupyter-leaflet",
      "model_module_version": "^0.17.0",
      "model_name": "LeafletMarkerModel",
      "state": {
       "_model_module_version": "^0.17.0",
       "_view_module_version": "^0.17.0",
       "draggable": false,
       "icon": "IPY_MODEL_8dcf1cca86514cb38a3b68fca7927190",
       "location": [
        41.699,
        -83.259
       ],
       "options": [
        "alt",
        "draggable",
        "keyboard",
        "rise_offset",
        "rise_on_hover",
        "rotation_angle",
        "rotation_origin",
        "title",
        "z_index_offset"
       ],
       "popup": "IPY_MODEL_53034c506f2f47faa7d52a4a2c208a66"
      }
     },
     "7e3f394d932d4333ba206aadb50f100d": {
      "model_module": "@jupyter-widgets/controls",
      "model_module_version": "1.5.0",
      "model_name": "HTMLModel",
      "state": {
       "layout": "IPY_MODEL_383cf48e9f7548f0a21dcdf132515cd1",
       "style": "IPY_MODEL_c2d31f0d310e49a0b251cb6b460f5608",
       "value": "<table border=\"1\" class=\"dataframe table table-striped table-hover table-condensed table-responsive\">\n  <thead>\n    <tr style=\"text-align: right;\">\n      <th></th>\n      <th>rlit2</th>\n    </tr>\n  </thead>\n  <tbody>\n    <tr>\n      <th>met</th>\n      <td>58590.0</td>\n    </tr>\n    <tr>\n      <th>wave</th>\n      <td>0.0</td>\n    </tr>\n    <tr>\n      <th>type</th>\n      <td>fixed</td>\n    </tr>\n    <tr>\n      <th>name</th>\n      <td>8779280 - Realitos Peninsula, TX</td>\n    </tr>\n    <tr>\n      <th>pgm</th>\n      <td>IOOS Partners</td>\n    </tr>\n  </tbody>\n</table>"
      }
     },
     "7efa94c907b4458c8799e7d18172e2fd": {
      "model_module": "@jupyter-widgets/controls",
      "model_module_version": "1.5.0",
      "model_name": "DescriptionStyleModel",
      "state": {
       "description_width": ""
      }
     },
     "7f0208fa48d74e149dbe7709d43e5ac8": {
      "model_module": "@jupyter-widgets/controls",
      "model_module_version": "1.5.0",
      "model_name": "HTMLModel",
      "state": {
       "layout": "IPY_MODEL_be10dd62d30b46628c9dd8fbf14c2d04",
       "style": "IPY_MODEL_365d5639084b43b19e6c21c11df0ac54",
       "value": "<table border=\"1\" class=\"dataframe table table-striped table-hover table-condensed table-responsive\">\n  <thead>\n    <tr style=\"text-align: right;\">\n      <th></th>\n      <th>41037</th>\n    </tr>\n  </thead>\n  <tbody>\n    <tr>\n      <th>met</th>\n      <td>5874.0</td>\n    </tr>\n    <tr>\n      <th>wave</th>\n      <td>0.0</td>\n    </tr>\n    <tr>\n      <th>type</th>\n      <td>buoy</td>\n    </tr>\n    <tr>\n      <th>name</th>\n      <td>Wrightsville Beach Offshore, NC (ILM3)</td>\n    </tr>\n    <tr>\n      <th>pgm</th>\n      <td>IOOS Partners</td>\n    </tr>\n  </tbody>\n</table>"
      }
     },
     "7f09d04deb6344909b9d2797321126e0": {
      "model_module": "@jupyter-widgets/base",
      "model_module_version": "1.2.0",
      "model_name": "LayoutModel",
      "state": {}
     },
     "7f64fb6c8ed14a1e877ccc3275cce16b": {
      "model_module": "@jupyter-widgets/controls",
      "model_module_version": "1.5.0",
      "model_name": "DescriptionStyleModel",
      "state": {
       "description_width": ""
      }
     },
     "7fa72ec340e642689a4dcf8f04f0d997": {
      "model_module": "@jupyter-widgets/base",
      "model_module_version": "1.2.0",
      "model_name": "LayoutModel",
      "state": {}
     },
     "80104706e43c4c4eb304f8b948e34aba": {
      "model_module": "jupyter-leaflet",
      "model_module_version": "^0.17.0",
      "model_name": "LeafletAwesomeIconModel",
      "state": {
       "_model_module_version": "^0.17.0",
       "_view_module_version": "^0.17.0",
       "icon_color": "white",
       "marker_color": "orange",
       "name": "life-ring"
      }
     },
     "805eba6c0057410dad178ab779b14134": {
      "model_module": "@jupyter-widgets/controls",
      "model_module_version": "1.5.0",
      "model_name": "DescriptionStyleModel",
      "state": {
       "description_width": ""
      }
     },
     "80f4489217aa481797d55ace09125fc5": {
      "model_module": "jupyter-leaflet",
      "model_module_version": "^0.15.0",
      "model_name": "LeafletMarkerModel",
      "state": {
       "_model_module_version": "^0.15.0",
       "_view_module_version": "^0.15.0",
       "draggable": false,
       "icon": "IPY_MODEL_df90312924424677965375804726518c",
       "location": [
        30.329,
        -87.829
       ],
       "options": [
        "alt",
        "draggable",
        "keyboard",
        "rise_offset",
        "rise_on_hover",
        "rotation_angle",
        "rotation_origin",
        "title",
        "z_index_offset"
       ],
       "popup": "IPY_MODEL_930dd8a019624fe69cfe047e66e41d0c"
      }
     },
     "81364861bf9e43aea3c930584959dd58": {
      "model_module": "@jupyter-widgets/controls",
      "model_module_version": "1.5.0",
      "model_name": "DescriptionStyleModel",
      "state": {
       "description_width": ""
      }
     },
     "817c4d3ed888468ca3028da1ec8507d1": {
      "model_module": "jupyter-leaflet",
      "model_module_version": "^0.15.0",
      "model_name": "LeafletMarkerModel",
      "state": {
       "_model_module_version": "^0.15.0",
       "_view_module_version": "^0.15.0",
       "draggable": false,
       "icon": "IPY_MODEL_397d0783da414124ac32b85bac911ceb",
       "location": [
        55.34,
        -131.644
       ],
       "options": [
        "alt",
        "draggable",
        "keyboard",
        "rise_offset",
        "rise_on_hover",
        "rotation_angle",
        "rotation_origin",
        "title",
        "z_index_offset"
       ],
       "popup": "IPY_MODEL_f089c5fd344c4452b2ad00540d76a02f"
      }
     },
     "81ac2fcb4de94be4b5e55c329bf03548": {
      "model_module": "jupyter-leaflet",
      "model_module_version": "^0.17.0",
      "model_name": "LeafletMapModel",
      "state": {
       "_model_module_version": "^0.17.0",
       "_view_module_version": "^0.17.0",
       "bottom": 1822,
       "center": [
        35,
        -95
       ],
       "controls": [
        "IPY_MODEL_4bf4c05c939a4ce68902dd3121f24ae0",
        "IPY_MODEL_fc9954a0f6be41299cfe68859b9a17dc",
        "IPY_MODEL_669c6622e7a34f908ead65d0798e2636",
        "IPY_MODEL_9591cdb48a3e41ea95c0a783ec0865be"
       ],
       "default_style": "IPY_MODEL_f2085f3d248f46999668329b64d7a706",
       "dragging_style": "IPY_MODEL_8736a5a7eca845a399f032f48e3ea13e",
       "east": -52.646484375,
       "fullscreen": false,
       "interpolation": "bilinear",
       "layers": [
        "IPY_MODEL_5cb1a0ea4d8d493f974ad925140e49bc",
        "IPY_MODEL_c3e164f7feef41b1acee2df8b7be0597",
        "IPY_MODEL_4f1ab381ddb54b94b196a94a8d5f7d48",
        "IPY_MODEL_c3230d95f6dd4c29b36b2f3ef408b7d2",
        "IPY_MODEL_728fdfb45d6d46829d2672a58e1acd53",
        "IPY_MODEL_fcc43c7749c1462995d092c1fadcf4ad",
        "IPY_MODEL_611469ed758c4a23ba9437a6a0a428d8",
        "IPY_MODEL_0b5a5b7b13454894b38f609f1db95e66",
        "IPY_MODEL_faf3ecfae26d44fbb0b5d70600d935b0",
        "IPY_MODEL_4db0d56bad37417cbd2155970583c41b",
        "IPY_MODEL_bd8f2119b62d4deebe4e3a8559e71e0e",
        "IPY_MODEL_71b019435ba64d6989d14aaefa090d84",
        "IPY_MODEL_0a61ffb3bb834b25a24da723ab51a6b3",
        "IPY_MODEL_357702ddd0354841b52d3a9bbf792f16",
        "IPY_MODEL_4bb3182e01fc4a12a36bdbdd202a95e9",
        "IPY_MODEL_e2becd94c40646d49c9fe0dd55daf8ae",
        "IPY_MODEL_77190c3d11b643b18b6052e1827a4380",
        "IPY_MODEL_baa1d68a8eb94a068950d3e954eeeb96",
        "IPY_MODEL_67c033604a2049ec8dddccabcd566332",
        "IPY_MODEL_30b9b6e04b944abf9a81f70307ceb553",
        "IPY_MODEL_13cdb8f7ed1a4928b6809a72371411ab",
        "IPY_MODEL_a6df8eb5dcc64551973a36f6c7e249b3",
        "IPY_MODEL_f4a2312bac704211a6b952ea301c89c6",
        "IPY_MODEL_a3945d4370c54a1b8c2b1aebcb842a5f",
        "IPY_MODEL_ef73bf3c00db46909d597fb2a97e9e26",
        "IPY_MODEL_1ea95a9a21424f9589abd04ddef104d8",
        "IPY_MODEL_c13fee4ff3434d1ba144237ca9d974ef",
        "IPY_MODEL_41a3887137e34e9dba0e711ba40705bd",
        "IPY_MODEL_7acfa5b7c37549a7a18801f53ee13baa",
        "IPY_MODEL_59d49a6a58674ce4a72e6782d157f637",
        "IPY_MODEL_e604c91da18c4442bafdc013ef0fad70",
        "IPY_MODEL_b5c7a0c59ea84f739cf690ec25705382",
        "IPY_MODEL_94566984506b4a1ba211a86628c338de",
        "IPY_MODEL_7a2b3b07724d434d84d40cd5a5690cc8",
        "IPY_MODEL_ec755c9a4c1d4eb0a92bab411ba86e26",
        "IPY_MODEL_44980d82ca9a4d92b7f255172eed92d1",
        "IPY_MODEL_8768736ea96b45c795e05a9a681c0a21",
        "IPY_MODEL_ce3e3d0b9d2f4125913a32d886566a18",
        "IPY_MODEL_a711c3c9d0564158917d475aea8ca96e",
        "IPY_MODEL_effc375fd80f4e9d8c62631168dd5210",
        "IPY_MODEL_444a579606eb4247ab31eae2da3b977d",
        "IPY_MODEL_09c6e589426e4ae49e77d964794cb266",
        "IPY_MODEL_afb1ce3b91ff4b70b8e025e618ae091e",
        "IPY_MODEL_cf69e944fa07468f82f2206b5cbd2c3e",
        "IPY_MODEL_155a04baa2ac48cc9563e9b583161939",
        "IPY_MODEL_747cf120725d4e27a8cae2b51f3e42e6",
        "IPY_MODEL_2b23c6eadcf043bd831a66117d56454a",
        "IPY_MODEL_4af5663ccd994487a49b9e0041f7b09e",
        "IPY_MODEL_0003a619928d4b5285193da5828ccc98",
        "IPY_MODEL_50ed8f06b58546cdbac5a3612474a962",
        "IPY_MODEL_0130133617f241be8915268a397e94fb",
        "IPY_MODEL_a9a9e276cf86491fbe2b40f9b36baa0d",
        "IPY_MODEL_7cfb23b49b5d444b9aa28d9d742b6b71",
        "IPY_MODEL_6827281d4f054df59ab28389c9c8ea36",
        "IPY_MODEL_08c1bbf722c54193bb35b9967871970e",
        "IPY_MODEL_c2de8a3a45e6426a8a9f0c9c7c23ea19",
        "IPY_MODEL_63131f0286d848ada410cad716cbbf25",
        "IPY_MODEL_28813b1b942b49d887a25362701d58fc",
        "IPY_MODEL_262fb6f5a98d4ab2be1c2cd0123e1f77",
        "IPY_MODEL_a4ea2bdf47904b938beb368d7e0ba6a0",
        "IPY_MODEL_71c35a70782e44678ac7ec475af32987",
        "IPY_MODEL_361c6cdef0e349159e3083b7cb093fed",
        "IPY_MODEL_47cf76cc3d5b411b8b6ac65d3090541e",
        "IPY_MODEL_7a54741f79404c369d6867eb9a9b04c8",
        "IPY_MODEL_e15f0247f3d64e0eb46141457ee817fc",
        "IPY_MODEL_6d8067cdb43049a880304e19756fbbbd",
        "IPY_MODEL_07cabf72eeaa4d84b58e2028d8e44a6b",
        "IPY_MODEL_8b8d63c3fdef4cc99c39a2ab4e9087f4",
        "IPY_MODEL_e428d3c9cc4348a49ddc83602b9adb26",
        "IPY_MODEL_fc1d70a088554f5db5e5b3d5902c47f5",
        "IPY_MODEL_9cba0b22ebe0435f8642faa2871a5dee",
        "IPY_MODEL_ef62ba2e64ab4f96a78365f20bba531c",
        "IPY_MODEL_f9564f3974be49dbb07b7d5bfc0414bd",
        "IPY_MODEL_53d876cb76f6486284f3edc50ed23690",
        "IPY_MODEL_1597ed5f08644f13906967162fb68c8a",
        "IPY_MODEL_2def80d54cef42a9a8edddc600e2e663",
        "IPY_MODEL_9250956e9ed540d0a71b8f46b4438db4",
        "IPY_MODEL_080fe234d1eb471688de68bc4e3d8dd7",
        "IPY_MODEL_d0c332e7ac134c488678053a3b5baced",
        "IPY_MODEL_6052deeb19374874976dbf512ec3eaa1",
        "IPY_MODEL_2aab177a9e8c43868f92b097e627f140",
        "IPY_MODEL_72668759af784685a33f2591f67a53c2",
        "IPY_MODEL_2f4feea262cc449b804a9c6c159e1be0",
        "IPY_MODEL_d0def619bc264bad99c9fc7466795f0b",
        "IPY_MODEL_4e8bd8004b654bc1a3ff476e01932de5",
        "IPY_MODEL_486b7ec5368f488284043e436d574bda",
        "IPY_MODEL_a289460dc0e14e1cbfa9a7ed786d820d",
        "IPY_MODEL_0a035f9254a34ed0b00cfab3ea4ec7a2",
        "IPY_MODEL_1c6efd0836f041fea074a2dd1d1bfe10",
        "IPY_MODEL_0fdca838a2854effb24b92e0c32c5f5a",
        "IPY_MODEL_41061f5d0821433ca87d410c54482b15",
        "IPY_MODEL_5bd176a90ee142b7aaa3c40b8ccec3bd",
        "IPY_MODEL_ebc0528b37f644f7b721bb9f37f41937",
        "IPY_MODEL_60734dabefbb4d788d734fce51d06409",
        "IPY_MODEL_62733696360b4216a88b57bc63fcf1da",
        "IPY_MODEL_b1d36101d1f74fe79b7770350f6df880",
        "IPY_MODEL_4d8fc5198b244c36b7ff5d3db7e425af",
        "IPY_MODEL_4a6bd5534720409c879c83033d7a0292",
        "IPY_MODEL_85b7ea9c9293436cb3213162b08754cb",
        "IPY_MODEL_beda2ec15a7f4297881450720750e6b6",
        "IPY_MODEL_47d55be7bf7f4f7d97c1c81f35b408c2",
        "IPY_MODEL_f4701f7bfdcc42e19512f5ee3be92668",
        "IPY_MODEL_7b63448885d94e9db3258b04c16a6539",
        "IPY_MODEL_1870adefa4274b78ad4e6be3b22854e9",
        "IPY_MODEL_23d57395776c4425bc6a3e017e18dedd",
        "IPY_MODEL_76b22888a8594ee5afa7b9915da07910",
        "IPY_MODEL_390fab1d4dbf42c6a84931f411d99a63",
        "IPY_MODEL_f729f53505c841ebb3405ae063213051",
        "IPY_MODEL_26020c6b49e24bd5b06fc3215cef3f08",
        "IPY_MODEL_2959ffe7b1ef4d4584cc96d7e2ab8844",
        "IPY_MODEL_66c64e477a194877b71e5c16c80fbc3c",
        "IPY_MODEL_fcc352450af643ae94fd721c11d8ef24",
        "IPY_MODEL_88cc2ece8c9b4f5f809fc9fca581e34b",
        "IPY_MODEL_96bef44cc8bd4dbaaf66760a807b87a0",
        "IPY_MODEL_022ab300cef84e94bc24d2a0dac91f82",
        "IPY_MODEL_011bbc5a7dce4c4f8ee27a58e176e844",
        "IPY_MODEL_9e5d98dc5da64ba9b8467225c6846cb3",
        "IPY_MODEL_acd560263d3c40f095b049b5fe64bf64",
        "IPY_MODEL_37363b3d281d464b893fa1f0a35ef143",
        "IPY_MODEL_824102a9822d4efcab7f618ef2b27a36",
        "IPY_MODEL_d176e0a1f0a04444850b59df927aa9ac",
        "IPY_MODEL_a4e6732f6ce048549ea5c73f0ab41467",
        "IPY_MODEL_b77208555f3744d5aeb1392a01c5370c",
        "IPY_MODEL_314c845f6d6d407e9ae5b784c788c7e1",
        "IPY_MODEL_78bcdf4db82b4b17a2f56eab6e5a307e",
        "IPY_MODEL_32b323a7dce04bdbaf2a8b4085008c9a",
        "IPY_MODEL_63a82eade9ce402aaf4660ad395486c9",
        "IPY_MODEL_0cbaf6c52acf4aec9d77a98ce96a91da",
        "IPY_MODEL_f07d5641f3a74916bf84f185b96c934a",
        "IPY_MODEL_d5992b8a049e42b7aa0fc64432af80bf",
        "IPY_MODEL_90f2ca1fa68149ebb8d83b13c68085c2",
        "IPY_MODEL_7e385e7b708643f6a0c5933cea4834d1",
        "IPY_MODEL_687c584528db43b1b89d1b610a477f5f",
        "IPY_MODEL_4ea9aef1d4c34c55acdec62a98e13e27"
       ],
       "layout": "IPY_MODEL_ae89a1c972eb4c6eb663bb6b24e2be9e",
       "left": 486,
       "modisdate": "2022-07-25",
       "north": 48.10743118848039,
       "options": [
        "bounce_at_zoom_limits",
        "box_zoom",
        "center",
        "close_popup_on_click",
        "double_click_zoom",
        "dragging",
        "fullscreen",
        "inertia",
        "inertia_deceleration",
        "inertia_max_speed",
        "interpolation",
        "keyboard",
        "keyboard_pan_offset",
        "keyboard_zoom_offset",
        "max_zoom",
        "min_zoom",
        "prefer_canvas",
        "scroll_wheel_zoom",
        "tap",
        "tap_tolerance",
        "touch_zoom",
        "world_copy_jump",
        "zoom",
        "zoom_animation_threshold",
        "zoom_delta",
        "zoom_snap"
       ],
       "prefer_canvas": false,
       "right": 1449,
       "south": 19.476950206488414,
       "style": "IPY_MODEL_24ffa3e894974774b44a17270e24f500",
       "top": 1422,
       "west": -137.28515625000003,
       "window_url": "http://127.0.0.1:8888/notebooks/jupyterbook/content/code_gallery/data_access_notebooks/2020-10-10-GTS.ipynb",
       "zoom": 4
      }
     },
     "81b997a354644c1dbe1684e8a5328622": {
      "model_module": "@jupyter-widgets/controls",
      "model_module_version": "1.5.0",
      "model_name": "DescriptionStyleModel",
      "state": {
       "description_width": ""
      }
     },
     "81d420a7683d42cf82d5671a3394c174": {
      "model_module": "@jupyter-widgets/controls",
      "model_module_version": "1.5.0",
      "model_name": "HTMLModel",
      "state": {
       "layout": "IPY_MODEL_7ad68f38c337430cbed45fdc581ecfd4",
       "style": "IPY_MODEL_a16481e7e11e4dc384387134e261f51e",
       "value": "<table border=\"1\" class=\"dataframe table table-striped table-hover table-condensed table-responsive\">\n  <thead>\n    <tr style=\"text-align: right;\">\n      <th></th>\n      <th>tkea2</th>\n    </tr>\n  </thead>\n  <tbody>\n    <tr>\n      <th>met</th>\n      <td>34168.0</td>\n    </tr>\n    <tr>\n      <th>wave</th>\n      <td>0.0</td>\n    </tr>\n    <tr>\n      <th>type</th>\n      <td>fixed</td>\n    </tr>\n    <tr>\n      <th>name</th>\n      <td>Tenakee Springs, AK</td>\n    </tr>\n    <tr>\n      <th>pgm</th>\n      <td>IOOS Partners</td>\n    </tr>\n  </tbody>\n</table>"
      }
     },
     "81d4fb5f23364d6d921e1dadd0088c7e": {
      "model_module": "@jupyter-widgets/controls",
      "model_module_version": "1.5.0",
      "model_name": "HTMLModel",
      "state": {
       "layout": "IPY_MODEL_7b06d3a8231141bfb02536ceb90cb347",
       "style": "IPY_MODEL_b611f4d54f164d8c8c129d46021b62a0",
       "value": "<table border=\"1\" class=\"dataframe table table-striped table-hover table-condensed table-responsive\">\n  <thead>\n    <tr style=\"text-align: right;\">\n      <th></th>\n      <th>41038</th>\n    </tr>\n  </thead>\n  <tbody>\n    <tr>\n      <th>met</th>\n      <td>5858.0</td>\n    </tr>\n    <tr>\n      <th>wave</th>\n      <td>0.0</td>\n    </tr>\n    <tr>\n      <th>type</th>\n      <td>buoy</td>\n    </tr>\n    <tr>\n      <th>name</th>\n      <td>Wrightsville Beach Nearshore, NC (ILM2)</td>\n    </tr>\n    <tr>\n      <th>pgm</th>\n      <td>IOOS Partners</td>\n    </tr>\n  </tbody>\n</table>"
      }
     },
     "81fbe45bfbdf4b669f06f3c29b8ab88c": {
      "model_module": "@jupyter-widgets/base",
      "model_module_version": "1.2.0",
      "model_name": "LayoutModel",
      "state": {}
     },
     "82172298cfa74100849e48d46265c2bd": {
      "model_module": "@jupyter-widgets/controls",
      "model_module_version": "1.5.0",
      "model_name": "DescriptionStyleModel",
      "state": {
       "description_width": ""
      }
     },
     "824102a9822d4efcab7f618ef2b27a36": {
      "model_module": "jupyter-leaflet",
      "model_module_version": "^0.17.0",
      "model_name": "LeafletMarkerModel",
      "state": {
       "_model_module_version": "^0.17.0",
       "_view_module_version": "^0.17.0",
       "draggable": false,
       "icon": "IPY_MODEL_fb16ffb7051e448280d2724ef31ac5ed",
       "location": [
        58.205,
        -134.646
       ],
       "options": [
        "alt",
        "draggable",
        "keyboard",
        "rise_offset",
        "rise_on_hover",
        "rotation_angle",
        "rotation_origin",
        "title",
        "z_index_offset"
       ],
       "popup": "IPY_MODEL_3c63e296c54a42cd90aad614d6755668"
      }
     },
     "824c75f1081846479d8b7d986675f7da": {
      "model_module": "@jupyter-widgets/base",
      "model_module_version": "1.2.0",
      "model_name": "LayoutModel",
      "state": {}
     },
     "825263e72318408d8cf6ab957ab1126b": {
      "model_module": "@jupyter-widgets/base",
      "model_module_version": "1.2.0",
      "model_name": "LayoutModel",
      "state": {}
     },
     "825a365995784096a6d439e605149551": {
      "model_module": "@jupyter-widgets/base",
      "model_module_version": "1.2.0",
      "model_name": "LayoutModel",
      "state": {}
     },
     "82b2a07ca08a456b834b4ace29067ae5": {
      "model_module": "jupyter-leaflet",
      "model_module_version": "^0.15.0",
      "model_name": "LeafletAwesomeIconModel",
      "state": {
       "_model_module_version": "^0.15.0",
       "_view_module_version": "^0.15.0",
       "icon_color": "white",
       "marker_color": "red",
       "name": "life-ring"
      }
     },
     "82c125cf5052441f981890869cf0c1ac": {
      "model_module": "@jupyter-widgets/base",
      "model_module_version": "1.2.0",
      "model_name": "LayoutModel",
      "state": {}
     },
     "82e5c723b34c45658c0b304ebedfe54a": {
      "model_module": "@jupyter-widgets/controls",
      "model_module_version": "1.5.0",
      "model_name": "HTMLModel",
      "state": {
       "layout": "IPY_MODEL_e849b44bde4e40478ea08c83c45d12be",
       "style": "IPY_MODEL_62637452e38a4ca781b3e94c48b35345",
       "value": "<table border=\"1\" class=\"dataframe table table-striped table-hover table-condensed table-responsive\">\n  <thead>\n    <tr style=\"text-align: right;\">\n      <th></th>\n      <th>41064</th>\n    </tr>\n  </thead>\n  <tbody>\n    <tr>\n      <th>met</th>\n      <td>5846.0</td>\n    </tr>\n    <tr>\n      <th>wave</th>\n      <td>0.0</td>\n    </tr>\n    <tr>\n      <th>type</th>\n      <td>buoy</td>\n    </tr>\n    <tr>\n      <th>name</th>\n      <td>Onslow Bay Outer, NC (LEJ3)</td>\n    </tr>\n    <tr>\n      <th>pgm</th>\n      <td>IOOS Partners</td>\n    </tr>\n  </tbody>\n</table>"
      }
     },
     "830a213d249143fdab46463e446d9038": {
      "model_module": "jupyter-leaflet",
      "model_module_version": "^0.15.0",
      "model_name": "LeafletAwesomeIconModel",
      "state": {
       "_model_module_version": "^0.15.0",
       "_view_module_version": "^0.15.0",
       "icon_color": "white",
       "marker_color": "orange",
       "name": "life-ring"
      }
     },
     "8318524434b243459d4d26dc1e02b3e2": {
      "model_module": "@jupyter-widgets/controls",
      "model_module_version": "1.5.0",
      "model_name": "HTMLModel",
      "state": {
       "layout": "IPY_MODEL_cada9ebeedb74715a721c425784c45e4",
       "style": "IPY_MODEL_cd20cace2993490f9f788f668b3535dc",
       "value": "<table border=\"1\" class=\"dataframe table table-striped table-hover table-condensed table-responsive\">\n  <thead>\n    <tr style=\"text-align: right;\">\n      <th></th>\n      <th>51202</th>\n    </tr>\n  </thead>\n  <tbody>\n    <tr>\n      <th>met</th>\n      <td>0.0</td>\n    </tr>\n    <tr>\n      <th>wave</th>\n      <td>1622.0</td>\n    </tr>\n    <tr>\n      <th>type</th>\n      <td>buoy</td>\n    </tr>\n    <tr>\n      <th>name</th>\n      <td>Mokapu Point, HI (098)</td>\n    </tr>\n    <tr>\n      <th>pgm</th>\n      <td>IOOS Partners</td>\n    </tr>\n  </tbody>\n</table>"
      }
     },
     "834376bd8dd0438bb453846b74c28cc2": {
      "model_module": "@jupyter-widgets/base",
      "model_module_version": "1.2.0",
      "model_name": "LayoutModel",
      "state": {}
     },
     "83a44b59ea4a4b51983b4a69f9c4e268": {
      "model_module": "@jupyter-widgets/controls",
      "model_module_version": "1.5.0",
      "model_name": "DescriptionStyleModel",
      "state": {
       "description_width": ""
      }
     },
     "83c889e8d8384cfca868572591b91f29": {
      "model_module": "@jupyter-widgets/controls",
      "model_module_version": "1.5.0",
      "model_name": "DescriptionStyleModel",
      "state": {
       "description_width": ""
      }
     },
     "83e333fbf20a49a4b6f745da78f9dfa1": {
      "model_module": "@jupyter-widgets/base",
      "model_module_version": "1.2.0",
      "model_name": "LayoutModel",
      "state": {}
     },
     "841dec4fda384c2e9082018ea261cc68": {
      "model_module": "@jupyter-widgets/base",
      "model_module_version": "1.2.0",
      "model_name": "LayoutModel",
      "state": {}
     },
     "8429a09a91e44460981cbb67b8a6b797": {
      "model_module": "jupyter-leaflet",
      "model_module_version": "^0.15.0",
      "model_name": "LeafletMarkerModel",
      "state": {
       "_model_module_version": "^0.15.0",
       "_view_module_version": "^0.15.0",
       "draggable": false,
       "icon": "IPY_MODEL_4d7ba79ffb6545328d5f0bcc937e2f23",
       "location": [
        34.141,
        -77.715
       ],
       "options": [
        "alt",
        "draggable",
        "keyboard",
        "rise_offset",
        "rise_on_hover",
        "rotation_angle",
        "rotation_origin",
        "title",
        "z_index_offset"
       ],
       "popup": "IPY_MODEL_4c7a7bdd727c459b86fa5ccc52fa6710"
      }
     },
     "846bd3942b2a416e9a341488769de864": {
      "model_module": "jupyter-leaflet",
      "model_module_version": "^0.15.0",
      "model_name": "LeafletMarkerModel",
      "state": {
       "_model_module_version": "^0.15.0",
       "_view_module_version": "^0.15.0",
       "draggable": false,
       "icon": "IPY_MODEL_e67afebf327746048f328733ac72dad5",
       "location": [
        27.84,
        -97.072
       ],
       "options": [
        "alt",
        "draggable",
        "keyboard",
        "rise_offset",
        "rise_on_hover",
        "rotation_angle",
        "rotation_origin",
        "title",
        "z_index_offset"
       ],
       "popup": "IPY_MODEL_78bce01de9c548cdb5f55d926625d084"
      }
     },
     "849d40de3060430bbf3ce13584e1e5f7": {
      "model_module": "@jupyter-widgets/base",
      "model_module_version": "1.2.0",
      "model_name": "LayoutModel",
      "state": {}
     },
     "85b7ea9c9293436cb3213162b08754cb": {
      "model_module": "jupyter-leaflet",
      "model_module_version": "^0.17.0",
      "model_name": "LeafletMarkerModel",
      "state": {
       "_model_module_version": "^0.17.0",
       "_view_module_version": "^0.17.0",
       "draggable": false,
       "icon": "IPY_MODEL_17a7881be85646c7a834945ffb3591a6",
       "location": [
        58.364,
        -134.606
       ],
       "options": [
        "alt",
        "draggable",
        "keyboard",
        "rise_offset",
        "rise_on_hover",
        "rotation_angle",
        "rotation_origin",
        "title",
        "z_index_offset"
       ],
       "popup": "IPY_MODEL_214adf88c07b4e009c02ec91243a5634"
      }
     },
     "86301efc5e0d44abb77dbc0a3449fd19": {
      "model_module": "@jupyter-widgets/controls",
      "model_module_version": "1.5.0",
      "model_name": "HTMLModel",
      "state": {
       "layout": "IPY_MODEL_4f8a7ee200ab42e68b8993b7c3fecce6",
       "style": "IPY_MODEL_706836e89230452391863281c39328c7",
       "value": "<table border=\"1\" class=\"dataframe table table-striped table-hover table-condensed table-responsive\">\n  <thead>\n    <tr style=\"text-align: right;\">\n      <th></th>\n      <th>46253</th>\n    </tr>\n  </thead>\n  <tbody>\n    <tr>\n      <th>met</th>\n      <td>0.0</td>\n    </tr>\n    <tr>\n      <th>wave</th>\n      <td>11738.0</td>\n    </tr>\n    <tr>\n      <th>type</th>\n      <td>buoy</td>\n    </tr>\n    <tr>\n      <th>name</th>\n      <td>San Pedro South, CA (213)</td>\n    </tr>\n    <tr>\n      <th>pgm</th>\n      <td>IOOS Partners</td>\n    </tr>\n  </tbody>\n</table>"
      }
     },
     "86513cb62c5e457098a103fa12c23acb": {
      "model_module": "@jupyter-widgets/controls",
      "model_module_version": "1.5.0",
      "model_name": "DescriptionStyleModel",
      "state": {
       "description_width": ""
      }
     },
     "8667a3167f114b1880f91077d3736d52": {
      "model_module": "@jupyter-widgets/controls",
      "model_module_version": "1.5.0",
      "model_name": "DescriptionStyleModel",
      "state": {
       "description_width": ""
      }
     },
     "867198fbe3c54f228cdde5eb6d364629": {
      "model_module": "@jupyter-widgets/base",
      "model_module_version": "1.2.0",
      "model_name": "LayoutModel",
      "state": {}
     },
     "8677f5f2fc44415f9aca77d7469460d4": {
      "model_module": "@jupyter-widgets/controls",
      "model_module_version": "1.5.0",
      "model_name": "HTMLModel",
      "state": {
       "layout": "IPY_MODEL_3d90fedc905f4bed96116ef9c625af90",
       "style": "IPY_MODEL_0794f33266bc4dd1ae4d7366a21483d1",
       "value": "<table border=\"1\" class=\"dataframe table table-striped table-hover table-condensed table-responsive\">\n  <thead>\n    <tr style=\"text-align: right;\">\n      <th></th>\n      <th>bsca1</th>\n    </tr>\n  </thead>\n  <tbody>\n    <tr>\n      <th>met</th>\n      <td>3854.0</td>\n    </tr>\n    <tr>\n      <th>wave</th>\n      <td>0.0</td>\n    </tr>\n    <tr>\n      <th>type</th>\n      <td>fixed</td>\n    </tr>\n    <tr>\n      <th>name</th>\n      <td>Bon Secour, AL</td>\n    </tr>\n    <tr>\n      <th>pgm</th>\n      <td>IOOS Partners</td>\n    </tr>\n  </tbody>\n</table>"
      }
     },
     "869af6bbbf2440d393ed1017b6bd05dd": {
      "model_module": "@jupyter-widgets/controls",
      "model_module_version": "1.5.0",
      "model_name": "HTMLModel",
      "state": {
       "layout": "IPY_MODEL_b8c845ba5be8413b914e40e5cd10d7ce",
       "style": "IPY_MODEL_ce778e565e03476387d4c64cb94c10a7",
       "value": "<table border=\"1\" class=\"dataframe table table-striped table-hover table-condensed table-responsive\">\n  <thead>\n    <tr style=\"text-align: right;\">\n      <th></th>\n      <th>42022</th>\n    </tr>\n  </thead>\n  <tbody>\n    <tr>\n      <th>met</th>\n      <td>11744.0</td>\n    </tr>\n    <tr>\n      <th>wave</th>\n      <td>0.0</td>\n    </tr>\n    <tr>\n      <th>type</th>\n      <td>buoy</td>\n    </tr>\n    <tr>\n      <th>name</th>\n      <td>C12 - WFS Central Buoy, 50m Isobath</td>\n    </tr>\n    <tr>\n      <th>pgm</th>\n      <td>IOOS Partners</td>\n    </tr>\n  </tbody>\n</table>"
      }
     },
     "86f3f2b7087046d18eb0477e5d02633b": {
      "model_module": "@jupyter-widgets/controls",
      "model_module_version": "1.5.0",
      "model_name": "DescriptionStyleModel",
      "state": {
       "description_width": ""
      }
     },
     "8736a5a7eca845a399f032f48e3ea13e": {
      "model_module": "jupyter-leaflet",
      "model_module_version": "^0.17.0",
      "model_name": "LeafletMapStyleModel",
      "state": {
       "_model_module_version": "^0.17.0",
       "cursor": "move"
      }
     },
     "873819b5866c46c2a0f20de6617c5907": {
      "model_module": "@jupyter-widgets/controls",
      "model_module_version": "1.5.0",
      "model_name": "HTMLModel",
      "state": {
       "layout": "IPY_MODEL_6de089486adb48e399d1106780aeaade",
       "style": "IPY_MODEL_e665b2b3be5a4dd0b03b1bc3fc684d23",
       "value": "<table border=\"1\" class=\"dataframe table table-striped table-hover table-condensed table-responsive\">\n  <thead>\n    <tr style=\"text-align: right;\">\n      <th></th>\n      <th>42022</th>\n    </tr>\n  </thead>\n  <tbody>\n    <tr>\n      <th>met</th>\n      <td>11744.0</td>\n    </tr>\n    <tr>\n      <th>wave</th>\n      <td>0.0</td>\n    </tr>\n    <tr>\n      <th>type</th>\n      <td>buoy</td>\n    </tr>\n    <tr>\n      <th>name</th>\n      <td>C12 - WFS Central Buoy, 50m Isobath</td>\n    </tr>\n    <tr>\n      <th>pgm</th>\n      <td>IOOS Partners</td>\n    </tr>\n  </tbody>\n</table>"
      }
     },
     "8768736ea96b45c795e05a9a681c0a21": {
      "model_module": "jupyter-leaflet",
      "model_module_version": "^0.17.0",
      "model_name": "LeafletMarkerModel",
      "state": {
       "_model_module_version": "^0.17.0",
       "_view_module_version": "^0.17.0",
       "draggable": false,
       "icon": "IPY_MODEL_9649620b467c4382963582b22486b996",
       "location": [
        41.982,
        -86.619
       ],
       "options": [
        "alt",
        "draggable",
        "keyboard",
        "rise_offset",
        "rise_on_hover",
        "rotation_angle",
        "rotation_origin",
        "title",
        "z_index_offset"
       ],
       "popup": "IPY_MODEL_04372f5f31fe485faa188fd4986f7d85"
      }
     },
     "8789a932497d4e4db96e5703397b8e79": {
      "model_module": "@jupyter-widgets/controls",
      "model_module_version": "1.5.0",
      "model_name": "DescriptionStyleModel",
      "state": {
       "description_width": ""
      }
     },
     "87cb84896a944457815f1dad196d3637": {
      "model_module": "@jupyter-widgets/base",
      "model_module_version": "1.2.0",
      "model_name": "LayoutModel",
      "state": {}
     },
     "87f40df2d9e64235bba395a14440031f": {
      "model_module": "@jupyter-widgets/controls",
      "model_module_version": "1.5.0",
      "model_name": "HTMLModel",
      "state": {
       "layout": "IPY_MODEL_3dd43823c72e40cba15b4c34fb5983cf",
       "style": "IPY_MODEL_05188ed68cfc450c900226a0ad582d6f",
       "value": "<table border=\"1\" class=\"dataframe table table-striped table-hover table-condensed table-responsive\">\n  <thead>\n    <tr style=\"text-align: right;\">\n      <th></th>\n      <th>rlot2</th>\n    </tr>\n  </thead>\n  <tbody>\n    <tr>\n      <th>met</th>\n      <td>58756.0</td>\n    </tr>\n    <tr>\n      <th>wave</th>\n      <td>0.0</td>\n    </tr>\n    <tr>\n      <th>type</th>\n      <td>fixed</td>\n    </tr>\n    <tr>\n      <th>name</th>\n      <td>8770971 - Rollover Pass, TX</td>\n    </tr>\n    <tr>\n      <th>pgm</th>\n      <td>IOOS Partners</td>\n    </tr>\n  </tbody>\n</table>"
      }
     },
     "88797af9a19844fa9b0edf0586063e39": {
      "model_module": "jupyter-leaflet",
      "model_module_version": "^0.15.0",
      "model_name": "LeafletAwesomeIconModel",
      "state": {
       "_model_module_version": "^0.15.0",
       "_view_module_version": "^0.15.0",
       "icon_color": "white",
       "marker_color": "green",
       "name": "life-ring"
      }
     },
     "888aa5e9855c456fb11c842ef03e6eb9": {
      "model_module": "jupyter-leaflet",
      "model_module_version": "^0.15.0",
      "model_name": "LeafletMarkerModel",
      "state": {
       "_model_module_version": "^0.15.0",
       "_view_module_version": "^0.15.0",
       "draggable": false,
       "icon": "IPY_MODEL_14be5f9adf1b4b8b998043ec359b68b5",
       "location": [
        27.173,
        -82.924
       ],
       "options": [
        "alt",
        "draggable",
        "keyboard",
        "rise_offset",
        "rise_on_hover",
        "rotation_angle",
        "rotation_origin",
        "title",
        "z_index_offset"
       ],
       "popup": "IPY_MODEL_3105715a84954069ac5825c0cf0f6304"
      }
     },
     "88a436a6e59a4fe5b6d9a8cb6731d7ca": {
      "model_module": "jupyter-leaflet",
      "model_module_version": "^0.17.0",
      "model_name": "LeafletAwesomeIconModel",
      "state": {
       "_model_module_version": "^0.17.0",
       "_view_module_version": "^0.17.0",
       "icon_color": "white",
       "marker_color": "red",
       "name": "life-ring"
      }
     },
     "88cc2ece8c9b4f5f809fc9fca581e34b": {
      "model_module": "jupyter-leaflet",
      "model_module_version": "^0.17.0",
      "model_name": "LeafletMarkerModel",
      "state": {
       "_model_module_version": "^0.17.0",
       "_view_module_version": "^0.17.0",
       "draggable": false,
       "icon": "IPY_MODEL_2cb06b36cec049c984e3782c1a7b4d87",
       "location": [
        58.346,
        -134.752
       ],
       "options": [
        "alt",
        "draggable",
        "keyboard",
        "rise_offset",
        "rise_on_hover",
        "rotation_angle",
        "rotation_origin",
        "title",
        "z_index_offset"
       ],
       "popup": "IPY_MODEL_1dcb5986ceb64778a8ce65462af49a28"
      }
     },
     "88cd362fdb394280a79a75adcba54680": {
      "model_module": "jupyter-leaflet",
      "model_module_version": "^0.17.0",
      "model_name": "LeafletAwesomeIconModel",
      "state": {
       "_model_module_version": "^0.17.0",
       "_view_module_version": "^0.17.0",
       "icon_color": "white",
       "marker_color": "orange",
       "name": "life-ring"
      }
     },
     "88e1abd8a6474d329b4c7efa0d20c457": {
      "model_module": "@jupyter-widgets/controls",
      "model_module_version": "1.5.0",
      "model_name": "DescriptionStyleModel",
      "state": {
       "description_width": ""
      }
     },
     "88f448ac318e467e94623ade583f0354": {
      "model_module": "jupyter-leaflet",
      "model_module_version": "^0.15.0",
      "model_name": "LeafletAwesomeIconModel",
      "state": {
       "_model_module_version": "^0.15.0",
       "_view_module_version": "^0.15.0",
       "icon_color": "white",
       "marker_color": "orange",
       "name": "life-ring"
      }
     },
     "8922397ad9bb4eb8a1a0a4dcb9297d05": {
      "model_module": "jupyter-leaflet",
      "model_module_version": "^0.15.0",
      "model_name": "LeafletAwesomeIconModel",
      "state": {
       "_model_module_version": "^0.15.0",
       "_view_module_version": "^0.15.0",
       "icon_color": "white",
       "marker_color": "orange",
       "name": "life-ring"
      }
     },
     "895ecf368a4f4ac59d63b10ee6f2ae78": {
      "model_module": "jupyter-leaflet",
      "model_module_version": "^0.15.0",
      "model_name": "LeafletAwesomeIconModel",
      "state": {
       "_model_module_version": "^0.15.0",
       "_view_module_version": "^0.15.0",
       "icon_color": "white",
       "marker_color": "green",
       "name": "life-ring"
      }
     },
     "8980661096df407a962668dc5ad25842": {
      "model_module": "@jupyter-widgets/controls",
      "model_module_version": "1.5.0",
      "model_name": "DescriptionStyleModel",
      "state": {
       "description_width": ""
      }
     },
     "898b7ea27e224dc78c9d5ad160b4933e": {
      "model_module": "jupyter-leaflet",
      "model_module_version": "^0.17.0",
      "model_name": "LeafletAwesomeIconModel",
      "state": {
       "_model_module_version": "^0.17.0",
       "_view_module_version": "^0.17.0",
       "icon_color": "white",
       "marker_color": "green",
       "name": "life-ring"
      }
     },
     "8a0ac7ced5664b969432464da8970818": {
      "model_module": "@jupyter-widgets/controls",
      "model_module_version": "1.5.0",
      "model_name": "HTMLModel",
      "state": {
       "layout": "IPY_MODEL_6f72c23150344004bfc143cb1b2d7c3e",
       "style": "IPY_MODEL_8d294c049c96451b8a5f22643012d17c",
       "value": "<table border=\"1\" class=\"dataframe table table-striped table-hover table-condensed table-responsive\">\n  <thead>\n    <tr style=\"text-align: right;\">\n      <th></th>\n      <th>rsjt2</th>\n    </tr>\n  </thead>\n  <tbody>\n    <tr>\n      <th>met</th>\n      <td>58666.0</td>\n    </tr>\n    <tr>\n      <th>wave</th>\n      <td>0.0</td>\n    </tr>\n    <tr>\n      <th>type</th>\n      <td>fixed</td>\n    </tr>\n    <tr>\n      <th>name</th>\n      <td>8777812 - Rincon del San Jose, TX</td>\n    </tr>\n    <tr>\n      <th>pgm</th>\n      <td>IOOS Partners</td>\n    </tr>\n  </tbody>\n</table>"
      }
     },
     "8a24a8d6af1f415bbf930cfc8a36662b": {
      "model_module": "jupyter-leaflet",
      "model_module_version": "^0.15.0",
      "model_name": "LeafletMarkerModel",
      "state": {
       "_model_module_version": "^0.15.0",
       "_view_module_version": "^0.15.0",
       "draggable": false,
       "icon": "IPY_MODEL_5d347fd92e3749f1a0e1e53d0d094b8e",
       "location": [
        34.213,
        -76.949
       ],
       "options": [
        "alt",
        "draggable",
        "keyboard",
        "rise_offset",
        "rise_on_hover",
        "rotation_angle",
        "rotation_origin",
        "title",
        "z_index_offset"
       ],
       "popup": "IPY_MODEL_d330bdeab44145d4838cb7bff87af679"
      }
     },
     "8a9c9b20d9244905a8a32bff8546b63f": {
      "model_module": "@jupyter-widgets/base",
      "model_module_version": "1.2.0",
      "model_name": "LayoutModel",
      "state": {}
     },
     "8adedf96fc984281bfe48a3dc9e169fe": {
      "model_module": "@jupyter-widgets/controls",
      "model_module_version": "1.5.0",
      "model_name": "HTMLModel",
      "state": {
       "layout": "IPY_MODEL_a80be712502c4b2aa0dda79df9f0a99f",
       "style": "IPY_MODEL_a58a835beb3e4f3da88b54edd56cb0d5",
       "value": "<table border=\"1\" class=\"dataframe table table-striped table-hover table-condensed table-responsive\">\n  <thead>\n    <tr style=\"text-align: right;\">\n      <th></th>\n      <th>45187</th>\n    </tr>\n  </thead>\n  <tbody>\n    <tr>\n      <th>met</th>\n      <td>17722.0</td>\n    </tr>\n    <tr>\n      <th>wave</th>\n      <td>32460.0</td>\n    </tr>\n    <tr>\n      <th>type</th>\n      <td>buoy</td>\n    </tr>\n    <tr>\n      <th>name</th>\n      <td>Winthrop Harbor Buoy, IL</td>\n    </tr>\n    <tr>\n      <th>pgm</th>\n      <td>IOOS Partners</td>\n    </tr>\n  </tbody>\n</table>"
      }
     },
     "8aeb09b637b34d1d91e6ba79776d69a4": {
      "model_module": "jupyter-leaflet",
      "model_module_version": "^0.15.0",
      "model_name": "LeafletAwesomeIconModel",
      "state": {
       "_model_module_version": "^0.15.0",
       "_view_module_version": "^0.15.0",
       "icon_color": "white",
       "marker_color": "orange",
       "name": "life-ring"
      }
     },
     "8b7983da08c242e9b5c883867609f473": {
      "model_module": "@jupyter-widgets/controls",
      "model_module_version": "1.5.0",
      "model_name": "DescriptionStyleModel",
      "state": {
       "description_width": ""
      }
     },
     "8b8d63c3fdef4cc99c39a2ab4e9087f4": {
      "model_module": "jupyter-leaflet",
      "model_module_version": "^0.17.0",
      "model_name": "LeafletMarkerModel",
      "state": {
       "_model_module_version": "^0.17.0",
       "_view_module_version": "^0.17.0",
       "draggable": false,
       "icon": "IPY_MODEL_91d19b42e8c54fa59e6e82ad3b7a96ff",
       "location": [
        27.297,
        -97.405
       ],
       "options": [
        "alt",
        "draggable",
        "keyboard",
        "rise_offset",
        "rise_on_hover",
        "rotation_angle",
        "rotation_origin",
        "title",
        "z_index_offset"
       ],
       "popup": "IPY_MODEL_9a003f662bb243e0aa054fcf406466eb"
      }
     },
     "8c0851b9c7c049638fd35ae666680a31": {
      "model_module": "@jupyter-widgets/base",
      "model_module_version": "1.2.0",
      "model_name": "LayoutModel",
      "state": {}
     },
     "8c08a2d01ee648669d1faa88b5b31dc0": {
      "model_module": "jupyter-leaflet",
      "model_module_version": "^0.15.0",
      "model_name": "LeafletAwesomeIconModel",
      "state": {
       "_model_module_version": "^0.15.0",
       "_view_module_version": "^0.15.0",
       "icon_color": "white",
       "marker_color": "orange",
       "name": "life-ring"
      }
     },
     "8c4b2d31bd054d139555fc612729d83c": {
      "model_module": "@jupyter-widgets/base",
      "model_module_version": "1.2.0",
      "model_name": "LayoutModel",
      "state": {}
     },
     "8cba34a47aad4a09837cca27dfde498e": {
      "model_module": "@jupyter-widgets/controls",
      "model_module_version": "1.5.0",
      "model_name": "DescriptionStyleModel",
      "state": {
       "description_width": ""
      }
     },
     "8cc518b2ae9e42cf91f547cd74974a18": {
      "model_module": "@jupyter-widgets/controls",
      "model_module_version": "1.5.0",
      "model_name": "DescriptionStyleModel",
      "state": {
       "description_width": ""
      }
     },
     "8cf2d3e425b54bf2ad92e51386681a28": {
      "model_module": "jupyter-leaflet",
      "model_module_version": "^0.15.0",
      "model_name": "LeafletAwesomeIconModel",
      "state": {
       "_model_module_version": "^0.15.0",
       "_view_module_version": "^0.15.0",
       "icon_color": "white",
       "marker_color": "orange",
       "name": "life-ring"
      }
     },
     "8d0f5d5278974bbeaf350e077a5c2f4d": {
      "model_module": "jupyter-leaflet",
      "model_module_version": "^0.15.0",
      "model_name": "LeafletAwesomeIconModel",
      "state": {
       "_model_module_version": "^0.15.0",
       "_view_module_version": "^0.15.0",
       "icon_color": "white",
       "marker_color": "green",
       "name": "life-ring"
      }
     },
     "8d294c049c96451b8a5f22643012d17c": {
      "model_module": "@jupyter-widgets/controls",
      "model_module_version": "1.5.0",
      "model_name": "DescriptionStyleModel",
      "state": {
       "description_width": ""
      }
     },
     "8d3dd68b71054e8097b563183599a600": {
      "model_module": "@jupyter-widgets/controls",
      "model_module_version": "1.5.0",
      "model_name": "DescriptionStyleModel",
      "state": {
       "description_width": ""
      }
     },
     "8d54b9bb2ff049ba8b70c9fc0d6a29e5": {
      "model_module": "@jupyter-widgets/base",
      "model_module_version": "1.2.0",
      "model_name": "LayoutModel",
      "state": {}
     },
     "8d7cb15286e94e0eb7ab78bc8ca198cf": {
      "model_module": "@jupyter-widgets/controls",
      "model_module_version": "1.5.0",
      "model_name": "HTMLModel",
      "state": {
       "layout": "IPY_MODEL_ef59c05ce4144bd6978107918bddf768",
       "style": "IPY_MODEL_5ffac3e717f54700b79902bcda03524c",
       "value": "<table border=\"1\" class=\"dataframe table table-striped table-hover table-condensed table-responsive\">\n  <thead>\n    <tr style=\"text-align: right;\">\n      <th></th>\n      <th>46092</th>\n    </tr>\n  </thead>\n  <tbody>\n    <tr>\n      <th>met</th>\n      <td>5698.0</td>\n    </tr>\n    <tr>\n      <th>wave</th>\n      <td>0.0</td>\n    </tr>\n    <tr>\n      <th>type</th>\n      <td>buoy</td>\n    </tr>\n    <tr>\n      <th>name</th>\n      <td>MBM1</td>\n    </tr>\n    <tr>\n      <th>pgm</th>\n      <td>IOOS Partners</td>\n    </tr>\n  </tbody>\n</table>"
      }
     },
     "8da6bcddf2ef46d39dff69f3e4979ea9": {
      "model_module": "@jupyter-widgets/controls",
      "model_module_version": "1.5.0",
      "model_name": "HTMLModel",
      "state": {
       "layout": "IPY_MODEL_934b0b57bcf444cb99cce7fde5e3da3c",
       "style": "IPY_MODEL_233f6df610ca4d4a9f0dbe3130c482e6",
       "value": "<table border=\"1\" class=\"dataframe table table-striped table-hover table-condensed table-responsive\">\n  <thead>\n    <tr style=\"text-align: right;\">\n      <th></th>\n      <th>shpf1</th>\n    </tr>\n  </thead>\n  <tbody>\n    <tr>\n      <th>met</th>\n      <td>58840.0</td>\n    </tr>\n    <tr>\n      <th>wave</th>\n      <td>0.0</td>\n    </tr>\n    <tr>\n      <th>type</th>\n      <td>fixed</td>\n    </tr>\n    <tr>\n      <th>name</th>\n      <td>SHP - Shell Point, FL</td>\n    </tr>\n    <tr>\n      <th>pgm</th>\n      <td>IOOS Partners</td>\n    </tr>\n  </tbody>\n</table>"
      }
     },
     "8dcf1cca86514cb38a3b68fca7927190": {
      "model_module": "jupyter-leaflet",
      "model_module_version": "^0.17.0",
      "model_name": "LeafletAwesomeIconModel",
      "state": {
       "_model_module_version": "^0.17.0",
       "_view_module_version": "^0.17.0",
       "icon_color": "white",
       "marker_color": "orange",
       "name": "life-ring"
      }
     },
     "8df910d0241a4916a9ff108d90247e2e": {
      "model_module": "jupyter-leaflet",
      "model_module_version": "^0.15.0",
      "model_name": "LeafletAwesomeIconModel",
      "state": {
       "_model_module_version": "^0.15.0",
       "_view_module_version": "^0.15.0",
       "icon_color": "white",
       "marker_color": "orange",
       "name": "life-ring"
      }
     },
     "8e3323d121474ec8819576476347990f": {
      "model_module": "@jupyter-widgets/controls",
      "model_module_version": "1.5.0",
      "model_name": "DescriptionStyleModel",
      "state": {
       "description_width": ""
      }
     },
     "8e3581163dbd401886da8c869c5fd67a": {
      "model_module": "@jupyter-widgets/controls",
      "model_module_version": "1.5.0",
      "model_name": "HTMLModel",
      "state": {
       "layout": "IPY_MODEL_5b73be21baa74d4a8e6cd5f62b183c29",
       "style": "IPY_MODEL_c66c4f1c8ced4704b99ea66497f9d6ff",
       "value": "<table border=\"1\" class=\"dataframe table table-striped table-hover table-condensed table-responsive\">\n  <thead>\n    <tr style=\"text-align: right;\">\n      <th></th>\n      <th>mrna2</th>\n    </tr>\n  </thead>\n  <tbody>\n    <tr>\n      <th>met</th>\n      <td>34234.0</td>\n    </tr>\n    <tr>\n      <th>wave</th>\n      <td>0.0</td>\n    </tr>\n    <tr>\n      <th>type</th>\n      <td>fixed</td>\n    </tr>\n    <tr>\n      <th>name</th>\n      <td>Marmion Island, AK</td>\n    </tr>\n    <tr>\n      <th>pgm</th>\n      <td>IOOS Partners</td>\n    </tr>\n  </tbody>\n</table>"
      }
     },
     "8e764601cf8a4c45b568230c50b5289a": {
      "model_module": "@jupyter-widgets/controls",
      "model_module_version": "1.5.0",
      "model_name": "HTMLModel",
      "state": {
       "layout": "IPY_MODEL_0b830f20f48442aab36d46d1b14e3cb3",
       "style": "IPY_MODEL_3d6bd1d76d074e60b63296ebfd00dc10",
       "value": "<table border=\"1\" class=\"dataframe table table-striped table-hover table-condensed table-responsive\">\n  <thead>\n    <tr style=\"text-align: right;\">\n      <th></th>\n      <th>45013</th>\n    </tr>\n  </thead>\n  <tbody>\n    <tr>\n      <th>met</th>\n      <td>10830.0</td>\n    </tr>\n    <tr>\n      <th>wave</th>\n      <td>10692.0</td>\n    </tr>\n    <tr>\n      <th>type</th>\n      <td>buoy</td>\n    </tr>\n    <tr>\n      <th>name</th>\n      <td>ATW20 - Atwater Park, WI</td>\n    </tr>\n    <tr>\n      <th>pgm</th>\n      <td>IOOS Partners</td>\n    </tr>\n  </tbody>\n</table>"
      }
     },
     "8ee72dedb89c4702a017f0ab3e6dd5b6": {
      "model_module": "@jupyter-widgets/controls",
      "model_module_version": "1.5.0",
      "model_name": "HTMLModel",
      "state": {
       "layout": "IPY_MODEL_167b77912bae442182f59e48389cb1be",
       "style": "IPY_MODEL_d6be67a9d5a94326b1e8c3d3b9a42f5f",
       "value": "<table border=\"1\" class=\"dataframe table table-striped table-hover table-condensed table-responsive\">\n  <thead>\n    <tr style=\"text-align: right;\">\n      <th></th>\n      <th>jmla2</th>\n    </tr>\n  </thead>\n  <tbody>\n    <tr>\n      <th>met</th>\n      <td>34354.0</td>\n    </tr>\n    <tr>\n      <th>wave</th>\n      <td>0.0</td>\n    </tr>\n    <tr>\n      <th>type</th>\n      <td>fixed</td>\n    </tr>\n    <tr>\n      <th>name</th>\n      <td>Juneau AML Dock</td>\n    </tr>\n    <tr>\n      <th>pgm</th>\n      <td>IOOS Partners</td>\n    </tr>\n  </tbody>\n</table>"
      }
     },
     "8f2cf9299c944367984b7c0f1a167b41": {
      "model_module": "@jupyter-widgets/base",
      "model_module_version": "1.2.0",
      "model_name": "LayoutModel",
      "state": {}
     },
     "8f36fe66aea443a2b988db4ab3e7f138": {
      "model_module": "@jupyter-widgets/controls",
      "model_module_version": "1.5.0",
      "model_name": "HTMLModel",
      "state": {
       "layout": "IPY_MODEL_a792b3638d444e23b5ec9636344e5bfc",
       "style": "IPY_MODEL_ad229c4852de4342815d22dded176c9b",
       "value": "<table border=\"1\" class=\"dataframe table table-striped table-hover table-condensed table-responsive\">\n  <thead>\n    <tr style=\"text-align: right;\">\n      <th></th>\n      <th>41115</th>\n    </tr>\n  </thead>\n  <tbody>\n    <tr>\n      <th>met</th>\n      <td>0.0</td>\n    </tr>\n    <tr>\n      <th>wave</th>\n      <td>10856.0</td>\n    </tr>\n    <tr>\n      <th>type</th>\n      <td>buoy</td>\n    </tr>\n    <tr>\n      <th>name</th>\n      <td>Rincon, Puerto Rico (181)</td>\n    </tr>\n    <tr>\n      <th>pgm</th>\n      <td>IOOS Partners</td>\n    </tr>\n  </tbody>\n</table>"
      }
     },
     "8f40b9548ea24229905efbe29715efb8": {
      "model_module": "@jupyter-widgets/controls",
      "model_module_version": "1.5.0",
      "model_name": "HTMLModel",
      "state": {
       "layout": "IPY_MODEL_6985de22813b4961b1f369174c112b1f",
       "style": "IPY_MODEL_9edcf64f4bbf4e82aec458a426eec86b",
       "value": "<table border=\"1\" class=\"dataframe table table-striped table-hover table-condensed table-responsive\">\n  <thead>\n    <tr style=\"text-align: right;\">\n      <th></th>\n      <th>luit2</th>\n    </tr>\n  </thead>\n  <tbody>\n    <tr>\n      <th>met</th>\n      <td>58696.0</td>\n    </tr>\n    <tr>\n      <th>wave</th>\n      <td>0.0</td>\n    </tr>\n    <tr>\n      <th>type</th>\n      <td>fixed</td>\n    </tr>\n    <tr>\n      <th>name</th>\n      <td>8771972 - San Luis Pass, TX</td>\n    </tr>\n    <tr>\n      <th>pgm</th>\n      <td>IOOS Partners</td>\n    </tr>\n  </tbody>\n</table>"
      }
     },
     "8f6db0b04a7f42be86e66932029a65aa": {
      "model_module": "jupyter-leaflet",
      "model_module_version": "^0.15.0",
      "model_name": "LeafletAwesomeIconModel",
      "state": {
       "_model_module_version": "^0.15.0",
       "_view_module_version": "^0.15.0",
       "icon_color": "white",
       "marker_color": "green",
       "name": "life-ring"
      }
     },
     "8fabb9a3e557484d96d3276d442bac37": {
      "model_module": "@jupyter-widgets/controls",
      "model_module_version": "1.5.0",
      "model_name": "DescriptionStyleModel",
      "state": {
       "description_width": ""
      }
     },
     "900c082065b44624bcb50fd279dbc859": {
      "model_module": "@jupyter-widgets/controls",
      "model_module_version": "1.5.0",
      "model_name": "HTMLModel",
      "state": {
       "layout": "IPY_MODEL_5218b575f16e444a8f9d9408fd3602e0",
       "style": "IPY_MODEL_513aa7bad789414ca86c5290ac20b38b",
       "value": "<table border=\"1\" class=\"dataframe table table-striped table-hover table-condensed table-responsive\">\n  <thead>\n    <tr style=\"text-align: right;\">\n      <th></th>\n      <th>awrt2</th>\n    </tr>\n  </thead>\n  <tbody>\n    <tr>\n      <th>met</th>\n      <td>58310.0</td>\n    </tr>\n    <tr>\n      <th>wave</th>\n      <td>0.0</td>\n    </tr>\n    <tr>\n      <th>type</th>\n      <td>fixed</td>\n    </tr>\n    <tr>\n      <th>name</th>\n      <td>8774230 - Aransas Wildlife Refuge, TX</td>\n    </tr>\n    <tr>\n      <th>pgm</th>\n      <td>IOOS Partners</td>\n    </tr>\n  </tbody>\n</table>"
      }
     },
     "9082fa4f2686485d91ae0d70dbc413ce": {
      "model_module": "@jupyter-widgets/controls",
      "model_module_version": "1.5.0",
      "model_name": "DescriptionStyleModel",
      "state": {
       "description_width": ""
      }
     },
     "908882f2e9314a51a11635589375a574": {
      "model_module": "@jupyter-widgets/base",
      "model_module_version": "1.2.0",
      "model_name": "LayoutModel",
      "state": {}
     },
     "90966f0bc5744c8285c9a9620e708552": {
      "model_module": "jupyter-leaflet",
      "model_module_version": "^0.15.0",
      "model_name": "LeafletAwesomeIconModel",
      "state": {
       "_model_module_version": "^0.15.0",
       "_view_module_version": "^0.15.0",
       "icon_color": "white",
       "marker_color": "orange",
       "name": "life-ring"
      }
     },
     "90c14448583341e491892d99ee94f036": {
      "model_module": "@jupyter-widgets/base",
      "model_module_version": "1.2.0",
      "model_name": "LayoutModel",
      "state": {}
     },
     "90cad65f0c7e4720b763fca8acd14a7c": {
      "model_module": "jupyter-leaflet",
      "model_module_version": "^0.15.0",
      "model_name": "LeafletMarkerModel",
      "state": {
       "_model_module_version": "^0.15.0",
       "_view_module_version": "^0.15.0",
       "draggable": false,
       "icon": "IPY_MODEL_1f8a0ff38f1340bf8a16582b58166a74",
       "location": [
        33.838,
        -78.484
       ],
       "options": [
        "alt",
        "draggable",
        "keyboard",
        "rise_offset",
        "rise_on_hover",
        "rotation_angle",
        "rotation_origin",
        "title",
        "z_index_offset"
       ],
       "popup": "IPY_MODEL_0381c25b93654f16914080c9f7a1a197"
      }
     },
     "90e831a3970a4f14964fdf4e4ec062ba": {
      "model_module": "@jupyter-widgets/controls",
      "model_module_version": "1.5.0",
      "model_name": "HTMLModel",
      "state": {
       "layout": "IPY_MODEL_54a4e338efd54028b1dfcfdf055aff08",
       "style": "IPY_MODEL_a0f12c224e2f4b51a6bcff4953755b73",
       "value": "<table border=\"1\" class=\"dataframe table table-striped table-hover table-condensed table-responsive\">\n  <thead>\n    <tr style=\"text-align: right;\">\n      <th></th>\n      <th>pmnt2</th>\n    </tr>\n  </thead>\n  <tbody>\n    <tr>\n      <th>met</th>\n      <td>58684.0</td>\n    </tr>\n    <tr>\n      <th>wave</th>\n      <td>0.0</td>\n    </tr>\n    <tr>\n      <th>type</th>\n      <td>fixed</td>\n    </tr>\n    <tr>\n      <th>name</th>\n      <td>8778490 - Port Mansfield, TX</td>\n    </tr>\n    <tr>\n      <th>pgm</th>\n      <td>IOOS Partners</td>\n    </tr>\n  </tbody>\n</table>"
      }
     },
     "90f2ca1fa68149ebb8d83b13c68085c2": {
      "model_module": "jupyter-leaflet",
      "model_module_version": "^0.17.0",
      "model_name": "LeafletMarkerModel",
      "state": {
       "_model_module_version": "^0.17.0",
       "_view_module_version": "^0.17.0",
       "draggable": false,
       "icon": "IPY_MODEL_600bfeb8673740a3b27d8a46cb8fbfe4",
       "location": [
        57.779,
        -135.219
       ],
       "options": [
        "alt",
        "draggable",
        "keyboard",
        "rise_offset",
        "rise_on_hover",
        "rotation_angle",
        "rotation_origin",
        "title",
        "z_index_offset"
       ],
       "popup": "IPY_MODEL_81d420a7683d42cf82d5671a3394c174"
      }
     },
     "911eb064acf04890bb13e670e651d4ee": {
      "model_module": "jupyter-leaflet",
      "model_module_version": "^0.15.0",
      "model_name": "LeafletMarkerModel",
      "state": {
       "_model_module_version": "^0.15.0",
       "_view_module_version": "^0.15.0",
       "draggable": false,
       "icon": "IPY_MODEL_c80fd1804ef04549963f94ed6fbb8302",
       "location": [
        17.869,
        -66.532
       ],
       "options": [
        "alt",
        "draggable",
        "keyboard",
        "rise_offset",
        "rise_on_hover",
        "rotation_angle",
        "rotation_origin",
        "title",
        "z_index_offset"
       ],
       "popup": "IPY_MODEL_01bfcc394f0b45bda0907fbcca17c532"
      }
     },
     "912110d8c28647c7b332d948f7fa3be0": {
      "model_module": "@jupyter-widgets/controls",
      "model_module_version": "1.5.0",
      "model_name": "HTMLModel",
      "state": {
       "layout": "IPY_MODEL_b76689824cfa4f64a0b23e07ad6ae6ee",
       "style": "IPY_MODEL_cb0015db30c246dbb728ea378338dbc6",
       "value": "<table border=\"1\" class=\"dataframe table table-striped table-hover table-condensed table-responsive\">\n  <thead>\n    <tr style=\"text-align: right;\">\n      <th></th>\n      <th>41110</th>\n    </tr>\n  </thead>\n  <tbody>\n    <tr>\n      <th>met</th>\n      <td>0.0</td>\n    </tr>\n    <tr>\n      <th>wave</th>\n      <td>11730.0</td>\n    </tr>\n    <tr>\n      <th>type</th>\n      <td>buoy</td>\n    </tr>\n    <tr>\n      <th>name</th>\n      <td>Masonboro Inlet, ILM2, NC (150)</td>\n    </tr>\n    <tr>\n      <th>pgm</th>\n      <td>IOOS Partners</td>\n    </tr>\n  </tbody>\n</table>"
      }
     },
     "914e739784074eb9865bb6b88fb70754": {
      "model_module": "@jupyter-widgets/controls",
      "model_module_version": "1.5.0",
      "model_name": "DescriptionStyleModel",
      "state": {
       "description_width": ""
      }
     },
     "91ad9fa9917248fd86237a787e142c41": {
      "model_module": "jupyter-leaflet",
      "model_module_version": "^0.15.0",
      "model_name": "LeafletMarkerModel",
      "state": {
       "_model_module_version": "^0.15.0",
       "_view_module_version": "^0.15.0",
       "draggable": false,
       "icon": "IPY_MODEL_b9c6c0f97cce4e11a490b172401bc68a",
       "location": [
        18.261,
        -65.464
       ],
       "options": [
        "alt",
        "draggable",
        "keyboard",
        "rise_offset",
        "rise_on_hover",
        "rotation_angle",
        "rotation_origin",
        "title",
        "z_index_offset"
       ],
       "popup": "IPY_MODEL_c21116305ee746108b0db4fd1d76ffbd"
      }
     },
     "91b02862e59d4aacac7ff9e094106e7c": {
      "model_module": "jupyter-leaflet",
      "model_module_version": "^0.15.0",
      "model_name": "LeafletAwesomeIconModel",
      "state": {
       "_model_module_version": "^0.15.0",
       "_view_module_version": "^0.15.0",
       "icon_color": "white",
       "marker_color": "red",
       "name": "life-ring"
      }
     },
     "91d19b42e8c54fa59e6e82ad3b7a96ff": {
      "model_module": "jupyter-leaflet",
      "model_module_version": "^0.17.0",
      "model_name": "LeafletAwesomeIconModel",
      "state": {
       "_model_module_version": "^0.17.0",
       "_view_module_version": "^0.17.0",
       "icon_color": "white",
       "marker_color": "orange",
       "name": "life-ring"
      }
     },
     "9250956e9ed540d0a71b8f46b4438db4": {
      "model_module": "jupyter-leaflet",
      "model_module_version": "^0.17.0",
      "model_name": "LeafletMarkerModel",
      "state": {
       "_model_module_version": "^0.17.0",
       "_view_module_version": "^0.17.0",
       "draggable": false,
       "icon": "IPY_MODEL_a81a6f2afa2e404d8ffcc18031672e64",
       "location": [
        28.153,
        -82.801
       ],
       "options": [
        "alt",
        "draggable",
        "keyboard",
        "rise_offset",
        "rise_on_hover",
        "rotation_angle",
        "rotation_origin",
        "title",
        "z_index_offset"
       ],
       "popup": "IPY_MODEL_464ec9f95c934359bb7e741f95360edd"
      }
     },
     "929351c6d00c4958be04c8806972dd63": {
      "model_module": "jupyter-leaflet",
      "model_module_version": "^0.15.0",
      "model_name": "LeafletMarkerModel",
      "state": {
       "_model_module_version": "^0.15.0",
       "_view_module_version": "^0.15.0",
       "draggable": false,
       "icon": "IPY_MODEL_6ab91ebe492d40a8b0a9bd667e152827",
       "location": [
        29.302,
        -94.896
       ],
       "options": [
        "alt",
        "draggable",
        "keyboard",
        "rise_offset",
        "rise_on_hover",
        "rotation_angle",
        "rotation_origin",
        "title",
        "z_index_offset"
       ],
       "popup": "IPY_MODEL_c7539260a00e41af868283083ff89839"
      }
     },
     "929ccbbe087d4d9e9486ea068ff04263": {
      "model_module": "jupyter-leaflet",
      "model_module_version": "^0.15.0",
      "model_name": "LeafletAwesomeIconModel",
      "state": {
       "_model_module_version": "^0.15.0",
       "_view_module_version": "^0.15.0",
       "icon_color": "white",
       "marker_color": "orange",
       "name": "life-ring"
      }
     },
     "92b9f137fb154d8296180cd0720e4b32": {
      "model_module": "jupyter-leaflet",
      "model_module_version": "^0.17.0",
      "model_name": "LeafletAwesomeIconModel",
      "state": {
       "_model_module_version": "^0.17.0",
       "_view_module_version": "^0.17.0",
       "icon_color": "white",
       "marker_color": "orange",
       "name": "life-ring"
      }
     },
     "92fb1951c50a499dad61d941ac1faa8e": {
      "model_module": "@jupyter-widgets/controls",
      "model_module_version": "1.5.0",
      "model_name": "HTMLModel",
      "state": {
       "layout": "IPY_MODEL_d34136a47e35476ba510b658e0a8dfe1",
       "style": "IPY_MODEL_256e606810dd47a6afd8c42f079ac695",
       "value": "<table border=\"1\" class=\"dataframe table table-striped table-hover table-condensed table-responsive\">\n  <thead>\n    <tr style=\"text-align: right;\">\n      <th></th>\n      <th>pmnt2</th>\n    </tr>\n  </thead>\n  <tbody>\n    <tr>\n      <th>met</th>\n      <td>58684.0</td>\n    </tr>\n    <tr>\n      <th>wave</th>\n      <td>0.0</td>\n    </tr>\n    <tr>\n      <th>type</th>\n      <td>fixed</td>\n    </tr>\n    <tr>\n      <th>name</th>\n      <td>8778490 - Port Mansfield, TX</td>\n    </tr>\n    <tr>\n      <th>pgm</th>\n      <td>IOOS Partners</td>\n    </tr>\n  </tbody>\n</table>"
      }
     },
     "930dd8a019624fe69cfe047e66e41d0c": {
      "model_module": "@jupyter-widgets/controls",
      "model_module_version": "1.5.0",
      "model_name": "HTMLModel",
      "state": {
       "layout": "IPY_MODEL_aa252800f9d744be92c82de819c252d1",
       "style": "IPY_MODEL_4eb6a8f5ecd340d691fd6791bfae6a5d",
       "value": "<table border=\"1\" class=\"dataframe table table-striped table-hover table-condensed table-responsive\">\n  <thead>\n    <tr style=\"text-align: right;\">\n      <th></th>\n      <th>bsca1</th>\n    </tr>\n  </thead>\n  <tbody>\n    <tr>\n      <th>met</th>\n      <td>3854.0</td>\n    </tr>\n    <tr>\n      <th>wave</th>\n      <td>0.0</td>\n    </tr>\n    <tr>\n      <th>type</th>\n      <td>fixed</td>\n    </tr>\n    <tr>\n      <th>name</th>\n      <td>Bon Secour, AL</td>\n    </tr>\n    <tr>\n      <th>pgm</th>\n      <td>IOOS Partners</td>\n    </tr>\n  </tbody>\n</table>"
      }
     },
     "931337a85d524a4698aa77a4307e9f56": {
      "model_module": "@jupyter-widgets/controls",
      "model_module_version": "1.5.0",
      "model_name": "HTMLModel",
      "state": {
       "layout": "IPY_MODEL_ddddc0db8e3b46c495ab3ebc7fe67151",
       "style": "IPY_MODEL_43d2d52c5dc946379d8c3da2ec82517d",
       "value": "<table border=\"1\" class=\"dataframe table table-striped table-hover table-condensed table-responsive\">\n  <thead>\n    <tr style=\"text-align: right;\">\n      <th></th>\n      <th>44098</th>\n    </tr>\n  </thead>\n  <tbody>\n    <tr>\n      <th>met</th>\n      <td>0.0</td>\n    </tr>\n    <tr>\n      <th>wave</th>\n      <td>11516.0</td>\n    </tr>\n    <tr>\n      <th>type</th>\n      <td>buoy</td>\n    </tr>\n    <tr>\n      <th>name</th>\n      <td>Jeffrey's Ledge, NH (160)</td>\n    </tr>\n    <tr>\n      <th>pgm</th>\n      <td>IOOS Partners</td>\n    </tr>\n  </tbody>\n</table>"
      }
     },
     "93291b53efef494882a74ef8d694fe64": {
      "model_module": "@jupyter-widgets/base",
      "model_module_version": "1.2.0",
      "model_name": "LayoutModel",
      "state": {}
     },
     "93446fed63014143ba26a8bdef9a281d": {
      "model_module": "@jupyter-widgets/controls",
      "model_module_version": "1.5.0",
      "model_name": "DescriptionStyleModel",
      "state": {
       "description_width": ""
      }
     },
     "934b0b57bcf444cb99cce7fde5e3da3c": {
      "model_module": "@jupyter-widgets/base",
      "model_module_version": "1.2.0",
      "model_name": "LayoutModel",
      "state": {}
     },
     "939680cf60ac41debccfe193e951ea76": {
      "model_module": "@jupyter-widgets/controls",
      "model_module_version": "1.5.0",
      "model_name": "DescriptionStyleModel",
      "state": {
       "description_width": ""
      }
     },
     "940a279ab7054be597e909ffa286e349": {
      "model_module": "jupyter-leaflet",
      "model_module_version": "^0.15.0",
      "model_name": "LeafletAwesomeIconModel",
      "state": {
       "_model_module_version": "^0.15.0",
       "_view_module_version": "^0.15.0",
       "icon_color": "white",
       "marker_color": "red",
       "name": "life-ring"
      }
     },
     "94566984506b4a1ba211a86628c338de": {
      "model_module": "jupyter-leaflet",
      "model_module_version": "^0.17.0",
      "model_name": "LeafletMarkerModel",
      "state": {
       "_model_module_version": "^0.17.0",
       "_view_module_version": "^0.17.0",
       "draggable": false,
       "icon": "IPY_MODEL_5f9b9f7eaf144448bedd7e601be79e45",
       "location": [
        45.405,
        -85.087
       ],
       "options": [
        "alt",
        "draggable",
        "keyboard",
        "rise_offset",
        "rise_on_hover",
        "rotation_angle",
        "rotation_origin",
        "title",
        "z_index_offset"
       ],
       "popup": "IPY_MODEL_dbe977fe19244adb8d7c80e88072ec2e"
      }
     },
     "945775fcbe4a4a558720756b3499965b": {
      "model_module": "jupyter-leaflet",
      "model_module_version": "^0.17.0",
      "model_name": "LeafletAwesomeIconModel",
      "state": {
       "_model_module_version": "^0.17.0",
       "_view_module_version": "^0.17.0",
       "icon_color": "white",
       "marker_color": "green",
       "name": "life-ring"
      }
     },
     "94bc97f582d542bd958edc8744532a40": {
      "model_module": "@jupyter-widgets/controls",
      "model_module_version": "1.5.0",
      "model_name": "HTMLModel",
      "state": {
       "layout": "IPY_MODEL_03d6e69f7d8c421ba9f837be8f8564a6",
       "style": "IPY_MODEL_699fee6fa5d24e4bb215ba481dbcc82b",
       "value": "<table border=\"1\" class=\"dataframe table table-striped table-hover table-condensed table-responsive\">\n  <thead>\n    <tr style=\"text-align: right;\">\n      <th></th>\n      <th>ncht2</th>\n    </tr>\n  </thead>\n  <tbody>\n    <tr>\n      <th>met</th>\n      <td>58544.0</td>\n    </tr>\n    <tr>\n      <th>wave</th>\n      <td>0.0</td>\n    </tr>\n    <tr>\n      <th>type</th>\n      <td>fixed</td>\n    </tr>\n    <tr>\n      <th>name</th>\n      <td>8770777 - Manchester, TX</td>\n    </tr>\n    <tr>\n      <th>pgm</th>\n      <td>IOOS Partners</td>\n    </tr>\n  </tbody>\n</table>"
      }
     },
     "94d6e917ecb84be1a4e6b8e356231fb8": {
      "model_module": "jupyter-leaflet",
      "model_module_version": "^0.15.0",
      "model_name": "LeafletAwesomeIconModel",
      "state": {
       "_model_module_version": "^0.15.0",
       "_view_module_version": "^0.15.0",
       "icon_color": "white",
       "marker_color": "orange",
       "name": "life-ring"
      }
     },
     "95284b858b0c409785cf1f7f52143912": {
      "model_module": "@jupyter-widgets/controls",
      "model_module_version": "1.5.0",
      "model_name": "HTMLModel",
      "state": {
       "layout": "IPY_MODEL_d647d04a6cbc49c8b56f357293d3c5cf",
       "style": "IPY_MODEL_a63317373d8f490cba571f472d08e625",
       "value": "<table border=\"1\" class=\"dataframe table table-striped table-hover table-condensed table-responsive\">\n  <thead>\n    <tr style=\"text-align: right;\">\n      <th></th>\n      <th>46246</th>\n    </tr>\n  </thead>\n  <tbody>\n    <tr>\n      <th>met</th>\n      <td>0.0</td>\n    </tr>\n    <tr>\n      <th>wave</th>\n      <td>11732.0</td>\n    </tr>\n    <tr>\n      <th>type</th>\n      <td>buoy</td>\n    </tr>\n    <tr>\n      <th>name</th>\n      <td>Ocean Station PAPA  (166)</td>\n    </tr>\n    <tr>\n      <th>pgm</th>\n      <td>IOOS Partners</td>\n    </tr>\n  </tbody>\n</table>"
      }
     },
     "9544d2e5955e41a982d21999bdbe4131": {
      "model_module": "jupyter-leaflet",
      "model_module_version": "^0.15.0",
      "model_name": "LeafletMapStyleModel",
      "state": {
       "_model_module_version": "^0.15.0"
      }
     },
     "9545f8e07a774293a0c9b0836bade659": {
      "model_module": "jupyter-leaflet",
      "model_module_version": "^0.17.0",
      "model_name": "LeafletAwesomeIconModel",
      "state": {
       "_model_module_version": "^0.17.0",
       "_view_module_version": "^0.17.0",
       "icon_color": "white",
       "marker_color": "green",
       "name": "life-ring"
      }
     },
     "9591cdb48a3e41ea95c0a783ec0865be": {
      "model_module": "jupyter-leaflet",
      "model_module_version": "^0.17.0",
      "model_name": "LeafletLegendControlModel",
      "state": {
       "_model_module_version": "^0.17.0",
       "_view_module_version": "^0.17.0",
       "legend": {
        "both": "#008000",
        "met": "#FFA500",
        "wave": "#FF0000"
       },
       "options": [
        "position"
       ],
       "title": "GTS"
      }
     },
     "959e230cffd8425eb57f1161df02852b": {
      "model_module": "@jupyter-widgets/controls",
      "model_module_version": "1.5.0",
      "model_name": "DescriptionStyleModel",
      "state": {
       "description_width": ""
      }
     },
     "95badd275d5943a694f959a73d592ed8": {
      "model_module": "@jupyter-widgets/controls",
      "model_module_version": "1.5.0",
      "model_name": "DescriptionStyleModel",
      "state": {
       "description_width": ""
      }
     },
     "95bd6a7900be4b28a780c283a010a903": {
      "model_module": "jupyter-leaflet",
      "model_module_version": "^0.15.0",
      "model_name": "LeafletAwesomeIconModel",
      "state": {
       "_model_module_version": "^0.15.0",
       "_view_module_version": "^0.15.0",
       "icon_color": "white",
       "marker_color": "orange",
       "name": "life-ring"
      }
     },
     "95db190f2ba243e79eb87d840f39c200": {
      "model_module": "jupyter-leaflet",
      "model_module_version": "^0.15.0",
      "model_name": "LeafletMarkerModel",
      "state": {
       "_model_module_version": "^0.15.0",
       "_view_module_version": "^0.15.0",
       "draggable": false,
       "icon": "IPY_MODEL_afdd1c50e1554703a3fc640e7f5a4985",
       "location": [
        59.596,
        -151.829
       ],
       "options": [
        "alt",
        "draggable",
        "keyboard",
        "rise_offset",
        "rise_on_hover",
        "rotation_angle",
        "rotation_origin",
        "title",
        "z_index_offset"
       ],
       "popup": "IPY_MODEL_1291fe07d3af4370b059ca8ec42f3be4"
      }
     },
     "95df5a252a944db59b83ab56ee9021c1": {
      "model_module": "@jupyter-widgets/controls",
      "model_module_version": "1.5.0",
      "model_name": "DescriptionStyleModel",
      "state": {
       "description_width": ""
      }
     },
     "961a2b170d2245e4b11cbe910aa00367": {
      "model_module": "@jupyter-widgets/controls",
      "model_module_version": "1.5.0",
      "model_name": "DescriptionStyleModel",
      "state": {
       "description_width": ""
      }
     },
     "9649620b467c4382963582b22486b996": {
      "model_module": "jupyter-leaflet",
      "model_module_version": "^0.17.0",
      "model_name": "LeafletAwesomeIconModel",
      "state": {
       "_model_module_version": "^0.17.0",
       "_view_module_version": "^0.17.0",
       "icon_color": "white",
       "marker_color": "green",
       "name": "life-ring"
      }
     },
     "96bef44cc8bd4dbaaf66760a807b87a0": {
      "model_module": "jupyter-leaflet",
      "model_module_version": "^0.17.0",
      "model_name": "LeafletMarkerModel",
      "state": {
       "_model_module_version": "^0.17.0",
       "_view_module_version": "^0.17.0",
       "draggable": false,
       "icon": "IPY_MODEL_cf08d81c20ce4548a1ad84720d46e0e8",
       "location": [
        18.367,
        -67.251
       ],
       "options": [
        "alt",
        "draggable",
        "keyboard",
        "rise_offset",
        "rise_on_hover",
        "rotation_angle",
        "rotation_origin",
        "title",
        "z_index_offset"
       ],
       "popup": "IPY_MODEL_b77c8d27b9b549e18b53efb75e99b776"
      }
     },
     "96d9393d67bb4d878f3b045e8a948e34": {
      "model_module": "@jupyter-widgets/base",
      "model_module_version": "1.2.0",
      "model_name": "LayoutModel",
      "state": {}
     },
     "96dd0094402e4bc2b2e18233e63a9729": {
      "model_module": "@jupyter-widgets/base",
      "model_module_version": "1.2.0",
      "model_name": "LayoutModel",
      "state": {}
     },
     "96edd6b97a02463898bde8e77fc1d28f": {
      "model_module": "@jupyter-widgets/controls",
      "model_module_version": "1.5.0",
      "model_name": "HTMLModel",
      "state": {
       "layout": "IPY_MODEL_31f504c86a88475882d45722bc3a1781",
       "style": "IPY_MODEL_8667a3167f114b1880f91077d3736d52",
       "value": "<table border=\"1\" class=\"dataframe table table-striped table-hover table-condensed table-responsive\">\n  <thead>\n    <tr style=\"text-align: right;\">\n      <th></th>\n      <th>sdrt2</th>\n    </tr>\n  </thead>\n  <tbody>\n    <tr>\n      <th>met</th>\n      <td>58480.0</td>\n    </tr>\n    <tr>\n      <th>wave</th>\n      <td>0.0</td>\n    </tr>\n    <tr>\n      <th>type</th>\n      <td>fixed</td>\n    </tr>\n    <tr>\n      <th>name</th>\n      <td>8773037 - Seadrift, TX</td>\n    </tr>\n    <tr>\n      <th>pgm</th>\n      <td>IOOS Partners</td>\n    </tr>\n  </tbody>\n</table>"
      }
     },
     "96ee5fd83c54485e9d35dd1b8f7e198b": {
      "model_module": "jupyter-leaflet",
      "model_module_version": "^0.15.0",
      "model_name": "LeafletAwesomeIconModel",
      "state": {
       "_model_module_version": "^0.15.0",
       "_view_module_version": "^0.15.0",
       "icon_color": "white",
       "marker_color": "orange",
       "name": "life-ring"
      }
     },
     "970d13977c4f4eef84cdf039268ce749": {
      "model_module": "jupyter-leaflet",
      "model_module_version": "^0.17.0",
      "model_name": "LeafletAwesomeIconModel",
      "state": {
       "_model_module_version": "^0.17.0",
       "_view_module_version": "^0.17.0",
       "icon_color": "white",
       "marker_color": "red",
       "name": "life-ring"
      }
     },
     "972fc8673c744f8ead37a51ff8e0663e": {
      "model_module": "jupyter-leaflet",
      "model_module_version": "^0.17.0",
      "model_name": "LeafletAwesomeIconModel",
      "state": {
       "_model_module_version": "^0.17.0",
       "_view_module_version": "^0.17.0",
       "icon_color": "white",
       "marker_color": "orange",
       "name": "life-ring"
      }
     },
     "975235b6951a439c83ac87d4438e9006": {
      "model_module": "@jupyter-widgets/controls",
      "model_module_version": "1.5.0",
      "model_name": "HTMLModel",
      "state": {
       "layout": "IPY_MODEL_a3bef438c6db429bbc6ba0b815cacc60",
       "style": "IPY_MODEL_d6ead2cdc0e5423e9613c730a99cfdc6",
       "value": "<table border=\"1\" class=\"dataframe table table-striped table-hover table-condensed table-responsive\">\n  <thead>\n    <tr style=\"text-align: right;\">\n      <th></th>\n      <th>51213</th>\n    </tr>\n  </thead>\n  <tbody>\n    <tr>\n      <th>met</th>\n      <td>0.0</td>\n    </tr>\n    <tr>\n      <th>wave</th>\n      <td>2338.0</td>\n    </tr>\n    <tr>\n      <th>type</th>\n      <td>buoy</td>\n    </tr>\n    <tr>\n      <th>name</th>\n      <td>Kaumalapau Southwest, Lanai, HI (239)</td>\n    </tr>\n    <tr>\n      <th>pgm</th>\n      <td>IOOS Partners</td>\n    </tr>\n  </tbody>\n</table>"
      }
     },
     "975305a7ffeb4e6e9ee36d4dbd4bdbdc": {
      "model_module": "@jupyter-widgets/controls",
      "model_module_version": "1.5.0",
      "model_name": "DescriptionStyleModel",
      "state": {
       "description_width": ""
      }
     },
     "9778672a7b5d43eea356391b0c3f3bb9": {
      "model_module": "jupyter-leaflet",
      "model_module_version": "^0.15.0",
      "model_name": "LeafletAwesomeIconModel",
      "state": {
       "_model_module_version": "^0.15.0",
       "_view_module_version": "^0.15.0",
       "icon_color": "white",
       "marker_color": "orange",
       "name": "life-ring"
      }
     },
     "97a076e3714f49f985923767a3da0b73": {
      "model_module": "@jupyter-widgets/controls",
      "model_module_version": "1.5.0",
      "model_name": "DescriptionStyleModel",
      "state": {
       "description_width": ""
      }
     },
     "97dc7fbcf1f34e9d8fa180bedd9f72f4": {
      "model_module": "jupyter-leaflet",
      "model_module_version": "^0.17.0",
      "model_name": "LeafletAwesomeIconModel",
      "state": {
       "_model_module_version": "^0.17.0",
       "_view_module_version": "^0.17.0",
       "icon_color": "white",
       "marker_color": "orange",
       "name": "life-ring"
      }
     },
     "985c55e5bd664422849342768a57f2b8": {
      "model_module": "@jupyter-widgets/base",
      "model_module_version": "1.2.0",
      "model_name": "LayoutModel",
      "state": {}
     },
     "986d5626bac246d08113bd713609e74b": {
      "model_module": "@jupyter-widgets/controls",
      "model_module_version": "1.5.0",
      "model_name": "HTMLModel",
      "state": {
       "layout": "IPY_MODEL_b9454739ae2043d080ed97dce923c18c",
       "style": "IPY_MODEL_ec6cab72b75e4a1b9ddbf1193bb74697",
       "value": "<table border=\"1\" class=\"dataframe table table-striped table-hover table-condensed table-responsive\">\n  <thead>\n    <tr style=\"text-align: right;\">\n      <th></th>\n      <th>44029</th>\n    </tr>\n  </thead>\n  <tbody>\n    <tr>\n      <th>met</th>\n      <td>5844.0</td>\n    </tr>\n    <tr>\n      <th>wave</th>\n      <td>5706.0</td>\n    </tr>\n    <tr>\n      <th>type</th>\n      <td>buoy</td>\n    </tr>\n    <tr>\n      <th>name</th>\n      <td>Buoy A01 - Massachusetts Bay</td>\n    </tr>\n    <tr>\n      <th>pgm</th>\n      <td>IOOS Partners</td>\n    </tr>\n  </tbody>\n</table>"
      }
     },
     "98b28fb22a944ca1bdd494a911db6bd7": {
      "model_module": "@jupyter-widgets/controls",
      "model_module_version": "1.5.0",
      "model_name": "HTMLModel",
      "state": {
       "layout": "IPY_MODEL_7a70e448d6df4f638b6972294495ad04",
       "style": "IPY_MODEL_8cba34a47aad4a09837cca27dfde498e",
       "value": "<table border=\"1\" class=\"dataframe table table-striped table-hover table-condensed table-responsive\">\n  <thead>\n    <tr style=\"text-align: right;\">\n      <th></th>\n      <th>taqt2</th>\n    </tr>\n  </thead>\n  <tbody>\n    <tr>\n      <th>met</th>\n      <td>57976.0</td>\n    </tr>\n    <tr>\n      <th>wave</th>\n      <td>0.0</td>\n    </tr>\n    <tr>\n      <th>type</th>\n      <td>fixed</td>\n    </tr>\n    <tr>\n      <th>name</th>\n      <td>8775296 - USS Lexington, TX</td>\n    </tr>\n    <tr>\n      <th>pgm</th>\n      <td>IOOS Partners</td>\n    </tr>\n  </tbody>\n</table>"
      }
     },
     "99364861832b486aa959131265696636": {
      "model_module": "@jupyter-widgets/controls",
      "model_module_version": "1.5.0",
      "model_name": "DescriptionStyleModel",
      "state": {
       "description_width": ""
      }
     },
     "9a003f662bb243e0aa054fcf406466eb": {
      "model_module": "@jupyter-widgets/controls",
      "model_module_version": "1.5.0",
      "model_name": "HTMLModel",
      "state": {
       "layout": "IPY_MODEL_a71dc8a5e8264540b3736a4d43a41234",
       "style": "IPY_MODEL_bc2f5c7adc7a40f8adc11a13e03fccc5",
       "value": "<table border=\"1\" class=\"dataframe table table-striped table-hover table-condensed table-responsive\">\n  <thead>\n    <tr style=\"text-align: right;\">\n      <th></th>\n      <th>babt2</th>\n    </tr>\n  </thead>\n  <tbody>\n    <tr>\n      <th>met</th>\n      <td>58576.0</td>\n    </tr>\n    <tr>\n      <th>wave</th>\n      <td>0.0</td>\n    </tr>\n    <tr>\n      <th>type</th>\n      <td>fixed</td>\n    </tr>\n    <tr>\n      <th>name</th>\n      <td>8776604 - Baffin Bay, TX</td>\n    </tr>\n    <tr>\n      <th>pgm</th>\n      <td>IOOS Partners</td>\n    </tr>\n  </tbody>\n</table>"
      }
     },
     "9a1f560c350c4e8dbd6083ae1a916c5e": {
      "model_module": "@jupyter-widgets/base",
      "model_module_version": "1.2.0",
      "model_name": "LayoutModel",
      "state": {}
     },
     "9a8742e8f26a481b8bc5f50238f3a59a": {
      "model_module": "jupyter-leaflet",
      "model_module_version": "^0.15.0",
      "model_name": "LeafletMarkerModel",
      "state": {
       "_model_module_version": "^0.15.0",
       "_view_module_version": "^0.15.0",
       "draggable": false,
       "icon": "IPY_MODEL_f776583653cf4007ba2abc8290fae644",
       "location": [
        50.017,
        -145.17
       ],
       "options": [
        "alt",
        "draggable",
        "keyboard",
        "rise_offset",
        "rise_on_hover",
        "rotation_angle",
        "rotation_origin",
        "title",
        "z_index_offset"
       ],
       "popup": "IPY_MODEL_5f6410155bc14e258b2e10eb19accd4a"
      }
     },
     "9ad10b6798564053a83bb029e7717370": {
      "model_module": "jupyter-leaflet",
      "model_module_version": "^0.17.0",
      "model_name": "LeafletAwesomeIconModel",
      "state": {
       "_model_module_version": "^0.17.0",
       "_view_module_version": "^0.17.0",
       "icon_color": "white",
       "marker_color": "green",
       "name": "life-ring"
      }
     },
     "9aeaf3142a1d4aa99e16cf977bd9be84": {
      "model_module": "@jupyter-widgets/controls",
      "model_module_version": "1.5.0",
      "model_name": "HTMLModel",
      "state": {
       "layout": "IPY_MODEL_746f23c3cc104468affa4f5ef8adc738",
       "style": "IPY_MODEL_e358c8d7b3844d9aa856a98675ad1e37",
       "value": "<table border=\"1\" class=\"dataframe table table-striped table-hover table-condensed table-responsive\">\n  <thead>\n    <tr style=\"text-align: right;\">\n      <th></th>\n      <th>nkxa2</th>\n    </tr>\n  </thead>\n  <tbody>\n    <tr>\n      <th>met</th>\n      <td>34244.0</td>\n    </tr>\n    <tr>\n      <th>wave</th>\n      <td>0.0</td>\n    </tr>\n    <tr>\n      <th>type</th>\n      <td>fixed</td>\n    </tr>\n    <tr>\n      <th>name</th>\n      <td>Naked Island, AK</td>\n    </tr>\n    <tr>\n      <th>pgm</th>\n      <td>IOOS Partners</td>\n    </tr>\n  </tbody>\n</table>"
      }
     },
     "9b1f1c9b49fc42479e4472eccf68b854": {
      "model_module": "@jupyter-widgets/controls",
      "model_module_version": "1.5.0",
      "model_name": "HTMLModel",
      "state": {
       "layout": "IPY_MODEL_494b89fdc915462b9b9084af45c89fc0",
       "style": "IPY_MODEL_7827823e4ee6486097eb36df32d13630",
       "value": "<table border=\"1\" class=\"dataframe table table-striped table-hover table-condensed table-responsive\">\n  <thead>\n    <tr style=\"text-align: right;\">\n      <th></th>\n      <th>cpxc1</th>\n    </tr>\n  </thead>\n  <tbody>\n    <tr>\n      <th>met</th>\n      <td>17460.0</td>\n    </tr>\n    <tr>\n      <th>wave</th>\n      <td>0.0</td>\n    </tr>\n    <tr>\n      <th>type</th>\n      <td>fixed</td>\n    </tr>\n    <tr>\n      <th>name</th>\n      <td>Cal Poly Pier, CA</td>\n    </tr>\n    <tr>\n      <th>pgm</th>\n      <td>IOOS Partners</td>\n    </tr>\n  </tbody>\n</table>"
      }
     },
     "9b32c6445b454390b5b021f01c283ac9": {
      "model_module": "jupyter-leaflet",
      "model_module_version": "^0.15.0",
      "model_name": "LeafletMarkerModel",
      "state": {
       "_model_module_version": "^0.15.0",
       "_view_module_version": "^0.15.0",
       "draggable": false,
       "icon": "IPY_MODEL_7d3b7a5f367c4e50a3ab971c3f63d59f",
       "location": [
        41.306,
        -72.077
       ],
       "options": [
        "alt",
        "draggable",
        "keyboard",
        "rise_offset",
        "rise_on_hover",
        "rotation_angle",
        "rotation_origin",
        "title",
        "z_index_offset"
       ],
       "popup": "IPY_MODEL_ce47d5eb56734a059610ccea3cde2026"
      }
     },
     "9b373e0ae7b54f28b6d81e47b1478368": {
      "model_module": "@jupyter-widgets/controls",
      "model_module_version": "1.5.0",
      "model_name": "HTMLModel",
      "state": {
       "layout": "IPY_MODEL_e097371eb42d426eac719397818fc283",
       "style": "IPY_MODEL_2186c6587ac14fc1bedbac9577cd701d",
       "value": "<table border=\"1\" class=\"dataframe table table-striped table-hover table-condensed table-responsive\">\n  <thead>\n    <tr style=\"text-align: right;\">\n      <th></th>\n      <th>babt2</th>\n    </tr>\n  </thead>\n  <tbody>\n    <tr>\n      <th>met</th>\n      <td>58576.0</td>\n    </tr>\n    <tr>\n      <th>wave</th>\n      <td>0.0</td>\n    </tr>\n    <tr>\n      <th>type</th>\n      <td>fixed</td>\n    </tr>\n    <tr>\n      <th>name</th>\n      <td>8776604 - Baffin Bay, TX</td>\n    </tr>\n    <tr>\n      <th>pgm</th>\n      <td>IOOS Partners</td>\n    </tr>\n  </tbody>\n</table>"
      }
     },
     "9b38271ce39044e685dc23115679ae08": {
      "model_module": "@jupyter-widgets/controls",
      "model_module_version": "1.5.0",
      "model_name": "HTMLModel",
      "state": {
       "layout": "IPY_MODEL_cb0a91cd114146a3b06f4f2c4e235b8e",
       "style": "IPY_MODEL_3e555f86051d4fd39de89b7a7ae8a458",
       "value": "<table border=\"1\" class=\"dataframe table table-striped table-hover table-condensed table-responsive\">\n  <thead>\n    <tr style=\"text-align: right;\">\n      <th></th>\n      <th>emat2</th>\n    </tr>\n  </thead>\n  <tbody>\n    <tr>\n      <th>met</th>\n      <td>58326.0</td>\n    </tr>\n    <tr>\n      <th>wave</th>\n      <td>0.0</td>\n    </tr>\n    <tr>\n      <th>type</th>\n      <td>fixed</td>\n    </tr>\n    <tr>\n      <th>name</th>\n      <td>8773146 - Matagorda City, TX</td>\n    </tr>\n    <tr>\n      <th>pgm</th>\n      <td>IOOS Partners</td>\n    </tr>\n  </tbody>\n</table>"
      }
     },
     "9b3e995f107b4a49bb3ffa6c470413f5": {
      "model_module": "@jupyter-widgets/base",
      "model_module_version": "1.2.0",
      "model_name": "LayoutModel",
      "state": {}
     },
     "9b5b85e97e104adb8ede31580182d3bc": {
      "model_module": "@jupyter-widgets/controls",
      "model_module_version": "1.5.0",
      "model_name": "HTMLModel",
      "state": {
       "layout": "IPY_MODEL_c1f510caba824f29b4cadea8aab10786",
       "style": "IPY_MODEL_805eba6c0057410dad178ab779b14134",
       "value": "<table border=\"1\" class=\"dataframe table table-striped table-hover table-condensed table-responsive\">\n  <thead>\n    <tr style=\"text-align: right;\">\n      <th></th>\n      <th>45186</th>\n    </tr>\n  </thead>\n  <tbody>\n    <tr>\n      <th>met</th>\n      <td>25606.0</td>\n    </tr>\n    <tr>\n      <th>wave</th>\n      <td>27616.0</td>\n    </tr>\n    <tr>\n      <th>type</th>\n      <td>buoy</td>\n    </tr>\n    <tr>\n      <th>name</th>\n      <td>Waukegan Buoy, IL</td>\n    </tr>\n    <tr>\n      <th>pgm</th>\n      <td>IOOS Partners</td>\n    </tr>\n  </tbody>\n</table>"
      }
     },
     "9b95886d556d44589b67f8614126e4e3": {
      "model_module": "jupyter-leaflet",
      "model_module_version": "^0.15.0",
      "model_name": "LeafletMarkerModel",
      "state": {
       "_model_module_version": "^0.15.0",
       "_view_module_version": "^0.15.0",
       "draggable": false,
       "icon": "IPY_MODEL_56649fd7a66e4d0b8b0addc04f9147a5",
       "location": [
        21.297,
        -157.959
       ],
       "options": [
        "alt",
        "draggable",
        "keyboard",
        "rise_offset",
        "rise_on_hover",
        "rotation_angle",
        "rotation_origin",
        "title",
        "z_index_offset"
       ],
       "popup": "IPY_MODEL_2b194adb24124dd49ed530e1f5c05238"
      }
     },
     "9c196b350b1c4d62b85f15cb51918887": {
      "model_module": "@jupyter-widgets/controls",
      "model_module_version": "1.5.0",
      "model_name": "DescriptionStyleModel",
      "state": {
       "description_width": ""
      }
     },
     "9ca86740febc49e395875c9a3e310819": {
      "model_module": "@jupyter-widgets/controls",
      "model_module_version": "1.5.0",
      "model_name": "HTMLModel",
      "state": {
       "layout": "IPY_MODEL_42536ce2ac94404eb033322f617889c8",
       "style": "IPY_MODEL_fa4555e08879415980146d56f6cd01b6",
       "value": "<table border=\"1\" class=\"dataframe table table-striped table-hover table-condensed table-responsive\">\n  <thead>\n    <tr style=\"text-align: right;\">\n      <th></th>\n      <th>51208</th>\n    </tr>\n  </thead>\n  <tbody>\n    <tr>\n      <th>met</th>\n      <td>0.0</td>\n    </tr>\n    <tr>\n      <th>wave</th>\n      <td>11508.0</td>\n    </tr>\n    <tr>\n      <th>type</th>\n      <td>buoy</td>\n    </tr>\n    <tr>\n      <th>name</th>\n      <td>Hanalei, Kauai, HI (202)</td>\n    </tr>\n    <tr>\n      <th>pgm</th>\n      <td>IOOS Partners</td>\n    </tr>\n  </tbody>\n</table>"
      }
     },
     "9cba0b22ebe0435f8642faa2871a5dee": {
      "model_module": "jupyter-leaflet",
      "model_module_version": "^0.17.0",
      "model_name": "LeafletMarkerModel",
      "state": {
       "_model_module_version": "^0.17.0",
       "_view_module_version": "^0.17.0",
       "draggable": false,
       "icon": "IPY_MODEL_b133bdb6f9db43a9a2d3a38346ae0bdc",
       "location": [
        26.067,
        -97.155
       ],
       "options": [
        "alt",
        "draggable",
        "keyboard",
        "rise_offset",
        "rise_on_hover",
        "rotation_angle",
        "rotation_origin",
        "title",
        "z_index_offset"
       ],
       "popup": "IPY_MODEL_451910810a704fec92b61b5ce9955e40"
      }
     },
     "9cd4dfcebad2491a9618dce8c08e08f3": {
      "model_module": "@jupyter-widgets/controls",
      "model_module_version": "1.5.0",
      "model_name": "DescriptionStyleModel",
      "state": {
       "description_width": ""
      }
     },
     "9ce4a208ddc549459bd8e584cefe2dfa": {
      "model_module": "@jupyter-widgets/controls",
      "model_module_version": "1.5.0",
      "model_name": "DescriptionStyleModel",
      "state": {
       "description_width": ""
      }
     },
     "9d2f447ec1c04c178bc5006aba10f5d8": {
      "model_module": "jupyter-leaflet",
      "model_module_version": "^0.15.0",
      "model_name": "LeafletMarkerModel",
      "state": {
       "_model_module_version": "^0.15.0",
       "_view_module_version": "^0.15.0",
       "draggable": false,
       "icon": "IPY_MODEL_ac89bb84a5c449ef9fe05a0a70934154",
       "location": [
        42.8,
        -70.171
       ],
       "options": [
        "alt",
        "draggable",
        "keyboard",
        "rise_offset",
        "rise_on_hover",
        "rotation_angle",
        "rotation_origin",
        "title",
        "z_index_offset"
       ],
       "popup": "IPY_MODEL_931337a85d524a4698aa77a4307e9f56"
      }
     },
     "9d487a938ab147ee9ed0059d3fdb0e12": {
      "model_module": "@jupyter-widgets/controls",
      "model_module_version": "1.5.0",
      "model_name": "HTMLModel",
      "state": {
       "layout": "IPY_MODEL_195b71ebc6514c56ba694ad56a3df12a",
       "style": "IPY_MODEL_3ca1e3d1c83b43d2a3fd4e0bd9f27457",
       "value": "<table border=\"1\" class=\"dataframe table table-striped table-hover table-condensed table-responsive\">\n  <thead>\n    <tr style=\"text-align: right;\">\n      <th></th>\n      <th>45174</th>\n    </tr>\n  </thead>\n  <tbody>\n    <tr>\n      <th>met</th>\n      <td>33104.0</td>\n    </tr>\n    <tr>\n      <th>wave</th>\n      <td>33102.0</td>\n    </tr>\n    <tr>\n      <th>type</th>\n      <td>buoy</td>\n    </tr>\n    <tr>\n      <th>name</th>\n      <td>Wilmette Buoy, IL</td>\n    </tr>\n    <tr>\n      <th>pgm</th>\n      <td>IOOS Partners</td>\n    </tr>\n  </tbody>\n</table>"
      }
     },
     "9d7357c933cd41a69f6a15e962d9ee97": {
      "model_module": "@jupyter-widgets/controls",
      "model_module_version": "1.5.0",
      "model_name": "HTMLModel",
      "state": {
       "layout": "IPY_MODEL_1c1699b6107c45ff8a34bcc2631e24c9",
       "style": "IPY_MODEL_86513cb62c5e457098a103fa12c23acb",
       "value": "<table border=\"1\" class=\"dataframe table table-striped table-hover table-condensed table-responsive\">\n  <thead>\n    <tr style=\"text-align: right;\">\n      <th></th>\n      <th>45027</th>\n    </tr>\n  </thead>\n  <tbody>\n    <tr>\n      <th>met</th>\n      <td>31472.0</td>\n    </tr>\n    <tr>\n      <th>wave</th>\n      <td>31494.0</td>\n    </tr>\n    <tr>\n      <th>type</th>\n      <td>buoy</td>\n    </tr>\n    <tr>\n      <th>name</th>\n      <td>McQuade Harbor Nearshore, MN</td>\n    </tr>\n    <tr>\n      <th>pgm</th>\n      <td>IOOS Partners</td>\n    </tr>\n  </tbody>\n</table>"
      }
     },
     "9d751c933c5d4a0cbf84c22c53acd06c": {
      "model_module": "jupyter-leaflet",
      "model_module_version": "^0.17.0",
      "model_name": "LeafletAwesomeIconModel",
      "state": {
       "_model_module_version": "^0.17.0",
       "_view_module_version": "^0.17.0",
       "icon_color": "white",
       "marker_color": "orange",
       "name": "life-ring"
      }
     },
     "9d8b0b52f2ee493695d29e0252450d85": {
      "model_module": "@jupyter-widgets/base",
      "model_module_version": "1.2.0",
      "model_name": "LayoutModel",
      "state": {}
     },
     "9dc4fa1632ef405fa88ddb13302dd4b6": {
      "model_module": "jupyter-leaflet",
      "model_module_version": "^0.15.0",
      "model_name": "LeafletMarkerModel",
      "state": {
       "_model_module_version": "^0.15.0",
       "_view_module_version": "^0.15.0",
       "draggable": false,
       "icon": "IPY_MODEL_45ed3b9cc2e2476796656a84c81c52a5",
       "location": [
        27.634,
        -97.237
       ],
       "options": [
        "alt",
        "draggable",
        "keyboard",
        "rise_offset",
        "rise_on_hover",
        "rotation_angle",
        "rotation_origin",
        "title",
        "z_index_offset"
       ],
       "popup": "IPY_MODEL_b3c11c5ad8e4447b811bc4a4e651f8b8"
      }
     },
     "9dd4eacd7027485788f0efb803c4f370": {
      "model_module": "@jupyter-widgets/controls",
      "model_module_version": "1.5.0",
      "model_name": "DescriptionStyleModel",
      "state": {
       "description_width": ""
      }
     },
     "9e10a523aa8b40ae8cdb6bba62ab7d94": {
      "model_module": "@jupyter-widgets/controls",
      "model_module_version": "1.5.0",
      "model_name": "DescriptionStyleModel",
      "state": {
       "description_width": ""
      }
     },
     "9e43ace3173848008db38a405c985a61": {
      "model_module": "@jupyter-widgets/base",
      "model_module_version": "1.2.0",
      "model_name": "LayoutModel",
      "state": {}
     },
     "9e48f7b138f64ad6a18f47ae064f629d": {
      "model_module": "@jupyter-widgets/base",
      "model_module_version": "1.2.0",
      "model_name": "LayoutModel",
      "state": {}
     },
     "9e5d98dc5da64ba9b8467225c6846cb3": {
      "model_module": "jupyter-leaflet",
      "model_module_version": "^0.17.0",
      "model_name": "LeafletMarkerModel",
      "state": {
       "_model_module_version": "^0.17.0",
       "_view_module_version": "^0.17.0",
       "draggable": false,
       "icon": "IPY_MODEL_f51c67d2148148fa94416074ca1b4bfc",
       "location": [
        29.515,
        -94.513
       ],
       "options": [
        "alt",
        "draggable",
        "keyboard",
        "rise_offset",
        "rise_on_hover",
        "rotation_angle",
        "rotation_origin",
        "title",
        "z_index_offset"
       ],
       "popup": "IPY_MODEL_b6f6275b566447029bfe92c90258ef40"
      }
     },
     "9e9586d529f1467ab3dd36cddc2b8cbc": {
      "model_module": "@jupyter-widgets/controls",
      "model_module_version": "1.5.0",
      "model_name": "DescriptionStyleModel",
      "state": {
       "description_width": ""
      }
     },
     "9e9b274b555f484992315132edf5b69d": {
      "model_module": "jupyter-leaflet",
      "model_module_version": "^0.17.0",
      "model_name": "LeafletAwesomeIconModel",
      "state": {
       "_model_module_version": "^0.17.0",
       "_view_module_version": "^0.17.0",
       "icon_color": "white",
       "marker_color": "green",
       "name": "life-ring"
      }
     },
     "9edcf64f4bbf4e82aec458a426eec86b": {
      "model_module": "@jupyter-widgets/controls",
      "model_module_version": "1.5.0",
      "model_name": "DescriptionStyleModel",
      "state": {
       "description_width": ""
      }
     },
     "9f06b0003f744b17bf5facdada636e1b": {
      "model_module": "@jupyter-widgets/controls",
      "model_module_version": "1.5.0",
      "model_name": "DescriptionStyleModel",
      "state": {
       "description_width": ""
      }
     },
     "9f0a01bd9b0d4913afbc254c1fa81216": {
      "model_module": "jupyter-leaflet",
      "model_module_version": "^0.15.0",
      "model_name": "LeafletMarkerModel",
      "state": {
       "_model_module_version": "^0.15.0",
       "_view_module_version": "^0.15.0",
       "draggable": false,
       "icon": "IPY_MODEL_4f8f3462f3f649c4b7183a31276796d3",
       "location": [
        18.249,
        -64.763
       ],
       "options": [
        "alt",
        "draggable",
        "keyboard",
        "rise_offset",
        "rise_on_hover",
        "rotation_angle",
        "rotation_origin",
        "title",
        "z_index_offset"
       ],
       "popup": "IPY_MODEL_2b472625007e422489f29609073a92fd"
      }
     },
     "9f20332241174ca3a84ccebe1ea9d70c": {
      "model_module": "@jupyter-widgets/controls",
      "model_module_version": "1.5.0",
      "model_name": "DescriptionStyleModel",
      "state": {
       "description_width": ""
      }
     },
     "9f61c8135524412f89ea0a55c78bc724": {
      "model_module": "@jupyter-widgets/controls",
      "model_module_version": "1.5.0",
      "model_name": "HTMLModel",
      "state": {
       "layout": "IPY_MODEL_87cb84896a944457815f1dad196d3637",
       "style": "IPY_MODEL_4c97807a870e4cab8f657867d11624ec",
       "value": "<table border=\"1\" class=\"dataframe table table-striped table-hover table-condensed table-responsive\">\n  <thead>\n    <tr style=\"text-align: right;\">\n      <th></th>\n      <th>luit2</th>\n    </tr>\n  </thead>\n  <tbody>\n    <tr>\n      <th>met</th>\n      <td>58696.0</td>\n    </tr>\n    <tr>\n      <th>wave</th>\n      <td>0.0</td>\n    </tr>\n    <tr>\n      <th>type</th>\n      <td>fixed</td>\n    </tr>\n    <tr>\n      <th>name</th>\n      <td>8771972 - San Luis Pass, TX</td>\n    </tr>\n    <tr>\n      <th>pgm</th>\n      <td>IOOS Partners</td>\n    </tr>\n  </tbody>\n</table>"
      }
     },
     "9f7288b1619445ea869dd02ad7bc6b05": {
      "model_module": "@jupyter-widgets/controls",
      "model_module_version": "1.5.0",
      "model_name": "HTMLModel",
      "state": {
       "layout": "IPY_MODEL_e05a7b06b99e4c4bad3dfe4863e31b8b",
       "style": "IPY_MODEL_dc6a49b20ff6425a8898404cc1b4f2b9",
       "value": "<table border=\"1\" class=\"dataframe table table-striped table-hover table-condensed table-responsive\">\n  <thead>\n    <tr style=\"text-align: right;\">\n      <th></th>\n      <th>anpt2</th>\n    </tr>\n  </thead>\n  <tbody>\n    <tr>\n      <th>met</th>\n      <td>58680.0</td>\n    </tr>\n    <tr>\n      <th>wave</th>\n      <td>0.0</td>\n    </tr>\n    <tr>\n      <th>type</th>\n      <td>fixed</td>\n    </tr>\n    <tr>\n      <th>name</th>\n      <td>8775241 - Aransas, Aransas Pass, TX</td>\n    </tr>\n    <tr>\n      <th>pgm</th>\n      <td>IOOS Partners</td>\n    </tr>\n  </tbody>\n</table>"
      }
     },
     "9ffd90e105ee4ea8a287e683b6d0fe02": {
      "model_module": "@jupyter-widgets/controls",
      "model_module_version": "1.5.0",
      "model_name": "HTMLModel",
      "state": {
       "layout": "IPY_MODEL_a5b3d706353f401bb893c6db322c1b8c",
       "style": "IPY_MODEL_70ecb3eb317b4f9199310b3be2ba9246",
       "value": "<table border=\"1\" class=\"dataframe table table-striped table-hover table-condensed table-responsive\">\n  <thead>\n    <tr style=\"text-align: right;\">\n      <th></th>\n      <th>44024</th>\n    </tr>\n  </thead>\n  <tbody>\n    <tr>\n      <th>met</th>\n      <td>4828.0</td>\n    </tr>\n    <tr>\n      <th>wave</th>\n      <td>4708.0</td>\n    </tr>\n    <tr>\n      <th>type</th>\n      <td>buoy</td>\n    </tr>\n    <tr>\n      <th>name</th>\n      <td>Buoy N01 - Northeast Channel</td>\n    </tr>\n    <tr>\n      <th>pgm</th>\n      <td>IOOS Partners</td>\n    </tr>\n  </tbody>\n</table>"
      }
     },
     "a057014d384c43168ba12989dfd6159d": {
      "model_module": "jupyter-leaflet",
      "model_module_version": "^0.15.0",
      "model_name": "LeafletMarkerModel",
      "state": {
       "_model_module_version": "^0.15.0",
       "_view_module_version": "^0.15.0",
       "draggable": false,
       "icon": "IPY_MODEL_72d8cd78ae264a1dbef8940f26946d14",
       "location": [
        41.912,
        -87.624
       ],
       "options": [
        "alt",
        "draggable",
        "keyboard",
        "rise_offset",
        "rise_on_hover",
        "rotation_angle",
        "rotation_origin",
        "title",
        "z_index_offset"
       ],
       "popup": "IPY_MODEL_c053d3102adc4f7ab05d0813ce242af0"
      }
     },
     "a0583dac615f4ec1b5f884094e24a37a": {
      "model_module": "jupyter-leaflet",
      "model_module_version": "^0.15.0",
      "model_name": "LeafletAwesomeIconModel",
      "state": {
       "_model_module_version": "^0.15.0",
       "_view_module_version": "^0.15.0",
       "icon_color": "white",
       "marker_color": "green",
       "name": "life-ring"
      }
     },
     "a05ca35494be491f88643b6438acff56": {
      "model_module": "@jupyter-widgets/controls",
      "model_module_version": "1.5.0",
      "model_name": "DescriptionStyleModel",
      "state": {
       "description_width": ""
      }
     },
     "a061c23c26714a878d3f47ce3d5ce887": {
      "model_module": "jupyter-leaflet",
      "model_module_version": "^0.15.0",
      "model_name": "LeafletAwesomeIconModel",
      "state": {
       "_model_module_version": "^0.15.0",
       "_view_module_version": "^0.15.0",
       "icon_color": "white",
       "marker_color": "orange",
       "name": "life-ring"
      }
     },
     "a064b22e7ab84996a79b61a9f793092d": {
      "model_module": "@jupyter-widgets/base",
      "model_module_version": "1.2.0",
      "model_name": "LayoutModel",
      "state": {}
     },
     "a0e6c0c1bc6c42bebd9399ac9d6be397": {
      "model_module": "jupyter-leaflet",
      "model_module_version": "^0.15.0",
      "model_name": "LeafletMarkerModel",
      "state": {
       "_model_module_version": "^0.15.0",
       "_view_module_version": "^0.15.0",
       "draggable": false,
       "icon": "IPY_MODEL_3b1a2ad3512149769b1f1637866a583f",
       "location": [
        58.177,
        -135.052
       ],
       "options": [
        "alt",
        "draggable",
        "keyboard",
        "rise_offset",
        "rise_on_hover",
        "rotation_angle",
        "rotation_origin",
        "title",
        "z_index_offset"
       ],
       "popup": "IPY_MODEL_07b59b9a79ce488296686a47105047a4"
      }
     },
     "a0e7031bc0904bfb8872d565c169effd": {
      "model_module": "@jupyter-widgets/base",
      "model_module_version": "1.2.0",
      "model_name": "LayoutModel",
      "state": {}
     },
     "a0f12c224e2f4b51a6bcff4953755b73": {
      "model_module": "@jupyter-widgets/controls",
      "model_module_version": "1.5.0",
      "model_name": "DescriptionStyleModel",
      "state": {
       "description_width": ""
      }
     },
     "a154ef78194b427085f0352f088f1b5e": {
      "model_module": "jupyter-leaflet",
      "model_module_version": "^0.15.0",
      "model_name": "LeafletMapModel",
      "state": {
       "_model_module_version": "^0.15.0",
       "_view_module_version": "^0.15.0",
       "bottom": 1822,
       "center": [
        35,
        -95
       ],
       "controls": [
        "IPY_MODEL_731cd434727c410d99236e50064bcedc",
        "IPY_MODEL_a547b687a8f542c082e35bcd44337273",
        "IPY_MODEL_01420990afdf47e2817a2db6826687b3",
        "IPY_MODEL_d0d356f196544b00a1e73a82b523e096"
       ],
       "default_style": "IPY_MODEL_9544d2e5955e41a982d21999bdbe4131",
       "dragging_style": "IPY_MODEL_03471ea6e847438e971677ecc2892ff0",
       "east": -53.70117187500001,
       "fullscreen": false,
       "interpolation": "bilinear",
       "layers": [
        "IPY_MODEL_51d25f23ba4244bf979e87fe75b92c96",
        "IPY_MODEL_190d0d111f76484c99505e32415a7196",
        "IPY_MODEL_f455e7ed37594b40b78722763757ef66",
        "IPY_MODEL_64268298c0d943b68919971801686c54",
        "IPY_MODEL_6956dc5de40e4240a723b045e332881a",
        "IPY_MODEL_8429a09a91e44460981cbb67b8a6b797",
        "IPY_MODEL_9f0a01bd9b0d4913afbc254c1fa81216",
        "IPY_MODEL_a586459bc5fb4da4a59142ae92bb6d01",
        "IPY_MODEL_91ad9fa9917248fd86237a787e142c41",
        "IPY_MODEL_2ced7bf5106046a4907cdfd8496638cc",
        "IPY_MODEL_e98e1eefe4b14a6d85263980b4b24f54",
        "IPY_MODEL_0f370e08eea24be9a2bcca2a573831b6",
        "IPY_MODEL_8a24a8d6af1f415bbf930cfc8a36662b",
        "IPY_MODEL_888aa5e9855c456fb11c842ef03e6eb9",
        "IPY_MODEL_f344101bd2f84b87840a31bc234d1e71",
        "IPY_MODEL_53ea4f03c10d4748b43148d48145a878",
        "IPY_MODEL_911eb064acf04890bb13e670e651d4ee",
        "IPY_MODEL_3af34bac37684ca2b2d74fb9aa657fff",
        "IPY_MODEL_df4f3928c48c49ab831a02f01b3ed4bf",
        "IPY_MODEL_7920e81f638a4785b2cb9718117e365b",
        "IPY_MODEL_74977ac038e7486e91269f2fdbdec3f7",
        "IPY_MODEL_00c775c8504a479ab0e21f50c2c85d73",
        "IPY_MODEL_a6ce193b9fc64373b97328faa7fbcc3e",
        "IPY_MODEL_3370ae4389d94764b66e97ea57a05ea0",
        "IPY_MODEL_2b21847cef704192b399b5b9cd1ba11d",
        "IPY_MODEL_ae1ff070be10438aaf31c4568d9f0b8e",
        "IPY_MODEL_d889fe28695e4d1f8e67ff214406a54d",
        "IPY_MODEL_df037d5a82094cf0bd402e03594b6155",
        "IPY_MODEL_be03699274d64dc8b578da6d0bbf3fcf",
        "IPY_MODEL_9d2f447ec1c04c178bc5006aba10f5d8",
        "IPY_MODEL_2b287e3ebef341728c0adcb9a97499e8",
        "IPY_MODEL_7a9a7f251ae448299e55ac0c42eb8dc8",
        "IPY_MODEL_d3c8aa55defa4acebd9b67ceeb10072e",
        "IPY_MODEL_eb3874d036a74285b9470f718b6628bf",
        "IPY_MODEL_e695e915b1814abea7bf288094f29fd5",
        "IPY_MODEL_650de32ed0db4f6ca17efa2366b0e2f6",
        "IPY_MODEL_a569ffb1fb244b80b381265fdf4f2ebb",
        "IPY_MODEL_c8df7ef0339e4aea8bc16320c982c341",
        "IPY_MODEL_320030029cc0473a8dfa0179cc06dbb9",
        "IPY_MODEL_318ae17f22f240e2998dca98effddff3",
        "IPY_MODEL_0cadf3f7520e47f79d05a66cde709a80",
        "IPY_MODEL_6b47db7904ef487c8cde81050efd24e6",
        "IPY_MODEL_ffe2d148b0cf4a7a8d8c5d5348d85ccf",
        "IPY_MODEL_33db669fe2c841a4ba7fd434a904c7dc",
        "IPY_MODEL_332d2126d24a4237921a32ea0ae64e35",
        "IPY_MODEL_eba30de8c81849f68900efb0cea0ffbb",
        "IPY_MODEL_fcadadae900146c6998b95554cf79d81",
        "IPY_MODEL_d6cdc963e9be4ae38972c8dc8492ad84",
        "IPY_MODEL_0120d43abbd647e88940a6a6e4ce4bb3",
        "IPY_MODEL_696eb947d7e14287bcdc8977fd41b13e",
        "IPY_MODEL_95db190f2ba243e79eb87d840f39c200",
        "IPY_MODEL_9a8742e8f26a481b8bc5f50238f3a59a",
        "IPY_MODEL_27c78a5f33cf4f7698dffb4caac8ca89",
        "IPY_MODEL_329e41aac98d407d94af39395c9f9c00",
        "IPY_MODEL_32c95650788b4abe87e927bbb26a63c2",
        "IPY_MODEL_36c413bface6421c9cb2f6e307bd50e4",
        "IPY_MODEL_edda050f5ff14643a715b14e0b673e82",
        "IPY_MODEL_49e1752eb8b0483d9683baba7f7d9819",
        "IPY_MODEL_ad4172a585794445a1c30539921594da",
        "IPY_MODEL_9b95886d556d44589b67f8614126e4e3",
        "IPY_MODEL_64752bc1d5db4fa190039d1c4358405c",
        "IPY_MODEL_cfde650d0153453d854b16701be720af",
        "IPY_MODEL_dee8815a445943928e8a19af172bce3e",
        "IPY_MODEL_bfb3929e3505498c81f4a0f8dcb5a9e8",
        "IPY_MODEL_cd6bcb8281584e1d92c4bbe22da69537",
        "IPY_MODEL_5c89ae71aebe4a34bd375e70792c82fa",
        "IPY_MODEL_da9890ccb5cd4f1cb3e7c98e2773d8db",
        "IPY_MODEL_3e1867d1f87e472c97a393dbb6aa45fb",
        "IPY_MODEL_d03f17d85d1143e68f8a816a5218eb97",
        "IPY_MODEL_80f4489217aa481797d55ace09125fc5",
        "IPY_MODEL_6fc65f28102247449d75641cf3f234b0",
        "IPY_MODEL_e26aa1fb92854228ba697244dd864c14",
        "IPY_MODEL_b5ff7841192446e1ba701626ec675093",
        "IPY_MODEL_53b24d9148a94c3681989947c3406183",
        "IPY_MODEL_63202ff41c61412ba92d17c2dafb6ffb",
        "IPY_MODEL_3b0b9a0917cb4da5ab5cf14ba3a717f2",
        "IPY_MODEL_62c402d9a45a4e3eb74c7a55de1637b1",
        "IPY_MODEL_1e2335b3d9e44a31abe2d96f4a766db0",
        "IPY_MODEL_fac41b2f4e764b698d65dd4e33c6d072",
        "IPY_MODEL_d833b926e7034bee809da13c7180b7cb",
        "IPY_MODEL_929351c6d00c4958be04c8806972dd63",
        "IPY_MODEL_ce1bad65015547729513552592d54852",
        "IPY_MODEL_b2b370f548ba4cedaafc4af1504e77d8",
        "IPY_MODEL_06cf282d8882429583b2c971f70e82d3",
        "IPY_MODEL_b5b3dd3b626147eea011f79f83710580",
        "IPY_MODEL_b1641704f52046cfa502ce95c0ef6950",
        "IPY_MODEL_3d5704868119473f93d6ef460bbe2b76",
        "IPY_MODEL_f82abdcdce3748b4a7be84addad8fe94",
        "IPY_MODEL_7cedd20a7b774b0e983f15db7823d012",
        "IPY_MODEL_07261a4e52734a21a04e945bc6494d19",
        "IPY_MODEL_630434e60b32427e8f74c7120a34a4d5",
        "IPY_MODEL_9b32c6445b454390b5b021f01c283ac9",
        "IPY_MODEL_39c85711410f4860b6a226ce9827db0f",
        "IPY_MODEL_25c6d73800904d0f98bba3b8cabb280e",
        "IPY_MODEL_0b98f67ab983459499d7db1450923e5d",
        "IPY_MODEL_0e68f187099a41c788f804ece580f4c4",
        "IPY_MODEL_65555d9bc75448ad9aeac85497dd3f56",
        "IPY_MODEL_d1a3ed3f227d4711bbaecc029dff1c9b",
        "IPY_MODEL_af85f5114a7046b9a9e26049743fad3b",
        "IPY_MODEL_1546cb05fc634f2e8f4c64adb41fd125",
        "IPY_MODEL_a78ffe9274f44ba19aa432ccac45f830",
        "IPY_MODEL_33a3cd9a3e724cfa98d2aeabcffc26b9",
        "IPY_MODEL_a1d874f1f80b421183bf0f2c1f2b1725",
        "IPY_MODEL_09bdd690e9f043a3bd607a49ce86be46",
        "IPY_MODEL_a057014d384c43168ba12989dfd6159d",
        "IPY_MODEL_9dc4fa1632ef405fa88ddb13302dd4b6",
        "IPY_MODEL_3228fb1cf9a7478c92e40ff871302689",
        "IPY_MODEL_e08fa70a1e3d428aba184fb9f304977e",
        "IPY_MODEL_21dfbccf804a4b20baee54296445f37d",
        "IPY_MODEL_f56e77c6b8e14c71bc1383b9ed98dd81",
        "IPY_MODEL_a8503b199db748e4aa6c5b8e53b9e6ba",
        "IPY_MODEL_25d880228a214c8589bdce088018d3cf",
        "IPY_MODEL_22f48ff35031406783ba36d433107bde",
        "IPY_MODEL_3a954e6128514f3eab3f0293134642c2",
        "IPY_MODEL_a0e6c0c1bc6c42bebd9399ac9d6be397",
        "IPY_MODEL_b638415cc59a4817b47bf65e0a785a8a",
        "IPY_MODEL_0296f7b0a13f401ebe48a29b1cc4ddb1",
        "IPY_MODEL_20f0d23d9bbb4a47ac0d09a47f562ef8",
        "IPY_MODEL_846bd3942b2a416e9a341488769de864",
        "IPY_MODEL_c31e4e2338214c7c8bdd5145bba8e438",
        "IPY_MODEL_7120c516947e47969938bf60ae94cae1",
        "IPY_MODEL_b6f8989df2894419a1cf7c93d6da6ce0",
        "IPY_MODEL_401f15095564431abed258634e6cf010",
        "IPY_MODEL_2fc9f15e41d748d0b27b872320de5b7a",
        "IPY_MODEL_7009991f9c534a308e53f6b5d7814c14",
        "IPY_MODEL_817c4d3ed888468ca3028da1ec8507d1",
        "IPY_MODEL_90cad65f0c7e4720b763fca8acd14a7c",
        "IPY_MODEL_f52456403b99417ab585c1e0c2f4c4cf",
        "IPY_MODEL_b5ff8c5a1c3646eb885e59b57cc325e1",
        "IPY_MODEL_45ef7a0282984b088986349e736463c3",
        "IPY_MODEL_c55c4779321d4a2193ff69111f78e88a",
        "IPY_MODEL_b87d916b0dd740bfb64415cf054be6af",
        "IPY_MODEL_60a7d41b3bb74c6bae491c5ba3e410c2",
        "IPY_MODEL_18a166b0232e4f1c8f3a0f58618db2bd"
       ],
       "layout": "IPY_MODEL_fb625e5179f44a44b44d34a94ec98ef0",
       "left": 498,
       "modisdate": "2022-02-21",
       "north": 48.10743118848039,
       "options": [
        "bounce_at_zoom_limits",
        "box_zoom",
        "center",
        "close_popup_on_click",
        "double_click_zoom",
        "dragging",
        "fullscreen",
        "inertia",
        "inertia_deceleration",
        "inertia_max_speed",
        "interpolation",
        "keyboard",
        "keyboard_pan_offset",
        "keyboard_zoom_offset",
        "max_zoom",
        "min_zoom",
        "prefer_canvas",
        "scroll_wheel_zoom",
        "tap",
        "tap_tolerance",
        "touch_zoom",
        "world_copy_jump",
        "zoom",
        "zoom_animation_threshold",
        "zoom_delta",
        "zoom_snap",
        "zoom_start"
       ],
       "prefer_canvas": false,
       "right": 1437,
       "south": 19.476950206488414,
       "style": "IPY_MODEL_6e46ca9763e44a7c96a796c81228d594",
       "top": 1422,
       "west": -136.23046875000003,
       "window_url": "http://127.0.0.1:8888/notebooks/jupyterbook/content/code_gallery/data_access_notebooks/2020-10-10-GTS.ipynb",
       "zoom": 4
      }
     },
     "a16481e7e11e4dc384387134e261f51e": {
      "model_module": "@jupyter-widgets/controls",
      "model_module_version": "1.5.0",
      "model_name": "DescriptionStyleModel",
      "state": {
       "description_width": ""
      }
     },
     "a1ce22f484eb4605a4a4284079b31ec4": {
      "model_module": "@jupyter-widgets/controls",
      "model_module_version": "1.5.0",
      "model_name": "DescriptionStyleModel",
      "state": {
       "description_width": ""
      }
     },
     "a1d874f1f80b421183bf0f2c1f2b1725": {
      "model_module": "jupyter-leaflet",
      "model_module_version": "^0.15.0",
      "model_name": "LeafletMarkerModel",
      "state": {
       "_model_module_version": "^0.15.0",
       "_view_module_version": "^0.15.0",
       "draggable": false,
       "icon": "IPY_MODEL_b367a25e28fd40e29e07e72082033757",
       "location": [
        58.255,
        -134.945
       ],
       "options": [
        "alt",
        "draggable",
        "keyboard",
        "rise_offset",
        "rise_on_hover",
        "rotation_angle",
        "rotation_origin",
        "title",
        "z_index_offset"
       ],
       "popup": "IPY_MODEL_025029d7f8894d979698b9d9cbc5782c"
      }
     },
     "a1f25af3b6084922892709db67e9aeb8": {
      "model_module": "@jupyter-widgets/controls",
      "model_module_version": "1.5.0",
      "model_name": "DescriptionStyleModel",
      "state": {
       "description_width": ""
      }
     },
     "a24c52fd6c8442488a0c7f64a3bbcb09": {
      "model_module": "@jupyter-widgets/base",
      "model_module_version": "1.2.0",
      "model_name": "LayoutModel",
      "state": {}
     },
     "a25ef65fb67f470187a715783bf7f750": {
      "model_module": "jupyter-leaflet",
      "model_module_version": "^0.15.0",
      "model_name": "LeafletAwesomeIconModel",
      "state": {
       "_model_module_version": "^0.15.0",
       "_view_module_version": "^0.15.0",
       "icon_color": "white",
       "marker_color": "orange",
       "name": "life-ring"
      }
     },
     "a289460dc0e14e1cbfa9a7ed786d820d": {
      "model_module": "jupyter-leaflet",
      "model_module_version": "^0.17.0",
      "model_name": "LeafletMarkerModel",
      "state": {
       "_model_module_version": "^0.17.0",
       "_view_module_version": "^0.17.0",
       "draggable": false,
       "icon": "IPY_MODEL_6044827fede14ba68b5b49ab5dbb2c9d",
       "location": [
        27.48,
        -97.322
       ],
       "options": [
        "alt",
        "draggable",
        "keyboard",
        "rise_offset",
        "rise_on_hover",
        "rotation_angle",
        "rotation_origin",
        "title",
        "z_index_offset"
       ],
       "popup": "IPY_MODEL_e98e560f255e43739af3006505d10b93"
      }
     },
     "a2bf735272b44c9cba5da195528e5a1c": {
      "model_module": "@jupyter-widgets/controls",
      "model_module_version": "1.5.0",
      "model_name": "HTMLModel",
      "state": {
       "layout": "IPY_MODEL_33420eed0d4c475eb52b0a9dc89bd214",
       "style": "IPY_MODEL_1478d1de59784ad68230ea8b98bf17d0",
       "value": "<table border=\"1\" class=\"dataframe table table-striped table-hover table-condensed table-responsive\">\n  <thead>\n    <tr style=\"text-align: right;\">\n      <th></th>\n      <th>41053</th>\n    </tr>\n  </thead>\n  <tbody>\n    <tr>\n      <th>met</th>\n      <td>35188.0</td>\n    </tr>\n    <tr>\n      <th>wave</th>\n      <td>5886.0</td>\n    </tr>\n    <tr>\n      <th>type</th>\n      <td>buoy</td>\n    </tr>\n    <tr>\n      <th>name</th>\n      <td>San Juan, PR</td>\n    </tr>\n    <tr>\n      <th>pgm</th>\n      <td>IOOS Partners</td>\n    </tr>\n  </tbody>\n</table>"
      }
     },
     "a326a4965e2545cbb1d72ba1fd08f2d8": {
      "model_module": "@jupyter-widgets/controls",
      "model_module_version": "1.5.0",
      "model_name": "HTMLModel",
      "state": {
       "layout": "IPY_MODEL_3fb8419f99ff43b5b198522acc7028c0",
       "style": "IPY_MODEL_0646fc78573f4d2483a961a8d2534abe",
       "value": "<table border=\"1\" class=\"dataframe table table-striped table-hover table-condensed table-responsive\">\n  <thead>\n    <tr style=\"text-align: right;\">\n      <th></th>\n      <th>45029</th>\n    </tr>\n  </thead>\n  <tbody>\n    <tr>\n      <th>met</th>\n      <td>28266.0</td>\n    </tr>\n    <tr>\n      <th>wave</th>\n      <td>28304.0</td>\n    </tr>\n    <tr>\n      <th>type</th>\n      <td>buoy</td>\n    </tr>\n    <tr>\n      <th>name</th>\n      <td>Holland Buoy, MI</td>\n    </tr>\n    <tr>\n      <th>pgm</th>\n      <td>IOOS Partners</td>\n    </tr>\n  </tbody>\n</table>"
      }
     },
     "a3945d4370c54a1b8c2b1aebcb842a5f": {
      "model_module": "jupyter-leaflet",
      "model_module_version": "^0.17.0",
      "model_name": "LeafletMarkerModel",
      "state": {
       "_model_module_version": "^0.17.0",
       "_view_module_version": "^0.17.0",
       "draggable": false,
       "icon": "IPY_MODEL_57cce49dd8f44e5b858319069b226acc",
       "location": [
        44.055,
        -68.996
       ],
       "options": [
        "alt",
        "draggable",
        "keyboard",
        "rise_offset",
        "rise_on_hover",
        "rotation_angle",
        "rotation_origin",
        "title",
        "z_index_offset"
       ],
       "popup": "IPY_MODEL_c0219a7f6c704d73aa41ca3bcbbb0c2d"
      }
     },
     "a3bef438c6db429bbc6ba0b815cacc60": {
      "model_module": "@jupyter-widgets/base",
      "model_module_version": "1.2.0",
      "model_name": "LayoutModel",
      "state": {}
     },
     "a425df17c2004f81a1dfb9d471709b9d": {
      "model_module": "@jupyter-widgets/controls",
      "model_module_version": "1.5.0",
      "model_name": "HTMLModel",
      "state": {
       "layout": "IPY_MODEL_79993e423d764a7a8f771428d0e1e5c6",
       "style": "IPY_MODEL_81b997a354644c1dbe1684e8a5328622",
       "value": "<table border=\"1\" class=\"dataframe table table-striped table-hover table-condensed table-responsive\">\n  <thead>\n    <tr style=\"text-align: right;\">\n      <th></th>\n      <th>grrt2</th>\n    </tr>\n  </thead>\n  <tbody>\n    <tr>\n      <th>met</th>\n      <td>58668.0</td>\n    </tr>\n    <tr>\n      <th>wave</th>\n      <td>0.0</td>\n    </tr>\n    <tr>\n      <th>type</th>\n      <td>fixed</td>\n    </tr>\n    <tr>\n      <th>name</th>\n      <td>8771486 - Galveston RR Bridge, TX</td>\n    </tr>\n    <tr>\n      <th>pgm</th>\n      <td>IOOS Partners</td>\n    </tr>\n  </tbody>\n</table>"
      }
     },
     "a4262c63dafb49a4845094403b01671e": {
      "model_module": "@jupyter-widgets/controls",
      "model_module_version": "1.5.0",
      "model_name": "DescriptionStyleModel",
      "state": {
       "description_width": ""
      }
     },
     "a4a79cd3a9fc43498843ce27d7fd93a1": {
      "model_module": "jupyter-leaflet",
      "model_module_version": "^0.15.0",
      "model_name": "LeafletAwesomeIconModel",
      "state": {
       "_model_module_version": "^0.15.0",
       "_view_module_version": "^0.15.0",
       "icon_color": "white",
       "marker_color": "green",
       "name": "life-ring"
      }
     },
     "a4e6732f6ce048549ea5c73f0ab41467": {
      "model_module": "jupyter-leaflet",
      "model_module_version": "^0.17.0",
      "model_name": "LeafletMarkerModel",
      "state": {
       "_model_module_version": "^0.17.0",
       "_view_module_version": "^0.17.0",
       "draggable": false,
       "icon": "IPY_MODEL_972fc8673c744f8ead37a51ff8e0663e",
       "location": [
        28.771,
        -95.617
       ],
       "options": [
        "alt",
        "draggable",
        "keyboard",
        "rise_offset",
        "rise_on_hover",
        "rotation_angle",
        "rotation_origin",
        "title",
        "z_index_offset"
       ],
       "popup": "IPY_MODEL_cb048807ea0d4d97b6c9d2198fb1686d"
      }
     },
     "a4ea2bdf47904b938beb368d7e0ba6a0": {
      "model_module": "jupyter-leaflet",
      "model_module_version": "^0.17.0",
      "model_name": "LeafletMarkerModel",
      "state": {
       "_model_module_version": "^0.17.0",
       "_view_module_version": "^0.17.0",
       "draggable": false,
       "icon": "IPY_MODEL_ff794da362ca4865a462ec0decc81d91",
       "location": [
        21.297,
        -157.959
       ],
       "options": [
        "alt",
        "draggable",
        "keyboard",
        "rise_offset",
        "rise_on_hover",
        "rotation_angle",
        "rotation_origin",
        "title",
        "z_index_offset"
       ],
       "popup": "IPY_MODEL_ad45e94f2cfc4d23bee6782a720fb41a"
      }
     },
     "a547b687a8f542c082e35bcd44337273": {
      "model_module": "jupyter-leaflet",
      "model_module_version": "^0.15.0",
      "model_name": "LeafletAttributionControlModel",
      "state": {
       "_model_module_version": "^0.15.0",
       "_view_module_version": "^0.15.0",
       "options": [
        "position",
        "prefix"
       ],
       "position": "bottomright",
       "prefix": "ipyleaflet"
      }
     },
     "a569ffb1fb244b80b381265fdf4f2ebb": {
      "model_module": "jupyter-leaflet",
      "model_module_version": "^0.15.0",
      "model_name": "LeafletMarkerModel",
      "state": {
       "_model_module_version": "^0.15.0",
       "_view_module_version": "^0.15.0",
       "draggable": false,
       "icon": "IPY_MODEL_7b351c77e3bc4f76a8074d9f651b2abd",
       "location": [
        41.982,
        -86.619
       ],
       "options": [
        "alt",
        "draggable",
        "keyboard",
        "rise_offset",
        "rise_on_hover",
        "rotation_angle",
        "rotation_origin",
        "title",
        "z_index_offset"
       ],
       "popup": "IPY_MODEL_181008ec53e54aceb84ca3550df547ba"
      }
     },
     "a586459bc5fb4da4a59142ae92bb6d01": {
      "model_module": "jupyter-leaflet",
      "model_module_version": "^0.15.0",
      "model_name": "LeafletMarkerModel",
      "state": {
       "_model_module_version": "^0.15.0",
       "_view_module_version": "^0.15.0",
       "draggable": false,
       "icon": "IPY_MODEL_30c6c55f6bac479c90b1dec93240740f",
       "location": [
        18.474,
        -66.099
       ],
       "options": [
        "alt",
        "draggable",
        "keyboard",
        "rise_offset",
        "rise_on_hover",
        "rotation_angle",
        "rotation_origin",
        "title",
        "z_index_offset"
       ],
       "popup": "IPY_MODEL_a2bf735272b44c9cba5da195528e5a1c"
      }
     },
     "a58a835beb3e4f3da88b54edd56cb0d5": {
      "model_module": "@jupyter-widgets/controls",
      "model_module_version": "1.5.0",
      "model_name": "DescriptionStyleModel",
      "state": {
       "description_width": ""
      }
     },
     "a5b3d706353f401bb893c6db322c1b8c": {
      "model_module": "@jupyter-widgets/base",
      "model_module_version": "1.2.0",
      "model_name": "LayoutModel",
      "state": {}
     },
     "a5f5bfb42a69449e94c05bb1de1e58f3": {
      "model_module": "@jupyter-widgets/controls",
      "model_module_version": "1.5.0",
      "model_name": "HTMLModel",
      "state": {
       "layout": "IPY_MODEL_08c5c5e72bcb440297bce79a9feb8439",
       "style": "IPY_MODEL_3bebb8ae61b546468eb67f1fc8a700dd",
       "value": "<table border=\"1\" class=\"dataframe table table-striped table-hover table-condensed table-responsive\">\n  <thead>\n    <tr style=\"text-align: right;\">\n      <th></th>\n      <th>44034</th>\n    </tr>\n  </thead>\n  <tbody>\n    <tr>\n      <th>met</th>\n      <td>5794.0</td>\n    </tr>\n    <tr>\n      <th>wave</th>\n      <td>5702.0</td>\n    </tr>\n    <tr>\n      <th>type</th>\n      <td>buoy</td>\n    </tr>\n    <tr>\n      <th>name</th>\n      <td>Buoy I01 - Eastern Maine Shelf</td>\n    </tr>\n    <tr>\n      <th>pgm</th>\n      <td>IOOS Partners</td>\n    </tr>\n  </tbody>\n</table>"
      }
     },
     "a6067c4c56a54032b1760e703056bc64": {
      "model_module": "jupyter-leaflet",
      "model_module_version": "^0.15.0",
      "model_name": "LeafletAwesomeIconModel",
      "state": {
       "_model_module_version": "^0.15.0",
       "_view_module_version": "^0.15.0",
       "icon_color": "white",
       "marker_color": "green",
       "name": "life-ring"
      }
     },
     "a63317373d8f490cba571f472d08e625": {
      "model_module": "@jupyter-widgets/controls",
      "model_module_version": "1.5.0",
      "model_name": "DescriptionStyleModel",
      "state": {
       "description_width": ""
      }
     },
     "a6ce193b9fc64373b97328faa7fbcc3e": {
      "model_module": "jupyter-leaflet",
      "model_module_version": "^0.15.0",
      "model_name": "LeafletMarkerModel",
      "state": {
       "_model_module_version": "^0.15.0",
       "_view_module_version": "^0.15.0",
       "draggable": false,
       "icon": "IPY_MODEL_706a09f07f4a4097bf9f2da70cd8bbc4",
       "location": [
        43.715,
        -69.355
       ],
       "options": [
        "alt",
        "draggable",
        "keyboard",
        "rise_offset",
        "rise_on_hover",
        "rotation_angle",
        "rotation_origin",
        "title",
        "z_index_offset"
       ],
       "popup": "IPY_MODEL_2f6149c7d7ab42ebba67c68a7c4abb1a"
      }
     },
     "a6cfb3b27c6e4156a43938203cecbfdc": {
      "model_module": "@jupyter-widgets/controls",
      "model_module_version": "1.5.0",
      "model_name": "DescriptionStyleModel",
      "state": {
       "description_width": ""
      }
     },
     "a6df8eb5dcc64551973a36f6c7e249b3": {
      "model_module": "jupyter-leaflet",
      "model_module_version": "^0.17.0",
      "model_name": "LeafletMarkerModel",
      "state": {
       "_model_module_version": "^0.17.0",
       "_view_module_version": "^0.17.0",
       "draggable": false,
       "icon": "IPY_MODEL_02232709f72245d39500ea8514a42c03",
       "location": [
        43.179,
        -70.426
       ],
       "options": [
        "alt",
        "draggable",
        "keyboard",
        "rise_offset",
        "rise_on_hover",
        "rotation_angle",
        "rotation_origin",
        "title",
        "z_index_offset"
       ],
       "popup": "IPY_MODEL_ae2eea12df8741a9b5621578c2fe2a73"
      }
     },
     "a711c3c9d0564158917d475aea8ca96e": {
      "model_module": "jupyter-leaflet",
      "model_module_version": "^0.17.0",
      "model_name": "LeafletMarkerModel",
      "state": {
       "_model_module_version": "^0.17.0",
       "_view_module_version": "^0.17.0",
       "draggable": false,
       "icon": "IPY_MODEL_0bbd1880cb3540249a1f672c11d54de4",
       "location": [
        46.814,
        -91.829
       ],
       "options": [
        "alt",
        "draggable",
        "keyboard",
        "rise_offset",
        "rise_on_hover",
        "rotation_angle",
        "rotation_origin",
        "title",
        "z_index_offset"
       ],
       "popup": "IPY_MODEL_71efef1399a14e56aff1ab2a18c471c1"
      }
     },
     "a71dc8a5e8264540b3736a4d43a41234": {
      "model_module": "@jupyter-widgets/base",
      "model_module_version": "1.2.0",
      "model_name": "LayoutModel",
      "state": {}
     },
     "a761d3ec89a54faaa73dea6194c58793": {
      "model_module": "jupyter-leaflet",
      "model_module_version": "^0.15.0",
      "model_name": "LeafletAwesomeIconModel",
      "state": {
       "_model_module_version": "^0.15.0",
       "_view_module_version": "^0.15.0",
       "icon_color": "white",
       "marker_color": "red",
       "name": "life-ring"
      }
     },
     "a78ffe9274f44ba19aa432ccac45f830": {
      "model_module": "jupyter-leaflet",
      "model_module_version": "^0.15.0",
      "model_name": "LeafletMarkerModel",
      "state": {
       "_model_module_version": "^0.15.0",
       "_view_module_version": "^0.15.0",
       "draggable": false,
       "icon": "IPY_MODEL_8c08a2d01ee648669d1faa88b5b31dc0",
       "location": [
        29.726,
        -95.266
       ],
       "options": [
        "alt",
        "draggable",
        "keyboard",
        "rise_offset",
        "rise_on_hover",
        "rotation_angle",
        "rotation_origin",
        "title",
        "z_index_offset"
       ],
       "popup": "IPY_MODEL_94bc97f582d542bd958edc8744532a40"
      }
     },
     "a792b3638d444e23b5ec9636344e5bfc": {
      "model_module": "@jupyter-widgets/base",
      "model_module_version": "1.2.0",
      "model_name": "LayoutModel",
      "state": {}
     },
     "a7cbb337ebb2482bb421bff0af3290b2": {
      "model_module": "@jupyter-widgets/controls",
      "model_module_version": "1.5.0",
      "model_name": "HTMLModel",
      "state": {
       "layout": "IPY_MODEL_83e333fbf20a49a4b6f745da78f9dfa1",
       "style": "IPY_MODEL_51afe6552d5d4e0abe218a86a309f5f2",
       "value": "<table border=\"1\" class=\"dataframe table table-striped table-hover table-condensed table-responsive\">\n  <thead>\n    <tr style=\"text-align: right;\">\n      <th></th>\n      <th>51201</th>\n    </tr>\n  </thead>\n  <tbody>\n    <tr>\n      <th>met</th>\n      <td>0.0</td>\n    </tr>\n    <tr>\n      <th>wave</th>\n      <td>11520.0</td>\n    </tr>\n    <tr>\n      <th>type</th>\n      <td>buoy</td>\n    </tr>\n    <tr>\n      <th>name</th>\n      <td>Waimea Bay, HI (106)</td>\n    </tr>\n    <tr>\n      <th>pgm</th>\n      <td>IOOS Partners</td>\n    </tr>\n  </tbody>\n</table>"
      }
     },
     "a80be712502c4b2aa0dda79df9f0a99f": {
      "model_module": "@jupyter-widgets/base",
      "model_module_version": "1.2.0",
      "model_name": "LayoutModel",
      "state": {}
     },
     "a81a6f2afa2e404d8ffcc18031672e64": {
      "model_module": "jupyter-leaflet",
      "model_module_version": "^0.17.0",
      "model_name": "LeafletAwesomeIconModel",
      "state": {
       "_model_module_version": "^0.17.0",
       "_view_module_version": "^0.17.0",
       "icon_color": "white",
       "marker_color": "orange",
       "name": "life-ring"
      }
     },
     "a8503b199db748e4aa6c5b8e53b9e6ba": {
      "model_module": "jupyter-leaflet",
      "model_module_version": "^0.15.0",
      "model_name": "LeafletMarkerModel",
      "state": {
       "_model_module_version": "^0.15.0",
       "_view_module_version": "^0.15.0",
       "draggable": false,
       "icon": "IPY_MODEL_50694670fc5e4024a7b74e4d33adffd4",
       "location": [
        26.559,
        -97.424
       ],
       "options": [
        "alt",
        "draggable",
        "keyboard",
        "rise_offset",
        "rise_on_hover",
        "rotation_angle",
        "rotation_origin",
        "title",
        "z_index_offset"
       ],
       "popup": "IPY_MODEL_90e831a3970a4f14964fdf4e4ec062ba"
      }
     },
     "a8fa78af978e4beeba09e3db6ccd0c8e": {
      "model_module": "jupyter-leaflet",
      "model_module_version": "^0.15.0",
      "model_name": "LeafletAwesomeIconModel",
      "state": {
       "_model_module_version": "^0.15.0",
       "_view_module_version": "^0.15.0",
       "icon_color": "white",
       "marker_color": "orange",
       "name": "life-ring"
      }
     },
     "a9a9e276cf86491fbe2b40f9b36baa0d": {
      "model_module": "jupyter-leaflet",
      "model_module_version": "^0.17.0",
      "model_name": "LeafletMarkerModel",
      "state": {
       "_model_module_version": "^0.17.0",
       "_view_module_version": "^0.17.0",
       "draggable": false,
       "icon": "IPY_MODEL_3c8661968eac48a49d8f7676151e20c2",
       "location": [
        50.033,
        -145.205
       ],
       "options": [
        "alt",
        "draggable",
        "keyboard",
        "rise_offset",
        "rise_on_hover",
        "rotation_angle",
        "rotation_origin",
        "title",
        "z_index_offset"
       ],
       "popup": "IPY_MODEL_95284b858b0c409785cf1f7f52143912"
      }
     },
     "a9b7cfb36611493e81a36776ff4dcb76": {
      "model_module": "jupyter-leaflet",
      "model_module_version": "^0.15.0",
      "model_name": "LeafletAwesomeIconModel",
      "state": {
       "_model_module_version": "^0.15.0",
       "_view_module_version": "^0.15.0",
       "icon_color": "white",
       "marker_color": "green",
       "name": "life-ring"
      }
     },
     "aa070656d7574979aed5b2d6b569bd5f": {
      "model_module": "@jupyter-widgets/base",
      "model_module_version": "1.2.0",
      "model_name": "LayoutModel",
      "state": {}
     },
     "aa156744229d4c478a383d63a8a0eb40": {
      "model_module": "@jupyter-widgets/base",
      "model_module_version": "1.2.0",
      "model_name": "LayoutModel",
      "state": {}
     },
     "aa252800f9d744be92c82de819c252d1": {
      "model_module": "@jupyter-widgets/base",
      "model_module_version": "1.2.0",
      "model_name": "LayoutModel",
      "state": {}
     },
     "aa3327ff4d364a1a91056c3d99b4b8b9": {
      "model_module": "@jupyter-widgets/controls",
      "model_module_version": "1.5.0",
      "model_name": "HTMLModel",
      "state": {
       "layout": "IPY_MODEL_d44711b9db7e43228278c36cc3b79f66",
       "style": "IPY_MODEL_cb7ed90884e0443abc9d45265bf9ab6f",
       "value": "<table border=\"1\" class=\"dataframe table table-striped table-hover table-condensed table-responsive\">\n  <thead>\n    <tr style=\"text-align: right;\">\n      <th></th>\n      <th>46092</th>\n    </tr>\n  </thead>\n  <tbody>\n    <tr>\n      <th>met</th>\n      <td>5698.0</td>\n    </tr>\n    <tr>\n      <th>wave</th>\n      <td>0.0</td>\n    </tr>\n    <tr>\n      <th>type</th>\n      <td>buoy</td>\n    </tr>\n    <tr>\n      <th>name</th>\n      <td>MBM1</td>\n    </tr>\n    <tr>\n      <th>pgm</th>\n      <td>IOOS Partners</td>\n    </tr>\n  </tbody>\n</table>"
      }
     },
     "aa41e745d2f84017aaa9c9d0fdf24d82": {
      "model_module": "@jupyter-widgets/base",
      "model_module_version": "1.2.0",
      "model_name": "LayoutModel",
      "state": {}
     },
     "aa5f530c99924703b306caa85a4f87b5": {
      "model_module": "@jupyter-widgets/controls",
      "model_module_version": "1.5.0",
      "model_name": "DescriptionStyleModel",
      "state": {
       "description_width": ""
      }
     },
     "aaadd420eec24079ab9550794e68685b": {
      "model_module": "jupyter-leaflet",
      "model_module_version": "^0.15.0",
      "model_name": "LeafletAwesomeIconModel",
      "state": {
       "_model_module_version": "^0.15.0",
       "_view_module_version": "^0.15.0",
       "icon_color": "white",
       "marker_color": "orange",
       "name": "life-ring"
      }
     },
     "ab0c0b51eddb41b28e88cbd8e9d08434": {
      "model_module": "jupyter-leaflet",
      "model_module_version": "^0.17.0",
      "model_name": "LeafletAwesomeIconModel",
      "state": {
       "_model_module_version": "^0.17.0",
       "_view_module_version": "^0.17.0",
       "icon_color": "white",
       "marker_color": "orange",
       "name": "life-ring"
      }
     },
     "ab383e752a9d4dafb7633eb1c460725d": {
      "model_module": "@jupyter-widgets/controls",
      "model_module_version": "1.5.0",
      "model_name": "DescriptionStyleModel",
      "state": {
       "description_width": ""
      }
     },
     "ab3cbca01cdb4127bc8211a501a362ce": {
      "model_module": "@jupyter-widgets/controls",
      "model_module_version": "1.5.0",
      "model_name": "HTMLModel",
      "state": {
       "layout": "IPY_MODEL_2247b6da18454700877b0d407ddf185a",
       "style": "IPY_MODEL_7d9ed9eacfcb444f8fd491b5334cdace",
       "value": "<table border=\"1\" class=\"dataframe table table-striped table-hover table-condensed table-responsive\">\n  <thead>\n    <tr style=\"text-align: right;\">\n      <th></th>\n      <th>hist2</th>\n    </tr>\n  </thead>\n  <tbody>\n    <tr>\n      <th>met</th>\n      <td>58628.0</td>\n    </tr>\n    <tr>\n      <th>wave</th>\n      <td>0.0</td>\n    </tr>\n    <tr>\n      <th>type</th>\n      <td>fixed</td>\n    </tr>\n    <tr>\n      <th>name</th>\n      <td>8770808 - High Island, TX</td>\n    </tr>\n    <tr>\n      <th>pgm</th>\n      <td>IOOS Partners</td>\n    </tr>\n  </tbody>\n</table>"
      }
     },
     "ab5e7a5d702d4877b9aca98e5c320bfb": {
      "model_module": "jupyter-leaflet",
      "model_module_version": "^0.15.0",
      "model_name": "LeafletAwesomeIconModel",
      "state": {
       "_model_module_version": "^0.15.0",
       "_view_module_version": "^0.15.0",
       "icon_color": "white",
       "marker_color": "orange",
       "name": "life-ring"
      }
     },
     "ac574eca2bcc47858c477977e4e6ceda": {
      "model_module": "@jupyter-widgets/base",
      "model_module_version": "1.2.0",
      "model_name": "LayoutModel",
      "state": {}
     },
     "ac89bb84a5c449ef9fe05a0a70934154": {
      "model_module": "jupyter-leaflet",
      "model_module_version": "^0.15.0",
      "model_name": "LeafletAwesomeIconModel",
      "state": {
       "_model_module_version": "^0.15.0",
       "_view_module_version": "^0.15.0",
       "icon_color": "white",
       "marker_color": "red",
       "name": "life-ring"
      }
     },
     "acd560263d3c40f095b049b5fe64bf64": {
      "model_module": "jupyter-leaflet",
      "model_module_version": "^0.17.0",
      "model_name": "LeafletMarkerModel",
      "state": {
       "_model_module_version": "^0.17.0",
       "_view_module_version": "^0.17.0",
       "draggable": false,
       "icon": "IPY_MODEL_d1f76ac81fc14c84913019abc1b3a4b4",
       "location": [
        26.801,
        -97.471
       ],
       "options": [
        "alt",
        "draggable",
        "keyboard",
        "rise_offset",
        "rise_on_hover",
        "rotation_angle",
        "rotation_origin",
        "title",
        "z_index_offset"
       ],
       "popup": "IPY_MODEL_8a0ac7ced5664b969432464da8970818"
      }
     },
     "ad229c4852de4342815d22dded176c9b": {
      "model_module": "@jupyter-widgets/controls",
      "model_module_version": "1.5.0",
      "model_name": "DescriptionStyleModel",
      "state": {
       "description_width": ""
      }
     },
     "ad4172a585794445a1c30539921594da": {
      "model_module": "jupyter-leaflet",
      "model_module_version": "^0.15.0",
      "model_name": "LeafletMarkerModel",
      "state": {
       "_model_module_version": "^0.15.0",
       "_view_module_version": "^0.15.0",
       "draggable": false,
       "icon": "IPY_MODEL_940a279ab7054be597e909ffa286e349",
       "location": [
        -14.273,
        -170.5
       ],
       "options": [
        "alt",
        "draggable",
        "keyboard",
        "rise_offset",
        "rise_on_hover",
        "rotation_angle",
        "rotation_origin",
        "title",
        "z_index_offset"
       ],
       "popup": "IPY_MODEL_e8a5de4475844b3a8f135d38925e7626"
      }
     },
     "ad45e94f2cfc4d23bee6782a720fb41a": {
      "model_module": "@jupyter-widgets/controls",
      "model_module_version": "1.5.0",
      "model_name": "HTMLModel",
      "state": {
       "layout": "IPY_MODEL_15f02c11d0e54c908ca7e6687308e951",
       "style": "IPY_MODEL_6f47d32eca8f48cfbf03626d6acf0d11",
       "value": "<table border=\"1\" class=\"dataframe table table-striped table-hover table-condensed table-responsive\">\n  <thead>\n    <tr style=\"text-align: right;\">\n      <th></th>\n      <th>51211</th>\n    </tr>\n  </thead>\n  <tbody>\n    <tr>\n      <th>met</th>\n      <td>0.0</td>\n    </tr>\n    <tr>\n      <th>wave</th>\n      <td>11686.0</td>\n    </tr>\n    <tr>\n      <th>type</th>\n      <td>buoy</td>\n    </tr>\n    <tr>\n      <th>name</th>\n      <td>Pearl Harbor Entrance, HI (233)</td>\n    </tr>\n    <tr>\n      <th>pgm</th>\n      <td>IOOS Partners</td>\n    </tr>\n  </tbody>\n</table>"
      }
     },
     "ad9a8e27fa0f4b7fb82ae0a79902b1f0": {
      "model_module": "@jupyter-widgets/controls",
      "model_module_version": "1.5.0",
      "model_name": "DescriptionStyleModel",
      "state": {
       "description_width": ""
      }
     },
     "adcebad521a84c3fa0264527b7147971": {
      "model_module": "@jupyter-widgets/base",
      "model_module_version": "1.2.0",
      "model_name": "LayoutModel",
      "state": {}
     },
     "addaf45f58f8494fa384b9b3f4b6356c": {
      "model_module": "@jupyter-widgets/controls",
      "model_module_version": "1.5.0",
      "model_name": "DescriptionStyleModel",
      "state": {
       "description_width": ""
      }
     },
     "ae1ff070be10438aaf31c4568d9f0b8e": {
      "model_module": "jupyter-leaflet",
      "model_module_version": "^0.15.0",
      "model_name": "LeafletMarkerModel",
      "state": {
       "_model_module_version": "^0.15.0",
       "_view_module_version": "^0.15.0",
       "draggable": false,
       "icon": "IPY_MODEL_f3b824fcce9f4cb1b63eb3f01342d4b9",
       "location": [
        43.497,
        -67.876
       ],
       "options": [
        "alt",
        "draggable",
        "keyboard",
        "rise_offset",
        "rise_on_hover",
        "rotation_angle",
        "rotation_origin",
        "title",
        "z_index_offset"
       ],
       "popup": "IPY_MODEL_f1bf199431da463880e4110e9ea65d8a"
      }
     },
     "ae2eea12df8741a9b5621578c2fe2a73": {
      "model_module": "@jupyter-widgets/controls",
      "model_module_version": "1.5.0",
      "model_name": "HTMLModel",
      "state": {
       "layout": "IPY_MODEL_824c75f1081846479d8b7d986675f7da",
       "style": "IPY_MODEL_732fa9416a4c475d82a2de3904754ed4",
       "value": "<table border=\"1\" class=\"dataframe table table-striped table-hover table-condensed table-responsive\">\n  <thead>\n    <tr style=\"text-align: right;\">\n      <th></th>\n      <th>44030</th>\n    </tr>\n  </thead>\n  <tbody>\n    <tr>\n      <th>met</th>\n      <td>5836.0</td>\n    </tr>\n    <tr>\n      <th>wave</th>\n      <td>5698.0</td>\n    </tr>\n    <tr>\n      <th>type</th>\n      <td>buoy</td>\n    </tr>\n    <tr>\n      <th>name</th>\n      <td>Buoy B01 - Western Maine Shelf</td>\n    </tr>\n    <tr>\n      <th>pgm</th>\n      <td>IOOS Partners</td>\n    </tr>\n  </tbody>\n</table>"
      }
     },
     "ae64fde06baa4f94a859297f515f5963": {
      "model_module": "@jupyter-widgets/controls",
      "model_module_version": "1.5.0",
      "model_name": "HTMLModel",
      "state": {
       "layout": "IPY_MODEL_297bdfa2224c4425ad5ddfbdfe07130f",
       "style": "IPY_MODEL_9ce4a208ddc549459bd8e584cefe2dfa",
       "value": "<table border=\"1\" class=\"dataframe table table-striped table-hover table-condensed table-responsive\">\n  <thead>\n    <tr style=\"text-align: right;\">\n      <th></th>\n      <th>skxa2</th>\n    </tr>\n  </thead>\n  <tbody>\n    <tr>\n      <th>met</th>\n      <td>34240.0</td>\n    </tr>\n    <tr>\n      <th>wave</th>\n      <td>0.0</td>\n    </tr>\n    <tr>\n      <th>type</th>\n      <td>fixed</td>\n    </tr>\n    <tr>\n      <th>name</th>\n      <td>Skagway MXAK, AK</td>\n    </tr>\n    <tr>\n      <th>pgm</th>\n      <td>IOOS Partners</td>\n    </tr>\n  </tbody>\n</table>"
      }
     },
     "ae89a1c972eb4c6eb663bb6b24e2be9e": {
      "model_module": "@jupyter-widgets/base",
      "model_module_version": "1.2.0",
      "model_name": "LayoutModel",
      "state": {}
     },
     "ae9228ff9f68495fa6b5295576edfe74": {
      "model_module": "@jupyter-widgets/controls",
      "model_module_version": "1.5.0",
      "model_name": "HTMLModel",
      "state": {
       "layout": "IPY_MODEL_1ca6ffcf8a0c4e42912e75b435b2270f",
       "style": "IPY_MODEL_0524169367a2496a8dd4ee2d17345e46",
       "value": "<table border=\"1\" class=\"dataframe table table-striped table-hover table-condensed table-responsive\">\n  <thead>\n    <tr style=\"text-align: right;\">\n      <th></th>\n      <th>45167</th>\n    </tr>\n  </thead>\n  <tbody>\n    <tr>\n      <th>met</th>\n      <td>8612.0</td>\n    </tr>\n    <tr>\n      <th>wave</th>\n      <td>8578.0</td>\n    </tr>\n    <tr>\n      <th>type</th>\n      <td>buoy</td>\n    </tr>\n    <tr>\n      <th>name</th>\n      <td>Erie Nearshore Buoy, Erie, PA</td>\n    </tr>\n    <tr>\n      <th>pgm</th>\n      <td>IOOS Partners</td>\n    </tr>\n  </tbody>\n</table>"
      }
     },
     "aec40fb0432b48a79b46344b7264bc49": {
      "model_module": "@jupyter-widgets/controls",
      "model_module_version": "1.5.0",
      "model_name": "HTMLModel",
      "state": {
       "layout": "IPY_MODEL_0c131c9a43394629a2666f26204dedc4",
       "style": "IPY_MODEL_2a2213043e744004b09fb7774f92567f",
       "value": "<table border=\"1\" class=\"dataframe table table-striped table-hover table-condensed table-responsive\">\n  <thead>\n    <tr style=\"text-align: right;\">\n      <th></th>\n      <th>44029</th>\n    </tr>\n  </thead>\n  <tbody>\n    <tr>\n      <th>met</th>\n      <td>5844.0</td>\n    </tr>\n    <tr>\n      <th>wave</th>\n      <td>5706.0</td>\n    </tr>\n    <tr>\n      <th>type</th>\n      <td>buoy</td>\n    </tr>\n    <tr>\n      <th>name</th>\n      <td>Buoy A01 - Massachusetts Bay</td>\n    </tr>\n    <tr>\n      <th>pgm</th>\n      <td>IOOS Partners</td>\n    </tr>\n  </tbody>\n</table>"
      }
     },
     "aec82da7956440cf9cc7ccc18cb189ba": {
      "model_module": "jupyter-leaflet",
      "model_module_version": "^0.15.0",
      "model_name": "LeafletAwesomeIconModel",
      "state": {
       "_model_module_version": "^0.15.0",
       "_view_module_version": "^0.15.0",
       "icon_color": "white",
       "marker_color": "red",
       "name": "life-ring"
      }
     },
     "aef9ddbe3f494aa2a2bd1ac88fb48909": {
      "model_module": "@jupyter-widgets/base",
      "model_module_version": "1.2.0",
      "model_name": "LayoutModel",
      "state": {}
     },
     "af01eb76531e42fab5633f87ecd7adc4": {
      "model_module": "@jupyter-widgets/controls",
      "model_module_version": "1.5.0",
      "model_name": "DescriptionStyleModel",
      "state": {
       "description_width": ""
      }
     },
     "af1ed6a3763b4feaad4a13c82c95e6c8": {
      "model_module": "@jupyter-widgets/base",
      "model_module_version": "1.2.0",
      "model_name": "LayoutModel",
      "state": {}
     },
     "af39f317db9d446fb410790d526231ec": {
      "model_module": "@jupyter-widgets/base",
      "model_module_version": "1.2.0",
      "model_name": "LayoutModel",
      "state": {}
     },
     "af85f5114a7046b9a9e26049743fad3b": {
      "model_module": "jupyter-leaflet",
      "model_module_version": "^0.15.0",
      "model_name": "LeafletMarkerModel",
      "state": {
       "_model_module_version": "^0.15.0",
       "_view_module_version": "^0.15.0",
       "draggable": false,
       "icon": "IPY_MODEL_431fe72cba0c46ccae8bfcfbb2b26ff1",
       "location": [
        58.364,
        -134.606
       ],
       "options": [
        "alt",
        "draggable",
        "keyboard",
        "rise_offset",
        "rise_on_hover",
        "rotation_angle",
        "rotation_origin",
        "title",
        "z_index_offset"
       ],
       "popup": "IPY_MODEL_c0c54b3b6d1b43328e61c5d4997f5a68"
      }
     },
     "afb1ce3b91ff4b70b8e025e618ae091e": {
      "model_module": "jupyter-leaflet",
      "model_module_version": "^0.17.0",
      "model_name": "LeafletMarkerModel",
      "state": {
       "_model_module_version": "^0.17.0",
       "_view_module_version": "^0.17.0",
       "draggable": false,
       "icon": "IPY_MODEL_c01012cca22d485b8ef55054f0e85cdc",
       "location": [
        42.185,
        -80.135
       ],
       "options": [
        "alt",
        "draggable",
        "keyboard",
        "rise_offset",
        "rise_on_hover",
        "rotation_angle",
        "rotation_origin",
        "title",
        "z_index_offset"
       ],
       "popup": "IPY_MODEL_ae9228ff9f68495fa6b5295576edfe74"
      }
     },
     "afc41e72d13a46ddb57434de8517dd05": {
      "model_module": "@jupyter-widgets/controls",
      "model_module_version": "1.5.0",
      "model_name": "HTMLModel",
      "state": {
       "layout": "IPY_MODEL_de0666c3d6574ad6a7b6199f179d7cb8",
       "style": "IPY_MODEL_5c50fba97fba4c008f6a28b36becb8e5",
       "value": "<table border=\"1\" class=\"dataframe table table-striped table-hover table-condensed table-responsive\">\n  <thead>\n    <tr style=\"text-align: right;\">\n      <th></th>\n      <th>pgxa2</th>\n    </tr>\n  </thead>\n  <tbody>\n    <tr>\n      <th>met</th>\n      <td>34194.0</td>\n    </tr>\n    <tr>\n      <th>wave</th>\n      <td>0.0</td>\n    </tr>\n    <tr>\n      <th>type</th>\n      <td>fixed</td>\n    </tr>\n    <tr>\n      <th>name</th>\n      <td>Point Gardner</td>\n    </tr>\n    <tr>\n      <th>pgm</th>\n      <td>IOOS Partners</td>\n    </tr>\n  </tbody>\n</table>"
      }
     },
     "afc70d205a8e48cdb9bf49de1abd30f4": {
      "model_module": "@jupyter-widgets/base",
      "model_module_version": "1.2.0",
      "model_name": "LayoutModel",
      "state": {}
     },
     "afd266ed6de6446ab6143af00e6ab566": {
      "model_module": "jupyter-leaflet",
      "model_module_version": "^0.15.0",
      "model_name": "LeafletAwesomeIconModel",
      "state": {
       "_model_module_version": "^0.15.0",
       "_view_module_version": "^0.15.0",
       "icon_color": "white",
       "marker_color": "orange",
       "name": "life-ring"
      }
     },
     "afd8fb2be8684fa786a31915198d77a6": {
      "model_module": "@jupyter-widgets/base",
      "model_module_version": "1.2.0",
      "model_name": "LayoutModel",
      "state": {}
     },
     "afdd1c50e1554703a3fc640e7f5a4985": {
      "model_module": "jupyter-leaflet",
      "model_module_version": "^0.15.0",
      "model_name": "LeafletAwesomeIconModel",
      "state": {
       "_model_module_version": "^0.15.0",
       "_view_module_version": "^0.15.0",
       "icon_color": "white",
       "marker_color": "red",
       "name": "life-ring"
      }
     },
     "b01e0bd75b1840a8ac2244aeb502afe5": {
      "model_module": "jupyter-leaflet",
      "model_module_version": "^0.15.0",
      "model_name": "LeafletAwesomeIconModel",
      "state": {
       "_model_module_version": "^0.15.0",
       "_view_module_version": "^0.15.0",
       "icon_color": "white",
       "marker_color": "orange",
       "name": "life-ring"
      }
     },
     "b069c757dc144aa38ecc3c5d75699848": {
      "model_module": "@jupyter-widgets/controls",
      "model_module_version": "1.5.0",
      "model_name": "DescriptionStyleModel",
      "state": {
       "description_width": ""
      }
     },
     "b09b1f3a912a44cc9a92e81e4fb593fd": {
      "model_module": "@jupyter-widgets/controls",
      "model_module_version": "1.5.0",
      "model_name": "DescriptionStyleModel",
      "state": {
       "description_width": ""
      }
     },
     "b0c1d031096848de83bcc535fe12baf3": {
      "model_module": "@jupyter-widgets/controls",
      "model_module_version": "1.5.0",
      "model_name": "DescriptionStyleModel",
      "state": {
       "description_width": ""
      }
     },
     "b133bdb6f9db43a9a2d3a38346ae0bdc": {
      "model_module": "jupyter-leaflet",
      "model_module_version": "^0.17.0",
      "model_name": "LeafletAwesomeIconModel",
      "state": {
       "_model_module_version": "^0.17.0",
       "_view_module_version": "^0.17.0",
       "icon_color": "white",
       "marker_color": "orange",
       "name": "life-ring"
      }
     },
     "b1641704f52046cfa502ce95c0ef6950": {
      "model_module": "jupyter-leaflet",
      "model_module_version": "^0.15.0",
      "model_name": "LeafletMarkerModel",
      "state": {
       "_model_module_version": "^0.15.0",
       "_view_module_version": "^0.15.0",
       "draggable": false,
       "icon": "IPY_MODEL_afd266ed6de6446ab6143af00e6ab566",
       "location": [
        59.927,
        -141.359
       ],
       "options": [
        "alt",
        "draggable",
        "keyboard",
        "rise_offset",
        "rise_on_hover",
        "rotation_angle",
        "rotation_origin",
        "title",
        "z_index_offset"
       ],
       "popup": "IPY_MODEL_d22e7ebb9f13415d8847f4d706fe2795"
      }
     },
     "b1c134c06ee041d9b6da02be56875080": {
      "model_module": "@jupyter-widgets/controls",
      "model_module_version": "1.5.0",
      "model_name": "HTMLModel",
      "state": {
       "layout": "IPY_MODEL_3478c2d73fd0436591399ad048130371",
       "style": "IPY_MODEL_26a02227e35c4cc9bb5a5f5770e8985f",
       "value": "<table border=\"1\" class=\"dataframe table table-striped table-hover table-condensed table-responsive\">\n  <thead>\n    <tr style=\"text-align: right;\">\n      <th></th>\n      <th>mxxa2</th>\n    </tr>\n  </thead>\n  <tbody>\n    <tr>\n      <th>met</th>\n      <td>34176.0</td>\n    </tr>\n    <tr>\n      <th>wave</th>\n      <td>0.0</td>\n    </tr>\n    <tr>\n      <th>type</th>\n      <td>fixed</td>\n    </tr>\n    <tr>\n      <th>name</th>\n      <td>MXAK Office, AK</td>\n    </tr>\n    <tr>\n      <th>pgm</th>\n      <td>IOOS Partners</td>\n    </tr>\n  </tbody>\n</table>"
      }
     },
     "b1d36101d1f74fe79b7770350f6df880": {
      "model_module": "jupyter-leaflet",
      "model_module_version": "^0.17.0",
      "model_name": "LeafletMarkerModel",
      "state": {
       "_model_module_version": "^0.17.0",
       "_view_module_version": "^0.17.0",
       "draggable": false,
       "icon": "IPY_MODEL_114b1c96f8d24e02a541aac81a95a778",
       "location": [
        36.802,
        -121.791
       ],
       "options": [
        "alt",
        "draggable",
        "keyboard",
        "rise_offset",
        "rise_on_hover",
        "rotation_angle",
        "rotation_origin",
        "title",
        "z_index_offset"
       ],
       "popup": "IPY_MODEL_3f929086b97e4597977a8bb7ce11eac1"
      }
     },
     "b1d6a1546b724f159be84b49e5c97894": {
      "model_module": "@jupyter-widgets/base",
      "model_module_version": "1.2.0",
      "model_name": "LayoutModel",
      "state": {}
     },
     "b1f3a66002fd41158e46864b856172d6": {
      "model_module": "@jupyter-widgets/base",
      "model_module_version": "1.2.0",
      "model_name": "LayoutModel",
      "state": {}
     },
     "b1f4c07e92bf4d5b9ecdb0c1b3121341": {
      "model_module": "jupyter-leaflet",
      "model_module_version": "^0.15.0",
      "model_name": "LeafletAwesomeIconModel",
      "state": {
       "_model_module_version": "^0.15.0",
       "_view_module_version": "^0.15.0",
       "icon_color": "white",
       "marker_color": "orange",
       "name": "life-ring"
      }
     },
     "b256d26039494940a24d57ead93e572d": {
      "model_module": "@jupyter-widgets/controls",
      "model_module_version": "1.5.0",
      "model_name": "HTMLModel",
      "state": {
       "layout": "IPY_MODEL_aa070656d7574979aed5b2d6b569bd5f",
       "style": "IPY_MODEL_591c03647af648f8b4e8fd2c6a40bc20",
       "value": "<table border=\"1\" class=\"dataframe table table-striped table-hover table-condensed table-responsive\">\n  <thead>\n    <tr style=\"text-align: right;\">\n      <th></th>\n      <th>vcat2</th>\n    </tr>\n  </thead>\n  <tbody>\n    <tr>\n      <th>met</th>\n      <td>58474.0</td>\n    </tr>\n    <tr>\n      <th>wave</th>\n      <td>0.0</td>\n    </tr>\n    <tr>\n      <th>type</th>\n      <td>fixed</td>\n    </tr>\n    <tr>\n      <th>name</th>\n      <td>8773259 - Port Lavaca, TX</td>\n    </tr>\n    <tr>\n      <th>pgm</th>\n      <td>IOOS Partners</td>\n    </tr>\n  </tbody>\n</table>"
      }
     },
     "b262d427d9af4a1b85ddd019664a61c4": {
      "model_module": "@jupyter-widgets/controls",
      "model_module_version": "1.5.0",
      "model_name": "HTMLModel",
      "state": {
       "layout": "IPY_MODEL_330ad92a66b74b7b81b8351aa9aa6f9b",
       "style": "IPY_MODEL_f4d6960f54844229bc8d85a9c3974fe0",
       "value": "<table border=\"1\" class=\"dataframe table table-striped table-hover table-condensed table-responsive\">\n  <thead>\n    <tr style=\"text-align: right;\">\n      <th></th>\n      <th>rixa2</th>\n    </tr>\n  </thead>\n  <tbody>\n    <tr>\n      <th>met</th>\n      <td>30658.0</td>\n    </tr>\n    <tr>\n      <th>wave</th>\n      <td>0.0</td>\n    </tr>\n    <tr>\n      <th>type</th>\n      <td>fixed</td>\n    </tr>\n    <tr>\n      <th>name</th>\n      <td>Rocky Island, AK</td>\n    </tr>\n    <tr>\n      <th>pgm</th>\n      <td>IOOS Partners</td>\n    </tr>\n  </tbody>\n</table>"
      }
     },
     "b2b370f548ba4cedaafc4af1504e77d8": {
      "model_module": "jupyter-leaflet",
      "model_module_version": "^0.15.0",
      "model_name": "LeafletMarkerModel",
      "state": {
       "_model_module_version": "^0.15.0",
       "_view_module_version": "^0.15.0",
       "draggable": false,
       "icon": "IPY_MODEL_3d447a8b60a54090aaa9b53bab680124",
       "location": [
        59.234,
        -135.442
       ],
       "options": [
        "alt",
        "draggable",
        "keyboard",
        "rise_offset",
        "rise_on_hover",
        "rotation_angle",
        "rotation_origin",
        "title",
        "z_index_offset"
       ],
       "popup": "IPY_MODEL_3db302372222478f91c591e18c9ad40e"
      }
     },
     "b2c5c7e5f8824b82a0ea83c309b93530": {
      "model_module": "@jupyter-widgets/base",
      "model_module_version": "1.2.0",
      "model_name": "LayoutModel",
      "state": {}
     },
     "b2dbbae0d717456cae89bf23cd99b826": {
      "model_module": "@jupyter-widgets/base",
      "model_module_version": "1.2.0",
      "model_name": "LayoutModel",
      "state": {}
     },
     "b3635b1a90164a78a986200e24bc7048": {
      "model_module": "@jupyter-widgets/controls",
      "model_module_version": "1.5.0",
      "model_name": "HTMLModel",
      "state": {
       "layout": "IPY_MODEL_cdf42275aca44d518b5066d662de75dc",
       "style": "IPY_MODEL_1e63ee75b24d444e98c9e5ec83a8d381",
       "value": "<table border=\"1\" class=\"dataframe table table-striped table-hover table-condensed table-responsive\">\n  <thead>\n    <tr style=\"text-align: right;\">\n      <th></th>\n      <th>45024</th>\n    </tr>\n  </thead>\n  <tbody>\n    <tr>\n      <th>met</th>\n      <td>30874.0</td>\n    </tr>\n    <tr>\n      <th>wave</th>\n      <td>30874.0</td>\n    </tr>\n    <tr>\n      <th>type</th>\n      <td>buoy</td>\n    </tr>\n    <tr>\n      <th>name</th>\n      <td>Ludington Buoy, MI</td>\n    </tr>\n    <tr>\n      <th>pgm</th>\n      <td>IOOS Partners</td>\n    </tr>\n  </tbody>\n</table>"
      }
     },
     "b367a25e28fd40e29e07e72082033757": {
      "model_module": "jupyter-leaflet",
      "model_module_version": "^0.15.0",
      "model_name": "LeafletAwesomeIconModel",
      "state": {
       "_model_module_version": "^0.15.0",
       "_view_module_version": "^0.15.0",
       "icon_color": "white",
       "marker_color": "orange",
       "name": "life-ring"
      }
     },
     "b38bb284ca2e414191db949fbf6e818c": {
      "model_module": "@jupyter-widgets/controls",
      "model_module_version": "1.5.0",
      "model_name": "DescriptionStyleModel",
      "state": {
       "description_width": ""
      }
     },
     "b38f711ce1b54a21a74d2fbac4a76fd5": {
      "model_module": "@jupyter-widgets/base",
      "model_module_version": "1.2.0",
      "model_name": "LayoutModel",
      "state": {}
     },
     "b3b9e3ec5c564cff8006fde3b655ea43": {
      "model_module": "@jupyter-widgets/base",
      "model_module_version": "1.2.0",
      "model_name": "LayoutModel",
      "state": {}
     },
     "b3c11c5ad8e4447b811bc4a4e651f8b8": {
      "model_module": "@jupyter-widgets/controls",
      "model_module_version": "1.5.0",
      "model_name": "HTMLModel",
      "state": {
       "layout": "IPY_MODEL_36d77b29ef2244f18eac9e9d2f6aa546",
       "style": "IPY_MODEL_35386a24216c434bb24f1138ec9f7ac1",
       "value": "<table border=\"1\" class=\"dataframe table table-striped table-hover table-condensed table-responsive\">\n  <thead>\n    <tr style=\"text-align: right;\">\n      <th></th>\n      <th>pact2</th>\n    </tr>\n  </thead>\n  <tbody>\n    <tr>\n      <th>met</th>\n      <td>57974.0</td>\n    </tr>\n    <tr>\n      <th>wave</th>\n      <td>0.0</td>\n    </tr>\n    <tr>\n      <th>type</th>\n      <td>fixed</td>\n    </tr>\n    <tr>\n      <th>name</th>\n      <td>8775792 - Packery Channel, TX</td>\n    </tr>\n    <tr>\n      <th>pgm</th>\n      <td>IOOS Partners</td>\n    </tr>\n  </tbody>\n</table>"
      }
     },
     "b4007000becc40db94fe622f052c9919": {
      "model_module": "@jupyter-widgets/controls",
      "model_module_version": "1.5.0",
      "model_name": "HTMLModel",
      "state": {
       "layout": "IPY_MODEL_9b3e995f107b4a49bb3ffa6c470413f5",
       "style": "IPY_MODEL_ce724a1081c24953b6110fbae1873daa",
       "value": "<table border=\"1\" class=\"dataframe table table-striped table-hover table-condensed table-responsive\">\n  <thead>\n    <tr style=\"text-align: right;\">\n      <th></th>\n      <th>51213</th>\n    </tr>\n  </thead>\n  <tbody>\n    <tr>\n      <th>met</th>\n      <td>0.0</td>\n    </tr>\n    <tr>\n      <th>wave</th>\n      <td>2338.0</td>\n    </tr>\n    <tr>\n      <th>type</th>\n      <td>buoy</td>\n    </tr>\n    <tr>\n      <th>name</th>\n      <td>Kaumalapau Southwest, Lanai, HI (239)</td>\n    </tr>\n    <tr>\n      <th>pgm</th>\n      <td>IOOS Partners</td>\n    </tr>\n  </tbody>\n</table>"
      }
     },
     "b4e6c5f1bfce48a382638d47716b220f": {
      "model_module": "jupyter-leaflet",
      "model_module_version": "^0.17.0",
      "model_name": "LeafletAwesomeIconModel",
      "state": {
       "_model_module_version": "^0.17.0",
       "_view_module_version": "^0.17.0",
       "icon_color": "white",
       "marker_color": "orange",
       "name": "life-ring"
      }
     },
     "b51cfded8ff24b1aa6a410454164d498": {
      "model_module": "jupyter-leaflet",
      "model_module_version": "^0.15.0",
      "model_name": "LeafletAwesomeIconModel",
      "state": {
       "_model_module_version": "^0.15.0",
       "_view_module_version": "^0.15.0",
       "icon_color": "white",
       "marker_color": "red",
       "name": "life-ring"
      }
     },
     "b570937e5fdf4476bce4a82bfaa9f8b5": {
      "model_module": "@jupyter-widgets/controls",
      "model_module_version": "1.5.0",
      "model_name": "DescriptionStyleModel",
      "state": {
       "description_width": ""
      }
     },
     "b5b3dd3b626147eea011f79f83710580": {
      "model_module": "jupyter-leaflet",
      "model_module_version": "^0.15.0",
      "model_name": "LeafletMarkerModel",
      "state": {
       "_model_module_version": "^0.15.0",
       "_view_module_version": "^0.15.0",
       "draggable": false,
       "icon": "IPY_MODEL_1eec2597541743de945520eeda026eea",
       "location": [
        59.602,
        -151.417
       ],
       "options": [
        "alt",
        "draggable",
        "keyboard",
        "rise_offset",
        "rise_on_hover",
        "rotation_angle",
        "rotation_origin",
        "title",
        "z_index_offset"
       ],
       "popup": "IPY_MODEL_70d3d04d806647deab35874152164f7b"
      }
     },
     "b5c30ec8589046dfbce8a402acff446d": {
      "model_module": "@jupyter-widgets/controls",
      "model_module_version": "1.5.0",
      "model_name": "DescriptionStyleModel",
      "state": {
       "description_width": ""
      }
     },
     "b5c7a0c59ea84f739cf690ec25705382": {
      "model_module": "jupyter-leaflet",
      "model_module_version": "^0.17.0",
      "model_name": "LeafletMarkerModel",
      "state": {
       "_model_module_version": "^0.17.0",
       "_view_module_version": "^0.17.0",
       "draggable": false,
       "icon": "IPY_MODEL_235a9b2cc186487da9a6c0c9954d5c65",
       "location": [
        44.795,
        -87.759
       ],
       "options": [
        "alt",
        "draggable",
        "keyboard",
        "rise_offset",
        "rise_on_hover",
        "rotation_angle",
        "rotation_origin",
        "title",
        "z_index_offset"
       ],
       "popup": "IPY_MODEL_49a70140eca348cca7c005a9d7116d70"
      }
     },
     "b5ff7841192446e1ba701626ec675093": {
      "model_module": "jupyter-leaflet",
      "model_module_version": "^0.15.0",
      "model_name": "LeafletMarkerModel",
      "state": {
       "_model_module_version": "^0.15.0",
       "_view_module_version": "^0.15.0",
       "draggable": false,
       "icon": "IPY_MODEL_0ff00f4e965b42799c182cbac440b3b5",
       "location": [
        27.736,
        -82.686
       ],
       "options": [
        "alt",
        "draggable",
        "keyboard",
        "rise_offset",
        "rise_on_hover",
        "rotation_angle",
        "rotation_origin",
        "title",
        "z_index_offset"
       ],
       "popup": "IPY_MODEL_23d5299464af427ab984f4ea8a7117d2"
      }
     },
     "b5ff8c5a1c3646eb885e59b57cc325e1": {
      "model_module": "jupyter-leaflet",
      "model_module_version": "^0.15.0",
      "model_name": "LeafletMarkerModel",
      "state": {
       "_model_module_version": "^0.15.0",
       "_view_module_version": "^0.15.0",
       "draggable": false,
       "icon": "IPY_MODEL_72d69373202c4be2988d1959076f812e",
       "location": [
        27.815,
        -97.389
       ],
       "options": [
        "alt",
        "draggable",
        "keyboard",
        "rise_offset",
        "rise_on_hover",
        "rotation_angle",
        "rotation_origin",
        "title",
        "z_index_offset"
       ],
       "popup": "IPY_MODEL_ecd24e049e844e8e855997341f380f6b"
      }
     },
     "b60c6b4cae9f4071a88361583b3acd32": {
      "model_module": "@jupyter-widgets/controls",
      "model_module_version": "1.5.0",
      "model_name": "HTMLModel",
      "state": {
       "layout": "IPY_MODEL_f8f706268e034a40824b37b00aa6e175",
       "style": "IPY_MODEL_fe109d40033242aa8a5be6a0526a0382",
       "value": "<table border=\"1\" class=\"dataframe table table-striped table-hover table-condensed table-responsive\">\n  <thead>\n    <tr style=\"text-align: right;\">\n      <th></th>\n      <th>paxa2</th>\n    </tr>\n  </thead>\n  <tbody>\n    <tr>\n      <th>met</th>\n      <td>34094.0</td>\n    </tr>\n    <tr>\n      <th>wave</th>\n      <td>0.0</td>\n    </tr>\n    <tr>\n      <th>type</th>\n      <td>fixed</td>\n    </tr>\n    <tr>\n      <th>name</th>\n      <td>Point Arden, AK</td>\n    </tr>\n    <tr>\n      <th>pgm</th>\n      <td>IOOS Partners</td>\n    </tr>\n  </tbody>\n</table>"
      }
     },
     "b611f4d54f164d8c8c129d46021b62a0": {
      "model_module": "@jupyter-widgets/controls",
      "model_module_version": "1.5.0",
      "model_name": "DescriptionStyleModel",
      "state": {
       "description_width": ""
      }
     },
     "b638415cc59a4817b47bf65e0a785a8a": {
      "model_module": "jupyter-leaflet",
      "model_module_version": "^0.15.0",
      "model_name": "LeafletMarkerModel",
      "state": {
       "_model_module_version": "^0.15.0",
       "_view_module_version": "^0.15.0",
       "draggable": false,
       "icon": "IPY_MODEL_a8fa78af978e4beeba09e3db6ccd0c8e",
       "location": [
        26.262,
        -97.285
       ],
       "options": [
        "alt",
        "draggable",
        "keyboard",
        "rise_offset",
        "rise_on_hover",
        "rotation_angle",
        "rotation_origin",
        "title",
        "z_index_offset"
       ],
       "popup": "IPY_MODEL_7e3f394d932d4333ba206aadb50f100d"
      }
     },
     "b6f6275b566447029bfe92c90258ef40": {
      "model_module": "@jupyter-widgets/controls",
      "model_module_version": "1.5.0",
      "model_name": "HTMLModel",
      "state": {
       "layout": "IPY_MODEL_dac1f1a2e3ba4edca72530ddb3aeab91",
       "style": "IPY_MODEL_86f3f2b7087046d18eb0477e5d02633b",
       "value": "<table border=\"1\" class=\"dataframe table table-striped table-hover table-condensed table-responsive\">\n  <thead>\n    <tr style=\"text-align: right;\">\n      <th></th>\n      <th>rlot2</th>\n    </tr>\n  </thead>\n  <tbody>\n    <tr>\n      <th>met</th>\n      <td>58756.0</td>\n    </tr>\n    <tr>\n      <th>wave</th>\n      <td>0.0</td>\n    </tr>\n    <tr>\n      <th>type</th>\n      <td>fixed</td>\n    </tr>\n    <tr>\n      <th>name</th>\n      <td>8770971 - Rollover Pass, TX</td>\n    </tr>\n    <tr>\n      <th>pgm</th>\n      <td>IOOS Partners</td>\n    </tr>\n  </tbody>\n</table>"
      }
     },
     "b6f8989df2894419a1cf7c93d6da6ce0": {
      "model_module": "jupyter-leaflet",
      "model_module_version": "^0.15.0",
      "model_name": "LeafletMarkerModel",
      "state": {
       "_model_module_version": "^0.15.0",
       "_view_module_version": "^0.15.0",
       "draggable": false,
       "icon": "IPY_MODEL_63e56c7d80644108a9679d5241e78fbf",
       "location": [
        28.771,
        -95.617
       ],
       "options": [
        "alt",
        "draggable",
        "keyboard",
        "rise_offset",
        "rise_on_hover",
        "rotation_angle",
        "rotation_origin",
        "title",
        "z_index_offset"
       ],
       "popup": "IPY_MODEL_bf2499d5949f452b9b44b21cccc0fd12"
      }
     },
     "b71490a66c6b438498e3cbeec1162b51": {
      "model_module": "jupyter-leaflet",
      "model_module_version": "^0.15.0",
      "model_name": "LeafletAwesomeIconModel",
      "state": {
       "_model_module_version": "^0.15.0",
       "_view_module_version": "^0.15.0",
       "icon_color": "white",
       "marker_color": "orange",
       "name": "life-ring"
      }
     },
     "b75d04efaaf2427dae7eb2b8b27fef3b": {
      "model_module": "@jupyter-widgets/controls",
      "model_module_version": "1.5.0",
      "model_name": "DescriptionStyleModel",
      "state": {
       "description_width": ""
      }
     },
     "b76689824cfa4f64a0b23e07ad6ae6ee": {
      "model_module": "@jupyter-widgets/base",
      "model_module_version": "1.2.0",
      "model_name": "LayoutModel",
      "state": {}
     },
     "b77208555f3744d5aeb1392a01c5370c": {
      "model_module": "jupyter-leaflet",
      "model_module_version": "^0.17.0",
      "model_name": "LeafletMarkerModel",
      "state": {
       "_model_module_version": "^0.17.0",
       "_view_module_version": "^0.17.0",
       "draggable": false,
       "icon": "IPY_MODEL_c155c5f7d54b495ba1c72be1a3fd8f99",
       "location": [
        30.058,
        -84.291
       ],
       "options": [
        "alt",
        "draggable",
        "keyboard",
        "rise_offset",
        "rise_on_hover",
        "rotation_angle",
        "rotation_origin",
        "title",
        "z_index_offset"
       ],
       "popup": "IPY_MODEL_8da6bcddf2ef46d39dff69f3e4979ea9"
      }
     },
     "b77c8d27b9b549e18b53efb75e99b776": {
      "model_module": "@jupyter-widgets/controls",
      "model_module_version": "1.5.0",
      "model_name": "HTMLModel",
      "state": {
       "layout": "IPY_MODEL_af1ed6a3763b4feaad4a13c82c95e6c8",
       "style": "IPY_MODEL_9f20332241174ca3a84ccebe1ea9d70c",
       "value": "<table border=\"1\" class=\"dataframe table table-striped table-hover table-condensed table-responsive\">\n  <thead>\n    <tr style=\"text-align: right;\">\n      <th></th>\n      <th>ptrp4</th>\n    </tr>\n  </thead>\n  <tbody>\n    <tr>\n      <th>met</th>\n      <td>70014.0</td>\n    </tr>\n    <tr>\n      <th>wave</th>\n      <td>0.0</td>\n    </tr>\n    <tr>\n      <th>type</th>\n      <td>fixed</td>\n    </tr>\n    <tr>\n      <th>name</th>\n      <td>Puntas Rincon, PR</td>\n    </tr>\n    <tr>\n      <th>pgm</th>\n      <td>IOOS Partners</td>\n    </tr>\n  </tbody>\n</table>"
      }
     },
     "b78439d6af7444e2ae1a8951dfb05d07": {
      "model_module": "@jupyter-widgets/controls",
      "model_module_version": "1.5.0",
      "model_name": "HTMLModel",
      "state": {
       "layout": "IPY_MODEL_9d8b0b52f2ee493695d29e0252450d85",
       "style": "IPY_MODEL_045eb1d426cd442ca44bf0c5d79439fd",
       "value": "<table border=\"1\" class=\"dataframe table table-striped table-hover table-condensed table-responsive\">\n  <thead>\n    <tr style=\"text-align: right;\">\n      <th></th>\n      <th>bgcf1</th>\n    </tr>\n  </thead>\n  <tbody>\n    <tr>\n      <th>met</th>\n      <td>58000.0</td>\n    </tr>\n    <tr>\n      <th>wave</th>\n      <td>0.0</td>\n    </tr>\n    <tr>\n      <th>type</th>\n      <td>fixed</td>\n    </tr>\n    <tr>\n      <th>name</th>\n      <td>BCP - Big Carlos Pass, FL</td>\n    </tr>\n    <tr>\n      <th>pgm</th>\n      <td>IOOS Partners</td>\n    </tr>\n  </tbody>\n</table>"
      }
     },
     "b7b09232a4194e9b8738f820dd1aeb6f": {
      "model_module": "@jupyter-widgets/base",
      "model_module_version": "1.2.0",
      "model_name": "LayoutModel",
      "state": {}
     },
     "b7e9f0ce537542f188fdac9812d2a039": {
      "model_module": "@jupyter-widgets/controls",
      "model_module_version": "1.5.0",
      "model_name": "HTMLModel",
      "state": {
       "layout": "IPY_MODEL_d51c09e6fe7d40d69ae1bde96fe4e2fa",
       "style": "IPY_MODEL_6e8a4309398a4d37b1375f059b9eebcb",
       "value": "<table border=\"1\" class=\"dataframe table table-striped table-hover table-condensed table-responsive\">\n  <thead>\n    <tr style=\"text-align: right;\">\n      <th></th>\n      <th>arpf1</th>\n    </tr>\n  </thead>\n  <tbody>\n    <tr>\n      <th>met</th>\n      <td>24058.0</td>\n    </tr>\n    <tr>\n      <th>wave</th>\n      <td>0.0</td>\n    </tr>\n    <tr>\n      <th>type</th>\n      <td>fixed</td>\n    </tr>\n    <tr>\n      <th>name</th>\n      <td>APK - Aripeka, FL</td>\n    </tr>\n    <tr>\n      <th>pgm</th>\n      <td>IOOS Partners</td>\n    </tr>\n  </tbody>\n</table>"
      }
     },
     "b87d916b0dd740bfb64415cf054be6af": {
      "model_module": "jupyter-leaflet",
      "model_module_version": "^0.15.0",
      "model_name": "LeafletMarkerModel",
      "state": {
       "_model_module_version": "^0.15.0",
       "_view_module_version": "^0.15.0",
       "draggable": false,
       "icon": "IPY_MODEL_d97c912438a84b10b85b37fd00ccadd1",
       "location": [
        41.699,
        -83.259
       ],
       "options": [
        "alt",
        "draggable",
        "keyboard",
        "rise_offset",
        "rise_on_hover",
        "rotation_angle",
        "rotation_origin",
        "title",
        "z_index_offset"
       ],
       "popup": "IPY_MODEL_ed000a54e14e448babb0846091655da5"
      }
     },
     "b8c845ba5be8413b914e40e5cd10d7ce": {
      "model_module": "@jupyter-widgets/base",
      "model_module_version": "1.2.0",
      "model_name": "LayoutModel",
      "state": {}
     },
     "b8ea350f33cf4090accac7f5c0bb364b": {
      "model_module": "jupyter-leaflet",
      "model_module_version": "^0.15.0",
      "model_name": "LeafletAwesomeIconModel",
      "state": {
       "_model_module_version": "^0.15.0",
       "_view_module_version": "^0.15.0",
       "icon_color": "white",
       "marker_color": "green",
       "name": "life-ring"
      }
     },
     "b8f23d9d45154032b46974bdbbf75d57": {
      "model_module": "jupyter-leaflet",
      "model_module_version": "^0.17.0",
      "model_name": "LeafletAwesomeIconModel",
      "state": {
       "_model_module_version": "^0.17.0",
       "_view_module_version": "^0.17.0",
       "icon_color": "white",
       "marker_color": "orange",
       "name": "life-ring"
      }
     },
     "b8f5bf3f35b64f67917f04fb6a130eb9": {
      "model_module": "@jupyter-widgets/base",
      "model_module_version": "1.2.0",
      "model_name": "LayoutModel",
      "state": {}
     },
     "b9454739ae2043d080ed97dce923c18c": {
      "model_module": "@jupyter-widgets/base",
      "model_module_version": "1.2.0",
      "model_name": "LayoutModel",
      "state": {}
     },
     "b98e0ac9e658487c913428eb07eeb1aa": {
      "model_module": "@jupyter-widgets/controls",
      "model_module_version": "1.5.0",
      "model_name": "DescriptionStyleModel",
      "state": {
       "description_width": ""
      }
     },
     "b9a700ca6cc8407e8cfc9543a506e8a8": {
      "model_module": "@jupyter-widgets/controls",
      "model_module_version": "1.5.0",
      "model_name": "HTMLModel",
      "state": {
       "layout": "IPY_MODEL_fe68674d30c2408e83c1e5953cf5e853",
       "style": "IPY_MODEL_fa0d89ed8d0a4ba78a34feb2a4e9eb06",
       "value": "<table border=\"1\" class=\"dataframe table table-striped table-hover table-condensed table-responsive\">\n  <thead>\n    <tr style=\"text-align: right;\">\n      <th></th>\n      <th>41033</th>\n    </tr>\n  </thead>\n  <tbody>\n    <tr>\n      <th>met</th>\n      <td>6216.0</td>\n    </tr>\n    <tr>\n      <th>wave</th>\n      <td>0.0</td>\n    </tr>\n    <tr>\n      <th>type</th>\n      <td>buoy</td>\n    </tr>\n    <tr>\n      <th>name</th>\n      <td>Fripp Nearshore, SC (FRP2)</td>\n    </tr>\n    <tr>\n      <th>pgm</th>\n      <td>IOOS Partners</td>\n    </tr>\n  </tbody>\n</table>"
      }
     },
     "b9c6c0f97cce4e11a490b172401bc68a": {
      "model_module": "jupyter-leaflet",
      "model_module_version": "^0.15.0",
      "model_name": "LeafletAwesomeIconModel",
      "state": {
       "_model_module_version": "^0.15.0",
       "_view_module_version": "^0.15.0",
       "icon_color": "white",
       "marker_color": "green",
       "name": "life-ring"
      }
     },
     "ba038c8f747248b7a468f3ca76f0661a": {
      "model_module": "@jupyter-widgets/controls",
      "model_module_version": "1.5.0",
      "model_name": "DescriptionStyleModel",
      "state": {
       "description_width": ""
      }
     },
     "ba6f5253cc014cdf82f28861ceeb67bc": {
      "model_module": "@jupyter-widgets/controls",
      "model_module_version": "1.5.0",
      "model_name": "DescriptionStyleModel",
      "state": {
       "description_width": ""
      }
     },
     "baa1d68a8eb94a068950d3e954eeeb96": {
      "model_module": "jupyter-leaflet",
      "model_module_version": "^0.17.0",
      "model_name": "LeafletMarkerModel",
      "state": {
       "_model_module_version": "^0.17.0",
       "_view_module_version": "^0.17.0",
       "draggable": false,
       "icon": "IPY_MODEL_666ce25e63da42aaaa2baf57aa575662",
       "location": [
        27.59,
        -82.931
       ],
       "options": [
        "alt",
        "draggable",
        "keyboard",
        "rise_offset",
        "rise_on_hover",
        "rotation_angle",
        "rotation_origin",
        "title",
        "z_index_offset"
       ],
       "popup": "IPY_MODEL_27255270a5974b02be007188d5ac09f0"
      }
     },
     "bb38d4f51dd549a5acc75b9efef2cfb1": {
      "model_module": "jupyter-leaflet",
      "model_module_version": "^0.17.0",
      "model_name": "LeafletAwesomeIconModel",
      "state": {
       "_model_module_version": "^0.17.0",
       "_view_module_version": "^0.17.0",
       "icon_color": "white",
       "marker_color": "orange",
       "name": "life-ring"
      }
     },
     "bbb672a81f05463aa409a66706bb13f2": {
      "model_module": "jupyter-leaflet",
      "model_module_version": "^0.17.0",
      "model_name": "LeafletAwesomeIconModel",
      "state": {
       "_model_module_version": "^0.17.0",
       "_view_module_version": "^0.17.0",
       "icon_color": "white",
       "marker_color": "orange",
       "name": "life-ring"
      }
     },
     "bc2f5c7adc7a40f8adc11a13e03fccc5": {
      "model_module": "@jupyter-widgets/controls",
      "model_module_version": "1.5.0",
      "model_name": "DescriptionStyleModel",
      "state": {
       "description_width": ""
      }
     },
     "bc4dd3cce0ee4b2189fdd517a9724d7e": {
      "model_module": "@jupyter-widgets/controls",
      "model_module_version": "1.5.0",
      "model_name": "DescriptionStyleModel",
      "state": {
       "description_width": ""
      }
     },
     "bc50f7751f57413aad0d43fa55955237": {
      "model_module": "jupyter-leaflet",
      "model_module_version": "^0.15.0",
      "model_name": "LeafletAwesomeIconModel",
      "state": {
       "_model_module_version": "^0.15.0",
       "_view_module_version": "^0.15.0",
       "icon_color": "white",
       "marker_color": "orange",
       "name": "life-ring"
      }
     },
     "bca21345143e4a3dbf9bf78f670c5ba6": {
      "model_module": "@jupyter-widgets/base",
      "model_module_version": "1.2.0",
      "model_name": "LayoutModel",
      "state": {}
     },
     "bd4497dcd8fe4d89934a49696b69b974": {
      "model_module": "jupyter-leaflet",
      "model_module_version": "^0.15.0",
      "model_name": "LeafletAwesomeIconModel",
      "state": {
       "_model_module_version": "^0.15.0",
       "_view_module_version": "^0.15.0",
       "icon_color": "white",
       "marker_color": "green",
       "name": "life-ring"
      }
     },
     "bd664282aed34214ad52edc853897f2f": {
      "model_module": "@jupyter-widgets/controls",
      "model_module_version": "1.5.0",
      "model_name": "HTMLModel",
      "state": {
       "layout": "IPY_MODEL_75d9da13cdd645b99638391d9fd43b76",
       "style": "IPY_MODEL_27104db39e0e49529f59c0ada86247bd",
       "value": "<table border=\"1\" class=\"dataframe table table-striped table-hover table-condensed table-responsive\">\n  <thead>\n    <tr style=\"text-align: right;\">\n      <th></th>\n      <th>pcgt2</th>\n    </tr>\n  </thead>\n  <tbody>\n    <tr>\n      <th>met</th>\n      <td>58634.0</td>\n    </tr>\n    <tr>\n      <th>wave</th>\n      <td>0.0</td>\n    </tr>\n    <tr>\n      <th>type</th>\n      <td>fixed</td>\n    </tr>\n    <tr>\n      <th>name</th>\n      <td>8779748 - South Padre Island CGS, TX</td>\n    </tr>\n    <tr>\n      <th>pgm</th>\n      <td>IOOS Partners</td>\n    </tr>\n  </tbody>\n</table>"
      }
     },
     "bd8f2119b62d4deebe4e3a8559e71e0e": {
      "model_module": "jupyter-leaflet",
      "model_module_version": "^0.17.0",
      "model_name": "LeafletMarkerModel",
      "state": {
       "_model_module_version": "^0.17.0",
       "_view_module_version": "^0.17.0",
       "draggable": false,
       "icon": "IPY_MODEL_11ebd0a02a314dfb81c549acfe7f3d7b",
       "location": [
        34.142,
        -77.715
       ],
       "options": [
        "alt",
        "draggable",
        "keyboard",
        "rise_offset",
        "rise_on_hover",
        "rotation_angle",
        "rotation_origin",
        "title",
        "z_index_offset"
       ],
       "popup": "IPY_MODEL_912110d8c28647c7b332d948f7fa3be0"
      }
     },
     "bd93bc2cd2bc4ad9b13657f4a7648b03": {
      "model_module": "jupyter-leaflet",
      "model_module_version": "^0.17.0",
      "model_name": "LeafletAwesomeIconModel",
      "state": {
       "_model_module_version": "^0.17.0",
       "_view_module_version": "^0.17.0",
       "icon_color": "white",
       "marker_color": "green",
       "name": "life-ring"
      }
     },
     "bdeb13bfa1314d84be6e562b08751b2c": {
      "model_module": "jupyter-leaflet",
      "model_module_version": "^0.15.0",
      "model_name": "LeafletAwesomeIconModel",
      "state": {
       "_model_module_version": "^0.15.0",
       "_view_module_version": "^0.15.0",
       "icon_color": "white",
       "marker_color": "green",
       "name": "life-ring"
      }
     },
     "be03699274d64dc8b578da6d0bbf3fcf": {
      "model_module": "jupyter-leaflet",
      "model_module_version": "^0.15.0",
      "model_name": "LeafletMarkerModel",
      "state": {
       "_model_module_version": "^0.15.0",
       "_view_module_version": "^0.15.0",
       "draggable": false,
       "icon": "IPY_MODEL_ee577632cbeb4f578438d0f8ac49e615",
       "location": [
        35.75,
        -75.33
       ],
       "options": [
        "alt",
        "draggable",
        "keyboard",
        "rise_offset",
        "rise_on_hover",
        "rotation_angle",
        "rotation_origin",
        "title",
        "z_index_offset"
       ],
       "popup": "IPY_MODEL_7d5e14f80af24638bfeb52b7df6c3644"
      }
     },
     "be0e0dce1b4144678c8cd6f7e59b2731": {
      "model_module": "jupyter-leaflet",
      "model_module_version": "^0.17.0",
      "model_name": "LeafletAwesomeIconModel",
      "state": {
       "_model_module_version": "^0.17.0",
       "_view_module_version": "^0.17.0",
       "icon_color": "white",
       "marker_color": "green",
       "name": "life-ring"
      }
     },
     "be10dd62d30b46628c9dd8fbf14c2d04": {
      "model_module": "@jupyter-widgets/base",
      "model_module_version": "1.2.0",
      "model_name": "LayoutModel",
      "state": {}
     },
     "be5f27e0081a4da1a526d9a49e76f356": {
      "model_module": "jupyter-leaflet",
      "model_module_version": "^0.17.0",
      "model_name": "LeafletAwesomeIconModel",
      "state": {
       "_model_module_version": "^0.17.0",
       "_view_module_version": "^0.17.0",
       "icon_color": "white",
       "marker_color": "orange",
       "name": "life-ring"
      }
     },
     "be5f74a338d04b18b9351eac7eca5c76": {
      "model_module": "@jupyter-widgets/base",
      "model_module_version": "1.2.0",
      "model_name": "LayoutModel",
      "state": {}
     },
     "be6c5bd2a1094dacaf3c25999ff443d0": {
      "model_module": "jupyter-leaflet",
      "model_module_version": "^0.15.0",
      "model_name": "LeafletAwesomeIconModel",
      "state": {
       "_model_module_version": "^0.15.0",
       "_view_module_version": "^0.15.0",
       "icon_color": "white",
       "marker_color": "orange",
       "name": "life-ring"
      }
     },
     "beda2ec15a7f4297881450720750e6b6": {
      "model_module": "jupyter-leaflet",
      "model_module_version": "^0.17.0",
      "model_name": "LeafletMarkerModel",
      "state": {
       "_model_module_version": "^0.17.0",
       "_view_module_version": "^0.17.0",
       "draggable": false,
       "icon": "IPY_MODEL_0ce06550042b44b2bd36c9f71217b3e8",
       "location": [
        58.301,
        -134.425
       ],
       "options": [
        "alt",
        "draggable",
        "keyboard",
        "rise_offset",
        "rise_on_hover",
        "rotation_angle",
        "rotation_origin",
        "title",
        "z_index_offset"
       ],
       "popup": "IPY_MODEL_f87eadacbd454da7b85b69cd9817341b"
      }
     },
     "befa3ec1692748489faaef41f632f6fa": {
      "model_module": "@jupyter-widgets/controls",
      "model_module_version": "1.5.0",
      "model_name": "DescriptionStyleModel",
      "state": {
       "description_width": ""
      }
     },
     "bf012cf5984d4101907aa6d494b82e4c": {
      "model_module": "@jupyter-widgets/controls",
      "model_module_version": "1.5.0",
      "model_name": "HTMLModel",
      "state": {
       "layout": "IPY_MODEL_36622c57d0494098ace4293723143e34",
       "style": "IPY_MODEL_8980661096df407a962668dc5ad25842",
       "value": "<table border=\"1\" class=\"dataframe table table-striped table-hover table-condensed table-responsive\">\n  <thead>\n    <tr style=\"text-align: right;\">\n      <th></th>\n      <th>fpst2</th>\n    </tr>\n  </thead>\n  <tbody>\n    <tr>\n      <th>met</th>\n      <td>58672.0</td>\n    </tr>\n    <tr>\n      <th>wave</th>\n      <td>0.0</td>\n    </tr>\n    <tr>\n      <th>type</th>\n      <td>fixed</td>\n    </tr>\n    <tr>\n      <th>name</th>\n      <td>8772471 - Freeport SPIP, TX</td>\n    </tr>\n    <tr>\n      <th>pgm</th>\n      <td>NOS/CO-OPS</td>\n    </tr>\n  </tbody>\n</table>"
      }
     },
     "bf2499d5949f452b9b44b21cccc0fd12": {
      "model_module": "@jupyter-widgets/controls",
      "model_module_version": "1.5.0",
      "model_name": "HTMLModel",
      "state": {
       "layout": "IPY_MODEL_70e074d51d09485aa3372ebb897bc3aa",
       "style": "IPY_MODEL_f92b21b0295c42a9b45fec9e70775688",
       "value": "<table border=\"1\" class=\"dataframe table table-striped table-hover table-condensed table-responsive\">\n  <thead>\n    <tr style=\"text-align: right;\">\n      <th></th>\n      <th>sgnt2</th>\n    </tr>\n  </thead>\n  <tbody>\n    <tr>\n      <th>met</th>\n      <td>58556.0</td>\n    </tr>\n    <tr>\n      <th>wave</th>\n      <td>0.0</td>\n    </tr>\n    <tr>\n      <th>type</th>\n      <td>fixed</td>\n    </tr>\n    <tr>\n      <th>name</th>\n      <td>8772985 - Sargent, TX</td>\n    </tr>\n    <tr>\n      <th>pgm</th>\n      <td>IOOS Partners</td>\n    </tr>\n  </tbody>\n</table>"
      }
     },
     "bf4e9584ef3a46d7ad16b91b8ff3b2f5": {
      "model_module": "@jupyter-widgets/controls",
      "model_module_version": "1.5.0",
      "model_name": "DescriptionStyleModel",
      "state": {
       "description_width": ""
      }
     },
     "bf9e240f90a044e49410e4f6a923089d": {
      "model_module": "jupyter-leaflet",
      "model_module_version": "^0.17.0",
      "model_name": "LeafletAwesomeIconModel",
      "state": {
       "_model_module_version": "^0.17.0",
       "_view_module_version": "^0.17.0",
       "icon_color": "white",
       "marker_color": "red",
       "name": "life-ring"
      }
     },
     "bfb3929e3505498c81f4a0f8dcb5a9e8": {
      "model_module": "jupyter-leaflet",
      "model_module_version": "^0.15.0",
      "model_name": "LeafletMarkerModel",
      "state": {
       "_model_module_version": "^0.15.0",
       "_view_module_version": "^0.15.0",
       "draggable": false,
       "icon": "IPY_MODEL_cfe9b86c53e14c64a54239ba7128952d",
       "location": [
        27.837,
        -97.039
       ],
       "options": [
        "alt",
        "draggable",
        "keyboard",
        "rise_offset",
        "rise_on_hover",
        "rotation_angle",
        "rotation_origin",
        "title",
        "z_index_offset"
       ],
       "popup": "IPY_MODEL_444addc69b8245229494b57a9c811681"
      }
     },
     "bfdc2179b1d24309a17729324e00d437": {
      "model_module": "@jupyter-widgets/base",
      "model_module_version": "1.2.0",
      "model_name": "LayoutModel",
      "state": {}
     },
     "c01012cca22d485b8ef55054f0e85cdc": {
      "model_module": "jupyter-leaflet",
      "model_module_version": "^0.17.0",
      "model_name": "LeafletAwesomeIconModel",
      "state": {
       "_model_module_version": "^0.17.0",
       "_view_module_version": "^0.17.0",
       "icon_color": "white",
       "marker_color": "green",
       "name": "life-ring"
      }
     },
     "c0219a7f6c704d73aa41ca3bcbbb0c2d": {
      "model_module": "@jupyter-widgets/controls",
      "model_module_version": "1.5.0",
      "model_name": "HTMLModel",
      "state": {
       "layout": "IPY_MODEL_24c2510bbb244d759efca62c7f467936",
       "style": "IPY_MODEL_ad9a8e27fa0f4b7fb82ae0a79902b1f0",
       "value": "<table border=\"1\" class=\"dataframe table table-striped table-hover table-condensed table-responsive\">\n  <thead>\n    <tr style=\"text-align: right;\">\n      <th></th>\n      <th>44033</th>\n    </tr>\n  </thead>\n  <tbody>\n    <tr>\n      <th>met</th>\n      <td>5834.0</td>\n    </tr>\n    <tr>\n      <th>wave</th>\n      <td>5792.0</td>\n    </tr>\n    <tr>\n      <th>type</th>\n      <td>buoy</td>\n    </tr>\n    <tr>\n      <th>name</th>\n      <td>Buoy F01 - Penobscot Bay</td>\n    </tr>\n    <tr>\n      <th>pgm</th>\n      <td>IOOS Partners</td>\n    </tr>\n  </tbody>\n</table>"
      }
     },
     "c04f7d72a51d48d1a5e01fd71c2c6a1a": {
      "model_module": "@jupyter-widgets/controls",
      "model_module_version": "1.5.0",
      "model_name": "HTMLModel",
      "state": {
       "layout": "IPY_MODEL_0e2a126dc49c4b7480e8e3836303df5d",
       "style": "IPY_MODEL_5a7bdec12dd34693b11ef46accb8205f",
       "value": "<table border=\"1\" class=\"dataframe table table-striped table-hover table-condensed table-responsive\">\n  <thead>\n    <tr style=\"text-align: right;\">\n      <th></th>\n      <th>lixa2</th>\n    </tr>\n  </thead>\n  <tbody>\n    <tr>\n      <th>met</th>\n      <td>34322.0</td>\n    </tr>\n    <tr>\n      <th>wave</th>\n      <td>0.0</td>\n    </tr>\n    <tr>\n      <th>type</th>\n      <td>fixed</td>\n    </tr>\n    <tr>\n      <th>name</th>\n      <td>Little Island, AK</td>\n    </tr>\n    <tr>\n      <th>pgm</th>\n      <td>IOOS Partners</td>\n    </tr>\n  </tbody>\n</table>"
      }
     },
     "c04fb178181a4c57aa2a31b7f0edf881": {
      "model_module": "@jupyter-widgets/controls",
      "model_module_version": "1.5.0",
      "model_name": "DescriptionStyleModel",
      "state": {
       "description_width": ""
      }
     },
     "c053d3102adc4f7ab05d0813ce242af0": {
      "model_module": "@jupyter-widgets/controls",
      "model_module_version": "1.5.0",
      "model_name": "HTMLModel",
      "state": {
       "layout": "IPY_MODEL_3deef7f0c2f54483bdc3cd139c16cf81",
       "style": "IPY_MODEL_f79b7b1c18d3463e938fec96d546b1e8",
       "value": "<table border=\"1\" class=\"dataframe table table-striped table-hover table-condensed table-responsive\">\n  <thead>\n    <tr style=\"text-align: right;\">\n      <th></th>\n      <th>oksi2</th>\n    </tr>\n  </thead>\n  <tbody>\n    <tr>\n      <th>met</th>\n      <td>5622.0</td>\n    </tr>\n    <tr>\n      <th>wave</th>\n      <td>0.0</td>\n    </tr>\n    <tr>\n      <th>type</th>\n      <td>fixed</td>\n    </tr>\n    <tr>\n      <th>name</th>\n      <td>Oak St., Chicago, IL</td>\n    </tr>\n    <tr>\n      <th>pgm</th>\n      <td>IOOS Partners</td>\n    </tr>\n  </tbody>\n</table>"
      }
     },
     "c05c3d1a1f5545789e3da3ce6519d3ff": {
      "model_module": "@jupyter-widgets/base",
      "model_module_version": "1.2.0",
      "model_name": "LayoutModel",
      "state": {}
     },
     "c0645492789542adaf422976662c6dcf": {
      "model_module": "jupyter-leaflet",
      "model_module_version": "^0.15.0",
      "model_name": "LeafletAwesomeIconModel",
      "state": {
       "_model_module_version": "^0.15.0",
       "_view_module_version": "^0.15.0",
       "icon_color": "white",
       "marker_color": "orange",
       "name": "life-ring"
      }
     },
     "c09d145589ec49d396eeb0b7680624f8": {
      "model_module": "@jupyter-widgets/base",
      "model_module_version": "1.2.0",
      "model_name": "LayoutModel",
      "state": {}
     },
     "c0c54b3b6d1b43328e61c5d4997f5a68": {
      "model_module": "@jupyter-widgets/controls",
      "model_module_version": "1.5.0",
      "model_name": "HTMLModel",
      "state": {
       "layout": "IPY_MODEL_69f654ee902f4b1c827e0a86fdcd4c47",
       "style": "IPY_MODEL_aa5f530c99924703b306caa85a4f87b5",
       "value": "<table border=\"1\" class=\"dataframe table table-striped table-hover table-condensed table-responsive\">\n  <thead>\n    <tr style=\"text-align: right;\">\n      <th></th>\n      <th>mvxa2</th>\n    </tr>\n  </thead>\n  <tbody>\n    <tr>\n      <th>met</th>\n      <td>34442.0</td>\n    </tr>\n    <tr>\n      <th>wave</th>\n      <td>0.0</td>\n    </tr>\n    <tr>\n      <th>type</th>\n      <td>fixed</td>\n    </tr>\n    <tr>\n      <th>name</th>\n      <td>Mendenhall Valley, AK</td>\n    </tr>\n    <tr>\n      <th>pgm</th>\n      <td>IOOS Partners</td>\n    </tr>\n  </tbody>\n</table>"
      }
     },
     "c13fee4ff3434d1ba144237ca9d974ef": {
      "model_module": "jupyter-leaflet",
      "model_module_version": "^0.17.0",
      "model_name": "LeafletMarkerModel",
      "state": {
       "_model_module_version": "^0.17.0",
       "_view_module_version": "^0.17.0",
       "draggable": false,
       "icon": "IPY_MODEL_460ac29f702f44efabc14c7983f53139",
       "location": [
        41.138,
        -72.655
       ],
       "options": [
        "alt",
        "draggable",
        "keyboard",
        "rise_offset",
        "rise_on_hover",
        "rotation_angle",
        "rotation_origin",
        "title",
        "z_index_offset"
       ],
       "popup": "IPY_MODEL_5afe93e0b51e4c66ab5377f5739052b2"
      }
     },
     "c155c5f7d54b495ba1c72be1a3fd8f99": {
      "model_module": "jupyter-leaflet",
      "model_module_version": "^0.17.0",
      "model_name": "LeafletAwesomeIconModel",
      "state": {
       "_model_module_version": "^0.17.0",
       "_view_module_version": "^0.17.0",
       "icon_color": "white",
       "marker_color": "orange",
       "name": "life-ring"
      }
     },
     "c1f510caba824f29b4cadea8aab10786": {
      "model_module": "@jupyter-widgets/base",
      "model_module_version": "1.2.0",
      "model_name": "LayoutModel",
      "state": {}
     },
     "c2042220391b4dc5b3bd5e4f98f134b5": {
      "model_module": "@jupyter-widgets/base",
      "model_module_version": "1.2.0",
      "model_name": "LayoutModel",
      "state": {}
     },
     "c21116305ee746108b0db4fd1d76ffbd": {
      "model_module": "@jupyter-widgets/controls",
      "model_module_version": "1.5.0",
      "model_name": "HTMLModel",
      "state": {
       "layout": "IPY_MODEL_cf3dcb00475e492ea7b4035bd8b33430",
       "style": "IPY_MODEL_2a2192f9d0884cceaef88eda30bf7bb3",
       "value": "<table border=\"1\" class=\"dataframe table table-striped table-hover table-condensed table-responsive\">\n  <thead>\n    <tr style=\"text-align: right;\">\n      <th></th>\n      <th>41056</th>\n    </tr>\n  </thead>\n  <tbody>\n    <tr>\n      <th>met</th>\n      <td>35212.0</td>\n    </tr>\n    <tr>\n      <th>wave</th>\n      <td>5820.0</td>\n    </tr>\n    <tr>\n      <th>type</th>\n      <td>buoy</td>\n    </tr>\n    <tr>\n      <th>name</th>\n      <td>Vieques Island, PR</td>\n    </tr>\n    <tr>\n      <th>pgm</th>\n      <td>IOOS Partners</td>\n    </tr>\n  </tbody>\n</table>"
      }
     },
     "c2236cde9f754df5a384db168c3462ce": {
      "model_module": "@jupyter-widgets/base",
      "model_module_version": "1.2.0",
      "model_name": "LayoutModel",
      "state": {}
     },
     "c2d31f0d310e49a0b251cb6b460f5608": {
      "model_module": "@jupyter-widgets/controls",
      "model_module_version": "1.5.0",
      "model_name": "DescriptionStyleModel",
      "state": {
       "description_width": ""
      }
     },
     "c2de8a3a45e6426a8a9f0c9c7c23ea19": {
      "model_module": "jupyter-leaflet",
      "model_module_version": "^0.17.0",
      "model_name": "LeafletMarkerModel",
      "state": {
       "_model_module_version": "^0.17.0",
       "_view_module_version": "^0.17.0",
       "draggable": false,
       "icon": "IPY_MODEL_4f4e729680a446e8bd04034aea2a5ff3",
       "location": [
        21.019,
        -156.422
       ],
       "options": [
        "alt",
        "draggable",
        "keyboard",
        "rise_offset",
        "rise_on_hover",
        "rotation_angle",
        "rotation_origin",
        "title",
        "z_index_offset"
       ],
       "popup": "IPY_MODEL_1d72bd9f7a044f0084e17404c9cdbedb"
      }
     },
     "c31e4e2338214c7c8bdd5145bba8e438": {
      "model_module": "jupyter-leaflet",
      "model_module_version": "^0.15.0",
      "model_name": "LeafletMarkerModel",
      "state": {
       "_model_module_version": "^0.15.0",
       "_view_module_version": "^0.15.0",
       "draggable": false,
       "icon": "IPY_MODEL_d11faa0459ba4c2e8bb93a5a99a777e3",
       "location": [
        58.205,
        -134.646
       ],
       "options": [
        "alt",
        "draggable",
        "keyboard",
        "rise_offset",
        "rise_on_hover",
        "rotation_angle",
        "rotation_origin",
        "title",
        "z_index_offset"
       ],
       "popup": "IPY_MODEL_19308df0ea69458887fa14260eb67871"
      }
     },
     "c3230d95f6dd4c29b36b2f3ef408b7d2": {
      "model_module": "jupyter-leaflet",
      "model_module_version": "^0.17.0",
      "model_name": "LeafletMarkerModel",
      "state": {
       "_model_module_version": "^0.17.0",
       "_view_module_version": "^0.17.0",
       "draggable": false,
       "icon": "IPY_MODEL_64c44bbfaf09425faa1b03cff350c5c5",
       "location": [
        32.279,
        -80.406
       ],
       "options": [
        "alt",
        "draggable",
        "keyboard",
        "rise_offset",
        "rise_on_hover",
        "rotation_angle",
        "rotation_origin",
        "title",
        "z_index_offset"
       ],
       "popup": "IPY_MODEL_553bca8113964b9faa4b80e53c7c1cc7"
      }
     },
     "c328a642aad74285bfc43a76758f8c59": {
      "model_module": "jupyter-leaflet",
      "model_module_version": "^0.17.0",
      "model_name": "LeafletAwesomeIconModel",
      "state": {
       "_model_module_version": "^0.17.0",
       "_view_module_version": "^0.17.0",
       "icon_color": "white",
       "marker_color": "orange",
       "name": "life-ring"
      }
     },
     "c32a5591495442beab48d9ec82cadc15": {
      "model_module": "@jupyter-widgets/controls",
      "model_module_version": "1.5.0",
      "model_name": "DescriptionStyleModel",
      "state": {
       "description_width": ""
      }
     },
     "c3a677aa1c2c45b7afd17c56b519920b": {
      "model_module": "jupyter-leaflet",
      "model_module_version": "^0.17.0",
      "model_name": "LeafletAwesomeIconModel",
      "state": {
       "_model_module_version": "^0.17.0",
       "_view_module_version": "^0.17.0",
       "icon_color": "white",
       "marker_color": "orange",
       "name": "life-ring"
      }
     },
     "c3cb03eab7784f788cffa17a2904f5e5": {
      "model_module": "jupyter-leaflet",
      "model_module_version": "^0.17.0",
      "model_name": "LeafletAwesomeIconModel",
      "state": {
       "_model_module_version": "^0.17.0",
       "_view_module_version": "^0.17.0",
       "icon_color": "white",
       "marker_color": "green",
       "name": "life-ring"
      }
     },
     "c3e164f7feef41b1acee2df8b7be0597": {
      "model_module": "jupyter-leaflet",
      "model_module_version": "^0.17.0",
      "model_name": "LeafletMarkerModel",
      "state": {
       "_model_module_version": "^0.17.0",
       "_view_module_version": "^0.17.0",
       "draggable": false,
       "icon": "IPY_MODEL_c728e299842b42158043bb5cb7e24865",
       "location": [
        33.837,
        -78.477
       ],
       "options": [
        "alt",
        "draggable",
        "keyboard",
        "rise_offset",
        "rise_on_hover",
        "rotation_angle",
        "rotation_origin",
        "title",
        "z_index_offset"
       ],
       "popup": "IPY_MODEL_e6bbb00f509648e7937d708b0522895b"
      }
     },
     "c40cd32dbdec46949e9a373b4d4c5deb": {
      "model_module": "@jupyter-widgets/base",
      "model_module_version": "1.2.0",
      "model_name": "LayoutModel",
      "state": {}
     },
     "c41a016c6cde4c4684644758d78208b3": {
      "model_module": "@jupyter-widgets/controls",
      "model_module_version": "1.5.0",
      "model_name": "HTMLModel",
      "state": {
       "layout": "IPY_MODEL_841dec4fda384c2e9082018ea261cc68",
       "style": "IPY_MODEL_ff2e5501f63f4ba1962638d1117d87dc",
       "value": "<table border=\"1\" class=\"dataframe table table-striped table-hover table-condensed table-responsive\">\n  <thead>\n    <tr style=\"text-align: right;\">\n      <th></th>\n      <th>oksi2</th>\n    </tr>\n  </thead>\n  <tbody>\n    <tr>\n      <th>met</th>\n      <td>5622.0</td>\n    </tr>\n    <tr>\n      <th>wave</th>\n      <td>0.0</td>\n    </tr>\n    <tr>\n      <th>type</th>\n      <td>fixed</td>\n    </tr>\n    <tr>\n      <th>name</th>\n      <td>Oak St., Chicago, IL</td>\n    </tr>\n    <tr>\n      <th>pgm</th>\n      <td>IOOS Partners</td>\n    </tr>\n  </tbody>\n</table>"
      }
     },
     "c41a922bd6024a259aec4cb829c1f7ab": {
      "model_module": "@jupyter-widgets/controls",
      "model_module_version": "1.5.0",
      "model_name": "DescriptionStyleModel",
      "state": {
       "description_width": ""
      }
     },
     "c42d2f212c32400e97b8c20ccfbea21c": {
      "model_module": "@jupyter-widgets/base",
      "model_module_version": "1.2.0",
      "model_name": "LayoutModel",
      "state": {}
     },
     "c45518cc78df47d3bef33ea50420184f": {
      "model_module": "@jupyter-widgets/controls",
      "model_module_version": "1.5.0",
      "model_name": "HTMLModel",
      "state": {
       "layout": "IPY_MODEL_38e76a524f7f4ec88283f20a3d87ffad",
       "style": "IPY_MODEL_6406c1449e1a4f82b29cc3227f6fa125",
       "value": "<table border=\"1\" class=\"dataframe table table-striped table-hover table-condensed table-responsive\">\n  <thead>\n    <tr style=\"text-align: right;\">\n      <th></th>\n      <th>45013</th>\n    </tr>\n  </thead>\n  <tbody>\n    <tr>\n      <th>met</th>\n      <td>10830.0</td>\n    </tr>\n    <tr>\n      <th>wave</th>\n      <td>10692.0</td>\n    </tr>\n    <tr>\n      <th>type</th>\n      <td>buoy</td>\n    </tr>\n    <tr>\n      <th>name</th>\n      <td>ATW20 - Atwater Park, WI</td>\n    </tr>\n    <tr>\n      <th>pgm</th>\n      <td>IOOS Partners</td>\n    </tr>\n  </tbody>\n</table>"
      }
     },
     "c4584fb77d8544f6ad2eab7a0beecac1": {
      "model_module": "@jupyter-widgets/controls",
      "model_module_version": "1.5.0",
      "model_name": "DescriptionStyleModel",
      "state": {
       "description_width": ""
      }
     },
     "c4b13bbf08a64f369857baec6053c50f": {
      "model_module": "@jupyter-widgets/base",
      "model_module_version": "1.2.0",
      "model_name": "LayoutModel",
      "state": {}
     },
     "c4b29d488bd44ab8ae45aa5e8db39cba": {
      "model_module": "@jupyter-widgets/base",
      "model_module_version": "1.2.0",
      "model_name": "LayoutModel",
      "state": {}
     },
     "c55c4779321d4a2193ff69111f78e88a": {
      "model_module": "jupyter-leaflet",
      "model_module_version": "^0.15.0",
      "model_name": "LeafletMarkerModel",
      "state": {
       "_model_module_version": "^0.15.0",
       "_view_module_version": "^0.15.0",
       "draggable": false,
       "icon": "IPY_MODEL_be6c5bd2a1094dacaf3c25999ff443d0",
       "location": [
        57.779,
        -135.219
       ],
       "options": [
        "alt",
        "draggable",
        "keyboard",
        "rise_offset",
        "rise_on_hover",
        "rotation_angle",
        "rotation_origin",
        "title",
        "z_index_offset"
       ],
       "popup": "IPY_MODEL_4ed422343af54c86ba9669c36536fa0c"
      }
     },
     "c6690f4fa65f4dfa9f851ecc5e757ba5": {
      "model_module": "@jupyter-widgets/controls",
      "model_module_version": "1.5.0",
      "model_name": "DescriptionStyleModel",
      "state": {
       "description_width": ""
      }
     },
     "c66c4f1c8ced4704b99ea66497f9d6ff": {
      "model_module": "@jupyter-widgets/controls",
      "model_module_version": "1.5.0",
      "model_name": "DescriptionStyleModel",
      "state": {
       "description_width": ""
      }
     },
     "c6c2bb26490b447b82bac69ef1a0de64": {
      "model_module": "jupyter-leaflet",
      "model_module_version": "^0.15.0",
      "model_name": "LeafletAwesomeIconModel",
      "state": {
       "_model_module_version": "^0.15.0",
       "_view_module_version": "^0.15.0",
       "icon_color": "white",
       "marker_color": "orange",
       "name": "life-ring"
      }
     },
     "c728e299842b42158043bb5cb7e24865": {
      "model_module": "jupyter-leaflet",
      "model_module_version": "^0.17.0",
      "model_name": "LeafletAwesomeIconModel",
      "state": {
       "_model_module_version": "^0.17.0",
       "_view_module_version": "^0.17.0",
       "icon_color": "white",
       "marker_color": "orange",
       "name": "life-ring"
      }
     },
     "c7539260a00e41af868283083ff89839": {
      "model_module": "@jupyter-widgets/controls",
      "model_module_version": "1.5.0",
      "model_name": "HTMLModel",
      "state": {
       "layout": "IPY_MODEL_a064b22e7ab84996a79b61a9f793092d",
       "style": "IPY_MODEL_d1cfdf7b7bce4d5db08f81832d5956ce",
       "value": "<table border=\"1\" class=\"dataframe table table-striped table-hover table-condensed table-responsive\">\n  <thead>\n    <tr style=\"text-align: right;\">\n      <th></th>\n      <th>grrt2</th>\n    </tr>\n  </thead>\n  <tbody>\n    <tr>\n      <th>met</th>\n      <td>58668.0</td>\n    </tr>\n    <tr>\n      <th>wave</th>\n      <td>0.0</td>\n    </tr>\n    <tr>\n      <th>type</th>\n      <td>fixed</td>\n    </tr>\n    <tr>\n      <th>name</th>\n      <td>8771486 - Galveston RR Bridge, TX</td>\n    </tr>\n    <tr>\n      <th>pgm</th>\n      <td>IOOS Partners</td>\n    </tr>\n  </tbody>\n</table>"
      }
     },
     "c75b3365391542b29886248abf1ceba2": {
      "model_module": "@jupyter-widgets/controls",
      "model_module_version": "1.5.0",
      "model_name": "DescriptionStyleModel",
      "state": {
       "description_width": ""
      }
     },
     "c80fd1804ef04549963f94ed6fbb8302": {
      "model_module": "jupyter-leaflet",
      "model_module_version": "^0.15.0",
      "model_name": "LeafletAwesomeIconModel",
      "state": {
       "_model_module_version": "^0.15.0",
       "_view_module_version": "^0.15.0",
       "icon_color": "white",
       "marker_color": "green",
       "name": "life-ring"
      }
     },
     "c841f5bc9839429aad7ca74301dd2f1e": {
      "model_module": "@jupyter-widgets/controls",
      "model_module_version": "1.5.0",
      "model_name": "HTMLModel",
      "state": {
       "layout": "IPY_MODEL_d9ee7d10877e43ce916b8ae1d2623364",
       "style": "IPY_MODEL_4c1043bfb1c248a59f3799e08d0bcbe6",
       "value": "<table border=\"1\" class=\"dataframe table table-striped table-hover table-condensed table-responsive\">\n  <thead>\n    <tr style=\"text-align: right;\">\n      <th></th>\n      <th>44024</th>\n    </tr>\n  </thead>\n  <tbody>\n    <tr>\n      <th>met</th>\n      <td>4828.0</td>\n    </tr>\n    <tr>\n      <th>wave</th>\n      <td>4708.0</td>\n    </tr>\n    <tr>\n      <th>type</th>\n      <td>buoy</td>\n    </tr>\n    <tr>\n      <th>name</th>\n      <td>Buoy N01 - Northeast Channel</td>\n    </tr>\n    <tr>\n      <th>pgm</th>\n      <td>IOOS Partners</td>\n    </tr>\n  </tbody>\n</table>"
      }
     },
     "c87100130ccd4c5192d6700ce3757c4f": {
      "model_module": "@jupyter-widgets/controls",
      "model_module_version": "1.5.0",
      "model_name": "HTMLModel",
      "state": {
       "layout": "IPY_MODEL_834376bd8dd0438bb453846b74c28cc2",
       "style": "IPY_MODEL_767908092d454293a69bb7093550db71",
       "value": "<table border=\"1\" class=\"dataframe table table-striped table-hover table-condensed table-responsive\">\n  <thead>\n    <tr style=\"text-align: right;\">\n      <th></th>\n      <th>skxa2</th>\n    </tr>\n  </thead>\n  <tbody>\n    <tr>\n      <th>met</th>\n      <td>34240.0</td>\n    </tr>\n    <tr>\n      <th>wave</th>\n      <td>0.0</td>\n    </tr>\n    <tr>\n      <th>type</th>\n      <td>fixed</td>\n    </tr>\n    <tr>\n      <th>name</th>\n      <td>Skagway MXAK, AK</td>\n    </tr>\n    <tr>\n      <th>pgm</th>\n      <td>IOOS Partners</td>\n    </tr>\n  </tbody>\n</table>"
      }
     },
     "c88be952f793495f8b1eb76bb5693f4e": {
      "model_module": "jupyter-leaflet",
      "model_module_version": "^0.17.0",
      "model_name": "LeafletAwesomeIconModel",
      "state": {
       "_model_module_version": "^0.17.0",
       "_view_module_version": "^0.17.0",
       "icon_color": "white",
       "marker_color": "orange",
       "name": "life-ring"
      }
     },
     "c8df7ef0339e4aea8bc16320c982c341": {
      "model_module": "jupyter-leaflet",
      "model_module_version": "^0.15.0",
      "model_name": "LeafletMarkerModel",
      "state": {
       "_model_module_version": "^0.15.0",
       "_view_module_version": "^0.15.0",
       "draggable": false,
       "icon": "IPY_MODEL_4f9893eab77a48338eb351b90f74c344",
       "location": [
        46.86,
        -91.93
       ],
       "options": [
        "alt",
        "draggable",
        "keyboard",
        "rise_offset",
        "rise_on_hover",
        "rotation_angle",
        "rotation_origin",
        "title",
        "z_index_offset"
       ],
       "popup": "IPY_MODEL_3469a1de3e8741ab943b4dac42121690"
      }
     },
     "c90ab2d8cfcf4088b1c62d7043a82a69": {
      "model_module": "@jupyter-widgets/controls",
      "model_module_version": "1.5.0",
      "model_name": "HTMLModel",
      "state": {
       "layout": "IPY_MODEL_7f09d04deb6344909b9d2797321126e0",
       "style": "IPY_MODEL_b5c30ec8589046dfbce8a402acff446d",
       "value": "<table border=\"1\" class=\"dataframe table table-striped table-hover table-condensed table-responsive\">\n  <thead>\n    <tr style=\"text-align: right;\">\n      <th></th>\n      <th>hist2</th>\n    </tr>\n  </thead>\n  <tbody>\n    <tr>\n      <th>met</th>\n      <td>58628.0</td>\n    </tr>\n    <tr>\n      <th>wave</th>\n      <td>0.0</td>\n    </tr>\n    <tr>\n      <th>type</th>\n      <td>fixed</td>\n    </tr>\n    <tr>\n      <th>name</th>\n      <td>8770808 - High Island, TX</td>\n    </tr>\n    <tr>\n      <th>pgm</th>\n      <td>IOOS Partners</td>\n    </tr>\n  </tbody>\n</table>"
      }
     },
     "c9143229f44e4caf83bc0ae4c9734761": {
      "model_module": "jupyter-leaflet",
      "model_module_version": "^0.17.0",
      "model_name": "LeafletAwesomeIconModel",
      "state": {
       "_model_module_version": "^0.17.0",
       "_view_module_version": "^0.17.0",
       "icon_color": "white",
       "marker_color": "orange",
       "name": "life-ring"
      }
     },
     "c94f7dd57d2446b58bc2013664c050ab": {
      "model_module": "@jupyter-widgets/base",
      "model_module_version": "1.2.0",
      "model_name": "LayoutModel",
      "state": {}
     },
     "c9ba3dc147e84554bf14a5cb88456c80": {
      "model_module": "@jupyter-widgets/controls",
      "model_module_version": "1.5.0",
      "model_name": "DescriptionStyleModel",
      "state": {
       "description_width": ""
      }
     },
     "c9fb155dd8f9453da0efd3ecb20ef127": {
      "model_module": "jupyter-leaflet",
      "model_module_version": "^0.17.0",
      "model_name": "LeafletAwesomeIconModel",
      "state": {
       "_model_module_version": "^0.17.0",
       "_view_module_version": "^0.17.0",
       "icon_color": "white",
       "marker_color": "orange",
       "name": "life-ring"
      }
     },
     "c9fd915bc256467fa0a4c14333e4d464": {
      "model_module": "jupyter-leaflet",
      "model_module_version": "^0.17.0",
      "model_name": "LeafletAwesomeIconModel",
      "state": {
       "_model_module_version": "^0.17.0",
       "_view_module_version": "^0.17.0",
       "icon_color": "white",
       "marker_color": "orange",
       "name": "life-ring"
      }
     },
     "ca18cad0be2c42a191c8a362df1cabae": {
      "model_module": "@jupyter-widgets/controls",
      "model_module_version": "1.5.0",
      "model_name": "DescriptionStyleModel",
      "state": {
       "description_width": ""
      }
     },
     "ca6d604023934459960cc3ee48b9685e": {
      "model_module": "@jupyter-widgets/controls",
      "model_module_version": "1.5.0",
      "model_name": "HTMLModel",
      "state": {
       "layout": "IPY_MODEL_3fc5a671fd054d299ea4119ca4123c1b",
       "style": "IPY_MODEL_65ccdc9d66674db382775778d21c908c",
       "value": "<table border=\"1\" class=\"dataframe table table-striped table-hover table-condensed table-responsive\">\n  <thead>\n    <tr style=\"text-align: right;\">\n      <th></th>\n      <th>txpt2</th>\n    </tr>\n  </thead>\n  <tbody>\n    <tr>\n      <th>met</th>\n      <td>58296.0</td>\n    </tr>\n    <tr>\n      <th>wave</th>\n      <td>0.0</td>\n    </tr>\n    <tr>\n      <th>type</th>\n      <td>fixed</td>\n    </tr>\n    <tr>\n      <th>name</th>\n      <td>8770822 - Texas Point, Sabine Pass, TX</td>\n    </tr>\n    <tr>\n      <th>pgm</th>\n      <td>NOS/CO-OPS</td>\n    </tr>\n  </tbody>\n</table>"
      }
     },
     "ca870c58f2b04d09b19b3c9ed3094dbc": {
      "model_module": "@jupyter-widgets/controls",
      "model_module_version": "1.5.0",
      "model_name": "HTMLModel",
      "state": {
       "layout": "IPY_MODEL_849d40de3060430bbf3ce13584e1e5f7",
       "style": "IPY_MODEL_04aacac8793b4305921e36b0c9f839d6",
       "value": "<table border=\"1\" class=\"dataframe table table-striped table-hover table-condensed table-responsive\">\n  <thead>\n    <tr style=\"text-align: right;\">\n      <th></th>\n      <th>44095</th>\n    </tr>\n  </thead>\n  <tbody>\n    <tr>\n      <th>met</th>\n      <td>0.0</td>\n    </tr>\n    <tr>\n      <th>wave</th>\n      <td>11662.0</td>\n    </tr>\n    <tr>\n      <th>type</th>\n      <td>buoy</td>\n    </tr>\n    <tr>\n      <th>name</th>\n      <td>Oregon Inlet, NC (192)</td>\n    </tr>\n    <tr>\n      <th>pgm</th>\n      <td>IOOS Partners</td>\n    </tr>\n  </tbody>\n</table>"
      }
     },
     "cada9ebeedb74715a721c425784c45e4": {
      "model_module": "@jupyter-widgets/base",
      "model_module_version": "1.2.0",
      "model_name": "LayoutModel",
      "state": {}
     },
     "cb0015db30c246dbb728ea378338dbc6": {
      "model_module": "@jupyter-widgets/controls",
      "model_module_version": "1.5.0",
      "model_name": "DescriptionStyleModel",
      "state": {
       "description_width": ""
      }
     },
     "cb048807ea0d4d97b6c9d2198fb1686d": {
      "model_module": "@jupyter-widgets/controls",
      "model_module_version": "1.5.0",
      "model_name": "HTMLModel",
      "state": {
       "layout": "IPY_MODEL_1eda53355a0f41aca807c43f89c89358",
       "style": "IPY_MODEL_fc0d5c5350c84d57b4212d6b22880ead",
       "value": "<table border=\"1\" class=\"dataframe table table-striped table-hover table-condensed table-responsive\">\n  <thead>\n    <tr style=\"text-align: right;\">\n      <th></th>\n      <th>sgnt2</th>\n    </tr>\n  </thead>\n  <tbody>\n    <tr>\n      <th>met</th>\n      <td>58556.0</td>\n    </tr>\n    <tr>\n      <th>wave</th>\n      <td>0.0</td>\n    </tr>\n    <tr>\n      <th>type</th>\n      <td>fixed</td>\n    </tr>\n    <tr>\n      <th>name</th>\n      <td>8772985 - Sargent, TX</td>\n    </tr>\n    <tr>\n      <th>pgm</th>\n      <td>IOOS Partners</td>\n    </tr>\n  </tbody>\n</table>"
      }
     },
     "cb0a91cd114146a3b06f4f2c4e235b8e": {
      "model_module": "@jupyter-widgets/base",
      "model_module_version": "1.2.0",
      "model_name": "LayoutModel",
      "state": {}
     },
     "cb7ed90884e0443abc9d45265bf9ab6f": {
      "model_module": "@jupyter-widgets/controls",
      "model_module_version": "1.5.0",
      "model_name": "DescriptionStyleModel",
      "state": {
       "description_width": ""
      }
     },
     "cb806c1f74a24f2885dd99db20594f36": {
      "model_module": "jupyter-leaflet",
      "model_module_version": "^0.15.0",
      "model_name": "LeafletAwesomeIconModel",
      "state": {
       "_model_module_version": "^0.15.0",
       "_view_module_version": "^0.15.0",
       "icon_color": "white",
       "marker_color": "red",
       "name": "life-ring"
      }
     },
     "cb9cc36620244c499628cd6b555b1222": {
      "model_module": "jupyter-leaflet",
      "model_module_version": "^0.15.0",
      "model_name": "LeafletAwesomeIconModel",
      "state": {
       "_model_module_version": "^0.15.0",
       "_view_module_version": "^0.15.0",
       "icon_color": "white",
       "marker_color": "green",
       "name": "life-ring"
      }
     },
     "cc4a93e1a18c4d8a83f63d7e7c30905b": {
      "model_module": "@jupyter-widgets/controls",
      "model_module_version": "1.5.0",
      "model_name": "HTMLModel",
      "state": {
       "layout": "IPY_MODEL_f5902d58f93f4f0cb41671b1f67f5502",
       "style": "IPY_MODEL_4bf48fd6077343bc9f5bff8396fb772e",
       "value": "<table border=\"1\" class=\"dataframe table table-striped table-hover table-condensed table-responsive\">\n  <thead>\n    <tr style=\"text-align: right;\">\n      <th></th>\n      <th>51208</th>\n    </tr>\n  </thead>\n  <tbody>\n    <tr>\n      <th>met</th>\n      <td>0.0</td>\n    </tr>\n    <tr>\n      <th>wave</th>\n      <td>11508.0</td>\n    </tr>\n    <tr>\n      <th>type</th>\n      <td>buoy</td>\n    </tr>\n    <tr>\n      <th>name</th>\n      <td>Hanalei, Kauai, HI (202)</td>\n    </tr>\n    <tr>\n      <th>pgm</th>\n      <td>IOOS Partners</td>\n    </tr>\n  </tbody>\n</table>"
      }
     },
     "cc684fdca1724b3e84fce1f676d48f20": {
      "model_module": "@jupyter-widgets/controls",
      "model_module_version": "1.5.0",
      "model_name": "HTMLModel",
      "state": {
       "layout": "IPY_MODEL_dc7c18a03eb14739be9073b769a871b3",
       "style": "IPY_MODEL_09988a27bcfb49fe8f7c1fbd5aa2e8c3",
       "value": "<table border=\"1\" class=\"dataframe table table-striped table-hover table-condensed table-responsive\">\n  <thead>\n    <tr style=\"text-align: right;\">\n      <th></th>\n      <th>shxa2</th>\n    </tr>\n  </thead>\n  <tbody>\n    <tr>\n      <th>met</th>\n      <td>34262.0</td>\n    </tr>\n    <tr>\n      <th>wave</th>\n      <td>0.0</td>\n    </tr>\n    <tr>\n      <th>type</th>\n      <td>fixed</td>\n    </tr>\n    <tr>\n      <th>name</th>\n      <td>Sitka Harbor, AK</td>\n    </tr>\n    <tr>\n      <th>pgm</th>\n      <td>IOOS Partners</td>\n    </tr>\n  </tbody>\n</table>"
      }
     },
     "cd20cace2993490f9f788f668b3535dc": {
      "model_module": "@jupyter-widgets/controls",
      "model_module_version": "1.5.0",
      "model_name": "DescriptionStyleModel",
      "state": {
       "description_width": ""
      }
     },
     "cd6bcb8281584e1d92c4bbe22da69537": {
      "model_module": "jupyter-leaflet",
      "model_module_version": "^0.15.0",
      "model_name": "LeafletMarkerModel",
      "state": {
       "_model_module_version": "^0.15.0",
       "_view_module_version": "^0.15.0",
       "draggable": false,
       "icon": "IPY_MODEL_f597751eb19141e3a54702e91dc618ae",
       "location": [
        18.48,
        -66.702
       ],
       "options": [
        "alt",
        "draggable",
        "keyboard",
        "rise_offset",
        "rise_on_hover",
        "rotation_angle",
        "rotation_origin",
        "title",
        "z_index_offset"
       ],
       "popup": "IPY_MODEL_710fbcbc32f64c61be00ec5d1a605677"
      }
     },
     "cd75c831b1f44f7db29883fa5cb1310b": {
      "model_module": "@jupyter-widgets/controls",
      "model_module_version": "1.5.0",
      "model_name": "DescriptionStyleModel",
      "state": {
       "description_width": ""
      }
     },
     "cdf42275aca44d518b5066d662de75dc": {
      "model_module": "@jupyter-widgets/base",
      "model_module_version": "1.2.0",
      "model_name": "LayoutModel",
      "state": {}
     },
     "ce1bad65015547729513552592d54852": {
      "model_module": "jupyter-leaflet",
      "model_module_version": "^0.15.0",
      "model_name": "LeafletMarkerModel",
      "state": {
       "_model_module_version": "^0.15.0",
       "_view_module_version": "^0.15.0",
       "draggable": false,
       "icon": "IPY_MODEL_b71490a66c6b438498e3cbeec1162b51",
       "location": [
        58.408,
        -135.726
       ],
       "options": [
        "alt",
        "draggable",
        "keyboard",
        "rise_offset",
        "rise_on_hover",
        "rotation_angle",
        "rotation_origin",
        "title",
        "z_index_offset"
       ],
       "popup": "IPY_MODEL_5ad8ad6e6e7e40dab228dc919796bf3c"
      }
     },
     "ce3e3d0b9d2f4125913a32d886566a18": {
      "model_module": "jupyter-leaflet",
      "model_module_version": "^0.17.0",
      "model_name": "LeafletMarkerModel",
      "state": {
       "_model_module_version": "^0.17.0",
       "_view_module_version": "^0.17.0",
       "draggable": false,
       "icon": "IPY_MODEL_9545f8e07a774293a0c9b0836bade659",
       "location": [
        46.86,
        -91.93
       ],
       "options": [
        "alt",
        "draggable",
        "keyboard",
        "rise_offset",
        "rise_on_hover",
        "rotation_angle",
        "rotation_origin",
        "title",
        "z_index_offset"
       ],
       "popup": "IPY_MODEL_9d7357c933cd41a69f6a15e962d9ee97"
      }
     },
     "ce47d5eb56734a059610ccea3cde2026": {
      "model_module": "@jupyter-widgets/controls",
      "model_module_version": "1.5.0",
      "model_name": "HTMLModel",
      "state": {
       "layout": "IPY_MODEL_c05c3d1a1f5545789e3da3ce6519d3ff",
       "style": "IPY_MODEL_8789a932497d4e4db96e5703397b8e79",
       "value": "<table border=\"1\" class=\"dataframe table table-striped table-hover table-condensed table-responsive\">\n  <thead>\n    <tr style=\"text-align: right;\">\n      <th></th>\n      <th>ldlc3</th>\n    </tr>\n  </thead>\n  <tbody>\n    <tr>\n      <th>met</th>\n      <td>6344.0</td>\n    </tr>\n    <tr>\n      <th>wave</th>\n      <td>0.0</td>\n    </tr>\n    <tr>\n      <th>type</th>\n      <td>fixed</td>\n    </tr>\n    <tr>\n      <th>name</th>\n      <td>New London Ledge Light, New London Harbor, CT</td>\n    </tr>\n    <tr>\n      <th>pgm</th>\n      <td>IOOS Partners</td>\n    </tr>\n  </tbody>\n</table>"
      }
     },
     "ce724a1081c24953b6110fbae1873daa": {
      "model_module": "@jupyter-widgets/controls",
      "model_module_version": "1.5.0",
      "model_name": "DescriptionStyleModel",
      "state": {
       "description_width": ""
      }
     },
     "ce778e565e03476387d4c64cb94c10a7": {
      "model_module": "@jupyter-widgets/controls",
      "model_module_version": "1.5.0",
      "model_name": "DescriptionStyleModel",
      "state": {
       "description_width": ""
      }
     },
     "ce93fb95f37746b9874a137b419b5639": {
      "model_module": "@jupyter-widgets/controls",
      "model_module_version": "1.5.0",
      "model_name": "HTMLModel",
      "state": {
       "layout": "IPY_MODEL_96dd0094402e4bc2b2e18233e63a9729",
       "style": "IPY_MODEL_446c24b33e814558bc00de6bdc95c237",
       "value": "<table border=\"1\" class=\"dataframe table table-striped table-hover table-condensed table-responsive\">\n  <thead>\n    <tr style=\"text-align: right;\">\n      <th></th>\n      <th>port2</th>\n    </tr>\n  </thead>\n  <tbody>\n    <tr>\n      <th>met</th>\n      <td>58624.0</td>\n    </tr>\n    <tr>\n      <th>wave</th>\n      <td>0.0</td>\n    </tr>\n    <tr>\n      <th>type</th>\n      <td>fixed</td>\n    </tr>\n    <tr>\n      <th>name</th>\n      <td>8770475 - Port Arthur, TX</td>\n    </tr>\n    <tr>\n      <th>pgm</th>\n      <td>IOOS Partners</td>\n    </tr>\n  </tbody>\n</table>"
      }
     },
     "cf08d81c20ce4548a1ad84720d46e0e8": {
      "model_module": "jupyter-leaflet",
      "model_module_version": "^0.17.0",
      "model_name": "LeafletAwesomeIconModel",
      "state": {
       "_model_module_version": "^0.17.0",
       "_view_module_version": "^0.17.0",
       "icon_color": "white",
       "marker_color": "orange",
       "name": "life-ring"
      }
     },
     "cf33a899dd6048d4a628a37a7c2386a4": {
      "model_module": "@jupyter-widgets/base",
      "model_module_version": "1.2.0",
      "model_name": "LayoutModel",
      "state": {}
     },
     "cf3dcb00475e492ea7b4035bd8b33430": {
      "model_module": "@jupyter-widgets/base",
      "model_module_version": "1.2.0",
      "model_name": "LayoutModel",
      "state": {}
     },
     "cf69e944fa07468f82f2206b5cbd2c3e": {
      "model_module": "jupyter-leaflet",
      "model_module_version": "^0.17.0",
      "model_name": "LeafletMarkerModel",
      "state": {
       "_model_module_version": "^0.17.0",
       "_view_module_version": "^0.17.0",
       "draggable": false,
       "icon": "IPY_MODEL_bd93bc2cd2bc4ad9b13657f4a7648b03",
       "location": [
        42.397,
        -86.331
       ],
       "options": [
        "alt",
        "draggable",
        "keyboard",
        "rise_offset",
        "rise_on_hover",
        "rotation_angle",
        "rotation_origin",
        "title",
        "z_index_offset"
       ],
       "popup": "IPY_MODEL_d0af39f913fc47d3a6c9033dd16d5d08"
      }
     },
     "cf836ae398594bb19f18261420fba23d": {
      "model_module": "@jupyter-widgets/controls",
      "model_module_version": "1.5.0",
      "model_name": "HTMLModel",
      "state": {
       "layout": "IPY_MODEL_6e97b110cccc4d56b9a5107d1beedab4",
       "style": "IPY_MODEL_cd75c831b1f44f7db29883fa5cb1310b",
       "value": "<table border=\"1\" class=\"dataframe table table-striped table-hover table-condensed table-responsive\">\n  <thead>\n    <tr style=\"text-align: right;\">\n      <th></th>\n      <th>51201</th>\n    </tr>\n  </thead>\n  <tbody>\n    <tr>\n      <th>met</th>\n      <td>0.0</td>\n    </tr>\n    <tr>\n      <th>wave</th>\n      <td>11520.0</td>\n    </tr>\n    <tr>\n      <th>type</th>\n      <td>buoy</td>\n    </tr>\n    <tr>\n      <th>name</th>\n      <td>Waimea Bay, HI (106)</td>\n    </tr>\n    <tr>\n      <th>pgm</th>\n      <td>IOOS Partners</td>\n    </tr>\n  </tbody>\n</table>"
      }
     },
     "cf9647dfcffd4728a50a153850ec3860": {
      "model_module": "jupyter-leaflet",
      "model_module_version": "^0.15.0",
      "model_name": "LeafletAwesomeIconModel",
      "state": {
       "_model_module_version": "^0.15.0",
       "_view_module_version": "^0.15.0",
       "icon_color": "white",
       "marker_color": "orange",
       "name": "life-ring"
      }
     },
     "cfde650d0153453d854b16701be720af": {
      "model_module": "jupyter-leaflet",
      "model_module_version": "^0.15.0",
      "model_name": "LeafletMarkerModel",
      "state": {
       "_model_module_version": "^0.15.0",
       "_view_module_version": "^0.15.0",
       "draggable": false,
       "icon": "IPY_MODEL_a761d3ec89a54faaa73dea6194c58793",
       "location": [
        20.75,
        -157.003
       ],
       "options": [
        "alt",
        "draggable",
        "keyboard",
        "rise_offset",
        "rise_on_hover",
        "rotation_angle",
        "rotation_origin",
        "title",
        "z_index_offset"
       ],
       "popup": "IPY_MODEL_975235b6951a439c83ac87d4438e9006"
      }
     },
     "cfe9b86c53e14c64a54239ba7128952d": {
      "model_module": "jupyter-leaflet",
      "model_module_version": "^0.15.0",
      "model_name": "LeafletAwesomeIconModel",
      "state": {
       "_model_module_version": "^0.15.0",
       "_view_module_version": "^0.15.0",
       "icon_color": "white",
       "marker_color": "orange",
       "name": "life-ring"
      }
     },
     "d03f17d85d1143e68f8a816a5218eb97": {
      "model_module": "jupyter-leaflet",
      "model_module_version": "^0.15.0",
      "model_name": "LeafletMarkerModel",
      "state": {
       "_model_module_version": "^0.15.0",
       "_view_module_version": "^0.15.0",
       "draggable": false,
       "icon": "IPY_MODEL_830a213d249143fdab46463e446d9038",
       "location": [
        26.404,
        -81.881
       ],
       "options": [
        "alt",
        "draggable",
        "keyboard",
        "rise_offset",
        "rise_on_hover",
        "rotation_angle",
        "rotation_origin",
        "title",
        "z_index_offset"
       ],
       "popup": "IPY_MODEL_b78439d6af7444e2ae1a8951dfb05d07"
      }
     },
     "d04723cb65ed4c229c0d7a20d405b3a3": {
      "model_module": "@jupyter-widgets/base",
      "model_module_version": "1.2.0",
      "model_name": "LayoutModel",
      "state": {}
     },
     "d0af39f913fc47d3a6c9033dd16d5d08": {
      "model_module": "@jupyter-widgets/controls",
      "model_module_version": "1.5.0",
      "model_name": "HTMLModel",
      "state": {
       "layout": "IPY_MODEL_545c9f65161447a6b52b9a60ff49c635",
       "style": "IPY_MODEL_6abac5052d404183be28f2ed561bd956",
       "value": "<table border=\"1\" class=\"dataframe table table-striped table-hover table-condensed table-responsive\">\n  <thead>\n    <tr style=\"text-align: right;\">\n      <th></th>\n      <th>45168</th>\n    </tr>\n  </thead>\n  <tbody>\n    <tr>\n      <th>met</th>\n      <td>27662.0</td>\n    </tr>\n    <tr>\n      <th>wave</th>\n      <td>26818.0</td>\n    </tr>\n    <tr>\n      <th>type</th>\n      <td>buoy</td>\n    </tr>\n    <tr>\n      <th>name</th>\n      <td>South Haven Buoy, MI</td>\n    </tr>\n    <tr>\n      <th>pgm</th>\n      <td>IOOS Partners</td>\n    </tr>\n  </tbody>\n</table>"
      }
     },
     "d0c332e7ac134c488678053a3b5baced": {
      "model_module": "jupyter-leaflet",
      "model_module_version": "^0.17.0",
      "model_name": "LeafletMarkerModel",
      "state": {
       "_model_module_version": "^0.17.0",
       "_view_module_version": "^0.17.0",
       "draggable": false,
       "icon": "IPY_MODEL_c3a677aa1c2c45b7afd17c56b519920b",
       "location": [
        55.446,
        -131.881
       ],
       "options": [
        "alt",
        "draggable",
        "keyboard",
        "rise_offset",
        "rise_on_hover",
        "rotation_angle",
        "rotation_origin",
        "title",
        "z_index_offset"
       ],
       "popup": "IPY_MODEL_f6f3ae419545408aa89ca4e5e612ff33"
      }
     },
     "d0d356f196544b00a1e73a82b523e096": {
      "model_module": "jupyter-leaflet",
      "model_module_version": "^0.15.0",
      "model_name": "LeafletLegendControlModel",
      "state": {
       "_model_module_version": "^0.15.0",
       "_view_module_version": "^0.15.0",
       "legend": {
        "both": "#008000",
        "met": "#FFA500",
        "wave": "#FF0000"
       },
       "options": [
        "position"
       ],
       "title": "GTS"
      }
     },
     "d0def619bc264bad99c9fc7466795f0b": {
      "model_module": "jupyter-leaflet",
      "model_module_version": "^0.17.0",
      "model_name": "LeafletMarkerModel",
      "state": {
       "_model_module_version": "^0.17.0",
       "_view_module_version": "^0.17.0",
       "draggable": false,
       "icon": "IPY_MODEL_623e6ee17c514458b78859b301118fe2",
       "location": [
        29.595,
        -94.39
       ],
       "options": [
        "alt",
        "draggable",
        "keyboard",
        "rise_offset",
        "rise_on_hover",
        "rotation_angle",
        "rotation_origin",
        "title",
        "z_index_offset"
       ],
       "popup": "IPY_MODEL_ab3cbca01cdb4127bc8211a501a362ce"
      }
     },
     "d11faa0459ba4c2e8bb93a5a99a777e3": {
      "model_module": "jupyter-leaflet",
      "model_module_version": "^0.15.0",
      "model_name": "LeafletAwesomeIconModel",
      "state": {
       "_model_module_version": "^0.15.0",
       "_view_module_version": "^0.15.0",
       "icon_color": "white",
       "marker_color": "orange",
       "name": "life-ring"
      }
     },
     "d16a9fc03bb349388ea825ecc7c8c871": {
      "model_module": "@jupyter-widgets/controls",
      "model_module_version": "1.5.0",
      "model_name": "DescriptionStyleModel",
      "state": {
       "description_width": ""
      }
     },
     "d176e0a1f0a04444850b59df927aa9ac": {
      "model_module": "jupyter-leaflet",
      "model_module_version": "^0.17.0",
      "model_name": "LeafletMarkerModel",
      "state": {
       "_model_module_version": "^0.17.0",
       "_view_module_version": "^0.17.0",
       "draggable": false,
       "icon": "IPY_MODEL_39d65090570947659cb807159d3e8440",
       "location": [
        28.407,
        -96.712
       ],
       "options": [
        "alt",
        "draggable",
        "keyboard",
        "rise_offset",
        "rise_on_hover",
        "rotation_angle",
        "rotation_origin",
        "title",
        "z_index_offset"
       ],
       "popup": "IPY_MODEL_2d36d25cf1dd44ff8115ca44fa8150ac"
      }
     },
     "d1957306f71c46ab96ecd95971132ef0": {
      "model_module": "jupyter-leaflet",
      "model_module_version": "^0.17.0",
      "model_name": "LeafletAwesomeIconModel",
      "state": {
       "_model_module_version": "^0.17.0",
       "_view_module_version": "^0.17.0",
       "icon_color": "white",
       "marker_color": "red",
       "name": "life-ring"
      }
     },
     "d1a3ed3f227d4711bbaecc029dff1c9b": {
      "model_module": "jupyter-leaflet",
      "model_module_version": "^0.15.0",
      "model_name": "LeafletMarkerModel",
      "state": {
       "_model_module_version": "^0.15.0",
       "_view_module_version": "^0.15.0",
       "draggable": false,
       "icon": "IPY_MODEL_3c14cb2bbcef4d73acc6676eb7dc7138",
       "location": [
        55.099,
        -131.182
       ],
       "options": [
        "alt",
        "draggable",
        "keyboard",
        "rise_offset",
        "rise_on_hover",
        "rotation_angle",
        "rotation_origin",
        "title",
        "z_index_offset"
       ],
       "popup": "IPY_MODEL_316700411c134269a00a1cac0f00107a"
      }
     },
     "d1cfdf7b7bce4d5db08f81832d5956ce": {
      "model_module": "@jupyter-widgets/controls",
      "model_module_version": "1.5.0",
      "model_name": "DescriptionStyleModel",
      "state": {
       "description_width": ""
      }
     },
     "d1f76ac81fc14c84913019abc1b3a4b4": {
      "model_module": "jupyter-leaflet",
      "model_module_version": "^0.17.0",
      "model_name": "LeafletAwesomeIconModel",
      "state": {
       "_model_module_version": "^0.17.0",
       "_view_module_version": "^0.17.0",
       "icon_color": "white",
       "marker_color": "orange",
       "name": "life-ring"
      }
     },
     "d22e7ebb9f13415d8847f4d706fe2795": {
      "model_module": "@jupyter-widgets/controls",
      "model_module_version": "1.5.0",
      "model_name": "HTMLModel",
      "state": {
       "layout": "IPY_MODEL_d9b044104a14455d9617448482582300",
       "style": "IPY_MODEL_961a2b170d2245e4b11cbe910aa00367",
       "value": "<table border=\"1\" class=\"dataframe table table-striped table-hover table-condensed table-responsive\">\n  <thead>\n    <tr style=\"text-align: right;\">\n      <th></th>\n      <th>icya2</th>\n    </tr>\n  </thead>\n  <tbody>\n    <tr>\n      <th>met</th>\n      <td>19418.0</td>\n    </tr>\n    <tr>\n      <th>wave</th>\n      <td>0.0</td>\n    </tr>\n    <tr>\n      <th>type</th>\n      <td>fixed</td>\n    </tr>\n    <tr>\n      <th>name</th>\n      <td>Icy Bay, AK</td>\n    </tr>\n    <tr>\n      <th>pgm</th>\n      <td>IOOS Partners</td>\n    </tr>\n  </tbody>\n</table>"
      }
     },
     "d2d9384a20b046acb5daa9f45bff2700": {
      "model_module": "@jupyter-widgets/controls",
      "model_module_version": "1.5.0",
      "model_name": "HTMLModel",
      "state": {
       "layout": "IPY_MODEL_9e43ace3173848008db38a405c985a61",
       "style": "IPY_MODEL_730dbe5245dc4ac1a1a335c8de550d6f",
       "value": "<table border=\"1\" class=\"dataframe table table-striped table-hover table-condensed table-responsive\">\n  <thead>\n    <tr style=\"text-align: right;\">\n      <th></th>\n      <th>45165</th>\n    </tr>\n  </thead>\n  <tbody>\n    <tr>\n      <th>met</th>\n      <td>31844.0</td>\n    </tr>\n    <tr>\n      <th>wave</th>\n      <td>31844.0</td>\n    </tr>\n    <tr>\n      <th>type</th>\n      <td>buoy</td>\n    </tr>\n    <tr>\n      <th>name</th>\n      <td>Toledo Water Intake Buoy, Oregon, OH</td>\n    </tr>\n    <tr>\n      <th>pgm</th>\n      <td>IOOS Partners</td>\n    </tr>\n  </tbody>\n</table>"
      }
     },
     "d330bdeab44145d4838cb7bff87af679": {
      "model_module": "@jupyter-widgets/controls",
      "model_module_version": "1.5.0",
      "model_name": "HTMLModel",
      "state": {
       "layout": "IPY_MODEL_5ce40c1d26b1444a95a92f4446bfd3b1",
       "style": "IPY_MODEL_0c2c034c2e3849fb885d9725041284ed",
       "value": "<table border=\"1\" class=\"dataframe table table-striped table-hover table-condensed table-responsive\">\n  <thead>\n    <tr style=\"text-align: right;\">\n      <th></th>\n      <th>41159</th>\n    </tr>\n  </thead>\n  <tbody>\n    <tr>\n      <th>met</th>\n      <td>0.0</td>\n    </tr>\n    <tr>\n      <th>wave</th>\n      <td>10616.0</td>\n    </tr>\n    <tr>\n      <th>type</th>\n      <td>buoy</td>\n    </tr>\n    <tr>\n      <th>name</th>\n      <td>Onslow Bay Outer, NC (217)</td>\n    </tr>\n    <tr>\n      <th>pgm</th>\n      <td>IOOS Partners</td>\n    </tr>\n  </tbody>\n</table>"
      }
     },
     "d333793397b14e28b1d8870ffbe8ba65": {
      "model_module": "@jupyter-widgets/controls",
      "model_module_version": "1.5.0",
      "model_name": "HTMLModel",
      "state": {
       "layout": "IPY_MODEL_330b475aef80495cbb200a7270827b74",
       "style": "IPY_MODEL_3eb744cff4c3431e9356e642435bbd87",
       "value": "<table border=\"1\" class=\"dataframe table table-striped table-hover table-condensed table-responsive\">\n  <thead>\n    <tr style=\"text-align: right;\">\n      <th></th>\n      <th>46253</th>\n    </tr>\n  </thead>\n  <tbody>\n    <tr>\n      <th>met</th>\n      <td>0.0</td>\n    </tr>\n    <tr>\n      <th>wave</th>\n      <td>11738.0</td>\n    </tr>\n    <tr>\n      <th>type</th>\n      <td>buoy</td>\n    </tr>\n    <tr>\n      <th>name</th>\n      <td>San Pedro South, CA (213)</td>\n    </tr>\n    <tr>\n      <th>pgm</th>\n      <td>IOOS Partners</td>\n    </tr>\n  </tbody>\n</table>"
      }
     },
     "d34136a47e35476ba510b658e0a8dfe1": {
      "model_module": "@jupyter-widgets/base",
      "model_module_version": "1.2.0",
      "model_name": "LayoutModel",
      "state": {}
     },
     "d391f6a2dc2342adbbd9184621a54154": {
      "model_module": "jupyter-leaflet",
      "model_module_version": "^0.15.0",
      "model_name": "LeafletAwesomeIconModel",
      "state": {
       "_model_module_version": "^0.15.0",
       "_view_module_version": "^0.15.0",
       "icon_color": "white",
       "marker_color": "orange",
       "name": "life-ring"
      }
     },
     "d39c5e1db3fe43d8ab506c2eb7d10254": {
      "model_module": "@jupyter-widgets/controls",
      "model_module_version": "1.5.0",
      "model_name": "DescriptionStyleModel",
      "state": {
       "description_width": ""
      }
     },
     "d3c8aa55defa4acebd9b67ceeb10072e": {
      "model_module": "jupyter-leaflet",
      "model_module_version": "^0.15.0",
      "model_name": "LeafletMarkerModel",
      "state": {
       "_model_module_version": "^0.15.0",
       "_view_module_version": "^0.15.0",
       "draggable": false,
       "icon": "IPY_MODEL_88797af9a19844fa9b0edf0586063e39",
       "location": [
        45.405,
        -85.085
       ],
       "options": [
        "alt",
        "draggable",
        "keyboard",
        "rise_offset",
        "rise_on_hover",
        "rotation_angle",
        "rotation_origin",
        "title",
        "z_index_offset"
       ],
       "popup": "IPY_MODEL_e24ba04092c44902be79d33b409c1e16"
      }
     },
     "d42466cd4f2d4e919269e3d80613f40b": {
      "model_module": "@jupyter-widgets/base",
      "model_module_version": "1.2.0",
      "model_name": "LayoutModel",
      "state": {}
     },
     "d44711b9db7e43228278c36cc3b79f66": {
      "model_module": "@jupyter-widgets/base",
      "model_module_version": "1.2.0",
      "model_name": "LayoutModel",
      "state": {}
     },
     "d485564e5164404ba9abdf7977ba5251": {
      "model_module": "jupyter-leaflet",
      "model_module_version": "^0.17.0",
      "model_name": "LeafletAwesomeIconModel",
      "state": {
       "_model_module_version": "^0.17.0",
       "_view_module_version": "^0.17.0",
       "icon_color": "white",
       "marker_color": "red",
       "name": "life-ring"
      }
     },
     "d517040d382341339034f1bc62db76c0": {
      "model_module": "@jupyter-widgets/controls",
      "model_module_version": "1.5.0",
      "model_name": "DescriptionStyleModel",
      "state": {
       "description_width": ""
      }
     },
     "d51c09e6fe7d40d69ae1bde96fe4e2fa": {
      "model_module": "@jupyter-widgets/base",
      "model_module_version": "1.2.0",
      "model_name": "LayoutModel",
      "state": {}
     },
     "d5992b8a049e42b7aa0fc64432af80bf": {
      "model_module": "jupyter-leaflet",
      "model_module_version": "^0.17.0",
      "model_name": "LeafletMarkerModel",
      "state": {
       "_model_module_version": "^0.17.0",
       "_view_module_version": "^0.17.0",
       "draggable": false,
       "icon": "IPY_MODEL_f9782e9c9ef0443d95147a4ede191287",
       "location": [
        37.892,
        -122.447
       ],
       "options": [
        "alt",
        "draggable",
        "keyboard",
        "rise_offset",
        "rise_on_hover",
        "rotation_angle",
        "rotation_origin",
        "title",
        "z_index_offset"
       ],
       "popup": "IPY_MODEL_2a8cb17990a3471aa72184d2f5c7b11e"
      }
     },
     "d647d04a6cbc49c8b56f357293d3c5cf": {
      "model_module": "@jupyter-widgets/base",
      "model_module_version": "1.2.0",
      "model_name": "LayoutModel",
      "state": {}
     },
     "d6a15b21e029442caa8c16b87b8a8645": {
      "model_module": "@jupyter-widgets/controls",
      "model_module_version": "1.5.0",
      "model_name": "HTMLModel",
      "state": {
       "layout": "IPY_MODEL_7353f65e3ec74a608ab7deecfaf5aa1c",
       "style": "IPY_MODEL_81364861bf9e43aea3c930584959dd58",
       "value": "<table border=\"1\" class=\"dataframe table table-striped table-hover table-condensed table-responsive\">\n  <thead>\n    <tr style=\"text-align: right;\">\n      <th></th>\n      <th>kexa2</th>\n    </tr>\n  </thead>\n  <tbody>\n    <tr>\n      <th>met</th>\n      <td>34314.0</td>\n    </tr>\n    <tr>\n      <th>wave</th>\n      <td>0.0</td>\n    </tr>\n    <tr>\n      <th>type</th>\n      <td>fixed</td>\n    </tr>\n    <tr>\n      <th>name</th>\n      <td>Ketchikan Harbor, AK</td>\n    </tr>\n    <tr>\n      <th>pgm</th>\n      <td>IOOS Partners</td>\n    </tr>\n  </tbody>\n</table>"
      }
     },
     "d6be67a9d5a94326b1e8c3d3b9a42f5f": {
      "model_module": "@jupyter-widgets/controls",
      "model_module_version": "1.5.0",
      "model_name": "DescriptionStyleModel",
      "state": {
       "description_width": ""
      }
     },
     "d6cdc963e9be4ae38972c8dc8492ad84": {
      "model_module": "jupyter-leaflet",
      "model_module_version": "^0.15.0",
      "model_name": "LeafletMarkerModel",
      "state": {
       "_model_module_version": "^0.15.0",
       "_view_module_version": "^0.15.0",
       "draggable": false,
       "icon": "IPY_MODEL_e1b7486e5f0047be8d97742342127b5f",
       "location": [
        42.368,
        -87.795
       ],
       "options": [
        "alt",
        "draggable",
        "keyboard",
        "rise_offset",
        "rise_on_hover",
        "rotation_angle",
        "rotation_origin",
        "title",
        "z_index_offset"
       ],
       "popup": "IPY_MODEL_798b7c30cf9d4c879f482ee2a74bb7e8"
      }
     },
     "d6ead2cdc0e5423e9613c730a99cfdc6": {
      "model_module": "@jupyter-widgets/controls",
      "model_module_version": "1.5.0",
      "model_name": "DescriptionStyleModel",
      "state": {
       "description_width": ""
      }
     },
     "d6f8ae9080f04d6da8e5b788929e03e0": {
      "model_module": "@jupyter-widgets/controls",
      "model_module_version": "1.5.0",
      "model_name": "DescriptionStyleModel",
      "state": {
       "description_width": ""
      }
     },
     "d76d3d0b9f934877b13d08e4c64ec9af": {
      "model_module": "jupyter-leaflet",
      "model_module_version": "^0.15.0",
      "model_name": "LeafletAwesomeIconModel",
      "state": {
       "_model_module_version": "^0.15.0",
       "_view_module_version": "^0.15.0",
       "icon_color": "white",
       "marker_color": "orange",
       "name": "life-ring"
      }
     },
     "d7d5b072f7c64054919e947ab3deb410": {
      "model_module": "@jupyter-widgets/base",
      "model_module_version": "1.2.0",
      "model_name": "LayoutModel",
      "state": {}
     },
     "d7e70ec2c2de451e81ebc3636d9536c0": {
      "model_module": "@jupyter-widgets/base",
      "model_module_version": "1.2.0",
      "model_name": "LayoutModel",
      "state": {}
     },
     "d833b926e7034bee809da13c7180b7cb": {
      "model_module": "jupyter-leaflet",
      "model_module_version": "^0.15.0",
      "model_name": "LeafletMarkerModel",
      "state": {
       "_model_module_version": "^0.15.0",
       "_view_module_version": "^0.15.0",
       "draggable": false,
       "icon": "IPY_MODEL_edcbad9b8e7241e4ba468f8ebc573464",
       "location": [
        46.721,
        -87.412
       ],
       "options": [
        "alt",
        "draggable",
        "keyboard",
        "rise_offset",
        "rise_on_hover",
        "rotation_angle",
        "rotation_origin",
        "title",
        "z_index_offset"
       ],
       "popup": "IPY_MODEL_1d2dcba93f17452384212ae8289f41e1"
      }
     },
     "d889fe28695e4d1f8e67ff214406a54d": {
      "model_module": "jupyter-leaflet",
      "model_module_version": "^0.15.0",
      "model_name": "LeafletMarkerModel",
      "state": {
       "_model_module_version": "^0.15.0",
       "_view_module_version": "^0.15.0",
       "draggable": false,
       "icon": "IPY_MODEL_a0583dac615f4ec1b5f884094e24a37a",
       "location": [
        41.138,
        -72.655
       ],
       "options": [
        "alt",
        "draggable",
        "keyboard",
        "rise_offset",
        "rise_on_hover",
        "rotation_angle",
        "rotation_origin",
        "title",
        "z_index_offset"
       ],
       "popup": "IPY_MODEL_3ac29caa7aec43108cb59a77f0364873"
      }
     },
     "d96ab99c572e41e292ba4b10c7769e89": {
      "model_module": "@jupyter-widgets/controls",
      "model_module_version": "1.5.0",
      "model_name": "DescriptionStyleModel",
      "state": {
       "description_width": ""
      }
     },
     "d97c912438a84b10b85b37fd00ccadd1": {
      "model_module": "jupyter-leaflet",
      "model_module_version": "^0.15.0",
      "model_name": "LeafletAwesomeIconModel",
      "state": {
       "_model_module_version": "^0.15.0",
       "_view_module_version": "^0.15.0",
       "icon_color": "white",
       "marker_color": "orange",
       "name": "life-ring"
      }
     },
     "d97db3b64ad34f7b8dc0ce8caff15b8c": {
      "model_module": "jupyter-leaflet",
      "model_module_version": "^0.15.0",
      "model_name": "LeafletAwesomeIconModel",
      "state": {
       "_model_module_version": "^0.15.0",
       "_view_module_version": "^0.15.0",
       "icon_color": "white",
       "marker_color": "orange",
       "name": "life-ring"
      }
     },
     "d9a5656ea1b34ea3b8126fd0b78e76f9": {
      "model_module": "@jupyter-widgets/controls",
      "model_module_version": "1.5.0",
      "model_name": "DescriptionStyleModel",
      "state": {
       "description_width": ""
      }
     },
     "d9b044104a14455d9617448482582300": {
      "model_module": "@jupyter-widgets/base",
      "model_module_version": "1.2.0",
      "model_name": "LayoutModel",
      "state": {}
     },
     "d9ee7d10877e43ce916b8ae1d2623364": {
      "model_module": "@jupyter-widgets/base",
      "model_module_version": "1.2.0",
      "model_name": "LayoutModel",
      "state": {}
     },
     "da4045e1d84a40fe817c4cf2176fc004": {
      "model_module": "@jupyter-widgets/controls",
      "model_module_version": "1.5.0",
      "model_name": "DescriptionStyleModel",
      "state": {
       "description_width": ""
      }
     },
     "da4b82981815465fbae83aed04bac331": {
      "model_module": "@jupyter-widgets/base",
      "model_module_version": "1.2.0",
      "model_name": "LayoutModel",
      "state": {}
     },
     "da89c7a8b0d04421851baf33f54f3b8b": {
      "model_module": "jupyter-leaflet",
      "model_module_version": "^0.15.0",
      "model_name": "LeafletAwesomeIconModel",
      "state": {
       "_model_module_version": "^0.15.0",
       "_view_module_version": "^0.15.0",
       "icon_color": "white",
       "marker_color": "orange",
       "name": "life-ring"
      }
     },
     "da9890ccb5cd4f1cb3e7c98e2773d8db": {
      "model_module": "jupyter-leaflet",
      "model_module_version": "^0.15.0",
      "model_name": "LeafletMarkerModel",
      "state": {
       "_model_module_version": "^0.15.0",
       "_view_module_version": "^0.15.0",
       "draggable": false,
       "icon": "IPY_MODEL_9778672a7b5d43eea356391b0c3f3bb9",
       "location": [
        28.227,
        -96.796
       ],
       "options": [
        "alt",
        "draggable",
        "keyboard",
        "rise_offset",
        "rise_on_hover",
        "rotation_angle",
        "rotation_origin",
        "title",
        "z_index_offset"
       ],
       "popup": "IPY_MODEL_e643405cba1c4a3d9e54f84dbdf3b22d"
      }
     },
     "dab200e7b0ae497e8f317cb0744796d8": {
      "model_module": "@jupyter-widgets/controls",
      "model_module_version": "1.5.0",
      "model_name": "DescriptionStyleModel",
      "state": {
       "description_width": ""
      }
     },
     "dac1f1a2e3ba4edca72530ddb3aeab91": {
      "model_module": "@jupyter-widgets/base",
      "model_module_version": "1.2.0",
      "model_name": "LayoutModel",
      "state": {}
     },
     "dafb8b4fe4f941bcb2346a31ec911eb3": {
      "model_module": "jupyter-leaflet",
      "model_module_version": "^0.15.0",
      "model_name": "LeafletAwesomeIconModel",
      "state": {
       "_model_module_version": "^0.15.0",
       "_view_module_version": "^0.15.0",
       "icon_color": "white",
       "marker_color": "red",
       "name": "life-ring"
      }
     },
     "db751c8089324cd5af2ec5d15f821e44": {
      "model_module": "@jupyter-widgets/controls",
      "model_module_version": "1.5.0",
      "model_name": "DescriptionStyleModel",
      "state": {
       "description_width": ""
      }
     },
     "db7f02689123456380d2bb714fb8b35f": {
      "model_module": "jupyter-leaflet",
      "model_module_version": "^0.17.0",
      "model_name": "LeafletAwesomeIconModel",
      "state": {
       "_model_module_version": "^0.17.0",
       "_view_module_version": "^0.17.0",
       "icon_color": "white",
       "marker_color": "orange",
       "name": "life-ring"
      }
     },
     "dbae4867c8a540edb2d156993e5efec9": {
      "model_module": "@jupyter-widgets/controls",
      "model_module_version": "1.5.0",
      "model_name": "HTMLModel",
      "state": {
       "layout": "IPY_MODEL_c4b13bbf08a64f369857baec6053c50f",
       "style": "IPY_MODEL_3a66650aad314494be2bf930a9d04fbb",
       "value": "<table border=\"1\" class=\"dataframe table table-striped table-hover table-condensed table-responsive\">\n  <thead>\n    <tr style=\"text-align: right;\">\n      <th></th>\n      <th>mbla1</th>\n    </tr>\n  </thead>\n  <tbody>\n    <tr>\n      <th>met</th>\n      <td>8342.0</td>\n    </tr>\n    <tr>\n      <th>wave</th>\n      <td>0.0</td>\n    </tr>\n    <tr>\n      <th>type</th>\n      <td>fixed</td>\n    </tr>\n    <tr>\n      <th>name</th>\n      <td>Middle Bay Lighthouse, AL</td>\n    </tr>\n    <tr>\n      <th>pgm</th>\n      <td>IOOS Partners</td>\n    </tr>\n  </tbody>\n</table>"
      }
     },
     "dbe977fe19244adb8d7c80e88072ec2e": {
      "model_module": "@jupyter-widgets/controls",
      "model_module_version": "1.5.0",
      "model_name": "HTMLModel",
      "state": {
       "layout": "IPY_MODEL_fb387577feec4b2e9eec7dc0b2ccafd2",
       "style": "IPY_MODEL_23ef0fc8ec814b758ebadbfde57af81b",
       "value": "<table border=\"1\" class=\"dataframe table table-striped table-hover table-condensed table-responsive\">\n  <thead>\n    <tr style=\"text-align: right;\">\n      <th></th>\n      <th>45022</th>\n    </tr>\n  </thead>\n  <tbody>\n    <tr>\n      <th>met</th>\n      <td>29528.0</td>\n    </tr>\n    <tr>\n      <th>wave</th>\n      <td>29528.0</td>\n    </tr>\n    <tr>\n      <th>type</th>\n      <td>buoy</td>\n    </tr>\n    <tr>\n      <th>name</th>\n      <td>Little Traverse Bay Buoy, MI</td>\n    </tr>\n    <tr>\n      <th>pgm</th>\n      <td>IOOS Partners</td>\n    </tr>\n  </tbody>\n</table>"
      }
     },
     "dc1bfddca46543949e516ff6645667a0": {
      "model_module": "@jupyter-widgets/controls",
      "model_module_version": "1.5.0",
      "model_name": "DescriptionStyleModel",
      "state": {
       "description_width": ""
      }
     },
     "dc64fffb92024a79a9d7b798309315ef": {
      "model_module": "@jupyter-widgets/controls",
      "model_module_version": "1.5.0",
      "model_name": "HTMLModel",
      "state": {
       "layout": "IPY_MODEL_c42d2f212c32400e97b8c20ccfbea21c",
       "style": "IPY_MODEL_0e28b8071a6f4eecb05d440004eb45a1",
       "value": "<table border=\"1\" class=\"dataframe table table-striped table-hover table-condensed table-responsive\">\n  <thead>\n    <tr style=\"text-align: right;\">\n      <th></th>\n      <th>51205</th>\n    </tr>\n  </thead>\n  <tbody>\n    <tr>\n      <th>met</th>\n      <td>0.0</td>\n    </tr>\n    <tr>\n      <th>wave</th>\n      <td>7240.0</td>\n    </tr>\n    <tr>\n      <th>type</th>\n      <td>buoy</td>\n    </tr>\n    <tr>\n      <th>name</th>\n      <td>Pauwela, Maui, HI (187)</td>\n    </tr>\n    <tr>\n      <th>pgm</th>\n      <td>IOOS Partners</td>\n    </tr>\n  </tbody>\n</table>"
      }
     },
     "dc6a49b20ff6425a8898404cc1b4f2b9": {
      "model_module": "@jupyter-widgets/controls",
      "model_module_version": "1.5.0",
      "model_name": "DescriptionStyleModel",
      "state": {
       "description_width": ""
      }
     },
     "dc7c18a03eb14739be9073b769a871b3": {
      "model_module": "@jupyter-widgets/base",
      "model_module_version": "1.2.0",
      "model_name": "LayoutModel",
      "state": {}
     },
     "dd85dc3537fd4fd791ca947c091b0f8d": {
      "model_module": "@jupyter-widgets/controls",
      "model_module_version": "1.5.0",
      "model_name": "HTMLModel",
      "state": {
       "layout": "IPY_MODEL_10b0774d54b64f7a9c99d7ddf3c72f76",
       "style": "IPY_MODEL_959e230cffd8425eb57f1161df02852b",
       "value": "<table border=\"1\" class=\"dataframe table table-striped table-hover table-condensed table-responsive\">\n  <thead>\n    <tr style=\"text-align: right;\">\n      <th></th>\n      <th>44040</th>\n    </tr>\n  </thead>\n  <tbody>\n    <tr>\n      <th>met</th>\n      <td>7652.0</td>\n    </tr>\n    <tr>\n      <th>wave</th>\n      <td>0.0</td>\n    </tr>\n    <tr>\n      <th>type</th>\n      <td>buoy</td>\n    </tr>\n    <tr>\n      <th>name</th>\n      <td>Western Long Island Sound</td>\n    </tr>\n    <tr>\n      <th>pgm</th>\n      <td>IOOS Partners</td>\n    </tr>\n  </tbody>\n</table>"
      }
     },
     "dd95461f4d884ff9bcc4820e6353f5e9": {
      "model_module": "@jupyter-widgets/controls",
      "model_module_version": "1.5.0",
      "model_name": "HTMLModel",
      "state": {
       "layout": "IPY_MODEL_c40cd32dbdec46949e9a373b4d4c5deb",
       "style": "IPY_MODEL_79ff2f7e795c4eb39f6a8ec47b91422e",
       "value": "<table border=\"1\" class=\"dataframe table table-striped table-hover table-condensed table-responsive\">\n  <thead>\n    <tr style=\"text-align: right;\">\n      <th></th>\n      <th>stxa2</th>\n    </tr>\n  </thead>\n  <tbody>\n    <tr>\n      <th>met</th>\n      <td>34448.0</td>\n    </tr>\n    <tr>\n      <th>wave</th>\n      <td>0.0</td>\n    </tr>\n    <tr>\n      <th>type</th>\n      <td>fixed</td>\n    </tr>\n    <tr>\n      <th>name</th>\n      <td>Sitka AML, AK</td>\n    </tr>\n    <tr>\n      <th>pgm</th>\n      <td>IOOS Partners</td>\n    </tr>\n  </tbody>\n</table>"
      }
     },
     "ddbc3a0af00242929e2e09fc19a1b1e3": {
      "model_module": "@jupyter-widgets/base",
      "model_module_version": "1.2.0",
      "model_name": "LayoutModel",
      "state": {}
     },
     "ddddc0db8e3b46c495ab3ebc7fe67151": {
      "model_module": "@jupyter-widgets/base",
      "model_module_version": "1.2.0",
      "model_name": "LayoutModel",
      "state": {}
     },
     "de0666c3d6574ad6a7b6199f179d7cb8": {
      "model_module": "@jupyter-widgets/base",
      "model_module_version": "1.2.0",
      "model_name": "LayoutModel",
      "state": {}
     },
     "de8a7ad38b314b418b2bfa7b3009750c": {
      "model_module": "@jupyter-widgets/base",
      "model_module_version": "1.2.0",
      "model_name": "LayoutModel",
      "state": {}
     },
     "deb060b622cb4f068a1ff9740b219d47": {
      "model_module": "jupyter-leaflet",
      "model_module_version": "^0.15.0",
      "model_name": "LeafletAwesomeIconModel",
      "state": {
       "_model_module_version": "^0.15.0",
       "_view_module_version": "^0.15.0",
       "icon_color": "white",
       "marker_color": "orange",
       "name": "life-ring"
      }
     },
     "dee8815a445943928e8a19af172bce3e": {
      "model_module": "jupyter-leaflet",
      "model_module_version": "^0.15.0",
      "model_name": "LeafletMarkerModel",
      "state": {
       "_model_module_version": "^0.15.0",
       "_view_module_version": "^0.15.0",
       "draggable": false,
       "icon": "IPY_MODEL_b51cfded8ff24b1aa6a410454164d498",
       "location": [
        13.354,
        144.788
       ],
       "options": [
        "alt",
        "draggable",
        "keyboard",
        "rise_offset",
        "rise_on_hover",
        "rotation_angle",
        "rotation_origin",
        "title",
        "z_index_offset"
       ],
       "popup": "IPY_MODEL_57784a413b4e424ea3a6f5bc67d7a918"
      }
     },
     "df037d5a82094cf0bd402e03594b6155": {
      "model_module": "jupyter-leaflet",
      "model_module_version": "^0.15.0",
      "model_name": "LeafletMarkerModel",
      "state": {
       "_model_module_version": "^0.15.0",
       "_view_module_version": "^0.15.0",
       "draggable": false,
       "icon": "IPY_MODEL_d97db3b64ad34f7b8dc0ce8caff15b8c",
       "location": [
        40.956,
        -73.58
       ],
       "options": [
        "alt",
        "draggable",
        "keyboard",
        "rise_offset",
        "rise_on_hover",
        "rotation_angle",
        "rotation_origin",
        "title",
        "z_index_offset"
       ],
       "popup": "IPY_MODEL_163718de7d32467da92951f0ae1af568"
      }
     },
     "df0d01009b424da4a8ed01d2a841903e": {
      "model_module": "jupyter-leaflet",
      "model_module_version": "^0.17.0",
      "model_name": "LeafletAwesomeIconModel",
      "state": {
       "_model_module_version": "^0.17.0",
       "_view_module_version": "^0.17.0",
       "icon_color": "white",
       "marker_color": "orange",
       "name": "life-ring"
      }
     },
     "df4db7e03d924ddba512c555f90f3b5f": {
      "model_module": "@jupyter-widgets/controls",
      "model_module_version": "1.5.0",
      "model_name": "DescriptionStyleModel",
      "state": {
       "description_width": ""
      }
     },
     "df4f3928c48c49ab831a02f01b3ed4bf": {
      "model_module": "jupyter-leaflet",
      "model_module_version": "^0.15.0",
      "model_name": "LeafletMarkerModel",
      "state": {
       "_model_module_version": "^0.15.0",
       "_view_module_version": "^0.15.0",
       "draggable": false,
       "icon": "IPY_MODEL_0ae721d38b6d4db5920137662a574c37",
       "location": [
        40.883,
        -73.728
       ],
       "options": [
        "alt",
        "draggable",
        "keyboard",
        "rise_offset",
        "rise_on_hover",
        "rotation_angle",
        "rotation_origin",
        "title",
        "z_index_offset"
       ],
       "popup": "IPY_MODEL_258922540d66497590abfcb7ce571158"
      }
     },
     "df90312924424677965375804726518c": {
      "model_module": "jupyter-leaflet",
      "model_module_version": "^0.15.0",
      "model_name": "LeafletAwesomeIconModel",
      "state": {
       "_model_module_version": "^0.15.0",
       "_view_module_version": "^0.15.0",
       "icon_color": "white",
       "marker_color": "orange",
       "name": "life-ring"
      }
     },
     "df9236c0dc1c4a7c80bdedd4af9553d3": {
      "model_module": "@jupyter-widgets/base",
      "model_module_version": "1.2.0",
      "model_name": "LayoutModel",
      "state": {}
     },
     "dfc4bcdee5b745109f10281c56745183": {
      "model_module": "@jupyter-widgets/base",
      "model_module_version": "1.2.0",
      "model_name": "LayoutModel",
      "state": {}
     },
     "e01409f263774dfa837afb99215e25fe": {
      "model_module": "@jupyter-widgets/controls",
      "model_module_version": "1.5.0",
      "model_name": "HTMLModel",
      "state": {
       "layout": "IPY_MODEL_494c6e6e884e47c39c6f393977c9640f",
       "style": "IPY_MODEL_69e2c293af3c48039c04898131925f56",
       "value": "<table border=\"1\" class=\"dataframe table table-striped table-hover table-condensed table-responsive\">\n  <thead>\n    <tr style=\"text-align: right;\">\n      <th></th>\n      <th>45014</th>\n    </tr>\n  </thead>\n  <tbody>\n    <tr>\n      <th>met</th>\n      <td>9748.0</td>\n    </tr>\n    <tr>\n      <th>wave</th>\n      <td>9770.0</td>\n    </tr>\n    <tr>\n      <th>type</th>\n      <td>buoy</td>\n    </tr>\n    <tr>\n      <th>name</th>\n      <td>GB17 - South Green Bay, WI</td>\n    </tr>\n    <tr>\n      <th>pgm</th>\n      <td>IOOS Partners</td>\n    </tr>\n  </tbody>\n</table>"
      }
     },
     "e0148074c7da472c8e049d0107475c37": {
      "model_module": "jupyter-leaflet",
      "model_module_version": "^0.17.0",
      "model_name": "LeafletAwesomeIconModel",
      "state": {
       "_model_module_version": "^0.17.0",
       "_view_module_version": "^0.17.0",
       "icon_color": "white",
       "marker_color": "green",
       "name": "life-ring"
      }
     },
     "e05a7b06b99e4c4bad3dfe4863e31b8b": {
      "model_module": "@jupyter-widgets/base",
      "model_module_version": "1.2.0",
      "model_name": "LayoutModel",
      "state": {}
     },
     "e08fa70a1e3d428aba184fb9f304977e": {
      "model_module": "jupyter-leaflet",
      "model_module_version": "^0.15.0",
      "model_name": "LeafletMarkerModel",
      "state": {
       "_model_module_version": "^0.15.0",
       "_view_module_version": "^0.15.0",
       "draggable": false,
       "icon": "IPY_MODEL_a061c23c26714a878d3f47ce3d5ce887",
       "location": [
        26.072,
        -97.167
       ],
       "options": [
        "alt",
        "draggable",
        "keyboard",
        "rise_offset",
        "rise_on_hover",
        "rotation_angle",
        "rotation_origin",
        "title",
        "z_index_offset"
       ],
       "popup": "IPY_MODEL_bd664282aed34214ad52edc853897f2f"
      }
     },
     "e094ee91435a4fef8a9e1e1eeb0602b1": {
      "model_module": "@jupyter-widgets/base",
      "model_module_version": "1.2.0",
      "model_name": "LayoutModel",
      "state": {}
     },
     "e095aa62082b403ab30bbe1bd252f845": {
      "model_module": "@jupyter-widgets/controls",
      "model_module_version": "1.5.0",
      "model_name": "HTMLModel",
      "state": {
       "layout": "IPY_MODEL_632d62ed608f48fc8467fe8abc07629c",
       "style": "IPY_MODEL_ebfdf269d81c4b0e913e954912d02989",
       "value": "<table border=\"1\" class=\"dataframe table table-striped table-hover table-condensed table-responsive\">\n  <thead>\n    <tr style=\"text-align: right;\">\n      <th></th>\n      <th>rtat2</th>\n    </tr>\n  </thead>\n  <tbody>\n    <tr>\n      <th>met</th>\n      <td>58756.0</td>\n    </tr>\n    <tr>\n      <th>wave</th>\n      <td>0.0</td>\n    </tr>\n    <tr>\n      <th>type</th>\n      <td>fixed</td>\n    </tr>\n    <tr>\n      <th>name</th>\n      <td>8775237 - Port Aransas, TX</td>\n    </tr>\n    <tr>\n      <th>pgm</th>\n      <td>IOOS Partners</td>\n    </tr>\n  </tbody>\n</table>"
      }
     },
     "e097371eb42d426eac719397818fc283": {
      "model_module": "@jupyter-widgets/base",
      "model_module_version": "1.2.0",
      "model_name": "LayoutModel",
      "state": {}
     },
     "e0ab3ba870ce4d5eb79f371cb25a2f0c": {
      "model_module": "@jupyter-widgets/base",
      "model_module_version": "1.2.0",
      "model_name": "LayoutModel",
      "state": {}
     },
     "e0c3598838434cf5ad28f275812f457e": {
      "model_module": "@jupyter-widgets/base",
      "model_module_version": "1.2.0",
      "model_name": "LayoutModel",
      "state": {}
     },
     "e15f0247f3d64e0eb46141457ee817fc": {
      "model_module": "jupyter-leaflet",
      "model_module_version": "^0.17.0",
      "model_name": "LeafletMarkerModel",
      "state": {
       "_model_module_version": "^0.17.0",
       "_view_module_version": "^0.17.0",
       "draggable": false,
       "icon": "IPY_MODEL_5da490b4b5e04774abf3c42a61736dab",
       "location": [
        18.48,
        -66.702
       ],
       "options": [
        "alt",
        "draggable",
        "keyboard",
        "rise_offset",
        "rise_on_hover",
        "rotation_angle",
        "rotation_origin",
        "title",
        "z_index_offset"
       ],
       "popup": "IPY_MODEL_345c3cfcc0f44ef4bd50ce12c5b9e708"
      }
     },
     "e1aa99dc606e47c3814aba5a23d60066": {
      "model_module": "@jupyter-widgets/controls",
      "model_module_version": "1.5.0",
      "model_name": "DescriptionStyleModel",
      "state": {
       "description_width": ""
      }
     },
     "e1b1fa0c14134cbab5704bb33f7520b1": {
      "model_module": "jupyter-leaflet",
      "model_module_version": "^0.17.0",
      "model_name": "LeafletAwesomeIconModel",
      "state": {
       "_model_module_version": "^0.17.0",
       "_view_module_version": "^0.17.0",
       "icon_color": "white",
       "marker_color": "orange",
       "name": "life-ring"
      }
     },
     "e1b7486e5f0047be8d97742342127b5f": {
      "model_module": "jupyter-leaflet",
      "model_module_version": "^0.15.0",
      "model_name": "LeafletAwesomeIconModel",
      "state": {
       "_model_module_version": "^0.15.0",
       "_view_module_version": "^0.15.0",
       "icon_color": "white",
       "marker_color": "green",
       "name": "life-ring"
      }
     },
     "e247f88b3f694c10840f1af909e2554d": {
      "model_module": "@jupyter-widgets/base",
      "model_module_version": "1.2.0",
      "model_name": "LayoutModel",
      "state": {}
     },
     "e24ba04092c44902be79d33b409c1e16": {
      "model_module": "@jupyter-widgets/controls",
      "model_module_version": "1.5.0",
      "model_name": "HTMLModel",
      "state": {
       "layout": "IPY_MODEL_fd8fd455cb684ab4b6b3c0f7315ba07e",
       "style": "IPY_MODEL_481ccb2dbe16400fbadc053008c87ca1",
       "value": "<table border=\"1\" class=\"dataframe table table-striped table-hover table-condensed table-responsive\">\n  <thead>\n    <tr style=\"text-align: right;\">\n      <th></th>\n      <th>45022</th>\n    </tr>\n  </thead>\n  <tbody>\n    <tr>\n      <th>met</th>\n      <td>29528.0</td>\n    </tr>\n    <tr>\n      <th>wave</th>\n      <td>29528.0</td>\n    </tr>\n    <tr>\n      <th>type</th>\n      <td>buoy</td>\n    </tr>\n    <tr>\n      <th>name</th>\n      <td>Little Traverse Bay Buoy, MI</td>\n    </tr>\n    <tr>\n      <th>pgm</th>\n      <td>IOOS Partners</td>\n    </tr>\n  </tbody>\n</table>"
      }
     },
     "e269ff1dec5648cbad91e9ee23491a07": {
      "model_module": "@jupyter-widgets/base",
      "model_module_version": "1.2.0",
      "model_name": "LayoutModel",
      "state": {}
     },
     "e26aa1fb92854228ba697244dd864c14": {
      "model_module": "jupyter-leaflet",
      "model_module_version": "^0.15.0",
      "model_name": "LeafletMarkerModel",
      "state": {
       "_model_module_version": "^0.15.0",
       "_view_module_version": "^0.15.0",
       "draggable": false,
       "icon": "IPY_MODEL_70ddaac2915b42bca59d5f7cf90d3eed",
       "location": [
        56.001,
        -134.136
       ],
       "options": [
        "alt",
        "draggable",
        "keyboard",
        "rise_offset",
        "rise_on_hover",
        "rotation_angle",
        "rotation_origin",
        "title",
        "z_index_offset"
       ],
       "popup": "IPY_MODEL_05a9b7f17c044004adaa26f6aa264084"
      }
     },
     "e29970d3bb794f15832681f2abc2cd09": {
      "model_module": "@jupyter-widgets/base",
      "model_module_version": "1.2.0",
      "model_name": "LayoutModel",
      "state": {}
     },
     "e2becd94c40646d49c9fe0dd55daf8ae": {
      "model_module": "jupyter-leaflet",
      "model_module_version": "^0.17.0",
      "model_name": "LeafletMarkerModel",
      "state": {
       "_model_module_version": "^0.17.0",
       "_view_module_version": "^0.17.0",
       "draggable": false,
       "icon": "IPY_MODEL_2a39ed8a03f64257b77fc188b90fd053",
       "location": [
        26.01,
        -83.086
       ],
       "options": [
        "alt",
        "draggable",
        "keyboard",
        "rise_offset",
        "rise_on_hover",
        "rotation_angle",
        "rotation_origin",
        "title",
        "z_index_offset"
       ],
       "popup": "IPY_MODEL_699053bc6bf24fdf9b8dca45e3763a09"
      }
     },
     "e3162a1817ab40319dd7d2112394e04a": {
      "model_module": "@jupyter-widgets/base",
      "model_module_version": "1.2.0",
      "model_name": "LayoutModel",
      "state": {}
     },
     "e358c8d7b3844d9aa856a98675ad1e37": {
      "model_module": "@jupyter-widgets/controls",
      "model_module_version": "1.5.0",
      "model_name": "DescriptionStyleModel",
      "state": {
       "description_width": ""
      }
     },
     "e428d3c9cc4348a49ddc83602b9adb26": {
      "model_module": "jupyter-leaflet",
      "model_module_version": "^0.17.0",
      "model_name": "LeafletMarkerModel",
      "state": {
       "_model_module_version": "^0.17.0",
       "_view_module_version": "^0.17.0",
       "draggable": false,
       "icon": "IPY_MODEL_60461bf10d054e2b9c7f44fabf6b1ba1",
       "location": [
        26.404,
        -81.881
       ],
       "options": [
        "alt",
        "draggable",
        "keyboard",
        "rise_offset",
        "rise_on_hover",
        "rotation_angle",
        "rotation_origin",
        "title",
        "z_index_offset"
       ],
       "popup": "IPY_MODEL_0d0998ed9d2d4aed9c326d7cc54d22cf"
      }
     },
     "e43d80a4c53640a2b6bad5824e3270d0": {
      "model_module": "@jupyter-widgets/base",
      "model_module_version": "1.2.0",
      "model_name": "LayoutModel",
      "state": {}
     },
     "e55750f0eeed4af4b8226faec34b1da9": {
      "model_module": "jupyter-leaflet",
      "model_module_version": "^0.17.0",
      "model_name": "LeafletAwesomeIconModel",
      "state": {
       "_model_module_version": "^0.17.0",
       "_view_module_version": "^0.17.0",
       "icon_color": "white",
       "marker_color": "orange",
       "name": "life-ring"
      }
     },
     "e604c91da18c4442bafdc013ef0fad70": {
      "model_module": "jupyter-leaflet",
      "model_module_version": "^0.17.0",
      "model_name": "LeafletMarkerModel",
      "state": {
       "_model_module_version": "^0.17.0",
       "_view_module_version": "^0.17.0",
       "draggable": false,
       "icon": "IPY_MODEL_945775fcbe4a4a558720756b3499965b",
       "location": [
        43.1,
        -87.85
       ],
       "options": [
        "alt",
        "draggable",
        "keyboard",
        "rise_offset",
        "rise_on_hover",
        "rotation_angle",
        "rotation_origin",
        "title",
        "z_index_offset"
       ],
       "popup": "IPY_MODEL_8e764601cf8a4c45b568230c50b5289a"
      }
     },
     "e643405cba1c4a3d9e54f84dbdf3b22d": {
      "model_module": "@jupyter-widgets/controls",
      "model_module_version": "1.5.0",
      "model_name": "HTMLModel",
      "state": {
       "layout": "IPY_MODEL_0048b5c40dc54049b0147f0a37ea248f",
       "style": "IPY_MODEL_fb168ccdbf96425ba981d3897c3f3302",
       "value": "<table border=\"1\" class=\"dataframe table table-striped table-hover table-condensed table-responsive\">\n  <thead>\n    <tr style=\"text-align: right;\">\n      <th></th>\n      <th>awrt2</th>\n    </tr>\n  </thead>\n  <tbody>\n    <tr>\n      <th>met</th>\n      <td>58310.0</td>\n    </tr>\n    <tr>\n      <th>wave</th>\n      <td>0.0</td>\n    </tr>\n    <tr>\n      <th>type</th>\n      <td>fixed</td>\n    </tr>\n    <tr>\n      <th>name</th>\n      <td>8774230 - Aransas Wildlife Refuge, TX</td>\n    </tr>\n    <tr>\n      <th>pgm</th>\n      <td>IOOS Partners</td>\n    </tr>\n  </tbody>\n</table>"
      }
     },
     "e665b2b3be5a4dd0b03b1bc3fc684d23": {
      "model_module": "@jupyter-widgets/controls",
      "model_module_version": "1.5.0",
      "model_name": "DescriptionStyleModel",
      "state": {
       "description_width": ""
      }
     },
     "e66f6a009c854797b8c530a30ac2ccf1": {
      "model_module": "@jupyter-widgets/base",
      "model_module_version": "1.2.0",
      "model_name": "LayoutModel",
      "state": {}
     },
     "e67afebf327746048f328733ac72dad5": {
      "model_module": "jupyter-leaflet",
      "model_module_version": "^0.15.0",
      "model_name": "LeafletAwesomeIconModel",
      "state": {
       "_model_module_version": "^0.15.0",
       "_view_module_version": "^0.15.0",
       "icon_color": "white",
       "marker_color": "orange",
       "name": "life-ring"
      }
     },
     "e683b3d802224701a03fee56f50cce68": {
      "model_module": "@jupyter-widgets/controls",
      "model_module_version": "1.5.0",
      "model_name": "HTMLModel",
      "state": {
       "layout": "IPY_MODEL_5fc3599f71784d3da63d2e35c62d9e2f",
       "style": "IPY_MODEL_39c017649dec479ba904146f0794c5a5",
       "value": "<table border=\"1\" class=\"dataframe table table-striped table-hover table-condensed table-responsive\">\n  <thead>\n    <tr style=\"text-align: right;\">\n      <th></th>\n      <th>tibc1</th>\n    </tr>\n  </thead>\n  <tbody>\n    <tr>\n      <th>met</th>\n      <td>38546.0</td>\n    </tr>\n    <tr>\n      <th>wave</th>\n      <td>0.0</td>\n    </tr>\n    <tr>\n      <th>type</th>\n      <td>fixed</td>\n    </tr>\n    <tr>\n      <th>name</th>\n      <td>Tiburon Pier, San Francisco Bay, CA</td>\n    </tr>\n    <tr>\n      <th>pgm</th>\n      <td>IOOS Partners</td>\n    </tr>\n  </tbody>\n</table>"
      }
     },
     "e695e915b1814abea7bf288094f29fd5": {
      "model_module": "jupyter-leaflet",
      "model_module_version": "^0.15.0",
      "model_name": "LeafletMarkerModel",
      "state": {
       "_model_module_version": "^0.15.0",
       "_view_module_version": "^0.15.0",
       "draggable": false,
       "icon": "IPY_MODEL_8f6db0b04a7f42be86e66932029a65aa",
       "location": [
        43.981,
        -86.556
       ],
       "options": [
        "alt",
        "draggable",
        "keyboard",
        "rise_offset",
        "rise_on_hover",
        "rotation_angle",
        "rotation_origin",
        "title",
        "z_index_offset"
       ],
       "popup": "IPY_MODEL_b3635b1a90164a78a986200e24bc7048"
      }
     },
     "e6aa52ab50be4ea7b5e9cce63d40a2e7": {
      "model_module": "jupyter-leaflet",
      "model_module_version": "^0.15.0",
      "model_name": "LeafletAwesomeIconModel",
      "state": {
       "_model_module_version": "^0.15.0",
       "_view_module_version": "^0.15.0",
       "icon_color": "white",
       "marker_color": "orange",
       "name": "life-ring"
      }
     },
     "e6bbb00f509648e7937d708b0522895b": {
      "model_module": "@jupyter-widgets/controls",
      "model_module_version": "1.5.0",
      "model_name": "HTMLModel",
      "state": {
       "layout": "IPY_MODEL_5b96f604f0c5428c8168c31105ae641d",
       "style": "IPY_MODEL_b98e0ac9e658487c913428eb07eeb1aa",
       "value": "<table border=\"1\" class=\"dataframe table table-striped table-hover table-condensed table-responsive\">\n  <thead>\n    <tr style=\"text-align: right;\">\n      <th></th>\n      <th>41024</th>\n    </tr>\n  </thead>\n  <tbody>\n    <tr>\n      <th>met</th>\n      <td>6220.0</td>\n    </tr>\n    <tr>\n      <th>wave</th>\n      <td>0.0</td>\n    </tr>\n    <tr>\n      <th>type</th>\n      <td>buoy</td>\n    </tr>\n    <tr>\n      <th>name</th>\n      <td>Sunset Nearshore, NC (SUN2)</td>\n    </tr>\n    <tr>\n      <th>pgm</th>\n      <td>IOOS Partners</td>\n    </tr>\n  </tbody>\n</table>"
      }
     },
     "e6fa0597448c46928feefbe7ef0da988": {
      "model_module": "jupyter-leaflet",
      "model_module_version": "^0.17.0",
      "model_name": "LeafletAwesomeIconModel",
      "state": {
       "_model_module_version": "^0.17.0",
       "_view_module_version": "^0.17.0",
       "icon_color": "white",
       "marker_color": "orange",
       "name": "life-ring"
      }
     },
     "e7179906557d46faadd3337e8ebaad24": {
      "model_module": "@jupyter-widgets/controls",
      "model_module_version": "1.5.0",
      "model_name": "HTMLModel",
      "state": {
       "layout": "IPY_MODEL_29630629afb34ce4a56b0959866ea753",
       "style": "IPY_MODEL_5381b50cb0224b4c9f63b6bc5d37aa51",
       "value": "<table border=\"1\" class=\"dataframe table table-striped table-hover table-condensed table-responsive\">\n  <thead>\n    <tr style=\"text-align: right;\">\n      <th></th>\n      <th>port2</th>\n    </tr>\n  </thead>\n  <tbody>\n    <tr>\n      <th>met</th>\n      <td>58624.0</td>\n    </tr>\n    <tr>\n      <th>wave</th>\n      <td>0.0</td>\n    </tr>\n    <tr>\n      <th>type</th>\n      <td>fixed</td>\n    </tr>\n    <tr>\n      <th>name</th>\n      <td>8770475 - Port Arthur, TX</td>\n    </tr>\n    <tr>\n      <th>pgm</th>\n      <td>IOOS Partners</td>\n    </tr>\n  </tbody>\n</table>"
      }
     },
     "e722996c816948ed957ff25f873bbff3": {
      "model_module": "@jupyter-widgets/base",
      "model_module_version": "1.2.0",
      "model_name": "LayoutModel",
      "state": {}
     },
     "e7c38dea3aa846189aef677ba374a2f2": {
      "model_module": "@jupyter-widgets/base",
      "model_module_version": "1.2.0",
      "model_name": "LayoutModel",
      "state": {}
     },
     "e804680273ac432881bf84bef8c61017": {
      "model_module": "@jupyter-widgets/controls",
      "model_module_version": "1.5.0",
      "model_name": "DescriptionStyleModel",
      "state": {
       "description_width": ""
      }
     },
     "e849b44bde4e40478ea08c83c45d12be": {
      "model_module": "@jupyter-widgets/base",
      "model_module_version": "1.2.0",
      "model_name": "LayoutModel",
      "state": {}
     },
     "e8502699fad644f2bc53b8ff77841c06": {
      "model_module": "@jupyter-widgets/controls",
      "model_module_version": "1.5.0",
      "model_name": "DescriptionStyleModel",
      "state": {
       "description_width": ""
      }
     },
     "e8a5de4475844b3a8f135d38925e7626": {
      "model_module": "@jupyter-widgets/controls",
      "model_module_version": "1.5.0",
      "model_name": "HTMLModel",
      "state": {
       "layout": "IPY_MODEL_f8950e421bba4702b093b77af3075583",
       "style": "IPY_MODEL_e804680273ac432881bf84bef8c61017",
       "value": "<table border=\"1\" class=\"dataframe table table-striped table-hover table-condensed table-responsive\">\n  <thead>\n    <tr style=\"text-align: right;\">\n      <th></th>\n      <th>51209</th>\n    </tr>\n  </thead>\n  <tbody>\n    <tr>\n      <th>met</th>\n      <td>0.0</td>\n    </tr>\n    <tr>\n      <th>wave</th>\n      <td>11578.0</td>\n    </tr>\n    <tr>\n      <th>type</th>\n      <td>buoy</td>\n    </tr>\n    <tr>\n      <th>name</th>\n      <td>Aunuu, American Samoa (189)</td>\n    </tr>\n    <tr>\n      <th>pgm</th>\n      <td>IOOS Partners</td>\n    </tr>\n  </tbody>\n</table>"
      }
     },
     "e8e646fa029f40faa92c52baf4727128": {
      "model_module": "@jupyter-widgets/controls",
      "model_module_version": "1.5.0",
      "model_name": "HTMLModel",
      "state": {
       "layout": "IPY_MODEL_8a9c9b20d9244905a8a32bff8546b63f",
       "style": "IPY_MODEL_6caadd6b788c4786adfb5e3c90823af3",
       "value": "<table border=\"1\" class=\"dataframe table table-striped table-hover table-condensed table-responsive\">\n  <thead>\n    <tr style=\"text-align: right;\">\n      <th></th>\n      <th>45025</th>\n    </tr>\n  </thead>\n  <tbody>\n    <tr>\n      <th>met</th>\n      <td>70528.0</td>\n    </tr>\n    <tr>\n      <th>wave</th>\n      <td>70528.0</td>\n    </tr>\n    <tr>\n      <th>type</th>\n      <td>buoy</td>\n    </tr>\n    <tr>\n      <th>name</th>\n      <td>South Entry Buoy, South Keweenaw Peninsula, MI</td>\n    </tr>\n    <tr>\n      <th>pgm</th>\n      <td>IOOS Partners</td>\n    </tr>\n  </tbody>\n</table>"
      }
     },
     "e91c38e0f48f4b6fb9c9ce2049eb8ed6": {
      "model_module": "@jupyter-widgets/base",
      "model_module_version": "1.2.0",
      "model_name": "LayoutModel",
      "state": {}
     },
     "e954e98172884daabe311d208b6e58f7": {
      "model_module": "@jupyter-widgets/base",
      "model_module_version": "1.2.0",
      "model_name": "LayoutModel",
      "state": {}
     },
     "e98e1eefe4b14a6d85263980b4b24f54": {
      "model_module": "jupyter-leaflet",
      "model_module_version": "^0.15.0",
      "model_name": "LeafletMarkerModel",
      "state": {
       "_model_module_version": "^0.15.0",
       "_view_module_version": "^0.15.0",
       "draggable": false,
       "icon": "IPY_MODEL_dafb8b4fe4f941bcb2346a31ec911eb3",
       "location": [
        34.142,
        -77.715
       ],
       "options": [
        "alt",
        "draggable",
        "keyboard",
        "rise_offset",
        "rise_on_hover",
        "rotation_angle",
        "rotation_origin",
        "title",
        "z_index_offset"
       ],
       "popup": "IPY_MODEL_564204ce304944be82d1f71c0ebcca8b"
      }
     },
     "e98e560f255e43739af3006505d10b93": {
      "model_module": "@jupyter-widgets/controls",
      "model_module_version": "1.5.0",
      "model_name": "HTMLModel",
      "state": {
       "layout": "IPY_MODEL_3a41dcd44680434bb23466229db91d41",
       "style": "IPY_MODEL_9082fa4f2686485d91ae0d70dbc413ce",
       "value": "<table border=\"1\" class=\"dataframe table table-striped table-hover table-condensed table-responsive\">\n  <thead>\n    <tr style=\"text-align: right;\">\n      <th></th>\n      <th>irdt2</th>\n    </tr>\n  </thead>\n  <tbody>\n    <tr>\n      <th>met</th>\n      <td>58286.0</td>\n    </tr>\n    <tr>\n      <th>wave</th>\n      <td>0.0</td>\n    </tr>\n    <tr>\n      <th>type</th>\n      <td>fixed</td>\n    </tr>\n    <tr>\n      <th>name</th>\n      <td>8776139 - South Bird Island, TX</td>\n    </tr>\n    <tr>\n      <th>pgm</th>\n      <td>IOOS Partners</td>\n    </tr>\n  </tbody>\n</table>"
      }
     },
     "e99e1ee7261c420f808162ce776a99e7": {
      "model_module": "@jupyter-widgets/base",
      "model_module_version": "1.2.0",
      "model_name": "LayoutModel",
      "state": {}
     },
     "e9a4229fbaf140e79c668aa49ae82f8e": {
      "model_module": "jupyter-leaflet",
      "model_module_version": "^0.17.0",
      "model_name": "LeafletAwesomeIconModel",
      "state": {
       "_model_module_version": "^0.17.0",
       "_view_module_version": "^0.17.0",
       "icon_color": "white",
       "marker_color": "orange",
       "name": "life-ring"
      }
     },
     "e9c70087ca154a1d97e1ec79e9acb886": {
      "model_module": "@jupyter-widgets/controls",
      "model_module_version": "1.5.0",
      "model_name": "HTMLModel",
      "state": {
       "layout": "IPY_MODEL_e3162a1817ab40319dd7d2112394e04a",
       "style": "IPY_MODEL_a05ca35494be491f88643b6438acff56",
       "value": "<table border=\"1\" class=\"dataframe table table-striped table-hover table-condensed table-responsive\">\n  <thead>\n    <tr style=\"text-align: right;\">\n      <th></th>\n      <th>45187</th>\n    </tr>\n  </thead>\n  <tbody>\n    <tr>\n      <th>met</th>\n      <td>17722.0</td>\n    </tr>\n    <tr>\n      <th>wave</th>\n      <td>32460.0</td>\n    </tr>\n    <tr>\n      <th>type</th>\n      <td>buoy</td>\n    </tr>\n    <tr>\n      <th>name</th>\n      <td>Winthrop Harbor Buoy, IL</td>\n    </tr>\n    <tr>\n      <th>pgm</th>\n      <td>IOOS Partners</td>\n    </tr>\n  </tbody>\n</table>"
      }
     },
     "eb068fed3b6346a2a4da1f31d182a83c": {
      "model_module": "@jupyter-widgets/controls",
      "model_module_version": "1.5.0",
      "model_name": "HTMLModel",
      "state": {
       "layout": "IPY_MODEL_c4b29d488bd44ab8ae45aa5e8db39cba",
       "style": "IPY_MODEL_0899a60d478547bcbfadcf9c0cf451ae",
       "value": "<table border=\"1\" class=\"dataframe table table-striped table-hover table-condensed table-responsive\">\n  <thead>\n    <tr style=\"text-align: right;\">\n      <th></th>\n      <th>45023</th>\n    </tr>\n  </thead>\n  <tbody>\n    <tr>\n      <th>met</th>\n      <td>61032.0</td>\n    </tr>\n    <tr>\n      <th>wave</th>\n      <td>61032.0</td>\n    </tr>\n    <tr>\n      <th>type</th>\n      <td>buoy</td>\n    </tr>\n    <tr>\n      <th>name</th>\n      <td>North Entry Buoy, North Keweenaw Peninsula, MI</td>\n    </tr>\n    <tr>\n      <th>pgm</th>\n      <td>IOOS Partners</td>\n    </tr>\n  </tbody>\n</table>"
      }
     },
     "eb153a511a3f496a869f30f2b1f8b3d8": {
      "model_module": "jupyter-leaflet",
      "model_module_version": "^0.15.0",
      "model_name": "LeafletAwesomeIconModel",
      "state": {
       "_model_module_version": "^0.15.0",
       "_view_module_version": "^0.15.0",
       "icon_color": "white",
       "marker_color": "green",
       "name": "life-ring"
      }
     },
     "eb31aff0fcd2449095c99d6b55ed8b38": {
      "model_module": "@jupyter-widgets/controls",
      "model_module_version": "1.5.0",
      "model_name": "HTMLModel",
      "state": {
       "layout": "IPY_MODEL_4c2f6452a5604dce9f7b6a1f8b9992ae",
       "style": "IPY_MODEL_b570937e5fdf4476bce4a82bfaa9f8b5",
       "value": "<table border=\"1\" class=\"dataframe table table-striped table-hover table-condensed table-responsive\">\n  <thead>\n    <tr style=\"text-align: right;\">\n      <th></th>\n      <th>52200</th>\n    </tr>\n  </thead>\n  <tbody>\n    <tr>\n      <th>met</th>\n      <td>0.0</td>\n    </tr>\n    <tr>\n      <th>wave</th>\n      <td>11534.0</td>\n    </tr>\n    <tr>\n      <th>type</th>\n      <td>buoy</td>\n    </tr>\n    <tr>\n      <th>name</th>\n      <td>Ipan, Guam (121)</td>\n    </tr>\n    <tr>\n      <th>pgm</th>\n      <td>IOOS Partners</td>\n    </tr>\n  </tbody>\n</table>"
      }
     },
     "eb3874d036a74285b9470f718b6628bf": {
      "model_module": "jupyter-leaflet",
      "model_module_version": "^0.15.0",
      "model_name": "LeafletMarkerModel",
      "state": {
       "_model_module_version": "^0.15.0",
       "_view_module_version": "^0.15.0",
       "draggable": false,
       "icon": "IPY_MODEL_1a9642ae4a6446009816934d4964cb7c",
       "location": [
        47.27,
        -88.607
       ],
       "options": [
        "alt",
        "draggable",
        "keyboard",
        "rise_offset",
        "rise_on_hover",
        "rotation_angle",
        "rotation_origin",
        "title",
        "z_index_offset"
       ],
       "popup": "IPY_MODEL_eb068fed3b6346a2a4da1f31d182a83c"
      }
     },
     "eb51417b98de447da92029cee34e5f00": {
      "model_module": "jupyter-leaflet",
      "model_module_version": "^0.15.0",
      "model_name": "LeafletAwesomeIconModel",
      "state": {
       "_model_module_version": "^0.15.0",
       "_view_module_version": "^0.15.0",
       "icon_color": "white",
       "marker_color": "red",
       "name": "life-ring"
      }
     },
     "eb657f7e18af49b496a4ae23d5471c31": {
      "model_module": "@jupyter-widgets/controls",
      "model_module_version": "1.5.0",
      "model_name": "DescriptionStyleModel",
      "state": {
       "description_width": ""
      }
     },
     "eb80b5d41516426d81ae41316eb4c8ac": {
      "model_module": "@jupyter-widgets/controls",
      "model_module_version": "1.5.0",
      "model_name": "DescriptionStyleModel",
      "state": {
       "description_width": ""
      }
     },
     "eba30de8c81849f68900efb0cea0ffbb": {
      "model_module": "jupyter-leaflet",
      "model_module_version": "^0.15.0",
      "model_name": "LeafletMarkerModel",
      "state": {
       "_model_module_version": "^0.15.0",
       "_view_module_version": "^0.15.0",
       "draggable": false,
       "icon": "IPY_MODEL_4568cc31554f47f88a03373b4e98ad73",
       "location": [
        42.135,
        -87.655
       ],
       "options": [
        "alt",
        "draggable",
        "keyboard",
        "rise_offset",
        "rise_on_hover",
        "rotation_angle",
        "rotation_origin",
        "title",
        "z_index_offset"
       ],
       "popup": "IPY_MODEL_9d487a938ab147ee9ed0059d3fdb0e12"
      }
     },
     "ebb2390b622d4013b7c8e070e7d57939": {
      "model_module": "@jupyter-widgets/base",
      "model_module_version": "1.2.0",
      "model_name": "LayoutModel",
      "state": {}
     },
     "ebc0528b37f644f7b721bb9f37f41937": {
      "model_module": "jupyter-leaflet",
      "model_module_version": "^0.17.0",
      "model_name": "LeafletMarkerModel",
      "state": {
       "_model_module_version": "^0.17.0",
       "_view_module_version": "^0.17.0",
       "draggable": false,
       "icon": "IPY_MODEL_e9a4229fbaf140e79c668aa49ae82f8e",
       "location": [
        58.54,
        -135.047
       ],
       "options": [
        "alt",
        "draggable",
        "keyboard",
        "rise_offset",
        "rise_on_hover",
        "rotation_angle",
        "rotation_origin",
        "title",
        "z_index_offset"
       ],
       "popup": "IPY_MODEL_2400c400e2664e219660a2f9b86764a0"
      }
     },
     "ebfdf269d81c4b0e913e954912d02989": {
      "model_module": "@jupyter-widgets/controls",
      "model_module_version": "1.5.0",
      "model_name": "DescriptionStyleModel",
      "state": {
       "description_width": ""
      }
     },
     "ec5970105b1d4345ba471ea06bdd6c18": {
      "model_module": "jupyter-leaflet",
      "model_module_version": "^0.15.0",
      "model_name": "LeafletAwesomeIconModel",
      "state": {
       "_model_module_version": "^0.15.0",
       "_view_module_version": "^0.15.0",
       "icon_color": "white",
       "marker_color": "orange",
       "name": "life-ring"
      }
     },
     "ec6cab72b75e4a1b9ddbf1193bb74697": {
      "model_module": "@jupyter-widgets/controls",
      "model_module_version": "1.5.0",
      "model_name": "DescriptionStyleModel",
      "state": {
       "description_width": ""
      }
     },
     "ec755c9a4c1d4eb0a92bab411ba86e26": {
      "model_module": "jupyter-leaflet",
      "model_module_version": "^0.17.0",
      "model_name": "LeafletMarkerModel",
      "state": {
       "_model_module_version": "^0.17.0",
       "_view_module_version": "^0.17.0",
       "draggable": false,
       "icon": "IPY_MODEL_510df4eed3eb474bbef90aaf9bf904af",
       "location": [
        43.981,
        -86.556
       ],
       "options": [
        "alt",
        "draggable",
        "keyboard",
        "rise_offset",
        "rise_on_hover",
        "rotation_angle",
        "rotation_origin",
        "title",
        "z_index_offset"
       ],
       "popup": "IPY_MODEL_7ccca394b307498c8ae932e60e0fcb69"
      }
     },
     "eca55cb6162840adb804cd4fa194be3e": {
      "model_module": "@jupyter-widgets/base",
      "model_module_version": "1.2.0",
      "model_name": "LayoutModel",
      "state": {}
     },
     "ecd24e049e844e8e855997341f380f6b": {
      "model_module": "@jupyter-widgets/controls",
      "model_module_version": "1.5.0",
      "model_name": "HTMLModel",
      "state": {
       "layout": "IPY_MODEL_2e79e65d32ba4f14a3766f2570e2262a",
       "style": "IPY_MODEL_f542fa74edf847888532f3e542a121aa",
       "value": "<table border=\"1\" class=\"dataframe table table-striped table-hover table-condensed table-responsive\">\n  <thead>\n    <tr style=\"text-align: right;\">\n      <th></th>\n      <th>taqt2</th>\n    </tr>\n  </thead>\n  <tbody>\n    <tr>\n      <th>met</th>\n      <td>57976.0</td>\n    </tr>\n    <tr>\n      <th>wave</th>\n      <td>0.0</td>\n    </tr>\n    <tr>\n      <th>type</th>\n      <td>fixed</td>\n    </tr>\n    <tr>\n      <th>name</th>\n      <td>8775296 - USS Lexington, TX</td>\n    </tr>\n    <tr>\n      <th>pgm</th>\n      <td>IOOS Partners</td>\n    </tr>\n  </tbody>\n</table>"
      }
     },
     "ed000a54e14e448babb0846091655da5": {
      "model_module": "@jupyter-widgets/controls",
      "model_module_version": "1.5.0",
      "model_name": "HTMLModel",
      "state": {
       "layout": "IPY_MODEL_64a5c3f4fd404917bb63ceb1af47e104",
       "style": "IPY_MODEL_8cc518b2ae9e42cf91f547cd74974a18",
       "value": "<table border=\"1\" class=\"dataframe table table-striped table-hover table-condensed table-responsive\">\n  <thead>\n    <tr style=\"text-align: right;\">\n      <th></th>\n      <th>twco1</th>\n    </tr>\n  </thead>\n  <tbody>\n    <tr>\n      <th>met</th>\n      <td>32848.0</td>\n    </tr>\n    <tr>\n      <th>wave</th>\n      <td>0.0</td>\n    </tr>\n    <tr>\n      <th>type</th>\n      <td>fixed</td>\n    </tr>\n    <tr>\n      <th>name</th>\n      <td>Toledo Crib, OH</td>\n    </tr>\n    <tr>\n      <th>pgm</th>\n      <td>IOOS Partners</td>\n    </tr>\n  </tbody>\n</table>"
      }
     },
     "ed418a3a26f8426096aecfcdc5daf77c": {
      "model_module": "@jupyter-widgets/controls",
      "model_module_version": "1.5.0",
      "model_name": "DescriptionStyleModel",
      "state": {
       "description_width": ""
      }
     },
     "edb153bd7f684acb991dda4b52a4d826": {
      "model_module": "@jupyter-widgets/base",
      "model_module_version": "1.2.0",
      "model_name": "LayoutModel",
      "state": {}
     },
     "edbaa799fc434aa59a3bc62eef3dda6f": {
      "model_module": "@jupyter-widgets/base",
      "model_module_version": "1.2.0",
      "model_name": "LayoutModel",
      "state": {}
     },
     "edc74826f64f4e89918b46f70762abdd": {
      "model_module": "@jupyter-widgets/base",
      "model_module_version": "1.2.0",
      "model_name": "LayoutModel",
      "state": {}
     },
     "edcbad9b8e7241e4ba468f8ebc573464": {
      "model_module": "jupyter-leaflet",
      "model_module_version": "^0.15.0",
      "model_name": "LeafletAwesomeIconModel",
      "state": {
       "_model_module_version": "^0.15.0",
       "_view_module_version": "^0.15.0",
       "icon_color": "white",
       "marker_color": "orange",
       "name": "life-ring"
      }
     },
     "edda050f5ff14643a715b14e0b673e82": {
      "model_module": "jupyter-leaflet",
      "model_module_version": "^0.15.0",
      "model_name": "LeafletMarkerModel",
      "state": {
       "_model_module_version": "^0.15.0",
       "_view_module_version": "^0.15.0",
       "draggable": false,
       "icon": "IPY_MODEL_339650bf0ff243a1915c53a1905d80a7",
       "location": [
        21.477,
        -157.752
       ],
       "options": [
        "alt",
        "draggable",
        "keyboard",
        "rise_offset",
        "rise_on_hover",
        "rotation_angle",
        "rotation_origin",
        "title",
        "z_index_offset"
       ],
       "popup": "IPY_MODEL_203542ef25a64ace88bdaee7bf9787c0"
      }
     },
     "edfdfa0252584e019e20578a40e30ce2": {
      "model_module": "@jupyter-widgets/base",
      "model_module_version": "1.2.0",
      "model_name": "LayoutModel",
      "state": {}
     },
     "ee577632cbeb4f578438d0f8ac49e615": {
      "model_module": "jupyter-leaflet",
      "model_module_version": "^0.15.0",
      "model_name": "LeafletAwesomeIconModel",
      "state": {
       "_model_module_version": "^0.15.0",
       "_view_module_version": "^0.15.0",
       "icon_color": "white",
       "marker_color": "red",
       "name": "life-ring"
      }
     },
     "ee81e612d8b24688879f5456f22d3506": {
      "model_module": "@jupyter-widgets/controls",
      "model_module_version": "1.5.0",
      "model_name": "HTMLModel",
      "state": {
       "layout": "IPY_MODEL_69657385e73b438fb52290966ad6ff66",
       "style": "IPY_MODEL_dab200e7b0ae497e8f317cb0744796d8",
       "value": "<table border=\"1\" class=\"dataframe table table-striped table-hover table-condensed table-responsive\">\n  <thead>\n    <tr style=\"text-align: right;\">\n      <th></th>\n      <th>stxa2</th>\n    </tr>\n  </thead>\n  <tbody>\n    <tr>\n      <th>met</th>\n      <td>34448.0</td>\n    </tr>\n    <tr>\n      <th>wave</th>\n      <td>0.0</td>\n    </tr>\n    <tr>\n      <th>type</th>\n      <td>fixed</td>\n    </tr>\n    <tr>\n      <th>name</th>\n      <td>Sitka AML, AK</td>\n    </tr>\n    <tr>\n      <th>pgm</th>\n      <td>IOOS Partners</td>\n    </tr>\n  </tbody>\n</table>"
      }
     },
     "ee98d861c5c64672bfb65a4d5a01675b": {
      "model_module": "@jupyter-widgets/controls",
      "model_module_version": "1.5.0",
      "model_name": "HTMLModel",
      "state": {
       "layout": "IPY_MODEL_edfdfa0252584e019e20578a40e30ce2",
       "style": "IPY_MODEL_16c113f9015646278a0b60e257fd00a2",
       "value": "<table border=\"1\" class=\"dataframe table table-striped table-hover table-condensed table-responsive\">\n  <thead>\n    <tr style=\"text-align: right;\">\n      <th></th>\n      <th>51202</th>\n    </tr>\n  </thead>\n  <tbody>\n    <tr>\n      <th>met</th>\n      <td>0.0</td>\n    </tr>\n    <tr>\n      <th>wave</th>\n      <td>1622.0</td>\n    </tr>\n    <tr>\n      <th>type</th>\n      <td>buoy</td>\n    </tr>\n    <tr>\n      <th>name</th>\n      <td>Mokapu Point, HI (098)</td>\n    </tr>\n    <tr>\n      <th>pgm</th>\n      <td>IOOS Partners</td>\n    </tr>\n  </tbody>\n</table>"
      }
     },
     "eec4f33b83904675abdab49acfcfc06d": {
      "model_module": "@jupyter-widgets/controls",
      "model_module_version": "1.5.0",
      "model_name": "DescriptionStyleModel",
      "state": {
       "description_width": ""
      }
     },
     "eed45abd080347f6adbdc2935f0311a3": {
      "model_module": "@jupyter-widgets/controls",
      "model_module_version": "1.5.0",
      "model_name": "HTMLModel",
      "state": {
       "layout": "IPY_MODEL_570c70071dca4acd808513d1d82471c0",
       "style": "IPY_MODEL_2220190f62154d4d9b122a4198337e56",
       "value": "<table border=\"1\" class=\"dataframe table table-striped table-hover table-condensed table-responsive\">\n  <thead>\n    <tr style=\"text-align: right;\">\n      <th></th>\n      <th>arpf1</th>\n    </tr>\n  </thead>\n  <tbody>\n    <tr>\n      <th>met</th>\n      <td>24058.0</td>\n    </tr>\n    <tr>\n      <th>wave</th>\n      <td>0.0</td>\n    </tr>\n    <tr>\n      <th>type</th>\n      <td>fixed</td>\n    </tr>\n    <tr>\n      <th>name</th>\n      <td>APK - Aripeka, FL</td>\n    </tr>\n    <tr>\n      <th>pgm</th>\n      <td>IOOS Partners</td>\n    </tr>\n  </tbody>\n</table>"
      }
     },
     "ef59c05ce4144bd6978107918bddf768": {
      "model_module": "@jupyter-widgets/base",
      "model_module_version": "1.2.0",
      "model_name": "LayoutModel",
      "state": {}
     },
     "ef62ba2e64ab4f96a78365f20bba531c": {
      "model_module": "jupyter-leaflet",
      "model_module_version": "^0.17.0",
      "model_name": "LeafletMarkerModel",
      "state": {
       "_model_module_version": "^0.17.0",
       "_view_module_version": "^0.17.0",
       "draggable": false,
       "icon": "IPY_MODEL_5bb587e229d04946a6aaf55b0fc90411",
       "location": [
        56.001,
        -134.136
       ],
       "options": [
        "alt",
        "draggable",
        "keyboard",
        "rise_offset",
        "rise_on_hover",
        "rotation_angle",
        "rotation_origin",
        "title",
        "z_index_offset"
       ],
       "popup": "IPY_MODEL_65576089237f481daca40c2eb069c97f"
      }
     },
     "ef73bf3c00db46909d597fb2a97e9e26": {
      "model_module": "jupyter-leaflet",
      "model_module_version": "^0.17.0",
      "model_name": "LeafletMarkerModel",
      "state": {
       "_model_module_version": "^0.17.0",
       "_view_module_version": "^0.17.0",
       "draggable": false,
       "icon": "IPY_MODEL_be0e0dce1b4144678c8cd6f7e59b2731",
       "location": [
        44.103,
        -68.112
       ],
       "options": [
        "alt",
        "draggable",
        "keyboard",
        "rise_offset",
        "rise_on_hover",
        "rotation_angle",
        "rotation_origin",
        "title",
        "z_index_offset"
       ],
       "popup": "IPY_MODEL_a5f5bfb42a69449e94c05bb1de1e58f3"
      }
     },
     "efb8353674274fd4810d80d52b8131c7": {
      "model_module": "jupyter-leaflet",
      "model_module_version": "^0.17.0",
      "model_name": "LeafletAwesomeIconModel",
      "state": {
       "_model_module_version": "^0.17.0",
       "_view_module_version": "^0.17.0",
       "icon_color": "white",
       "marker_color": "green",
       "name": "life-ring"
      }
     },
     "efef5d45e6284d03a2a23c06b7fd45d7": {
      "model_module": "@jupyter-widgets/controls",
      "model_module_version": "1.5.0",
      "model_name": "DescriptionStyleModel",
      "state": {
       "description_width": ""
      }
     },
     "effc375fd80f4e9d8c62631168dd5210": {
      "model_module": "jupyter-leaflet",
      "model_module_version": "^0.17.0",
      "model_name": "LeafletMarkerModel",
      "state": {
       "_model_module_version": "^0.17.0",
       "_view_module_version": "^0.17.0",
       "draggable": false,
       "icon": "IPY_MODEL_38038ad543f848d9be2e24d01a221b0a",
       "location": [
        42.9,
        -86.272
       ],
       "options": [
        "alt",
        "draggable",
        "keyboard",
        "rise_offset",
        "rise_on_hover",
        "rotation_angle",
        "rotation_origin",
        "title",
        "z_index_offset"
       ],
       "popup": "IPY_MODEL_3a25253d48e24b329e47e78d6c1ec18b"
      }
     },
     "f05dcae3979840d0873685abbfc63ee6": {
      "model_module": "jupyter-leaflet",
      "model_module_version": "^0.17.0",
      "model_name": "LeafletAwesomeIconModel",
      "state": {
       "_model_module_version": "^0.17.0",
       "_view_module_version": "^0.17.0",
       "icon_color": "white",
       "marker_color": "orange",
       "name": "life-ring"
      }
     },
     "f07d5641f3a74916bf84f185b96c934a": {
      "model_module": "jupyter-leaflet",
      "model_module_version": "^0.17.0",
      "model_name": "LeafletMarkerModel",
      "state": {
       "_model_module_version": "^0.17.0",
       "_view_module_version": "^0.17.0",
       "draggable": false,
       "icon": "IPY_MODEL_6b602e3b61be45d3805eb80a1b0cc519",
       "location": [
        27.815,
        -97.389
       ],
       "options": [
        "alt",
        "draggable",
        "keyboard",
        "rise_offset",
        "rise_on_hover",
        "rotation_angle",
        "rotation_origin",
        "title",
        "z_index_offset"
       ],
       "popup": "IPY_MODEL_98b28fb22a944ca1bdd494a911db6bd7"
      }
     },
     "f089c5fd344c4452b2ad00540d76a02f": {
      "model_module": "@jupyter-widgets/controls",
      "model_module_version": "1.5.0",
      "model_name": "HTMLModel",
      "state": {
       "layout": "IPY_MODEL_572736b3be1d4ab0bde2c263f662db82",
       "style": "IPY_MODEL_95df5a252a944db59b83ab56ee9021c1",
       "value": "<table border=\"1\" class=\"dataframe table table-striped table-hover table-condensed table-responsive\">\n  <thead>\n    <tr style=\"text-align: right;\">\n      <th></th>\n      <th>slxa2</th>\n    </tr>\n  </thead>\n  <tbody>\n    <tr>\n      <th>met</th>\n      <td>34238.0</td>\n    </tr>\n    <tr>\n      <th>wave</th>\n      <td>0.0</td>\n    </tr>\n    <tr>\n      <th>type</th>\n      <td>fixed</td>\n    </tr>\n    <tr>\n      <th>name</th>\n      <td>Salmon Landing, AK</td>\n    </tr>\n    <tr>\n      <th>pgm</th>\n      <td>IOOS Partners</td>\n    </tr>\n  </tbody>\n</table>"
      }
     },
     "f13e211c72b04d97bace37affa5370d1": {
      "model_module": "@jupyter-widgets/controls",
      "model_module_version": "1.5.0",
      "model_name": "DescriptionStyleModel",
      "state": {
       "description_width": ""
      }
     },
     "f192b3fb6abb40958858f88b93fd1cf6": {
      "model_module": "jupyter-leaflet",
      "model_module_version": "^0.17.0",
      "model_name": "LeafletAwesomeIconModel",
      "state": {
       "_model_module_version": "^0.17.0",
       "_view_module_version": "^0.17.0",
       "icon_color": "white",
       "marker_color": "orange",
       "name": "life-ring"
      }
     },
     "f1b332647010410ab26acfca303cdd7d": {
      "model_module": "@jupyter-widgets/controls",
      "model_module_version": "1.5.0",
      "model_name": "HTMLModel",
      "state": {
       "layout": "IPY_MODEL_289e7178449b4a9a8ae01bd4dda867c2",
       "style": "IPY_MODEL_bf4e9584ef3a46d7ad16b91b8ff3b2f5",
       "value": "<table border=\"1\" class=\"dataframe table table-striped table-hover table-condensed table-responsive\">\n  <thead>\n    <tr style=\"text-align: right;\">\n      <th></th>\n      <th>shpf1</th>\n    </tr>\n  </thead>\n  <tbody>\n    <tr>\n      <th>met</th>\n      <td>58840.0</td>\n    </tr>\n    <tr>\n      <th>wave</th>\n      <td>0.0</td>\n    </tr>\n    <tr>\n      <th>type</th>\n      <td>fixed</td>\n    </tr>\n    <tr>\n      <th>name</th>\n      <td>SHP - Shell Point, FL</td>\n    </tr>\n    <tr>\n      <th>pgm</th>\n      <td>IOOS Partners</td>\n    </tr>\n  </tbody>\n</table>"
      }
     },
     "f1bf199431da463880e4110e9ea65d8a": {
      "model_module": "@jupyter-widgets/controls",
      "model_module_version": "1.5.0",
      "model_name": "HTMLModel",
      "state": {
       "layout": "IPY_MODEL_47a4a2ce245348818262d1eda4f9364d",
       "style": "IPY_MODEL_6da33069fc594efbbc8a94d4864d856d",
       "value": "<table border=\"1\" class=\"dataframe table table-striped table-hover table-condensed table-responsive\">\n  <thead>\n    <tr style=\"text-align: right;\">\n      <th></th>\n      <th>44037</th>\n    </tr>\n  </thead>\n  <tbody>\n    <tr>\n      <th>met</th>\n      <td>4548.0</td>\n    </tr>\n    <tr>\n      <th>wave</th>\n      <td>4476.0</td>\n    </tr>\n    <tr>\n      <th>type</th>\n      <td>buoy</td>\n    </tr>\n    <tr>\n      <th>name</th>\n      <td>Buoy M01 - Jordan Basin</td>\n    </tr>\n    <tr>\n      <th>pgm</th>\n      <td>IOOS Partners</td>\n    </tr>\n  </tbody>\n</table>"
      }
     },
     "f2085f3d248f46999668329b64d7a706": {
      "model_module": "jupyter-leaflet",
      "model_module_version": "^0.17.0",
      "model_name": "LeafletMapStyleModel",
      "state": {
       "_model_module_version": "^0.17.0"
      }
     },
     "f23534add4ac43598dfb1b3e807e902d": {
      "model_module": "@jupyter-widgets/controls",
      "model_module_version": "1.5.0",
      "model_name": "HTMLModel",
      "state": {
       "layout": "IPY_MODEL_82c125cf5052441f981890869cf0c1ac",
       "style": "IPY_MODEL_ca18cad0be2c42a191c8a362df1cabae",
       "value": "<table border=\"1\" class=\"dataframe table table-striped table-hover table-condensed table-responsive\">\n  <thead>\n    <tr style=\"text-align: right;\">\n      <th></th>\n      <th>erxa2</th>\n    </tr>\n  </thead>\n  <tbody>\n    <tr>\n      <th>met</th>\n      <td>34312.0</td>\n    </tr>\n    <tr>\n      <th>wave</th>\n      <td>0.0</td>\n    </tr>\n    <tr>\n      <th>type</th>\n      <td>fixed</td>\n    </tr>\n    <tr>\n      <th>name</th>\n      <td>Eldred Rock MXAK, AK</td>\n    </tr>\n    <tr>\n      <th>pgm</th>\n      <td>IOOS Partners</td>\n    </tr>\n  </tbody>\n</table>"
      }
     },
     "f24ca8f2a3b741b3bd556c3baf3c2086": {
      "model_module": "@jupyter-widgets/base",
      "model_module_version": "1.2.0",
      "model_name": "LayoutModel",
      "state": {}
     },
     "f344101bd2f84b87840a31bc234d1e71": {
      "model_module": "jupyter-leaflet",
      "model_module_version": "^0.15.0",
      "model_name": "LeafletMarkerModel",
      "state": {
       "_model_module_version": "^0.15.0",
       "_view_module_version": "^0.15.0",
       "draggable": false,
       "icon": "IPY_MODEL_60d9738a4164460a86ec936457dcf29f",
       "location": [
        27.505,
        -83.741
       ],
       "options": [
        "alt",
        "draggable",
        "keyboard",
        "rise_offset",
        "rise_on_hover",
        "rotation_angle",
        "rotation_origin",
        "title",
        "z_index_offset"
       ],
       "popup": "IPY_MODEL_873819b5866c46c2a0f20de6617c5907"
      }
     },
     "f34f65ca00d54132a4ecc0d7aa33d421": {
      "model_module": "@jupyter-widgets/controls",
      "model_module_version": "1.5.0",
      "model_name": "HTMLModel",
      "state": {
       "layout": "IPY_MODEL_19bfb4b0d63c407d9ed3350a74c4fab6",
       "style": "IPY_MODEL_7de82df144cf4d3897512e88d5008a08",
       "value": "<table border=\"1\" class=\"dataframe table table-striped table-hover table-condensed table-responsive\">\n  <thead>\n    <tr style=\"text-align: right;\">\n      <th></th>\n      <th>45175</th>\n    </tr>\n  </thead>\n  <tbody>\n    <tr>\n      <th>met</th>\n      <td>49820.0</td>\n    </tr>\n    <tr>\n      <th>wave</th>\n      <td>49820.0</td>\n    </tr>\n    <tr>\n      <th>type</th>\n      <td>buoy</td>\n    </tr>\n    <tr>\n      <th>name</th>\n      <td>Mackinac Straits West, Mackinaw City, MI</td>\n    </tr>\n    <tr>\n      <th>pgm</th>\n      <td>IOOS Partners</td>\n    </tr>\n  </tbody>\n</table>"
      }
     },
     "f39ba5c2c19143bebeaf50679de31bce": {
      "model_module": "@jupyter-widgets/controls",
      "model_module_version": "1.5.0",
      "model_name": "HTMLModel",
      "state": {
       "layout": "IPY_MODEL_e29970d3bb794f15832681f2abc2cd09",
       "style": "IPY_MODEL_d6f8ae9080f04d6da8e5b788929e03e0",
       "value": "<table border=\"1\" class=\"dataframe table table-striped table-hover table-condensed table-responsive\">\n  <thead>\n    <tr style=\"text-align: right;\">\n      <th></th>\n      <th>grim4</th>\n    </tr>\n  </thead>\n  <tbody>\n    <tr>\n      <th>met</th>\n      <td>30830.0</td>\n    </tr>\n    <tr>\n      <th>wave</th>\n      <td>0.0</td>\n    </tr>\n    <tr>\n      <th>type</th>\n      <td>fixed</td>\n    </tr>\n    <tr>\n      <th>name</th>\n      <td>Granite Island, MI</td>\n    </tr>\n    <tr>\n      <th>pgm</th>\n      <td>IOOS Partners</td>\n    </tr>\n  </tbody>\n</table>"
      }
     },
     "f3b824fcce9f4cb1b63eb3f01342d4b9": {
      "model_module": "jupyter-leaflet",
      "model_module_version": "^0.15.0",
      "model_name": "LeafletAwesomeIconModel",
      "state": {
       "_model_module_version": "^0.15.0",
       "_view_module_version": "^0.15.0",
       "icon_color": "white",
       "marker_color": "green",
       "name": "life-ring"
      }
     },
     "f3c1d960985f44cab2daf6add8d67124": {
      "model_module": "@jupyter-widgets/controls",
      "model_module_version": "1.5.0",
      "model_name": "DescriptionStyleModel",
      "state": {
       "description_width": ""
      }
     },
     "f3cf8c8f93e4492dba5cd3f3a14eee66": {
      "model_module": "@jupyter-widgets/controls",
      "model_module_version": "1.5.0",
      "model_name": "HTMLModel",
      "state": {
       "layout": "IPY_MODEL_0da0375798264023adab7ea61613b6a8",
       "style": "IPY_MODEL_c75b3365391542b29886248abf1ceba2",
       "value": "<table border=\"1\" class=\"dataframe table table-striped table-hover table-condensed table-responsive\">\n  <thead>\n    <tr style=\"text-align: right;\">\n      <th></th>\n      <th>45175</th>\n    </tr>\n  </thead>\n  <tbody>\n    <tr>\n      <th>met</th>\n      <td>49820.0</td>\n    </tr>\n    <tr>\n      <th>wave</th>\n      <td>49820.0</td>\n    </tr>\n    <tr>\n      <th>type</th>\n      <td>buoy</td>\n    </tr>\n    <tr>\n      <th>name</th>\n      <td>Mackinac Straits West, Mackinaw City, MI</td>\n    </tr>\n    <tr>\n      <th>pgm</th>\n      <td>IOOS Partners</td>\n    </tr>\n  </tbody>\n</table>"
      }
     },
     "f3e29f300a60486e87d66ec83c6598bd": {
      "model_module": "@jupyter-widgets/controls",
      "model_module_version": "1.5.0",
      "model_name": "DescriptionStyleModel",
      "state": {
       "description_width": ""
      }
     },
     "f455e7ed37594b40b78722763757ef66": {
      "model_module": "jupyter-leaflet",
      "model_module_version": "^0.15.0",
      "model_name": "LeafletMarkerModel",
      "state": {
       "_model_module_version": "^0.15.0",
       "_view_module_version": "^0.15.0",
       "draggable": false,
       "icon": "IPY_MODEL_94d6e917ecb84be1a4e6b8e356231fb8",
       "location": [
        32.803,
        -79.624
       ],
       "options": [
        "alt",
        "draggable",
        "keyboard",
        "rise_offset",
        "rise_on_hover",
        "rotation_angle",
        "rotation_origin",
        "title",
        "z_index_offset"
       ],
       "popup": "IPY_MODEL_5a8a6397a9ff4109925d48f03c208739"
      }
     },
     "f4701f7bfdcc42e19512f5ee3be92668": {
      "model_module": "jupyter-leaflet",
      "model_module_version": "^0.17.0",
      "model_name": "LeafletMarkerModel",
      "state": {
       "_model_module_version": "^0.17.0",
       "_view_module_version": "^0.17.0",
       "draggable": false,
       "icon": "IPY_MODEL_ab0c0b51eddb41b28e88cbd8e9d08434",
       "location": [
        52.972,
        -168.855
       ],
       "options": [
        "alt",
        "draggable",
        "keyboard",
        "rise_offset",
        "rise_on_hover",
        "rotation_angle",
        "rotation_origin",
        "title",
        "z_index_offset"
       ],
       "popup": "IPY_MODEL_0f15e5de4242466899f425d47da9f284"
      }
     },
     "f4a2312bac704211a6b952ea301c89c6": {
      "model_module": "jupyter-leaflet",
      "model_module_version": "^0.17.0",
      "model_name": "LeafletMarkerModel",
      "state": {
       "_model_module_version": "^0.17.0",
       "_view_module_version": "^0.17.0",
       "draggable": false,
       "icon": "IPY_MODEL_2d4023fd411e40219f678317908effab",
       "location": [
        43.715,
        -69.355
       ],
       "options": [
        "alt",
        "draggable",
        "keyboard",
        "rise_offset",
        "rise_on_hover",
        "rotation_angle",
        "rotation_origin",
        "title",
        "z_index_offset"
       ],
       "popup": "IPY_MODEL_06028840c6ec4df3b9a847f7a659d6c3"
      }
     },
     "f4d6960f54844229bc8d85a9c3974fe0": {
      "model_module": "@jupyter-widgets/controls",
      "model_module_version": "1.5.0",
      "model_name": "DescriptionStyleModel",
      "state": {
       "description_width": ""
      }
     },
     "f51c67d2148148fa94416074ca1b4bfc": {
      "model_module": "jupyter-leaflet",
      "model_module_version": "^0.17.0",
      "model_name": "LeafletAwesomeIconModel",
      "state": {
       "_model_module_version": "^0.17.0",
       "_view_module_version": "^0.17.0",
       "icon_color": "white",
       "marker_color": "orange",
       "name": "life-ring"
      }
     },
     "f52456403b99417ab585c1e0c2f4c4cf": {
      "model_module": "jupyter-leaflet",
      "model_module_version": "^0.15.0",
      "model_name": "LeafletMarkerModel",
      "state": {
       "_model_module_version": "^0.15.0",
       "_view_module_version": "^0.15.0",
       "draggable": false,
       "icon": "IPY_MODEL_1cdebaf868e145c19f83938954985199",
       "location": [
        57.116,
        -135.391
       ],
       "options": [
        "alt",
        "draggable",
        "keyboard",
        "rise_offset",
        "rise_on_hover",
        "rotation_angle",
        "rotation_origin",
        "title",
        "z_index_offset"
       ],
       "popup": "IPY_MODEL_ee81e612d8b24688879f5456f22d3506"
      }
     },
     "f542fa74edf847888532f3e542a121aa": {
      "model_module": "@jupyter-widgets/controls",
      "model_module_version": "1.5.0",
      "model_name": "DescriptionStyleModel",
      "state": {
       "description_width": ""
      }
     },
     "f56ccaecc2e146c68aa34148445a06c2": {
      "model_module": "jupyter-leaflet",
      "model_module_version": "^0.17.0",
      "model_name": "LeafletAwesomeIconModel",
      "state": {
       "_model_module_version": "^0.17.0",
       "_view_module_version": "^0.17.0",
       "icon_color": "white",
       "marker_color": "orange",
       "name": "life-ring"
      }
     },
     "f56e77c6b8e14c71bc1383b9ed98dd81": {
      "model_module": "jupyter-leaflet",
      "model_module_version": "^0.15.0",
      "model_name": "LeafletMarkerModel",
      "state": {
       "_model_module_version": "^0.15.0",
       "_view_module_version": "^0.15.0",
       "draggable": false,
       "icon": "IPY_MODEL_30f689301a9346ae987b11c41e56c03a",
       "location": [
        57.016,
        -134.618
       ],
       "options": [
        "alt",
        "draggable",
        "keyboard",
        "rise_offset",
        "rise_on_hover",
        "rotation_angle",
        "rotation_origin",
        "title",
        "z_index_offset"
       ],
       "popup": "IPY_MODEL_797b56b85811448b800422d280126e81"
      }
     },
     "f5902d58f93f4f0cb41671b1f67f5502": {
      "model_module": "@jupyter-widgets/base",
      "model_module_version": "1.2.0",
      "model_name": "LayoutModel",
      "state": {}
     },
     "f597751eb19141e3a54702e91dc618ae": {
      "model_module": "jupyter-leaflet",
      "model_module_version": "^0.15.0",
      "model_name": "LeafletAwesomeIconModel",
      "state": {
       "_model_module_version": "^0.15.0",
       "_view_module_version": "^0.15.0",
       "icon_color": "white",
       "marker_color": "orange",
       "name": "life-ring"
      }
     },
     "f6f3ae419545408aa89ca4e5e612ff33": {
      "model_module": "@jupyter-widgets/controls",
      "model_module_version": "1.5.0",
      "model_name": "HTMLModel",
      "state": {
       "layout": "IPY_MODEL_d7d5b072f7c64054919e947ab3deb410",
       "style": "IPY_MODEL_341eda087e2045c586155ebc72c8f0f4",
       "value": "<table border=\"1\" class=\"dataframe table table-striped table-hover table-condensed table-responsive\">\n  <thead>\n    <tr style=\"text-align: right;\">\n      <th></th>\n      <th>gixa2</th>\n    </tr>\n  </thead>\n  <tbody>\n    <tr>\n      <th>met</th>\n      <td>34236.0</td>\n    </tr>\n    <tr>\n      <th>wave</th>\n      <td>0.0</td>\n    </tr>\n    <tr>\n      <th>type</th>\n      <td>fixed</td>\n    </tr>\n    <tr>\n      <th>name</th>\n      <td>Guard Island, AK</td>\n    </tr>\n    <tr>\n      <th>pgm</th>\n      <td>IOOS Partners</td>\n    </tr>\n  </tbody>\n</table>"
      }
     },
     "f721eaa9e492440290afdd7badca0a4c": {
      "model_module": "@jupyter-widgets/base",
      "model_module_version": "1.2.0",
      "model_name": "LayoutModel",
      "state": {}
     },
     "f729f53505c841ebb3405ae063213051": {
      "model_module": "jupyter-leaflet",
      "model_module_version": "^0.17.0",
      "model_name": "LeafletMarkerModel",
      "state": {
       "_model_module_version": "^0.17.0",
       "_view_module_version": "^0.17.0",
       "draggable": false,
       "icon": "IPY_MODEL_17511eb7058b4f1a9c86553ea13c23a5",
       "location": [
        26.072,
        -97.167
       ],
       "options": [
        "alt",
        "draggable",
        "keyboard",
        "rise_offset",
        "rise_on_hover",
        "rotation_angle",
        "rotation_origin",
        "title",
        "z_index_offset"
       ],
       "popup": "IPY_MODEL_0ffb061142ff4ce688b54d618e559453"
      }
     },
     "f76aacbe76214c0fba0dc8a3d06fb79c": {
      "model_module": "@jupyter-widgets/controls",
      "model_module_version": "1.5.0",
      "model_name": "HTMLModel",
      "state": {
       "layout": "IPY_MODEL_e99e1ee7261c420f808162ce776a99e7",
       "style": "IPY_MODEL_7107609c6aea4304836fc05686f73387",
       "value": "<table border=\"1\" class=\"dataframe table table-striped table-hover table-condensed table-responsive\">\n  <thead>\n    <tr style=\"text-align: right;\">\n      <th></th>\n      <th>jmla2</th>\n    </tr>\n  </thead>\n  <tbody>\n    <tr>\n      <th>met</th>\n      <td>34354.0</td>\n    </tr>\n    <tr>\n      <th>wave</th>\n      <td>0.0</td>\n    </tr>\n    <tr>\n      <th>type</th>\n      <td>fixed</td>\n    </tr>\n    <tr>\n      <th>name</th>\n      <td>Juneau AML Dock</td>\n    </tr>\n    <tr>\n      <th>pgm</th>\n      <td>IOOS Partners</td>\n    </tr>\n  </tbody>\n</table>"
      }
     },
     "f776583653cf4007ba2abc8290fae644": {
      "model_module": "jupyter-leaflet",
      "model_module_version": "^0.15.0",
      "model_name": "LeafletAwesomeIconModel",
      "state": {
       "_model_module_version": "^0.15.0",
       "_view_module_version": "^0.15.0",
       "icon_color": "white",
       "marker_color": "red",
       "name": "life-ring"
      }
     },
     "f79b7b1c18d3463e938fec96d546b1e8": {
      "model_module": "@jupyter-widgets/controls",
      "model_module_version": "1.5.0",
      "model_name": "DescriptionStyleModel",
      "state": {
       "description_width": ""
      }
     },
     "f7f5774d98a848db8930a8409378b0d0": {
      "model_module": "@jupyter-widgets/base",
      "model_module_version": "1.2.0",
      "model_name": "LayoutModel",
      "state": {}
     },
     "f82abdcdce3748b4a7be84addad8fe94": {
      "model_module": "jupyter-leaflet",
      "model_module_version": "^0.15.0",
      "model_name": "LeafletMarkerModel",
      "state": {
       "_model_module_version": "^0.15.0",
       "_view_module_version": "^0.15.0",
       "draggable": false,
       "icon": "IPY_MODEL_96ee5fd83c54485e9d35dd1b8f7e198b",
       "location": [
        41.781,
        -87.573
       ],
       "options": [
        "alt",
        "draggable",
        "keyboard",
        "rise_offset",
        "rise_on_hover",
        "rotation_angle",
        "rotation_origin",
        "title",
        "z_index_offset"
       ],
       "popup": "IPY_MODEL_3fa6eecfd112457d942dc7b4e12b3ff1"
      }
     },
     "f87eadacbd454da7b85b69cd9817341b": {
      "model_module": "@jupyter-widgets/controls",
      "model_module_version": "1.5.0",
      "model_name": "HTMLModel",
      "state": {
       "layout": "IPY_MODEL_3d7c85f1a4a042a9b65e99c4c39e5a8e",
       "style": "IPY_MODEL_411c4d7400f14b67b1ade1e0cf6ed633",
       "value": "<table border=\"1\" class=\"dataframe table table-striped table-hover table-condensed table-responsive\">\n  <thead>\n    <tr style=\"text-align: right;\">\n      <th></th>\n      <th>mxxa2</th>\n    </tr>\n  </thead>\n  <tbody>\n    <tr>\n      <th>met</th>\n      <td>34176.0</td>\n    </tr>\n    <tr>\n      <th>wave</th>\n      <td>0.0</td>\n    </tr>\n    <tr>\n      <th>type</th>\n      <td>fixed</td>\n    </tr>\n    <tr>\n      <th>name</th>\n      <td>MXAK Office, AK</td>\n    </tr>\n    <tr>\n      <th>pgm</th>\n      <td>IOOS Partners</td>\n    </tr>\n  </tbody>\n</table>"
      }
     },
     "f881796acd694279bebd2e7815f8a94d": {
      "model_module": "@jupyter-widgets/base",
      "model_module_version": "1.2.0",
      "model_name": "LayoutModel",
      "state": {}
     },
     "f8950e421bba4702b093b77af3075583": {
      "model_module": "@jupyter-widgets/base",
      "model_module_version": "1.2.0",
      "model_name": "LayoutModel",
      "state": {}
     },
     "f8c4153c822e4673a6e557ca52ecabf2": {
      "model_module": "@jupyter-widgets/controls",
      "model_module_version": "1.5.0",
      "model_name": "HTMLModel",
      "state": {
       "layout": "IPY_MODEL_78c71e67b134445e8446927b0b0a7697",
       "style": "IPY_MODEL_1d72d5457f094c1aba84bde8a191066b",
       "value": "<table border=\"1\" class=\"dataframe table table-striped table-hover table-condensed table-responsive\">\n  <thead>\n    <tr style=\"text-align: right;\">\n      <th></th>\n      <th>44098</th>\n    </tr>\n  </thead>\n  <tbody>\n    <tr>\n      <th>met</th>\n      <td>0.0</td>\n    </tr>\n    <tr>\n      <th>wave</th>\n      <td>11516.0</td>\n    </tr>\n    <tr>\n      <th>type</th>\n      <td>buoy</td>\n    </tr>\n    <tr>\n      <th>name</th>\n      <td>Jeffrey's Ledge, NH (160)</td>\n    </tr>\n    <tr>\n      <th>pgm</th>\n      <td>IOOS Partners</td>\n    </tr>\n  </tbody>\n</table>"
      }
     },
     "f8f706268e034a40824b37b00aa6e175": {
      "model_module": "@jupyter-widgets/base",
      "model_module_version": "1.2.0",
      "model_name": "LayoutModel",
      "state": {}
     },
     "f8ff3c1f7edf4c4eb7d15b9dbbbafc4d": {
      "model_module": "@jupyter-widgets/controls",
      "model_module_version": "1.5.0",
      "model_name": "HTMLModel",
      "state": {
       "layout": "IPY_MODEL_61239cea002b48fe9f26a7a582aa4b04",
       "style": "IPY_MODEL_c9ba3dc147e84554bf14a5cb88456c80",
       "value": "<table border=\"1\" class=\"dataframe table table-striped table-hover table-condensed table-responsive\">\n  <thead>\n    <tr style=\"text-align: right;\">\n      <th></th>\n      <th>mrna2</th>\n    </tr>\n  </thead>\n  <tbody>\n    <tr>\n      <th>met</th>\n      <td>34234.0</td>\n    </tr>\n    <tr>\n      <th>wave</th>\n      <td>0.0</td>\n    </tr>\n    <tr>\n      <th>type</th>\n      <td>fixed</td>\n    </tr>\n    <tr>\n      <th>name</th>\n      <td>Marmion Island, AK</td>\n    </tr>\n    <tr>\n      <th>pgm</th>\n      <td>IOOS Partners</td>\n    </tr>\n  </tbody>\n</table>"
      }
     },
     "f92b21b0295c42a9b45fec9e70775688": {
      "model_module": "@jupyter-widgets/controls",
      "model_module_version": "1.5.0",
      "model_name": "DescriptionStyleModel",
      "state": {
       "description_width": ""
      }
     },
     "f9564f3974be49dbb07b7d5bfc0414bd": {
      "model_module": "jupyter-leaflet",
      "model_module_version": "^0.17.0",
      "model_name": "LeafletMarkerModel",
      "state": {
       "_model_module_version": "^0.17.0",
       "_view_module_version": "^0.17.0",
       "draggable": false,
       "icon": "IPY_MODEL_c328a642aad74285bfc43a76758f8c59",
       "location": [
        27.736,
        -82.686
       ],
       "options": [
        "alt",
        "draggable",
        "keyboard",
        "rise_offset",
        "rise_on_hover",
        "rotation_angle",
        "rotation_origin",
        "title",
        "z_index_offset"
       ],
       "popup": "IPY_MODEL_6475b8ea5129416f8102a8b9281e41ff"
      }
     },
     "f9782e9c9ef0443d95147a4ede191287": {
      "model_module": "jupyter-leaflet",
      "model_module_version": "^0.17.0",
      "model_name": "LeafletAwesomeIconModel",
      "state": {
       "_model_module_version": "^0.17.0",
       "_view_module_version": "^0.17.0",
       "icon_color": "white",
       "marker_color": "orange",
       "name": "life-ring"
      }
     },
     "f9ee2ec228f64c1b9dec9f851816bd76": {
      "model_module": "@jupyter-widgets/controls",
      "model_module_version": "1.5.0",
      "model_name": "HTMLModel",
      "state": {
       "layout": "IPY_MODEL_cf33a899dd6048d4a628a37a7c2386a4",
       "style": "IPY_MODEL_addaf45f58f8494fa384b9b3f4b6356c",
       "value": "<table border=\"1\" class=\"dataframe table table-striped table-hover table-condensed table-responsive\">\n  <thead>\n    <tr style=\"text-align: right;\">\n      <th></th>\n      <th>txpt2</th>\n    </tr>\n  </thead>\n  <tbody>\n    <tr>\n      <th>met</th>\n      <td>58296.0</td>\n    </tr>\n    <tr>\n      <th>wave</th>\n      <td>0.0</td>\n    </tr>\n    <tr>\n      <th>type</th>\n      <td>fixed</td>\n    </tr>\n    <tr>\n      <th>name</th>\n      <td>8770822 - Texas Point, Sabine Pass, TX</td>\n    </tr>\n    <tr>\n      <th>pgm</th>\n      <td>IOOS Partners</td>\n    </tr>\n  </tbody>\n</table>"
      }
     },
     "fa0d89ed8d0a4ba78a34feb2a4e9eb06": {
      "model_module": "@jupyter-widgets/controls",
      "model_module_version": "1.5.0",
      "model_name": "DescriptionStyleModel",
      "state": {
       "description_width": ""
      }
     },
     "fa4555e08879415980146d56f6cd01b6": {
      "model_module": "@jupyter-widgets/controls",
      "model_module_version": "1.5.0",
      "model_name": "DescriptionStyleModel",
      "state": {
       "description_width": ""
      }
     },
     "fa8c9b77599846e3a772045b2732fe50": {
      "model_module": "@jupyter-widgets/base",
      "model_module_version": "1.2.0",
      "model_name": "LayoutModel",
      "state": {}
     },
     "fac41b2f4e764b698d65dd4e33c6d072": {
      "model_module": "jupyter-leaflet",
      "model_module_version": "^0.15.0",
      "model_name": "LeafletMarkerModel",
      "state": {
       "_model_module_version": "^0.15.0",
       "_view_module_version": "^0.15.0",
       "draggable": false,
       "icon": "IPY_MODEL_8aeb09b637b34d1d91e6ba79776d69a4",
       "location": [
        55.446,
        -131.881
       ],
       "options": [
        "alt",
        "draggable",
        "keyboard",
        "rise_offset",
        "rise_on_hover",
        "rotation_angle",
        "rotation_origin",
        "title",
        "z_index_offset"
       ],
       "popup": "IPY_MODEL_21cd40843bde45d18c70e904f756e328"
      }
     },
     "facc550176f34678aeca55af05a671bb": {
      "model_module": "jupyter-leaflet",
      "model_module_version": "^0.17.0",
      "model_name": "LeafletAwesomeIconModel",
      "state": {
       "_model_module_version": "^0.17.0",
       "_view_module_version": "^0.17.0",
       "icon_color": "white",
       "marker_color": "orange",
       "name": "life-ring"
      }
     },
     "faf3ecfae26d44fbb0b5d70600d935b0": {
      "model_module": "jupyter-leaflet",
      "model_module_version": "^0.17.0",
      "model_name": "LeafletMarkerModel",
      "state": {
       "_model_module_version": "^0.17.0",
       "_view_module_version": "^0.17.0",
       "draggable": false,
       "icon": "IPY_MODEL_67aec45ff33d43d68f2f3f2893e40dd7",
       "location": [
        18.261,
        -65.464
       ],
       "options": [
        "alt",
        "draggable",
        "keyboard",
        "rise_offset",
        "rise_on_hover",
        "rotation_angle",
        "rotation_origin",
        "title",
        "z_index_offset"
       ],
       "popup": "IPY_MODEL_4093822f092d496a9cb8b18410ad2108"
      }
     },
     "fb034728605f43209492d2334b923794": {
      "model_module": "jupyter-leaflet",
      "model_module_version": "^0.15.0",
      "model_name": "LeafletAwesomeIconModel",
      "state": {
       "_model_module_version": "^0.15.0",
       "_view_module_version": "^0.15.0",
       "icon_color": "white",
       "marker_color": "green",
       "name": "life-ring"
      }
     },
     "fb168ccdbf96425ba981d3897c3f3302": {
      "model_module": "@jupyter-widgets/controls",
      "model_module_version": "1.5.0",
      "model_name": "DescriptionStyleModel",
      "state": {
       "description_width": ""
      }
     },
     "fb16ffb7051e448280d2724ef31ac5ed": {
      "model_module": "jupyter-leaflet",
      "model_module_version": "^0.17.0",
      "model_name": "LeafletAwesomeIconModel",
      "state": {
       "_model_module_version": "^0.17.0",
       "_view_module_version": "^0.17.0",
       "icon_color": "white",
       "marker_color": "orange",
       "name": "life-ring"
      }
     },
     "fb387577feec4b2e9eec7dc0b2ccafd2": {
      "model_module": "@jupyter-widgets/base",
      "model_module_version": "1.2.0",
      "model_name": "LayoutModel",
      "state": {}
     },
     "fb625e5179f44a44b44d34a94ec98ef0": {
      "model_module": "@jupyter-widgets/base",
      "model_module_version": "1.2.0",
      "model_name": "LayoutModel",
      "state": {}
     },
     "fb8199a049cb47aab35b056698059c29": {
      "model_module": "jupyter-leaflet",
      "model_module_version": "^0.17.0",
      "model_name": "LeafletAwesomeIconModel",
      "state": {
       "_model_module_version": "^0.17.0",
       "_view_module_version": "^0.17.0",
       "icon_color": "white",
       "marker_color": "orange",
       "name": "life-ring"
      }
     },
     "fc0d5c5350c84d57b4212d6b22880ead": {
      "model_module": "@jupyter-widgets/controls",
      "model_module_version": "1.5.0",
      "model_name": "DescriptionStyleModel",
      "state": {
       "description_width": ""
      }
     },
     "fc1d70a088554f5db5e5b3d5902c47f5": {
      "model_module": "jupyter-leaflet",
      "model_module_version": "^0.17.0",
      "model_name": "LeafletMarkerModel",
      "state": {
       "_model_module_version": "^0.17.0",
       "_view_module_version": "^0.17.0",
       "draggable": false,
       "icon": "IPY_MODEL_6eb3f7a880a44a10bfacddd12d85a181",
       "location": [
        30.329,
        -87.829
       ],
       "options": [
        "alt",
        "draggable",
        "keyboard",
        "rise_offset",
        "rise_on_hover",
        "rotation_angle",
        "rotation_origin",
        "title",
        "z_index_offset"
       ],
       "popup": "IPY_MODEL_8677f5f2fc44415f9aca77d7469460d4"
      }
     },
     "fc23c621f1fc42a795ed8a979fbdd950": {
      "model_module": "jupyter-leaflet",
      "model_module_version": "^0.17.0",
      "model_name": "LeafletAwesomeIconModel",
      "state": {
       "_model_module_version": "^0.17.0",
       "_view_module_version": "^0.17.0",
       "icon_color": "white",
       "marker_color": "orange",
       "name": "life-ring"
      }
     },
     "fc9954a0f6be41299cfe68859b9a17dc": {
      "model_module": "jupyter-leaflet",
      "model_module_version": "^0.17.0",
      "model_name": "LeafletAttributionControlModel",
      "state": {
       "_model_module_version": "^0.17.0",
       "_view_module_version": "^0.17.0",
       "options": [
        "position",
        "prefix"
       ],
       "position": "bottomright",
       "prefix": "ipyleaflet"
      }
     },
     "fcadadae900146c6998b95554cf79d81": {
      "model_module": "jupyter-leaflet",
      "model_module_version": "^0.15.0",
      "model_name": "LeafletMarkerModel",
      "state": {
       "_model_module_version": "^0.15.0",
       "_view_module_version": "^0.15.0",
       "draggable": false,
       "icon": "IPY_MODEL_a6067c4c56a54032b1760e703056bc64",
       "location": [
        45.825,
        -84.772
       ],
       "options": [
        "alt",
        "draggable",
        "keyboard",
        "rise_offset",
        "rise_on_hover",
        "rotation_angle",
        "rotation_origin",
        "title",
        "z_index_offset"
       ],
       "popup": "IPY_MODEL_f3cf8c8f93e4492dba5cd3f3a14eee66"
      }
     },
     "fcc352450af643ae94fd721c11d8ef24": {
      "model_module": "jupyter-leaflet",
      "model_module_version": "^0.17.0",
      "model_name": "LeafletMarkerModel",
      "state": {
       "_model_module_version": "^0.17.0",
       "_view_module_version": "^0.17.0",
       "draggable": false,
       "icon": "IPY_MODEL_f56ccaecc2e146c68aa34148445a06c2",
       "location": [
        29.867,
        -93.931
       ],
       "options": [
        "alt",
        "draggable",
        "keyboard",
        "rise_offset",
        "rise_on_hover",
        "rotation_angle",
        "rotation_origin",
        "title",
        "z_index_offset"
       ],
       "popup": "IPY_MODEL_ce93fb95f37746b9874a137b419b5639"
      }
     },
     "fcc43c7749c1462995d092c1fadcf4ad": {
      "model_module": "jupyter-leaflet",
      "model_module_version": "^0.17.0",
      "model_name": "LeafletMarkerModel",
      "state": {
       "_model_module_version": "^0.17.0",
       "_view_module_version": "^0.17.0",
       "draggable": false,
       "icon": "IPY_MODEL_6ee691c149eb4e029991eda107c9b027",
       "location": [
        34.141,
        -77.715
       ],
       "options": [
        "alt",
        "draggable",
        "keyboard",
        "rise_offset",
        "rise_on_hover",
        "rotation_angle",
        "rotation_origin",
        "title",
        "z_index_offset"
       ],
       "popup": "IPY_MODEL_81d4fb5f23364d6d921e1dadd0088c7e"
      }
     },
     "fcf06edc960a44b0aa5a1ac5f40522fb": {
      "model_module": "@jupyter-widgets/base",
      "model_module_version": "1.2.0",
      "model_name": "LayoutModel",
      "state": {}
     },
     "fd407e7b75904f28b2f2be9c3d3fd9bc": {
      "model_module": "@jupyter-widgets/controls",
      "model_module_version": "1.5.0",
      "model_name": "DescriptionStyleModel",
      "state": {
       "description_width": ""
      }
     },
     "fd8fd455cb684ab4b6b3c0f7315ba07e": {
      "model_module": "@jupyter-widgets/base",
      "model_module_version": "1.2.0",
      "model_name": "LayoutModel",
      "state": {}
     },
     "fdedce85aab6406ab6da4c67dabb38ef": {
      "model_module": "@jupyter-widgets/controls",
      "model_module_version": "1.5.0",
      "model_name": "HTMLModel",
      "state": {
       "layout": "IPY_MODEL_8c4b2d31bd054d139555fc612729d83c",
       "style": "IPY_MODEL_ba6f5253cc014cdf82f28861ceeb67bc",
       "value": "<table border=\"1\" class=\"dataframe table table-striped table-hover table-condensed table-responsive\">\n  <thead>\n    <tr style=\"text-align: right;\">\n      <th></th>\n      <th>41064</th>\n    </tr>\n  </thead>\n  <tbody>\n    <tr>\n      <th>met</th>\n      <td>5846.0</td>\n    </tr>\n    <tr>\n      <th>wave</th>\n      <td>0.0</td>\n    </tr>\n    <tr>\n      <th>type</th>\n      <td>buoy</td>\n    </tr>\n    <tr>\n      <th>name</th>\n      <td>Onslow Bay Outer, NC (LEJ3)</td>\n    </tr>\n    <tr>\n      <th>pgm</th>\n      <td>IOOS Partners</td>\n    </tr>\n  </tbody>\n</table>"
      }
     },
     "fe109d40033242aa8a5be6a0526a0382": {
      "model_module": "@jupyter-widgets/controls",
      "model_module_version": "1.5.0",
      "model_name": "DescriptionStyleModel",
      "state": {
       "description_width": ""
      }
     },
     "fe68674d30c2408e83c1e5953cf5e853": {
      "model_module": "@jupyter-widgets/base",
      "model_module_version": "1.2.0",
      "model_name": "LayoutModel",
      "state": {}
     },
     "fe6b33e84b124b3dbcdb347ae954e2ee": {
      "model_module": "jupyter-leaflet",
      "model_module_version": "^0.15.0",
      "model_name": "LeafletAwesomeIconModel",
      "state": {
       "_model_module_version": "^0.15.0",
       "_view_module_version": "^0.15.0",
       "icon_color": "white",
       "marker_color": "red",
       "name": "life-ring"
      }
     },
     "fec6499df22d41ff996115d2e7aaa011": {
      "model_module": "@jupyter-widgets/base",
      "model_module_version": "1.2.0",
      "model_name": "LayoutModel",
      "state": {}
     },
     "ff2c3b20f2294ebcba9f3a3fe9be83f3": {
      "model_module": "@jupyter-widgets/controls",
      "model_module_version": "1.5.0",
      "model_name": "DescriptionStyleModel",
      "state": {
       "description_width": ""
      }
     },
     "ff2e5501f63f4ba1962638d1117d87dc": {
      "model_module": "@jupyter-widgets/controls",
      "model_module_version": "1.5.0",
      "model_name": "DescriptionStyleModel",
      "state": {
       "description_width": ""
      }
     },
     "ff7718898e0a4da2847583e5b8b0974d": {
      "model_module": "@jupyter-widgets/controls",
      "model_module_version": "1.5.0",
      "model_name": "DescriptionStyleModel",
      "state": {
       "description_width": ""
      }
     },
     "ff794da362ca4865a462ec0decc81d91": {
      "model_module": "jupyter-leaflet",
      "model_module_version": "^0.17.0",
      "model_name": "LeafletAwesomeIconModel",
      "state": {
       "_model_module_version": "^0.17.0",
       "_view_module_version": "^0.17.0",
       "icon_color": "white",
       "marker_color": "red",
       "name": "life-ring"
      }
     },
     "ffe2d148b0cf4a7a8d8c5d5348d85ccf": {
      "model_module": "jupyter-leaflet",
      "model_module_version": "^0.15.0",
      "model_name": "LeafletMarkerModel",
      "state": {
       "_model_module_version": "^0.15.0",
       "_view_module_version": "^0.15.0",
       "draggable": false,
       "icon": "IPY_MODEL_bdeb13bfa1314d84be6e562b08751b2c",
       "location": [
        42.185,
        -80.135
       ],
       "options": [
        "alt",
        "draggable",
        "keyboard",
        "rise_offset",
        "rise_on_hover",
        "rotation_angle",
        "rotation_origin",
        "title",
        "z_index_offset"
       ],
       "popup": "IPY_MODEL_17a162b2641248ffb73b716833812fcd"
      }
     }
    },
    "version_major": 2,
    "version_minor": 0
   }
  }
 },
 "nbformat": 4,
 "nbformat_minor": 1
}
