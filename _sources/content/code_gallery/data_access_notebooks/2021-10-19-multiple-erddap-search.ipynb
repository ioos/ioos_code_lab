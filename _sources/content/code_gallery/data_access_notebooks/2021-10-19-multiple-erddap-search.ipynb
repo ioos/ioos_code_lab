{
 "cells": [
  {
   "cell_type": "code",
   "execution_count": 1,
   "metadata": {
    "tags": [
     "remove-cell"
    ]
   },
   "outputs": [],
   "source": [
    "import subprocess\n",
    "import sys\n",
    "\n",
    "COLAB = \"google.colab\" in sys.modules\n",
    "\n",
    "\n",
    "def _install(package):\n",
    "    if COLAB:\n",
    "        ans = input(f\"Install { package }? [y/n]:\")\n",
    "        if ans.lower() in [\"y\", \"yes\"]:\n",
    "            subprocess.check_call(\n",
    "                [sys.executable, \"-m\", \"pip\", \"install\", \"--quiet\", package]\n",
    "            )\n",
    "            print(f\"{ package } installed!\")\n",
    "\n",
    "\n",
    "def _colab_install_missing_deps(deps):\n",
    "    import importlib\n",
    "\n",
    "    for dep in deps:\n",
    "        if importlib.util.find_spec(dep) is None:\n",
    "            if dep == \"iris\":\n",
    "                dep = \"scitools-iris\"\n",
    "            _install(dep)\n",
    "\n",
    "\n",
    "deps = [\"erddapy\", \"ipyleaflet\", \"seawater\"]\n",
    "_colab_install_missing_deps(deps)"
   ]
  },
  {
   "cell_type": "markdown",
   "metadata": {},
   "source": [
    "# Searching multiple ERDDAP servers\n",
    "\n",
    "Created: 2021-10-19\n",
    "\n",
    "The latest erddapy module release (v1.2.0) added a multiple servers search similar to the web one implemented in\n",
    "[https://mathewbiddle.github.io/search-erddaps](https://mathewbiddle.github.io/search-erddaps).\n",
    "The Python interface allow the user to mix powerful variable handling and visualization with the query results.\n",
    "\n",
    "Let us explore an example\n",
    "[based on this](https://nbviewer.org/gist/rsignell-usgs/f2be18f9db07a3c2970d88576cd62b57)\n",
    "Rich Signell's gist where we search for salinity time-series data in a specific region and time span."
   ]
  },
  {
   "cell_type": "code",
   "execution_count": 2,
   "metadata": {},
   "outputs": [],
   "source": [
    "min_time = \"2017-07-01T00:00:00Z\"\n",
    "max_time = \"2017-09-01T00:00:00Z\"\n",
    "min_lon, max_lon = -127, -123.75\n",
    "min_lat, max_lat = 43, 48\n",
    "standard_name = \"sea_water_practical_salinity\"\n",
    "\n",
    "\n",
    "kw = {\n",
    "    \"standard_name\": standard_name,\n",
    "    \"min_lon\": min_lon,\n",
    "    \"max_lon\": max_lon,\n",
    "    \"min_lat\": min_lat,\n",
    "    \"max_lat\": max_lat,\n",
    "    \"min_time\": min_time,\n",
    "    \"max_time\": max_time,\n",
    "    \"cdm_data_type\": \"timeseries\",\n",
    "}\n",
    "\n",
    "\n",
    "servers = {\n",
    "    \"ooi\": \"https://erddap.dataexplorer.oceanobservatories.org/erddap/\",\n",
    "    \"ioos\": \"https://erddap.sensors.ioos.us/erddap/\",\n",
    "}"
   ]
  },
  {
   "cell_type": "markdown",
   "metadata": {},
   "source": [
    "We will restrict the search to two servers, IOOS sensors and OOI Data Explorer. If one leaves the `server_list` empty the search will iterate all servers listed in the\n",
    "[Awesome ERDDAP list](https://github.com/IrishMarineInstitute/awesome-erddap)."
   ]
  },
  {
   "cell_type": "code",
   "execution_count": 3,
   "metadata": {},
   "outputs": [
    {
     "data": {
      "text/html": [
       "<div>\n",
       "<style scoped>\n",
       "    .dataframe tbody tr th:only-of-type {\n",
       "        vertical-align: middle;\n",
       "    }\n",
       "\n",
       "    .dataframe tbody tr th {\n",
       "        vertical-align: top;\n",
       "    }\n",
       "\n",
       "    .dataframe thead th {\n",
       "        text-align: right;\n",
       "    }\n",
       "</style>\n",
       "<table border=\"1\" class=\"dataframe\">\n",
       "  <thead>\n",
       "    <tr style=\"text-align: right;\">\n",
       "      <th></th>\n",
       "      <th>Title</th>\n",
       "      <th>Institution</th>\n",
       "      <th>Dataset ID</th>\n",
       "      <th>Server url</th>\n",
       "    </tr>\n",
       "  </thead>\n",
       "  <tbody>\n",
       "    <tr>\n",
       "      <th>0</th>\n",
       "      <td>Coastal Endurance: Oregon Inshore Surface Moor...</td>\n",
       "      <td>Ocean Observatories Initiative (OOI)</td>\n",
       "      <td>ooi-ce01issm-rid16-02-flortd000</td>\n",
       "      <td>https://erddap.dataexplorer.oceanobservatories...</td>\n",
       "    </tr>\n",
       "    <tr>\n",
       "      <th>1</th>\n",
       "      <td>Coastal Endurance: Oregon Inshore Surface Moor...</td>\n",
       "      <td>Ocean Observatories Initiative (OOI)</td>\n",
       "      <td>ooi-ce01issm-rid16-03-ctdbpc000</td>\n",
       "      <td>https://erddap.dataexplorer.oceanobservatories...</td>\n",
       "    </tr>\n",
       "    <tr>\n",
       "      <th>2</th>\n",
       "      <td>Coastal Endurance: Oregon Inshore Surface Moor...</td>\n",
       "      <td>Ocean Observatories Initiative (OOI)</td>\n",
       "      <td>ooi-ce01issm-rid16-03-dostad000</td>\n",
       "      <td>https://erddap.dataexplorer.oceanobservatories...</td>\n",
       "    </tr>\n",
       "    <tr>\n",
       "      <th>3</th>\n",
       "      <td>Coastal Endurance: Oregon Inshore Surface Moor...</td>\n",
       "      <td>Ocean Observatories Initiative (OOI)</td>\n",
       "      <td>ooi-ce01issm-rid16-07-nutnrb000</td>\n",
       "      <td>https://erddap.dataexplorer.oceanobservatories...</td>\n",
       "    </tr>\n",
       "    <tr>\n",
       "      <th>4</th>\n",
       "      <td>Coastal Endurance: Oregon Inshore Surface Moor...</td>\n",
       "      <td>Ocean Observatories Initiative (OOI)</td>\n",
       "      <td>ooi-ce01issm-rid16-06-phsend000</td>\n",
       "      <td>https://erddap.dataexplorer.oceanobservatories...</td>\n",
       "    </tr>\n",
       "  </tbody>\n",
       "</table>\n",
       "</div>"
      ],
      "text/plain": [
       "                                               Title  \\\n",
       "0  Coastal Endurance: Oregon Inshore Surface Moor...   \n",
       "1  Coastal Endurance: Oregon Inshore Surface Moor...   \n",
       "2  Coastal Endurance: Oregon Inshore Surface Moor...   \n",
       "3  Coastal Endurance: Oregon Inshore Surface Moor...   \n",
       "4  Coastal Endurance: Oregon Inshore Surface Moor...   \n",
       "\n",
       "                            Institution                       Dataset ID  \\\n",
       "0  Ocean Observatories Initiative (OOI)  ooi-ce01issm-rid16-02-flortd000   \n",
       "1  Ocean Observatories Initiative (OOI)  ooi-ce01issm-rid16-03-ctdbpc000   \n",
       "2  Ocean Observatories Initiative (OOI)  ooi-ce01issm-rid16-03-dostad000   \n",
       "3  Ocean Observatories Initiative (OOI)  ooi-ce01issm-rid16-07-nutnrb000   \n",
       "4  Ocean Observatories Initiative (OOI)  ooi-ce01issm-rid16-06-phsend000   \n",
       "\n",
       "                                          Server url  \n",
       "0  https://erddap.dataexplorer.oceanobservatories...  \n",
       "1  https://erddap.dataexplorer.oceanobservatories...  \n",
       "2  https://erddap.dataexplorer.oceanobservatories...  \n",
       "3  https://erddap.dataexplorer.oceanobservatories...  \n",
       "4  https://erddap.dataexplorer.oceanobservatories...  "
      ]
     },
     "execution_count": 3,
     "metadata": {},
     "output_type": "execute_result"
    }
   ],
   "source": [
    "from erddapy.multiple_server_search import advanced_search_servers\n",
    "\n",
    "df = advanced_search_servers(servers_list=servers.values(), **kw)\n",
    "\n",
    "df.head()"
   ]
  },
  {
   "cell_type": "markdown",
   "metadata": {},
   "source": [
    "Now that we have a list of dataset_ids we can iterate and get their positions to create a map.\n",
    "The functions below will create a download URL for the longitude and latitude and request the data as a pandas dataframe."
   ]
  },
  {
   "cell_type": "code",
   "execution_count": 4,
   "metadata": {},
   "outputs": [],
   "source": [
    "import pandas as pd\n",
    "from erddapy import ERDDAP\n",
    "\n",
    "kw = {\n",
    "    \"longitude>=\": min_lon,\n",
    "    \"longitude<=\": max_lon,\n",
    "    \"latitude>=\": min_lat,\n",
    "    \"latitude<=\": max_lat,\n",
    "    \"time>=\": min_time,\n",
    "    \"time<=\": max_time,\n",
    "}\n",
    "\n",
    "\n",
    "def download_url(server, dataset_id):\n",
    "    e = ERDDAP(server, protocol=\"tabledap\")\n",
    "    url = e.get_download_url(\n",
    "        dataset_id=dataset_id,\n",
    "        response=\"csvp\",\n",
    "        variables=[\"longitude\", \"latitude\"],\n",
    "        constraints=kw,\n",
    "        distinct=True,\n",
    "    )\n",
    "    return url\n",
    "\n",
    "\n",
    "def request_positions(download_url):\n",
    "    df = pd.read_csv(download_url)\n",
    "    return df.values.squeeze().tolist()"
   ]
  },
  {
   "cell_type": "markdown",
   "metadata": {},
   "source": [
    "Now we can iterate all the dataset ids we found. That is a slow operation depending on the number of datasets and it is good practice to save/cache the results to re-use them later. That will not only save us some time but it is also appreciated by the data providers maintaining the servers."
   ]
  },
  {
   "cell_type": "code",
   "execution_count": 5,
   "metadata": {},
   "outputs": [
    {
     "data": {
      "application/vnd.jupyter.widget-view+json": {
       "model_id": "ea07df212f06441198880ad90124cb56",
       "version_major": 2,
       "version_minor": 0
      },
      "text/plain": [
       "0it [00:00, ?it/s]"
      ]
     },
     "metadata": {},
     "output_type": "display_data"
    }
   ],
   "source": [
    "import pickle\n",
    "from pathlib import Path\n",
    "from urllib.error import HTTPError\n",
    "\n",
    "import numpy as np\n",
    "from tqdm.notebook import tqdm\n",
    "\n",
    "path = Path(\"positions.p\")\n",
    "\n",
    "if not path.exists():\n",
    "    positions = []\n",
    "    for idx, row in tqdm(df.iterrows()):\n",
    "        try:\n",
    "            url = download_url(row[\"Server url\"], row[\"Dataset ID\"])\n",
    "            pos = request_positions(url)\n",
    "        except HTTPError:\n",
    "            pos = [np.nan, np.nan]\n",
    "        positions.append(pos)\n",
    "    with open(path, \"wb\") as f:\n",
    "        pickle.dump(positions, f)\n",
    "else:\n",
    "    with open(path, \"rb\") as f:\n",
    "        positions = pickle.load(f)"
   ]
  },
  {
   "cell_type": "code",
   "execution_count": 6,
   "metadata": {},
   "outputs": [],
   "source": [
    "df.loc[:, \"lon\"] = np.array(positions)[:, 0]\n",
    "df.loc[:, \"lat\"] = np.array(positions)[:, 1]\n",
    "\n",
    "df.dropna(inplace=True)\n",
    "\n",
    "df_ioos = df.loc[df[\"Server url\"] == servers[\"ioos\"]]\n",
    "df_ooi = df.loc[df[\"Server url\"] == servers[\"ooi\"]]"
   ]
  },
  {
   "cell_type": "code",
   "execution_count": 7,
   "metadata": {},
   "outputs": [],
   "source": [
    "from ipyleaflet import (\n",
    "    AwesomeIcon,\n",
    "    FullScreenControl,\n",
    "    LegendControl,\n",
    "    Map,\n",
    "    Marker,\n",
    "    Rectangle,\n",
    ")\n",
    "from ipywidgets import HTML\n",
    "\n",
    "colors = {\n",
    "    \"IOOS\": \"blue\",\n",
    "    \"OOI\": \"orange\",\n",
    "}\n",
    "\n",
    "\n",
    "legend = LegendControl(\n",
    "    colors,\n",
    "    name=\"Dataset locations\",\n",
    "    position=\"bottomright\",\n",
    ")\n",
    "\n",
    "\n",
    "def make_popup(row):\n",
    "    classes = \"table table-striped table-hover table-condensed table-responsive\"\n",
    "    return pd.DataFrame(row[[\"Institution\", \"Dataset ID\"]]).to_html(classes=classes)"
   ]
  },
  {
   "cell_type": "code",
   "execution_count": 8,
   "metadata": {},
   "outputs": [],
   "source": [
    "m = Map(center=((min_lat + max_lat) / 2, (min_lon + max_lon) / 2), zoom=6)\n",
    "m.add_control(FullScreenControl())\n",
    "m.add_control(legend)\n",
    "\n",
    "rectangle = Rectangle(\n",
    "    bounds=((min_lat, min_lon), (max_lat, max_lon)),\n",
    "    color=\"red\",\n",
    "    fill=False,\n",
    ")\n",
    "m.add_layer(rectangle)"
   ]
  },
  {
   "cell_type": "code",
   "execution_count": 9,
   "metadata": {},
   "outputs": [],
   "source": [
    "# IOOS\n",
    "for k, row in df_ioos.iterrows():\n",
    "    marker = Marker(\n",
    "        icon=AwesomeIcon(name=\"life-ring\", marker_color=colors[\"IOOS\"]),\n",
    "        location=(row[\"lat\"], row[\"lon\"]),\n",
    "    )\n",
    "    msg = HTML()\n",
    "    msg.value = make_popup(row)\n",
    "    marker.popup = msg\n",
    "    m.add_layer(marker)"
   ]
  },
  {
   "cell_type": "code",
   "execution_count": 10,
   "metadata": {},
   "outputs": [],
   "source": [
    "# OOI\n",
    "for k, row in df_ooi.iterrows():\n",
    "    marker = Marker(\n",
    "        icon=AwesomeIcon(name=\"life-ring\", marker_color=colors[\"OOI\"]),\n",
    "        location=(row[\"lat\"], row[\"lon\"]),\n",
    "    )\n",
    "    msg = HTML()\n",
    "    msg.value = make_popup(row)\n",
    "    marker.popup = msg\n",
    "    m.add_layer(marker)"
   ]
  },
  {
   "cell_type": "code",
   "execution_count": 11,
   "metadata": {},
   "outputs": [
    {
     "data": {
      "application/vnd.jupyter.widget-view+json": {
       "model_id": "8c6db1b618f4498a878b276df2e259ef",
       "version_major": 2,
       "version_minor": 0
      },
      "text/plain": [
       "Map(center=[45.5, -125.375], controls=(ZoomControl(options=['position', 'zoom_in_text', 'zoom_in_title', 'zoom…"
      ]
     },
     "execution_count": 11,
     "metadata": {},
     "output_type": "execute_result"
    }
   ],
   "source": [
    "m"
   ]
  },
  {
   "cell_type": "markdown",
   "metadata": {},
   "source": [
    "User may also look for data that are located near to each other for sensor comparison or calibration.\n",
    "The nested loop below is a simple way to find the stations that are nearest to each other starting from a 1 km distance."
   ]
  },
  {
   "cell_type": "code",
   "execution_count": 12,
   "metadata": {},
   "outputs": [
    {
     "name": "stderr",
     "output_type": "stream",
     "text": [
      "/tmp/ipykernel_97295/2922289694.py:1: UserWarning: The seawater library is deprecated! Please use gsw instead.\n",
      "  import seawater as sw\n"
     ]
    }
   ],
   "source": [
    "import seawater as sw\n",
    "\n",
    "dist = 1e3\n",
    "for k_i, (lon_i, lat_i) in df_ioos[[\"lon\", \"lat\"]].iterrows():\n",
    "    for k_o, (lon_o, lat_o) in df_ooi[[\"lon\", \"lat\"]].iterrows():\n",
    "        lats = lat_i, lat_o\n",
    "        lons = lon_i, lon_o\n",
    "        new_dist, angle = sw.dist(lats, lons)\n",
    "        if new_dist < dist:\n",
    "            dist = new_dist\n",
    "            ki, ko = k_i, k_o"
   ]
  },
  {
   "cell_type": "code",
   "execution_count": 13,
   "metadata": {},
   "outputs": [
    {
     "name": "stdout",
     "output_type": "stream",
     "text": [
      "The stations closest (42.05 km) to each other are:\n"
     ]
    }
   ],
   "source": [
    "print(f\"The stations closest ({dist.squeeze():.2f} km) to each other are:\")"
   ]
  },
  {
   "cell_type": "code",
   "execution_count": 14,
   "metadata": {},
   "outputs": [
    {
     "data": {
      "text/plain": [
       "Title                   Cape Elizabeth, WA, Historic MAPCO2\n",
       "Institution    NOAA Pacific Marine Environmental Lab (PMEL)\n",
       "Dataset ID                       gov_ornl_cdiac_wa_125w_47n\n",
       "Server url           https://erddap.sensors.ioos.us/erddap/\n",
       "lon                                                 -124.73\n",
       "lat                                                   47.35\n",
       "Name: 70, dtype: object"
      ]
     },
     "execution_count": 14,
     "metadata": {},
     "output_type": "execute_result"
    }
   ],
   "source": [
    "df.loc[ki]"
   ]
  },
  {
   "cell_type": "code",
   "execution_count": 15,
   "metadata": {},
   "outputs": [
    {
     "data": {
      "text/plain": [
       "Title          Coastal Endurance: Washington Shelf Surface Mo...\n",
       "Institution                 Ocean Observatories Initiative (OOI)\n",
       "Dataset ID                       ooi-ce07shsm-rid27-02-flortd000\n",
       "Server url     https://erddap.dataexplorer.oceanobservatories...\n",
       "lon                                                   -124.56771\n",
       "lat                                                     46.98805\n",
       "Name: 53, dtype: object"
      ]
     },
     "execution_count": 15,
     "metadata": {},
     "output_type": "execute_result"
    }
   ],
   "source": [
    "df.loc[ko]"
   ]
  },
  {
   "cell_type": "code",
   "execution_count": 16,
   "metadata": {},
   "outputs": [],
   "source": [
    "def download_salinity(server, dataset_id):\n",
    "    print(f\"Downloading {dataset_id=}.\")\n",
    "    e = ERDDAP(server, protocol=\"tabledap\")\n",
    "    e.dataset_id = dataset_id\n",
    "    e.constraints = {\"time>=\": min_time, \"time<=\": max_time}\n",
    "    e.response = \"csv\"\n",
    "    e.variables = [\n",
    "        \"time\",\n",
    "        e.get_var_by_attr(dataset_id=dataset_id, standard_name=standard_name)[0],\n",
    "    ]\n",
    "\n",
    "    col = \"time (UTC)\"\n",
    "    return e.to_pandas(parse_dates=[col], index_col=col)"
   ]
  },
  {
   "cell_type": "code",
   "execution_count": 17,
   "metadata": {},
   "outputs": [
    {
     "name": "stdout",
     "output_type": "stream",
     "text": [
      "Downloading dataset_id='gov_ornl_cdiac_wa_125w_47n'.\n"
     ]
    }
   ],
   "source": [
    "dataset_id = df.loc[ki][\"Dataset ID\"]\n",
    "\n",
    "sal_ioos = download_salinity(servers[\"ioos\"], dataset_id)"
   ]
  },
  {
   "cell_type": "code",
   "execution_count": 18,
   "metadata": {},
   "outputs": [
    {
     "name": "stdout",
     "output_type": "stream",
     "text": [
      "Downloading dataset_id='ooi-ce07shsm-rid27-02-flortd000'.\n"
     ]
    }
   ],
   "source": [
    "dataset_id = df.loc[ko][\"Dataset ID\"]\n",
    "\n",
    "sal_ooi = download_salinity(servers[\"ooi\"], dataset_id)"
   ]
  },
  {
   "cell_type": "code",
   "execution_count": 19,
   "metadata": {},
   "outputs": [
    {
     "data": {
      "application/javascript": [
       "/* Put everything inside the global mpl namespace */\n",
       "/* global mpl */\n",
       "window.mpl = {};\n",
       "\n",
       "mpl.get_websocket_type = function () {\n",
       "    if (typeof WebSocket !== 'undefined') {\n",
       "        return WebSocket;\n",
       "    } else if (typeof MozWebSocket !== 'undefined') {\n",
       "        return MozWebSocket;\n",
       "    } else {\n",
       "        alert(\n",
       "            'Your browser does not have WebSocket support. ' +\n",
       "                'Please try Chrome, Safari or Firefox ≥ 6. ' +\n",
       "                'Firefox 4 and 5 are also supported but you ' +\n",
       "                'have to enable WebSockets in about:config.'\n",
       "        );\n",
       "    }\n",
       "};\n",
       "\n",
       "mpl.figure = function (figure_id, websocket, ondownload, parent_element) {\n",
       "    this.id = figure_id;\n",
       "\n",
       "    this.ws = websocket;\n",
       "\n",
       "    this.supports_binary = this.ws.binaryType !== undefined;\n",
       "\n",
       "    if (!this.supports_binary) {\n",
       "        var warnings = document.getElementById('mpl-warnings');\n",
       "        if (warnings) {\n",
       "            warnings.style.display = 'block';\n",
       "            warnings.textContent =\n",
       "                'This browser does not support binary websocket messages. ' +\n",
       "                'Performance may be slow.';\n",
       "        }\n",
       "    }\n",
       "\n",
       "    this.imageObj = new Image();\n",
       "\n",
       "    this.context = undefined;\n",
       "    this.message = undefined;\n",
       "    this.canvas = undefined;\n",
       "    this.rubberband_canvas = undefined;\n",
       "    this.rubberband_context = undefined;\n",
       "    this.format_dropdown = undefined;\n",
       "\n",
       "    this.image_mode = 'full';\n",
       "\n",
       "    this.root = document.createElement('div');\n",
       "    this.root.setAttribute('style', 'display: inline-block');\n",
       "    this._root_extra_style(this.root);\n",
       "\n",
       "    parent_element.appendChild(this.root);\n",
       "\n",
       "    this._init_header(this);\n",
       "    this._init_canvas(this);\n",
       "    this._init_toolbar(this);\n",
       "\n",
       "    var fig = this;\n",
       "\n",
       "    this.waiting = false;\n",
       "\n",
       "    this.ws.onopen = function () {\n",
       "        fig.send_message('supports_binary', { value: fig.supports_binary });\n",
       "        fig.send_message('send_image_mode', {});\n",
       "        if (fig.ratio !== 1) {\n",
       "            fig.send_message('set_device_pixel_ratio', {\n",
       "                device_pixel_ratio: fig.ratio,\n",
       "            });\n",
       "        }\n",
       "        fig.send_message('refresh', {});\n",
       "    };\n",
       "\n",
       "    this.imageObj.onload = function () {\n",
       "        if (fig.image_mode === 'full') {\n",
       "            // Full images could contain transparency (where diff images\n",
       "            // almost always do), so we need to clear the canvas so that\n",
       "            // there is no ghosting.\n",
       "            fig.context.clearRect(0, 0, fig.canvas.width, fig.canvas.height);\n",
       "        }\n",
       "        fig.context.drawImage(fig.imageObj, 0, 0);\n",
       "    };\n",
       "\n",
       "    this.imageObj.onunload = function () {\n",
       "        fig.ws.close();\n",
       "    };\n",
       "\n",
       "    this.ws.onmessage = this._make_on_message_function(this);\n",
       "\n",
       "    this.ondownload = ondownload;\n",
       "};\n",
       "\n",
       "mpl.figure.prototype._init_header = function () {\n",
       "    var titlebar = document.createElement('div');\n",
       "    titlebar.classList =\n",
       "        'ui-dialog-titlebar ui-widget-header ui-corner-all ui-helper-clearfix';\n",
       "    var titletext = document.createElement('div');\n",
       "    titletext.classList = 'ui-dialog-title';\n",
       "    titletext.setAttribute(\n",
       "        'style',\n",
       "        'width: 100%; text-align: center; padding: 3px;'\n",
       "    );\n",
       "    titlebar.appendChild(titletext);\n",
       "    this.root.appendChild(titlebar);\n",
       "    this.header = titletext;\n",
       "};\n",
       "\n",
       "mpl.figure.prototype._canvas_extra_style = function (_canvas_div) {};\n",
       "\n",
       "mpl.figure.prototype._root_extra_style = function (_canvas_div) {};\n",
       "\n",
       "mpl.figure.prototype._init_canvas = function () {\n",
       "    var fig = this;\n",
       "\n",
       "    var canvas_div = (this.canvas_div = document.createElement('div'));\n",
       "    canvas_div.setAttribute('tabindex', '0');\n",
       "    canvas_div.setAttribute(\n",
       "        'style',\n",
       "        'border: 1px solid #ddd;' +\n",
       "            'box-sizing: content-box;' +\n",
       "            'clear: both;' +\n",
       "            'min-height: 1px;' +\n",
       "            'min-width: 1px;' +\n",
       "            'outline: 0;' +\n",
       "            'overflow: hidden;' +\n",
       "            'position: relative;' +\n",
       "            'resize: both;' +\n",
       "            'z-index: 2;'\n",
       "    );\n",
       "\n",
       "    function on_keyboard_event_closure(name) {\n",
       "        return function (event) {\n",
       "            return fig.key_event(event, name);\n",
       "        };\n",
       "    }\n",
       "\n",
       "    canvas_div.addEventListener(\n",
       "        'keydown',\n",
       "        on_keyboard_event_closure('key_press')\n",
       "    );\n",
       "    canvas_div.addEventListener(\n",
       "        'keyup',\n",
       "        on_keyboard_event_closure('key_release')\n",
       "    );\n",
       "\n",
       "    this._canvas_extra_style(canvas_div);\n",
       "    this.root.appendChild(canvas_div);\n",
       "\n",
       "    var canvas = (this.canvas = document.createElement('canvas'));\n",
       "    canvas.classList.add('mpl-canvas');\n",
       "    canvas.setAttribute(\n",
       "        'style',\n",
       "        'box-sizing: content-box;' +\n",
       "            'pointer-events: none;' +\n",
       "            'position: relative;' +\n",
       "            'z-index: 0;'\n",
       "    );\n",
       "\n",
       "    this.context = canvas.getContext('2d');\n",
       "\n",
       "    var backingStore =\n",
       "        this.context.backingStorePixelRatio ||\n",
       "        this.context.webkitBackingStorePixelRatio ||\n",
       "        this.context.mozBackingStorePixelRatio ||\n",
       "        this.context.msBackingStorePixelRatio ||\n",
       "        this.context.oBackingStorePixelRatio ||\n",
       "        this.context.backingStorePixelRatio ||\n",
       "        1;\n",
       "\n",
       "    this.ratio = (window.devicePixelRatio || 1) / backingStore;\n",
       "\n",
       "    var rubberband_canvas = (this.rubberband_canvas = document.createElement(\n",
       "        'canvas'\n",
       "    ));\n",
       "    rubberband_canvas.setAttribute(\n",
       "        'style',\n",
       "        'box-sizing: content-box;' +\n",
       "            'left: 0;' +\n",
       "            'pointer-events: none;' +\n",
       "            'position: absolute;' +\n",
       "            'top: 0;' +\n",
       "            'z-index: 1;'\n",
       "    );\n",
       "\n",
       "    // Apply a ponyfill if ResizeObserver is not implemented by browser.\n",
       "    if (this.ResizeObserver === undefined) {\n",
       "        if (window.ResizeObserver !== undefined) {\n",
       "            this.ResizeObserver = window.ResizeObserver;\n",
       "        } else {\n",
       "            var obs = _JSXTOOLS_RESIZE_OBSERVER({});\n",
       "            this.ResizeObserver = obs.ResizeObserver;\n",
       "        }\n",
       "    }\n",
       "\n",
       "    this.resizeObserverInstance = new this.ResizeObserver(function (entries) {\n",
       "        // There's no need to resize if the WebSocket is not connected:\n",
       "        // - If it is still connecting, then we will get an initial resize from\n",
       "        //   Python once it connects.\n",
       "        // - If it has disconnected, then resizing will clear the canvas and\n",
       "        //   never get anything back to refill it, so better to not resize and\n",
       "        //   keep something visible.\n",
       "        if (fig.ws.readyState != 1) {\n",
       "            return;\n",
       "        }\n",
       "        var nentries = entries.length;\n",
       "        for (var i = 0; i < nentries; i++) {\n",
       "            var entry = entries[i];\n",
       "            var width, height;\n",
       "            if (entry.contentBoxSize) {\n",
       "                if (entry.contentBoxSize instanceof Array) {\n",
       "                    // Chrome 84 implements new version of spec.\n",
       "                    width = entry.contentBoxSize[0].inlineSize;\n",
       "                    height = entry.contentBoxSize[0].blockSize;\n",
       "                } else {\n",
       "                    // Firefox implements old version of spec.\n",
       "                    width = entry.contentBoxSize.inlineSize;\n",
       "                    height = entry.contentBoxSize.blockSize;\n",
       "                }\n",
       "            } else {\n",
       "                // Chrome <84 implements even older version of spec.\n",
       "                width = entry.contentRect.width;\n",
       "                height = entry.contentRect.height;\n",
       "            }\n",
       "\n",
       "            // Keep the size of the canvas and rubber band canvas in sync with\n",
       "            // the canvas container.\n",
       "            if (entry.devicePixelContentBoxSize) {\n",
       "                // Chrome 84 implements new version of spec.\n",
       "                canvas.setAttribute(\n",
       "                    'width',\n",
       "                    entry.devicePixelContentBoxSize[0].inlineSize\n",
       "                );\n",
       "                canvas.setAttribute(\n",
       "                    'height',\n",
       "                    entry.devicePixelContentBoxSize[0].blockSize\n",
       "                );\n",
       "            } else {\n",
       "                canvas.setAttribute('width', width * fig.ratio);\n",
       "                canvas.setAttribute('height', height * fig.ratio);\n",
       "            }\n",
       "            /* This rescales the canvas back to display pixels, so that it\n",
       "             * appears correct on HiDPI screens. */\n",
       "            canvas.style.width = width + 'px';\n",
       "            canvas.style.height = height + 'px';\n",
       "\n",
       "            rubberband_canvas.setAttribute('width', width);\n",
       "            rubberband_canvas.setAttribute('height', height);\n",
       "\n",
       "            // And update the size in Python. We ignore the initial 0/0 size\n",
       "            // that occurs as the element is placed into the DOM, which should\n",
       "            // otherwise not happen due to the minimum size styling.\n",
       "            if (width != 0 && height != 0) {\n",
       "                fig.request_resize(width, height);\n",
       "            }\n",
       "        }\n",
       "    });\n",
       "    this.resizeObserverInstance.observe(canvas_div);\n",
       "\n",
       "    function on_mouse_event_closure(name) {\n",
       "        /* User Agent sniffing is bad, but WebKit is busted:\n",
       "         * https://bugs.webkit.org/show_bug.cgi?id=144526\n",
       "         * https://bugs.webkit.org/show_bug.cgi?id=181818\n",
       "         * The worst that happens here is that they get an extra browser\n",
       "         * selection when dragging, if this check fails to catch them.\n",
       "         */\n",
       "        var UA = navigator.userAgent;\n",
       "        var isWebKit = /AppleWebKit/.test(UA) && !/Chrome/.test(UA);\n",
       "        if(isWebKit) {\n",
       "            return function (event) {\n",
       "                /* This prevents the web browser from automatically changing to\n",
       "                 * the text insertion cursor when the button is pressed. We\n",
       "                 * want to control all of the cursor setting manually through\n",
       "                 * the 'cursor' event from matplotlib */\n",
       "                event.preventDefault()\n",
       "                return fig.mouse_event(event, name);\n",
       "            };\n",
       "        } else {\n",
       "            return function (event) {\n",
       "                return fig.mouse_event(event, name);\n",
       "            };\n",
       "        }\n",
       "    }\n",
       "\n",
       "    canvas_div.addEventListener(\n",
       "        'mousedown',\n",
       "        on_mouse_event_closure('button_press')\n",
       "    );\n",
       "    canvas_div.addEventListener(\n",
       "        'mouseup',\n",
       "        on_mouse_event_closure('button_release')\n",
       "    );\n",
       "    canvas_div.addEventListener(\n",
       "        'dblclick',\n",
       "        on_mouse_event_closure('dblclick')\n",
       "    );\n",
       "    // Throttle sequential mouse events to 1 every 20ms.\n",
       "    canvas_div.addEventListener(\n",
       "        'mousemove',\n",
       "        on_mouse_event_closure('motion_notify')\n",
       "    );\n",
       "\n",
       "    canvas_div.addEventListener(\n",
       "        'mouseenter',\n",
       "        on_mouse_event_closure('figure_enter')\n",
       "    );\n",
       "    canvas_div.addEventListener(\n",
       "        'mouseleave',\n",
       "        on_mouse_event_closure('figure_leave')\n",
       "    );\n",
       "\n",
       "    canvas_div.addEventListener('wheel', function (event) {\n",
       "        if (event.deltaY < 0) {\n",
       "            event.step = 1;\n",
       "        } else {\n",
       "            event.step = -1;\n",
       "        }\n",
       "        on_mouse_event_closure('scroll')(event);\n",
       "    });\n",
       "\n",
       "    canvas_div.appendChild(canvas);\n",
       "    canvas_div.appendChild(rubberband_canvas);\n",
       "\n",
       "    this.rubberband_context = rubberband_canvas.getContext('2d');\n",
       "    this.rubberband_context.strokeStyle = '#000000';\n",
       "\n",
       "    this._resize_canvas = function (width, height, forward) {\n",
       "        if (forward) {\n",
       "            canvas_div.style.width = width + 'px';\n",
       "            canvas_div.style.height = height + 'px';\n",
       "        }\n",
       "    };\n",
       "\n",
       "    // Disable right mouse context menu.\n",
       "    canvas_div.addEventListener('contextmenu', function (_e) {\n",
       "        event.preventDefault();\n",
       "        return false;\n",
       "    });\n",
       "\n",
       "    function set_focus() {\n",
       "        canvas.focus();\n",
       "        canvas_div.focus();\n",
       "    }\n",
       "\n",
       "    window.setTimeout(set_focus, 100);\n",
       "};\n",
       "\n",
       "mpl.figure.prototype._init_toolbar = function () {\n",
       "    var fig = this;\n",
       "\n",
       "    var toolbar = document.createElement('div');\n",
       "    toolbar.classList = 'mpl-toolbar';\n",
       "    this.root.appendChild(toolbar);\n",
       "\n",
       "    function on_click_closure(name) {\n",
       "        return function (_event) {\n",
       "            return fig.toolbar_button_onclick(name);\n",
       "        };\n",
       "    }\n",
       "\n",
       "    function on_mouseover_closure(tooltip) {\n",
       "        return function (event) {\n",
       "            if (!event.currentTarget.disabled) {\n",
       "                return fig.toolbar_button_onmouseover(tooltip);\n",
       "            }\n",
       "        };\n",
       "    }\n",
       "\n",
       "    fig.buttons = {};\n",
       "    var buttonGroup = document.createElement('div');\n",
       "    buttonGroup.classList = 'mpl-button-group';\n",
       "    for (var toolbar_ind in mpl.toolbar_items) {\n",
       "        var name = mpl.toolbar_items[toolbar_ind][0];\n",
       "        var tooltip = mpl.toolbar_items[toolbar_ind][1];\n",
       "        var image = mpl.toolbar_items[toolbar_ind][2];\n",
       "        var method_name = mpl.toolbar_items[toolbar_ind][3];\n",
       "\n",
       "        if (!name) {\n",
       "            /* Instead of a spacer, we start a new button group. */\n",
       "            if (buttonGroup.hasChildNodes()) {\n",
       "                toolbar.appendChild(buttonGroup);\n",
       "            }\n",
       "            buttonGroup = document.createElement('div');\n",
       "            buttonGroup.classList = 'mpl-button-group';\n",
       "            continue;\n",
       "        }\n",
       "\n",
       "        var button = (fig.buttons[name] = document.createElement('button'));\n",
       "        button.classList = 'mpl-widget';\n",
       "        button.setAttribute('role', 'button');\n",
       "        button.setAttribute('aria-disabled', 'false');\n",
       "        button.addEventListener('click', on_click_closure(method_name));\n",
       "        button.addEventListener('mouseover', on_mouseover_closure(tooltip));\n",
       "\n",
       "        var icon_img = document.createElement('img');\n",
       "        icon_img.src = '_images/' + image + '.png';\n",
       "        icon_img.srcset = '_images/' + image + '_large.png 2x';\n",
       "        icon_img.alt = tooltip;\n",
       "        button.appendChild(icon_img);\n",
       "\n",
       "        buttonGroup.appendChild(button);\n",
       "    }\n",
       "\n",
       "    if (buttonGroup.hasChildNodes()) {\n",
       "        toolbar.appendChild(buttonGroup);\n",
       "    }\n",
       "\n",
       "    var fmt_picker = document.createElement('select');\n",
       "    fmt_picker.classList = 'mpl-widget';\n",
       "    toolbar.appendChild(fmt_picker);\n",
       "    this.format_dropdown = fmt_picker;\n",
       "\n",
       "    for (var ind in mpl.extensions) {\n",
       "        var fmt = mpl.extensions[ind];\n",
       "        var option = document.createElement('option');\n",
       "        option.selected = fmt === mpl.default_extension;\n",
       "        option.innerHTML = fmt;\n",
       "        fmt_picker.appendChild(option);\n",
       "    }\n",
       "\n",
       "    var status_bar = document.createElement('span');\n",
       "    status_bar.classList = 'mpl-message';\n",
       "    toolbar.appendChild(status_bar);\n",
       "    this.message = status_bar;\n",
       "};\n",
       "\n",
       "mpl.figure.prototype.request_resize = function (x_pixels, y_pixels) {\n",
       "    // Request matplotlib to resize the figure. Matplotlib will then trigger a resize in the client,\n",
       "    // which will in turn request a refresh of the image.\n",
       "    this.send_message('resize', { width: x_pixels, height: y_pixels });\n",
       "};\n",
       "\n",
       "mpl.figure.prototype.send_message = function (type, properties) {\n",
       "    properties['type'] = type;\n",
       "    properties['figure_id'] = this.id;\n",
       "    this.ws.send(JSON.stringify(properties));\n",
       "};\n",
       "\n",
       "mpl.figure.prototype.send_draw_message = function () {\n",
       "    if (!this.waiting) {\n",
       "        this.waiting = true;\n",
       "        this.ws.send(JSON.stringify({ type: 'draw', figure_id: this.id }));\n",
       "    }\n",
       "};\n",
       "\n",
       "mpl.figure.prototype.handle_save = function (fig, _msg) {\n",
       "    var format_dropdown = fig.format_dropdown;\n",
       "    var format = format_dropdown.options[format_dropdown.selectedIndex].value;\n",
       "    fig.ondownload(fig, format);\n",
       "};\n",
       "\n",
       "mpl.figure.prototype.handle_resize = function (fig, msg) {\n",
       "    var size = msg['size'];\n",
       "    if (size[0] !== fig.canvas.width || size[1] !== fig.canvas.height) {\n",
       "        fig._resize_canvas(size[0], size[1], msg['forward']);\n",
       "        fig.send_message('refresh', {});\n",
       "    }\n",
       "};\n",
       "\n",
       "mpl.figure.prototype.handle_rubberband = function (fig, msg) {\n",
       "    var x0 = msg['x0'] / fig.ratio;\n",
       "    var y0 = (fig.canvas.height - msg['y0']) / fig.ratio;\n",
       "    var x1 = msg['x1'] / fig.ratio;\n",
       "    var y1 = (fig.canvas.height - msg['y1']) / fig.ratio;\n",
       "    x0 = Math.floor(x0) + 0.5;\n",
       "    y0 = Math.floor(y0) + 0.5;\n",
       "    x1 = Math.floor(x1) + 0.5;\n",
       "    y1 = Math.floor(y1) + 0.5;\n",
       "    var min_x = Math.min(x0, x1);\n",
       "    var min_y = Math.min(y0, y1);\n",
       "    var width = Math.abs(x1 - x0);\n",
       "    var height = Math.abs(y1 - y0);\n",
       "\n",
       "    fig.rubberband_context.clearRect(\n",
       "        0,\n",
       "        0,\n",
       "        fig.canvas.width / fig.ratio,\n",
       "        fig.canvas.height / fig.ratio\n",
       "    );\n",
       "\n",
       "    fig.rubberband_context.strokeRect(min_x, min_y, width, height);\n",
       "};\n",
       "\n",
       "mpl.figure.prototype.handle_figure_label = function (fig, msg) {\n",
       "    // Updates the figure title.\n",
       "    fig.header.textContent = msg['label'];\n",
       "};\n",
       "\n",
       "mpl.figure.prototype.handle_cursor = function (fig, msg) {\n",
       "    fig.canvas_div.style.cursor = msg['cursor'];\n",
       "};\n",
       "\n",
       "mpl.figure.prototype.handle_message = function (fig, msg) {\n",
       "    fig.message.textContent = msg['message'];\n",
       "};\n",
       "\n",
       "mpl.figure.prototype.handle_draw = function (fig, _msg) {\n",
       "    // Request the server to send over a new figure.\n",
       "    fig.send_draw_message();\n",
       "};\n",
       "\n",
       "mpl.figure.prototype.handle_image_mode = function (fig, msg) {\n",
       "    fig.image_mode = msg['mode'];\n",
       "};\n",
       "\n",
       "mpl.figure.prototype.handle_history_buttons = function (fig, msg) {\n",
       "    for (var key in msg) {\n",
       "        if (!(key in fig.buttons)) {\n",
       "            continue;\n",
       "        }\n",
       "        fig.buttons[key].disabled = !msg[key];\n",
       "        fig.buttons[key].setAttribute('aria-disabled', !msg[key]);\n",
       "    }\n",
       "};\n",
       "\n",
       "mpl.figure.prototype.handle_navigate_mode = function (fig, msg) {\n",
       "    if (msg['mode'] === 'PAN') {\n",
       "        fig.buttons['Pan'].classList.add('active');\n",
       "        fig.buttons['Zoom'].classList.remove('active');\n",
       "    } else if (msg['mode'] === 'ZOOM') {\n",
       "        fig.buttons['Pan'].classList.remove('active');\n",
       "        fig.buttons['Zoom'].classList.add('active');\n",
       "    } else {\n",
       "        fig.buttons['Pan'].classList.remove('active');\n",
       "        fig.buttons['Zoom'].classList.remove('active');\n",
       "    }\n",
       "};\n",
       "\n",
       "mpl.figure.prototype.updated_canvas_event = function () {\n",
       "    // Called whenever the canvas gets updated.\n",
       "    this.send_message('ack', {});\n",
       "};\n",
       "\n",
       "// A function to construct a web socket function for onmessage handling.\n",
       "// Called in the figure constructor.\n",
       "mpl.figure.prototype._make_on_message_function = function (fig) {\n",
       "    return function socket_on_message(evt) {\n",
       "        if (evt.data instanceof Blob) {\n",
       "            var img = evt.data;\n",
       "            if (img.type !== 'image/png') {\n",
       "                /* FIXME: We get \"Resource interpreted as Image but\n",
       "                 * transferred with MIME type text/plain:\" errors on\n",
       "                 * Chrome.  But how to set the MIME type?  It doesn't seem\n",
       "                 * to be part of the websocket stream */\n",
       "                img.type = 'image/png';\n",
       "            }\n",
       "\n",
       "            /* Free the memory for the previous frames */\n",
       "            if (fig.imageObj.src) {\n",
       "                (window.URL || window.webkitURL).revokeObjectURL(\n",
       "                    fig.imageObj.src\n",
       "                );\n",
       "            }\n",
       "\n",
       "            fig.imageObj.src = (window.URL || window.webkitURL).createObjectURL(\n",
       "                img\n",
       "            );\n",
       "            fig.updated_canvas_event();\n",
       "            fig.waiting = false;\n",
       "            return;\n",
       "        } else if (\n",
       "            typeof evt.data === 'string' &&\n",
       "            evt.data.slice(0, 21) === 'data:image/png;base64'\n",
       "        ) {\n",
       "            fig.imageObj.src = evt.data;\n",
       "            fig.updated_canvas_event();\n",
       "            fig.waiting = false;\n",
       "            return;\n",
       "        }\n",
       "\n",
       "        var msg = JSON.parse(evt.data);\n",
       "        var msg_type = msg['type'];\n",
       "\n",
       "        // Call the  \"handle_{type}\" callback, which takes\n",
       "        // the figure and JSON message as its only arguments.\n",
       "        try {\n",
       "            var callback = fig['handle_' + msg_type];\n",
       "        } catch (e) {\n",
       "            console.log(\n",
       "                \"No handler for the '\" + msg_type + \"' message type: \",\n",
       "                msg\n",
       "            );\n",
       "            return;\n",
       "        }\n",
       "\n",
       "        if (callback) {\n",
       "            try {\n",
       "                // console.log(\"Handling '\" + msg_type + \"' message: \", msg);\n",
       "                callback(fig, msg);\n",
       "            } catch (e) {\n",
       "                console.log(\n",
       "                    \"Exception inside the 'handler_\" + msg_type + \"' callback:\",\n",
       "                    e,\n",
       "                    e.stack,\n",
       "                    msg\n",
       "                );\n",
       "            }\n",
       "        }\n",
       "    };\n",
       "};\n",
       "\n",
       "function getModifiers(event) {\n",
       "    var mods = [];\n",
       "    if (event.ctrlKey) {\n",
       "        mods.push('ctrl');\n",
       "    }\n",
       "    if (event.altKey) {\n",
       "        mods.push('alt');\n",
       "    }\n",
       "    if (event.shiftKey) {\n",
       "        mods.push('shift');\n",
       "    }\n",
       "    if (event.metaKey) {\n",
       "        mods.push('meta');\n",
       "    }\n",
       "    return mods;\n",
       "}\n",
       "\n",
       "/*\n",
       " * return a copy of an object with only non-object keys\n",
       " * we need this to avoid circular references\n",
       " * https://stackoverflow.com/a/24161582/3208463\n",
       " */\n",
       "function simpleKeys(original) {\n",
       "    return Object.keys(original).reduce(function (obj, key) {\n",
       "        if (typeof original[key] !== 'object') {\n",
       "            obj[key] = original[key];\n",
       "        }\n",
       "        return obj;\n",
       "    }, {});\n",
       "}\n",
       "\n",
       "mpl.figure.prototype.mouse_event = function (event, name) {\n",
       "    if (name === 'button_press') {\n",
       "        this.canvas.focus();\n",
       "        this.canvas_div.focus();\n",
       "    }\n",
       "\n",
       "    // from https://stackoverflow.com/q/1114465\n",
       "    var boundingRect = this.canvas.getBoundingClientRect();\n",
       "    var x = (event.clientX - boundingRect.left) * this.ratio;\n",
       "    var y = (event.clientY - boundingRect.top) * this.ratio;\n",
       "\n",
       "    this.send_message(name, {\n",
       "        x: x,\n",
       "        y: y,\n",
       "        button: event.button,\n",
       "        step: event.step,\n",
       "        modifiers: getModifiers(event),\n",
       "        guiEvent: simpleKeys(event),\n",
       "    });\n",
       "\n",
       "    return false;\n",
       "};\n",
       "\n",
       "mpl.figure.prototype._key_event_extra = function (_event, _name) {\n",
       "    // Handle any extra behaviour associated with a key event\n",
       "};\n",
       "\n",
       "mpl.figure.prototype.key_event = function (event, name) {\n",
       "    // Prevent repeat events\n",
       "    if (name === 'key_press') {\n",
       "        if (event.key === this._key) {\n",
       "            return;\n",
       "        } else {\n",
       "            this._key = event.key;\n",
       "        }\n",
       "    }\n",
       "    if (name === 'key_release') {\n",
       "        this._key = null;\n",
       "    }\n",
       "\n",
       "    var value = '';\n",
       "    if (event.ctrlKey && event.key !== 'Control') {\n",
       "        value += 'ctrl+';\n",
       "    }\n",
       "    else if (event.altKey && event.key !== 'Alt') {\n",
       "        value += 'alt+';\n",
       "    }\n",
       "    else if (event.shiftKey && event.key !== 'Shift') {\n",
       "        value += 'shift+';\n",
       "    }\n",
       "\n",
       "    value += 'k' + event.key;\n",
       "\n",
       "    this._key_event_extra(event, name);\n",
       "\n",
       "    this.send_message(name, { key: value, guiEvent: simpleKeys(event) });\n",
       "    return false;\n",
       "};\n",
       "\n",
       "mpl.figure.prototype.toolbar_button_onclick = function (name) {\n",
       "    if (name === 'download') {\n",
       "        this.handle_save(this, null);\n",
       "    } else {\n",
       "        this.send_message('toolbar_button', { name: name });\n",
       "    }\n",
       "};\n",
       "\n",
       "mpl.figure.prototype.toolbar_button_onmouseover = function (tooltip) {\n",
       "    this.message.textContent = tooltip;\n",
       "};\n",
       "\n",
       "///////////////// REMAINING CONTENT GENERATED BY embed_js.py /////////////////\n",
       "// prettier-ignore\n",
       "var _JSXTOOLS_RESIZE_OBSERVER=function(A){var t,i=new WeakMap,n=new WeakMap,a=new WeakMap,r=new WeakMap,o=new Set;function s(e){if(!(this instanceof s))throw new TypeError(\"Constructor requires 'new' operator\");i.set(this,e)}function h(){throw new TypeError(\"Function is not a constructor\")}function c(e,t,i,n){e=0 in arguments?Number(arguments[0]):0,t=1 in arguments?Number(arguments[1]):0,i=2 in arguments?Number(arguments[2]):0,n=3 in arguments?Number(arguments[3]):0,this.right=(this.x=this.left=e)+(this.width=i),this.bottom=(this.y=this.top=t)+(this.height=n),Object.freeze(this)}function d(){t=requestAnimationFrame(d);var s=new WeakMap,p=new Set;o.forEach((function(t){r.get(t).forEach((function(i){var r=t instanceof window.SVGElement,o=a.get(t),d=r?0:parseFloat(o.paddingTop),f=r?0:parseFloat(o.paddingRight),l=r?0:parseFloat(o.paddingBottom),u=r?0:parseFloat(o.paddingLeft),g=r?0:parseFloat(o.borderTopWidth),m=r?0:parseFloat(o.borderRightWidth),w=r?0:parseFloat(o.borderBottomWidth),b=u+f,F=d+l,v=(r?0:parseFloat(o.borderLeftWidth))+m,W=g+w,y=r?0:t.offsetHeight-W-t.clientHeight,E=r?0:t.offsetWidth-v-t.clientWidth,R=b+v,z=F+W,M=r?t.width:parseFloat(o.width)-R-E,O=r?t.height:parseFloat(o.height)-z-y;if(n.has(t)){var k=n.get(t);if(k[0]===M&&k[1]===O)return}n.set(t,[M,O]);var S=Object.create(h.prototype);S.target=t,S.contentRect=new c(u,d,M,O),s.has(i)||(s.set(i,[]),p.add(i)),s.get(i).push(S)}))})),p.forEach((function(e){i.get(e).call(e,s.get(e),e)}))}return s.prototype.observe=function(i){if(i instanceof window.Element){r.has(i)||(r.set(i,new Set),o.add(i),a.set(i,window.getComputedStyle(i)));var n=r.get(i);n.has(this)||n.add(this),cancelAnimationFrame(t),t=requestAnimationFrame(d)}},s.prototype.unobserve=function(i){if(i instanceof window.Element&&r.has(i)){var n=r.get(i);n.has(this)&&(n.delete(this),n.size||(r.delete(i),o.delete(i))),n.size||r.delete(i),o.size||cancelAnimationFrame(t)}},A.DOMRectReadOnly=c,A.ResizeObserver=s,A.ResizeObserverEntry=h,A}; // eslint-disable-line\n",
       "mpl.toolbar_items = [[\"Home\", \"Reset original view\", \"fa fa-home\", \"home\"], [\"Back\", \"Back to previous view\", \"fa fa-arrow-left\", \"back\"], [\"Forward\", \"Forward to next view\", \"fa fa-arrow-right\", \"forward\"], [\"\", \"\", \"\", \"\"], [\"Pan\", \"Left button pans, Right button zooms\\nx/y fixes axis, CTRL fixes aspect\", \"fa fa-arrows\", \"pan\"], [\"Zoom\", \"Zoom to rectangle\\nx/y fixes axis\", \"fa fa-square-o\", \"zoom\"], [\"\", \"\", \"\", \"\"], [\"Download\", \"Download plot\", \"fa fa-floppy-o\", \"download\"]];\n",
       "\n",
       "mpl.extensions = [\"eps\", \"jpeg\", \"pgf\", \"pdf\", \"png\", \"ps\", \"raw\", \"svg\", \"tif\", \"webp\"];\n",
       "\n",
       "mpl.default_extension = \"png\";/* global mpl */\n",
       "\n",
       "var comm_websocket_adapter = function (comm) {\n",
       "    // Create a \"websocket\"-like object which calls the given IPython comm\n",
       "    // object with the appropriate methods. Currently this is a non binary\n",
       "    // socket, so there is still some room for performance tuning.\n",
       "    var ws = {};\n",
       "\n",
       "    ws.binaryType = comm.kernel.ws.binaryType;\n",
       "    ws.readyState = comm.kernel.ws.readyState;\n",
       "    function updateReadyState(_event) {\n",
       "        if (comm.kernel.ws) {\n",
       "            ws.readyState = comm.kernel.ws.readyState;\n",
       "        } else {\n",
       "            ws.readyState = 3; // Closed state.\n",
       "        }\n",
       "    }\n",
       "    comm.kernel.ws.addEventListener('open', updateReadyState);\n",
       "    comm.kernel.ws.addEventListener('close', updateReadyState);\n",
       "    comm.kernel.ws.addEventListener('error', updateReadyState);\n",
       "\n",
       "    ws.close = function () {\n",
       "        comm.close();\n",
       "    };\n",
       "    ws.send = function (m) {\n",
       "        //console.log('sending', m);\n",
       "        comm.send(m);\n",
       "    };\n",
       "    // Register the callback with on_msg.\n",
       "    comm.on_msg(function (msg) {\n",
       "        //console.log('receiving', msg['content']['data'], msg);\n",
       "        var data = msg['content']['data'];\n",
       "        if (data['blob'] !== undefined) {\n",
       "            data = {\n",
       "                data: new Blob(msg['buffers'], { type: data['blob'] }),\n",
       "            };\n",
       "        }\n",
       "        // Pass the mpl event to the overridden (by mpl) onmessage function.\n",
       "        ws.onmessage(data);\n",
       "    });\n",
       "    return ws;\n",
       "};\n",
       "\n",
       "mpl.mpl_figure_comm = function (comm, msg) {\n",
       "    // This is the function which gets called when the mpl process\n",
       "    // starts-up an IPython Comm through the \"matplotlib\" channel.\n",
       "\n",
       "    var id = msg.content.data.id;\n",
       "    // Get hold of the div created by the display call when the Comm\n",
       "    // socket was opened in Python.\n",
       "    var element = document.getElementById(id);\n",
       "    var ws_proxy = comm_websocket_adapter(comm);\n",
       "\n",
       "    function ondownload(figure, _format) {\n",
       "        window.open(figure.canvas.toDataURL());\n",
       "    }\n",
       "\n",
       "    var fig = new mpl.figure(id, ws_proxy, ondownload, element);\n",
       "\n",
       "    // Call onopen now - mpl needs it, as it is assuming we've passed it a real\n",
       "    // web socket which is closed, not our websocket->open comm proxy.\n",
       "    ws_proxy.onopen();\n",
       "\n",
       "    fig.parent_element = element;\n",
       "    fig.cell_info = mpl.find_output_cell(\"<div id='\" + id + \"'></div>\");\n",
       "    if (!fig.cell_info) {\n",
       "        console.error('Failed to find cell for figure', id, fig);\n",
       "        return;\n",
       "    }\n",
       "    fig.cell_info[0].output_area.element.on(\n",
       "        'cleared',\n",
       "        { fig: fig },\n",
       "        fig._remove_fig_handler\n",
       "    );\n",
       "};\n",
       "\n",
       "mpl.figure.prototype.handle_close = function (fig, msg) {\n",
       "    var width = fig.canvas.width / fig.ratio;\n",
       "    fig.cell_info[0].output_area.element.off(\n",
       "        'cleared',\n",
       "        fig._remove_fig_handler\n",
       "    );\n",
       "    fig.resizeObserverInstance.unobserve(fig.canvas_div);\n",
       "\n",
       "    // Update the output cell to use the data from the current canvas.\n",
       "    fig.push_to_output();\n",
       "    var dataURL = fig.canvas.toDataURL();\n",
       "    // Re-enable the keyboard manager in IPython - without this line, in FF,\n",
       "    // the notebook keyboard shortcuts fail.\n",
       "    IPython.keyboard_manager.enable();\n",
       "    fig.parent_element.innerHTML =\n",
       "        '<img src=\"' + dataURL + '\" width=\"' + width + '\">';\n",
       "    fig.close_ws(fig, msg);\n",
       "};\n",
       "\n",
       "mpl.figure.prototype.close_ws = function (fig, msg) {\n",
       "    fig.send_message('closing', msg);\n",
       "    // fig.ws.close()\n",
       "};\n",
       "\n",
       "mpl.figure.prototype.push_to_output = function (_remove_interactive) {\n",
       "    // Turn the data on the canvas into data in the output cell.\n",
       "    var width = this.canvas.width / this.ratio;\n",
       "    var dataURL = this.canvas.toDataURL();\n",
       "    this.cell_info[1]['text/html'] =\n",
       "        '<img src=\"' + dataURL + '\" width=\"' + width + '\">';\n",
       "};\n",
       "\n",
       "mpl.figure.prototype.updated_canvas_event = function () {\n",
       "    // Tell IPython that the notebook contents must change.\n",
       "    IPython.notebook.set_dirty(true);\n",
       "    this.send_message('ack', {});\n",
       "    var fig = this;\n",
       "    // Wait a second, then push the new image to the DOM so\n",
       "    // that it is saved nicely (might be nice to debounce this).\n",
       "    setTimeout(function () {\n",
       "        fig.push_to_output();\n",
       "    }, 1000);\n",
       "};\n",
       "\n",
       "mpl.figure.prototype._init_toolbar = function () {\n",
       "    var fig = this;\n",
       "\n",
       "    var toolbar = document.createElement('div');\n",
       "    toolbar.classList = 'btn-toolbar';\n",
       "    this.root.appendChild(toolbar);\n",
       "\n",
       "    function on_click_closure(name) {\n",
       "        return function (_event) {\n",
       "            return fig.toolbar_button_onclick(name);\n",
       "        };\n",
       "    }\n",
       "\n",
       "    function on_mouseover_closure(tooltip) {\n",
       "        return function (event) {\n",
       "            if (!event.currentTarget.disabled) {\n",
       "                return fig.toolbar_button_onmouseover(tooltip);\n",
       "            }\n",
       "        };\n",
       "    }\n",
       "\n",
       "    fig.buttons = {};\n",
       "    var buttonGroup = document.createElement('div');\n",
       "    buttonGroup.classList = 'btn-group';\n",
       "    var button;\n",
       "    for (var toolbar_ind in mpl.toolbar_items) {\n",
       "        var name = mpl.toolbar_items[toolbar_ind][0];\n",
       "        var tooltip = mpl.toolbar_items[toolbar_ind][1];\n",
       "        var image = mpl.toolbar_items[toolbar_ind][2];\n",
       "        var method_name = mpl.toolbar_items[toolbar_ind][3];\n",
       "\n",
       "        if (!name) {\n",
       "            /* Instead of a spacer, we start a new button group. */\n",
       "            if (buttonGroup.hasChildNodes()) {\n",
       "                toolbar.appendChild(buttonGroup);\n",
       "            }\n",
       "            buttonGroup = document.createElement('div');\n",
       "            buttonGroup.classList = 'btn-group';\n",
       "            continue;\n",
       "        }\n",
       "\n",
       "        button = fig.buttons[name] = document.createElement('button');\n",
       "        button.classList = 'btn btn-default';\n",
       "        button.href = '#';\n",
       "        button.title = name;\n",
       "        button.innerHTML = '<i class=\"fa ' + image + ' fa-lg\"></i>';\n",
       "        button.addEventListener('click', on_click_closure(method_name));\n",
       "        button.addEventListener('mouseover', on_mouseover_closure(tooltip));\n",
       "        buttonGroup.appendChild(button);\n",
       "    }\n",
       "\n",
       "    if (buttonGroup.hasChildNodes()) {\n",
       "        toolbar.appendChild(buttonGroup);\n",
       "    }\n",
       "\n",
       "    // Add the status bar.\n",
       "    var status_bar = document.createElement('span');\n",
       "    status_bar.classList = 'mpl-message pull-right';\n",
       "    toolbar.appendChild(status_bar);\n",
       "    this.message = status_bar;\n",
       "\n",
       "    // Add the close button to the window.\n",
       "    var buttongrp = document.createElement('div');\n",
       "    buttongrp.classList = 'btn-group inline pull-right';\n",
       "    button = document.createElement('button');\n",
       "    button.classList = 'btn btn-mini btn-primary';\n",
       "    button.href = '#';\n",
       "    button.title = 'Stop Interaction';\n",
       "    button.innerHTML = '<i class=\"fa fa-power-off icon-remove icon-large\"></i>';\n",
       "    button.addEventListener('click', function (_evt) {\n",
       "        fig.handle_close(fig, {});\n",
       "    });\n",
       "    button.addEventListener(\n",
       "        'mouseover',\n",
       "        on_mouseover_closure('Stop Interaction')\n",
       "    );\n",
       "    buttongrp.appendChild(button);\n",
       "    var titlebar = this.root.querySelector('.ui-dialog-titlebar');\n",
       "    titlebar.insertBefore(buttongrp, titlebar.firstChild);\n",
       "};\n",
       "\n",
       "mpl.figure.prototype._remove_fig_handler = function (event) {\n",
       "    var fig = event.data.fig;\n",
       "    if (event.target !== this) {\n",
       "        // Ignore bubbled events from children.\n",
       "        return;\n",
       "    }\n",
       "    fig.close_ws(fig, {});\n",
       "};\n",
       "\n",
       "mpl.figure.prototype._root_extra_style = function (el) {\n",
       "    el.style.boxSizing = 'content-box'; // override notebook setting of border-box.\n",
       "};\n",
       "\n",
       "mpl.figure.prototype._canvas_extra_style = function (el) {\n",
       "    // this is important to make the div 'focusable\n",
       "    el.setAttribute('tabindex', 0);\n",
       "    // reach out to IPython and tell the keyboard manager to turn it's self\n",
       "    // off when our div gets focus\n",
       "\n",
       "    // location in version 3\n",
       "    if (IPython.notebook.keyboard_manager) {\n",
       "        IPython.notebook.keyboard_manager.register_events(el);\n",
       "    } else {\n",
       "        // location in version 2\n",
       "        IPython.keyboard_manager.register_events(el);\n",
       "    }\n",
       "};\n",
       "\n",
       "mpl.figure.prototype._key_event_extra = function (event, _name) {\n",
       "    // Check for shift+enter\n",
       "    if (event.shiftKey && event.which === 13) {\n",
       "        this.canvas_div.blur();\n",
       "        // select the cell after this one\n",
       "        var index = IPython.notebook.find_cell_index(this.cell_info[0]);\n",
       "        IPython.notebook.select(index + 1);\n",
       "    }\n",
       "};\n",
       "\n",
       "mpl.figure.prototype.handle_save = function (fig, _msg) {\n",
       "    fig.ondownload(fig, null);\n",
       "};\n",
       "\n",
       "mpl.find_output_cell = function (html_output) {\n",
       "    // Return the cell and output element which can be found *uniquely* in the notebook.\n",
       "    // Note - this is a bit hacky, but it is done because the \"notebook_saving.Notebook\"\n",
       "    // IPython event is triggered only after the cells have been serialised, which for\n",
       "    // our purposes (turning an active figure into a static one), is too late.\n",
       "    var cells = IPython.notebook.get_cells();\n",
       "    var ncells = cells.length;\n",
       "    for (var i = 0; i < ncells; i++) {\n",
       "        var cell = cells[i];\n",
       "        if (cell.cell_type === 'code') {\n",
       "            for (var j = 0; j < cell.output_area.outputs.length; j++) {\n",
       "                var data = cell.output_area.outputs[j];\n",
       "                if (data.data) {\n",
       "                    // IPython >= 3 moved mimebundle to data attribute of output\n",
       "                    data = data.data;\n",
       "                }\n",
       "                if (data['text/html'] === html_output) {\n",
       "                    return [cell, data, j];\n",
       "                }\n",
       "            }\n",
       "        }\n",
       "    }\n",
       "};\n",
       "\n",
       "// Register the function which deals with the matplotlib target/channel.\n",
       "// The kernel may be null if the page has been refreshed.\n",
       "if (IPython.notebook.kernel !== null) {\n",
       "    IPython.notebook.kernel.comm_manager.register_target(\n",
       "        'matplotlib',\n",
       "        mpl.mpl_figure_comm\n",
       "    );\n",
       "}\n"
      ],
      "text/plain": [
       "<IPython.core.display.Javascript object>"
      ]
     },
     "metadata": {},
     "output_type": "display_data"
    },
    {
     "data": {
      "text/html": [
       "<img src=\"data:image/png;base64,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\" width=\"900\">"
      ],
      "text/plain": [
       "<IPython.core.display.HTML object>"
      ]
     },
     "metadata": {},
     "output_type": "display_data"
    }
   ],
   "source": [
    "%matplotlib notebook\n",
    "import matplotlib.pyplot as plt\n",
    "from pandas.plotting import register_matplotlib_converters\n",
    "\n",
    "register_matplotlib_converters()\n",
    "\n",
    "\n",
    "fig, ax = plt.subplots(figsize=(9, 3.75))\n",
    "pd.merge(\n",
    "    sal_ioos, sal_ooi, on=\"time (UTC)\", suffixes=(\"_ioos\", \"_ooi\"), how=\"outer\"\n",
    ").plot(ax=ax)\n",
    "fig.autofmt_xdate();"
   ]
  },
  {
   "cell_type": "markdown",
   "metadata": {},
   "source": [
    "Hopefully this new feature is useful and be sure to also check the simple search functionality (`search_servers`) in case one wants to browse data without extra constraints."
   ]
  }
 ],
 "metadata": {
  "kernelspec": {
   "display_name": "Python 3 (ipykernel)",
   "language": "python",
   "name": "python3"
  },
  "language_info": {
   "codemirror_mode": {
    "name": "ipython",
    "version": 3
   },
   "file_extension": ".py",
   "mimetype": "text/x-python",
   "name": "python",
   "nbconvert_exporter": "python",
   "pygments_lexer": "ipython3",
   "version": "3.12.5"
  },
  "widgets": {
   "application/vnd.jupyter.widget-state+json": {
    "state": {
     "000c566733974efcbbca18a4f829d5c3": {
      "model_module": "jupyter-leaflet",
      "model_module_version": "^0.14.0",
      "model_name": "LeafletAwesomeIconModel",
      "state": {
       "_model_module_version": "^0.14.0",
       "_view_module_version": "^0.14.0",
       "icon_color": "white",
       "marker_color": "orange",
       "name": "life-ring"
      }
     },
     "001289016d6241d7a9efc72bf768cc70": {
      "model_module": "jupyter-leaflet",
      "model_module_version": "^0.14.0",
      "model_name": "LeafletAwesomeIconModel",
      "state": {
       "_model_module_version": "^0.14.0",
       "_view_module_version": "^0.14.0",
       "icon_color": "white",
       "marker_color": "orange",
       "name": "life-ring"
      }
     },
     "00609d0dfca54c4b995b43423f0c8128": {
      "model_module": "jupyter-leaflet",
      "model_module_version": "^0.14.0",
      "model_name": "LeafletMarkerModel",
      "state": {
       "_model_module_version": "^0.14.0",
       "_view_module_version": "^0.14.0",
       "icon": "IPY_MODEL_d113f4dec824480a815d9bd0fa0113a1",
       "location": [
        43.3447,
        -124.3231
       ],
       "options": [
        "alt",
        "draggable",
        "keyboard",
        "rise_offset",
        "rise_on_hover",
        "rotation_angle",
        "rotation_origin",
        "title",
        "z_index_offset"
       ],
       "popup": "IPY_MODEL_5e4e9364767645908753169b4a7ccb65"
      }
     },
     "008064f8267f400bbb986047cd68ecbe": {
      "model_module": "jupyter-leaflet",
      "model_module_version": "^0.14.0",
      "model_name": "LeafletMarkerModel",
      "state": {
       "_model_module_version": "^0.14.0",
       "_view_module_version": "^0.14.0",
       "icon": "IPY_MODEL_a046e0509bf347699e3abad3454634cb",
       "location": [
        44.52897,
        -125.38966
       ],
       "options": [
        "alt",
        "draggable",
        "keyboard",
        "rise_offset",
        "rise_on_hover",
        "rotation_angle",
        "rotation_origin",
        "title",
        "z_index_offset"
       ],
       "popup": "IPY_MODEL_72d66f570cc9430c8e9630e16d694878"
      }
     },
     "009f1600d4d943f2bbedfa3200a8e67d": {
      "model_module": "@jupyter-widgets/controls",
      "model_module_version": "1.5.0",
      "model_name": "HTMLModel",
      "state": {
       "layout": "IPY_MODEL_bf6573ef98eb4184a472f91deec94208",
       "style": "IPY_MODEL_7c6f09092d3d448d95a92edab82c731c",
       "value": "<table border=\"1\" class=\"dataframe table table-striped table-hover table-condensed table-responsive\">\n  <thead>\n    <tr style=\"text-align: right;\">\n      <th></th>\n      <th>37</th>\n    </tr>\n  </thead>\n  <tbody>\n    <tr>\n      <th>Institution</th>\n      <td>Ocean Observatories Initiative (OOI)</td>\n    </tr>\n    <tr>\n      <th>Dataset ID</th>\n      <td>ooi-ce06issm-mfd37-03-dostad000</td>\n    </tr>\n  </tbody>\n</table>"
      }
     },
     "00a0bacce06547b082fa7299cd0f8221": {
      "model_module": "@jupyter-widgets/base",
      "model_module_version": "1.2.0",
      "model_name": "LayoutModel",
      "state": {}
     },
     "00bdec2380d345eea9146e472c0f1c89": {
      "model_module": "@jupyter-widgets/controls",
      "model_module_version": "1.5.0",
      "model_name": "HTMLModel",
      "state": {
       "layout": "IPY_MODEL_70950566fd174fb1897a4708b356bca5",
       "style": "IPY_MODEL_078cb08b3d484973b8b4626d4363e4a3",
       "value": "<table border=\"1\" class=\"dataframe table table-striped table-hover table-condensed table-responsive\">\n  <thead>\n    <tr style=\"text-align: right;\">\n      <th></th>\n      <th>53</th>\n    </tr>\n  </thead>\n  <tbody>\n    <tr>\n      <th>Institution</th>\n      <td>Ocean Observatories Initiative (OOI)</td>\n    </tr>\n    <tr>\n      <th>Dataset ID</th>\n      <td>ooi-ce07shsm-rid26-07-nutnrb000</td>\n    </tr>\n  </tbody>\n</table>"
      }
     },
     "00d88b6e3b4b4a3dbb0f9f3f0a79d191": {
      "model_module": "jupyter-leaflet",
      "model_module_version": "^0.14.0",
      "model_name": "LeafletMarkerModel",
      "state": {
       "_model_module_version": "^0.14.0",
       "_view_module_version": "^0.14.0",
       "icon": "IPY_MODEL_67bbf18e177e4622ad9e706c201e4c4f",
       "location": [
        44.63577,
        -124.3035
       ],
       "options": [
        "alt",
        "draggable",
        "keyboard",
        "rise_offset",
        "rise_on_hover",
        "rotation_angle",
        "rotation_origin",
        "title",
        "z_index_offset"
       ],
       "popup": "IPY_MODEL_18d131ff57484b4a934a8aa625d3be04"
      }
     },
     "00f8835715b94449bb71b3b6a1189fe7": {
      "model_module": "@jupyter-widgets/base",
      "model_module_version": "1.2.0",
      "model_name": "LayoutModel",
      "state": {}
     },
     "0132a57af6df455abfe20d703fc43ae7": {
      "model_module": "jupyter-leaflet",
      "model_module_version": "^0.14.0",
      "model_name": "LeafletMarkerModel",
      "state": {
       "_model_module_version": "^0.14.0",
       "_view_module_version": "^0.14.0",
       "icon": "IPY_MODEL_84cee63031454c0f920fae09b259fe18",
       "location": [
        44.63708,
        -124.30595
       ],
       "options": [
        "alt",
        "draggable",
        "keyboard",
        "rise_offset",
        "rise_on_hover",
        "rotation_angle",
        "rotation_origin",
        "title",
        "z_index_offset"
       ],
       "popup": "IPY_MODEL_3b0f6437d3294fffb42050a76fe841f0"
      }
     },
     "01461ad4bff64cb08999f57d6fd6e367": {
      "model_module": "jupyter-leaflet",
      "model_module_version": "^0.14.0",
      "model_name": "LeafletMarkerModel",
      "state": {
       "_model_module_version": "^0.14.0",
       "_view_module_version": "^0.14.0",
       "icon": "IPY_MODEL_e15228ea30a04a66b4bff6b9017e4315",
       "location": [
        46.98408,
        -124.56631
       ],
       "options": [
        "alt",
        "draggable",
        "keyboard",
        "rise_offset",
        "rise_on_hover",
        "rotation_angle",
        "rotation_origin",
        "title",
        "z_index_offset"
       ],
       "popup": "IPY_MODEL_45f931aac7ff49fdbb9daff0b7adda34"
      }
     },
     "022607fca4174368b0b43d21c61d8c9f": {
      "model_module": "jupyter-leaflet",
      "model_module_version": "^0.14.0",
      "model_name": "LeafletAwesomeIconModel",
      "state": {
       "_model_module_version": "^0.14.0",
       "_view_module_version": "^0.14.0",
       "icon_color": "white",
       "marker_color": "orange",
       "name": "life-ring"
      }
     },
     "02c1935716794e939f6face561d73209": {
      "model_module": "jupyter-leaflet",
      "model_module_version": "^0.14.0",
      "model_name": "LeafletZoomControlModel",
      "state": {
       "_model_module_version": "^0.14.0",
       "_view_module_version": "^0.14.0",
       "options": [
        "position",
        "zoom_in_text",
        "zoom_in_title",
        "zoom_out_text",
        "zoom_out_title"
       ]
      }
     },
     "02cee169040d4926a776ea4b79f1d380": {
      "model_module": "jupyter-leaflet",
      "model_module_version": "^0.14.0",
      "model_name": "LeafletAwesomeIconModel",
      "state": {
       "_model_module_version": "^0.14.0",
       "_view_module_version": "^0.14.0",
       "icon_color": "white",
       "name": "life-ring"
      }
     },
     "03033c8aae4742be909c315f76789bf8": {
      "model_module": "@jupyter-widgets/base",
      "model_module_version": "1.2.0",
      "model_name": "LayoutModel",
      "state": {}
     },
     "0303d5d408ad47c9a1567aa8d3b9d050": {
      "model_module": "jupyter-leaflet",
      "model_module_version": "^0.14.0",
      "model_name": "LeafletAwesomeIconModel",
      "state": {
       "_model_module_version": "^0.14.0",
       "_view_module_version": "^0.14.0",
       "icon_color": "white",
       "marker_color": "orange",
       "name": "life-ring"
      }
     },
     "0355f1efea444136a8eff7dce142d523": {
      "model_module": "@jupyter-widgets/controls",
      "model_module_version": "1.5.0",
      "model_name": "DescriptionStyleModel",
      "state": {
       "description_width": ""
      }
     },
     "0380af0c690f4e2c8ab38c1052eeb6cb": {
      "model_module": "@jupyter-widgets/base",
      "model_module_version": "1.2.0",
      "model_name": "LayoutModel",
      "state": {}
     },
     "0398ad435cd64f0e9b038d233971d40e": {
      "model_module": "jupyter-leaflet",
      "model_module_version": "^0.14.0",
      "model_name": "LeafletAwesomeIconModel",
      "state": {
       "_model_module_version": "^0.14.0",
       "_view_module_version": "^0.14.0",
       "icon_color": "white",
       "marker_color": "orange",
       "name": "life-ring"
      }
     },
     "04e037a9c7f043cebb377fec6d7e4a32": {
      "model_module": "@jupyter-widgets/controls",
      "model_module_version": "1.5.0",
      "model_name": "HTMLModel",
      "state": {
       "layout": "IPY_MODEL_78d95510305140bca5d5a1b0847a1e48",
       "style": "IPY_MODEL_067651debd554911bbad34fdb102987c",
       "value": "<table border=\"1\" class=\"dataframe table table-striped table-hover table-condensed table-responsive\">\n  <thead>\n    <tr style=\"text-align: right;\">\n      <th></th>\n      <th>31</th>\n    </tr>\n  </thead>\n  <tbody>\n    <tr>\n      <th>Institution</th>\n      <td>Ocean Observatories Initiative (OOI)</td>\n    </tr>\n    <tr>\n      <th>Dataset ID</th>\n      <td>ooi-ce06issm-rid16-02-flortd000</td>\n    </tr>\n  </tbody>\n</table>"
      }
     },
     "0533e3a3eeb2493db09363337a4a5ab6": {
      "model_module": "@jupyter-widgets/controls",
      "model_module_version": "1.5.0",
      "model_name": "DescriptionStyleModel",
      "state": {
       "description_width": ""
      }
     },
     "0541cce5c15046d0af33033f490e0bd6": {
      "model_module": "@jupyter-widgets/base",
      "model_module_version": "1.2.0",
      "model_name": "LayoutModel",
      "state": {}
     },
     "05aa0fbc14e2489eb246a41cf48097f0": {
      "model_module": "@jupyter-widgets/base",
      "model_module_version": "1.2.0",
      "model_name": "LayoutModel",
      "state": {}
     },
     "06367a2e2baf4c949e442057f4660ca1": {
      "model_module": "jupyter-leaflet",
      "model_module_version": "^0.14.0",
      "model_name": "LeafletMarkerModel",
      "state": {
       "_model_module_version": "^0.14.0",
       "_view_module_version": "^0.14.0",
       "icon": "IPY_MODEL_70d1ee14d87045659af1b3122c09dd33",
       "location": [
        44.6,
        -124.3
       ],
       "options": [
        "alt",
        "draggable",
        "keyboard",
        "rise_offset",
        "rise_on_hover",
        "rotation_angle",
        "rotation_origin",
        "title",
        "z_index_offset"
       ],
       "popup": "IPY_MODEL_9a8715a7630a4064b7b66d3e900438b3"
      }
     },
     "065bb53fb09c4689981a6e577b23b613": {
      "model_module": "@jupyter-widgets/controls",
      "model_module_version": "1.5.0",
      "model_name": "DescriptionStyleModel",
      "state": {
       "description_width": ""
      }
     },
     "0662c6a6d45c457ca646d1e8d322bf7a": {
      "model_module": "@jupyter-widgets/controls",
      "model_module_version": "1.5.0",
      "model_name": "DescriptionStyleModel",
      "state": {
       "description_width": ""
      }
     },
     "067651debd554911bbad34fdb102987c": {
      "model_module": "@jupyter-widgets/controls",
      "model_module_version": "1.5.0",
      "model_name": "DescriptionStyleModel",
      "state": {
       "description_width": ""
      }
     },
     "0694e07cbee6497b96947a559aa20d9c": {
      "model_module": "@jupyter-widgets/base",
      "model_module_version": "1.2.0",
      "model_name": "LayoutModel",
      "state": {}
     },
     "06b4b599cf1a49138ed4d2de53f5d219": {
      "model_module": "@jupyter-widgets/controls",
      "model_module_version": "1.5.0",
      "model_name": "HTMLModel",
      "state": {
       "layout": "IPY_MODEL_41689ae56527440aa96c84eeb7400946",
       "style": "IPY_MODEL_37047ae22f6e49cd907bb101d66ac62d",
       "value": "<table border=\"1\" class=\"dataframe table table-striped table-hover table-condensed table-responsive\">\n  <thead>\n    <tr style=\"text-align: right;\">\n      <th></th>\n      <th>38</th>\n    </tr>\n  </thead>\n  <tbody>\n    <tr>\n      <th>Institution</th>\n      <td>Ocean Observatories Initiative (OOI)</td>\n    </tr>\n    <tr>\n      <th>Dataset ID</th>\n      <td>ooi-ce06issm-mfd35-06-phsend000</td>\n    </tr>\n  </tbody>\n</table>"
      }
     },
     "06d6f7ebf5164ccfa6d941f6cd99f80d": {
      "model_module": "@jupyter-widgets/base",
      "model_module_version": "1.2.0",
      "model_name": "LayoutModel",
      "state": {}
     },
     "06df2ed24e8144dfaccdc89ba58874c2": {
      "model_module": "@jupyter-widgets/controls",
      "model_module_version": "1.5.0",
      "model_name": "DescriptionStyleModel",
      "state": {
       "description_width": ""
      }
     },
     "06eba3ae82c945c09b70ad788145614b": {
      "model_module": "@jupyter-widgets/base",
      "model_module_version": "1.2.0",
      "model_name": "LayoutModel",
      "state": {}
     },
     "078cb08b3d484973b8b4626d4363e4a3": {
      "model_module": "@jupyter-widgets/controls",
      "model_module_version": "1.5.0",
      "model_name": "DescriptionStyleModel",
      "state": {
       "description_width": ""
      }
     },
     "078e25c3395146d79666628d8f4da034": {
      "model_module": "jupyter-leaflet",
      "model_module_version": "^0.14.0",
      "model_name": "LeafletAwesomeIconModel",
      "state": {
       "_model_module_version": "^0.14.0",
       "_view_module_version": "^0.14.0",
       "icon_color": "white",
       "marker_color": "orange",
       "name": "life-ring"
      }
     },
     "0793338956ad45df90e8c71d9ea42124": {
      "model_module": "@jupyter-widgets/controls",
      "model_module_version": "1.5.0",
      "model_name": "HTMLModel",
      "state": {
       "layout": "IPY_MODEL_ae544723b36b4db29f54d805fba60afb",
       "style": "IPY_MODEL_3850a61ce8de43dfa8e46a547c1c58d4",
       "value": "<table border=\"1\" class=\"dataframe table table-striped table-hover table-condensed table-responsive\">\n  <thead>\n    <tr style=\"text-align: right;\">\n      <th></th>\n      <th>74</th>\n    </tr>\n  </thead>\n  <tbody>\n    <tr>\n      <th>Institution</th>\n      <td>NOAA Center for Operational Oceanographic Products and Services (CO-OPS)</td>\n    </tr>\n    <tr>\n      <th>Dataset ID</th>\n      <td>noaa_nos_co_ops_9437540</td>\n    </tr>\n  </tbody>\n</table>"
      }
     },
     "0797c143c9ae4ac29a56c3c27057bd94": {
      "model_module": "jupyter-leaflet",
      "model_module_version": "^0.14.0",
      "model_name": "LeafletAwesomeIconModel",
      "state": {
       "_model_module_version": "^0.14.0",
       "_view_module_version": "^0.14.0",
       "icon_color": "white",
       "marker_color": "orange",
       "name": "life-ring"
      }
     },
     "0862e16dfe0d4197949d716b20665c6e": {
      "model_module": "jupyter-leaflet",
      "model_module_version": "^0.14.0",
      "model_name": "LeafletMarkerModel",
      "state": {
       "_model_module_version": "^0.14.0",
       "_view_module_version": "^0.14.0",
       "icon": "IPY_MODEL_87544b25b1bc448ab88a35d471461ff2",
       "location": [
        47.1345,
        -124.27087
       ],
       "options": [
        "alt",
        "draggable",
        "keyboard",
        "rise_offset",
        "rise_on_hover",
        "rotation_angle",
        "rotation_origin",
        "title",
        "z_index_offset"
       ],
       "popup": "IPY_MODEL_725033bac50d4f1ba0dbfb784b042974"
      }
     },
     "0899d75e645444169dbb1e9ab0186cbc": {
      "model_module": "@jupyter-widgets/controls",
      "model_module_version": "1.5.0",
      "model_name": "HTMLModel",
      "state": {
       "layout": "IPY_MODEL_8ca227214eb7454f96a38d5f8ed3412d",
       "style": "IPY_MODEL_f8c37ffde7814f7098d43fd391781c02",
       "value": "<table border=\"1\" class=\"dataframe table table-striped table-hover table-condensed table-responsive\">\n  <thead>\n    <tr style=\"text-align: right;\">\n      <th></th>\n      <th>21</th>\n    </tr>\n  </thead>\n  <tbody>\n    <tr>\n      <th>Institution</th>\n      <td>Ocean Observatories Initiative (OOI)</td>\n    </tr>\n    <tr>\n      <th>Dataset ID</th>\n      <td>ooi-ce04ossm-sbd12-04-pco2aa000</td>\n    </tr>\n  </tbody>\n</table>"
      }
     },
     "09687a4ed88544779d9d48006aa78142": {
      "model_module": "jupyter-leaflet",
      "model_module_version": "^0.14.0",
      "model_name": "LeafletAwesomeIconModel",
      "state": {
       "_model_module_version": "^0.14.0",
       "_view_module_version": "^0.14.0",
       "icon_color": "white",
       "name": "life-ring"
      }
     },
     "0995db21ad52474fbdfe36c95d3422a0": {
      "model_module": "@jupyter-widgets/controls",
      "model_module_version": "1.5.0",
      "model_name": "HTMLModel",
      "state": {
       "layout": "IPY_MODEL_d8c201fb51ed4dea9b03e40bd746ad43",
       "style": "IPY_MODEL_fc715c23cedd411e9beb5549b3d292b3",
       "value": "<table border=\"1\" class=\"dataframe table table-striped table-hover table-condensed table-responsive\">\n  <thead>\n    <tr style=\"text-align: right;\">\n      <th></th>\n      <th>29</th>\n    </tr>\n  </thead>\n  <tbody>\n    <tr>\n      <th>Institution</th>\n      <td>Ocean Observatories Initiative (OOI)</td>\n    </tr>\n    <tr>\n      <th>Dataset ID</th>\n      <td>ooi-ce02shsm-sbd11-06-metbka000</td>\n    </tr>\n  </tbody>\n</table>"
      }
     },
     "09dc333c0f2943988d74586cfe9e05f8": {
      "model_module": "@jupyter-widgets/base",
      "model_module_version": "1.2.0",
      "model_name": "LayoutModel",
      "state": {}
     },
     "0a13445913c64e3fb3dade4d1b45ec53": {
      "model_module": "jupyter-leaflet",
      "model_module_version": "^0.14.0",
      "model_name": "LeafletMarkerModel",
      "state": {
       "_model_module_version": "^0.14.0",
       "_view_module_version": "^0.14.0",
       "icon": "IPY_MODEL_751a09ccd6cd4108ad6661c68f34175e",
       "location": [
        46.85367,
        -124.95935
       ],
       "options": [
        "alt",
        "draggable",
        "keyboard",
        "rise_offset",
        "rise_on_hover",
        "rotation_angle",
        "rotation_origin",
        "title",
        "z_index_offset"
       ],
       "popup": "IPY_MODEL_d573c2d04c8045a6a4f598feea3b9913"
      }
     },
     "0a143eefea614f298ab4a6ac05eb396d": {
      "model_module": "@jupyter-widgets/controls",
      "model_module_version": "1.5.0",
      "model_name": "DescriptionStyleModel",
      "state": {
       "description_width": ""
      }
     },
     "0a638f1c4168424ca7b632807cf590bd": {
      "model_module": "@jupyter-widgets/base",
      "model_module_version": "1.2.0",
      "model_name": "LayoutModel",
      "state": {}
     },
     "0b0dd053b469474594ce0d75bebe889b": {
      "model_module": "jupyter-leaflet",
      "model_module_version": "^0.14.0",
      "model_name": "LeafletAwesomeIconModel",
      "state": {
       "_model_module_version": "^0.14.0",
       "_view_module_version": "^0.14.0",
       "icon_color": "white",
       "marker_color": "orange",
       "name": "life-ring"
      }
     },
     "0b4fc55f198a45dea5a5f3aa308b1db6": {
      "model_module": "@jupyter-widgets/controls",
      "model_module_version": "1.5.0",
      "model_name": "DescriptionStyleModel",
      "state": {
       "description_width": ""
      }
     },
     "0bad518039fa473ab742da7d304b1f9a": {
      "model_module": "@jupyter-widgets/controls",
      "model_module_version": "1.5.0",
      "model_name": "DescriptionStyleModel",
      "state": {
       "description_width": ""
      }
     },
     "0be727739dba49079ab7a21aab343b21": {
      "model_module": "jupyter-leaflet",
      "model_module_version": "^0.14.0",
      "model_name": "LeafletAwesomeIconModel",
      "state": {
       "_model_module_version": "^0.14.0",
       "_view_module_version": "^0.14.0",
       "icon_color": "white",
       "marker_color": "orange",
       "name": "life-ring"
      }
     },
     "0bfad5ffb75d4b348db1f3ea3e8a9b23": {
      "model_module": "@jupyter-widgets/controls",
      "model_module_version": "1.5.0",
      "model_name": "HTMLModel",
      "state": {
       "layout": "IPY_MODEL_6aafbe919f6747718037465a862e8b5b",
       "style": "IPY_MODEL_2f970490e4de4f058c5491eb90c30ad1",
       "value": "<table border=\"1\" class=\"dataframe table table-striped table-hover table-condensed table-responsive\">\n  <thead>\n    <tr style=\"text-align: right;\">\n      <th></th>\n      <th>17</th>\n    </tr>\n  </thead>\n  <tbody>\n    <tr>\n      <th>Institution</th>\n      <td>Ocean Observatories Initiative (OOI)</td>\n    </tr>\n    <tr>\n      <th>Dataset ID</th>\n      <td>ooi-ce04ossm-rid27-04-dostad000</td>\n    </tr>\n  </tbody>\n</table>"
      }
     },
     "0c14b03fec56429ea4d7d48d03136a88": {
      "model_module": "@jupyter-widgets/base",
      "model_module_version": "1.2.0",
      "model_name": "LayoutModel",
      "state": {}
     },
     "0c45d13d92b7457198728b1b567ae935": {
      "model_module": "jupyter-leaflet",
      "model_module_version": "^0.14.0",
      "model_name": "LeafletMarkerModel",
      "state": {
       "_model_module_version": "^0.14.0",
       "_view_module_version": "^0.14.0",
       "icon": "IPY_MODEL_6f5e887e5e2d4acfabbca83c2340a34b",
       "location": [
        44.6,
        -124.3
       ],
       "options": [
        "alt",
        "draggable",
        "keyboard",
        "rise_offset",
        "rise_on_hover",
        "rotation_angle",
        "rotation_origin",
        "title",
        "z_index_offset"
       ],
       "popup": "IPY_MODEL_9883f3fbae234bfa8e3351030097e233"
      }
     },
     "0c5b39b821b047fdaa2e4598ee7a2e36": {
      "model_module": "@jupyter-widgets/controls",
      "model_module_version": "1.5.0",
      "model_name": "HTMLModel",
      "state": {
       "layout": "IPY_MODEL_3a8445e8a3744c90b0f2de58e652809c",
       "style": "IPY_MODEL_d044f59ff5b14a108ddf2fd246f590a4",
       "value": "<table border=\"1\" class=\"dataframe table table-striped table-hover table-condensed table-responsive\">\n  <thead>\n    <tr style=\"text-align: right;\">\n      <th></th>\n      <th>11</th>\n    </tr>\n  </thead>\n  <tbody>\n    <tr>\n      <th>Institution</th>\n      <td>Ocean Observatories Initiative (OOI)</td>\n    </tr>\n    <tr>\n      <th>Dataset ID</th>\n      <td>ooi-ce04osbp-lj01c-10-phsend107</td>\n    </tr>\n  </tbody>\n</table>"
      }
     },
     "0c7643329bd54fcb87ee8fb712b7a732": {
      "model_module": "jupyter-leaflet",
      "model_module_version": "^0.14.0",
      "model_name": "LeafletMarkerModel",
      "state": {
       "_model_module_version": "^0.14.0",
       "_view_module_version": "^0.14.0",
       "icon": "IPY_MODEL_bb6fab6f91224265b70ee8d33672ae80",
       "location": [
        44.65678,
        -124.09707
       ],
       "options": [
        "alt",
        "draggable",
        "keyboard",
        "rise_offset",
        "rise_on_hover",
        "rotation_angle",
        "rotation_origin",
        "title",
        "z_index_offset"
       ],
       "popup": "IPY_MODEL_5eef00876c794003bb6bc15f2d9049d6"
      }
     },
     "0cc15c8b3ade4a6ca03edaa6bd00f079": {
      "model_module": "@jupyter-widgets/base",
      "model_module_version": "1.2.0",
      "model_name": "LayoutModel",
      "state": {}
     },
     "0dad78ea21f64b08b1972883c8d31ba6": {
      "model_module": "jupyter-leaflet",
      "model_module_version": "^0.14.0",
      "model_name": "LeafletAwesomeIconModel",
      "state": {
       "_model_module_version": "^0.14.0",
       "_view_module_version": "^0.14.0",
       "icon_color": "white",
       "name": "life-ring"
      }
     },
     "0db595946e3c4ade909fa19ca6dbc917": {
      "model_module": "@jupyter-widgets/controls",
      "model_module_version": "1.5.0",
      "model_name": "DescriptionStyleModel",
      "state": {
       "description_width": ""
      }
     },
     "0e1ba6a13357428fafd0a67cb5dad4e3": {
      "model_module": "jupyter-leaflet",
      "model_module_version": "^0.14.0",
      "model_name": "LeafletAwesomeIconModel",
      "state": {
       "_model_module_version": "^0.14.0",
       "_view_module_version": "^0.14.0",
       "icon_color": "white",
       "name": "life-ring"
      }
     },
     "0e1bad5b60ee45cdac19708016adfcd0": {
      "model_module": "@jupyter-widgets/controls",
      "model_module_version": "1.5.0",
      "model_name": "HTMLModel",
      "state": {
       "layout": "IPY_MODEL_c8563b6e220942ef82fd7fa8d07900eb",
       "style": "IPY_MODEL_74d3ed55900f411798f9cd8873490ef2",
       "value": "<table border=\"1\" class=\"dataframe table table-striped table-hover table-condensed table-responsive\">\n  <thead>\n    <tr style=\"text-align: right;\">\n      <th></th>\n      <th>65</th>\n    </tr>\n  </thead>\n  <tbody>\n    <tr>\n      <th>Institution</th>\n      <td>Observing System Monitoring Center (OSMC)</td>\n    </tr>\n    <tr>\n      <th>Dataset ID</th>\n      <td>osmc_46098</td>\n    </tr>\n  </tbody>\n</table>"
      }
     },
     "0e29128dbe0d4e8b8b41b6a424089e57": {
      "model_module": "@jupyter-widgets/base",
      "model_module_version": "1.2.0",
      "model_name": "LayoutModel",
      "state": {}
     },
     "0e67f04279714daeb0cc1574c0984fe1": {
      "model_module": "@jupyter-widgets/controls",
      "model_module_version": "1.5.0",
      "model_name": "DescriptionStyleModel",
      "state": {
       "description_width": ""
      }
     },
     "0e6f853556ae485598bcca048902c5df": {
      "model_module": "jupyter-leaflet",
      "model_module_version": "^0.14.0",
      "model_name": "LeafletMarkerModel",
      "state": {
       "_model_module_version": "^0.14.0",
       "_view_module_version": "^0.14.0",
       "icon": "IPY_MODEL_b78dcf10b96b43d193b810f90052082f",
       "location": [
        44.65678,
        -124.09707
       ],
       "options": [
        "alt",
        "draggable",
        "keyboard",
        "rise_offset",
        "rise_on_hover",
        "rotation_angle",
        "rotation_origin",
        "title",
        "z_index_offset"
       ],
       "popup": "IPY_MODEL_561cf554296b46828361ef7ca4b2814a"
      }
     },
     "0e9a66af367e453cb012f568d3e21123": {
      "model_module": "jupyter-leaflet",
      "model_module_version": "^0.14.0",
      "model_name": "LeafletAwesomeIconModel",
      "state": {
       "_model_module_version": "^0.14.0",
       "_view_module_version": "^0.14.0",
       "icon_color": "white",
       "marker_color": "orange",
       "name": "life-ring"
      }
     },
     "0ea3eac917fd41619def0dabd955bde5": {
      "model_module": "@jupyter-widgets/controls",
      "model_module_version": "1.5.0",
      "model_name": "DescriptionStyleModel",
      "state": {
       "description_width": ""
      }
     },
     "0ea95ad08f2b421dafc61b9db036c742": {
      "model_module": "jupyter-leaflet",
      "model_module_version": "^0.14.0",
      "model_name": "LeafletMarkerModel",
      "state": {
       "_model_module_version": "^0.14.0",
       "_view_module_version": "^0.14.0",
       "icon": "IPY_MODEL_d9db90d3b9a64ac08867d2c4af8552c5",
       "location": [
        46.98648,
        -124.56923
       ],
       "options": [
        "alt",
        "draggable",
        "keyboard",
        "rise_offset",
        "rise_on_hover",
        "rotation_angle",
        "rotation_origin",
        "title",
        "z_index_offset"
       ],
       "popup": "IPY_MODEL_15ce187af4cf470e8d7efd65e4a258be"
      }
     },
     "0eba3b088c854b43bfb6d5aee87d5876": {
      "model_module": "jupyter-leaflet",
      "model_module_version": "^0.14.0",
      "model_name": "LeafletMarkerModel",
      "state": {
       "_model_module_version": "^0.14.0",
       "_view_module_version": "^0.14.0",
       "icon": "IPY_MODEL_91f3f9b8a0ab417b9872ff849a26e75c",
       "location": [
        47.1345,
        -124.27087
       ],
       "options": [
        "alt",
        "draggable",
        "keyboard",
        "rise_offset",
        "rise_on_hover",
        "rotation_angle",
        "rotation_origin",
        "title",
        "z_index_offset"
       ],
       "popup": "IPY_MODEL_15467982e49d445492bee2077e9d4f05"
      }
     },
     "0edd154c36374ac8b7ac0311e53bdb9f": {
      "model_module": "jupyter-leaflet",
      "model_module_version": "^0.14.0",
      "model_name": "LeafletAwesomeIconModel",
      "state": {
       "_model_module_version": "^0.14.0",
       "_view_module_version": "^0.14.0",
       "icon_color": "white",
       "marker_color": "orange",
       "name": "life-ring"
      }
     },
     "0f230c4b6ce846359d4d6f409b6495bc": {
      "model_module": "jupyter-leaflet",
      "model_module_version": "^0.14.0",
      "model_name": "LeafletAwesomeIconModel",
      "state": {
       "_model_module_version": "^0.14.0",
       "_view_module_version": "^0.14.0",
       "icon_color": "white",
       "marker_color": "orange",
       "name": "life-ring"
      }
     },
     "0f73b6a0eb9c4ebab84dde07601b526c": {
      "model_module": "@jupyter-widgets/base",
      "model_module_version": "1.2.0",
      "model_name": "LayoutModel",
      "state": {}
     },
     "0f9a3c3c23604f06bcecbafc4b42bff5": {
      "model_module": "jupyter-leaflet",
      "model_module_version": "^0.14.0",
      "model_name": "LeafletAwesomeIconModel",
      "state": {
       "_model_module_version": "^0.14.0",
       "_view_module_version": "^0.14.0",
       "icon_color": "white",
       "name": "life-ring"
      }
     },
     "1016746262324ed4920644a5e247b045": {
      "model_module": "@jupyter-widgets/controls",
      "model_module_version": "1.5.0",
      "model_name": "HTMLModel",
      "state": {
       "layout": "IPY_MODEL_8c236b0874284473b7f14ec4bec2a09b",
       "style": "IPY_MODEL_bd484707e21646cbaec7e7ce3b3c3064",
       "value": "<table border=\"1\" class=\"dataframe table table-striped table-hover table-condensed table-responsive\">\n  <thead>\n    <tr style=\"text-align: right;\">\n      <th></th>\n      <th>62</th>\n    </tr>\n  </thead>\n  <tbody>\n    <tr>\n      <th>Institution</th>\n      <td>Ocean Observatories Initiative (OOI)</td>\n    </tr>\n    <tr>\n      <th>Dataset ID</th>\n      <td>ooi-rs01sbps-pc01a-4b-phsena102</td>\n    </tr>\n  </tbody>\n</table>"
      }
     },
     "102c108691c64d14a05d2b238a621c49": {
      "model_module": "jupyter-leaflet",
      "model_module_version": "^0.14.0",
      "model_name": "LeafletMarkerModel",
      "state": {
       "_model_module_version": "^0.14.0",
       "_view_module_version": "^0.14.0",
       "icon": "IPY_MODEL_6d14fd9402c34e4f912a31485f49e00a",
       "location": [
        47.1345,
        -124.27087
       ],
       "options": [
        "alt",
        "draggable",
        "keyboard",
        "rise_offset",
        "rise_on_hover",
        "rotation_angle",
        "rotation_origin",
        "title",
        "z_index_offset"
       ],
       "popup": "IPY_MODEL_3be2937ea703415d90eacdc94e8c42fe"
      }
     },
     "10328c99bc25485685e23036254d4f9b": {
      "model_module": "@jupyter-widgets/base",
      "model_module_version": "1.2.0",
      "model_name": "LayoutModel",
      "state": {}
     },
     "1043606736a74e06afab119b8e11fb83": {
      "model_module": "@jupyter-widgets/controls",
      "model_module_version": "1.5.0",
      "model_name": "DescriptionStyleModel",
      "state": {
       "description_width": ""
      }
     },
     "10abbaf8aa1c40cc840deaeef44a8fa7": {
      "model_module": "@jupyter-widgets/controls",
      "model_module_version": "1.5.0",
      "model_name": "HTMLModel",
      "state": {
       "layout": "IPY_MODEL_d8bbfc180ea34a7faade3963d914db4f",
       "style": "IPY_MODEL_c55a38762e164f5f8530afbdd5613c62",
       "value": "<table border=\"1\" class=\"dataframe table table-striped table-hover table-condensed table-responsive\">\n  <thead>\n    <tr style=\"text-align: right;\">\n      <th></th>\n      <th>39</th>\n    </tr>\n  </thead>\n  <tbody>\n    <tr>\n      <th>Institution</th>\n      <td>Ocean Observatories Initiative (OOI)</td>\n    </tr>\n    <tr>\n      <th>Dataset ID</th>\n      <td>ooi-ce06issm-sbd17-06-flortd000</td>\n    </tr>\n  </tbody>\n</table>"
      }
     },
     "1104c4584af34b2ca66421355226c700": {
      "model_module": "jupyter-leaflet",
      "model_module_version": "^0.14.0",
      "model_name": "LeafletMarkerModel",
      "state": {
       "_model_module_version": "^0.14.0",
       "_view_module_version": "^0.14.0",
       "icon": "IPY_MODEL_4d3449d5e6284ac9a4a7d315a37246f2",
       "location": [
        44.3695,
        -124.95369
       ],
       "options": [
        "alt",
        "draggable",
        "keyboard",
        "rise_offset",
        "rise_on_hover",
        "rotation_angle",
        "rotation_origin",
        "title",
        "z_index_offset"
       ],
       "popup": "IPY_MODEL_151e6d2f127246e7b983b00150076e9e"
      }
     },
     "1104e1875021431fbe7b9dba55301622": {
      "model_module": "jupyter-leaflet",
      "model_module_version": "^0.14.0",
      "model_name": "LeafletAwesomeIconModel",
      "state": {
       "_model_module_version": "^0.14.0",
       "_view_module_version": "^0.14.0",
       "icon_color": "white",
       "marker_color": "orange",
       "name": "life-ring"
      }
     },
     "112e162e817a4cc8a2dd770a8302a8d6": {
      "model_module": "@jupyter-widgets/controls",
      "model_module_version": "1.5.0",
      "model_name": "DescriptionStyleModel",
      "state": {
       "description_width": ""
      }
     },
     "11bd60b9cf6743bfb404c831db78d422": {
      "model_module": "jupyter-leaflet",
      "model_module_version": "^0.14.0",
      "model_name": "LeafletMarkerModel",
      "state": {
       "_model_module_version": "^0.14.0",
       "_view_module_version": "^0.14.0",
       "icon": "IPY_MODEL_c4ac9fe3bd874e8d853d740404c2fe47",
       "location": [
        46.85367,
        -124.95935
       ],
       "options": [
        "alt",
        "draggable",
        "keyboard",
        "rise_offset",
        "rise_on_hover",
        "rotation_angle",
        "rotation_origin",
        "title",
        "z_index_offset"
       ],
       "popup": "IPY_MODEL_ecfcf2a1be5c485e95e3fc0c93346d3a"
      }
     },
     "11fe658f22b441499792a07b385fee25": {
      "model_module": "@jupyter-widgets/controls",
      "model_module_version": "1.5.0",
      "model_name": "DescriptionStyleModel",
      "state": {
       "description_width": ""
      }
     },
     "1219bea113664c8d843a6a547b9d3736": {
      "model_module": "jupyter-leaflet",
      "model_module_version": "^0.14.0",
      "model_name": "LeafletMarkerModel",
      "state": {
       "_model_module_version": "^0.14.0",
       "_view_module_version": "^0.14.0",
       "icon": "IPY_MODEL_02cee169040d4926a776ea4b79f1d380",
       "location": [
        46.6290016174316,
        -123.951599121094
       ],
       "options": [
        "alt",
        "draggable",
        "keyboard",
        "rise_offset",
        "rise_on_hover",
        "rotation_angle",
        "rotation_origin",
        "title",
        "z_index_offset"
       ],
       "popup": "IPY_MODEL_b869382f73a94d51a1e4200821248a40"
      }
     },
     "123e0a6356024816856dcd6b99c7e4ea": {
      "model_module": "@jupyter-widgets/controls",
      "model_module_version": "1.5.0",
      "model_name": "HTMLModel",
      "state": {
       "layout": "IPY_MODEL_62d7a8caabef4c30a389a6132ccca439",
       "style": "IPY_MODEL_f8f553638cdf438da4381c30fb811271",
       "value": "<table border=\"1\" class=\"dataframe table table-striped table-hover table-condensed table-responsive\">\n  <thead>\n    <tr style=\"text-align: right;\">\n      <th></th>\n      <th>55</th>\n    </tr>\n  </thead>\n  <tbody>\n    <tr>\n      <th>Institution</th>\n      <td>Ocean Observatories Initiative (OOI)</td>\n    </tr>\n    <tr>\n      <th>Dataset ID</th>\n      <td>ooi-ce07shsm-mfd37-03-ctdbpc000</td>\n    </tr>\n  </tbody>\n</table>"
      }
     },
     "1253f3f785a84714894e638cd7fea7aa": {
      "model_module": "jupyter-leaflet",
      "model_module_version": "^0.14.0",
      "model_name": "LeafletMarkerModel",
      "state": {
       "_model_module_version": "^0.14.0",
       "_view_module_version": "^0.14.0",
       "icon": "IPY_MODEL_e4b6a648ff4042b5ae956bd0493ecd5d",
       "location": [
        44.52897,
        -125.38966
       ],
       "options": [
        "alt",
        "draggable",
        "keyboard",
        "rise_offset",
        "rise_on_hover",
        "rotation_angle",
        "rotation_origin",
        "title",
        "z_index_offset"
       ],
       "popup": "IPY_MODEL_3b93662578fb4e9cb9099eb8356f13d2"
      }
     },
     "127a3ddb40974c88829f163bc52abb87": {
      "model_module": "jupyter-leaflet",
      "model_module_version": "^0.14.0",
      "model_name": "LeafletMarkerModel",
      "state": {
       "_model_module_version": "^0.14.0",
       "_view_module_version": "^0.14.0",
       "icon": "IPY_MODEL_53062898678540ffaad140abfb0482f0",
       "location": [
        47.1345,
        -124.27087
       ],
       "options": [
        "alt",
        "draggable",
        "keyboard",
        "rise_offset",
        "rise_on_hover",
        "rotation_angle",
        "rotation_origin",
        "title",
        "z_index_offset"
       ],
       "popup": "IPY_MODEL_10abbaf8aa1c40cc840deaeef44a8fa7"
      }
     },
     "12afaa192e6d4632b254f540ddfb106a": {
      "model_module": "@jupyter-widgets/base",
      "model_module_version": "1.2.0",
      "model_name": "LayoutModel",
      "state": {}
     },
     "12caeb919f0a4db8847393ff1b3a3889": {
      "model_module": "jupyter-leaflet",
      "model_module_version": "^0.14.0",
      "model_name": "LeafletMarkerModel",
      "state": {
       "_model_module_version": "^0.14.0",
       "_view_module_version": "^0.14.0",
       "icon": "IPY_MODEL_548a3ad07269421681f7110f25cb5aa3",
       "location": [
        44.65678,
        -124.09707
       ],
       "options": [
        "alt",
        "draggable",
        "keyboard",
        "rise_offset",
        "rise_on_hover",
        "rotation_angle",
        "rotation_origin",
        "title",
        "z_index_offset"
       ],
       "popup": "IPY_MODEL_9997964c386a4da38e2e37f991b87daa"
      }
     },
     "12f4903caa394adca0e6ed04b49c89d3": {
      "model_module": "jupyter-leaflet",
      "model_module_version": "^0.14.0",
      "model_name": "LeafletAwesomeIconModel",
      "state": {
       "_model_module_version": "^0.14.0",
       "_view_module_version": "^0.14.0",
       "icon_color": "white",
       "name": "life-ring"
      }
     },
     "13010a9d94444bc9a6826039213e3d55": {
      "model_module": "@jupyter-widgets/controls",
      "model_module_version": "1.5.0",
      "model_name": "DescriptionStyleModel",
      "state": {
       "description_width": ""
      }
     },
     "1315b6979800475aaaaaffbbcbe517f7": {
      "model_module": "@jupyter-widgets/controls",
      "model_module_version": "1.5.0",
      "model_name": "DescriptionStyleModel",
      "state": {
       "description_width": ""
      }
     },
     "136244e338cb46dc8e08399f181b3747": {
      "model_module": "@jupyter-widgets/base",
      "model_module_version": "1.2.0",
      "model_name": "LayoutModel",
      "state": {}
     },
     "1389c37f83154960bda96a3e5d161153": {
      "model_module": "@jupyter-widgets/base",
      "model_module_version": "1.2.0",
      "model_name": "LayoutModel",
      "state": {}
     },
     "13e503a2fac146ed8961ce43deec2b0b": {
      "model_module": "@jupyter-widgets/base",
      "model_module_version": "1.2.0",
      "model_name": "LayoutModel",
      "state": {}
     },
     "1410619d1c17434197fb34ea3dcef4c2": {
      "model_module": "jupyter-leaflet",
      "model_module_version": "^0.14.0",
      "model_name": "LeafletAwesomeIconModel",
      "state": {
       "_model_module_version": "^0.14.0",
       "_view_module_version": "^0.14.0",
       "icon_color": "white",
       "name": "life-ring"
      }
     },
     "14176da2877149d9819295fb1f3f7aaf": {
      "model_module": "@jupyter-widgets/controls",
      "model_module_version": "1.5.0",
      "model_name": "HTMLModel",
      "state": {
       "layout": "IPY_MODEL_97e48348a37f473d962a6f7b0fbd18fc",
       "style": "IPY_MODEL_c94fb32d97f74d8fa64d728766c92e46",
       "value": "<table border=\"1\" class=\"dataframe table table-striped table-hover table-condensed table-responsive\">\n  <thead>\n    <tr style=\"text-align: right;\">\n      <th></th>\n      <th>47</th>\n    </tr>\n  </thead>\n  <tbody>\n    <tr>\n      <th>Institution</th>\n      <td>Ocean Observatories Initiative (OOI)</td>\n    </tr>\n    <tr>\n      <th>Dataset ID</th>\n      <td>ooi-ce09ossm-mfd37-03-dostad000</td>\n    </tr>\n  </tbody>\n</table>"
      }
     },
     "143cf617dbcd41d983825e3ad57c7798": {
      "model_module": "jupyter-leaflet",
      "model_module_version": "^0.14.0",
      "model_name": "LeafletMarkerModel",
      "state": {
       "_model_module_version": "^0.14.0",
       "_view_module_version": "^0.14.0",
       "icon": "IPY_MODEL_fc0f29153d8744ca9231eea9c0626a60",
       "location": [
        44.65678,
        -124.09707
       ],
       "options": [
        "alt",
        "draggable",
        "keyboard",
        "rise_offset",
        "rise_on_hover",
        "rotation_angle",
        "rotation_origin",
        "title",
        "z_index_offset"
       ],
       "popup": "IPY_MODEL_46b0b24f232b4c5ba6cb1c78d36ae75a"
      }
     },
     "1457649d4e634916bc6be0e8c4253231": {
      "model_module": "@jupyter-widgets/base",
      "model_module_version": "1.2.0",
      "model_name": "LayoutModel",
      "state": {}
     },
     "14915dad1df542c986ef74df6fe84801": {
      "model_module": "@jupyter-widgets/base",
      "model_module_version": "1.2.0",
      "model_name": "LayoutModel",
      "state": {}
     },
     "14c4b654c4f94b1fb59f2519d085b9b2": {
      "model_module": "@jupyter-widgets/controls",
      "model_module_version": "1.5.0",
      "model_name": "DescriptionStyleModel",
      "state": {
       "description_width": ""
      }
     },
     "151670f7e44c4c77b722598fbd072e6e": {
      "model_module": "jupyter-leaflet",
      "model_module_version": "^0.14.0",
      "model_name": "LeafletAwesomeIconModel",
      "state": {
       "_model_module_version": "^0.14.0",
       "_view_module_version": "^0.14.0",
       "icon_color": "white",
       "marker_color": "orange",
       "name": "life-ring"
      }
     },
     "151e6d2f127246e7b983b00150076e9e": {
      "model_module": "@jupyter-widgets/controls",
      "model_module_version": "1.5.0",
      "model_name": "HTMLModel",
      "state": {
       "layout": "IPY_MODEL_18231d4de74e40d98883742d6c868840",
       "style": "IPY_MODEL_a6caf9029abd4660b8e459f5779b9b14",
       "value": "<table border=\"1\" class=\"dataframe table table-striped table-hover table-condensed table-responsive\">\n  <thead>\n    <tr style=\"text-align: right;\">\n      <th></th>\n      <th>10</th>\n    </tr>\n  </thead>\n  <tbody>\n    <tr>\n      <th>Institution</th>\n      <td>Ocean Observatories Initiative (OOI)</td>\n    </tr>\n    <tr>\n      <th>Dataset ID</th>\n      <td>ooi-ce04osbp-lj01c-06-ctdbpo108</td>\n    </tr>\n  </tbody>\n</table>"
      }
     },
     "15467982e49d445492bee2077e9d4f05": {
      "model_module": "@jupyter-widgets/controls",
      "model_module_version": "1.5.0",
      "model_name": "HTMLModel",
      "state": {
       "layout": "IPY_MODEL_d801730b2e73439c89ee79374cb03cc7",
       "style": "IPY_MODEL_68297f74cbbe49ad95606f55cb54c805",
       "value": "<table border=\"1\" class=\"dataframe table table-striped table-hover table-condensed table-responsive\">\n  <thead>\n    <tr style=\"text-align: right;\">\n      <th></th>\n      <th>34</th>\n    </tr>\n  </thead>\n  <tbody>\n    <tr>\n      <th>Institution</th>\n      <td>Ocean Observatories Initiative (OOI)</td>\n    </tr>\n    <tr>\n      <th>Dataset ID</th>\n      <td>ooi-ce06issm-rid16-07-nutnrb000</td>\n    </tr>\n  </tbody>\n</table>"
      }
     },
     "15826698bb9e4ab6842f6ad46b8e8669": {
      "model_module": "jupyter-leaflet",
      "model_module_version": "^0.14.0",
      "model_name": "LeafletMarkerModel",
      "state": {
       "_model_module_version": "^0.14.0",
       "_view_module_version": "^0.14.0",
       "icon": "IPY_MODEL_c869d6311ac14795a9dfe4a43dcb6e74",
       "location": [
        46.85367,
        -124.95935
       ],
       "options": [
        "alt",
        "draggable",
        "keyboard",
        "rise_offset",
        "rise_on_hover",
        "rotation_angle",
        "rotation_origin",
        "title",
        "z_index_offset"
       ],
       "popup": "IPY_MODEL_c72c697c90514fa3b1f7f65b61d77b03"
      }
     },
     "15a3310eb53d4d469ffd560082d1ad5a": {
      "model_module": "@jupyter-widgets/controls",
      "model_module_version": "1.5.0",
      "model_name": "DescriptionStyleModel",
      "state": {
       "description_width": ""
      }
     },
     "15ce187af4cf470e8d7efd65e4a258be": {
      "model_module": "@jupyter-widgets/controls",
      "model_module_version": "1.5.0",
      "model_name": "HTMLModel",
      "state": {
       "layout": "IPY_MODEL_6a863680a6ce4d98bb4e1d15de08db28",
       "style": "IPY_MODEL_4105742901c54b9dbb20542360bdc903",
       "value": "<table border=\"1\" class=\"dataframe table table-striped table-hover table-condensed table-responsive\">\n  <thead>\n    <tr style=\"text-align: right;\">\n      <th></th>\n      <th>54</th>\n    </tr>\n  </thead>\n  <tbody>\n    <tr>\n      <th>Institution</th>\n      <td>Ocean Observatories Initiative (OOI)</td>\n    </tr>\n    <tr>\n      <th>Dataset ID</th>\n      <td>ooi-ce07shsm-rid26-06-phsend000</td>\n    </tr>\n  </tbody>\n</table>"
      }
     },
     "1618252b0b264742b40e7da25b34af2a": {
      "model_module": "@jupyter-widgets/controls",
      "model_module_version": "1.5.0",
      "model_name": "DescriptionStyleModel",
      "state": {
       "description_width": ""
      }
     },
     "165432891a5c49f0a0849c7e84c84c98": {
      "model_module": "@jupyter-widgets/controls",
      "model_module_version": "1.5.0",
      "model_name": "DescriptionStyleModel",
      "state": {
       "description_width": ""
      }
     },
     "16e8d95070084fe7bf028fa3791188ea": {
      "model_module": "jupyter-leaflet",
      "model_module_version": "^0.14.0",
      "model_name": "LeafletMarkerModel",
      "state": {
       "_model_module_version": "^0.14.0",
       "_view_module_version": "^0.14.0",
       "icon": "IPY_MODEL_9dacc49cb8a44da6a3bbfa13f16f8380",
       "location": [
        46.85367,
        -124.95935
       ],
       "options": [
        "alt",
        "draggable",
        "keyboard",
        "rise_offset",
        "rise_on_hover",
        "rotation_angle",
        "rotation_origin",
        "title",
        "z_index_offset"
       ],
       "popup": "IPY_MODEL_ae78589884b1413fb88faaf278c95e07"
      }
     },
     "173028c1c6b342e69bda3aeff2d185f7": {
      "model_module": "@jupyter-widgets/controls",
      "model_module_version": "1.5.0",
      "model_name": "DescriptionStyleModel",
      "state": {
       "description_width": ""
      }
     },
     "17d5c68bff7f4263bd9c64a45df268ca": {
      "model_module": "@jupyter-widgets/base",
      "model_module_version": "1.2.0",
      "model_name": "LayoutModel",
      "state": {}
     },
     "180f8ea6f6904b6aaa42c5887ab110d2": {
      "model_module": "@jupyter-widgets/base",
      "model_module_version": "1.2.0",
      "model_name": "LayoutModel",
      "state": {}
     },
     "18231d4de74e40d98883742d6c868840": {
      "model_module": "@jupyter-widgets/base",
      "model_module_version": "1.2.0",
      "model_name": "LayoutModel",
      "state": {}
     },
     "185b0bee201c4265a08eba0cad08b42e": {
      "model_module": "jupyter-leaflet",
      "model_module_version": "^0.14.0",
      "model_name": "LeafletMarkerModel",
      "state": {
       "_model_module_version": "^0.14.0",
       "_view_module_version": "^0.14.0",
       "icon": "IPY_MODEL_e22350480e1f497799cbb9c05c257a63",
       "location": [
        46.85367,
        -124.95935
       ],
       "options": [
        "alt",
        "draggable",
        "keyboard",
        "rise_offset",
        "rise_on_hover",
        "rotation_angle",
        "rotation_origin",
        "title",
        "z_index_offset"
       ],
       "popup": "IPY_MODEL_e290d8ef141f47e4a7e91d97c2d8a566"
      }
     },
     "189910d09fe44b1d9ebe9ee0880658ae": {
      "model_module": "@jupyter-widgets/controls",
      "model_module_version": "1.5.0",
      "model_name": "DescriptionStyleModel",
      "state": {
       "description_width": ""
      }
     },
     "18d131ff57484b4a934a8aa625d3be04": {
      "model_module": "@jupyter-widgets/controls",
      "model_module_version": "1.5.0",
      "model_name": "HTMLModel",
      "state": {
       "layout": "IPY_MODEL_b08e85e7cd0a4364b58c65a6ab5c633a",
       "style": "IPY_MODEL_f23e936755fb4e3185fe9019978b06e0",
       "value": "<table border=\"1\" class=\"dataframe table table-striped table-hover table-condensed table-responsive\">\n  <thead>\n    <tr style=\"text-align: right;\">\n      <th></th>\n      <th>28</th>\n    </tr>\n  </thead>\n  <tbody>\n    <tr>\n      <th>Institution</th>\n      <td>Ocean Observatories Initiative (OOI)</td>\n    </tr>\n    <tr>\n      <th>Dataset ID</th>\n      <td>ooi-ce02shsm-rid26-06-phsend000</td>\n    </tr>\n  </tbody>\n</table>"
      }
     },
     "18e6bad2c1094ba489ee904a42073cd8": {
      "model_module": "jupyter-leaflet",
      "model_module_version": "^0.14.0",
      "model_name": "LeafletAwesomeIconModel",
      "state": {
       "_model_module_version": "^0.14.0",
       "_view_module_version": "^0.14.0",
       "icon_color": "white",
       "marker_color": "orange",
       "name": "life-ring"
      }
     },
     "19599f81e9e04f08a26a09fcefa2675a": {
      "model_module": "@jupyter-widgets/controls",
      "model_module_version": "1.5.0",
      "model_name": "DescriptionStyleModel",
      "state": {
       "description_width": ""
      }
     },
     "19680e6401494c72835c736762679c28": {
      "model_module": "jupyter-leaflet",
      "model_module_version": "^0.14.0",
      "model_name": "LeafletMarkerModel",
      "state": {
       "_model_module_version": "^0.14.0",
       "_view_module_version": "^0.14.0",
       "icon": "IPY_MODEL_1ce6b5806a6f4ba788626d3d51144c72",
       "location": [
        44.63708,
        -124.30595
       ],
       "options": [
        "alt",
        "draggable",
        "keyboard",
        "rise_offset",
        "rise_on_hover",
        "rotation_angle",
        "rotation_origin",
        "title",
        "z_index_offset"
       ],
       "popup": "IPY_MODEL_345999cd2c414159afbbf5485dcf81ee"
      }
     },
     "19dc626ed13d4264920616b2ada5714c": {
      "model_module": "@jupyter-widgets/controls",
      "model_module_version": "1.5.0",
      "model_name": "HTMLModel",
      "state": {
       "layout": "IPY_MODEL_5f08811feb9543a0aa5528f173ec1771",
       "style": "IPY_MODEL_06df2ed24e8144dfaccdc89ba58874c2",
       "value": "<table border=\"1\" class=\"dataframe table table-striped table-hover table-condensed table-responsive\">\n  <thead>\n    <tr style=\"text-align: right;\">\n      <th></th>\n      <th>19</th>\n    </tr>\n  </thead>\n  <tbody>\n    <tr>\n      <th>Institution</th>\n      <td>Ocean Observatories Initiative (OOI)</td>\n    </tr>\n    <tr>\n      <th>Dataset ID</th>\n      <td>ooi-ce04ossm-rid26-06-phsend000</td>\n    </tr>\n  </tbody>\n</table>"
      }
     },
     "1a3fa0cbb79b4d4087fbdb20de5494e3": {
      "model_module": "jupyter-leaflet",
      "model_module_version": "^0.14.0",
      "model_name": "LeafletMarkerModel",
      "state": {
       "_model_module_version": "^0.14.0",
       "_view_module_version": "^0.14.0",
       "icon": "IPY_MODEL_4fee25c0bfd84085a47b4ae49b8c13f9",
       "location": [
        46.98648,
        -124.56923
       ],
       "options": [
        "alt",
        "draggable",
        "keyboard",
        "rise_offset",
        "rise_on_hover",
        "rotation_angle",
        "rotation_origin",
        "title",
        "z_index_offset"
       ],
       "popup": "IPY_MODEL_7f82e46191ef45aaad2f4a3cb26dfb70"
      }
     },
     "1aa8b594736b41c1ba29a96aa1a029aa": {
      "model_module": "@jupyter-widgets/controls",
      "model_module_version": "1.5.0",
      "model_name": "DescriptionStyleModel",
      "state": {
       "description_width": ""
      }
     },
     "1ab66a388df34b7f82d0bcda4fb75e77": {
      "model_module": "@jupyter-widgets/controls",
      "model_module_version": "1.5.0",
      "model_name": "HTMLModel",
      "state": {
       "layout": "IPY_MODEL_800a67ea27664bda83cfdefe0d1ef348",
       "style": "IPY_MODEL_940f7246c72d4158bb220ee55a73d48a",
       "value": "<table border=\"1\" class=\"dataframe table table-striped table-hover table-condensed table-responsive\">\n  <thead>\n    <tr style=\"text-align: right;\">\n      <th></th>\n      <th>79</th>\n    </tr>\n  </thead>\n  <tbody>\n    <tr>\n      <th>Institution</th>\n      <td>Center for Coastal Margin Observation &amp; Prediction</td>\n    </tr>\n    <tr>\n      <th>Dataset ID</th>\n      <td>org_cmop_seto3</td>\n    </tr>\n  </tbody>\n</table>"
      }
     },
     "1b194dd5b0434ca1be76a573f64ff25c": {
      "model_module": "jupyter-leaflet",
      "model_module_version": "^0.14.0",
      "model_name": "LeafletMarkerModel",
      "state": {
       "_model_module_version": "^0.14.0",
       "_view_module_version": "^0.14.0",
       "icon": "IPY_MODEL_0797c143c9ae4ac29a56c3c27057bd94",
       "location": [
        44.63577,
        -124.3035
       ],
       "options": [
        "alt",
        "draggable",
        "keyboard",
        "rise_offset",
        "rise_on_hover",
        "rotation_angle",
        "rotation_origin",
        "title",
        "z_index_offset"
       ],
       "popup": "IPY_MODEL_8c16a064bba14cbcac59eb1f0550ace3"
      }
     },
     "1b5f63d48e8b458d84cbd07332424e8e": {
      "model_module": "jupyter-leaflet",
      "model_module_version": "^0.14.0",
      "model_name": "LeafletMarkerModel",
      "state": {
       "_model_module_version": "^0.14.0",
       "_view_module_version": "^0.14.0",
       "icon": "IPY_MODEL_dcda954c33e24f0aaf906314ba248204",
       "location": [
        46.98408,
        -124.56631
       ],
       "options": [
        "alt",
        "draggable",
        "keyboard",
        "rise_offset",
        "rise_on_hover",
        "rotation_angle",
        "rotation_origin",
        "title",
        "z_index_offset"
       ],
       "popup": "IPY_MODEL_789e3fe69a3c45f7bd0dfab6cda20df9"
      }
     },
     "1b6d1fa2ac3b4b63841ca26d6fefeeff": {
      "model_module": "jupyter-leaflet",
      "model_module_version": "^0.14.0",
      "model_name": "LeafletAwesomeIconModel",
      "state": {
       "_model_module_version": "^0.14.0",
       "_view_module_version": "^0.14.0",
       "icon_color": "white",
       "marker_color": "orange",
       "name": "life-ring"
      }
     },
     "1b7658cffa8741479f6d896125655611": {
      "model_module": "@jupyter-widgets/controls",
      "model_module_version": "1.5.0",
      "model_name": "DescriptionStyleModel",
      "state": {
       "description_width": ""
      }
     },
     "1bce22da206844098b292d623fa3e7a4": {
      "model_module": "@jupyter-widgets/controls",
      "model_module_version": "1.5.0",
      "model_name": "HTMLModel",
      "state": {
       "layout": "IPY_MODEL_6abd1449556e40d286aef71cae3a2e5c",
       "style": "IPY_MODEL_67b86cb80a954db19c7d25988a1b8aa7",
       "value": "<table border=\"1\" class=\"dataframe table table-striped table-hover table-condensed table-responsive\">\n  <thead>\n    <tr style=\"text-align: right;\">\n      <th></th>\n      <th>49</th>\n    </tr>\n  </thead>\n  <tbody>\n    <tr>\n      <th>Institution</th>\n      <td>Ocean Observatories Initiative (OOI)</td>\n    </tr>\n    <tr>\n      <th>Dataset ID</th>\n      <td>ooi-ce09ossm-sbd12-04-pco2aa000</td>\n    </tr>\n  </tbody>\n</table>"
      }
     },
     "1bd112226cf34387819ce2bffdaba2a3": {
      "model_module": "jupyter-leaflet",
      "model_module_version": "^0.14.0",
      "model_name": "LeafletMarkerModel",
      "state": {
       "_model_module_version": "^0.14.0",
       "_view_module_version": "^0.14.0",
       "icon": "IPY_MODEL_ab55e38f1d994cdfbc2bbfc6ac9c6118",
       "location": [
        44.63577,
        -124.3035
       ],
       "options": [
        "alt",
        "draggable",
        "keyboard",
        "rise_offset",
        "rise_on_hover",
        "rotation_angle",
        "rotation_origin",
        "title",
        "z_index_offset"
       ],
       "popup": "IPY_MODEL_acd74c43d92349cb9986afa748c1f655"
      }
     },
     "1c0175df5a8a416fab5844e9c3cf0822": {
      "model_module": "jupyter-leaflet",
      "model_module_version": "^0.14.0",
      "model_name": "LeafletMarkerModel",
      "state": {
       "_model_module_version": "^0.14.0",
       "_view_module_version": "^0.14.0",
       "icon": "IPY_MODEL_308d01f1c6874ef3807976ead658ef0b",
       "location": [
        47.1345,
        -124.27087
       ],
       "options": [
        "alt",
        "draggable",
        "keyboard",
        "rise_offset",
        "rise_on_hover",
        "rotation_angle",
        "rotation_origin",
        "title",
        "z_index_offset"
       ],
       "popup": "IPY_MODEL_b32bd38a764f46cb9ee3fe7f2fb0160a"
      }
     },
     "1c33c76f6d2e406182ff667a46822ba9": {
      "model_module": "@jupyter-widgets/controls",
      "model_module_version": "1.5.0",
      "model_name": "HTMLModel",
      "state": {
       "layout": "IPY_MODEL_67b30534bde143bdbeaf2a7ec715dd56",
       "style": "IPY_MODEL_d3f10d5749524bd9a7632b1e8dc8a38f",
       "value": "<table border=\"1\" class=\"dataframe table table-striped table-hover table-condensed table-responsive\">\n  <thead>\n    <tr style=\"text-align: right;\">\n      <th></th>\n      <th>0</th>\n    </tr>\n  </thead>\n  <tbody>\n    <tr>\n      <th>Institution</th>\n      <td>Ocean Observatories Initiative (OOI)</td>\n    </tr>\n    <tr>\n      <th>Dataset ID</th>\n      <td>ooi-ce01issm-rid16-02-flortd000</td>\n    </tr>\n  </tbody>\n</table>"
      }
     },
     "1c35677d5da74f4c9cc4f2953ea11e4f": {
      "model_module": "@jupyter-widgets/controls",
      "model_module_version": "1.5.0",
      "model_name": "HTMLModel",
      "state": {
       "layout": "IPY_MODEL_bf1ad1b6ad334607886d182f67495823",
       "style": "IPY_MODEL_21e396f131b24e3684981237ee0958c9",
       "value": "<table border=\"1\" class=\"dataframe table table-striped table-hover table-condensed table-responsive\">\n  <thead>\n    <tr style=\"text-align: right;\">\n      <th></th>\n      <th>9</th>\n    </tr>\n  </thead>\n  <tbody>\n    <tr>\n      <th>Institution</th>\n      <td>Ocean Observatories Initiative (OOI)</td>\n    </tr>\n    <tr>\n      <th>Dataset ID</th>\n      <td>ooi-ce01issm-sbd17-06-ctdbpc000</td>\n    </tr>\n  </tbody>\n</table>"
      }
     },
     "1cb8fea6461a4ecb9e41aac5ad6f10f9": {
      "model_module": "@jupyter-widgets/controls",
      "model_module_version": "1.5.0",
      "model_name": "HTMLModel",
      "state": {
       "layout": "IPY_MODEL_c64426fd746f47519d3e25edae5cdc5c",
       "style": "IPY_MODEL_e333ca75cd7643d098371f65c506b718",
       "value": "<table border=\"1\" class=\"dataframe table table-striped table-hover table-condensed table-responsive\">\n  <thead>\n    <tr style=\"text-align: right;\">\n      <th></th>\n      <th>76</th>\n    </tr>\n  </thead>\n  <tbody>\n    <tr>\n      <th>Institution</th>\n      <td>Northwest Association of Networked Ocean Observing Systems (NANOOS)</td>\n    </tr>\n    <tr>\n      <th>Dataset ID</th>\n      <td>nanoos_psi_baycenter</td>\n    </tr>\n  </tbody>\n</table>"
      }
     },
     "1cba6ba148064795a5874c68d20d71ec": {
      "model_module": "jupyter-leaflet",
      "model_module_version": "^0.14.0",
      "model_name": "LeafletZoomControlModel",
      "state": {
       "_model_module_version": "^0.14.0",
       "_view_module_version": "^0.14.0",
       "options": [
        "position",
        "zoom_in_text",
        "zoom_in_title",
        "zoom_out_text",
        "zoom_out_title"
       ]
      }
     },
     "1ce6b5806a6f4ba788626d3d51144c72": {
      "model_module": "jupyter-leaflet",
      "model_module_version": "^0.14.0",
      "model_name": "LeafletAwesomeIconModel",
      "state": {
       "_model_module_version": "^0.14.0",
       "_view_module_version": "^0.14.0",
       "icon_color": "white",
       "marker_color": "orange",
       "name": "life-ring"
      }
     },
     "1ce814fe3374466c8b6494d59a2ca21b": {
      "model_module": "jupyter-leaflet",
      "model_module_version": "^0.14.0",
      "model_name": "LeafletAwesomeIconModel",
      "state": {
       "_model_module_version": "^0.14.0",
       "_view_module_version": "^0.14.0",
       "icon_color": "white",
       "marker_color": "orange",
       "name": "life-ring"
      }
     },
     "1cf7b5d9b214436ca06004eec0c927ad": {
      "model_module": "@jupyter-widgets/controls",
      "model_module_version": "1.5.0",
      "model_name": "DescriptionStyleModel",
      "state": {
       "description_width": ""
      }
     },
     "1d585445e1104777ade67d5820a76d6c": {
      "model_module": "@jupyter-widgets/controls",
      "model_module_version": "1.5.0",
      "model_name": "HTMLModel",
      "state": {
       "layout": "IPY_MODEL_bc46857359354a279fa3985547b43a2b",
       "style": "IPY_MODEL_953818ecbad44818b5abec3ddf9e9098",
       "value": "<table border=\"1\" class=\"dataframe table table-striped table-hover table-condensed table-responsive\">\n  <thead>\n    <tr style=\"text-align: right;\">\n      <th></th>\n      <th>25</th>\n    </tr>\n  </thead>\n  <tbody>\n    <tr>\n      <th>Institution</th>\n      <td>Ocean Observatories Initiative (OOI)</td>\n    </tr>\n    <tr>\n      <th>Dataset ID</th>\n      <td>ooi-ce02shsm-rid27-03-ctdbpc000</td>\n    </tr>\n  </tbody>\n</table>"
      }
     },
     "1d6091757586458395ddec09090de91f": {
      "model_module": "jupyter-leaflet",
      "model_module_version": "^0.14.0",
      "model_name": "LeafletMarkerModel",
      "state": {
       "_model_module_version": "^0.14.0",
       "_view_module_version": "^0.14.0",
       "icon": "IPY_MODEL_3636b32e602d4e8bb5f0d79410690b05",
       "location": [
        46.98648,
        -124.56923
       ],
       "options": [
        "alt",
        "draggable",
        "keyboard",
        "rise_offset",
        "rise_on_hover",
        "rotation_angle",
        "rotation_origin",
        "title",
        "z_index_offset"
       ],
       "popup": "IPY_MODEL_ebf89407974249e1948e449c7f8948a1"
      }
     },
     "1e6bcae72dbe47858e9d81c0fcb7718b": {
      "model_module": "@jupyter-widgets/base",
      "model_module_version": "1.2.0",
      "model_name": "LayoutModel",
      "state": {}
     },
     "1e9a7ee8c4d14c829ec0d4933a3c9b6b": {
      "model_module": "jupyter-leaflet",
      "model_module_version": "^0.14.0",
      "model_name": "LeafletAwesomeIconModel",
      "state": {
       "_model_module_version": "^0.14.0",
       "_view_module_version": "^0.14.0",
       "icon_color": "white",
       "marker_color": "orange",
       "name": "life-ring"
      }
     },
     "1f4761df5ed849c99b3b4ea91f5dc1c5": {
      "model_module": "@jupyter-widgets/controls",
      "model_module_version": "1.5.0",
      "model_name": "DescriptionStyleModel",
      "state": {
       "description_width": ""
      }
     },
     "1f971eb83b774ed4957b2358a4745879": {
      "model_module": "@jupyter-widgets/controls",
      "model_module_version": "1.5.0",
      "model_name": "HTMLModel",
      "state": {
       "layout": "IPY_MODEL_3b545950a6e2407c9c4af13bdc245709",
       "style": "IPY_MODEL_cefe307eb8a44572b927594be899f092",
       "value": "<table border=\"1\" class=\"dataframe table table-striped table-hover table-condensed table-responsive\">\n  <thead>\n    <tr style=\"text-align: right;\">\n      <th></th>\n      <th>59</th>\n    </tr>\n  </thead>\n  <tbody>\n    <tr>\n      <th>Institution</th>\n      <td>Ocean Observatories Initiative (OOI)</td>\n    </tr>\n    <tr>\n      <th>Dataset ID</th>\n      <td>ooi-rs01slbs-lj01a-12-ctdpfb101</td>\n    </tr>\n  </tbody>\n</table>"
      }
     },
     "1fd206a68aa74291a1fac62428fa105f": {
      "model_module": "jupyter-leaflet",
      "model_module_version": "^0.14.0",
      "model_name": "LeafletMarkerModel",
      "state": {
       "_model_module_version": "^0.14.0",
       "_view_module_version": "^0.14.0",
       "icon": "IPY_MODEL_e02e6a67f3944d36ab0b7b7a39efe14a",
       "location": [
        46.204,
        -123.759
       ],
       "options": [
        "alt",
        "draggable",
        "keyboard",
        "rise_offset",
        "rise_on_hover",
        "rotation_angle",
        "rotation_origin",
        "title",
        "z_index_offset"
       ],
       "popup": "IPY_MODEL_fb1857a1b2e8440097ad5ec53361a233"
      }
     },
     "1fd36c95c87a4f278bbac7e92abbb909": {
      "model_module": "@jupyter-widgets/controls",
      "model_module_version": "1.5.0",
      "model_name": "DescriptionStyleModel",
      "state": {
       "description_width": ""
      }
     },
     "204efb400fba4c11ab7f87cdf06c2db1": {
      "model_module": "@jupyter-widgets/controls",
      "model_module_version": "1.5.0",
      "model_name": "HTMLModel",
      "state": {
       "layout": "IPY_MODEL_fcf766c7f20f44dcaf5ea1f8da12f3bf",
       "style": "IPY_MODEL_3c64fb00b368440b95909b3f888f6a24",
       "value": "<table border=\"1\" class=\"dataframe table table-striped table-hover table-condensed table-responsive\">\n  <thead>\n    <tr style=\"text-align: right;\">\n      <th></th>\n      <th>63</th>\n    </tr>\n  </thead>\n  <tbody>\n    <tr>\n      <th>Institution</th>\n      <td>Center for Coastal Margin Observation &amp; Prediction</td>\n    </tr>\n    <tr>\n      <th>Dataset ID</th>\n      <td>org_cmop_46096</td>\n    </tr>\n  </tbody>\n</table>"
      }
     },
     "206654aea1b84217afe78d37c0a4ca94": {
      "model_module": "@jupyter-widgets/controls",
      "model_module_version": "1.5.0",
      "model_name": "HTMLModel",
      "state": {
       "layout": "IPY_MODEL_7b974f6ebd864847abfee4218a7128a7",
       "style": "IPY_MODEL_4951d3f9c87142bcb21e7329ce67f157",
       "value": "<table border=\"1\" class=\"dataframe table table-striped table-hover table-condensed table-responsive\">\n  <thead>\n    <tr style=\"text-align: right;\">\n      <th></th>\n      <th>39</th>\n    </tr>\n  </thead>\n  <tbody>\n    <tr>\n      <th>Institution</th>\n      <td>Ocean Observatories Initiative (OOI)</td>\n    </tr>\n    <tr>\n      <th>Dataset ID</th>\n      <td>ooi-ce06issm-sbd17-06-flortd000</td>\n    </tr>\n  </tbody>\n</table>"
      }
     },
     "20b0cf410e0b44ed8cdb13b7732492cb": {
      "model_module": "@jupyter-widgets/base",
      "model_module_version": "1.2.0",
      "model_name": "LayoutModel",
      "state": {}
     },
     "212009cea390457899b1ab5f4b1c019d": {
      "model_module": "@jupyter-widgets/controls",
      "model_module_version": "1.5.0",
      "model_name": "HTMLModel",
      "state": {
       "layout": "IPY_MODEL_389b100b581d4f1eb3d103616bc9a511",
       "style": "IPY_MODEL_e2364e080bb94761b3d63431f7e3d89a",
       "value": "<table border=\"1\" class=\"dataframe table table-striped table-hover table-condensed table-responsive\">\n  <thead>\n    <tr style=\"text-align: right;\">\n      <th></th>\n      <th>60</th>\n    </tr>\n  </thead>\n  <tbody>\n    <tr>\n      <th>Institution</th>\n      <td>Ocean Observatories Initiative (OOI)</td>\n    </tr>\n    <tr>\n      <th>Dataset ID</th>\n      <td>ooi-rs01sbps-pc01a-4c-flordd103</td>\n    </tr>\n  </tbody>\n</table>"
      }
     },
     "212b8ca9bf3b432aa7efc8a18ec0998d": {
      "model_module": "@jupyter-widgets/controls",
      "model_module_version": "1.5.0",
      "model_name": "DescriptionStyleModel",
      "state": {
       "description_width": ""
      }
     },
     "212c4348f31f4f74a4e9879d4e9cf8ca": {
      "model_module": "@jupyter-widgets/controls",
      "model_module_version": "1.5.0",
      "model_name": "HTMLModel",
      "state": {
       "layout": "IPY_MODEL_66747b4a755244a4b9c079849df17678",
       "style": "IPY_MODEL_bad40f5061ec410183626a0fb169a740",
       "value": "<table border=\"1\" class=\"dataframe table table-striped table-hover table-condensed table-responsive\">\n  <thead>\n    <tr style=\"text-align: right;\">\n      <th></th>\n      <th>66</th>\n    </tr>\n  </thead>\n  <tbody>\n    <tr>\n      <th>Institution</th>\n      <td>Observing System Monitoring Center (OSMC)</td>\n    </tr>\n    <tr>\n      <th>Dataset ID</th>\n      <td>osmc_46099</td>\n    </tr>\n  </tbody>\n</table>"
      }
     },
     "213e5875ca504af487ff52452cd56d8f": {
      "model_module": "jupyter-leaflet",
      "model_module_version": "^0.14.0",
      "model_name": "LeafletMarkerModel",
      "state": {
       "_model_module_version": "^0.14.0",
       "_view_module_version": "^0.14.0",
       "icon": "IPY_MODEL_0dad78ea21f64b08b1972883c8d31ba6",
       "location": [
        46.851,
        -124.972
       ],
       "options": [
        "alt",
        "draggable",
        "keyboard",
        "rise_offset",
        "rise_on_hover",
        "rotation_angle",
        "rotation_origin",
        "title",
        "z_index_offset"
       ],
       "popup": "IPY_MODEL_b17e3c1772324b62b1bfbab0e864697d"
      }
     },
     "215bf20e76bb432384887629e0ef7812": {
      "model_module": "jupyter-leaflet",
      "model_module_version": "^0.14.0",
      "model_name": "LeafletMarkerModel",
      "state": {
       "_model_module_version": "^0.14.0",
       "_view_module_version": "^0.14.0",
       "icon": "IPY_MODEL_bb93e96015854cceb8c05ae3c2682cba",
       "location": [
        44.63577,
        -124.3035
       ],
       "options": [
        "alt",
        "draggable",
        "keyboard",
        "rise_offset",
        "rise_on_hover",
        "rotation_angle",
        "rotation_origin",
        "title",
        "z_index_offset"
       ],
       "popup": "IPY_MODEL_f26e56d38cea46418227712fd898df2a"
      }
     },
     "215f5629ef5e42f795a11985de7754ba": {
      "model_module": "jupyter-leaflet",
      "model_module_version": "^0.14.0",
      "model_name": "LeafletAwesomeIconModel",
      "state": {
       "_model_module_version": "^0.14.0",
       "_view_module_version": "^0.14.0",
       "icon_color": "white",
       "marker_color": "orange",
       "name": "life-ring"
      }
     },
     "21d42fae23d94ca98079330d8035f7cc": {
      "model_module": "@jupyter-widgets/controls",
      "model_module_version": "1.5.0",
      "model_name": "HTMLModel",
      "state": {
       "layout": "IPY_MODEL_a6d17cda980a4c8f8663fe7c21e75159",
       "style": "IPY_MODEL_82145410ee8c4b529fcf05bc8826c516",
       "value": "<table border=\"1\" class=\"dataframe table table-striped table-hover table-condensed table-responsive\">\n  <thead>\n    <tr style=\"text-align: right;\">\n      <th></th>\n      <th>66</th>\n    </tr>\n  </thead>\n  <tbody>\n    <tr>\n      <th>Institution</th>\n      <td>Observing System Monitoring Center (OSMC)</td>\n    </tr>\n    <tr>\n      <th>Dataset ID</th>\n      <td>osmc_46099</td>\n    </tr>\n  </tbody>\n</table>"
      }
     },
     "21e396f131b24e3684981237ee0958c9": {
      "model_module": "@jupyter-widgets/controls",
      "model_module_version": "1.5.0",
      "model_name": "DescriptionStyleModel",
      "state": {
       "description_width": ""
      }
     },
     "21ec46891b984f9b9f71d56501a3ae25": {
      "model_module": "@jupyter-widgets/controls",
      "model_module_version": "1.5.0",
      "model_name": "DescriptionStyleModel",
      "state": {
       "description_width": ""
      }
     },
     "22241d92cb8d4037887ae2f4ac066cdf": {
      "model_module": "jupyter-leaflet",
      "model_module_version": "^0.14.0",
      "model_name": "LeafletAwesomeIconModel",
      "state": {
       "_model_module_version": "^0.14.0",
       "_view_module_version": "^0.14.0",
       "icon_color": "white",
       "name": "life-ring"
      }
     },
     "224d6b93c8bc42d3baebb73c30a808fc": {
      "model_module": "@jupyter-widgets/controls",
      "model_module_version": "1.5.0",
      "model_name": "DescriptionStyleModel",
      "state": {
       "description_width": ""
      }
     },
     "227f377a8ce945e3a5cc00983b6d3ca9": {
      "model_module": "@jupyter-widgets/base",
      "model_module_version": "1.2.0",
      "model_name": "LayoutModel",
      "state": {}
     },
     "23027bb1dda34e35a4c5061e128a2edf": {
      "model_module": "@jupyter-widgets/controls",
      "model_module_version": "1.5.0",
      "model_name": "HTMLModel",
      "state": {
       "layout": "IPY_MODEL_8ed1de1d3824445ebd074eeaf0d7279c",
       "style": "IPY_MODEL_1f4761df5ed849c99b3b4ea91f5dc1c5",
       "value": "<table border=\"1\" class=\"dataframe table table-striped table-hover table-condensed table-responsive\">\n  <thead>\n    <tr style=\"text-align: right;\">\n      <th></th>\n      <th>7</th>\n    </tr>\n  </thead>\n  <tbody>\n    <tr>\n      <th>Institution</th>\n      <td>Ocean Observatories Initiative (OOI)</td>\n    </tr>\n    <tr>\n      <th>Dataset ID</th>\n      <td>ooi-ce01issm-mfd35-06-phsend000</td>\n    </tr>\n  </tbody>\n</table>"
      }
     },
     "2336cf2854c145df9c6c02e2aee4ae68": {
      "model_module": "@jupyter-widgets/controls",
      "model_module_version": "1.5.0",
      "model_name": "HTMLModel",
      "state": {
       "layout": "IPY_MODEL_76b50e1b0b8641eabb17478307be5d79",
       "style": "IPY_MODEL_327454ea0a5c44fda416765a296fdc08",
       "value": "<table border=\"1\" class=\"dataframe table table-striped table-hover table-condensed table-responsive\">\n  <thead>\n    <tr style=\"text-align: right;\">\n      <th></th>\n      <th>10</th>\n    </tr>\n  </thead>\n  <tbody>\n    <tr>\n      <th>Institution</th>\n      <td>Ocean Observatories Initiative (OOI)</td>\n    </tr>\n    <tr>\n      <th>Dataset ID</th>\n      <td>ooi-ce04osbp-lj01c-06-ctdbpo108</td>\n    </tr>\n  </tbody>\n</table>"
      }
     },
     "23403a43cbea40b7be8500a15a94e79e": {
      "model_module": "jupyter-leaflet",
      "model_module_version": "^0.14.0",
      "model_name": "LeafletMarkerModel",
      "state": {
       "_model_module_version": "^0.14.0",
       "_view_module_version": "^0.14.0",
       "icon": "IPY_MODEL_a66c7cd7f43f4df8a00448232c829d3b",
       "location": [
        44.37868,
        -124.94508
       ],
       "options": [
        "alt",
        "draggable",
        "keyboard",
        "rise_offset",
        "rise_on_hover",
        "rotation_angle",
        "rotation_origin",
        "title",
        "z_index_offset"
       ],
       "popup": "IPY_MODEL_2dbf4d369a854f7ba74d0678803ede0d"
      }
     },
     "2341b589ed654918b14257b1d0b6d56d": {
      "model_module": "@jupyter-widgets/controls",
      "model_module_version": "1.5.0",
      "model_name": "DescriptionStyleModel",
      "state": {
       "description_width": ""
      }
     },
     "23852de1a4df4aa69657b6cd02900d07": {
      "model_module": "@jupyter-widgets/controls",
      "model_module_version": "1.5.0",
      "model_name": "HTMLModel",
      "state": {
       "layout": "IPY_MODEL_ad2c325493e1456d9e7ad1b78b09962e",
       "style": "IPY_MODEL_d44d9751db1a45969b17339b7b0deed3",
       "value": "<table border=\"1\" class=\"dataframe table table-striped table-hover table-condensed table-responsive\">\n  <thead>\n    <tr style=\"text-align: right;\">\n      <th></th>\n      <th>20</th>\n    </tr>\n  </thead>\n  <tbody>\n    <tr>\n      <th>Institution</th>\n      <td>Ocean Observatories Initiative (OOI)</td>\n    </tr>\n    <tr>\n      <th>Dataset ID</th>\n      <td>ooi-ce04ossm-sbd11-06-metbka000</td>\n    </tr>\n  </tbody>\n</table>"
      }
     },
     "23e45ea2f8a74b6e913c499be7348b8d": {
      "model_module": "@jupyter-widgets/controls",
      "model_module_version": "1.5.0",
      "model_name": "DescriptionStyleModel",
      "state": {
       "description_width": ""
      }
     },
     "246a8c6a7c674ac4aa7ea3f0622e2f1e": {
      "model_module": "@jupyter-widgets/controls",
      "model_module_version": "1.5.0",
      "model_name": "DescriptionStyleModel",
      "state": {
       "description_width": ""
      }
     },
     "2479132ef3204440bf47bebec1c6ba71": {
      "model_module": "jupyter-leaflet",
      "model_module_version": "^0.14.0",
      "model_name": "LeafletMarkerModel",
      "state": {
       "_model_module_version": "^0.14.0",
       "_view_module_version": "^0.14.0",
       "icon": "IPY_MODEL_8304ea4b20bd4be2bd98709b1c27ad01",
       "location": [
        44.37415,
        -124.95648
       ],
       "options": [
        "alt",
        "draggable",
        "keyboard",
        "rise_offset",
        "rise_on_hover",
        "rotation_angle",
        "rotation_origin",
        "title",
        "z_index_offset"
       ],
       "popup": "IPY_MODEL_52b32b23f65247fda8238bde6144f656"
      }
     },
     "24a55782ca6a4763889aa9b1d1514af8": {
      "model_module": "jupyter-leaflet",
      "model_module_version": "^0.14.0",
      "model_name": "LeafletAwesomeIconModel",
      "state": {
       "_model_module_version": "^0.14.0",
       "_view_module_version": "^0.14.0",
       "icon_color": "white",
       "name": "life-ring"
      }
     },
     "24cb366c2a4f44ba866f539eded29a01": {
      "model_module": "jupyter-leaflet",
      "model_module_version": "^0.14.0",
      "model_name": "LeafletMarkerModel",
      "state": {
       "_model_module_version": "^0.14.0",
       "_view_module_version": "^0.14.0",
       "icon": "IPY_MODEL_ab7fc71de91d43929ad7a47377c1d475",
       "location": [
        47.1345,
        -124.27087
       ],
       "options": [
        "alt",
        "draggable",
        "keyboard",
        "rise_offset",
        "rise_on_hover",
        "rotation_angle",
        "rotation_origin",
        "title",
        "z_index_offset"
       ],
       "popup": "IPY_MODEL_7e9b548b672d4dcf9b01a2841a0d500e"
      }
     },
     "24f6b2f96f654830b362222c38387794": {
      "model_module": "@jupyter-widgets/controls",
      "model_module_version": "1.5.0",
      "model_name": "DescriptionStyleModel",
      "state": {
       "description_width": ""
      }
     },
     "2503a3f850b04ef38952783598c42020": {
      "model_module": "jupyter-leaflet",
      "model_module_version": "^0.14.0",
      "model_name": "LeafletAwesomeIconModel",
      "state": {
       "_model_module_version": "^0.14.0",
       "_view_module_version": "^0.14.0",
       "icon_color": "white",
       "marker_color": "orange",
       "name": "life-ring"
      }
     },
     "258374706cc94684bd0e45ea9b763ed3": {
      "model_module": "jupyter-leaflet",
      "model_module_version": "^0.14.0",
      "model_name": "LeafletAwesomeIconModel",
      "state": {
       "_model_module_version": "^0.14.0",
       "_view_module_version": "^0.14.0",
       "icon_color": "white",
       "marker_color": "orange",
       "name": "life-ring"
      }
     },
     "259cffab36474ba7ac545dfe1bbb954e": {
      "model_module": "@jupyter-widgets/controls",
      "model_module_version": "1.5.0",
      "model_name": "HTMLModel",
      "state": {
       "layout": "IPY_MODEL_a8a1e4edf93340a9af07d7dd41168090",
       "style": "IPY_MODEL_44764f26476f41769f50d3244a947381",
       "value": "<table border=\"1\" class=\"dataframe table table-striped table-hover table-condensed table-responsive\">\n  <thead>\n    <tr style=\"text-align: right;\">\n      <th></th>\n      <th>57</th>\n    </tr>\n  </thead>\n  <tbody>\n    <tr>\n      <th>Institution</th>\n      <td>Ocean Observatories Initiative (OOI)</td>\n    </tr>\n    <tr>\n      <th>Dataset ID</th>\n      <td>ooi-ce07shsm-mfd35-06-phsend000</td>\n    </tr>\n  </tbody>\n</table>"
      }
     },
     "25a110392bd744e5ad4b59ea7f551130": {
      "model_module": "@jupyter-widgets/controls",
      "model_module_version": "1.5.0",
      "model_name": "DescriptionStyleModel",
      "state": {
       "description_width": ""
      }
     },
     "25a9c93f50f44e858653c41bd2559a92": {
      "model_module": "@jupyter-widgets/controls",
      "model_module_version": "1.5.0",
      "model_name": "DescriptionStyleModel",
      "state": {
       "description_width": ""
      }
     },
     "263f15aa3c5a49069b41388d1746e318": {
      "model_module": "jupyter-leaflet",
      "model_module_version": "^0.14.0",
      "model_name": "LeafletMarkerModel",
      "state": {
       "_model_module_version": "^0.14.0",
       "_view_module_version": "^0.14.0",
       "icon": "IPY_MODEL_901140238f884719973289f762a7ed1f",
       "location": [
        44.37868,
        -124.94508
       ],
       "options": [
        "alt",
        "draggable",
        "keyboard",
        "rise_offset",
        "rise_on_hover",
        "rotation_angle",
        "rotation_origin",
        "title",
        "z_index_offset"
       ],
       "popup": "IPY_MODEL_78e4bcd662fc43789d6477c0395022ca"
      }
     },
     "266c44e6d99d43fb92c5f5b9b6b326c0": {
      "model_module": "@jupyter-widgets/controls",
      "model_module_version": "1.5.0",
      "model_name": "HTMLModel",
      "state": {
       "layout": "IPY_MODEL_a60562b818224597b312c18cab0e0379",
       "style": "IPY_MODEL_86b37c70d7504eb18486deec86b24728",
       "value": "<table border=\"1\" class=\"dataframe table table-striped table-hover table-condensed table-responsive\">\n  <thead>\n    <tr style=\"text-align: right;\">\n      <th></th>\n      <th>11</th>\n    </tr>\n  </thead>\n  <tbody>\n    <tr>\n      <th>Institution</th>\n      <td>Ocean Observatories Initiative (OOI)</td>\n    </tr>\n    <tr>\n      <th>Dataset ID</th>\n      <td>ooi-ce04osbp-lj01c-10-phsend107</td>\n    </tr>\n  </tbody>\n</table>"
      }
     },
     "26d97024010f4efca23a9d5ac0738eb5": {
      "model_module": "@jupyter-widgets/base",
      "model_module_version": "1.2.0",
      "model_name": "LayoutModel",
      "state": {}
     },
     "2722bcd271ba42d08d03f887f6073734": {
      "model_module": "@jupyter-widgets/controls",
      "model_module_version": "1.5.0",
      "model_name": "DescriptionStyleModel",
      "state": {
       "description_width": ""
      }
     },
     "273143f70e6641f294a0b7b80483e455": {
      "model_module": "jupyter-leaflet",
      "model_module_version": "^0.14.0",
      "model_name": "LeafletMarkerModel",
      "state": {
       "_model_module_version": "^0.14.0",
       "_view_module_version": "^0.14.0",
       "icon": "IPY_MODEL_a44c1acf2b4b4272bce6158e67453f11",
       "location": [
        47.1345,
        -124.27087
       ],
       "options": [
        "alt",
        "draggable",
        "keyboard",
        "rise_offset",
        "rise_on_hover",
        "rotation_angle",
        "rotation_origin",
        "title",
        "z_index_offset"
       ],
       "popup": "IPY_MODEL_206654aea1b84217afe78d37c0a4ca94"
      }
     },
     "27338e2ed9d24bbebc917a3de874f56b": {
      "model_module": "@jupyter-widgets/base",
      "model_module_version": "1.2.0",
      "model_name": "LayoutModel",
      "state": {}
     },
     "2740f1bca8e44f62a8f1d7671f3987b0": {
      "model_module": "jupyter-leaflet",
      "model_module_version": "^0.14.0",
      "model_name": "LeafletAwesomeIconModel",
      "state": {
       "_model_module_version": "^0.14.0",
       "_view_module_version": "^0.14.0",
       "icon_color": "white",
       "name": "life-ring"
      }
     },
     "2790c1d24cab449099f41e034d85561e": {
      "model_module": "@jupyter-widgets/controls",
      "model_module_version": "1.5.0",
      "model_name": "HTMLModel",
      "state": {
       "layout": "IPY_MODEL_5a748d145eb44d099bcb49834a9ce8a8",
       "style": "IPY_MODEL_ef0696ffa44045ab8335da5f51bb7271",
       "value": "<table border=\"1\" class=\"dataframe table table-striped table-hover table-condensed table-responsive\">\n  <thead>\n    <tr style=\"text-align: right;\">\n      <th></th>\n      <th>72</th>\n    </tr>\n  </thead>\n  <tbody>\n    <tr>\n      <th>Institution</th>\n      <td>NOAA Center for Operational Oceanographic Products and Services (CO-OPS)</td>\n    </tr>\n    <tr>\n      <th>Dataset ID</th>\n      <td>noaa_nos_co_ops_9432780</td>\n    </tr>\n  </tbody>\n</table>"
      }
     },
     "2796f68eba8b432d97b873456d7b4198": {
      "model_module": "jupyter-leaflet",
      "model_module_version": "^0.14.0",
      "model_name": "LeafletAwesomeIconModel",
      "state": {
       "_model_module_version": "^0.14.0",
       "_view_module_version": "^0.14.0",
       "icon_color": "white",
       "marker_color": "orange",
       "name": "life-ring"
      }
     },
     "2841d24687214e14a5ede09a7037bf66": {
      "model_module": "@jupyter-widgets/controls",
      "model_module_version": "1.5.0",
      "model_name": "HTMLModel",
      "state": {
       "layout": "IPY_MODEL_a3044dc08bd64cd4b47686b445469e86",
       "style": "IPY_MODEL_829d6e58f34b4df99ff9f09b2396f2a4",
       "value": "<table border=\"1\" class=\"dataframe table table-striped table-hover table-condensed table-responsive\">\n  <thead>\n    <tr style=\"text-align: right;\">\n      <th></th>\n      <th>37</th>\n    </tr>\n  </thead>\n  <tbody>\n    <tr>\n      <th>Institution</th>\n      <td>Ocean Observatories Initiative (OOI)</td>\n    </tr>\n    <tr>\n      <th>Dataset ID</th>\n      <td>ooi-ce06issm-mfd37-03-dostad000</td>\n    </tr>\n  </tbody>\n</table>"
      }
     },
     "2855f169fd0b4a0990d5cccd791be575": {
      "model_module": "jupyter-leaflet",
      "model_module_version": "^0.14.0",
      "model_name": "LeafletMarkerModel",
      "state": {
       "_model_module_version": "^0.14.0",
       "_view_module_version": "^0.14.0",
       "icon": "IPY_MODEL_bb6a3ad82b8245fa8ba4808fba65fe12",
       "location": [
        44.37868,
        -124.94508
       ],
       "options": [
        "alt",
        "draggable",
        "keyboard",
        "rise_offset",
        "rise_on_hover",
        "rotation_angle",
        "rotation_origin",
        "title",
        "z_index_offset"
       ],
       "popup": "IPY_MODEL_31c776b64205452a8f50e2c5790de46e"
      }
     },
     "2872ae67b3e94c10a94a64343bb0cadf": {
      "model_module": "jupyter-leaflet",
      "model_module_version": "^0.14.0",
      "model_name": "LeafletAwesomeIconModel",
      "state": {
       "_model_module_version": "^0.14.0",
       "_view_module_version": "^0.14.0",
       "icon_color": "white",
       "name": "life-ring"
      }
     },
     "2887745f7f494bd1bcf4f11b0e1e9401": {
      "model_module": "@jupyter-widgets/base",
      "model_module_version": "1.2.0",
      "model_name": "LayoutModel",
      "state": {}
     },
     "2956f395582e440e9c88a569de3dcaca": {
      "model_module": "jupyter-leaflet",
      "model_module_version": "^0.14.0",
      "model_name": "LeafletMarkerModel",
      "state": {
       "_model_module_version": "^0.14.0",
       "_view_module_version": "^0.14.0",
       "icon": "IPY_MODEL_37ba0d9389ab4e55a9e60f0240676be4",
       "location": [
        46.98408,
        -124.56631
       ],
       "options": [
        "alt",
        "draggable",
        "keyboard",
        "rise_offset",
        "rise_on_hover",
        "rotation_angle",
        "rotation_origin",
        "title",
        "z_index_offset"
       ],
       "popup": "IPY_MODEL_738534c117c9411786333e917d24799a"
      }
     },
     "299d74596d70418eb61e57e5e1325fcb": {
      "model_module": "@jupyter-widgets/controls",
      "model_module_version": "1.5.0",
      "model_name": "HTMLModel",
      "state": {
       "layout": "IPY_MODEL_c1e88ae1d72542e1bcfff1d814413bf4",
       "style": "IPY_MODEL_65709315555244d69846c859b08dd98d",
       "value": "<table border=\"1\" class=\"dataframe table table-striped table-hover table-condensed table-responsive\">\n  <thead>\n    <tr style=\"text-align: right;\">\n      <th></th>\n      <th>33</th>\n    </tr>\n  </thead>\n  <tbody>\n    <tr>\n      <th>Institution</th>\n      <td>Ocean Observatories Initiative (OOI)</td>\n    </tr>\n    <tr>\n      <th>Dataset ID</th>\n      <td>ooi-ce06issm-rid16-03-dostad000</td>\n    </tr>\n  </tbody>\n</table>"
      }
     },
     "29b9683e64b841398b066ce765424dc7": {
      "model_module": "@jupyter-widgets/controls",
      "model_module_version": "1.5.0",
      "model_name": "HTMLModel",
      "state": {
       "layout": "IPY_MODEL_7568a09a860b45bb97bd4cd554b57e80",
       "style": "IPY_MODEL_cb3640f7857545ae82921e9a3ec83f16",
       "value": "<table border=\"1\" class=\"dataframe table table-striped table-hover table-condensed table-responsive\">\n  <thead>\n    <tr style=\"text-align: right;\">\n      <th></th>\n      <th>40</th>\n    </tr>\n  </thead>\n  <tbody>\n    <tr>\n      <th>Institution</th>\n      <td>Ocean Observatories Initiative (OOI)</td>\n    </tr>\n    <tr>\n      <th>Dataset ID</th>\n      <td>ooi-ce06issm-sbd17-06-ctdbpc000</td>\n    </tr>\n  </tbody>\n</table>"
      }
     },
     "29fbc800e53f4a4b80993b67d31bfb69": {
      "model_module": "@jupyter-widgets/controls",
      "model_module_version": "1.5.0",
      "model_name": "DescriptionStyleModel",
      "state": {
       "description_width": ""
      }
     },
     "2a482a1f75ee40bfa2b05c9559550292": {
      "model_module": "@jupyter-widgets/controls",
      "model_module_version": "1.5.0",
      "model_name": "HTMLModel",
      "state": {
       "layout": "IPY_MODEL_26d97024010f4efca23a9d5ac0738eb5",
       "style": "IPY_MODEL_f3f099d3c487432a8a5d0775f3ab794c",
       "value": "<table border=\"1\" class=\"dataframe table table-striped table-hover table-condensed table-responsive\">\n  <thead>\n    <tr style=\"text-align: right;\">\n      <th></th>\n      <th>20</th>\n    </tr>\n  </thead>\n  <tbody>\n    <tr>\n      <th>Institution</th>\n      <td>Ocean Observatories Initiative (OOI)</td>\n    </tr>\n    <tr>\n      <th>Dataset ID</th>\n      <td>ooi-ce04ossm-sbd11-06-metbka000</td>\n    </tr>\n  </tbody>\n</table>"
      }
     },
     "2a6ef40f09574366adb4cd93192feb75": {
      "model_module": "@jupyter-widgets/controls",
      "model_module_version": "1.5.0",
      "model_name": "DescriptionStyleModel",
      "state": {
       "description_width": ""
      }
     },
     "2a7de14b88334497a6e464e541899201": {
      "model_module": "jupyter-leaflet",
      "model_module_version": "^0.14.0",
      "model_name": "LeafletAwesomeIconModel",
      "state": {
       "_model_module_version": "^0.14.0",
       "_view_module_version": "^0.14.0",
       "icon_color": "white",
       "marker_color": "orange",
       "name": "life-ring"
      }
     },
     "2aaeff64713b439a8bd162bdaa960780": {
      "model_module": "jupyter-leaflet",
      "model_module_version": "^0.14.0",
      "model_name": "LeafletAwesomeIconModel",
      "state": {
       "_model_module_version": "^0.14.0",
       "_view_module_version": "^0.14.0",
       "icon_color": "white",
       "marker_color": "orange",
       "name": "life-ring"
      }
     },
     "2aebe4be3110424fb6466ad2c9774e17": {
      "model_module": "jupyter-leaflet",
      "model_module_version": "^0.14.0",
      "model_name": "LeafletAwesomeIconModel",
      "state": {
       "_model_module_version": "^0.14.0",
       "_view_module_version": "^0.14.0",
       "icon_color": "white",
       "marker_color": "orange",
       "name": "life-ring"
      }
     },
     "2b08856fcbde45649d2063d2808089e1": {
      "model_module": "@jupyter-widgets/controls",
      "model_module_version": "1.5.0",
      "model_name": "HTMLModel",
      "state": {
       "layout": "IPY_MODEL_7223332681f745d18709dbcdde6f6d41",
       "style": "IPY_MODEL_dd1c98dbd27d4d3a892b2f437633853b",
       "value": "<table border=\"1\" class=\"dataframe table table-striped table-hover table-condensed table-responsive\">\n  <thead>\n    <tr style=\"text-align: right;\">\n      <th></th>\n      <th>27</th>\n    </tr>\n  </thead>\n  <tbody>\n    <tr>\n      <th>Institution</th>\n      <td>Ocean Observatories Initiative (OOI)</td>\n    </tr>\n    <tr>\n      <th>Dataset ID</th>\n      <td>ooi-ce02shsm-rid26-07-nutnrb000</td>\n    </tr>\n  </tbody>\n</table>"
      }
     },
     "2b0c0dad11cf416d897a6c46a8213c94": {
      "model_module": "@jupyter-widgets/controls",
      "model_module_version": "1.5.0",
      "model_name": "DescriptionStyleModel",
      "state": {
       "description_width": ""
      }
     },
     "2b395b824f974c1f91039a8d93077021": {
      "model_module": "@jupyter-widgets/controls",
      "model_module_version": "1.5.0",
      "model_name": "DescriptionStyleModel",
      "state": {
       "description_width": ""
      }
     },
     "2b5736552169433f92737c11fec11cf2": {
      "model_module": "@jupyter-widgets/base",
      "model_module_version": "1.2.0",
      "model_name": "LayoutModel",
      "state": {}
     },
     "2be1db1b3baf43a997d822ad650e28f7": {
      "model_module": "jupyter-leaflet",
      "model_module_version": "^0.14.0",
      "model_name": "LeafletMarkerModel",
      "state": {
       "_model_module_version": "^0.14.0",
       "_view_module_version": "^0.14.0",
       "icon": "IPY_MODEL_bf6b3c0aaa1e47f69d2ef004b34fd930",
       "location": [
        47.1345,
        -124.27087
       ],
       "options": [
        "alt",
        "draggable",
        "keyboard",
        "rise_offset",
        "rise_on_hover",
        "rotation_angle",
        "rotation_origin",
        "title",
        "z_index_offset"
       ],
       "popup": "IPY_MODEL_af3dbf905e3048da9806f8b6c8f328c8"
      }
     },
     "2c48f3136b8d4ab586145cd15a6cbe03": {
      "model_module": "jupyter-leaflet",
      "model_module_version": "^0.14.0",
      "model_name": "LeafletMarkerModel",
      "state": {
       "_model_module_version": "^0.14.0",
       "_view_module_version": "^0.14.0",
       "icon": "IPY_MODEL_887b93ae2e6b4e93aaaac5bc665c4664",
       "location": [
        43.3,
        -124.5
       ],
       "options": [
        "alt",
        "draggable",
        "keyboard",
        "rise_offset",
        "rise_on_hover",
        "rotation_angle",
        "rotation_origin",
        "title",
        "z_index_offset"
       ],
       "popup": "IPY_MODEL_3d978b54342d493dab18db2d5452317a"
      }
     },
     "2cac26ce05e24b7097009a3573360706": {
      "model_module": "@jupyter-widgets/base",
      "model_module_version": "1.2.0",
      "model_name": "LayoutModel",
      "state": {}
     },
     "2cf895327b2b4c99a5e07d7dbfe43174": {
      "model_module": "@jupyter-widgets/controls",
      "model_module_version": "1.5.0",
      "model_name": "DescriptionStyleModel",
      "state": {
       "description_width": ""
      }
     },
     "2d09ce1832b54c3b802bad04f957cc90": {
      "model_module": "jupyter-leaflet",
      "model_module_version": "^0.14.0",
      "model_name": "LeafletMarkerModel",
      "state": {
       "_model_module_version": "^0.14.0",
       "_view_module_version": "^0.14.0",
       "icon": "IPY_MODEL_f9d1e15b352c47088a25216831a82b6d",
       "location": [
        44.63577,
        -124.3035
       ],
       "options": [
        "alt",
        "draggable",
        "keyboard",
        "rise_offset",
        "rise_on_hover",
        "rotation_angle",
        "rotation_origin",
        "title",
        "z_index_offset"
       ],
       "popup": "IPY_MODEL_6652f0377365459aab023ca57376518d"
      }
     },
     "2d66c00b6fe74b53a9c1ce3c352aa6df": {
      "model_module": "@jupyter-widgets/base",
      "model_module_version": "1.2.0",
      "model_name": "LayoutModel",
      "state": {}
     },
     "2d80f1c402944f7aad980a3f4552a20f": {
      "model_module": "jupyter-leaflet",
      "model_module_version": "^0.14.0",
      "model_name": "LeafletAwesomeIconModel",
      "state": {
       "_model_module_version": "^0.14.0",
       "_view_module_version": "^0.14.0",
       "icon_color": "white",
       "marker_color": "orange",
       "name": "life-ring"
      }
     },
     "2d85e09360d443dfb7cfb6245c5bd1dd": {
      "model_module": "@jupyter-widgets/controls",
      "model_module_version": "1.5.0",
      "model_name": "HTMLModel",
      "state": {
       "layout": "IPY_MODEL_8720a78c188b4828a689dd952d96656a",
       "style": "IPY_MODEL_7de5c7d2b9aa4b4aaf4fb06f6e7646bd",
       "value": "<table border=\"1\" class=\"dataframe table table-striped table-hover table-condensed table-responsive\">\n  <thead>\n    <tr style=\"text-align: right;\">\n      <th></th>\n      <th>19</th>\n    </tr>\n  </thead>\n  <tbody>\n    <tr>\n      <th>Institution</th>\n      <td>Ocean Observatories Initiative (OOI)</td>\n    </tr>\n    <tr>\n      <th>Dataset ID</th>\n      <td>ooi-ce04ossm-rid26-06-phsend000</td>\n    </tr>\n  </tbody>\n</table>"
      }
     },
     "2d908e4401594a248e5a8738e226887a": {
      "model_module": "jupyter-leaflet",
      "model_module_version": "^0.14.0",
      "model_name": "LeafletMarkerModel",
      "state": {
       "_model_module_version": "^0.14.0",
       "_view_module_version": "^0.14.0",
       "icon": "IPY_MODEL_5b3771a21def4fb9b7dd04317d25b5a5",
       "location": [
        46.85367,
        -124.95935
       ],
       "options": [
        "alt",
        "draggable",
        "keyboard",
        "rise_offset",
        "rise_on_hover",
        "rotation_angle",
        "rotation_origin",
        "title",
        "z_index_offset"
       ],
       "popup": "IPY_MODEL_14176da2877149d9819295fb1f3f7aaf"
      }
     },
     "2dbf4d369a854f7ba74d0678803ede0d": {
      "model_module": "@jupyter-widgets/controls",
      "model_module_version": "1.5.0",
      "model_name": "HTMLModel",
      "state": {
       "layout": "IPY_MODEL_d64d8738680b461ab57f8cae2af56762",
       "style": "IPY_MODEL_60dc03b9da37487a9bd8a969acb5a66b",
       "value": "<table border=\"1\" class=\"dataframe table table-striped table-hover table-condensed table-responsive\">\n  <thead>\n    <tr style=\"text-align: right;\">\n      <th></th>\n      <th>15</th>\n    </tr>\n  </thead>\n  <tbody>\n    <tr>\n      <th>Institution</th>\n      <td>Ocean Observatories Initiative (OOI)</td>\n    </tr>\n    <tr>\n      <th>Dataset ID</th>\n      <td>ooi-ce04ossm-rid27-02-flortd000</td>\n    </tr>\n  </tbody>\n</table>"
      }
     },
     "2df21d2ca83347d197cc9932cf4fc962": {
      "model_module": "@jupyter-widgets/controls",
      "model_module_version": "1.5.0",
      "model_name": "HTMLModel",
      "state": {
       "layout": "IPY_MODEL_583b98e96dc146fd91610e7f34c60fdc",
       "style": "IPY_MODEL_0ea3eac917fd41619def0dabd955bde5",
       "value": "<table border=\"1\" class=\"dataframe table table-striped table-hover table-condensed table-responsive\">\n  <thead>\n    <tr style=\"text-align: right;\">\n      <th></th>\n      <th>79</th>\n    </tr>\n  </thead>\n  <tbody>\n    <tr>\n      <th>Institution</th>\n      <td>Center for Coastal Margin Observation &amp; Prediction</td>\n    </tr>\n    <tr>\n      <th>Dataset ID</th>\n      <td>org_cmop_seto3</td>\n    </tr>\n  </tbody>\n</table>"
      }
     },
     "2e11cf2bd3cf4e71a7924b0c7c7bb3f0": {
      "model_module": "@jupyter-widgets/base",
      "model_module_version": "1.2.0",
      "model_name": "LayoutModel",
      "state": {}
     },
     "2e7cfdaeeab84292829709e278612f7a": {
      "model_module": "@jupyter-widgets/base",
      "model_module_version": "1.2.0",
      "model_name": "LayoutModel",
      "state": {}
     },
     "2ee7a6676118461daa1109bf6ea9416f": {
      "model_module": "@jupyter-widgets/base",
      "model_module_version": "1.2.0",
      "model_name": "LayoutModel",
      "state": {}
     },
     "2ef1c215cdea48fbbe0d38fa2f66778a": {
      "model_module": "jupyter-leaflet",
      "model_module_version": "^0.14.0",
      "model_name": "LeafletAwesomeIconModel",
      "state": {
       "_model_module_version": "^0.14.0",
       "_view_module_version": "^0.14.0",
       "icon_color": "white",
       "marker_color": "orange",
       "name": "life-ring"
      }
     },
     "2f4c73dcd86641588c0e28cd6cbc4f8f": {
      "model_module": "jupyter-leaflet",
      "model_module_version": "^0.14.0",
      "model_name": "LeafletAwesomeIconModel",
      "state": {
       "_model_module_version": "^0.14.0",
       "_view_module_version": "^0.14.0",
       "icon_color": "white",
       "name": "life-ring"
      }
     },
     "2f65e794a2e54517a8f6253f60eeceac": {
      "model_module": "jupyter-leaflet",
      "model_module_version": "^0.14.0",
      "model_name": "LeafletAwesomeIconModel",
      "state": {
       "_model_module_version": "^0.14.0",
       "_view_module_version": "^0.14.0",
       "icon_color": "white",
       "marker_color": "orange",
       "name": "life-ring"
      }
     },
     "2f8c9ac033b04600b2ae9d782dae6a18": {
      "model_module": "jupyter-leaflet",
      "model_module_version": "^0.14.0",
      "model_name": "LeafletMarkerModel",
      "state": {
       "_model_module_version": "^0.14.0",
       "_view_module_version": "^0.14.0",
       "icon": "IPY_MODEL_88f47cd799bb4264ac3445fc6793e7d9",
       "location": [
        46.85367,
        -124.95935
       ],
       "options": [
        "alt",
        "draggable",
        "keyboard",
        "rise_offset",
        "rise_on_hover",
        "rotation_angle",
        "rotation_origin",
        "title",
        "z_index_offset"
       ],
       "popup": "IPY_MODEL_365223a7ad45489e9290533571c17d4d"
      }
     },
     "2f8dce15ec0a4db19da35c49f853d6a9": {
      "model_module": "@jupyter-widgets/controls",
      "model_module_version": "1.5.0",
      "model_name": "HTMLModel",
      "state": {
       "layout": "IPY_MODEL_c7a639dcc81b473cad594d29115d58e2",
       "style": "IPY_MODEL_d791cd95f9384b688376aea6286fd557",
       "value": "<table border=\"1\" class=\"dataframe table table-striped table-hover table-condensed table-responsive\">\n  <thead>\n    <tr style=\"text-align: right;\">\n      <th></th>\n      <th>38</th>\n    </tr>\n  </thead>\n  <tbody>\n    <tr>\n      <th>Institution</th>\n      <td>Ocean Observatories Initiative (OOI)</td>\n    </tr>\n    <tr>\n      <th>Dataset ID</th>\n      <td>ooi-ce06issm-mfd35-06-phsend000</td>\n    </tr>\n  </tbody>\n</table>"
      }
     },
     "2f970490e4de4f058c5491eb90c30ad1": {
      "model_module": "@jupyter-widgets/controls",
      "model_module_version": "1.5.0",
      "model_name": "DescriptionStyleModel",
      "state": {
       "description_width": ""
      }
     },
     "2fc9f8ce51c1453da640270a8ace111d": {
      "model_module": "jupyter-leaflet",
      "model_module_version": "^0.14.0",
      "model_name": "LeafletMarkerModel",
      "state": {
       "_model_module_version": "^0.14.0",
       "_view_module_version": "^0.14.0",
       "icon": "IPY_MODEL_73a859167b92493995dab8bdb0e37b2c",
       "location": [
        44.65678,
        -124.09707
       ],
       "options": [
        "alt",
        "draggable",
        "keyboard",
        "rise_offset",
        "rise_on_hover",
        "rotation_angle",
        "rotation_origin",
        "title",
        "z_index_offset"
       ],
       "popup": "IPY_MODEL_ca260d675dc447928567a37bdecc496d"
      }
     },
     "300049c4f8704f3a945502cfdd850648": {
      "model_module": "@jupyter-widgets/controls",
      "model_module_version": "1.5.0",
      "model_name": "HTMLModel",
      "state": {
       "layout": "IPY_MODEL_823918740a264972921c308e04548bf5",
       "style": "IPY_MODEL_f06ea759f1e6494aa170fae8578e7825",
       "value": "<table border=\"1\" class=\"dataframe table table-striped table-hover table-condensed table-responsive\">\n  <thead>\n    <tr style=\"text-align: right;\">\n      <th></th>\n      <th>44</th>\n    </tr>\n  </thead>\n  <tbody>\n    <tr>\n      <th>Institution</th>\n      <td>Ocean Observatories Initiative (OOI)</td>\n    </tr>\n    <tr>\n      <th>Dataset ID</th>\n      <td>ooi-ce09ossm-rid26-07-nutnrb000</td>\n    </tr>\n  </tbody>\n</table>"
      }
     },
     "301db70343b84e999ca2d6c600689511": {
      "model_module": "jupyter-leaflet",
      "model_module_version": "^0.14.0",
      "model_name": "LeafletMarkerModel",
      "state": {
       "_model_module_version": "^0.14.0",
       "_view_module_version": "^0.14.0",
       "icon": "IPY_MODEL_f411d98eab494d69a24c3aa3fdf7f3b4",
       "location": [
        46.85367,
        -124.95935
       ],
       "options": [
        "alt",
        "draggable",
        "keyboard",
        "rise_offset",
        "rise_on_hover",
        "rotation_angle",
        "rotation_origin",
        "title",
        "z_index_offset"
       ],
       "popup": "IPY_MODEL_f9f666e3660a4d0ba39833e41f19946e"
      }
     },
     "308d01f1c6874ef3807976ead658ef0b": {
      "model_module": "jupyter-leaflet",
      "model_module_version": "^0.14.0",
      "model_name": "LeafletAwesomeIconModel",
      "state": {
       "_model_module_version": "^0.14.0",
       "_view_module_version": "^0.14.0",
       "icon_color": "white",
       "marker_color": "orange",
       "name": "life-ring"
      }
     },
     "30ada9090ca442a597b20972c471a419": {
      "model_module": "@jupyter-widgets/controls",
      "model_module_version": "1.5.0",
      "model_name": "HTMLModel",
      "state": {
       "layout": "IPY_MODEL_fb4ca257100940da9861e08801431be4",
       "style": "IPY_MODEL_adcfa6bd84704153937bfb7b1ca9315e",
       "value": "<table border=\"1\" class=\"dataframe table table-striped table-hover table-condensed table-responsive\">\n  <thead>\n    <tr style=\"text-align: right;\">\n      <th></th>\n      <th>3</th>\n    </tr>\n  </thead>\n  <tbody>\n    <tr>\n      <th>Institution</th>\n      <td>Ocean Observatories Initiative (OOI)</td>\n    </tr>\n    <tr>\n      <th>Dataset ID</th>\n      <td>ooi-ce01issm-rid16-07-nutnrb000</td>\n    </tr>\n  </tbody>\n</table>"
      }
     },
     "310c7e4fc6fb48828a68c12705e96a07": {
      "model_module": "jupyter-leaflet",
      "model_module_version": "^0.14.0",
      "model_name": "LeafletAwesomeIconModel",
      "state": {
       "_model_module_version": "^0.14.0",
       "_view_module_version": "^0.14.0",
       "icon_color": "white",
       "name": "life-ring"
      }
     },
     "3135fe3929a74bc18548d33f6b76e215": {
      "model_module": "@jupyter-widgets/controls",
      "model_module_version": "1.5.0",
      "model_name": "HTMLModel",
      "state": {
       "layout": "IPY_MODEL_12afaa192e6d4632b254f540ddfb106a",
       "style": "IPY_MODEL_13010a9d94444bc9a6826039213e3d55",
       "value": "<table border=\"1\" class=\"dataframe table table-striped table-hover table-condensed table-responsive\">\n  <thead>\n    <tr style=\"text-align: right;\">\n      <th></th>\n      <th>22</th>\n    </tr>\n  </thead>\n  <tbody>\n    <tr>\n      <th>Institution</th>\n      <td>Ocean Observatories Initiative (OOI)</td>\n    </tr>\n    <tr>\n      <th>Dataset ID</th>\n      <td>ooi-ce02shbp-lj01d-06-ctdbpn106</td>\n    </tr>\n  </tbody>\n</table>"
      }
     },
     "31c776b64205452a8f50e2c5790de46e": {
      "model_module": "@jupyter-widgets/controls",
      "model_module_version": "1.5.0",
      "model_name": "HTMLModel",
      "state": {
       "layout": "IPY_MODEL_99fe8beb1a1a4400a3d75785fd910ac9",
       "style": "IPY_MODEL_f1abb884b026415e8ecd4cc068a10d20",
       "value": "<table border=\"1\" class=\"dataframe table table-striped table-hover table-condensed table-responsive\">\n  <thead>\n    <tr style=\"text-align: right;\">\n      <th></th>\n      <th>16</th>\n    </tr>\n  </thead>\n  <tbody>\n    <tr>\n      <th>Institution</th>\n      <td>Ocean Observatories Initiative (OOI)</td>\n    </tr>\n    <tr>\n      <th>Dataset ID</th>\n      <td>ooi-ce04ossm-rid27-03-ctdbpc000</td>\n    </tr>\n  </tbody>\n</table>"
      }
     },
     "3249185ca3b246d8abe99bf9b609783f": {
      "model_module": "@jupyter-widgets/base",
      "model_module_version": "1.2.0",
      "model_name": "LayoutModel",
      "state": {}
     },
     "32515d2cc89e41c6b4ef865096e6541a": {
      "model_module": "@jupyter-widgets/controls",
      "model_module_version": "1.5.0",
      "model_name": "HTMLModel",
      "state": {
       "layout": "IPY_MODEL_6467693e688b4e26ab990a159c3b9441",
       "style": "IPY_MODEL_f58db1e2db8b4ec79942d24da429e0ed",
       "value": "<table border=\"1\" class=\"dataframe table table-striped table-hover table-condensed table-responsive\">\n  <thead>\n    <tr style=\"text-align: right;\">\n      <th></th>\n      <th>52</th>\n    </tr>\n  </thead>\n  <tbody>\n    <tr>\n      <th>Institution</th>\n      <td>Ocean Observatories Initiative (OOI)</td>\n    </tr>\n    <tr>\n      <th>Dataset ID</th>\n      <td>ooi-ce07shsm-rid27-04-dostad000</td>\n    </tr>\n  </tbody>\n</table>"
      }
     },
     "327454ea0a5c44fda416765a296fdc08": {
      "model_module": "@jupyter-widgets/controls",
      "model_module_version": "1.5.0",
      "model_name": "DescriptionStyleModel",
      "state": {
       "description_width": ""
      }
     },
     "32d1da9723b147d2875c06e410519fa5": {
      "model_module": "@jupyter-widgets/base",
      "model_module_version": "1.2.0",
      "model_name": "LayoutModel",
      "state": {}
     },
     "32d5cfcca256487280f98c640adfcf6f": {
      "model_module": "jupyter-leaflet",
      "model_module_version": "^0.14.0",
      "model_name": "LeafletAwesomeIconModel",
      "state": {
       "_model_module_version": "^0.14.0",
       "_view_module_version": "^0.14.0",
       "icon_color": "white",
       "marker_color": "orange",
       "name": "life-ring"
      }
     },
     "335944ecb869430e9df30bc3c8e9a5cf": {
      "model_module": "@jupyter-widgets/controls",
      "model_module_version": "1.5.0",
      "model_name": "DescriptionStyleModel",
      "state": {
       "description_width": ""
      }
     },
     "338b38a5e98a4893baee958ce27ce000": {
      "model_module": "@jupyter-widgets/controls",
      "model_module_version": "1.5.0",
      "model_name": "DescriptionStyleModel",
      "state": {
       "description_width": ""
      }
     },
     "33a682999d974b06bca886c011b67bd5": {
      "model_module": "@jupyter-widgets/controls",
      "model_module_version": "1.5.0",
      "model_name": "HTMLModel",
      "state": {
       "layout": "IPY_MODEL_0e29128dbe0d4e8b8b41b6a424089e57",
       "style": "IPY_MODEL_2cf895327b2b4c99a5e07d7dbfe43174",
       "value": "<table border=\"1\" class=\"dataframe table table-striped table-hover table-condensed table-responsive\">\n  <thead>\n    <tr style=\"text-align: right;\">\n      <th></th>\n      <th>18</th>\n    </tr>\n  </thead>\n  <tbody>\n    <tr>\n      <th>Institution</th>\n      <td>Ocean Observatories Initiative (OOI)</td>\n    </tr>\n    <tr>\n      <th>Dataset ID</th>\n      <td>ooi-ce04ossm-rid26-07-nutnrb000</td>\n    </tr>\n  </tbody>\n</table>"
      }
     },
     "33a6c2e3c84c43ce9c146c60d237e1d1": {
      "model_module": "jupyter-leaflet",
      "model_module_version": "^0.14.0",
      "model_name": "LeafletMarkerModel",
      "state": {
       "_model_module_version": "^0.14.0",
       "_view_module_version": "^0.14.0",
       "icon": "IPY_MODEL_ab9aded4aacf4f19b016dd174b711dcf",
       "location": [
        47.1345,
        -124.27087
       ],
       "options": [
        "alt",
        "draggable",
        "keyboard",
        "rise_offset",
        "rise_on_hover",
        "rotation_angle",
        "rotation_origin",
        "title",
        "z_index_offset"
       ],
       "popup": "IPY_MODEL_449ec08c3e1d4492a01d6b669ea910fc"
      }
     },
     "33e2ad9f77b0437b96a6e44ba4c12103": {
      "model_module": "@jupyter-widgets/base",
      "model_module_version": "1.2.0",
      "model_name": "LayoutModel",
      "state": {}
     },
     "345999cd2c414159afbbf5485dcf81ee": {
      "model_module": "@jupyter-widgets/controls",
      "model_module_version": "1.5.0",
      "model_name": "HTMLModel",
      "state": {
       "layout": "IPY_MODEL_a6ca279c4507464199f6de8def874406",
       "style": "IPY_MODEL_0b4fc55f198a45dea5a5f3aa308b1db6",
       "value": "<table border=\"1\" class=\"dataframe table table-striped table-hover table-condensed table-responsive\">\n  <thead>\n    <tr style=\"text-align: right;\">\n      <th></th>\n      <th>22</th>\n    </tr>\n  </thead>\n  <tbody>\n    <tr>\n      <th>Institution</th>\n      <td>Ocean Observatories Initiative (OOI)</td>\n    </tr>\n    <tr>\n      <th>Dataset ID</th>\n      <td>ooi-ce02shbp-lj01d-06-ctdbpn106</td>\n    </tr>\n  </tbody>\n</table>"
      }
     },
     "346cb7af1d5646a7a86db8121ef523ff": {
      "model_module": "jupyter-leaflet",
      "model_module_version": "^0.14.0",
      "model_name": "LeafletAwesomeIconModel",
      "state": {
       "_model_module_version": "^0.14.0",
       "_view_module_version": "^0.14.0",
       "icon_color": "white",
       "name": "life-ring"
      }
     },
     "34c94a48f1ae497d8861dc9bab6319fb": {
      "model_module": "jupyter-leaflet",
      "model_module_version": "^0.14.0",
      "model_name": "LeafletMarkerModel",
      "state": {
       "_model_module_version": "^0.14.0",
       "_view_module_version": "^0.14.0",
       "icon": "IPY_MODEL_0398ad435cd64f0e9b038d233971d40e",
       "location": [
        44.37868,
        -124.94508
       ],
       "options": [
        "alt",
        "draggable",
        "keyboard",
        "rise_offset",
        "rise_on_hover",
        "rotation_angle",
        "rotation_origin",
        "title",
        "z_index_offset"
       ],
       "popup": "IPY_MODEL_33a682999d974b06bca886c011b67bd5"
      }
     },
     "350e6412d8f8480c8ad653b26ce88d35": {
      "model_module": "jupyter-leaflet",
      "model_module_version": "^0.14.0",
      "model_name": "LeafletMarkerModel",
      "state": {
       "_model_module_version": "^0.14.0",
       "_view_module_version": "^0.14.0",
       "icon": "IPY_MODEL_d59fded7cd784d3a823d75d5c3b5c8ef",
       "location": [
        43.3447,
        -124.3231
       ],
       "options": [
        "alt",
        "draggable",
        "keyboard",
        "rise_offset",
        "rise_on_hover",
        "rotation_angle",
        "rotation_origin",
        "title",
        "z_index_offset"
       ],
       "popup": "IPY_MODEL_2790c1d24cab449099f41e034d85561e"
      }
     },
     "351631259423424d992e08a93f1f5f2c": {
      "model_module": "jupyter-leaflet",
      "model_module_version": "^0.14.0",
      "model_name": "LeafletAwesomeIconModel",
      "state": {
       "_model_module_version": "^0.14.0",
       "_view_module_version": "^0.14.0",
       "icon_color": "white",
       "marker_color": "orange",
       "name": "life-ring"
      }
     },
     "3568c84b370347f0bf86adf71d747b73": {
      "model_module": "@jupyter-widgets/controls",
      "model_module_version": "1.5.0",
      "model_name": "DescriptionStyleModel",
      "state": {
       "description_width": ""
      }
     },
     "357e937e0cdf47efb2632b6a49ef7077": {
      "model_module": "jupyter-leaflet",
      "model_module_version": "^0.14.0",
      "model_name": "LeafletMarkerModel",
      "state": {
       "_model_module_version": "^0.14.0",
       "_view_module_version": "^0.14.0",
       "icon": "IPY_MODEL_1104e1875021431fbe7b9dba55301622",
       "location": [
        44.63958,
        -124.303
       ],
       "options": [
        "alt",
        "draggable",
        "keyboard",
        "rise_offset",
        "rise_on_hover",
        "rotation_angle",
        "rotation_origin",
        "title",
        "z_index_offset"
       ],
       "popup": "IPY_MODEL_e5235d1720d64852a9b813c4659dce9d"
      }
     },
     "35e3760054604860896c905843f77b6e": {
      "model_module": "jupyter-leaflet",
      "model_module_version": "^0.14.0",
      "model_name": "LeafletMarkerModel",
      "state": {
       "_model_module_version": "^0.14.0",
       "_view_module_version": "^0.14.0",
       "icon": "IPY_MODEL_f893655349a0419b83ede247cfa622ee",
       "location": [
        47.1345,
        -124.27087
       ],
       "options": [
        "alt",
        "draggable",
        "keyboard",
        "rise_offset",
        "rise_on_hover",
        "rotation_angle",
        "rotation_origin",
        "title",
        "z_index_offset"
       ],
       "popup": "IPY_MODEL_29b9683e64b841398b066ce765424dc7"
      }
     },
     "360597908d3a4d5088ad6ee08e5d9ca6": {
      "model_module": "jupyter-leaflet",
      "model_module_version": "^0.14.0",
      "model_name": "LeafletMarkerModel",
      "state": {
       "_model_module_version": "^0.14.0",
       "_view_module_version": "^0.14.0",
       "icon": "IPY_MODEL_d8902c7c75b84276880390a7d601f292",
       "location": [
        46.98648,
        -124.56923
       ],
       "options": [
        "alt",
        "draggable",
        "keyboard",
        "rise_offset",
        "rise_on_hover",
        "rotation_angle",
        "rotation_origin",
        "title",
        "z_index_offset"
       ],
       "popup": "IPY_MODEL_c436533bb6b244baaa7cc1b980081687"
      }
     },
     "3629ec6848ed4199bad7ba58c943a156": {
      "model_module": "@jupyter-widgets/controls",
      "model_module_version": "1.5.0",
      "model_name": "DescriptionStyleModel",
      "state": {
       "description_width": ""
      }
     },
     "3636b32e602d4e8bb5f0d79410690b05": {
      "model_module": "jupyter-leaflet",
      "model_module_version": "^0.14.0",
      "model_name": "LeafletAwesomeIconModel",
      "state": {
       "_model_module_version": "^0.14.0",
       "_view_module_version": "^0.14.0",
       "icon_color": "white",
       "marker_color": "orange",
       "name": "life-ring"
      }
     },
     "365223a7ad45489e9290533571c17d4d": {
      "model_module": "@jupyter-widgets/controls",
      "model_module_version": "1.5.0",
      "model_name": "HTMLModel",
      "state": {
       "layout": "IPY_MODEL_9c032bddab8f4bb9a8ef5b2e83c97e43",
       "style": "IPY_MODEL_7be111d805c2475daa10c7512dd535e5",
       "value": "<table border=\"1\" class=\"dataframe table table-striped table-hover table-condensed table-responsive\">\n  <thead>\n    <tr style=\"text-align: right;\">\n      <th></th>\n      <th>49</th>\n    </tr>\n  </thead>\n  <tbody>\n    <tr>\n      <th>Institution</th>\n      <td>Ocean Observatories Initiative (OOI)</td>\n    </tr>\n    <tr>\n      <th>Dataset ID</th>\n      <td>ooi-ce09ossm-sbd12-04-pco2aa000</td>\n    </tr>\n  </tbody>\n</table>"
      }
     },
     "36a5ac518d5d4bf2b51278b563a941a6": {
      "model_module": "@jupyter-widgets/base",
      "model_module_version": "1.2.0",
      "model_name": "LayoutModel",
      "state": {}
     },
     "37047ae22f6e49cd907bb101d66ac62d": {
      "model_module": "@jupyter-widgets/controls",
      "model_module_version": "1.5.0",
      "model_name": "DescriptionStyleModel",
      "state": {
       "description_width": ""
      }
     },
     "3782aa6bafab474eb8a7ba81deb0fa6b": {
      "model_module": "@jupyter-widgets/controls",
      "model_module_version": "1.5.0",
      "model_name": "HTMLModel",
      "state": {
       "layout": "IPY_MODEL_32d1da9723b147d2875c06e410519fa5",
       "style": "IPY_MODEL_a3a63060905542e6838e0b0fabee5bd5",
       "value": "<table border=\"1\" class=\"dataframe table table-striped table-hover table-condensed table-responsive\">\n  <thead>\n    <tr style=\"text-align: right;\">\n      <th></th>\n      <th>0</th>\n    </tr>\n  </thead>\n  <tbody>\n    <tr>\n      <th>Institution</th>\n      <td>Ocean Observatories Initiative (OOI)</td>\n    </tr>\n    <tr>\n      <th>Dataset ID</th>\n      <td>ooi-ce01issm-rid16-02-flortd000</td>\n    </tr>\n  </tbody>\n</table>"
      }
     },
     "37ba0d9389ab4e55a9e60f0240676be4": {
      "model_module": "jupyter-leaflet",
      "model_module_version": "^0.14.0",
      "model_name": "LeafletAwesomeIconModel",
      "state": {
       "_model_module_version": "^0.14.0",
       "_view_module_version": "^0.14.0",
       "icon_color": "white",
       "marker_color": "orange",
       "name": "life-ring"
      }
     },
     "37bd666c60e5429a9fc469f2d6695604": {
      "model_module": "@jupyter-widgets/controls",
      "model_module_version": "1.5.0",
      "model_name": "HTMLModel",
      "state": {
       "layout": "IPY_MODEL_4a64c592449644a588f4ab53df35311b",
       "style": "IPY_MODEL_a3bcbcf692de479484902bc863f685b6",
       "value": "<table border=\"1\" class=\"dataframe table table-striped table-hover table-condensed table-responsive\">\n  <thead>\n    <tr style=\"text-align: right;\">\n      <th></th>\n      <th>43</th>\n    </tr>\n  </thead>\n  <tbody>\n    <tr>\n      <th>Institution</th>\n      <td>Ocean Observatories Initiative (OOI)</td>\n    </tr>\n    <tr>\n      <th>Dataset ID</th>\n      <td>ooi-ce09ossm-rid27-04-dostad000</td>\n    </tr>\n  </tbody>\n</table>"
      }
     },
     "3850a61ce8de43dfa8e46a547c1c58d4": {
      "model_module": "@jupyter-widgets/controls",
      "model_module_version": "1.5.0",
      "model_name": "DescriptionStyleModel",
      "state": {
       "description_width": ""
      }
     },
     "385a11f4447a4f02bd09da92ec495775": {
      "model_module": "@jupyter-widgets/base",
      "model_module_version": "1.2.0",
      "model_name": "LayoutModel",
      "state": {}
     },
     "3884a85cadac4708a4bf041307844f94": {
      "model_module": "@jupyter-widgets/controls",
      "model_module_version": "1.5.0",
      "model_name": "DescriptionStyleModel",
      "state": {
       "description_width": ""
      }
     },
     "389b100b581d4f1eb3d103616bc9a511": {
      "model_module": "@jupyter-widgets/base",
      "model_module_version": "1.2.0",
      "model_name": "LayoutModel",
      "state": {}
     },
     "396296fbc8b34765a7c1982a9df8a75d": {
      "model_module": "@jupyter-widgets/controls",
      "model_module_version": "1.5.0",
      "model_name": "DescriptionStyleModel",
      "state": {
       "description_width": ""
      }
     },
     "39a2dc814a204fac8c9f1ee04e6b8375": {
      "model_module": "@jupyter-widgets/controls",
      "model_module_version": "1.5.0",
      "model_name": "DescriptionStyleModel",
      "state": {
       "description_width": ""
      }
     },
     "3a8207b6f5bb450c92c1a99b1e767684": {
      "model_module": "@jupyter-widgets/controls",
      "model_module_version": "1.5.0",
      "model_name": "DescriptionStyleModel",
      "state": {
       "description_width": ""
      }
     },
     "3a8445e8a3744c90b0f2de58e652809c": {
      "model_module": "@jupyter-widgets/base",
      "model_module_version": "1.2.0",
      "model_name": "LayoutModel",
      "state": {}
     },
     "3aa37be5d0a242198ed3a639da241b4d": {
      "model_module": "jupyter-leaflet",
      "model_module_version": "^0.14.0",
      "model_name": "LeafletMarkerModel",
      "state": {
       "_model_module_version": "^0.14.0",
       "_view_module_version": "^0.14.0",
       "icon": "IPY_MODEL_12f4903caa394adca0e6ed04b49c89d3",
       "location": [
        45.4213981628418,
        -123.93620300293
       ],
       "options": [
        "alt",
        "draggable",
        "keyboard",
        "rise_offset",
        "rise_on_hover",
        "rotation_angle",
        "rotation_origin",
        "title",
        "z_index_offset"
       ],
       "popup": "IPY_MODEL_ee8c9c1972da42cab4428e0fce24c5de"
      }
     },
     "3ad236c9cd004798920b334550a868b5": {
      "model_module": "jupyter-leaflet",
      "model_module_version": "^0.14.0",
      "model_name": "LeafletAwesomeIconModel",
      "state": {
       "_model_module_version": "^0.14.0",
       "_view_module_version": "^0.14.0",
       "icon_color": "white",
       "marker_color": "orange",
       "name": "life-ring"
      }
     },
     "3add10dcd54b4da4ad31f22cc7535dd1": {
      "model_module": "@jupyter-widgets/controls",
      "model_module_version": "1.5.0",
      "model_name": "DescriptionStyleModel",
      "state": {
       "description_width": ""
      }
     },
     "3af66daec66b42dfbd5900da1f4c7c6a": {
      "model_module": "@jupyter-widgets/controls",
      "model_module_version": "1.5.0",
      "model_name": "HTMLModel",
      "state": {
       "layout": "IPY_MODEL_cc212b8bd1634c2fbe5d0acb0a7091f0",
       "style": "IPY_MODEL_5fd9ac27839948d2be3398b91dded88d",
       "value": "<table border=\"1\" class=\"dataframe table table-striped table-hover table-condensed table-responsive\">\n  <thead>\n    <tr style=\"text-align: right;\">\n      <th></th>\n      <th>13</th>\n    </tr>\n  </thead>\n  <tbody>\n    <tr>\n      <th>Institution</th>\n      <td>Ocean Observatories Initiative (OOI)</td>\n    </tr>\n    <tr>\n      <th>Dataset ID</th>\n      <td>ooi-ce04osps-pc01b-4a-ctdpfa109</td>\n    </tr>\n  </tbody>\n</table>"
      }
     },
     "3b0f6437d3294fffb42050a76fe841f0": {
      "model_module": "@jupyter-widgets/controls",
      "model_module_version": "1.5.0",
      "model_name": "HTMLModel",
      "state": {
       "layout": "IPY_MODEL_1389c37f83154960bda96a3e5d161153",
       "style": "IPY_MODEL_e4d4da225e8e47b2bca6fb7e59666b7a",
       "value": "<table border=\"1\" class=\"dataframe table table-striped table-hover table-condensed table-responsive\">\n  <thead>\n    <tr style=\"text-align: right;\">\n      <th></th>\n      <th>23</th>\n    </tr>\n  </thead>\n  <tbody>\n    <tr>\n      <th>Institution</th>\n      <td>Ocean Observatories Initiative (OOI)</td>\n    </tr>\n    <tr>\n      <th>Dataset ID</th>\n      <td>ooi-ce02shbp-lj01d-10-phsend103</td>\n    </tr>\n  </tbody>\n</table>"
      }
     },
     "3b2ffabac5384e148605395a49058507": {
      "model_module": "@jupyter-widgets/base",
      "model_module_version": "1.2.0",
      "model_name": "LayoutModel",
      "state": {}
     },
     "3b3f133719c1491c9e695b3ee63a86c8": {
      "model_module": "jupyter-leaflet",
      "model_module_version": "^0.14.0",
      "model_name": "LeafletMarkerModel",
      "state": {
       "_model_module_version": "^0.14.0",
       "_view_module_version": "^0.14.0",
       "icon": "IPY_MODEL_c3c0b0efe8ae4ebe978b5b22460d7c4f",
       "location": [
        44.52897,
        -125.38966
       ],
       "options": [
        "alt",
        "draggable",
        "keyboard",
        "rise_offset",
        "rise_on_hover",
        "rotation_angle",
        "rotation_origin",
        "title",
        "z_index_offset"
       ],
       "popup": "IPY_MODEL_1016746262324ed4920644a5e247b045"
      }
     },
     "3b545950a6e2407c9c4af13bdc245709": {
      "model_module": "@jupyter-widgets/base",
      "model_module_version": "1.2.0",
      "model_name": "LayoutModel",
      "state": {}
     },
     "3b93662578fb4e9cb9099eb8356f13d2": {
      "model_module": "@jupyter-widgets/controls",
      "model_module_version": "1.5.0",
      "model_name": "HTMLModel",
      "state": {
       "layout": "IPY_MODEL_64da42e3bda549189aa7b01a22d74c47",
       "style": "IPY_MODEL_065bb53fb09c4689981a6e577b23b613",
       "value": "<table border=\"1\" class=\"dataframe table table-striped table-hover table-condensed table-responsive\">\n  <thead>\n    <tr style=\"text-align: right;\">\n      <th></th>\n      <th>60</th>\n    </tr>\n  </thead>\n  <tbody>\n    <tr>\n      <th>Institution</th>\n      <td>Ocean Observatories Initiative (OOI)</td>\n    </tr>\n    <tr>\n      <th>Dataset ID</th>\n      <td>ooi-rs01sbps-pc01a-4c-flordd103</td>\n    </tr>\n  </tbody>\n</table>"
      }
     },
     "3baaa1564b834957941ffddbef6f6c46": {
      "model_module": "jupyter-leaflet",
      "model_module_version": "^0.14.0",
      "model_name": "LeafletAwesomeIconModel",
      "state": {
       "_model_module_version": "^0.14.0",
       "_view_module_version": "^0.14.0",
       "icon_color": "white",
       "marker_color": "orange",
       "name": "life-ring"
      }
     },
     "3be2937ea703415d90eacdc94e8c42fe": {
      "model_module": "@jupyter-widgets/controls",
      "model_module_version": "1.5.0",
      "model_name": "HTMLModel",
      "state": {
       "layout": "IPY_MODEL_5ecdd2e48dca496c8f9d2ea85d5e728f",
       "style": "IPY_MODEL_e53a6d58860a4cfc9c03028ad19307d8",
       "value": "<table border=\"1\" class=\"dataframe table table-striped table-hover table-condensed table-responsive\">\n  <thead>\n    <tr style=\"text-align: right;\">\n      <th></th>\n      <th>40</th>\n    </tr>\n  </thead>\n  <tbody>\n    <tr>\n      <th>Institution</th>\n      <td>Ocean Observatories Initiative (OOI)</td>\n    </tr>\n    <tr>\n      <th>Dataset ID</th>\n      <td>ooi-ce06issm-sbd17-06-ctdbpc000</td>\n    </tr>\n  </tbody>\n</table>"
      }
     },
     "3c320d345bc34a0ea9037322dfbda3c4": {
      "model_module": "@jupyter-widgets/controls",
      "model_module_version": "1.5.0",
      "model_name": "HTMLModel",
      "state": {
       "layout": "IPY_MODEL_ef394cbfe731479596be966d09041484",
       "style": "IPY_MODEL_c0204c2f36d2423aa4e1405fc8628057",
       "value": "<table border=\"1\" class=\"dataframe table table-striped table-hover table-condensed table-responsive\">\n  <thead>\n    <tr style=\"text-align: right;\">\n      <th></th>\n      <th>5</th>\n    </tr>\n  </thead>\n  <tbody>\n    <tr>\n      <th>Institution</th>\n      <td>Ocean Observatories Initiative (OOI)</td>\n    </tr>\n    <tr>\n      <th>Dataset ID</th>\n      <td>ooi-ce01issm-mfd37-03-ctdbpc000</td>\n    </tr>\n  </tbody>\n</table>"
      }
     },
     "3c57c1e1422149e995af85fd85237b44": {
      "model_module": "@jupyter-widgets/controls",
      "model_module_version": "1.5.0",
      "model_name": "HTMLModel",
      "state": {
       "layout": "IPY_MODEL_b1fdab086ce44192ae12160d155987eb",
       "style": "IPY_MODEL_9751b8a6d848425f866101c59d9f2797",
       "value": "<table border=\"1\" class=\"dataframe table table-striped table-hover table-condensed table-responsive\">\n  <thead>\n    <tr style=\"text-align: right;\">\n      <th></th>\n      <th>43</th>\n    </tr>\n  </thead>\n  <tbody>\n    <tr>\n      <th>Institution</th>\n      <td>Ocean Observatories Initiative (OOI)</td>\n    </tr>\n    <tr>\n      <th>Dataset ID</th>\n      <td>ooi-ce09ossm-rid27-04-dostad000</td>\n    </tr>\n  </tbody>\n</table>"
      }
     },
     "3c64fb00b368440b95909b3f888f6a24": {
      "model_module": "@jupyter-widgets/controls",
      "model_module_version": "1.5.0",
      "model_name": "DescriptionStyleModel",
      "state": {
       "description_width": ""
      }
     },
     "3c90c941de504169bd569d132a63b1e9": {
      "model_module": "@jupyter-widgets/base",
      "model_module_version": "1.2.0",
      "model_name": "LayoutModel",
      "state": {}
     },
     "3cb12115b65f40acbaa1406d9d4a7f6f": {
      "model_module": "jupyter-leaflet",
      "model_module_version": "^0.14.0",
      "model_name": "LeafletAwesomeIconModel",
      "state": {
       "_model_module_version": "^0.14.0",
       "_view_module_version": "^0.14.0",
       "icon_color": "white",
       "marker_color": "orange",
       "name": "life-ring"
      }
     },
     "3d0bb074b5ca46c4a3c76a027f527841": {
      "model_module": "@jupyter-widgets/base",
      "model_module_version": "1.2.0",
      "model_name": "LayoutModel",
      "state": {}
     },
     "3d0ee6bb659a4a1f9312d080e0a99a06": {
      "model_module": "@jupyter-widgets/base",
      "model_module_version": "1.2.0",
      "model_name": "LayoutModel",
      "state": {}
     },
     "3d1418c2eb73452ca6dba9b7588f3edd": {
      "model_module": "jupyter-leaflet",
      "model_module_version": "^0.14.0",
      "model_name": "LeafletMarkerModel",
      "state": {
       "_model_module_version": "^0.14.0",
       "_view_module_version": "^0.14.0",
       "icon": "IPY_MODEL_151670f7e44c4c77b722598fbd072e6e",
       "location": [
        46.98648,
        -124.56923
       ],
       "options": [
        "alt",
        "draggable",
        "keyboard",
        "rise_offset",
        "rise_on_hover",
        "rotation_angle",
        "rotation_origin",
        "title",
        "z_index_offset"
       ],
       "popup": "IPY_MODEL_5043e9fbbb9045d4bdba1c591a7f61d2"
      }
     },
     "3d3dbf0031034d8db384dd69ddca9875": {
      "model_module": "jupyter-leaflet",
      "model_module_version": "^0.14.0",
      "model_name": "LeafletRectangleModel",
      "state": {
       "_model_module_version": "^0.14.0",
       "_view_module_version": "^0.14.0",
       "bounds": [
        [
         43,
         -127
        ],
        [
         48,
         -123.75
        ]
       ],
       "color": "red",
       "draggable": false,
       "fill": false,
       "options": [
        "color",
        "dash_array",
        "draggable",
        "fill",
        "fill_color",
        "fill_opacity",
        "line_cap",
        "line_join",
        "no_clip",
        "opacity",
        "pointer_events",
        "smooth_factor",
        "stroke",
        "transform",
        "weight"
       ],
       "rotation": true,
       "scaling": true,
       "transform": false,
       "uniform_scaling": false
      }
     },
     "3d978b54342d493dab18db2d5452317a": {
      "model_module": "@jupyter-widgets/controls",
      "model_module_version": "1.5.0",
      "model_name": "HTMLModel",
      "state": {
       "layout": "IPY_MODEL_cd2613824efa49bbb180f96c1786a698",
       "style": "IPY_MODEL_a85b6ecc4c5245648e562ec5290ea80e",
       "value": "<table border=\"1\" class=\"dataframe table table-striped table-hover table-condensed table-responsive\">\n  <thead>\n    <tr style=\"text-align: right;\">\n      <th></th>\n      <th>73</th>\n    </tr>\n  </thead>\n  <tbody>\n    <tr>\n      <th>Institution</th>\n      <td>NOAA Pacific Marine Environmental Lab (PMEL)</td>\n    </tr>\n    <tr>\n      <th>Dataset ID</th>\n      <td>coos-bay-historic-co2</td>\n    </tr>\n  </tbody>\n</table>"
      }
     },
     "3de4b17fc669477097afaa56d99bf65b": {
      "model_module": "@jupyter-widgets/controls",
      "model_module_version": "1.5.0",
      "model_name": "HTMLModel",
      "state": {
       "layout": "IPY_MODEL_e139c2016f984d669093dd7679e9ea00",
       "style": "IPY_MODEL_1aa8b594736b41c1ba29a96aa1a029aa",
       "value": "<table border=\"1\" class=\"dataframe table table-striped table-hover table-condensed table-responsive\">\n  <thead>\n    <tr style=\"text-align: right;\">\n      <th></th>\n      <th>31</th>\n    </tr>\n  </thead>\n  <tbody>\n    <tr>\n      <th>Institution</th>\n      <td>Ocean Observatories Initiative (OOI)</td>\n    </tr>\n    <tr>\n      <th>Dataset ID</th>\n      <td>ooi-ce06issm-rid16-02-flortd000</td>\n    </tr>\n  </tbody>\n</table>"
      }
     },
     "3e0ca1075ffb4663a38120c9da5962c4": {
      "model_module": "jupyter-leaflet",
      "model_module_version": "^0.14.0",
      "model_name": "LeafletMarkerModel",
      "state": {
       "_model_module_version": "^0.14.0",
       "_view_module_version": "^0.14.0",
       "icon": "IPY_MODEL_41f7dc5dafcc484eb3e509a16e767719",
       "location": [
        47.9646517535081,
        -124.953552246094
       ],
       "options": [
        "alt",
        "draggable",
        "keyboard",
        "rise_offset",
        "rise_on_hover",
        "rotation_angle",
        "rotation_origin",
        "title",
        "z_index_offset"
       ],
       "popup": "IPY_MODEL_4f2c77d64248445ba728eddf087d630f"
      }
     },
     "3e2752b024c44b2dbd91b35e39fb2ec6": {
      "model_module": "jupyter-leaflet",
      "model_module_version": "^0.14.0",
      "model_name": "LeafletAwesomeIconModel",
      "state": {
       "_model_module_version": "^0.14.0",
       "_view_module_version": "^0.14.0",
       "icon_color": "white",
       "name": "life-ring"
      }
     },
     "3e380d02376c4326902628d679699ac5": {
      "model_module": "jupyter-leaflet",
      "model_module_version": "^0.14.0",
      "model_name": "LeafletMarkerModel",
      "state": {
       "_model_module_version": "^0.14.0",
       "_view_module_version": "^0.14.0",
       "icon": "IPY_MODEL_47d54e2bf44445ad8473ddc1f40f02f9",
       "location": [
        46.85367,
        -124.95935
       ],
       "options": [
        "alt",
        "draggable",
        "keyboard",
        "rise_offset",
        "rise_on_hover",
        "rotation_angle",
        "rotation_origin",
        "title",
        "z_index_offset"
       ],
       "popup": "IPY_MODEL_ffd22d2aa36d476fa9fbd008fceece43"
      }
     },
     "3e3d1ec43f4b4c9eb0e4a96edabe75ce": {
      "model_module": "@jupyter-widgets/base",
      "model_module_version": "1.2.0",
      "model_name": "LayoutModel",
      "state": {}
     },
     "3e538c47e67e447db95b09bb3b70c468": {
      "model_module": "@jupyter-widgets/base",
      "model_module_version": "1.2.0",
      "model_name": "LayoutModel",
      "state": {}
     },
     "3ef64326d24a4a38b67682019d2937b0": {
      "model_module": "jupyter-leaflet",
      "model_module_version": "^0.14.0",
      "model_name": "LeafletAwesomeIconModel",
      "state": {
       "_model_module_version": "^0.14.0",
       "_view_module_version": "^0.14.0",
       "icon_color": "white",
       "marker_color": "orange",
       "name": "life-ring"
      }
     },
     "3f274ce2900f4a36be5e7a55e718ec3e": {
      "model_module": "@jupyter-widgets/base",
      "model_module_version": "1.2.0",
      "model_name": "LayoutModel",
      "state": {}
     },
     "3f2cc1a8dcd14b368f87c4641bf3a556": {
      "model_module": "@jupyter-widgets/controls",
      "model_module_version": "1.5.0",
      "model_name": "DescriptionStyleModel",
      "state": {
       "description_width": ""
      }
     },
     "3fd6b8ed41034455a223ecfb793316aa": {
      "model_module": "jupyter-leaflet",
      "model_module_version": "^0.14.0",
      "model_name": "LeafletMarkerModel",
      "state": {
       "_model_module_version": "^0.14.0",
       "_view_module_version": "^0.14.0",
       "icon": "IPY_MODEL_001289016d6241d7a9efc72bf768cc70",
       "location": [
        46.86503,
        -124.94828
       ],
       "options": [
        "alt",
        "draggable",
        "keyboard",
        "rise_offset",
        "rise_on_hover",
        "rotation_angle",
        "rotation_origin",
        "title",
        "z_index_offset"
       ],
       "popup": "IPY_MODEL_e17f875765b54ce7a9cd715cb55b9f8b"
      }
     },
     "3fdc53b403e84d76b7ebc5337a667a81": {
      "model_module": "@jupyter-widgets/controls",
      "model_module_version": "1.5.0",
      "model_name": "HTMLModel",
      "state": {
       "layout": "IPY_MODEL_b39c97bc62284deeb6722678549f7b25",
       "style": "IPY_MODEL_39a2dc814a204fac8c9f1ee04e6b8375",
       "value": "<table border=\"1\" class=\"dataframe table table-striped table-hover table-condensed table-responsive\">\n  <thead>\n    <tr style=\"text-align: right;\">\n      <th></th>\n      <th>62</th>\n    </tr>\n  </thead>\n  <tbody>\n    <tr>\n      <th>Institution</th>\n      <td>Ocean Observatories Initiative (OOI)</td>\n    </tr>\n    <tr>\n      <th>Dataset ID</th>\n      <td>ooi-rs01sbps-pc01a-4b-phsena102</td>\n    </tr>\n  </tbody>\n</table>"
      }
     },
     "400a3687e7c444919b415274d49ca7fd": {
      "model_module": "@jupyter-widgets/base",
      "model_module_version": "1.2.0",
      "model_name": "LayoutModel",
      "state": {}
     },
     "4039499a3f40404b868024dd5857caf6": {
      "model_module": "jupyter-leaflet",
      "model_module_version": "^0.14.0",
      "model_name": "LeafletMarkerModel",
      "state": {
       "_model_module_version": "^0.14.0",
       "_view_module_version": "^0.14.0",
       "icon": "IPY_MODEL_91808b5319c84b1aa04db380ff6ea2c7",
       "location": [
        46.204,
        -123.759
       ],
       "options": [
        "alt",
        "draggable",
        "keyboard",
        "rise_offset",
        "rise_on_hover",
        "rotation_angle",
        "rotation_origin",
        "title",
        "z_index_offset"
       ],
       "popup": "IPY_MODEL_b6932a49f5574e04b6b9b9c3359c9a5e"
      }
     },
     "40a5f409985c470a81566b83aedd582d": {
      "model_module": "@jupyter-widgets/controls",
      "model_module_version": "1.5.0",
      "model_name": "HTMLModel",
      "state": {
       "layout": "IPY_MODEL_a8544e0d00cf4f5ea37ffbf5740d31d5",
       "style": "IPY_MODEL_b72697836e954c808e5370cb2a64a229",
       "value": "<table border=\"1\" class=\"dataframe table table-striped table-hover table-condensed table-responsive\">\n  <thead>\n    <tr style=\"text-align: right;\">\n      <th></th>\n      <th>19</th>\n    </tr>\n  </thead>\n  <tbody>\n    <tr>\n      <th>Institution</th>\n      <td>Ocean Observatories Initiative (OOI)</td>\n    </tr>\n    <tr>\n      <th>Dataset ID</th>\n      <td>ooi-ce04ossm-rid26-06-phsend000</td>\n    </tr>\n  </tbody>\n</table>"
      }
     },
     "40f1ed53b3394e56a5dedbf7fcfb0b2e": {
      "model_module": "@jupyter-widgets/controls",
      "model_module_version": "1.5.0",
      "model_name": "HTMLModel",
      "state": {
       "layout": "IPY_MODEL_33e2ad9f77b0437b96a6e44ba4c12103",
       "style": "IPY_MODEL_a56ee654c50f4df3a10865dea4240aee",
       "value": "<table border=\"1\" class=\"dataframe table table-striped table-hover table-condensed table-responsive\">\n  <thead>\n    <tr style=\"text-align: right;\">\n      <th></th>\n      <th>64</th>\n    </tr>\n  </thead>\n  <tbody>\n    <tr>\n      <th>Institution</th>\n      <td>Observing System Monitoring Center (OSMC)</td>\n    </tr>\n    <tr>\n      <th>Dataset ID</th>\n      <td>osmc_46097</td>\n    </tr>\n  </tbody>\n</table>"
      }
     },
     "41055f714f844755ad9fe699896dc030": {
      "model_module": "jupyter-leaflet",
      "model_module_version": "^0.14.0",
      "model_name": "LeafletMarkerModel",
      "state": {
       "_model_module_version": "^0.14.0",
       "_view_module_version": "^0.14.0",
       "icon": "IPY_MODEL_a6957a7a582a4caf98960cc19ec073a8",
       "location": [
        45.5544,
        -123.9189
       ],
       "options": [
        "alt",
        "draggable",
        "keyboard",
        "rise_offset",
        "rise_on_hover",
        "rotation_angle",
        "rotation_origin",
        "title",
        "z_index_offset"
       ],
       "popup": "IPY_MODEL_4d44bcf2831449b4ab14498a9d3aa5dc"
      }
     },
     "4105742901c54b9dbb20542360bdc903": {
      "model_module": "@jupyter-widgets/controls",
      "model_module_version": "1.5.0",
      "model_name": "DescriptionStyleModel",
      "state": {
       "description_width": ""
      }
     },
     "411945d2d59549909a5a5685686ad511": {
      "model_module": "jupyter-leaflet",
      "model_module_version": "^0.14.0",
      "model_name": "LeafletMarkerModel",
      "state": {
       "_model_module_version": "^0.14.0",
       "_view_module_version": "^0.14.0",
       "icon": "IPY_MODEL_e91a100b90e44f2cb217f9f1bef03cfb",
       "location": [
        47.1345,
        -124.27087
       ],
       "options": [
        "alt",
        "draggable",
        "keyboard",
        "rise_offset",
        "rise_on_hover",
        "rotation_angle",
        "rotation_origin",
        "title",
        "z_index_offset"
       ],
       "popup": "IPY_MODEL_2f8dce15ec0a4db19da35c49f853d6a9"
      }
     },
     "41689ae56527440aa96c84eeb7400946": {
      "model_module": "@jupyter-widgets/base",
      "model_module_version": "1.2.0",
      "model_name": "LayoutModel",
      "state": {}
     },
     "41f7dc5dafcc484eb3e509a16e767719": {
      "model_module": "jupyter-leaflet",
      "model_module_version": "^0.14.0",
      "model_name": "LeafletAwesomeIconModel",
      "state": {
       "_model_module_version": "^0.14.0",
       "_view_module_version": "^0.14.0",
       "icon_color": "white",
       "name": "life-ring"
      }
     },
     "424da176a47d4abfb95bcb78bbaecbb7": {
      "model_module": "jupyter-leaflet",
      "model_module_version": "^0.14.0",
      "model_name": "LeafletAwesomeIconModel",
      "state": {
       "_model_module_version": "^0.14.0",
       "_view_module_version": "^0.14.0",
       "icon_color": "white",
       "marker_color": "orange",
       "name": "life-ring"
      }
     },
     "42c171052dba47379cfb83a256c45ae9": {
      "model_module": "jupyter-leaflet",
      "model_module_version": "^0.14.0",
      "model_name": "LeafletAwesomeIconModel",
      "state": {
       "_model_module_version": "^0.14.0",
       "_view_module_version": "^0.14.0",
       "icon_color": "white",
       "name": "life-ring"
      }
     },
     "4301573475e1468785afe241c6af4306": {
      "model_module": "@jupyter-widgets/base",
      "model_module_version": "1.2.0",
      "model_name": "LayoutModel",
      "state": {}
     },
     "434210d8d9df4d8c9f821c1f5c88f219": {
      "model_module": "@jupyter-widgets/controls",
      "model_module_version": "1.5.0",
      "model_name": "DescriptionStyleModel",
      "state": {
       "description_width": ""
      }
     },
     "437a0d2d1ab04e2b8b5124fd4c7cb427": {
      "model_module": "jupyter-leaflet",
      "model_module_version": "^0.14.0",
      "model_name": "LeafletMarkerModel",
      "state": {
       "_model_module_version": "^0.14.0",
       "_view_module_version": "^0.14.0",
       "icon": "IPY_MODEL_c9991b3850de4f809106db77293b6be2",
       "location": [
        44.65678,
        -124.09707
       ],
       "options": [
        "alt",
        "draggable",
        "keyboard",
        "rise_offset",
        "rise_on_hover",
        "rotation_angle",
        "rotation_origin",
        "title",
        "z_index_offset"
       ],
       "popup": "IPY_MODEL_b102d70d0e7b4265bcc44a4ca45e6be4"
      }
     },
     "43c737675c584b92a5caa60232cb8e86": {
      "model_module": "jupyter-leaflet",
      "model_module_version": "^0.14.0",
      "model_name": "LeafletAwesomeIconModel",
      "state": {
       "_model_module_version": "^0.14.0",
       "_view_module_version": "^0.14.0",
       "icon_color": "white",
       "name": "life-ring"
      }
     },
     "446e109e01514dbb87623f7638f3df6e": {
      "model_module": "jupyter-leaflet",
      "model_module_version": "^0.14.0",
      "model_name": "LeafletAwesomeIconModel",
      "state": {
       "_model_module_version": "^0.14.0",
       "_view_module_version": "^0.14.0",
       "icon_color": "white",
       "marker_color": "orange",
       "name": "life-ring"
      }
     },
     "44764f26476f41769f50d3244a947381": {
      "model_module": "@jupyter-widgets/controls",
      "model_module_version": "1.5.0",
      "model_name": "DescriptionStyleModel",
      "state": {
       "description_width": ""
      }
     },
     "449ec08c3e1d4492a01d6b669ea910fc": {
      "model_module": "@jupyter-widgets/controls",
      "model_module_version": "1.5.0",
      "model_name": "HTMLModel",
      "state": {
       "layout": "IPY_MODEL_27338e2ed9d24bbebc917a3de874f56b",
       "style": "IPY_MODEL_dcfa7173384741ff9c245198444a1603",
       "value": "<table border=\"1\" class=\"dataframe table table-striped table-hover table-condensed table-responsive\">\n  <thead>\n    <tr style=\"text-align: right;\">\n      <th></th>\n      <th>32</th>\n    </tr>\n  </thead>\n  <tbody>\n    <tr>\n      <th>Institution</th>\n      <td>Ocean Observatories Initiative (OOI)</td>\n    </tr>\n    <tr>\n      <th>Dataset ID</th>\n      <td>ooi-ce06issm-rid16-03-ctdbpc000</td>\n    </tr>\n  </tbody>\n</table>"
      }
     },
     "4508b01845574de3936c1525860ae35f": {
      "model_module": "jupyter-leaflet",
      "model_module_version": "^0.14.0",
      "model_name": "LeafletMarkerModel",
      "state": {
       "_model_module_version": "^0.14.0",
       "_view_module_version": "^0.14.0",
       "icon": "IPY_MODEL_85771390d1a6457a9fec8adc224052ca",
       "location": [
        44.65678,
        -124.09707
       ],
       "options": [
        "alt",
        "draggable",
        "keyboard",
        "rise_offset",
        "rise_on_hover",
        "rotation_angle",
        "rotation_origin",
        "title",
        "z_index_offset"
       ],
       "popup": "IPY_MODEL_67fa0be4765c4fa2b8e9eedb0134591f"
      }
     },
     "4522eb088f314feaa42720abeb900a0d": {
      "model_module": "@jupyter-widgets/controls",
      "model_module_version": "1.5.0",
      "model_name": "DescriptionStyleModel",
      "state": {
       "description_width": ""
      }
     },
     "45471fec74f9412186372f300bbde4a0": {
      "model_module": "@jupyter-widgets/controls",
      "model_module_version": "1.5.0",
      "model_name": "DescriptionStyleModel",
      "state": {
       "description_width": ""
      }
     },
     "45f931aac7ff49fdbb9daff0b7adda34": {
      "model_module": "@jupyter-widgets/controls",
      "model_module_version": "1.5.0",
      "model_name": "HTMLModel",
      "state": {
       "layout": "IPY_MODEL_8343f2ac058c41d2978cd1f808089b3f",
       "style": "IPY_MODEL_898b9f55ad074829b3f7fee4d67da81a",
       "value": "<table border=\"1\" class=\"dataframe table table-striped table-hover table-condensed table-responsive\">\n  <thead>\n    <tr style=\"text-align: right;\">\n      <th></th>\n      <th>58</th>\n    </tr>\n  </thead>\n  <tbody>\n    <tr>\n      <th>Institution</th>\n      <td>Ocean Observatories Initiative (OOI)</td>\n    </tr>\n    <tr>\n      <th>Dataset ID</th>\n      <td>ooi-ce07shsm-sbd11-06-metbka000</td>\n    </tr>\n  </tbody>\n</table>"
      }
     },
     "463d510eb102494bb0ad02697f14c414": {
      "model_module": "@jupyter-widgets/controls",
      "model_module_version": "1.5.0",
      "model_name": "HTMLModel",
      "state": {
       "layout": "IPY_MODEL_aa5f2cd1bfe94995970d957ddb4d18e2",
       "style": "IPY_MODEL_80459d08898a4d01baa6014d364f7810",
       "value": "<table border=\"1\" class=\"dataframe table table-striped table-hover table-condensed table-responsive\">\n  <thead>\n    <tr style=\"text-align: right;\">\n      <th></th>\n      <th>32</th>\n    </tr>\n  </thead>\n  <tbody>\n    <tr>\n      <th>Institution</th>\n      <td>Ocean Observatories Initiative (OOI)</td>\n    </tr>\n    <tr>\n      <th>Dataset ID</th>\n      <td>ooi-ce06issm-rid16-03-ctdbpc000</td>\n    </tr>\n  </tbody>\n</table>"
      }
     },
     "46b0b24f232b4c5ba6cb1c78d36ae75a": {
      "model_module": "@jupyter-widgets/controls",
      "model_module_version": "1.5.0",
      "model_name": "HTMLModel",
      "state": {
       "layout": "IPY_MODEL_888a007d2984436d96374163434439c8",
       "style": "IPY_MODEL_3a8207b6f5bb450c92c1a99b1e767684",
       "value": "<table border=\"1\" class=\"dataframe table table-striped table-hover table-condensed table-responsive\">\n  <thead>\n    <tr style=\"text-align: right;\">\n      <th></th>\n      <th>3</th>\n    </tr>\n  </thead>\n  <tbody>\n    <tr>\n      <th>Institution</th>\n      <td>Ocean Observatories Initiative (OOI)</td>\n    </tr>\n    <tr>\n      <th>Dataset ID</th>\n      <td>ooi-ce01issm-rid16-07-nutnrb000</td>\n    </tr>\n  </tbody>\n</table>"
      }
     },
     "4708c768ec54437cad9e4e13613a52a8": {
      "model_module": "jupyter-leaflet",
      "model_module_version": "^0.14.0",
      "model_name": "LeafletAwesomeIconModel",
      "state": {
       "_model_module_version": "^0.14.0",
       "_view_module_version": "^0.14.0",
       "icon_color": "white",
       "name": "life-ring"
      }
     },
     "4713f15855f449f284f184cb36eed50b": {
      "model_module": "jupyter-leaflet",
      "model_module_version": "^0.14.0",
      "model_name": "LeafletAwesomeIconModel",
      "state": {
       "_model_module_version": "^0.14.0",
       "_view_module_version": "^0.14.0",
       "icon_color": "white",
       "marker_color": "orange",
       "name": "life-ring"
      }
     },
     "47432a07087b4472be403f2abee73744": {
      "model_module": "@jupyter-widgets/controls",
      "model_module_version": "1.5.0",
      "model_name": "DescriptionStyleModel",
      "state": {
       "description_width": ""
      }
     },
     "4787b5d0b8774c19aab9aaf429e59f5e": {
      "model_module": "jupyter-leaflet",
      "model_module_version": "^0.14.0",
      "model_name": "LeafletMarkerModel",
      "state": {
       "_model_module_version": "^0.14.0",
       "_view_module_version": "^0.14.0",
       "icon": "IPY_MODEL_97576398babb4c4f929c1a226195e145",
       "location": [
        44.3695,
        -124.95369
       ],
       "options": [
        "alt",
        "draggable",
        "keyboard",
        "rise_offset",
        "rise_on_hover",
        "rotation_angle",
        "rotation_origin",
        "title",
        "z_index_offset"
       ],
       "popup": "IPY_MODEL_0c5b39b821b047fdaa2e4598ee7a2e36"
      }
     },
     "47d54e2bf44445ad8473ddc1f40f02f9": {
      "model_module": "jupyter-leaflet",
      "model_module_version": "^0.14.0",
      "model_name": "LeafletAwesomeIconModel",
      "state": {
       "_model_module_version": "^0.14.0",
       "_view_module_version": "^0.14.0",
       "icon_color": "white",
       "marker_color": "orange",
       "name": "life-ring"
      }
     },
     "47e389d8c25540439543dd971d758013": {
      "model_module": "@jupyter-widgets/controls",
      "model_module_version": "1.5.0",
      "model_name": "HTMLModel",
      "state": {
       "layout": "IPY_MODEL_8ce98a776fb045149a9e25b94f6073f1",
       "style": "IPY_MODEL_2722bcd271ba42d08d03f887f6073734",
       "value": "<table border=\"1\" class=\"dataframe table table-striped table-hover table-condensed table-responsive\">\n  <thead>\n    <tr style=\"text-align: right;\">\n      <th></th>\n      <th>7</th>\n    </tr>\n  </thead>\n  <tbody>\n    <tr>\n      <th>Institution</th>\n      <td>Ocean Observatories Initiative (OOI)</td>\n    </tr>\n    <tr>\n      <th>Dataset ID</th>\n      <td>ooi-ce01issm-mfd35-06-phsend000</td>\n    </tr>\n  </tbody>\n</table>"
      }
     },
     "47e8ac1a861a41e4aa519944afdbe069": {
      "model_module": "jupyter-leaflet",
      "model_module_version": "^0.14.0",
      "model_name": "LeafletAwesomeIconModel",
      "state": {
       "_model_module_version": "^0.14.0",
       "_view_module_version": "^0.14.0",
       "icon_color": "white",
       "marker_color": "orange",
       "name": "life-ring"
      }
     },
     "48076a922847433797f01cea89ab1a07": {
      "model_module": "jupyter-leaflet",
      "model_module_version": "^0.14.0",
      "model_name": "LeafletMarkerModel",
      "state": {
       "_model_module_version": "^0.14.0",
       "_view_module_version": "^0.14.0",
       "icon": "IPY_MODEL_68fdebaf5f684600ac8bb87dcd63d6af",
       "location": [
        47.1345,
        -124.27087
       ],
       "options": [
        "alt",
        "draggable",
        "keyboard",
        "rise_offset",
        "rise_on_hover",
        "rotation_angle",
        "rotation_origin",
        "title",
        "z_index_offset"
       ],
       "popup": "IPY_MODEL_9beab02526094f99b2f084cefddd0555"
      }
     },
     "4839d2f1834045b78fe5c5c2f5f81cd8": {
      "model_module": "jupyter-leaflet",
      "model_module_version": "^0.14.0",
      "model_name": "LeafletTileLayerModel",
      "state": {
       "_model_module_version": "^0.14.0",
       "_view_module_version": "^0.14.0",
       "base": true,
       "max_native_zoom": 18,
       "max_zoom": 19,
       "min_native_zoom": 0,
       "min_zoom": 1,
       "options": [
        "attribution",
        "detect_retina",
        "max_native_zoom",
        "max_zoom",
        "min_native_zoom",
        "min_zoom",
        "no_wrap",
        "tile_size",
        "tms"
       ]
      }
     },
     "4859fa8bfeeb427f87cccd632d6114d5": {
      "model_module": "jupyter-leaflet",
      "model_module_version": "^0.14.0",
      "model_name": "LeafletMarkerModel",
      "state": {
       "_model_module_version": "^0.14.0",
       "_view_module_version": "^0.14.0",
       "icon": "IPY_MODEL_73c85be61ee34a2aaae3b546dc743673",
       "location": [
        47.35,
        -124.73
       ],
       "options": [
        "alt",
        "draggable",
        "keyboard",
        "rise_offset",
        "rise_on_hover",
        "rotation_angle",
        "rotation_origin",
        "title",
        "z_index_offset"
       ],
       "popup": "IPY_MODEL_fc2a8476d257479e8123270d20970cf8"
      }
     },
     "48e29dc77f51491fb01fe374820040d9": {
      "model_module": "@jupyter-widgets/controls",
      "model_module_version": "1.5.0",
      "model_name": "HTMLModel",
      "state": {
       "layout": "IPY_MODEL_f9b0d951fd0b4886b8147d960982550a",
       "style": "IPY_MODEL_9cd2e3c2f8ee4f01b4be1270801166a2",
       "value": "<table border=\"1\" class=\"dataframe table table-striped table-hover table-condensed table-responsive\">\n  <thead>\n    <tr style=\"text-align: right;\">\n      <th></th>\n      <th>74</th>\n    </tr>\n  </thead>\n  <tbody>\n    <tr>\n      <th>Institution</th>\n      <td>NOAA Center for Operational Oceanographic Products and Services (CO-OPS)</td>\n    </tr>\n    <tr>\n      <th>Dataset ID</th>\n      <td>noaa_nos_co_ops_9437540</td>\n    </tr>\n  </tbody>\n</table>"
      }
     },
     "4916a824d24b4ad3a382aa402fdcd993": {
      "model_module": "@jupyter-widgets/base",
      "model_module_version": "1.2.0",
      "model_name": "LayoutModel",
      "state": {}
     },
     "494fcc5a8d8542a2bea483f416678fbf": {
      "model_module": "jupyter-leaflet",
      "model_module_version": "^0.14.0",
      "model_name": "LeafletMarkerModel",
      "state": {
       "_model_module_version": "^0.14.0",
       "_view_module_version": "^0.14.0",
       "icon": "IPY_MODEL_fb1a2d2e4c9442beb8e7a86d93ec221c",
       "location": [
        44.383335,
        -124.95
       ],
       "options": [
        "alt",
        "draggable",
        "keyboard",
        "rise_offset",
        "rise_on_hover",
        "rotation_angle",
        "rotation_origin",
        "title",
        "z_index_offset"
       ],
       "popup": "IPY_MODEL_74dea4953409403dbfad91f4764070a7"
      }
     },
     "4951d3f9c87142bcb21e7329ce67f157": {
      "model_module": "@jupyter-widgets/controls",
      "model_module_version": "1.5.0",
      "model_name": "DescriptionStyleModel",
      "state": {
       "description_width": ""
      }
     },
     "495b0805619a4b64a8a594356352f3fa": {
      "model_module": "jupyter-leaflet",
      "model_module_version": "^0.14.0",
      "model_name": "LeafletAwesomeIconModel",
      "state": {
       "_model_module_version": "^0.14.0",
       "_view_module_version": "^0.14.0",
       "icon_color": "white",
       "marker_color": "orange",
       "name": "life-ring"
      }
     },
     "49bffdf4ba5d4f16b3468f5405e70508": {
      "model_module": "@jupyter-widgets/base",
      "model_module_version": "1.2.0",
      "model_name": "LayoutModel",
      "state": {}
     },
     "49cdc158a2434ce687c602126a62be8f": {
      "model_module": "jupyter-leaflet",
      "model_module_version": "^0.14.0",
      "model_name": "LeafletMarkerModel",
      "state": {
       "_model_module_version": "^0.14.0",
       "_view_module_version": "^0.14.0",
       "icon": "IPY_MODEL_52d60a7bc1324e32a5b264c69108d76d",
       "location": [
        46.173,
        -124.127
       ],
       "options": [
        "alt",
        "draggable",
        "keyboard",
        "rise_offset",
        "rise_on_hover",
        "rotation_angle",
        "rotation_origin",
        "title",
        "z_index_offset"
       ],
       "popup": "IPY_MODEL_60e0b449c9734f51bcaaf9f7fd462818"
      }
     },
     "49f1e67ba4f24b1eaab8bb163a399af6": {
      "model_module": "jupyter-leaflet",
      "model_module_version": "^0.14.0",
      "model_name": "LeafletAwesomeIconModel",
      "state": {
       "_model_module_version": "^0.14.0",
       "_view_module_version": "^0.14.0",
       "icon_color": "white",
       "marker_color": "orange",
       "name": "life-ring"
      }
     },
     "4a64c592449644a588f4ab53df35311b": {
      "model_module": "@jupyter-widgets/base",
      "model_module_version": "1.2.0",
      "model_name": "LayoutModel",
      "state": {}
     },
     "4ab088daef9649d4884c39489d694caf": {
      "model_module": "jupyter-leaflet",
      "model_module_version": "^0.14.0",
      "model_name": "LeafletAwesomeIconModel",
      "state": {
       "_model_module_version": "^0.14.0",
       "_view_module_version": "^0.14.0",
       "icon_color": "white",
       "marker_color": "orange",
       "name": "life-ring"
      }
     },
     "4ac76f209ade4589baad5c9626ee4ad0": {
      "model_module": "jupyter-leaflet",
      "model_module_version": "^0.14.0",
      "model_name": "LeafletMarkerModel",
      "state": {
       "_model_module_version": "^0.14.0",
       "_view_module_version": "^0.14.0",
       "icon": "IPY_MODEL_d971e92dddf546afaedf925f1fd4aaa1",
       "location": [
        44.37868,
        -124.94508
       ],
       "options": [
        "alt",
        "draggable",
        "keyboard",
        "rise_offset",
        "rise_on_hover",
        "rotation_angle",
        "rotation_origin",
        "title",
        "z_index_offset"
       ],
       "popup": "IPY_MODEL_50a8c3f69a7349528029a98eb5adbf38"
      }
     },
     "4b06e1f39038419e95f2a8d1e3b1f284": {
      "model_module": "@jupyter-widgets/controls",
      "model_module_version": "1.5.0",
      "model_name": "DescriptionStyleModel",
      "state": {
       "description_width": ""
      }
     },
     "4b26c8aa9cea4913a5ef97aa689919c0": {
      "model_module": "jupyter-leaflet",
      "model_module_version": "^0.14.0",
      "model_name": "LeafletAwesomeIconModel",
      "state": {
       "_model_module_version": "^0.14.0",
       "_view_module_version": "^0.14.0",
       "icon_color": "white",
       "marker_color": "orange",
       "name": "life-ring"
      }
     },
     "4bae186c0c8a469ca8d0723facc8e7be": {
      "model_module": "@jupyter-widgets/controls",
      "model_module_version": "1.5.0",
      "model_name": "DescriptionStyleModel",
      "state": {
       "description_width": ""
      }
     },
     "4bed049a98734b3c83d1fcc28efa4b30": {
      "model_module": "@jupyter-widgets/controls",
      "model_module_version": "1.5.0",
      "model_name": "HTMLModel",
      "state": {
       "layout": "IPY_MODEL_ae6d0d4273964b5e898b0363683302f8",
       "style": "IPY_MODEL_3568c84b370347f0bf86adf71d747b73",
       "value": "<table border=\"1\" class=\"dataframe table table-striped table-hover table-condensed table-responsive\">\n  <thead>\n    <tr style=\"text-align: right;\">\n      <th></th>\n      <th>51</th>\n    </tr>\n  </thead>\n  <tbody>\n    <tr>\n      <th>Institution</th>\n      <td>Ocean Observatories Initiative (OOI)</td>\n    </tr>\n    <tr>\n      <th>Dataset ID</th>\n      <td>ooi-ce07shsm-rid27-03-ctdbpc000</td>\n    </tr>\n  </tbody>\n</table>"
      }
     },
     "4c2e89a623fc4f79b5be0c6fbf07087c": {
      "model_module": "jupyter-leaflet",
      "model_module_version": "^0.14.0",
      "model_name": "LeafletMarkerModel",
      "state": {
       "_model_module_version": "^0.14.0",
       "_view_module_version": "^0.14.0",
       "icon": "IPY_MODEL_4fb1d047161844efa10cc6755b3a4f31",
       "location": [
        44.37868,
        -124.94508
       ],
       "options": [
        "alt",
        "draggable",
        "keyboard",
        "rise_offset",
        "rise_on_hover",
        "rotation_angle",
        "rotation_origin",
        "title",
        "z_index_offset"
       ],
       "popup": "IPY_MODEL_0899d75e645444169dbb1e9ab0186cbc"
      }
     },
     "4cc4ff1540dd444bae123ca0102b7d9f": {
      "model_module": "jupyter-leaflet",
      "model_module_version": "^0.14.0",
      "model_name": "LeafletMarkerModel",
      "state": {
       "_model_module_version": "^0.14.0",
       "_view_module_version": "^0.14.0",
       "icon": "IPY_MODEL_ef1b44641d5b4f799d884df771ac65a2",
       "location": [
        44.37415,
        -124.95648
       ],
       "options": [
        "alt",
        "draggable",
        "keyboard",
        "rise_offset",
        "rise_on_hover",
        "rotation_angle",
        "rotation_origin",
        "title",
        "z_index_offset"
       ],
       "popup": "IPY_MODEL_a19be71e83e141799225ba30acad9bb2"
      }
     },
     "4cf0a695f7934bf5afdeaaeda2fac5d7": {
      "model_module": "jupyter-leaflet",
      "model_module_version": "^0.14.0",
      "model_name": "LeafletMarkerModel",
      "state": {
       "_model_module_version": "^0.14.0",
       "_view_module_version": "^0.14.0",
       "icon": "IPY_MODEL_1b6d1fa2ac3b4b63841ca26d6fefeeff",
       "location": [
        46.98648,
        -124.56923
       ],
       "options": [
        "alt",
        "draggable",
        "keyboard",
        "rise_offset",
        "rise_on_hover",
        "rotation_angle",
        "rotation_origin",
        "title",
        "z_index_offset"
       ],
       "popup": "IPY_MODEL_a0941d2af8c7426ca34f798a16242dc5"
      }
     },
     "4d3449d5e6284ac9a4a7d315a37246f2": {
      "model_module": "jupyter-leaflet",
      "model_module_version": "^0.14.0",
      "model_name": "LeafletAwesomeIconModel",
      "state": {
       "_model_module_version": "^0.14.0",
       "_view_module_version": "^0.14.0",
       "icon_color": "white",
       "marker_color": "orange",
       "name": "life-ring"
      }
     },
     "4d44bcf2831449b4ab14498a9d3aa5dc": {
      "model_module": "@jupyter-widgets/controls",
      "model_module_version": "1.5.0",
      "model_name": "HTMLModel",
      "state": {
       "layout": "IPY_MODEL_6d1e98f8e19441d8bb1d5ca7dc5e6566",
       "style": "IPY_MODEL_75a2db0044cf455885366f7f07ec4cbf",
       "value": "<table border=\"1\" class=\"dataframe table table-striped table-hover table-condensed table-responsive\">\n  <thead>\n    <tr style=\"text-align: right;\">\n      <th></th>\n      <th>74</th>\n    </tr>\n  </thead>\n  <tbody>\n    <tr>\n      <th>Institution</th>\n      <td>NOAA Center for Operational Oceanographic Products and Services (CO-OPS)</td>\n    </tr>\n    <tr>\n      <th>Dataset ID</th>\n      <td>noaa_nos_co_ops_9437540</td>\n    </tr>\n  </tbody>\n</table>"
      }
     },
     "4d72529df2b74612bc34c2768bd0dc0b": {
      "model_module": "jupyter-leaflet",
      "model_module_version": "^0.14.0",
      "model_name": "LeafletAwesomeIconModel",
      "state": {
       "_model_module_version": "^0.14.0",
       "_view_module_version": "^0.14.0",
       "icon_color": "white",
       "marker_color": "orange",
       "name": "life-ring"
      }
     },
     "4d9f5066f7f54a32bf10f1ed9a2082ad": {
      "model_module": "jupyter-leaflet",
      "model_module_version": "^0.14.0",
      "model_name": "LeafletMarkerModel",
      "state": {
       "_model_module_version": "^0.14.0",
       "_view_module_version": "^0.14.0",
       "icon": "IPY_MODEL_a53e355db12c48548dbad57f47ed1377",
       "location": [
        44.51524,
        -125.38981
       ],
       "options": [
        "alt",
        "draggable",
        "keyboard",
        "rise_offset",
        "rise_on_hover",
        "rotation_angle",
        "rotation_origin",
        "title",
        "z_index_offset"
       ],
       "popup": "IPY_MODEL_1f971eb83b774ed4957b2358a4745879"
      }
     },
     "4e6985cc39834643a1bed646bf8ade32": {
      "model_module": "@jupyter-widgets/base",
      "model_module_version": "1.2.0",
      "model_name": "LayoutModel",
      "state": {}
     },
     "4ea3edfc6ee144e5bba11112ab0225e7": {
      "model_module": "@jupyter-widgets/controls",
      "model_module_version": "1.5.0",
      "model_name": "HTMLModel",
      "state": {
       "layout": "IPY_MODEL_d8605685768b4966801794f1fcc23ab5",
       "style": "IPY_MODEL_61521a8c556045f0a034cc32ba6ff037",
       "value": "<table border=\"1\" class=\"dataframe table table-striped table-hover table-condensed table-responsive\">\n  <thead>\n    <tr style=\"text-align: right;\">\n      <th></th>\n      <th>51</th>\n    </tr>\n  </thead>\n  <tbody>\n    <tr>\n      <th>Institution</th>\n      <td>Ocean Observatories Initiative (OOI)</td>\n    </tr>\n    <tr>\n      <th>Dataset ID</th>\n      <td>ooi-ce07shsm-rid27-03-ctdbpc000</td>\n    </tr>\n  </tbody>\n</table>"
      }
     },
     "4f2c77d64248445ba728eddf087d630f": {
      "model_module": "@jupyter-widgets/controls",
      "model_module_version": "1.5.0",
      "model_name": "HTMLModel",
      "state": {
       "layout": "IPY_MODEL_06eba3ae82c945c09b70ad788145614b",
       "style": "IPY_MODEL_90024615fcdf4c91bfc9ad160f96a803",
       "value": "<table border=\"1\" class=\"dataframe table table-striped table-hover table-condensed table-responsive\">\n  <thead>\n    <tr style=\"text-align: right;\">\n      <th></th>\n      <th>69</th>\n    </tr>\n  </thead>\n  <tbody>\n    <tr>\n      <th>Institution</th>\n      <td>Northwest Association of Networked Ocean Observing Systems (NANOOS)</td>\n    </tr>\n    <tr>\n      <th>Dataset ID</th>\n      <td>nanoos_apl_chaba</td>\n    </tr>\n  </tbody>\n</table>"
      }
     },
     "4fac66f994b943d0aa18540126b7c56e": {
      "model_module": "jupyter-leaflet",
      "model_module_version": "^0.14.0",
      "model_name": "LeafletMarkerModel",
      "state": {
       "_model_module_version": "^0.14.0",
       "_view_module_version": "^0.14.0",
       "icon": "IPY_MODEL_32d5cfcca256487280f98c640adfcf6f",
       "location": [
        44.63577,
        -124.3035
       ],
       "options": [
        "alt",
        "draggable",
        "keyboard",
        "rise_offset",
        "rise_on_hover",
        "rotation_angle",
        "rotation_origin",
        "title",
        "z_index_offset"
       ],
       "popup": "IPY_MODEL_663b1f4b17834ed283357b0fb84691a8"
      }
     },
     "4fb1d047161844efa10cc6755b3a4f31": {
      "model_module": "jupyter-leaflet",
      "model_module_version": "^0.14.0",
      "model_name": "LeafletAwesomeIconModel",
      "state": {
       "_model_module_version": "^0.14.0",
       "_view_module_version": "^0.14.0",
       "icon_color": "white",
       "marker_color": "orange",
       "name": "life-ring"
      }
     },
     "4fd06cac938e45c98ff5e52a37d40288": {
      "model_module": "@jupyter-widgets/controls",
      "model_module_version": "1.5.0",
      "model_name": "DescriptionStyleModel",
      "state": {
       "description_width": ""
      }
     },
     "4fd07458e7dc4636b38e1d47a3de980c": {
      "model_module": "jupyter-leaflet",
      "model_module_version": "^0.14.0",
      "model_name": "LeafletMarkerModel",
      "state": {
       "_model_module_version": "^0.14.0",
       "_view_module_version": "^0.14.0",
       "icon": "IPY_MODEL_0be727739dba49079ab7a21aab343b21",
       "location": [
        44.63577,
        -124.3035
       ],
       "options": [
        "alt",
        "draggable",
        "keyboard",
        "rise_offset",
        "rise_on_hover",
        "rotation_angle",
        "rotation_origin",
        "title",
        "z_index_offset"
       ],
       "popup": "IPY_MODEL_a176a0a455e74315af8bb7b7e5a62e4e"
      }
     },
     "4fee25c0bfd84085a47b4ae49b8c13f9": {
      "model_module": "jupyter-leaflet",
      "model_module_version": "^0.14.0",
      "model_name": "LeafletAwesomeIconModel",
      "state": {
       "_model_module_version": "^0.14.0",
       "_view_module_version": "^0.14.0",
       "icon_color": "white",
       "marker_color": "orange",
       "name": "life-ring"
      }
     },
     "5043e9fbbb9045d4bdba1c591a7f61d2": {
      "model_module": "@jupyter-widgets/controls",
      "model_module_version": "1.5.0",
      "model_name": "HTMLModel",
      "state": {
       "layout": "IPY_MODEL_14915dad1df542c986ef74df6fe84801",
       "style": "IPY_MODEL_6c2bd09b4de4488f9f555fecd4cf86c7",
       "value": "<table border=\"1\" class=\"dataframe table table-striped table-hover table-condensed table-responsive\">\n  <thead>\n    <tr style=\"text-align: right;\">\n      <th></th>\n      <th>56</th>\n    </tr>\n  </thead>\n  <tbody>\n    <tr>\n      <th>Institution</th>\n      <td>Ocean Observatories Initiative (OOI)</td>\n    </tr>\n    <tr>\n      <th>Dataset ID</th>\n      <td>ooi-ce07shsm-mfd37-03-dostad000</td>\n    </tr>\n  </tbody>\n</table>"
      }
     },
     "509f087a98764da89c687786087da4e0": {
      "model_module": "@jupyter-widgets/controls",
      "model_module_version": "1.5.0",
      "model_name": "DescriptionStyleModel",
      "state": {
       "description_width": ""
      }
     },
     "50a8c3f69a7349528029a98eb5adbf38": {
      "model_module": "@jupyter-widgets/controls",
      "model_module_version": "1.5.0",
      "model_name": "HTMLModel",
      "state": {
       "layout": "IPY_MODEL_b48434e5fb514bd1914f30269cd9e254",
       "style": "IPY_MODEL_71bbeb87d8a64b47903168ef6121474b",
       "value": "<table border=\"1\" class=\"dataframe table table-striped table-hover table-condensed table-responsive\">\n  <thead>\n    <tr style=\"text-align: right;\">\n      <th></th>\n      <th>17</th>\n    </tr>\n  </thead>\n  <tbody>\n    <tr>\n      <th>Institution</th>\n      <td>Ocean Observatories Initiative (OOI)</td>\n    </tr>\n    <tr>\n      <th>Dataset ID</th>\n      <td>ooi-ce04ossm-rid27-04-dostad000</td>\n    </tr>\n  </tbody>\n</table>"
      }
     },
     "50bf5ca7a23a4e9581996d325fefd1cc": {
      "model_module": "@jupyter-widgets/base",
      "model_module_version": "1.2.0",
      "model_name": "LayoutModel",
      "state": {}
     },
     "5129848115ca46039c84fc4d10cfd628": {
      "model_module": "@jupyter-widgets/base",
      "model_module_version": "1.2.0",
      "model_name": "LayoutModel",
      "state": {}
     },
     "514c39291dbf4967a05fcae5a2944f73": {
      "model_module": "jupyter-leaflet",
      "model_module_version": "^0.14.0",
      "model_name": "LeafletMarkerModel",
      "state": {
       "_model_module_version": "^0.14.0",
       "_view_module_version": "^0.14.0",
       "icon": "IPY_MODEL_7c4051ab0af243f1ad62bd43694e8741",
       "location": [
        47.1345,
        -124.27087
       ],
       "options": [
        "alt",
        "draggable",
        "keyboard",
        "rise_offset",
        "rise_on_hover",
        "rotation_angle",
        "rotation_origin",
        "title",
        "z_index_offset"
       ],
       "popup": "IPY_MODEL_04e037a9c7f043cebb377fec6d7e4a32"
      }
     },
     "52218a83a29e4a2eb3de2b8183af629f": {
      "model_module": "jupyter-leaflet",
      "model_module_version": "^0.14.0",
      "model_name": "LeafletMarkerModel",
      "state": {
       "_model_module_version": "^0.14.0",
       "_view_module_version": "^0.14.0",
       "icon": "IPY_MODEL_0edd154c36374ac8b7ac0311e53bdb9f",
       "location": [
        44.63577,
        -124.3035
       ],
       "options": [
        "alt",
        "draggable",
        "keyboard",
        "rise_offset",
        "rise_on_hover",
        "rotation_angle",
        "rotation_origin",
        "title",
        "z_index_offset"
       ],
       "popup": "IPY_MODEL_62224bc423724f69884507ec3f343aa6"
      }
     },
     "52b32b23f65247fda8238bde6144f656": {
      "model_module": "@jupyter-widgets/controls",
      "model_module_version": "1.5.0",
      "model_name": "HTMLModel",
      "state": {
       "layout": "IPY_MODEL_3c90c941de504169bd569d132a63b1e9",
       "style": "IPY_MODEL_c9897a5c3aef46dd84bbac014a01182a",
       "value": "<table border=\"1\" class=\"dataframe table table-striped table-hover table-condensed table-responsive\">\n  <thead>\n    <tr style=\"text-align: right;\">\n      <th></th>\n      <th>14</th>\n    </tr>\n  </thead>\n  <tbody>\n    <tr>\n      <th>Institution</th>\n      <td>Ocean Observatories Initiative (OOI)</td>\n    </tr>\n    <tr>\n      <th>Dataset ID</th>\n      <td>ooi-ce04osps-pc01b-4b-phsena106</td>\n    </tr>\n  </tbody>\n</table>"
      }
     },
     "52d60a7bc1324e32a5b264c69108d76d": {
      "model_module": "jupyter-leaflet",
      "model_module_version": "^0.14.0",
      "model_name": "LeafletAwesomeIconModel",
      "state": {
       "_model_module_version": "^0.14.0",
       "_view_module_version": "^0.14.0",
       "icon_color": "white",
       "name": "life-ring"
      }
     },
     "53062898678540ffaad140abfb0482f0": {
      "model_module": "jupyter-leaflet",
      "model_module_version": "^0.14.0",
      "model_name": "LeafletAwesomeIconModel",
      "state": {
       "_model_module_version": "^0.14.0",
       "_view_module_version": "^0.14.0",
       "icon_color": "white",
       "marker_color": "orange",
       "name": "life-ring"
      }
     },
     "53880c03429d44f7b8c8912dcd2f664c": {
      "model_module": "jupyter-leaflet",
      "model_module_version": "^0.14.0",
      "model_name": "LeafletMarkerModel",
      "state": {
       "_model_module_version": "^0.14.0",
       "_view_module_version": "^0.14.0",
       "icon": "IPY_MODEL_dd5d3ead7f1d49ee97bc13668f17c07b",
       "location": [
        44.37868,
        -124.94508
       ],
       "options": [
        "alt",
        "draggable",
        "keyboard",
        "rise_offset",
        "rise_on_hover",
        "rotation_angle",
        "rotation_origin",
        "title",
        "z_index_offset"
       ],
       "popup": "IPY_MODEL_64d712bf4b20474f8374d9846f924787"
      }
     },
     "53907e6f38434745883f1aef85e77540": {
      "model_module": "@jupyter-widgets/base",
      "model_module_version": "1.2.0",
      "model_name": "LayoutModel",
      "state": {}
     },
     "53bdc239629c4db8a038f544eed2e418": {
      "model_module": "jupyter-leaflet",
      "model_module_version": "^0.14.0",
      "model_name": "LeafletMarkerModel",
      "state": {
       "_model_module_version": "^0.14.0",
       "_view_module_version": "^0.14.0",
       "icon": "IPY_MODEL_fb4225fafd764da680efd8b81a0c1c91",
       "location": [
        46.85367,
        -124.95935
       ],
       "options": [
        "alt",
        "draggable",
        "keyboard",
        "rise_offset",
        "rise_on_hover",
        "rotation_angle",
        "rotation_origin",
        "title",
        "z_index_offset"
       ],
       "popup": "IPY_MODEL_c84c3b92794f4621a61b442b9ad2d859"
      }
     },
     "53cb1a2a36b849e1861f9842faf59806": {
      "model_module": "@jupyter-widgets/controls",
      "model_module_version": "1.5.0",
      "model_name": "HTMLModel",
      "state": {
       "layout": "IPY_MODEL_0380af0c690f4e2c8ab38c1052eeb6cb",
       "style": "IPY_MODEL_dc5ef83a7e984cf69339e718365a003b",
       "value": "<table border=\"1\" class=\"dataframe table table-striped table-hover table-condensed table-responsive\">\n  <thead>\n    <tr style=\"text-align: right;\">\n      <th></th>\n      <th>6</th>\n    </tr>\n  </thead>\n  <tbody>\n    <tr>\n      <th>Institution</th>\n      <td>Ocean Observatories Initiative (OOI)</td>\n    </tr>\n    <tr>\n      <th>Dataset ID</th>\n      <td>ooi-ce01issm-mfd37-03-dostad000</td>\n    </tr>\n  </tbody>\n</table>"
      }
     },
     "53da6754ee0d44df9ed47dec59d978f5": {
      "model_module": "@jupyter-widgets/base",
      "model_module_version": "1.2.0",
      "model_name": "LayoutModel",
      "state": {}
     },
     "540ac4d2f0754c2c95cc6a8e5098a19e": {
      "model_module": "@jupyter-widgets/controls",
      "model_module_version": "1.5.0",
      "model_name": "DescriptionStyleModel",
      "state": {
       "description_width": ""
      }
     },
     "5445f490165d438bb3fc93e3b6ccc08d": {
      "model_module": "@jupyter-widgets/controls",
      "model_module_version": "1.5.0",
      "model_name": "DescriptionStyleModel",
      "state": {
       "description_width": ""
      }
     },
     "547daa0240f3445195e1aa10ee553ec7": {
      "model_module": "@jupyter-widgets/controls",
      "model_module_version": "1.5.0",
      "model_name": "HTMLModel",
      "state": {
       "layout": "IPY_MODEL_b36172a8f554469286bb611d11a426f2",
       "style": "IPY_MODEL_bede1ec699354ba28d557bca8275c318",
       "value": "<table border=\"1\" class=\"dataframe table table-striped table-hover table-condensed table-responsive\">\n  <thead>\n    <tr style=\"text-align: right;\">\n      <th></th>\n      <th>57</th>\n    </tr>\n  </thead>\n  <tbody>\n    <tr>\n      <th>Institution</th>\n      <td>Ocean Observatories Initiative (OOI)</td>\n    </tr>\n    <tr>\n      <th>Dataset ID</th>\n      <td>ooi-ce07shsm-mfd35-06-phsend000</td>\n    </tr>\n  </tbody>\n</table>"
      }
     },
     "548a3ad07269421681f7110f25cb5aa3": {
      "model_module": "jupyter-leaflet",
      "model_module_version": "^0.14.0",
      "model_name": "LeafletAwesomeIconModel",
      "state": {
       "_model_module_version": "^0.14.0",
       "_view_module_version": "^0.14.0",
       "icon_color": "white",
       "marker_color": "orange",
       "name": "life-ring"
      }
     },
     "5542e5eb87464c68bdc90f4a426dc4bd": {
      "model_module": "@jupyter-widgets/controls",
      "model_module_version": "1.5.0",
      "model_name": "DescriptionStyleModel",
      "state": {
       "description_width": ""
      }
     },
     "558066e83b5641a28559bd2fd088f47b": {
      "model_module": "@jupyter-widgets/base",
      "model_module_version": "1.2.0",
      "model_name": "LayoutModel",
      "state": {}
     },
     "55dd7c8b10224305b86b58f010a08851": {
      "model_module": "jupyter-leaflet",
      "model_module_version": "^0.14.0",
      "model_name": "LeafletMarkerModel",
      "state": {
       "_model_module_version": "^0.14.0",
       "_view_module_version": "^0.14.0",
       "icon": "IPY_MODEL_7a14e1c1c714460fb16063b3d635b0fc",
       "location": [
        44.65678,
        -124.09707
       ],
       "options": [
        "alt",
        "draggable",
        "keyboard",
        "rise_offset",
        "rise_on_hover",
        "rotation_angle",
        "rotation_origin",
        "title",
        "z_index_offset"
       ],
       "popup": "IPY_MODEL_c445271f7921499488208fa1e428ee88"
      }
     },
     "55ec21f96d7148d0af341ec94b516cb6": {
      "model_module": "@jupyter-widgets/base",
      "model_module_version": "1.2.0",
      "model_name": "LayoutModel",
      "state": {}
     },
     "561cf554296b46828361ef7ca4b2814a": {
      "model_module": "@jupyter-widgets/controls",
      "model_module_version": "1.5.0",
      "model_name": "HTMLModel",
      "state": {
       "layout": "IPY_MODEL_3f274ce2900f4a36be5e7a55e718ec3e",
       "style": "IPY_MODEL_1b7658cffa8741479f6d896125655611",
       "value": "<table border=\"1\" class=\"dataframe table table-striped table-hover table-condensed table-responsive\">\n  <thead>\n    <tr style=\"text-align: right;\">\n      <th></th>\n      <th>4</th>\n    </tr>\n  </thead>\n  <tbody>\n    <tr>\n      <th>Institution</th>\n      <td>Ocean Observatories Initiative (OOI)</td>\n    </tr>\n    <tr>\n      <th>Dataset ID</th>\n      <td>ooi-ce01issm-rid16-06-phsend000</td>\n    </tr>\n  </tbody>\n</table>"
      }
     },
     "56b77906caf34e9d92a28a1062aa8888": {
      "model_module": "jupyter-leaflet",
      "model_module_version": "^0.14.0",
      "model_name": "LeafletAwesomeIconModel",
      "state": {
       "_model_module_version": "^0.14.0",
       "_view_module_version": "^0.14.0",
       "icon_color": "white",
       "marker_color": "orange",
       "name": "life-ring"
      }
     },
     "56cde663155449f4bf6be550c8594847": {
      "model_module": "@jupyter-widgets/controls",
      "model_module_version": "1.5.0",
      "model_name": "HTMLModel",
      "state": {
       "layout": "IPY_MODEL_9f3a6d0112584985a3efbc295c833232",
       "style": "IPY_MODEL_6a2e9327543a4dd9b7ffce56ba63ec19",
       "value": "<table border=\"1\" class=\"dataframe table table-striped table-hover table-condensed table-responsive\">\n  <thead>\n    <tr style=\"text-align: right;\">\n      <th></th>\n      <th>72</th>\n    </tr>\n  </thead>\n  <tbody>\n    <tr>\n      <th>Institution</th>\n      <td>NOAA Center for Operational Oceanographic Products and Services (CO-OPS)</td>\n    </tr>\n    <tr>\n      <th>Dataset ID</th>\n      <td>noaa_nos_co_ops_9432780</td>\n    </tr>\n  </tbody>\n</table>"
      }
     },
     "56d4d6e5d5aa471ca2810cc4ba3a2a44": {
      "model_module": "@jupyter-widgets/controls",
      "model_module_version": "1.5.0",
      "model_name": "DescriptionStyleModel",
      "state": {
       "description_width": ""
      }
     },
     "575c9b3c7d704ec1b4fbc95f91d50960": {
      "model_module": "@jupyter-widgets/controls",
      "model_module_version": "1.5.0",
      "model_name": "DescriptionStyleModel",
      "state": {
       "description_width": ""
      }
     },
     "57746ffce26b438f9ceda29b87b8f250": {
      "model_module": "jupyter-leaflet",
      "model_module_version": "^0.14.0",
      "model_name": "LeafletAwesomeIconModel",
      "state": {
       "_model_module_version": "^0.14.0",
       "_view_module_version": "^0.14.0",
       "icon_color": "white",
       "name": "life-ring"
      }
     },
     "577fb8307b984bd6a33fcdb56b95a5de": {
      "model_module": "@jupyter-widgets/base",
      "model_module_version": "1.2.0",
      "model_name": "LayoutModel",
      "state": {}
     },
     "583b98e96dc146fd91610e7f34c60fdc": {
      "model_module": "@jupyter-widgets/base",
      "model_module_version": "1.2.0",
      "model_name": "LayoutModel",
      "state": {}
     },
     "58856f54f2604328bdfe402e5d27d230": {
      "model_module": "@jupyter-widgets/base",
      "model_module_version": "1.2.0",
      "model_name": "LayoutModel",
      "state": {}
     },
     "589a75d870e54e68a34a8e0df9742e0f": {
      "model_module": "@jupyter-widgets/controls",
      "model_module_version": "1.5.0",
      "model_name": "HTMLModel",
      "state": {
       "layout": "IPY_MODEL_d4a9dedcfbf24e6eb03bb746cbf996d5",
       "style": "IPY_MODEL_77bbeb10140246cc94ea08170ab566bd",
       "value": "<table border=\"1\" class=\"dataframe table table-striped table-hover table-condensed table-responsive\">\n  <thead>\n    <tr style=\"text-align: right;\">\n      <th></th>\n      <th>23</th>\n    </tr>\n  </thead>\n  <tbody>\n    <tr>\n      <th>Institution</th>\n      <td>Ocean Observatories Initiative (OOI)</td>\n    </tr>\n    <tr>\n      <th>Dataset ID</th>\n      <td>ooi-ce02shbp-lj01d-10-phsend103</td>\n    </tr>\n  </tbody>\n</table>"
      }
     },
     "58c7f352530141909d9263f2b73f3179": {
      "model_module": "@jupyter-widgets/controls",
      "model_module_version": "1.5.0",
      "model_name": "DescriptionStyleModel",
      "state": {
       "description_width": ""
      }
     },
     "5a354da6908b40048124ad48fffed013": {
      "model_module": "jupyter-leaflet",
      "model_module_version": "^0.14.0",
      "model_name": "LeafletMapStyleModel",
      "state": {
       "_model_module_version": "^0.14.0"
      }
     },
     "5a48434223c4489cb1bf766b36167b94": {
      "model_module": "@jupyter-widgets/controls",
      "model_module_version": "1.5.0",
      "model_name": "HTMLModel",
      "state": {
       "layout": "IPY_MODEL_00f8835715b94449bb71b3b6a1189fe7",
       "style": "IPY_MODEL_189910d09fe44b1d9ebe9ee0880658ae",
       "value": "<table border=\"1\" class=\"dataframe table table-striped table-hover table-condensed table-responsive\">\n  <thead>\n    <tr style=\"text-align: right;\">\n      <th></th>\n      <th>73</th>\n    </tr>\n  </thead>\n  <tbody>\n    <tr>\n      <th>Institution</th>\n      <td>NOAA Pacific Marine Environmental Lab (PMEL)</td>\n    </tr>\n    <tr>\n      <th>Dataset ID</th>\n      <td>coos-bay-historic-co2</td>\n    </tr>\n  </tbody>\n</table>"
      }
     },
     "5a748d145eb44d099bcb49834a9ce8a8": {
      "model_module": "@jupyter-widgets/base",
      "model_module_version": "1.2.0",
      "model_name": "LayoutModel",
      "state": {}
     },
     "5b1aa16226fe4fcfb451ce79e36c9618": {
      "model_module": "@jupyter-widgets/controls",
      "model_module_version": "1.5.0",
      "model_name": "HTMLModel",
      "state": {
       "layout": "IPY_MODEL_36a5ac518d5d4bf2b51278b563a941a6",
       "style": "IPY_MODEL_ad9d0dcac615473fb5ea0731b56c6a4b",
       "value": "<table border=\"1\" class=\"dataframe table table-striped table-hover table-condensed table-responsive\">\n  <thead>\n    <tr style=\"text-align: right;\">\n      <th></th>\n      <th>75</th>\n    </tr>\n  </thead>\n  <tbody>\n    <tr>\n      <th>Institution</th>\n      <td>NOAA Pacific Marine Environmental Lab (PMEL)</td>\n    </tr>\n    <tr>\n      <th>Dataset ID</th>\n      <td>gov_ornl_cdiac_lapush_125w_48n</td>\n    </tr>\n  </tbody>\n</table>"
      }
     },
     "5b33f264c7cf4c4eaca9a4ac10609c2c": {
      "model_module": "@jupyter-widgets/controls",
      "model_module_version": "1.5.0",
      "model_name": "HTMLModel",
      "state": {
       "layout": "IPY_MODEL_e37eb850ced246b3aa160ed551d19d9e",
       "style": "IPY_MODEL_e42eceaaf7de4d838d80822957370edd",
       "value": "<table border=\"1\" class=\"dataframe table table-striped table-hover table-condensed table-responsive\">\n  <thead>\n    <tr style=\"text-align: right;\">\n      <th></th>\n      <th>30</th>\n    </tr>\n  </thead>\n  <tbody>\n    <tr>\n      <th>Institution</th>\n      <td>Ocean Observatories Initiative (OOI)</td>\n    </tr>\n    <tr>\n      <th>Dataset ID</th>\n      <td>ooi-ce02shsm-sbd12-04-pco2aa000</td>\n    </tr>\n  </tbody>\n</table>"
      }
     },
     "5b3771a21def4fb9b7dd04317d25b5a5": {
      "model_module": "jupyter-leaflet",
      "model_module_version": "^0.14.0",
      "model_name": "LeafletAwesomeIconModel",
      "state": {
       "_model_module_version": "^0.14.0",
       "_view_module_version": "^0.14.0",
       "icon_color": "white",
       "marker_color": "orange",
       "name": "life-ring"
      }
     },
     "5bb360cded3941399474036ff0e3e90a": {
      "model_module": "@jupyter-widgets/controls",
      "model_module_version": "1.5.0",
      "model_name": "HTMLModel",
      "state": {
       "layout": "IPY_MODEL_bf97989834df4071a0d5e283593fc06d",
       "style": "IPY_MODEL_95cf9181045042b59e20f5707f16ce46",
       "value": "<table border=\"1\" class=\"dataframe table table-striped table-hover table-condensed table-responsive\">\n  <thead>\n    <tr style=\"text-align: right;\">\n      <th></th>\n      <th>59</th>\n    </tr>\n  </thead>\n  <tbody>\n    <tr>\n      <th>Institution</th>\n      <td>Ocean Observatories Initiative (OOI)</td>\n    </tr>\n    <tr>\n      <th>Dataset ID</th>\n      <td>ooi-rs01slbs-lj01a-12-ctdpfb101</td>\n    </tr>\n  </tbody>\n</table>"
      }
     },
     "5c649f38ced747e7a8b7117e89c0d699": {
      "model_module": "@jupyter-widgets/controls",
      "model_module_version": "1.5.0",
      "model_name": "HTMLModel",
      "state": {
       "layout": "IPY_MODEL_3d0ee6bb659a4a1f9312d080e0a99a06",
       "style": "IPY_MODEL_efd2cc4990f646e8a3639f2a643bcbb5",
       "value": "<table border=\"1\" class=\"dataframe table table-striped table-hover table-condensed table-responsive\">\n  <thead>\n    <tr style=\"text-align: right;\">\n      <th></th>\n      <th>21</th>\n    </tr>\n  </thead>\n  <tbody>\n    <tr>\n      <th>Institution</th>\n      <td>Ocean Observatories Initiative (OOI)</td>\n    </tr>\n    <tr>\n      <th>Dataset ID</th>\n      <td>ooi-ce04ossm-sbd12-04-pco2aa000</td>\n    </tr>\n  </tbody>\n</table>"
      }
     },
     "5cdac32a28fe48a49d3b401d92f6e4d0": {
      "model_module": "@jupyter-widgets/controls",
      "model_module_version": "1.5.0",
      "model_name": "HTMLModel",
      "state": {
       "layout": "IPY_MODEL_b069d36ba6dd42279f2a1dcc7e1bed70",
       "style": "IPY_MODEL_3f2cc1a8dcd14b368f87c4641bf3a556",
       "value": "<table border=\"1\" class=\"dataframe table table-striped table-hover table-condensed table-responsive\">\n  <thead>\n    <tr style=\"text-align: right;\">\n      <th></th>\n      <th>33</th>\n    </tr>\n  </thead>\n  <tbody>\n    <tr>\n      <th>Institution</th>\n      <td>Ocean Observatories Initiative (OOI)</td>\n    </tr>\n    <tr>\n      <th>Dataset ID</th>\n      <td>ooi-ce06issm-rid16-03-dostad000</td>\n    </tr>\n  </tbody>\n</table>"
      }
     },
     "5d7aabee730f4d92859c4998e0288b78": {
      "model_module": "@jupyter-widgets/controls",
      "model_module_version": "1.5.0",
      "model_name": "DescriptionStyleModel",
      "state": {
       "description_width": ""
      }
     },
     "5d7d51fe5754400aae1df831831590cd": {
      "model_module": "@jupyter-widgets/base",
      "model_module_version": "1.2.0",
      "model_name": "LayoutModel",
      "state": {}
     },
     "5d98fe9e931043d1af2636e8c7172146": {
      "model_module": "jupyter-leaflet",
      "model_module_version": "^0.14.0",
      "model_name": "LeafletAwesomeIconModel",
      "state": {
       "_model_module_version": "^0.14.0",
       "_view_module_version": "^0.14.0",
       "icon_color": "white",
       "name": "life-ring"
      }
     },
     "5dbfcb32d39a4f35b16e112ef2ca2df3": {
      "model_module": "jupyter-leaflet",
      "model_module_version": "^0.14.0",
      "model_name": "LeafletMarkerModel",
      "state": {
       "_model_module_version": "^0.14.0",
       "_view_module_version": "^0.14.0",
       "icon": "IPY_MODEL_4ab088daef9649d4884c39489d694caf",
       "location": [
        44.65678,
        -124.09707
       ],
       "options": [
        "alt",
        "draggable",
        "keyboard",
        "rise_offset",
        "rise_on_hover",
        "rotation_angle",
        "rotation_origin",
        "title",
        "z_index_offset"
       ],
       "popup": "IPY_MODEL_79c7c70335704169b87229dd96e084ef"
      }
     },
     "5df4d886f50c421da1f286bceb90f809": {
      "model_module": "@jupyter-widgets/controls",
      "model_module_version": "1.5.0",
      "model_name": "HTMLModel",
      "state": {
       "layout": "IPY_MODEL_6535b04219b74cb8937b3acfb251a04e",
       "style": "IPY_MODEL_902eacf0697644a29e75c7be77fdf77e",
       "value": "<table border=\"1\" class=\"dataframe table table-striped table-hover table-condensed table-responsive\">\n  <thead>\n    <tr style=\"text-align: right;\">\n      <th></th>\n      <th>16</th>\n    </tr>\n  </thead>\n  <tbody>\n    <tr>\n      <th>Institution</th>\n      <td>Ocean Observatories Initiative (OOI)</td>\n    </tr>\n    <tr>\n      <th>Dataset ID</th>\n      <td>ooi-ce04ossm-rid27-03-ctdbpc000</td>\n    </tr>\n  </tbody>\n</table>"
      }
     },
     "5e242b76bdd04dcbbe1b0aa630b1d863": {
      "model_module": "@jupyter-widgets/controls",
      "model_module_version": "1.5.0",
      "model_name": "DescriptionStyleModel",
      "state": {
       "description_width": ""
      }
     },
     "5e4a9193096049a699a19b6168196947": {
      "model_module": "jupyter-leaflet",
      "model_module_version": "^0.14.0",
      "model_name": "LeafletMarkerModel",
      "state": {
       "_model_module_version": "^0.14.0",
       "_view_module_version": "^0.14.0",
       "icon": "IPY_MODEL_e58c3378f970473dbc014420602b2306",
       "location": [
        44.63577,
        -124.3035
       ],
       "options": [
        "alt",
        "draggable",
        "keyboard",
        "rise_offset",
        "rise_on_hover",
        "rotation_angle",
        "rotation_origin",
        "title",
        "z_index_offset"
       ],
       "popup": "IPY_MODEL_6e209911fa014b119aa42f813c492887"
      }
     },
     "5e4e9364767645908753169b4a7ccb65": {
      "model_module": "@jupyter-widgets/controls",
      "model_module_version": "1.5.0",
      "model_name": "HTMLModel",
      "state": {
       "layout": "IPY_MODEL_06d6f7ebf5164ccfa6d941f6cd99f80d",
       "style": "IPY_MODEL_93dcf8b8bcf941cba0968cc30405c84d",
       "value": "<table border=\"1\" class=\"dataframe table table-striped table-hover table-condensed table-responsive\">\n  <thead>\n    <tr style=\"text-align: right;\">\n      <th></th>\n      <th>72</th>\n    </tr>\n  </thead>\n  <tbody>\n    <tr>\n      <th>Institution</th>\n      <td>NOAA Center for Operational Oceanographic Products and Services (CO-OPS)</td>\n    </tr>\n    <tr>\n      <th>Dataset ID</th>\n      <td>noaa_nos_co_ops_9432780</td>\n    </tr>\n  </tbody>\n</table>"
      }
     },
     "5e904f3ea3a944a6af7c389df8503509": {
      "model_module": "@jupyter-widgets/controls",
      "model_module_version": "1.5.0",
      "model_name": "HTMLModel",
      "state": {
       "layout": "IPY_MODEL_09dc333c0f2943988d74586cfe9e05f8",
       "style": "IPY_MODEL_3629ec6848ed4199bad7ba58c943a156",
       "value": "<table border=\"1\" class=\"dataframe table table-striped table-hover table-condensed table-responsive\">\n  <thead>\n    <tr style=\"text-align: right;\">\n      <th></th>\n      <th>13</th>\n    </tr>\n  </thead>\n  <tbody>\n    <tr>\n      <th>Institution</th>\n      <td>Ocean Observatories Initiative (OOI)</td>\n    </tr>\n    <tr>\n      <th>Dataset ID</th>\n      <td>ooi-ce04osps-pc01b-4a-ctdpfa109</td>\n    </tr>\n  </tbody>\n</table>"
      }
     },
     "5eaa89780fb04865867078a70f769b7f": {
      "model_module": "jupyter-leaflet",
      "model_module_version": "^0.14.0",
      "model_name": "LeafletMarkerModel",
      "state": {
       "_model_module_version": "^0.14.0",
       "_view_module_version": "^0.14.0",
       "icon": "IPY_MODEL_dce874a742c84876bbd4e7fc1ece82ca",
       "location": [
        44.65678,
        -124.09707
       ],
       "options": [
        "alt",
        "draggable",
        "keyboard",
        "rise_offset",
        "rise_on_hover",
        "rotation_angle",
        "rotation_origin",
        "title",
        "z_index_offset"
       ],
       "popup": "IPY_MODEL_3c320d345bc34a0ea9037322dfbda3c4"
      }
     },
     "5ecdd2e48dca496c8f9d2ea85d5e728f": {
      "model_module": "@jupyter-widgets/base",
      "model_module_version": "1.2.0",
      "model_name": "LayoutModel",
      "state": {}
     },
     "5eef00876c794003bb6bc15f2d9049d6": {
      "model_module": "@jupyter-widgets/controls",
      "model_module_version": "1.5.0",
      "model_name": "HTMLModel",
      "state": {
       "layout": "IPY_MODEL_a854dc8ff0ec47298ad907caca2f24fc",
       "style": "IPY_MODEL_62a8b50e08664b4db7cd8f5756b3fc9f",
       "value": "<table border=\"1\" class=\"dataframe table table-striped table-hover table-condensed table-responsive\">\n  <thead>\n    <tr style=\"text-align: right;\">\n      <th></th>\n      <th>9</th>\n    </tr>\n  </thead>\n  <tbody>\n    <tr>\n      <th>Institution</th>\n      <td>Ocean Observatories Initiative (OOI)</td>\n    </tr>\n    <tr>\n      <th>Dataset ID</th>\n      <td>ooi-ce01issm-sbd17-06-ctdbpc000</td>\n    </tr>\n  </tbody>\n</table>"
      }
     },
     "5f08811feb9543a0aa5528f173ec1771": {
      "model_module": "@jupyter-widgets/base",
      "model_module_version": "1.2.0",
      "model_name": "LayoutModel",
      "state": {}
     },
     "5f417c0f97ca418088c14601d52bab7b": {
      "model_module": "jupyter-leaflet",
      "model_module_version": "^0.14.0",
      "model_name": "LeafletFullScreenControlModel",
      "state": {
       "_model_module_version": "^0.14.0",
       "_view_module_version": "^0.14.0",
       "options": [
        "position"
       ]
      }
     },
     "5f6d2e22e7fe46df8f877c2da62cc022": {
      "model_module": "jupyter-leaflet",
      "model_module_version": "^0.14.0",
      "model_name": "LeafletMarkerModel",
      "state": {
       "_model_module_version": "^0.14.0",
       "_view_module_version": "^0.14.0",
       "icon": "IPY_MODEL_88538f044a184d2eb77b7b7f75ffe36d",
       "location": [
        46.2,
        -123.941
       ],
       "options": [
        "alt",
        "draggable",
        "keyboard",
        "rise_offset",
        "rise_on_hover",
        "rotation_angle",
        "rotation_origin",
        "title",
        "z_index_offset"
       ],
       "popup": "IPY_MODEL_8c5181a4a3624d2d8bdeff953aad7152"
      }
     },
     "5f77465957a74eeba8f3163759d54948": {
      "model_module": "jupyter-leaflet",
      "model_module_version": "^0.14.0",
      "model_name": "LeafletMapStyleModel",
      "state": {
       "_model_module_version": "^0.14.0"
      }
     },
     "5fc176a6a0704515978c714b277f9180": {
      "model_module": "jupyter-leaflet",
      "model_module_version": "^0.14.0",
      "model_name": "LeafletMarkerModel",
      "state": {
       "_model_module_version": "^0.14.0",
       "_view_module_version": "^0.14.0",
       "icon": "IPY_MODEL_6e6057f4924b4c3bab4de25134ef5f2e",
       "location": [
        46.2,
        -123.941
       ],
       "options": [
        "alt",
        "draggable",
        "keyboard",
        "rise_offset",
        "rise_on_hover",
        "rotation_angle",
        "rotation_origin",
        "title",
        "z_index_offset"
       ],
       "popup": "IPY_MODEL_1ab66a388df34b7f82d0bcda4fb75e77"
      }
     },
     "5fd74a467afb4f32a51535b12ef54709": {
      "model_module": "jupyter-leaflet",
      "model_module_version": "^0.14.0",
      "model_name": "LeafletMarkerModel",
      "state": {
       "_model_module_version": "^0.14.0",
       "_view_module_version": "^0.14.0",
       "icon": "IPY_MODEL_c2817155860e4b159ae14f60024aa268",
       "location": [
        47.97,
        -124.95
       ],
       "options": [
        "alt",
        "draggable",
        "keyboard",
        "rise_offset",
        "rise_on_hover",
        "rotation_angle",
        "rotation_origin",
        "title",
        "z_index_offset"
       ],
       "popup": "IPY_MODEL_a40e3243f7854aee8506adcc9847ec9a"
      }
     },
     "5fd9ac27839948d2be3398b91dded88d": {
      "model_module": "@jupyter-widgets/controls",
      "model_module_version": "1.5.0",
      "model_name": "DescriptionStyleModel",
      "state": {
       "description_width": ""
      }
     },
     "607450c17c774ddca93507e0f2663632": {
      "model_module": "jupyter-leaflet",
      "model_module_version": "^0.14.0",
      "model_name": "LeafletMarkerModel",
      "state": {
       "_model_module_version": "^0.14.0",
       "_view_module_version": "^0.14.0",
       "icon": "IPY_MODEL_690434f1fa794e96afa5826f4f73badb",
       "location": [
        44.63708,
        -124.30595
       ],
       "options": [
        "alt",
        "draggable",
        "keyboard",
        "rise_offset",
        "rise_on_hover",
        "rotation_angle",
        "rotation_origin",
        "title",
        "z_index_offset"
       ],
       "popup": "IPY_MODEL_589a75d870e54e68a34a8e0df9742e0f"
      }
     },
     "60a75a3e475e40f4acea5e02e171c5b3": {
      "model_module": "jupyter-leaflet",
      "model_module_version": "^0.14.0",
      "model_name": "LeafletMarkerModel",
      "state": {
       "_model_module_version": "^0.14.0",
       "_view_module_version": "^0.14.0",
       "icon": "IPY_MODEL_d50113891884472390fe5315ad1f7ed1",
       "location": [
        47.1345,
        -124.27087
       ],
       "options": [
        "alt",
        "draggable",
        "keyboard",
        "rise_offset",
        "rise_on_hover",
        "rotation_angle",
        "rotation_origin",
        "title",
        "z_index_offset"
       ],
       "popup": "IPY_MODEL_463d510eb102494bb0ad02697f14c414"
      }
     },
     "60ac9993a6534513a437d98fc6228616": {
      "model_module": "@jupyter-widgets/controls",
      "model_module_version": "1.5.0",
      "model_name": "HTMLModel",
      "state": {
       "layout": "IPY_MODEL_2cac26ce05e24b7097009a3573360706",
       "style": "IPY_MODEL_540ac4d2f0754c2c95cc6a8e5098a19e",
       "value": "<table border=\"1\" class=\"dataframe table table-striped table-hover table-condensed table-responsive\">\n  <thead>\n    <tr style=\"text-align: right;\">\n      <th></th>\n      <th>23</th>\n    </tr>\n  </thead>\n  <tbody>\n    <tr>\n      <th>Institution</th>\n      <td>Ocean Observatories Initiative (OOI)</td>\n    </tr>\n    <tr>\n      <th>Dataset ID</th>\n      <td>ooi-ce02shbp-lj01d-10-phsend103</td>\n    </tr>\n  </tbody>\n</table>"
      }
     },
     "60dc03b9da37487a9bd8a969acb5a66b": {
      "model_module": "@jupyter-widgets/controls",
      "model_module_version": "1.5.0",
      "model_name": "DescriptionStyleModel",
      "state": {
       "description_width": ""
      }
     },
     "60e0b449c9734f51bcaaf9f7fd462818": {
      "model_module": "@jupyter-widgets/controls",
      "model_module_version": "1.5.0",
      "model_name": "HTMLModel",
      "state": {
       "layout": "IPY_MODEL_2e11cf2bd3cf4e71a7924b0c7c7bb3f0",
       "style": "IPY_MODEL_825982649e4e4a1c843902d6e59fb37d",
       "value": "<table border=\"1\" class=\"dataframe table table-striped table-hover table-condensed table-responsive\">\n  <thead>\n    <tr style=\"text-align: right;\">\n      <th></th>\n      <th>63</th>\n    </tr>\n  </thead>\n  <tbody>\n    <tr>\n      <th>Institution</th>\n      <td>Center for Coastal Margin Observation &amp; Prediction</td>\n    </tr>\n    <tr>\n      <th>Dataset ID</th>\n      <td>org_cmop_46096</td>\n    </tr>\n  </tbody>\n</table>"
      }
     },
     "60e54c9214f74333b11b93659288fb87": {
      "model_module": "@jupyter-widgets/controls",
      "model_module_version": "1.5.0",
      "model_name": "DescriptionStyleModel",
      "state": {
       "description_width": ""
      }
     },
     "60e5b946d96248b3aeaad7c72bebbd0c": {
      "model_module": "jupyter-leaflet",
      "model_module_version": "^0.14.0",
      "model_name": "LeafletMarkerModel",
      "state": {
       "_model_module_version": "^0.14.0",
       "_view_module_version": "^0.14.0",
       "icon": "IPY_MODEL_4b26c8aa9cea4913a5ef97aa689919c0",
       "location": [
        46.86503,
        -124.94828
       ],
       "options": [
        "alt",
        "draggable",
        "keyboard",
        "rise_offset",
        "rise_on_hover",
        "rotation_angle",
        "rotation_origin",
        "title",
        "z_index_offset"
       ],
       "popup": "IPY_MODEL_78822c8668de43a4939b545b791e483f"
      }
     },
     "60ff2a2b97ab4ed3bf6a63eb6e698ef0": {
      "model_module": "jupyter-leaflet",
      "model_module_version": "^0.14.0",
      "model_name": "LeafletAwesomeIconModel",
      "state": {
       "_model_module_version": "^0.14.0",
       "_view_module_version": "^0.14.0",
       "icon_color": "white",
       "marker_color": "orange",
       "name": "life-ring"
      }
     },
     "610f5cac7ae24e3388f756bbae5149e0": {
      "model_module": "jupyter-leaflet",
      "model_module_version": "^0.14.0",
      "model_name": "LeafletMarkerModel",
      "state": {
       "_model_module_version": "^0.14.0",
       "_view_module_version": "^0.14.0",
       "icon": "IPY_MODEL_a7453f3d3c5b428ab155ff4159e21a25",
       "location": [
        44.378,
        -124.946
       ],
       "options": [
        "alt",
        "draggable",
        "keyboard",
        "rise_offset",
        "rise_on_hover",
        "rotation_angle",
        "rotation_origin",
        "title",
        "z_index_offset"
       ],
       "popup": "IPY_MODEL_2a482a1f75ee40bfa2b05c9559550292"
      }
     },
     "61521a8c556045f0a034cc32ba6ff037": {
      "model_module": "@jupyter-widgets/controls",
      "model_module_version": "1.5.0",
      "model_name": "DescriptionStyleModel",
      "state": {
       "description_width": ""
      }
     },
     "61f73178635b4f0ba482e1a2b9c5e0a9": {
      "model_module": "@jupyter-widgets/base",
      "model_module_version": "1.2.0",
      "model_name": "LayoutModel",
      "state": {}
     },
     "61ffd26280504c789aa3afde1fa37a25": {
      "model_module": "jupyter-leaflet",
      "model_module_version": "^0.14.0",
      "model_name": "LeafletMarkerModel",
      "state": {
       "_model_module_version": "^0.14.0",
       "_view_module_version": "^0.14.0",
       "icon": "IPY_MODEL_424da176a47d4abfb95bcb78bbaecbb7",
       "location": [
        47.1345,
        -124.27087
       ],
       "options": [
        "alt",
        "draggable",
        "keyboard",
        "rise_offset",
        "rise_on_hover",
        "rotation_angle",
        "rotation_origin",
        "title",
        "z_index_offset"
       ],
       "popup": "IPY_MODEL_fcbd1219b9aa4394bfd1476be667eaf0"
      }
     },
     "62224bc423724f69884507ec3f343aa6": {
      "model_module": "@jupyter-widgets/controls",
      "model_module_version": "1.5.0",
      "model_name": "HTMLModel",
      "state": {
       "layout": "IPY_MODEL_0a638f1c4168424ca7b632807cf590bd",
       "style": "IPY_MODEL_950b01cf5ceb41bb984e1ed9a0f03829",
       "value": "<table border=\"1\" class=\"dataframe table table-striped table-hover table-condensed table-responsive\">\n  <thead>\n    <tr style=\"text-align: right;\">\n      <th></th>\n      <th>28</th>\n    </tr>\n  </thead>\n  <tbody>\n    <tr>\n      <th>Institution</th>\n      <td>Ocean Observatories Initiative (OOI)</td>\n    </tr>\n    <tr>\n      <th>Dataset ID</th>\n      <td>ooi-ce02shsm-rid26-06-phsend000</td>\n    </tr>\n  </tbody>\n</table>"
      }
     },
     "62986826ae6541c4979c08e2f07f8bdc": {
      "model_module": "jupyter-leaflet",
      "model_module_version": "^0.14.0",
      "model_name": "LeafletMarkerModel",
      "state": {
       "_model_module_version": "^0.14.0",
       "_view_module_version": "^0.14.0",
       "icon": "IPY_MODEL_18e6bad2c1094ba489ee904a42073cd8",
       "location": [
        44.37415,
        -124.95648
       ],
       "options": [
        "alt",
        "draggable",
        "keyboard",
        "rise_offset",
        "rise_on_hover",
        "rotation_angle",
        "rotation_origin",
        "title",
        "z_index_offset"
       ],
       "popup": "IPY_MODEL_3af66daec66b42dfbd5900da1f4c7c6a"
      }
     },
     "62a8b50e08664b4db7cd8f5756b3fc9f": {
      "model_module": "@jupyter-widgets/controls",
      "model_module_version": "1.5.0",
      "model_name": "DescriptionStyleModel",
      "state": {
       "description_width": ""
      }
     },
     "62c6251acc89458ba08d7b56824e95fd": {
      "model_module": "jupyter-leaflet",
      "model_module_version": "^0.14.0",
      "model_name": "LeafletLegendControlModel",
      "state": {
       "_model_module_version": "^0.14.0",
       "_view_module_version": "^0.14.0",
       "legend": {
        "IOOS": "blue",
        "OOI": "orange"
       },
       "options": [
        "position"
       ],
       "title": "Dataset locations"
      }
     },
     "62d45f5e1c6d42609d500015a195014e": {
      "model_module": "jupyter-leaflet",
      "model_module_version": "^0.14.0",
      "model_name": "LeafletMarkerModel",
      "state": {
       "_model_module_version": "^0.14.0",
       "_view_module_version": "^0.14.0",
       "icon": "IPY_MODEL_2f65e794a2e54517a8f6253f60eeceac",
       "location": [
        47.1345,
        -124.27087
       ],
       "options": [
        "alt",
        "draggable",
        "keyboard",
        "rise_offset",
        "rise_on_hover",
        "rotation_angle",
        "rotation_origin",
        "title",
        "z_index_offset"
       ],
       "popup": "IPY_MODEL_06b4b599cf1a49138ed4d2de53f5d219"
      }
     },
     "62d7a8caabef4c30a389a6132ccca439": {
      "model_module": "@jupyter-widgets/base",
      "model_module_version": "1.2.0",
      "model_name": "LayoutModel",
      "state": {}
     },
     "6341156e16f04186bce4d4db7473b1f9": {
      "model_module": "jupyter-leaflet",
      "model_module_version": "^0.14.0",
      "model_name": "LeafletMarkerModel",
      "state": {
       "_model_module_version": "^0.14.0",
       "_view_module_version": "^0.14.0",
       "icon": "IPY_MODEL_71e83c0f8d21418683f7ebbf8915b9a2",
       "location": [
        44.63958,
        -124.303
       ],
       "options": [
        "alt",
        "draggable",
        "keyboard",
        "rise_offset",
        "rise_on_hover",
        "rotation_angle",
        "rotation_origin",
        "title",
        "z_index_offset"
       ],
       "popup": "IPY_MODEL_0995db21ad52474fbdfe36c95d3422a0"
      }
     },
     "63496470928e44a6bf1de419328bdb38": {
      "model_module": "jupyter-leaflet",
      "model_module_version": "^0.14.0",
      "model_name": "LeafletMarkerModel",
      "state": {
       "_model_module_version": "^0.14.0",
       "_view_module_version": "^0.14.0",
       "icon": "IPY_MODEL_abed7ff5d89e48eca3eb4807b66f0664",
       "location": [
        44.65678,
        -124.09707
       ],
       "options": [
        "alt",
        "draggable",
        "keyboard",
        "rise_offset",
        "rise_on_hover",
        "rotation_angle",
        "rotation_origin",
        "title",
        "z_index_offset"
       ],
       "popup": "IPY_MODEL_1c33c76f6d2e406182ff667a46822ba9"
      }
     },
     "63f367f807524636b93539f032f82afb": {
      "model_module": "@jupyter-widgets/controls",
      "model_module_version": "1.5.0",
      "model_name": "DescriptionStyleModel",
      "state": {
       "description_width": ""
      }
     },
     "641148d2b60245be92c534ca3fae54ae": {
      "model_module": "@jupyter-widgets/base",
      "model_module_version": "1.2.0",
      "model_name": "LayoutModel",
      "state": {}
     },
     "645412fae5834cecb8a9f249474d86a3": {
      "model_module": "@jupyter-widgets/base",
      "model_module_version": "1.2.0",
      "model_name": "LayoutModel",
      "state": {}
     },
     "645c3d40b0d74a0a8f4d770b7827de95": {
      "model_module": "jupyter-leaflet",
      "model_module_version": "^0.14.0",
      "model_name": "LeafletAwesomeIconModel",
      "state": {
       "_model_module_version": "^0.14.0",
       "_view_module_version": "^0.14.0",
       "icon_color": "white",
       "marker_color": "orange",
       "name": "life-ring"
      }
     },
     "6467693e688b4e26ab990a159c3b9441": {
      "model_module": "@jupyter-widgets/base",
      "model_module_version": "1.2.0",
      "model_name": "LayoutModel",
      "state": {}
     },
     "64d712bf4b20474f8374d9846f924787": {
      "model_module": "@jupyter-widgets/controls",
      "model_module_version": "1.5.0",
      "model_name": "HTMLModel",
      "state": {
       "layout": "IPY_MODEL_feb1556d8b2c4d6e8fc59c77cca3937c",
       "style": "IPY_MODEL_0db595946e3c4ade909fa19ca6dbc917",
       "value": "<table border=\"1\" class=\"dataframe table table-striped table-hover table-condensed table-responsive\">\n  <thead>\n    <tr style=\"text-align: right;\">\n      <th></th>\n      <th>18</th>\n    </tr>\n  </thead>\n  <tbody>\n    <tr>\n      <th>Institution</th>\n      <td>Ocean Observatories Initiative (OOI)</td>\n    </tr>\n    <tr>\n      <th>Dataset ID</th>\n      <td>ooi-ce04ossm-rid26-07-nutnrb000</td>\n    </tr>\n  </tbody>\n</table>"
      }
     },
     "64da42e3bda549189aa7b01a22d74c47": {
      "model_module": "@jupyter-widgets/base",
      "model_module_version": "1.2.0",
      "model_name": "LayoutModel",
      "state": {}
     },
     "651d681866ae43e7995b48de8c9a760b": {
      "model_module": "jupyter-leaflet",
      "model_module_version": "^0.14.0",
      "model_name": "LeafletAwesomeIconModel",
      "state": {
       "_model_module_version": "^0.14.0",
       "_view_module_version": "^0.14.0",
       "icon_color": "white",
       "marker_color": "orange",
       "name": "life-ring"
      }
     },
     "6535b04219b74cb8937b3acfb251a04e": {
      "model_module": "@jupyter-widgets/base",
      "model_module_version": "1.2.0",
      "model_name": "LayoutModel",
      "state": {}
     },
     "65709315555244d69846c859b08dd98d": {
      "model_module": "@jupyter-widgets/controls",
      "model_module_version": "1.5.0",
      "model_name": "DescriptionStyleModel",
      "state": {
       "description_width": ""
      }
     },
     "660c2558627f45e2a76770e0a5a3ee77": {
      "model_module": "@jupyter-widgets/base",
      "model_module_version": "1.2.0",
      "model_name": "LayoutModel",
      "state": {}
     },
     "66108b623b714473986660eacc2359ea": {
      "model_module": "jupyter-leaflet",
      "model_module_version": "^0.14.0",
      "model_name": "LeafletAwesomeIconModel",
      "state": {
       "_model_module_version": "^0.14.0",
       "_view_module_version": "^0.14.0",
       "icon_color": "white",
       "marker_color": "orange",
       "name": "life-ring"
      }
     },
     "663b1f4b17834ed283357b0fb84691a8": {
      "model_module": "@jupyter-widgets/controls",
      "model_module_version": "1.5.0",
      "model_name": "HTMLModel",
      "state": {
       "layout": "IPY_MODEL_99a2e774820947e08a3c0f7d39eaaa80",
       "style": "IPY_MODEL_246a8c6a7c674ac4aa7ea3f0622e2f1e",
       "value": "<table border=\"1\" class=\"dataframe table table-striped table-hover table-condensed table-responsive\">\n  <thead>\n    <tr style=\"text-align: right;\">\n      <th></th>\n      <th>30</th>\n    </tr>\n  </thead>\n  <tbody>\n    <tr>\n      <th>Institution</th>\n      <td>Ocean Observatories Initiative (OOI)</td>\n    </tr>\n    <tr>\n      <th>Dataset ID</th>\n      <td>ooi-ce02shsm-sbd12-04-pco2aa000</td>\n    </tr>\n  </tbody>\n</table>"
      }
     },
     "6652f0377365459aab023ca57376518d": {
      "model_module": "@jupyter-widgets/controls",
      "model_module_version": "1.5.0",
      "model_name": "HTMLModel",
      "state": {
       "layout": "IPY_MODEL_f6c05e080bdd433f99b7407654abaf11",
       "style": "IPY_MODEL_1315b6979800475aaaaaffbbcbe517f7",
       "value": "<table border=\"1\" class=\"dataframe table table-striped table-hover table-condensed table-responsive\">\n  <thead>\n    <tr style=\"text-align: right;\">\n      <th></th>\n      <th>25</th>\n    </tr>\n  </thead>\n  <tbody>\n    <tr>\n      <th>Institution</th>\n      <td>Ocean Observatories Initiative (OOI)</td>\n    </tr>\n    <tr>\n      <th>Dataset ID</th>\n      <td>ooi-ce02shsm-rid27-03-ctdbpc000</td>\n    </tr>\n  </tbody>\n</table>"
      }
     },
     "66747b4a755244a4b9c079849df17678": {
      "model_module": "@jupyter-widgets/base",
      "model_module_version": "1.2.0",
      "model_name": "LayoutModel",
      "state": {}
     },
     "66f91077c4894868a01db390a6fd1f94": {
      "model_module": "@jupyter-widgets/controls",
      "model_module_version": "1.5.0",
      "model_name": "HTMLModel",
      "state": {
       "layout": "IPY_MODEL_f77204e141b54a80b8bfd5fa7bea8706",
       "style": "IPY_MODEL_ff2d135e724641f0a3f1730e5d6fa819",
       "value": "<table border=\"1\" class=\"dataframe table table-striped table-hover table-condensed table-responsive\">\n  <thead>\n    <tr style=\"text-align: right;\">\n      <th></th>\n      <th>61</th>\n    </tr>\n  </thead>\n  <tbody>\n    <tr>\n      <th>Institution</th>\n      <td>Ocean Observatories Initiative (OOI)</td>\n    </tr>\n    <tr>\n      <th>Dataset ID</th>\n      <td>ooi-rs01sbps-pc01a-4a-ctdpfa103</td>\n    </tr>\n  </tbody>\n</table>"
      }
     },
     "66fdc0d5caa040cd879b40903bba5d84": {
      "model_module": "@jupyter-widgets/controls",
      "model_module_version": "1.5.0",
      "model_name": "DescriptionStyleModel",
      "state": {
       "description_width": ""
      }
     },
     "672cc270cc174f88bc31fa9eecf86a4b": {
      "model_module": "jupyter-leaflet",
      "model_module_version": "^0.14.0",
      "model_name": "LeafletMarkerModel",
      "state": {
       "_model_module_version": "^0.14.0",
       "_view_module_version": "^0.14.0",
       "icon": "IPY_MODEL_e778e133648e4c8698cce64e40419bd1",
       "location": [
        46.98648,
        -124.56923
       ],
       "options": [
        "alt",
        "draggable",
        "keyboard",
        "rise_offset",
        "rise_on_hover",
        "rotation_angle",
        "rotation_origin",
        "title",
        "z_index_offset"
       ],
       "popup": "IPY_MODEL_b162e33c03f445e9a225fc7729719277"
      }
     },
     "674cb973cb0c47128a23288312c161bc": {
      "model_module": "jupyter-leaflet",
      "model_module_version": "^0.14.0",
      "model_name": "LeafletAwesomeIconModel",
      "state": {
       "_model_module_version": "^0.14.0",
       "_view_module_version": "^0.14.0",
       "icon_color": "white",
       "marker_color": "orange",
       "name": "life-ring"
      }
     },
     "67605950662847ef8147bfd0ac4e6964": {
      "model_module": "@jupyter-widgets/controls",
      "model_module_version": "1.5.0",
      "model_name": "HTMLModel",
      "state": {
       "layout": "IPY_MODEL_979cdafdeb814d21b0740c4c886d109d",
       "style": "IPY_MODEL_0bad518039fa473ab742da7d304b1f9a",
       "value": "<table border=\"1\" class=\"dataframe table table-striped table-hover table-condensed table-responsive\">\n  <thead>\n    <tr style=\"text-align: right;\">\n      <th></th>\n      <th>53</th>\n    </tr>\n  </thead>\n  <tbody>\n    <tr>\n      <th>Institution</th>\n      <td>Ocean Observatories Initiative (OOI)</td>\n    </tr>\n    <tr>\n      <th>Dataset ID</th>\n      <td>ooi-ce07shsm-rid26-07-nutnrb000</td>\n    </tr>\n  </tbody>\n</table>"
      }
     },
     "6798715d8ca1409cb06ae794c84553bc": {
      "model_module": "@jupyter-widgets/base",
      "model_module_version": "1.2.0",
      "model_name": "LayoutModel",
      "state": {}
     },
     "679e976f43d14152a245ff513ec0fd80": {
      "model_module": "jupyter-leaflet",
      "model_module_version": "^0.14.0",
      "model_name": "LeafletAwesomeIconModel",
      "state": {
       "_model_module_version": "^0.14.0",
       "_view_module_version": "^0.14.0",
       "icon_color": "white",
       "marker_color": "orange",
       "name": "life-ring"
      }
     },
     "67b30534bde143bdbeaf2a7ec715dd56": {
      "model_module": "@jupyter-widgets/base",
      "model_module_version": "1.2.0",
      "model_name": "LayoutModel",
      "state": {}
     },
     "67b86cb80a954db19c7d25988a1b8aa7": {
      "model_module": "@jupyter-widgets/controls",
      "model_module_version": "1.5.0",
      "model_name": "DescriptionStyleModel",
      "state": {
       "description_width": ""
      }
     },
     "67bbf18e177e4622ad9e706c201e4c4f": {
      "model_module": "jupyter-leaflet",
      "model_module_version": "^0.14.0",
      "model_name": "LeafletAwesomeIconModel",
      "state": {
       "_model_module_version": "^0.14.0",
       "_view_module_version": "^0.14.0",
       "icon_color": "white",
       "marker_color": "orange",
       "name": "life-ring"
      }
     },
     "67bcc5ae045341e1989f3e501c6ff149": {
      "model_module": "jupyter-leaflet",
      "model_module_version": "^0.14.0",
      "model_name": "LeafletFullScreenControlModel",
      "state": {
       "_model_module_version": "^0.14.0",
       "_view_module_version": "^0.14.0",
       "options": [
        "position"
       ]
      }
     },
     "67f0d41c67d44edfa717e1448de5459f": {
      "model_module": "@jupyter-widgets/controls",
      "model_module_version": "1.5.0",
      "model_name": "HTMLModel",
      "state": {
       "layout": "IPY_MODEL_b8aaca97fe0c41bd813704a34cfc3323",
       "style": "IPY_MODEL_e68bc21bcff84789950f8a67bb6ad16d",
       "value": "<table border=\"1\" class=\"dataframe table table-striped table-hover table-condensed table-responsive\">\n  <thead>\n    <tr style=\"text-align: right;\">\n      <th></th>\n      <th>55</th>\n    </tr>\n  </thead>\n  <tbody>\n    <tr>\n      <th>Institution</th>\n      <td>Ocean Observatories Initiative (OOI)</td>\n    </tr>\n    <tr>\n      <th>Dataset ID</th>\n      <td>ooi-ce07shsm-mfd37-03-ctdbpc000</td>\n    </tr>\n  </tbody>\n</table>"
      }
     },
     "67fa0be4765c4fa2b8e9eedb0134591f": {
      "model_module": "@jupyter-widgets/controls",
      "model_module_version": "1.5.0",
      "model_name": "HTMLModel",
      "state": {
       "layout": "IPY_MODEL_5129848115ca46039c84fc4d10cfd628",
       "style": "IPY_MODEL_c9a9f0d8d283452db12efb91fba239f1",
       "value": "<table border=\"1\" class=\"dataframe table table-striped table-hover table-condensed table-responsive\">\n  <thead>\n    <tr style=\"text-align: right;\">\n      <th></th>\n      <th>4</th>\n    </tr>\n  </thead>\n  <tbody>\n    <tr>\n      <th>Institution</th>\n      <td>Ocean Observatories Initiative (OOI)</td>\n    </tr>\n    <tr>\n      <th>Dataset ID</th>\n      <td>ooi-ce01issm-rid16-06-phsend000</td>\n    </tr>\n  </tbody>\n</table>"
      }
     },
     "68297f74cbbe49ad95606f55cb54c805": {
      "model_module": "@jupyter-widgets/controls",
      "model_module_version": "1.5.0",
      "model_name": "DescriptionStyleModel",
      "state": {
       "description_width": ""
      }
     },
     "68c99f32e8104f3f9c7c0e05176b575b": {
      "model_module": "@jupyter-widgets/controls",
      "model_module_version": "1.5.0",
      "model_name": "HTMLModel",
      "state": {
       "layout": "IPY_MODEL_180f8ea6f6904b6aaa42c5887ab110d2",
       "style": "IPY_MODEL_ef273081b2414615aea3b7e84f6b41c3",
       "value": "<table border=\"1\" class=\"dataframe table table-striped table-hover table-condensed table-responsive\">\n  <thead>\n    <tr style=\"text-align: right;\">\n      <th></th>\n      <th>21</th>\n    </tr>\n  </thead>\n  <tbody>\n    <tr>\n      <th>Institution</th>\n      <td>Ocean Observatories Initiative (OOI)</td>\n    </tr>\n    <tr>\n      <th>Dataset ID</th>\n      <td>ooi-ce04ossm-sbd12-04-pco2aa000</td>\n    </tr>\n  </tbody>\n</table>"
      }
     },
     "68fdebaf5f684600ac8bb87dcd63d6af": {
      "model_module": "jupyter-leaflet",
      "model_module_version": "^0.14.0",
      "model_name": "LeafletAwesomeIconModel",
      "state": {
       "_model_module_version": "^0.14.0",
       "_view_module_version": "^0.14.0",
       "icon_color": "white",
       "marker_color": "orange",
       "name": "life-ring"
      }
     },
     "690434f1fa794e96afa5826f4f73badb": {
      "model_module": "jupyter-leaflet",
      "model_module_version": "^0.14.0",
      "model_name": "LeafletAwesomeIconModel",
      "state": {
       "_model_module_version": "^0.14.0",
       "_view_module_version": "^0.14.0",
       "icon_color": "white",
       "marker_color": "orange",
       "name": "life-ring"
      }
     },
     "69294dbdf8cd41be80cb3c5bac6aec25": {
      "model_module": "@jupyter-widgets/base",
      "model_module_version": "1.2.0",
      "model_name": "LayoutModel",
      "state": {}
     },
     "69c7d4a69a594d6ca1db2cb2141fbc40": {
      "model_module": "@jupyter-widgets/base",
      "model_module_version": "1.2.0",
      "model_name": "LayoutModel",
      "state": {}
     },
     "6a1303f739d2498e8912119d37762cb7": {
      "model_module": "@jupyter-widgets/controls",
      "model_module_version": "1.5.0",
      "model_name": "DescriptionStyleModel",
      "state": {
       "description_width": ""
      }
     },
     "6a2c38ac755747e2b914333e962dc2fb": {
      "model_module": "jupyter-leaflet",
      "model_module_version": "^0.14.0",
      "model_name": "LeafletMarkerModel",
      "state": {
       "_model_module_version": "^0.14.0",
       "_view_module_version": "^0.14.0",
       "icon": "IPY_MODEL_3ef64326d24a4a38b67682019d2937b0",
       "location": [
        44.52897,
        -125.38966
       ],
       "options": [
        "alt",
        "draggable",
        "keyboard",
        "rise_offset",
        "rise_on_hover",
        "rotation_angle",
        "rotation_origin",
        "title",
        "z_index_offset"
       ],
       "popup": "IPY_MODEL_80254dc72fa34f8abbe2fc760c661b78"
      }
     },
     "6a2e9327543a4dd9b7ffce56ba63ec19": {
      "model_module": "@jupyter-widgets/controls",
      "model_module_version": "1.5.0",
      "model_name": "DescriptionStyleModel",
      "state": {
       "description_width": ""
      }
     },
     "6a863680a6ce4d98bb4e1d15de08db28": {
      "model_module": "@jupyter-widgets/base",
      "model_module_version": "1.2.0",
      "model_name": "LayoutModel",
      "state": {}
     },
     "6aafbe919f6747718037465a862e8b5b": {
      "model_module": "@jupyter-widgets/base",
      "model_module_version": "1.2.0",
      "model_name": "LayoutModel",
      "state": {}
     },
     "6abd1449556e40d286aef71cae3a2e5c": {
      "model_module": "@jupyter-widgets/base",
      "model_module_version": "1.2.0",
      "model_name": "LayoutModel",
      "state": {}
     },
     "6bc7df848c83453fa33a4c161958352d": {
      "model_module": "@jupyter-widgets/controls",
      "model_module_version": "1.5.0",
      "model_name": "DescriptionStyleModel",
      "state": {
       "description_width": ""
      }
     },
     "6bd79e4c42eb44bb8235b22d327d3628": {
      "model_module": "@jupyter-widgets/controls",
      "model_module_version": "1.5.0",
      "model_name": "DescriptionStyleModel",
      "state": {
       "description_width": ""
      }
     },
     "6c2bd09b4de4488f9f555fecd4cf86c7": {
      "model_module": "@jupyter-widgets/controls",
      "model_module_version": "1.5.0",
      "model_name": "DescriptionStyleModel",
      "state": {
       "description_width": ""
      }
     },
     "6c8dfecfd9ff4fac99f1bc2c42a4946b": {
      "model_module": "@jupyter-widgets/controls",
      "model_module_version": "1.5.0",
      "model_name": "HTMLModel",
      "state": {
       "layout": "IPY_MODEL_f830547866dc402e9afa0e9d77f62dc3",
       "style": "IPY_MODEL_cda38f35c634412fbb6a905c8fc77f3a",
       "value": "<table border=\"1\" class=\"dataframe table table-striped table-hover table-condensed table-responsive\">\n  <thead>\n    <tr style=\"text-align: right;\">\n      <th></th>\n      <th>77</th>\n    </tr>\n  </thead>\n  <tbody>\n    <tr>\n      <th>Institution</th>\n      <td>Northwest Association of Networked Ocean Observing Systems (NANOOS)</td>\n    </tr>\n    <tr>\n      <th>Dataset ID</th>\n      <td>nanoos_psi_nahcotta</td>\n    </tr>\n  </tbody>\n</table>"
      }
     },
     "6d14fd9402c34e4f912a31485f49e00a": {
      "model_module": "jupyter-leaflet",
      "model_module_version": "^0.14.0",
      "model_name": "LeafletAwesomeIconModel",
      "state": {
       "_model_module_version": "^0.14.0",
       "_view_module_version": "^0.14.0",
       "icon_color": "white",
       "marker_color": "orange",
       "name": "life-ring"
      }
     },
     "6d1e98f8e19441d8bb1d5ca7dc5e6566": {
      "model_module": "@jupyter-widgets/base",
      "model_module_version": "1.2.0",
      "model_name": "LayoutModel",
      "state": {}
     },
     "6d67fc39ef574f78a1480be3d6ae7c78": {
      "model_module": "jupyter-leaflet",
      "model_module_version": "^0.14.0",
      "model_name": "LeafletAwesomeIconModel",
      "state": {
       "_model_module_version": "^0.14.0",
       "_view_module_version": "^0.14.0",
       "icon_color": "white",
       "marker_color": "orange",
       "name": "life-ring"
      }
     },
     "6d82ff5862be4a18b1e813a42f780bf4": {
      "model_module": "jupyter-leaflet",
      "model_module_version": "^0.14.0",
      "model_name": "LeafletAwesomeIconModel",
      "state": {
       "_model_module_version": "^0.14.0",
       "_view_module_version": "^0.14.0",
       "icon_color": "white",
       "marker_color": "orange",
       "name": "life-ring"
      }
     },
     "6db0258223a04abd940cc64a05c97a57": {
      "model_module": "jupyter-leaflet",
      "model_module_version": "^0.14.0",
      "model_name": "LeafletTileLayerModel",
      "state": {
       "_model_module_version": "^0.14.0",
       "_view_module_version": "^0.14.0",
       "base": true,
       "max_native_zoom": 18,
       "max_zoom": 19,
       "min_native_zoom": 0,
       "min_zoom": 1,
       "options": [
        "attribution",
        "detect_retina",
        "max_native_zoom",
        "max_zoom",
        "min_native_zoom",
        "min_zoom",
        "no_wrap",
        "tile_size",
        "tms"
       ]
      }
     },
     "6e017b364ed94c928126790d145b4b9e": {
      "model_module": "@jupyter-widgets/base",
      "model_module_version": "1.2.0",
      "model_name": "LayoutModel",
      "state": {}
     },
     "6e09ed089c1b466983edadca106211d3": {
      "model_module": "jupyter-leaflet",
      "model_module_version": "^0.14.0",
      "model_name": "LeafletMarkerModel",
      "state": {
       "_model_module_version": "^0.14.0",
       "_view_module_version": "^0.14.0",
       "icon": "IPY_MODEL_679e976f43d14152a245ff513ec0fd80",
       "location": [
        44.51524,
        -125.38981
       ],
       "options": [
        "alt",
        "draggable",
        "keyboard",
        "rise_offset",
        "rise_on_hover",
        "rotation_angle",
        "rotation_origin",
        "title",
        "z_index_offset"
       ],
       "popup": "IPY_MODEL_5bb360cded3941399474036ff0e3e90a"
      }
     },
     "6e209911fa014b119aa42f813c492887": {
      "model_module": "@jupyter-widgets/controls",
      "model_module_version": "1.5.0",
      "model_name": "HTMLModel",
      "state": {
       "layout": "IPY_MODEL_00a0bacce06547b082fa7299cd0f8221",
       "style": "IPY_MODEL_bee1f71c9e714842bc4ff2939ee37819",
       "value": "<table border=\"1\" class=\"dataframe table table-striped table-hover table-condensed table-responsive\">\n  <thead>\n    <tr style=\"text-align: right;\">\n      <th></th>\n      <th>28</th>\n    </tr>\n  </thead>\n  <tbody>\n    <tr>\n      <th>Institution</th>\n      <td>Ocean Observatories Initiative (OOI)</td>\n    </tr>\n    <tr>\n      <th>Dataset ID</th>\n      <td>ooi-ce02shsm-rid26-06-phsend000</td>\n    </tr>\n  </tbody>\n</table>"
      }
     },
     "6e6057f4924b4c3bab4de25134ef5f2e": {
      "model_module": "jupyter-leaflet",
      "model_module_version": "^0.14.0",
      "model_name": "LeafletAwesomeIconModel",
      "state": {
       "_model_module_version": "^0.14.0",
       "_view_module_version": "^0.14.0",
       "icon_color": "white",
       "name": "life-ring"
      }
     },
     "6f10fa38b5d44e59872b49e8c86275f3": {
      "model_module": "@jupyter-widgets/base",
      "model_module_version": "1.2.0",
      "model_name": "LayoutModel",
      "state": {}
     },
     "6f1b684f5c4b444c81883dead42ad60a": {
      "model_module": "@jupyter-widgets/controls",
      "model_module_version": "1.5.0",
      "model_name": "DescriptionStyleModel",
      "state": {
       "description_width": ""
      }
     },
     "6f5e887e5e2d4acfabbca83c2340a34b": {
      "model_module": "jupyter-leaflet",
      "model_module_version": "^0.14.0",
      "model_name": "LeafletAwesomeIconModel",
      "state": {
       "_model_module_version": "^0.14.0",
       "_view_module_version": "^0.14.0",
       "icon_color": "white",
       "name": "life-ring"
      }
     },
     "6f638434d7c4412ab60ab344515c0e74": {
      "model_module": "jupyter-leaflet",
      "model_module_version": "^0.14.0",
      "model_name": "LeafletMarkerModel",
      "state": {
       "_model_module_version": "^0.14.0",
       "_view_module_version": "^0.14.0",
       "icon": "IPY_MODEL_7485cf5ad903455b89d5a497d3b19f07",
       "location": [
        47.1345,
        -124.27087
       ],
       "options": [
        "alt",
        "draggable",
        "keyboard",
        "rise_offset",
        "rise_on_hover",
        "rotation_angle",
        "rotation_origin",
        "title",
        "z_index_offset"
       ],
       "popup": "IPY_MODEL_d64cdbd9f7de40dbb25db11b0f5a7454"
      }
     },
     "70227ff895a14a2099f61936ee1e21bc": {
      "model_module": "jupyter-leaflet",
      "model_module_version": "^0.14.0",
      "model_name": "LeafletAwesomeIconModel",
      "state": {
       "_model_module_version": "^0.14.0",
       "_view_module_version": "^0.14.0",
       "icon_color": "white",
       "marker_color": "orange",
       "name": "life-ring"
      }
     },
     "7031e08a68534b97a8fb7860c2a5ee45": {
      "model_module": "jupyter-leaflet",
      "model_module_version": "^0.14.0",
      "model_name": "LeafletMarkerModel",
      "state": {
       "_model_module_version": "^0.14.0",
       "_view_module_version": "^0.14.0",
       "icon": "IPY_MODEL_b76d312610bb4aef8871fbabf3592aec",
       "location": [
        47.9739990234375,
        -124.955001831055
       ],
       "options": [
        "alt",
        "draggable",
        "keyboard",
        "rise_offset",
        "rise_on_hover",
        "rotation_angle",
        "rotation_origin",
        "title",
        "z_index_offset"
       ],
       "popup": "IPY_MODEL_ef7ab8d946a84c2aa6c2dd823cb4e7f7"
      }
     },
     "70950566fd174fb1897a4708b356bca5": {
      "model_module": "@jupyter-widgets/base",
      "model_module_version": "1.2.0",
      "model_name": "LayoutModel",
      "state": {}
     },
     "70d1ee14d87045659af1b3122c09dd33": {
      "model_module": "jupyter-leaflet",
      "model_module_version": "^0.14.0",
      "model_name": "LeafletAwesomeIconModel",
      "state": {
       "_model_module_version": "^0.14.0",
       "_view_module_version": "^0.14.0",
       "icon_color": "white",
       "name": "life-ring"
      }
     },
     "70e42c89e70e4406bb6430ff6e89cfba": {
      "model_module": "jupyter-leaflet",
      "model_module_version": "^0.14.0",
      "model_name": "LeafletAwesomeIconModel",
      "state": {
       "_model_module_version": "^0.14.0",
       "_view_module_version": "^0.14.0",
       "icon_color": "white",
       "marker_color": "orange",
       "name": "life-ring"
      }
     },
     "71393efcf7a84c18b0be815cd19eb3a5": {
      "model_module": "jupyter-leaflet",
      "model_module_version": "^0.14.0",
      "model_name": "LeafletMarkerModel",
      "state": {
       "_model_module_version": "^0.14.0",
       "_view_module_version": "^0.14.0",
       "icon": "IPY_MODEL_6d82ff5862be4a18b1e813a42f780bf4",
       "location": [
        47.1345,
        -124.27087
       ],
       "options": [
        "alt",
        "draggable",
        "keyboard",
        "rise_offset",
        "rise_on_hover",
        "rotation_angle",
        "rotation_origin",
        "title",
        "z_index_offset"
       ],
       "popup": "IPY_MODEL_93bcb5ae90894b8a9825a3c1382ee319"
      }
     },
     "716d537a61a84ae08d9d21af46e0dcd2": {
      "model_module": "jupyter-leaflet",
      "model_module_version": "^0.14.0",
      "model_name": "LeafletMarkerModel",
      "state": {
       "_model_module_version": "^0.14.0",
       "_view_module_version": "^0.14.0",
       "icon": "IPY_MODEL_f19fdf630ddf45deb783d9ff107c6a5c",
       "location": [
        44.65678,
        -124.09707
       ],
       "options": [
        "alt",
        "draggable",
        "keyboard",
        "rise_offset",
        "rise_on_hover",
        "rotation_angle",
        "rotation_origin",
        "title",
        "z_index_offset"
       ],
       "popup": "IPY_MODEL_98b68eea50114bdc9581fe5f971240f8"
      }
     },
     "7189d8fc11024f26bb6a9151e235d317": {
      "model_module": "jupyter-leaflet",
      "model_module_version": "^0.14.0",
      "model_name": "LeafletMarkerModel",
      "state": {
       "_model_module_version": "^0.14.0",
       "_view_module_version": "^0.14.0",
       "icon": "IPY_MODEL_6d67fc39ef574f78a1480be3d6ae7c78",
       "location": [
        44.63577,
        -124.3035
       ],
       "options": [
        "alt",
        "draggable",
        "keyboard",
        "rise_offset",
        "rise_on_hover",
        "rotation_angle",
        "rotation_origin",
        "title",
        "z_index_offset"
       ],
       "popup": "IPY_MODEL_2b08856fcbde45649d2063d2808089e1"
      }
     },
     "718cddba72a2495185f6382079260456": {
      "model_module": "jupyter-leaflet",
      "model_module_version": "^0.14.0",
      "model_name": "LeafletAwesomeIconModel",
      "state": {
       "_model_module_version": "^0.14.0",
       "_view_module_version": "^0.14.0",
       "icon_color": "white",
       "marker_color": "orange",
       "name": "life-ring"
      }
     },
     "71bbeb87d8a64b47903168ef6121474b": {
      "model_module": "@jupyter-widgets/controls",
      "model_module_version": "1.5.0",
      "model_name": "DescriptionStyleModel",
      "state": {
       "description_width": ""
      }
     },
     "71d0878c367542aebbcb9ead76cd2976": {
      "model_module": "@jupyter-widgets/base",
      "model_module_version": "1.2.0",
      "model_name": "LayoutModel",
      "state": {}
     },
     "71e83c0f8d21418683f7ebbf8915b9a2": {
      "model_module": "jupyter-leaflet",
      "model_module_version": "^0.14.0",
      "model_name": "LeafletAwesomeIconModel",
      "state": {
       "_model_module_version": "^0.14.0",
       "_view_module_version": "^0.14.0",
       "icon_color": "white",
       "marker_color": "orange",
       "name": "life-ring"
      }
     },
     "71fcb309a2334e27b11fc557253eb486": {
      "model_module": "@jupyter-widgets/controls",
      "model_module_version": "1.5.0",
      "model_name": "DescriptionStyleModel",
      "state": {
       "description_width": ""
      }
     },
     "7223332681f745d18709dbcdde6f6d41": {
      "model_module": "@jupyter-widgets/base",
      "model_module_version": "1.2.0",
      "model_name": "LayoutModel",
      "state": {}
     },
     "722418cd08b94e40a030fa2fb25e384d": {
      "model_module": "jupyter-leaflet",
      "model_module_version": "^0.14.0",
      "model_name": "LeafletMarkerModel",
      "state": {
       "_model_module_version": "^0.14.0",
       "_view_module_version": "^0.14.0",
       "icon": "IPY_MODEL_0f9a3c3c23604f06bcecbafc4b42bff5",
       "location": [
        46.6290016174316,
        -123.951599121094
       ],
       "options": [
        "alt",
        "draggable",
        "keyboard",
        "rise_offset",
        "rise_on_hover",
        "rotation_angle",
        "rotation_origin",
        "title",
        "z_index_offset"
       ],
       "popup": "IPY_MODEL_806a5492ae3e40a997971f7621069168"
      }
     },
     "725033bac50d4f1ba0dbfb784b042974": {
      "model_module": "@jupyter-widgets/controls",
      "model_module_version": "1.5.0",
      "model_name": "HTMLModel",
      "state": {
       "layout": "IPY_MODEL_77f10ecc95c047c7be979bc7cd5fa7bd",
       "style": "IPY_MODEL_c46bc3cc4e3b4d6f8821ba41b8cd6b19",
       "value": "<table border=\"1\" class=\"dataframe table table-striped table-hover table-condensed table-responsive\">\n  <thead>\n    <tr style=\"text-align: right;\">\n      <th></th>\n      <th>35</th>\n    </tr>\n  </thead>\n  <tbody>\n    <tr>\n      <th>Institution</th>\n      <td>Ocean Observatories Initiative (OOI)</td>\n    </tr>\n    <tr>\n      <th>Dataset ID</th>\n      <td>ooi-ce06issm-rid16-06-phsend000</td>\n    </tr>\n  </tbody>\n</table>"
      }
     },
     "7272c877527a4baea9b8b42631073b10": {
      "model_module": "jupyter-leaflet",
      "model_module_version": "^0.14.0",
      "model_name": "LeafletMarkerModel",
      "state": {
       "_model_module_version": "^0.14.0",
       "_view_module_version": "^0.14.0",
       "icon": "IPY_MODEL_98d0ce373f0040e89c6e02d79b3cffc5",
       "location": [
        46.98648,
        -124.56923
       ],
       "options": [
        "alt",
        "draggable",
        "keyboard",
        "rise_offset",
        "rise_on_hover",
        "rotation_angle",
        "rotation_origin",
        "title",
        "z_index_offset"
       ],
       "popup": "IPY_MODEL_a96fd716b090402899d48244c635d19c"
      }
     },
     "72d66f570cc9430c8e9630e16d694878": {
      "model_module": "@jupyter-widgets/controls",
      "model_module_version": "1.5.0",
      "model_name": "HTMLModel",
      "state": {
       "layout": "IPY_MODEL_3e538c47e67e447db95b09bb3b70c468",
       "style": "IPY_MODEL_b2eefe3427244f9eb00b26703473659a",
       "value": "<table border=\"1\" class=\"dataframe table table-striped table-hover table-condensed table-responsive\">\n  <thead>\n    <tr style=\"text-align: right;\">\n      <th></th>\n      <th>62</th>\n    </tr>\n  </thead>\n  <tbody>\n    <tr>\n      <th>Institution</th>\n      <td>Ocean Observatories Initiative (OOI)</td>\n    </tr>\n    <tr>\n      <th>Dataset ID</th>\n      <td>ooi-rs01sbps-pc01a-4b-phsena102</td>\n    </tr>\n  </tbody>\n</table>"
      }
     },
     "738534c117c9411786333e917d24799a": {
      "model_module": "@jupyter-widgets/controls",
      "model_module_version": "1.5.0",
      "model_name": "HTMLModel",
      "state": {
       "layout": "IPY_MODEL_4301573475e1468785afe241c6af4306",
       "style": "IPY_MODEL_7e69b6e536344c488a3d9a4203c89a93",
       "value": "<table border=\"1\" class=\"dataframe table table-striped table-hover table-condensed table-responsive\">\n  <thead>\n    <tr style=\"text-align: right;\">\n      <th></th>\n      <th>58</th>\n    </tr>\n  </thead>\n  <tbody>\n    <tr>\n      <th>Institution</th>\n      <td>Ocean Observatories Initiative (OOI)</td>\n    </tr>\n    <tr>\n      <th>Dataset ID</th>\n      <td>ooi-ce07shsm-sbd11-06-metbka000</td>\n    </tr>\n  </tbody>\n</table>"
      }
     },
     "738c0a646dda4b48b7345777dfb8a601": {
      "model_module": "@jupyter-widgets/controls",
      "model_module_version": "1.5.0",
      "model_name": "DescriptionStyleModel",
      "state": {
       "description_width": ""
      }
     },
     "73984a17f70e421ca70f29d19f888682": {
      "model_module": "jupyter-leaflet",
      "model_module_version": "^0.14.0",
      "model_name": "LeafletAwesomeIconModel",
      "state": {
       "_model_module_version": "^0.14.0",
       "_view_module_version": "^0.14.0",
       "icon_color": "white",
       "marker_color": "orange",
       "name": "life-ring"
      }
     },
     "73a859167b92493995dab8bdb0e37b2c": {
      "model_module": "jupyter-leaflet",
      "model_module_version": "^0.14.0",
      "model_name": "LeafletAwesomeIconModel",
      "state": {
       "_model_module_version": "^0.14.0",
       "_view_module_version": "^0.14.0",
       "icon_color": "white",
       "marker_color": "orange",
       "name": "life-ring"
      }
     },
     "73c85be61ee34a2aaae3b546dc743673": {
      "model_module": "jupyter-leaflet",
      "model_module_version": "^0.14.0",
      "model_name": "LeafletAwesomeIconModel",
      "state": {
       "_model_module_version": "^0.14.0",
       "_view_module_version": "^0.14.0",
       "icon_color": "white",
       "name": "life-ring"
      }
     },
     "7485cf5ad903455b89d5a497d3b19f07": {
      "model_module": "jupyter-leaflet",
      "model_module_version": "^0.14.0",
      "model_name": "LeafletAwesomeIconModel",
      "state": {
       "_model_module_version": "^0.14.0",
       "_view_module_version": "^0.14.0",
       "icon_color": "white",
       "marker_color": "orange",
       "name": "life-ring"
      }
     },
     "74b096c74bb04e4da7ce31c5014f7aeb": {
      "model_module": "jupyter-leaflet",
      "model_module_version": "^0.14.0",
      "model_name": "LeafletAwesomeIconModel",
      "state": {
       "_model_module_version": "^0.14.0",
       "_view_module_version": "^0.14.0",
       "icon_color": "white",
       "marker_color": "orange",
       "name": "life-ring"
      }
     },
     "74d3ed55900f411798f9cd8873490ef2": {
      "model_module": "@jupyter-widgets/controls",
      "model_module_version": "1.5.0",
      "model_name": "DescriptionStyleModel",
      "state": {
       "description_width": ""
      }
     },
     "74dea4953409403dbfad91f4764070a7": {
      "model_module": "@jupyter-widgets/controls",
      "model_module_version": "1.5.0",
      "model_name": "HTMLModel",
      "state": {
       "layout": "IPY_MODEL_cbefa7f6fdd141c9879e53902a0d00fe",
       "style": "IPY_MODEL_6bc7df848c83453fa33a4c161958352d",
       "value": "<table border=\"1\" class=\"dataframe table table-striped table-hover table-condensed table-responsive\">\n  <thead>\n    <tr style=\"text-align: right;\">\n      <th></th>\n      <th>65</th>\n    </tr>\n  </thead>\n  <tbody>\n    <tr>\n      <th>Institution</th>\n      <td>Observing System Monitoring Center (OSMC)</td>\n    </tr>\n    <tr>\n      <th>Dataset ID</th>\n      <td>osmc_46098</td>\n    </tr>\n  </tbody>\n</table>"
      }
     },
     "74e40a553e09452e932031a71968c56f": {
      "model_module": "jupyter-leaflet",
      "model_module_version": "^0.14.0",
      "model_name": "LeafletMarkerModel",
      "state": {
       "_model_module_version": "^0.14.0",
       "_view_module_version": "^0.14.0",
       "icon": "IPY_MODEL_56b77906caf34e9d92a28a1062aa8888",
       "location": [
        46.98648,
        -124.56923
       ],
       "options": [
        "alt",
        "draggable",
        "keyboard",
        "rise_offset",
        "rise_on_hover",
        "rotation_angle",
        "rotation_origin",
        "title",
        "z_index_offset"
       ],
       "popup": "IPY_MODEL_32515d2cc89e41c6b4ef865096e6541a"
      }
     },
     "751a09ccd6cd4108ad6661c68f34175e": {
      "model_module": "jupyter-leaflet",
      "model_module_version": "^0.14.0",
      "model_name": "LeafletAwesomeIconModel",
      "state": {
       "_model_module_version": "^0.14.0",
       "_view_module_version": "^0.14.0",
       "icon_color": "white",
       "marker_color": "orange",
       "name": "life-ring"
      }
     },
     "7568a09a860b45bb97bd4cd554b57e80": {
      "model_module": "@jupyter-widgets/base",
      "model_module_version": "1.2.0",
      "model_name": "LayoutModel",
      "state": {}
     },
     "75a2db0044cf455885366f7f07ec4cbf": {
      "model_module": "@jupyter-widgets/controls",
      "model_module_version": "1.5.0",
      "model_name": "DescriptionStyleModel",
      "state": {
       "description_width": ""
      }
     },
     "76045c41001e43f8b18b4cab857cf0bd": {
      "model_module": "jupyter-leaflet",
      "model_module_version": "^0.14.0",
      "model_name": "LeafletMarkerModel",
      "state": {
       "_model_module_version": "^0.14.0",
       "_view_module_version": "^0.14.0",
       "icon": "IPY_MODEL_651d681866ae43e7995b48de8c9a760b",
       "location": [
        44.3695,
        -124.95369
       ],
       "options": [
        "alt",
        "draggable",
        "keyboard",
        "rise_offset",
        "rise_on_hover",
        "rotation_angle",
        "rotation_origin",
        "title",
        "z_index_offset"
       ],
       "popup": "IPY_MODEL_2336cf2854c145df9c6c02e2aee4ae68"
      }
     },
     "7689028f4ad844c48a676f8c347803d6": {
      "model_module": "@jupyter-widgets/controls",
      "model_module_version": "1.5.0",
      "model_name": "HTMLModel",
      "state": {
       "layout": "IPY_MODEL_da5c7bd873de4fd9a13208048e5cf20c",
       "style": "IPY_MODEL_d4e3a576fe3b43ebbedab278b2e9d6a9",
       "value": "<table border=\"1\" class=\"dataframe table table-striped table-hover table-condensed table-responsive\">\n  <thead>\n    <tr style=\"text-align: right;\">\n      <th></th>\n      <th>75</th>\n    </tr>\n  </thead>\n  <tbody>\n    <tr>\n      <th>Institution</th>\n      <td>NOAA Pacific Marine Environmental Lab (PMEL)</td>\n    </tr>\n    <tr>\n      <th>Dataset ID</th>\n      <td>gov_ornl_cdiac_lapush_125w_48n</td>\n    </tr>\n  </tbody>\n</table>"
      }
     },
     "76a1b273a899404e807d006d25009508": {
      "model_module": "jupyter-leaflet",
      "model_module_version": "^0.14.0",
      "model_name": "LeafletMarkerModel",
      "state": {
       "_model_module_version": "^0.14.0",
       "_view_module_version": "^0.14.0",
       "icon": "IPY_MODEL_e6eb66eba7474b40b6888d71fde871e8",
       "location": [
        46.98648,
        -124.56923
       ],
       "options": [
        "alt",
        "draggable",
        "keyboard",
        "rise_offset",
        "rise_on_hover",
        "rotation_angle",
        "rotation_origin",
        "title",
        "z_index_offset"
       ],
       "popup": "IPY_MODEL_df72b93cdbdd4b3a97ed77444991a083"
      }
     },
     "76b50e1b0b8641eabb17478307be5d79": {
      "model_module": "@jupyter-widgets/base",
      "model_module_version": "1.2.0",
      "model_name": "LayoutModel",
      "state": {}
     },
     "76cb07da6b6947a58aeaf5a6cbceb332": {
      "model_module": "@jupyter-widgets/controls",
      "model_module_version": "1.5.0",
      "model_name": "HTMLModel",
      "state": {
       "layout": "IPY_MODEL_e8dcce4d5362461c9b68d8305b274207",
       "style": "IPY_MODEL_ddcfbb756dff46b9bcfdc1e44f55b2ab",
       "value": "<table border=\"1\" class=\"dataframe table table-striped table-hover table-condensed table-responsive\">\n  <thead>\n    <tr style=\"text-align: right;\">\n      <th></th>\n      <th>77</th>\n    </tr>\n  </thead>\n  <tbody>\n    <tr>\n      <th>Institution</th>\n      <td>Northwest Association of Networked Ocean Observing Systems (NANOOS)</td>\n    </tr>\n    <tr>\n      <th>Dataset ID</th>\n      <td>nanoos_psi_nahcotta</td>\n    </tr>\n  </tbody>\n</table>"
      }
     },
     "7768ce666e3c4d79b66c93e47beb6f09": {
      "model_module": "@jupyter-widgets/base",
      "model_module_version": "1.2.0",
      "model_name": "LayoutModel",
      "state": {}
     },
     "779babd8f0a3441f909b3a84cccace6c": {
      "model_module": "jupyter-leaflet",
      "model_module_version": "^0.14.0",
      "model_name": "LeafletAwesomeIconModel",
      "state": {
       "_model_module_version": "^0.14.0",
       "_view_module_version": "^0.14.0",
       "icon_color": "white",
       "marker_color": "orange",
       "name": "life-ring"
      }
     },
     "77bbeb10140246cc94ea08170ab566bd": {
      "model_module": "@jupyter-widgets/controls",
      "model_module_version": "1.5.0",
      "model_name": "DescriptionStyleModel",
      "state": {
       "description_width": ""
      }
     },
     "77f10ecc95c047c7be979bc7cd5fa7bd": {
      "model_module": "@jupyter-widgets/base",
      "model_module_version": "1.2.0",
      "model_name": "LayoutModel",
      "state": {}
     },
     "780df40d629d49b2816fa494648ae23a": {
      "model_module": "jupyter-leaflet",
      "model_module_version": "^0.14.0",
      "model_name": "LeafletMarkerModel",
      "state": {
       "_model_module_version": "^0.14.0",
       "_view_module_version": "^0.14.0",
       "icon": "IPY_MODEL_310c7e4fc6fb48828a68c12705e96a07",
       "location": [
        47.9739990234375,
        -124.955001831055
       ],
       "options": [
        "alt",
        "draggable",
        "keyboard",
        "rise_offset",
        "rise_on_hover",
        "rotation_angle",
        "rotation_origin",
        "title",
        "z_index_offset"
       ],
       "popup": "IPY_MODEL_a276bd348e0940fa8db692557590fe4e"
      }
     },
     "78822c8668de43a4939b545b791e483f": {
      "model_module": "@jupyter-widgets/controls",
      "model_module_version": "1.5.0",
      "model_name": "HTMLModel",
      "state": {
       "layout": "IPY_MODEL_d4c701ae7f8448d8b23c25148fed5adb",
       "style": "IPY_MODEL_c65ea4c583ad40a7944d12823b2815aa",
       "value": "<table border=\"1\" class=\"dataframe table table-striped table-hover table-condensed table-responsive\">\n  <thead>\n    <tr style=\"text-align: right;\">\n      <th></th>\n      <th>48</th>\n    </tr>\n  </thead>\n  <tbody>\n    <tr>\n      <th>Institution</th>\n      <td>Ocean Observatories Initiative (OOI)</td>\n    </tr>\n    <tr>\n      <th>Dataset ID</th>\n      <td>ooi-ce09ossm-sbd11-06-metbka000</td>\n    </tr>\n  </tbody>\n</table>"
      }
     },
     "789e3fe69a3c45f7bd0dfab6cda20df9": {
      "model_module": "@jupyter-widgets/controls",
      "model_module_version": "1.5.0",
      "model_name": "HTMLModel",
      "state": {
       "layout": "IPY_MODEL_f0560707c3be4b6ea92cb127fbc6068f",
       "style": "IPY_MODEL_738c0a646dda4b48b7345777dfb8a601",
       "value": "<table border=\"1\" class=\"dataframe table table-striped table-hover table-condensed table-responsive\">\n  <thead>\n    <tr style=\"text-align: right;\">\n      <th></th>\n      <th>58</th>\n    </tr>\n  </thead>\n  <tbody>\n    <tr>\n      <th>Institution</th>\n      <td>Ocean Observatories Initiative (OOI)</td>\n    </tr>\n    <tr>\n      <th>Dataset ID</th>\n      <td>ooi-ce07shsm-sbd11-06-metbka000</td>\n    </tr>\n  </tbody>\n</table>"
      }
     },
     "78ad84aa22424f6cb932a22b495de03b": {
      "model_module": "jupyter-leaflet",
      "model_module_version": "^0.14.0",
      "model_name": "LeafletAwesomeIconModel",
      "state": {
       "_model_module_version": "^0.14.0",
       "_view_module_version": "^0.14.0",
       "icon_color": "white",
       "marker_color": "orange",
       "name": "life-ring"
      }
     },
     "78d95510305140bca5d5a1b0847a1e48": {
      "model_module": "@jupyter-widgets/base",
      "model_module_version": "1.2.0",
      "model_name": "LayoutModel",
      "state": {}
     },
     "78e4bcd662fc43789d6477c0395022ca": {
      "model_module": "@jupyter-widgets/controls",
      "model_module_version": "1.5.0",
      "model_name": "HTMLModel",
      "state": {
       "layout": "IPY_MODEL_f72c8cc40b7e466c83d27820936841e5",
       "style": "IPY_MODEL_839b55975afb4778a1eaae55bbd75008",
       "value": "<table border=\"1\" class=\"dataframe table table-striped table-hover table-condensed table-responsive\">\n  <thead>\n    <tr style=\"text-align: right;\">\n      <th></th>\n      <th>15</th>\n    </tr>\n  </thead>\n  <tbody>\n    <tr>\n      <th>Institution</th>\n      <td>Ocean Observatories Initiative (OOI)</td>\n    </tr>\n    <tr>\n      <th>Dataset ID</th>\n      <td>ooi-ce04ossm-rid27-02-flortd000</td>\n    </tr>\n  </tbody>\n</table>"
      }
     },
     "78ed3e394fe847c8854d5f6664573b5d": {
      "model_module": "jupyter-leaflet",
      "model_module_version": "^0.14.0",
      "model_name": "LeafletMarkerModel",
      "state": {
       "_model_module_version": "^0.14.0",
       "_view_module_version": "^0.14.0",
       "icon": "IPY_MODEL_c3f7aa96f67e4e19b369b6db4ceed932",
       "location": [
        44.52897,
        -125.38966
       ],
       "options": [
        "alt",
        "draggable",
        "keyboard",
        "rise_offset",
        "rise_on_hover",
        "rotation_angle",
        "rotation_origin",
        "title",
        "z_index_offset"
       ],
       "popup": "IPY_MODEL_c49a3d426d0046f9beceff1fed73c635"
      }
     },
     "791a7f2c676047f1840baf8730485edb": {
      "model_module": "jupyter-leaflet",
      "model_module_version": "^0.14.0",
      "model_name": "LeafletMarkerModel",
      "state": {
       "_model_module_version": "^0.14.0",
       "_view_module_version": "^0.14.0",
       "icon": "IPY_MODEL_0e9a66af367e453cb012f568d3e21123",
       "location": [
        46.85367,
        -124.95935
       ],
       "options": [
        "alt",
        "draggable",
        "keyboard",
        "rise_offset",
        "rise_on_hover",
        "rotation_angle",
        "rotation_origin",
        "title",
        "z_index_offset"
       ],
       "popup": "IPY_MODEL_c22a5ca50e79463682888f3a2a36da4d"
      }
     },
     "79709e1126db4a48af1a848aa54c8ed6": {
      "model_module": "@jupyter-widgets/controls",
      "model_module_version": "1.5.0",
      "model_name": "HTMLModel",
      "state": {
       "layout": "IPY_MODEL_558066e83b5641a28559bd2fd088f47b",
       "style": "IPY_MODEL_81b78669472245cc862fd72caecb99a8",
       "value": "<table border=\"1\" class=\"dataframe table table-striped table-hover table-condensed table-responsive\">\n  <thead>\n    <tr style=\"text-align: right;\">\n      <th></th>\n      <th>69</th>\n    </tr>\n  </thead>\n  <tbody>\n    <tr>\n      <th>Institution</th>\n      <td>Northwest Association of Networked Ocean Observing Systems (NANOOS)</td>\n    </tr>\n    <tr>\n      <th>Dataset ID</th>\n      <td>nanoos_apl_chaba</td>\n    </tr>\n  </tbody>\n</table>"
      }
     },
     "79ac80d10a9e4a94b0262cb77b088d82": {
      "model_module": "jupyter-leaflet",
      "model_module_version": "^0.14.0",
      "model_name": "LeafletAwesomeIconModel",
      "state": {
       "_model_module_version": "^0.14.0",
       "_view_module_version": "^0.14.0",
       "icon_color": "white",
       "marker_color": "orange",
       "name": "life-ring"
      }
     },
     "79c7c70335704169b87229dd96e084ef": {
      "model_module": "@jupyter-widgets/controls",
      "model_module_version": "1.5.0",
      "model_name": "HTMLModel",
      "state": {
       "layout": "IPY_MODEL_d2c0991ec1774b3e9b21555fb88443fe",
       "style": "IPY_MODEL_6a1303f739d2498e8912119d37762cb7",
       "value": "<table border=\"1\" class=\"dataframe table table-striped table-hover table-condensed table-responsive\">\n  <thead>\n    <tr style=\"text-align: right;\">\n      <th></th>\n      <th>4</th>\n    </tr>\n  </thead>\n  <tbody>\n    <tr>\n      <th>Institution</th>\n      <td>Ocean Observatories Initiative (OOI)</td>\n    </tr>\n    <tr>\n      <th>Dataset ID</th>\n      <td>ooi-ce01issm-rid16-06-phsend000</td>\n    </tr>\n  </tbody>\n</table>"
      }
     },
     "79db8c90898a497a96f48d13e4382152": {
      "model_module": "@jupyter-widgets/base",
      "model_module_version": "1.2.0",
      "model_name": "LayoutModel",
      "state": {}
     },
     "7a14e1c1c714460fb16063b3d635b0fc": {
      "model_module": "jupyter-leaflet",
      "model_module_version": "^0.14.0",
      "model_name": "LeafletAwesomeIconModel",
      "state": {
       "_model_module_version": "^0.14.0",
       "_view_module_version": "^0.14.0",
       "icon_color": "white",
       "marker_color": "orange",
       "name": "life-ring"
      }
     },
     "7a333b8004b14d89b9f14ce0752d127a": {
      "model_module": "jupyter-leaflet",
      "model_module_version": "^0.14.0",
      "model_name": "LeafletAttributionControlModel",
      "state": {
       "_model_module_version": "^0.14.0",
       "_view_module_version": "^0.14.0",
       "options": [
        "position",
        "prefix"
       ],
       "position": "bottomright",
       "prefix": "ipyleaflet"
      }
     },
     "7a36a0ca395e4264b3e7a47ecb8b8c78": {
      "model_module": "jupyter-leaflet",
      "model_module_version": "^0.14.0",
      "model_name": "LeafletAwesomeIconModel",
      "state": {
       "_model_module_version": "^0.14.0",
       "_view_module_version": "^0.14.0",
       "icon_color": "white",
       "marker_color": "orange",
       "name": "life-ring"
      }
     },
     "7ae96e9b3b7244d380321b6f87ad923c": {
      "model_module": "jupyter-leaflet",
      "model_module_version": "^0.14.0",
      "model_name": "LeafletMarkerModel",
      "state": {
       "_model_module_version": "^0.14.0",
       "_view_module_version": "^0.14.0",
       "icon": "IPY_MODEL_0303d5d408ad47c9a1567aa8d3b9d050",
       "location": [
        44.65678,
        -124.09707
       ],
       "options": [
        "alt",
        "draggable",
        "keyboard",
        "rise_offset",
        "rise_on_hover",
        "rotation_angle",
        "rotation_origin",
        "title",
        "z_index_offset"
       ],
       "popup": "IPY_MODEL_23027bb1dda34e35a4c5061e128a2edf"
      }
     },
     "7b974f6ebd864847abfee4218a7128a7": {
      "model_module": "@jupyter-widgets/base",
      "model_module_version": "1.2.0",
      "model_name": "LayoutModel",
      "state": {}
     },
     "7be111d805c2475daa10c7512dd535e5": {
      "model_module": "@jupyter-widgets/controls",
      "model_module_version": "1.5.0",
      "model_name": "DescriptionStyleModel",
      "state": {
       "description_width": ""
      }
     },
     "7c3911c878fc4fbea9041fcb278fc563": {
      "model_module": "@jupyter-widgets/controls",
      "model_module_version": "1.5.0",
      "model_name": "DescriptionStyleModel",
      "state": {
       "description_width": ""
      }
     },
     "7c4051ab0af243f1ad62bd43694e8741": {
      "model_module": "jupyter-leaflet",
      "model_module_version": "^0.14.0",
      "model_name": "LeafletAwesomeIconModel",
      "state": {
       "_model_module_version": "^0.14.0",
       "_view_module_version": "^0.14.0",
       "icon_color": "white",
       "marker_color": "orange",
       "name": "life-ring"
      }
     },
     "7c6f09092d3d448d95a92edab82c731c": {
      "model_module": "@jupyter-widgets/controls",
      "model_module_version": "1.5.0",
      "model_name": "DescriptionStyleModel",
      "state": {
       "description_width": ""
      }
     },
     "7c962f0fc6b74df1a543a5758c85a3d7": {
      "model_module": "jupyter-leaflet",
      "model_module_version": "^0.14.0",
      "model_name": "LeafletAwesomeIconModel",
      "state": {
       "_model_module_version": "^0.14.0",
       "_view_module_version": "^0.14.0",
       "icon_color": "white",
       "name": "life-ring"
      }
     },
     "7cbc68b1930f4ae89b8194594e9d7fab": {
      "model_module": "jupyter-leaflet",
      "model_module_version": "^0.14.0",
      "model_name": "LeafletMapStyleModel",
      "state": {
       "_model_module_version": "^0.14.0"
      }
     },
     "7cc451b789f943899f5c823449c4330d": {
      "model_module": "jupyter-leaflet",
      "model_module_version": "^0.14.0",
      "model_name": "LeafletMapModel",
      "state": {
       "_model_module_version": "^0.14.0",
       "_view_module_version": "^0.14.0",
       "bottom": 6061,
       "center": [
        45.5,
        -125.375
       ],
       "controls": [
        "IPY_MODEL_02c1935716794e939f6face561d73209",
        "IPY_MODEL_bd21ce721e364848a94058d3a5384bb3",
        "IPY_MODEL_67bcc5ae045341e1989f3e501c6ff149",
        "IPY_MODEL_87ce710a10b64eb6be41e13123122b0f"
       ],
       "default_style": "IPY_MODEL_80b60db65e2145aa993e371978a40122",
       "dragging_style": "IPY_MODEL_9ab6025f6b144befacf1261d1012b2aa",
       "east": -115.04882812500001,
       "fullscreen": false,
       "interpolation": "bilinear",
       "layers": [
        "IPY_MODEL_6db0258223a04abd940cc64a05c97a57",
        "IPY_MODEL_3d3dbf0031034d8db384dd69ddca9875",
        "IPY_MODEL_b244870723ee41029fcaeaead37ec0f2",
        "IPY_MODEL_06367a2e2baf4c949e442057f4660ca1",
        "IPY_MODEL_fc915bc1c11d478d89cabcb56049b4ff",
        "IPY_MODEL_f9dabeed76b54553b3c288f1a5fecec4",
        "IPY_MODEL_dd24b09fc4f14472b8c0b9258d4f0306",
        "IPY_MODEL_ae8527d9f8a84db88f9accdf76923d18",
        "IPY_MODEL_780df40d629d49b2816fa494648ae23a",
        "IPY_MODEL_d41034cf0a8644b8afbd18760ad8d659",
        "IPY_MODEL_350e6412d8f8480c8ad653b26ce88d35",
        "IPY_MODEL_80fe2357c53d427992e6711e87942cf1",
        "IPY_MODEL_d42465db9a1346d2a0761d1d9d3479a2",
        "IPY_MODEL_a0e3d2dabcbd484fae44d64dcc885b95",
        "IPY_MODEL_915df511e8a3498ba9d7b10e0978e579",
        "IPY_MODEL_cd711a8957904fa9afe267b21ea68081",
        "IPY_MODEL_1fd206a68aa74291a1fac62428fa105f",
        "IPY_MODEL_9dbaaaae305b402e9043b4abd7d1a4ef",
        "IPY_MODEL_3aa37be5d0a242198ed3a639da241b4d",
        "IPY_MODEL_ba86d20e39e1499a82c9ef02757881e4",
        "IPY_MODEL_e34c3c4b747a492187713e2df1bdd0e0",
        "IPY_MODEL_4508b01845574de3936c1525860ae35f",
        "IPY_MODEL_5eaa89780fb04865867078a70f769b7f",
        "IPY_MODEL_f77a942184c441b8ac9623e699022199",
        "IPY_MODEL_e9716236274742d484d68bfa957ac9f6",
        "IPY_MODEL_2fc9f8ce51c1453da640270a8ace111d",
        "IPY_MODEL_12caeb919f0a4db8847393ff1b3a3889",
        "IPY_MODEL_809d95734658426ba47c421a06a48a59",
        "IPY_MODEL_f943f3a8922d46aabefe0d14de872e18",
        "IPY_MODEL_8eea9f9f814643038b3814ab8671a16e",
        "IPY_MODEL_8a63541863554e72b39bfdd39252054c",
        "IPY_MODEL_23403a43cbea40b7be8500a15a94e79e",
        "IPY_MODEL_2855f169fd0b4a0990d5cccd791be575",
        "IPY_MODEL_e2bc74ab2a174de9b8c51c5b9a3acdad",
        "IPY_MODEL_34c94a48f1ae497d8861dc9bab6319fb",
        "IPY_MODEL_ee25211eb1b747279b2b95be90e8da83",
        "IPY_MODEL_f072d315ab0c4d528156d68979571f06",
        "IPY_MODEL_9c33a0feb8174388b69365e618bf77be",
        "IPY_MODEL_f21c4f8e86344a3993b8ede0abd30f0b",
        "IPY_MODEL_aa4f2e50a9f142d485d68ec9b487a0cf",
        "IPY_MODEL_e38d8a833be940558cf4cc90b0b769d2",
        "IPY_MODEL_1bd112226cf34387819ce2bffdaba2a3",
        "IPY_MODEL_7189d8fc11024f26bb6a9151e235d317",
        "IPY_MODEL_52218a83a29e4a2eb3de2b8183af629f",
        "IPY_MODEL_6341156e16f04186bce4d4db7473b1f9",
        "IPY_MODEL_4fac66f994b943d0aa18540126b7c56e",
        "IPY_MODEL_a5e84c909fa14e0fb2d9525b550c9b89",
        "IPY_MODEL_60a75a3e475e40f4acea5e02e171c5b3",
        "IPY_MODEL_f4aa1c0d2f664d79a13fb3564c3a5376",
        "IPY_MODEL_cabf06d759e24e5cba53bb6b8670d536",
        "IPY_MODEL_98ba8dd16d50429a977a4a6ed75b4be1",
        "IPY_MODEL_1c0175df5a8a416fab5844e9c3cf0822",
        "IPY_MODEL_d93ca16131cb444391317dff04f001e4",
        "IPY_MODEL_71393efcf7a84c18b0be815cd19eb3a5",
        "IPY_MODEL_24cb366c2a4f44ba866f539eded29a01",
        "IPY_MODEL_102c108691c64d14a05d2b238a621c49",
        "IPY_MODEL_d9cfc2adbcb34251a43f19415d63e2d2",
        "IPY_MODEL_0a13445913c64e3fb3dade4d1b45ec53",
        "IPY_MODEL_15826698bb9e4ab6842f6ad46b8e8669",
        "IPY_MODEL_a5d35e481fed479b9fbf3879c12d9b4d",
        "IPY_MODEL_185b0bee201c4265a08eba0cad08b42e",
        "IPY_MODEL_f369f35f7d384cfeb53def828479948e",
        "IPY_MODEL_2d908e4401594a248e5a8738e226887a",
        "IPY_MODEL_3fd6b8ed41034455a223ecfb793316aa",
        "IPY_MODEL_2f8c9ac033b04600b2ae9d782dae6a18",
        "IPY_MODEL_1a3fa0cbb79b4d4087fbdb20de5494e3",
        "IPY_MODEL_1d6091757586458395ddec09090de91f",
        "IPY_MODEL_76a1b273a899404e807d006d25009508",
        "IPY_MODEL_dd6c36cf6ea142de99f5f7da48aad95e",
        "IPY_MODEL_0ea95ad08f2b421dafc61b9db036c742",
        "IPY_MODEL_aba297a4ba8e461d8d40d3c42a5e7e20",
        "IPY_MODEL_3d1418c2eb73452ca6dba9b7588f3edd",
        "IPY_MODEL_f291fe3a5db848ddb5e5a57ee4d0ddd8",
        "IPY_MODEL_1b5f63d48e8b458d84cbd07332424e8e",
        "IPY_MODEL_6e09ed089c1b466983edadca106211d3",
        "IPY_MODEL_1253f3f785a84714894e638cd7fea7aa",
        "IPY_MODEL_78ed3e394fe847c8854d5f6664573b5d",
        "IPY_MODEL_8d79568154bb4ab38f093af1d5c849bb"
       ],
       "layout": "IPY_MODEL_ed23be8138f841acb09fe1d1e20c97a7",
       "left": 2017,
       "modisdate": "yesterday",
       "north": 48.50204750525715,
       "options": [
        "bounce_at_zoom_limits",
        "box_zoom",
        "center",
        "close_popup_on_click",
        "double_click_zoom",
        "dragging",
        "fullscreen",
        "inertia",
        "inertia_deceleration",
        "inertia_max_speed",
        "interpolation",
        "keyboard",
        "keyboard_pan_offset",
        "keyboard_zoom_offset",
        "max_zoom",
        "min_zoom",
        "scroll_wheel_zoom",
        "tap",
        "tap_tolerance",
        "touch_zoom",
        "world_copy_jump",
        "zoom",
        "zoom_animation_threshold",
        "zoom_delta",
        "zoom_snap",
        "zoom_start"
       ],
       "right": 2956,
       "south": 42.342305278572816,
       "style": "IPY_MODEL_f56a1a5cb3a441d6b58d9917df6be9e0",
       "top": 5661,
       "west": -135.68115234375003,
       "window_url": "http://localhost:8888/notebooks/data_access_notebooks/2021-10-19-multiple-erddap-search.ipynb",
       "zoom": 6
      }
     },
     "7cdf85120acf4dd3a7e23e580681467a": {
      "model_module": "@jupyter-widgets/controls",
      "model_module_version": "1.5.0",
      "model_name": "HTMLModel",
      "state": {
       "layout": "IPY_MODEL_7fc10beeccef459bbc018919fdb1f25a",
       "style": "IPY_MODEL_a746e944480b4c08b3f1656ce8142375",
       "value": "<table border=\"1\" class=\"dataframe table table-striped table-hover table-condensed table-responsive\">\n  <thead>\n    <tr style=\"text-align: right;\">\n      <th></th>\n      <th>55</th>\n    </tr>\n  </thead>\n  <tbody>\n    <tr>\n      <th>Institution</th>\n      <td>Ocean Observatories Initiative (OOI)</td>\n    </tr>\n    <tr>\n      <th>Dataset ID</th>\n      <td>ooi-ce07shsm-mfd37-03-ctdbpc000</td>\n    </tr>\n  </tbody>\n</table>"
      }
     },
     "7d4580ab835c4cbdb3945e6292277793": {
      "model_module": "@jupyter-widgets/base",
      "model_module_version": "1.2.0",
      "model_name": "LayoutModel",
      "state": {}
     },
     "7dd1a7ae090d4f828282ecb16fd60985": {
      "model_module": "@jupyter-widgets/controls",
      "model_module_version": "1.5.0",
      "model_name": "DescriptionStyleModel",
      "state": {
       "description_width": ""
      }
     },
     "7de5c7d2b9aa4b4aaf4fb06f6e7646bd": {
      "model_module": "@jupyter-widgets/controls",
      "model_module_version": "1.5.0",
      "model_name": "DescriptionStyleModel",
      "state": {
       "description_width": ""
      }
     },
     "7e69b6e536344c488a3d9a4203c89a93": {
      "model_module": "@jupyter-widgets/controls",
      "model_module_version": "1.5.0",
      "model_name": "DescriptionStyleModel",
      "state": {
       "description_width": ""
      }
     },
     "7e9b548b672d4dcf9b01a2841a0d500e": {
      "model_module": "@jupyter-widgets/controls",
      "model_module_version": "1.5.0",
      "model_name": "HTMLModel",
      "state": {
       "layout": "IPY_MODEL_c1ed8d6365184a80ba44415b1cdd9b89",
       "style": "IPY_MODEL_7dd1a7ae090d4f828282ecb16fd60985",
       "value": "<table border=\"1\" class=\"dataframe table table-striped table-hover table-condensed table-responsive\">\n  <thead>\n    <tr style=\"text-align: right;\">\n      <th></th>\n      <th>39</th>\n    </tr>\n  </thead>\n  <tbody>\n    <tr>\n      <th>Institution</th>\n      <td>Ocean Observatories Initiative (OOI)</td>\n    </tr>\n    <tr>\n      <th>Dataset ID</th>\n      <td>ooi-ce06issm-sbd17-06-flortd000</td>\n    </tr>\n  </tbody>\n</table>"
      }
     },
     "7f45618d5dc64eb59e9121fbb79e6aa8": {
      "model_module": "@jupyter-widgets/controls",
      "model_module_version": "1.5.0",
      "model_name": "DescriptionStyleModel",
      "state": {
       "description_width": ""
      }
     },
     "7f59196a7bac4b1ea91a9760eec939ac": {
      "model_module": "@jupyter-widgets/controls",
      "model_module_version": "1.5.0",
      "model_name": "DescriptionStyleModel",
      "state": {
       "description_width": ""
      }
     },
     "7f82e46191ef45aaad2f4a3cb26dfb70": {
      "model_module": "@jupyter-widgets/controls",
      "model_module_version": "1.5.0",
      "model_name": "HTMLModel",
      "state": {
       "layout": "IPY_MODEL_1457649d4e634916bc6be0e8c4253231",
       "style": "IPY_MODEL_d39b29ff0adf4773aa02dbf8735d068d",
       "value": "<table border=\"1\" class=\"dataframe table table-striped table-hover table-condensed table-responsive\">\n  <thead>\n    <tr style=\"text-align: right;\">\n      <th></th>\n      <th>50</th>\n    </tr>\n  </thead>\n  <tbody>\n    <tr>\n      <th>Institution</th>\n      <td>Ocean Observatories Initiative (OOI)</td>\n    </tr>\n    <tr>\n      <th>Dataset ID</th>\n      <td>ooi-ce07shsm-rid27-02-flortd000</td>\n    </tr>\n  </tbody>\n</table>"
      }
     },
     "7fc10beeccef459bbc018919fdb1f25a": {
      "model_module": "@jupyter-widgets/base",
      "model_module_version": "1.2.0",
      "model_name": "LayoutModel",
      "state": {}
     },
     "800a67ea27664bda83cfdefe0d1ef348": {
      "model_module": "@jupyter-widgets/base",
      "model_module_version": "1.2.0",
      "model_name": "LayoutModel",
      "state": {}
     },
     "801d3add2f544f148f84c6ce036f6470": {
      "model_module": "jupyter-leaflet",
      "model_module_version": "^0.14.0",
      "model_name": "LeafletAwesomeIconModel",
      "state": {
       "_model_module_version": "^0.14.0",
       "_view_module_version": "^0.14.0",
       "icon_color": "white",
       "marker_color": "orange",
       "name": "life-ring"
      }
     },
     "80254dc72fa34f8abbe2fc760c661b78": {
      "model_module": "@jupyter-widgets/controls",
      "model_module_version": "1.5.0",
      "model_name": "HTMLModel",
      "state": {
       "layout": "IPY_MODEL_0541cce5c15046d0af33033f490e0bd6",
       "style": "IPY_MODEL_0e67f04279714daeb0cc1574c0984fe1",
       "value": "<table border=\"1\" class=\"dataframe table table-striped table-hover table-condensed table-responsive\">\n  <thead>\n    <tr style=\"text-align: right;\">\n      <th></th>\n      <th>60</th>\n    </tr>\n  </thead>\n  <tbody>\n    <tr>\n      <th>Institution</th>\n      <td>Ocean Observatories Initiative (OOI)</td>\n    </tr>\n    <tr>\n      <th>Dataset ID</th>\n      <td>ooi-rs01sbps-pc01a-4c-flordd103</td>\n    </tr>\n  </tbody>\n</table>"
      }
     },
     "80459d08898a4d01baa6014d364f7810": {
      "model_module": "@jupyter-widgets/controls",
      "model_module_version": "1.5.0",
      "model_name": "DescriptionStyleModel",
      "state": {
       "description_width": ""
      }
     },
     "806a5492ae3e40a997971f7621069168": {
      "model_module": "@jupyter-widgets/controls",
      "model_module_version": "1.5.0",
      "model_name": "HTMLModel",
      "state": {
       "layout": "IPY_MODEL_05aa0fbc14e2489eb246a41cf48097f0",
       "style": "IPY_MODEL_c360ba98a8004574a498ac59cb32b8e5",
       "value": "<table border=\"1\" class=\"dataframe table table-striped table-hover table-condensed table-responsive\">\n  <thead>\n    <tr style=\"text-align: right;\">\n      <th></th>\n      <th>76</th>\n    </tr>\n  </thead>\n  <tbody>\n    <tr>\n      <th>Institution</th>\n      <td>Northwest Association of Networked Ocean Observing Systems (NANOOS)</td>\n    </tr>\n    <tr>\n      <th>Dataset ID</th>\n      <td>nanoos_psi_baycenter</td>\n    </tr>\n  </tbody>\n</table>"
      }
     },
     "808ee94f407a47d392fdfae8dfdea1ec": {
      "model_module": "@jupyter-widgets/controls",
      "model_module_version": "1.5.0",
      "model_name": "HTMLModel",
      "state": {
       "layout": "IPY_MODEL_e8349f8adc7548e2adf951f3aceeba8d",
       "style": "IPY_MODEL_5445f490165d438bb3fc93e3b6ccc08d",
       "value": "<table border=\"1\" class=\"dataframe table table-striped table-hover table-condensed table-responsive\">\n  <thead>\n    <tr style=\"text-align: right;\">\n      <th></th>\n      <th>46</th>\n    </tr>\n  </thead>\n  <tbody>\n    <tr>\n      <th>Institution</th>\n      <td>Ocean Observatories Initiative (OOI)</td>\n    </tr>\n    <tr>\n      <th>Dataset ID</th>\n      <td>ooi-ce09ossm-mfd37-03-ctdbpe000</td>\n    </tr>\n  </tbody>\n</table>"
      }
     },
     "809d95734658426ba47c421a06a48a59": {
      "model_module": "jupyter-leaflet",
      "model_module_version": "^0.14.0",
      "model_name": "LeafletMarkerModel",
      "state": {
       "_model_module_version": "^0.14.0",
       "_view_module_version": "^0.14.0",
       "icon": "IPY_MODEL_c609ebe4b19041deb8ec0b11a00af6af",
       "location": [
        44.3695,
        -124.95369
       ],
       "options": [
        "alt",
        "draggable",
        "keyboard",
        "rise_offset",
        "rise_on_hover",
        "rotation_angle",
        "rotation_origin",
        "title",
        "z_index_offset"
       ],
       "popup": "IPY_MODEL_d98dd62bf5514ab1990596527a0fd553"
      }
     },
     "80b60db65e2145aa993e371978a40122": {
      "model_module": "jupyter-leaflet",
      "model_module_version": "^0.14.0",
      "model_name": "LeafletMapStyleModel",
      "state": {
       "_model_module_version": "^0.14.0"
      }
     },
     "80f47157902847ca8b6a0b048c84805b": {
      "model_module": "jupyter-leaflet",
      "model_module_version": "^0.14.0",
      "model_name": "LeafletLegendControlModel",
      "state": {
       "_model_module_version": "^0.14.0",
       "_view_module_version": "^0.14.0",
       "legend": {
        "IOOS": "blue",
        "OOI": "orange"
       },
       "options": [
        "position"
       ],
       "title": "Dataset locations"
      }
     },
     "80fe2357c53d427992e6711e87942cf1": {
      "model_module": "jupyter-leaflet",
      "model_module_version": "^0.14.0",
      "model_name": "LeafletMarkerModel",
      "state": {
       "_model_module_version": "^0.14.0",
       "_view_module_version": "^0.14.0",
       "icon": "IPY_MODEL_42c171052dba47379cfb83a256c45ae9",
       "location": [
        43.3,
        -124.5
       ],
       "options": [
        "alt",
        "draggable",
        "keyboard",
        "rise_offset",
        "rise_on_hover",
        "rotation_angle",
        "rotation_origin",
        "title",
        "z_index_offset"
       ],
       "popup": "IPY_MODEL_5a48434223c4489cb1bf766b36167b94"
      }
     },
     "813f8478dd594bd9856b452d20737369": {
      "model_module": "jupyter-leaflet",
      "model_module_version": "^0.14.0",
      "model_name": "LeafletMarkerModel",
      "state": {
       "_model_module_version": "^0.14.0",
       "_view_module_version": "^0.14.0",
       "icon": "IPY_MODEL_97a0ef5b2758473a9b581fe0d8d140d7",
       "location": [
        44.37868,
        -124.94508
       ],
       "options": [
        "alt",
        "draggable",
        "keyboard",
        "rise_offset",
        "rise_on_hover",
        "rotation_angle",
        "rotation_origin",
        "title",
        "z_index_offset"
       ],
       "popup": "IPY_MODEL_19dc626ed13d4264920616b2ada5714c"
      }
     },
     "814ba44715004949b0525400ea18c69c": {
      "model_module": "jupyter-leaflet",
      "model_module_version": "^0.14.0",
      "model_name": "LeafletMarkerModel",
      "state": {
       "_model_module_version": "^0.14.0",
       "_view_module_version": "^0.14.0",
       "icon": "IPY_MODEL_feff185a530d4b0d8fe72026a85e4dee",
       "location": [
        46.98648,
        -124.56923
       ],
       "options": [
        "alt",
        "draggable",
        "keyboard",
        "rise_offset",
        "rise_on_hover",
        "rotation_angle",
        "rotation_origin",
        "title",
        "z_index_offset"
       ],
       "popup": "IPY_MODEL_ed584080d0bd4ee1a6ef802b35a194d6"
      }
     },
     "81b78669472245cc862fd72caecb99a8": {
      "model_module": "@jupyter-widgets/controls",
      "model_module_version": "1.5.0",
      "model_name": "DescriptionStyleModel",
      "state": {
       "description_width": ""
      }
     },
     "82145410ee8c4b529fcf05bc8826c516": {
      "model_module": "@jupyter-widgets/controls",
      "model_module_version": "1.5.0",
      "model_name": "DescriptionStyleModel",
      "state": {
       "description_width": ""
      }
     },
     "82278555a4a44389b84b2e9fa73cc584": {
      "model_module": "@jupyter-widgets/controls",
      "model_module_version": "1.5.0",
      "model_name": "DescriptionStyleModel",
      "state": {
       "description_width": ""
      }
     },
     "823918740a264972921c308e04548bf5": {
      "model_module": "@jupyter-widgets/base",
      "model_module_version": "1.2.0",
      "model_name": "LayoutModel",
      "state": {}
     },
     "825982649e4e4a1c843902d6e59fb37d": {
      "model_module": "@jupyter-widgets/controls",
      "model_module_version": "1.5.0",
      "model_name": "DescriptionStyleModel",
      "state": {
       "description_width": ""
      }
     },
     "826240ef379d46c382797ef7100075b0": {
      "model_module": "@jupyter-widgets/base",
      "model_module_version": "1.2.0",
      "model_name": "LayoutModel",
      "state": {}
     },
     "829d6e58f34b4df99ff9f09b2396f2a4": {
      "model_module": "@jupyter-widgets/controls",
      "model_module_version": "1.5.0",
      "model_name": "DescriptionStyleModel",
      "state": {
       "description_width": ""
      }
     },
     "8304ea4b20bd4be2bd98709b1c27ad01": {
      "model_module": "jupyter-leaflet",
      "model_module_version": "^0.14.0",
      "model_name": "LeafletAwesomeIconModel",
      "state": {
       "_model_module_version": "^0.14.0",
       "_view_module_version": "^0.14.0",
       "icon_color": "white",
       "marker_color": "orange",
       "name": "life-ring"
      }
     },
     "8343f2ac058c41d2978cd1f808089b3f": {
      "model_module": "@jupyter-widgets/base",
      "model_module_version": "1.2.0",
      "model_name": "LayoutModel",
      "state": {}
     },
     "8369f4231ee24196aef237377b4743cd": {
      "model_module": "@jupyter-widgets/controls",
      "model_module_version": "1.5.0",
      "model_name": "DescriptionStyleModel",
      "state": {
       "description_width": ""
      }
     },
     "839b55975afb4778a1eaae55bbd75008": {
      "model_module": "@jupyter-widgets/controls",
      "model_module_version": "1.5.0",
      "model_name": "DescriptionStyleModel",
      "state": {
       "description_width": ""
      }
     },
     "83f30f62bb5b4b7985ffd25582b27188": {
      "model_module": "@jupyter-widgets/controls",
      "model_module_version": "1.5.0",
      "model_name": "DescriptionStyleModel",
      "state": {
       "description_width": ""
      }
     },
     "84cee63031454c0f920fae09b259fe18": {
      "model_module": "jupyter-leaflet",
      "model_module_version": "^0.14.0",
      "model_name": "LeafletAwesomeIconModel",
      "state": {
       "_model_module_version": "^0.14.0",
       "_view_module_version": "^0.14.0",
       "icon_color": "white",
       "marker_color": "orange",
       "name": "life-ring"
      }
     },
     "852fcde03ae74dd7abe2c102d606c754": {
      "model_module": "@jupyter-widgets/controls",
      "model_module_version": "1.5.0",
      "model_name": "DescriptionStyleModel",
      "state": {
       "description_width": ""
      }
     },
     "85771390d1a6457a9fec8adc224052ca": {
      "model_module": "jupyter-leaflet",
      "model_module_version": "^0.14.0",
      "model_name": "LeafletAwesomeIconModel",
      "state": {
       "_model_module_version": "^0.14.0",
       "_view_module_version": "^0.14.0",
       "icon_color": "white",
       "marker_color": "orange",
       "name": "life-ring"
      }
     },
     "86046bc8b63e4454b75549b2059c1989": {
      "model_module": "@jupyter-widgets/base",
      "model_module_version": "1.2.0",
      "model_name": "LayoutModel",
      "state": {}
     },
     "863d886cb7684dff8c7fb485b6cf99e2": {
      "model_module": "@jupyter-widgets/controls",
      "model_module_version": "1.5.0",
      "model_name": "HTMLModel",
      "state": {
       "layout": "IPY_MODEL_ec4860e4847c41fea4b9acde6b481c8a",
       "style": "IPY_MODEL_47432a07087b4472be403f2abee73744",
       "value": "<table border=\"1\" class=\"dataframe table table-striped table-hover table-condensed table-responsive\">\n  <thead>\n    <tr style=\"text-align: right;\">\n      <th></th>\n      <th>29</th>\n    </tr>\n  </thead>\n  <tbody>\n    <tr>\n      <th>Institution</th>\n      <td>Ocean Observatories Initiative (OOI)</td>\n    </tr>\n    <tr>\n      <th>Dataset ID</th>\n      <td>ooi-ce02shsm-sbd11-06-metbka000</td>\n    </tr>\n  </tbody>\n</table>"
      }
     },
     "86ac57ca7b3d48e89e5f4fea66ad42e8": {
      "model_module": "jupyter-leaflet",
      "model_module_version": "^0.14.0",
      "model_name": "LeafletAwesomeIconModel",
      "state": {
       "_model_module_version": "^0.14.0",
       "_view_module_version": "^0.14.0",
       "icon_color": "white",
       "name": "life-ring"
      }
     },
     "86b37c70d7504eb18486deec86b24728": {
      "model_module": "@jupyter-widgets/controls",
      "model_module_version": "1.5.0",
      "model_name": "DescriptionStyleModel",
      "state": {
       "description_width": ""
      }
     },
     "8720a78c188b4828a689dd952d96656a": {
      "model_module": "@jupyter-widgets/base",
      "model_module_version": "1.2.0",
      "model_name": "LayoutModel",
      "state": {}
     },
     "87544b25b1bc448ab88a35d471461ff2": {
      "model_module": "jupyter-leaflet",
      "model_module_version": "^0.14.0",
      "model_name": "LeafletAwesomeIconModel",
      "state": {
       "_model_module_version": "^0.14.0",
       "_view_module_version": "^0.14.0",
       "icon_color": "white",
       "marker_color": "orange",
       "name": "life-ring"
      }
     },
     "8788f467b9d34702abcbc5af55fccfdd": {
      "model_module": "jupyter-leaflet",
      "model_module_version": "^0.14.0",
      "model_name": "LeafletAwesomeIconModel",
      "state": {
       "_model_module_version": "^0.14.0",
       "_view_module_version": "^0.14.0",
       "icon_color": "white",
       "marker_color": "orange",
       "name": "life-ring"
      }
     },
     "878df87b68e34b2a910a69093914e00e": {
      "model_module": "@jupyter-widgets/controls",
      "model_module_version": "1.5.0",
      "model_name": "HTMLModel",
      "state": {
       "layout": "IPY_MODEL_10328c99bc25485685e23036254d4f9b",
       "style": "IPY_MODEL_5e242b76bdd04dcbbe1b0aa630b1d863",
       "value": "<table border=\"1\" class=\"dataframe table table-striped table-hover table-condensed table-responsive\">\n  <thead>\n    <tr style=\"text-align: right;\">\n      <th></th>\n      <th>5</th>\n    </tr>\n  </thead>\n  <tbody>\n    <tr>\n      <th>Institution</th>\n      <td>Ocean Observatories Initiative (OOI)</td>\n    </tr>\n    <tr>\n      <th>Dataset ID</th>\n      <td>ooi-ce01issm-mfd37-03-ctdbpc000</td>\n    </tr>\n  </tbody>\n</table>"
      }
     },
     "87c33d4063634d1b9ca6e90835b7413a": {
      "model_module": "jupyter-leaflet",
      "model_module_version": "^0.14.0",
      "model_name": "LeafletAwesomeIconModel",
      "state": {
       "_model_module_version": "^0.14.0",
       "_view_module_version": "^0.14.0",
       "icon_color": "white",
       "name": "life-ring"
      }
     },
     "87ce710a10b64eb6be41e13123122b0f": {
      "model_module": "jupyter-leaflet",
      "model_module_version": "^0.14.0",
      "model_name": "LeafletLegendControlModel",
      "state": {
       "_model_module_version": "^0.14.0",
       "_view_module_version": "^0.14.0",
       "legend": {
        "IOOS": "blue",
        "OOI": "orange"
       },
       "options": [
        "position"
       ],
       "title": "Dataset locations"
      }
     },
     "88538f044a184d2eb77b7b7f75ffe36d": {
      "model_module": "jupyter-leaflet",
      "model_module_version": "^0.14.0",
      "model_name": "LeafletAwesomeIconModel",
      "state": {
       "_model_module_version": "^0.14.0",
       "_view_module_version": "^0.14.0",
       "icon_color": "white",
       "name": "life-ring"
      }
     },
     "887b93ae2e6b4e93aaaac5bc665c4664": {
      "model_module": "jupyter-leaflet",
      "model_module_version": "^0.14.0",
      "model_name": "LeafletAwesomeIconModel",
      "state": {
       "_model_module_version": "^0.14.0",
       "_view_module_version": "^0.14.0",
       "icon_color": "white",
       "name": "life-ring"
      }
     },
     "888a007d2984436d96374163434439c8": {
      "model_module": "@jupyter-widgets/base",
      "model_module_version": "1.2.0",
      "model_name": "LayoutModel",
      "state": {}
     },
     "88f47cd799bb4264ac3445fc6793e7d9": {
      "model_module": "jupyter-leaflet",
      "model_module_version": "^0.14.0",
      "model_name": "LeafletAwesomeIconModel",
      "state": {
       "_model_module_version": "^0.14.0",
       "_view_module_version": "^0.14.0",
       "icon_color": "white",
       "marker_color": "orange",
       "name": "life-ring"
      }
     },
     "8900d851f33946489e25f27dd210e59c": {
      "model_module": "@jupyter-widgets/base",
      "model_module_version": "1.2.0",
      "model_name": "LayoutModel",
      "state": {}
     },
     "898b9f55ad074829b3f7fee4d67da81a": {
      "model_module": "@jupyter-widgets/controls",
      "model_module_version": "1.5.0",
      "model_name": "DescriptionStyleModel",
      "state": {
       "description_width": ""
      }
     },
     "89cc5bffc3624b5f913d6d6c7a0d1ee8": {
      "model_module": "@jupyter-widgets/controls",
      "model_module_version": "1.5.0",
      "model_name": "HTMLModel",
      "state": {
       "layout": "IPY_MODEL_e638dcfba0754a1b96a7ebee7655aa2c",
       "style": "IPY_MODEL_83f30f62bb5b4b7985ffd25582b27188",
       "value": "<table border=\"1\" class=\"dataframe table table-striped table-hover table-condensed table-responsive\">\n  <thead>\n    <tr style=\"text-align: right;\">\n      <th></th>\n      <th>41</th>\n    </tr>\n  </thead>\n  <tbody>\n    <tr>\n      <th>Institution</th>\n      <td>Ocean Observatories Initiative (OOI)</td>\n    </tr>\n    <tr>\n      <th>Dataset ID</th>\n      <td>ooi-ce09ossm-rid27-02-flortd000</td>\n    </tr>\n  </tbody>\n</table>"
      }
     },
     "89f69f24f0ad4d84947cb0f1490b1ab5": {
      "model_module": "jupyter-leaflet",
      "model_module_version": "^0.14.0",
      "model_name": "LeafletAwesomeIconModel",
      "state": {
       "_model_module_version": "^0.14.0",
       "_view_module_version": "^0.14.0",
       "icon_color": "white",
       "marker_color": "orange",
       "name": "life-ring"
      }
     },
     "8a63541863554e72b39bfdd39252054c": {
      "model_module": "jupyter-leaflet",
      "model_module_version": "^0.14.0",
      "model_name": "LeafletMarkerModel",
      "state": {
       "_model_module_version": "^0.14.0",
       "_view_module_version": "^0.14.0",
       "icon": "IPY_MODEL_ddc7094b71ea42f396f462a7931339b4",
       "location": [
        44.37415,
        -124.95648
       ],
       "options": [
        "alt",
        "draggable",
        "keyboard",
        "rise_offset",
        "rise_on_hover",
        "rotation_angle",
        "rotation_origin",
        "title",
        "z_index_offset"
       ],
       "popup": "IPY_MODEL_f2ba185c87e74b8aa0c5dbb00286ca1c"
      }
     },
     "8b23a00535f4424abe3f30a4e69ebf8d": {
      "model_module": "@jupyter-widgets/base",
      "model_module_version": "1.2.0",
      "model_name": "LayoutModel",
      "state": {}
     },
     "8b38a20974e040b4bff6325ad947f78e": {
      "model_module": "jupyter-leaflet",
      "model_module_version": "^0.14.0",
      "model_name": "LeafletAwesomeIconModel",
      "state": {
       "_model_module_version": "^0.14.0",
       "_view_module_version": "^0.14.0",
       "icon_color": "white",
       "marker_color": "orange",
       "name": "life-ring"
      }
     },
     "8b7a4acc12d442eb9fc9fb20866d42aa": {
      "model_module": "@jupyter-widgets/base",
      "model_module_version": "1.2.0",
      "model_name": "LayoutModel",
      "state": {}
     },
     "8bb5a5093a8c419bbbaf2b2ab7881459": {
      "model_module": "jupyter-leaflet",
      "model_module_version": "^0.14.0",
      "model_name": "LeafletAwesomeIconModel",
      "state": {
       "_model_module_version": "^0.14.0",
       "_view_module_version": "^0.14.0",
       "icon_color": "white",
       "marker_color": "orange",
       "name": "life-ring"
      }
     },
     "8c16a064bba14cbcac59eb1f0550ace3": {
      "model_module": "@jupyter-widgets/controls",
      "model_module_version": "1.5.0",
      "model_name": "HTMLModel",
      "state": {
       "layout": "IPY_MODEL_3b2ffabac5384e148605395a49058507",
       "style": "IPY_MODEL_b5727cb9df5f4543bb74a6516ed63a57",
       "value": "<table border=\"1\" class=\"dataframe table table-striped table-hover table-condensed table-responsive\">\n  <thead>\n    <tr style=\"text-align: right;\">\n      <th></th>\n      <th>26</th>\n    </tr>\n  </thead>\n  <tbody>\n    <tr>\n      <th>Institution</th>\n      <td>Ocean Observatories Initiative (OOI)</td>\n    </tr>\n    <tr>\n      <th>Dataset ID</th>\n      <td>ooi-ce02shsm-rid27-04-dostad000</td>\n    </tr>\n  </tbody>\n</table>"
      }
     },
     "8c236b0874284473b7f14ec4bec2a09b": {
      "model_module": "@jupyter-widgets/base",
      "model_module_version": "1.2.0",
      "model_name": "LayoutModel",
      "state": {}
     },
     "8c2a441c46714164b532793331644032": {
      "model_module": "@jupyter-widgets/controls",
      "model_module_version": "1.5.0",
      "model_name": "HTMLModel",
      "state": {
       "layout": "IPY_MODEL_3249185ca3b246d8abe99bf9b609783f",
       "style": "IPY_MODEL_e630170b796e437391a0fe3c826b7320",
       "value": "<table border=\"1\" class=\"dataframe table table-striped table-hover table-condensed table-responsive\">\n  <thead>\n    <tr style=\"text-align: right;\">\n      <th></th>\n      <th>73</th>\n    </tr>\n  </thead>\n  <tbody>\n    <tr>\n      <th>Institution</th>\n      <td>NOAA Pacific Marine Environmental Lab (PMEL)</td>\n    </tr>\n    <tr>\n      <th>Dataset ID</th>\n      <td>coos-bay-historic-co2</td>\n    </tr>\n  </tbody>\n</table>"
      }
     },
     "8c47882169cb433184eb6948a6139953": {
      "model_module": "@jupyter-widgets/controls",
      "model_module_version": "1.5.0",
      "model_name": "HTMLModel",
      "state": {
       "layout": "IPY_MODEL_61f73178635b4f0ba482e1a2b9c5e0a9",
       "style": "IPY_MODEL_e9c0fa7e443646ca8915c55bbe110704",
       "value": "<table border=\"1\" class=\"dataframe table table-striped table-hover table-condensed table-responsive\">\n  <thead>\n    <tr style=\"text-align: right;\">\n      <th></th>\n      <th>65</th>\n    </tr>\n  </thead>\n  <tbody>\n    <tr>\n      <th>Institution</th>\n      <td>Observing System Monitoring Center (OSMC)</td>\n    </tr>\n    <tr>\n      <th>Dataset ID</th>\n      <td>osmc_46098</td>\n    </tr>\n  </tbody>\n</table>"
      }
     },
     "8c5181a4a3624d2d8bdeff953aad7152": {
      "model_module": "@jupyter-widgets/controls",
      "model_module_version": "1.5.0",
      "model_name": "HTMLModel",
      "state": {
       "layout": "IPY_MODEL_fe5f3fbfa110468da8531ad99e194c16",
       "style": "IPY_MODEL_b80dfb7b6d3d45fdbbca1b38ec8273b7",
       "value": "<table border=\"1\" class=\"dataframe table table-striped table-hover table-condensed table-responsive\">\n  <thead>\n    <tr style=\"text-align: right;\">\n      <th></th>\n      <th>79</th>\n    </tr>\n  </thead>\n  <tbody>\n    <tr>\n      <th>Institution</th>\n      <td>Center for Coastal Margin Observation &amp; Prediction</td>\n    </tr>\n    <tr>\n      <th>Dataset ID</th>\n      <td>org_cmop_seto3</td>\n    </tr>\n  </tbody>\n</table>"
      }
     },
     "8ca227214eb7454f96a38d5f8ed3412d": {
      "model_module": "@jupyter-widgets/base",
      "model_module_version": "1.2.0",
      "model_name": "LayoutModel",
      "state": {}
     },
     "8cbacb9c308843e480a38e5d8eb7a4c6": {
      "model_module": "@jupyter-widgets/controls",
      "model_module_version": "1.5.0",
      "model_name": "HTMLModel",
      "state": {
       "layout": "IPY_MODEL_d846024cc6bf4529910ea35f45fada30",
       "style": "IPY_MODEL_c79af96477f342509b5fb05c6eacdf8a",
       "value": "<table border=\"1\" class=\"dataframe table table-striped table-hover table-condensed table-responsive\">\n  <thead>\n    <tr style=\"text-align: right;\">\n      <th></th>\n      <th>61</th>\n    </tr>\n  </thead>\n  <tbody>\n    <tr>\n      <th>Institution</th>\n      <td>Ocean Observatories Initiative (OOI)</td>\n    </tr>\n    <tr>\n      <th>Dataset ID</th>\n      <td>ooi-rs01sbps-pc01a-4a-ctdpfa103</td>\n    </tr>\n  </tbody>\n</table>"
      }
     },
     "8ce98a776fb045149a9e25b94f6073f1": {
      "model_module": "@jupyter-widgets/base",
      "model_module_version": "1.2.0",
      "model_name": "LayoutModel",
      "state": {}
     },
     "8d23746b742b4d3aa633a57473ef5d85": {
      "model_module": "jupyter-leaflet",
      "model_module_version": "^0.14.0",
      "model_name": "LeafletAwesomeIconModel",
      "state": {
       "_model_module_version": "^0.14.0",
       "_view_module_version": "^0.14.0",
       "icon_color": "white",
       "marker_color": "orange",
       "name": "life-ring"
      }
     },
     "8d52e478ee004bbaa6ea38582cf79955": {
      "model_module": "@jupyter-widgets/base",
      "model_module_version": "1.2.0",
      "model_name": "LayoutModel",
      "state": {}
     },
     "8d79568154bb4ab38f093af1d5c849bb": {
      "model_module": "jupyter-leaflet",
      "model_module_version": "^0.14.0",
      "model_name": "LeafletMarkerModel",
      "state": {
       "_model_module_version": "^0.14.0",
       "_view_module_version": "^0.14.0",
       "icon": "IPY_MODEL_b03f107814e744aba79a611edffdd2e5",
       "location": [
        44.52897,
        -125.38966
       ],
       "options": [
        "alt",
        "draggable",
        "keyboard",
        "rise_offset",
        "rise_on_hover",
        "rotation_angle",
        "rotation_origin",
        "title",
        "z_index_offset"
       ],
       "popup": "IPY_MODEL_3fdc53b403e84d76b7ebc5337a667a81"
      }
     },
     "8dbb1d500af242e3a8ad69f4bbbf7055": {
      "model_module": "jupyter-leaflet",
      "model_module_version": "^0.14.0",
      "model_name": "LeafletMarkerModel",
      "state": {
       "_model_module_version": "^0.14.0",
       "_view_module_version": "^0.14.0",
       "icon": "IPY_MODEL_73984a17f70e421ca70f29d19f888682",
       "location": [
        46.98648,
        -124.56923
       ],
       "options": [
        "alt",
        "draggable",
        "keyboard",
        "rise_offset",
        "rise_on_hover",
        "rotation_angle",
        "rotation_origin",
        "title",
        "z_index_offset"
       ],
       "popup": "IPY_MODEL_123e0a6356024816856dcd6b99c7e4ea"
      }
     },
     "8dc712f8e26b4743b13a150a7c39c77b": {
      "model_module": "@jupyter-widgets/base",
      "model_module_version": "1.2.0",
      "model_name": "LayoutModel",
      "state": {}
     },
     "8dd12761647a465783339cee08532a79": {
      "model_module": "jupyter-leaflet",
      "model_module_version": "^0.14.0",
      "model_name": "LeafletAwesomeIconModel",
      "state": {
       "_model_module_version": "^0.14.0",
       "_view_module_version": "^0.14.0",
       "icon_color": "white",
       "name": "life-ring"
      }
     },
     "8e2222f65f224c1fba0997406b1dead5": {
      "model_module": "@jupyter-widgets/controls",
      "model_module_version": "1.5.0",
      "model_name": "HTMLModel",
      "state": {
       "layout": "IPY_MODEL_cd72b22a7e674ae3819e7a6de0239be4",
       "style": "IPY_MODEL_224d6b93c8bc42d3baebb73c30a808fc",
       "value": "<table border=\"1\" class=\"dataframe table table-striped table-hover table-condensed table-responsive\">\n  <thead>\n    <tr style=\"text-align: right;\">\n      <th></th>\n      <th>80</th>\n    </tr>\n  </thead>\n  <tbody>\n    <tr>\n      <th>Institution</th>\n      <td>Northwest Association of Networked Ocean Observing Systems (NANOOS)</td>\n    </tr>\n    <tr>\n      <th>Dataset ID</th>\n      <td>nanoos_wcsh_whiskey1</td>\n    </tr>\n  </tbody>\n</table>"
      }
     },
     "8e38c8a44aeb49e78293a756d4b3c521": {
      "model_module": "jupyter-leaflet",
      "model_module_version": "^0.14.0",
      "model_name": "LeafletAwesomeIconModel",
      "state": {
       "_model_module_version": "^0.14.0",
       "_view_module_version": "^0.14.0",
       "icon_color": "white",
       "name": "life-ring"
      }
     },
     "8ec062ba1a304b81b14ae4c495d7af85": {
      "model_module": "@jupyter-widgets/controls",
      "model_module_version": "1.5.0",
      "model_name": "DescriptionStyleModel",
      "state": {
       "description_width": ""
      }
     },
     "8ec537e5ac45484e9c82d331531aa751": {
      "model_module": "jupyter-leaflet",
      "model_module_version": "^0.14.0",
      "model_name": "LeafletAwesomeIconModel",
      "state": {
       "_model_module_version": "^0.14.0",
       "_view_module_version": "^0.14.0",
       "icon_color": "white",
       "marker_color": "orange",
       "name": "life-ring"
      }
     },
     "8ed1de1d3824445ebd074eeaf0d7279c": {
      "model_module": "@jupyter-widgets/base",
      "model_module_version": "1.2.0",
      "model_name": "LayoutModel",
      "state": {}
     },
     "8eea9f9f814643038b3814ab8671a16e": {
      "model_module": "jupyter-leaflet",
      "model_module_version": "^0.14.0",
      "model_name": "LeafletMarkerModel",
      "state": {
       "_model_module_version": "^0.14.0",
       "_view_module_version": "^0.14.0",
       "icon": "IPY_MODEL_1e9a7ee8c4d14c829ec0d4933a3c9b6b",
       "location": [
        44.37415,
        -124.95648
       ],
       "options": [
        "alt",
        "draggable",
        "keyboard",
        "rise_offset",
        "rise_on_hover",
        "rotation_angle",
        "rotation_origin",
        "title",
        "z_index_offset"
       ],
       "popup": "IPY_MODEL_5e904f3ea3a944a6af7c389df8503509"
      }
     },
     "8f0d8909d3cf40e4b1fee7b1cfbf399e": {
      "model_module": "@jupyter-widgets/controls",
      "model_module_version": "1.5.0",
      "model_name": "DescriptionStyleModel",
      "state": {
       "description_width": ""
      }
     },
     "8f101794af994536b467a2bea3e56233": {
      "model_module": "jupyter-leaflet",
      "model_module_version": "^0.14.0",
      "model_name": "LeafletAwesomeIconModel",
      "state": {
       "_model_module_version": "^0.14.0",
       "_view_module_version": "^0.14.0",
       "icon_color": "white",
       "marker_color": "orange",
       "name": "life-ring"
      }
     },
     "8f3e245cd2e7460682785e398bdac883": {
      "model_module": "jupyter-leaflet",
      "model_module_version": "^0.14.0",
      "model_name": "LeafletMarkerModel",
      "state": {
       "_model_module_version": "^0.14.0",
       "_view_module_version": "^0.14.0",
       "icon": "IPY_MODEL_e98dbb22729a4bafb2b6c7a18f386778",
       "location": [
        44.52897,
        -125.38966
       ],
       "options": [
        "alt",
        "draggable",
        "keyboard",
        "rise_offset",
        "rise_on_hover",
        "rotation_angle",
        "rotation_origin",
        "title",
        "z_index_offset"
       ],
       "popup": "IPY_MODEL_8cbacb9c308843e480a38e5d8eb7a4c6"
      }
     },
     "8f80fdd19dd146c0bd02540052e1931d": {
      "model_module": "@jupyter-widgets/controls",
      "model_module_version": "1.5.0",
      "model_name": "DescriptionStyleModel",
      "state": {
       "description_width": ""
      }
     },
     "90024615fcdf4c91bfc9ad160f96a803": {
      "model_module": "@jupyter-widgets/controls",
      "model_module_version": "1.5.0",
      "model_name": "DescriptionStyleModel",
      "state": {
       "description_width": ""
      }
     },
     "901140238f884719973289f762a7ed1f": {
      "model_module": "jupyter-leaflet",
      "model_module_version": "^0.14.0",
      "model_name": "LeafletAwesomeIconModel",
      "state": {
       "_model_module_version": "^0.14.0",
       "_view_module_version": "^0.14.0",
       "icon_color": "white",
       "marker_color": "orange",
       "name": "life-ring"
      }
     },
     "901ebcb74fe940be8d825a330b2488c3": {
      "model_module": "jupyter-leaflet",
      "model_module_version": "^0.14.0",
      "model_name": "LeafletMapStyleModel",
      "state": {
       "_model_module_version": "^0.14.0",
       "cursor": "move"
      }
     },
     "902d820edf424c95a1ed4a4dc0c21adf": {
      "model_module": "jupyter-leaflet",
      "model_module_version": "^0.14.0",
      "model_name": "LeafletMarkerModel",
      "state": {
       "_model_module_version": "^0.14.0",
       "_view_module_version": "^0.14.0",
       "icon": "IPY_MODEL_49f1e67ba4f24b1eaab8bb163a399af6",
       "location": [
        44.65678,
        -124.09707
       ],
       "options": [
        "alt",
        "draggable",
        "keyboard",
        "rise_offset",
        "rise_on_hover",
        "rotation_angle",
        "rotation_origin",
        "title",
        "z_index_offset"
       ],
       "popup": "IPY_MODEL_53cb1a2a36b849e1861f9842faf59806"
      }
     },
     "902eacf0697644a29e75c7be77fdf77e": {
      "model_module": "@jupyter-widgets/controls",
      "model_module_version": "1.5.0",
      "model_name": "DescriptionStyleModel",
      "state": {
       "description_width": ""
      }
     },
     "90a718b2abc84d6e905c3f600dac8412": {
      "model_module": "@jupyter-widgets/base",
      "model_module_version": "1.2.0",
      "model_name": "LayoutModel",
      "state": {}
     },
     "90f0cc9c7ca049d19371ff06c36906e5": {
      "model_module": "@jupyter-widgets/base",
      "model_module_version": "1.2.0",
      "model_name": "LayoutModel",
      "state": {}
     },
     "911a75cb1001444f9a5f741e4047f9af": {
      "model_module": "@jupyter-widgets/base",
      "model_module_version": "1.2.0",
      "model_name": "LayoutModel",
      "state": {}
     },
     "915df511e8a3498ba9d7b10e0978e579": {
      "model_module": "jupyter-leaflet",
      "model_module_version": "^0.14.0",
      "model_name": "LeafletMarkerModel",
      "state": {
       "_model_module_version": "^0.14.0",
       "_view_module_version": "^0.14.0",
       "icon": "IPY_MODEL_2f4c73dcd86641588c0e28cd6cbc4f8f",
       "location": [
        46.6290016174316,
        -123.951599121094
       ],
       "options": [
        "alt",
        "draggable",
        "keyboard",
        "rise_offset",
        "rise_on_hover",
        "rotation_angle",
        "rotation_origin",
        "title",
        "z_index_offset"
       ],
       "popup": "IPY_MODEL_1cb8fea6461a4ecb9e41aac5ad6f10f9"
      }
     },
     "91808b5319c84b1aa04db380ff6ea2c7": {
      "model_module": "jupyter-leaflet",
      "model_module_version": "^0.14.0",
      "model_name": "LeafletAwesomeIconModel",
      "state": {
       "_model_module_version": "^0.14.0",
       "_view_module_version": "^0.14.0",
       "icon_color": "white",
       "name": "life-ring"
      }
     },
     "91ab87f5d1bf4cbd97d633886cb5d47a": {
      "model_module": "@jupyter-widgets/controls",
      "model_module_version": "1.5.0",
      "model_name": "HTMLModel",
      "state": {
       "layout": "IPY_MODEL_9f4e76b467bf41469231543a4a4acb09",
       "style": "IPY_MODEL_cbc1ae8c4df74ec9a36eccc55ae98dde",
       "value": "<table border=\"1\" class=\"dataframe table table-striped table-hover table-condensed table-responsive\">\n  <thead>\n    <tr style=\"text-align: right;\">\n      <th></th>\n      <th>54</th>\n    </tr>\n  </thead>\n  <tbody>\n    <tr>\n      <th>Institution</th>\n      <td>Ocean Observatories Initiative (OOI)</td>\n    </tr>\n    <tr>\n      <th>Dataset ID</th>\n      <td>ooi-ce07shsm-rid26-06-phsend000</td>\n    </tr>\n  </tbody>\n</table>"
      }
     },
     "91e1dc5a9c414da085f7c7a6ad3e6d22": {
      "model_module": "@jupyter-widgets/controls",
      "model_module_version": "1.5.0",
      "model_name": "HTMLModel",
      "state": {
       "layout": "IPY_MODEL_e7cce1a56e54407a959b5f99643cb981",
       "style": "IPY_MODEL_66fdc0d5caa040cd879b40903bba5d84",
       "value": "<table border=\"1\" class=\"dataframe table table-striped table-hover table-condensed table-responsive\">\n  <thead>\n    <tr style=\"text-align: right;\">\n      <th></th>\n      <th>67</th>\n    </tr>\n  </thead>\n  <tbody>\n    <tr>\n      <th>Institution</th>\n      <td>Observing System Monitoring Center (OSMC)</td>\n    </tr>\n    <tr>\n      <th>Dataset ID</th>\n      <td>osmc_46100</td>\n    </tr>\n  </tbody>\n</table>"
      }
     },
     "91f3f9b8a0ab417b9872ff849a26e75c": {
      "model_module": "jupyter-leaflet",
      "model_module_version": "^0.14.0",
      "model_name": "LeafletAwesomeIconModel",
      "state": {
       "_model_module_version": "^0.14.0",
       "_view_module_version": "^0.14.0",
       "icon_color": "white",
       "marker_color": "orange",
       "name": "life-ring"
      }
     },
     "926a75beba404f8b9d5e3aa83a5241b2": {
      "model_module": "jupyter-leaflet",
      "model_module_version": "^0.14.0",
      "model_name": "LeafletAwesomeIconModel",
      "state": {
       "_model_module_version": "^0.14.0",
       "_view_module_version": "^0.14.0",
       "icon_color": "white",
       "name": "life-ring"
      }
     },
     "932fd53089e04a30a6e9ab9167371a64": {
      "model_module": "jupyter-leaflet",
      "model_module_version": "^0.14.0",
      "model_name": "LeafletMarkerModel",
      "state": {
       "_model_module_version": "^0.14.0",
       "_view_module_version": "^0.14.0",
       "icon": "IPY_MODEL_ec83e34ca5064535a9358af1d24038dd",
       "location": [
        45.4213981628418,
        -123.93620300293
       ],
       "options": [
        "alt",
        "draggable",
        "keyboard",
        "rise_offset",
        "rise_on_hover",
        "rotation_angle",
        "rotation_origin",
        "title",
        "z_index_offset"
       ],
       "popup": "IPY_MODEL_8e2222f65f224c1fba0997406b1dead5"
      }
     },
     "93bcb5ae90894b8a9825a3c1382ee319": {
      "model_module": "@jupyter-widgets/controls",
      "model_module_version": "1.5.0",
      "model_name": "HTMLModel",
      "state": {
       "layout": "IPY_MODEL_8b7a4acc12d442eb9fc9fb20866d42aa",
       "style": "IPY_MODEL_affdf025f1f048c58e76fc51bb55176d",
       "value": "<table border=\"1\" class=\"dataframe table table-striped table-hover table-condensed table-responsive\">\n  <thead>\n    <tr style=\"text-align: right;\">\n      <th></th>\n      <th>38</th>\n    </tr>\n  </thead>\n  <tbody>\n    <tr>\n      <th>Institution</th>\n      <td>Ocean Observatories Initiative (OOI)</td>\n    </tr>\n    <tr>\n      <th>Dataset ID</th>\n      <td>ooi-ce06issm-mfd35-06-phsend000</td>\n    </tr>\n  </tbody>\n</table>"
      }
     },
     "93dcf8b8bcf941cba0968cc30405c84d": {
      "model_module": "@jupyter-widgets/controls",
      "model_module_version": "1.5.0",
      "model_name": "DescriptionStyleModel",
      "state": {
       "description_width": ""
      }
     },
     "940bf2c794994bf9aa70146853e38e2e": {
      "model_module": "@jupyter-widgets/controls",
      "model_module_version": "1.5.0",
      "model_name": "DescriptionStyleModel",
      "state": {
       "description_width": ""
      }
     },
     "940f7246c72d4158bb220ee55a73d48a": {
      "model_module": "@jupyter-widgets/controls",
      "model_module_version": "1.5.0",
      "model_name": "DescriptionStyleModel",
      "state": {
       "description_width": ""
      }
     },
     "943b851d85df444f884cef3082da0b6f": {
      "model_module": "jupyter-leaflet",
      "model_module_version": "^0.14.0",
      "model_name": "LeafletMarkerModel",
      "state": {
       "_model_module_version": "^0.14.0",
       "_view_module_version": "^0.14.0",
       "icon": "IPY_MODEL_1410619d1c17434197fb34ea3dcef4c2",
       "location": [
        47.97,
        -124.95
       ],
       "options": [
        "alt",
        "draggable",
        "keyboard",
        "rise_offset",
        "rise_on_hover",
        "rotation_angle",
        "rotation_origin",
        "title",
        "z_index_offset"
       ],
       "popup": "IPY_MODEL_5b1aa16226fe4fcfb451ce79e36c9618"
      }
     },
     "9455dd22955645b682c30d69c2e1761a": {
      "model_module": "jupyter-leaflet",
      "model_module_version": "^0.14.0",
      "model_name": "LeafletMarkerModel",
      "state": {
       "_model_module_version": "^0.14.0",
       "_view_module_version": "^0.14.0",
       "icon": "IPY_MODEL_8bb5a5093a8c419bbbaf2b2ab7881459",
       "location": [
        46.98648,
        -124.56923
       ],
       "options": [
        "alt",
        "draggable",
        "keyboard",
        "rise_offset",
        "rise_on_hover",
        "rotation_angle",
        "rotation_origin",
        "title",
        "z_index_offset"
       ],
       "popup": "IPY_MODEL_e7eaece9b9b24aa6acbc09f170f1d07c"
      }
     },
     "9480d76e076847f2b8903b6f24514a35": {
      "model_module": "jupyter-leaflet",
      "model_module_version": "^0.14.0",
      "model_name": "LeafletMapStyleModel",
      "state": {
       "_model_module_version": "^0.14.0"
      }
     },
     "94f9b5845c244c0380dd14e46491cab1": {
      "model_module": "jupyter-leaflet",
      "model_module_version": "^0.14.0",
      "model_name": "LeafletMarkerModel",
      "state": {
       "_model_module_version": "^0.14.0",
       "_view_module_version": "^0.14.0",
       "icon": "IPY_MODEL_c12aef9853af4ca5a4fe767ce69b2a33",
       "location": [
        46.85367,
        -124.95935
       ],
       "options": [
        "alt",
        "draggable",
        "keyboard",
        "rise_offset",
        "rise_on_hover",
        "rotation_angle",
        "rotation_origin",
        "title",
        "z_index_offset"
       ],
       "popup": "IPY_MODEL_1bce22da206844098b292d623fa3e7a4"
      }
     },
     "950b01cf5ceb41bb984e1ed9a0f03829": {
      "model_module": "@jupyter-widgets/controls",
      "model_module_version": "1.5.0",
      "model_name": "DescriptionStyleModel",
      "state": {
       "description_width": ""
      }
     },
     "953818ecbad44818b5abec3ddf9e9098": {
      "model_module": "@jupyter-widgets/controls",
      "model_module_version": "1.5.0",
      "model_name": "DescriptionStyleModel",
      "state": {
       "description_width": ""
      }
     },
     "95cf9181045042b59e20f5707f16ce46": {
      "model_module": "@jupyter-widgets/controls",
      "model_module_version": "1.5.0",
      "model_name": "DescriptionStyleModel",
      "state": {
       "description_width": ""
      }
     },
     "96e58286ff724a0db9eef00ac8763f3b": {
      "model_module": "jupyter-leaflet",
      "model_module_version": "^0.14.0",
      "model_name": "LeafletMarkerModel",
      "state": {
       "_model_module_version": "^0.14.0",
       "_view_module_version": "^0.14.0",
       "icon": "IPY_MODEL_bf5e64e8faab46b8acb0005a31f0f0ee",
       "location": [
        44.63577,
        -124.3035
       ],
       "options": [
        "alt",
        "draggable",
        "keyboard",
        "rise_offset",
        "rise_on_hover",
        "rotation_angle",
        "rotation_origin",
        "title",
        "z_index_offset"
       ],
       "popup": "IPY_MODEL_5b33f264c7cf4c4eaca9a4ac10609c2c"
      }
     },
     "9751b8a6d848425f866101c59d9f2797": {
      "model_module": "@jupyter-widgets/controls",
      "model_module_version": "1.5.0",
      "model_name": "DescriptionStyleModel",
      "state": {
       "description_width": ""
      }
     },
     "97576398babb4c4f929c1a226195e145": {
      "model_module": "jupyter-leaflet",
      "model_module_version": "^0.14.0",
      "model_name": "LeafletAwesomeIconModel",
      "state": {
       "_model_module_version": "^0.14.0",
       "_view_module_version": "^0.14.0",
       "icon_color": "white",
       "marker_color": "orange",
       "name": "life-ring"
      }
     },
     "97812b649e004dd9a6f2c4ac02590f22": {
      "model_module": "jupyter-leaflet",
      "model_module_version": "^0.14.0",
      "model_name": "LeafletAwesomeIconModel",
      "state": {
       "_model_module_version": "^0.14.0",
       "_view_module_version": "^0.14.0",
       "icon_color": "white",
       "name": "life-ring"
      }
     },
     "979cdafdeb814d21b0740c4c886d109d": {
      "model_module": "@jupyter-widgets/base",
      "model_module_version": "1.2.0",
      "model_name": "LayoutModel",
      "state": {}
     },
     "979d6abf076f4eed8d7dfde659b1abb5": {
      "model_module": "jupyter-leaflet",
      "model_module_version": "^0.14.0",
      "model_name": "LeafletAwesomeIconModel",
      "state": {
       "_model_module_version": "^0.14.0",
       "_view_module_version": "^0.14.0",
       "icon_color": "white",
       "marker_color": "orange",
       "name": "life-ring"
      }
     },
     "979f62ac97014357aa68366c12a31c0b": {
      "model_module": "@jupyter-widgets/base",
      "model_module_version": "1.2.0",
      "model_name": "LayoutModel",
      "state": {}
     },
     "97a0ef5b2758473a9b581fe0d8d140d7": {
      "model_module": "jupyter-leaflet",
      "model_module_version": "^0.14.0",
      "model_name": "LeafletAwesomeIconModel",
      "state": {
       "_model_module_version": "^0.14.0",
       "_view_module_version": "^0.14.0",
       "icon_color": "white",
       "marker_color": "orange",
       "name": "life-ring"
      }
     },
     "97bf2530603b4c91b68393cb675794e4": {
      "model_module": "@jupyter-widgets/controls",
      "model_module_version": "1.5.0",
      "model_name": "DescriptionStyleModel",
      "state": {
       "description_width": ""
      }
     },
     "97e48348a37f473d962a6f7b0fbd18fc": {
      "model_module": "@jupyter-widgets/base",
      "model_module_version": "1.2.0",
      "model_name": "LayoutModel",
      "state": {}
     },
     "9801edd05d394c2385988c835d0eed2a": {
      "model_module": "jupyter-leaflet",
      "model_module_version": "^0.14.0",
      "model_name": "LeafletAwesomeIconModel",
      "state": {
       "_model_module_version": "^0.14.0",
       "_view_module_version": "^0.14.0",
       "icon_color": "white",
       "marker_color": "orange",
       "name": "life-ring"
      }
     },
     "9883f3fbae234bfa8e3351030097e233": {
      "model_module": "@jupyter-widgets/controls",
      "model_module_version": "1.5.0",
      "model_name": "HTMLModel",
      "state": {
       "layout": "IPY_MODEL_dafa041288964e4e8162f9afc30efd32",
       "style": "IPY_MODEL_aaf865648efb4a48ac390bc65ef72cc2",
       "value": "<table border=\"1\" class=\"dataframe table table-striped table-hover table-condensed table-responsive\">\n  <thead>\n    <tr style=\"text-align: right;\">\n      <th></th>\n      <th>64</th>\n    </tr>\n  </thead>\n  <tbody>\n    <tr>\n      <th>Institution</th>\n      <td>Observing System Monitoring Center (OSMC)</td>\n    </tr>\n    <tr>\n      <th>Dataset ID</th>\n      <td>osmc_46097</td>\n    </tr>\n  </tbody>\n</table>"
      }
     },
     "98b68eea50114bdc9581fe5f971240f8": {
      "model_module": "@jupyter-widgets/controls",
      "model_module_version": "1.5.0",
      "model_name": "HTMLModel",
      "state": {
       "layout": "IPY_MODEL_03033c8aae4742be909c315f76789bf8",
       "style": "IPY_MODEL_15a3310eb53d4d469ffd560082d1ad5a",
       "value": "<table border=\"1\" class=\"dataframe table table-striped table-hover table-condensed table-responsive\">\n  <thead>\n    <tr style=\"text-align: right;\">\n      <th></th>\n      <th>8</th>\n    </tr>\n  </thead>\n  <tbody>\n    <tr>\n      <th>Institution</th>\n      <td>Ocean Observatories Initiative (OOI)</td>\n    </tr>\n    <tr>\n      <th>Dataset ID</th>\n      <td>ooi-ce01issm-sbd17-06-flortd000</td>\n    </tr>\n  </tbody>\n</table>"
      }
     },
     "98ba8dd16d50429a977a4a6ed75b4be1": {
      "model_module": "jupyter-leaflet",
      "model_module_version": "^0.14.0",
      "model_name": "LeafletMarkerModel",
      "state": {
       "_model_module_version": "^0.14.0",
       "_view_module_version": "^0.14.0",
       "icon": "IPY_MODEL_c86e2fb4e765400e8dce963518421041",
       "location": [
        47.1345,
        -124.27087
       ],
       "options": [
        "alt",
        "draggable",
        "keyboard",
        "rise_offset",
        "rise_on_hover",
        "rotation_angle",
        "rotation_origin",
        "title",
        "z_index_offset"
       ],
       "popup": "IPY_MODEL_a2e99eacf8824c219faa3c471d35c99e"
      }
     },
     "98d0ce373f0040e89c6e02d79b3cffc5": {
      "model_module": "jupyter-leaflet",
      "model_module_version": "^0.14.0",
      "model_name": "LeafletAwesomeIconModel",
      "state": {
       "_model_module_version": "^0.14.0",
       "_view_module_version": "^0.14.0",
       "icon_color": "white",
       "marker_color": "orange",
       "name": "life-ring"
      }
     },
     "992d87b4e36f4c3abfe7ecff4c38a461": {
      "model_module": "jupyter-leaflet",
      "model_module_version": "^0.14.0",
      "model_name": "LeafletMarkerModel",
      "state": {
       "_model_module_version": "^0.14.0",
       "_view_module_version": "^0.14.0",
       "icon": "IPY_MODEL_9cfae4a03dd943b68e59a4bdba27b21e",
       "location": [
        46.85367,
        -124.95935
       ],
       "options": [
        "alt",
        "draggable",
        "keyboard",
        "rise_offset",
        "rise_on_hover",
        "rotation_angle",
        "rotation_origin",
        "title",
        "z_index_offset"
       ],
       "popup": "IPY_MODEL_faf0ffcf5b944ebdb8eb9b68459c2cb1"
      }
     },
     "996380df00fc4c35ba53a55741bb4b91": {
      "model_module": "@jupyter-widgets/controls",
      "model_module_version": "1.5.0",
      "model_name": "HTMLModel",
      "state": {
       "layout": "IPY_MODEL_3e3d1ec43f4b4c9eb0e4a96edabe75ce",
       "style": "IPY_MODEL_434210d8d9df4d8c9f821c1f5c88f219",
       "value": "<table border=\"1\" class=\"dataframe table table-striped table-hover table-condensed table-responsive\">\n  <thead>\n    <tr style=\"text-align: right;\">\n      <th></th>\n      <th>6</th>\n    </tr>\n  </thead>\n  <tbody>\n    <tr>\n      <th>Institution</th>\n      <td>Ocean Observatories Initiative (OOI)</td>\n    </tr>\n    <tr>\n      <th>Dataset ID</th>\n      <td>ooi-ce01issm-mfd37-03-dostad000</td>\n    </tr>\n  </tbody>\n</table>"
      }
     },
     "99938366c7b14768992514366c42412a": {
      "model_module": "jupyter-leaflet",
      "model_module_version": "^0.14.0",
      "model_name": "LeafletMarkerModel",
      "state": {
       "_model_module_version": "^0.14.0",
       "_view_module_version": "^0.14.0",
       "icon": "IPY_MODEL_7a36a0ca395e4264b3e7a47ecb8b8c78",
       "location": [
        46.98648,
        -124.56923
       ],
       "options": [
        "alt",
        "draggable",
        "keyboard",
        "rise_offset",
        "rise_on_hover",
        "rotation_angle",
        "rotation_origin",
        "title",
        "z_index_offset"
       ],
       "popup": "IPY_MODEL_547daa0240f3445195e1aa10ee553ec7"
      }
     },
     "9997964c386a4da38e2e37f991b87daa": {
      "model_module": "@jupyter-widgets/controls",
      "model_module_version": "1.5.0",
      "model_name": "HTMLModel",
      "state": {
       "layout": "IPY_MODEL_0694e07cbee6497b96947a559aa20d9c",
       "style": "IPY_MODEL_cee856d9327246f1bbd5bbdf84e879d5",
       "value": "<table border=\"1\" class=\"dataframe table table-striped table-hover table-condensed table-responsive\">\n  <thead>\n    <tr style=\"text-align: right;\">\n      <th></th>\n      <th>9</th>\n    </tr>\n  </thead>\n  <tbody>\n    <tr>\n      <th>Institution</th>\n      <td>Ocean Observatories Initiative (OOI)</td>\n    </tr>\n    <tr>\n      <th>Dataset ID</th>\n      <td>ooi-ce01issm-sbd17-06-ctdbpc000</td>\n    </tr>\n  </tbody>\n</table>"
      }
     },
     "99a2e774820947e08a3c0f7d39eaaa80": {
      "model_module": "@jupyter-widgets/base",
      "model_module_version": "1.2.0",
      "model_name": "LayoutModel",
      "state": {}
     },
     "99eabbc34ca846debb5374663f09c4ac": {
      "model_module": "jupyter-leaflet",
      "model_module_version": "^0.14.0",
      "model_name": "LeafletAwesomeIconModel",
      "state": {
       "_model_module_version": "^0.14.0",
       "_view_module_version": "^0.14.0",
       "icon_color": "white",
       "marker_color": "orange",
       "name": "life-ring"
      }
     },
     "99fe8beb1a1a4400a3d75785fd910ac9": {
      "model_module": "@jupyter-widgets/base",
      "model_module_version": "1.2.0",
      "model_name": "LayoutModel",
      "state": {}
     },
     "9a8715a7630a4064b7b66d3e900438b3": {
      "model_module": "@jupyter-widgets/controls",
      "model_module_version": "1.5.0",
      "model_name": "HTMLModel",
      "state": {
       "layout": "IPY_MODEL_86046bc8b63e4454b75549b2059c1989",
       "style": "IPY_MODEL_bd08aabf9b47460aacc76410362a854d",
       "value": "<table border=\"1\" class=\"dataframe table table-striped table-hover table-condensed table-responsive\">\n  <thead>\n    <tr style=\"text-align: right;\">\n      <th></th>\n      <th>64</th>\n    </tr>\n  </thead>\n  <tbody>\n    <tr>\n      <th>Institution</th>\n      <td>Observing System Monitoring Center (OSMC)</td>\n    </tr>\n    <tr>\n      <th>Dataset ID</th>\n      <td>osmc_46097</td>\n    </tr>\n  </tbody>\n</table>"
      }
     },
     "9ab6025f6b144befacf1261d1012b2aa": {
      "model_module": "jupyter-leaflet",
      "model_module_version": "^0.14.0",
      "model_name": "LeafletMapStyleModel",
      "state": {
       "_model_module_version": "^0.14.0",
       "cursor": "move"
      }
     },
     "9b353ef82f834738810f38103cc3c74c": {
      "model_module": "@jupyter-widgets/controls",
      "model_module_version": "1.5.0",
      "model_name": "DescriptionStyleModel",
      "state": {
       "description_width": ""
      }
     },
     "9beab02526094f99b2f084cefddd0555": {
      "model_module": "@jupyter-widgets/controls",
      "model_module_version": "1.5.0",
      "model_name": "HTMLModel",
      "state": {
       "layout": "IPY_MODEL_645412fae5834cecb8a9f249474d86a3",
       "style": "IPY_MODEL_f2db8c82d4fa46468221501b25d75b90",
       "value": "<table border=\"1\" class=\"dataframe table table-striped table-hover table-condensed table-responsive\">\n  <thead>\n    <tr style=\"text-align: right;\">\n      <th></th>\n      <th>31</th>\n    </tr>\n  </thead>\n  <tbody>\n    <tr>\n      <th>Institution</th>\n      <td>Ocean Observatories Initiative (OOI)</td>\n    </tr>\n    <tr>\n      <th>Dataset ID</th>\n      <td>ooi-ce06issm-rid16-02-flortd000</td>\n    </tr>\n  </tbody>\n</table>"
      }
     },
     "9c032bddab8f4bb9a8ef5b2e83c97e43": {
      "model_module": "@jupyter-widgets/base",
      "model_module_version": "1.2.0",
      "model_name": "LayoutModel",
      "state": {}
     },
     "9c33a0feb8174388b69365e618bf77be": {
      "model_module": "jupyter-leaflet",
      "model_module_version": "^0.14.0",
      "model_name": "LeafletMarkerModel",
      "state": {
       "_model_module_version": "^0.14.0",
       "_view_module_version": "^0.14.0",
       "icon": "IPY_MODEL_c6c7054363674edd8390785f5c349a31",
       "location": [
        44.37868,
        -124.94508
       ],
       "options": [
        "alt",
        "draggable",
        "keyboard",
        "rise_offset",
        "rise_on_hover",
        "rotation_angle",
        "rotation_origin",
        "title",
        "z_index_offset"
       ],
       "popup": "IPY_MODEL_5c649f38ced747e7a8b7117e89c0d699"
      }
     },
     "9c345610220b4e1a8c5f39d78eb68708": {
      "model_module": "@jupyter-widgets/base",
      "model_module_version": "1.2.0",
      "model_name": "LayoutModel",
      "state": {}
     },
     "9c437a32ac294242b5a03625557ebf33": {
      "model_module": "@jupyter-widgets/controls",
      "model_module_version": "1.5.0",
      "model_name": "HTMLModel",
      "state": {
       "layout": "IPY_MODEL_8900d851f33946489e25f27dd210e59c",
       "style": "IPY_MODEL_0a143eefea614f298ab4a6ac05eb396d",
       "value": "<table border=\"1\" class=\"dataframe table table-striped table-hover table-condensed table-responsive\">\n  <thead>\n    <tr style=\"text-align: right;\">\n      <th></th>\n      <th>27</th>\n    </tr>\n  </thead>\n  <tbody>\n    <tr>\n      <th>Institution</th>\n      <td>Ocean Observatories Initiative (OOI)</td>\n    </tr>\n    <tr>\n      <th>Dataset ID</th>\n      <td>ooi-ce02shsm-rid26-07-nutnrb000</td>\n    </tr>\n  </tbody>\n</table>"
      }
     },
     "9cb6cd87bf84467aa909bcf8f405403c": {
      "model_module": "jupyter-leaflet",
      "model_module_version": "^0.14.0",
      "model_name": "LeafletAwesomeIconModel",
      "state": {
       "_model_module_version": "^0.14.0",
       "_view_module_version": "^0.14.0",
       "icon_color": "white",
       "marker_color": "orange",
       "name": "life-ring"
      }
     },
     "9ccb11591ac8426d9274ffcb89367255": {
      "model_module": "@jupyter-widgets/base",
      "model_module_version": "1.2.0",
      "model_name": "LayoutModel",
      "state": {}
     },
     "9ccbdd752aab4934acc757841f595857": {
      "model_module": "@jupyter-widgets/controls",
      "model_module_version": "1.5.0",
      "model_name": "HTMLModel",
      "state": {
       "layout": "IPY_MODEL_2d66c00b6fe74b53a9c1ce3c352aa6df",
       "style": "IPY_MODEL_3884a85cadac4708a4bf041307844f94",
       "value": "<table border=\"1\" class=\"dataframe table table-striped table-hover table-condensed table-responsive\">\n  <thead>\n    <tr style=\"text-align: right;\">\n      <th></th>\n      <th>34</th>\n    </tr>\n  </thead>\n  <tbody>\n    <tr>\n      <th>Institution</th>\n      <td>Ocean Observatories Initiative (OOI)</td>\n    </tr>\n    <tr>\n      <th>Dataset ID</th>\n      <td>ooi-ce06issm-rid16-07-nutnrb000</td>\n    </tr>\n  </tbody>\n</table>"
      }
     },
     "9cd2e3c2f8ee4f01b4be1270801166a2": {
      "model_module": "@jupyter-widgets/controls",
      "model_module_version": "1.5.0",
      "model_name": "DescriptionStyleModel",
      "state": {
       "description_width": ""
      }
     },
     "9cfae4a03dd943b68e59a4bdba27b21e": {
      "model_module": "jupyter-leaflet",
      "model_module_version": "^0.14.0",
      "model_name": "LeafletAwesomeIconModel",
      "state": {
       "_model_module_version": "^0.14.0",
       "_view_module_version": "^0.14.0",
       "icon_color": "white",
       "marker_color": "orange",
       "name": "life-ring"
      }
     },
     "9d3e10fe07004019af2d251473dffdb0": {
      "model_module": "jupyter-leaflet",
      "model_module_version": "^0.14.0",
      "model_name": "LeafletAwesomeIconModel",
      "state": {
       "_model_module_version": "^0.14.0",
       "_view_module_version": "^0.14.0",
       "icon_color": "white",
       "marker_color": "orange",
       "name": "life-ring"
      }
     },
     "9d5f777b34464cc1b3a46930c90e7efc": {
      "model_module": "jupyter-leaflet",
      "model_module_version": "^0.14.0",
      "model_name": "LeafletMarkerModel",
      "state": {
       "_model_module_version": "^0.14.0",
       "_view_module_version": "^0.14.0",
       "icon": "IPY_MODEL_24a55782ca6a4763889aa9b1d1514af8",
       "location": [
        46.204,
        -123.759
       ],
       "options": [
        "alt",
        "draggable",
        "keyboard",
        "rise_offset",
        "rise_on_hover",
        "rotation_angle",
        "rotation_origin",
        "title",
        "z_index_offset"
       ],
       "popup": "IPY_MODEL_b87a02982e8343f38df08821907d0cf6"
      }
     },
     "9d620710b304491284aa708161982962": {
      "model_module": "@jupyter-widgets/controls",
      "model_module_version": "1.5.0",
      "model_name": "DescriptionStyleModel",
      "state": {
       "description_width": ""
      }
     },
     "9d6ff3d90c3043b484a554918a41840b": {
      "model_module": "jupyter-leaflet",
      "model_module_version": "^0.14.0",
      "model_name": "LeafletMarkerModel",
      "state": {
       "_model_module_version": "^0.14.0",
       "_view_module_version": "^0.14.0",
       "icon": "IPY_MODEL_2740f1bca8e44f62a8f1d7671f3987b0",
       "location": [
        46.173,
        -124.127
       ],
       "options": [
        "alt",
        "draggable",
        "keyboard",
        "rise_offset",
        "rise_on_hover",
        "rotation_angle",
        "rotation_origin",
        "title",
        "z_index_offset"
       ],
       "popup": "IPY_MODEL_204efb400fba4c11ab7f87cdf06c2db1"
      }
     },
     "9dacc49cb8a44da6a3bbfa13f16f8380": {
      "model_module": "jupyter-leaflet",
      "model_module_version": "^0.14.0",
      "model_name": "LeafletAwesomeIconModel",
      "state": {
       "_model_module_version": "^0.14.0",
       "_view_module_version": "^0.14.0",
       "icon_color": "white",
       "marker_color": "orange",
       "name": "life-ring"
      }
     },
     "9dbaaaae305b402e9043b4abd7d1a4ef": {
      "model_module": "jupyter-leaflet",
      "model_module_version": "^0.14.0",
      "model_name": "LeafletMarkerModel",
      "state": {
       "_model_module_version": "^0.14.0",
       "_view_module_version": "^0.14.0",
       "icon": "IPY_MODEL_86ac57ca7b3d48e89e5f4fea66ad42e8",
       "location": [
        46.2,
        -123.941
       ],
       "options": [
        "alt",
        "draggable",
        "keyboard",
        "rise_offset",
        "rise_on_hover",
        "rotation_angle",
        "rotation_origin",
        "title",
        "z_index_offset"
       ],
       "popup": "IPY_MODEL_2df21d2ca83347d197cc9932cf4fc962"
      }
     },
     "9e09ef4667e94611b52fa4bd9e567927": {
      "model_module": "jupyter-leaflet",
      "model_module_version": "^0.14.0",
      "model_name": "LeafletMarkerModel",
      "state": {
       "_model_module_version": "^0.14.0",
       "_view_module_version": "^0.14.0",
       "icon": "IPY_MODEL_718cddba72a2495185f6382079260456",
       "location": [
        44.65678,
        -124.09707
       ],
       "options": [
        "alt",
        "draggable",
        "keyboard",
        "rise_offset",
        "rise_on_hover",
        "rotation_angle",
        "rotation_origin",
        "title",
        "z_index_offset"
       ],
       "popup": "IPY_MODEL_3782aa6bafab474eb8a7ba81deb0fa6b"
      }
     },
     "9e126f0061c24e3491de1bdf8060408d": {
      "model_module": "jupyter-leaflet",
      "model_module_version": "^0.14.0",
      "model_name": "LeafletRectangleModel",
      "state": {
       "_model_module_version": "^0.14.0",
       "_view_module_version": "^0.14.0",
       "bounds": [
        [
         43,
         -127
        ],
        [
         48,
         -123.75
        ]
       ],
       "color": "red",
       "draggable": false,
       "fill": false,
       "options": [
        "color",
        "dash_array",
        "draggable",
        "fill",
        "fill_color",
        "fill_opacity",
        "line_cap",
        "line_join",
        "no_clip",
        "opacity",
        "pointer_events",
        "smooth_factor",
        "stroke",
        "transform",
        "weight"
       ],
       "rotation": true,
       "scaling": true,
       "transform": false,
       "uniform_scaling": false
      }
     },
     "9eadecc6b1d149e7a9adb97705187aea": {
      "model_module": "jupyter-leaflet",
      "model_module_version": "^0.14.0",
      "model_name": "LeafletMarkerModel",
      "state": {
       "_model_module_version": "^0.14.0",
       "_view_module_version": "^0.14.0",
       "icon": "IPY_MODEL_8d23746b742b4d3aa633a57473ef5d85",
       "location": [
        46.98648,
        -124.56923
       ],
       "options": [
        "alt",
        "draggable",
        "keyboard",
        "rise_offset",
        "rise_on_hover",
        "rotation_angle",
        "rotation_origin",
        "title",
        "z_index_offset"
       ],
       "popup": "IPY_MODEL_00bdec2380d345eea9146e472c0f1c89"
      }
     },
     "9f3a6d0112584985a3efbc295c833232": {
      "model_module": "@jupyter-widgets/base",
      "model_module_version": "1.2.0",
      "model_name": "LayoutModel",
      "state": {}
     },
     "9f4e76b467bf41469231543a4a4acb09": {
      "model_module": "@jupyter-widgets/base",
      "model_module_version": "1.2.0",
      "model_name": "LayoutModel",
      "state": {}
     },
     "9fb7dbf18a1847648f008022f6f4a10a": {
      "model_module": "jupyter-leaflet",
      "model_module_version": "^0.14.0",
      "model_name": "LeafletMarkerModel",
      "state": {
       "_model_module_version": "^0.14.0",
       "_view_module_version": "^0.14.0",
       "icon": "IPY_MODEL_ca2c0f6b9cf04f598514d0d041e80267",
       "location": [
        44.65678,
        -124.09707
       ],
       "options": [
        "alt",
        "draggable",
        "keyboard",
        "rise_offset",
        "rise_on_hover",
        "rotation_angle",
        "rotation_origin",
        "title",
        "z_index_offset"
       ],
       "popup": "IPY_MODEL_d06a5100a7ac4e10993d9ebab9d3156b"
      }
     },
     "a046e0509bf347699e3abad3454634cb": {
      "model_module": "jupyter-leaflet",
      "model_module_version": "^0.14.0",
      "model_name": "LeafletAwesomeIconModel",
      "state": {
       "_model_module_version": "^0.14.0",
       "_view_module_version": "^0.14.0",
       "icon_color": "white",
       "marker_color": "orange",
       "name": "life-ring"
      }
     },
     "a0941d2af8c7426ca34f798a16242dc5": {
      "model_module": "@jupyter-widgets/controls",
      "model_module_version": "1.5.0",
      "model_name": "HTMLModel",
      "state": {
       "layout": "IPY_MODEL_53907e6f38434745883f1aef85e77540",
       "style": "IPY_MODEL_8369f4231ee24196aef237377b4743cd",
       "value": "<table border=\"1\" class=\"dataframe table table-striped table-hover table-condensed table-responsive\">\n  <thead>\n    <tr style=\"text-align: right;\">\n      <th></th>\n      <th>50</th>\n    </tr>\n  </thead>\n  <tbody>\n    <tr>\n      <th>Institution</th>\n      <td>Ocean Observatories Initiative (OOI)</td>\n    </tr>\n    <tr>\n      <th>Dataset ID</th>\n      <td>ooi-ce07shsm-rid27-02-flortd000</td>\n    </tr>\n  </tbody>\n</table>"
      }
     },
     "a0e3d2dabcbd484fae44d64dcc885b95": {
      "model_module": "jupyter-leaflet",
      "model_module_version": "^0.14.0",
      "model_name": "LeafletMarkerModel",
      "state": {
       "_model_module_version": "^0.14.0",
       "_view_module_version": "^0.14.0",
       "icon": "IPY_MODEL_df67126acef44fc4892dec643f25964d",
       "location": [
        47.97,
        -124.95
       ],
       "options": [
        "alt",
        "draggable",
        "keyboard",
        "rise_offset",
        "rise_on_hover",
        "rotation_angle",
        "rotation_origin",
        "title",
        "z_index_offset"
       ],
       "popup": "IPY_MODEL_7689028f4ad844c48a676f8c347803d6"
      }
     },
     "a1048b680f34439bac6daafd70de1593": {
      "model_module": "@jupyter-widgets/base",
      "model_module_version": "1.2.0",
      "model_name": "LayoutModel",
      "state": {}
     },
     "a176a0a455e74315af8bb7b7e5a62e4e": {
      "model_module": "@jupyter-widgets/controls",
      "model_module_version": "1.5.0",
      "model_name": "HTMLModel",
      "state": {
       "layout": "IPY_MODEL_b3a4bdeb6a4a4e9288e3d299c4d6f98d",
       "style": "IPY_MODEL_21ec46891b984f9b9f71d56501a3ae25",
       "value": "<table border=\"1\" class=\"dataframe table table-striped table-hover table-condensed table-responsive\">\n  <thead>\n    <tr style=\"text-align: right;\">\n      <th></th>\n      <th>27</th>\n    </tr>\n  </thead>\n  <tbody>\n    <tr>\n      <th>Institution</th>\n      <td>Ocean Observatories Initiative (OOI)</td>\n    </tr>\n    <tr>\n      <th>Dataset ID</th>\n      <td>ooi-ce02shsm-rid26-07-nutnrb000</td>\n    </tr>\n  </tbody>\n</table>"
      }
     },
     "a19be71e83e141799225ba30acad9bb2": {
      "model_module": "@jupyter-widgets/controls",
      "model_module_version": "1.5.0",
      "model_name": "HTMLModel",
      "state": {
       "layout": "IPY_MODEL_577fb8307b984bd6a33fcdb56b95a5de",
       "style": "IPY_MODEL_edc7cf86a1194dab9b6a11b1b58c5b1e",
       "value": "<table border=\"1\" class=\"dataframe table table-striped table-hover table-condensed table-responsive\">\n  <thead>\n    <tr style=\"text-align: right;\">\n      <th></th>\n      <th>13</th>\n    </tr>\n  </thead>\n  <tbody>\n    <tr>\n      <th>Institution</th>\n      <td>Ocean Observatories Initiative (OOI)</td>\n    </tr>\n    <tr>\n      <th>Dataset ID</th>\n      <td>ooi-ce04osps-pc01b-4a-ctdpfa109</td>\n    </tr>\n  </tbody>\n</table>"
      }
     },
     "a19f8d4fa0f947eda92c11d57b80d84b": {
      "model_module": "jupyter-leaflet",
      "model_module_version": "^0.14.0",
      "model_name": "LeafletAwesomeIconModel",
      "state": {
       "_model_module_version": "^0.14.0",
       "_view_module_version": "^0.14.0",
       "icon_color": "white",
       "marker_color": "orange",
       "name": "life-ring"
      }
     },
     "a1aeec1585034fb29cf8e3eeca8b801a": {
      "model_module": "@jupyter-widgets/controls",
      "model_module_version": "1.5.0",
      "model_name": "DescriptionStyleModel",
      "state": {
       "description_width": ""
      }
     },
     "a21dbd62a75f499e8e274b448ad005e0": {
      "model_module": "jupyter-leaflet",
      "model_module_version": "^0.14.0",
      "model_name": "LeafletMapStyleModel",
      "state": {
       "_model_module_version": "^0.14.0",
       "cursor": "move"
      }
     },
     "a25ddcfcac184f7daebc33a8ddb23975": {
      "model_module": "jupyter-leaflet",
      "model_module_version": "^0.14.0",
      "model_name": "LeafletAwesomeIconModel",
      "state": {
       "_model_module_version": "^0.14.0",
       "_view_module_version": "^0.14.0",
       "icon_color": "white",
       "name": "life-ring"
      }
     },
     "a276bd348e0940fa8db692557590fe4e": {
      "model_module": "@jupyter-widgets/controls",
      "model_module_version": "1.5.0",
      "model_name": "HTMLModel",
      "state": {
       "layout": "IPY_MODEL_e43e54a5cc9349c7a0047c1197988c5c",
       "style": "IPY_MODEL_71fcb309a2334e27b11fc557253eb486",
       "value": "<table border=\"1\" class=\"dataframe table table-striped table-hover table-condensed table-responsive\">\n  <thead>\n    <tr style=\"text-align: right;\">\n      <th></th>\n      <th>70</th>\n    </tr>\n  </thead>\n  <tbody>\n    <tr>\n      <th>Institution</th>\n      <td>Northwest Association of Networked Ocean Observing Systems (NANOOS)</td>\n    </tr>\n    <tr>\n      <th>Dataset ID</th>\n      <td>nanoos_apl_nemo</td>\n    </tr>\n  </tbody>\n</table>"
      }
     },
     "a2d6b4b795434fd790780ea630795516": {
      "model_module": "jupyter-leaflet",
      "model_module_version": "^0.14.0",
      "model_name": "LeafletMarkerModel",
      "state": {
       "_model_module_version": "^0.14.0",
       "_view_module_version": "^0.14.0",
       "icon": "IPY_MODEL_495b0805619a4b64a8a594356352f3fa",
       "location": [
        47.1345,
        -124.27087
       ],
       "options": [
        "alt",
        "draggable",
        "keyboard",
        "rise_offset",
        "rise_on_hover",
        "rotation_angle",
        "rotation_origin",
        "title",
        "z_index_offset"
       ],
       "popup": "IPY_MODEL_b687b5d695c940e1a9688a74ad7c7d0b"
      }
     },
     "a2e99eacf8824c219faa3c471d35c99e": {
      "model_module": "@jupyter-widgets/controls",
      "model_module_version": "1.5.0",
      "model_name": "HTMLModel",
      "state": {
       "layout": "IPY_MODEL_4916a824d24b4ad3a382aa402fdcd993",
       "style": "IPY_MODEL_5d7aabee730f4d92859c4998e0288b78",
       "value": "<table border=\"1\" class=\"dataframe table table-striped table-hover table-condensed table-responsive\">\n  <thead>\n    <tr style=\"text-align: right;\">\n      <th></th>\n      <th>35</th>\n    </tr>\n  </thead>\n  <tbody>\n    <tr>\n      <th>Institution</th>\n      <td>Ocean Observatories Initiative (OOI)</td>\n    </tr>\n    <tr>\n      <th>Dataset ID</th>\n      <td>ooi-ce06issm-rid16-06-phsend000</td>\n    </tr>\n  </tbody>\n</table>"
      }
     },
     "a3044dc08bd64cd4b47686b445469e86": {
      "model_module": "@jupyter-widgets/base",
      "model_module_version": "1.2.0",
      "model_name": "LayoutModel",
      "state": {}
     },
     "a39681a9b6d44ba6b54e05d18324a795": {
      "model_module": "@jupyter-widgets/base",
      "model_module_version": "1.2.0",
      "model_name": "LayoutModel",
      "state": {}
     },
     "a3a63060905542e6838e0b0fabee5bd5": {
      "model_module": "@jupyter-widgets/controls",
      "model_module_version": "1.5.0",
      "model_name": "DescriptionStyleModel",
      "state": {
       "description_width": ""
      }
     },
     "a3bcbcf692de479484902bc863f685b6": {
      "model_module": "@jupyter-widgets/controls",
      "model_module_version": "1.5.0",
      "model_name": "DescriptionStyleModel",
      "state": {
       "description_width": ""
      }
     },
     "a3d9f7814ab24b1e9086e734d8f73843": {
      "model_module": "jupyter-leaflet",
      "model_module_version": "^0.14.0",
      "model_name": "LeafletAwesomeIconModel",
      "state": {
       "_model_module_version": "^0.14.0",
       "_view_module_version": "^0.14.0",
       "icon_color": "white",
       "marker_color": "orange",
       "name": "life-ring"
      }
     },
     "a40e3243f7854aee8506adcc9847ec9a": {
      "model_module": "@jupyter-widgets/controls",
      "model_module_version": "1.5.0",
      "model_name": "HTMLModel",
      "state": {
       "layout": "IPY_MODEL_e5274820d4404e1bb6a40314457ab80e",
       "style": "IPY_MODEL_24f6b2f96f654830b362222c38387794",
       "value": "<table border=\"1\" class=\"dataframe table table-striped table-hover table-condensed table-responsive\">\n  <thead>\n    <tr style=\"text-align: right;\">\n      <th></th>\n      <th>75</th>\n    </tr>\n  </thead>\n  <tbody>\n    <tr>\n      <th>Institution</th>\n      <td>NOAA Pacific Marine Environmental Lab (PMEL)</td>\n    </tr>\n    <tr>\n      <th>Dataset ID</th>\n      <td>gov_ornl_cdiac_lapush_125w_48n</td>\n    </tr>\n  </tbody>\n</table>"
      }
     },
     "a44c1acf2b4b4272bce6158e67453f11": {
      "model_module": "jupyter-leaflet",
      "model_module_version": "^0.14.0",
      "model_name": "LeafletAwesomeIconModel",
      "state": {
       "_model_module_version": "^0.14.0",
       "_view_module_version": "^0.14.0",
       "icon_color": "white",
       "marker_color": "orange",
       "name": "life-ring"
      }
     },
     "a53e355db12c48548dbad57f47ed1377": {
      "model_module": "jupyter-leaflet",
      "model_module_version": "^0.14.0",
      "model_name": "LeafletAwesomeIconModel",
      "state": {
       "_model_module_version": "^0.14.0",
       "_view_module_version": "^0.14.0",
       "icon_color": "white",
       "marker_color": "orange",
       "name": "life-ring"
      }
     },
     "a56aea5adfcb4082ac6055572e6e778a": {
      "model_module": "jupyter-leaflet",
      "model_module_version": "^0.14.0",
      "model_name": "LeafletMarkerModel",
      "state": {
       "_model_module_version": "^0.14.0",
       "_view_module_version": "^0.14.0",
       "icon": "IPY_MODEL_078e25c3395146d79666628d8f4da034",
       "location": [
        44.3695,
        -124.95369
       ],
       "options": [
        "alt",
        "draggable",
        "keyboard",
        "rise_offset",
        "rise_on_hover",
        "rotation_angle",
        "rotation_origin",
        "title",
        "z_index_offset"
       ],
       "popup": "IPY_MODEL_be77c6d99a5c4acc8ad80038133ade8e"
      }
     },
     "a56cd0e652ec402f854864e9480d87ba": {
      "model_module": "@jupyter-widgets/controls",
      "model_module_version": "1.5.0",
      "model_name": "HTMLModel",
      "state": {
       "layout": "IPY_MODEL_90f0cc9c7ca049d19371ff06c36906e5",
       "style": "IPY_MODEL_c03f1b1ad0cb426387bac0308d5feda7",
       "value": "<table border=\"1\" class=\"dataframe table table-striped table-hover table-condensed table-responsive\">\n  <thead>\n    <tr style=\"text-align: right;\">\n      <th></th>\n      <th>54</th>\n    </tr>\n  </thead>\n  <tbody>\n    <tr>\n      <th>Institution</th>\n      <td>Ocean Observatories Initiative (OOI)</td>\n    </tr>\n    <tr>\n      <th>Dataset ID</th>\n      <td>ooi-ce07shsm-rid26-06-phsend000</td>\n    </tr>\n  </tbody>\n</table>"
      }
     },
     "a56ee654c50f4df3a10865dea4240aee": {
      "model_module": "@jupyter-widgets/controls",
      "model_module_version": "1.5.0",
      "model_name": "DescriptionStyleModel",
      "state": {
       "description_width": ""
      }
     },
     "a5cdf6502bda403aba83b1a2b920b6ed": {
      "model_module": "@jupyter-widgets/base",
      "model_module_version": "1.2.0",
      "model_name": "LayoutModel",
      "state": {}
     },
     "a5d35e481fed479b9fbf3879c12d9b4d": {
      "model_module": "jupyter-leaflet",
      "model_module_version": "^0.14.0",
      "model_name": "LeafletMarkerModel",
      "state": {
       "_model_module_version": "^0.14.0",
       "_view_module_version": "^0.14.0",
       "icon": "IPY_MODEL_979d6abf076f4eed8d7dfde659b1abb5",
       "location": [
        46.85367,
        -124.95935
       ],
       "options": [
        "alt",
        "draggable",
        "keyboard",
        "rise_offset",
        "rise_on_hover",
        "rotation_angle",
        "rotation_origin",
        "title",
        "z_index_offset"
       ],
       "popup": "IPY_MODEL_f65a29f135b24c9396ed815a7426619f"
      }
     },
     "a5e84c909fa14e0fb2d9525b550c9b89": {
      "model_module": "jupyter-leaflet",
      "model_module_version": "^0.14.0",
      "model_name": "LeafletMarkerModel",
      "state": {
       "_model_module_version": "^0.14.0",
       "_view_module_version": "^0.14.0",
       "icon": "IPY_MODEL_801d3add2f544f148f84c6ce036f6470",
       "location": [
        47.1345,
        -124.27087
       ],
       "options": [
        "alt",
        "draggable",
        "keyboard",
        "rise_offset",
        "rise_on_hover",
        "rotation_angle",
        "rotation_origin",
        "title",
        "z_index_offset"
       ],
       "popup": "IPY_MODEL_3de4b17fc669477097afaa56d99bf65b"
      }
     },
     "a60562b818224597b312c18cab0e0379": {
      "model_module": "@jupyter-widgets/base",
      "model_module_version": "1.2.0",
      "model_name": "LayoutModel",
      "state": {}
     },
     "a66c7cd7f43f4df8a00448232c829d3b": {
      "model_module": "jupyter-leaflet",
      "model_module_version": "^0.14.0",
      "model_name": "LeafletAwesomeIconModel",
      "state": {
       "_model_module_version": "^0.14.0",
       "_view_module_version": "^0.14.0",
       "icon_color": "white",
       "marker_color": "orange",
       "name": "life-ring"
      }
     },
     "a6957a7a582a4caf98960cc19ec073a8": {
      "model_module": "jupyter-leaflet",
      "model_module_version": "^0.14.0",
      "model_name": "LeafletAwesomeIconModel",
      "state": {
       "_model_module_version": "^0.14.0",
       "_view_module_version": "^0.14.0",
       "icon_color": "white",
       "name": "life-ring"
      }
     },
     "a6ca279c4507464199f6de8def874406": {
      "model_module": "@jupyter-widgets/base",
      "model_module_version": "1.2.0",
      "model_name": "LayoutModel",
      "state": {}
     },
     "a6caf9029abd4660b8e459f5779b9b14": {
      "model_module": "@jupyter-widgets/controls",
      "model_module_version": "1.5.0",
      "model_name": "DescriptionStyleModel",
      "state": {
       "description_width": ""
      }
     },
     "a6d17cda980a4c8f8663fe7c21e75159": {
      "model_module": "@jupyter-widgets/base",
      "model_module_version": "1.2.0",
      "model_name": "LayoutModel",
      "state": {}
     },
     "a6d4c5d15a6c4a3a9ffb255981325c09": {
      "model_module": "jupyter-leaflet",
      "model_module_version": "^0.14.0",
      "model_name": "LeafletAwesomeIconModel",
      "state": {
       "_model_module_version": "^0.14.0",
       "_view_module_version": "^0.14.0",
       "icon_color": "white",
       "marker_color": "orange",
       "name": "life-ring"
      }
     },
     "a7453f3d3c5b428ab155ff4159e21a25": {
      "model_module": "jupyter-leaflet",
      "model_module_version": "^0.14.0",
      "model_name": "LeafletAwesomeIconModel",
      "state": {
       "_model_module_version": "^0.14.0",
       "_view_module_version": "^0.14.0",
       "icon_color": "white",
       "marker_color": "orange",
       "name": "life-ring"
      }
     },
     "a746e944480b4c08b3f1656ce8142375": {
      "model_module": "@jupyter-widgets/controls",
      "model_module_version": "1.5.0",
      "model_name": "DescriptionStyleModel",
      "state": {
       "description_width": ""
      }
     },
     "a7908fc2a9584df483e197bfb046e1f7": {
      "model_module": "jupyter-leaflet",
      "model_module_version": "^0.14.0",
      "model_name": "LeafletMarkerModel",
      "state": {
       "_model_module_version": "^0.14.0",
       "_view_module_version": "^0.14.0",
       "icon": "IPY_MODEL_bb4d3519f91b448aa232909b2a6c4f07",
       "location": [
        46.98648,
        -124.56923
       ],
       "options": [
        "alt",
        "draggable",
        "keyboard",
        "rise_offset",
        "rise_on_hover",
        "rotation_angle",
        "rotation_origin",
        "title",
        "z_index_offset"
       ],
       "popup": "IPY_MODEL_a56cd0e652ec402f854864e9480d87ba"
      }
     },
     "a7adb70924bd4b50a54265ed927a4785": {
      "model_module": "jupyter-leaflet",
      "model_module_version": "^0.14.0",
      "model_name": "LeafletMarkerModel",
      "state": {
       "_model_module_version": "^0.14.0",
       "_view_module_version": "^0.14.0",
       "icon": "IPY_MODEL_ec60dbdba2b047b19a0b7066f6ad05bc",
       "location": [
        46.98648,
        -124.56923
       ],
       "options": [
        "alt",
        "draggable",
        "keyboard",
        "rise_offset",
        "rise_on_hover",
        "rotation_angle",
        "rotation_origin",
        "title",
        "z_index_offset"
       ],
       "popup": "IPY_MODEL_91ab87f5d1bf4cbd97d633886cb5d47a"
      }
     },
     "a847ba6adea54972abaf63237c19489c": {
      "model_module": "@jupyter-widgets/base",
      "model_module_version": "1.2.0",
      "model_name": "LayoutModel",
      "state": {}
     },
     "a8544e0d00cf4f5ea37ffbf5740d31d5": {
      "model_module": "@jupyter-widgets/base",
      "model_module_version": "1.2.0",
      "model_name": "LayoutModel",
      "state": {}
     },
     "a854dc8ff0ec47298ad907caca2f24fc": {
      "model_module": "@jupyter-widgets/base",
      "model_module_version": "1.2.0",
      "model_name": "LayoutModel",
      "state": {}
     },
     "a85b6ecc4c5245648e562ec5290ea80e": {
      "model_module": "@jupyter-widgets/controls",
      "model_module_version": "1.5.0",
      "model_name": "DescriptionStyleModel",
      "state": {
       "description_width": ""
      }
     },
     "a8a1e4edf93340a9af07d7dd41168090": {
      "model_module": "@jupyter-widgets/base",
      "model_module_version": "1.2.0",
      "model_name": "LayoutModel",
      "state": {}
     },
     "a8d142e106d34992a9a6a45965127d78": {
      "model_module": "@jupyter-widgets/controls",
      "model_module_version": "1.5.0",
      "model_name": "HTMLModel",
      "state": {
       "layout": "IPY_MODEL_49bffdf4ba5d4f16b3468f5405e70508",
       "style": "IPY_MODEL_b35b1286c21d4f258b0633f4c9ad26dc",
       "value": "<table border=\"1\" class=\"dataframe table table-striped table-hover table-condensed table-responsive\">\n  <thead>\n    <tr style=\"text-align: right;\">\n      <th></th>\n      <th>66</th>\n    </tr>\n  </thead>\n  <tbody>\n    <tr>\n      <th>Institution</th>\n      <td>Observing System Monitoring Center (OSMC)</td>\n    </tr>\n    <tr>\n      <th>Dataset ID</th>\n      <td>osmc_46099</td>\n    </tr>\n  </tbody>\n</table>"
      }
     },
     "a9265983447d425e9d04a284f5b118a8": {
      "model_module": "@jupyter-widgets/base",
      "model_module_version": "1.2.0",
      "model_name": "LayoutModel",
      "state": {}
     },
     "a94c619bb8704d07a6bd57c891f4533a": {
      "model_module": "jupyter-leaflet",
      "model_module_version": "^0.14.0",
      "model_name": "LeafletAwesomeIconModel",
      "state": {
       "_model_module_version": "^0.14.0",
       "_view_module_version": "^0.14.0",
       "icon_color": "white",
       "name": "life-ring"
      }
     },
     "a96fd716b090402899d48244c635d19c": {
      "model_module": "@jupyter-widgets/controls",
      "model_module_version": "1.5.0",
      "model_name": "HTMLModel",
      "state": {
       "layout": "IPY_MODEL_2b5736552169433f92737c11fec11cf2",
       "style": "IPY_MODEL_25a110392bd744e5ad4b59ea7f551130",
       "value": "<table border=\"1\" class=\"dataframe table table-striped table-hover table-condensed table-responsive\">\n  <thead>\n    <tr style=\"text-align: right;\">\n      <th></th>\n      <th>53</th>\n    </tr>\n  </thead>\n  <tbody>\n    <tr>\n      <th>Institution</th>\n      <td>Ocean Observatories Initiative (OOI)</td>\n    </tr>\n    <tr>\n      <th>Dataset ID</th>\n      <td>ooi-ce07shsm-rid26-07-nutnrb000</td>\n    </tr>\n  </tbody>\n</table>"
      }
     },
     "a98a61641b42459abdc6fdcbbc5be65e": {
      "model_module": "@jupyter-widgets/controls",
      "model_module_version": "1.5.0",
      "model_name": "DescriptionStyleModel",
      "state": {
       "description_width": ""
      }
     },
     "a998dbf77d684b15be33a155f48d0545": {
      "model_module": "jupyter-leaflet",
      "model_module_version": "^0.14.0",
      "model_name": "LeafletMarkerModel",
      "state": {
       "_model_module_version": "^0.14.0",
       "_view_module_version": "^0.14.0",
       "icon": "IPY_MODEL_78ad84aa22424f6cb932a22b495de03b",
       "location": [
        44.63958,
        -124.303
       ],
       "options": [
        "alt",
        "draggable",
        "keyboard",
        "rise_offset",
        "rise_on_hover",
        "rotation_angle",
        "rotation_origin",
        "title",
        "z_index_offset"
       ],
       "popup": "IPY_MODEL_863d886cb7684dff8c7fb485b6cf99e2"
      }
     },
     "aa4f2e50a9f142d485d68ec9b487a0cf": {
      "model_module": "jupyter-leaflet",
      "model_module_version": "^0.14.0",
      "model_name": "LeafletMarkerModel",
      "state": {
       "_model_module_version": "^0.14.0",
       "_view_module_version": "^0.14.0",
       "icon": "IPY_MODEL_674cb973cb0c47128a23288312c161bc",
       "location": [
        44.63708,
        -124.30595
       ],
       "options": [
        "alt",
        "draggable",
        "keyboard",
        "rise_offset",
        "rise_on_hover",
        "rotation_angle",
        "rotation_origin",
        "title",
        "z_index_offset"
       ],
       "popup": "IPY_MODEL_60ac9993a6534513a437d98fc6228616"
      }
     },
     "aa5f2cd1bfe94995970d957ddb4d18e2": {
      "model_module": "@jupyter-widgets/base",
      "model_module_version": "1.2.0",
      "model_name": "LayoutModel",
      "state": {}
     },
     "aab56ea1038240a9b8a1b101d7c3c272": {
      "model_module": "jupyter-leaflet",
      "model_module_version": "^0.14.0",
      "model_name": "LeafletMarkerModel",
      "state": {
       "_model_module_version": "^0.14.0",
       "_view_module_version": "^0.14.0",
       "icon": "IPY_MODEL_779babd8f0a3441f909b3a84cccace6c",
       "location": [
        44.378,
        -124.946
       ],
       "options": [
        "alt",
        "draggable",
        "keyboard",
        "rise_offset",
        "rise_on_hover",
        "rotation_angle",
        "rotation_origin",
        "title",
        "z_index_offset"
       ],
       "popup": "IPY_MODEL_23852de1a4df4aa69657b6cd02900d07"
      }
     },
     "aad1fd0e954748d990f4612fc055e1a3": {
      "model_module": "@jupyter-widgets/controls",
      "model_module_version": "1.5.0",
      "model_name": "HTMLModel",
      "state": {
       "layout": "IPY_MODEL_69294dbdf8cd41be80cb3c5bac6aec25",
       "style": "IPY_MODEL_25a9c93f50f44e858653c41bd2559a92",
       "value": "<table border=\"1\" class=\"dataframe table table-striped table-hover table-condensed table-responsive\">\n  <thead>\n    <tr style=\"text-align: right;\">\n      <th></th>\n      <th>6</th>\n    </tr>\n  </thead>\n  <tbody>\n    <tr>\n      <th>Institution</th>\n      <td>Ocean Observatories Initiative (OOI)</td>\n    </tr>\n    <tr>\n      <th>Dataset ID</th>\n      <td>ooi-ce01issm-mfd37-03-dostad000</td>\n    </tr>\n  </tbody>\n</table>"
      }
     },
     "aaf865648efb4a48ac390bc65ef72cc2": {
      "model_module": "@jupyter-widgets/controls",
      "model_module_version": "1.5.0",
      "model_name": "DescriptionStyleModel",
      "state": {
       "description_width": ""
      }
     },
     "aafb4e6331f54eb68e4916ac2925e4a9": {
      "model_module": "@jupyter-widgets/base",
      "model_module_version": "1.2.0",
      "model_name": "LayoutModel",
      "state": {}
     },
     "ab137d090dcf4659959399bae9ba859a": {
      "model_module": "jupyter-leaflet",
      "model_module_version": "^0.14.0",
      "model_name": "LeafletMarkerModel",
      "state": {
       "_model_module_version": "^0.14.0",
       "_view_module_version": "^0.14.0",
       "icon": "IPY_MODEL_4708c768ec54437cad9e4e13613a52a8",
       "location": [
        46.5007019042969,
        -124.030403137207
       ],
       "options": [
        "alt",
        "draggable",
        "keyboard",
        "rise_offset",
        "rise_on_hover",
        "rotation_angle",
        "rotation_origin",
        "title",
        "z_index_offset"
       ],
       "popup": "IPY_MODEL_e2b561c5acbf4b36a4b797dc0a3c733e"
      }
     },
     "ab55e38f1d994cdfbc2bbfc6ac9c6118": {
      "model_module": "jupyter-leaflet",
      "model_module_version": "^0.14.0",
      "model_name": "LeafletAwesomeIconModel",
      "state": {
       "_model_module_version": "^0.14.0",
       "_view_module_version": "^0.14.0",
       "icon_color": "white",
       "marker_color": "orange",
       "name": "life-ring"
      }
     },
     "ab7fc71de91d43929ad7a47377c1d475": {
      "model_module": "jupyter-leaflet",
      "model_module_version": "^0.14.0",
      "model_name": "LeafletAwesomeIconModel",
      "state": {
       "_model_module_version": "^0.14.0",
       "_view_module_version": "^0.14.0",
       "icon_color": "white",
       "marker_color": "orange",
       "name": "life-ring"
      }
     },
     "ab858354242545ca884dcc40a49b48e6": {
      "model_module": "@jupyter-widgets/base",
      "model_module_version": "1.2.0",
      "model_name": "LayoutModel",
      "state": {}
     },
     "ab88d6fb19c34c8986da9b1223b0dfa7": {
      "model_module": "@jupyter-widgets/controls",
      "model_module_version": "1.5.0",
      "model_name": "HTMLModel",
      "state": {
       "layout": "IPY_MODEL_55ec21f96d7148d0af341ec94b516cb6",
       "style": "IPY_MODEL_ae6f0061de644211a5162bada00fe26f",
       "value": "<table border=\"1\" class=\"dataframe table table-striped table-hover table-condensed table-responsive\">\n  <thead>\n    <tr style=\"text-align: right;\">\n      <th></th>\n      <th>32</th>\n    </tr>\n  </thead>\n  <tbody>\n    <tr>\n      <th>Institution</th>\n      <td>Ocean Observatories Initiative (OOI)</td>\n    </tr>\n    <tr>\n      <th>Dataset ID</th>\n      <td>ooi-ce06issm-rid16-03-ctdbpc000</td>\n    </tr>\n  </tbody>\n</table>"
      }
     },
     "ab9aded4aacf4f19b016dd174b711dcf": {
      "model_module": "jupyter-leaflet",
      "model_module_version": "^0.14.0",
      "model_name": "LeafletAwesomeIconModel",
      "state": {
       "_model_module_version": "^0.14.0",
       "_view_module_version": "^0.14.0",
       "icon_color": "white",
       "marker_color": "orange",
       "name": "life-ring"
      }
     },
     "aba297a4ba8e461d8d40d3c42a5e7e20": {
      "model_module": "jupyter-leaflet",
      "model_module_version": "^0.14.0",
      "model_name": "LeafletMarkerModel",
      "state": {
       "_model_module_version": "^0.14.0",
       "_view_module_version": "^0.14.0",
       "icon": "IPY_MODEL_446e109e01514dbb87623f7638f3df6e",
       "location": [
        46.98648,
        -124.56923
       ],
       "options": [
        "alt",
        "draggable",
        "keyboard",
        "rise_offset",
        "rise_on_hover",
        "rotation_angle",
        "rotation_origin",
        "title",
        "z_index_offset"
       ],
       "popup": "IPY_MODEL_7cdf85120acf4dd3a7e23e580681467a"
      }
     },
     "abed7ff5d89e48eca3eb4807b66f0664": {
      "model_module": "jupyter-leaflet",
      "model_module_version": "^0.14.0",
      "model_name": "LeafletAwesomeIconModel",
      "state": {
       "_model_module_version": "^0.14.0",
       "_view_module_version": "^0.14.0",
       "icon_color": "white",
       "marker_color": "orange",
       "name": "life-ring"
      }
     },
     "ac2347c0b606419e84644461e9d8c832": {
      "model_module": "@jupyter-widgets/controls",
      "model_module_version": "1.5.0",
      "model_name": "HTMLModel",
      "state": {
       "layout": "IPY_MODEL_641148d2b60245be92c534ca3fae54ae",
       "style": "IPY_MODEL_112e162e817a4cc8a2dd770a8302a8d6",
       "value": "<table border=\"1\" class=\"dataframe table table-striped table-hover table-condensed table-responsive\">\n  <thead>\n    <tr style=\"text-align: right;\">\n      <th></th>\n      <th>14</th>\n    </tr>\n  </thead>\n  <tbody>\n    <tr>\n      <th>Institution</th>\n      <td>Ocean Observatories Initiative (OOI)</td>\n    </tr>\n    <tr>\n      <th>Dataset ID</th>\n      <td>ooi-ce04osps-pc01b-4b-phsena106</td>\n    </tr>\n  </tbody>\n</table>"
      }
     },
     "ac918485cb29424da4c7a6ee92d32969": {
      "model_module": "@jupyter-widgets/base",
      "model_module_version": "1.2.0",
      "model_name": "LayoutModel",
      "state": {}
     },
     "ac9b4c388c8943efb950863fadd88762": {
      "model_module": "jupyter-leaflet",
      "model_module_version": "^0.14.0",
      "model_name": "LeafletMarkerModel",
      "state": {
       "_model_module_version": "^0.14.0",
       "_view_module_version": "^0.14.0",
       "icon": "IPY_MODEL_2872ae67b3e94c10a94a64343bb0cadf",
       "location": [
        45.4213981628418,
        -123.93620300293
       ],
       "options": [
        "alt",
        "draggable",
        "keyboard",
        "rise_offset",
        "rise_on_hover",
        "rotation_angle",
        "rotation_origin",
        "title",
        "z_index_offset"
       ],
       "popup": "IPY_MODEL_fae389f620a0403d8def684b2d6b7dad"
      }
     },
     "acd74c43d92349cb9986afa748c1f655": {
      "model_module": "@jupyter-widgets/controls",
      "model_module_version": "1.5.0",
      "model_name": "HTMLModel",
      "state": {
       "layout": "IPY_MODEL_911a75cb1001444f9a5f741e4047f9af",
       "style": "IPY_MODEL_d322222a5d1f4db7863efb99aaa4cf3a",
       "value": "<table border=\"1\" class=\"dataframe table table-striped table-hover table-condensed table-responsive\">\n  <thead>\n    <tr style=\"text-align: right;\">\n      <th></th>\n      <th>26</th>\n    </tr>\n  </thead>\n  <tbody>\n    <tr>\n      <th>Institution</th>\n      <td>Ocean Observatories Initiative (OOI)</td>\n    </tr>\n    <tr>\n      <th>Dataset ID</th>\n      <td>ooi-ce02shsm-rid27-04-dostad000</td>\n    </tr>\n  </tbody>\n</table>"
      }
     },
     "ad2c325493e1456d9e7ad1b78b09962e": {
      "model_module": "@jupyter-widgets/base",
      "model_module_version": "1.2.0",
      "model_name": "LayoutModel",
      "state": {}
     },
     "ad9d0dcac615473fb5ea0731b56c6a4b": {
      "model_module": "@jupyter-widgets/controls",
      "model_module_version": "1.5.0",
      "model_name": "DescriptionStyleModel",
      "state": {
       "description_width": ""
      }
     },
     "adcfa6bd84704153937bfb7b1ca9315e": {
      "model_module": "@jupyter-widgets/controls",
      "model_module_version": "1.5.0",
      "model_name": "DescriptionStyleModel",
      "state": {
       "description_width": ""
      }
     },
     "ae4c5a2abfba48199e91dd3da0e21af2": {
      "model_module": "jupyter-leaflet",
      "model_module_version": "^0.14.0",
      "model_name": "LeafletTileLayerModel",
      "state": {
       "_model_module_version": "^0.14.0",
       "_view_module_version": "^0.14.0",
       "base": true,
       "max_native_zoom": 18,
       "max_zoom": 19,
       "min_native_zoom": 0,
       "min_zoom": 1,
       "options": [
        "attribution",
        "detect_retina",
        "max_native_zoom",
        "max_zoom",
        "min_native_zoom",
        "min_zoom",
        "no_wrap",
        "tile_size",
        "tms"
       ]
      }
     },
     "ae544723b36b4db29f54d805fba60afb": {
      "model_module": "@jupyter-widgets/base",
      "model_module_version": "1.2.0",
      "model_name": "LayoutModel",
      "state": {}
     },
     "ae6d0d4273964b5e898b0363683302f8": {
      "model_module": "@jupyter-widgets/base",
      "model_module_version": "1.2.0",
      "model_name": "LayoutModel",
      "state": {}
     },
     "ae6f0061de644211a5162bada00fe26f": {
      "model_module": "@jupyter-widgets/controls",
      "model_module_version": "1.5.0",
      "model_name": "DescriptionStyleModel",
      "state": {
       "description_width": ""
      }
     },
     "ae78589884b1413fb88faaf278c95e07": {
      "model_module": "@jupyter-widgets/controls",
      "model_module_version": "1.5.0",
      "model_name": "HTMLModel",
      "state": {
       "layout": "IPY_MODEL_bde40b276dfe44ba96904d7d954e429c",
       "style": "IPY_MODEL_29fbc800e53f4a4b80993b67d31bfb69",
       "value": "<table border=\"1\" class=\"dataframe table table-striped table-hover table-condensed table-responsive\">\n  <thead>\n    <tr style=\"text-align: right;\">\n      <th></th>\n      <th>45</th>\n    </tr>\n  </thead>\n  <tbody>\n    <tr>\n      <th>Institution</th>\n      <td>Ocean Observatories Initiative (OOI)</td>\n    </tr>\n    <tr>\n      <th>Dataset ID</th>\n      <td>ooi-ce09ossm-rid26-06-phsend000</td>\n    </tr>\n  </tbody>\n</table>"
      }
     },
     "ae7a4591638d42a8b7f9610421bf68c3": {
      "model_module": "jupyter-leaflet",
      "model_module_version": "^0.14.0",
      "model_name": "LeafletMarkerModel",
      "state": {
       "_model_module_version": "^0.14.0",
       "_view_module_version": "^0.14.0",
       "icon": "IPY_MODEL_a19f8d4fa0f947eda92c11d57b80d84b",
       "location": [
        44.52897,
        -125.38966
       ],
       "options": [
        "alt",
        "draggable",
        "keyboard",
        "rise_offset",
        "rise_on_hover",
        "rotation_angle",
        "rotation_origin",
        "title",
        "z_index_offset"
       ],
       "popup": "IPY_MODEL_66f91077c4894868a01db390a6fd1f94"
      }
     },
     "ae8527d9f8a84db88f9accdf76923d18": {
      "model_module": "jupyter-leaflet",
      "model_module_version": "^0.14.0",
      "model_name": "LeafletMarkerModel",
      "state": {
       "_model_module_version": "^0.14.0",
       "_view_module_version": "^0.14.0",
       "icon": "IPY_MODEL_cdf8b42fa7484c6383d8da8e3ddaf547",
       "location": [
        47.9646517535081,
        -124.953552246094
       ],
       "options": [
        "alt",
        "draggable",
        "keyboard",
        "rise_offset",
        "rise_on_hover",
        "rotation_angle",
        "rotation_origin",
        "title",
        "z_index_offset"
       ],
       "popup": "IPY_MODEL_f59971231aaf4f25804a0d0c6fe32a58"
      }
     },
     "aedeb714be044e67ac5912e5b51fc3f6": {
      "model_module": "@jupyter-widgets/base",
      "model_module_version": "1.2.0",
      "model_name": "LayoutModel",
      "state": {}
     },
     "af3dbf905e3048da9806f8b6c8f328c8": {
      "model_module": "@jupyter-widgets/controls",
      "model_module_version": "1.5.0",
      "model_name": "HTMLModel",
      "state": {
       "layout": "IPY_MODEL_13e503a2fac146ed8961ce43deec2b0b",
       "style": "IPY_MODEL_d12dd6ac86574a8bbeca5d4a85e44dd3",
       "value": "<table border=\"1\" class=\"dataframe table table-striped table-hover table-condensed table-responsive\">\n  <thead>\n    <tr style=\"text-align: right;\">\n      <th></th>\n      <th>33</th>\n    </tr>\n  </thead>\n  <tbody>\n    <tr>\n      <th>Institution</th>\n      <td>Ocean Observatories Initiative (OOI)</td>\n    </tr>\n    <tr>\n      <th>Dataset ID</th>\n      <td>ooi-ce06issm-rid16-03-dostad000</td>\n    </tr>\n  </tbody>\n</table>"
      }
     },
     "af4db57052f64b868c7f6fd70e1f1296": {
      "model_module": "jupyter-leaflet",
      "model_module_version": "^0.14.0",
      "model_name": "LeafletMarkerModel",
      "state": {
       "_model_module_version": "^0.14.0",
       "_view_module_version": "^0.14.0",
       "icon": "IPY_MODEL_2503a3f850b04ef38952783598c42020",
       "location": [
        44.63577,
        -124.3035
       ],
       "options": [
        "alt",
        "draggable",
        "keyboard",
        "rise_offset",
        "rise_on_hover",
        "rotation_angle",
        "rotation_origin",
        "title",
        "z_index_offset"
       ],
       "popup": "IPY_MODEL_9c437a32ac294242b5a03625557ebf33"
      }
     },
     "afdb9e3356e7467eb0df348cee96b4ca": {
      "model_module": "jupyter-leaflet",
      "model_module_version": "^0.14.0",
      "model_name": "LeafletMarkerModel",
      "state": {
       "_model_module_version": "^0.14.0",
       "_view_module_version": "^0.14.0",
       "icon": "IPY_MODEL_57746ffce26b438f9ceda29b87b8f250",
       "location": [
        45.5544,
        -123.9189
       ],
       "options": [
        "alt",
        "draggable",
        "keyboard",
        "rise_offset",
        "rise_on_hover",
        "rotation_angle",
        "rotation_origin",
        "title",
        "z_index_offset"
       ],
       "popup": "IPY_MODEL_48e29dc77f51491fb01fe374820040d9"
      }
     },
     "afe919690c6440f8b932cc2e353738f9": {
      "model_module": "@jupyter-widgets/base",
      "model_module_version": "1.2.0",
      "model_name": "LayoutModel",
      "state": {}
     },
     "affdf025f1f048c58e76fc51bb55176d": {
      "model_module": "@jupyter-widgets/controls",
      "model_module_version": "1.5.0",
      "model_name": "DescriptionStyleModel",
      "state": {
       "description_width": ""
      }
     },
     "b03f107814e744aba79a611edffdd2e5": {
      "model_module": "jupyter-leaflet",
      "model_module_version": "^0.14.0",
      "model_name": "LeafletAwesomeIconModel",
      "state": {
       "_model_module_version": "^0.14.0",
       "_view_module_version": "^0.14.0",
       "icon_color": "white",
       "marker_color": "orange",
       "name": "life-ring"
      }
     },
     "b044216bca7d46b38f66c5c24284e09c": {
      "model_module": "@jupyter-widgets/controls",
      "model_module_version": "1.5.0",
      "model_name": "DescriptionStyleModel",
      "state": {
       "description_width": ""
      }
     },
     "b069d36ba6dd42279f2a1dcc7e1bed70": {
      "model_module": "@jupyter-widgets/base",
      "model_module_version": "1.2.0",
      "model_name": "LayoutModel",
      "state": {}
     },
     "b08e85e7cd0a4364b58c65a6ab5c633a": {
      "model_module": "@jupyter-widgets/base",
      "model_module_version": "1.2.0",
      "model_name": "LayoutModel",
      "state": {}
     },
     "b096ac6208654732805fc2e0cff2f54f": {
      "model_module": "@jupyter-widgets/controls",
      "model_module_version": "1.5.0",
      "model_name": "HTMLModel",
      "state": {
       "layout": "IPY_MODEL_385a11f4447a4f02bd09da92ec495775",
       "style": "IPY_MODEL_7c3911c878fc4fbea9041fcb278fc563",
       "value": "<table border=\"1\" class=\"dataframe table table-striped table-hover table-condensed table-responsive\">\n  <thead>\n    <tr style=\"text-align: right;\">\n      <th></th>\n      <th>26</th>\n    </tr>\n  </thead>\n  <tbody>\n    <tr>\n      <th>Institution</th>\n      <td>Ocean Observatories Initiative (OOI)</td>\n    </tr>\n    <tr>\n      <th>Dataset ID</th>\n      <td>ooi-ce02shsm-rid27-04-dostad000</td>\n    </tr>\n  </tbody>\n</table>"
      }
     },
     "b0b0d9ca61a449b8a4fd8ba3bf1d3336": {
      "model_module": "@jupyter-widgets/base",
      "model_module_version": "1.2.0",
      "model_name": "LayoutModel",
      "state": {}
     },
     "b102d70d0e7b4265bcc44a4ca45e6be4": {
      "model_module": "@jupyter-widgets/controls",
      "model_module_version": "1.5.0",
      "model_name": "HTMLModel",
      "state": {
       "layout": "IPY_MODEL_2ee7a6676118461daa1109bf6ea9416f",
       "style": "IPY_MODEL_b88891fee090482fbf28974af6686ecf",
       "value": "<table border=\"1\" class=\"dataframe table table-striped table-hover table-condensed table-responsive\">\n  <thead>\n    <tr style=\"text-align: right;\">\n      <th></th>\n      <th>7</th>\n    </tr>\n  </thead>\n  <tbody>\n    <tr>\n      <th>Institution</th>\n      <td>Ocean Observatories Initiative (OOI)</td>\n    </tr>\n    <tr>\n      <th>Dataset ID</th>\n      <td>ooi-ce01issm-mfd35-06-phsend000</td>\n    </tr>\n  </tbody>\n</table>"
      }
     },
     "b162e33c03f445e9a225fc7729719277": {
      "model_module": "@jupyter-widgets/controls",
      "model_module_version": "1.5.0",
      "model_name": "HTMLModel",
      "state": {
       "layout": "IPY_MODEL_227f377a8ce945e3a5cc00983b6d3ca9",
       "style": "IPY_MODEL_6f1b684f5c4b444c81883dead42ad60a",
       "value": "<table border=\"1\" class=\"dataframe table table-striped table-hover table-condensed table-responsive\">\n  <thead>\n    <tr style=\"text-align: right;\">\n      <th></th>\n      <th>50</th>\n    </tr>\n  </thead>\n  <tbody>\n    <tr>\n      <th>Institution</th>\n      <td>Ocean Observatories Initiative (OOI)</td>\n    </tr>\n    <tr>\n      <th>Dataset ID</th>\n      <td>ooi-ce07shsm-rid27-02-flortd000</td>\n    </tr>\n  </tbody>\n</table>"
      }
     },
     "b17e3c1772324b62b1bfbab0e864697d": {
      "model_module": "@jupyter-widgets/controls",
      "model_module_version": "1.5.0",
      "model_name": "HTMLModel",
      "state": {
       "layout": "IPY_MODEL_a5cdf6502bda403aba83b1a2b920b6ed",
       "style": "IPY_MODEL_c21e72472cfe46e18c8b5e105ff8e3f0",
       "value": "<table border=\"1\" class=\"dataframe table table-striped table-hover table-condensed table-responsive\">\n  <thead>\n    <tr style=\"text-align: right;\">\n      <th></th>\n      <th>67</th>\n    </tr>\n  </thead>\n  <tbody>\n    <tr>\n      <th>Institution</th>\n      <td>Observing System Monitoring Center (OSMC)</td>\n    </tr>\n    <tr>\n      <th>Dataset ID</th>\n      <td>osmc_46100</td>\n    </tr>\n  </tbody>\n</table>"
      }
     },
     "b1fdab086ce44192ae12160d155987eb": {
      "model_module": "@jupyter-widgets/base",
      "model_module_version": "1.2.0",
      "model_name": "LayoutModel",
      "state": {}
     },
     "b226ff9d49524e939ed9cdb2e038624b": {
      "model_module": "@jupyter-widgets/controls",
      "model_module_version": "1.5.0",
      "model_name": "DescriptionStyleModel",
      "state": {
       "description_width": ""
      }
     },
     "b244870723ee41029fcaeaead37ec0f2": {
      "model_module": "jupyter-leaflet",
      "model_module_version": "^0.14.0",
      "model_name": "LeafletMarkerModel",
      "state": {
       "_model_module_version": "^0.14.0",
       "_view_module_version": "^0.14.0",
       "icon": "IPY_MODEL_43c737675c584b92a5caa60232cb8e86",
       "location": [
        46.173,
        -124.127
       ],
       "options": [
        "alt",
        "draggable",
        "keyboard",
        "rise_offset",
        "rise_on_hover",
        "rotation_angle",
        "rotation_origin",
        "title",
        "z_index_offset"
       ],
       "popup": "IPY_MODEL_db0f479fc490459a83b28d1e2771a486"
      }
     },
     "b2eefe3427244f9eb00b26703473659a": {
      "model_module": "@jupyter-widgets/controls",
      "model_module_version": "1.5.0",
      "model_name": "DescriptionStyleModel",
      "state": {
       "description_width": ""
      }
     },
     "b32bd38a764f46cb9ee3fe7f2fb0160a": {
      "model_module": "@jupyter-widgets/controls",
      "model_module_version": "1.5.0",
      "model_name": "HTMLModel",
      "state": {
       "layout": "IPY_MODEL_bee4f50a35b44f49ae1f599b8bcb25f2",
       "style": "IPY_MODEL_b226ff9d49524e939ed9cdb2e038624b",
       "value": "<table border=\"1\" class=\"dataframe table table-striped table-hover table-condensed table-responsive\">\n  <thead>\n    <tr style=\"text-align: right;\">\n      <th></th>\n      <th>36</th>\n    </tr>\n  </thead>\n  <tbody>\n    <tr>\n      <th>Institution</th>\n      <td>Ocean Observatories Initiative (OOI)</td>\n    </tr>\n    <tr>\n      <th>Dataset ID</th>\n      <td>ooi-ce06issm-mfd37-03-ctdbpc000</td>\n    </tr>\n  </tbody>\n</table>"
      }
     },
     "b33ac0de0ca842b3bcb8e647839efff2": {
      "model_module": "jupyter-leaflet",
      "model_module_version": "^0.14.0",
      "model_name": "LeafletMarkerModel",
      "state": {
       "_model_module_version": "^0.14.0",
       "_view_module_version": "^0.14.0",
       "icon": "IPY_MODEL_258374706cc94684bd0e45ea9b763ed3",
       "location": [
        44.37868,
        -124.94508
       ],
       "options": [
        "alt",
        "draggable",
        "keyboard",
        "rise_offset",
        "rise_on_hover",
        "rotation_angle",
        "rotation_origin",
        "title",
        "z_index_offset"
       ],
       "popup": "IPY_MODEL_e5808ad66df34d4fb5d1424114097efb"
      }
     },
     "b35b1286c21d4f258b0633f4c9ad26dc": {
      "model_module": "@jupyter-widgets/controls",
      "model_module_version": "1.5.0",
      "model_name": "DescriptionStyleModel",
      "state": {
       "description_width": ""
      }
     },
     "b36172a8f554469286bb611d11a426f2": {
      "model_module": "@jupyter-widgets/base",
      "model_module_version": "1.2.0",
      "model_name": "LayoutModel",
      "state": {}
     },
     "b39c97bc62284deeb6722678549f7b25": {
      "model_module": "@jupyter-widgets/base",
      "model_module_version": "1.2.0",
      "model_name": "LayoutModel",
      "state": {}
     },
     "b3a4bdeb6a4a4e9288e3d299c4d6f98d": {
      "model_module": "@jupyter-widgets/base",
      "model_module_version": "1.2.0",
      "model_name": "LayoutModel",
      "state": {}
     },
     "b3f1e94f23d84ba3a40fc4240ea5523f": {
      "model_module": "jupyter-leaflet",
      "model_module_version": "^0.14.0",
      "model_name": "LeafletMarkerModel",
      "state": {
       "_model_module_version": "^0.14.0",
       "_view_module_version": "^0.14.0",
       "icon": "IPY_MODEL_2ef1c215cdea48fbbe0d38fa2f66778a",
       "location": [
        44.65678,
        -124.09707
       ],
       "options": [
        "alt",
        "draggable",
        "keyboard",
        "rise_offset",
        "rise_on_hover",
        "rotation_angle",
        "rotation_origin",
        "title",
        "z_index_offset"
       ],
       "popup": "IPY_MODEL_1c35677d5da74f4c9cc4f2953ea11e4f"
      }
     },
     "b40578c280d24d5babe680a8ce530a65": {
      "model_module": "jupyter-leaflet",
      "model_module_version": "^0.14.0",
      "model_name": "LeafletMarkerModel",
      "state": {
       "_model_module_version": "^0.14.0",
       "_view_module_version": "^0.14.0",
       "icon": "IPY_MODEL_1ce814fe3374466c8b6494d59a2ca21b",
       "location": [
        47.1345,
        -124.27087
       ],
       "options": [
        "alt",
        "draggable",
        "keyboard",
        "rise_offset",
        "rise_on_hover",
        "rotation_angle",
        "rotation_origin",
        "title",
        "z_index_offset"
       ],
       "popup": "IPY_MODEL_e0774351ae7b4b50a63152befe58b23e"
      }
     },
     "b48434e5fb514bd1914f30269cd9e254": {
      "model_module": "@jupyter-widgets/base",
      "model_module_version": "1.2.0",
      "model_name": "LayoutModel",
      "state": {}
     },
     "b5727cb9df5f4543bb74a6516ed63a57": {
      "model_module": "@jupyter-widgets/controls",
      "model_module_version": "1.5.0",
      "model_name": "DescriptionStyleModel",
      "state": {
       "description_width": ""
      }
     },
     "b67e13198006429084fafe17333a6377": {
      "model_module": "jupyter-leaflet",
      "model_module_version": "^0.14.0",
      "model_name": "LeafletAwesomeIconModel",
      "state": {
       "_model_module_version": "^0.14.0",
       "_view_module_version": "^0.14.0",
       "icon_color": "white",
       "name": "life-ring"
      }
     },
     "b687b5d695c940e1a9688a74ad7c7d0b": {
      "model_module": "@jupyter-widgets/controls",
      "model_module_version": "1.5.0",
      "model_name": "HTMLModel",
      "state": {
       "layout": "IPY_MODEL_71d0878c367542aebbcb9ead76cd2976",
       "style": "IPY_MODEL_8ec062ba1a304b81b14ae4c495d7af85",
       "value": "<table border=\"1\" class=\"dataframe table table-striped table-hover table-condensed table-responsive\">\n  <thead>\n    <tr style=\"text-align: right;\">\n      <th></th>\n      <th>34</th>\n    </tr>\n  </thead>\n  <tbody>\n    <tr>\n      <th>Institution</th>\n      <td>Ocean Observatories Initiative (OOI)</td>\n    </tr>\n    <tr>\n      <th>Dataset ID</th>\n      <td>ooi-ce06issm-rid16-07-nutnrb000</td>\n    </tr>\n  </tbody>\n</table>"
      }
     },
     "b6932a49f5574e04b6b9b9c3359c9a5e": {
      "model_module": "@jupyter-widgets/controls",
      "model_module_version": "1.5.0",
      "model_name": "HTMLModel",
      "state": {
       "layout": "IPY_MODEL_fac4a4db27a443d49f361faeb31da22e",
       "style": "IPY_MODEL_6bd79e4c42eb44bb8235b22d327d3628",
       "value": "<table border=\"1\" class=\"dataframe table table-striped table-hover table-condensed table-responsive\">\n  <thead>\n    <tr style=\"text-align: right;\">\n      <th></th>\n      <th>78</th>\n    </tr>\n  </thead>\n  <tbody>\n    <tr>\n      <th>Institution</th>\n      <td>Center for Coastal Margin Observation &amp; Prediction</td>\n    </tr>\n    <tr>\n      <th>Dataset ID</th>\n      <td>org_cmop_sefo3</td>\n    </tr>\n  </tbody>\n</table>"
      }
     },
     "b72697836e954c808e5370cb2a64a229": {
      "model_module": "@jupyter-widgets/controls",
      "model_module_version": "1.5.0",
      "model_name": "DescriptionStyleModel",
      "state": {
       "description_width": ""
      }
     },
     "b76d312610bb4aef8871fbabf3592aec": {
      "model_module": "jupyter-leaflet",
      "model_module_version": "^0.14.0",
      "model_name": "LeafletAwesomeIconModel",
      "state": {
       "_model_module_version": "^0.14.0",
       "_view_module_version": "^0.14.0",
       "icon_color": "white",
       "name": "life-ring"
      }
     },
     "b78dcf10b96b43d193b810f90052082f": {
      "model_module": "jupyter-leaflet",
      "model_module_version": "^0.14.0",
      "model_name": "LeafletAwesomeIconModel",
      "state": {
       "_model_module_version": "^0.14.0",
       "_view_module_version": "^0.14.0",
       "icon_color": "white",
       "marker_color": "orange",
       "name": "life-ring"
      }
     },
     "b80dfb7b6d3d45fdbbca1b38ec8273b7": {
      "model_module": "@jupyter-widgets/controls",
      "model_module_version": "1.5.0",
      "model_name": "DescriptionStyleModel",
      "state": {
       "description_width": ""
      }
     },
     "b869382f73a94d51a1e4200821248a40": {
      "model_module": "@jupyter-widgets/controls",
      "model_module_version": "1.5.0",
      "model_name": "HTMLModel",
      "state": {
       "layout": "IPY_MODEL_a9265983447d425e9d04a284f5b118a8",
       "style": "IPY_MODEL_11fe658f22b441499792a07b385fee25",
       "value": "<table border=\"1\" class=\"dataframe table table-striped table-hover table-condensed table-responsive\">\n  <thead>\n    <tr style=\"text-align: right;\">\n      <th></th>\n      <th>76</th>\n    </tr>\n  </thead>\n  <tbody>\n    <tr>\n      <th>Institution</th>\n      <td>Northwest Association of Networked Ocean Observing Systems (NANOOS)</td>\n    </tr>\n    <tr>\n      <th>Dataset ID</th>\n      <td>nanoos_psi_baycenter</td>\n    </tr>\n  </tbody>\n</table>"
      }
     },
     "b87893eeb2794a59b3bfd80491c3287f": {
      "model_module": "jupyter-leaflet",
      "model_module_version": "^0.14.0",
      "model_name": "LeafletMarkerModel",
      "state": {
       "_model_module_version": "^0.14.0",
       "_view_module_version": "^0.14.0",
       "icon": "IPY_MODEL_3e2752b024c44b2dbd91b35e39fb2ec6",
       "location": [
        47,
        -124.6
       ],
       "options": [
        "alt",
        "draggable",
        "keyboard",
        "rise_offset",
        "rise_on_hover",
        "rotation_angle",
        "rotation_origin",
        "title",
        "z_index_offset"
       ],
       "popup": "IPY_MODEL_21d42fae23d94ca98079330d8035f7cc"
      }
     },
     "b87a02982e8343f38df08821907d0cf6": {
      "model_module": "@jupyter-widgets/controls",
      "model_module_version": "1.5.0",
      "model_name": "HTMLModel",
      "state": {
       "layout": "IPY_MODEL_a39681a9b6d44ba6b54e05d18324a795",
       "style": "IPY_MODEL_fa1b7fc98986490cbf8654d9eb4ff133",
       "value": "<table border=\"1\" class=\"dataframe table table-striped table-hover table-condensed table-responsive\">\n  <thead>\n    <tr style=\"text-align: right;\">\n      <th></th>\n      <th>78</th>\n    </tr>\n  </thead>\n  <tbody>\n    <tr>\n      <th>Institution</th>\n      <td>Center for Coastal Margin Observation &amp; Prediction</td>\n    </tr>\n    <tr>\n      <th>Dataset ID</th>\n      <td>org_cmop_sefo3</td>\n    </tr>\n  </tbody>\n</table>"
      }
     },
     "b88891fee090482fbf28974af6686ecf": {
      "model_module": "@jupyter-widgets/controls",
      "model_module_version": "1.5.0",
      "model_name": "DescriptionStyleModel",
      "state": {
       "description_width": ""
      }
     },
     "b88c7892b886443b925f2ef98b357171": {
      "model_module": "@jupyter-widgets/controls",
      "model_module_version": "1.5.0",
      "model_name": "HTMLModel",
      "state": {
       "layout": "IPY_MODEL_ab858354242545ca884dcc40a49b48e6",
       "style": "IPY_MODEL_56d4d6e5d5aa471ca2810cc4ba3a2a44",
       "value": "<table border=\"1\" class=\"dataframe table table-striped table-hover table-condensed table-responsive\">\n  <thead>\n    <tr style=\"text-align: right;\">\n      <th></th>\n      <th>49</th>\n    </tr>\n  </thead>\n  <tbody>\n    <tr>\n      <th>Institution</th>\n      <td>Ocean Observatories Initiative (OOI)</td>\n    </tr>\n    <tr>\n      <th>Dataset ID</th>\n      <td>ooi-ce09ossm-sbd12-04-pco2aa000</td>\n    </tr>\n  </tbody>\n</table>"
      }
     },
     "b8aaca97fe0c41bd813704a34cfc3323": {
      "model_module": "@jupyter-widgets/base",
      "model_module_version": "1.2.0",
      "model_name": "LayoutModel",
      "state": {}
     },
     "b8d9b90458074896a477798eb9e80a4a": {
      "model_module": "jupyter-leaflet",
      "model_module_version": "^0.14.0",
      "model_name": "LeafletMarkerModel",
      "state": {
       "_model_module_version": "^0.14.0",
       "_view_module_version": "^0.14.0",
       "icon": "IPY_MODEL_2a7de14b88334497a6e464e541899201",
       "location": [
        46.85367,
        -124.95935
       ],
       "options": [
        "alt",
        "draggable",
        "keyboard",
        "rise_offset",
        "rise_on_hover",
        "rotation_angle",
        "rotation_origin",
        "title",
        "z_index_offset"
       ],
       "popup": "IPY_MODEL_3c57c1e1422149e995af85fd85237b44"
      }
     },
     "b9961b34d677497195af361c5717371e": {
      "model_module": "@jupyter-widgets/controls",
      "model_module_version": "1.5.0",
      "model_name": "HTMLModel",
      "state": {
       "layout": "IPY_MODEL_9ccb11591ac8426d9274ffcb89367255",
       "style": "IPY_MODEL_60e54c9214f74333b11b93659288fb87",
       "value": "<table border=\"1\" class=\"dataframe table table-striped table-hover table-condensed table-responsive\">\n  <thead>\n    <tr style=\"text-align: right;\">\n      <th></th>\n      <th>20</th>\n    </tr>\n  </thead>\n  <tbody>\n    <tr>\n      <th>Institution</th>\n      <td>Ocean Observatories Initiative (OOI)</td>\n    </tr>\n    <tr>\n      <th>Dataset ID</th>\n      <td>ooi-ce04ossm-sbd11-06-metbka000</td>\n    </tr>\n  </tbody>\n</table>"
      }
     },
     "b9c800379c8344df9b769ed1fff1c683": {
      "model_module": "@jupyter-widgets/base",
      "model_module_version": "1.2.0",
      "model_name": "LayoutModel",
      "state": {}
     },
     "b9f948119e1243fb8fd187d0346a858d": {
      "model_module": "@jupyter-widgets/controls",
      "model_module_version": "1.5.0",
      "model_name": "HTMLModel",
      "state": {
       "layout": "IPY_MODEL_8b23a00535f4424abe3f30a4e69ebf8d",
       "style": "IPY_MODEL_940bf2c794994bf9aa70146853e38e2e",
       "value": "<table border=\"1\" class=\"dataframe table table-striped table-hover table-condensed table-responsive\">\n  <thead>\n    <tr style=\"text-align: right;\">\n      <th></th>\n      <th>17</th>\n    </tr>\n  </thead>\n  <tbody>\n    <tr>\n      <th>Institution</th>\n      <td>Ocean Observatories Initiative (OOI)</td>\n    </tr>\n    <tr>\n      <th>Dataset ID</th>\n      <td>ooi-ce04ossm-rid27-04-dostad000</td>\n    </tr>\n  </tbody>\n</table>"
      }
     },
     "b9fbf185f6a842cb833e931ea6bddae4": {
      "model_module": "jupyter-leaflet",
      "model_module_version": "^0.14.0",
      "model_name": "LeafletMarkerModel",
      "state": {
       "_model_module_version": "^0.14.0",
       "_view_module_version": "^0.14.0",
       "icon": "IPY_MODEL_e97d1a518ee84d2db9085fcedaae76a5",
       "location": [
        47.1345,
        -124.27087
       ],
       "options": [
        "alt",
        "draggable",
        "keyboard",
        "rise_offset",
        "rise_on_hover",
        "rotation_angle",
        "rotation_origin",
        "title",
        "z_index_offset"
       ],
       "popup": "IPY_MODEL_5cdac32a28fe48a49d3b401d92f6e4d0"
      }
     },
     "ba86d20e39e1499a82c9ef02757881e4": {
      "model_module": "jupyter-leaflet",
      "model_module_version": "^0.14.0",
      "model_name": "LeafletMarkerModel",
      "state": {
       "_model_module_version": "^0.14.0",
       "_view_module_version": "^0.14.0",
       "icon": "IPY_MODEL_2aebe4be3110424fb6466ad2c9774e17",
       "location": [
        44.65678,
        -124.09707
       ],
       "options": [
        "alt",
        "draggable",
        "keyboard",
        "rise_offset",
        "rise_on_hover",
        "rotation_angle",
        "rotation_origin",
        "title",
        "z_index_offset"
       ],
       "popup": "IPY_MODEL_de96ccce1eb74966819e7461ea06e857"
      }
     },
     "ba9898ebdd724f8ca5575c4a4289148d": {
      "model_module": "@jupyter-widgets/base",
      "model_module_version": "1.2.0",
      "model_name": "LayoutModel",
      "state": {}
     },
     "baa65a5a7e284ee8af8e99e5f722608c": {
      "model_module": "jupyter-leaflet",
      "model_module_version": "^0.14.0",
      "model_name": "LeafletMarkerModel",
      "state": {
       "_model_module_version": "^0.14.0",
       "_view_module_version": "^0.14.0",
       "icon": "IPY_MODEL_3baaa1564b834957941ffddbef6f6c46",
       "location": [
        44.65678,
        -124.09707
       ],
       "options": [
        "alt",
        "draggable",
        "keyboard",
        "rise_offset",
        "rise_on_hover",
        "rotation_angle",
        "rotation_origin",
        "title",
        "z_index_offset"
       ],
       "popup": "IPY_MODEL_996380df00fc4c35ba53a55741bb4b91"
      }
     },
     "bad40f5061ec410183626a0fb169a740": {
      "model_module": "@jupyter-widgets/controls",
      "model_module_version": "1.5.0",
      "model_name": "DescriptionStyleModel",
      "state": {
       "description_width": ""
      }
     },
     "bb4d3519f91b448aa232909b2a6c4f07": {
      "model_module": "jupyter-leaflet",
      "model_module_version": "^0.14.0",
      "model_name": "LeafletAwesomeIconModel",
      "state": {
       "_model_module_version": "^0.14.0",
       "_view_module_version": "^0.14.0",
       "icon_color": "white",
       "marker_color": "orange",
       "name": "life-ring"
      }
     },
     "bb6a3ad82b8245fa8ba4808fba65fe12": {
      "model_module": "jupyter-leaflet",
      "model_module_version": "^0.14.0",
      "model_name": "LeafletAwesomeIconModel",
      "state": {
       "_model_module_version": "^0.14.0",
       "_view_module_version": "^0.14.0",
       "icon_color": "white",
       "marker_color": "orange",
       "name": "life-ring"
      }
     },
     "bb6fab6f91224265b70ee8d33672ae80": {
      "model_module": "jupyter-leaflet",
      "model_module_version": "^0.14.0",
      "model_name": "LeafletAwesomeIconModel",
      "state": {
       "_model_module_version": "^0.14.0",
       "_view_module_version": "^0.14.0",
       "icon_color": "white",
       "marker_color": "orange",
       "name": "life-ring"
      }
     },
     "bb93e96015854cceb8c05ae3c2682cba": {
      "model_module": "jupyter-leaflet",
      "model_module_version": "^0.14.0",
      "model_name": "LeafletAwesomeIconModel",
      "state": {
       "_model_module_version": "^0.14.0",
       "_view_module_version": "^0.14.0",
       "icon_color": "white",
       "marker_color": "orange",
       "name": "life-ring"
      }
     },
     "bbc10ae0abc44226a345368ddf825a65": {
      "model_module": "@jupyter-widgets/base",
      "model_module_version": "1.2.0",
      "model_name": "LayoutModel",
      "state": {}
     },
     "bc46857359354a279fa3985547b43a2b": {
      "model_module": "@jupyter-widgets/base",
      "model_module_version": "1.2.0",
      "model_name": "LayoutModel",
      "state": {}
     },
     "bd08aabf9b47460aacc76410362a854d": {
      "model_module": "@jupyter-widgets/controls",
      "model_module_version": "1.5.0",
      "model_name": "DescriptionStyleModel",
      "state": {
       "description_width": ""
      }
     },
     "bd21ce721e364848a94058d3a5384bb3": {
      "model_module": "jupyter-leaflet",
      "model_module_version": "^0.14.0",
      "model_name": "LeafletAttributionControlModel",
      "state": {
       "_model_module_version": "^0.14.0",
       "_view_module_version": "^0.14.0",
       "options": [
        "position",
        "prefix"
       ],
       "position": "bottomright",
       "prefix": "ipyleaflet"
      }
     },
     "bd33863c4b8542ae8e6e3d14894a4122": {
      "model_module": "@jupyter-widgets/base",
      "model_module_version": "1.2.0",
      "model_name": "LayoutModel",
      "state": {}
     },
     "bd453e0618304e37aa5f60b40b5fe2a8": {
      "model_module": "jupyter-leaflet",
      "model_module_version": "^0.14.0",
      "model_name": "LeafletMarkerModel",
      "state": {
       "_model_module_version": "^0.14.0",
       "_view_module_version": "^0.14.0",
       "icon": "IPY_MODEL_e6dbb260690344b9ae20bf39754151d9",
       "location": [
        46.85367,
        -124.95935
       ],
       "options": [
        "alt",
        "draggable",
        "keyboard",
        "rise_offset",
        "rise_on_hover",
        "rotation_angle",
        "rotation_origin",
        "title",
        "z_index_offset"
       ],
       "popup": "IPY_MODEL_c74da5704c2942af8d49357e8cbabed9"
      }
     },
     "bd484707e21646cbaec7e7ce3b3c3064": {
      "model_module": "@jupyter-widgets/controls",
      "model_module_version": "1.5.0",
      "model_name": "DescriptionStyleModel",
      "state": {
       "description_width": ""
      }
     },
     "bda83f21ccc94af982f2bb93d09e5911": {
      "model_module": "jupyter-leaflet",
      "model_module_version": "^0.14.0",
      "model_name": "LeafletFullScreenControlModel",
      "state": {
       "_model_module_version": "^0.14.0",
       "_view_module_version": "^0.14.0",
       "options": [
        "position"
       ]
      }
     },
     "bde40b276dfe44ba96904d7d954e429c": {
      "model_module": "@jupyter-widgets/base",
      "model_module_version": "1.2.0",
      "model_name": "LayoutModel",
      "state": {}
     },
     "bde922853c24420a88d5bbc66585be03": {
      "model_module": "@jupyter-widgets/controls",
      "model_module_version": "1.5.0",
      "model_name": "DescriptionStyleModel",
      "state": {
       "description_width": ""
      }
     },
     "be77c6d99a5c4acc8ad80038133ade8e": {
      "model_module": "@jupyter-widgets/controls",
      "model_module_version": "1.5.0",
      "model_name": "HTMLModel",
      "state": {
       "layout": "IPY_MODEL_ca893056d2034bc0ab7af66e5adcecba",
       "style": "IPY_MODEL_2341b589ed654918b14257b1d0b6d56d",
       "value": "<table border=\"1\" class=\"dataframe table table-striped table-hover table-condensed table-responsive\">\n  <thead>\n    <tr style=\"text-align: right;\">\n      <th></th>\n      <th>11</th>\n    </tr>\n  </thead>\n  <tbody>\n    <tr>\n      <th>Institution</th>\n      <td>Ocean Observatories Initiative (OOI)</td>\n    </tr>\n    <tr>\n      <th>Dataset ID</th>\n      <td>ooi-ce04osbp-lj01c-10-phsend107</td>\n    </tr>\n  </tbody>\n</table>"
      }
     },
     "bede1ec699354ba28d557bca8275c318": {
      "model_module": "@jupyter-widgets/controls",
      "model_module_version": "1.5.0",
      "model_name": "DescriptionStyleModel",
      "state": {
       "description_width": ""
      }
     },
     "bee1f71c9e714842bc4ff2939ee37819": {
      "model_module": "@jupyter-widgets/controls",
      "model_module_version": "1.5.0",
      "model_name": "DescriptionStyleModel",
      "state": {
       "description_width": ""
      }
     },
     "bee4f50a35b44f49ae1f599b8bcb25f2": {
      "model_module": "@jupyter-widgets/base",
      "model_module_version": "1.2.0",
      "model_name": "LayoutModel",
      "state": {}
     },
     "bf1ad1b6ad334607886d182f67495823": {
      "model_module": "@jupyter-widgets/base",
      "model_module_version": "1.2.0",
      "model_name": "LayoutModel",
      "state": {}
     },
     "bf476ddb6bd145ebafe335b3f9d5edcd": {
      "model_module": "jupyter-leaflet",
      "model_module_version": "^0.14.0",
      "model_name": "LeafletMarkerModel",
      "state": {
       "_model_module_version": "^0.14.0",
       "_view_module_version": "^0.14.0",
       "icon": "IPY_MODEL_8ec537e5ac45484e9c82d331531aa751",
       "location": [
        44.63577,
        -124.3035
       ],
       "options": [
        "alt",
        "draggable",
        "keyboard",
        "rise_offset",
        "rise_on_hover",
        "rotation_angle",
        "rotation_origin",
        "title",
        "z_index_offset"
       ],
       "popup": "IPY_MODEL_d8be70c0a47e4500a072634304e30156"
      }
     },
     "bf5e64e8faab46b8acb0005a31f0f0ee": {
      "model_module": "jupyter-leaflet",
      "model_module_version": "^0.14.0",
      "model_name": "LeafletAwesomeIconModel",
      "state": {
       "_model_module_version": "^0.14.0",
       "_view_module_version": "^0.14.0",
       "icon_color": "white",
       "marker_color": "orange",
       "name": "life-ring"
      }
     },
     "bf6573ef98eb4184a472f91deec94208": {
      "model_module": "@jupyter-widgets/base",
      "model_module_version": "1.2.0",
      "model_name": "LayoutModel",
      "state": {}
     },
     "bf6b3c0aaa1e47f69d2ef004b34fd930": {
      "model_module": "jupyter-leaflet",
      "model_module_version": "^0.14.0",
      "model_name": "LeafletAwesomeIconModel",
      "state": {
       "_model_module_version": "^0.14.0",
       "_view_module_version": "^0.14.0",
       "icon_color": "white",
       "marker_color": "orange",
       "name": "life-ring"
      }
     },
     "bf86d8cfa1cd4b93a3612e1b441a62f1": {
      "model_module": "jupyter-leaflet",
      "model_module_version": "^0.14.0",
      "model_name": "LeafletAwesomeIconModel",
      "state": {
       "_model_module_version": "^0.14.0",
       "_view_module_version": "^0.14.0",
       "icon_color": "white",
       "marker_color": "orange",
       "name": "life-ring"
      }
     },
     "bf97989834df4071a0d5e283593fc06d": {
      "model_module": "@jupyter-widgets/base",
      "model_module_version": "1.2.0",
      "model_name": "LayoutModel",
      "state": {}
     },
     "c0204c2f36d2423aa4e1405fc8628057": {
      "model_module": "@jupyter-widgets/controls",
      "model_module_version": "1.5.0",
      "model_name": "DescriptionStyleModel",
      "state": {
       "description_width": ""
      }
     },
     "c03f1b1ad0cb426387bac0308d5feda7": {
      "model_module": "@jupyter-widgets/controls",
      "model_module_version": "1.5.0",
      "model_name": "DescriptionStyleModel",
      "state": {
       "description_width": ""
      }
     },
     "c0fc5c770bb449da812c671c3208576e": {
      "model_module": "jupyter-leaflet",
      "model_module_version": "^0.14.0",
      "model_name": "LeafletAwesomeIconModel",
      "state": {
       "_model_module_version": "^0.14.0",
       "_view_module_version": "^0.14.0",
       "icon_color": "white",
       "marker_color": "orange",
       "name": "life-ring"
      }
     },
     "c12aef9853af4ca5a4fe767ce69b2a33": {
      "model_module": "jupyter-leaflet",
      "model_module_version": "^0.14.0",
      "model_name": "LeafletAwesomeIconModel",
      "state": {
       "_model_module_version": "^0.14.0",
       "_view_module_version": "^0.14.0",
       "icon_color": "white",
       "marker_color": "orange",
       "name": "life-ring"
      }
     },
     "c159fe8cb33749098f0ec8b4cbb91bb9": {
      "model_module": "jupyter-leaflet",
      "model_module_version": "^0.14.0",
      "model_name": "LeafletMarkerModel",
      "state": {
       "_model_module_version": "^0.14.0",
       "_view_module_version": "^0.14.0",
       "icon": "IPY_MODEL_22241d92cb8d4037887ae2f4ac066cdf",
       "location": [
        43.3447,
        -124.3231
       ],
       "options": [
        "alt",
        "draggable",
        "keyboard",
        "rise_offset",
        "rise_on_hover",
        "rotation_angle",
        "rotation_origin",
        "title",
        "z_index_offset"
       ],
       "popup": "IPY_MODEL_56cde663155449f4bf6be550c8594847"
      }
     },
     "c1e88ae1d72542e1bcfff1d814413bf4": {
      "model_module": "@jupyter-widgets/base",
      "model_module_version": "1.2.0",
      "model_name": "LayoutModel",
      "state": {}
     },
     "c1ed8d6365184a80ba44415b1cdd9b89": {
      "model_module": "@jupyter-widgets/base",
      "model_module_version": "1.2.0",
      "model_name": "LayoutModel",
      "state": {}
     },
     "c21e72472cfe46e18c8b5e105ff8e3f0": {
      "model_module": "@jupyter-widgets/controls",
      "model_module_version": "1.5.0",
      "model_name": "DescriptionStyleModel",
      "state": {
       "description_width": ""
      }
     },
     "c22a5ca50e79463682888f3a2a36da4d": {
      "model_module": "@jupyter-widgets/controls",
      "model_module_version": "1.5.0",
      "model_name": "HTMLModel",
      "state": {
       "layout": "IPY_MODEL_d324a022377a4e6ba40c2fcdf6619510",
       "style": "IPY_MODEL_8f0d8909d3cf40e4b1fee7b1cfbf399e",
       "value": "<table border=\"1\" class=\"dataframe table table-striped table-hover table-condensed table-responsive\">\n  <thead>\n    <tr style=\"text-align: right;\">\n      <th></th>\n      <th>46</th>\n    </tr>\n  </thead>\n  <tbody>\n    <tr>\n      <th>Institution</th>\n      <td>Ocean Observatories Initiative (OOI)</td>\n    </tr>\n    <tr>\n      <th>Dataset ID</th>\n      <td>ooi-ce09ossm-mfd37-03-ctdbpe000</td>\n    </tr>\n  </tbody>\n</table>"
      }
     },
     "c2817155860e4b159ae14f60024aa268": {
      "model_module": "jupyter-leaflet",
      "model_module_version": "^0.14.0",
      "model_name": "LeafletAwesomeIconModel",
      "state": {
       "_model_module_version": "^0.14.0",
       "_view_module_version": "^0.14.0",
       "icon_color": "white",
       "name": "life-ring"
      }
     },
     "c360ba98a8004574a498ac59cb32b8e5": {
      "model_module": "@jupyter-widgets/controls",
      "model_module_version": "1.5.0",
      "model_name": "DescriptionStyleModel",
      "state": {
       "description_width": ""
      }
     },
     "c3c0b0efe8ae4ebe978b5b22460d7c4f": {
      "model_module": "jupyter-leaflet",
      "model_module_version": "^0.14.0",
      "model_name": "LeafletAwesomeIconModel",
      "state": {
       "_model_module_version": "^0.14.0",
       "_view_module_version": "^0.14.0",
       "icon_color": "white",
       "marker_color": "orange",
       "name": "life-ring"
      }
     },
     "c3f7aa96f67e4e19b369b6db4ceed932": {
      "model_module": "jupyter-leaflet",
      "model_module_version": "^0.14.0",
      "model_name": "LeafletAwesomeIconModel",
      "state": {
       "_model_module_version": "^0.14.0",
       "_view_module_version": "^0.14.0",
       "icon_color": "white",
       "marker_color": "orange",
       "name": "life-ring"
      }
     },
     "c436533bb6b244baaa7cc1b980081687": {
      "model_module": "@jupyter-widgets/controls",
      "model_module_version": "1.5.0",
      "model_name": "HTMLModel",
      "state": {
       "layout": "IPY_MODEL_a1048b680f34439bac6daafd70de1593",
       "style": "IPY_MODEL_1618252b0b264742b40e7da25b34af2a",
       "value": "<table border=\"1\" class=\"dataframe table table-striped table-hover table-condensed table-responsive\">\n  <thead>\n    <tr style=\"text-align: right;\">\n      <th></th>\n      <th>56</th>\n    </tr>\n  </thead>\n  <tbody>\n    <tr>\n      <th>Institution</th>\n      <td>Ocean Observatories Initiative (OOI)</td>\n    </tr>\n    <tr>\n      <th>Dataset ID</th>\n      <td>ooi-ce07shsm-mfd37-03-dostad000</td>\n    </tr>\n  </tbody>\n</table>"
      }
     },
     "c445271f7921499488208fa1e428ee88": {
      "model_module": "@jupyter-widgets/controls",
      "model_module_version": "1.5.0",
      "model_name": "HTMLModel",
      "state": {
       "layout": "IPY_MODEL_df246e3f653d4a50ac1a32a13133e6e3",
       "style": "IPY_MODEL_0662c6a6d45c457ca646d1e8d322bf7a",
       "value": "<table border=\"1\" class=\"dataframe table table-striped table-hover table-condensed table-responsive\">\n  <thead>\n    <tr style=\"text-align: right;\">\n      <th></th>\n      <th>8</th>\n    </tr>\n  </thead>\n  <tbody>\n    <tr>\n      <th>Institution</th>\n      <td>Ocean Observatories Initiative (OOI)</td>\n    </tr>\n    <tr>\n      <th>Dataset ID</th>\n      <td>ooi-ce01issm-sbd17-06-flortd000</td>\n    </tr>\n  </tbody>\n</table>"
      }
     },
     "c46bc3cc4e3b4d6f8821ba41b8cd6b19": {
      "model_module": "@jupyter-widgets/controls",
      "model_module_version": "1.5.0",
      "model_name": "DescriptionStyleModel",
      "state": {
       "description_width": ""
      }
     },
     "c49a3d426d0046f9beceff1fed73c635": {
      "model_module": "@jupyter-widgets/controls",
      "model_module_version": "1.5.0",
      "model_name": "HTMLModel",
      "state": {
       "layout": "IPY_MODEL_f6115e22883d4a4dbb14341ef839f1e0",
       "style": "IPY_MODEL_fb2aac8401b24b42a70ff28d68a66a16",
       "value": "<table border=\"1\" class=\"dataframe table table-striped table-hover table-condensed table-responsive\">\n  <thead>\n    <tr style=\"text-align: right;\">\n      <th></th>\n      <th>61</th>\n    </tr>\n  </thead>\n  <tbody>\n    <tr>\n      <th>Institution</th>\n      <td>Ocean Observatories Initiative (OOI)</td>\n    </tr>\n    <tr>\n      <th>Dataset ID</th>\n      <td>ooi-rs01sbps-pc01a-4a-ctdpfa103</td>\n    </tr>\n  </tbody>\n</table>"
      }
     },
     "c4ac9fe3bd874e8d853d740404c2fe47": {
      "model_module": "jupyter-leaflet",
      "model_module_version": "^0.14.0",
      "model_name": "LeafletAwesomeIconModel",
      "state": {
       "_model_module_version": "^0.14.0",
       "_view_module_version": "^0.14.0",
       "icon_color": "white",
       "marker_color": "orange",
       "name": "life-ring"
      }
     },
     "c4d26b29cb7a43a78b0067793586c8fc": {
      "model_module": "@jupyter-widgets/controls",
      "model_module_version": "1.5.0",
      "model_name": "DescriptionStyleModel",
      "state": {
       "description_width": ""
      }
     },
     "c4ea2cda5cfb46f3a1415cef7f622c63": {
      "model_module": "jupyter-leaflet",
      "model_module_version": "^0.14.0",
      "model_name": "LeafletMarkerModel",
      "state": {
       "_model_module_version": "^0.14.0",
       "_view_module_version": "^0.14.0",
       "icon": "IPY_MODEL_74b096c74bb04e4da7ce31c5014f7aeb",
       "location": [
        44.37868,
        -124.94508
       ],
       "options": [
        "alt",
        "draggable",
        "keyboard",
        "rise_offset",
        "rise_on_hover",
        "rotation_angle",
        "rotation_origin",
        "title",
        "z_index_offset"
       ],
       "popup": "IPY_MODEL_5df4d886f50c421da1f286bceb90f809"
      }
     },
     "c4f2cd1075ec4710adea0505ada84bcc": {
      "model_module": "@jupyter-widgets/controls",
      "model_module_version": "1.5.0",
      "model_name": "DescriptionStyleModel",
      "state": {
       "description_width": ""
      }
     },
     "c53c59a50cde4a8185c44ce5b961158a": {
      "model_module": "@jupyter-widgets/base",
      "model_module_version": "1.2.0",
      "model_name": "LayoutModel",
      "state": {}
     },
     "c55a38762e164f5f8530afbdd5613c62": {
      "model_module": "@jupyter-widgets/controls",
      "model_module_version": "1.5.0",
      "model_name": "DescriptionStyleModel",
      "state": {
       "description_width": ""
      }
     },
     "c55a8389a57848dc9734d903bc8ce72b": {
      "model_module": "jupyter-leaflet",
      "model_module_version": "^0.14.0",
      "model_name": "LeafletMarkerModel",
      "state": {
       "_model_module_version": "^0.14.0",
       "_view_module_version": "^0.14.0",
       "icon": "IPY_MODEL_9801edd05d394c2385988c835d0eed2a",
       "location": [
        44.63577,
        -124.3035
       ],
       "options": [
        "alt",
        "draggable",
        "keyboard",
        "rise_offset",
        "rise_on_hover",
        "rotation_angle",
        "rotation_origin",
        "title",
        "z_index_offset"
       ],
       "popup": "IPY_MODEL_b096ac6208654732805fc2e0cff2f54f"
      }
     },
     "c5e2fb4449b749e494cf66b5c164522d": {
      "model_module": "jupyter-leaflet",
      "model_module_version": "^0.14.0",
      "model_name": "LeafletMarkerModel",
      "state": {
       "_model_module_version": "^0.14.0",
       "_view_module_version": "^0.14.0",
       "icon": "IPY_MODEL_0b0dd053b469474594ce0d75bebe889b",
       "location": [
        44.37868,
        -124.94508
       ],
       "options": [
        "alt",
        "draggable",
        "keyboard",
        "rise_offset",
        "rise_on_hover",
        "rotation_angle",
        "rotation_origin",
        "title",
        "z_index_offset"
       ],
       "popup": "IPY_MODEL_cad77508f35a469c81cce5d550c0b5ab"
      }
     },
     "c609ebe4b19041deb8ec0b11a00af6af": {
      "model_module": "jupyter-leaflet",
      "model_module_version": "^0.14.0",
      "model_name": "LeafletAwesomeIconModel",
      "state": {
       "_model_module_version": "^0.14.0",
       "_view_module_version": "^0.14.0",
       "icon_color": "white",
       "marker_color": "orange",
       "name": "life-ring"
      }
     },
     "c64426fd746f47519d3e25edae5cdc5c": {
      "model_module": "@jupyter-widgets/base",
      "model_module_version": "1.2.0",
      "model_name": "LayoutModel",
      "state": {}
     },
     "c646a06be3664584a8b9218dd5c36ed7": {
      "model_module": "jupyter-leaflet",
      "model_module_version": "^0.14.0",
      "model_name": "LeafletAwesomeIconModel",
      "state": {
       "_model_module_version": "^0.14.0",
       "_view_module_version": "^0.14.0",
       "icon_color": "white",
       "marker_color": "orange",
       "name": "life-ring"
      }
     },
     "c65ea4c583ad40a7944d12823b2815aa": {
      "model_module": "@jupyter-widgets/controls",
      "model_module_version": "1.5.0",
      "model_name": "DescriptionStyleModel",
      "state": {
       "description_width": ""
      }
     },
     "c664a71ac3874b3a9adc6688df5d1f25": {
      "model_module": "@jupyter-widgets/base",
      "model_module_version": "1.2.0",
      "model_name": "LayoutModel",
      "state": {}
     },
     "c69b045f75174aa1ab5ece916f834057": {
      "model_module": "jupyter-leaflet",
      "model_module_version": "^0.14.0",
      "model_name": "LeafletAwesomeIconModel",
      "state": {
       "_model_module_version": "^0.14.0",
       "_view_module_version": "^0.14.0",
       "icon_color": "white",
       "marker_color": "orange",
       "name": "life-ring"
      }
     },
     "c6c7054363674edd8390785f5c349a31": {
      "model_module": "jupyter-leaflet",
      "model_module_version": "^0.14.0",
      "model_name": "LeafletAwesomeIconModel",
      "state": {
       "_model_module_version": "^0.14.0",
       "_view_module_version": "^0.14.0",
       "icon_color": "white",
       "marker_color": "orange",
       "name": "life-ring"
      }
     },
     "c6f7f0135e47442b9865f28070b6f626": {
      "model_module": "@jupyter-widgets/controls",
      "model_module_version": "1.5.0",
      "model_name": "DescriptionStyleModel",
      "state": {
       "description_width": ""
      }
     },
     "c72c697c90514fa3b1f7f65b61d77b03": {
      "model_module": "@jupyter-widgets/controls",
      "model_module_version": "1.5.0",
      "model_name": "HTMLModel",
      "state": {
       "layout": "IPY_MODEL_0c14b03fec56429ea4d7d48d03136a88",
       "style": "IPY_MODEL_1cf7b5d9b214436ca06004eec0c927ad",
       "value": "<table border=\"1\" class=\"dataframe table table-striped table-hover table-condensed table-responsive\">\n  <thead>\n    <tr style=\"text-align: right;\">\n      <th></th>\n      <th>43</th>\n    </tr>\n  </thead>\n  <tbody>\n    <tr>\n      <th>Institution</th>\n      <td>Ocean Observatories Initiative (OOI)</td>\n    </tr>\n    <tr>\n      <th>Dataset ID</th>\n      <td>ooi-ce09ossm-rid27-04-dostad000</td>\n    </tr>\n  </tbody>\n</table>"
      }
     },
     "c74da5704c2942af8d49357e8cbabed9": {
      "model_module": "@jupyter-widgets/controls",
      "model_module_version": "1.5.0",
      "model_name": "HTMLModel",
      "state": {
       "layout": "IPY_MODEL_8dc712f8e26b4743b13a150a7c39c77b",
       "style": "IPY_MODEL_7f59196a7bac4b1ea91a9760eec939ac",
       "value": "<table border=\"1\" class=\"dataframe table table-striped table-hover table-condensed table-responsive\">\n  <thead>\n    <tr style=\"text-align: right;\">\n      <th></th>\n      <th>44</th>\n    </tr>\n  </thead>\n  <tbody>\n    <tr>\n      <th>Institution</th>\n      <td>Ocean Observatories Initiative (OOI)</td>\n    </tr>\n    <tr>\n      <th>Dataset ID</th>\n      <td>ooi-ce09ossm-rid26-07-nutnrb000</td>\n    </tr>\n  </tbody>\n</table>"
      }
     },
     "c79af96477f342509b5fb05c6eacdf8a": {
      "model_module": "@jupyter-widgets/controls",
      "model_module_version": "1.5.0",
      "model_name": "DescriptionStyleModel",
      "state": {
       "description_width": ""
      }
     },
     "c7a639dcc81b473cad594d29115d58e2": {
      "model_module": "@jupyter-widgets/base",
      "model_module_version": "1.2.0",
      "model_name": "LayoutModel",
      "state": {}
     },
     "c7acd5a10d75464c9919d8d87d1f03c5": {
      "model_module": "jupyter-leaflet",
      "model_module_version": "^0.14.0",
      "model_name": "LeafletMarkerModel",
      "state": {
       "_model_module_version": "^0.14.0",
       "_view_module_version": "^0.14.0",
       "icon": "IPY_MODEL_4713f15855f449f284f184cb36eed50b",
       "location": [
        47.1345,
        -124.27087
       ],
       "options": [
        "alt",
        "draggable",
        "keyboard",
        "rise_offset",
        "rise_on_hover",
        "rotation_angle",
        "rotation_origin",
        "title",
        "z_index_offset"
       ],
       "popup": "IPY_MODEL_009f1600d4d943f2bbedfa3200a8e67d"
      }
     },
     "c84c3b92794f4621a61b442b9ad2d859": {
      "model_module": "@jupyter-widgets/controls",
      "model_module_version": "1.5.0",
      "model_name": "HTMLModel",
      "state": {
       "layout": "IPY_MODEL_826240ef379d46c382797ef7100075b0",
       "style": "IPY_MODEL_97bf2530603b4c91b68393cb675794e4",
       "value": "<table border=\"1\" class=\"dataframe table table-striped table-hover table-condensed table-responsive\">\n  <thead>\n    <tr style=\"text-align: right;\">\n      <th></th>\n      <th>42</th>\n    </tr>\n  </thead>\n  <tbody>\n    <tr>\n      <th>Institution</th>\n      <td>Ocean Observatories Initiative (OOI)</td>\n    </tr>\n    <tr>\n      <th>Dataset ID</th>\n      <td>ooi-ce09ossm-rid27-03-ctdbpc000</td>\n    </tr>\n  </tbody>\n</table>"
      }
     },
     "c8563b6e220942ef82fd7fa8d07900eb": {
      "model_module": "@jupyter-widgets/base",
      "model_module_version": "1.2.0",
      "model_name": "LayoutModel",
      "state": {}
     },
     "c869d6311ac14795a9dfe4a43dcb6e74": {
      "model_module": "jupyter-leaflet",
      "model_module_version": "^0.14.0",
      "model_name": "LeafletAwesomeIconModel",
      "state": {
       "_model_module_version": "^0.14.0",
       "_view_module_version": "^0.14.0",
       "icon_color": "white",
       "marker_color": "orange",
       "name": "life-ring"
      }
     },
     "c86e2fb4e765400e8dce963518421041": {
      "model_module": "jupyter-leaflet",
      "model_module_version": "^0.14.0",
      "model_name": "LeafletAwesomeIconModel",
      "state": {
       "_model_module_version": "^0.14.0",
       "_view_module_version": "^0.14.0",
       "icon_color": "white",
       "marker_color": "orange",
       "name": "life-ring"
      }
     },
     "c94fb32d97f74d8fa64d728766c92e46": {
      "model_module": "@jupyter-widgets/controls",
      "model_module_version": "1.5.0",
      "model_name": "DescriptionStyleModel",
      "state": {
       "description_width": ""
      }
     },
     "c95ea904f36c4f98824aa75f38a6c047": {
      "model_module": "jupyter-leaflet",
      "model_module_version": "^0.14.0",
      "model_name": "LeafletMarkerModel",
      "state": {
       "_model_module_version": "^0.14.0",
       "_view_module_version": "^0.14.0",
       "icon": "IPY_MODEL_79ac80d10a9e4a94b0262cb77b088d82",
       "location": [
        44.37868,
        -124.94508
       ],
       "options": [
        "alt",
        "draggable",
        "keyboard",
        "rise_offset",
        "rise_on_hover",
        "rotation_angle",
        "rotation_origin",
        "title",
        "z_index_offset"
       ],
       "popup": "IPY_MODEL_2d85e09360d443dfb7cfb6245c5bd1dd"
      }
     },
     "c9866e1d370149ac91e3f4a343a9abd5": {
      "model_module": "@jupyter-widgets/controls",
      "model_module_version": "1.5.0",
      "model_name": "DescriptionStyleModel",
      "state": {
       "description_width": ""
      }
     },
     "c9897a5c3aef46dd84bbac014a01182a": {
      "model_module": "@jupyter-widgets/controls",
      "model_module_version": "1.5.0",
      "model_name": "DescriptionStyleModel",
      "state": {
       "description_width": ""
      }
     },
     "c9991b3850de4f809106db77293b6be2": {
      "model_module": "jupyter-leaflet",
      "model_module_version": "^0.14.0",
      "model_name": "LeafletAwesomeIconModel",
      "state": {
       "_model_module_version": "^0.14.0",
       "_view_module_version": "^0.14.0",
       "icon_color": "white",
       "marker_color": "orange",
       "name": "life-ring"
      }
     },
     "c9a9f0d8d283452db12efb91fba239f1": {
      "model_module": "@jupyter-widgets/controls",
      "model_module_version": "1.5.0",
      "model_name": "DescriptionStyleModel",
      "state": {
       "description_width": ""
      }
     },
     "c9f2004cf7fd4f6eac91f65695b145a4": {
      "model_module": "@jupyter-widgets/base",
      "model_module_version": "1.2.0",
      "model_name": "LayoutModel",
      "state": {}
     },
     "ca260d675dc447928567a37bdecc496d": {
      "model_module": "@jupyter-widgets/controls",
      "model_module_version": "1.5.0",
      "model_name": "HTMLModel",
      "state": {
       "layout": "IPY_MODEL_c9f2004cf7fd4f6eac91f65695b145a4",
       "style": "IPY_MODEL_4522eb088f314feaa42720abeb900a0d",
       "value": "<table border=\"1\" class=\"dataframe table table-striped table-hover table-condensed table-responsive\">\n  <thead>\n    <tr style=\"text-align: right;\">\n      <th></th>\n      <th>8</th>\n    </tr>\n  </thead>\n  <tbody>\n    <tr>\n      <th>Institution</th>\n      <td>Ocean Observatories Initiative (OOI)</td>\n    </tr>\n    <tr>\n      <th>Dataset ID</th>\n      <td>ooi-ce01issm-sbd17-06-flortd000</td>\n    </tr>\n  </tbody>\n</table>"
      }
     },
     "ca2c0f6b9cf04f598514d0d041e80267": {
      "model_module": "jupyter-leaflet",
      "model_module_version": "^0.14.0",
      "model_name": "LeafletAwesomeIconModel",
      "state": {
       "_model_module_version": "^0.14.0",
       "_view_module_version": "^0.14.0",
       "icon_color": "white",
       "marker_color": "orange",
       "name": "life-ring"
      }
     },
     "ca893056d2034bc0ab7af66e5adcecba": {
      "model_module": "@jupyter-widgets/base",
      "model_module_version": "1.2.0",
      "model_name": "LayoutModel",
      "state": {}
     },
     "cabf06d759e24e5cba53bb6b8670d536": {
      "model_module": "jupyter-leaflet",
      "model_module_version": "^0.14.0",
      "model_name": "LeafletMarkerModel",
      "state": {
       "_model_module_version": "^0.14.0",
       "_view_module_version": "^0.14.0",
       "icon": "IPY_MODEL_d299d118fe324d018ca0b0620287059c",
       "location": [
        47.1345,
        -124.27087
       ],
       "options": [
        "alt",
        "draggable",
        "keyboard",
        "rise_offset",
        "rise_on_hover",
        "rotation_angle",
        "rotation_origin",
        "title",
        "z_index_offset"
       ],
       "popup": "IPY_MODEL_9ccbdd752aab4934acc757841f595857"
      }
     },
     "cad77508f35a469c81cce5d550c0b5ab": {
      "model_module": "@jupyter-widgets/controls",
      "model_module_version": "1.5.0",
      "model_name": "HTMLModel",
      "state": {
       "layout": "IPY_MODEL_20b0cf410e0b44ed8cdb13b7732492cb",
       "style": "IPY_MODEL_9d620710b304491284aa708161982962",
       "value": "<table border=\"1\" class=\"dataframe table table-striped table-hover table-condensed table-responsive\">\n  <thead>\n    <tr style=\"text-align: right;\">\n      <th></th>\n      <th>18</th>\n    </tr>\n  </thead>\n  <tbody>\n    <tr>\n      <th>Institution</th>\n      <td>Ocean Observatories Initiative (OOI)</td>\n    </tr>\n    <tr>\n      <th>Dataset ID</th>\n      <td>ooi-ce04ossm-rid26-07-nutnrb000</td>\n    </tr>\n  </tbody>\n</table>"
      }
     },
     "caf1a892ab4e41f68a06fb49c4af08f8": {
      "model_module": "jupyter-leaflet",
      "model_module_version": "^0.14.0",
      "model_name": "LeafletMarkerModel",
      "state": {
       "_model_module_version": "^0.14.0",
       "_view_module_version": "^0.14.0",
       "icon": "IPY_MODEL_a3d9f7814ab24b1e9086e734d8f73843",
       "location": [
        46.86503,
        -124.94828
       ],
       "options": [
        "alt",
        "draggable",
        "keyboard",
        "rise_offset",
        "rise_on_hover",
        "rotation_angle",
        "rotation_origin",
        "title",
        "z_index_offset"
       ],
       "popup": "IPY_MODEL_ebe499337cae4db986be39d8aa9051ac"
      }
     },
     "cb3640f7857545ae82921e9a3ec83f16": {
      "model_module": "@jupyter-widgets/controls",
      "model_module_version": "1.5.0",
      "model_name": "DescriptionStyleModel",
      "state": {
       "description_width": ""
      }
     },
     "cb68ab5c4897422f810220a13638fbfe": {
      "model_module": "jupyter-leaflet",
      "model_module_version": "^0.14.0",
      "model_name": "LeafletAwesomeIconModel",
      "state": {
       "_model_module_version": "^0.14.0",
       "_view_module_version": "^0.14.0",
       "icon_color": "white",
       "marker_color": "orange",
       "name": "life-ring"
      }
     },
     "cbb4aa9101a04c4ca0eb3ed310b1db3e": {
      "model_module": "jupyter-leaflet",
      "model_module_version": "^0.14.0",
      "model_name": "LeafletMarkerModel",
      "state": {
       "_model_module_version": "^0.14.0",
       "_view_module_version": "^0.14.0",
       "icon": "IPY_MODEL_70227ff895a14a2099f61936ee1e21bc",
       "location": [
        46.85367,
        -124.95935
       ],
       "options": [
        "alt",
        "draggable",
        "keyboard",
        "rise_offset",
        "rise_on_hover",
        "rotation_angle",
        "rotation_origin",
        "title",
        "z_index_offset"
       ],
       "popup": "IPY_MODEL_d4c40119862b4ca58cf9b8135a213ba4"
      }
     },
     "cbc1ae8c4df74ec9a36eccc55ae98dde": {
      "model_module": "@jupyter-widgets/controls",
      "model_module_version": "1.5.0",
      "model_name": "DescriptionStyleModel",
      "state": {
       "description_width": ""
      }
     },
     "cbefa7f6fdd141c9879e53902a0d00fe": {
      "model_module": "@jupyter-widgets/base",
      "model_module_version": "1.2.0",
      "model_name": "LayoutModel",
      "state": {}
     },
     "cc212b8bd1634c2fbe5d0acb0a7091f0": {
      "model_module": "@jupyter-widgets/base",
      "model_module_version": "1.2.0",
      "model_name": "LayoutModel",
      "state": {}
     },
     "cc9aedf51e3640f2aa65e83ca569b3a8": {
      "model_module": "jupyter-leaflet",
      "model_module_version": "^0.14.0",
      "model_name": "LeafletAwesomeIconModel",
      "state": {
       "_model_module_version": "^0.14.0",
       "_view_module_version": "^0.14.0",
       "icon_color": "white",
       "marker_color": "orange",
       "name": "life-ring"
      }
     },
     "cd2613824efa49bbb180f96c1786a698": {
      "model_module": "@jupyter-widgets/base",
      "model_module_version": "1.2.0",
      "model_name": "LayoutModel",
      "state": {}
     },
     "cd711a8957904fa9afe267b21ea68081": {
      "model_module": "jupyter-leaflet",
      "model_module_version": "^0.14.0",
      "model_name": "LeafletMarkerModel",
      "state": {
       "_model_module_version": "^0.14.0",
       "_view_module_version": "^0.14.0",
       "icon": "IPY_MODEL_f2bf2bcc8f8d43aabfe2f1adb4713ac5",
       "location": [
        46.5007019042969,
        -124.030403137207
       ],
       "options": [
        "alt",
        "draggable",
        "keyboard",
        "rise_offset",
        "rise_on_hover",
        "rotation_angle",
        "rotation_origin",
        "title",
        "z_index_offset"
       ],
       "popup": "IPY_MODEL_76cb07da6b6947a58aeaf5a6cbceb332"
      }
     },
     "cd72b22a7e674ae3819e7a6de0239be4": {
      "model_module": "@jupyter-widgets/base",
      "model_module_version": "1.2.0",
      "model_name": "LayoutModel",
      "state": {}
     },
     "cda38f35c634412fbb6a905c8fc77f3a": {
      "model_module": "@jupyter-widgets/controls",
      "model_module_version": "1.5.0",
      "model_name": "DescriptionStyleModel",
      "state": {
       "description_width": ""
      }
     },
     "cdf8b42fa7484c6383d8da8e3ddaf547": {
      "model_module": "jupyter-leaflet",
      "model_module_version": "^0.14.0",
      "model_name": "LeafletAwesomeIconModel",
      "state": {
       "_model_module_version": "^0.14.0",
       "_view_module_version": "^0.14.0",
       "icon_color": "white",
       "name": "life-ring"
      }
     },
     "cee856d9327246f1bbd5bbdf84e879d5": {
      "model_module": "@jupyter-widgets/controls",
      "model_module_version": "1.5.0",
      "model_name": "DescriptionStyleModel",
      "state": {
       "description_width": ""
      }
     },
     "cefe307eb8a44572b927594be899f092": {
      "model_module": "@jupyter-widgets/controls",
      "model_module_version": "1.5.0",
      "model_name": "DescriptionStyleModel",
      "state": {
       "description_width": ""
      }
     },
     "cf6fe94529134085b9570c7fb4793879": {
      "model_module": "jupyter-leaflet",
      "model_module_version": "^0.14.0",
      "model_name": "LeafletMarkerModel",
      "state": {
       "_model_module_version": "^0.14.0",
       "_view_module_version": "^0.14.0",
       "icon": "IPY_MODEL_2d80f1c402944f7aad980a3f4552a20f",
       "location": [
        44.52897,
        -125.38966
       ],
       "options": [
        "alt",
        "draggable",
        "keyboard",
        "rise_offset",
        "rise_on_hover",
        "rotation_angle",
        "rotation_origin",
        "title",
        "z_index_offset"
       ],
       "popup": "IPY_MODEL_212009cea390457899b1ab5f4b1c019d"
      }
     },
     "d044f59ff5b14a108ddf2fd246f590a4": {
      "model_module": "@jupyter-widgets/controls",
      "model_module_version": "1.5.0",
      "model_name": "DescriptionStyleModel",
      "state": {
       "description_width": ""
      }
     },
     "d06a5100a7ac4e10993d9ebab9d3156b": {
      "model_module": "@jupyter-widgets/controls",
      "model_module_version": "1.5.0",
      "model_name": "HTMLModel",
      "state": {
       "layout": "IPY_MODEL_ec4fcc29cc324dc9bda9ddc330f841b9",
       "style": "IPY_MODEL_c4d26b29cb7a43a78b0067793586c8fc",
       "value": "<table border=\"1\" class=\"dataframe table table-striped table-hover table-condensed table-responsive\">\n  <thead>\n    <tr style=\"text-align: right;\">\n      <th></th>\n      <th>3</th>\n    </tr>\n  </thead>\n  <tbody>\n    <tr>\n      <th>Institution</th>\n      <td>Ocean Observatories Initiative (OOI)</td>\n    </tr>\n    <tr>\n      <th>Dataset ID</th>\n      <td>ooi-ce01issm-rid16-07-nutnrb000</td>\n    </tr>\n  </tbody>\n</table>"
      }
     },
     "d0cec5ab52304ae9b773bd4b534edc1e": {
      "model_module": "@jupyter-widgets/controls",
      "model_module_version": "1.5.0",
      "model_name": "HTMLModel",
      "state": {
       "layout": "IPY_MODEL_aafb4e6331f54eb68e4916ac2925e4a9",
       "style": "IPY_MODEL_338b38a5e98a4893baee958ce27ce000",
       "value": "<table border=\"1\" class=\"dataframe table table-striped table-hover table-condensed table-responsive\">\n  <thead>\n    <tr style=\"text-align: right;\">\n      <th></th>\n      <th>5</th>\n    </tr>\n  </thead>\n  <tbody>\n    <tr>\n      <th>Institution</th>\n      <td>Ocean Observatories Initiative (OOI)</td>\n    </tr>\n    <tr>\n      <th>Dataset ID</th>\n      <td>ooi-ce01issm-mfd37-03-ctdbpc000</td>\n    </tr>\n  </tbody>\n</table>"
      }
     },
     "d113f4dec824480a815d9bd0fa0113a1": {
      "model_module": "jupyter-leaflet",
      "model_module_version": "^0.14.0",
      "model_name": "LeafletAwesomeIconModel",
      "state": {
       "_model_module_version": "^0.14.0",
       "_view_module_version": "^0.14.0",
       "icon_color": "white",
       "name": "life-ring"
      }
     },
     "d12dd6ac86574a8bbeca5d4a85e44dd3": {
      "model_module": "@jupyter-widgets/controls",
      "model_module_version": "1.5.0",
      "model_name": "DescriptionStyleModel",
      "state": {
       "description_width": ""
      }
     },
     "d13a34ad46334c68860b7681ff0630e2": {
      "model_module": "jupyter-leaflet",
      "model_module_version": "^0.14.0",
      "model_name": "LeafletMarkerModel",
      "state": {
       "_model_module_version": "^0.14.0",
       "_view_module_version": "^0.14.0",
       "icon": "IPY_MODEL_8788f467b9d34702abcbc5af55fccfdd",
       "location": [
        44.37868,
        -124.94508
       ],
       "options": [
        "alt",
        "draggable",
        "keyboard",
        "rise_offset",
        "rise_on_hover",
        "rotation_angle",
        "rotation_origin",
        "title",
        "z_index_offset"
       ],
       "popup": "IPY_MODEL_68c99f32e8104f3f9c7c0e05176b575b"
      }
     },
     "d1b42f5f7e7d41c7aab2ea94d4b2ff32": {
      "model_module": "jupyter-leaflet",
      "model_module_version": "^0.14.0",
      "model_name": "LeafletMarkerModel",
      "state": {
       "_model_module_version": "^0.14.0",
       "_view_module_version": "^0.14.0",
       "icon": "IPY_MODEL_8dd12761647a465783339cee08532a79",
       "location": [
        47.9739990234375,
        -124.955001831055
       ],
       "options": [
        "alt",
        "draggable",
        "keyboard",
        "rise_offset",
        "rise_on_hover",
        "rotation_angle",
        "rotation_origin",
        "title",
        "z_index_offset"
       ],
       "popup": "IPY_MODEL_db8166393adf4a35bb72cc49c6a44e6f"
      }
     },
     "d1cff6656cc74062b0acbb85736d8f22": {
      "model_module": "jupyter-leaflet",
      "model_module_version": "^0.14.0",
      "model_name": "LeafletMarkerModel",
      "state": {
       "_model_module_version": "^0.14.0",
       "_view_module_version": "^0.14.0",
       "icon": "IPY_MODEL_99eabbc34ca846debb5374663f09c4ac",
       "location": [
        46.98648,
        -124.56923
       ],
       "options": [
        "alt",
        "draggable",
        "keyboard",
        "rise_offset",
        "rise_on_hover",
        "rotation_angle",
        "rotation_origin",
        "title",
        "z_index_offset"
       ],
       "popup": "IPY_MODEL_4ea3edfc6ee144e5bba11112ab0225e7"
      }
     },
     "d24bb16c80ba45b88a7889bf9e03428f": {
      "model_module": "@jupyter-widgets/base",
      "model_module_version": "1.2.0",
      "model_name": "LayoutModel",
      "state": {}
     },
     "d299d118fe324d018ca0b0620287059c": {
      "model_module": "jupyter-leaflet",
      "model_module_version": "^0.14.0",
      "model_name": "LeafletAwesomeIconModel",
      "state": {
       "_model_module_version": "^0.14.0",
       "_view_module_version": "^0.14.0",
       "icon_color": "white",
       "marker_color": "orange",
       "name": "life-ring"
      }
     },
     "d2b7701090b94399af2e9cd8a37f8601": {
      "model_module": "@jupyter-widgets/controls",
      "model_module_version": "1.5.0",
      "model_name": "HTMLModel",
      "state": {
       "layout": "IPY_MODEL_f283cd16cd2640188bc2faf47e54f72f",
       "style": "IPY_MODEL_5542e5eb87464c68bdc90f4a426dc4bd",
       "value": "<table border=\"1\" class=\"dataframe table table-striped table-hover table-condensed table-responsive\">\n  <thead>\n    <tr style=\"text-align: right;\">\n      <th></th>\n      <th>57</th>\n    </tr>\n  </thead>\n  <tbody>\n    <tr>\n      <th>Institution</th>\n      <td>Ocean Observatories Initiative (OOI)</td>\n    </tr>\n    <tr>\n      <th>Dataset ID</th>\n      <td>ooi-ce07shsm-mfd35-06-phsend000</td>\n    </tr>\n  </tbody>\n</table>"
      }
     },
     "d2c0991ec1774b3e9b21555fb88443fe": {
      "model_module": "@jupyter-widgets/base",
      "model_module_version": "1.2.0",
      "model_name": "LayoutModel",
      "state": {}
     },
     "d2c9511f951647cd9bf6259b5c171e5a": {
      "model_module": "jupyter-leaflet",
      "model_module_version": "^0.14.0",
      "model_name": "LeafletMarkerModel",
      "state": {
       "_model_module_version": "^0.14.0",
       "_view_module_version": "^0.14.0",
       "icon": "IPY_MODEL_e9189fc217b34d18addfe6fdd3a6e1bc",
       "location": [
        46.85367,
        -124.95935
       ],
       "options": [
        "alt",
        "draggable",
        "keyboard",
        "rise_offset",
        "rise_on_hover",
        "rotation_angle",
        "rotation_origin",
        "title",
        "z_index_offset"
       ],
       "popup": "IPY_MODEL_300049c4f8704f3a945502cfdd850648"
      }
     },
     "d322222a5d1f4db7863efb99aaa4cf3a": {
      "model_module": "@jupyter-widgets/controls",
      "model_module_version": "1.5.0",
      "model_name": "DescriptionStyleModel",
      "state": {
       "description_width": ""
      }
     },
     "d324a022377a4e6ba40c2fcdf6619510": {
      "model_module": "@jupyter-widgets/base",
      "model_module_version": "1.2.0",
      "model_name": "LayoutModel",
      "state": {}
     },
     "d39b29ff0adf4773aa02dbf8735d068d": {
      "model_module": "@jupyter-widgets/controls",
      "model_module_version": "1.5.0",
      "model_name": "DescriptionStyleModel",
      "state": {
       "description_width": ""
      }
     },
     "d3f10d5749524bd9a7632b1e8dc8a38f": {
      "model_module": "@jupyter-widgets/controls",
      "model_module_version": "1.5.0",
      "model_name": "DescriptionStyleModel",
      "state": {
       "description_width": ""
      }
     },
     "d41034cf0a8644b8afbd18760ad8d659": {
      "model_module": "jupyter-leaflet",
      "model_module_version": "^0.14.0",
      "model_name": "LeafletMarkerModel",
      "state": {
       "_model_module_version": "^0.14.0",
       "_view_module_version": "^0.14.0",
       "icon": "IPY_MODEL_a94c619bb8704d07a6bd57c891f4533a",
       "location": [
        47.35,
        -124.73
       ],
       "options": [
        "alt",
        "draggable",
        "keyboard",
        "rise_offset",
        "rise_on_hover",
        "rotation_angle",
        "rotation_origin",
        "title",
        "z_index_offset"
       ],
       "popup": "IPY_MODEL_d70b2f6f4a0d44d7af1e56905ee802b1"
      }
     },
     "d42465db9a1346d2a0761d1d9d3479a2": {
      "model_module": "jupyter-leaflet",
      "model_module_version": "^0.14.0",
      "model_name": "LeafletMarkerModel",
      "state": {
       "_model_module_version": "^0.14.0",
       "_view_module_version": "^0.14.0",
       "icon": "IPY_MODEL_926a75beba404f8b9d5e3aa83a5241b2",
       "location": [
        45.5544,
        -123.9189
       ],
       "options": [
        "alt",
        "draggable",
        "keyboard",
        "rise_offset",
        "rise_on_hover",
        "rotation_angle",
        "rotation_origin",
        "title",
        "z_index_offset"
       ],
       "popup": "IPY_MODEL_0793338956ad45df90e8c71d9ea42124"
      }
     },
     "d44d9751db1a45969b17339b7b0deed3": {
      "model_module": "@jupyter-widgets/controls",
      "model_module_version": "1.5.0",
      "model_name": "DescriptionStyleModel",
      "state": {
       "description_width": ""
      }
     },
     "d48fc5c8cb82421c9467be1bae9b3ff9": {
      "model_module": "@jupyter-widgets/base",
      "model_module_version": "1.2.0",
      "model_name": "LayoutModel",
      "state": {}
     },
     "d4a9dedcfbf24e6eb03bb746cbf996d5": {
      "model_module": "@jupyter-widgets/base",
      "model_module_version": "1.2.0",
      "model_name": "LayoutModel",
      "state": {}
     },
     "d4c40119862b4ca58cf9b8135a213ba4": {
      "model_module": "@jupyter-widgets/controls",
      "model_module_version": "1.5.0",
      "model_name": "HTMLModel",
      "state": {
       "layout": "IPY_MODEL_8d52e478ee004bbaa6ea38582cf79955",
       "style": "IPY_MODEL_f39d69553ce14d2da829e8844ceb6b01",
       "value": "<table border=\"1\" class=\"dataframe table table-striped table-hover table-condensed table-responsive\">\n  <thead>\n    <tr style=\"text-align: right;\">\n      <th></th>\n      <th>46</th>\n    </tr>\n  </thead>\n  <tbody>\n    <tr>\n      <th>Institution</th>\n      <td>Ocean Observatories Initiative (OOI)</td>\n    </tr>\n    <tr>\n      <th>Dataset ID</th>\n      <td>ooi-ce09ossm-mfd37-03-ctdbpe000</td>\n    </tr>\n  </tbody>\n</table>"
      }
     },
     "d4c701ae7f8448d8b23c25148fed5adb": {
      "model_module": "@jupyter-widgets/base",
      "model_module_version": "1.2.0",
      "model_name": "LayoutModel",
      "state": {}
     },
     "d4e3a576fe3b43ebbedab278b2e9d6a9": {
      "model_module": "@jupyter-widgets/controls",
      "model_module_version": "1.5.0",
      "model_name": "DescriptionStyleModel",
      "state": {
       "description_width": ""
      }
     },
     "d50113891884472390fe5315ad1f7ed1": {
      "model_module": "jupyter-leaflet",
      "model_module_version": "^0.14.0",
      "model_name": "LeafletAwesomeIconModel",
      "state": {
       "_model_module_version": "^0.14.0",
       "_view_module_version": "^0.14.0",
       "icon_color": "white",
       "marker_color": "orange",
       "name": "life-ring"
      }
     },
     "d573c2d04c8045a6a4f598feea3b9913": {
      "model_module": "@jupyter-widgets/controls",
      "model_module_version": "1.5.0",
      "model_name": "HTMLModel",
      "state": {
       "layout": "IPY_MODEL_6e017b364ed94c928126790d145b4b9e",
       "style": "IPY_MODEL_58c7f352530141909d9263f2b73f3179",
       "value": "<table border=\"1\" class=\"dataframe table table-striped table-hover table-condensed table-responsive\">\n  <thead>\n    <tr style=\"text-align: right;\">\n      <th></th>\n      <th>42</th>\n    </tr>\n  </thead>\n  <tbody>\n    <tr>\n      <th>Institution</th>\n      <td>Ocean Observatories Initiative (OOI)</td>\n    </tr>\n    <tr>\n      <th>Dataset ID</th>\n      <td>ooi-ce09ossm-rid27-03-ctdbpc000</td>\n    </tr>\n  </tbody>\n</table>"
      }
     },
     "d5885da622ad4f67aa72572aacfa8f71": {
      "model_module": "jupyter-leaflet",
      "model_module_version": "^0.14.0",
      "model_name": "LeafletAwesomeIconModel",
      "state": {
       "_model_module_version": "^0.14.0",
       "_view_module_version": "^0.14.0",
       "icon_color": "white",
       "marker_color": "orange",
       "name": "life-ring"
      }
     },
     "d59a787c654f47edb3c1da04697d54b9": {
      "model_module": "@jupyter-widgets/controls",
      "model_module_version": "1.5.0",
      "model_name": "HTMLModel",
      "state": {
       "layout": "IPY_MODEL_b9c800379c8344df9b769ed1fff1c683",
       "style": "IPY_MODEL_f196543251ce42609ae08d33e742179e",
       "value": "<table border=\"1\" class=\"dataframe table table-striped table-hover table-condensed table-responsive\">\n  <thead>\n    <tr style=\"text-align: right;\">\n      <th></th>\n      <th>35</th>\n    </tr>\n  </thead>\n  <tbody>\n    <tr>\n      <th>Institution</th>\n      <td>Ocean Observatories Initiative (OOI)</td>\n    </tr>\n    <tr>\n      <th>Dataset ID</th>\n      <td>ooi-ce06issm-rid16-06-phsend000</td>\n    </tr>\n  </tbody>\n</table>"
      }
     },
     "d59fded7cd784d3a823d75d5c3b5c8ef": {
      "model_module": "jupyter-leaflet",
      "model_module_version": "^0.14.0",
      "model_name": "LeafletAwesomeIconModel",
      "state": {
       "_model_module_version": "^0.14.0",
       "_view_module_version": "^0.14.0",
       "icon_color": "white",
       "name": "life-ring"
      }
     },
     "d5c6c961c4bf420b9447be87d7c255c0": {
      "model_module": "jupyter-leaflet",
      "model_module_version": "^0.14.0",
      "model_name": "LeafletMarkerModel",
      "state": {
       "_model_module_version": "^0.14.0",
       "_view_module_version": "^0.14.0",
       "icon": "IPY_MODEL_346cb7af1d5646a7a86db8121ef523ff",
       "location": [
        44.6,
        -124.3
       ],
       "options": [
        "alt",
        "draggable",
        "keyboard",
        "rise_offset",
        "rise_on_hover",
        "rotation_angle",
        "rotation_origin",
        "title",
        "z_index_offset"
       ],
       "popup": "IPY_MODEL_40f1ed53b3394e56a5dedbf7fcfb0b2e"
      }
     },
     "d5f4dcd3bb55453f9c8e7e5e458cd6c9": {
      "model_module": "jupyter-leaflet",
      "model_module_version": "^0.14.0",
      "model_name": "LeafletMarkerModel",
      "state": {
       "_model_module_version": "^0.14.0",
       "_view_module_version": "^0.14.0",
       "icon": "IPY_MODEL_f250779a27fe4ba18f5fce5a7f99015a",
       "location": [
        46.85367,
        -124.95935
       ],
       "options": [
        "alt",
        "draggable",
        "keyboard",
        "rise_offset",
        "rise_on_hover",
        "rotation_angle",
        "rotation_origin",
        "title",
        "z_index_offset"
       ],
       "popup": "IPY_MODEL_d6debe02c92742149714733b1cb8bac9"
      }
     },
     "d619d2a4d6e94583996db945f3c20a6c": {
      "model_module": "@jupyter-widgets/controls",
      "model_module_version": "1.5.0",
      "model_name": "HTMLModel",
      "state": {
       "layout": "IPY_MODEL_df39f9d558c84a6ebe385bb8b7cd11c1",
       "style": "IPY_MODEL_19599f81e9e04f08a26a09fcefa2675a",
       "value": "<table border=\"1\" class=\"dataframe table table-striped table-hover table-condensed table-responsive\">\n  <thead>\n    <tr style=\"text-align: right;\">\n      <th></th>\n      <th>71</th>\n    </tr>\n  </thead>\n  <tbody>\n    <tr>\n      <th>Institution</th>\n      <td>NOAA Pacific Marine Environmental Lab (PMEL)</td>\n    </tr>\n    <tr>\n      <th>Dataset ID</th>\n      <td>gov_ornl_cdiac_wa_125w_47n</td>\n    </tr>\n  </tbody>\n</table>"
      }
     },
     "d6382f5d865a4de9b9482f51983a61f8": {
      "model_module": "jupyter-leaflet",
      "model_module_version": "^0.14.0",
      "model_name": "LeafletMarkerModel",
      "state": {
       "_model_module_version": "^0.14.0",
       "_view_module_version": "^0.14.0",
       "icon": "IPY_MODEL_8e38c8a44aeb49e78293a756d4b3c521",
       "location": [
        47.9646517535081,
        -124.953552246094
       ],
       "options": [
        "alt",
        "draggable",
        "keyboard",
        "rise_offset",
        "rise_on_hover",
        "rotation_angle",
        "rotation_origin",
        "title",
        "z_index_offset"
       ],
       "popup": "IPY_MODEL_79709e1126db4a48af1a848aa54c8ed6"
      }
     },
     "d64cdbd9f7de40dbb25db11b0f5a7454": {
      "model_module": "@jupyter-widgets/controls",
      "model_module_version": "1.5.0",
      "model_name": "HTMLModel",
      "state": {
       "layout": "IPY_MODEL_1e6bcae72dbe47858e9d81c0fcb7718b",
       "style": "IPY_MODEL_f7a519180ec8483e9d0c778a802da817",
       "value": "<table border=\"1\" class=\"dataframe table table-striped table-hover table-condensed table-responsive\">\n  <thead>\n    <tr style=\"text-align: right;\">\n      <th></th>\n      <th>36</th>\n    </tr>\n  </thead>\n  <tbody>\n    <tr>\n      <th>Institution</th>\n      <td>Ocean Observatories Initiative (OOI)</td>\n    </tr>\n    <tr>\n      <th>Dataset ID</th>\n      <td>ooi-ce06issm-mfd37-03-ctdbpc000</td>\n    </tr>\n  </tbody>\n</table>"
      }
     },
     "d64d8738680b461ab57f8cae2af56762": {
      "model_module": "@jupyter-widgets/base",
      "model_module_version": "1.2.0",
      "model_name": "LayoutModel",
      "state": {}
     },
     "d6debe02c92742149714733b1cb8bac9": {
      "model_module": "@jupyter-widgets/controls",
      "model_module_version": "1.5.0",
      "model_name": "HTMLModel",
      "state": {
       "layout": "IPY_MODEL_d48fc5c8cb82421c9467be1bae9b3ff9",
       "style": "IPY_MODEL_2b0c0dad11cf416d897a6c46a8213c94",
       "value": "<table border=\"1\" class=\"dataframe table table-striped table-hover table-condensed table-responsive\">\n  <thead>\n    <tr style=\"text-align: right;\">\n      <th></th>\n      <th>42</th>\n    </tr>\n  </thead>\n  <tbody>\n    <tr>\n      <th>Institution</th>\n      <td>Ocean Observatories Initiative (OOI)</td>\n    </tr>\n    <tr>\n      <th>Dataset ID</th>\n      <td>ooi-ce09ossm-rid27-03-ctdbpc000</td>\n    </tr>\n  </tbody>\n</table>"
      }
     },
     "d70aaaeb81e344b9af3384ce65e8e44e": {
      "model_module": "jupyter-leaflet",
      "model_module_version": "^0.14.0",
      "model_name": "LeafletMarkerModel",
      "state": {
       "_model_module_version": "^0.14.0",
       "_view_module_version": "^0.14.0",
       "icon": "IPY_MODEL_a25ddcfcac184f7daebc33a8ddb23975",
       "location": [
        47.35,
        -124.73
       ],
       "options": [
        "alt",
        "draggable",
        "keyboard",
        "rise_offset",
        "rise_on_hover",
        "rotation_angle",
        "rotation_origin",
        "title",
        "z_index_offset"
       ],
       "popup": "IPY_MODEL_d619d2a4d6e94583996db945f3c20a6c"
      }
     },
     "d70b2f6f4a0d44d7af1e56905ee802b1": {
      "model_module": "@jupyter-widgets/controls",
      "model_module_version": "1.5.0",
      "model_name": "HTMLModel",
      "state": {
       "layout": "IPY_MODEL_2887745f7f494bd1bcf4f11b0e1e9401",
       "style": "IPY_MODEL_3add10dcd54b4da4ad31f22cc7535dd1",
       "value": "<table border=\"1\" class=\"dataframe table table-striped table-hover table-condensed table-responsive\">\n  <thead>\n    <tr style=\"text-align: right;\">\n      <th></th>\n      <th>71</th>\n    </tr>\n  </thead>\n  <tbody>\n    <tr>\n      <th>Institution</th>\n      <td>NOAA Pacific Marine Environmental Lab (PMEL)</td>\n    </tr>\n    <tr>\n      <th>Dataset ID</th>\n      <td>gov_ornl_cdiac_wa_125w_47n</td>\n    </tr>\n  </tbody>\n</table>"
      }
     },
     "d791cd95f9384b688376aea6286fd557": {
      "model_module": "@jupyter-widgets/controls",
      "model_module_version": "1.5.0",
      "model_name": "DescriptionStyleModel",
      "state": {
       "description_width": ""
      }
     },
     "d7cf5a0a642f4398ab004459aa09b608": {
      "model_module": "@jupyter-widgets/controls",
      "model_module_version": "1.5.0",
      "model_name": "DescriptionStyleModel",
      "state": {
       "description_width": ""
      }
     },
     "d801730b2e73439c89ee79374cb03cc7": {
      "model_module": "@jupyter-widgets/base",
      "model_module_version": "1.2.0",
      "model_name": "LayoutModel",
      "state": {}
     },
     "d83ed97341664545874455454ec554ed": {
      "model_module": "jupyter-leaflet",
      "model_module_version": "^0.14.0",
      "model_name": "LeafletMarkerModel",
      "state": {
       "_model_module_version": "^0.14.0",
       "_view_module_version": "^0.14.0",
       "icon": "IPY_MODEL_3cb12115b65f40acbaa1406d9d4a7f6f",
       "location": [
        47.1345,
        -124.27087
       ],
       "options": [
        "alt",
        "draggable",
        "keyboard",
        "rise_offset",
        "rise_on_hover",
        "rotation_angle",
        "rotation_origin",
        "title",
        "z_index_offset"
       ],
       "popup": "IPY_MODEL_2841d24687214e14a5ede09a7037bf66"
      }
     },
     "d846024cc6bf4529910ea35f45fada30": {
      "model_module": "@jupyter-widgets/base",
      "model_module_version": "1.2.0",
      "model_name": "LayoutModel",
      "state": {}
     },
     "d8605685768b4966801794f1fcc23ab5": {
      "model_module": "@jupyter-widgets/base",
      "model_module_version": "1.2.0",
      "model_name": "LayoutModel",
      "state": {}
     },
     "d8902c7c75b84276880390a7d601f292": {
      "model_module": "jupyter-leaflet",
      "model_module_version": "^0.14.0",
      "model_name": "LeafletAwesomeIconModel",
      "state": {
       "_model_module_version": "^0.14.0",
       "_view_module_version": "^0.14.0",
       "icon_color": "white",
       "marker_color": "orange",
       "name": "life-ring"
      }
     },
     "d8bbfc180ea34a7faade3963d914db4f": {
      "model_module": "@jupyter-widgets/base",
      "model_module_version": "1.2.0",
      "model_name": "LayoutModel",
      "state": {}
     },
     "d8be70c0a47e4500a072634304e30156": {
      "model_module": "@jupyter-widgets/controls",
      "model_module_version": "1.5.0",
      "model_name": "HTMLModel",
      "state": {
       "layout": "IPY_MODEL_6f10fa38b5d44e59872b49e8c86275f3",
       "style": "IPY_MODEL_63f367f807524636b93539f032f82afb",
       "value": "<table border=\"1\" class=\"dataframe table table-striped table-hover table-condensed table-responsive\">\n  <thead>\n    <tr style=\"text-align: right;\">\n      <th></th>\n      <th>30</th>\n    </tr>\n  </thead>\n  <tbody>\n    <tr>\n      <th>Institution</th>\n      <td>Ocean Observatories Initiative (OOI)</td>\n    </tr>\n    <tr>\n      <th>Dataset ID</th>\n      <td>ooi-ce02shsm-sbd12-04-pco2aa000</td>\n    </tr>\n  </tbody>\n</table>"
      }
     },
     "d8c201fb51ed4dea9b03e40bd746ad43": {
      "model_module": "@jupyter-widgets/base",
      "model_module_version": "1.2.0",
      "model_name": "LayoutModel",
      "state": {}
     },
     "d93ca16131cb444391317dff04f001e4": {
      "model_module": "jupyter-leaflet",
      "model_module_version": "^0.14.0",
      "model_name": "LeafletMarkerModel",
      "state": {
       "_model_module_version": "^0.14.0",
       "_view_module_version": "^0.14.0",
       "icon": "IPY_MODEL_f32e09a887f1468db5d337b8cfd045c9",
       "location": [
        47.1345,
        -124.27087
       ],
       "options": [
        "alt",
        "draggable",
        "keyboard",
        "rise_offset",
        "rise_on_hover",
        "rotation_angle",
        "rotation_origin",
        "title",
        "z_index_offset"
       ],
       "popup": "IPY_MODEL_d96cd57395e24a12923aec2350afdd8c"
      }
     },
     "d96cd57395e24a12923aec2350afdd8c": {
      "model_module": "@jupyter-widgets/controls",
      "model_module_version": "1.5.0",
      "model_name": "HTMLModel",
      "state": {
       "layout": "IPY_MODEL_ec6df6cdc7f442ddad296f5b2d7fab44",
       "style": "IPY_MODEL_0355f1efea444136a8eff7dce142d523",
       "value": "<table border=\"1\" class=\"dataframe table table-striped table-hover table-condensed table-responsive\">\n  <thead>\n    <tr style=\"text-align: right;\">\n      <th></th>\n      <th>37</th>\n    </tr>\n  </thead>\n  <tbody>\n    <tr>\n      <th>Institution</th>\n      <td>Ocean Observatories Initiative (OOI)</td>\n    </tr>\n    <tr>\n      <th>Dataset ID</th>\n      <td>ooi-ce06issm-mfd37-03-dostad000</td>\n    </tr>\n  </tbody>\n</table>"
      }
     },
     "d971e92dddf546afaedf925f1fd4aaa1": {
      "model_module": "jupyter-leaflet",
      "model_module_version": "^0.14.0",
      "model_name": "LeafletAwesomeIconModel",
      "state": {
       "_model_module_version": "^0.14.0",
       "_view_module_version": "^0.14.0",
       "icon_color": "white",
       "marker_color": "orange",
       "name": "life-ring"
      }
     },
     "d98dd62bf5514ab1990596527a0fd553": {
      "model_module": "@jupyter-widgets/controls",
      "model_module_version": "1.5.0",
      "model_name": "HTMLModel",
      "state": {
       "layout": "IPY_MODEL_6798715d8ca1409cb06ae794c84553bc",
       "style": "IPY_MODEL_d7cf5a0a642f4398ab004459aa09b608",
       "value": "<table border=\"1\" class=\"dataframe table table-striped table-hover table-condensed table-responsive\">\n  <thead>\n    <tr style=\"text-align: right;\">\n      <th></th>\n      <th>10</th>\n    </tr>\n  </thead>\n  <tbody>\n    <tr>\n      <th>Institution</th>\n      <td>Ocean Observatories Initiative (OOI)</td>\n    </tr>\n    <tr>\n      <th>Dataset ID</th>\n      <td>ooi-ce04osbp-lj01c-06-ctdbpo108</td>\n    </tr>\n  </tbody>\n</table>"
      }
     },
     "d9cfc2adbcb34251a43f19415d63e2d2": {
      "model_module": "jupyter-leaflet",
      "model_module_version": "^0.14.0",
      "model_name": "LeafletMarkerModel",
      "state": {
       "_model_module_version": "^0.14.0",
       "_view_module_version": "^0.14.0",
       "icon": "IPY_MODEL_cc9aedf51e3640f2aa65e83ca569b3a8",
       "location": [
        46.85367,
        -124.95935
       ],
       "options": [
        "alt",
        "draggable",
        "keyboard",
        "rise_offset",
        "rise_on_hover",
        "rotation_angle",
        "rotation_origin",
        "title",
        "z_index_offset"
       ],
       "popup": "IPY_MODEL_89cc5bffc3624b5f913d6d6c7a0d1ee8"
      }
     },
     "d9db90d3b9a64ac08867d2c4af8552c5": {
      "model_module": "jupyter-leaflet",
      "model_module_version": "^0.14.0",
      "model_name": "LeafletAwesomeIconModel",
      "state": {
       "_model_module_version": "^0.14.0",
       "_view_module_version": "^0.14.0",
       "icon_color": "white",
       "marker_color": "orange",
       "name": "life-ring"
      }
     },
     "da029342e08a4366bb4bc9dc933a9a49": {
      "model_module": "@jupyter-widgets/controls",
      "model_module_version": "1.5.0",
      "model_name": "DescriptionStyleModel",
      "state": {
       "description_width": ""
      }
     },
     "da29dbe01146458bb0a8153e15380ded": {
      "model_module": "jupyter-leaflet",
      "model_module_version": "^0.14.0",
      "model_name": "LeafletMarkerModel",
      "state": {
       "_model_module_version": "^0.14.0",
       "_view_module_version": "^0.14.0",
       "icon": "IPY_MODEL_2796f68eba8b432d97b873456d7b4198",
       "location": [
        46.98648,
        -124.56923
       ],
       "options": [
        "alt",
        "draggable",
        "keyboard",
        "rise_offset",
        "rise_on_hover",
        "rotation_angle",
        "rotation_origin",
        "title",
        "z_index_offset"
       ],
       "popup": "IPY_MODEL_d2b7701090b94399af2e9cd8a37f8601"
      }
     },
     "da4e4fe6a1954232aedb4d2d528f45fc": {
      "model_module": "jupyter-leaflet",
      "model_module_version": "^0.14.0",
      "model_name": "LeafletMarkerModel",
      "state": {
       "_model_module_version": "^0.14.0",
       "_view_module_version": "^0.14.0",
       "icon": "IPY_MODEL_022607fca4174368b0b43d21c61d8c9f",
       "location": [
        44.37415,
        -124.95648
       ],
       "options": [
        "alt",
        "draggable",
        "keyboard",
        "rise_offset",
        "rise_on_hover",
        "rotation_angle",
        "rotation_origin",
        "title",
        "z_index_offset"
       ],
       "popup": "IPY_MODEL_ac2347c0b606419e84644461e9d8c832"
      }
     },
     "da5c7bd873de4fd9a13208048e5cf20c": {
      "model_module": "@jupyter-widgets/base",
      "model_module_version": "1.2.0",
      "model_name": "LayoutModel",
      "state": {}
     },
     "da837a7b5efe4b1fb96ff30fa8b4fdbe": {
      "model_module": "@jupyter-widgets/controls",
      "model_module_version": "1.5.0",
      "model_name": "HTMLModel",
      "state": {
       "layout": "IPY_MODEL_de1f0260f24649f6b8e0adea9a8cc856",
       "style": "IPY_MODEL_45471fec74f9412186372f300bbde4a0",
       "value": "<table border=\"1\" class=\"dataframe table table-striped table-hover table-condensed table-responsive\">\n  <thead>\n    <tr style=\"text-align: right;\">\n      <th></th>\n      <th>67</th>\n    </tr>\n  </thead>\n  <tbody>\n    <tr>\n      <th>Institution</th>\n      <td>Observing System Monitoring Center (OSMC)</td>\n    </tr>\n    <tr>\n      <th>Dataset ID</th>\n      <td>osmc_46100</td>\n    </tr>\n  </tbody>\n</table>"
      }
     },
     "dafa041288964e4e8162f9afc30efd32": {
      "model_module": "@jupyter-widgets/base",
      "model_module_version": "1.2.0",
      "model_name": "LayoutModel",
      "state": {}
     },
     "db0f479fc490459a83b28d1e2771a486": {
      "model_module": "@jupyter-widgets/controls",
      "model_module_version": "1.5.0",
      "model_name": "HTMLModel",
      "state": {
       "layout": "IPY_MODEL_979f62ac97014357aa68366c12a31c0b",
       "style": "IPY_MODEL_c4f2cd1075ec4710adea0505ada84bcc",
       "value": "<table border=\"1\" class=\"dataframe table table-striped table-hover table-condensed table-responsive\">\n  <thead>\n    <tr style=\"text-align: right;\">\n      <th></th>\n      <th>63</th>\n    </tr>\n  </thead>\n  <tbody>\n    <tr>\n      <th>Institution</th>\n      <td>Center for Coastal Margin Observation &amp; Prediction</td>\n    </tr>\n    <tr>\n      <th>Dataset ID</th>\n      <td>org_cmop_46096</td>\n    </tr>\n  </tbody>\n</table>"
      }
     },
     "db8166393adf4a35bb72cc49c6a44e6f": {
      "model_module": "@jupyter-widgets/controls",
      "model_module_version": "1.5.0",
      "model_name": "HTMLModel",
      "state": {
       "layout": "IPY_MODEL_c53c59a50cde4a8185c44ce5b961158a",
       "style": "IPY_MODEL_c6f7f0135e47442b9865f28070b6f626",
       "value": "<table border=\"1\" class=\"dataframe table table-striped table-hover table-condensed table-responsive\">\n  <thead>\n    <tr style=\"text-align: right;\">\n      <th></th>\n      <th>70</th>\n    </tr>\n  </thead>\n  <tbody>\n    <tr>\n      <th>Institution</th>\n      <td>Northwest Association of Networked Ocean Observing Systems (NANOOS)</td>\n    </tr>\n    <tr>\n      <th>Dataset ID</th>\n      <td>nanoos_apl_nemo</td>\n    </tr>\n  </tbody>\n</table>"
      }
     },
     "dc5ef83a7e984cf69339e718365a003b": {
      "model_module": "@jupyter-widgets/controls",
      "model_module_version": "1.5.0",
      "model_name": "DescriptionStyleModel",
      "state": {
       "description_width": ""
      }
     },
     "dca36b3a177942008bbcd0400f66df44": {
      "model_module": "jupyter-leaflet",
      "model_module_version": "^0.14.0",
      "model_name": "LeafletMarkerModel",
      "state": {
       "_model_module_version": "^0.14.0",
       "_view_module_version": "^0.14.0",
       "icon": "IPY_MODEL_000c566733974efcbbca18a4f829d5c3",
       "location": [
        46.98648,
        -124.56923
       ],
       "options": [
        "alt",
        "draggable",
        "keyboard",
        "rise_offset",
        "rise_on_hover",
        "rotation_angle",
        "rotation_origin",
        "title",
        "z_index_offset"
       ],
       "popup": "IPY_MODEL_4bed049a98734b3c83d1fcc28efa4b30"
      }
     },
     "dcda954c33e24f0aaf906314ba248204": {
      "model_module": "jupyter-leaflet",
      "model_module_version": "^0.14.0",
      "model_name": "LeafletAwesomeIconModel",
      "state": {
       "_model_module_version": "^0.14.0",
       "_view_module_version": "^0.14.0",
       "icon_color": "white",
       "marker_color": "orange",
       "name": "life-ring"
      }
     },
     "dce874a742c84876bbd4e7fc1ece82ca": {
      "model_module": "jupyter-leaflet",
      "model_module_version": "^0.14.0",
      "model_name": "LeafletAwesomeIconModel",
      "state": {
       "_model_module_version": "^0.14.0",
       "_view_module_version": "^0.14.0",
       "icon_color": "white",
       "marker_color": "orange",
       "name": "life-ring"
      }
     },
     "dcfa7173384741ff9c245198444a1603": {
      "model_module": "@jupyter-widgets/controls",
      "model_module_version": "1.5.0",
      "model_name": "DescriptionStyleModel",
      "state": {
       "description_width": ""
      }
     },
     "dd1c98dbd27d4d3a892b2f437633853b": {
      "model_module": "@jupyter-widgets/controls",
      "model_module_version": "1.5.0",
      "model_name": "DescriptionStyleModel",
      "state": {
       "description_width": ""
      }
     },
     "dd24b09fc4f14472b8c0b9258d4f0306": {
      "model_module": "jupyter-leaflet",
      "model_module_version": "^0.14.0",
      "model_name": "LeafletMarkerModel",
      "state": {
       "_model_module_version": "^0.14.0",
       "_view_module_version": "^0.14.0",
       "icon": "IPY_MODEL_0e1ba6a13357428fafd0a67cb5dad4e3",
       "location": [
        46.851,
        -124.972
       ],
       "options": [
        "alt",
        "draggable",
        "keyboard",
        "rise_offset",
        "rise_on_hover",
        "rotation_angle",
        "rotation_origin",
        "title",
        "z_index_offset"
       ],
       "popup": "IPY_MODEL_91e1dc5a9c414da085f7c7a6ad3e6d22"
      }
     },
     "dd5d3ead7f1d49ee97bc13668f17c07b": {
      "model_module": "jupyter-leaflet",
      "model_module_version": "^0.14.0",
      "model_name": "LeafletAwesomeIconModel",
      "state": {
       "_model_module_version": "^0.14.0",
       "_view_module_version": "^0.14.0",
       "icon_color": "white",
       "marker_color": "orange",
       "name": "life-ring"
      }
     },
     "dd6c36cf6ea142de99f5f7da48aad95e": {
      "model_module": "jupyter-leaflet",
      "model_module_version": "^0.14.0",
      "model_name": "LeafletMarkerModel",
      "state": {
       "_model_module_version": "^0.14.0",
       "_view_module_version": "^0.14.0",
       "icon": "IPY_MODEL_0f230c4b6ce846359d4d6f409b6495bc",
       "location": [
        46.98648,
        -124.56923
       ],
       "options": [
        "alt",
        "draggable",
        "keyboard",
        "rise_offset",
        "rise_on_hover",
        "rotation_angle",
        "rotation_origin",
        "title",
        "z_index_offset"
       ],
       "popup": "IPY_MODEL_67605950662847ef8147bfd0ac4e6964"
      }
     },
     "ddc7094b71ea42f396f462a7931339b4": {
      "model_module": "jupyter-leaflet",
      "model_module_version": "^0.14.0",
      "model_name": "LeafletAwesomeIconModel",
      "state": {
       "_model_module_version": "^0.14.0",
       "_view_module_version": "^0.14.0",
       "icon_color": "white",
       "marker_color": "orange",
       "name": "life-ring"
      }
     },
     "ddcfbb756dff46b9bcfdc1e44f55b2ab": {
      "model_module": "@jupyter-widgets/controls",
      "model_module_version": "1.5.0",
      "model_name": "DescriptionStyleModel",
      "state": {
       "description_width": ""
      }
     },
     "de1f0260f24649f6b8e0adea9a8cc856": {
      "model_module": "@jupyter-widgets/base",
      "model_module_version": "1.2.0",
      "model_name": "LayoutModel",
      "state": {}
     },
     "de913d32546c478491753b1f560b3846": {
      "model_module": "jupyter-leaflet",
      "model_module_version": "^0.14.0",
      "model_name": "LeafletMarkerModel",
      "state": {
       "_model_module_version": "^0.14.0",
       "_view_module_version": "^0.14.0",
       "icon": "IPY_MODEL_97812b649e004dd9a6f2c4ac02590f22",
       "location": [
        47,
        -124.6
       ],
       "options": [
        "alt",
        "draggable",
        "keyboard",
        "rise_offset",
        "rise_on_hover",
        "rotation_angle",
        "rotation_origin",
        "title",
        "z_index_offset"
       ],
       "popup": "IPY_MODEL_a8d142e106d34992a9a6a45965127d78"
      }
     },
     "de96ccce1eb74966819e7461ea06e857": {
      "model_module": "@jupyter-widgets/controls",
      "model_module_version": "1.5.0",
      "model_name": "HTMLModel",
      "state": {
       "layout": "IPY_MODEL_c664a71ac3874b3a9adc6688df5d1f25",
       "style": "IPY_MODEL_a1aeec1585034fb29cf8e3eeca8b801a",
       "value": "<table border=\"1\" class=\"dataframe table table-striped table-hover table-condensed table-responsive\">\n  <thead>\n    <tr style=\"text-align: right;\">\n      <th></th>\n      <th>0</th>\n    </tr>\n  </thead>\n  <tbody>\n    <tr>\n      <th>Institution</th>\n      <td>Ocean Observatories Initiative (OOI)</td>\n    </tr>\n    <tr>\n      <th>Dataset ID</th>\n      <td>ooi-ce01issm-rid16-02-flortd000</td>\n    </tr>\n  </tbody>\n</table>"
      }
     },
     "df246e3f653d4a50ac1a32a13133e6e3": {
      "model_module": "@jupyter-widgets/base",
      "model_module_version": "1.2.0",
      "model_name": "LayoutModel",
      "state": {}
     },
     "df39f9d558c84a6ebe385bb8b7cd11c1": {
      "model_module": "@jupyter-widgets/base",
      "model_module_version": "1.2.0",
      "model_name": "LayoutModel",
      "state": {}
     },
     "df67126acef44fc4892dec643f25964d": {
      "model_module": "jupyter-leaflet",
      "model_module_version": "^0.14.0",
      "model_name": "LeafletAwesomeIconModel",
      "state": {
       "_model_module_version": "^0.14.0",
       "_view_module_version": "^0.14.0",
       "icon_color": "white",
       "name": "life-ring"
      }
     },
     "df72b93cdbdd4b3a97ed77444991a083": {
      "model_module": "@jupyter-widgets/controls",
      "model_module_version": "1.5.0",
      "model_name": "HTMLModel",
      "state": {
       "layout": "IPY_MODEL_a847ba6adea54972abaf63237c19489c",
       "style": "IPY_MODEL_165432891a5c49f0a0849c7e84c84c98",
       "value": "<table border=\"1\" class=\"dataframe table table-striped table-hover table-condensed table-responsive\">\n  <thead>\n    <tr style=\"text-align: right;\">\n      <th></th>\n      <th>52</th>\n    </tr>\n  </thead>\n  <tbody>\n    <tr>\n      <th>Institution</th>\n      <td>Ocean Observatories Initiative (OOI)</td>\n    </tr>\n    <tr>\n      <th>Dataset ID</th>\n      <td>ooi-ce07shsm-rid27-04-dostad000</td>\n    </tr>\n  </tbody>\n</table>"
      }
     },
     "df7a5578155a4f95ad495e3b96676d21": {
      "model_module": "jupyter-leaflet",
      "model_module_version": "^0.14.0",
      "model_name": "LeafletMarkerModel",
      "state": {
       "_model_module_version": "^0.14.0",
       "_view_module_version": "^0.14.0",
       "icon": "IPY_MODEL_9d3e10fe07004019af2d251473dffdb0",
       "location": [
        47.1345,
        -124.27087
       ],
       "options": [
        "alt",
        "draggable",
        "keyboard",
        "rise_offset",
        "rise_on_hover",
        "rotation_angle",
        "rotation_origin",
        "title",
        "z_index_offset"
       ],
       "popup": "IPY_MODEL_d59a787c654f47edb3c1da04697d54b9"
      }
     },
     "e02e6a67f3944d36ab0b7b7a39efe14a": {
      "model_module": "jupyter-leaflet",
      "model_module_version": "^0.14.0",
      "model_name": "LeafletAwesomeIconModel",
      "state": {
       "_model_module_version": "^0.14.0",
       "_view_module_version": "^0.14.0",
       "icon_color": "white",
       "name": "life-ring"
      }
     },
     "e0774351ae7b4b50a63152befe58b23e": {
      "model_module": "@jupyter-widgets/controls",
      "model_module_version": "1.5.0",
      "model_name": "HTMLModel",
      "state": {
       "layout": "IPY_MODEL_53da6754ee0d44df9ed47dec59d978f5",
       "style": "IPY_MODEL_a98a61641b42459abdc6fdcbbc5be65e",
       "value": "<table border=\"1\" class=\"dataframe table table-striped table-hover table-condensed table-responsive\">\n  <thead>\n    <tr style=\"text-align: right;\">\n      <th></th>\n      <th>40</th>\n    </tr>\n  </thead>\n  <tbody>\n    <tr>\n      <th>Institution</th>\n      <td>Ocean Observatories Initiative (OOI)</td>\n    </tr>\n    <tr>\n      <th>Dataset ID</th>\n      <td>ooi-ce06issm-sbd17-06-ctdbpc000</td>\n    </tr>\n  </tbody>\n</table>"
      }
     },
     "e139c2016f984d669093dd7679e9ea00": {
      "model_module": "@jupyter-widgets/base",
      "model_module_version": "1.2.0",
      "model_name": "LayoutModel",
      "state": {}
     },
     "e15228ea30a04a66b4bff6b9017e4315": {
      "model_module": "jupyter-leaflet",
      "model_module_version": "^0.14.0",
      "model_name": "LeafletAwesomeIconModel",
      "state": {
       "_model_module_version": "^0.14.0",
       "_view_module_version": "^0.14.0",
       "icon_color": "white",
       "marker_color": "orange",
       "name": "life-ring"
      }
     },
     "e17f875765b54ce7a9cd715cb55b9f8b": {
      "model_module": "@jupyter-widgets/controls",
      "model_module_version": "1.5.0",
      "model_name": "HTMLModel",
      "state": {
       "layout": "IPY_MODEL_d24bb16c80ba45b88a7889bf9e03428f",
       "style": "IPY_MODEL_396296fbc8b34765a7c1982a9df8a75d",
       "value": "<table border=\"1\" class=\"dataframe table table-striped table-hover table-condensed table-responsive\">\n  <thead>\n    <tr style=\"text-align: right;\">\n      <th></th>\n      <th>48</th>\n    </tr>\n  </thead>\n  <tbody>\n    <tr>\n      <th>Institution</th>\n      <td>Ocean Observatories Initiative (OOI)</td>\n    </tr>\n    <tr>\n      <th>Dataset ID</th>\n      <td>ooi-ce09ossm-sbd11-06-metbka000</td>\n    </tr>\n  </tbody>\n</table>"
      }
     },
     "e22350480e1f497799cbb9c05c257a63": {
      "model_module": "jupyter-leaflet",
      "model_module_version": "^0.14.0",
      "model_name": "LeafletAwesomeIconModel",
      "state": {
       "_model_module_version": "^0.14.0",
       "_view_module_version": "^0.14.0",
       "icon_color": "white",
       "marker_color": "orange",
       "name": "life-ring"
      }
     },
     "e2364e080bb94761b3d63431f7e3d89a": {
      "model_module": "@jupyter-widgets/controls",
      "model_module_version": "1.5.0",
      "model_name": "DescriptionStyleModel",
      "state": {
       "description_width": ""
      }
     },
     "e290d8ef141f47e4a7e91d97c2d8a566": {
      "model_module": "@jupyter-widgets/controls",
      "model_module_version": "1.5.0",
      "model_name": "HTMLModel",
      "state": {
       "layout": "IPY_MODEL_9c345610220b4e1a8c5f39d78eb68708",
       "style": "IPY_MODEL_4fd06cac938e45c98ff5e52a37d40288",
       "value": "<table border=\"1\" class=\"dataframe table table-striped table-hover table-condensed table-responsive\">\n  <thead>\n    <tr style=\"text-align: right;\">\n      <th></th>\n      <th>45</th>\n    </tr>\n  </thead>\n  <tbody>\n    <tr>\n      <th>Institution</th>\n      <td>Ocean Observatories Initiative (OOI)</td>\n    </tr>\n    <tr>\n      <th>Dataset ID</th>\n      <td>ooi-ce09ossm-rid26-06-phsend000</td>\n    </tr>\n  </tbody>\n</table>"
      }
     },
     "e2a44da908064c2395c4bb0d017b4a52": {
      "model_module": "@jupyter-widgets/base",
      "model_module_version": "1.2.0",
      "model_name": "LayoutModel",
      "state": {}
     },
     "e2b561c5acbf4b36a4b797dc0a3c733e": {
      "model_module": "@jupyter-widgets/controls",
      "model_module_version": "1.5.0",
      "model_name": "HTMLModel",
      "state": {
       "layout": "IPY_MODEL_4e6985cc39834643a1bed646bf8ade32",
       "style": "IPY_MODEL_8f80fdd19dd146c0bd02540052e1931d",
       "value": "<table border=\"1\" class=\"dataframe table table-striped table-hover table-condensed table-responsive\">\n  <thead>\n    <tr style=\"text-align: right;\">\n      <th></th>\n      <th>77</th>\n    </tr>\n  </thead>\n  <tbody>\n    <tr>\n      <th>Institution</th>\n      <td>Northwest Association of Networked Ocean Observing Systems (NANOOS)</td>\n    </tr>\n    <tr>\n      <th>Dataset ID</th>\n      <td>nanoos_psi_nahcotta</td>\n    </tr>\n  </tbody>\n</table>"
      }
     },
     "e2bc74ab2a174de9b8c51c5b9a3acdad": {
      "model_module": "jupyter-leaflet",
      "model_module_version": "^0.14.0",
      "model_name": "LeafletMarkerModel",
      "state": {
       "_model_module_version": "^0.14.0",
       "_view_module_version": "^0.14.0",
       "icon": "IPY_MODEL_bf86d8cfa1cd4b93a3612e1b441a62f1",
       "location": [
        44.37868,
        -124.94508
       ],
       "options": [
        "alt",
        "draggable",
        "keyboard",
        "rise_offset",
        "rise_on_hover",
        "rotation_angle",
        "rotation_origin",
        "title",
        "z_index_offset"
       ],
       "popup": "IPY_MODEL_b9f948119e1243fb8fd187d0346a858d"
      }
     },
     "e32aa61c8de444fe88a44232daf9bc48": {
      "model_module": "@jupyter-widgets/controls",
      "model_module_version": "1.5.0",
      "model_name": "HTMLModel",
      "state": {
       "layout": "IPY_MODEL_2e7cfdaeeab84292829709e278612f7a",
       "style": "IPY_MODEL_2a6ef40f09574366adb4cd93192feb75",
       "value": "<table border=\"1\" class=\"dataframe table table-striped table-hover table-condensed table-responsive\">\n  <thead>\n    <tr style=\"text-align: right;\">\n      <th></th>\n      <th>22</th>\n    </tr>\n  </thead>\n  <tbody>\n    <tr>\n      <th>Institution</th>\n      <td>Ocean Observatories Initiative (OOI)</td>\n    </tr>\n    <tr>\n      <th>Dataset ID</th>\n      <td>ooi-ce02shbp-lj01d-06-ctdbpn106</td>\n    </tr>\n  </tbody>\n</table>"
      }
     },
     "e32c3c5593834da191485f630958a74a": {
      "model_module": "@jupyter-widgets/controls",
      "model_module_version": "1.5.0",
      "model_name": "HTMLModel",
      "state": {
       "layout": "IPY_MODEL_50bf5ca7a23a4e9581996d325fefd1cc",
       "style": "IPY_MODEL_335944ecb869430e9df30bc3c8e9a5cf",
       "value": "<table border=\"1\" class=\"dataframe table table-striped table-hover table-condensed table-responsive\">\n  <thead>\n    <tr style=\"text-align: right;\">\n      <th></th>\n      <th>59</th>\n    </tr>\n  </thead>\n  <tbody>\n    <tr>\n      <th>Institution</th>\n      <td>Ocean Observatories Initiative (OOI)</td>\n    </tr>\n    <tr>\n      <th>Dataset ID</th>\n      <td>ooi-rs01slbs-lj01a-12-ctdpfb101</td>\n    </tr>\n  </tbody>\n</table>"
      }
     },
     "e333ca75cd7643d098371f65c506b718": {
      "model_module": "@jupyter-widgets/controls",
      "model_module_version": "1.5.0",
      "model_name": "DescriptionStyleModel",
      "state": {
       "description_width": ""
      }
     },
     "e34c3c4b747a492187713e2df1bdd0e0": {
      "model_module": "jupyter-leaflet",
      "model_module_version": "^0.14.0",
      "model_name": "LeafletMarkerModel",
      "state": {
       "_model_module_version": "^0.14.0",
       "_view_module_version": "^0.14.0",
       "icon": "IPY_MODEL_9cb6cd87bf84467aa909bcf8f405403c",
       "location": [
        44.65678,
        -124.09707
       ],
       "options": [
        "alt",
        "draggable",
        "keyboard",
        "rise_offset",
        "rise_on_hover",
        "rotation_angle",
        "rotation_origin",
        "title",
        "z_index_offset"
       ],
       "popup": "IPY_MODEL_30ada9090ca442a597b20972c471a419"
      }
     },
     "e35003e5568e4f789610621f94c3a80d": {
      "model_module": "jupyter-leaflet",
      "model_module_version": "^0.14.0",
      "model_name": "LeafletMarkerModel",
      "state": {
       "_model_module_version": "^0.14.0",
       "_view_module_version": "^0.14.0",
       "icon": "IPY_MODEL_66108b623b714473986660eacc2359ea",
       "location": [
        44.65678,
        -124.09707
       ],
       "options": [
        "alt",
        "draggable",
        "keyboard",
        "rise_offset",
        "rise_on_hover",
        "rotation_angle",
        "rotation_origin",
        "title",
        "z_index_offset"
       ],
       "popup": "IPY_MODEL_d0cec5ab52304ae9b773bd4b534edc1e"
      }
     },
     "e35b0f62b2cb42c282d127e9fd2ecd9c": {
      "model_module": "jupyter-leaflet",
      "model_module_version": "^0.14.0",
      "model_name": "LeafletMarkerModel",
      "state": {
       "_model_module_version": "^0.14.0",
       "_view_module_version": "^0.14.0",
       "icon": "IPY_MODEL_09687a4ed88544779d9d48006aa78142",
       "location": [
        44.383335,
        -124.95
       ],
       "options": [
        "alt",
        "draggable",
        "keyboard",
        "rise_offset",
        "rise_on_hover",
        "rotation_angle",
        "rotation_origin",
        "title",
        "z_index_offset"
       ],
       "popup": "IPY_MODEL_0e1bad5b60ee45cdac19708016adfcd0"
      }
     },
     "e37eb850ced246b3aa160ed551d19d9e": {
      "model_module": "@jupyter-widgets/base",
      "model_module_version": "1.2.0",
      "model_name": "LayoutModel",
      "state": {}
     },
     "e38d8a833be940558cf4cc90b0b769d2": {
      "model_module": "jupyter-leaflet",
      "model_module_version": "^0.14.0",
      "model_name": "LeafletMarkerModel",
      "state": {
       "_model_module_version": "^0.14.0",
       "_view_module_version": "^0.14.0",
       "icon": "IPY_MODEL_d5885da622ad4f67aa72572aacfa8f71",
       "location": [
        44.63577,
        -124.3035
       ],
       "options": [
        "alt",
        "draggable",
        "keyboard",
        "rise_offset",
        "rise_on_hover",
        "rotation_angle",
        "rotation_origin",
        "title",
        "z_index_offset"
       ],
       "popup": "IPY_MODEL_1d585445e1104777ade67d5820a76d6c"
      }
     },
     "e3a40dcb220b49828b08d32a97b3ec53": {
      "model_module": "jupyter-leaflet",
      "model_module_version": "^0.14.0",
      "model_name": "LeafletAwesomeIconModel",
      "state": {
       "_model_module_version": "^0.14.0",
       "_view_module_version": "^0.14.0",
       "icon_color": "white",
       "marker_color": "orange",
       "name": "life-ring"
      }
     },
     "e42eceaaf7de4d838d80822957370edd": {
      "model_module": "@jupyter-widgets/controls",
      "model_module_version": "1.5.0",
      "model_name": "DescriptionStyleModel",
      "state": {
       "description_width": ""
      }
     },
     "e43e54a5cc9349c7a0047c1197988c5c": {
      "model_module": "@jupyter-widgets/base",
      "model_module_version": "1.2.0",
      "model_name": "LayoutModel",
      "state": {}
     },
     "e455647ee4e542b09978080987d9984a": {
      "model_module": "jupyter-leaflet",
      "model_module_version": "^0.14.0",
      "model_name": "LeafletMarkerModel",
      "state": {
       "_model_module_version": "^0.14.0",
       "_view_module_version": "^0.14.0",
       "icon": "IPY_MODEL_e67d08ed0f474752bdc6183d8ef715ae",
       "location": [
        44.65678,
        -124.09707
       ],
       "options": [
        "alt",
        "draggable",
        "keyboard",
        "rise_offset",
        "rise_on_hover",
        "rotation_angle",
        "rotation_origin",
        "title",
        "z_index_offset"
       ],
       "popup": "IPY_MODEL_878df87b68e34b2a910a69093914e00e"
      }
     },
     "e4b6a648ff4042b5ae956bd0493ecd5d": {
      "model_module": "jupyter-leaflet",
      "model_module_version": "^0.14.0",
      "model_name": "LeafletAwesomeIconModel",
      "state": {
       "_model_module_version": "^0.14.0",
       "_view_module_version": "^0.14.0",
       "icon_color": "white",
       "marker_color": "orange",
       "name": "life-ring"
      }
     },
     "e4d4da225e8e47b2bca6fb7e59666b7a": {
      "model_module": "@jupyter-widgets/controls",
      "model_module_version": "1.5.0",
      "model_name": "DescriptionStyleModel",
      "state": {
       "description_width": ""
      }
     },
     "e5235d1720d64852a9b813c4659dce9d": {
      "model_module": "@jupyter-widgets/controls",
      "model_module_version": "1.5.0",
      "model_name": "HTMLModel",
      "state": {
       "layout": "IPY_MODEL_ba9898ebdd724f8ca5575c4a4289148d",
       "style": "IPY_MODEL_852fcde03ae74dd7abe2c102d606c754",
       "value": "<table border=\"1\" class=\"dataframe table table-striped table-hover table-condensed table-responsive\">\n  <thead>\n    <tr style=\"text-align: right;\">\n      <th></th>\n      <th>29</th>\n    </tr>\n  </thead>\n  <tbody>\n    <tr>\n      <th>Institution</th>\n      <td>Ocean Observatories Initiative (OOI)</td>\n    </tr>\n    <tr>\n      <th>Dataset ID</th>\n      <td>ooi-ce02shsm-sbd11-06-metbka000</td>\n    </tr>\n  </tbody>\n</table>"
      }
     },
     "e5274820d4404e1bb6a40314457ab80e": {
      "model_module": "@jupyter-widgets/base",
      "model_module_version": "1.2.0",
      "model_name": "LayoutModel",
      "state": {}
     },
     "e53a6d58860a4cfc9c03028ad19307d8": {
      "model_module": "@jupyter-widgets/controls",
      "model_module_version": "1.5.0",
      "model_name": "DescriptionStyleModel",
      "state": {
       "description_width": ""
      }
     },
     "e5808ad66df34d4fb5d1424114097efb": {
      "model_module": "@jupyter-widgets/controls",
      "model_module_version": "1.5.0",
      "model_name": "HTMLModel",
      "state": {
       "layout": "IPY_MODEL_58856f54f2604328bdfe402e5d27d230",
       "style": "IPY_MODEL_b044216bca7d46b38f66c5c24284e09c",
       "value": "<table border=\"1\" class=\"dataframe table table-striped table-hover table-condensed table-responsive\">\n  <thead>\n    <tr style=\"text-align: right;\">\n      <th></th>\n      <th>15</th>\n    </tr>\n  </thead>\n  <tbody>\n    <tr>\n      <th>Institution</th>\n      <td>Ocean Observatories Initiative (OOI)</td>\n    </tr>\n    <tr>\n      <th>Dataset ID</th>\n      <td>ooi-ce04ossm-rid27-02-flortd000</td>\n    </tr>\n  </tbody>\n</table>"
      }
     },
     "e58c3378f970473dbc014420602b2306": {
      "model_module": "jupyter-leaflet",
      "model_module_version": "^0.14.0",
      "model_name": "LeafletAwesomeIconModel",
      "state": {
       "_model_module_version": "^0.14.0",
       "_view_module_version": "^0.14.0",
       "icon_color": "white",
       "marker_color": "orange",
       "name": "life-ring"
      }
     },
     "e630170b796e437391a0fe3c826b7320": {
      "model_module": "@jupyter-widgets/controls",
      "model_module_version": "1.5.0",
      "model_name": "DescriptionStyleModel",
      "state": {
       "description_width": ""
      }
     },
     "e638dcfba0754a1b96a7ebee7655aa2c": {
      "model_module": "@jupyter-widgets/base",
      "model_module_version": "1.2.0",
      "model_name": "LayoutModel",
      "state": {}
     },
     "e67d08ed0f474752bdc6183d8ef715ae": {
      "model_module": "jupyter-leaflet",
      "model_module_version": "^0.14.0",
      "model_name": "LeafletAwesomeIconModel",
      "state": {
       "_model_module_version": "^0.14.0",
       "_view_module_version": "^0.14.0",
       "icon_color": "white",
       "marker_color": "orange",
       "name": "life-ring"
      }
     },
     "e68bc21bcff84789950f8a67bb6ad16d": {
      "model_module": "@jupyter-widgets/controls",
      "model_module_version": "1.5.0",
      "model_name": "DescriptionStyleModel",
      "state": {
       "description_width": ""
      }
     },
     "e6dbb260690344b9ae20bf39754151d9": {
      "model_module": "jupyter-leaflet",
      "model_module_version": "^0.14.0",
      "model_name": "LeafletAwesomeIconModel",
      "state": {
       "_model_module_version": "^0.14.0",
       "_view_module_version": "^0.14.0",
       "icon_color": "white",
       "marker_color": "orange",
       "name": "life-ring"
      }
     },
     "e6eb66eba7474b40b6888d71fde871e8": {
      "model_module": "jupyter-leaflet",
      "model_module_version": "^0.14.0",
      "model_name": "LeafletAwesomeIconModel",
      "state": {
       "_model_module_version": "^0.14.0",
       "_view_module_version": "^0.14.0",
       "icon_color": "white",
       "marker_color": "orange",
       "name": "life-ring"
      }
     },
     "e6f4e02ad7b34a0b83aeab34305fad47": {
      "model_module": "jupyter-leaflet",
      "model_module_version": "^0.14.0",
      "model_name": "LeafletAttributionControlModel",
      "state": {
       "_model_module_version": "^0.14.0",
       "_view_module_version": "^0.14.0",
       "options": [
        "position",
        "prefix"
       ],
       "position": "bottomright",
       "prefix": "ipyleaflet"
      }
     },
     "e778e133648e4c8698cce64e40419bd1": {
      "model_module": "jupyter-leaflet",
      "model_module_version": "^0.14.0",
      "model_name": "LeafletAwesomeIconModel",
      "state": {
       "_model_module_version": "^0.14.0",
       "_view_module_version": "^0.14.0",
       "icon_color": "white",
       "marker_color": "orange",
       "name": "life-ring"
      }
     },
     "e7cce1a56e54407a959b5f99643cb981": {
      "model_module": "@jupyter-widgets/base",
      "model_module_version": "1.2.0",
      "model_name": "LayoutModel",
      "state": {}
     },
     "e7eaece9b9b24aa6acbc09f170f1d07c": {
      "model_module": "@jupyter-widgets/controls",
      "model_module_version": "1.5.0",
      "model_name": "HTMLModel",
      "state": {
       "layout": "IPY_MODEL_bd33863c4b8542ae8e6e3d14894a4122",
       "style": "IPY_MODEL_4b06e1f39038419e95f2a8d1e3b1f284",
       "value": "<table border=\"1\" class=\"dataframe table table-striped table-hover table-condensed table-responsive\">\n  <thead>\n    <tr style=\"text-align: right;\">\n      <th></th>\n      <th>56</th>\n    </tr>\n  </thead>\n  <tbody>\n    <tr>\n      <th>Institution</th>\n      <td>Ocean Observatories Initiative (OOI)</td>\n    </tr>\n    <tr>\n      <th>Dataset ID</th>\n      <td>ooi-ce07shsm-mfd37-03-dostad000</td>\n    </tr>\n  </tbody>\n</table>"
      }
     },
     "e8349f8adc7548e2adf951f3aceeba8d": {
      "model_module": "@jupyter-widgets/base",
      "model_module_version": "1.2.0",
      "model_name": "LayoutModel",
      "state": {}
     },
     "e8dcce4d5362461c9b68d8305b274207": {
      "model_module": "@jupyter-widgets/base",
      "model_module_version": "1.2.0",
      "model_name": "LayoutModel",
      "state": {}
     },
     "e9189fc217b34d18addfe6fdd3a6e1bc": {
      "model_module": "jupyter-leaflet",
      "model_module_version": "^0.14.0",
      "model_name": "LeafletAwesomeIconModel",
      "state": {
       "_model_module_version": "^0.14.0",
       "_view_module_version": "^0.14.0",
       "icon_color": "white",
       "marker_color": "orange",
       "name": "life-ring"
      }
     },
     "e91a100b90e44f2cb217f9f1bef03cfb": {
      "model_module": "jupyter-leaflet",
      "model_module_version": "^0.14.0",
      "model_name": "LeafletAwesomeIconModel",
      "state": {
       "_model_module_version": "^0.14.0",
       "_view_module_version": "^0.14.0",
       "icon_color": "white",
       "marker_color": "orange",
       "name": "life-ring"
      }
     },
     "e9240bd2ac7e4d8ea47310c197081101": {
      "model_module": "jupyter-leaflet",
      "model_module_version": "^0.14.0",
      "model_name": "LeafletMarkerModel",
      "state": {
       "_model_module_version": "^0.14.0",
       "_view_module_version": "^0.14.0",
       "icon": "IPY_MODEL_b67e13198006429084fafe17333a6377",
       "location": [
        46.851,
        -124.972
       ],
       "options": [
        "alt",
        "draggable",
        "keyboard",
        "rise_offset",
        "rise_on_hover",
        "rotation_angle",
        "rotation_origin",
        "title",
        "z_index_offset"
       ],
       "popup": "IPY_MODEL_da837a7b5efe4b1fb96ff30fa8b4fdbe"
      }
     },
     "e92be4a4357e467086589813c3eb079e": {
      "model_module": "jupyter-leaflet",
      "model_module_version": "^0.14.0",
      "model_name": "LeafletMapModel",
      "state": {
       "_model_module_version": "^0.14.0",
       "_view_module_version": "^0.14.0",
       "bottom": 6061,
       "center": [
        45.5,
        -125.375
       ],
       "controls": [
        "IPY_MODEL_1cba6ba148064795a5874c68d20d71ec",
        "IPY_MODEL_e6f4e02ad7b34a0b83aeab34305fad47",
        "IPY_MODEL_bda83f21ccc94af982f2bb93d09e5911",
        "IPY_MODEL_62c6251acc89458ba08d7b56824e95fd"
       ],
       "default_style": "IPY_MODEL_7cbc68b1930f4ae89b8194594e9d7fab",
       "dragging_style": "IPY_MODEL_901ebcb74fe940be8d825a330b2488c3",
       "east": -115.04882812500001,
       "fullscreen": false,
       "interpolation": "bilinear",
       "layers": [
        "IPY_MODEL_ae4c5a2abfba48199e91dd3da0e21af2",
        "IPY_MODEL_9e126f0061c24e3491de1bdf8060408d",
        "IPY_MODEL_49cdc158a2434ce687c602126a62be8f",
        "IPY_MODEL_0c45d13d92b7457198728b1b567ae935",
        "IPY_MODEL_e35b0f62b2cb42c282d127e9fd2ecd9c",
        "IPY_MODEL_b87893eeb2794a59b3bfd80491c3287f",
        "IPY_MODEL_e9240bd2ac7e4d8ea47310c197081101",
        "IPY_MODEL_d6382f5d865a4de9b9482f51983a61f8",
        "IPY_MODEL_d1b42f5f7e7d41c7aab2ea94d4b2ff32",
        "IPY_MODEL_d70aaaeb81e344b9af3384ce65e8e44e",
        "IPY_MODEL_c159fe8cb33749098f0ec8b4cbb91bb9",
        "IPY_MODEL_2c48f3136b8d4ab586145cd15a6cbe03",
        "IPY_MODEL_41055f714f844755ad9fe699896dc030",
        "IPY_MODEL_943b851d85df444f884cef3082da0b6f",
        "IPY_MODEL_722418cd08b94e40a030fa2fb25e384d",
        "IPY_MODEL_ece89d306ba54253bdbaa6475360ff38",
        "IPY_MODEL_4039499a3f40404b868024dd5857caf6",
        "IPY_MODEL_5fc176a6a0704515978c714b277f9180",
        "IPY_MODEL_ac9b4c388c8943efb950863fadd88762",
        "IPY_MODEL_9e09ef4667e94611b52fa4bd9e567927",
        "IPY_MODEL_9fb7dbf18a1847648f008022f6f4a10a",
        "IPY_MODEL_5dbfcb32d39a4f35b16e112ef2ca2df3",
        "IPY_MODEL_e455647ee4e542b09978080987d9984a",
        "IPY_MODEL_baa65a5a7e284ee8af8e99e5f722608c",
        "IPY_MODEL_7ae96e9b3b7244d380321b6f87ad923c",
        "IPY_MODEL_55dd7c8b10224305b86b58f010a08851",
        "IPY_MODEL_b3f1e94f23d84ba3a40fc4240ea5523f",
        "IPY_MODEL_1104c4584af34b2ca66421355226c700",
        "IPY_MODEL_a56aea5adfcb4082ac6055572e6e778a",
        "IPY_MODEL_4cc4ff1540dd444bae123ca0102b7d9f",
        "IPY_MODEL_2479132ef3204440bf47bebec1c6ba71",
        "IPY_MODEL_b33ac0de0ca842b3bcb8e647839efff2",
        "IPY_MODEL_fd1358b1400343e79f3e3f3d477d0953",
        "IPY_MODEL_ec8065aec9834e25a682e6d1e7410aa5",
        "IPY_MODEL_c5e2fb4449b749e494cf66b5c164522d",
        "IPY_MODEL_813f8478dd594bd9856b452d20737369",
        "IPY_MODEL_aab56ea1038240a9b8a1b101d7c3c272",
        "IPY_MODEL_d13a34ad46334c68860b7681ff0630e2",
        "IPY_MODEL_19680e6401494c72835c736762679c28",
        "IPY_MODEL_607450c17c774ddca93507e0f2663632",
        "IPY_MODEL_215bf20e76bb432384887629e0ef7812",
        "IPY_MODEL_1b194dd5b0434ca1be76a573f64ff25c",
        "IPY_MODEL_af4db57052f64b868c7f6fd70e1f1296",
        "IPY_MODEL_00d88b6e3b4b4a3dbb0f9f3f0a79d191",
        "IPY_MODEL_357e937e0cdf47efb2632b6a49ef7077",
        "IPY_MODEL_96e58286ff724a0db9eef00ac8763f3b",
        "IPY_MODEL_48076a922847433797f01cea89ab1a07",
        "IPY_MODEL_33a6c2e3c84c43ce9c146c60d237e1d1",
        "IPY_MODEL_2be1db1b3baf43a997d822ad650e28f7",
        "IPY_MODEL_0eba3b088c854b43bfb6d5aee87d5876",
        "IPY_MODEL_df7a5578155a4f95ad495e3b96676d21",
        "IPY_MODEL_6f638434d7c4412ab60ab344515c0e74",
        "IPY_MODEL_c7acd5a10d75464c9919d8d87d1f03c5",
        "IPY_MODEL_411945d2d59549909a5a5685686ad511",
        "IPY_MODEL_127a3ddb40974c88829f163bc52abb87",
        "IPY_MODEL_35e3760054604860896c905843f77b6e",
        "IPY_MODEL_11bd60b9cf6743bfb404c831db78d422",
        "IPY_MODEL_53bdc239629c4db8a038f544eed2e418",
        "IPY_MODEL_b8d9b90458074896a477798eb9e80a4a",
        "IPY_MODEL_d2c9511f951647cd9bf6259b5c171e5a",
        "IPY_MODEL_16e8d95070084fe7bf028fa3791188ea",
        "IPY_MODEL_cbb4aa9101a04c4ca0eb3ed310b1db3e",
        "IPY_MODEL_3e380d02376c4326902628d679699ac5",
        "IPY_MODEL_60e5b946d96248b3aeaad7c72bebbd0c",
        "IPY_MODEL_94f9b5845c244c0380dd14e46491cab1",
        "IPY_MODEL_672cc270cc174f88bc31fa9eecf86a4b",
        "IPY_MODEL_dca36b3a177942008bbcd0400f66df44",
        "IPY_MODEL_814ba44715004949b0525400ea18c69c",
        "IPY_MODEL_7272c877527a4baea9b8b42631073b10",
        "IPY_MODEL_a7908fc2a9584df483e197bfb046e1f7",
        "IPY_MODEL_8dbb1d500af242e3a8ad69f4bbbf7055",
        "IPY_MODEL_360597908d3a4d5088ad6ee08e5d9ca6",
        "IPY_MODEL_da29dbe01146458bb0a8153e15380ded",
        "IPY_MODEL_2956f395582e440e9c88a569de3dcaca",
        "IPY_MODEL_ef0f741936874b13b76674ef79d9c6da",
        "IPY_MODEL_6a2c38ac755747e2b914333e962dc2fb",
        "IPY_MODEL_8f3e245cd2e7460682785e398bdac883",
        "IPY_MODEL_008064f8267f400bbb986047cd68ecbe"
       ],
       "layout": "IPY_MODEL_69c7d4a69a594d6ca1db2cb2141fbc40",
       "left": 2017,
       "modisdate": "yesterday",
       "north": 48.50204750525715,
       "options": [
        "bounce_at_zoom_limits",
        "box_zoom",
        "center",
        "close_popup_on_click",
        "double_click_zoom",
        "dragging",
        "fullscreen",
        "inertia",
        "inertia_deceleration",
        "inertia_max_speed",
        "interpolation",
        "keyboard",
        "keyboard_pan_offset",
        "keyboard_zoom_offset",
        "max_zoom",
        "min_zoom",
        "scroll_wheel_zoom",
        "tap",
        "tap_tolerance",
        "touch_zoom",
        "world_copy_jump",
        "zoom",
        "zoom_animation_threshold",
        "zoom_delta",
        "zoom_snap",
        "zoom_start"
       ],
       "right": 2956,
       "south": 42.342305278572816,
       "style": "IPY_MODEL_5a354da6908b40048124ad48fffed013",
       "top": 5661,
       "west": -135.68115234375003,
       "window_url": "http://localhost:8888/notebooks/data_access_notebooks/2021-10-19-multiple-erddap-search.ipynb",
       "zoom": 6
      }
     },
     "e9716236274742d484d68bfa957ac9f6": {
      "model_module": "jupyter-leaflet",
      "model_module_version": "^0.14.0",
      "model_name": "LeafletMarkerModel",
      "state": {
       "_model_module_version": "^0.14.0",
       "_view_module_version": "^0.14.0",
       "icon": "IPY_MODEL_89f69f24f0ad4d84947cb0f1490b1ab5",
       "location": [
        44.65678,
        -124.09707
       ],
       "options": [
        "alt",
        "draggable",
        "keyboard",
        "rise_offset",
        "rise_on_hover",
        "rotation_angle",
        "rotation_origin",
        "title",
        "z_index_offset"
       ],
       "popup": "IPY_MODEL_47e389d8c25540439543dd971d758013"
      }
     },
     "e97d1a518ee84d2db9085fcedaae76a5": {
      "model_module": "jupyter-leaflet",
      "model_module_version": "^0.14.0",
      "model_name": "LeafletAwesomeIconModel",
      "state": {
       "_model_module_version": "^0.14.0",
       "_view_module_version": "^0.14.0",
       "icon_color": "white",
       "marker_color": "orange",
       "name": "life-ring"
      }
     },
     "e98dbb22729a4bafb2b6c7a18f386778": {
      "model_module": "jupyter-leaflet",
      "model_module_version": "^0.14.0",
      "model_name": "LeafletAwesomeIconModel",
      "state": {
       "_model_module_version": "^0.14.0",
       "_view_module_version": "^0.14.0",
       "icon_color": "white",
       "marker_color": "orange",
       "name": "life-ring"
      }
     },
     "e9c0fa7e443646ca8915c55bbe110704": {
      "model_module": "@jupyter-widgets/controls",
      "model_module_version": "1.5.0",
      "model_name": "DescriptionStyleModel",
      "state": {
       "description_width": ""
      }
     },
     "eb7bb0e67cd14844ac2ccebccdc9ac23": {
      "model_module": "jupyter-leaflet",
      "model_module_version": "^0.14.0",
      "model_name": "LeafletMarkerModel",
      "state": {
       "_model_module_version": "^0.14.0",
       "_view_module_version": "^0.14.0",
       "icon": "IPY_MODEL_2aaeff64713b439a8bd162bdaa960780",
       "location": [
        47.1345,
        -124.27087
       ],
       "options": [
        "alt",
        "draggable",
        "keyboard",
        "rise_offset",
        "rise_on_hover",
        "rotation_angle",
        "rotation_origin",
        "title",
        "z_index_offset"
       ],
       "popup": "IPY_MODEL_ab88d6fb19c34c8986da9b1223b0dfa7"
      }
     },
     "ebc891354dd046cd89e9bd2fc22d90c1": {
      "model_module": "jupyter-leaflet",
      "model_module_version": "^0.14.0",
      "model_name": "LeafletZoomControlModel",
      "state": {
       "_model_module_version": "^0.14.0",
       "_view_module_version": "^0.14.0",
       "options": [
        "position",
        "zoom_in_text",
        "zoom_in_title",
        "zoom_out_text",
        "zoom_out_title"
       ]
      }
     },
     "ebe499337cae4db986be39d8aa9051ac": {
      "model_module": "@jupyter-widgets/controls",
      "model_module_version": "1.5.0",
      "model_name": "HTMLModel",
      "state": {
       "layout": "IPY_MODEL_79db8c90898a497a96f48d13e4382152",
       "style": "IPY_MODEL_1043606736a74e06afab119b8e11fb83",
       "value": "<table border=\"1\" class=\"dataframe table table-striped table-hover table-condensed table-responsive\">\n  <thead>\n    <tr style=\"text-align: right;\">\n      <th></th>\n      <th>48</th>\n    </tr>\n  </thead>\n  <tbody>\n    <tr>\n      <th>Institution</th>\n      <td>Ocean Observatories Initiative (OOI)</td>\n    </tr>\n    <tr>\n      <th>Dataset ID</th>\n      <td>ooi-ce09ossm-sbd11-06-metbka000</td>\n    </tr>\n  </tbody>\n</table>"
      }
     },
     "ebf89407974249e1948e449c7f8948a1": {
      "model_module": "@jupyter-widgets/controls",
      "model_module_version": "1.5.0",
      "model_name": "HTMLModel",
      "state": {
       "layout": "IPY_MODEL_aedeb714be044e67ac5912e5b51fc3f6",
       "style": "IPY_MODEL_7f45618d5dc64eb59e9121fbb79e6aa8",
       "value": "<table border=\"1\" class=\"dataframe table table-striped table-hover table-condensed table-responsive\">\n  <thead>\n    <tr style=\"text-align: right;\">\n      <th></th>\n      <th>51</th>\n    </tr>\n  </thead>\n  <tbody>\n    <tr>\n      <th>Institution</th>\n      <td>Ocean Observatories Initiative (OOI)</td>\n    </tr>\n    <tr>\n      <th>Dataset ID</th>\n      <td>ooi-ce07shsm-rid27-03-ctdbpc000</td>\n    </tr>\n  </tbody>\n</table>"
      }
     },
     "ec4860e4847c41fea4b9acde6b481c8a": {
      "model_module": "@jupyter-widgets/base",
      "model_module_version": "1.2.0",
      "model_name": "LayoutModel",
      "state": {}
     },
     "ec4fcc29cc324dc9bda9ddc330f841b9": {
      "model_module": "@jupyter-widgets/base",
      "model_module_version": "1.2.0",
      "model_name": "LayoutModel",
      "state": {}
     },
     "ec60dbdba2b047b19a0b7066f6ad05bc": {
      "model_module": "jupyter-leaflet",
      "model_module_version": "^0.14.0",
      "model_name": "LeafletAwesomeIconModel",
      "state": {
       "_model_module_version": "^0.14.0",
       "_view_module_version": "^0.14.0",
       "icon_color": "white",
       "marker_color": "orange",
       "name": "life-ring"
      }
     },
     "ec6df6cdc7f442ddad296f5b2d7fab44": {
      "model_module": "@jupyter-widgets/base",
      "model_module_version": "1.2.0",
      "model_name": "LayoutModel",
      "state": {}
     },
     "ec8065aec9834e25a682e6d1e7410aa5": {
      "model_module": "jupyter-leaflet",
      "model_module_version": "^0.14.0",
      "model_name": "LeafletMarkerModel",
      "state": {
       "_model_module_version": "^0.14.0",
       "_view_module_version": "^0.14.0",
       "icon": "IPY_MODEL_a6d4c5d15a6c4a3a9ffb255981325c09",
       "location": [
        44.37868,
        -124.94508
       ],
       "options": [
        "alt",
        "draggable",
        "keyboard",
        "rise_offset",
        "rise_on_hover",
        "rotation_angle",
        "rotation_origin",
        "title",
        "z_index_offset"
       ],
       "popup": "IPY_MODEL_0bfad5ffb75d4b348db1f3ea3e8a9b23"
      }
     },
     "ec83e34ca5064535a9358af1d24038dd": {
      "model_module": "jupyter-leaflet",
      "model_module_version": "^0.14.0",
      "model_name": "LeafletAwesomeIconModel",
      "state": {
       "_model_module_version": "^0.14.0",
       "_view_module_version": "^0.14.0",
       "icon_color": "white",
       "name": "life-ring"
      }
     },
     "ece89d306ba54253bdbaa6475360ff38": {
      "model_module": "jupyter-leaflet",
      "model_module_version": "^0.14.0",
      "model_name": "LeafletMarkerModel",
      "state": {
       "_model_module_version": "^0.14.0",
       "_view_module_version": "^0.14.0",
       "icon": "IPY_MODEL_5d98fe9e931043d1af2636e8c7172146",
       "location": [
        46.5007019042969,
        -124.030403137207
       ],
       "options": [
        "alt",
        "draggable",
        "keyboard",
        "rise_offset",
        "rise_on_hover",
        "rotation_angle",
        "rotation_origin",
        "title",
        "z_index_offset"
       ],
       "popup": "IPY_MODEL_6c8dfecfd9ff4fac99f1bc2c42a4946b"
      }
     },
     "ecfcf2a1be5c485e95e3fc0c93346d3a": {
      "model_module": "@jupyter-widgets/controls",
      "model_module_version": "1.5.0",
      "model_name": "HTMLModel",
      "state": {
       "layout": "IPY_MODEL_fef356b07ab34d1b8c051cbbfabbcb2a",
       "style": "IPY_MODEL_2b395b824f974c1f91039a8d93077021",
       "value": "<table border=\"1\" class=\"dataframe table table-striped table-hover table-condensed table-responsive\">\n  <thead>\n    <tr style=\"text-align: right;\">\n      <th></th>\n      <th>41</th>\n    </tr>\n  </thead>\n  <tbody>\n    <tr>\n      <th>Institution</th>\n      <td>Ocean Observatories Initiative (OOI)</td>\n    </tr>\n    <tr>\n      <th>Dataset ID</th>\n      <td>ooi-ce09ossm-rid27-02-flortd000</td>\n    </tr>\n  </tbody>\n</table>"
      }
     },
     "ed23be8138f841acb09fe1d1e20c97a7": {
      "model_module": "@jupyter-widgets/base",
      "model_module_version": "1.2.0",
      "model_name": "LayoutModel",
      "state": {}
     },
     "ed584080d0bd4ee1a6ef802b35a194d6": {
      "model_module": "@jupyter-widgets/controls",
      "model_module_version": "1.5.0",
      "model_name": "HTMLModel",
      "state": {
       "layout": "IPY_MODEL_f4b7eb20f1f04cb2be9304a156063849",
       "style": "IPY_MODEL_0533e3a3eeb2493db09363337a4a5ab6",
       "value": "<table border=\"1\" class=\"dataframe table table-striped table-hover table-condensed table-responsive\">\n  <thead>\n    <tr style=\"text-align: right;\">\n      <th></th>\n      <th>52</th>\n    </tr>\n  </thead>\n  <tbody>\n    <tr>\n      <th>Institution</th>\n      <td>Ocean Observatories Initiative (OOI)</td>\n    </tr>\n    <tr>\n      <th>Dataset ID</th>\n      <td>ooi-ce07shsm-rid27-04-dostad000</td>\n    </tr>\n  </tbody>\n</table>"
      }
     },
     "ed6255d4dd9f4c9fb5655cb29f5b2f90": {
      "model_module": "@jupyter-widgets/controls",
      "model_module_version": "1.5.0",
      "model_name": "DescriptionStyleModel",
      "state": {
       "description_width": ""
      }
     },
     "edc7cf86a1194dab9b6a11b1b58c5b1e": {
      "model_module": "@jupyter-widgets/controls",
      "model_module_version": "1.5.0",
      "model_name": "DescriptionStyleModel",
      "state": {
       "description_width": ""
      }
     },
     "ee25211eb1b747279b2b95be90e8da83": {
      "model_module": "jupyter-leaflet",
      "model_module_version": "^0.14.0",
      "model_name": "LeafletMarkerModel",
      "state": {
       "_model_module_version": "^0.14.0",
       "_view_module_version": "^0.14.0",
       "icon": "IPY_MODEL_70e42c89e70e4406bb6430ff6e89cfba",
       "location": [
        44.37868,
        -124.94508
       ],
       "options": [
        "alt",
        "draggable",
        "keyboard",
        "rise_offset",
        "rise_on_hover",
        "rotation_angle",
        "rotation_origin",
        "title",
        "z_index_offset"
       ],
       "popup": "IPY_MODEL_40a5f409985c470a81566b83aedd582d"
      }
     },
     "ee8c9c1972da42cab4428e0fce24c5de": {
      "model_module": "@jupyter-widgets/controls",
      "model_module_version": "1.5.0",
      "model_name": "HTMLModel",
      "state": {
       "layout": "IPY_MODEL_ac918485cb29424da4c7a6ee92d32969",
       "style": "IPY_MODEL_c9866e1d370149ac91e3f4a343a9abd5",
       "value": "<table border=\"1\" class=\"dataframe table table-striped table-hover table-condensed table-responsive\">\n  <thead>\n    <tr style=\"text-align: right;\">\n      <th></th>\n      <th>80</th>\n    </tr>\n  </thead>\n  <tbody>\n    <tr>\n      <th>Institution</th>\n      <td>Northwest Association of Networked Ocean Observing Systems (NANOOS)</td>\n    </tr>\n    <tr>\n      <th>Dataset ID</th>\n      <td>nanoos_wcsh_whiskey1</td>\n    </tr>\n  </tbody>\n</table>"
      }
     },
     "ef0696ffa44045ab8335da5f51bb7271": {
      "model_module": "@jupyter-widgets/controls",
      "model_module_version": "1.5.0",
      "model_name": "DescriptionStyleModel",
      "state": {
       "description_width": ""
      }
     },
     "ef0f741936874b13b76674ef79d9c6da": {
      "model_module": "jupyter-leaflet",
      "model_module_version": "^0.14.0",
      "model_name": "LeafletMarkerModel",
      "state": {
       "_model_module_version": "^0.14.0",
       "_view_module_version": "^0.14.0",
       "icon": "IPY_MODEL_8f101794af994536b467a2bea3e56233",
       "location": [
        44.51524,
        -125.38981
       ],
       "options": [
        "alt",
        "draggable",
        "keyboard",
        "rise_offset",
        "rise_on_hover",
        "rotation_angle",
        "rotation_origin",
        "title",
        "z_index_offset"
       ],
       "popup": "IPY_MODEL_e32c3c5593834da191485f630958a74a"
      }
     },
     "ef10f7214afb46dca3987d45c725a83e": {
      "model_module": "jupyter-leaflet",
      "model_module_version": "^0.14.0",
      "model_name": "LeafletMarkerModel",
      "state": {
       "_model_module_version": "^0.14.0",
       "_view_module_version": "^0.14.0",
       "icon": "IPY_MODEL_4d72529df2b74612bc34c2768bd0dc0b",
       "location": [
        46.85367,
        -124.95935
       ],
       "options": [
        "alt",
        "draggable",
        "keyboard",
        "rise_offset",
        "rise_on_hover",
        "rotation_angle",
        "rotation_origin",
        "title",
        "z_index_offset"
       ],
       "popup": "IPY_MODEL_37bd666c60e5429a9fc469f2d6695604"
      }
     },
     "ef1b44641d5b4f799d884df771ac65a2": {
      "model_module": "jupyter-leaflet",
      "model_module_version": "^0.14.0",
      "model_name": "LeafletAwesomeIconModel",
      "state": {
       "_model_module_version": "^0.14.0",
       "_view_module_version": "^0.14.0",
       "icon_color": "white",
       "marker_color": "orange",
       "name": "life-ring"
      }
     },
     "ef273081b2414615aea3b7e84f6b41c3": {
      "model_module": "@jupyter-widgets/controls",
      "model_module_version": "1.5.0",
      "model_name": "DescriptionStyleModel",
      "state": {
       "description_width": ""
      }
     },
     "ef394cbfe731479596be966d09041484": {
      "model_module": "@jupyter-widgets/base",
      "model_module_version": "1.2.0",
      "model_name": "LayoutModel",
      "state": {}
     },
     "ef7ab8d946a84c2aa6c2dd823cb4e7f7": {
      "model_module": "@jupyter-widgets/controls",
      "model_module_version": "1.5.0",
      "model_name": "HTMLModel",
      "state": {
       "layout": "IPY_MODEL_bbc10ae0abc44226a345368ddf825a65",
       "style": "IPY_MODEL_ed6255d4dd9f4c9fb5655cb29f5b2f90",
       "value": "<table border=\"1\" class=\"dataframe table table-striped table-hover table-condensed table-responsive\">\n  <thead>\n    <tr style=\"text-align: right;\">\n      <th></th>\n      <th>70</th>\n    </tr>\n  </thead>\n  <tbody>\n    <tr>\n      <th>Institution</th>\n      <td>Northwest Association of Networked Ocean Observing Systems (NANOOS)</td>\n    </tr>\n    <tr>\n      <th>Dataset ID</th>\n      <td>nanoos_apl_nemo</td>\n    </tr>\n  </tbody>\n</table>"
      }
     },
     "efd2cc4990f646e8a3639f2a643bcbb5": {
      "model_module": "@jupyter-widgets/controls",
      "model_module_version": "1.5.0",
      "model_name": "DescriptionStyleModel",
      "state": {
       "description_width": ""
      }
     },
     "f0560707c3be4b6ea92cb127fbc6068f": {
      "model_module": "@jupyter-widgets/base",
      "model_module_version": "1.2.0",
      "model_name": "LayoutModel",
      "state": {}
     },
     "f06ea759f1e6494aa170fae8578e7825": {
      "model_module": "@jupyter-widgets/controls",
      "model_module_version": "1.5.0",
      "model_name": "DescriptionStyleModel",
      "state": {
       "description_width": ""
      }
     },
     "f072d315ab0c4d528156d68979571f06": {
      "model_module": "jupyter-leaflet",
      "model_module_version": "^0.14.0",
      "model_name": "LeafletMarkerModel",
      "state": {
       "_model_module_version": "^0.14.0",
       "_view_module_version": "^0.14.0",
       "icon": "IPY_MODEL_c69b045f75174aa1ab5ece916f834057",
       "location": [
        44.378,
        -124.946
       ],
       "options": [
        "alt",
        "draggable",
        "keyboard",
        "rise_offset",
        "rise_on_hover",
        "rotation_angle",
        "rotation_origin",
        "title",
        "z_index_offset"
       ],
       "popup": "IPY_MODEL_b9961b34d677497195af361c5717371e"
      }
     },
     "f0a3e1065cb54d3286ce5432c42acd64": {
      "model_module": "jupyter-leaflet",
      "model_module_version": "^0.14.0",
      "model_name": "LeafletMarkerModel",
      "state": {
       "_model_module_version": "^0.14.0",
       "_view_module_version": "^0.14.0",
       "icon": "IPY_MODEL_3ad236c9cd004798920b334550a868b5",
       "location": [
        46.98648,
        -124.56923
       ],
       "options": [
        "alt",
        "draggable",
        "keyboard",
        "rise_offset",
        "rise_on_hover",
        "rotation_angle",
        "rotation_origin",
        "title",
        "z_index_offset"
       ],
       "popup": "IPY_MODEL_67f0d41c67d44edfa717e1448de5459f"
      }
     },
     "f196543251ce42609ae08d33e742179e": {
      "model_module": "@jupyter-widgets/controls",
      "model_module_version": "1.5.0",
      "model_name": "DescriptionStyleModel",
      "state": {
       "description_width": ""
      }
     },
     "f19fdf630ddf45deb783d9ff107c6a5c": {
      "model_module": "jupyter-leaflet",
      "model_module_version": "^0.14.0",
      "model_name": "LeafletAwesomeIconModel",
      "state": {
       "_model_module_version": "^0.14.0",
       "_view_module_version": "^0.14.0",
       "icon_color": "white",
       "marker_color": "orange",
       "name": "life-ring"
      }
     },
     "f1abb884b026415e8ecd4cc068a10d20": {
      "model_module": "@jupyter-widgets/controls",
      "model_module_version": "1.5.0",
      "model_name": "DescriptionStyleModel",
      "state": {
       "description_width": ""
      }
     },
     "f1e5ebdc38984a28ba8c9d00e95cba47": {
      "model_module": "@jupyter-widgets/controls",
      "model_module_version": "1.5.0",
      "model_name": "HTMLModel",
      "state": {
       "layout": "IPY_MODEL_136244e338cb46dc8e08399f181b3747",
       "style": "IPY_MODEL_bde922853c24420a88d5bbc66585be03",
       "value": "<table border=\"1\" class=\"dataframe table table-striped table-hover table-condensed table-responsive\">\n  <thead>\n    <tr style=\"text-align: right;\">\n      <th></th>\n      <th>16</th>\n    </tr>\n  </thead>\n  <tbody>\n    <tr>\n      <th>Institution</th>\n      <td>Ocean Observatories Initiative (OOI)</td>\n    </tr>\n    <tr>\n      <th>Dataset ID</th>\n      <td>ooi-ce04ossm-rid27-03-ctdbpc000</td>\n    </tr>\n  </tbody>\n</table>"
      }
     },
     "f1e5f6d10dac44199e7c6b5d863fe62c": {
      "model_module": "jupyter-leaflet",
      "model_module_version": "^0.14.0",
      "model_name": "LeafletMarkerModel",
      "state": {
       "_model_module_version": "^0.14.0",
       "_view_module_version": "^0.14.0",
       "icon": "IPY_MODEL_e3a40dcb220b49828b08d32a97b3ec53",
       "location": [
        46.85367,
        -124.95935
       ],
       "options": [
        "alt",
        "draggable",
        "keyboard",
        "rise_offset",
        "rise_on_hover",
        "rotation_angle",
        "rotation_origin",
        "title",
        "z_index_offset"
       ],
       "popup": "IPY_MODEL_fee490a857f044bdbf7437d4a51555db"
      }
     },
     "f21c4f8e86344a3993b8ede0abd30f0b": {
      "model_module": "jupyter-leaflet",
      "model_module_version": "^0.14.0",
      "model_name": "LeafletMarkerModel",
      "state": {
       "_model_module_version": "^0.14.0",
       "_view_module_version": "^0.14.0",
       "icon": "IPY_MODEL_c0fc5c770bb449da812c671c3208576e",
       "location": [
        44.63708,
        -124.30595
       ],
       "options": [
        "alt",
        "draggable",
        "keyboard",
        "rise_offset",
        "rise_on_hover",
        "rotation_angle",
        "rotation_origin",
        "title",
        "z_index_offset"
       ],
       "popup": "IPY_MODEL_3135fe3929a74bc18548d33f6b76e215"
      }
     },
     "f23e936755fb4e3185fe9019978b06e0": {
      "model_module": "@jupyter-widgets/controls",
      "model_module_version": "1.5.0",
      "model_name": "DescriptionStyleModel",
      "state": {
       "description_width": ""
      }
     },
     "f250779a27fe4ba18f5fce5a7f99015a": {
      "model_module": "jupyter-leaflet",
      "model_module_version": "^0.14.0",
      "model_name": "LeafletAwesomeIconModel",
      "state": {
       "_model_module_version": "^0.14.0",
       "_view_module_version": "^0.14.0",
       "icon_color": "white",
       "marker_color": "orange",
       "name": "life-ring"
      }
     },
     "f26e56d38cea46418227712fd898df2a": {
      "model_module": "@jupyter-widgets/controls",
      "model_module_version": "1.5.0",
      "model_name": "HTMLModel",
      "state": {
       "layout": "IPY_MODEL_3d0bb074b5ca46c4a3c76a027f527841",
       "style": "IPY_MODEL_82278555a4a44389b84b2e9fa73cc584",
       "value": "<table border=\"1\" class=\"dataframe table table-striped table-hover table-condensed table-responsive\">\n  <thead>\n    <tr style=\"text-align: right;\">\n      <th></th>\n      <th>25</th>\n    </tr>\n  </thead>\n  <tbody>\n    <tr>\n      <th>Institution</th>\n      <td>Ocean Observatories Initiative (OOI)</td>\n    </tr>\n    <tr>\n      <th>Dataset ID</th>\n      <td>ooi-ce02shsm-rid27-03-ctdbpc000</td>\n    </tr>\n  </tbody>\n</table>"
      }
     },
     "f283cd16cd2640188bc2faf47e54f72f": {
      "model_module": "@jupyter-widgets/base",
      "model_module_version": "1.2.0",
      "model_name": "LayoutModel",
      "state": {}
     },
     "f291fe3a5db848ddb5e5a57ee4d0ddd8": {
      "model_module": "jupyter-leaflet",
      "model_module_version": "^0.14.0",
      "model_name": "LeafletMarkerModel",
      "state": {
       "_model_module_version": "^0.14.0",
       "_view_module_version": "^0.14.0",
       "icon": "IPY_MODEL_cb68ab5c4897422f810220a13638fbfe",
       "location": [
        46.98648,
        -124.56923
       ],
       "options": [
        "alt",
        "draggable",
        "keyboard",
        "rise_offset",
        "rise_on_hover",
        "rotation_angle",
        "rotation_origin",
        "title",
        "z_index_offset"
       ],
       "popup": "IPY_MODEL_259cffab36474ba7ac545dfe1bbb954e"
      }
     },
     "f2ba185c87e74b8aa0c5dbb00286ca1c": {
      "model_module": "@jupyter-widgets/controls",
      "model_module_version": "1.5.0",
      "model_name": "HTMLModel",
      "state": {
       "layout": "IPY_MODEL_7d4580ab835c4cbdb3945e6292277793",
       "style": "IPY_MODEL_212b8ca9bf3b432aa7efc8a18ec0998d",
       "value": "<table border=\"1\" class=\"dataframe table table-striped table-hover table-condensed table-responsive\">\n  <thead>\n    <tr style=\"text-align: right;\">\n      <th></th>\n      <th>14</th>\n    </tr>\n  </thead>\n  <tbody>\n    <tr>\n      <th>Institution</th>\n      <td>Ocean Observatories Initiative (OOI)</td>\n    </tr>\n    <tr>\n      <th>Dataset ID</th>\n      <td>ooi-ce04osps-pc01b-4b-phsena106</td>\n    </tr>\n  </tbody>\n</table>"
      }
     },
     "f2bf2bcc8f8d43aabfe2f1adb4713ac5": {
      "model_module": "jupyter-leaflet",
      "model_module_version": "^0.14.0",
      "model_name": "LeafletAwesomeIconModel",
      "state": {
       "_model_module_version": "^0.14.0",
       "_view_module_version": "^0.14.0",
       "icon_color": "white",
       "name": "life-ring"
      }
     },
     "f2db8c82d4fa46468221501b25d75b90": {
      "model_module": "@jupyter-widgets/controls",
      "model_module_version": "1.5.0",
      "model_name": "DescriptionStyleModel",
      "state": {
       "description_width": ""
      }
     },
     "f32ce08edd4544ad86582aa32bd78aba": {
      "model_module": "jupyter-leaflet",
      "model_module_version": "^0.14.0",
      "model_name": "LeafletMapModel",
      "state": {
       "_model_module_version": "^0.14.0",
       "_view_module_version": "^0.14.0",
       "bottom": 6061,
       "center": [
        45.506346901083425,
        -125.36499023437501
       ],
       "controls": [
        "IPY_MODEL_ebc891354dd046cd89e9bd2fc22d90c1",
        "IPY_MODEL_7a333b8004b14d89b9f14ce0752d127a",
        "IPY_MODEL_5f417c0f97ca418088c14601d52bab7b",
        "IPY_MODEL_80f47157902847ca8b6a0b048c84805b"
       ],
       "default_style": "IPY_MODEL_5f77465957a74eeba8f3163759d54948",
       "dragging_style": "IPY_MODEL_a21dbd62a75f499e8e274b448ad005e0",
       "east": -115.04882812500001,
       "fullscreen": false,
       "interpolation": "bilinear",
       "layers": [
        "IPY_MODEL_4839d2f1834045b78fe5c5c2f5f81cd8",
        "IPY_MODEL_faaa183d641142bda7363eaf2adf84cc",
        "IPY_MODEL_9d6ff3d90c3043b484a554918a41840b",
        "IPY_MODEL_d5c6c961c4bf420b9447be87d7c255c0",
        "IPY_MODEL_494fcc5a8d8542a2bea483f416678fbf",
        "IPY_MODEL_de913d32546c478491753b1f560b3846",
        "IPY_MODEL_213e5875ca504af487ff52452cd56d8f",
        "IPY_MODEL_3e0ca1075ffb4663a38120c9da5962c4",
        "IPY_MODEL_7031e08a68534b97a8fb7860c2a5ee45",
        "IPY_MODEL_4859fa8bfeeb427f87cccd632d6114d5",
        "IPY_MODEL_00609d0dfca54c4b995b43423f0c8128",
        "IPY_MODEL_f96c9554bcb34670a449ae4b841e1567",
        "IPY_MODEL_afdb9e3356e7467eb0df348cee96b4ca",
        "IPY_MODEL_5fd74a467afb4f32a51535b12ef54709",
        "IPY_MODEL_1219bea113664c8d843a6a547b9d3736",
        "IPY_MODEL_ab137d090dcf4659959399bae9ba859a",
        "IPY_MODEL_9d5f777b34464cc1b3a46930c90e7efc",
        "IPY_MODEL_5f6d2e22e7fe46df8f877c2da62cc022",
        "IPY_MODEL_932fd53089e04a30a6e9ab9167371a64",
        "IPY_MODEL_63496470928e44a6bf1de419328bdb38",
        "IPY_MODEL_143cf617dbcd41d983825e3ad57c7798",
        "IPY_MODEL_0e6f853556ae485598bcca048902c5df",
        "IPY_MODEL_e35003e5568e4f789610621f94c3a80d",
        "IPY_MODEL_902d820edf424c95a1ed4a4dc0c21adf",
        "IPY_MODEL_437a0d2d1ab04e2b8b5124fd4c7cb427",
        "IPY_MODEL_716d537a61a84ae08d9d21af46e0dcd2",
        "IPY_MODEL_0c7643329bd54fcb87ee8fb712b7a732",
        "IPY_MODEL_76045c41001e43f8b18b4cab857cf0bd",
        "IPY_MODEL_4787b5d0b8774c19aab9aaf429e59f5e",
        "IPY_MODEL_62986826ae6541c4979c08e2f07f8bdc",
        "IPY_MODEL_da4e4fe6a1954232aedb4d2d528f45fc",
        "IPY_MODEL_263f15aa3c5a49069b41388d1746e318",
        "IPY_MODEL_c4ea2cda5cfb46f3a1415cef7f622c63",
        "IPY_MODEL_4ac76f209ade4589baad5c9626ee4ad0",
        "IPY_MODEL_53880c03429d44f7b8c8912dcd2f664c",
        "IPY_MODEL_c95ea904f36c4f98824aa75f38a6c047",
        "IPY_MODEL_610f5cac7ae24e3388f756bbae5149e0",
        "IPY_MODEL_4c2e89a623fc4f79b5be0c6fbf07087c",
        "IPY_MODEL_f74ca910b6594624a5e710f664aab553",
        "IPY_MODEL_0132a57af6df455abfe20d703fc43ae7",
        "IPY_MODEL_2d09ce1832b54c3b802bad04f957cc90",
        "IPY_MODEL_c55a8389a57848dc9734d903bc8ce72b",
        "IPY_MODEL_4fd07458e7dc4636b38e1d47a3de980c",
        "IPY_MODEL_5e4a9193096049a699a19b6168196947",
        "IPY_MODEL_a998dbf77d684b15be33a155f48d0545",
        "IPY_MODEL_bf476ddb6bd145ebafe335b3f9d5edcd",
        "IPY_MODEL_514c39291dbf4967a05fcae5a2944f73",
        "IPY_MODEL_eb7bb0e67cd14844ac2ccebccdc9ac23",
        "IPY_MODEL_b9fbf185f6a842cb833e931ea6bddae4",
        "IPY_MODEL_a2d6b4b795434fd790780ea630795516",
        "IPY_MODEL_0862e16dfe0d4197949d716b20665c6e",
        "IPY_MODEL_61ffd26280504c789aa3afde1fa37a25",
        "IPY_MODEL_d83ed97341664545874455454ec554ed",
        "IPY_MODEL_62d45f5e1c6d42609d500015a195014e",
        "IPY_MODEL_273143f70e6641f294a0b7b80483e455",
        "IPY_MODEL_b40578c280d24d5babe680a8ce530a65",
        "IPY_MODEL_f1e5f6d10dac44199e7c6b5d863fe62c",
        "IPY_MODEL_d5f4dcd3bb55453f9c8e7e5e458cd6c9",
        "IPY_MODEL_ef10f7214afb46dca3987d45c725a83e",
        "IPY_MODEL_bd453e0618304e37aa5f60b40b5fe2a8",
        "IPY_MODEL_992d87b4e36f4c3abfe7ecff4c38a461",
        "IPY_MODEL_791a7f2c676047f1840baf8730485edb",
        "IPY_MODEL_301db70343b84e999ca2d6c600689511",
        "IPY_MODEL_caf1a892ab4e41f68a06fb49c4af08f8",
        "IPY_MODEL_fda3d7d6bd6d4012aa03856c97ca78a4",
        "IPY_MODEL_4cf0a695f7934bf5afdeaaeda2fac5d7",
        "IPY_MODEL_d1cff6656cc74062b0acbb85736d8f22",
        "IPY_MODEL_74e40a553e09452e932031a71968c56f",
        "IPY_MODEL_9eadecc6b1d149e7a9adb97705187aea",
        "IPY_MODEL_a7adb70924bd4b50a54265ed927a4785",
        "IPY_MODEL_f0a3e1065cb54d3286ce5432c42acd64",
        "IPY_MODEL_9455dd22955645b682c30d69c2e1761a",
        "IPY_MODEL_99938366c7b14768992514366c42412a",
        "IPY_MODEL_01461ad4bff64cb08999f57d6fd6e367",
        "IPY_MODEL_4d9f5066f7f54a32bf10f1ed9a2082ad",
        "IPY_MODEL_cf6fe94529134085b9570c7fb4793879",
        "IPY_MODEL_ae7a4591638d42a8b7f9610421bf68c3",
        "IPY_MODEL_3b3f133719c1491c9e695b3ee63a86c8"
       ],
       "layout": "IPY_MODEL_afe919690c6440f8b932cc2e353738f9",
       "left": 2017,
       "modisdate": "yesterday",
       "north": 48.50204750525715,
       "options": [
        "bounce_at_zoom_limits",
        "box_zoom",
        "center",
        "close_popup_on_click",
        "double_click_zoom",
        "dragging",
        "fullscreen",
        "inertia",
        "inertia_deceleration",
        "inertia_max_speed",
        "interpolation",
        "keyboard",
        "keyboard_pan_offset",
        "keyboard_zoom_offset",
        "max_zoom",
        "min_zoom",
        "scroll_wheel_zoom",
        "tap",
        "tap_tolerance",
        "touch_zoom",
        "world_copy_jump",
        "zoom",
        "zoom_animation_threshold",
        "zoom_delta",
        "zoom_snap",
        "zoom_start"
       ],
       "right": 2956,
       "south": 42.342305278572816,
       "style": "IPY_MODEL_5f77465957a74eeba8f3163759d54948",
       "top": 5661,
       "west": -135.68115234375003,
       "window_url": "http://localhost:8888/notebooks/data_access_notebooks/2021-10-19-multiple-erddap-search.ipynb",
       "zoom": 6
      }
     },
     "f32e09a887f1468db5d337b8cfd045c9": {
      "model_module": "jupyter-leaflet",
      "model_module_version": "^0.14.0",
      "model_name": "LeafletAwesomeIconModel",
      "state": {
       "_model_module_version": "^0.14.0",
       "_view_module_version": "^0.14.0",
       "icon_color": "white",
       "marker_color": "orange",
       "name": "life-ring"
      }
     },
     "f369f35f7d384cfeb53def828479948e": {
      "model_module": "jupyter-leaflet",
      "model_module_version": "^0.14.0",
      "model_name": "LeafletMarkerModel",
      "state": {
       "_model_module_version": "^0.14.0",
       "_view_module_version": "^0.14.0",
       "icon": "IPY_MODEL_60ff2a2b97ab4ed3bf6a63eb6e698ef0",
       "location": [
        46.85367,
        -124.95935
       ],
       "options": [
        "alt",
        "draggable",
        "keyboard",
        "rise_offset",
        "rise_on_hover",
        "rotation_angle",
        "rotation_origin",
        "title",
        "z_index_offset"
       ],
       "popup": "IPY_MODEL_808ee94f407a47d392fdfae8dfdea1ec"
      }
     },
     "f39d69553ce14d2da829e8844ceb6b01": {
      "model_module": "@jupyter-widgets/controls",
      "model_module_version": "1.5.0",
      "model_name": "DescriptionStyleModel",
      "state": {
       "description_width": ""
      }
     },
     "f3f099d3c487432a8a5d0775f3ab794c": {
      "model_module": "@jupyter-widgets/controls",
      "model_module_version": "1.5.0",
      "model_name": "DescriptionStyleModel",
      "state": {
       "description_width": ""
      }
     },
     "f411d98eab494d69a24c3aa3fdf7f3b4": {
      "model_module": "jupyter-leaflet",
      "model_module_version": "^0.14.0",
      "model_name": "LeafletAwesomeIconModel",
      "state": {
       "_model_module_version": "^0.14.0",
       "_view_module_version": "^0.14.0",
       "icon_color": "white",
       "marker_color": "orange",
       "name": "life-ring"
      }
     },
     "f4aa1c0d2f664d79a13fb3564c3a5376": {
      "model_module": "jupyter-leaflet",
      "model_module_version": "^0.14.0",
      "model_name": "LeafletMarkerModel",
      "state": {
       "_model_module_version": "^0.14.0",
       "_view_module_version": "^0.14.0",
       "icon": "IPY_MODEL_215f5629ef5e42f795a11985de7754ba",
       "location": [
        47.1345,
        -124.27087
       ],
       "options": [
        "alt",
        "draggable",
        "keyboard",
        "rise_offset",
        "rise_on_hover",
        "rotation_angle",
        "rotation_origin",
        "title",
        "z_index_offset"
       ],
       "popup": "IPY_MODEL_299d74596d70418eb61e57e5e1325fcb"
      }
     },
     "f4b7eb20f1f04cb2be9304a156063849": {
      "model_module": "@jupyter-widgets/base",
      "model_module_version": "1.2.0",
      "model_name": "LayoutModel",
      "state": {}
     },
     "f56a1a5cb3a441d6b58d9917df6be9e0": {
      "model_module": "jupyter-leaflet",
      "model_module_version": "^0.14.0",
      "model_name": "LeafletMapStyleModel",
      "state": {
       "_model_module_version": "^0.14.0"
      }
     },
     "f58db1e2db8b4ec79942d24da429e0ed": {
      "model_module": "@jupyter-widgets/controls",
      "model_module_version": "1.5.0",
      "model_name": "DescriptionStyleModel",
      "state": {
       "description_width": ""
      }
     },
     "f59971231aaf4f25804a0d0c6fe32a58": {
      "model_module": "@jupyter-widgets/controls",
      "model_module_version": "1.5.0",
      "model_name": "HTMLModel",
      "state": {
       "layout": "IPY_MODEL_7768ce666e3c4d79b66c93e47beb6f09",
       "style": "IPY_MODEL_509f087a98764da89c687786087da4e0",
       "value": "<table border=\"1\" class=\"dataframe table table-striped table-hover table-condensed table-responsive\">\n  <thead>\n    <tr style=\"text-align: right;\">\n      <th></th>\n      <th>69</th>\n    </tr>\n  </thead>\n  <tbody>\n    <tr>\n      <th>Institution</th>\n      <td>Northwest Association of Networked Ocean Observing Systems (NANOOS)</td>\n    </tr>\n    <tr>\n      <th>Dataset ID</th>\n      <td>nanoos_apl_chaba</td>\n    </tr>\n  </tbody>\n</table>"
      }
     },
     "f6115e22883d4a4dbb14341ef839f1e0": {
      "model_module": "@jupyter-widgets/base",
      "model_module_version": "1.2.0",
      "model_name": "LayoutModel",
      "state": {}
     },
     "f65a29f135b24c9396ed815a7426619f": {
      "model_module": "@jupyter-widgets/controls",
      "model_module_version": "1.5.0",
      "model_name": "HTMLModel",
      "state": {
       "layout": "IPY_MODEL_660c2558627f45e2a76770e0a5a3ee77",
       "style": "IPY_MODEL_da029342e08a4366bb4bc9dc933a9a49",
       "value": "<table border=\"1\" class=\"dataframe table table-striped table-hover table-condensed table-responsive\">\n  <thead>\n    <tr style=\"text-align: right;\">\n      <th></th>\n      <th>44</th>\n    </tr>\n  </thead>\n  <tbody>\n    <tr>\n      <th>Institution</th>\n      <td>Ocean Observatories Initiative (OOI)</td>\n    </tr>\n    <tr>\n      <th>Dataset ID</th>\n      <td>ooi-ce09ossm-rid26-07-nutnrb000</td>\n    </tr>\n  </tbody>\n</table>"
      }
     },
     "f662c26201674a7d88e8aaa3f316aadd": {
      "model_module": "jupyter-leaflet",
      "model_module_version": "^0.14.0",
      "model_name": "LeafletAwesomeIconModel",
      "state": {
       "_model_module_version": "^0.14.0",
       "_view_module_version": "^0.14.0",
       "icon_color": "white",
       "name": "life-ring"
      }
     },
     "f6c05e080bdd433f99b7407654abaf11": {
      "model_module": "@jupyter-widgets/base",
      "model_module_version": "1.2.0",
      "model_name": "LayoutModel",
      "state": {}
     },
     "f72c8cc40b7e466c83d27820936841e5": {
      "model_module": "@jupyter-widgets/base",
      "model_module_version": "1.2.0",
      "model_name": "LayoutModel",
      "state": {}
     },
     "f74ca910b6594624a5e710f664aab553": {
      "model_module": "jupyter-leaflet",
      "model_module_version": "^0.14.0",
      "model_name": "LeafletMarkerModel",
      "state": {
       "_model_module_version": "^0.14.0",
       "_view_module_version": "^0.14.0",
       "icon": "IPY_MODEL_351631259423424d992e08a93f1f5f2c",
       "location": [
        44.63708,
        -124.30595
       ],
       "options": [
        "alt",
        "draggable",
        "keyboard",
        "rise_offset",
        "rise_on_hover",
        "rotation_angle",
        "rotation_origin",
        "title",
        "z_index_offset"
       ],
       "popup": "IPY_MODEL_e32aa61c8de444fe88a44232daf9bc48"
      }
     },
     "f77204e141b54a80b8bfd5fa7bea8706": {
      "model_module": "@jupyter-widgets/base",
      "model_module_version": "1.2.0",
      "model_name": "LayoutModel",
      "state": {}
     },
     "f77a942184c441b8ac9623e699022199": {
      "model_module": "jupyter-leaflet",
      "model_module_version": "^0.14.0",
      "model_name": "LeafletMarkerModel",
      "state": {
       "_model_module_version": "^0.14.0",
       "_view_module_version": "^0.14.0",
       "icon": "IPY_MODEL_645c3d40b0d74a0a8f4d770b7827de95",
       "location": [
        44.65678,
        -124.09707
       ],
       "options": [
        "alt",
        "draggable",
        "keyboard",
        "rise_offset",
        "rise_on_hover",
        "rotation_angle",
        "rotation_origin",
        "title",
        "z_index_offset"
       ],
       "popup": "IPY_MODEL_aad1fd0e954748d990f4612fc055e1a3"
      }
     },
     "f7a519180ec8483e9d0c778a802da817": {
      "model_module": "@jupyter-widgets/controls",
      "model_module_version": "1.5.0",
      "model_name": "DescriptionStyleModel",
      "state": {
       "description_width": ""
      }
     },
     "f830547866dc402e9afa0e9d77f62dc3": {
      "model_module": "@jupyter-widgets/base",
      "model_module_version": "1.2.0",
      "model_name": "LayoutModel",
      "state": {}
     },
     "f893655349a0419b83ede247cfa622ee": {
      "model_module": "jupyter-leaflet",
      "model_module_version": "^0.14.0",
      "model_name": "LeafletAwesomeIconModel",
      "state": {
       "_model_module_version": "^0.14.0",
       "_view_module_version": "^0.14.0",
       "icon_color": "white",
       "marker_color": "orange",
       "name": "life-ring"
      }
     },
     "f8c37ffde7814f7098d43fd391781c02": {
      "model_module": "@jupyter-widgets/controls",
      "model_module_version": "1.5.0",
      "model_name": "DescriptionStyleModel",
      "state": {
       "description_width": ""
      }
     },
     "f8f553638cdf438da4381c30fb811271": {
      "model_module": "@jupyter-widgets/controls",
      "model_module_version": "1.5.0",
      "model_name": "DescriptionStyleModel",
      "state": {
       "description_width": ""
      }
     },
     "f943f3a8922d46aabefe0d14de872e18": {
      "model_module": "jupyter-leaflet",
      "model_module_version": "^0.14.0",
      "model_name": "LeafletMarkerModel",
      "state": {
       "_model_module_version": "^0.14.0",
       "_view_module_version": "^0.14.0",
       "icon": "IPY_MODEL_8b38a20974e040b4bff6325ad947f78e",
       "location": [
        44.3695,
        -124.95369
       ],
       "options": [
        "alt",
        "draggable",
        "keyboard",
        "rise_offset",
        "rise_on_hover",
        "rotation_angle",
        "rotation_origin",
        "title",
        "z_index_offset"
       ],
       "popup": "IPY_MODEL_266c44e6d99d43fb92c5f5b9b6b326c0"
      }
     },
     "f96c9554bcb34670a449ae4b841e1567": {
      "model_module": "jupyter-leaflet",
      "model_module_version": "^0.14.0",
      "model_name": "LeafletMarkerModel",
      "state": {
       "_model_module_version": "^0.14.0",
       "_view_module_version": "^0.14.0",
       "icon": "IPY_MODEL_87c33d4063634d1b9ca6e90835b7413a",
       "location": [
        43.3,
        -124.5
       ],
       "options": [
        "alt",
        "draggable",
        "keyboard",
        "rise_offset",
        "rise_on_hover",
        "rotation_angle",
        "rotation_origin",
        "title",
        "z_index_offset"
       ],
       "popup": "IPY_MODEL_8c2a441c46714164b532793331644032"
      }
     },
     "f9b0d951fd0b4886b8147d960982550a": {
      "model_module": "@jupyter-widgets/base",
      "model_module_version": "1.2.0",
      "model_name": "LayoutModel",
      "state": {}
     },
     "f9d1e15b352c47088a25216831a82b6d": {
      "model_module": "jupyter-leaflet",
      "model_module_version": "^0.14.0",
      "model_name": "LeafletAwesomeIconModel",
      "state": {
       "_model_module_version": "^0.14.0",
       "_view_module_version": "^0.14.0",
       "icon_color": "white",
       "marker_color": "orange",
       "name": "life-ring"
      }
     },
     "f9dabeed76b54553b3c288f1a5fecec4": {
      "model_module": "jupyter-leaflet",
      "model_module_version": "^0.14.0",
      "model_name": "LeafletMarkerModel",
      "state": {
       "_model_module_version": "^0.14.0",
       "_view_module_version": "^0.14.0",
       "icon": "IPY_MODEL_f662c26201674a7d88e8aaa3f316aadd",
       "location": [
        47,
        -124.6
       ],
       "options": [
        "alt",
        "draggable",
        "keyboard",
        "rise_offset",
        "rise_on_hover",
        "rotation_angle",
        "rotation_origin",
        "title",
        "z_index_offset"
       ],
       "popup": "IPY_MODEL_212c4348f31f4f74a4e9879d4e9cf8ca"
      }
     },
     "f9f666e3660a4d0ba39833e41f19946e": {
      "model_module": "@jupyter-widgets/controls",
      "model_module_version": "1.5.0",
      "model_name": "HTMLModel",
      "state": {
       "layout": "IPY_MODEL_0cc15c8b3ade4a6ca03edaa6bd00f079",
       "style": "IPY_MODEL_23e45ea2f8a74b6e913c499be7348b8d",
       "value": "<table border=\"1\" class=\"dataframe table table-striped table-hover table-condensed table-responsive\">\n  <thead>\n    <tr style=\"text-align: right;\">\n      <th></th>\n      <th>47</th>\n    </tr>\n  </thead>\n  <tbody>\n    <tr>\n      <th>Institution</th>\n      <td>Ocean Observatories Initiative (OOI)</td>\n    </tr>\n    <tr>\n      <th>Dataset ID</th>\n      <td>ooi-ce09ossm-mfd37-03-dostad000</td>\n    </tr>\n  </tbody>\n</table>"
      }
     },
     "fa1b7fc98986490cbf8654d9eb4ff133": {
      "model_module": "@jupyter-widgets/controls",
      "model_module_version": "1.5.0",
      "model_name": "DescriptionStyleModel",
      "state": {
       "description_width": ""
      }
     },
     "faaa183d641142bda7363eaf2adf84cc": {
      "model_module": "jupyter-leaflet",
      "model_module_version": "^0.14.0",
      "model_name": "LeafletRectangleModel",
      "state": {
       "_model_module_version": "^0.14.0",
       "_view_module_version": "^0.14.0",
       "bounds": [
        [
         43,
         -127
        ],
        [
         48,
         -123.75
        ]
       ],
       "color": "red",
       "draggable": false,
       "fill": false,
       "options": [
        "color",
        "dash_array",
        "draggable",
        "fill",
        "fill_color",
        "fill_opacity",
        "line_cap",
        "line_join",
        "no_clip",
        "opacity",
        "pointer_events",
        "smooth_factor",
        "stroke",
        "transform",
        "weight"
       ],
       "rotation": true,
       "scaling": true,
       "transform": false,
       "uniform_scaling": false
      }
     },
     "fac4a4db27a443d49f361faeb31da22e": {
      "model_module": "@jupyter-widgets/base",
      "model_module_version": "1.2.0",
      "model_name": "LayoutModel",
      "state": {}
     },
     "fae389f620a0403d8def684b2d6b7dad": {
      "model_module": "@jupyter-widgets/controls",
      "model_module_version": "1.5.0",
      "model_name": "HTMLModel",
      "state": {
       "layout": "IPY_MODEL_400a3687e7c444919b415274d49ca7fd",
       "style": "IPY_MODEL_faead9bf39a24e708552de442b5c5ba4",
       "value": "<table border=\"1\" class=\"dataframe table table-striped table-hover table-condensed table-responsive\">\n  <thead>\n    <tr style=\"text-align: right;\">\n      <th></th>\n      <th>80</th>\n    </tr>\n  </thead>\n  <tbody>\n    <tr>\n      <th>Institution</th>\n      <td>Northwest Association of Networked Ocean Observing Systems (NANOOS)</td>\n    </tr>\n    <tr>\n      <th>Dataset ID</th>\n      <td>nanoos_wcsh_whiskey1</td>\n    </tr>\n  </tbody>\n</table>"
      }
     },
     "faead9bf39a24e708552de442b5c5ba4": {
      "model_module": "@jupyter-widgets/controls",
      "model_module_version": "1.5.0",
      "model_name": "DescriptionStyleModel",
      "state": {
       "description_width": ""
      }
     },
     "faf0ffcf5b944ebdb8eb9b68459c2cb1": {
      "model_module": "@jupyter-widgets/controls",
      "model_module_version": "1.5.0",
      "model_name": "HTMLModel",
      "state": {
       "layout": "IPY_MODEL_0f73b6a0eb9c4ebab84dde07601b526c",
       "style": "IPY_MODEL_4bae186c0c8a469ca8d0723facc8e7be",
       "value": "<table border=\"1\" class=\"dataframe table table-striped table-hover table-condensed table-responsive\">\n  <thead>\n    <tr style=\"text-align: right;\">\n      <th></th>\n      <th>45</th>\n    </tr>\n  </thead>\n  <tbody>\n    <tr>\n      <th>Institution</th>\n      <td>Ocean Observatories Initiative (OOI)</td>\n    </tr>\n    <tr>\n      <th>Dataset ID</th>\n      <td>ooi-ce09ossm-rid26-06-phsend000</td>\n    </tr>\n  </tbody>\n</table>"
      }
     },
     "fb1857a1b2e8440097ad5ec53361a233": {
      "model_module": "@jupyter-widgets/controls",
      "model_module_version": "1.5.0",
      "model_name": "HTMLModel",
      "state": {
       "layout": "IPY_MODEL_5d7d51fe5754400aae1df831831590cd",
       "style": "IPY_MODEL_14c4b654c4f94b1fb59f2519d085b9b2",
       "value": "<table border=\"1\" class=\"dataframe table table-striped table-hover table-condensed table-responsive\">\n  <thead>\n    <tr style=\"text-align: right;\">\n      <th></th>\n      <th>78</th>\n    </tr>\n  </thead>\n  <tbody>\n    <tr>\n      <th>Institution</th>\n      <td>Center for Coastal Margin Observation &amp; Prediction</td>\n    </tr>\n    <tr>\n      <th>Dataset ID</th>\n      <td>org_cmop_sefo3</td>\n    </tr>\n  </tbody>\n</table>"
      }
     },
     "fb1a2d2e4c9442beb8e7a86d93ec221c": {
      "model_module": "jupyter-leaflet",
      "model_module_version": "^0.14.0",
      "model_name": "LeafletAwesomeIconModel",
      "state": {
       "_model_module_version": "^0.14.0",
       "_view_module_version": "^0.14.0",
       "icon_color": "white",
       "name": "life-ring"
      }
     },
     "fb2aac8401b24b42a70ff28d68a66a16": {
      "model_module": "@jupyter-widgets/controls",
      "model_module_version": "1.5.0",
      "model_name": "DescriptionStyleModel",
      "state": {
       "description_width": ""
      }
     },
     "fb4225fafd764da680efd8b81a0c1c91": {
      "model_module": "jupyter-leaflet",
      "model_module_version": "^0.14.0",
      "model_name": "LeafletAwesomeIconModel",
      "state": {
       "_model_module_version": "^0.14.0",
       "_view_module_version": "^0.14.0",
       "icon_color": "white",
       "marker_color": "orange",
       "name": "life-ring"
      }
     },
     "fb4ca257100940da9861e08801431be4": {
      "model_module": "@jupyter-widgets/base",
      "model_module_version": "1.2.0",
      "model_name": "LayoutModel",
      "state": {}
     },
     "fc0f29153d8744ca9231eea9c0626a60": {
      "model_module": "jupyter-leaflet",
      "model_module_version": "^0.14.0",
      "model_name": "LeafletAwesomeIconModel",
      "state": {
       "_model_module_version": "^0.14.0",
       "_view_module_version": "^0.14.0",
       "icon_color": "white",
       "marker_color": "orange",
       "name": "life-ring"
      }
     },
     "fc2a8476d257479e8123270d20970cf8": {
      "model_module": "@jupyter-widgets/controls",
      "model_module_version": "1.5.0",
      "model_name": "HTMLModel",
      "state": {
       "layout": "IPY_MODEL_17d5c68bff7f4263bd9c64a45df268ca",
       "style": "IPY_MODEL_1fd36c95c87a4f278bbac7e92abbb909",
       "value": "<table border=\"1\" class=\"dataframe table table-striped table-hover table-condensed table-responsive\">\n  <thead>\n    <tr style=\"text-align: right;\">\n      <th></th>\n      <th>71</th>\n    </tr>\n  </thead>\n  <tbody>\n    <tr>\n      <th>Institution</th>\n      <td>NOAA Pacific Marine Environmental Lab (PMEL)</td>\n    </tr>\n    <tr>\n      <th>Dataset ID</th>\n      <td>gov_ornl_cdiac_wa_125w_47n</td>\n    </tr>\n  </tbody>\n</table>"
      }
     },
     "fc715c23cedd411e9beb5549b3d292b3": {
      "model_module": "@jupyter-widgets/controls",
      "model_module_version": "1.5.0",
      "model_name": "DescriptionStyleModel",
      "state": {
       "description_width": ""
      }
     },
     "fc915bc1c11d478d89cabcb56049b4ff": {
      "model_module": "jupyter-leaflet",
      "model_module_version": "^0.14.0",
      "model_name": "LeafletMarkerModel",
      "state": {
       "_model_module_version": "^0.14.0",
       "_view_module_version": "^0.14.0",
       "icon": "IPY_MODEL_7c962f0fc6b74df1a543a5758c85a3d7",
       "location": [
        44.383335,
        -124.95
       ],
       "options": [
        "alt",
        "draggable",
        "keyboard",
        "rise_offset",
        "rise_on_hover",
        "rotation_angle",
        "rotation_origin",
        "title",
        "z_index_offset"
       ],
       "popup": "IPY_MODEL_8c47882169cb433184eb6948a6139953"
      }
     },
     "fcbd1219b9aa4394bfd1476be667eaf0": {
      "model_module": "@jupyter-widgets/controls",
      "model_module_version": "1.5.0",
      "model_name": "HTMLModel",
      "state": {
       "layout": "IPY_MODEL_e2a44da908064c2395c4bb0d017b4a52",
       "style": "IPY_MODEL_9b353ef82f834738810f38103cc3c74c",
       "value": "<table border=\"1\" class=\"dataframe table table-striped table-hover table-condensed table-responsive\">\n  <thead>\n    <tr style=\"text-align: right;\">\n      <th></th>\n      <th>36</th>\n    </tr>\n  </thead>\n  <tbody>\n    <tr>\n      <th>Institution</th>\n      <td>Ocean Observatories Initiative (OOI)</td>\n    </tr>\n    <tr>\n      <th>Dataset ID</th>\n      <td>ooi-ce06issm-mfd37-03-ctdbpc000</td>\n    </tr>\n  </tbody>\n</table>"
      }
     },
     "fcf766c7f20f44dcaf5ea1f8da12f3bf": {
      "model_module": "@jupyter-widgets/base",
      "model_module_version": "1.2.0",
      "model_name": "LayoutModel",
      "state": {}
     },
     "fd1358b1400343e79f3e3f3d477d0953": {
      "model_module": "jupyter-leaflet",
      "model_module_version": "^0.14.0",
      "model_name": "LeafletMarkerModel",
      "state": {
       "_model_module_version": "^0.14.0",
       "_view_module_version": "^0.14.0",
       "icon": "IPY_MODEL_c646a06be3664584a8b9218dd5c36ed7",
       "location": [
        44.37868,
        -124.94508
       ],
       "options": [
        "alt",
        "draggable",
        "keyboard",
        "rise_offset",
        "rise_on_hover",
        "rotation_angle",
        "rotation_origin",
        "title",
        "z_index_offset"
       ],
       "popup": "IPY_MODEL_f1e5ebdc38984a28ba8c9d00e95cba47"
      }
     },
     "fda3d7d6bd6d4012aa03856c97ca78a4": {
      "model_module": "jupyter-leaflet",
      "model_module_version": "^0.14.0",
      "model_name": "LeafletMarkerModel",
      "state": {
       "_model_module_version": "^0.14.0",
       "_view_module_version": "^0.14.0",
       "icon": "IPY_MODEL_47e8ac1a861a41e4aa519944afdbe069",
       "location": [
        46.85367,
        -124.95935
       ],
       "options": [
        "alt",
        "draggable",
        "keyboard",
        "rise_offset",
        "rise_on_hover",
        "rotation_angle",
        "rotation_origin",
        "title",
        "z_index_offset"
       ],
       "popup": "IPY_MODEL_b88c7892b886443b925f2ef98b357171"
      }
     },
     "fe5f3fbfa110468da8531ad99e194c16": {
      "model_module": "@jupyter-widgets/base",
      "model_module_version": "1.2.0",
      "model_name": "LayoutModel",
      "state": {}
     },
     "feb1556d8b2c4d6e8fc59c77cca3937c": {
      "model_module": "@jupyter-widgets/base",
      "model_module_version": "1.2.0",
      "model_name": "LayoutModel",
      "state": {}
     },
     "fee490a857f044bdbf7437d4a51555db": {
      "model_module": "@jupyter-widgets/controls",
      "model_module_version": "1.5.0",
      "model_name": "HTMLModel",
      "state": {
       "layout": "IPY_MODEL_90a718b2abc84d6e905c3f600dac8412",
       "style": "IPY_MODEL_575c9b3c7d704ec1b4fbc95f91d50960",
       "value": "<table border=\"1\" class=\"dataframe table table-striped table-hover table-condensed table-responsive\">\n  <thead>\n    <tr style=\"text-align: right;\">\n      <th></th>\n      <th>41</th>\n    </tr>\n  </thead>\n  <tbody>\n    <tr>\n      <th>Institution</th>\n      <td>Ocean Observatories Initiative (OOI)</td>\n    </tr>\n    <tr>\n      <th>Dataset ID</th>\n      <td>ooi-ce09ossm-rid27-02-flortd000</td>\n    </tr>\n  </tbody>\n</table>"
      }
     },
     "fef356b07ab34d1b8c051cbbfabbcb2a": {
      "model_module": "@jupyter-widgets/base",
      "model_module_version": "1.2.0",
      "model_name": "LayoutModel",
      "state": {}
     },
     "feff185a530d4b0d8fe72026a85e4dee": {
      "model_module": "jupyter-leaflet",
      "model_module_version": "^0.14.0",
      "model_name": "LeafletAwesomeIconModel",
      "state": {
       "_model_module_version": "^0.14.0",
       "_view_module_version": "^0.14.0",
       "icon_color": "white",
       "marker_color": "orange",
       "name": "life-ring"
      }
     },
     "ff2d135e724641f0a3f1730e5d6fa819": {
      "model_module": "@jupyter-widgets/controls",
      "model_module_version": "1.5.0",
      "model_name": "DescriptionStyleModel",
      "state": {
       "description_width": ""
      }
     },
     "ffd22d2aa36d476fa9fbd008fceece43": {
      "model_module": "@jupyter-widgets/controls",
      "model_module_version": "1.5.0",
      "model_name": "HTMLModel",
      "state": {
       "layout": "IPY_MODEL_b0b0d9ca61a449b8a4fd8ba3bf1d3336",
       "style": "IPY_MODEL_173028c1c6b342e69bda3aeff2d185f7",
       "value": "<table border=\"1\" class=\"dataframe table table-striped table-hover table-condensed table-responsive\">\n  <thead>\n    <tr style=\"text-align: right;\">\n      <th></th>\n      <th>47</th>\n    </tr>\n  </thead>\n  <tbody>\n    <tr>\n      <th>Institution</th>\n      <td>Ocean Observatories Initiative (OOI)</td>\n    </tr>\n    <tr>\n      <th>Dataset ID</th>\n      <td>ooi-ce09ossm-mfd37-03-dostad000</td>\n    </tr>\n  </tbody>\n</table>"
      }
     }
    },
    "version_major": 2,
    "version_minor": 0
   }
  }
 },
 "nbformat": 4,
 "nbformat_minor": 4
}
